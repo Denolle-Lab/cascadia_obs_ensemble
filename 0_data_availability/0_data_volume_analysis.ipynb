{
 "cells": [
  {
   "cell_type": "markdown",
   "id": "6d784fe6",
   "metadata": {},
   "source": [
    "# Data Volume Analysis for Cascadia Project\n",
    "\n",
    "This notebook analyzes the volume of data in the Cascadia project, including:\n",
    "- Actual file sizes on disk\n",
    "- Theoretical waveform data volume\n",
    "- Data distribution across different file types\n",
    "- Visualization of data volumes\n",
    "\n",
    "By Marine Denolle (mdenolle@uw.edu)"
   ]
  },
  {
   "cell_type": "code",
   "execution_count": 11,
   "id": "777dfa11",
   "metadata": {},
   "outputs": [],
   "source": [
    "# Import required libraries\n",
    "import os\n",
    "import pandas as pd\n",
    "import numpy as np\n",
    "import matplotlib.pyplot as plt\n",
    "from datetime import datetime\n",
    "from obspy.clients.fdsn import Client\n",
    "import h5py"
   ]
  },
  {
   "cell_type": "code",
   "execution_count": 17,
   "id": "4f491b74",
   "metadata": {},
   "outputs": [],
   "source": [
    "def calculate_station_days(start_date, end_date, min_lat, max_lat, min_lon, max_lon):\n",
    "    \"\"\"\n",
    "    Calculate total station-days within specified bounds using direct station search\n",
    "    \n",
    "    Parameters:\n",
    "    -----------\n",
    "    start_date : datetime\n",
    "        Start date for analysis\n",
    "    end_date : datetime\n",
    "        End date for analysis\n",
    "    min_lat : float\n",
    "        Minimum latitude\n",
    "    max_lat : float\n",
    "        Maximum latitude\n",
    "    min_lon : float\n",
    "        Minimum longitude\n",
    "    max_lon : float\n",
    "        Maximum longitude\n",
    "    \n",
    "    Returns:\n",
    "    --------\n",
    "    dict\n",
    "        Statistics about station availability\n",
    "    \"\"\"\n",
    "    client = Client(\"IRIS\")\n",
    "    total_days = 0\n",
    "    available_stations = []\n",
    "    station_details = []\n",
    "    \n",
    "    # Get all stations in the region directly\n",
    "    try:\n",
    "        inventory = client.get_stations(\n",
    "            starttime=start_date,\n",
    "            endtime=end_date,\n",
    "            minlatitude=min_lat,\n",
    "            maxlatitude=max_lat,\n",
    "            minlongitude=min_lon,\n",
    "            maxlongitude=max_lon,\n",
    "            level=\"channel\",\n",
    "            channel=\"BH?,HH?,EH?\",\n",
    "            includeavailability=True\n",
    "        )\n",
    "        \n",
    "        # Process each network\n",
    "        for network in inventory:\n",
    "            for station in network:\n",
    "                try:\n",
    "                    # Calculate station operation days\n",
    "                    sta_start = max(start_date, station.start_date.datetime)\n",
    "                    sta_end = min(end_date, station.end_date.datetime if station.end_date else end_date)\n",
    "                    \n",
    "                    days = (sta_end - sta_start).days\n",
    "                    if days > 0:\n",
    "                        total_days += days\n",
    "                        station_id = f\"{network.code}.{station.code}\"\n",
    "                        available_stations.append(station_id)\n",
    "                        \n",
    "                        # Get channel availability\n",
    "                        channels = [ch.code for ch in station.channels]\n",
    "                        \n",
    "                        station_details.append({\n",
    "                            'network': network.code,\n",
    "                            'station': station.code,\n",
    "                            'latitude': station.latitude,\n",
    "                            'longitude': station.longitude,\n",
    "                            'elevation': station.elevation,\n",
    "                            'start_date': sta_start,\n",
    "                            'end_date': sta_end,\n",
    "                            'days': days,\n",
    "                            'channels': ','.join(channels)\n",
    "                        })\n",
    "                        \n",
    "                except Exception as e:\n",
    "                    print(f\"Error processing station {network.code}.{station.code}: {e}\")\n",
    "                    continue\n",
    "                    \n",
    "    except Exception as e:\n",
    "        print(f\"Error querying stations: {e}\")\n",
    "        return None\n",
    "    \n",
    "    # Create DataFrame with station details\n",
    "    station_df = pd.DataFrame(station_details)\n",
    "    \n",
    "    # Calculate statistics\n",
    "    stats = {\n",
    "        'total_station_days': total_days,\n",
    "        'unique_stations': len(available_stations),\n",
    "        'average_days_per_station': total_days / len(available_stations) if available_stations else 0,\n",
    "        'station_details': station_df\n",
    "    }\n",
    "    \n",
    "    return stats\n",
    "\n",
    "# Example usage remains the same, but remove networks_stas parameter\n",
    "analysis_bounds = {\n",
    "    'start_date': datetime(2010, 1, 1),\n",
    "    'end_date': datetime(2015, 12, 31),\n",
    "    'min_lat': 40.0,\n",
    "    'max_lat': 50.0,\n",
    "    'min_lon': -129.0,\n",
    "    'max_lon': -122.0\n",
    "}\n",
    "\n",
    "# Calculate station days\n",
    "stats = calculate_station_days(**analysis_bounds)"
   ]
  },
  {
   "cell_type": "code",
   "execution_count": 18,
   "id": "9a8a80b5",
   "metadata": {},
   "outputs": [
    {
     "data": {
      "text/plain": [
       "{'total_station_days': 708488,\n",
       " 'unique_stations': 842,\n",
       " 'average_days_per_station': 841.4346793349168,\n",
       " 'station_details':     network station   latitude   longitude  elevation start_date  \\\n",
       " 0        3F   FLM45  44.214802 -122.254501      468.2 2010-05-18   \n",
       " 1        3F   FLM66  44.214500 -122.254402      458.1 2010-05-18   \n",
       " 2        5E   CM01A  40.722698 -123.985397      708.0 2014-10-04   \n",
       " 3        5E   CM02A  40.660801 -124.168800      122.0 2014-10-04   \n",
       " 4        5E   CM03A  40.602798 -123.959099      582.0 2014-10-04   \n",
       " ..      ...     ...        ...         ...        ...        ...   \n",
       " 837      ZZ    CW11  47.029099 -123.296700      113.0 2012-06-05   \n",
       " 838      ZZ    CW12  47.010601 -123.164597      415.0 2012-06-05   \n",
       " 839      ZZ    CW13  47.040100 -123.026604      173.0 2012-06-05   \n",
       " 840      ZZ    CW14  46.839401 -122.731201      160.0 2012-06-05   \n",
       " 841      ZZ    CW15  46.866798 -122.380600      192.0 2012-06-05   \n",
       " \n",
       "                end_date  days     channels  \n",
       " 0   2010-05-28 23:59:59    10  HHE,HHN,HHZ  \n",
       " 1   2010-05-28 23:59:59    10  HHE,HHN,HHZ  \n",
       " 2   2015-10-10 23:59:59   371  EH1,EH2,EHZ  \n",
       " 3   2015-10-11 23:59:59   372  EHE,EHN,EHZ  \n",
       " 4   2015-10-11 23:59:59   372  EH1,EH2,EHZ  \n",
       " ..                  ...   ...          ...  \n",
       " 837 2012-07-31 23:59:59    56  HHE,HHN,HHZ  \n",
       " 838 2012-07-31 23:59:59    56  HHE,HHN,HHZ  \n",
       " 839 2012-07-31 23:59:59    56  HHE,HHN,HHZ  \n",
       " 840 2012-07-31 23:59:59    56  HHE,HHN,HHZ  \n",
       " 841 2012-07-31 23:59:59    56  HHE,HHN,HHZ  \n",
       " \n",
       " [842 rows x 9 columns]}"
      ]
     },
     "execution_count": 18,
     "metadata": {},
     "output_type": "execute_result"
    }
   ],
   "source": [
    "stats"
   ]
  },
  {
   "cell_type": "code",
   "execution_count": 19,
   "id": "ec8268e4",
   "metadata": {},
   "outputs": [],
   "source": [
    "# the list of network codes analyzed\n",
    "#  \\texttt{C8}, \\texttt{7D}, \\texttt{7A}, \\texttt{CN}, \\texttt{NV}, \\texttt{UW}, \\texttt{UO}, \\texttt{NC}, \\texttt{BK}, \\texttt{TA}, \\texttt{OO}, \\texttt{PB}, \\texttt{X6}, \\texttt{Z5}, and \\texttt{X9}.\n",
    "network_codes = ['C8', '7D', '7A', 'CN', 'NV', 'UW', 'UO', 'NC', 'BK', 'TA', 'OO', 'PB', 'X6', 'Z5', 'X9']"
   ]
  },
  {
   "cell_type": "code",
   "execution_count": 20,
   "id": "7cda97c3",
   "metadata": {},
   "outputs": [
    {
     "data": {
      "text/plain": [
       "582936"
      ]
     },
     "execution_count": 20,
     "metadata": {},
     "output_type": "execute_result"
    }
   ],
   "source": [
    "# from stats exctract the total number of station-days for the specific network codes\n",
    "total_station_days = 0\n",
    "for net_code in network_codes:\n",
    "    net_stations = stats['station_details'][stats['station_details']['network'] == net_code]\n",
    "    total_station_days += net_stations['days'].sum()\n",
    "total_station_days"
   ]
  },
  {
   "cell_type": "code",
   "execution_count": 22,
   "id": "bdf8146b",
   "metadata": {},
   "outputs": [
    {
     "name": "stdout",
     "output_type": "stream",
     "text": [
      "56288.02299499512\n"
     ]
    }
   ],
   "source": [
    "# estimate how much data volume this fits for 100 Hz data with 3 channels (BH?, HH?, EH?)\n",
    "sampling_rate = 100  # samples per second\n",
    "num_channels = 3\n",
    "bytes_per_sample = 4  # assuming 32-bit float\n",
    "total_seconds = total_station_days * 24 * 3600\n",
    "total_data_volume_bytes = total_seconds * sampling_rate * num_channels * bytes_per_sample\n",
    "total_data_volume_gb = total_data_volume_bytes / (1024**3)\n",
    "print(total_data_volume_gb)"
   ]
  },
  {
   "cell_type": "markdown",
   "id": "f9e0b80c",
   "metadata": {},
   "source": [
    "stats"
   ]
  },
  {
   "cell_type": "markdown",
   "id": "82ecdfbb",
   "metadata": {},
   "source": []
  },
  {
   "cell_type": "code",
   "execution_count": 3,
   "id": "803f485c",
   "metadata": {},
   "outputs": [],
   "source": [
    "# Function to calculate theoretical waveform data volume\n",
    "def calculate_theoretical_volume():\n",
    "    \"\"\"Calculate theoretical volume of waveform data based on metadata.\"\"\"\n",
    "    try:\n",
    "        # Read the arrival data\n",
    "        data_dir = os.path.join(os.path.dirname(os.getcwd()), 'data')\n",
    "        df = pd.read_csv(os.path.join(data_dir, 'arrival_2010_2015_reloc_cog_ver3.csv'))\n",
    "        \n",
    "        # Calculate parameters\n",
    "        unique_events = df['time'].nunique()\n",
    "        sampling_rate = 100  # Hz\n",
    "        duration = 63  # seconds (3s pre + 60s post arrival)\n",
    "        channels = 3  # assuming 3 components\n",
    "        bytes_per_sample = 4  # assuming 32-bit float\n",
    "        \n",
    "        # Calculate total theoretical size\n",
    "        theoretical_size = (\n",
    "            unique_events *  # number of events\n",
    "            sampling_rate *  # samples per second\n",
    "            duration *      # seconds per trace\n",
    "            channels *      # components per station\n",
    "            bytes_per_sample  # bytes per sample\n",
    "        )\n",
    "        \n",
    "        return {\n",
    "            'unique_events': unique_events,\n",
    "            'theoretical_size': theoretical_size,\n",
    "            'parameters': {\n",
    "                'sampling_rate': sampling_rate,\n",
    "                'duration': duration,\n",
    "                'channels': channels,\n",
    "                'bytes_per_sample': bytes_per_sample\n",
    "            }\n",
    "        }\n",
    "    \n",
    "    except Exception as e:\n",
    "        print(f\"Error calculating theoretical volume: {e}\")\n",
    "        return None"
   ]
  },
  {
   "cell_type": "code",
   "execution_count": 4,
   "id": "581b0554",
   "metadata": {},
   "outputs": [
    {
     "name": "stdout",
     "output_type": "stream",
     "text": [
      "Scanning directory: /Users/marinedenolle/GitHub/cascadia_obs_ensemble/data\n",
      "Found CSV file: vel_pnsn_jdf.csv, Size: 0.00 MB\n",
      "Found CSV file: vel_or_shelf_trench.csv, Size: 0.00 MB\n",
      "Found CSV file: nodes_nwa_shelf_trench.csv, Size: 0.00 MB\n",
      "Found CSV file: nodes_pnsn_jdf.csv, Size: 0.00 MB\n",
      "Found CSV file: nodes_pnsn_sor.csv, Size: 0.00 MB\n",
      "Found CSV file: vel_or_shore.csv, Size: 0.00 MB\n",
      "Found CSV file: vel_pnsn_nor.csv, Size: 0.00 MB\n",
      "Found CSV file: nodes_swa_shore.csv, Size: 0.00 MB\n",
      "Found CSV file: jgrb52524-sup-0003-2017jb014966-ds02.csv, Size: 0.02 MB\n",
      "Found CSV file: nodes_pnsn_nor.csv, Size: 0.00 MB\n",
      "Found CSV file: nodes_or_shore.csv, Size: 0.00 MB\n",
      "Found CSV file: nodes_or_shelf_trench.csv, Size: 0.00 MB\n",
      "Found CSV file: vel_nwa_shore.csv, Size: 0.00 MB\n",
      "Found CSV file: vel_nwa_shelf_trench.csv, Size: 0.00 MB\n",
      "Found CSV file: vel_pnsn_sor.csv, Size: 0.00 MB\n",
      "Found CSV file: ds01.csv, Size: 0.55 MB\n",
      "Found CSV file: jgrb52524-sup-0004-2017jb014966-ds03.csv, Size: 0.00 MB\n",
      "Found XLSX file: ds03.xlsx, Size: 0.02 MB\n",
      "Found CSV file: nodes_nwa_shore.csv, Size: 0.00 MB\n",
      "Found CSV file: vel_swa_shore.csv, Size: 0.00 MB\n",
      "Found CSV file: vel_pnsn_wa.csv, Size: 0.00 MB\n",
      "Found CSV file: nodes_swa_shelf_trench.csv, Size: 0.00 MB\n",
      "Found CSV file: nodes_pnsn_wa.csv, Size: 0.00 MB\n",
      "Found CSV file: jgrb52524-sup-0002-2017jb014966-ds01.csv, Size: 0.03 MB\n",
      "Found CSV file: vel_swa_shelf_trench.csv, Size: 0.00 MB\n",
      "\n",
      "File Count Summary:\n",
      "CSV files: 24\n",
      "XLSX files: 1\n",
      "H5 files: 0\n",
      "MSEED files: 0\n",
      "\n",
      "File Size Summary:\n",
      "CSV files: 0.60 MB\n",
      "XLSX files: 0.02 MB\n",
      "H5 files: 0.00 MB\n",
      "MSEED files: 0.00 MB\n",
      "\n",
      "Total size of all files: 0.62 MB\n"
     ]
    }
   ],
   "source": [
    "# Calculate actual file sizes\n",
    "file_sizes, file_counts = calculate_file_sizes()\n",
    "\n",
    "# Print summary of actual files\n",
    "print(\"\\nFile Count Summary:\")\n",
    "for ext, count in file_counts.items():\n",
    "    print(f\"{ext.upper()} files: {count}\")\n",
    "\n",
    "print(\"\\nFile Size Summary:\")\n",
    "for ext, size in file_sizes.items():\n",
    "    print(f\"{ext.upper()} files: {size/1024/1024:.2f} MB\")\n",
    "\n",
    "total_size = sum(file_sizes.values())\n",
    "print(f\"\\nTotal size of all files: {total_size/1024/1024:.2f} MB\")"
   ]
  },
  {
   "cell_type": "code",
   "execution_count": 5,
   "id": "ba8472e9",
   "metadata": {},
   "outputs": [
    {
     "name": "stdout",
     "output_type": "stream",
     "text": [
      "Error calculating theoretical volume: [Errno 2] No such file or directory: '/Users/marinedenolle/GitHub/cascadia_obs_ensemble/data/arrival_2010_2015_reloc_cog_ver3.csv'\n"
     ]
    }
   ],
   "source": [
    "# Calculate theoretical volume\n",
    "theory_results = calculate_theoretical_volume()\n",
    "\n",
    "if theory_results:\n",
    "    print(\"\\nTheoretical Waveform Data Analysis:\")\n",
    "    print(f\"Number of unique events: {theory_results['unique_events']}\")\n",
    "    print(f\"Theoretical data volume: {theory_results['theoretical_size']/1024/1024:.2f} MB\")\n",
    "    print(\"\\nParameters used:\")\n",
    "    for param, value in theory_results['parameters'].items():\n",
    "        print(f\"{param}: {value}\")"
   ]
  },
  {
   "cell_type": "code",
   "execution_count": 6,
   "id": "4c474dd9",
   "metadata": {},
   "outputs": [
    {
     "data": {
      "image/png": "[encoded data removed]",
      "text/plain": [
       "<Figure size 1500x1000 with 2 Axes>"
      ]
     },
     "metadata": {},
     "output_type": "display_data"
    }
   ],
   "source": [
    "# Create visualizations of data volumes\n",
    "plt.figure(figsize=(15, 10))\n",
    "\n",
    "# Create subplot for file type distribution\n",
    "plt.subplot(2, 1, 1)\n",
    "extensions = list(file_sizes.keys())\n",
    "sizes = [size/1024/1024 for size in file_sizes.values()]  # Convert to MB\n",
    "plt.bar(extensions, sizes)\n",
    "plt.title('Data Volume by File Type')\n",
    "plt.xlabel('File Type')\n",
    "plt.ylabel('Size (MB)')\n",
    "\n",
    "# Add value labels on top of bars\n",
    "for i, size in enumerate(sizes):\n",
    "    plt.text(i, size, f'{size:.1f} MB', ha='center', va='bottom')\n",
    "\n",
    "# Create subplot for actual vs theoretical volume\n",
    "plt.subplot(2, 1, 2)\n",
    "if theory_results:\n",
    "    volumes = [\n",
    "        total_size/1024/1024,\n",
    "        theory_results['theoretical_size']/1024/1024\n",
    "    ]\n",
    "    labels = ['Actual Files', 'Theoretical Waveforms']\n",
    "    plt.bar(labels, volumes)\n",
    "    plt.title('Actual vs Theoretical Data Volume')\n",
    "    plt.ylabel('Size (MB)')\n",
    "    plt.yscale('log')  # Use log scale if values are very different\n",
    "    \n",
    "    # Add value labels on top of bars\n",
    "    for i, volume in enumerate(volumes):\n",
    "        plt.text(i, volume, f'{volume:.1f} MB', ha='center', va='bottom')\n",
    "\n",
    "plt.tight_layout()\n",
    "plt.show()"
   ]
  },
  {
   "cell_type": "markdown",
   "id": "4716e4b7",
   "metadata": {},
   "source": [
    "# Summary and Documentation\n",
    "\n",
    "This notebook has analyzed the data volume in the Cascadia project by:\n",
    "1. Calculating actual file sizes for different file types (CSV, XLSX, H5, MSEED)\n",
    "2. Estimating theoretical waveform data volume based on:\n",
    "   - Number of unique events\n",
    "   - Sampling rate (100 Hz)\n",
    "   - Duration per trace (63 seconds)\n",
    "   - Number of components (3)\n",
    "   - Data precision (32-bit float)\n",
    "3. Visualizing the distribution of data across file types\n",
    "4. Comparing actual vs theoretical data volumes\n",
    "\n",
    "This information is useful for:\n",
    "- Storage planning\n",
    "- Data transfer estimates\n",
    "- Resource allocation\n",
    "- Project documentation"
   ]
  }
 ],
 "metadata": {
  "kernelspec": {
   "display_name": "noisepy",
   "language": "python",
   "name": "python3"
  },
  "language_info": {
   "codemirror_mode": {
    "name": "ipython",
    "version": 3
   },
   "file_extension": ".py",
   "mimetype": "text/x-python",
   "name": "python",
   "nbconvert_exporter": "python",
   "pygments_lexer": "ipython3",
   "version": "3.10.12"
  }
 },
 "nbformat": 4,
 "nbformat_minor": 5
}
