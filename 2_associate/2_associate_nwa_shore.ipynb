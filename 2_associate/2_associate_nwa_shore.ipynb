{
 "cells": [
  {
   "cell_type": "markdown",
   "id": "192aef88",
   "metadata": {},
   "source": [
    "## Try phase association for stations for 2012\n",
    "Refernce: https://github.com/yetinam/pyocto"
   ]
  },
  {
   "cell_type": "code",
   "execution_count": 1,
   "id": "45e0b4d8",
   "metadata": {},
   "outputs": [],
   "source": [
    "# !pip3 install numpy\n",
    "# !pip3 install pyrocko"
   ]
  },
  {
   "cell_type": "code",
   "execution_count": 1,
   "id": "91c28442",
   "metadata": {},
   "outputs": [],
   "source": [
    "import pyocto\n",
    "import pandas as pd\n",
    "import datetime\n",
    "import matplotlib.pyplot as plt\n",
    "from collections import Counter\n",
    "import numpy as np\n",
    "from scipy import signal\n",
    "from obspy.signal.trigger import classic_sta_lta\n",
    "import pygmt\n",
    "\n",
    "from obspy.clients.fdsn import Client\n",
    "from obspy.core.utcdatetime import UTCDateTime\n",
    "from pnwstore.mseed import WaveformClient\n"
   ]
  },
  {
   "cell_type": "code",
   "execution_count": 2,
   "id": "6e59a463",
   "metadata": {},
   "outputs": [],
   "source": [
    "# Import the velocity model from https://colab.research.google.com/github/yetinam/pyocto/blob/main/examples/02_velocity_models.ipynb#scrollTo=1c52ed9e-d9c1-4fa6-a549-de702bc9d439\n",
    "# !wget https://github.com/yetinam/pyocto/raw/main/tests/data/graeber.csv"
   ]
  },
  {
   "cell_type": "markdown",
   "id": "d79f475f",
   "metadata": {},
   "source": [
    "## Input Data"
   ]
  },
  {
   "cell_type": "code",
   "execution_count": 5,
   "id": "dc050e11",
   "metadata": {},
   "outputs": [],
   "source": [
    "picks = pd.read_csv(\"../data/datasets_nwa_shore/picks_nwa_shore.csv\",index_col=0)\n",
    "stations = pd.read_csv(\"../data/datasets_nwa_shore/all_stations_nwa_shore.csv\",index_col=0)"
   ]
  },
  {
   "cell_type": "code",
   "execution_count": 6,
   "id": "d0f638dd",
   "metadata": {},
   "outputs": [
    {
     "data": {
      "text/html": [
       "<div>\n",
       "<style scoped>\n",
       "    .dataframe tbody tr th:only-of-type {\n",
       "        vertical-align: middle;\n",
       "    }\n",
       "\n",
       "    .dataframe tbody tr th {\n",
       "        vertical-align: top;\n",
       "    }\n",
       "\n",
       "    .dataframe thead th {\n",
       "        text-align: right;\n",
       "    }\n",
       "</style>\n",
       "<table border=\"1\" class=\"dataframe\">\n",
       "  <thead>\n",
       "    <tr style=\"text-align: right;\">\n",
       "      <th></th>\n",
       "      <th>station</th>\n",
       "      <th>phase</th>\n",
       "      <th>time</th>\n",
       "      <th>pick_id</th>\n",
       "    </tr>\n",
       "  </thead>\n",
       "  <tbody>\n",
       "    <tr>\n",
       "      <th>0</th>\n",
       "      <td>OZB</td>\n",
       "      <td>P</td>\n",
       "      <td>2011-01-01T09:37:24.350000Z</td>\n",
       "      <td>305</td>\n",
       "    </tr>\n",
       "    <tr>\n",
       "      <th>1</th>\n",
       "      <td>OZB</td>\n",
       "      <td>P</td>\n",
       "      <td>2011-01-01T20:50:40.675000Z</td>\n",
       "      <td>306</td>\n",
       "    </tr>\n",
       "    <tr>\n",
       "      <th>2</th>\n",
       "      <td>FORK</td>\n",
       "      <td>P</td>\n",
       "      <td>2011-01-01T14:45:23.465000Z</td>\n",
       "      <td>3240</td>\n",
       "    </tr>\n",
       "    <tr>\n",
       "      <th>3</th>\n",
       "      <td>FORK</td>\n",
       "      <td>P</td>\n",
       "      <td>2011-01-01T14:43:06.940000Z</td>\n",
       "      <td>3241</td>\n",
       "    </tr>\n",
       "    <tr>\n",
       "      <th>4</th>\n",
       "      <td>FORK</td>\n",
       "      <td>P</td>\n",
       "      <td>2011-01-01T14:46:10.740000Z</td>\n",
       "      <td>3242</td>\n",
       "    </tr>\n",
       "    <tr>\n",
       "      <th>...</th>\n",
       "      <td>...</td>\n",
       "      <td>...</td>\n",
       "      <td>...</td>\n",
       "      <td>...</td>\n",
       "    </tr>\n",
       "    <tr>\n",
       "      <th>956482</th>\n",
       "      <td>FORK</td>\n",
       "      <td>S</td>\n",
       "      <td>2015-12-31T15:58:55.590000Z</td>\n",
       "      <td>23571068</td>\n",
       "    </tr>\n",
       "    <tr>\n",
       "      <th>956483</th>\n",
       "      <td>FORK</td>\n",
       "      <td>S</td>\n",
       "      <td>2015-12-31T18:33:30.515000Z</td>\n",
       "      <td>23571069</td>\n",
       "    </tr>\n",
       "    <tr>\n",
       "      <th>956484</th>\n",
       "      <td>FORK</td>\n",
       "      <td>S</td>\n",
       "      <td>2015-12-31T18:35:30.465000Z</td>\n",
       "      <td>23571070</td>\n",
       "    </tr>\n",
       "    <tr>\n",
       "      <th>956485</th>\n",
       "      <td>FORK</td>\n",
       "      <td>S</td>\n",
       "      <td>2015-12-31T21:03:58.340000Z</td>\n",
       "      <td>23571071</td>\n",
       "    </tr>\n",
       "    <tr>\n",
       "      <th>956486</th>\n",
       "      <td>FORK</td>\n",
       "      <td>S</td>\n",
       "      <td>2015-12-31T09:05:05.240000Z</td>\n",
       "      <td>23571072</td>\n",
       "    </tr>\n",
       "  </tbody>\n",
       "</table>\n",
       "<p>956487 rows × 4 columns</p>\n",
       "</div>"
      ],
      "text/plain": [
       "       station phase                         time   pick_id\n",
       "0          OZB     P  2011-01-01T09:37:24.350000Z       305\n",
       "1          OZB     P  2011-01-01T20:50:40.675000Z       306\n",
       "2         FORK     P  2011-01-01T14:45:23.465000Z      3240\n",
       "3         FORK     P  2011-01-01T14:43:06.940000Z      3241\n",
       "4         FORK     P  2011-01-01T14:46:10.740000Z      3242\n",
       "...        ...   ...                          ...       ...\n",
       "956482    FORK     S  2015-12-31T15:58:55.590000Z  23571068\n",
       "956483    FORK     S  2015-12-31T18:33:30.515000Z  23571069\n",
       "956484    FORK     S  2015-12-31T18:35:30.465000Z  23571070\n",
       "956485    FORK     S  2015-12-31T21:03:58.340000Z  23571071\n",
       "956486    FORK     S  2015-12-31T09:05:05.240000Z  23571072\n",
       "\n",
       "[956487 rows x 4 columns]"
      ]
     },
     "execution_count": 6,
     "metadata": {},
     "output_type": "execute_result"
    }
   ],
   "source": [
    "picks"
   ]
  },
  {
   "cell_type": "code",
   "execution_count": 7,
   "id": "2bb5755e",
   "metadata": {},
   "outputs": [
    {
     "data": {
      "text/html": [
       "<div>\n",
       "<style scoped>\n",
       "    .dataframe tbody tr th:only-of-type {\n",
       "        vertical-align: middle;\n",
       "    }\n",
       "\n",
       "    .dataframe tbody tr th {\n",
       "        vertical-align: top;\n",
       "    }\n",
       "\n",
       "    .dataframe thead th {\n",
       "        text-align: right;\n",
       "    }\n",
       "</style>\n",
       "<table border=\"1\" class=\"dataframe\">\n",
       "  <thead>\n",
       "    <tr style=\"text-align: right;\">\n",
       "      <th></th>\n",
       "      <th>id</th>\n",
       "      <th>longitude</th>\n",
       "      <th>latitude</th>\n",
       "      <th>elevation</th>\n",
       "    </tr>\n",
       "  </thead>\n",
       "  <tbody>\n",
       "    <tr>\n",
       "      <th>0</th>\n",
       "      <td>OZB</td>\n",
       "      <td>-125.497800</td>\n",
       "      <td>48.961200</td>\n",
       "      <td>626.0</td>\n",
       "    </tr>\n",
       "    <tr>\n",
       "      <th>1</th>\n",
       "      <td>FORK</td>\n",
       "      <td>-124.566200</td>\n",
       "      <td>47.947500</td>\n",
       "      <td>44.9</td>\n",
       "    </tr>\n",
       "    <tr>\n",
       "      <th>2</th>\n",
       "      <td>OFR</td>\n",
       "      <td>-124.396042</td>\n",
       "      <td>47.933128</td>\n",
       "      <td>152.0</td>\n",
       "    </tr>\n",
       "    <tr>\n",
       "      <th>3</th>\n",
       "      <td>BMSB</td>\n",
       "      <td>-125.135500</td>\n",
       "      <td>48.835600</td>\n",
       "      <td>10.0</td>\n",
       "    </tr>\n",
       "    <tr>\n",
       "      <th>4</th>\n",
       "      <td>J65A</td>\n",
       "      <td>-125.139603</td>\n",
       "      <td>47.891300</td>\n",
       "      <td>-165.2</td>\n",
       "    </tr>\n",
       "    <tr>\n",
       "      <th>5</th>\n",
       "      <td>J73A</td>\n",
       "      <td>-126.192497</td>\n",
       "      <td>48.767700</td>\n",
       "      <td>-143.3</td>\n",
       "    </tr>\n",
       "    <tr>\n",
       "      <th>6</th>\n",
       "      <td>M01A</td>\n",
       "      <td>-126.722099</td>\n",
       "      <td>49.150398</td>\n",
       "      <td>-132.9</td>\n",
       "    </tr>\n",
       "    <tr>\n",
       "      <th>7</th>\n",
       "      <td>NTKA</td>\n",
       "      <td>-126.616600</td>\n",
       "      <td>49.592400</td>\n",
       "      <td>12.0</td>\n",
       "    </tr>\n",
       "    <tr>\n",
       "      <th>8</th>\n",
       "      <td>J65C</td>\n",
       "      <td>-125.139801</td>\n",
       "      <td>47.891300</td>\n",
       "      <td>-169.0</td>\n",
       "    </tr>\n",
       "    <tr>\n",
       "      <th>9</th>\n",
       "      <td>J73C</td>\n",
       "      <td>-126.192596</td>\n",
       "      <td>48.767899</td>\n",
       "      <td>-133.0</td>\n",
       "    </tr>\n",
       "    <tr>\n",
       "      <th>10</th>\n",
       "      <td>M01C</td>\n",
       "      <td>-126.722198</td>\n",
       "      <td>49.150398</td>\n",
       "      <td>-138.0</td>\n",
       "    </tr>\n",
       "    <tr>\n",
       "      <th>11</th>\n",
       "      <td>BFSB</td>\n",
       "      <td>-125.136000</td>\n",
       "      <td>48.833600</td>\n",
       "      <td>33.0</td>\n",
       "    </tr>\n",
       "    <tr>\n",
       "      <th>12</th>\n",
       "      <td>TOFB</td>\n",
       "      <td>-125.907800</td>\n",
       "      <td>49.154300</td>\n",
       "      <td>13.0</td>\n",
       "    </tr>\n",
       "  </tbody>\n",
       "</table>\n",
       "</div>"
      ],
      "text/plain": [
       "      id   longitude   latitude  elevation\n",
       "0    OZB -125.497800  48.961200      626.0\n",
       "1   FORK -124.566200  47.947500       44.9\n",
       "2    OFR -124.396042  47.933128      152.0\n",
       "3   BMSB -125.135500  48.835600       10.0\n",
       "4   J65A -125.139603  47.891300     -165.2\n",
       "5   J73A -126.192497  48.767700     -143.3\n",
       "6   M01A -126.722099  49.150398     -132.9\n",
       "7   NTKA -126.616600  49.592400       12.0\n",
       "8   J65C -125.139801  47.891300     -169.0\n",
       "9   J73C -126.192596  48.767899     -133.0\n",
       "10  M01C -126.722198  49.150398     -138.0\n",
       "11  BFSB -125.136000  48.833600       33.0\n",
       "12  TOFB -125.907800  49.154300       13.0"
      ]
     },
     "execution_count": 7,
     "metadata": {},
     "output_type": "execute_result"
    }
   ],
   "source": [
    "stations"
   ]
  },
  {
   "cell_type": "markdown",
   "id": "a3bf75c7",
   "metadata": {},
   "source": [
    "## Create a 1D velocity model\n",
    "Not needed for now."
   ]
  },
  {
   "cell_type": "code",
   "execution_count": 8,
   "id": "b5c28f00",
   "metadata": {},
   "outputs": [],
   "source": [
    "# !wget https://github.com/yetinam/pyocto/raw/main/tests/data/graeber.csv"
   ]
  },
  {
   "cell_type": "code",
   "execution_count": 9,
   "id": "b99a8be8",
   "metadata": {},
   "outputs": [
    {
     "data": {
      "text/html": [
       "<div>\n",
       "<style scoped>\n",
       "    .dataframe tbody tr th:only-of-type {\n",
       "        vertical-align: middle;\n",
       "    }\n",
       "\n",
       "    .dataframe tbody tr th {\n",
       "        vertical-align: top;\n",
       "    }\n",
       "\n",
       "    .dataframe thead th {\n",
       "        text-align: right;\n",
       "    }\n",
       "</style>\n",
       "<table border=\"1\" class=\"dataframe\">\n",
       "  <thead>\n",
       "    <tr style=\"text-align: right;\">\n",
       "      <th></th>\n",
       "      <th>depth</th>\n",
       "      <th>vp</th>\n",
       "      <th>vp_grad</th>\n",
       "      <th>vs</th>\n",
       "      <th>vs_grad</th>\n",
       "      <th>x</th>\n",
       "      <th>y</th>\n",
       "    </tr>\n",
       "  </thead>\n",
       "  <tbody>\n",
       "    <tr>\n",
       "      <th>0</th>\n",
       "      <td>0.0</td>\n",
       "      <td>1.9</td>\n",
       "      <td>0.384615</td>\n",
       "      <td>1.096966</td>\n",
       "      <td>0.222058</td>\n",
       "      <td>1</td>\n",
       "      <td>0.0</td>\n",
       "    </tr>\n",
       "    <tr>\n",
       "      <th>1</th>\n",
       "      <td>1.3</td>\n",
       "      <td>2.4</td>\n",
       "      <td>0.478261</td>\n",
       "      <td>1.385641</td>\n",
       "      <td>0.276124</td>\n",
       "      <td>1</td>\n",
       "      <td>0.0</td>\n",
       "    </tr>\n",
       "    <tr>\n",
       "      <th>2</th>\n",
       "      <td>5.9</td>\n",
       "      <td>4.6</td>\n",
       "      <td>0.160000</td>\n",
       "      <td>2.655811</td>\n",
       "      <td>0.092376</td>\n",
       "      <td>1</td>\n",
       "      <td>0.0</td>\n",
       "    </tr>\n",
       "    <tr>\n",
       "      <th>3</th>\n",
       "      <td>8.4</td>\n",
       "      <td>5.0</td>\n",
       "      <td>0.312500</td>\n",
       "      <td>2.886751</td>\n",
       "      <td>0.180422</td>\n",
       "      <td>1</td>\n",
       "      <td>0.0</td>\n",
       "    </tr>\n",
       "    <tr>\n",
       "      <th>4</th>\n",
       "      <td>11.6</td>\n",
       "      <td>6.0</td>\n",
       "      <td>0.307692</td>\n",
       "      <td>3.464102</td>\n",
       "      <td>0.177646</td>\n",
       "      <td>1</td>\n",
       "      <td>0.0</td>\n",
       "    </tr>\n",
       "    <tr>\n",
       "      <th>5</th>\n",
       "      <td>12.9</td>\n",
       "      <td>6.4</td>\n",
       "      <td>0.312500</td>\n",
       "      <td>3.695042</td>\n",
       "      <td>0.180422</td>\n",
       "      <td>1</td>\n",
       "      <td>0.0</td>\n",
       "    </tr>\n",
       "    <tr>\n",
       "      <th>6</th>\n",
       "      <td>14.5</td>\n",
       "      <td>6.9</td>\n",
       "      <td>0.062500</td>\n",
       "      <td>3.983717</td>\n",
       "      <td>0.036084</td>\n",
       "      <td>1</td>\n",
       "      <td>0.0</td>\n",
       "    </tr>\n",
       "    <tr>\n",
       "      <th>7</th>\n",
       "      <td>16.1</td>\n",
       "      <td>7.0</td>\n",
       "      <td>0.625000</td>\n",
       "      <td>4.041452</td>\n",
       "      <td>0.360844</td>\n",
       "      <td>1</td>\n",
       "      <td>0.0</td>\n",
       "    </tr>\n",
       "    <tr>\n",
       "      <th>8</th>\n",
       "      <td>17.7</td>\n",
       "      <td>8.0</td>\n",
       "      <td>0.625000</td>\n",
       "      <td>4.618802</td>\n",
       "      <td>0.360844</td>\n",
       "      <td>1</td>\n",
       "      <td>NaN</td>\n",
       "    </tr>\n",
       "  </tbody>\n",
       "</table>\n",
       "</div>"
      ],
      "text/plain": [
       "   depth   vp   vp_grad        vs   vs_grad  x    y\n",
       "0    0.0  1.9  0.384615  1.096966  0.222058  1  0.0\n",
       "1    1.3  2.4  0.478261  1.385641  0.276124  1  0.0\n",
       "2    5.9  4.6  0.160000  2.655811  0.092376  1  0.0\n",
       "3    8.4  5.0  0.312500  2.886751  0.180422  1  0.0\n",
       "4   11.6  6.0  0.307692  3.464102  0.177646  1  0.0\n",
       "5   12.9  6.4  0.312500  3.695042  0.180422  1  0.0\n",
       "6   14.5  6.9  0.062500  3.983717  0.036084  1  0.0\n",
       "7   16.1  7.0  0.625000  4.041452  0.360844  1  0.0\n",
       "8   17.7  8.0  0.625000  4.618802  0.360844  1  NaN"
      ]
     },
     "execution_count": 9,
     "metadata": {},
     "output_type": "execute_result"
    }
   ],
   "source": [
    "layers = pd.read_csv(\"../data/nwa_shore.csv\")\n",
    "\n",
    "# Strip leading/trailing spaces from column names\n",
    "layers.columns = layers.columns.str.strip()\n",
    "layers"
   ]
  },
  {
   "cell_type": "code",
   "execution_count": 10,
   "id": "e492330c",
   "metadata": {},
   "outputs": [],
   "source": [
    "model_path = \"velocity_model\"\n",
    "pyocto.VelocityModel1D.create_model(layers, 1., 400, 250, model_path)"
   ]
  },
  {
   "cell_type": "code",
   "execution_count": 11,
   "id": "a9d3a14a",
   "metadata": {},
   "outputs": [],
   "source": [
    "velocity_model_1d = pyocto.VelocityModel1D(model_path, tolerance=2.0)"
   ]
  },
  {
   "cell_type": "markdown",
   "id": "0f6a5c8a",
   "metadata": {},
   "source": [
    "## The OctoAssociator class"
   ]
  },
  {
   "cell_type": "code",
   "execution_count": 12,
   "id": "c49c113f",
   "metadata": {},
   "outputs": [],
   "source": [
    "#  Define the associator parameters\n",
    "associator = pyocto.OctoAssociator.from_area(\n",
    "    lat=(38, 51),\n",
    "    lon=(-132, -119),\n",
    "    zlim=(0, 50),\n",
    "    time_before=300,\n",
    "    velocity_model=velocity_model_1d,\n",
    "    n_picks=5,\n",
    "    n_p_picks=1,\n",
    "    n_s_picks=3,\n",
    "    n_p_and_s_picks=1,\n",
    ")"
   ]
  },
  {
   "cell_type": "code",
   "execution_count": 13,
   "id": "8563e5e5",
   "metadata": {},
   "outputs": [
    {
     "data": {
      "text/html": [
       "<div>\n",
       "<style scoped>\n",
       "    .dataframe tbody tr th:only-of-type {\n",
       "        vertical-align: middle;\n",
       "    }\n",
       "\n",
       "    .dataframe tbody tr th {\n",
       "        vertical-align: top;\n",
       "    }\n",
       "\n",
       "    .dataframe thead th {\n",
       "        text-align: right;\n",
       "    }\n",
       "</style>\n",
       "<table border=\"1\" class=\"dataframe\">\n",
       "  <thead>\n",
       "    <tr style=\"text-align: right;\">\n",
       "      <th></th>\n",
       "      <th>id</th>\n",
       "      <th>longitude</th>\n",
       "      <th>latitude</th>\n",
       "      <th>elevation</th>\n",
       "      <th>x</th>\n",
       "      <th>y</th>\n",
       "      <th>z</th>\n",
       "    </tr>\n",
       "  </thead>\n",
       "  <tbody>\n",
       "    <tr>\n",
       "      <th>0</th>\n",
       "      <td>OZB</td>\n",
       "      <td>-125.497800</td>\n",
       "      <td>48.961200</td>\n",
       "      <td>626.0</td>\n",
       "      <td>0.161103</td>\n",
       "      <td>495.931779</td>\n",
       "      <td>-0.6260</td>\n",
       "    </tr>\n",
       "    <tr>\n",
       "      <th>1</th>\n",
       "      <td>FORK</td>\n",
       "      <td>-124.566200</td>\n",
       "      <td>47.947500</td>\n",
       "      <td>44.9</td>\n",
       "      <td>69.755514</td>\n",
       "      <td>383.631296</td>\n",
       "      <td>-0.0449</td>\n",
       "    </tr>\n",
       "    <tr>\n",
       "      <th>2</th>\n",
       "      <td>OFR</td>\n",
       "      <td>-124.396042</td>\n",
       "      <td>47.933128</td>\n",
       "      <td>152.0</td>\n",
       "      <td>82.489151</td>\n",
       "      <td>382.201170</td>\n",
       "      <td>-0.1520</td>\n",
       "    </tr>\n",
       "    <tr>\n",
       "      <th>3</th>\n",
       "      <td>BMSB</td>\n",
       "      <td>-125.135500</td>\n",
       "      <td>48.835600</td>\n",
       "      <td>10.0</td>\n",
       "      <td>26.758765</td>\n",
       "      <td>482.028159</td>\n",
       "      <td>-0.0100</td>\n",
       "    </tr>\n",
       "    <tr>\n",
       "      <th>4</th>\n",
       "      <td>J65A</td>\n",
       "      <td>-125.139603</td>\n",
       "      <td>47.891300</td>\n",
       "      <td>-165.2</td>\n",
       "      <td>26.951184</td>\n",
       "      <td>377.023274</td>\n",
       "      <td>0.1652</td>\n",
       "    </tr>\n",
       "    <tr>\n",
       "      <th>5</th>\n",
       "      <td>J73A</td>\n",
       "      <td>-126.192497</td>\n",
       "      <td>48.767700</td>\n",
       "      <td>-143.3</td>\n",
       "      <td>-50.906316</td>\n",
       "      <td>474.644562</td>\n",
       "      <td>0.1433</td>\n",
       "    </tr>\n",
       "    <tr>\n",
       "      <th>6</th>\n",
       "      <td>M01A</td>\n",
       "      <td>-126.722099</td>\n",
       "      <td>49.150398</td>\n",
       "      <td>-132.9</td>\n",
       "      <td>-89.152651</td>\n",
       "      <td>517.691903</td>\n",
       "      <td>0.1329</td>\n",
       "    </tr>\n",
       "    <tr>\n",
       "      <th>7</th>\n",
       "      <td>NTKA</td>\n",
       "      <td>-126.616600</td>\n",
       "      <td>49.592400</td>\n",
       "      <td>12.0</td>\n",
       "      <td>-80.729452</td>\n",
       "      <td>566.729771</td>\n",
       "      <td>-0.0120</td>\n",
       "    </tr>\n",
       "    <tr>\n",
       "      <th>8</th>\n",
       "      <td>J65C</td>\n",
       "      <td>-125.139801</td>\n",
       "      <td>47.891300</td>\n",
       "      <td>-169.0</td>\n",
       "      <td>26.936378</td>\n",
       "      <td>377.023205</td>\n",
       "      <td>0.1690</td>\n",
       "    </tr>\n",
       "    <tr>\n",
       "      <th>9</th>\n",
       "      <td>J73C</td>\n",
       "      <td>-126.192596</td>\n",
       "      <td>48.767899</td>\n",
       "      <td>-133.0</td>\n",
       "      <td>-50.913392</td>\n",
       "      <td>474.666758</td>\n",
       "      <td>0.1330</td>\n",
       "    </tr>\n",
       "    <tr>\n",
       "      <th>10</th>\n",
       "      <td>M01C</td>\n",
       "      <td>-126.722198</td>\n",
       "      <td>49.150398</td>\n",
       "      <td>-138.0</td>\n",
       "      <td>-89.159873</td>\n",
       "      <td>517.692020</td>\n",
       "      <td>0.1380</td>\n",
       "    </tr>\n",
       "    <tr>\n",
       "      <th>11</th>\n",
       "      <td>BFSB</td>\n",
       "      <td>-125.136000</td>\n",
       "      <td>48.833600</td>\n",
       "      <td>33.0</td>\n",
       "      <td>26.723122</td>\n",
       "      <td>481.805571</td>\n",
       "      <td>-0.0330</td>\n",
       "    </tr>\n",
       "    <tr>\n",
       "      <th>12</th>\n",
       "      <td>TOFB</td>\n",
       "      <td>-125.907800</td>\n",
       "      <td>49.154300</td>\n",
       "      <td>13.0</td>\n",
       "      <td>-29.747137</td>\n",
       "      <td>517.486676</td>\n",
       "      <td>-0.0130</td>\n",
       "    </tr>\n",
       "  </tbody>\n",
       "</table>\n",
       "</div>"
      ],
      "text/plain": [
       "      id   longitude   latitude  elevation          x           y       z\n",
       "0    OZB -125.497800  48.961200      626.0   0.161103  495.931779 -0.6260\n",
       "1   FORK -124.566200  47.947500       44.9  69.755514  383.631296 -0.0449\n",
       "2    OFR -124.396042  47.933128      152.0  82.489151  382.201170 -0.1520\n",
       "3   BMSB -125.135500  48.835600       10.0  26.758765  482.028159 -0.0100\n",
       "4   J65A -125.139603  47.891300     -165.2  26.951184  377.023274  0.1652\n",
       "5   J73A -126.192497  48.767700     -143.3 -50.906316  474.644562  0.1433\n",
       "6   M01A -126.722099  49.150398     -132.9 -89.152651  517.691903  0.1329\n",
       "7   NTKA -126.616600  49.592400       12.0 -80.729452  566.729771 -0.0120\n",
       "8   J65C -125.139801  47.891300     -169.0  26.936378  377.023205  0.1690\n",
       "9   J73C -126.192596  48.767899     -133.0 -50.913392  474.666758  0.1330\n",
       "10  M01C -126.722198  49.150398     -138.0 -89.159873  517.692020  0.1380\n",
       "11  BFSB -125.136000  48.833600       33.0  26.723122  481.805571 -0.0330\n",
       "12  TOFB -125.907800  49.154300       13.0 -29.747137  517.486676 -0.0130"
      ]
     },
     "execution_count": 13,
     "metadata": {},
     "output_type": "execute_result"
    }
   ],
   "source": [
    "associator.transform_stations(stations)\n",
    "stations"
   ]
  },
  {
   "cell_type": "markdown",
   "id": "27c78b5c",
   "metadata": {},
   "source": [
    "## Convert the timestamps to floats"
   ]
  },
  {
   "cell_type": "code",
   "execution_count": 14,
   "id": "c99c738e",
   "metadata": {
    "scrolled": true
   },
   "outputs": [
    {
     "data": {
      "text/html": [
       "<div>\n",
       "<style scoped>\n",
       "    .dataframe tbody tr th:only-of-type {\n",
       "        vertical-align: middle;\n",
       "    }\n",
       "\n",
       "    .dataframe tbody tr th {\n",
       "        vertical-align: top;\n",
       "    }\n",
       "\n",
       "    .dataframe thead th {\n",
       "        text-align: right;\n",
       "    }\n",
       "</style>\n",
       "<table border=\"1\" class=\"dataframe\">\n",
       "  <thead>\n",
       "    <tr style=\"text-align: right;\">\n",
       "      <th></th>\n",
       "      <th>station</th>\n",
       "      <th>phase</th>\n",
       "      <th>time</th>\n",
       "      <th>pick_id</th>\n",
       "    </tr>\n",
       "  </thead>\n",
       "  <tbody>\n",
       "    <tr>\n",
       "      <th>0</th>\n",
       "      <td>OZB</td>\n",
       "      <td>P</td>\n",
       "      <td>1.293875e+09</td>\n",
       "      <td>305</td>\n",
       "    </tr>\n",
       "    <tr>\n",
       "      <th>1</th>\n",
       "      <td>OZB</td>\n",
       "      <td>P</td>\n",
       "      <td>1.293915e+09</td>\n",
       "      <td>306</td>\n",
       "    </tr>\n",
       "    <tr>\n",
       "      <th>2</th>\n",
       "      <td>FORK</td>\n",
       "      <td>P</td>\n",
       "      <td>1.293893e+09</td>\n",
       "      <td>3240</td>\n",
       "    </tr>\n",
       "    <tr>\n",
       "      <th>3</th>\n",
       "      <td>FORK</td>\n",
       "      <td>P</td>\n",
       "      <td>1.293893e+09</td>\n",
       "      <td>3241</td>\n",
       "    </tr>\n",
       "    <tr>\n",
       "      <th>4</th>\n",
       "      <td>FORK</td>\n",
       "      <td>P</td>\n",
       "      <td>1.293893e+09</td>\n",
       "      <td>3242</td>\n",
       "    </tr>\n",
       "    <tr>\n",
       "      <th>...</th>\n",
       "      <td>...</td>\n",
       "      <td>...</td>\n",
       "      <td>...</td>\n",
       "      <td>...</td>\n",
       "    </tr>\n",
       "    <tr>\n",
       "      <th>956482</th>\n",
       "      <td>FORK</td>\n",
       "      <td>S</td>\n",
       "      <td>1.451578e+09</td>\n",
       "      <td>23571068</td>\n",
       "    </tr>\n",
       "    <tr>\n",
       "      <th>956483</th>\n",
       "      <td>FORK</td>\n",
       "      <td>S</td>\n",
       "      <td>1.451587e+09</td>\n",
       "      <td>23571069</td>\n",
       "    </tr>\n",
       "    <tr>\n",
       "      <th>956484</th>\n",
       "      <td>FORK</td>\n",
       "      <td>S</td>\n",
       "      <td>1.451587e+09</td>\n",
       "      <td>23571070</td>\n",
       "    </tr>\n",
       "    <tr>\n",
       "      <th>956485</th>\n",
       "      <td>FORK</td>\n",
       "      <td>S</td>\n",
       "      <td>1.451596e+09</td>\n",
       "      <td>23571071</td>\n",
       "    </tr>\n",
       "    <tr>\n",
       "      <th>956486</th>\n",
       "      <td>FORK</td>\n",
       "      <td>S</td>\n",
       "      <td>1.451553e+09</td>\n",
       "      <td>23571072</td>\n",
       "    </tr>\n",
       "  </tbody>\n",
       "</table>\n",
       "<p>956487 rows × 4 columns</p>\n",
       "</div>"
      ],
      "text/plain": [
       "       station phase          time   pick_id\n",
       "0          OZB     P  1.293875e+09       305\n",
       "1          OZB     P  1.293915e+09       306\n",
       "2         FORK     P  1.293893e+09      3240\n",
       "3         FORK     P  1.293893e+09      3241\n",
       "4         FORK     P  1.293893e+09      3242\n",
       "...        ...   ...           ...       ...\n",
       "956482    FORK     S  1.451578e+09  23571068\n",
       "956483    FORK     S  1.451587e+09  23571069\n",
       "956484    FORK     S  1.451587e+09  23571070\n",
       "956485    FORK     S  1.451596e+09  23571071\n",
       "956486    FORK     S  1.451553e+09  23571072\n",
       "\n",
       "[956487 rows x 4 columns]"
      ]
     },
     "execution_count": 14,
     "metadata": {},
     "output_type": "execute_result"
    }
   ],
   "source": [
    "# Convert the times to timestamps\n",
    "picks[\"time\"] = picks[\"time\"].apply(lambda x: datetime.datetime.strptime(x,'%Y-%m-%dT%H:%M:%S.%fZ'))\n",
    "picks[\"time\"] = picks[\"time\"].apply(lambda x: x.timestamp())\n",
    "picks"
   ]
  },
  {
   "cell_type": "code",
   "execution_count": 26,
   "id": "ae18d231",
   "metadata": {},
   "outputs": [],
   "source": [
    "# picks['time'] = picks['time'].apply(lambda x: (datetime.datetime.strptime(x,'%Y-%m-%dT%H:%M:%S.%fZ')).timestamp())\n",
    "# picks"
   ]
  },
  {
   "cell_type": "markdown",
   "id": "a0227ee6",
   "metadata": {},
   "source": [
    "## Apply  the associator"
   ]
  },
  {
   "cell_type": "code",
   "execution_count": 15,
   "id": "261a46ca",
   "metadata": {},
   "outputs": [],
   "source": [
    "# Association \n",
    "events, assignments = associator.associate(picks, stations)"
   ]
  },
  {
   "cell_type": "code",
   "execution_count": 16,
   "id": "0c48bb4d",
   "metadata": {},
   "outputs": [
    {
     "data": {
      "text/plain": [
       "Counter({6: 202, 5: 173, 7: 54, 8: 38, 9: 14, 10: 6, 11: 2, 12: 1})"
      ]
     },
     "execution_count": 16,
     "metadata": {},
     "output_type": "execute_result"
    }
   ],
   "source": [
    "# Count how many picks each event has\n",
    "Counter(events['picks'])"
   ]
  },
  {
   "cell_type": "code",
   "execution_count": 17,
   "id": "ef8aa879",
   "metadata": {
    "scrolled": false
   },
   "outputs": [],
   "source": [
    "# Convert the event times and the x, y, and z coordinate to latitudes, longitudes, and depths, respectively\n",
    "associator.transform_events(events)\n",
    "events[\"time\"] = events[\"time\"].apply(datetime.datetime.fromtimestamp, tz=datetime.timezone.utc)"
   ]
  },
  {
   "cell_type": "code",
   "execution_count": 18,
   "id": "3dc911d7",
   "metadata": {},
   "outputs": [
    {
     "data": {
      "text/html": [
       "<div>\n",
       "<style scoped>\n",
       "    .dataframe tbody tr th:only-of-type {\n",
       "        vertical-align: middle;\n",
       "    }\n",
       "\n",
       "    .dataframe tbody tr th {\n",
       "        vertical-align: top;\n",
       "    }\n",
       "\n",
       "    .dataframe thead th {\n",
       "        text-align: right;\n",
       "    }\n",
       "</style>\n",
       "<table border=\"1\" class=\"dataframe\">\n",
       "  <thead>\n",
       "    <tr style=\"text-align: right;\">\n",
       "      <th></th>\n",
       "      <th>idx</th>\n",
       "      <th>time</th>\n",
       "      <th>x</th>\n",
       "      <th>y</th>\n",
       "      <th>z</th>\n",
       "      <th>picks</th>\n",
       "      <th>latitude</th>\n",
       "      <th>longitude</th>\n",
       "      <th>depth</th>\n",
       "    </tr>\n",
       "  </thead>\n",
       "  <tbody>\n",
       "    <tr>\n",
       "      <th>0</th>\n",
       "      <td>0</td>\n",
       "      <td>2011-01-29 19:12:43.481602+00:00</td>\n",
       "      <td>88.693538</td>\n",
       "      <td>324.456120</td>\n",
       "      <td>48.828125</td>\n",
       "      <td>5</td>\n",
       "      <td>47.413045</td>\n",
       "      <td>-124.324744</td>\n",
       "      <td>48.828125</td>\n",
       "    </tr>\n",
       "    <tr>\n",
       "      <th>1</th>\n",
       "      <td>1</td>\n",
       "      <td>2011-03-01 17:07:07.540138+00:00</td>\n",
       "      <td>59.686846</td>\n",
       "      <td>375.950591</td>\n",
       "      <td>31.640625</td>\n",
       "      <td>6</td>\n",
       "      <td>47.879445</td>\n",
       "      <td>-124.702035</td>\n",
       "      <td>31.640625</td>\n",
       "    </tr>\n",
       "    <tr>\n",
       "      <th>2</th>\n",
       "      <td>2</td>\n",
       "      <td>2011-03-20 04:20:39.627115+00:00</td>\n",
       "      <td>-142.244353</td>\n",
       "      <td>664.891786</td>\n",
       "      <td>49.609375</td>\n",
       "      <td>6</td>\n",
       "      <td>50.463057</td>\n",
       "      <td>-127.503384</td>\n",
       "      <td>49.609375</td>\n",
       "    </tr>\n",
       "    <tr>\n",
       "      <th>3</th>\n",
       "      <td>3</td>\n",
       "      <td>2011-03-21 16:57:21.730601+00:00</td>\n",
       "      <td>170.135403</td>\n",
       "      <td>354.494561</td>\n",
       "      <td>49.609375</td>\n",
       "      <td>6</td>\n",
       "      <td>47.666876</td>\n",
       "      <td>-123.234630</td>\n",
       "      <td>49.609375</td>\n",
       "    </tr>\n",
       "    <tr>\n",
       "      <th>4</th>\n",
       "      <td>4</td>\n",
       "      <td>2011-04-23 20:03:08.498333+00:00</td>\n",
       "      <td>61.918130</td>\n",
       "      <td>375.950591</td>\n",
       "      <td>32.421875</td>\n",
       "      <td>6</td>\n",
       "      <td>47.879234</td>\n",
       "      <td>-124.672207</td>\n",
       "      <td>32.421875</td>\n",
       "    </tr>\n",
       "    <tr>\n",
       "      <th>...</th>\n",
       "      <td>...</td>\n",
       "      <td>...</td>\n",
       "      <td>...</td>\n",
       "      <td>...</td>\n",
       "      <td>...</td>\n",
       "      <td>...</td>\n",
       "      <td>...</td>\n",
       "      <td>...</td>\n",
       "      <td>...</td>\n",
       "    </tr>\n",
       "    <tr>\n",
       "      <th>485</th>\n",
       "      <td>485</td>\n",
       "      <td>2015-12-10 11:49:32.628968+00:00</td>\n",
       "      <td>-11.714241</td>\n",
       "      <td>493.243551</td>\n",
       "      <td>23.828125</td>\n",
       "      <td>6</td>\n",
       "      <td>48.936916</td>\n",
       "      <td>-125.659891</td>\n",
       "      <td>23.828125</td>\n",
       "    </tr>\n",
       "    <tr>\n",
       "      <th>486</th>\n",
       "      <td>486</td>\n",
       "      <td>2015-12-13 01:35:34.220311+00:00</td>\n",
       "      <td>-19.523735</td>\n",
       "      <td>513.269179</td>\n",
       "      <td>32.421875</td>\n",
       "      <td>6</td>\n",
       "      <td>49.116787</td>\n",
       "      <td>-125.767447</td>\n",
       "      <td>32.421875</td>\n",
       "    </tr>\n",
       "    <tr>\n",
       "      <th>487</th>\n",
       "      <td>487</td>\n",
       "      <td>2015-12-15 03:22:53.205921+00:00</td>\n",
       "      <td>67.496340</td>\n",
       "      <td>375.950591</td>\n",
       "      <td>23.828125</td>\n",
       "      <td>6</td>\n",
       "      <td>47.878672</td>\n",
       "      <td>-124.597641</td>\n",
       "      <td>23.828125</td>\n",
       "    </tr>\n",
       "    <tr>\n",
       "      <th>488</th>\n",
       "      <td>488</td>\n",
       "      <td>2015-12-17 23:24:16.035731+00:00</td>\n",
       "      <td>192.448242</td>\n",
       "      <td>404.558630</td>\n",
       "      <td>12.890625</td>\n",
       "      <td>5</td>\n",
       "      <td>48.110438</td>\n",
       "      <td>-122.915527</td>\n",
       "      <td>12.890625</td>\n",
       "    </tr>\n",
       "    <tr>\n",
       "      <th>489</th>\n",
       "      <td>489</td>\n",
       "      <td>2015-12-30 07:39:28.170022+00:00</td>\n",
       "      <td>175.713613</td>\n",
       "      <td>467.496316</td>\n",
       "      <td>15.234375</td>\n",
       "      <td>6</td>\n",
       "      <td>48.680781</td>\n",
       "      <td>-123.113740</td>\n",
       "      <td>15.234375</td>\n",
       "    </tr>\n",
       "  </tbody>\n",
       "</table>\n",
       "<p>490 rows × 9 columns</p>\n",
       "</div>"
      ],
      "text/plain": [
       "     idx                             time           x           y          z  \\\n",
       "0      0 2011-01-29 19:12:43.481602+00:00   88.693538  324.456120  48.828125   \n",
       "1      1 2011-03-01 17:07:07.540138+00:00   59.686846  375.950591  31.640625   \n",
       "2      2 2011-03-20 04:20:39.627115+00:00 -142.244353  664.891786  49.609375   \n",
       "3      3 2011-03-21 16:57:21.730601+00:00  170.135403  354.494561  49.609375   \n",
       "4      4 2011-04-23 20:03:08.498333+00:00   61.918130  375.950591  32.421875   \n",
       "..   ...                              ...         ...         ...        ...   \n",
       "485  485 2015-12-10 11:49:32.628968+00:00  -11.714241  493.243551  23.828125   \n",
       "486  486 2015-12-13 01:35:34.220311+00:00  -19.523735  513.269179  32.421875   \n",
       "487  487 2015-12-15 03:22:53.205921+00:00   67.496340  375.950591  23.828125   \n",
       "488  488 2015-12-17 23:24:16.035731+00:00  192.448242  404.558630  12.890625   \n",
       "489  489 2015-12-30 07:39:28.170022+00:00  175.713613  467.496316  15.234375   \n",
       "\n",
       "     picks   latitude   longitude      depth  \n",
       "0        5  47.413045 -124.324744  48.828125  \n",
       "1        6  47.879445 -124.702035  31.640625  \n",
       "2        6  50.463057 -127.503384  49.609375  \n",
       "3        6  47.666876 -123.234630  49.609375  \n",
       "4        6  47.879234 -124.672207  32.421875  \n",
       "..     ...        ...         ...        ...  \n",
       "485      6  48.936916 -125.659891  23.828125  \n",
       "486      6  49.116787 -125.767447  32.421875  \n",
       "487      6  47.878672 -124.597641  23.828125  \n",
       "488      5  48.110438 -122.915527  12.890625  \n",
       "489      6  48.680781 -123.113740  15.234375  \n",
       "\n",
       "[490 rows x 9 columns]"
      ]
     },
     "execution_count": 18,
     "metadata": {},
     "output_type": "execute_result"
    }
   ],
   "source": [
    "events"
   ]
  },
  {
   "cell_type": "code",
   "execution_count": 19,
   "id": "6a765097",
   "metadata": {},
   "outputs": [],
   "source": [
    "#  Save events that have at least 6 picks\n",
    "events = events.loc[(events['picks'] >= 6)]\n",
    "events.to_csv('../data/datasets_nwa_shore/events_nwa_shore.csv')\n"
   ]
  },
  {
   "cell_type": "code",
   "execution_count": 32,
   "id": "a86b6d58",
   "metadata": {},
   "outputs": [],
   "source": [
    "# events.to_csv('~/notebooks/src/association_events.csv')"
   ]
  },
  {
   "cell_type": "code",
   "execution_count": 21,
   "id": "e6767f3c",
   "metadata": {
    "scrolled": true
   },
   "outputs": [
    {
     "data": {
      "text/html": [
       "<div>\n",
       "<style scoped>\n",
       "    .dataframe tbody tr th:only-of-type {\n",
       "        vertical-align: middle;\n",
       "    }\n",
       "\n",
       "    .dataframe tbody tr th {\n",
       "        vertical-align: top;\n",
       "    }\n",
       "\n",
       "    .dataframe thead th {\n",
       "        text-align: right;\n",
       "    }\n",
       "</style>\n",
       "<table border=\"1\" class=\"dataframe\">\n",
       "  <thead>\n",
       "    <tr style=\"text-align: right;\">\n",
       "      <th></th>\n",
       "      <th>event_idx</th>\n",
       "      <th>pick_idx</th>\n",
       "      <th>residual</th>\n",
       "      <th>station</th>\n",
       "      <th>phase</th>\n",
       "      <th>time</th>\n",
       "      <th>pick_id</th>\n",
       "    </tr>\n",
       "  </thead>\n",
       "  <tbody>\n",
       "    <tr>\n",
       "      <th>0</th>\n",
       "      <td>0</td>\n",
       "      <td>3486</td>\n",
       "      <td>0.113323</td>\n",
       "      <td>FORK</td>\n",
       "      <td>P</td>\n",
       "      <td>1.296328e+09</td>\n",
       "      <td>124884</td>\n",
       "    </tr>\n",
       "    <tr>\n",
       "      <th>1</th>\n",
       "      <td>0</td>\n",
       "      <td>561724</td>\n",
       "      <td>0.110618</td>\n",
       "      <td>FORK</td>\n",
       "      <td>S</td>\n",
       "      <td>1.296328e+09</td>\n",
       "      <td>124878</td>\n",
       "    </tr>\n",
       "    <tr>\n",
       "      <th>2</th>\n",
       "      <td>0</td>\n",
       "      <td>3398</td>\n",
       "      <td>-0.126576</td>\n",
       "      <td>OFR</td>\n",
       "      <td>P</td>\n",
       "      <td>1.296328e+09</td>\n",
       "      <td>123881</td>\n",
       "    </tr>\n",
       "    <tr>\n",
       "      <th>3</th>\n",
       "      <td>0</td>\n",
       "      <td>561629</td>\n",
       "      <td>-0.080810</td>\n",
       "      <td>OFR</td>\n",
       "      <td>S</td>\n",
       "      <td>1.296328e+09</td>\n",
       "      <td>123854</td>\n",
       "    </tr>\n",
       "    <tr>\n",
       "      <th>4</th>\n",
       "      <td>0</td>\n",
       "      <td>561610</td>\n",
       "      <td>-0.016555</td>\n",
       "      <td>OZB</td>\n",
       "      <td>S</td>\n",
       "      <td>1.296328e+09</td>\n",
       "      <td>121673</td>\n",
       "    </tr>\n",
       "    <tr>\n",
       "      <th>...</th>\n",
       "      <td>...</td>\n",
       "      <td>...</td>\n",
       "      <td>...</td>\n",
       "      <td>...</td>\n",
       "      <td>...</td>\n",
       "      <td>...</td>\n",
       "      <td>...</td>\n",
       "    </tr>\n",
       "    <tr>\n",
       "      <th>2974</th>\n",
       "      <td>489</td>\n",
       "      <td>956219</td>\n",
       "      <td>0.193057</td>\n",
       "      <td>BFSB</td>\n",
       "      <td>S</td>\n",
       "      <td>1.451461e+09</td>\n",
       "      <td>23567484</td>\n",
       "    </tr>\n",
       "    <tr>\n",
       "      <th>2975</th>\n",
       "      <td>489</td>\n",
       "      <td>558421</td>\n",
       "      <td>0.234987</td>\n",
       "      <td>FORK</td>\n",
       "      <td>P</td>\n",
       "      <td>1.451461e+09</td>\n",
       "      <td>23568749</td>\n",
       "    </tr>\n",
       "    <tr>\n",
       "      <th>2976</th>\n",
       "      <td>489</td>\n",
       "      <td>956292</td>\n",
       "      <td>-0.141743</td>\n",
       "      <td>FORK</td>\n",
       "      <td>S</td>\n",
       "      <td>1.451461e+09</td>\n",
       "      <td>23568743</td>\n",
       "    </tr>\n",
       "    <tr>\n",
       "      <th>2977</th>\n",
       "      <td>489</td>\n",
       "      <td>558390</td>\n",
       "      <td>-0.184442</td>\n",
       "      <td>TOFB</td>\n",
       "      <td>P</td>\n",
       "      <td>1.451461e+09</td>\n",
       "      <td>23567934</td>\n",
       "    </tr>\n",
       "    <tr>\n",
       "      <th>2978</th>\n",
       "      <td>489</td>\n",
       "      <td>956271</td>\n",
       "      <td>-0.065994</td>\n",
       "      <td>TOFB</td>\n",
       "      <td>S</td>\n",
       "      <td>1.451461e+09</td>\n",
       "      <td>23567951</td>\n",
       "    </tr>\n",
       "  </tbody>\n",
       "</table>\n",
       "<p>2979 rows × 7 columns</p>\n",
       "</div>"
      ],
      "text/plain": [
       "      event_idx  pick_idx  residual station phase          time   pick_id\n",
       "0             0      3486  0.113323    FORK     P  1.296328e+09    124884\n",
       "1             0    561724  0.110618    FORK     S  1.296328e+09    124878\n",
       "2             0      3398 -0.126576     OFR     P  1.296328e+09    123881\n",
       "3             0    561629 -0.080810     OFR     S  1.296328e+09    123854\n",
       "4             0    561610 -0.016555     OZB     S  1.296328e+09    121673\n",
       "...         ...       ...       ...     ...   ...           ...       ...\n",
       "2974        489    956219  0.193057    BFSB     S  1.451461e+09  23567484\n",
       "2975        489    558421  0.234987    FORK     P  1.451461e+09  23568749\n",
       "2976        489    956292 -0.141743    FORK     S  1.451461e+09  23568743\n",
       "2977        489    558390 -0.184442    TOFB     P  1.451461e+09  23567934\n",
       "2978        489    956271 -0.065994    TOFB     S  1.451461e+09  23567951\n",
       "\n",
       "[2979 rows x 7 columns]"
      ]
     },
     "execution_count": 21,
     "metadata": {},
     "output_type": "execute_result"
    }
   ],
   "source": [
    "# Print the assignments\n",
    "\n",
    "assignments"
   ]
  },
  {
   "cell_type": "code",
   "execution_count": 22,
   "id": "ff00602d",
   "metadata": {
    "scrolled": true
   },
   "outputs": [
    {
     "data": {
      "text/html": [
       "<div>\n",
       "<style scoped>\n",
       "    .dataframe tbody tr th:only-of-type {\n",
       "        vertical-align: middle;\n",
       "    }\n",
       "\n",
       "    .dataframe tbody tr th {\n",
       "        vertical-align: top;\n",
       "    }\n",
       "\n",
       "    .dataframe thead th {\n",
       "        text-align: right;\n",
       "    }\n",
       "</style>\n",
       "<table border=\"1\" class=\"dataframe\">\n",
       "  <thead>\n",
       "    <tr style=\"text-align: right;\">\n",
       "      <th></th>\n",
       "      <th>idx</th>\n",
       "      <th>time</th>\n",
       "      <th>x</th>\n",
       "      <th>y</th>\n",
       "      <th>z</th>\n",
       "      <th>picks</th>\n",
       "      <th>latitude</th>\n",
       "      <th>longitude</th>\n",
       "      <th>depth</th>\n",
       "      <th>event_idx</th>\n",
       "      <th>pick_idx</th>\n",
       "      <th>residual</th>\n",
       "      <th>station</th>\n",
       "      <th>phase</th>\n",
       "      <th>time_pick</th>\n",
       "      <th>pick_id</th>\n",
       "    </tr>\n",
       "  </thead>\n",
       "  <tbody>\n",
       "    <tr>\n",
       "      <th>0</th>\n",
       "      <td>1</td>\n",
       "      <td>2011-03-01 17:07:07.540138+00:00</td>\n",
       "      <td>59.686846</td>\n",
       "      <td>375.950591</td>\n",
       "      <td>31.640625</td>\n",
       "      <td>6</td>\n",
       "      <td>47.879445</td>\n",
       "      <td>-124.702035</td>\n",
       "      <td>31.640625</td>\n",
       "      <td>1</td>\n",
       "      <td>6792</td>\n",
       "      <td>0.302324</td>\n",
       "      <td>FORK</td>\n",
       "      <td>P</td>\n",
       "      <td>1.298999e+09</td>\n",
       "      <td>264471</td>\n",
       "    </tr>\n",
       "    <tr>\n",
       "      <th>1</th>\n",
       "      <td>1</td>\n",
       "      <td>2011-03-01 17:07:07.540138+00:00</td>\n",
       "      <td>59.686846</td>\n",
       "      <td>375.950591</td>\n",
       "      <td>31.640625</td>\n",
       "      <td>6</td>\n",
       "      <td>47.879445</td>\n",
       "      <td>-124.702035</td>\n",
       "      <td>31.640625</td>\n",
       "      <td>1</td>\n",
       "      <td>565136</td>\n",
       "      <td>0.095024</td>\n",
       "      <td>FORK</td>\n",
       "      <td>S</td>\n",
       "      <td>1.298999e+09</td>\n",
       "      <td>264468</td>\n",
       "    </tr>\n",
       "    <tr>\n",
       "      <th>2</th>\n",
       "      <td>1</td>\n",
       "      <td>2011-03-01 17:07:07.540138+00:00</td>\n",
       "      <td>59.686846</td>\n",
       "      <td>375.950591</td>\n",
       "      <td>31.640625</td>\n",
       "      <td>6</td>\n",
       "      <td>47.879445</td>\n",
       "      <td>-124.702035</td>\n",
       "      <td>31.640625</td>\n",
       "      <td>1</td>\n",
       "      <td>6775</td>\n",
       "      <td>-0.104036</td>\n",
       "      <td>OFR</td>\n",
       "      <td>P</td>\n",
       "      <td>1.298999e+09</td>\n",
       "      <td>263491</td>\n",
       "    </tr>\n",
       "    <tr>\n",
       "      <th>3</th>\n",
       "      <td>1</td>\n",
       "      <td>2011-03-01 17:07:07.540138+00:00</td>\n",
       "      <td>59.686846</td>\n",
       "      <td>375.950591</td>\n",
       "      <td>31.640625</td>\n",
       "      <td>6</td>\n",
       "      <td>47.879445</td>\n",
       "      <td>-124.702035</td>\n",
       "      <td>31.640625</td>\n",
       "      <td>1</td>\n",
       "      <td>565080</td>\n",
       "      <td>-0.195118</td>\n",
       "      <td>OFR</td>\n",
       "      <td>S</td>\n",
       "      <td>1.298999e+09</td>\n",
       "      <td>263531</td>\n",
       "    </tr>\n",
       "    <tr>\n",
       "      <th>4</th>\n",
       "      <td>1</td>\n",
       "      <td>2011-03-01 17:07:07.540138+00:00</td>\n",
       "      <td>59.686846</td>\n",
       "      <td>375.950591</td>\n",
       "      <td>31.640625</td>\n",
       "      <td>6</td>\n",
       "      <td>47.879445</td>\n",
       "      <td>-124.702035</td>\n",
       "      <td>31.640625</td>\n",
       "      <td>1</td>\n",
       "      <td>6696</td>\n",
       "      <td>0.293664</td>\n",
       "      <td>OZB</td>\n",
       "      <td>P</td>\n",
       "      <td>1.298999e+09</td>\n",
       "      <td>261084</td>\n",
       "    </tr>\n",
       "    <tr>\n",
       "      <th>...</th>\n",
       "      <td>...</td>\n",
       "      <td>...</td>\n",
       "      <td>...</td>\n",
       "      <td>...</td>\n",
       "      <td>...</td>\n",
       "      <td>...</td>\n",
       "      <td>...</td>\n",
       "      <td>...</td>\n",
       "      <td>...</td>\n",
       "      <td>...</td>\n",
       "      <td>...</td>\n",
       "      <td>...</td>\n",
       "      <td>...</td>\n",
       "      <td>...</td>\n",
       "      <td>...</td>\n",
       "      <td>...</td>\n",
       "    </tr>\n",
       "    <tr>\n",
       "      <th>2109</th>\n",
       "      <td>489</td>\n",
       "      <td>2015-12-30 07:39:28.170022+00:00</td>\n",
       "      <td>175.713613</td>\n",
       "      <td>467.496316</td>\n",
       "      <td>15.234375</td>\n",
       "      <td>6</td>\n",
       "      <td>48.680781</td>\n",
       "      <td>-123.113740</td>\n",
       "      <td>15.234375</td>\n",
       "      <td>489</td>\n",
       "      <td>956219</td>\n",
       "      <td>0.193057</td>\n",
       "      <td>BFSB</td>\n",
       "      <td>S</td>\n",
       "      <td>1.451461e+09</td>\n",
       "      <td>23567484</td>\n",
       "    </tr>\n",
       "    <tr>\n",
       "      <th>2110</th>\n",
       "      <td>489</td>\n",
       "      <td>2015-12-30 07:39:28.170022+00:00</td>\n",
       "      <td>175.713613</td>\n",
       "      <td>467.496316</td>\n",
       "      <td>15.234375</td>\n",
       "      <td>6</td>\n",
       "      <td>48.680781</td>\n",
       "      <td>-123.113740</td>\n",
       "      <td>15.234375</td>\n",
       "      <td>489</td>\n",
       "      <td>558421</td>\n",
       "      <td>0.234987</td>\n",
       "      <td>FORK</td>\n",
       "      <td>P</td>\n",
       "      <td>1.451461e+09</td>\n",
       "      <td>23568749</td>\n",
       "    </tr>\n",
       "    <tr>\n",
       "      <th>2111</th>\n",
       "      <td>489</td>\n",
       "      <td>2015-12-30 07:39:28.170022+00:00</td>\n",
       "      <td>175.713613</td>\n",
       "      <td>467.496316</td>\n",
       "      <td>15.234375</td>\n",
       "      <td>6</td>\n",
       "      <td>48.680781</td>\n",
       "      <td>-123.113740</td>\n",
       "      <td>15.234375</td>\n",
       "      <td>489</td>\n",
       "      <td>956292</td>\n",
       "      <td>-0.141743</td>\n",
       "      <td>FORK</td>\n",
       "      <td>S</td>\n",
       "      <td>1.451461e+09</td>\n",
       "      <td>23568743</td>\n",
       "    </tr>\n",
       "    <tr>\n",
       "      <th>2112</th>\n",
       "      <td>489</td>\n",
       "      <td>2015-12-30 07:39:28.170022+00:00</td>\n",
       "      <td>175.713613</td>\n",
       "      <td>467.496316</td>\n",
       "      <td>15.234375</td>\n",
       "      <td>6</td>\n",
       "      <td>48.680781</td>\n",
       "      <td>-123.113740</td>\n",
       "      <td>15.234375</td>\n",
       "      <td>489</td>\n",
       "      <td>558390</td>\n",
       "      <td>-0.184442</td>\n",
       "      <td>TOFB</td>\n",
       "      <td>P</td>\n",
       "      <td>1.451461e+09</td>\n",
       "      <td>23567934</td>\n",
       "    </tr>\n",
       "    <tr>\n",
       "      <th>2113</th>\n",
       "      <td>489</td>\n",
       "      <td>2015-12-30 07:39:28.170022+00:00</td>\n",
       "      <td>175.713613</td>\n",
       "      <td>467.496316</td>\n",
       "      <td>15.234375</td>\n",
       "      <td>6</td>\n",
       "      <td>48.680781</td>\n",
       "      <td>-123.113740</td>\n",
       "      <td>15.234375</td>\n",
       "      <td>489</td>\n",
       "      <td>956271</td>\n",
       "      <td>-0.065994</td>\n",
       "      <td>TOFB</td>\n",
       "      <td>S</td>\n",
       "      <td>1.451461e+09</td>\n",
       "      <td>23567951</td>\n",
       "    </tr>\n",
       "  </tbody>\n",
       "</table>\n",
       "<p>2114 rows × 16 columns</p>\n",
       "</div>"
      ],
      "text/plain": [
       "      idx                             time           x           y          z  \\\n",
       "0       1 2011-03-01 17:07:07.540138+00:00   59.686846  375.950591  31.640625   \n",
       "1       1 2011-03-01 17:07:07.540138+00:00   59.686846  375.950591  31.640625   \n",
       "2       1 2011-03-01 17:07:07.540138+00:00   59.686846  375.950591  31.640625   \n",
       "3       1 2011-03-01 17:07:07.540138+00:00   59.686846  375.950591  31.640625   \n",
       "4       1 2011-03-01 17:07:07.540138+00:00   59.686846  375.950591  31.640625   \n",
       "...   ...                              ...         ...         ...        ...   \n",
       "2109  489 2015-12-30 07:39:28.170022+00:00  175.713613  467.496316  15.234375   \n",
       "2110  489 2015-12-30 07:39:28.170022+00:00  175.713613  467.496316  15.234375   \n",
       "2111  489 2015-12-30 07:39:28.170022+00:00  175.713613  467.496316  15.234375   \n",
       "2112  489 2015-12-30 07:39:28.170022+00:00  175.713613  467.496316  15.234375   \n",
       "2113  489 2015-12-30 07:39:28.170022+00:00  175.713613  467.496316  15.234375   \n",
       "\n",
       "      picks   latitude   longitude      depth  event_idx  pick_idx  residual  \\\n",
       "0         6  47.879445 -124.702035  31.640625          1      6792  0.302324   \n",
       "1         6  47.879445 -124.702035  31.640625          1    565136  0.095024   \n",
       "2         6  47.879445 -124.702035  31.640625          1      6775 -0.104036   \n",
       "3         6  47.879445 -124.702035  31.640625          1    565080 -0.195118   \n",
       "4         6  47.879445 -124.702035  31.640625          1      6696  0.293664   \n",
       "...     ...        ...         ...        ...        ...       ...       ...   \n",
       "2109      6  48.680781 -123.113740  15.234375        489    956219  0.193057   \n",
       "2110      6  48.680781 -123.113740  15.234375        489    558421  0.234987   \n",
       "2111      6  48.680781 -123.113740  15.234375        489    956292 -0.141743   \n",
       "2112      6  48.680781 -123.113740  15.234375        489    558390 -0.184442   \n",
       "2113      6  48.680781 -123.113740  15.234375        489    956271 -0.065994   \n",
       "\n",
       "     station phase     time_pick   pick_id  \n",
       "0       FORK     P  1.298999e+09    264471  \n",
       "1       FORK     S  1.298999e+09    264468  \n",
       "2        OFR     P  1.298999e+09    263491  \n",
       "3        OFR     S  1.298999e+09    263531  \n",
       "4        OZB     P  1.298999e+09    261084  \n",
       "...      ...   ...           ...       ...  \n",
       "2109    BFSB     S  1.451461e+09  23567484  \n",
       "2110    FORK     P  1.451461e+09  23568749  \n",
       "2111    FORK     S  1.451461e+09  23568743  \n",
       "2112    TOFB     P  1.451461e+09  23567934  \n",
       "2113    TOFB     S  1.451461e+09  23567951  \n",
       "\n",
       "[2114 rows x 16 columns]"
      ]
     },
     "execution_count": 22,
     "metadata": {},
     "output_type": "execute_result"
    }
   ],
   "source": [
    "# Assign the event information to each pick by using pd.merge\n",
    "all_pick_assignments = pd.merge(events, assignments, left_on=\"idx\", right_on=\"event_idx\", suffixes=(\"\", \"_pick\"))\n",
    "all_pick_assignments"
   ]
  },
  {
   "cell_type": "code",
   "execution_count": 23,
   "id": "192a651f",
   "metadata": {},
   "outputs": [
    {
     "data": {
      "text/html": [
       "<div>\n",
       "<style scoped>\n",
       "    .dataframe tbody tr th:only-of-type {\n",
       "        vertical-align: middle;\n",
       "    }\n",
       "\n",
       "    .dataframe tbody tr th {\n",
       "        vertical-align: top;\n",
       "    }\n",
       "\n",
       "    .dataframe thead th {\n",
       "        text-align: right;\n",
       "    }\n",
       "</style>\n",
       "<table border=\"1\" class=\"dataframe\">\n",
       "  <thead>\n",
       "    <tr style=\"text-align: right;\">\n",
       "      <th></th>\n",
       "      <th>idx</th>\n",
       "      <th>time</th>\n",
       "      <th>x</th>\n",
       "      <th>y</th>\n",
       "      <th>z</th>\n",
       "      <th>picks</th>\n",
       "      <th>latitude</th>\n",
       "      <th>longitude</th>\n",
       "      <th>depth</th>\n",
       "      <th>event_idx</th>\n",
       "      <th>pick_idx</th>\n",
       "      <th>residual</th>\n",
       "      <th>station</th>\n",
       "      <th>phase</th>\n",
       "      <th>time_pick</th>\n",
       "      <th>pick_id</th>\n",
       "    </tr>\n",
       "  </thead>\n",
       "  <tbody>\n",
       "    <tr>\n",
       "      <th>0</th>\n",
       "      <td>1</td>\n",
       "      <td>2011-03-01 17:07:07.540138+00:00</td>\n",
       "      <td>59.686846</td>\n",
       "      <td>375.950591</td>\n",
       "      <td>31.640625</td>\n",
       "      <td>6</td>\n",
       "      <td>47.879445</td>\n",
       "      <td>-124.702035</td>\n",
       "      <td>31.640625</td>\n",
       "      <td>1</td>\n",
       "      <td>6792</td>\n",
       "      <td>0.302324</td>\n",
       "      <td>FORK</td>\n",
       "      <td>P</td>\n",
       "      <td>1.298999e+09</td>\n",
       "      <td>264471</td>\n",
       "    </tr>\n",
       "    <tr>\n",
       "      <th>1</th>\n",
       "      <td>1</td>\n",
       "      <td>2011-03-01 17:07:07.540138+00:00</td>\n",
       "      <td>59.686846</td>\n",
       "      <td>375.950591</td>\n",
       "      <td>31.640625</td>\n",
       "      <td>6</td>\n",
       "      <td>47.879445</td>\n",
       "      <td>-124.702035</td>\n",
       "      <td>31.640625</td>\n",
       "      <td>1</td>\n",
       "      <td>565136</td>\n",
       "      <td>0.095024</td>\n",
       "      <td>FORK</td>\n",
       "      <td>S</td>\n",
       "      <td>1.298999e+09</td>\n",
       "      <td>264468</td>\n",
       "    </tr>\n",
       "    <tr>\n",
       "      <th>2</th>\n",
       "      <td>1</td>\n",
       "      <td>2011-03-01 17:07:07.540138+00:00</td>\n",
       "      <td>59.686846</td>\n",
       "      <td>375.950591</td>\n",
       "      <td>31.640625</td>\n",
       "      <td>6</td>\n",
       "      <td>47.879445</td>\n",
       "      <td>-124.702035</td>\n",
       "      <td>31.640625</td>\n",
       "      <td>1</td>\n",
       "      <td>6775</td>\n",
       "      <td>-0.104036</td>\n",
       "      <td>OFR</td>\n",
       "      <td>P</td>\n",
       "      <td>1.298999e+09</td>\n",
       "      <td>263491</td>\n",
       "    </tr>\n",
       "    <tr>\n",
       "      <th>3</th>\n",
       "      <td>1</td>\n",
       "      <td>2011-03-01 17:07:07.540138+00:00</td>\n",
       "      <td>59.686846</td>\n",
       "      <td>375.950591</td>\n",
       "      <td>31.640625</td>\n",
       "      <td>6</td>\n",
       "      <td>47.879445</td>\n",
       "      <td>-124.702035</td>\n",
       "      <td>31.640625</td>\n",
       "      <td>1</td>\n",
       "      <td>565080</td>\n",
       "      <td>-0.195118</td>\n",
       "      <td>OFR</td>\n",
       "      <td>S</td>\n",
       "      <td>1.298999e+09</td>\n",
       "      <td>263531</td>\n",
       "    </tr>\n",
       "    <tr>\n",
       "      <th>4</th>\n",
       "      <td>1</td>\n",
       "      <td>2011-03-01 17:07:07.540138+00:00</td>\n",
       "      <td>59.686846</td>\n",
       "      <td>375.950591</td>\n",
       "      <td>31.640625</td>\n",
       "      <td>6</td>\n",
       "      <td>47.879445</td>\n",
       "      <td>-124.702035</td>\n",
       "      <td>31.640625</td>\n",
       "      <td>1</td>\n",
       "      <td>6696</td>\n",
       "      <td>0.293664</td>\n",
       "      <td>OZB</td>\n",
       "      <td>P</td>\n",
       "      <td>1.298999e+09</td>\n",
       "      <td>261084</td>\n",
       "    </tr>\n",
       "    <tr>\n",
       "      <th>5</th>\n",
       "      <td>1</td>\n",
       "      <td>2011-03-01 17:07:07.540138+00:00</td>\n",
       "      <td>59.686846</td>\n",
       "      <td>375.950591</td>\n",
       "      <td>31.640625</td>\n",
       "      <td>6</td>\n",
       "      <td>47.879445</td>\n",
       "      <td>-124.702035</td>\n",
       "      <td>31.640625</td>\n",
       "      <td>1</td>\n",
       "      <td>565030</td>\n",
       "      <td>-0.391857</td>\n",
       "      <td>OZB</td>\n",
       "      <td>S</td>\n",
       "      <td>1.298999e+09</td>\n",
       "      <td>261165</td>\n",
       "    </tr>\n",
       "    <tr>\n",
       "      <th>6</th>\n",
       "      <td>2</td>\n",
       "      <td>2011-03-20 04:20:39.627115+00:00</td>\n",
       "      <td>-142.244353</td>\n",
       "      <td>664.891786</td>\n",
       "      <td>49.609375</td>\n",
       "      <td>6</td>\n",
       "      <td>50.463057</td>\n",
       "      <td>-127.503384</td>\n",
       "      <td>49.609375</td>\n",
       "      <td>2</td>\n",
       "      <td>8721</td>\n",
       "      <td>0.839141</td>\n",
       "      <td>FORK</td>\n",
       "      <td>P</td>\n",
       "      <td>1.300595e+09</td>\n",
       "      <td>344264</td>\n",
       "    </tr>\n",
       "    <tr>\n",
       "      <th>7</th>\n",
       "      <td>2</td>\n",
       "      <td>2011-03-20 04:20:39.627115+00:00</td>\n",
       "      <td>-142.244353</td>\n",
       "      <td>664.891786</td>\n",
       "      <td>49.609375</td>\n",
       "      <td>6</td>\n",
       "      <td>50.463057</td>\n",
       "      <td>-127.503384</td>\n",
       "      <td>49.609375</td>\n",
       "      <td>2</td>\n",
       "      <td>567101</td>\n",
       "      <td>-1.077741</td>\n",
       "      <td>FORK</td>\n",
       "      <td>S</td>\n",
       "      <td>1.300595e+09</td>\n",
       "      <td>344266</td>\n",
       "    </tr>\n",
       "    <tr>\n",
       "      <th>8</th>\n",
       "      <td>2</td>\n",
       "      <td>2011-03-20 04:20:39.627115+00:00</td>\n",
       "      <td>-142.244353</td>\n",
       "      <td>664.891786</td>\n",
       "      <td>49.609375</td>\n",
       "      <td>6</td>\n",
       "      <td>50.463057</td>\n",
       "      <td>-127.503384</td>\n",
       "      <td>49.609375</td>\n",
       "      <td>2</td>\n",
       "      <td>8665</td>\n",
       "      <td>-0.077135</td>\n",
       "      <td>OFR</td>\n",
       "      <td>P</td>\n",
       "      <td>1.300595e+09</td>\n",
       "      <td>343604</td>\n",
       "    </tr>\n",
       "    <tr>\n",
       "      <th>9</th>\n",
       "      <td>2</td>\n",
       "      <td>2011-03-20 04:20:39.627115+00:00</td>\n",
       "      <td>-142.244353</td>\n",
       "      <td>664.891786</td>\n",
       "      <td>49.609375</td>\n",
       "      <td>6</td>\n",
       "      <td>50.463057</td>\n",
       "      <td>-127.503384</td>\n",
       "      <td>49.609375</td>\n",
       "      <td>2</td>\n",
       "      <td>567048</td>\n",
       "      <td>0.194016</td>\n",
       "      <td>OFR</td>\n",
       "      <td>S</td>\n",
       "      <td>1.300595e+09</td>\n",
       "      <td>343651</td>\n",
       "    </tr>\n",
       "  </tbody>\n",
       "</table>\n",
       "</div>"
      ],
      "text/plain": [
       "   idx                             time           x           y          z  \\\n",
       "0    1 2011-03-01 17:07:07.540138+00:00   59.686846  375.950591  31.640625   \n",
       "1    1 2011-03-01 17:07:07.540138+00:00   59.686846  375.950591  31.640625   \n",
       "2    1 2011-03-01 17:07:07.540138+00:00   59.686846  375.950591  31.640625   \n",
       "3    1 2011-03-01 17:07:07.540138+00:00   59.686846  375.950591  31.640625   \n",
       "4    1 2011-03-01 17:07:07.540138+00:00   59.686846  375.950591  31.640625   \n",
       "5    1 2011-03-01 17:07:07.540138+00:00   59.686846  375.950591  31.640625   \n",
       "6    2 2011-03-20 04:20:39.627115+00:00 -142.244353  664.891786  49.609375   \n",
       "7    2 2011-03-20 04:20:39.627115+00:00 -142.244353  664.891786  49.609375   \n",
       "8    2 2011-03-20 04:20:39.627115+00:00 -142.244353  664.891786  49.609375   \n",
       "9    2 2011-03-20 04:20:39.627115+00:00 -142.244353  664.891786  49.609375   \n",
       "\n",
       "   picks   latitude   longitude      depth  event_idx  pick_idx  residual  \\\n",
       "0      6  47.879445 -124.702035  31.640625          1      6792  0.302324   \n",
       "1      6  47.879445 -124.702035  31.640625          1    565136  0.095024   \n",
       "2      6  47.879445 -124.702035  31.640625          1      6775 -0.104036   \n",
       "3      6  47.879445 -124.702035  31.640625          1    565080 -0.195118   \n",
       "4      6  47.879445 -124.702035  31.640625          1      6696  0.293664   \n",
       "5      6  47.879445 -124.702035  31.640625          1    565030 -0.391857   \n",
       "6      6  50.463057 -127.503384  49.609375          2      8721  0.839141   \n",
       "7      6  50.463057 -127.503384  49.609375          2    567101 -1.077741   \n",
       "8      6  50.463057 -127.503384  49.609375          2      8665 -0.077135   \n",
       "9      6  50.463057 -127.503384  49.609375          2    567048  0.194016   \n",
       "\n",
       "  station phase     time_pick  pick_id  \n",
       "0    FORK     P  1.298999e+09   264471  \n",
       "1    FORK     S  1.298999e+09   264468  \n",
       "2     OFR     P  1.298999e+09   263491  \n",
       "3     OFR     S  1.298999e+09   263531  \n",
       "4     OZB     P  1.298999e+09   261084  \n",
       "5     OZB     S  1.298999e+09   261165  \n",
       "6    FORK     P  1.300595e+09   344264  \n",
       "7    FORK     S  1.300595e+09   344266  \n",
       "8     OFR     P  1.300595e+09   343604  \n",
       "9     OFR     S  1.300595e+09   343651  "
      ]
     },
     "execution_count": 23,
     "metadata": {},
     "output_type": "execute_result"
    }
   ],
   "source": [
    "all_pick_assignments[0:10]"
   ]
  },
  {
   "cell_type": "code",
   "execution_count": 24,
   "id": "37ebd009",
   "metadata": {},
   "outputs": [],
   "source": [
    "# Save the assignments to a CSV file\n",
    "all_pick_assignments.to_csv(\"../data/datasets_nwa_shore/all_pick_assignments_nwa_shore_all.csv\")"
   ]
  },
  {
   "cell_type": "code",
   "execution_count": 25,
   "id": "73c15960",
   "metadata": {},
   "outputs": [
    {
     "data": {
      "image/png": "[encoded data removed]",
      "text/plain": [
       "<Figure size 400x800 with 2 Axes>"
      ]
     },
     "metadata": {},
     "output_type": "display_data"
    }
   ],
   "source": [
    "# The parameters in the associator class: n_picks=2,n_p_picks=1,n_s_picks=1,n_p_and_s_picks=1\n",
    "fig = plt.figure(figsize=(4, 8))\n",
    "ax = fig.add_subplot()\n",
    "ax.set_aspect(\"equal\")\n",
    "\n",
    "# ax.scatter(events[\"x\"], events[\"y\"], c=events[\"z\"])\n",
    "ax.set_xlabel(\"Easting [km]\")\n",
    "ax.set_ylabel(\"Northing [km]\")\n",
    "cax = fig.add_axes([ax.get_position().x1+0.05,ax.get_position().y0,0.02,ax.get_position().height])\n",
    "cb1 = fig.colorbar(ax.scatter(events[\"x\"], events[\"y\"], c=events[\"z\"],s=0.5,cmap='viridis'), cax=cax)\n",
    "cb1.ax.invert_yaxis()"
   ]
  },
  {
   "cell_type": "markdown",
   "id": "2a605e6e",
   "metadata": {},
   "source": [
    "## Plot the associated events (not necessary to run cells below)"
   ]
  },
  {
   "cell_type": "code",
   "execution_count": null,
   "id": "b60bfc02",
   "metadata": {},
   "outputs": [],
   "source": [
    "# Read the event dataframe saved above\n",
    "events = pd.read_csv('../data/events_october_temp_with_JCC.csv')"
   ]
  },
  {
   "cell_type": "code",
   "execution_count": null,
   "id": "705547c6",
   "metadata": {},
   "outputs": [],
   "source": [
    "events"
   ]
  },
  {
   "cell_type": "code",
   "execution_count": null,
   "id": "c13e1287",
   "metadata": {},
   "outputs": [],
   "source": [
    "# Plot the events \n",
    "import pygmt\n",
    "fig = pygmt.Figure()\n",
    "# grid = pygmt.datasets.load_earth_relief(resolution=\"15s\", region=[-126, -124, 40, 43])\n",
    "# # fig.shift_origin(yshift=\"10c\")\n",
    "# fig.grdimage(grid=grid, projection=\"M15c\", frame=\"a\", cmap=\"geo\", transparency = 50)\n",
    "# # fig.plot(x = events_morton_201210_lon, y = events_morton_201210_lat,  \n",
    "# #          color = 'blue', size = size_morton, style = \"c\", pen = \"black\")\n",
    "# # fig.plot(x = myevents_20121014_lon, y = myevents_20121014_lat,  \n",
    "# #          color = 'red', size = size_myevents, style = \"c\", pen = \"black\")\n",
    "# # fig.plot(x = events_jdf_201210_lon, y = events_jdf_201210_lat,  \n",
    "# #          color = 'yellow', size = size_jdf, style = \"c\", pen = \"black\")\n",
    "# # fig.plot(x = events_cascadia_201210_lon, y = events_cascadia_201210_lat,  \n",
    "# #          color = 'yellow', size = size_cascadia, style = \"c\", pen = \"black\")\n",
    "# # fig.plot(x = events_USGS_201210_lon, y = events_USGS_201210_lat,  \n",
    "# #          color = 'green', size = size_USGS, style = \"c\", pen = \"black\")\n",
    "# # # Draw a line between two events that we consider to be the same event \n",
    "# # Draw a line between two events that we consider to be the same event \n",
    "# # fig.plot(x = (event_0239_lon,event_morton_0239_lon), y = (event_0239_lat,event_morton_0239_lat), pen =\"4p, red\")\n",
    "# # fig.plot(x = (event_0239_lon,event_morton_0239_lon), y = (event_0239_lat,event_morton_0308_lat), pen =\"4p, red\")\n",
    "# fig.plot(x=events[\"x\"], y=events[\"y\"], c=events[\"z\"],s=0.5,cmap='viridis')\n",
    "# fig.show()\n",
    "\n",
    "grid = pygmt.datasets.load_earth_relief(resolution=\"15s\", region=[-127, -123, 40, 50])\n",
    "fig.shift_origin(yshift=\"10c\")\n",
    "fig.grdimage(grid=grid, projection=\"M15c\", frame=\"a\", cmap=\"geo\", transparency = 50)\n",
    "pygmt.makecpt(cmap=\"hot\", series=[min(events['picks'].values), max(events['picks'].values)])\n",
    "fig.plot(\n",
    "    x=events[\"longitude\"].values,\n",
    "    y=events[\"latitude\"].values,\n",
    "    size=0.3 * np.ones(len(events)),\n",
    "    fill=events['picks'].values,\n",
    "    cmap=True,\n",
    "    style=\"cc\",\n",
    "    pen=\"black\",\n",
    ")\n",
    "fig.colorbar(frame=\"xaf+lNumber of Picks\")\n",
    "# fig.plot(x=events[\"longitude\"].values[0:200], y=events[\"latitude\"].values[0:200], style=\"c0.3c\", color=events['picks'].values[0:200], cmap='viridis', pen=\"black\")\n",
    "fig.show()"
   ]
  },
  {
   "cell_type": "code",
   "execution_count": null,
   "id": "09747c11",
   "metadata": {},
   "outputs": [],
   "source": []
  },
  {
   "cell_type": "markdown",
   "id": "4ee49480",
   "metadata": {},
   "source": [
    "## Association validation (not necessary anymore) \n",
    "Get the events from the USGS and compare with the events from the association\n"
   ]
  },
  {
   "cell_type": "code",
   "execution_count": null,
   "id": "75d2c561",
   "metadata": {},
   "outputs": [],
   "source": [
    "client = Client(\"USGS\")\n",
    "client_waveforms = WaveformClient()\n",
    "client.get_events(starttime = UTCDateTime(\"2012-10-14T00:00:00.000000\"),\n",
    "                  endtime   = UTCDateTime(\"2012-10-14T23:59:59.999999\"),\n",
    "                  minlatitude = 40, maxlatitude = 44, \n",
    "                  minlongitude = -125, maxlongitude = -120)\n"
   ]
  },
  {
   "cell_type": "code",
   "execution_count": null,
   "id": "5921ac85",
   "metadata": {},
   "outputs": [],
   "source": [
    "# Pick a station \n",
    "s = client_waveforms.get_waveforms(network=\"7D\", station=\"FS09B\", channel=\"BH?\", year=2012, month=10, day=14)\n",
    "s.filter(type='bandpass',freqmin=4,freqmax=15)"
   ]
  },
  {
   "cell_type": "code",
   "execution_count": null,
   "id": "52bc56fb",
   "metadata": {},
   "outputs": [],
   "source": [
    "# Pick a time that shows up in both the USGS catalog and the event data frame from the association above \n",
    "time1 = events.loc[1, 'time']"
   ]
  },
  {
   "cell_type": "code",
   "execution_count": null,
   "id": "e24b438d",
   "metadata": {},
   "outputs": [],
   "source": [
    "time1"
   ]
  },
  {
   "cell_type": "code",
   "execution_count": null,
   "id": "16eb9cc6",
   "metadata": {},
   "outputs": [],
   "source": [
    "trim_s = s.copy().trim(starttime = UTCDateTime(time1) - 20, \n",
    "                endtime = UTCDateTime(time1) + 40)\n",
    "fig = plt.figure(figsize = (10, 4))\n",
    "trim_s.plot(fig=fig)\n",
    "\n",
    "# [ax.axvline(pick.peak_time.matplotlib_date, \n",
    "#             linestyle = '--', color = 'r', label = f'{pick.phase} pick') for ax in fig.axes]\n",
    "# [ax.legend() for ax in fig.axes]"
   ]
  },
  {
   "cell_type": "code",
   "execution_count": null,
   "id": "ea03a6cb",
   "metadata": {},
   "outputs": [],
   "source": [
    "# Pick another time that shows up in both the USGS catalog and the event data frame from the association above \n",
    "time2 = events.loc[2, 'time']\n",
    "time2"
   ]
  },
  {
   "cell_type": "code",
   "execution_count": null,
   "id": "d6006088",
   "metadata": {},
   "outputs": [],
   "source": [
    "trim_s = s.copy().trim(starttime = UTCDateTime(time2) - 20, \n",
    "                endtime = UTCDateTime(time2) + 40)\n",
    "fig = plt.figure(figsize = (10, 4))\n",
    "trim_s.plot(fig=fig)\n",
    "\n",
    "# [ax.axvline(pick.peak_time.matplotlib_date, \n",
    "#             linestyle = '--', color = 'r', label = f'{pick.phase} pick') for ax in fig.axes]\n",
    "# [ax.legend() for ax in fig.axes]"
   ]
  },
  {
   "cell_type": "markdown",
   "id": "6382af9b",
   "metadata": {},
   "source": [
    "## Other Picks"
   ]
  },
  {
   "cell_type": "code",
   "execution_count": null,
   "id": "5109e9ee",
   "metadata": {},
   "outputs": [],
   "source": [
    "time = events['time']\n",
    "time"
   ]
  },
  {
   "cell_type": "code",
   "execution_count": null,
   "id": "dc7fe7f7",
   "metadata": {},
   "outputs": [],
   "source": [
    "time_possibly_new_events = time.drop(labels=[1,2], axis=0)\n",
    "time_possibly_new_events"
   ]
  },
  {
   "cell_type": "code",
   "execution_count": null,
   "id": "74e0cb1e",
   "metadata": {
    "scrolled": false
   },
   "outputs": [],
   "source": [
    "for time in time_possibly_new_events:\n",
    "    plt.figure(figsize=(10,10))\n",
    "    for i in range(len(stations)):\n",
    "        s = client_waveforms.get_waveforms(network=\"7D\", station=stations['id'][i], channel=\"?H?\", year=2012, month=10, day=14)\n",
    "        s = s.select(channel = \"[HB]H?\")\n",
    "        s.filter(type='bandpass',freqmin=4,freqmax=15)\n",
    "        if s[0].stats.channel == 'HH1':\n",
    "            s = s.resample(50)\n",
    "        else:\n",
    "            pass \n",
    "\n",
    "        trim_s = s.copy().trim(starttime = UTCDateTime(time) - 10, endtime = UTCDateTime(time) + 50)\n",
    "        sdata = np.array(trim_s)[:,:]\n",
    "        sdata_norm = (sdata-np.min(sdata, axis=1, keepdims=True))/(np.max(sdata, axis=1, keepdims=True)-np.min(sdata, axis=1, keepdims=True))\n",
    "        offsets2 = np.arange(0,3*len(sdata)*len(stations),3*len(sdata))\n",
    "\n",
    "        for ii in range(len(sdata)):\n",
    "            offsets1  = np.arange(0,len(sdata))\n",
    "            plt.plot(trim_s[ii].times(type='utcdatetime'), sdata_norm[ii]+offsets1[ii]+offsets2[i], color = 'gray', alpha=0.7, lw=0.5)    \n",
    "\n",
    "\n",
    "    plt.yticks(offsets2+1, stations['id'])\n",
    "    plt.axvline(time,ls='-', c='r')\n",
    "    plt.title(time)"
   ]
  },
  {
   "cell_type": "code",
   "execution_count": null,
   "id": "1ba96a54",
   "metadata": {},
   "outputs": [],
   "source": []
  },
  {
   "cell_type": "code",
   "execution_count": null,
   "id": "922d45d2",
   "metadata": {},
   "outputs": [],
   "source": []
  },
  {
   "cell_type": "code",
   "execution_count": null,
   "id": "ad773019",
   "metadata": {},
   "outputs": [],
   "source": []
  },
  {
   "cell_type": "code",
   "execution_count": null,
   "id": "8bf6a534",
   "metadata": {},
   "outputs": [],
   "source": []
  },
  {
   "cell_type": "code",
   "execution_count": null,
   "id": "0711c1ac",
   "metadata": {},
   "outputs": [],
   "source": []
  },
  {
   "cell_type": "code",
   "execution_count": null,
   "id": "56b6f13d",
   "metadata": {},
   "outputs": [],
   "source": []
  },
  {
   "cell_type": "code",
   "execution_count": null,
   "id": "6d113604",
   "metadata": {},
   "outputs": [],
   "source": []
  },
  {
   "cell_type": "code",
   "execution_count": null,
   "id": "4c756483",
   "metadata": {},
   "outputs": [],
   "source": []
  },
  {
   "cell_type": "code",
   "execution_count": null,
   "id": "07f5c96c",
   "metadata": {},
   "outputs": [],
   "source": []
  },
  {
   "cell_type": "code",
   "execution_count": null,
   "id": "541bb971",
   "metadata": {},
   "outputs": [],
   "source": [
    "# Plot waveforms of events picked by the associator but not on the USGS catalog\n",
    "time4 = events.loc[4, 'time']\n",
    "time4"
   ]
  },
  {
   "cell_type": "code",
   "execution_count": null,
   "id": "663b712a",
   "metadata": {},
   "outputs": [],
   "source": [
    "# s_FS09B = client_waveforms.get_waveforms(network=\"7D\", station=\"FS09B\", channel=\"BH?\", year=2012, month=10, day=14)\n",
    "# s_G10B = client_waveforms.get_waveforms(network=\"7D\", station=\"G10B\", channel=\"BH?\", year=2012, month=10, day=14)\n",
    "# s_G19B = client_waveforms.get_waveforms(network=\"7D\", station=\"G19B\", channel=\"BH?\", year=2012, month=10, day=14)\n",
    "# s_G25B = client_waveforms.get_waveforms(network=\"7D\", station=\"G25B\", channel=\"BH?\", year=2012, month=10, day=14)\n",
    "# s_G27B = client_waveforms.get_waveforms(network=\"7D\", station=\"G27B\", channel=\"BH?\", year=2012, month=10, day=14)\n",
    "# s_J09B = client_waveforms.get_waveforms(network=\"7D\", station=\"J09B\", channel=\"BH?\", year=2012, month=10, day=14)\n",
    "# s_M12B= client_waveforms.get_waveforms(network=\"7D\", station=\"M12B\", channel=\"BH?\", year=2012, month=10, day=14)\n",
    "# s_M14B = client_waveforms.get_waveforms(network=\"7D\", station=\"M14B\", channel=\"BH?\", year=2012, month=10, day=14)\n"
   ]
  },
  {
   "cell_type": "code",
   "execution_count": null,
   "id": "af5a9fec",
   "metadata": {},
   "outputs": [],
   "source": [
    "# trim_s_FS09B = s.copy().trim(starttime = UTCDateTime(time1) - 20, endtime = UTCDateTime(time1) + 40)\n",
    "# trim_s_G10B = s.copy().trim(starttime = UTCDateTime(time1) - 20, endtime = UTCDateTime(time1) + 40)\n",
    "# trim_s_G19B = s.copy().trim(starttime = UTCDateTime(time1) - 20, endtime = UTCDateTime(time1) + 40)\n",
    "# trim_s_G25B = s.copy().trim(starttime = UTCDateTime(time1) - 20, endtime = UTCDateTime(time1) + 40)\n",
    "# trim_s_G27B = s.copy().trim(starttime = UTCDateTime(time1) - 20, endtime = UTCDateTime(time1) + 40)\n",
    "# trim_s_J09B = s.copy().trim(starttime = UTCDateTime(time1) - 20, endtime = UTCDateTime(time1) + 40)\n",
    "# trim_s_M12B = s.copy().trim(starttime = UTCDateTime(time1) - 20, endtime = UTCDateTime(time1) + 40)\n",
    "# trim_s_M14B = s.copy().trim(starttime = UTCDateTime(time1) - 20, endtime = UTCDateTime(time1) + 40)\n",
    "\n"
   ]
  },
  {
   "cell_type": "code",
   "execution_count": null,
   "id": "fccedef5",
   "metadata": {
    "scrolled": true
   },
   "outputs": [],
   "source": [
    "for i, station in enumerate(stations['id']):\n",
    "    s = client_waveforms.get_waveforms(network=\"7D\", station=station, channel=\"?H?\", year=2012, month=10, day=14)\n",
    "    s = s.select(channel = \"[HB]H?\")\n",
    "    s.filter(type='bandpass',freqmin=4,freqmax=15)\n",
    "    trim_s = s.copy().trim(starttime = UTCDateTime(pick_time[4]) - 20, endtime = UTCDateTime(pick_time[4]) + 100)\n",
    "    fig = plt.figure(figsize=(10,4))\n",
    "    trim_s.plot(fig=fig)\n",
    "    [ax.axvline(pick_time[4], \n",
    "            linestyle = '--', color = 'r', label = 'pick time') for ax in fig.axes]    \n"
   ]
  },
  {
   "cell_type": "code",
   "execution_count": null,
   "id": "2f71da0a",
   "metadata": {},
   "outputs": [],
   "source": [
    "offsets1  = np.arange(0,3)\n",
    "offsets2 = np.arange(0,2*len(stations),2)\n",
    "\n"
   ]
  },
  {
   "cell_type": "code",
   "execution_count": null,
   "id": "afb10228",
   "metadata": {},
   "outputs": [],
   "source": [
    "offsets1"
   ]
  },
  {
   "cell_type": "code",
   "execution_count": null,
   "id": "12481d1c",
   "metadata": {},
   "outputs": [],
   "source": [
    "offsets2 = np.arange(0,2*10000*len(stations),2*10000)\n",
    "\n",
    "offsets2"
   ]
  },
  {
   "cell_type": "code",
   "execution_count": null,
   "id": "6c636fb6",
   "metadata": {},
   "outputs": [],
   "source": [
    "plt.figure()\n",
    "offsets2 = np.arange(0,5*10000*len(stations),5*10000)\n",
    "\n",
    "for i, station in enumerate(stations['id']):\n",
    "    s = client_waveforms.get_waveforms(network=\"7D\", station=station, channel=\"?H?\", year=2012, month=10, day=14)\n",
    "    s = s.select(channel = \"[HB]H?\")\n",
    "    s.filter(type='bandpass',freqmin=4,freqmax=15)\n",
    "    trim_s = s.copy().trim(starttime = UTCDateTime(pick_time[4]) - 20, endtime = UTCDateTime(pick_time[4]) + 100)\n",
    "    sdata = np.array(trim_s)[:,:]\n",
    "    for ii in range(len(sdata)):\n",
    "        offsets1  = np.arange(0,10000*len(sdata),10000)\n",
    "        plt.plot(sdata[ii].T+offsets1[ii]+offsets2[i], color = 'gray', alpha=0.5)   \n"
   ]
  },
  {
   "cell_type": "code",
   "execution_count": null,
   "id": "dd3cf9cb",
   "metadata": {},
   "outputs": [],
   "source": [
    "offsets2 = np.arange(0,5*100000*len(stations),5*100000)\n",
    "\n",
    "\n",
    "s = client_waveforms.get_waveforms(network=\"7D\", station=stations['id'][0], channel=\"?H?\", year=2012, month=10, day=14)\n",
    "s = s.select(channel = \"[HB]H?\")\n",
    "s.filter(type='bandpass',freqmin=4,freqmax=15)\n",
    "sampling_rate = s[0].stats.sampling_rate\n",
    "trim_s = s.copy().trim(starttime = UTCDateTime(pick_time[4]) - 10, endtime = UTCDateTime(pick_time[4]) + 50)\n",
    "sdata = np.array(trim_s)[:,:]\n",
    "sdata_norm = (sdata - np.mean(sdata, axis=1, keepdims=True))/(np.std(sdata, axis=1, keepdims=True))\n",
    "\n",
    "for ii in range(len(sdata)):\n",
    "    offsets1  = np.arange(0,len(sdata))\n",
    "    plt.plot(sdata_norm.T+offsets1[ii], color = 'gray', alpha=0.5, lw=0.5)\n",
    "\n",
    "plt.axvline(10*sampling_rate,ls='-', c='r')\n",
    "    \n"
   ]
  },
  {
   "cell_type": "code",
   "execution_count": null,
   "id": "6db09907",
   "metadata": {},
   "outputs": [],
   "source": [
    "sdata.mean()"
   ]
  },
  {
   "cell_type": "code",
   "execution_count": null,
   "id": "d49994be",
   "metadata": {},
   "outputs": [],
   "source": [
    "s[0].stats.sampling_rate*120"
   ]
  },
  {
   "cell_type": "code",
   "execution_count": null,
   "id": "c0574f27",
   "metadata": {},
   "outputs": [],
   "source": [
    "s = client_waveforms.get_waveforms(network=\"7D\", station=stations['id'][3], channel=\"?H?\", year=2012, month=10, day=14)\n",
    "s = s.select(channel = \"[HB]H?\")\n",
    "s.filter(type='bandpass',freqmin=4,freqmax=15)\n",
    "trim_s = s.copy().trim(starttime = UTCDateTime(pick_time[4]) - 10, endtime = UTCDateTime(pick_time[4]) + 50)\n",
    "sdata = np.array(trim_s)[:,:]\n",
    "sdata_norm = (sdata - np.mean(sdata, axis=1, keepdims=True))/(np.std(sdata, axis=1, keepdims=True))\n",
    "\n",
    "for ii in range(len(sdata)):\n",
    "    offsets1  = np.arange(0,len(sdata))\n",
    "    plt.plot(sdata_norm.T+offsets1[ii], color = 'gray', alpha=0.5, lw=0.5)"
   ]
  },
  {
   "cell_type": "code",
   "execution_count": null,
   "id": "e6b0cb7a",
   "metadata": {},
   "outputs": [],
   "source": [
    "plt.figure(figsize=(10,10))\n",
    "offsets2 = np.arange(0,3*len(sdata)*len(stations),3*len(sdata))\n",
    "\n",
    "for i in range(len(stations)):\n",
    "    s = client_waveforms.get_waveforms(network=\"7D\", station=stations['id'][i], channel=\"?H?\", year=2012, month=10, day=14)\n",
    "    s = s.select(channel = \"[HB]H?\")\n",
    "    s.filter(type='bandpass',freqmin=4,freqmax=15)\n",
    "    trim_s = s.copy().trim(starttime = UTCDateTime(pick_time[4]) - 10, endtime = UTCDateTime(pick_time[4]) + 50)\n",
    "    sdata = np.array(trim_s)[:,:]\n",
    "    sdata_norm = (sdata - np.mean(sdata, axis=1, keepdims=True))/(np.std(sdata, axis=1, keepdims=True))\n",
    "\n",
    "    for ii in range(len(sdata)):\n",
    "        offsets1  = np.arange(0,len(sdata))\n",
    "        plt.plot(sdata_norm.T+offsets1[ii]+offsets2[i], color = 'gray', alpha=0.5, lw=0.5)    \n",
    "\n",
    "plt.axvline(10*sampling_rate,ls='-', c='r')\n"
   ]
  },
  {
   "cell_type": "code",
   "execution_count": null,
   "id": "19c686e5",
   "metadata": {},
   "outputs": [],
   "source": [
    "offsets2 = np.arange(0,3*len(sdata)*len(stations),3*len(sdata))\n",
    "offsets2"
   ]
  },
  {
   "cell_type": "code",
   "execution_count": null,
   "id": "e7018b5d",
   "metadata": {},
   "outputs": [],
   "source": [
    "np.mean(sdata, axis=1, keepdims=True)"
   ]
  },
  {
   "cell_type": "code",
   "execution_count": null,
   "id": "0e2ae66a",
   "metadata": {},
   "outputs": [],
   "source": [
    "sdata"
   ]
  },
  {
   "cell_type": "code",
   "execution_count": null,
   "id": "ae3a3c94",
   "metadata": {
    "scrolled": true
   },
   "outputs": [],
   "source": [
    "np.mean(sdata[0])"
   ]
  },
  {
   "cell_type": "code",
   "execution_count": null,
   "id": "21ad1bd4",
   "metadata": {},
   "outputs": [],
   "source": [
    "(sdata - np.mean(sdata, axis=1, keepdims=True))/(np.std(sdata, axis=1, keepdims=True))"
   ]
  },
  {
   "cell_type": "code",
   "execution_count": null,
   "id": "d22e3aa6",
   "metadata": {},
   "outputs": [],
   "source": [
    "(225.73644077-0.28159811)/20312.08876045"
   ]
  },
  {
   "cell_type": "code",
   "execution_count": null,
   "id": "195cbc12",
   "metadata": {},
   "outputs": [],
   "source": [
    "np.std(sdata, axis=1, keepdims=True) "
   ]
  },
  {
   "cell_type": "code",
   "execution_count": null,
   "id": "5d683445",
   "metadata": {},
   "outputs": [],
   "source": [
    "sdata"
   ]
  },
  {
   "cell_type": "code",
   "execution_count": null,
   "id": "52abdd98",
   "metadata": {},
   "outputs": [],
   "source": [
    "np.max(sdata, axis=1, keepdims=True)"
   ]
  },
  {
   "cell_type": "code",
   "execution_count": null,
   "id": "5300ce85",
   "metadata": {},
   "outputs": [],
   "source": [
    "np.min(sdata, axis=1, keepdims=True)"
   ]
  },
  {
   "cell_type": "code",
   "execution_count": null,
   "id": "2fd831f7",
   "metadata": {},
   "outputs": [],
   "source": [
    "(sdata-np.min(sdata, axis=1, keepdims=True))/(np.max(sdata, axis=1, keepdims=True)-np.min(sdata, axis=1, keepdims=True))"
   ]
  },
  {
   "cell_type": "code",
   "execution_count": null,
   "id": "ab06af2b",
   "metadata": {},
   "outputs": [],
   "source": [
    "plt.figure(figsize=(10,10))\n",
    "offsets2 = np.arange(0,3*len(sdata)*len(stations),3*len(sdata))\n",
    "\n",
    "for i in range(len(stations)):\n",
    "    s = client_waveforms.get_waveforms(network=\"7D\", station=stations['id'][i], channel=\"?H?\", year=2012, month=10, day=14)\n",
    "    s = s.select(channel = \"[HB]H?\")\n",
    "    s.filter(type='bandpass',freqmin=4,freqmax=15)\n",
    "    trim_s = s.copy().trim(starttime = UTCDateTime(pick_time[4]) - 10, endtime = UTCDateTime(pick_time[4]) + 50)\n",
    "    sdata = np.array(trim_s)[:,:]\n",
    "    if s[0].stats.channel == 'HH1':\n",
    "        new_rate = 50\n",
    "        number_of_samples = round(len(sdata[0]) * float(new_rate) /s[0].stats.sampling_rate)\n",
    "        sdata = signal.resample(sdata, number_of_samples, axis=-1)\n",
    "    else:\n",
    "        pass \n",
    "    print(len(sdata[-1]))\n",
    "    sdata_norm = (sdata-np.min(sdata, axis=1, keepdims=True))/(np.max(sdata, axis=1, keepdims=True)-np.min(sdata, axis=1, keepdims=True))\n",
    "    for ii in range(len(sdata)):\n",
    "        offsets1  = np.arange(0,len(sdata))\n",
    "        plt.plot(sdata_norm.T+offsets1[ii]+offsets2[i], color = 'gray', alpha=0.5, lw=0.5)    \n",
    "\n",
    "plt.axvline(10*sampling_rate,ls='-', c='r')\n",
    "# plt.xlim(0,3000)\n"
   ]
  },
  {
   "cell_type": "code",
   "execution_count": null,
   "id": "af90cc14",
   "metadata": {},
   "outputs": [],
   "source": [
    "s = client_waveforms.get_waveforms(network=\"7D\", station=stations['id'][3], channel=\"?H?\", year=2012, month=10, day=14)\n",
    "s = s.select(channel = \"[HB]H?\")\n",
    "s.filter(type='bandpass',freqmin=4,freqmax=15)\n",
    "trim_s = s.copy().trim(starttime = UTCDateTime(pick_time[4]) - 10, endtime = UTCDateTime(pick_time[4]) + 50)\n",
    "sdata = np.array(trim_s)[:,:]\n",
    "sdata_norm = (sdata-np.min(sdata, axis=1, keepdims=True))/(np.max(sdata, axis=1, keepdims=True)-np.min(sdata, axis=1, keepdims=True))"
   ]
  },
  {
   "cell_type": "code",
   "execution_count": null,
   "id": "bb688b1e",
   "metadata": {},
   "outputs": [],
   "source": [
    "UTCDateTime(pick_time[4]) - 10"
   ]
  },
  {
   "cell_type": "code",
   "execution_count": null,
   "id": "c2c7c95c",
   "metadata": {},
   "outputs": [],
   "source": [
    "UTCDateTime(pick_time[4]) + 50"
   ]
  },
  {
   "cell_type": "code",
   "execution_count": null,
   "id": "34d6a893",
   "metadata": {},
   "outputs": [],
   "source": [
    "s[0].stats.sampling_rate"
   ]
  },
  {
   "cell_type": "code",
   "execution_count": null,
   "id": "9d907651",
   "metadata": {},
   "outputs": [],
   "source": [
    "s[0].stats.channel"
   ]
  },
  {
   "cell_type": "code",
   "execution_count": null,
   "id": "535ee984",
   "metadata": {},
   "outputs": [],
   "source": [
    "len(s[-1])"
   ]
  },
  {
   "cell_type": "code",
   "execution_count": null,
   "id": "b168bade",
   "metadata": {},
   "outputs": [],
   "source": [
    "s[0].stats.sampling_rate"
   ]
  },
  {
   "cell_type": "code",
   "execution_count": null,
   "id": "a83dc622",
   "metadata": {},
   "outputs": [],
   "source": [
    "s[0].stats.channel"
   ]
  },
  {
   "cell_type": "code",
   "execution_count": null,
   "id": "1d572a67",
   "metadata": {},
   "outputs": [],
   "source": [
    "len(s[-1])"
   ]
  },
  {
   "cell_type": "code",
   "execution_count": null,
   "id": "7e7f277e",
   "metadata": {},
   "outputs": [],
   "source": [
    "s = signal.decimate(s, 125/50, axis=-1)"
   ]
  },
  {
   "cell_type": "code",
   "execution_count": null,
   "id": "63d03af5",
   "metadata": {},
   "outputs": [],
   "source": [
    "np.array(s)"
   ]
  },
  {
   "cell_type": "code",
   "execution_count": null,
   "id": "a13c4a5b",
   "metadata": {},
   "outputs": [],
   "source": [
    "int(125/50)"
   ]
  },
  {
   "cell_type": "code",
   "execution_count": null,
   "id": "f395161d",
   "metadata": {},
   "outputs": [],
   "source": [
    "new_rate = 50\n",
    "number_of_samples = round(len(s[0]) * float(new_rate) / 125)\n",
    "number_of_samples"
   ]
  },
  {
   "cell_type": "code",
   "execution_count": null,
   "id": "f6af4263",
   "metadata": {},
   "outputs": [],
   "source": [
    "s = signal.resample(s, number_of_samples, axis=-1)\n",
    "len(s[-1])"
   ]
  },
  {
   "cell_type": "code",
   "execution_count": null,
   "id": "cabd13f2",
   "metadata": {},
   "outputs": [],
   "source": [
    "s"
   ]
  },
  {
   "cell_type": "code",
   "execution_count": null,
   "id": "5956c34a",
   "metadata": {},
   "outputs": [],
   "source": [
    "s = client_waveforms.get_waveforms(network=\"7D\", station=stations['id'][3], channel=\"?H?\", year=2012, month=10, day=14)\n",
    "s = s.select(channel = \"[HB]H?\")\n",
    "s.filter(type='bandpass',freqmin=4,freqmax=15)\n",
    "trim_s = s.copy().trim(starttime = UTCDateTime(pick_time[4]) - 10, endtime = UTCDateTime(pick_time[4]) + 50)\n",
    "sdata = np.array(trim_s)[:,:]\n",
    "print(len(sdata[-1]))\n",
    "\n",
    "new_rate = 50\n",
    "number_of_samples = round(len(sdata[0]) * float(new_rate) /s[0].stats.sampling_rate)\n",
    "sdata = signal.resample(sdata, number_of_samples, axis=-1)\n",
    "print(len(sdata[-1]))"
   ]
  },
  {
   "cell_type": "code",
   "execution_count": null,
   "id": "0d085d1e",
   "metadata": {},
   "outputs": [],
   "source": [
    "trim_s[0].times(reftime=UTCDateTime(pick_time[4]) - 10)"
   ]
  },
  {
   "cell_type": "code",
   "execution_count": null,
   "id": "97840d66",
   "metadata": {},
   "outputs": [],
   "source": [
    "UTCDateTime(pick_time[4])"
   ]
  },
  {
   "cell_type": "code",
   "execution_count": null,
   "id": "831d72ec",
   "metadata": {},
   "outputs": [],
   "source": [
    "trim_s.trigger('recstalta',sta=1, lta=4)"
   ]
  },
  {
   "cell_type": "code",
   "execution_count": null,
   "id": "0ef2ff26",
   "metadata": {},
   "outputs": [],
   "source": [
    "trim_s.plot()"
   ]
  },
  {
   "cell_type": "code",
   "execution_count": null,
   "id": "b6d72b35",
   "metadata": {},
   "outputs": [],
   "source": [
    "plt.figure(figsize=(10,10))\n",
    "offsets2 = np.arange(0,3*len(sdata)*len(stations),3*len(sdata))\n",
    "\n",
    "for i in range(len(stations)):\n",
    "    s = client_waveforms.get_waveforms(network=\"7D\", station=stations['id'][i], channel=\"?H?\", year=2012, month=10, day=14)\n",
    "    s = s.select(channel = \"[HB]H?\")\n",
    "    s.filter(type='bandpass',freqmin=4,freqmax=15)\n",
    "    if s[0].stats.channel == 'HH1':\n",
    "        s = s.resample(50)\n",
    "    else:\n",
    "        pass \n",
    "    \n",
    "    trim_s = s.copy().trim(starttime = UTCDateTime(pick_time[4]) - 10, endtime = UTCDateTime(pick_time[4]) + 50)\n",
    "    sdata = np.array(trim_s)[:,:]\n",
    "    sdata_norm = (sdata-np.min(sdata, axis=1, keepdims=True))/(np.max(sdata, axis=1, keepdims=True)-np.min(sdata, axis=1, keepdims=True))\n",
    "    \n",
    "    for ii in range(len(sdata)):\n",
    "        offsets1  = np.arange(0,len(sdata))\n",
    "        plt.plot(trim_s[ii].times(type='utcdatetime'), sdata_norm[ii]+offsets1[ii]+offsets2[i], color = 'gray', alpha=0.7, lw=0.5)    \n",
    "    \n",
    "\n",
    "plt.yticks(offsets2+1, stations['id'])\n",
    "plt.axvline(pick_time[4],ls='-', c='r')\n",
    "plt.title(pick_time[4])\n",
    "\n",
    "# plt.xlim(0,3000)\n"
   ]
  },
  {
   "cell_type": "code",
   "execution_count": null,
   "id": "008cc67e",
   "metadata": {},
   "outputs": [],
   "source": []
  },
  {
   "cell_type": "code",
   "execution_count": null,
   "id": "54291c17",
   "metadata": {},
   "outputs": [],
   "source": [
    "np.arange(0,3*len(sdata)*len(stations),3*len(sdata))"
   ]
  },
  {
   "cell_type": "code",
   "execution_count": null,
   "id": "4424bc02",
   "metadata": {},
   "outputs": [],
   "source": [
    "stations['id']"
   ]
  },
  {
   "cell_type": "code",
   "execution_count": null,
   "id": "1d2f0ca4",
   "metadata": {},
   "outputs": [],
   "source": [
    "all_picks, all_detections = model.classify(sdata)"
   ]
  },
  {
   "cell_type": "code",
   "execution_count": null,
   "id": "4fa17a55",
   "metadata": {},
   "outputs": [],
   "source": [
    "picks_G25B =  pd.read_csv(\"~/notebooks/data/catalogs_elep_filtered_stations_20121001_to_20121031/G25B_20121014.csv\",index_col=0)\n",
    "picks_G25B"
   ]
  },
  {
   "cell_type": "code",
   "execution_count": null,
   "id": "2acfad2f",
   "metadata": {},
   "outputs": [],
   "source": [
    "pick_time[4]"
   ]
  },
  {
   "cell_type": "markdown",
   "id": "138c8708",
   "metadata": {},
   "source": [
    "## Plot the associated events on a map"
   ]
  },
  {
   "cell_type": "code",
   "execution_count": null,
   "id": "cb9e1552",
   "metadata": {},
   "outputs": [],
   "source": [
    "import pygmt\n",
    "\n",
    "fig = pygmt.Figure()\n",
    "grid = pygmt.datasets.load_earth_relief(resolution=\"15s\", region=[-126, -124, 40, 43])\n",
    "# fig.shift_origin(yshift=\"10c\")\n",
    "fig.grdimage(grid=grid, projection=\"M15c\", frame=\"a\", cmap=\"geo\", transparency = 50)\n",
    "fig.plot(x = events_morton_lon, y = events_morton_lat,  \n",
    "         color = 'blue', size = size_morton, style = \"c\", pen = \"black\")\n",
    "fig.plot(x = events_longitude, y = events_latitude,  \n",
    "         color = 'red', size = size, style = \"c\", pen = \"black\")\n",
    "fig.plot(x = events_jdf_lon, y = events_jdf_lat,  \n",
    "         color = 'yellow', size = size_jdf, style = \"c\", pen = \"black\")\n",
    "fig.plot(x = events_cascadia_lon, y = events_cascadia_lat,  \n",
    "         color = 'yellow', size = size_cascadia, style = \"c\", pen = \"black\")\n",
    "# # Draw a line between two events that we consider to be the same event \n",
    "# fig.plot(x = [, y = events_cascadia_lat,  \n",
    "#          color = 'yellow', size = size_cascadia, style = \"c\", pen = \"black\")\n",
    "\n",
    "fig.show()"
   ]
  },
  {
   "cell_type": "code",
   "execution_count": null,
   "id": "7ac735d6",
   "metadata": {},
   "outputs": [],
   "source": [
    "events_longitude = events['longitude']\n",
    "events_longitude"
   ]
  },
  {
   "cell_type": "code",
   "execution_count": null,
   "id": "858fa46e",
   "metadata": {},
   "outputs": [],
   "source": [
    "events_latitude = events['latitude']\n",
    "events_latitude "
   ]
  },
  {
   "cell_type": "code",
   "execution_count": null,
   "id": "b9552623",
   "metadata": {},
   "outputs": [],
   "source": [
    "# Assign the size of 0.5 to all the points for the associated events \n",
    "\n",
    "size = np.zeros(len(events))\n",
    "for i in range(len(events)):\n",
    "    size[i] = 0.2"
   ]
  },
  {
   "cell_type": "code",
   "execution_count": null,
   "id": "06a70bd2",
   "metadata": {},
   "outputs": [],
   "source": [
    "size_jdf = np.zeros(len(events_jdf))\n",
    "for i in range(len(events_jdf)):\n",
    "    size_jdf[i] = 0.2"
   ]
  },
  {
   "cell_type": "code",
   "execution_count": null,
   "id": "bb70da38",
   "metadata": {},
   "outputs": [],
   "source": [
    "size_cascadia = np.zeros(len(events_cascadia))\n",
    "for i in range(len(events_cascadia)):\n",
    "    size_cascadia[i] = 0.2"
   ]
  },
  {
   "cell_type": "code",
   "execution_count": null,
   "id": "ce8e9541",
   "metadata": {},
   "outputs": [],
   "source": [
    "size_morton = np.zeros(len(events_morton))\n",
    "for i in range(len(events_morton)):\n",
    "    size_morton[i] = 0.2"
   ]
  },
  {
   "cell_type": "code",
   "execution_count": null,
   "id": "73d6a339",
   "metadata": {},
   "outputs": [],
   "source": [
    "len(size_cascadia)"
   ]
  },
  {
   "cell_type": "code",
   "execution_count": null,
   "id": "f2cc6940",
   "metadata": {},
   "outputs": [],
   "source": [
    "size"
   ]
  },
  {
   "cell_type": "code",
   "execution_count": null,
   "id": "e0d2ffb4",
   "metadata": {},
   "outputs": [],
   "source": [
    "events"
   ]
  },
  {
   "cell_type": "code",
   "execution_count": null,
   "id": "6e9ad89c",
   "metadata": {},
   "outputs": [],
   "source": [
    "type(events_latitude.shape)"
   ]
  },
  {
   "cell_type": "code",
   "execution_count": null,
   "id": "c9010046",
   "metadata": {},
   "outputs": [],
   "source": [
    "events_longitude.shape"
   ]
  },
  {
   "cell_type": "markdown",
   "id": "d47ceff7",
   "metadata": {},
   "source": [
    "## Load Data from Ian Stone's Paper"
   ]
  },
  {
   "cell_type": "code",
   "execution_count": null,
   "id": "3d24aafa",
   "metadata": {},
   "outputs": [],
   "source": [
    "events_cascadia = pd.read_csv('jgrb52524-sup-0002-2017jb014966-ds01.csv')\n",
    "events_jdf = pd.read_csv('jgrb52524-sup-0003-2017jb014966-ds02.csv')"
   ]
  },
  {
   "cell_type": "code",
   "execution_count": null,
   "id": "23f40e99",
   "metadata": {},
   "outputs": [],
   "source": [
    "events_cascadia[0:5]"
   ]
  },
  {
   "cell_type": "code",
   "execution_count": null,
   "id": "f8c8b46e",
   "metadata": {},
   "outputs": [],
   "source": [
    "events_jdf[0:5]"
   ]
  },
  {
   "cell_type": "code",
   "execution_count": null,
   "id": "49bab0b3",
   "metadata": {},
   "outputs": [],
   "source": [
    "# Get the latitude and longitude from Stone's catalog for JDF\n",
    "events_jdf_lon = events_jdf['Longitude']\n",
    "events_jdf_lat = events_jdf['Latitude']\n",
    "events_jdf_lat"
   ]
  },
  {
   "cell_type": "code",
   "execution_count": null,
   "id": "0436e3f9",
   "metadata": {},
   "outputs": [],
   "source": [
    "# Get the latitude and longitude from Stone's catalog for Cascadia\n",
    "events_cascadia_lon = events_cascadia['Longitude']\n",
    "events_cascadia_lat = events_cascadia['Latitude']\n",
    "events_cascadia_lon"
   ]
  },
  {
   "cell_type": "code",
   "execution_count": null,
   "id": "7de12c8c",
   "metadata": {},
   "outputs": [],
   "source": [
    "df.loc[df['datetime'] > datetime.datetime(2012, 10,12)]"
   ]
  },
  {
   "cell_type": "code",
   "execution_count": null,
   "id": "29143368",
   "metadata": {},
   "outputs": [],
   "source": [
    "df = pd.read_excel(\"jgrb52524-sup-0003-2017jb014966-ds02.xls\", header = None, skiprows = 1,\n",
    "              names = [\"Timestamp\", \"Longitude\", \"Latitude\", \"Depth (km)\", \"RMS (s)\", \"CI Year\"])\n",
    "\n",
    "df['datetime'] = df.apply(lambda a: datetime.datetime.fromtimestamp(a['Timestamp']), axis = 1)\n",
    "df"
   ]
  },
  {
   "cell_type": "markdown",
   "id": "c57cc902",
   "metadata": {},
   "source": [
    "- No events to match up with our associated events in the ds01 catalog from Stone's paper.\n",
    "- No events to match up with our associated events in the ds02 catalog from Stone's paper."
   ]
  },
  {
   "cell_type": "markdown",
   "id": "cc1e1829",
   "metadata": {},
   "source": [
    "## Load Data from Morton's Paper"
   ]
  },
  {
   "cell_type": "code",
   "execution_count": null,
   "id": "a905d172",
   "metadata": {},
   "outputs": [],
   "source": [
    "# Read Morton's catalog\n",
    "events_morton = pd.read_csv('ds01.csv')"
   ]
  },
  {
   "cell_type": "code",
   "execution_count": null,
   "id": "95bf9a45",
   "metadata": {},
   "outputs": [],
   "source": [
    "# Get the latitudes and longitudes for the events \n",
    "events_morton_lon = events_morton['LON']\n",
    "events_morton_lat = events_morton['LAT']"
   ]
  },
  {
   "cell_type": "code",
   "execution_count": null,
   "id": "bc0029d9",
   "metadata": {},
   "outputs": [],
   "source": [
    "events_morton_lat[0:5]"
   ]
  },
  {
   "cell_type": "code",
   "execution_count": null,
   "id": "5bec961d",
   "metadata": {},
   "outputs": [],
   "source": [
    "events_morton_lon[0:5]"
   ]
  },
  {
   "cell_type": "code",
   "execution_count": null,
   "id": "6cd524ee",
   "metadata": {},
   "outputs": [],
   "source": [
    "len(events_morton_lat)"
   ]
  },
  {
   "cell_type": "code",
   "execution_count": null,
   "id": "15f73a0b",
   "metadata": {},
   "outputs": [],
   "source": [
    "# Pull out the events for Oct 14, 2012 from the ds01 catalog from Morton's paper\n",
    "events_morton[671:674]"
   ]
  },
  {
   "cell_type": "code",
   "execution_count": null,
   "id": "4a2f5ce0",
   "metadata": {},
   "outputs": [],
   "source": [
    "events_morton.loc[673]"
   ]
  },
  {
   "cell_type": "code",
   "execution_count": null,
   "id": "2bba3343",
   "metadata": {},
   "outputs": [],
   "source": [
    "# Get the latitude and longitude for the event at 2:39 \n",
    "event_morton_0229_lat = events_morton.loc[671, 'LAT']\n",
    "event_morton_0229_lon = events_morton.loc[671, 'LON']"
   ]
  },
  {
   "cell_type": "code",
   "execution_count": null,
   "id": "5f5eb8ba",
   "metadata": {},
   "outputs": [],
   "source": [
    "# Get the latitude and longitude for the event at 3:08\n",
    "event_morton_0308_lat = events_morton.loc[672, 'LAT']\n",
    "event_morton_0308_lon = events_morton.loc[672, 'LON']"
   ]
  },
  {
   "cell_type": "code",
   "execution_count": null,
   "id": "7764f193",
   "metadata": {},
   "outputs": [],
   "source": [
    "events"
   ]
  },
  {
   "cell_type": "code",
   "execution_count": null,
   "id": "4d10cba4",
   "metadata": {},
   "outputs": [],
   "source": [
    "\n",
    "event_0229_lat = events.loc[1, 'latitude']\n",
    "event_0229_lon = events.loc[1, 'longitude']"
   ]
  },
  {
   "cell_type": "code",
   "execution_count": null,
   "id": "716074c3",
   "metadata": {},
   "outputs": [],
   "source": [
    "event_0308_lat = events.loc[2, 'latitude']\n",
    "event_0308_lon = events.loc[2, 'longitude']"
   ]
  },
  {
   "cell_type": "markdown",
   "id": "819f07f9",
   "metadata": {},
   "source": [
    "## Load data from the USGS catalog"
   ]
  },
  {
   "cell_type": "code",
   "execution_count": null,
   "id": "a9df3c08",
   "metadata": {},
   "outputs": [],
   "source": [
    "client = Client(\"USGS\")\n",
    "client_waveforms = WaveformClient()\n",
    "events_USGS = client.get_events(starttime = UTCDateTime(\"2012-10-14T00:00:00.000000\"),\n",
    "                  endtime   = UTCDateTime(\"2012-10-14T23:59:59.999999\"),\n",
    "                  minlatitude = 40, maxlatitude = 44, \n",
    "                  minlongitude = -125, maxlongitude = -120)\n",
    "events_USGS"
   ]
  },
  {
   "cell_type": "code",
   "execution_count": null,
   "id": "2983cc27",
   "metadata": {},
   "outputs": [],
   "source": [
    "event_USGS_0229_lat = 40.301\n",
    "event_USGS_0229_lon = -124.416"
   ]
  },
  {
   "cell_type": "code",
   "execution_count": null,
   "id": "56cffc5a",
   "metadata": {},
   "outputs": [],
   "source": [
    "event_USGS_0308_lat = 40.721\n",
    "event_USGS_0308_lon = -124.210"
   ]
  },
  {
   "cell_type": "code",
   "execution_count": null,
   "id": "ea7191b9",
   "metadata": {},
   "outputs": [],
   "source": []
  },
  {
   "cell_type": "code",
   "execution_count": null,
   "id": "ec07dfa5",
   "metadata": {},
   "outputs": [],
   "source": []
  },
  {
   "cell_type": "code",
   "execution_count": null,
   "id": "c0045919",
   "metadata": {},
   "outputs": [],
   "source": []
  },
  {
   "cell_type": "code",
   "execution_count": null,
   "id": "396ec7ac",
   "metadata": {},
   "outputs": [],
   "source": []
  },
  {
   "cell_type": "markdown",
   "id": "efd77ec8",
   "metadata": {},
   "source": [
    "# Plot the line between the matched events"
   ]
  },
  {
   "cell_type": "code",
   "execution_count": null,
   "id": "2520f161",
   "metadata": {},
   "outputs": [],
   "source": [
    "import pygmt\n",
    "\n",
    "fig = pygmt.Figure()\n",
    "grid = pygmt.datasets.load_earth_relief(resolution=\"15s\", region=[-126, -124, 40, 43])\n",
    "# fig.shift_origin(yshift=\"10c\")\n",
    "fig.basemap(frame=[\"a\",'+tThe Associated Events with Previously Cataloged Events',\"WSne\", \"xaf+lx-axis\", \"yaf+ly-axis\"])\n",
    "fig.grdimage(grid=grid, projection=\"M15c\", frame='a', cmap=\"geo\", transparency = 50)\n",
    "# Plot Morton's catalog\n",
    "fig.plot(x = events_morton_lon, y = events_morton_lat,  \n",
    "         color = 'blue', size = size_morton, style = \"c\", pen = \"black\", label='Morton 2023')\n",
    "# Plot our association events\n",
    "fig.plot(x = events_longitude, y = events_latitude,  \n",
    "         color = 'red', size = size, style = \"c\", pen = \"black\", label='Associated Events')\n",
    "# Plot Stone's catalog for JDF\n",
    "fig.plot(x = events_jdf_lon, y = events_jdf_lat,  \n",
    "         color = 'yellow', size = size_jdf, style = \"c\", pen = \"black\", label='Stone et al, 2018')\n",
    "# Plot Stone's catalog for Cascadia\n",
    "fig.plot(x = events_cascadia_lon, y = events_cascadia_lat,  \n",
    "         color = 'yellow', size = size_cascadia, style = \"c\", pen = \"black\",label='Stone et al, 2018')\n",
    "# Draw a line between two events that we consider to be the same event \n",
    "fig.plot(x = (event_0229_lon,event_morton_0229_lon,event_USGS_0229_lon), y = (event_0229_lat,event_morton_0229_lat,event_USGS_0229_lat), pen =\"4p, green\")\n",
    "fig.plot(x = (event_0308_lon,event_morton_0308_lon,event_USGS_0308_lon), y = (event_0308_lat,event_morton_0308_lat,event_USGS_0308_lat), pen =\"4p, green\")\n",
    "\n",
    "# fig.plot(x = [42.5,42.5,42.5], y = [-125.5,-125,-124.5],  \n",
    "#          color = ['red','yellow','blue'], size = [1,1,1], style = \"c\", pen =\"black\")\n",
    "fig.legend()\n",
    "fig.show()"
   ]
  },
  {
   "cell_type": "code",
   "execution_count": null,
   "id": "ba6d0a8d",
   "metadata": {},
   "outputs": [],
   "source": [
    "event_0229_lon"
   ]
  },
  {
   "cell_type": "code",
   "execution_count": null,
   "id": "5871b376",
   "metadata": {},
   "outputs": [],
   "source": [
    "event_0229_lat"
   ]
  },
  {
   "cell_type": "code",
   "execution_count": null,
   "id": "a7e19369",
   "metadata": {},
   "outputs": [],
   "source": []
  }
 ],
 "metadata": {
  "kernelspec": {
   "display_name": "seismo (SHARED)",
   "language": "python",
   "name": "seismo"
  },
  "language_info": {
   "codemirror_mode": {
    "name": "ipython",
    "version": 3
   },
   "file_extension": ".py",
   "mimetype": "text/x-python",
   "name": "python",
   "nbconvert_exporter": "python",
   "pygments_lexer": "ipython3",
   "version": "3.9.18"
  }
 },
 "nbformat": 4,
 "nbformat_minor": 5
}
