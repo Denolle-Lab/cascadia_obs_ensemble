{
 "cells": [
  {
   "cell_type": "markdown",
   "id": "192aef88",
   "metadata": {},
   "source": [
    "## Try phase association for stations for 2012\n",
    "Refernce: https://github.com/yetinam/pyocto"
   ]
  },
  {
   "cell_type": "code",
   "execution_count": 1,
   "id": "45e0b4d8",
   "metadata": {},
   "outputs": [],
   "source": [
    "# !pip3 install numpy\n",
    "# !pip3 install pyrocko"
   ]
  },
  {
   "cell_type": "code",
   "execution_count": 1,
   "id": "91c28442",
   "metadata": {},
   "outputs": [],
   "source": [
    "import pyocto\n",
    "import pandas as pd\n",
    "import datetime\n",
    "import matplotlib.pyplot as plt\n",
    "from collections import Counter\n",
    "import numpy as np\n",
    "from scipy import signal\n",
    "from obspy.signal.trigger import classic_sta_lta\n",
    "import pygmt\n",
    "\n",
    "from obspy.clients.fdsn import Client\n",
    "from obspy.core.utcdatetime import UTCDateTime\n",
    "from pnwstore.mseed import WaveformClient\n"
   ]
  },
  {
   "cell_type": "code",
   "execution_count": 2,
   "id": "6e59a463",
   "metadata": {},
   "outputs": [],
   "source": [
    "# Import the velocity model from https://colab.research.google.com/github/yetinam/pyocto/blob/main/examples/02_velocity_models.ipynb#scrollTo=1c52ed9e-d9c1-4fa6-a549-de702bc9d439\n",
    "# !wget https://github.com/yetinam/pyocto/raw/main/tests/data/graeber.csv"
   ]
  },
  {
   "cell_type": "markdown",
   "id": "d79f475f",
   "metadata": {},
   "source": [
    "## Input Data"
   ]
  },
  {
   "cell_type": "code",
   "execution_count": 3,
   "id": "dc050e11",
   "metadata": {},
   "outputs": [],
   "source": [
    "region = \"pnsn_sor\"\n",
    "picks = pd.read_csv(f\"../data/datasets_{region}/picks_{region}.csv\",index_col=0)\n",
    "stations = pd.read_csv(f\"../data/datasets_{region}/all_stations_{region}.csv\",index_col=0)"
   ]
  },
  {
   "cell_type": "code",
   "execution_count": 4,
   "id": "d0f638dd",
   "metadata": {},
   "outputs": [
    {
     "data": {
      "text/html": [
       "<div>\n",
       "<style scoped>\n",
       "    .dataframe tbody tr th:only-of-type {\n",
       "        vertical-align: middle;\n",
       "    }\n",
       "\n",
       "    .dataframe tbody tr th {\n",
       "        vertical-align: top;\n",
       "    }\n",
       "\n",
       "    .dataframe thead th {\n",
       "        text-align: right;\n",
       "    }\n",
       "</style>\n",
       "<table border=\"1\" class=\"dataframe\">\n",
       "  <thead>\n",
       "    <tr style=\"text-align: right;\">\n",
       "      <th></th>\n",
       "      <th>station</th>\n",
       "      <th>phase</th>\n",
       "      <th>time</th>\n",
       "      <th>pick_id</th>\n",
       "    </tr>\n",
       "  </thead>\n",
       "  <tbody>\n",
       "    <tr>\n",
       "      <th>0</th>\n",
       "      <td>NC.KBO.</td>\n",
       "      <td>P</td>\n",
       "      <td>2011-01-01T00:04:56.400000Z</td>\n",
       "      <td>257</td>\n",
       "    </tr>\n",
       "    <tr>\n",
       "      <th>1</th>\n",
       "      <td>NC.KBO.</td>\n",
       "      <td>P</td>\n",
       "      <td>2011-01-01T00:35:49.600000Z</td>\n",
       "      <td>289</td>\n",
       "    </tr>\n",
       "    <tr>\n",
       "      <th>2</th>\n",
       "      <td>NC.KBO.</td>\n",
       "      <td>P</td>\n",
       "      <td>2011-01-01T00:55:55.930000Z</td>\n",
       "      <td>290</td>\n",
       "    </tr>\n",
       "    <tr>\n",
       "      <th>3</th>\n",
       "      <td>NC.KBO.</td>\n",
       "      <td>P</td>\n",
       "      <td>2011-01-01T03:08:21.550000Z</td>\n",
       "      <td>291</td>\n",
       "    </tr>\n",
       "    <tr>\n",
       "      <th>4</th>\n",
       "      <td>NC.KBO.</td>\n",
       "      <td>P</td>\n",
       "      <td>2011-01-01T08:20:27.320000Z</td>\n",
       "      <td>292</td>\n",
       "    </tr>\n",
       "    <tr>\n",
       "      <th>...</th>\n",
       "      <td>...</td>\n",
       "      <td>...</td>\n",
       "      <td>...</td>\n",
       "      <td>...</td>\n",
       "    </tr>\n",
       "    <tr>\n",
       "      <th>533698</th>\n",
       "      <td>NC.KSXB.</td>\n",
       "      <td>S</td>\n",
       "      <td>2015-12-31T09:46:49.217700Z</td>\n",
       "      <td>23570695</td>\n",
       "    </tr>\n",
       "    <tr>\n",
       "      <th>533699</th>\n",
       "      <td>NC.KSXB.</td>\n",
       "      <td>S</td>\n",
       "      <td>2015-12-31T08:53:14.187700Z</td>\n",
       "      <td>23570696</td>\n",
       "    </tr>\n",
       "    <tr>\n",
       "      <th>533700</th>\n",
       "      <td>NC.KSXB.</td>\n",
       "      <td>S</td>\n",
       "      <td>2015-12-31T05:19:50.267700Z</td>\n",
       "      <td>23570697</td>\n",
       "    </tr>\n",
       "    <tr>\n",
       "      <th>533701</th>\n",
       "      <td>NC.KSXB.</td>\n",
       "      <td>S</td>\n",
       "      <td>2015-12-31T17:59:06.237700Z</td>\n",
       "      <td>23570698</td>\n",
       "    </tr>\n",
       "    <tr>\n",
       "      <th>533702</th>\n",
       "      <td>NC.KSXB.</td>\n",
       "      <td>S</td>\n",
       "      <td>2015-12-31T23:53:57.497700Z</td>\n",
       "      <td>23570700</td>\n",
       "    </tr>\n",
       "  </tbody>\n",
       "</table>\n",
       "<p>533703 rows × 4 columns</p>\n",
       "</div>"
      ],
      "text/plain": [
       "         station phase                         time   pick_id\n",
       "0        NC.KBO.     P  2011-01-01T00:04:56.400000Z       257\n",
       "1        NC.KBO.     P  2011-01-01T00:35:49.600000Z       289\n",
       "2        NC.KBO.     P  2011-01-01T00:55:55.930000Z       290\n",
       "3        NC.KBO.     P  2011-01-01T03:08:21.550000Z       291\n",
       "4        NC.KBO.     P  2011-01-01T08:20:27.320000Z       292\n",
       "...          ...   ...                          ...       ...\n",
       "533698  NC.KSXB.     S  2015-12-31T09:46:49.217700Z  23570695\n",
       "533699  NC.KSXB.     S  2015-12-31T08:53:14.187700Z  23570696\n",
       "533700  NC.KSXB.     S  2015-12-31T05:19:50.267700Z  23570697\n",
       "533701  NC.KSXB.     S  2015-12-31T17:59:06.237700Z  23570698\n",
       "533702  NC.KSXB.     S  2015-12-31T23:53:57.497700Z  23570700\n",
       "\n",
       "[533703 rows x 4 columns]"
      ]
     },
     "execution_count": 4,
     "metadata": {},
     "output_type": "execute_result"
    }
   ],
   "source": [
    "picks"
   ]
  },
  {
   "cell_type": "code",
   "execution_count": 5,
   "id": "2bb5755e",
   "metadata": {},
   "outputs": [
    {
     "data": {
      "text/html": [
       "<div>\n",
       "<style scoped>\n",
       "    .dataframe tbody tr th:only-of-type {\n",
       "        vertical-align: middle;\n",
       "    }\n",
       "\n",
       "    .dataframe tbody tr th {\n",
       "        vertical-align: top;\n",
       "    }\n",
       "\n",
       "    .dataframe thead th {\n",
       "        text-align: right;\n",
       "    }\n",
       "</style>\n",
       "<table border=\"1\" class=\"dataframe\">\n",
       "  <thead>\n",
       "    <tr style=\"text-align: right;\">\n",
       "      <th></th>\n",
       "      <th>id</th>\n",
       "      <th>longitude</th>\n",
       "      <th>latitude</th>\n",
       "      <th>elevation</th>\n",
       "    </tr>\n",
       "  </thead>\n",
       "  <tbody>\n",
       "    <tr>\n",
       "      <th>0</th>\n",
       "      <td>TA.J01D.</td>\n",
       "      <td>-123.931396</td>\n",
       "      <td>43.161400</td>\n",
       "      <td>131.0</td>\n",
       "    </tr>\n",
       "    <tr>\n",
       "      <th>1</th>\n",
       "      <td>TA.K02D.</td>\n",
       "      <td>-123.665398</td>\n",
       "      <td>42.695499</td>\n",
       "      <td>989.0</td>\n",
       "    </tr>\n",
       "    <tr>\n",
       "      <th>2</th>\n",
       "      <td>NC.KBO.</td>\n",
       "      <td>-124.225983</td>\n",
       "      <td>42.212357</td>\n",
       "      <td>1010.0</td>\n",
       "    </tr>\n",
       "    <tr>\n",
       "      <th>3</th>\n",
       "      <td>TA.L02D.</td>\n",
       "      <td>-123.603104</td>\n",
       "      <td>42.157799</td>\n",
       "      <td>458.0</td>\n",
       "    </tr>\n",
       "    <tr>\n",
       "      <th>4</th>\n",
       "      <td>NC.KSXB.</td>\n",
       "      <td>-123.876884</td>\n",
       "      <td>41.830379</td>\n",
       "      <td>1136.0</td>\n",
       "    </tr>\n",
       "    <tr>\n",
       "      <th>5</th>\n",
       "      <td>UO.DBO.</td>\n",
       "      <td>-123.244423</td>\n",
       "      <td>43.118721</td>\n",
       "      <td>957.0</td>\n",
       "    </tr>\n",
       "    <tr>\n",
       "      <th>6</th>\n",
       "      <td>NC.KEB.</td>\n",
       "      <td>-124.334251</td>\n",
       "      <td>42.872211</td>\n",
       "      <td>818.0</td>\n",
       "    </tr>\n",
       "    <tr>\n",
       "      <th>7</th>\n",
       "      <td>TA.L02E.</td>\n",
       "      <td>-123.602898</td>\n",
       "      <td>42.158001</td>\n",
       "      <td>454.0</td>\n",
       "    </tr>\n",
       "    <tr>\n",
       "      <th>8</th>\n",
       "      <td>TA.J01E.</td>\n",
       "      <td>-123.931396</td>\n",
       "      <td>43.161499</td>\n",
       "      <td>128.0</td>\n",
       "    </tr>\n",
       "  </tbody>\n",
       "</table>\n",
       "</div>"
      ],
      "text/plain": [
       "         id   longitude   latitude  elevation\n",
       "0  TA.J01D. -123.931396  43.161400      131.0\n",
       "1  TA.K02D. -123.665398  42.695499      989.0\n",
       "2   NC.KBO. -124.225983  42.212357     1010.0\n",
       "3  TA.L02D. -123.603104  42.157799      458.0\n",
       "4  NC.KSXB. -123.876884  41.830379     1136.0\n",
       "5   UO.DBO. -123.244423  43.118721      957.0\n",
       "6   NC.KEB. -124.334251  42.872211      818.0\n",
       "7  TA.L02E. -123.602898  42.158001      454.0\n",
       "8  TA.J01E. -123.931396  43.161499      128.0"
      ]
     },
     "execution_count": 5,
     "metadata": {},
     "output_type": "execute_result"
    }
   ],
   "source": [
    "stations"
   ]
  },
  {
   "cell_type": "markdown",
   "id": "a3bf75c7",
   "metadata": {},
   "source": [
    "## Create a 1D velocity model\n",
    "Not needed for now."
   ]
  },
  {
   "cell_type": "code",
   "execution_count": 6,
   "id": "b5c28f00",
   "metadata": {},
   "outputs": [],
   "source": [
    "# !wget https://github.com/yetinam/pyocto/raw/main/tests/data/graeber.csv"
   ]
  },
  {
   "cell_type": "code",
   "execution_count": 7,
   "id": "b99a8be8",
   "metadata": {},
   "outputs": [
    {
     "data": {
      "text/html": [
       "<div>\n",
       "<style scoped>\n",
       "    .dataframe tbody tr th:only-of-type {\n",
       "        vertical-align: middle;\n",
       "    }\n",
       "\n",
       "    .dataframe tbody tr th {\n",
       "        vertical-align: top;\n",
       "    }\n",
       "\n",
       "    .dataframe thead th {\n",
       "        text-align: right;\n",
       "    }\n",
       "</style>\n",
       "<table border=\"1\" class=\"dataframe\">\n",
       "  <thead>\n",
       "    <tr style=\"text-align: right;\">\n",
       "      <th></th>\n",
       "      <th>depth</th>\n",
       "      <th>vp</th>\n",
       "      <th>vp_grad</th>\n",
       "      <th>vs</th>\n",
       "      <th>vs_grad</th>\n",
       "      <th>x</th>\n",
       "      <th>y</th>\n",
       "    </tr>\n",
       "  </thead>\n",
       "  <tbody>\n",
       "    <tr>\n",
       "      <th>0</th>\n",
       "      <td>0.0</td>\n",
       "      <td>3.50</td>\n",
       "      <td>1.166667</td>\n",
       "      <td>2.020726</td>\n",
       "      <td>0.673575</td>\n",
       "      <td>1</td>\n",
       "      <td>0</td>\n",
       "    </tr>\n",
       "    <tr>\n",
       "      <th>1</th>\n",
       "      <td>1.8</td>\n",
       "      <td>5.60</td>\n",
       "      <td>0.185185</td>\n",
       "      <td>3.233162</td>\n",
       "      <td>0.106917</td>\n",
       "      <td>1</td>\n",
       "      <td>0</td>\n",
       "    </tr>\n",
       "    <tr>\n",
       "      <th>2</th>\n",
       "      <td>4.5</td>\n",
       "      <td>6.10</td>\n",
       "      <td>0.066667</td>\n",
       "      <td>3.521837</td>\n",
       "      <td>0.038490</td>\n",
       "      <td>1</td>\n",
       "      <td>0</td>\n",
       "    </tr>\n",
       "    <tr>\n",
       "      <th>3</th>\n",
       "      <td>9.0</td>\n",
       "      <td>6.40</td>\n",
       "      <td>0.040000</td>\n",
       "      <td>3.695042</td>\n",
       "      <td>0.023094</td>\n",
       "      <td>1</td>\n",
       "      <td>0</td>\n",
       "    </tr>\n",
       "    <tr>\n",
       "      <th>4</th>\n",
       "      <td>24.0</td>\n",
       "      <td>7.00</td>\n",
       "      <td>0.051351</td>\n",
       "      <td>4.041452</td>\n",
       "      <td>0.029648</td>\n",
       "      <td>1</td>\n",
       "      <td>0</td>\n",
       "    </tr>\n",
       "    <tr>\n",
       "      <th>5</th>\n",
       "      <td>42.5</td>\n",
       "      <td>7.95</td>\n",
       "      <td>0.051351</td>\n",
       "      <td>4.589935</td>\n",
       "      <td>0.029648</td>\n",
       "      <td>1</td>\n",
       "      <td>0</td>\n",
       "    </tr>\n",
       "  </tbody>\n",
       "</table>\n",
       "</div>"
      ],
      "text/plain": [
       "   depth    vp   vp_grad        vs   vs_grad  x  y\n",
       "0    0.0  3.50  1.166667  2.020726  0.673575  1  0\n",
       "1    1.8  5.60  0.185185  3.233162  0.106917  1  0\n",
       "2    4.5  6.10  0.066667  3.521837  0.038490  1  0\n",
       "3    9.0  6.40  0.040000  3.695042  0.023094  1  0\n",
       "4   24.0  7.00  0.051351  4.041452  0.029648  1  0\n",
       "5   42.5  7.95  0.051351  4.589935  0.029648  1  0"
      ]
     },
     "execution_count": 7,
     "metadata": {},
     "output_type": "execute_result"
    }
   ],
   "source": [
    "layers = pd.read_csv(f\"../data/{region}.csv\")\n",
    "\n",
    "# Strip leading/trailing spaces from column names\n",
    "layers.columns = layers.columns.str.strip()\n",
    "layers"
   ]
  },
  {
   "cell_type": "code",
   "execution_count": 8,
   "id": "e492330c",
   "metadata": {},
   "outputs": [],
   "source": [
    "model_path = \"velocity_model\"\n",
    "pyocto.VelocityModel1D.create_model(layers, 1., 400, 250, model_path)"
   ]
  },
  {
   "cell_type": "code",
   "execution_count": 9,
   "id": "a9d3a14a",
   "metadata": {},
   "outputs": [],
   "source": [
    "velocity_model_1d = pyocto.VelocityModel1D(model_path, tolerance=2.0)"
   ]
  },
  {
   "cell_type": "markdown",
   "id": "0f6a5c8a",
   "metadata": {},
   "source": [
    "## The OctoAssociator class"
   ]
  },
  {
   "cell_type": "code",
   "execution_count": 10,
   "id": "c49c113f",
   "metadata": {},
   "outputs": [],
   "source": [
    "#  Define the associator parameters\n",
    "associator = pyocto.OctoAssociator.from_area(\n",
    "    lat=(38, 51),\n",
    "    lon=(-132, -119),\n",
    "    zlim=(0, 50),\n",
    "    time_before=300,\n",
    "    velocity_model=velocity_model_1d,\n",
    "    n_picks=5,\n",
    "    n_p_picks=1,\n",
    "    n_s_picks=3,\n",
    "    n_p_and_s_picks=1,\n",
    ")"
   ]
  },
  {
   "cell_type": "code",
   "execution_count": 11,
   "id": "8563e5e5",
   "metadata": {},
   "outputs": [
    {
     "data": {
      "text/html": [
       "<div>\n",
       "<style scoped>\n",
       "    .dataframe tbody tr th:only-of-type {\n",
       "        vertical-align: middle;\n",
       "    }\n",
       "\n",
       "    .dataframe tbody tr th {\n",
       "        vertical-align: top;\n",
       "    }\n",
       "\n",
       "    .dataframe thead th {\n",
       "        text-align: right;\n",
       "    }\n",
       "</style>\n",
       "<table border=\"1\" class=\"dataframe\">\n",
       "  <thead>\n",
       "    <tr style=\"text-align: right;\">\n",
       "      <th></th>\n",
       "      <th>id</th>\n",
       "      <th>longitude</th>\n",
       "      <th>latitude</th>\n",
       "      <th>elevation</th>\n",
       "      <th>x</th>\n",
       "      <th>y</th>\n",
       "      <th>z</th>\n",
       "    </tr>\n",
       "  </thead>\n",
       "  <tbody>\n",
       "    <tr>\n",
       "      <th>0</th>\n",
       "      <td>TA.J01D.</td>\n",
       "      <td>-123.931396</td>\n",
       "      <td>43.161400</td>\n",
       "      <td>131.0</td>\n",
       "      <td>127.571246</td>\n",
       "      <td>-147.535719</td>\n",
       "      <td>-0.131</td>\n",
       "    </tr>\n",
       "    <tr>\n",
       "      <th>1</th>\n",
       "      <td>TA.K02D.</td>\n",
       "      <td>-123.665398</td>\n",
       "      <td>42.695499</td>\n",
       "      <td>989.0</td>\n",
       "      <td>150.333920</td>\n",
       "      <td>-198.855623</td>\n",
       "      <td>-0.989</td>\n",
       "    </tr>\n",
       "    <tr>\n",
       "      <th>2</th>\n",
       "      <td>NC.KBO.</td>\n",
       "      <td>-124.225983</td>\n",
       "      <td>42.212357</td>\n",
       "      <td>1010.0</td>\n",
       "      <td>105.202464</td>\n",
       "      <td>-253.370505</td>\n",
       "      <td>-1.010</td>\n",
       "    </tr>\n",
       "    <tr>\n",
       "      <th>3</th>\n",
       "      <td>TA.L02D.</td>\n",
       "      <td>-123.603104</td>\n",
       "      <td>42.157799</td>\n",
       "      <td>458.0</td>\n",
       "      <td>156.773290</td>\n",
       "      <td>-258.474420</td>\n",
       "      <td>-0.458</td>\n",
       "    </tr>\n",
       "    <tr>\n",
       "      <th>4</th>\n",
       "      <td>NC.KSXB.</td>\n",
       "      <td>-123.876884</td>\n",
       "      <td>41.830379</td>\n",
       "      <td>1136.0</td>\n",
       "      <td>134.834961</td>\n",
       "      <td>-295.310221</td>\n",
       "      <td>-1.136</td>\n",
       "    </tr>\n",
       "    <tr>\n",
       "      <th>5</th>\n",
       "      <td>UO.DBO.</td>\n",
       "      <td>-123.244423</td>\n",
       "      <td>43.118721</td>\n",
       "      <td>957.0</td>\n",
       "      <td>183.570622</td>\n",
       "      <td>-151.001448</td>\n",
       "      <td>-0.957</td>\n",
       "    </tr>\n",
       "    <tr>\n",
       "      <th>6</th>\n",
       "      <td>NC.KEB.</td>\n",
       "      <td>-124.334251</td>\n",
       "      <td>42.872211</td>\n",
       "      <td>818.0</td>\n",
       "      <td>95.253554</td>\n",
       "      <td>-180.197982</td>\n",
       "      <td>-0.818</td>\n",
       "    </tr>\n",
       "    <tr>\n",
       "      <th>7</th>\n",
       "      <td>TA.L02E.</td>\n",
       "      <td>-123.602898</td>\n",
       "      <td>42.158001</td>\n",
       "      <td>454.0</td>\n",
       "      <td>156.789817</td>\n",
       "      <td>-258.451603</td>\n",
       "      <td>-0.454</td>\n",
       "    </tr>\n",
       "    <tr>\n",
       "      <th>8</th>\n",
       "      <td>TA.J01E.</td>\n",
       "      <td>-123.931396</td>\n",
       "      <td>43.161499</td>\n",
       "      <td>128.0</td>\n",
       "      <td>127.571040</td>\n",
       "      <td>-147.524721</td>\n",
       "      <td>-0.128</td>\n",
       "    </tr>\n",
       "  </tbody>\n",
       "</table>\n",
       "</div>"
      ],
      "text/plain": [
       "         id   longitude   latitude  elevation           x           y      z\n",
       "0  TA.J01D. -123.931396  43.161400      131.0  127.571246 -147.535719 -0.131\n",
       "1  TA.K02D. -123.665398  42.695499      989.0  150.333920 -198.855623 -0.989\n",
       "2   NC.KBO. -124.225983  42.212357     1010.0  105.202464 -253.370505 -1.010\n",
       "3  TA.L02D. -123.603104  42.157799      458.0  156.773290 -258.474420 -0.458\n",
       "4  NC.KSXB. -123.876884  41.830379     1136.0  134.834961 -295.310221 -1.136\n",
       "5   UO.DBO. -123.244423  43.118721      957.0  183.570622 -151.001448 -0.957\n",
       "6   NC.KEB. -124.334251  42.872211      818.0   95.253554 -180.197982 -0.818\n",
       "7  TA.L02E. -123.602898  42.158001      454.0  156.789817 -258.451603 -0.454\n",
       "8  TA.J01E. -123.931396  43.161499      128.0  127.571040 -147.524721 -0.128"
      ]
     },
     "execution_count": 11,
     "metadata": {},
     "output_type": "execute_result"
    }
   ],
   "source": [
    "associator.transform_stations(stations)\n",
    "stations"
   ]
  },
  {
   "cell_type": "markdown",
   "id": "27c78b5c",
   "metadata": {},
   "source": [
    "## Convert the timestamps to floats"
   ]
  },
  {
   "cell_type": "code",
   "execution_count": 12,
   "id": "c99c738e",
   "metadata": {
    "scrolled": true
   },
   "outputs": [
    {
     "data": {
      "text/html": [
       "<div>\n",
       "<style scoped>\n",
       "    .dataframe tbody tr th:only-of-type {\n",
       "        vertical-align: middle;\n",
       "    }\n",
       "\n",
       "    .dataframe tbody tr th {\n",
       "        vertical-align: top;\n",
       "    }\n",
       "\n",
       "    .dataframe thead th {\n",
       "        text-align: right;\n",
       "    }\n",
       "</style>\n",
       "<table border=\"1\" class=\"dataframe\">\n",
       "  <thead>\n",
       "    <tr style=\"text-align: right;\">\n",
       "      <th></th>\n",
       "      <th>station</th>\n",
       "      <th>phase</th>\n",
       "      <th>time</th>\n",
       "      <th>pick_id</th>\n",
       "    </tr>\n",
       "  </thead>\n",
       "  <tbody>\n",
       "    <tr>\n",
       "      <th>0</th>\n",
       "      <td>NC.KBO.</td>\n",
       "      <td>P</td>\n",
       "      <td>1.293840e+09</td>\n",
       "      <td>257</td>\n",
       "    </tr>\n",
       "    <tr>\n",
       "      <th>1</th>\n",
       "      <td>NC.KBO.</td>\n",
       "      <td>P</td>\n",
       "      <td>1.293842e+09</td>\n",
       "      <td>289</td>\n",
       "    </tr>\n",
       "    <tr>\n",
       "      <th>2</th>\n",
       "      <td>NC.KBO.</td>\n",
       "      <td>P</td>\n",
       "      <td>1.293843e+09</td>\n",
       "      <td>290</td>\n",
       "    </tr>\n",
       "    <tr>\n",
       "      <th>3</th>\n",
       "      <td>NC.KBO.</td>\n",
       "      <td>P</td>\n",
       "      <td>1.293851e+09</td>\n",
       "      <td>291</td>\n",
       "    </tr>\n",
       "    <tr>\n",
       "      <th>4</th>\n",
       "      <td>NC.KBO.</td>\n",
       "      <td>P</td>\n",
       "      <td>1.293870e+09</td>\n",
       "      <td>292</td>\n",
       "    </tr>\n",
       "    <tr>\n",
       "      <th>...</th>\n",
       "      <td>...</td>\n",
       "      <td>...</td>\n",
       "      <td>...</td>\n",
       "      <td>...</td>\n",
       "    </tr>\n",
       "    <tr>\n",
       "      <th>533698</th>\n",
       "      <td>NC.KSXB.</td>\n",
       "      <td>S</td>\n",
       "      <td>1.451555e+09</td>\n",
       "      <td>23570695</td>\n",
       "    </tr>\n",
       "    <tr>\n",
       "      <th>533699</th>\n",
       "      <td>NC.KSXB.</td>\n",
       "      <td>S</td>\n",
       "      <td>1.451552e+09</td>\n",
       "      <td>23570696</td>\n",
       "    </tr>\n",
       "    <tr>\n",
       "      <th>533700</th>\n",
       "      <td>NC.KSXB.</td>\n",
       "      <td>S</td>\n",
       "      <td>1.451539e+09</td>\n",
       "      <td>23570697</td>\n",
       "    </tr>\n",
       "    <tr>\n",
       "      <th>533701</th>\n",
       "      <td>NC.KSXB.</td>\n",
       "      <td>S</td>\n",
       "      <td>1.451585e+09</td>\n",
       "      <td>23570698</td>\n",
       "    </tr>\n",
       "    <tr>\n",
       "      <th>533702</th>\n",
       "      <td>NC.KSXB.</td>\n",
       "      <td>S</td>\n",
       "      <td>1.451606e+09</td>\n",
       "      <td>23570700</td>\n",
       "    </tr>\n",
       "  </tbody>\n",
       "</table>\n",
       "<p>533703 rows × 4 columns</p>\n",
       "</div>"
      ],
      "text/plain": [
       "         station phase          time   pick_id\n",
       "0        NC.KBO.     P  1.293840e+09       257\n",
       "1        NC.KBO.     P  1.293842e+09       289\n",
       "2        NC.KBO.     P  1.293843e+09       290\n",
       "3        NC.KBO.     P  1.293851e+09       291\n",
       "4        NC.KBO.     P  1.293870e+09       292\n",
       "...          ...   ...           ...       ...\n",
       "533698  NC.KSXB.     S  1.451555e+09  23570695\n",
       "533699  NC.KSXB.     S  1.451552e+09  23570696\n",
       "533700  NC.KSXB.     S  1.451539e+09  23570697\n",
       "533701  NC.KSXB.     S  1.451585e+09  23570698\n",
       "533702  NC.KSXB.     S  1.451606e+09  23570700\n",
       "\n",
       "[533703 rows x 4 columns]"
      ]
     },
     "execution_count": 12,
     "metadata": {},
     "output_type": "execute_result"
    }
   ],
   "source": [
    "# Convert the times to timestamps\n",
    "picks[\"time\"] = picks[\"time\"].apply(lambda x: datetime.datetime.strptime(x,'%Y-%m-%dT%H:%M:%S.%fZ'))\n",
    "picks[\"time\"] = picks[\"time\"].apply(lambda x: x.timestamp())\n",
    "picks"
   ]
  },
  {
   "cell_type": "code",
   "execution_count": 13,
   "id": "ae18d231",
   "metadata": {},
   "outputs": [],
   "source": [
    "# picks['time'] = picks['time'].apply(lambda x: (datetime.datetime.strptime(x,'%Y-%m-%dT%H:%M:%S.%fZ')).timestamp())\n",
    "# picks"
   ]
  },
  {
   "cell_type": "markdown",
   "id": "a0227ee6",
   "metadata": {},
   "source": [
    "## Apply  the associator"
   ]
  },
  {
   "cell_type": "code",
   "execution_count": 14,
   "id": "261a46ca",
   "metadata": {},
   "outputs": [],
   "source": [
    "# Association \n",
    "events, assignments = associator.associate(picks, stations)"
   ]
  },
  {
   "cell_type": "code",
   "execution_count": 15,
   "id": "0c48bb4d",
   "metadata": {},
   "outputs": [
    {
     "data": {
      "text/plain": [
       "Counter({6: 668,\n",
       "         5: 501,\n",
       "         7: 482,\n",
       "         8: 355,\n",
       "         9: 267,\n",
       "         10: 191,\n",
       "         11: 102,\n",
       "         12: 44,\n",
       "         13: 24,\n",
       "         14: 3})"
      ]
     },
     "execution_count": 15,
     "metadata": {},
     "output_type": "execute_result"
    }
   ],
   "source": [
    "# Count how many picks each event has\n",
    "Counter(events['picks'])"
   ]
  },
  {
   "cell_type": "code",
   "execution_count": 16,
   "id": "ef8aa879",
   "metadata": {
    "scrolled": false
   },
   "outputs": [],
   "source": [
    "# Convert the event times and the x, y, and z coordinate to latitudes, longitudes, and depths, respectively\n",
    "associator.transform_events(events)\n",
    "events[\"time\"] = events[\"time\"].apply(datetime.datetime.fromtimestamp, tz=datetime.timezone.utc)"
   ]
  },
  {
   "cell_type": "code",
   "execution_count": 17,
   "id": "3dc911d7",
   "metadata": {},
   "outputs": [
    {
     "data": {
      "text/html": [
       "<div>\n",
       "<style scoped>\n",
       "    .dataframe tbody tr th:only-of-type {\n",
       "        vertical-align: middle;\n",
       "    }\n",
       "\n",
       "    .dataframe tbody tr th {\n",
       "        vertical-align: top;\n",
       "    }\n",
       "\n",
       "    .dataframe thead th {\n",
       "        text-align: right;\n",
       "    }\n",
       "</style>\n",
       "<table border=\"1\" class=\"dataframe\">\n",
       "  <thead>\n",
       "    <tr style=\"text-align: right;\">\n",
       "      <th></th>\n",
       "      <th>idx</th>\n",
       "      <th>time</th>\n",
       "      <th>x</th>\n",
       "      <th>y</th>\n",
       "      <th>z</th>\n",
       "      <th>picks</th>\n",
       "      <th>latitude</th>\n",
       "      <th>longitude</th>\n",
       "      <th>depth</th>\n",
       "    </tr>\n",
       "  </thead>\n",
       "  <tbody>\n",
       "    <tr>\n",
       "      <th>0</th>\n",
       "      <td>0</td>\n",
       "      <td>2011-01-01 10:44:25.058283+00:00</td>\n",
       "      <td>100.965600</td>\n",
       "      <td>-447.960938</td>\n",
       "      <td>6.640625</td>\n",
       "      <td>6</td>\n",
       "      <td>40.461192</td>\n",
       "      <td>-124.309615</td>\n",
       "      <td>6.640625</td>\n",
       "    </tr>\n",
       "    <tr>\n",
       "      <th>1</th>\n",
       "      <td>1</td>\n",
       "      <td>2011-01-02 06:00:27.043481+00:00</td>\n",
       "      <td>-31.795797</td>\n",
       "      <td>-433.656918</td>\n",
       "      <td>12.109375</td>\n",
       "      <td>12</td>\n",
       "      <td>40.595524</td>\n",
       "      <td>-125.875626</td>\n",
       "      <td>12.109375</td>\n",
       "    </tr>\n",
       "    <tr>\n",
       "      <th>2</th>\n",
       "      <td>2</td>\n",
       "      <td>2011-01-02 22:40:11.017905+00:00</td>\n",
       "      <td>78.652760</td>\n",
       "      <td>-447.960938</td>\n",
       "      <td>1.953125</td>\n",
       "      <td>11</td>\n",
       "      <td>40.463601</td>\n",
       "      <td>-124.572646</td>\n",
       "      <td>1.953125</td>\n",
       "    </tr>\n",
       "    <tr>\n",
       "      <th>3</th>\n",
       "      <td>3</td>\n",
       "      <td>2011-01-03 02:24:55.148617+00:00</td>\n",
       "      <td>90.924822</td>\n",
       "      <td>-254.856673</td>\n",
       "      <td>0.390625</td>\n",
       "      <td>6</td>\n",
       "      <td>42.200770</td>\n",
       "      <td>-124.399086</td>\n",
       "      <td>0.390625</td>\n",
       "    </tr>\n",
       "    <tr>\n",
       "      <th>4</th>\n",
       "      <td>4</td>\n",
       "      <td>2011-01-03 04:37:54.661558+00:00</td>\n",
       "      <td>61.918130</td>\n",
       "      <td>-432.226516</td>\n",
       "      <td>0.390625</td>\n",
       "      <td>5</td>\n",
       "      <td>40.606698</td>\n",
       "      <td>-124.768398</td>\n",
       "      <td>0.390625</td>\n",
       "    </tr>\n",
       "    <tr>\n",
       "      <th>...</th>\n",
       "      <td>...</td>\n",
       "      <td>...</td>\n",
       "      <td>...</td>\n",
       "      <td>...</td>\n",
       "      <td>...</td>\n",
       "      <td>...</td>\n",
       "      <td>...</td>\n",
       "      <td>...</td>\n",
       "      <td>...</td>\n",
       "    </tr>\n",
       "    <tr>\n",
       "      <th>2632</th>\n",
       "      <td>2632</td>\n",
       "      <td>2015-12-30 07:41:43.690372+00:00</td>\n",
       "      <td>123.278439</td>\n",
       "      <td>-159.019742</td>\n",
       "      <td>5.859375</td>\n",
       "      <td>7</td>\n",
       "      <td>43.058776</td>\n",
       "      <td>-123.986710</td>\n",
       "      <td>5.859375</td>\n",
       "    </tr>\n",
       "    <tr>\n",
       "      <th>2633</th>\n",
       "      <td>2633</td>\n",
       "      <td>2015-12-30 15:14:18.895135+00:00</td>\n",
       "      <td>85.346612</td>\n",
       "      <td>-406.479281</td>\n",
       "      <td>5.859375</td>\n",
       "      <td>9</td>\n",
       "      <td>40.836433</td>\n",
       "      <td>-124.488107</td>\n",
       "      <td>5.859375</td>\n",
       "    </tr>\n",
       "    <tr>\n",
       "      <th>2634</th>\n",
       "      <td>2634</td>\n",
       "      <td>2015-12-30 17:21:56.886771+00:00</td>\n",
       "      <td>76.421476</td>\n",
       "      <td>-173.323761</td>\n",
       "      <td>19.140625</td>\n",
       "      <td>7</td>\n",
       "      <td>42.936197</td>\n",
       "      <td>-124.563756</td>\n",
       "      <td>19.140625</td>\n",
       "    </tr>\n",
       "    <tr>\n",
       "      <th>2635</th>\n",
       "      <td>2635</td>\n",
       "      <td>2015-12-30 21:05:12.926414+00:00</td>\n",
       "      <td>54.108636</td>\n",
       "      <td>-415.061693</td>\n",
       "      <td>0.390625</td>\n",
       "      <td>5</td>\n",
       "      <td>40.761808</td>\n",
       "      <td>-124.859188</td>\n",
       "      <td>0.390625</td>\n",
       "    </tr>\n",
       "    <tr>\n",
       "      <th>2636</th>\n",
       "      <td>2636</td>\n",
       "      <td>2015-12-31 09:46:36.747704+00:00</td>\n",
       "      <td>103.196884</td>\n",
       "      <td>-322.085565</td>\n",
       "      <td>1.171875</td>\n",
       "      <td>7</td>\n",
       "      <td>41.594114</td>\n",
       "      <td>-124.262270</td>\n",
       "      <td>1.171875</td>\n",
       "    </tr>\n",
       "  </tbody>\n",
       "</table>\n",
       "<p>2637 rows × 9 columns</p>\n",
       "</div>"
      ],
      "text/plain": [
       "       idx                             time           x           y  \\\n",
       "0        0 2011-01-01 10:44:25.058283+00:00  100.965600 -447.960938   \n",
       "1        1 2011-01-02 06:00:27.043481+00:00  -31.795797 -433.656918   \n",
       "2        2 2011-01-02 22:40:11.017905+00:00   78.652760 -447.960938   \n",
       "3        3 2011-01-03 02:24:55.148617+00:00   90.924822 -254.856673   \n",
       "4        4 2011-01-03 04:37:54.661558+00:00   61.918130 -432.226516   \n",
       "...    ...                              ...         ...         ...   \n",
       "2632  2632 2015-12-30 07:41:43.690372+00:00  123.278439 -159.019742   \n",
       "2633  2633 2015-12-30 15:14:18.895135+00:00   85.346612 -406.479281   \n",
       "2634  2634 2015-12-30 17:21:56.886771+00:00   76.421476 -173.323761   \n",
       "2635  2635 2015-12-30 21:05:12.926414+00:00   54.108636 -415.061693   \n",
       "2636  2636 2015-12-31 09:46:36.747704+00:00  103.196884 -322.085565   \n",
       "\n",
       "              z  picks   latitude   longitude      depth  \n",
       "0      6.640625      6  40.461192 -124.309615   6.640625  \n",
       "1     12.109375     12  40.595524 -125.875626  12.109375  \n",
       "2      1.953125     11  40.463601 -124.572646   1.953125  \n",
       "3      0.390625      6  42.200770 -124.399086   0.390625  \n",
       "4      0.390625      5  40.606698 -124.768398   0.390625  \n",
       "...         ...    ...        ...         ...        ...  \n",
       "2632   5.859375      7  43.058776 -123.986710   5.859375  \n",
       "2633   5.859375      9  40.836433 -124.488107   5.859375  \n",
       "2634  19.140625      7  42.936197 -124.563756  19.140625  \n",
       "2635   0.390625      5  40.761808 -124.859188   0.390625  \n",
       "2636   1.171875      7  41.594114 -124.262270   1.171875  \n",
       "\n",
       "[2637 rows x 9 columns]"
      ]
     },
     "execution_count": 17,
     "metadata": {},
     "output_type": "execute_result"
    }
   ],
   "source": [
    "events"
   ]
  },
  {
   "cell_type": "code",
   "execution_count": 18,
   "id": "6a765097",
   "metadata": {},
   "outputs": [],
   "source": [
    "#  Save events that have at least 6 picks\n",
    "events = events.loc[(events['picks'] >= 6)]\n",
    "events.to_csv(f'../data/datasets_{region}/events_{region}.csv')\n"
   ]
  },
  {
   "cell_type": "code",
   "execution_count": 19,
   "id": "a86b6d58",
   "metadata": {},
   "outputs": [],
   "source": [
    "# events.to_csv('~/notebooks/src/association_events.csv')"
   ]
  },
  {
   "cell_type": "code",
   "execution_count": 20,
   "id": "e6767f3c",
   "metadata": {
    "scrolled": true
   },
   "outputs": [
    {
     "data": {
      "text/html": [
       "<div>\n",
       "<style scoped>\n",
       "    .dataframe tbody tr th:only-of-type {\n",
       "        vertical-align: middle;\n",
       "    }\n",
       "\n",
       "    .dataframe tbody tr th {\n",
       "        vertical-align: top;\n",
       "    }\n",
       "\n",
       "    .dataframe thead th {\n",
       "        text-align: right;\n",
       "    }\n",
       "</style>\n",
       "<table border=\"1\" class=\"dataframe\">\n",
       "  <thead>\n",
       "    <tr style=\"text-align: right;\">\n",
       "      <th></th>\n",
       "      <th>event_idx</th>\n",
       "      <th>pick_idx</th>\n",
       "      <th>residual</th>\n",
       "      <th>station</th>\n",
       "      <th>phase</th>\n",
       "      <th>time</th>\n",
       "      <th>pick_id</th>\n",
       "    </tr>\n",
       "  </thead>\n",
       "  <tbody>\n",
       "    <tr>\n",
       "      <th>0</th>\n",
       "      <td>0</td>\n",
       "      <td>207</td>\n",
       "      <td>-0.129411</td>\n",
       "      <td>NC.KSXB.</td>\n",
       "      <td>P</td>\n",
       "      <td>1.293879e+09</td>\n",
       "      <td>1776</td>\n",
       "    </tr>\n",
       "    <tr>\n",
       "      <th>1</th>\n",
       "      <td>0</td>\n",
       "      <td>352453</td>\n",
       "      <td>-0.520579</td>\n",
       "      <td>NC.KSXB.</td>\n",
       "      <td>S</td>\n",
       "      <td>1.293879e+09</td>\n",
       "      <td>1783</td>\n",
       "    </tr>\n",
       "    <tr>\n",
       "      <th>2</th>\n",
       "      <td>0</td>\n",
       "      <td>403</td>\n",
       "      <td>0.185083</td>\n",
       "      <td>TA.K02D.</td>\n",
       "      <td>P</td>\n",
       "      <td>1.293879e+09</td>\n",
       "      <td>4476</td>\n",
       "    </tr>\n",
       "    <tr>\n",
       "      <th>3</th>\n",
       "      <td>0</td>\n",
       "      <td>352517</td>\n",
       "      <td>-0.305899</td>\n",
       "      <td>TA.K02D.</td>\n",
       "      <td>S</td>\n",
       "      <td>1.293879e+09</td>\n",
       "      <td>4442</td>\n",
       "    </tr>\n",
       "    <tr>\n",
       "      <th>4</th>\n",
       "      <td>0</td>\n",
       "      <td>411</td>\n",
       "      <td>0.302689</td>\n",
       "      <td>TA.L02D.</td>\n",
       "      <td>P</td>\n",
       "      <td>1.293879e+09</td>\n",
       "      <td>4501</td>\n",
       "    </tr>\n",
       "    <tr>\n",
       "      <th>...</th>\n",
       "      <td>...</td>\n",
       "      <td>...</td>\n",
       "      <td>...</td>\n",
       "      <td>...</td>\n",
       "      <td>...</td>\n",
       "      <td>...</td>\n",
       "      <td>...</td>\n",
       "    </tr>\n",
       "    <tr>\n",
       "      <th>19039</th>\n",
       "      <td>2636</td>\n",
       "      <td>352412</td>\n",
       "      <td>0.289364</td>\n",
       "      <td>NC.KSXB.</td>\n",
       "      <td>P</td>\n",
       "      <td>1.451555e+09</td>\n",
       "      <td>23570712</td>\n",
       "    </tr>\n",
       "    <tr>\n",
       "      <th>19040</th>\n",
       "      <td>2636</td>\n",
       "      <td>533698</td>\n",
       "      <td>-0.412761</td>\n",
       "      <td>NC.KSXB.</td>\n",
       "      <td>S</td>\n",
       "      <td>1.451555e+09</td>\n",
       "      <td>23570695</td>\n",
       "    </tr>\n",
       "    <tr>\n",
       "      <th>19041</th>\n",
       "      <td>2636</td>\n",
       "      <td>352305</td>\n",
       "      <td>-0.005921</td>\n",
       "      <td>TA.K02D.</td>\n",
       "      <td>P</td>\n",
       "      <td>1.451555e+09</td>\n",
       "      <td>23569345</td>\n",
       "    </tr>\n",
       "    <tr>\n",
       "      <th>19042</th>\n",
       "      <td>2636</td>\n",
       "      <td>352279</td>\n",
       "      <td>0.090737</td>\n",
       "      <td>TA.L02E.</td>\n",
       "      <td>P</td>\n",
       "      <td>1.451555e+09</td>\n",
       "      <td>23569054</td>\n",
       "    </tr>\n",
       "    <tr>\n",
       "      <th>19043</th>\n",
       "      <td>2636</td>\n",
       "      <td>533645</td>\n",
       "      <td>0.258160</td>\n",
       "      <td>TA.L02E.</td>\n",
       "      <td>S</td>\n",
       "      <td>1.451555e+09</td>\n",
       "      <td>23569009</td>\n",
       "    </tr>\n",
       "  </tbody>\n",
       "</table>\n",
       "<p>19044 rows × 7 columns</p>\n",
       "</div>"
      ],
      "text/plain": [
       "       event_idx  pick_idx  residual   station phase          time   pick_id\n",
       "0              0       207 -0.129411  NC.KSXB.     P  1.293879e+09      1776\n",
       "1              0    352453 -0.520579  NC.KSXB.     S  1.293879e+09      1783\n",
       "2              0       403  0.185083  TA.K02D.     P  1.293879e+09      4476\n",
       "3              0    352517 -0.305899  TA.K02D.     S  1.293879e+09      4442\n",
       "4              0       411  0.302689  TA.L02D.     P  1.293879e+09      4501\n",
       "...          ...       ...       ...       ...   ...           ...       ...\n",
       "19039       2636    352412  0.289364  NC.KSXB.     P  1.451555e+09  23570712\n",
       "19040       2636    533698 -0.412761  NC.KSXB.     S  1.451555e+09  23570695\n",
       "19041       2636    352305 -0.005921  TA.K02D.     P  1.451555e+09  23569345\n",
       "19042       2636    352279  0.090737  TA.L02E.     P  1.451555e+09  23569054\n",
       "19043       2636    533645  0.258160  TA.L02E.     S  1.451555e+09  23569009\n",
       "\n",
       "[19044 rows x 7 columns]"
      ]
     },
     "execution_count": 20,
     "metadata": {},
     "output_type": "execute_result"
    }
   ],
   "source": [
    "# Print the assignments\n",
    "\n",
    "assignments"
   ]
  },
  {
   "cell_type": "code",
   "execution_count": 21,
   "id": "ff00602d",
   "metadata": {
    "scrolled": true
   },
   "outputs": [
    {
     "data": {
      "text/html": [
       "<div>\n",
       "<style scoped>\n",
       "    .dataframe tbody tr th:only-of-type {\n",
       "        vertical-align: middle;\n",
       "    }\n",
       "\n",
       "    .dataframe tbody tr th {\n",
       "        vertical-align: top;\n",
       "    }\n",
       "\n",
       "    .dataframe thead th {\n",
       "        text-align: right;\n",
       "    }\n",
       "</style>\n",
       "<table border=\"1\" class=\"dataframe\">\n",
       "  <thead>\n",
       "    <tr style=\"text-align: right;\">\n",
       "      <th></th>\n",
       "      <th>idx</th>\n",
       "      <th>time</th>\n",
       "      <th>x</th>\n",
       "      <th>y</th>\n",
       "      <th>z</th>\n",
       "      <th>picks</th>\n",
       "      <th>latitude</th>\n",
       "      <th>longitude</th>\n",
       "      <th>depth</th>\n",
       "      <th>event_idx</th>\n",
       "      <th>pick_idx</th>\n",
       "      <th>residual</th>\n",
       "      <th>station</th>\n",
       "      <th>phase</th>\n",
       "      <th>time_pick</th>\n",
       "      <th>pick_id</th>\n",
       "    </tr>\n",
       "  </thead>\n",
       "  <tbody>\n",
       "    <tr>\n",
       "      <th>0</th>\n",
       "      <td>0</td>\n",
       "      <td>2011-01-01 10:44:25.058283+00:00</td>\n",
       "      <td>100.965600</td>\n",
       "      <td>-447.960938</td>\n",
       "      <td>6.640625</td>\n",
       "      <td>6</td>\n",
       "      <td>40.461192</td>\n",
       "      <td>-124.309615</td>\n",
       "      <td>6.640625</td>\n",
       "      <td>0</td>\n",
       "      <td>207</td>\n",
       "      <td>-0.129411</td>\n",
       "      <td>NC.KSXB.</td>\n",
       "      <td>P</td>\n",
       "      <td>1.293879e+09</td>\n",
       "      <td>1776</td>\n",
       "    </tr>\n",
       "    <tr>\n",
       "      <th>1</th>\n",
       "      <td>0</td>\n",
       "      <td>2011-01-01 10:44:25.058283+00:00</td>\n",
       "      <td>100.965600</td>\n",
       "      <td>-447.960938</td>\n",
       "      <td>6.640625</td>\n",
       "      <td>6</td>\n",
       "      <td>40.461192</td>\n",
       "      <td>-124.309615</td>\n",
       "      <td>6.640625</td>\n",
       "      <td>0</td>\n",
       "      <td>352453</td>\n",
       "      <td>-0.520579</td>\n",
       "      <td>NC.KSXB.</td>\n",
       "      <td>S</td>\n",
       "      <td>1.293879e+09</td>\n",
       "      <td>1783</td>\n",
       "    </tr>\n",
       "    <tr>\n",
       "      <th>2</th>\n",
       "      <td>0</td>\n",
       "      <td>2011-01-01 10:44:25.058283+00:00</td>\n",
       "      <td>100.965600</td>\n",
       "      <td>-447.960938</td>\n",
       "      <td>6.640625</td>\n",
       "      <td>6</td>\n",
       "      <td>40.461192</td>\n",
       "      <td>-124.309615</td>\n",
       "      <td>6.640625</td>\n",
       "      <td>0</td>\n",
       "      <td>403</td>\n",
       "      <td>0.185083</td>\n",
       "      <td>TA.K02D.</td>\n",
       "      <td>P</td>\n",
       "      <td>1.293879e+09</td>\n",
       "      <td>4476</td>\n",
       "    </tr>\n",
       "    <tr>\n",
       "      <th>3</th>\n",
       "      <td>0</td>\n",
       "      <td>2011-01-01 10:44:25.058283+00:00</td>\n",
       "      <td>100.965600</td>\n",
       "      <td>-447.960938</td>\n",
       "      <td>6.640625</td>\n",
       "      <td>6</td>\n",
       "      <td>40.461192</td>\n",
       "      <td>-124.309615</td>\n",
       "      <td>6.640625</td>\n",
       "      <td>0</td>\n",
       "      <td>352517</td>\n",
       "      <td>-0.305899</td>\n",
       "      <td>TA.K02D.</td>\n",
       "      <td>S</td>\n",
       "      <td>1.293879e+09</td>\n",
       "      <td>4442</td>\n",
       "    </tr>\n",
       "    <tr>\n",
       "      <th>4</th>\n",
       "      <td>0</td>\n",
       "      <td>2011-01-01 10:44:25.058283+00:00</td>\n",
       "      <td>100.965600</td>\n",
       "      <td>-447.960938</td>\n",
       "      <td>6.640625</td>\n",
       "      <td>6</td>\n",
       "      <td>40.461192</td>\n",
       "      <td>-124.309615</td>\n",
       "      <td>6.640625</td>\n",
       "      <td>0</td>\n",
       "      <td>411</td>\n",
       "      <td>0.302689</td>\n",
       "      <td>TA.L02D.</td>\n",
       "      <td>P</td>\n",
       "      <td>1.293879e+09</td>\n",
       "      <td>4501</td>\n",
       "    </tr>\n",
       "    <tr>\n",
       "      <th>...</th>\n",
       "      <td>...</td>\n",
       "      <td>...</td>\n",
       "      <td>...</td>\n",
       "      <td>...</td>\n",
       "      <td>...</td>\n",
       "      <td>...</td>\n",
       "      <td>...</td>\n",
       "      <td>...</td>\n",
       "      <td>...</td>\n",
       "      <td>...</td>\n",
       "      <td>...</td>\n",
       "      <td>...</td>\n",
       "      <td>...</td>\n",
       "      <td>...</td>\n",
       "      <td>...</td>\n",
       "      <td>...</td>\n",
       "    </tr>\n",
       "    <tr>\n",
       "      <th>16534</th>\n",
       "      <td>2636</td>\n",
       "      <td>2015-12-31 09:46:36.747704+00:00</td>\n",
       "      <td>103.196884</td>\n",
       "      <td>-322.085565</td>\n",
       "      <td>1.171875</td>\n",
       "      <td>7</td>\n",
       "      <td>41.594114</td>\n",
       "      <td>-124.262270</td>\n",
       "      <td>1.171875</td>\n",
       "      <td>2636</td>\n",
       "      <td>352412</td>\n",
       "      <td>0.289364</td>\n",
       "      <td>NC.KSXB.</td>\n",
       "      <td>P</td>\n",
       "      <td>1.451555e+09</td>\n",
       "      <td>23570712</td>\n",
       "    </tr>\n",
       "    <tr>\n",
       "      <th>16535</th>\n",
       "      <td>2636</td>\n",
       "      <td>2015-12-31 09:46:36.747704+00:00</td>\n",
       "      <td>103.196884</td>\n",
       "      <td>-322.085565</td>\n",
       "      <td>1.171875</td>\n",
       "      <td>7</td>\n",
       "      <td>41.594114</td>\n",
       "      <td>-124.262270</td>\n",
       "      <td>1.171875</td>\n",
       "      <td>2636</td>\n",
       "      <td>533698</td>\n",
       "      <td>-0.412761</td>\n",
       "      <td>NC.KSXB.</td>\n",
       "      <td>S</td>\n",
       "      <td>1.451555e+09</td>\n",
       "      <td>23570695</td>\n",
       "    </tr>\n",
       "    <tr>\n",
       "      <th>16536</th>\n",
       "      <td>2636</td>\n",
       "      <td>2015-12-31 09:46:36.747704+00:00</td>\n",
       "      <td>103.196884</td>\n",
       "      <td>-322.085565</td>\n",
       "      <td>1.171875</td>\n",
       "      <td>7</td>\n",
       "      <td>41.594114</td>\n",
       "      <td>-124.262270</td>\n",
       "      <td>1.171875</td>\n",
       "      <td>2636</td>\n",
       "      <td>352305</td>\n",
       "      <td>-0.005921</td>\n",
       "      <td>TA.K02D.</td>\n",
       "      <td>P</td>\n",
       "      <td>1.451555e+09</td>\n",
       "      <td>23569345</td>\n",
       "    </tr>\n",
       "    <tr>\n",
       "      <th>16537</th>\n",
       "      <td>2636</td>\n",
       "      <td>2015-12-31 09:46:36.747704+00:00</td>\n",
       "      <td>103.196884</td>\n",
       "      <td>-322.085565</td>\n",
       "      <td>1.171875</td>\n",
       "      <td>7</td>\n",
       "      <td>41.594114</td>\n",
       "      <td>-124.262270</td>\n",
       "      <td>1.171875</td>\n",
       "      <td>2636</td>\n",
       "      <td>352279</td>\n",
       "      <td>0.090737</td>\n",
       "      <td>TA.L02E.</td>\n",
       "      <td>P</td>\n",
       "      <td>1.451555e+09</td>\n",
       "      <td>23569054</td>\n",
       "    </tr>\n",
       "    <tr>\n",
       "      <th>16538</th>\n",
       "      <td>2636</td>\n",
       "      <td>2015-12-31 09:46:36.747704+00:00</td>\n",
       "      <td>103.196884</td>\n",
       "      <td>-322.085565</td>\n",
       "      <td>1.171875</td>\n",
       "      <td>7</td>\n",
       "      <td>41.594114</td>\n",
       "      <td>-124.262270</td>\n",
       "      <td>1.171875</td>\n",
       "      <td>2636</td>\n",
       "      <td>533645</td>\n",
       "      <td>0.258160</td>\n",
       "      <td>TA.L02E.</td>\n",
       "      <td>S</td>\n",
       "      <td>1.451555e+09</td>\n",
       "      <td>23569009</td>\n",
       "    </tr>\n",
       "  </tbody>\n",
       "</table>\n",
       "<p>16539 rows × 16 columns</p>\n",
       "</div>"
      ],
      "text/plain": [
       "        idx                             time           x           y  \\\n",
       "0         0 2011-01-01 10:44:25.058283+00:00  100.965600 -447.960938   \n",
       "1         0 2011-01-01 10:44:25.058283+00:00  100.965600 -447.960938   \n",
       "2         0 2011-01-01 10:44:25.058283+00:00  100.965600 -447.960938   \n",
       "3         0 2011-01-01 10:44:25.058283+00:00  100.965600 -447.960938   \n",
       "4         0 2011-01-01 10:44:25.058283+00:00  100.965600 -447.960938   \n",
       "...     ...                              ...         ...         ...   \n",
       "16534  2636 2015-12-31 09:46:36.747704+00:00  103.196884 -322.085565   \n",
       "16535  2636 2015-12-31 09:46:36.747704+00:00  103.196884 -322.085565   \n",
       "16536  2636 2015-12-31 09:46:36.747704+00:00  103.196884 -322.085565   \n",
       "16537  2636 2015-12-31 09:46:36.747704+00:00  103.196884 -322.085565   \n",
       "16538  2636 2015-12-31 09:46:36.747704+00:00  103.196884 -322.085565   \n",
       "\n",
       "              z  picks   latitude   longitude     depth  event_idx  pick_idx  \\\n",
       "0      6.640625      6  40.461192 -124.309615  6.640625          0       207   \n",
       "1      6.640625      6  40.461192 -124.309615  6.640625          0    352453   \n",
       "2      6.640625      6  40.461192 -124.309615  6.640625          0       403   \n",
       "3      6.640625      6  40.461192 -124.309615  6.640625          0    352517   \n",
       "4      6.640625      6  40.461192 -124.309615  6.640625          0       411   \n",
       "...         ...    ...        ...         ...       ...        ...       ...   \n",
       "16534  1.171875      7  41.594114 -124.262270  1.171875       2636    352412   \n",
       "16535  1.171875      7  41.594114 -124.262270  1.171875       2636    533698   \n",
       "16536  1.171875      7  41.594114 -124.262270  1.171875       2636    352305   \n",
       "16537  1.171875      7  41.594114 -124.262270  1.171875       2636    352279   \n",
       "16538  1.171875      7  41.594114 -124.262270  1.171875       2636    533645   \n",
       "\n",
       "       residual   station phase     time_pick   pick_id  \n",
       "0     -0.129411  NC.KSXB.     P  1.293879e+09      1776  \n",
       "1     -0.520579  NC.KSXB.     S  1.293879e+09      1783  \n",
       "2      0.185083  TA.K02D.     P  1.293879e+09      4476  \n",
       "3     -0.305899  TA.K02D.     S  1.293879e+09      4442  \n",
       "4      0.302689  TA.L02D.     P  1.293879e+09      4501  \n",
       "...         ...       ...   ...           ...       ...  \n",
       "16534  0.289364  NC.KSXB.     P  1.451555e+09  23570712  \n",
       "16535 -0.412761  NC.KSXB.     S  1.451555e+09  23570695  \n",
       "16536 -0.005921  TA.K02D.     P  1.451555e+09  23569345  \n",
       "16537  0.090737  TA.L02E.     P  1.451555e+09  23569054  \n",
       "16538  0.258160  TA.L02E.     S  1.451555e+09  23569009  \n",
       "\n",
       "[16539 rows x 16 columns]"
      ]
     },
     "execution_count": 21,
     "metadata": {},
     "output_type": "execute_result"
    }
   ],
   "source": [
    "# Assign the event information to each pick by using pd.merge\n",
    "all_pick_assignments = pd.merge(events, assignments, left_on=\"idx\", right_on=\"event_idx\", suffixes=(\"\", \"_pick\"))\n",
    "all_pick_assignments"
   ]
  },
  {
   "cell_type": "code",
   "execution_count": 22,
   "id": "192a651f",
   "metadata": {},
   "outputs": [
    {
     "data": {
      "text/html": [
       "<div>\n",
       "<style scoped>\n",
       "    .dataframe tbody tr th:only-of-type {\n",
       "        vertical-align: middle;\n",
       "    }\n",
       "\n",
       "    .dataframe tbody tr th {\n",
       "        vertical-align: top;\n",
       "    }\n",
       "\n",
       "    .dataframe thead th {\n",
       "        text-align: right;\n",
       "    }\n",
       "</style>\n",
       "<table border=\"1\" class=\"dataframe\">\n",
       "  <thead>\n",
       "    <tr style=\"text-align: right;\">\n",
       "      <th></th>\n",
       "      <th>idx</th>\n",
       "      <th>time</th>\n",
       "      <th>x</th>\n",
       "      <th>y</th>\n",
       "      <th>z</th>\n",
       "      <th>picks</th>\n",
       "      <th>latitude</th>\n",
       "      <th>longitude</th>\n",
       "      <th>depth</th>\n",
       "      <th>event_idx</th>\n",
       "      <th>pick_idx</th>\n",
       "      <th>residual</th>\n",
       "      <th>station</th>\n",
       "      <th>phase</th>\n",
       "      <th>time_pick</th>\n",
       "      <th>pick_id</th>\n",
       "    </tr>\n",
       "  </thead>\n",
       "  <tbody>\n",
       "    <tr>\n",
       "      <th>0</th>\n",
       "      <td>0</td>\n",
       "      <td>2011-01-01 10:44:25.058283+00:00</td>\n",
       "      <td>100.965600</td>\n",
       "      <td>-447.960938</td>\n",
       "      <td>6.640625</td>\n",
       "      <td>6</td>\n",
       "      <td>40.461192</td>\n",
       "      <td>-124.309615</td>\n",
       "      <td>6.640625</td>\n",
       "      <td>0</td>\n",
       "      <td>207</td>\n",
       "      <td>-0.129411</td>\n",
       "      <td>NC.KSXB.</td>\n",
       "      <td>P</td>\n",
       "      <td>1.293879e+09</td>\n",
       "      <td>1776</td>\n",
       "    </tr>\n",
       "    <tr>\n",
       "      <th>1</th>\n",
       "      <td>0</td>\n",
       "      <td>2011-01-01 10:44:25.058283+00:00</td>\n",
       "      <td>100.965600</td>\n",
       "      <td>-447.960938</td>\n",
       "      <td>6.640625</td>\n",
       "      <td>6</td>\n",
       "      <td>40.461192</td>\n",
       "      <td>-124.309615</td>\n",
       "      <td>6.640625</td>\n",
       "      <td>0</td>\n",
       "      <td>352453</td>\n",
       "      <td>-0.520579</td>\n",
       "      <td>NC.KSXB.</td>\n",
       "      <td>S</td>\n",
       "      <td>1.293879e+09</td>\n",
       "      <td>1783</td>\n",
       "    </tr>\n",
       "    <tr>\n",
       "      <th>2</th>\n",
       "      <td>0</td>\n",
       "      <td>2011-01-01 10:44:25.058283+00:00</td>\n",
       "      <td>100.965600</td>\n",
       "      <td>-447.960938</td>\n",
       "      <td>6.640625</td>\n",
       "      <td>6</td>\n",
       "      <td>40.461192</td>\n",
       "      <td>-124.309615</td>\n",
       "      <td>6.640625</td>\n",
       "      <td>0</td>\n",
       "      <td>403</td>\n",
       "      <td>0.185083</td>\n",
       "      <td>TA.K02D.</td>\n",
       "      <td>P</td>\n",
       "      <td>1.293879e+09</td>\n",
       "      <td>4476</td>\n",
       "    </tr>\n",
       "    <tr>\n",
       "      <th>3</th>\n",
       "      <td>0</td>\n",
       "      <td>2011-01-01 10:44:25.058283+00:00</td>\n",
       "      <td>100.965600</td>\n",
       "      <td>-447.960938</td>\n",
       "      <td>6.640625</td>\n",
       "      <td>6</td>\n",
       "      <td>40.461192</td>\n",
       "      <td>-124.309615</td>\n",
       "      <td>6.640625</td>\n",
       "      <td>0</td>\n",
       "      <td>352517</td>\n",
       "      <td>-0.305899</td>\n",
       "      <td>TA.K02D.</td>\n",
       "      <td>S</td>\n",
       "      <td>1.293879e+09</td>\n",
       "      <td>4442</td>\n",
       "    </tr>\n",
       "    <tr>\n",
       "      <th>4</th>\n",
       "      <td>0</td>\n",
       "      <td>2011-01-01 10:44:25.058283+00:00</td>\n",
       "      <td>100.965600</td>\n",
       "      <td>-447.960938</td>\n",
       "      <td>6.640625</td>\n",
       "      <td>6</td>\n",
       "      <td>40.461192</td>\n",
       "      <td>-124.309615</td>\n",
       "      <td>6.640625</td>\n",
       "      <td>0</td>\n",
       "      <td>411</td>\n",
       "      <td>0.302689</td>\n",
       "      <td>TA.L02D.</td>\n",
       "      <td>P</td>\n",
       "      <td>1.293879e+09</td>\n",
       "      <td>4501</td>\n",
       "    </tr>\n",
       "    <tr>\n",
       "      <th>5</th>\n",
       "      <td>0</td>\n",
       "      <td>2011-01-01 10:44:25.058283+00:00</td>\n",
       "      <td>100.965600</td>\n",
       "      <td>-447.960938</td>\n",
       "      <td>6.640625</td>\n",
       "      <td>6</td>\n",
       "      <td>40.461192</td>\n",
       "      <td>-124.309615</td>\n",
       "      <td>6.640625</td>\n",
       "      <td>0</td>\n",
       "      <td>352526</td>\n",
       "      <td>0.468118</td>\n",
       "      <td>TA.L02D.</td>\n",
       "      <td>S</td>\n",
       "      <td>1.293879e+09</td>\n",
       "      <td>4504</td>\n",
       "    </tr>\n",
       "    <tr>\n",
       "      <th>6</th>\n",
       "      <td>1</td>\n",
       "      <td>2011-01-02 06:00:27.043481+00:00</td>\n",
       "      <td>-31.795797</td>\n",
       "      <td>-433.656918</td>\n",
       "      <td>12.109375</td>\n",
       "      <td>12</td>\n",
       "      <td>40.595524</td>\n",
       "      <td>-125.875626</td>\n",
       "      <td>12.109375</td>\n",
       "      <td>1</td>\n",
       "      <td>422</td>\n",
       "      <td>-0.295976</td>\n",
       "      <td>NC.KBO.</td>\n",
       "      <td>P</td>\n",
       "      <td>1.293948e+09</td>\n",
       "      <td>5215</td>\n",
       "    </tr>\n",
       "    <tr>\n",
       "      <th>7</th>\n",
       "      <td>1</td>\n",
       "      <td>2011-01-02 06:00:27.043481+00:00</td>\n",
       "      <td>-31.795797</td>\n",
       "      <td>-433.656918</td>\n",
       "      <td>12.109375</td>\n",
       "      <td>12</td>\n",
       "      <td>40.595524</td>\n",
       "      <td>-125.875626</td>\n",
       "      <td>12.109375</td>\n",
       "      <td>1</td>\n",
       "      <td>352539</td>\n",
       "      <td>-0.189921</td>\n",
       "      <td>NC.KBO.</td>\n",
       "      <td>S</td>\n",
       "      <td>1.293948e+09</td>\n",
       "      <td>5110</td>\n",
       "    </tr>\n",
       "    <tr>\n",
       "      <th>8</th>\n",
       "      <td>1</td>\n",
       "      <td>2011-01-02 06:00:27.043481+00:00</td>\n",
       "      <td>-31.795797</td>\n",
       "      <td>-433.656918</td>\n",
       "      <td>12.109375</td>\n",
       "      <td>12</td>\n",
       "      <td>40.595524</td>\n",
       "      <td>-125.875626</td>\n",
       "      <td>12.109375</td>\n",
       "      <td>1</td>\n",
       "      <td>466</td>\n",
       "      <td>-0.677182</td>\n",
       "      <td>NC.KEB.</td>\n",
       "      <td>P</td>\n",
       "      <td>1.293948e+09</td>\n",
       "      <td>5311</td>\n",
       "    </tr>\n",
       "    <tr>\n",
       "      <th>9</th>\n",
       "      <td>1</td>\n",
       "      <td>2011-01-02 06:00:27.043481+00:00</td>\n",
       "      <td>-31.795797</td>\n",
       "      <td>-433.656918</td>\n",
       "      <td>12.109375</td>\n",
       "      <td>12</td>\n",
       "      <td>40.595524</td>\n",
       "      <td>-125.875626</td>\n",
       "      <td>12.109375</td>\n",
       "      <td>1</td>\n",
       "      <td>352542</td>\n",
       "      <td>-1.002372</td>\n",
       "      <td>NC.KEB.</td>\n",
       "      <td>S</td>\n",
       "      <td>1.293948e+09</td>\n",
       "      <td>5286</td>\n",
       "    </tr>\n",
       "  </tbody>\n",
       "</table>\n",
       "</div>"
      ],
      "text/plain": [
       "   idx                             time           x           y          z  \\\n",
       "0    0 2011-01-01 10:44:25.058283+00:00  100.965600 -447.960938   6.640625   \n",
       "1    0 2011-01-01 10:44:25.058283+00:00  100.965600 -447.960938   6.640625   \n",
       "2    0 2011-01-01 10:44:25.058283+00:00  100.965600 -447.960938   6.640625   \n",
       "3    0 2011-01-01 10:44:25.058283+00:00  100.965600 -447.960938   6.640625   \n",
       "4    0 2011-01-01 10:44:25.058283+00:00  100.965600 -447.960938   6.640625   \n",
       "5    0 2011-01-01 10:44:25.058283+00:00  100.965600 -447.960938   6.640625   \n",
       "6    1 2011-01-02 06:00:27.043481+00:00  -31.795797 -433.656918  12.109375   \n",
       "7    1 2011-01-02 06:00:27.043481+00:00  -31.795797 -433.656918  12.109375   \n",
       "8    1 2011-01-02 06:00:27.043481+00:00  -31.795797 -433.656918  12.109375   \n",
       "9    1 2011-01-02 06:00:27.043481+00:00  -31.795797 -433.656918  12.109375   \n",
       "\n",
       "   picks   latitude   longitude      depth  event_idx  pick_idx  residual  \\\n",
       "0      6  40.461192 -124.309615   6.640625          0       207 -0.129411   \n",
       "1      6  40.461192 -124.309615   6.640625          0    352453 -0.520579   \n",
       "2      6  40.461192 -124.309615   6.640625          0       403  0.185083   \n",
       "3      6  40.461192 -124.309615   6.640625          0    352517 -0.305899   \n",
       "4      6  40.461192 -124.309615   6.640625          0       411  0.302689   \n",
       "5      6  40.461192 -124.309615   6.640625          0    352526  0.468118   \n",
       "6     12  40.595524 -125.875626  12.109375          1       422 -0.295976   \n",
       "7     12  40.595524 -125.875626  12.109375          1    352539 -0.189921   \n",
       "8     12  40.595524 -125.875626  12.109375          1       466 -0.677182   \n",
       "9     12  40.595524 -125.875626  12.109375          1    352542 -1.002372   \n",
       "\n",
       "    station phase     time_pick  pick_id  \n",
       "0  NC.KSXB.     P  1.293879e+09     1776  \n",
       "1  NC.KSXB.     S  1.293879e+09     1783  \n",
       "2  TA.K02D.     P  1.293879e+09     4476  \n",
       "3  TA.K02D.     S  1.293879e+09     4442  \n",
       "4  TA.L02D.     P  1.293879e+09     4501  \n",
       "5  TA.L02D.     S  1.293879e+09     4504  \n",
       "6   NC.KBO.     P  1.293948e+09     5215  \n",
       "7   NC.KBO.     S  1.293948e+09     5110  \n",
       "8   NC.KEB.     P  1.293948e+09     5311  \n",
       "9   NC.KEB.     S  1.293948e+09     5286  "
      ]
     },
     "execution_count": 22,
     "metadata": {},
     "output_type": "execute_result"
    }
   ],
   "source": [
    "all_pick_assignments[0:10]"
   ]
  },
  {
   "cell_type": "code",
   "execution_count": 23,
   "id": "37ebd009",
   "metadata": {},
   "outputs": [],
   "source": [
    "# Save the assignments to a CSV file\n",
    "all_pick_assignments.to_csv(f\"../data/datasets_{region}/all_pick_assignments_{region}.csv\")"
   ]
  },
  {
   "cell_type": "code",
   "execution_count": 24,
   "id": "73c15960",
   "metadata": {},
   "outputs": [
    {
     "data": {
      "image/png": "[encoded data removed]",
      "text/plain": [
       "<Figure size 400x800 with 2 Axes>"
      ]
     },
     "metadata": {},
     "output_type": "display_data"
    }
   ],
   "source": [
    "# The parameters in the associator class: n_picks=2,n_p_picks=1,n_s_picks=1,n_p_and_s_picks=1\n",
    "fig = plt.figure(figsize=(4, 8))\n",
    "ax = fig.add_subplot()\n",
    "ax.set_aspect(\"equal\")\n",
    "\n",
    "# ax.scatter(events[\"x\"], events[\"y\"], c=events[\"z\"])\n",
    "ax.set_xlabel(\"Easting [km]\")\n",
    "ax.set_ylabel(\"Northing [km]\")\n",
    "cax = fig.add_axes([ax.get_position().x1+0.05,ax.get_position().y0,0.02,ax.get_position().height])\n",
    "cb1 = fig.colorbar(ax.scatter(events[\"x\"], events[\"y\"], c=events[\"z\"],s=0.5,cmap='viridis'), cax=cax)\n",
    "cb1.ax.invert_yaxis()"
   ]
  },
  {
   "cell_type": "markdown",
   "id": "2a605e6e",
   "metadata": {},
   "source": [
    "## Plot the associated events (not necessary to run cells below)"
   ]
  },
  {
   "cell_type": "code",
   "execution_count": null,
   "id": "b60bfc02",
   "metadata": {},
   "outputs": [],
   "source": [
    "# Read the event dataframe saved above\n",
    "events = pd.read_csv('../data/events_october_temp_with_JCC.csv')"
   ]
  },
  {
   "cell_type": "code",
   "execution_count": null,
   "id": "705547c6",
   "metadata": {},
   "outputs": [],
   "source": [
    "events"
   ]
  },
  {
   "cell_type": "code",
   "execution_count": null,
   "id": "c13e1287",
   "metadata": {},
   "outputs": [],
   "source": [
    "# Plot the events \n",
    "import pygmt\n",
    "fig = pygmt.Figure()\n",
    "# grid = pygmt.datasets.load_earth_relief(resolution=\"15s\", region=[-126, -124, 40, 43])\n",
    "# # fig.shift_origin(yshift=\"10c\")\n",
    "# fig.grdimage(grid=grid, projection=\"M15c\", frame=\"a\", cmap=\"geo\", transparency = 50)\n",
    "# # fig.plot(x = events_morton_201210_lon, y = events_morton_201210_lat,  \n",
    "# #          color = 'blue', size = size_morton, style = \"c\", pen = \"black\")\n",
    "# # fig.plot(x = myevents_20121014_lon, y = myevents_20121014_lat,  \n",
    "# #          color = 'red', size = size_myevents, style = \"c\", pen = \"black\")\n",
    "# # fig.plot(x = events_jdf_201210_lon, y = events_jdf_201210_lat,  \n",
    "# #          color = 'yellow', size = size_jdf, style = \"c\", pen = \"black\")\n",
    "# # fig.plot(x = events_cascadia_201210_lon, y = events_cascadia_201210_lat,  \n",
    "# #          color = 'yellow', size = size_cascadia, style = \"c\", pen = \"black\")\n",
    "# # fig.plot(x = events_USGS_201210_lon, y = events_USGS_201210_lat,  \n",
    "# #          color = 'green', size = size_USGS, style = \"c\", pen = \"black\")\n",
    "# # # Draw a line between two events that we consider to be the same event \n",
    "# # Draw a line between two events that we consider to be the same event \n",
    "# # fig.plot(x = (event_0239_lon,event_morton_0239_lon), y = (event_0239_lat,event_morton_0239_lat), pen =\"4p, red\")\n",
    "# # fig.plot(x = (event_0239_lon,event_morton_0239_lon), y = (event_0239_lat,event_morton_0308_lat), pen =\"4p, red\")\n",
    "# fig.plot(x=events[\"x\"], y=events[\"y\"], c=events[\"z\"],s=0.5,cmap='viridis')\n",
    "# fig.show()\n",
    "\n",
    "grid = pygmt.datasets.load_earth_relief(resolution=\"15s\", region=[-127, -123, 40, 50])\n",
    "fig.shift_origin(yshift=\"10c\")\n",
    "fig.grdimage(grid=grid, projection=\"M15c\", frame=\"a\", cmap=\"geo\", transparency = 50)\n",
    "pygmt.makecpt(cmap=\"hot\", series=[min(events['picks'].values), max(events['picks'].values)])\n",
    "fig.plot(\n",
    "    x=events[\"longitude\"].values,\n",
    "    y=events[\"latitude\"].values,\n",
    "    size=0.3 * np.ones(len(events)),\n",
    "    fill=events['picks'].values,\n",
    "    cmap=True,\n",
    "    style=\"cc\",\n",
    "    pen=\"black\",\n",
    ")\n",
    "fig.colorbar(frame=\"xaf+lNumber of Picks\")\n",
    "# fig.plot(x=events[\"longitude\"].values[0:200], y=events[\"latitude\"].values[0:200], style=\"c0.3c\", color=events['picks'].values[0:200], cmap='viridis', pen=\"black\")\n",
    "fig.show()"
   ]
  },
  {
   "cell_type": "code",
   "execution_count": null,
   "id": "09747c11",
   "metadata": {},
   "outputs": [],
   "source": []
  },
  {
   "cell_type": "markdown",
   "id": "4ee49480",
   "metadata": {},
   "source": [
    "## Association validation (not necessary anymore) \n",
    "Get the events from the USGS and compare with the events from the association\n"
   ]
  },
  {
   "cell_type": "code",
   "execution_count": null,
   "id": "75d2c561",
   "metadata": {},
   "outputs": [],
   "source": [
    "client = Client(\"USGS\")\n",
    "client_waveforms = WaveformClient()\n",
    "client.get_events(starttime = UTCDateTime(\"2012-10-14T00:00:00.000000\"),\n",
    "                  endtime   = UTCDateTime(\"2012-10-14T23:59:59.999999\"),\n",
    "                  minlatitude = 40, maxlatitude = 44, \n",
    "                  minlongitude = -125, maxlongitude = -120)\n"
   ]
  },
  {
   "cell_type": "code",
   "execution_count": null,
   "id": "5921ac85",
   "metadata": {},
   "outputs": [],
   "source": [
    "# Pick a station \n",
    "s = client_waveforms.get_waveforms(network=\"7D\", station=\"FS09B\", channel=\"BH?\", year=2012, month=10, day=14)\n",
    "s.filter(type='bandpass',freqmin=4,freqmax=15)"
   ]
  },
  {
   "cell_type": "code",
   "execution_count": null,
   "id": "52bc56fb",
   "metadata": {},
   "outputs": [],
   "source": [
    "# Pick a time that shows up in both the USGS catalog and the event data frame from the association above \n",
    "time1 = events.loc[1, 'time']"
   ]
  },
  {
   "cell_type": "code",
   "execution_count": null,
   "id": "e24b438d",
   "metadata": {},
   "outputs": [],
   "source": [
    "time1"
   ]
  },
  {
   "cell_type": "code",
   "execution_count": null,
   "id": "16eb9cc6",
   "metadata": {},
   "outputs": [],
   "source": [
    "trim_s = s.copy().trim(starttime = UTCDateTime(time1) - 20, \n",
    "                endtime = UTCDateTime(time1) + 40)\n",
    "fig = plt.figure(figsize = (10, 4))\n",
    "trim_s.plot(fig=fig)\n",
    "\n",
    "# [ax.axvline(pick.peak_time.matplotlib_date, \n",
    "#             linestyle = '--', color = 'r', label = f'{pick.phase} pick') for ax in fig.axes]\n",
    "# [ax.legend() for ax in fig.axes]"
   ]
  },
  {
   "cell_type": "code",
   "execution_count": null,
   "id": "ea03a6cb",
   "metadata": {},
   "outputs": [],
   "source": [
    "# Pick another time that shows up in both the USGS catalog and the event data frame from the association above \n",
    "time2 = events.loc[2, 'time']\n",
    "time2"
   ]
  },
  {
   "cell_type": "code",
   "execution_count": null,
   "id": "d6006088",
   "metadata": {},
   "outputs": [],
   "source": [
    "trim_s = s.copy().trim(starttime = UTCDateTime(time2) - 20, \n",
    "                endtime = UTCDateTime(time2) + 40)\n",
    "fig = plt.figure(figsize = (10, 4))\n",
    "trim_s.plot(fig=fig)\n",
    "\n",
    "# [ax.axvline(pick.peak_time.matplotlib_date, \n",
    "#             linestyle = '--', color = 'r', label = f'{pick.phase} pick') for ax in fig.axes]\n",
    "# [ax.legend() for ax in fig.axes]"
   ]
  },
  {
   "cell_type": "markdown",
   "id": "6382af9b",
   "metadata": {},
   "source": [
    "## Other Picks"
   ]
  },
  {
   "cell_type": "code",
   "execution_count": null,
   "id": "5109e9ee",
   "metadata": {},
   "outputs": [],
   "source": [
    "time = events['time']\n",
    "time"
   ]
  },
  {
   "cell_type": "code",
   "execution_count": null,
   "id": "dc7fe7f7",
   "metadata": {},
   "outputs": [],
   "source": [
    "time_possibly_new_events = time.drop(labels=[1,2], axis=0)\n",
    "time_possibly_new_events"
   ]
  },
  {
   "cell_type": "code",
   "execution_count": null,
   "id": "74e0cb1e",
   "metadata": {
    "scrolled": false
   },
   "outputs": [],
   "source": [
    "for time in time_possibly_new_events:\n",
    "    plt.figure(figsize=(10,10))\n",
    "    for i in range(len(stations)):\n",
    "        s = client_waveforms.get_waveforms(network=\"7D\", station=stations['id'][i], channel=\"?H?\", year=2012, month=10, day=14)\n",
    "        s = s.select(channel = \"[HB]H?\")\n",
    "        s.filter(type='bandpass',freqmin=4,freqmax=15)\n",
    "        if s[0].stats.channel == 'HH1':\n",
    "            s = s.resample(50)\n",
    "        else:\n",
    "            pass \n",
    "\n",
    "        trim_s = s.copy().trim(starttime = UTCDateTime(time) - 10, endtime = UTCDateTime(time) + 50)\n",
    "        sdata = np.array(trim_s)[:,:]\n",
    "        sdata_norm = (sdata-np.min(sdata, axis=1, keepdims=True))/(np.max(sdata, axis=1, keepdims=True)-np.min(sdata, axis=1, keepdims=True))\n",
    "        offsets2 = np.arange(0,3*len(sdata)*len(stations),3*len(sdata))\n",
    "\n",
    "        for ii in range(len(sdata)):\n",
    "            offsets1  = np.arange(0,len(sdata))\n",
    "            plt.plot(trim_s[ii].times(type='utcdatetime'), sdata_norm[ii]+offsets1[ii]+offsets2[i], color = 'gray', alpha=0.7, lw=0.5)    \n",
    "\n",
    "\n",
    "    plt.yticks(offsets2+1, stations['id'])\n",
    "    plt.axvline(time,ls='-', c='r')\n",
    "    plt.title(time)"
   ]
  },
  {
   "cell_type": "code",
   "execution_count": null,
   "id": "1ba96a54",
   "metadata": {},
   "outputs": [],
   "source": []
  },
  {
   "cell_type": "code",
   "execution_count": null,
   "id": "922d45d2",
   "metadata": {},
   "outputs": [],
   "source": []
  },
  {
   "cell_type": "code",
   "execution_count": null,
   "id": "ad773019",
   "metadata": {},
   "outputs": [],
   "source": []
  },
  {
   "cell_type": "code",
   "execution_count": null,
   "id": "8bf6a534",
   "metadata": {},
   "outputs": [],
   "source": []
  },
  {
   "cell_type": "code",
   "execution_count": null,
   "id": "0711c1ac",
   "metadata": {},
   "outputs": [],
   "source": []
  },
  {
   "cell_type": "code",
   "execution_count": null,
   "id": "56b6f13d",
   "metadata": {},
   "outputs": [],
   "source": []
  },
  {
   "cell_type": "code",
   "execution_count": null,
   "id": "6d113604",
   "metadata": {},
   "outputs": [],
   "source": []
  },
  {
   "cell_type": "code",
   "execution_count": null,
   "id": "4c756483",
   "metadata": {},
   "outputs": [],
   "source": []
  },
  {
   "cell_type": "code",
   "execution_count": null,
   "id": "07f5c96c",
   "metadata": {},
   "outputs": [],
   "source": []
  },
  {
   "cell_type": "code",
   "execution_count": null,
   "id": "541bb971",
   "metadata": {},
   "outputs": [],
   "source": [
    "# Plot waveforms of events picked by the associator but not on the USGS catalog\n",
    "time4 = events.loc[4, 'time']\n",
    "time4"
   ]
  },
  {
   "cell_type": "code",
   "execution_count": null,
   "id": "663b712a",
   "metadata": {},
   "outputs": [],
   "source": [
    "# s_FS09B = client_waveforms.get_waveforms(network=\"7D\", station=\"FS09B\", channel=\"BH?\", year=2012, month=10, day=14)\n",
    "# s_G10B = client_waveforms.get_waveforms(network=\"7D\", station=\"G10B\", channel=\"BH?\", year=2012, month=10, day=14)\n",
    "# s_G19B = client_waveforms.get_waveforms(network=\"7D\", station=\"G19B\", channel=\"BH?\", year=2012, month=10, day=14)\n",
    "# s_G25B = client_waveforms.get_waveforms(network=\"7D\", station=\"G25B\", channel=\"BH?\", year=2012, month=10, day=14)\n",
    "# s_G27B = client_waveforms.get_waveforms(network=\"7D\", station=\"G27B\", channel=\"BH?\", year=2012, month=10, day=14)\n",
    "# s_J09B = client_waveforms.get_waveforms(network=\"7D\", station=\"J09B\", channel=\"BH?\", year=2012, month=10, day=14)\n",
    "# s_M12B= client_waveforms.get_waveforms(network=\"7D\", station=\"M12B\", channel=\"BH?\", year=2012, month=10, day=14)\n",
    "# s_M14B = client_waveforms.get_waveforms(network=\"7D\", station=\"M14B\", channel=\"BH?\", year=2012, month=10, day=14)\n"
   ]
  },
  {
   "cell_type": "code",
   "execution_count": null,
   "id": "af5a9fec",
   "metadata": {},
   "outputs": [],
   "source": [
    "# trim_s_FS09B = s.copy().trim(starttime = UTCDateTime(time1) - 20, endtime = UTCDateTime(time1) + 40)\n",
    "# trim_s_G10B = s.copy().trim(starttime = UTCDateTime(time1) - 20, endtime = UTCDateTime(time1) + 40)\n",
    "# trim_s_G19B = s.copy().trim(starttime = UTCDateTime(time1) - 20, endtime = UTCDateTime(time1) + 40)\n",
    "# trim_s_G25B = s.copy().trim(starttime = UTCDateTime(time1) - 20, endtime = UTCDateTime(time1) + 40)\n",
    "# trim_s_G27B = s.copy().trim(starttime = UTCDateTime(time1) - 20, endtime = UTCDateTime(time1) + 40)\n",
    "# trim_s_J09B = s.copy().trim(starttime = UTCDateTime(time1) - 20, endtime = UTCDateTime(time1) + 40)\n",
    "# trim_s_M12B = s.copy().trim(starttime = UTCDateTime(time1) - 20, endtime = UTCDateTime(time1) + 40)\n",
    "# trim_s_M14B = s.copy().trim(starttime = UTCDateTime(time1) - 20, endtime = UTCDateTime(time1) + 40)\n",
    "\n"
   ]
  },
  {
   "cell_type": "code",
   "execution_count": null,
   "id": "fccedef5",
   "metadata": {
    "scrolled": true
   },
   "outputs": [],
   "source": [
    "for i, station in enumerate(stations['id']):\n",
    "    s = client_waveforms.get_waveforms(network=\"7D\", station=station, channel=\"?H?\", year=2012, month=10, day=14)\n",
    "    s = s.select(channel = \"[HB]H?\")\n",
    "    s.filter(type='bandpass',freqmin=4,freqmax=15)\n",
    "    trim_s = s.copy().trim(starttime = UTCDateTime(pick_time[4]) - 20, endtime = UTCDateTime(pick_time[4]) + 100)\n",
    "    fig = plt.figure(figsize=(10,4))\n",
    "    trim_s.plot(fig=fig)\n",
    "    [ax.axvline(pick_time[4], \n",
    "            linestyle = '--', color = 'r', label = 'pick time') for ax in fig.axes]    \n"
   ]
  },
  {
   "cell_type": "code",
   "execution_count": null,
   "id": "2f71da0a",
   "metadata": {},
   "outputs": [],
   "source": [
    "offsets1  = np.arange(0,3)\n",
    "offsets2 = np.arange(0,2*len(stations),2)\n",
    "\n"
   ]
  },
  {
   "cell_type": "code",
   "execution_count": null,
   "id": "afb10228",
   "metadata": {},
   "outputs": [],
   "source": [
    "offsets1"
   ]
  },
  {
   "cell_type": "code",
   "execution_count": null,
   "id": "12481d1c",
   "metadata": {},
   "outputs": [],
   "source": [
    "offsets2 = np.arange(0,2*10000*len(stations),2*10000)\n",
    "\n",
    "offsets2"
   ]
  },
  {
   "cell_type": "code",
   "execution_count": null,
   "id": "6c636fb6",
   "metadata": {},
   "outputs": [],
   "source": [
    "plt.figure()\n",
    "offsets2 = np.arange(0,5*10000*len(stations),5*10000)\n",
    "\n",
    "for i, station in enumerate(stations['id']):\n",
    "    s = client_waveforms.get_waveforms(network=\"7D\", station=station, channel=\"?H?\", year=2012, month=10, day=14)\n",
    "    s = s.select(channel = \"[HB]H?\")\n",
    "    s.filter(type='bandpass',freqmin=4,freqmax=15)\n",
    "    trim_s = s.copy().trim(starttime = UTCDateTime(pick_time[4]) - 20, endtime = UTCDateTime(pick_time[4]) + 100)\n",
    "    sdata = np.array(trim_s)[:,:]\n",
    "    for ii in range(len(sdata)):\n",
    "        offsets1  = np.arange(0,10000*len(sdata),10000)\n",
    "        plt.plot(sdata[ii].T+offsets1[ii]+offsets2[i], color = 'gray', alpha=0.5)   \n"
   ]
  },
  {
   "cell_type": "code",
   "execution_count": null,
   "id": "dd3cf9cb",
   "metadata": {},
   "outputs": [],
   "source": [
    "offsets2 = np.arange(0,5*100000*len(stations),5*100000)\n",
    "\n",
    "\n",
    "s = client_waveforms.get_waveforms(network=\"7D\", station=stations['id'][0], channel=\"?H?\", year=2012, month=10, day=14)\n",
    "s = s.select(channel = \"[HB]H?\")\n",
    "s.filter(type='bandpass',freqmin=4,freqmax=15)\n",
    "sampling_rate = s[0].stats.sampling_rate\n",
    "trim_s = s.copy().trim(starttime = UTCDateTime(pick_time[4]) - 10, endtime = UTCDateTime(pick_time[4]) + 50)\n",
    "sdata = np.array(trim_s)[:,:]\n",
    "sdata_norm = (sdata - np.mean(sdata, axis=1, keepdims=True))/(np.std(sdata, axis=1, keepdims=True))\n",
    "\n",
    "for ii in range(len(sdata)):\n",
    "    offsets1  = np.arange(0,len(sdata))\n",
    "    plt.plot(sdata_norm.T+offsets1[ii], color = 'gray', alpha=0.5, lw=0.5)\n",
    "\n",
    "plt.axvline(10*sampling_rate,ls='-', c='r')\n",
    "    \n"
   ]
  },
  {
   "cell_type": "code",
   "execution_count": null,
   "id": "6db09907",
   "metadata": {},
   "outputs": [],
   "source": [
    "sdata.mean()"
   ]
  },
  {
   "cell_type": "code",
   "execution_count": null,
   "id": "d49994be",
   "metadata": {},
   "outputs": [],
   "source": [
    "s[0].stats.sampling_rate*120"
   ]
  },
  {
   "cell_type": "code",
   "execution_count": null,
   "id": "c0574f27",
   "metadata": {},
   "outputs": [],
   "source": [
    "s = client_waveforms.get_waveforms(network=\"7D\", station=stations['id'][3], channel=\"?H?\", year=2012, month=10, day=14)\n",
    "s = s.select(channel = \"[HB]H?\")\n",
    "s.filter(type='bandpass',freqmin=4,freqmax=15)\n",
    "trim_s = s.copy().trim(starttime = UTCDateTime(pick_time[4]) - 10, endtime = UTCDateTime(pick_time[4]) + 50)\n",
    "sdata = np.array(trim_s)[:,:]\n",
    "sdata_norm = (sdata - np.mean(sdata, axis=1, keepdims=True))/(np.std(sdata, axis=1, keepdims=True))\n",
    "\n",
    "for ii in range(len(sdata)):\n",
    "    offsets1  = np.arange(0,len(sdata))\n",
    "    plt.plot(sdata_norm.T+offsets1[ii], color = 'gray', alpha=0.5, lw=0.5)"
   ]
  },
  {
   "cell_type": "code",
   "execution_count": null,
   "id": "e6b0cb7a",
   "metadata": {},
   "outputs": [],
   "source": [
    "plt.figure(figsize=(10,10))\n",
    "offsets2 = np.arange(0,3*len(sdata)*len(stations),3*len(sdata))\n",
    "\n",
    "for i in range(len(stations)):\n",
    "    s = client_waveforms.get_waveforms(network=\"7D\", station=stations['id'][i], channel=\"?H?\", year=2012, month=10, day=14)\n",
    "    s = s.select(channel = \"[HB]H?\")\n",
    "    s.filter(type='bandpass',freqmin=4,freqmax=15)\n",
    "    trim_s = s.copy().trim(starttime = UTCDateTime(pick_time[4]) - 10, endtime = UTCDateTime(pick_time[4]) + 50)\n",
    "    sdata = np.array(trim_s)[:,:]\n",
    "    sdata_norm = (sdata - np.mean(sdata, axis=1, keepdims=True))/(np.std(sdata, axis=1, keepdims=True))\n",
    "\n",
    "    for ii in range(len(sdata)):\n",
    "        offsets1  = np.arange(0,len(sdata))\n",
    "        plt.plot(sdata_norm.T+offsets1[ii]+offsets2[i], color = 'gray', alpha=0.5, lw=0.5)    \n",
    "\n",
    "plt.axvline(10*sampling_rate,ls='-', c='r')\n"
   ]
  },
  {
   "cell_type": "code",
   "execution_count": null,
   "id": "19c686e5",
   "metadata": {},
   "outputs": [],
   "source": [
    "offsets2 = np.arange(0,3*len(sdata)*len(stations),3*len(sdata))\n",
    "offsets2"
   ]
  },
  {
   "cell_type": "code",
   "execution_count": null,
   "id": "e7018b5d",
   "metadata": {},
   "outputs": [],
   "source": [
    "np.mean(sdata, axis=1, keepdims=True)"
   ]
  },
  {
   "cell_type": "code",
   "execution_count": null,
   "id": "0e2ae66a",
   "metadata": {},
   "outputs": [],
   "source": [
    "sdata"
   ]
  },
  {
   "cell_type": "code",
   "execution_count": null,
   "id": "ae3a3c94",
   "metadata": {
    "scrolled": true
   },
   "outputs": [],
   "source": [
    "np.mean(sdata[0])"
   ]
  },
  {
   "cell_type": "code",
   "execution_count": null,
   "id": "21ad1bd4",
   "metadata": {},
   "outputs": [],
   "source": [
    "(sdata - np.mean(sdata, axis=1, keepdims=True))/(np.std(sdata, axis=1, keepdims=True))"
   ]
  },
  {
   "cell_type": "code",
   "execution_count": null,
   "id": "d22e3aa6",
   "metadata": {},
   "outputs": [],
   "source": [
    "(225.73644077-0.28159811)/20312.08876045"
   ]
  },
  {
   "cell_type": "code",
   "execution_count": null,
   "id": "195cbc12",
   "metadata": {},
   "outputs": [],
   "source": [
    "np.std(sdata, axis=1, keepdims=True) "
   ]
  },
  {
   "cell_type": "code",
   "execution_count": null,
   "id": "5d683445",
   "metadata": {},
   "outputs": [],
   "source": [
    "sdata"
   ]
  },
  {
   "cell_type": "code",
   "execution_count": null,
   "id": "52abdd98",
   "metadata": {},
   "outputs": [],
   "source": [
    "np.max(sdata, axis=1, keepdims=True)"
   ]
  },
  {
   "cell_type": "code",
   "execution_count": null,
   "id": "5300ce85",
   "metadata": {},
   "outputs": [],
   "source": [
    "np.min(sdata, axis=1, keepdims=True)"
   ]
  },
  {
   "cell_type": "code",
   "execution_count": null,
   "id": "2fd831f7",
   "metadata": {},
   "outputs": [],
   "source": [
    "(sdata-np.min(sdata, axis=1, keepdims=True))/(np.max(sdata, axis=1, keepdims=True)-np.min(sdata, axis=1, keepdims=True))"
   ]
  },
  {
   "cell_type": "code",
   "execution_count": null,
   "id": "ab06af2b",
   "metadata": {},
   "outputs": [],
   "source": [
    "plt.figure(figsize=(10,10))\n",
    "offsets2 = np.arange(0,3*len(sdata)*len(stations),3*len(sdata))\n",
    "\n",
    "for i in range(len(stations)):\n",
    "    s = client_waveforms.get_waveforms(network=\"7D\", station=stations['id'][i], channel=\"?H?\", year=2012, month=10, day=14)\n",
    "    s = s.select(channel = \"[HB]H?\")\n",
    "    s.filter(type='bandpass',freqmin=4,freqmax=15)\n",
    "    trim_s = s.copy().trim(starttime = UTCDateTime(pick_time[4]) - 10, endtime = UTCDateTime(pick_time[4]) + 50)\n",
    "    sdata = np.array(trim_s)[:,:]\n",
    "    if s[0].stats.channel == 'HH1':\n",
    "        new_rate = 50\n",
    "        number_of_samples = round(len(sdata[0]) * float(new_rate) /s[0].stats.sampling_rate)\n",
    "        sdata = signal.resample(sdata, number_of_samples, axis=-1)\n",
    "    else:\n",
    "        pass \n",
    "    print(len(sdata[-1]))\n",
    "    sdata_norm = (sdata-np.min(sdata, axis=1, keepdims=True))/(np.max(sdata, axis=1, keepdims=True)-np.min(sdata, axis=1, keepdims=True))\n",
    "    for ii in range(len(sdata)):\n",
    "        offsets1  = np.arange(0,len(sdata))\n",
    "        plt.plot(sdata_norm.T+offsets1[ii]+offsets2[i], color = 'gray', alpha=0.5, lw=0.5)    \n",
    "\n",
    "plt.axvline(10*sampling_rate,ls='-', c='r')\n",
    "# plt.xlim(0,3000)\n"
   ]
  },
  {
   "cell_type": "code",
   "execution_count": null,
   "id": "af90cc14",
   "metadata": {},
   "outputs": [],
   "source": [
    "s = client_waveforms.get_waveforms(network=\"7D\", station=stations['id'][3], channel=\"?H?\", year=2012, month=10, day=14)\n",
    "s = s.select(channel = \"[HB]H?\")\n",
    "s.filter(type='bandpass',freqmin=4,freqmax=15)\n",
    "trim_s = s.copy().trim(starttime = UTCDateTime(pick_time[4]) - 10, endtime = UTCDateTime(pick_time[4]) + 50)\n",
    "sdata = np.array(trim_s)[:,:]\n",
    "sdata_norm = (sdata-np.min(sdata, axis=1, keepdims=True))/(np.max(sdata, axis=1, keepdims=True)-np.min(sdata, axis=1, keepdims=True))"
   ]
  },
  {
   "cell_type": "code",
   "execution_count": null,
   "id": "bb688b1e",
   "metadata": {},
   "outputs": [],
   "source": [
    "UTCDateTime(pick_time[4]) - 10"
   ]
  },
  {
   "cell_type": "code",
   "execution_count": null,
   "id": "c2c7c95c",
   "metadata": {},
   "outputs": [],
   "source": [
    "UTCDateTime(pick_time[4]) + 50"
   ]
  },
  {
   "cell_type": "code",
   "execution_count": null,
   "id": "34d6a893",
   "metadata": {},
   "outputs": [],
   "source": [
    "s[0].stats.sampling_rate"
   ]
  },
  {
   "cell_type": "code",
   "execution_count": null,
   "id": "9d907651",
   "metadata": {},
   "outputs": [],
   "source": [
    "s[0].stats.channel"
   ]
  },
  {
   "cell_type": "code",
   "execution_count": null,
   "id": "535ee984",
   "metadata": {},
   "outputs": [],
   "source": [
    "len(s[-1])"
   ]
  },
  {
   "cell_type": "code",
   "execution_count": null,
   "id": "b168bade",
   "metadata": {},
   "outputs": [],
   "source": [
    "s[0].stats.sampling_rate"
   ]
  },
  {
   "cell_type": "code",
   "execution_count": null,
   "id": "a83dc622",
   "metadata": {},
   "outputs": [],
   "source": [
    "s[0].stats.channel"
   ]
  },
  {
   "cell_type": "code",
   "execution_count": null,
   "id": "1d572a67",
   "metadata": {},
   "outputs": [],
   "source": [
    "len(s[-1])"
   ]
  },
  {
   "cell_type": "code",
   "execution_count": null,
   "id": "7e7f277e",
   "metadata": {},
   "outputs": [],
   "source": [
    "s = signal.decimate(s, 125/50, axis=-1)"
   ]
  },
  {
   "cell_type": "code",
   "execution_count": null,
   "id": "63d03af5",
   "metadata": {},
   "outputs": [],
   "source": [
    "np.array(s)"
   ]
  },
  {
   "cell_type": "code",
   "execution_count": null,
   "id": "a13c4a5b",
   "metadata": {},
   "outputs": [],
   "source": [
    "int(125/50)"
   ]
  },
  {
   "cell_type": "code",
   "execution_count": null,
   "id": "f395161d",
   "metadata": {},
   "outputs": [],
   "source": [
    "new_rate = 50\n",
    "number_of_samples = round(len(s[0]) * float(new_rate) / 125)\n",
    "number_of_samples"
   ]
  },
  {
   "cell_type": "code",
   "execution_count": null,
   "id": "f6af4263",
   "metadata": {},
   "outputs": [],
   "source": [
    "s = signal.resample(s, number_of_samples, axis=-1)\n",
    "len(s[-1])"
   ]
  },
  {
   "cell_type": "code",
   "execution_count": null,
   "id": "cabd13f2",
   "metadata": {},
   "outputs": [],
   "source": [
    "s"
   ]
  },
  {
   "cell_type": "code",
   "execution_count": null,
   "id": "5956c34a",
   "metadata": {},
   "outputs": [],
   "source": [
    "s = client_waveforms.get_waveforms(network=\"7D\", station=stations['id'][3], channel=\"?H?\", year=2012, month=10, day=14)\n",
    "s = s.select(channel = \"[HB]H?\")\n",
    "s.filter(type='bandpass',freqmin=4,freqmax=15)\n",
    "trim_s = s.copy().trim(starttime = UTCDateTime(pick_time[4]) - 10, endtime = UTCDateTime(pick_time[4]) + 50)\n",
    "sdata = np.array(trim_s)[:,:]\n",
    "print(len(sdata[-1]))\n",
    "\n",
    "new_rate = 50\n",
    "number_of_samples = round(len(sdata[0]) * float(new_rate) /s[0].stats.sampling_rate)\n",
    "sdata = signal.resample(sdata, number_of_samples, axis=-1)\n",
    "print(len(sdata[-1]))"
   ]
  },
  {
   "cell_type": "code",
   "execution_count": null,
   "id": "0d085d1e",
   "metadata": {},
   "outputs": [],
   "source": [
    "trim_s[0].times(reftime=UTCDateTime(pick_time[4]) - 10)"
   ]
  },
  {
   "cell_type": "code",
   "execution_count": null,
   "id": "97840d66",
   "metadata": {},
   "outputs": [],
   "source": [
    "UTCDateTime(pick_time[4])"
   ]
  },
  {
   "cell_type": "code",
   "execution_count": null,
   "id": "831d72ec",
   "metadata": {},
   "outputs": [],
   "source": [
    "trim_s.trigger('recstalta',sta=1, lta=4)"
   ]
  },
  {
   "cell_type": "code",
   "execution_count": null,
   "id": "0ef2ff26",
   "metadata": {},
   "outputs": [],
   "source": [
    "trim_s.plot()"
   ]
  },
  {
   "cell_type": "code",
   "execution_count": null,
   "id": "b6d72b35",
   "metadata": {},
   "outputs": [],
   "source": [
    "plt.figure(figsize=(10,10))\n",
    "offsets2 = np.arange(0,3*len(sdata)*len(stations),3*len(sdata))\n",
    "\n",
    "for i in range(len(stations)):\n",
    "    s = client_waveforms.get_waveforms(network=\"7D\", station=stations['id'][i], channel=\"?H?\", year=2012, month=10, day=14)\n",
    "    s = s.select(channel = \"[HB]H?\")\n",
    "    s.filter(type='bandpass',freqmin=4,freqmax=15)\n",
    "    if s[0].stats.channel == 'HH1':\n",
    "        s = s.resample(50)\n",
    "    else:\n",
    "        pass \n",
    "    \n",
    "    trim_s = s.copy().trim(starttime = UTCDateTime(pick_time[4]) - 10, endtime = UTCDateTime(pick_time[4]) + 50)\n",
    "    sdata = np.array(trim_s)[:,:]\n",
    "    sdata_norm = (sdata-np.min(sdata, axis=1, keepdims=True))/(np.max(sdata, axis=1, keepdims=True)-np.min(sdata, axis=1, keepdims=True))\n",
    "    \n",
    "    for ii in range(len(sdata)):\n",
    "        offsets1  = np.arange(0,len(sdata))\n",
    "        plt.plot(trim_s[ii].times(type='utcdatetime'), sdata_norm[ii]+offsets1[ii]+offsets2[i], color = 'gray', alpha=0.7, lw=0.5)    \n",
    "    \n",
    "\n",
    "plt.yticks(offsets2+1, stations['id'])\n",
    "plt.axvline(pick_time[4],ls='-', c='r')\n",
    "plt.title(pick_time[4])\n",
    "\n",
    "# plt.xlim(0,3000)\n"
   ]
  },
  {
   "cell_type": "code",
   "execution_count": null,
   "id": "008cc67e",
   "metadata": {},
   "outputs": [],
   "source": []
  },
  {
   "cell_type": "code",
   "execution_count": null,
   "id": "54291c17",
   "metadata": {},
   "outputs": [],
   "source": [
    "np.arange(0,3*len(sdata)*len(stations),3*len(sdata))"
   ]
  },
  {
   "cell_type": "code",
   "execution_count": null,
   "id": "4424bc02",
   "metadata": {},
   "outputs": [],
   "source": [
    "stations['id']"
   ]
  },
  {
   "cell_type": "code",
   "execution_count": null,
   "id": "1d2f0ca4",
   "metadata": {},
   "outputs": [],
   "source": [
    "all_picks, all_detections = model.classify(sdata)"
   ]
  },
  {
   "cell_type": "code",
   "execution_count": null,
   "id": "4fa17a55",
   "metadata": {},
   "outputs": [],
   "source": [
    "picks_G25B =  pd.read_csv(\"~/notebooks/data/catalogs_elep_filtered_stations_20121001_to_20121031/G25B_20121014.csv\",index_col=0)\n",
    "picks_G25B"
   ]
  },
  {
   "cell_type": "code",
   "execution_count": null,
   "id": "2acfad2f",
   "metadata": {},
   "outputs": [],
   "source": [
    "pick_time[4]"
   ]
  },
  {
   "cell_type": "markdown",
   "id": "138c8708",
   "metadata": {},
   "source": [
    "## Plot the associated events on a map"
   ]
  },
  {
   "cell_type": "code",
   "execution_count": null,
   "id": "cb9e1552",
   "metadata": {},
   "outputs": [],
   "source": [
    "import pygmt\n",
    "\n",
    "fig = pygmt.Figure()\n",
    "grid = pygmt.datasets.load_earth_relief(resolution=\"15s\", region=[-126, -124, 40, 43])\n",
    "# fig.shift_origin(yshift=\"10c\")\n",
    "fig.grdimage(grid=grid, projection=\"M15c\", frame=\"a\", cmap=\"geo\", transparency = 50)\n",
    "fig.plot(x = events_morton_lon, y = events_morton_lat,  \n",
    "         color = 'blue', size = size_morton, style = \"c\", pen = \"black\")\n",
    "fig.plot(x = events_longitude, y = events_latitude,  \n",
    "         color = 'red', size = size, style = \"c\", pen = \"black\")\n",
    "fig.plot(x = events_jdf_lon, y = events_jdf_lat,  \n",
    "         color = 'yellow', size = size_jdf, style = \"c\", pen = \"black\")\n",
    "fig.plot(x = events_cascadia_lon, y = events_cascadia_lat,  \n",
    "         color = 'yellow', size = size_cascadia, style = \"c\", pen = \"black\")\n",
    "# # Draw a line between two events that we consider to be the same event \n",
    "# fig.plot(x = [, y = events_cascadia_lat,  \n",
    "#          color = 'yellow', size = size_cascadia, style = \"c\", pen = \"black\")\n",
    "\n",
    "fig.show()"
   ]
  },
  {
   "cell_type": "code",
   "execution_count": null,
   "id": "7ac735d6",
   "metadata": {},
   "outputs": [],
   "source": [
    "events_longitude = events['longitude']\n",
    "events_longitude"
   ]
  },
  {
   "cell_type": "code",
   "execution_count": null,
   "id": "858fa46e",
   "metadata": {},
   "outputs": [],
   "source": [
    "events_latitude = events['latitude']\n",
    "events_latitude "
   ]
  },
  {
   "cell_type": "code",
   "execution_count": null,
   "id": "b9552623",
   "metadata": {},
   "outputs": [],
   "source": [
    "# Assign the size of 0.5 to all the points for the associated events \n",
    "\n",
    "size = np.zeros(len(events))\n",
    "for i in range(len(events)):\n",
    "    size[i] = 0.2"
   ]
  },
  {
   "cell_type": "code",
   "execution_count": null,
   "id": "06a70bd2",
   "metadata": {},
   "outputs": [],
   "source": [
    "size_jdf = np.zeros(len(events_jdf))\n",
    "for i in range(len(events_jdf)):\n",
    "    size_jdf[i] = 0.2"
   ]
  },
  {
   "cell_type": "code",
   "execution_count": null,
   "id": "bb70da38",
   "metadata": {},
   "outputs": [],
   "source": [
    "size_cascadia = np.zeros(len(events_cascadia))\n",
    "for i in range(len(events_cascadia)):\n",
    "    size_cascadia[i] = 0.2"
   ]
  },
  {
   "cell_type": "code",
   "execution_count": null,
   "id": "ce8e9541",
   "metadata": {},
   "outputs": [],
   "source": [
    "size_morton = np.zeros(len(events_morton))\n",
    "for i in range(len(events_morton)):\n",
    "    size_morton[i] = 0.2"
   ]
  },
  {
   "cell_type": "code",
   "execution_count": null,
   "id": "73d6a339",
   "metadata": {},
   "outputs": [],
   "source": [
    "len(size_cascadia)"
   ]
  },
  {
   "cell_type": "code",
   "execution_count": null,
   "id": "f2cc6940",
   "metadata": {},
   "outputs": [],
   "source": [
    "size"
   ]
  },
  {
   "cell_type": "code",
   "execution_count": null,
   "id": "e0d2ffb4",
   "metadata": {},
   "outputs": [],
   "source": [
    "events"
   ]
  },
  {
   "cell_type": "code",
   "execution_count": null,
   "id": "6e9ad89c",
   "metadata": {},
   "outputs": [],
   "source": [
    "type(events_latitude.shape)"
   ]
  },
  {
   "cell_type": "code",
   "execution_count": null,
   "id": "c9010046",
   "metadata": {},
   "outputs": [],
   "source": [
    "events_longitude.shape"
   ]
  },
  {
   "cell_type": "markdown",
   "id": "d47ceff7",
   "metadata": {},
   "source": [
    "## Load Data from Ian Stone's Paper"
   ]
  },
  {
   "cell_type": "code",
   "execution_count": null,
   "id": "3d24aafa",
   "metadata": {},
   "outputs": [],
   "source": [
    "events_cascadia = pd.read_csv('jgrb52524-sup-0002-2017jb014966-ds01.csv')\n",
    "events_jdf = pd.read_csv('jgrb52524-sup-0003-2017jb014966-ds02.csv')"
   ]
  },
  {
   "cell_type": "code",
   "execution_count": null,
   "id": "23f40e99",
   "metadata": {},
   "outputs": [],
   "source": [
    "events_cascadia[0:5]"
   ]
  },
  {
   "cell_type": "code",
   "execution_count": null,
   "id": "f8c8b46e",
   "metadata": {},
   "outputs": [],
   "source": [
    "events_jdf[0:5]"
   ]
  },
  {
   "cell_type": "code",
   "execution_count": null,
   "id": "49bab0b3",
   "metadata": {},
   "outputs": [],
   "source": [
    "# Get the latitude and longitude from Stone's catalog for JDF\n",
    "events_jdf_lon = events_jdf['Longitude']\n",
    "events_jdf_lat = events_jdf['Latitude']\n",
    "events_jdf_lat"
   ]
  },
  {
   "cell_type": "code",
   "execution_count": null,
   "id": "0436e3f9",
   "metadata": {},
   "outputs": [],
   "source": [
    "# Get the latitude and longitude from Stone's catalog for Cascadia\n",
    "events_cascadia_lon = events_cascadia['Longitude']\n",
    "events_cascadia_lat = events_cascadia['Latitude']\n",
    "events_cascadia_lon"
   ]
  },
  {
   "cell_type": "code",
   "execution_count": null,
   "id": "7de12c8c",
   "metadata": {},
   "outputs": [],
   "source": [
    "df.loc[df['datetime'] > datetime.datetime(2012, 10,12)]"
   ]
  },
  {
   "cell_type": "code",
   "execution_count": null,
   "id": "29143368",
   "metadata": {},
   "outputs": [],
   "source": [
    "df = pd.read_excel(\"jgrb52524-sup-0003-2017jb014966-ds02.xls\", header = None, skiprows = 1,\n",
    "              names = [\"Timestamp\", \"Longitude\", \"Latitude\", \"Depth (km)\", \"RMS (s)\", \"CI Year\"])\n",
    "\n",
    "df['datetime'] = df.apply(lambda a: datetime.datetime.fromtimestamp(a['Timestamp']), axis = 1)\n",
    "df"
   ]
  },
  {
   "cell_type": "markdown",
   "id": "c57cc902",
   "metadata": {},
   "source": [
    "- No events to match up with our associated events in the ds01 catalog from Stone's paper.\n",
    "- No events to match up with our associated events in the ds02 catalog from Stone's paper."
   ]
  },
  {
   "cell_type": "markdown",
   "id": "cc1e1829",
   "metadata": {},
   "source": [
    "## Load Data from Morton's Paper"
   ]
  },
  {
   "cell_type": "code",
   "execution_count": null,
   "id": "a905d172",
   "metadata": {},
   "outputs": [],
   "source": [
    "# Read Morton's catalog\n",
    "events_morton = pd.read_csv('ds01.csv')"
   ]
  },
  {
   "cell_type": "code",
   "execution_count": null,
   "id": "95bf9a45",
   "metadata": {},
   "outputs": [],
   "source": [
    "# Get the latitudes and longitudes for the events \n",
    "events_morton_lon = events_morton['LON']\n",
    "events_morton_lat = events_morton['LAT']"
   ]
  },
  {
   "cell_type": "code",
   "execution_count": null,
   "id": "bc0029d9",
   "metadata": {},
   "outputs": [],
   "source": [
    "events_morton_lat[0:5]"
   ]
  },
  {
   "cell_type": "code",
   "execution_count": null,
   "id": "5bec961d",
   "metadata": {},
   "outputs": [],
   "source": [
    "events_morton_lon[0:5]"
   ]
  },
  {
   "cell_type": "code",
   "execution_count": null,
   "id": "6cd524ee",
   "metadata": {},
   "outputs": [],
   "source": [
    "len(events_morton_lat)"
   ]
  },
  {
   "cell_type": "code",
   "execution_count": null,
   "id": "15f73a0b",
   "metadata": {},
   "outputs": [],
   "source": [
    "# Pull out the events for Oct 14, 2012 from the ds01 catalog from Morton's paper\n",
    "events_morton[671:674]"
   ]
  },
  {
   "cell_type": "code",
   "execution_count": null,
   "id": "4a2f5ce0",
   "metadata": {},
   "outputs": [],
   "source": [
    "events_morton.loc[673]"
   ]
  },
  {
   "cell_type": "code",
   "execution_count": null,
   "id": "2bba3343",
   "metadata": {},
   "outputs": [],
   "source": [
    "# Get the latitude and longitude for the event at 2:39 \n",
    "event_morton_0229_lat = events_morton.loc[671, 'LAT']\n",
    "event_morton_0229_lon = events_morton.loc[671, 'LON']"
   ]
  },
  {
   "cell_type": "code",
   "execution_count": null,
   "id": "5f5eb8ba",
   "metadata": {},
   "outputs": [],
   "source": [
    "# Get the latitude and longitude for the event at 3:08\n",
    "event_morton_0308_lat = events_morton.loc[672, 'LAT']\n",
    "event_morton_0308_lon = events_morton.loc[672, 'LON']"
   ]
  },
  {
   "cell_type": "code",
   "execution_count": null,
   "id": "7764f193",
   "metadata": {},
   "outputs": [],
   "source": [
    "events"
   ]
  },
  {
   "cell_type": "code",
   "execution_count": null,
   "id": "4d10cba4",
   "metadata": {},
   "outputs": [],
   "source": [
    "\n",
    "event_0229_lat = events.loc[1, 'latitude']\n",
    "event_0229_lon = events.loc[1, 'longitude']"
   ]
  },
  {
   "cell_type": "code",
   "execution_count": null,
   "id": "716074c3",
   "metadata": {},
   "outputs": [],
   "source": [
    "event_0308_lat = events.loc[2, 'latitude']\n",
    "event_0308_lon = events.loc[2, 'longitude']"
   ]
  },
  {
   "cell_type": "markdown",
   "id": "819f07f9",
   "metadata": {},
   "source": [
    "## Load data from the USGS catalog"
   ]
  },
  {
   "cell_type": "code",
   "execution_count": null,
   "id": "a9df3c08",
   "metadata": {},
   "outputs": [],
   "source": [
    "client = Client(\"USGS\")\n",
    "client_waveforms = WaveformClient()\n",
    "events_USGS = client.get_events(starttime = UTCDateTime(\"2012-10-14T00:00:00.000000\"),\n",
    "                  endtime   = UTCDateTime(\"2012-10-14T23:59:59.999999\"),\n",
    "                  minlatitude = 40, maxlatitude = 44, \n",
    "                  minlongitude = -125, maxlongitude = -120)\n",
    "events_USGS"
   ]
  },
  {
   "cell_type": "code",
   "execution_count": null,
   "id": "2983cc27",
   "metadata": {},
   "outputs": [],
   "source": [
    "event_USGS_0229_lat = 40.301\n",
    "event_USGS_0229_lon = -124.416"
   ]
  },
  {
   "cell_type": "code",
   "execution_count": null,
   "id": "56cffc5a",
   "metadata": {},
   "outputs": [],
   "source": [
    "event_USGS_0308_lat = 40.721\n",
    "event_USGS_0308_lon = -124.210"
   ]
  },
  {
   "cell_type": "code",
   "execution_count": null,
   "id": "ea7191b9",
   "metadata": {},
   "outputs": [],
   "source": []
  },
  {
   "cell_type": "code",
   "execution_count": null,
   "id": "ec07dfa5",
   "metadata": {},
   "outputs": [],
   "source": []
  },
  {
   "cell_type": "code",
   "execution_count": null,
   "id": "c0045919",
   "metadata": {},
   "outputs": [],
   "source": []
  },
  {
   "cell_type": "code",
   "execution_count": null,
   "id": "396ec7ac",
   "metadata": {},
   "outputs": [],
   "source": []
  },
  {
   "cell_type": "markdown",
   "id": "efd77ec8",
   "metadata": {},
   "source": [
    "# Plot the line between the matched events"
   ]
  },
  {
   "cell_type": "code",
   "execution_count": null,
   "id": "2520f161",
   "metadata": {},
   "outputs": [],
   "source": [
    "import pygmt\n",
    "\n",
    "fig = pygmt.Figure()\n",
    "grid = pygmt.datasets.load_earth_relief(resolution=\"15s\", region=[-126, -124, 40, 43])\n",
    "# fig.shift_origin(yshift=\"10c\")\n",
    "fig.basemap(frame=[\"a\",'+tThe Associated Events with Previously Cataloged Events',\"WSne\", \"xaf+lx-axis\", \"yaf+ly-axis\"])\n",
    "fig.grdimage(grid=grid, projection=\"M15c\", frame='a', cmap=\"geo\", transparency = 50)\n",
    "# Plot Morton's catalog\n",
    "fig.plot(x = events_morton_lon, y = events_morton_lat,  \n",
    "         color = 'blue', size = size_morton, style = \"c\", pen = \"black\", label='Morton 2023')\n",
    "# Plot our association events\n",
    "fig.plot(x = events_longitude, y = events_latitude,  \n",
    "         color = 'red', size = size, style = \"c\", pen = \"black\", label='Associated Events')\n",
    "# Plot Stone's catalog for JDF\n",
    "fig.plot(x = events_jdf_lon, y = events_jdf_lat,  \n",
    "         color = 'yellow', size = size_jdf, style = \"c\", pen = \"black\", label='Stone et al, 2018')\n",
    "# Plot Stone's catalog for Cascadia\n",
    "fig.plot(x = events_cascadia_lon, y = events_cascadia_lat,  \n",
    "         color = 'yellow', size = size_cascadia, style = \"c\", pen = \"black\",label='Stone et al, 2018')\n",
    "# Draw a line between two events that we consider to be the same event \n",
    "fig.plot(x = (event_0229_lon,event_morton_0229_lon,event_USGS_0229_lon), y = (event_0229_lat,event_morton_0229_lat,event_USGS_0229_lat), pen =\"4p, green\")\n",
    "fig.plot(x = (event_0308_lon,event_morton_0308_lon,event_USGS_0308_lon), y = (event_0308_lat,event_morton_0308_lat,event_USGS_0308_lat), pen =\"4p, green\")\n",
    "\n",
    "# fig.plot(x = [42.5,42.5,42.5], y = [-125.5,-125,-124.5],  \n",
    "#          color = ['red','yellow','blue'], size = [1,1,1], style = \"c\", pen =\"black\")\n",
    "fig.legend()\n",
    "fig.show()"
   ]
  },
  {
   "cell_type": "code",
   "execution_count": null,
   "id": "ba6d0a8d",
   "metadata": {},
   "outputs": [],
   "source": [
    "event_0229_lon"
   ]
  },
  {
   "cell_type": "code",
   "execution_count": null,
   "id": "5871b376",
   "metadata": {},
   "outputs": [],
   "source": [
    "event_0229_lat"
   ]
  },
  {
   "cell_type": "code",
   "execution_count": null,
   "id": "a7e19369",
   "metadata": {},
   "outputs": [],
   "source": []
  }
 ],
 "metadata": {
  "kernelspec": {
   "display_name": "seismo (SHARED)",
   "language": "python",
   "name": "seismo"
  },
  "language_info": {
   "codemirror_mode": {
    "name": "ipython",
    "version": 3
   },
   "file_extension": ".py",
   "mimetype": "text/x-python",
   "name": "python",
   "nbconvert_exporter": "python",
   "pygments_lexer": "ipython3",
   "version": "3.9.18"
  }
 },
 "nbformat": 4,
 "nbformat_minor": 5
}
