{
 "cells": [
  {
   "cell_type": "markdown",
   "id": "192aef88",
   "metadata": {},
   "source": [
    "## Try phase association for stations for 2012\n",
    "Refernce: https://github.com/yetinam/pyocto"
   ]
  },
  {
   "cell_type": "code",
   "execution_count": 1,
   "id": "45e0b4d8",
   "metadata": {},
   "outputs": [],
   "source": [
    "# !pip3 install numpy\n",
    "# !pip3 install pyrocko"
   ]
  },
  {
   "cell_type": "code",
   "execution_count": 1,
   "id": "91c28442",
   "metadata": {},
   "outputs": [],
   "source": [
    "import pyocto\n",
    "import pandas as pd\n",
    "import datetime\n",
    "import matplotlib.pyplot as plt\n",
    "from collections import Counter\n",
    "import numpy as np\n",
    "from scipy import signal\n",
    "from obspy.signal.trigger import classic_sta_lta\n",
    "import pygmt\n",
    "\n",
    "from obspy.clients.fdsn import Client\n",
    "from obspy.core.utcdatetime import UTCDateTime\n",
    "from pnwstore.mseed import WaveformClient\n"
   ]
  },
  {
   "cell_type": "code",
   "execution_count": 2,
   "id": "6e59a463",
   "metadata": {},
   "outputs": [],
   "source": [
    "# Import the velocity model from https://colab.research.google.com/github/yetinam/pyocto/blob/main/examples/02_velocity_models.ipynb#scrollTo=1c52ed9e-d9c1-4fa6-a549-de702bc9d439\n",
    "# !wget https://github.com/yetinam/pyocto/raw/main/tests/data/graeber.csv"
   ]
  },
  {
   "cell_type": "markdown",
   "id": "d79f475f",
   "metadata": {},
   "source": [
    "## Input Data"
   ]
  },
  {
   "cell_type": "code",
   "execution_count": 3,
   "id": "dc050e11",
   "metadata": {},
   "outputs": [],
   "source": [
    "region = \"swa_shore\"\n",
    "picks = pd.read_csv(f\"../data/datasets_{region}/picks_{region}.csv\",index_col=0)\n",
    "stations = pd.read_csv(f\"../data/datasets_{region}/all_stations_{region}.csv\",index_col=0)"
   ]
  },
  {
   "cell_type": "code",
   "execution_count": 4,
   "id": "d0f638dd",
   "metadata": {},
   "outputs": [
    {
     "data": {
      "text/html": [
       "<div>\n",
       "<style scoped>\n",
       "    .dataframe tbody tr th:only-of-type {\n",
       "        vertical-align: middle;\n",
       "    }\n",
       "\n",
       "    .dataframe tbody tr th {\n",
       "        vertical-align: top;\n",
       "    }\n",
       "\n",
       "    .dataframe thead th {\n",
       "        text-align: right;\n",
       "    }\n",
       "</style>\n",
       "<table border=\"1\" class=\"dataframe\">\n",
       "  <thead>\n",
       "    <tr style=\"text-align: right;\">\n",
       "      <th></th>\n",
       "      <th>station</th>\n",
       "      <th>phase</th>\n",
       "      <th>time</th>\n",
       "      <th>pick_id</th>\n",
       "    </tr>\n",
       "  </thead>\n",
       "  <tbody>\n",
       "    <tr>\n",
       "      <th>0</th>\n",
       "      <td>UW.MEGW.</td>\n",
       "      <td>P</td>\n",
       "      <td>2011-01-01T05:20:58.886000Z</td>\n",
       "      <td>1177</td>\n",
       "    </tr>\n",
       "    <tr>\n",
       "      <th>1</th>\n",
       "      <td>UW.MEGW.</td>\n",
       "      <td>P</td>\n",
       "      <td>2011-01-01T04:45:17.006000Z</td>\n",
       "      <td>1178</td>\n",
       "    </tr>\n",
       "    <tr>\n",
       "      <th>2</th>\n",
       "      <td>UW.MEGW.</td>\n",
       "      <td>P</td>\n",
       "      <td>2011-01-01T03:41:28.386000Z</td>\n",
       "      <td>1179</td>\n",
       "    </tr>\n",
       "    <tr>\n",
       "      <th>3</th>\n",
       "      <td>UW.MEGW.</td>\n",
       "      <td>P</td>\n",
       "      <td>2011-01-01T02:51:12.066000Z</td>\n",
       "      <td>1180</td>\n",
       "    </tr>\n",
       "    <tr>\n",
       "      <th>4</th>\n",
       "      <td>UW.MEGW.</td>\n",
       "      <td>P</td>\n",
       "      <td>2011-01-01T02:39:27.066000Z</td>\n",
       "      <td>1181</td>\n",
       "    </tr>\n",
       "    <tr>\n",
       "      <th>...</th>\n",
       "      <td>...</td>\n",
       "      <td>...</td>\n",
       "      <td>...</td>\n",
       "      <td>...</td>\n",
       "    </tr>\n",
       "    <tr>\n",
       "      <th>2697986</th>\n",
       "      <td>7D.J49C.</td>\n",
       "      <td>S</td>\n",
       "      <td>2014-06-29T01:46:27.662600Z</td>\n",
       "      <td>15659146</td>\n",
       "    </tr>\n",
       "    <tr>\n",
       "      <th>2697987</th>\n",
       "      <td>7D.J49C.</td>\n",
       "      <td>S</td>\n",
       "      <td>2014-06-29T01:41:21.198600Z</td>\n",
       "      <td>15659147</td>\n",
       "    </tr>\n",
       "    <tr>\n",
       "      <th>2697988</th>\n",
       "      <td>7D.J49C.</td>\n",
       "      <td>S</td>\n",
       "      <td>2014-06-29T01:41:04.478600Z</td>\n",
       "      <td>15659148</td>\n",
       "    </tr>\n",
       "    <tr>\n",
       "      <th>2697989</th>\n",
       "      <td>7D.J49C.</td>\n",
       "      <td>S</td>\n",
       "      <td>2014-06-29T01:35:34.526600Z</td>\n",
       "      <td>15659149</td>\n",
       "    </tr>\n",
       "    <tr>\n",
       "      <th>2697990</th>\n",
       "      <td>7D.J49C.</td>\n",
       "      <td>S</td>\n",
       "      <td>2014-06-29T02:45:37.782600Z</td>\n",
       "      <td>15659150</td>\n",
       "    </tr>\n",
       "  </tbody>\n",
       "</table>\n",
       "<p>2697991 rows × 4 columns</p>\n",
       "</div>"
      ],
      "text/plain": [
       "          station phase                         time   pick_id\n",
       "0        UW.MEGW.     P  2011-01-01T05:20:58.886000Z      1177\n",
       "1        UW.MEGW.     P  2011-01-01T04:45:17.006000Z      1178\n",
       "2        UW.MEGW.     P  2011-01-01T03:41:28.386000Z      1179\n",
       "3        UW.MEGW.     P  2011-01-01T02:51:12.066000Z      1180\n",
       "4        UW.MEGW.     P  2011-01-01T02:39:27.066000Z      1181\n",
       "...           ...   ...                          ...       ...\n",
       "2697986  7D.J49C.     S  2014-06-29T01:46:27.662600Z  15659146\n",
       "2697987  7D.J49C.     S  2014-06-29T01:41:21.198600Z  15659147\n",
       "2697988  7D.J49C.     S  2014-06-29T01:41:04.478600Z  15659148\n",
       "2697989  7D.J49C.     S  2014-06-29T01:35:34.526600Z  15659149\n",
       "2697990  7D.J49C.     S  2014-06-29T02:45:37.782600Z  15659150\n",
       "\n",
       "[2697991 rows x 4 columns]"
      ]
     },
     "execution_count": 4,
     "metadata": {},
     "output_type": "execute_result"
    }
   ],
   "source": [
    "picks"
   ]
  },
  {
   "cell_type": "code",
   "execution_count": 5,
   "id": "2bb5755e",
   "metadata": {},
   "outputs": [
    {
     "data": {
      "text/html": [
       "<div>\n",
       "<style scoped>\n",
       "    .dataframe tbody tr th:only-of-type {\n",
       "        vertical-align: middle;\n",
       "    }\n",
       "\n",
       "    .dataframe tbody tr th {\n",
       "        vertical-align: top;\n",
       "    }\n",
       "\n",
       "    .dataframe thead th {\n",
       "        text-align: right;\n",
       "    }\n",
       "</style>\n",
       "<table border=\"1\" class=\"dataframe\">\n",
       "  <thead>\n",
       "    <tr style=\"text-align: right;\">\n",
       "      <th></th>\n",
       "      <th>id</th>\n",
       "      <th>longitude</th>\n",
       "      <th>latitude</th>\n",
       "      <th>elevation</th>\n",
       "    </tr>\n",
       "  </thead>\n",
       "  <tbody>\n",
       "    <tr>\n",
       "      <th>0</th>\n",
       "      <td>7D.J49A.</td>\n",
       "      <td>-124.427498</td>\n",
       "      <td>46.437801</td>\n",
       "      <td>-120.0</td>\n",
       "    </tr>\n",
       "    <tr>\n",
       "      <th>1</th>\n",
       "      <td>UW.MEGW.</td>\n",
       "      <td>-123.877090</td>\n",
       "      <td>46.266090</td>\n",
       "      <td>351.0</td>\n",
       "    </tr>\n",
       "    <tr>\n",
       "      <th>2</th>\n",
       "      <td>7D.J57A.</td>\n",
       "      <td>-124.450500</td>\n",
       "      <td>47.080101</td>\n",
       "      <td>-55.8</td>\n",
       "    </tr>\n",
       "    <tr>\n",
       "      <th>3</th>\n",
       "      <td>7D.FN01A.</td>\n",
       "      <td>-124.333702</td>\n",
       "      <td>46.882000</td>\n",
       "      <td>-54.0</td>\n",
       "    </tr>\n",
       "    <tr>\n",
       "      <th>4</th>\n",
       "      <td>7D.FN19C.</td>\n",
       "      <td>-124.366798</td>\n",
       "      <td>46.730099</td>\n",
       "      <td>-72.0</td>\n",
       "    </tr>\n",
       "    <tr>\n",
       "      <th>5</th>\n",
       "      <td>7D.J49C.</td>\n",
       "      <td>-124.427803</td>\n",
       "      <td>46.438000</td>\n",
       "      <td>-113.0</td>\n",
       "    </tr>\n",
       "    <tr>\n",
       "      <th>6</th>\n",
       "      <td>7D.FN02C.</td>\n",
       "      <td>-124.428001</td>\n",
       "      <td>46.949699</td>\n",
       "      <td>-67.0</td>\n",
       "    </tr>\n",
       "    <tr>\n",
       "      <th>7</th>\n",
       "      <td>7D.FN01C.</td>\n",
       "      <td>-124.333298</td>\n",
       "      <td>46.882301</td>\n",
       "      <td>-56.0</td>\n",
       "    </tr>\n",
       "    <tr>\n",
       "      <th>8</th>\n",
       "      <td>7D.FN05C.</td>\n",
       "      <td>-124.655602</td>\n",
       "      <td>46.857498</td>\n",
       "      <td>-123.0</td>\n",
       "    </tr>\n",
       "    <tr>\n",
       "      <th>9</th>\n",
       "      <td>7D.FN03C.</td>\n",
       "      <td>-124.525101</td>\n",
       "      <td>46.887199</td>\n",
       "      <td>-93.0</td>\n",
       "    </tr>\n",
       "    <tr>\n",
       "      <th>10</th>\n",
       "      <td>7D.J57C.</td>\n",
       "      <td>-124.450600</td>\n",
       "      <td>47.080399</td>\n",
       "      <td>-67.0</td>\n",
       "    </tr>\n",
       "    <tr>\n",
       "      <th>11</th>\n",
       "      <td>7D.FN04C.</td>\n",
       "      <td>-124.601303</td>\n",
       "      <td>46.917500</td>\n",
       "      <td>-104.0</td>\n",
       "    </tr>\n",
       "  </tbody>\n",
       "</table>\n",
       "</div>"
      ],
      "text/plain": [
       "           id   longitude   latitude  elevation\n",
       "0    7D.J49A. -124.427498  46.437801     -120.0\n",
       "1    UW.MEGW. -123.877090  46.266090      351.0\n",
       "2    7D.J57A. -124.450500  47.080101      -55.8\n",
       "3   7D.FN01A. -124.333702  46.882000      -54.0\n",
       "4   7D.FN19C. -124.366798  46.730099      -72.0\n",
       "5    7D.J49C. -124.427803  46.438000     -113.0\n",
       "6   7D.FN02C. -124.428001  46.949699      -67.0\n",
       "7   7D.FN01C. -124.333298  46.882301      -56.0\n",
       "8   7D.FN05C. -124.655602  46.857498     -123.0\n",
       "9   7D.FN03C. -124.525101  46.887199      -93.0\n",
       "10   7D.J57C. -124.450600  47.080399      -67.0\n",
       "11  7D.FN04C. -124.601303  46.917500     -104.0"
      ]
     },
     "execution_count": 5,
     "metadata": {},
     "output_type": "execute_result"
    }
   ],
   "source": [
    "stations"
   ]
  },
  {
   "cell_type": "markdown",
   "id": "a3bf75c7",
   "metadata": {},
   "source": [
    "## Create a 1D velocity model\n",
    "Not needed for now."
   ]
  },
  {
   "cell_type": "code",
   "execution_count": 6,
   "id": "b5c28f00",
   "metadata": {},
   "outputs": [],
   "source": [
    "# !wget https://github.com/yetinam/pyocto/raw/main/tests/data/graeber.csv"
   ]
  },
  {
   "cell_type": "code",
   "execution_count": 7,
   "id": "b99a8be8",
   "metadata": {},
   "outputs": [
    {
     "data": {
      "text/html": [
       "<div>\n",
       "<style scoped>\n",
       "    .dataframe tbody tr th:only-of-type {\n",
       "        vertical-align: middle;\n",
       "    }\n",
       "\n",
       "    .dataframe tbody tr th {\n",
       "        vertical-align: top;\n",
       "    }\n",
       "\n",
       "    .dataframe thead th {\n",
       "        text-align: right;\n",
       "    }\n",
       "</style>\n",
       "<table border=\"1\" class=\"dataframe\">\n",
       "  <thead>\n",
       "    <tr style=\"text-align: right;\">\n",
       "      <th></th>\n",
       "      <th>depth</th>\n",
       "      <th>vp</th>\n",
       "      <th>vp_grad</th>\n",
       "      <th>vs</th>\n",
       "      <th>vs_grad</th>\n",
       "      <th>x</th>\n",
       "      <th>y</th>\n",
       "    </tr>\n",
       "  </thead>\n",
       "  <tbody>\n",
       "    <tr>\n",
       "      <th>0</th>\n",
       "      <td>0.0</td>\n",
       "      <td>1.9</td>\n",
       "      <td>0.384615</td>\n",
       "      <td>1.096966</td>\n",
       "      <td>0.222058</td>\n",
       "      <td>1</td>\n",
       "      <td>0</td>\n",
       "    </tr>\n",
       "    <tr>\n",
       "      <th>1</th>\n",
       "      <td>1.3</td>\n",
       "      <td>2.4</td>\n",
       "      <td>0.478261</td>\n",
       "      <td>1.385641</td>\n",
       "      <td>0.276124</td>\n",
       "      <td>1</td>\n",
       "      <td>0</td>\n",
       "    </tr>\n",
       "    <tr>\n",
       "      <th>2</th>\n",
       "      <td>5.9</td>\n",
       "      <td>4.6</td>\n",
       "      <td>0.160000</td>\n",
       "      <td>2.655811</td>\n",
       "      <td>0.092376</td>\n",
       "      <td>1</td>\n",
       "      <td>0</td>\n",
       "    </tr>\n",
       "    <tr>\n",
       "      <th>3</th>\n",
       "      <td>8.4</td>\n",
       "      <td>5.0</td>\n",
       "      <td>0.312500</td>\n",
       "      <td>2.886751</td>\n",
       "      <td>0.180422</td>\n",
       "      <td>1</td>\n",
       "      <td>0</td>\n",
       "    </tr>\n",
       "    <tr>\n",
       "      <th>4</th>\n",
       "      <td>11.6</td>\n",
       "      <td>6.0</td>\n",
       "      <td>0.307692</td>\n",
       "      <td>3.464102</td>\n",
       "      <td>0.177646</td>\n",
       "      <td>1</td>\n",
       "      <td>0</td>\n",
       "    </tr>\n",
       "    <tr>\n",
       "      <th>5</th>\n",
       "      <td>12.9</td>\n",
       "      <td>6.4</td>\n",
       "      <td>0.312500</td>\n",
       "      <td>3.695042</td>\n",
       "      <td>0.180422</td>\n",
       "      <td>1</td>\n",
       "      <td>0</td>\n",
       "    </tr>\n",
       "    <tr>\n",
       "      <th>6</th>\n",
       "      <td>14.5</td>\n",
       "      <td>6.9</td>\n",
       "      <td>0.062500</td>\n",
       "      <td>3.983717</td>\n",
       "      <td>0.036084</td>\n",
       "      <td>1</td>\n",
       "      <td>0</td>\n",
       "    </tr>\n",
       "    <tr>\n",
       "      <th>7</th>\n",
       "      <td>16.1</td>\n",
       "      <td>7.0</td>\n",
       "      <td>0.625000</td>\n",
       "      <td>4.041452</td>\n",
       "      <td>0.360844</td>\n",
       "      <td>1</td>\n",
       "      <td>0</td>\n",
       "    </tr>\n",
       "    <tr>\n",
       "      <th>8</th>\n",
       "      <td>17.7</td>\n",
       "      <td>8.0</td>\n",
       "      <td>0.625000</td>\n",
       "      <td>4.618802</td>\n",
       "      <td>0.360844</td>\n",
       "      <td>1</td>\n",
       "      <td>0</td>\n",
       "    </tr>\n",
       "  </tbody>\n",
       "</table>\n",
       "</div>"
      ],
      "text/plain": [
       "   depth   vp   vp_grad        vs   vs_grad  x  y\n",
       "0    0.0  1.9  0.384615  1.096966  0.222058  1  0\n",
       "1    1.3  2.4  0.478261  1.385641  0.276124  1  0\n",
       "2    5.9  4.6  0.160000  2.655811  0.092376  1  0\n",
       "3    8.4  5.0  0.312500  2.886751  0.180422  1  0\n",
       "4   11.6  6.0  0.307692  3.464102  0.177646  1  0\n",
       "5   12.9  6.4  0.312500  3.695042  0.180422  1  0\n",
       "6   14.5  6.9  0.062500  3.983717  0.036084  1  0\n",
       "7   16.1  7.0  0.625000  4.041452  0.360844  1  0\n",
       "8   17.7  8.0  0.625000  4.618802  0.360844  1  0"
      ]
     },
     "execution_count": 7,
     "metadata": {},
     "output_type": "execute_result"
    }
   ],
   "source": [
    "layers = pd.read_csv(f\"../data/{region}.csv\")\n",
    "\n",
    "# Strip leading/trailing spaces from column names\n",
    "layers.columns = layers.columns.str.strip()\n",
    "layers"
   ]
  },
  {
   "cell_type": "code",
   "execution_count": 8,
   "id": "e492330c",
   "metadata": {},
   "outputs": [],
   "source": [
    "model_path = \"velocity_model\"\n",
    "pyocto.VelocityModel1D.create_model(layers, 1., 400, 250, model_path)"
   ]
  },
  {
   "cell_type": "code",
   "execution_count": 9,
   "id": "a9d3a14a",
   "metadata": {},
   "outputs": [],
   "source": [
    "velocity_model_1d = pyocto.VelocityModel1D(model_path, tolerance=2.0)"
   ]
  },
  {
   "cell_type": "markdown",
   "id": "0f6a5c8a",
   "metadata": {},
   "source": [
    "## The OctoAssociator class"
   ]
  },
  {
   "cell_type": "code",
   "execution_count": 10,
   "id": "c49c113f",
   "metadata": {},
   "outputs": [],
   "source": [
    "#  Define the associator parameters\n",
    "associator = pyocto.OctoAssociator.from_area(\n",
    "    lat=(38, 51),\n",
    "    lon=(-132, -119),\n",
    "    zlim=(0, 50),\n",
    "    time_before=300,\n",
    "    velocity_model=velocity_model_1d,\n",
    "    n_picks=5,\n",
    "    n_p_picks=1,\n",
    "    n_s_picks=3,\n",
    "    n_p_and_s_picks=1,\n",
    ")"
   ]
  },
  {
   "cell_type": "code",
   "execution_count": 11,
   "id": "8563e5e5",
   "metadata": {},
   "outputs": [
    {
     "data": {
      "text/html": [
       "<div>\n",
       "<style scoped>\n",
       "    .dataframe tbody tr th:only-of-type {\n",
       "        vertical-align: middle;\n",
       "    }\n",
       "\n",
       "    .dataframe tbody tr th {\n",
       "        vertical-align: top;\n",
       "    }\n",
       "\n",
       "    .dataframe thead th {\n",
       "        text-align: right;\n",
       "    }\n",
       "</style>\n",
       "<table border=\"1\" class=\"dataframe\">\n",
       "  <thead>\n",
       "    <tr style=\"text-align: right;\">\n",
       "      <th></th>\n",
       "      <th>id</th>\n",
       "      <th>longitude</th>\n",
       "      <th>latitude</th>\n",
       "      <th>elevation</th>\n",
       "      <th>x</th>\n",
       "      <th>y</th>\n",
       "      <th>z</th>\n",
       "    </tr>\n",
       "  </thead>\n",
       "  <tbody>\n",
       "    <tr>\n",
       "      <th>0</th>\n",
       "      <td>7D.J49A.</td>\n",
       "      <td>-124.427498</td>\n",
       "      <td>46.437801</td>\n",
       "      <td>-120.0</td>\n",
       "      <td>82.421632</td>\n",
       "      <td>215.928043</td>\n",
       "      <td>0.1200</td>\n",
       "    </tr>\n",
       "    <tr>\n",
       "      <th>1</th>\n",
       "      <td>UW.MEGW.</td>\n",
       "      <td>-123.877090</td>\n",
       "      <td>46.266090</td>\n",
       "      <td>351.0</td>\n",
       "      <td>125.111256</td>\n",
       "      <td>197.562407</td>\n",
       "      <td>-0.3510</td>\n",
       "    </tr>\n",
       "    <tr>\n",
       "      <th>2</th>\n",
       "      <td>7D.J57A.</td>\n",
       "      <td>-124.450500</td>\n",
       "      <td>47.080101</td>\n",
       "      <td>-55.8</td>\n",
       "      <td>79.701081</td>\n",
       "      <td>287.305612</td>\n",
       "      <td>0.0558</td>\n",
       "    </tr>\n",
       "    <tr>\n",
       "      <th>3</th>\n",
       "      <td>7D.FN01A.</td>\n",
       "      <td>-124.333702</td>\n",
       "      <td>46.882000</td>\n",
       "      <td>-54.0</td>\n",
       "      <td>88.898668</td>\n",
       "      <td>265.408554</td>\n",
       "      <td>0.0540</td>\n",
       "    </tr>\n",
       "    <tr>\n",
       "      <th>4</th>\n",
       "      <td>7D.FN19C.</td>\n",
       "      <td>-124.366798</td>\n",
       "      <td>46.730099</td>\n",
       "      <td>-72.0</td>\n",
       "      <td>86.619529</td>\n",
       "      <td>248.485414</td>\n",
       "      <td>0.0720</td>\n",
       "    </tr>\n",
       "    <tr>\n",
       "      <th>5</th>\n",
       "      <td>7D.J49C.</td>\n",
       "      <td>-124.427803</td>\n",
       "      <td>46.438000</td>\n",
       "      <td>-113.0</td>\n",
       "      <td>82.397892</td>\n",
       "      <td>215.949846</td>\n",
       "      <td>0.1130</td>\n",
       "    </tr>\n",
       "    <tr>\n",
       "      <th>6</th>\n",
       "      <td>7D.FN02C.</td>\n",
       "      <td>-124.428001</td>\n",
       "      <td>46.949699</td>\n",
       "      <td>-67.0</td>\n",
       "      <td>81.608124</td>\n",
       "      <td>272.832017</td>\n",
       "      <td>0.0670</td>\n",
       "    </tr>\n",
       "    <tr>\n",
       "      <th>7</th>\n",
       "      <td>7D.FN01C.</td>\n",
       "      <td>-124.333298</td>\n",
       "      <td>46.882301</td>\n",
       "      <td>-56.0</td>\n",
       "      <td>88.928964</td>\n",
       "      <td>265.442473</td>\n",
       "      <td>0.0560</td>\n",
       "    </tr>\n",
       "    <tr>\n",
       "      <th>8</th>\n",
       "      <td>7D.FN05C.</td>\n",
       "      <td>-124.655602</td>\n",
       "      <td>46.857498</td>\n",
       "      <td>-123.0</td>\n",
       "      <td>64.391936</td>\n",
       "      <td>262.370433</td>\n",
       "      <td>0.1230</td>\n",
       "    </tr>\n",
       "    <tr>\n",
       "      <th>9</th>\n",
       "      <td>7D.FN03C.</td>\n",
       "      <td>-124.525101</td>\n",
       "      <td>46.887199</td>\n",
       "      <td>-93.0</td>\n",
       "      <td>74.302593</td>\n",
       "      <td>265.787507</td>\n",
       "      <td>0.0930</td>\n",
       "    </tr>\n",
       "    <tr>\n",
       "      <th>10</th>\n",
       "      <td>7D.J57C.</td>\n",
       "      <td>-124.450600</td>\n",
       "      <td>47.080399</td>\n",
       "      <td>-67.0</td>\n",
       "      <td>79.693043</td>\n",
       "      <td>287.338640</td>\n",
       "      <td>0.0670</td>\n",
       "    </tr>\n",
       "    <tr>\n",
       "      <th>11</th>\n",
       "      <td>7D.FN04C.</td>\n",
       "      <td>-124.601303</td>\n",
       "      <td>46.917500</td>\n",
       "      <td>-104.0</td>\n",
       "      <td>68.456254</td>\n",
       "      <td>269.086683</td>\n",
       "      <td>0.1040</td>\n",
       "    </tr>\n",
       "  </tbody>\n",
       "</table>\n",
       "</div>"
      ],
      "text/plain": [
       "           id   longitude   latitude  elevation           x           y  \\\n",
       "0    7D.J49A. -124.427498  46.437801     -120.0   82.421632  215.928043   \n",
       "1    UW.MEGW. -123.877090  46.266090      351.0  125.111256  197.562407   \n",
       "2    7D.J57A. -124.450500  47.080101      -55.8   79.701081  287.305612   \n",
       "3   7D.FN01A. -124.333702  46.882000      -54.0   88.898668  265.408554   \n",
       "4   7D.FN19C. -124.366798  46.730099      -72.0   86.619529  248.485414   \n",
       "5    7D.J49C. -124.427803  46.438000     -113.0   82.397892  215.949846   \n",
       "6   7D.FN02C. -124.428001  46.949699      -67.0   81.608124  272.832017   \n",
       "7   7D.FN01C. -124.333298  46.882301      -56.0   88.928964  265.442473   \n",
       "8   7D.FN05C. -124.655602  46.857498     -123.0   64.391936  262.370433   \n",
       "9   7D.FN03C. -124.525101  46.887199      -93.0   74.302593  265.787507   \n",
       "10   7D.J57C. -124.450600  47.080399      -67.0   79.693043  287.338640   \n",
       "11  7D.FN04C. -124.601303  46.917500     -104.0   68.456254  269.086683   \n",
       "\n",
       "         z  \n",
       "0   0.1200  \n",
       "1  -0.3510  \n",
       "2   0.0558  \n",
       "3   0.0540  \n",
       "4   0.0720  \n",
       "5   0.1130  \n",
       "6   0.0670  \n",
       "7   0.0560  \n",
       "8   0.1230  \n",
       "9   0.0930  \n",
       "10  0.0670  \n",
       "11  0.1040  "
      ]
     },
     "execution_count": 11,
     "metadata": {},
     "output_type": "execute_result"
    }
   ],
   "source": [
    "associator.transform_stations(stations)\n",
    "stations"
   ]
  },
  {
   "cell_type": "markdown",
   "id": "27c78b5c",
   "metadata": {},
   "source": [
    "## Convert the timestamps to floats"
   ]
  },
  {
   "cell_type": "code",
   "execution_count": 12,
   "id": "c99c738e",
   "metadata": {
    "scrolled": true
   },
   "outputs": [
    {
     "data": {
      "text/html": [
       "<div>\n",
       "<style scoped>\n",
       "    .dataframe tbody tr th:only-of-type {\n",
       "        vertical-align: middle;\n",
       "    }\n",
       "\n",
       "    .dataframe tbody tr th {\n",
       "        vertical-align: top;\n",
       "    }\n",
       "\n",
       "    .dataframe thead th {\n",
       "        text-align: right;\n",
       "    }\n",
       "</style>\n",
       "<table border=\"1\" class=\"dataframe\">\n",
       "  <thead>\n",
       "    <tr style=\"text-align: right;\">\n",
       "      <th></th>\n",
       "      <th>station</th>\n",
       "      <th>phase</th>\n",
       "      <th>time</th>\n",
       "      <th>pick_id</th>\n",
       "    </tr>\n",
       "  </thead>\n",
       "  <tbody>\n",
       "    <tr>\n",
       "      <th>0</th>\n",
       "      <td>UW.MEGW.</td>\n",
       "      <td>P</td>\n",
       "      <td>1.293859e+09</td>\n",
       "      <td>1177</td>\n",
       "    </tr>\n",
       "    <tr>\n",
       "      <th>1</th>\n",
       "      <td>UW.MEGW.</td>\n",
       "      <td>P</td>\n",
       "      <td>1.293857e+09</td>\n",
       "      <td>1178</td>\n",
       "    </tr>\n",
       "    <tr>\n",
       "      <th>2</th>\n",
       "      <td>UW.MEGW.</td>\n",
       "      <td>P</td>\n",
       "      <td>1.293853e+09</td>\n",
       "      <td>1179</td>\n",
       "    </tr>\n",
       "    <tr>\n",
       "      <th>3</th>\n",
       "      <td>UW.MEGW.</td>\n",
       "      <td>P</td>\n",
       "      <td>1.293850e+09</td>\n",
       "      <td>1180</td>\n",
       "    </tr>\n",
       "    <tr>\n",
       "      <th>4</th>\n",
       "      <td>UW.MEGW.</td>\n",
       "      <td>P</td>\n",
       "      <td>1.293850e+09</td>\n",
       "      <td>1181</td>\n",
       "    </tr>\n",
       "    <tr>\n",
       "      <th>...</th>\n",
       "      <td>...</td>\n",
       "      <td>...</td>\n",
       "      <td>...</td>\n",
       "      <td>...</td>\n",
       "    </tr>\n",
       "    <tr>\n",
       "      <th>2697986</th>\n",
       "      <td>7D.J49C.</td>\n",
       "      <td>S</td>\n",
       "      <td>1.404006e+09</td>\n",
       "      <td>15659146</td>\n",
       "    </tr>\n",
       "    <tr>\n",
       "      <th>2697987</th>\n",
       "      <td>7D.J49C.</td>\n",
       "      <td>S</td>\n",
       "      <td>1.404006e+09</td>\n",
       "      <td>15659147</td>\n",
       "    </tr>\n",
       "    <tr>\n",
       "      <th>2697988</th>\n",
       "      <td>7D.J49C.</td>\n",
       "      <td>S</td>\n",
       "      <td>1.404006e+09</td>\n",
       "      <td>15659148</td>\n",
       "    </tr>\n",
       "    <tr>\n",
       "      <th>2697989</th>\n",
       "      <td>7D.J49C.</td>\n",
       "      <td>S</td>\n",
       "      <td>1.404006e+09</td>\n",
       "      <td>15659149</td>\n",
       "    </tr>\n",
       "    <tr>\n",
       "      <th>2697990</th>\n",
       "      <td>7D.J49C.</td>\n",
       "      <td>S</td>\n",
       "      <td>1.404010e+09</td>\n",
       "      <td>15659150</td>\n",
       "    </tr>\n",
       "  </tbody>\n",
       "</table>\n",
       "<p>2697991 rows × 4 columns</p>\n",
       "</div>"
      ],
      "text/plain": [
       "          station phase          time   pick_id\n",
       "0        UW.MEGW.     P  1.293859e+09      1177\n",
       "1        UW.MEGW.     P  1.293857e+09      1178\n",
       "2        UW.MEGW.     P  1.293853e+09      1179\n",
       "3        UW.MEGW.     P  1.293850e+09      1180\n",
       "4        UW.MEGW.     P  1.293850e+09      1181\n",
       "...           ...   ...           ...       ...\n",
       "2697986  7D.J49C.     S  1.404006e+09  15659146\n",
       "2697987  7D.J49C.     S  1.404006e+09  15659147\n",
       "2697988  7D.J49C.     S  1.404006e+09  15659148\n",
       "2697989  7D.J49C.     S  1.404006e+09  15659149\n",
       "2697990  7D.J49C.     S  1.404010e+09  15659150\n",
       "\n",
       "[2697991 rows x 4 columns]"
      ]
     },
     "execution_count": 12,
     "metadata": {},
     "output_type": "execute_result"
    }
   ],
   "source": [
    "# Convert the times to timestamps\n",
    "picks[\"time\"] = picks[\"time\"].apply(lambda x: datetime.datetime.strptime(x,'%Y-%m-%dT%H:%M:%S.%fZ'))\n",
    "picks[\"time\"] = picks[\"time\"].apply(lambda x: x.timestamp())\n",
    "picks"
   ]
  },
  {
   "cell_type": "code",
   "execution_count": 13,
   "id": "ae18d231",
   "metadata": {},
   "outputs": [],
   "source": [
    "# picks['time'] = picks['time'].apply(lambda x: (datetime.datetime.strptime(x,'%Y-%m-%dT%H:%M:%S.%fZ')).timestamp())\n",
    "# picks"
   ]
  },
  {
   "cell_type": "markdown",
   "id": "a0227ee6",
   "metadata": {},
   "source": [
    "## Apply  the associator"
   ]
  },
  {
   "cell_type": "code",
   "execution_count": 14,
   "id": "261a46ca",
   "metadata": {},
   "outputs": [],
   "source": [
    "# Association \n",
    "events, assignments = associator.associate(picks, stations)"
   ]
  },
  {
   "cell_type": "code",
   "execution_count": 15,
   "id": "0c48bb4d",
   "metadata": {},
   "outputs": [
    {
     "data": {
      "text/plain": [
       "Counter({5: 9426, 6: 1109, 7: 96, 8: 8, 9: 2, 10: 1, 12: 1})"
      ]
     },
     "execution_count": 15,
     "metadata": {},
     "output_type": "execute_result"
    }
   ],
   "source": [
    "# Count how many picks each event has\n",
    "Counter(events['picks'])"
   ]
  },
  {
   "cell_type": "code",
   "execution_count": 16,
   "id": "ef8aa879",
   "metadata": {
    "scrolled": false
   },
   "outputs": [],
   "source": [
    "# Convert the event times and the x, y, and z coordinate to latitudes, longitudes, and depths, respectively\n",
    "associator.transform_events(events)\n",
    "events[\"time\"] = events[\"time\"].apply(datetime.datetime.fromtimestamp, tz=datetime.timezone.utc)"
   ]
  },
  {
   "cell_type": "code",
   "execution_count": 17,
   "id": "3dc911d7",
   "metadata": {},
   "outputs": [
    {
     "data": {
      "text/html": [
       "<div>\n",
       "<style scoped>\n",
       "    .dataframe tbody tr th:only-of-type {\n",
       "        vertical-align: middle;\n",
       "    }\n",
       "\n",
       "    .dataframe tbody tr th {\n",
       "        vertical-align: top;\n",
       "    }\n",
       "\n",
       "    .dataframe thead th {\n",
       "        text-align: right;\n",
       "    }\n",
       "</style>\n",
       "<table border=\"1\" class=\"dataframe\">\n",
       "  <thead>\n",
       "    <tr style=\"text-align: right;\">\n",
       "      <th></th>\n",
       "      <th>idx</th>\n",
       "      <th>time</th>\n",
       "      <th>x</th>\n",
       "      <th>y</th>\n",
       "      <th>z</th>\n",
       "      <th>picks</th>\n",
       "      <th>latitude</th>\n",
       "      <th>longitude</th>\n",
       "      <th>depth</th>\n",
       "    </tr>\n",
       "  </thead>\n",
       "  <tbody>\n",
       "    <tr>\n",
       "      <th>0</th>\n",
       "      <td>0</td>\n",
       "      <td>2012-03-18 18:48:44.210648+00:00</td>\n",
       "      <td>177.944897</td>\n",
       "      <td>255.796826</td>\n",
       "      <td>12.109375</td>\n",
       "      <td>5</td>\n",
       "      <td>46.777756</td>\n",
       "      <td>-123.169949</td>\n",
       "      <td>12.109375</td>\n",
       "    </tr>\n",
       "    <tr>\n",
       "      <th>1</th>\n",
       "      <td>1</td>\n",
       "      <td>2013-09-01 16:05:14.395981+00:00</td>\n",
       "      <td>94.271748</td>\n",
       "      <td>260.088032</td>\n",
       "      <td>4.296875</td>\n",
       "      <td>5</td>\n",
       "      <td>46.833411</td>\n",
       "      <td>-124.264325</td>\n",
       "      <td>4.296875</td>\n",
       "    </tr>\n",
       "    <tr>\n",
       "      <th>2</th>\n",
       "      <td>2</td>\n",
       "      <td>2013-09-01 16:20:39.260470+00:00</td>\n",
       "      <td>428.964343</td>\n",
       "      <td>234.340797</td>\n",
       "      <td>12.890625</td>\n",
       "      <td>5</td>\n",
       "      <td>46.471876</td>\n",
       "      <td>-119.914230</td>\n",
       "      <td>12.890625</td>\n",
       "    </tr>\n",
       "    <tr>\n",
       "      <th>3</th>\n",
       "      <td>3</td>\n",
       "      <td>2013-09-02 00:22:14.873811+00:00</td>\n",
       "      <td>0.557821</td>\n",
       "      <td>42.666934</td>\n",
       "      <td>6.640625</td>\n",
       "      <td>5</td>\n",
       "      <td>44.883952</td>\n",
       "      <td>-125.492939</td>\n",
       "      <td>6.640625</td>\n",
       "    </tr>\n",
       "    <tr>\n",
       "      <th>4</th>\n",
       "      <td>4</td>\n",
       "      <td>2013-09-02 02:46:32.335318+00:00</td>\n",
       "      <td>89.809180</td>\n",
       "      <td>242.923209</td>\n",
       "      <td>16.015625</td>\n",
       "      <td>5</td>\n",
       "      <td>46.679653</td>\n",
       "      <td>-124.326163</td>\n",
       "      <td>16.015625</td>\n",
       "    </tr>\n",
       "    <tr>\n",
       "      <th>...</th>\n",
       "      <td>...</td>\n",
       "      <td>...</td>\n",
       "      <td>...</td>\n",
       "      <td>...</td>\n",
       "      <td>...</td>\n",
       "      <td>...</td>\n",
       "      <td>...</td>\n",
       "      <td>...</td>\n",
       "      <td>...</td>\n",
       "    </tr>\n",
       "    <tr>\n",
       "      <th>10638</th>\n",
       "      <td>10638</td>\n",
       "      <td>2014-06-26 09:59:45.203177+00:00</td>\n",
       "      <td>63.033772</td>\n",
       "      <td>222.897581</td>\n",
       "      <td>3.515625</td>\n",
       "      <td>5</td>\n",
       "      <td>46.502580</td>\n",
       "      <td>-124.678808</td>\n",
       "      <td>3.515625</td>\n",
       "    </tr>\n",
       "    <tr>\n",
       "      <th>10639</th>\n",
       "      <td>10639</td>\n",
       "      <td>2014-06-26 16:23:47.943898+00:00</td>\n",
       "      <td>80.884044</td>\n",
       "      <td>260.088032</td>\n",
       "      <td>15.234375</td>\n",
       "      <td>5</td>\n",
       "      <td>46.835171</td>\n",
       "      <td>-124.439772</td>\n",
       "      <td>15.234375</td>\n",
       "    </tr>\n",
       "    <tr>\n",
       "      <th>10640</th>\n",
       "      <td>10640</td>\n",
       "      <td>2014-06-27 14:25:31.593846+00:00</td>\n",
       "      <td>70.843266</td>\n",
       "      <td>205.732758</td>\n",
       "      <td>44.921875</td>\n",
       "      <td>5</td>\n",
       "      <td>46.347408</td>\n",
       "      <td>-124.579682</td>\n",
       "      <td>44.921875</td>\n",
       "    </tr>\n",
       "    <tr>\n",
       "      <th>10641</th>\n",
       "      <td>10641</td>\n",
       "      <td>2014-06-28 03:36:42.130297+00:00</td>\n",
       "      <td>84.230970</td>\n",
       "      <td>218.606375</td>\n",
       "      <td>9.765625</td>\n",
       "      <td>5</td>\n",
       "      <td>46.461668</td>\n",
       "      <td>-124.403475</td>\n",
       "      <td>9.765625</td>\n",
       "    </tr>\n",
       "    <tr>\n",
       "      <th>10642</th>\n",
       "      <td>10642</td>\n",
       "      <td>2014-06-28 15:26:30.045347+00:00</td>\n",
       "      <td>60.802488</td>\n",
       "      <td>237.201601</td>\n",
       "      <td>37.109375</td>\n",
       "      <td>5</td>\n",
       "      <td>46.631449</td>\n",
       "      <td>-124.705998</td>\n",
       "      <td>37.109375</td>\n",
       "    </tr>\n",
       "  </tbody>\n",
       "</table>\n",
       "<p>10643 rows × 9 columns</p>\n",
       "</div>"
      ],
      "text/plain": [
       "         idx                             time           x           y  \\\n",
       "0          0 2012-03-18 18:48:44.210648+00:00  177.944897  255.796826   \n",
       "1          1 2013-09-01 16:05:14.395981+00:00   94.271748  260.088032   \n",
       "2          2 2013-09-01 16:20:39.260470+00:00  428.964343  234.340797   \n",
       "3          3 2013-09-02 00:22:14.873811+00:00    0.557821   42.666934   \n",
       "4          4 2013-09-02 02:46:32.335318+00:00   89.809180  242.923209   \n",
       "...      ...                              ...         ...         ...   \n",
       "10638  10638 2014-06-26 09:59:45.203177+00:00   63.033772  222.897581   \n",
       "10639  10639 2014-06-26 16:23:47.943898+00:00   80.884044  260.088032   \n",
       "10640  10640 2014-06-27 14:25:31.593846+00:00   70.843266  205.732758   \n",
       "10641  10641 2014-06-28 03:36:42.130297+00:00   84.230970  218.606375   \n",
       "10642  10642 2014-06-28 15:26:30.045347+00:00   60.802488  237.201601   \n",
       "\n",
       "               z  picks   latitude   longitude      depth  \n",
       "0      12.109375      5  46.777756 -123.169949  12.109375  \n",
       "1       4.296875      5  46.833411 -124.264325   4.296875  \n",
       "2      12.890625      5  46.471876 -119.914230  12.890625  \n",
       "3       6.640625      5  44.883952 -125.492939   6.640625  \n",
       "4      16.015625      5  46.679653 -124.326163  16.015625  \n",
       "...          ...    ...        ...         ...        ...  \n",
       "10638   3.515625      5  46.502580 -124.678808   3.515625  \n",
       "10639  15.234375      5  46.835171 -124.439772  15.234375  \n",
       "10640  44.921875      5  46.347408 -124.579682  44.921875  \n",
       "10641   9.765625      5  46.461668 -124.403475   9.765625  \n",
       "10642  37.109375      5  46.631449 -124.705998  37.109375  \n",
       "\n",
       "[10643 rows x 9 columns]"
      ]
     },
     "execution_count": 17,
     "metadata": {},
     "output_type": "execute_result"
    }
   ],
   "source": [
    "events"
   ]
  },
  {
   "cell_type": "code",
   "execution_count": 18,
   "id": "6a765097",
   "metadata": {},
   "outputs": [],
   "source": [
    "#  Save events that have at least 6 picks\n",
    "events = events.loc[(events['picks'] >= 6)]\n",
    "events.to_csv(f'../data/datasets_{region}/events_{region}.csv')\n"
   ]
  },
  {
   "cell_type": "code",
   "execution_count": 19,
   "id": "a86b6d58",
   "metadata": {},
   "outputs": [],
   "source": [
    "# events.to_csv('~/notebooks/src/association_events.csv')"
   ]
  },
  {
   "cell_type": "code",
   "execution_count": 20,
   "id": "e6767f3c",
   "metadata": {
    "scrolled": true
   },
   "outputs": [
    {
     "data": {
      "text/html": [
       "<div>\n",
       "<style scoped>\n",
       "    .dataframe tbody tr th:only-of-type {\n",
       "        vertical-align: middle;\n",
       "    }\n",
       "\n",
       "    .dataframe tbody tr th {\n",
       "        vertical-align: top;\n",
       "    }\n",
       "\n",
       "    .dataframe thead th {\n",
       "        text-align: right;\n",
       "    }\n",
       "</style>\n",
       "<table border=\"1\" class=\"dataframe\">\n",
       "  <thead>\n",
       "    <tr style=\"text-align: right;\">\n",
       "      <th></th>\n",
       "      <th>event_idx</th>\n",
       "      <th>pick_idx</th>\n",
       "      <th>residual</th>\n",
       "      <th>station</th>\n",
       "      <th>phase</th>\n",
       "      <th>time</th>\n",
       "      <th>pick_id</th>\n",
       "    </tr>\n",
       "  </thead>\n",
       "  <tbody>\n",
       "    <tr>\n",
       "      <th>0</th>\n",
       "      <td>0</td>\n",
       "      <td>147720</td>\n",
       "      <td>0.163808</td>\n",
       "      <td>7D.J49A.</td>\n",
       "      <td>P</td>\n",
       "      <td>1.332097e+09</td>\n",
       "      <td>2931162</td>\n",
       "    </tr>\n",
       "    <tr>\n",
       "      <th>1</th>\n",
       "      <td>0</td>\n",
       "      <td>1510916</td>\n",
       "      <td>0.261383</td>\n",
       "      <td>7D.J49A.</td>\n",
       "      <td>S</td>\n",
       "      <td>1.332097e+09</td>\n",
       "      <td>2933481</td>\n",
       "    </tr>\n",
       "    <tr>\n",
       "      <th>2</th>\n",
       "      <td>0</td>\n",
       "      <td>1511183</td>\n",
       "      <td>-0.106158</td>\n",
       "      <td>7D.J57A.</td>\n",
       "      <td>S</td>\n",
       "      <td>1.332097e+09</td>\n",
       "      <td>2933980</td>\n",
       "    </tr>\n",
       "    <tr>\n",
       "      <th>3</th>\n",
       "      <td>0</td>\n",
       "      <td>148061</td>\n",
       "      <td>0.026904</td>\n",
       "      <td>UW.MEGW.</td>\n",
       "      <td>P</td>\n",
       "      <td>1.332097e+09</td>\n",
       "      <td>2933937</td>\n",
       "    </tr>\n",
       "    <tr>\n",
       "      <th>4</th>\n",
       "      <td>0</td>\n",
       "      <td>1511176</td>\n",
       "      <td>-0.345937</td>\n",
       "      <td>UW.MEGW.</td>\n",
       "      <td>S</td>\n",
       "      <td>1.332097e+09</td>\n",
       "      <td>2933928</td>\n",
       "    </tr>\n",
       "    <tr>\n",
       "      <th>...</th>\n",
       "      <td>...</td>\n",
       "      <td>...</td>\n",
       "      <td>...</td>\n",
       "      <td>...</td>\n",
       "      <td>...</td>\n",
       "      <td>...</td>\n",
       "      <td>...</td>\n",
       "    </tr>\n",
       "    <tr>\n",
       "      <th>54555</th>\n",
       "      <td>10642</td>\n",
       "      <td>2696323</td>\n",
       "      <td>0.052318</td>\n",
       "      <td>7D.FN03C.</td>\n",
       "      <td>S</td>\n",
       "      <td>1.403969e+09</td>\n",
       "      <td>15643840</td>\n",
       "    </tr>\n",
       "    <tr>\n",
       "      <th>54556</th>\n",
       "      <td>10642</td>\n",
       "      <td>1380280</td>\n",
       "      <td>1.229162</td>\n",
       "      <td>7D.J49C.</td>\n",
       "      <td>P</td>\n",
       "      <td>1.403969e+09</td>\n",
       "      <td>15649077</td>\n",
       "    </tr>\n",
       "    <tr>\n",
       "      <th>54557</th>\n",
       "      <td>10642</td>\n",
       "      <td>2697480</td>\n",
       "      <td>-0.665218</td>\n",
       "      <td>7D.J49C.</td>\n",
       "      <td>S</td>\n",
       "      <td>1.403969e+09</td>\n",
       "      <td>15649834</td>\n",
       "    </tr>\n",
       "    <tr>\n",
       "      <th>54558</th>\n",
       "      <td>10642</td>\n",
       "      <td>1380079</td>\n",
       "      <td>-1.200480</td>\n",
       "      <td>7D.J57C.</td>\n",
       "      <td>P</td>\n",
       "      <td>1.403969e+09</td>\n",
       "      <td>15645700</td>\n",
       "    </tr>\n",
       "    <tr>\n",
       "      <th>54559</th>\n",
       "      <td>10642</td>\n",
       "      <td>2696660</td>\n",
       "      <td>0.584218</td>\n",
       "      <td>7D.J57C.</td>\n",
       "      <td>S</td>\n",
       "      <td>1.403969e+09</td>\n",
       "      <td>15645175</td>\n",
       "    </tr>\n",
       "  </tbody>\n",
       "</table>\n",
       "<p>54560 rows × 7 columns</p>\n",
       "</div>"
      ],
      "text/plain": [
       "       event_idx  pick_idx  residual    station phase          time   pick_id\n",
       "0              0    147720  0.163808   7D.J49A.     P  1.332097e+09   2931162\n",
       "1              0   1510916  0.261383   7D.J49A.     S  1.332097e+09   2933481\n",
       "2              0   1511183 -0.106158   7D.J57A.     S  1.332097e+09   2933980\n",
       "3              0    148061  0.026904   UW.MEGW.     P  1.332097e+09   2933937\n",
       "4              0   1511176 -0.345937   UW.MEGW.     S  1.332097e+09   2933928\n",
       "...          ...       ...       ...        ...   ...           ...       ...\n",
       "54555      10642   2696323  0.052318  7D.FN03C.     S  1.403969e+09  15643840\n",
       "54556      10642   1380280  1.229162   7D.J49C.     P  1.403969e+09  15649077\n",
       "54557      10642   2697480 -0.665218   7D.J49C.     S  1.403969e+09  15649834\n",
       "54558      10642   1380079 -1.200480   7D.J57C.     P  1.403969e+09  15645700\n",
       "54559      10642   2696660  0.584218   7D.J57C.     S  1.403969e+09  15645175\n",
       "\n",
       "[54560 rows x 7 columns]"
      ]
     },
     "execution_count": 20,
     "metadata": {},
     "output_type": "execute_result"
    }
   ],
   "source": [
    "# Print the assignments\n",
    "\n",
    "assignments"
   ]
  },
  {
   "cell_type": "code",
   "execution_count": 21,
   "id": "ff00602d",
   "metadata": {
    "scrolled": true
   },
   "outputs": [
    {
     "data": {
      "text/html": [
       "<div>\n",
       "<style scoped>\n",
       "    .dataframe tbody tr th:only-of-type {\n",
       "        vertical-align: middle;\n",
       "    }\n",
       "\n",
       "    .dataframe tbody tr th {\n",
       "        vertical-align: top;\n",
       "    }\n",
       "\n",
       "    .dataframe thead th {\n",
       "        text-align: right;\n",
       "    }\n",
       "</style>\n",
       "<table border=\"1\" class=\"dataframe\">\n",
       "  <thead>\n",
       "    <tr style=\"text-align: right;\">\n",
       "      <th></th>\n",
       "      <th>idx</th>\n",
       "      <th>time</th>\n",
       "      <th>x</th>\n",
       "      <th>y</th>\n",
       "      <th>z</th>\n",
       "      <th>picks</th>\n",
       "      <th>latitude</th>\n",
       "      <th>longitude</th>\n",
       "      <th>depth</th>\n",
       "      <th>event_idx</th>\n",
       "      <th>pick_idx</th>\n",
       "      <th>residual</th>\n",
       "      <th>station</th>\n",
       "      <th>phase</th>\n",
       "      <th>time_pick</th>\n",
       "      <th>pick_id</th>\n",
       "    </tr>\n",
       "  </thead>\n",
       "  <tbody>\n",
       "    <tr>\n",
       "      <th>0</th>\n",
       "      <td>7</td>\n",
       "      <td>2013-09-02 05:42:58.586426+00:00</td>\n",
       "      <td>89.809180</td>\n",
       "      <td>252.936022</td>\n",
       "      <td>5.078125</td>\n",
       "      <td>6</td>\n",
       "      <td>46.769705</td>\n",
       "      <td>-124.324208</td>\n",
       "      <td>5.078125</td>\n",
       "      <td>7</td>\n",
       "      <td>259595</td>\n",
       "      <td>-0.127169</td>\n",
       "      <td>7D.FN03C.</td>\n",
       "      <td>P</td>\n",
       "      <td>1.378101e+09</td>\n",
       "      <td>9377822</td>\n",
       "    </tr>\n",
       "    <tr>\n",
       "      <th>1</th>\n",
       "      <td>7</td>\n",
       "      <td>2013-09-02 05:42:58.586426+00:00</td>\n",
       "      <td>89.809180</td>\n",
       "      <td>252.936022</td>\n",
       "      <td>5.078125</td>\n",
       "      <td>6</td>\n",
       "      <td>46.769705</td>\n",
       "      <td>-124.324208</td>\n",
       "      <td>5.078125</td>\n",
       "      <td>7</td>\n",
       "      <td>1635252</td>\n",
       "      <td>-0.177541</td>\n",
       "      <td>7D.FN04C.</td>\n",
       "      <td>S</td>\n",
       "      <td>1.378101e+09</td>\n",
       "      <td>9375925</td>\n",
       "    </tr>\n",
       "    <tr>\n",
       "      <th>2</th>\n",
       "      <td>7</td>\n",
       "      <td>2013-09-02 05:42:58.586426+00:00</td>\n",
       "      <td>89.809180</td>\n",
       "      <td>252.936022</td>\n",
       "      <td>5.078125</td>\n",
       "      <td>6</td>\n",
       "      <td>46.769705</td>\n",
       "      <td>-124.324208</td>\n",
       "      <td>5.078125</td>\n",
       "      <td>7</td>\n",
       "      <td>259863</td>\n",
       "      <td>0.567023</td>\n",
       "      <td>7D.FN05C.</td>\n",
       "      <td>P</td>\n",
       "      <td>1.378101e+09</td>\n",
       "      <td>9378379</td>\n",
       "    </tr>\n",
       "    <tr>\n",
       "      <th>3</th>\n",
       "      <td>7</td>\n",
       "      <td>2013-09-02 05:42:58.586426+00:00</td>\n",
       "      <td>89.809180</td>\n",
       "      <td>252.936022</td>\n",
       "      <td>5.078125</td>\n",
       "      <td>6</td>\n",
       "      <td>46.769705</td>\n",
       "      <td>-124.324208</td>\n",
       "      <td>5.078125</td>\n",
       "      <td>7</td>\n",
       "      <td>1636339</td>\n",
       "      <td>-0.162729</td>\n",
       "      <td>7D.FN05C.</td>\n",
       "      <td>S</td>\n",
       "      <td>1.378101e+09</td>\n",
       "      <td>9378830</td>\n",
       "    </tr>\n",
       "    <tr>\n",
       "      <th>4</th>\n",
       "      <td>7</td>\n",
       "      <td>2013-09-02 05:42:58.586426+00:00</td>\n",
       "      <td>89.809180</td>\n",
       "      <td>252.936022</td>\n",
       "      <td>5.078125</td>\n",
       "      <td>6</td>\n",
       "      <td>46.769705</td>\n",
       "      <td>-124.324208</td>\n",
       "      <td>5.078125</td>\n",
       "      <td>7</td>\n",
       "      <td>258306</td>\n",
       "      <td>-0.231362</td>\n",
       "      <td>7D.FN19C.</td>\n",
       "      <td>P</td>\n",
       "      <td>1.378101e+09</td>\n",
       "      <td>9375230</td>\n",
       "    </tr>\n",
       "    <tr>\n",
       "      <th>...</th>\n",
       "      <td>...</td>\n",
       "      <td>...</td>\n",
       "      <td>...</td>\n",
       "      <td>...</td>\n",
       "      <td>...</td>\n",
       "      <td>...</td>\n",
       "      <td>...</td>\n",
       "      <td>...</td>\n",
       "      <td>...</td>\n",
       "      <td>...</td>\n",
       "      <td>...</td>\n",
       "      <td>...</td>\n",
       "      <td>...</td>\n",
       "      <td>...</td>\n",
       "      <td>...</td>\n",
       "      <td>...</td>\n",
       "    </tr>\n",
       "    <tr>\n",
       "      <th>7425</th>\n",
       "      <td>10636</td>\n",
       "      <td>2014-06-26 01:08:02.810201+00:00</td>\n",
       "      <td>66.380698</td>\n",
       "      <td>267.240042</td>\n",
       "      <td>10.546875</td>\n",
       "      <td>7</td>\n",
       "      <td>46.901101</td>\n",
       "      <td>-124.628817</td>\n",
       "      <td>10.546875</td>\n",
       "      <td>10636</td>\n",
       "      <td>1377072</td>\n",
       "      <td>1.346963</td>\n",
       "      <td>7D.FN03C.</td>\n",
       "      <td>P</td>\n",
       "      <td>1.403745e+09</td>\n",
       "      <td>15621747</td>\n",
       "    </tr>\n",
       "    <tr>\n",
       "      <th>7426</th>\n",
       "      <td>10636</td>\n",
       "      <td>2014-06-26 01:08:02.810201+00:00</td>\n",
       "      <td>66.380698</td>\n",
       "      <td>267.240042</td>\n",
       "      <td>10.546875</td>\n",
       "      <td>7</td>\n",
       "      <td>46.901101</td>\n",
       "      <td>-124.628817</td>\n",
       "      <td>10.546875</td>\n",
       "      <td>10636</td>\n",
       "      <td>2694018</td>\n",
       "      <td>-0.489490</td>\n",
       "      <td>7D.FN03C.</td>\n",
       "      <td>S</td>\n",
       "      <td>1.403745e+09</td>\n",
       "      <td>15621711</td>\n",
       "    </tr>\n",
       "    <tr>\n",
       "      <th>7427</th>\n",
       "      <td>10636</td>\n",
       "      <td>2014-06-26 01:08:02.810201+00:00</td>\n",
       "      <td>66.380698</td>\n",
       "      <td>267.240042</td>\n",
       "      <td>10.546875</td>\n",
       "      <td>7</td>\n",
       "      <td>46.901101</td>\n",
       "      <td>-124.628817</td>\n",
       "      <td>10.546875</td>\n",
       "      <td>10636</td>\n",
       "      <td>1376033</td>\n",
       "      <td>0.361920</td>\n",
       "      <td>7D.FN04C.</td>\n",
       "      <td>P</td>\n",
       "      <td>1.403745e+09</td>\n",
       "      <td>15618802</td>\n",
       "    </tr>\n",
       "    <tr>\n",
       "      <th>7428</th>\n",
       "      <td>10636</td>\n",
       "      <td>2014-06-26 01:08:02.810201+00:00</td>\n",
       "      <td>66.380698</td>\n",
       "      <td>267.240042</td>\n",
       "      <td>10.546875</td>\n",
       "      <td>7</td>\n",
       "      <td>46.901101</td>\n",
       "      <td>-124.628817</td>\n",
       "      <td>10.546875</td>\n",
       "      <td>10636</td>\n",
       "      <td>2692580</td>\n",
       "      <td>-0.889507</td>\n",
       "      <td>7D.FN04C.</td>\n",
       "      <td>S</td>\n",
       "      <td>1.403745e+09</td>\n",
       "      <td>15618814</td>\n",
       "    </tr>\n",
       "    <tr>\n",
       "      <th>7429</th>\n",
       "      <td>10636</td>\n",
       "      <td>2014-06-26 01:08:02.810201+00:00</td>\n",
       "      <td>66.380698</td>\n",
       "      <td>267.240042</td>\n",
       "      <td>10.546875</td>\n",
       "      <td>7</td>\n",
       "      <td>46.901101</td>\n",
       "      <td>-124.628817</td>\n",
       "      <td>10.546875</td>\n",
       "      <td>10636</td>\n",
       "      <td>2693035</td>\n",
       "      <td>-0.654387</td>\n",
       "      <td>7D.J49C.</td>\n",
       "      <td>S</td>\n",
       "      <td>1.403745e+09</td>\n",
       "      <td>15619847</td>\n",
       "    </tr>\n",
       "  </tbody>\n",
       "</table>\n",
       "<p>7430 rows × 16 columns</p>\n",
       "</div>"
      ],
      "text/plain": [
       "        idx                             time          x           y  \\\n",
       "0         7 2013-09-02 05:42:58.586426+00:00  89.809180  252.936022   \n",
       "1         7 2013-09-02 05:42:58.586426+00:00  89.809180  252.936022   \n",
       "2         7 2013-09-02 05:42:58.586426+00:00  89.809180  252.936022   \n",
       "3         7 2013-09-02 05:42:58.586426+00:00  89.809180  252.936022   \n",
       "4         7 2013-09-02 05:42:58.586426+00:00  89.809180  252.936022   \n",
       "...     ...                              ...        ...         ...   \n",
       "7425  10636 2014-06-26 01:08:02.810201+00:00  66.380698  267.240042   \n",
       "7426  10636 2014-06-26 01:08:02.810201+00:00  66.380698  267.240042   \n",
       "7427  10636 2014-06-26 01:08:02.810201+00:00  66.380698  267.240042   \n",
       "7428  10636 2014-06-26 01:08:02.810201+00:00  66.380698  267.240042   \n",
       "7429  10636 2014-06-26 01:08:02.810201+00:00  66.380698  267.240042   \n",
       "\n",
       "              z  picks   latitude   longitude      depth  event_idx  pick_idx  \\\n",
       "0      5.078125      6  46.769705 -124.324208   5.078125          7    259595   \n",
       "1      5.078125      6  46.769705 -124.324208   5.078125          7   1635252   \n",
       "2      5.078125      6  46.769705 -124.324208   5.078125          7    259863   \n",
       "3      5.078125      6  46.769705 -124.324208   5.078125          7   1636339   \n",
       "4      5.078125      6  46.769705 -124.324208   5.078125          7    258306   \n",
       "...         ...    ...        ...         ...        ...        ...       ...   \n",
       "7425  10.546875      7  46.901101 -124.628817  10.546875      10636   1377072   \n",
       "7426  10.546875      7  46.901101 -124.628817  10.546875      10636   2694018   \n",
       "7427  10.546875      7  46.901101 -124.628817  10.546875      10636   1376033   \n",
       "7428  10.546875      7  46.901101 -124.628817  10.546875      10636   2692580   \n",
       "7429  10.546875      7  46.901101 -124.628817  10.546875      10636   2693035   \n",
       "\n",
       "      residual    station phase     time_pick   pick_id  \n",
       "0    -0.127169  7D.FN03C.     P  1.378101e+09   9377822  \n",
       "1    -0.177541  7D.FN04C.     S  1.378101e+09   9375925  \n",
       "2     0.567023  7D.FN05C.     P  1.378101e+09   9378379  \n",
       "3    -0.162729  7D.FN05C.     S  1.378101e+09   9378830  \n",
       "4    -0.231362  7D.FN19C.     P  1.378101e+09   9375230  \n",
       "...        ...        ...   ...           ...       ...  \n",
       "7425  1.346963  7D.FN03C.     P  1.403745e+09  15621747  \n",
       "7426 -0.489490  7D.FN03C.     S  1.403745e+09  15621711  \n",
       "7427  0.361920  7D.FN04C.     P  1.403745e+09  15618802  \n",
       "7428 -0.889507  7D.FN04C.     S  1.403745e+09  15618814  \n",
       "7429 -0.654387   7D.J49C.     S  1.403745e+09  15619847  \n",
       "\n",
       "[7430 rows x 16 columns]"
      ]
     },
     "execution_count": 21,
     "metadata": {},
     "output_type": "execute_result"
    }
   ],
   "source": [
    "# Assign the event information to each pick by using pd.merge\n",
    "all_pick_assignments = pd.merge(events, assignments, left_on=\"idx\", right_on=\"event_idx\", suffixes=(\"\", \"_pick\"))\n",
    "all_pick_assignments"
   ]
  },
  {
   "cell_type": "code",
   "execution_count": 22,
   "id": "192a651f",
   "metadata": {},
   "outputs": [
    {
     "data": {
      "text/html": [
       "<div>\n",
       "<style scoped>\n",
       "    .dataframe tbody tr th:only-of-type {\n",
       "        vertical-align: middle;\n",
       "    }\n",
       "\n",
       "    .dataframe tbody tr th {\n",
       "        vertical-align: top;\n",
       "    }\n",
       "\n",
       "    .dataframe thead th {\n",
       "        text-align: right;\n",
       "    }\n",
       "</style>\n",
       "<table border=\"1\" class=\"dataframe\">\n",
       "  <thead>\n",
       "    <tr style=\"text-align: right;\">\n",
       "      <th></th>\n",
       "      <th>idx</th>\n",
       "      <th>time</th>\n",
       "      <th>x</th>\n",
       "      <th>y</th>\n",
       "      <th>z</th>\n",
       "      <th>picks</th>\n",
       "      <th>latitude</th>\n",
       "      <th>longitude</th>\n",
       "      <th>depth</th>\n",
       "      <th>event_idx</th>\n",
       "      <th>pick_idx</th>\n",
       "      <th>residual</th>\n",
       "      <th>station</th>\n",
       "      <th>phase</th>\n",
       "      <th>time_pick</th>\n",
       "      <th>pick_id</th>\n",
       "    </tr>\n",
       "  </thead>\n",
       "  <tbody>\n",
       "    <tr>\n",
       "      <th>0</th>\n",
       "      <td>7</td>\n",
       "      <td>2013-09-02 05:42:58.586426+00:00</td>\n",
       "      <td>89.809180</td>\n",
       "      <td>252.936022</td>\n",
       "      <td>5.078125</td>\n",
       "      <td>6</td>\n",
       "      <td>46.769705</td>\n",
       "      <td>-124.324208</td>\n",
       "      <td>5.078125</td>\n",
       "      <td>7</td>\n",
       "      <td>259595</td>\n",
       "      <td>-0.127169</td>\n",
       "      <td>7D.FN03C.</td>\n",
       "      <td>P</td>\n",
       "      <td>1.378101e+09</td>\n",
       "      <td>9377822</td>\n",
       "    </tr>\n",
       "    <tr>\n",
       "      <th>1</th>\n",
       "      <td>7</td>\n",
       "      <td>2013-09-02 05:42:58.586426+00:00</td>\n",
       "      <td>89.809180</td>\n",
       "      <td>252.936022</td>\n",
       "      <td>5.078125</td>\n",
       "      <td>6</td>\n",
       "      <td>46.769705</td>\n",
       "      <td>-124.324208</td>\n",
       "      <td>5.078125</td>\n",
       "      <td>7</td>\n",
       "      <td>1635252</td>\n",
       "      <td>-0.177541</td>\n",
       "      <td>7D.FN04C.</td>\n",
       "      <td>S</td>\n",
       "      <td>1.378101e+09</td>\n",
       "      <td>9375925</td>\n",
       "    </tr>\n",
       "    <tr>\n",
       "      <th>2</th>\n",
       "      <td>7</td>\n",
       "      <td>2013-09-02 05:42:58.586426+00:00</td>\n",
       "      <td>89.809180</td>\n",
       "      <td>252.936022</td>\n",
       "      <td>5.078125</td>\n",
       "      <td>6</td>\n",
       "      <td>46.769705</td>\n",
       "      <td>-124.324208</td>\n",
       "      <td>5.078125</td>\n",
       "      <td>7</td>\n",
       "      <td>259863</td>\n",
       "      <td>0.567023</td>\n",
       "      <td>7D.FN05C.</td>\n",
       "      <td>P</td>\n",
       "      <td>1.378101e+09</td>\n",
       "      <td>9378379</td>\n",
       "    </tr>\n",
       "    <tr>\n",
       "      <th>3</th>\n",
       "      <td>7</td>\n",
       "      <td>2013-09-02 05:42:58.586426+00:00</td>\n",
       "      <td>89.809180</td>\n",
       "      <td>252.936022</td>\n",
       "      <td>5.078125</td>\n",
       "      <td>6</td>\n",
       "      <td>46.769705</td>\n",
       "      <td>-124.324208</td>\n",
       "      <td>5.078125</td>\n",
       "      <td>7</td>\n",
       "      <td>1636339</td>\n",
       "      <td>-0.162729</td>\n",
       "      <td>7D.FN05C.</td>\n",
       "      <td>S</td>\n",
       "      <td>1.378101e+09</td>\n",
       "      <td>9378830</td>\n",
       "    </tr>\n",
       "    <tr>\n",
       "      <th>4</th>\n",
       "      <td>7</td>\n",
       "      <td>2013-09-02 05:42:58.586426+00:00</td>\n",
       "      <td>89.809180</td>\n",
       "      <td>252.936022</td>\n",
       "      <td>5.078125</td>\n",
       "      <td>6</td>\n",
       "      <td>46.769705</td>\n",
       "      <td>-124.324208</td>\n",
       "      <td>5.078125</td>\n",
       "      <td>7</td>\n",
       "      <td>258306</td>\n",
       "      <td>-0.231362</td>\n",
       "      <td>7D.FN19C.</td>\n",
       "      <td>P</td>\n",
       "      <td>1.378101e+09</td>\n",
       "      <td>9375230</td>\n",
       "    </tr>\n",
       "    <tr>\n",
       "      <th>5</th>\n",
       "      <td>7</td>\n",
       "      <td>2013-09-02 05:42:58.586426+00:00</td>\n",
       "      <td>89.809180</td>\n",
       "      <td>252.936022</td>\n",
       "      <td>5.078125</td>\n",
       "      <td>6</td>\n",
       "      <td>46.769705</td>\n",
       "      <td>-124.324208</td>\n",
       "      <td>5.078125</td>\n",
       "      <td>7</td>\n",
       "      <td>1635012</td>\n",
       "      <td>0.131776</td>\n",
       "      <td>7D.FN19C.</td>\n",
       "      <td>S</td>\n",
       "      <td>1.378101e+09</td>\n",
       "      <td>9374982</td>\n",
       "    </tr>\n",
       "    <tr>\n",
       "      <th>6</th>\n",
       "      <td>17</td>\n",
       "      <td>2013-09-04 07:02:55.793771+00:00</td>\n",
       "      <td>228.148786</td>\n",
       "      <td>418.862650</td>\n",
       "      <td>2.734375</td>\n",
       "      <td>6</td>\n",
       "      <td>48.227120</td>\n",
       "      <td>-122.429078</td>\n",
       "      <td>2.734375</td>\n",
       "      <td>17</td>\n",
       "      <td>265736</td>\n",
       "      <td>-0.022015</td>\n",
       "      <td>7D.FN01C.</td>\n",
       "      <td>P</td>\n",
       "      <td>1.378278e+09</td>\n",
       "      <td>9401781</td>\n",
       "    </tr>\n",
       "    <tr>\n",
       "      <th>7</th>\n",
       "      <td>17</td>\n",
       "      <td>2013-09-04 07:02:55.793771+00:00</td>\n",
       "      <td>228.148786</td>\n",
       "      <td>418.862650</td>\n",
       "      <td>2.734375</td>\n",
       "      <td>6</td>\n",
       "      <td>48.227120</td>\n",
       "      <td>-122.429078</td>\n",
       "      <td>2.734375</td>\n",
       "      <td>17</td>\n",
       "      <td>1640792</td>\n",
       "      <td>-0.838116</td>\n",
       "      <td>7D.FN01C.</td>\n",
       "      <td>S</td>\n",
       "      <td>1.378278e+09</td>\n",
       "      <td>9401400</td>\n",
       "    </tr>\n",
       "    <tr>\n",
       "      <th>8</th>\n",
       "      <td>17</td>\n",
       "      <td>2013-09-04 07:02:55.793771+00:00</td>\n",
       "      <td>228.148786</td>\n",
       "      <td>418.862650</td>\n",
       "      <td>2.734375</td>\n",
       "      <td>6</td>\n",
       "      <td>48.227120</td>\n",
       "      <td>-122.429078</td>\n",
       "      <td>2.734375</td>\n",
       "      <td>17</td>\n",
       "      <td>1641540</td>\n",
       "      <td>-0.212088</td>\n",
       "      <td>7D.FN03C.</td>\n",
       "      <td>S</td>\n",
       "      <td>1.378278e+09</td>\n",
       "      <td>9405573</td>\n",
       "    </tr>\n",
       "    <tr>\n",
       "      <th>9</th>\n",
       "      <td>17</td>\n",
       "      <td>2013-09-04 07:02:55.793771+00:00</td>\n",
       "      <td>228.148786</td>\n",
       "      <td>418.862650</td>\n",
       "      <td>2.734375</td>\n",
       "      <td>6</td>\n",
       "      <td>48.227120</td>\n",
       "      <td>-122.429078</td>\n",
       "      <td>2.734375</td>\n",
       "      <td>17</td>\n",
       "      <td>1640113</td>\n",
       "      <td>-0.106662</td>\n",
       "      <td>7D.FN04C.</td>\n",
       "      <td>S</td>\n",
       "      <td>1.378278e+09</td>\n",
       "      <td>9399951</td>\n",
       "    </tr>\n",
       "  </tbody>\n",
       "</table>\n",
       "</div>"
      ],
      "text/plain": [
       "   idx                             time           x           y         z  \\\n",
       "0    7 2013-09-02 05:42:58.586426+00:00   89.809180  252.936022  5.078125   \n",
       "1    7 2013-09-02 05:42:58.586426+00:00   89.809180  252.936022  5.078125   \n",
       "2    7 2013-09-02 05:42:58.586426+00:00   89.809180  252.936022  5.078125   \n",
       "3    7 2013-09-02 05:42:58.586426+00:00   89.809180  252.936022  5.078125   \n",
       "4    7 2013-09-02 05:42:58.586426+00:00   89.809180  252.936022  5.078125   \n",
       "5    7 2013-09-02 05:42:58.586426+00:00   89.809180  252.936022  5.078125   \n",
       "6   17 2013-09-04 07:02:55.793771+00:00  228.148786  418.862650  2.734375   \n",
       "7   17 2013-09-04 07:02:55.793771+00:00  228.148786  418.862650  2.734375   \n",
       "8   17 2013-09-04 07:02:55.793771+00:00  228.148786  418.862650  2.734375   \n",
       "9   17 2013-09-04 07:02:55.793771+00:00  228.148786  418.862650  2.734375   \n",
       "\n",
       "   picks   latitude   longitude     depth  event_idx  pick_idx  residual  \\\n",
       "0      6  46.769705 -124.324208  5.078125          7    259595 -0.127169   \n",
       "1      6  46.769705 -124.324208  5.078125          7   1635252 -0.177541   \n",
       "2      6  46.769705 -124.324208  5.078125          7    259863  0.567023   \n",
       "3      6  46.769705 -124.324208  5.078125          7   1636339 -0.162729   \n",
       "4      6  46.769705 -124.324208  5.078125          7    258306 -0.231362   \n",
       "5      6  46.769705 -124.324208  5.078125          7   1635012  0.131776   \n",
       "6      6  48.227120 -122.429078  2.734375         17    265736 -0.022015   \n",
       "7      6  48.227120 -122.429078  2.734375         17   1640792 -0.838116   \n",
       "8      6  48.227120 -122.429078  2.734375         17   1641540 -0.212088   \n",
       "9      6  48.227120 -122.429078  2.734375         17   1640113 -0.106662   \n",
       "\n",
       "     station phase     time_pick  pick_id  \n",
       "0  7D.FN03C.     P  1.378101e+09  9377822  \n",
       "1  7D.FN04C.     S  1.378101e+09  9375925  \n",
       "2  7D.FN05C.     P  1.378101e+09  9378379  \n",
       "3  7D.FN05C.     S  1.378101e+09  9378830  \n",
       "4  7D.FN19C.     P  1.378101e+09  9375230  \n",
       "5  7D.FN19C.     S  1.378101e+09  9374982  \n",
       "6  7D.FN01C.     P  1.378278e+09  9401781  \n",
       "7  7D.FN01C.     S  1.378278e+09  9401400  \n",
       "8  7D.FN03C.     S  1.378278e+09  9405573  \n",
       "9  7D.FN04C.     S  1.378278e+09  9399951  "
      ]
     },
     "execution_count": 22,
     "metadata": {},
     "output_type": "execute_result"
    }
   ],
   "source": [
    "all_pick_assignments[0:10]"
   ]
  },
  {
   "cell_type": "code",
   "execution_count": 23,
   "id": "37ebd009",
   "metadata": {},
   "outputs": [],
   "source": [
    "# Save the assignments to a CSV file\n",
    "all_pick_assignments.to_csv(f\"../data/datasets_{region}/all_pick_assignments_{region}.csv\")"
   ]
  },
  {
   "cell_type": "code",
   "execution_count": 24,
   "id": "73c15960",
   "metadata": {},
   "outputs": [
    {
     "data": {
      "image/png": "[encoded data removed]",
      "text/plain": [
       "<Figure size 400x800 with 2 Axes>"
      ]
     },
     "metadata": {},
     "output_type": "display_data"
    }
   ],
   "source": [
    "# The parameters in the associator class: n_picks=2,n_p_picks=1,n_s_picks=1,n_p_and_s_picks=1\n",
    "fig = plt.figure(figsize=(4, 8))\n",
    "ax = fig.add_subplot()\n",
    "ax.set_aspect(\"equal\")\n",
    "\n",
    "# ax.scatter(events[\"x\"], events[\"y\"], c=events[\"z\"])\n",
    "ax.set_xlabel(\"Easting [km]\")\n",
    "ax.set_ylabel(\"Northing [km]\")\n",
    "cax = fig.add_axes([ax.get_position().x1+0.05,ax.get_position().y0,0.02,ax.get_position().height])\n",
    "cb1 = fig.colorbar(ax.scatter(events[\"x\"], events[\"y\"], c=events[\"z\"],s=0.5,cmap='viridis'), cax=cax)\n",
    "cb1.ax.invert_yaxis()"
   ]
  },
  {
   "cell_type": "markdown",
   "id": "2a605e6e",
   "metadata": {},
   "source": [
    "## Plot the associated events (not necessary to run cells below)"
   ]
  },
  {
   "cell_type": "code",
   "execution_count": null,
   "id": "b60bfc02",
   "metadata": {},
   "outputs": [],
   "source": [
    "# Read the event dataframe saved above\n",
    "events = pd.read_csv('../data/events_october_temp_with_JCC.csv')"
   ]
  },
  {
   "cell_type": "code",
   "execution_count": null,
   "id": "705547c6",
   "metadata": {},
   "outputs": [],
   "source": [
    "events"
   ]
  },
  {
   "cell_type": "code",
   "execution_count": null,
   "id": "c13e1287",
   "metadata": {},
   "outputs": [],
   "source": [
    "# Plot the events \n",
    "import pygmt\n",
    "fig = pygmt.Figure()\n",
    "# grid = pygmt.datasets.load_earth_relief(resolution=\"15s\", region=[-126, -124, 40, 43])\n",
    "# # fig.shift_origin(yshift=\"10c\")\n",
    "# fig.grdimage(grid=grid, projection=\"M15c\", frame=\"a\", cmap=\"geo\", transparency = 50)\n",
    "# # fig.plot(x = events_morton_201210_lon, y = events_morton_201210_lat,  \n",
    "# #          color = 'blue', size = size_morton, style = \"c\", pen = \"black\")\n",
    "# # fig.plot(x = myevents_20121014_lon, y = myevents_20121014_lat,  \n",
    "# #          color = 'red', size = size_myevents, style = \"c\", pen = \"black\")\n",
    "# # fig.plot(x = events_jdf_201210_lon, y = events_jdf_201210_lat,  \n",
    "# #          color = 'yellow', size = size_jdf, style = \"c\", pen = \"black\")\n",
    "# # fig.plot(x = events_cascadia_201210_lon, y = events_cascadia_201210_lat,  \n",
    "# #          color = 'yellow', size = size_cascadia, style = \"c\", pen = \"black\")\n",
    "# # fig.plot(x = events_USGS_201210_lon, y = events_USGS_201210_lat,  \n",
    "# #          color = 'green', size = size_USGS, style = \"c\", pen = \"black\")\n",
    "# # # Draw a line between two events that we consider to be the same event \n",
    "# # Draw a line between two events that we consider to be the same event \n",
    "# # fig.plot(x = (event_0239_lon,event_morton_0239_lon), y = (event_0239_lat,event_morton_0239_lat), pen =\"4p, red\")\n",
    "# # fig.plot(x = (event_0239_lon,event_morton_0239_lon), y = (event_0239_lat,event_morton_0308_lat), pen =\"4p, red\")\n",
    "# fig.plot(x=events[\"x\"], y=events[\"y\"], c=events[\"z\"],s=0.5,cmap='viridis')\n",
    "# fig.show()\n",
    "\n",
    "grid = pygmt.datasets.load_earth_relief(resolution=\"15s\", region=[-127, -123, 40, 50])\n",
    "fig.shift_origin(yshift=\"10c\")\n",
    "fig.grdimage(grid=grid, projection=\"M15c\", frame=\"a\", cmap=\"geo\", transparency = 50)\n",
    "pygmt.makecpt(cmap=\"hot\", series=[min(events['picks'].values), max(events['picks'].values)])\n",
    "fig.plot(\n",
    "    x=events[\"longitude\"].values,\n",
    "    y=events[\"latitude\"].values,\n",
    "    size=0.3 * np.ones(len(events)),\n",
    "    fill=events['picks'].values,\n",
    "    cmap=True,\n",
    "    style=\"cc\",\n",
    "    pen=\"black\",\n",
    ")\n",
    "fig.colorbar(frame=\"xaf+lNumber of Picks\")\n",
    "# fig.plot(x=events[\"longitude\"].values[0:200], y=events[\"latitude\"].values[0:200], style=\"c0.3c\", color=events['picks'].values[0:200], cmap='viridis', pen=\"black\")\n",
    "fig.show()"
   ]
  },
  {
   "cell_type": "code",
   "execution_count": null,
   "id": "09747c11",
   "metadata": {},
   "outputs": [],
   "source": []
  },
  {
   "cell_type": "markdown",
   "id": "4ee49480",
   "metadata": {},
   "source": [
    "## Association validation (not necessary anymore) \n",
    "Get the events from the USGS and compare with the events from the association\n"
   ]
  },
  {
   "cell_type": "code",
   "execution_count": null,
   "id": "75d2c561",
   "metadata": {},
   "outputs": [],
   "source": [
    "client = Client(\"USGS\")\n",
    "client_waveforms = WaveformClient()\n",
    "client.get_events(starttime = UTCDateTime(\"2012-10-14T00:00:00.000000\"),\n",
    "                  endtime   = UTCDateTime(\"2012-10-14T23:59:59.999999\"),\n",
    "                  minlatitude = 40, maxlatitude = 44, \n",
    "                  minlongitude = -125, maxlongitude = -120)\n"
   ]
  },
  {
   "cell_type": "code",
   "execution_count": null,
   "id": "5921ac85",
   "metadata": {},
   "outputs": [],
   "source": [
    "# Pick a station \n",
    "s = client_waveforms.get_waveforms(network=\"7D\", station=\"FS09B\", channel=\"BH?\", year=2012, month=10, day=14)\n",
    "s.filter(type='bandpass',freqmin=4,freqmax=15)"
   ]
  },
  {
   "cell_type": "code",
   "execution_count": null,
   "id": "52bc56fb",
   "metadata": {},
   "outputs": [],
   "source": [
    "# Pick a time that shows up in both the USGS catalog and the event data frame from the association above \n",
    "time1 = events.loc[1, 'time']"
   ]
  },
  {
   "cell_type": "code",
   "execution_count": null,
   "id": "e24b438d",
   "metadata": {},
   "outputs": [],
   "source": [
    "time1"
   ]
  },
  {
   "cell_type": "code",
   "execution_count": null,
   "id": "16eb9cc6",
   "metadata": {},
   "outputs": [],
   "source": [
    "trim_s = s.copy().trim(starttime = UTCDateTime(time1) - 20, \n",
    "                endtime = UTCDateTime(time1) + 40)\n",
    "fig = plt.figure(figsize = (10, 4))\n",
    "trim_s.plot(fig=fig)\n",
    "\n",
    "# [ax.axvline(pick.peak_time.matplotlib_date, \n",
    "#             linestyle = '--', color = 'r', label = f'{pick.phase} pick') for ax in fig.axes]\n",
    "# [ax.legend() for ax in fig.axes]"
   ]
  },
  {
   "cell_type": "code",
   "execution_count": null,
   "id": "ea03a6cb",
   "metadata": {},
   "outputs": [],
   "source": [
    "# Pick another time that shows up in both the USGS catalog and the event data frame from the association above \n",
    "time2 = events.loc[2, 'time']\n",
    "time2"
   ]
  },
  {
   "cell_type": "code",
   "execution_count": null,
   "id": "d6006088",
   "metadata": {},
   "outputs": [],
   "source": [
    "trim_s = s.copy().trim(starttime = UTCDateTime(time2) - 20, \n",
    "                endtime = UTCDateTime(time2) + 40)\n",
    "fig = plt.figure(figsize = (10, 4))\n",
    "trim_s.plot(fig=fig)\n",
    "\n",
    "# [ax.axvline(pick.peak_time.matplotlib_date, \n",
    "#             linestyle = '--', color = 'r', label = f'{pick.phase} pick') for ax in fig.axes]\n",
    "# [ax.legend() for ax in fig.axes]"
   ]
  },
  {
   "cell_type": "markdown",
   "id": "6382af9b",
   "metadata": {},
   "source": [
    "## Other Picks"
   ]
  },
  {
   "cell_type": "code",
   "execution_count": null,
   "id": "5109e9ee",
   "metadata": {},
   "outputs": [],
   "source": [
    "time = events['time']\n",
    "time"
   ]
  },
  {
   "cell_type": "code",
   "execution_count": null,
   "id": "dc7fe7f7",
   "metadata": {},
   "outputs": [],
   "source": [
    "time_possibly_new_events = time.drop(labels=[1,2], axis=0)\n",
    "time_possibly_new_events"
   ]
  },
  {
   "cell_type": "code",
   "execution_count": null,
   "id": "74e0cb1e",
   "metadata": {
    "scrolled": false
   },
   "outputs": [],
   "source": [
    "for time in time_possibly_new_events:\n",
    "    plt.figure(figsize=(10,10))\n",
    "    for i in range(len(stations)):\n",
    "        s = client_waveforms.get_waveforms(network=\"7D\", station=stations['id'][i], channel=\"?H?\", year=2012, month=10, day=14)\n",
    "        s = s.select(channel = \"[HB]H?\")\n",
    "        s.filter(type='bandpass',freqmin=4,freqmax=15)\n",
    "        if s[0].stats.channel == 'HH1':\n",
    "            s = s.resample(50)\n",
    "        else:\n",
    "            pass \n",
    "\n",
    "        trim_s = s.copy().trim(starttime = UTCDateTime(time) - 10, endtime = UTCDateTime(time) + 50)\n",
    "        sdata = np.array(trim_s)[:,:]\n",
    "        sdata_norm = (sdata-np.min(sdata, axis=1, keepdims=True))/(np.max(sdata, axis=1, keepdims=True)-np.min(sdata, axis=1, keepdims=True))\n",
    "        offsets2 = np.arange(0,3*len(sdata)*len(stations),3*len(sdata))\n",
    "\n",
    "        for ii in range(len(sdata)):\n",
    "            offsets1  = np.arange(0,len(sdata))\n",
    "            plt.plot(trim_s[ii].times(type='utcdatetime'), sdata_norm[ii]+offsets1[ii]+offsets2[i], color = 'gray', alpha=0.7, lw=0.5)    \n",
    "\n",
    "\n",
    "    plt.yticks(offsets2+1, stations['id'])\n",
    "    plt.axvline(time,ls='-', c='r')\n",
    "    plt.title(time)"
   ]
  },
  {
   "cell_type": "code",
   "execution_count": null,
   "id": "1ba96a54",
   "metadata": {},
   "outputs": [],
   "source": []
  },
  {
   "cell_type": "code",
   "execution_count": null,
   "id": "922d45d2",
   "metadata": {},
   "outputs": [],
   "source": []
  },
  {
   "cell_type": "code",
   "execution_count": null,
   "id": "ad773019",
   "metadata": {},
   "outputs": [],
   "source": []
  },
  {
   "cell_type": "code",
   "execution_count": null,
   "id": "8bf6a534",
   "metadata": {},
   "outputs": [],
   "source": []
  },
  {
   "cell_type": "code",
   "execution_count": null,
   "id": "0711c1ac",
   "metadata": {},
   "outputs": [],
   "source": []
  },
  {
   "cell_type": "code",
   "execution_count": null,
   "id": "56b6f13d",
   "metadata": {},
   "outputs": [],
   "source": []
  },
  {
   "cell_type": "code",
   "execution_count": null,
   "id": "6d113604",
   "metadata": {},
   "outputs": [],
   "source": []
  },
  {
   "cell_type": "code",
   "execution_count": null,
   "id": "4c756483",
   "metadata": {},
   "outputs": [],
   "source": []
  },
  {
   "cell_type": "code",
   "execution_count": null,
   "id": "07f5c96c",
   "metadata": {},
   "outputs": [],
   "source": []
  },
  {
   "cell_type": "code",
   "execution_count": null,
   "id": "541bb971",
   "metadata": {},
   "outputs": [],
   "source": [
    "# Plot waveforms of events picked by the associator but not on the USGS catalog\n",
    "time4 = events.loc[4, 'time']\n",
    "time4"
   ]
  },
  {
   "cell_type": "code",
   "execution_count": null,
   "id": "663b712a",
   "metadata": {},
   "outputs": [],
   "source": [
    "# s_FS09B = client_waveforms.get_waveforms(network=\"7D\", station=\"FS09B\", channel=\"BH?\", year=2012, month=10, day=14)\n",
    "# s_G10B = client_waveforms.get_waveforms(network=\"7D\", station=\"G10B\", channel=\"BH?\", year=2012, month=10, day=14)\n",
    "# s_G19B = client_waveforms.get_waveforms(network=\"7D\", station=\"G19B\", channel=\"BH?\", year=2012, month=10, day=14)\n",
    "# s_G25B = client_waveforms.get_waveforms(network=\"7D\", station=\"G25B\", channel=\"BH?\", year=2012, month=10, day=14)\n",
    "# s_G27B = client_waveforms.get_waveforms(network=\"7D\", station=\"G27B\", channel=\"BH?\", year=2012, month=10, day=14)\n",
    "# s_J09B = client_waveforms.get_waveforms(network=\"7D\", station=\"J09B\", channel=\"BH?\", year=2012, month=10, day=14)\n",
    "# s_M12B= client_waveforms.get_waveforms(network=\"7D\", station=\"M12B\", channel=\"BH?\", year=2012, month=10, day=14)\n",
    "# s_M14B = client_waveforms.get_waveforms(network=\"7D\", station=\"M14B\", channel=\"BH?\", year=2012, month=10, day=14)\n"
   ]
  },
  {
   "cell_type": "code",
   "execution_count": null,
   "id": "af5a9fec",
   "metadata": {},
   "outputs": [],
   "source": [
    "# trim_s_FS09B = s.copy().trim(starttime = UTCDateTime(time1) - 20, endtime = UTCDateTime(time1) + 40)\n",
    "# trim_s_G10B = s.copy().trim(starttime = UTCDateTime(time1) - 20, endtime = UTCDateTime(time1) + 40)\n",
    "# trim_s_G19B = s.copy().trim(starttime = UTCDateTime(time1) - 20, endtime = UTCDateTime(time1) + 40)\n",
    "# trim_s_G25B = s.copy().trim(starttime = UTCDateTime(time1) - 20, endtime = UTCDateTime(time1) + 40)\n",
    "# trim_s_G27B = s.copy().trim(starttime = UTCDateTime(time1) - 20, endtime = UTCDateTime(time1) + 40)\n",
    "# trim_s_J09B = s.copy().trim(starttime = UTCDateTime(time1) - 20, endtime = UTCDateTime(time1) + 40)\n",
    "# trim_s_M12B = s.copy().trim(starttime = UTCDateTime(time1) - 20, endtime = UTCDateTime(time1) + 40)\n",
    "# trim_s_M14B = s.copy().trim(starttime = UTCDateTime(time1) - 20, endtime = UTCDateTime(time1) + 40)\n",
    "\n"
   ]
  },
  {
   "cell_type": "code",
   "execution_count": null,
   "id": "fccedef5",
   "metadata": {
    "scrolled": true
   },
   "outputs": [],
   "source": [
    "for i, station in enumerate(stations['id']):\n",
    "    s = client_waveforms.get_waveforms(network=\"7D\", station=station, channel=\"?H?\", year=2012, month=10, day=14)\n",
    "    s = s.select(channel = \"[HB]H?\")\n",
    "    s.filter(type='bandpass',freqmin=4,freqmax=15)\n",
    "    trim_s = s.copy().trim(starttime = UTCDateTime(pick_time[4]) - 20, endtime = UTCDateTime(pick_time[4]) + 100)\n",
    "    fig = plt.figure(figsize=(10,4))\n",
    "    trim_s.plot(fig=fig)\n",
    "    [ax.axvline(pick_time[4], \n",
    "            linestyle = '--', color = 'r', label = 'pick time') for ax in fig.axes]    \n"
   ]
  },
  {
   "cell_type": "code",
   "execution_count": null,
   "id": "2f71da0a",
   "metadata": {},
   "outputs": [],
   "source": [
    "offsets1  = np.arange(0,3)\n",
    "offsets2 = np.arange(0,2*len(stations),2)\n",
    "\n"
   ]
  },
  {
   "cell_type": "code",
   "execution_count": null,
   "id": "afb10228",
   "metadata": {},
   "outputs": [],
   "source": [
    "offsets1"
   ]
  },
  {
   "cell_type": "code",
   "execution_count": null,
   "id": "12481d1c",
   "metadata": {},
   "outputs": [],
   "source": [
    "offsets2 = np.arange(0,2*10000*len(stations),2*10000)\n",
    "\n",
    "offsets2"
   ]
  },
  {
   "cell_type": "code",
   "execution_count": null,
   "id": "6c636fb6",
   "metadata": {},
   "outputs": [],
   "source": [
    "plt.figure()\n",
    "offsets2 = np.arange(0,5*10000*len(stations),5*10000)\n",
    "\n",
    "for i, station in enumerate(stations['id']):\n",
    "    s = client_waveforms.get_waveforms(network=\"7D\", station=station, channel=\"?H?\", year=2012, month=10, day=14)\n",
    "    s = s.select(channel = \"[HB]H?\")\n",
    "    s.filter(type='bandpass',freqmin=4,freqmax=15)\n",
    "    trim_s = s.copy().trim(starttime = UTCDateTime(pick_time[4]) - 20, endtime = UTCDateTime(pick_time[4]) + 100)\n",
    "    sdata = np.array(trim_s)[:,:]\n",
    "    for ii in range(len(sdata)):\n",
    "        offsets1  = np.arange(0,10000*len(sdata),10000)\n",
    "        plt.plot(sdata[ii].T+offsets1[ii]+offsets2[i], color = 'gray', alpha=0.5)   \n"
   ]
  },
  {
   "cell_type": "code",
   "execution_count": null,
   "id": "dd3cf9cb",
   "metadata": {},
   "outputs": [],
   "source": [
    "offsets2 = np.arange(0,5*100000*len(stations),5*100000)\n",
    "\n",
    "\n",
    "s = client_waveforms.get_waveforms(network=\"7D\", station=stations['id'][0], channel=\"?H?\", year=2012, month=10, day=14)\n",
    "s = s.select(channel = \"[HB]H?\")\n",
    "s.filter(type='bandpass',freqmin=4,freqmax=15)\n",
    "sampling_rate = s[0].stats.sampling_rate\n",
    "trim_s = s.copy().trim(starttime = UTCDateTime(pick_time[4]) - 10, endtime = UTCDateTime(pick_time[4]) + 50)\n",
    "sdata = np.array(trim_s)[:,:]\n",
    "sdata_norm = (sdata - np.mean(sdata, axis=1, keepdims=True))/(np.std(sdata, axis=1, keepdims=True))\n",
    "\n",
    "for ii in range(len(sdata)):\n",
    "    offsets1  = np.arange(0,len(sdata))\n",
    "    plt.plot(sdata_norm.T+offsets1[ii], color = 'gray', alpha=0.5, lw=0.5)\n",
    "\n",
    "plt.axvline(10*sampling_rate,ls='-', c='r')\n",
    "    \n"
   ]
  },
  {
   "cell_type": "code",
   "execution_count": null,
   "id": "6db09907",
   "metadata": {},
   "outputs": [],
   "source": [
    "sdata.mean()"
   ]
  },
  {
   "cell_type": "code",
   "execution_count": null,
   "id": "d49994be",
   "metadata": {},
   "outputs": [],
   "source": [
    "s[0].stats.sampling_rate*120"
   ]
  },
  {
   "cell_type": "code",
   "execution_count": null,
   "id": "c0574f27",
   "metadata": {},
   "outputs": [],
   "source": [
    "s = client_waveforms.get_waveforms(network=\"7D\", station=stations['id'][3], channel=\"?H?\", year=2012, month=10, day=14)\n",
    "s = s.select(channel = \"[HB]H?\")\n",
    "s.filter(type='bandpass',freqmin=4,freqmax=15)\n",
    "trim_s = s.copy().trim(starttime = UTCDateTime(pick_time[4]) - 10, endtime = UTCDateTime(pick_time[4]) + 50)\n",
    "sdata = np.array(trim_s)[:,:]\n",
    "sdata_norm = (sdata - np.mean(sdata, axis=1, keepdims=True))/(np.std(sdata, axis=1, keepdims=True))\n",
    "\n",
    "for ii in range(len(sdata)):\n",
    "    offsets1  = np.arange(0,len(sdata))\n",
    "    plt.plot(sdata_norm.T+offsets1[ii], color = 'gray', alpha=0.5, lw=0.5)"
   ]
  },
  {
   "cell_type": "code",
   "execution_count": null,
   "id": "e6b0cb7a",
   "metadata": {},
   "outputs": [],
   "source": [
    "plt.figure(figsize=(10,10))\n",
    "offsets2 = np.arange(0,3*len(sdata)*len(stations),3*len(sdata))\n",
    "\n",
    "for i in range(len(stations)):\n",
    "    s = client_waveforms.get_waveforms(network=\"7D\", station=stations['id'][i], channel=\"?H?\", year=2012, month=10, day=14)\n",
    "    s = s.select(channel = \"[HB]H?\")\n",
    "    s.filter(type='bandpass',freqmin=4,freqmax=15)\n",
    "    trim_s = s.copy().trim(starttime = UTCDateTime(pick_time[4]) - 10, endtime = UTCDateTime(pick_time[4]) + 50)\n",
    "    sdata = np.array(trim_s)[:,:]\n",
    "    sdata_norm = (sdata - np.mean(sdata, axis=1, keepdims=True))/(np.std(sdata, axis=1, keepdims=True))\n",
    "\n",
    "    for ii in range(len(sdata)):\n",
    "        offsets1  = np.arange(0,len(sdata))\n",
    "        plt.plot(sdata_norm.T+offsets1[ii]+offsets2[i], color = 'gray', alpha=0.5, lw=0.5)    \n",
    "\n",
    "plt.axvline(10*sampling_rate,ls='-', c='r')\n"
   ]
  },
  {
   "cell_type": "code",
   "execution_count": null,
   "id": "19c686e5",
   "metadata": {},
   "outputs": [],
   "source": [
    "offsets2 = np.arange(0,3*len(sdata)*len(stations),3*len(sdata))\n",
    "offsets2"
   ]
  },
  {
   "cell_type": "code",
   "execution_count": null,
   "id": "e7018b5d",
   "metadata": {},
   "outputs": [],
   "source": [
    "np.mean(sdata, axis=1, keepdims=True)"
   ]
  },
  {
   "cell_type": "code",
   "execution_count": null,
   "id": "0e2ae66a",
   "metadata": {},
   "outputs": [],
   "source": [
    "sdata"
   ]
  },
  {
   "cell_type": "code",
   "execution_count": null,
   "id": "ae3a3c94",
   "metadata": {
    "scrolled": true
   },
   "outputs": [],
   "source": [
    "np.mean(sdata[0])"
   ]
  },
  {
   "cell_type": "code",
   "execution_count": null,
   "id": "21ad1bd4",
   "metadata": {},
   "outputs": [],
   "source": [
    "(sdata - np.mean(sdata, axis=1, keepdims=True))/(np.std(sdata, axis=1, keepdims=True))"
   ]
  },
  {
   "cell_type": "code",
   "execution_count": null,
   "id": "d22e3aa6",
   "metadata": {},
   "outputs": [],
   "source": [
    "(225.73644077-0.28159811)/20312.08876045"
   ]
  },
  {
   "cell_type": "code",
   "execution_count": null,
   "id": "195cbc12",
   "metadata": {},
   "outputs": [],
   "source": [
    "np.std(sdata, axis=1, keepdims=True) "
   ]
  },
  {
   "cell_type": "code",
   "execution_count": null,
   "id": "5d683445",
   "metadata": {},
   "outputs": [],
   "source": [
    "sdata"
   ]
  },
  {
   "cell_type": "code",
   "execution_count": null,
   "id": "52abdd98",
   "metadata": {},
   "outputs": [],
   "source": [
    "np.max(sdata, axis=1, keepdims=True)"
   ]
  },
  {
   "cell_type": "code",
   "execution_count": null,
   "id": "5300ce85",
   "metadata": {},
   "outputs": [],
   "source": [
    "np.min(sdata, axis=1, keepdims=True)"
   ]
  },
  {
   "cell_type": "code",
   "execution_count": null,
   "id": "2fd831f7",
   "metadata": {},
   "outputs": [],
   "source": [
    "(sdata-np.min(sdata, axis=1, keepdims=True))/(np.max(sdata, axis=1, keepdims=True)-np.min(sdata, axis=1, keepdims=True))"
   ]
  },
  {
   "cell_type": "code",
   "execution_count": null,
   "id": "ab06af2b",
   "metadata": {},
   "outputs": [],
   "source": [
    "plt.figure(figsize=(10,10))\n",
    "offsets2 = np.arange(0,3*len(sdata)*len(stations),3*len(sdata))\n",
    "\n",
    "for i in range(len(stations)):\n",
    "    s = client_waveforms.get_waveforms(network=\"7D\", station=stations['id'][i], channel=\"?H?\", year=2012, month=10, day=14)\n",
    "    s = s.select(channel = \"[HB]H?\")\n",
    "    s.filter(type='bandpass',freqmin=4,freqmax=15)\n",
    "    trim_s = s.copy().trim(starttime = UTCDateTime(pick_time[4]) - 10, endtime = UTCDateTime(pick_time[4]) + 50)\n",
    "    sdata = np.array(trim_s)[:,:]\n",
    "    if s[0].stats.channel == 'HH1':\n",
    "        new_rate = 50\n",
    "        number_of_samples = round(len(sdata[0]) * float(new_rate) /s[0].stats.sampling_rate)\n",
    "        sdata = signal.resample(sdata, number_of_samples, axis=-1)\n",
    "    else:\n",
    "        pass \n",
    "    print(len(sdata[-1]))\n",
    "    sdata_norm = (sdata-np.min(sdata, axis=1, keepdims=True))/(np.max(sdata, axis=1, keepdims=True)-np.min(sdata, axis=1, keepdims=True))\n",
    "    for ii in range(len(sdata)):\n",
    "        offsets1  = np.arange(0,len(sdata))\n",
    "        plt.plot(sdata_norm.T+offsets1[ii]+offsets2[i], color = 'gray', alpha=0.5, lw=0.5)    \n",
    "\n",
    "plt.axvline(10*sampling_rate,ls='-', c='r')\n",
    "# plt.xlim(0,3000)\n"
   ]
  },
  {
   "cell_type": "code",
   "execution_count": null,
   "id": "af90cc14",
   "metadata": {},
   "outputs": [],
   "source": [
    "s = client_waveforms.get_waveforms(network=\"7D\", station=stations['id'][3], channel=\"?H?\", year=2012, month=10, day=14)\n",
    "s = s.select(channel = \"[HB]H?\")\n",
    "s.filter(type='bandpass',freqmin=4,freqmax=15)\n",
    "trim_s = s.copy().trim(starttime = UTCDateTime(pick_time[4]) - 10, endtime = UTCDateTime(pick_time[4]) + 50)\n",
    "sdata = np.array(trim_s)[:,:]\n",
    "sdata_norm = (sdata-np.min(sdata, axis=1, keepdims=True))/(np.max(sdata, axis=1, keepdims=True)-np.min(sdata, axis=1, keepdims=True))"
   ]
  },
  {
   "cell_type": "code",
   "execution_count": null,
   "id": "bb688b1e",
   "metadata": {},
   "outputs": [],
   "source": [
    "UTCDateTime(pick_time[4]) - 10"
   ]
  },
  {
   "cell_type": "code",
   "execution_count": null,
   "id": "c2c7c95c",
   "metadata": {},
   "outputs": [],
   "source": [
    "UTCDateTime(pick_time[4]) + 50"
   ]
  },
  {
   "cell_type": "code",
   "execution_count": null,
   "id": "34d6a893",
   "metadata": {},
   "outputs": [],
   "source": [
    "s[0].stats.sampling_rate"
   ]
  },
  {
   "cell_type": "code",
   "execution_count": null,
   "id": "9d907651",
   "metadata": {},
   "outputs": [],
   "source": [
    "s[0].stats.channel"
   ]
  },
  {
   "cell_type": "code",
   "execution_count": null,
   "id": "535ee984",
   "metadata": {},
   "outputs": [],
   "source": [
    "len(s[-1])"
   ]
  },
  {
   "cell_type": "code",
   "execution_count": null,
   "id": "b168bade",
   "metadata": {},
   "outputs": [],
   "source": [
    "s[0].stats.sampling_rate"
   ]
  },
  {
   "cell_type": "code",
   "execution_count": null,
   "id": "a83dc622",
   "metadata": {},
   "outputs": [],
   "source": [
    "s[0].stats.channel"
   ]
  },
  {
   "cell_type": "code",
   "execution_count": null,
   "id": "1d572a67",
   "metadata": {},
   "outputs": [],
   "source": [
    "len(s[-1])"
   ]
  },
  {
   "cell_type": "code",
   "execution_count": null,
   "id": "7e7f277e",
   "metadata": {},
   "outputs": [],
   "source": [
    "s = signal.decimate(s, 125/50, axis=-1)"
   ]
  },
  {
   "cell_type": "code",
   "execution_count": null,
   "id": "63d03af5",
   "metadata": {},
   "outputs": [],
   "source": [
    "np.array(s)"
   ]
  },
  {
   "cell_type": "code",
   "execution_count": null,
   "id": "a13c4a5b",
   "metadata": {},
   "outputs": [],
   "source": [
    "int(125/50)"
   ]
  },
  {
   "cell_type": "code",
   "execution_count": null,
   "id": "f395161d",
   "metadata": {},
   "outputs": [],
   "source": [
    "new_rate = 50\n",
    "number_of_samples = round(len(s[0]) * float(new_rate) / 125)\n",
    "number_of_samples"
   ]
  },
  {
   "cell_type": "code",
   "execution_count": null,
   "id": "f6af4263",
   "metadata": {},
   "outputs": [],
   "source": [
    "s = signal.resample(s, number_of_samples, axis=-1)\n",
    "len(s[-1])"
   ]
  },
  {
   "cell_type": "code",
   "execution_count": null,
   "id": "cabd13f2",
   "metadata": {},
   "outputs": [],
   "source": [
    "s"
   ]
  },
  {
   "cell_type": "code",
   "execution_count": null,
   "id": "5956c34a",
   "metadata": {},
   "outputs": [],
   "source": [
    "s = client_waveforms.get_waveforms(network=\"7D\", station=stations['id'][3], channel=\"?H?\", year=2012, month=10, day=14)\n",
    "s = s.select(channel = \"[HB]H?\")\n",
    "s.filter(type='bandpass',freqmin=4,freqmax=15)\n",
    "trim_s = s.copy().trim(starttime = UTCDateTime(pick_time[4]) - 10, endtime = UTCDateTime(pick_time[4]) + 50)\n",
    "sdata = np.array(trim_s)[:,:]\n",
    "print(len(sdata[-1]))\n",
    "\n",
    "new_rate = 50\n",
    "number_of_samples = round(len(sdata[0]) * float(new_rate) /s[0].stats.sampling_rate)\n",
    "sdata = signal.resample(sdata, number_of_samples, axis=-1)\n",
    "print(len(sdata[-1]))"
   ]
  },
  {
   "cell_type": "code",
   "execution_count": null,
   "id": "0d085d1e",
   "metadata": {},
   "outputs": [],
   "source": [
    "trim_s[0].times(reftime=UTCDateTime(pick_time[4]) - 10)"
   ]
  },
  {
   "cell_type": "code",
   "execution_count": null,
   "id": "97840d66",
   "metadata": {},
   "outputs": [],
   "source": [
    "UTCDateTime(pick_time[4])"
   ]
  },
  {
   "cell_type": "code",
   "execution_count": null,
   "id": "831d72ec",
   "metadata": {},
   "outputs": [],
   "source": [
    "trim_s.trigger('recstalta',sta=1, lta=4)"
   ]
  },
  {
   "cell_type": "code",
   "execution_count": null,
   "id": "0ef2ff26",
   "metadata": {},
   "outputs": [],
   "source": [
    "trim_s.plot()"
   ]
  },
  {
   "cell_type": "code",
   "execution_count": null,
   "id": "b6d72b35",
   "metadata": {},
   "outputs": [],
   "source": [
    "plt.figure(figsize=(10,10))\n",
    "offsets2 = np.arange(0,3*len(sdata)*len(stations),3*len(sdata))\n",
    "\n",
    "for i in range(len(stations)):\n",
    "    s = client_waveforms.get_waveforms(network=\"7D\", station=stations['id'][i], channel=\"?H?\", year=2012, month=10, day=14)\n",
    "    s = s.select(channel = \"[HB]H?\")\n",
    "    s.filter(type='bandpass',freqmin=4,freqmax=15)\n",
    "    if s[0].stats.channel == 'HH1':\n",
    "        s = s.resample(50)\n",
    "    else:\n",
    "        pass \n",
    "    \n",
    "    trim_s = s.copy().trim(starttime = UTCDateTime(pick_time[4]) - 10, endtime = UTCDateTime(pick_time[4]) + 50)\n",
    "    sdata = np.array(trim_s)[:,:]\n",
    "    sdata_norm = (sdata-np.min(sdata, axis=1, keepdims=True))/(np.max(sdata, axis=1, keepdims=True)-np.min(sdata, axis=1, keepdims=True))\n",
    "    \n",
    "    for ii in range(len(sdata)):\n",
    "        offsets1  = np.arange(0,len(sdata))\n",
    "        plt.plot(trim_s[ii].times(type='utcdatetime'), sdata_norm[ii]+offsets1[ii]+offsets2[i], color = 'gray', alpha=0.7, lw=0.5)    \n",
    "    \n",
    "\n",
    "plt.yticks(offsets2+1, stations['id'])\n",
    "plt.axvline(pick_time[4],ls='-', c='r')\n",
    "plt.title(pick_time[4])\n",
    "\n",
    "# plt.xlim(0,3000)\n"
   ]
  },
  {
   "cell_type": "code",
   "execution_count": null,
   "id": "008cc67e",
   "metadata": {},
   "outputs": [],
   "source": []
  },
  {
   "cell_type": "code",
   "execution_count": null,
   "id": "54291c17",
   "metadata": {},
   "outputs": [],
   "source": [
    "np.arange(0,3*len(sdata)*len(stations),3*len(sdata))"
   ]
  },
  {
   "cell_type": "code",
   "execution_count": null,
   "id": "4424bc02",
   "metadata": {},
   "outputs": [],
   "source": [
    "stations['id']"
   ]
  },
  {
   "cell_type": "code",
   "execution_count": null,
   "id": "1d2f0ca4",
   "metadata": {},
   "outputs": [],
   "source": [
    "all_picks, all_detections = model.classify(sdata)"
   ]
  },
  {
   "cell_type": "code",
   "execution_count": null,
   "id": "4fa17a55",
   "metadata": {},
   "outputs": [],
   "source": [
    "picks_G25B =  pd.read_csv(\"~/notebooks/data/catalogs_elep_filtered_stations_20121001_to_20121031/G25B_20121014.csv\",index_col=0)\n",
    "picks_G25B"
   ]
  },
  {
   "cell_type": "code",
   "execution_count": null,
   "id": "2acfad2f",
   "metadata": {},
   "outputs": [],
   "source": [
    "pick_time[4]"
   ]
  },
  {
   "cell_type": "markdown",
   "id": "138c8708",
   "metadata": {},
   "source": [
    "## Plot the associated events on a map"
   ]
  },
  {
   "cell_type": "code",
   "execution_count": null,
   "id": "cb9e1552",
   "metadata": {},
   "outputs": [],
   "source": [
    "import pygmt\n",
    "\n",
    "fig = pygmt.Figure()\n",
    "grid = pygmt.datasets.load_earth_relief(resolution=\"15s\", region=[-126, -124, 40, 43])\n",
    "# fig.shift_origin(yshift=\"10c\")\n",
    "fig.grdimage(grid=grid, projection=\"M15c\", frame=\"a\", cmap=\"geo\", transparency = 50)\n",
    "fig.plot(x = events_morton_lon, y = events_morton_lat,  \n",
    "         color = 'blue', size = size_morton, style = \"c\", pen = \"black\")\n",
    "fig.plot(x = events_longitude, y = events_latitude,  \n",
    "         color = 'red', size = size, style = \"c\", pen = \"black\")\n",
    "fig.plot(x = events_jdf_lon, y = events_jdf_lat,  \n",
    "         color = 'yellow', size = size_jdf, style = \"c\", pen = \"black\")\n",
    "fig.plot(x = events_cascadia_lon, y = events_cascadia_lat,  \n",
    "         color = 'yellow', size = size_cascadia, style = \"c\", pen = \"black\")\n",
    "# # Draw a line between two events that we consider to be the same event \n",
    "# fig.plot(x = [, y = events_cascadia_lat,  \n",
    "#          color = 'yellow', size = size_cascadia, style = \"c\", pen = \"black\")\n",
    "\n",
    "fig.show()"
   ]
  },
  {
   "cell_type": "code",
   "execution_count": null,
   "id": "7ac735d6",
   "metadata": {},
   "outputs": [],
   "source": [
    "events_longitude = events['longitude']\n",
    "events_longitude"
   ]
  },
  {
   "cell_type": "code",
   "execution_count": null,
   "id": "858fa46e",
   "metadata": {},
   "outputs": [],
   "source": [
    "events_latitude = events['latitude']\n",
    "events_latitude "
   ]
  },
  {
   "cell_type": "code",
   "execution_count": null,
   "id": "b9552623",
   "metadata": {},
   "outputs": [],
   "source": [
    "# Assign the size of 0.5 to all the points for the associated events \n",
    "\n",
    "size = np.zeros(len(events))\n",
    "for i in range(len(events)):\n",
    "    size[i] = 0.2"
   ]
  },
  {
   "cell_type": "code",
   "execution_count": null,
   "id": "06a70bd2",
   "metadata": {},
   "outputs": [],
   "source": [
    "size_jdf = np.zeros(len(events_jdf))\n",
    "for i in range(len(events_jdf)):\n",
    "    size_jdf[i] = 0.2"
   ]
  },
  {
   "cell_type": "code",
   "execution_count": null,
   "id": "bb70da38",
   "metadata": {},
   "outputs": [],
   "source": [
    "size_cascadia = np.zeros(len(events_cascadia))\n",
    "for i in range(len(events_cascadia)):\n",
    "    size_cascadia[i] = 0.2"
   ]
  },
  {
   "cell_type": "code",
   "execution_count": null,
   "id": "ce8e9541",
   "metadata": {},
   "outputs": [],
   "source": [
    "size_morton = np.zeros(len(events_morton))\n",
    "for i in range(len(events_morton)):\n",
    "    size_morton[i] = 0.2"
   ]
  },
  {
   "cell_type": "code",
   "execution_count": null,
   "id": "73d6a339",
   "metadata": {},
   "outputs": [],
   "source": [
    "len(size_cascadia)"
   ]
  },
  {
   "cell_type": "code",
   "execution_count": null,
   "id": "f2cc6940",
   "metadata": {},
   "outputs": [],
   "source": [
    "size"
   ]
  },
  {
   "cell_type": "code",
   "execution_count": null,
   "id": "e0d2ffb4",
   "metadata": {},
   "outputs": [],
   "source": [
    "events"
   ]
  },
  {
   "cell_type": "code",
   "execution_count": null,
   "id": "6e9ad89c",
   "metadata": {},
   "outputs": [],
   "source": [
    "type(events_latitude.shape)"
   ]
  },
  {
   "cell_type": "code",
   "execution_count": null,
   "id": "c9010046",
   "metadata": {},
   "outputs": [],
   "source": [
    "events_longitude.shape"
   ]
  },
  {
   "cell_type": "markdown",
   "id": "d47ceff7",
   "metadata": {},
   "source": [
    "## Load Data from Ian Stone's Paper"
   ]
  },
  {
   "cell_type": "code",
   "execution_count": null,
   "id": "3d24aafa",
   "metadata": {},
   "outputs": [],
   "source": [
    "events_cascadia = pd.read_csv('jgrb52524-sup-0002-2017jb014966-ds01.csv')\n",
    "events_jdf = pd.read_csv('jgrb52524-sup-0003-2017jb014966-ds02.csv')"
   ]
  },
  {
   "cell_type": "code",
   "execution_count": null,
   "id": "23f40e99",
   "metadata": {},
   "outputs": [],
   "source": [
    "events_cascadia[0:5]"
   ]
  },
  {
   "cell_type": "code",
   "execution_count": null,
   "id": "f8c8b46e",
   "metadata": {},
   "outputs": [],
   "source": [
    "events_jdf[0:5]"
   ]
  },
  {
   "cell_type": "code",
   "execution_count": null,
   "id": "49bab0b3",
   "metadata": {},
   "outputs": [],
   "source": [
    "# Get the latitude and longitude from Stone's catalog for JDF\n",
    "events_jdf_lon = events_jdf['Longitude']\n",
    "events_jdf_lat = events_jdf['Latitude']\n",
    "events_jdf_lat"
   ]
  },
  {
   "cell_type": "code",
   "execution_count": null,
   "id": "0436e3f9",
   "metadata": {},
   "outputs": [],
   "source": [
    "# Get the latitude and longitude from Stone's catalog for Cascadia\n",
    "events_cascadia_lon = events_cascadia['Longitude']\n",
    "events_cascadia_lat = events_cascadia['Latitude']\n",
    "events_cascadia_lon"
   ]
  },
  {
   "cell_type": "code",
   "execution_count": null,
   "id": "7de12c8c",
   "metadata": {},
   "outputs": [],
   "source": [
    "df.loc[df['datetime'] > datetime.datetime(2012, 10,12)]"
   ]
  },
  {
   "cell_type": "code",
   "execution_count": null,
   "id": "29143368",
   "metadata": {},
   "outputs": [],
   "source": [
    "df = pd.read_excel(\"jgrb52524-sup-0003-2017jb014966-ds02.xls\", header = None, skiprows = 1,\n",
    "              names = [\"Timestamp\", \"Longitude\", \"Latitude\", \"Depth (km)\", \"RMS (s)\", \"CI Year\"])\n",
    "\n",
    "df['datetime'] = df.apply(lambda a: datetime.datetime.fromtimestamp(a['Timestamp']), axis = 1)\n",
    "df"
   ]
  },
  {
   "cell_type": "markdown",
   "id": "c57cc902",
   "metadata": {},
   "source": [
    "- No events to match up with our associated events in the ds01 catalog from Stone's paper.\n",
    "- No events to match up with our associated events in the ds02 catalog from Stone's paper."
   ]
  },
  {
   "cell_type": "markdown",
   "id": "cc1e1829",
   "metadata": {},
   "source": [
    "## Load Data from Morton's Paper"
   ]
  },
  {
   "cell_type": "code",
   "execution_count": null,
   "id": "a905d172",
   "metadata": {},
   "outputs": [],
   "source": [
    "# Read Morton's catalog\n",
    "events_morton = pd.read_csv('ds01.csv')"
   ]
  },
  {
   "cell_type": "code",
   "execution_count": null,
   "id": "95bf9a45",
   "metadata": {},
   "outputs": [],
   "source": [
    "# Get the latitudes and longitudes for the events \n",
    "events_morton_lon = events_morton['LON']\n",
    "events_morton_lat = events_morton['LAT']"
   ]
  },
  {
   "cell_type": "code",
   "execution_count": null,
   "id": "bc0029d9",
   "metadata": {},
   "outputs": [],
   "source": [
    "events_morton_lat[0:5]"
   ]
  },
  {
   "cell_type": "code",
   "execution_count": null,
   "id": "5bec961d",
   "metadata": {},
   "outputs": [],
   "source": [
    "events_morton_lon[0:5]"
   ]
  },
  {
   "cell_type": "code",
   "execution_count": null,
   "id": "6cd524ee",
   "metadata": {},
   "outputs": [],
   "source": [
    "len(events_morton_lat)"
   ]
  },
  {
   "cell_type": "code",
   "execution_count": null,
   "id": "15f73a0b",
   "metadata": {},
   "outputs": [],
   "source": [
    "# Pull out the events for Oct 14, 2012 from the ds01 catalog from Morton's paper\n",
    "events_morton[671:674]"
   ]
  },
  {
   "cell_type": "code",
   "execution_count": null,
   "id": "4a2f5ce0",
   "metadata": {},
   "outputs": [],
   "source": [
    "events_morton.loc[673]"
   ]
  },
  {
   "cell_type": "code",
   "execution_count": null,
   "id": "2bba3343",
   "metadata": {},
   "outputs": [],
   "source": [
    "# Get the latitude and longitude for the event at 2:39 \n",
    "event_morton_0229_lat = events_morton.loc[671, 'LAT']\n",
    "event_morton_0229_lon = events_morton.loc[671, 'LON']"
   ]
  },
  {
   "cell_type": "code",
   "execution_count": null,
   "id": "5f5eb8ba",
   "metadata": {},
   "outputs": [],
   "source": [
    "# Get the latitude and longitude for the event at 3:08\n",
    "event_morton_0308_lat = events_morton.loc[672, 'LAT']\n",
    "event_morton_0308_lon = events_morton.loc[672, 'LON']"
   ]
  },
  {
   "cell_type": "code",
   "execution_count": null,
   "id": "7764f193",
   "metadata": {},
   "outputs": [],
   "source": [
    "events"
   ]
  },
  {
   "cell_type": "code",
   "execution_count": null,
   "id": "4d10cba4",
   "metadata": {},
   "outputs": [],
   "source": [
    "\n",
    "event_0229_lat = events.loc[1, 'latitude']\n",
    "event_0229_lon = events.loc[1, 'longitude']"
   ]
  },
  {
   "cell_type": "code",
   "execution_count": null,
   "id": "716074c3",
   "metadata": {},
   "outputs": [],
   "source": [
    "event_0308_lat = events.loc[2, 'latitude']\n",
    "event_0308_lon = events.loc[2, 'longitude']"
   ]
  },
  {
   "cell_type": "markdown",
   "id": "819f07f9",
   "metadata": {},
   "source": [
    "## Load data from the USGS catalog"
   ]
  },
  {
   "cell_type": "code",
   "execution_count": null,
   "id": "a9df3c08",
   "metadata": {},
   "outputs": [],
   "source": [
    "client = Client(\"USGS\")\n",
    "client_waveforms = WaveformClient()\n",
    "events_USGS = client.get_events(starttime = UTCDateTime(\"2012-10-14T00:00:00.000000\"),\n",
    "                  endtime   = UTCDateTime(\"2012-10-14T23:59:59.999999\"),\n",
    "                  minlatitude = 40, maxlatitude = 44, \n",
    "                  minlongitude = -125, maxlongitude = -120)\n",
    "events_USGS"
   ]
  },
  {
   "cell_type": "code",
   "execution_count": null,
   "id": "2983cc27",
   "metadata": {},
   "outputs": [],
   "source": [
    "event_USGS_0229_lat = 40.301\n",
    "event_USGS_0229_lon = -124.416"
   ]
  },
  {
   "cell_type": "code",
   "execution_count": null,
   "id": "56cffc5a",
   "metadata": {},
   "outputs": [],
   "source": [
    "event_USGS_0308_lat = 40.721\n",
    "event_USGS_0308_lon = -124.210"
   ]
  },
  {
   "cell_type": "code",
   "execution_count": null,
   "id": "ea7191b9",
   "metadata": {},
   "outputs": [],
   "source": []
  },
  {
   "cell_type": "code",
   "execution_count": null,
   "id": "ec07dfa5",
   "metadata": {},
   "outputs": [],
   "source": []
  },
  {
   "cell_type": "code",
   "execution_count": null,
   "id": "c0045919",
   "metadata": {},
   "outputs": [],
   "source": []
  },
  {
   "cell_type": "code",
   "execution_count": null,
   "id": "396ec7ac",
   "metadata": {},
   "outputs": [],
   "source": []
  },
  {
   "cell_type": "markdown",
   "id": "efd77ec8",
   "metadata": {},
   "source": [
    "# Plot the line between the matched events"
   ]
  },
  {
   "cell_type": "code",
   "execution_count": null,
   "id": "2520f161",
   "metadata": {},
   "outputs": [],
   "source": [
    "import pygmt\n",
    "\n",
    "fig = pygmt.Figure()\n",
    "grid = pygmt.datasets.load_earth_relief(resolution=\"15s\", region=[-126, -124, 40, 43])\n",
    "# fig.shift_origin(yshift=\"10c\")\n",
    "fig.basemap(frame=[\"a\",'+tThe Associated Events with Previously Cataloged Events',\"WSne\", \"xaf+lx-axis\", \"yaf+ly-axis\"])\n",
    "fig.grdimage(grid=grid, projection=\"M15c\", frame='a', cmap=\"geo\", transparency = 50)\n",
    "# Plot Morton's catalog\n",
    "fig.plot(x = events_morton_lon, y = events_morton_lat,  \n",
    "         color = 'blue', size = size_morton, style = \"c\", pen = \"black\", label='Morton 2023')\n",
    "# Plot our association events\n",
    "fig.plot(x = events_longitude, y = events_latitude,  \n",
    "         color = 'red', size = size, style = \"c\", pen = \"black\", label='Associated Events')\n",
    "# Plot Stone's catalog for JDF\n",
    "fig.plot(x = events_jdf_lon, y = events_jdf_lat,  \n",
    "         color = 'yellow', size = size_jdf, style = \"c\", pen = \"black\", label='Stone et al, 2018')\n",
    "# Plot Stone's catalog for Cascadia\n",
    "fig.plot(x = events_cascadia_lon, y = events_cascadia_lat,  \n",
    "         color = 'yellow', size = size_cascadia, style = \"c\", pen = \"black\",label='Stone et al, 2018')\n",
    "# Draw a line between two events that we consider to be the same event \n",
    "fig.plot(x = (event_0229_lon,event_morton_0229_lon,event_USGS_0229_lon), y = (event_0229_lat,event_morton_0229_lat,event_USGS_0229_lat), pen =\"4p, green\")\n",
    "fig.plot(x = (event_0308_lon,event_morton_0308_lon,event_USGS_0308_lon), y = (event_0308_lat,event_morton_0308_lat,event_USGS_0308_lat), pen =\"4p, green\")\n",
    "\n",
    "# fig.plot(x = [42.5,42.5,42.5], y = [-125.5,-125,-124.5],  \n",
    "#          color = ['red','yellow','blue'], size = [1,1,1], style = \"c\", pen =\"black\")\n",
    "fig.legend()\n",
    "fig.show()"
   ]
  },
  {
   "cell_type": "code",
   "execution_count": null,
   "id": "ba6d0a8d",
   "metadata": {},
   "outputs": [],
   "source": [
    "event_0229_lon"
   ]
  },
  {
   "cell_type": "code",
   "execution_count": null,
   "id": "5871b376",
   "metadata": {},
   "outputs": [],
   "source": [
    "event_0229_lat"
   ]
  },
  {
   "cell_type": "code",
   "execution_count": null,
   "id": "a7e19369",
   "metadata": {},
   "outputs": [],
   "source": []
  }
 ],
 "metadata": {
  "kernelspec": {
   "display_name": "seismo (SHARED)",
   "language": "python",
   "name": "seismo"
  },
  "language_info": {
   "codemirror_mode": {
    "name": "ipython",
    "version": 3
   },
   "file_extension": ".py",
   "mimetype": "text/x-python",
   "name": "python",
   "nbconvert_exporter": "python",
   "pygments_lexer": "ipython3",
   "version": "3.9.18"
  }
 },
 "nbformat": 4,
 "nbformat_minor": 5
}
