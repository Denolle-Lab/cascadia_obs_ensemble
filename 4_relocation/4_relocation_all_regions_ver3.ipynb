{
 "cells": [
  {
   "cell_type": "markdown",
   "metadata": {},
   "source": [
    "# 4. Relocation for all regions"
   ]
  },
  {
   "cell_type": "code",
   "execution_count": 4,
   "metadata": {},
   "outputs": [],
   "source": [
    "import datetime\n",
    "import math\n",
    "import sys\n",
    "import os\n",
    "from pathlib import Path\n"
   ]
  },
  {
   "cell_type": "code",
   "execution_count": 5,
   "metadata": {},
   "outputs": [],
   "source": [
    "region = 'all_regions'\n",
    "version = 'ver3'"
   ]
  },
  {
   "cell_type": "code",
   "execution_count": null,
   "metadata": {},
   "outputs": [
    {
     "name": "stderr",
     "output_type": "stream",
     "text": [
      "/home/jupyter_share/miniconda3/envs/seismo/lib/python3.9/site-packages/IPython/core/magics/osm.py:417: UserWarning: using dhist requires you to install the `pickleshare` library.\n",
      "  self.shell.db['dhist'] = compress_dhist(dhist)[-100:]\n"
     ]
    },
    {
     "name": "stdout",
     "output_type": "stream",
     "text": [
      "/home/hbito/cascadia_obs_ensemble_backup\n",
      "phase file: ./hypodd/results_hypodd/hypoDD_all_regions_ver3_wo_ztr_mod_nodes.pha\n"
     ]
    }
   ],
   "source": [
    "\n",
    "\n",
    "def format_convert(phaseinput,phaseoutput):\n",
    "\n",
    "    g = open(phaseoutput, 'w')\n",
    "    nn = 100000\n",
    "\n",
    "    with open(phaseinput, \"r\") as f:\n",
    "        for line in f:\n",
    "            if (len(line) == 180):\n",
    "                iok = 0\n",
    "                RMS = float(line[48:52]) / 100\n",
    "                gap = int(line[42:45])\n",
    "                dep = float(line[31:36])/100\n",
    "                EZ = float(line[89:93])/100\n",
    "                EH = float(line[85:89])/100\n",
    "\n",
    "                nn = nn + 1\n",
    "                year = int(line[0:4])\n",
    "                mon = int(line[4:6])\n",
    "                day = int(line[6:8])\n",
    "                hour = int(line[8:10])\n",
    "                min = int(line[10:12])\n",
    "                sec = int(line[12:16])/100\n",
    "\n",
    "                if line[18] == ' ': #N\n",
    "                    lat = (float(line[16:18]) + float(line[19:23]) / 6000)\n",
    "                else:\n",
    "                    lat = float(line[16:18]) + float(line[19:23])/6000 * (-1)\n",
    "\n",
    "                if line[26] == 'E':\n",
    "                    lon = (float(line[23:26]) + float(line[27:31]) / 6000)\n",
    "                else:\n",
    "                    lon = (float(line[23:26]) + float(line[27:31]) / 6000) * (-1)\n",
    "\n",
    "                mag = float(line[123:126])/100\n",
    "                g.write(\n",
    "                    '# {:4d} {:2d} {:2d} {:2d} {:2d} {:5.2f}  {:7.4f} {:9.4f}   {:5.2f} {:5.2f} {:5.2f} {:5.2f} {:5.2f} {:9d} E\\n'.format(\n",
    "                        year, mon, day, hour, min, sec, lat, lon, dep, mag, EH, EZ, RMS, nn))\n",
    "                iok = 1\n",
    "            else:\n",
    "                if (iok == 1 and len(line) == 121):\n",
    "                    station = line[0:5]\n",
    "                    net = line[5:7]\n",
    "                    chn = line[9:11]\n",
    "                    year1 = int(line[17:21])\n",
    "                    mon1 = int(line[21:23])\n",
    "                    day1 = int(line[23:25])\n",
    "                    hour1 = int(line[25:27])\n",
    "                    min1 = int(line[27:29])\n",
    "\n",
    "                    if year1 == year and mon1 == mon and day1 == day and hour1 == hour and min1 == min:\n",
    "                        sec_p =sec\n",
    "                        if line[13:15] == ' P' or line[13:15] == 'IP':\n",
    "                            P_residual = abs(int(line[34:38]) / 100)\n",
    "                            sec_p = int(line[29:34]) / 100\n",
    "                            ppick = sec_p-sec\n",
    "                            \n",
    "                            g.write('{:<2s}{:<5s}    {:8.3f}   1.000   P {:<2s} \\n'.format(net, station, ppick,chn))\n",
    "\n",
    "                        if line[46:48] == ' S' or line[46:48] == 'ES':\n",
    "                            S_residual = abs(int(line[50:54]) / 100)\n",
    "                            sec_s = int(line[41:46]) / 100\n",
    "                            spick = sec_s-sec\n",
    "                            \n",
    "                            g.write('{:<2s}{:<5s}    {:8.3f}   1.000   S {:<2s} \\n'.format(net, station, spick,chn))\n",
    "    f.close()\n",
    "    g.close()\n",
    "\n",
    "%cd ./\n",
    "input_file = f'./hypoInv/hypoOut_{region}_{version}_wo_ztr_mod_nodes.arc'\n",
    "Path('./hypodd/results_hypodd').mkdir(parents=True, exist_ok=True)\n",
    "output_file = f'./hypodd/results_hypodd/hypoDD_{region}_{version}_wo_ztr_mod_nodes.pha'\n",
    "format_convert(input_file, output_file)\n",
    "print('phase file:', output_file)\n",
    "%cp ./workflow_all_regions/stations_hypoDD_all_regions_ver3.dat ./hypodd/results_hypodd/.\n"
   ]
  },
  {
   "cell_type": "code",
   "execution_count": 17,
   "metadata": {},
   "outputs": [
    {
     "name": "stdout",
     "output_type": "stream",
     "text": [
      "starting ph2dt (v1.3 - 08/2010)...                          \u0000\u0000\u0000\u0000\u0000\n",
      "STOP  >>> ERROR OPENING INPUT PARAMETER FILE.\n"
     ]
    }
   ],
   "source": [
    "!ph2dt ph2dt_all_regions_ver3_wo_ztr_mod_nodes.inp"
   ]
  },
  {
   "cell_type": "code",
   "execution_count": null,
   "metadata": {},
   "outputs": [
    {
     "name": "stdout",
     "output_type": "stream",
     "text": [
      "starting ph2dt (v1.3 - 08/2010)...                          \u0000\u0000\u0000\u0000\u0000\n",
      "\n",
      "reading data ...\n",
      " > stations =          452\n"
     ]
    },
    {
     "name": "stdout",
     "output_type": "stream",
     "text": [
      "STOP >>> Increase MEV in ph2dt.inc!\n"
     ]
    }
   ],
   "source": [
    "!ph2dt ph2dt_all_regions_ver3.inp"
   ]
  },
  {
   "cell_type": "code",
   "execution_count": null,
   "metadata": {},
   "outputs": [],
   "source": []
  }
 ],
 "metadata": {
  "kernelspec": {
   "display_name": "seismo (SHARED)",
   "language": "python",
   "name": "seismo"
  },
  "language_info": {
   "codemirror_mode": {
    "name": "ipython",
    "version": 3
   },
   "file_extension": ".py",
   "mimetype": "text/x-python",
   "name": "python",
   "nbconvert_exporter": "python",
   "pygments_lexer": "ipython3",
   "version": "3.9.18"
  }
 },
 "nbformat": 4,
 "nbformat_minor": 2
}
