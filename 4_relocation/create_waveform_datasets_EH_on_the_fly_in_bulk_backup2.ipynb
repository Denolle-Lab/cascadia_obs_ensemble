{
 "cells": [
  {
   "cell_type": "markdown",
   "id": "d2f77395",
   "metadata": {},
   "source": []
  },
  {
   "cell_type": "code",
   "execution_count": 1,
   "id": "98014543",
   "metadata": {},
   "outputs": [],
   "source": [
    "import os\n",
    "import numpy as np\n",
    "import matplotlib.pyplot as plt\n",
    "import pandas as pd\n",
    "import h5py\n",
    "import obspy\n",
    "from obspy import Stream\n",
    "from obspy.clients.fdsn import Client\n",
    "from pnwstore.mseed import WaveformClient\n",
    "from obspy import Stream\n",
    "from datetime import timedelta\n",
    "from tqdm import tqdm\n",
    "import csv\n",
    "import random\n",
    "from itertools import islice\n",
    "import time "
   ]
  },
  {
   "cell_type": "code",
   "execution_count": 2,
   "id": "11662011",
   "metadata": {},
   "outputs": [],
   "source": [
    "#--------------Initiate clients and constants----------------#\n",
    "# Define clients\n",
    "client_iris = Client(\"IRIS\")\n",
    "client_ncedc = Client(\"NCEDC\")\n",
    "client_waveform = WaveformClient()\n",
    "\n",
    "# Define constants\n",
    "sampling_rate = 100  # Hz\n",
    "pre_arrival_time = 50\n",
    "window_length = 300\n",
    "\n",
    "# Load the arrival table and define the output file names\n",
    "assoc_df = pd.read_csv('/home/hbito/cascadia_obs_ensemble_backup/data/datasets_all_regions/arrival_assoc_origin_2010_2015_reloc_cog_ver3.csv', index_col=0)\n",
    "output_waveform_file = \"/home/hbito/cascadia_obs_ensemble_backup/data/datasets_all_regions/waveforms_EH_on_the_fly_bulk_backup2.h5\"\n",
    "output_metadata_file = \"/home/hbito/cascadia_obs_ensemble_backup/data/datasets_all_regions/metadata_EH_on_the_fly_bulk_backup2.csv\"\n",
    "error_log_file = \"/home/hbito/cascadia_obs_ensemble_backup/data/datasets_all_regions/save_errors_EH_on_the_fly_bulk_backup2.csv\"\n",
    "\n",
    "# Preprocess dataframe\n",
    "assoc_df[['network', 'station']] = assoc_df['sta'].str.split('.', expand=True)\n",
    "assoc_df['event_id'] = 'ev' + assoc_df['otime'].astype(str).str.replace('.', '_')\n"
   ]
  },
  {
   "cell_type": "code",
   "execution_count": 3,
   "id": "d5300b79",
   "metadata": {},
   "outputs": [],
   "source": [
    "# Define the function to reorder the traces in a stream\n",
    "def order_traces(stream: Stream, expected_len: int) -> np.ndarray:\n",
    "    \"\"\"\n",
    "    Converts an ObsPy stream into a (3, expected_len) numpy array, \n",
    "    consistently ordered as [Z, E, N].\n",
    "\n",
    "    Parameters:\n",
    "    - stream: ObsPy Stream containing cleaned traces (padded to expected_len)\n",
    "    - expected_len: Target length of each waveform trace\n",
    "\n",
    "    Returns:\n",
    "    - data_array: np.ndarray of shape (3, expected_len)\n",
    "    \"\"\"\n",
    "    # Fixed component order: Z → 0, E → 1, N → 2\n",
    "    comp_to_index = {\"Z\": 0, \"E\": 1, \"N\": 2}\n",
    "    data_list = [np.zeros(expected_len) for _ in range(3)]  # Default to zeros\n",
    "\n",
    "    for tr in stream:\n",
    "        chan_suffix = tr.stats.channel[-1]\n",
    "        if chan_suffix in comp_to_index:\n",
    "            idx = comp_to_index[chan_suffix]\n",
    "            data_list[idx] = tr.data  \n",
    "\n",
    "    return np.vstack(data_list)  # Shape: (3, expected_len)"
   ]
  },
  {
   "cell_type": "code",
   "execution_count": 4,
   "id": "141d97c9",
   "metadata": {},
   "outputs": [],
   "source": [
    "#--------------Gather Station Information----------------#\n",
    "# Obtain unique network-station combinations\n",
    "unique_ns = assoc_df.sta.unique()\n",
    "\n",
    "# Define the start and end times for requesting station information\n",
    "starttime_bulk = obspy.UTCDateTime(\"2010-01-01T00:00:00\")\n",
    "endtime_bulk = obspy.UTCDateTime(\"2015-12-31T23:59:59\")\n",
    "\n",
    "# Make a list of stations for bulk request \n",
    "bulk =[]\n",
    "for u_ns in unique_ns:\n",
    "    n,s = u_ns.split('.')\n",
    "\n",
    "    for bi in ['EH?', 'BH?', 'HH?']:\n",
    "        line = (n, s, '*', bi, starttime_bulk, endtime_bulk)\n",
    "        bulk.append(line)\n",
    "\n",
    "# Make a bulk request \n",
    "inv = client_iris.get_stations_bulk(bulk, level='channel')\n",
    "time.sleep(0.2)"
   ]
  },
  {
   "cell_type": "code",
   "execution_count": 5,
   "id": "b3c04f6f",
   "metadata": {},
   "outputs": [
    {
     "data": {
      "text/html": [
       "<div>\n",
       "<style scoped>\n",
       "    .dataframe tbody tr th:only-of-type {\n",
       "        vertical-align: middle;\n",
       "    }\n",
       "\n",
       "    .dataframe tbody tr th {\n",
       "        vertical-align: top;\n",
       "    }\n",
       "\n",
       "    .dataframe thead th {\n",
       "        text-align: right;\n",
       "    }\n",
       "</style>\n",
       "<table border=\"1\" class=\"dataframe\">\n",
       "  <thead>\n",
       "    <tr style=\"text-align: right;\">\n",
       "      <th></th>\n",
       "      <th>sta</th>\n",
       "      <th>pick_time</th>\n",
       "      <th>arid</th>\n",
       "      <th>iphase</th>\n",
       "      <th>prob</th>\n",
       "      <th>orid</th>\n",
       "      <th>phase</th>\n",
       "      <th>timeres</th>\n",
       "      <th>slatitude</th>\n",
       "      <th>slongitude</th>\n",
       "      <th>...</th>\n",
       "      <th>nass</th>\n",
       "      <th>p_picks</th>\n",
       "      <th>s_picks</th>\n",
       "      <th>rms</th>\n",
       "      <th>nsphz</th>\n",
       "      <th>gap</th>\n",
       "      <th>algorithm</th>\n",
       "      <th>network</th>\n",
       "      <th>station</th>\n",
       "      <th>event_id</th>\n",
       "    </tr>\n",
       "  </thead>\n",
       "  <tbody>\n",
       "    <tr>\n",
       "      <th>0</th>\n",
       "      <td>UW.PCMD</td>\n",
       "      <td>1.262305e+09</td>\n",
       "      <td>0</td>\n",
       "      <td>P</td>\n",
       "      <td>0.680</td>\n",
       "      <td>0</td>\n",
       "      <td>P</td>\n",
       "      <td>0.049</td>\n",
       "      <td>46.888962</td>\n",
       "      <td>-122.301483</td>\n",
       "      <td>...</td>\n",
       "      <td>7</td>\n",
       "      <td>2</td>\n",
       "      <td>5</td>\n",
       "      <td>1.081</td>\n",
       "      <td>5.0</td>\n",
       "      <td>235.831208</td>\n",
       "      <td>genie</td>\n",
       "      <td>UW</td>\n",
       "      <td>PCMD</td>\n",
       "      <td>ev1262304917_262282</td>\n",
       "    </tr>\n",
       "    <tr>\n",
       "      <th>1</th>\n",
       "      <td>UW.RVW</td>\n",
       "      <td>1.262305e+09</td>\n",
       "      <td>1</td>\n",
       "      <td>P</td>\n",
       "      <td>0.680</td>\n",
       "      <td>0</td>\n",
       "      <td>P</td>\n",
       "      <td>1.264</td>\n",
       "      <td>46.149750</td>\n",
       "      <td>-122.742996</td>\n",
       "      <td>...</td>\n",
       "      <td>7</td>\n",
       "      <td>2</td>\n",
       "      <td>5</td>\n",
       "      <td>1.081</td>\n",
       "      <td>5.0</td>\n",
       "      <td>235.831208</td>\n",
       "      <td>genie</td>\n",
       "      <td>UW</td>\n",
       "      <td>RVW</td>\n",
       "      <td>ev1262304917_262282</td>\n",
       "    </tr>\n",
       "    <tr>\n",
       "      <th>2</th>\n",
       "      <td>UW.GNW</td>\n",
       "      <td>1.262305e+09</td>\n",
       "      <td>3</td>\n",
       "      <td>S</td>\n",
       "      <td>0.680</td>\n",
       "      <td>0</td>\n",
       "      <td>S</td>\n",
       "      <td>2.402</td>\n",
       "      <td>47.564130</td>\n",
       "      <td>-122.824980</td>\n",
       "      <td>...</td>\n",
       "      <td>7</td>\n",
       "      <td>2</td>\n",
       "      <td>5</td>\n",
       "      <td>1.081</td>\n",
       "      <td>5.0</td>\n",
       "      <td>235.831208</td>\n",
       "      <td>genie</td>\n",
       "      <td>UW</td>\n",
       "      <td>GNW</td>\n",
       "      <td>ev1262304917_262282</td>\n",
       "    </tr>\n",
       "    <tr>\n",
       "      <th>3</th>\n",
       "      <td>PB.B013</td>\n",
       "      <td>1.262305e+09</td>\n",
       "      <td>4</td>\n",
       "      <td>S</td>\n",
       "      <td>0.680</td>\n",
       "      <td>0</td>\n",
       "      <td>S</td>\n",
       "      <td>-0.651</td>\n",
       "      <td>47.813000</td>\n",
       "      <td>-122.910797</td>\n",
       "      <td>...</td>\n",
       "      <td>7</td>\n",
       "      <td>2</td>\n",
       "      <td>5</td>\n",
       "      <td>1.081</td>\n",
       "      <td>5.0</td>\n",
       "      <td>235.831208</td>\n",
       "      <td>genie</td>\n",
       "      <td>PB</td>\n",
       "      <td>B013</td>\n",
       "      <td>ev1262304917_262282</td>\n",
       "    </tr>\n",
       "    <tr>\n",
       "      <th>4</th>\n",
       "      <td>PB.B943</td>\n",
       "      <td>1.262305e+09</td>\n",
       "      <td>5</td>\n",
       "      <td>S</td>\n",
       "      <td>0.680</td>\n",
       "      <td>0</td>\n",
       "      <td>S</td>\n",
       "      <td>-0.511</td>\n",
       "      <td>47.813202</td>\n",
       "      <td>-122.911301</td>\n",
       "      <td>...</td>\n",
       "      <td>7</td>\n",
       "      <td>2</td>\n",
       "      <td>5</td>\n",
       "      <td>1.081</td>\n",
       "      <td>5.0</td>\n",
       "      <td>235.831208</td>\n",
       "      <td>genie</td>\n",
       "      <td>PB</td>\n",
       "      <td>B943</td>\n",
       "      <td>ev1262304917_262282</td>\n",
       "    </tr>\n",
       "    <tr>\n",
       "      <th>...</th>\n",
       "      <td>...</td>\n",
       "      <td>...</td>\n",
       "      <td>...</td>\n",
       "      <td>...</td>\n",
       "      <td>...</td>\n",
       "      <td>...</td>\n",
       "      <td>...</td>\n",
       "      <td>...</td>\n",
       "      <td>...</td>\n",
       "      <td>...</td>\n",
       "      <td>...</td>\n",
       "      <td>...</td>\n",
       "      <td>...</td>\n",
       "      <td>...</td>\n",
       "      <td>...</td>\n",
       "      <td>...</td>\n",
       "      <td>...</td>\n",
       "      <td>...</td>\n",
       "      <td>...</td>\n",
       "      <td>...</td>\n",
       "      <td>...</td>\n",
       "    </tr>\n",
       "    <tr>\n",
       "      <th>690483</th>\n",
       "      <td>7D.J11D</td>\n",
       "      <td>1.435102e+09</td>\n",
       "      <td>1004326</td>\n",
       "      <td>P</td>\n",
       "      <td>0.694</td>\n",
       "      <td>63886</td>\n",
       "      <td>P</td>\n",
       "      <td>-0.336</td>\n",
       "      <td>43.541599</td>\n",
       "      <td>-126.368599</td>\n",
       "      <td>...</td>\n",
       "      <td>9</td>\n",
       "      <td>4</td>\n",
       "      <td>5</td>\n",
       "      <td>0.447</td>\n",
       "      <td>5.0</td>\n",
       "      <td>247.683119</td>\n",
       "      <td>genie</td>\n",
       "      <td>7D</td>\n",
       "      <td>J11D</td>\n",
       "      <td>ev1435101498_841147</td>\n",
       "    </tr>\n",
       "    <tr>\n",
       "      <th>690484</th>\n",
       "      <td>7D.J19D</td>\n",
       "      <td>1.435102e+09</td>\n",
       "      <td>1004327</td>\n",
       "      <td>P</td>\n",
       "      <td>0.694</td>\n",
       "      <td>63886</td>\n",
       "      <td>P</td>\n",
       "      <td>-0.419</td>\n",
       "      <td>44.179001</td>\n",
       "      <td>-126.271202</td>\n",
       "      <td>...</td>\n",
       "      <td>9</td>\n",
       "      <td>4</td>\n",
       "      <td>5</td>\n",
       "      <td>0.447</td>\n",
       "      <td>5.0</td>\n",
       "      <td>247.683119</td>\n",
       "      <td>genie</td>\n",
       "      <td>7D</td>\n",
       "      <td>J19D</td>\n",
       "      <td>ev1435101498_841147</td>\n",
       "    </tr>\n",
       "    <tr>\n",
       "      <th>690485</th>\n",
       "      <td>7D.J10D</td>\n",
       "      <td>1.435102e+09</td>\n",
       "      <td>1004328</td>\n",
       "      <td>P</td>\n",
       "      <td>0.694</td>\n",
       "      <td>63886</td>\n",
       "      <td>P</td>\n",
       "      <td>-0.505</td>\n",
       "      <td>43.348499</td>\n",
       "      <td>-125.545097</td>\n",
       "      <td>...</td>\n",
       "      <td>9</td>\n",
       "      <td>4</td>\n",
       "      <td>5</td>\n",
       "      <td>0.447</td>\n",
       "      <td>5.0</td>\n",
       "      <td>247.683119</td>\n",
       "      <td>genie</td>\n",
       "      <td>7D</td>\n",
       "      <td>J10D</td>\n",
       "      <td>ev1435101498_841147</td>\n",
       "    </tr>\n",
       "    <tr>\n",
       "      <th>690486</th>\n",
       "      <td>7D.J27D</td>\n",
       "      <td>1.435102e+09</td>\n",
       "      <td>1004329</td>\n",
       "      <td>P</td>\n",
       "      <td>0.694</td>\n",
       "      <td>63886</td>\n",
       "      <td>P</td>\n",
       "      <td>0.915</td>\n",
       "      <td>44.848900</td>\n",
       "      <td>-126.308296</td>\n",
       "      <td>...</td>\n",
       "      <td>9</td>\n",
       "      <td>4</td>\n",
       "      <td>5</td>\n",
       "      <td>0.447</td>\n",
       "      <td>5.0</td>\n",
       "      <td>247.683119</td>\n",
       "      <td>genie</td>\n",
       "      <td>7D</td>\n",
       "      <td>J27D</td>\n",
       "      <td>ev1435101498_841147</td>\n",
       "    </tr>\n",
       "    <tr>\n",
       "      <th>690487</th>\n",
       "      <td>7D.G35D</td>\n",
       "      <td>1.435102e+09</td>\n",
       "      <td>1004331</td>\n",
       "      <td>S</td>\n",
       "      <td>0.694</td>\n",
       "      <td>63886</td>\n",
       "      <td>S</td>\n",
       "      <td>0.358</td>\n",
       "      <td>42.555698</td>\n",
       "      <td>-126.399002</td>\n",
       "      <td>...</td>\n",
       "      <td>9</td>\n",
       "      <td>4</td>\n",
       "      <td>5</td>\n",
       "      <td>0.447</td>\n",
       "      <td>5.0</td>\n",
       "      <td>247.683119</td>\n",
       "      <td>genie</td>\n",
       "      <td>7D</td>\n",
       "      <td>G35D</td>\n",
       "      <td>ev1435101498_841147</td>\n",
       "    </tr>\n",
       "  </tbody>\n",
       "</table>\n",
       "<p>690488 rows × 28 columns</p>\n",
       "</div>"
      ],
      "text/plain": [
       "            sta     pick_time     arid iphase   prob   orid phase  timeres  \\\n",
       "0       UW.PCMD  1.262305e+09        0      P  0.680      0     P    0.049   \n",
       "1        UW.RVW  1.262305e+09        1      P  0.680      0     P    1.264   \n",
       "2        UW.GNW  1.262305e+09        3      S  0.680      0     S    2.402   \n",
       "3       PB.B013  1.262305e+09        4      S  0.680      0     S   -0.651   \n",
       "4       PB.B943  1.262305e+09        5      S  0.680      0     S   -0.511   \n",
       "...         ...           ...      ...    ...    ...    ...   ...      ...   \n",
       "690483  7D.J11D  1.435102e+09  1004326      P  0.694  63886     P   -0.336   \n",
       "690484  7D.J19D  1.435102e+09  1004327      P  0.694  63886     P   -0.419   \n",
       "690485  7D.J10D  1.435102e+09  1004328      P  0.694  63886     P   -0.505   \n",
       "690486  7D.J27D  1.435102e+09  1004329      P  0.694  63886     P    0.915   \n",
       "690487  7D.G35D  1.435102e+09  1004331      S  0.694  63886     S    0.358   \n",
       "\n",
       "        slatitude  slongitude  ...  nass  p_picks  s_picks    rms  nsphz  \\\n",
       "0       46.888962 -122.301483  ...     7        2        5  1.081    5.0   \n",
       "1       46.149750 -122.742996  ...     7        2        5  1.081    5.0   \n",
       "2       47.564130 -122.824980  ...     7        2        5  1.081    5.0   \n",
       "3       47.813000 -122.910797  ...     7        2        5  1.081    5.0   \n",
       "4       47.813202 -122.911301  ...     7        2        5  1.081    5.0   \n",
       "...           ...         ...  ...   ...      ...      ...    ...    ...   \n",
       "690483  43.541599 -126.368599  ...     9        4        5  0.447    5.0   \n",
       "690484  44.179001 -126.271202  ...     9        4        5  0.447    5.0   \n",
       "690485  43.348499 -125.545097  ...     9        4        5  0.447    5.0   \n",
       "690486  44.848900 -126.308296  ...     9        4        5  0.447    5.0   \n",
       "690487  42.555698 -126.399002  ...     9        4        5  0.447    5.0   \n",
       "\n",
       "               gap  algorithm  network  station             event_id  \n",
       "0       235.831208      genie       UW     PCMD  ev1262304917_262282  \n",
       "1       235.831208      genie       UW      RVW  ev1262304917_262282  \n",
       "2       235.831208      genie       UW      GNW  ev1262304917_262282  \n",
       "3       235.831208      genie       PB     B013  ev1262304917_262282  \n",
       "4       235.831208      genie       PB     B943  ev1262304917_262282  \n",
       "...            ...        ...      ...      ...                  ...  \n",
       "690483  247.683119      genie       7D     J11D  ev1435101498_841147  \n",
       "690484  247.683119      genie       7D     J19D  ev1435101498_841147  \n",
       "690485  247.683119      genie       7D     J10D  ev1435101498_841147  \n",
       "690486  247.683119      genie       7D     J27D  ev1435101498_841147  \n",
       "690487  247.683119      genie       7D     G35D  ev1435101498_841147  \n",
       "\n",
       "[690488 rows x 28 columns]"
      ]
     },
     "execution_count": 5,
     "metadata": {},
     "output_type": "execute_result"
    }
   ],
   "source": [
    "#--------------Gather Waveform Information----------------#\n",
    "# Obtain uniquee otime-network-station combinations\n",
    "unique_n_s_otime = assoc_df.drop_duplicates(['event_id', 'network', 'station'],keep='first').reset_index(drop=True)\n",
    "unique_n_s_otime\n"
   ]
  },
  {
   "cell_type": "code",
   "execution_count": 6,
   "id": "cb5d9492",
   "metadata": {},
   "outputs": [],
   "source": [
    "# Define functions to append entries for the bulk request\n",
    "def append_bulk_lists_chunks(bulk_waveforms, n, s, bi, trace_start, trace_end, day_end, next_day_start):\n",
    "    \"\"\"\n",
    "    Append waveform requests to the bulk list based on the availability of HH? and BH? channels. If the stream runs over the midnight, split the request into two.\n",
    "    \"\"\"\n",
    "    if day_end > trace_end:\n",
    "        # If the trace end is within the same day, we can use HH?\n",
    "        bulk_waveforms.append((n, s, '*', bi, trace_start, trace_end))\n",
    "    else:\n",
    "        # If the trace end goes beyond the day, we need to adjust\n",
    "        bulk_waveforms.append((n, s, '*', bi, trace_start, day_end))\n",
    "        bulk_waveforms.append((n, s, '*', bi, next_day_start, trace_end))\n",
    "    return bulk_waveforms"
   ]
  },
  {
   "cell_type": "code",
   "execution_count": 7,
   "id": "d63d7c5f",
   "metadata": {},
   "outputs": [],
   "source": [
    "def append_bulk_lists(bulk_waveforms, n, s, bi, trace_start, trace_end):\n",
    "    \"\"\"\n",
    "    Append waveform requests to the bulk list based on the availability of HH? and BH? channels.\n",
    "    \"\"\"\n",
    "    bulk_waveforms.append((n, s, '*', bi, trace_start, trace_end))\n",
    "\n",
    "    return bulk_waveforms"
   ]
  },
  {
   "cell_type": "code",
   "execution_count": 10,
   "id": "e72e2c4c",
   "metadata": {},
   "outputs": [
    {
     "name": "stderr",
     "output_type": "stream",
     "text": [
      "100%|██████████| 81/81 [19:53<00:00, 14.73s/it]\n"
     ]
    }
   ],
   "source": [
    "# compose \n",
    "batches_bulk_waveforms_chunks =[]\n",
    "\n",
    "batches_bulk_waveforms = []\n",
    "num_batches = 80\n",
    "len_batches = len(unique_n_s_otime) // num_batches\n",
    "\n",
    "count_HH_BH_pairs = 0\n",
    "\n",
    "# Constants\n",
    "\n",
    "for i in tqdm(range(0, num_batches+1)):\n",
    "    bulk_waveforms_chunks = []\n",
    "    bulk_waveforms = []\n",
    "    time.sleep(0.2)\n",
    "\n",
    "    for index, u_ns in islice(unique_n_s_otime.iterrows(), i*len_batches, (i + 1) * len_batches):\n",
    "        n,s = u_ns['network'], u_ns['station']\n",
    "\n",
    "        otime = u_ns['otime']\n",
    "        pick_time = u_ns['pick_time']\n",
    "        trace_start = obspy.UTCDateTime(otime - pre_arrival_time)\n",
    "        trace_end = trace_start + window_length\n",
    "\n",
    "        day_end = obspy.UTCDateTime(trace_start.date + timedelta(days=1))-1e-6\n",
    "        next_day_start = obspy.UTCDateTime(trace_start.date + timedelta(days=1))\n",
    "\n",
    "        # print(trace_start, trace_end)\n",
    "\n",
    "        sta = inv.select(network=n, station=s, time=pick_time)\n",
    "\n",
    "        has_Z = bool(sta.select(channel='??Z'))\n",
    "        # has_HH = bool(sta.select(channel='HH?'))\n",
    "        # has_BH = bool(sta.select(channel='BH?'))\n",
    "        has_EH = bool(sta.select(channel='EH?'))    \n",
    "\n",
    "        if not has_Z or not has_EH:\n",
    "            count_HH_BH_pairs += 1\n",
    "            # print(\"count_EH_pairs\", count_EH_pairs)\n",
    "            continue\n",
    "        \n",
    "        bulk_waveforms_chunks = append_bulk_lists_chunks(bulk_waveforms_chunks, n, s, 'EH?', trace_start, trace_end, day_end, next_day_start)\n",
    "        bulk_waveforms = append_bulk_lists(bulk_waveforms, n, s, 'EH?', trace_start, trace_end)\n",
    "\n",
    "    batches_bulk_waveforms_chunks.append(bulk_waveforms_chunks)\n",
    "    batches_bulk_waveforms.append(bulk_waveforms)\n"
   ]
  },
  {
   "cell_type": "code",
   "execution_count": 14,
   "id": "c3458c31",
   "metadata": {},
   "outputs": [],
   "source": [
    "#--------------Create Waveform Datasets in batches----------------#\n",
    "# Find entries that have already been processed\n",
    "processed_keys = set()\n",
    "if os.path.exists(output_metadata_file):\n",
    "    processed_df = pd.read_csv(output_metadata_file)\n",
    "    processed_keys = set(zip(processed_df['trace_start_time'], processed_df['station_network_code'], processed_df['station_code']))\n",
    "    print(f\"Loaded {len(processed_keys)} processed entries.\")"
   ]
  },
  {
   "cell_type": "code",
   "execution_count": 15,
   "id": "50de6ad1",
   "metadata": {},
   "outputs": [],
   "source": [
    "# Open output files\n",
    "h5f = h5py.File(output_waveform_file, \"a\")\n",
    "meta_out = open(output_metadata_file, \"a\")\n",
    "write_header = os.stat(output_metadata_file).st_size == 0 if os.path.exists(output_metadata_file) else True"
   ]
  },
  {
   "cell_type": "code",
   "execution_count": null,
   "id": "cf70c8b1",
   "metadata": {},
   "outputs": [],
   "source": [
    "# h5f.close()\n",
    "# meta_out.close()"
   ]
  },
  {
   "cell_type": "code",
   "execution_count": 16,
   "id": "7da171d5",
   "metadata": {},
   "outputs": [],
   "source": [
    "fieldnames = ['event_id', 'source_origin_time', 'source_latitude_deg', 'source_longitude_deg',\n",
    "              'source_type', 'source_depth_km', 'preferred_source_magnitude', 'preferred_source_magnitude_type',\n",
    "              'preferred_source_magnitude_uncertainty', 'source_depth_uncertainty_km', 'source_horizontal_uncertainty_km',\n",
    "              'station_network_code', 'station_channel_code', 'station_code', 'station_location_code',\n",
    "              'station_latitude_deg', 'station_longitude_deg', 'station_elevation_m', 'trace_name',\n",
    "              'trace_sampling_rate_hz', 'trace_start_time', 'trace_S_arrival_sample', 'trace_P_arrival_sample',\n",
    "              'trace_S_arrival_uncertainty_s', 'trace_P_arrival_uncertainty_s', 'trace_P_polarity',\n",
    "              'trace_S_onset', 'trace_P_onset', 'trace_snr_db', 'source_type_pnsn_label',\n",
    "              'source_local_magnitude', 'source_local_magnitude_uncertainty', 'source_duration_magnitude',\n",
    "              'source_duration_magnitude_uncertainty', 'source_hand_magnitude', 'trace_missing_channel', 'trace_has_offset']"
   ]
  },
  {
   "cell_type": "code",
   "execution_count": 17,
   "id": "ea1ab315",
   "metadata": {},
   "outputs": [],
   "source": [
    "meta_writer = csv.DictWriter(meta_out, fieldnames=fieldnames)\n",
    "\n",
    "if write_header:\n",
    "    meta_writer.writeheader()"
   ]
  },
  {
   "cell_type": "code",
   "execution_count": 18,
   "id": "0e3eabc7",
   "metadata": {},
   "outputs": [],
   "source": [
    "# Define the expected length of the samples\n",
    "expected_len = int(sampling_rate * window_length)"
   ]
  },
  {
   "cell_type": "code",
   "execution_count": 25,
   "id": "48879f12",
   "metadata": {},
   "outputs": [
    {
     "name": "stdout",
     "output_type": "stream",
     "text": [
      "Batch 0\n"
     ]
    },
    {
     "name": "stderr",
     "output_type": "stream",
     "text": [
      "100%|██████████| 8356/8356 [08:11<00:00, 17.01it/s]\n"
     ]
    },
    {
     "name": "stdout",
     "output_type": "stream",
     "text": [
      "Finished downloading from WaveformClient\n"
     ]
    },
    {
     "name": "stderr",
     "output_type": "stream",
     "text": [
      "  0%|          | 2/8340 [00:01<1:12:03,  1.93it/s]"
     ]
    },
    {
     "name": "stdout",
     "output_type": "stream",
     "text": [
      "UW PCMD * EH? 2010-01-01T00:14:27.262282Z 2010-01-01T00:19:27.262282Z\n",
      "EH\n",
      "UW RVW * EH? 2010-01-01T00:14:27.262282Z 2010-01-01T00:19:27.262282Z\n",
      "EH\n"
     ]
    },
    {
     "name": "stderr",
     "output_type": "stream",
     "text": [
      "  0%|          | 4/8340 [00:01<38:55,  3.57it/s]  "
     ]
    },
    {
     "name": "stdout",
     "output_type": "stream",
     "text": [
      "PB B013 * EH? 2010-01-01T00:14:27.262282Z 2010-01-01T00:19:27.262282Z\n",
      "EH\n",
      "PB B943 * EH? 2010-01-01T00:14:27.262282Z 2010-01-01T00:19:27.262282Z\n",
      "EH\n"
     ]
    },
    {
     "name": "stderr",
     "output_type": "stream",
     "text": [
      "  0%|          | 6/8340 [00:01<29:15,  4.75it/s]"
     ]
    },
    {
     "name": "stdout",
     "output_type": "stream",
     "text": [
      "UW BOW * EH? 2010-01-01T00:14:27.262282Z 2010-01-01T00:19:27.262282Z\n",
      "EH\n",
      "PB B943 * EH? 2010-01-01T00:15:59.375360Z 2010-01-01T00:20:59.375360Z\n",
      "EH\n"
     ]
    },
    {
     "name": "stderr",
     "output_type": "stream",
     "text": [
      "  0%|          | 8/8340 [00:02<24:26,  5.68it/s]"
     ]
    },
    {
     "name": "stdout",
     "output_type": "stream",
     "text": [
      "UW BLN * EH? 2010-01-01T00:15:59.375360Z 2010-01-01T00:20:59.375360Z\n",
      "EH\n",
      "CN VDB * EH? 2010-01-01T00:15:59.375360Z 2010-01-01T00:20:59.375360Z\n",
      "EH\n"
     ]
    },
    {
     "name": "stderr",
     "output_type": "stream",
     "text": [
      "  0%|          | 10/8340 [00:02<22:41,  6.12it/s]"
     ]
    },
    {
     "name": "stdout",
     "output_type": "stream",
     "text": [
      "UW MCW * EH? 2010-01-01T00:15:59.375360Z 2010-01-01T00:20:59.375360Z\n",
      "EH\n",
      "PB B001 * EH? 2010-01-01T00:15:59.375360Z 2010-01-01T00:20:59.375360Z\n",
      "EH\n"
     ]
    },
    {
     "name": "stderr",
     "output_type": "stream",
     "text": [
      "  0%|          | 12/8340 [00:02<22:13,  6.25it/s]"
     ]
    },
    {
     "name": "stdout",
     "output_type": "stream",
     "text": [
      "PB B005 * EH? 2010-01-01T00:15:59.375360Z 2010-01-01T00:20:59.375360Z\n",
      "EH\n",
      "PB B007 * EH? 2010-01-01T00:15:59.375360Z 2010-01-01T00:20:59.375360Z\n",
      "EH\n"
     ]
    },
    {
     "name": "stderr",
     "output_type": "stream",
     "text": [
      "  0%|          | 14/8340 [00:03<22:13,  6.25it/s]"
     ]
    },
    {
     "name": "stdout",
     "output_type": "stream",
     "text": [
      "PB B011 * EH? 2010-01-01T00:15:59.375360Z 2010-01-01T00:20:59.375360Z\n",
      "EH\n",
      "PB B941 * EH? 2010-01-01T00:15:59.375360Z 2010-01-01T00:20:59.375360Z\n",
      "EH\n"
     ]
    },
    {
     "name": "stderr",
     "output_type": "stream",
     "text": [
      "  0%|          | 16/8340 [00:03<21:37,  6.41it/s]"
     ]
    },
    {
     "name": "stdout",
     "output_type": "stream",
     "text": [
      "CN GOBB * EH? 2010-01-01T00:15:59.375360Z 2010-01-01T00:20:59.375360Z\n",
      "EH\n",
      "PB B018 * EH? 2010-01-01T00:15:59.375360Z 2010-01-01T00:20:59.375360Z\n",
      "EH\n"
     ]
    },
    {
     "name": "stderr",
     "output_type": "stream",
     "text": [
      "  0%|          | 18/8340 [00:03<21:24,  6.48it/s]"
     ]
    },
    {
     "name": "stdout",
     "output_type": "stream",
     "text": [
      "CN BIB * EH? 2010-01-01T00:15:59.375360Z 2010-01-01T00:20:59.375360Z\n",
      "EH\n",
      "PB B014 * EH? 2010-01-01T00:15:59.375360Z 2010-01-01T00:20:59.375360Z\n",
      "EH\n"
     ]
    },
    {
     "name": "stderr",
     "output_type": "stream",
     "text": [
      "  0%|          | 20/8340 [00:03<21:06,  6.57it/s]"
     ]
    },
    {
     "name": "stdout",
     "output_type": "stream",
     "text": [
      "PB B926 * EH? 2010-01-01T00:15:59.375360Z 2010-01-01T00:20:59.375360Z\n",
      "EH\n",
      "CN WPB * EH? 2010-01-01T00:15:59.375360Z 2010-01-01T00:20:59.375360Z\n",
      "EH\n"
     ]
    },
    {
     "name": "stderr",
     "output_type": "stream",
     "text": [
      "  0%|          | 22/8340 [00:04<20:45,  6.68it/s]"
     ]
    },
    {
     "name": "stdout",
     "output_type": "stream",
     "text": [
      "UW OTR * EH? 2010-01-01T00:15:59.375360Z 2010-01-01T00:20:59.375360Z\n",
      "EH\n",
      "UW ELK * EH? 2010-01-01T00:15:59.375360Z 2010-01-01T00:20:59.375360Z\n",
      "EH\n"
     ]
    },
    {
     "name": "stderr",
     "output_type": "stream",
     "text": [
      "  0%|          | 24/8340 [00:04<21:45,  6.37it/s]"
     ]
    },
    {
     "name": "stdout",
     "output_type": "stream",
     "text": [
      "PB B202 * EH? 2010-01-01T00:15:59.375360Z 2010-01-01T00:20:59.375360Z\n",
      "EH\n",
      "PB B201 * EH? 2010-01-01T00:15:59.375360Z 2010-01-01T00:20:59.375360Z\n",
      "EH\n"
     ]
    },
    {
     "name": "stderr",
     "output_type": "stream",
     "text": [
      "  0%|          | 26/8340 [00:04<22:15,  6.22it/s]"
     ]
    },
    {
     "name": "stdout",
     "output_type": "stream",
     "text": [
      "UW SOS * EH? 2010-01-01T00:15:59.375360Z 2010-01-01T00:20:59.375360Z\n",
      "EH\n",
      "PB B203 * EH? 2010-01-01T00:15:59.375360Z 2010-01-01T00:20:59.375360Z\n",
      "EH\n"
     ]
    },
    {
     "name": "stderr",
     "output_type": "stream",
     "text": [
      "  0%|          | 28/8340 [00:05<22:14,  6.23it/s]"
     ]
    },
    {
     "name": "stdout",
     "output_type": "stream",
     "text": [
      "PB B204 * EH? 2010-01-01T00:15:59.375360Z 2010-01-01T00:20:59.375360Z\n",
      "EH\n",
      "PB B023 * EH? 2010-01-01T00:15:59.375360Z 2010-01-01T00:20:59.375360Z\n",
      "EH\n"
     ]
    },
    {
     "name": "stderr",
     "output_type": "stream",
     "text": [
      "  0%|          | 30/8340 [00:05<21:45,  6.36it/s]"
     ]
    },
    {
     "name": "stdout",
     "output_type": "stream",
     "text": [
      "PB B013 * EH? 2010-01-01T00:15:59.375360Z 2010-01-01T00:20:59.375360Z\n",
      "EH\n",
      "UW LMW * EH? 2010-01-01T00:15:59.375360Z 2010-01-01T00:20:59.375360Z\n",
      "EH\n"
     ]
    },
    {
     "name": "stderr",
     "output_type": "stream",
     "text": [
      "  0%|          | 32/8340 [00:05<21:07,  6.55it/s]"
     ]
    },
    {
     "name": "stdout",
     "output_type": "stream",
     "text": [
      "PB B003 * EH? 2010-01-01T00:15:59.375360Z 2010-01-01T00:20:59.375360Z\n",
      "EH\n",
      "UW LCW * EH? 2010-01-01T00:15:59.375360Z 2010-01-01T00:20:59.375360Z\n",
      "EH\n"
     ]
    },
    {
     "name": "stderr",
     "output_type": "stream",
     "text": [
      "  0%|          | 34/8340 [00:06<20:30,  6.75it/s]"
     ]
    },
    {
     "name": "stdout",
     "output_type": "stream",
     "text": [
      "UW KOS * EH? 2010-01-01T00:15:59.375360Z 2010-01-01T00:20:59.375360Z\n",
      "EH\n",
      "UW TDL * EH? 2010-01-01T00:15:59.375360Z 2010-01-01T00:20:59.375360Z\n",
      "EH\n"
     ]
    },
    {
     "name": "stderr",
     "output_type": "stream",
     "text": [
      "  0%|          | 36/8340 [00:06<20:11,  6.85it/s]"
     ]
    },
    {
     "name": "stdout",
     "output_type": "stream",
     "text": [
      "UW BOW * EH? 2010-01-01T00:15:59.375360Z 2010-01-01T00:20:59.375360Z\n",
      "EH\n",
      "UW FL2 * EH? 2010-01-01T00:15:59.375360Z 2010-01-01T00:20:59.375360Z\n",
      "EH\n"
     ]
    },
    {
     "name": "stderr",
     "output_type": "stream",
     "text": [
      "  0%|          | 38/8340 [00:06<21:15,  6.51it/s]"
     ]
    },
    {
     "name": "stdout",
     "output_type": "stream",
     "text": [
      "PB B943 * EH? 2010-01-01T07:17:13.689209Z 2010-01-01T07:22:13.689209Z\n",
      "EH\n",
      "PB B013 * EH? 2010-01-01T07:17:13.689209Z 2010-01-01T07:22:13.689209Z\n",
      "EH\n"
     ]
    },
    {
     "name": "stderr",
     "output_type": "stream",
     "text": [
      "  0%|          | 40/8340 [00:07<21:13,  6.52it/s]"
     ]
    },
    {
     "name": "stdout",
     "output_type": "stream",
     "text": [
      "UW BLN * EH? 2010-01-01T07:17:13.689209Z 2010-01-01T07:22:13.689209Z\n",
      "EH\n",
      "PB B001 * EH? 2010-01-01T07:17:13.689209Z 2010-01-01T07:22:13.689209Z\n",
      "EH\n"
     ]
    },
    {
     "name": "stderr",
     "output_type": "stream",
     "text": [
      "  1%|          | 42/8340 [00:07<21:35,  6.40it/s]"
     ]
    },
    {
     "name": "stdout",
     "output_type": "stream",
     "text": [
      "PB B007 * EH? 2010-01-01T07:17:13.689209Z 2010-01-01T07:22:13.689209Z\n",
      "EH\n",
      "PB B005 * EH? 2010-01-01T07:17:13.689209Z 2010-01-01T07:22:13.689209Z\n",
      "EH\n"
     ]
    },
    {
     "name": "stderr",
     "output_type": "stream",
     "text": [
      "  1%|          | 44/8340 [00:07<21:12,  6.52it/s]"
     ]
    },
    {
     "name": "stdout",
     "output_type": "stream",
     "text": [
      "UW MCW * EH? 2010-01-01T07:17:13.689209Z 2010-01-01T07:22:13.689209Z\n",
      "EH\n",
      "PB B011 * EH? 2010-01-01T07:17:13.689209Z 2010-01-01T07:22:13.689209Z\n",
      "EH\n"
     ]
    },
    {
     "name": "stderr",
     "output_type": "stream",
     "text": [
      "  1%|          | 46/8340 [00:07<20:40,  6.68it/s]"
     ]
    },
    {
     "name": "stdout",
     "output_type": "stream",
     "text": [
      "CN VDB * EH? 2010-01-01T07:17:13.689209Z 2010-01-01T07:22:13.689209Z\n",
      "EH\n",
      "CN GOBB * EH? 2010-01-01T07:17:13.689209Z 2010-01-01T07:22:13.689209Z\n",
      "EH\n"
     ]
    },
    {
     "name": "stderr",
     "output_type": "stream",
     "text": [
      "  1%|          | 48/8340 [00:08<20:39,  6.69it/s]"
     ]
    },
    {
     "name": "stdout",
     "output_type": "stream",
     "text": [
      "PB B941 * EH? 2010-01-01T07:17:13.689209Z 2010-01-01T07:22:13.689209Z\n",
      "EH\n",
      "UW PCFR * EH? 2010-01-01T07:17:13.689209Z 2010-01-01T07:22:13.689209Z\n",
      "EH\n"
     ]
    },
    {
     "name": "stderr",
     "output_type": "stream",
     "text": [
      "  1%|          | 50/8340 [00:08<20:38,  6.69it/s]"
     ]
    },
    {
     "name": "stdout",
     "output_type": "stream",
     "text": [
      "PB B018 * EH? 2010-01-01T07:17:13.689209Z 2010-01-01T07:22:13.689209Z\n",
      "EH\n",
      "UW KOS * EH? 2010-01-01T07:17:13.689209Z 2010-01-01T07:22:13.689209Z\n",
      "EH\n"
     ]
    },
    {
     "name": "stderr",
     "output_type": "stream",
     "text": [
      "  1%|          | 52/8340 [00:08<21:01,  6.57it/s]"
     ]
    },
    {
     "name": "stdout",
     "output_type": "stream",
     "text": [
      "UW ELK * EH? 2010-01-01T07:17:13.689209Z 2010-01-01T07:22:13.689209Z\n",
      "EH\n",
      "PB B202 * EH? 2010-01-01T07:17:13.689209Z 2010-01-01T07:22:13.689209Z\n",
      "EH\n"
     ]
    },
    {
     "name": "stderr",
     "output_type": "stream",
     "text": [
      "  1%|          | 54/8340 [00:09<21:35,  6.39it/s]"
     ]
    },
    {
     "name": "stdout",
     "output_type": "stream",
     "text": [
      "PB B201 * EH? 2010-01-01T07:17:13.689209Z 2010-01-01T07:22:13.689209Z\n",
      "EH\n",
      "PB B926 * EH? 2010-01-01T07:17:13.689209Z 2010-01-01T07:22:13.689209Z\n",
      "EH\n"
     ]
    },
    {
     "name": "stderr",
     "output_type": "stream",
     "text": [
      "  1%|          | 56/8340 [00:09<20:35,  6.70it/s]"
     ]
    },
    {
     "name": "stdout",
     "output_type": "stream",
     "text": [
      "UW LVP * EH? 2010-01-01T07:17:13.689209Z 2010-01-01T07:22:13.689209Z\n",
      "EH\n",
      "UW BLN * EH? 2010-01-01T08:51:06.371091Z 2010-01-01T08:56:06.371091Z\n",
      "EH\n"
     ]
    },
    {
     "name": "stderr",
     "output_type": "stream",
     "text": [
      "  1%|          | 58/8340 [00:09<21:24,  6.45it/s]"
     ]
    },
    {
     "name": "stdout",
     "output_type": "stream",
     "text": [
      "PB B013 * EH? 2010-01-01T08:51:06.371091Z 2010-01-01T08:56:06.371091Z\n",
      "EH\n",
      "PB B943 * EH? 2010-01-01T08:51:06.371091Z 2010-01-01T08:56:06.371091Z\n",
      "EH\n"
     ]
    },
    {
     "name": "stderr",
     "output_type": "stream",
     "text": [
      "  1%|          | 60/8340 [00:10<21:31,  6.41it/s]"
     ]
    },
    {
     "name": "stdout",
     "output_type": "stream",
     "text": [
      "PB B001 * EH? 2010-01-01T08:51:06.371091Z 2010-01-01T08:56:06.371091Z\n",
      "EH\n",
      "PB B007 * EH? 2010-01-01T08:51:06.371091Z 2010-01-01T08:56:06.371091Z\n",
      "EH\n"
     ]
    },
    {
     "name": "stderr",
     "output_type": "stream",
     "text": [
      "  1%|          | 62/8340 [00:10<21:45,  6.34it/s]"
     ]
    },
    {
     "name": "stdout",
     "output_type": "stream",
     "text": [
      "PB B005 * EH? 2010-01-01T08:51:06.371091Z 2010-01-01T08:56:06.371091Z\n",
      "EH\n",
      "PB B011 * EH? 2010-01-01T08:51:06.371091Z 2010-01-01T08:56:06.371091Z\n",
      "EH\n"
     ]
    },
    {
     "name": "stderr",
     "output_type": "stream",
     "text": [
      "  1%|          | 64/8340 [00:10<21:37,  6.38it/s]"
     ]
    },
    {
     "name": "stdout",
     "output_type": "stream",
     "text": [
      "CN GOBB * EH? 2010-01-01T08:51:06.371091Z 2010-01-01T08:56:06.371091Z\n",
      "EH\n",
      "PB B926 * EH? 2010-01-01T08:51:06.371091Z 2010-01-01T08:56:06.371091Z\n",
      "EH\n"
     ]
    },
    {
     "name": "stderr",
     "output_type": "stream",
     "text": [
      "  1%|          | 66/8340 [00:11<20:51,  6.61it/s]"
     ]
    },
    {
     "name": "stdout",
     "output_type": "stream",
     "text": [
      "CN BIB * EH? 2010-01-01T08:51:06.371091Z 2010-01-01T08:56:06.371091Z\n",
      "EH\n",
      "CN VDB * EH? 2010-01-01T08:51:06.371091Z 2010-01-01T08:56:06.371091Z\n",
      "EH\n"
     ]
    },
    {
     "name": "stderr",
     "output_type": "stream",
     "text": [
      "  1%|          | 68/8340 [00:11<20:14,  6.81it/s]"
     ]
    },
    {
     "name": "stdout",
     "output_type": "stream",
     "text": [
      "UW MTM * EH? 2010-01-01T16:11:53.838660Z 2010-01-01T16:16:53.838660Z\n",
      "EH\n",
      "UW LVP * EH? 2010-01-01T16:11:53.838660Z 2010-01-01T16:16:53.838660Z\n",
      "EH\n"
     ]
    },
    {
     "name": "stderr",
     "output_type": "stream",
     "text": [
      "  1%|          | 70/8340 [00:11<21:09,  6.51it/s]"
     ]
    },
    {
     "name": "stdout",
     "output_type": "stream",
     "text": [
      "PB B204 * EH? 2010-01-01T16:11:53.838660Z 2010-01-01T16:16:53.838660Z\n",
      "EH\n",
      "PB B203 * EH? 2010-01-01T16:11:53.838660Z 2010-01-01T16:16:53.838660Z\n",
      "EH\n"
     ]
    },
    {
     "name": "stderr",
     "output_type": "stream",
     "text": [
      "  1%|          | 72/8340 [00:11<20:28,  6.73it/s]"
     ]
    },
    {
     "name": "stdout",
     "output_type": "stream",
     "text": [
      "UW HSR * EH? 2010-01-01T16:11:53.838660Z 2010-01-01T16:16:53.838660Z\n",
      "EH\n",
      "UW SHW * EH? 2010-01-01T16:11:53.838660Z 2010-01-01T16:16:53.838660Z\n",
      "EH\n"
     ]
    },
    {
     "name": "stderr",
     "output_type": "stream",
     "text": [
      "  1%|          | 74/8340 [00:12<20:54,  6.59it/s]"
     ]
    },
    {
     "name": "stdout",
     "output_type": "stream",
     "text": [
      "UW FL2 * EH? 2010-01-01T16:11:53.838660Z 2010-01-01T16:16:53.838660Z\n",
      "EH\n",
      "PB B202 * EH? 2010-01-01T16:11:53.838660Z 2010-01-01T16:16:53.838660Z\n",
      "EH\n"
     ]
    },
    {
     "name": "stderr",
     "output_type": "stream",
     "text": [
      "  1%|          | 76/8340 [00:12<20:16,  6.80it/s]"
     ]
    },
    {
     "name": "stdout",
     "output_type": "stream",
     "text": [
      "UW SOS * EH? 2010-01-01T16:11:53.838660Z 2010-01-01T16:16:53.838660Z\n",
      "EH\n",
      "UW ELK * EH? 2010-01-01T16:11:53.838660Z 2010-01-01T16:16:53.838660Z\n",
      "EH\n"
     ]
    },
    {
     "name": "stderr",
     "output_type": "stream",
     "text": [
      "  1%|          | 78/8340 [00:12<20:27,  6.73it/s]"
     ]
    },
    {
     "name": "stdout",
     "output_type": "stream",
     "text": [
      "PB B201 * EH? 2010-01-01T16:11:53.838660Z 2010-01-01T16:16:53.838660Z\n",
      "EH\n",
      "UW TDL * EH? 2010-01-01T16:11:53.838660Z 2010-01-01T16:16:53.838660Z\n",
      "EH\n"
     ]
    },
    {
     "name": "stderr",
     "output_type": "stream",
     "text": [
      "  1%|          | 80/8340 [00:13<20:39,  6.66it/s]"
     ]
    },
    {
     "name": "stdout",
     "output_type": "stream",
     "text": [
      "UW KOS * EH? 2010-01-01T16:11:53.838660Z 2010-01-01T16:16:53.838660Z\n",
      "EH\n",
      "PB B023 * EH? 2010-01-01T16:11:53.838660Z 2010-01-01T16:16:53.838660Z\n",
      "EH\n"
     ]
    },
    {
     "name": "stderr",
     "output_type": "stream",
     "text": [
      "  1%|          | 82/8340 [00:13<20:46,  6.62it/s]"
     ]
    },
    {
     "name": "stdout",
     "output_type": "stream",
     "text": [
      "UW LMW * EH? 2010-01-01T16:11:53.838660Z 2010-01-01T16:16:53.838660Z\n",
      "EH\n",
      "PB B941 * EH? 2010-01-01T16:11:53.838660Z 2010-01-01T16:16:53.838660Z\n",
      "EH\n"
     ]
    },
    {
     "name": "stderr",
     "output_type": "stream",
     "text": [
      "  1%|          | 84/8340 [00:13<20:50,  6.60it/s]"
     ]
    },
    {
     "name": "stdout",
     "output_type": "stream",
     "text": [
      "UW PCFR * EH? 2010-01-01T16:11:53.838660Z 2010-01-01T16:16:53.838660Z\n",
      "EH\n",
      "PB B018 * EH? 2010-01-01T16:11:53.838660Z 2010-01-01T16:16:53.838660Z\n",
      "EH\n"
     ]
    },
    {
     "name": "stderr",
     "output_type": "stream",
     "text": [
      "  1%|          | 86/8340 [00:14<20:36,  6.67it/s]"
     ]
    },
    {
     "name": "stdout",
     "output_type": "stream",
     "text": [
      "PB B026 * EH? 2010-01-01T16:11:53.838660Z 2010-01-01T16:16:53.838660Z\n",
      "EH\n",
      "UW RVW * EH? 2010-01-01T16:11:53.838660Z 2010-01-01T16:16:53.838660Z\n",
      "EH\n"
     ]
    },
    {
     "name": "stderr",
     "output_type": "stream",
     "text": [
      "  1%|          | 88/8340 [00:14<21:21,  6.44it/s]"
     ]
    },
    {
     "name": "stdout",
     "output_type": "stream",
     "text": [
      "PB B943 * EH? 2010-01-01T16:11:53.838660Z 2010-01-01T16:16:53.838660Z\n",
      "EH\n",
      "PB B013 * EH? 2010-01-01T16:11:53.838660Z 2010-01-01T16:16:53.838660Z\n",
      "EH\n"
     ]
    },
    {
     "name": "stderr",
     "output_type": "stream",
     "text": [
      "  1%|          | 90/8340 [00:14<21:05,  6.52it/s]"
     ]
    },
    {
     "name": "stdout",
     "output_type": "stream",
     "text": [
      "UW MCW * EH? 2010-01-01T18:16:03.218856Z 2010-01-01T18:21:03.218856Z\n",
      "EH\n",
      "PB B011 * EH? 2010-01-01T18:16:03.218856Z 2010-01-01T18:21:03.218856Z\n",
      "EH\n"
     ]
    },
    {
     "name": "stderr",
     "output_type": "stream",
     "text": [
      "  1%|          | 92/8340 [00:14<20:51,  6.59it/s]"
     ]
    },
    {
     "name": "stdout",
     "output_type": "stream",
     "text": [
      "PB B001 * EH? 2010-01-01T18:16:03.218856Z 2010-01-01T18:21:03.218856Z\n",
      "EH\n",
      "UW BLN * EH? 2010-01-01T18:16:03.218856Z 2010-01-01T18:21:03.218856Z\n",
      "EH\n"
     ]
    },
    {
     "name": "stderr",
     "output_type": "stream",
     "text": [
      "  1%|          | 94/8340 [00:15<21:26,  6.41it/s]"
     ]
    },
    {
     "name": "stdout",
     "output_type": "stream",
     "text": [
      "PB B005 * EH? 2010-01-01T18:16:03.218856Z 2010-01-01T18:21:03.218856Z\n",
      "EH\n",
      "PB B007 * EH? 2010-01-01T18:16:03.218856Z 2010-01-01T18:21:03.218856Z\n",
      "EH\n"
     ]
    },
    {
     "name": "stderr",
     "output_type": "stream",
     "text": [
      "  1%|          | 96/8340 [00:15<21:42,  6.33it/s]"
     ]
    },
    {
     "name": "stdout",
     "output_type": "stream",
     "text": [
      "PB B943 * EH? 2010-01-01T18:16:03.218856Z 2010-01-01T18:21:03.218856Z\n",
      "EH\n",
      "PB B013 * EH? 2010-01-01T18:16:03.218856Z 2010-01-01T18:21:03.218856Z\n",
      "EH\n"
     ]
    },
    {
     "name": "stderr",
     "output_type": "stream",
     "text": [
      "  1%|          | 98/8340 [00:15<21:18,  6.45it/s]"
     ]
    },
    {
     "name": "stdout",
     "output_type": "stream",
     "text": [
      "UW ATES * EH? 2010-01-01T18:16:03.218856Z 2010-01-01T18:21:03.218856Z\n",
      "EH\n",
      "PB B926 * EH? 2010-01-01T18:16:03.218856Z 2010-01-01T18:21:03.218856Z\n",
      "EH\n"
     ]
    },
    {
     "name": "stderr",
     "output_type": "stream",
     "text": [
      "  1%|          | 100/8340 [00:16<20:44,  6.62it/s]"
     ]
    },
    {
     "name": "stdout",
     "output_type": "stream",
     "text": [
      "PB B003 * EH? 2010-01-01T18:16:03.218856Z 2010-01-01T18:21:03.218856Z\n",
      "EH\n",
      "CN VDB * EH? 2010-01-01T18:16:03.218856Z 2010-01-01T18:21:03.218856Z\n",
      "EH\n"
     ]
    },
    {
     "name": "stderr",
     "output_type": "stream",
     "text": [
      "  1%|          | 102/8340 [00:16<20:08,  6.82it/s]"
     ]
    },
    {
     "name": "stdout",
     "output_type": "stream",
     "text": [
      "CN BIB * EH? 2010-01-01T18:16:03.218856Z 2010-01-01T18:21:03.218856Z\n",
      "EH\n",
      "CN WPB * EH? 2010-01-01T18:16:03.218856Z 2010-01-01T18:21:03.218856Z\n",
      "EH\n"
     ]
    },
    {
     "name": "stderr",
     "output_type": "stream",
     "text": [
      "  1%|          | 104/8340 [00:16<20:27,  6.71it/s]"
     ]
    },
    {
     "name": "stdout",
     "output_type": "stream",
     "text": [
      "CN GOBB * EH? 2010-01-01T18:16:03.218856Z 2010-01-01T18:21:03.218856Z\n",
      "EH\n",
      "PB B004 * EH? 2010-01-01T18:16:03.218856Z 2010-01-01T18:21:03.218856Z\n",
      "EH\n"
     ]
    },
    {
     "name": "stderr",
     "output_type": "stream",
     "text": [
      "  1%|▏         | 106/8340 [00:17<19:58,  6.87it/s]"
     ]
    },
    {
     "name": "stdout",
     "output_type": "stream",
     "text": [
      "UW MCW * EH? 2010-01-01T19:27:58.544440Z 2010-01-01T19:32:58.544440Z\n",
      "EH\n",
      "CN BIB * EH? 2010-01-01T19:27:58.544440Z 2010-01-01T19:32:58.544440Z\n",
      "EH\n"
     ]
    },
    {
     "name": "stderr",
     "output_type": "stream",
     "text": [
      "  1%|▏         | 108/8340 [00:17<20:21,  6.74it/s]"
     ]
    },
    {
     "name": "stdout",
     "output_type": "stream",
     "text": [
      "CN WPB * EH? 2010-01-01T19:27:58.544440Z 2010-01-01T19:32:58.544440Z\n",
      "EH\n",
      "PB B926 * EH? 2010-01-01T19:27:58.544440Z 2010-01-01T19:32:58.544440Z\n",
      "EH\n"
     ]
    },
    {
     "name": "stderr",
     "output_type": "stream",
     "text": [
      "  1%|▏         | 110/8340 [00:17<20:30,  6.69it/s]"
     ]
    },
    {
     "name": "stdout",
     "output_type": "stream",
     "text": [
      "UW BLN * EH? 2010-01-01T19:27:58.544440Z 2010-01-01T19:32:58.544440Z\n",
      "EH\n",
      "PB B001 * EH? 2010-01-01T19:27:58.544440Z 2010-01-01T19:32:58.544440Z\n",
      "EH\n"
     ]
    },
    {
     "name": "stderr",
     "output_type": "stream",
     "text": [
      "  1%|▏         | 112/8340 [00:17<20:55,  6.55it/s]"
     ]
    },
    {
     "name": "stdout",
     "output_type": "stream",
     "text": [
      "PB B005 * EH? 2010-01-01T19:27:58.544440Z 2010-01-01T19:32:58.544440Z\n",
      "EH\n",
      "PB B007 * EH? 2010-01-01T19:27:58.544440Z 2010-01-01T19:32:58.544440Z\n",
      "EH\n"
     ]
    },
    {
     "name": "stderr",
     "output_type": "stream",
     "text": [
      "  1%|▏         | 114/8340 [00:18<20:16,  6.76it/s]"
     ]
    },
    {
     "name": "stdout",
     "output_type": "stream",
     "text": [
      "CN TXB * EH? 2010-01-01T19:27:58.544440Z 2010-01-01T19:32:58.544440Z\n",
      "EH\n",
      "CN VDB * EH? 2010-01-01T19:27:58.544440Z 2010-01-01T19:32:58.544440Z\n",
      "EH\n"
     ]
    },
    {
     "name": "stderr",
     "output_type": "stream",
     "text": [
      "  1%|▏         | 116/8340 [00:18<21:06,  6.49it/s]"
     ]
    },
    {
     "name": "stdout",
     "output_type": "stream",
     "text": [
      "PB B943 * EH? 2010-01-01T19:27:58.544440Z 2010-01-01T19:32:58.544440Z\n",
      "EH\n",
      "PB B013 * EH? 2010-01-01T19:27:58.544440Z 2010-01-01T19:32:58.544440Z\n",
      "EH\n"
     ]
    },
    {
     "name": "stderr",
     "output_type": "stream",
     "text": [
      "  1%|▏         | 118/8340 [00:18<20:25,  6.71it/s]"
     ]
    },
    {
     "name": "stdout",
     "output_type": "stream",
     "text": [
      "UW LVP * EH? 2010-01-01T19:27:58.544440Z 2010-01-01T19:32:58.544440Z\n",
      "EH\n",
      "CN VDB * EH? 2010-01-01T20:36:16.275196Z 2010-01-01T20:41:16.275196Z\n",
      "EH\n"
     ]
    },
    {
     "name": "stderr",
     "output_type": "stream",
     "text": [
      "  1%|▏         | 120/8340 [00:19<20:07,  6.81it/s]"
     ]
    },
    {
     "name": "stdout",
     "output_type": "stream",
     "text": [
      "CN WPB * EH? 2010-01-01T20:36:16.275196Z 2010-01-01T20:41:16.275196Z\n",
      "EH\n",
      "UW MCW * EH? 2010-01-01T20:36:16.275196Z 2010-01-01T20:41:16.275196Z\n",
      "EH\n"
     ]
    },
    {
     "name": "stderr",
     "output_type": "stream",
     "text": [
      "  1%|▏         | 122/8340 [00:19<20:30,  6.68it/s]"
     ]
    },
    {
     "name": "stdout",
     "output_type": "stream",
     "text": [
      "UW OCP * EH? 2010-01-02T02:14:25.073640Z 2010-01-02T02:19:25.073640Z\n",
      "EH\n",
      "PB B004 * EH? 2010-01-02T02:14:25.073640Z 2010-01-02T02:19:25.073640Z\n",
      "EH\n"
     ]
    },
    {
     "name": "stderr",
     "output_type": "stream",
     "text": [
      "  1%|▏         | 124/8340 [00:19<21:00,  6.52it/s]"
     ]
    },
    {
     "name": "stdout",
     "output_type": "stream",
     "text": [
      "PB B003 * EH? 2010-01-02T02:14:25.073640Z 2010-01-02T02:19:25.073640Z\n",
      "EH\n",
      "PB B926 * EH? 2010-01-02T02:14:25.073640Z 2010-01-02T02:19:25.073640Z\n",
      "EH\n"
     ]
    },
    {
     "name": "stderr",
     "output_type": "stream",
     "text": [
      "  2%|▏         | 126/8340 [00:20<20:23,  6.71it/s]"
     ]
    },
    {
     "name": "stdout",
     "output_type": "stream",
     "text": [
      "UW UWFH * EH? 2010-01-02T02:14:25.073640Z 2010-01-02T02:19:25.073640Z\n",
      "EH\n",
      "UW HDW * EH? 2010-01-02T02:28:55.228006Z 2010-01-02T02:33:55.228006Z\n",
      "EH\n"
     ]
    },
    {
     "name": "stderr",
     "output_type": "stream",
     "text": [
      "  2%|▏         | 128/8340 [00:20<21:00,  6.52it/s]"
     ]
    },
    {
     "name": "stdout",
     "output_type": "stream",
     "text": [
      "PB B941 * EH? 2010-01-02T02:28:55.228006Z 2010-01-02T02:33:55.228006Z\n",
      "EH\n",
      "PB B018 * EH? 2010-01-02T02:28:55.228006Z 2010-01-02T02:33:55.228006Z\n",
      "EH\n"
     ]
    },
    {
     "name": "stderr",
     "output_type": "stream",
     "text": [
      "  2%|▏         | 130/8340 [00:20<20:13,  6.77it/s]"
     ]
    },
    {
     "name": "stdout",
     "output_type": "stream",
     "text": [
      "UW MTM * EH? 2010-01-02T02:28:55.228006Z 2010-01-02T02:33:55.228006Z\n",
      "EH\n",
      "UW BLN * EH? 2010-01-02T02:28:55.228006Z 2010-01-02T02:33:55.228006Z\n",
      "EH\n"
     ]
    },
    {
     "name": "stderr",
     "output_type": "stream",
     "text": [
      "  2%|▏         | 132/8340 [00:20<21:16,  6.43it/s]"
     ]
    },
    {
     "name": "stdout",
     "output_type": "stream",
     "text": [
      "UW OSD * EH? 2010-01-02T02:28:55.228006Z 2010-01-02T02:33:55.228006Z\n",
      "EH\n",
      "PB B046 * EH? 2010-01-02T03:21:28.860241Z 2010-01-02T03:26:28.860241Z\n",
      "EH\n"
     ]
    },
    {
     "name": "stderr",
     "output_type": "stream",
     "text": [
      "  2%|▏         | 134/8340 [00:21<22:29,  6.08it/s]"
     ]
    },
    {
     "name": "stdout",
     "output_type": "stream",
     "text": [
      "PB B932 * EH? 2010-01-02T03:21:28.860241Z 2010-01-02T03:26:28.860241Z\n",
      "EH\n",
      "PB B047 * EH? 2010-01-02T03:21:28.860241Z 2010-01-02T03:26:28.860241Z\n",
      "EH\n"
     ]
    },
    {
     "name": "stderr",
     "output_type": "stream",
     "text": [
      "  2%|▏         | 136/8340 [00:21<23:21,  5.86it/s]"
     ]
    },
    {
     "name": "stdout",
     "output_type": "stream",
     "text": [
      "PB B933 * EH? 2010-01-02T03:21:28.860241Z 2010-01-02T03:26:28.860241Z\n",
      "EH\n",
      "PB B935 * EH? 2010-01-02T03:21:28.860241Z 2010-01-02T03:26:28.860241Z\n",
      "EH\n"
     ]
    },
    {
     "name": "stderr",
     "output_type": "stream",
     "text": [
      "  2%|▏         | 138/8340 [00:22<22:33,  6.06it/s]"
     ]
    },
    {
     "name": "stdout",
     "output_type": "stream",
     "text": [
      "PB B941 * EH? 2010-01-02T04:24:17.271677Z 2010-01-02T04:29:17.271677Z\n",
      "EH\n",
      "PB B943 * EH? 2010-01-02T04:24:17.271677Z 2010-01-02T04:29:17.271677Z\n",
      "EH\n"
     ]
    },
    {
     "name": "stderr",
     "output_type": "stream",
     "text": [
      "  2%|▏         | 140/8340 [00:22<21:28,  6.36it/s]"
     ]
    },
    {
     "name": "stdout",
     "output_type": "stream",
     "text": [
      "PB B013 * EH? 2010-01-02T04:24:17.271677Z 2010-01-02T04:29:17.271677Z\n",
      "EH\n",
      "UW BLN * EH? 2010-01-02T04:24:17.271677Z 2010-01-02T04:29:17.271677Z\n",
      "EH\n"
     ]
    },
    {
     "name": "stderr",
     "output_type": "stream",
     "text": [
      "  2%|▏         | 142/8340 [00:22<21:25,  6.38it/s]"
     ]
    },
    {
     "name": "stdout",
     "output_type": "stream",
     "text": [
      "UW HDW * EH? 2010-01-02T04:24:17.271677Z 2010-01-02T04:29:17.271677Z\n",
      "EH\n",
      "PB B018 * EH? 2010-01-02T04:24:17.271677Z 2010-01-02T04:29:17.271677Z\n",
      "EH\n"
     ]
    },
    {
     "name": "stderr",
     "output_type": "stream",
     "text": [
      "  2%|▏         | 144/8340 [00:22<20:25,  6.69it/s]"
     ]
    },
    {
     "name": "stdout",
     "output_type": "stream",
     "text": [
      "UW LMW * EH? 2010-01-02T04:24:17.271677Z 2010-01-02T04:29:17.271677Z\n",
      "EH\n",
      "UW TDL * EH? 2010-01-02T04:24:17.271677Z 2010-01-02T04:29:17.271677Z\n",
      "EH\n"
     ]
    },
    {
     "name": "stderr",
     "output_type": "stream",
     "text": [
      "  2%|▏         | 146/8340 [00:23<20:52,  6.54it/s]"
     ]
    },
    {
     "name": "stdout",
     "output_type": "stream",
     "text": [
      "UW ELK * EH? 2010-01-02T04:24:17.271677Z 2010-01-02T04:29:17.271677Z\n",
      "EH\n",
      "PB B202 * EH? 2010-01-02T04:24:17.271677Z 2010-01-02T04:29:17.271677Z\n",
      "EH\n"
     ]
    },
    {
     "name": "stderr",
     "output_type": "stream",
     "text": [
      "  2%|▏         | 148/8340 [00:23<20:37,  6.62it/s]"
     ]
    },
    {
     "name": "stdout",
     "output_type": "stream",
     "text": [
      "PB B201 * EH? 2010-01-02T04:24:17.271677Z 2010-01-02T04:29:17.271677Z\n",
      "EH\n",
      "UW FL2 * EH? 2010-01-02T04:24:17.271677Z 2010-01-02T04:29:17.271677Z\n",
      "EH\n"
     ]
    },
    {
     "name": "stderr",
     "output_type": "stream",
     "text": [
      "  2%|▏         | 150/8340 [00:23<20:30,  6.66it/s]"
     ]
    },
    {
     "name": "stdout",
     "output_type": "stream",
     "text": [
      "PB B011 * EH? 2010-01-02T04:24:17.271677Z 2010-01-02T04:29:17.271677Z\n",
      "EH\n",
      "UW LVP * EH? 2010-01-02T04:24:17.271677Z 2010-01-02T04:29:17.271677Z\n",
      "EH\n"
     ]
    },
    {
     "name": "stderr",
     "output_type": "stream",
     "text": [
      "  2%|▏         | 152/8340 [00:24<19:56,  6.84it/s]"
     ]
    },
    {
     "name": "stdout",
     "output_type": "stream",
     "text": [
      "CN VDB * EH? 2010-01-02T04:24:17.271677Z 2010-01-02T04:29:17.271677Z\n",
      "EH\n",
      "UW OOW * EH? 2010-01-02T04:24:17.271677Z 2010-01-02T04:29:17.271677Z\n",
      "EH\n"
     ]
    },
    {
     "name": "stderr",
     "output_type": "stream",
     "text": [
      "  2%|▏         | 154/8340 [00:24<19:41,  6.93it/s]"
     ]
    },
    {
     "name": "stdout",
     "output_type": "stream",
     "text": [
      "CN BIB * EH? 2010-01-02T04:24:17.271677Z 2010-01-02T04:29:17.271677Z\n",
      "EH\n",
      "UW KOS * EH? 2010-01-02T04:24:17.271677Z 2010-01-02T04:29:17.271677Z\n",
      "EH\n"
     ]
    },
    {
     "name": "stderr",
     "output_type": "stream",
     "text": [
      "  2%|▏         | 156/8340 [00:24<20:22,  6.70it/s]"
     ]
    },
    {
     "name": "stdout",
     "output_type": "stream",
     "text": [
      "UW SOS * EH? 2010-01-02T04:24:17.271677Z 2010-01-02T04:29:17.271677Z\n",
      "EH\n",
      "PB B203 * EH? 2010-01-02T04:24:17.271677Z 2010-01-02T04:29:17.271677Z\n",
      "EH\n"
     ]
    },
    {
     "name": "stderr",
     "output_type": "stream",
     "text": [
      "  2%|▏         | 158/8340 [00:25<22:26,  6.07it/s]"
     ]
    },
    {
     "name": "stdout",
     "output_type": "stream",
     "text": [
      "PB B935 * EH? 2010-01-02T04:49:40.983869Z 2010-01-02T04:54:40.983869Z\n",
      "EH\n",
      "PB B932 * EH? 2010-01-02T04:49:40.983869Z 2010-01-02T04:54:40.983869Z\n",
      "EH\n"
     ]
    },
    {
     "name": "stderr",
     "output_type": "stream",
     "text": [
      "  2%|▏         | 160/8340 [00:25<23:14,  5.87it/s]"
     ]
    },
    {
     "name": "stdout",
     "output_type": "stream",
     "text": [
      "PB B047 * EH? 2010-01-02T04:49:40.983869Z 2010-01-02T04:54:40.983869Z\n",
      "EH\n",
      "PB B046 * EH? 2010-01-02T04:49:40.983869Z 2010-01-02T04:54:40.983869Z\n",
      "EH\n"
     ]
    },
    {
     "name": "stderr",
     "output_type": "stream",
     "text": [
      "  2%|▏         | 162/8340 [00:25<22:10,  6.15it/s]"
     ]
    },
    {
     "name": "stdout",
     "output_type": "stream",
     "text": [
      "PB B933 * EH? 2010-01-02T04:49:40.983869Z 2010-01-02T04:54:40.983869Z\n",
      "EH\n",
      "UW KOS * EH? 2010-01-02T08:07:29.625595Z 2010-01-02T08:12:29.625595Z\n",
      "EH\n"
     ]
    },
    {
     "name": "stderr",
     "output_type": "stream",
     "text": [
      "  2%|▏         | 164/8340 [00:26<20:51,  6.53it/s]"
     ]
    },
    {
     "name": "stdout",
     "output_type": "stream",
     "text": [
      "UW PCFR * EH? 2010-01-02T08:07:29.625595Z 2010-01-02T08:12:29.625595Z\n",
      "EH\n",
      "UW ELK * EH? 2010-01-02T08:07:29.625595Z 2010-01-02T08:12:29.625595Z\n",
      "EH\n"
     ]
    },
    {
     "name": "stderr",
     "output_type": "stream",
     "text": [
      "  2%|▏         | 166/8340 [00:26<21:23,  6.37it/s]"
     ]
    },
    {
     "name": "stdout",
     "output_type": "stream",
     "text": [
      "PB B202 * EH? 2010-01-02T08:07:29.625595Z 2010-01-02T08:12:29.625595Z\n",
      "EH\n",
      "PB B201 * EH? 2010-01-02T08:07:29.625595Z 2010-01-02T08:12:29.625595Z\n",
      "EH\n"
     ]
    },
    {
     "name": "stderr",
     "output_type": "stream",
     "text": [
      "  2%|▏         | 168/8340 [00:26<20:56,  6.51it/s]"
     ]
    },
    {
     "name": "stdout",
     "output_type": "stream",
     "text": [
      "UW FL2 * EH? 2010-01-02T08:07:29.625595Z 2010-01-02T08:12:29.625595Z\n",
      "EH\n",
      "PB B018 * EH? 2010-01-02T08:07:29.625595Z 2010-01-02T08:12:29.625595Z\n",
      "EH\n"
     ]
    },
    {
     "name": "stderr",
     "output_type": "stream",
     "text": [
      "  2%|▏         | 170/8340 [00:26<20:03,  6.79it/s]"
     ]
    },
    {
     "name": "stdout",
     "output_type": "stream",
     "text": [
      "UW CMW * EH? 2010-01-02T08:07:29.625595Z 2010-01-02T08:12:29.625595Z\n",
      "EH\n",
      "UW SMW * EH? 2010-01-02T08:07:29.625595Z 2010-01-02T08:12:29.625595Z\n",
      "EH\n"
     ]
    },
    {
     "name": "stderr",
     "output_type": "stream",
     "text": [
      "  2%|▏         | 172/8340 [00:27<20:18,  6.70it/s]"
     ]
    },
    {
     "name": "stdout",
     "output_type": "stream",
     "text": [
      "PB B013 * EH? 2010-01-02T08:07:29.625595Z 2010-01-02T08:12:29.625595Z\n",
      "EH\n",
      "UW RVW * EH? 2010-01-02T08:30:59.627744Z 2010-01-02T08:35:59.627744Z\n",
      "EH\n"
     ]
    },
    {
     "name": "stderr",
     "output_type": "stream",
     "text": [
      "  2%|▏         | 174/8340 [00:27<20:13,  6.73it/s]"
     ]
    },
    {
     "name": "stdout",
     "output_type": "stream",
     "text": [
      "PB B023 * EH? 2010-01-02T08:30:59.627744Z 2010-01-02T08:35:59.627744Z\n",
      "EH\n",
      "UW LVP * EH? 2010-01-02T08:30:59.627744Z 2010-01-02T08:35:59.627744Z\n",
      "EH\n"
     ]
    },
    {
     "name": "stderr",
     "output_type": "stream",
     "text": [
      "  2%|▏         | 176/8340 [00:27<20:25,  6.66it/s]"
     ]
    },
    {
     "name": "stdout",
     "output_type": "stream",
     "text": [
      "PB B203 * EH? 2010-01-02T08:30:59.627744Z 2010-01-02T08:35:59.627744Z\n",
      "EH\n",
      "UW FL2 * EH? 2010-01-02T08:30:59.627744Z 2010-01-02T08:35:59.627744Z\n",
      "EH\n"
     ]
    },
    {
     "name": "stderr",
     "output_type": "stream",
     "text": [
      "  2%|▏         | 178/8340 [00:28<20:35,  6.61it/s]"
     ]
    },
    {
     "name": "stdout",
     "output_type": "stream",
     "text": [
      "UW ELK * EH? 2010-01-02T08:30:59.627744Z 2010-01-02T08:35:59.627744Z\n",
      "EH\n",
      "PB B204 * EH? 2010-01-02T08:30:59.627744Z 2010-01-02T08:35:59.627744Z\n",
      "EH\n"
     ]
    },
    {
     "name": "stderr",
     "output_type": "stream",
     "text": [
      "  2%|▏         | 180/8340 [00:28<19:55,  6.83it/s]"
     ]
    },
    {
     "name": "stdout",
     "output_type": "stream",
     "text": [
      "UW BOW * EH? 2010-01-02T08:30:59.627744Z 2010-01-02T08:35:59.627744Z\n",
      "EH\n",
      "UW TDL * EH? 2010-01-02T08:30:59.627744Z 2010-01-02T08:35:59.627744Z\n",
      "EH\n"
     ]
    },
    {
     "name": "stderr",
     "output_type": "stream",
     "text": [
      "  2%|▏         | 182/8340 [00:28<20:56,  6.49it/s]"
     ]
    },
    {
     "name": "stdout",
     "output_type": "stream",
     "text": [
      "PB B202 * EH? 2010-01-02T08:30:59.627744Z 2010-01-02T08:35:59.627744Z\n",
      "EH\n",
      "PB B201 * EH? 2010-01-02T08:30:59.627744Z 2010-01-02T08:35:59.627744Z\n",
      "EH\n"
     ]
    },
    {
     "name": "stderr",
     "output_type": "stream",
     "text": [
      "  2%|▏         | 184/8340 [00:29<20:42,  6.57it/s]"
     ]
    },
    {
     "name": "stdout",
     "output_type": "stream",
     "text": [
      "UW KOS * EH? 2010-01-02T08:30:59.627744Z 2010-01-02T08:35:59.627744Z\n",
      "EH\n",
      "PB B018 * EH? 2010-01-02T08:30:59.627744Z 2010-01-02T08:35:59.627744Z\n",
      "EH\n"
     ]
    },
    {
     "name": "stderr",
     "output_type": "stream",
     "text": [
      "  2%|▏         | 186/8340 [00:29<20:24,  6.66it/s]"
     ]
    },
    {
     "name": "stdout",
     "output_type": "stream",
     "text": [
      "PB B941 * EH? 2010-01-02T08:30:59.627744Z 2010-01-02T08:35:59.627744Z\n",
      "EH\n",
      "UW HSR * EH? 2010-01-02T08:30:59.627744Z 2010-01-02T08:35:59.627744Z\n",
      "EH\n"
     ]
    },
    {
     "name": "stderr",
     "output_type": "stream",
     "text": [
      "  2%|▏         | 188/8340 [00:29<20:34,  6.60it/s]"
     ]
    },
    {
     "name": "stdout",
     "output_type": "stream",
     "text": [
      "UW SOS * EH? 2010-01-02T08:30:59.627744Z 2010-01-02T08:35:59.627744Z\n",
      "EH\n",
      "PB B943 * EH? 2010-01-02T10:06:40.583764Z 2010-01-02T10:11:40.583764Z\n",
      "EH\n"
     ]
    },
    {
     "name": "stderr",
     "output_type": "stream",
     "text": [
      "  2%|▏         | 190/8340 [00:29<20:24,  6.65it/s]"
     ]
    },
    {
     "name": "stdout",
     "output_type": "stream",
     "text": [
      "PB B013 * EH? 2010-01-02T10:06:40.583764Z 2010-01-02T10:11:40.583764Z\n",
      "EH\n",
      "UW BLN * EH? 2010-01-02T10:06:40.583764Z 2010-01-02T10:11:40.583764Z\n",
      "EH\n"
     ]
    },
    {
     "name": "stderr",
     "output_type": "stream",
     "text": [
      "  2%|▏         | 192/8340 [00:30<20:01,  6.78it/s]"
     ]
    },
    {
     "name": "stdout",
     "output_type": "stream",
     "text": [
      "UW HDW * EH? 2010-01-02T10:06:40.583764Z 2010-01-02T10:11:40.583764Z\n",
      "EH\n",
      "UW ATES * EH? 2010-01-02T10:06:40.583764Z 2010-01-02T10:11:40.583764Z\n",
      "EH\n"
     ]
    },
    {
     "name": "stderr",
     "output_type": "stream",
     "text": [
      "  2%|▏         | 194/8340 [00:30<20:41,  6.56it/s]"
     ]
    },
    {
     "name": "stdout",
     "output_type": "stream",
     "text": [
      "PB B941 * EH? 2010-01-02T10:06:40.583764Z 2010-01-02T10:11:40.583764Z\n",
      "EH\n",
      "PB B018 * EH? 2010-01-02T10:06:40.583764Z 2010-01-02T10:11:40.583764Z\n",
      "EH\n"
     ]
    },
    {
     "name": "stderr",
     "output_type": "stream",
     "text": [
      "  2%|▏         | 196/8340 [00:30<20:34,  6.59it/s]"
     ]
    },
    {
     "name": "stdout",
     "output_type": "stream",
     "text": [
      "UW MCW * EH? 2010-01-02T10:06:40.583764Z 2010-01-02T10:11:40.583764Z\n",
      "EH\n",
      "PB B011 * EH? 2010-01-02T10:06:40.583764Z 2010-01-02T10:11:40.583764Z\n",
      "EH\n"
     ]
    },
    {
     "name": "stderr",
     "output_type": "stream",
     "text": [
      "  2%|▏         | 198/8340 [00:31<20:42,  6.55it/s]"
     ]
    },
    {
     "name": "stdout",
     "output_type": "stream",
     "text": [
      "CN VDB * EH? 2010-01-02T10:06:40.583764Z 2010-01-02T10:11:40.583764Z\n",
      "EH\n",
      "PB B201 * EH? 2010-01-02T10:06:40.583764Z 2010-01-02T10:11:40.583764Z\n",
      "EH\n"
     ]
    },
    {
     "name": "stderr",
     "output_type": "stream",
     "text": [
      "  2%|▏         | 200/8340 [00:31<19:59,  6.79it/s]"
     ]
    },
    {
     "name": "stdout",
     "output_type": "stream",
     "text": [
      "CN BIB * EH? 2010-01-02T10:06:40.583764Z 2010-01-02T10:11:40.583764Z\n",
      "EH\n",
      "UW BHW * EH? 2010-01-02T10:06:40.583764Z 2010-01-02T10:11:40.583764Z\n",
      "EH\n"
     ]
    },
    {
     "name": "stderr",
     "output_type": "stream",
     "text": [
      "  2%|▏         | 202/8340 [00:31<20:30,  6.61it/s]"
     ]
    },
    {
     "name": "stdout",
     "output_type": "stream",
     "text": [
      "UW ELK * EH? 2010-01-02T10:06:40.583764Z 2010-01-02T10:11:40.583764Z\n",
      "EH\n",
      "PB B202 * EH? 2010-01-02T10:06:40.583764Z 2010-01-02T10:11:40.583764Z\n",
      "EH\n"
     ]
    },
    {
     "name": "stderr",
     "output_type": "stream",
     "text": [
      "  2%|▏         | 204/8340 [00:32<21:38,  6.27it/s]"
     ]
    },
    {
     "name": "stdout",
     "output_type": "stream",
     "text": [
      "UW FL2 * EH? 2010-01-02T10:06:40.583764Z 2010-01-02T10:11:40.583764Z\n",
      "EH\n",
      "PB B046 * EH? 2010-01-02T11:06:23.459605Z 2010-01-02T11:11:23.459605Z\n",
      "EH\n"
     ]
    },
    {
     "name": "stderr",
     "output_type": "stream",
     "text": [
      "  2%|▏         | 206/8340 [00:32<22:57,  5.90it/s]"
     ]
    },
    {
     "name": "stdout",
     "output_type": "stream",
     "text": [
      "PB B932 * EH? 2010-01-02T11:06:23.459605Z 2010-01-02T11:11:23.459605Z\n",
      "EH\n",
      "PB B935 * EH? 2010-01-02T11:06:23.459605Z 2010-01-02T11:11:23.459605Z\n",
      "EH\n"
     ]
    },
    {
     "name": "stderr",
     "output_type": "stream",
     "text": [
      "  2%|▏         | 208/8340 [00:32<23:15,  5.83it/s]"
     ]
    },
    {
     "name": "stdout",
     "output_type": "stream",
     "text": [
      "PB B933 * EH? 2010-01-02T11:06:23.459605Z 2010-01-02T11:11:23.459605Z\n",
      "EH\n",
      "PB B047 * EH? 2010-01-02T11:06:23.459605Z 2010-01-02T11:11:23.459605Z\n",
      "EH\n"
     ]
    },
    {
     "name": "stderr",
     "output_type": "stream",
     "text": [
      "  3%|▎         | 210/8340 [00:33<21:52,  6.19it/s]"
     ]
    },
    {
     "name": "stdout",
     "output_type": "stream",
     "text": [
      "UW RVW * EH? 2010-01-02T12:21:52.573435Z 2010-01-02T12:26:52.573435Z\n",
      "EH\n",
      "PB B023 * EH? 2010-01-02T12:21:52.573435Z 2010-01-02T12:26:52.573435Z\n",
      "EH\n"
     ]
    },
    {
     "name": "stderr",
     "output_type": "stream",
     "text": [
      "  3%|▎         | 212/8340 [00:33<21:11,  6.39it/s]"
     ]
    },
    {
     "name": "stdout",
     "output_type": "stream",
     "text": [
      "PB B201 * EH? 2010-01-02T12:21:52.573435Z 2010-01-02T12:26:52.573435Z\n",
      "EH\n",
      "UW ELK * EH? 2010-01-02T12:21:52.573435Z 2010-01-02T12:26:52.573435Z\n",
      "EH\n"
     ]
    },
    {
     "name": "stderr",
     "output_type": "stream",
     "text": [
      "  3%|▎         | 214/8340 [00:33<21:25,  6.32it/s]"
     ]
    },
    {
     "name": "stdout",
     "output_type": "stream",
     "text": [
      "PB B202 * EH? 2010-01-02T12:21:52.573435Z 2010-01-02T12:26:52.573435Z\n",
      "EH\n",
      "PB B943 * EH? 2010-01-02T12:37:36.942359Z 2010-01-02T12:42:36.942359Z\n",
      "EH\n"
     ]
    },
    {
     "name": "stderr",
     "output_type": "stream",
     "text": [
      "  3%|▎         | 216/8340 [00:33<20:50,  6.49it/s]"
     ]
    },
    {
     "name": "stdout",
     "output_type": "stream",
     "text": [
      "PB B013 * EH? 2010-01-02T12:37:36.942359Z 2010-01-02T12:42:36.942359Z\n",
      "EH\n",
      "UW BLN * EH? 2010-01-02T12:37:36.942359Z 2010-01-02T12:42:36.942359Z\n",
      "EH\n"
     ]
    },
    {
     "name": "stderr",
     "output_type": "stream",
     "text": [
      "  3%|▎         | 218/8340 [00:34<20:08,  6.72it/s]"
     ]
    },
    {
     "name": "stdout",
     "output_type": "stream",
     "text": [
      "UW HDW * EH? 2010-01-02T12:37:36.942359Z 2010-01-02T12:42:36.942359Z\n",
      "EH\n",
      "UW MCW * EH? 2010-01-02T12:37:36.942359Z 2010-01-02T12:42:36.942359Z\n",
      "EH\n"
     ]
    },
    {
     "name": "stderr",
     "output_type": "stream",
     "text": [
      "  3%|▎         | 220/8340 [00:34<20:43,  6.53it/s]"
     ]
    },
    {
     "name": "stdout",
     "output_type": "stream",
     "text": [
      "PB B011 * EH? 2010-01-02T12:37:36.942359Z 2010-01-02T12:42:36.942359Z\n",
      "EH\n",
      "PB B023 * EH? 2010-01-02T13:53:15.653703Z 2010-01-02T13:58:15.653703Z\n",
      "EH\n"
     ]
    },
    {
     "name": "stderr",
     "output_type": "stream",
     "text": [
      "  3%|▎         | 222/8340 [00:34<20:01,  6.76it/s]"
     ]
    },
    {
     "name": "stdout",
     "output_type": "stream",
     "text": [
      "UW BOW * EH? 2010-01-02T13:53:15.653703Z 2010-01-02T13:58:15.653703Z\n",
      "EH\n",
      "UW LVP * EH? 2010-01-02T13:53:15.653703Z 2010-01-02T13:58:15.653703Z\n",
      "EH\n"
     ]
    },
    {
     "name": "stderr",
     "output_type": "stream",
     "text": [
      "  3%|▎         | 224/8340 [00:35<20:28,  6.60it/s]"
     ]
    },
    {
     "name": "stdout",
     "output_type": "stream",
     "text": [
      "UW FL2 * EH? 2010-01-02T13:53:15.653703Z 2010-01-02T13:58:15.653703Z\n",
      "EH\n",
      "PB B203 * EH? 2010-01-02T13:53:15.653703Z 2010-01-02T13:58:15.653703Z\n",
      "EH\n"
     ]
    },
    {
     "name": "stderr",
     "output_type": "stream",
     "text": [
      "  3%|▎         | 226/8340 [00:35<21:06,  6.41it/s]"
     ]
    },
    {
     "name": "stdout",
     "output_type": "stream",
     "text": [
      "PB B201 * EH? 2010-01-02T13:53:15.653703Z 2010-01-02T13:58:15.653703Z\n",
      "EH\n",
      "PB B204 * EH? 2010-01-02T13:53:15.653703Z 2010-01-02T13:58:15.653703Z\n",
      "EH\n"
     ]
    },
    {
     "name": "stderr",
     "output_type": "stream",
     "text": [
      "  3%|▎         | 228/8340 [00:35<21:23,  6.32it/s]"
     ]
    },
    {
     "name": "stdout",
     "output_type": "stream",
     "text": [
      "PB B202 * EH? 2010-01-02T13:53:15.653703Z 2010-01-02T13:58:15.653703Z\n",
      "EH\n",
      "PB B018 * EH? 2010-01-02T13:53:15.653703Z 2010-01-02T13:58:15.653703Z\n",
      "EH\n"
     ]
    },
    {
     "name": "stderr",
     "output_type": "stream",
     "text": [
      "  3%|▎         | 230/8340 [00:36<20:24,  6.62it/s]"
     ]
    },
    {
     "name": "stdout",
     "output_type": "stream",
     "text": [
      "UW MTM * EH? 2010-01-02T16:35:54.389438Z 2010-01-02T16:40:54.389438Z\n",
      "EH\n",
      "UW CDF * EH? 2010-01-02T16:35:54.389438Z 2010-01-02T16:40:54.389438Z\n",
      "EH\n"
     ]
    },
    {
     "name": "stderr",
     "output_type": "stream",
     "text": [
      "  3%|▎         | 232/8340 [00:36<20:20,  6.64it/s]"
     ]
    },
    {
     "name": "stdout",
     "output_type": "stream",
     "text": [
      "PB B204 * EH? 2010-01-02T16:35:54.389438Z 2010-01-02T16:40:54.389438Z\n",
      "EH\n",
      "UW HSR * EH? 2010-01-02T16:35:54.389438Z 2010-01-02T16:40:54.389438Z\n",
      "EH\n"
     ]
    },
    {
     "name": "stderr",
     "output_type": "stream",
     "text": [
      "  3%|▎         | 234/8340 [00:36<20:30,  6.59it/s]"
     ]
    },
    {
     "name": "stdout",
     "output_type": "stream",
     "text": [
      "PB B202 * EH? 2010-01-02T16:35:54.389438Z 2010-01-02T16:40:54.389438Z\n",
      "EH\n",
      "UW LVP * EH? 2010-01-02T16:35:54.389438Z 2010-01-02T16:40:54.389438Z\n",
      "EH\n"
     ]
    },
    {
     "name": "stderr",
     "output_type": "stream",
     "text": [
      "  3%|▎         | 236/8340 [00:37<19:56,  6.77it/s]"
     ]
    },
    {
     "name": "stdout",
     "output_type": "stream",
     "text": [
      "UW SOS * EH? 2010-01-02T16:35:54.389438Z 2010-01-02T16:40:54.389438Z\n",
      "EH\n",
      "UW SHW * EH? 2010-01-02T16:35:54.389438Z 2010-01-02T16:40:54.389438Z\n",
      "EH\n"
     ]
    },
    {
     "name": "stderr",
     "output_type": "stream",
     "text": [
      "  3%|▎         | 238/8340 [00:37<20:11,  6.69it/s]"
     ]
    },
    {
     "name": "stdout",
     "output_type": "stream",
     "text": [
      "PB B203 * EH? 2010-01-02T16:35:54.389438Z 2010-01-02T16:40:54.389438Z\n",
      "EH\n",
      "UW STD * EH? 2010-01-02T16:35:54.389438Z 2010-01-02T16:40:54.389438Z\n",
      "EH\n"
     ]
    },
    {
     "name": "stderr",
     "output_type": "stream",
     "text": [
      "  3%|▎         | 240/8340 [00:37<19:50,  6.80it/s]"
     ]
    },
    {
     "name": "stdout",
     "output_type": "stream",
     "text": [
      "UW FL2 * EH? 2010-01-02T16:35:54.389438Z 2010-01-02T16:40:54.389438Z\n",
      "EH\n",
      "UW TDL * EH? 2010-01-02T16:35:54.389438Z 2010-01-02T16:40:54.389438Z\n",
      "EH\n"
     ]
    },
    {
     "name": "stderr",
     "output_type": "stream",
     "text": [
      "  3%|▎         | 242/8340 [00:37<20:21,  6.63it/s]"
     ]
    },
    {
     "name": "stdout",
     "output_type": "stream",
     "text": [
      "UW ELK * EH? 2010-01-02T16:35:54.389438Z 2010-01-02T16:40:54.389438Z\n",
      "EH\n",
      "PB B201 * EH? 2010-01-02T16:35:54.389438Z 2010-01-02T16:40:54.389438Z\n",
      "EH\n"
     ]
    },
    {
     "name": "stderr",
     "output_type": "stream",
     "text": [
      "  3%|▎         | 244/8340 [00:38<19:51,  6.80it/s]"
     ]
    },
    {
     "name": "stdout",
     "output_type": "stream",
     "text": [
      "UW KOS * EH? 2010-01-02T16:35:54.389438Z 2010-01-02T16:40:54.389438Z\n",
      "EH\n",
      "UW RVW * EH? 2010-01-02T16:35:54.389438Z 2010-01-02T16:40:54.389438Z\n",
      "EH\n"
     ]
    },
    {
     "name": "stderr",
     "output_type": "stream",
     "text": [
      "  3%|▎         | 246/8340 [00:38<19:50,  6.80it/s]"
     ]
    },
    {
     "name": "stdout",
     "output_type": "stream",
     "text": [
      "PB B023 * EH? 2010-01-02T16:35:54.389438Z 2010-01-02T16:40:54.389438Z\n",
      "EH\n",
      "UW LMW * EH? 2010-01-02T16:35:54.389438Z 2010-01-02T16:40:54.389438Z\n",
      "EH\n"
     ]
    },
    {
     "name": "stderr",
     "output_type": "stream",
     "text": [
      "  3%|▎         | 247/8340 [00:38<21:06,  6.39it/s]\n"
     ]
    },
    {
     "name": "stdout",
     "output_type": "stream",
     "text": [
      "UW KMO * EH? 2010-01-02T16:35:54.389438Z 2010-01-02T16:40:54.389438Z\n",
      "EH\n"
     ]
    },
    {
     "ename": "KeyboardInterrupt",
     "evalue": "",
     "output_type": "error",
     "traceback": [
      "\u001b[0;31m---------------------------------------------------------------------------\u001b[0m",
      "\u001b[0;31mKeyboardInterrupt\u001b[0m                         Traceback (most recent call last)",
      "Cell \u001b[0;32mIn[25], line 42\u001b[0m\n\u001b[1;32m     38\u001b[0m time\u001b[38;5;241m.\u001b[39msleep(\u001b[38;5;241m0.2\u001b[39m) \u001b[38;5;66;03m# Stop the execution to avoid making too many requests to the server\u001b[39;00m\n\u001b[1;32m     40\u001b[0m \u001b[38;5;66;03m# st = st1.extend(st2) if len(st2) != 0 else st1\u001b[39;00m\n\u001b[0;32m---> 42\u001b[0m \u001b[38;5;28;01mfor\u001b[39;00m n_s_time \u001b[38;5;129;01min\u001b[39;00m tqdm(batch):\n\u001b[1;32m     43\u001b[0m     i_iter \u001b[38;5;241m+\u001b[39m\u001b[38;5;241m=\u001b[39m \u001b[38;5;241m1\u001b[39m\n\u001b[1;32m     44\u001b[0m     network, station, location, channel, trace_start_time, trace_end_time \u001b[38;5;241m=\u001b[39m n_s_time\n",
      "File \u001b[0;32m/home/jupyter_share/anaconda3/envs/seismo/lib/python3.10/site-packages/tqdm/std.py:1191\u001b[0m, in \u001b[0;36mtqdm.__iter__\u001b[0;34m(self)\u001b[0m\n\u001b[1;32m   1189\u001b[0m dt \u001b[38;5;241m=\u001b[39m cur_t \u001b[38;5;241m-\u001b[39m last_print_t\n\u001b[1;32m   1190\u001b[0m \u001b[38;5;28;01mif\u001b[39;00m dt \u001b[38;5;241m>\u001b[39m\u001b[38;5;241m=\u001b[39m mininterval \u001b[38;5;129;01mand\u001b[39;00m cur_t \u001b[38;5;241m>\u001b[39m\u001b[38;5;241m=\u001b[39m min_start_t:\n\u001b[0;32m-> 1191\u001b[0m     \u001b[38;5;28;43mself\u001b[39;49m\u001b[38;5;241;43m.\u001b[39;49m\u001b[43mupdate\u001b[49m\u001b[43m(\u001b[49m\u001b[43mn\u001b[49m\u001b[43m \u001b[49m\u001b[38;5;241;43m-\u001b[39;49m\u001b[43m \u001b[49m\u001b[43mlast_print_n\u001b[49m\u001b[43m)\u001b[49m\n\u001b[1;32m   1192\u001b[0m     last_print_n \u001b[38;5;241m=\u001b[39m \u001b[38;5;28mself\u001b[39m\u001b[38;5;241m.\u001b[39mlast_print_n\n\u001b[1;32m   1193\u001b[0m     last_print_t \u001b[38;5;241m=\u001b[39m \u001b[38;5;28mself\u001b[39m\u001b[38;5;241m.\u001b[39mlast_print_t\n",
      "File \u001b[0;32m/home/jupyter_share/anaconda3/envs/seismo/lib/python3.10/site-packages/tqdm/std.py:1242\u001b[0m, in \u001b[0;36mtqdm.update\u001b[0;34m(self, n)\u001b[0m\n\u001b[1;32m   1240\u001b[0m     \u001b[38;5;28mself\u001b[39m\u001b[38;5;241m.\u001b[39m_ema_dn(dn)\n\u001b[1;32m   1241\u001b[0m     \u001b[38;5;28mself\u001b[39m\u001b[38;5;241m.\u001b[39m_ema_dt(dt)\n\u001b[0;32m-> 1242\u001b[0m \u001b[38;5;28;43mself\u001b[39;49m\u001b[38;5;241;43m.\u001b[39;49m\u001b[43mrefresh\u001b[49m\u001b[43m(\u001b[49m\u001b[43mlock_args\u001b[49m\u001b[38;5;241;43m=\u001b[39;49m\u001b[38;5;28;43mself\u001b[39;49m\u001b[38;5;241;43m.\u001b[39;49m\u001b[43mlock_args\u001b[49m\u001b[43m)\u001b[49m\n\u001b[1;32m   1243\u001b[0m \u001b[38;5;28;01mif\u001b[39;00m \u001b[38;5;28mself\u001b[39m\u001b[38;5;241m.\u001b[39mdynamic_miniters:\n\u001b[1;32m   1244\u001b[0m     \u001b[38;5;66;03m# If no `miniters` was specified, adjust automatically to the\u001b[39;00m\n\u001b[1;32m   1245\u001b[0m     \u001b[38;5;66;03m# maximum iteration rate seen so far between two prints.\u001b[39;00m\n\u001b[1;32m   1246\u001b[0m     \u001b[38;5;66;03m# e.g.: After running `tqdm.update(5)`, subsequent\u001b[39;00m\n\u001b[1;32m   1247\u001b[0m     \u001b[38;5;66;03m# calls to `tqdm.update()` will only cause an update after\u001b[39;00m\n\u001b[1;32m   1248\u001b[0m     \u001b[38;5;66;03m# at least 5 more iterations.\u001b[39;00m\n\u001b[1;32m   1249\u001b[0m     \u001b[38;5;28;01mif\u001b[39;00m \u001b[38;5;28mself\u001b[39m\u001b[38;5;241m.\u001b[39mmaxinterval \u001b[38;5;129;01mand\u001b[39;00m dt \u001b[38;5;241m>\u001b[39m\u001b[38;5;241m=\u001b[39m \u001b[38;5;28mself\u001b[39m\u001b[38;5;241m.\u001b[39mmaxinterval:\n",
      "File \u001b[0;32m/home/jupyter_share/anaconda3/envs/seismo/lib/python3.10/site-packages/tqdm/std.py:1347\u001b[0m, in \u001b[0;36mtqdm.refresh\u001b[0;34m(self, nolock, lock_args)\u001b[0m\n\u001b[1;32m   1345\u001b[0m     \u001b[38;5;28;01melse\u001b[39;00m:\n\u001b[1;32m   1346\u001b[0m         \u001b[38;5;28mself\u001b[39m\u001b[38;5;241m.\u001b[39m_lock\u001b[38;5;241m.\u001b[39macquire()\n\u001b[0;32m-> 1347\u001b[0m \u001b[38;5;28;43mself\u001b[39;49m\u001b[38;5;241;43m.\u001b[39;49m\u001b[43mdisplay\u001b[49m\u001b[43m(\u001b[49m\u001b[43m)\u001b[49m\n\u001b[1;32m   1348\u001b[0m \u001b[38;5;28;01mif\u001b[39;00m \u001b[38;5;129;01mnot\u001b[39;00m nolock:\n\u001b[1;32m   1349\u001b[0m     \u001b[38;5;28mself\u001b[39m\u001b[38;5;241m.\u001b[39m_lock\u001b[38;5;241m.\u001b[39mrelease()\n",
      "File \u001b[0;32m/home/jupyter_share/anaconda3/envs/seismo/lib/python3.10/site-packages/tqdm/std.py:1495\u001b[0m, in \u001b[0;36mtqdm.display\u001b[0;34m(self, msg, pos)\u001b[0m\n\u001b[1;32m   1493\u001b[0m \u001b[38;5;28;01mif\u001b[39;00m pos:\n\u001b[1;32m   1494\u001b[0m     \u001b[38;5;28mself\u001b[39m\u001b[38;5;241m.\u001b[39mmoveto(pos)\n\u001b[0;32m-> 1495\u001b[0m \u001b[38;5;28;43mself\u001b[39;49m\u001b[38;5;241;43m.\u001b[39;49m\u001b[43msp\u001b[49m\u001b[43m(\u001b[49m\u001b[38;5;28;43mself\u001b[39;49m\u001b[38;5;241;43m.\u001b[39;49m\u001b[38;5;21;43m__str__\u001b[39;49m\u001b[43m(\u001b[49m\u001b[43m)\u001b[49m\u001b[43m \u001b[49m\u001b[38;5;28;43;01mif\u001b[39;49;00m\u001b[43m \u001b[49m\u001b[43mmsg\u001b[49m\u001b[43m \u001b[49m\u001b[38;5;129;43;01mis\u001b[39;49;00m\u001b[43m \u001b[49m\u001b[38;5;28;43;01mNone\u001b[39;49;00m\u001b[43m \u001b[49m\u001b[38;5;28;43;01melse\u001b[39;49;00m\u001b[43m \u001b[49m\u001b[43mmsg\u001b[49m\u001b[43m)\u001b[49m\n\u001b[1;32m   1496\u001b[0m \u001b[38;5;28;01mif\u001b[39;00m pos:\n\u001b[1;32m   1497\u001b[0m     \u001b[38;5;28mself\u001b[39m\u001b[38;5;241m.\u001b[39mmoveto(\u001b[38;5;241m-\u001b[39mpos)\n",
      "File \u001b[0;32m/home/jupyter_share/anaconda3/envs/seismo/lib/python3.10/site-packages/tqdm/std.py:459\u001b[0m, in \u001b[0;36mtqdm.status_printer.<locals>.print_status\u001b[0;34m(s)\u001b[0m\n\u001b[1;32m    457\u001b[0m \u001b[38;5;28;01mdef\u001b[39;00m \u001b[38;5;21mprint_status\u001b[39m(s):\n\u001b[1;32m    458\u001b[0m     len_s \u001b[38;5;241m=\u001b[39m disp_len(s)\n\u001b[0;32m--> 459\u001b[0m     \u001b[43mfp_write\u001b[49m\u001b[43m(\u001b[49m\u001b[38;5;124;43m'\u001b[39;49m\u001b[38;5;130;43;01m\\r\u001b[39;49;00m\u001b[38;5;124;43m'\u001b[39;49m\u001b[43m \u001b[49m\u001b[38;5;241;43m+\u001b[39;49m\u001b[43m \u001b[49m\u001b[43ms\u001b[49m\u001b[43m \u001b[49m\u001b[38;5;241;43m+\u001b[39;49m\u001b[43m \u001b[49m\u001b[43m(\u001b[49m\u001b[38;5;124;43m'\u001b[39;49m\u001b[38;5;124;43m \u001b[39;49m\u001b[38;5;124;43m'\u001b[39;49m\u001b[43m \u001b[49m\u001b[38;5;241;43m*\u001b[39;49m\u001b[43m \u001b[49m\u001b[38;5;28;43mmax\u001b[39;49m\u001b[43m(\u001b[49m\u001b[43mlast_len\u001b[49m\u001b[43m[\u001b[49m\u001b[38;5;241;43m0\u001b[39;49m\u001b[43m]\u001b[49m\u001b[43m \u001b[49m\u001b[38;5;241;43m-\u001b[39;49m\u001b[43m \u001b[49m\u001b[43mlen_s\u001b[49m\u001b[43m,\u001b[49m\u001b[43m \u001b[49m\u001b[38;5;241;43m0\u001b[39;49m\u001b[43m)\u001b[49m\u001b[43m)\u001b[49m\u001b[43m)\u001b[49m\n\u001b[1;32m    460\u001b[0m     last_len[\u001b[38;5;241m0\u001b[39m] \u001b[38;5;241m=\u001b[39m len_s\n",
      "File \u001b[0;32m/home/jupyter_share/anaconda3/envs/seismo/lib/python3.10/site-packages/tqdm/std.py:453\u001b[0m, in \u001b[0;36mtqdm.status_printer.<locals>.fp_write\u001b[0;34m(s)\u001b[0m\n\u001b[1;32m    451\u001b[0m \u001b[38;5;28;01mdef\u001b[39;00m \u001b[38;5;21mfp_write\u001b[39m(s):\n\u001b[1;32m    452\u001b[0m     fp\u001b[38;5;241m.\u001b[39mwrite(\u001b[38;5;28mstr\u001b[39m(s))\n\u001b[0;32m--> 453\u001b[0m     \u001b[43mfp_flush\u001b[49m\u001b[43m(\u001b[49m\u001b[43m)\u001b[49m\n",
      "File \u001b[0;32m/home/jupyter_share/anaconda3/envs/seismo/lib/python3.10/site-packages/tqdm/utils.py:196\u001b[0m, in \u001b[0;36mDisableOnWriteError.disable_on_exception.<locals>.inner\u001b[0;34m(*args, **kwargs)\u001b[0m\n\u001b[1;32m    194\u001b[0m \u001b[38;5;28;01mdef\u001b[39;00m \u001b[38;5;21minner\u001b[39m(\u001b[38;5;241m*\u001b[39margs, \u001b[38;5;241m*\u001b[39m\u001b[38;5;241m*\u001b[39mkwargs):\n\u001b[1;32m    195\u001b[0m     \u001b[38;5;28;01mtry\u001b[39;00m:\n\u001b[0;32m--> 196\u001b[0m         \u001b[38;5;28;01mreturn\u001b[39;00m \u001b[43mfunc\u001b[49m\u001b[43m(\u001b[49m\u001b[38;5;241;43m*\u001b[39;49m\u001b[43margs\u001b[49m\u001b[43m,\u001b[49m\u001b[43m \u001b[49m\u001b[38;5;241;43m*\u001b[39;49m\u001b[38;5;241;43m*\u001b[39;49m\u001b[43mkwargs\u001b[49m\u001b[43m)\u001b[49m\n\u001b[1;32m    197\u001b[0m     \u001b[38;5;28;01mexcept\u001b[39;00m \u001b[38;5;167;01mOSError\u001b[39;00m \u001b[38;5;28;01mas\u001b[39;00m e:\n\u001b[1;32m    198\u001b[0m         \u001b[38;5;28;01mif\u001b[39;00m e\u001b[38;5;241m.\u001b[39merrno \u001b[38;5;241m!=\u001b[39m \u001b[38;5;241m5\u001b[39m:\n",
      "File \u001b[0;32m/home/jupyter_share/anaconda3/envs/seismo/lib/python3.10/site-packages/ipykernel/iostream.py:609\u001b[0m, in \u001b[0;36mOutStream.flush\u001b[0;34m(self)\u001b[0m\n\u001b[1;32m    607\u001b[0m     \u001b[38;5;28mself\u001b[39m\u001b[38;5;241m.\u001b[39mpub_thread\u001b[38;5;241m.\u001b[39mschedule(evt\u001b[38;5;241m.\u001b[39mset)\n\u001b[1;32m    608\u001b[0m     \u001b[38;5;66;03m# and give a timeout to avoid\u001b[39;00m\n\u001b[0;32m--> 609\u001b[0m     \u001b[38;5;28;01mif\u001b[39;00m \u001b[38;5;129;01mnot\u001b[39;00m \u001b[43mevt\u001b[49m\u001b[38;5;241;43m.\u001b[39;49m\u001b[43mwait\u001b[49m\u001b[43m(\u001b[49m\u001b[38;5;28;43mself\u001b[39;49m\u001b[38;5;241;43m.\u001b[39;49m\u001b[43mflush_timeout\u001b[49m\u001b[43m)\u001b[49m:\n\u001b[1;32m    610\u001b[0m         \u001b[38;5;66;03m# write directly to __stderr__ instead of warning because\u001b[39;00m\n\u001b[1;32m    611\u001b[0m         \u001b[38;5;66;03m# if this is happening sys.stderr may be the problem.\u001b[39;00m\n\u001b[1;32m    612\u001b[0m         \u001b[38;5;28mprint\u001b[39m(\u001b[38;5;124m\"\u001b[39m\u001b[38;5;124mIOStream.flush timed out\u001b[39m\u001b[38;5;124m\"\u001b[39m, file\u001b[38;5;241m=\u001b[39msys\u001b[38;5;241m.\u001b[39m__stderr__)\n\u001b[1;32m    613\u001b[0m \u001b[38;5;28;01melse\u001b[39;00m:\n",
      "File \u001b[0;32m/home/jupyter_share/anaconda3/envs/seismo/lib/python3.10/threading.py:607\u001b[0m, in \u001b[0;36mEvent.wait\u001b[0;34m(self, timeout)\u001b[0m\n\u001b[1;32m    605\u001b[0m signaled \u001b[38;5;241m=\u001b[39m \u001b[38;5;28mself\u001b[39m\u001b[38;5;241m.\u001b[39m_flag\n\u001b[1;32m    606\u001b[0m \u001b[38;5;28;01mif\u001b[39;00m \u001b[38;5;129;01mnot\u001b[39;00m signaled:\n\u001b[0;32m--> 607\u001b[0m     signaled \u001b[38;5;241m=\u001b[39m \u001b[38;5;28;43mself\u001b[39;49m\u001b[38;5;241;43m.\u001b[39;49m\u001b[43m_cond\u001b[49m\u001b[38;5;241;43m.\u001b[39;49m\u001b[43mwait\u001b[49m\u001b[43m(\u001b[49m\u001b[43mtimeout\u001b[49m\u001b[43m)\u001b[49m\n\u001b[1;32m    608\u001b[0m \u001b[38;5;28;01mreturn\u001b[39;00m signaled\n",
      "File \u001b[0;32m/home/jupyter_share/anaconda3/envs/seismo/lib/python3.10/threading.py:324\u001b[0m, in \u001b[0;36mCondition.wait\u001b[0;34m(self, timeout)\u001b[0m\n\u001b[1;32m    322\u001b[0m \u001b[38;5;28;01melse\u001b[39;00m:\n\u001b[1;32m    323\u001b[0m     \u001b[38;5;28;01mif\u001b[39;00m timeout \u001b[38;5;241m>\u001b[39m \u001b[38;5;241m0\u001b[39m:\n\u001b[0;32m--> 324\u001b[0m         gotit \u001b[38;5;241m=\u001b[39m \u001b[43mwaiter\u001b[49m\u001b[38;5;241;43m.\u001b[39;49m\u001b[43macquire\u001b[49m\u001b[43m(\u001b[49m\u001b[38;5;28;43;01mTrue\u001b[39;49;00m\u001b[43m,\u001b[49m\u001b[43m \u001b[49m\u001b[43mtimeout\u001b[49m\u001b[43m)\u001b[49m\n\u001b[1;32m    325\u001b[0m     \u001b[38;5;28;01melse\u001b[39;00m:\n\u001b[1;32m    326\u001b[0m         gotit \u001b[38;5;241m=\u001b[39m waiter\u001b[38;5;241m.\u001b[39macquire(\u001b[38;5;28;01mFalse\u001b[39;00m)\n",
      "\u001b[0;31mKeyboardInterrupt\u001b[0m: "
     ]
    }
   ],
   "source": [
    "i_iter = 0\n",
    "\n",
    "# for i in range(len(batches_bulk_waveforms)):\n",
    "for i in range(1):\n",
    "    print(\"Batch\",i)\n",
    "    batch_chunk = batches_bulk_waveforms_chunks[i]\n",
    "    batch = batches_bulk_waveforms[i]\n",
    "\n",
    "    save_errors = []\n",
    "\n",
    "\n",
    "#     st = Stream()\n",
    "\n",
    "#     for j in tqdm(range(len(batch_chunk))):\n",
    "#         n, s, loc, bi, trace_start_time, trace_end_time = batch_chunk[j]\n",
    "#         try: \n",
    "#             st1 = client_waveform.get_waveforms(network=n, station=s, location=loc, channel=bi,\n",
    "#                                                 starttime=trace_start_time, endtime=trace_end_time)\n",
    "#             st.extend(st1)\n",
    "#         except Exception as e:\n",
    "#             print(f\"Error fetching waveforms for {n}.{s} {bi} from {trace_start_time} to {trace_end_time}: {e}\")\n",
    "#             # Write error immediately\n",
    "#             continue\n",
    "#     print('Finished downloading from WaveformClient')\n",
    "\n",
    "\n",
    "    # print(\"Requesting waveforms.\")\n",
    "    # if len(batch_chunk) != 0:\n",
    "    #     st1 = client_waveform.get_waveforms_bulk(batch_chunk)\n",
    "    #     time.sleep(0.2) # Stop the execution to avoid making too many requests to the server\n",
    "    # if len(batch_chunk_ncedc) != 0:\n",
    "    #     st2 = client_ncedc.get_waveforms_bulk(batch_chunk_ncedc)\n",
    "    #     time.sleep(0.2) # Stop the execution to avoid making too many requests to the server\n",
    "    # if len(st1) == 0 and len(st2) == 0:\n",
    "    #     print(f\"Batch {i+1} has no waveform requests.\")\n",
    "    #     continue\n",
    "\n",
    "    time.sleep(0.2) # Stop the execution to avoid making too many requests to the server\n",
    "\n",
    "    # st = st1.extend(st2) if len(st2) != 0 else st1\n",
    "\n",
    "    for n_s_time in tqdm(batch):\n",
    "        i_iter += 1\n",
    "        network, station, location, channel, trace_start_time, trace_end_time = n_s_time\n",
    "\n",
    "        rows_sta  = assoc_df.loc[(assoc_df['sta'] == f\"{network}.{station}\") & (abs(assoc_df['otime'] - float(trace_start_time + timedelta(seconds=pre_arrival_time))) < 1)]\n",
    "        \n",
    "        p_arrival = rows_sta[rows_sta['iphase'] == 'P']\n",
    "        s_arrival = rows_sta[rows_sta['iphase'] == 'S']\n",
    "\n",
    "        key = (str(trace_start_time), network, station)\n",
    "        if key in processed_keys:\n",
    "            print(f\"Skipping already processed entry: {key}\")\n",
    "            # time.sleep(0.2)\n",
    "            continue\n",
    "\n",
    "        # inv_n_s_time = inv.select(network=network, station=station, location=location, channel='*',\n",
    "        #                            starttime=trace_start_time, endtime=trace_end_time)\n",
    "\n",
    "        # inv_n_s_time = inv.select(network=network, station=station, location=location, channel='*')\n",
    "        # print('inv_n_s_time', inv_n_s_time)\n",
    "        st_n_s = st.select(id=f\"{network}.{station}.*.{channel}\",)\n",
    "        # print('st_n_s', st_n_s)\n",
    "\n",
    "        st_n_s_time = Stream([tr for tr in st_n_s if tr.stats.starttime > (trace_start_time-1) and tr.stats.endtime < (trace_end_time+1)]) # Tolerate the error of 1 second when selecting the traces in the stream for the specific time window\n",
    "        st_n_s_time.merge(method=0, fill_value='interpolate')\n",
    "        st_n_s_time.detrend()\n",
    "        st_n_s_time.resample(sampling_rate)\n",
    "\n",
    "        cleaned_stream = Stream()\n",
    "        # print('st_n_s_time', st_n_s_time)\n",
    "        for tr in st_n_s_time:\n",
    "            trace_data = tr.data[:expected_len]\n",
    "            if len(trace_data) < expected_len:\n",
    "                trace_data = np.pad(trace_data, (0, expected_len - len(trace_data)), mode=\"constant\") # Pads zeros at the end\n",
    "            tr.data = trace_data\n",
    "            cleaned_stream.append(tr)\n",
    "\n",
    "        # print('cleaned_stream', cleaned_stream)\n",
    "\n",
    "        _cleaned_stream = order_traces(cleaned_stream, expected_len)\n",
    "\n",
    "        try:\n",
    "            data = np.stack(_cleaned_stream, axis=0)\n",
    "    #         data = np.stack([tr.data[:window_length * sampling_rate - 2] for tr in waveform], axis=0)\n",
    "        except Exception as e:\n",
    "            # Write error immediately\n",
    "            file_exists = os.path.exists(error_log_file)\n",
    "            with open(error_log_file, \"a\", newline=\"\") as errfile:\n",
    "                writer = csv.DictWriter(errfile, fieldnames=['i_iter', 'network', 'station', 'starttime', 'endtime', 'stage', 'error'])\n",
    "                if not file_exists:\n",
    "                    writer.writeheader()\n",
    "                writer.writerow({'i_iter': i_iter, 'network': network, 'station': station, 'starttime': trace_start_time, 'endtime': trace_end_time, 'stage': 'metadata_write', 'error': str(e)})\n",
    "            continue\n",
    "\n",
    "        bucket = str(random.randint(0, 10))\n",
    "        \n",
    "        \n",
    "        try:\n",
    "            dset_path = f\"/data/{bucket}\"\n",
    "            if dset_path not in h5f:\n",
    "                h5f.create_dataset(dset_path, data=np.expand_dims(data, axis=0), maxshape=(None, *data.shape), chunks=True, dtype='float32')\n",
    "                dataset_index = 0\n",
    "            else:\n",
    "                dset = h5f[dset_path]\n",
    "                dataset_index = dset.shape[0]\n",
    "                dset.resize((dataset_index + 1), axis=0)\n",
    "                dset[dataset_index] = data\n",
    "        except Exception as e:\n",
    "            print(f\"Error writing to HDF5 for bucket {bucket}: {e}\")\n",
    "            # Write error immediately\n",
    "            file_exists = os.path.exists(error_log_file)\n",
    "            with open(error_log_file, \"a\", newline=\"\") as errfile:\n",
    "                writer = csv.DictWriter(errfile, fieldnames=['i_iter', 'network', 'station', 'starttime', 'endtime', 'stage', 'error'])\n",
    "                if not file_exists:\n",
    "                    writer.writeheader()\n",
    "                writer.writerow({'i_iter': i_iter, 'network': network, 'station': station, 'starttime': trace_start_time, 'endtime': trace_end_time, 'stage': 'metadata_write', 'error': str(e)})\n",
    "            continue\n",
    "\n",
    "        trace_name = f\"{bucket}${dataset_index},:{data.shape[0]},:{data.shape[1]}\"\n",
    "\n",
    "        print(network, station, location, channel, trace_start_time, trace_end_time)\n",
    "        # print(rows_sta)\n",
    "        # print(rows_sta['lat'].iloc[0])\n",
    "        # print(rows_sta['lat'].iloc[0])\n",
    "        # print(rows_sta['lon'].iloc[0])\n",
    "        # print(rows_sta['depth'].iloc[0])\n",
    "        # print(s_arrival['pick_time'].iloc[0] if not s_arrival.empty else None)\n",
    "        # print(inv_n_s_time[0][0].latitude)\n",
    "        print(cleaned_stream[0].stats.channel[:-1])\n",
    "\n",
    "\n",
    "        try:\n",
    "            row = {\n",
    "                'event_id': rows_sta['event_id'].iloc[0],\n",
    "                'source_origin_time': rows_sta['otime'].iloc[0],\n",
    "                'source_latitude_deg': rows_sta['lat'].iloc[0],\n",
    "                'source_longitude_deg': rows_sta['lon'].iloc[0],\n",
    "                'source_type': \"earthquake\",\n",
    "                'source_depth_km': rows_sta['depth'].iloc[0],\n",
    "                'preferred_source_magnitude': None,\n",
    "                'preferred_source_magnitude_type': None,\n",
    "                'preferred_source_magnitude_uncertainty': None,\n",
    "                'source_depth_uncertainty_km': None,\n",
    "                'source_horizontal_uncertainty_km': None,\n",
    "                'station_network_code': network,\n",
    "                'station_channel_code': cleaned_stream[0].stats.channel[:-1],\n",
    "                'station_code': station,\n",
    "                'station_location_code': \"\",\n",
    "                'station_latitude_deg': None,\n",
    "                'station_longitude_deg': None,\n",
    "                'station_elevation_m': None,\n",
    "                'trace_name': trace_name,\n",
    "                'trace_sampling_rate_hz': sampling_rate,\n",
    "                'trace_start_time': trace_start_time,\n",
    "                'trace_S_arrival_sample': int((s_arrival['pick_time'].iloc[0] - (rows_sta['otime'].iloc[0] - pre_arrival_time)) * sampling_rate)if not s_arrival.empty else None,\n",
    "                'trace_P_arrival_sample': int((p_arrival['pick_time'].iloc[0] - (rows_sta['otime'].iloc[0] - pre_arrival_time)) * sampling_rate) if not p_arrival.empty else None,\n",
    "                'trace_S_arrival_uncertainty_s': None,\n",
    "                'trace_P_arrival_uncertainty_s': None,\n",
    "                'trace_P_polarity': None,\n",
    "                'trace_S_onset': \"impulsive\"if not s_arrival.empty else None,\n",
    "                'trace_P_onset': \"impulsive\" if not p_arrival.empty else None,\n",
    "                'trace_snr_db': None,\n",
    "                'source_type_pnsn_label': None,\n",
    "                'source_local_magnitude': None,\n",
    "                'source_local_magnitude_uncertainty': None,\n",
    "                'source_duration_magnitude': None,\n",
    "                'source_duration_magnitude_uncertainty': None,\n",
    "                'source_hand_magnitude': None,\n",
    "                'trace_missing_channel': \"\",\n",
    "                'trace_has_offset': None\n",
    "            }\n",
    "            meta_writer.writerow(row)\n",
    "            meta_out.flush()\n",
    "        except Exception as e:\n",
    "            print(f\"Error writing metadata for {station}/{trace_start_time}: {e}\")\n",
    "            # Write error immediately\n",
    "            file_exists = os.path.exists(error_log_file)\n",
    "            with open(error_log_file, \"a\", newline=\"\") as errfile:\n",
    "                writer = csv.DictWriter(errfile, fieldnames=['i_iter', 'network', 'station', 'starttime', 'endtime', 'stage', 'error'])\n",
    "                if not file_exists:\n",
    "                    writer.writeheader()\n",
    "                writer.writerow({'i_iter': i_iter, 'network': network, 'station': station, 'starttime': trace_start_time, 'endtime': trace_end_time, 'stage': 'metadata_write', 'error': str(e)})\n",
    "            continue\n",
    "            \n",
    "\n",
    "h5f.close()\n",
    "meta_out.close()"
   ]
  },
  {
   "cell_type": "code",
   "execution_count": 38,
   "id": "b1905ab8",
   "metadata": {},
   "outputs": [
    {
     "name": "stdout",
     "output_type": "stream",
     "text": [
      "Keys in HDF5 file:\n",
      " - data\n",
      "<KeysViewHDF5 ['0', '1', '10', '2', '3', '4', '5', '6', '7', '8', '9']>\n",
      " - 0: shape=(24, 3, 30000), min=-378.41, max=434.65\n",
      " - 1: shape=(17, 3, 30000), min=-881.13, max=663.54\n",
      " - 10: shape=(20, 3, 30000), min=-789.06, max=687.81\n",
      " - 2: shape=(30, 3, 30000), min=-15936.61, max=8678.86\n",
      " - 3: shape=(32, 3, 30000), min=-2639.18, max=3045.18\n",
      " - 4: shape=(28, 3, 30000), min=-8155.02, max=7381.11\n",
      " - 5: shape=(12, 3, 30000), min=-2272.61, max=1979.33\n",
      " - 6: shape=(18, 3, 30000), min=-5603.27, max=5051.37\n",
      " - 7: shape=(21, 3, 30000), min=-11219.46, max=9578.28\n",
      " - 8: shape=(22, 3, 30000), min=-2066.64, max=2491.29\n",
      " - 9: shape=(23, 3, 30000), min=-2109.83, max=1996.72\n",
      "samplewaveform shape: (3, 30000)\n"
     ]
    },
    {
     "data": {
      "image/png": "[encoded data removed]",
      "text/plain": [
       "<Figure size 1200x400 with 1 Axes>"
      ]
     },
     "metadata": {},
     "output_type": "display_data"
    },
    {
     "data": {
      "image/png": "[encoded data removed]",
      "text/plain": [
       "<Figure size 1200x400 with 1 Axes>"
      ]
     },
     "metadata": {},
     "output_type": "display_data"
    },
    {
     "data": {
      "image/png": "[encoded data removed]",
      "text/plain": [
       "<Figure size 1200x400 with 1 Axes>"
      ]
     },
     "metadata": {},
     "output_type": "display_data"
    },
    {
     "name": "stdout",
     "output_type": "stream",
     "text": [
      "Total number of waveforms processed: 247\n"
     ]
    }
   ],
   "source": [
    "total_num_waveforms = 0\n",
    "with h5py.File(output_waveform_file, 'r') as f:\n",
    "    print(\"Keys in HDF5 file:\")\n",
    "    for key in f.keys():\n",
    "        print(f\" - {key}\")\n",
    "    print(f['data'].keys())\n",
    "\n",
    "    waveforms_group = f['data']\n",
    "\n",
    "    for i, key in enumerate(list(waveforms_group.keys())[:]):\n",
    "                waveform = waveforms_group[key][:]\n",
    "                print(f\" - {key}: shape={waveform.shape}, min={waveform.min():.2f}, max={waveform.max():.2f}\")\n",
    "                total_num_waveforms += waveform.shape[0]\n",
    "\n",
    "    # Plot a sample waveform if matplotlib is available\n",
    "    if list(waveforms_group.keys()):\n",
    "        sample_key = list(waveforms_group.keys())[0]\n",
    "        sample_waveform = waveforms_group[sample_key][:]\n",
    "\n",
    "        print('samplewaveform shape:', sample_waveform[0].shape)\n",
    "\n",
    "        for i in range(len(sample_waveform[0])):\n",
    "            plt.figure(figsize=(12, 4))\n",
    "            y = sample_waveform[23,i,:]\n",
    "            x = np.arange(len(y))\n",
    "            plt.plot(x, y)\n",
    "            plt.title(f\"Sample Waveform: {sample_key}, Channel: {i}\")\n",
    "            plt.xlabel(\"Samples\")\n",
    "            plt.ylabel(\"Amplitude\")\n",
    "            plt.tight_layout()\n",
    "            plt.show()\n",
    "        \n",
    "\n",
    "print(f\"Total number of waveforms processed: {total_num_waveforms}\")\n",
    "    "
   ]
  },
  {
   "cell_type": "code",
   "execution_count": 32,
   "id": "5d2e513c",
   "metadata": {},
   "outputs": [
    {
     "data": {
      "text/plain": [
       "(24, 3, 30000)"
      ]
     },
     "execution_count": 32,
     "metadata": {},
     "output_type": "execute_result"
    }
   ],
   "source": [
    "sample_waveform.shape"
   ]
  },
  {
   "cell_type": "code",
   "execution_count": 34,
   "id": "7c5fbc61",
   "metadata": {},
   "outputs": [
    {
     "data": {
      "text/plain": [
       "(3, 30000)"
      ]
     },
     "execution_count": 34,
     "metadata": {},
     "output_type": "execute_result"
    }
   ],
   "source": [
    "sample_waveform[0,:,:].shape"
   ]
  },
  {
   "cell_type": "code",
   "execution_count": 27,
   "id": "a4fb4f64",
   "metadata": {},
   "outputs": [
    {
     "data": {
      "text/html": [
       "<div>\n",
       "<style scoped>\n",
       "    .dataframe tbody tr th:only-of-type {\n",
       "        vertical-align: middle;\n",
       "    }\n",
       "\n",
       "    .dataframe tbody tr th {\n",
       "        vertical-align: top;\n",
       "    }\n",
       "\n",
       "    .dataframe thead th {\n",
       "        text-align: right;\n",
       "    }\n",
       "</style>\n",
       "<table border=\"1\" class=\"dataframe\">\n",
       "  <thead>\n",
       "    <tr style=\"text-align: right;\">\n",
       "      <th></th>\n",
       "      <th>event_id</th>\n",
       "      <th>source_origin_time</th>\n",
       "      <th>source_latitude_deg</th>\n",
       "      <th>source_longitude_deg</th>\n",
       "      <th>source_depth_km</th>\n",
       "      <th>station_network_code</th>\n",
       "      <th>station_channel_code</th>\n",
       "      <th>station_code</th>\n",
       "      <th>station_latitude_deg</th>\n",
       "      <th>station_longitude_deg</th>\n",
       "      <th>trace_name</th>\n",
       "      <th>trace_P_arrival_sample</th>\n",
       "      <th>trace_S_arrival_sample</th>\n",
       "      <th>trace_P_onset</th>\n",
       "      <th>trace_S_onset</th>\n",
       "      <th>trace_start_time</th>\n",
       "    </tr>\n",
       "  </thead>\n",
       "  <tbody>\n",
       "    <tr>\n",
       "      <th>0</th>\n",
       "      <td>ev1262304917_262282</td>\n",
       "      <td>1.262305e+09</td>\n",
       "      <td>47.22533</td>\n",
       "      <td>-122.16895</td>\n",
       "      <td>56.111</td>\n",
       "      <td>UW</td>\n",
       "      <td>EH</td>\n",
       "      <td>PCMD</td>\n",
       "      <td>NaN</td>\n",
       "      <td>NaN</td>\n",
       "      <td>5$0,:3,:30000</td>\n",
       "      <td>5991.0</td>\n",
       "      <td>6601.0</td>\n",
       "      <td>impulsive</td>\n",
       "      <td>impulsive</td>\n",
       "      <td>2010-01-01T00:14:27.262282Z</td>\n",
       "    </tr>\n",
       "    <tr>\n",
       "      <th>1</th>\n",
       "      <td>ev1262304917_262282</td>\n",
       "      <td>1.262305e+09</td>\n",
       "      <td>47.22533</td>\n",
       "      <td>-122.16895</td>\n",
       "      <td>56.111</td>\n",
       "      <td>UW</td>\n",
       "      <td>EH</td>\n",
       "      <td>RVW</td>\n",
       "      <td>NaN</td>\n",
       "      <td>NaN</td>\n",
       "      <td>1$0,:3,:30000</td>\n",
       "      <td>7057.0</td>\n",
       "      <td>NaN</td>\n",
       "      <td>impulsive</td>\n",
       "      <td>NaN</td>\n",
       "      <td>2010-01-01T00:14:27.262282Z</td>\n",
       "    </tr>\n",
       "    <tr>\n",
       "      <th>2</th>\n",
       "      <td>ev1262304917_262282</td>\n",
       "      <td>1.262305e+09</td>\n",
       "      <td>47.22533</td>\n",
       "      <td>-122.16895</td>\n",
       "      <td>56.111</td>\n",
       "      <td>PB</td>\n",
       "      <td>EH</td>\n",
       "      <td>B013</td>\n",
       "      <td>NaN</td>\n",
       "      <td>NaN</td>\n",
       "      <td>1$1,:3,:30000</td>\n",
       "      <td>NaN</td>\n",
       "      <td>7635.0</td>\n",
       "      <td>NaN</td>\n",
       "      <td>impulsive</td>\n",
       "      <td>2010-01-01T00:14:27.262282Z</td>\n",
       "    </tr>\n",
       "    <tr>\n",
       "      <th>3</th>\n",
       "      <td>ev1262304917_262282</td>\n",
       "      <td>1.262305e+09</td>\n",
       "      <td>47.22533</td>\n",
       "      <td>-122.16895</td>\n",
       "      <td>56.111</td>\n",
       "      <td>PB</td>\n",
       "      <td>EH</td>\n",
       "      <td>B943</td>\n",
       "      <td>NaN</td>\n",
       "      <td>NaN</td>\n",
       "      <td>10$0,:3,:30000</td>\n",
       "      <td>NaN</td>\n",
       "      <td>7650.0</td>\n",
       "      <td>NaN</td>\n",
       "      <td>impulsive</td>\n",
       "      <td>2010-01-01T00:14:27.262282Z</td>\n",
       "    </tr>\n",
       "    <tr>\n",
       "      <th>4</th>\n",
       "      <td>ev1262304917_262282</td>\n",
       "      <td>1.262305e+09</td>\n",
       "      <td>47.22533</td>\n",
       "      <td>-122.16895</td>\n",
       "      <td>56.111</td>\n",
       "      <td>UW</td>\n",
       "      <td>EH</td>\n",
       "      <td>BOW</td>\n",
       "      <td>NaN</td>\n",
       "      <td>NaN</td>\n",
       "      <td>9$0,:3,:30000</td>\n",
       "      <td>NaN</td>\n",
       "      <td>8079.0</td>\n",
       "      <td>NaN</td>\n",
       "      <td>impulsive</td>\n",
       "      <td>2010-01-01T00:14:27.262282Z</td>\n",
       "    </tr>\n",
       "    <tr>\n",
       "      <th>5</th>\n",
       "      <td>ev1262305009_37536</td>\n",
       "      <td>1.262305e+09</td>\n",
       "      <td>48.19518</td>\n",
       "      <td>-121.77276</td>\n",
       "      <td>3.820</td>\n",
       "      <td>PB</td>\n",
       "      <td>EH</td>\n",
       "      <td>B943</td>\n",
       "      <td>NaN</td>\n",
       "      <td>NaN</td>\n",
       "      <td>0$0,:3,:30000</td>\n",
       "      <td>6563.0</td>\n",
       "      <td>7836.0</td>\n",
       "      <td>impulsive</td>\n",
       "      <td>impulsive</td>\n",
       "      <td>2010-01-01T00:15:59.375360Z</td>\n",
       "    </tr>\n",
       "    <tr>\n",
       "      <th>6</th>\n",
       "      <td>ev1262305009_37536</td>\n",
       "      <td>1.262305e+09</td>\n",
       "      <td>48.19518</td>\n",
       "      <td>-121.77276</td>\n",
       "      <td>3.820</td>\n",
       "      <td>UW</td>\n",
       "      <td>EH</td>\n",
       "      <td>BLN</td>\n",
       "      <td>NaN</td>\n",
       "      <td>NaN</td>\n",
       "      <td>0$1,:3,:30000</td>\n",
       "      <td>6564.0</td>\n",
       "      <td>7769.0</td>\n",
       "      <td>impulsive</td>\n",
       "      <td>impulsive</td>\n",
       "      <td>2010-01-01T00:15:59.375360Z</td>\n",
       "    </tr>\n",
       "    <tr>\n",
       "      <th>7</th>\n",
       "      <td>ev1262305009_37536</td>\n",
       "      <td>1.262305e+09</td>\n",
       "      <td>48.19518</td>\n",
       "      <td>-121.77276</td>\n",
       "      <td>3.820</td>\n",
       "      <td>CN</td>\n",
       "      <td>EH</td>\n",
       "      <td>VDB</td>\n",
       "      <td>NaN</td>\n",
       "      <td>NaN</td>\n",
       "      <td>7$0,:3,:30000</td>\n",
       "      <td>6577.0</td>\n",
       "      <td>NaN</td>\n",
       "      <td>impulsive</td>\n",
       "      <td>NaN</td>\n",
       "      <td>2010-01-01T00:15:59.375360Z</td>\n",
       "    </tr>\n",
       "    <tr>\n",
       "      <th>8</th>\n",
       "      <td>ev1262305009_37536</td>\n",
       "      <td>1.262305e+09</td>\n",
       "      <td>48.19518</td>\n",
       "      <td>-121.77276</td>\n",
       "      <td>3.820</td>\n",
       "      <td>UW</td>\n",
       "      <td>EH</td>\n",
       "      <td>MCW</td>\n",
       "      <td>NaN</td>\n",
       "      <td>NaN</td>\n",
       "      <td>3$0,:3,:30000</td>\n",
       "      <td>6593.0</td>\n",
       "      <td>NaN</td>\n",
       "      <td>impulsive</td>\n",
       "      <td>NaN</td>\n",
       "      <td>2010-01-01T00:15:59.375360Z</td>\n",
       "    </tr>\n",
       "    <tr>\n",
       "      <th>9</th>\n",
       "      <td>ev1262305009_37536</td>\n",
       "      <td>1.262305e+09</td>\n",
       "      <td>48.19518</td>\n",
       "      <td>-121.77276</td>\n",
       "      <td>3.820</td>\n",
       "      <td>PB</td>\n",
       "      <td>EH</td>\n",
       "      <td>B001</td>\n",
       "      <td>NaN</td>\n",
       "      <td>NaN</td>\n",
       "      <td>0$2,:3,:30000</td>\n",
       "      <td>6763.0</td>\n",
       "      <td>8086.0</td>\n",
       "      <td>impulsive</td>\n",
       "      <td>impulsive</td>\n",
       "      <td>2010-01-01T00:15:59.375360Z</td>\n",
       "    </tr>\n",
       "  </tbody>\n",
       "</table>\n",
       "</div>"
      ],
      "text/plain": [
       "              event_id  source_origin_time  source_latitude_deg  \\\n",
       "0  ev1262304917_262282        1.262305e+09             47.22533   \n",
       "1  ev1262304917_262282        1.262305e+09             47.22533   \n",
       "2  ev1262304917_262282        1.262305e+09             47.22533   \n",
       "3  ev1262304917_262282        1.262305e+09             47.22533   \n",
       "4  ev1262304917_262282        1.262305e+09             47.22533   \n",
       "5   ev1262305009_37536        1.262305e+09             48.19518   \n",
       "6   ev1262305009_37536        1.262305e+09             48.19518   \n",
       "7   ev1262305009_37536        1.262305e+09             48.19518   \n",
       "8   ev1262305009_37536        1.262305e+09             48.19518   \n",
       "9   ev1262305009_37536        1.262305e+09             48.19518   \n",
       "\n",
       "   source_longitude_deg  source_depth_km station_network_code  \\\n",
       "0            -122.16895           56.111                   UW   \n",
       "1            -122.16895           56.111                   UW   \n",
       "2            -122.16895           56.111                   PB   \n",
       "3            -122.16895           56.111                   PB   \n",
       "4            -122.16895           56.111                   UW   \n",
       "5            -121.77276            3.820                   PB   \n",
       "6            -121.77276            3.820                   UW   \n",
       "7            -121.77276            3.820                   CN   \n",
       "8            -121.77276            3.820                   UW   \n",
       "9            -121.77276            3.820                   PB   \n",
       "\n",
       "  station_channel_code station_code  station_latitude_deg  \\\n",
       "0                   EH         PCMD                   NaN   \n",
       "1                   EH          RVW                   NaN   \n",
       "2                   EH         B013                   NaN   \n",
       "3                   EH         B943                   NaN   \n",
       "4                   EH          BOW                   NaN   \n",
       "5                   EH         B943                   NaN   \n",
       "6                   EH          BLN                   NaN   \n",
       "7                   EH          VDB                   NaN   \n",
       "8                   EH          MCW                   NaN   \n",
       "9                   EH         B001                   NaN   \n",
       "\n",
       "   station_longitude_deg      trace_name  trace_P_arrival_sample  \\\n",
       "0                    NaN   5$0,:3,:30000                  5991.0   \n",
       "1                    NaN   1$0,:3,:30000                  7057.0   \n",
       "2                    NaN   1$1,:3,:30000                     NaN   \n",
       "3                    NaN  10$0,:3,:30000                     NaN   \n",
       "4                    NaN   9$0,:3,:30000                     NaN   \n",
       "5                    NaN   0$0,:3,:30000                  6563.0   \n",
       "6                    NaN   0$1,:3,:30000                  6564.0   \n",
       "7                    NaN   7$0,:3,:30000                  6577.0   \n",
       "8                    NaN   3$0,:3,:30000                  6593.0   \n",
       "9                    NaN   0$2,:3,:30000                  6763.0   \n",
       "\n",
       "   trace_S_arrival_sample trace_P_onset trace_S_onset  \\\n",
       "0                  6601.0     impulsive     impulsive   \n",
       "1                     NaN     impulsive           NaN   \n",
       "2                  7635.0           NaN     impulsive   \n",
       "3                  7650.0           NaN     impulsive   \n",
       "4                  8079.0           NaN     impulsive   \n",
       "5                  7836.0     impulsive     impulsive   \n",
       "6                  7769.0     impulsive     impulsive   \n",
       "7                     NaN     impulsive           NaN   \n",
       "8                     NaN     impulsive           NaN   \n",
       "9                  8086.0     impulsive     impulsive   \n",
       "\n",
       "              trace_start_time  \n",
       "0  2010-01-01T00:14:27.262282Z  \n",
       "1  2010-01-01T00:14:27.262282Z  \n",
       "2  2010-01-01T00:14:27.262282Z  \n",
       "3  2010-01-01T00:14:27.262282Z  \n",
       "4  2010-01-01T00:14:27.262282Z  \n",
       "5  2010-01-01T00:15:59.375360Z  \n",
       "6  2010-01-01T00:15:59.375360Z  \n",
       "7  2010-01-01T00:15:59.375360Z  \n",
       "8  2010-01-01T00:15:59.375360Z  \n",
       "9  2010-01-01T00:15:59.375360Z  "
      ]
     },
     "execution_count": 27,
     "metadata": {},
     "output_type": "execute_result"
    }
   ],
   "source": [
    "metadata = pd.read_csv(output_metadata_file)\n",
    "metadata.iloc[0:10][['event_id','source_origin_time','source_latitude_deg','source_longitude_deg','source_depth_km','station_network_code','station_channel_code','station_code','station_latitude_deg','station_longitude_deg','trace_name','trace_P_arrival_sample', 'trace_S_arrival_sample','trace_P_onset','trace_S_onset','trace_start_time']]"
   ]
  },
  {
   "cell_type": "code",
   "execution_count": 71,
   "id": "e3af3be6",
   "metadata": {},
   "outputs": [
    {
     "data": {
      "text/plain": [
       "0     9.917718\n",
       "1    20.578118\n",
       "2    16.017718\n",
       "3    24.739718\n",
       "4    26.356118\n",
       "5    26.506118\n",
       "6    30.798118\n",
       "7    15.354640\n",
       "8    15.633040\n",
       "9    15.645040\n",
       "Name: otime2picktime, dtype: float64"
      ]
     },
     "execution_count": 71,
     "metadata": {},
     "output_type": "execute_result"
    }
   ],
   "source": [
    "assoc_df['otime2picktime'] = assoc_df['pick_time'] - assoc_df['otime']\n",
    "assoc_df['otime2picktime'].head(10)"
   ]
  },
  {
   "cell_type": "code",
   "execution_count": 72,
   "id": "14fceae9",
   "metadata": {},
   "outputs": [
    {
     "data": {
      "text/plain": [
       "sta                           CN.NLLB\n",
       "pick_time              1299419418.575\n",
       "arid                           141685\n",
       "iphase                              S\n",
       "prob                            0.658\n",
       "orid                            10009\n",
       "phase                               S\n",
       "timeres                         0.008\n",
       "slatitude                     49.2271\n",
       "slongitude                  -123.9882\n",
       "selevation                      199.0\n",
       "delta                      988.155904\n",
       "esaz                          4.90233\n",
       "seaz                        184.90233\n",
       "lat                          40.36281\n",
       "lon                        -124.97845\n",
       "depth                           1.861\n",
       "otime               1299419196.083291\n",
       "nass                               22\n",
       "p_picks                             0\n",
       "s_picks                            22\n",
       "rms                             0.709\n",
       "nsphz                            22.0\n",
       "gap                         342.94641\n",
       "algorithm                       genie\n",
       "network                            CN\n",
       "station                          NLLB\n",
       "event_id          ev1299419196_083291\n",
       "otime2picktime             222.491709\n",
       "Name: 141685, dtype: object"
      ]
     },
     "execution_count": 72,
     "metadata": {},
     "output_type": "execute_result"
    }
   ],
   "source": [
    "assoc_df.loc[assoc_df['otime2picktime'].idxmax()]"
   ]
  },
  {
   "cell_type": "code",
   "execution_count": null,
   "id": "cb6dd670",
   "metadata": {},
   "outputs": [
    {
     "data": {
      "text/plain": [
       "[('CN',\n",
       "  'PGC',\n",
       "  '*',\n",
       "  'BH?',\n",
       "  2012-10-06T09:48:47.045349Z,\n",
       "  2012-10-06T09:51:17.045349Z),\n",
       " ('CN',\n",
       "  'VGZ',\n",
       "  '*',\n",
       "  'HH?',\n",
       "  2012-10-06T09:48:47.045349Z,\n",
       "  2012-10-06T09:51:17.045349Z),\n",
       " ('CN',\n",
       "  'SHB',\n",
       "  '*',\n",
       "  'BH?',\n",
       "  2012-10-06T09:48:47.045349Z,\n",
       "  2012-10-06T09:51:17.045349Z),\n",
       " ('7D',\n",
       "  'FS06B',\n",
       "  '*',\n",
       "  'BH?',\n",
       "  2012-10-06T10:13:31.047768Z,\n",
       "  2012-10-06T10:16:01.047768Z),\n",
       " ('7D',\n",
       "  'FS09B',\n",
       "  '*',\n",
       "  'BH?',\n",
       "  2012-10-06T10:13:31.047768Z,\n",
       "  2012-10-06T10:16:01.047768Z),\n",
       " ('7D',\n",
       "  'FS11B',\n",
       "  '*',\n",
       "  'HH?',\n",
       "  2012-10-06T10:13:31.047768Z,\n",
       "  2012-10-06T10:16:01.047768Z),\n",
       " ('7D',\n",
       "  'FS14B',\n",
       "  '*',\n",
       "  'BH?',\n",
       "  2012-10-06T10:13:31.047768Z,\n",
       "  2012-10-06T10:16:01.047768Z),\n",
       " ('7D',\n",
       "  'FS20B',\n",
       "  '*',\n",
       "  'HH?',\n",
       "  2012-10-06T10:13:31.047768Z,\n",
       "  2012-10-06T10:16:01.047768Z),\n",
       " ('7D',\n",
       "  'FS04B',\n",
       "  '*',\n",
       "  'HH?',\n",
       "  2012-10-06T10:13:31.047768Z,\n",
       "  2012-10-06T10:16:01.047768Z),\n",
       " ('7D',\n",
       "  'FS19B',\n",
       "  '*',\n",
       "  'HH?',\n",
       "  2012-10-06T10:13:31.047768Z,\n",
       "  2012-10-06T10:16:01.047768Z)]"
      ]
     },
     "execution_count": 21,
     "metadata": {},
     "output_type": "execute_result"
    }
   ],
   "source": [
    "batches_bulk_waveforms_chunks[3]"
   ]
  },
  {
   "cell_type": "code",
   "execution_count": 74,
   "id": "22adbd86",
   "metadata": {},
   "outputs": [
    {
     "data": {
      "text/plain": [
       "[('NC',\n",
       "  'KHMB',\n",
       "  '*',\n",
       "  'HH?',\n",
       "  2012-04-25T20:43:13.969929Z,\n",
       "  2012-04-25T20:45:43.969929Z),\n",
       " ('NC',\n",
       "  'KHBB',\n",
       "  '*',\n",
       "  'HH?',\n",
       "  2012-04-25T20:43:13.969929Z,\n",
       "  2012-04-25T20:45:43.969929Z),\n",
       " ('NC',\n",
       "  'KRMB',\n",
       "  '*',\n",
       "  'HH?',\n",
       "  2012-04-25T20:43:13.969929Z,\n",
       "  2012-04-25T20:45:43.969929Z),\n",
       " ('NC',\n",
       "  'KSXB',\n",
       "  '*',\n",
       "  'HH?',\n",
       "  2012-04-25T20:43:13.969929Z,\n",
       "  2012-04-25T20:45:43.969929Z),\n",
       " ('7D',\n",
       "  'M03A',\n",
       "  '*',\n",
       "  'HH?',\n",
       "  2012-04-25T20:51:54.734134Z,\n",
       "  2012-04-25T20:54:24.734134Z),\n",
       " ('7D',\n",
       "  'J49A',\n",
       "  '*',\n",
       "  'HH?',\n",
       "  2012-04-25T20:51:54.734134Z,\n",
       "  2012-04-25T20:54:24.734134Z),\n",
       " ('7D',\n",
       "  'FN08A',\n",
       "  '*',\n",
       "  'HH?',\n",
       "  2012-04-25T20:51:54.734134Z,\n",
       "  2012-04-25T20:54:24.734134Z),\n",
       " ('TA',\n",
       "  'D03D',\n",
       "  '*',\n",
       "  'BH?',\n",
       "  2012-04-25T21:16:55.052013Z,\n",
       "  2012-04-25T21:19:25.052013Z),\n",
       " ('NC',\n",
       "  'KMPB',\n",
       "  '*',\n",
       "  'HH?',\n",
       "  2012-04-25T21:27:54.608850Z,\n",
       "  2012-04-25T21:30:24.608850Z),\n",
       " ('NC',\n",
       "  'KMR',\n",
       "  '*',\n",
       "  'HH?',\n",
       "  2012-04-25T21:27:54.608850Z,\n",
       "  2012-04-25T21:30:24.608850Z),\n",
       " ('BK',\n",
       "  'JCC',\n",
       "  '*',\n",
       "  'HH?',\n",
       "  2012-04-25T21:27:54.608850Z,\n",
       "  2012-04-25T21:30:24.608850Z),\n",
       " ('NC',\n",
       "  'KHMB',\n",
       "  '*',\n",
       "  'HH?',\n",
       "  2012-04-25T21:27:54.608850Z,\n",
       "  2012-04-25T21:30:24.608850Z),\n",
       " ('NC',\n",
       "  'KHBB',\n",
       "  '*',\n",
       "  'HH?',\n",
       "  2012-04-25T21:27:54.608850Z,\n",
       "  2012-04-25T21:30:24.608850Z),\n",
       " ('NC',\n",
       "  'KRMB',\n",
       "  '*',\n",
       "  'HH?',\n",
       "  2012-04-25T21:27:54.608850Z,\n",
       "  2012-04-25T21:30:24.608850Z),\n",
       " ('NC',\n",
       "  'KSXB',\n",
       "  '*',\n",
       "  'HH?',\n",
       "  2012-04-25T21:27:54.608850Z,\n",
       "  2012-04-25T21:30:24.608850Z),\n",
       " ('NC',\n",
       "  'KBO',\n",
       "  '*',\n",
       "  'HH?',\n",
       "  2012-04-25T21:27:54.608850Z,\n",
       "  2012-04-25T21:30:24.608850Z),\n",
       " ('7D',\n",
       "  'G03A',\n",
       "  '*',\n",
       "  'BH?',\n",
       "  2012-04-25T21:27:54.608850Z,\n",
       "  2012-04-25T21:30:24.608850Z),\n",
       " ('NC',\n",
       "  'KMPB',\n",
       "  '*',\n",
       "  'HH?',\n",
       "  2012-04-25T21:55:33.572922Z,\n",
       "  2012-04-25T21:58:03.572922Z),\n",
       " ('NC',\n",
       "  'KMR',\n",
       "  '*',\n",
       "  'HH?',\n",
       "  2012-04-25T21:55:33.572922Z,\n",
       "  2012-04-25T21:58:03.572922Z),\n",
       " ('UW',\n",
       "  'OFR',\n",
       "  '*',\n",
       "  'BH?',\n",
       "  2012-04-25T22:22:04.379107Z,\n",
       "  2012-04-25T22:24:34.379107Z),\n",
       " ('7D',\n",
       "  'G03A',\n",
       "  '*',\n",
       "  'BH?',\n",
       "  2012-04-25T23:49:21.898869Z,\n",
       "  2012-04-25T23:51:51.898869Z),\n",
       " ('BK',\n",
       "  'JCC',\n",
       "  '*',\n",
       "  'HH?',\n",
       "  2012-04-25T23:49:21.898869Z,\n",
       "  2012-04-25T23:51:51.898869Z),\n",
       " ('NC',\n",
       "  'KMPB',\n",
       "  '*',\n",
       "  'HH?',\n",
       "  2012-04-25T23:49:21.898869Z,\n",
       "  2012-04-25T23:51:51.898869Z),\n",
       " ('CN',\n",
       "  'VGZ',\n",
       "  '*',\n",
       "  'HH?',\n",
       "  2012-04-24T23:59:08.908738Z,\n",
       "  2012-04-25T00:01:38.908738Z),\n",
       " ('CN',\n",
       "  'SNB',\n",
       "  '*',\n",
       "  'HH?',\n",
       "  2012-04-24T23:59:08.908738Z,\n",
       "  2012-04-25T00:01:38.908738Z),\n",
       " ('CN',\n",
       "  'PFB',\n",
       "  '*',\n",
       "  'HH?',\n",
       "  2012-04-24T23:59:08.908738Z,\n",
       "  2012-04-25T00:01:38.908738Z),\n",
       " ('CN',\n",
       "  'LZB',\n",
       "  '*',\n",
       "  'BH?',\n",
       "  2012-04-24T23:59:08.908738Z,\n",
       "  2012-04-25T00:01:38.908738Z),\n",
       " ('7D',\n",
       "  'FN08A',\n",
       "  '*',\n",
       "  'HH?',\n",
       "  2012-04-24T23:59:08.908738Z,\n",
       "  2012-04-25T00:01:38.908738Z),\n",
       " ('UW',\n",
       "  'LEBA',\n",
       "  '*',\n",
       "  'BH?',\n",
       "  2012-04-26T04:23:36.352292Z,\n",
       "  2012-04-26T04:26:06.352292Z),\n",
       " ('7D',\n",
       "  'FN07A',\n",
       "  '*',\n",
       "  'HH?',\n",
       "  2012-04-26T04:23:36.352292Z,\n",
       "  2012-04-26T04:26:06.352292Z)]"
      ]
     },
     "execution_count": 74,
     "metadata": {},
     "output_type": "execute_result"
    }
   ],
   "source": [
    "batch[22080:22110]"
   ]
  },
  {
   "cell_type": "code",
   "execution_count": 79,
   "id": "25a4e95d",
   "metadata": {},
   "outputs": [
    {
     "data": {
      "text/plain": [
       "[('TA',\n",
       "  'G03D',\n",
       "  '*',\n",
       "  'BH?',\n",
       "  2012-04-24T15:24:43.079715Z,\n",
       "  2012-04-24T15:27:13.079715Z),\n",
       " ('NC',\n",
       "  'KMR',\n",
       "  '*',\n",
       "  'HH?',\n",
       "  2012-04-24T15:27:33.462465Z,\n",
       "  2012-04-24T15:30:03.462465Z),\n",
       " ('BK',\n",
       "  'JCC',\n",
       "  '*',\n",
       "  'HH?',\n",
       "  2012-04-24T15:27:33.462465Z,\n",
       "  2012-04-24T15:30:03.462465Z),\n",
       " ('7D',\n",
       "  'M08A',\n",
       "  '*',\n",
       "  'BH?',\n",
       "  2012-04-24T18:07:29.166191Z,\n",
       "  2012-04-24T18:09:59.166191Z),\n",
       " ('TA',\n",
       "  'I02D',\n",
       "  '*',\n",
       "  'BH?',\n",
       "  2012-04-24T18:07:29.166191Z,\n",
       "  2012-04-24T18:09:59.166191Z),\n",
       " ('UW',\n",
       "  'JEDS',\n",
       "  '*',\n",
       "  'BH?',\n",
       "  2012-04-24T18:07:29.166191Z,\n",
       "  2012-04-24T18:09:59.166191Z),\n",
       " ('7D',\n",
       "  'J25A',\n",
       "  '*',\n",
       "  'BH?',\n",
       "  2012-04-24T18:07:29.166191Z,\n",
       "  2012-04-24T18:09:59.166191Z),\n",
       " ('UW',\n",
       "  'LRIV',\n",
       "  '*',\n",
       "  'BH?',\n",
       "  2012-04-24T20:48:51.135882Z,\n",
       "  2012-04-24T20:51:21.135882Z),\n",
       " ('7D',\n",
       "  'J73A',\n",
       "  '*',\n",
       "  'BH?',\n",
       "  2012-04-24T20:48:51.135882Z,\n",
       "  2012-04-24T20:51:21.135882Z),\n",
       " ('TA',\n",
       "  'D03D',\n",
       "  '*',\n",
       "  'BH?',\n",
       "  2012-04-25T01:19:42.772515Z,\n",
       "  2012-04-25T01:22:12.772515Z),\n",
       " ('7D',\n",
       "  'FN07A',\n",
       "  '*',\n",
       "  'HH?',\n",
       "  2012-04-25T01:19:42.772515Z,\n",
       "  2012-04-25T01:22:12.772515Z),\n",
       " ('7D',\n",
       "  'FN18A',\n",
       "  '*',\n",
       "  'HH?',\n",
       "  2012-04-25T01:19:42.772515Z,\n",
       "  2012-04-25T01:22:12.772515Z),\n",
       " ('BK',\n",
       "  'JCC',\n",
       "  '*',\n",
       "  'HH?',\n",
       "  2012-04-25T01:28:13.790263Z,\n",
       "  2012-04-25T01:30:43.790263Z),\n",
       " ('7D',\n",
       "  'G03A',\n",
       "  '*',\n",
       "  'BH?',\n",
       "  2012-04-25T01:28:13.790263Z,\n",
       "  2012-04-25T01:30:43.790263Z),\n",
       " ('UW',\n",
       "  'LRIV',\n",
       "  '*',\n",
       "  'BH?',\n",
       "  2012-04-25T01:32:28.448957Z,\n",
       "  2012-04-25T01:34:58.448957Z),\n",
       " ('TA',\n",
       "  'D03D',\n",
       "  '*',\n",
       "  'BH?',\n",
       "  2012-04-25T01:32:28.448957Z,\n",
       "  2012-04-25T01:34:58.448957Z),\n",
       " ('7D',\n",
       "  'J58A',\n",
       "  '*',\n",
       "  'HH?',\n",
       "  2012-04-25T01:32:28.448957Z,\n",
       "  2012-04-25T01:34:58.448957Z),\n",
       " ('7D',\n",
       "  'M03A',\n",
       "  '*',\n",
       "  'HH?',\n",
       "  2012-04-25T01:32:28.448957Z,\n",
       "  2012-04-25T01:34:58.448957Z),\n",
       " ('7D',\n",
       "  'J51A',\n",
       "  '*',\n",
       "  'HH?',\n",
       "  2012-04-25T01:32:28.448957Z,\n",
       "  2012-04-25T01:34:58.448957Z),\n",
       " ('7D',\n",
       "  'J42A',\n",
       "  '*',\n",
       "  'HH?',\n",
       "  2012-04-25T01:32:28.448957Z,\n",
       "  2012-04-25T01:34:58.448957Z)]"
      ]
     },
     "execution_count": 79,
     "metadata": {},
     "output_type": "execute_result"
    }
   ],
   "source": [
    "batch[21980:22000]"
   ]
  },
  {
   "cell_type": "code",
   "execution_count": 59,
   "id": "3beee14d",
   "metadata": {},
   "outputs": [
    {
     "data": {
      "text/plain": [
       "[('7D',\n",
       "  'M08A',\n",
       "  '*',\n",
       "  'BH?',\n",
       "  2012-04-24T11:04:49.329895Z,\n",
       "  2012-04-24T11:07:19.329895Z),\n",
       " ('TA',\n",
       "  'J01D',\n",
       "  '*',\n",
       "  'BH?',\n",
       "  2012-04-24T11:04:49.329895Z,\n",
       "  2012-04-24T11:07:19.329895Z),\n",
       " ('TA',\n",
       "  'K02D',\n",
       "  '*',\n",
       "  'BH?',\n",
       "  2012-04-24T11:04:49.329895Z,\n",
       "  2012-04-24T11:07:19.329895Z),\n",
       " ('7D',\n",
       "  'G03A',\n",
       "  '*',\n",
       "  'BH?',\n",
       "  2012-04-24T14:21:07.424276Z,\n",
       "  2012-04-24T14:23:37.424276Z),\n",
       " ('TA',\n",
       "  'K02D',\n",
       "  '*',\n",
       "  'BH?',\n",
       "  2012-04-24T14:21:07.424276Z,\n",
       "  2012-04-24T14:23:37.424276Z),\n",
       " ('TA',\n",
       "  'L02D',\n",
       "  '*',\n",
       "  'HH?',\n",
       "  2012-04-24T14:21:07.424276Z,\n",
       "  2012-04-24T14:23:37.424276Z),\n",
       " ('TA',\n",
       "  'J01D',\n",
       "  '*',\n",
       "  'BH?',\n",
       "  2012-04-24T15:01:32.684680Z,\n",
       "  2012-04-24T15:04:02.684680Z),\n",
       " ('TA',\n",
       "  'K02D',\n",
       "  '*',\n",
       "  'BH?',\n",
       "  2012-04-24T15:01:32.684680Z,\n",
       "  2012-04-24T15:04:02.684680Z),\n",
       " ('UW',\n",
       "  'JEDS',\n",
       "  '*',\n",
       "  'BH?',\n",
       "  2012-04-24T15:01:32.684680Z,\n",
       "  2012-04-24T15:04:02.684680Z),\n",
       " ('UO',\n",
       "  'DBO',\n",
       "  '*',\n",
       "  'BH?',\n",
       "  2012-04-24T15:01:32.684680Z,\n",
       "  2012-04-24T15:04:02.684680Z),\n",
       " ('TA',\n",
       "  'G03D',\n",
       "  '*',\n",
       "  'BH?',\n",
       "  2012-04-24T15:24:43.079715Z,\n",
       "  2012-04-24T15:27:13.079715Z),\n",
       " ('7D',\n",
       "  'M08A',\n",
       "  '*',\n",
       "  'BH?',\n",
       "  2012-04-24T18:07:29.166191Z,\n",
       "  2012-04-24T18:09:59.166191Z),\n",
       " ('TA',\n",
       "  'I02D',\n",
       "  '*',\n",
       "  'BH?',\n",
       "  2012-04-24T18:07:29.166191Z,\n",
       "  2012-04-24T18:09:59.166191Z),\n",
       " ('UW',\n",
       "  'JEDS',\n",
       "  '*',\n",
       "  'BH?',\n",
       "  2012-04-24T18:07:29.166191Z,\n",
       "  2012-04-24T18:09:59.166191Z),\n",
       " ('7D',\n",
       "  'J25A',\n",
       "  '*',\n",
       "  'BH?',\n",
       "  2012-04-24T18:07:29.166191Z,\n",
       "  2012-04-24T18:09:59.166191Z),\n",
       " ('UW',\n",
       "  'LRIV',\n",
       "  '*',\n",
       "  'BH?',\n",
       "  2012-04-24T20:48:51.135882Z,\n",
       "  2012-04-24T20:51:21.135882Z),\n",
       " ('7D',\n",
       "  'J73A',\n",
       "  '*',\n",
       "  'BH?',\n",
       "  2012-04-24T20:48:51.135882Z,\n",
       "  2012-04-24T20:51:21.135882Z),\n",
       " ('TA',\n",
       "  'D03D',\n",
       "  '*',\n",
       "  'BH?',\n",
       "  2012-04-25T01:19:42.772515Z,\n",
       "  2012-04-25T01:22:12.772515Z),\n",
       " ('7D',\n",
       "  'FN07A',\n",
       "  '*',\n",
       "  'HH?',\n",
       "  2012-04-25T01:19:42.772515Z,\n",
       "  2012-04-25T01:22:12.772515Z),\n",
       " ('7D',\n",
       "  'FN18A',\n",
       "  '*',\n",
       "  'HH?',\n",
       "  2012-04-25T01:19:42.772515Z,\n",
       "  2012-04-25T01:22:12.772515Z)]"
      ]
     },
     "execution_count": 59,
     "metadata": {},
     "output_type": "execute_result"
    }
   ],
   "source": [
    "frac = 0.9\n",
    "window = 20\n",
    "adjust = -90\n",
    "batch_test = batches_bulk_waveforms_chunks[2][int(len(batches_bulk_waveforms_chunks[2])*frac)+adjust:int(len(batches_bulk_waveforms_chunks[2])*frac)+window+adjust]\n",
    "batch_test"
   ]
  },
  {
   "cell_type": "code",
   "execution_count": 101,
   "id": "b41caa4b",
   "metadata": {},
   "outputs": [
    {
     "data": {
      "text/plain": [
       "[('7D',\n",
       "  'M03A',\n",
       "  '*',\n",
       "  'HH?',\n",
       "  2012-04-25T20:51:54.734134Z,\n",
       "  2012-04-25T20:54:24.734134Z),\n",
       " ('7D',\n",
       "  'J49A',\n",
       "  '*',\n",
       "  'HH?',\n",
       "  2012-04-25T20:51:54.734134Z,\n",
       "  2012-04-25T20:54:24.734134Z),\n",
       " ('7D',\n",
       "  'FN08A',\n",
       "  '*',\n",
       "  'HH?',\n",
       "  2012-04-25T20:51:54.734134Z,\n",
       "  2012-04-25T20:54:24.734134Z),\n",
       " ('TA',\n",
       "  'D03D',\n",
       "  '*',\n",
       "  'BH?',\n",
       "  2012-04-25T21:16:55.052013Z,\n",
       "  2012-04-25T21:19:25.052013Z),\n",
       " ('7D',\n",
       "  'G03A',\n",
       "  '*',\n",
       "  'BH?',\n",
       "  2012-04-25T21:27:54.608850Z,\n",
       "  2012-04-25T21:30:24.608850Z),\n",
       " ('UW',\n",
       "  'OFR',\n",
       "  '*',\n",
       "  'BH?',\n",
       "  2012-04-25T22:22:04.379107Z,\n",
       "  2012-04-25T22:24:34.379107Z),\n",
       " ('7D',\n",
       "  'G03A',\n",
       "  '*',\n",
       "  'BH?',\n",
       "  2012-04-25T23:49:21.898869Z,\n",
       "  2012-04-25T23:51:51.898869Z),\n",
       " ('CN',\n",
       "  'VGZ',\n",
       "  '*',\n",
       "  'HH?',\n",
       "  2012-04-24T23:59:08.908738Z,\n",
       "  2012-04-24T23:59:59.999999Z),\n",
       " ('CN',\n",
       "  'VGZ',\n",
       "  '*',\n",
       "  'HH?',\n",
       "  2012-04-25T00:00:00.000000Z,\n",
       "  2012-04-25T00:01:38.908738Z),\n",
       " ('CN',\n",
       "  'SNB',\n",
       "  '*',\n",
       "  'HH?',\n",
       "  2012-04-24T23:59:08.908738Z,\n",
       "  2012-04-24T23:59:59.999999Z),\n",
       " ('CN',\n",
       "  'SNB',\n",
       "  '*',\n",
       "  'HH?',\n",
       "  2012-04-25T00:00:00.000000Z,\n",
       "  2012-04-25T00:01:38.908738Z),\n",
       " ('CN',\n",
       "  'PFB',\n",
       "  '*',\n",
       "  'HH?',\n",
       "  2012-04-24T23:59:08.908738Z,\n",
       "  2012-04-24T23:59:59.999999Z),\n",
       " ('CN',\n",
       "  'PFB',\n",
       "  '*',\n",
       "  'HH?',\n",
       "  2012-04-25T00:00:00.000000Z,\n",
       "  2012-04-25T00:01:38.908738Z),\n",
       " ('CN',\n",
       "  'LZB',\n",
       "  '*',\n",
       "  'BH?',\n",
       "  2012-04-24T23:59:08.908738Z,\n",
       "  2012-04-24T23:59:59.999999Z),\n",
       " ('CN',\n",
       "  'LZB',\n",
       "  '*',\n",
       "  'BH?',\n",
       "  2012-04-25T00:00:00.000000Z,\n",
       "  2012-04-25T00:01:38.908738Z),\n",
       " ('7D',\n",
       "  'FN08A',\n",
       "  '*',\n",
       "  'HH?',\n",
       "  2012-04-24T23:59:08.908738Z,\n",
       "  2012-04-24T23:59:59.999999Z),\n",
       " ('7D',\n",
       "  'FN08A',\n",
       "  '*',\n",
       "  'HH?',\n",
       "  2012-04-25T00:00:00.000000Z,\n",
       "  2012-04-25T00:01:38.908738Z),\n",
       " ('UW',\n",
       "  'LEBA',\n",
       "  '*',\n",
       "  'BH?',\n",
       "  2012-04-26T04:23:36.352292Z,\n",
       "  2012-04-26T04:26:06.352292Z),\n",
       " ('7D',\n",
       "  'FN07A',\n",
       "  '*',\n",
       "  'HH?',\n",
       "  2012-04-26T04:23:36.352292Z,\n",
       "  2012-04-26T04:26:06.352292Z),\n",
       " ('UW',\n",
       "  'FISH',\n",
       "  '*',\n",
       "  'BH?',\n",
       "  2012-04-26T04:23:36.352292Z,\n",
       "  2012-04-26T04:26:06.352292Z)]"
      ]
     },
     "execution_count": 101,
     "metadata": {},
     "output_type": "execute_result"
    }
   ],
   "source": [
    "frac = 0.9\n",
    "window = 20\n",
    "adjust = -20\n",
    "batch_test = batches_bulk_waveforms_chunks[2][int(len(batches_bulk_waveforms_chunks[2])*frac)+adjust:int(len(batches_bulk_waveforms_chunks[2])*frac)+window+adjust]\n",
    "batch_test"
   ]
  },
  {
   "cell_type": "code",
   "execution_count": 176,
   "id": "9064cdd3",
   "metadata": {},
   "outputs": [
    {
     "data": {
      "text/plain": [
       "3 Trace(s) in Stream:\n",
       "TA.L02D..BHE | 2012-08-19T02:42:41.650000Z - 2012-08-19T02:45:11.650000Z | 40.0 Hz, 6001 samples\n",
       "TA.L02D..BHN | 2012-08-19T02:42:41.650000Z - 2012-08-19T02:45:11.650000Z | 40.0 Hz, 6001 samples\n",
       "TA.L02D..BHZ | 2012-08-19T02:42:41.650000Z - 2012-08-19T02:45:11.650000Z | 40.0 Hz, 6001 samples"
      ]
     },
     "execution_count": 176,
     "metadata": {},
     "output_type": "execute_result"
    }
   ],
   "source": [
    "st_test = client_waveform.get_waveforms(network='TA', station='L02D', location=\"*\", channel=\"BH?\",\n",
    "                                                starttime=obspy.UTCDateTime('2012-08-19T02:42:41.651371Z'), endtime=obspy.UTCDateTime('2012-08-19T02:45:11.651371Z'))\n",
    "st_test"
   ]
  },
  {
   "cell_type": "code",
   "execution_count": null,
   "id": "6a3375e7",
   "metadata": {},
   "outputs": [],
   "source": [
    "st_test = client_waveform.get_waveforms(network='CN', station='PFB', location=\"*\", channel=\"HH?\",\n",
    "                                                starttime=obspy.UTCDateTime('2012-04-24T23:59:08.908738Z'), endtime=obspy.UTCDateTime('2012-04-24T23:59:59.999999Z'))\n",
    "st_test"
   ]
  },
  {
   "cell_type": "code",
   "execution_count": 117,
   "id": "6a667b28",
   "metadata": {},
   "outputs": [],
   "source": [
    "t1 = obspy.UTCDateTime('2012-04-24')"
   ]
  },
  {
   "cell_type": "code",
   "execution_count": 119,
   "id": "412c49d0",
   "metadata": {},
   "outputs": [
    {
     "data": {
      "text/plain": [
       "0 Trace(s) in Stream:\n"
      ]
     },
     "execution_count": 119,
     "metadata": {},
     "output_type": "execute_result"
    }
   ],
   "source": [
    "_sdata = client_waveform.get_waveforms(network='CN', station='PFB', channel='HH?', \n",
    "                                              year=t1.strftime('%Y'), month=t1.strftime('%m'), \n",
    "                                              day=t1.strftime('%d'))\n",
    "_sdata"
   ]
  },
  {
   "cell_type": "code",
   "execution_count": 42,
   "id": "6f51b3fa",
   "metadata": {},
   "outputs": [
    {
     "data": {
      "text/plain": [
       "3"
      ]
     },
     "execution_count": 42,
     "metadata": {},
     "output_type": "execute_result"
    }
   ],
   "source": [
    "int(len(batches_bulk_waveforms_chunks)*frac)"
   ]
  },
  {
   "cell_type": "code",
   "execution_count": 44,
   "id": "026b2cb1",
   "metadata": {},
   "outputs": [
    {
     "data": {
      "text/plain": [
       "11"
      ]
     },
     "execution_count": 44,
     "metadata": {},
     "output_type": "execute_result"
    }
   ],
   "source": [
    "len(batches_bulk_waveforms_chunks)"
   ]
  },
  {
   "cell_type": "code",
   "execution_count": 45,
   "id": "bbc39146",
   "metadata": {},
   "outputs": [
    {
     "data": {
      "text/plain": [
       "16880"
      ]
     },
     "execution_count": 45,
     "metadata": {},
     "output_type": "execute_result"
    }
   ],
   "source": [
    "len(batches_bulk_waveforms_chunks[2])"
   ]
  },
  {
   "cell_type": "code",
   "execution_count": 69,
   "id": "a286af91",
   "metadata": {},
   "outputs": [
    {
     "data": {
      "text/plain": [
       "[('NC',\n",
       "  'KSXB',\n",
       "  '*',\n",
       "  'HH?',\n",
       "  2012-04-24T14:21:07.424276Z,\n",
       "  2012-04-24T14:23:37.424276Z),\n",
       " ('NC',\n",
       "  'KBO',\n",
       "  '*',\n",
       "  'HH?',\n",
       "  2012-04-24T14:21:07.424276Z,\n",
       "  2012-04-24T14:23:37.424276Z),\n",
       " ('NC',\n",
       "  'KRP',\n",
       "  '*',\n",
       "  'HH?',\n",
       "  2012-04-24T14:21:07.424276Z,\n",
       "  2012-04-24T14:23:37.424276Z),\n",
       " ('BK',\n",
       "  'JCC',\n",
       "  '*',\n",
       "  'HH?',\n",
       "  2012-04-24T14:21:07.424276Z,\n",
       "  2012-04-24T14:23:37.424276Z),\n",
       " ('NC',\n",
       "  'KHMB',\n",
       "  '*',\n",
       "  'HH?',\n",
       "  2012-04-24T14:21:07.424276Z,\n",
       "  2012-04-24T14:23:37.424276Z),\n",
       " ('NC',\n",
       "  'KHBB',\n",
       "  '*',\n",
       "  'HH?',\n",
       "  2012-04-24T14:21:07.424276Z,\n",
       "  2012-04-24T14:23:37.424276Z),\n",
       " ('NC',\n",
       "  'KMR',\n",
       "  '*',\n",
       "  'HH?',\n",
       "  2012-04-24T14:21:07.424276Z,\n",
       "  2012-04-24T14:23:37.424276Z),\n",
       " ('NC',\n",
       "  'KMR',\n",
       "  '*',\n",
       "  'HH?',\n",
       "  2012-04-24T15:27:33.462465Z,\n",
       "  2012-04-24T15:30:03.462465Z),\n",
       " ('BK',\n",
       "  'JCC',\n",
       "  '*',\n",
       "  'HH?',\n",
       "  2012-04-24T15:27:33.462465Z,\n",
       "  2012-04-24T15:30:03.462465Z),\n",
       " ('BK',\n",
       "  'JCC',\n",
       "  '*',\n",
       "  'HH?',\n",
       "  2012-04-25T01:28:13.790263Z,\n",
       "  2012-04-25T01:30:43.790263Z),\n",
       " ('NC',\n",
       "  'KCT',\n",
       "  '*',\n",
       "  'HH?',\n",
       "  2012-04-25T07:55:20.058143Z,\n",
       "  2012-04-25T07:57:50.058143Z),\n",
       " ('BK',\n",
       "  'JCC',\n",
       "  '*',\n",
       "  'HH?',\n",
       "  2012-04-25T07:55:20.058143Z,\n",
       "  2012-04-25T07:57:50.058143Z),\n",
       " ('BK',\n",
       "  'JCC',\n",
       "  '*',\n",
       "  'HH?',\n",
       "  2012-04-25T08:28:26.508604Z,\n",
       "  2012-04-25T08:30:56.508604Z),\n",
       " ('NC',\n",
       "  'KMR',\n",
       "  '*',\n",
       "  'HH?',\n",
       "  2012-04-25T08:28:26.508604Z,\n",
       "  2012-04-25T08:30:56.508604Z),\n",
       " ('BK',\n",
       "  'JCC',\n",
       "  '*',\n",
       "  'HH?',\n",
       "  2012-04-25T08:34:15.276916Z,\n",
       "  2012-04-25T08:36:45.276916Z),\n",
       " ('NC',\n",
       "  'KMR',\n",
       "  '*',\n",
       "  'HH?',\n",
       "  2012-04-25T08:34:15.276916Z,\n",
       "  2012-04-25T08:36:45.276916Z),\n",
       " ('NC',\n",
       "  'KRP',\n",
       "  '*',\n",
       "  'HH?',\n",
       "  2012-04-25T09:03:19.089494Z,\n",
       "  2012-04-25T09:05:49.089494Z),\n",
       " ('NC',\n",
       "  'KSXB',\n",
       "  '*',\n",
       "  'HH?',\n",
       "  2012-04-25T09:03:19.089494Z,\n",
       "  2012-04-25T09:05:49.089494Z),\n",
       " ('NC',\n",
       "  'KBO',\n",
       "  '*',\n",
       "  'HH?',\n",
       "  2012-04-25T09:03:19.089494Z,\n",
       "  2012-04-25T09:05:49.089494Z),\n",
       " ('NC',\n",
       "  'KHMB',\n",
       "  '*',\n",
       "  'HH?',\n",
       "  2012-04-25T09:03:19.089494Z,\n",
       "  2012-04-25T09:05:49.089494Z)]"
      ]
     },
     "execution_count": 69,
     "metadata": {},
     "output_type": "execute_result"
    }
   ],
   "source": [
    "frac = 0.9  \n",
    "window = 20\n",
    "adjust  = -90\n",
    "batches_bulk_waveforms_chunks_ncedc[2][int(len(batches_bulk_waveforms_chunks_ncedc[2])*frac)+adjust:int(len(batches_bulk_waveforms_chunks_ncedc[2])*frac)+window+adjust]"
   ]
  },
  {
   "cell_type": "code",
   "execution_count": 174,
   "id": "145eb462",
   "metadata": {},
   "outputs": [],
   "source": [
    "inv_test = inv.select(network='TA', station='L02D', time=obspy.UTCDateTime('2012-08-19T02:45:11.651371Z'))"
   ]
  },
  {
   "cell_type": "code",
   "execution_count": 175,
   "id": "a2133437",
   "metadata": {},
   "outputs": [
    {
     "data": {
      "text/plain": [
       "Inventory created at 2025-08-09T21:47:51.198600Z\n",
       "\tCreated by: IRIS WEB SERVICE: fdsnws-station | version: 1.1.52\n",
       "\t\t    \n",
       "\tSending institution: IRIS-DMC (IRIS-DMC)\n",
       "\tContains:\n",
       "\t\tNetworks (1):\n",
       "\t\t\tTA\n",
       "\t\tStations (1):\n",
       "\t\t\tTA.L02D (Cave Junction, OR, USA)\n",
       "\t\tChannels (6):\n",
       "\t\t\tTA.L02D..BHZ, TA.L02D..BHN, TA.L02D..BHE, TA.L02D..HHZ, \n",
       "\t\t\tTA.L02D..HHN, TA.L02D..HHE"
      ]
     },
     "execution_count": 175,
     "metadata": {},
     "output_type": "execute_result"
    }
   ],
   "source": [
    "inv_test"
   ]
  },
  {
   "cell_type": "code",
   "execution_count": 82,
   "id": "1ebfb91f",
   "metadata": {},
   "outputs": [
    {
     "data": {
      "text/plain": [
       "120746     1.294234e+09\n",
       "120752     1.294234e+09\n",
       "120826     1.294265e+09\n",
       "120836     1.294265e+09\n",
       "121132     1.294325e+09\n",
       "               ...     \n",
       "1003940    1.435056e+09\n",
       "1004138    1.435084e+09\n",
       "1004145    1.435084e+09\n",
       "1004206    1.435086e+09\n",
       "1004211    1.435086e+09\n",
       "Name: otime, Length: 4574, dtype: float64"
      ]
     },
     "execution_count": 82,
     "metadata": {},
     "output_type": "execute_result"
    }
   ],
   "source": [
    "assoc_df.loc[assoc_df['sta'] == 'CN.VGZ']['otime']"
   ]
  },
  {
   "cell_type": "code",
   "execution_count": 83,
   "id": "f352a5f2",
   "metadata": {},
   "outputs": [
    {
     "data": {
      "text/plain": [
       "Index(['sta', 'pick_time', 'arid', 'iphase', 'prob', 'orid', 'phase',\n",
       "       'timeres', 'slatitude', 'slongitude', 'selevation', 'delta', 'esaz',\n",
       "       'seaz', 'lat', 'lon', 'depth', 'otime', 'nass', 'p_picks', 's_picks',\n",
       "       'rms', 'nsphz', 'gap', 'algorithm', 'network', 'station', 'event_id',\n",
       "       'otime2picktime'],\n",
       "      dtype='object')"
      ]
     },
     "execution_count": 83,
     "metadata": {},
     "output_type": "execute_result"
    }
   ],
   "source": [
    "assoc_df.keys()"
   ]
  },
  {
   "cell_type": "code",
   "execution_count": 84,
   "id": "3c7a6acd",
   "metadata": {},
   "outputs": [],
   "source": [
    "assoc_df['otime_datetime'] = pd.to_datetime(assoc_df['otime'], unit='s')"
   ]
  },
  {
   "cell_type": "code",
   "execution_count": 86,
   "id": "ec76f953",
   "metadata": {},
   "outputs": [
    {
     "data": {
      "text/html": [
       "<div>\n",
       "<style scoped>\n",
       "    .dataframe tbody tr th:only-of-type {\n",
       "        vertical-align: middle;\n",
       "    }\n",
       "\n",
       "    .dataframe tbody tr th {\n",
       "        vertical-align: top;\n",
       "    }\n",
       "\n",
       "    .dataframe thead th {\n",
       "        text-align: right;\n",
       "    }\n",
       "</style>\n",
       "<table border=\"1\" class=\"dataframe\">\n",
       "  <thead>\n",
       "    <tr style=\"text-align: right;\">\n",
       "      <th></th>\n",
       "      <th>sta</th>\n",
       "      <th>pick_time</th>\n",
       "      <th>arid</th>\n",
       "      <th>iphase</th>\n",
       "      <th>prob</th>\n",
       "      <th>orid</th>\n",
       "      <th>phase</th>\n",
       "      <th>timeres</th>\n",
       "      <th>slatitude</th>\n",
       "      <th>slongitude</th>\n",
       "      <th>...</th>\n",
       "      <th>s_picks</th>\n",
       "      <th>rms</th>\n",
       "      <th>nsphz</th>\n",
       "      <th>gap</th>\n",
       "      <th>algorithm</th>\n",
       "      <th>network</th>\n",
       "      <th>station</th>\n",
       "      <th>event_id</th>\n",
       "      <th>otime2picktime</th>\n",
       "      <th>otime_datetime</th>\n",
       "    </tr>\n",
       "  </thead>\n",
       "  <tbody>\n",
       "    <tr>\n",
       "      <th>305530</th>\n",
       "      <td>CN.VGZ</td>\n",
       "      <td>1.335201e+09</td>\n",
       "      <td>305530</td>\n",
       "      <td>P</td>\n",
       "      <td>0.678</td>\n",
       "      <td>20993</td>\n",
       "      <td>P</td>\n",
       "      <td>0.058</td>\n",
       "      <td>48.4131</td>\n",
       "      <td>-123.3251</td>\n",
       "      <td>...</td>\n",
       "      <td>9</td>\n",
       "      <td>1.390</td>\n",
       "      <td>9.0</td>\n",
       "      <td>216.325567</td>\n",
       "      <td>genie</td>\n",
       "      <td>CN</td>\n",
       "      <td>VGZ</td>\n",
       "      <td>ev1335201492_102892</td>\n",
       "      <td>7.517108</td>\n",
       "      <td>2012-04-23 17:18:12.102892032</td>\n",
       "    </tr>\n",
       "    <tr>\n",
       "      <th>305536</th>\n",
       "      <td>CN.VGZ</td>\n",
       "      <td>1.335202e+09</td>\n",
       "      <td>305536</td>\n",
       "      <td>S</td>\n",
       "      <td>0.678</td>\n",
       "      <td>20993</td>\n",
       "      <td>S</td>\n",
       "      <td>-0.547</td>\n",
       "      <td>48.4131</td>\n",
       "      <td>-123.3251</td>\n",
       "      <td>...</td>\n",
       "      <td>9</td>\n",
       "      <td>1.390</td>\n",
       "      <td>9.0</td>\n",
       "      <td>216.325567</td>\n",
       "      <td>genie</td>\n",
       "      <td>CN</td>\n",
       "      <td>VGZ</td>\n",
       "      <td>ev1335201492_102892</td>\n",
       "      <td>13.317108</td>\n",
       "      <td>2012-04-23 17:18:12.102892032</td>\n",
       "    </tr>\n",
       "    <tr>\n",
       "      <th>306465</th>\n",
       "      <td>CN.VGZ</td>\n",
       "      <td>1.335312e+09</td>\n",
       "      <td>306465</td>\n",
       "      <td>P</td>\n",
       "      <td>0.883</td>\n",
       "      <td>21056</td>\n",
       "      <td>P</td>\n",
       "      <td>0.009</td>\n",
       "      <td>48.4131</td>\n",
       "      <td>-123.3251</td>\n",
       "      <td>...</td>\n",
       "      <td>16</td>\n",
       "      <td>0.564</td>\n",
       "      <td>16.0</td>\n",
       "      <td>82.919992</td>\n",
       "      <td>genie</td>\n",
       "      <td>CN</td>\n",
       "      <td>VGZ</td>\n",
       "      <td>ev1335311998_908738</td>\n",
       "      <td>6.091262</td>\n",
       "      <td>2012-04-24 23:59:58.908737792</td>\n",
       "    </tr>\n",
       "    <tr>\n",
       "      <th>306480</th>\n",
       "      <td>CN.VGZ</td>\n",
       "      <td>1.335312e+09</td>\n",
       "      <td>306480</td>\n",
       "      <td>S</td>\n",
       "      <td>0.883</td>\n",
       "      <td>21056</td>\n",
       "      <td>S</td>\n",
       "      <td>0.430</td>\n",
       "      <td>48.4131</td>\n",
       "      <td>-123.3251</td>\n",
       "      <td>...</td>\n",
       "      <td>16</td>\n",
       "      <td>0.564</td>\n",
       "      <td>16.0</td>\n",
       "      <td>82.919992</td>\n",
       "      <td>genie</td>\n",
       "      <td>CN</td>\n",
       "      <td>VGZ</td>\n",
       "      <td>ev1335311998_908738</td>\n",
       "      <td>10.781262</td>\n",
       "      <td>2012-04-24 23:59:58.908737792</td>\n",
       "    </tr>\n",
       "  </tbody>\n",
       "</table>\n",
       "<p>4 rows × 30 columns</p>\n",
       "</div>"
      ],
      "text/plain": [
       "           sta     pick_time    arid iphase   prob   orid phase  timeres  \\\n",
       "305530  CN.VGZ  1.335201e+09  305530      P  0.678  20993     P    0.058   \n",
       "305536  CN.VGZ  1.335202e+09  305536      S  0.678  20993     S   -0.547   \n",
       "306465  CN.VGZ  1.335312e+09  306465      P  0.883  21056     P    0.009   \n",
       "306480  CN.VGZ  1.335312e+09  306480      S  0.883  21056     S    0.430   \n",
       "\n",
       "        slatitude  slongitude  ...  s_picks    rms  nsphz         gap  \\\n",
       "305530    48.4131   -123.3251  ...        9  1.390    9.0  216.325567   \n",
       "305536    48.4131   -123.3251  ...        9  1.390    9.0  216.325567   \n",
       "306465    48.4131   -123.3251  ...       16  0.564   16.0   82.919992   \n",
       "306480    48.4131   -123.3251  ...       16  0.564   16.0   82.919992   \n",
       "\n",
       "        algorithm  network  station             event_id  otime2picktime  \\\n",
       "305530      genie       CN      VGZ  ev1335201492_102892        7.517108   \n",
       "305536      genie       CN      VGZ  ev1335201492_102892       13.317108   \n",
       "306465      genie       CN      VGZ  ev1335311998_908738        6.091262   \n",
       "306480      genie       CN      VGZ  ev1335311998_908738       10.781262   \n",
       "\n",
       "                      otime_datetime  \n",
       "305530 2012-04-23 17:18:12.102892032  \n",
       "305536 2012-04-23 17:18:12.102892032  \n",
       "306465 2012-04-24 23:59:58.908737792  \n",
       "306480 2012-04-24 23:59:58.908737792  \n",
       "\n",
       "[4 rows x 30 columns]"
      ]
     },
     "execution_count": 86,
     "metadata": {},
     "output_type": "execute_result"
    }
   ],
   "source": [
    "assoc_df.loc[(assoc_df['sta'] == 'CN.VGZ')&(assoc_df['otime_datetime'] >= '2012-04-23')&(assoc_df['otime_datetime'] < '2012-04-26')]"
   ]
  },
  {
   "cell_type": "code",
   "execution_count": 87,
   "id": "0087f048",
   "metadata": {},
   "outputs": [],
   "source": [
    "unique_n_s_otime['otime_datetime'] = pd.to_datetime(unique_n_s_otime['otime'], unit='s')"
   ]
  },
  {
   "cell_type": "code",
   "execution_count": 125,
   "id": "eddf5d12",
   "metadata": {},
   "outputs": [],
   "source": [
    "unique_n_s_otime['pick_time_datetime'] = pd.to_datetime(unique_n_s_otime['pick_time'], unit='s')"
   ]
  },
  {
   "cell_type": "code",
   "execution_count": 135,
   "id": "8e7a3e7d",
   "metadata": {},
   "outputs": [
    {
     "data": {
      "text/html": [
       "<div>\n",
       "<style scoped>\n",
       "    .dataframe tbody tr th:only-of-type {\n",
       "        vertical-align: middle;\n",
       "    }\n",
       "\n",
       "    .dataframe tbody tr th {\n",
       "        vertical-align: top;\n",
       "    }\n",
       "\n",
       "    .dataframe thead th {\n",
       "        text-align: right;\n",
       "    }\n",
       "</style>\n",
       "<table border=\"1\" class=\"dataframe\">\n",
       "  <thead>\n",
       "    <tr style=\"text-align: right;\">\n",
       "      <th></th>\n",
       "      <th>sta</th>\n",
       "      <th>pick_time</th>\n",
       "      <th>arid</th>\n",
       "      <th>iphase</th>\n",
       "      <th>prob</th>\n",
       "      <th>orid</th>\n",
       "      <th>phase</th>\n",
       "      <th>timeres</th>\n",
       "      <th>slatitude</th>\n",
       "      <th>slongitude</th>\n",
       "      <th>...</th>\n",
       "      <th>s_picks</th>\n",
       "      <th>rms</th>\n",
       "      <th>nsphz</th>\n",
       "      <th>gap</th>\n",
       "      <th>algorithm</th>\n",
       "      <th>network</th>\n",
       "      <th>station</th>\n",
       "      <th>event_id</th>\n",
       "      <th>otime_datetime</th>\n",
       "      <th>pick_time_datetime</th>\n",
       "    </tr>\n",
       "  </thead>\n",
       "  <tbody>\n",
       "    <tr>\n",
       "      <th>200877</th>\n",
       "      <td>CN.VGZ</td>\n",
       "      <td>1.335201e+09</td>\n",
       "      <td>305530</td>\n",
       "      <td>P</td>\n",
       "      <td>0.678</td>\n",
       "      <td>20993</td>\n",
       "      <td>P</td>\n",
       "      <td>0.058</td>\n",
       "      <td>48.4131</td>\n",
       "      <td>-123.3251</td>\n",
       "      <td>...</td>\n",
       "      <td>9</td>\n",
       "      <td>1.390</td>\n",
       "      <td>9.0</td>\n",
       "      <td>216.325567</td>\n",
       "      <td>genie</td>\n",
       "      <td>CN</td>\n",
       "      <td>VGZ</td>\n",
       "      <td>ev1335201492_102892</td>\n",
       "      <td>2012-04-23 17:18:12.102892032</td>\n",
       "      <td>2012-04-23 17:18:19.620</td>\n",
       "    </tr>\n",
       "    <tr>\n",
       "      <th>201499</th>\n",
       "      <td>CN.VGZ</td>\n",
       "      <td>1.335312e+09</td>\n",
       "      <td>306465</td>\n",
       "      <td>P</td>\n",
       "      <td>0.883</td>\n",
       "      <td>21056</td>\n",
       "      <td>P</td>\n",
       "      <td>0.009</td>\n",
       "      <td>48.4131</td>\n",
       "      <td>-123.3251</td>\n",
       "      <td>...</td>\n",
       "      <td>16</td>\n",
       "      <td>0.564</td>\n",
       "      <td>16.0</td>\n",
       "      <td>82.919992</td>\n",
       "      <td>genie</td>\n",
       "      <td>CN</td>\n",
       "      <td>VGZ</td>\n",
       "      <td>ev1335311998_908738</td>\n",
       "      <td>2012-04-24 23:59:58.908737792</td>\n",
       "      <td>2012-04-25 00:00:05.000</td>\n",
       "    </tr>\n",
       "  </tbody>\n",
       "</table>\n",
       "<p>2 rows × 30 columns</p>\n",
       "</div>"
      ],
      "text/plain": [
       "           sta     pick_time    arid iphase   prob   orid phase  timeres  \\\n",
       "200877  CN.VGZ  1.335201e+09  305530      P  0.678  20993     P    0.058   \n",
       "201499  CN.VGZ  1.335312e+09  306465      P  0.883  21056     P    0.009   \n",
       "\n",
       "        slatitude  slongitude  ...  s_picks    rms  nsphz         gap  \\\n",
       "200877    48.4131   -123.3251  ...        9  1.390    9.0  216.325567   \n",
       "201499    48.4131   -123.3251  ...       16  0.564   16.0   82.919992   \n",
       "\n",
       "        algorithm  network  station             event_id  \\\n",
       "200877      genie       CN      VGZ  ev1335201492_102892   \n",
       "201499      genie       CN      VGZ  ev1335311998_908738   \n",
       "\n",
       "                      otime_datetime      pick_time_datetime  \n",
       "200877 2012-04-23 17:18:12.102892032 2012-04-23 17:18:19.620  \n",
       "201499 2012-04-24 23:59:58.908737792 2012-04-25 00:00:05.000  \n",
       "\n",
       "[2 rows x 30 columns]"
      ]
     },
     "execution_count": 135,
     "metadata": {},
     "output_type": "execute_result"
    }
   ],
   "source": [
    "unique_n_s_otime.loc[(unique_n_s_otime['sta'] == 'CN.VGZ')&(unique_n_s_otime['otime_datetime'] >= '2012-04-23')&(unique_n_s_otime['otime_datetime'] < '2012-04-26')]"
   ]
  },
  {
   "cell_type": "code",
   "execution_count": 90,
   "id": "7fb5bd19",
   "metadata": {},
   "outputs": [
    {
     "data": {
      "text/html": [
       "<div>\n",
       "<style scoped>\n",
       "    .dataframe tbody tr th:only-of-type {\n",
       "        vertical-align: middle;\n",
       "    }\n",
       "\n",
       "    .dataframe tbody tr th {\n",
       "        vertical-align: top;\n",
       "    }\n",
       "\n",
       "    .dataframe thead th {\n",
       "        text-align: right;\n",
       "    }\n",
       "</style>\n",
       "<table border=\"1\" class=\"dataframe\">\n",
       "  <thead>\n",
       "    <tr style=\"text-align: right;\">\n",
       "      <th></th>\n",
       "      <th>sta</th>\n",
       "      <th>pick_time</th>\n",
       "      <th>arid</th>\n",
       "      <th>iphase</th>\n",
       "      <th>prob</th>\n",
       "      <th>orid</th>\n",
       "      <th>phase</th>\n",
       "      <th>timeres</th>\n",
       "      <th>slatitude</th>\n",
       "      <th>slongitude</th>\n",
       "      <th>...</th>\n",
       "      <th>p_picks</th>\n",
       "      <th>s_picks</th>\n",
       "      <th>rms</th>\n",
       "      <th>nsphz</th>\n",
       "      <th>gap</th>\n",
       "      <th>algorithm</th>\n",
       "      <th>network</th>\n",
       "      <th>station</th>\n",
       "      <th>event_id</th>\n",
       "      <th>otime_datetime</th>\n",
       "    </tr>\n",
       "  </thead>\n",
       "  <tbody>\n",
       "    <tr>\n",
       "      <th>200787</th>\n",
       "      <td>TA.D03D</td>\n",
       "      <td>1.335175e+09</td>\n",
       "      <td>305391</td>\n",
       "      <td>S</td>\n",
       "      <td>0.619</td>\n",
       "      <td>20980</td>\n",
       "      <td>S</td>\n",
       "      <td>-0.078</td>\n",
       "      <td>47.534698</td>\n",
       "      <td>-123.089401</td>\n",
       "      <td>...</td>\n",
       "      <td>4</td>\n",
       "      <td>4</td>\n",
       "      <td>0.061</td>\n",
       "      <td>4.0</td>\n",
       "      <td>291.694673</td>\n",
       "      <td>genie</td>\n",
       "      <td>TA</td>\n",
       "      <td>D03D</td>\n",
       "      <td>ev1335175430_197962</td>\n",
       "      <td>2012-04-23 10:03:50.197961984</td>\n",
       "    </tr>\n",
       "    <tr>\n",
       "      <th>200803</th>\n",
       "      <td>TA.D03D</td>\n",
       "      <td>1.335188e+09</td>\n",
       "      <td>305413</td>\n",
       "      <td>P</td>\n",
       "      <td>0.701</td>\n",
       "      <td>20983</td>\n",
       "      <td>P</td>\n",
       "      <td>-0.017</td>\n",
       "      <td>47.534698</td>\n",
       "      <td>-123.089401</td>\n",
       "      <td>...</td>\n",
       "      <td>6</td>\n",
       "      <td>6</td>\n",
       "      <td>0.195</td>\n",
       "      <td>6.0</td>\n",
       "      <td>203.766675</td>\n",
       "      <td>genie</td>\n",
       "      <td>TA</td>\n",
       "      <td>D03D</td>\n",
       "      <td>ev1335187604_286832</td>\n",
       "      <td>2012-04-23 13:26:44.286832128</td>\n",
       "    </tr>\n",
       "    <tr>\n",
       "      <th>200947</th>\n",
       "      <td>TA.D03D</td>\n",
       "      <td>1.335207e+09</td>\n",
       "      <td>305644</td>\n",
       "      <td>P</td>\n",
       "      <td>0.871</td>\n",
       "      <td>20999</td>\n",
       "      <td>P</td>\n",
       "      <td>0.088</td>\n",
       "      <td>47.534698</td>\n",
       "      <td>-123.089401</td>\n",
       "      <td>...</td>\n",
       "      <td>26</td>\n",
       "      <td>25</td>\n",
       "      <td>0.764</td>\n",
       "      <td>25.0</td>\n",
       "      <td>170.774827</td>\n",
       "      <td>genie</td>\n",
       "      <td>TA</td>\n",
       "      <td>D03D</td>\n",
       "      <td>ev1335207264_173474</td>\n",
       "      <td>2012-04-23 18:54:24.173474048</td>\n",
       "    </tr>\n",
       "    <tr>\n",
       "      <th>201016</th>\n",
       "      <td>TA.D03D</td>\n",
       "      <td>1.335219e+09</td>\n",
       "      <td>305750</td>\n",
       "      <td>P</td>\n",
       "      <td>0.887</td>\n",
       "      <td>21004</td>\n",
       "      <td>P</td>\n",
       "      <td>0.138</td>\n",
       "      <td>47.534698</td>\n",
       "      <td>-123.089401</td>\n",
       "      <td>...</td>\n",
       "      <td>30</td>\n",
       "      <td>29</td>\n",
       "      <td>0.793</td>\n",
       "      <td>29.0</td>\n",
       "      <td>172.847455</td>\n",
       "      <td>genie</td>\n",
       "      <td>TA</td>\n",
       "      <td>D03D</td>\n",
       "      <td>ev1335219479_619015</td>\n",
       "      <td>2012-04-23 22:17:59.619014912</td>\n",
       "    </tr>\n",
       "    <tr>\n",
       "      <th>201133</th>\n",
       "      <td>TA.D03D</td>\n",
       "      <td>1.335257e+09</td>\n",
       "      <td>305922</td>\n",
       "      <td>P</td>\n",
       "      <td>0.652</td>\n",
       "      <td>21017</td>\n",
       "      <td>P</td>\n",
       "      <td>-0.156</td>\n",
       "      <td>47.534698</td>\n",
       "      <td>-123.089401</td>\n",
       "      <td>...</td>\n",
       "      <td>6</td>\n",
       "      <td>7</td>\n",
       "      <td>0.303</td>\n",
       "      <td>7.0</td>\n",
       "      <td>248.741362</td>\n",
       "      <td>genie</td>\n",
       "      <td>TA</td>\n",
       "      <td>D03D</td>\n",
       "      <td>ev1335256639_793067</td>\n",
       "      <td>2012-04-24 08:37:19.793067008</td>\n",
       "    </tr>\n",
       "    <tr>\n",
       "      <th>201228</th>\n",
       "      <td>TA.D03D</td>\n",
       "      <td>1.335317e+09</td>\n",
       "      <td>306060</td>\n",
       "      <td>P</td>\n",
       "      <td>0.738</td>\n",
       "      <td>21029</td>\n",
       "      <td>P</td>\n",
       "      <td>0.081</td>\n",
       "      <td>47.534698</td>\n",
       "      <td>-123.089401</td>\n",
       "      <td>...</td>\n",
       "      <td>7</td>\n",
       "      <td>10</td>\n",
       "      <td>0.589</td>\n",
       "      <td>10.0</td>\n",
       "      <td>235.003155</td>\n",
       "      <td>genie</td>\n",
       "      <td>TA</td>\n",
       "      <td>D03D</td>\n",
       "      <td>ev1335316832_772515</td>\n",
       "      <td>2012-04-25 01:20:32.772515072</td>\n",
       "    </tr>\n",
       "    <tr>\n",
       "      <th>201246</th>\n",
       "      <td>TA.D03D</td>\n",
       "      <td>1.335318e+09</td>\n",
       "      <td>306085</td>\n",
       "      <td>P</td>\n",
       "      <td>0.831</td>\n",
       "      <td>21031</td>\n",
       "      <td>P</td>\n",
       "      <td>0.071</td>\n",
       "      <td>47.534698</td>\n",
       "      <td>-123.089401</td>\n",
       "      <td>...</td>\n",
       "      <td>12</td>\n",
       "      <td>22</td>\n",
       "      <td>0.583</td>\n",
       "      <td>22.0</td>\n",
       "      <td>45.211531</td>\n",
       "      <td>genie</td>\n",
       "      <td>TA</td>\n",
       "      <td>D03D</td>\n",
       "      <td>ev1335317598_448957</td>\n",
       "      <td>2012-04-25 01:33:18.448956928</td>\n",
       "    </tr>\n",
       "    <tr>\n",
       "      <th>201444</th>\n",
       "      <td>TA.D03D</td>\n",
       "      <td>1.335389e+09</td>\n",
       "      <td>306380</td>\n",
       "      <td>P</td>\n",
       "      <td>0.808</td>\n",
       "      <td>21051</td>\n",
       "      <td>P</td>\n",
       "      <td>0.242</td>\n",
       "      <td>47.534698</td>\n",
       "      <td>-123.089401</td>\n",
       "      <td>...</td>\n",
       "      <td>12</td>\n",
       "      <td>10</td>\n",
       "      <td>0.624</td>\n",
       "      <td>10.0</td>\n",
       "      <td>186.766425</td>\n",
       "      <td>genie</td>\n",
       "      <td>TA</td>\n",
       "      <td>D03D</td>\n",
       "      <td>ev1335388665_052013</td>\n",
       "      <td>2012-04-25 21:17:45.052012800</td>\n",
       "    </tr>\n",
       "  </tbody>\n",
       "</table>\n",
       "<p>8 rows × 29 columns</p>\n",
       "</div>"
      ],
      "text/plain": [
       "            sta     pick_time    arid iphase   prob   orid phase  timeres  \\\n",
       "200787  TA.D03D  1.335175e+09  305391      S  0.619  20980     S   -0.078   \n",
       "200803  TA.D03D  1.335188e+09  305413      P  0.701  20983     P   -0.017   \n",
       "200947  TA.D03D  1.335207e+09  305644      P  0.871  20999     P    0.088   \n",
       "201016  TA.D03D  1.335219e+09  305750      P  0.887  21004     P    0.138   \n",
       "201133  TA.D03D  1.335257e+09  305922      P  0.652  21017     P   -0.156   \n",
       "201228  TA.D03D  1.335317e+09  306060      P  0.738  21029     P    0.081   \n",
       "201246  TA.D03D  1.335318e+09  306085      P  0.831  21031     P    0.071   \n",
       "201444  TA.D03D  1.335389e+09  306380      P  0.808  21051     P    0.242   \n",
       "\n",
       "        slatitude  slongitude  ...  p_picks  s_picks    rms  nsphz  \\\n",
       "200787  47.534698 -123.089401  ...        4        4  0.061    4.0   \n",
       "200803  47.534698 -123.089401  ...        6        6  0.195    6.0   \n",
       "200947  47.534698 -123.089401  ...       26       25  0.764   25.0   \n",
       "201016  47.534698 -123.089401  ...       30       29  0.793   29.0   \n",
       "201133  47.534698 -123.089401  ...        6        7  0.303    7.0   \n",
       "201228  47.534698 -123.089401  ...        7       10  0.589   10.0   \n",
       "201246  47.534698 -123.089401  ...       12       22  0.583   22.0   \n",
       "201444  47.534698 -123.089401  ...       12       10  0.624   10.0   \n",
       "\n",
       "               gap  algorithm  network  station             event_id  \\\n",
       "200787  291.694673      genie       TA     D03D  ev1335175430_197962   \n",
       "200803  203.766675      genie       TA     D03D  ev1335187604_286832   \n",
       "200947  170.774827      genie       TA     D03D  ev1335207264_173474   \n",
       "201016  172.847455      genie       TA     D03D  ev1335219479_619015   \n",
       "201133  248.741362      genie       TA     D03D  ev1335256639_793067   \n",
       "201228  235.003155      genie       TA     D03D  ev1335316832_772515   \n",
       "201246   45.211531      genie       TA     D03D  ev1335317598_448957   \n",
       "201444  186.766425      genie       TA     D03D  ev1335388665_052013   \n",
       "\n",
       "                      otime_datetime  \n",
       "200787 2012-04-23 10:03:50.197961984  \n",
       "200803 2012-04-23 13:26:44.286832128  \n",
       "200947 2012-04-23 18:54:24.173474048  \n",
       "201016 2012-04-23 22:17:59.619014912  \n",
       "201133 2012-04-24 08:37:19.793067008  \n",
       "201228 2012-04-25 01:20:32.772515072  \n",
       "201246 2012-04-25 01:33:18.448956928  \n",
       "201444 2012-04-25 21:17:45.052012800  \n",
       "\n",
       "[8 rows x 29 columns]"
      ]
     },
     "execution_count": 90,
     "metadata": {},
     "output_type": "execute_result"
    }
   ],
   "source": [
    "unique_n_s_otime.loc[(unique_n_s_otime['sta'] == 'TA.D03D')&(unique_n_s_otime['otime_datetime'] >= '2012-04-23')&(unique_n_s_otime['otime_datetime'] < '2012-04-26')]"
   ]
  },
  {
   "cell_type": "code",
   "execution_count": 91,
   "id": "eb02bd4a",
   "metadata": {},
   "outputs": [
    {
     "data": {
      "text/html": [
       "<div>\n",
       "<style scoped>\n",
       "    .dataframe tbody tr th:only-of-type {\n",
       "        vertical-align: middle;\n",
       "    }\n",
       "\n",
       "    .dataframe tbody tr th {\n",
       "        vertical-align: top;\n",
       "    }\n",
       "\n",
       "    .dataframe thead th {\n",
       "        text-align: right;\n",
       "    }\n",
       "</style>\n",
       "<table border=\"1\" class=\"dataframe\">\n",
       "  <thead>\n",
       "    <tr style=\"text-align: right;\">\n",
       "      <th></th>\n",
       "      <th>sta</th>\n",
       "      <th>pick_time</th>\n",
       "      <th>arid</th>\n",
       "      <th>iphase</th>\n",
       "      <th>prob</th>\n",
       "      <th>orid</th>\n",
       "      <th>phase</th>\n",
       "      <th>timeres</th>\n",
       "      <th>slatitude</th>\n",
       "      <th>slongitude</th>\n",
       "      <th>...</th>\n",
       "      <th>p_picks</th>\n",
       "      <th>s_picks</th>\n",
       "      <th>rms</th>\n",
       "      <th>nsphz</th>\n",
       "      <th>gap</th>\n",
       "      <th>algorithm</th>\n",
       "      <th>network</th>\n",
       "      <th>station</th>\n",
       "      <th>event_id</th>\n",
       "      <th>otime_datetime</th>\n",
       "    </tr>\n",
       "  </thead>\n",
       "  <tbody>\n",
       "    <tr>\n",
       "      <th>201036</th>\n",
       "      <td>UW.LEBA</td>\n",
       "      <td>1.335220e+09</td>\n",
       "      <td>305770</td>\n",
       "      <td>P</td>\n",
       "      <td>0.887</td>\n",
       "      <td>21004</td>\n",
       "      <td>P</td>\n",
       "      <td>2.306</td>\n",
       "      <td>46.545898</td>\n",
       "      <td>-123.563202</td>\n",
       "      <td>...</td>\n",
       "      <td>30</td>\n",
       "      <td>29</td>\n",
       "      <td>0.793</td>\n",
       "      <td>29.0</td>\n",
       "      <td>172.847455</td>\n",
       "      <td>genie</td>\n",
       "      <td>UW</td>\n",
       "      <td>LEBA</td>\n",
       "      <td>ev1335219479_619015</td>\n",
       "      <td>2012-04-23 22:17:59.619014912</td>\n",
       "    </tr>\n",
       "    <tr>\n",
       "      <th>201410</th>\n",
       "      <td>UW.LEBA</td>\n",
       "      <td>1.335369e+09</td>\n",
       "      <td>306323</td>\n",
       "      <td>P</td>\n",
       "      <td>0.651</td>\n",
       "      <td>21047</td>\n",
       "      <td>P</td>\n",
       "      <td>-0.291</td>\n",
       "      <td>46.545898</td>\n",
       "      <td>-123.563202</td>\n",
       "      <td>...</td>\n",
       "      <td>18</td>\n",
       "      <td>10</td>\n",
       "      <td>0.862</td>\n",
       "      <td>10.0</td>\n",
       "      <td>233.474133</td>\n",
       "      <td>genie</td>\n",
       "      <td>UW</td>\n",
       "      <td>LEBA</td>\n",
       "      <td>ev1335368578_971975</td>\n",
       "      <td>2012-04-25 15:42:58.971975168</td>\n",
       "    </tr>\n",
       "  </tbody>\n",
       "</table>\n",
       "<p>2 rows × 29 columns</p>\n",
       "</div>"
      ],
      "text/plain": [
       "            sta     pick_time    arid iphase   prob   orid phase  timeres  \\\n",
       "201036  UW.LEBA  1.335220e+09  305770      P  0.887  21004     P    2.306   \n",
       "201410  UW.LEBA  1.335369e+09  306323      P  0.651  21047     P   -0.291   \n",
       "\n",
       "        slatitude  slongitude  ...  p_picks  s_picks    rms  nsphz  \\\n",
       "201036  46.545898 -123.563202  ...       30       29  0.793   29.0   \n",
       "201410  46.545898 -123.563202  ...       18       10  0.862   10.0   \n",
       "\n",
       "               gap  algorithm  network  station             event_id  \\\n",
       "201036  172.847455      genie       UW     LEBA  ev1335219479_619015   \n",
       "201410  233.474133      genie       UW     LEBA  ev1335368578_971975   \n",
       "\n",
       "                      otime_datetime  \n",
       "201036 2012-04-23 22:17:59.619014912  \n",
       "201410 2012-04-25 15:42:58.971975168  \n",
       "\n",
       "[2 rows x 29 columns]"
      ]
     },
     "execution_count": 91,
     "metadata": {},
     "output_type": "execute_result"
    }
   ],
   "source": [
    "unique_n_s_otime.loc[(unique_n_s_otime['sta'] == 'UW.LEBA')&(unique_n_s_otime['otime_datetime'] >= '2012-04-23')&(unique_n_s_otime['otime_datetime'] < '2012-04-26')]"
   ]
  },
  {
   "cell_type": "code",
   "execution_count": 134,
   "id": "88eb403b",
   "metadata": {},
   "outputs": [
    {
     "data": {
      "text/html": [
       "<div>\n",
       "<style scoped>\n",
       "    .dataframe tbody tr th:only-of-type {\n",
       "        vertical-align: middle;\n",
       "    }\n",
       "\n",
       "    .dataframe tbody tr th {\n",
       "        vertical-align: top;\n",
       "    }\n",
       "\n",
       "    .dataframe thead th {\n",
       "        text-align: right;\n",
       "    }\n",
       "</style>\n",
       "<table border=\"1\" class=\"dataframe\">\n",
       "  <thead>\n",
       "    <tr style=\"text-align: right;\">\n",
       "      <th></th>\n",
       "      <th>sta</th>\n",
       "      <th>pick_time</th>\n",
       "      <th>arid</th>\n",
       "      <th>iphase</th>\n",
       "      <th>prob</th>\n",
       "      <th>orid</th>\n",
       "      <th>phase</th>\n",
       "      <th>timeres</th>\n",
       "      <th>slatitude</th>\n",
       "      <th>slongitude</th>\n",
       "      <th>...</th>\n",
       "      <th>s_picks</th>\n",
       "      <th>rms</th>\n",
       "      <th>nsphz</th>\n",
       "      <th>gap</th>\n",
       "      <th>algorithm</th>\n",
       "      <th>network</th>\n",
       "      <th>station</th>\n",
       "      <th>event_id</th>\n",
       "      <th>otime_datetime</th>\n",
       "      <th>pick_time_datetime</th>\n",
       "    </tr>\n",
       "  </thead>\n",
       "  <tbody>\n",
       "    <tr>\n",
       "      <th>201211</th>\n",
       "      <td>PB.B003</td>\n",
       "      <td>1.335301e+09</td>\n",
       "      <td>306030</td>\n",
       "      <td>P</td>\n",
       "      <td>0.751</td>\n",
       "      <td>21027</td>\n",
       "      <td>P</td>\n",
       "      <td>-0.313</td>\n",
       "      <td>48.062359</td>\n",
       "      <td>-124.140862</td>\n",
       "      <td>...</td>\n",
       "      <td>10</td>\n",
       "      <td>0.692</td>\n",
       "      <td>10.0</td>\n",
       "      <td>115.479275</td>\n",
       "      <td>genie</td>\n",
       "      <td>PB</td>\n",
       "      <td>B003</td>\n",
       "      <td>ev1335300581_135882</td>\n",
       "      <td>2012-04-24 20:49:41.135881984</td>\n",
       "      <td>2012-04-24 20:49:50.728399872</td>\n",
       "    </tr>\n",
       "    <tr>\n",
       "      <th>201212</th>\n",
       "      <td>PB.B001</td>\n",
       "      <td>1.335301e+09</td>\n",
       "      <td>306031</td>\n",
       "      <td>P</td>\n",
       "      <td>0.751</td>\n",
       "      <td>21027</td>\n",
       "      <td>P</td>\n",
       "      <td>0.177</td>\n",
       "      <td>48.043072</td>\n",
       "      <td>-123.131409</td>\n",
       "      <td>...</td>\n",
       "      <td>10</td>\n",
       "      <td>0.692</td>\n",
       "      <td>10.0</td>\n",
       "      <td>115.479275</td>\n",
       "      <td>genie</td>\n",
       "      <td>PB</td>\n",
       "      <td>B001</td>\n",
       "      <td>ev1335300581_135882</td>\n",
       "      <td>2012-04-24 20:49:41.135881984</td>\n",
       "      <td>2012-04-24 20:49:50.878400000</td>\n",
       "    </tr>\n",
       "    <tr>\n",
       "      <th>201213</th>\n",
       "      <td>UW.MCW</td>\n",
       "      <td>1.335301e+09</td>\n",
       "      <td>306032</td>\n",
       "      <td>P</td>\n",
       "      <td>0.751</td>\n",
       "      <td>21027</td>\n",
       "      <td>P</td>\n",
       "      <td>-0.197</td>\n",
       "      <td>48.679000</td>\n",
       "      <td>-122.832600</td>\n",
       "      <td>...</td>\n",
       "      <td>10</td>\n",
       "      <td>0.692</td>\n",
       "      <td>10.0</td>\n",
       "      <td>115.479275</td>\n",
       "      <td>genie</td>\n",
       "      <td>UW</td>\n",
       "      <td>MCW</td>\n",
       "      <td>ev1335300581_135882</td>\n",
       "      <td>2012-04-24 20:49:41.135881984</td>\n",
       "      <td>2012-04-24 20:49:51.320000000</td>\n",
       "    </tr>\n",
       "    <tr>\n",
       "      <th>201214</th>\n",
       "      <td>PB.B004</td>\n",
       "      <td>1.335301e+09</td>\n",
       "      <td>306033</td>\n",
       "      <td>P</td>\n",
       "      <td>0.751</td>\n",
       "      <td>21027</td>\n",
       "      <td>P</td>\n",
       "      <td>-0.562</td>\n",
       "      <td>48.201923</td>\n",
       "      <td>-124.427010</td>\n",
       "      <td>...</td>\n",
       "      <td>10</td>\n",
       "      <td>0.692</td>\n",
       "      <td>10.0</td>\n",
       "      <td>115.479275</td>\n",
       "      <td>genie</td>\n",
       "      <td>PB</td>\n",
       "      <td>B004</td>\n",
       "      <td>ev1335300581_135882</td>\n",
       "      <td>2012-04-24 20:49:41.135881984</td>\n",
       "      <td>2012-04-24 20:49:51.788399872</td>\n",
       "    </tr>\n",
       "    <tr>\n",
       "      <th>201215</th>\n",
       "      <td>UW.BLN</td>\n",
       "      <td>1.335301e+09</td>\n",
       "      <td>306034</td>\n",
       "      <td>P</td>\n",
       "      <td>0.751</td>\n",
       "      <td>21027</td>\n",
       "      <td>P</td>\n",
       "      <td>-0.262</td>\n",
       "      <td>48.006624</td>\n",
       "      <td>-122.972646</td>\n",
       "      <td>...</td>\n",
       "      <td>10</td>\n",
       "      <td>0.692</td>\n",
       "      <td>10.0</td>\n",
       "      <td>115.479275</td>\n",
       "      <td>genie</td>\n",
       "      <td>UW</td>\n",
       "      <td>BLN</td>\n",
       "      <td>ev1335300581_135882</td>\n",
       "      <td>2012-04-24 20:49:41.135881984</td>\n",
       "      <td>2012-04-24 20:49:52.200000000</td>\n",
       "    </tr>\n",
       "    <tr>\n",
       "      <th>201216</th>\n",
       "      <td>UW.HDW</td>\n",
       "      <td>1.335301e+09</td>\n",
       "      <td>306035</td>\n",
       "      <td>P</td>\n",
       "      <td>0.751</td>\n",
       "      <td>21027</td>\n",
       "      <td>P</td>\n",
       "      <td>-0.714</td>\n",
       "      <td>47.649030</td>\n",
       "      <td>-123.053500</td>\n",
       "      <td>...</td>\n",
       "      <td>10</td>\n",
       "      <td>0.692</td>\n",
       "      <td>10.0</td>\n",
       "      <td>115.479275</td>\n",
       "      <td>genie</td>\n",
       "      <td>UW</td>\n",
       "      <td>HDW</td>\n",
       "      <td>ev1335300581_135882</td>\n",
       "      <td>2012-04-24 20:49:41.135881984</td>\n",
       "      <td>2012-04-24 20:49:56.740000000</td>\n",
       "    </tr>\n",
       "    <tr>\n",
       "      <th>201217</th>\n",
       "      <td>7D.J73A</td>\n",
       "      <td>1.335301e+09</td>\n",
       "      <td>306036</td>\n",
       "      <td>P</td>\n",
       "      <td>0.751</td>\n",
       "      <td>21027</td>\n",
       "      <td>P</td>\n",
       "      <td>2.497</td>\n",
       "      <td>48.767700</td>\n",
       "      <td>-126.192497</td>\n",
       "      <td>...</td>\n",
       "      <td>10</td>\n",
       "      <td>0.692</td>\n",
       "      <td>10.0</td>\n",
       "      <td>115.479275</td>\n",
       "      <td>genie</td>\n",
       "      <td>7D</td>\n",
       "      <td>J73A</td>\n",
       "      <td>ev1335300581_135882</td>\n",
       "      <td>2012-04-24 20:49:41.135881984</td>\n",
       "      <td>2012-04-24 20:50:13.383399936</td>\n",
       "    </tr>\n",
       "    <tr>\n",
       "      <th>201218</th>\n",
       "      <td>UW.SHW</td>\n",
       "      <td>1.335301e+09</td>\n",
       "      <td>306037</td>\n",
       "      <td>P</td>\n",
       "      <td>0.751</td>\n",
       "      <td>21027</td>\n",
       "      <td>P</td>\n",
       "      <td>-0.187</td>\n",
       "      <td>46.193640</td>\n",
       "      <td>-122.234920</td>\n",
       "      <td>...</td>\n",
       "      <td>10</td>\n",
       "      <td>0.692</td>\n",
       "      <td>10.0</td>\n",
       "      <td>115.479275</td>\n",
       "      <td>genie</td>\n",
       "      <td>UW</td>\n",
       "      <td>SHW</td>\n",
       "      <td>ev1335300581_135882</td>\n",
       "      <td>2012-04-24 20:49:41.135881984</td>\n",
       "      <td>2012-04-24 20:50:21.660000000</td>\n",
       "    </tr>\n",
       "    <tr>\n",
       "      <th>201219</th>\n",
       "      <td>PB.B009</td>\n",
       "      <td>1.335314e+09</td>\n",
       "      <td>306048</td>\n",
       "      <td>P</td>\n",
       "      <td>0.632</td>\n",
       "      <td>21028</td>\n",
       "      <td>P</td>\n",
       "      <td>-0.036</td>\n",
       "      <td>48.648670</td>\n",
       "      <td>-123.451172</td>\n",
       "      <td>...</td>\n",
       "      <td>4</td>\n",
       "      <td>0.028</td>\n",
       "      <td>4.0</td>\n",
       "      <td>180.411570</td>\n",
       "      <td>genie</td>\n",
       "      <td>PB</td>\n",
       "      <td>B009</td>\n",
       "      <td>ev1335313506_035775</td>\n",
       "      <td>2012-04-25 00:25:06.035774976</td>\n",
       "      <td>2012-04-25 00:25:09.358400000</td>\n",
       "    </tr>\n",
       "    <tr>\n",
       "      <th>201220</th>\n",
       "      <td>PB.B011</td>\n",
       "      <td>1.335314e+09</td>\n",
       "      <td>306049</td>\n",
       "      <td>P</td>\n",
       "      <td>0.632</td>\n",
       "      <td>21028</td>\n",
       "      <td>P</td>\n",
       "      <td>0.016</td>\n",
       "      <td>48.649544</td>\n",
       "      <td>-123.448189</td>\n",
       "      <td>...</td>\n",
       "      <td>4</td>\n",
       "      <td>0.028</td>\n",
       "      <td>4.0</td>\n",
       "      <td>180.411570</td>\n",
       "      <td>genie</td>\n",
       "      <td>PB</td>\n",
       "      <td>B011</td>\n",
       "      <td>ev1335313506_035775</td>\n",
       "      <td>2012-04-25 00:25:06.035774976</td>\n",
       "      <td>2012-04-25 00:25:09.418400000</td>\n",
       "    </tr>\n",
       "    <tr>\n",
       "      <th>201221</th>\n",
       "      <td>PB.B010</td>\n",
       "      <td>1.335314e+09</td>\n",
       "      <td>306050</td>\n",
       "      <td>P</td>\n",
       "      <td>0.632</td>\n",
       "      <td>21028</td>\n",
       "      <td>P</td>\n",
       "      <td>0.030</td>\n",
       "      <td>48.650169</td>\n",
       "      <td>-123.451332</td>\n",
       "      <td>...</td>\n",
       "      <td>4</td>\n",
       "      <td>0.028</td>\n",
       "      <td>4.0</td>\n",
       "      <td>180.411570</td>\n",
       "      <td>genie</td>\n",
       "      <td>PB</td>\n",
       "      <td>B010</td>\n",
       "      <td>ev1335313506_035775</td>\n",
       "      <td>2012-04-25 00:25:06.035774976</td>\n",
       "      <td>2012-04-25 00:25:09.418400000</td>\n",
       "    </tr>\n",
       "    <tr>\n",
       "      <th>201222</th>\n",
       "      <td>UW.MCW</td>\n",
       "      <td>1.335314e+09</td>\n",
       "      <td>306051</td>\n",
       "      <td>P</td>\n",
       "      <td>0.632</td>\n",
       "      <td>21028</td>\n",
       "      <td>P</td>\n",
       "      <td>-0.008</td>\n",
       "      <td>48.679000</td>\n",
       "      <td>-122.832600</td>\n",
       "      <td>...</td>\n",
       "      <td>4</td>\n",
       "      <td>0.028</td>\n",
       "      <td>4.0</td>\n",
       "      <td>180.411570</td>\n",
       "      <td>genie</td>\n",
       "      <td>UW</td>\n",
       "      <td>MCW</td>\n",
       "      <td>ev1335313506_035775</td>\n",
       "      <td>2012-04-25 00:25:06.035774976</td>\n",
       "      <td>2012-04-25 00:25:14.620000000</td>\n",
       "    </tr>\n",
       "    <tr>\n",
       "      <th>201223</th>\n",
       "      <td>PB.B926</td>\n",
       "      <td>1.335314e+09</td>\n",
       "      <td>306055</td>\n",
       "      <td>S</td>\n",
       "      <td>0.632</td>\n",
       "      <td>21028</td>\n",
       "      <td>S</td>\n",
       "      <td>-0.005</td>\n",
       "      <td>48.820202</td>\n",
       "      <td>-124.131203</td>\n",
       "      <td>...</td>\n",
       "      <td>4</td>\n",
       "      <td>0.028</td>\n",
       "      <td>4.0</td>\n",
       "      <td>180.411570</td>\n",
       "      <td>genie</td>\n",
       "      <td>PB</td>\n",
       "      <td>B926</td>\n",
       "      <td>ev1335313506_035775</td>\n",
       "      <td>2012-04-25 00:25:06.035774976</td>\n",
       "      <td>2012-04-25 00:25:19.628400128</td>\n",
       "    </tr>\n",
       "    <tr>\n",
       "      <th>201224</th>\n",
       "      <td>PB.B943</td>\n",
       "      <td>1.335317e+09</td>\n",
       "      <td>306056</td>\n",
       "      <td>P</td>\n",
       "      <td>0.738</td>\n",
       "      <td>21029</td>\n",
       "      <td>P</td>\n",
       "      <td>-0.051</td>\n",
       "      <td>47.813202</td>\n",
       "      <td>-122.911301</td>\n",
       "      <td>...</td>\n",
       "      <td>10</td>\n",
       "      <td>0.589</td>\n",
       "      <td>10.0</td>\n",
       "      <td>235.003155</td>\n",
       "      <td>genie</td>\n",
       "      <td>PB</td>\n",
       "      <td>B943</td>\n",
       "      <td>ev1335316832_772515</td>\n",
       "      <td>2012-04-25 01:20:32.772515072</td>\n",
       "      <td>2012-04-25 01:20:38.188400128</td>\n",
       "    </tr>\n",
       "    <tr>\n",
       "      <th>201225</th>\n",
       "      <td>PB.B013</td>\n",
       "      <td>1.335317e+09</td>\n",
       "      <td>306057</td>\n",
       "      <td>P</td>\n",
       "      <td>0.738</td>\n",
       "      <td>21029</td>\n",
       "      <td>P</td>\n",
       "      <td>-0.027</td>\n",
       "      <td>47.813000</td>\n",
       "      <td>-122.910797</td>\n",
       "      <td>...</td>\n",
       "      <td>10</td>\n",
       "      <td>0.589</td>\n",
       "      <td>10.0</td>\n",
       "      <td>235.003155</td>\n",
       "      <td>genie</td>\n",
       "      <td>PB</td>\n",
       "      <td>B013</td>\n",
       "      <td>ev1335316832_772515</td>\n",
       "      <td>2012-04-25 01:20:32.772515072</td>\n",
       "      <td>2012-04-25 01:20:38.208400128</td>\n",
       "    </tr>\n",
       "    <tr>\n",
       "      <th>201226</th>\n",
       "      <td>UW.BLN</td>\n",
       "      <td>1.335317e+09</td>\n",
       "      <td>306058</td>\n",
       "      <td>P</td>\n",
       "      <td>0.738</td>\n",
       "      <td>21029</td>\n",
       "      <td>P</td>\n",
       "      <td>-0.312</td>\n",
       "      <td>48.006624</td>\n",
       "      <td>-122.972646</td>\n",
       "      <td>...</td>\n",
       "      <td>10</td>\n",
       "      <td>0.589</td>\n",
       "      <td>10.0</td>\n",
       "      <td>235.003155</td>\n",
       "      <td>genie</td>\n",
       "      <td>UW</td>\n",
       "      <td>BLN</td>\n",
       "      <td>ev1335316832_772515</td>\n",
       "      <td>2012-04-25 01:20:32.772515072</td>\n",
       "      <td>2012-04-25 01:20:38.340000000</td>\n",
       "    </tr>\n",
       "    <tr>\n",
       "      <th>201227</th>\n",
       "      <td>UW.HDW</td>\n",
       "      <td>1.335317e+09</td>\n",
       "      <td>306059</td>\n",
       "      <td>P</td>\n",
       "      <td>0.738</td>\n",
       "      <td>21029</td>\n",
       "      <td>P</td>\n",
       "      <td>0.173</td>\n",
       "      <td>47.649030</td>\n",
       "      <td>-123.053500</td>\n",
       "      <td>...</td>\n",
       "      <td>10</td>\n",
       "      <td>0.589</td>\n",
       "      <td>10.0</td>\n",
       "      <td>235.003155</td>\n",
       "      <td>genie</td>\n",
       "      <td>UW</td>\n",
       "      <td>HDW</td>\n",
       "      <td>ev1335316832_772515</td>\n",
       "      <td>2012-04-25 01:20:32.772515072</td>\n",
       "      <td>2012-04-25 01:20:41.109999872</td>\n",
       "    </tr>\n",
       "    <tr>\n",
       "      <th>201228</th>\n",
       "      <td>TA.D03D</td>\n",
       "      <td>1.335317e+09</td>\n",
       "      <td>306060</td>\n",
       "      <td>P</td>\n",
       "      <td>0.738</td>\n",
       "      <td>21029</td>\n",
       "      <td>P</td>\n",
       "      <td>0.081</td>\n",
       "      <td>47.534698</td>\n",
       "      <td>-123.089401</td>\n",
       "      <td>...</td>\n",
       "      <td>10</td>\n",
       "      <td>0.589</td>\n",
       "      <td>10.0</td>\n",
       "      <td>235.003155</td>\n",
       "      <td>genie</td>\n",
       "      <td>TA</td>\n",
       "      <td>D03D</td>\n",
       "      <td>ev1335316832_772515</td>\n",
       "      <td>2012-04-25 01:20:32.772515072</td>\n",
       "      <td>2012-04-25 01:20:42.650000128</td>\n",
       "    </tr>\n",
       "    <tr>\n",
       "      <th>201229</th>\n",
       "      <td>UW.MCW</td>\n",
       "      <td>1.335317e+09</td>\n",
       "      <td>306061</td>\n",
       "      <td>P</td>\n",
       "      <td>0.738</td>\n",
       "      <td>21029</td>\n",
       "      <td>P</td>\n",
       "      <td>-0.046</td>\n",
       "      <td>48.679000</td>\n",
       "      <td>-122.832600</td>\n",
       "      <td>...</td>\n",
       "      <td>10</td>\n",
       "      <td>0.589</td>\n",
       "      <td>10.0</td>\n",
       "      <td>235.003155</td>\n",
       "      <td>genie</td>\n",
       "      <td>UW</td>\n",
       "      <td>MCW</td>\n",
       "      <td>ev1335316832_772515</td>\n",
       "      <td>2012-04-25 01:20:32.772515072</td>\n",
       "      <td>2012-04-25 01:20:46.840000000</td>\n",
       "    </tr>\n",
       "    <tr>\n",
       "      <th>201230</th>\n",
       "      <td>7D.FN07A</td>\n",
       "      <td>1.335317e+09</td>\n",
       "      <td>306062</td>\n",
       "      <td>P</td>\n",
       "      <td>0.738</td>\n",
       "      <td>21029</td>\n",
       "      <td>P</td>\n",
       "      <td>1.575</td>\n",
       "      <td>46.855499</td>\n",
       "      <td>-124.786499</td>\n",
       "      <td>...</td>\n",
       "      <td>10</td>\n",
       "      <td>0.589</td>\n",
       "      <td>10.0</td>\n",
       "      <td>235.003155</td>\n",
       "      <td>genie</td>\n",
       "      <td>7D</td>\n",
       "      <td>FN07A</td>\n",
       "      <td>ev1335316832_772515</td>\n",
       "      <td>2012-04-25 01:20:32.772515072</td>\n",
       "      <td>2012-04-25 01:21:03.750999808</td>\n",
       "    </tr>\n",
       "  </tbody>\n",
       "</table>\n",
       "<p>20 rows × 30 columns</p>\n",
       "</div>"
      ],
      "text/plain": [
       "             sta     pick_time    arid iphase   prob   orid phase  timeres  \\\n",
       "201211   PB.B003  1.335301e+09  306030      P  0.751  21027     P   -0.313   \n",
       "201212   PB.B001  1.335301e+09  306031      P  0.751  21027     P    0.177   \n",
       "201213    UW.MCW  1.335301e+09  306032      P  0.751  21027     P   -0.197   \n",
       "201214   PB.B004  1.335301e+09  306033      P  0.751  21027     P   -0.562   \n",
       "201215    UW.BLN  1.335301e+09  306034      P  0.751  21027     P   -0.262   \n",
       "201216    UW.HDW  1.335301e+09  306035      P  0.751  21027     P   -0.714   \n",
       "201217   7D.J73A  1.335301e+09  306036      P  0.751  21027     P    2.497   \n",
       "201218    UW.SHW  1.335301e+09  306037      P  0.751  21027     P   -0.187   \n",
       "201219   PB.B009  1.335314e+09  306048      P  0.632  21028     P   -0.036   \n",
       "201220   PB.B011  1.335314e+09  306049      P  0.632  21028     P    0.016   \n",
       "201221   PB.B010  1.335314e+09  306050      P  0.632  21028     P    0.030   \n",
       "201222    UW.MCW  1.335314e+09  306051      P  0.632  21028     P   -0.008   \n",
       "201223   PB.B926  1.335314e+09  306055      S  0.632  21028     S   -0.005   \n",
       "201224   PB.B943  1.335317e+09  306056      P  0.738  21029     P   -0.051   \n",
       "201225   PB.B013  1.335317e+09  306057      P  0.738  21029     P   -0.027   \n",
       "201226    UW.BLN  1.335317e+09  306058      P  0.738  21029     P   -0.312   \n",
       "201227    UW.HDW  1.335317e+09  306059      P  0.738  21029     P    0.173   \n",
       "201228   TA.D03D  1.335317e+09  306060      P  0.738  21029     P    0.081   \n",
       "201229    UW.MCW  1.335317e+09  306061      P  0.738  21029     P   -0.046   \n",
       "201230  7D.FN07A  1.335317e+09  306062      P  0.738  21029     P    1.575   \n",
       "\n",
       "        slatitude  slongitude  ...  s_picks    rms  nsphz         gap  \\\n",
       "201211  48.062359 -124.140862  ...       10  0.692   10.0  115.479275   \n",
       "201212  48.043072 -123.131409  ...       10  0.692   10.0  115.479275   \n",
       "201213  48.679000 -122.832600  ...       10  0.692   10.0  115.479275   \n",
       "201214  48.201923 -124.427010  ...       10  0.692   10.0  115.479275   \n",
       "201215  48.006624 -122.972646  ...       10  0.692   10.0  115.479275   \n",
       "201216  47.649030 -123.053500  ...       10  0.692   10.0  115.479275   \n",
       "201217  48.767700 -126.192497  ...       10  0.692   10.0  115.479275   \n",
       "201218  46.193640 -122.234920  ...       10  0.692   10.0  115.479275   \n",
       "201219  48.648670 -123.451172  ...        4  0.028    4.0  180.411570   \n",
       "201220  48.649544 -123.448189  ...        4  0.028    4.0  180.411570   \n",
       "201221  48.650169 -123.451332  ...        4  0.028    4.0  180.411570   \n",
       "201222  48.679000 -122.832600  ...        4  0.028    4.0  180.411570   \n",
       "201223  48.820202 -124.131203  ...        4  0.028    4.0  180.411570   \n",
       "201224  47.813202 -122.911301  ...       10  0.589   10.0  235.003155   \n",
       "201225  47.813000 -122.910797  ...       10  0.589   10.0  235.003155   \n",
       "201226  48.006624 -122.972646  ...       10  0.589   10.0  235.003155   \n",
       "201227  47.649030 -123.053500  ...       10  0.589   10.0  235.003155   \n",
       "201228  47.534698 -123.089401  ...       10  0.589   10.0  235.003155   \n",
       "201229  48.679000 -122.832600  ...       10  0.589   10.0  235.003155   \n",
       "201230  46.855499 -124.786499  ...       10  0.589   10.0  235.003155   \n",
       "\n",
       "        algorithm  network  station             event_id  \\\n",
       "201211      genie       PB     B003  ev1335300581_135882   \n",
       "201212      genie       PB     B001  ev1335300581_135882   \n",
       "201213      genie       UW      MCW  ev1335300581_135882   \n",
       "201214      genie       PB     B004  ev1335300581_135882   \n",
       "201215      genie       UW      BLN  ev1335300581_135882   \n",
       "201216      genie       UW      HDW  ev1335300581_135882   \n",
       "201217      genie       7D     J73A  ev1335300581_135882   \n",
       "201218      genie       UW      SHW  ev1335300581_135882   \n",
       "201219      genie       PB     B009  ev1335313506_035775   \n",
       "201220      genie       PB     B011  ev1335313506_035775   \n",
       "201221      genie       PB     B010  ev1335313506_035775   \n",
       "201222      genie       UW      MCW  ev1335313506_035775   \n",
       "201223      genie       PB     B926  ev1335313506_035775   \n",
       "201224      genie       PB     B943  ev1335316832_772515   \n",
       "201225      genie       PB     B013  ev1335316832_772515   \n",
       "201226      genie       UW      BLN  ev1335316832_772515   \n",
       "201227      genie       UW      HDW  ev1335316832_772515   \n",
       "201228      genie       TA     D03D  ev1335316832_772515   \n",
       "201229      genie       UW      MCW  ev1335316832_772515   \n",
       "201230      genie       7D    FN07A  ev1335316832_772515   \n",
       "\n",
       "                      otime_datetime            pick_time_datetime  \n",
       "201211 2012-04-24 20:49:41.135881984 2012-04-24 20:49:50.728399872  \n",
       "201212 2012-04-24 20:49:41.135881984 2012-04-24 20:49:50.878400000  \n",
       "201213 2012-04-24 20:49:41.135881984 2012-04-24 20:49:51.320000000  \n",
       "201214 2012-04-24 20:49:41.135881984 2012-04-24 20:49:51.788399872  \n",
       "201215 2012-04-24 20:49:41.135881984 2012-04-24 20:49:52.200000000  \n",
       "201216 2012-04-24 20:49:41.135881984 2012-04-24 20:49:56.740000000  \n",
       "201217 2012-04-24 20:49:41.135881984 2012-04-24 20:50:13.383399936  \n",
       "201218 2012-04-24 20:49:41.135881984 2012-04-24 20:50:21.660000000  \n",
       "201219 2012-04-25 00:25:06.035774976 2012-04-25 00:25:09.358400000  \n",
       "201220 2012-04-25 00:25:06.035774976 2012-04-25 00:25:09.418400000  \n",
       "201221 2012-04-25 00:25:06.035774976 2012-04-25 00:25:09.418400000  \n",
       "201222 2012-04-25 00:25:06.035774976 2012-04-25 00:25:14.620000000  \n",
       "201223 2012-04-25 00:25:06.035774976 2012-04-25 00:25:19.628400128  \n",
       "201224 2012-04-25 01:20:32.772515072 2012-04-25 01:20:38.188400128  \n",
       "201225 2012-04-25 01:20:32.772515072 2012-04-25 01:20:38.208400128  \n",
       "201226 2012-04-25 01:20:32.772515072 2012-04-25 01:20:38.340000000  \n",
       "201227 2012-04-25 01:20:32.772515072 2012-04-25 01:20:41.109999872  \n",
       "201228 2012-04-25 01:20:32.772515072 2012-04-25 01:20:42.650000128  \n",
       "201229 2012-04-25 01:20:32.772515072 2012-04-25 01:20:46.840000000  \n",
       "201230 2012-04-25 01:20:32.772515072 2012-04-25 01:21:03.750999808  \n",
       "\n",
       "[20 rows x 30 columns]"
      ]
     },
     "execution_count": 134,
     "metadata": {},
     "output_type": "execute_result"
    }
   ],
   "source": [
    "unique_n_s_otime.loc[(unique_n_s_otime['otime_datetime'] >= '2012-04-24')&(unique_n_s_otime['otime_datetime'] < '2012-04-27')][150:170]"
   ]
  },
  {
   "cell_type": "code",
   "execution_count": 137,
   "id": "4725a117",
   "metadata": {},
   "outputs": [
    {
     "data": {
      "text/html": [
       "<div>\n",
       "<style scoped>\n",
       "    .dataframe tbody tr th:only-of-type {\n",
       "        vertical-align: middle;\n",
       "    }\n",
       "\n",
       "    .dataframe tbody tr th {\n",
       "        vertical-align: top;\n",
       "    }\n",
       "\n",
       "    .dataframe thead th {\n",
       "        text-align: right;\n",
       "    }\n",
       "</style>\n",
       "<table border=\"1\" class=\"dataframe\">\n",
       "  <thead>\n",
       "    <tr style=\"text-align: right;\">\n",
       "      <th></th>\n",
       "      <th>sta</th>\n",
       "      <th>pick_time</th>\n",
       "      <th>arid</th>\n",
       "      <th>iphase</th>\n",
       "      <th>prob</th>\n",
       "      <th>orid</th>\n",
       "      <th>phase</th>\n",
       "      <th>timeres</th>\n",
       "      <th>slatitude</th>\n",
       "      <th>slongitude</th>\n",
       "      <th>...</th>\n",
       "      <th>s_picks</th>\n",
       "      <th>rms</th>\n",
       "      <th>nsphz</th>\n",
       "      <th>gap</th>\n",
       "      <th>algorithm</th>\n",
       "      <th>network</th>\n",
       "      <th>station</th>\n",
       "      <th>event_id</th>\n",
       "      <th>otime_datetime</th>\n",
       "      <th>pick_time_datetime</th>\n",
       "    </tr>\n",
       "  </thead>\n",
       "  <tbody>\n",
       "    <tr>\n",
       "      <th>201495</th>\n",
       "      <td>BK.JCC</td>\n",
       "      <td>1.335398e+09</td>\n",
       "      <td>306456</td>\n",
       "      <td>P</td>\n",
       "      <td>0.751</td>\n",
       "      <td>21055</td>\n",
       "      <td>P</td>\n",
       "      <td>-0.079</td>\n",
       "      <td>40.817451</td>\n",
       "      <td>-124.029549</td>\n",
       "      <td>...</td>\n",
       "      <td>6</td>\n",
       "      <td>0.673</td>\n",
       "      <td>6.0</td>\n",
       "      <td>192.986384</td>\n",
       "      <td>genie</td>\n",
       "      <td>BK</td>\n",
       "      <td>JCC</td>\n",
       "      <td>ev1335397811_898869</td>\n",
       "      <td>2012-04-25 23:50:11.898868992</td>\n",
       "      <td>2012-04-25 23:50:31.148392960</td>\n",
       "    </tr>\n",
       "    <tr>\n",
       "      <th>201496</th>\n",
       "      <td>PB.B933</td>\n",
       "      <td>1.335398e+09</td>\n",
       "      <td>306457</td>\n",
       "      <td>P</td>\n",
       "      <td>0.751</td>\n",
       "      <td>21055</td>\n",
       "      <td>P</td>\n",
       "      <td>0.287</td>\n",
       "      <td>40.060001</td>\n",
       "      <td>-123.969002</td>\n",
       "      <td>...</td>\n",
       "      <td>6</td>\n",
       "      <td>0.673</td>\n",
       "      <td>6.0</td>\n",
       "      <td>192.986384</td>\n",
       "      <td>genie</td>\n",
       "      <td>PB</td>\n",
       "      <td>B933</td>\n",
       "      <td>ev1335397811_898869</td>\n",
       "      <td>2012-04-25 23:50:11.898868992</td>\n",
       "      <td>2012-04-25 23:50:31.458400000</td>\n",
       "    </tr>\n",
       "    <tr>\n",
       "      <th>201497</th>\n",
       "      <td>PB.B935</td>\n",
       "      <td>1.335398e+09</td>\n",
       "      <td>306458</td>\n",
       "      <td>P</td>\n",
       "      <td>0.751</td>\n",
       "      <td>21055</td>\n",
       "      <td>P</td>\n",
       "      <td>0.531</td>\n",
       "      <td>40.478699</td>\n",
       "      <td>-123.573196</td>\n",
       "      <td>...</td>\n",
       "      <td>6</td>\n",
       "      <td>0.673</td>\n",
       "      <td>6.0</td>\n",
       "      <td>192.986384</td>\n",
       "      <td>genie</td>\n",
       "      <td>PB</td>\n",
       "      <td>B935</td>\n",
       "      <td>ev1335397811_898869</td>\n",
       "      <td>2012-04-25 23:50:11.898868992</td>\n",
       "      <td>2012-04-25 23:50:35.908400128</td>\n",
       "    </tr>\n",
       "    <tr>\n",
       "      <th>201498</th>\n",
       "      <td>NC.KMPB</td>\n",
       "      <td>1.335398e+09</td>\n",
       "      <td>306462</td>\n",
       "      <td>S</td>\n",
       "      <td>0.751</td>\n",
       "      <td>21055</td>\n",
       "      <td>S</td>\n",
       "      <td>0.974</td>\n",
       "      <td>40.417194</td>\n",
       "      <td>-124.120758</td>\n",
       "      <td>...</td>\n",
       "      <td>6</td>\n",
       "      <td>0.673</td>\n",
       "      <td>6.0</td>\n",
       "      <td>192.986384</td>\n",
       "      <td>genie</td>\n",
       "      <td>NC</td>\n",
       "      <td>KMPB</td>\n",
       "      <td>ev1335397811_898869</td>\n",
       "      <td>2012-04-25 23:50:11.898868992</td>\n",
       "      <td>2012-04-25 23:50:44.210000128</td>\n",
       "    </tr>\n",
       "    <tr>\n",
       "      <th>201499</th>\n",
       "      <td>CN.VGZ</td>\n",
       "      <td>1.335312e+09</td>\n",
       "      <td>306465</td>\n",
       "      <td>P</td>\n",
       "      <td>0.883</td>\n",
       "      <td>21056</td>\n",
       "      <td>P</td>\n",
       "      <td>0.009</td>\n",
       "      <td>48.413100</td>\n",
       "      <td>-123.325100</td>\n",
       "      <td>...</td>\n",
       "      <td>16</td>\n",
       "      <td>0.564</td>\n",
       "      <td>16.0</td>\n",
       "      <td>82.919992</td>\n",
       "      <td>genie</td>\n",
       "      <td>CN</td>\n",
       "      <td>VGZ</td>\n",
       "      <td>ev1335311998_908738</td>\n",
       "      <td>2012-04-24 23:59:58.908737792</td>\n",
       "      <td>2012-04-25 00:00:05.000000000</td>\n",
       "    </tr>\n",
       "    <tr>\n",
       "      <th>201500</th>\n",
       "      <td>PB.B005</td>\n",
       "      <td>1.335312e+09</td>\n",
       "      <td>306466</td>\n",
       "      <td>P</td>\n",
       "      <td>0.883</td>\n",
       "      <td>21056</td>\n",
       "      <td>P</td>\n",
       "      <td>-0.369</td>\n",
       "      <td>48.059547</td>\n",
       "      <td>-123.503281</td>\n",
       "      <td>...</td>\n",
       "      <td>16</td>\n",
       "      <td>0.564</td>\n",
       "      <td>16.0</td>\n",
       "      <td>82.919992</td>\n",
       "      <td>genie</td>\n",
       "      <td>PB</td>\n",
       "      <td>B005</td>\n",
       "      <td>ev1335311998_908738</td>\n",
       "      <td>2012-04-24 23:59:58.908737792</td>\n",
       "      <td>2012-04-25 00:00:05.348400128</td>\n",
       "    </tr>\n",
       "    <tr>\n",
       "      <th>201501</th>\n",
       "      <td>PB.B006</td>\n",
       "      <td>1.335312e+09</td>\n",
       "      <td>306467</td>\n",
       "      <td>P</td>\n",
       "      <td>0.883</td>\n",
       "      <td>21056</td>\n",
       "      <td>P</td>\n",
       "      <td>-0.361</td>\n",
       "      <td>48.058800</td>\n",
       "      <td>-123.500801</td>\n",
       "      <td>...</td>\n",
       "      <td>16</td>\n",
       "      <td>0.564</td>\n",
       "      <td>16.0</td>\n",
       "      <td>82.919992</td>\n",
       "      <td>genie</td>\n",
       "      <td>PB</td>\n",
       "      <td>B006</td>\n",
       "      <td>ev1335311998_908738</td>\n",
       "      <td>2012-04-24 23:59:58.908737792</td>\n",
       "      <td>2012-04-25 00:00:05.358400000</td>\n",
       "    </tr>\n",
       "    <tr>\n",
       "      <th>201502</th>\n",
       "      <td>PB.B007</td>\n",
       "      <td>1.335312e+09</td>\n",
       "      <td>306468</td>\n",
       "      <td>P</td>\n",
       "      <td>0.883</td>\n",
       "      <td>21056</td>\n",
       "      <td>P</td>\n",
       "      <td>-0.369</td>\n",
       "      <td>48.057575</td>\n",
       "      <td>-123.504112</td>\n",
       "      <td>...</td>\n",
       "      <td>16</td>\n",
       "      <td>0.564</td>\n",
       "      <td>16.0</td>\n",
       "      <td>82.919992</td>\n",
       "      <td>genie</td>\n",
       "      <td>PB</td>\n",
       "      <td>B007</td>\n",
       "      <td>ev1335311998_908738</td>\n",
       "      <td>2012-04-24 23:59:58.908737792</td>\n",
       "      <td>2012-04-25 00:00:05.368400128</td>\n",
       "    </tr>\n",
       "    <tr>\n",
       "      <th>201503</th>\n",
       "      <td>PB.B001</td>\n",
       "      <td>1.335312e+09</td>\n",
       "      <td>306469</td>\n",
       "      <td>P</td>\n",
       "      <td>0.883</td>\n",
       "      <td>21056</td>\n",
       "      <td>P</td>\n",
       "      <td>-0.289</td>\n",
       "      <td>48.043072</td>\n",
       "      <td>-123.131409</td>\n",
       "      <td>...</td>\n",
       "      <td>16</td>\n",
       "      <td>0.564</td>\n",
       "      <td>16.0</td>\n",
       "      <td>82.919992</td>\n",
       "      <td>genie</td>\n",
       "      <td>PB</td>\n",
       "      <td>B001</td>\n",
       "      <td>ev1335311998_908738</td>\n",
       "      <td>2012-04-24 23:59:58.908737792</td>\n",
       "      <td>2012-04-25 00:00:06.138400000</td>\n",
       "    </tr>\n",
       "    <tr>\n",
       "      <th>201504</th>\n",
       "      <td>UW.BLN</td>\n",
       "      <td>1.335312e+09</td>\n",
       "      <td>306470</td>\n",
       "      <td>P</td>\n",
       "      <td>0.883</td>\n",
       "      <td>21056</td>\n",
       "      <td>P</td>\n",
       "      <td>-0.675</td>\n",
       "      <td>48.006624</td>\n",
       "      <td>-122.972646</td>\n",
       "      <td>...</td>\n",
       "      <td>16</td>\n",
       "      <td>0.564</td>\n",
       "      <td>16.0</td>\n",
       "      <td>82.919992</td>\n",
       "      <td>genie</td>\n",
       "      <td>UW</td>\n",
       "      <td>BLN</td>\n",
       "      <td>ev1335311998_908738</td>\n",
       "      <td>2012-04-24 23:59:58.908737792</td>\n",
       "      <td>2012-04-25 00:00:06.990899968</td>\n",
       "    </tr>\n",
       "    <tr>\n",
       "      <th>201505</th>\n",
       "      <td>PB.B011</td>\n",
       "      <td>1.335312e+09</td>\n",
       "      <td>306471</td>\n",
       "      <td>P</td>\n",
       "      <td>0.883</td>\n",
       "      <td>21056</td>\n",
       "      <td>P</td>\n",
       "      <td>-0.176</td>\n",
       "      <td>48.649544</td>\n",
       "      <td>-123.448189</td>\n",
       "      <td>...</td>\n",
       "      <td>16</td>\n",
       "      <td>0.564</td>\n",
       "      <td>16.0</td>\n",
       "      <td>82.919992</td>\n",
       "      <td>genie</td>\n",
       "      <td>PB</td>\n",
       "      <td>B011</td>\n",
       "      <td>ev1335311998_908738</td>\n",
       "      <td>2012-04-24 23:59:58.908737792</td>\n",
       "      <td>2012-04-25 00:00:07.248399872</td>\n",
       "    </tr>\n",
       "    <tr>\n",
       "      <th>201506</th>\n",
       "      <td>UW.OSD</td>\n",
       "      <td>1.335312e+09</td>\n",
       "      <td>306472</td>\n",
       "      <td>P</td>\n",
       "      <td>0.883</td>\n",
       "      <td>21056</td>\n",
       "      <td>P</td>\n",
       "      <td>0.099</td>\n",
       "      <td>47.816420</td>\n",
       "      <td>-123.705680</td>\n",
       "      <td>...</td>\n",
       "      <td>16</td>\n",
       "      <td>0.564</td>\n",
       "      <td>16.0</td>\n",
       "      <td>82.919992</td>\n",
       "      <td>genie</td>\n",
       "      <td>UW</td>\n",
       "      <td>OSD</td>\n",
       "      <td>ev1335311998_908738</td>\n",
       "      <td>2012-04-24 23:59:58.908737792</td>\n",
       "      <td>2012-04-25 00:00:09.329900032</td>\n",
       "    </tr>\n",
       "    <tr>\n",
       "      <th>201507</th>\n",
       "      <td>PB.B943</td>\n",
       "      <td>1.335312e+09</td>\n",
       "      <td>306473</td>\n",
       "      <td>P</td>\n",
       "      <td>0.883</td>\n",
       "      <td>21056</td>\n",
       "      <td>P</td>\n",
       "      <td>-0.787</td>\n",
       "      <td>47.813202</td>\n",
       "      <td>-122.911301</td>\n",
       "      <td>...</td>\n",
       "      <td>16</td>\n",
       "      <td>0.564</td>\n",
       "      <td>16.0</td>\n",
       "      <td>82.919992</td>\n",
       "      <td>genie</td>\n",
       "      <td>PB</td>\n",
       "      <td>B943</td>\n",
       "      <td>ev1335311998_908738</td>\n",
       "      <td>2012-04-24 23:59:58.908737792</td>\n",
       "      <td>2012-04-25 00:00:09.348400128</td>\n",
       "    </tr>\n",
       "    <tr>\n",
       "      <th>201508</th>\n",
       "      <td>PB.B013</td>\n",
       "      <td>1.335312e+09</td>\n",
       "      <td>306474</td>\n",
       "      <td>P</td>\n",
       "      <td>0.883</td>\n",
       "      <td>21056</td>\n",
       "      <td>P</td>\n",
       "      <td>-0.732</td>\n",
       "      <td>47.813000</td>\n",
       "      <td>-122.910797</td>\n",
       "      <td>...</td>\n",
       "      <td>16</td>\n",
       "      <td>0.564</td>\n",
       "      <td>16.0</td>\n",
       "      <td>82.919992</td>\n",
       "      <td>genie</td>\n",
       "      <td>PB</td>\n",
       "      <td>B013</td>\n",
       "      <td>ev1335311998_908738</td>\n",
       "      <td>2012-04-24 23:59:58.908737792</td>\n",
       "      <td>2012-04-25 00:00:09.408400128</td>\n",
       "    </tr>\n",
       "    <tr>\n",
       "      <th>201509</th>\n",
       "      <td>CN.SNB</td>\n",
       "      <td>1.335312e+09</td>\n",
       "      <td>306475</td>\n",
       "      <td>P</td>\n",
       "      <td>0.883</td>\n",
       "      <td>21056</td>\n",
       "      <td>P</td>\n",
       "      <td>0.211</td>\n",
       "      <td>48.775100</td>\n",
       "      <td>-123.172300</td>\n",
       "      <td>...</td>\n",
       "      <td>16</td>\n",
       "      <td>0.564</td>\n",
       "      <td>16.0</td>\n",
       "      <td>82.919992</td>\n",
       "      <td>genie</td>\n",
       "      <td>CN</td>\n",
       "      <td>SNB</td>\n",
       "      <td>ev1335311998_908738</td>\n",
       "      <td>2012-04-24 23:59:58.908737792</td>\n",
       "      <td>2012-04-25 00:00:09.640000000</td>\n",
       "    </tr>\n",
       "    <tr>\n",
       "      <th>201510</th>\n",
       "      <td>UW.MCW</td>\n",
       "      <td>1.335312e+09</td>\n",
       "      <td>306476</td>\n",
       "      <td>P</td>\n",
       "      <td>0.883</td>\n",
       "      <td>21056</td>\n",
       "      <td>P</td>\n",
       "      <td>-0.206</td>\n",
       "      <td>48.679000</td>\n",
       "      <td>-122.832600</td>\n",
       "      <td>...</td>\n",
       "      <td>16</td>\n",
       "      <td>0.564</td>\n",
       "      <td>16.0</td>\n",
       "      <td>82.919992</td>\n",
       "      <td>genie</td>\n",
       "      <td>UW</td>\n",
       "      <td>MCW</td>\n",
       "      <td>ev1335311998_908738</td>\n",
       "      <td>2012-04-24 23:59:58.908737792</td>\n",
       "      <td>2012-04-25 00:00:09.660900096</td>\n",
       "    </tr>\n",
       "    <tr>\n",
       "      <th>201511</th>\n",
       "      <td>CN.PFB</td>\n",
       "      <td>1.335312e+09</td>\n",
       "      <td>306477</td>\n",
       "      <td>P</td>\n",
       "      <td>0.883</td>\n",
       "      <td>21056</td>\n",
       "      <td>P</td>\n",
       "      <td>-0.568</td>\n",
       "      <td>48.574700</td>\n",
       "      <td>-124.454100</td>\n",
       "      <td>...</td>\n",
       "      <td>16</td>\n",
       "      <td>0.564</td>\n",
       "      <td>16.0</td>\n",
       "      <td>82.919992</td>\n",
       "      <td>genie</td>\n",
       "      <td>CN</td>\n",
       "      <td>PFB</td>\n",
       "      <td>ev1335311998_908738</td>\n",
       "      <td>2012-04-24 23:59:58.908737792</td>\n",
       "      <td>2012-04-25 00:00:12.249999872</td>\n",
       "    </tr>\n",
       "    <tr>\n",
       "      <th>201512</th>\n",
       "      <td>PB.B014</td>\n",
       "      <td>1.335312e+09</td>\n",
       "      <td>306478</td>\n",
       "      <td>P</td>\n",
       "      <td>0.883</td>\n",
       "      <td>21056</td>\n",
       "      <td>P</td>\n",
       "      <td>-0.357</td>\n",
       "      <td>47.513302</td>\n",
       "      <td>-123.812500</td>\n",
       "      <td>...</td>\n",
       "      <td>16</td>\n",
       "      <td>0.564</td>\n",
       "      <td>16.0</td>\n",
       "      <td>82.919992</td>\n",
       "      <td>genie</td>\n",
       "      <td>PB</td>\n",
       "      <td>B014</td>\n",
       "      <td>ev1335311998_908738</td>\n",
       "      <td>2012-04-24 23:59:58.908737792</td>\n",
       "      <td>2012-04-25 00:00:13.348400128</td>\n",
       "    </tr>\n",
       "    <tr>\n",
       "      <th>201513</th>\n",
       "      <td>CN.VDB</td>\n",
       "      <td>1.335312e+09</td>\n",
       "      <td>306479</td>\n",
       "      <td>P</td>\n",
       "      <td>0.883</td>\n",
       "      <td>21056</td>\n",
       "      <td>P</td>\n",
       "      <td>-0.324</td>\n",
       "      <td>49.026100</td>\n",
       "      <td>-122.102800</td>\n",
       "      <td>...</td>\n",
       "      <td>16</td>\n",
       "      <td>0.564</td>\n",
       "      <td>16.0</td>\n",
       "      <td>82.919992</td>\n",
       "      <td>genie</td>\n",
       "      <td>CN</td>\n",
       "      <td>VDB</td>\n",
       "      <td>ev1335311998_908738</td>\n",
       "      <td>2012-04-24 23:59:58.908737792</td>\n",
       "      <td>2012-04-25 00:00:18.210000128</td>\n",
       "    </tr>\n",
       "    <tr>\n",
       "      <th>201514</th>\n",
       "      <td>CN.LZB</td>\n",
       "      <td>1.335312e+09</td>\n",
       "      <td>306486</td>\n",
       "      <td>S</td>\n",
       "      <td>0.883</td>\n",
       "      <td>21056</td>\n",
       "      <td>S</td>\n",
       "      <td>0.278</td>\n",
       "      <td>48.612200</td>\n",
       "      <td>-123.824000</td>\n",
       "      <td>...</td>\n",
       "      <td>16</td>\n",
       "      <td>0.564</td>\n",
       "      <td>16.0</td>\n",
       "      <td>82.919992</td>\n",
       "      <td>genie</td>\n",
       "      <td>CN</td>\n",
       "      <td>LZB</td>\n",
       "      <td>ev1335311998_908738</td>\n",
       "      <td>2012-04-24 23:59:58.908737792</td>\n",
       "      <td>2012-04-25 00:00:15.650000128</td>\n",
       "    </tr>\n",
       "    <tr>\n",
       "      <th>201515</th>\n",
       "      <td>PB.B926</td>\n",
       "      <td>1.335312e+09</td>\n",
       "      <td>306491</td>\n",
       "      <td>S</td>\n",
       "      <td>0.883</td>\n",
       "      <td>21056</td>\n",
       "      <td>S</td>\n",
       "      <td>-0.107</td>\n",
       "      <td>48.820202</td>\n",
       "      <td>-124.131203</td>\n",
       "      <td>...</td>\n",
       "      <td>16</td>\n",
       "      <td>0.564</td>\n",
       "      <td>16.0</td>\n",
       "      <td>82.919992</td>\n",
       "      <td>genie</td>\n",
       "      <td>PB</td>\n",
       "      <td>B926</td>\n",
       "      <td>ev1335311998_908738</td>\n",
       "      <td>2012-04-24 23:59:58.908737792</td>\n",
       "      <td>2012-04-25 00:00:22.148400128</td>\n",
       "    </tr>\n",
       "    <tr>\n",
       "      <th>201516</th>\n",
       "      <td>7D.FN08A</td>\n",
       "      <td>1.335312e+09</td>\n",
       "      <td>306494</td>\n",
       "      <td>S</td>\n",
       "      <td>0.883</td>\n",
       "      <td>21056</td>\n",
       "      <td>S</td>\n",
       "      <td>0.512</td>\n",
       "      <td>46.888802</td>\n",
       "      <td>-124.876900</td>\n",
       "      <td>...</td>\n",
       "      <td>16</td>\n",
       "      <td>0.564</td>\n",
       "      <td>16.0</td>\n",
       "      <td>82.919992</td>\n",
       "      <td>genie</td>\n",
       "      <td>7D</td>\n",
       "      <td>FN08A</td>\n",
       "      <td>ev1335311998_908738</td>\n",
       "      <td>2012-04-24 23:59:58.908737792</td>\n",
       "      <td>2012-04-25 00:00:46.700000000</td>\n",
       "    </tr>\n",
       "    <tr>\n",
       "      <th>201517</th>\n",
       "      <td>UW.BOW</td>\n",
       "      <td>1.335312e+09</td>\n",
       "      <td>306495</td>\n",
       "      <td>S</td>\n",
       "      <td>0.883</td>\n",
       "      <td>21056</td>\n",
       "      <td>S</td>\n",
       "      <td>1.766</td>\n",
       "      <td>46.474831</td>\n",
       "      <td>-123.229301</td>\n",
       "      <td>...</td>\n",
       "      <td>16</td>\n",
       "      <td>0.564</td>\n",
       "      <td>16.0</td>\n",
       "      <td>82.919992</td>\n",
       "      <td>genie</td>\n",
       "      <td>UW</td>\n",
       "      <td>BOW</td>\n",
       "      <td>ev1335311998_908738</td>\n",
       "      <td>2012-04-24 23:59:58.908737792</td>\n",
       "      <td>2012-04-25 00:00:52.000900096</td>\n",
       "    </tr>\n",
       "    <tr>\n",
       "      <th>201518</th>\n",
       "      <td>UW.CDF</td>\n",
       "      <td>1.335412e+09</td>\n",
       "      <td>306496</td>\n",
       "      <td>P</td>\n",
       "      <td>0.723</td>\n",
       "      <td>21057</td>\n",
       "      <td>P</td>\n",
       "      <td>0.084</td>\n",
       "      <td>46.117120</td>\n",
       "      <td>-122.046250</td>\n",
       "      <td>...</td>\n",
       "      <td>7</td>\n",
       "      <td>0.156</td>\n",
       "      <td>7.0</td>\n",
       "      <td>232.145357</td>\n",
       "      <td>genie</td>\n",
       "      <td>UW</td>\n",
       "      <td>CDF</td>\n",
       "      <td>ev1335412233_714798</td>\n",
       "      <td>2012-04-26 03:50:33.714798080</td>\n",
       "      <td>2012-04-26 03:50:36.610899968</td>\n",
       "    </tr>\n",
       "    <tr>\n",
       "      <th>201519</th>\n",
       "      <td>PB.B204</td>\n",
       "      <td>1.335412e+09</td>\n",
       "      <td>306497</td>\n",
       "      <td>P</td>\n",
       "      <td>0.723</td>\n",
       "      <td>21057</td>\n",
       "      <td>P</td>\n",
       "      <td>-0.109</td>\n",
       "      <td>46.136000</td>\n",
       "      <td>-122.169000</td>\n",
       "      <td>...</td>\n",
       "      <td>7</td>\n",
       "      <td>0.156</td>\n",
       "      <td>7.0</td>\n",
       "      <td>232.145357</td>\n",
       "      <td>genie</td>\n",
       "      <td>PB</td>\n",
       "      <td>B204</td>\n",
       "      <td>ev1335412233_714798</td>\n",
       "      <td>2012-04-26 03:50:33.714798080</td>\n",
       "      <td>2012-04-26 03:50:36.858400000</td>\n",
       "    </tr>\n",
       "  </tbody>\n",
       "</table>\n",
       "<p>25 rows × 30 columns</p>\n",
       "</div>"
      ],
      "text/plain": [
       "             sta     pick_time    arid iphase   prob   orid phase  timeres  \\\n",
       "201495    BK.JCC  1.335398e+09  306456      P  0.751  21055     P   -0.079   \n",
       "201496   PB.B933  1.335398e+09  306457      P  0.751  21055     P    0.287   \n",
       "201497   PB.B935  1.335398e+09  306458      P  0.751  21055     P    0.531   \n",
       "201498   NC.KMPB  1.335398e+09  306462      S  0.751  21055     S    0.974   \n",
       "201499    CN.VGZ  1.335312e+09  306465      P  0.883  21056     P    0.009   \n",
       "201500   PB.B005  1.335312e+09  306466      P  0.883  21056     P   -0.369   \n",
       "201501   PB.B006  1.335312e+09  306467      P  0.883  21056     P   -0.361   \n",
       "201502   PB.B007  1.335312e+09  306468      P  0.883  21056     P   -0.369   \n",
       "201503   PB.B001  1.335312e+09  306469      P  0.883  21056     P   -0.289   \n",
       "201504    UW.BLN  1.335312e+09  306470      P  0.883  21056     P   -0.675   \n",
       "201505   PB.B011  1.335312e+09  306471      P  0.883  21056     P   -0.176   \n",
       "201506    UW.OSD  1.335312e+09  306472      P  0.883  21056     P    0.099   \n",
       "201507   PB.B943  1.335312e+09  306473      P  0.883  21056     P   -0.787   \n",
       "201508   PB.B013  1.335312e+09  306474      P  0.883  21056     P   -0.732   \n",
       "201509    CN.SNB  1.335312e+09  306475      P  0.883  21056     P    0.211   \n",
       "201510    UW.MCW  1.335312e+09  306476      P  0.883  21056     P   -0.206   \n",
       "201511    CN.PFB  1.335312e+09  306477      P  0.883  21056     P   -0.568   \n",
       "201512   PB.B014  1.335312e+09  306478      P  0.883  21056     P   -0.357   \n",
       "201513    CN.VDB  1.335312e+09  306479      P  0.883  21056     P   -0.324   \n",
       "201514    CN.LZB  1.335312e+09  306486      S  0.883  21056     S    0.278   \n",
       "201515   PB.B926  1.335312e+09  306491      S  0.883  21056     S   -0.107   \n",
       "201516  7D.FN08A  1.335312e+09  306494      S  0.883  21056     S    0.512   \n",
       "201517    UW.BOW  1.335312e+09  306495      S  0.883  21056     S    1.766   \n",
       "201518    UW.CDF  1.335412e+09  306496      P  0.723  21057     P    0.084   \n",
       "201519   PB.B204  1.335412e+09  306497      P  0.723  21057     P   -0.109   \n",
       "\n",
       "        slatitude  slongitude  ...  s_picks    rms  nsphz         gap  \\\n",
       "201495  40.817451 -124.029549  ...        6  0.673    6.0  192.986384   \n",
       "201496  40.060001 -123.969002  ...        6  0.673    6.0  192.986384   \n",
       "201497  40.478699 -123.573196  ...        6  0.673    6.0  192.986384   \n",
       "201498  40.417194 -124.120758  ...        6  0.673    6.0  192.986384   \n",
       "201499  48.413100 -123.325100  ...       16  0.564   16.0   82.919992   \n",
       "201500  48.059547 -123.503281  ...       16  0.564   16.0   82.919992   \n",
       "201501  48.058800 -123.500801  ...       16  0.564   16.0   82.919992   \n",
       "201502  48.057575 -123.504112  ...       16  0.564   16.0   82.919992   \n",
       "201503  48.043072 -123.131409  ...       16  0.564   16.0   82.919992   \n",
       "201504  48.006624 -122.972646  ...       16  0.564   16.0   82.919992   \n",
       "201505  48.649544 -123.448189  ...       16  0.564   16.0   82.919992   \n",
       "201506  47.816420 -123.705680  ...       16  0.564   16.0   82.919992   \n",
       "201507  47.813202 -122.911301  ...       16  0.564   16.0   82.919992   \n",
       "201508  47.813000 -122.910797  ...       16  0.564   16.0   82.919992   \n",
       "201509  48.775100 -123.172300  ...       16  0.564   16.0   82.919992   \n",
       "201510  48.679000 -122.832600  ...       16  0.564   16.0   82.919992   \n",
       "201511  48.574700 -124.454100  ...       16  0.564   16.0   82.919992   \n",
       "201512  47.513302 -123.812500  ...       16  0.564   16.0   82.919992   \n",
       "201513  49.026100 -122.102800  ...       16  0.564   16.0   82.919992   \n",
       "201514  48.612200 -123.824000  ...       16  0.564   16.0   82.919992   \n",
       "201515  48.820202 -124.131203  ...       16  0.564   16.0   82.919992   \n",
       "201516  46.888802 -124.876900  ...       16  0.564   16.0   82.919992   \n",
       "201517  46.474831 -123.229301  ...       16  0.564   16.0   82.919992   \n",
       "201518  46.117120 -122.046250  ...        7  0.156    7.0  232.145357   \n",
       "201519  46.136000 -122.169000  ...        7  0.156    7.0  232.145357   \n",
       "\n",
       "        algorithm  network  station             event_id  \\\n",
       "201495      genie       BK      JCC  ev1335397811_898869   \n",
       "201496      genie       PB     B933  ev1335397811_898869   \n",
       "201497      genie       PB     B935  ev1335397811_898869   \n",
       "201498      genie       NC     KMPB  ev1335397811_898869   \n",
       "201499      genie       CN      VGZ  ev1335311998_908738   \n",
       "201500      genie       PB     B005  ev1335311998_908738   \n",
       "201501      genie       PB     B006  ev1335311998_908738   \n",
       "201502      genie       PB     B007  ev1335311998_908738   \n",
       "201503      genie       PB     B001  ev1335311998_908738   \n",
       "201504      genie       UW      BLN  ev1335311998_908738   \n",
       "201505      genie       PB     B011  ev1335311998_908738   \n",
       "201506      genie       UW      OSD  ev1335311998_908738   \n",
       "201507      genie       PB     B943  ev1335311998_908738   \n",
       "201508      genie       PB     B013  ev1335311998_908738   \n",
       "201509      genie       CN      SNB  ev1335311998_908738   \n",
       "201510      genie       UW      MCW  ev1335311998_908738   \n",
       "201511      genie       CN      PFB  ev1335311998_908738   \n",
       "201512      genie       PB     B014  ev1335311998_908738   \n",
       "201513      genie       CN      VDB  ev1335311998_908738   \n",
       "201514      genie       CN      LZB  ev1335311998_908738   \n",
       "201515      genie       PB     B926  ev1335311998_908738   \n",
       "201516      genie       7D    FN08A  ev1335311998_908738   \n",
       "201517      genie       UW      BOW  ev1335311998_908738   \n",
       "201518      genie       UW      CDF  ev1335412233_714798   \n",
       "201519      genie       PB     B204  ev1335412233_714798   \n",
       "\n",
       "                      otime_datetime            pick_time_datetime  \n",
       "201495 2012-04-25 23:50:11.898868992 2012-04-25 23:50:31.148392960  \n",
       "201496 2012-04-25 23:50:11.898868992 2012-04-25 23:50:31.458400000  \n",
       "201497 2012-04-25 23:50:11.898868992 2012-04-25 23:50:35.908400128  \n",
       "201498 2012-04-25 23:50:11.898868992 2012-04-25 23:50:44.210000128  \n",
       "201499 2012-04-24 23:59:58.908737792 2012-04-25 00:00:05.000000000  \n",
       "201500 2012-04-24 23:59:58.908737792 2012-04-25 00:00:05.348400128  \n",
       "201501 2012-04-24 23:59:58.908737792 2012-04-25 00:00:05.358400000  \n",
       "201502 2012-04-24 23:59:58.908737792 2012-04-25 00:00:05.368400128  \n",
       "201503 2012-04-24 23:59:58.908737792 2012-04-25 00:00:06.138400000  \n",
       "201504 2012-04-24 23:59:58.908737792 2012-04-25 00:00:06.990899968  \n",
       "201505 2012-04-24 23:59:58.908737792 2012-04-25 00:00:07.248399872  \n",
       "201506 2012-04-24 23:59:58.908737792 2012-04-25 00:00:09.329900032  \n",
       "201507 2012-04-24 23:59:58.908737792 2012-04-25 00:00:09.348400128  \n",
       "201508 2012-04-24 23:59:58.908737792 2012-04-25 00:00:09.408400128  \n",
       "201509 2012-04-24 23:59:58.908737792 2012-04-25 00:00:09.640000000  \n",
       "201510 2012-04-24 23:59:58.908737792 2012-04-25 00:00:09.660900096  \n",
       "201511 2012-04-24 23:59:58.908737792 2012-04-25 00:00:12.249999872  \n",
       "201512 2012-04-24 23:59:58.908737792 2012-04-25 00:00:13.348400128  \n",
       "201513 2012-04-24 23:59:58.908737792 2012-04-25 00:00:18.210000128  \n",
       "201514 2012-04-24 23:59:58.908737792 2012-04-25 00:00:15.650000128  \n",
       "201515 2012-04-24 23:59:58.908737792 2012-04-25 00:00:22.148400128  \n",
       "201516 2012-04-24 23:59:58.908737792 2012-04-25 00:00:46.700000000  \n",
       "201517 2012-04-24 23:59:58.908737792 2012-04-25 00:00:52.000900096  \n",
       "201518 2012-04-26 03:50:33.714798080 2012-04-26 03:50:36.610899968  \n",
       "201519 2012-04-26 03:50:33.714798080 2012-04-26 03:50:36.858400000  \n",
       "\n",
       "[25 rows x 30 columns]"
      ]
     },
     "execution_count": 137,
     "metadata": {},
     "output_type": "execute_result"
    }
   ],
   "source": [
    "unique_n_s_otime.iloc[201495:201520]"
   ]
  },
  {
   "cell_type": "code",
   "execution_count": 95,
   "id": "24e1a80f",
   "metadata": {},
   "outputs": [
    {
     "data": {
      "text/plain": [
       "pandas._libs.tslibs.timestamps.Timestamp"
      ]
     },
     "execution_count": 95,
     "metadata": {},
     "output_type": "execute_result"
    }
   ],
   "source": [
    "type(unique_n_s_otime['otime_datetime'].iloc[0])"
   ]
  },
  {
   "cell_type": "code",
   "execution_count": 20,
   "id": "914daefe",
   "metadata": {},
   "outputs": [
    {
     "data": {
      "text/plain": [
       "301534"
      ]
     },
     "execution_count": 20,
     "metadata": {},
     "output_type": "execute_result"
    }
   ],
   "source": [
    "total_length = 0\n",
    "for batch in batches_bulk_waveforms:\n",
    "    total_length += len(batch)\n",
    "\n",
    "total_length"
   ]
  },
  {
   "cell_type": "code",
   "execution_count": 21,
   "id": "3b75baa4",
   "metadata": {},
   "outputs": [
    {
     "data": {
      "text/plain": [
       "81"
      ]
     },
     "execution_count": 21,
     "metadata": {},
     "output_type": "execute_result"
    }
   ],
   "source": [
    "len(batches_bulk_waveforms)"
   ]
  },
  {
   "cell_type": "code",
   "execution_count": 22,
   "id": "2a56fb71",
   "metadata": {},
   "outputs": [
    {
     "data": {
      "text/plain": [
       "388954"
      ]
     },
     "execution_count": 22,
     "metadata": {},
     "output_type": "execute_result"
    }
   ],
   "source": [
    "count_HH_BH_pairs"
   ]
  },
  {
   "cell_type": "code",
   "execution_count": 23,
   "id": "82ab23b1",
   "metadata": {},
   "outputs": [
    {
     "data": {
      "text/plain": [
       "690488"
      ]
     },
     "execution_count": 23,
     "metadata": {},
     "output_type": "execute_result"
    }
   ],
   "source": [
    "total_length+count_HH_BH_pairs"
   ]
  },
  {
   "cell_type": "code",
   "execution_count": 24,
   "id": "9f42ec7a",
   "metadata": {},
   "outputs": [
    {
     "data": {
      "text/plain": [
       "690488"
      ]
     },
     "execution_count": 24,
     "metadata": {},
     "output_type": "execute_result"
    }
   ],
   "source": [
    "len(unique_n_s_otime)"
   ]
  },
  {
   "cell_type": "code",
   "execution_count": 172,
   "id": "d6c72e1c",
   "metadata": {},
   "outputs": [
    {
     "data": {
      "text/plain": [
       "[('TA',\n",
       "  'K02D',\n",
       "  '*',\n",
       "  'BH?',\n",
       "  2012-08-18T16:40:38.917900Z,\n",
       "  2012-08-18T16:43:08.917900Z),\n",
       " ('UW',\n",
       "  'JEDS',\n",
       "  '*',\n",
       "  'BH?',\n",
       "  2012-08-18T16:40:38.917900Z,\n",
       "  2012-08-18T16:43:08.917900Z),\n",
       " ('UW',\n",
       "  'RADR',\n",
       "  '*',\n",
       "  'BH?',\n",
       "  2012-08-18T16:59:12.137847Z,\n",
       "  2012-08-18T17:01:42.137847Z),\n",
       " ('TA',\n",
       "  'I03D',\n",
       "  '*',\n",
       "  'BH?',\n",
       "  2012-08-18T16:59:12.137847Z,\n",
       "  2012-08-18T17:01:42.137847Z),\n",
       " ('7D',\n",
       "  'M09B',\n",
       "  '*',\n",
       "  'HH?',\n",
       "  2012-08-18T16:59:12.137847Z,\n",
       "  2012-08-18T17:01:42.137847Z),\n",
       " ('UW',\n",
       "  'WISH',\n",
       "  '*',\n",
       "  'BH?',\n",
       "  2012-08-18T18:16:43.792100Z,\n",
       "  2012-08-18T18:19:13.792100Z),\n",
       " ('TA',\n",
       "  'D03D',\n",
       "  '*',\n",
       "  'BH?',\n",
       "  2012-08-18T18:16:43.792100Z,\n",
       "  2012-08-18T18:19:13.792100Z),\n",
       " ('TA',\n",
       "  'K02D',\n",
       "  '*',\n",
       "  'BH?',\n",
       "  2012-08-18T18:54:58.414744Z,\n",
       "  2012-08-18T18:57:28.414744Z),\n",
       " ('UO',\n",
       "  'DBO',\n",
       "  '*',\n",
       "  'BH?',\n",
       "  2012-08-18T18:54:58.414744Z,\n",
       "  2012-08-18T18:57:28.414744Z),\n",
       " ('TA',\n",
       "  'K02D',\n",
       "  '*',\n",
       "  'BH?',\n",
       "  2012-08-18T21:30:35.403768Z,\n",
       "  2012-08-18T21:33:05.403768Z),\n",
       " ('7D',\n",
       "  'M09B',\n",
       "  '*',\n",
       "  'HH?',\n",
       "  2012-08-18T21:30:35.403768Z,\n",
       "  2012-08-18T21:33:05.403768Z),\n",
       " ('TA',\n",
       "  'K02D',\n",
       "  '*',\n",
       "  'BH?',\n",
       "  2012-08-18T22:25:51.029033Z,\n",
       "  2012-08-18T22:28:21.029033Z),\n",
       " ('UW',\n",
       "  'RADR',\n",
       "  '*',\n",
       "  'BH?',\n",
       "  2012-08-19T01:29:31.705168Z,\n",
       "  2012-08-19T01:32:01.705168Z),\n",
       " ('UW',\n",
       "  'OFR',\n",
       "  '*',\n",
       "  'BH?',\n",
       "  2012-08-19T01:29:31.705168Z,\n",
       "  2012-08-19T01:32:01.705168Z),\n",
       " ('7D',\n",
       "  'J33B',\n",
       "  '*',\n",
       "  'HH?',\n",
       "  2012-08-19T01:29:31.705168Z,\n",
       "  2012-08-19T01:32:01.705168Z),\n",
       " ('CN',\n",
       "  'PGC',\n",
       "  '*',\n",
       "  'BH?',\n",
       "  2012-08-19T02:00:04.415350Z,\n",
       "  2012-08-19T02:02:34.415350Z),\n",
       " ('CN',\n",
       "  'LZB',\n",
       "  '*',\n",
       "  'BH?',\n",
       "  2012-08-19T02:00:04.415350Z,\n",
       "  2012-08-19T02:02:34.415350Z),\n",
       " ('CN',\n",
       "  'SHB',\n",
       "  '*',\n",
       "  'BH?',\n",
       "  2012-08-19T02:00:04.415350Z,\n",
       "  2012-08-19T02:02:34.415350Z),\n",
       " ('TA',\n",
       "  'L02D',\n",
       "  '*',\n",
       "  'HH?',\n",
       "  2012-08-19T02:42:41.651371Z,\n",
       "  2012-08-19T02:45:11.651371Z),\n",
       " ('TA',\n",
       "  'K02D',\n",
       "  '*',\n",
       "  'BH?',\n",
       "  2012-08-19T02:42:41.651371Z,\n",
       "  2012-08-19T02:45:11.651371Z),\n",
       " ('TA',\n",
       "  'J01D',\n",
       "  '*',\n",
       "  'BH?',\n",
       "  2012-08-19T02:42:41.651371Z,\n",
       "  2012-08-19T02:45:11.651371Z),\n",
       " ('7D',\n",
       "  'M09B',\n",
       "  '*',\n",
       "  'HH?',\n",
       "  2012-08-19T05:13:08.018359Z,\n",
       "  2012-08-19T05:15:38.018359Z),\n",
       " ('CN',\n",
       "  'SHB',\n",
       "  '*',\n",
       "  'BH?',\n",
       "  2012-08-19T05:13:08.018359Z,\n",
       "  2012-08-19T05:15:38.018359Z),\n",
       " ('CN',\n",
       "  'NLLB',\n",
       "  '*',\n",
       "  'BH?',\n",
       "  2012-08-19T05:13:08.018359Z,\n",
       "  2012-08-19T05:15:38.018359Z),\n",
       " ('CN',\n",
       "  'SNB',\n",
       "  '*',\n",
       "  'HH?',\n",
       "  2012-08-19T05:13:08.018359Z,\n",
       "  2012-08-19T05:15:38.018359Z),\n",
       " ('CN',\n",
       "  'LZB',\n",
       "  '*',\n",
       "  'BH?',\n",
       "  2012-08-19T05:13:08.018359Z,\n",
       "  2012-08-19T05:15:38.018359Z),\n",
       " ('CN',\n",
       "  'OZB',\n",
       "  '*',\n",
       "  'BH?',\n",
       "  2012-08-19T05:13:08.018359Z,\n",
       "  2012-08-19T05:15:38.018359Z),\n",
       " ('TA',\n",
       "  'L02D',\n",
       "  '*',\n",
       "  'HH?',\n",
       "  2012-08-19T05:46:21.222168Z,\n",
       "  2012-08-19T05:48:51.222168Z),\n",
       " ('TA',\n",
       "  'K02D',\n",
       "  '*',\n",
       "  'BH?',\n",
       "  2012-08-19T05:46:21.222168Z,\n",
       "  2012-08-19T05:48:51.222168Z),\n",
       " ('TA',\n",
       "  'J01D',\n",
       "  '*',\n",
       "  'BH?',\n",
       "  2012-08-19T05:46:21.222168Z,\n",
       "  2012-08-19T05:48:51.222168Z)]"
      ]
     },
     "execution_count": 172,
     "metadata": {},
     "output_type": "execute_result"
    }
   ],
   "source": [
    "frac = 0.40\n",
    "window = 30\n",
    "adjust  =-490\n",
    "batches_bulk_waveforms_chunks[3][int(len(batches_bulk_waveforms_chunks[3])*frac)+adjust:int(len(batches_bulk_waveforms_chunks[3])*frac)+window+adjust]"
   ]
  },
  {
   "cell_type": "code",
   "execution_count": 177,
   "id": "807c2942",
   "metadata": {},
   "outputs": [
    {
     "ename": "FileNotFoundError",
     "evalue": "[Errno 2] No such file or directory: '/wd1/hbito_data/data/datasets_all_regions/save_errors_on_the_fly_bulk.csv'",
     "output_type": "error",
     "traceback": [
      "\u001b[0;31m---------------------------------------------------------------------------\u001b[0m",
      "\u001b[0;31mFileNotFoundError\u001b[0m                         Traceback (most recent call last)",
      "Cell \u001b[0;32mIn[177], line 1\u001b[0m\n\u001b[0;32m----> 1\u001b[0m test \u001b[38;5;241m=\u001b[39m \u001b[43mpd\u001b[49m\u001b[38;5;241;43m.\u001b[39;49m\u001b[43mread_csv\u001b[49m\u001b[43m(\u001b[49m\u001b[38;5;124;43m'\u001b[39;49m\u001b[38;5;124;43m/wd1/hbito_data/data/datasets_all_regions/save_errors_on_the_fly_bulk.csv\u001b[39;49m\u001b[38;5;124;43m'\u001b[39;49m\u001b[43m,\u001b[49m\u001b[43m \u001b[49m\u001b[43mindex_col\u001b[49m\u001b[38;5;241;43m=\u001b[39;49m\u001b[38;5;241;43m0\u001b[39;49m\u001b[43m)\u001b[49m\n\u001b[1;32m      2\u001b[0m test\n",
      "File \u001b[0;32m/home/jupyter_share/miniconda3/envs/seismo/lib/python3.9/site-packages/pandas/util/_decorators.py:211\u001b[0m, in \u001b[0;36mdeprecate_kwarg.<locals>._deprecate_kwarg.<locals>.wrapper\u001b[0;34m(*args, **kwargs)\u001b[0m\n\u001b[1;32m    209\u001b[0m     \u001b[38;5;28;01melse\u001b[39;00m:\n\u001b[1;32m    210\u001b[0m         kwargs[new_arg_name] \u001b[38;5;241m=\u001b[39m new_arg_value\n\u001b[0;32m--> 211\u001b[0m \u001b[38;5;28;01mreturn\u001b[39;00m \u001b[43mfunc\u001b[49m\u001b[43m(\u001b[49m\u001b[38;5;241;43m*\u001b[39;49m\u001b[43margs\u001b[49m\u001b[43m,\u001b[49m\u001b[43m \u001b[49m\u001b[38;5;241;43m*\u001b[39;49m\u001b[38;5;241;43m*\u001b[39;49m\u001b[43mkwargs\u001b[49m\u001b[43m)\u001b[49m\n",
      "File \u001b[0;32m/home/jupyter_share/miniconda3/envs/seismo/lib/python3.9/site-packages/pandas/util/_decorators.py:331\u001b[0m, in \u001b[0;36mdeprecate_nonkeyword_arguments.<locals>.decorate.<locals>.wrapper\u001b[0;34m(*args, **kwargs)\u001b[0m\n\u001b[1;32m    325\u001b[0m \u001b[38;5;28;01mif\u001b[39;00m \u001b[38;5;28mlen\u001b[39m(args) \u001b[38;5;241m>\u001b[39m num_allow_args:\n\u001b[1;32m    326\u001b[0m     warnings\u001b[38;5;241m.\u001b[39mwarn(\n\u001b[1;32m    327\u001b[0m         msg\u001b[38;5;241m.\u001b[39mformat(arguments\u001b[38;5;241m=\u001b[39m_format_argument_list(allow_args)),\n\u001b[1;32m    328\u001b[0m         \u001b[38;5;167;01mFutureWarning\u001b[39;00m,\n\u001b[1;32m    329\u001b[0m         stacklevel\u001b[38;5;241m=\u001b[39mfind_stack_level(),\n\u001b[1;32m    330\u001b[0m     )\n\u001b[0;32m--> 331\u001b[0m \u001b[38;5;28;01mreturn\u001b[39;00m \u001b[43mfunc\u001b[49m\u001b[43m(\u001b[49m\u001b[38;5;241;43m*\u001b[39;49m\u001b[43margs\u001b[49m\u001b[43m,\u001b[49m\u001b[43m \u001b[49m\u001b[38;5;241;43m*\u001b[39;49m\u001b[38;5;241;43m*\u001b[39;49m\u001b[43mkwargs\u001b[49m\u001b[43m)\u001b[49m\n",
      "File \u001b[0;32m/home/jupyter_share/miniconda3/envs/seismo/lib/python3.9/site-packages/pandas/io/parsers/readers.py:950\u001b[0m, in \u001b[0;36mread_csv\u001b[0;34m(filepath_or_buffer, sep, delimiter, header, names, index_col, usecols, squeeze, prefix, mangle_dupe_cols, dtype, engine, converters, true_values, false_values, skipinitialspace, skiprows, skipfooter, nrows, na_values, keep_default_na, na_filter, verbose, skip_blank_lines, parse_dates, infer_datetime_format, keep_date_col, date_parser, dayfirst, cache_dates, iterator, chunksize, compression, thousands, decimal, lineterminator, quotechar, quoting, doublequote, escapechar, comment, encoding, encoding_errors, dialect, error_bad_lines, warn_bad_lines, on_bad_lines, delim_whitespace, low_memory, memory_map, float_precision, storage_options)\u001b[0m\n\u001b[1;32m    935\u001b[0m kwds_defaults \u001b[38;5;241m=\u001b[39m _refine_defaults_read(\n\u001b[1;32m    936\u001b[0m     dialect,\n\u001b[1;32m    937\u001b[0m     delimiter,\n\u001b[0;32m   (...)\u001b[0m\n\u001b[1;32m    946\u001b[0m     defaults\u001b[38;5;241m=\u001b[39m{\u001b[38;5;124m\"\u001b[39m\u001b[38;5;124mdelimiter\u001b[39m\u001b[38;5;124m\"\u001b[39m: \u001b[38;5;124m\"\u001b[39m\u001b[38;5;124m,\u001b[39m\u001b[38;5;124m\"\u001b[39m},\n\u001b[1;32m    947\u001b[0m )\n\u001b[1;32m    948\u001b[0m kwds\u001b[38;5;241m.\u001b[39mupdate(kwds_defaults)\n\u001b[0;32m--> 950\u001b[0m \u001b[38;5;28;01mreturn\u001b[39;00m \u001b[43m_read\u001b[49m\u001b[43m(\u001b[49m\u001b[43mfilepath_or_buffer\u001b[49m\u001b[43m,\u001b[49m\u001b[43m \u001b[49m\u001b[43mkwds\u001b[49m\u001b[43m)\u001b[49m\n",
      "File \u001b[0;32m/home/jupyter_share/miniconda3/envs/seismo/lib/python3.9/site-packages/pandas/io/parsers/readers.py:605\u001b[0m, in \u001b[0;36m_read\u001b[0;34m(filepath_or_buffer, kwds)\u001b[0m\n\u001b[1;32m    602\u001b[0m _validate_names(kwds\u001b[38;5;241m.\u001b[39mget(\u001b[38;5;124m\"\u001b[39m\u001b[38;5;124mnames\u001b[39m\u001b[38;5;124m\"\u001b[39m, \u001b[38;5;28;01mNone\u001b[39;00m))\n\u001b[1;32m    604\u001b[0m \u001b[38;5;66;03m# Create the parser.\u001b[39;00m\n\u001b[0;32m--> 605\u001b[0m parser \u001b[38;5;241m=\u001b[39m \u001b[43mTextFileReader\u001b[49m\u001b[43m(\u001b[49m\u001b[43mfilepath_or_buffer\u001b[49m\u001b[43m,\u001b[49m\u001b[43m \u001b[49m\u001b[38;5;241;43m*\u001b[39;49m\u001b[38;5;241;43m*\u001b[39;49m\u001b[43mkwds\u001b[49m\u001b[43m)\u001b[49m\n\u001b[1;32m    607\u001b[0m \u001b[38;5;28;01mif\u001b[39;00m chunksize \u001b[38;5;129;01mor\u001b[39;00m iterator:\n\u001b[1;32m    608\u001b[0m     \u001b[38;5;28;01mreturn\u001b[39;00m parser\n",
      "File \u001b[0;32m/home/jupyter_share/miniconda3/envs/seismo/lib/python3.9/site-packages/pandas/io/parsers/readers.py:1442\u001b[0m, in \u001b[0;36mTextFileReader.__init__\u001b[0;34m(self, f, engine, **kwds)\u001b[0m\n\u001b[1;32m   1439\u001b[0m     \u001b[38;5;28mself\u001b[39m\u001b[38;5;241m.\u001b[39moptions[\u001b[38;5;124m\"\u001b[39m\u001b[38;5;124mhas_index_names\u001b[39m\u001b[38;5;124m\"\u001b[39m] \u001b[38;5;241m=\u001b[39m kwds[\u001b[38;5;124m\"\u001b[39m\u001b[38;5;124mhas_index_names\u001b[39m\u001b[38;5;124m\"\u001b[39m]\n\u001b[1;32m   1441\u001b[0m \u001b[38;5;28mself\u001b[39m\u001b[38;5;241m.\u001b[39mhandles: IOHandles \u001b[38;5;241m|\u001b[39m \u001b[38;5;28;01mNone\u001b[39;00m \u001b[38;5;241m=\u001b[39m \u001b[38;5;28;01mNone\u001b[39;00m\n\u001b[0;32m-> 1442\u001b[0m \u001b[38;5;28mself\u001b[39m\u001b[38;5;241m.\u001b[39m_engine \u001b[38;5;241m=\u001b[39m \u001b[38;5;28;43mself\u001b[39;49m\u001b[38;5;241;43m.\u001b[39;49m\u001b[43m_make_engine\u001b[49m\u001b[43m(\u001b[49m\u001b[43mf\u001b[49m\u001b[43m,\u001b[49m\u001b[43m \u001b[49m\u001b[38;5;28;43mself\u001b[39;49m\u001b[38;5;241;43m.\u001b[39;49m\u001b[43mengine\u001b[49m\u001b[43m)\u001b[49m\n",
      "File \u001b[0;32m/home/jupyter_share/miniconda3/envs/seismo/lib/python3.9/site-packages/pandas/io/parsers/readers.py:1735\u001b[0m, in \u001b[0;36mTextFileReader._make_engine\u001b[0;34m(self, f, engine)\u001b[0m\n\u001b[1;32m   1733\u001b[0m     \u001b[38;5;28;01mif\u001b[39;00m \u001b[38;5;124m\"\u001b[39m\u001b[38;5;124mb\u001b[39m\u001b[38;5;124m\"\u001b[39m \u001b[38;5;129;01mnot\u001b[39;00m \u001b[38;5;129;01min\u001b[39;00m mode:\n\u001b[1;32m   1734\u001b[0m         mode \u001b[38;5;241m+\u001b[39m\u001b[38;5;241m=\u001b[39m \u001b[38;5;124m\"\u001b[39m\u001b[38;5;124mb\u001b[39m\u001b[38;5;124m\"\u001b[39m\n\u001b[0;32m-> 1735\u001b[0m \u001b[38;5;28mself\u001b[39m\u001b[38;5;241m.\u001b[39mhandles \u001b[38;5;241m=\u001b[39m \u001b[43mget_handle\u001b[49m\u001b[43m(\u001b[49m\n\u001b[1;32m   1736\u001b[0m \u001b[43m    \u001b[49m\u001b[43mf\u001b[49m\u001b[43m,\u001b[49m\n\u001b[1;32m   1737\u001b[0m \u001b[43m    \u001b[49m\u001b[43mmode\u001b[49m\u001b[43m,\u001b[49m\n\u001b[1;32m   1738\u001b[0m \u001b[43m    \u001b[49m\u001b[43mencoding\u001b[49m\u001b[38;5;241;43m=\u001b[39;49m\u001b[38;5;28;43mself\u001b[39;49m\u001b[38;5;241;43m.\u001b[39;49m\u001b[43moptions\u001b[49m\u001b[38;5;241;43m.\u001b[39;49m\u001b[43mget\u001b[49m\u001b[43m(\u001b[49m\u001b[38;5;124;43m\"\u001b[39;49m\u001b[38;5;124;43mencoding\u001b[39;49m\u001b[38;5;124;43m\"\u001b[39;49m\u001b[43m,\u001b[49m\u001b[43m \u001b[49m\u001b[38;5;28;43;01mNone\u001b[39;49;00m\u001b[43m)\u001b[49m\u001b[43m,\u001b[49m\n\u001b[1;32m   1739\u001b[0m \u001b[43m    \u001b[49m\u001b[43mcompression\u001b[49m\u001b[38;5;241;43m=\u001b[39;49m\u001b[38;5;28;43mself\u001b[39;49m\u001b[38;5;241;43m.\u001b[39;49m\u001b[43moptions\u001b[49m\u001b[38;5;241;43m.\u001b[39;49m\u001b[43mget\u001b[49m\u001b[43m(\u001b[49m\u001b[38;5;124;43m\"\u001b[39;49m\u001b[38;5;124;43mcompression\u001b[39;49m\u001b[38;5;124;43m\"\u001b[39;49m\u001b[43m,\u001b[49m\u001b[43m \u001b[49m\u001b[38;5;28;43;01mNone\u001b[39;49;00m\u001b[43m)\u001b[49m\u001b[43m,\u001b[49m\n\u001b[1;32m   1740\u001b[0m \u001b[43m    \u001b[49m\u001b[43mmemory_map\u001b[49m\u001b[38;5;241;43m=\u001b[39;49m\u001b[38;5;28;43mself\u001b[39;49m\u001b[38;5;241;43m.\u001b[39;49m\u001b[43moptions\u001b[49m\u001b[38;5;241;43m.\u001b[39;49m\u001b[43mget\u001b[49m\u001b[43m(\u001b[49m\u001b[38;5;124;43m\"\u001b[39;49m\u001b[38;5;124;43mmemory_map\u001b[39;49m\u001b[38;5;124;43m\"\u001b[39;49m\u001b[43m,\u001b[49m\u001b[43m \u001b[49m\u001b[38;5;28;43;01mFalse\u001b[39;49;00m\u001b[43m)\u001b[49m\u001b[43m,\u001b[49m\n\u001b[1;32m   1741\u001b[0m \u001b[43m    \u001b[49m\u001b[43mis_text\u001b[49m\u001b[38;5;241;43m=\u001b[39;49m\u001b[43mis_text\u001b[49m\u001b[43m,\u001b[49m\n\u001b[1;32m   1742\u001b[0m \u001b[43m    \u001b[49m\u001b[43merrors\u001b[49m\u001b[38;5;241;43m=\u001b[39;49m\u001b[38;5;28;43mself\u001b[39;49m\u001b[38;5;241;43m.\u001b[39;49m\u001b[43moptions\u001b[49m\u001b[38;5;241;43m.\u001b[39;49m\u001b[43mget\u001b[49m\u001b[43m(\u001b[49m\u001b[38;5;124;43m\"\u001b[39;49m\u001b[38;5;124;43mencoding_errors\u001b[39;49m\u001b[38;5;124;43m\"\u001b[39;49m\u001b[43m,\u001b[49m\u001b[43m \u001b[49m\u001b[38;5;124;43m\"\u001b[39;49m\u001b[38;5;124;43mstrict\u001b[39;49m\u001b[38;5;124;43m\"\u001b[39;49m\u001b[43m)\u001b[49m\u001b[43m,\u001b[49m\n\u001b[1;32m   1743\u001b[0m \u001b[43m    \u001b[49m\u001b[43mstorage_options\u001b[49m\u001b[38;5;241;43m=\u001b[39;49m\u001b[38;5;28;43mself\u001b[39;49m\u001b[38;5;241;43m.\u001b[39;49m\u001b[43moptions\u001b[49m\u001b[38;5;241;43m.\u001b[39;49m\u001b[43mget\u001b[49m\u001b[43m(\u001b[49m\u001b[38;5;124;43m\"\u001b[39;49m\u001b[38;5;124;43mstorage_options\u001b[39;49m\u001b[38;5;124;43m\"\u001b[39;49m\u001b[43m,\u001b[49m\u001b[43m \u001b[49m\u001b[38;5;28;43;01mNone\u001b[39;49;00m\u001b[43m)\u001b[49m\u001b[43m,\u001b[49m\n\u001b[1;32m   1744\u001b[0m \u001b[43m\u001b[49m\u001b[43m)\u001b[49m\n\u001b[1;32m   1745\u001b[0m \u001b[38;5;28;01massert\u001b[39;00m \u001b[38;5;28mself\u001b[39m\u001b[38;5;241m.\u001b[39mhandles \u001b[38;5;129;01mis\u001b[39;00m \u001b[38;5;129;01mnot\u001b[39;00m \u001b[38;5;28;01mNone\u001b[39;00m\n\u001b[1;32m   1746\u001b[0m f \u001b[38;5;241m=\u001b[39m \u001b[38;5;28mself\u001b[39m\u001b[38;5;241m.\u001b[39mhandles\u001b[38;5;241m.\u001b[39mhandle\n",
      "File \u001b[0;32m/home/jupyter_share/miniconda3/envs/seismo/lib/python3.9/site-packages/pandas/io/common.py:856\u001b[0m, in \u001b[0;36mget_handle\u001b[0;34m(path_or_buf, mode, encoding, compression, memory_map, is_text, errors, storage_options)\u001b[0m\n\u001b[1;32m    851\u001b[0m \u001b[38;5;28;01melif\u001b[39;00m \u001b[38;5;28misinstance\u001b[39m(handle, \u001b[38;5;28mstr\u001b[39m):\n\u001b[1;32m    852\u001b[0m     \u001b[38;5;66;03m# Check whether the filename is to be opened in binary mode.\u001b[39;00m\n\u001b[1;32m    853\u001b[0m     \u001b[38;5;66;03m# Binary mode does not support 'encoding' and 'newline'.\u001b[39;00m\n\u001b[1;32m    854\u001b[0m     \u001b[38;5;28;01mif\u001b[39;00m ioargs\u001b[38;5;241m.\u001b[39mencoding \u001b[38;5;129;01mand\u001b[39;00m \u001b[38;5;124m\"\u001b[39m\u001b[38;5;124mb\u001b[39m\u001b[38;5;124m\"\u001b[39m \u001b[38;5;129;01mnot\u001b[39;00m \u001b[38;5;129;01min\u001b[39;00m ioargs\u001b[38;5;241m.\u001b[39mmode:\n\u001b[1;32m    855\u001b[0m         \u001b[38;5;66;03m# Encoding\u001b[39;00m\n\u001b[0;32m--> 856\u001b[0m         handle \u001b[38;5;241m=\u001b[39m \u001b[38;5;28;43mopen\u001b[39;49m\u001b[43m(\u001b[49m\n\u001b[1;32m    857\u001b[0m \u001b[43m            \u001b[49m\u001b[43mhandle\u001b[49m\u001b[43m,\u001b[49m\n\u001b[1;32m    858\u001b[0m \u001b[43m            \u001b[49m\u001b[43mioargs\u001b[49m\u001b[38;5;241;43m.\u001b[39;49m\u001b[43mmode\u001b[49m\u001b[43m,\u001b[49m\n\u001b[1;32m    859\u001b[0m \u001b[43m            \u001b[49m\u001b[43mencoding\u001b[49m\u001b[38;5;241;43m=\u001b[39;49m\u001b[43mioargs\u001b[49m\u001b[38;5;241;43m.\u001b[39;49m\u001b[43mencoding\u001b[49m\u001b[43m,\u001b[49m\n\u001b[1;32m    860\u001b[0m \u001b[43m            \u001b[49m\u001b[43merrors\u001b[49m\u001b[38;5;241;43m=\u001b[39;49m\u001b[43merrors\u001b[49m\u001b[43m,\u001b[49m\n\u001b[1;32m    861\u001b[0m \u001b[43m            \u001b[49m\u001b[43mnewline\u001b[49m\u001b[38;5;241;43m=\u001b[39;49m\u001b[38;5;124;43m\"\u001b[39;49m\u001b[38;5;124;43m\"\u001b[39;49m\u001b[43m,\u001b[49m\n\u001b[1;32m    862\u001b[0m \u001b[43m        \u001b[49m\u001b[43m)\u001b[49m\n\u001b[1;32m    863\u001b[0m     \u001b[38;5;28;01melse\u001b[39;00m:\n\u001b[1;32m    864\u001b[0m         \u001b[38;5;66;03m# Binary mode\u001b[39;00m\n\u001b[1;32m    865\u001b[0m         handle \u001b[38;5;241m=\u001b[39m \u001b[38;5;28mopen\u001b[39m(handle, ioargs\u001b[38;5;241m.\u001b[39mmode)\n",
      "\u001b[0;31mFileNotFoundError\u001b[0m: [Errno 2] No such file or directory: '/wd1/hbito_data/data/datasets_all_regions/save_errors_on_the_fly_bulk.csv'"
     ]
    }
   ],
   "source": [
    "test = pd.read_csv('/wd1/hbito_data/data/datasets_all_regions/save_errors_on_the_fly_bulk.csv', index_col=0)\n",
    "test"
   ]
  },
  {
   "cell_type": "code",
   "execution_count": null,
   "id": "82de867a",
   "metadata": {},
   "outputs": [],
   "source": []
  }
 ],
 "metadata": {
  "kernelspec": {
   "display_name": "seismo (SHARED)",
   "language": "python",
   "name": "seismo"
  },
  "language_info": {
   "codemirror_mode": {
    "name": "ipython",
    "version": 3
   },
   "file_extension": ".py",
   "mimetype": "text/x-python",
   "name": "python",
   "nbconvert_exporter": "python",
   "pygments_lexer": "ipython3",
   "version": "3.10.14"
  }
 },
 "nbformat": 4,
 "nbformat_minor": 5
}
