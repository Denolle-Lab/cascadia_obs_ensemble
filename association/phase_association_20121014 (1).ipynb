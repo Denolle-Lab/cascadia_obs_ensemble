{
 "cells": [
  {
   "cell_type": "markdown",
   "id": "192aef88",
   "metadata": {},
   "source": [
    "## Try phase association for stations on 10/14/2012\n",
    "Refernce: https://github.com/yetinam/pyocto"
   ]
  },
  {
   "cell_type": "code",
   "execution_count": 4,
   "id": "45e0b4d8",
   "metadata": {},
   "outputs": [
    {
     "name": "stdout",
     "output_type": "stream",
     "text": [
      "Collecting pyocto\n",
      "\u001b[31m  Could not find a version that satisfies the requirement pyocto (from versions: )\u001b[0m\n",
      "\u001b[31mNo matching distribution found for pyocto\u001b[0m\n"
     ]
    }
   ],
   "source": [
    "# !pip3 install numpy\n",
    "!pip3 install pyocto"
   ]
  },
  {
   "cell_type": "code",
   "execution_count": 3,
   "id": "91c28442",
   "metadata": {},
   "outputs": [
    {
     "ename": "ModuleNotFoundError",
     "evalue": "No module named 'pyocto'",
     "output_type": "error",
     "traceback": [
      "\u001b[0;31m---------------------------------------------------------------------------\u001b[0m",
      "\u001b[0;31mModuleNotFoundError\u001b[0m                       Traceback (most recent call last)",
      "Input \u001b[0;32mIn [3]\u001b[0m, in \u001b[0;36m<module>\u001b[0;34m\u001b[0m\n\u001b[0;32m----> 1\u001b[0m \u001b[38;5;28;01mimport\u001b[39;00m \u001b[38;5;21;01mpyocto\u001b[39;00m\n\u001b[1;32m      2\u001b[0m \u001b[38;5;28;01mimport\u001b[39;00m \u001b[38;5;21;01mpandas\u001b[39;00m \u001b[38;5;28;01mas\u001b[39;00m \u001b[38;5;21;01mpd\u001b[39;00m\n\u001b[1;32m      3\u001b[0m \u001b[38;5;28;01mimport\u001b[39;00m \u001b[38;5;21;01mdatetime\u001b[39;00m\n",
      "\u001b[0;31mModuleNotFoundError\u001b[0m: No module named 'pyocto'"
     ]
    }
   ],
   "source": [
    "import pyocto\n",
    "import pandas as pd\n",
    "import datetime\n",
    "import matplotlib.pyplot as plt\n",
    "from collections import Counter\n",
    "import numpy as np\n",
    "from scipy import signal\n",
    "from obspy.signal.trigger import classic_sta_lta\n",
    "\n",
    "from obspy.clients.fdsn import Client\n",
    "from obspy.core.utcdatetime import UTCDateTime\n",
    "from pnwstore.mseed import WaveformClient\n"
   ]
  },
  {
   "cell_type": "code",
   "execution_count": 105,
   "id": "6e59a463",
   "metadata": {},
   "outputs": [],
   "source": [
    "# Import the velocity model from https://colab.research.google.com/github/yetinam/pyocto/blob/main/examples/02_velocity_models.ipynb#scrollTo=1c52ed9e-d9c1-4fa6-a549-de702bc9d439\n",
    "# !wget https://github.com/yetinam/pyocto/raw/main/tests/data/graeber.csv"
   ]
  },
  {
   "cell_type": "markdown",
   "id": "d79f475f",
   "metadata": {},
   "source": [
    "## Input Data"
   ]
  },
  {
   "cell_type": "code",
   "execution_count": 4,
   "id": "dc050e11",
   "metadata": {},
   "outputs": [],
   "source": [
    "picks = pd.read_csv(\"~/notebooks/data/phase_association/20121014/picks_20121014.csv\",index_col=0)\n",
    "stations = pd.read_csv(\"~/notebooks/data/phase_association/20121014/stations_20121014.csv\",index_col=0)"
   ]
  },
  {
   "cell_type": "code",
   "execution_count": 5,
   "id": "84f25f5c",
   "metadata": {},
   "outputs": [
    {
     "data": {
      "text/html": [
       "<div>\n",
       "<style scoped>\n",
       "    .dataframe tbody tr th:only-of-type {\n",
       "        vertical-align: middle;\n",
       "    }\n",
       "\n",
       "    .dataframe tbody tr th {\n",
       "        vertical-align: top;\n",
       "    }\n",
       "\n",
       "    .dataframe thead th {\n",
       "        text-align: right;\n",
       "    }\n",
       "</style>\n",
       "<table border=\"1\" class=\"dataframe\">\n",
       "  <thead>\n",
       "    <tr style=\"text-align: right;\">\n",
       "      <th></th>\n",
       "      <th>station</th>\n",
       "      <th>phase</th>\n",
       "      <th>time</th>\n",
       "    </tr>\n",
       "  </thead>\n",
       "  <tbody>\n",
       "    <tr>\n",
       "      <th>0</th>\n",
       "      <td>FS09B</td>\n",
       "      <td>P</td>\n",
       "      <td>2012-10-14T00:05:57.814700Z</td>\n",
       "    </tr>\n",
       "    <tr>\n",
       "      <th>1</th>\n",
       "      <td>FS09B</td>\n",
       "      <td>P</td>\n",
       "      <td>2012-10-14T00:26:31.574700Z</td>\n",
       "    </tr>\n",
       "    <tr>\n",
       "      <th>2</th>\n",
       "      <td>FS09B</td>\n",
       "      <td>P</td>\n",
       "      <td>2012-10-14T00:37:17.174700Z</td>\n",
       "    </tr>\n",
       "    <tr>\n",
       "      <th>3</th>\n",
       "      <td>FS09B</td>\n",
       "      <td>P</td>\n",
       "      <td>2012-10-14T00:39:52.134700Z</td>\n",
       "    </tr>\n",
       "    <tr>\n",
       "      <th>4</th>\n",
       "      <td>FS09B</td>\n",
       "      <td>P</td>\n",
       "      <td>2012-10-14T00:47:23.734700Z</td>\n",
       "    </tr>\n",
       "    <tr>\n",
       "      <th>...</th>\n",
       "      <td>...</td>\n",
       "      <td>...</td>\n",
       "      <td>...</td>\n",
       "    </tr>\n",
       "    <tr>\n",
       "      <th>2067</th>\n",
       "      <td>M14B</td>\n",
       "      <td>S</td>\n",
       "      <td>2012-10-14T22:24:36.789869Z</td>\n",
       "    </tr>\n",
       "    <tr>\n",
       "      <th>2068</th>\n",
       "      <td>M14B</td>\n",
       "      <td>S</td>\n",
       "      <td>2012-10-14T22:26:19.909869Z</td>\n",
       "    </tr>\n",
       "    <tr>\n",
       "      <th>2069</th>\n",
       "      <td>M14B</td>\n",
       "      <td>S</td>\n",
       "      <td>2012-10-14T23:29:58.769869Z</td>\n",
       "    </tr>\n",
       "    <tr>\n",
       "      <th>2070</th>\n",
       "      <td>M14B</td>\n",
       "      <td>S</td>\n",
       "      <td>2012-10-14T23:32:10.929869Z</td>\n",
       "    </tr>\n",
       "    <tr>\n",
       "      <th>2071</th>\n",
       "      <td>M14B</td>\n",
       "      <td>S</td>\n",
       "      <td>2012-10-14T23:38:56.349869Z</td>\n",
       "    </tr>\n",
       "  </tbody>\n",
       "</table>\n",
       "<p>2072 rows × 3 columns</p>\n",
       "</div>"
      ],
      "text/plain": [
       "     station phase                         time\n",
       "0      FS09B     P  2012-10-14T00:05:57.814700Z\n",
       "1      FS09B     P  2012-10-14T00:26:31.574700Z\n",
       "2      FS09B     P  2012-10-14T00:37:17.174700Z\n",
       "3      FS09B     P  2012-10-14T00:39:52.134700Z\n",
       "4      FS09B     P  2012-10-14T00:47:23.734700Z\n",
       "...      ...   ...                          ...\n",
       "2067    M14B     S  2012-10-14T22:24:36.789869Z\n",
       "2068    M14B     S  2012-10-14T22:26:19.909869Z\n",
       "2069    M14B     S  2012-10-14T23:29:58.769869Z\n",
       "2070    M14B     S  2012-10-14T23:32:10.929869Z\n",
       "2071    M14B     S  2012-10-14T23:38:56.349869Z\n",
       "\n",
       "[2072 rows x 3 columns]"
      ]
     },
     "execution_count": 5,
     "metadata": {},
     "output_type": "execute_result"
    }
   ],
   "source": [
    "picks"
   ]
  },
  {
   "cell_type": "code",
   "execution_count": 6,
   "id": "c64a3c5d",
   "metadata": {},
   "outputs": [
    {
     "data": {
      "text/html": [
       "<div>\n",
       "<style scoped>\n",
       "    .dataframe tbody tr th:only-of-type {\n",
       "        vertical-align: middle;\n",
       "    }\n",
       "\n",
       "    .dataframe tbody tr th {\n",
       "        vertical-align: top;\n",
       "    }\n",
       "\n",
       "    .dataframe thead th {\n",
       "        text-align: right;\n",
       "    }\n",
       "</style>\n",
       "<table border=\"1\" class=\"dataframe\">\n",
       "  <thead>\n",
       "    <tr style=\"text-align: right;\">\n",
       "      <th></th>\n",
       "      <th>id</th>\n",
       "      <th>longitude</th>\n",
       "      <th>latitude</th>\n",
       "      <th>elevation</th>\n",
       "    </tr>\n",
       "  </thead>\n",
       "  <tbody>\n",
       "    <tr>\n",
       "      <th>0</th>\n",
       "      <td>FS09B</td>\n",
       "      <td>-124.808502</td>\n",
       "      <td>40.438702</td>\n",
       "      <td>-2161.0</td>\n",
       "    </tr>\n",
       "    <tr>\n",
       "      <th>1</th>\n",
       "      <td>G10B</td>\n",
       "      <td>-125.553299</td>\n",
       "      <td>40.677898</td>\n",
       "      <td>-2936.0</td>\n",
       "    </tr>\n",
       "    <tr>\n",
       "      <th>2</th>\n",
       "      <td>G19B</td>\n",
       "      <td>-125.773598</td>\n",
       "      <td>41.307400</td>\n",
       "      <td>-3071.0</td>\n",
       "    </tr>\n",
       "    <tr>\n",
       "      <th>3</th>\n",
       "      <td>G25B</td>\n",
       "      <td>-124.586098</td>\n",
       "      <td>41.919899</td>\n",
       "      <td>-430.0</td>\n",
       "    </tr>\n",
       "    <tr>\n",
       "      <th>4</th>\n",
       "      <td>G27B</td>\n",
       "      <td>-126.016701</td>\n",
       "      <td>41.916599</td>\n",
       "      <td>-3480.0</td>\n",
       "    </tr>\n",
       "    <tr>\n",
       "      <th>5</th>\n",
       "      <td>J09B</td>\n",
       "      <td>-124.726997</td>\n",
       "      <td>43.151001</td>\n",
       "      <td>-252.0</td>\n",
       "    </tr>\n",
       "    <tr>\n",
       "      <th>6</th>\n",
       "      <td>M12B</td>\n",
       "      <td>-124.946098</td>\n",
       "      <td>42.183998</td>\n",
       "      <td>-1045.0</td>\n",
       "    </tr>\n",
       "    <tr>\n",
       "      <th>7</th>\n",
       "      <td>M14B</td>\n",
       "      <td>-124.589699</td>\n",
       "      <td>40.985001</td>\n",
       "      <td>-638.0</td>\n",
       "    </tr>\n",
       "  </tbody>\n",
       "</table>\n",
       "</div>"
      ],
      "text/plain": [
       "      id   longitude   latitude  elevation\n",
       "0  FS09B -124.808502  40.438702    -2161.0\n",
       "1   G10B -125.553299  40.677898    -2936.0\n",
       "2   G19B -125.773598  41.307400    -3071.0\n",
       "3   G25B -124.586098  41.919899     -430.0\n",
       "4   G27B -126.016701  41.916599    -3480.0\n",
       "5   J09B -124.726997  43.151001     -252.0\n",
       "6   M12B -124.946098  42.183998    -1045.0\n",
       "7   M14B -124.589699  40.985001     -638.0"
      ]
     },
     "execution_count": 6,
     "metadata": {},
     "output_type": "execute_result"
    }
   ],
   "source": [
    "stations"
   ]
  },
  {
   "cell_type": "markdown",
   "id": "3fe8a8aa",
   "metadata": {},
   "source": [
    "  ## Velocoty Models"
   ]
  },
  {
   "cell_type": "code",
   "execution_count": 7,
   "id": "0f875771",
   "metadata": {},
   "outputs": [],
   "source": [
    "velocity_model = pyocto.VelocityModel0D(\n",
    "    p_velocity=7.0,\n",
    "    s_velocity=4.0,\n",
    "    tolerance=2.0,\n",
    ")"
   ]
  },
  {
   "cell_type": "code",
   "execution_count": 8,
   "id": "b05a7241",
   "metadata": {},
   "outputs": [],
   "source": [
    "?pyocto.OctoAssociator.from_area"
   ]
  },
  {
   "cell_type": "markdown",
   "id": "a3bf75c7",
   "metadata": {},
   "source": [
    "## Create a 1D velocity model"
   ]
  },
  {
   "cell_type": "code",
   "execution_count": 85,
   "id": "4a997db3",
   "metadata": {},
   "outputs": [],
   "source": [
    "# layers = pd.read_csv(\"graeber.csv\")\n",
    "# layers"
   ]
  },
  {
   "cell_type": "code",
   "execution_count": 86,
   "id": "e492330c",
   "metadata": {},
   "outputs": [],
   "source": [
    "# model_path = \"velocity_model\"\n",
    "# pyocto.VelocityModel1D.create_model(layers, 1., 400, 250, model_path)"
   ]
  },
  {
   "cell_type": "code",
   "execution_count": 87,
   "id": "a9d3a14a",
   "metadata": {},
   "outputs": [],
   "source": [
    "# velocity_model_1d = pyocto.VelocityModel1D(model_path, tolerance=2.0)"
   ]
  },
  {
   "cell_type": "markdown",
   "id": "0f6a5c8a",
   "metadata": {},
   "source": [
    "## The OctoAssociator class"
   ]
  },
  {
   "cell_type": "code",
   "execution_count": 9,
   "id": "c49c113f",
   "metadata": {},
   "outputs": [],
   "source": [
    "associator = pyocto.OctoAssociator.from_area(\n",
    "    lat=(40, 43.5),\n",
    "    lon=(-126.5, -123),\n",
    "    zlim=(0, 50),\n",
    "    time_before=300,\n",
    "    velocity_model=velocity_model,\n",
    "    n_picks=4,\n",
    "    n_p_picks=3,\n",
    "    n_s_picks=1,\n",
    "    n_p_and_s_picks=1,\n",
    ")"
   ]
  },
  {
   "cell_type": "code",
   "execution_count": 112,
   "id": "b05ae625",
   "metadata": {
    "scrolled": false
   },
   "outputs": [
    {
     "data": {
      "text/plain": [
       "<Projected CRS: +proj=tmerc +lat_0=41.75 +lon_0=-124.75 +units=km  ...>\n",
       "Name: unknown\n",
       "Axis Info [cartesian]:\n",
       "- E[east]: Easting (kilometre)\n",
       "- N[north]: Northing (kilometre)\n",
       "Area of Use:\n",
       "- undefined\n",
       "Coordinate Operation:\n",
       "- name: unknown\n",
       "- method: Transverse Mercator\n",
       "Datum: World Geodetic System 1984\n",
       "- Ellipsoid: WGS 84\n",
       "- Prime Meridian: Greenwich"
      ]
     },
     "execution_count": 112,
     "metadata": {},
     "output_type": "execute_result"
    }
   ],
   "source": [
    "associator.crs"
   ]
  },
  {
   "cell_type": "code",
   "execution_count": 10,
   "id": "8563e5e5",
   "metadata": {},
   "outputs": [
    {
     "data": {
      "text/html": [
       "<div>\n",
       "<style scoped>\n",
       "    .dataframe tbody tr th:only-of-type {\n",
       "        vertical-align: middle;\n",
       "    }\n",
       "\n",
       "    .dataframe tbody tr th {\n",
       "        vertical-align: top;\n",
       "    }\n",
       "\n",
       "    .dataframe thead th {\n",
       "        text-align: right;\n",
       "    }\n",
       "</style>\n",
       "<table border=\"1\" class=\"dataframe\">\n",
       "  <thead>\n",
       "    <tr style=\"text-align: right;\">\n",
       "      <th></th>\n",
       "      <th>id</th>\n",
       "      <th>longitude</th>\n",
       "      <th>latitude</th>\n",
       "      <th>elevation</th>\n",
       "      <th>x</th>\n",
       "      <th>y</th>\n",
       "      <th>z</th>\n",
       "    </tr>\n",
       "  </thead>\n",
       "  <tbody>\n",
       "    <tr>\n",
       "      <th>0</th>\n",
       "      <td>FS09B</td>\n",
       "      <td>-124.808502</td>\n",
       "      <td>40.438702</td>\n",
       "      <td>-2161.0</td>\n",
       "      <td>-4.963595</td>\n",
       "      <td>-145.625525</td>\n",
       "      <td>2.161</td>\n",
       "    </tr>\n",
       "    <tr>\n",
       "      <th>1</th>\n",
       "      <td>G10B</td>\n",
       "      <td>-125.553299</td>\n",
       "      <td>40.677898</td>\n",
       "      <td>-2936.0</td>\n",
       "      <td>-67.913996</td>\n",
       "      <td>-118.755232</td>\n",
       "      <td>2.936</td>\n",
       "    </tr>\n",
       "    <tr>\n",
       "      <th>2</th>\n",
       "      <td>G19B</td>\n",
       "      <td>-125.773598</td>\n",
       "      <td>41.307400</td>\n",
       "      <td>-3071.0</td>\n",
       "      <td>-85.719842</td>\n",
       "      <td>-48.651523</td>\n",
       "      <td>3.071</td>\n",
       "    </tr>\n",
       "    <tr>\n",
       "      <th>3</th>\n",
       "      <td>G25B</td>\n",
       "      <td>-124.586098</td>\n",
       "      <td>41.919899</td>\n",
       "      <td>-430.0</td>\n",
       "      <td>13.596424</td>\n",
       "      <td>18.883688</td>\n",
       "      <td>0.430</td>\n",
       "    </tr>\n",
       "    <tr>\n",
       "      <th>4</th>\n",
       "      <td>G27B</td>\n",
       "      <td>-126.016701</td>\n",
       "      <td>41.916599</td>\n",
       "      <td>-3480.0</td>\n",
       "      <td>-105.085006</td>\n",
       "      <td>19.280241</td>\n",
       "      <td>3.480</td>\n",
       "    </tr>\n",
       "    <tr>\n",
       "      <th>5</th>\n",
       "      <td>J09B</td>\n",
       "      <td>-124.726997</td>\n",
       "      <td>43.151001</td>\n",
       "      <td>-252.0</td>\n",
       "      <td>1.871087</td>\n",
       "      <td>155.626312</td>\n",
       "      <td>0.252</td>\n",
       "    </tr>\n",
       "    <tr>\n",
       "      <th>6</th>\n",
       "      <td>M12B</td>\n",
       "      <td>-124.946098</td>\n",
       "      <td>42.183998</td>\n",
       "      <td>-1045.0</td>\n",
       "      <td>-16.199984</td>\n",
       "      <td>48.223921</td>\n",
       "      <td>1.045</td>\n",
       "    </tr>\n",
       "    <tr>\n",
       "      <th>7</th>\n",
       "      <td>M14B</td>\n",
       "      <td>-124.589699</td>\n",
       "      <td>40.985001</td>\n",
       "      <td>-638.0</td>\n",
       "      <td>13.490014</td>\n",
       "      <td>-84.949193</td>\n",
       "      <td>0.638</td>\n",
       "    </tr>\n",
       "  </tbody>\n",
       "</table>\n",
       "</div>"
      ],
      "text/plain": [
       "      id   longitude   latitude  elevation           x           y      z\n",
       "0  FS09B -124.808502  40.438702    -2161.0   -4.963595 -145.625525  2.161\n",
       "1   G10B -125.553299  40.677898    -2936.0  -67.913996 -118.755232  2.936\n",
       "2   G19B -125.773598  41.307400    -3071.0  -85.719842  -48.651523  3.071\n",
       "3   G25B -124.586098  41.919899     -430.0   13.596424   18.883688  0.430\n",
       "4   G27B -126.016701  41.916599    -3480.0 -105.085006   19.280241  3.480\n",
       "5   J09B -124.726997  43.151001     -252.0    1.871087  155.626312  0.252\n",
       "6   M12B -124.946098  42.183998    -1045.0  -16.199984   48.223921  1.045\n",
       "7   M14B -124.589699  40.985001     -638.0   13.490014  -84.949193  0.638"
      ]
     },
     "execution_count": 10,
     "metadata": {},
     "output_type": "execute_result"
    }
   ],
   "source": [
    "associator.transform_stations(stations)\n",
    "stations"
   ]
  },
  {
   "cell_type": "code",
   "execution_count": null,
   "id": "cdcc68c6",
   "metadata": {},
   "outputs": [],
   "source": []
  },
  {
   "cell_type": "code",
   "execution_count": null,
   "id": "489646e9",
   "metadata": {},
   "outputs": [],
   "source": []
  },
  {
   "cell_type": "markdown",
   "id": "27c78b5c",
   "metadata": {},
   "source": [
    "## Convert the timestamps to floats"
   ]
  },
  {
   "cell_type": "code",
   "execution_count": 11,
   "id": "c99c738e",
   "metadata": {
    "scrolled": true
   },
   "outputs": [],
   "source": [
    "picks[\"time\"] = picks[\"time\"].apply(lambda x: datetime.datetime.strptime(x,'%Y-%m-%dT%H:%M:%S.%fZ'))"
   ]
  },
  {
   "cell_type": "code",
   "execution_count": 12,
   "id": "d64e4b3a",
   "metadata": {},
   "outputs": [
    {
     "data": {
      "text/html": [
       "<div>\n",
       "<style scoped>\n",
       "    .dataframe tbody tr th:only-of-type {\n",
       "        vertical-align: middle;\n",
       "    }\n",
       "\n",
       "    .dataframe tbody tr th {\n",
       "        vertical-align: top;\n",
       "    }\n",
       "\n",
       "    .dataframe thead th {\n",
       "        text-align: right;\n",
       "    }\n",
       "</style>\n",
       "<table border=\"1\" class=\"dataframe\">\n",
       "  <thead>\n",
       "    <tr style=\"text-align: right;\">\n",
       "      <th></th>\n",
       "      <th>station</th>\n",
       "      <th>phase</th>\n",
       "      <th>time</th>\n",
       "    </tr>\n",
       "  </thead>\n",
       "  <tbody>\n",
       "    <tr>\n",
       "      <th>0</th>\n",
       "      <td>FS09B</td>\n",
       "      <td>P</td>\n",
       "      <td>1.350173e+09</td>\n",
       "    </tr>\n",
       "    <tr>\n",
       "      <th>1</th>\n",
       "      <td>FS09B</td>\n",
       "      <td>P</td>\n",
       "      <td>1.350174e+09</td>\n",
       "    </tr>\n",
       "    <tr>\n",
       "      <th>2</th>\n",
       "      <td>FS09B</td>\n",
       "      <td>P</td>\n",
       "      <td>1.350175e+09</td>\n",
       "    </tr>\n",
       "    <tr>\n",
       "      <th>3</th>\n",
       "      <td>FS09B</td>\n",
       "      <td>P</td>\n",
       "      <td>1.350175e+09</td>\n",
       "    </tr>\n",
       "    <tr>\n",
       "      <th>4</th>\n",
       "      <td>FS09B</td>\n",
       "      <td>P</td>\n",
       "      <td>1.350176e+09</td>\n",
       "    </tr>\n",
       "    <tr>\n",
       "      <th>...</th>\n",
       "      <td>...</td>\n",
       "      <td>...</td>\n",
       "      <td>...</td>\n",
       "    </tr>\n",
       "    <tr>\n",
       "      <th>2067</th>\n",
       "      <td>M14B</td>\n",
       "      <td>S</td>\n",
       "      <td>1.350253e+09</td>\n",
       "    </tr>\n",
       "    <tr>\n",
       "      <th>2068</th>\n",
       "      <td>M14B</td>\n",
       "      <td>S</td>\n",
       "      <td>1.350254e+09</td>\n",
       "    </tr>\n",
       "    <tr>\n",
       "      <th>2069</th>\n",
       "      <td>M14B</td>\n",
       "      <td>S</td>\n",
       "      <td>1.350257e+09</td>\n",
       "    </tr>\n",
       "    <tr>\n",
       "      <th>2070</th>\n",
       "      <td>M14B</td>\n",
       "      <td>S</td>\n",
       "      <td>1.350258e+09</td>\n",
       "    </tr>\n",
       "    <tr>\n",
       "      <th>2071</th>\n",
       "      <td>M14B</td>\n",
       "      <td>S</td>\n",
       "      <td>1.350258e+09</td>\n",
       "    </tr>\n",
       "  </tbody>\n",
       "</table>\n",
       "<p>2072 rows × 3 columns</p>\n",
       "</div>"
      ],
      "text/plain": [
       "     station phase          time\n",
       "0      FS09B     P  1.350173e+09\n",
       "1      FS09B     P  1.350174e+09\n",
       "2      FS09B     P  1.350175e+09\n",
       "3      FS09B     P  1.350175e+09\n",
       "4      FS09B     P  1.350176e+09\n",
       "...      ...   ...           ...\n",
       "2067    M14B     S  1.350253e+09\n",
       "2068    M14B     S  1.350254e+09\n",
       "2069    M14B     S  1.350257e+09\n",
       "2070    M14B     S  1.350258e+09\n",
       "2071    M14B     S  1.350258e+09\n",
       "\n",
       "[2072 rows x 3 columns]"
      ]
     },
     "execution_count": 12,
     "metadata": {},
     "output_type": "execute_result"
    }
   ],
   "source": [
    "picks[\"time\"] = picks[\"time\"].apply(lambda x: x.timestamp())\n",
    "picks"
   ]
  },
  {
   "cell_type": "code",
   "execution_count": 116,
   "id": "663c952e",
   "metadata": {},
   "outputs": [
    {
     "data": {
      "text/plain": [
       "float"
      ]
     },
     "execution_count": 116,
     "metadata": {},
     "output_type": "execute_result"
    }
   ],
   "source": [
    "type(1.349050e+09)"
   ]
  },
  {
   "cell_type": "markdown",
   "id": "bbdc8236",
   "metadata": {},
   "source": [
    "## Delete unnecessary columns"
   ]
  },
  {
   "cell_type": "code",
   "execution_count": 117,
   "id": "7742a59a",
   "metadata": {},
   "outputs": [],
   "source": [
    "# picks.drop(columns=\"Unnamed: 0\", inplace=True)\n",
    "# picks"
   ]
  },
  {
   "cell_type": "code",
   "execution_count": 118,
   "id": "3d556d8f",
   "metadata": {},
   "outputs": [],
   "source": [
    "# stations.drop(columns=\"Unnamed: 0\", inplace=True)\n",
    "# stations"
   ]
  },
  {
   "cell_type": "markdown",
   "id": "a0227ee6",
   "metadata": {},
   "source": [
    "## Apply  the associator"
   ]
  },
  {
   "cell_type": "code",
   "execution_count": 13,
   "id": "261a46ca",
   "metadata": {},
   "outputs": [],
   "source": [
    "events, assignments = associator.associate(picks, stations)"
   ]
  },
  {
   "cell_type": "code",
   "execution_count": 14,
   "id": "7c62f214",
   "metadata": {},
   "outputs": [
    {
     "data": {
      "text/html": [
       "<div>\n",
       "<style scoped>\n",
       "    .dataframe tbody tr th:only-of-type {\n",
       "        vertical-align: middle;\n",
       "    }\n",
       "\n",
       "    .dataframe tbody tr th {\n",
       "        vertical-align: top;\n",
       "    }\n",
       "\n",
       "    .dataframe thead th {\n",
       "        text-align: right;\n",
       "    }\n",
       "</style>\n",
       "<table border=\"1\" class=\"dataframe\">\n",
       "  <thead>\n",
       "    <tr style=\"text-align: right;\">\n",
       "      <th></th>\n",
       "      <th>idx</th>\n",
       "      <th>time</th>\n",
       "      <th>x</th>\n",
       "      <th>y</th>\n",
       "      <th>z</th>\n",
       "      <th>picks</th>\n",
       "    </tr>\n",
       "  </thead>\n",
       "  <tbody>\n",
       "    <tr>\n",
       "      <th>0</th>\n",
       "      <td>0</td>\n",
       "      <td>1.350178e+09</td>\n",
       "      <td>-99.823478</td>\n",
       "      <td>8.014299</td>\n",
       "      <td>24.609375</td>\n",
       "      <td>4</td>\n",
       "    </tr>\n",
       "    <tr>\n",
       "      <th>1</th>\n",
       "      <td>1</td>\n",
       "      <td>1.350182e+09</td>\n",
       "      <td>26.269336</td>\n",
       "      <td>-128.412984</td>\n",
       "      <td>40.234375</td>\n",
       "      <td>5</td>\n",
       "    </tr>\n",
       "    <tr>\n",
       "      <th>2</th>\n",
       "      <td>2</td>\n",
       "      <td>1.350184e+09</td>\n",
       "      <td>12.259024</td>\n",
       "      <td>-107.072404</td>\n",
       "      <td>49.609375</td>\n",
       "      <td>7</td>\n",
       "    </tr>\n",
       "    <tr>\n",
       "      <th>3</th>\n",
       "      <td>3</td>\n",
       "      <td>1.350197e+09</td>\n",
       "      <td>-18.096654</td>\n",
       "      <td>-97.926441</td>\n",
       "      <td>19.140625</td>\n",
       "      <td>4</td>\n",
       "    </tr>\n",
       "    <tr>\n",
       "      <th>4</th>\n",
       "      <td>4</td>\n",
       "      <td>1.350201e+09</td>\n",
       "      <td>-89.315744</td>\n",
       "      <td>-138.321111</td>\n",
       "      <td>36.328125</td>\n",
       "      <td>14</td>\n",
       "    </tr>\n",
       "    <tr>\n",
       "      <th>5</th>\n",
       "      <td>5</td>\n",
       "      <td>1.350216e+09</td>\n",
       "      <td>-18.096654</td>\n",
       "      <td>27.830552</td>\n",
       "      <td>1.171875</td>\n",
       "      <td>4</td>\n",
       "    </tr>\n",
       "    <tr>\n",
       "      <th>6</th>\n",
       "      <td>6</td>\n",
       "      <td>1.350226e+09</td>\n",
       "      <td>-75.305431</td>\n",
       "      <td>-127.650821</td>\n",
       "      <td>28.515625</td>\n",
       "      <td>4</td>\n",
       "    </tr>\n",
       "    <tr>\n",
       "      <th>7</th>\n",
       "      <td>7</td>\n",
       "      <td>1.350234e+09</td>\n",
       "      <td>-60.127592</td>\n",
       "      <td>-121.553512</td>\n",
       "      <td>37.890625</td>\n",
       "      <td>14</td>\n",
       "    </tr>\n",
       "    <tr>\n",
       "      <th>8</th>\n",
       "      <td>8</td>\n",
       "      <td>1.350239e+09</td>\n",
       "      <td>61.295118</td>\n",
       "      <td>-104.785913</td>\n",
       "      <td>8.984375</td>\n",
       "      <td>4</td>\n",
       "    </tr>\n",
       "    <tr>\n",
       "      <th>9</th>\n",
       "      <td>9</td>\n",
       "      <td>1.350244e+09</td>\n",
       "      <td>6.421393</td>\n",
       "      <td>-62.104752</td>\n",
       "      <td>1.171875</td>\n",
       "      <td>4</td>\n",
       "    </tr>\n",
       "  </tbody>\n",
       "</table>\n",
       "</div>"
      ],
      "text/plain": [
       "   idx          time          x           y          z  picks\n",
       "0    0  1.350178e+09 -99.823478    8.014299  24.609375      4\n",
       "1    1  1.350182e+09  26.269336 -128.412984  40.234375      5\n",
       "2    2  1.350184e+09  12.259024 -107.072404  49.609375      7\n",
       "3    3  1.350197e+09 -18.096654  -97.926441  19.140625      4\n",
       "4    4  1.350201e+09 -89.315744 -138.321111  36.328125     14\n",
       "5    5  1.350216e+09 -18.096654   27.830552   1.171875      4\n",
       "6    6  1.350226e+09 -75.305431 -127.650821  28.515625      4\n",
       "7    7  1.350234e+09 -60.127592 -121.553512  37.890625     14\n",
       "8    8  1.350239e+09  61.295118 -104.785913   8.984375      4\n",
       "9    9  1.350244e+09   6.421393  -62.104752   1.171875      4"
      ]
     },
     "execution_count": 14,
     "metadata": {},
     "output_type": "execute_result"
    }
   ],
   "source": [
    "events"
   ]
  },
  {
   "cell_type": "code",
   "execution_count": 15,
   "id": "0c48bb4d",
   "metadata": {},
   "outputs": [
    {
     "data": {
      "text/plain": [
       "Counter({4: 6, 14: 2, 5: 1, 7: 1})"
      ]
     },
     "execution_count": 15,
     "metadata": {},
     "output_type": "execute_result"
    }
   ],
   "source": [
    "Counter(events['picks'])"
   ]
  },
  {
   "cell_type": "code",
   "execution_count": 2,
   "id": "ef8aa879",
   "metadata": {
    "scrolled": false
   },
   "outputs": [
    {
     "ename": "NameError",
     "evalue": "name 'associator' is not defined",
     "output_type": "error",
     "traceback": [
      "\u001b[0;31m---------------------------------------------------------------------------\u001b[0m",
      "\u001b[0;31mNameError\u001b[0m                                 Traceback (most recent call last)",
      "Input \u001b[0;32mIn [2]\u001b[0m, in \u001b[0;36m<module>\u001b[0;34m\u001b[0m\n\u001b[0;32m----> 1\u001b[0m \u001b[43massociator\u001b[49m\u001b[38;5;241m.\u001b[39mtransform_events(events)\n\u001b[1;32m      2\u001b[0m events[\u001b[38;5;124m\"\u001b[39m\u001b[38;5;124mtime\u001b[39m\u001b[38;5;124m\"\u001b[39m] \u001b[38;5;241m=\u001b[39m events[\u001b[38;5;124m\"\u001b[39m\u001b[38;5;124mtime\u001b[39m\u001b[38;5;124m\"\u001b[39m]\u001b[38;5;241m.\u001b[39mapply(datetime\u001b[38;5;241m.\u001b[39mdatetime\u001b[38;5;241m.\u001b[39mfromtimestamp, tz\u001b[38;5;241m=\u001b[39mdatetime\u001b[38;5;241m.\u001b[39mtimezone\u001b[38;5;241m.\u001b[39mutc)\n\u001b[1;32m      3\u001b[0m events\n",
      "\u001b[0;31mNameError\u001b[0m: name 'associator' is not defined"
     ]
    }
   ],
   "source": [
    "associator.transform_events(events)\n",
    "events[\"time\"] = events[\"time\"].apply(datetime.datetime.fromtimestamp, tz=datetime.timezone.utc)\n",
    "events"
   ]
  },
  {
   "cell_type": "code",
   "execution_count": 17,
   "id": "a86b6d58",
   "metadata": {},
   "outputs": [],
   "source": [
    "# events.to_csv('~/notebooks/src/association_events.csv')"
   ]
  },
  {
   "cell_type": "code",
   "execution_count": 1,
   "id": "e6767f3c",
   "metadata": {
    "scrolled": true
   },
   "outputs": [
    {
     "ename": "NameError",
     "evalue": "name 'assignments' is not defined",
     "output_type": "error",
     "traceback": [
      "\u001b[0;31m---------------------------------------------------------------------------\u001b[0m",
      "\u001b[0;31mNameError\u001b[0m                                 Traceback (most recent call last)",
      "Input \u001b[0;32mIn [1]\u001b[0m, in \u001b[0;36m<module>\u001b[0;34m\u001b[0m\n\u001b[0;32m----> 1\u001b[0m \u001b[43massignments\u001b[49m\n",
      "\u001b[0;31mNameError\u001b[0m: name 'assignments' is not defined"
     ]
    }
   ],
   "source": [
    "assignments"
   ]
  },
  {
   "cell_type": "code",
   "execution_count": 19,
   "id": "ff00602d",
   "metadata": {},
   "outputs": [
    {
     "data": {
      "text/html": [
       "<div>\n",
       "<style scoped>\n",
       "    .dataframe tbody tr th:only-of-type {\n",
       "        vertical-align: middle;\n",
       "    }\n",
       "\n",
       "    .dataframe tbody tr th {\n",
       "        vertical-align: top;\n",
       "    }\n",
       "\n",
       "    .dataframe thead th {\n",
       "        text-align: right;\n",
       "    }\n",
       "</style>\n",
       "<table border=\"1\" class=\"dataframe\">\n",
       "  <thead>\n",
       "    <tr style=\"text-align: right;\">\n",
       "      <th></th>\n",
       "      <th>idx</th>\n",
       "      <th>time</th>\n",
       "      <th>x</th>\n",
       "      <th>y</th>\n",
       "      <th>z</th>\n",
       "      <th>picks</th>\n",
       "      <th>latitude</th>\n",
       "      <th>longitude</th>\n",
       "      <th>depth</th>\n",
       "      <th>event_idx</th>\n",
       "      <th>pick_idx</th>\n",
       "      <th>residual</th>\n",
       "      <th>station</th>\n",
       "      <th>phase</th>\n",
       "      <th>time_pick</th>\n",
       "    </tr>\n",
       "  </thead>\n",
       "  <tbody>\n",
       "    <tr>\n",
       "      <th>0</th>\n",
       "      <td>0</td>\n",
       "      <td>2012-10-14 01:24:03.676530+00:00</td>\n",
       "      <td>-99.823478</td>\n",
       "      <td>8.014299</td>\n",
       "      <td>24.609375</td>\n",
       "      <td>4</td>\n",
       "      <td>41.815873</td>\n",
       "      <td>-125.951392</td>\n",
       "      <td>24.609375</td>\n",
       "      <td>0</td>\n",
       "      <td>283</td>\n",
       "      <td>-0.006772</td>\n",
       "      <td>G19B</td>\n",
       "      <td>P</td>\n",
       "      <td>1.350178e+09</td>\n",
       "    </tr>\n",
       "    <tr>\n",
       "      <th>1</th>\n",
       "      <td>0</td>\n",
       "      <td>2012-10-14 01:24:03.676530+00:00</td>\n",
       "      <td>-99.823478</td>\n",
       "      <td>8.014299</td>\n",
       "      <td>24.609375</td>\n",
       "      <td>4</td>\n",
       "      <td>41.815873</td>\n",
       "      <td>-125.951392</td>\n",
       "      <td>24.609375</td>\n",
       "      <td>0</td>\n",
       "      <td>843</td>\n",
       "      <td>0.125995</td>\n",
       "      <td>G27B</td>\n",
       "      <td>P</td>\n",
       "      <td>1.350178e+09</td>\n",
       "    </tr>\n",
       "    <tr>\n",
       "      <th>2</th>\n",
       "      <td>0</td>\n",
       "      <td>2012-10-14 01:24:03.676530+00:00</td>\n",
       "      <td>-99.823478</td>\n",
       "      <td>8.014299</td>\n",
       "      <td>24.609375</td>\n",
       "      <td>4</td>\n",
       "      <td>41.815873</td>\n",
       "      <td>-125.951392</td>\n",
       "      <td>24.609375</td>\n",
       "      <td>0</td>\n",
       "      <td>1053</td>\n",
       "      <td>-0.261009</td>\n",
       "      <td>M12B</td>\n",
       "      <td>P</td>\n",
       "      <td>1.350178e+09</td>\n",
       "    </tr>\n",
       "    <tr>\n",
       "      <th>3</th>\n",
       "      <td>0</td>\n",
       "      <td>2012-10-14 01:24:03.676530+00:00</td>\n",
       "      <td>-99.823478</td>\n",
       "      <td>8.014299</td>\n",
       "      <td>24.609375</td>\n",
       "      <td>4</td>\n",
       "      <td>41.815873</td>\n",
       "      <td>-125.951392</td>\n",
       "      <td>24.609375</td>\n",
       "      <td>0</td>\n",
       "      <td>1938</td>\n",
       "      <td>0.141786</td>\n",
       "      <td>M12B</td>\n",
       "      <td>S</td>\n",
       "      <td>1.350178e+09</td>\n",
       "    </tr>\n",
       "    <tr>\n",
       "      <th>4</th>\n",
       "      <td>1</td>\n",
       "      <td>2012-10-14 02:39:44.924554+00:00</td>\n",
       "      <td>26.269336</td>\n",
       "      <td>-128.412984</td>\n",
       "      <td>40.234375</td>\n",
       "      <td>5</td>\n",
       "      <td>40.593306</td>\n",
       "      <td>-124.439672</td>\n",
       "      <td>40.234375</td>\n",
       "      <td>1</td>\n",
       "      <td>12</td>\n",
       "      <td>0.377781</td>\n",
       "      <td>FS09B</td>\n",
       "      <td>P</td>\n",
       "      <td>1.350182e+09</td>\n",
       "    </tr>\n",
       "    <tr>\n",
       "      <th>...</th>\n",
       "      <td>...</td>\n",
       "      <td>...</td>\n",
       "      <td>...</td>\n",
       "      <td>...</td>\n",
       "      <td>...</td>\n",
       "      <td>...</td>\n",
       "      <td>...</td>\n",
       "      <td>...</td>\n",
       "      <td>...</td>\n",
       "      <td>...</td>\n",
       "      <td>...</td>\n",
       "      <td>...</td>\n",
       "      <td>...</td>\n",
       "      <td>...</td>\n",
       "      <td>...</td>\n",
       "    </tr>\n",
       "    <tr>\n",
       "      <th>59</th>\n",
       "      <td>8</td>\n",
       "      <td>2012-10-14 18:16:43.973209+00:00</td>\n",
       "      <td>61.295118</td>\n",
       "      <td>-104.785913</td>\n",
       "      <td>8.984375</td>\n",
       "      <td>4</td>\n",
       "      <td>40.804200</td>\n",
       "      <td>-124.023617</td>\n",
       "      <td>8.984375</td>\n",
       "      <td>8</td>\n",
       "      <td>2047</td>\n",
       "      <td>-0.029840</td>\n",
       "      <td>M14B</td>\n",
       "      <td>S</td>\n",
       "      <td>1.350239e+09</td>\n",
       "    </tr>\n",
       "    <tr>\n",
       "      <th>60</th>\n",
       "      <td>9</td>\n",
       "      <td>2012-10-14 19:52:13.871130+00:00</td>\n",
       "      <td>6.421393</td>\n",
       "      <td>-62.104752</td>\n",
       "      <td>1.171875</td>\n",
       "      <td>4</td>\n",
       "      <td>41.190790</td>\n",
       "      <td>-124.673457</td>\n",
       "      <td>1.171875</td>\n",
       "      <td>9</td>\n",
       "      <td>163</td>\n",
       "      <td>1.220861</td>\n",
       "      <td>FS09B</td>\n",
       "      <td>P</td>\n",
       "      <td>1.350244e+09</td>\n",
       "    </tr>\n",
       "    <tr>\n",
       "      <th>61</th>\n",
       "      <td>9</td>\n",
       "      <td>2012-10-14 19:52:13.871130+00:00</td>\n",
       "      <td>6.421393</td>\n",
       "      <td>-62.104752</td>\n",
       "      <td>1.171875</td>\n",
       "      <td>4</td>\n",
       "      <td>41.190790</td>\n",
       "      <td>-124.673457</td>\n",
       "      <td>1.171875</td>\n",
       "      <td>9</td>\n",
       "      <td>1579</td>\n",
       "      <td>-0.811171</td>\n",
       "      <td>FS09B</td>\n",
       "      <td>S</td>\n",
       "      <td>1.350244e+09</td>\n",
       "    </tr>\n",
       "    <tr>\n",
       "      <th>62</th>\n",
       "      <td>9</td>\n",
       "      <td>2012-10-14 19:52:13.871130+00:00</td>\n",
       "      <td>6.421393</td>\n",
       "      <td>-62.104752</td>\n",
       "      <td>1.171875</td>\n",
       "      <td>4</td>\n",
       "      <td>41.190790</td>\n",
       "      <td>-124.673457</td>\n",
       "      <td>1.171875</td>\n",
       "      <td>9</td>\n",
       "      <td>257</td>\n",
       "      <td>-0.000484</td>\n",
       "      <td>G10B</td>\n",
       "      <td>P</td>\n",
       "      <td>1.350244e+09</td>\n",
       "    </tr>\n",
       "    <tr>\n",
       "      <th>63</th>\n",
       "      <td>9</td>\n",
       "      <td>2012-10-14 19:52:13.871130+00:00</td>\n",
       "      <td>6.421393</td>\n",
       "      <td>-62.104752</td>\n",
       "      <td>1.171875</td>\n",
       "      <td>4</td>\n",
       "      <td>41.190790</td>\n",
       "      <td>-124.673457</td>\n",
       "      <td>1.171875</td>\n",
       "      <td>9</td>\n",
       "      <td>722</td>\n",
       "      <td>-0.409205</td>\n",
       "      <td>G25B</td>\n",
       "      <td>P</td>\n",
       "      <td>1.350244e+09</td>\n",
       "    </tr>\n",
       "  </tbody>\n",
       "</table>\n",
       "<p>64 rows × 15 columns</p>\n",
       "</div>"
      ],
      "text/plain": [
       "    idx                             time          x           y          z  \\\n",
       "0     0 2012-10-14 01:24:03.676530+00:00 -99.823478    8.014299  24.609375   \n",
       "1     0 2012-10-14 01:24:03.676530+00:00 -99.823478    8.014299  24.609375   \n",
       "2     0 2012-10-14 01:24:03.676530+00:00 -99.823478    8.014299  24.609375   \n",
       "3     0 2012-10-14 01:24:03.676530+00:00 -99.823478    8.014299  24.609375   \n",
       "4     1 2012-10-14 02:39:44.924554+00:00  26.269336 -128.412984  40.234375   \n",
       "..  ...                              ...        ...         ...        ...   \n",
       "59    8 2012-10-14 18:16:43.973209+00:00  61.295118 -104.785913   8.984375   \n",
       "60    9 2012-10-14 19:52:13.871130+00:00   6.421393  -62.104752   1.171875   \n",
       "61    9 2012-10-14 19:52:13.871130+00:00   6.421393  -62.104752   1.171875   \n",
       "62    9 2012-10-14 19:52:13.871130+00:00   6.421393  -62.104752   1.171875   \n",
       "63    9 2012-10-14 19:52:13.871130+00:00   6.421393  -62.104752   1.171875   \n",
       "\n",
       "    picks   latitude   longitude      depth  event_idx  pick_idx  residual  \\\n",
       "0       4  41.815873 -125.951392  24.609375          0       283 -0.006772   \n",
       "1       4  41.815873 -125.951392  24.609375          0       843  0.125995   \n",
       "2       4  41.815873 -125.951392  24.609375          0      1053 -0.261009   \n",
       "3       4  41.815873 -125.951392  24.609375          0      1938  0.141786   \n",
       "4       5  40.593306 -124.439672  40.234375          1        12  0.377781   \n",
       "..    ...        ...         ...        ...        ...       ...       ...   \n",
       "59      4  40.804200 -124.023617   8.984375          8      2047 -0.029840   \n",
       "60      4  41.190790 -124.673457   1.171875          9       163  1.220861   \n",
       "61      4  41.190790 -124.673457   1.171875          9      1579 -0.811171   \n",
       "62      4  41.190790 -124.673457   1.171875          9       257 -0.000484   \n",
       "63      4  41.190790 -124.673457   1.171875          9       722 -0.409205   \n",
       "\n",
       "   station phase     time_pick  \n",
       "0     G19B     P  1.350178e+09  \n",
       "1     G27B     P  1.350178e+09  \n",
       "2     M12B     P  1.350178e+09  \n",
       "3     M12B     S  1.350178e+09  \n",
       "4    FS09B     P  1.350182e+09  \n",
       "..     ...   ...           ...  \n",
       "59    M14B     S  1.350239e+09  \n",
       "60   FS09B     P  1.350244e+09  \n",
       "61   FS09B     S  1.350244e+09  \n",
       "62    G10B     P  1.350244e+09  \n",
       "63    G25B     P  1.350244e+09  \n",
       "\n",
       "[64 rows x 15 columns]"
      ]
     },
     "execution_count": 19,
     "metadata": {},
     "output_type": "execute_result"
    }
   ],
   "source": [
    "all_pick_assignments = pd.merge(events, assignments, left_on=\"idx\", right_on=\"event_idx\", suffixes=(\"\", \"_pick\"))\n",
    "all_pick_assignments.to_csv('~/notebooks/data/all_pick_assignments.csv')"
   ]
  },
  {
   "cell_type": "code",
   "execution_count": 20,
   "id": "73c15960",
   "metadata": {},
   "outputs": [
    {
     "data": {
      "image/png": "[encoded data removed]",
      "text/plain": [
       "<Figure size 400x800 with 2 Axes>"
      ]
     },
     "metadata": {},
     "output_type": "display_data"
    }
   ],
   "source": [
    "# The parameters in the associator class: n_picks=2,n_p_picks=1,n_s_picks=1,n_p_and_s_picks=1\n",
    "fig = plt.figure(figsize=(4, 8))\n",
    "ax = fig.add_subplot()\n",
    "ax.set_aspect(\"equal\")\n",
    "\n",
    "# ax.scatter(events[\"x\"], events[\"y\"], c=events[\"z\"])\n",
    "ax.set_xlabel(\"Easting [km]\")\n",
    "ax.set_ylabel(\"Northing [km]\")\n",
    "cax = fig.add_axes([ax.get_position().x1+0.05,ax.get_position().y0,0.02,ax.get_position().height])\n",
    "cb1 = fig.colorbar(ax.scatter(events[\"x\"], events[\"y\"], c=events[\"z\"],cmap='viridis'), cax=cax)\n",
    "cb1.ax.invert_yaxis()"
   ]
  },
  {
   "cell_type": "code",
   "execution_count": 21,
   "id": "18d4402a",
   "metadata": {
    "scrolled": false
   },
   "outputs": [
    {
     "data": {
      "image/png": "[encoded data removed]",
      "text/plain": [
       "<Figure size 400x800 with 2 Axes>"
      ]
     },
     "metadata": {},
     "output_type": "display_data"
    }
   ],
   "source": [
    "# The parameters in the associator class: n_picks=2,n_p_picks=1,n_s_picks=1,n_p_and_s_picks=1\n",
    "fig = plt.figure(figsize=(4, 8))\n",
    "ax = fig.add_subplot()\n",
    "ax.set_aspect(\"equal\")\n",
    "\n",
    "ax.set_xlabel(\"Longitude [$^\\circ$]\")\n",
    "ax.set_ylabel(\"Latitude [$^\\circ$]\")\n",
    "cax = fig.add_axes([ax.get_position().x1+0.05,ax.get_position().y0,0.02,ax.get_position().height])\n",
    "cb1 = fig.colorbar(ax.scatter(events[\"longitude\"], events[\"latitude\"], c=events[\"z\"],cmap='viridis'), cax=cax)\n",
    "cb1.ax.invert_yaxis()"
   ]
  }
 ],
 "metadata": {
  "kernelspec": {
   "display_name": "seismo (SHARED)",
   "language": "python",
   "name": "seismo-py38-shared"
  },
  "language_info": {
   "codemirror_mode": {
    "name": "ipython",
    "version": 3
   },
   "file_extension": ".py",
   "mimetype": "text/x-python",
   "name": "python",
   "nbconvert_exporter": "python",
   "pygments_lexer": "ipython3",
   "version": "3.8.12"
  }
 },
 "nbformat": 4,
 "nbformat_minor": 5
}
