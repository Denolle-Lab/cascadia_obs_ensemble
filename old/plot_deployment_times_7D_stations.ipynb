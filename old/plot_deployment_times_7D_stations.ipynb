{
 "cells": [
  {
   "cell_type": "code",
   "execution_count": 1,
   "id": "5923acbb",
   "metadata": {},
   "outputs": [],
   "source": [
    "import pandas as pd\n",
    "import matplotlib.pyplot as plt\n",
    "import numpy as np\n",
    "import matplotlib.dates as mdates\n",
    "# from adjustText import adjust_text\n",
    "import array as arr\n",
    "import torch\n",
    "\n",
    "# %pip install eqtransformer\n",
    "# %pip install adjustText\n",
    "# %pip install openpyxl"
   ]
  },
  {
   "cell_type": "code",
   "execution_count": 2,
   "id": "14534e72",
   "metadata": {},
   "outputs": [
    {
     "data": {
      "text/plain": [
       "True"
      ]
     },
     "execution_count": 2,
     "metadata": {},
     "output_type": "execute_result"
    }
   ],
   "source": [
    "# Use GPU\n",
    "torch.cuda.is_available()"
   ]
  },
  {
   "cell_type": "code",
   "execution_count": 3,
   "id": "f77b2365",
   "metadata": {},
   "outputs": [
    {
     "name": "stdout",
     "output_type": "stream",
     "text": [
      "cuda:0\n"
     ]
    }
   ],
   "source": [
    "device = torch.device(\"cuda:0\" if torch.cuda.is_available() else \"cpu\")\n",
    "print(device)"
   ]
  },
  {
   "cell_type": "code",
   "execution_count": 4,
   "id": "6930817d",
   "metadata": {},
   "outputs": [],
   "source": [
    "# Read the catalog\n",
    "cat_ds03 = pd.read_excel(\"ds03.xlsx\")"
   ]
  },
  {
   "cell_type": "code",
   "execution_count": 5,
   "id": "359dfcfb",
   "metadata": {},
   "outputs": [
    {
     "data": {
      "text/html": [
       "<div>\n",
       "<style scoped>\n",
       "    .dataframe tbody tr th:only-of-type {\n",
       "        vertical-align: middle;\n",
       "    }\n",
       "\n",
       "    .dataframe tbody tr th {\n",
       "        vertical-align: top;\n",
       "    }\n",
       "\n",
       "    .dataframe thead th {\n",
       "        text-align: right;\n",
       "    }\n",
       "</style>\n",
       "<table border=\"1\" class=\"dataframe\">\n",
       "  <thead>\n",
       "    <tr style=\"text-align: right;\">\n",
       "      <th></th>\n",
       "      <th>CI YEAR</th>\n",
       "      <th>CLUSTER ID</th>\n",
       "      <th>STATION</th>\n",
       "      <th>NETWORK CODE</th>\n",
       "      <th>FILTER USED (Hz)</th>\n",
       "    </tr>\n",
       "  </thead>\n",
       "  <tbody>\n",
       "    <tr>\n",
       "      <th>0</th>\n",
       "      <td>1</td>\n",
       "      <td>OC1</td>\n",
       "      <td>J25A</td>\n",
       "      <td>7D</td>\n",
       "      <td>HP 5</td>\n",
       "    </tr>\n",
       "    <tr>\n",
       "      <th>1</th>\n",
       "      <td>1</td>\n",
       "      <td>NaN</td>\n",
       "      <td>M08A</td>\n",
       "      <td>7D</td>\n",
       "      <td>HP 5</td>\n",
       "    </tr>\n",
       "    <tr>\n",
       "      <th>2</th>\n",
       "      <td>1</td>\n",
       "      <td>NaN</td>\n",
       "      <td>I02D</td>\n",
       "      <td>TA</td>\n",
       "      <td>HP 5</td>\n",
       "    </tr>\n",
       "    <tr>\n",
       "      <th>3</th>\n",
       "      <td>1</td>\n",
       "      <td>OC2</td>\n",
       "      <td>J25A</td>\n",
       "      <td>7D</td>\n",
       "      <td>BP 5-10</td>\n",
       "    </tr>\n",
       "    <tr>\n",
       "      <th>4</th>\n",
       "      <td>1</td>\n",
       "      <td>NaN</td>\n",
       "      <td>J33A</td>\n",
       "      <td>7D</td>\n",
       "      <td>BP 5-15</td>\n",
       "    </tr>\n",
       "    <tr>\n",
       "      <th>...</th>\n",
       "      <td>...</td>\n",
       "      <td>...</td>\n",
       "      <td>...</td>\n",
       "      <td>...</td>\n",
       "      <td>...</td>\n",
       "    </tr>\n",
       "    <tr>\n",
       "      <th>247</th>\n",
       "      <td>4</td>\n",
       "      <td>CI4-45</td>\n",
       "      <td>FC03D</td>\n",
       "      <td>7D</td>\n",
       "      <td>BP 1-15</td>\n",
       "    </tr>\n",
       "    <tr>\n",
       "      <th>248</th>\n",
       "      <td>4</td>\n",
       "      <td>NaN</td>\n",
       "      <td>HEBO</td>\n",
       "      <td>UW</td>\n",
       "      <td>BP 2-10</td>\n",
       "    </tr>\n",
       "    <tr>\n",
       "      <th>249</th>\n",
       "      <td>4</td>\n",
       "      <td>CI4-47</td>\n",
       "      <td>NLWA</td>\n",
       "      <td>US</td>\n",
       "      <td>HP 3</td>\n",
       "    </tr>\n",
       "    <tr>\n",
       "      <th>250</th>\n",
       "      <td>4</td>\n",
       "      <td>CI4-48</td>\n",
       "      <td>OCP</td>\n",
       "      <td>UW</td>\n",
       "      <td>BP 3-10</td>\n",
       "    </tr>\n",
       "    <tr>\n",
       "      <th>251</th>\n",
       "      <td>4</td>\n",
       "      <td>NaN</td>\n",
       "      <td>OZB</td>\n",
       "      <td>CNDC</td>\n",
       "      <td>HP 5</td>\n",
       "    </tr>\n",
       "  </tbody>\n",
       "</table>\n",
       "<p>252 rows × 5 columns</p>\n",
       "</div>"
      ],
      "text/plain": [
       "     CI YEAR CLUSTER ID STATION NETWORK CODE FILTER USED (Hz)\n",
       "0          1        OC1    J25A           7D             HP 5\n",
       "1          1        NaN    M08A           7D             HP 5\n",
       "2          1        NaN    I02D           TA             HP 5\n",
       "3          1        OC2    J25A           7D          BP 5-10\n",
       "4          1        NaN    J33A           7D          BP 5-15\n",
       "..       ...        ...     ...          ...              ...\n",
       "247        4     CI4-45   FC03D           7D          BP 1-15\n",
       "248        4        NaN    HEBO           UW          BP 2-10\n",
       "249        4     CI4-47    NLWA           US             HP 3\n",
       "250        4     CI4-48     OCP           UW          BP 3-10\n",
       "251        4        NaN     OZB         CNDC             HP 5\n",
       "\n",
       "[252 rows x 5 columns]"
      ]
     },
     "execution_count": 5,
     "metadata": {},
     "output_type": "execute_result"
    }
   ],
   "source": [
    "# Show the catalog\n",
    "cat_ds03"
   ]
  },
  {
   "cell_type": "code",
   "execution_count": 6,
   "id": "95618aae",
   "metadata": {},
   "outputs": [],
   "source": [
    "# Find filter the stations by the network code 7D\n",
    "cat_7D = cat_ds03[cat_ds03['NETWORK CODE']=='7D']"
   ]
  },
  {
   "cell_type": "code",
   "execution_count": 7,
   "id": "b154c4ea",
   "metadata": {},
   "outputs": [
    {
     "data": {
      "text/plain": [
       "0       J25A\n",
       "1       M08A\n",
       "3       J25A\n",
       "4       J33A\n",
       "8       J41A\n",
       "       ...  \n",
       "239     G33D\n",
       "241     G33D\n",
       "243     J09D\n",
       "246     J17D\n",
       "247    FC03D\n",
       "Name: STATION, Length: 94, dtype: object"
      ]
     },
     "execution_count": 7,
     "metadata": {},
     "output_type": "execute_result"
    }
   ],
   "source": [
    "# Show the stations by the network code 7D\n",
    "cat_7D['STATION']"
   ]
  },
  {
   "cell_type": "code",
   "execution_count": 12,
   "id": "8fd2e4d4",
   "metadata": {
    "scrolled": true
   },
   "outputs": [
    {
     "data": {
      "text/plain": [
       "['J25A',\n",
       " 'M08A',\n",
       " 'J25A',\n",
       " 'J33A',\n",
       " 'J41A',\n",
       " 'J49A',\n",
       " 'J65A',\n",
       " 'J57A',\n",
       " 'J65A',\n",
       " 'M09B',\n",
       " 'J25B',\n",
       " 'J25B',\n",
       " 'J33B',\n",
       " 'FS13B',\n",
       " 'FS20B',\n",
       " 'G10B',\n",
       " 'FS16B  ',\n",
       " 'G10B  ',\n",
       " 'G10B  ',\n",
       " 'FS09B  ',\n",
       " 'FS13B  ',\n",
       " 'FS13B  ',\n",
       " 'FS13B  ',\n",
       " 'FS16B  ',\n",
       " 'G10B',\n",
       " 'FS17B  ',\n",
       " 'G19B  ',\n",
       " 'M14B  ',\n",
       " 'M14B  ',\n",
       " 'G19B  ',\n",
       " 'G19B  ',\n",
       " 'M14B  ',\n",
       " 'G17B',\n",
       " 'G17B',\n",
       " 'G19B  ',\n",
       " 'G26B  ',\n",
       " 'G27B  ',\n",
       " 'G25B  ',\n",
       " 'G26B  ',\n",
       " 'M12B  ',\n",
       " 'M12B  ',\n",
       " 'G25B  ',\n",
       " 'M12B  ',\n",
       " 'M12B  ',\n",
       " 'J09B',\n",
       " 'J33B',\n",
       " 'J25C',\n",
       " 'M08C',\n",
       " 'J33C ',\n",
       " 'J25C ',\n",
       " 'M05C ',\n",
       " 'M06C ',\n",
       " 'FN02C ',\n",
       " 'FN02C ',\n",
       " 'J26C',\n",
       " 'J34C',\n",
       " 'J26C',\n",
       " 'J34C',\n",
       " 'M06C ',\n",
       " 'J34C',\n",
       " 'M06C ',\n",
       " 'M05C ',\n",
       " 'M06C ',\n",
       " 'J42C',\n",
       " 'M06C ',\n",
       " 'J41C',\n",
       " 'M05C ',\n",
       " 'J42C',\n",
       " 'J65C',\n",
       " 'M03C',\n",
       " 'J67C',\n",
       " 'M01C',\n",
       " 'FS16D',\n",
       " 'FS09D',\n",
       " 'FS17D',\n",
       " 'FS14D',\n",
       " 'FS44D',\n",
       " 'FS43D',\n",
       " 'FS17D',\n",
       " 'FS41D',\n",
       " 'FS13D',\n",
       " 'G09D',\n",
       " 'FS45D',\n",
       " 'G10D',\n",
       " 'M17D',\n",
       " 'M16D',\n",
       " 'G18D',\n",
       " 'M15D',\n",
       " 'M15D',\n",
       " 'G33D',\n",
       " 'G33D',\n",
       " 'J09D',\n",
       " 'J17D',\n",
       " 'FC03D']"
      ]
     },
     "execution_count": 12,
     "metadata": {},
     "output_type": "execute_result"
    }
   ],
   "source": [
    "# Convert station series to a list\n",
    "stations= (cat_7D['STATION']).tolist()\n",
    "stations"
   ]
  },
  {
   "cell_type": "code",
   "execution_count": 13,
   "id": "4828aa8e",
   "metadata": {
    "scrolled": true
   },
   "outputs": [
    {
     "data": {
      "text/plain": [
       "['J25A',\n",
       " 'M08A',\n",
       " 'J25A',\n",
       " 'J33A',\n",
       " 'J41A',\n",
       " 'J49A',\n",
       " 'J65A',\n",
       " 'J57A',\n",
       " 'J65A',\n",
       " 'M09B',\n",
       " 'J25B',\n",
       " 'J25B',\n",
       " 'J33B',\n",
       " 'FS13B',\n",
       " 'FS20B',\n",
       " 'G10B',\n",
       " 'FS16B',\n",
       " 'G10B',\n",
       " 'G10B',\n",
       " 'FS09B',\n",
       " 'FS13B',\n",
       " 'FS13B',\n",
       " 'FS13B',\n",
       " 'FS16B',\n",
       " 'G10B',\n",
       " 'FS17B',\n",
       " 'G19B',\n",
       " 'M14B',\n",
       " 'M14B',\n",
       " 'G19B',\n",
       " 'G19B',\n",
       " 'M14B',\n",
       " 'G17B',\n",
       " 'G17B',\n",
       " 'G19B',\n",
       " 'G26B',\n",
       " 'G27B',\n",
       " 'G25B',\n",
       " 'G26B',\n",
       " 'M12B',\n",
       " 'M12B',\n",
       " 'G25B',\n",
       " 'M12B',\n",
       " 'M12B',\n",
       " 'J09B',\n",
       " 'J33B',\n",
       " 'J25C',\n",
       " 'M08C',\n",
       " 'J33C',\n",
       " 'J25C',\n",
       " 'M05C',\n",
       " 'M06C',\n",
       " 'FN02C',\n",
       " 'FN02C',\n",
       " 'J26C',\n",
       " 'J34C',\n",
       " 'J26C',\n",
       " 'J34C',\n",
       " 'M06C',\n",
       " 'J34C',\n",
       " 'M06C',\n",
       " 'M05C',\n",
       " 'M06C',\n",
       " 'J42C',\n",
       " 'M06C',\n",
       " 'J41C',\n",
       " 'M05C',\n",
       " 'J42C',\n",
       " 'J65C',\n",
       " 'M03C',\n",
       " 'J67C',\n",
       " 'M01C',\n",
       " 'FS16D',\n",
       " 'FS09D',\n",
       " 'FS17D',\n",
       " 'FS14D',\n",
       " 'FS44D',\n",
       " 'FS43D',\n",
       " 'FS17D',\n",
       " 'FS41D',\n",
       " 'FS13D',\n",
       " 'G09D',\n",
       " 'FS45D',\n",
       " 'G10D',\n",
       " 'M17D',\n",
       " 'M16D',\n",
       " 'G18D',\n",
       " 'M15D',\n",
       " 'M15D',\n",
       " 'G33D',\n",
       " 'G33D',\n",
       " 'J09D',\n",
       " 'J17D',\n",
       " 'FC03D']"
      ]
     },
     "execution_count": 13,
     "metadata": {},
     "output_type": "execute_result"
    }
   ],
   "source": [
    "# Delete the spaces in the station code strings.\n",
    "for i in range(len(stations)):\n",
    "    s = stations[i]\n",
    "    stations[i]= s.replace(\" \", \"\")\n",
    "        \n",
    "stations\n"
   ]
  },
  {
   "cell_type": "code",
   "execution_count": 10,
   "id": "af43baee",
   "metadata": {},
   "outputs": [
    {
     "data": {
      "text/plain": [
       "'J25A,M08A,J25A,J33A,J41A,J49A,J65A,J57A,J65A,M09B,J25B,J25B,J33B,FS13B,FS20B,G10B,FS16B,G10B,G10B,FS09B,FS13B,FS13B,FS13B,FS16B,G10B,FS17B,G19B,M14B,M14B,G19B,G19B,M14B,G17B,G17B,G19B,G26B,G27B,G25B,G26B,M12B,M12B,G25B,M12B,M12B,J09B,J33B,J25C,M08C,J33C,J25C,M05C,M06C,FN02C,FN02C,J26C,J34C,J26C,J34C,M06C,J34C,M06C,M05C,M06C,J42C,M06C,J41C,M05C,J42C,J65C,M03C,J67C,M01C,FS16D,FS09D,FS17D,FS14D,FS44D,FS43D,FS17D,FS41D,FS13D,G09D,FS45D,G10D,M17D,M16D,G18D,M15D,M15D,G33D,G33D,J09D,J17D,FC03D'"
      ]
     },
     "execution_count": 10,
     "metadata": {},
     "output_type": "execute_result"
    }
   ],
   "source": [
    "# Converge the all the strings to a single string listing the stations delimited by commas with no spaces\n",
    "from functools import reduce\n",
    " \n",
    "\n",
    "delim = \",\"\n",
    " \n",
    "stations = reduce(lambda x, y: str(x) + delim + str(y), stations)\n",
    " \n",
    "stations"
   ]
  },
  {
   "cell_type": "code",
   "execution_count": 11,
   "id": "e273493c",
   "metadata": {},
   "outputs": [],
   "source": [
    "# Get station inventory from obspy\n",
    "from obspy.clients.fdsn.client import Client\n",
    "stations = stations\n",
    "network = '7D'\n",
    "channels = 'HH*'\n",
    "client = Client(\"IRIS\")\n",
    "inventory = client.get_stations(network=network, station=stations)"
   ]
  },
  {
   "cell_type": "code",
   "execution_count": 12,
   "id": "23990bf4",
   "metadata": {},
   "outputs": [
    {
     "name": "stdout",
     "output_type": "stream",
     "text": [
      "<class 'numpy.ndarray'>\n"
     ]
    }
   ],
   "source": [
    "start_dates = [] # Make a list to contain all the start dates \n",
    "end_dates = [] # Make a list to contain all the end dates \n",
    "latitudes = np.zeros(len(inventory[0])) # Make a list to contain all the latitudes\n",
    "\n",
    "for i in range(len(inventory[0])): \n",
    "    start_dates.append(inventory[0][i].start_date.datetime)\n",
    "    end_dates.append(inventory[0][i].end_date.datetime)\n",
    "    latitudes[i] = inventory[0][i].latitude\n",
    "\n",
    "# Find the latitudes less than 42 degrees. \n",
    "a = latitudes\n",
    "index_lat_less_than_42 = np.asarray(np.where(42 >= a))\n",
    "print(type(index_lat_less_than_42))\n",
    "\n",
    "latitudes = latitudes.tolist()\n",
    "\n",
    "# Convert inventory to a np.array\n",
    "inventory_codes = []\n",
    "for i in range(len(inventory[0])):\n",
    "    inventory_codes.append(inventory[0][i].code)"
   ]
  },
  {
   "cell_type": "code",
   "execution_count": 14,
   "id": "5b90359d",
   "metadata": {},
   "outputs": [],
   "source": [
    "# Filter stations by deployment dates\n",
    "from datetime import datetime\n",
    "t1 = datetime(2012,7, 1)\n",
    "t2 = datetime(2012,12, 31)\n",
    "keep = [i for i,e in enumerate(start_dates) if (e > t1) and (e < t2)]\n",
    "filtered_stations = [inventory_codes[i] for i in keep]"
   ]
  },
  {
   "cell_type": "code",
   "execution_count": 15,
   "id": "3811e15c",
   "metadata": {},
   "outputs": [
    {
     "data": {
      "image/png": "[encoded data removed]",
      "text/plain": [
       "<Figure size 720x1440 with 1 Axes>"
      ]
     },
     "metadata": {
      "needs_background": "light"
     },
     "output_type": "display_data"
    }
   ],
   "source": [
    "#  Plot the stations one more time to see if the previous code was right\n",
    "# Plot the start and end dates with respect to the latitudes\n",
    "bbox = dict(boxstyle=\"round\", fc=\"0.8\")\n",
    "arrowprops = dict(\n",
    "    arrowstyle=\"->\",\n",
    "    connectionstyle=\"angle,angleA=0,angleB=45,rad=10\")\n",
    "\n",
    "offset = 25\n",
    "\n",
    "\n",
    "plt.figure(figsize=(10,20))\n",
    "for i in range(len(inventory_codes)):\n",
    "    if (start_dates[i] > t1) and (start_dates[i] < t2):\n",
    "        plt.plot([start_dates[i], end_dates[i]],[latitudes[i],latitudes[i]], color='r', label=str(inventory[0][i].code))\n",
    "        plt.annotate(text=str(inventory[0][i].code), xy=(start_dates[i],latitudes[i]), xytext=(-1*offset,-1*offset),textcoords='offset points',\n",
    "        bbox=bbox, arrowprops=arrowprops)\n",
    "        \n",
    "    else:\n",
    "        plt.plot([start_dates[i], end_dates[i]],[latitudes[i],latitudes[i]], color='black', label=str(inventory[0][i].code))\n",
    "        plt.annotate(text=str(inventory[0][i].code), xy=(start_dates[i],latitudes[i]), xytext=(-1*offset,-1*offset),textcoords='offset points',\n",
    "        bbox=bbox, arrowprops=arrowprops)\n",
    "        \n",
    "plt.xlabel(\"Deployment Date\",fontsize=15)\n",
    "plt.ylabel(\"Latitude($^\\circ$)\", fontsize=15)\n",
    "# plt.ylim(40,46)\n",
    "# plt.legend(bbox_to_anchor=(1.04, 1), borderaxespad=0)\n",
    "plt.title(\"Deployment Durations of the 7D Stations\",fontsize=22)\n",
    "\n",
    "plt.show()"
   ]
  }
 ],
 "metadata": {
  "kernelspec": {
   "display_name": "seismo (SHARED 3.8)",
   "language": "python",
   "name": "seismo-py38-shared"
  },
  "language_info": {
   "codemirror_mode": {
    "name": "ipython",
    "version": 3
   },
   "file_extension": ".py",
   "mimetype": "text/x-python",
   "name": "python",
   "nbconvert_exporter": "python",
   "pygments_lexer": "ipython3",
   "version": "3.8.12"
  }
 },
 "nbformat": 4,
 "nbformat_minor": 5
}
