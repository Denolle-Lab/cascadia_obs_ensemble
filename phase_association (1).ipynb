{
 "cells": [
  {
   "cell_type": "code",
   "execution_count": 34,
   "id": "45e0b4d8",
   "metadata": {},
   "outputs": [
    {
     "name": "stdout",
     "output_type": "stream",
     "text": [
      "Collecting pyocto\n",
      "\u001b[31m  Could not find a version that satisfies the requirement pyocto (from versions: )\u001b[0m\n",
      "\u001b[31mNo matching distribution found for pyocto\u001b[0m\n"
     ]
    }
   ],
   "source": [
    "!pip3 install pyocto pyarrow"
   ]
  },
  {
   "cell_type": "code",
   "execution_count": 113,
   "id": "91c28442",
   "metadata": {},
   "outputs": [],
   "source": [
    "import pyocto\n",
    "import pandas as pd\n",
    "import datetime\n",
    "import matplotlib.pyplot as plt"
   ]
  },
  {
   "cell_type": "markdown",
   "id": "d79f475f",
   "metadata": {},
   "source": [
    "## Input Data"
   ]
  },
  {
   "cell_type": "code",
   "execution_count": 258,
   "id": "dc050e11",
   "metadata": {},
   "outputs": [],
   "source": [
    "picks = pd.read_csv(\"~/notebooks/data/phase_association/picks_first_half\")\n",
    "stations = pd.read_csv(\"~/notebooks/data/phase_association/stations_first_half\")"
   ]
  },
  {
   "cell_type": "code",
   "execution_count": 259,
   "id": "84f25f5c",
   "metadata": {},
   "outputs": [
    {
     "data": {
      "text/html": [
       "<div>\n",
       "<style scoped>\n",
       "    .dataframe tbody tr th:only-of-type {\n",
       "        vertical-align: middle;\n",
       "    }\n",
       "\n",
       "    .dataframe tbody tr th {\n",
       "        vertical-align: top;\n",
       "    }\n",
       "\n",
       "    .dataframe thead th {\n",
       "        text-align: right;\n",
       "    }\n",
       "</style>\n",
       "<table border=\"1\" class=\"dataframe\">\n",
       "  <thead>\n",
       "    <tr style=\"text-align: right;\">\n",
       "      <th></th>\n",
       "      <th>Unnamed: 0</th>\n",
       "      <th>station</th>\n",
       "      <th>phase</th>\n",
       "      <th>time</th>\n",
       "    </tr>\n",
       "  </thead>\n",
       "  <tbody>\n",
       "    <tr>\n",
       "      <th>0</th>\n",
       "      <td>0</td>\n",
       "      <td>FS09B</td>\n",
       "      <td>P</td>\n",
       "      <td>2012-10-01T00:04:09.141700Z</td>\n",
       "    </tr>\n",
       "    <tr>\n",
       "      <th>1</th>\n",
       "      <td>1</td>\n",
       "      <td>FS09B</td>\n",
       "      <td>P</td>\n",
       "      <td>2012-10-01T00:36:41.601700Z</td>\n",
       "    </tr>\n",
       "    <tr>\n",
       "      <th>2</th>\n",
       "      <td>2</td>\n",
       "      <td>FS09B</td>\n",
       "      <td>P</td>\n",
       "      <td>2012-10-01T00:55:43.061700Z</td>\n",
       "    </tr>\n",
       "    <tr>\n",
       "      <th>3</th>\n",
       "      <td>3</td>\n",
       "      <td>FS09B</td>\n",
       "      <td>P</td>\n",
       "      <td>2012-10-01T01:16:07.681700Z</td>\n",
       "    </tr>\n",
       "    <tr>\n",
       "      <th>4</th>\n",
       "      <td>4</td>\n",
       "      <td>FS09B</td>\n",
       "      <td>P</td>\n",
       "      <td>2012-10-01T01:41:37.561700Z</td>\n",
       "    </tr>\n",
       "    <tr>\n",
       "      <th>...</th>\n",
       "      <td>...</td>\n",
       "      <td>...</td>\n",
       "      <td>...</td>\n",
       "      <td>...</td>\n",
       "    </tr>\n",
       "    <tr>\n",
       "      <th>1219</th>\n",
       "      <td>1219</td>\n",
       "      <td>G25B</td>\n",
       "      <td>P</td>\n",
       "      <td>2012-10-14T04:50:49.077500Z</td>\n",
       "    </tr>\n",
       "    <tr>\n",
       "      <th>1220</th>\n",
       "      <td>1220</td>\n",
       "      <td>G25B</td>\n",
       "      <td>P</td>\n",
       "      <td>2012-10-14T04:51:20.781500Z</td>\n",
       "    </tr>\n",
       "    <tr>\n",
       "      <th>1221</th>\n",
       "      <td>1221</td>\n",
       "      <td>G25B</td>\n",
       "      <td>P</td>\n",
       "      <td>2012-10-14T04:56:46.781500Z</td>\n",
       "    </tr>\n",
       "    <tr>\n",
       "      <th>1222</th>\n",
       "      <td>1222</td>\n",
       "      <td>G25B</td>\n",
       "      <td>P</td>\n",
       "      <td>2012-10-14T04:58:18.253500Z</td>\n",
       "    </tr>\n",
       "    <tr>\n",
       "      <th>1223</th>\n",
       "      <td>1223</td>\n",
       "      <td>G25B</td>\n",
       "      <td>P</td>\n",
       "      <td>2012-10-14T05:08:42.061500Z</td>\n",
       "    </tr>\n",
       "  </tbody>\n",
       "</table>\n",
       "<p>1224 rows × 4 columns</p>\n",
       "</div>"
      ],
      "text/plain": [
       "      Unnamed: 0 station phase                         time\n",
       "0              0   FS09B     P  2012-10-01T00:04:09.141700Z\n",
       "1              1   FS09B     P  2012-10-01T00:36:41.601700Z\n",
       "2              2   FS09B     P  2012-10-01T00:55:43.061700Z\n",
       "3              3   FS09B     P  2012-10-01T01:16:07.681700Z\n",
       "4              4   FS09B     P  2012-10-01T01:41:37.561700Z\n",
       "...          ...     ...   ...                          ...\n",
       "1219        1219    G25B     P  2012-10-14T04:50:49.077500Z\n",
       "1220        1220    G25B     P  2012-10-14T04:51:20.781500Z\n",
       "1221        1221    G25B     P  2012-10-14T04:56:46.781500Z\n",
       "1222        1222    G25B     P  2012-10-14T04:58:18.253500Z\n",
       "1223        1223    G25B     P  2012-10-14T05:08:42.061500Z\n",
       "\n",
       "[1224 rows x 4 columns]"
      ]
     },
     "execution_count": 259,
     "metadata": {},
     "output_type": "execute_result"
    }
   ],
   "source": [
    "picks"
   ]
  },
  {
   "cell_type": "markdown",
   "id": "3fe8a8aa",
   "metadata": {},
   "source": [
    "  ## Velocoty Models"
   ]
  },
  {
   "cell_type": "code",
   "execution_count": 260,
   "id": "0f875771",
   "metadata": {},
   "outputs": [],
   "source": [
    "velocity_model = pyocto.VelocityModel0D(\n",
    "    p_velocity=7.0,\n",
    "    s_velocity=4.0,\n",
    "    tolerance=2.0,\n",
    ")"
   ]
  },
  {
   "cell_type": "markdown",
   "id": "0f6a5c8a",
   "metadata": {},
   "source": [
    "## The OctoAssociator class"
   ]
  },
  {
   "cell_type": "code",
   "execution_count": 261,
   "id": "c49c113f",
   "metadata": {},
   "outputs": [],
   "source": [
    "associator = pyocto.OctoAssociator.from_area(\n",
    "    lat=(40, 43.5),\n",
    "    lon=(-126.5, -123),\n",
    "    zlim=(300, 4000),\n",
    "    time_before=300,\n",
    "    velocity_model=velocity_model,\n",
    "    n_picks=10,\n",
    "    n_p_and_s_picks=4,\n",
    ")"
   ]
  },
  {
   "cell_type": "code",
   "execution_count": 262,
   "id": "b05ae625",
   "metadata": {
    "scrolled": false
   },
   "outputs": [
    {
     "data": {
      "text/plain": [
       "<Projected CRS: +proj=tmerc +lat_0=41.75 +lon_0=-124.75 +units=km  ...>\n",
       "Name: unknown\n",
       "Axis Info [cartesian]:\n",
       "- E[east]: Easting (kilometre)\n",
       "- N[north]: Northing (kilometre)\n",
       "Area of Use:\n",
       "- undefined\n",
       "Coordinate Operation:\n",
       "- name: unknown\n",
       "- method: Transverse Mercator\n",
       "Datum: World Geodetic System 1984\n",
       "- Ellipsoid: WGS 84\n",
       "- Prime Meridian: Greenwich"
      ]
     },
     "execution_count": 262,
     "metadata": {},
     "output_type": "execute_result"
    }
   ],
   "source": [
    "associator.crs"
   ]
  },
  {
   "cell_type": "code",
   "execution_count": 263,
   "id": "8563e5e5",
   "metadata": {},
   "outputs": [
    {
     "data": {
      "text/html": [
       "<div>\n",
       "<style scoped>\n",
       "    .dataframe tbody tr th:only-of-type {\n",
       "        vertical-align: middle;\n",
       "    }\n",
       "\n",
       "    .dataframe tbody tr th {\n",
       "        vertical-align: top;\n",
       "    }\n",
       "\n",
       "    .dataframe thead th {\n",
       "        text-align: right;\n",
       "    }\n",
       "</style>\n",
       "<table border=\"1\" class=\"dataframe\">\n",
       "  <thead>\n",
       "    <tr style=\"text-align: right;\">\n",
       "      <th></th>\n",
       "      <th>Unnamed: 0</th>\n",
       "      <th>id</th>\n",
       "      <th>longitude</th>\n",
       "      <th>latitude</th>\n",
       "      <th>elevation</th>\n",
       "      <th>x</th>\n",
       "      <th>y</th>\n",
       "      <th>z</th>\n",
       "    </tr>\n",
       "  </thead>\n",
       "  <tbody>\n",
       "    <tr>\n",
       "      <th>0</th>\n",
       "      <td>0</td>\n",
       "      <td>FS09B</td>\n",
       "      <td>-124.808502</td>\n",
       "      <td>40.438702</td>\n",
       "      <td>-2161.0</td>\n",
       "      <td>-4.963595</td>\n",
       "      <td>-145.625525</td>\n",
       "      <td>2.161</td>\n",
       "    </tr>\n",
       "    <tr>\n",
       "      <th>1</th>\n",
       "      <td>1</td>\n",
       "      <td>FS13B</td>\n",
       "      <td>-124.806503</td>\n",
       "      <td>40.493099</td>\n",
       "      <td>-2332.0</td>\n",
       "      <td>-4.790124</td>\n",
       "      <td>-139.585196</td>\n",
       "      <td>2.332</td>\n",
       "    </tr>\n",
       "    <tr>\n",
       "      <th>2</th>\n",
       "      <td>2</td>\n",
       "      <td>G10B</td>\n",
       "      <td>-125.553299</td>\n",
       "      <td>40.677898</td>\n",
       "      <td>-2936.0</td>\n",
       "      <td>-67.913996</td>\n",
       "      <td>-118.755232</td>\n",
       "      <td>2.936</td>\n",
       "    </tr>\n",
       "    <tr>\n",
       "      <th>3</th>\n",
       "      <td>3</td>\n",
       "      <td>G19B</td>\n",
       "      <td>-125.773598</td>\n",
       "      <td>41.307400</td>\n",
       "      <td>-3071.0</td>\n",
       "      <td>-85.719842</td>\n",
       "      <td>-48.651523</td>\n",
       "      <td>3.071</td>\n",
       "    </tr>\n",
       "    <tr>\n",
       "      <th>4</th>\n",
       "      <td>4</td>\n",
       "      <td>G25B</td>\n",
       "      <td>-124.586098</td>\n",
       "      <td>41.919899</td>\n",
       "      <td>-430.0</td>\n",
       "      <td>13.596424</td>\n",
       "      <td>18.883688</td>\n",
       "      <td>0.430</td>\n",
       "    </tr>\n",
       "  </tbody>\n",
       "</table>\n",
       "</div>"
      ],
      "text/plain": [
       "   Unnamed: 0     id   longitude   latitude  elevation          x           y  \\\n",
       "0           0  FS09B -124.808502  40.438702    -2161.0  -4.963595 -145.625525   \n",
       "1           1  FS13B -124.806503  40.493099    -2332.0  -4.790124 -139.585196   \n",
       "2           2   G10B -125.553299  40.677898    -2936.0 -67.913996 -118.755232   \n",
       "3           3   G19B -125.773598  41.307400    -3071.0 -85.719842  -48.651523   \n",
       "4           4   G25B -124.586098  41.919899     -430.0  13.596424   18.883688   \n",
       "\n",
       "       z  \n",
       "0  2.161  \n",
       "1  2.332  \n",
       "2  2.936  \n",
       "3  3.071  \n",
       "4  0.430  "
      ]
     },
     "execution_count": 263,
     "metadata": {},
     "output_type": "execute_result"
    }
   ],
   "source": [
    "associator.transform_stations(stations)\n",
    "stations"
   ]
  },
  {
   "cell_type": "markdown",
   "id": "27c78b5c",
   "metadata": {},
   "source": [
    "## Convert the timestamps to floats"
   ]
  },
  {
   "cell_type": "code",
   "execution_count": 264,
   "id": "c99c738e",
   "metadata": {
    "scrolled": true
   },
   "outputs": [],
   "source": [
    "picks[\"time\"] = picks[\"time\"].apply(lambda x: datetime.datetime.strptime(x,'%Y-%m-%dT%H:%M:%S.%fZ'))"
   ]
  },
  {
   "cell_type": "code",
   "execution_count": 265,
   "id": "d64e4b3a",
   "metadata": {},
   "outputs": [
    {
     "data": {
      "text/html": [
       "<div>\n",
       "<style scoped>\n",
       "    .dataframe tbody tr th:only-of-type {\n",
       "        vertical-align: middle;\n",
       "    }\n",
       "\n",
       "    .dataframe tbody tr th {\n",
       "        vertical-align: top;\n",
       "    }\n",
       "\n",
       "    .dataframe thead th {\n",
       "        text-align: right;\n",
       "    }\n",
       "</style>\n",
       "<table border=\"1\" class=\"dataframe\">\n",
       "  <thead>\n",
       "    <tr style=\"text-align: right;\">\n",
       "      <th></th>\n",
       "      <th>Unnamed: 0</th>\n",
       "      <th>station</th>\n",
       "      <th>phase</th>\n",
       "      <th>time</th>\n",
       "    </tr>\n",
       "  </thead>\n",
       "  <tbody>\n",
       "    <tr>\n",
       "      <th>0</th>\n",
       "      <td>0</td>\n",
       "      <td>FS09B</td>\n",
       "      <td>P</td>\n",
       "      <td>1.349050e+09</td>\n",
       "    </tr>\n",
       "    <tr>\n",
       "      <th>1</th>\n",
       "      <td>1</td>\n",
       "      <td>FS09B</td>\n",
       "      <td>P</td>\n",
       "      <td>1.349052e+09</td>\n",
       "    </tr>\n",
       "    <tr>\n",
       "      <th>2</th>\n",
       "      <td>2</td>\n",
       "      <td>FS09B</td>\n",
       "      <td>P</td>\n",
       "      <td>1.349053e+09</td>\n",
       "    </tr>\n",
       "    <tr>\n",
       "      <th>3</th>\n",
       "      <td>3</td>\n",
       "      <td>FS09B</td>\n",
       "      <td>P</td>\n",
       "      <td>1.349054e+09</td>\n",
       "    </tr>\n",
       "    <tr>\n",
       "      <th>4</th>\n",
       "      <td>4</td>\n",
       "      <td>FS09B</td>\n",
       "      <td>P</td>\n",
       "      <td>1.349056e+09</td>\n",
       "    </tr>\n",
       "    <tr>\n",
       "      <th>...</th>\n",
       "      <td>...</td>\n",
       "      <td>...</td>\n",
       "      <td>...</td>\n",
       "      <td>...</td>\n",
       "    </tr>\n",
       "    <tr>\n",
       "      <th>1219</th>\n",
       "      <td>1219</td>\n",
       "      <td>G25B</td>\n",
       "      <td>P</td>\n",
       "      <td>1.350190e+09</td>\n",
       "    </tr>\n",
       "    <tr>\n",
       "      <th>1220</th>\n",
       "      <td>1220</td>\n",
       "      <td>G25B</td>\n",
       "      <td>P</td>\n",
       "      <td>1.350190e+09</td>\n",
       "    </tr>\n",
       "    <tr>\n",
       "      <th>1221</th>\n",
       "      <td>1221</td>\n",
       "      <td>G25B</td>\n",
       "      <td>P</td>\n",
       "      <td>1.350191e+09</td>\n",
       "    </tr>\n",
       "    <tr>\n",
       "      <th>1222</th>\n",
       "      <td>1222</td>\n",
       "      <td>G25B</td>\n",
       "      <td>P</td>\n",
       "      <td>1.350191e+09</td>\n",
       "    </tr>\n",
       "    <tr>\n",
       "      <th>1223</th>\n",
       "      <td>1223</td>\n",
       "      <td>G25B</td>\n",
       "      <td>P</td>\n",
       "      <td>1.350191e+09</td>\n",
       "    </tr>\n",
       "  </tbody>\n",
       "</table>\n",
       "<p>1224 rows × 4 columns</p>\n",
       "</div>"
      ],
      "text/plain": [
       "      Unnamed: 0 station phase          time\n",
       "0              0   FS09B     P  1.349050e+09\n",
       "1              1   FS09B     P  1.349052e+09\n",
       "2              2   FS09B     P  1.349053e+09\n",
       "3              3   FS09B     P  1.349054e+09\n",
       "4              4   FS09B     P  1.349056e+09\n",
       "...          ...     ...   ...           ...\n",
       "1219        1219    G25B     P  1.350190e+09\n",
       "1220        1220    G25B     P  1.350190e+09\n",
       "1221        1221    G25B     P  1.350191e+09\n",
       "1222        1222    G25B     P  1.350191e+09\n",
       "1223        1223    G25B     P  1.350191e+09\n",
       "\n",
       "[1224 rows x 4 columns]"
      ]
     },
     "execution_count": 265,
     "metadata": {},
     "output_type": "execute_result"
    }
   ],
   "source": [
    "picks[\"time\"] = picks[\"time\"].apply(lambda x: x.timestamp())\n",
    "picks"
   ]
  },
  {
   "cell_type": "code",
   "execution_count": 266,
   "id": "663c952e",
   "metadata": {},
   "outputs": [
    {
     "data": {
      "text/plain": [
       "float"
      ]
     },
     "execution_count": 266,
     "metadata": {},
     "output_type": "execute_result"
    }
   ],
   "source": [
    "type(1.349050e+09)"
   ]
  },
  {
   "cell_type": "markdown",
   "id": "bbdc8236",
   "metadata": {},
   "source": [
    "## Delete unnecessary columns"
   ]
  },
  {
   "cell_type": "code",
   "execution_count": 267,
   "id": "7742a59a",
   "metadata": {},
   "outputs": [
    {
     "data": {
      "text/html": [
       "<div>\n",
       "<style scoped>\n",
       "    .dataframe tbody tr th:only-of-type {\n",
       "        vertical-align: middle;\n",
       "    }\n",
       "\n",
       "    .dataframe tbody tr th {\n",
       "        vertical-align: top;\n",
       "    }\n",
       "\n",
       "    .dataframe thead th {\n",
       "        text-align: right;\n",
       "    }\n",
       "</style>\n",
       "<table border=\"1\" class=\"dataframe\">\n",
       "  <thead>\n",
       "    <tr style=\"text-align: right;\">\n",
       "      <th></th>\n",
       "      <th>station</th>\n",
       "      <th>phase</th>\n",
       "      <th>time</th>\n",
       "    </tr>\n",
       "  </thead>\n",
       "  <tbody>\n",
       "    <tr>\n",
       "      <th>0</th>\n",
       "      <td>FS09B</td>\n",
       "      <td>P</td>\n",
       "      <td>1.349050e+09</td>\n",
       "    </tr>\n",
       "    <tr>\n",
       "      <th>1</th>\n",
       "      <td>FS09B</td>\n",
       "      <td>P</td>\n",
       "      <td>1.349052e+09</td>\n",
       "    </tr>\n",
       "    <tr>\n",
       "      <th>2</th>\n",
       "      <td>FS09B</td>\n",
       "      <td>P</td>\n",
       "      <td>1.349053e+09</td>\n",
       "    </tr>\n",
       "    <tr>\n",
       "      <th>3</th>\n",
       "      <td>FS09B</td>\n",
       "      <td>P</td>\n",
       "      <td>1.349054e+09</td>\n",
       "    </tr>\n",
       "    <tr>\n",
       "      <th>4</th>\n",
       "      <td>FS09B</td>\n",
       "      <td>P</td>\n",
       "      <td>1.349056e+09</td>\n",
       "    </tr>\n",
       "    <tr>\n",
       "      <th>...</th>\n",
       "      <td>...</td>\n",
       "      <td>...</td>\n",
       "      <td>...</td>\n",
       "    </tr>\n",
       "    <tr>\n",
       "      <th>1219</th>\n",
       "      <td>G25B</td>\n",
       "      <td>P</td>\n",
       "      <td>1.350190e+09</td>\n",
       "    </tr>\n",
       "    <tr>\n",
       "      <th>1220</th>\n",
       "      <td>G25B</td>\n",
       "      <td>P</td>\n",
       "      <td>1.350190e+09</td>\n",
       "    </tr>\n",
       "    <tr>\n",
       "      <th>1221</th>\n",
       "      <td>G25B</td>\n",
       "      <td>P</td>\n",
       "      <td>1.350191e+09</td>\n",
       "    </tr>\n",
       "    <tr>\n",
       "      <th>1222</th>\n",
       "      <td>G25B</td>\n",
       "      <td>P</td>\n",
       "      <td>1.350191e+09</td>\n",
       "    </tr>\n",
       "    <tr>\n",
       "      <th>1223</th>\n",
       "      <td>G25B</td>\n",
       "      <td>P</td>\n",
       "      <td>1.350191e+09</td>\n",
       "    </tr>\n",
       "  </tbody>\n",
       "</table>\n",
       "<p>1224 rows × 3 columns</p>\n",
       "</div>"
      ],
      "text/plain": [
       "     station phase          time\n",
       "0      FS09B     P  1.349050e+09\n",
       "1      FS09B     P  1.349052e+09\n",
       "2      FS09B     P  1.349053e+09\n",
       "3      FS09B     P  1.349054e+09\n",
       "4      FS09B     P  1.349056e+09\n",
       "...      ...   ...           ...\n",
       "1219    G25B     P  1.350190e+09\n",
       "1220    G25B     P  1.350190e+09\n",
       "1221    G25B     P  1.350191e+09\n",
       "1222    G25B     P  1.350191e+09\n",
       "1223    G25B     P  1.350191e+09\n",
       "\n",
       "[1224 rows x 3 columns]"
      ]
     },
     "execution_count": 267,
     "metadata": {},
     "output_type": "execute_result"
    }
   ],
   "source": [
    "picks.drop(columns=\"Unnamed: 0\", inplace=True)\n",
    "picks"
   ]
  },
  {
   "cell_type": "code",
   "execution_count": 268,
   "id": "3d556d8f",
   "metadata": {},
   "outputs": [
    {
     "data": {
      "text/html": [
       "<div>\n",
       "<style scoped>\n",
       "    .dataframe tbody tr th:only-of-type {\n",
       "        vertical-align: middle;\n",
       "    }\n",
       "\n",
       "    .dataframe tbody tr th {\n",
       "        vertical-align: top;\n",
       "    }\n",
       "\n",
       "    .dataframe thead th {\n",
       "        text-align: right;\n",
       "    }\n",
       "</style>\n",
       "<table border=\"1\" class=\"dataframe\">\n",
       "  <thead>\n",
       "    <tr style=\"text-align: right;\">\n",
       "      <th></th>\n",
       "      <th>id</th>\n",
       "      <th>longitude</th>\n",
       "      <th>latitude</th>\n",
       "      <th>elevation</th>\n",
       "      <th>x</th>\n",
       "      <th>y</th>\n",
       "      <th>z</th>\n",
       "    </tr>\n",
       "  </thead>\n",
       "  <tbody>\n",
       "    <tr>\n",
       "      <th>0</th>\n",
       "      <td>FS09B</td>\n",
       "      <td>-124.808502</td>\n",
       "      <td>40.438702</td>\n",
       "      <td>-2161.0</td>\n",
       "      <td>-4.963595</td>\n",
       "      <td>-145.625525</td>\n",
       "      <td>2.161</td>\n",
       "    </tr>\n",
       "    <tr>\n",
       "      <th>1</th>\n",
       "      <td>FS13B</td>\n",
       "      <td>-124.806503</td>\n",
       "      <td>40.493099</td>\n",
       "      <td>-2332.0</td>\n",
       "      <td>-4.790124</td>\n",
       "      <td>-139.585196</td>\n",
       "      <td>2.332</td>\n",
       "    </tr>\n",
       "    <tr>\n",
       "      <th>2</th>\n",
       "      <td>G10B</td>\n",
       "      <td>-125.553299</td>\n",
       "      <td>40.677898</td>\n",
       "      <td>-2936.0</td>\n",
       "      <td>-67.913996</td>\n",
       "      <td>-118.755232</td>\n",
       "      <td>2.936</td>\n",
       "    </tr>\n",
       "    <tr>\n",
       "      <th>3</th>\n",
       "      <td>G19B</td>\n",
       "      <td>-125.773598</td>\n",
       "      <td>41.307400</td>\n",
       "      <td>-3071.0</td>\n",
       "      <td>-85.719842</td>\n",
       "      <td>-48.651523</td>\n",
       "      <td>3.071</td>\n",
       "    </tr>\n",
       "    <tr>\n",
       "      <th>4</th>\n",
       "      <td>G25B</td>\n",
       "      <td>-124.586098</td>\n",
       "      <td>41.919899</td>\n",
       "      <td>-430.0</td>\n",
       "      <td>13.596424</td>\n",
       "      <td>18.883688</td>\n",
       "      <td>0.430</td>\n",
       "    </tr>\n",
       "  </tbody>\n",
       "</table>\n",
       "</div>"
      ],
      "text/plain": [
       "      id   longitude   latitude  elevation          x           y      z\n",
       "0  FS09B -124.808502  40.438702    -2161.0  -4.963595 -145.625525  2.161\n",
       "1  FS13B -124.806503  40.493099    -2332.0  -4.790124 -139.585196  2.332\n",
       "2   G10B -125.553299  40.677898    -2936.0 -67.913996 -118.755232  2.936\n",
       "3   G19B -125.773598  41.307400    -3071.0 -85.719842  -48.651523  3.071\n",
       "4   G25B -124.586098  41.919899     -430.0  13.596424   18.883688  0.430"
      ]
     },
     "execution_count": 268,
     "metadata": {},
     "output_type": "execute_result"
    }
   ],
   "source": [
    "stations.drop(columns=\"Unnamed: 0\", inplace=True)\n",
    "stations"
   ]
  },
  {
   "cell_type": "markdown",
   "id": "a0227ee6",
   "metadata": {},
   "source": [
    "## Apply  the associator"
   ]
  },
  {
   "cell_type": "code",
   "execution_count": 269,
   "id": "261a46ca",
   "metadata": {},
   "outputs": [],
   "source": [
    "events, assignments = associator.associate(picks, stations)"
   ]
  },
  {
   "cell_type": "code",
   "execution_count": 270,
   "id": "7c62f214",
   "metadata": {},
   "outputs": [
    {
     "data": {
      "text/html": [
       "<div>\n",
       "<style scoped>\n",
       "    .dataframe tbody tr th:only-of-type {\n",
       "        vertical-align: middle;\n",
       "    }\n",
       "\n",
       "    .dataframe tbody tr th {\n",
       "        vertical-align: top;\n",
       "    }\n",
       "\n",
       "    .dataframe thead th {\n",
       "        text-align: right;\n",
       "    }\n",
       "</style>\n",
       "<table border=\"1\" class=\"dataframe\">\n",
       "  <thead>\n",
       "    <tr style=\"text-align: right;\">\n",
       "      <th></th>\n",
       "    </tr>\n",
       "  </thead>\n",
       "  <tbody>\n",
       "  </tbody>\n",
       "</table>\n",
       "</div>"
      ],
      "text/plain": [
       "Empty DataFrame\n",
       "Columns: []\n",
       "Index: []"
      ]
     },
     "execution_count": 270,
     "metadata": {},
     "output_type": "execute_result"
    }
   ],
   "source": [
    "events"
   ]
  },
  {
   "cell_type": "code",
   "execution_count": 271,
   "id": "e6767f3c",
   "metadata": {},
   "outputs": [
    {
     "data": {
      "text/html": [
       "<div>\n",
       "<style scoped>\n",
       "    .dataframe tbody tr th:only-of-type {\n",
       "        vertical-align: middle;\n",
       "    }\n",
       "\n",
       "    .dataframe tbody tr th {\n",
       "        vertical-align: top;\n",
       "    }\n",
       "\n",
       "    .dataframe thead th {\n",
       "        text-align: right;\n",
       "    }\n",
       "</style>\n",
       "<table border=\"1\" class=\"dataframe\">\n",
       "  <thead>\n",
       "    <tr style=\"text-align: right;\">\n",
       "      <th></th>\n",
       "      <th>event_idx</th>\n",
       "      <th>pick_idx</th>\n",
       "      <th>residual</th>\n",
       "      <th>station</th>\n",
       "      <th>phase</th>\n",
       "      <th>time</th>\n",
       "    </tr>\n",
       "  </thead>\n",
       "  <tbody>\n",
       "  </tbody>\n",
       "</table>\n",
       "</div>"
      ],
      "text/plain": [
       "Empty DataFrame\n",
       "Columns: [event_idx, pick_idx, residual, station, phase, time]\n",
       "Index: []"
      ]
     },
     "execution_count": 271,
     "metadata": {},
     "output_type": "execute_result"
    }
   ],
   "source": [
    "assignments"
   ]
  },
  {
   "cell_type": "code",
   "execution_count": null,
   "id": "ff00602d",
   "metadata": {},
   "outputs": [],
   "source": []
  },
  {
   "cell_type": "code",
   "execution_count": null,
   "id": "1e954056",
   "metadata": {},
   "outputs": [],
   "source": []
  },
  {
   "cell_type": "code",
   "execution_count": null,
   "id": "d32f6c7d",
   "metadata": {},
   "outputs": [],
   "source": []
  }
 ],
 "metadata": {
  "kernelspec": {
   "display_name": "seismo (SHARED)",
   "language": "python",
   "name": "seismo"
  },
  "language_info": {
   "codemirror_mode": {
    "name": "ipython",
    "version": 3
   },
   "file_extension": ".py",
   "mimetype": "text/x-python",
   "name": "python",
   "nbconvert_exporter": "python",
   "pygments_lexer": "ipython3",
   "version": "3.9.18"
  }
 },
 "nbformat": 4,
 "nbformat_minor": 5
}
