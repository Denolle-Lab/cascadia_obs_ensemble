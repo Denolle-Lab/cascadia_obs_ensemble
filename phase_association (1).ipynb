{
 "cells": [
  {
   "cell_type": "code",
   "execution_count": 29,
   "id": "a1b27a34",
   "metadata": {},
   "outputs": [
    {
     "name": "stdout",
     "output_type": "stream",
     "text": [
      "alembic==1.7.7\r\n",
      "argon2-cffi==21.3.0\r\n",
      "argon2-cffi-bindings==21.2.0\r\n",
      "async-generator==1.10\r\n",
      "attrs==22.2.0\r\n",
      "Babel==2.5.1\r\n",
      "backcall==0.2.0\r\n",
      "bleach==4.1.0\r\n",
      "certipy==0.1.3\r\n",
      "cffi==1.15.1\r\n",
      "chardet==3.0.4\r\n",
      "cryptography==40.0.2\r\n",
      "dataclasses==0.8\r\n",
      "dbus-python==1.2.4\r\n",
      "decorator==4.2.1\r\n",
      "defusedxml==0.7.1\r\n",
      "dnspython==1.15.0\r\n",
      "entrypoints==0.4\r\n",
      "file-magic==0.3.0\r\n",
      "gpg==1.13.1\r\n",
      "greenlet==2.0.2\r\n",
      "gssapi==1.5.1\r\n",
      "html5lib==0.999999999\r\n",
      "idna==2.5\r\n",
      "importlib-metadata==4.8.3\r\n",
      "importlib-resources==5.4.0\r\n",
      "iotop==0.6\r\n",
      "ipaclient==4.9.11\r\n",
      "ipalib==4.9.11\r\n",
      "ipaplatform==4.9.11\r\n",
      "ipapython==4.9.11\r\n",
      "ipykernel==5.5.6\r\n",
      "ipython==7.16.3\r\n",
      "ipython-genutils==0.2.0\r\n",
      "isc==2.0\r\n",
      "jedi==0.17.2\r\n",
      "jhub-remote-user-authenticator==0.1.0\r\n",
      "Jinja2==3.0.3\r\n",
      "jsonschema==3.2.0\r\n",
      "jupyter-client==7.1.2\r\n",
      "jupyter-core==4.9.2\r\n",
      "jupyter-telemetry==0.1.0\r\n",
      "jupyterhub==2.3.1\r\n",
      "jupyterlab-pygments==0.1.2\r\n",
      "jwcrypto==0.5.0\r\n",
      "libcomps==0.1.18\r\n",
      "lxml==4.2.3\r\n",
      "Mako==1.1.6\r\n",
      "MarkupSafe==2.0.1\r\n",
      "mistune==0.8.4\r\n",
      "nbclient==0.5.9\r\n",
      "nbconvert==6.0.7\r\n",
      "nbformat==5.1.3\r\n",
      "nest-asyncio==1.5.8\r\n",
      "netaddr==0.7.19\r\n",
      "netifaces==0.10.6\r\n",
      "nftables==0.1\r\n",
      "notebook==6.4.10\r\n",
      "oauthlib==3.2.2\r\n",
      "packaging==21.3\r\n",
      "pamela==1.1.0\r\n",
      "pandocfilters==1.5.0\r\n",
      "parso==0.7.1\r\n",
      "perf==0.1\r\n",
      "pexpect==4.3.1\r\n",
      "pickleshare==0.7.5\r\n",
      "ply==3.9\r\n",
      "prometheus-client==0.17.1\r\n",
      "prompt-toolkit==3.0.36\r\n",
      "psutil==5.4.3\r\n",
      "ptyprocess==0.5.2\r\n",
      "pyasn1==0.3.7\r\n",
      "pyasn1-modules==0.1.5\r\n",
      "pycairo==1.16.3\r\n",
      "pycparser==2.14\r\n",
      "pydbus==0.6.0\r\n",
      "Pygments==2.14.0\r\n",
      "pygobject==3.28.3\r\n",
      "pyOpenSSL==23.2.0\r\n",
      "pyparsing==3.1.1\r\n",
      "pyrsistent==0.18.0\r\n",
      "PySocks==1.6.8\r\n",
      "python-augeas==0.5.0\r\n",
      "python-dateutil==2.6.1\r\n",
      "python-json-logger==2.0.7\r\n",
      "python-ldap==3.3.1\r\n",
      "python-linux-procfs==0.7.0\r\n",
      "python-yubico==1.3.2\r\n",
      "pytz==2017.2\r\n",
      "pyudev==0.21.0\r\n",
      "pyusb==1.0.0\r\n",
      "PyYAML==3.12\r\n",
      "pyzmq==25.1.2\r\n",
      "qrcode==5.1\r\n",
      "requests==2.20.0\r\n",
      "rpm==4.14.3\r\n",
      "ruamel.yaml==0.18.3\r\n",
      "ruamel.yaml.clib==0.2.8\r\n",
      "selinux==2.9\r\n",
      "semantic-version==2.10.0\r\n",
      "Send2Trash==1.8.2\r\n",
      "sepolicy==1.1\r\n",
      "setools==4.3.0\r\n",
      "setroubleshoot==1.1\r\n",
      "setuptools-rust==1.1.2\r\n",
      "six==1.11.0\r\n",
      "slip==0.6.4\r\n",
      "slip.dbus==0.6.4\r\n",
      "sos==4.5.5\r\n",
      "SQLAlchemy==1.4.50\r\n",
      "SSSDConfig==2.8.2\r\n",
      "sudospawner==0.5.2\r\n",
      "syspurpose==1.28.36\r\n",
      "systemd-python==234\r\n",
      "terminado==0.12.1\r\n",
      "testpath==0.6.0\r\n",
      "tornado==6.1\r\n",
      "traitlets==4.3.3\r\n",
      "typing-extensions==4.1.1\r\n",
      "urllib3==1.24.2\r\n",
      "wcwidth==0.2.12\r\n",
      "webencodings==0.5.1\r\n",
      "zipp==3.6.0\r\n"
     ]
    }
   ],
   "source": [
    "!pip3 freeze"
   ]
  },
  {
   "cell_type": "code",
   "execution_count": 34,
   "id": "45e0b4d8",
   "metadata": {},
   "outputs": [
    {
     "name": "stdout",
     "output_type": "stream",
     "text": [
      "Collecting pyocto\n",
      "\u001b[31m  Could not find a version that satisfies the requirement pyocto (from versions: )\u001b[0m\n",
      "\u001b[31mNo matching distribution found for pyocto\u001b[0m\n"
     ]
    }
   ],
   "source": [
    "!pip3 install pyocto pyarrow"
   ]
  },
  {
   "cell_type": "code",
   "execution_count": 4,
   "id": "91c28442",
   "metadata": {},
   "outputs": [],
   "source": [
    "import pyocto\n",
    "import pandas as pd\n",
    "import datetime\n",
    "import matplotlib.pyplot as plt"
   ]
  },
  {
   "cell_type": "code",
   "execution_count": 25,
   "id": "dc050e11",
   "metadata": {},
   "outputs": [],
   "source": [
    "picks = pd.read_csv(\"~/notebooks/data/phase_association/pick\")\n",
    "stations = pd.read_csv(\"~/notebooks/data/phase_association/stations\")"
   ]
  },
  {
   "cell_type": "code",
   "execution_count": 26,
   "id": "0f875771",
   "metadata": {},
   "outputs": [
    {
     "ename": "AttributeError",
     "evalue": "module 'pyocto' has no attribute 'VelocityModel0D'",
     "output_type": "error",
     "traceback": [
      "\u001b[0;31m---------------------------------------------------------------------------\u001b[0m",
      "\u001b[0;31mAttributeError\u001b[0m                            Traceback (most recent call last)",
      "Cell \u001b[0;32mIn[26], line 1\u001b[0m\n\u001b[0;32m----> 1\u001b[0m velocity_model \u001b[38;5;241m=\u001b[39m \u001b[43mpyocto\u001b[49m\u001b[38;5;241;43m.\u001b[39;49m\u001b[43mVelocityModel0D\u001b[49m(\n\u001b[1;32m      2\u001b[0m     p_velocity\u001b[38;5;241m=\u001b[39m\u001b[38;5;241m7.0\u001b[39m,\n\u001b[1;32m      3\u001b[0m     s_velocity\u001b[38;5;241m=\u001b[39m\u001b[38;5;241m4.0\u001b[39m,\n\u001b[1;32m      4\u001b[0m     tolerance\u001b[38;5;241m=\u001b[39m\u001b[38;5;241m2.0\u001b[39m,\n\u001b[1;32m      5\u001b[0m )\n",
      "\u001b[0;31mAttributeError\u001b[0m: module 'pyocto' has no attribute 'VelocityModel0D'"
     ]
    }
   ],
   "source": [
    "velocity_model = pyocto.VelocityModel0D(\n",
    "    p_velocity=7.0,\n",
    "    s_velocity=4.0,\n",
    "    tolerance=2.0,\n",
    ")"
   ]
  },
  {
   "cell_type": "code",
   "execution_count": null,
   "id": "8b7293ac",
   "metadata": {},
   "outputs": [],
   "source": []
  },
  {
   "cell_type": "code",
   "execution_count": null,
   "id": "2013b2b2",
   "metadata": {},
   "outputs": [],
   "source": []
  },
  {
   "cell_type": "code",
   "execution_count": null,
   "id": "98c59fb1",
   "metadata": {},
   "outputs": [],
   "source": []
  },
  {
   "cell_type": "code",
   "execution_count": 5,
   "id": "c49c113f",
   "metadata": {},
   "outputs": [
    {
     "ename": "NameError",
     "evalue": "name 'velocity_model' is not defined",
     "output_type": "error",
     "traceback": [
      "\u001b[0;31m---------------------------------------------------------------------------\u001b[0m",
      "\u001b[0;31mNameError\u001b[0m                                 Traceback (most recent call last)",
      "Cell \u001b[0;32mIn[5], line 6\u001b[0m\n\u001b[1;32m      1\u001b[0m associator \u001b[38;5;241m=\u001b[39m pyocto\u001b[38;5;241m.\u001b[39mOctoAssociator\u001b[38;5;241m.\u001b[39mfrom_area(\n\u001b[1;32m      2\u001b[0m     lat\u001b[38;5;241m=\u001b[39m(\u001b[38;5;241m42\u001b[39m, \u001b[38;5;241m50\u001b[39m),\n\u001b[1;32m      3\u001b[0m     lon\u001b[38;5;241m=\u001b[39m(\u001b[38;5;241m-\u001b[39m\u001b[38;5;241m126\u001b[39m, \u001b[38;5;241m-\u001b[39m\u001b[38;5;241m123\u001b[39m),\n\u001b[1;32m      4\u001b[0m     zlim\u001b[38;5;241m=\u001b[39m(\u001b[38;5;241m0\u001b[39m, \u001b[38;5;241m200\u001b[39m),\n\u001b[1;32m      5\u001b[0m     time_before\u001b[38;5;241m=\u001b[39m\u001b[38;5;241m300\u001b[39m,\n\u001b[0;32m----> 6\u001b[0m     velocity_model\u001b[38;5;241m=\u001b[39m\u001b[43mvelocity_model\u001b[49m,\n\u001b[1;32m      7\u001b[0m     n_picks\u001b[38;5;241m=\u001b[39m\u001b[38;5;241m10\u001b[39m,\n\u001b[1;32m      8\u001b[0m     n_p_and_s_picks\u001b[38;5;241m=\u001b[39m\u001b[38;5;241m4\u001b[39m,\n\u001b[1;32m      9\u001b[0m )\n",
      "\u001b[0;31mNameError\u001b[0m: name 'velocity_model' is not defined"
     ]
    }
   ],
   "source": [
    "associator = pyocto.OctoAssociator.from_area(\n",
    "    lat=(42, 50),\n",
    "    lon=(-126, -123),\n",
    "    zlim=(0, 200),\n",
    "    time_before=300,\n",
    "    velocity_model=velocity_model,\n",
    "    n_picks=10,\n",
    "    n_p_and_s_picks=4,\n",
    ")"
   ]
  },
  {
   "cell_type": "code",
   "execution_count": null,
   "id": "83ac3451",
   "metadata": {},
   "outputs": [],
   "source": []
  }
 ],
 "metadata": {
  "kernelspec": {
   "display_name": "seismo (SHARED)",
   "language": "python",
   "name": "seismo"
  },
  "language_info": {
   "codemirror_mode": {
    "name": "ipython",
    "version": 3
   },
   "file_extension": ".py",
   "mimetype": "text/x-python",
   "name": "python",
   "nbconvert_exporter": "python",
   "pygments_lexer": "ipython3",
   "version": "3.9.18"
  }
 },
 "nbformat": 4,
 "nbformat_minor": 5
}
