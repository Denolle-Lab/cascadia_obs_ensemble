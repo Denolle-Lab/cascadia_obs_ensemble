{
 "cells": [
  {
   "cell_type": "code",
   "execution_count": 2,
   "id": "ecbf4dbb",
   "metadata": {},
   "outputs": [],
   "source": [
    "import pandas as pd\n",
    "import numpy as np\n",
    "import obspy\n",
    "\n",
    "from obspy.clients.fdsn import Client\n",
    "from pnwstore.mseed import WaveformClient\n",
    "from datetime import datetime\n",
    "from matplotlib import pyplot as plt\n",
    "from obspy import UTCDateTime\n",
    "\n",
    "from tqdm import tqdm\n",
    "from obspy.geodetics import locations2degrees, degrees2kilometers"
   ]
  },
  {
   "cell_type": "code",
   "execution_count": 11,
   "id": "862a6033",
   "metadata": {},
   "outputs": [],
   "source": [
    "t1 = pd.Timestamp('2016-06-04 00:15:00.000000+0000', tz='UTC')\n",
    "t2 = pd.Timestamp('2016-06-04 00:45:59.999999+0000', tz='UTC')"
   ]
  },
  {
   "cell_type": "code",
   "execution_count": 12,
   "id": "999351a4",
   "metadata": {},
   "outputs": [
    {
     "name": "stderr",
     "output_type": "stream",
     "text": [
      "/tmp/ipykernel_3497953/100770907.py:5: SettingWithCopyWarning: \n",
      "A value is trying to be set on a copy of a slice from a DataFrame.\n",
      "Try using .loc[row_indexer,col_indexer] = value instead\n",
      "\n",
      "See the caveats in the documentation: https://pandas.pydata.org/pandas-docs/stable/user_guide/indexing.html#returning-a-view-versus-a-copy\n",
      "  mycatalog['datetime'] = pd.to_datetime(mycatalog['time'], utc = True)\n"
     ]
    },
    {
     "data": {
      "text/html": [
       "<div>\n",
       "<style scoped>\n",
       "    .dataframe tbody tr th:only-of-type {\n",
       "        vertical-align: middle;\n",
       "    }\n",
       "\n",
       "    .dataframe tbody tr th {\n",
       "        vertical-align: top;\n",
       "    }\n",
       "\n",
       "    .dataframe thead th {\n",
       "        text-align: right;\n",
       "    }\n",
       "</style>\n",
       "<table border=\"1\" class=\"dataframe\">\n",
       "  <thead>\n",
       "    <tr style=\"text-align: right;\">\n",
       "      <th></th>\n",
       "      <th>Unnamed: 0</th>\n",
       "      <th>idx</th>\n",
       "      <th>time</th>\n",
       "      <th>x</th>\n",
       "      <th>y</th>\n",
       "      <th>z</th>\n",
       "      <th>picks</th>\n",
       "      <th>latitude</th>\n",
       "      <th>longitude</th>\n",
       "      <th>depth</th>\n",
       "      <th>event_idx</th>\n",
       "      <th>pick_idx</th>\n",
       "      <th>residual</th>\n",
       "      <th>station</th>\n",
       "      <th>phase</th>\n",
       "      <th>time_pick</th>\n",
       "      <th>datetime</th>\n",
       "    </tr>\n",
       "  </thead>\n",
       "  <tbody>\n",
       "    <tr>\n",
       "      <th>0</th>\n",
       "      <td>0</td>\n",
       "      <td>0</td>\n",
       "      <td>2016-06-04 00:35:30.430365+00:00</td>\n",
       "      <td>-49.492017</td>\n",
       "      <td>-52.653525</td>\n",
       "      <td>45.703125</td>\n",
       "      <td>12</td>\n",
       "      <td>44.024477</td>\n",
       "      <td>-126.117313</td>\n",
       "      <td>45.703125</td>\n",
       "      <td>0</td>\n",
       "      <td>10</td>\n",
       "      <td>-0.685211</td>\n",
       "      <td>BABR</td>\n",
       "      <td>P</td>\n",
       "      <td>1.465001e+09</td>\n",
       "      <td>2016-06-04 00:35:30.430365+00:00</td>\n",
       "    </tr>\n",
       "  </tbody>\n",
       "</table>\n",
       "</div>"
      ],
      "text/plain": [
       "   Unnamed: 0  idx                              time          x          y  \\\n",
       "0           0    0  2016-06-04 00:35:30.430365+00:00 -49.492017 -52.653525   \n",
       "\n",
       "           z  picks   latitude   longitude      depth  event_idx  pick_idx  \\\n",
       "0  45.703125     12  44.024477 -126.117313  45.703125          0        10   \n",
       "\n",
       "   residual station phase     time_pick                         datetime  \n",
       "0 -0.685211    BABR     P  1.465001e+09 2016-06-04 00:35:30.430365+00:00  "
      ]
     },
     "execution_count": 12,
     "metadata": {},
     "output_type": "execute_result"
    }
   ],
   "source": [
    "# Load all the pick assignments \n",
    "mycatalog_picks = pd.read_csv('../data/datasets_OR/all_pick_assignments_OR.csv')\n",
    "mycatalog = mycatalog_picks.drop_duplicates(subset=['idx'])\n",
    "# Convert the time series in all_pick_assignments to datetime\n",
    "mycatalog['datetime'] = pd.to_datetime(mycatalog['time'], utc = True)\n",
    "mycatalog=mycatalog.loc[(mycatalog['datetime'] > t1) & (mycatalog['datetime'] < t2) ]\n",
    "mycatalog.head()"
   ]
  },
  {
   "cell_type": "code",
   "execution_count": null,
   "id": "73adad5f",
   "metadata": {},
   "outputs": [],
   "source": []
  }
 ],
 "metadata": {
  "kernelspec": {
   "display_name": "seismo (SHARED)",
   "language": "python",
   "name": "seismo"
  },
  "language_info": {
   "codemirror_mode": {
    "name": "ipython",
    "version": 3
   },
   "file_extension": ".py",
   "mimetype": "text/x-python",
   "name": "python",
   "nbconvert_exporter": "python",
   "pygments_lexer": "ipython3",
   "version": "3.9.18"
  }
 },
 "nbformat": 4,
 "nbformat_minor": 5
}
