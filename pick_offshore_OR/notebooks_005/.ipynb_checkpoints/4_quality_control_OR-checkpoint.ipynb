{
 "cells": [
  {
   "cell_type": "code",
   "execution_count": 27,
   "id": "c92e5226",
   "metadata": {},
   "outputs": [],
   "source": [
    "import pandas as pd\n",
    "import numpy as np\n",
    "import obspy\n",
    "\n",
    "from obspy.clients.fdsn import Client\n",
    "from pnwstore.mseed import WaveformClient\n",
    "from datetime import datetime\n",
    "from matplotlib import pyplot as plt\n",
    "from obspy import UTCDateTime\n",
    "\n",
    "from tqdm import tqdm\n",
    "from obspy.geodetics import locations2degrees, degrees2kilometers"
   ]
  },
  {
   "cell_type": "markdown",
   "id": "5ce02dac",
   "metadata": {},
   "source": [
    "### Load the event data"
   ]
  },
  {
   "cell_type": "code",
   "execution_count": 14,
   "id": "f0456713",
   "metadata": {
    "scrolled": true
   },
   "outputs": [],
   "source": [
    "import pandas as pd\n",
    "\n",
    "# Load all the pick assignments \n",
    "mycatalog_picks = pd.read_csv('../data/datasets_OR/all_pick_assignments_OR.csv')\n",
    "\n",
    "# Drop duplicates and create a copy to avoid SettingWithCopyWarning\n",
    "mycatalog = mycatalog_picks.drop_duplicates(subset=['idx']).copy()\n",
    "\n",
    "# Convert the time series in all_pick_assignments to datetime\n",
    "mycatalog['datetime'] = pd.to_datetime(mycatalog['time'], utc=True)\n",
    "\n",
    "# Print mycatalog\n",
    "mycatalog"
   ]
  },
  {
   "cell_type": "markdown",
   "id": "5a92dc43",
   "metadata": {},
   "source": [
    "### Plot the waveforms"
   ]
  },
  {
   "cell_type": "code",
   "execution_count": 17,
   "id": "ff5cf441",
   "metadata": {},
   "outputs": [],
   "source": [
    "client = WaveformClient()\n",
    "client2 = Client(\"IRIS\")"
   ]
  },
  {
   "cell_type": "code",
   "execution_count": 9,
   "id": "bef56089",
   "metadata": {},
   "outputs": [],
   "source": [
    "# Obtain the station and network information \n",
    "all_picks_OR= pd.read_csv('/home/hbito/cascadia_obs_ensemble/data/datasets_OR/all_picks_OR.csv')\n",
    "all_picks_OR = all_picks_OR.drop_duplicates(subset='station_code')\n",
    "networks_stas=np.array(all_picks_OR[['station_network_code','station_code']])\n"
   ]
  },
  {
   "cell_type": "code",
   "execution_count": null,
   "id": "c48c9b40",
   "metadata": {},
   "outputs": [],
   "source": [
    "new_event_example_picks_WA_OR_idx_424 = mycatalog_picks.loc[mycatalog_picks['event_idx']==event_WA_OR_idx_424['idx']]\n",
    "new_event_example_picks_WA_OR_idx_424"
   ]
  },
  {
   "cell_type": "code",
   "execution_count": 24,
   "id": "0c809361",
   "metadata": {},
   "outputs": [
    {
     "data": {
      "text/plain": [
       "array(['BABR', 'DBO', 'FISH', 'HYS14', 'HYSB1', 'JEDS', 'RADR', 'WISH'],\n",
       "      dtype=object)"
      ]
     },
     "execution_count": 24,
     "metadata": {},
     "output_type": "execute_result"
    }
   ],
   "source": [
    "pick_sta=np.unique(mycatalog_picks['station'])\n",
    "pick_sta"
   ]
  },
  {
   "cell_type": "code",
   "execution_count": null,
   "id": "c9c08111",
   "metadata": {},
   "outputs": [],
   "source": []
  },
  {
   "cell_type": "code",
   "execution_count": 26,
   "id": "f49ef6e7",
   "metadata": {},
   "outputs": [
    {
     "ename": "ValueError",
     "evalue": "invalid literal for int() with base 10: '2016-06-04 00:35:30.430365+00:00'",
     "output_type": "error",
     "traceback": [
      "\u001b[0;31m---------------------------------------------------------------------------\u001b[0m",
      "\u001b[0;31mValueError\u001b[0m                                Traceback (most recent call last)",
      "Cell \u001b[0;32mIn[26], line 9\u001b[0m\n\u001b[1;32m      6\u001b[0m pick_sta \u001b[38;5;241m=\u001b[39m pick_sta\n\u001b[1;32m      8\u001b[0m \u001b[38;5;66;03m# otime = UTCDateTime(event['datetime'])\u001b[39;00m\n\u001b[0;32m----> 9\u001b[0m otime \u001b[38;5;241m=\u001b[39m\u001b[43mUTCDateTime\u001b[49m\u001b[43m(\u001b[49m\u001b[43mevent\u001b[49m\u001b[43m[\u001b[49m\u001b[38;5;124;43m'\u001b[39;49m\u001b[38;5;124;43mtime\u001b[39;49m\u001b[38;5;124;43m'\u001b[39;49m\u001b[43m]\u001b[49m\u001b[43m)\u001b[49m\n\u001b[1;32m     10\u001b[0m distances \u001b[38;5;241m=\u001b[39m []\n\u001b[1;32m     12\u001b[0m \u001b[38;5;66;03m# Assuming networks_stas is a list of tuples with network and station identifiers\u001b[39;00m\n",
      "File \u001b[0;32m/home/jupyter_share/miniconda3/envs/seismo/lib/python3.9/site-packages/obspy/core/utcdatetime.py:451\u001b[0m, in \u001b[0;36mUTCDateTime.__init__\u001b[0;34m(self, *args, **kwargs)\u001b[0m\n\u001b[1;32m    448\u001b[0m     args \u001b[38;5;241m=\u001b[39m args[\u001b[38;5;241m0\u001b[39m:\u001b[38;5;241m5\u001b[39m]\n\u001b[1;32m    450\u001b[0m \u001b[38;5;28;01mtry\u001b[39;00m:  \u001b[38;5;66;03m# If a value Error is raised try to allow overflow (see #2222)\u001b[39;00m\n\u001b[0;32m--> 451\u001b[0m     dt \u001b[38;5;241m=\u001b[39m \u001b[43mdatetime\u001b[49m\u001b[38;5;241;43m.\u001b[39;49m\u001b[43mdatetime\u001b[49m\u001b[43m(\u001b[49m\u001b[38;5;241;43m*\u001b[39;49m\u001b[43margs\u001b[49m\u001b[43m,\u001b[49m\u001b[43m \u001b[49m\u001b[38;5;241;43m*\u001b[39;49m\u001b[38;5;241;43m*\u001b[39;49m\u001b[43mkwargs\u001b[49m\u001b[43m)\u001b[49m\n\u001b[1;32m    452\u001b[0m \u001b[38;5;28;01mexcept\u001b[39;00m \u001b[38;5;167;01mValueError\u001b[39;00m:\n\u001b[1;32m    453\u001b[0m     \u001b[38;5;28;01mif\u001b[39;00m \u001b[38;5;129;01mnot\u001b[39;00m strict:\n",
      "File \u001b[0;32m/home/jupyter_share/miniconda3/envs/seismo/lib/python3.9/site-packages/pandas/core/series.py:229\u001b[0m, in \u001b[0;36m_coerce_method.<locals>.wrapper\u001b[0;34m(self)\u001b[0m\n\u001b[1;32m    221\u001b[0m \u001b[38;5;28;01mif\u001b[39;00m \u001b[38;5;28mlen\u001b[39m(\u001b[38;5;28mself\u001b[39m) \u001b[38;5;241m==\u001b[39m \u001b[38;5;241m1\u001b[39m:\n\u001b[1;32m    222\u001b[0m     warnings\u001b[38;5;241m.\u001b[39mwarn(\n\u001b[1;32m    223\u001b[0m         \u001b[38;5;124mf\u001b[39m\u001b[38;5;124m\"\u001b[39m\u001b[38;5;124mCalling \u001b[39m\u001b[38;5;132;01m{\u001b[39;00mconverter\u001b[38;5;241m.\u001b[39m\u001b[38;5;18m__name__\u001b[39m\u001b[38;5;132;01m}\u001b[39;00m\u001b[38;5;124m on a single element Series is \u001b[39m\u001b[38;5;124m\"\u001b[39m\n\u001b[1;32m    224\u001b[0m         \u001b[38;5;124m\"\u001b[39m\u001b[38;5;124mdeprecated and will raise a TypeError in the future. \u001b[39m\u001b[38;5;124m\"\u001b[39m\n\u001b[0;32m   (...)\u001b[0m\n\u001b[1;32m    227\u001b[0m         stacklevel\u001b[38;5;241m=\u001b[39mfind_stack_level(),\n\u001b[1;32m    228\u001b[0m     )\n\u001b[0;32m--> 229\u001b[0m     \u001b[38;5;28;01mreturn\u001b[39;00m \u001b[43mconverter\u001b[49m\u001b[43m(\u001b[49m\u001b[38;5;28;43mself\u001b[39;49m\u001b[38;5;241;43m.\u001b[39;49m\u001b[43miloc\u001b[49m\u001b[43m[\u001b[49m\u001b[38;5;241;43m0\u001b[39;49m\u001b[43m]\u001b[49m\u001b[43m)\u001b[49m\n\u001b[1;32m    230\u001b[0m \u001b[38;5;28;01mraise\u001b[39;00m \u001b[38;5;167;01mTypeError\u001b[39;00m(\u001b[38;5;124mf\u001b[39m\u001b[38;5;124m\"\u001b[39m\u001b[38;5;124mcannot convert the series to \u001b[39m\u001b[38;5;132;01m{\u001b[39;00mconverter\u001b[38;5;132;01m}\u001b[39;00m\u001b[38;5;124m\"\u001b[39m)\n",
      "\u001b[0;31mValueError\u001b[0m: invalid literal for int() with base 10: '2016-06-04 00:35:30.430365+00:00'"
     ]
    }
   ],
   "source": [
    "# Plot the earthquake moveout for one of the unmatched events for all stations \n",
    "idx = 0\n",
    "# event = new_events_deg.iloc[idx]\n",
    "event=mycatalog\n",
    "new_event_example_picks = mycatalog_picks\n",
    "pick_sta = pick_sta\n",
    "\n",
    "# otime = UTCDateTime(event['datetime'])\n",
    "otime =UTCDateTime(event['datetime'])\n",
    "distances = []\n",
    "\n",
    "# Assuming networks_stas is a list of tuples with network and station identifiers\n",
    "for station in pick_sta:\n",
    "    try:\n",
    "        sta_inv = client2.get_stations(network=\"C8,7D,7A,CN,NV,UW,UO,NC,BK,TA,OO,PB,X6,Z5,X9\",\n",
    "                                       station=station, channel=\"?H?\", \n",
    "                                       starttime=otime - 1e4, endtime=otime + 1e4)[0][0]\n",
    "    except Exception as e:\n",
    "        print(f\"Failed to fetch for {network} {station} {otime}: {e}\")\n",
    "        continue\n",
    "\n",
    "    slat = sta_inv.latitude\n",
    "    slon = sta_inv.longitude\n",
    "    olat = event['latitude']\n",
    "    olon = event['longitude']\n",
    "\n",
    "    dis1 = locations2degrees(olat, olon, slat, slon)\n",
    "    dist = degrees2kilometers(dis1)\n",
    "    distances.append([None,station,dist])\n",
    "\n",
    "# Sort distances\n",
    "distances = sorted(distances, key=lambda item: item[-1])\n",
    "distances = distances[0:11]\n",
    "# print(distances)\n",
    "# print(otime)\n",
    "plt.figure(dpi=150)\n",
    "for i, ii in enumerate(distances):\n",
    "    st = client.get_waveforms(network=\"*\",\n",
    "                              station=ii[1], channel=\"?HZ\", starttime=otime-30, endtime=otime+120)\n",
    "    st = obspy.Stream(filter(lambda st:st.stats.sampling_rate>10, st))\n",
    "    st.filter(type='bandpass',freqmin=4,freqmax=15)\n",
    "    \n",
    "    trim_st = st.copy()\n",
    "    if len(trim_st)>0:\n",
    "        trim_st = trim_st.normalize()\n",
    "        offsets1  = ii[2]\n",
    "        offsets2 = 0\n",
    "#         for ii in range(len(trim_st)):\n",
    "        wave=trim_st[0].data\n",
    "        wave=wave/np.nanmax(wave,axis=-1,keepdims=True)\n",
    "        plt.plot(trim_st[0].times(),wave *10+offsets1, \n",
    "                 color = 'black', alpha=0.7, lw=0.5)    \n",
    "#         time_pick = [[x['time_pick'], x['phase']] for _, x in mycatalog[mycatalog['idx'] == idx].iterrows() \n",
    "#                      if x['station'] == sta]\n",
    "#         if len(time_pick) > 0:\n",
    "#             for p in time_pick:\n",
    "#                 if p[1] == 'P':\n",
    "        plt.text(trim_st[0].times()[0]-5, trim_st[0].data[0] * 10 + offsets1-2, \n",
    "                     [ii[1]], fontsize=8, verticalalignment='bottom')\n",
    "    \n",
    "#         plt.vlines(ii[2]/5, offsets1-5, \n",
    "#                          offsets1+5, color='r')\n",
    "        sta_picks = new_event_example_picks.loc[new_event_example_picks['station']==ii[1]]\n",
    "        \n",
    "        p_picks = sta_picks.loc[sta_picks['phase']=='P']\n",
    "        s_picks = sta_picks.loc[sta_picks['phase']=='S']\n",
    "\n",
    "        \n",
    "        if len(p_picks)>0:\n",
    "            plt.vlines(UTCDateTime(p_picks.iloc[0]['time_pick'])-otime+30, offsets1-5, \n",
    "                         offsets1+5, color='r')\n",
    "            \n",
    "        if len(s_picks)>0:\n",
    "            plt.vlines(UTCDateTime(s_picks.iloc[0]['time_pick'])-otime+30, offsets1-5, \n",
    "                         offsets1+5, color='b')\n",
    "\n",
    "#                 else:\n",
    "#                     plt.vlines(p[0], offsets1[ii]*0.5+offsets2[i]-1, \n",
    "#                                      offsets1[ii]*0.5+offsets2[i]+1, color='b')\n",
    "    else:                 \n",
    "        pass \n",
    "plt.title(f\"Newly Found Events: Origin Time={otime}, Latitude={event['latitude']}, Longtitude={event['longitude']}\")\n",
    "plt.xlabel('Time [sec]')\n",
    "plt.ylabel('Distance [km]')\n",
    "plt.ylim(0,200)\n",
    "plt.xlim(20,100)\n",
    "\n",
    "plt.grid(alpha=0.5)\n",
    "\n",
    "plt.savefig(\"event_idx_274.pdf\", format=\"pdf\", bbox_inches=\"tight\")\n",
    "plt.show()"
   ]
  },
  {
   "cell_type": "code",
   "execution_count": null,
   "id": "e8298a93",
   "metadata": {},
   "outputs": [],
   "source": []
  }
 ],
 "metadata": {
  "kernelspec": {
   "display_name": "seismo (SHARED)",
   "language": "python",
   "name": "seismo"
  },
  "language_info": {
   "codemirror_mode": {
    "name": "ipython",
    "version": 3
   },
   "file_extension": ".py",
   "mimetype": "text/x-python",
   "name": "python",
   "nbconvert_exporter": "python",
   "pygments_lexer": "ipython3",
   "version": "3.9.18"
  }
 },
 "nbformat": 4,
 "nbformat_minor": 5
}
