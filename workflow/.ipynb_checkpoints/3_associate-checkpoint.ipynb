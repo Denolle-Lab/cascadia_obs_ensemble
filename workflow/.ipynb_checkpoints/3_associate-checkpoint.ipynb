{
 "cells": [
  {
   "cell_type": "markdown",
   "id": "192aef88",
   "metadata": {},
   "source": [
    "## Try phase association for stations for October 2014\n",
    "Refernce: https://github.com/yetinam/pyocto"
   ]
  },
  {
   "cell_type": "code",
   "execution_count": null,
   "id": "45e0b4d8",
   "metadata": {},
   "outputs": [],
   "source": [
    "# !pip3 install numpy\n",
    "# !pip3 install pyrocko"
   ]
  },
  {
   "cell_type": "code",
   "execution_count": 1,
   "id": "91c28442",
   "metadata": {},
   "outputs": [],
   "source": [
    "import pyocto\n",
    "import pandas as pd\n",
    "import datetime\n",
    "import matplotlib.pyplot as plt\n",
    "from collections import Counter\n",
    "import numpy as np\n",
    "from scipy import signal\n",
    "from obspy.signal.trigger import classic_sta_lta\n",
    "import pygmt\n",
    "\n",
    "from obspy.clients.fdsn import Client\n",
    "from obspy.core.utcdatetime import UTCDateTime\n",
    "from pnwstore.mseed import WaveformClient\n"
   ]
  },
  {
   "cell_type": "code",
   "execution_count": 2,
   "id": "6e59a463",
   "metadata": {},
   "outputs": [],
   "source": [
    "# Import the velocity model from https://colab.research.google.com/github/yetinam/pyocto/blob/main/examples/02_velocity_models.ipynb#scrollTo=1c52ed9e-d9c1-4fa6-a549-de702bc9d439\n",
    "# !wget https://github.com/yetinam/pyocto/raw/main/tests/data/graeber.csv"
   ]
  },
  {
   "cell_type": "markdown",
   "id": "d79f475f",
   "metadata": {},
   "source": [
    "## Input Data"
   ]
  },
  {
   "cell_type": "code",
   "execution_count": 12,
   "id": "dc050e11",
   "metadata": {},
   "outputs": [],
   "source": [
    "picks = pd.read_csv(\"../data/picks_20121014.csv\",index_col=0)\n",
    "stations = pd.read_csv(\"../data/stations_october.csv\",index_col=0)"
   ]
  },
  {
   "cell_type": "markdown",
   "id": "3fe8a8aa",
   "metadata": {},
   "source": [
    "  ## Velocoty Models"
   ]
  },
  {
   "cell_type": "code",
   "execution_count": 4,
   "id": "0f875771",
   "metadata": {},
   "outputs": [],
   "source": [
    "velocity_model = pyocto.VelocityModel0D(\n",
    "    p_velocity=7.0,\n",
    "    s_velocity=4.0,\n",
    "    tolerance=2.0,\n",
    ")"
   ]
  },
  {
   "cell_type": "markdown",
   "id": "a3bf75c7",
   "metadata": {},
   "source": [
    "## Create a 1D velocity model\n",
    "Not needed for now."
   ]
  },
  {
   "cell_type": "code",
   "execution_count": 5,
   "id": "b5c28f00",
   "metadata": {},
   "outputs": [
    {
     "name": "stdout",
     "output_type": "stream",
     "text": [
      "--2024-02-27 15:03:22--  https://github.com/yetinam/pyocto/raw/main/tests/data/graeber.csv\n",
      "Resolving github.com (github.com)... 20.29.134.23\n",
      "Connecting to github.com (github.com)|20.29.134.23|:443... connected.\n",
      "HTTP request sent, awaiting response... 302 Found\n",
      "Location: https://raw.githubusercontent.com/yetinam/pyocto/main/tests/data/graeber.csv [following]\n",
      "--2024-02-27 15:03:22--  https://raw.githubusercontent.com/yetinam/pyocto/main/tests/data/graeber.csv\n",
      "Resolving raw.githubusercontent.com (raw.githubusercontent.com)... 185.199.110.133, 185.199.108.133, 185.199.109.133, ...\n",
      "Connecting to raw.githubusercontent.com (raw.githubusercontent.com)|185.199.110.133|:443... connected.\n",
      "HTTP request sent, awaiting response... 200 OK\n",
      "Length: 395 [text/plain]\n",
      "Saving to: ‘graeber.csv.1’\n",
      "\n",
      "graeber.csv.1       100%[===================>]     395  --.-KB/s    in 0s      \n",
      "\n",
      "2024-02-27 15:03:22 (68.8 MB/s) - ‘graeber.csv.1’ saved [395/395]\n",
      "\n"
     ]
    }
   ],
   "source": [
    "!wget https://github.com/yetinam/pyocto/raw/main/tests/data/graeber.csv"
   ]
  },
  {
   "cell_type": "code",
   "execution_count": 6,
   "id": "4a997db3",
   "metadata": {},
   "outputs": [
    {
     "data": {
      "text/html": [
       "<div>\n",
       "<style scoped>\n",
       "    .dataframe tbody tr th:only-of-type {\n",
       "        vertical-align: middle;\n",
       "    }\n",
       "\n",
       "    .dataframe tbody tr th {\n",
       "        vertical-align: top;\n",
       "    }\n",
       "\n",
       "    .dataframe thead th {\n",
       "        text-align: right;\n",
       "    }\n",
       "</style>\n",
       "<table border=\"1\" class=\"dataframe\">\n",
       "  <thead>\n",
       "    <tr style=\"text-align: right;\">\n",
       "      <th></th>\n",
       "      <th>depth</th>\n",
       "      <th>vp</th>\n",
       "      <th>vp_grad</th>\n",
       "      <th>vs</th>\n",
       "      <th>vs_grad</th>\n",
       "      <th>x</th>\n",
       "      <th>y</th>\n",
       "    </tr>\n",
       "  </thead>\n",
       "  <tbody>\n",
       "    <tr>\n",
       "      <th>0</th>\n",
       "      <td>0.0</td>\n",
       "      <td>6.1</td>\n",
       "      <td>0.00</td>\n",
       "      <td>3.6</td>\n",
       "      <td>0.00</td>\n",
       "      <td>1.0</td>\n",
       "      <td>0.0</td>\n",
       "    </tr>\n",
       "    <tr>\n",
       "      <th>1</th>\n",
       "      <td>10.0</td>\n",
       "      <td>6.1</td>\n",
       "      <td>0.03</td>\n",
       "      <td>3.6</td>\n",
       "      <td>0.02</td>\n",
       "      <td>1.0</td>\n",
       "      <td>0.0</td>\n",
       "    </tr>\n",
       "    <tr>\n",
       "      <th>2</th>\n",
       "      <td>20.0</td>\n",
       "      <td>6.4</td>\n",
       "      <td>0.01</td>\n",
       "      <td>3.8</td>\n",
       "      <td>0.01</td>\n",
       "      <td>1.0</td>\n",
       "      <td>0.0</td>\n",
       "    </tr>\n",
       "    <tr>\n",
       "      <th>3</th>\n",
       "      <td>30.0</td>\n",
       "      <td>6.5</td>\n",
       "      <td>0.06</td>\n",
       "      <td>3.8</td>\n",
       "      <td>0.04</td>\n",
       "      <td>1.0</td>\n",
       "      <td>0.0</td>\n",
       "    </tr>\n",
       "    <tr>\n",
       "      <th>4</th>\n",
       "      <td>40.0</td>\n",
       "      <td>7.1</td>\n",
       "      <td>0.00</td>\n",
       "      <td>4.2</td>\n",
       "      <td>0.00</td>\n",
       "      <td>1.0</td>\n",
       "      <td>0.0</td>\n",
       "    </tr>\n",
       "    <tr>\n",
       "      <th>5</th>\n",
       "      <td>50.0</td>\n",
       "      <td>7.1</td>\n",
       "      <td>0.02</td>\n",
       "      <td>4.2</td>\n",
       "      <td>0.01</td>\n",
       "      <td>1.0</td>\n",
       "      <td>0.0</td>\n",
       "    </tr>\n",
       "    <tr>\n",
       "      <th>6</th>\n",
       "      <td>60.0</td>\n",
       "      <td>7.3</td>\n",
       "      <td>0.06</td>\n",
       "      <td>4.3</td>\n",
       "      <td>0.04</td>\n",
       "      <td>1.0</td>\n",
       "      <td>0.0</td>\n",
       "    </tr>\n",
       "    <tr>\n",
       "      <th>7</th>\n",
       "      <td>70.0</td>\n",
       "      <td>7.9</td>\n",
       "      <td>0.02</td>\n",
       "      <td>4.7</td>\n",
       "      <td>0.01</td>\n",
       "      <td>1.0</td>\n",
       "      <td>0.0</td>\n",
       "    </tr>\n",
       "    <tr>\n",
       "      <th>8</th>\n",
       "      <td>80.0</td>\n",
       "      <td>8.1</td>\n",
       "      <td>0.04</td>\n",
       "      <td>4.8</td>\n",
       "      <td>0.02</td>\n",
       "      <td>1.0</td>\n",
       "      <td>0.0</td>\n",
       "    </tr>\n",
       "    <tr>\n",
       "      <th>9</th>\n",
       "      <td>90.0</td>\n",
       "      <td>8.5</td>\n",
       "      <td>0.00</td>\n",
       "      <td>5.1</td>\n",
       "      <td>0.00</td>\n",
       "      <td>1.0</td>\n",
       "      <td>0.0</td>\n",
       "    </tr>\n",
       "    <tr>\n",
       "      <th>10</th>\n",
       "      <td>110.0</td>\n",
       "      <td>8.5</td>\n",
       "      <td>0.00</td>\n",
       "      <td>5.1</td>\n",
       "      <td>0.00</td>\n",
       "      <td>1.0</td>\n",
       "      <td>0.0</td>\n",
       "    </tr>\n",
       "    <tr>\n",
       "      <th>11</th>\n",
       "      <td>130.0</td>\n",
       "      <td>8.5</td>\n",
       "      <td>0.00</td>\n",
       "      <td>5.1</td>\n",
       "      <td>0.00</td>\n",
       "      <td>1.0</td>\n",
       "      <td>0.0</td>\n",
       "    </tr>\n",
       "  </tbody>\n",
       "</table>\n",
       "</div>"
      ],
      "text/plain": [
       "    depth   vp  vp_grad   vs  vs_grad    x    y\n",
       "0     0.0  6.1     0.00  3.6     0.00  1.0  0.0\n",
       "1    10.0  6.1     0.03  3.6     0.02  1.0  0.0\n",
       "2    20.0  6.4     0.01  3.8     0.01  1.0  0.0\n",
       "3    30.0  6.5     0.06  3.8     0.04  1.0  0.0\n",
       "4    40.0  7.1     0.00  4.2     0.00  1.0  0.0\n",
       "5    50.0  7.1     0.02  4.2     0.01  1.0  0.0\n",
       "6    60.0  7.3     0.06  4.3     0.04  1.0  0.0\n",
       "7    70.0  7.9     0.02  4.7     0.01  1.0  0.0\n",
       "8    80.0  8.1     0.04  4.8     0.02  1.0  0.0\n",
       "9    90.0  8.5     0.00  5.1     0.00  1.0  0.0\n",
       "10  110.0  8.5     0.00  5.1     0.00  1.0  0.0\n",
       "11  130.0  8.5     0.00  5.1     0.00  1.0  0.0"
      ]
     },
     "execution_count": 6,
     "metadata": {},
     "output_type": "execute_result"
    }
   ],
   "source": [
    "layers = pd.read_csv(\"graeber.csv\")\n",
    "layers"
   ]
  },
  {
   "cell_type": "code",
   "execution_count": 13,
   "id": "e492330c",
   "metadata": {},
   "outputs": [],
   "source": [
    "model_path = \"velocity_model\"\n",
    "pyocto.VelocityModel1D.create_model(layers, 1., 400, 250, model_path)"
   ]
  },
  {
   "cell_type": "code",
   "execution_count": 14,
   "id": "a9d3a14a",
   "metadata": {},
   "outputs": [],
   "source": [
    "velocity_model_1d = pyocto.VelocityModel1D(model_path, tolerance=2.0)"
   ]
  },
  {
   "cell_type": "markdown",
   "id": "0f6a5c8a",
   "metadata": {},
   "source": [
    "## The OctoAssociator class"
   ]
  },
  {
   "cell_type": "code",
   "execution_count": 15,
   "id": "c49c113f",
   "metadata": {},
   "outputs": [],
   "source": [
    "associator = pyocto.OctoAssociator.from_area(\n",
    "    lat=(40, 43.5),\n",
    "    lon=(-126.5, -123),\n",
    "    zlim=(0, 50),\n",
    "    time_before=300,\n",
    "    velocity_model=velocity_model_1d,\n",
    "    n_picks=6,\n",
    "    n_p_picks=3,\n",
    "    n_s_picks=3,\n",
    "    n_p_and_s_picks=3,\n",
    ")"
   ]
  },
  {
   "cell_type": "code",
   "execution_count": 16,
   "id": "8563e5e5",
   "metadata": {},
   "outputs": [
    {
     "data": {
      "text/html": [
       "<div>\n",
       "<style scoped>\n",
       "    .dataframe tbody tr th:only-of-type {\n",
       "        vertical-align: middle;\n",
       "    }\n",
       "\n",
       "    .dataframe tbody tr th {\n",
       "        vertical-align: top;\n",
       "    }\n",
       "\n",
       "    .dataframe thead th {\n",
       "        text-align: right;\n",
       "    }\n",
       "</style>\n",
       "<table border=\"1\" class=\"dataframe\">\n",
       "  <thead>\n",
       "    <tr style=\"text-align: right;\">\n",
       "      <th></th>\n",
       "      <th>id</th>\n",
       "      <th>longitude</th>\n",
       "      <th>latitude</th>\n",
       "      <th>elevation</th>\n",
       "      <th>x</th>\n",
       "      <th>y</th>\n",
       "      <th>z</th>\n",
       "    </tr>\n",
       "  </thead>\n",
       "  <tbody>\n",
       "    <tr>\n",
       "      <th>0</th>\n",
       "      <td>FC03D</td>\n",
       "      <td>-124.738297</td>\n",
       "      <td>44.813301</td>\n",
       "      <td>-432.0</td>\n",
       "      <td>0.925736</td>\n",
       "      <td>340.327428</td>\n",
       "      <td>0.4320</td>\n",
       "    </tr>\n",
       "    <tr>\n",
       "      <th>1</th>\n",
       "      <td>FN02C</td>\n",
       "      <td>-124.428001</td>\n",
       "      <td>46.949699</td>\n",
       "      <td>-67.0</td>\n",
       "      <td>24.512921</td>\n",
       "      <td>577.836199</td>\n",
       "      <td>0.0670</td>\n",
       "    </tr>\n",
       "    <tr>\n",
       "      <th>2</th>\n",
       "      <td>FS09B</td>\n",
       "      <td>-124.808502</td>\n",
       "      <td>40.438702</td>\n",
       "      <td>-2161.0</td>\n",
       "      <td>-4.963595</td>\n",
       "      <td>-145.625525</td>\n",
       "      <td>2.1610</td>\n",
       "    </tr>\n",
       "    <tr>\n",
       "      <th>3</th>\n",
       "      <td>FS09D</td>\n",
       "      <td>-124.803703</td>\n",
       "      <td>40.437698</td>\n",
       "      <td>-2122.1</td>\n",
       "      <td>-4.556492</td>\n",
       "      <td>-145.737271</td>\n",
       "      <td>2.1221</td>\n",
       "    </tr>\n",
       "    <tr>\n",
       "      <th>4</th>\n",
       "      <td>FS13B</td>\n",
       "      <td>-124.806503</td>\n",
       "      <td>40.493099</td>\n",
       "      <td>-2332.0</td>\n",
       "      <td>-4.790124</td>\n",
       "      <td>-139.585196</td>\n",
       "      <td>2.3320</td>\n",
       "    </tr>\n",
       "    <tr>\n",
       "      <th>5</th>\n",
       "      <td>FS13D</td>\n",
       "      <td>-124.803398</td>\n",
       "      <td>40.493698</td>\n",
       "      <td>-2291.2</td>\n",
       "      <td>-4.526853</td>\n",
       "      <td>-139.518845</td>\n",
       "      <td>2.2912</td>\n",
       "    </tr>\n",
       "    <tr>\n",
       "      <th>6</th>\n",
       "      <td>FS14D</td>\n",
       "      <td>-124.603897</td>\n",
       "      <td>40.492298</td>\n",
       "      <td>-145.0</td>\n",
       "      <td>12.386243</td>\n",
       "      <td>-139.665422</td>\n",
       "      <td>0.1450</td>\n",
       "    </tr>\n",
       "    <tr>\n",
       "      <th>7</th>\n",
       "      <td>FS16B</td>\n",
       "      <td>-124.739502</td>\n",
       "      <td>40.538101</td>\n",
       "      <td>-1073.0</td>\n",
       "      <td>0.889388</td>\n",
       "      <td>-134.589450</td>\n",
       "      <td>1.0730</td>\n",
       "    </tr>\n",
       "    <tr>\n",
       "      <th>8</th>\n",
       "      <td>FS16D</td>\n",
       "      <td>-124.746803</td>\n",
       "      <td>40.537800</td>\n",
       "      <td>-1080.4</td>\n",
       "      <td>0.270850</td>\n",
       "      <td>-134.622922</td>\n",
       "      <td>1.0804</td>\n",
       "    </tr>\n",
       "    <tr>\n",
       "      <th>9</th>\n",
       "      <td>FS17B</td>\n",
       "      <td>-124.596497</td>\n",
       "      <td>40.559799</td>\n",
       "      <td>-146.0</td>\n",
       "      <td>13.000547</td>\n",
       "      <td>-132.168720</td>\n",
       "      <td>0.1460</td>\n",
       "    </tr>\n",
       "    <tr>\n",
       "      <th>10</th>\n",
       "      <td>FS17D</td>\n",
       "      <td>-124.597000</td>\n",
       "      <td>40.559799</td>\n",
       "      <td>-145.0</td>\n",
       "      <td>12.957947</td>\n",
       "      <td>-132.168794</td>\n",
       "      <td>0.1450</td>\n",
       "    </tr>\n",
       "    <tr>\n",
       "      <th>11</th>\n",
       "      <td>FS20B</td>\n",
       "      <td>-125.031097</td>\n",
       "      <td>40.389500</td>\n",
       "      <td>-2378.0</td>\n",
       "      <td>-23.867031</td>\n",
       "      <td>-151.052749</td>\n",
       "      <td>2.3780</td>\n",
       "    </tr>\n",
       "    <tr>\n",
       "      <th>12</th>\n",
       "      <td>FS41D</td>\n",
       "      <td>-124.731003</td>\n",
       "      <td>40.612400</td>\n",
       "      <td>-1079.3</td>\n",
       "      <td>1.607642</td>\n",
       "      <td>-126.338744</td>\n",
       "      <td>1.0793</td>\n",
       "    </tr>\n",
       "    <tr>\n",
       "      <th>13</th>\n",
       "      <td>FS43D</td>\n",
       "      <td>-124.583900</td>\n",
       "      <td>40.711899</td>\n",
       "      <td>-719.0</td>\n",
       "      <td>14.035531</td>\n",
       "      <td>-115.276544</td>\n",
       "      <td>0.7190</td>\n",
       "    </tr>\n",
       "    <tr>\n",
       "      <th>14</th>\n",
       "      <td>FS44D</td>\n",
       "      <td>-124.702797</td>\n",
       "      <td>40.760899</td>\n",
       "      <td>-837.0</td>\n",
       "      <td>3.985750</td>\n",
       "      <td>-109.847350</td>\n",
       "      <td>0.8370</td>\n",
       "    </tr>\n",
       "    <tr>\n",
       "      <th>15</th>\n",
       "      <td>FS45D</td>\n",
       "      <td>-124.520302</td>\n",
       "      <td>40.799999</td>\n",
       "      <td>-477.0</td>\n",
       "      <td>19.383991</td>\n",
       "      <td>-105.480991</td>\n",
       "      <td>0.4770</td>\n",
       "    </tr>\n",
       "    <tr>\n",
       "      <th>16</th>\n",
       "      <td>G09D</td>\n",
       "      <td>-124.726898</td>\n",
       "      <td>40.666500</td>\n",
       "      <td>-716.3</td>\n",
       "      <td>1.953455</td>\n",
       "      <td>-120.331021</td>\n",
       "      <td>0.7163</td>\n",
       "    </tr>\n",
       "    <tr>\n",
       "      <th>17</th>\n",
       "      <td>G10B</td>\n",
       "      <td>-125.553299</td>\n",
       "      <td>40.677898</td>\n",
       "      <td>-2936.0</td>\n",
       "      <td>-67.913996</td>\n",
       "      <td>-118.755232</td>\n",
       "      <td>2.9360</td>\n",
       "    </tr>\n",
       "    <tr>\n",
       "      <th>18</th>\n",
       "      <td>G10D</td>\n",
       "      <td>-125.554398</td>\n",
       "      <td>40.788799</td>\n",
       "      <td>-3015.0</td>\n",
       "      <td>-67.894077</td>\n",
       "      <td>-106.438781</td>\n",
       "      <td>3.0150</td>\n",
       "    </tr>\n",
       "    <tr>\n",
       "      <th>19</th>\n",
       "      <td>G17B</td>\n",
       "      <td>-124.344597</td>\n",
       "      <td>41.283901</td>\n",
       "      <td>-123.0</td>\n",
       "      <td>33.961918</td>\n",
       "      <td>-51.687504</td>\n",
       "      <td>0.1230</td>\n",
       "    </tr>\n",
       "    <tr>\n",
       "      <th>20</th>\n",
       "      <td>G18D</td>\n",
       "      <td>-125.255798</td>\n",
       "      <td>41.304699</td>\n",
       "      <td>-3130.0</td>\n",
       "      <td>-42.358901</td>\n",
       "      <td>-49.333549</td>\n",
       "      <td>3.1300</td>\n",
       "    </tr>\n",
       "    <tr>\n",
       "      <th>21</th>\n",
       "      <td>G19B</td>\n",
       "      <td>-125.773598</td>\n",
       "      <td>41.307400</td>\n",
       "      <td>-3071.0</td>\n",
       "      <td>-85.719842</td>\n",
       "      <td>-48.651523</td>\n",
       "      <td>3.0710</td>\n",
       "    </tr>\n",
       "    <tr>\n",
       "      <th>22</th>\n",
       "      <td>G25B</td>\n",
       "      <td>-124.586098</td>\n",
       "      <td>41.919899</td>\n",
       "      <td>-430.0</td>\n",
       "      <td>13.596424</td>\n",
       "      <td>18.883688</td>\n",
       "      <td>0.4300</td>\n",
       "    </tr>\n",
       "    <tr>\n",
       "      <th>23</th>\n",
       "      <td>G26B</td>\n",
       "      <td>-125.177498</td>\n",
       "      <td>41.924900</td>\n",
       "      <td>-2357.0</td>\n",
       "      <td>-35.460186</td>\n",
       "      <td>19.514556</td>\n",
       "      <td>2.3570</td>\n",
       "    </tr>\n",
       "    <tr>\n",
       "      <th>24</th>\n",
       "      <td>G27B</td>\n",
       "      <td>-126.016701</td>\n",
       "      <td>41.916599</td>\n",
       "      <td>-3480.0</td>\n",
       "      <td>-105.085006</td>\n",
       "      <td>19.280241</td>\n",
       "      <td>3.4800</td>\n",
       "    </tr>\n",
       "    <tr>\n",
       "      <th>25</th>\n",
       "      <td>G33D</td>\n",
       "      <td>-124.802002</td>\n",
       "      <td>42.665298</td>\n",
       "      <td>-686.0</td>\n",
       "      <td>-4.263236</td>\n",
       "      <td>101.670160</td>\n",
       "      <td>0.6860</td>\n",
       "    </tr>\n",
       "    <tr>\n",
       "      <th>26</th>\n",
       "      <td>J09B</td>\n",
       "      <td>-124.726997</td>\n",
       "      <td>43.151001</td>\n",
       "      <td>-252.0</td>\n",
       "      <td>1.871087</td>\n",
       "      <td>155.626312</td>\n",
       "      <td>0.2520</td>\n",
       "    </tr>\n",
       "    <tr>\n",
       "      <th>27</th>\n",
       "      <td>J09D</td>\n",
       "      <td>-124.727097</td>\n",
       "      <td>43.151402</td>\n",
       "      <td>-252.0</td>\n",
       "      <td>1.862941</td>\n",
       "      <td>155.670859</td>\n",
       "      <td>0.2520</td>\n",
       "    </tr>\n",
       "    <tr>\n",
       "      <th>28</th>\n",
       "      <td>J17D</td>\n",
       "      <td>-124.613403</td>\n",
       "      <td>43.787300</td>\n",
       "      <td>-285.0</td>\n",
       "      <td>10.994990</td>\n",
       "      <td>226.329142</td>\n",
       "      <td>0.2850</td>\n",
       "    </tr>\n",
       "    <tr>\n",
       "      <th>29</th>\n",
       "      <td>J25A</td>\n",
       "      <td>-124.621597</td>\n",
       "      <td>44.472900</td>\n",
       "      <td>-142.8</td>\n",
       "      <td>10.216564</td>\n",
       "      <td>302.508387</td>\n",
       "      <td>0.1428</td>\n",
       "    </tr>\n",
       "    <tr>\n",
       "      <th>30</th>\n",
       "      <td>J25B</td>\n",
       "      <td>-124.621696</td>\n",
       "      <td>44.471298</td>\n",
       "      <td>-147.0</td>\n",
       "      <td>10.208966</td>\n",
       "      <td>302.330359</td>\n",
       "      <td>0.1470</td>\n",
       "    </tr>\n",
       "    <tr>\n",
       "      <th>31</th>\n",
       "      <td>J25C</td>\n",
       "      <td>-124.621696</td>\n",
       "      <td>44.473000</td>\n",
       "      <td>-144.0</td>\n",
       "      <td>10.208669</td>\n",
       "      <td>302.519487</td>\n",
       "      <td>0.1440</td>\n",
       "    </tr>\n",
       "    <tr>\n",
       "      <th>32</th>\n",
       "      <td>J26C</td>\n",
       "      <td>-125.465302</td>\n",
       "      <td>44.653400</td>\n",
       "      <td>-2868.0</td>\n",
       "      <td>-56.738309</td>\n",
       "      <td>322.807036</td>\n",
       "      <td>2.8680</td>\n",
       "    </tr>\n",
       "    <tr>\n",
       "      <th>33</th>\n",
       "      <td>J33A</td>\n",
       "      <td>-124.570801</td>\n",
       "      <td>45.106602</td>\n",
       "      <td>-348.7</td>\n",
       "      <td>14.103049</td>\n",
       "      <td>372.937817</td>\n",
       "      <td>0.3487</td>\n",
       "    </tr>\n",
       "    <tr>\n",
       "      <th>34</th>\n",
       "      <td>J33B</td>\n",
       "      <td>-124.570602</td>\n",
       "      <td>45.106602</td>\n",
       "      <td>-350.0</td>\n",
       "      <td>14.118711</td>\n",
       "      <td>372.937852</td>\n",
       "      <td>0.3500</td>\n",
       "    </tr>\n",
       "    <tr>\n",
       "      <th>35</th>\n",
       "      <td>J33C</td>\n",
       "      <td>-124.570801</td>\n",
       "      <td>45.106800</td>\n",
       "      <td>-354.0</td>\n",
       "      <td>14.103001</td>\n",
       "      <td>372.959822</td>\n",
       "      <td>0.3540</td>\n",
       "    </tr>\n",
       "    <tr>\n",
       "      <th>36</th>\n",
       "      <td>J34C</td>\n",
       "      <td>-125.415199</td>\n",
       "      <td>45.306999</td>\n",
       "      <td>-2580.0</td>\n",
       "      <td>-52.167984</td>\n",
       "      <td>395.408762</td>\n",
       "      <td>2.5800</td>\n",
       "    </tr>\n",
       "    <tr>\n",
       "      <th>37</th>\n",
       "      <td>J41A</td>\n",
       "      <td>-124.537201</td>\n",
       "      <td>45.811901</td>\n",
       "      <td>-175.0</td>\n",
       "      <td>16.539880</td>\n",
       "      <td>451.331679</td>\n",
       "      <td>0.1750</td>\n",
       "    </tr>\n",
       "    <tr>\n",
       "      <th>38</th>\n",
       "      <td>J41C</td>\n",
       "      <td>-124.537598</td>\n",
       "      <td>45.811699</td>\n",
       "      <td>-171.0</td>\n",
       "      <td>16.509082</td>\n",
       "      <td>451.309145</td>\n",
       "      <td>0.1710</td>\n",
       "    </tr>\n",
       "    <tr>\n",
       "      <th>39</th>\n",
       "      <td>J42C</td>\n",
       "      <td>-125.299103</td>\n",
       "      <td>45.932301</td>\n",
       "      <td>-1550.0</td>\n",
       "      <td>-42.587155</td>\n",
       "      <td>464.838603</td>\n",
       "      <td>1.5500</td>\n",
       "    </tr>\n",
       "    <tr>\n",
       "      <th>40</th>\n",
       "      <td>J49A</td>\n",
       "      <td>-124.427498</td>\n",
       "      <td>46.437801</td>\n",
       "      <td>-120.0</td>\n",
       "      <td>24.784299</td>\n",
       "      <td>520.931336</td>\n",
       "      <td>0.1200</td>\n",
       "    </tr>\n",
       "    <tr>\n",
       "      <th>41</th>\n",
       "      <td>J57A</td>\n",
       "      <td>-124.450500</td>\n",
       "      <td>47.080101</td>\n",
       "      <td>-55.8</td>\n",
       "      <td>22.744698</td>\n",
       "      <td>592.326335</td>\n",
       "      <td>0.0558</td>\n",
       "    </tr>\n",
       "    <tr>\n",
       "      <th>42</th>\n",
       "      <td>J65A</td>\n",
       "      <td>-125.139603</td>\n",
       "      <td>47.891300</td>\n",
       "      <td>-165.2</td>\n",
       "      <td>-29.135262</td>\n",
       "      <td>682.545646</td>\n",
       "      <td>0.1652</td>\n",
       "    </tr>\n",
       "    <tr>\n",
       "      <th>43</th>\n",
       "      <td>J65C</td>\n",
       "      <td>-125.139801</td>\n",
       "      <td>47.891300</td>\n",
       "      <td>-169.0</td>\n",
       "      <td>-29.150069</td>\n",
       "      <td>682.545721</td>\n",
       "      <td>0.1690</td>\n",
       "    </tr>\n",
       "    <tr>\n",
       "      <th>44</th>\n",
       "      <td>J67C</td>\n",
       "      <td>-127.086800</td>\n",
       "      <td>48.151001</td>\n",
       "      <td>-2581.0</td>\n",
       "      <td>-173.869792</td>\n",
       "      <td>713.990355</td>\n",
       "      <td>2.5810</td>\n",
       "    </tr>\n",
       "    <tr>\n",
       "      <th>45</th>\n",
       "      <td>M01C</td>\n",
       "      <td>-126.722198</td>\n",
       "      <td>49.150398</td>\n",
       "      <td>-138.0</td>\n",
       "      <td>-143.870189</td>\n",
       "      <td>824.357749</td>\n",
       "      <td>0.1380</td>\n",
       "    </tr>\n",
       "    <tr>\n",
       "      <th>46</th>\n",
       "      <td>M03C</td>\n",
       "      <td>-126.104599</td>\n",
       "      <td>47.888401</td>\n",
       "      <td>-1839.0</td>\n",
       "      <td>-101.304314</td>\n",
       "      <td>683.038277</td>\n",
       "      <td>1.8390</td>\n",
       "    </tr>\n",
       "    <tr>\n",
       "      <th>47</th>\n",
       "      <td>M05C</td>\n",
       "      <td>-124.934502</td>\n",
       "      <td>46.173500</td>\n",
       "      <td>-837.0</td>\n",
       "      <td>-14.247396</td>\n",
       "      <td>491.518358</td>\n",
       "      <td>0.8370</td>\n",
       "    </tr>\n",
       "    <tr>\n",
       "      <th>48</th>\n",
       "      <td>M06C</td>\n",
       "      <td>-124.926102</td>\n",
       "      <td>45.528702</td>\n",
       "      <td>-1460.0</td>\n",
       "      <td>-13.756796</td>\n",
       "      <td>419.848623</td>\n",
       "      <td>1.4600</td>\n",
       "    </tr>\n",
       "    <tr>\n",
       "      <th>49</th>\n",
       "      <td>M08A</td>\n",
       "      <td>-124.895302</td>\n",
       "      <td>44.118698</td>\n",
       "      <td>-126.4</td>\n",
       "      <td>-11.630861</td>\n",
       "      <td>263.152410</td>\n",
       "      <td>0.1264</td>\n",
       "    </tr>\n",
       "    <tr>\n",
       "      <th>50</th>\n",
       "      <td>M08C</td>\n",
       "      <td>-124.895401</td>\n",
       "      <td>44.118500</td>\n",
       "      <td>-131.0</td>\n",
       "      <td>-11.638825</td>\n",
       "      <td>263.130423</td>\n",
       "      <td>0.1310</td>\n",
       "    </tr>\n",
       "    <tr>\n",
       "      <th>51</th>\n",
       "      <td>M09B</td>\n",
       "      <td>-125.058899</td>\n",
       "      <td>44.249699</td>\n",
       "      <td>-914.0</td>\n",
       "      <td>-24.671473</td>\n",
       "      <td>277.744836</td>\n",
       "      <td>0.9140</td>\n",
       "    </tr>\n",
       "    <tr>\n",
       "      <th>52</th>\n",
       "      <td>M12B</td>\n",
       "      <td>-124.946098</td>\n",
       "      <td>42.183998</td>\n",
       "      <td>-1045.0</td>\n",
       "      <td>-16.199984</td>\n",
       "      <td>48.223921</td>\n",
       "      <td>1.0450</td>\n",
       "    </tr>\n",
       "    <tr>\n",
       "      <th>53</th>\n",
       "      <td>M14B</td>\n",
       "      <td>-124.589699</td>\n",
       "      <td>40.985001</td>\n",
       "      <td>-638.0</td>\n",
       "      <td>13.490014</td>\n",
       "      <td>-84.949193</td>\n",
       "      <td>0.6380</td>\n",
       "    </tr>\n",
       "    <tr>\n",
       "      <th>54</th>\n",
       "      <td>M15D</td>\n",
       "      <td>-124.907402</td>\n",
       "      <td>42.210701</td>\n",
       "      <td>-933.0</td>\n",
       "      <td>-12.997768</td>\n",
       "      <td>51.183392</td>\n",
       "      <td>0.9330</td>\n",
       "    </tr>\n",
       "    <tr>\n",
       "      <th>55</th>\n",
       "      <td>M16D</td>\n",
       "      <td>-124.807098</td>\n",
       "      <td>41.661800</td>\n",
       "      <td>-882.0</td>\n",
       "      <td>-4.755579</td>\n",
       "      <td>-9.794585</td>\n",
       "      <td>0.8820</td>\n",
       "    </tr>\n",
       "    <tr>\n",
       "      <th>56</th>\n",
       "      <td>M17D</td>\n",
       "      <td>-124.629799</td>\n",
       "      <td>41.036999</td>\n",
       "      <td>-749.0</td>\n",
       "      <td>10.107477</td>\n",
       "      <td>-79.180016</td>\n",
       "      <td>0.7490</td>\n",
       "    </tr>\n",
       "  </tbody>\n",
       "</table>\n",
       "</div>"
      ],
      "text/plain": [
       "       id   longitude   latitude  elevation           x           y       z\n",
       "0   FC03D -124.738297  44.813301     -432.0    0.925736  340.327428  0.4320\n",
       "1   FN02C -124.428001  46.949699      -67.0   24.512921  577.836199  0.0670\n",
       "2   FS09B -124.808502  40.438702    -2161.0   -4.963595 -145.625525  2.1610\n",
       "3   FS09D -124.803703  40.437698    -2122.1   -4.556492 -145.737271  2.1221\n",
       "4   FS13B -124.806503  40.493099    -2332.0   -4.790124 -139.585196  2.3320\n",
       "5   FS13D -124.803398  40.493698    -2291.2   -4.526853 -139.518845  2.2912\n",
       "6   FS14D -124.603897  40.492298     -145.0   12.386243 -139.665422  0.1450\n",
       "7   FS16B -124.739502  40.538101    -1073.0    0.889388 -134.589450  1.0730\n",
       "8   FS16D -124.746803  40.537800    -1080.4    0.270850 -134.622922  1.0804\n",
       "9   FS17B -124.596497  40.559799     -146.0   13.000547 -132.168720  0.1460\n",
       "10  FS17D -124.597000  40.559799     -145.0   12.957947 -132.168794  0.1450\n",
       "11  FS20B -125.031097  40.389500    -2378.0  -23.867031 -151.052749  2.3780\n",
       "12  FS41D -124.731003  40.612400    -1079.3    1.607642 -126.338744  1.0793\n",
       "13  FS43D -124.583900  40.711899     -719.0   14.035531 -115.276544  0.7190\n",
       "14  FS44D -124.702797  40.760899     -837.0    3.985750 -109.847350  0.8370\n",
       "15  FS45D -124.520302  40.799999     -477.0   19.383991 -105.480991  0.4770\n",
       "16   G09D -124.726898  40.666500     -716.3    1.953455 -120.331021  0.7163\n",
       "17   G10B -125.553299  40.677898    -2936.0  -67.913996 -118.755232  2.9360\n",
       "18   G10D -125.554398  40.788799    -3015.0  -67.894077 -106.438781  3.0150\n",
       "19   G17B -124.344597  41.283901     -123.0   33.961918  -51.687504  0.1230\n",
       "20   G18D -125.255798  41.304699    -3130.0  -42.358901  -49.333549  3.1300\n",
       "21   G19B -125.773598  41.307400    -3071.0  -85.719842  -48.651523  3.0710\n",
       "22   G25B -124.586098  41.919899     -430.0   13.596424   18.883688  0.4300\n",
       "23   G26B -125.177498  41.924900    -2357.0  -35.460186   19.514556  2.3570\n",
       "24   G27B -126.016701  41.916599    -3480.0 -105.085006   19.280241  3.4800\n",
       "25   G33D -124.802002  42.665298     -686.0   -4.263236  101.670160  0.6860\n",
       "26   J09B -124.726997  43.151001     -252.0    1.871087  155.626312  0.2520\n",
       "27   J09D -124.727097  43.151402     -252.0    1.862941  155.670859  0.2520\n",
       "28   J17D -124.613403  43.787300     -285.0   10.994990  226.329142  0.2850\n",
       "29   J25A -124.621597  44.472900     -142.8   10.216564  302.508387  0.1428\n",
       "30   J25B -124.621696  44.471298     -147.0   10.208966  302.330359  0.1470\n",
       "31   J25C -124.621696  44.473000     -144.0   10.208669  302.519487  0.1440\n",
       "32   J26C -125.465302  44.653400    -2868.0  -56.738309  322.807036  2.8680\n",
       "33   J33A -124.570801  45.106602     -348.7   14.103049  372.937817  0.3487\n",
       "34   J33B -124.570602  45.106602     -350.0   14.118711  372.937852  0.3500\n",
       "35   J33C -124.570801  45.106800     -354.0   14.103001  372.959822  0.3540\n",
       "36   J34C -125.415199  45.306999    -2580.0  -52.167984  395.408762  2.5800\n",
       "37   J41A -124.537201  45.811901     -175.0   16.539880  451.331679  0.1750\n",
       "38   J41C -124.537598  45.811699     -171.0   16.509082  451.309145  0.1710\n",
       "39   J42C -125.299103  45.932301    -1550.0  -42.587155  464.838603  1.5500\n",
       "40   J49A -124.427498  46.437801     -120.0   24.784299  520.931336  0.1200\n",
       "41   J57A -124.450500  47.080101      -55.8   22.744698  592.326335  0.0558\n",
       "42   J65A -125.139603  47.891300     -165.2  -29.135262  682.545646  0.1652\n",
       "43   J65C -125.139801  47.891300     -169.0  -29.150069  682.545721  0.1690\n",
       "44   J67C -127.086800  48.151001    -2581.0 -173.869792  713.990355  2.5810\n",
       "45   M01C -126.722198  49.150398     -138.0 -143.870189  824.357749  0.1380\n",
       "46   M03C -126.104599  47.888401    -1839.0 -101.304314  683.038277  1.8390\n",
       "47   M05C -124.934502  46.173500     -837.0  -14.247396  491.518358  0.8370\n",
       "48   M06C -124.926102  45.528702    -1460.0  -13.756796  419.848623  1.4600\n",
       "49   M08A -124.895302  44.118698     -126.4  -11.630861  263.152410  0.1264\n",
       "50   M08C -124.895401  44.118500     -131.0  -11.638825  263.130423  0.1310\n",
       "51   M09B -125.058899  44.249699     -914.0  -24.671473  277.744836  0.9140\n",
       "52   M12B -124.946098  42.183998    -1045.0  -16.199984   48.223921  1.0450\n",
       "53   M14B -124.589699  40.985001     -638.0   13.490014  -84.949193  0.6380\n",
       "54   M15D -124.907402  42.210701     -933.0  -12.997768   51.183392  0.9330\n",
       "55   M16D -124.807098  41.661800     -882.0   -4.755579   -9.794585  0.8820\n",
       "56   M17D -124.629799  41.036999     -749.0   10.107477  -79.180016  0.7490"
      ]
     },
     "execution_count": 16,
     "metadata": {},
     "output_type": "execute_result"
    }
   ],
   "source": [
    "associator.transform_stations(stations)\n",
    "stations"
   ]
  },
  {
   "cell_type": "markdown",
   "id": "27c78b5c",
   "metadata": {},
   "source": [
    "## Convert the timestamps to floats"
   ]
  },
  {
   "cell_type": "code",
   "execution_count": 17,
   "id": "c99c738e",
   "metadata": {
    "scrolled": true
   },
   "outputs": [
    {
     "data": {
      "text/html": [
       "<div>\n",
       "<style scoped>\n",
       "    .dataframe tbody tr th:only-of-type {\n",
       "        vertical-align: middle;\n",
       "    }\n",
       "\n",
       "    .dataframe tbody tr th {\n",
       "        vertical-align: top;\n",
       "    }\n",
       "\n",
       "    .dataframe thead th {\n",
       "        text-align: right;\n",
       "    }\n",
       "</style>\n",
       "<table border=\"1\" class=\"dataframe\">\n",
       "  <thead>\n",
       "    <tr style=\"text-align: right;\">\n",
       "      <th></th>\n",
       "      <th>station</th>\n",
       "      <th>phase</th>\n",
       "      <th>time</th>\n",
       "    </tr>\n",
       "  </thead>\n",
       "  <tbody>\n",
       "    <tr>\n",
       "      <th>0</th>\n",
       "      <td>G26B</td>\n",
       "      <td>P</td>\n",
       "      <td>1.351037e+09</td>\n",
       "    </tr>\n",
       "    <tr>\n",
       "      <th>1</th>\n",
       "      <td>G26B</td>\n",
       "      <td>P</td>\n",
       "      <td>1.351038e+09</td>\n",
       "    </tr>\n",
       "    <tr>\n",
       "      <th>2</th>\n",
       "      <td>G26B</td>\n",
       "      <td>P</td>\n",
       "      <td>1.351038e+09</td>\n",
       "    </tr>\n",
       "    <tr>\n",
       "      <th>3</th>\n",
       "      <td>G26B</td>\n",
       "      <td>P</td>\n",
       "      <td>1.351038e+09</td>\n",
       "    </tr>\n",
       "    <tr>\n",
       "      <th>4</th>\n",
       "      <td>G26B</td>\n",
       "      <td>P</td>\n",
       "      <td>1.351038e+09</td>\n",
       "    </tr>\n",
       "    <tr>\n",
       "      <th>...</th>\n",
       "      <td>...</td>\n",
       "      <td>...</td>\n",
       "      <td>...</td>\n",
       "    </tr>\n",
       "    <tr>\n",
       "      <th>1009</th>\n",
       "      <td>M09B</td>\n",
       "      <td>S</td>\n",
       "      <td>1.350777e+09</td>\n",
       "    </tr>\n",
       "    <tr>\n",
       "      <th>1010</th>\n",
       "      <td>M09B</td>\n",
       "      <td>S</td>\n",
       "      <td>1.350777e+09</td>\n",
       "    </tr>\n",
       "    <tr>\n",
       "      <th>1011</th>\n",
       "      <td>M09B</td>\n",
       "      <td>S</td>\n",
       "      <td>1.350777e+09</td>\n",
       "    </tr>\n",
       "    <tr>\n",
       "      <th>1012</th>\n",
       "      <td>M09B</td>\n",
       "      <td>S</td>\n",
       "      <td>1.350777e+09</td>\n",
       "    </tr>\n",
       "    <tr>\n",
       "      <th>1013</th>\n",
       "      <td>M09B</td>\n",
       "      <td>S</td>\n",
       "      <td>1.350778e+09</td>\n",
       "    </tr>\n",
       "  </tbody>\n",
       "</table>\n",
       "<p>270941 rows × 3 columns</p>\n",
       "</div>"
      ],
      "text/plain": [
       "     station phase          time\n",
       "0       G26B     P  1.351037e+09\n",
       "1       G26B     P  1.351038e+09\n",
       "2       G26B     P  1.351038e+09\n",
       "3       G26B     P  1.351038e+09\n",
       "4       G26B     P  1.351038e+09\n",
       "...      ...   ...           ...\n",
       "1009    M09B     S  1.350777e+09\n",
       "1010    M09B     S  1.350777e+09\n",
       "1011    M09B     S  1.350777e+09\n",
       "1012    M09B     S  1.350777e+09\n",
       "1013    M09B     S  1.350778e+09\n",
       "\n",
       "[270941 rows x 3 columns]"
      ]
     },
     "execution_count": 17,
     "metadata": {},
     "output_type": "execute_result"
    }
   ],
   "source": [
    "picks[\"time\"] = picks[\"time\"].apply(lambda x: datetime.datetime.strptime(x,'%Y-%m-%dT%H:%M:%S.%fZ'))\n",
    "picks[\"time\"] = picks[\"time\"].apply(lambda x: x.timestamp())\n",
    "picks"
   ]
  },
  {
   "cell_type": "markdown",
   "id": "a0227ee6",
   "metadata": {},
   "source": [
    "## Apply  the associator"
   ]
  },
  {
   "cell_type": "code",
   "execution_count": 18,
   "id": "261a46ca",
   "metadata": {},
   "outputs": [],
   "source": [
    "# Association \n",
    "events, assignments = associator.associate(picks, stations)"
   ]
  },
  {
   "cell_type": "code",
   "execution_count": 19,
   "id": "7c62f214",
   "metadata": {},
   "outputs": [
    {
     "data": {
      "text/html": [
       "<div>\n",
       "<style scoped>\n",
       "    .dataframe tbody tr th:only-of-type {\n",
       "        vertical-align: middle;\n",
       "    }\n",
       "\n",
       "    .dataframe tbody tr th {\n",
       "        vertical-align: top;\n",
       "    }\n",
       "\n",
       "    .dataframe thead th {\n",
       "        text-align: right;\n",
       "    }\n",
       "</style>\n",
       "<table border=\"1\" class=\"dataframe\">\n",
       "  <thead>\n",
       "    <tr style=\"text-align: right;\">\n",
       "      <th></th>\n",
       "      <th>idx</th>\n",
       "      <th>time</th>\n",
       "      <th>x</th>\n",
       "      <th>y</th>\n",
       "      <th>z</th>\n",
       "      <th>picks</th>\n",
       "    </tr>\n",
       "  </thead>\n",
       "  <tbody>\n",
       "    <tr>\n",
       "      <th>0</th>\n",
       "      <td>0</td>\n",
       "      <td>1.349090e+09</td>\n",
       "      <td>-41.447175</td>\n",
       "      <td>-129.175148</td>\n",
       "      <td>0.390625</td>\n",
       "      <td>9</td>\n",
       "    </tr>\n",
       "    <tr>\n",
       "      <th>1</th>\n",
       "      <td>1</td>\n",
       "      <td>1.349095e+09</td>\n",
       "      <td>9.923972</td>\n",
       "      <td>-132.985966</td>\n",
       "      <td>49.609375</td>\n",
       "      <td>13</td>\n",
       "    </tr>\n",
       "    <tr>\n",
       "      <th>2</th>\n",
       "      <td>2</td>\n",
       "      <td>1.349107e+09</td>\n",
       "      <td>21.599232</td>\n",
       "      <td>-170.331982</td>\n",
       "      <td>46.484375</td>\n",
       "      <td>8</td>\n",
       "    </tr>\n",
       "    <tr>\n",
       "      <th>3</th>\n",
       "      <td>3</td>\n",
       "      <td>1.349112e+09</td>\n",
       "      <td>-123.173999</td>\n",
       "      <td>-121.553512</td>\n",
       "      <td>48.046875</td>\n",
       "      <td>10</td>\n",
       "    </tr>\n",
       "    <tr>\n",
       "      <th>4</th>\n",
       "      <td>4</td>\n",
       "      <td>1.349122e+09</td>\n",
       "      <td>-35.609545</td>\n",
       "      <td>-28.569554</td>\n",
       "      <td>37.890625</td>\n",
       "      <td>8</td>\n",
       "    </tr>\n",
       "    <tr>\n",
       "      <th>...</th>\n",
       "      <td>...</td>\n",
       "      <td>...</td>\n",
       "      <td>...</td>\n",
       "      <td>...</td>\n",
       "      <td>...</td>\n",
       "      <td>...</td>\n",
       "    </tr>\n",
       "    <tr>\n",
       "      <th>285</th>\n",
       "      <td>285</td>\n",
       "      <td>1.351710e+09</td>\n",
       "      <td>-0.583763</td>\n",
       "      <td>-136.034620</td>\n",
       "      <td>6.640625</td>\n",
       "      <td>6</td>\n",
       "    </tr>\n",
       "    <tr>\n",
       "      <th>286</th>\n",
       "      <td>286</td>\n",
       "      <td>1.351710e+09</td>\n",
       "      <td>-77.640483</td>\n",
       "      <td>-145.942747</td>\n",
       "      <td>24.609375</td>\n",
       "      <td>9</td>\n",
       "    </tr>\n",
       "    <tr>\n",
       "      <th>287</th>\n",
       "      <td>287</td>\n",
       "      <td>1.351722e+09</td>\n",
       "      <td>-27.436862</td>\n",
       "      <td>-95.639950</td>\n",
       "      <td>15.234375</td>\n",
       "      <td>8</td>\n",
       "    </tr>\n",
       "    <tr>\n",
       "      <th>288</th>\n",
       "      <td>288</td>\n",
       "      <td>1.351727e+09</td>\n",
       "      <td>-109.163687</td>\n",
       "      <td>-132.985966</td>\n",
       "      <td>33.984375</td>\n",
       "      <td>14</td>\n",
       "    </tr>\n",
       "    <tr>\n",
       "      <th>289</th>\n",
       "      <td>289</td>\n",
       "      <td>1.351728e+09</td>\n",
       "      <td>-23.934284</td>\n",
       "      <td>-113.169712</td>\n",
       "      <td>38.671875</td>\n",
       "      <td>8</td>\n",
       "    </tr>\n",
       "  </tbody>\n",
       "</table>\n",
       "<p>290 rows × 6 columns</p>\n",
       "</div>"
      ],
      "text/plain": [
       "     idx          time           x           y          z  picks\n",
       "0      0  1.349090e+09  -41.447175 -129.175148   0.390625      9\n",
       "1      1  1.349095e+09    9.923972 -132.985966  49.609375     13\n",
       "2      2  1.349107e+09   21.599232 -170.331982  46.484375      8\n",
       "3      3  1.349112e+09 -123.173999 -121.553512  48.046875     10\n",
       "4      4  1.349122e+09  -35.609545  -28.569554  37.890625      8\n",
       "..   ...           ...         ...         ...        ...    ...\n",
       "285  285  1.351710e+09   -0.583763 -136.034620   6.640625      6\n",
       "286  286  1.351710e+09  -77.640483 -145.942747  24.609375      9\n",
       "287  287  1.351722e+09  -27.436862  -95.639950  15.234375      8\n",
       "288  288  1.351727e+09 -109.163687 -132.985966  33.984375     14\n",
       "289  289  1.351728e+09  -23.934284 -113.169712  38.671875      8\n",
       "\n",
       "[290 rows x 6 columns]"
      ]
     },
     "execution_count": 19,
     "metadata": {},
     "output_type": "execute_result"
    }
   ],
   "source": [
    "# Print the associated events\n",
    "events"
   ]
  },
  {
   "cell_type": "code",
   "execution_count": 20,
   "id": "0c48bb4d",
   "metadata": {},
   "outputs": [
    {
     "data": {
      "text/plain": [
       "Counter({8: 46,\n",
       "         7: 40,\n",
       "         9: 34,\n",
       "         6: 29,\n",
       "         10: 27,\n",
       "         11: 25,\n",
       "         14: 20,\n",
       "         12: 17,\n",
       "         13: 15,\n",
       "         16: 9,\n",
       "         18: 6,\n",
       "         15: 5,\n",
       "         19: 5,\n",
       "         21: 3,\n",
       "         17: 3,\n",
       "         20: 2,\n",
       "         26: 2,\n",
       "         22: 1,\n",
       "         25: 1})"
      ]
     },
     "execution_count": 20,
     "metadata": {},
     "output_type": "execute_result"
    }
   ],
   "source": [
    "# Count how many picks each event has\n",
    "Counter(events['picks'])"
   ]
  },
  {
   "cell_type": "code",
   "execution_count": null,
   "id": "ef8aa879",
   "metadata": {
    "scrolled": false
   },
   "outputs": [],
   "source": [
    "# Convert the event times and the x, y, and z coordinate to latitudes, longitudes, and depths, respectively\n",
    "associator.transform_events(events)\n",
    "events[\"time\"] = events[\"time\"].apply(datetime.datetime.fromtimestamp, tz=datetime.timezone.utc)"
   ]
  },
  {
   "cell_type": "code",
   "execution_count": null,
   "id": "6a765097",
   "metadata": {},
   "outputs": [],
   "source": [
    "#  Save events that have at least 6 picks\n",
    "events = events.loc[(events['picks'] >= 6)]\n",
    "events.to_csv('../data/events_october.csv')\n"
   ]
  },
  {
   "cell_type": "code",
   "execution_count": null,
   "id": "a86b6d58",
   "metadata": {},
   "outputs": [],
   "source": [
    "# events.to_csv('~/notebooks/src/association_events.csv')"
   ]
  },
  {
   "cell_type": "code",
   "execution_count": null,
   "id": "e6767f3c",
   "metadata": {
    "scrolled": true
   },
   "outputs": [],
   "source": [
    "# Print the assignments\n",
    "assignments"
   ]
  },
  {
   "cell_type": "code",
   "execution_count": null,
   "id": "ff00602d",
   "metadata": {
    "scrolled": true
   },
   "outputs": [],
   "source": [
    "# Assign the event information to each pick by using pd.merge\n",
    "all_pick_assignments = pd.merge(events, assignments, left_on=\"idx\", right_on=\"event_idx\", suffixes=(\"\", \"_pick\"))\n",
    "all_pick_assignments"
   ]
  },
  {
   "cell_type": "code",
   "execution_count": null,
   "id": "37ebd009",
   "metadata": {},
   "outputs": [],
   "source": [
    "# Save the assignments to a CSV file\n",
    "all_pick_assignments.to_csv(\"../data/all_pick_assignments_october.csv\")"
   ]
  },
  {
   "cell_type": "code",
   "execution_count": null,
   "id": "73c15960",
   "metadata": {},
   "outputs": [],
   "source": [
    "# The parameters in the associator class: n_picks=2,n_p_picks=1,n_s_picks=1,n_p_and_s_picks=1\n",
    "fig = plt.figure(figsize=(4, 8))\n",
    "ax = fig.add_subplot()\n",
    "ax.set_aspect(\"equal\")\n",
    "\n",
    "# ax.scatter(events[\"x\"], events[\"y\"], c=events[\"z\"])\n",
    "ax.set_xlabel(\"Easting [km]\")\n",
    "ax.set_ylabel(\"Northing [km]\")\n",
    "cax = fig.add_axes([ax.get_position().x1+0.05,ax.get_position().y0,0.02,ax.get_position().height])\n",
    "cb1 = fig.colorbar(ax.scatter(events[\"x\"], events[\"y\"], c=events[\"z\"],s=0.5,cmap='viridis'), cax=cax)\n",
    "cb1.ax.invert_yaxis()"
   ]
  },
  {
   "cell_type": "code",
   "execution_count": null,
   "id": "18d4402a",
   "metadata": {
    "scrolled": true
   },
   "outputs": [],
   "source": [
    "# The parameters in the associator class: n_picks=2,n_p_picks=1,n_s_picks=1,n_p_and_s_picks=1\n",
    "fig = plt.figure(figsize=(4, 8))\n",
    "ax = fig.add_subplot()\n",
    "ax.set_aspect(\"equal\")\n",
    "\n",
    "ax.set_xlabel(\"Longitude [$^\\circ$]\")\n",
    "ax.set_ylabel(\"Latitude [$^\\circ$]\")\n",
    "cax = fig.add_axes([ax.get_position().x1+0.05,ax.get_position().y0,0.02,ax.get_position().height])\n",
    "cb1 = fig.colorbar(ax.scatter(events[\"longitude\"], events[\"latitude\"], c=events[\"z\"],cmap='viridis'), cax=cax)\n",
    "cb1.ax.invert_yaxis()"
   ]
  },
  {
   "cell_type": "markdown",
   "id": "2a605e6e",
   "metadata": {},
   "source": [
    "## Plot the associated events"
   ]
  },
  {
   "cell_type": "code",
   "execution_count": null,
   "id": "b60bfc02",
   "metadata": {},
   "outputs": [],
   "source": [
    "# Read the event dataframe saved above\n",
    "events = pd.read_csv('../data/events_october.csv')"
   ]
  },
  {
   "cell_type": "code",
   "execution_count": null,
   "id": "705547c6",
   "metadata": {},
   "outputs": [],
   "source": [
    "events"
   ]
  },
  {
   "cell_type": "code",
   "execution_count": null,
   "id": "c13e1287",
   "metadata": {},
   "outputs": [],
   "source": [
    "# Plot the events \n",
    "import pygmt\n",
    "fig = pygmt.Figure()\n",
    "# grid = pygmt.datasets.load_earth_relief(resolution=\"15s\", region=[-126, -124, 40, 43])\n",
    "# # fig.shift_origin(yshift=\"10c\")\n",
    "# fig.grdimage(grid=grid, projection=\"M15c\", frame=\"a\", cmap=\"geo\", transparency = 50)\n",
    "# # fig.plot(x = events_morton_201210_lon, y = events_morton_201210_lat,  \n",
    "# #          color = 'blue', size = size_morton, style = \"c\", pen = \"black\")\n",
    "# # fig.plot(x = myevents_20121014_lon, y = myevents_20121014_lat,  \n",
    "# #          color = 'red', size = size_myevents, style = \"c\", pen = \"black\")\n",
    "# # fig.plot(x = events_jdf_201210_lon, y = events_jdf_201210_lat,  \n",
    "# #          color = 'yellow', size = size_jdf, style = \"c\", pen = \"black\")\n",
    "# # fig.plot(x = events_cascadia_201210_lon, y = events_cascadia_201210_lat,  \n",
    "# #          color = 'yellow', size = size_cascadia, style = \"c\", pen = \"black\")\n",
    "# # fig.plot(x = events_USGS_201210_lon, y = events_USGS_201210_lat,  \n",
    "# #          color = 'green', size = size_USGS, style = \"c\", pen = \"black\")\n",
    "# # # Draw a line between two events that we consider to be the same event \n",
    "# # Draw a line between two events that we consider to be the same event \n",
    "# # fig.plot(x = (event_0239_lon,event_morton_0239_lon), y = (event_0239_lat,event_morton_0239_lat), pen =\"4p, red\")\n",
    "# # fig.plot(x = (event_0239_lon,event_morton_0239_lon), y = (event_0239_lat,event_morton_0308_lat), pen =\"4p, red\")\n",
    "# fig.plot(x=events[\"x\"], y=events[\"y\"], c=events[\"z\"],s=0.5,cmap='viridis')\n",
    "# fig.show()\n",
    "\n",
    "grid = pygmt.datasets.load_earth_relief(resolution=\"15s\", region=[-126, -124, 40, 43])\n",
    "fig.shift_origin(yshift=\"10c\")\n",
    "fig.grdimage(grid=grid, projection=\"M15c\", frame=\"a\", cmap=\"geo\", transparency = 50)\n",
    "pygmt.makecpt(cmap=\"hot\", series=[min(events['picks'].values), max(events['picks'].values)])\n",
    "fig.plot(\n",
    "    x=events[\"longitude\"].values,\n",
    "    y=events[\"latitude\"].values,\n",
    "    size=0.3 * np.ones(len(events)),\n",
    "    fill=events['picks'].values,\n",
    "    cmap=True,\n",
    "    style=\"cc\",\n",
    "    pen=\"black\",\n",
    ")\n",
    "fig.colorbar(frame=\"xaf+lNumber of Picks\")\n",
    "# fig.plot(x=events[\"longitude\"].values[0:200], y=events[\"latitude\"].values[0:200], style=\"c0.3c\", color=events['picks'].values[0:200], cmap='viridis', pen=\"black\")\n",
    "fig.show()"
   ]
  },
  {
   "cell_type": "markdown",
   "id": "4ee49480",
   "metadata": {},
   "source": [
    "## Association validation (not necessary anymore) \n",
    "Get the events from the USGS and compare with the events from the association\n"
   ]
  },
  {
   "cell_type": "code",
   "execution_count": null,
   "id": "75d2c561",
   "metadata": {},
   "outputs": [],
   "source": [
    "client = Client(\"USGS\")\n",
    "client_waveforms = WaveformClient()\n",
    "client.get_events(starttime = UTCDateTime(\"2012-10-14T00:00:00.000000\"),\n",
    "                  endtime   = UTCDateTime(\"2012-10-14T23:59:59.999999\"),\n",
    "                  minlatitude = 40, maxlatitude = 44, \n",
    "                  minlongitude = -125, maxlongitude = -120)\n"
   ]
  },
  {
   "cell_type": "code",
   "execution_count": null,
   "id": "5921ac85",
   "metadata": {},
   "outputs": [],
   "source": [
    "# Pick a station \n",
    "s = client_waveforms.get_waveforms(network=\"7D\", station=\"FS09B\", channel=\"BH?\", year=2012, month=10, day=14)\n",
    "s.filter(type='bandpass',freqmin=4,freqmax=15)"
   ]
  },
  {
   "cell_type": "code",
   "execution_count": null,
   "id": "52bc56fb",
   "metadata": {},
   "outputs": [],
   "source": [
    "# Pick a time that shows up in both the USGS catalog and the event data frame from the association above \n",
    "time1 = events.loc[1, 'time']"
   ]
  },
  {
   "cell_type": "code",
   "execution_count": null,
   "id": "e24b438d",
   "metadata": {},
   "outputs": [],
   "source": [
    "time1"
   ]
  },
  {
   "cell_type": "code",
   "execution_count": null,
   "id": "16eb9cc6",
   "metadata": {},
   "outputs": [],
   "source": [
    "trim_s = s.copy().trim(starttime = UTCDateTime(time1) - 20, \n",
    "                endtime = UTCDateTime(time1) + 40)\n",
    "fig = plt.figure(figsize = (10, 4))\n",
    "trim_s.plot(fig=fig)\n",
    "\n",
    "# [ax.axvline(pick.peak_time.matplotlib_date, \n",
    "#             linestyle = '--', color = 'r', label = f'{pick.phase} pick') for ax in fig.axes]\n",
    "# [ax.legend() for ax in fig.axes]"
   ]
  },
  {
   "cell_type": "code",
   "execution_count": null,
   "id": "ea03a6cb",
   "metadata": {},
   "outputs": [],
   "source": [
    "# Pick another time that shows up in both the USGS catalog and the event data frame from the association above \n",
    "time2 = events.loc[2, 'time']\n",
    "time2"
   ]
  },
  {
   "cell_type": "code",
   "execution_count": null,
   "id": "d6006088",
   "metadata": {},
   "outputs": [],
   "source": [
    "trim_s = s.copy().trim(starttime = UTCDateTime(time2) - 20, \n",
    "                endtime = UTCDateTime(time2) + 40)\n",
    "fig = plt.figure(figsize = (10, 4))\n",
    "trim_s.plot(fig=fig)\n",
    "\n",
    "# [ax.axvline(pick.peak_time.matplotlib_date, \n",
    "#             linestyle = '--', color = 'r', label = f'{pick.phase} pick') for ax in fig.axes]\n",
    "# [ax.legend() for ax in fig.axes]"
   ]
  },
  {
   "cell_type": "markdown",
   "id": "6382af9b",
   "metadata": {},
   "source": [
    "## Other Picks"
   ]
  },
  {
   "cell_type": "code",
   "execution_count": null,
   "id": "5109e9ee",
   "metadata": {},
   "outputs": [],
   "source": [
    "time = events['time']\n",
    "time"
   ]
  },
  {
   "cell_type": "code",
   "execution_count": null,
   "id": "dc7fe7f7",
   "metadata": {},
   "outputs": [],
   "source": [
    "time_possibly_new_events = time.drop(labels=[1,2], axis=0)\n",
    "time_possibly_new_events"
   ]
  },
  {
   "cell_type": "code",
   "execution_count": null,
   "id": "74e0cb1e",
   "metadata": {
    "scrolled": false
   },
   "outputs": [],
   "source": [
    "for time in time_possibly_new_events:\n",
    "    plt.figure(figsize=(10,10))\n",
    "    for i in range(len(stations)):\n",
    "        s = client_waveforms.get_waveforms(network=\"7D\", station=stations['id'][i], channel=\"?H?\", year=2012, month=10, day=14)\n",
    "        s = s.select(channel = \"[HB]H?\")\n",
    "        s.filter(type='bandpass',freqmin=4,freqmax=15)\n",
    "        if s[0].stats.channel == 'HH1':\n",
    "            s = s.resample(50)\n",
    "        else:\n",
    "            pass \n",
    "\n",
    "        trim_s = s.copy().trim(starttime = UTCDateTime(time) - 10, endtime = UTCDateTime(time) + 50)\n",
    "        sdata = np.array(trim_s)[:,:]\n",
    "        sdata_norm = (sdata-np.min(sdata, axis=1, keepdims=True))/(np.max(sdata, axis=1, keepdims=True)-np.min(sdata, axis=1, keepdims=True))\n",
    "        offsets2 = np.arange(0,3*len(sdata)*len(stations),3*len(sdata))\n",
    "\n",
    "        for ii in range(len(sdata)):\n",
    "            offsets1  = np.arange(0,len(sdata))\n",
    "            plt.plot(trim_s[ii].times(type='utcdatetime'), sdata_norm[ii]+offsets1[ii]+offsets2[i], color = 'gray', alpha=0.7, lw=0.5)    \n",
    "\n",
    "\n",
    "    plt.yticks(offsets2+1, stations['id'])\n",
    "    plt.axvline(time,ls='-', c='r')\n",
    "    plt.title(time)"
   ]
  },
  {
   "cell_type": "code",
   "execution_count": null,
   "id": "1ba96a54",
   "metadata": {},
   "outputs": [],
   "source": []
  },
  {
   "cell_type": "code",
   "execution_count": null,
   "id": "922d45d2",
   "metadata": {},
   "outputs": [],
   "source": []
  },
  {
   "cell_type": "code",
   "execution_count": null,
   "id": "ad773019",
   "metadata": {},
   "outputs": [],
   "source": []
  },
  {
   "cell_type": "code",
   "execution_count": null,
   "id": "8bf6a534",
   "metadata": {},
   "outputs": [],
   "source": []
  },
  {
   "cell_type": "code",
   "execution_count": null,
   "id": "0711c1ac",
   "metadata": {},
   "outputs": [],
   "source": []
  },
  {
   "cell_type": "code",
   "execution_count": null,
   "id": "56b6f13d",
   "metadata": {},
   "outputs": [],
   "source": []
  },
  {
   "cell_type": "code",
   "execution_count": null,
   "id": "6d113604",
   "metadata": {},
   "outputs": [],
   "source": []
  },
  {
   "cell_type": "code",
   "execution_count": null,
   "id": "4c756483",
   "metadata": {},
   "outputs": [],
   "source": []
  },
  {
   "cell_type": "code",
   "execution_count": null,
   "id": "07f5c96c",
   "metadata": {},
   "outputs": [],
   "source": []
  },
  {
   "cell_type": "code",
   "execution_count": null,
   "id": "541bb971",
   "metadata": {},
   "outputs": [],
   "source": [
    "# Plot waveforms of events picked by the associator but not on the USGS catalog\n",
    "time4 = events.loc[4, 'time']\n",
    "time4"
   ]
  },
  {
   "cell_type": "code",
   "execution_count": null,
   "id": "663b712a",
   "metadata": {},
   "outputs": [],
   "source": [
    "# s_FS09B = client_waveforms.get_waveforms(network=\"7D\", station=\"FS09B\", channel=\"BH?\", year=2012, month=10, day=14)\n",
    "# s_G10B = client_waveforms.get_waveforms(network=\"7D\", station=\"G10B\", channel=\"BH?\", year=2012, month=10, day=14)\n",
    "# s_G19B = client_waveforms.get_waveforms(network=\"7D\", station=\"G19B\", channel=\"BH?\", year=2012, month=10, day=14)\n",
    "# s_G25B = client_waveforms.get_waveforms(network=\"7D\", station=\"G25B\", channel=\"BH?\", year=2012, month=10, day=14)\n",
    "# s_G27B = client_waveforms.get_waveforms(network=\"7D\", station=\"G27B\", channel=\"BH?\", year=2012, month=10, day=14)\n",
    "# s_J09B = client_waveforms.get_waveforms(network=\"7D\", station=\"J09B\", channel=\"BH?\", year=2012, month=10, day=14)\n",
    "# s_M12B= client_waveforms.get_waveforms(network=\"7D\", station=\"M12B\", channel=\"BH?\", year=2012, month=10, day=14)\n",
    "# s_M14B = client_waveforms.get_waveforms(network=\"7D\", station=\"M14B\", channel=\"BH?\", year=2012, month=10, day=14)\n"
   ]
  },
  {
   "cell_type": "code",
   "execution_count": null,
   "id": "af5a9fec",
   "metadata": {},
   "outputs": [],
   "source": [
    "# trim_s_FS09B = s.copy().trim(starttime = UTCDateTime(time1) - 20, endtime = UTCDateTime(time1) + 40)\n",
    "# trim_s_G10B = s.copy().trim(starttime = UTCDateTime(time1) - 20, endtime = UTCDateTime(time1) + 40)\n",
    "# trim_s_G19B = s.copy().trim(starttime = UTCDateTime(time1) - 20, endtime = UTCDateTime(time1) + 40)\n",
    "# trim_s_G25B = s.copy().trim(starttime = UTCDateTime(time1) - 20, endtime = UTCDateTime(time1) + 40)\n",
    "# trim_s_G27B = s.copy().trim(starttime = UTCDateTime(time1) - 20, endtime = UTCDateTime(time1) + 40)\n",
    "# trim_s_J09B = s.copy().trim(starttime = UTCDateTime(time1) - 20, endtime = UTCDateTime(time1) + 40)\n",
    "# trim_s_M12B = s.copy().trim(starttime = UTCDateTime(time1) - 20, endtime = UTCDateTime(time1) + 40)\n",
    "# trim_s_M14B = s.copy().trim(starttime = UTCDateTime(time1) - 20, endtime = UTCDateTime(time1) + 40)\n",
    "\n"
   ]
  },
  {
   "cell_type": "code",
   "execution_count": null,
   "id": "fccedef5",
   "metadata": {
    "scrolled": true
   },
   "outputs": [],
   "source": [
    "for i, station in enumerate(stations['id']):\n",
    "    s = client_waveforms.get_waveforms(network=\"7D\", station=station, channel=\"?H?\", year=2012, month=10, day=14)\n",
    "    s = s.select(channel = \"[HB]H?\")\n",
    "    s.filter(type='bandpass',freqmin=4,freqmax=15)\n",
    "    trim_s = s.copy().trim(starttime = UTCDateTime(pick_time[4]) - 20, endtime = UTCDateTime(pick_time[4]) + 100)\n",
    "    fig = plt.figure(figsize=(10,4))\n",
    "    trim_s.plot(fig=fig)\n",
    "    [ax.axvline(pick_time[4], \n",
    "            linestyle = '--', color = 'r', label = 'pick time') for ax in fig.axes]    \n"
   ]
  },
  {
   "cell_type": "code",
   "execution_count": null,
   "id": "2f71da0a",
   "metadata": {},
   "outputs": [],
   "source": [
    "offsets1  = np.arange(0,3)\n",
    "offsets2 = np.arange(0,2*len(stations),2)\n",
    "\n"
   ]
  },
  {
   "cell_type": "code",
   "execution_count": null,
   "id": "afb10228",
   "metadata": {},
   "outputs": [],
   "source": [
    "offsets1"
   ]
  },
  {
   "cell_type": "code",
   "execution_count": null,
   "id": "12481d1c",
   "metadata": {},
   "outputs": [],
   "source": [
    "offsets2 = np.arange(0,2*10000*len(stations),2*10000)\n",
    "\n",
    "offsets2"
   ]
  },
  {
   "cell_type": "code",
   "execution_count": null,
   "id": "6c636fb6",
   "metadata": {},
   "outputs": [],
   "source": [
    "plt.figure()\n",
    "offsets2 = np.arange(0,5*10000*len(stations),5*10000)\n",
    "\n",
    "for i, station in enumerate(stations['id']):\n",
    "    s = client_waveforms.get_waveforms(network=\"7D\", station=station, channel=\"?H?\", year=2012, month=10, day=14)\n",
    "    s = s.select(channel = \"[HB]H?\")\n",
    "    s.filter(type='bandpass',freqmin=4,freqmax=15)\n",
    "    trim_s = s.copy().trim(starttime = UTCDateTime(pick_time[4]) - 20, endtime = UTCDateTime(pick_time[4]) + 100)\n",
    "    sdata = np.array(trim_s)[:,:]\n",
    "    for ii in range(len(sdata)):\n",
    "        offsets1  = np.arange(0,10000*len(sdata),10000)\n",
    "        plt.plot(sdata[ii].T+offsets1[ii]+offsets2[i], color = 'gray', alpha=0.5)   \n"
   ]
  },
  {
   "cell_type": "code",
   "execution_count": null,
   "id": "dd3cf9cb",
   "metadata": {},
   "outputs": [],
   "source": [
    "offsets2 = np.arange(0,5*100000*len(stations),5*100000)\n",
    "\n",
    "\n",
    "s = client_waveforms.get_waveforms(network=\"7D\", station=stations['id'][0], channel=\"?H?\", year=2012, month=10, day=14)\n",
    "s = s.select(channel = \"[HB]H?\")\n",
    "s.filter(type='bandpass',freqmin=4,freqmax=15)\n",
    "sampling_rate = s[0].stats.sampling_rate\n",
    "trim_s = s.copy().trim(starttime = UTCDateTime(pick_time[4]) - 10, endtime = UTCDateTime(pick_time[4]) + 50)\n",
    "sdata = np.array(trim_s)[:,:]\n",
    "sdata_norm = (sdata - np.mean(sdata, axis=1, keepdims=True))/(np.std(sdata, axis=1, keepdims=True))\n",
    "\n",
    "for ii in range(len(sdata)):\n",
    "    offsets1  = np.arange(0,len(sdata))\n",
    "    plt.plot(sdata_norm.T+offsets1[ii], color = 'gray', alpha=0.5, lw=0.5)\n",
    "\n",
    "plt.axvline(10*sampling_rate,ls='-', c='r')\n",
    "    \n"
   ]
  },
  {
   "cell_type": "code",
   "execution_count": null,
   "id": "6db09907",
   "metadata": {},
   "outputs": [],
   "source": [
    "sdata.mean()"
   ]
  },
  {
   "cell_type": "code",
   "execution_count": null,
   "id": "d49994be",
   "metadata": {},
   "outputs": [],
   "source": [
    "s[0].stats.sampling_rate*120"
   ]
  },
  {
   "cell_type": "code",
   "execution_count": null,
   "id": "c0574f27",
   "metadata": {},
   "outputs": [],
   "source": [
    "s = client_waveforms.get_waveforms(network=\"7D\", station=stations['id'][3], channel=\"?H?\", year=2012, month=10, day=14)\n",
    "s = s.select(channel = \"[HB]H?\")\n",
    "s.filter(type='bandpass',freqmin=4,freqmax=15)\n",
    "trim_s = s.copy().trim(starttime = UTCDateTime(pick_time[4]) - 10, endtime = UTCDateTime(pick_time[4]) + 50)\n",
    "sdata = np.array(trim_s)[:,:]\n",
    "sdata_norm = (sdata - np.mean(sdata, axis=1, keepdims=True))/(np.std(sdata, axis=1, keepdims=True))\n",
    "\n",
    "for ii in range(len(sdata)):\n",
    "    offsets1  = np.arange(0,len(sdata))\n",
    "    plt.plot(sdata_norm.T+offsets1[ii], color = 'gray', alpha=0.5, lw=0.5)"
   ]
  },
  {
   "cell_type": "code",
   "execution_count": null,
   "id": "e6b0cb7a",
   "metadata": {},
   "outputs": [],
   "source": [
    "plt.figure(figsize=(10,10))\n",
    "offsets2 = np.arange(0,3*len(sdata)*len(stations),3*len(sdata))\n",
    "\n",
    "for i in range(len(stations)):\n",
    "    s = client_waveforms.get_waveforms(network=\"7D\", station=stations['id'][i], channel=\"?H?\", year=2012, month=10, day=14)\n",
    "    s = s.select(channel = \"[HB]H?\")\n",
    "    s.filter(type='bandpass',freqmin=4,freqmax=15)\n",
    "    trim_s = s.copy().trim(starttime = UTCDateTime(pick_time[4]) - 10, endtime = UTCDateTime(pick_time[4]) + 50)\n",
    "    sdata = np.array(trim_s)[:,:]\n",
    "    sdata_norm = (sdata - np.mean(sdata, axis=1, keepdims=True))/(np.std(sdata, axis=1, keepdims=True))\n",
    "\n",
    "    for ii in range(len(sdata)):\n",
    "        offsets1  = np.arange(0,len(sdata))\n",
    "        plt.plot(sdata_norm.T+offsets1[ii]+offsets2[i], color = 'gray', alpha=0.5, lw=0.5)    \n",
    "\n",
    "plt.axvline(10*sampling_rate,ls='-', c='r')\n"
   ]
  },
  {
   "cell_type": "code",
   "execution_count": null,
   "id": "19c686e5",
   "metadata": {},
   "outputs": [],
   "source": [
    "offsets2 = np.arange(0,3*len(sdata)*len(stations),3*len(sdata))\n",
    "offsets2"
   ]
  },
  {
   "cell_type": "code",
   "execution_count": null,
   "id": "e7018b5d",
   "metadata": {},
   "outputs": [],
   "source": [
    "np.mean(sdata, axis=1, keepdims=True)"
   ]
  },
  {
   "cell_type": "code",
   "execution_count": null,
   "id": "0e2ae66a",
   "metadata": {},
   "outputs": [],
   "source": [
    "sdata"
   ]
  },
  {
   "cell_type": "code",
   "execution_count": null,
   "id": "ae3a3c94",
   "metadata": {
    "scrolled": true
   },
   "outputs": [],
   "source": [
    "np.mean(sdata[0])"
   ]
  },
  {
   "cell_type": "code",
   "execution_count": null,
   "id": "21ad1bd4",
   "metadata": {},
   "outputs": [],
   "source": [
    "(sdata - np.mean(sdata, axis=1, keepdims=True))/(np.std(sdata, axis=1, keepdims=True))"
   ]
  },
  {
   "cell_type": "code",
   "execution_count": null,
   "id": "d22e3aa6",
   "metadata": {},
   "outputs": [],
   "source": [
    "(225.73644077-0.28159811)/20312.08876045"
   ]
  },
  {
   "cell_type": "code",
   "execution_count": null,
   "id": "195cbc12",
   "metadata": {},
   "outputs": [],
   "source": [
    "np.std(sdata, axis=1, keepdims=True) "
   ]
  },
  {
   "cell_type": "code",
   "execution_count": null,
   "id": "5d683445",
   "metadata": {},
   "outputs": [],
   "source": [
    "sdata"
   ]
  },
  {
   "cell_type": "code",
   "execution_count": null,
   "id": "52abdd98",
   "metadata": {},
   "outputs": [],
   "source": [
    "np.max(sdata, axis=1, keepdims=True)"
   ]
  },
  {
   "cell_type": "code",
   "execution_count": null,
   "id": "5300ce85",
   "metadata": {},
   "outputs": [],
   "source": [
    "np.min(sdata, axis=1, keepdims=True)"
   ]
  },
  {
   "cell_type": "code",
   "execution_count": null,
   "id": "2fd831f7",
   "metadata": {},
   "outputs": [],
   "source": [
    "(sdata-np.min(sdata, axis=1, keepdims=True))/(np.max(sdata, axis=1, keepdims=True)-np.min(sdata, axis=1, keepdims=True))"
   ]
  },
  {
   "cell_type": "code",
   "execution_count": null,
   "id": "ab06af2b",
   "metadata": {},
   "outputs": [],
   "source": [
    "plt.figure(figsize=(10,10))\n",
    "offsets2 = np.arange(0,3*len(sdata)*len(stations),3*len(sdata))\n",
    "\n",
    "for i in range(len(stations)):\n",
    "    s = client_waveforms.get_waveforms(network=\"7D\", station=stations['id'][i], channel=\"?H?\", year=2012, month=10, day=14)\n",
    "    s = s.select(channel = \"[HB]H?\")\n",
    "    s.filter(type='bandpass',freqmin=4,freqmax=15)\n",
    "    trim_s = s.copy().trim(starttime = UTCDateTime(pick_time[4]) - 10, endtime = UTCDateTime(pick_time[4]) + 50)\n",
    "    sdata = np.array(trim_s)[:,:]\n",
    "    if s[0].stats.channel == 'HH1':\n",
    "        new_rate = 50\n",
    "        number_of_samples = round(len(sdata[0]) * float(new_rate) /s[0].stats.sampling_rate)\n",
    "        sdata = signal.resample(sdata, number_of_samples, axis=-1)\n",
    "    else:\n",
    "        pass \n",
    "    print(len(sdata[-1]))\n",
    "    sdata_norm = (sdata-np.min(sdata, axis=1, keepdims=True))/(np.max(sdata, axis=1, keepdims=True)-np.min(sdata, axis=1, keepdims=True))\n",
    "    for ii in range(len(sdata)):\n",
    "        offsets1  = np.arange(0,len(sdata))\n",
    "        plt.plot(sdata_norm.T+offsets1[ii]+offsets2[i], color = 'gray', alpha=0.5, lw=0.5)    \n",
    "\n",
    "plt.axvline(10*sampling_rate,ls='-', c='r')\n",
    "# plt.xlim(0,3000)\n"
   ]
  },
  {
   "cell_type": "code",
   "execution_count": null,
   "id": "af90cc14",
   "metadata": {},
   "outputs": [],
   "source": [
    "s = client_waveforms.get_waveforms(network=\"7D\", station=stations['id'][3], channel=\"?H?\", year=2012, month=10, day=14)\n",
    "s = s.select(channel = \"[HB]H?\")\n",
    "s.filter(type='bandpass',freqmin=4,freqmax=15)\n",
    "trim_s = s.copy().trim(starttime = UTCDateTime(pick_time[4]) - 10, endtime = UTCDateTime(pick_time[4]) + 50)\n",
    "sdata = np.array(trim_s)[:,:]\n",
    "sdata_norm = (sdata-np.min(sdata, axis=1, keepdims=True))/(np.max(sdata, axis=1, keepdims=True)-np.min(sdata, axis=1, keepdims=True))"
   ]
  },
  {
   "cell_type": "code",
   "execution_count": null,
   "id": "bb688b1e",
   "metadata": {},
   "outputs": [],
   "source": [
    "UTCDateTime(pick_time[4]) - 10"
   ]
  },
  {
   "cell_type": "code",
   "execution_count": null,
   "id": "c2c7c95c",
   "metadata": {},
   "outputs": [],
   "source": [
    "UTCDateTime(pick_time[4]) + 50"
   ]
  },
  {
   "cell_type": "code",
   "execution_count": null,
   "id": "34d6a893",
   "metadata": {},
   "outputs": [],
   "source": [
    "s[0].stats.sampling_rate"
   ]
  },
  {
   "cell_type": "code",
   "execution_count": null,
   "id": "9d907651",
   "metadata": {},
   "outputs": [],
   "source": [
    "s[0].stats.channel"
   ]
  },
  {
   "cell_type": "code",
   "execution_count": null,
   "id": "535ee984",
   "metadata": {},
   "outputs": [],
   "source": [
    "len(s[-1])"
   ]
  },
  {
   "cell_type": "code",
   "execution_count": null,
   "id": "b168bade",
   "metadata": {},
   "outputs": [],
   "source": [
    "s[0].stats.sampling_rate"
   ]
  },
  {
   "cell_type": "code",
   "execution_count": null,
   "id": "a83dc622",
   "metadata": {},
   "outputs": [],
   "source": [
    "s[0].stats.channel"
   ]
  },
  {
   "cell_type": "code",
   "execution_count": null,
   "id": "1d572a67",
   "metadata": {},
   "outputs": [],
   "source": [
    "len(s[-1])"
   ]
  },
  {
   "cell_type": "code",
   "execution_count": null,
   "id": "7e7f277e",
   "metadata": {},
   "outputs": [],
   "source": [
    "s = signal.decimate(s, 125/50, axis=-1)"
   ]
  },
  {
   "cell_type": "code",
   "execution_count": null,
   "id": "63d03af5",
   "metadata": {},
   "outputs": [],
   "source": [
    "np.array(s)"
   ]
  },
  {
   "cell_type": "code",
   "execution_count": null,
   "id": "a13c4a5b",
   "metadata": {},
   "outputs": [],
   "source": [
    "int(125/50)"
   ]
  },
  {
   "cell_type": "code",
   "execution_count": null,
   "id": "f395161d",
   "metadata": {},
   "outputs": [],
   "source": [
    "new_rate = 50\n",
    "number_of_samples = round(len(s[0]) * float(new_rate) / 125)\n",
    "number_of_samples"
   ]
  },
  {
   "cell_type": "code",
   "execution_count": null,
   "id": "f6af4263",
   "metadata": {},
   "outputs": [],
   "source": [
    "s = signal.resample(s, number_of_samples, axis=-1)\n",
    "len(s[-1])"
   ]
  },
  {
   "cell_type": "code",
   "execution_count": null,
   "id": "cabd13f2",
   "metadata": {},
   "outputs": [],
   "source": [
    "s"
   ]
  },
  {
   "cell_type": "code",
   "execution_count": null,
   "id": "5956c34a",
   "metadata": {},
   "outputs": [],
   "source": [
    "s = client_waveforms.get_waveforms(network=\"7D\", station=stations['id'][3], channel=\"?H?\", year=2012, month=10, day=14)\n",
    "s = s.select(channel = \"[HB]H?\")\n",
    "s.filter(type='bandpass',freqmin=4,freqmax=15)\n",
    "trim_s = s.copy().trim(starttime = UTCDateTime(pick_time[4]) - 10, endtime = UTCDateTime(pick_time[4]) + 50)\n",
    "sdata = np.array(trim_s)[:,:]\n",
    "print(len(sdata[-1]))\n",
    "\n",
    "new_rate = 50\n",
    "number_of_samples = round(len(sdata[0]) * float(new_rate) /s[0].stats.sampling_rate)\n",
    "sdata = signal.resample(sdata, number_of_samples, axis=-1)\n",
    "print(len(sdata[-1]))"
   ]
  },
  {
   "cell_type": "code",
   "execution_count": null,
   "id": "0d085d1e",
   "metadata": {},
   "outputs": [],
   "source": [
    "trim_s[0].times(reftime=UTCDateTime(pick_time[4]) - 10)"
   ]
  },
  {
   "cell_type": "code",
   "execution_count": null,
   "id": "97840d66",
   "metadata": {},
   "outputs": [],
   "source": [
    "UTCDateTime(pick_time[4])"
   ]
  },
  {
   "cell_type": "code",
   "execution_count": null,
   "id": "831d72ec",
   "metadata": {},
   "outputs": [],
   "source": [
    "trim_s.trigger('recstalta',sta=1, lta=4)"
   ]
  },
  {
   "cell_type": "code",
   "execution_count": null,
   "id": "0ef2ff26",
   "metadata": {},
   "outputs": [],
   "source": [
    "trim_s.plot()"
   ]
  },
  {
   "cell_type": "code",
   "execution_count": null,
   "id": "b6d72b35",
   "metadata": {},
   "outputs": [],
   "source": [
    "plt.figure(figsize=(10,10))\n",
    "offsets2 = np.arange(0,3*len(sdata)*len(stations),3*len(sdata))\n",
    "\n",
    "for i in range(len(stations)):\n",
    "    s = client_waveforms.get_waveforms(network=\"7D\", station=stations['id'][i], channel=\"?H?\", year=2012, month=10, day=14)\n",
    "    s = s.select(channel = \"[HB]H?\")\n",
    "    s.filter(type='bandpass',freqmin=4,freqmax=15)\n",
    "    if s[0].stats.channel == 'HH1':\n",
    "        s = s.resample(50)\n",
    "    else:\n",
    "        pass \n",
    "    \n",
    "    trim_s = s.copy().trim(starttime = UTCDateTime(pick_time[4]) - 10, endtime = UTCDateTime(pick_time[4]) + 50)\n",
    "    sdata = np.array(trim_s)[:,:]\n",
    "    sdata_norm = (sdata-np.min(sdata, axis=1, keepdims=True))/(np.max(sdata, axis=1, keepdims=True)-np.min(sdata, axis=1, keepdims=True))\n",
    "    \n",
    "    for ii in range(len(sdata)):\n",
    "        offsets1  = np.arange(0,len(sdata))\n",
    "        plt.plot(trim_s[ii].times(type='utcdatetime'), sdata_norm[ii]+offsets1[ii]+offsets2[i], color = 'gray', alpha=0.7, lw=0.5)    \n",
    "    \n",
    "\n",
    "plt.yticks(offsets2+1, stations['id'])\n",
    "plt.axvline(pick_time[4],ls='-', c='r')\n",
    "plt.title(pick_time[4])\n",
    "\n",
    "# plt.xlim(0,3000)\n"
   ]
  },
  {
   "cell_type": "code",
   "execution_count": null,
   "id": "008cc67e",
   "metadata": {},
   "outputs": [],
   "source": []
  },
  {
   "cell_type": "code",
   "execution_count": null,
   "id": "54291c17",
   "metadata": {},
   "outputs": [],
   "source": [
    "np.arange(0,3*len(sdata)*len(stations),3*len(sdata))"
   ]
  },
  {
   "cell_type": "code",
   "execution_count": null,
   "id": "4424bc02",
   "metadata": {},
   "outputs": [],
   "source": [
    "stations['id']"
   ]
  },
  {
   "cell_type": "code",
   "execution_count": null,
   "id": "1d2f0ca4",
   "metadata": {},
   "outputs": [],
   "source": [
    "all_picks, all_detections = model.classify(sdata)"
   ]
  },
  {
   "cell_type": "code",
   "execution_count": null,
   "id": "4fa17a55",
   "metadata": {},
   "outputs": [],
   "source": [
    "picks_G25B =  pd.read_csv(\"~/notebooks/data/catalogs_elep_filtered_stations_20121001_to_20121031/G25B_20121014.csv\",index_col=0)\n",
    "picks_G25B"
   ]
  },
  {
   "cell_type": "code",
   "execution_count": null,
   "id": "2acfad2f",
   "metadata": {},
   "outputs": [],
   "source": [
    "pick_time[4]"
   ]
  },
  {
   "cell_type": "markdown",
   "id": "138c8708",
   "metadata": {},
   "source": [
    "## Plot the associated events on a map"
   ]
  },
  {
   "cell_type": "code",
   "execution_count": null,
   "id": "cb9e1552",
   "metadata": {},
   "outputs": [],
   "source": [
    "import pygmt\n",
    "\n",
    "fig = pygmt.Figure()\n",
    "grid = pygmt.datasets.load_earth_relief(resolution=\"15s\", region=[-126, -124, 40, 43])\n",
    "# fig.shift_origin(yshift=\"10c\")\n",
    "fig.grdimage(grid=grid, projection=\"M15c\", frame=\"a\", cmap=\"geo\", transparency = 50)\n",
    "fig.plot(x = events_morton_lon, y = events_morton_lat,  \n",
    "         color = 'blue', size = size_morton, style = \"c\", pen = \"black\")\n",
    "fig.plot(x = events_longitude, y = events_latitude,  \n",
    "         color = 'red', size = size, style = \"c\", pen = \"black\")\n",
    "fig.plot(x = events_jdf_lon, y = events_jdf_lat,  \n",
    "         color = 'yellow', size = size_jdf, style = \"c\", pen = \"black\")\n",
    "fig.plot(x = events_cascadia_lon, y = events_cascadia_lat,  \n",
    "         color = 'yellow', size = size_cascadia, style = \"c\", pen = \"black\")\n",
    "# # Draw a line between two events that we consider to be the same event \n",
    "# fig.plot(x = [, y = events_cascadia_lat,  \n",
    "#          color = 'yellow', size = size_cascadia, style = \"c\", pen = \"black\")\n",
    "\n",
    "fig.show()"
   ]
  },
  {
   "cell_type": "code",
   "execution_count": null,
   "id": "7ac735d6",
   "metadata": {},
   "outputs": [],
   "source": [
    "events_longitude = events['longitude']\n",
    "events_longitude"
   ]
  },
  {
   "cell_type": "code",
   "execution_count": null,
   "id": "858fa46e",
   "metadata": {},
   "outputs": [],
   "source": [
    "events_latitude = events['latitude']\n",
    "events_latitude "
   ]
  },
  {
   "cell_type": "code",
   "execution_count": null,
   "id": "b9552623",
   "metadata": {},
   "outputs": [],
   "source": [
    "# Assign the size of 0.5 to all the points for the associated events \n",
    "\n",
    "size = np.zeros(len(events))\n",
    "for i in range(len(events)):\n",
    "    size[i] = 0.2"
   ]
  },
  {
   "cell_type": "code",
   "execution_count": null,
   "id": "06a70bd2",
   "metadata": {},
   "outputs": [],
   "source": [
    "size_jdf = np.zeros(len(events_jdf))\n",
    "for i in range(len(events_jdf)):\n",
    "    size_jdf[i] = 0.2"
   ]
  },
  {
   "cell_type": "code",
   "execution_count": null,
   "id": "bb70da38",
   "metadata": {},
   "outputs": [],
   "source": [
    "size_cascadia = np.zeros(len(events_cascadia))\n",
    "for i in range(len(events_cascadia)):\n",
    "    size_cascadia[i] = 0.2"
   ]
  },
  {
   "cell_type": "code",
   "execution_count": null,
   "id": "ce8e9541",
   "metadata": {},
   "outputs": [],
   "source": [
    "size_morton = np.zeros(len(events_morton))\n",
    "for i in range(len(events_morton)):\n",
    "    size_morton[i] = 0.2"
   ]
  },
  {
   "cell_type": "code",
   "execution_count": null,
   "id": "73d6a339",
   "metadata": {},
   "outputs": [],
   "source": [
    "len(size_cascadia)"
   ]
  },
  {
   "cell_type": "code",
   "execution_count": null,
   "id": "f2cc6940",
   "metadata": {},
   "outputs": [],
   "source": [
    "size"
   ]
  },
  {
   "cell_type": "code",
   "execution_count": null,
   "id": "e0d2ffb4",
   "metadata": {},
   "outputs": [],
   "source": [
    "events"
   ]
  },
  {
   "cell_type": "code",
   "execution_count": null,
   "id": "6e9ad89c",
   "metadata": {},
   "outputs": [],
   "source": [
    "type(events_latitude.shape)"
   ]
  },
  {
   "cell_type": "code",
   "execution_count": null,
   "id": "c9010046",
   "metadata": {},
   "outputs": [],
   "source": [
    "events_longitude.shape"
   ]
  },
  {
   "cell_type": "markdown",
   "id": "d47ceff7",
   "metadata": {},
   "source": [
    "## Load Data from Ian Stone's Paper"
   ]
  },
  {
   "cell_type": "code",
   "execution_count": null,
   "id": "3d24aafa",
   "metadata": {},
   "outputs": [],
   "source": [
    "events_cascadia = pd.read_csv('jgrb52524-sup-0002-2017jb014966-ds01.csv')\n",
    "events_jdf = pd.read_csv('jgrb52524-sup-0003-2017jb014966-ds02.csv')"
   ]
  },
  {
   "cell_type": "code",
   "execution_count": null,
   "id": "23f40e99",
   "metadata": {},
   "outputs": [],
   "source": [
    "events_cascadia[0:5]"
   ]
  },
  {
   "cell_type": "code",
   "execution_count": null,
   "id": "f8c8b46e",
   "metadata": {},
   "outputs": [],
   "source": [
    "events_jdf[0:5]"
   ]
  },
  {
   "cell_type": "code",
   "execution_count": null,
   "id": "49bab0b3",
   "metadata": {},
   "outputs": [],
   "source": [
    "# Get the latitude and longitude from Stone's catalog for JDF\n",
    "events_jdf_lon = events_jdf['Longitude']\n",
    "events_jdf_lat = events_jdf['Latitude']\n",
    "events_jdf_lat"
   ]
  },
  {
   "cell_type": "code",
   "execution_count": null,
   "id": "0436e3f9",
   "metadata": {},
   "outputs": [],
   "source": [
    "# Get the latitude and longitude from Stone's catalog for Cascadia\n",
    "events_cascadia_lon = events_cascadia['Longitude']\n",
    "events_cascadia_lat = events_cascadia['Latitude']\n",
    "events_cascadia_lon"
   ]
  },
  {
   "cell_type": "code",
   "execution_count": null,
   "id": "7de12c8c",
   "metadata": {},
   "outputs": [],
   "source": [
    "df.loc[df['datetime'] > datetime.datetime(2012, 10,12)]"
   ]
  },
  {
   "cell_type": "code",
   "execution_count": null,
   "id": "29143368",
   "metadata": {},
   "outputs": [],
   "source": [
    "df = pd.read_excel(\"jgrb52524-sup-0003-2017jb014966-ds02.xls\", header = None, skiprows = 1,\n",
    "              names = [\"Timestamp\", \"Longitude\", \"Latitude\", \"Depth (km)\", \"RMS (s)\", \"CI Year\"])\n",
    "\n",
    "df['datetime'] = df.apply(lambda a: datetime.datetime.fromtimestamp(a['Timestamp']), axis = 1)\n",
    "df"
   ]
  },
  {
   "cell_type": "markdown",
   "id": "c57cc902",
   "metadata": {},
   "source": [
    "- No events to match up with our associated events in the ds01 catalog from Stone's paper.\n",
    "- No events to match up with our associated events in the ds02 catalog from Stone's paper."
   ]
  },
  {
   "cell_type": "markdown",
   "id": "cc1e1829",
   "metadata": {},
   "source": [
    "## Load Data from Morton's Paper"
   ]
  },
  {
   "cell_type": "code",
   "execution_count": null,
   "id": "a905d172",
   "metadata": {},
   "outputs": [],
   "source": [
    "# Read Morton's catalog\n",
    "events_morton = pd.read_csv('ds01.csv')"
   ]
  },
  {
   "cell_type": "code",
   "execution_count": null,
   "id": "95bf9a45",
   "metadata": {},
   "outputs": [],
   "source": [
    "# Get the latitudes and longitudes for the events \n",
    "events_morton_lon = events_morton['LON']\n",
    "events_morton_lat = events_morton['LAT']"
   ]
  },
  {
   "cell_type": "code",
   "execution_count": null,
   "id": "bc0029d9",
   "metadata": {},
   "outputs": [],
   "source": [
    "events_morton_lat[0:5]"
   ]
  },
  {
   "cell_type": "code",
   "execution_count": null,
   "id": "5bec961d",
   "metadata": {},
   "outputs": [],
   "source": [
    "events_morton_lon[0:5]"
   ]
  },
  {
   "cell_type": "code",
   "execution_count": null,
   "id": "6cd524ee",
   "metadata": {},
   "outputs": [],
   "source": [
    "len(events_morton_lat)"
   ]
  },
  {
   "cell_type": "code",
   "execution_count": null,
   "id": "15f73a0b",
   "metadata": {},
   "outputs": [],
   "source": [
    "# Pull out the events for Oct 14, 2012 from the ds01 catalog from Morton's paper\n",
    "events_morton[671:674]"
   ]
  },
  {
   "cell_type": "code",
   "execution_count": null,
   "id": "4a2f5ce0",
   "metadata": {},
   "outputs": [],
   "source": [
    "events_morton.loc[673]"
   ]
  },
  {
   "cell_type": "code",
   "execution_count": null,
   "id": "2bba3343",
   "metadata": {},
   "outputs": [],
   "source": [
    "# Get the latitude and longitude for the event at 2:39 \n",
    "event_morton_0229_lat = events_morton.loc[671, 'LAT']\n",
    "event_morton_0229_lon = events_morton.loc[671, 'LON']"
   ]
  },
  {
   "cell_type": "code",
   "execution_count": null,
   "id": "5f5eb8ba",
   "metadata": {},
   "outputs": [],
   "source": [
    "# Get the latitude and longitude for the event at 3:08\n",
    "event_morton_0308_lat = events_morton.loc[672, 'LAT']\n",
    "event_morton_0308_lon = events_morton.loc[672, 'LON']"
   ]
  },
  {
   "cell_type": "code",
   "execution_count": null,
   "id": "7764f193",
   "metadata": {},
   "outputs": [],
   "source": [
    "events"
   ]
  },
  {
   "cell_type": "code",
   "execution_count": null,
   "id": "4d10cba4",
   "metadata": {},
   "outputs": [],
   "source": [
    "\n",
    "event_0229_lat = events.loc[1, 'latitude']\n",
    "event_0229_lon = events.loc[1, 'longitude']"
   ]
  },
  {
   "cell_type": "code",
   "execution_count": null,
   "id": "716074c3",
   "metadata": {},
   "outputs": [],
   "source": [
    "event_0308_lat = events.loc[2, 'latitude']\n",
    "event_0308_lon = events.loc[2, 'longitude']"
   ]
  },
  {
   "cell_type": "markdown",
   "id": "819f07f9",
   "metadata": {},
   "source": [
    "## Load data from the USGS catalog"
   ]
  },
  {
   "cell_type": "code",
   "execution_count": null,
   "id": "a9df3c08",
   "metadata": {},
   "outputs": [],
   "source": [
    "client = Client(\"USGS\")\n",
    "client_waveforms = WaveformClient()\n",
    "events_USGS = client.get_events(starttime = UTCDateTime(\"2012-10-14T00:00:00.000000\"),\n",
    "                  endtime   = UTCDateTime(\"2012-10-14T23:59:59.999999\"),\n",
    "                  minlatitude = 40, maxlatitude = 44, \n",
    "                  minlongitude = -125, maxlongitude = -120)\n",
    "events_USGS"
   ]
  },
  {
   "cell_type": "code",
   "execution_count": null,
   "id": "2983cc27",
   "metadata": {},
   "outputs": [],
   "source": [
    "event_USGS_0229_lat = 40.301\n",
    "event_USGS_0229_lon = -124.416"
   ]
  },
  {
   "cell_type": "code",
   "execution_count": null,
   "id": "56cffc5a",
   "metadata": {},
   "outputs": [],
   "source": [
    "event_USGS_0308_lat = 40.721\n",
    "event_USGS_0308_lon = -124.210"
   ]
  },
  {
   "cell_type": "code",
   "execution_count": null,
   "id": "ea7191b9",
   "metadata": {},
   "outputs": [],
   "source": []
  },
  {
   "cell_type": "code",
   "execution_count": null,
   "id": "ec07dfa5",
   "metadata": {},
   "outputs": [],
   "source": []
  },
  {
   "cell_type": "code",
   "execution_count": null,
   "id": "c0045919",
   "metadata": {},
   "outputs": [],
   "source": []
  },
  {
   "cell_type": "code",
   "execution_count": null,
   "id": "396ec7ac",
   "metadata": {},
   "outputs": [],
   "source": []
  },
  {
   "cell_type": "markdown",
   "id": "efd77ec8",
   "metadata": {},
   "source": [
    "# Plot the line between the matched events"
   ]
  },
  {
   "cell_type": "code",
   "execution_count": null,
   "id": "2520f161",
   "metadata": {},
   "outputs": [],
   "source": [
    "import pygmt\n",
    "\n",
    "fig = pygmt.Figure()\n",
    "grid = pygmt.datasets.load_earth_relief(resolution=\"15s\", region=[-126, -124, 40, 43])\n",
    "# fig.shift_origin(yshift=\"10c\")\n",
    "fig.basemap(frame=[\"a\",'+tThe Associated Events with Previously Cataloged Events',\"WSne\", \"xaf+lx-axis\", \"yaf+ly-axis\"])\n",
    "fig.grdimage(grid=grid, projection=\"M15c\", frame='a', cmap=\"geo\", transparency = 50)\n",
    "# Plot Morton's catalog\n",
    "fig.plot(x = events_morton_lon, y = events_morton_lat,  \n",
    "         color = 'blue', size = size_morton, style = \"c\", pen = \"black\", label='Morton 2023')\n",
    "# Plot our association events\n",
    "fig.plot(x = events_longitude, y = events_latitude,  \n",
    "         color = 'red', size = size, style = \"c\", pen = \"black\", label='Associated Events')\n",
    "# Plot Stone's catalog for JDF\n",
    "fig.plot(x = events_jdf_lon, y = events_jdf_lat,  \n",
    "         color = 'yellow', size = size_jdf, style = \"c\", pen = \"black\", label='Stone et al, 2018')\n",
    "# Plot Stone's catalog for Cascadia\n",
    "fig.plot(x = events_cascadia_lon, y = events_cascadia_lat,  \n",
    "         color = 'yellow', size = size_cascadia, style = \"c\", pen = \"black\",label='Stone et al, 2018')\n",
    "# Draw a line between two events that we consider to be the same event \n",
    "fig.plot(x = (event_0229_lon,event_morton_0229_lon,event_USGS_0229_lon), y = (event_0229_lat,event_morton_0229_lat,event_USGS_0229_lat), pen =\"4p, green\")\n",
    "fig.plot(x = (event_0308_lon,event_morton_0308_lon,event_USGS_0308_lon), y = (event_0308_lat,event_morton_0308_lat,event_USGS_0308_lat), pen =\"4p, green\")\n",
    "\n",
    "# fig.plot(x = [42.5,42.5,42.5], y = [-125.5,-125,-124.5],  \n",
    "#          color = ['red','yellow','blue'], size = [1,1,1], style = \"c\", pen =\"black\")\n",
    "fig.legend()\n",
    "fig.show()"
   ]
  },
  {
   "cell_type": "code",
   "execution_count": null,
   "id": "ba6d0a8d",
   "metadata": {},
   "outputs": [],
   "source": [
    "event_0229_lon"
   ]
  },
  {
   "cell_type": "code",
   "execution_count": null,
   "id": "5871b376",
   "metadata": {},
   "outputs": [],
   "source": [
    "event_0229_lat"
   ]
  },
  {
   "cell_type": "code",
   "execution_count": null,
   "id": "a7e19369",
   "metadata": {},
   "outputs": [],
   "source": []
  }
 ],
 "metadata": {
  "kernelspec": {
   "display_name": "seismo (SHARED)",
   "language": "python",
   "name": "seismo"
  },
  "language_info": {
   "codemirror_mode": {
    "name": "ipython",
    "version": 3
   },
   "file_extension": ".py",
   "mimetype": "text/x-python",
   "name": "python",
   "nbconvert_exporter": "python",
   "pygments_lexer": "ipython3",
   "version": "3.9.18"
  }
 },
 "nbformat": 4,
 "nbformat_minor": 5
}
