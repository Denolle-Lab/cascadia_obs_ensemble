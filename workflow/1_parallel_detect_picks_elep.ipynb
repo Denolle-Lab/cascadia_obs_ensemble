{
 "cells": [
  {
   "cell_type": "markdown",
   "id": "58f486d2",
   "metadata": {},
   "source": [
    "# Detection and Phase Picking in Cascadia using ELEP\n",
    "\n",
    "This notebook deploys in parallel a detection+phase picking job on Cascadia Initiative stations using an ensemble deep learning ELEP (Yuan et al, 2023).\n",
    "Written by Hiroto Bito.\n",
    "Modified by CoolTeam (2/14/24)"
   ]
  },
  {
   "cell_type": "code",
   "execution_count": 5,
   "id": "59ec9cbe",
   "metadata": {},
   "outputs": [],
   "source": [
    "#####################################\n",
    "import logging\n",
    "#####################################\n",
    "from obspy.clients.fdsn import Client\n",
    "import numpy as np\n",
    "import obspy\n",
    "import matplotlib.pyplot as plt\n",
    "from obspy.clients.fdsn import Client\n",
    "import datetime\n",
    "import pandas as pd\n",
    "import dask\n",
    "from dask.diagnostics import ProgressBar\n",
    "\n",
    "from obspy.clients.fdsn.client import Client\n",
    "from pnwstore.mseed import WaveformClient\n",
    "import torch\n",
    "import numpy as np\n",
    "from tqdm import tqdm\n",
    "import time \n",
    "import pandas as pd\n",
    "import gc\n",
    "import seisbench.models as sbm\n",
    "from ELEP.elep.ensemble_statistics import ensemble_statistics\n",
    "from ELEP.elep.ensemble_coherence import ensemble_semblance \n",
    "from ELEP.elep.trigger_func import picks_summary_simple"
   ]
  },
  {
   "cell_type": "code",
   "execution_count": 6,
   "id": "66e7e246",
   "metadata": {},
   "outputs": [],
   "source": [
    "device = torch.device(\"cpu\")"
   ]
  },
  {
   "cell_type": "code",
   "execution_count": 7,
   "id": "ec5a0ecb",
   "metadata": {},
   "outputs": [],
   "source": [
    "# Define clients\n",
    "client_inventory = Client('IRIS')\n",
    "client_waveform = WaveformClient()"
   ]
  },
  {
   "cell_type": "code",
   "execution_count": 8,
   "id": "0b976476",
   "metadata": {},
   "outputs": [],
   "source": [
    "# Read in whatever you need to start - likely a list of station codes\n",
    "station_list = ['FS09B',\n",
    " 'FS13B',\n",
    " 'FS16B',\n",
    " 'FS17B',\n",
    " 'FS20B',\n",
    " 'G10B',\n",
    " 'G17B',\n",
    " 'G19B',\n",
    " 'G25B',\n",
    " 'G26B',\n",
    " 'G27B',\n",
    " 'J09B',\n",
    " 'J25B',\n",
    " 'J33B',\n",
    " 'M09B',\n",
    " 'M12B',\n",
    " 'M14B']"
   ]
  },
  {
   "cell_type": "code",
   "execution_count": 9,
   "id": "bc0bb6c3",
   "metadata": {},
   "outputs": [
    {
     "data": {
      "text/plain": [
       "['FS09B',\n",
       " 'FS13B',\n",
       " 'FS16B',\n",
       " 'FS17B',\n",
       " 'FS20B',\n",
       " 'G10B',\n",
       " 'G17B',\n",
       " 'G19B',\n",
       " 'G25B',\n",
       " 'G26B',\n",
       " 'G27B',\n",
       " 'J09B',\n",
       " 'J25B',\n",
       " 'J33B',\n",
       " 'M09B',\n",
       " 'M12B',\n",
       " 'M14B']"
      ]
     },
     "execution_count": 9,
     "metadata": {},
     "output_type": "execute_result"
    }
   ],
   "source": [
    "station_list"
   ]
  },
  {
   "cell_type": "code",
   "execution_count": 10,
   "id": "4c157967",
   "metadata": {},
   "outputs": [],
   "source": [
    "# Now create your list of days to loop over!\n",
    "t1 = datetime.datetime(2012,10,1)\n",
    "t2 = datetime.datetime(2012,10,31)\n",
    "time_bins = pd.to_datetime(np.arange(t1,t2+datetime.timedelta(days=1),pd.Timedelta(1,'days')))"
   ]
  },
  {
   "cell_type": "code",
   "execution_count": 3,
   "id": "60220543",
   "metadata": {},
   "outputs": [],
   "source": [
    "import os\n",
    "os.makedirs(\"../catalogs_elep_filtered_stations_20121001_to_20121031\",exist_ok=True)"
   ]
  },
  {
   "cell_type": "code",
   "execution_count": 11,
   "id": "ff0cf559",
   "metadata": {},
   "outputs": [
    {
     "name": "stdout",
     "output_type": "stream",
     "text": [
      "../catalogs_elep_filtered_stations_20121001_to_20121031/M14B_20121001.csv\n"
     ]
    }
   ],
   "source": [
    "# Specify some parameters - you can change what you specify here vs. within the large function, this is just an example.\n",
    "# Depending on whether the pertained models take a long time to load every time, you may want to load those outside the function and just feed them to the function rather than loading them every time in parallel.\n",
    "twin = 6000     # length of time window\n",
    "step = 3000     # step length\n",
    "l_blnd, r_blnd = 500, 500\n",
    "\n",
    "###########################\n",
    "# This is not a valid file path to save files. \n",
    "filepath = \"../catalogs_elep_filtered_stations_20121001_to_20121031/\"\n",
    "\n",
    "# If we define:\n",
    "station = \"M14B\"\n",
    "# t1 = datetime(2012,10,1)\n",
    "tstring = t1.strftime('%Y%m%d')\n",
    "\n",
    "# You use this arguments below as (it should be filepath, not file_path)\n",
    "file_name = filepath+station+'_'+tstring+'.csv'\n",
    "\n",
    "# Then your file name will be:\n",
    "print(file_name)\n",
    "#https://cascadia.ess.washington.edu/jhub/user/hbito/notebooks/elep-test/surface_events/src7D_20121001.csv\n",
    "\n",
    "# 1. There is a missing \"/\" after src in filepath.\n",
    "# 2. This string beginning with https:// is a web link. You can replace filepath as:\n",
    "# filepath = \"/home/hbito/elep-test/surface_events/src/\"\n",
    "# 3. it may not be recommended to save data product to a src (source) folder. \n",
    "#    People usually make other directories to save those final files. \n",
    "#    Just a notice: not our top prioirty though.\n",
    "###########################"
   ]
  },
  {
   "cell_type": "code",
   "execution_count": 12,
   "id": "d5db51e4",
   "metadata": {},
   "outputs": [],
   "source": [
    "# download models\n",
    "pretrain_list = [\"pnw\",\"ethz\",\"instance\",\"scedc\",\"stead\",\"geofon\"]\n",
    "pn_pnw_model = sbm.EQTransformer.from_pretrained('pnw')\n",
    "pn_ethz_model = sbm.EQTransformer.from_pretrained(\"ethz\")\n",
    "pn_instance_model = sbm.EQTransformer.from_pretrained(\"instance\")\n",
    "pn_scedc_model = sbm.EQTransformer.from_pretrained(\"scedc\")\n",
    "pn_stead_model = sbm.EQTransformer.from_pretrained(\"stead\")\n",
    "pn_geofon_model = sbm.EQTransformer.from_pretrained(\"geofon\")"
   ]
  },
  {
   "cell_type": "code",
   "execution_count": 13,
   "id": "dd7d1273",
   "metadata": {},
   "outputs": [],
   "source": [
    "# Define the function for stacking the segmented time windows after prediction\n",
    "##################################### add a nseg argument here\n",
    "# def stacking(data, npts, l_blnd, r_blnd):\n",
    "def stacking(data, npts, l_blnd, r_blnd, nseg):\n",
    "#####################################\n",
    "    _data = data.copy()\n",
    "    stack = np.full(npts, np.nan, dtype = np.float32)\n",
    "    _data[:, :l_blnd] = np.nan; _data[:, -r_blnd:] = np.nan\n",
    "    stack[:twin] = _data[0, :]\n",
    "    for iseg in range(nseg-1):\n",
    "        idx = step*(iseg+1)\n",
    "        stack[idx:idx + twin] = \\\n",
    "                np.nanmax([stack[idx:idx + twin], _data[iseg+1, :]], axis = 0)\n",
    "    return stack"
   ]
  },
  {
   "cell_type": "code",
   "execution_count": 14,
   "id": "7cdf915c",
   "metadata": {},
   "outputs": [],
   "source": [
    "# Write your function that you want to run in parallel: I recommend you design this to essentially perform your entire workflow on one station for one day, and write a csv file for that station, much the way you already have it.\n",
    "# This is what will run in parallel!\n",
    "# So, the only inputs are the station name, the start and end times you want to detect for, the path of the folder you want to write the results to, and the parameters you already specified. Here is where you could also feed in the preloaded models if that becomes important.\n",
    "def run_detection(station,t1,t2,filepath,twin,step,l_blnd,r_blnd):\n",
    "\t# Load data\n",
    "\t# Reshape data\n",
    "\t# Predict on base models\n",
    "\t# Stack\n",
    "\t# Create and write csv file. Define file name using the station code and the input filepath\n",
    "    \n",
    "    # Get the inventory for the stations\n",
    "    ###############################\n",
    "    #stations = station           # Seems you never use this \"stations\" again\n",
    "                                  # so you can just use \"station\"\n",
    "    ###############################\n",
    "    network = '7D'\n",
    "#     channels = '[HB][HN][BH]?'\n",
    "#     channels = 'HH?,HN?,BH?' \n",
    "    channels = '?H?'\n",
    "\n",
    "    client = client_inventory\n",
    "    inventory = client.get_stations(network=network, station=station)\n",
    "    \n",
    "    # Get waveforms and filter\n",
    "    ###############################\n",
    "   #sdata = client_waveform.get_waveforms(network=\"7D\", station=station, channel=\"BH?\", starttime=t1, \n",
    "   #                                      year=t1.strftime('%Y'), month=t1.strftime('%m'), \n",
    "   #                                      day=t1.strftime('%d'))\n",
    "   # You've already defined stations, network, channels above, so you can use them here.\n",
    "   # You don't need \"starttime = t1\" argument.\n",
    "    sdata = client_waveform.get_waveforms(network=network, station=station, channel=channels, \n",
    "                                          year=t1.strftime('%Y'), month=t1.strftime('%m'), \n",
    "                                          day=t1.strftime('%d'))\n",
    "    sdata = sdata.select(channel = \"[HB]H?\")\n",
    "    ###############################\n",
    "    # If no data returned, skipping\n",
    "    if len(sdata) == 0:\n",
    "        logging.warning(\"No stream returned. Skipping.\")\n",
    "        return\n",
    "    ###############################\n",
    "    \n",
    "    sdata.filter(type='bandpass',freqmin=4,freqmax=15)\n",
    "    \n",
    "    ###############################\n",
    "    sdata.merge(fill_value='interpolate') # fill gaps if there are any.\n",
    "    ###############################\n",
    "\n",
    "    # Get the necassary information about the station\n",
    "    delta = sdata[0].stats.delta\n",
    "    starttime = sdata[0].stats.starttime\n",
    "    fs = sdata[0].stats.sampling_rate\n",
    "    dt = 1/fs\n",
    "    \n",
    "    # Reshaping data\n",
    "    arr_sdata = np.array(sdata)\n",
    "    npts = arr_sdata.shape[1]\n",
    "    ############################### avoiding errors at the end of a stream\n",
    "   #nseg = int(np.ceil((npts - twin) / step)) + 1\n",
    "    nseg = int(np.floor((npts - twin) / step)) + 1\n",
    "    ###############################\n",
    "    windows = np.zeros(shape=(nseg, 3, twin), dtype= np.float32)\n",
    "    tap = 0.5 * (1 + np.cos(np.linspace(np.pi, 2 * np.pi, 6)))\n",
    "    \n",
    "    # Define the parameters for semblance\n",
    "    paras_semblance = {'dt':dt, 'semblance_order':2, 'window_flag':True, \n",
    "                   'semblance_win':0.5, 'weight_flag':'max'}\n",
    "    p_thrd, s_thrd = 0.05, 0.05\n",
    "\n",
    "    windows_std = np.zeros(shape=(nseg, 3, twin), dtype= np.float32)\n",
    "    windows_max = np.zeros(shape=(nseg, 3, twin), dtype= np.float32)\n",
    "    windows = np.zeros(shape=(nseg, 3, twin), dtype= np.float32)\n",
    "    windows_idx = np.zeros(nseg, dtype=np.int32)\n",
    "\n",
    "    for iseg in range(nseg):\n",
    "        idx = iseg * step\n",
    "        windows[iseg, :] = arr_sdata[:, idx:idx + twin]\n",
    "        windows[iseg, :] -= np.mean(windows[iseg, :], axis=-1, keepdims=True)\n",
    "        # original use std norm\n",
    "        windows_std[iseg, :] = windows[iseg, :] / np.std(windows[iseg, :]) + 1e-10\n",
    "        # others use max norm\n",
    "        windows_max[iseg, :] = windows[iseg, :] / (np.max(np.abs(windows[iseg, :]), axis=-1, keepdims=True))\n",
    "        windows_idx[iseg] = idx\n",
    "\n",
    "    # taper\n",
    "    windows_std[:, :, :6] *= tap; windows_std[:, :, -6:] *= tap[::-1]; \n",
    "    windows_max[:, :, :6] *= tap; windows_max[:, :, -6:] *= tap[::-1];\n",
    "    del windows\n",
    "\n",
    "#     print(f\"Window data shape: {windows_std.shape}\")\n",
    "    \n",
    "    # Predict on base models\n",
    "    \n",
    "    pretrain_list = ['original', 'ethz', 'instance', 'scedc', 'stead']\n",
    "\n",
    "    # dim 0: 0 = P, 1 = S\n",
    "    batch_pred = np.zeros([2, len(pretrain_list), nseg, twin], dtype = np.float32) \n",
    "    for ipre, pretrain in enumerate(pretrain_list):\n",
    "        t0 = time.time()\n",
    "        eqt = sbm.EQTransformer.from_pretrained(pretrain)\n",
    "        eqt.to(device);\n",
    "        eqt._annotate_args['overlap'] = ('Overlap between prediction windows in samples \\\n",
    "                                        (only for window prediction models)', step)\n",
    "        eqt._annotate_args['blinding'] = ('Number of prediction samples to discard on \\\n",
    "                                         each side of each window prediction', (l_blnd, r_blnd))\n",
    "        eqt.eval();\n",
    "        if pretrain == 'original':\n",
    "            # batch prediction through torch model\n",
    "            windows_std_tt = torch.Tensor(windows_std)\n",
    "            _torch_pred = eqt(windows_std_tt.to(device))\n",
    "        else:\n",
    "            windows_max_tt = torch.Tensor(windows_max)\n",
    "            _torch_pred = eqt(windows_max_tt.to(device))\n",
    "        batch_pred[0, ipre, :] = _torch_pred[1].detach().cpu().numpy()\n",
    "        batch_pred[1, ipre, :] = _torch_pred[2].detach().cpu().numpy()\n",
    "\n",
    "    # clean up memory\n",
    "    del _torch_pred, windows_max_tt, windows_std_tt\n",
    "    del windows_std, windows_max\n",
    "    gc.collect()\n",
    "    torch.cuda.empty_cache()\n",
    "\n",
    "    print(f\"All prediction shape: {batch_pred.shape}\")\n",
    "    \n",
    "    ####################### You don't need this\n",
    "#     pretrain_pred = np.zeros([2, len(pretrain_list), npts], dtype = np.float32)\n",
    "#     for ipre, pretrain in enumerate(pretrain_list):\n",
    "#        # 0 for P-wave\n",
    "#         pretrain_pred[0, ipre, :] = stacking(batch_pred[0, ipre, :], npts, l_blnd, r_blnd)\n",
    "# \n",
    "#        # 1 for S-wave\n",
    "#        pretrain_pred[1, ipre, :] = stacking(batch_pred[1, ipre, :], npts, l_blnd, r_blnd)\n",
    "    ####################### You don't need this\n",
    "    \n",
    "    smb_pred = np.zeros([2, nseg, twin], dtype = np.float32)\n",
    "    # calculate the semblance\n",
    "    ## the semblance may takes a while bit to calculate\n",
    "    \n",
    "    ############################# remove tqdm (extra progress bar)\n",
    "#     for iseg in tqdm(range(nseg)):\n",
    "    for iseg in range(nseg):\n",
    "    #############################\n",
    "        # 0 for P-wave\n",
    "        smb_pred[0, iseg, :] = ensemble_semblance(batch_pred[0, :, iseg, :], paras_semblance)\n",
    "\n",
    "        # 1 for P-wave\n",
    "        smb_pred[1, iseg, :] = ensemble_semblance(batch_pred[1, :, iseg, :], paras_semblance)\n",
    "\n",
    "    ## ... and stack\n",
    "    # 0 for P-wave\n",
    "    ####################### add a nseg argument here\n",
    "    #smb_p = stacking(smb_pred[0, :], npts, l_blnd, r_blnd)\n",
    "    smb_p = stacking(smb_pred[0, :], npts, l_blnd, r_blnd, nseg)\n",
    "\n",
    "    # 1 for P-wave\n",
    "    #smb_s = stacking(smb_pred[1, :], npts, l_blnd, r_blnd)\n",
    "    smb_s = stacking(smb_pred[1, :], npts, l_blnd, r_blnd, nseg)\n",
    "    #######################\n",
    "    # clean-up RAM\n",
    "    del smb_pred, batch_pred\n",
    "\n",
    "    p_index = picks_summary_simple(smb_p, p_thrd)\n",
    "    s_index = picks_summary_simple(smb_s, s_thrd)\n",
    "    print(f\"{len(p_index)} P picks\\n{len(s_index)} S picks\")\n",
    "    \n",
    "    # Create lists and a data frame\n",
    "    event_id = []\n",
    "    source_type = []\n",
    "    station_network_code = []\n",
    "    station_channel_code = []\n",
    "    station_code = []\n",
    "    station_location_code = []\n",
    "    station_latitude_deg= []\n",
    "    station_longitude_deg = []\n",
    "    station_elevation_m = []\n",
    "    trace_name = []\n",
    "    trace_sampling_rate_hz = []\n",
    "    trace_start_time = []\n",
    "    trace_S_arrival_sample = []\n",
    "    trace_P_arrival_sample = []\n",
    "    trace_S_onset = []\n",
    "    trace_P_onset = []\n",
    "    trace_snr_db = []\n",
    "    trace_p_arrival = []\n",
    "    trace_s_arrival = []\n",
    "\n",
    "    for i, idx in enumerate(p_index):\n",
    "        event_id.append(' ')\n",
    "        source_type.append(' ')\n",
    "        station_network_code.append('7D')\n",
    "        station_channel_code.append(' ')\n",
    "        station_code.append(station)\n",
    "        station_location_code.append(sdata[0].stats.location)   \n",
    "        station_latitude_deg.append(inventory[0][0].latitude)\n",
    "        station_longitude_deg.append(inventory[0][0].longitude)   \n",
    "        station_elevation_m.append(inventory[0][0].elevation)\n",
    "        trace_name.append(' ')\n",
    "        trace_sampling_rate_hz.append(sdata[0].stats.sampling_rate)\n",
    "        trace_start_time.append(sdata[0].stats.starttime)\n",
    "        trace_S_arrival_sample.append(' ')\n",
    "        trace_P_arrival_sample.append(' ')\n",
    "        trace_S_onset.append(' ')\n",
    "        trace_P_onset.append(' ')\n",
    "        trace_snr_db.append(' ')\n",
    "        trace_s_arrival.append(np.nan)\n",
    "        trace_p_arrival.append(str(starttime  + idx * delta))\n",
    "\n",
    "    for i, idx in enumerate(s_index):\n",
    "        event_id.append(' ')\n",
    "        source_type.append(' ')\n",
    "        station_network_code.append('7D')\n",
    "        station_channel_code.append(' ')\n",
    "        station_code.append(station)\n",
    "        station_location_code.append(sdata[0].stats.location)   \n",
    "        station_latitude_deg.append(inventory[0][0].latitude)\n",
    "        station_longitude_deg.append(inventory[0][0].longitude)   \n",
    "        station_elevation_m.append(inventory[0][0].elevation)\n",
    "        trace_name.append(' ')\n",
    "        trace_sampling_rate_hz.append(sdata[0].stats.sampling_rate)\n",
    "        trace_start_time.append(sdata[0].stats.starttime)\n",
    "        trace_S_arrival_sample.append(' ')\n",
    "        trace_P_arrival_sample.append(' ')\n",
    "        trace_S_onset.append(' ')\n",
    "        trace_P_onset.append(' ')\n",
    "        trace_snr_db.append(' ')\n",
    "        trace_s_arrival.append(str(starttime  + idx * delta))\n",
    "        trace_p_arrival.append(np.nan)\n",
    "\n",
    "    # dictionary of lists\n",
    "    dict = {'event_id':event_id,'source_type':source_type,'station_network_code':station_network_code,\\\n",
    "            'station_channel_code':station_channel_code,'station_code':station_code,'station_location_code':station_location_code,\\\n",
    "            'station_latitude_deg':station_latitude_deg,'station_longitude_deg':station_longitude_deg, \\\n",
    "            'station_elevation_m':station_elevation_m,'trace_name':trace_name,'trace_sampling_rate_hz':trace_sampling_rate_hz,\\\n",
    "            'trace_start_time':trace_start_time,'trace_S_arrival_sample':trace_S_arrival_sample,\\\n",
    "            'trace_P_arrival_sample':trace_P_arrival_sample, 'trace_S_onset':trace_S_onset,'trace_P_onset':trace_P_onset,\\\n",
    "            'trace_snr_db':trace_snr_db, 'trace_s_arrival':trace_s_arrival, 'trace_p_arrival':trace_p_arrival}\n",
    "\n",
    "    df = pd.DataFrame(dict)\n",
    "\n",
    "    # Make the specific day into a string:\n",
    "    tstring = t1.strftime('%Y%m%d')\n",
    "    # Build the full file name:\n",
    "    ##################################################\n",
    "#     file_name = file_path+station+'_'+tstring+'.csv'\n",
    "    file_name = filepath+station+'_'+tstring+'.csv'\n",
    "    ##################################################\n",
    "    # Write to file using that name\n",
    "    df.to_csv(file_name)"
   ]
  },
  {
   "cell_type": "code",
   "execution_count": 15,
   "id": "e995b55c",
   "metadata": {},
   "outputs": [],
   "source": [
    "# Combine that list of days with the list of stations\n",
    "# We are essentially creating a list of the number of tasks we have to do with the information that is unique to each task; we will do them in parallel\n",
    "task_list = []\n",
    "for sta in station_list:\n",
    "\tfor t in time_bins:\n",
    "\t\ttask_list.append([sta,t])"
   ]
  },
  {
   "cell_type": "code",
   "execution_count": 16,
   "id": "7ec6c541",
   "metadata": {},
   "outputs": [
    {
     "data": {
      "text/plain": [
       "[['FS09B', Timestamp('2012-10-01 00:00:00')],\n",
       " ['FS09B', Timestamp('2012-10-02 00:00:00')],\n",
       " ['FS09B', Timestamp('2012-10-03 00:00:00')],\n",
       " ['FS09B', Timestamp('2012-10-04 00:00:00')],\n",
       " ['FS09B', Timestamp('2012-10-05 00:00:00')],\n",
       " ['FS09B', Timestamp('2012-10-06 00:00:00')],\n",
       " ['FS09B', Timestamp('2012-10-07 00:00:00')],\n",
       " ['FS09B', Timestamp('2012-10-08 00:00:00')],\n",
       " ['FS09B', Timestamp('2012-10-09 00:00:00')],\n",
       " ['FS09B', Timestamp('2012-10-10 00:00:00')],\n",
       " ['FS09B', Timestamp('2012-10-11 00:00:00')],\n",
       " ['FS09B', Timestamp('2012-10-12 00:00:00')],\n",
       " ['FS09B', Timestamp('2012-10-13 00:00:00')],\n",
       " ['FS09B', Timestamp('2012-10-14 00:00:00')],\n",
       " ['FS09B', Timestamp('2012-10-15 00:00:00')],\n",
       " ['FS09B', Timestamp('2012-10-16 00:00:00')],\n",
       " ['FS09B', Timestamp('2012-10-17 00:00:00')],\n",
       " ['FS09B', Timestamp('2012-10-18 00:00:00')],\n",
       " ['FS09B', Timestamp('2012-10-19 00:00:00')],\n",
       " ['FS09B', Timestamp('2012-10-20 00:00:00')],\n",
       " ['FS09B', Timestamp('2012-10-21 00:00:00')],\n",
       " ['FS09B', Timestamp('2012-10-22 00:00:00')],\n",
       " ['FS09B', Timestamp('2012-10-23 00:00:00')],\n",
       " ['FS09B', Timestamp('2012-10-24 00:00:00')],\n",
       " ['FS09B', Timestamp('2012-10-25 00:00:00')],\n",
       " ['FS09B', Timestamp('2012-10-26 00:00:00')],\n",
       " ['FS09B', Timestamp('2012-10-27 00:00:00')],\n",
       " ['FS09B', Timestamp('2012-10-28 00:00:00')],\n",
       " ['FS09B', Timestamp('2012-10-29 00:00:00')],\n",
       " ['FS09B', Timestamp('2012-10-30 00:00:00')],\n",
       " ['FS09B', Timestamp('2012-10-31 00:00:00')],\n",
       " ['FS13B', Timestamp('2012-10-01 00:00:00')],\n",
       " ['FS13B', Timestamp('2012-10-02 00:00:00')],\n",
       " ['FS13B', Timestamp('2012-10-03 00:00:00')],\n",
       " ['FS13B', Timestamp('2012-10-04 00:00:00')],\n",
       " ['FS13B', Timestamp('2012-10-05 00:00:00')],\n",
       " ['FS13B', Timestamp('2012-10-06 00:00:00')],\n",
       " ['FS13B', Timestamp('2012-10-07 00:00:00')],\n",
       " ['FS13B', Timestamp('2012-10-08 00:00:00')],\n",
       " ['FS13B', Timestamp('2012-10-09 00:00:00')],\n",
       " ['FS13B', Timestamp('2012-10-10 00:00:00')],\n",
       " ['FS13B', Timestamp('2012-10-11 00:00:00')],\n",
       " ['FS13B', Timestamp('2012-10-12 00:00:00')],\n",
       " ['FS13B', Timestamp('2012-10-13 00:00:00')],\n",
       " ['FS13B', Timestamp('2012-10-14 00:00:00')],\n",
       " ['FS13B', Timestamp('2012-10-15 00:00:00')],\n",
       " ['FS13B', Timestamp('2012-10-16 00:00:00')],\n",
       " ['FS13B', Timestamp('2012-10-17 00:00:00')],\n",
       " ['FS13B', Timestamp('2012-10-18 00:00:00')],\n",
       " ['FS13B', Timestamp('2012-10-19 00:00:00')],\n",
       " ['FS13B', Timestamp('2012-10-20 00:00:00')],\n",
       " ['FS13B', Timestamp('2012-10-21 00:00:00')],\n",
       " ['FS13B', Timestamp('2012-10-22 00:00:00')],\n",
       " ['FS13B', Timestamp('2012-10-23 00:00:00')],\n",
       " ['FS13B', Timestamp('2012-10-24 00:00:00')],\n",
       " ['FS13B', Timestamp('2012-10-25 00:00:00')],\n",
       " ['FS13B', Timestamp('2012-10-26 00:00:00')],\n",
       " ['FS13B', Timestamp('2012-10-27 00:00:00')],\n",
       " ['FS13B', Timestamp('2012-10-28 00:00:00')],\n",
       " ['FS13B', Timestamp('2012-10-29 00:00:00')],\n",
       " ['FS13B', Timestamp('2012-10-30 00:00:00')],\n",
       " ['FS13B', Timestamp('2012-10-31 00:00:00')],\n",
       " ['FS16B', Timestamp('2012-10-01 00:00:00')],\n",
       " ['FS16B', Timestamp('2012-10-02 00:00:00')],\n",
       " ['FS16B', Timestamp('2012-10-03 00:00:00')],\n",
       " ['FS16B', Timestamp('2012-10-04 00:00:00')],\n",
       " ['FS16B', Timestamp('2012-10-05 00:00:00')],\n",
       " ['FS16B', Timestamp('2012-10-06 00:00:00')],\n",
       " ['FS16B', Timestamp('2012-10-07 00:00:00')],\n",
       " ['FS16B', Timestamp('2012-10-08 00:00:00')],\n",
       " ['FS16B', Timestamp('2012-10-09 00:00:00')],\n",
       " ['FS16B', Timestamp('2012-10-10 00:00:00')],\n",
       " ['FS16B', Timestamp('2012-10-11 00:00:00')],\n",
       " ['FS16B', Timestamp('2012-10-12 00:00:00')],\n",
       " ['FS16B', Timestamp('2012-10-13 00:00:00')],\n",
       " ['FS16B', Timestamp('2012-10-14 00:00:00')],\n",
       " ['FS16B', Timestamp('2012-10-15 00:00:00')],\n",
       " ['FS16B', Timestamp('2012-10-16 00:00:00')],\n",
       " ['FS16B', Timestamp('2012-10-17 00:00:00')],\n",
       " ['FS16B', Timestamp('2012-10-18 00:00:00')],\n",
       " ['FS16B', Timestamp('2012-10-19 00:00:00')],\n",
       " ['FS16B', Timestamp('2012-10-20 00:00:00')],\n",
       " ['FS16B', Timestamp('2012-10-21 00:00:00')],\n",
       " ['FS16B', Timestamp('2012-10-22 00:00:00')],\n",
       " ['FS16B', Timestamp('2012-10-23 00:00:00')],\n",
       " ['FS16B', Timestamp('2012-10-24 00:00:00')],\n",
       " ['FS16B', Timestamp('2012-10-25 00:00:00')],\n",
       " ['FS16B', Timestamp('2012-10-26 00:00:00')],\n",
       " ['FS16B', Timestamp('2012-10-27 00:00:00')],\n",
       " ['FS16B', Timestamp('2012-10-28 00:00:00')],\n",
       " ['FS16B', Timestamp('2012-10-29 00:00:00')],\n",
       " ['FS16B', Timestamp('2012-10-30 00:00:00')],\n",
       " ['FS16B', Timestamp('2012-10-31 00:00:00')],\n",
       " ['FS17B', Timestamp('2012-10-01 00:00:00')],\n",
       " ['FS17B', Timestamp('2012-10-02 00:00:00')],\n",
       " ['FS17B', Timestamp('2012-10-03 00:00:00')],\n",
       " ['FS17B', Timestamp('2012-10-04 00:00:00')],\n",
       " ['FS17B', Timestamp('2012-10-05 00:00:00')],\n",
       " ['FS17B', Timestamp('2012-10-06 00:00:00')],\n",
       " ['FS17B', Timestamp('2012-10-07 00:00:00')],\n",
       " ['FS17B', Timestamp('2012-10-08 00:00:00')],\n",
       " ['FS17B', Timestamp('2012-10-09 00:00:00')],\n",
       " ['FS17B', Timestamp('2012-10-10 00:00:00')],\n",
       " ['FS17B', Timestamp('2012-10-11 00:00:00')],\n",
       " ['FS17B', Timestamp('2012-10-12 00:00:00')],\n",
       " ['FS17B', Timestamp('2012-10-13 00:00:00')],\n",
       " ['FS17B', Timestamp('2012-10-14 00:00:00')],\n",
       " ['FS17B', Timestamp('2012-10-15 00:00:00')],\n",
       " ['FS17B', Timestamp('2012-10-16 00:00:00')],\n",
       " ['FS17B', Timestamp('2012-10-17 00:00:00')],\n",
       " ['FS17B', Timestamp('2012-10-18 00:00:00')],\n",
       " ['FS17B', Timestamp('2012-10-19 00:00:00')],\n",
       " ['FS17B', Timestamp('2012-10-20 00:00:00')],\n",
       " ['FS17B', Timestamp('2012-10-21 00:00:00')],\n",
       " ['FS17B', Timestamp('2012-10-22 00:00:00')],\n",
       " ['FS17B', Timestamp('2012-10-23 00:00:00')],\n",
       " ['FS17B', Timestamp('2012-10-24 00:00:00')],\n",
       " ['FS17B', Timestamp('2012-10-25 00:00:00')],\n",
       " ['FS17B', Timestamp('2012-10-26 00:00:00')],\n",
       " ['FS17B', Timestamp('2012-10-27 00:00:00')],\n",
       " ['FS17B', Timestamp('2012-10-28 00:00:00')],\n",
       " ['FS17B', Timestamp('2012-10-29 00:00:00')],\n",
       " ['FS17B', Timestamp('2012-10-30 00:00:00')],\n",
       " ['FS17B', Timestamp('2012-10-31 00:00:00')],\n",
       " ['FS20B', Timestamp('2012-10-01 00:00:00')],\n",
       " ['FS20B', Timestamp('2012-10-02 00:00:00')],\n",
       " ['FS20B', Timestamp('2012-10-03 00:00:00')],\n",
       " ['FS20B', Timestamp('2012-10-04 00:00:00')],\n",
       " ['FS20B', Timestamp('2012-10-05 00:00:00')],\n",
       " ['FS20B', Timestamp('2012-10-06 00:00:00')],\n",
       " ['FS20B', Timestamp('2012-10-07 00:00:00')],\n",
       " ['FS20B', Timestamp('2012-10-08 00:00:00')],\n",
       " ['FS20B', Timestamp('2012-10-09 00:00:00')],\n",
       " ['FS20B', Timestamp('2012-10-10 00:00:00')],\n",
       " ['FS20B', Timestamp('2012-10-11 00:00:00')],\n",
       " ['FS20B', Timestamp('2012-10-12 00:00:00')],\n",
       " ['FS20B', Timestamp('2012-10-13 00:00:00')],\n",
       " ['FS20B', Timestamp('2012-10-14 00:00:00')],\n",
       " ['FS20B', Timestamp('2012-10-15 00:00:00')],\n",
       " ['FS20B', Timestamp('2012-10-16 00:00:00')],\n",
       " ['FS20B', Timestamp('2012-10-17 00:00:00')],\n",
       " ['FS20B', Timestamp('2012-10-18 00:00:00')],\n",
       " ['FS20B', Timestamp('2012-10-19 00:00:00')],\n",
       " ['FS20B', Timestamp('2012-10-20 00:00:00')],\n",
       " ['FS20B', Timestamp('2012-10-21 00:00:00')],\n",
       " ['FS20B', Timestamp('2012-10-22 00:00:00')],\n",
       " ['FS20B', Timestamp('2012-10-23 00:00:00')],\n",
       " ['FS20B', Timestamp('2012-10-24 00:00:00')],\n",
       " ['FS20B', Timestamp('2012-10-25 00:00:00')],\n",
       " ['FS20B', Timestamp('2012-10-26 00:00:00')],\n",
       " ['FS20B', Timestamp('2012-10-27 00:00:00')],\n",
       " ['FS20B', Timestamp('2012-10-28 00:00:00')],\n",
       " ['FS20B', Timestamp('2012-10-29 00:00:00')],\n",
       " ['FS20B', Timestamp('2012-10-30 00:00:00')],\n",
       " ['FS20B', Timestamp('2012-10-31 00:00:00')],\n",
       " ['G10B', Timestamp('2012-10-01 00:00:00')],\n",
       " ['G10B', Timestamp('2012-10-02 00:00:00')],\n",
       " ['G10B', Timestamp('2012-10-03 00:00:00')],\n",
       " ['G10B', Timestamp('2012-10-04 00:00:00')],\n",
       " ['G10B', Timestamp('2012-10-05 00:00:00')],\n",
       " ['G10B', Timestamp('2012-10-06 00:00:00')],\n",
       " ['G10B', Timestamp('2012-10-07 00:00:00')],\n",
       " ['G10B', Timestamp('2012-10-08 00:00:00')],\n",
       " ['G10B', Timestamp('2012-10-09 00:00:00')],\n",
       " ['G10B', Timestamp('2012-10-10 00:00:00')],\n",
       " ['G10B', Timestamp('2012-10-11 00:00:00')],\n",
       " ['G10B', Timestamp('2012-10-12 00:00:00')],\n",
       " ['G10B', Timestamp('2012-10-13 00:00:00')],\n",
       " ['G10B', Timestamp('2012-10-14 00:00:00')],\n",
       " ['G10B', Timestamp('2012-10-15 00:00:00')],\n",
       " ['G10B', Timestamp('2012-10-16 00:00:00')],\n",
       " ['G10B', Timestamp('2012-10-17 00:00:00')],\n",
       " ['G10B', Timestamp('2012-10-18 00:00:00')],\n",
       " ['G10B', Timestamp('2012-10-19 00:00:00')],\n",
       " ['G10B', Timestamp('2012-10-20 00:00:00')],\n",
       " ['G10B', Timestamp('2012-10-21 00:00:00')],\n",
       " ['G10B', Timestamp('2012-10-22 00:00:00')],\n",
       " ['G10B', Timestamp('2012-10-23 00:00:00')],\n",
       " ['G10B', Timestamp('2012-10-24 00:00:00')],\n",
       " ['G10B', Timestamp('2012-10-25 00:00:00')],\n",
       " ['G10B', Timestamp('2012-10-26 00:00:00')],\n",
       " ['G10B', Timestamp('2012-10-27 00:00:00')],\n",
       " ['G10B', Timestamp('2012-10-28 00:00:00')],\n",
       " ['G10B', Timestamp('2012-10-29 00:00:00')],\n",
       " ['G10B', Timestamp('2012-10-30 00:00:00')],\n",
       " ['G10B', Timestamp('2012-10-31 00:00:00')],\n",
       " ['G17B', Timestamp('2012-10-01 00:00:00')],\n",
       " ['G17B', Timestamp('2012-10-02 00:00:00')],\n",
       " ['G17B', Timestamp('2012-10-03 00:00:00')],\n",
       " ['G17B', Timestamp('2012-10-04 00:00:00')],\n",
       " ['G17B', Timestamp('2012-10-05 00:00:00')],\n",
       " ['G17B', Timestamp('2012-10-06 00:00:00')],\n",
       " ['G17B', Timestamp('2012-10-07 00:00:00')],\n",
       " ['G17B', Timestamp('2012-10-08 00:00:00')],\n",
       " ['G17B', Timestamp('2012-10-09 00:00:00')],\n",
       " ['G17B', Timestamp('2012-10-10 00:00:00')],\n",
       " ['G17B', Timestamp('2012-10-11 00:00:00')],\n",
       " ['G17B', Timestamp('2012-10-12 00:00:00')],\n",
       " ['G17B', Timestamp('2012-10-13 00:00:00')],\n",
       " ['G17B', Timestamp('2012-10-14 00:00:00')],\n",
       " ['G17B', Timestamp('2012-10-15 00:00:00')],\n",
       " ['G17B', Timestamp('2012-10-16 00:00:00')],\n",
       " ['G17B', Timestamp('2012-10-17 00:00:00')],\n",
       " ['G17B', Timestamp('2012-10-18 00:00:00')],\n",
       " ['G17B', Timestamp('2012-10-19 00:00:00')],\n",
       " ['G17B', Timestamp('2012-10-20 00:00:00')],\n",
       " ['G17B', Timestamp('2012-10-21 00:00:00')],\n",
       " ['G17B', Timestamp('2012-10-22 00:00:00')],\n",
       " ['G17B', Timestamp('2012-10-23 00:00:00')],\n",
       " ['G17B', Timestamp('2012-10-24 00:00:00')],\n",
       " ['G17B', Timestamp('2012-10-25 00:00:00')],\n",
       " ['G17B', Timestamp('2012-10-26 00:00:00')],\n",
       " ['G17B', Timestamp('2012-10-27 00:00:00')],\n",
       " ['G17B', Timestamp('2012-10-28 00:00:00')],\n",
       " ['G17B', Timestamp('2012-10-29 00:00:00')],\n",
       " ['G17B', Timestamp('2012-10-30 00:00:00')],\n",
       " ['G17B', Timestamp('2012-10-31 00:00:00')],\n",
       " ['G19B', Timestamp('2012-10-01 00:00:00')],\n",
       " ['G19B', Timestamp('2012-10-02 00:00:00')],\n",
       " ['G19B', Timestamp('2012-10-03 00:00:00')],\n",
       " ['G19B', Timestamp('2012-10-04 00:00:00')],\n",
       " ['G19B', Timestamp('2012-10-05 00:00:00')],\n",
       " ['G19B', Timestamp('2012-10-06 00:00:00')],\n",
       " ['G19B', Timestamp('2012-10-07 00:00:00')],\n",
       " ['G19B', Timestamp('2012-10-08 00:00:00')],\n",
       " ['G19B', Timestamp('2012-10-09 00:00:00')],\n",
       " ['G19B', Timestamp('2012-10-10 00:00:00')],\n",
       " ['G19B', Timestamp('2012-10-11 00:00:00')],\n",
       " ['G19B', Timestamp('2012-10-12 00:00:00')],\n",
       " ['G19B', Timestamp('2012-10-13 00:00:00')],\n",
       " ['G19B', Timestamp('2012-10-14 00:00:00')],\n",
       " ['G19B', Timestamp('2012-10-15 00:00:00')],\n",
       " ['G19B', Timestamp('2012-10-16 00:00:00')],\n",
       " ['G19B', Timestamp('2012-10-17 00:00:00')],\n",
       " ['G19B', Timestamp('2012-10-18 00:00:00')],\n",
       " ['G19B', Timestamp('2012-10-19 00:00:00')],\n",
       " ['G19B', Timestamp('2012-10-20 00:00:00')],\n",
       " ['G19B', Timestamp('2012-10-21 00:00:00')],\n",
       " ['G19B', Timestamp('2012-10-22 00:00:00')],\n",
       " ['G19B', Timestamp('2012-10-23 00:00:00')],\n",
       " ['G19B', Timestamp('2012-10-24 00:00:00')],\n",
       " ['G19B', Timestamp('2012-10-25 00:00:00')],\n",
       " ['G19B', Timestamp('2012-10-26 00:00:00')],\n",
       " ['G19B', Timestamp('2012-10-27 00:00:00')],\n",
       " ['G19B', Timestamp('2012-10-28 00:00:00')],\n",
       " ['G19B', Timestamp('2012-10-29 00:00:00')],\n",
       " ['G19B', Timestamp('2012-10-30 00:00:00')],\n",
       " ['G19B', Timestamp('2012-10-31 00:00:00')],\n",
       " ['G25B', Timestamp('2012-10-01 00:00:00')],\n",
       " ['G25B', Timestamp('2012-10-02 00:00:00')],\n",
       " ['G25B', Timestamp('2012-10-03 00:00:00')],\n",
       " ['G25B', Timestamp('2012-10-04 00:00:00')],\n",
       " ['G25B', Timestamp('2012-10-05 00:00:00')],\n",
       " ['G25B', Timestamp('2012-10-06 00:00:00')],\n",
       " ['G25B', Timestamp('2012-10-07 00:00:00')],\n",
       " ['G25B', Timestamp('2012-10-08 00:00:00')],\n",
       " ['G25B', Timestamp('2012-10-09 00:00:00')],\n",
       " ['G25B', Timestamp('2012-10-10 00:00:00')],\n",
       " ['G25B', Timestamp('2012-10-11 00:00:00')],\n",
       " ['G25B', Timestamp('2012-10-12 00:00:00')],\n",
       " ['G25B', Timestamp('2012-10-13 00:00:00')],\n",
       " ['G25B', Timestamp('2012-10-14 00:00:00')],\n",
       " ['G25B', Timestamp('2012-10-15 00:00:00')],\n",
       " ['G25B', Timestamp('2012-10-16 00:00:00')],\n",
       " ['G25B', Timestamp('2012-10-17 00:00:00')],\n",
       " ['G25B', Timestamp('2012-10-18 00:00:00')],\n",
       " ['G25B', Timestamp('2012-10-19 00:00:00')],\n",
       " ['G25B', Timestamp('2012-10-20 00:00:00')],\n",
       " ['G25B', Timestamp('2012-10-21 00:00:00')],\n",
       " ['G25B', Timestamp('2012-10-22 00:00:00')],\n",
       " ['G25B', Timestamp('2012-10-23 00:00:00')],\n",
       " ['G25B', Timestamp('2012-10-24 00:00:00')],\n",
       " ['G25B', Timestamp('2012-10-25 00:00:00')],\n",
       " ['G25B', Timestamp('2012-10-26 00:00:00')],\n",
       " ['G25B', Timestamp('2012-10-27 00:00:00')],\n",
       " ['G25B', Timestamp('2012-10-28 00:00:00')],\n",
       " ['G25B', Timestamp('2012-10-29 00:00:00')],\n",
       " ['G25B', Timestamp('2012-10-30 00:00:00')],\n",
       " ['G25B', Timestamp('2012-10-31 00:00:00')],\n",
       " ['G26B', Timestamp('2012-10-01 00:00:00')],\n",
       " ['G26B', Timestamp('2012-10-02 00:00:00')],\n",
       " ['G26B', Timestamp('2012-10-03 00:00:00')],\n",
       " ['G26B', Timestamp('2012-10-04 00:00:00')],\n",
       " ['G26B', Timestamp('2012-10-05 00:00:00')],\n",
       " ['G26B', Timestamp('2012-10-06 00:00:00')],\n",
       " ['G26B', Timestamp('2012-10-07 00:00:00')],\n",
       " ['G26B', Timestamp('2012-10-08 00:00:00')],\n",
       " ['G26B', Timestamp('2012-10-09 00:00:00')],\n",
       " ['G26B', Timestamp('2012-10-10 00:00:00')],\n",
       " ['G26B', Timestamp('2012-10-11 00:00:00')],\n",
       " ['G26B', Timestamp('2012-10-12 00:00:00')],\n",
       " ['G26B', Timestamp('2012-10-13 00:00:00')],\n",
       " ['G26B', Timestamp('2012-10-14 00:00:00')],\n",
       " ['G26B', Timestamp('2012-10-15 00:00:00')],\n",
       " ['G26B', Timestamp('2012-10-16 00:00:00')],\n",
       " ['G26B', Timestamp('2012-10-17 00:00:00')],\n",
       " ['G26B', Timestamp('2012-10-18 00:00:00')],\n",
       " ['G26B', Timestamp('2012-10-19 00:00:00')],\n",
       " ['G26B', Timestamp('2012-10-20 00:00:00')],\n",
       " ['G26B', Timestamp('2012-10-21 00:00:00')],\n",
       " ['G26B', Timestamp('2012-10-22 00:00:00')],\n",
       " ['G26B', Timestamp('2012-10-23 00:00:00')],\n",
       " ['G26B', Timestamp('2012-10-24 00:00:00')],\n",
       " ['G26B', Timestamp('2012-10-25 00:00:00')],\n",
       " ['G26B', Timestamp('2012-10-26 00:00:00')],\n",
       " ['G26B', Timestamp('2012-10-27 00:00:00')],\n",
       " ['G26B', Timestamp('2012-10-28 00:00:00')],\n",
       " ['G26B', Timestamp('2012-10-29 00:00:00')],\n",
       " ['G26B', Timestamp('2012-10-30 00:00:00')],\n",
       " ['G26B', Timestamp('2012-10-31 00:00:00')],\n",
       " ['G27B', Timestamp('2012-10-01 00:00:00')],\n",
       " ['G27B', Timestamp('2012-10-02 00:00:00')],\n",
       " ['G27B', Timestamp('2012-10-03 00:00:00')],\n",
       " ['G27B', Timestamp('2012-10-04 00:00:00')],\n",
       " ['G27B', Timestamp('2012-10-05 00:00:00')],\n",
       " ['G27B', Timestamp('2012-10-06 00:00:00')],\n",
       " ['G27B', Timestamp('2012-10-07 00:00:00')],\n",
       " ['G27B', Timestamp('2012-10-08 00:00:00')],\n",
       " ['G27B', Timestamp('2012-10-09 00:00:00')],\n",
       " ['G27B', Timestamp('2012-10-10 00:00:00')],\n",
       " ['G27B', Timestamp('2012-10-11 00:00:00')],\n",
       " ['G27B', Timestamp('2012-10-12 00:00:00')],\n",
       " ['G27B', Timestamp('2012-10-13 00:00:00')],\n",
       " ['G27B', Timestamp('2012-10-14 00:00:00')],\n",
       " ['G27B', Timestamp('2012-10-15 00:00:00')],\n",
       " ['G27B', Timestamp('2012-10-16 00:00:00')],\n",
       " ['G27B', Timestamp('2012-10-17 00:00:00')],\n",
       " ['G27B', Timestamp('2012-10-18 00:00:00')],\n",
       " ['G27B', Timestamp('2012-10-19 00:00:00')],\n",
       " ['G27B', Timestamp('2012-10-20 00:00:00')],\n",
       " ['G27B', Timestamp('2012-10-21 00:00:00')],\n",
       " ['G27B', Timestamp('2012-10-22 00:00:00')],\n",
       " ['G27B', Timestamp('2012-10-23 00:00:00')],\n",
       " ['G27B', Timestamp('2012-10-24 00:00:00')],\n",
       " ['G27B', Timestamp('2012-10-25 00:00:00')],\n",
       " ['G27B', Timestamp('2012-10-26 00:00:00')],\n",
       " ['G27B', Timestamp('2012-10-27 00:00:00')],\n",
       " ['G27B', Timestamp('2012-10-28 00:00:00')],\n",
       " ['G27B', Timestamp('2012-10-29 00:00:00')],\n",
       " ['G27B', Timestamp('2012-10-30 00:00:00')],\n",
       " ['G27B', Timestamp('2012-10-31 00:00:00')],\n",
       " ['J09B', Timestamp('2012-10-01 00:00:00')],\n",
       " ['J09B', Timestamp('2012-10-02 00:00:00')],\n",
       " ['J09B', Timestamp('2012-10-03 00:00:00')],\n",
       " ['J09B', Timestamp('2012-10-04 00:00:00')],\n",
       " ['J09B', Timestamp('2012-10-05 00:00:00')],\n",
       " ['J09B', Timestamp('2012-10-06 00:00:00')],\n",
       " ['J09B', Timestamp('2012-10-07 00:00:00')],\n",
       " ['J09B', Timestamp('2012-10-08 00:00:00')],\n",
       " ['J09B', Timestamp('2012-10-09 00:00:00')],\n",
       " ['J09B', Timestamp('2012-10-10 00:00:00')],\n",
       " ['J09B', Timestamp('2012-10-11 00:00:00')],\n",
       " ['J09B', Timestamp('2012-10-12 00:00:00')],\n",
       " ['J09B', Timestamp('2012-10-13 00:00:00')],\n",
       " ['J09B', Timestamp('2012-10-14 00:00:00')],\n",
       " ['J09B', Timestamp('2012-10-15 00:00:00')],\n",
       " ['J09B', Timestamp('2012-10-16 00:00:00')],\n",
       " ['J09B', Timestamp('2012-10-17 00:00:00')],\n",
       " ['J09B', Timestamp('2012-10-18 00:00:00')],\n",
       " ['J09B', Timestamp('2012-10-19 00:00:00')],\n",
       " ['J09B', Timestamp('2012-10-20 00:00:00')],\n",
       " ['J09B', Timestamp('2012-10-21 00:00:00')],\n",
       " ['J09B', Timestamp('2012-10-22 00:00:00')],\n",
       " ['J09B', Timestamp('2012-10-23 00:00:00')],\n",
       " ['J09B', Timestamp('2012-10-24 00:00:00')],\n",
       " ['J09B', Timestamp('2012-10-25 00:00:00')],\n",
       " ['J09B', Timestamp('2012-10-26 00:00:00')],\n",
       " ['J09B', Timestamp('2012-10-27 00:00:00')],\n",
       " ['J09B', Timestamp('2012-10-28 00:00:00')],\n",
       " ['J09B', Timestamp('2012-10-29 00:00:00')],\n",
       " ['J09B', Timestamp('2012-10-30 00:00:00')],\n",
       " ['J09B', Timestamp('2012-10-31 00:00:00')],\n",
       " ['J25B', Timestamp('2012-10-01 00:00:00')],\n",
       " ['J25B', Timestamp('2012-10-02 00:00:00')],\n",
       " ['J25B', Timestamp('2012-10-03 00:00:00')],\n",
       " ['J25B', Timestamp('2012-10-04 00:00:00')],\n",
       " ['J25B', Timestamp('2012-10-05 00:00:00')],\n",
       " ['J25B', Timestamp('2012-10-06 00:00:00')],\n",
       " ['J25B', Timestamp('2012-10-07 00:00:00')],\n",
       " ['J25B', Timestamp('2012-10-08 00:00:00')],\n",
       " ['J25B', Timestamp('2012-10-09 00:00:00')],\n",
       " ['J25B', Timestamp('2012-10-10 00:00:00')],\n",
       " ['J25B', Timestamp('2012-10-11 00:00:00')],\n",
       " ['J25B', Timestamp('2012-10-12 00:00:00')],\n",
       " ['J25B', Timestamp('2012-10-13 00:00:00')],\n",
       " ['J25B', Timestamp('2012-10-14 00:00:00')],\n",
       " ['J25B', Timestamp('2012-10-15 00:00:00')],\n",
       " ['J25B', Timestamp('2012-10-16 00:00:00')],\n",
       " ['J25B', Timestamp('2012-10-17 00:00:00')],\n",
       " ['J25B', Timestamp('2012-10-18 00:00:00')],\n",
       " ['J25B', Timestamp('2012-10-19 00:00:00')],\n",
       " ['J25B', Timestamp('2012-10-20 00:00:00')],\n",
       " ['J25B', Timestamp('2012-10-21 00:00:00')],\n",
       " ['J25B', Timestamp('2012-10-22 00:00:00')],\n",
       " ['J25B', Timestamp('2012-10-23 00:00:00')],\n",
       " ['J25B', Timestamp('2012-10-24 00:00:00')],\n",
       " ['J25B', Timestamp('2012-10-25 00:00:00')],\n",
       " ['J25B', Timestamp('2012-10-26 00:00:00')],\n",
       " ['J25B', Timestamp('2012-10-27 00:00:00')],\n",
       " ['J25B', Timestamp('2012-10-28 00:00:00')],\n",
       " ['J25B', Timestamp('2012-10-29 00:00:00')],\n",
       " ['J25B', Timestamp('2012-10-30 00:00:00')],\n",
       " ['J25B', Timestamp('2012-10-31 00:00:00')],\n",
       " ['J33B', Timestamp('2012-10-01 00:00:00')],\n",
       " ['J33B', Timestamp('2012-10-02 00:00:00')],\n",
       " ['J33B', Timestamp('2012-10-03 00:00:00')],\n",
       " ['J33B', Timestamp('2012-10-04 00:00:00')],\n",
       " ['J33B', Timestamp('2012-10-05 00:00:00')],\n",
       " ['J33B', Timestamp('2012-10-06 00:00:00')],\n",
       " ['J33B', Timestamp('2012-10-07 00:00:00')],\n",
       " ['J33B', Timestamp('2012-10-08 00:00:00')],\n",
       " ['J33B', Timestamp('2012-10-09 00:00:00')],\n",
       " ['J33B', Timestamp('2012-10-10 00:00:00')],\n",
       " ['J33B', Timestamp('2012-10-11 00:00:00')],\n",
       " ['J33B', Timestamp('2012-10-12 00:00:00')],\n",
       " ['J33B', Timestamp('2012-10-13 00:00:00')],\n",
       " ['J33B', Timestamp('2012-10-14 00:00:00')],\n",
       " ['J33B', Timestamp('2012-10-15 00:00:00')],\n",
       " ['J33B', Timestamp('2012-10-16 00:00:00')],\n",
       " ['J33B', Timestamp('2012-10-17 00:00:00')],\n",
       " ['J33B', Timestamp('2012-10-18 00:00:00')],\n",
       " ['J33B', Timestamp('2012-10-19 00:00:00')],\n",
       " ['J33B', Timestamp('2012-10-20 00:00:00')],\n",
       " ['J33B', Timestamp('2012-10-21 00:00:00')],\n",
       " ['J33B', Timestamp('2012-10-22 00:00:00')],\n",
       " ['J33B', Timestamp('2012-10-23 00:00:00')],\n",
       " ['J33B', Timestamp('2012-10-24 00:00:00')],\n",
       " ['J33B', Timestamp('2012-10-25 00:00:00')],\n",
       " ['J33B', Timestamp('2012-10-26 00:00:00')],\n",
       " ['J33B', Timestamp('2012-10-27 00:00:00')],\n",
       " ['J33B', Timestamp('2012-10-28 00:00:00')],\n",
       " ['J33B', Timestamp('2012-10-29 00:00:00')],\n",
       " ['J33B', Timestamp('2012-10-30 00:00:00')],\n",
       " ['J33B', Timestamp('2012-10-31 00:00:00')],\n",
       " ['M09B', Timestamp('2012-10-01 00:00:00')],\n",
       " ['M09B', Timestamp('2012-10-02 00:00:00')],\n",
       " ['M09B', Timestamp('2012-10-03 00:00:00')],\n",
       " ['M09B', Timestamp('2012-10-04 00:00:00')],\n",
       " ['M09B', Timestamp('2012-10-05 00:00:00')],\n",
       " ['M09B', Timestamp('2012-10-06 00:00:00')],\n",
       " ['M09B', Timestamp('2012-10-07 00:00:00')],\n",
       " ['M09B', Timestamp('2012-10-08 00:00:00')],\n",
       " ['M09B', Timestamp('2012-10-09 00:00:00')],\n",
       " ['M09B', Timestamp('2012-10-10 00:00:00')],\n",
       " ['M09B', Timestamp('2012-10-11 00:00:00')],\n",
       " ['M09B', Timestamp('2012-10-12 00:00:00')],\n",
       " ['M09B', Timestamp('2012-10-13 00:00:00')],\n",
       " ['M09B', Timestamp('2012-10-14 00:00:00')],\n",
       " ['M09B', Timestamp('2012-10-15 00:00:00')],\n",
       " ['M09B', Timestamp('2012-10-16 00:00:00')],\n",
       " ['M09B', Timestamp('2012-10-17 00:00:00')],\n",
       " ['M09B', Timestamp('2012-10-18 00:00:00')],\n",
       " ['M09B', Timestamp('2012-10-19 00:00:00')],\n",
       " ['M09B', Timestamp('2012-10-20 00:00:00')],\n",
       " ['M09B', Timestamp('2012-10-21 00:00:00')],\n",
       " ['M09B', Timestamp('2012-10-22 00:00:00')],\n",
       " ['M09B', Timestamp('2012-10-23 00:00:00')],\n",
       " ['M09B', Timestamp('2012-10-24 00:00:00')],\n",
       " ['M09B', Timestamp('2012-10-25 00:00:00')],\n",
       " ['M09B', Timestamp('2012-10-26 00:00:00')],\n",
       " ['M09B', Timestamp('2012-10-27 00:00:00')],\n",
       " ['M09B', Timestamp('2012-10-28 00:00:00')],\n",
       " ['M09B', Timestamp('2012-10-29 00:00:00')],\n",
       " ['M09B', Timestamp('2012-10-30 00:00:00')],\n",
       " ['M09B', Timestamp('2012-10-31 00:00:00')],\n",
       " ['M12B', Timestamp('2012-10-01 00:00:00')],\n",
       " ['M12B', Timestamp('2012-10-02 00:00:00')],\n",
       " ['M12B', Timestamp('2012-10-03 00:00:00')],\n",
       " ['M12B', Timestamp('2012-10-04 00:00:00')],\n",
       " ['M12B', Timestamp('2012-10-05 00:00:00')],\n",
       " ['M12B', Timestamp('2012-10-06 00:00:00')],\n",
       " ['M12B', Timestamp('2012-10-07 00:00:00')],\n",
       " ['M12B', Timestamp('2012-10-08 00:00:00')],\n",
       " ['M12B', Timestamp('2012-10-09 00:00:00')],\n",
       " ['M12B', Timestamp('2012-10-10 00:00:00')],\n",
       " ['M12B', Timestamp('2012-10-11 00:00:00')],\n",
       " ['M12B', Timestamp('2012-10-12 00:00:00')],\n",
       " ['M12B', Timestamp('2012-10-13 00:00:00')],\n",
       " ['M12B', Timestamp('2012-10-14 00:00:00')],\n",
       " ['M12B', Timestamp('2012-10-15 00:00:00')],\n",
       " ['M12B', Timestamp('2012-10-16 00:00:00')],\n",
       " ['M12B', Timestamp('2012-10-17 00:00:00')],\n",
       " ['M12B', Timestamp('2012-10-18 00:00:00')],\n",
       " ['M12B', Timestamp('2012-10-19 00:00:00')],\n",
       " ['M12B', Timestamp('2012-10-20 00:00:00')],\n",
       " ['M12B', Timestamp('2012-10-21 00:00:00')],\n",
       " ['M12B', Timestamp('2012-10-22 00:00:00')],\n",
       " ['M12B', Timestamp('2012-10-23 00:00:00')],\n",
       " ['M12B', Timestamp('2012-10-24 00:00:00')],\n",
       " ['M12B', Timestamp('2012-10-25 00:00:00')],\n",
       " ['M12B', Timestamp('2012-10-26 00:00:00')],\n",
       " ['M12B', Timestamp('2012-10-27 00:00:00')],\n",
       " ['M12B', Timestamp('2012-10-28 00:00:00')],\n",
       " ['M12B', Timestamp('2012-10-29 00:00:00')],\n",
       " ['M12B', Timestamp('2012-10-30 00:00:00')],\n",
       " ['M12B', Timestamp('2012-10-31 00:00:00')],\n",
       " ['M14B', Timestamp('2012-10-01 00:00:00')],\n",
       " ['M14B', Timestamp('2012-10-02 00:00:00')],\n",
       " ['M14B', Timestamp('2012-10-03 00:00:00')],\n",
       " ['M14B', Timestamp('2012-10-04 00:00:00')],\n",
       " ['M14B', Timestamp('2012-10-05 00:00:00')],\n",
       " ['M14B', Timestamp('2012-10-06 00:00:00')],\n",
       " ['M14B', Timestamp('2012-10-07 00:00:00')],\n",
       " ['M14B', Timestamp('2012-10-08 00:00:00')],\n",
       " ['M14B', Timestamp('2012-10-09 00:00:00')],\n",
       " ['M14B', Timestamp('2012-10-10 00:00:00')],\n",
       " ['M14B', Timestamp('2012-10-11 00:00:00')],\n",
       " ['M14B', Timestamp('2012-10-12 00:00:00')],\n",
       " ['M14B', Timestamp('2012-10-13 00:00:00')],\n",
       " ['M14B', Timestamp('2012-10-14 00:00:00')],\n",
       " ['M14B', Timestamp('2012-10-15 00:00:00')],\n",
       " ['M14B', Timestamp('2012-10-16 00:00:00')],\n",
       " ['M14B', Timestamp('2012-10-17 00:00:00')],\n",
       " ['M14B', Timestamp('2012-10-18 00:00:00')],\n",
       " ['M14B', Timestamp('2012-10-19 00:00:00')],\n",
       " ['M14B', Timestamp('2012-10-20 00:00:00')],\n",
       " ['M14B', Timestamp('2012-10-21 00:00:00')],\n",
       " ['M14B', Timestamp('2012-10-22 00:00:00')],\n",
       " ['M14B', Timestamp('2012-10-23 00:00:00')],\n",
       " ['M14B', Timestamp('2012-10-24 00:00:00')],\n",
       " ['M14B', Timestamp('2012-10-25 00:00:00')],\n",
       " ['M14B', Timestamp('2012-10-26 00:00:00')],\n",
       " ['M14B', Timestamp('2012-10-27 00:00:00')],\n",
       " ['M14B', Timestamp('2012-10-28 00:00:00')],\n",
       " ['M14B', Timestamp('2012-10-29 00:00:00')],\n",
       " ['M14B', Timestamp('2012-10-30 00:00:00')],\n",
       " ['M14B', Timestamp('2012-10-31 00:00:00')]]"
      ]
     },
     "execution_count": 16,
     "metadata": {},
     "output_type": "execute_result"
    }
   ],
   "source": [
    "task_list"
   ]
  },
  {
   "cell_type": "code",
   "execution_count": null,
   "id": "560aff81",
   "metadata": {
    "scrolled": true
   },
   "outputs": [
    {
     "name": "stdout",
     "output_type": "stream",
     "text": [
      "[                                        ] | 0% Completed | 9.37 s msAll prediction shape: (2, 5, 1439, 6000)\n",
      "[                                        ] | 0% Completed | 61.03 s195 P picks\n",
      "36 S picks\n",
      "[                                        ] | 0% Completed | 61.13 s"
     ]
    },
    {
     "name": "stderr",
     "output_type": "stream",
     "text": [
      "/tmp/ipykernel_1432373/2319557713.py:13: RuntimeWarning: All-NaN axis encountered\n",
      "  np.nanmax([stack[idx:idx + twin], _data[iseg+1, :]], axis = 0)\n"
     ]
    },
    {
     "name": "stdout",
     "output_type": "stream",
     "text": [
      "[                                        ] | 0% Completed | 85.39 sAll prediction shape: (2, 5, 3599, 6000)\n",
      "[                                        ] | 0% Completed | 338.21 s"
     ]
    },
    {
     "name": "stderr",
     "output_type": "stream",
     "text": [
      "/tmp/ipykernel_1432373/2319557713.py:13: RuntimeWarning: All-NaN axis encountered\n",
      "  np.nanmax([stack[idx:idx + twin], _data[iseg+1, :]], axis = 0)\n"
     ]
    },
    {
     "name": "stdout",
     "output_type": "stream",
     "text": [
      "170 P picks\n",
      "127 S picks\n",
      "[                                        ] | 0% Completed | 363.63 sAll prediction shape: (2, 5, 3599, 6000)\n",
      "[                                        ] | 0% Completed | 10m 16ss"
     ]
    },
    {
     "name": "stderr",
     "output_type": "stream",
     "text": [
      "/tmp/ipykernel_1432373/2319557713.py:13: RuntimeWarning: All-NaN axis encountered\n",
      "  np.nanmax([stack[idx:idx + twin], _data[iseg+1, :]], axis = 0)\n"
     ]
    },
    {
     "name": "stdout",
     "output_type": "stream",
     "text": [
      "435 P picks\n",
      "498 S picks\n",
      "[                                        ] | 0% Completed | 10m 41sAll prediction shape: (2, 5, 3599, 6000)\n",
      "[                                        ] | 0% Completed | 14m 52s73 P picks\n",
      "58 S picks\n"
     ]
    },
    {
     "name": "stderr",
     "output_type": "stream",
     "text": [
      "/tmp/ipykernel_1432373/2319557713.py:13: RuntimeWarning: All-NaN axis encountered\n",
      "  np.nanmax([stack[idx:idx + twin], _data[iseg+1, :]], axis = 0)\n"
     ]
    },
    {
     "name": "stdout",
     "output_type": "stream",
     "text": [
      "[                                        ] | 0% Completed | 15m 14sAll prediction shape: (2, 5, 3599, 6000)\n",
      "[                                        ] | 0% Completed | 19m 26s146 P picks\n",
      "116 S picks\n"
     ]
    },
    {
     "name": "stderr",
     "output_type": "stream",
     "text": [
      "/tmp/ipykernel_1432373/2319557713.py:13: RuntimeWarning: All-NaN axis encountered\n",
      "  np.nanmax([stack[idx:idx + twin], _data[iseg+1, :]], axis = 0)\n"
     ]
    },
    {
     "name": "stdout",
     "output_type": "stream",
     "text": [
      "[                                        ] | 0% Completed | 19m 48sAll prediction shape: (2, 5, 3599, 6000)\n",
      "[                                        ] | 0% Completed | 23m 59s"
     ]
    },
    {
     "name": "stderr",
     "output_type": "stream",
     "text": [
      "/tmp/ipykernel_1432373/2319557713.py:13: RuntimeWarning: All-NaN axis encountered\n",
      "  np.nanmax([stack[idx:idx + twin], _data[iseg+1, :]], axis = 0)\n"
     ]
    },
    {
     "name": "stdout",
     "output_type": "stream",
     "text": [
      "421 P picks\n",
      "404 S picks\n",
      "[                                        ] | 1% Completed | 24m 21sAll prediction shape: (2, 5, 3599, 6000)\n",
      "[                                        ] | 1% Completed | 28m 33s49 P picks\n",
      "33 S picks\n"
     ]
    },
    {
     "name": "stderr",
     "output_type": "stream",
     "text": [
      "/tmp/ipykernel_1432373/2319557713.py:13: RuntimeWarning: All-NaN axis encountered\n",
      "  np.nanmax([stack[idx:idx + twin], _data[iseg+1, :]], axis = 0)\n"
     ]
    },
    {
     "name": "stdout",
     "output_type": "stream",
     "text": [
      "[                                        ] | 1% Completed | 28m 55sAll prediction shape: (2, 5, 3598, 6000)\n",
      "[                                        ] | 1% Completed | 33m 7ss196 P picks\n",
      "169 S picks\n"
     ]
    },
    {
     "name": "stderr",
     "output_type": "stream",
     "text": [
      "/tmp/ipykernel_1432373/2319557713.py:13: RuntimeWarning: All-NaN axis encountered\n",
      "  np.nanmax([stack[idx:idx + twin], _data[iseg+1, :]], axis = 0)\n"
     ]
    },
    {
     "name": "stdout",
     "output_type": "stream",
     "text": [
      "[                                        ] | 1% Completed | 33m 29sAll prediction shape: (2, 5, 3598, 6000)\n",
      "[                                        ] | 1% Completed | 37m 44s376 P picks\n",
      "359 S picks\n",
      "[                                        ] | 1% Completed | 37m 44s"
     ]
    },
    {
     "name": "stderr",
     "output_type": "stream",
     "text": [
      "/tmp/ipykernel_1432373/2319557713.py:13: RuntimeWarning: All-NaN axis encountered\n",
      "  np.nanmax([stack[idx:idx + twin], _data[iseg+1, :]], axis = 0)\n"
     ]
    },
    {
     "name": "stdout",
     "output_type": "stream",
     "text": [
      "[                                        ] | 1% Completed | 38m 5ssAll prediction shape: (2, 5, 3598, 6000)\n",
      "[                                        ] | 1% Completed | 42m 17s557 P picks\n",
      "470 S picks\n",
      "[                                        ] | 1% Completed | 42m 17s"
     ]
    },
    {
     "name": "stderr",
     "output_type": "stream",
     "text": [
      "/tmp/ipykernel_1432373/2319557713.py:13: RuntimeWarning: All-NaN axis encountered\n",
      "  np.nanmax([stack[idx:idx + twin], _data[iseg+1, :]], axis = 0)\n"
     ]
    },
    {
     "name": "stdout",
     "output_type": "stream",
     "text": [
      "[                                        ] | 1% Completed | 42m 23sAll prediction shape: (2, 5, 1438, 6000)\n",
      "[                                        ] | 1% Completed | 43m 14s152 P picks\n",
      "63 S picks\n",
      "[                                        ] | 2% Completed | 43m 14s"
     ]
    },
    {
     "name": "stderr",
     "output_type": "stream",
     "text": [
      "/tmp/ipykernel_1432373/2319557713.py:13: RuntimeWarning: All-NaN axis encountered\n",
      "  np.nanmax([stack[idx:idx + twin], _data[iseg+1, :]], axis = 0)\n"
     ]
    },
    {
     "name": "stdout",
     "output_type": "stream",
     "text": [
      "[                                        ] | 2% Completed | 43m 20sAll prediction shape: (2, 5, 1439, 6000)\n",
      "[                                        ] | 2% Completed | 44m 12s104 P picks\n",
      "16 S picks\n",
      "[                                        ] | 2% Completed | 44m 12s"
     ]
    },
    {
     "name": "stderr",
     "output_type": "stream",
     "text": [
      "/tmp/ipykernel_1432373/2319557713.py:13: RuntimeWarning: All-NaN axis encountered\n",
      "  np.nanmax([stack[idx:idx + twin], _data[iseg+1, :]], axis = 0)\n"
     ]
    },
    {
     "name": "stdout",
     "output_type": "stream",
     "text": [
      "[                                        ] | 2% Completed | 44m 33sAll prediction shape: (2, 5, 3599, 6000)\n",
      "[                                        ] | 2% Completed | 48m 45s413 P picks\n",
      "304 S picks\n"
     ]
    },
    {
     "name": "stderr",
     "output_type": "stream",
     "text": [
      "/tmp/ipykernel_1432373/2319557713.py:13: RuntimeWarning: All-NaN axis encountered\n",
      "  np.nanmax([stack[idx:idx + twin], _data[iseg+1, :]], axis = 0)\n"
     ]
    },
    {
     "name": "stdout",
     "output_type": "stream",
     "text": [
      "[                                        ] | 2% Completed | 49m 6ssAll prediction shape: (2, 5, 3599, 6000)\n",
      "[                                        ] | 2% Completed | 53m 18s"
     ]
    },
    {
     "name": "stderr",
     "output_type": "stream",
     "text": [
      "/tmp/ipykernel_1432373/2319557713.py:13: RuntimeWarning: All-NaN axis encountered\n",
      "  np.nanmax([stack[idx:idx + twin], _data[iseg+1, :]], axis = 0)\n"
     ]
    },
    {
     "name": "stdout",
     "output_type": "stream",
     "text": [
      "520 P picks\n",
      "250 S picks\n",
      "[#                                       ] | 2% Completed | 53m 40sAll prediction shape: (2, 5, 3599, 6000)\n",
      "[#                                       ] | 2% Completed | 57m 51s105 P picks\n",
      "95 S picks\n",
      "[#                                       ] | 2% Completed | 57m 51s"
     ]
    },
    {
     "name": "stderr",
     "output_type": "stream",
     "text": [
      "/tmp/ipykernel_1432373/2319557713.py:13: RuntimeWarning: All-NaN axis encountered\n",
      "  np.nanmax([stack[idx:idx + twin], _data[iseg+1, :]], axis = 0)\n"
     ]
    },
    {
     "name": "stdout",
     "output_type": "stream",
     "text": [
      "[#                                       ] | 2% Completed | 57m 56sAll prediction shape: (2, 5, 1439, 6000)\n",
      "[#                                       ] | 2% Completed | 58m 48s129 P picks\n",
      "29 S picks\n",
      "[#                                       ] | 3% Completed | 58m 48s"
     ]
    },
    {
     "name": "stderr",
     "output_type": "stream",
     "text": [
      "/tmp/ipykernel_1432373/2319557713.py:13: RuntimeWarning: All-NaN axis encountered\n",
      "  np.nanmax([stack[idx:idx + twin], _data[iseg+1, :]], axis = 0)\n"
     ]
    },
    {
     "name": "stdout",
     "output_type": "stream",
     "text": [
      "[#                                       ] | 3% Completed | 58m 53sAll prediction shape: (2, 5, 1439, 6000)\n",
      "[#                                       ] | 3% Completed | 59m 45s179 P picks\n",
      "49 S picks\n",
      "[#                                       ] | 3% Completed | 59m 45s"
     ]
    },
    {
     "name": "stderr",
     "output_type": "stream",
     "text": [
      "/tmp/ipykernel_1432373/2319557713.py:13: RuntimeWarning: All-NaN axis encountered\n",
      "  np.nanmax([stack[idx:idx + twin], _data[iseg+1, :]], axis = 0)\n"
     ]
    },
    {
     "name": "stdout",
     "output_type": "stream",
     "text": [
      "[#                                       ] | 3% Completed | 59m 50sAll prediction shape: (2, 5, 1439, 6000)\n",
      "[#                                       ] | 3% Completed | 60m 42s29 P picks\n",
      "19 S picks\n",
      "[#                                       ] | 3% Completed | 60m 42s"
     ]
    },
    {
     "name": "stderr",
     "output_type": "stream",
     "text": [
      "/tmp/ipykernel_1432373/2319557713.py:13: RuntimeWarning: All-NaN axis encountered\n",
      "  np.nanmax([stack[idx:idx + twin], _data[iseg+1, :]], axis = 0)\n"
     ]
    },
    {
     "name": "stdout",
     "output_type": "stream",
     "text": [
      "[#                                       ] | 3% Completed | 61m 3ssAll prediction shape: (2, 5, 3599, 6000)\n",
      "[#                                       ] | 3% Completed | 65m 14s438 P picks\n",
      "184 S picks\n"
     ]
    },
    {
     "name": "stderr",
     "output_type": "stream",
     "text": [
      "/tmp/ipykernel_1432373/2319557713.py:13: RuntimeWarning: All-NaN axis encountered\n",
      "  np.nanmax([stack[idx:idx + twin], _data[iseg+1, :]], axis = 0)\n"
     ]
    },
    {
     "name": "stdout",
     "output_type": "stream",
     "text": [
      "[#                                       ] | 3% Completed | 65m 35sAll prediction shape: (2, 5, 3598, 6000)\n",
      "[#                                       ] | 3% Completed | 69m 47s147 P picks\n",
      "130 S picks\n"
     ]
    },
    {
     "name": "stderr",
     "output_type": "stream",
     "text": [
      "/tmp/ipykernel_1432373/2319557713.py:13: RuntimeWarning: All-NaN axis encountered\n",
      "  np.nanmax([stack[idx:idx + twin], _data[iseg+1, :]], axis = 0)\n"
     ]
    },
    {
     "name": "stdout",
     "output_type": "stream",
     "text": [
      "[#                                       ] | 3% Completed | 69m 52sAll prediction shape: (2, 5, 1439, 6000)\n",
      "[#                                       ] | 3% Completed | 70m 44s182 P picks\n",
      "54 S picks\n",
      "[#                                       ] | 3% Completed | 70m 44s"
     ]
    },
    {
     "name": "stderr",
     "output_type": "stream",
     "text": [
      "/tmp/ipykernel_1432373/2319557713.py:13: RuntimeWarning: All-NaN axis encountered\n",
      "  np.nanmax([stack[idx:idx + twin], _data[iseg+1, :]], axis = 0)\n"
     ]
    },
    {
     "name": "stdout",
     "output_type": "stream",
     "text": [
      "[#                                       ] | 3% Completed | 70m 49sAll prediction shape: (2, 5, 1439, 6000)\n",
      "[#                                       ] | 3% Completed | 71m 41s212 P picks\n",
      "52 S picks\n",
      "[#                                       ] | 4% Completed | 71m 41s"
     ]
    },
    {
     "name": "stderr",
     "output_type": "stream",
     "text": [
      "/tmp/ipykernel_1432373/2319557713.py:13: RuntimeWarning: All-NaN axis encountered\n",
      "  np.nanmax([stack[idx:idx + twin], _data[iseg+1, :]], axis = 0)\n"
     ]
    },
    {
     "name": "stdout",
     "output_type": "stream",
     "text": [
      "[#                                       ] | 4% Completed | 72m 1ssAll prediction shape: (2, 5, 3599, 6000)\n",
      "[#                                       ] | 4% Completed | 76m 14s111 P picks\n",
      "81 S picks\n",
      "[#                                       ] | 4% Completed | 76m 14s"
     ]
    },
    {
     "name": "stderr",
     "output_type": "stream",
     "text": [
      "/tmp/ipykernel_1432373/2319557713.py:13: RuntimeWarning: All-NaN axis encountered\n",
      "  np.nanmax([stack[idx:idx + twin], _data[iseg+1, :]], axis = 0)\n"
     ]
    },
    {
     "name": "stdout",
     "output_type": "stream",
     "text": [
      "[#                                       ] | 4% Completed | 76m 19sAll prediction shape: (2, 5, 1439, 6000)\n",
      "[#                                       ] | 4% Completed | 77m 11s183 P picks\n",
      "156 S picks\n",
      "[#                                       ] | 4% Completed | 77m 11s"
     ]
    },
    {
     "name": "stderr",
     "output_type": "stream",
     "text": [
      "/tmp/ipykernel_1432373/2319557713.py:13: RuntimeWarning: All-NaN axis encountered\n",
      "  np.nanmax([stack[idx:idx + twin], _data[iseg+1, :]], axis = 0)\n"
     ]
    },
    {
     "name": "stdout",
     "output_type": "stream",
     "text": [
      "[#                                       ] | 4% Completed | 77m 32sAll prediction shape: (2, 5, 3598, 6000)\n",
      "[#                                       ] | 4% Completed | 81m 52s171 P picks\n",
      "127 S picks\n",
      "[#                                       ] | 4% Completed | 81m 52s"
     ]
    },
    {
     "name": "stderr",
     "output_type": "stream",
     "text": [
      "/tmp/ipykernel_1432373/2319557713.py:13: RuntimeWarning: All-NaN axis encountered\n",
      "  np.nanmax([stack[idx:idx + twin], _data[iseg+1, :]], axis = 0)\n"
     ]
    },
    {
     "name": "stdout",
     "output_type": "stream",
     "text": [
      "[#                                       ] | 4% Completed | 81m 57sAll prediction shape: (2, 5, 1439, 6000)\n",
      "[#                                       ] | 4% Completed | 82m 49s59 P picks\n",
      "17 S picks\n",
      "[#                                       ] | 4% Completed | 82m 49s"
     ]
    },
    {
     "name": "stderr",
     "output_type": "stream",
     "text": [
      "/tmp/ipykernel_1432373/2319557713.py:13: RuntimeWarning: All-NaN axis encountered\n",
      "  np.nanmax([stack[idx:idx + twin], _data[iseg+1, :]], axis = 0)\n"
     ]
    },
    {
     "name": "stdout",
     "output_type": "stream",
     "text": [
      "[#                                       ] | 4% Completed | 83m 9ssAll prediction shape: (2, 5, 3599, 6000)\n",
      "[#                                       ] | 4% Completed | 87m 21s508 P picks\n",
      "85 S picks\n"
     ]
    },
    {
     "name": "stderr",
     "output_type": "stream",
     "text": [
      "/tmp/ipykernel_1432373/2319557713.py:13: RuntimeWarning: All-NaN axis encountered\n",
      "  np.nanmax([stack[idx:idx + twin], _data[iseg+1, :]], axis = 0)\n"
     ]
    },
    {
     "name": "stdout",
     "output_type": "stream",
     "text": [
      "[##                                      ] | 5% Completed | 87m 41sAll prediction shape: (2, 5, 3599, 6000)\n",
      "[##                                      ] | 5% Completed | 91m 53s611 P picks\n",
      "571 S picks\n"
     ]
    },
    {
     "name": "stderr",
     "output_type": "stream",
     "text": [
      "/tmp/ipykernel_1432373/2319557713.py:13: RuntimeWarning: All-NaN axis encountered\n",
      "  np.nanmax([stack[idx:idx + twin], _data[iseg+1, :]], axis = 0)\n"
     ]
    },
    {
     "name": "stdout",
     "output_type": "stream",
     "text": [
      "[##                                      ] | 5% Completed | 91m 59sAll prediction shape: (2, 5, 1439, 6000)\n",
      "[##                                      ] | 5% Completed | 92m 50s142 P picks\n",
      "54 S picks\n",
      "[##                                      ] | 5% Completed | 92m 50s"
     ]
    },
    {
     "name": "stderr",
     "output_type": "stream",
     "text": [
      "/tmp/ipykernel_1432373/2319557713.py:13: RuntimeWarning: All-NaN axis encountered\n",
      "  np.nanmax([stack[idx:idx + twin], _data[iseg+1, :]], axis = 0)\n"
     ]
    },
    {
     "name": "stdout",
     "output_type": "stream",
     "text": [
      "[##                                      ] | 5% Completed | 92m 56sAll prediction shape: (2, 5, 1439, 6000)\n",
      "[##                                      ] | 5% Completed | 93m 47s200 P picks\n",
      "73 S picks\n",
      "[##                                      ] | 5% Completed | 93m 47s"
     ]
    },
    {
     "name": "stderr",
     "output_type": "stream",
     "text": [
      "/tmp/ipykernel_1432373/2319557713.py:13: RuntimeWarning: All-NaN axis encountered\n",
      "  np.nanmax([stack[idx:idx + twin], _data[iseg+1, :]], axis = 0)\n"
     ]
    },
    {
     "name": "stdout",
     "output_type": "stream",
     "text": [
      "[##                                      ] | 5% Completed | 94m 8ssAll prediction shape: (2, 5, 3599, 6000)\n",
      "[##                                      ] | 5% Completed | 98m 20s467 P picks\n",
      "511 S picks\n"
     ]
    },
    {
     "name": "stderr",
     "output_type": "stream",
     "text": [
      "/tmp/ipykernel_1432373/2319557713.py:13: RuntimeWarning: All-NaN axis encountered\n",
      "  np.nanmax([stack[idx:idx + twin], _data[iseg+1, :]], axis = 0)\n"
     ]
    },
    {
     "name": "stdout",
     "output_type": "stream",
     "text": [
      "[##                                      ] | 5% Completed | 98m 26sAll prediction shape: (2, 5, 1439, 6000)\n",
      "[##                                      ] | 5% Completed | 99m 18s197 P picks\n",
      "47 S picks\n",
      "[##                                      ] | 6% Completed | 99m 18s"
     ]
    },
    {
     "name": "stderr",
     "output_type": "stream",
     "text": [
      "/tmp/ipykernel_1432373/2319557713.py:13: RuntimeWarning: All-NaN axis encountered\n",
      "  np.nanmax([stack[idx:idx + twin], _data[iseg+1, :]], axis = 0)\n"
     ]
    },
    {
     "name": "stdout",
     "output_type": "stream",
     "text": [
      "[##                                      ] | 6% Completed | 99m 39sAll prediction shape: (2, 5, 3599, 6000)\n",
      "[##                                      ] | 6% Completed | 103m 50s425 P picks\n",
      "488 S picks\n"
     ]
    },
    {
     "name": "stderr",
     "output_type": "stream",
     "text": [
      "/tmp/ipykernel_1432373/2319557713.py:13: RuntimeWarning: All-NaN axis encountered\n",
      "  np.nanmax([stack[idx:idx + twin], _data[iseg+1, :]], axis = 0)\n"
     ]
    },
    {
     "name": "stdout",
     "output_type": "stream",
     "text": [
      "[##                                      ] | 6% Completed | 104m 11sAll prediction shape: (2, 5, 3599, 6000)\n",
      "[##                                      ] | 6% Completed | 108m 22s697 P picks\n",
      "997 S picks\n",
      "[##                                      ] | 6% Completed | 108m 23s"
     ]
    },
    {
     "name": "stderr",
     "output_type": "stream",
     "text": [
      "/tmp/ipykernel_1432373/2319557713.py:13: RuntimeWarning: All-NaN axis encountered\n",
      "  np.nanmax([stack[idx:idx + twin], _data[iseg+1, :]], axis = 0)\n"
     ]
    },
    {
     "name": "stdout",
     "output_type": "stream",
     "text": [
      "[##                                      ] | 6% Completed | 108m 28sAll prediction shape: (2, 5, 1438, 6000)\n",
      "[##                                      ] | 6% Completed | 109m 19s119 P picks\n",
      "27 S picks\n",
      "[##                                      ] | 6% Completed | 109m 20s"
     ]
    },
    {
     "name": "stderr",
     "output_type": "stream",
     "text": [
      "/tmp/ipykernel_1432373/2319557713.py:13: RuntimeWarning: All-NaN axis encountered\n",
      "  np.nanmax([stack[idx:idx + twin], _data[iseg+1, :]], axis = 0)\n"
     ]
    },
    {
     "name": "stdout",
     "output_type": "stream",
     "text": [
      "[##                                      ] | 6% Completed | 109m 41sAll prediction shape: (2, 5, 3599, 6000)\n",
      "[##                                      ] | 6% Completed | 113m 53s506 P picks\n",
      "568 S picks\n"
     ]
    },
    {
     "name": "stderr",
     "output_type": "stream",
     "text": [
      "/tmp/ipykernel_1432373/2319557713.py:13: RuntimeWarning: All-NaN axis encountered\n",
      "  np.nanmax([stack[idx:idx + twin], _data[iseg+1, :]], axis = 0)\n"
     ]
    },
    {
     "name": "stdout",
     "output_type": "stream",
     "text": [
      "[##                                      ] | 6% Completed | 113m 59sAll prediction shape: (2, 5, 1439, 6000)\n",
      "[##                                      ] | 6% Completed | 114m 50s76 P picks\n",
      "30 S picks\n",
      "[##                                      ] | 7% Completed | 114m 50s"
     ]
    },
    {
     "name": "stderr",
     "output_type": "stream",
     "text": [
      "/tmp/ipykernel_1432373/2319557713.py:13: RuntimeWarning: All-NaN axis encountered\n",
      "  np.nanmax([stack[idx:idx + twin], _data[iseg+1, :]], axis = 0)\n"
     ]
    },
    {
     "name": "stdout",
     "output_type": "stream",
     "text": [
      "[##                                      ] | 7% Completed | 115m 11sAll prediction shape: (2, 5, 3599, 6000)\n",
      "[##                                      ] | 7% Completed | 119m 22s541 P picks\n",
      "546 S picks\n"
     ]
    },
    {
     "name": "stderr",
     "output_type": "stream",
     "text": [
      "/tmp/ipykernel_1432373/2319557713.py:13: RuntimeWarning: All-NaN axis encountered\n",
      "  np.nanmax([stack[idx:idx + twin], _data[iseg+1, :]], axis = 0)\n"
     ]
    },
    {
     "name": "stdout",
     "output_type": "stream",
     "text": [
      "[##                                      ] | 7% Completed | 119m 28sAll prediction shape: (2, 5, 1439, 6000)\n",
      "[##                                      ] | 7% Completed | 2hr 0m9s155 P picks\n",
      "44 S picks\n",
      "[##                                      ] | 7% Completed | 2hr 0m"
     ]
    },
    {
     "name": "stderr",
     "output_type": "stream",
     "text": [
      "/tmp/ipykernel_1432373/2319557713.py:13: RuntimeWarning: All-NaN axis encountered\n",
      "  np.nanmax([stack[idx:idx + twin], _data[iseg+1, :]], axis = 0)\n"
     ]
    },
    {
     "name": "stdout",
     "output_type": "stream",
     "text": [
      "[##                                      ] | 7% Completed | 2hr 0mAll prediction shape: (2, 5, 1439, 6000)\n",
      "[##                                      ] | 7% Completed | 2hr 1m68 P picks\n",
      "37 S picks\n",
      "[###                                     ] | 7% Completed | 2hr 1m"
     ]
    },
    {
     "name": "stderr",
     "output_type": "stream",
     "text": [
      "/tmp/ipykernel_1432373/2319557713.py:13: RuntimeWarning: All-NaN axis encountered\n",
      "  np.nanmax([stack[idx:idx + twin], _data[iseg+1, :]], axis = 0)\n"
     ]
    },
    {
     "name": "stdout",
     "output_type": "stream",
     "text": [
      "[###                                     ] | 7% Completed | 2hr 1mAll prediction shape: (2, 5, 1439, 6000)\n",
      "[###                                     ] | 7% Completed | 2hr 2m151 P picks\n",
      "118 S picks\n",
      "[###                                     ] | 7% Completed | 2hr 2m"
     ]
    },
    {
     "name": "stderr",
     "output_type": "stream",
     "text": [
      "/tmp/ipykernel_1432373/2319557713.py:13: RuntimeWarning: All-NaN axis encountered\n",
      "  np.nanmax([stack[idx:idx + twin], _data[iseg+1, :]], axis = 0)\n"
     ]
    },
    {
     "name": "stdout",
     "output_type": "stream",
     "text": [
      "[###                                     ] | 7% Completed | 2hr 2mAll prediction shape: (2, 5, 1439, 6000)\n",
      "[###                                     ] | 7% Completed | 2hr 3m171 P picks\n",
      "173 S picks\n",
      "[###                                     ] | 7% Completed | 2hr 3m"
     ]
    },
    {
     "name": "stderr",
     "output_type": "stream",
     "text": [
      "/tmp/ipykernel_1432373/2319557713.py:13: RuntimeWarning: All-NaN axis encountered\n",
      "  np.nanmax([stack[idx:idx + twin], _data[iseg+1, :]], axis = 0)\n"
     ]
    },
    {
     "name": "stdout",
     "output_type": "stream",
     "text": [
      "[###                                     ] | 7% Completed | 2hr 3mAll prediction shape: (2, 5, 3599, 6000)\n",
      "[###                                     ] | 7% Completed | 2hr 7m241 P picks\n",
      "479 S picks\n"
     ]
    },
    {
     "name": "stderr",
     "output_type": "stream",
     "text": [
      "/tmp/ipykernel_1432373/2319557713.py:13: RuntimeWarning: All-NaN axis encountered\n",
      "  np.nanmax([stack[idx:idx + twin], _data[iseg+1, :]], axis = 0)\n"
     ]
    },
    {
     "name": "stdout",
     "output_type": "stream",
     "text": [
      "[###                                     ] | 8% Completed | 2hr 7mAll prediction shape: (2, 5, 1439, 6000)\n",
      "[###                                     ] | 8% Completed | 2hr 8m154 P picks\n",
      "83 S picks\n",
      "[###                                     ] | 8% Completed | 2hr 8m"
     ]
    },
    {
     "name": "stderr",
     "output_type": "stream",
     "text": [
      "/tmp/ipykernel_1432373/2319557713.py:13: RuntimeWarning: All-NaN axis encountered\n",
      "  np.nanmax([stack[idx:idx + twin], _data[iseg+1, :]], axis = 0)\n"
     ]
    },
    {
     "name": "stdout",
     "output_type": "stream",
     "text": [
      "[###                                     ] | 8% Completed | 2hr 8mAll prediction shape: (2, 5, 1439, 6000)\n",
      "[###                                     ] | 8% Completed | 2hr 9m109 P picks\n",
      "21 S picks\n",
      "[###                                     ] | 8% Completed | 2hr 9m"
     ]
    },
    {
     "name": "stderr",
     "output_type": "stream",
     "text": [
      "/tmp/ipykernel_1432373/2319557713.py:13: RuntimeWarning: All-NaN axis encountered\n",
      "  np.nanmax([stack[idx:idx + twin], _data[iseg+1, :]], axis = 0)\n"
     ]
    },
    {
     "name": "stdout",
     "output_type": "stream",
     "text": [
      "[###                                     ] | 8% Completed | 2hr 9mAll prediction shape: (2, 5, 1439, 6000)\n",
      "[###                                     ] | 8% Completed | 2hr 10m58 P picks\n",
      "38 S picks\n",
      "[###                                     ] | 8% Completed | 2hr 10m"
     ]
    },
    {
     "name": "stderr",
     "output_type": "stream",
     "text": [
      "/tmp/ipykernel_1432373/2319557713.py:13: RuntimeWarning: All-NaN axis encountered\n",
      "  np.nanmax([stack[idx:idx + twin], _data[iseg+1, :]], axis = 0)\n"
     ]
    },
    {
     "name": "stdout",
     "output_type": "stream",
     "text": [
      "[###                                     ] | 8% Completed | 2hr 10mAll prediction shape: (2, 5, 1439, 6000)\n",
      "[###                                     ] | 8% Completed | 2hr 11m152 P picks\n",
      "124 S picks\n",
      "[###                                     ] | 8% Completed | 2hr 11m"
     ]
    },
    {
     "name": "stderr",
     "output_type": "stream",
     "text": [
      "/tmp/ipykernel_1432373/2319557713.py:13: RuntimeWarning: All-NaN axis encountered\n",
      "  np.nanmax([stack[idx:idx + twin], _data[iseg+1, :]], axis = 0)\n"
     ]
    },
    {
     "name": "stdout",
     "output_type": "stream",
     "text": [
      "[###                                     ] | 8% Completed | 2hr 11mAll prediction shape: (2, 5, 3599, 6000)\n",
      "[###                                     ] | 8% Completed | 2hr 16m604 P picks\n",
      "359 S picks\n"
     ]
    },
    {
     "name": "stderr",
     "output_type": "stream",
     "text": [
      "/tmp/ipykernel_1432373/2319557713.py:13: RuntimeWarning: All-NaN axis encountered\n",
      "  np.nanmax([stack[idx:idx + twin], _data[iseg+1, :]], axis = 0)\n"
     ]
    },
    {
     "name": "stdout",
     "output_type": "stream",
     "text": [
      "[###                                     ] | 9% Completed | 2hr 16mAll prediction shape: (2, 5, 3599, 6000)\n",
      "[###                                     ] | 9% Completed | 2hr 20m135 P picks\n",
      "137 S picks\n"
     ]
    },
    {
     "name": "stderr",
     "output_type": "stream",
     "text": [
      "/tmp/ipykernel_1432373/2319557713.py:13: RuntimeWarning: All-NaN axis encountered\n",
      "  np.nanmax([stack[idx:idx + twin], _data[iseg+1, :]], axis = 0)\n"
     ]
    },
    {
     "name": "stdout",
     "output_type": "stream",
     "text": [
      "[###                                     ] | 9% Completed | 2hr 20mAll prediction shape: (2, 5, 1439, 6000)\n",
      "[###                                     ] | 9% Completed | 2hr 21m165 P picks\n",
      "62 S picks\n",
      "[###                                     ] | 9% Completed | 2hr 21m"
     ]
    },
    {
     "name": "stderr",
     "output_type": "stream",
     "text": [
      "/tmp/ipykernel_1432373/2319557713.py:13: RuntimeWarning: All-NaN axis encountered\n",
      "  np.nanmax([stack[idx:idx + twin], _data[iseg+1, :]], axis = 0)\n"
     ]
    },
    {
     "name": "stdout",
     "output_type": "stream",
     "text": [
      "[###                                     ] | 9% Completed | 2hr 21mAll prediction shape: (2, 5, 3598, 6000)\n",
      "[###                                     ] | 9% Completed | 2hr 26m87 P picks\n",
      "53 S picks\n",
      "[###                                     ] | 9% Completed | 2hr 26m"
     ]
    },
    {
     "name": "stderr",
     "output_type": "stream",
     "text": [
      "/tmp/ipykernel_1432373/2319557713.py:13: RuntimeWarning: All-NaN axis encountered\n",
      "  np.nanmax([stack[idx:idx + twin], _data[iseg+1, :]], axis = 0)\n"
     ]
    },
    {
     "name": "stdout",
     "output_type": "stream",
     "text": [
      "[###                                     ] | 9% Completed | 2hr 26mAll prediction shape: (2, 5, 3599, 6000)\n",
      "[###                                     ] | 9% Completed | 2hr 30m426 P picks\n",
      "196 S picks\n"
     ]
    },
    {
     "name": "stderr",
     "output_type": "stream",
     "text": [
      "/tmp/ipykernel_1432373/2319557713.py:13: RuntimeWarning: All-NaN axis encountered\n",
      "  np.nanmax([stack[idx:idx + twin], _data[iseg+1, :]], axis = 0)\n"
     ]
    },
    {
     "name": "stdout",
     "output_type": "stream",
     "text": [
      "[###                                     ] | 9% Completed | 2hr 30mAll prediction shape: (2, 5, 1439, 6000)\n",
      "[###                                     ] | 9% Completed | 2hr 31m144 P picks\n",
      "46 S picks\n",
      "[####                                    ] | 10% Completed | 2hr 31m"
     ]
    },
    {
     "name": "stderr",
     "output_type": "stream",
     "text": [
      "/tmp/ipykernel_1432373/2319557713.py:13: RuntimeWarning: All-NaN axis encountered\n",
      "  np.nanmax([stack[idx:idx + twin], _data[iseg+1, :]], axis = 0)\n"
     ]
    },
    {
     "name": "stdout",
     "output_type": "stream",
     "text": [
      "[####                                    ] | 10% Completed | 2hr 31mAll prediction shape: (2, 5, 3599, 6000)\n",
      "[####                                    ] | 10% Completed | 2hr 36m441 P picks\n",
      "206 S picks\n",
      "[####                                    ] | 10% Completed | 2hr 36m"
     ]
    },
    {
     "name": "stderr",
     "output_type": "stream",
     "text": [
      "/tmp/ipykernel_1432373/2319557713.py:13: RuntimeWarning: All-NaN axis encountered\n",
      "  np.nanmax([stack[idx:idx + twin], _data[iseg+1, :]], axis = 0)\n"
     ]
    },
    {
     "name": "stdout",
     "output_type": "stream",
     "text": [
      "[####                                    ] | 10% Completed | 2hr 36mAll prediction shape: (2, 5, 3599, 6000)\n",
      "[####                                    ] | 10% Completed | 2hr 40m428 P picks\n",
      "497 S picks\n"
     ]
    },
    {
     "name": "stderr",
     "output_type": "stream",
     "text": [
      "/tmp/ipykernel_1432373/2319557713.py:13: RuntimeWarning: All-NaN axis encountered\n",
      "  np.nanmax([stack[idx:idx + twin], _data[iseg+1, :]], axis = 0)\n"
     ]
    },
    {
     "name": "stdout",
     "output_type": "stream",
     "text": [
      "[####                                    ] | 10% Completed | 2hr 41mAll prediction shape: (2, 5, 3599, 6000)\n",
      "[####                                    ] | 10% Completed | 2hr 45m618 P picks\n",
      "388 S picks\n",
      "[####                                    ] | 10% Completed | 2hr 45m"
     ]
    },
    {
     "name": "stderr",
     "output_type": "stream",
     "text": [
      "/tmp/ipykernel_1432373/2319557713.py:13: RuntimeWarning: All-NaN axis encountered\n",
      "  np.nanmax([stack[idx:idx + twin], _data[iseg+1, :]], axis = 0)\n"
     ]
    },
    {
     "name": "stdout",
     "output_type": "stream",
     "text": [
      "[####                                    ] | 10% Completed | 2hr 45mAll prediction shape: (2, 5, 3599, 6000)\n",
      "[####                                    ] | 10% Completed | 2hr 49m412 P picks\n",
      "466 S picks\n",
      "[####                                    ] | 10% Completed | 2hr 49m"
     ]
    },
    {
     "name": "stderr",
     "output_type": "stream",
     "text": [
      "/tmp/ipykernel_1432373/2319557713.py:13: RuntimeWarning: All-NaN axis encountered\n",
      "  np.nanmax([stack[idx:idx + twin], _data[iseg+1, :]], axis = 0)\n"
     ]
    },
    {
     "name": "stdout",
     "output_type": "stream",
     "text": [
      "[####                                    ] | 10% Completed | 2hr 50mAll prediction shape: (2, 5, 3598, 6000)\n",
      "[####                                    ] | 10% Completed | 2hr 54m92 P picks\n",
      "80 S picks\n"
     ]
    },
    {
     "name": "stderr",
     "output_type": "stream",
     "text": [
      "/tmp/ipykernel_1432373/2319557713.py:13: RuntimeWarning: All-NaN axis encountered\n",
      "  np.nanmax([stack[idx:idx + twin], _data[iseg+1, :]], axis = 0)\n"
     ]
    },
    {
     "name": "stdout",
     "output_type": "stream",
     "text": [
      "[####                                    ] | 11% Completed | 2hr 54mAll prediction shape: (2, 5, 1439, 6000)\n",
      "[####                                    ] | 11% Completed | 2hr 55m58 P picks\n",
      "28 S picks\n",
      "[####                                    ] | 11% Completed | 2hr 55m"
     ]
    },
    {
     "name": "stderr",
     "output_type": "stream",
     "text": [
      "/tmp/ipykernel_1432373/2319557713.py:13: RuntimeWarning: All-NaN axis encountered\n",
      "  np.nanmax([stack[idx:idx + twin], _data[iseg+1, :]], axis = 0)\n"
     ]
    },
    {
     "name": "stdout",
     "output_type": "stream",
     "text": [
      "[####                                    ] | 11% Completed | 2hr 55mAll prediction shape: (2, 5, 1439, 6000)\n",
      "[####                                    ] | 11% Completed | 2hr 56m39 P picks\n",
      "12 S picks\n",
      "[####                                    ] | 11% Completed | 2hr 56m"
     ]
    },
    {
     "name": "stderr",
     "output_type": "stream",
     "text": [
      "/tmp/ipykernel_1432373/2319557713.py:13: RuntimeWarning: All-NaN axis encountered\n",
      "  np.nanmax([stack[idx:idx + twin], _data[iseg+1, :]], axis = 0)\n"
     ]
    },
    {
     "name": "stdout",
     "output_type": "stream",
     "text": [
      "[####                                    ] | 11% Completed | 2hr 56mAll prediction shape: (2, 5, 3599, 6000)\n",
      "[####                                    ] | 11% Completed | 3hr 0mm565 P picks\n",
      "782 S picks\n",
      "[####                                    ] | 11% Completed | 3hr 0m"
     ]
    },
    {
     "name": "stderr",
     "output_type": "stream",
     "text": [
      "/tmp/ipykernel_1432373/2319557713.py:13: RuntimeWarning: All-NaN axis encountered\n",
      "  np.nanmax([stack[idx:idx + twin], _data[iseg+1, :]], axis = 0)\n"
     ]
    },
    {
     "name": "stdout",
     "output_type": "stream",
     "text": [
      "[####                                    ] | 11% Completed | 3hr 0mAll prediction shape: (2, 5, 1439, 6000)\n",
      "[####                                    ] | 11% Completed | 3hr 1m54 P picks\n",
      "20 S picks\n",
      "[####                                    ] | 11% Completed | 3hr 1m"
     ]
    },
    {
     "name": "stderr",
     "output_type": "stream",
     "text": [
      "/tmp/ipykernel_1432373/2319557713.py:13: RuntimeWarning: All-NaN axis encountered\n",
      "  np.nanmax([stack[idx:idx + twin], _data[iseg+1, :]], axis = 0)\n"
     ]
    },
    {
     "name": "stdout",
     "output_type": "stream",
     "text": [
      "[####                                    ] | 11% Completed | 3hr 1mAll prediction shape: (2, 5, 1439, 6000)\n",
      "[####                                    ] | 11% Completed | 3hr 2m123 P picks\n",
      "111 S picks\n",
      "[####                                    ] | 11% Completed | 3hr 2m"
     ]
    },
    {
     "name": "stderr",
     "output_type": "stream",
     "text": [
      "/tmp/ipykernel_1432373/2319557713.py:13: RuntimeWarning: All-NaN axis encountered\n",
      "  np.nanmax([stack[idx:idx + twin], _data[iseg+1, :]], axis = 0)\n"
     ]
    },
    {
     "name": "stdout",
     "output_type": "stream",
     "text": [
      "[####                                    ] | 11% Completed | 3hr 2mAll prediction shape: (2, 5, 1439, 6000)\n",
      "[####                                    ] | 11% Completed | 3hr 3m101 P picks\n",
      "22 S picks\n",
      "[####                                    ] | 12% Completed | 3hr 3m"
     ]
    },
    {
     "name": "stderr",
     "output_type": "stream",
     "text": [
      "/tmp/ipykernel_1432373/2319557713.py:13: RuntimeWarning: All-NaN axis encountered\n",
      "  np.nanmax([stack[idx:idx + twin], _data[iseg+1, :]], axis = 0)\n"
     ]
    },
    {
     "name": "stdout",
     "output_type": "stream",
     "text": [
      "[####                                    ] | 12% Completed | 3hr 3mAll prediction shape: (2, 5, 1439, 6000)\n",
      "[####                                    ] | 12% Completed | 3hr 4m55 P picks\n",
      "27 S picks\n",
      "[####                                    ] | 12% Completed | 3hr 4m"
     ]
    },
    {
     "name": "stderr",
     "output_type": "stream",
     "text": [
      "/tmp/ipykernel_1432373/2319557713.py:13: RuntimeWarning: All-NaN axis encountered\n",
      "  np.nanmax([stack[idx:idx + twin], _data[iseg+1, :]], axis = 0)\n"
     ]
    },
    {
     "name": "stdout",
     "output_type": "stream",
     "text": [
      "[####                                    ] | 12% Completed | 3hr 4mAll prediction shape: (2, 5, 1438, 6000)\n",
      "[####                                    ] | 12% Completed | 3hr 5m63 P picks\n",
      "48 S picks\n",
      "[#####                                   ] | 12% Completed | 3hr 5m"
     ]
    },
    {
     "name": "stderr",
     "output_type": "stream",
     "text": [
      "/tmp/ipykernel_1432373/2319557713.py:13: RuntimeWarning: All-NaN axis encountered\n",
      "  np.nanmax([stack[idx:idx + twin], _data[iseg+1, :]], axis = 0)\n"
     ]
    },
    {
     "name": "stdout",
     "output_type": "stream",
     "text": [
      "[#####                                   ] | 12% Completed | 3hr 5mAll prediction shape: (2, 5, 3599, 6000)\n",
      "[#####                                   ] | 12% Completed | 3hr 10m421 P picks\n",
      "625 S picks\n",
      "[#####                                   ] | 12% Completed | 3hr 10m"
     ]
    },
    {
     "name": "stderr",
     "output_type": "stream",
     "text": [
      "/tmp/ipykernel_1432373/2319557713.py:13: RuntimeWarning: All-NaN axis encountered\n",
      "  np.nanmax([stack[idx:idx + twin], _data[iseg+1, :]], axis = 0)\n"
     ]
    },
    {
     "name": "stdout",
     "output_type": "stream",
     "text": [
      "[#####                                   ] | 12% Completed | 3hr 10mAll prediction shape: (2, 5, 1439, 6000)\n",
      "[#####                                   ] | 12% Completed | 3hr 11m172 P picks\n",
      "73 S picks\n",
      "[#####                                   ] | 12% Completed | 3hr 11m"
     ]
    },
    {
     "name": "stderr",
     "output_type": "stream",
     "text": [
      "/tmp/ipykernel_1432373/2319557713.py:13: RuntimeWarning: All-NaN axis encountered\n",
      "  np.nanmax([stack[idx:idx + twin], _data[iseg+1, :]], axis = 0)\n"
     ]
    },
    {
     "name": "stdout",
     "output_type": "stream",
     "text": [
      "[#####                                   ] | 12% Completed | 3hr 11mAll prediction shape: (2, 5, 1439, 6000)\n",
      "[#####                                   ] | 12% Completed | 3hr 11m51 P picks\n",
      "37 S picks\n",
      "[#####                                   ] | 13% Completed | 3hr 11m"
     ]
    },
    {
     "name": "stderr",
     "output_type": "stream",
     "text": [
      "/tmp/ipykernel_1432373/2319557713.py:13: RuntimeWarning: All-NaN axis encountered\n",
      "  np.nanmax([stack[idx:idx + twin], _data[iseg+1, :]], axis = 0)\n"
     ]
    },
    {
     "name": "stdout",
     "output_type": "stream",
     "text": [
      "[#####                                   ] | 13% Completed | 3hr 12mAll prediction shape: (2, 5, 3599, 6000)\n",
      "[#####                                   ] | 13% Completed | 3hr 16m487 P picks\n",
      "179 S picks\n",
      "[#####                                   ] | 13% Completed | 3hr 16m"
     ]
    },
    {
     "name": "stderr",
     "output_type": "stream",
     "text": [
      "/tmp/ipykernel_1432373/2319557713.py:13: RuntimeWarning: All-NaN axis encountered\n",
      "  np.nanmax([stack[idx:idx + twin], _data[iseg+1, :]], axis = 0)\n"
     ]
    },
    {
     "name": "stdout",
     "output_type": "stream",
     "text": [
      "[#####                                   ] | 13% Completed | 3hr 16mAll prediction shape: (2, 5, 1438, 6000)\n",
      "[#####                                   ] | 13% Completed | 3hr 17m200 P picks\n",
      "80 S picks\n",
      "[#####                                   ] | 13% Completed | 3hr 17m"
     ]
    },
    {
     "name": "stderr",
     "output_type": "stream",
     "text": [
      "/tmp/ipykernel_1432373/2319557713.py:13: RuntimeWarning: All-NaN axis encountered\n",
      "  np.nanmax([stack[idx:idx + twin], _data[iseg+1, :]], axis = 0)\n"
     ]
    },
    {
     "name": "stdout",
     "output_type": "stream",
     "text": [
      "[#####                                   ] | 13% Completed | 3hr 17mAll prediction shape: (2, 5, 1439, 6000)\n",
      "[#####                                   ] | 13% Completed | 3hr 18m63 P picks\n",
      "14 S picks\n",
      "[#####                                   ] | 13% Completed | 3hr 18m"
     ]
    },
    {
     "name": "stderr",
     "output_type": "stream",
     "text": [
      "/tmp/ipykernel_1432373/2319557713.py:13: RuntimeWarning: All-NaN axis encountered\n",
      "  np.nanmax([stack[idx:idx + twin], _data[iseg+1, :]], axis = 0)\n"
     ]
    },
    {
     "name": "stdout",
     "output_type": "stream",
     "text": [
      "[#####                                   ] | 13% Completed | 3hr 18mAll prediction shape: (2, 5, 1439, 6000)\n",
      "[#####                                   ] | 13% Completed | 3hr 19m166 P picks\n",
      "40 S picks\n",
      "[#####                                   ] | 13% Completed | 3hr 19m"
     ]
    },
    {
     "name": "stderr",
     "output_type": "stream",
     "text": [
      "/tmp/ipykernel_1432373/2319557713.py:13: RuntimeWarning: All-NaN axis encountered\n",
      "  np.nanmax([stack[idx:idx + twin], _data[iseg+1, :]], axis = 0)\n"
     ]
    },
    {
     "name": "stdout",
     "output_type": "stream",
     "text": [
      "[#####                                   ] | 13% Completed | 3hr 19mAll prediction shape: (2, 5, 3599, 6000)\n",
      "[#####                                   ] | 13% Completed | 3hr 24m211 P picks\n",
      "453 S picks\n"
     ]
    },
    {
     "name": "stderr",
     "output_type": "stream",
     "text": [
      "/tmp/ipykernel_1432373/2319557713.py:13: RuntimeWarning: All-NaN axis encountered\n",
      "  np.nanmax([stack[idx:idx + twin], _data[iseg+1, :]], axis = 0)\n"
     ]
    },
    {
     "name": "stdout",
     "output_type": "stream",
     "text": [
      "[#####                                   ] | 14% Completed | 3hr 24mAll prediction shape: (2, 5, 1439, 6000)\n",
      "[#####                                   ] | 14% Completed | 3hr 25m122 P picks\n",
      "23 S picks\n",
      "[#####                                   ] | 14% Completed | 3hr 25m"
     ]
    },
    {
     "name": "stderr",
     "output_type": "stream",
     "text": [
      "/tmp/ipykernel_1432373/2319557713.py:13: RuntimeWarning: All-NaN axis encountered\n",
      "  np.nanmax([stack[idx:idx + twin], _data[iseg+1, :]], axis = 0)\n"
     ]
    },
    {
     "name": "stdout",
     "output_type": "stream",
     "text": [
      "[#####                                   ] | 14% Completed | 3hr 25mAll prediction shape: (2, 5, 1439, 6000)\n",
      "[#####                                   ] | 14% Completed | 3hr 25m55 P picks\n",
      "27 S picks\n",
      "[#####                                   ] | 14% Completed | 3hr 25m"
     ]
    },
    {
     "name": "stderr",
     "output_type": "stream",
     "text": [
      "/tmp/ipykernel_1432373/2319557713.py:13: RuntimeWarning: All-NaN axis encountered\n",
      "  np.nanmax([stack[idx:idx + twin], _data[iseg+1, :]], axis = 0)\n"
     ]
    },
    {
     "name": "stdout",
     "output_type": "stream",
     "text": [
      "[#####                                   ] | 14% Completed | 3hr 26mAll prediction shape: (2, 5, 1439, 6000)\n",
      "[#####                                   ] | 14% Completed | 3hr 26m77 P picks\n",
      "36 S picks\n",
      "[#####                                   ] | 14% Completed | 3hr 26m"
     ]
    },
    {
     "name": "stderr",
     "output_type": "stream",
     "text": [
      "/tmp/ipykernel_1432373/2319557713.py:13: RuntimeWarning: All-NaN axis encountered\n",
      "  np.nanmax([stack[idx:idx + twin], _data[iseg+1, :]], axis = 0)\n"
     ]
    },
    {
     "name": "stdout",
     "output_type": "stream",
     "text": [
      "[#####                                   ] | 14% Completed | 3hr 27mAll prediction shape: (2, 5, 3599, 6000)\n",
      "[#####                                   ] | 14% Completed | 3hr 31m"
     ]
    },
    {
     "name": "stderr",
     "output_type": "stream",
     "text": [
      "/tmp/ipykernel_1432373/2319557713.py:13: RuntimeWarning: All-NaN axis encountered\n",
      "  np.nanmax([stack[idx:idx + twin], _data[iseg+1, :]], axis = 0)\n"
     ]
    },
    {
     "name": "stdout",
     "output_type": "stream",
     "text": [
      "740 P picks\n",
      "664 S picks\n",
      "[#####                                   ] | 14% Completed | 3hr 31mAll prediction shape: (2, 5, 3599, 6000)\n",
      "[#####                                   ] | 14% Completed | 3hr 36m636 P picks\n",
      "673 S picks\n"
     ]
    },
    {
     "name": "stderr",
     "output_type": "stream",
     "text": [
      "/tmp/ipykernel_1432373/2319557713.py:13: RuntimeWarning: All-NaN axis encountered\n",
      "  np.nanmax([stack[idx:idx + twin], _data[iseg+1, :]], axis = 0)\n"
     ]
    },
    {
     "name": "stdout",
     "output_type": "stream",
     "text": [
      "[#####                                   ] | 14% Completed | 3hr 36mAll prediction shape: (2, 5, 1439, 6000)\n",
      "[#####                                   ] | 14% Completed | 3hr 37m198 P picks\n",
      "46 S picks\n",
      "[######                                  ] | 15% Completed | 3hr 37m"
     ]
    },
    {
     "name": "stderr",
     "output_type": "stream",
     "text": [
      "/tmp/ipykernel_1432373/2319557713.py:13: RuntimeWarning: All-NaN axis encountered\n",
      "  np.nanmax([stack[idx:idx + twin], _data[iseg+1, :]], axis = 0)\n"
     ]
    },
    {
     "name": "stdout",
     "output_type": "stream",
     "text": [
      "[######                                  ] | 15% Completed | 3hr 37mAll prediction shape: (2, 5, 3598, 6000)\n",
      "[######                                  ] | 15% Completed | 3hr 41m225 P picks\n",
      "190 S picks\n"
     ]
    },
    {
     "name": "stderr",
     "output_type": "stream",
     "text": [
      "/tmp/ipykernel_1432373/2319557713.py:13: RuntimeWarning: All-NaN axis encountered\n",
      "  np.nanmax([stack[idx:idx + twin], _data[iseg+1, :]], axis = 0)\n"
     ]
    },
    {
     "name": "stdout",
     "output_type": "stream",
     "text": [
      "[######                                  ] | 15% Completed | 3hr 41mAll prediction shape: (2, 5, 1439, 6000)\n",
      "[######                                  ] | 15% Completed | 3hr 42m43 P picks\n",
      "28 S picks\n",
      "[######                                  ] | 15% Completed | 3hr 42m"
     ]
    },
    {
     "name": "stderr",
     "output_type": "stream",
     "text": [
      "/tmp/ipykernel_1432373/2319557713.py:13: RuntimeWarning: All-NaN axis encountered\n",
      "  np.nanmax([stack[idx:idx + twin], _data[iseg+1, :]], axis = 0)\n"
     ]
    },
    {
     "name": "stdout",
     "output_type": "stream",
     "text": [
      "[######                                  ] | 15% Completed | 3hr 42mAll prediction shape: (2, 5, 1438, 6000)\n",
      "[######                                  ] | 15% Completed | 3hr 43m198 P picks\n",
      "83 S picks\n",
      "[######                                  ] | 15% Completed | 3hr 43m"
     ]
    },
    {
     "name": "stderr",
     "output_type": "stream",
     "text": [
      "/tmp/ipykernel_1432373/2319557713.py:13: RuntimeWarning: All-NaN axis encountered\n",
      "  np.nanmax([stack[idx:idx + twin], _data[iseg+1, :]], axis = 0)\n"
     ]
    },
    {
     "name": "stdout",
     "output_type": "stream",
     "text": [
      "[######                                  ] | 15% Completed | 3hr 43mAll prediction shape: (2, 5, 3599, 6000)\n",
      "[######                                  ] | 15% Completed | 3hr 48m552 P picks\n",
      "576 S picks\n"
     ]
    },
    {
     "name": "stderr",
     "output_type": "stream",
     "text": [
      "/tmp/ipykernel_1432373/2319557713.py:13: RuntimeWarning: All-NaN axis encountered\n",
      "  np.nanmax([stack[idx:idx + twin], _data[iseg+1, :]], axis = 0)\n"
     ]
    },
    {
     "name": "stdout",
     "output_type": "stream",
     "text": [
      "[######                                  ] | 15% Completed | 3hr 48mAll prediction shape: (2, 5, 1439, 6000)\n",
      "[######                                  ] | 15% Completed | 3hr 49m100 P picks\n",
      "70 S picks\n",
      "[######                                  ] | 16% Completed | 3hr 49m"
     ]
    },
    {
     "name": "stderr",
     "output_type": "stream",
     "text": [
      "/tmp/ipykernel_1432373/2319557713.py:13: RuntimeWarning: All-NaN axis encountered\n",
      "  np.nanmax([stack[idx:idx + twin], _data[iseg+1, :]], axis = 0)\n"
     ]
    },
    {
     "name": "stdout",
     "output_type": "stream",
     "text": [
      "[######                                  ] | 16% Completed | 3hr 49mAll prediction shape: (2, 5, 3599, 6000)\n",
      "[######                                  ] | 16% Completed | 3hr 53m274 P picks\n",
      "583 S picks\n",
      "[######                                  ] | 16% Completed | 3hr 53m"
     ]
    },
    {
     "name": "stderr",
     "output_type": "stream",
     "text": [
      "/tmp/ipykernel_1432373/2319557713.py:13: RuntimeWarning: All-NaN axis encountered\n",
      "  np.nanmax([stack[idx:idx + twin], _data[iseg+1, :]], axis = 0)\n"
     ]
    },
    {
     "name": "stdout",
     "output_type": "stream",
     "text": [
      "[######                                  ] | 16% Completed | 3hr 54mAll prediction shape: (2, 5, 3598, 6000)\n",
      "[######                                  ] | 16% Completed | 3hr 58m202 P picks\n",
      "164 S picks\n"
     ]
    },
    {
     "name": "stderr",
     "output_type": "stream",
     "text": [
      "/tmp/ipykernel_1432373/2319557713.py:13: RuntimeWarning: All-NaN axis encountered\n",
      "  np.nanmax([stack[idx:idx + twin], _data[iseg+1, :]], axis = 0)\n"
     ]
    },
    {
     "name": "stdout",
     "output_type": "stream",
     "text": [
      "[######                                  ] | 16% Completed | 3hr 58mAll prediction shape: (2, 5, 1439, 6000)\n",
      "[######                                  ] | 16% Completed | 3hr 59m115 P picks\n",
      "56 S picks\n",
      "[######                                  ] | 16% Completed | 3hr 59m"
     ]
    },
    {
     "name": "stderr",
     "output_type": "stream",
     "text": [
      "/tmp/ipykernel_1432373/2319557713.py:13: RuntimeWarning: All-NaN axis encountered\n",
      "  np.nanmax([stack[idx:idx + twin], _data[iseg+1, :]], axis = 0)\n"
     ]
    },
    {
     "name": "stdout",
     "output_type": "stream",
     "text": [
      "[######                                  ] | 16% Completed | 3hr 59mAll prediction shape: (2, 5, 1439, 6000)\n",
      "[######                                  ] | 16% Completed | 4hr 0mm126 P picks\n",
      "15 S picks\n",
      "[######                                  ] | 16% Completed | 4hr 0m"
     ]
    },
    {
     "name": "stderr",
     "output_type": "stream",
     "text": [
      "/tmp/ipykernel_1432373/2319557713.py:13: RuntimeWarning: All-NaN axis encountered\n",
      "  np.nanmax([stack[idx:idx + twin], _data[iseg+1, :]], axis = 0)\n"
     ]
    },
    {
     "name": "stdout",
     "output_type": "stream",
     "text": [
      "[######                                  ] | 16% Completed | 4hr 0mAll prediction shape: (2, 5, 1439, 6000)\n",
      "[######                                  ] | 16% Completed | 4hr 1m94 P picks\n",
      "38 S picks\n",
      "[######                                  ] | 17% Completed | 4hr 1m"
     ]
    },
    {
     "name": "stderr",
     "output_type": "stream",
     "text": [
      "/tmp/ipykernel_1432373/2319557713.py:13: RuntimeWarning: All-NaN axis encountered\n",
      "  np.nanmax([stack[idx:idx + twin], _data[iseg+1, :]], axis = 0)\n"
     ]
    },
    {
     "name": "stdout",
     "output_type": "stream",
     "text": [
      "[######                                  ] | 17% Completed | 4hr 1mAll prediction shape: (2, 5, 1439, 6000)\n",
      "[######                                  ] | 17% Completed | 4hr 2m60 P picks\n",
      "35 S picks\n",
      "[######                                  ] | 17% Completed | 4hr 2m"
     ]
    },
    {
     "name": "stderr",
     "output_type": "stream",
     "text": [
      "/tmp/ipykernel_1432373/2319557713.py:13: RuntimeWarning: All-NaN axis encountered\n",
      "  np.nanmax([stack[idx:idx + twin], _data[iseg+1, :]], axis = 0)\n"
     ]
    },
    {
     "name": "stdout",
     "output_type": "stream",
     "text": [
      "[######                                  ] | 17% Completed | 4hr 3mAll prediction shape: (2, 5, 1439, 6000)\n",
      "[######                                  ] | 17% Completed | 4hr 4m48 P picks\n",
      "22 S picks\n",
      "[######                                  ] | 17% Completed | 4hr 4m"
     ]
    },
    {
     "name": "stderr",
     "output_type": "stream",
     "text": [
      "/tmp/ipykernel_1432373/2319557713.py:13: RuntimeWarning: All-NaN axis encountered\n",
      "  np.nanmax([stack[idx:idx + twin], _data[iseg+1, :]], axis = 0)\n"
     ]
    },
    {
     "name": "stdout",
     "output_type": "stream",
     "text": [
      "[######                                  ] | 17% Completed | 4hr 4mAll prediction shape: (2, 5, 1439, 6000)\n",
      "[######                                  ] | 17% Completed | 4hr 5m86 P picks\n",
      "18 S picks\n",
      "[#######                                 ] | 17% Completed | 4hr 5m"
     ]
    },
    {
     "name": "stderr",
     "output_type": "stream",
     "text": [
      "/tmp/ipykernel_1432373/2319557713.py:13: RuntimeWarning: All-NaN axis encountered\n",
      "  np.nanmax([stack[idx:idx + twin], _data[iseg+1, :]], axis = 0)\n"
     ]
    },
    {
     "name": "stdout",
     "output_type": "stream",
     "text": [
      "[#######                                 ] | 17% Completed | 4hr 5mAll prediction shape: (2, 5, 1438, 6000)\n",
      "[#######                                 ] | 17% Completed | 4hr 7m173 P picks\n",
      "78 S picks\n",
      "[#######                                 ] | 17% Completed | 4hr 7m"
     ]
    },
    {
     "name": "stderr",
     "output_type": "stream",
     "text": [
      "/tmp/ipykernel_1432373/2319557713.py:13: RuntimeWarning: All-NaN axis encountered\n",
      "  np.nanmax([stack[idx:idx + twin], _data[iseg+1, :]], axis = 0)\n"
     ]
    },
    {
     "name": "stdout",
     "output_type": "stream",
     "text": [
      "[#######                                 ] | 17% Completed | 4hr 7mAll prediction shape: (2, 5, 1439, 6000)\n",
      "[#######                                 ] | 17% Completed | 4hr 8m44 P picks\n",
      "29 S picks\n",
      "[#######                                 ] | 18% Completed | 4hr 8m"
     ]
    },
    {
     "name": "stderr",
     "output_type": "stream",
     "text": [
      "/tmp/ipykernel_1432373/2319557713.py:13: RuntimeWarning: All-NaN axis encountered\n",
      "  np.nanmax([stack[idx:idx + twin], _data[iseg+1, :]], axis = 0)\n"
     ]
    },
    {
     "name": "stdout",
     "output_type": "stream",
     "text": [
      "[#######                                 ] | 18% Completed | 4hr 8mAll prediction shape: (2, 5, 3599, 6000)\n",
      "[#######                                 ] | 18% Completed | 4hr 14m"
     ]
    },
    {
     "name": "stderr",
     "output_type": "stream",
     "text": [
      "/tmp/ipykernel_1432373/2319557713.py:13: RuntimeWarning: All-NaN axis encountered\n",
      "  np.nanmax([stack[idx:idx + twin], _data[iseg+1, :]], axis = 0)\n"
     ]
    },
    {
     "name": "stdout",
     "output_type": "stream",
     "text": [
      "[#######                                 ] | 18% Completed | 4hr 14m423 P picks\n",
      "270 S picks\n",
      "[#######                                 ] | 18% Completed | 4hr 15mAll prediction shape: (2, 5, 1439, 6000)\n",
      "[#######                                 ] | 18% Completed | 4hr 16m49 P picks\n",
      "38 S picks\n",
      "[#######                                 ] | 18% Completed | 4hr 16m"
     ]
    },
    {
     "name": "stderr",
     "output_type": "stream",
     "text": [
      "/tmp/ipykernel_1432373/2319557713.py:13: RuntimeWarning: All-NaN axis encountered\n",
      "  np.nanmax([stack[idx:idx + twin], _data[iseg+1, :]], axis = 0)\n"
     ]
    },
    {
     "name": "stdout",
     "output_type": "stream",
     "text": [
      "[#######                                 ] | 18% Completed | 4hr 16mAll prediction shape: (2, 5, 3599, 6000)\n",
      "[#######                                 ] | 18% Completed | 4hr 22m"
     ]
    },
    {
     "name": "stderr",
     "output_type": "stream",
     "text": [
      "/tmp/ipykernel_1432373/2319557713.py:13: RuntimeWarning: All-NaN axis encountered\n",
      "  np.nanmax([stack[idx:idx + twin], _data[iseg+1, :]], axis = 0)\n"
     ]
    },
    {
     "name": "stdout",
     "output_type": "stream",
     "text": [
      "[#######                                 ] | 18% Completed | 4hr 22m180 P picks\n",
      "300 S picks\n",
      "[#######                                 ] | 18% Completed | 4hr 22mAll prediction shape: (2, 5, 1439, 6000)\n",
      "[#######                                 ] | 18% Completed | 4hr 23m65 P picks\n",
      "27 S picks\n",
      "[#######                                 ] | 18% Completed | 4hr 23m"
     ]
    },
    {
     "name": "stderr",
     "output_type": "stream",
     "text": [
      "/tmp/ipykernel_1432373/2319557713.py:13: RuntimeWarning: All-NaN axis encountered\n",
      "  np.nanmax([stack[idx:idx + twin], _data[iseg+1, :]], axis = 0)\n"
     ]
    },
    {
     "name": "stdout",
     "output_type": "stream",
     "text": [
      "[#######                                 ] | 18% Completed | 4hr 24mAll prediction shape: (2, 5, 3599, 6000)\n",
      "[#######                                 ] | 18% Completed | 4hr 30m"
     ]
    },
    {
     "name": "stderr",
     "output_type": "stream",
     "text": [
      "/tmp/ipykernel_1432373/2319557713.py:13: RuntimeWarning: All-NaN axis encountered\n",
      "  np.nanmax([stack[idx:idx + twin], _data[iseg+1, :]], axis = 0)\n"
     ]
    },
    {
     "name": "stdout",
     "output_type": "stream",
     "text": [
      "[#######                                 ] | 18% Completed | 4hr 30m419 P picks\n",
      "308 S picks\n",
      "[#######                                 ] | 18% Completed | 4hr 30mAll prediction shape: (2, 5, 1439, 6000)\n",
      "[#######                                 ] | 18% Completed | 4hr 31m23 P picks\n",
      "23 S picks\n",
      "[#######                                 ] | 19% Completed | 4hr 31m"
     ]
    },
    {
     "name": "stderr",
     "output_type": "stream",
     "text": [
      "/tmp/ipykernel_1432373/2319557713.py:13: RuntimeWarning: All-NaN axis encountered\n",
      "  np.nanmax([stack[idx:idx + twin], _data[iseg+1, :]], axis = 0)\n"
     ]
    },
    {
     "name": "stdout",
     "output_type": "stream",
     "text": [
      "[#######                                 ] | 19% Completed | 4hr 32mAll prediction shape: (2, 5, 3599, 6000)\n",
      "[#######                                 ] | 19% Completed | 4hr 38m"
     ]
    },
    {
     "name": "stderr",
     "output_type": "stream",
     "text": [
      "/tmp/ipykernel_1432373/2319557713.py:13: RuntimeWarning: All-NaN axis encountered\n",
      "  np.nanmax([stack[idx:idx + twin], _data[iseg+1, :]], axis = 0)\n"
     ]
    },
    {
     "name": "stdout",
     "output_type": "stream",
     "text": [
      "505 P picks\n",
      "222 S picks\n",
      "[#######                                 ] | 19% Completed | 4hr 38mAll prediction shape: (2, 5, 3599, 6000)\n",
      "[#######                                 ] | 19% Completed | 4hr 44m"
     ]
    },
    {
     "name": "stderr",
     "output_type": "stream",
     "text": [
      "/tmp/ipykernel_1432373/2319557713.py:13: RuntimeWarning: All-NaN axis encountered\n",
      "  np.nanmax([stack[idx:idx + twin], _data[iseg+1, :]], axis = 0)\n"
     ]
    },
    {
     "name": "stdout",
     "output_type": "stream",
     "text": [
      "533 P picks\n",
      "261 S picks\n",
      "[#######                                 ] | 19% Completed | 4hr 45mAll prediction shape: (2, 5, 3598, 6000)\n",
      "[#######                                 ] | 19% Completed | 4hr 50m149 P picks\n",
      "132 S picks\n"
     ]
    },
    {
     "name": "stderr",
     "output_type": "stream",
     "text": [
      "/tmp/ipykernel_1432373/2319557713.py:13: RuntimeWarning: All-NaN axis encountered\n",
      "  np.nanmax([stack[idx:idx + twin], _data[iseg+1, :]], axis = 0)\n"
     ]
    },
    {
     "name": "stdout",
     "output_type": "stream",
     "text": [
      "[#######                                 ] | 19% Completed | 4hr 51mAll prediction shape: (2, 5, 1439, 6000)\n",
      "[#######                                 ] | 19% Completed | 4hr 52m53 P picks\n",
      "32 S picks\n",
      "[#######                                 ] | 19% Completed | 4hr 52m"
     ]
    },
    {
     "name": "stderr",
     "output_type": "stream",
     "text": [
      "/tmp/ipykernel_1432373/2319557713.py:13: RuntimeWarning: All-NaN axis encountered\n",
      "  np.nanmax([stack[idx:idx + twin], _data[iseg+1, :]], axis = 0)\n"
     ]
    },
    {
     "name": "stdout",
     "output_type": "stream",
     "text": [
      "[#######                                 ] | 19% Completed | 4hr 53mAll prediction shape: (2, 5, 3599, 6000)\n",
      "[#######                                 ] | 19% Completed | 4hr 58m"
     ]
    },
    {
     "name": "stderr",
     "output_type": "stream",
     "text": [
      "/tmp/ipykernel_1432373/2319557713.py:13: RuntimeWarning: All-NaN axis encountered\n",
      "  np.nanmax([stack[idx:idx + twin], _data[iseg+1, :]], axis = 0)\n"
     ]
    },
    {
     "name": "stdout",
     "output_type": "stream",
     "text": [
      "477 P picks\n",
      "154 S picks\n",
      "[########                                ] | 20% Completed | 4hr 59mAll prediction shape: (2, 5, 1439, 6000)\n",
      "[########                                ] | 20% Completed | 5hr 0mm111 P picks\n",
      "33 S picks\n",
      "[########                                ] | 20% Completed | 5hr 0m"
     ]
    },
    {
     "name": "stderr",
     "output_type": "stream",
     "text": [
      "/tmp/ipykernel_1432373/2319557713.py:13: RuntimeWarning: All-NaN axis encountered\n",
      "  np.nanmax([stack[idx:idx + twin], _data[iseg+1, :]], axis = 0)\n"
     ]
    },
    {
     "name": "stdout",
     "output_type": "stream",
     "text": [
      "[########                                ] | 20% Completed | 5hr 0mAll prediction shape: (2, 5, 1439, 6000)\n",
      "[########                                ] | 20% Completed | 5hr 2m141 P picks\n",
      "58 S picks\n",
      "[########                                ] | 20% Completed | 5hr 2m"
     ]
    },
    {
     "name": "stderr",
     "output_type": "stream",
     "text": [
      "/tmp/ipykernel_1432373/2319557713.py:13: RuntimeWarning: All-NaN axis encountered\n",
      "  np.nanmax([stack[idx:idx + twin], _data[iseg+1, :]], axis = 0)\n"
     ]
    },
    {
     "name": "stdout",
     "output_type": "stream",
     "text": [
      "[########                                ] | 20% Completed | 5hr 2mAll prediction shape: (2, 5, 1439, 6000)\n",
      "[########                                ] | 20% Completed | 5hr 3m43 P picks\n",
      "30 S picks\n",
      "[########                                ] | 20% Completed | 5hr 3m"
     ]
    },
    {
     "name": "stderr",
     "output_type": "stream",
     "text": [
      "/tmp/ipykernel_1432373/2319557713.py:13: RuntimeWarning: All-NaN axis encountered\n",
      "  np.nanmax([stack[idx:idx + twin], _data[iseg+1, :]], axis = 0)\n"
     ]
    },
    {
     "name": "stdout",
     "output_type": "stream",
     "text": [
      "[########                                ] | 20% Completed | 5hr 3mAll prediction shape: (2, 5, 1439, 6000)\n",
      "[########                                ] | 20% Completed | 5hr 5m46 P picks\n",
      "17 S picks\n",
      "[########                                ] | 20% Completed | 5hr 5m"
     ]
    },
    {
     "name": "stderr",
     "output_type": "stream",
     "text": [
      "/tmp/ipykernel_1432373/2319557713.py:13: RuntimeWarning: All-NaN axis encountered\n",
      "  np.nanmax([stack[idx:idx + twin], _data[iseg+1, :]], axis = 0)\n"
     ]
    },
    {
     "name": "stdout",
     "output_type": "stream",
     "text": [
      "[########                                ] | 20% Completed | 5hr 5mAll prediction shape: (2, 5, 1439, 6000)\n",
      "[########                                ] | 20% Completed | 5hr 6m16 P picks\n",
      "22 S picks\n",
      "[########                                ] | 21% Completed | 5hr 6m"
     ]
    },
    {
     "name": "stderr",
     "output_type": "stream",
     "text": [
      "/tmp/ipykernel_1432373/2319557713.py:13: RuntimeWarning: All-NaN axis encountered\n",
      "  np.nanmax([stack[idx:idx + twin], _data[iseg+1, :]], axis = 0)\n"
     ]
    },
    {
     "name": "stdout",
     "output_type": "stream",
     "text": [
      "[########                                ] | 21% Completed | 5hr 6mAll prediction shape: (2, 5, 1439, 6000)\n",
      "[########                                ] | 21% Completed | 5hr 7m69 P picks\n",
      "35 S picks\n",
      "[########                                ] | 21% Completed | 5hr 7m"
     ]
    },
    {
     "name": "stderr",
     "output_type": "stream",
     "text": [
      "/tmp/ipykernel_1432373/2319557713.py:13: RuntimeWarning: All-NaN axis encountered\n",
      "  np.nanmax([stack[idx:idx + twin], _data[iseg+1, :]], axis = 0)\n"
     ]
    },
    {
     "name": "stdout",
     "output_type": "stream",
     "text": [
      "[########                                ] | 21% Completed | 5hr 8mAll prediction shape: (2, 5, 3599, 6000)\n",
      "[########                                ] | 21% Completed | 5hr 14m"
     ]
    },
    {
     "name": "stderr",
     "output_type": "stream",
     "text": [
      "/tmp/ipykernel_1432373/2319557713.py:13: RuntimeWarning: All-NaN axis encountered\n",
      "  np.nanmax([stack[idx:idx + twin], _data[iseg+1, :]], axis = 0)\n"
     ]
    },
    {
     "name": "stdout",
     "output_type": "stream",
     "text": [
      "[########                                ] | 21% Completed | 5hr 14m708 P picks\n",
      "266 S picks\n",
      "[########                                ] | 21% Completed | 5hr 14mAll prediction shape: (2, 5, 3599, 6000)\n",
      "[########                                ] | 21% Completed | 5hr 21m"
     ]
    },
    {
     "name": "stderr",
     "output_type": "stream",
     "text": [
      "/tmp/ipykernel_1432373/2319557713.py:13: RuntimeWarning: All-NaN axis encountered\n",
      "  np.nanmax([stack[idx:idx + twin], _data[iseg+1, :]], axis = 0)\n"
     ]
    },
    {
     "name": "stdout",
     "output_type": "stream",
     "text": [
      "695 P picks\n",
      "844 S picks\n",
      "[########                                ] | 21% Completed | 5hr 21mAll prediction shape: (2, 5, 3599, 6000)\n",
      "[########                                ] | 21% Completed | 5hr 27m"
     ]
    },
    {
     "name": "stderr",
     "output_type": "stream",
     "text": [
      "/tmp/ipykernel_1432373/2319557713.py:13: RuntimeWarning: All-NaN axis encountered\n",
      "  np.nanmax([stack[idx:idx + twin], _data[iseg+1, :]], axis = 0)\n"
     ]
    },
    {
     "name": "stdout",
     "output_type": "stream",
     "text": [
      "[########                                ] | 21% Completed | 5hr 27m638 P picks\n",
      "694 S picks\n",
      "[########                                ] | 21% Completed | 5hr 28mAll prediction shape: (2, 5, 3599, 6000)\n",
      "[########                                ] | 21% Completed | 5hr 33m"
     ]
    },
    {
     "name": "stderr",
     "output_type": "stream",
     "text": [
      "/tmp/ipykernel_1432373/2319557713.py:13: RuntimeWarning: All-NaN axis encountered\n",
      "  np.nanmax([stack[idx:idx + twin], _data[iseg+1, :]], axis = 0)\n"
     ]
    },
    {
     "name": "stdout",
     "output_type": "stream",
     "text": [
      "[########                                ] | 21% Completed | 5hr 33m424 P picks\n",
      "493 S picks\n",
      "[########                                ] | 22% Completed | 5hr 34mAll prediction shape: (2, 5, 3599, 6000)\n",
      "[########                                ] | 22% Completed | 5hr 40m393 P picks\n",
      "405 S picks\n"
     ]
    },
    {
     "name": "stderr",
     "output_type": "stream",
     "text": [
      "/tmp/ipykernel_1432373/2319557713.py:13: RuntimeWarning: All-NaN axis encountered\n",
      "  np.nanmax([stack[idx:idx + twin], _data[iseg+1, :]], axis = 0)\n"
     ]
    },
    {
     "name": "stdout",
     "output_type": "stream",
     "text": [
      "[########                                ] | 22% Completed | 5hr 40mAll prediction shape: (2, 5, 3599, 6000)\n",
      "[########                                ] | 22% Completed | 5hr 47m"
     ]
    },
    {
     "name": "stderr",
     "output_type": "stream",
     "text": [
      "/tmp/ipykernel_1432373/2319557713.py:13: RuntimeWarning: All-NaN axis encountered\n",
      "  np.nanmax([stack[idx:idx + twin], _data[iseg+1, :]], axis = 0)\n"
     ]
    },
    {
     "name": "stdout",
     "output_type": "stream",
     "text": [
      "454 P picks\n",
      "653 S picks\n",
      "[########                                ] | 22% Completed | 5hr 47mAll prediction shape: (2, 5, 3599, 6000)\n",
      "[########                                ] | 22% Completed | 5hr 53m"
     ]
    },
    {
     "name": "stderr",
     "output_type": "stream",
     "text": [
      "/tmp/ipykernel_1432373/2319557713.py:13: RuntimeWarning: All-NaN axis encountered\n",
      "  np.nanmax([stack[idx:idx + twin], _data[iseg+1, :]], axis = 0)\n"
     ]
    },
    {
     "name": "stdout",
     "output_type": "stream",
     "text": [
      "[########                                ] | 22% Completed | 5hr 53m712 P picks\n",
      "478 S picks\n",
      "[#########                               ] | 22% Completed | 5hr 53mAll prediction shape: (2, 5, 1439, 6000)\n",
      "[#########                               ] | 22% Completed | 5hr 55m58 P picks\n",
      "35 S picks\n",
      "[#########                               ] | 22% Completed | 5hr 55m"
     ]
    },
    {
     "name": "stderr",
     "output_type": "stream",
     "text": [
      "/tmp/ipykernel_1432373/2319557713.py:13: RuntimeWarning: All-NaN axis encountered\n",
      "  np.nanmax([stack[idx:idx + twin], _data[iseg+1, :]], axis = 0)\n"
     ]
    },
    {
     "name": "stdout",
     "output_type": "stream",
     "text": [
      "[#########                               ] | 22% Completed | 5hr 55mAll prediction shape: (2, 5, 1439, 6000)\n",
      "[#########                               ] | 22% Completed | 5hr 56m37 P picks\n",
      "36 S picks\n",
      "[#########                               ] | 22% Completed | 5hr 56m"
     ]
    },
    {
     "name": "stderr",
     "output_type": "stream",
     "text": [
      "/tmp/ipykernel_1432373/2319557713.py:13: RuntimeWarning: All-NaN axis encountered\n",
      "  np.nanmax([stack[idx:idx + twin], _data[iseg+1, :]], axis = 0)\n"
     ]
    },
    {
     "name": "stdout",
     "output_type": "stream",
     "text": [
      "[#########                               ] | 22% Completed | 5hr 57mAll prediction shape: (2, 5, 3599, 6000)\n",
      "[#########                               ] | 22% Completed | 6hr 2mm150 P picks\n",
      "122 S picks\n"
     ]
    },
    {
     "name": "stderr",
     "output_type": "stream",
     "text": [
      "/tmp/ipykernel_1432373/2319557713.py:13: RuntimeWarning: All-NaN axis encountered\n",
      "  np.nanmax([stack[idx:idx + twin], _data[iseg+1, :]], axis = 0)\n"
     ]
    },
    {
     "name": "stdout",
     "output_type": "stream",
     "text": [
      "[#########                               ] | 23% Completed | 6hr 2mAll prediction shape: (2, 5, 3599, 6000)\n",
      "[#########                               ] | 23% Completed | 6hr 7m255 P picks\n",
      "489 S picks\n"
     ]
    },
    {
     "name": "stderr",
     "output_type": "stream",
     "text": [
      "/tmp/ipykernel_1432373/2319557713.py:13: RuntimeWarning: All-NaN axis encountered\n",
      "  np.nanmax([stack[idx:idx + twin], _data[iseg+1, :]], axis = 0)\n"
     ]
    },
    {
     "name": "stdout",
     "output_type": "stream",
     "text": [
      "[#########                               ] | 23% Completed | 6hr 7mAll prediction shape: (2, 5, 1439, 6000)\n",
      "[#########                               ] | 23% Completed | 6hr 8m148 P picks\n",
      "59 S picks\n",
      "[#########                               ] | 23% Completed | 6hr 8m"
     ]
    },
    {
     "name": "stderr",
     "output_type": "stream",
     "text": [
      "/tmp/ipykernel_1432373/2319557713.py:13: RuntimeWarning: All-NaN axis encountered\n",
      "  np.nanmax([stack[idx:idx + twin], _data[iseg+1, :]], axis = 0)\n"
     ]
    },
    {
     "name": "stdout",
     "output_type": "stream",
     "text": [
      "[#########                               ] | 23% Completed | 6hr 8mAll prediction shape: (2, 5, 1439, 6000)\n",
      "[#########                               ] | 23% Completed | 6hr 8m76 P picks\n",
      "24 S picks\n",
      "[#########                               ] | 23% Completed | 6hr 8m"
     ]
    },
    {
     "name": "stderr",
     "output_type": "stream",
     "text": [
      "/tmp/ipykernel_1432373/2319557713.py:13: RuntimeWarning: All-NaN axis encountered\n",
      "  np.nanmax([stack[idx:idx + twin], _data[iseg+1, :]], axis = 0)\n"
     ]
    },
    {
     "name": "stdout",
     "output_type": "stream",
     "text": [
      "[#########                               ] | 23% Completed | 6hr 9mAll prediction shape: (2, 5, 1439, 6000)\n",
      "[#########                               ] | 23% Completed | 6hr 9m131 P picks\n",
      "101 S picks\n",
      "[#########                               ] | 23% Completed | 6hr 9m"
     ]
    },
    {
     "name": "stderr",
     "output_type": "stream",
     "text": [
      "/tmp/ipykernel_1432373/2319557713.py:13: RuntimeWarning: All-NaN axis encountered\n",
      "  np.nanmax([stack[idx:idx + twin], _data[iseg+1, :]], axis = 0)\n"
     ]
    },
    {
     "name": "stdout",
     "output_type": "stream",
     "text": [
      "[#########                               ] | 23% Completed | 6hr 10mAll prediction shape: (2, 5, 3599, 6000)\n",
      "[#########                               ] | 23% Completed | 6hr 14m"
     ]
    },
    {
     "name": "stderr",
     "output_type": "stream",
     "text": [
      "/tmp/ipykernel_1432373/2319557713.py:13: RuntimeWarning: All-NaN axis encountered\n",
      "  np.nanmax([stack[idx:idx + twin], _data[iseg+1, :]], axis = 0)\n"
     ]
    },
    {
     "name": "stdout",
     "output_type": "stream",
     "text": [
      "440 P picks\n",
      "500 S picks\n",
      "[#########                               ] | 24% Completed | 6hr 14mAll prediction shape: (2, 5, 1439, 6000)\n",
      "[#########                               ] | 24% Completed | 6hr 15m148 P picks\n",
      "123 S picks\n",
      "[#########                               ] | 24% Completed | 6hr 15m"
     ]
    },
    {
     "name": "stderr",
     "output_type": "stream",
     "text": [
      "/tmp/ipykernel_1432373/2319557713.py:13: RuntimeWarning: All-NaN axis encountered\n",
      "  np.nanmax([stack[idx:idx + twin], _data[iseg+1, :]], axis = 0)\n"
     ]
    },
    {
     "name": "stdout",
     "output_type": "stream",
     "text": [
      "[#########                               ] | 24% Completed | 6hr 15mAll prediction shape: (2, 5, 3599, 6000)\n",
      "[#########                               ] | 24% Completed | 6hr 19m540 P picks\n",
      "446 S picks\n",
      "[#########                               ] | 24% Completed | 6hr 19m"
     ]
    },
    {
     "name": "stderr",
     "output_type": "stream",
     "text": [
      "/tmp/ipykernel_1432373/2319557713.py:13: RuntimeWarning: All-NaN axis encountered\n",
      "  np.nanmax([stack[idx:idx + twin], _data[iseg+1, :]], axis = 0)\n"
     ]
    },
    {
     "name": "stdout",
     "output_type": "stream",
     "text": [
      "[#########                               ] | 24% Completed | 6hr 20mAll prediction shape: (2, 5, 3598, 6000)\n",
      "[#########                               ] | 24% Completed | 6hr 24m450 P picks\n",
      "63 S picks\n"
     ]
    },
    {
     "name": "stderr",
     "output_type": "stream",
     "text": [
      "/tmp/ipykernel_1432373/2319557713.py:13: RuntimeWarning: All-NaN axis encountered\n",
      "  np.nanmax([stack[idx:idx + twin], _data[iseg+1, :]], axis = 0)\n"
     ]
    },
    {
     "name": "stdout",
     "output_type": "stream",
     "text": [
      "[#########                               ] | 24% Completed | 6hr 24mAll prediction shape: (2, 5, 3599, 6000)\n",
      "[#########                               ] | 24% Completed | 6hr 29m"
     ]
    },
    {
     "name": "stderr",
     "output_type": "stream",
     "text": [
      "/tmp/ipykernel_1432373/2319557713.py:13: RuntimeWarning: All-NaN axis encountered\n",
      "  np.nanmax([stack[idx:idx + twin], _data[iseg+1, :]], axis = 0)\n"
     ]
    },
    {
     "name": "stdout",
     "output_type": "stream",
     "text": [
      "502 P picks\n",
      "260 S picks\n",
      "[#########                               ] | 24% Completed | 6hr 29mAll prediction shape: (2, 5, 1439, 6000)\n",
      "[#########                               ] | 24% Completed | 6hr 30m36 P picks\n",
      "7 S picks\n",
      "[##########                              ] | 25% Completed | 6hr 30m"
     ]
    },
    {
     "name": "stderr",
     "output_type": "stream",
     "text": [
      "/tmp/ipykernel_1432373/2319557713.py:13: RuntimeWarning: All-NaN axis encountered\n",
      "  np.nanmax([stack[idx:idx + twin], _data[iseg+1, :]], axis = 0)\n"
     ]
    },
    {
     "name": "stdout",
     "output_type": "stream",
     "text": [
      "[##########                              ] | 25% Completed | 6hr 30mAll prediction shape: (2, 5, 3599, 6000)\n",
      "[##########                              ] | 25% Completed | 6hr 34m598 P picks\n",
      "256 S picks\n"
     ]
    },
    {
     "name": "stderr",
     "output_type": "stream",
     "text": [
      "/tmp/ipykernel_1432373/2319557713.py:13: RuntimeWarning: All-NaN axis encountered\n",
      "  np.nanmax([stack[idx:idx + twin], _data[iseg+1, :]], axis = 0)\n"
     ]
    },
    {
     "name": "stdout",
     "output_type": "stream",
     "text": [
      "[##########                              ] | 25% Completed | 6hr 34mAll prediction shape: (2, 5, 3599, 6000)\n",
      "[##########                              ] | 25% Completed | 6hr 39m435 P picks\n",
      "506 S picks\n"
     ]
    },
    {
     "name": "stderr",
     "output_type": "stream",
     "text": [
      "/tmp/ipykernel_1432373/2319557713.py:13: RuntimeWarning: All-NaN axis encountered\n",
      "  np.nanmax([stack[idx:idx + twin], _data[iseg+1, :]], axis = 0)\n"
     ]
    },
    {
     "name": "stdout",
     "output_type": "stream",
     "text": [
      "[##########                              ] | 25% Completed | 6hr 39mAll prediction shape: (2, 5, 3599, 6000)\n",
      "[##########                              ] | 25% Completed | 6hr 43m400 P picks\n",
      "379 S picks\n"
     ]
    },
    {
     "name": "stderr",
     "output_type": "stream",
     "text": [
      "/tmp/ipykernel_1432373/2319557713.py:13: RuntimeWarning: All-NaN axis encountered\n",
      "  np.nanmax([stack[idx:idx + twin], _data[iseg+1, :]], axis = 0)\n"
     ]
    },
    {
     "name": "stdout",
     "output_type": "stream",
     "text": [
      "[##########                              ] | 25% Completed | 6hr 43mAll prediction shape: (2, 5, 3599, 6000)\n",
      "[##########                              ] | 25% Completed | 6hr 48m"
     ]
    },
    {
     "name": "stderr",
     "output_type": "stream",
     "text": [
      "/tmp/ipykernel_1432373/2319557713.py:13: RuntimeWarning: All-NaN axis encountered\n",
      "  np.nanmax([stack[idx:idx + twin], _data[iseg+1, :]], axis = 0)\n"
     ]
    },
    {
     "name": "stdout",
     "output_type": "stream",
     "text": [
      "574 P picks\n",
      "588 S picks\n",
      "[##########                              ] | 25% Completed | 6hr 48mAll prediction shape: (2, 5, 1439, 6000)\n",
      "[##########                              ] | 25% Completed | 6hr 49m111 P picks\n",
      "96 S picks\n",
      "[##########                              ] | 25% Completed | 6hr 49m"
     ]
    },
    {
     "name": "stderr",
     "output_type": "stream",
     "text": [
      "/tmp/ipykernel_1432373/2319557713.py:13: RuntimeWarning: All-NaN axis encountered\n",
      "  np.nanmax([stack[idx:idx + twin], _data[iseg+1, :]], axis = 0)\n"
     ]
    },
    {
     "name": "stdout",
     "output_type": "stream",
     "text": [
      "[##########                              ] | 25% Completed | 6hr 49mAll prediction shape: (2, 5, 1438, 6000)\n",
      "[##########                              ] | 25% Completed | 6hr 50m155 P picks\n",
      "57 S picks\n",
      "[##########                              ] | 26% Completed | 6hr 50m"
     ]
    },
    {
     "name": "stderr",
     "output_type": "stream",
     "text": [
      "/tmp/ipykernel_1432373/2319557713.py:13: RuntimeWarning: All-NaN axis encountered\n",
      "  np.nanmax([stack[idx:idx + twin], _data[iseg+1, :]], axis = 0)\n"
     ]
    },
    {
     "name": "stdout",
     "output_type": "stream",
     "text": [
      "[##########                              ] | 26% Completed | 6hr 50mAll prediction shape: (2, 5, 1438, 6000)\n",
      "[##########                              ] | 26% Completed | 6hr 51m237 P picks\n",
      "105 S picks\n",
      "[##########                              ] | 26% Completed | 6hr 51m"
     ]
    },
    {
     "name": "stderr",
     "output_type": "stream",
     "text": [
      "/tmp/ipykernel_1432373/2319557713.py:13: RuntimeWarning: All-NaN axis encountered\n",
      "  np.nanmax([stack[idx:idx + twin], _data[iseg+1, :]], axis = 0)\n"
     ]
    },
    {
     "name": "stdout",
     "output_type": "stream",
     "text": [
      "[##########                              ] | 26% Completed | 6hr 51mAll prediction shape: (2, 5, 3598, 6000)\n",
      "[##########                              ] | 26% Completed | 6hr 57m623 P picks\n",
      "236 S picks\n",
      "[##########                              ] | 26% Completed | 6hr 57m"
     ]
    },
    {
     "name": "stderr",
     "output_type": "stream",
     "text": [
      "/tmp/ipykernel_1432373/2319557713.py:13: RuntimeWarning: All-NaN axis encountered\n",
      "  np.nanmax([stack[idx:idx + twin], _data[iseg+1, :]], axis = 0)\n"
     ]
    },
    {
     "name": "stdout",
     "output_type": "stream",
     "text": [
      "[##########                              ] | 26% Completed | 6hr 57mAll prediction shape: (2, 5, 1439, 6000)\n",
      "[##########                              ] | 26% Completed | 6hr 58m16 P picks\n",
      "12 S picks\n"
     ]
    },
    {
     "name": "stderr",
     "output_type": "stream",
     "text": [
      "/tmp/ipykernel_1432373/2319557713.py:13: RuntimeWarning: All-NaN axis encountered\n",
      "  np.nanmax([stack[idx:idx + twin], _data[iseg+1, :]], axis = 0)\n"
     ]
    },
    {
     "name": "stdout",
     "output_type": "stream",
     "text": [
      "[##########                              ] | 26% Completed | 6hr 59mAll prediction shape: (2, 5, 3598, 6000)\n",
      "[##########                              ] | 26% Completed | 7hr 5mm"
     ]
    },
    {
     "name": "stderr",
     "output_type": "stream",
     "text": [
      "/tmp/ipykernel_1432373/2319557713.py:13: RuntimeWarning: All-NaN axis encountered\n",
      "  np.nanmax([stack[idx:idx + twin], _data[iseg+1, :]], axis = 0)\n"
     ]
    },
    {
     "name": "stdout",
     "output_type": "stream",
     "text": [
      "316 P picks\n",
      "309 S picks\n",
      "[##########                              ] | 26% Completed | 7hr 5mAll prediction shape: (2, 5, 1439, 6000)\n",
      "[##########                              ] | 26% Completed | 7hr 6m67 P picks\n",
      "60 S picks\n",
      "[##########                              ] | 27% Completed | 7hr 6m"
     ]
    },
    {
     "name": "stderr",
     "output_type": "stream",
     "text": [
      "/tmp/ipykernel_1432373/2319557713.py:13: RuntimeWarning: All-NaN axis encountered\n",
      "  np.nanmax([stack[idx:idx + twin], _data[iseg+1, :]], axis = 0)\n"
     ]
    },
    {
     "name": "stdout",
     "output_type": "stream",
     "text": [
      "[##########                              ] | 27% Completed | 7hr 7mAll prediction shape: (2, 5, 3599, 6000)\n",
      "[##########                              ] | 27% Completed | 7hr 13m"
     ]
    },
    {
     "name": "stderr",
     "output_type": "stream",
     "text": [
      "/tmp/ipykernel_1432373/2319557713.py:13: RuntimeWarning: All-NaN axis encountered\n",
      "  np.nanmax([stack[idx:idx + twin], _data[iseg+1, :]], axis = 0)\n"
     ]
    },
    {
     "name": "stdout",
     "output_type": "stream",
     "text": [
      "[##########                              ] | 27% Completed | 7hr 13m441 P picks\n",
      "491 S picks\n",
      "[##########                              ] | 27% Completed | 7hr 13mAll prediction shape: (2, 5, 3599, 6000)\n",
      "[##########                              ] | 27% Completed | 7hr 19m"
     ]
    },
    {
     "name": "stderr",
     "output_type": "stream",
     "text": [
      "/tmp/ipykernel_1432373/2319557713.py:13: RuntimeWarning: All-NaN axis encountered\n",
      "  np.nanmax([stack[idx:idx + twin], _data[iseg+1, :]], axis = 0)\n"
     ]
    },
    {
     "name": "stdout",
     "output_type": "stream",
     "text": [
      "182 P picks\n",
      "118 S picks\n",
      "[###########                             ] | 27% Completed | 7hr 20mAll prediction shape: (2, 5, 3599, 6000)\n",
      "[###########                             ] | 27% Completed | 7hr 25m475 P picks\n",
      "620 S picks\n"
     ]
    },
    {
     "name": "stderr",
     "output_type": "stream",
     "text": [
      "/tmp/ipykernel_1432373/2319557713.py:13: RuntimeWarning: All-NaN axis encountered\n",
      "  np.nanmax([stack[idx:idx + twin], _data[iseg+1, :]], axis = 0)\n"
     ]
    },
    {
     "name": "stdout",
     "output_type": "stream",
     "text": [
      "[###########                             ] | 27% Completed | 7hr 26mAll prediction shape: (2, 5, 3599, 6000)\n",
      "[###########                             ] | 27% Completed | 7hr 32m"
     ]
    },
    {
     "name": "stderr",
     "output_type": "stream",
     "text": [
      "/tmp/ipykernel_1432373/2319557713.py:13: RuntimeWarning: All-NaN axis encountered\n",
      "  np.nanmax([stack[idx:idx + twin], _data[iseg+1, :]], axis = 0)\n"
     ]
    },
    {
     "name": "stdout",
     "output_type": "stream",
     "text": [
      "596 P picks\n",
      "592 S picks\n",
      "[###########                             ] | 27% Completed | 7hr 32mAll prediction shape: (2, 5, 3599, 6000)\n",
      "[###########                             ] | 27% Completed | 7hr 38m"
     ]
    },
    {
     "name": "stderr",
     "output_type": "stream",
     "text": [
      "/tmp/ipykernel_1432373/2319557713.py:13: RuntimeWarning: All-NaN axis encountered\n",
      "  np.nanmax([stack[idx:idx + twin], _data[iseg+1, :]], axis = 0)\n"
     ]
    },
    {
     "name": "stdout",
     "output_type": "stream",
     "text": [
      "[###########                             ] | 27% Completed | 7hr 38m226 P picks\n",
      "360 S picks\n",
      "[###########                             ] | 28% Completed | 7hr 38mAll prediction shape: (2, 5, 1439, 6000)\n",
      "[###########                             ] | 28% Completed | 7hr 40m59 P picks\n",
      "30 S picks\n",
      "[###########                             ] | 28% Completed | 7hr 40m"
     ]
    },
    {
     "name": "stderr",
     "output_type": "stream",
     "text": [
      "/tmp/ipykernel_1432373/2319557713.py:13: RuntimeWarning: All-NaN axis encountered\n",
      "  np.nanmax([stack[idx:idx + twin], _data[iseg+1, :]], axis = 0)\n"
     ]
    },
    {
     "name": "stdout",
     "output_type": "stream",
     "text": [
      "[###########                             ] | 28% Completed | 7hr 40mAll prediction shape: (2, 5, 3599, 6000)\n",
      "[###########                             ] | 28% Completed | 7hr 46m"
     ]
    },
    {
     "name": "stderr",
     "output_type": "stream",
     "text": [
      "/tmp/ipykernel_1432373/2319557713.py:13: RuntimeWarning: All-NaN axis encountered\n",
      "  np.nanmax([stack[idx:idx + twin], _data[iseg+1, :]], axis = 0)\n"
     ]
    },
    {
     "name": "stdout",
     "output_type": "stream",
     "text": [
      "499 P picks\n",
      "215 S picks\n",
      "[###########                             ] | 28% Completed | 7hr 47mAll prediction shape: (2, 5, 3599, 6000)\n",
      "[###########                             ] | 28% Completed | 7hr 53m237 P picks\n",
      "519 S picks\n"
     ]
    },
    {
     "name": "stderr",
     "output_type": "stream",
     "text": [
      "/tmp/ipykernel_1432373/2319557713.py:13: RuntimeWarning: All-NaN axis encountered\n",
      "  np.nanmax([stack[idx:idx + twin], _data[iseg+1, :]], axis = 0)\n"
     ]
    },
    {
     "name": "stdout",
     "output_type": "stream",
     "text": [
      "[###########                             ] | 28% Completed | 7hr 53mAll prediction shape: (2, 5, 1439, 6000)\n",
      "[###########                             ] | 28% Completed | 7hr 54m60 P picks\n",
      "45 S picks\n",
      "[###########                             ] | 28% Completed | 7hr 54m"
     ]
    },
    {
     "name": "stderr",
     "output_type": "stream",
     "text": [
      "/tmp/ipykernel_1432373/2319557713.py:13: RuntimeWarning: All-NaN axis encountered\n",
      "  np.nanmax([stack[idx:idx + twin], _data[iseg+1, :]], axis = 0)\n"
     ]
    },
    {
     "name": "stdout",
     "output_type": "stream",
     "text": [
      "[###########                             ] | 28% Completed | 7hr 55mAll prediction shape: (2, 5, 1439, 6000)\n",
      "[###########                             ] | 28% Completed | 7hr 56m103 P picks\n",
      "94 S picks\n",
      "[###########                             ] | 29% Completed | 7hr 56m"
     ]
    },
    {
     "name": "stderr",
     "output_type": "stream",
     "text": [
      "/tmp/ipykernel_1432373/2319557713.py:13: RuntimeWarning: All-NaN axis encountered\n",
      "  np.nanmax([stack[idx:idx + twin], _data[iseg+1, :]], axis = 0)\n"
     ]
    },
    {
     "name": "stdout",
     "output_type": "stream",
     "text": [
      "[###########                             ] | 29% Completed | 7hr 56mAll prediction shape: (2, 5, 1439, 6000)\n",
      "[###########                             ] | 29% Completed | 7hr 57m99 P picks\n",
      "24 S picks\n",
      "[###########                             ] | 29% Completed | 7hr 57m"
     ]
    },
    {
     "name": "stderr",
     "output_type": "stream",
     "text": [
      "/tmp/ipykernel_1432373/2319557713.py:13: RuntimeWarning: All-NaN axis encountered\n",
      "  np.nanmax([stack[idx:idx + twin], _data[iseg+1, :]], axis = 0)\n"
     ]
    },
    {
     "name": "stdout",
     "output_type": "stream",
     "text": [
      "[###########                             ] | 29% Completed | 7hr 58mAll prediction shape: (2, 5, 1439, 6000)\n",
      "[###########                             ] | 29% Completed | 7hr 59m176 P picks\n",
      "48 S picks\n",
      "[###########                             ] | 29% Completed | 7hr 59m"
     ]
    },
    {
     "name": "stderr",
     "output_type": "stream",
     "text": [
      "/tmp/ipykernel_1432373/2319557713.py:13: RuntimeWarning: All-NaN axis encountered\n",
      "  np.nanmax([stack[idx:idx + twin], _data[iseg+1, :]], axis = 0)\n"
     ]
    },
    {
     "name": "stdout",
     "output_type": "stream",
     "text": [
      "[###########                             ] | 29% Completed | 7hr 59mAll prediction shape: (2, 5, 3599, 6000)\n",
      "[###########                             ] | 29% Completed | 8hr 5mm"
     ]
    },
    {
     "name": "stderr",
     "output_type": "stream",
     "text": [
      "/tmp/ipykernel_1432373/2319557713.py:13: RuntimeWarning: All-NaN axis encountered\n",
      "  np.nanmax([stack[idx:idx + twin], _data[iseg+1, :]], axis = 0)\n"
     ]
    },
    {
     "name": "stdout",
     "output_type": "stream",
     "text": [
      "[###########                             ] | 29% Completed | 8hr 5m603 P picks\n",
      "713 S picks\n",
      "[###########                             ] | 29% Completed | 8hr 6mAll prediction shape: (2, 5, 3599, 6000)\n",
      "[###########                             ] | 29% Completed | 8hr 12m"
     ]
    },
    {
     "name": "stderr",
     "output_type": "stream",
     "text": [
      "/tmp/ipykernel_1432373/2319557713.py:13: RuntimeWarning: All-NaN axis encountered\n",
      "  np.nanmax([stack[idx:idx + twin], _data[iseg+1, :]], axis = 0)\n"
     ]
    },
    {
     "name": "stdout",
     "output_type": "stream",
     "text": [
      "[###########                             ] | 29% Completed | 8hr 12m440 P picks\n",
      "314 S picks\n",
      "[###########                             ] | 29% Completed | 8hr 13mAll prediction shape: (2, 5, 3599, 6000)\n",
      "[###########                             ] | 29% Completed | 8hr 19m"
     ]
    },
    {
     "name": "stderr",
     "output_type": "stream",
     "text": [
      "/tmp/ipykernel_1432373/2319557713.py:13: RuntimeWarning: All-NaN axis encountered\n",
      "  np.nanmax([stack[idx:idx + twin], _data[iseg+1, :]], axis = 0)\n"
     ]
    },
    {
     "name": "stdout",
     "output_type": "stream",
     "text": [
      "[###########                             ] | 29% Completed | 8hr 19m466 P picks\n",
      "711 S picks\n",
      "[###########                             ] | 29% Completed | 8hr 19mAll prediction shape: (2, 5, 3599, 6000)\n",
      "[###########                             ] | 29% Completed | 8hr 24m424 P picks\n",
      "356 S picks\n"
     ]
    },
    {
     "name": "stderr",
     "output_type": "stream",
     "text": [
      "/tmp/ipykernel_1432373/2319557713.py:13: RuntimeWarning: All-NaN axis encountered\n",
      "  np.nanmax([stack[idx:idx + twin], _data[iseg+1, :]], axis = 0)\n"
     ]
    },
    {
     "name": "stdout",
     "output_type": "stream",
     "text": [
      "[############                            ] | 30% Completed | 8hr 25mAll prediction shape: (2, 5, 3599, 6000)\n",
      "[############                            ] | 30% Completed | 8hr 29m549 P picks\n",
      "443 S picks\n",
      "[############                            ] | 30% Completed | 8hr 29m"
     ]
    },
    {
     "name": "stderr",
     "output_type": "stream",
     "text": [
      "/tmp/ipykernel_1432373/2319557713.py:13: RuntimeWarning: All-NaN axis encountered\n",
      "  np.nanmax([stack[idx:idx + twin], _data[iseg+1, :]], axis = 0)\n"
     ]
    },
    {
     "name": "stdout",
     "output_type": "stream",
     "text": [
      "[############                            ] | 30% Completed | 8hr 29mAll prediction shape: (2, 5, 1438, 6000)\n",
      "[############                            ] | 30% Completed | 8hr 30m185 P picks\n",
      "83 S picks\n",
      "[############                            ] | 30% Completed | 8hr 30m"
     ]
    },
    {
     "name": "stderr",
     "output_type": "stream",
     "text": [
      "/tmp/ipykernel_1432373/2319557713.py:13: RuntimeWarning: All-NaN axis encountered\n",
      "  np.nanmax([stack[idx:idx + twin], _data[iseg+1, :]], axis = 0)\n"
     ]
    },
    {
     "name": "stdout",
     "output_type": "stream",
     "text": [
      "[############                            ] | 30% Completed | 8hr 30mAll prediction shape: (2, 5, 3599, 6000)\n",
      "[############                            ] | 30% Completed | 8hr 34m490 P picks\n",
      "324 S picks\n"
     ]
    },
    {
     "name": "stderr",
     "output_type": "stream",
     "text": [
      "/tmp/ipykernel_1432373/2319557713.py:13: RuntimeWarning: All-NaN axis encountered\n",
      "  np.nanmax([stack[idx:idx + twin], _data[iseg+1, :]], axis = 0)\n"
     ]
    },
    {
     "name": "stdout",
     "output_type": "stream",
     "text": [
      "[############                            ] | 30% Completed | 8hr 35mAll prediction shape: (2, 5, 1439, 6000)\n",
      "[############                            ] | 30% Completed | 8hr 35m70 P picks\n",
      "27 S picks\n",
      "[############                            ] | 30% Completed | 8hr 35m"
     ]
    },
    {
     "name": "stderr",
     "output_type": "stream",
     "text": [
      "/tmp/ipykernel_1432373/2319557713.py:13: RuntimeWarning: All-NaN axis encountered\n",
      "  np.nanmax([stack[idx:idx + twin], _data[iseg+1, :]], axis = 0)\n"
     ]
    },
    {
     "name": "stdout",
     "output_type": "stream",
     "text": [
      "[############                            ] | 30% Completed | 8hr 36mAll prediction shape: (2, 5, 1439, 6000)\n",
      "[############                            ] | 30% Completed | 8hr 36m44 P picks\n",
      "11 S picks\n",
      "[############                            ] | 31% Completed | 8hr 36m"
     ]
    },
    {
     "name": "stderr",
     "output_type": "stream",
     "text": [
      "/tmp/ipykernel_1432373/2319557713.py:13: RuntimeWarning: All-NaN axis encountered\n",
      "  np.nanmax([stack[idx:idx + twin], _data[iseg+1, :]], axis = 0)\n"
     ]
    },
    {
     "name": "stdout",
     "output_type": "stream",
     "text": [
      "[############                            ] | 31% Completed | 8hr 37mAll prediction shape: (2, 5, 1439, 6000)\n",
      "[############                            ] | 31% Completed | 8hr 37m158 P picks\n",
      "43 S picks\n",
      "[############                            ] | 31% Completed | 8hr 37m"
     ]
    },
    {
     "name": "stderr",
     "output_type": "stream",
     "text": [
      "/tmp/ipykernel_1432373/2319557713.py:13: RuntimeWarning: All-NaN axis encountered\n",
      "  np.nanmax([stack[idx:idx + twin], _data[iseg+1, :]], axis = 0)\n"
     ]
    },
    {
     "name": "stdout",
     "output_type": "stream",
     "text": [
      "[############                            ] | 31% Completed | 8hr 37mAll prediction shape: (2, 5, 1438, 6000)\n",
      "[############                            ] | 31% Completed | 8hr 39m200 P picks\n",
      "59 S picks\n"
     ]
    },
    {
     "name": "stderr",
     "output_type": "stream",
     "text": [
      "/tmp/ipykernel_1432373/2319557713.py:13: RuntimeWarning: All-NaN axis encountered\n",
      "  np.nanmax([stack[idx:idx + twin], _data[iseg+1, :]], axis = 0)\n"
     ]
    },
    {
     "name": "stdout",
     "output_type": "stream",
     "text": [
      "[############                            ] | 31% Completed | 8hr 39mAll prediction shape: (2, 5, 3599, 6000)\n",
      "[############                            ] | 31% Completed | 8hr 43m426 P picks\n",
      "548 S picks\n"
     ]
    },
    {
     "name": "stderr",
     "output_type": "stream",
     "text": [
      "/tmp/ipykernel_1432373/2319557713.py:13: RuntimeWarning: All-NaN axis encountered\n",
      "  np.nanmax([stack[idx:idx + twin], _data[iseg+1, :]], axis = 0)\n"
     ]
    },
    {
     "name": "stdout",
     "output_type": "stream",
     "text": [
      "[############                            ] | 31% Completed | 8hr 44mAll prediction shape: (2, 5, 3599, 6000)\n",
      "[############                            ] | 31% Completed | 8hr 48m269 P picks\n",
      "299 S picks\n"
     ]
    },
    {
     "name": "stderr",
     "output_type": "stream",
     "text": [
      "/tmp/ipykernel_1432373/2319557713.py:13: RuntimeWarning: All-NaN axis encountered\n",
      "  np.nanmax([stack[idx:idx + twin], _data[iseg+1, :]], axis = 0)\n"
     ]
    },
    {
     "name": "stdout",
     "output_type": "stream",
     "text": [
      "[############                            ] | 31% Completed | 8hr 48mAll prediction shape: (2, 5, 1439, 6000)\n",
      "[############                            ] | 31% Completed | 8hr 49m131 P picks\n",
      "107 S picks\n",
      "[############                            ] | 32% Completed | 8hr 49m"
     ]
    },
    {
     "name": "stderr",
     "output_type": "stream",
     "text": [
      "/tmp/ipykernel_1432373/2319557713.py:13: RuntimeWarning: All-NaN axis encountered\n",
      "  np.nanmax([stack[idx:idx + twin], _data[iseg+1, :]], axis = 0)\n"
     ]
    },
    {
     "name": "stdout",
     "output_type": "stream",
     "text": [
      "[############                            ] | 32% Completed | 8hr 49mAll prediction shape: (2, 5, 1439, 6000)\n",
      "[############                            ] | 32% Completed | 8hr 50m156 P picks\n",
      "58 S picks\n",
      "[############                            ] | 32% Completed | 8hr 50m"
     ]
    },
    {
     "name": "stderr",
     "output_type": "stream",
     "text": [
      "/tmp/ipykernel_1432373/2319557713.py:13: RuntimeWarning: All-NaN axis encountered\n",
      "  np.nanmax([stack[idx:idx + twin], _data[iseg+1, :]], axis = 0)\n"
     ]
    },
    {
     "name": "stdout",
     "output_type": "stream",
     "text": [
      "[############                            ] | 32% Completed | 8hr 50mAll prediction shape: (2, 5, 3599, 6000)\n",
      "[############                            ] | 32% Completed | 8hr 54m277 P picks\n",
      "465 S picks\n"
     ]
    },
    {
     "name": "stderr",
     "output_type": "stream",
     "text": [
      "/tmp/ipykernel_1432373/2319557713.py:13: RuntimeWarning: All-NaN axis encountered\n",
      "  np.nanmax([stack[idx:idx + twin], _data[iseg+1, :]], axis = 0)\n"
     ]
    },
    {
     "name": "stdout",
     "output_type": "stream",
     "text": [
      "[############                            ] | 32% Completed | 8hr 55mAll prediction shape: (2, 5, 3599, 6000)\n",
      "[############                            ] | 32% Completed | 8hr 59m494 P picks\n",
      "258 S picks\n",
      "[#############                           ] | 32% Completed | 8hr 59m"
     ]
    },
    {
     "name": "stderr",
     "output_type": "stream",
     "text": [
      "/tmp/ipykernel_1432373/2319557713.py:13: RuntimeWarning: All-NaN axis encountered\n",
      "  np.nanmax([stack[idx:idx + twin], _data[iseg+1, :]], axis = 0)\n"
     ]
    },
    {
     "name": "stdout",
     "output_type": "stream",
     "text": [
      "[#############                           ] | 32% Completed | 8hr 59mAll prediction shape: (2, 5, 3599, 6000)\n",
      "[#############                           ] | 32% Completed | 9hr 3mm245 P picks\n",
      "198 S picks\n"
     ]
    },
    {
     "name": "stderr",
     "output_type": "stream",
     "text": [
      "/tmp/ipykernel_1432373/2319557713.py:13: RuntimeWarning: All-NaN axis encountered\n",
      "  np.nanmax([stack[idx:idx + twin], _data[iseg+1, :]], axis = 0)\n"
     ]
    },
    {
     "name": "stdout",
     "output_type": "stream",
     "text": [
      "[#############                           ] | 32% Completed | 9hr 4mAll prediction shape: (2, 5, 3598, 6000)\n",
      "[#############                           ] | 32% Completed | 9hr 8m487 P picks\n",
      "139 S picks\n",
      "[#############                           ] | 32% Completed | 9hr 8m"
     ]
    },
    {
     "name": "stderr",
     "output_type": "stream",
     "text": [
      "/tmp/ipykernel_1432373/2319557713.py:13: RuntimeWarning: All-NaN axis encountered\n",
      "  np.nanmax([stack[idx:idx + twin], _data[iseg+1, :]], axis = 0)\n"
     ]
    },
    {
     "name": "stdout",
     "output_type": "stream",
     "text": [
      "[#############                           ] | 33% Completed | 9hr 8mAll prediction shape: (2, 5, 1438, 6000)\n",
      "[#############                           ] | 33% Completed | 9hr 9m187 P picks\n",
      "61 S picks\n",
      "[#############                           ] | 33% Completed | 9hr 9m"
     ]
    },
    {
     "name": "stderr",
     "output_type": "stream",
     "text": [
      "/tmp/ipykernel_1432373/2319557713.py:13: RuntimeWarning: All-NaN axis encountered\n",
      "  np.nanmax([stack[idx:idx + twin], _data[iseg+1, :]], axis = 0)\n"
     ]
    },
    {
     "name": "stdout",
     "output_type": "stream",
     "text": [
      "[#############                           ] | 33% Completed | 9hr 9mAll prediction shape: (2, 5, 3599, 6000)\n",
      "[#############                           ] | 33% Completed | 9hr 13m555 P picks\n",
      "223 S picks\n",
      "[#############                           ] | 33% Completed | 9hr 13m"
     ]
    },
    {
     "name": "stderr",
     "output_type": "stream",
     "text": [
      "/tmp/ipykernel_1432373/2319557713.py:13: RuntimeWarning: All-NaN axis encountered\n",
      "  np.nanmax([stack[idx:idx + twin], _data[iseg+1, :]], axis = 0)\n"
     ]
    },
    {
     "name": "stdout",
     "output_type": "stream",
     "text": [
      "[#############                           ] | 33% Completed | 9hr 13mAll prediction shape: (2, 5, 1282, 6000)\n",
      "[#############                           ] | 33% Completed | 9hr 14m25 P picks\n",
      "14 S picks\n",
      "[#############                           ] | 33% Completed | 9hr 14m"
     ]
    },
    {
     "name": "stderr",
     "output_type": "stream",
     "text": [
      "/tmp/ipykernel_1432373/2319557713.py:13: RuntimeWarning: All-NaN axis encountered\n",
      "  np.nanmax([stack[idx:idx + twin], _data[iseg+1, :]], axis = 0)\n"
     ]
    },
    {
     "name": "stdout",
     "output_type": "stream",
     "text": [
      "[#############                           ] | 33% Completed | 9hr 14mAll prediction shape: (2, 5, 3599, 6000)\n",
      "[#############                           ] | 33% Completed | 9hr 19m431 P picks\n",
      "102 S picks\n"
     ]
    },
    {
     "name": "stderr",
     "output_type": "stream",
     "text": [
      "/tmp/ipykernel_1432373/2319557713.py:13: RuntimeWarning: All-NaN axis encountered\n",
      "  np.nanmax([stack[idx:idx + twin], _data[iseg+1, :]], axis = 0)\n"
     ]
    },
    {
     "name": "stdout",
     "output_type": "stream",
     "text": [
      "[#############                           ] | 33% Completed | 9hr 19mAll prediction shape: (2, 5, 3599, 6000)\n",
      "[#############                           ] | 33% Completed | 9hr 23m456 P picks\n",
      "214 S picks\n"
     ]
    },
    {
     "name": "stderr",
     "output_type": "stream",
     "text": [
      "/tmp/ipykernel_1432373/2319557713.py:13: RuntimeWarning: All-NaN axis encountered\n",
      "  np.nanmax([stack[idx:idx + twin], _data[iseg+1, :]], axis = 0)\n"
     ]
    },
    {
     "name": "stdout",
     "output_type": "stream",
     "text": [
      "[#############                           ] | 33% Completed | 9hr 23m"
     ]
    },
    {
     "name": "stderr",
     "output_type": "stream",
     "text": [
      "/tmp/ipykernel_1432373/1236362454.py:81: RuntimeWarning: invalid value encountered in divide\n",
      "  windows_max[iseg, :] = windows[iseg, :] / (np.max(np.abs(windows[iseg, :]), axis=-1, keepdims=True))\n"
     ]
    },
    {
     "name": "stdout",
     "output_type": "stream",
     "text": [
      "[#############                           ] | 33% Completed | 9hr 23mAll prediction shape: (2, 5, 3599, 6000)\n",
      "[#############                           ] | 33% Completed | 9hr 28m518 P picks\n",
      "214 S picks\n",
      "[#############                           ] | 33% Completed | 9hr 28m"
     ]
    },
    {
     "name": "stderr",
     "output_type": "stream",
     "text": [
      "/tmp/ipykernel_1432373/2319557713.py:13: RuntimeWarning: All-NaN axis encountered\n",
      "  np.nanmax([stack[idx:idx + twin], _data[iseg+1, :]], axis = 0)\n"
     ]
    },
    {
     "name": "stdout",
     "output_type": "stream",
     "text": [
      "[#############                           ] | 34% Completed | 9hr 28mAll prediction shape: (2, 5, 1439, 6000)\n",
      "[#############                           ] | 34% Completed | 9hr 28m61 P picks\n",
      "21 S picks\n",
      "[#############                           ] | 34% Completed | 9hr 28m"
     ]
    },
    {
     "name": "stderr",
     "output_type": "stream",
     "text": [
      "/tmp/ipykernel_1432373/2319557713.py:13: RuntimeWarning: All-NaN axis encountered\n",
      "  np.nanmax([stack[idx:idx + twin], _data[iseg+1, :]], axis = 0)\n"
     ]
    },
    {
     "name": "stdout",
     "output_type": "stream",
     "text": [
      "[#############                           ] | 34% Completed | 9hr 29mAll prediction shape: (2, 5, 3598, 6000)\n",
      "[#############                           ] | 34% Completed | 9hr 33m499 P picks\n",
      "598 S picks\n"
     ]
    },
    {
     "name": "stderr",
     "output_type": "stream",
     "text": [
      "/tmp/ipykernel_1432373/2319557713.py:13: RuntimeWarning: All-NaN axis encountered\n",
      "  np.nanmax([stack[idx:idx + twin], _data[iseg+1, :]], axis = 0)\n"
     ]
    },
    {
     "name": "stdout",
     "output_type": "stream",
     "text": [
      "[#############                           ] | 34% Completed | 9hr 33mAll prediction shape: (2, 5, 3598, 6000)\n",
      "[#############                           ] | 34% Completed | 9hr 37m438 P picks\n",
      "164 S picks\n",
      "[#############                           ] | 34% Completed | 9hr 37m"
     ]
    },
    {
     "name": "stderr",
     "output_type": "stream",
     "text": [
      "/tmp/ipykernel_1432373/2319557713.py:13: RuntimeWarning: All-NaN axis encountered\n",
      "  np.nanmax([stack[idx:idx + twin], _data[iseg+1, :]], axis = 0)\n"
     ]
    },
    {
     "name": "stdout",
     "output_type": "stream",
     "text": [
      "[#############                           ] | 34% Completed | 9hr 38mAll prediction shape: (2, 5, 3598, 6000)\n",
      "[#############                           ] | 34% Completed | 9hr 42m36 P picks\n",
      "31 S picks\n",
      "[#############                           ] | 34% Completed | 9hr 42m"
     ]
    },
    {
     "name": "stderr",
     "output_type": "stream",
     "text": [
      "/tmp/ipykernel_1432373/2319557713.py:13: RuntimeWarning: All-NaN axis encountered\n",
      "  np.nanmax([stack[idx:idx + twin], _data[iseg+1, :]], axis = 0)\n"
     ]
    },
    {
     "name": "stdout",
     "output_type": "stream",
     "text": [
      "[#############                           ] | 34% Completed | 9hr 42mAll prediction shape: (2, 5, 3599, 6000)\n",
      "[#############                           ] | 34% Completed | 9hr 46m482 P picks\n",
      "532 S picks\n"
     ]
    },
    {
     "name": "stderr",
     "output_type": "stream",
     "text": [
      "/tmp/ipykernel_1432373/2319557713.py:13: RuntimeWarning: All-NaN axis encountered\n",
      "  np.nanmax([stack[idx:idx + twin], _data[iseg+1, :]], axis = 0)\n"
     ]
    },
    {
     "name": "stdout",
     "output_type": "stream",
     "text": [
      "[##############                          ] | 35% Completed | 9hr 47mAll prediction shape: (2, 5, 3598, 6000)\n",
      "[##############                          ] | 35% Completed | 9hr 51m458 P picks\n",
      "582 S picks\n"
     ]
    },
    {
     "name": "stderr",
     "output_type": "stream",
     "text": [
      "/tmp/ipykernel_1432373/2319557713.py:13: RuntimeWarning: All-NaN axis encountered\n",
      "  np.nanmax([stack[idx:idx + twin], _data[iseg+1, :]], axis = 0)\n"
     ]
    },
    {
     "name": "stdout",
     "output_type": "stream",
     "text": [
      "[##############                          ] | 35% Completed | 9hr 51mAll prediction shape: (2, 5, 1439, 6000)\n",
      "[##############                          ] | 35% Completed | 9hr 52m75 P picks\n",
      "10 S picks\n",
      "[##############                          ] | 35% Completed | 9hr 52m"
     ]
    },
    {
     "name": "stderr",
     "output_type": "stream",
     "text": [
      "/tmp/ipykernel_1432373/2319557713.py:13: RuntimeWarning: All-NaN axis encountered\n",
      "  np.nanmax([stack[idx:idx + twin], _data[iseg+1, :]], axis = 0)\n"
     ]
    },
    {
     "name": "stdout",
     "output_type": "stream",
     "text": [
      "[##############                          ] | 35% Completed | 9hr 52mAll prediction shape: (2, 5, 1439, 6000)\n",
      "[##############                          ] | 35% Completed | 9hr 53m163 P picks\n",
      "45 S picks\n",
      "[##############                          ] | 35% Completed | 9hr 53m"
     ]
    },
    {
     "name": "stderr",
     "output_type": "stream",
     "text": [
      "/tmp/ipykernel_1432373/2319557713.py:13: RuntimeWarning: All-NaN axis encountered\n",
      "  np.nanmax([stack[idx:idx + twin], _data[iseg+1, :]], axis = 0)\n"
     ]
    },
    {
     "name": "stdout",
     "output_type": "stream",
     "text": [
      "[##############                          ] | 35% Completed | 9hr 53mAll prediction shape: (2, 5, 3599, 6000)\n",
      "[##############                          ] | 35% Completed | 9hr 57m177 P picks\n",
      "132 S picks\n"
     ]
    },
    {
     "name": "stderr",
     "output_type": "stream",
     "text": [
      "/tmp/ipykernel_1432373/2319557713.py:13: RuntimeWarning: All-NaN axis encountered\n",
      "  np.nanmax([stack[idx:idx + twin], _data[iseg+1, :]], axis = 0)\n"
     ]
    },
    {
     "name": "stdout",
     "output_type": "stream",
     "text": [
      "[##############                          ] | 35% Completed | 9hr 58mAll prediction shape: (2, 5, 3599, 6000)\n",
      "[##############                          ] | 35% Completed | 10hr 2m524 P picks\n",
      "261 S picks\n"
     ]
    },
    {
     "name": "stderr",
     "output_type": "stream",
     "text": [
      "/tmp/ipykernel_1432373/2319557713.py:13: RuntimeWarning: All-NaN axis encountered\n",
      "  np.nanmax([stack[idx:idx + twin], _data[iseg+1, :]], axis = 0)\n"
     ]
    },
    {
     "name": "stdout",
     "output_type": "stream",
     "text": [
      "[##############                          ] | 36% Completed | 10hr 2mAll prediction shape: (2, 5, 3599, 6000)\n",
      "[##############                          ] | 36% Completed | 10hr 6m154 P picks\n",
      "143 S picks\n"
     ]
    },
    {
     "name": "stderr",
     "output_type": "stream",
     "text": [
      "/tmp/ipykernel_1432373/2319557713.py:13: RuntimeWarning: All-NaN axis encountered\n",
      "  np.nanmax([stack[idx:idx + twin], _data[iseg+1, :]], axis = 0)\n"
     ]
    },
    {
     "name": "stdout",
     "output_type": "stream",
     "text": [
      "[##############                          ] | 36% Completed | 10hr 7mAll prediction shape: (2, 5, 3599, 6000)\n",
      "[##############                          ] | 36% Completed | 10hr 11m247 P picks\n",
      "499 S picks\n"
     ]
    },
    {
     "name": "stderr",
     "output_type": "stream",
     "text": [
      "/tmp/ipykernel_1432373/2319557713.py:13: RuntimeWarning: All-NaN axis encountered\n",
      "  np.nanmax([stack[idx:idx + twin], _data[iseg+1, :]], axis = 0)\n"
     ]
    },
    {
     "name": "stdout",
     "output_type": "stream",
     "text": [
      "[##############                          ] | 36% Completed | 10hr 11mAll prediction shape: (2, 5, 3598, 6000)\n",
      "[##############                          ] | 36% Completed | 10hr 15m196 P picks\n",
      "155 S picks\n"
     ]
    },
    {
     "name": "stderr",
     "output_type": "stream",
     "text": [
      "/tmp/ipykernel_1432373/2319557713.py:13: RuntimeWarning: All-NaN axis encountered\n",
      "  np.nanmax([stack[idx:idx + twin], _data[iseg+1, :]], axis = 0)\n"
     ]
    },
    {
     "name": "stdout",
     "output_type": "stream",
     "text": [
      "[##############                          ] | 36% Completed | 10hr 16mAll prediction shape: (2, 5, 3599, 6000)\n",
      "[##############                          ] | 36% Completed | 10hr 20m375 P picks\n",
      "403 S picks\n",
      "[##############                          ] | 36% Completed | 10hr 20m"
     ]
    },
    {
     "name": "stderr",
     "output_type": "stream",
     "text": [
      "/tmp/ipykernel_1432373/2319557713.py:13: RuntimeWarning: All-NaN axis encountered\n",
      "  np.nanmax([stack[idx:idx + twin], _data[iseg+1, :]], axis = 0)\n"
     ]
    },
    {
     "name": "stdout",
     "output_type": "stream",
     "text": [
      "[##############                          ] | 36% Completed | 10hr 20mAll prediction shape: (2, 5, 1439, 6000)\n",
      "[##############                          ] | 36% Completed | 10hr 21m40 P picks\n",
      "15 S picks\n",
      "[##############                          ] | 37% Completed | 10hr 21m"
     ]
    },
    {
     "name": "stderr",
     "output_type": "stream",
     "text": [
      "/tmp/ipykernel_1432373/2319557713.py:13: RuntimeWarning: All-NaN axis encountered\n",
      "  np.nanmax([stack[idx:idx + twin], _data[iseg+1, :]], axis = 0)\n"
     ]
    },
    {
     "name": "stdout",
     "output_type": "stream",
     "text": [
      "[##############                          ] | 37% Completed | 10hr 21mAll prediction shape: (2, 5, 1439, 6000)\n",
      "[##############                          ] | 37% Completed | 10hr 22m205 P picks\n",
      "46 S picks\n",
      "[##############                          ] | 37% Completed | 10hr 22m"
     ]
    },
    {
     "name": "stderr",
     "output_type": "stream",
     "text": [
      "/tmp/ipykernel_1432373/2319557713.py:13: RuntimeWarning: All-NaN axis encountered\n",
      "  np.nanmax([stack[idx:idx + twin], _data[iseg+1, :]], axis = 0)\n"
     ]
    },
    {
     "name": "stdout",
     "output_type": "stream",
     "text": [
      "[##############                          ] | 37% Completed | 10hr 22mAll prediction shape: (2, 5, 3599, 6000)\n",
      "[##############                          ] | 37% Completed | 10hr 26m122 P picks\n",
      "137 S picks\n",
      "[##############                          ] | 37% Completed | 10hr 26m"
     ]
    },
    {
     "name": "stderr",
     "output_type": "stream",
     "text": [
      "/tmp/ipykernel_1432373/2319557713.py:13: RuntimeWarning: All-NaN axis encountered\n",
      "  np.nanmax([stack[idx:idx + twin], _data[iseg+1, :]], axis = 0)\n"
     ]
    },
    {
     "name": "stdout",
     "output_type": "stream",
     "text": [
      "[##############                          ] | 37% Completed | 10hr 26mAll prediction shape: (2, 5, 1439, 6000)\n",
      "[##############                          ] | 37% Completed | 10hr 27m131 P picks\n",
      "58 S picks\n",
      "[###############                         ] | 37% Completed | 10hr 27m"
     ]
    },
    {
     "name": "stderr",
     "output_type": "stream",
     "text": [
      "/tmp/ipykernel_1432373/2319557713.py:13: RuntimeWarning: All-NaN axis encountered\n",
      "  np.nanmax([stack[idx:idx + twin], _data[iseg+1, :]], axis = 0)\n"
     ]
    },
    {
     "name": "stdout",
     "output_type": "stream",
     "text": [
      "[###############                         ] | 37% Completed | 10hr 27mAll prediction shape: (2, 5, 3598, 6000)\n",
      "[###############                         ] | 37% Completed | 10hr 32m36 P picks\n",
      "29 S picks\n"
     ]
    },
    {
     "name": "stderr",
     "output_type": "stream",
     "text": [
      "/tmp/ipykernel_1432373/2319557713.py:13: RuntimeWarning: All-NaN axis encountered\n",
      "  np.nanmax([stack[idx:idx + twin], _data[iseg+1, :]], axis = 0)\n"
     ]
    },
    {
     "name": "stdout",
     "output_type": "stream",
     "text": [
      "[###############                         ] | 37% Completed | 10hr 32mAll prediction shape: (2, 5, 1439, 6000)\n",
      "[###############                         ] | 37% Completed | 10hr 33m189 P picks\n",
      "57 S picks\n",
      "[###############                         ] | 37% Completed | 10hr 33m"
     ]
    },
    {
     "name": "stderr",
     "output_type": "stream",
     "text": [
      "/tmp/ipykernel_1432373/2319557713.py:13: RuntimeWarning: All-NaN axis encountered\n",
      "  np.nanmax([stack[idx:idx + twin], _data[iseg+1, :]], axis = 0)\n"
     ]
    },
    {
     "name": "stdout",
     "output_type": "stream",
     "text": [
      "[###############                         ] | 37% Completed | 10hr 33mAll prediction shape: (2, 5, 1439, 6000)\n",
      "[###############                         ] | 37% Completed | 10hr 33m76 P picks\n",
      "30 S picks\n",
      "[###############                         ] | 38% Completed | 10hr 33m"
     ]
    },
    {
     "name": "stderr",
     "output_type": "stream",
     "text": [
      "/tmp/ipykernel_1432373/2319557713.py:13: RuntimeWarning: All-NaN axis encountered\n",
      "  np.nanmax([stack[idx:idx + twin], _data[iseg+1, :]], axis = 0)\n"
     ]
    },
    {
     "name": "stdout",
     "output_type": "stream",
     "text": [
      "[###############                         ] | 38% Completed | 10hr 34mAll prediction shape: (2, 5, 3599, 6000)\n",
      "[###############                         ] | 38% Completed | 10hr 38m215 P picks\n",
      "204 S picks\n",
      "[###############                         ] | 38% Completed | 10hr 38m"
     ]
    },
    {
     "name": "stderr",
     "output_type": "stream",
     "text": [
      "/tmp/ipykernel_1432373/2319557713.py:13: RuntimeWarning: All-NaN axis encountered\n",
      "  np.nanmax([stack[idx:idx + twin], _data[iseg+1, :]], axis = 0)\n"
     ]
    },
    {
     "name": "stdout",
     "output_type": "stream",
     "text": [
      "[###############                         ] | 38% Completed | 10hr 38mAll prediction shape: (2, 5, 1439, 6000)\n",
      "[###############                         ] | 38% Completed | 10hr 39m35 P picks\n",
      "17 S picks\n",
      "[###############                         ] | 38% Completed | 10hr 39m"
     ]
    },
    {
     "name": "stderr",
     "output_type": "stream",
     "text": [
      "/tmp/ipykernel_1432373/2319557713.py:13: RuntimeWarning: All-NaN axis encountered\n",
      "  np.nanmax([stack[idx:idx + twin], _data[iseg+1, :]], axis = 0)\n"
     ]
    },
    {
     "name": "stdout",
     "output_type": "stream",
     "text": [
      "[###############                         ] | 38% Completed | 10hr 39mAll prediction shape: (2, 5, 3599, 6000)\n",
      "[###############                         ] | 38% Completed | 10hr 43m265 P picks\n",
      "476 S picks\n",
      "[###############                         ] | 38% Completed | 10hr 43m"
     ]
    },
    {
     "name": "stderr",
     "output_type": "stream",
     "text": [
      "/tmp/ipykernel_1432373/2319557713.py:13: RuntimeWarning: All-NaN axis encountered\n",
      "  np.nanmax([stack[idx:idx + twin], _data[iseg+1, :]], axis = 0)\n"
     ]
    },
    {
     "name": "stdout",
     "output_type": "stream",
     "text": [
      "[###############                         ] | 38% Completed | 10hr 44mAll prediction shape: (2, 5, 3599, 6000)\n",
      "[###############                         ] | 38% Completed | 10hr 48m467 P picks\n",
      "642 S picks\n"
     ]
    },
    {
     "name": "stderr",
     "output_type": "stream",
     "text": [
      "/tmp/ipykernel_1432373/2319557713.py:13: RuntimeWarning: All-NaN axis encountered\n",
      "  np.nanmax([stack[idx:idx + twin], _data[iseg+1, :]], axis = 0)\n"
     ]
    },
    {
     "name": "stdout",
     "output_type": "stream",
     "text": [
      "[###############                         ] | 38% Completed | 10hr 48mAll prediction shape: (2, 5, 3599, 6000)\n",
      "[###############                         ] | 38% Completed | 10hr 52m646 P picks\n",
      "443 S picks\n",
      "[###############                         ] | 38% Completed | 10hr 52m"
     ]
    },
    {
     "name": "stderr",
     "output_type": "stream",
     "text": [
      "/tmp/ipykernel_1432373/2319557713.py:13: RuntimeWarning: All-NaN axis encountered\n",
      "  np.nanmax([stack[idx:idx + twin], _data[iseg+1, :]], axis = 0)\n"
     ]
    },
    {
     "name": "stdout",
     "output_type": "stream",
     "text": [
      "[###############                         ] | 39% Completed | 10hr 53mAll prediction shape: (2, 5, 1439, 6000)\n",
      "[###############                         ] | 39% Completed | 10hr 53m41 P picks\n",
      "27 S picks\n",
      "[###############                         ] | 39% Completed | 10hr 53m"
     ]
    },
    {
     "name": "stderr",
     "output_type": "stream",
     "text": [
      "/tmp/ipykernel_1432373/2319557713.py:13: RuntimeWarning: All-NaN axis encountered\n",
      "  np.nanmax([stack[idx:idx + twin], _data[iseg+1, :]], axis = 0)\n"
     ]
    },
    {
     "name": "stdout",
     "output_type": "stream",
     "text": [
      "[###############                         ] | 39% Completed | 10hr 53mAll prediction shape: (2, 5, 1439, 6000)\n",
      "[###############                         ] | 39% Completed | 10hr 54m153 P picks\n",
      "134 S picks\n",
      "[###############                         ] | 39% Completed | 10hr 54m"
     ]
    },
    {
     "name": "stderr",
     "output_type": "stream",
     "text": [
      "/tmp/ipykernel_1432373/2319557713.py:13: RuntimeWarning: All-NaN axis encountered\n",
      "  np.nanmax([stack[idx:idx + twin], _data[iseg+1, :]], axis = 0)\n"
     ]
    },
    {
     "name": "stdout",
     "output_type": "stream",
     "text": [
      "[###############                         ] | 39% Completed | 10hr 54mAll prediction shape: (2, 5, 1439, 6000)\n",
      "[###############                         ] | 39% Completed | 10hr 55m57 P picks\n",
      "34 S picks\n",
      "[###############                         ] | 39% Completed | 10hr 55m"
     ]
    },
    {
     "name": "stderr",
     "output_type": "stream",
     "text": [
      "/tmp/ipykernel_1432373/2319557713.py:13: RuntimeWarning: All-NaN axis encountered\n",
      "  np.nanmax([stack[idx:idx + twin], _data[iseg+1, :]], axis = 0)\n"
     ]
    },
    {
     "name": "stdout",
     "output_type": "stream",
     "text": [
      "[###############                         ] | 39% Completed | 10hr 55mAll prediction shape: (2, 5, 1438, 6000)\n",
      "[###############                         ] | 39% Completed | 10hr 56m227 P picks\n",
      "76 S picks\n",
      "[###############                         ] | 39% Completed | 10hr 56m"
     ]
    },
    {
     "name": "stderr",
     "output_type": "stream",
     "text": [
      "/tmp/ipykernel_1432373/2319557713.py:13: RuntimeWarning: All-NaN axis encountered\n",
      "  np.nanmax([stack[idx:idx + twin], _data[iseg+1, :]], axis = 0)\n"
     ]
    },
    {
     "name": "stdout",
     "output_type": "stream",
     "text": [
      "[###############                         ] | 39% Completed | 10hr 57mAll prediction shape: (2, 5, 3599, 6000)\n",
      "[###############                         ] | 39% Completed | 11hr 1mm306 P picks\n",
      "625 S picks\n"
     ]
    },
    {
     "name": "stderr",
     "output_type": "stream",
     "text": [
      "/tmp/ipykernel_1432373/2319557713.py:13: RuntimeWarning: All-NaN axis encountered\n",
      "  np.nanmax([stack[idx:idx + twin], _data[iseg+1, :]], axis = 0)\n"
     ]
    },
    {
     "name": "stdout",
     "output_type": "stream",
     "text": [
      "[################                        ] | 40% Completed | 11hr 1mAll prediction shape: (2, 5, 3599, 6000)\n",
      "[################                        ] | 40% Completed | 11hr 5m591 P picks\n",
      "590 S picks\n"
     ]
    },
    {
     "name": "stderr",
     "output_type": "stream",
     "text": [
      "/tmp/ipykernel_1432373/2319557713.py:13: RuntimeWarning: All-NaN axis encountered\n",
      "  np.nanmax([stack[idx:idx + twin], _data[iseg+1, :]], axis = 0)\n"
     ]
    },
    {
     "name": "stdout",
     "output_type": "stream",
     "text": [
      "[################                        ] | 40% Completed | 11hr 5mAll prediction shape: (2, 5, 1439, 6000)\n",
      "[################                        ] | 40% Completed | 11hr 6m118 P picks\n",
      "37 S picks\n",
      "[################                        ] | 40% Completed | 11hr 6m"
     ]
    },
    {
     "name": "stderr",
     "output_type": "stream",
     "text": [
      "/tmp/ipykernel_1432373/2319557713.py:13: RuntimeWarning: All-NaN axis encountered\n",
      "  np.nanmax([stack[idx:idx + twin], _data[iseg+1, :]], axis = 0)\n"
     ]
    },
    {
     "name": "stdout",
     "output_type": "stream",
     "text": [
      "[################                        ] | 40% Completed | 11hr 6mAll prediction shape: (2, 5, 3598, 6000)\n",
      "[################                        ] | 40% Completed | 11hr 11m141 P picks\n",
      "95 S picks\n"
     ]
    },
    {
     "name": "stderr",
     "output_type": "stream",
     "text": [
      "/tmp/ipykernel_1432373/2319557713.py:13: RuntimeWarning: All-NaN axis encountered\n",
      "  np.nanmax([stack[idx:idx + twin], _data[iseg+1, :]], axis = 0)\n"
     ]
    },
    {
     "name": "stdout",
     "output_type": "stream",
     "text": [
      "[################                        ] | 40% Completed | 11hr 11mAll prediction shape: (2, 5, 3599, 6000)\n",
      "[################                        ] | 40% Completed | 11hr 15m408 P picks\n",
      "443 S picks\n"
     ]
    },
    {
     "name": "stderr",
     "output_type": "stream",
     "text": [
      "/tmp/ipykernel_1432373/2319557713.py:13: RuntimeWarning: All-NaN axis encountered\n",
      "  np.nanmax([stack[idx:idx + twin], _data[iseg+1, :]], axis = 0)\n"
     ]
    },
    {
     "name": "stdout",
     "output_type": "stream",
     "text": [
      "[################                        ] | 40% Completed | 11hr 15mAll prediction shape: (2, 5, 1439, 6000)\n",
      "[################                        ] | 40% Completed | 11hr 16m106 P picks\n",
      "25 S picks\n",
      "[################                        ] | 40% Completed | 11hr 16m"
     ]
    },
    {
     "name": "stderr",
     "output_type": "stream",
     "text": [
      "/tmp/ipykernel_1432373/2319557713.py:13: RuntimeWarning: All-NaN axis encountered\n",
      "  np.nanmax([stack[idx:idx + twin], _data[iseg+1, :]], axis = 0)\n"
     ]
    },
    {
     "name": "stdout",
     "output_type": "stream",
     "text": [
      "[################                        ] | 40% Completed | 11hr 16mAll prediction shape: (2, 5, 3598, 6000)\n",
      "[################                        ] | 40% Completed | 11hr 21m107 P picks\n",
      "108 S picks\n"
     ]
    },
    {
     "name": "stderr",
     "output_type": "stream",
     "text": [
      "/tmp/ipykernel_1432373/2319557713.py:13: RuntimeWarning: All-NaN axis encountered\n",
      "  np.nanmax([stack[idx:idx + twin], _data[iseg+1, :]], axis = 0)\n"
     ]
    },
    {
     "name": "stdout",
     "output_type": "stream",
     "text": [
      "[################                        ] | 41% Completed | 11hr 21mAll prediction shape: (2, 5, 3599, 6000)\n",
      "[################                        ] | 41% Completed | 11hr 25m423 P picks\n",
      "634 S picks\n",
      "[################                        ] | 41% Completed | 11hr 25m"
     ]
    },
    {
     "name": "stderr",
     "output_type": "stream",
     "text": [
      "/tmp/ipykernel_1432373/2319557713.py:13: RuntimeWarning: All-NaN axis encountered\n",
      "  np.nanmax([stack[idx:idx + twin], _data[iseg+1, :]], axis = 0)\n"
     ]
    },
    {
     "name": "stdout",
     "output_type": "stream",
     "text": [
      "[################                        ] | 41% Completed | 11hr 25mAll prediction shape: (2, 5, 3599, 6000)\n",
      "[################                        ] | 41% Completed | 11hr 30m404 P picks\n",
      "486 S picks\n"
     ]
    },
    {
     "name": "stderr",
     "output_type": "stream",
     "text": [
      "/tmp/ipykernel_1432373/2319557713.py:13: RuntimeWarning: All-NaN axis encountered\n",
      "  np.nanmax([stack[idx:idx + twin], _data[iseg+1, :]], axis = 0)\n"
     ]
    },
    {
     "name": "stdout",
     "output_type": "stream",
     "text": [
      "[################                        ] | 41% Completed | 11hr 30mAll prediction shape: (2, 5, 3599, 6000)\n",
      "[################                        ] | 41% Completed | 11hr 34m399 P picks\n",
      "443 S picks\n"
     ]
    },
    {
     "name": "stderr",
     "output_type": "stream",
     "text": [
      "/tmp/ipykernel_1432373/2319557713.py:13: RuntimeWarning: All-NaN axis encountered\n",
      "  np.nanmax([stack[idx:idx + twin], _data[iseg+1, :]], axis = 0)\n"
     ]
    },
    {
     "name": "stdout",
     "output_type": "stream",
     "text": [
      "[################                        ] | 41% Completed | 11hr 34mAll prediction shape: (2, 5, 1439, 6000)\n",
      "[################                        ] | 41% Completed | 11hr 35m131 P picks\n",
      "43 S picks\n",
      "[################                        ] | 41% Completed | 11hr 35m"
     ]
    },
    {
     "name": "stderr",
     "output_type": "stream",
     "text": [
      "/tmp/ipykernel_1432373/2319557713.py:13: RuntimeWarning: All-NaN axis encountered\n",
      "  np.nanmax([stack[idx:idx + twin], _data[iseg+1, :]], axis = 0)\n"
     ]
    },
    {
     "name": "stdout",
     "output_type": "stream",
     "text": [
      "[################                        ] | 41% Completed | 11hr 35mAll prediction shape: (2, 5, 1439, 6000)\n",
      "[################                        ] | 41% Completed | 11hr 36m142 P picks\n",
      "120 S picks\n",
      "[################                        ] | 42% Completed | 11hr 36m"
     ]
    },
    {
     "name": "stderr",
     "output_type": "stream",
     "text": [
      "/tmp/ipykernel_1432373/2319557713.py:13: RuntimeWarning: All-NaN axis encountered\n",
      "  np.nanmax([stack[idx:idx + twin], _data[iseg+1, :]], axis = 0)\n"
     ]
    },
    {
     "name": "stdout",
     "output_type": "stream",
     "text": [
      "[################                        ] | 42% Completed | 11hr 36mAll prediction shape: (2, 5, 1439, 6000)\n",
      "[################                        ] | 42% Completed | 11hr 37m134 P picks\n",
      "33 S picks\n",
      "[################                        ] | 42% Completed | 11hr 37m"
     ]
    },
    {
     "name": "stderr",
     "output_type": "stream",
     "text": [
      "/tmp/ipykernel_1432373/2319557713.py:13: RuntimeWarning: All-NaN axis encountered\n",
      "  np.nanmax([stack[idx:idx + twin], _data[iseg+1, :]], axis = 0)\n"
     ]
    },
    {
     "name": "stdout",
     "output_type": "stream",
     "text": [
      "[################                        ] | 42% Completed | 11hr 37mAll prediction shape: (2, 5, 3599, 6000)\n",
      "[################                        ] | 42% Completed | 11hr 41m472 P picks\n",
      "197 S picks\n"
     ]
    },
    {
     "name": "stderr",
     "output_type": "stream",
     "text": [
      "/tmp/ipykernel_1432373/2319557713.py:13: RuntimeWarning: All-NaN axis encountered\n",
      "  np.nanmax([stack[idx:idx + twin], _data[iseg+1, :]], axis = 0)\n"
     ]
    },
    {
     "name": "stdout",
     "output_type": "stream",
     "text": [
      "[#################                       ] | 42% Completed | 11hr 42mAll prediction shape: (2, 5, 1439, 6000)\n",
      "[#################                       ] | 42% Completed | 11hr 42m108 P picks\n",
      "118 S picks\n",
      "[#################                       ] | 42% Completed | 11hr 42m"
     ]
    },
    {
     "name": "stderr",
     "output_type": "stream",
     "text": [
      "/tmp/ipykernel_1432373/2319557713.py:13: RuntimeWarning: All-NaN axis encountered\n",
      "  np.nanmax([stack[idx:idx + twin], _data[iseg+1, :]], axis = 0)\n"
     ]
    },
    {
     "name": "stdout",
     "output_type": "stream",
     "text": [
      "[#################                       ] | 42% Completed | 11hr 43mAll prediction shape: (2, 5, 3599, 6000)\n",
      "[#################                       ] | 42% Completed | 11hr 47m590 P picks\n",
      "285 S picks\n"
     ]
    },
    {
     "name": "stderr",
     "output_type": "stream",
     "text": [
      "/tmp/ipykernel_1432373/2319557713.py:13: RuntimeWarning: All-NaN axis encountered\n",
      "  np.nanmax([stack[idx:idx + twin], _data[iseg+1, :]], axis = 0)\n"
     ]
    },
    {
     "name": "stdout",
     "output_type": "stream",
     "text": [
      "[#################                       ] | 42% Completed | 11hr 47mAll prediction shape: (2, 5, 3599, 6000)\n",
      "[#################                       ] | 42% Completed | 11hr 51m545 P picks\n",
      "546 S picks\n",
      "[#################                       ] | 42% Completed | 11hr 51m"
     ]
    },
    {
     "name": "stderr",
     "output_type": "stream",
     "text": [
      "/tmp/ipykernel_1432373/2319557713.py:13: RuntimeWarning: All-NaN axis encountered\n",
      "  np.nanmax([stack[idx:idx + twin], _data[iseg+1, :]], axis = 0)\n"
     ]
    },
    {
     "name": "stdout",
     "output_type": "stream",
     "text": [
      "[#################                       ] | 43% Completed | 11hr 52mAll prediction shape: (2, 5, 1439, 6000)\n",
      "[#################                       ] | 43% Completed | 11hr 52m131 P picks\n",
      "29 S picks\n",
      "[#################                       ] | 43% Completed | 11hr 52m"
     ]
    },
    {
     "name": "stderr",
     "output_type": "stream",
     "text": [
      "/tmp/ipykernel_1432373/2319557713.py:13: RuntimeWarning: All-NaN axis encountered\n",
      "  np.nanmax([stack[idx:idx + twin], _data[iseg+1, :]], axis = 0)\n"
     ]
    },
    {
     "name": "stdout",
     "output_type": "stream",
     "text": [
      "[#################                       ] | 43% Completed | 11hr 53mAll prediction shape: (2, 5, 3599, 6000)\n",
      "[#################                       ] | 43% Completed | 11hr 57m371 P picks\n",
      "271 S picks\n",
      "[#################                       ] | 43% Completed | 11hr 57m"
     ]
    },
    {
     "name": "stderr",
     "output_type": "stream",
     "text": [
      "/tmp/ipykernel_1432373/2319557713.py:13: RuntimeWarning: All-NaN axis encountered\n",
      "  np.nanmax([stack[idx:idx + twin], _data[iseg+1, :]], axis = 0)\n"
     ]
    },
    {
     "name": "stdout",
     "output_type": "stream",
     "text": [
      "[#################                       ] | 43% Completed | 11hr 57mAll prediction shape: (2, 5, 3598, 6000)\n",
      "[#################                       ] | 43% Completed | 12hr 1mm747 P picks\n",
      "441 S picks\n"
     ]
    },
    {
     "name": "stderr",
     "output_type": "stream",
     "text": [
      "/tmp/ipykernel_1432373/2319557713.py:13: RuntimeWarning: All-NaN axis encountered\n",
      "  np.nanmax([stack[idx:idx + twin], _data[iseg+1, :]], axis = 0)\n"
     ]
    },
    {
     "name": "stdout",
     "output_type": "stream",
     "text": [
      "[#################                       ] | 43% Completed | 12hr 1mAll prediction shape: (2, 5, 1439, 6000)\n",
      "[#################                       ] | 43% Completed | 12hr 2m36 P picks\n",
      "23 S picks\n",
      "[#################                       ] | 43% Completed | 12hr 2m"
     ]
    },
    {
     "name": "stderr",
     "output_type": "stream",
     "text": [
      "/tmp/ipykernel_1432373/2319557713.py:13: RuntimeWarning: All-NaN axis encountered\n",
      "  np.nanmax([stack[idx:idx + twin], _data[iseg+1, :]], axis = 0)\n"
     ]
    },
    {
     "name": "stdout",
     "output_type": "stream",
     "text": [
      "[#################                       ] | 43% Completed | 12hr 3mAll prediction shape: (2, 5, 3599, 6000)\n",
      "[#################                       ] | 43% Completed | 12hr 7m79 P picks\n",
      "77 S picks\n",
      "[#################                       ] | 44% Completed | 12hr 7m"
     ]
    },
    {
     "name": "stderr",
     "output_type": "stream",
     "text": [
      "/tmp/ipykernel_1432373/2319557713.py:13: RuntimeWarning: All-NaN axis encountered\n",
      "  np.nanmax([stack[idx:idx + twin], _data[iseg+1, :]], axis = 0)\n"
     ]
    },
    {
     "name": "stdout",
     "output_type": "stream",
     "text": [
      "[#################                       ] | 44% Completed | 12hr 7mAll prediction shape: (2, 5, 1439, 6000)\n",
      "[#################                       ] | 44% Completed | 12hr 8m84 P picks\n",
      "44 S picks\n",
      "[#################                       ] | 44% Completed | 12hr 8m"
     ]
    },
    {
     "name": "stderr",
     "output_type": "stream",
     "text": [
      "/tmp/ipykernel_1432373/2319557713.py:13: RuntimeWarning: All-NaN axis encountered\n",
      "  np.nanmax([stack[idx:idx + twin], _data[iseg+1, :]], axis = 0)\n"
     ]
    },
    {
     "name": "stdout",
     "output_type": "stream",
     "text": [
      "[#################                       ] | 44% Completed | 12hr 8mAll prediction shape: (2, 5, 1439, 6000)\n",
      "[#################                       ] | 44% Completed | 12hr 9m91 P picks\n",
      "42 S picks\n",
      "[#################                       ] | 44% Completed | 12hr 9m"
     ]
    },
    {
     "name": "stderr",
     "output_type": "stream",
     "text": [
      "/tmp/ipykernel_1432373/2319557713.py:13: RuntimeWarning: All-NaN axis encountered\n",
      "  np.nanmax([stack[idx:idx + twin], _data[iseg+1, :]], axis = 0)\n"
     ]
    },
    {
     "name": "stdout",
     "output_type": "stream",
     "text": [
      "[#################                       ] | 44% Completed | 12hr 9mAll prediction shape: (2, 5, 3598, 6000)\n",
      "[#################                       ] | 44% Completed | 12hr 13m410 P picks\n",
      "452 S picks\n"
     ]
    },
    {
     "name": "stderr",
     "output_type": "stream",
     "text": [
      "/tmp/ipykernel_1432373/2319557713.py:13: RuntimeWarning: All-NaN axis encountered\n",
      "  np.nanmax([stack[idx:idx + twin], _data[iseg+1, :]], axis = 0)\n"
     ]
    },
    {
     "name": "stdout",
     "output_type": "stream",
     "text": [
      "[#################                       ] | 44% Completed | 12hr 14mAll prediction shape: (2, 5, 3598, 6000)\n",
      "[#################                       ] | 44% Completed | 12hr 18m44 P picks\n",
      "43 S picks\n",
      "[#################                       ] | 44% Completed | 12hr 18m"
     ]
    },
    {
     "name": "stderr",
     "output_type": "stream",
     "text": [
      "/tmp/ipykernel_1432373/2319557713.py:13: RuntimeWarning: All-NaN axis encountered\n",
      "  np.nanmax([stack[idx:idx + twin], _data[iseg+1, :]], axis = 0)\n"
     ]
    },
    {
     "name": "stdout",
     "output_type": "stream",
     "text": [
      "[#################                       ] | 44% Completed | 12hr 18mAll prediction shape: (2, 5, 3599, 6000)\n",
      "[#################                       ] | 44% Completed | 12hr 22m531 P picks\n",
      "753 S picks\n",
      "[#################                       ] | 44% Completed | 12hr 22m"
     ]
    },
    {
     "name": "stderr",
     "output_type": "stream",
     "text": [
      "/tmp/ipykernel_1432373/2319557713.py:13: RuntimeWarning: All-NaN axis encountered\n",
      "  np.nanmax([stack[idx:idx + twin], _data[iseg+1, :]], axis = 0)\n"
     ]
    },
    {
     "name": "stdout",
     "output_type": "stream",
     "text": [
      "[#################                       ] | 44% Completed | 12hr 23mAll prediction shape: (2, 5, 3599, 6000)\n",
      "[#################                       ] | 44% Completed | 12hr 27m392 P picks\n",
      "279 S picks\n",
      "[##################                      ] | 45% Completed | 12hr 27m"
     ]
    },
    {
     "name": "stderr",
     "output_type": "stream",
     "text": [
      "/tmp/ipykernel_1432373/2319557713.py:13: RuntimeWarning: All-NaN axis encountered\n",
      "  np.nanmax([stack[idx:idx + twin], _data[iseg+1, :]], axis = 0)\n"
     ]
    },
    {
     "name": "stdout",
     "output_type": "stream",
     "text": [
      "[##################                      ] | 45% Completed | 12hr 27mAll prediction shape: (2, 5, 3599, 6000)\n",
      "[##################                      ] | 45% Completed | 12hr 31m528 P picks\n",
      "572 S picks\n",
      "[##################                      ] | 45% Completed | 12hr 31m"
     ]
    },
    {
     "name": "stderr",
     "output_type": "stream",
     "text": [
      "/tmp/ipykernel_1432373/2319557713.py:13: RuntimeWarning: All-NaN axis encountered\n",
      "  np.nanmax([stack[idx:idx + twin], _data[iseg+1, :]], axis = 0)\n"
     ]
    },
    {
     "name": "stdout",
     "output_type": "stream",
     "text": [
      "[##################                      ] | 45% Completed | 12hr 32mAll prediction shape: (2, 5, 3599, 6000)\n",
      "[##################                      ] | 45% Completed | 12hr 36m521 P picks\n",
      "336 S picks\n",
      "[##################                      ] | 45% Completed | 12hr 36m"
     ]
    },
    {
     "name": "stderr",
     "output_type": "stream",
     "text": [
      "/tmp/ipykernel_1432373/2319557713.py:13: RuntimeWarning: All-NaN axis encountered\n",
      "  np.nanmax([stack[idx:idx + twin], _data[iseg+1, :]], axis = 0)\n"
     ]
    },
    {
     "name": "stdout",
     "output_type": "stream",
     "text": [
      "[##################                      ] | 45% Completed | 12hr 36mAll prediction shape: (2, 5, 1439, 6000)\n",
      "[##################                      ] | 45% Completed | 12hr 37m199 P picks\n",
      "167 S picks\n",
      "[##################                      ] | 45% Completed | 12hr 37m"
     ]
    },
    {
     "name": "stderr",
     "output_type": "stream",
     "text": [
      "/tmp/ipykernel_1432373/2319557713.py:13: RuntimeWarning: All-NaN axis encountered\n",
      "  np.nanmax([stack[idx:idx + twin], _data[iseg+1, :]], axis = 0)\n"
     ]
    },
    {
     "name": "stdout",
     "output_type": "stream",
     "text": [
      "[##################                      ] | 45% Completed | 12hr 37mAll prediction shape: (2, 5, 3599, 6000)\n",
      "[##################                      ] | 45% Completed | 12hr 41m460 P picks\n",
      "526 S picks\n"
     ]
    },
    {
     "name": "stderr",
     "output_type": "stream",
     "text": [
      "/tmp/ipykernel_1432373/2319557713.py:13: RuntimeWarning: All-NaN axis encountered\n",
      "  np.nanmax([stack[idx:idx + twin], _data[iseg+1, :]], axis = 0)\n"
     ]
    },
    {
     "name": "stdout",
     "output_type": "stream",
     "text": [
      "[##################                      ] | 45% Completed | 12hr 42mAll prediction shape: (2, 5, 3599, 6000)\n",
      "[##################                      ] | 45% Completed | 12hr 46m578 P picks\n",
      "674 S picks\n",
      "[##################                      ] | 45% Completed | 12hr 46m"
     ]
    },
    {
     "name": "stderr",
     "output_type": "stream",
     "text": [
      "/tmp/ipykernel_1432373/2319557713.py:13: RuntimeWarning: All-NaN axis encountered\n",
      "  np.nanmax([stack[idx:idx + twin], _data[iseg+1, :]], axis = 0)\n"
     ]
    },
    {
     "name": "stdout",
     "output_type": "stream",
     "text": [
      "[##################                      ] | 46% Completed | 12hr 46mAll prediction shape: (2, 5, 1438, 6000)\n",
      "[##################                      ] | 46% Completed | 12hr 47m112 P picks\n",
      "76 S picks\n",
      "[##################                      ] | 46% Completed | 12hr 47m"
     ]
    },
    {
     "name": "stderr",
     "output_type": "stream",
     "text": [
      "/tmp/ipykernel_1432373/2319557713.py:13: RuntimeWarning: All-NaN axis encountered\n",
      "  np.nanmax([stack[idx:idx + twin], _data[iseg+1, :]], axis = 0)\n"
     ]
    },
    {
     "name": "stdout",
     "output_type": "stream",
     "text": [
      "[##################                      ] | 46% Completed | 12hr 47mAll prediction shape: (2, 5, 1439, 6000)\n",
      "[##################                      ] | 46% Completed | 12hr 48m64 P picks\n",
      "35 S picks\n",
      "[##################                      ] | 46% Completed | 12hr 48m"
     ]
    },
    {
     "name": "stderr",
     "output_type": "stream",
     "text": [
      "/tmp/ipykernel_1432373/2319557713.py:13: RuntimeWarning: All-NaN axis encountered\n",
      "  np.nanmax([stack[idx:idx + twin], _data[iseg+1, :]], axis = 0)\n"
     ]
    },
    {
     "name": "stdout",
     "output_type": "stream",
     "text": [
      "[##################                      ] | 46% Completed | 12hr 48mAll prediction shape: (2, 5, 1438, 6000)\n",
      "[##################                      ] | 46% Completed | 12hr 49m113 P picks\n",
      "25 S picks\n",
      "[##################                      ] | 46% Completed | 12hr 49m"
     ]
    },
    {
     "name": "stderr",
     "output_type": "stream",
     "text": [
      "/tmp/ipykernel_1432373/2319557713.py:13: RuntimeWarning: All-NaN axis encountered\n",
      "  np.nanmax([stack[idx:idx + twin], _data[iseg+1, :]], axis = 0)\n"
     ]
    },
    {
     "name": "stdout",
     "output_type": "stream",
     "text": [
      "[##################                      ] | 46% Completed | 12hr 49mAll prediction shape: (2, 5, 3599, 6000)\n",
      "[##################                      ] | 46% Completed | 12hr 53m464 P picks\n",
      "464 S picks\n"
     ]
    },
    {
     "name": "stderr",
     "output_type": "stream",
     "text": [
      "/tmp/ipykernel_1432373/2319557713.py:13: RuntimeWarning: All-NaN axis encountered\n",
      "  np.nanmax([stack[idx:idx + twin], _data[iseg+1, :]], axis = 0)\n"
     ]
    },
    {
     "name": "stdout",
     "output_type": "stream",
     "text": [
      "[##################                      ] | 46% Completed | 12hr 53mAll prediction shape: (2, 5, 1439, 6000)\n",
      "[##################                      ] | 46% Completed | 12hr 54m190 P picks\n",
      "85 S picks\n",
      "[##################                      ] | 47% Completed | 12hr 54m"
     ]
    },
    {
     "name": "stderr",
     "output_type": "stream",
     "text": [
      "/tmp/ipykernel_1432373/2319557713.py:13: RuntimeWarning: All-NaN axis encountered\n",
      "  np.nanmax([stack[idx:idx + twin], _data[iseg+1, :]], axis = 0)\n"
     ]
    },
    {
     "name": "stdout",
     "output_type": "stream",
     "text": [
      "[##################                      ] | 47% Completed | 12hr 54mAll prediction shape: (2, 5, 1439, 6000)\n",
      "[##################                      ] | 47% Completed | 12hr 55m38 P picks\n",
      "18 S picks\n",
      "[##################                      ] | 47% Completed | 12hr 55m"
     ]
    },
    {
     "name": "stderr",
     "output_type": "stream",
     "text": [
      "/tmp/ipykernel_1432373/2319557713.py:13: RuntimeWarning: All-NaN axis encountered\n",
      "  np.nanmax([stack[idx:idx + twin], _data[iseg+1, :]], axis = 0)\n"
     ]
    },
    {
     "name": "stdout",
     "output_type": "stream",
     "text": [
      "[##################                      ] | 47% Completed | 12hr 55mAll prediction shape: (2, 5, 3599, 6000)\n",
      "[##################                      ] | 47% Completed | 13hr 0mm564 P picks\n",
      "441 S picks\n"
     ]
    },
    {
     "name": "stderr",
     "output_type": "stream",
     "text": [
      "/tmp/ipykernel_1432373/2319557713.py:13: RuntimeWarning: All-NaN axis encountered\n",
      "  np.nanmax([stack[idx:idx + twin], _data[iseg+1, :]], axis = 0)\n"
     ]
    },
    {
     "name": "stdout",
     "output_type": "stream",
     "text": [
      "[##################                      ] | 47% Completed | 13hr 0mAll prediction shape: (2, 5, 1439, 6000)\n",
      "[##################                      ] | 47% Completed | 13hr 1m190 P picks\n",
      "66 S picks\n",
      "[###################                     ] | 47% Completed | 13hr 1m"
     ]
    },
    {
     "name": "stderr",
     "output_type": "stream",
     "text": [
      "/tmp/ipykernel_1432373/2319557713.py:13: RuntimeWarning: All-NaN axis encountered\n",
      "  np.nanmax([stack[idx:idx + twin], _data[iseg+1, :]], axis = 0)\n"
     ]
    },
    {
     "name": "stdout",
     "output_type": "stream",
     "text": [
      "[###################                     ] | 47% Completed | 13hr 1mAll prediction shape: (2, 5, 1439, 6000)\n",
      "[###################                     ] | 47% Completed | 13hr 1m50 P picks\n",
      "31 S picks\n",
      "[###################                     ] | 47% Completed | 13hr 1m"
     ]
    },
    {
     "name": "stderr",
     "output_type": "stream",
     "text": [
      "/tmp/ipykernel_1432373/2319557713.py:13: RuntimeWarning: All-NaN axis encountered\n",
      "  np.nanmax([stack[idx:idx + twin], _data[iseg+1, :]], axis = 0)\n"
     ]
    },
    {
     "name": "stdout",
     "output_type": "stream",
     "text": [
      "[###################                     ] | 47% Completed | 13hr 2mAll prediction shape: (2, 5, 3599, 6000)\n",
      "[###################                     ] | 47% Completed | 13hr 6m499 P picks\n",
      "573 S picks\n"
     ]
    },
    {
     "name": "stderr",
     "output_type": "stream",
     "text": [
      "/tmp/ipykernel_1432373/2319557713.py:13: RuntimeWarning: All-NaN axis encountered\n",
      "  np.nanmax([stack[idx:idx + twin], _data[iseg+1, :]], axis = 0)\n"
     ]
    },
    {
     "name": "stdout",
     "output_type": "stream",
     "text": [
      "[###################                     ] | 48% Completed | 13hr 6mAll prediction shape: (2, 5, 3599, 6000)\n",
      "[###################                     ] | 48% Completed | 13hr 10m473 P picks\n",
      "209 S picks\n",
      "[###################                     ] | 48% Completed | 13hr 10m"
     ]
    },
    {
     "name": "stderr",
     "output_type": "stream",
     "text": [
      "/tmp/ipykernel_1432373/2319557713.py:13: RuntimeWarning: All-NaN axis encountered\n",
      "  np.nanmax([stack[idx:idx + twin], _data[iseg+1, :]], axis = 0)\n"
     ]
    },
    {
     "name": "stdout",
     "output_type": "stream",
     "text": [
      "[###################                     ] | 48% Completed | 13hr 11mAll prediction shape: (2, 5, 3599, 6000)\n",
      "[###################                     ] | 48% Completed | 13hr 15m500 P picks\n",
      "213 S picks\n"
     ]
    },
    {
     "name": "stderr",
     "output_type": "stream",
     "text": [
      "/tmp/ipykernel_1432373/2319557713.py:13: RuntimeWarning: All-NaN axis encountered\n",
      "  np.nanmax([stack[idx:idx + twin], _data[iseg+1, :]], axis = 0)\n"
     ]
    },
    {
     "name": "stdout",
     "output_type": "stream",
     "text": [
      "[###################                     ] | 48% Completed | 13hr 15mAll prediction shape: (2, 5, 3598, 6000)\n",
      "[###################                     ] | 48% Completed | 13hr 19m56 P picks\n",
      "66 S picks\n"
     ]
    },
    {
     "name": "stderr",
     "output_type": "stream",
     "text": [
      "/tmp/ipykernel_1432373/2319557713.py:13: RuntimeWarning: All-NaN axis encountered\n",
      "  np.nanmax([stack[idx:idx + twin], _data[iseg+1, :]], axis = 0)\n"
     ]
    },
    {
     "name": "stdout",
     "output_type": "stream",
     "text": [
      "[###################                     ] | 48% Completed | 13hr 20mAll prediction shape: (2, 5, 3599, 6000)\n",
      "[###################                     ] | 48% Completed | 13hr 24m361 P picks\n",
      "469 S picks\n"
     ]
    },
    {
     "name": "stderr",
     "output_type": "stream",
     "text": [
      "/tmp/ipykernel_1432373/2319557713.py:13: RuntimeWarning: All-NaN axis encountered\n",
      "  np.nanmax([stack[idx:idx + twin], _data[iseg+1, :]], axis = 0)\n"
     ]
    },
    {
     "name": "stdout",
     "output_type": "stream",
     "text": [
      "[###################                     ] | 48% Completed | 13hr 24mAll prediction shape: (2, 5, 1439, 6000)\n",
      "[###################                     ] | 48% Completed | 13hr 25m49 P picks\n",
      "19 S picks\n",
      "[###################                     ] | 48% Completed | 13hr 25m"
     ]
    },
    {
     "name": "stderr",
     "output_type": "stream",
     "text": [
      "/tmp/ipykernel_1432373/2319557713.py:13: RuntimeWarning: All-NaN axis encountered\n",
      "  np.nanmax([stack[idx:idx + twin], _data[iseg+1, :]], axis = 0)\n"
     ]
    },
    {
     "name": "stdout",
     "output_type": "stream",
     "text": [
      "[###################                     ] | 48% Completed | 13hr 25mAll prediction shape: (2, 5, 3599, 6000)\n",
      "[###################                     ] | 48% Completed | 13hr 29m198 P picks\n",
      "435 S picks\n",
      "[###################                     ] | 49% Completed | 13hr 29m"
     ]
    },
    {
     "name": "stderr",
     "output_type": "stream",
     "text": [
      "/tmp/ipykernel_1432373/2319557713.py:13: RuntimeWarning: All-NaN axis encountered\n",
      "  np.nanmax([stack[idx:idx + twin], _data[iseg+1, :]], axis = 0)\n"
     ]
    },
    {
     "name": "stdout",
     "output_type": "stream",
     "text": [
      "[###################                     ] | 49% Completed | 13hr 29mAll prediction shape: (2, 5, 1439, 6000)\n",
      "[###################                     ] | 49% Completed | 13hr 30m122 P picks\n",
      "25 S picks\n",
      "[###################                     ] | 49% Completed | 13hr 30m"
     ]
    },
    {
     "name": "stderr",
     "output_type": "stream",
     "text": [
      "/tmp/ipykernel_1432373/2319557713.py:13: RuntimeWarning: All-NaN axis encountered\n",
      "  np.nanmax([stack[idx:idx + twin], _data[iseg+1, :]], axis = 0)\n"
     ]
    },
    {
     "name": "stdout",
     "output_type": "stream",
     "text": [
      "[###################                     ] | 49% Completed | 13hr 31mAll prediction shape: (2, 5, 3599, 6000)\n",
      "[###################                     ] | 49% Completed | 13hr 35m437 P picks\n",
      "190 S picks\n",
      "[###################                     ] | 49% Completed | 13hr 35m"
     ]
    },
    {
     "name": "stderr",
     "output_type": "stream",
     "text": [
      "/tmp/ipykernel_1432373/2319557713.py:13: RuntimeWarning: All-NaN axis encountered\n",
      "  np.nanmax([stack[idx:idx + twin], _data[iseg+1, :]], axis = 0)\n"
     ]
    },
    {
     "name": "stdout",
     "output_type": "stream",
     "text": [
      "[###################                     ] | 49% Completed | 13hr 35mAll prediction shape: (2, 5, 1439, 6000)\n",
      "[###################                     ] | 49% Completed | 13hr 36m17 P picks\n",
      "15 S picks\n",
      "[###################                     ] | 49% Completed | 13hr 36m"
     ]
    },
    {
     "name": "stderr",
     "output_type": "stream",
     "text": [
      "/tmp/ipykernel_1432373/2319557713.py:13: RuntimeWarning: All-NaN axis encountered\n",
      "  np.nanmax([stack[idx:idx + twin], _data[iseg+1, :]], axis = 0)\n"
     ]
    },
    {
     "name": "stdout",
     "output_type": "stream",
     "text": [
      "[###################                     ] | 49% Completed | 13hr 36mAll prediction shape: (2, 5, 3599, 6000)\n",
      "[###################                     ] | 49% Completed | 13hr 40m210 P picks\n",
      "429 S picks\n"
     ]
    },
    {
     "name": "stderr",
     "output_type": "stream",
     "text": [
      "/tmp/ipykernel_1432373/2319557713.py:13: RuntimeWarning: All-NaN axis encountered\n",
      "  np.nanmax([stack[idx:idx + twin], _data[iseg+1, :]], axis = 0)\n"
     ]
    },
    {
     "name": "stdout",
     "output_type": "stream",
     "text": [
      "[###################                     ] | 49% Completed | 13hr 41mAll prediction shape: (2, 5, 3598, 6000)\n",
      "[###################                     ] | 49% Completed | 13hr 45m178 P picks\n",
      "135 S picks\n"
     ]
    },
    {
     "name": "stderr",
     "output_type": "stream",
     "text": [
      "/tmp/ipykernel_1432373/2319557713.py:13: RuntimeWarning: All-NaN axis encountered\n",
      "  np.nanmax([stack[idx:idx + twin], _data[iseg+1, :]], axis = 0)\n"
     ]
    },
    {
     "name": "stdout",
     "output_type": "stream",
     "text": [
      "[####################                    ] | 50% Completed | 13hr 45mAll prediction shape: (2, 5, 3599, 6000)\n",
      "[####################                    ] | 50% Completed | 13hr 49m455 P picks\n",
      "445 S picks\n",
      "[####################                    ] | 50% Completed | 13hr 49m"
     ]
    },
    {
     "name": "stderr",
     "output_type": "stream",
     "text": [
      "/tmp/ipykernel_1432373/2319557713.py:13: RuntimeWarning: All-NaN axis encountered\n",
      "  np.nanmax([stack[idx:idx + twin], _data[iseg+1, :]], axis = 0)\n"
     ]
    },
    {
     "name": "stdout",
     "output_type": "stream",
     "text": [
      "[####################                    ] | 50% Completed | 13hr 49mAll prediction shape: (2, 5, 1439, 6000)\n",
      "[####################                    ] | 50% Completed | 13hr 50m137 P picks\n",
      "111 S picks\n",
      "[####################                    ] | 50% Completed | 13hr 50m"
     ]
    },
    {
     "name": "stderr",
     "output_type": "stream",
     "text": [
      "/tmp/ipykernel_1432373/2319557713.py:13: RuntimeWarning: All-NaN axis encountered\n",
      "  np.nanmax([stack[idx:idx + twin], _data[iseg+1, :]], axis = 0)\n"
     ]
    },
    {
     "name": "stdout",
     "output_type": "stream",
     "text": [
      "[####################                    ] | 50% Completed | 13hr 50mAll prediction shape: (2, 5, 3599, 6000)\n",
      "[####################                    ] | 50% Completed | 13hr 55m485 P picks\n",
      "325 S picks\n"
     ]
    },
    {
     "name": "stderr",
     "output_type": "stream",
     "text": [
      "/tmp/ipykernel_1432373/2319557713.py:13: RuntimeWarning: All-NaN axis encountered\n",
      "  np.nanmax([stack[idx:idx + twin], _data[iseg+1, :]], axis = 0)\n"
     ]
    },
    {
     "name": "stdout",
     "output_type": "stream",
     "text": [
      "[####################                    ] | 50% Completed | 13hr 55mAll prediction shape: (2, 5, 3599, 6000)\n",
      "[####################                    ] | 50% Completed | 13hr 59m476 P picks\n",
      "291 S picks\n"
     ]
    },
    {
     "name": "stderr",
     "output_type": "stream",
     "text": [
      "/tmp/ipykernel_1432373/2319557713.py:13: RuntimeWarning: All-NaN axis encountered\n",
      "  np.nanmax([stack[idx:idx + twin], _data[iseg+1, :]], axis = 0)\n"
     ]
    },
    {
     "name": "stdout",
     "output_type": "stream",
     "text": [
      "[####################                    ] | 50% Completed | 13hr 59mAll prediction shape: (2, 5, 3598, 6000)\n",
      "[####################                    ] | 50% Completed | 14hr 4mm141 P picks\n",
      "98 S picks\n",
      "[####################                    ] | 51% Completed | 14hr 4m"
     ]
    },
    {
     "name": "stderr",
     "output_type": "stream",
     "text": [
      "/tmp/ipykernel_1432373/2319557713.py:13: RuntimeWarning: All-NaN axis encountered\n",
      "  np.nanmax([stack[idx:idx + twin], _data[iseg+1, :]], axis = 0)\n"
     ]
    },
    {
     "name": "stdout",
     "output_type": "stream",
     "text": [
      "[####################                    ] | 51% Completed | 14hr 4mAll prediction shape: (2, 5, 3599, 6000)\n",
      "[####################                    ] | 51% Completed | 14hr 8m351 P picks\n",
      "833 S picks\n"
     ]
    },
    {
     "name": "stderr",
     "output_type": "stream",
     "text": [
      "/tmp/ipykernel_1432373/2319557713.py:13: RuntimeWarning: All-NaN axis encountered\n",
      "  np.nanmax([stack[idx:idx + twin], _data[iseg+1, :]], axis = 0)\n"
     ]
    },
    {
     "name": "stdout",
     "output_type": "stream",
     "text": [
      "[####################                    ] | 51% Completed | 14hr 8mAll prediction shape: (2, 5, 3598, 6000)\n",
      "[####################                    ] | 51% Completed | 14hr 13m491 P picks\n",
      "368 S picks\n"
     ]
    },
    {
     "name": "stderr",
     "output_type": "stream",
     "text": [
      "/tmp/ipykernel_1432373/2319557713.py:13: RuntimeWarning: All-NaN axis encountered\n",
      "  np.nanmax([stack[idx:idx + twin], _data[iseg+1, :]], axis = 0)\n"
     ]
    },
    {
     "name": "stdout",
     "output_type": "stream",
     "text": [
      "[####################                    ] | 51% Completed | 14hr 13mAll prediction shape: (2, 5, 1439, 6000)\n",
      "[####################                    ] | 51% Completed | 14hr 14m42 P picks\n",
      "18 S picks\n",
      "[####################                    ] | 51% Completed | 14hr 14m"
     ]
    },
    {
     "name": "stderr",
     "output_type": "stream",
     "text": [
      "/tmp/ipykernel_1432373/2319557713.py:13: RuntimeWarning: All-NaN axis encountered\n",
      "  np.nanmax([stack[idx:idx + twin], _data[iseg+1, :]], axis = 0)\n"
     ]
    },
    {
     "name": "stdout",
     "output_type": "stream",
     "text": [
      "[####################                    ] | 51% Completed | 14hr 14mAll prediction shape: (2, 5, 3599, 6000)\n",
      "[####################                    ] | 51% Completed | 14hr 18m329 P picks\n",
      "750 S picks\n"
     ]
    },
    {
     "name": "stderr",
     "output_type": "stream",
     "text": [
      "/tmp/ipykernel_1432373/2319557713.py:13: RuntimeWarning: All-NaN axis encountered\n",
      "  np.nanmax([stack[idx:idx + twin], _data[iseg+1, :]], axis = 0)\n"
     ]
    },
    {
     "name": "stdout",
     "output_type": "stream",
     "text": [
      "[####################                    ] | 51% Completed | 14hr 18mAll prediction shape: (2, 5, 1439, 6000)\n",
      "[####################                    ] | 51% Completed | 14hr 19m184 P picks\n",
      "58 S picks\n",
      "[####################                    ] | 51% Completed | 14hr 19m"
     ]
    },
    {
     "name": "stderr",
     "output_type": "stream",
     "text": [
      "/tmp/ipykernel_1432373/2319557713.py:13: RuntimeWarning: All-NaN axis encountered\n",
      "  np.nanmax([stack[idx:idx + twin], _data[iseg+1, :]], axis = 0)\n"
     ]
    },
    {
     "name": "stdout",
     "output_type": "stream",
     "text": [
      "[####################                    ] | 51% Completed | 14hr 19mAll prediction shape: (2, 5, 3599, 6000)\n",
      "[####################                    ] | 51% Completed | 14hr 23m53 P picks\n",
      "36 S picks\n"
     ]
    },
    {
     "name": "stderr",
     "output_type": "stream",
     "text": [
      "/tmp/ipykernel_1432373/2319557713.py:13: RuntimeWarning: All-NaN axis encountered\n",
      "  np.nanmax([stack[idx:idx + twin], _data[iseg+1, :]], axis = 0)\n"
     ]
    },
    {
     "name": "stdout",
     "output_type": "stream",
     "text": [
      "[####################                    ] | 52% Completed | 14hr 24mAll prediction shape: (2, 5, 1439, 6000)\n",
      "[####################                    ] | 52% Completed | 14hr 24m198 P picks\n",
      "82 S picks\n",
      "[####################                    ] | 52% Completed | 14hr 24m"
     ]
    },
    {
     "name": "stderr",
     "output_type": "stream",
     "text": [
      "/tmp/ipykernel_1432373/2319557713.py:13: RuntimeWarning: All-NaN axis encountered\n",
      "  np.nanmax([stack[idx:idx + twin], _data[iseg+1, :]], axis = 0)\n"
     ]
    },
    {
     "name": "stdout",
     "output_type": "stream",
     "text": [
      "[####################                    ] | 52% Completed | 14hr 25mAll prediction shape: (2, 5, 1439, 6000)\n",
      "[####################                    ] | 52% Completed | 14hr 25m103 P picks\n",
      "83 S picks\n",
      "[#####################                   ] | 52% Completed | 14hr 25m"
     ]
    },
    {
     "name": "stderr",
     "output_type": "stream",
     "text": [
      "/tmp/ipykernel_1432373/2319557713.py:13: RuntimeWarning: All-NaN axis encountered\n",
      "  np.nanmax([stack[idx:idx + twin], _data[iseg+1, :]], axis = 0)\n"
     ]
    },
    {
     "name": "stdout",
     "output_type": "stream",
     "text": [
      "[#####################                   ] | 52% Completed | 14hr 26mAll prediction shape: (2, 5, 3599, 6000)\n",
      "[#####################                   ] | 52% Completed | 14hr 30m513 P picks\n",
      "221 S picks\n"
     ]
    },
    {
     "name": "stderr",
     "output_type": "stream",
     "text": [
      "/tmp/ipykernel_1432373/2319557713.py:13: RuntimeWarning: All-NaN axis encountered\n",
      "  np.nanmax([stack[idx:idx + twin], _data[iseg+1, :]], axis = 0)\n"
     ]
    },
    {
     "name": "stdout",
     "output_type": "stream",
     "text": [
      "[#####################                   ] | 52% Completed | 14hr 30mAll prediction shape: (2, 5, 3599, 6000)\n",
      "[#####################                   ] | 52% Completed | 14hr 34m196 P picks\n",
      "394 S picks\n"
     ]
    },
    {
     "name": "stderr",
     "output_type": "stream",
     "text": [
      "/tmp/ipykernel_1432373/2319557713.py:13: RuntimeWarning: All-NaN axis encountered\n",
      "  np.nanmax([stack[idx:idx + twin], _data[iseg+1, :]], axis = 0)\n"
     ]
    },
    {
     "name": "stdout",
     "output_type": "stream",
     "text": [
      "[#####################                   ] | 52% Completed | 14hr 35mAll prediction shape: (2, 5, 3599, 6000)\n",
      "[#####################                   ] | 52% Completed | 14hr 39m598 P picks\n",
      "217 S picks\n"
     ]
    },
    {
     "name": "stderr",
     "output_type": "stream",
     "text": [
      "/tmp/ipykernel_1432373/2319557713.py:13: RuntimeWarning: All-NaN axis encountered\n",
      "  np.nanmax([stack[idx:idx + twin], _data[iseg+1, :]], axis = 0)\n"
     ]
    },
    {
     "name": "stdout",
     "output_type": "stream",
     "text": [
      "[#####################                   ] | 53% Completed | 14hr 39mAll prediction shape: (2, 5, 3599, 6000)\n",
      "[#####################                   ] | 53% Completed | 14hr 43m546 P picks\n",
      "214 S picks\n",
      "[#####################                   ] | 53% Completed | 14hr 43m"
     ]
    },
    {
     "name": "stderr",
     "output_type": "stream",
     "text": [
      "/tmp/ipykernel_1432373/2319557713.py:13: RuntimeWarning: All-NaN axis encountered\n",
      "  np.nanmax([stack[idx:idx + twin], _data[iseg+1, :]], axis = 0)\n"
     ]
    },
    {
     "name": "stdout",
     "output_type": "stream",
     "text": [
      "[#####################                   ] | 53% Completed | 14hr 44mAll prediction shape: (2, 5, 3599, 6000)\n",
      "[#####################                   ] | 53% Completed | 14hr 48m494 P picks\n",
      "547 S picks\n"
     ]
    },
    {
     "name": "stderr",
     "output_type": "stream",
     "text": [
      "/tmp/ipykernel_1432373/2319557713.py:13: RuntimeWarning: All-NaN axis encountered\n",
      "  np.nanmax([stack[idx:idx + twin], _data[iseg+1, :]], axis = 0)\n"
     ]
    },
    {
     "name": "stdout",
     "output_type": "stream",
     "text": [
      "[#####################                   ] | 53% Completed | 14hr 48mAll prediction shape: (2, 5, 3598, 6000)\n",
      "[#####################                   ] | 53% Completed | 14hr 52m462 P picks\n",
      "484 S picks\n",
      "[#####################                   ] | 53% Completed | 14hr 52m"
     ]
    },
    {
     "name": "stderr",
     "output_type": "stream",
     "text": [
      "/tmp/ipykernel_1432373/2319557713.py:13: RuntimeWarning: All-NaN axis encountered\n",
      "  np.nanmax([stack[idx:idx + twin], _data[iseg+1, :]], axis = 0)\n"
     ]
    },
    {
     "name": "stdout",
     "output_type": "stream",
     "text": [
      "[#####################                   ] | 53% Completed | 14hr 53mAll prediction shape: (2, 5, 1439, 6000)\n",
      "[#####################                   ] | 53% Completed | 14hr 53m72 P picks\n",
      "20 S picks\n",
      "[#####################                   ] | 53% Completed | 14hr 53m"
     ]
    },
    {
     "name": "stderr",
     "output_type": "stream",
     "text": [
      "/tmp/ipykernel_1432373/2319557713.py:13: RuntimeWarning: All-NaN axis encountered\n",
      "  np.nanmax([stack[idx:idx + twin], _data[iseg+1, :]], axis = 0)\n"
     ]
    },
    {
     "name": "stdout",
     "output_type": "stream",
     "text": [
      "[#####################                   ] | 53% Completed | 14hr 54mAll prediction shape: (2, 5, 3599, 6000)\n",
      "[#####################                   ] | 53% Completed | 14hr 58m81 P picks\n",
      "63 S picks\n"
     ]
    },
    {
     "name": "stderr",
     "output_type": "stream",
     "text": [
      "/tmp/ipykernel_1432373/2319557713.py:13: RuntimeWarning: All-NaN axis encountered\n",
      "  np.nanmax([stack[idx:idx + twin], _data[iseg+1, :]], axis = 0)\n"
     ]
    },
    {
     "name": "stdout",
     "output_type": "stream",
     "text": [
      "[#####################                   ] | 54% Completed | 14hr 58mAll prediction shape: (2, 5, 3599, 6000)\n",
      "[#####################                   ] | 54% Completed | 15hr 2mm479 P picks\n",
      "648 S picks\n"
     ]
    },
    {
     "name": "stderr",
     "output_type": "stream",
     "text": [
      "/tmp/ipykernel_1432373/2319557713.py:13: RuntimeWarning: All-NaN axis encountered\n",
      "  np.nanmax([stack[idx:idx + twin], _data[iseg+1, :]], axis = 0)\n"
     ]
    },
    {
     "name": "stdout",
     "output_type": "stream",
     "text": [
      "[#####################                   ] | 54% Completed | 15hr 3mAll prediction shape: (2, 5, 3599, 6000)\n",
      "[#####################                   ] | 54% Completed | 15hr 7m490 P picks\n",
      "295 S picks\n"
     ]
    },
    {
     "name": "stderr",
     "output_type": "stream",
     "text": [
      "/tmp/ipykernel_1432373/2319557713.py:13: RuntimeWarning: All-NaN axis encountered\n",
      "  np.nanmax([stack[idx:idx + twin], _data[iseg+1, :]], axis = 0)\n"
     ]
    },
    {
     "name": "stdout",
     "output_type": "stream",
     "text": [
      "[#####################                   ] | 54% Completed | 15hr 7mAll prediction shape: (2, 5, 3599, 6000)\n",
      "[#####################                   ] | 54% Completed | 15hr 12m491 P picks\n",
      "602 S picks\n"
     ]
    },
    {
     "name": "stderr",
     "output_type": "stream",
     "text": [
      "/tmp/ipykernel_1432373/2319557713.py:13: RuntimeWarning: All-NaN axis encountered\n",
      "  np.nanmax([stack[idx:idx + twin], _data[iseg+1, :]], axis = 0)\n"
     ]
    },
    {
     "name": "stdout",
     "output_type": "stream",
     "text": [
      "[#####################                   ] | 54% Completed | 15hr 12mAll prediction shape: (2, 5, 3598, 6000)\n",
      "[#####################                   ] | 54% Completed | 15hr 16m265 P picks\n",
      "463 S picks\n",
      "[#####################                   ] | 54% Completed | 15hr 16m"
     ]
    },
    {
     "name": "stderr",
     "output_type": "stream",
     "text": [
      "/tmp/ipykernel_1432373/2319557713.py:13: RuntimeWarning: All-NaN axis encountered\n",
      "  np.nanmax([stack[idx:idx + twin], _data[iseg+1, :]], axis = 0)\n"
     ]
    },
    {
     "name": "stdout",
     "output_type": "stream",
     "text": [
      "[#####################                   ] | 54% Completed | 15hr 16mAll prediction shape: (2, 5, 3599, 6000)\n",
      "[#####################                   ] | 54% Completed | 15hr 21m500 P picks\n",
      "201 S picks\n"
     ]
    },
    {
     "name": "stderr",
     "output_type": "stream",
     "text": [
      "/tmp/ipykernel_1432373/2319557713.py:13: RuntimeWarning: All-NaN axis encountered\n",
      "  np.nanmax([stack[idx:idx + twin], _data[iseg+1, :]], axis = 0)\n"
     ]
    },
    {
     "name": "stdout",
     "output_type": "stream",
     "text": [
      "[######################                  ] | 55% Completed | 15hr 21mAll prediction shape: (2, 5, 3599, 6000)\n",
      "[######################                  ] | 55% Completed | 15hr 25m373 P picks\n",
      "271 S picks\n",
      "[######################                  ] | 55% Completed | 15hr 25m"
     ]
    },
    {
     "name": "stderr",
     "output_type": "stream",
     "text": [
      "/tmp/ipykernel_1432373/2319557713.py:13: RuntimeWarning: All-NaN axis encountered\n",
      "  np.nanmax([stack[idx:idx + twin], _data[iseg+1, :]], axis = 0)\n"
     ]
    },
    {
     "name": "stdout",
     "output_type": "stream",
     "text": [
      "[######################                  ] | 55% Completed | 15hr 25mAll prediction shape: (2, 5, 3599, 6000)\n",
      "[######################                  ] | 55% Completed | 15hr 30m561 P picks\n",
      "260 S picks\n"
     ]
    },
    {
     "name": "stderr",
     "output_type": "stream",
     "text": [
      "/tmp/ipykernel_1432373/2319557713.py:13: RuntimeWarning: All-NaN axis encountered\n",
      "  np.nanmax([stack[idx:idx + twin], _data[iseg+1, :]], axis = 0)\n"
     ]
    },
    {
     "name": "stdout",
     "output_type": "stream",
     "text": [
      "[######################                  ] | 55% Completed | 15hr 30mAll prediction shape: (2, 5, 3599, 6000)\n",
      "[######################                  ] | 55% Completed | 15hr 34m444 P picks\n",
      "198 S picks\n",
      "[######################                  ] | 55% Completed | 15hr 34m"
     ]
    },
    {
     "name": "stderr",
     "output_type": "stream",
     "text": [
      "/tmp/ipykernel_1432373/2319557713.py:13: RuntimeWarning: All-NaN axis encountered\n",
      "  np.nanmax([stack[idx:idx + twin], _data[iseg+1, :]], axis = 0)\n"
     ]
    },
    {
     "name": "stdout",
     "output_type": "stream",
     "text": [
      "[######################                  ] | 55% Completed | 15hr 34mAll prediction shape: (2, 5, 1439, 6000)\n",
      "[######################                  ] | 55% Completed | 15hr 35m113 P picks\n",
      "20 S picks\n",
      "[######################                  ] | 55% Completed | 15hr 35m"
     ]
    },
    {
     "name": "stderr",
     "output_type": "stream",
     "text": [
      "/tmp/ipykernel_1432373/2319557713.py:13: RuntimeWarning: All-NaN axis encountered\n",
      "  np.nanmax([stack[idx:idx + twin], _data[iseg+1, :]], axis = 0)\n"
     ]
    },
    {
     "name": "stdout",
     "output_type": "stream",
     "text": [
      "[######################                  ] | 55% Completed | 15hr 35mAll prediction shape: (2, 5, 3599, 6000)\n",
      "[######################                  ] | 55% Completed | 15hr 40m471 P picks\n",
      "290 S picks\n"
     ]
    },
    {
     "name": "stderr",
     "output_type": "stream",
     "text": [
      "/tmp/ipykernel_1432373/2319557713.py:13: RuntimeWarning: All-NaN axis encountered\n",
      "  np.nanmax([stack[idx:idx + twin], _data[iseg+1, :]], axis = 0)\n"
     ]
    },
    {
     "name": "stdout",
     "output_type": "stream",
     "text": [
      "[######################                  ] | 55% Completed | 15hr 40mAll prediction shape: (2, 5, 1439, 6000)\n",
      "[######################                  ] | 55% Completed | 15hr 41m72 P picks\n",
      "59 S picks\n",
      "[######################                  ] | 56% Completed | 15hr 41m"
     ]
    },
    {
     "name": "stderr",
     "output_type": "stream",
     "text": [
      "/tmp/ipykernel_1432373/2319557713.py:13: RuntimeWarning: All-NaN axis encountered\n",
      "  np.nanmax([stack[idx:idx + twin], _data[iseg+1, :]], axis = 0)\n"
     ]
    },
    {
     "name": "stdout",
     "output_type": "stream",
     "text": [
      "[######################                  ] | 56% Completed | 15hr 41mAll prediction shape: (2, 5, 3599, 6000)\n",
      "[######################                  ] | 56% Completed | 15hr 45m580 P picks\n",
      "722 S picks\n"
     ]
    },
    {
     "name": "stderr",
     "output_type": "stream",
     "text": [
      "/tmp/ipykernel_1432373/2319557713.py:13: RuntimeWarning: All-NaN axis encountered\n",
      "  np.nanmax([stack[idx:idx + twin], _data[iseg+1, :]], axis = 0)\n"
     ]
    },
    {
     "name": "stdout",
     "output_type": "stream",
     "text": [
      "[######################                  ] | 56% Completed | 15hr 45mAll prediction shape: (2, 5, 3598, 6000)\n",
      "[######################                  ] | 56% Completed | 15hr 49m544 P picks\n",
      "749 S picks\n",
      "[######################                  ] | 56% Completed | 15hr 49m"
     ]
    },
    {
     "name": "stderr",
     "output_type": "stream",
     "text": [
      "/tmp/ipykernel_1432373/2319557713.py:13: RuntimeWarning: All-NaN axis encountered\n",
      "  np.nanmax([stack[idx:idx + twin], _data[iseg+1, :]], axis = 0)\n"
     ]
    },
    {
     "name": "stdout",
     "output_type": "stream",
     "text": [
      "[######################                  ] | 56% Completed | 15hr 50mAll prediction shape: (2, 5, 1438, 6000)\n",
      "[######################                  ] | 56% Completed | 15hr 50m168 P picks\n",
      "59 S picks\n",
      "[######################                  ] | 56% Completed | 15hr 50m"
     ]
    },
    {
     "name": "stderr",
     "output_type": "stream",
     "text": [
      "/tmp/ipykernel_1432373/2319557713.py:13: RuntimeWarning: All-NaN axis encountered\n",
      "  np.nanmax([stack[idx:idx + twin], _data[iseg+1, :]], axis = 0)\n"
     ]
    },
    {
     "name": "stdout",
     "output_type": "stream",
     "text": [
      "[######################                  ] | 56% Completed | 15hr 51mAll prediction shape: (2, 5, 1439, 6000)\n",
      "[######################                  ] | 56% Completed | 15hr 51m31 P picks\n",
      "13 S picks\n",
      "[######################                  ] | 56% Completed | 15hr 51m"
     ]
    },
    {
     "name": "stderr",
     "output_type": "stream",
     "text": [
      "/tmp/ipykernel_1432373/2319557713.py:13: RuntimeWarning: All-NaN axis encountered\n",
      "  np.nanmax([stack[idx:idx + twin], _data[iseg+1, :]], axis = 0)\n"
     ]
    },
    {
     "name": "stdout",
     "output_type": "stream",
     "text": [
      "[######################                  ] | 56% Completed | 15hr 52mAll prediction shape: (2, 5, 3598, 6000)\n",
      "[######################                  ] | 56% Completed | 15hr 56m170 P picks\n",
      "147 S picks\n"
     ]
    },
    {
     "name": "stderr",
     "output_type": "stream",
     "text": [
      "/tmp/ipykernel_1432373/2319557713.py:13: RuntimeWarning: All-NaN axis encountered\n",
      "  np.nanmax([stack[idx:idx + twin], _data[iseg+1, :]], axis = 0)\n"
     ]
    },
    {
     "name": "stdout",
     "output_type": "stream",
     "text": [
      "[######################                  ] | 57% Completed | 15hr 56mAll prediction shape: (2, 5, 3599, 6000)\n",
      "[######################                  ] | 57% Completed | 16hr 0mm229 P picks\n",
      "170 S picks\n"
     ]
    },
    {
     "name": "stderr",
     "output_type": "stream",
     "text": [
      "/tmp/ipykernel_1432373/2319557713.py:13: RuntimeWarning: All-NaN axis encountered\n",
      "  np.nanmax([stack[idx:idx + twin], _data[iseg+1, :]], axis = 0)\n"
     ]
    },
    {
     "name": "stdout",
     "output_type": "stream",
     "text": [
      "[######################                  ] | 57% Completed | 16hr 1mAll prediction shape: (2, 5, 3598, 6000)\n",
      "[######################                  ] | 57% Completed | 16hr 5m563 P picks\n",
      "413 S picks\n"
     ]
    },
    {
     "name": "stderr",
     "output_type": "stream",
     "text": [
      "/tmp/ipykernel_1432373/2319557713.py:13: RuntimeWarning: All-NaN axis encountered\n",
      "  np.nanmax([stack[idx:idx + twin], _data[iseg+1, :]], axis = 0)\n"
     ]
    },
    {
     "name": "stdout",
     "output_type": "stream",
     "text": [
      "[######################                  ] | 57% Completed | 16hr 5mAll prediction shape: (2, 5, 1439, 6000)\n",
      "[######################                  ] | 57% Completed | 16hr 6m61 P picks\n",
      "24 S picks\n",
      "[#######################                 ] | 57% Completed | 16hr 6m"
     ]
    },
    {
     "name": "stderr",
     "output_type": "stream",
     "text": [
      "/tmp/ipykernel_1432373/2319557713.py:13: RuntimeWarning: All-NaN axis encountered\n",
      "  np.nanmax([stack[idx:idx + twin], _data[iseg+1, :]], axis = 0)\n"
     ]
    },
    {
     "name": "stdout",
     "output_type": "stream",
     "text": [
      "[#######################                 ] | 57% Completed | 16hr 6mAll prediction shape: (2, 5, 1439, 6000)\n",
      "[#######################                 ] | 57% Completed | 16hr 7m61 P picks\n",
      "21 S picks\n",
      "[#######################                 ] | 57% Completed | 16hr 7m"
     ]
    },
    {
     "name": "stderr",
     "output_type": "stream",
     "text": [
      "/tmp/ipykernel_1432373/2319557713.py:13: RuntimeWarning: All-NaN axis encountered\n",
      "  np.nanmax([stack[idx:idx + twin], _data[iseg+1, :]], axis = 0)\n"
     ]
    },
    {
     "name": "stdout",
     "output_type": "stream",
     "text": [
      "[#######################                 ] | 57% Completed | 16hr 7mAll prediction shape: (2, 5, 3598, 6000)\n",
      "[#######################                 ] | 57% Completed | 16hr 11m179 P picks\n",
      "134 S picks\n",
      "[#######################                 ] | 58% Completed | 16hr 11m"
     ]
    },
    {
     "name": "stderr",
     "output_type": "stream",
     "text": [
      "/tmp/ipykernel_1432373/2319557713.py:13: RuntimeWarning: All-NaN axis encountered\n",
      "  np.nanmax([stack[idx:idx + twin], _data[iseg+1, :]], axis = 0)\n"
     ]
    },
    {
     "name": "stdout",
     "output_type": "stream",
     "text": [
      "[#######################                 ] | 58% Completed | 16hr 12mAll prediction shape: (2, 5, 3599, 6000)\n",
      "[#######################                 ] | 58% Completed | 16hr 16m641 P picks\n",
      "519 S picks\n"
     ]
    },
    {
     "name": "stderr",
     "output_type": "stream",
     "text": [
      "/tmp/ipykernel_1432373/2319557713.py:13: RuntimeWarning: All-NaN axis encountered\n",
      "  np.nanmax([stack[idx:idx + twin], _data[iseg+1, :]], axis = 0)\n"
     ]
    },
    {
     "name": "stdout",
     "output_type": "stream",
     "text": [
      "[#######################                 ] | 58% Completed | 16hr 16mAll prediction shape: (2, 5, 3599, 6000)\n",
      "[#######################                 ] | 58% Completed | 16hr 20m457 P picks\n",
      "585 S picks\n",
      "[#######################                 ] | 58% Completed | 16hr 20m"
     ]
    },
    {
     "name": "stderr",
     "output_type": "stream",
     "text": [
      "/tmp/ipykernel_1432373/2319557713.py:13: RuntimeWarning: All-NaN axis encountered\n",
      "  np.nanmax([stack[idx:idx + twin], _data[iseg+1, :]], axis = 0)\n"
     ]
    },
    {
     "name": "stdout",
     "output_type": "stream",
     "text": [
      "[#######################                 ] | 58% Completed | 16hr 20mAll prediction shape: (2, 5, 1439, 6000)\n",
      "[#######################                 ] | 58% Completed | 16hr 21m257 P picks\n",
      "246 S picks\n",
      "[#######################                 ] | 58% Completed | 16hr 21m"
     ]
    },
    {
     "name": "stderr",
     "output_type": "stream",
     "text": [
      "/tmp/ipykernel_1432373/2319557713.py:13: RuntimeWarning: All-NaN axis encountered\n",
      "  np.nanmax([stack[idx:idx + twin], _data[iseg+1, :]], axis = 0)\n"
     ]
    },
    {
     "name": "stdout",
     "output_type": "stream",
     "text": [
      "[#######################                 ] | 58% Completed | 16hr 21mAll prediction shape: (2, 5, 3599, 6000)\n",
      "[#######################                 ] | 58% Completed | 16hr 26m423 P picks\n",
      "111 S picks\n",
      "[#######################                 ] | 58% Completed | 16hr 26m"
     ]
    },
    {
     "name": "stderr",
     "output_type": "stream",
     "text": [
      "/tmp/ipykernel_1432373/2319557713.py:13: RuntimeWarning: All-NaN axis encountered\n",
      "  np.nanmax([stack[idx:idx + twin], _data[iseg+1, :]], axis = 0)\n"
     ]
    },
    {
     "name": "stdout",
     "output_type": "stream",
     "text": [
      "[#######################                 ] | 58% Completed | 16hr 26mAll prediction shape: (2, 5, 3598, 6000)\n",
      "[#######################                 ] | 58% Completed | 16hr 30m269 P picks\n",
      "463 S picks\n",
      "[#######################                 ] | 58% Completed | 16hr 30m"
     ]
    },
    {
     "name": "stderr",
     "output_type": "stream",
     "text": [
      "/tmp/ipykernel_1432373/2319557713.py:13: RuntimeWarning: All-NaN axis encountered\n",
      "  np.nanmax([stack[idx:idx + twin], _data[iseg+1, :]], axis = 0)\n"
     ]
    },
    {
     "name": "stdout",
     "output_type": "stream",
     "text": [
      "[#######################                 ] | 59% Completed | 16hr 30mAll prediction shape: (2, 5, 1439, 6000)\n",
      "[#######################                 ] | 59% Completed | 16hr 31m47 P picks\n",
      "17 S picks\n",
      "[#######################                 ] | 59% Completed | 16hr 31m"
     ]
    },
    {
     "name": "stderr",
     "output_type": "stream",
     "text": [
      "/tmp/ipykernel_1432373/2319557713.py:13: RuntimeWarning: All-NaN axis encountered\n",
      "  np.nanmax([stack[idx:idx + twin], _data[iseg+1, :]], axis = 0)\n"
     ]
    },
    {
     "name": "stdout",
     "output_type": "stream",
     "text": [
      "[#######################                 ] | 59% Completed | 16hr 31mAll prediction shape: (2, 5, 1439, 6000)\n",
      "[#######################                 ] | 59% Completed | 16hr 32m45 P picks\n",
      "30 S picks\n",
      "[#######################                 ] | 59% Completed | 16hr 32m"
     ]
    },
    {
     "name": "stderr",
     "output_type": "stream",
     "text": [
      "/tmp/ipykernel_1432373/2319557713.py:13: RuntimeWarning: All-NaN axis encountered\n",
      "  np.nanmax([stack[idx:idx + twin], _data[iseg+1, :]], axis = 0)\n"
     ]
    },
    {
     "name": "stdout",
     "output_type": "stream",
     "text": [
      "[#######################                 ] | 59% Completed | 16hr 32mAll prediction shape: (2, 5, 3599, 6000)\n",
      "[#######################                 ] | 59% Completed | 16hr 37m531 P picks\n",
      "253 S picks\n",
      "[#######################                 ] | 59% Completed | 16hr 37m"
     ]
    },
    {
     "name": "stderr",
     "output_type": "stream",
     "text": [
      "/tmp/ipykernel_1432373/2319557713.py:13: RuntimeWarning: All-NaN axis encountered\n",
      "  np.nanmax([stack[idx:idx + twin], _data[iseg+1, :]], axis = 0)\n"
     ]
    },
    {
     "name": "stdout",
     "output_type": "stream",
     "text": [
      "[#######################                 ] | 59% Completed | 16hr 37mAll prediction shape: (2, 5, 3599, 6000)\n",
      "[#######################                 ] | 59% Completed | 16hr 41m497 P picks\n",
      "455 S picks\n"
     ]
    },
    {
     "name": "stderr",
     "output_type": "stream",
     "text": [
      "/tmp/ipykernel_1432373/2319557713.py:13: RuntimeWarning: All-NaN axis encountered\n",
      "  np.nanmax([stack[idx:idx + twin], _data[iseg+1, :]], axis = 0)\n"
     ]
    },
    {
     "name": "stdout",
     "output_type": "stream",
     "text": [
      "[#######################                 ] | 59% Completed | 16hr 41mAll prediction shape: (2, 5, 1439, 6000)\n",
      "[#######################                 ] | 59% Completed | 16hr 42m124 P picks\n",
      "72 S picks\n",
      "[#######################                 ] | 59% Completed | 16hr 42m"
     ]
    },
    {
     "name": "stderr",
     "output_type": "stream",
     "text": [
      "/tmp/ipykernel_1432373/2319557713.py:13: RuntimeWarning: All-NaN axis encountered\n",
      "  np.nanmax([stack[idx:idx + twin], _data[iseg+1, :]], axis = 0)\n"
     ]
    },
    {
     "name": "stdout",
     "output_type": "stream",
     "text": [
      "[#######################                 ] | 59% Completed | 16hr 42mAll prediction shape: (2, 5, 3598, 6000)\n",
      "[#######################                 ] | 59% Completed | 16hr 47m621 P picks\n",
      "419 S picks\n"
     ]
    },
    {
     "name": "stderr",
     "output_type": "stream",
     "text": [
      "/tmp/ipykernel_1432373/2319557713.py:13: RuntimeWarning: All-NaN axis encountered\n",
      "  np.nanmax([stack[idx:idx + twin], _data[iseg+1, :]], axis = 0)\n"
     ]
    },
    {
     "name": "stdout",
     "output_type": "stream",
     "text": [
      "[########################                ] | 60% Completed | 16hr 47mAll prediction shape: (2, 5, 3599, 6000)\n",
      "[########################                ] | 60% Completed | 16hr 51m475 P picks\n",
      "513 S picks\n",
      "[########################                ] | 60% Completed | 16hr 51m"
     ]
    },
    {
     "name": "stderr",
     "output_type": "stream",
     "text": [
      "/tmp/ipykernel_1432373/2319557713.py:13: RuntimeWarning: All-NaN axis encountered\n",
      "  np.nanmax([stack[idx:idx + twin], _data[iseg+1, :]], axis = 0)\n"
     ]
    },
    {
     "name": "stdout",
     "output_type": "stream",
     "text": [
      "[########################                ] | 60% Completed | 16hr 51mAll prediction shape: (2, 5, 1439, 6000)\n",
      "[########################                ] | 60% Completed | 16hr 52m94 P picks\n",
      "36 S picks\n",
      "[########################                ] | 60% Completed | 16hr 52m"
     ]
    },
    {
     "name": "stderr",
     "output_type": "stream",
     "text": [
      "/tmp/ipykernel_1432373/2319557713.py:13: RuntimeWarning: All-NaN axis encountered\n",
      "  np.nanmax([stack[idx:idx + twin], _data[iseg+1, :]], axis = 0)\n"
     ]
    },
    {
     "name": "stdout",
     "output_type": "stream",
     "text": [
      "[########################                ] | 60% Completed | 16hr 52mAll prediction shape: (2, 5, 1439, 6000)\n",
      "[########################                ] | 60% Completed | 16hr 53m30 P picks\n",
      "9 S picks\n",
      "[########################                ] | 60% Completed | 16hr 53m"
     ]
    },
    {
     "name": "stderr",
     "output_type": "stream",
     "text": [
      "/tmp/ipykernel_1432373/2319557713.py:13: RuntimeWarning: All-NaN axis encountered\n",
      "  np.nanmax([stack[idx:idx + twin], _data[iseg+1, :]], axis = 0)\n"
     ]
    },
    {
     "name": "stdout",
     "output_type": "stream",
     "text": [
      "[########################                ] | 60% Completed | 16hr 53mAll prediction shape: (2, 5, 1439, 6000)\n",
      "[########################                ] | 60% Completed | 16hr 54m69 P picks\n",
      "29 S picks\n",
      "[########################                ] | 60% Completed | 16hr 54m"
     ]
    },
    {
     "name": "stderr",
     "output_type": "stream",
     "text": [
      "/tmp/ipykernel_1432373/2319557713.py:13: RuntimeWarning: All-NaN axis encountered\n",
      "  np.nanmax([stack[idx:idx + twin], _data[iseg+1, :]], axis = 0)\n"
     ]
    },
    {
     "name": "stdout",
     "output_type": "stream",
     "text": [
      "[########################                ] | 60% Completed | 16hr 54mAll prediction shape: (2, 5, 1439, 6000)\n",
      "[########################                ] | 60% Completed | 16hr 55m114 P picks\n",
      "94 S picks\n",
      "[########################                ] | 61% Completed | 16hr 55m"
     ]
    },
    {
     "name": "stderr",
     "output_type": "stream",
     "text": [
      "/tmp/ipykernel_1432373/2319557713.py:13: RuntimeWarning: All-NaN axis encountered\n",
      "  np.nanmax([stack[idx:idx + twin], _data[iseg+1, :]], axis = 0)\n"
     ]
    },
    {
     "name": "stdout",
     "output_type": "stream",
     "text": [
      "[########################                ] | 61% Completed | 16hr 55mAll prediction shape: (2, 5, 3599, 6000)\n",
      "[########################                ] | 61% Completed | 16hr 59m521 P picks\n",
      "614 S picks\n"
     ]
    },
    {
     "name": "stderr",
     "output_type": "stream",
     "text": [
      "/tmp/ipykernel_1432373/2319557713.py:13: RuntimeWarning: All-NaN axis encountered\n",
      "  np.nanmax([stack[idx:idx + twin], _data[iseg+1, :]], axis = 0)\n"
     ]
    },
    {
     "name": "stdout",
     "output_type": "stream",
     "text": [
      "[########################                ] | 61% Completed | 17hr 0mmAll prediction shape: (2, 5, 3599, 6000)\n",
      "[########################                ] | 61% Completed | 17hr 4m484 P picks\n",
      "132 S picks\n",
      "[########################                ] | 61% Completed | 17hr 4m"
     ]
    },
    {
     "name": "stderr",
     "output_type": "stream",
     "text": [
      "/tmp/ipykernel_1432373/2319557713.py:13: RuntimeWarning: All-NaN axis encountered\n",
      "  np.nanmax([stack[idx:idx + twin], _data[iseg+1, :]], axis = 0)\n"
     ]
    },
    {
     "name": "stdout",
     "output_type": "stream",
     "text": [
      "[########################                ] | 61% Completed | 17hr 4mAll prediction shape: (2, 5, 1439, 6000)\n",
      "[########################                ] | 61% Completed | 17hr 5m62 P picks\n",
      "18 S picks\n",
      "[########################                ] | 61% Completed | 17hr 5m"
     ]
    },
    {
     "name": "stderr",
     "output_type": "stream",
     "text": [
      "/tmp/ipykernel_1432373/2319557713.py:13: RuntimeWarning: All-NaN axis encountered\n",
      "  np.nanmax([stack[idx:idx + twin], _data[iseg+1, :]], axis = 0)\n"
     ]
    },
    {
     "name": "stdout",
     "output_type": "stream",
     "text": [
      "[########################                ] | 61% Completed | 17hr 5mAll prediction shape: (2, 5, 1439, 6000)\n",
      "[########################                ] | 61% Completed | 17hr 6m152 P picks\n",
      "56 S picks\n",
      "[########################                ] | 61% Completed | 17hr 6m"
     ]
    },
    {
     "name": "stderr",
     "output_type": "stream",
     "text": [
      "/tmp/ipykernel_1432373/2319557713.py:13: RuntimeWarning: All-NaN axis encountered\n",
      "  np.nanmax([stack[idx:idx + twin], _data[iseg+1, :]], axis = 0)\n"
     ]
    },
    {
     "name": "stdout",
     "output_type": "stream",
     "text": [
      "[########################                ] | 61% Completed | 17hr 6mAll prediction shape: (2, 5, 3598, 6000)\n",
      "[########################                ] | 61% Completed | 17hr 10m90 P picks\n",
      "57 S picks\n"
     ]
    },
    {
     "name": "stderr",
     "output_type": "stream",
     "text": [
      "/tmp/ipykernel_1432373/2319557713.py:13: RuntimeWarning: All-NaN axis encountered\n",
      "  np.nanmax([stack[idx:idx + twin], _data[iseg+1, :]], axis = 0)\n"
     ]
    },
    {
     "name": "stdout",
     "output_type": "stream",
     "text": [
      "[########################                ] | 62% Completed | 17hr 11mAll prediction shape: (2, 5, 3599, 6000)\n",
      "[########################                ] | 62% Completed | 17hr 15m354 P picks\n",
      "307 S picks\n",
      "[########################                ] | 62% Completed | 17hr 15m"
     ]
    },
    {
     "name": "stderr",
     "output_type": "stream",
     "text": [
      "/tmp/ipykernel_1432373/2319557713.py:13: RuntimeWarning: All-NaN axis encountered\n",
      "  np.nanmax([stack[idx:idx + twin], _data[iseg+1, :]], axis = 0)\n"
     ]
    },
    {
     "name": "stdout",
     "output_type": "stream",
     "text": [
      "[########################                ] | 62% Completed | 17hr 15mAll prediction shape: (2, 5, 3599, 6000)\n",
      "[########################                ] | 62% Completed | 17hr 20m417 P picks\n",
      "462 S picks\n"
     ]
    },
    {
     "name": "stderr",
     "output_type": "stream",
     "text": [
      "/tmp/ipykernel_1432373/2319557713.py:13: RuntimeWarning: All-NaN axis encountered\n",
      "  np.nanmax([stack[idx:idx + twin], _data[iseg+1, :]], axis = 0)\n"
     ]
    },
    {
     "name": "stdout",
     "output_type": "stream",
     "text": [
      "[########################                ] | 62% Completed | 17hr 20mAll prediction shape: (2, 5, 1439, 6000)\n",
      "[########################                ] | 62% Completed | 17hr 21m86 P picks\n",
      "56 S picks\n",
      "[#########################               ] | 62% Completed | 17hr 21m"
     ]
    },
    {
     "name": "stderr",
     "output_type": "stream",
     "text": [
      "/tmp/ipykernel_1432373/2319557713.py:13: RuntimeWarning: All-NaN axis encountered\n",
      "  np.nanmax([stack[idx:idx + twin], _data[iseg+1, :]], axis = 0)\n"
     ]
    },
    {
     "name": "stdout",
     "output_type": "stream",
     "text": [
      "[#########################               ] | 62% Completed | 17hr 21mAll prediction shape: (2, 5, 3599, 6000)\n",
      "[#########################               ] | 62% Completed | 17hr 25m406 P picks\n",
      "489 S picks\n",
      "[#########################               ] | 62% Completed | 17hr 25m"
     ]
    },
    {
     "name": "stderr",
     "output_type": "stream",
     "text": [
      "/tmp/ipykernel_1432373/2319557713.py:13: RuntimeWarning: All-NaN axis encountered\n",
      "  np.nanmax([stack[idx:idx + twin], _data[iseg+1, :]], axis = 0)\n"
     ]
    },
    {
     "name": "stdout",
     "output_type": "stream",
     "text": [
      "[#########################               ] | 62% Completed | 17hr 25mAll prediction shape: (2, 5, 1439, 6000)\n",
      "[#########################               ] | 62% Completed | 17hr 26m56 P picks\n",
      "22 S picks\n",
      "[#########################               ] | 62% Completed | 17hr 26m"
     ]
    },
    {
     "name": "stderr",
     "output_type": "stream",
     "text": [
      "/tmp/ipykernel_1432373/2319557713.py:13: RuntimeWarning: All-NaN axis encountered\n",
      "  np.nanmax([stack[idx:idx + twin], _data[iseg+1, :]], axis = 0)\n"
     ]
    },
    {
     "name": "stdout",
     "output_type": "stream",
     "text": [
      "[#########################               ] | 62% Completed | 17hr 26mAll prediction shape: (2, 5, 3598, 6000)\n",
      "[#########################               ] | 62% Completed | 17hr 31m367 P picks\n",
      "369 S picks\n"
     ]
    },
    {
     "name": "stderr",
     "output_type": "stream",
     "text": [
      "/tmp/ipykernel_1432373/2319557713.py:13: RuntimeWarning: All-NaN axis encountered\n",
      "  np.nanmax([stack[idx:idx + twin], _data[iseg+1, :]], axis = 0)\n"
     ]
    },
    {
     "name": "stdout",
     "output_type": "stream",
     "text": [
      "[#########################               ] | 63% Completed | 17hr 31mAll prediction shape: (2, 5, 3599, 6000)\n",
      "[#########################               ] | 63% Completed | 17hr 35m595 P picks\n",
      "255 S picks\n"
     ]
    },
    {
     "name": "stderr",
     "output_type": "stream",
     "text": [
      "/tmp/ipykernel_1432373/2319557713.py:13: RuntimeWarning: All-NaN axis encountered\n",
      "  np.nanmax([stack[idx:idx + twin], _data[iseg+1, :]], axis = 0)\n"
     ]
    },
    {
     "name": "stdout",
     "output_type": "stream",
     "text": [
      "[#########################               ] | 63% Completed | 17hr 35mAll prediction shape: (2, 5, 3599, 6000)\n",
      "[#########################               ] | 63% Completed | 17hr 40m386 P picks\n",
      "542 S picks\n"
     ]
    },
    {
     "name": "stderr",
     "output_type": "stream",
     "text": [
      "/tmp/ipykernel_1432373/2319557713.py:13: RuntimeWarning: All-NaN axis encountered\n",
      "  np.nanmax([stack[idx:idx + twin], _data[iseg+1, :]], axis = 0)\n"
     ]
    },
    {
     "name": "stdout",
     "output_type": "stream",
     "text": [
      "[#########################               ] | 63% Completed | 17hr 40mAll prediction shape: (2, 5, 1438, 6000)\n",
      "[#########################               ] | 63% Completed | 17hr 41m126 P picks\n",
      "48 S picks\n",
      "[#########################               ] | 63% Completed | 17hr 41m"
     ]
    },
    {
     "name": "stderr",
     "output_type": "stream",
     "text": [
      "/tmp/ipykernel_1432373/2319557713.py:13: RuntimeWarning: All-NaN axis encountered\n",
      "  np.nanmax([stack[idx:idx + twin], _data[iseg+1, :]], axis = 0)\n"
     ]
    },
    {
     "name": "stdout",
     "output_type": "stream",
     "text": [
      "[#########################               ] | 63% Completed | 17hr 41mAll prediction shape: (2, 5, 3599, 6000)\n",
      "[#########################               ] | 63% Completed | 17hr 45m535 P picks\n",
      "240 S picks\n",
      "[#########################               ] | 63% Completed | 17hr 45m"
     ]
    },
    {
     "name": "stderr",
     "output_type": "stream",
     "text": [
      "/tmp/ipykernel_1432373/2319557713.py:13: RuntimeWarning: All-NaN axis encountered\n",
      "  np.nanmax([stack[idx:idx + twin], _data[iseg+1, :]], axis = 0)\n"
     ]
    },
    {
     "name": "stdout",
     "output_type": "stream",
     "text": [
      "[#########################               ] | 63% Completed | 17hr 45mAll prediction shape: (2, 5, 3599, 6000)\n",
      "[#########################               ] | 63% Completed | 17hr 50m400 P picks\n",
      "253 S picks\n"
     ]
    },
    {
     "name": "stderr",
     "output_type": "stream",
     "text": [
      "/tmp/ipykernel_1432373/2319557713.py:13: RuntimeWarning: All-NaN axis encountered\n",
      "  np.nanmax([stack[idx:idx + twin], _data[iseg+1, :]], axis = 0)\n"
     ]
    },
    {
     "name": "stdout",
     "output_type": "stream",
     "text": [
      "[#########################               ] | 64% Completed | 17hr 50mAll prediction shape: (2, 5, 3599, 6000)\n",
      "[#########################               ] | 64% Completed | 17hr 54m357 P picks\n",
      "779 S picks\n",
      "[#########################               ] | 64% Completed | 17hr 54m"
     ]
    },
    {
     "name": "stderr",
     "output_type": "stream",
     "text": [
      "/tmp/ipykernel_1432373/2319557713.py:13: RuntimeWarning: All-NaN axis encountered\n",
      "  np.nanmax([stack[idx:idx + twin], _data[iseg+1, :]], axis = 0)\n"
     ]
    },
    {
     "name": "stdout",
     "output_type": "stream",
     "text": [
      "[#########################               ] | 64% Completed | 17hr 54mAll prediction shape: (2, 5, 1439, 6000)\n",
      "[#########################               ] | 64% Completed | 17hr 55m95 P picks\n",
      "36 S picks\n",
      "[#########################               ] | 64% Completed | 17hr 55m"
     ]
    },
    {
     "name": "stderr",
     "output_type": "stream",
     "text": [
      "/tmp/ipykernel_1432373/2319557713.py:13: RuntimeWarning: All-NaN axis encountered\n",
      "  np.nanmax([stack[idx:idx + twin], _data[iseg+1, :]], axis = 0)\n"
     ]
    },
    {
     "name": "stdout",
     "output_type": "stream",
     "text": [
      "[#########################               ] | 64% Completed | 17hr 55mAll prediction shape: (2, 5, 3599, 6000)\n",
      "[#########################               ] | 64% Completed | 18hr 0mm529 P picks\n",
      "770 S picks\n",
      "[#########################               ] | 64% Completed | 18hr 0m"
     ]
    },
    {
     "name": "stderr",
     "output_type": "stream",
     "text": [
      "/tmp/ipykernel_1432373/2319557713.py:13: RuntimeWarning: All-NaN axis encountered\n",
      "  np.nanmax([stack[idx:idx + twin], _data[iseg+1, :]], axis = 0)\n"
     ]
    },
    {
     "name": "stdout",
     "output_type": "stream",
     "text": [
      "[#########################               ] | 64% Completed | 18hr 0mAll prediction shape: (2, 5, 1439, 6000)\n",
      "[#########################               ] | 64% Completed | 18hr 1m70 P picks\n",
      "24 S picks\n",
      "[#########################               ] | 64% Completed | 18hr 1m"
     ]
    },
    {
     "name": "stderr",
     "output_type": "stream",
     "text": [
      "/tmp/ipykernel_1432373/2319557713.py:13: RuntimeWarning: All-NaN axis encountered\n",
      "  np.nanmax([stack[idx:idx + twin], _data[iseg+1, :]], axis = 0)\n"
     ]
    },
    {
     "name": "stdout",
     "output_type": "stream",
     "text": [
      "[#########################               ] | 64% Completed | 18hr 1mAll prediction shape: (2, 5, 1438, 6000)\n",
      "[#########################               ] | 64% Completed | 18hr 2m171 P picks\n",
      "92 S picks\n",
      "[##########################              ] | 65% Completed | 18hr 2m"
     ]
    },
    {
     "name": "stderr",
     "output_type": "stream",
     "text": [
      "/tmp/ipykernel_1432373/2319557713.py:13: RuntimeWarning: All-NaN axis encountered\n",
      "  np.nanmax([stack[idx:idx + twin], _data[iseg+1, :]], axis = 0)\n"
     ]
    },
    {
     "name": "stdout",
     "output_type": "stream",
     "text": [
      "[##########################              ] | 65% Completed | 18hr 2mAll prediction shape: (2, 5, 3599, 6000)\n",
      "[##########################              ] | 65% Completed | 18hr 6m429 P picks\n",
      "347 S picks\n"
     ]
    },
    {
     "name": "stderr",
     "output_type": "stream",
     "text": [
      "/tmp/ipykernel_1432373/2319557713.py:13: RuntimeWarning: All-NaN axis encountered\n",
      "  np.nanmax([stack[idx:idx + twin], _data[iseg+1, :]], axis = 0)\n"
     ]
    },
    {
     "name": "stdout",
     "output_type": "stream",
     "text": [
      "[##########################              ] | 65% Completed | 18hr 6mAll prediction shape: (2, 5, 3599, 6000)\n",
      "[##########################              ] | 65% Completed | 18hr 11m536 P picks\n",
      "244 S picks\n"
     ]
    },
    {
     "name": "stderr",
     "output_type": "stream",
     "text": [
      "/tmp/ipykernel_1432373/2319557713.py:13: RuntimeWarning: All-NaN axis encountered\n",
      "  np.nanmax([stack[idx:idx + twin], _data[iseg+1, :]], axis = 0)\n"
     ]
    },
    {
     "name": "stdout",
     "output_type": "stream",
     "text": [
      "[##########################              ] | 65% Completed | 18hr 11mAll prediction shape: (2, 5, 3599, 6000)\n",
      "[##########################              ] | 65% Completed | 18hr 15m561 P picks\n",
      "545 S picks\n"
     ]
    },
    {
     "name": "stderr",
     "output_type": "stream",
     "text": [
      "/tmp/ipykernel_1432373/2319557713.py:13: RuntimeWarning: All-NaN axis encountered\n",
      "  np.nanmax([stack[idx:idx + twin], _data[iseg+1, :]], axis = 0)\n"
     ]
    },
    {
     "name": "stdout",
     "output_type": "stream",
     "text": [
      "[##########################              ] | 65% Completed | 18hr 15mAll prediction shape: (2, 5, 3598, 6000)\n",
      "[##########################              ] | 65% Completed | 18hr 20m209 P picks\n",
      "182 S picks\n"
     ]
    },
    {
     "name": "stderr",
     "output_type": "stream",
     "text": [
      "/tmp/ipykernel_1432373/2319557713.py:13: RuntimeWarning: All-NaN axis encountered\n",
      "  np.nanmax([stack[idx:idx + twin], _data[iseg+1, :]], axis = 0)\n"
     ]
    },
    {
     "name": "stdout",
     "output_type": "stream",
     "text": [
      "[##########################              ] | 65% Completed | 18hr 20mAll prediction shape: (2, 5, 1439, 6000)\n",
      "[##########################              ] | 65% Completed | 18hr 21m107 P picks\n",
      "82 S picks\n",
      "[##########################              ] | 66% Completed | 18hr 21m"
     ]
    },
    {
     "name": "stderr",
     "output_type": "stream",
     "text": [
      "/tmp/ipykernel_1432373/2319557713.py:13: RuntimeWarning: All-NaN axis encountered\n",
      "  np.nanmax([stack[idx:idx + twin], _data[iseg+1, :]], axis = 0)\n"
     ]
    },
    {
     "name": "stdout",
     "output_type": "stream",
     "text": [
      "[##########################              ] | 66% Completed | 18hr 21mAll prediction shape: (2, 5, 1439, 6000)\n",
      "[##########################              ] | 66% Completed | 18hr 22m111 P picks\n",
      "17 S picks\n",
      "[##########################              ] | 66% Completed | 18hr 22m"
     ]
    },
    {
     "name": "stderr",
     "output_type": "stream",
     "text": [
      "/tmp/ipykernel_1432373/2319557713.py:13: RuntimeWarning: All-NaN axis encountered\n",
      "  np.nanmax([stack[idx:idx + twin], _data[iseg+1, :]], axis = 0)\n"
     ]
    },
    {
     "name": "stdout",
     "output_type": "stream",
     "text": [
      "[##########################              ] | 66% Completed | 18hr 22mAll prediction shape: (2, 5, 1439, 6000)\n",
      "[##########################              ] | 66% Completed | 18hr 23m157 P picks\n",
      "55 S picks\n",
      "[##########################              ] | 66% Completed | 18hr 23m"
     ]
    },
    {
     "name": "stderr",
     "output_type": "stream",
     "text": [
      "/tmp/ipykernel_1432373/2319557713.py:13: RuntimeWarning: All-NaN axis encountered\n",
      "  np.nanmax([stack[idx:idx + twin], _data[iseg+1, :]], axis = 0)\n"
     ]
    },
    {
     "name": "stdout",
     "output_type": "stream",
     "text": [
      "[##########################              ] | 66% Completed | 18hr 23mAll prediction shape: (2, 5, 1439, 6000)\n",
      "[##########################              ] | 66% Completed | 18hr 23m172 P picks\n",
      "51 S picks\n",
      "[##########################              ] | 66% Completed | 18hr 23m"
     ]
    },
    {
     "name": "stderr",
     "output_type": "stream",
     "text": [
      "/tmp/ipykernel_1432373/2319557713.py:13: RuntimeWarning: All-NaN axis encountered\n",
      "  np.nanmax([stack[idx:idx + twin], _data[iseg+1, :]], axis = 0)\n"
     ]
    },
    {
     "name": "stdout",
     "output_type": "stream",
     "text": [
      "[##########################              ] | 66% Completed | 18hr 24mAll prediction shape: (2, 5, 3599, 6000)\n",
      "[##########################              ] | 66% Completed | 18hr 28m136 P picks\n",
      "111 S picks\n"
     ]
    },
    {
     "name": "stderr",
     "output_type": "stream",
     "text": [
      "/tmp/ipykernel_1432373/2319557713.py:13: RuntimeWarning: All-NaN axis encountered\n",
      "  np.nanmax([stack[idx:idx + twin], _data[iseg+1, :]], axis = 0)\n"
     ]
    },
    {
     "name": "stdout",
     "output_type": "stream",
     "text": [
      "[##########################              ] | 66% Completed | 18hr 28mAll prediction shape: (2, 5, 3599, 6000)\n",
      "[##########################              ] | 66% Completed | 18hr 32m150 P picks\n",
      "140 S picks\n"
     ]
    },
    {
     "name": "stderr",
     "output_type": "stream",
     "text": [
      "/tmp/ipykernel_1432373/2319557713.py:13: RuntimeWarning: All-NaN axis encountered\n",
      "  np.nanmax([stack[idx:idx + twin], _data[iseg+1, :]], axis = 0)\n"
     ]
    },
    {
     "name": "stdout",
     "output_type": "stream",
     "text": [
      "[##########################              ] | 66% Completed | 18hr 33mAll prediction shape: (2, 5, 3598, 6000)\n",
      "[##########################              ] | 66% Completed | 18hr 37m408 P picks\n",
      "218 S picks\n"
     ]
    },
    {
     "name": "stderr",
     "output_type": "stream",
     "text": [
      "/tmp/ipykernel_1432373/2319557713.py:13: RuntimeWarning: All-NaN axis encountered\n",
      "  np.nanmax([stack[idx:idx + twin], _data[iseg+1, :]], axis = 0)\n"
     ]
    },
    {
     "name": "stdout",
     "output_type": "stream",
     "text": [
      "[##########################              ] | 67% Completed | 18hr 37mAll prediction shape: (2, 5, 3599, 6000)\n",
      "[##########################              ] | 67% Completed | 18hr 42m643 P picks\n",
      "617 S picks\n"
     ]
    },
    {
     "name": "stderr",
     "output_type": "stream",
     "text": [
      "/tmp/ipykernel_1432373/2319557713.py:13: RuntimeWarning: All-NaN axis encountered\n",
      "  np.nanmax([stack[idx:idx + twin], _data[iseg+1, :]], axis = 0)\n"
     ]
    },
    {
     "name": "stdout",
     "output_type": "stream",
     "text": [
      "[##########################              ] | 67% Completed | 18hr 42mAll prediction shape: (2, 5, 3598, 6000)\n",
      "[##########################              ] | 67% Completed | 18hr 46m"
     ]
    },
    {
     "name": "stderr",
     "output_type": "stream",
     "text": [
      "/tmp/ipykernel_1432373/2319557713.py:13: RuntimeWarning: All-NaN axis encountered\n",
      "  np.nanmax([stack[idx:idx + twin], _data[iseg+1, :]], axis = 0)\n"
     ]
    },
    {
     "name": "stdout",
     "output_type": "stream",
     "text": [
      "380 P picks\n",
      "355 S picks\n",
      "[###########################             ] | 67% Completed | 18hr 46mAll prediction shape: (2, 5, 3599, 6000)\n",
      "[###########################             ] | 67% Completed | 18hr 51m380 P picks\n",
      "166 S picks\n"
     ]
    },
    {
     "name": "stderr",
     "output_type": "stream",
     "text": [
      "/tmp/ipykernel_1432373/2319557713.py:13: RuntimeWarning: All-NaN axis encountered\n",
      "  np.nanmax([stack[idx:idx + twin], _data[iseg+1, :]], axis = 0)\n"
     ]
    },
    {
     "name": "stdout",
     "output_type": "stream",
     "text": [
      "[###########################             ] | 67% Completed | 18hr 51mAll prediction shape: (2, 5, 1439, 6000)\n",
      "[###########################             ] | 67% Completed | 18hr 52m110 P picks\n",
      "25 S picks\n",
      "[###########################             ] | 67% Completed | 18hr 52m"
     ]
    },
    {
     "name": "stderr",
     "output_type": "stream",
     "text": [
      "/tmp/ipykernel_1432373/2319557713.py:13: RuntimeWarning: All-NaN axis encountered\n",
      "  np.nanmax([stack[idx:idx + twin], _data[iseg+1, :]], axis = 0)\n"
     ]
    },
    {
     "name": "stdout",
     "output_type": "stream",
     "text": [
      "[###########################             ] | 67% Completed | 18hr 52mAll prediction shape: (2, 5, 3599, 6000)\n",
      "[###########################             ] | 67% Completed | 18hr 56m242 P picks\n",
      "402 S picks\n"
     ]
    },
    {
     "name": "stderr",
     "output_type": "stream",
     "text": [
      "/tmp/ipykernel_1432373/2319557713.py:13: RuntimeWarning: All-NaN axis encountered\n",
      "  np.nanmax([stack[idx:idx + twin], _data[iseg+1, :]], axis = 0)\n"
     ]
    },
    {
     "name": "stdout",
     "output_type": "stream",
     "text": [
      "[###########################             ] | 68% Completed | 18hr 57mAll prediction shape: (2, 5, 3599, 6000)\n",
      "[###########################             ] | 68% Completed | 19hr 1mm374 P picks\n",
      "119 S picks\n",
      "[###########################             ] | 68% Completed | 19hr 1m"
     ]
    },
    {
     "name": "stderr",
     "output_type": "stream",
     "text": [
      "/tmp/ipykernel_1432373/2319557713.py:13: RuntimeWarning: All-NaN axis encountered\n",
      "  np.nanmax([stack[idx:idx + twin], _data[iseg+1, :]], axis = 0)\n"
     ]
    },
    {
     "name": "stdout",
     "output_type": "stream",
     "text": [
      "[###########################             ] | 68% Completed | 19hr 1mAll prediction shape: (2, 5, 3599, 6000)\n",
      "[###########################             ] | 68% Completed | 19hr 5m498 P picks\n",
      "763 S picks\n"
     ]
    },
    {
     "name": "stderr",
     "output_type": "stream",
     "text": [
      "/tmp/ipykernel_1432373/2319557713.py:13: RuntimeWarning: All-NaN axis encountered\n",
      "  np.nanmax([stack[idx:idx + twin], _data[iseg+1, :]], axis = 0)\n"
     ]
    },
    {
     "name": "stdout",
     "output_type": "stream",
     "text": [
      "[###########################             ] | 68% Completed | 19hr 5mAll prediction shape: (2, 5, 1439, 6000)\n",
      "[###########################             ] | 68% Completed | 19hr 6m91 P picks\n",
      "29 S picks\n",
      "[###########################             ] | 68% Completed | 19hr 6m"
     ]
    },
    {
     "name": "stderr",
     "output_type": "stream",
     "text": [
      "/tmp/ipykernel_1432373/2319557713.py:13: RuntimeWarning: All-NaN axis encountered\n",
      "  np.nanmax([stack[idx:idx + twin], _data[iseg+1, :]], axis = 0)\n"
     ]
    },
    {
     "name": "stdout",
     "output_type": "stream",
     "text": [
      "[###########################             ] | 68% Completed | 19hr 7mAll prediction shape: (2, 5, 3598, 6000)\n",
      "[###########################             ] | 68% Completed | 19hr 11m179 P picks\n",
      "113 S picks\n",
      "[###########################             ] | 68% Completed | 19hr 11m"
     ]
    },
    {
     "name": "stderr",
     "output_type": "stream",
     "text": [
      "/tmp/ipykernel_1432373/2319557713.py:13: RuntimeWarning: All-NaN axis encountered\n",
      "  np.nanmax([stack[idx:idx + twin], _data[iseg+1, :]], axis = 0)\n"
     ]
    },
    {
     "name": "stdout",
     "output_type": "stream",
     "text": [
      "[###########################             ] | 68% Completed | 19hr 11mAll prediction shape: (2, 5, 1439, 6000)\n",
      "[###########################             ] | 68% Completed | 19hr 12m40 P picks\n",
      "17 S picks\n",
      "[###########################             ] | 69% Completed | 19hr 12m"
     ]
    },
    {
     "name": "stderr",
     "output_type": "stream",
     "text": [
      "/tmp/ipykernel_1432373/2319557713.py:13: RuntimeWarning: All-NaN axis encountered\n",
      "  np.nanmax([stack[idx:idx + twin], _data[iseg+1, :]], axis = 0)\n"
     ]
    },
    {
     "name": "stdout",
     "output_type": "stream",
     "text": [
      "[###########################             ] | 69% Completed | 19hr 12mAll prediction shape: (2, 5, 1439, 6000)\n",
      "[###########################             ] | 69% Completed | 19hr 13m113 P picks\n",
      "27 S picks\n",
      "[###########################             ] | 69% Completed | 19hr 13m"
     ]
    },
    {
     "name": "stderr",
     "output_type": "stream",
     "text": [
      "/tmp/ipykernel_1432373/2319557713.py:13: RuntimeWarning: All-NaN axis encountered\n",
      "  np.nanmax([stack[idx:idx + twin], _data[iseg+1, :]], axis = 0)\n"
     ]
    },
    {
     "name": "stdout",
     "output_type": "stream",
     "text": [
      "[###########################             ] | 69% Completed | 19hr 13mAll prediction shape: (2, 5, 3599, 6000)\n",
      "[###########################             ] | 69% Completed | 19hr 17m236 P picks\n",
      "410 S picks\n"
     ]
    },
    {
     "name": "stderr",
     "output_type": "stream",
     "text": [
      "/tmp/ipykernel_1432373/2319557713.py:13: RuntimeWarning: All-NaN axis encountered\n",
      "  np.nanmax([stack[idx:idx + twin], _data[iseg+1, :]], axis = 0)\n"
     ]
    },
    {
     "name": "stdout",
     "output_type": "stream",
     "text": [
      "[###########################             ] | 69% Completed | 19hr 17mAll prediction shape: (2, 5, 1439, 6000)\n",
      "[###########################             ] | 69% Completed | 19hr 18m139 P picks\n",
      "86 S picks\n",
      "[###########################             ] | 69% Completed | 19hr 18m"
     ]
    },
    {
     "name": "stderr",
     "output_type": "stream",
     "text": [
      "/tmp/ipykernel_1432373/2319557713.py:13: RuntimeWarning: All-NaN axis encountered\n",
      "  np.nanmax([stack[idx:idx + twin], _data[iseg+1, :]], axis = 0)\n"
     ]
    },
    {
     "name": "stdout",
     "output_type": "stream",
     "text": [
      "[###########################             ] | 69% Completed | 19hr 18mAll prediction shape: (2, 5, 3599, 6000)\n",
      "[###########################             ] | 69% Completed | 19hr 23m278 P picks\n",
      "566 S picks\n"
     ]
    },
    {
     "name": "stderr",
     "output_type": "stream",
     "text": [
      "/tmp/ipykernel_1432373/2319557713.py:13: RuntimeWarning: All-NaN axis encountered\n",
      "  np.nanmax([stack[idx:idx + twin], _data[iseg+1, :]], axis = 0)\n"
     ]
    },
    {
     "name": "stdout",
     "output_type": "stream",
     "text": [
      "[###########################             ] | 69% Completed | 19hr 23mAll prediction shape: (2, 5, 1439, 6000)\n",
      "[###########################             ] | 69% Completed | 19hr 24m85 P picks\n",
      "37 S picks\n",
      "[############################            ] | 70% Completed | 19hr 24m"
     ]
    },
    {
     "name": "stderr",
     "output_type": "stream",
     "text": [
      "/tmp/ipykernel_1432373/2319557713.py:13: RuntimeWarning: All-NaN axis encountered\n",
      "  np.nanmax([stack[idx:idx + twin], _data[iseg+1, :]], axis = 0)\n"
     ]
    },
    {
     "name": "stdout",
     "output_type": "stream",
     "text": [
      "[############################            ] | 70% Completed | 19hr 24mAll prediction shape: (2, 5, 3598, 6000)\n",
      "[############################            ] | 70% Completed | 19hr 28m404 P picks\n",
      "319 S picks\n"
     ]
    },
    {
     "name": "stderr",
     "output_type": "stream",
     "text": [
      "/tmp/ipykernel_1432373/2319557713.py:13: RuntimeWarning: All-NaN axis encountered\n",
      "  np.nanmax([stack[idx:idx + twin], _data[iseg+1, :]], axis = 0)\n"
     ]
    },
    {
     "name": "stdout",
     "output_type": "stream",
     "text": [
      "[############################            ] | 70% Completed | 19hr 28mAll prediction shape: (2, 5, 1439, 6000)\n",
      "[############################            ] | 70% Completed | 19hr 29m48 P picks\n",
      "18 S picks\n",
      "[############################            ] | 70% Completed | 19hr 29m"
     ]
    },
    {
     "name": "stderr",
     "output_type": "stream",
     "text": [
      "/tmp/ipykernel_1432373/2319557713.py:13: RuntimeWarning: All-NaN axis encountered\n",
      "  np.nanmax([stack[idx:idx + twin], _data[iseg+1, :]], axis = 0)\n"
     ]
    },
    {
     "name": "stdout",
     "output_type": "stream",
     "text": [
      "[############################            ] | 70% Completed | 19hr 29mAll prediction shape: (2, 5, 1439, 6000)\n",
      "[############################            ] | 70% Completed | 19hr 30m37 P picks\n",
      "28 S picks\n",
      "[############################            ] | 70% Completed | 19hr 30m"
     ]
    },
    {
     "name": "stderr",
     "output_type": "stream",
     "text": [
      "/tmp/ipykernel_1432373/2319557713.py:13: RuntimeWarning: All-NaN axis encountered\n",
      "  np.nanmax([stack[idx:idx + twin], _data[iseg+1, :]], axis = 0)\n"
     ]
    },
    {
     "name": "stdout",
     "output_type": "stream",
     "text": [
      "[############################            ] | 70% Completed | 19hr 30mAll prediction shape: (2, 5, 3598, 6000)\n",
      "[############################            ] | 70% Completed | 19hr 34m"
     ]
    },
    {
     "name": "stderr",
     "output_type": "stream",
     "text": [
      "/tmp/ipykernel_1432373/2319557713.py:13: RuntimeWarning: All-NaN axis encountered\n",
      "  np.nanmax([stack[idx:idx + twin], _data[iseg+1, :]], axis = 0)\n"
     ]
    },
    {
     "name": "stdout",
     "output_type": "stream",
     "text": [
      "689 P picks\n",
      "1073 S picks\n",
      "[############################            ] | 70% Completed | 19hr 35mAll prediction shape: (2, 5, 1439, 6000)\n",
      "[############################            ] | 70% Completed | 19hr 35m40 P picks\n",
      "19 S picks\n",
      "[############################            ] | 70% Completed | 19hr 35m"
     ]
    },
    {
     "name": "stderr",
     "output_type": "stream",
     "text": [
      "/tmp/ipykernel_1432373/2319557713.py:13: RuntimeWarning: All-NaN axis encountered\n",
      "  np.nanmax([stack[idx:idx + twin], _data[iseg+1, :]], axis = 0)\n"
     ]
    },
    {
     "name": "stdout",
     "output_type": "stream",
     "text": [
      "[############################            ] | 70% Completed | 19hr 35mAll prediction shape: (2, 5, 1439, 6000)\n",
      "[############################            ] | 70% Completed | 19hr 36m200 P picks\n",
      "66 S picks\n",
      "[############################            ] | 71% Completed | 19hr 36m"
     ]
    },
    {
     "name": "stderr",
     "output_type": "stream",
     "text": [
      "/tmp/ipykernel_1432373/2319557713.py:13: RuntimeWarning: All-NaN axis encountered\n",
      "  np.nanmax([stack[idx:idx + twin], _data[iseg+1, :]], axis = 0)\n"
     ]
    },
    {
     "name": "stdout",
     "output_type": "stream",
     "text": [
      "[############################            ] | 71% Completed | 19hr 36m"
     ]
    },
    {
     "name": "stderr",
     "output_type": "stream",
     "text": [
      "/tmp/ipykernel_1432373/1236362454.py:81: RuntimeWarning: invalid value encountered in divide\n",
      "  windows_max[iseg, :] = windows[iseg, :] / (np.max(np.abs(windows[iseg, :]), axis=-1, keepdims=True))\n",
      "/tmp/ipykernel_1432373/1236362454.py:79: RuntimeWarning: invalid value encountered in divide\n",
      "  windows_std[iseg, :] = windows[iseg, :] / np.std(windows[iseg, :]) + 1e-10\n"
     ]
    },
    {
     "name": "stdout",
     "output_type": "stream",
     "text": [
      "[############################            ] | 71% Completed | 19hr 37mAll prediction shape: (2, 5, 3599, 6000)\n",
      "[############################            ] | 71% Completed | 19hr 41m526 P picks\n",
      "251 S picks\n"
     ]
    },
    {
     "name": "stderr",
     "output_type": "stream",
     "text": [
      "/tmp/ipykernel_1432373/2319557713.py:13: RuntimeWarning: All-NaN axis encountered\n",
      "  np.nanmax([stack[idx:idx + twin], _data[iseg+1, :]], axis = 0)\n"
     ]
    },
    {
     "name": "stdout",
     "output_type": "stream",
     "text": [
      "[############################            ] | 71% Completed | 19hr 41mAll prediction shape: (2, 5, 3599, 6000)\n",
      "[############################            ] | 71% Completed | 19hr 45m403 P picks\n",
      "460 S picks\n"
     ]
    },
    {
     "name": "stderr",
     "output_type": "stream",
     "text": [
      "/tmp/ipykernel_1432373/2319557713.py:13: RuntimeWarning: All-NaN axis encountered\n",
      "  np.nanmax([stack[idx:idx + twin], _data[iseg+1, :]], axis = 0)\n"
     ]
    },
    {
     "name": "stdout",
     "output_type": "stream",
     "text": [
      "[############################            ] | 71% Completed | 19hr 46mAll prediction shape: (2, 5, 3598, 6000)\n",
      "[############################            ] | 71% Completed | 19hr 50m430 P picks\n",
      "428 S picks\n"
     ]
    },
    {
     "name": "stderr",
     "output_type": "stream",
     "text": [
      "/tmp/ipykernel_1432373/2319557713.py:13: RuntimeWarning: All-NaN axis encountered\n",
      "  np.nanmax([stack[idx:idx + twin], _data[iseg+1, :]], axis = 0)\n"
     ]
    },
    {
     "name": "stdout",
     "output_type": "stream",
     "text": [
      "[############################            ] | 71% Completed | 19hr 50mAll prediction shape: (2, 5, 3599, 6000)\n",
      "[############################            ] | 71% Completed | 19hr 54m481 P picks\n",
      "532 S picks\n"
     ]
    },
    {
     "name": "stderr",
     "output_type": "stream",
     "text": [
      "/tmp/ipykernel_1432373/2319557713.py:13: RuntimeWarning: All-NaN axis encountered\n",
      "  np.nanmax([stack[idx:idx + twin], _data[iseg+1, :]], axis = 0)\n"
     ]
    },
    {
     "name": "stdout",
     "output_type": "stream",
     "text": [
      "[############################            ] | 71% Completed | 19hr 55mAll prediction shape: (2, 5, 3598, 6000)\n",
      "[############################            ] | 71% Completed | 19hr 59m152 P picks\n",
      "57 S picks\n"
     ]
    },
    {
     "name": "stderr",
     "output_type": "stream",
     "text": [
      "/tmp/ipykernel_1432373/2319557713.py:13: RuntimeWarning: All-NaN axis encountered\n",
      "  np.nanmax([stack[idx:idx + twin], _data[iseg+1, :]], axis = 0)\n"
     ]
    },
    {
     "name": "stdout",
     "output_type": "stream",
     "text": [
      "[############################            ] | 72% Completed | 19hr 59mAll prediction shape: (2, 5, 1439, 6000)\n",
      "[############################            ] | 72% Completed | 20hr 0mm196 P picks\n",
      "70 S picks\n",
      "[############################            ] | 72% Completed | 20hr 0m"
     ]
    },
    {
     "name": "stderr",
     "output_type": "stream",
     "text": [
      "/tmp/ipykernel_1432373/2319557713.py:13: RuntimeWarning: All-NaN axis encountered\n",
      "  np.nanmax([stack[idx:idx + twin], _data[iseg+1, :]], axis = 0)\n"
     ]
    },
    {
     "name": "stdout",
     "output_type": "stream",
     "text": [
      "[############################            ] | 72% Completed | 20hr 0mAll prediction shape: (2, 5, 3599, 6000)\n",
      "[############################            ] | 72% Completed | 20hr 4m545 P picks\n",
      "575 S picks\n",
      "[############################            ] | 72% Completed | 20hr 4m"
     ]
    },
    {
     "name": "stderr",
     "output_type": "stream",
     "text": [
      "/tmp/ipykernel_1432373/2319557713.py:13: RuntimeWarning: All-NaN axis encountered\n",
      "  np.nanmax([stack[idx:idx + twin], _data[iseg+1, :]], axis = 0)\n"
     ]
    },
    {
     "name": "stdout",
     "output_type": "stream",
     "text": [
      "[############################            ] | 72% Completed | 20hr 4mAll prediction shape: (2, 5, 1439, 6000)\n",
      "[############################            ] | 72% Completed | 20hr 5m161 P picks\n",
      "113 S picks\n",
      "[#############################           ] | 72% Completed | 20hr 5m"
     ]
    },
    {
     "name": "stderr",
     "output_type": "stream",
     "text": [
      "/tmp/ipykernel_1432373/2319557713.py:13: RuntimeWarning: All-NaN axis encountered\n",
      "  np.nanmax([stack[idx:idx + twin], _data[iseg+1, :]], axis = 0)\n"
     ]
    },
    {
     "name": "stdout",
     "output_type": "stream",
     "text": [
      "[#############################           ] | 72% Completed | 20hr 5mAll prediction shape: (2, 5, 1439, 6000)\n",
      "[#############################           ] | 72% Completed | 20hr 6m185 P picks\n",
      "86 S picks\n",
      "[#############################           ] | 72% Completed | 20hr 6m"
     ]
    },
    {
     "name": "stderr",
     "output_type": "stream",
     "text": [
      "/tmp/ipykernel_1432373/2319557713.py:13: RuntimeWarning: All-NaN axis encountered\n",
      "  np.nanmax([stack[idx:idx + twin], _data[iseg+1, :]], axis = 0)\n"
     ]
    },
    {
     "name": "stdout",
     "output_type": "stream",
     "text": [
      "[#############################           ] | 72% Completed | 20hr 6mAll prediction shape: (2, 5, 3599, 6000)\n",
      "[#############################           ] | 72% Completed | 20hr 11m59 P picks\n",
      "28 S picks\n"
     ]
    },
    {
     "name": "stderr",
     "output_type": "stream",
     "text": [
      "/tmp/ipykernel_1432373/2319557713.py:13: RuntimeWarning: All-NaN axis encountered\n",
      "  np.nanmax([stack[idx:idx + twin], _data[iseg+1, :]], axis = 0)\n"
     ]
    },
    {
     "name": "stdout",
     "output_type": "stream",
     "text": [
      "[#############################           ] | 73% Completed | 20hr 11mAll prediction shape: (2, 5, 3599, 6000)\n",
      "[#############################           ] | 73% Completed | 20hr 15m422 P picks\n",
      "211 S picks\n"
     ]
    },
    {
     "name": "stderr",
     "output_type": "stream",
     "text": [
      "/tmp/ipykernel_1432373/2319557713.py:13: RuntimeWarning: All-NaN axis encountered\n",
      "  np.nanmax([stack[idx:idx + twin], _data[iseg+1, :]], axis = 0)\n"
     ]
    },
    {
     "name": "stdout",
     "output_type": "stream",
     "text": [
      "[#############################           ] | 73% Completed | 20hr 15mAll prediction shape: (2, 5, 1439, 6000)\n",
      "[#############################           ] | 73% Completed | 20hr 16m58 P picks\n",
      "32 S picks\n",
      "[#############################           ] | 73% Completed | 20hr 16m"
     ]
    },
    {
     "name": "stderr",
     "output_type": "stream",
     "text": [
      "/tmp/ipykernel_1432373/2319557713.py:13: RuntimeWarning: All-NaN axis encountered\n",
      "  np.nanmax([stack[idx:idx + twin], _data[iseg+1, :]], axis = 0)\n"
     ]
    },
    {
     "name": "stdout",
     "output_type": "stream",
     "text": [
      "[#############################           ] | 73% Completed | 20hr 16mAll prediction shape: (2, 5, 1439, 6000)\n",
      "[#############################           ] | 73% Completed | 20hr 17m135 P picks\n",
      "55 S picks\n",
      "[#############################           ] | 73% Completed | 20hr 17m"
     ]
    },
    {
     "name": "stderr",
     "output_type": "stream",
     "text": [
      "/tmp/ipykernel_1432373/2319557713.py:13: RuntimeWarning: All-NaN axis encountered\n",
      "  np.nanmax([stack[idx:idx + twin], _data[iseg+1, :]], axis = 0)\n"
     ]
    },
    {
     "name": "stdout",
     "output_type": "stream",
     "text": [
      "[#############################           ] | 73% Completed | 20hr 17mAll prediction shape: (2, 5, 1439, 6000)\n",
      "[#############################           ] | 73% Completed | 20hr 18m39 P picks\n",
      "12 S picks\n",
      "[#############################           ] | 73% Completed | 20hr 18m"
     ]
    },
    {
     "name": "stderr",
     "output_type": "stream",
     "text": [
      "/tmp/ipykernel_1432373/2319557713.py:13: RuntimeWarning: All-NaN axis encountered\n",
      "  np.nanmax([stack[idx:idx + twin], _data[iseg+1, :]], axis = 0)\n"
     ]
    },
    {
     "name": "stdout",
     "output_type": "stream",
     "text": [
      "[#############################           ] | 73% Completed | 20hr 18mAll prediction shape: (2, 5, 1439, 6000)\n",
      "[#############################           ] | 73% Completed | 20hr 19m37 P picks\n",
      "15 S picks\n",
      "[#############################           ] | 74% Completed | 20hr 19m"
     ]
    },
    {
     "name": "stderr",
     "output_type": "stream",
     "text": [
      "/tmp/ipykernel_1432373/2319557713.py:13: RuntimeWarning: All-NaN axis encountered\n",
      "  np.nanmax([stack[idx:idx + twin], _data[iseg+1, :]], axis = 0)\n"
     ]
    },
    {
     "name": "stdout",
     "output_type": "stream",
     "text": [
      "[#############################           ] | 74% Completed | 20hr 19mAll prediction shape: (2, 5, 3599, 6000)\n",
      "[#############################           ] | 74% Completed | 20hr 23m467 P picks\n",
      "463 S picks\n",
      "[#############################           ] | 74% Completed | 20hr 23m"
     ]
    },
    {
     "name": "stderr",
     "output_type": "stream",
     "text": [
      "/tmp/ipykernel_1432373/2319557713.py:13: RuntimeWarning: All-NaN axis encountered\n",
      "  np.nanmax([stack[idx:idx + twin], _data[iseg+1, :]], axis = 0)\n"
     ]
    },
    {
     "name": "stdout",
     "output_type": "stream",
     "text": [
      "[#############################           ] | 74% Completed | 20hr 24mAll prediction shape: (2, 5, 3599, 6000)\n",
      "[#############################           ] | 74% Completed | 20hr 28m387 P picks\n",
      "188 S picks\n"
     ]
    },
    {
     "name": "stderr",
     "output_type": "stream",
     "text": [
      "/tmp/ipykernel_1432373/2319557713.py:13: RuntimeWarning: All-NaN axis encountered\n",
      "  np.nanmax([stack[idx:idx + twin], _data[iseg+1, :]], axis = 0)\n"
     ]
    },
    {
     "name": "stdout",
     "output_type": "stream",
     "text": [
      "[#############################           ] | 74% Completed | 20hr 28mAll prediction shape: (2, 5, 1438, 6000)\n",
      "[#############################           ] | 74% Completed | 20hr 29m137 P picks\n",
      "56 S picks\n",
      "[#############################           ] | 74% Completed | 20hr 29m"
     ]
    },
    {
     "name": "stderr",
     "output_type": "stream",
     "text": [
      "/tmp/ipykernel_1432373/2319557713.py:13: RuntimeWarning: All-NaN axis encountered\n",
      "  np.nanmax([stack[idx:idx + twin], _data[iseg+1, :]], axis = 0)\n"
     ]
    },
    {
     "name": "stdout",
     "output_type": "stream",
     "text": [
      "[#############################           ] | 74% Completed | 20hr 29mAll prediction shape: (2, 5, 1439, 6000)\n",
      "[#############################           ] | 74% Completed | 20hr 30m48 P picks\n",
      "30 S picks\n",
      "[#############################           ] | 74% Completed | 20hr 30m"
     ]
    },
    {
     "name": "stderr",
     "output_type": "stream",
     "text": [
      "/tmp/ipykernel_1432373/2319557713.py:13: RuntimeWarning: All-NaN axis encountered\n",
      "  np.nanmax([stack[idx:idx + twin], _data[iseg+1, :]], axis = 0)\n"
     ]
    },
    {
     "name": "stdout",
     "output_type": "stream",
     "text": [
      "[#############################           ] | 74% Completed | 20hr 30mAll prediction shape: (2, 5, 3599, 6000)\n",
      "[#############################           ] | 74% Completed | 20hr 34m191 P picks\n",
      "124 S picks\n"
     ]
    },
    {
     "name": "stderr",
     "output_type": "stream",
     "text": [
      "/tmp/ipykernel_1432373/2319557713.py:13: RuntimeWarning: All-NaN axis encountered\n",
      "  np.nanmax([stack[idx:idx + twin], _data[iseg+1, :]], axis = 0)\n"
     ]
    },
    {
     "name": "stdout",
     "output_type": "stream",
     "text": [
      "[#############################           ] | 74% Completed | 20hr 34mAll prediction shape: (2, 5, 1439, 6000)\n",
      "[#############################           ] | 74% Completed | 20hr 35m70 P picks\n",
      "38 S picks\n",
      "[##############################          ] | 75% Completed | 20hr 35m"
     ]
    },
    {
     "name": "stderr",
     "output_type": "stream",
     "text": [
      "/tmp/ipykernel_1432373/2319557713.py:13: RuntimeWarning: All-NaN axis encountered\n",
      "  np.nanmax([stack[idx:idx + twin], _data[iseg+1, :]], axis = 0)\n"
     ]
    },
    {
     "name": "stdout",
     "output_type": "stream",
     "text": [
      "[##############################          ] | 75% Completed | 20hr 35mAll prediction shape: (2, 5, 3599, 6000)\n",
      "[##############################          ] | 75% Completed | 20hr 40m506 P picks\n",
      "429 S picks\n",
      "[##############################          ] | 75% Completed | 20hr 40m"
     ]
    },
    {
     "name": "stderr",
     "output_type": "stream",
     "text": [
      "/tmp/ipykernel_1432373/2319557713.py:13: RuntimeWarning: All-NaN axis encountered\n",
      "  np.nanmax([stack[idx:idx + twin], _data[iseg+1, :]], axis = 0)\n"
     ]
    },
    {
     "name": "stdout",
     "output_type": "stream",
     "text": [
      "[##############################          ] | 75% Completed | 20hr 40mAll prediction shape: (2, 5, 3599, 6000)\n",
      "[##############################          ] | 75% Completed | 20hr 44m349 P picks\n",
      "257 S picks\n"
     ]
    },
    {
     "name": "stderr",
     "output_type": "stream",
     "text": [
      "/tmp/ipykernel_1432373/2319557713.py:13: RuntimeWarning: All-NaN axis encountered\n",
      "  np.nanmax([stack[idx:idx + twin], _data[iseg+1, :]], axis = 0)\n"
     ]
    },
    {
     "name": "stdout",
     "output_type": "stream",
     "text": [
      "[##############################          ] | 75% Completed | 20hr 44mAll prediction shape: (2, 5, 3599, 6000)\n",
      "[##############################          ] | 75% Completed | 20hr 49m522 P picks\n",
      "468 S picks\n",
      "[##############################          ] | 75% Completed | 20hr 49m"
     ]
    },
    {
     "name": "stderr",
     "output_type": "stream",
     "text": [
      "/tmp/ipykernel_1432373/2319557713.py:13: RuntimeWarning: All-NaN axis encountered\n",
      "  np.nanmax([stack[idx:idx + twin], _data[iseg+1, :]], axis = 0)\n"
     ]
    },
    {
     "name": "stdout",
     "output_type": "stream",
     "text": [
      "[##############################          ] | 75% Completed | 20hr 49mAll prediction shape: (2, 5, 3599, 6000)\n",
      "[##############################          ] | 75% Completed | 20hr 53m"
     ]
    },
    {
     "name": "stderr",
     "output_type": "stream",
     "text": [
      "/tmp/ipykernel_1432373/2319557713.py:13: RuntimeWarning: All-NaN axis encountered\n",
      "  np.nanmax([stack[idx:idx + twin], _data[iseg+1, :]], axis = 0)\n"
     ]
    },
    {
     "name": "stdout",
     "output_type": "stream",
     "text": [
      "562 P picks\n",
      "770 S picks\n",
      "[##############################          ] | 75% Completed | 20hr 53mAll prediction shape: (2, 5, 3599, 6000)\n",
      "[##############################          ] | 75% Completed | 20hr 58m479 P picks\n",
      "506 S picks\n"
     ]
    },
    {
     "name": "stderr",
     "output_type": "stream",
     "text": [
      "/tmp/ipykernel_1432373/2319557713.py:13: RuntimeWarning: All-NaN axis encountered\n",
      "  np.nanmax([stack[idx:idx + twin], _data[iseg+1, :]], axis = 0)\n"
     ]
    },
    {
     "name": "stdout",
     "output_type": "stream",
     "text": [
      "[##############################          ] | 76% Completed | 20hr 58mAll prediction shape: (2, 5, 3599, 6000)\n",
      "[##############################          ] | 76% Completed | 21hr 2mm502 P picks\n",
      "253 S picks\n"
     ]
    },
    {
     "name": "stderr",
     "output_type": "stream",
     "text": [
      "/tmp/ipykernel_1432373/2319557713.py:13: RuntimeWarning: All-NaN axis encountered\n",
      "  np.nanmax([stack[idx:idx + twin], _data[iseg+1, :]], axis = 0)\n"
     ]
    },
    {
     "name": "stdout",
     "output_type": "stream",
     "text": [
      "[##############################          ] | 76% Completed | 21hr 2mAll prediction shape: (2, 5, 3598, 6000)\n",
      "[##############################          ] | 76% Completed | 21hr 7m385 P picks\n",
      "328 S picks\n"
     ]
    },
    {
     "name": "stderr",
     "output_type": "stream",
     "text": [
      "/tmp/ipykernel_1432373/2319557713.py:13: RuntimeWarning: All-NaN axis encountered\n",
      "  np.nanmax([stack[idx:idx + twin], _data[iseg+1, :]], axis = 0)\n"
     ]
    },
    {
     "name": "stdout",
     "output_type": "stream",
     "text": [
      "[##############################          ] | 76% Completed | 21hr 7mAll prediction shape: (2, 5, 1439, 6000)\n",
      "[##############################          ] | 76% Completed | 21hr 8m132 P picks\n",
      "145 S picks\n",
      "[##############################          ] | 76% Completed | 21hr 8m"
     ]
    },
    {
     "name": "stderr",
     "output_type": "stream",
     "text": [
      "/tmp/ipykernel_1432373/2319557713.py:13: RuntimeWarning: All-NaN axis encountered\n",
      "  np.nanmax([stack[idx:idx + twin], _data[iseg+1, :]], axis = 0)\n"
     ]
    },
    {
     "name": "stdout",
     "output_type": "stream",
     "text": [
      "[##############################          ] | 76% Completed | 21hr 8mAll prediction shape: (2, 5, 3599, 6000)\n",
      "[##############################          ] | 76% Completed | 21hr 12m418 P picks\n",
      "149 S picks\n"
     ]
    },
    {
     "name": "stderr",
     "output_type": "stream",
     "text": [
      "/tmp/ipykernel_1432373/2319557713.py:13: RuntimeWarning: All-NaN axis encountered\n",
      "  np.nanmax([stack[idx:idx + twin], _data[iseg+1, :]], axis = 0)\n"
     ]
    },
    {
     "name": "stdout",
     "output_type": "stream",
     "text": [
      "[##############################          ] | 76% Completed | 21hr 12mAll prediction shape: (2, 5, 3599, 6000)\n",
      "[##############################          ] | 76% Completed | 21hr 17m"
     ]
    },
    {
     "name": "stderr",
     "output_type": "stream",
     "text": [
      "/tmp/ipykernel_1432373/2319557713.py:13: RuntimeWarning: All-NaN axis encountered\n",
      "  np.nanmax([stack[idx:idx + twin], _data[iseg+1, :]], axis = 0)\n"
     ]
    },
    {
     "name": "stdout",
     "output_type": "stream",
     "text": [
      "683 P picks\n",
      "704 S picks\n",
      "[##############################          ] | 77% Completed | 21hr 17mAll prediction shape: (2, 5, 3599, 6000)\n",
      "[##############################          ] | 77% Completed | 21hr 21m"
     ]
    },
    {
     "name": "stderr",
     "output_type": "stream",
     "text": [
      "/tmp/ipykernel_1432373/2319557713.py:13: RuntimeWarning: All-NaN axis encountered\n",
      "  np.nanmax([stack[idx:idx + twin], _data[iseg+1, :]], axis = 0)\n"
     ]
    },
    {
     "name": "stdout",
     "output_type": "stream",
     "text": [
      "181 P picks\n",
      "196 S picks\n",
      "[##############################          ] | 77% Completed | 21hr 21mAll prediction shape: (2, 5, 3599, 6000)\n",
      "[##############################          ] | 77% Completed | 21hr 26m"
     ]
    },
    {
     "name": "stderr",
     "output_type": "stream",
     "text": [
      "/tmp/ipykernel_1432373/2319557713.py:13: RuntimeWarning: All-NaN axis encountered\n",
      "  np.nanmax([stack[idx:idx + twin], _data[iseg+1, :]], axis = 0)\n"
     ]
    },
    {
     "name": "stdout",
     "output_type": "stream",
     "text": [
      "514 P picks\n",
      "570 S picks\n",
      "[##############################          ] | 77% Completed | 21hr 26mAll prediction shape: (2, 5, 3598, 6000)\n",
      "[##############################          ] | 77% Completed | 21hr 30m68 P picks\n",
      "59 S picks\n"
     ]
    },
    {
     "name": "stderr",
     "output_type": "stream",
     "text": [
      "/tmp/ipykernel_1432373/2319557713.py:13: RuntimeWarning: All-NaN axis encountered\n",
      "  np.nanmax([stack[idx:idx + twin], _data[iseg+1, :]], axis = 0)\n"
     ]
    },
    {
     "name": "stdout",
     "output_type": "stream",
     "text": [
      "[###############################         ] | 77% Completed | 21hr 30mAll prediction shape: (2, 5, 3599, 6000)\n",
      "[###############################         ] | 77% Completed | 21hr 35m"
     ]
    },
    {
     "name": "stderr",
     "output_type": "stream",
     "text": [
      "/tmp/ipykernel_1432373/2319557713.py:13: RuntimeWarning: All-NaN axis encountered\n",
      "  np.nanmax([stack[idx:idx + twin], _data[iseg+1, :]], axis = 0)\n"
     ]
    },
    {
     "name": "stdout",
     "output_type": "stream",
     "text": [
      "524 P picks\n",
      "617 S picks\n",
      "[###############################         ] | 77% Completed | 21hr 35mAll prediction shape: (2, 5, 1439, 6000)\n",
      "[###############################         ] | 77% Completed | 21hr 36m174 P picks\n",
      "62 S picks\n",
      "[###############################         ] | 77% Completed | 21hr 36m"
     ]
    },
    {
     "name": "stderr",
     "output_type": "stream",
     "text": [
      "/tmp/ipykernel_1432373/2319557713.py:13: RuntimeWarning: All-NaN axis encountered\n",
      "  np.nanmax([stack[idx:idx + twin], _data[iseg+1, :]], axis = 0)\n"
     ]
    },
    {
     "name": "stdout",
     "output_type": "stream",
     "text": [
      "[###############################         ] | 77% Completed | 21hr 36mAll prediction shape: (2, 5, 3599, 6000)\n",
      "[###############################         ] | 77% Completed | 21hr 40m"
     ]
    },
    {
     "name": "stderr",
     "output_type": "stream",
     "text": [
      "/tmp/ipykernel_1432373/2319557713.py:13: RuntimeWarning: All-NaN axis encountered\n",
      "  np.nanmax([stack[idx:idx + twin], _data[iseg+1, :]], axis = 0)\n"
     ]
    },
    {
     "name": "stdout",
     "output_type": "stream",
     "text": [
      "602 P picks\n",
      "726 S picks\n",
      "[###############################         ] | 78% Completed | 21hr 41mAll prediction shape: (2, 5, 3599, 6000)\n",
      "[###############################         ] | 78% Completed | 21hr 45m132 P picks\n",
      "147 S picks\n"
     ]
    },
    {
     "name": "stderr",
     "output_type": "stream",
     "text": [
      "/tmp/ipykernel_1432373/2319557713.py:13: RuntimeWarning: All-NaN axis encountered\n",
      "  np.nanmax([stack[idx:idx + twin], _data[iseg+1, :]], axis = 0)\n"
     ]
    },
    {
     "name": "stdout",
     "output_type": "stream",
     "text": [
      "[###############################         ] | 78% Completed | 21hr 45mAll prediction shape: (2, 5, 3599, 6000)\n",
      "[###############################         ] | 78% Completed | 21hr 49m522 P picks\n",
      "251 S picks\n"
     ]
    },
    {
     "name": "stderr",
     "output_type": "stream",
     "text": [
      "/tmp/ipykernel_1432373/2319557713.py:13: RuntimeWarning: All-NaN axis encountered\n",
      "  np.nanmax([stack[idx:idx + twin], _data[iseg+1, :]], axis = 0)\n"
     ]
    },
    {
     "name": "stdout",
     "output_type": "stream",
     "text": [
      "[###############################         ] | 78% Completed | 21hr 49mAll prediction shape: (2, 5, 1439, 6000)\n",
      "[###############################         ] | 78% Completed | 21hr 50m171 P picks\n",
      "149 S picks\n",
      "[###############################         ] | 78% Completed | 21hr 50m"
     ]
    },
    {
     "name": "stderr",
     "output_type": "stream",
     "text": [
      "/tmp/ipykernel_1432373/2319557713.py:13: RuntimeWarning: All-NaN axis encountered\n",
      "  np.nanmax([stack[idx:idx + twin], _data[iseg+1, :]], axis = 0)\n"
     ]
    },
    {
     "name": "stdout",
     "output_type": "stream",
     "text": [
      "[###############################         ] | 78% Completed | 21hr 50mAll prediction shape: (2, 5, 1438, 6000)\n",
      "[###############################         ] | 78% Completed | 21hr 51m126 P picks\n",
      "53 S picks\n",
      "[###############################         ] | 78% Completed | 21hr 51m"
     ]
    },
    {
     "name": "stderr",
     "output_type": "stream",
     "text": [
      "/tmp/ipykernel_1432373/2319557713.py:13: RuntimeWarning: All-NaN axis encountered\n",
      "  np.nanmax([stack[idx:idx + twin], _data[iseg+1, :]], axis = 0)\n"
     ]
    },
    {
     "name": "stdout",
     "output_type": "stream",
     "text": [
      "[###############################         ] | 78% Completed | 21hr 51mAll prediction shape: (2, 5, 1439, 6000)\n",
      "[###############################         ] | 78% Completed | 21hr 52m143 P picks\n",
      "54 S picks\n",
      "[###############################         ] | 79% Completed | 21hr 52m"
     ]
    },
    {
     "name": "stderr",
     "output_type": "stream",
     "text": [
      "/tmp/ipykernel_1432373/2319557713.py:13: RuntimeWarning: All-NaN axis encountered\n",
      "  np.nanmax([stack[idx:idx + twin], _data[iseg+1, :]], axis = 0)\n"
     ]
    },
    {
     "name": "stdout",
     "output_type": "stream",
     "text": [
      "[###############################         ] | 79% Completed | 21hr 52mAll prediction shape: (2, 5, 1439, 6000)\n",
      "[###############################         ] | 79% Completed | 21hr 53m147 P picks\n",
      "102 S picks\n",
      "[###############################         ] | 79% Completed | 21hr 53m"
     ]
    },
    {
     "name": "stderr",
     "output_type": "stream",
     "text": [
      "/tmp/ipykernel_1432373/2319557713.py:13: RuntimeWarning: All-NaN axis encountered\n",
      "  np.nanmax([stack[idx:idx + twin], _data[iseg+1, :]], axis = 0)\n"
     ]
    },
    {
     "name": "stdout",
     "output_type": "stream",
     "text": [
      "[###############################         ] | 79% Completed | 21hr 53mAll prediction shape: (2, 5, 3599, 6000)\n",
      "[###############################         ] | 79% Completed | 21hr 58m"
     ]
    },
    {
     "name": "stderr",
     "output_type": "stream",
     "text": [
      "/tmp/ipykernel_1432373/2319557713.py:13: RuntimeWarning: All-NaN axis encountered\n",
      "  np.nanmax([stack[idx:idx + twin], _data[iseg+1, :]], axis = 0)\n"
     ]
    },
    {
     "name": "stdout",
     "output_type": "stream",
     "text": [
      "458 P picks\n",
      "483 S picks\n",
      "[###############################         ] | 79% Completed | 21hr 58mAll prediction shape: (2, 5, 3599, 6000)\n",
      "[###############################         ] | 79% Completed | 22hr 2mm"
     ]
    },
    {
     "name": "stderr",
     "output_type": "stream",
     "text": [
      "/tmp/ipykernel_1432373/2319557713.py:13: RuntimeWarning: All-NaN axis encountered\n",
      "  np.nanmax([stack[idx:idx + twin], _data[iseg+1, :]], axis = 0)\n"
     ]
    },
    {
     "name": "stdout",
     "output_type": "stream",
     "text": [
      "701 P picks\n",
      "772 S picks\n",
      "[###############################         ] | 79% Completed | 22hr 2mAll prediction shape: (2, 5, 1439, 6000)\n",
      "[###############################         ] | 79% Completed | 22hr 3m65 P picks\n",
      "23 S picks\n",
      "[###############################         ] | 79% Completed | 22hr 3m"
     ]
    },
    {
     "name": "stderr",
     "output_type": "stream",
     "text": [
      "/tmp/ipykernel_1432373/2319557713.py:13: RuntimeWarning: All-NaN axis encountered\n",
      "  np.nanmax([stack[idx:idx + twin], _data[iseg+1, :]], axis = 0)\n"
     ]
    },
    {
     "name": "stdout",
     "output_type": "stream",
     "text": [
      "[###############################         ] | 79% Completed | 22hr 3mAll prediction shape: (2, 5, 3599, 6000)\n",
      "[###############################         ] | 79% Completed | 22hr 8m"
     ]
    },
    {
     "name": "stderr",
     "output_type": "stream",
     "text": [
      "/tmp/ipykernel_1432373/2319557713.py:13: RuntimeWarning: All-NaN axis encountered\n",
      "  np.nanmax([stack[idx:idx + twin], _data[iseg+1, :]], axis = 0)\n"
     ]
    },
    {
     "name": "stdout",
     "output_type": "stream",
     "text": [
      "444 P picks\n",
      "339 S picks\n",
      "[################################        ] | 80% Completed | 22hr 8mAll prediction shape: (2, 5, 3599, 6000)\n",
      "[################################        ] | 80% Completed | 22hr 12m161 P picks\n",
      "171 S picks\n",
      "[################################        ] | 80% Completed | 22hr 12m"
     ]
    },
    {
     "name": "stderr",
     "output_type": "stream",
     "text": [
      "/tmp/ipykernel_1432373/2319557713.py:13: RuntimeWarning: All-NaN axis encountered\n",
      "  np.nanmax([stack[idx:idx + twin], _data[iseg+1, :]], axis = 0)\n"
     ]
    },
    {
     "name": "stdout",
     "output_type": "stream",
     "text": [
      "[################################        ] | 80% Completed | 22hr 12mAll prediction shape: (2, 5, 3599, 6000)\n",
      "[################################        ] | 80% Completed | 22hr 17m345 P picks\n",
      "308 S picks\n",
      "[################################        ] | 80% Completed | 22hr 17m"
     ]
    },
    {
     "name": "stderr",
     "output_type": "stream",
     "text": [
      "/tmp/ipykernel_1432373/2319557713.py:13: RuntimeWarning: All-NaN axis encountered\n",
      "  np.nanmax([stack[idx:idx + twin], _data[iseg+1, :]], axis = 0)\n"
     ]
    },
    {
     "name": "stdout",
     "output_type": "stream",
     "text": [
      "[################################        ] | 80% Completed | 22hr 17mAll prediction shape: (2, 5, 1439, 6000)\n",
      "[################################        ] | 80% Completed | 22hr 18m40 P picks\n",
      "24 S picks\n",
      "[################################        ] | 80% Completed | 22hr 18m"
     ]
    },
    {
     "name": "stderr",
     "output_type": "stream",
     "text": [
      "/tmp/ipykernel_1432373/2319557713.py:13: RuntimeWarning: All-NaN axis encountered\n",
      "  np.nanmax([stack[idx:idx + twin], _data[iseg+1, :]], axis = 0)\n"
     ]
    },
    {
     "name": "stdout",
     "output_type": "stream",
     "text": [
      "[################################        ] | 80% Completed | 22hr 18mAll prediction shape: (2, 5, 3598, 6000)\n",
      "[################################        ] | 80% Completed | 22hr 22m378 P picks\n",
      "159 S picks\n",
      "[################################        ] | 80% Completed | 22hr 22m"
     ]
    },
    {
     "name": "stderr",
     "output_type": "stream",
     "text": [
      "/tmp/ipykernel_1432373/2319557713.py:13: RuntimeWarning: All-NaN axis encountered\n",
      "  np.nanmax([stack[idx:idx + twin], _data[iseg+1, :]], axis = 0)\n"
     ]
    },
    {
     "name": "stdout",
     "output_type": "stream",
     "text": [
      "[################################        ] | 80% Completed | 22hr 22mAll prediction shape: (2, 5, 3599, 6000)\n",
      "[################################        ] | 80% Completed | 22hr 27m227 P picks\n",
      "484 S picks\n",
      "[################################        ] | 80% Completed | 22hr 27m"
     ]
    },
    {
     "name": "stderr",
     "output_type": "stream",
     "text": [
      "/tmp/ipykernel_1432373/2319557713.py:13: RuntimeWarning: All-NaN axis encountered\n",
      "  np.nanmax([stack[idx:idx + twin], _data[iseg+1, :]], axis = 0)\n"
     ]
    },
    {
     "name": "stdout",
     "output_type": "stream",
     "text": [
      "[################################        ] | 81% Completed | 22hr 27mAll prediction shape: (2, 5, 3599, 6000)\n",
      "[################################        ] | 81% Completed | 22hr 31m147 P picks\n",
      "110 S picks\n"
     ]
    },
    {
     "name": "stderr",
     "output_type": "stream",
     "text": [
      "/tmp/ipykernel_1432373/2319557713.py:13: RuntimeWarning: All-NaN axis encountered\n",
      "  np.nanmax([stack[idx:idx + twin], _data[iseg+1, :]], axis = 0)\n"
     ]
    },
    {
     "name": "stdout",
     "output_type": "stream",
     "text": [
      "[################################        ] | 81% Completed | 22hr 31mAll prediction shape: (2, 5, 3599, 6000)\n",
      "[################################        ] | 81% Completed | 22hr 35m525 P picks\n",
      "567 S picks\n"
     ]
    },
    {
     "name": "stderr",
     "output_type": "stream",
     "text": [
      "/tmp/ipykernel_1432373/2319557713.py:13: RuntimeWarning: All-NaN axis encountered\n",
      "  np.nanmax([stack[idx:idx + twin], _data[iseg+1, :]], axis = 0)\n"
     ]
    },
    {
     "name": "stdout",
     "output_type": "stream",
     "text": [
      "[################################        ] | 81% Completed | 22hr 36mAll prediction shape: (2, 5, 1439, 6000)\n",
      "[################################        ] | 81% Completed | 22hr 36m188 P picks\n",
      "39 S picks\n",
      "[################################        ] | 81% Completed | 22hr 36m"
     ]
    },
    {
     "name": "stderr",
     "output_type": "stream",
     "text": [
      "/tmp/ipykernel_1432373/2319557713.py:13: RuntimeWarning: All-NaN axis encountered\n",
      "  np.nanmax([stack[idx:idx + twin], _data[iseg+1, :]], axis = 0)\n"
     ]
    },
    {
     "name": "stdout",
     "output_type": "stream",
     "text": [
      "[################################        ] | 81% Completed | 22hr 37mAll prediction shape: (2, 5, 3598, 6000)\n",
      "[################################        ] | 81% Completed | 22hr 41m459 P picks\n",
      "524 S picks\n",
      "[################################        ] | 81% Completed | 22hr 41m"
     ]
    },
    {
     "name": "stderr",
     "output_type": "stream",
     "text": [
      "/tmp/ipykernel_1432373/2319557713.py:13: RuntimeWarning: All-NaN axis encountered\n",
      "  np.nanmax([stack[idx:idx + twin], _data[iseg+1, :]], axis = 0)\n"
     ]
    },
    {
     "name": "stdout",
     "output_type": "stream",
     "text": [
      "[################################        ] | 81% Completed | 22hr 41mAll prediction shape: (2, 5, 3598, 6000)\n",
      "[################################        ] | 81% Completed | 22hr 45m161 P picks\n",
      "172 S picks\n"
     ]
    },
    {
     "name": "stderr",
     "output_type": "stream",
     "text": [
      "/tmp/ipykernel_1432373/2319557713.py:13: RuntimeWarning: All-NaN axis encountered\n",
      "  np.nanmax([stack[idx:idx + twin], _data[iseg+1, :]], axis = 0)\n"
     ]
    },
    {
     "name": "stdout",
     "output_type": "stream",
     "text": [
      "[################################        ] | 81% Completed | 22hr 46mAll prediction shape: (2, 5, 3599, 6000)\n",
      "[################################        ] | 81% Completed | 22hr 50m450 P picks\n",
      "454 S picks\n"
     ]
    },
    {
     "name": "stderr",
     "output_type": "stream",
     "text": [
      "/tmp/ipykernel_1432373/2319557713.py:13: RuntimeWarning: All-NaN axis encountered\n",
      "  np.nanmax([stack[idx:idx + twin], _data[iseg+1, :]], axis = 0)\n"
     ]
    },
    {
     "name": "stdout",
     "output_type": "stream",
     "text": [
      "[################################        ] | 82% Completed | 22hr 50mAll prediction shape: (2, 5, 3599, 6000)\n",
      "[################################        ] | 82% Completed | 22hr 54m384 P picks\n",
      "195 S picks\n",
      "[################################        ] | 82% Completed | 22hr 54m"
     ]
    },
    {
     "name": "stderr",
     "output_type": "stream",
     "text": [
      "/tmp/ipykernel_1432373/2319557713.py:13: RuntimeWarning: All-NaN axis encountered\n",
      "  np.nanmax([stack[idx:idx + twin], _data[iseg+1, :]], axis = 0)\n"
     ]
    },
    {
     "name": "stdout",
     "output_type": "stream",
     "text": [
      "[################################        ] | 82% Completed | 22hr 54mAll prediction shape: (2, 5, 1439, 6000)\n",
      "[################################        ] | 82% Completed | 22hr 55m67 P picks\n",
      "34 S picks\n",
      "[#################################       ] | 82% Completed | 22hr 55m"
     ]
    },
    {
     "name": "stderr",
     "output_type": "stream",
     "text": [
      "/tmp/ipykernel_1432373/2319557713.py:13: RuntimeWarning: All-NaN axis encountered\n",
      "  np.nanmax([stack[idx:idx + twin], _data[iseg+1, :]], axis = 0)\n"
     ]
    },
    {
     "name": "stdout",
     "output_type": "stream",
     "text": [
      "[#################################       ] | 82% Completed | 22hr 56mAll prediction shape: (2, 5, 3599, 6000)\n",
      "[#################################       ] | 82% Completed | 23hr 0mm173 P picks\n",
      "127 S picks\n"
     ]
    },
    {
     "name": "stderr",
     "output_type": "stream",
     "text": [
      "/tmp/ipykernel_1432373/2319557713.py:13: RuntimeWarning: All-NaN axis encountered\n",
      "  np.nanmax([stack[idx:idx + twin], _data[iseg+1, :]], axis = 0)\n"
     ]
    },
    {
     "name": "stdout",
     "output_type": "stream",
     "text": [
      "[#################################       ] | 82% Completed | 23hr 0mAll prediction shape: (2, 5, 3599, 6000)\n",
      "[#################################       ] | 82% Completed | 23hr 4m503 P picks\n",
      "486 S picks\n"
     ]
    },
    {
     "name": "stderr",
     "output_type": "stream",
     "text": [
      "/tmp/ipykernel_1432373/2319557713.py:13: RuntimeWarning: All-NaN axis encountered\n",
      "  np.nanmax([stack[idx:idx + twin], _data[iseg+1, :]], axis = 0)\n"
     ]
    },
    {
     "name": "stdout",
     "output_type": "stream",
     "text": [
      "[#################################       ] | 82% Completed | 23hr 5mAll prediction shape: (2, 5, 3599, 6000)\n",
      "[#################################       ] | 82% Completed | 23hr 9m457 P picks\n",
      "302 S picks\n"
     ]
    },
    {
     "name": "stderr",
     "output_type": "stream",
     "text": [
      "/tmp/ipykernel_1432373/2319557713.py:13: RuntimeWarning: All-NaN axis encountered\n",
      "  np.nanmax([stack[idx:idx + twin], _data[iseg+1, :]], axis = 0)\n"
     ]
    },
    {
     "name": "stdout",
     "output_type": "stream",
     "text": [
      "[#################################       ] | 83% Completed | 23hr 9mAll prediction shape: (2, 5, 1439, 6000)\n",
      "[#################################       ] | 83% Completed | 23hr 10m204 P picks\n",
      "62 S picks\n",
      "[#################################       ] | 83% Completed | 23hr 10m"
     ]
    },
    {
     "name": "stderr",
     "output_type": "stream",
     "text": [
      "/tmp/ipykernel_1432373/2319557713.py:13: RuntimeWarning: All-NaN axis encountered\n",
      "  np.nanmax([stack[idx:idx + twin], _data[iseg+1, :]], axis = 0)\n"
     ]
    },
    {
     "name": "stdout",
     "output_type": "stream",
     "text": [
      "[#################################       ] | 83% Completed | 23hr 10mAll prediction shape: (2, 5, 1439, 6000)\n",
      "[#################################       ] | 83% Completed | 23hr 11m97 P picks\n",
      "78 S picks\n",
      "[#################################       ] | 83% Completed | 23hr 11m"
     ]
    },
    {
     "name": "stderr",
     "output_type": "stream",
     "text": [
      "/tmp/ipykernel_1432373/2319557713.py:13: RuntimeWarning: All-NaN axis encountered\n",
      "  np.nanmax([stack[idx:idx + twin], _data[iseg+1, :]], axis = 0)\n"
     ]
    },
    {
     "name": "stdout",
     "output_type": "stream",
     "text": [
      "[#################################       ] | 83% Completed | 23hr 11mAll prediction shape: (2, 5, 3599, 6000)\n",
      "[#################################       ] | 83% Completed | 23hr 15m480 P picks\n",
      "588 S picks\n"
     ]
    },
    {
     "name": "stderr",
     "output_type": "stream",
     "text": [
      "/tmp/ipykernel_1432373/2319557713.py:13: RuntimeWarning: All-NaN axis encountered\n",
      "  np.nanmax([stack[idx:idx + twin], _data[iseg+1, :]], axis = 0)\n"
     ]
    },
    {
     "name": "stdout",
     "output_type": "stream",
     "text": [
      "[#################################       ] | 83% Completed | 23hr 15mAll prediction shape: (2, 5, 3598, 6000)\n",
      "[#################################       ] | 83% Completed | 23hr 20m449 P picks\n",
      "501 S picks\n",
      "[#################################       ] | 83% Completed | 23hr 20m"
     ]
    },
    {
     "name": "stderr",
     "output_type": "stream",
     "text": [
      "/tmp/ipykernel_1432373/2319557713.py:13: RuntimeWarning: All-NaN axis encountered\n",
      "  np.nanmax([stack[idx:idx + twin], _data[iseg+1, :]], axis = 0)\n"
     ]
    },
    {
     "name": "stdout",
     "output_type": "stream",
     "text": [
      "[#################################       ] | 83% Completed | 23hr 20mAll prediction shape: (2, 5, 1439, 6000)\n",
      "[#################################       ] | 83% Completed | 23hr 21m188 P picks\n",
      "52 S picks\n",
      "[#################################       ] | 84% Completed | 23hr 21m"
     ]
    },
    {
     "name": "stderr",
     "output_type": "stream",
     "text": [
      "/tmp/ipykernel_1432373/2319557713.py:13: RuntimeWarning: All-NaN axis encountered\n",
      "  np.nanmax([stack[idx:idx + twin], _data[iseg+1, :]], axis = 0)\n"
     ]
    },
    {
     "name": "stdout",
     "output_type": "stream",
     "text": [
      "[#################################       ] | 84% Completed | 23hr 21mAll prediction shape: (2, 5, 1439, 6000)\n",
      "[#################################       ] | 84% Completed | 23hr 22m69 P picks\n",
      "27 S picks\n",
      "[#################################       ] | 84% Completed | 23hr 22m"
     ]
    },
    {
     "name": "stderr",
     "output_type": "stream",
     "text": [
      "/tmp/ipykernel_1432373/2319557713.py:13: RuntimeWarning: All-NaN axis encountered\n",
      "  np.nanmax([stack[idx:idx + twin], _data[iseg+1, :]], axis = 0)\n"
     ]
    },
    {
     "name": "stdout",
     "output_type": "stream",
     "text": [
      "[#################################       ] | 84% Completed | 23hr 22mAll prediction shape: (2, 5, 1439, 6000)\n",
      "[#################################       ] | 84% Completed | 23hr 23m209 P picks\n",
      "82 S picks\n",
      "[#################################       ] | 84% Completed | 23hr 23m"
     ]
    },
    {
     "name": "stderr",
     "output_type": "stream",
     "text": [
      "/tmp/ipykernel_1432373/2319557713.py:13: RuntimeWarning: All-NaN axis encountered\n",
      "  np.nanmax([stack[idx:idx + twin], _data[iseg+1, :]], axis = 0)\n"
     ]
    },
    {
     "name": "stdout",
     "output_type": "stream",
     "text": [
      "[#################################       ] | 84% Completed | 23hr 23mAll prediction shape: (2, 5, 3599, 6000)\n",
      "[#################################       ] | 84% Completed | 23hr 27m"
     ]
    },
    {
     "name": "stderr",
     "output_type": "stream",
     "text": [
      "/tmp/ipykernel_1432373/2319557713.py:13: RuntimeWarning: All-NaN axis encountered\n",
      "  np.nanmax([stack[idx:idx + twin], _data[iseg+1, :]], axis = 0)\n"
     ]
    },
    {
     "name": "stdout",
     "output_type": "stream",
     "text": [
      "369 P picks\n",
      "326 S picks\n",
      "[#################################       ] | 84% Completed | 23hr 27mAll prediction shape: (2, 5, 3599, 6000)\n",
      "[#################################       ] | 84% Completed | 23hr 32m247 P picks\n",
      "568 S picks\n",
      "[#################################       ] | 84% Completed | 23hr 32m"
     ]
    },
    {
     "name": "stderr",
     "output_type": "stream",
     "text": [
      "/tmp/ipykernel_1432373/2319557713.py:13: RuntimeWarning: All-NaN axis encountered\n",
      "  np.nanmax([stack[idx:idx + twin], _data[iseg+1, :]], axis = 0)\n"
     ]
    },
    {
     "name": "stdout",
     "output_type": "stream",
     "text": [
      "[#################################       ] | 84% Completed | 23hr 32mAll prediction shape: (2, 5, 3599, 6000)\n",
      "[#################################       ] | 84% Completed | 23hr 36m189 P picks\n",
      "81 S picks\n",
      "[##################################      ] | 85% Completed | 23hr 36m"
     ]
    },
    {
     "name": "stderr",
     "output_type": "stream",
     "text": [
      "/tmp/ipykernel_1432373/2319557713.py:13: RuntimeWarning: All-NaN axis encountered\n",
      "  np.nanmax([stack[idx:idx + twin], _data[iseg+1, :]], axis = 0)\n"
     ]
    },
    {
     "name": "stdout",
     "output_type": "stream",
     "text": [
      "[##################################      ] | 85% Completed | 23hr 36mAll prediction shape: (2, 5, 1439, 6000)\n",
      "[##################################      ] | 85% Completed | 23hr 37m133 P picks\n",
      "56 S picks\n",
      "[##################################      ] | 85% Completed | 23hr 37m"
     ]
    },
    {
     "name": "stderr",
     "output_type": "stream",
     "text": [
      "/tmp/ipykernel_1432373/2319557713.py:13: RuntimeWarning: All-NaN axis encountered\n",
      "  np.nanmax([stack[idx:idx + twin], _data[iseg+1, :]], axis = 0)\n"
     ]
    },
    {
     "name": "stdout",
     "output_type": "stream",
     "text": [
      "[##################################      ] | 85% Completed | 23hr 37mAll prediction shape: (2, 5, 1439, 6000)\n",
      "[##################################      ] | 85% Completed | 23hr 38m138 P picks\n",
      "104 S picks\n",
      "[##################################      ] | 85% Completed | 23hr 38m"
     ]
    },
    {
     "name": "stderr",
     "output_type": "stream",
     "text": [
      "/tmp/ipykernel_1432373/2319557713.py:13: RuntimeWarning: All-NaN axis encountered\n",
      "  np.nanmax([stack[idx:idx + twin], _data[iseg+1, :]], axis = 0)\n"
     ]
    },
    {
     "name": "stdout",
     "output_type": "stream",
     "text": [
      "[##################################      ] | 85% Completed | 23hr 39mAll prediction shape: (2, 5, 3599, 6000)\n",
      "[##################################      ] | 85% Completed | 23hr 43m515 P picks\n",
      "547 S picks\n"
     ]
    },
    {
     "name": "stderr",
     "output_type": "stream",
     "text": [
      "/tmp/ipykernel_1432373/2319557713.py:13: RuntimeWarning: All-NaN axis encountered\n",
      "  np.nanmax([stack[idx:idx + twin], _data[iseg+1, :]], axis = 0)\n"
     ]
    },
    {
     "name": "stdout",
     "output_type": "stream",
     "text": [
      "[##################################      ] | 85% Completed | 23hr 43mAll prediction shape: (2, 5, 3599, 6000)\n",
      "[##################################      ] | 85% Completed | 23hr 47m"
     ]
    },
    {
     "name": "stderr",
     "output_type": "stream",
     "text": [
      "/tmp/ipykernel_1432373/2319557713.py:13: RuntimeWarning: All-NaN axis encountered\n",
      "  np.nanmax([stack[idx:idx + twin], _data[iseg+1, :]], axis = 0)\n"
     ]
    },
    {
     "name": "stdout",
     "output_type": "stream",
     "text": [
      "452 P picks\n",
      "502 S picks\n",
      "[##################################      ] | 85% Completed | 23hr 48mAll prediction shape: (2, 5, 3599, 6000)\n",
      "[##################################      ] | 85% Completed | 23hr 52m578 P picks\n",
      "551 S picks\n"
     ]
    },
    {
     "name": "stderr",
     "output_type": "stream",
     "text": [
      "/tmp/ipykernel_1432373/2319557713.py:13: RuntimeWarning: All-NaN axis encountered\n",
      "  np.nanmax([stack[idx:idx + twin], _data[iseg+1, :]], axis = 0)\n"
     ]
    },
    {
     "name": "stdout",
     "output_type": "stream",
     "text": [
      "[##################################      ] | 85% Completed | 23hr 52mAll prediction shape: (2, 5, 3599, 6000)\n",
      "[##################################      ] | 85% Completed | 23hr 56m267 P picks\n",
      "673 S picks\n"
     ]
    },
    {
     "name": "stderr",
     "output_type": "stream",
     "text": [
      "/tmp/ipykernel_1432373/2319557713.py:13: RuntimeWarning: All-NaN axis encountered\n",
      "  np.nanmax([stack[idx:idx + twin], _data[iseg+1, :]], axis = 0)\n"
     ]
    },
    {
     "name": "stdout",
     "output_type": "stream",
     "text": [
      "[##################################      ] | 86% Completed | 23hr 56mAll prediction shape: (2, 5, 1439, 6000)\n",
      "[##################################      ] | 86% Completed | 23hr 57m196 P picks\n",
      "63 S picks\n",
      "[##################################      ] | 86% Completed | 23hr 57m"
     ]
    },
    {
     "name": "stderr",
     "output_type": "stream",
     "text": [
      "/tmp/ipykernel_1432373/2319557713.py:13: RuntimeWarning: All-NaN axis encountered\n",
      "  np.nanmax([stack[idx:idx + twin], _data[iseg+1, :]], axis = 0)\n"
     ]
    },
    {
     "name": "stdout",
     "output_type": "stream",
     "text": [
      "[##################################      ] | 86% Completed | 23hr 58mAll prediction shape: (2, 5, 3599, 6000)\n",
      "[##################################      ] | 86% Completed | 24hr 2mm413 P picks\n",
      "222 S picks\n"
     ]
    },
    {
     "name": "stderr",
     "output_type": "stream",
     "text": [
      "/tmp/ipykernel_1432373/2319557713.py:13: RuntimeWarning: All-NaN axis encountered\n",
      "  np.nanmax([stack[idx:idx + twin], _data[iseg+1, :]], axis = 0)\n"
     ]
    },
    {
     "name": "stdout",
     "output_type": "stream",
     "text": [
      "[##################################      ] | 86% Completed | 24hr 2mAll prediction shape: (2, 5, 1439, 6000)\n",
      "[##################################      ] | 86% Completed | 24hr 3m146 P picks\n",
      "50 S picks\n",
      "[##################################      ] | 86% Completed | 24hr 3m"
     ]
    },
    {
     "name": "stderr",
     "output_type": "stream",
     "text": [
      "/tmp/ipykernel_1432373/2319557713.py:13: RuntimeWarning: All-NaN axis encountered\n",
      "  np.nanmax([stack[idx:idx + twin], _data[iseg+1, :]], axis = 0)\n"
     ]
    },
    {
     "name": "stdout",
     "output_type": "stream",
     "text": [
      "[##################################      ] | 86% Completed | 24hr 3mAll prediction shape: (2, 5, 3599, 6000)\n",
      "[##################################      ] | 86% Completed | 24hr 7m200 P picks\n",
      "468 S picks\n"
     ]
    },
    {
     "name": "stderr",
     "output_type": "stream",
     "text": [
      "/tmp/ipykernel_1432373/2319557713.py:13: RuntimeWarning: All-NaN axis encountered\n",
      "  np.nanmax([stack[idx:idx + twin], _data[iseg+1, :]], axis = 0)\n"
     ]
    },
    {
     "name": "stdout",
     "output_type": "stream",
     "text": [
      "[##################################      ] | 86% Completed | 24hr 8mAll prediction shape: (2, 5, 3599, 6000)\n",
      "[##################################      ] | 86% Completed | 24hr 12m104 P picks\n",
      "97 S picks\n",
      "[##################################      ] | 86% Completed | 24hr 12m"
     ]
    },
    {
     "name": "stderr",
     "output_type": "stream",
     "text": [
      "/tmp/ipykernel_1432373/2319557713.py:13: RuntimeWarning: All-NaN axis encountered\n",
      "  np.nanmax([stack[idx:idx + twin], _data[iseg+1, :]], axis = 0)\n"
     ]
    },
    {
     "name": "stdout",
     "output_type": "stream",
     "text": [
      "[##################################      ] | 87% Completed | 24hr 12mAll prediction shape: (2, 5, 3599, 6000)\n",
      "[##################################      ] | 87% Completed | 24hr 17m"
     ]
    },
    {
     "name": "stderr",
     "output_type": "stream",
     "text": [
      "/tmp/ipykernel_1432373/2319557713.py:13: RuntimeWarning: All-NaN axis encountered\n",
      "  np.nanmax([stack[idx:idx + twin], _data[iseg+1, :]], axis = 0)\n"
     ]
    },
    {
     "name": "stdout",
     "output_type": "stream",
     "text": [
      "517 P picks\n",
      "165 S picks\n",
      "[##################################      ] | 87% Completed | 24hr 17mAll prediction shape: (2, 5, 1439, 6000)\n",
      "[##################################      ] | 87% Completed | 24hr 18m89 P picks\n",
      "16 S picks\n",
      "[##################################      ] | 87% Completed | 24hr 18m"
     ]
    },
    {
     "name": "stderr",
     "output_type": "stream",
     "text": [
      "/tmp/ipykernel_1432373/2319557713.py:13: RuntimeWarning: All-NaN axis encountered\n",
      "  np.nanmax([stack[idx:idx + twin], _data[iseg+1, :]], axis = 0)\n"
     ]
    },
    {
     "name": "stdout",
     "output_type": "stream",
     "text": [
      "[##################################      ] | 87% Completed | 24hr 18mAll prediction shape: (2, 5, 3599, 6000)\n",
      "[##################################      ] | 87% Completed | 24hr 22m"
     ]
    },
    {
     "name": "stderr",
     "output_type": "stream",
     "text": [
      "/tmp/ipykernel_1432373/2319557713.py:13: RuntimeWarning: All-NaN axis encountered\n",
      "  np.nanmax([stack[idx:idx + twin], _data[iseg+1, :]], axis = 0)\n"
     ]
    },
    {
     "name": "stdout",
     "output_type": "stream",
     "text": [
      "424 P picks\n",
      "168 S picks\n",
      "[###################################     ] | 87% Completed | 24hr 22mAll prediction shape: (2, 5, 1439, 6000)\n",
      "[###################################     ] | 87% Completed | 24hr 23m102 P picks\n",
      "27 S picks\n",
      "[###################################     ] | 87% Completed | 24hr 23m"
     ]
    },
    {
     "name": "stderr",
     "output_type": "stream",
     "text": [
      "/tmp/ipykernel_1432373/2319557713.py:13: RuntimeWarning: All-NaN axis encountered\n",
      "  np.nanmax([stack[idx:idx + twin], _data[iseg+1, :]], axis = 0)\n"
     ]
    },
    {
     "name": "stdout",
     "output_type": "stream",
     "text": [
      "[###################################     ] | 87% Completed | 24hr 23mAll prediction shape: (2, 5, 3599, 6000)\n",
      "[###################################     ] | 87% Completed | 24hr 28m"
     ]
    },
    {
     "name": "stderr",
     "output_type": "stream",
     "text": [
      "/tmp/ipykernel_1432373/2319557713.py:13: RuntimeWarning: All-NaN axis encountered\n",
      "  np.nanmax([stack[idx:idx + twin], _data[iseg+1, :]], axis = 0)\n"
     ]
    },
    {
     "name": "stdout",
     "output_type": "stream",
     "text": [
      "539 P picks\n",
      "637 S picks\n",
      "[###################################     ] | 88% Completed | 24hr 28mAll prediction shape: (2, 5, 1438, 6000)\n",
      "[###################################     ] | 88% Completed | 24hr 29m96 P picks\n",
      "14 S picks\n",
      "[###################################     ] | 88% Completed | 24hr 29m"
     ]
    },
    {
     "name": "stderr",
     "output_type": "stream",
     "text": [
      "/tmp/ipykernel_1432373/2319557713.py:13: RuntimeWarning: All-NaN axis encountered\n",
      "  np.nanmax([stack[idx:idx + twin], _data[iseg+1, :]], axis = 0)\n"
     ]
    },
    {
     "name": "stdout",
     "output_type": "stream",
     "text": [
      "[###################################     ] | 88% Completed | 24hr 29mAll prediction shape: (2, 5, 3598, 6000)\n",
      "[###################################     ] | 88% Completed | 24hr 33m119 P picks\n",
      "96 S picks\n"
     ]
    },
    {
     "name": "stderr",
     "output_type": "stream",
     "text": [
      "/tmp/ipykernel_1432373/2319557713.py:13: RuntimeWarning: All-NaN axis encountered\n",
      "  np.nanmax([stack[idx:idx + twin], _data[iseg+1, :]], axis = 0)\n"
     ]
    },
    {
     "name": "stdout",
     "output_type": "stream",
     "text": [
      "[###################################     ] | 88% Completed | 24hr 33mAll prediction shape: (2, 5, 3599, 6000)\n",
      "[###################################     ] | 88% Completed | 24hr 38m"
     ]
    },
    {
     "name": "stderr",
     "output_type": "stream",
     "text": [
      "/tmp/ipykernel_1432373/2319557713.py:13: RuntimeWarning: All-NaN axis encountered\n",
      "  np.nanmax([stack[idx:idx + twin], _data[iseg+1, :]], axis = 0)\n"
     ]
    },
    {
     "name": "stdout",
     "output_type": "stream",
     "text": [
      "466 P picks\n",
      "193 S picks\n",
      "[###################################     ] | 88% Completed | 24hr 38mAll prediction shape: (2, 5, 1439, 6000)\n",
      "[###################################     ] | 88% Completed | 24hr 39m229 P picks\n",
      "98 S picks\n",
      "[###################################     ] | 88% Completed | 24hr 39m"
     ]
    },
    {
     "name": "stderr",
     "output_type": "stream",
     "text": [
      "/tmp/ipykernel_1432373/2319557713.py:13: RuntimeWarning: All-NaN axis encountered\n",
      "  np.nanmax([stack[idx:idx + twin], _data[iseg+1, :]], axis = 0)\n"
     ]
    },
    {
     "name": "stdout",
     "output_type": "stream",
     "text": [
      "[###################################     ] | 88% Completed | 24hr 39mAll prediction shape: (2, 5, 3598, 6000)\n",
      "[###################################     ] | 88% Completed | 24hr 43m69 P picks\n",
      "65 S picks\n"
     ]
    },
    {
     "name": "stderr",
     "output_type": "stream",
     "text": [
      "/tmp/ipykernel_1432373/2319557713.py:13: RuntimeWarning: All-NaN axis encountered\n",
      "  np.nanmax([stack[idx:idx + twin], _data[iseg+1, :]], axis = 0)\n"
     ]
    },
    {
     "name": "stdout",
     "output_type": "stream",
     "text": [
      "[###################################     ] | 88% Completed | 24hr 43mAll prediction shape: (2, 5, 1439, 6000)\n",
      "[###################################     ] | 88% Completed | 24hr 44m199 P picks\n",
      "73 S picks\n",
      "[###################################     ] | 89% Completed | 24hr 44m"
     ]
    },
    {
     "name": "stderr",
     "output_type": "stream",
     "text": [
      "/tmp/ipykernel_1432373/2319557713.py:13: RuntimeWarning: All-NaN axis encountered\n",
      "  np.nanmax([stack[idx:idx + twin], _data[iseg+1, :]], axis = 0)\n"
     ]
    },
    {
     "name": "stdout",
     "output_type": "stream",
     "text": [
      "[###################################     ] | 89% Completed | 24hr 45mAll prediction shape: (2, 5, 3599, 6000)\n",
      "[###################################     ] | 89% Completed | 24hr 49m"
     ]
    },
    {
     "name": "stderr",
     "output_type": "stream",
     "text": [
      "/tmp/ipykernel_1432373/2319557713.py:13: RuntimeWarning: All-NaN axis encountered\n",
      "  np.nanmax([stack[idx:idx + twin], _data[iseg+1, :]], axis = 0)\n"
     ]
    },
    {
     "name": "stdout",
     "output_type": "stream",
     "text": [
      "553 P picks\n",
      "664 S picks\n",
      "[###################################     ] | 89% Completed | 24hr 49mAll prediction shape: (2, 5, 3598, 6000)\n",
      "[###################################     ] | 89% Completed | 24hr 53m"
     ]
    },
    {
     "name": "stderr",
     "output_type": "stream",
     "text": [
      "/tmp/ipykernel_1432373/2319557713.py:13: RuntimeWarning: All-NaN axis encountered\n",
      "  np.nanmax([stack[idx:idx + twin], _data[iseg+1, :]], axis = 0)\n"
     ]
    },
    {
     "name": "stdout",
     "output_type": "stream",
     "text": [
      "369 P picks\n",
      "382 S picks\n",
      "[###################################     ] | 89% Completed | 24hr 53mAll prediction shape: (2, 5, 1439, 6000)\n",
      "[###################################     ] | 89% Completed | 24hr 54m124 P picks\n",
      "64 S picks\n",
      "[###################################     ] | 89% Completed | 24hr 54m"
     ]
    },
    {
     "name": "stderr",
     "output_type": "stream",
     "text": [
      "/tmp/ipykernel_1432373/2319557713.py:13: RuntimeWarning: All-NaN axis encountered\n",
      "  np.nanmax([stack[idx:idx + twin], _data[iseg+1, :]], axis = 0)\n"
     ]
    },
    {
     "name": "stdout",
     "output_type": "stream",
     "text": [
      "[###################################     ] | 89% Completed | 24hr 55mAll prediction shape: (2, 5, 3599, 6000)\n",
      "[###################################     ] | 89% Completed | 24hr 59m379 P picks\n",
      "458 S picks\n"
     ]
    },
    {
     "name": "stderr",
     "output_type": "stream",
     "text": [
      "/tmp/ipykernel_1432373/2319557713.py:13: RuntimeWarning: All-NaN axis encountered\n",
      "  np.nanmax([stack[idx:idx + twin], _data[iseg+1, :]], axis = 0)\n"
     ]
    },
    {
     "name": "stdout",
     "output_type": "stream",
     "text": [
      "[###################################     ] | 89% Completed | 24hr 59mAll prediction shape: (2, 5, 3599, 6000)\n",
      "[###################################     ] | 89% Completed | 25hr 3mm265 P picks\n",
      "491 S picks\n"
     ]
    },
    {
     "name": "stderr",
     "output_type": "stream",
     "text": [
      "/tmp/ipykernel_1432373/2319557713.py:13: RuntimeWarning: All-NaN axis encountered\n",
      "  np.nanmax([stack[idx:idx + twin], _data[iseg+1, :]], axis = 0)\n"
     ]
    },
    {
     "name": "stdout",
     "output_type": "stream",
     "text": [
      "[####################################    ] | 90% Completed | 25hr 4mAll prediction shape: (2, 5, 3599, 6000)\n",
      "[####################################    ] | 90% Completed | 25hr 8m"
     ]
    },
    {
     "name": "stderr",
     "output_type": "stream",
     "text": [
      "/tmp/ipykernel_1432373/2319557713.py:13: RuntimeWarning: All-NaN axis encountered\n",
      "  np.nanmax([stack[idx:idx + twin], _data[iseg+1, :]], axis = 0)\n"
     ]
    },
    {
     "name": "stdout",
     "output_type": "stream",
     "text": [
      "572 P picks\n",
      "250 S picks\n",
      "[####################################    ] | 90% Completed | 25hr 8mAll prediction shape: (2, 5, 3599, 6000)\n",
      "[####################################    ] | 90% Completed | 25hr 12m326 P picks\n",
      "313 S picks\n",
      "[####################################    ] | 90% Completed | 25hr 12m"
     ]
    },
    {
     "name": "stderr",
     "output_type": "stream",
     "text": [
      "/tmp/ipykernel_1432373/2319557713.py:13: RuntimeWarning: All-NaN axis encountered\n",
      "  np.nanmax([stack[idx:idx + twin], _data[iseg+1, :]], axis = 0)\n"
     ]
    },
    {
     "name": "stdout",
     "output_type": "stream",
     "text": [
      "[####################################    ] | 90% Completed | 25hr 12mAll prediction shape: (2, 5, 1438, 6000)\n",
      "[####################################    ] | 90% Completed | 25hr 13m73 P picks\n",
      "22 S picks\n",
      "[####################################    ] | 90% Completed | 25hr 13m"
     ]
    },
    {
     "name": "stderr",
     "output_type": "stream",
     "text": [
      "/tmp/ipykernel_1432373/2319557713.py:13: RuntimeWarning: All-NaN axis encountered\n",
      "  np.nanmax([stack[idx:idx + twin], _data[iseg+1, :]], axis = 0)\n"
     ]
    },
    {
     "name": "stdout",
     "output_type": "stream",
     "text": [
      "[####################################    ] | 90% Completed | 25hr 14mAll prediction shape: (2, 5, 3599, 6000)\n",
      "[####################################    ] | 90% Completed | 25hr 18m"
     ]
    },
    {
     "name": "stderr",
     "output_type": "stream",
     "text": [
      "/tmp/ipykernel_1432373/2319557713.py:13: RuntimeWarning: All-NaN axis encountered\n",
      "  np.nanmax([stack[idx:idx + twin], _data[iseg+1, :]], axis = 0)\n"
     ]
    },
    {
     "name": "stdout",
     "output_type": "stream",
     "text": [
      "578 P picks\n",
      "266 S picks\n",
      "[####################################    ] | 90% Completed | 25hr 18mAll prediction shape: (2, 5, 3599, 6000)\n",
      "[####################################    ] | 90% Completed | 25hr 22m"
     ]
    },
    {
     "name": "stderr",
     "output_type": "stream",
     "text": [
      "/tmp/ipykernel_1432373/2319557713.py:13: RuntimeWarning: All-NaN axis encountered\n",
      "  np.nanmax([stack[idx:idx + twin], _data[iseg+1, :]], axis = 0)\n"
     ]
    },
    {
     "name": "stdout",
     "output_type": "stream",
     "text": [
      "615 P picks\n",
      "218 S picks\n",
      "[####################################    ] | 91% Completed | 25hr 23mAll prediction shape: (2, 5, 1439, 6000)\n",
      "[####################################    ] | 91% Completed | 25hr 23m104 P picks\n",
      "89 S picks\n",
      "[####################################    ] | 91% Completed | 25hr 23m"
     ]
    },
    {
     "name": "stderr",
     "output_type": "stream",
     "text": [
      "/tmp/ipykernel_1432373/2319557713.py:13: RuntimeWarning: All-NaN axis encountered\n",
      "  np.nanmax([stack[idx:idx + twin], _data[iseg+1, :]], axis = 0)\n"
     ]
    },
    {
     "name": "stdout",
     "output_type": "stream",
     "text": [
      "[####################################    ] | 91% Completed | 25hr 24mAll prediction shape: (2, 5, 3599, 6000)\n",
      "[####################################    ] | 91% Completed | 25hr 28m337 P picks\n",
      "714 S picks\n"
     ]
    },
    {
     "name": "stderr",
     "output_type": "stream",
     "text": [
      "/tmp/ipykernel_1432373/2319557713.py:13: RuntimeWarning: All-NaN axis encountered\n",
      "  np.nanmax([stack[idx:idx + twin], _data[iseg+1, :]], axis = 0)\n"
     ]
    },
    {
     "name": "stdout",
     "output_type": "stream",
     "text": [
      "[####################################    ] | 91% Completed | 25hr 28mAll prediction shape: (2, 5, 3599, 6000)\n",
      "[####################################    ] | 91% Completed | 25hr 32m"
     ]
    },
    {
     "name": "stderr",
     "output_type": "stream",
     "text": [
      "/tmp/ipykernel_1432373/2319557713.py:13: RuntimeWarning: All-NaN axis encountered\n",
      "  np.nanmax([stack[idx:idx + twin], _data[iseg+1, :]], axis = 0)\n"
     ]
    },
    {
     "name": "stdout",
     "output_type": "stream",
     "text": [
      "485 P picks\n",
      "524 S picks\n",
      "[####################################    ] | 91% Completed | 25hr 33mAll prediction shape: (2, 5, 1439, 6000)\n",
      "[####################################    ] | 91% Completed | 25hr 33m42 P picks\n",
      "20 S picks\n",
      "[####################################    ] | 91% Completed | 25hr 33m"
     ]
    },
    {
     "name": "stderr",
     "output_type": "stream",
     "text": [
      "/tmp/ipykernel_1432373/2319557713.py:13: RuntimeWarning: All-NaN axis encountered\n",
      "  np.nanmax([stack[idx:idx + twin], _data[iseg+1, :]], axis = 0)\n"
     ]
    },
    {
     "name": "stdout",
     "output_type": "stream",
     "text": [
      "[####################################    ] | 91% Completed | 25hr 34mAll prediction shape: (2, 5, 3599, 6000)\n",
      "[####################################    ] | 91% Completed | 25hr 38m492 P picks\n",
      "212 S picks\n"
     ]
    },
    {
     "name": "stderr",
     "output_type": "stream",
     "text": [
      "/tmp/ipykernel_1432373/2319557713.py:13: RuntimeWarning: All-NaN axis encountered\n",
      "  np.nanmax([stack[idx:idx + twin], _data[iseg+1, :]], axis = 0)\n"
     ]
    },
    {
     "name": "stdout",
     "output_type": "stream",
     "text": [
      "[####################################    ] | 92% Completed | 25hr 38mAll prediction shape: (2, 5, 1438, 6000)\n",
      "[####################################    ] | 92% Completed | 25hr 39m181 P picks\n",
      "60 S picks\n",
      "[####################################    ] | 92% Completed | 25hr 39m"
     ]
    },
    {
     "name": "stderr",
     "output_type": "stream",
     "text": [
      "/tmp/ipykernel_1432373/2319557713.py:13: RuntimeWarning: All-NaN axis encountered\n",
      "  np.nanmax([stack[idx:idx + twin], _data[iseg+1, :]], axis = 0)\n"
     ]
    },
    {
     "name": "stdout",
     "output_type": "stream",
     "text": [
      "[####################################    ] | 92% Completed | 25hr 39mAll prediction shape: (2, 5, 3598, 6000)\n",
      "[####################################    ] | 92% Completed | 25hr 43m"
     ]
    },
    {
     "name": "stderr",
     "output_type": "stream",
     "text": [
      "/tmp/ipykernel_1432373/2319557713.py:13: RuntimeWarning: All-NaN axis encountered\n",
      "  np.nanmax([stack[idx:idx + twin], _data[iseg+1, :]], axis = 0)\n"
     ]
    },
    {
     "name": "stdout",
     "output_type": "stream",
     "text": [
      "179 P picks\n",
      "164 S picks\n",
      "[####################################    ] | 92% Completed | 25hr 44mAll prediction shape: (2, 5, 3599, 6000)\n",
      "[####################################    ] | 92% Completed | 25hr 48m456 P picks\n",
      "453 S picks\n"
     ]
    },
    {
     "name": "stderr",
     "output_type": "stream",
     "text": [
      "/tmp/ipykernel_1432373/2319557713.py:13: RuntimeWarning: All-NaN axis encountered\n",
      "  np.nanmax([stack[idx:idx + twin], _data[iseg+1, :]], axis = 0)\n"
     ]
    },
    {
     "name": "stdout",
     "output_type": "stream",
     "text": [
      "[#####################################   ] | 92% Completed | 25hr 48mAll prediction shape: (2, 5, 1439, 6000)\n",
      "[#####################################   ] | 92% Completed | 25hr 49m137 P picks\n",
      "104 S picks\n",
      "[#####################################   ] | 92% Completed | 25hr 49m"
     ]
    },
    {
     "name": "stderr",
     "output_type": "stream",
     "text": [
      "/tmp/ipykernel_1432373/2319557713.py:13: RuntimeWarning: All-NaN axis encountered\n",
      "  np.nanmax([stack[idx:idx + twin], _data[iseg+1, :]], axis = 0)\n"
     ]
    },
    {
     "name": "stdout",
     "output_type": "stream",
     "text": [
      "[#####################################   ] | 92% Completed | 25hr 49mAll prediction shape: (2, 5, 3599, 6000)\n",
      "[#####################################   ] | 92% Completed | 25hr 53m233 P picks\n",
      "338 S picks\n"
     ]
    },
    {
     "name": "stderr",
     "output_type": "stream",
     "text": [
      "/tmp/ipykernel_1432373/2319557713.py:13: RuntimeWarning: All-NaN axis encountered\n",
      "  np.nanmax([stack[idx:idx + twin], _data[iseg+1, :]], axis = 0)\n"
     ]
    },
    {
     "name": "stdout",
     "output_type": "stream",
     "text": [
      "[#####################################   ] | 92% Completed | 25hr 54mAll prediction shape: (2, 5, 3598, 6000)\n",
      "[#####################################   ] | 92% Completed | 25hr 58m102 P picks\n",
      "124 S picks\n",
      "[#####################################   ] | 92% Completed | 25hr 58m"
     ]
    },
    {
     "name": "stderr",
     "output_type": "stream",
     "text": [
      "/tmp/ipykernel_1432373/2319557713.py:13: RuntimeWarning: All-NaN axis encountered\n",
      "  np.nanmax([stack[idx:idx + twin], _data[iseg+1, :]], axis = 0)\n"
     ]
    },
    {
     "name": "stdout",
     "output_type": "stream",
     "text": [
      "[#####################################   ] | 93% Completed | 25hr 58mAll prediction shape: (2, 5, 3599, 6000)\n",
      "[#####################################   ] | 93% Completed | 26hr 3mm167 P picks\n",
      "89 S picks\n",
      "[#####################################   ] | 93% Completed | 26hr 3m"
     ]
    },
    {
     "name": "stderr",
     "output_type": "stream",
     "text": [
      "/tmp/ipykernel_1432373/2319557713.py:13: RuntimeWarning: All-NaN axis encountered\n",
      "  np.nanmax([stack[idx:idx + twin], _data[iseg+1, :]], axis = 0)\n"
     ]
    },
    {
     "name": "stdout",
     "output_type": "stream",
     "text": [
      "[#####################################   ] | 93% Completed | 26hr 3mAll prediction shape: (2, 5, 1439, 6000)\n",
      "[#####################################   ] | 93% Completed | 26hr 4m209 P picks\n",
      "87 S picks\n",
      "[#####################################   ] | 93% Completed | 26hr 4m"
     ]
    },
    {
     "name": "stderr",
     "output_type": "stream",
     "text": [
      "/tmp/ipykernel_1432373/2319557713.py:13: RuntimeWarning: All-NaN axis encountered\n",
      "  np.nanmax([stack[idx:idx + twin], _data[iseg+1, :]], axis = 0)\n"
     ]
    },
    {
     "name": "stdout",
     "output_type": "stream",
     "text": [
      "[#####################################   ] | 93% Completed | 26hr 4mAll prediction shape: (2, 5, 1439, 6000)\n",
      "[#####################################   ] | 93% Completed | 26hr 5m137 P picks\n",
      "109 S picks\n",
      "[#####################################   ] | 93% Completed | 26hr 5m"
     ]
    },
    {
     "name": "stderr",
     "output_type": "stream",
     "text": [
      "/tmp/ipykernel_1432373/2319557713.py:13: RuntimeWarning: All-NaN axis encountered\n",
      "  np.nanmax([stack[idx:idx + twin], _data[iseg+1, :]], axis = 0)\n"
     ]
    },
    {
     "name": "stdout",
     "output_type": "stream",
     "text": [
      "[#####################################   ] | 93% Completed | 26hr 5mAll prediction shape: (2, 5, 1439, 6000)\n",
      "[#####################################   ] | 93% Completed | 26hr 5m102 P picks\n",
      "25 S picks\n",
      "[#####################################   ] | 93% Completed | 26hr 5m"
     ]
    },
    {
     "name": "stderr",
     "output_type": "stream",
     "text": [
      "/tmp/ipykernel_1432373/2319557713.py:13: RuntimeWarning: All-NaN axis encountered\n",
      "  np.nanmax([stack[idx:idx + twin], _data[iseg+1, :]], axis = 0)\n"
     ]
    },
    {
     "name": "stdout",
     "output_type": "stream",
     "text": [
      "[#####################################   ] | 93% Completed | 26hr 6mAll prediction shape: (2, 5, 3599, 6000)\n",
      "[#####################################   ] | 93% Completed | 26hr 10m457 P picks\n",
      "425 S picks\n"
     ]
    },
    {
     "name": "stderr",
     "output_type": "stream",
     "text": [
      "/tmp/ipykernel_1432373/2319557713.py:13: RuntimeWarning: All-NaN axis encountered\n",
      "  np.nanmax([stack[idx:idx + twin], _data[iseg+1, :]], axis = 0)\n"
     ]
    },
    {
     "name": "stdout",
     "output_type": "stream",
     "text": [
      "[#####################################   ] | 94% Completed | 26hr 10mAll prediction shape: (2, 5, 1439, 6000)\n",
      "[#####################################   ] | 94% Completed | 26hr 11m72 P picks\n",
      "16 S picks\n",
      "[#####################################   ] | 94% Completed | 26hr 11m"
     ]
    },
    {
     "name": "stderr",
     "output_type": "stream",
     "text": [
      "/tmp/ipykernel_1432373/2319557713.py:13: RuntimeWarning: All-NaN axis encountered\n",
      "  np.nanmax([stack[idx:idx + twin], _data[iseg+1, :]], axis = 0)\n"
     ]
    },
    {
     "name": "stdout",
     "output_type": "stream",
     "text": [
      "[#####################################   ] | 94% Completed | 26hr 11mAll prediction shape: (2, 5, 3599, 6000)\n",
      "[#####################################   ] | 94% Completed | 26hr 15m"
     ]
    },
    {
     "name": "stderr",
     "output_type": "stream",
     "text": [
      "/tmp/ipykernel_1432373/2319557713.py:13: RuntimeWarning: All-NaN axis encountered\n",
      "  np.nanmax([stack[idx:idx + twin], _data[iseg+1, :]], axis = 0)\n"
     ]
    },
    {
     "name": "stdout",
     "output_type": "stream",
     "text": [
      "472 P picks\n",
      "530 S picks\n",
      "[#####################################   ] | 94% Completed | 26hr 16mAll prediction shape: (2, 5, 1439, 6000)\n",
      "[#####################################   ] | 94% Completed | 26hr 16m118 P picks\n",
      "112 S picks\n",
      "[#####################################   ] | 94% Completed | 26hr 16m"
     ]
    },
    {
     "name": "stderr",
     "output_type": "stream",
     "text": [
      "/tmp/ipykernel_1432373/2319557713.py:13: RuntimeWarning: All-NaN axis encountered\n",
      "  np.nanmax([stack[idx:idx + twin], _data[iseg+1, :]], axis = 0)\n"
     ]
    },
    {
     "name": "stdout",
     "output_type": "stream",
     "text": [
      "[#####################################   ] | 94% Completed | 26hr 17mAll prediction shape: (2, 5, 3599, 6000)\n",
      "[#####################################   ] | 94% Completed | 26hr 21m122 P picks\n",
      "82 S picks\n"
     ]
    },
    {
     "name": "stderr",
     "output_type": "stream",
     "text": [
      "/tmp/ipykernel_1432373/2319557713.py:13: RuntimeWarning: All-NaN axis encountered\n",
      "  np.nanmax([stack[idx:idx + twin], _data[iseg+1, :]], axis = 0)\n"
     ]
    },
    {
     "name": "stdout",
     "output_type": "stream",
     "text": [
      "[#####################################   ] | 94% Completed | 26hr 21mAll prediction shape: (2, 5, 1439, 6000)\n",
      "[#####################################   ] | 94% Completed | 26hr 22m212 P picks\n",
      "83 S picks\n",
      "[######################################  ] | 95% Completed | 26hr 22m"
     ]
    },
    {
     "name": "stderr",
     "output_type": "stream",
     "text": [
      "/tmp/ipykernel_1432373/2319557713.py:13: RuntimeWarning: All-NaN axis encountered\n",
      "  np.nanmax([stack[idx:idx + twin], _data[iseg+1, :]], axis = 0)\n"
     ]
    },
    {
     "name": "stdout",
     "output_type": "stream",
     "text": [
      "[######################################  ] | 95% Completed | 26hr 22mAll prediction shape: (2, 5, 3599, 6000)\n",
      "[######################################  ] | 95% Completed | 26hr 26m"
     ]
    },
    {
     "name": "stderr",
     "output_type": "stream",
     "text": [
      "/tmp/ipykernel_1432373/2319557713.py:13: RuntimeWarning: All-NaN axis encountered\n",
      "  np.nanmax([stack[idx:idx + twin], _data[iseg+1, :]], axis = 0)\n"
     ]
    },
    {
     "name": "stdout",
     "output_type": "stream",
     "text": [
      "499 P picks\n",
      "518 S picks\n",
      "[######################################  ] | 95% Completed | 26hr 27mAll prediction shape: (2, 5, 1439, 6000)\n",
      "[######################################  ] | 95% Completed | 26hr 27m"
     ]
    },
    {
     "name": "stderr",
     "output_type": "stream",
     "text": [
      "/home/jupyter_share/miniconda3/envs/seismo/lib/python3.9/site-packages/ELEP/elep/ensemble_coherence.py:64: RuntimeWarning: divide by zero encountered in divide\n",
      "  semblance0 = sums_num/sums_den\n"
     ]
    },
    {
     "name": "stdout",
     "output_type": "stream",
     "text": [
      "[######################################  ] | 95% Completed | 26hr 27m"
     ]
    }
   ],
   "source": [
    "# Now we start setting up a parallel operation using a package called Dask.\n",
    "\n",
    "# Start by writing a new a function that is specifically designed to be run in parallel through dask. All it essentially does is define the inputs to the larger run_detection function and then runs the function itself, but because we \"decorate\" it with @dask.delayed to start, the code will recognize that it should be run in parallel.\n",
    "\n",
    "@dask.delayed\n",
    "def loop_days(task,filepath,twin,step,l_blnd,r_blnd):\n",
    "\n",
    "\t# Define the parameters that are specific to each task\n",
    "\tt1 = obspy.UTCDateTime(task[1])\n",
    "\tt2 = obspy.UTCDateTime(t1 + pd.Timedelta(1,'days'))\n",
    "\tstation = task[0]\n",
    "\n",
    "\t# Call to the function that will perform the operation and write the results to file\n",
    "\trun_detection(station,t1,t2,filepath,twin,step,l_blnd,r_blnd)\n",
    "\t\n",
    "\n",
    "# Now we set up the parallel operation\n",
    "# The below builds a framework for the computer to run in parallel. This doesn't actually execute anything.\n",
    "lazy_results = [loop_days(task,filepath,twin,step,l_blnd,r_blnd) for task in task_list]\n",
    "    \n",
    "\n",
    "# The below actually executes the parallel operation!\n",
    "# It's nice to do it with the ProgressBar so you can see how long things are taking.\n",
    "# Each operation should also write a file so that is another way to check on progress.\n",
    "with ProgressBar():\n",
    "    #################################\n",
    "    # Add scheduler = 'single-threaded'\n",
    "\tdask.compute(lazy_results, scheduler='single-threaded') \n",
    "    "
   ]
  },
  {
   "cell_type": "code",
   "execution_count": null,
   "id": "7ce4d790",
   "metadata": {},
   "outputs": [],
   "source": []
  },
  {
   "cell_type": "code",
   "execution_count": null,
   "id": "fcf61b7d",
   "metadata": {},
   "outputs": [],
   "source": []
  }
 ],
 "metadata": {
  "kernelspec": {
   "display_name": "seismo (SHARED)",
   "language": "python",
   "name": "seismo"
  },
  "language_info": {
   "codemirror_mode": {
    "name": "ipython",
    "version": 3
   },
   "file_extension": ".py",
   "mimetype": "text/x-python",
   "name": "python",
   "nbconvert_exporter": "python",
   "pygments_lexer": "ipython3",
   "version": "3.9.18"
  }
 },
 "nbformat": 4,
 "nbformat_minor": 5
}
