{
 "cells": [
  {
   "cell_type": "markdown",
   "id": "58f486d2",
   "metadata": {},
   "source": [
    "# Detection and Phase Picking in Cascadia using ELEP\n",
    "\n",
    "This notebook deploys in parallel a detection+phase picking job on Cascadia Initiative stations using an ensemble deep learning ELEP (Yuan et al, 2023).\n",
    "Written by Hiroto Bito.\n",
    "Modified by CoolTeam (2/14/24)"
   ]
  },
  {
   "cell_type": "code",
   "execution_count": 1,
   "id": "59ec9cbe",
   "metadata": {},
   "outputs": [],
   "source": [
    "#####################################\n",
    "import logging\n",
    "#####################################\n",
    "from obspy.clients.fdsn import Client\n",
    "import numpy as np\n",
    "import obspy\n",
    "import matplotlib.pyplot as plt\n",
    "from obspy.clients.fdsn import Client\n",
    "import datetime\n",
    "import pandas as pd\n",
    "import dask\n",
    "from dask.diagnostics import ProgressBar\n",
    "\n",
    "from obspy.clients.fdsn.client import Client\n",
    "from pnwstore.mseed import WaveformClient\n",
    "import torch\n",
    "import numpy as np\n",
    "from tqdm import tqdm\n",
    "import time \n",
    "import pandas as pd\n",
    "import gc\n",
    "import seisbench.models as sbm\n",
    "from ELEP.elep.ensemble_statistics import ensemble_statistics\n",
    "from ELEP.elep.ensemble_coherence import ensemble_semblance \n",
    "from ELEP.elep.trigger_func import picks_summary_simple"
   ]
  },
  {
   "cell_type": "code",
   "execution_count": 2,
   "id": "66e7e246",
   "metadata": {},
   "outputs": [],
   "source": [
    "device = torch.device(\"cpu\")"
   ]
  },
  {
   "cell_type": "code",
   "execution_count": 3,
   "id": "ec5a0ecb",
   "metadata": {},
   "outputs": [],
   "source": [
    "# Define clients\n",
    "client_inventory = Client('IRIS')\n",
    "client_waveform = WaveformClient()"
   ]
  },
  {
   "cell_type": "code",
   "execution_count": 4,
   "id": "0b976476",
   "metadata": {},
   "outputs": [],
   "source": [
    "# Read in whatever you need to start - likely a list of station codes\n",
    "station_list = ['FS09B',\n",
    " 'FS13B',\n",
    " 'FS16B',\n",
    " 'FS17B',\n",
    " 'FS20B',\n",
    " 'G10B',\n",
    " 'G17B',\n",
    " 'G19B',\n",
    " 'G25B',\n",
    " 'G26B',\n",
    " 'G27B',\n",
    " 'J09B',\n",
    " 'J25B',\n",
    " 'J33B',\n",
    " 'M09B',\n",
    " 'M12B',\n",
    " 'M14B']"
   ]
  },
  {
   "cell_type": "code",
   "execution_count": 5,
   "id": "bc0bb6c3",
   "metadata": {},
   "outputs": [
    {
     "data": {
      "text/plain": [
       "['FS09B',\n",
       " 'FS13B',\n",
       " 'FS16B',\n",
       " 'FS17B',\n",
       " 'FS20B',\n",
       " 'G10B',\n",
       " 'G17B',\n",
       " 'G19B',\n",
       " 'G25B',\n",
       " 'G26B',\n",
       " 'G27B',\n",
       " 'J09B',\n",
       " 'J25B',\n",
       " 'J33B',\n",
       " 'M09B',\n",
       " 'M12B',\n",
       " 'M14B']"
      ]
     },
     "execution_count": 5,
     "metadata": {},
     "output_type": "execute_result"
    }
   ],
   "source": [
    "station_list"
   ]
  },
  {
   "cell_type": "code",
   "execution_count": 6,
   "id": "4c157967",
   "metadata": {},
   "outputs": [],
   "source": [
    "# Now create your list of days to loop over!\n",
    "t1 = datetime.datetime(2012,10,1)\n",
    "t2 = datetime.datetime(2012,10,31)\n",
    "time_bins = pd.to_datetime(np.arange(t1,t2+datetime.timedelta(days=1),pd.Timedelta(1,'days')))"
   ]
  },
  {
   "cell_type": "code",
   "execution_count": 7,
   "id": "ff0cf559",
   "metadata": {},
   "outputs": [
    {
     "name": "stdout",
     "output_type": "stream",
     "text": [
      "~/notebooks/data/catalogs_elep_filtered_stations_20121001_to_20121031/M14B_20121001.csv\n"
     ]
    }
   ],
   "source": [
    "# Specify some parameters - you can change what you specify here vs. within the large function, this is just an example.\n",
    "# Depending on whether the pertained models take a long time to load every time, you may want to load those outside the function and just feed them to the function rather than loading them every time in parallel.\n",
    "twin = 6000     # length of time window\n",
    "step = 3000     # step length\n",
    "l_blnd, r_blnd = 500, 500\n",
    "\n",
    "###########################\n",
    "# This is not a valid file path to save files. \n",
    "filepath = \"~/notebooks/data/catalogs_elep_filtered_stations_20121001_to_20121031/\"\n",
    "\n",
    "# If we define:\n",
    "station = \"M14B\"\n",
    "# t1 = datetime(2012,10,1)\n",
    "tstring = t1.strftime('%Y%m%d')\n",
    "\n",
    "# You use this arguments below as (it should be filepath, not file_path)\n",
    "file_name = filepath+station+'_'+tstring+'.csv'\n",
    "\n",
    "# Then your file name will be:\n",
    "print(file_name)\n",
    "#https://cascadia.ess.washington.edu/jhub/user/hbito/notebooks/elep-test/surface_events/src7D_20121001.csv\n",
    "\n",
    "# 1. There is a missing \"/\" after src in filepath.\n",
    "# 2. This string beginning with https:// is a web link. You can replace filepath as:\n",
    "# filepath = \"/home/hbito/elep-test/surface_events/src/\"\n",
    "# 3. it may not be recommended to save data product to a src (source) folder. \n",
    "#    People usually make other directories to save those final files. \n",
    "#    Just a notice: not our top prioirty though.\n",
    "###########################"
   ]
  },
  {
   "cell_type": "code",
   "execution_count": 8,
   "id": "d5db51e4",
   "metadata": {},
   "outputs": [
    {
     "ename": "ValueError",
     "evalue": "No version for weight 'pnw' available.",
     "output_type": "error",
     "traceback": [
      "\u001b[0;31m---------------------------------------------------------------------------\u001b[0m",
      "\u001b[0;31mValueError\u001b[0m                                Traceback (most recent call last)",
      "Cell \u001b[0;32mIn[8], line 3\u001b[0m\n\u001b[1;32m      1\u001b[0m \u001b[38;5;66;03m# download models\u001b[39;00m\n\u001b[1;32m      2\u001b[0m pretrain_list \u001b[38;5;241m=\u001b[39m [\u001b[38;5;124m\"\u001b[39m\u001b[38;5;124mpnw\u001b[39m\u001b[38;5;124m\"\u001b[39m,\u001b[38;5;124m\"\u001b[39m\u001b[38;5;124methz\u001b[39m\u001b[38;5;124m\"\u001b[39m,\u001b[38;5;124m\"\u001b[39m\u001b[38;5;124minstance\u001b[39m\u001b[38;5;124m\"\u001b[39m,\u001b[38;5;124m\"\u001b[39m\u001b[38;5;124mscedc\u001b[39m\u001b[38;5;124m\"\u001b[39m,\u001b[38;5;124m\"\u001b[39m\u001b[38;5;124mstead\u001b[39m\u001b[38;5;124m\"\u001b[39m,\u001b[38;5;124m\"\u001b[39m\u001b[38;5;124mgeofon\u001b[39m\u001b[38;5;124m\"\u001b[39m]\n\u001b[0;32m----> 3\u001b[0m pn_pnw_model \u001b[38;5;241m=\u001b[39m \u001b[43msbm\u001b[49m\u001b[38;5;241;43m.\u001b[39;49m\u001b[43mEQTransformer\u001b[49m\u001b[38;5;241;43m.\u001b[39;49m\u001b[43mfrom_pretrained\u001b[49m\u001b[43m(\u001b[49m\u001b[38;5;124;43m'\u001b[39;49m\u001b[38;5;124;43mpnw\u001b[39;49m\u001b[38;5;124;43m'\u001b[39;49m\u001b[43m)\u001b[49m\n\u001b[1;32m      4\u001b[0m pn_ethz_model \u001b[38;5;241m=\u001b[39m sbm\u001b[38;5;241m.\u001b[39mEQTransformer\u001b[38;5;241m.\u001b[39mfrom_pretrained(\u001b[38;5;124m\"\u001b[39m\u001b[38;5;124methz\u001b[39m\u001b[38;5;124m\"\u001b[39m)\n\u001b[1;32m      5\u001b[0m pn_instance_model \u001b[38;5;241m=\u001b[39m sbm\u001b[38;5;241m.\u001b[39mEQTransformer\u001b[38;5;241m.\u001b[39mfrom_pretrained(\u001b[38;5;124m\"\u001b[39m\u001b[38;5;124minstance\u001b[39m\u001b[38;5;124m\"\u001b[39m)\n",
      "File \u001b[0;32m/home/jupyter_share/miniconda3/envs/seismo/lib/python3.9/site-packages/seisbench/models/base.py:218\u001b[0m, in \u001b[0;36mSeisBenchModel.from_pretrained\u001b[0;34m(cls, name, version_str, update, force, wait_for_file)\u001b[0m\n\u001b[1;32m    215\u001b[0m         versions \u001b[38;5;241m=\u001b[39m \u001b[38;5;28mcls\u001b[39m\u001b[38;5;241m.\u001b[39mlist_versions(name, remote\u001b[38;5;241m=\u001b[39m\u001b[38;5;28;01mTrue\u001b[39;00m)\n\u001b[1;32m    217\u001b[0m     \u001b[38;5;28;01mif\u001b[39;00m \u001b[38;5;28mlen\u001b[39m(versions) \u001b[38;5;241m==\u001b[39m \u001b[38;5;241m0\u001b[39m:\n\u001b[0;32m--> 218\u001b[0m         \u001b[38;5;28;01mraise\u001b[39;00m \u001b[38;5;167;01mValueError\u001b[39;00m(\u001b[38;5;124mf\u001b[39m\u001b[38;5;124m\"\u001b[39m\u001b[38;5;124mNo version for weight \u001b[39m\u001b[38;5;124m'\u001b[39m\u001b[38;5;132;01m{\u001b[39;00mname\u001b[38;5;132;01m}\u001b[39;00m\u001b[38;5;124m'\u001b[39m\u001b[38;5;124m available.\u001b[39m\u001b[38;5;124m\"\u001b[39m)\n\u001b[1;32m    219\u001b[0m     version_str \u001b[38;5;241m=\u001b[39m \u001b[38;5;28mmax\u001b[39m(versions, key\u001b[38;5;241m=\u001b[39mversion\u001b[38;5;241m.\u001b[39mparse)\n\u001b[1;32m    221\u001b[0m \u001b[38;5;28mcls\u001b[39m\u001b[38;5;241m.\u001b[39m_version_warnings(name, version_str)\n",
      "\u001b[0;31mValueError\u001b[0m: No version for weight 'pnw' available."
     ]
    }
   ],
   "source": [
    "# download models\n",
    "pretrain_list = [\"pnw\",\"ethz\",\"instance\",\"scedc\",\"stead\",\"geofon\"]\n",
    "pn_pnw_model = sbm.EQTransformer.from_pretrained('pnw')\n",
    "pn_ethz_model = sbm.EQTransformer.from_pretrained(\"ethz\")\n",
    "pn_instance_model = sbm.EQTransformer.from_pretrained(\"instance\")\n",
    "pn_scedc_model = sbm.EQTransformer.from_pretrained(\"scedc\")\n",
    "pn_stead_model = sbm.EQTransformer.from_pretrained(\"stead\")\n",
    "pn_geofon_model = sbm.EQTransformer.from_pretrained(\"geofon\")"
   ]
  },
  {
   "cell_type": "code",
   "execution_count": 22,
   "id": "dd7d1273",
   "metadata": {},
   "outputs": [],
   "source": [
    "# Define the function for stacking the segmented time windows after prediction\n",
    "##################################### add a nseg argument here\n",
    "# def stacking(data, npts, l_blnd, r_blnd):\n",
    "def stacking(data, npts, l_blnd, r_blnd, nseg):\n",
    "#####################################\n",
    "    _data = data.copy()\n",
    "    stack = np.full(npts, np.nan, dtype = np.float32)\n",
    "    _data[:, :l_blnd] = np.nan; _data[:, -r_blnd:] = np.nan\n",
    "    stack[:twin] = _data[0, :]\n",
    "    for iseg in range(nseg-1):\n",
    "        idx = step*(iseg+1)\n",
    "        stack[idx:idx + twin] = \\\n",
    "                np.nanmax([stack[idx:idx + twin], _data[iseg+1, :]], axis = 0)\n",
    "    return stack"
   ]
  },
  {
   "cell_type": "code",
   "execution_count": 3,
   "id": "7cdf915c",
   "metadata": {},
   "outputs": [],
   "source": [
    "# Write your function that you want to run in parallel: I recommend you design this to essentially perform your entire workflow on one station for one day, and write a csv file for that station, much the way you already have it.\n",
    "# This is what will run in parallel!\n",
    "# So, the only inputs are the station name, the start and end times you want to detect for, the path of the folder you want to write the results to, and the parameters you already specified. Here is where you could also feed in the preloaded models if that becomes important.\n",
    "def run_detection(station,t1,t2,filepath,twin,step,l_blnd,r_blnd):\n",
    "\t# Load data\n",
    "\t# Reshape data\n",
    "\t# Predict on base models\n",
    "\t# Stack\n",
    "\t# Create and write csv file. Define file name using the station code and the input filepath\n",
    "    \n",
    "    # Get the inventory for the stations\n",
    "    ###############################\n",
    "    #stations = station           # Seems you never use this \"stations\" again\n",
    "                                  # so you can just use \"station\"\n",
    "    ###############################\n",
    "    network = '7D'\n",
    "#     channels = '[HB][HN][BH]?'\n",
    "#     channels = 'HH?,HN?,BH?' \n",
    "    channels = '?H?'\n",
    "\n",
    "    client = client_inventory\n",
    "    inventory = client.get_stations(network=network, station=station)\n",
    "    \n",
    "    # Get waveforms and filter\n",
    "    ###############################\n",
    "   #sdata = client_waveform.get_waveforms(network=\"7D\", station=station, channel=\"BH?\", starttime=t1, \n",
    "   #                                      year=t1.strftime('%Y'), month=t1.strftime('%m'), \n",
    "   #                                      day=t1.strftime('%d'))\n",
    "   # You've already defined stations, network, channels above, so you can use them here.\n",
    "   # You don't need \"starttime = t1\" argument.\n",
    "    sdata = client_waveform.get_waveforms(network=network, station=station, channel=channels, \n",
    "                                          year=t1.strftime('%Y'), month=t1.strftime('%m'), \n",
    "                                          day=t1.strftime('%d'))\n",
    "    sdata = sdata.select(channel = \"[HB]H?\")\n",
    "    ###############################\n",
    "    # If no data returned, skipping\n",
    "    if len(sdata) == 0:\n",
    "        logging.warning(\"No stream returned. Skipping.\")\n",
    "        return\n",
    "    ###############################\n",
    "    \n",
    "    sdata.filter(type='bandpass',freqmin=4,freqmax=15)\n",
    "    \n",
    "    ###############################\n",
    "    sdata.merge(fill_value='interpolate') # fill gaps if there are any.\n",
    "    ###############################\n",
    "\n",
    "    # Get the necassary information about the station\n",
    "    delta = sdata[0].stats.delta\n",
    "    starttime = sdata[0].stats.starttime\n",
    "    fs = sdata[0].stats.sampling_rate\n",
    "    dt = 1/fs\n",
    "    \n",
    "    # Reshaping data\n",
    "    arr_sdata = np.array(sdata)\n",
    "    npts = arr_sdata.shape[1]\n",
    "    ############################### avoiding errors at the end of a stream\n",
    "   #nseg = int(np.ceil((npts - twin) / step)) + 1\n",
    "    nseg = int(np.floor((npts - twin) / step)) + 1\n",
    "    ###############################\n",
    "    windows = np.zeros(shape=(nseg, 3, twin), dtype= np.float32)\n",
    "    tap = 0.5 * (1 + np.cos(np.linspace(np.pi, 2 * np.pi, 6)))\n",
    "    \n",
    "    # Define the parameters for semblance\n",
    "    paras_semblance = {'dt':dt, 'semblance_order':2, 'window_flag':True, \n",
    "                   'semblance_win':0.5, 'weight_flag':'max'}\n",
    "    p_thrd, s_thrd = 0.05, 0.05\n",
    "\n",
    "    windows_std = np.zeros(shape=(nseg, 3, twin), dtype= np.float32)\n",
    "    windows_max = np.zeros(shape=(nseg, 3, twin), dtype= np.float32)\n",
    "    windows = np.zeros(shape=(nseg, 3, twin), dtype= np.float32)\n",
    "    windows_idx = np.zeros(nseg, dtype=np.int32)\n",
    "\n",
    "    for iseg in range(nseg):\n",
    "        idx = iseg * step\n",
    "        windows[iseg, :] = arr_sdata[:, idx:idx + twin]\n",
    "        windows[iseg, :] -= np.mean(windows[iseg, :], axis=-1, keepdims=True)\n",
    "        # original use std norm\n",
    "        windows_std[iseg, :] = windows[iseg, :] / np.std(windows[iseg, :]) + 1e-10\n",
    "        # others use max norm\n",
    "        windows_max[iseg, :] = windows[iseg, :] / (np.max(np.abs(windows[iseg, :]), axis=-1, keepdims=True))\n",
    "        windows_idx[iseg] = idx\n",
    "\n",
    "    # taper\n",
    "    windows_std[:, :, :6] *= tap; windows_std[:, :, -6:] *= tap[::-1]; \n",
    "    windows_max[:, :, :6] *= tap; windows_max[:, :, -6:] *= tap[::-1];\n",
    "    del windows\n",
    "\n",
    "#     print(f\"Window data shape: {windows_std.shape}\")\n",
    "    \n",
    "    # Predict on base models\n",
    "    \n",
    "    pretrain_list = ['original', 'ethz', 'instance', 'scedc', 'stead']\n",
    "\n",
    "    # dim 0: 0 = P, 1 = S\n",
    "    batch_pred = np.zeros([2, len(pretrain_list), nseg, twin], dtype = np.float32) \n",
    "    for ipre, pretrain in enumerate(pretrain_list):\n",
    "        t0 = time.time()\n",
    "        eqt = sbm.EQTransformer.from_pretrained(pretrain)\n",
    "        eqt.to(device);\n",
    "        eqt._annotate_args['overlap'] = ('Overlap between prediction windows in samples \\\n",
    "                                        (only for window prediction models)', step)\n",
    "        eqt._annotate_args['blinding'] = ('Number of prediction samples to discard on \\\n",
    "                                         each side of each window prediction', (l_blnd, r_blnd))\n",
    "        eqt.eval();\n",
    "        if pretrain == 'original':\n",
    "            # batch prediction through torch model\n",
    "            windows_std_tt = torch.Tensor(windows_std)\n",
    "            _torch_pred = eqt(windows_std_tt.to(device))\n",
    "        else:\n",
    "            windows_max_tt = torch.Tensor(windows_max)\n",
    "            _torch_pred = eqt(windows_max_tt.to(device))\n",
    "        batch_pred[0, ipre, :] = _torch_pred[1].detach().cpu().numpy()\n",
    "        batch_pred[1, ipre, :] = _torch_pred[2].detach().cpu().numpy()\n",
    "\n",
    "    # clean up memory\n",
    "    del _torch_pred, windows_max_tt, windows_std_tt\n",
    "    del windows_std, windows_max\n",
    "    gc.collect()\n",
    "    torch.cuda.empty_cache()\n",
    "\n",
    "    print(f\"All prediction shape: {batch_pred.shape}\")\n",
    "    \n",
    "    ####################### You don't need this\n",
    "#     pretrain_pred = np.zeros([2, len(pretrain_list), npts], dtype = np.float32)\n",
    "#     for ipre, pretrain in enumerate(pretrain_list):\n",
    "#        # 0 for P-wave\n",
    "#         pretrain_pred[0, ipre, :] = stacking(batch_pred[0, ipre, :], npts, l_blnd, r_blnd)\n",
    "# \n",
    "#        # 1 for S-wave\n",
    "#        pretrain_pred[1, ipre, :] = stacking(batch_pred[1, ipre, :], npts, l_blnd, r_blnd)\n",
    "    ####################### You don't need this\n",
    "    \n",
    "    smb_pred = np.zeros([2, nseg, twin], dtype = np.float32)\n",
    "    # calculate the semblance\n",
    "    ## the semblance may takes a while bit to calculate\n",
    "    \n",
    "    ############################# remove tqdm (extra progress bar)\n",
    "#     for iseg in tqdm(range(nseg)):\n",
    "    for iseg in range(nseg):\n",
    "    #############################\n",
    "        # 0 for P-wave\n",
    "        smb_pred[0, iseg, :] = ensemble_semblance(batch_pred[0, :, iseg, :], paras_semblance)\n",
    "\n",
    "        # 1 for P-wave\n",
    "        smb_pred[1, iseg, :] = ensemble_semblance(batch_pred[1, :, iseg, :], paras_semblance)\n",
    "\n",
    "    ## ... and stack\n",
    "    # 0 for P-wave\n",
    "    ####################### add a nseg argument here\n",
    "    #smb_p = stacking(smb_pred[0, :], npts, l_blnd, r_blnd)\n",
    "    smb_p = stacking(smb_pred[0, :], npts, l_blnd, r_blnd, nseg)\n",
    "\n",
    "    # 1 for P-wave\n",
    "    #smb_s = stacking(smb_pred[1, :], npts, l_blnd, r_blnd)\n",
    "    smb_s = stacking(smb_pred[1, :], npts, l_blnd, r_blnd, nseg)\n",
    "    #######################\n",
    "    # clean-up RAM\n",
    "    del smb_pred, batch_pred\n",
    "\n",
    "    p_index = picks_summary_simple(smb_p, p_thrd)\n",
    "    s_index = picks_summary_simple(smb_s, s_thrd)\n",
    "    print(f\"{len(p_index)} P picks\\n{len(s_index)} S picks\")\n",
    "    \n",
    "    # Create lists and a data frame\n",
    "    event_id = []\n",
    "    source_type = []\n",
    "    station_network_code = []\n",
    "    station_channel_code = []\n",
    "    station_code = []\n",
    "    station_location_code = []\n",
    "    station_latitude_deg= []\n",
    "    station_longitude_deg = []\n",
    "    station_elevation_m = []\n",
    "    trace_name = []\n",
    "    trace_sampling_rate_hz = []\n",
    "    trace_start_time = []\n",
    "    trace_S_arrival_sample = []\n",
    "    trace_P_arrival_sample = []\n",
    "    trace_S_onset = []\n",
    "    trace_P_onset = []\n",
    "    trace_snr_db = []\n",
    "    trace_p_arrival = []\n",
    "    trace_s_arrival = []\n",
    "\n",
    "    for i, idx in enumerate(p_index):\n",
    "        event_id.append(' ')\n",
    "        source_type.append(' ')\n",
    "        station_network_code.append('7D')\n",
    "        station_channel_code.append(' ')\n",
    "        station_code.append(station)\n",
    "        station_location_code.append(sdata[0].stats.location)   \n",
    "        station_latitude_deg.append(inventory[0][0].latitude)\n",
    "        station_longitude_deg.append(inventory[0][0].longitude)   \n",
    "        station_elevation_m.append(inventory[0][0].elevation)\n",
    "        trace_name.append(' ')\n",
    "        trace_sampling_rate_hz.append(sdata[0].stats.sampling_rate)\n",
    "        trace_start_time.append(sdata[0].stats.starttime)\n",
    "        trace_S_arrival_sample.append(' ')\n",
    "        trace_P_arrival_sample.append(' ')\n",
    "        trace_S_onset.append(' ')\n",
    "        trace_P_onset.append(' ')\n",
    "        trace_snr_db.append(' ')\n",
    "        trace_s_arrival.append(np.nan)\n",
    "        trace_p_arrival.append(str(starttime  + idx * delta))\n",
    "\n",
    "    for i, idx in enumerate(s_index):\n",
    "        event_id.append(' ')\n",
    "        source_type.append(' ')\n",
    "        station_network_code.append('7D')\n",
    "        station_channel_code.append(' ')\n",
    "        station_code.append(station)\n",
    "        station_location_code.append(sdata[0].stats.location)   \n",
    "        station_latitude_deg.append(inventory[0][0].latitude)\n",
    "        station_longitude_deg.append(inventory[0][0].longitude)   \n",
    "        station_elevation_m.append(inventory[0][0].elevation)\n",
    "        trace_name.append(' ')\n",
    "        trace_sampling_rate_hz.append(sdata[0].stats.sampling_rate)\n",
    "        trace_start_time.append(sdata[0].stats.starttime)\n",
    "        trace_S_arrival_sample.append(' ')\n",
    "        trace_P_arrival_sample.append(' ')\n",
    "        trace_S_onset.append(' ')\n",
    "        trace_P_onset.append(' ')\n",
    "        trace_snr_db.append(' ')\n",
    "        trace_s_arrival.append(str(starttime  + idx * delta))\n",
    "        trace_p_arrival.append(np.nan)\n",
    "\n",
    "    # dictionary of lists\n",
    "    dict = {'event_id':event_id,'source_type':source_type,'station_network_code':station_network_code,\\\n",
    "            'station_channel_code':station_channel_code,'station_code':station_code,'station_location_code':station_location_code,\\\n",
    "            'station_latitude_deg':station_latitude_deg,'station_longitude_deg':station_longitude_deg, \\\n",
    "            'station_elevation_m':station_elevation_m,'trace_name':trace_name,'trace_sampling_rate_hz':trace_sampling_rate_hz,\\\n",
    "            'trace_start_time':trace_start_time,'trace_S_arrival_sample':trace_S_arrival_sample,\\\n",
    "            'trace_P_arrival_sample':trace_P_arrival_sample, 'trace_S_onset':trace_S_onset,'trace_P_onset':trace_P_onset,\\\n",
    "            'trace_snr_db':trace_snr_db, 'trace_s_arrival':trace_s_arrival, 'trace_p_arrival':trace_p_arrival}\n",
    "\n",
    "    df = pd.DataFrame(dict)\n",
    "\n",
    "    # Make the specific day into a string:\n",
    "    tstring = t1.strftime('%Y%m%d')\n",
    "    # Build the full file name:\n",
    "    ##################################################\n",
    "#     file_name = file_path+station+'_'+tstring+'.csv'\n",
    "    file_name = filepath+station+'_'+tstring+'.csv'\n",
    "    ##################################################\n",
    "    # Write to file using that name\n",
    "    df.to_csv(file_name)"
   ]
  },
  {
   "cell_type": "code",
   "execution_count": 24,
   "id": "e995b55c",
   "metadata": {},
   "outputs": [],
   "source": [
    "# Combine that list of days with the list of stations\n",
    "# We are essentially creating a list of the number of tasks we have to do with the information that is unique to each task; we will do them in parallel\n",
    "task_list = []\n",
    "for sta in station_list:\n",
    "\tfor t in time_bins:\n",
    "\t\ttask_list.append([sta,t])"
   ]
  },
  {
   "cell_type": "code",
   "execution_count": 25,
   "id": "7ec6c541",
   "metadata": {},
   "outputs": [
    {
     "data": {
      "text/plain": [
       "[['FS09B', Timestamp('2012-10-01 00:00:00')],\n",
       " ['FS09B', Timestamp('2012-10-02 00:00:00')],\n",
       " ['FS09B', Timestamp('2012-10-03 00:00:00')],\n",
       " ['FS09B', Timestamp('2012-10-04 00:00:00')],\n",
       " ['FS09B', Timestamp('2012-10-05 00:00:00')],\n",
       " ['FS09B', Timestamp('2012-10-06 00:00:00')],\n",
       " ['FS09B', Timestamp('2012-10-07 00:00:00')],\n",
       " ['FS09B', Timestamp('2012-10-08 00:00:00')],\n",
       " ['FS09B', Timestamp('2012-10-09 00:00:00')],\n",
       " ['FS09B', Timestamp('2012-10-10 00:00:00')],\n",
       " ['FS09B', Timestamp('2012-10-11 00:00:00')],\n",
       " ['FS09B', Timestamp('2012-10-12 00:00:00')],\n",
       " ['FS09B', Timestamp('2012-10-13 00:00:00')],\n",
       " ['FS09B', Timestamp('2012-10-14 00:00:00')],\n",
       " ['FS09B', Timestamp('2012-10-15 00:00:00')],\n",
       " ['FS09B', Timestamp('2012-10-16 00:00:00')],\n",
       " ['FS09B', Timestamp('2012-10-17 00:00:00')],\n",
       " ['FS09B', Timestamp('2012-10-18 00:00:00')],\n",
       " ['FS09B', Timestamp('2012-10-19 00:00:00')],\n",
       " ['FS09B', Timestamp('2012-10-20 00:00:00')],\n",
       " ['FS09B', Timestamp('2012-10-21 00:00:00')],\n",
       " ['FS09B', Timestamp('2012-10-22 00:00:00')],\n",
       " ['FS09B', Timestamp('2012-10-23 00:00:00')],\n",
       " ['FS09B', Timestamp('2012-10-24 00:00:00')],\n",
       " ['FS09B', Timestamp('2012-10-25 00:00:00')],\n",
       " ['FS09B', Timestamp('2012-10-26 00:00:00')],\n",
       " ['FS09B', Timestamp('2012-10-27 00:00:00')],\n",
       " ['FS09B', Timestamp('2012-10-28 00:00:00')],\n",
       " ['FS09B', Timestamp('2012-10-29 00:00:00')],\n",
       " ['FS09B', Timestamp('2012-10-30 00:00:00')],\n",
       " ['FS09B', Timestamp('2012-10-31 00:00:00')],\n",
       " ['FS13B', Timestamp('2012-10-01 00:00:00')],\n",
       " ['FS13B', Timestamp('2012-10-02 00:00:00')],\n",
       " ['FS13B', Timestamp('2012-10-03 00:00:00')],\n",
       " ['FS13B', Timestamp('2012-10-04 00:00:00')],\n",
       " ['FS13B', Timestamp('2012-10-05 00:00:00')],\n",
       " ['FS13B', Timestamp('2012-10-06 00:00:00')],\n",
       " ['FS13B', Timestamp('2012-10-07 00:00:00')],\n",
       " ['FS13B', Timestamp('2012-10-08 00:00:00')],\n",
       " ['FS13B', Timestamp('2012-10-09 00:00:00')],\n",
       " ['FS13B', Timestamp('2012-10-10 00:00:00')],\n",
       " ['FS13B', Timestamp('2012-10-11 00:00:00')],\n",
       " ['FS13B', Timestamp('2012-10-12 00:00:00')],\n",
       " ['FS13B', Timestamp('2012-10-13 00:00:00')],\n",
       " ['FS13B', Timestamp('2012-10-14 00:00:00')],\n",
       " ['FS13B', Timestamp('2012-10-15 00:00:00')],\n",
       " ['FS13B', Timestamp('2012-10-16 00:00:00')],\n",
       " ['FS13B', Timestamp('2012-10-17 00:00:00')],\n",
       " ['FS13B', Timestamp('2012-10-18 00:00:00')],\n",
       " ['FS13B', Timestamp('2012-10-19 00:00:00')],\n",
       " ['FS13B', Timestamp('2012-10-20 00:00:00')],\n",
       " ['FS13B', Timestamp('2012-10-21 00:00:00')],\n",
       " ['FS13B', Timestamp('2012-10-22 00:00:00')],\n",
       " ['FS13B', Timestamp('2012-10-23 00:00:00')],\n",
       " ['FS13B', Timestamp('2012-10-24 00:00:00')],\n",
       " ['FS13B', Timestamp('2012-10-25 00:00:00')],\n",
       " ['FS13B', Timestamp('2012-10-26 00:00:00')],\n",
       " ['FS13B', Timestamp('2012-10-27 00:00:00')],\n",
       " ['FS13B', Timestamp('2012-10-28 00:00:00')],\n",
       " ['FS13B', Timestamp('2012-10-29 00:00:00')],\n",
       " ['FS13B', Timestamp('2012-10-30 00:00:00')],\n",
       " ['FS13B', Timestamp('2012-10-31 00:00:00')],\n",
       " ['FS16B', Timestamp('2012-10-01 00:00:00')],\n",
       " ['FS16B', Timestamp('2012-10-02 00:00:00')],\n",
       " ['FS16B', Timestamp('2012-10-03 00:00:00')],\n",
       " ['FS16B', Timestamp('2012-10-04 00:00:00')],\n",
       " ['FS16B', Timestamp('2012-10-05 00:00:00')],\n",
       " ['FS16B', Timestamp('2012-10-06 00:00:00')],\n",
       " ['FS16B', Timestamp('2012-10-07 00:00:00')],\n",
       " ['FS16B', Timestamp('2012-10-08 00:00:00')],\n",
       " ['FS16B', Timestamp('2012-10-09 00:00:00')],\n",
       " ['FS16B', Timestamp('2012-10-10 00:00:00')],\n",
       " ['FS16B', Timestamp('2012-10-11 00:00:00')],\n",
       " ['FS16B', Timestamp('2012-10-12 00:00:00')],\n",
       " ['FS16B', Timestamp('2012-10-13 00:00:00')],\n",
       " ['FS16B', Timestamp('2012-10-14 00:00:00')],\n",
       " ['FS16B', Timestamp('2012-10-15 00:00:00')],\n",
       " ['FS16B', Timestamp('2012-10-16 00:00:00')],\n",
       " ['FS16B', Timestamp('2012-10-17 00:00:00')],\n",
       " ['FS16B', Timestamp('2012-10-18 00:00:00')],\n",
       " ['FS16B', Timestamp('2012-10-19 00:00:00')],\n",
       " ['FS16B', Timestamp('2012-10-20 00:00:00')],\n",
       " ['FS16B', Timestamp('2012-10-21 00:00:00')],\n",
       " ['FS16B', Timestamp('2012-10-22 00:00:00')],\n",
       " ['FS16B', Timestamp('2012-10-23 00:00:00')],\n",
       " ['FS16B', Timestamp('2012-10-24 00:00:00')],\n",
       " ['FS16B', Timestamp('2012-10-25 00:00:00')],\n",
       " ['FS16B', Timestamp('2012-10-26 00:00:00')],\n",
       " ['FS16B', Timestamp('2012-10-27 00:00:00')],\n",
       " ['FS16B', Timestamp('2012-10-28 00:00:00')],\n",
       " ['FS16B', Timestamp('2012-10-29 00:00:00')],\n",
       " ['FS16B', Timestamp('2012-10-30 00:00:00')],\n",
       " ['FS16B', Timestamp('2012-10-31 00:00:00')],\n",
       " ['FS17B', Timestamp('2012-10-01 00:00:00')],\n",
       " ['FS17B', Timestamp('2012-10-02 00:00:00')],\n",
       " ['FS17B', Timestamp('2012-10-03 00:00:00')],\n",
       " ['FS17B', Timestamp('2012-10-04 00:00:00')],\n",
       " ['FS17B', Timestamp('2012-10-05 00:00:00')],\n",
       " ['FS17B', Timestamp('2012-10-06 00:00:00')],\n",
       " ['FS17B', Timestamp('2012-10-07 00:00:00')],\n",
       " ['FS17B', Timestamp('2012-10-08 00:00:00')],\n",
       " ['FS17B', Timestamp('2012-10-09 00:00:00')],\n",
       " ['FS17B', Timestamp('2012-10-10 00:00:00')],\n",
       " ['FS17B', Timestamp('2012-10-11 00:00:00')],\n",
       " ['FS17B', Timestamp('2012-10-12 00:00:00')],\n",
       " ['FS17B', Timestamp('2012-10-13 00:00:00')],\n",
       " ['FS17B', Timestamp('2012-10-14 00:00:00')],\n",
       " ['FS17B', Timestamp('2012-10-15 00:00:00')],\n",
       " ['FS17B', Timestamp('2012-10-16 00:00:00')],\n",
       " ['FS17B', Timestamp('2012-10-17 00:00:00')],\n",
       " ['FS17B', Timestamp('2012-10-18 00:00:00')],\n",
       " ['FS17B', Timestamp('2012-10-19 00:00:00')],\n",
       " ['FS17B', Timestamp('2012-10-20 00:00:00')],\n",
       " ['FS17B', Timestamp('2012-10-21 00:00:00')],\n",
       " ['FS17B', Timestamp('2012-10-22 00:00:00')],\n",
       " ['FS17B', Timestamp('2012-10-23 00:00:00')],\n",
       " ['FS17B', Timestamp('2012-10-24 00:00:00')],\n",
       " ['FS17B', Timestamp('2012-10-25 00:00:00')],\n",
       " ['FS17B', Timestamp('2012-10-26 00:00:00')],\n",
       " ['FS17B', Timestamp('2012-10-27 00:00:00')],\n",
       " ['FS17B', Timestamp('2012-10-28 00:00:00')],\n",
       " ['FS17B', Timestamp('2012-10-29 00:00:00')],\n",
       " ['FS17B', Timestamp('2012-10-30 00:00:00')],\n",
       " ['FS17B', Timestamp('2012-10-31 00:00:00')],\n",
       " ['FS20B', Timestamp('2012-10-01 00:00:00')],\n",
       " ['FS20B', Timestamp('2012-10-02 00:00:00')],\n",
       " ['FS20B', Timestamp('2012-10-03 00:00:00')],\n",
       " ['FS20B', Timestamp('2012-10-04 00:00:00')],\n",
       " ['FS20B', Timestamp('2012-10-05 00:00:00')],\n",
       " ['FS20B', Timestamp('2012-10-06 00:00:00')],\n",
       " ['FS20B', Timestamp('2012-10-07 00:00:00')],\n",
       " ['FS20B', Timestamp('2012-10-08 00:00:00')],\n",
       " ['FS20B', Timestamp('2012-10-09 00:00:00')],\n",
       " ['FS20B', Timestamp('2012-10-10 00:00:00')],\n",
       " ['FS20B', Timestamp('2012-10-11 00:00:00')],\n",
       " ['FS20B', Timestamp('2012-10-12 00:00:00')],\n",
       " ['FS20B', Timestamp('2012-10-13 00:00:00')],\n",
       " ['FS20B', Timestamp('2012-10-14 00:00:00')],\n",
       " ['FS20B', Timestamp('2012-10-15 00:00:00')],\n",
       " ['FS20B', Timestamp('2012-10-16 00:00:00')],\n",
       " ['FS20B', Timestamp('2012-10-17 00:00:00')],\n",
       " ['FS20B', Timestamp('2012-10-18 00:00:00')],\n",
       " ['FS20B', Timestamp('2012-10-19 00:00:00')],\n",
       " ['FS20B', Timestamp('2012-10-20 00:00:00')],\n",
       " ['FS20B', Timestamp('2012-10-21 00:00:00')],\n",
       " ['FS20B', Timestamp('2012-10-22 00:00:00')],\n",
       " ['FS20B', Timestamp('2012-10-23 00:00:00')],\n",
       " ['FS20B', Timestamp('2012-10-24 00:00:00')],\n",
       " ['FS20B', Timestamp('2012-10-25 00:00:00')],\n",
       " ['FS20B', Timestamp('2012-10-26 00:00:00')],\n",
       " ['FS20B', Timestamp('2012-10-27 00:00:00')],\n",
       " ['FS20B', Timestamp('2012-10-28 00:00:00')],\n",
       " ['FS20B', Timestamp('2012-10-29 00:00:00')],\n",
       " ['FS20B', Timestamp('2012-10-30 00:00:00')],\n",
       " ['FS20B', Timestamp('2012-10-31 00:00:00')],\n",
       " ['G10B', Timestamp('2012-10-01 00:00:00')],\n",
       " ['G10B', Timestamp('2012-10-02 00:00:00')],\n",
       " ['G10B', Timestamp('2012-10-03 00:00:00')],\n",
       " ['G10B', Timestamp('2012-10-04 00:00:00')],\n",
       " ['G10B', Timestamp('2012-10-05 00:00:00')],\n",
       " ['G10B', Timestamp('2012-10-06 00:00:00')],\n",
       " ['G10B', Timestamp('2012-10-07 00:00:00')],\n",
       " ['G10B', Timestamp('2012-10-08 00:00:00')],\n",
       " ['G10B', Timestamp('2012-10-09 00:00:00')],\n",
       " ['G10B', Timestamp('2012-10-10 00:00:00')],\n",
       " ['G10B', Timestamp('2012-10-11 00:00:00')],\n",
       " ['G10B', Timestamp('2012-10-12 00:00:00')],\n",
       " ['G10B', Timestamp('2012-10-13 00:00:00')],\n",
       " ['G10B', Timestamp('2012-10-14 00:00:00')],\n",
       " ['G10B', Timestamp('2012-10-15 00:00:00')],\n",
       " ['G10B', Timestamp('2012-10-16 00:00:00')],\n",
       " ['G10B', Timestamp('2012-10-17 00:00:00')],\n",
       " ['G10B', Timestamp('2012-10-18 00:00:00')],\n",
       " ['G10B', Timestamp('2012-10-19 00:00:00')],\n",
       " ['G10B', Timestamp('2012-10-20 00:00:00')],\n",
       " ['G10B', Timestamp('2012-10-21 00:00:00')],\n",
       " ['G10B', Timestamp('2012-10-22 00:00:00')],\n",
       " ['G10B', Timestamp('2012-10-23 00:00:00')],\n",
       " ['G10B', Timestamp('2012-10-24 00:00:00')],\n",
       " ['G10B', Timestamp('2012-10-25 00:00:00')],\n",
       " ['G10B', Timestamp('2012-10-26 00:00:00')],\n",
       " ['G10B', Timestamp('2012-10-27 00:00:00')],\n",
       " ['G10B', Timestamp('2012-10-28 00:00:00')],\n",
       " ['G10B', Timestamp('2012-10-29 00:00:00')],\n",
       " ['G10B', Timestamp('2012-10-30 00:00:00')],\n",
       " ['G10B', Timestamp('2012-10-31 00:00:00')],\n",
       " ['G17B', Timestamp('2012-10-01 00:00:00')],\n",
       " ['G17B', Timestamp('2012-10-02 00:00:00')],\n",
       " ['G17B', Timestamp('2012-10-03 00:00:00')],\n",
       " ['G17B', Timestamp('2012-10-04 00:00:00')],\n",
       " ['G17B', Timestamp('2012-10-05 00:00:00')],\n",
       " ['G17B', Timestamp('2012-10-06 00:00:00')],\n",
       " ['G17B', Timestamp('2012-10-07 00:00:00')],\n",
       " ['G17B', Timestamp('2012-10-08 00:00:00')],\n",
       " ['G17B', Timestamp('2012-10-09 00:00:00')],\n",
       " ['G17B', Timestamp('2012-10-10 00:00:00')],\n",
       " ['G17B', Timestamp('2012-10-11 00:00:00')],\n",
       " ['G17B', Timestamp('2012-10-12 00:00:00')],\n",
       " ['G17B', Timestamp('2012-10-13 00:00:00')],\n",
       " ['G17B', Timestamp('2012-10-14 00:00:00')],\n",
       " ['G17B', Timestamp('2012-10-15 00:00:00')],\n",
       " ['G17B', Timestamp('2012-10-16 00:00:00')],\n",
       " ['G17B', Timestamp('2012-10-17 00:00:00')],\n",
       " ['G17B', Timestamp('2012-10-18 00:00:00')],\n",
       " ['G17B', Timestamp('2012-10-19 00:00:00')],\n",
       " ['G17B', Timestamp('2012-10-20 00:00:00')],\n",
       " ['G17B', Timestamp('2012-10-21 00:00:00')],\n",
       " ['G17B', Timestamp('2012-10-22 00:00:00')],\n",
       " ['G17B', Timestamp('2012-10-23 00:00:00')],\n",
       " ['G17B', Timestamp('2012-10-24 00:00:00')],\n",
       " ['G17B', Timestamp('2012-10-25 00:00:00')],\n",
       " ['G17B', Timestamp('2012-10-26 00:00:00')],\n",
       " ['G17B', Timestamp('2012-10-27 00:00:00')],\n",
       " ['G17B', Timestamp('2012-10-28 00:00:00')],\n",
       " ['G17B', Timestamp('2012-10-29 00:00:00')],\n",
       " ['G17B', Timestamp('2012-10-30 00:00:00')],\n",
       " ['G17B', Timestamp('2012-10-31 00:00:00')],\n",
       " ['G19B', Timestamp('2012-10-01 00:00:00')],\n",
       " ['G19B', Timestamp('2012-10-02 00:00:00')],\n",
       " ['G19B', Timestamp('2012-10-03 00:00:00')],\n",
       " ['G19B', Timestamp('2012-10-04 00:00:00')],\n",
       " ['G19B', Timestamp('2012-10-05 00:00:00')],\n",
       " ['G19B', Timestamp('2012-10-06 00:00:00')],\n",
       " ['G19B', Timestamp('2012-10-07 00:00:00')],\n",
       " ['G19B', Timestamp('2012-10-08 00:00:00')],\n",
       " ['G19B', Timestamp('2012-10-09 00:00:00')],\n",
       " ['G19B', Timestamp('2012-10-10 00:00:00')],\n",
       " ['G19B', Timestamp('2012-10-11 00:00:00')],\n",
       " ['G19B', Timestamp('2012-10-12 00:00:00')],\n",
       " ['G19B', Timestamp('2012-10-13 00:00:00')],\n",
       " ['G19B', Timestamp('2012-10-14 00:00:00')],\n",
       " ['G19B', Timestamp('2012-10-15 00:00:00')],\n",
       " ['G19B', Timestamp('2012-10-16 00:00:00')],\n",
       " ['G19B', Timestamp('2012-10-17 00:00:00')],\n",
       " ['G19B', Timestamp('2012-10-18 00:00:00')],\n",
       " ['G19B', Timestamp('2012-10-19 00:00:00')],\n",
       " ['G19B', Timestamp('2012-10-20 00:00:00')],\n",
       " ['G19B', Timestamp('2012-10-21 00:00:00')],\n",
       " ['G19B', Timestamp('2012-10-22 00:00:00')],\n",
       " ['G19B', Timestamp('2012-10-23 00:00:00')],\n",
       " ['G19B', Timestamp('2012-10-24 00:00:00')],\n",
       " ['G19B', Timestamp('2012-10-25 00:00:00')],\n",
       " ['G19B', Timestamp('2012-10-26 00:00:00')],\n",
       " ['G19B', Timestamp('2012-10-27 00:00:00')],\n",
       " ['G19B', Timestamp('2012-10-28 00:00:00')],\n",
       " ['G19B', Timestamp('2012-10-29 00:00:00')],\n",
       " ['G19B', Timestamp('2012-10-30 00:00:00')],\n",
       " ['G19B', Timestamp('2012-10-31 00:00:00')],\n",
       " ['G25B', Timestamp('2012-10-01 00:00:00')],\n",
       " ['G25B', Timestamp('2012-10-02 00:00:00')],\n",
       " ['G25B', Timestamp('2012-10-03 00:00:00')],\n",
       " ['G25B', Timestamp('2012-10-04 00:00:00')],\n",
       " ['G25B', Timestamp('2012-10-05 00:00:00')],\n",
       " ['G25B', Timestamp('2012-10-06 00:00:00')],\n",
       " ['G25B', Timestamp('2012-10-07 00:00:00')],\n",
       " ['G25B', Timestamp('2012-10-08 00:00:00')],\n",
       " ['G25B', Timestamp('2012-10-09 00:00:00')],\n",
       " ['G25B', Timestamp('2012-10-10 00:00:00')],\n",
       " ['G25B', Timestamp('2012-10-11 00:00:00')],\n",
       " ['G25B', Timestamp('2012-10-12 00:00:00')],\n",
       " ['G25B', Timestamp('2012-10-13 00:00:00')],\n",
       " ['G25B', Timestamp('2012-10-14 00:00:00')],\n",
       " ['G25B', Timestamp('2012-10-15 00:00:00')],\n",
       " ['G25B', Timestamp('2012-10-16 00:00:00')],\n",
       " ['G25B', Timestamp('2012-10-17 00:00:00')],\n",
       " ['G25B', Timestamp('2012-10-18 00:00:00')],\n",
       " ['G25B', Timestamp('2012-10-19 00:00:00')],\n",
       " ['G25B', Timestamp('2012-10-20 00:00:00')],\n",
       " ['G25B', Timestamp('2012-10-21 00:00:00')],\n",
       " ['G25B', Timestamp('2012-10-22 00:00:00')],\n",
       " ['G25B', Timestamp('2012-10-23 00:00:00')],\n",
       " ['G25B', Timestamp('2012-10-24 00:00:00')],\n",
       " ['G25B', Timestamp('2012-10-25 00:00:00')],\n",
       " ['G25B', Timestamp('2012-10-26 00:00:00')],\n",
       " ['G25B', Timestamp('2012-10-27 00:00:00')],\n",
       " ['G25B', Timestamp('2012-10-28 00:00:00')],\n",
       " ['G25B', Timestamp('2012-10-29 00:00:00')],\n",
       " ['G25B', Timestamp('2012-10-30 00:00:00')],\n",
       " ['G25B', Timestamp('2012-10-31 00:00:00')],\n",
       " ['G26B', Timestamp('2012-10-01 00:00:00')],\n",
       " ['G26B', Timestamp('2012-10-02 00:00:00')],\n",
       " ['G26B', Timestamp('2012-10-03 00:00:00')],\n",
       " ['G26B', Timestamp('2012-10-04 00:00:00')],\n",
       " ['G26B', Timestamp('2012-10-05 00:00:00')],\n",
       " ['G26B', Timestamp('2012-10-06 00:00:00')],\n",
       " ['G26B', Timestamp('2012-10-07 00:00:00')],\n",
       " ['G26B', Timestamp('2012-10-08 00:00:00')],\n",
       " ['G26B', Timestamp('2012-10-09 00:00:00')],\n",
       " ['G26B', Timestamp('2012-10-10 00:00:00')],\n",
       " ['G26B', Timestamp('2012-10-11 00:00:00')],\n",
       " ['G26B', Timestamp('2012-10-12 00:00:00')],\n",
       " ['G26B', Timestamp('2012-10-13 00:00:00')],\n",
       " ['G26B', Timestamp('2012-10-14 00:00:00')],\n",
       " ['G26B', Timestamp('2012-10-15 00:00:00')],\n",
       " ['G26B', Timestamp('2012-10-16 00:00:00')],\n",
       " ['G26B', Timestamp('2012-10-17 00:00:00')],\n",
       " ['G26B', Timestamp('2012-10-18 00:00:00')],\n",
       " ['G26B', Timestamp('2012-10-19 00:00:00')],\n",
       " ['G26B', Timestamp('2012-10-20 00:00:00')],\n",
       " ['G26B', Timestamp('2012-10-21 00:00:00')],\n",
       " ['G26B', Timestamp('2012-10-22 00:00:00')],\n",
       " ['G26B', Timestamp('2012-10-23 00:00:00')],\n",
       " ['G26B', Timestamp('2012-10-24 00:00:00')],\n",
       " ['G26B', Timestamp('2012-10-25 00:00:00')],\n",
       " ['G26B', Timestamp('2012-10-26 00:00:00')],\n",
       " ['G26B', Timestamp('2012-10-27 00:00:00')],\n",
       " ['G26B', Timestamp('2012-10-28 00:00:00')],\n",
       " ['G26B', Timestamp('2012-10-29 00:00:00')],\n",
       " ['G26B', Timestamp('2012-10-30 00:00:00')],\n",
       " ['G26B', Timestamp('2012-10-31 00:00:00')],\n",
       " ['G27B', Timestamp('2012-10-01 00:00:00')],\n",
       " ['G27B', Timestamp('2012-10-02 00:00:00')],\n",
       " ['G27B', Timestamp('2012-10-03 00:00:00')],\n",
       " ['G27B', Timestamp('2012-10-04 00:00:00')],\n",
       " ['G27B', Timestamp('2012-10-05 00:00:00')],\n",
       " ['G27B', Timestamp('2012-10-06 00:00:00')],\n",
       " ['G27B', Timestamp('2012-10-07 00:00:00')],\n",
       " ['G27B', Timestamp('2012-10-08 00:00:00')],\n",
       " ['G27B', Timestamp('2012-10-09 00:00:00')],\n",
       " ['G27B', Timestamp('2012-10-10 00:00:00')],\n",
       " ['G27B', Timestamp('2012-10-11 00:00:00')],\n",
       " ['G27B', Timestamp('2012-10-12 00:00:00')],\n",
       " ['G27B', Timestamp('2012-10-13 00:00:00')],\n",
       " ['G27B', Timestamp('2012-10-14 00:00:00')],\n",
       " ['G27B', Timestamp('2012-10-15 00:00:00')],\n",
       " ['G27B', Timestamp('2012-10-16 00:00:00')],\n",
       " ['G27B', Timestamp('2012-10-17 00:00:00')],\n",
       " ['G27B', Timestamp('2012-10-18 00:00:00')],\n",
       " ['G27B', Timestamp('2012-10-19 00:00:00')],\n",
       " ['G27B', Timestamp('2012-10-20 00:00:00')],\n",
       " ['G27B', Timestamp('2012-10-21 00:00:00')],\n",
       " ['G27B', Timestamp('2012-10-22 00:00:00')],\n",
       " ['G27B', Timestamp('2012-10-23 00:00:00')],\n",
       " ['G27B', Timestamp('2012-10-24 00:00:00')],\n",
       " ['G27B', Timestamp('2012-10-25 00:00:00')],\n",
       " ['G27B', Timestamp('2012-10-26 00:00:00')],\n",
       " ['G27B', Timestamp('2012-10-27 00:00:00')],\n",
       " ['G27B', Timestamp('2012-10-28 00:00:00')],\n",
       " ['G27B', Timestamp('2012-10-29 00:00:00')],\n",
       " ['G27B', Timestamp('2012-10-30 00:00:00')],\n",
       " ['G27B', Timestamp('2012-10-31 00:00:00')],\n",
       " ['J09B', Timestamp('2012-10-01 00:00:00')],\n",
       " ['J09B', Timestamp('2012-10-02 00:00:00')],\n",
       " ['J09B', Timestamp('2012-10-03 00:00:00')],\n",
       " ['J09B', Timestamp('2012-10-04 00:00:00')],\n",
       " ['J09B', Timestamp('2012-10-05 00:00:00')],\n",
       " ['J09B', Timestamp('2012-10-06 00:00:00')],\n",
       " ['J09B', Timestamp('2012-10-07 00:00:00')],\n",
       " ['J09B', Timestamp('2012-10-08 00:00:00')],\n",
       " ['J09B', Timestamp('2012-10-09 00:00:00')],\n",
       " ['J09B', Timestamp('2012-10-10 00:00:00')],\n",
       " ['J09B', Timestamp('2012-10-11 00:00:00')],\n",
       " ['J09B', Timestamp('2012-10-12 00:00:00')],\n",
       " ['J09B', Timestamp('2012-10-13 00:00:00')],\n",
       " ['J09B', Timestamp('2012-10-14 00:00:00')],\n",
       " ['J09B', Timestamp('2012-10-15 00:00:00')],\n",
       " ['J09B', Timestamp('2012-10-16 00:00:00')],\n",
       " ['J09B', Timestamp('2012-10-17 00:00:00')],\n",
       " ['J09B', Timestamp('2012-10-18 00:00:00')],\n",
       " ['J09B', Timestamp('2012-10-19 00:00:00')],\n",
       " ['J09B', Timestamp('2012-10-20 00:00:00')],\n",
       " ['J09B', Timestamp('2012-10-21 00:00:00')],\n",
       " ['J09B', Timestamp('2012-10-22 00:00:00')],\n",
       " ['J09B', Timestamp('2012-10-23 00:00:00')],\n",
       " ['J09B', Timestamp('2012-10-24 00:00:00')],\n",
       " ['J09B', Timestamp('2012-10-25 00:00:00')],\n",
       " ['J09B', Timestamp('2012-10-26 00:00:00')],\n",
       " ['J09B', Timestamp('2012-10-27 00:00:00')],\n",
       " ['J09B', Timestamp('2012-10-28 00:00:00')],\n",
       " ['J09B', Timestamp('2012-10-29 00:00:00')],\n",
       " ['J09B', Timestamp('2012-10-30 00:00:00')],\n",
       " ['J09B', Timestamp('2012-10-31 00:00:00')],\n",
       " ['J25B', Timestamp('2012-10-01 00:00:00')],\n",
       " ['J25B', Timestamp('2012-10-02 00:00:00')],\n",
       " ['J25B', Timestamp('2012-10-03 00:00:00')],\n",
       " ['J25B', Timestamp('2012-10-04 00:00:00')],\n",
       " ['J25B', Timestamp('2012-10-05 00:00:00')],\n",
       " ['J25B', Timestamp('2012-10-06 00:00:00')],\n",
       " ['J25B', Timestamp('2012-10-07 00:00:00')],\n",
       " ['J25B', Timestamp('2012-10-08 00:00:00')],\n",
       " ['J25B', Timestamp('2012-10-09 00:00:00')],\n",
       " ['J25B', Timestamp('2012-10-10 00:00:00')],\n",
       " ['J25B', Timestamp('2012-10-11 00:00:00')],\n",
       " ['J25B', Timestamp('2012-10-12 00:00:00')],\n",
       " ['J25B', Timestamp('2012-10-13 00:00:00')],\n",
       " ['J25B', Timestamp('2012-10-14 00:00:00')],\n",
       " ['J25B', Timestamp('2012-10-15 00:00:00')],\n",
       " ['J25B', Timestamp('2012-10-16 00:00:00')],\n",
       " ['J25B', Timestamp('2012-10-17 00:00:00')],\n",
       " ['J25B', Timestamp('2012-10-18 00:00:00')],\n",
       " ['J25B', Timestamp('2012-10-19 00:00:00')],\n",
       " ['J25B', Timestamp('2012-10-20 00:00:00')],\n",
       " ['J25B', Timestamp('2012-10-21 00:00:00')],\n",
       " ['J25B', Timestamp('2012-10-22 00:00:00')],\n",
       " ['J25B', Timestamp('2012-10-23 00:00:00')],\n",
       " ['J25B', Timestamp('2012-10-24 00:00:00')],\n",
       " ['J25B', Timestamp('2012-10-25 00:00:00')],\n",
       " ['J25B', Timestamp('2012-10-26 00:00:00')],\n",
       " ['J25B', Timestamp('2012-10-27 00:00:00')],\n",
       " ['J25B', Timestamp('2012-10-28 00:00:00')],\n",
       " ['J25B', Timestamp('2012-10-29 00:00:00')],\n",
       " ['J25B', Timestamp('2012-10-30 00:00:00')],\n",
       " ['J25B', Timestamp('2012-10-31 00:00:00')],\n",
       " ['J33B', Timestamp('2012-10-01 00:00:00')],\n",
       " ['J33B', Timestamp('2012-10-02 00:00:00')],\n",
       " ['J33B', Timestamp('2012-10-03 00:00:00')],\n",
       " ['J33B', Timestamp('2012-10-04 00:00:00')],\n",
       " ['J33B', Timestamp('2012-10-05 00:00:00')],\n",
       " ['J33B', Timestamp('2012-10-06 00:00:00')],\n",
       " ['J33B', Timestamp('2012-10-07 00:00:00')],\n",
       " ['J33B', Timestamp('2012-10-08 00:00:00')],\n",
       " ['J33B', Timestamp('2012-10-09 00:00:00')],\n",
       " ['J33B', Timestamp('2012-10-10 00:00:00')],\n",
       " ['J33B', Timestamp('2012-10-11 00:00:00')],\n",
       " ['J33B', Timestamp('2012-10-12 00:00:00')],\n",
       " ['J33B', Timestamp('2012-10-13 00:00:00')],\n",
       " ['J33B', Timestamp('2012-10-14 00:00:00')],\n",
       " ['J33B', Timestamp('2012-10-15 00:00:00')],\n",
       " ['J33B', Timestamp('2012-10-16 00:00:00')],\n",
       " ['J33B', Timestamp('2012-10-17 00:00:00')],\n",
       " ['J33B', Timestamp('2012-10-18 00:00:00')],\n",
       " ['J33B', Timestamp('2012-10-19 00:00:00')],\n",
       " ['J33B', Timestamp('2012-10-20 00:00:00')],\n",
       " ['J33B', Timestamp('2012-10-21 00:00:00')],\n",
       " ['J33B', Timestamp('2012-10-22 00:00:00')],\n",
       " ['J33B', Timestamp('2012-10-23 00:00:00')],\n",
       " ['J33B', Timestamp('2012-10-24 00:00:00')],\n",
       " ['J33B', Timestamp('2012-10-25 00:00:00')],\n",
       " ['J33B', Timestamp('2012-10-26 00:00:00')],\n",
       " ['J33B', Timestamp('2012-10-27 00:00:00')],\n",
       " ['J33B', Timestamp('2012-10-28 00:00:00')],\n",
       " ['J33B', Timestamp('2012-10-29 00:00:00')],\n",
       " ['J33B', Timestamp('2012-10-30 00:00:00')],\n",
       " ['J33B', Timestamp('2012-10-31 00:00:00')],\n",
       " ['M09B', Timestamp('2012-10-01 00:00:00')],\n",
       " ['M09B', Timestamp('2012-10-02 00:00:00')],\n",
       " ['M09B', Timestamp('2012-10-03 00:00:00')],\n",
       " ['M09B', Timestamp('2012-10-04 00:00:00')],\n",
       " ['M09B', Timestamp('2012-10-05 00:00:00')],\n",
       " ['M09B', Timestamp('2012-10-06 00:00:00')],\n",
       " ['M09B', Timestamp('2012-10-07 00:00:00')],\n",
       " ['M09B', Timestamp('2012-10-08 00:00:00')],\n",
       " ['M09B', Timestamp('2012-10-09 00:00:00')],\n",
       " ['M09B', Timestamp('2012-10-10 00:00:00')],\n",
       " ['M09B', Timestamp('2012-10-11 00:00:00')],\n",
       " ['M09B', Timestamp('2012-10-12 00:00:00')],\n",
       " ['M09B', Timestamp('2012-10-13 00:00:00')],\n",
       " ['M09B', Timestamp('2012-10-14 00:00:00')],\n",
       " ['M09B', Timestamp('2012-10-15 00:00:00')],\n",
       " ['M09B', Timestamp('2012-10-16 00:00:00')],\n",
       " ['M09B', Timestamp('2012-10-17 00:00:00')],\n",
       " ['M09B', Timestamp('2012-10-18 00:00:00')],\n",
       " ['M09B', Timestamp('2012-10-19 00:00:00')],\n",
       " ['M09B', Timestamp('2012-10-20 00:00:00')],\n",
       " ['M09B', Timestamp('2012-10-21 00:00:00')],\n",
       " ['M09B', Timestamp('2012-10-22 00:00:00')],\n",
       " ['M09B', Timestamp('2012-10-23 00:00:00')],\n",
       " ['M09B', Timestamp('2012-10-24 00:00:00')],\n",
       " ['M09B', Timestamp('2012-10-25 00:00:00')],\n",
       " ['M09B', Timestamp('2012-10-26 00:00:00')],\n",
       " ['M09B', Timestamp('2012-10-27 00:00:00')],\n",
       " ['M09B', Timestamp('2012-10-28 00:00:00')],\n",
       " ['M09B', Timestamp('2012-10-29 00:00:00')],\n",
       " ['M09B', Timestamp('2012-10-30 00:00:00')],\n",
       " ['M09B', Timestamp('2012-10-31 00:00:00')],\n",
       " ['M12B', Timestamp('2012-10-01 00:00:00')],\n",
       " ['M12B', Timestamp('2012-10-02 00:00:00')],\n",
       " ['M12B', Timestamp('2012-10-03 00:00:00')],\n",
       " ['M12B', Timestamp('2012-10-04 00:00:00')],\n",
       " ['M12B', Timestamp('2012-10-05 00:00:00')],\n",
       " ['M12B', Timestamp('2012-10-06 00:00:00')],\n",
       " ['M12B', Timestamp('2012-10-07 00:00:00')],\n",
       " ['M12B', Timestamp('2012-10-08 00:00:00')],\n",
       " ['M12B', Timestamp('2012-10-09 00:00:00')],\n",
       " ['M12B', Timestamp('2012-10-10 00:00:00')],\n",
       " ['M12B', Timestamp('2012-10-11 00:00:00')],\n",
       " ['M12B', Timestamp('2012-10-12 00:00:00')],\n",
       " ['M12B', Timestamp('2012-10-13 00:00:00')],\n",
       " ['M12B', Timestamp('2012-10-14 00:00:00')],\n",
       " ['M12B', Timestamp('2012-10-15 00:00:00')],\n",
       " ['M12B', Timestamp('2012-10-16 00:00:00')],\n",
       " ['M12B', Timestamp('2012-10-17 00:00:00')],\n",
       " ['M12B', Timestamp('2012-10-18 00:00:00')],\n",
       " ['M12B', Timestamp('2012-10-19 00:00:00')],\n",
       " ['M12B', Timestamp('2012-10-20 00:00:00')],\n",
       " ['M12B', Timestamp('2012-10-21 00:00:00')],\n",
       " ['M12B', Timestamp('2012-10-22 00:00:00')],\n",
       " ['M12B', Timestamp('2012-10-23 00:00:00')],\n",
       " ['M12B', Timestamp('2012-10-24 00:00:00')],\n",
       " ['M12B', Timestamp('2012-10-25 00:00:00')],\n",
       " ['M12B', Timestamp('2012-10-26 00:00:00')],\n",
       " ['M12B', Timestamp('2012-10-27 00:00:00')],\n",
       " ['M12B', Timestamp('2012-10-28 00:00:00')],\n",
       " ['M12B', Timestamp('2012-10-29 00:00:00')],\n",
       " ['M12B', Timestamp('2012-10-30 00:00:00')],\n",
       " ['M12B', Timestamp('2012-10-31 00:00:00')],\n",
       " ['M14B', Timestamp('2012-10-01 00:00:00')],\n",
       " ['M14B', Timestamp('2012-10-02 00:00:00')],\n",
       " ['M14B', Timestamp('2012-10-03 00:00:00')],\n",
       " ['M14B', Timestamp('2012-10-04 00:00:00')],\n",
       " ['M14B', Timestamp('2012-10-05 00:00:00')],\n",
       " ['M14B', Timestamp('2012-10-06 00:00:00')],\n",
       " ['M14B', Timestamp('2012-10-07 00:00:00')],\n",
       " ['M14B', Timestamp('2012-10-08 00:00:00')],\n",
       " ['M14B', Timestamp('2012-10-09 00:00:00')],\n",
       " ['M14B', Timestamp('2012-10-10 00:00:00')],\n",
       " ['M14B', Timestamp('2012-10-11 00:00:00')],\n",
       " ['M14B', Timestamp('2012-10-12 00:00:00')],\n",
       " ['M14B', Timestamp('2012-10-13 00:00:00')],\n",
       " ['M14B', Timestamp('2012-10-14 00:00:00')],\n",
       " ['M14B', Timestamp('2012-10-15 00:00:00')],\n",
       " ['M14B', Timestamp('2012-10-16 00:00:00')],\n",
       " ['M14B', Timestamp('2012-10-17 00:00:00')],\n",
       " ['M14B', Timestamp('2012-10-18 00:00:00')],\n",
       " ['M14B', Timestamp('2012-10-19 00:00:00')],\n",
       " ['M14B', Timestamp('2012-10-20 00:00:00')],\n",
       " ['M14B', Timestamp('2012-10-21 00:00:00')],\n",
       " ['M14B', Timestamp('2012-10-22 00:00:00')],\n",
       " ['M14B', Timestamp('2012-10-23 00:00:00')],\n",
       " ['M14B', Timestamp('2012-10-24 00:00:00')],\n",
       " ['M14B', Timestamp('2012-10-25 00:00:00')],\n",
       " ['M14B', Timestamp('2012-10-26 00:00:00')],\n",
       " ['M14B', Timestamp('2012-10-27 00:00:00')],\n",
       " ['M14B', Timestamp('2012-10-28 00:00:00')],\n",
       " ['M14B', Timestamp('2012-10-29 00:00:00')],\n",
       " ['M14B', Timestamp('2012-10-30 00:00:00')],\n",
       " ['M14B', Timestamp('2012-10-31 00:00:00')]]"
      ]
     },
     "execution_count": 25,
     "metadata": {},
     "output_type": "execute_result"
    }
   ],
   "source": [
    "task_list"
   ]
  },
  {
   "cell_type": "code",
   "execution_count": 26,
   "id": "560aff81",
   "metadata": {
    "scrolled": true
   },
   "outputs": [
    {
     "name": "stdout",
     "output_type": "stream",
     "text": [
      "[                                        ] | 0% Completed | 112.75 ms"
     ]
    },
    {
     "name": "stderr",
     "output_type": "stream",
     "text": [
      "WARNING:root:No stream returned. Skipping.\n",
      "WARNING:root:No stream returned. Skipping.\n"
     ]
    },
    {
     "name": "stdout",
     "output_type": "stream",
     "text": [
      "[                                        ] | 0% Completed | 219.52 ms"
     ]
    },
    {
     "name": "stderr",
     "output_type": "stream",
     "text": [
      "WARNING:root:No stream returned. Skipping.\n"
     ]
    },
    {
     "name": "stdout",
     "output_type": "stream",
     "text": [
      "[                                        ] | 0% Completed | 320.90 ms"
     ]
    },
    {
     "name": "stderr",
     "output_type": "stream",
     "text": [
      "WARNING:root:No stream returned. Skipping.\n"
     ]
    },
    {
     "name": "stdout",
     "output_type": "stream",
     "text": [
      "[                                        ] | 0% Completed | 423.33 ms"
     ]
    },
    {
     "name": "stderr",
     "output_type": "stream",
     "text": [
      "WARNING:root:No stream returned. Skipping.\n"
     ]
    },
    {
     "name": "stdout",
     "output_type": "stream",
     "text": [
      "[                                        ] | 0% Completed | 527.01 ms"
     ]
    },
    {
     "name": "stderr",
     "output_type": "stream",
     "text": [
      "WARNING:root:No stream returned. Skipping.\n",
      "WARNING:root:No stream returned. Skipping.\n"
     ]
    },
    {
     "name": "stdout",
     "output_type": "stream",
     "text": [
      "[                                        ] | 1% Completed | 632.02 ms"
     ]
    },
    {
     "name": "stderr",
     "output_type": "stream",
     "text": [
      "WARNING:root:No stream returned. Skipping.\n"
     ]
    },
    {
     "name": "stdout",
     "output_type": "stream",
     "text": [
      "[                                        ] | 1% Completed | 736.74 ms"
     ]
    },
    {
     "name": "stderr",
     "output_type": "stream",
     "text": [
      "WARNING:root:No stream returned. Skipping.\n"
     ]
    },
    {
     "name": "stdout",
     "output_type": "stream",
     "text": [
      "[                                        ] | 1% Completed | 841.91 ms"
     ]
    },
    {
     "name": "stderr",
     "output_type": "stream",
     "text": [
      "WARNING:root:No stream returned. Skipping.\n",
      "WARNING:root:No stream returned. Skipping.\n"
     ]
    },
    {
     "name": "stdout",
     "output_type": "stream",
     "text": [
      "[                                        ] | 2% Completed | 951.37 ms"
     ]
    },
    {
     "name": "stderr",
     "output_type": "stream",
     "text": [
      "WARNING:root:No stream returned. Skipping.\n"
     ]
    },
    {
     "name": "stdout",
     "output_type": "stream",
     "text": [
      "[                                        ] | 2% Completed | 1.06 s"
     ]
    },
    {
     "name": "stderr",
     "output_type": "stream",
     "text": [
      "WARNING:root:No stream returned. Skipping.\n",
      "WARNING:root:No stream returned. Skipping.\n"
     ]
    },
    {
     "name": "stdout",
     "output_type": "stream",
     "text": [
      "[                                        ] | 2% Completed | 1.17 s"
     ]
    },
    {
     "name": "stderr",
     "output_type": "stream",
     "text": [
      "WARNING:root:No stream returned. Skipping.\n"
     ]
    },
    {
     "name": "stdout",
     "output_type": "stream",
     "text": [
      "[#                                       ] | 2% Completed | 1.27 s"
     ]
    },
    {
     "name": "stderr",
     "output_type": "stream",
     "text": [
      "WARNING:root:No stream returned. Skipping.\n"
     ]
    },
    {
     "name": "stdout",
     "output_type": "stream",
     "text": [
      "[#                                       ] | 3% Completed | 1.37 s"
     ]
    },
    {
     "name": "stderr",
     "output_type": "stream",
     "text": [
      "WARNING:root:No stream returned. Skipping.\n",
      "WARNING:root:No stream returned. Skipping.\n"
     ]
    },
    {
     "name": "stdout",
     "output_type": "stream",
     "text": [
      "[#                                       ] | 3% Completed | 1.48 s"
     ]
    },
    {
     "name": "stderr",
     "output_type": "stream",
     "text": [
      "WARNING:root:No stream returned. Skipping.\n"
     ]
    },
    {
     "name": "stdout",
     "output_type": "stream",
     "text": [
      "[#                                       ] | 3% Completed | 1.58 s"
     ]
    },
    {
     "name": "stderr",
     "output_type": "stream",
     "text": [
      "WARNING:root:No stream returned. Skipping.\n"
     ]
    },
    {
     "name": "stdout",
     "output_type": "stream",
     "text": [
      "[#                                       ] | 3% Completed | 1.68 s"
     ]
    },
    {
     "name": "stderr",
     "output_type": "stream",
     "text": [
      "WARNING:root:No stream returned. Skipping.\n"
     ]
    },
    {
     "name": "stdout",
     "output_type": "stream",
     "text": [
      "[#                                       ] | 3% Completed | 1.79 s"
     ]
    },
    {
     "name": "stderr",
     "output_type": "stream",
     "text": [
      "WARNING:root:No stream returned. Skipping.\n",
      "WARNING:root:No stream returned. Skipping.\n"
     ]
    },
    {
     "name": "stdout",
     "output_type": "stream",
     "text": [
      "[#                                       ] | 4% Completed | 1.89 s"
     ]
    },
    {
     "name": "stderr",
     "output_type": "stream",
     "text": [
      "WARNING:root:No stream returned. Skipping.\n"
     ]
    },
    {
     "name": "stdout",
     "output_type": "stream",
     "text": [
      "[#                                       ] | 4% Completed | 2.00 s"
     ]
    },
    {
     "name": "stderr",
     "output_type": "stream",
     "text": [
      "WARNING:root:No stream returned. Skipping.\n"
     ]
    },
    {
     "name": "stdout",
     "output_type": "stream",
     "text": [
      "[#                                       ] | 4% Completed | 2.10 s"
     ]
    },
    {
     "name": "stderr",
     "output_type": "stream",
     "text": [
      "WARNING:root:No stream returned. Skipping.\n"
     ]
    },
    {
     "name": "stdout",
     "output_type": "stream",
     "text": [
      "[#                                       ] | 4% Completed | 2.20 s"
     ]
    },
    {
     "name": "stderr",
     "output_type": "stream",
     "text": [
      "WARNING:root:No stream returned. Skipping.\n",
      "WARNING:root:No stream returned. Skipping.\n"
     ]
    },
    {
     "name": "stdout",
     "output_type": "stream",
     "text": [
      "[##                                      ] | 5% Completed | 2.31 s"
     ]
    },
    {
     "name": "stderr",
     "output_type": "stream",
     "text": [
      "WARNING:root:No stream returned. Skipping.\n"
     ]
    },
    {
     "name": "stdout",
     "output_type": "stream",
     "text": [
      "[##                                      ] | 5% Completed | 2.41 s"
     ]
    },
    {
     "name": "stderr",
     "output_type": "stream",
     "text": [
      "WARNING:root:No stream returned. Skipping.\n",
      "WARNING:root:No stream returned. Skipping.\n"
     ]
    },
    {
     "name": "stdout",
     "output_type": "stream",
     "text": [
      "[##                                      ] | 5% Completed | 2.52 s"
     ]
    },
    {
     "name": "stderr",
     "output_type": "stream",
     "text": [
      "WARNING:root:No stream returned. Skipping.\n"
     ]
    },
    {
     "name": "stdout",
     "output_type": "stream",
     "text": [
      "[##                                      ] | 6% Completed | 2.62 s"
     ]
    },
    {
     "name": "stderr",
     "output_type": "stream",
     "text": [
      "WARNING:root:No stream returned. Skipping.\n"
     ]
    },
    {
     "name": "stdout",
     "output_type": "stream",
     "text": [
      "[##                                      ] | 6% Completed | 2.72 s"
     ]
    },
    {
     "name": "stderr",
     "output_type": "stream",
     "text": [
      "WARNING:root:No stream returned. Skipping.\n",
      "WARNING:root:No stream returned. Skipping.\n"
     ]
    },
    {
     "name": "stdout",
     "output_type": "stream",
     "text": [
      "[##                                      ] | 6% Completed | 2.82 s"
     ]
    },
    {
     "name": "stderr",
     "output_type": "stream",
     "text": [
      "WARNING:root:No stream returned. Skipping.\n"
     ]
    },
    {
     "name": "stdout",
     "output_type": "stream",
     "text": [
      "[##                                      ] | 6% Completed | 2.93 s"
     ]
    },
    {
     "name": "stderr",
     "output_type": "stream",
     "text": [
      "WARNING:root:No stream returned. Skipping.\n"
     ]
    },
    {
     "name": "stdout",
     "output_type": "stream",
     "text": [
      "[##                                      ] | 7% Completed | 3.03 s"
     ]
    },
    {
     "name": "stderr",
     "output_type": "stream",
     "text": [
      "WARNING:root:No stream returned. Skipping.\n"
     ]
    },
    {
     "name": "stdout",
     "output_type": "stream",
     "text": [
      "[##                                      ] | 7% Completed | 3.13 s"
     ]
    },
    {
     "name": "stderr",
     "output_type": "stream",
     "text": [
      "WARNING:root:No stream returned. Skipping.\n"
     ]
    },
    {
     "name": "stdout",
     "output_type": "stream",
     "text": [
      "[##                                      ] | 7% Completed | 3.24 s"
     ]
    },
    {
     "name": "stderr",
     "output_type": "stream",
     "text": [
      "WARNING:root:No stream returned. Skipping.\n"
     ]
    },
    {
     "name": "stdout",
     "output_type": "stream",
     "text": [
      "[###                                     ] | 7% Completed | 3.34 s"
     ]
    },
    {
     "name": "stderr",
     "output_type": "stream",
     "text": [
      "WARNING:root:No stream returned. Skipping.\n",
      "WARNING:root:No stream returned. Skipping.\n"
     ]
    },
    {
     "name": "stdout",
     "output_type": "stream",
     "text": [
      "[###                                     ] | 7% Completed | 3.45 s"
     ]
    },
    {
     "name": "stderr",
     "output_type": "stream",
     "text": [
      "WARNING:root:No stream returned. Skipping.\n"
     ]
    },
    {
     "name": "stdout",
     "output_type": "stream",
     "text": [
      "[###                                     ] | 8% Completed | 3.55 s"
     ]
    },
    {
     "name": "stderr",
     "output_type": "stream",
     "text": [
      "WARNING:root:No stream returned. Skipping.\n"
     ]
    },
    {
     "name": "stdout",
     "output_type": "stream",
     "text": [
      "[###                                     ] | 8% Completed | 3.66 s"
     ]
    },
    {
     "name": "stderr",
     "output_type": "stream",
     "text": [
      "WARNING:root:No stream returned. Skipping.\n"
     ]
    },
    {
     "name": "stdout",
     "output_type": "stream",
     "text": [
      "[###                                     ] | 8% Completed | 3.76 s"
     ]
    },
    {
     "name": "stderr",
     "output_type": "stream",
     "text": [
      "WARNING:root:No stream returned. Skipping.\n"
     ]
    },
    {
     "name": "stdout",
     "output_type": "stream",
     "text": [
      "[###                                     ] | 8% Completed | 3.87 s"
     ]
    },
    {
     "name": "stderr",
     "output_type": "stream",
     "text": [
      "WARNING:root:No stream returned. Skipping.\n"
     ]
    },
    {
     "name": "stdout",
     "output_type": "stream",
     "text": [
      "[###                                     ] | 8% Completed | 3.97 s"
     ]
    },
    {
     "name": "stderr",
     "output_type": "stream",
     "text": [
      "WARNING:root:No stream returned. Skipping.\n",
      "WARNING:root:No stream returned. Skipping.\n"
     ]
    },
    {
     "name": "stdout",
     "output_type": "stream",
     "text": [
      "[###                                     ] | 9% Completed | 4.07 s"
     ]
    },
    {
     "name": "stderr",
     "output_type": "stream",
     "text": [
      "WARNING:root:No stream returned. Skipping.\n"
     ]
    },
    {
     "name": "stdout",
     "output_type": "stream",
     "text": [
      "[###                                     ] | 9% Completed | 4.17 s"
     ]
    },
    {
     "name": "stderr",
     "output_type": "stream",
     "text": [
      "WARNING:root:No stream returned. Skipping.\n"
     ]
    },
    {
     "name": "stdout",
     "output_type": "stream",
     "text": [
      "[###                                     ] | 9% Completed | 4.27 s"
     ]
    },
    {
     "name": "stderr",
     "output_type": "stream",
     "text": [
      "WARNING:root:No stream returned. Skipping.\n"
     ]
    },
    {
     "name": "stdout",
     "output_type": "stream",
     "text": [
      "[###                                     ] | 9% Completed | 4.38 s"
     ]
    },
    {
     "name": "stderr",
     "output_type": "stream",
     "text": [
      "WARNING:root:No stream returned. Skipping.\n",
      "WARNING:root:No stream returned. Skipping.\n"
     ]
    },
    {
     "name": "stdout",
     "output_type": "stream",
     "text": [
      "[####                                    ] | 10% Completed | 4.48 s"
     ]
    },
    {
     "name": "stderr",
     "output_type": "stream",
     "text": [
      "WARNING:root:No stream returned. Skipping.\n"
     ]
    },
    {
     "name": "stdout",
     "output_type": "stream",
     "text": [
      "[####                                    ] | 10% Completed | 4.58 s"
     ]
    },
    {
     "name": "stderr",
     "output_type": "stream",
     "text": [
      "WARNING:root:No stream returned. Skipping.\n"
     ]
    },
    {
     "name": "stdout",
     "output_type": "stream",
     "text": [
      "[####                                    ] | 10% Completed | 4.68 s"
     ]
    },
    {
     "name": "stderr",
     "output_type": "stream",
     "text": [
      "WARNING:root:No stream returned. Skipping.\n",
      "WARNING:root:No stream returned. Skipping.\n"
     ]
    },
    {
     "name": "stdout",
     "output_type": "stream",
     "text": [
      "[####                                    ] | 11% Completed | 4.79 s"
     ]
    },
    {
     "name": "stderr",
     "output_type": "stream",
     "text": [
      "WARNING:root:No stream returned. Skipping.\n"
     ]
    },
    {
     "name": "stdout",
     "output_type": "stream",
     "text": [
      "[####                                    ] | 11% Completed | 4.89 s"
     ]
    },
    {
     "name": "stderr",
     "output_type": "stream",
     "text": [
      "WARNING:root:No stream returned. Skipping.\n"
     ]
    },
    {
     "name": "stdout",
     "output_type": "stream",
     "text": [
      "[####                                    ] | 11% Completed | 5.00 s"
     ]
    },
    {
     "name": "stderr",
     "output_type": "stream",
     "text": [
      "WARNING:root:No stream returned. Skipping.\n",
      "WARNING:root:No stream returned. Skipping.\n"
     ]
    },
    {
     "name": "stdout",
     "output_type": "stream",
     "text": [
      "[####                                    ] | 11% Completed | 5.11 s"
     ]
    },
    {
     "name": "stderr",
     "output_type": "stream",
     "text": [
      "WARNING:root:No stream returned. Skipping.\n"
     ]
    },
    {
     "name": "stdout",
     "output_type": "stream",
     "text": [
      "[####                                    ] | 11% Completed | 5.21 s"
     ]
    },
    {
     "name": "stderr",
     "output_type": "stream",
     "text": [
      "WARNING:root:No stream returned. Skipping.\n",
      "WARNING:root:No stream returned. Skipping.\n"
     ]
    },
    {
     "name": "stdout",
     "output_type": "stream",
     "text": [
      "[####                                    ] | 12% Completed | 5.32 s"
     ]
    },
    {
     "name": "stderr",
     "output_type": "stream",
     "text": [
      "WARNING:root:No stream returned. Skipping.\n"
     ]
    },
    {
     "name": "stdout",
     "output_type": "stream",
     "text": [
      "[#####                                   ] | 12% Completed | 5.42 s"
     ]
    },
    {
     "name": "stderr",
     "output_type": "stream",
     "text": [
      "WARNING:root:No stream returned. Skipping.\n"
     ]
    },
    {
     "name": "stdout",
     "output_type": "stream",
     "text": [
      "[#####                                   ] | 12% Completed | 5.52 s"
     ]
    },
    {
     "name": "stderr",
     "output_type": "stream",
     "text": [
      "WARNING:root:No stream returned. Skipping.\n",
      "WARNING:root:No stream returned. Skipping.\n"
     ]
    },
    {
     "name": "stdout",
     "output_type": "stream",
     "text": [
      "[#####                                   ] | 13% Completed | 5.62 s"
     ]
    },
    {
     "name": "stderr",
     "output_type": "stream",
     "text": [
      "WARNING:root:No stream returned. Skipping.\n"
     ]
    },
    {
     "name": "stdout",
     "output_type": "stream",
     "text": [
      "[#####                                   ] | 13% Completed | 5.72 s"
     ]
    },
    {
     "name": "stderr",
     "output_type": "stream",
     "text": [
      "WARNING:root:No stream returned. Skipping.\n",
      "WARNING:root:No stream returned. Skipping.\n"
     ]
    },
    {
     "name": "stdout",
     "output_type": "stream",
     "text": [
      "[#####                                   ] | 13% Completed | 5.83 s"
     ]
    },
    {
     "name": "stderr",
     "output_type": "stream",
     "text": [
      "WARNING:root:No stream returned. Skipping.\n",
      "WARNING:root:No stream returned. Skipping.\n"
     ]
    },
    {
     "name": "stdout",
     "output_type": "stream",
     "text": [
      "[#####                                   ] | 13% Completed | 5.93 s"
     ]
    },
    {
     "name": "stderr",
     "output_type": "stream",
     "text": [
      "WARNING:root:No stream returned. Skipping.\n"
     ]
    },
    {
     "name": "stdout",
     "output_type": "stream",
     "text": [
      "[#####                                   ] | 14% Completed | 6.03 s"
     ]
    },
    {
     "name": "stderr",
     "output_type": "stream",
     "text": [
      "WARNING:root:No stream returned. Skipping.\n"
     ]
    },
    {
     "name": "stdout",
     "output_type": "stream",
     "text": [
      "[#####                                   ] | 14% Completed | 6.13 s"
     ]
    },
    {
     "name": "stderr",
     "output_type": "stream",
     "text": [
      "WARNING:root:No stream returned. Skipping.\n",
      "WARNING:root:No stream returned. Skipping.\n"
     ]
    },
    {
     "name": "stdout",
     "output_type": "stream",
     "text": [
      "[#####                                   ] | 14% Completed | 6.24 s"
     ]
    },
    {
     "name": "stderr",
     "output_type": "stream",
     "text": [
      "WARNING:root:No stream returned. Skipping.\n"
     ]
    },
    {
     "name": "stdout",
     "output_type": "stream",
     "text": [
      "[#####                                   ] | 14% Completed | 6.34 s"
     ]
    },
    {
     "name": "stderr",
     "output_type": "stream",
     "text": [
      "WARNING:root:No stream returned. Skipping.\n",
      "WARNING:root:No stream returned. Skipping.\n"
     ]
    },
    {
     "name": "stdout",
     "output_type": "stream",
     "text": [
      "[######                                  ] | 15% Completed | 6.44 s"
     ]
    },
    {
     "name": "stderr",
     "output_type": "stream",
     "text": [
      "WARNING:root:No stream returned. Skipping.\n"
     ]
    },
    {
     "name": "stdout",
     "output_type": "stream",
     "text": [
      "[######                                  ] | 15% Completed | 6.54 s"
     ]
    },
    {
     "name": "stderr",
     "output_type": "stream",
     "text": [
      "WARNING:root:No stream returned. Skipping.\n"
     ]
    },
    {
     "name": "stdout",
     "output_type": "stream",
     "text": [
      "[######                                  ] | 15% Completed | 6.65 s"
     ]
    },
    {
     "name": "stderr",
     "output_type": "stream",
     "text": [
      "WARNING:root:No stream returned. Skipping.\n",
      "WARNING:root:No stream returned. Skipping.\n"
     ]
    },
    {
     "name": "stdout",
     "output_type": "stream",
     "text": [
      "[######                                  ] | 16% Completed | 6.75 s"
     ]
    },
    {
     "name": "stderr",
     "output_type": "stream",
     "text": [
      "WARNING:root:No stream returned. Skipping.\n"
     ]
    },
    {
     "name": "stdout",
     "output_type": "stream",
     "text": [
      "[######                                  ] | 16% Completed | 6.86 s"
     ]
    },
    {
     "name": "stderr",
     "output_type": "stream",
     "text": [
      "WARNING:root:No stream returned. Skipping.\n"
     ]
    },
    {
     "name": "stdout",
     "output_type": "stream",
     "text": [
      "[######                                  ] | 16% Completed | 6.96 s"
     ]
    },
    {
     "name": "stderr",
     "output_type": "stream",
     "text": [
      "WARNING:root:No stream returned. Skipping.\n",
      "WARNING:root:No stream returned. Skipping.\n"
     ]
    },
    {
     "name": "stdout",
     "output_type": "stream",
     "text": [
      "[######                                  ] | 16% Completed | 7.07 s"
     ]
    },
    {
     "name": "stderr",
     "output_type": "stream",
     "text": [
      "WARNING:root:No stream returned. Skipping.\n"
     ]
    },
    {
     "name": "stdout",
     "output_type": "stream",
     "text": [
      "[######                                  ] | 17% Completed | 7.17 s"
     ]
    },
    {
     "name": "stderr",
     "output_type": "stream",
     "text": [
      "WARNING:root:No stream returned. Skipping.\n",
      "WARNING:root:No stream returned. Skipping.\n"
     ]
    },
    {
     "name": "stdout",
     "output_type": "stream",
     "text": [
      "[######                                  ] | 17% Completed | 7.27 s"
     ]
    },
    {
     "name": "stderr",
     "output_type": "stream",
     "text": [
      "WARNING:root:No stream returned. Skipping.\n"
     ]
    },
    {
     "name": "stdout",
     "output_type": "stream",
     "text": [
      "[#######                                 ] | 17% Completed | 7.38 s"
     ]
    },
    {
     "name": "stderr",
     "output_type": "stream",
     "text": [
      "WARNING:root:No stream returned. Skipping.\n"
     ]
    },
    {
     "name": "stdout",
     "output_type": "stream",
     "text": [
      "[#######                                 ] | 17% Completed | 7.48 s"
     ]
    },
    {
     "name": "stderr",
     "output_type": "stream",
     "text": [
      "WARNING:root:No stream returned. Skipping.\n"
     ]
    },
    {
     "name": "stdout",
     "output_type": "stream",
     "text": [
      "[#######                                 ] | 18% Completed | 7.59 s"
     ]
    },
    {
     "name": "stderr",
     "output_type": "stream",
     "text": [
      "WARNING:root:No stream returned. Skipping.\n",
      "WARNING:root:No stream returned. Skipping.\n"
     ]
    },
    {
     "name": "stdout",
     "output_type": "stream",
     "text": [
      "[#######                                 ] | 18% Completed | 7.70 s"
     ]
    },
    {
     "name": "stderr",
     "output_type": "stream",
     "text": [
      "WARNING:root:No stream returned. Skipping.\n"
     ]
    },
    {
     "name": "stdout",
     "output_type": "stream",
     "text": [
      "[#######                                 ] | 18% Completed | 7.80 s"
     ]
    },
    {
     "name": "stderr",
     "output_type": "stream",
     "text": [
      "WARNING:root:No stream returned. Skipping.\n"
     ]
    },
    {
     "name": "stdout",
     "output_type": "stream",
     "text": [
      "[#######                                 ] | 18% Completed | 7.91 s"
     ]
    },
    {
     "name": "stderr",
     "output_type": "stream",
     "text": [
      "WARNING:root:No stream returned. Skipping.\n"
     ]
    },
    {
     "name": "stdout",
     "output_type": "stream",
     "text": [
      "[#######                                 ] | 18% Completed | 8.01 s"
     ]
    },
    {
     "name": "stderr",
     "output_type": "stream",
     "text": [
      "WARNING:root:No stream returned. Skipping.\n",
      "WARNING:root:No stream returned. Skipping.\n"
     ]
    },
    {
     "name": "stdout",
     "output_type": "stream",
     "text": [
      "[#######                                 ] | 19% Completed | 8.12 s"
     ]
    },
    {
     "name": "stderr",
     "output_type": "stream",
     "text": [
      "WARNING:root:No stream returned. Skipping.\n"
     ]
    },
    {
     "name": "stdout",
     "output_type": "stream",
     "text": [
      "[#######                                 ] | 19% Completed | 8.23 s"
     ]
    },
    {
     "name": "stderr",
     "output_type": "stream",
     "text": [
      "WARNING:root:No stream returned. Skipping.\n",
      "WARNING:root:No stream returned. Skipping.\n"
     ]
    },
    {
     "name": "stdout",
     "output_type": "stream",
     "text": [
      "[#######                                 ] | 19% Completed | 8.34 s"
     ]
    },
    {
     "name": "stderr",
     "output_type": "stream",
     "text": [
      "WARNING:root:No stream returned. Skipping.\n"
     ]
    },
    {
     "name": "stdout",
     "output_type": "stream",
     "text": [
      "[########                                ] | 20% Completed | 8.45 s"
     ]
    },
    {
     "name": "stderr",
     "output_type": "stream",
     "text": [
      "WARNING:root:No stream returned. Skipping.\n"
     ]
    },
    {
     "name": "stdout",
     "output_type": "stream",
     "text": [
      "[########                                ] | 20% Completed | 8.55 s"
     ]
    },
    {
     "name": "stderr",
     "output_type": "stream",
     "text": [
      "WARNING:root:No stream returned. Skipping.\n"
     ]
    },
    {
     "name": "stdout",
     "output_type": "stream",
     "text": [
      "[########                                ] | 20% Completed | 8.66 s"
     ]
    },
    {
     "name": "stderr",
     "output_type": "stream",
     "text": [
      "WARNING:root:No stream returned. Skipping.\n",
      "WARNING:root:No stream returned. Skipping.\n"
     ]
    },
    {
     "name": "stdout",
     "output_type": "stream",
     "text": [
      "[########                                ] | 20% Completed | 8.76 s"
     ]
    },
    {
     "name": "stderr",
     "output_type": "stream",
     "text": [
      "WARNING:root:No stream returned. Skipping.\n"
     ]
    },
    {
     "name": "stdout",
     "output_type": "stream",
     "text": [
      "[########                                ] | 21% Completed | 8.87 s"
     ]
    },
    {
     "name": "stderr",
     "output_type": "stream",
     "text": [
      "WARNING:root:No stream returned. Skipping.\n"
     ]
    },
    {
     "name": "stdout",
     "output_type": "stream",
     "text": [
      "[########                                ] | 21% Completed | 8.97 s"
     ]
    },
    {
     "name": "stderr",
     "output_type": "stream",
     "text": [
      "WARNING:root:No stream returned. Skipping.\n"
     ]
    },
    {
     "name": "stdout",
     "output_type": "stream",
     "text": [
      "[########                                ] | 21% Completed | 9.08 s"
     ]
    },
    {
     "name": "stderr",
     "output_type": "stream",
     "text": [
      "WARNING:root:No stream returned. Skipping.\n"
     ]
    },
    {
     "name": "stdout",
     "output_type": "stream",
     "text": [
      "[########                                ] | 21% Completed | 9.18 s"
     ]
    },
    {
     "name": "stderr",
     "output_type": "stream",
     "text": [
      "WARNING:root:No stream returned. Skipping.\n",
      "WARNING:root:No stream returned. Skipping.\n"
     ]
    },
    {
     "name": "stdout",
     "output_type": "stream",
     "text": [
      "[########                                ] | 21% Completed | 9.29 s"
     ]
    },
    {
     "name": "stderr",
     "output_type": "stream",
     "text": [
      "WARNING:root:No stream returned. Skipping.\n"
     ]
    },
    {
     "name": "stdout",
     "output_type": "stream",
     "text": [
      "[########                                ] | 22% Completed | 9.39 s"
     ]
    },
    {
     "name": "stderr",
     "output_type": "stream",
     "text": [
      "WARNING:root:No stream returned. Skipping.\n"
     ]
    },
    {
     "name": "stdout",
     "output_type": "stream",
     "text": [
      "[########                                ] | 22% Completed | 9.49 s"
     ]
    },
    {
     "name": "stderr",
     "output_type": "stream",
     "text": [
      "WARNING:root:No stream returned. Skipping.\n"
     ]
    },
    {
     "name": "stdout",
     "output_type": "stream",
     "text": [
      "[#########                               ] | 22% Completed | 9.59 s"
     ]
    },
    {
     "name": "stderr",
     "output_type": "stream",
     "text": [
      "WARNING:root:No stream returned. Skipping.\n"
     ]
    },
    {
     "name": "stdout",
     "output_type": "stream",
     "text": [
      "[#########                               ] | 22% Completed | 9.70 s"
     ]
    },
    {
     "name": "stderr",
     "output_type": "stream",
     "text": [
      "WARNING:root:No stream returned. Skipping.\n"
     ]
    },
    {
     "name": "stdout",
     "output_type": "stream",
     "text": [
      "[#########                               ] | 22% Completed | 9.80 s"
     ]
    },
    {
     "name": "stderr",
     "output_type": "stream",
     "text": [
      "WARNING:root:No stream returned. Skipping.\n"
     ]
    },
    {
     "name": "stdout",
     "output_type": "stream",
     "text": [
      "[#########                               ] | 23% Completed | 9.90 s"
     ]
    },
    {
     "name": "stderr",
     "output_type": "stream",
     "text": [
      "WARNING:root:No stream returned. Skipping.\n"
     ]
    },
    {
     "name": "stdout",
     "output_type": "stream",
     "text": [
      "[#########                               ] | 23% Completed | 10.01 s"
     ]
    },
    {
     "name": "stderr",
     "output_type": "stream",
     "text": [
      "WARNING:root:No stream returned. Skipping.\n"
     ]
    },
    {
     "name": "stdout",
     "output_type": "stream",
     "text": [
      "[#########                               ] | 23% Completed | 10.11 s"
     ]
    },
    {
     "name": "stderr",
     "output_type": "stream",
     "text": [
      "WARNING:root:No stream returned. Skipping.\n"
     ]
    },
    {
     "name": "stdout",
     "output_type": "stream",
     "text": [
      "[#########                               ] | 23% Completed | 10.22 s"
     ]
    },
    {
     "name": "stderr",
     "output_type": "stream",
     "text": [
      "WARNING:root:No stream returned. Skipping.\n",
      "WARNING:root:No stream returned. Skipping.\n"
     ]
    },
    {
     "name": "stdout",
     "output_type": "stream",
     "text": [
      "[#########                               ] | 23% Completed | 10.32 s"
     ]
    },
    {
     "name": "stderr",
     "output_type": "stream",
     "text": [
      "WARNING:root:No stream returned. Skipping.\n"
     ]
    },
    {
     "name": "stdout",
     "output_type": "stream",
     "text": [
      "[#########                               ] | 24% Completed | 10.43 s"
     ]
    },
    {
     "name": "stderr",
     "output_type": "stream",
     "text": [
      "WARNING:root:No stream returned. Skipping.\n"
     ]
    },
    {
     "name": "stdout",
     "output_type": "stream",
     "text": [
      "[#########                               ] | 24% Completed | 10.53 s"
     ]
    },
    {
     "name": "stderr",
     "output_type": "stream",
     "text": [
      "WARNING:root:No stream returned. Skipping.\n"
     ]
    },
    {
     "name": "stdout",
     "output_type": "stream",
     "text": [
      "[#########                               ] | 24% Completed | 10.63 s"
     ]
    },
    {
     "name": "stderr",
     "output_type": "stream",
     "text": [
      "WARNING:root:No stream returned. Skipping.\n",
      "WARNING:root:No stream returned. Skipping.\n"
     ]
    },
    {
     "name": "stdout",
     "output_type": "stream",
     "text": [
      "[#########                               ] | 24% Completed | 10.74 s"
     ]
    },
    {
     "name": "stderr",
     "output_type": "stream",
     "text": [
      "WARNING:root:No stream returned. Skipping.\n"
     ]
    },
    {
     "name": "stdout",
     "output_type": "stream",
     "text": [
      "[##########                              ] | 25% Completed | 10.85 s"
     ]
    },
    {
     "name": "stderr",
     "output_type": "stream",
     "text": [
      "WARNING:root:No stream returned. Skipping.\n",
      "WARNING:root:No stream returned. Skipping.\n"
     ]
    },
    {
     "name": "stdout",
     "output_type": "stream",
     "text": [
      "[##########                              ] | 25% Completed | 10.95 s"
     ]
    },
    {
     "name": "stderr",
     "output_type": "stream",
     "text": [
      "WARNING:root:No stream returned. Skipping.\n"
     ]
    },
    {
     "name": "stdout",
     "output_type": "stream",
     "text": [
      "[##########                              ] | 25% Completed | 11.05 s"
     ]
    },
    {
     "name": "stderr",
     "output_type": "stream",
     "text": [
      "WARNING:root:No stream returned. Skipping.\n"
     ]
    },
    {
     "name": "stdout",
     "output_type": "stream",
     "text": [
      "[##########                              ] | 25% Completed | 11.15 s"
     ]
    },
    {
     "name": "stderr",
     "output_type": "stream",
     "text": [
      "WARNING:root:No stream returned. Skipping.\n"
     ]
    },
    {
     "name": "stdout",
     "output_type": "stream",
     "text": [
      "[##########                              ] | 26% Completed | 11.26 s"
     ]
    },
    {
     "name": "stderr",
     "output_type": "stream",
     "text": [
      "WARNING:root:No stream returned. Skipping.\n",
      "WARNING:root:No stream returned. Skipping.\n"
     ]
    },
    {
     "name": "stdout",
     "output_type": "stream",
     "text": [
      "[##########                              ] | 26% Completed | 11.36 s"
     ]
    },
    {
     "name": "stderr",
     "output_type": "stream",
     "text": [
      "WARNING:root:No stream returned. Skipping.\n"
     ]
    },
    {
     "name": "stdout",
     "output_type": "stream",
     "text": [
      "[##########                              ] | 26% Completed | 11.46 s"
     ]
    },
    {
     "name": "stderr",
     "output_type": "stream",
     "text": [
      "WARNING:root:No stream returned. Skipping.\n"
     ]
    },
    {
     "name": "stdout",
     "output_type": "stream",
     "text": [
      "[##########                              ] | 26% Completed | 11.56 s"
     ]
    },
    {
     "name": "stderr",
     "output_type": "stream",
     "text": [
      "WARNING:root:No stream returned. Skipping.\n",
      "WARNING:root:No stream returned. Skipping.\n"
     ]
    },
    {
     "name": "stdout",
     "output_type": "stream",
     "text": [
      "[##########                              ] | 27% Completed | 11.67 s"
     ]
    },
    {
     "name": "stderr",
     "output_type": "stream",
     "text": [
      "WARNING:root:No stream returned. Skipping.\n"
     ]
    },
    {
     "name": "stdout",
     "output_type": "stream",
     "text": [
      "[###########                             ] | 27% Completed | 11.77 s"
     ]
    },
    {
     "name": "stderr",
     "output_type": "stream",
     "text": [
      "WARNING:root:No stream returned. Skipping.\n"
     ]
    },
    {
     "name": "stdout",
     "output_type": "stream",
     "text": [
      "[###########                             ] | 27% Completed | 11.87 s"
     ]
    },
    {
     "name": "stderr",
     "output_type": "stream",
     "text": [
      "WARNING:root:No stream returned. Skipping.\n"
     ]
    },
    {
     "name": "stdout",
     "output_type": "stream",
     "text": [
      "[###########                             ] | 27% Completed | 11.98 s"
     ]
    },
    {
     "name": "stderr",
     "output_type": "stream",
     "text": [
      "WARNING:root:No stream returned. Skipping.\n",
      "WARNING:root:No stream returned. Skipping.\n"
     ]
    },
    {
     "name": "stdout",
     "output_type": "stream",
     "text": [
      "[###########                             ] | 28% Completed | 12.08 s"
     ]
    },
    {
     "name": "stderr",
     "output_type": "stream",
     "text": [
      "WARNING:root:No stream returned. Skipping.\n"
     ]
    },
    {
     "name": "stdout",
     "output_type": "stream",
     "text": [
      "[###########                             ] | 28% Completed | 12.19 s"
     ]
    },
    {
     "name": "stderr",
     "output_type": "stream",
     "text": [
      "WARNING:root:No stream returned. Skipping.\n"
     ]
    },
    {
     "name": "stdout",
     "output_type": "stream",
     "text": [
      "[###########                             ] | 28% Completed | 12.29 s"
     ]
    },
    {
     "name": "stderr",
     "output_type": "stream",
     "text": [
      "WARNING:root:No stream returned. Skipping.\n",
      "WARNING:root:No stream returned. Skipping.\n"
     ]
    },
    {
     "name": "stdout",
     "output_type": "stream",
     "text": [
      "[###########                             ] | 29% Completed | 12.41 s"
     ]
    },
    {
     "name": "stderr",
     "output_type": "stream",
     "text": [
      "WARNING:root:No stream returned. Skipping.\n",
      "WARNING:root:No stream returned. Skipping.\n"
     ]
    },
    {
     "name": "stdout",
     "output_type": "stream",
     "text": [
      "[###########                             ] | 29% Completed | 12.52 s"
     ]
    },
    {
     "name": "stderr",
     "output_type": "stream",
     "text": [
      "WARNING:root:No stream returned. Skipping.\n"
     ]
    },
    {
     "name": "stdout",
     "output_type": "stream",
     "text": [
      "[###########                             ] | 29% Completed | 12.62 s"
     ]
    },
    {
     "name": "stderr",
     "output_type": "stream",
     "text": [
      "WARNING:root:No stream returned. Skipping.\n",
      "WARNING:root:No stream returned. Skipping.\n"
     ]
    },
    {
     "name": "stdout",
     "output_type": "stream",
     "text": [
      "[###########                             ] | 29% Completed | 12.73 s"
     ]
    },
    {
     "name": "stderr",
     "output_type": "stream",
     "text": [
      "WARNING:root:No stream returned. Skipping.\n"
     ]
    },
    {
     "name": "stdout",
     "output_type": "stream",
     "text": [
      "[############                            ] | 30% Completed | 12.84 s"
     ]
    },
    {
     "name": "stderr",
     "output_type": "stream",
     "text": [
      "WARNING:root:No stream returned. Skipping.\n",
      "WARNING:root:No stream returned. Skipping.\n"
     ]
    },
    {
     "name": "stdout",
     "output_type": "stream",
     "text": [
      "[############                            ] | 30% Completed | 12.95 s"
     ]
    },
    {
     "name": "stderr",
     "output_type": "stream",
     "text": [
      "WARNING:root:No stream returned. Skipping.\n"
     ]
    },
    {
     "name": "stdout",
     "output_type": "stream",
     "text": [
      "[############                            ] | 30% Completed | 13.05 s"
     ]
    },
    {
     "name": "stderr",
     "output_type": "stream",
     "text": [
      "WARNING:root:No stream returned. Skipping.\n"
     ]
    },
    {
     "name": "stdout",
     "output_type": "stream",
     "text": [
      "[############                            ] | 30% Completed | 13.15 s"
     ]
    },
    {
     "name": "stderr",
     "output_type": "stream",
     "text": [
      "WARNING:root:No stream returned. Skipping.\n"
     ]
    },
    {
     "name": "stdout",
     "output_type": "stream",
     "text": [
      "[############                            ] | 31% Completed | 13.25 s"
     ]
    },
    {
     "name": "stderr",
     "output_type": "stream",
     "text": [
      "WARNING:root:No stream returned. Skipping.\n",
      "WARNING:root:No stream returned. Skipping.\n"
     ]
    },
    {
     "name": "stdout",
     "output_type": "stream",
     "text": [
      "[############                            ] | 31% Completed | 13.45 s"
     ]
    },
    {
     "name": "stderr",
     "output_type": "stream",
     "text": [
      "WARNING:root:No stream returned. Skipping.\n"
     ]
    },
    {
     "name": "stdout",
     "output_type": "stream",
     "text": [
      "[############                            ] | 31% Completed | 13.56 s"
     ]
    },
    {
     "name": "stderr",
     "output_type": "stream",
     "text": [
      "WARNING:root:No stream returned. Skipping.\n"
     ]
    },
    {
     "name": "stdout",
     "output_type": "stream",
     "text": [
      "[############                            ] | 31% Completed | 13.66 s"
     ]
    },
    {
     "name": "stderr",
     "output_type": "stream",
     "text": [
      "WARNING:root:No stream returned. Skipping.\n",
      "WARNING:root:No stream returned. Skipping.\n"
     ]
    },
    {
     "name": "stdout",
     "output_type": "stream",
     "text": [
      "[############                            ] | 32% Completed | 13.76 s"
     ]
    },
    {
     "name": "stderr",
     "output_type": "stream",
     "text": [
      "WARNING:root:No stream returned. Skipping.\n"
     ]
    },
    {
     "name": "stdout",
     "output_type": "stream",
     "text": [
      "[############                            ] | 32% Completed | 13.87 s"
     ]
    },
    {
     "name": "stderr",
     "output_type": "stream",
     "text": [
      "WARNING:root:No stream returned. Skipping.\n",
      "WARNING:root:No stream returned. Skipping.\n"
     ]
    },
    {
     "name": "stdout",
     "output_type": "stream",
     "text": [
      "[#############                           ] | 32% Completed | 13.97 s"
     ]
    },
    {
     "name": "stderr",
     "output_type": "stream",
     "text": [
      "WARNING:root:No stream returned. Skipping.\n"
     ]
    },
    {
     "name": "stdout",
     "output_type": "stream",
     "text": [
      "[#############                           ] | 33% Completed | 14.08 s"
     ]
    },
    {
     "name": "stderr",
     "output_type": "stream",
     "text": [
      "WARNING:root:No stream returned. Skipping.\n"
     ]
    },
    {
     "name": "stdout",
     "output_type": "stream",
     "text": [
      "[#############                           ] | 33% Completed | 14.18 s"
     ]
    },
    {
     "name": "stderr",
     "output_type": "stream",
     "text": [
      "WARNING:root:No stream returned. Skipping.\n"
     ]
    },
    {
     "name": "stdout",
     "output_type": "stream",
     "text": [
      "[#############                           ] | 33% Completed | 14.29 s"
     ]
    },
    {
     "name": "stderr",
     "output_type": "stream",
     "text": [
      "WARNING:root:No stream returned. Skipping.\n"
     ]
    },
    {
     "name": "stdout",
     "output_type": "stream",
     "text": [
      "[#############                           ] | 33% Completed | 14.40 s"
     ]
    },
    {
     "name": "stderr",
     "output_type": "stream",
     "text": [
      "WARNING:root:No stream returned. Skipping.\n",
      "WARNING:root:No stream returned. Skipping.\n"
     ]
    },
    {
     "name": "stdout",
     "output_type": "stream",
     "text": [
      "[#############                           ] | 33% Completed | 14.50 s"
     ]
    },
    {
     "name": "stderr",
     "output_type": "stream",
     "text": [
      "WARNING:root:No stream returned. Skipping.\n"
     ]
    },
    {
     "name": "stdout",
     "output_type": "stream",
     "text": [
      "[#############                           ] | 34% Completed | 14.61 s"
     ]
    },
    {
     "name": "stderr",
     "output_type": "stream",
     "text": [
      "WARNING:root:No stream returned. Skipping.\n"
     ]
    },
    {
     "name": "stdout",
     "output_type": "stream",
     "text": [
      "[#############                           ] | 34% Completed | 14.71 s"
     ]
    },
    {
     "name": "stderr",
     "output_type": "stream",
     "text": [
      "WARNING:root:No stream returned. Skipping.\n"
     ]
    },
    {
     "name": "stdout",
     "output_type": "stream",
     "text": [
      "[#############                           ] | 34% Completed | 14.82 s"
     ]
    },
    {
     "name": "stderr",
     "output_type": "stream",
     "text": [
      "WARNING:root:No stream returned. Skipping.\n"
     ]
    },
    {
     "name": "stdout",
     "output_type": "stream",
     "text": [
      "[#############                           ] | 34% Completed | 14.92 s"
     ]
    },
    {
     "name": "stderr",
     "output_type": "stream",
     "text": [
      "WARNING:root:No stream returned. Skipping.\n",
      "WARNING:root:No stream returned. Skipping.\n"
     ]
    },
    {
     "name": "stdout",
     "output_type": "stream",
     "text": [
      "[##############                          ] | 35% Completed | 15.03 s"
     ]
    },
    {
     "name": "stderr",
     "output_type": "stream",
     "text": [
      "WARNING:root:No stream returned. Skipping.\n"
     ]
    },
    {
     "name": "stdout",
     "output_type": "stream",
     "text": [
      "[##############                          ] | 35% Completed | 15.14 s"
     ]
    },
    {
     "name": "stderr",
     "output_type": "stream",
     "text": [
      "WARNING:root:No stream returned. Skipping.\n"
     ]
    },
    {
     "name": "stdout",
     "output_type": "stream",
     "text": [
      "[##############                          ] | 35% Completed | 15.25 s"
     ]
    },
    {
     "name": "stderr",
     "output_type": "stream",
     "text": [
      "WARNING:root:No stream returned. Skipping.\n",
      "WARNING:root:No stream returned. Skipping.\n"
     ]
    },
    {
     "name": "stdout",
     "output_type": "stream",
     "text": [
      "[##############                          ] | 35% Completed | 15.36 s"
     ]
    },
    {
     "name": "stderr",
     "output_type": "stream",
     "text": [
      "WARNING:root:No stream returned. Skipping.\n"
     ]
    },
    {
     "name": "stdout",
     "output_type": "stream",
     "text": [
      "[##############                          ] | 36% Completed | 15.46 s"
     ]
    },
    {
     "name": "stderr",
     "output_type": "stream",
     "text": [
      "WARNING:root:No stream returned. Skipping.\n",
      "WARNING:root:No stream returned. Skipping.\n"
     ]
    },
    {
     "name": "stdout",
     "output_type": "stream",
     "text": [
      "[##############                          ] | 36% Completed | 15.56 s"
     ]
    },
    {
     "name": "stderr",
     "output_type": "stream",
     "text": [
      "WARNING:root:No stream returned. Skipping.\n"
     ]
    },
    {
     "name": "stdout",
     "output_type": "stream",
     "text": [
      "[##############                          ] | 36% Completed | 15.67 s"
     ]
    },
    {
     "name": "stderr",
     "output_type": "stream",
     "text": [
      "WARNING:root:No stream returned. Skipping.\n",
      "WARNING:root:No stream returned. Skipping.\n"
     ]
    },
    {
     "name": "stdout",
     "output_type": "stream",
     "text": [
      "[##############                          ] | 37% Completed | 15.78 s"
     ]
    },
    {
     "name": "stderr",
     "output_type": "stream",
     "text": [
      "WARNING:root:No stream returned. Skipping.\n"
     ]
    },
    {
     "name": "stdout",
     "output_type": "stream",
     "text": [
      "[##############                          ] | 37% Completed | 15.88 s"
     ]
    },
    {
     "name": "stderr",
     "output_type": "stream",
     "text": [
      "WARNING:root:No stream returned. Skipping.\n",
      "WARNING:root:No stream returned. Skipping.\n"
     ]
    },
    {
     "name": "stdout",
     "output_type": "stream",
     "text": [
      "[###############                         ] | 37% Completed | 15.98 s"
     ]
    },
    {
     "name": "stderr",
     "output_type": "stream",
     "text": [
      "WARNING:root:No stream returned. Skipping.\n"
     ]
    },
    {
     "name": "stdout",
     "output_type": "stream",
     "text": [
      "[###############                         ] | 37% Completed | 16.08 s"
     ]
    },
    {
     "name": "stderr",
     "output_type": "stream",
     "text": [
      "WARNING:root:No stream returned. Skipping.\n"
     ]
    },
    {
     "name": "stdout",
     "output_type": "stream",
     "text": [
      "[###############                         ] | 37% Completed | 16.18 s"
     ]
    },
    {
     "name": "stderr",
     "output_type": "stream",
     "text": [
      "WARNING:root:No stream returned. Skipping.\n",
      "WARNING:root:No stream returned. Skipping.\n"
     ]
    },
    {
     "name": "stdout",
     "output_type": "stream",
     "text": [
      "[###############                         ] | 38% Completed | 16.29 s"
     ]
    },
    {
     "name": "stderr",
     "output_type": "stream",
     "text": [
      "WARNING:root:No stream returned. Skipping.\n"
     ]
    },
    {
     "name": "stdout",
     "output_type": "stream",
     "text": [
      "[###############                         ] | 38% Completed | 16.39 s"
     ]
    },
    {
     "name": "stderr",
     "output_type": "stream",
     "text": [
      "WARNING:root:No stream returned. Skipping.\n",
      "WARNING:root:No stream returned. Skipping.\n"
     ]
    },
    {
     "name": "stdout",
     "output_type": "stream",
     "text": [
      "[###############                         ] | 38% Completed | 16.50 s"
     ]
    },
    {
     "name": "stderr",
     "output_type": "stream",
     "text": [
      "WARNING:root:No stream returned. Skipping.\n"
     ]
    },
    {
     "name": "stdout",
     "output_type": "stream",
     "text": [
      "[###############                         ] | 39% Completed | 16.60 s"
     ]
    },
    {
     "name": "stderr",
     "output_type": "stream",
     "text": [
      "WARNING:root:No stream returned. Skipping.\n",
      "WARNING:root:No stream returned. Skipping.\n"
     ]
    },
    {
     "name": "stdout",
     "output_type": "stream",
     "text": [
      "[###############                         ] | 39% Completed | 16.71 s"
     ]
    },
    {
     "name": "stderr",
     "output_type": "stream",
     "text": [
      "WARNING:root:No stream returned. Skipping.\n"
     ]
    },
    {
     "name": "stdout",
     "output_type": "stream",
     "text": [
      "[###############                         ] | 39% Completed | 16.81 s"
     ]
    },
    {
     "name": "stderr",
     "output_type": "stream",
     "text": [
      "WARNING:root:No stream returned. Skipping.\n"
     ]
    },
    {
     "name": "stdout",
     "output_type": "stream",
     "text": [
      "[###############                         ] | 39% Completed | 16.91 s"
     ]
    },
    {
     "name": "stderr",
     "output_type": "stream",
     "text": [
      "WARNING:root:No stream returned. Skipping.\n"
     ]
    },
    {
     "name": "stdout",
     "output_type": "stream",
     "text": [
      "[################                        ] | 40% Completed | 17.01 s"
     ]
    },
    {
     "name": "stderr",
     "output_type": "stream",
     "text": [
      "WARNING:root:No stream returned. Skipping.\n",
      "WARNING:root:No stream returned. Skipping.\n"
     ]
    },
    {
     "name": "stdout",
     "output_type": "stream",
     "text": [
      "[################                        ] | 40% Completed | 17.12 s"
     ]
    },
    {
     "name": "stderr",
     "output_type": "stream",
     "text": [
      "WARNING:root:No stream returned. Skipping.\n"
     ]
    },
    {
     "name": "stdout",
     "output_type": "stream",
     "text": [
      "[################                        ] | 40% Completed | 17.22 s"
     ]
    },
    {
     "name": "stderr",
     "output_type": "stream",
     "text": [
      "WARNING:root:No stream returned. Skipping.\n",
      "WARNING:root:No stream returned. Skipping.\n"
     ]
    },
    {
     "name": "stdout",
     "output_type": "stream",
     "text": [
      "[################                        ] | 40% Completed | 17.32 s"
     ]
    },
    {
     "name": "stderr",
     "output_type": "stream",
     "text": [
      "WARNING:root:No stream returned. Skipping.\n"
     ]
    },
    {
     "name": "stdout",
     "output_type": "stream",
     "text": [
      "[################                        ] | 41% Completed | 17.43 s"
     ]
    },
    {
     "name": "stderr",
     "output_type": "stream",
     "text": [
      "WARNING:root:No stream returned. Skipping.\n"
     ]
    },
    {
     "name": "stdout",
     "output_type": "stream",
     "text": [
      "[################                        ] | 41% Completed | 17.53 s"
     ]
    },
    {
     "name": "stderr",
     "output_type": "stream",
     "text": [
      "WARNING:root:No stream returned. Skipping.\n",
      "WARNING:root:No stream returned. Skipping.\n"
     ]
    },
    {
     "name": "stdout",
     "output_type": "stream",
     "text": [
      "[################                        ] | 41% Completed | 17.63 s"
     ]
    },
    {
     "name": "stderr",
     "output_type": "stream",
     "text": [
      "WARNING:root:No stream returned. Skipping.\n"
     ]
    },
    {
     "name": "stdout",
     "output_type": "stream",
     "text": [
      "[################                        ] | 41% Completed | 17.74 s"
     ]
    },
    {
     "name": "stderr",
     "output_type": "stream",
     "text": [
      "WARNING:root:No stream returned. Skipping.\n"
     ]
    },
    {
     "name": "stdout",
     "output_type": "stream",
     "text": [
      "[################                        ] | 42% Completed | 17.84 s"
     ]
    },
    {
     "name": "stderr",
     "output_type": "stream",
     "text": [
      "WARNING:root:No stream returned. Skipping.\n"
     ]
    },
    {
     "name": "stdout",
     "output_type": "stream",
     "text": [
      "[################                        ] | 42% Completed | 17.94 s"
     ]
    },
    {
     "name": "stderr",
     "output_type": "stream",
     "text": [
      "WARNING:root:No stream returned. Skipping.\n",
      "WARNING:root:No stream returned. Skipping.\n"
     ]
    },
    {
     "name": "stdout",
     "output_type": "stream",
     "text": [
      "[#################                       ] | 42% Completed | 18.04 s"
     ]
    },
    {
     "name": "stderr",
     "output_type": "stream",
     "text": [
      "WARNING:root:No stream returned. Skipping.\n"
     ]
    },
    {
     "name": "stdout",
     "output_type": "stream",
     "text": [
      "[#################                       ] | 42% Completed | 18.15 s"
     ]
    },
    {
     "name": "stderr",
     "output_type": "stream",
     "text": [
      "WARNING:root:No stream returned. Skipping.\n",
      "WARNING:root:No stream returned. Skipping.\n"
     ]
    },
    {
     "name": "stdout",
     "output_type": "stream",
     "text": [
      "[#################                       ] | 43% Completed | 18.25 s"
     ]
    },
    {
     "name": "stderr",
     "output_type": "stream",
     "text": [
      "WARNING:root:No stream returned. Skipping.\n"
     ]
    },
    {
     "name": "stdout",
     "output_type": "stream",
     "text": [
      "[#################                       ] | 43% Completed | 18.35 s"
     ]
    },
    {
     "name": "stderr",
     "output_type": "stream",
     "text": [
      "WARNING:root:No stream returned. Skipping.\n",
      "WARNING:root:No stream returned. Skipping.\n"
     ]
    },
    {
     "name": "stdout",
     "output_type": "stream",
     "text": [
      "[#################                       ] | 43% Completed | 18.45 s"
     ]
    },
    {
     "name": "stderr",
     "output_type": "stream",
     "text": [
      "WARNING:root:No stream returned. Skipping.\n"
     ]
    },
    {
     "name": "stdout",
     "output_type": "stream",
     "text": [
      "[#################                       ] | 44% Completed | 18.55 s"
     ]
    },
    {
     "name": "stderr",
     "output_type": "stream",
     "text": [
      "WARNING:root:No stream returned. Skipping.\n",
      "WARNING:root:No stream returned. Skipping.\n"
     ]
    },
    {
     "name": "stdout",
     "output_type": "stream",
     "text": [
      "[#################                       ] | 44% Completed | 18.65 s"
     ]
    },
    {
     "name": "stderr",
     "output_type": "stream",
     "text": [
      "WARNING:root:No stream returned. Skipping.\n",
      "WARNING:root:No stream returned. Skipping.\n"
     ]
    },
    {
     "name": "stdout",
     "output_type": "stream",
     "text": [
      "[#################                       ] | 44% Completed | 18.75 s"
     ]
    },
    {
     "name": "stderr",
     "output_type": "stream",
     "text": [
      "WARNING:root:No stream returned. Skipping.\n"
     ]
    },
    {
     "name": "stdout",
     "output_type": "stream",
     "text": [
      "[#################                       ] | 44% Completed | 18.85 s"
     ]
    },
    {
     "name": "stderr",
     "output_type": "stream",
     "text": [
      "WARNING:root:No stream returned. Skipping.\n",
      "WARNING:root:No stream returned. Skipping.\n"
     ]
    },
    {
     "name": "stdout",
     "output_type": "stream",
     "text": [
      "[##################                      ] | 45% Completed | 18.95 s"
     ]
    },
    {
     "name": "stderr",
     "output_type": "stream",
     "text": [
      "WARNING:root:No stream returned. Skipping.\n"
     ]
    },
    {
     "name": "stdout",
     "output_type": "stream",
     "text": [
      "[##################                      ] | 45% Completed | 19.05 s"
     ]
    },
    {
     "name": "stderr",
     "output_type": "stream",
     "text": [
      "WARNING:root:No stream returned. Skipping.\n",
      "WARNING:root:No stream returned. Skipping.\n"
     ]
    },
    {
     "name": "stdout",
     "output_type": "stream",
     "text": [
      "[##################                      ] | 45% Completed | 19.15 s"
     ]
    },
    {
     "name": "stderr",
     "output_type": "stream",
     "text": [
      "WARNING:root:No stream returned. Skipping.\n",
      "WARNING:root:No stream returned. Skipping.\n"
     ]
    },
    {
     "name": "stdout",
     "output_type": "stream",
     "text": [
      "[##################                      ] | 46% Completed | 19.25 s"
     ]
    },
    {
     "name": "stderr",
     "output_type": "stream",
     "text": [
      "WARNING:root:No stream returned. Skipping.\n",
      "WARNING:root:No stream returned. Skipping.\n"
     ]
    },
    {
     "name": "stdout",
     "output_type": "stream",
     "text": [
      "[##################                      ] | 46% Completed | 19.35 s"
     ]
    },
    {
     "name": "stderr",
     "output_type": "stream",
     "text": [
      "WARNING:root:No stream returned. Skipping.\n"
     ]
    },
    {
     "name": "stdout",
     "output_type": "stream",
     "text": [
      "[##################                      ] | 46% Completed | 19.45 s"
     ]
    },
    {
     "name": "stderr",
     "output_type": "stream",
     "text": [
      "WARNING:root:No stream returned. Skipping.\n",
      "WARNING:root:No stream returned. Skipping.\n"
     ]
    },
    {
     "name": "stdout",
     "output_type": "stream",
     "text": [
      "[##################                      ] | 47% Completed | 19.55 s"
     ]
    },
    {
     "name": "stderr",
     "output_type": "stream",
     "text": [
      "WARNING:root:No stream returned. Skipping.\n",
      "WARNING:root:No stream returned. Skipping.\n"
     ]
    },
    {
     "name": "stdout",
     "output_type": "stream",
     "text": [
      "[##################                      ] | 47% Completed | 19.66 s"
     ]
    },
    {
     "name": "stderr",
     "output_type": "stream",
     "text": [
      "WARNING:root:No stream returned. Skipping.\n"
     ]
    },
    {
     "name": "stdout",
     "output_type": "stream",
     "text": [
      "[###################                     ] | 47% Completed | 19.76 s"
     ]
    },
    {
     "name": "stderr",
     "output_type": "stream",
     "text": [
      "WARNING:root:No stream returned. Skipping.\n",
      "WARNING:root:No stream returned. Skipping.\n"
     ]
    },
    {
     "name": "stdout",
     "output_type": "stream",
     "text": [
      "[###################                     ] | 48% Completed | 19.86 s"
     ]
    },
    {
     "name": "stderr",
     "output_type": "stream",
     "text": [
      "WARNING:root:No stream returned. Skipping.\n",
      "WARNING:root:No stream returned. Skipping.\n"
     ]
    },
    {
     "name": "stdout",
     "output_type": "stream",
     "text": [
      "[###################                     ] | 48% Completed | 19.96 s"
     ]
    },
    {
     "name": "stderr",
     "output_type": "stream",
     "text": [
      "WARNING:root:No stream returned. Skipping.\n"
     ]
    },
    {
     "name": "stdout",
     "output_type": "stream",
     "text": [
      "[###################                     ] | 48% Completed | 20.06 s"
     ]
    },
    {
     "name": "stderr",
     "output_type": "stream",
     "text": [
      "WARNING:root:No stream returned. Skipping.\n",
      "WARNING:root:No stream returned. Skipping.\n"
     ]
    },
    {
     "name": "stdout",
     "output_type": "stream",
     "text": [
      "[###################                     ] | 49% Completed | 20.16 s"
     ]
    },
    {
     "name": "stderr",
     "output_type": "stream",
     "text": [
      "WARNING:root:No stream returned. Skipping.\n",
      "WARNING:root:No stream returned. Skipping.\n"
     ]
    },
    {
     "name": "stdout",
     "output_type": "stream",
     "text": [
      "[###################                     ] | 49% Completed | 20.26 s"
     ]
    },
    {
     "name": "stderr",
     "output_type": "stream",
     "text": [
      "WARNING:root:No stream returned. Skipping.\n"
     ]
    },
    {
     "name": "stdout",
     "output_type": "stream",
     "text": [
      "[###################                     ] | 49% Completed | 20.36 s"
     ]
    },
    {
     "name": "stderr",
     "output_type": "stream",
     "text": [
      "WARNING:root:No stream returned. Skipping.\n",
      "WARNING:root:No stream returned. Skipping.\n"
     ]
    },
    {
     "name": "stdout",
     "output_type": "stream",
     "text": [
      "[####################                    ] | 50% Completed | 20.46 s"
     ]
    },
    {
     "name": "stderr",
     "output_type": "stream",
     "text": [
      "WARNING:root:No stream returned. Skipping.\n",
      "WARNING:root:No stream returned. Skipping.\n"
     ]
    },
    {
     "name": "stdout",
     "output_type": "stream",
     "text": [
      "[####################                    ] | 50% Completed | 20.56 s"
     ]
    },
    {
     "name": "stderr",
     "output_type": "stream",
     "text": [
      "WARNING:root:No stream returned. Skipping.\n"
     ]
    },
    {
     "name": "stdout",
     "output_type": "stream",
     "text": [
      "[####################                    ] | 50% Completed | 20.66 s"
     ]
    },
    {
     "name": "stderr",
     "output_type": "stream",
     "text": [
      "WARNING:root:No stream returned. Skipping.\n",
      "WARNING:root:No stream returned. Skipping.\n"
     ]
    },
    {
     "name": "stdout",
     "output_type": "stream",
     "text": [
      "[####################                    ] | 51% Completed | 20.76 s"
     ]
    },
    {
     "name": "stderr",
     "output_type": "stream",
     "text": [
      "WARNING:root:No stream returned. Skipping.\n",
      "WARNING:root:No stream returned. Skipping.\n"
     ]
    },
    {
     "name": "stdout",
     "output_type": "stream",
     "text": [
      "[####################                    ] | 51% Completed | 20.86 s"
     ]
    },
    {
     "name": "stderr",
     "output_type": "stream",
     "text": [
      "WARNING:root:No stream returned. Skipping.\n"
     ]
    },
    {
     "name": "stdout",
     "output_type": "stream",
     "text": [
      "[####################                    ] | 51% Completed | 20.96 s"
     ]
    },
    {
     "name": "stderr",
     "output_type": "stream",
     "text": [
      "WARNING:root:No stream returned. Skipping.\n",
      "WARNING:root:No stream returned. Skipping.\n"
     ]
    },
    {
     "name": "stdout",
     "output_type": "stream",
     "text": [
      "[####################                    ] | 51% Completed | 21.06 s"
     ]
    },
    {
     "name": "stderr",
     "output_type": "stream",
     "text": [
      "WARNING:root:No stream returned. Skipping.\n",
      "WARNING:root:No stream returned. Skipping.\n"
     ]
    },
    {
     "name": "stdout",
     "output_type": "stream",
     "text": [
      "[####################                    ] | 52% Completed | 21.16 s"
     ]
    },
    {
     "name": "stderr",
     "output_type": "stream",
     "text": [
      "WARNING:root:No stream returned. Skipping.\n",
      "WARNING:root:No stream returned. Skipping.\n"
     ]
    },
    {
     "name": "stdout",
     "output_type": "stream",
     "text": [
      "[#####################                   ] | 52% Completed | 21.26 s"
     ]
    },
    {
     "name": "stderr",
     "output_type": "stream",
     "text": [
      "WARNING:root:No stream returned. Skipping.\n"
     ]
    },
    {
     "name": "stdout",
     "output_type": "stream",
     "text": [
      "[#####################                   ] | 52% Completed | 21.36 s"
     ]
    },
    {
     "name": "stderr",
     "output_type": "stream",
     "text": [
      "WARNING:root:No stream returned. Skipping.\n",
      "WARNING:root:No stream returned. Skipping.\n"
     ]
    },
    {
     "name": "stdout",
     "output_type": "stream",
     "text": [
      "[#####################                   ] | 53% Completed | 21.46 s"
     ]
    },
    {
     "name": "stderr",
     "output_type": "stream",
     "text": [
      "WARNING:root:No stream returned. Skipping.\n",
      "WARNING:root:No stream returned. Skipping.\n"
     ]
    },
    {
     "name": "stdout",
     "output_type": "stream",
     "text": [
      "[#####################                   ] | 53% Completed | 21.56 s"
     ]
    },
    {
     "name": "stderr",
     "output_type": "stream",
     "text": [
      "WARNING:root:No stream returned. Skipping.\n"
     ]
    },
    {
     "name": "stdout",
     "output_type": "stream",
     "text": [
      "[#####################                   ] | 53% Completed | 21.67 s"
     ]
    },
    {
     "name": "stderr",
     "output_type": "stream",
     "text": [
      "WARNING:root:No stream returned. Skipping.\n",
      "WARNING:root:No stream returned. Skipping.\n"
     ]
    },
    {
     "name": "stdout",
     "output_type": "stream",
     "text": [
      "[#####################                   ] | 54% Completed | 21.77 s"
     ]
    },
    {
     "name": "stderr",
     "output_type": "stream",
     "text": [
      "WARNING:root:No stream returned. Skipping.\n",
      "WARNING:root:No stream returned. Skipping.\n"
     ]
    },
    {
     "name": "stdout",
     "output_type": "stream",
     "text": [
      "[#####################                   ] | 54% Completed | 22.27 s"
     ]
    },
    {
     "name": "stderr",
     "output_type": "stream",
     "text": [
      "WARNING:root:No stream returned. Skipping.\n",
      "WARNING:root:No stream returned. Skipping.\n"
     ]
    },
    {
     "name": "stdout",
     "output_type": "stream",
     "text": [
      "[######################                  ] | 55% Completed | 22.37 s"
     ]
    },
    {
     "name": "stderr",
     "output_type": "stream",
     "text": [
      "WARNING:root:No stream returned. Skipping.\n",
      "WARNING:root:No stream returned. Skipping.\n"
     ]
    },
    {
     "name": "stdout",
     "output_type": "stream",
     "text": [
      "[######################                  ] | 55% Completed | 22.47 s"
     ]
    },
    {
     "name": "stderr",
     "output_type": "stream",
     "text": [
      "WARNING:root:No stream returned. Skipping.\n"
     ]
    },
    {
     "name": "stdout",
     "output_type": "stream",
     "text": [
      "[######################                  ] | 55% Completed | 22.57 s"
     ]
    },
    {
     "name": "stderr",
     "output_type": "stream",
     "text": [
      "WARNING:root:No stream returned. Skipping.\n",
      "WARNING:root:No stream returned. Skipping.\n"
     ]
    },
    {
     "name": "stdout",
     "output_type": "stream",
     "text": [
      "[######################                  ] | 55% Completed | 22.67 s"
     ]
    },
    {
     "name": "stderr",
     "output_type": "stream",
     "text": [
      "WARNING:root:No stream returned. Skipping.\n",
      "WARNING:root:No stream returned. Skipping.\n"
     ]
    },
    {
     "name": "stdout",
     "output_type": "stream",
     "text": [
      "[######################                  ] | 56% Completed | 22.77 s"
     ]
    },
    {
     "name": "stderr",
     "output_type": "stream",
     "text": [
      "WARNING:root:No stream returned. Skipping.\n",
      "WARNING:root:No stream returned. Skipping.\n"
     ]
    },
    {
     "name": "stdout",
     "output_type": "stream",
     "text": [
      "[######################                  ] | 56% Completed | 22.87 s"
     ]
    },
    {
     "name": "stderr",
     "output_type": "stream",
     "text": [
      "WARNING:root:No stream returned. Skipping.\n"
     ]
    },
    {
     "name": "stdout",
     "output_type": "stream",
     "text": [
      "[######################                  ] | 56% Completed | 22.97 s"
     ]
    },
    {
     "name": "stderr",
     "output_type": "stream",
     "text": [
      "WARNING:root:No stream returned. Skipping.\n",
      "WARNING:root:No stream returned. Skipping.\n"
     ]
    },
    {
     "name": "stdout",
     "output_type": "stream",
     "text": [
      "[######################                  ] | 57% Completed | 23.07 s"
     ]
    },
    {
     "name": "stderr",
     "output_type": "stream",
     "text": [
      "WARNING:root:No stream returned. Skipping.\n",
      "WARNING:root:No stream returned. Skipping.\n"
     ]
    },
    {
     "name": "stdout",
     "output_type": "stream",
     "text": [
      "[#######################                 ] | 57% Completed | 23.17 s"
     ]
    },
    {
     "name": "stderr",
     "output_type": "stream",
     "text": [
      "WARNING:root:No stream returned. Skipping.\n",
      "WARNING:root:No stream returned. Skipping.\n"
     ]
    },
    {
     "name": "stdout",
     "output_type": "stream",
     "text": [
      "[#######################                 ] | 58% Completed | 23.27 s"
     ]
    },
    {
     "name": "stderr",
     "output_type": "stream",
     "text": [
      "WARNING:root:No stream returned. Skipping.\n"
     ]
    },
    {
     "name": "stdout",
     "output_type": "stream",
     "text": [
      "[#######################                 ] | 58% Completed | 23.37 s"
     ]
    },
    {
     "name": "stderr",
     "output_type": "stream",
     "text": [
      "WARNING:root:No stream returned. Skipping.\n",
      "WARNING:root:No stream returned. Skipping.\n"
     ]
    },
    {
     "name": "stdout",
     "output_type": "stream",
     "text": [
      "[#######################                 ] | 58% Completed | 23.47 s"
     ]
    },
    {
     "name": "stderr",
     "output_type": "stream",
     "text": [
      "WARNING:root:No stream returned. Skipping.\n",
      "WARNING:root:No stream returned. Skipping.\n"
     ]
    },
    {
     "name": "stdout",
     "output_type": "stream",
     "text": [
      "[#######################                 ] | 59% Completed | 23.58 s"
     ]
    },
    {
     "name": "stderr",
     "output_type": "stream",
     "text": [
      "WARNING:root:No stream returned. Skipping.\n"
     ]
    },
    {
     "name": "stdout",
     "output_type": "stream",
     "text": [
      "[#######################                 ] | 59% Completed | 23.68 s"
     ]
    },
    {
     "name": "stderr",
     "output_type": "stream",
     "text": [
      "WARNING:root:No stream returned. Skipping.\n",
      "WARNING:root:No stream returned. Skipping.\n"
     ]
    },
    {
     "name": "stdout",
     "output_type": "stream",
     "text": [
      "[#######################                 ] | 59% Completed | 23.78 s"
     ]
    },
    {
     "name": "stderr",
     "output_type": "stream",
     "text": [
      "WARNING:root:No stream returned. Skipping.\n",
      "WARNING:root:No stream returned. Skipping.\n"
     ]
    },
    {
     "name": "stdout",
     "output_type": "stream",
     "text": [
      "[#######################                 ] | 59% Completed | 23.88 s"
     ]
    },
    {
     "name": "stderr",
     "output_type": "stream",
     "text": [
      "WARNING:root:No stream returned. Skipping.\n"
     ]
    },
    {
     "name": "stdout",
     "output_type": "stream",
     "text": [
      "[########################                ] | 60% Completed | 23.98 s"
     ]
    },
    {
     "name": "stderr",
     "output_type": "stream",
     "text": [
      "WARNING:root:No stream returned. Skipping.\n",
      "WARNING:root:No stream returned. Skipping.\n"
     ]
    },
    {
     "name": "stdout",
     "output_type": "stream",
     "text": [
      "[########################                ] | 60% Completed | 24.08 s"
     ]
    },
    {
     "name": "stderr",
     "output_type": "stream",
     "text": [
      "WARNING:root:No stream returned. Skipping.\n",
      "WARNING:root:No stream returned. Skipping.\n"
     ]
    },
    {
     "name": "stdout",
     "output_type": "stream",
     "text": [
      "[########################                ] | 60% Completed | 24.18 s"
     ]
    },
    {
     "name": "stderr",
     "output_type": "stream",
     "text": [
      "WARNING:root:No stream returned. Skipping.\n",
      "WARNING:root:No stream returned. Skipping.\n"
     ]
    },
    {
     "name": "stdout",
     "output_type": "stream",
     "text": [
      "[########################                ] | 61% Completed | 24.28 s"
     ]
    },
    {
     "name": "stderr",
     "output_type": "stream",
     "text": [
      "WARNING:root:No stream returned. Skipping.\n"
     ]
    },
    {
     "name": "stdout",
     "output_type": "stream",
     "text": [
      "[########################                ] | 61% Completed | 24.38 s"
     ]
    },
    {
     "name": "stderr",
     "output_type": "stream",
     "text": [
      "WARNING:root:No stream returned. Skipping.\n",
      "WARNING:root:No stream returned. Skipping.\n"
     ]
    },
    {
     "name": "stdout",
     "output_type": "stream",
     "text": [
      "[########################                ] | 61% Completed | 24.48 s"
     ]
    },
    {
     "name": "stderr",
     "output_type": "stream",
     "text": [
      "WARNING:root:No stream returned. Skipping.\n",
      "WARNING:root:No stream returned. Skipping.\n"
     ]
    },
    {
     "name": "stdout",
     "output_type": "stream",
     "text": [
      "[########################                ] | 62% Completed | 24.58 s"
     ]
    },
    {
     "name": "stderr",
     "output_type": "stream",
     "text": [
      "WARNING:root:No stream returned. Skipping.\n"
     ]
    },
    {
     "name": "stdout",
     "output_type": "stream",
     "text": [
      "[########################                ] | 62% Completed | 24.68 s"
     ]
    },
    {
     "name": "stderr",
     "output_type": "stream",
     "text": [
      "WARNING:root:No stream returned. Skipping.\n",
      "WARNING:root:No stream returned. Skipping.\n"
     ]
    },
    {
     "name": "stdout",
     "output_type": "stream",
     "text": [
      "[#########################               ] | 62% Completed | 24.78 s"
     ]
    },
    {
     "name": "stderr",
     "output_type": "stream",
     "text": [
      "WARNING:root:No stream returned. Skipping.\n",
      "WARNING:root:No stream returned. Skipping.\n"
     ]
    },
    {
     "name": "stdout",
     "output_type": "stream",
     "text": [
      "[#########################               ] | 63% Completed | 24.88 s"
     ]
    },
    {
     "name": "stderr",
     "output_type": "stream",
     "text": [
      "WARNING:root:No stream returned. Skipping.\n"
     ]
    },
    {
     "name": "stdout",
     "output_type": "stream",
     "text": [
      "[#########################               ] | 63% Completed | 24.98 s"
     ]
    },
    {
     "name": "stderr",
     "output_type": "stream",
     "text": [
      "WARNING:root:No stream returned. Skipping.\n",
      "WARNING:root:No stream returned. Skipping.\n"
     ]
    },
    {
     "name": "stdout",
     "output_type": "stream",
     "text": [
      "[#########################               ] | 63% Completed | 25.08 s"
     ]
    },
    {
     "name": "stderr",
     "output_type": "stream",
     "text": [
      "WARNING:root:No stream returned. Skipping.\n",
      "WARNING:root:No stream returned. Skipping.\n"
     ]
    },
    {
     "name": "stdout",
     "output_type": "stream",
     "text": [
      "[#########################               ] | 64% Completed | 25.18 s"
     ]
    },
    {
     "name": "stderr",
     "output_type": "stream",
     "text": [
      "WARNING:root:No stream returned. Skipping.\n"
     ]
    },
    {
     "name": "stdout",
     "output_type": "stream",
     "text": [
      "[#########################               ] | 64% Completed | 25.28 s"
     ]
    },
    {
     "name": "stderr",
     "output_type": "stream",
     "text": [
      "WARNING:root:No stream returned. Skipping.\n",
      "WARNING:root:No stream returned. Skipping.\n"
     ]
    },
    {
     "name": "stdout",
     "output_type": "stream",
     "text": [
      "[#########################               ] | 64% Completed | 25.38 s"
     ]
    },
    {
     "name": "stderr",
     "output_type": "stream",
     "text": [
      "WARNING:root:No stream returned. Skipping.\n",
      "WARNING:root:No stream returned. Skipping.\n"
     ]
    },
    {
     "name": "stdout",
     "output_type": "stream",
     "text": [
      "[##########################              ] | 65% Completed | 25.49 s"
     ]
    },
    {
     "name": "stderr",
     "output_type": "stream",
     "text": [
      "WARNING:root:No stream returned. Skipping.\n",
      "WARNING:root:No stream returned. Skipping.\n"
     ]
    },
    {
     "name": "stdout",
     "output_type": "stream",
     "text": [
      "[##########################              ] | 65% Completed | 25.59 s"
     ]
    },
    {
     "name": "stderr",
     "output_type": "stream",
     "text": [
      "WARNING:root:No stream returned. Skipping.\n"
     ]
    },
    {
     "name": "stdout",
     "output_type": "stream",
     "text": [
      "[##########################              ] | 65% Completed | 25.69 s"
     ]
    },
    {
     "name": "stderr",
     "output_type": "stream",
     "text": [
      "WARNING:root:No stream returned. Skipping.\n",
      "WARNING:root:No stream returned. Skipping.\n"
     ]
    },
    {
     "name": "stdout",
     "output_type": "stream",
     "text": [
      "[##########################              ] | 66% Completed | 25.79 s"
     ]
    },
    {
     "name": "stderr",
     "output_type": "stream",
     "text": [
      "WARNING:root:No stream returned. Skipping.\n",
      "WARNING:root:No stream returned. Skipping.\n"
     ]
    },
    {
     "name": "stdout",
     "output_type": "stream",
     "text": [
      "[##########################              ] | 66% Completed | 25.89 s"
     ]
    },
    {
     "name": "stderr",
     "output_type": "stream",
     "text": [
      "WARNING:root:No stream returned. Skipping.\n"
     ]
    },
    {
     "name": "stdout",
     "output_type": "stream",
     "text": [
      "[##########################              ] | 66% Completed | 25.99 s"
     ]
    },
    {
     "name": "stderr",
     "output_type": "stream",
     "text": [
      "WARNING:root:No stream returned. Skipping.\n",
      "WARNING:root:No stream returned. Skipping.\n"
     ]
    },
    {
     "name": "stdout",
     "output_type": "stream",
     "text": [
      "[##########################              ] | 66% Completed | 26.09 s"
     ]
    },
    {
     "name": "stderr",
     "output_type": "stream",
     "text": [
      "WARNING:root:No stream returned. Skipping.\n",
      "WARNING:root:No stream returned. Skipping.\n"
     ]
    },
    {
     "name": "stdout",
     "output_type": "stream",
     "text": [
      "[##########################              ] | 67% Completed | 26.19 s"
     ]
    },
    {
     "name": "stderr",
     "output_type": "stream",
     "text": [
      "WARNING:root:No stream returned. Skipping.\n",
      "WARNING:root:No stream returned. Skipping.\n"
     ]
    },
    {
     "name": "stdout",
     "output_type": "stream",
     "text": [
      "[###########################             ] | 67% Completed | 26.29 s"
     ]
    },
    {
     "name": "stderr",
     "output_type": "stream",
     "text": [
      "WARNING:root:No stream returned. Skipping.\n"
     ]
    },
    {
     "name": "stdout",
     "output_type": "stream",
     "text": [
      "[###########################             ] | 67% Completed | 26.39 s"
     ]
    },
    {
     "name": "stderr",
     "output_type": "stream",
     "text": [
      "WARNING:root:No stream returned. Skipping.\n",
      "WARNING:root:No stream returned. Skipping.\n"
     ]
    },
    {
     "name": "stdout",
     "output_type": "stream",
     "text": [
      "[###########################             ] | 68% Completed | 26.49 s"
     ]
    },
    {
     "name": "stderr",
     "output_type": "stream",
     "text": [
      "WARNING:root:No stream returned. Skipping.\n",
      "WARNING:root:No stream returned. Skipping.\n"
     ]
    },
    {
     "name": "stdout",
     "output_type": "stream",
     "text": [
      "[###########################             ] | 68% Completed | 26.59 s"
     ]
    },
    {
     "name": "stderr",
     "output_type": "stream",
     "text": [
      "WARNING:root:No stream returned. Skipping.\n"
     ]
    },
    {
     "name": "stdout",
     "output_type": "stream",
     "text": [
      "[###########################             ] | 68% Completed | 26.69 s"
     ]
    },
    {
     "name": "stderr",
     "output_type": "stream",
     "text": [
      "WARNING:root:No stream returned. Skipping.\n",
      "WARNING:root:No stream returned. Skipping.\n"
     ]
    },
    {
     "name": "stdout",
     "output_type": "stream",
     "text": [
      "[###########################             ] | 69% Completed | 26.79 s"
     ]
    },
    {
     "name": "stderr",
     "output_type": "stream",
     "text": [
      "WARNING:root:No stream returned. Skipping.\n",
      "WARNING:root:No stream returned. Skipping.\n"
     ]
    },
    {
     "name": "stdout",
     "output_type": "stream",
     "text": [
      "[###########################             ] | 69% Completed | 26.89 s"
     ]
    },
    {
     "name": "stderr",
     "output_type": "stream",
     "text": [
      "WARNING:root:No stream returned. Skipping.\n"
     ]
    },
    {
     "name": "stdout",
     "output_type": "stream",
     "text": [
      "[###########################             ] | 69% Completed | 28.00 s"
     ]
    },
    {
     "name": "stderr",
     "output_type": "stream",
     "text": [
      "WARNING:root:No stream returned. Skipping.\n",
      "WARNING:root:No stream returned. Skipping.\n"
     ]
    },
    {
     "name": "stdout",
     "output_type": "stream",
     "text": [
      "[############################            ] | 70% Completed | 28.10 s"
     ]
    },
    {
     "name": "stderr",
     "output_type": "stream",
     "text": [
      "WARNING:root:No stream returned. Skipping.\n",
      "WARNING:root:No stream returned. Skipping.\n"
     ]
    },
    {
     "name": "stdout",
     "output_type": "stream",
     "text": [
      "[############################            ] | 70% Completed | 28.20 s"
     ]
    },
    {
     "name": "stderr",
     "output_type": "stream",
     "text": [
      "WARNING:root:No stream returned. Skipping.\n"
     ]
    },
    {
     "name": "stdout",
     "output_type": "stream",
     "text": [
      "[############################            ] | 70% Completed | 28.30 s"
     ]
    },
    {
     "name": "stderr",
     "output_type": "stream",
     "text": [
      "WARNING:root:No stream returned. Skipping.\n",
      "WARNING:root:No stream returned. Skipping.\n"
     ]
    },
    {
     "name": "stdout",
     "output_type": "stream",
     "text": [
      "[############################            ] | 71% Completed | 28.40 s"
     ]
    },
    {
     "name": "stderr",
     "output_type": "stream",
     "text": [
      "WARNING:root:No stream returned. Skipping.\n",
      "WARNING:root:No stream returned. Skipping.\n"
     ]
    },
    {
     "name": "stdout",
     "output_type": "stream",
     "text": [
      "[############################            ] | 71% Completed | 28.50 s"
     ]
    },
    {
     "name": "stderr",
     "output_type": "stream",
     "text": [
      "WARNING:root:No stream returned. Skipping.\n",
      "WARNING:root:No stream returned. Skipping.\n"
     ]
    },
    {
     "name": "stdout",
     "output_type": "stream",
     "text": [
      "[############################            ] | 71% Completed | 28.60 s"
     ]
    },
    {
     "name": "stderr",
     "output_type": "stream",
     "text": [
      "WARNING:root:No stream returned. Skipping.\n"
     ]
    },
    {
     "name": "stdout",
     "output_type": "stream",
     "text": [
      "[############################            ] | 72% Completed | 28.70 s"
     ]
    },
    {
     "name": "stderr",
     "output_type": "stream",
     "text": [
      "WARNING:root:No stream returned. Skipping.\n",
      "WARNING:root:No stream returned. Skipping.\n"
     ]
    },
    {
     "name": "stdout",
     "output_type": "stream",
     "text": [
      "[############################            ] | 72% Completed | 28.80 s"
     ]
    },
    {
     "name": "stderr",
     "output_type": "stream",
     "text": [
      "WARNING:root:No stream returned. Skipping.\n",
      "WARNING:root:No stream returned. Skipping.\n"
     ]
    },
    {
     "name": "stdout",
     "output_type": "stream",
     "text": [
      "[#############################           ] | 72% Completed | 28.90 s"
     ]
    },
    {
     "name": "stderr",
     "output_type": "stream",
     "text": [
      "WARNING:root:No stream returned. Skipping.\n"
     ]
    },
    {
     "name": "stdout",
     "output_type": "stream",
     "text": [
      "[#############################           ] | 73% Completed | 29.01 s"
     ]
    },
    {
     "name": "stderr",
     "output_type": "stream",
     "text": [
      "WARNING:root:No stream returned. Skipping.\n",
      "WARNING:root:No stream returned. Skipping.\n"
     ]
    },
    {
     "name": "stdout",
     "output_type": "stream",
     "text": [
      "[#############################           ] | 73% Completed | 29.11 s"
     ]
    },
    {
     "name": "stderr",
     "output_type": "stream",
     "text": [
      "WARNING:root:No stream returned. Skipping.\n",
      "WARNING:root:No stream returned. Skipping.\n"
     ]
    },
    {
     "name": "stdout",
     "output_type": "stream",
     "text": [
      "[#############################           ] | 73% Completed | 29.21 s"
     ]
    },
    {
     "name": "stderr",
     "output_type": "stream",
     "text": [
      "WARNING:root:No stream returned. Skipping.\n"
     ]
    },
    {
     "name": "stdout",
     "output_type": "stream",
     "text": [
      "[#############################           ] | 74% Completed | 29.31 s"
     ]
    },
    {
     "name": "stderr",
     "output_type": "stream",
     "text": [
      "WARNING:root:No stream returned. Skipping.\n",
      "WARNING:root:No stream returned. Skipping.\n"
     ]
    },
    {
     "name": "stdout",
     "output_type": "stream",
     "text": [
      "[#############################           ] | 74% Completed | 29.41 s"
     ]
    },
    {
     "name": "stderr",
     "output_type": "stream",
     "text": [
      "WARNING:root:No stream returned. Skipping.\n",
      "WARNING:root:No stream returned. Skipping.\n"
     ]
    },
    {
     "name": "stdout",
     "output_type": "stream",
     "text": [
      "[#############################           ] | 74% Completed | 29.51 s"
     ]
    },
    {
     "name": "stderr",
     "output_type": "stream",
     "text": [
      "WARNING:root:No stream returned. Skipping.\n",
      "WARNING:root:No stream returned. Skipping.\n"
     ]
    },
    {
     "name": "stdout",
     "output_type": "stream",
     "text": [
      "[##############################          ] | 75% Completed | 29.61 s"
     ]
    },
    {
     "name": "stderr",
     "output_type": "stream",
     "text": [
      "WARNING:root:No stream returned. Skipping.\n"
     ]
    },
    {
     "name": "stdout",
     "output_type": "stream",
     "text": [
      "[##############################          ] | 75% Completed | 29.71 s"
     ]
    },
    {
     "name": "stderr",
     "output_type": "stream",
     "text": [
      "WARNING:root:No stream returned. Skipping.\n",
      "WARNING:root:No stream returned. Skipping.\n"
     ]
    },
    {
     "name": "stdout",
     "output_type": "stream",
     "text": [
      "[##############################          ] | 75% Completed | 29.81 s"
     ]
    },
    {
     "name": "stderr",
     "output_type": "stream",
     "text": [
      "WARNING:root:No stream returned. Skipping.\n",
      "WARNING:root:No stream returned. Skipping.\n"
     ]
    },
    {
     "name": "stdout",
     "output_type": "stream",
     "text": [
      "[##############################          ] | 76% Completed | 29.91 s"
     ]
    },
    {
     "name": "stderr",
     "output_type": "stream",
     "text": [
      "WARNING:root:No stream returned. Skipping.\n"
     ]
    },
    {
     "name": "stdout",
     "output_type": "stream",
     "text": [
      "[##############################          ] | 76% Completed | 30.01 s"
     ]
    },
    {
     "name": "stderr",
     "output_type": "stream",
     "text": [
      "WARNING:root:No stream returned. Skipping.\n",
      "WARNING:root:No stream returned. Skipping.\n"
     ]
    },
    {
     "name": "stdout",
     "output_type": "stream",
     "text": [
      "[##############################          ] | 76% Completed | 30.11 s"
     ]
    },
    {
     "name": "stderr",
     "output_type": "stream",
     "text": [
      "WARNING:root:No stream returned. Skipping.\n",
      "WARNING:root:No stream returned. Skipping.\n"
     ]
    },
    {
     "name": "stdout",
     "output_type": "stream",
     "text": [
      "[##############################          ] | 77% Completed | 30.21 s"
     ]
    },
    {
     "name": "stderr",
     "output_type": "stream",
     "text": [
      "WARNING:root:No stream returned. Skipping.\n"
     ]
    },
    {
     "name": "stdout",
     "output_type": "stream",
     "text": [
      "[##############################          ] | 77% Completed | 30.31 s"
     ]
    },
    {
     "name": "stderr",
     "output_type": "stream",
     "text": [
      "WARNING:root:No stream returned. Skipping.\n",
      "WARNING:root:No stream returned. Skipping.\n"
     ]
    },
    {
     "name": "stdout",
     "output_type": "stream",
     "text": [
      "[###############################         ] | 77% Completed | 30.41 s"
     ]
    },
    {
     "name": "stderr",
     "output_type": "stream",
     "text": [
      "WARNING:root:No stream returned. Skipping.\n",
      "WARNING:root:No stream returned. Skipping.\n"
     ]
    },
    {
     "name": "stdout",
     "output_type": "stream",
     "text": [
      "[###############################         ] | 77% Completed | 30.51 s"
     ]
    },
    {
     "name": "stderr",
     "output_type": "stream",
     "text": [
      "WARNING:root:No stream returned. Skipping.\n",
      "WARNING:root:No stream returned. Skipping.\n"
     ]
    },
    {
     "name": "stdout",
     "output_type": "stream",
     "text": [
      "[###############################         ] | 78% Completed | 30.61 s"
     ]
    },
    {
     "name": "stderr",
     "output_type": "stream",
     "text": [
      "WARNING:root:No stream returned. Skipping.\n"
     ]
    },
    {
     "name": "stdout",
     "output_type": "stream",
     "text": [
      "[###############################         ] | 78% Completed | 30.71 s"
     ]
    },
    {
     "name": "stderr",
     "output_type": "stream",
     "text": [
      "WARNING:root:No stream returned. Skipping.\n",
      "WARNING:root:No stream returned. Skipping.\n"
     ]
    },
    {
     "name": "stdout",
     "output_type": "stream",
     "text": [
      "[###############################         ] | 78% Completed | 30.81 s"
     ]
    },
    {
     "name": "stderr",
     "output_type": "stream",
     "text": [
      "WARNING:root:No stream returned. Skipping.\n",
      "WARNING:root:No stream returned. Skipping.\n"
     ]
    },
    {
     "name": "stdout",
     "output_type": "stream",
     "text": [
      "[###############################         ] | 79% Completed | 30.92 s"
     ]
    },
    {
     "name": "stderr",
     "output_type": "stream",
     "text": [
      "WARNING:root:No stream returned. Skipping.\n"
     ]
    },
    {
     "name": "stdout",
     "output_type": "stream",
     "text": [
      "[###############################         ] | 79% Completed | 31.02 s"
     ]
    },
    {
     "name": "stderr",
     "output_type": "stream",
     "text": [
      "WARNING:root:No stream returned. Skipping.\n"
     ]
    },
    {
     "name": "stdout",
     "output_type": "stream",
     "text": [
      "[###############################         ] | 79% Completed | 31.12 s"
     ]
    },
    {
     "name": "stderr",
     "output_type": "stream",
     "text": [
      "WARNING:root:No stream returned. Skipping.\n",
      "WARNING:root:No stream returned. Skipping.\n"
     ]
    },
    {
     "name": "stdout",
     "output_type": "stream",
     "text": [
      "[################################        ] | 80% Completed | 31.22 s"
     ]
    },
    {
     "name": "stderr",
     "output_type": "stream",
     "text": [
      "WARNING:root:No stream returned. Skipping.\n"
     ]
    },
    {
     "name": "stdout",
     "output_type": "stream",
     "text": [
      "[################################        ] | 80% Completed | 31.32 s"
     ]
    },
    {
     "name": "stderr",
     "output_type": "stream",
     "text": [
      "WARNING:root:No stream returned. Skipping.\n",
      "WARNING:root:No stream returned. Skipping.\n"
     ]
    },
    {
     "name": "stdout",
     "output_type": "stream",
     "text": [
      "[################################        ] | 80% Completed | 31.42 s"
     ]
    },
    {
     "name": "stderr",
     "output_type": "stream",
     "text": [
      "WARNING:root:No stream returned. Skipping.\n",
      "WARNING:root:No stream returned. Skipping.\n"
     ]
    },
    {
     "name": "stdout",
     "output_type": "stream",
     "text": [
      "[################################        ] | 81% Completed | 31.52 s"
     ]
    },
    {
     "name": "stderr",
     "output_type": "stream",
     "text": [
      "WARNING:root:No stream returned. Skipping.\n",
      "WARNING:root:No stream returned. Skipping.\n"
     ]
    },
    {
     "name": "stdout",
     "output_type": "stream",
     "text": [
      "[################################        ] | 81% Completed | 31.62 s"
     ]
    },
    {
     "name": "stderr",
     "output_type": "stream",
     "text": [
      "WARNING:root:No stream returned. Skipping.\n"
     ]
    },
    {
     "name": "stdout",
     "output_type": "stream",
     "text": [
      "[################################        ] | 81% Completed | 31.72 s"
     ]
    },
    {
     "name": "stderr",
     "output_type": "stream",
     "text": [
      "WARNING:root:No stream returned. Skipping.\n",
      "WARNING:root:No stream returned. Skipping.\n"
     ]
    },
    {
     "name": "stdout",
     "output_type": "stream",
     "text": [
      "[################################        ] | 81% Completed | 31.82 s"
     ]
    },
    {
     "name": "stderr",
     "output_type": "stream",
     "text": [
      "WARNING:root:No stream returned. Skipping.\n",
      "WARNING:root:No stream returned. Skipping.\n"
     ]
    },
    {
     "name": "stdout",
     "output_type": "stream",
     "text": [
      "[################################        ] | 82% Completed | 32.02 s"
     ]
    },
    {
     "name": "stderr",
     "output_type": "stream",
     "text": [
      "WARNING:root:No stream returned. Skipping.\n",
      "WARNING:root:No stream returned. Skipping.\n"
     ]
    },
    {
     "name": "stdout",
     "output_type": "stream",
     "text": [
      "[#################################       ] | 82% Completed | 32.12 s"
     ]
    },
    {
     "name": "stderr",
     "output_type": "stream",
     "text": [
      "WARNING:root:No stream returned. Skipping.\n"
     ]
    },
    {
     "name": "stdout",
     "output_type": "stream",
     "text": [
      "[#################################       ] | 82% Completed | 32.22 s"
     ]
    },
    {
     "name": "stderr",
     "output_type": "stream",
     "text": [
      "WARNING:root:No stream returned. Skipping.\n",
      "WARNING:root:No stream returned. Skipping.\n"
     ]
    },
    {
     "name": "stdout",
     "output_type": "stream",
     "text": [
      "[#################################       ] | 83% Completed | 32.32 s"
     ]
    },
    {
     "name": "stderr",
     "output_type": "stream",
     "text": [
      "WARNING:root:No stream returned. Skipping.\n",
      "WARNING:root:No stream returned. Skipping.\n"
     ]
    },
    {
     "name": "stdout",
     "output_type": "stream",
     "text": [
      "[#################################       ] | 83% Completed | 32.42 s"
     ]
    },
    {
     "name": "stderr",
     "output_type": "stream",
     "text": [
      "WARNING:root:No stream returned. Skipping.\n"
     ]
    },
    {
     "name": "stdout",
     "output_type": "stream",
     "text": [
      "[#################################       ] | 83% Completed | 32.52 s"
     ]
    },
    {
     "name": "stderr",
     "output_type": "stream",
     "text": [
      "WARNING:root:No stream returned. Skipping.\n",
      "WARNING:root:No stream returned. Skipping.\n"
     ]
    },
    {
     "name": "stdout",
     "output_type": "stream",
     "text": [
      "[#################################       ] | 84% Completed | 32.62 s"
     ]
    },
    {
     "name": "stderr",
     "output_type": "stream",
     "text": [
      "WARNING:root:No stream returned. Skipping.\n",
      "WARNING:root:No stream returned. Skipping.\n"
     ]
    },
    {
     "name": "stdout",
     "output_type": "stream",
     "text": [
      "[#################################       ] | 84% Completed | 32.72 s"
     ]
    },
    {
     "name": "stderr",
     "output_type": "stream",
     "text": [
      "WARNING:root:No stream returned. Skipping.\n",
      "WARNING:root:No stream returned. Skipping.\n"
     ]
    },
    {
     "name": "stdout",
     "output_type": "stream",
     "text": [
      "[##################################      ] | 85% Completed | 32.83 s"
     ]
    },
    {
     "name": "stderr",
     "output_type": "stream",
     "text": [
      "WARNING:root:No stream returned. Skipping.\n"
     ]
    },
    {
     "name": "stdout",
     "output_type": "stream",
     "text": [
      "[##################################      ] | 85% Completed | 32.93 s"
     ]
    },
    {
     "name": "stderr",
     "output_type": "stream",
     "text": [
      "WARNING:root:No stream returned. Skipping.\n",
      "WARNING:root:No stream returned. Skipping.\n"
     ]
    },
    {
     "name": "stdout",
     "output_type": "stream",
     "text": [
      "[##################################      ] | 85% Completed | 33.03 s"
     ]
    },
    {
     "name": "stderr",
     "output_type": "stream",
     "text": [
      "WARNING:root:No stream returned. Skipping.\n",
      "WARNING:root:No stream returned. Skipping.\n"
     ]
    },
    {
     "name": "stdout",
     "output_type": "stream",
     "text": [
      "[##################################      ] | 85% Completed | 33.13 s"
     ]
    },
    {
     "name": "stderr",
     "output_type": "stream",
     "text": [
      "WARNING:root:No stream returned. Skipping.\n"
     ]
    },
    {
     "name": "stdout",
     "output_type": "stream",
     "text": [
      "[##################################      ] | 86% Completed | 33.23 s"
     ]
    },
    {
     "name": "stderr",
     "output_type": "stream",
     "text": [
      "WARNING:root:No stream returned. Skipping.\n",
      "WARNING:root:No stream returned. Skipping.\n"
     ]
    },
    {
     "name": "stdout",
     "output_type": "stream",
     "text": [
      "[##################################      ] | 86% Completed | 33.33 s"
     ]
    },
    {
     "name": "stderr",
     "output_type": "stream",
     "text": [
      "WARNING:root:No stream returned. Skipping.\n"
     ]
    },
    {
     "name": "stdout",
     "output_type": "stream",
     "text": [
      "[##################################      ] | 86% Completed | 33.43 s"
     ]
    },
    {
     "name": "stderr",
     "output_type": "stream",
     "text": [
      "WARNING:root:No stream returned. Skipping.\n",
      "WARNING:root:No stream returned. Skipping.\n"
     ]
    },
    {
     "name": "stdout",
     "output_type": "stream",
     "text": [
      "[##################################      ] | 87% Completed | 33.53 s"
     ]
    },
    {
     "name": "stderr",
     "output_type": "stream",
     "text": [
      "WARNING:root:No stream returned. Skipping.\n",
      "WARNING:root:No stream returned. Skipping.\n"
     ]
    },
    {
     "name": "stdout",
     "output_type": "stream",
     "text": [
      "[##################################      ] | 87% Completed | 33.63 s"
     ]
    },
    {
     "name": "stderr",
     "output_type": "stream",
     "text": [
      "WARNING:root:No stream returned. Skipping.\n"
     ]
    },
    {
     "name": "stdout",
     "output_type": "stream",
     "text": [
      "[###################################     ] | 87% Completed | 33.73 s"
     ]
    },
    {
     "name": "stderr",
     "output_type": "stream",
     "text": [
      "WARNING:root:No stream returned. Skipping.\n",
      "WARNING:root:No stream returned. Skipping.\n"
     ]
    },
    {
     "name": "stdout",
     "output_type": "stream",
     "text": [
      "[###################################     ] | 88% Completed | 33.83 s"
     ]
    },
    {
     "name": "stderr",
     "output_type": "stream",
     "text": [
      "WARNING:root:No stream returned. Skipping.\n",
      "WARNING:root:No stream returned. Skipping.\n"
     ]
    },
    {
     "name": "stdout",
     "output_type": "stream",
     "text": [
      "[###################################     ] | 88% Completed | 33.93 s"
     ]
    },
    {
     "name": "stderr",
     "output_type": "stream",
     "text": [
      "WARNING:root:No stream returned. Skipping.\n",
      "WARNING:root:No stream returned. Skipping.\n"
     ]
    },
    {
     "name": "stdout",
     "output_type": "stream",
     "text": [
      "[###################################     ] | 88% Completed | 34.03 s"
     ]
    },
    {
     "name": "stderr",
     "output_type": "stream",
     "text": [
      "WARNING:root:No stream returned. Skipping.\n"
     ]
    },
    {
     "name": "stdout",
     "output_type": "stream",
     "text": [
      "[###################################     ] | 88% Completed | 34.13 s"
     ]
    },
    {
     "name": "stderr",
     "output_type": "stream",
     "text": [
      "WARNING:root:No stream returned. Skipping.\n",
      "WARNING:root:No stream returned. Skipping.\n"
     ]
    },
    {
     "name": "stdout",
     "output_type": "stream",
     "text": [
      "[###################################     ] | 89% Completed | 34.23 s"
     ]
    },
    {
     "name": "stderr",
     "output_type": "stream",
     "text": [
      "WARNING:root:No stream returned. Skipping.\n",
      "WARNING:root:No stream returned. Skipping.\n"
     ]
    },
    {
     "name": "stdout",
     "output_type": "stream",
     "text": [
      "[###################################     ] | 89% Completed | 34.33 s"
     ]
    },
    {
     "name": "stderr",
     "output_type": "stream",
     "text": [
      "WARNING:root:No stream returned. Skipping.\n"
     ]
    },
    {
     "name": "stdout",
     "output_type": "stream",
     "text": [
      "[###################################     ] | 89% Completed | 34.43 s"
     ]
    },
    {
     "name": "stderr",
     "output_type": "stream",
     "text": [
      "WARNING:root:No stream returned. Skipping.\n",
      "WARNING:root:No stream returned. Skipping.\n"
     ]
    },
    {
     "name": "stdout",
     "output_type": "stream",
     "text": [
      "[####################################    ] | 90% Completed | 34.53 s"
     ]
    },
    {
     "name": "stderr",
     "output_type": "stream",
     "text": [
      "WARNING:root:No stream returned. Skipping.\n",
      "WARNING:root:No stream returned. Skipping.\n"
     ]
    },
    {
     "name": "stdout",
     "output_type": "stream",
     "text": [
      "[####################################    ] | 90% Completed | 34.63 s"
     ]
    },
    {
     "name": "stderr",
     "output_type": "stream",
     "text": [
      "WARNING:root:No stream returned. Skipping.\n",
      "WARNING:root:No stream returned. Skipping.\n"
     ]
    },
    {
     "name": "stdout",
     "output_type": "stream",
     "text": [
      "[####################################    ] | 91% Completed | 34.73 s"
     ]
    },
    {
     "name": "stderr",
     "output_type": "stream",
     "text": [
      "WARNING:root:No stream returned. Skipping.\n"
     ]
    },
    {
     "name": "stdout",
     "output_type": "stream",
     "text": [
      "[####################################    ] | 91% Completed | 34.84 s"
     ]
    },
    {
     "name": "stderr",
     "output_type": "stream",
     "text": [
      "WARNING:root:No stream returned. Skipping.\n",
      "WARNING:root:No stream returned. Skipping.\n"
     ]
    },
    {
     "name": "stdout",
     "output_type": "stream",
     "text": [
      "[####################################    ] | 91% Completed | 34.94 s"
     ]
    },
    {
     "name": "stderr",
     "output_type": "stream",
     "text": [
      "WARNING:root:No stream returned. Skipping.\n",
      "WARNING:root:No stream returned. Skipping.\n"
     ]
    },
    {
     "name": "stdout",
     "output_type": "stream",
     "text": [
      "[####################################    ] | 92% Completed | 35.04 s"
     ]
    },
    {
     "name": "stderr",
     "output_type": "stream",
     "text": [
      "WARNING:root:No stream returned. Skipping.\n"
     ]
    },
    {
     "name": "stdout",
     "output_type": "stream",
     "text": [
      "[####################################    ] | 92% Completed | 35.14 s"
     ]
    },
    {
     "name": "stderr",
     "output_type": "stream",
     "text": [
      "WARNING:root:No stream returned. Skipping.\n",
      "WARNING:root:No stream returned. Skipping.\n"
     ]
    },
    {
     "name": "stdout",
     "output_type": "stream",
     "text": [
      "[#####################################   ] | 92% Completed | 35.24 s"
     ]
    },
    {
     "name": "stderr",
     "output_type": "stream",
     "text": [
      "WARNING:root:No stream returned. Skipping.\n",
      "WARNING:root:No stream returned. Skipping.\n"
     ]
    },
    {
     "name": "stdout",
     "output_type": "stream",
     "text": [
      "[#####################################   ] | 92% Completed | 35.34 s"
     ]
    },
    {
     "name": "stderr",
     "output_type": "stream",
     "text": [
      "WARNING:root:No stream returned. Skipping.\n"
     ]
    },
    {
     "name": "stdout",
     "output_type": "stream",
     "text": [
      "[#####################################   ] | 93% Completed | 35.44 s"
     ]
    },
    {
     "name": "stderr",
     "output_type": "stream",
     "text": [
      "WARNING:root:No stream returned. Skipping.\n",
      "WARNING:root:No stream returned. Skipping.\n"
     ]
    },
    {
     "name": "stdout",
     "output_type": "stream",
     "text": [
      "[#####################################   ] | 93% Completed | 35.54 s"
     ]
    },
    {
     "name": "stderr",
     "output_type": "stream",
     "text": [
      "WARNING:root:No stream returned. Skipping.\n",
      "WARNING:root:No stream returned. Skipping.\n"
     ]
    },
    {
     "name": "stdout",
     "output_type": "stream",
     "text": [
      "[#####################################   ] | 93% Completed | 35.64 s"
     ]
    },
    {
     "name": "stderr",
     "output_type": "stream",
     "text": [
      "WARNING:root:No stream returned. Skipping.\n"
     ]
    },
    {
     "name": "stdout",
     "output_type": "stream",
     "text": [
      "[#####################################   ] | 94% Completed | 35.74 s"
     ]
    },
    {
     "name": "stderr",
     "output_type": "stream",
     "text": [
      "WARNING:root:No stream returned. Skipping.\n",
      "WARNING:root:No stream returned. Skipping.\n"
     ]
    },
    {
     "name": "stdout",
     "output_type": "stream",
     "text": [
      "[#####################################   ] | 94% Completed | 35.84 s"
     ]
    },
    {
     "name": "stderr",
     "output_type": "stream",
     "text": [
      "WARNING:root:No stream returned. Skipping.\n",
      "WARNING:root:No stream returned. Skipping.\n"
     ]
    },
    {
     "name": "stdout",
     "output_type": "stream",
     "text": [
      "[#####################################   ] | 94% Completed | 35.94 s"
     ]
    },
    {
     "name": "stderr",
     "output_type": "stream",
     "text": [
      "WARNING:root:No stream returned. Skipping.\n",
      "WARNING:root:No stream returned. Skipping.\n"
     ]
    },
    {
     "name": "stdout",
     "output_type": "stream",
     "text": [
      "[######################################  ] | 95% Completed | 36.04 s"
     ]
    },
    {
     "name": "stderr",
     "output_type": "stream",
     "text": [
      "WARNING:root:No stream returned. Skipping.\n"
     ]
    },
    {
     "name": "stdout",
     "output_type": "stream",
     "text": [
      "[######################################  ] | 95% Completed | 36.14 s"
     ]
    },
    {
     "name": "stderr",
     "output_type": "stream",
     "text": [
      "WARNING:root:No stream returned. Skipping.\n",
      "WARNING:root:No stream returned. Skipping.\n"
     ]
    },
    {
     "name": "stdout",
     "output_type": "stream",
     "text": [
      "[######################################  ] | 95% Completed | 36.24 s"
     ]
    },
    {
     "name": "stderr",
     "output_type": "stream",
     "text": [
      "WARNING:root:No stream returned. Skipping.\n",
      "WARNING:root:No stream returned. Skipping.\n"
     ]
    },
    {
     "name": "stdout",
     "output_type": "stream",
     "text": [
      "[######################################  ] | 96% Completed | 36.34 s"
     ]
    },
    {
     "name": "stderr",
     "output_type": "stream",
     "text": [
      "WARNING:root:No stream returned. Skipping.\n"
     ]
    },
    {
     "name": "stdout",
     "output_type": "stream",
     "text": [
      "[######################################  ] | 96% Completed | 36.44 s"
     ]
    },
    {
     "name": "stderr",
     "output_type": "stream",
     "text": [
      "WARNING:root:No stream returned. Skipping.\n",
      "WARNING:root:No stream returned. Skipping.\n"
     ]
    },
    {
     "name": "stdout",
     "output_type": "stream",
     "text": [
      "[######################################  ] | 96% Completed | 36.55 s"
     ]
    },
    {
     "name": "stderr",
     "output_type": "stream",
     "text": [
      "WARNING:root:No stream returned. Skipping.\n",
      "WARNING:root:No stream returned. Skipping.\n"
     ]
    },
    {
     "name": "stdout",
     "output_type": "stream",
     "text": [
      "[######################################  ] | 97% Completed | 36.65 s"
     ]
    },
    {
     "name": "stderr",
     "output_type": "stream",
     "text": [
      "WARNING:root:No stream returned. Skipping.\n"
     ]
    },
    {
     "name": "stdout",
     "output_type": "stream",
     "text": [
      "[######################################  ] | 97% Completed | 36.75 s"
     ]
    },
    {
     "name": "stderr",
     "output_type": "stream",
     "text": [
      "WARNING:root:No stream returned. Skipping.\n",
      "WARNING:root:No stream returned. Skipping.\n"
     ]
    },
    {
     "name": "stdout",
     "output_type": "stream",
     "text": [
      "[####################################### ] | 97% Completed | 36.85 s"
     ]
    },
    {
     "name": "stderr",
     "output_type": "stream",
     "text": [
      "WARNING:root:No stream returned. Skipping.\n",
      "WARNING:root:No stream returned. Skipping.\n"
     ]
    },
    {
     "name": "stdout",
     "output_type": "stream",
     "text": [
      "[####################################### ] | 98% Completed | 36.95 s"
     ]
    },
    {
     "name": "stderr",
     "output_type": "stream",
     "text": [
      "WARNING:root:No stream returned. Skipping.\n",
      "WARNING:root:No stream returned. Skipping.\n"
     ]
    },
    {
     "name": "stdout",
     "output_type": "stream",
     "text": [
      "[####################################### ] | 98% Completed | 37.05 s"
     ]
    },
    {
     "name": "stderr",
     "output_type": "stream",
     "text": [
      "WARNING:root:No stream returned. Skipping.\n"
     ]
    },
    {
     "name": "stdout",
     "output_type": "stream",
     "text": [
      "[####################################### ] | 98% Completed | 37.15 s"
     ]
    },
    {
     "name": "stderr",
     "output_type": "stream",
     "text": [
      "WARNING:root:No stream returned. Skipping.\n",
      "WARNING:root:No stream returned. Skipping.\n"
     ]
    },
    {
     "name": "stdout",
     "output_type": "stream",
     "text": [
      "[####################################### ] | 99% Completed | 37.25 s"
     ]
    },
    {
     "name": "stderr",
     "output_type": "stream",
     "text": [
      "WARNING:root:No stream returned. Skipping.\n",
      "WARNING:root:No stream returned. Skipping.\n"
     ]
    },
    {
     "name": "stdout",
     "output_type": "stream",
     "text": [
      "[####################################### ] | 99% Completed | 37.35 s"
     ]
    },
    {
     "name": "stderr",
     "output_type": "stream",
     "text": [
      "WARNING:root:No stream returned. Skipping.\n"
     ]
    },
    {
     "name": "stdout",
     "output_type": "stream",
     "text": [
      "[####################################### ] | 99% Completed | 37.45 s"
     ]
    },
    {
     "name": "stderr",
     "output_type": "stream",
     "text": [
      "WARNING:root:No stream returned. Skipping.\n",
      "WARNING:root:No stream returned. Skipping.\n"
     ]
    },
    {
     "name": "stdout",
     "output_type": "stream",
     "text": [
      "[########################################] | 100% Completed | 37.55 s\n"
     ]
    }
   ],
   "source": [
    "# Now we start setting up a parallel operation using a package called Dask.\n",
    "\n",
    "# Start by writing a new a function that is specifically designed to be run in parallel through dask. All it essentially does is define the inputs to the larger run_detection function and then runs the function itself, but because we \"decorate\" it with @dask.delayed to start, the code will recognize that it should be run in parallel.\n",
    "\n",
    "@dask.delayed\n",
    "def loop_days(task,filepath,twin,step,l_blnd,r_blnd):\n",
    "\n",
    "\t# Define the parameters that are specific to each task\n",
    "\tt1 = obspy.UTCDateTime(task[1])\n",
    "\tt2 = obspy.UTCDateTime(t1 + pd.Timedelta(1,'days'))\n",
    "\tstation = task[0]\n",
    "\n",
    "\t# Call to the function that will perform the operation and write the results to file\n",
    "\trun_detection(station,t1,t2,filepath,twin,step,l_blnd,r_blnd)\n",
    "\t\n",
    "\n",
    "# Now we set up the parallel operation\n",
    "# The below builds a framework for the computer to run in parallel. This doesn't actually execute anything.\n",
    "lazy_results = [loop_days(task,filepath,twin,step,l_blnd,r_blnd) for task in task_list]\n",
    "    \n",
    "\n",
    "# The below actually executes the parallel operation!\n",
    "# It's nice to do it with the ProgressBar so you can see how long things are taking.\n",
    "# Each operation should also write a file so that is another way to check on progress.\n",
    "with ProgressBar():\n",
    "    #################################\n",
    "    # Add scheduler = 'single-threaded'\n",
    "\tdask.compute(lazy_results, scheduler='single-threaded') \n",
    "    "
   ]
  },
  {
   "cell_type": "code",
   "execution_count": null,
   "id": "7ce4d790",
   "metadata": {},
   "outputs": [],
   "source": []
  },
  {
   "cell_type": "code",
   "execution_count": null,
   "id": "fcf61b7d",
   "metadata": {},
   "outputs": [],
   "source": []
  }
 ],
 "metadata": {
  "kernelspec": {
   "display_name": "seismo (SHARED)",
   "language": "python",
   "name": "seismo"
  },
  "language_info": {
   "codemirror_mode": {
    "name": "ipython",
    "version": 3
   },
   "file_extension": ".py",
   "mimetype": "text/x-python",
   "name": "python",
   "nbconvert_exporter": "python",
   "pygments_lexer": "ipython3",
   "version": "3.9.18"
  }
 },
 "nbformat": 4,
 "nbformat_minor": 5
}
