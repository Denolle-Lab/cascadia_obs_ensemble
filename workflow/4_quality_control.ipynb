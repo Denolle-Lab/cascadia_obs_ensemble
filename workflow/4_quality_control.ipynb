{
 "cells": [
  {
   "cell_type": "code",
   "execution_count": 1,
   "id": "c92e5226",
   "metadata": {},
   "outputs": [],
   "source": [
    "import pandas as pd\n",
    "import numpy as np\n",
    "from obspy.clients.fdsn import Client\n",
    "from pnwstore.mseed import WaveformClient\n",
    "from datetime import datetime\n",
    "import obspy\n",
    "from matplotlib import pyplot as plt\n",
    "from obspy import UTCDateTime\n",
    "\n",
    "from obspy.geodetics import locations2degrees, degrees2kilometers\n",
    "from tqdm import tqdm"
   ]
  },
  {
   "cell_type": "markdown",
   "id": "ce408df1",
   "metadata": {},
   "source": [
    "## Morton Catalog"
   ]
  },
  {
   "cell_type": "code",
   "execution_count": 2,
   "id": "6bd019d5",
   "metadata": {},
   "outputs": [
    {
     "data": {
      "text/html": [
       "<div>\n",
       "<style scoped>\n",
       "    .dataframe tbody tr th:only-of-type {\n",
       "        vertical-align: middle;\n",
       "    }\n",
       "\n",
       "    .dataframe tbody tr th {\n",
       "        vertical-align: top;\n",
       "    }\n",
       "\n",
       "    .dataframe thead th {\n",
       "        text-align: right;\n",
       "    }\n",
       "</style>\n",
       "<table border=\"1\" class=\"dataframe\">\n",
       "  <thead>\n",
       "    <tr style=\"text-align: right;\">\n",
       "      <th></th>\n",
       "      <th>CI YEAR</th>\n",
       "      <th>TSTRING</th>\n",
       "      <th>YEAR</th>\n",
       "      <th>MONTH</th>\n",
       "      <th>DAY</th>\n",
       "      <th>HOUR</th>\n",
       "      <th>MINUTE</th>\n",
       "      <th>SECOND</th>\n",
       "      <th>LAT</th>\n",
       "      <th>LON</th>\n",
       "      <th>...</th>\n",
       "      <th>dist to nearest stn</th>\n",
       "      <th>tt RMS</th>\n",
       "      <th>ERH</th>\n",
       "      <th>ERZ</th>\n",
       "      <th>STRIKE</th>\n",
       "      <th>DIP</th>\n",
       "      <th>RAKE</th>\n",
       "      <th>PLATE DESIGNATION</th>\n",
       "      <th>TEMPLATE EVENT?</th>\n",
       "      <th>datetime</th>\n",
       "    </tr>\n",
       "  </thead>\n",
       "  <tbody>\n",
       "    <tr>\n",
       "      <th>630</th>\n",
       "      <td>2.0</td>\n",
       "      <td>2.012100e+13</td>\n",
       "      <td>2012.0</td>\n",
       "      <td>10.0</td>\n",
       "      <td>1.0</td>\n",
       "      <td>4.0</td>\n",
       "      <td>32.0</td>\n",
       "      <td>57.05</td>\n",
       "      <td>40.7190</td>\n",
       "      <td>-125.9525</td>\n",
       "      <td>...</td>\n",
       "      <td>34.0</td>\n",
       "      <td>0.46</td>\n",
       "      <td>2.6</td>\n",
       "      <td>29.2</td>\n",
       "      <td>NaN</td>\n",
       "      <td>NaN</td>\n",
       "      <td>NaN</td>\n",
       "      <td>Seaward of Trench</td>\n",
       "      <td>NaN</td>\n",
       "      <td>2012-10-01 04:32:57+00:00</td>\n",
       "    </tr>\n",
       "    <tr>\n",
       "      <th>631</th>\n",
       "      <td>2.0</td>\n",
       "      <td>2.012100e+13</td>\n",
       "      <td>2012.0</td>\n",
       "      <td>10.0</td>\n",
       "      <td>1.0</td>\n",
       "      <td>23.0</td>\n",
       "      <td>30.0</td>\n",
       "      <td>58.38</td>\n",
       "      <td>40.5787</td>\n",
       "      <td>-124.8887</td>\n",
       "      <td>...</td>\n",
       "      <td>11.8</td>\n",
       "      <td>0.34</td>\n",
       "      <td>6.9</td>\n",
       "      <td>5.8</td>\n",
       "      <td>NaN</td>\n",
       "      <td>NaN</td>\n",
       "      <td>NaN</td>\n",
       "      <td>Slab</td>\n",
       "      <td>NaN</td>\n",
       "      <td>2012-10-01 23:30:58+00:00</td>\n",
       "    </tr>\n",
       "    <tr>\n",
       "      <th>632</th>\n",
       "      <td>2.0</td>\n",
       "      <td>2.012100e+13</td>\n",
       "      <td>2012.0</td>\n",
       "      <td>10.0</td>\n",
       "      <td>2.0</td>\n",
       "      <td>4.0</td>\n",
       "      <td>25.0</td>\n",
       "      <td>46.37</td>\n",
       "      <td>40.5592</td>\n",
       "      <td>-125.2087</td>\n",
       "      <td>...</td>\n",
       "      <td>24.1</td>\n",
       "      <td>0.30</td>\n",
       "      <td>1.7</td>\n",
       "      <td>5.0</td>\n",
       "      <td>NaN</td>\n",
       "      <td>NaN</td>\n",
       "      <td>NaN</td>\n",
       "      <td>Seaward of Trench</td>\n",
       "      <td>NaN</td>\n",
       "      <td>2012-10-02 04:25:46+00:00</td>\n",
       "    </tr>\n",
       "    <tr>\n",
       "      <th>633</th>\n",
       "      <td>2.0</td>\n",
       "      <td>2.012100e+13</td>\n",
       "      <td>2012.0</td>\n",
       "      <td>10.0</td>\n",
       "      <td>2.0</td>\n",
       "      <td>5.0</td>\n",
       "      <td>16.0</td>\n",
       "      <td>28.35</td>\n",
       "      <td>40.5075</td>\n",
       "      <td>-124.5450</td>\n",
       "      <td>...</td>\n",
       "      <td>7.3</td>\n",
       "      <td>0.35</td>\n",
       "      <td>1.1</td>\n",
       "      <td>1.2</td>\n",
       "      <td>NaN</td>\n",
       "      <td>NaN</td>\n",
       "      <td>NaN</td>\n",
       "      <td>Slab</td>\n",
       "      <td>NaN</td>\n",
       "      <td>2012-10-02 05:16:28+00:00</td>\n",
       "    </tr>\n",
       "    <tr>\n",
       "      <th>634</th>\n",
       "      <td>2.0</td>\n",
       "      <td>2.012100e+13</td>\n",
       "      <td>2012.0</td>\n",
       "      <td>10.0</td>\n",
       "      <td>2.0</td>\n",
       "      <td>6.0</td>\n",
       "      <td>17.0</td>\n",
       "      <td>18.88</td>\n",
       "      <td>40.4213</td>\n",
       "      <td>-125.3963</td>\n",
       "      <td>...</td>\n",
       "      <td>31.2</td>\n",
       "      <td>0.46</td>\n",
       "      <td>1.4</td>\n",
       "      <td>34.8</td>\n",
       "      <td>316.59</td>\n",
       "      <td>43.54</td>\n",
       "      <td>-85.95</td>\n",
       "      <td>Seaward of Trench</td>\n",
       "      <td>NaN</td>\n",
       "      <td>2012-10-02 06:17:18+00:00</td>\n",
       "    </tr>\n",
       "  </tbody>\n",
       "</table>\n",
       "<p>5 rows × 24 columns</p>\n",
       "</div>"
      ],
      "text/plain": [
       "     CI YEAR       TSTRING    YEAR  MONTH  DAY  HOUR  MINUTE  SECOND      LAT  \\\n",
       "630      2.0  2.012100e+13  2012.0   10.0  1.0   4.0    32.0   57.05  40.7190   \n",
       "631      2.0  2.012100e+13  2012.0   10.0  1.0  23.0    30.0   58.38  40.5787   \n",
       "632      2.0  2.012100e+13  2012.0   10.0  2.0   4.0    25.0   46.37  40.5592   \n",
       "633      2.0  2.012100e+13  2012.0   10.0  2.0   5.0    16.0   28.35  40.5075   \n",
       "634      2.0  2.012100e+13  2012.0   10.0  2.0   6.0    17.0   18.88  40.4213   \n",
       "\n",
       "          LON  ...  dist to nearest stn  tt RMS  ERH   ERZ  STRIKE    DIP  \\\n",
       "630 -125.9525  ...                 34.0    0.46  2.6  29.2     NaN    NaN   \n",
       "631 -124.8887  ...                 11.8    0.34  6.9   5.8     NaN    NaN   \n",
       "632 -125.2087  ...                 24.1    0.30  1.7   5.0     NaN    NaN   \n",
       "633 -124.5450  ...                  7.3    0.35  1.1   1.2     NaN    NaN   \n",
       "634 -125.3963  ...                 31.2    0.46  1.4  34.8  316.59  43.54   \n",
       "\n",
       "      RAKE  PLATE DESIGNATION  TEMPLATE EVENT?                  datetime  \n",
       "630    NaN  Seaward of Trench              NaN 2012-10-01 04:32:57+00:00  \n",
       "631    NaN               Slab              NaN 2012-10-01 23:30:58+00:00  \n",
       "632    NaN  Seaward of Trench              NaN 2012-10-02 04:25:46+00:00  \n",
       "633    NaN               Slab              NaN 2012-10-02 05:16:28+00:00  \n",
       "634 -85.95  Seaward of Trench              NaN 2012-10-02 06:17:18+00:00  \n",
       "\n",
       "[5 rows x 24 columns]"
      ]
     },
     "execution_count": 2,
     "metadata": {},
     "output_type": "execute_result"
    }
   ],
   "source": [
    "# Read Morton's catalog\n",
    "events_morton = pd.read_csv('../data/ds01.csv')\n",
    "# Convert the TSTRING to datetime\n",
    "events_morton['datetime'] = pd.to_datetime(events_morton['TSTRING'], format='%Y%m%d%H%M%S', utc=True)\n",
    "# Get the events in the Morton catalog that occurred on 10/14/2012\n",
    "t1 = pd.Timestamp('2012-10-01 00:00:00.000000+0000', tz='UTC')\n",
    "t2 = pd.Timestamp('2012-10-31 23:59:59.999999+0000', tz='UTC')\n",
    "\n",
    "events_morton_201210= events_morton.loc[(events_morton['datetime'] > t1) & (events_morton['datetime'] < t2) ]\n",
    "\n",
    "events_morton_201210.head()"
   ]
  },
  {
   "cell_type": "code",
   "execution_count": 40,
   "id": "005b52ac",
   "metadata": {},
   "outputs": [
    {
     "data": {
      "text/plain": [
       "Timestamp('2015-10-07 21:45:50+0000', tz='UTC')"
      ]
     },
     "execution_count": 40,
     "metadata": {},
     "output_type": "execute_result"
    }
   ],
   "source": [
    "events_morton['datetime'].max()"
   ]
  },
  {
   "cell_type": "code",
   "execution_count": 3,
   "id": "97d45346",
   "metadata": {},
   "outputs": [
    {
     "data": {
      "text/plain": [
       "Index(['CI YEAR', 'TSTRING', 'YEAR', 'MONTH', 'DAY', 'HOUR', 'MINUTE',\n",
       "       'SECOND', 'LAT', 'LON', 'DEPTH', 'Md', 'Num P&S with weights > 0.1',\n",
       "       'max az gap', 'dist to nearest stn', 'tt RMS', 'ERH', 'ERZ', 'STRIKE',\n",
       "       'DIP', 'RAKE', 'PLATE DESIGNATION', 'TEMPLATE EVENT?', 'datetime'],\n",
       "      dtype='object')"
      ]
     },
     "execution_count": 3,
     "metadata": {},
     "output_type": "execute_result"
    }
   ],
   "source": [
    "events_morton_201210.keys()"
   ]
  },
  {
   "cell_type": "code",
   "execution_count": 4,
   "id": "e8d76cc0",
   "metadata": {},
   "outputs": [
    {
     "data": {
      "text/plain": [
       "91"
      ]
     },
     "execution_count": 4,
     "metadata": {},
     "output_type": "execute_result"
    }
   ],
   "source": [
    "len(events_morton_201210)"
   ]
  },
  {
   "cell_type": "markdown",
   "id": "d2499c46",
   "metadata": {},
   "source": [
    "## Our Catalog"
   ]
  },
  {
   "cell_type": "code",
   "execution_count": 5,
   "id": "f0456713",
   "metadata": {
    "scrolled": true
   },
   "outputs": [
    {
     "data": {
      "text/html": [
       "<div>\n",
       "<style scoped>\n",
       "    .dataframe tbody tr th:only-of-type {\n",
       "        vertical-align: middle;\n",
       "    }\n",
       "\n",
       "    .dataframe tbody tr th {\n",
       "        vertical-align: top;\n",
       "    }\n",
       "\n",
       "    .dataframe thead th {\n",
       "        text-align: right;\n",
       "    }\n",
       "</style>\n",
       "<table border=\"1\" class=\"dataframe\">\n",
       "  <thead>\n",
       "    <tr style=\"text-align: right;\">\n",
       "      <th></th>\n",
       "      <th>Unnamed: 0</th>\n",
       "      <th>idx</th>\n",
       "      <th>time</th>\n",
       "      <th>x</th>\n",
       "      <th>y</th>\n",
       "      <th>z</th>\n",
       "      <th>picks</th>\n",
       "      <th>latitude</th>\n",
       "      <th>longitude</th>\n",
       "      <th>depth</th>\n",
       "      <th>event_idx</th>\n",
       "      <th>pick_idx</th>\n",
       "      <th>residual</th>\n",
       "      <th>station</th>\n",
       "      <th>phase</th>\n",
       "      <th>time_pick</th>\n",
       "      <th>datetime</th>\n",
       "    </tr>\n",
       "  </thead>\n",
       "  <tbody>\n",
       "    <tr>\n",
       "      <th>0</th>\n",
       "      <td>0</td>\n",
       "      <td>0</td>\n",
       "      <td>2012-10-01 11:20:42.478249+00:00</td>\n",
       "      <td>-41.447175</td>\n",
       "      <td>-129.175148</td>\n",
       "      <td>0.390625</td>\n",
       "      <td>9</td>\n",
       "      <td>40.585822</td>\n",
       "      <td>-125.239573</td>\n",
       "      <td>0.390625</td>\n",
       "      <td>0</td>\n",
       "      <td>102879</td>\n",
       "      <td>0.167164</td>\n",
       "      <td>FS09B</td>\n",
       "      <td>P</td>\n",
       "      <td>1.349090e+09</td>\n",
       "      <td>2012-10-01 11:20:42.478249+00:00</td>\n",
       "    </tr>\n",
       "    <tr>\n",
       "      <th>1</th>\n",
       "      <td>1</td>\n",
       "      <td>0</td>\n",
       "      <td>2012-10-01 11:20:42.478249+00:00</td>\n",
       "      <td>-41.447175</td>\n",
       "      <td>-129.175148</td>\n",
       "      <td>0.390625</td>\n",
       "      <td>9</td>\n",
       "      <td>40.585822</td>\n",
       "      <td>-125.239573</td>\n",
       "      <td>0.390625</td>\n",
       "      <td>0</td>\n",
       "      <td>234293</td>\n",
       "      <td>-0.201824</td>\n",
       "      <td>FS09B</td>\n",
       "      <td>S</td>\n",
       "      <td>1.349090e+09</td>\n",
       "      <td>2012-10-01 11:20:42.478249+00:00</td>\n",
       "    </tr>\n",
       "    <tr>\n",
       "      <th>2</th>\n",
       "      <td>2</td>\n",
       "      <td>0</td>\n",
       "      <td>2012-10-01 11:20:42.478249+00:00</td>\n",
       "      <td>-41.447175</td>\n",
       "      <td>-129.175148</td>\n",
       "      <td>0.390625</td>\n",
       "      <td>9</td>\n",
       "      <td>40.585822</td>\n",
       "      <td>-125.239573</td>\n",
       "      <td>0.390625</td>\n",
       "      <td>0</td>\n",
       "      <td>201197</td>\n",
       "      <td>-0.257888</td>\n",
       "      <td>FS13B</td>\n",
       "      <td>S</td>\n",
       "      <td>1.349090e+09</td>\n",
       "      <td>2012-10-01 11:20:42.478249+00:00</td>\n",
       "    </tr>\n",
       "    <tr>\n",
       "      <th>3</th>\n",
       "      <td>3</td>\n",
       "      <td>0</td>\n",
       "      <td>2012-10-01 11:20:42.478249+00:00</td>\n",
       "      <td>-41.447175</td>\n",
       "      <td>-129.175148</td>\n",
       "      <td>0.390625</td>\n",
       "      <td>9</td>\n",
       "      <td>40.585822</td>\n",
       "      <td>-125.239573</td>\n",
       "      <td>0.390625</td>\n",
       "      <td>0</td>\n",
       "      <td>10240</td>\n",
       "      <td>0.576825</td>\n",
       "      <td>FS16B</td>\n",
       "      <td>P</td>\n",
       "      <td>1.349090e+09</td>\n",
       "      <td>2012-10-01 11:20:42.478249+00:00</td>\n",
       "    </tr>\n",
       "    <tr>\n",
       "      <th>4</th>\n",
       "      <td>4</td>\n",
       "      <td>0</td>\n",
       "      <td>2012-10-01 11:20:42.478249+00:00</td>\n",
       "      <td>-41.447175</td>\n",
       "      <td>-129.175148</td>\n",
       "      <td>0.390625</td>\n",
       "      <td>9</td>\n",
       "      <td>40.585822</td>\n",
       "      <td>-125.239573</td>\n",
       "      <td>0.390625</td>\n",
       "      <td>0</td>\n",
       "      <td>154758</td>\n",
       "      <td>-0.428595</td>\n",
       "      <td>FS16B</td>\n",
       "      <td>S</td>\n",
       "      <td>1.349090e+09</td>\n",
       "      <td>2012-10-01 11:20:42.478249+00:00</td>\n",
       "    </tr>\n",
       "  </tbody>\n",
       "</table>\n",
       "</div>"
      ],
      "text/plain": [
       "   Unnamed: 0  idx                              time          x           y  \\\n",
       "0           0    0  2012-10-01 11:20:42.478249+00:00 -41.447175 -129.175148   \n",
       "1           1    0  2012-10-01 11:20:42.478249+00:00 -41.447175 -129.175148   \n",
       "2           2    0  2012-10-01 11:20:42.478249+00:00 -41.447175 -129.175148   \n",
       "3           3    0  2012-10-01 11:20:42.478249+00:00 -41.447175 -129.175148   \n",
       "4           4    0  2012-10-01 11:20:42.478249+00:00 -41.447175 -129.175148   \n",
       "\n",
       "          z  picks   latitude   longitude     depth  event_idx  pick_idx  \\\n",
       "0  0.390625      9  40.585822 -125.239573  0.390625          0    102879   \n",
       "1  0.390625      9  40.585822 -125.239573  0.390625          0    234293   \n",
       "2  0.390625      9  40.585822 -125.239573  0.390625          0    201197   \n",
       "3  0.390625      9  40.585822 -125.239573  0.390625          0     10240   \n",
       "4  0.390625      9  40.585822 -125.239573  0.390625          0    154758   \n",
       "\n",
       "   residual station phase     time_pick                         datetime  \n",
       "0  0.167164   FS09B     P  1.349090e+09 2012-10-01 11:20:42.478249+00:00  \n",
       "1 -0.201824   FS09B     S  1.349090e+09 2012-10-01 11:20:42.478249+00:00  \n",
       "2 -0.257888   FS13B     S  1.349090e+09 2012-10-01 11:20:42.478249+00:00  \n",
       "3  0.576825   FS16B     P  1.349090e+09 2012-10-01 11:20:42.478249+00:00  \n",
       "4 -0.428595   FS16B     S  1.349090e+09 2012-10-01 11:20:42.478249+00:00  "
      ]
     },
     "execution_count": 5,
     "metadata": {},
     "output_type": "execute_result"
    }
   ],
   "source": [
    "# Load all the pick assignments \n",
    "mycatalog = pd.read_csv('../data/all_pick_assignments_october.csv')\n",
    "# Convert the time series in all_pick_assignments to datetime\n",
    "mycatalog['datetime'] = pd.to_datetime(mycatalog['time'], utc = True)\n",
    "mycatalog=mycatalog.loc[(mycatalog['datetime'] > t1) & (mycatalog['datetime'] < t2) ]\n",
    "mycatalog.head()"
   ]
  },
  {
   "cell_type": "code",
   "execution_count": 6,
   "id": "2909a172",
   "metadata": {
    "scrolled": true
   },
   "outputs": [
    {
     "name": "stdout",
     "output_type": "stream",
     "text": [
      "0 1 0 0 3.68\n",
      "1 2 11 1 2.37\n",
      "2 3 16 1 2.94\n",
      "3 4 14 1 2.8\n",
      "4 5 12 1 3.02\n",
      "5 6 18 1 3.03\n",
      "6 7 0 0 1.67\n",
      "7 8 16 1 3.26\n",
      "8 9 0 0 1.16\n",
      "9 10 13 1 2.78\n",
      "10 11 13 1 3.2\n",
      "11 12 0 0 2.26\n",
      "12 13 0 0 1.77\n",
      "13 14 0 0 2.55\n",
      "14 15 0 0 1.72\n",
      "15 16 10 1 2.19\n",
      "16 17 11 1 2.26\n",
      "17 18 16 1 3.21\n",
      "18 19 15 1 2.78\n",
      "19 20 18 1 2.75\n",
      "20 21 19 1 3.13\n",
      "21 22 10 1 2.83\n",
      "22 23 11 1 2.71\n",
      "23 24 0 0 2.44\n",
      "24 25 7 1 2.65\n",
      "25 26 11 1 2.43\n",
      "26 27 16 1 3.14\n",
      "27 28 12 1 2.95\n",
      "28 29 27 2 3.04\n",
      "29 30 0 0 2.5\n",
      "30 31 17 1 3.0\n",
      "31 32 0 0 1.61\n",
      "32 33 0 0 1.9\n",
      "33 34 16 1 2.5\n",
      "34 35 0 0 2.45\n",
      "35 36 19 2 2.51\n",
      "36 37 9 1 2.97\n",
      "37 38 11 1 2.6\n",
      "38 39 0 0 2.59\n",
      "39 40 8 1 2.55\n",
      "40 41 10 1 2.65\n",
      "41 42 11 1 2.43\n",
      "42 43 11 1 2.78\n",
      "43 44 0 0 1.94\n",
      "44 45 17 1 2.57\n",
      "45 46 9 1 2.74\n",
      "46 47 13 1 2.57\n",
      "47 48 0 0 2.09\n",
      "48 49 13 1 2.76\n",
      "49 50 26 1 3.33\n",
      "50 51 0 0 1.5\n",
      "51 52 10 1 2.44\n",
      "52 53 7 1 2.91\n",
      "53 54 7 1 2.35\n",
      "54 55 12 1 2.91\n",
      "55 56 10 1 2.45\n",
      "56 57 17 1 2.9\n",
      "57 58 14 1 2.96\n",
      "58 59 7 1 4.26\n",
      "59 60 8 1 4.06\n",
      "60 61 11 1 2.55\n",
      "61 62 14 1 2.99\n",
      "62 63 12 1 2.81\n",
      "63 64 11 1 2.8\n",
      "64 65 19 1 3.81\n",
      "65 66 0 0 2.64\n",
      "66 67 18 1 3.01\n",
      "67 68 0 0 2.08\n",
      "68 69 11 1 2.78\n",
      "69 70 8 1 2.17\n",
      "70 71 14 1 2.8\n",
      "71 72 19 1 3.13\n",
      "72 73 16 1 3.3\n",
      "73 74 14 1 2.64\n",
      "74 75 14 1 3.14\n",
      "75 76 8 1 2.79\n",
      "76 77 14 1 3.12\n",
      "77 78 10 1 2.47\n",
      "78 79 9 1 2.72\n",
      "79 80 18 1 3.02\n",
      "80 81 19 1 2.67\n",
      "81 82 11 1 2.82\n",
      "82 83 9 1 -9.0\n",
      "83 84 7 1 2.79\n",
      "84 85 8 1 2.87\n",
      "85 86 20 1 3.44\n",
      "86 87 0 0 2.13\n",
      "87 88 0 0 2.16\n",
      "88 89 8 1 2.39\n",
      "89 90 15 1 3.13\n",
      "90 91 14 1 2.64\n"
     ]
    }
   ],
   "source": [
    "matched_events_mycatalog= []\n",
    "matched_times_morton = []\n",
    "# matched_time_mycatalog = []\n",
    "# matched_time_morton = []\n",
    "unmatched_times_morton = []\n",
    "unmatched_events_mycatalog = []\n",
    "time_threshold = 2\n",
    "\n",
    "lat_morton=[]\n",
    "lon_morton=[]\n",
    "\n",
    "for i in range(len(events_morton_201210)):\n",
    "    t1 = events_morton_201210.iloc[i]['datetime']\n",
    "    matched_df = mycatalog.loc[(mycatalog['datetime'] > t1 - pd.Timedelta(time_threshold,'minutes')) & \n",
    "                               (mycatalog['datetime'] < t1 +pd.Timedelta(time_threshold,'minutes')) ]\n",
    "    \n",
    "    unmatched_df = mycatalog.loc[~((mycatalog['datetime'] > t1 - pd.Timedelta(time_threshold,'minutes')) & \n",
    "                               (mycatalog['datetime'] < t1 +pd.Timedelta(time_threshold,'minutes'))) ]\n",
    "    matched_events_mycatalog.append(matched_df)\n",
    "    unmatched_events_mycatalog.append(unmatched_df)\n",
    "    \n",
    "    if len(matched_df) > 0:\n",
    "        matched_times_morton.append(t1)\n",
    "        lat_morton.append(events_morton_201210.iloc[i]['LAT'])\n",
    "        lon_morton.append(events_morton_201210.iloc[i]['LON'])\n",
    "        \n",
    "        if len(matched_df['datetime'].unique()) > 1:\n",
    "            matched_times_morton.append(t1)\n",
    "            lat_morton.append(events_morton_201210.iloc[i]['LAT'])\n",
    "            lon_morton.append(events_morton_201210.iloc[i]['LON'])\n",
    "            \n",
    "        else: pass\n",
    "  \n",
    "    else: \n",
    "        unmatched_times_morton.append(t1)\n",
    "        \n",
    "\n",
    "    \n",
    "    print(i,len(matched_events_mycatalog),len(matched_df), len(matched_df['time'].unique()), events_morton_201210.iloc[i]['Md'])\n",
    "    "
   ]
  },
  {
   "cell_type": "code",
   "execution_count": 8,
   "id": "18442b45",
   "metadata": {},
   "outputs": [],
   "source": [
    "# Concatenate the list of dataframes\n",
    "matched_events_mycatalog = pd.concat(matched_events_mycatalog)\n",
    "# Drop duplicates by datetime\n",
    "matched_events_mycatalog = matched_events_mycatalog.drop_duplicates(subset=['datetime'])\n",
    "# Extract the datetimes \n",
    "matched_times_mycatalog = matched_events_mycatalog['datetime']\n",
    "# Concatenate the list of unmatched dataframes\n",
    "unmatched_times_mycatalog = pd.concat(unmatched_events_mycatalog)\n",
    "\n",
    "# Define the latitudes and longitudes for my catalog\n",
    "lat_mycatalog = matched_events_mycatalog['latitude']\n",
    "lon_mycatalog = matched_events_mycatalog['longitude']"
   ]
  },
  {
   "cell_type": "markdown",
   "id": "4b308175",
   "metadata": {},
   "source": [
    "## Plot the Origin Times"
   ]
  },
  {
   "cell_type": "code",
   "execution_count": 17,
   "id": "aa2d61a3",
   "metadata": {},
   "outputs": [
    {
     "data": {
      "text/plain": [
       "Text(0.5, 1.0, 'Scatter Plot: Origin Times of Matched Events')"
      ]
     },
     "execution_count": 17,
     "metadata": {},
     "output_type": "execute_result"
    },
    {
     "data": {
      "image/png": "[encoded data removed]",
      "text/plain": [
       "<Figure size 640x480 with 1 Axes>"
      ]
     },
     "metadata": {},
     "output_type": "display_data"
    }
   ],
   "source": [
    "# Make lists for plotting the 1:1 line\n",
    "x = pd.date_range(start='2012-10-1', end='2012-10-31', periods=len(matched_times_morton))\n",
    "y = pd.date_range(start='2012-10-1', end='2012-10-31', periods=len(matched_times_morton))\n",
    "\n",
    "# Plot the scatter plot\n",
    "plt.figure()\n",
    "plt.scatter(matched_times_mycatalog,matched_times_morton)\n",
    "plt.plot(x,y, 'k--')\n",
    "plt.xlabel('Origin Time of mycatalog')\n",
    "plt.ylabel('Origin Time of Morton')\n",
    "plt.title('Scatter Plot: Origin Times of Matched Events')"
   ]
  },
  {
   "cell_type": "markdown",
   "id": "fc43d9d5",
   "metadata": {},
   "source": [
    "## Plot the Latitudes from mycatalog and Morton's catalog"
   ]
  },
  {
   "cell_type": "code",
   "execution_count": 18,
   "id": "e77491ad",
   "metadata": {},
   "outputs": [
    {
     "data": {
      "text/plain": [
       "Text(0.5, 1.0, 'Scatter Plot: Latitudes of mycatalog vs.Latitudes of Morton')"
      ]
     },
     "execution_count": 18,
     "metadata": {},
     "output_type": "execute_result"
    },
    {
     "data": {
      "image/png": "[encoded data removed]",
      "text/plain": [
       "<Figure size 640x480 with 1 Axes>"
      ]
     },
     "metadata": {},
     "output_type": "display_data"
    }
   ],
   "source": [
    "# Plot the scatter plot\n",
    "plt.figure()\n",
    "lat_min = min(lat_mycatalog)\n",
    "lat_max = max(lat_mycatalog)\n",
    "\n",
    "# Make lists for plotting the 1:1 line\n",
    "x_lat = np.linspace(lat_min, lat_max, 10)\n",
    "y_lat = np.linspace(lat_min, lat_max, 10)\n",
    "plt.scatter(lat_mycatalog,lat_morton)\n",
    "plt.plot(x_lat,y_lat, 'k--')\n",
    "plt.xlabel('Latitudes of mycatalog ($^\\circ$)')\n",
    "plt.ylabel('Latitudes of Morton ($^\\circ$)')\n",
    "plt.title('Scatter Plot: Latitudes of mycatalog vs.Latitudes of Morton')"
   ]
  },
  {
   "cell_type": "markdown",
   "id": "fc628b1a",
   "metadata": {},
   "source": [
    "## Plot the longitudes from mycatalog and Morton's catalog"
   ]
  },
  {
   "cell_type": "code",
   "execution_count": 19,
   "id": "1e3873dd",
   "metadata": {},
   "outputs": [
    {
     "data": {
      "text/plain": [
       "Text(0.5, 1.0, 'Scatter Plot: Longitudes of mycatalog vs.Longitudes of Morton')"
      ]
     },
     "execution_count": 19,
     "metadata": {},
     "output_type": "execute_result"
    },
    {
     "data": {
      "image/png": "[encoded data removed]",
      "text/plain": [
       "<Figure size 640x480 with 1 Axes>"
      ]
     },
     "metadata": {},
     "output_type": "display_data"
    }
   ],
   "source": [
    "# Plot the scatter plot\n",
    "plt.figure()\n",
    "lon_min = min(lon_mycatalog)\n",
    "lon_max = max(lon_mycatalog)\n",
    "\n",
    "# Make lists for plotting the 1:1 line\n",
    "x_lon = np.linspace(lon_min, lon_max, 10)\n",
    "y_lon = np.linspace(lon_min, lon_max, 10)\n",
    "plt.scatter(lon_mycatalog,lon_morton)\n",
    "plt.plot(x_lon,y_lon, 'k--')\n",
    "plt.xlabel('Longitudes of mycatalog ($^\\circ$)')\n",
    "plt.ylabel('Longitudes of Morton ($^\\circ$)')\n",
    "plt.title('Scatter Plot: Longitudes of mycatalog vs.Longitudes of Morton')"
   ]
  },
  {
   "cell_type": "markdown",
   "id": "bf7c25f0",
   "metadata": {},
   "source": [
    "## Histograms\n",
    "Make histograms of mycatalog vs. Morton's catalog"
   ]
  },
  {
   "cell_type": "markdown",
   "id": "f814dcb8",
   "metadata": {},
   "source": [
    "### Histogram: All of our catalog (767 events)"
   ]
  },
  {
   "cell_type": "code",
   "execution_count": 30,
   "id": "6a8dd51a",
   "metadata": {},
   "outputs": [],
   "source": [
    "events_october = pd.read_csv('../data/events_october.csv')"
   ]
  },
  {
   "cell_type": "code",
   "execution_count": 16,
   "id": "89ee3a2a",
   "metadata": {},
   "outputs": [
    {
     "data": {
      "text/plain": [
       "(290, 73, 91)"
      ]
     },
     "execution_count": 16,
     "metadata": {},
     "output_type": "execute_result"
    }
   ],
   "source": [
    "len(events_october),len(matched_events_mycatalog),len(unmatched_events_mycatalog)"
   ]
  },
  {
   "cell_type": "code",
   "execution_count": 38,
   "id": "ef3bf355",
   "metadata": {},
   "outputs": [
    {
     "data": {
      "text/plain": [
       "Text(0.5, 1.0, 'Histogram of Matched Events: Picks vs. the Number of Events')"
      ]
     },
     "execution_count": 38,
     "metadata": {},
     "output_type": "execute_result"
    },
    {
     "data": {
      "text/plain": [
       "<Figure size 640x480 with 0 Axes>"
      ]
     },
     "metadata": {},
     "output_type": "display_data"
    },
    {
     "data": {
      "image/png": "[encoded data removed]",
      "text/plain": [
       "<Figure size 640x480 with 2 Axes>"
      ]
     },
     "metadata": {},
     "output_type": "display_data"
    }
   ],
   "source": [
    "# Plot the histogram of the number of picks for all events in events_october.csv\n",
    "plt.figure()\n",
    "fig,ax = plt.subplots(2,sharex=True)\n",
    "bins = np.linspace(5,26,20)\n",
    "ax[0].hist(events_october['picks'], bins=bins)\n",
    "\n",
    "# ax[0].set_xlabel('Number of Picks')\n",
    "ax[0].set_ylabel('Number of Events')\n",
    "ax[0].set_title('Histogram of Picks vs. the Number of Events')\n",
    "\n",
    "ax[1].hist(matched_events_mycatalog['picks'],bins=bins)\n",
    "ax[1].set_xlabel('Number of Picks')\n",
    "ax[1].set_ylabel('Number of Events')\n",
    "ax[1].set_title('Histogram of Matched Events: Picks vs. the Number of Events')"
   ]
  },
  {
   "cell_type": "markdown",
   "id": "0039ec69",
   "metadata": {},
   "source": [
    "### Histogram: Those matched with Morton (73 events)"
   ]
  },
  {
   "cell_type": "code",
   "execution_count": 34,
   "id": "0e453e8b",
   "metadata": {},
   "outputs": [
    {
     "data": {
      "text/plain": [
       "Text(0.5, 1.0, 'Histogram of Matched Events: Picks vs. the Number of Events')"
      ]
     },
     "execution_count": 34,
     "metadata": {},
     "output_type": "execute_result"
    },
    {
     "data": {
      "image/png": "[encoded data removed]",
      "text/plain": [
       "<Figure size 640x480 with 1 Axes>"
      ]
     },
     "metadata": {},
     "output_type": "display_data"
    }
   ],
   "source": [
    "# Plot the histogram of the number of picks for the matched events\n",
    "plt.figure()\n",
    "plt.hist(matched_events_mycatalog['picks'],bins=20)\n",
    "plt.xlabel('Number of Picks')\n",
    "plt.ylabel('Number of Events')\n",
    "plt.title('Histogram of Matched Events: Picks vs. the Number of Events')"
   ]
  },
  {
   "cell_type": "markdown",
   "id": "5a92dc43",
   "metadata": {},
   "source": [
    "### Plot the waveforms of one of the matched events "
   ]
  },
  {
   "cell_type": "code",
   "execution_count": 20,
   "id": "ff5cf441",
   "metadata": {},
   "outputs": [],
   "source": [
    "client = WaveformClient()\n",
    "client2 = Client(\"IRIS\")"
   ]
  },
  {
   "cell_type": "code",
   "execution_count": 21,
   "id": "767e1e4d",
   "metadata": {},
   "outputs": [],
   "source": [
    "# Get the list of stations\n",
    "station_list = ['FS09B',\n",
    " 'FS13B',\n",
    " 'FS16B',\n",
    " 'FS17B',\n",
    " 'FS20B',\n",
    " 'G10B',\n",
    " 'G17B',\n",
    " 'G19B',\n",
    " 'G25B',\n",
    " 'G26B',\n",
    " 'G27B',\n",
    " 'J09B',\n",
    " 'J25B',\n",
    " 'J33B',\n",
    " 'M09B',\n",
    " 'M12B',\n",
    " 'M14B']"
   ]
  },
  {
   "cell_type": "code",
   "execution_count": 22,
   "id": "1887aeb6",
   "metadata": {},
   "outputs": [
    {
     "data": {
      "text/html": [
       "<div>\n",
       "<style scoped>\n",
       "    .dataframe tbody tr th:only-of-type {\n",
       "        vertical-align: middle;\n",
       "    }\n",
       "\n",
       "    .dataframe tbody tr th {\n",
       "        vertical-align: top;\n",
       "    }\n",
       "\n",
       "    .dataframe thead th {\n",
       "        text-align: right;\n",
       "    }\n",
       "</style>\n",
       "<table border=\"1\" class=\"dataframe\">\n",
       "  <thead>\n",
       "    <tr style=\"text-align: right;\">\n",
       "      <th></th>\n",
       "      <th>Unnamed: 0</th>\n",
       "      <th>idx</th>\n",
       "      <th>time</th>\n",
       "      <th>x</th>\n",
       "      <th>y</th>\n",
       "      <th>z</th>\n",
       "      <th>picks</th>\n",
       "      <th>latitude</th>\n",
       "      <th>longitude</th>\n",
       "      <th>depth</th>\n",
       "      <th>event_idx</th>\n",
       "      <th>pick_idx</th>\n",
       "      <th>residual</th>\n",
       "      <th>station</th>\n",
       "      <th>phase</th>\n",
       "      <th>time_pick</th>\n",
       "      <th>datetime</th>\n",
       "    </tr>\n",
       "  </thead>\n",
       "  <tbody>\n",
       "    <tr>\n",
       "      <th>111</th>\n",
       "      <td>111</td>\n",
       "      <td>9</td>\n",
       "      <td>2012-10-02 04:25:44.543163+00:00</td>\n",
       "      <td>-39.112123</td>\n",
       "      <td>-126.888657</td>\n",
       "      <td>46.484375</td>\n",
       "      <td>16</td>\n",
       "      <td>40.606525</td>\n",
       "      <td>-125.212134</td>\n",
       "      <td>46.484375</td>\n",
       "      <td>9</td>\n",
       "      <td>6902</td>\n",
       "      <td>0.361531</td>\n",
       "      <td>FS09B</td>\n",
       "      <td>P</td>\n",
       "      <td>1.349152e+09</td>\n",
       "      <td>2012-10-02 04:25:44.543163+00:00</td>\n",
       "    </tr>\n",
       "    <tr>\n",
       "      <th>112</th>\n",
       "      <td>112</td>\n",
       "      <td>9</td>\n",
       "      <td>2012-10-02 04:25:44.543163+00:00</td>\n",
       "      <td>-39.112123</td>\n",
       "      <td>-126.888657</td>\n",
       "      <td>46.484375</td>\n",
       "      <td>16</td>\n",
       "      <td>40.606525</td>\n",
       "      <td>-125.212134</td>\n",
       "      <td>46.484375</td>\n",
       "      <td>9</td>\n",
       "      <td>152613</td>\n",
       "      <td>-0.064018</td>\n",
       "      <td>FS09B</td>\n",
       "      <td>S</td>\n",
       "      <td>1.349152e+09</td>\n",
       "      <td>2012-10-02 04:25:44.543163+00:00</td>\n",
       "    </tr>\n",
       "    <tr>\n",
       "      <th>113</th>\n",
       "      <td>113</td>\n",
       "      <td>9</td>\n",
       "      <td>2012-10-02 04:25:44.543163+00:00</td>\n",
       "      <td>-39.112123</td>\n",
       "      <td>-126.888657</td>\n",
       "      <td>46.484375</td>\n",
       "      <td>16</td>\n",
       "      <td>40.606525</td>\n",
       "      <td>-125.212134</td>\n",
       "      <td>46.484375</td>\n",
       "      <td>9</td>\n",
       "      <td>36390</td>\n",
       "      <td>0.094475</td>\n",
       "      <td>FS13B</td>\n",
       "      <td>P</td>\n",
       "      <td>1.349152e+09</td>\n",
       "      <td>2012-10-02 04:25:44.543163+00:00</td>\n",
       "    </tr>\n",
       "    <tr>\n",
       "      <th>114</th>\n",
       "      <td>114</td>\n",
       "      <td>9</td>\n",
       "      <td>2012-10-02 04:25:44.543163+00:00</td>\n",
       "      <td>-39.112123</td>\n",
       "      <td>-126.888657</td>\n",
       "      <td>46.484375</td>\n",
       "      <td>16</td>\n",
       "      <td>40.606525</td>\n",
       "      <td>-125.212134</td>\n",
       "      <td>46.484375</td>\n",
       "      <td>9</td>\n",
       "      <td>178595</td>\n",
       "      <td>-0.238808</td>\n",
       "      <td>FS13B</td>\n",
       "      <td>S</td>\n",
       "      <td>1.349152e+09</td>\n",
       "      <td>2012-10-02 04:25:44.543163+00:00</td>\n",
       "    </tr>\n",
       "    <tr>\n",
       "      <th>115</th>\n",
       "      <td>115</td>\n",
       "      <td>9</td>\n",
       "      <td>2012-10-02 04:25:44.543163+00:00</td>\n",
       "      <td>-39.112123</td>\n",
       "      <td>-126.888657</td>\n",
       "      <td>46.484375</td>\n",
       "      <td>16</td>\n",
       "      <td>40.606525</td>\n",
       "      <td>-125.212134</td>\n",
       "      <td>46.484375</td>\n",
       "      <td>9</td>\n",
       "      <td>258976</td>\n",
       "      <td>0.083944</td>\n",
       "      <td>FS16B</td>\n",
       "      <td>S</td>\n",
       "      <td>1.349152e+09</td>\n",
       "      <td>2012-10-02 04:25:44.543163+00:00</td>\n",
       "    </tr>\n",
       "    <tr>\n",
       "      <th>116</th>\n",
       "      <td>116</td>\n",
       "      <td>9</td>\n",
       "      <td>2012-10-02 04:25:44.543163+00:00</td>\n",
       "      <td>-39.112123</td>\n",
       "      <td>-126.888657</td>\n",
       "      <td>46.484375</td>\n",
       "      <td>16</td>\n",
       "      <td>40.606525</td>\n",
       "      <td>-125.212134</td>\n",
       "      <td>46.484375</td>\n",
       "      <td>9</td>\n",
       "      <td>19142</td>\n",
       "      <td>-0.150697</td>\n",
       "      <td>FS20B</td>\n",
       "      <td>P</td>\n",
       "      <td>1.349152e+09</td>\n",
       "      <td>2012-10-02 04:25:44.543163+00:00</td>\n",
       "    </tr>\n",
       "    <tr>\n",
       "      <th>117</th>\n",
       "      <td>117</td>\n",
       "      <td>9</td>\n",
       "      <td>2012-10-02 04:25:44.543163+00:00</td>\n",
       "      <td>-39.112123</td>\n",
       "      <td>-126.888657</td>\n",
       "      <td>46.484375</td>\n",
       "      <td>16</td>\n",
       "      <td>40.606525</td>\n",
       "      <td>-125.212134</td>\n",
       "      <td>46.484375</td>\n",
       "      <td>9</td>\n",
       "      <td>162527</td>\n",
       "      <td>-1.043796</td>\n",
       "      <td>FS20B</td>\n",
       "      <td>S</td>\n",
       "      <td>1.349152e+09</td>\n",
       "      <td>2012-10-02 04:25:44.543163+00:00</td>\n",
       "    </tr>\n",
       "    <tr>\n",
       "      <th>118</th>\n",
       "      <td>118</td>\n",
       "      <td>9</td>\n",
       "      <td>2012-10-02 04:25:44.543163+00:00</td>\n",
       "      <td>-39.112123</td>\n",
       "      <td>-126.888657</td>\n",
       "      <td>46.484375</td>\n",
       "      <td>16</td>\n",
       "      <td>40.606525</td>\n",
       "      <td>-125.212134</td>\n",
       "      <td>46.484375</td>\n",
       "      <td>9</td>\n",
       "      <td>98433</td>\n",
       "      <td>0.598144</td>\n",
       "      <td>G10B</td>\n",
       "      <td>P</td>\n",
       "      <td>1.349152e+09</td>\n",
       "      <td>2012-10-02 04:25:44.543163+00:00</td>\n",
       "    </tr>\n",
       "    <tr>\n",
       "      <th>119</th>\n",
       "      <td>119</td>\n",
       "      <td>9</td>\n",
       "      <td>2012-10-02 04:25:44.543163+00:00</td>\n",
       "      <td>-39.112123</td>\n",
       "      <td>-126.888657</td>\n",
       "      <td>46.484375</td>\n",
       "      <td>16</td>\n",
       "      <td>40.606525</td>\n",
       "      <td>-125.212134</td>\n",
       "      <td>46.484375</td>\n",
       "      <td>9</td>\n",
       "      <td>229899</td>\n",
       "      <td>0.303516</td>\n",
       "      <td>G10B</td>\n",
       "      <td>S</td>\n",
       "      <td>1.349152e+09</td>\n",
       "      <td>2012-10-02 04:25:44.543163+00:00</td>\n",
       "    </tr>\n",
       "    <tr>\n",
       "      <th>120</th>\n",
       "      <td>120</td>\n",
       "      <td>9</td>\n",
       "      <td>2012-10-02 04:25:44.543163+00:00</td>\n",
       "      <td>-39.112123</td>\n",
       "      <td>-126.888657</td>\n",
       "      <td>46.484375</td>\n",
       "      <td>16</td>\n",
       "      <td>40.606525</td>\n",
       "      <td>-125.212134</td>\n",
       "      <td>46.484375</td>\n",
       "      <td>9</td>\n",
       "      <td>198925</td>\n",
       "      <td>-0.151089</td>\n",
       "      <td>G17B</td>\n",
       "      <td>S</td>\n",
       "      <td>1.349152e+09</td>\n",
       "      <td>2012-10-02 04:25:44.543163+00:00</td>\n",
       "    </tr>\n",
       "    <tr>\n",
       "      <th>121</th>\n",
       "      <td>121</td>\n",
       "      <td>9</td>\n",
       "      <td>2012-10-02 04:25:44.543163+00:00</td>\n",
       "      <td>-39.112123</td>\n",
       "      <td>-126.888657</td>\n",
       "      <td>46.484375</td>\n",
       "      <td>16</td>\n",
       "      <td>40.606525</td>\n",
       "      <td>-125.212134</td>\n",
       "      <td>46.484375</td>\n",
       "      <td>9</td>\n",
       "      <td>27683</td>\n",
       "      <td>0.517542</td>\n",
       "      <td>G19B</td>\n",
       "      <td>P</td>\n",
       "      <td>1.349152e+09</td>\n",
       "      <td>2012-10-02 04:25:44.543163+00:00</td>\n",
       "    </tr>\n",
       "    <tr>\n",
       "      <th>122</th>\n",
       "      <td>122</td>\n",
       "      <td>9</td>\n",
       "      <td>2012-10-02 04:25:44.543163+00:00</td>\n",
       "      <td>-39.112123</td>\n",
       "      <td>-126.888657</td>\n",
       "      <td>46.484375</td>\n",
       "      <td>16</td>\n",
       "      <td>40.606525</td>\n",
       "      <td>-125.212134</td>\n",
       "      <td>46.484375</td>\n",
       "      <td>9</td>\n",
       "      <td>169880</td>\n",
       "      <td>-0.343278</td>\n",
       "      <td>G19B</td>\n",
       "      <td>S</td>\n",
       "      <td>1.349152e+09</td>\n",
       "      <td>2012-10-02 04:25:44.543163+00:00</td>\n",
       "    </tr>\n",
       "    <tr>\n",
       "      <th>123</th>\n",
       "      <td>123</td>\n",
       "      <td>9</td>\n",
       "      <td>2012-10-02 04:25:44.543163+00:00</td>\n",
       "      <td>-39.112123</td>\n",
       "      <td>-126.888657</td>\n",
       "      <td>46.484375</td>\n",
       "      <td>16</td>\n",
       "      <td>40.606525</td>\n",
       "      <td>-125.212134</td>\n",
       "      <td>46.484375</td>\n",
       "      <td>9</td>\n",
       "      <td>249931</td>\n",
       "      <td>-0.419018</td>\n",
       "      <td>G25B</td>\n",
       "      <td>S</td>\n",
       "      <td>1.349152e+09</td>\n",
       "      <td>2012-10-02 04:25:44.543163+00:00</td>\n",
       "    </tr>\n",
       "    <tr>\n",
       "      <th>124</th>\n",
       "      <td>124</td>\n",
       "      <td>9</td>\n",
       "      <td>2012-10-02 04:25:44.543163+00:00</td>\n",
       "      <td>-39.112123</td>\n",
       "      <td>-126.888657</td>\n",
       "      <td>46.484375</td>\n",
       "      <td>16</td>\n",
       "      <td>40.606525</td>\n",
       "      <td>-125.212134</td>\n",
       "      <td>46.484375</td>\n",
       "      <td>9</td>\n",
       "      <td>56246</td>\n",
       "      <td>-0.055123</td>\n",
       "      <td>G26B</td>\n",
       "      <td>P</td>\n",
       "      <td>1.349152e+09</td>\n",
       "      <td>2012-10-02 04:25:44.543163+00:00</td>\n",
       "    </tr>\n",
       "    <tr>\n",
       "      <th>125</th>\n",
       "      <td>125</td>\n",
       "      <td>9</td>\n",
       "      <td>2012-10-02 04:25:44.543163+00:00</td>\n",
       "      <td>-39.112123</td>\n",
       "      <td>-126.888657</td>\n",
       "      <td>46.484375</td>\n",
       "      <td>16</td>\n",
       "      <td>40.606525</td>\n",
       "      <td>-125.212134</td>\n",
       "      <td>46.484375</td>\n",
       "      <td>9</td>\n",
       "      <td>192058</td>\n",
       "      <td>-0.493111</td>\n",
       "      <td>G26B</td>\n",
       "      <td>S</td>\n",
       "      <td>1.349152e+09</td>\n",
       "      <td>2012-10-02 04:25:44.543163+00:00</td>\n",
       "    </tr>\n",
       "    <tr>\n",
       "      <th>126</th>\n",
       "      <td>126</td>\n",
       "      <td>9</td>\n",
       "      <td>2012-10-02 04:25:44.543163+00:00</td>\n",
       "      <td>-39.112123</td>\n",
       "      <td>-126.888657</td>\n",
       "      <td>46.484375</td>\n",
       "      <td>16</td>\n",
       "      <td>40.606525</td>\n",
       "      <td>-125.212134</td>\n",
       "      <td>46.484375</td>\n",
       "      <td>9</td>\n",
       "      <td>224772</td>\n",
       "      <td>0.999788</td>\n",
       "      <td>M14B</td>\n",
       "      <td>S</td>\n",
       "      <td>1.349152e+09</td>\n",
       "      <td>2012-10-02 04:25:44.543163+00:00</td>\n",
       "    </tr>\n",
       "  </tbody>\n",
       "</table>\n",
       "</div>"
      ],
      "text/plain": [
       "     Unnamed: 0  idx                              time          x           y  \\\n",
       "111         111    9  2012-10-02 04:25:44.543163+00:00 -39.112123 -126.888657   \n",
       "112         112    9  2012-10-02 04:25:44.543163+00:00 -39.112123 -126.888657   \n",
       "113         113    9  2012-10-02 04:25:44.543163+00:00 -39.112123 -126.888657   \n",
       "114         114    9  2012-10-02 04:25:44.543163+00:00 -39.112123 -126.888657   \n",
       "115         115    9  2012-10-02 04:25:44.543163+00:00 -39.112123 -126.888657   \n",
       "116         116    9  2012-10-02 04:25:44.543163+00:00 -39.112123 -126.888657   \n",
       "117         117    9  2012-10-02 04:25:44.543163+00:00 -39.112123 -126.888657   \n",
       "118         118    9  2012-10-02 04:25:44.543163+00:00 -39.112123 -126.888657   \n",
       "119         119    9  2012-10-02 04:25:44.543163+00:00 -39.112123 -126.888657   \n",
       "120         120    9  2012-10-02 04:25:44.543163+00:00 -39.112123 -126.888657   \n",
       "121         121    9  2012-10-02 04:25:44.543163+00:00 -39.112123 -126.888657   \n",
       "122         122    9  2012-10-02 04:25:44.543163+00:00 -39.112123 -126.888657   \n",
       "123         123    9  2012-10-02 04:25:44.543163+00:00 -39.112123 -126.888657   \n",
       "124         124    9  2012-10-02 04:25:44.543163+00:00 -39.112123 -126.888657   \n",
       "125         125    9  2012-10-02 04:25:44.543163+00:00 -39.112123 -126.888657   \n",
       "126         126    9  2012-10-02 04:25:44.543163+00:00 -39.112123 -126.888657   \n",
       "\n",
       "             z  picks   latitude   longitude      depth  event_idx  pick_idx  \\\n",
       "111  46.484375     16  40.606525 -125.212134  46.484375          9      6902   \n",
       "112  46.484375     16  40.606525 -125.212134  46.484375          9    152613   \n",
       "113  46.484375     16  40.606525 -125.212134  46.484375          9     36390   \n",
       "114  46.484375     16  40.606525 -125.212134  46.484375          9    178595   \n",
       "115  46.484375     16  40.606525 -125.212134  46.484375          9    258976   \n",
       "116  46.484375     16  40.606525 -125.212134  46.484375          9     19142   \n",
       "117  46.484375     16  40.606525 -125.212134  46.484375          9    162527   \n",
       "118  46.484375     16  40.606525 -125.212134  46.484375          9     98433   \n",
       "119  46.484375     16  40.606525 -125.212134  46.484375          9    229899   \n",
       "120  46.484375     16  40.606525 -125.212134  46.484375          9    198925   \n",
       "121  46.484375     16  40.606525 -125.212134  46.484375          9     27683   \n",
       "122  46.484375     16  40.606525 -125.212134  46.484375          9    169880   \n",
       "123  46.484375     16  40.606525 -125.212134  46.484375          9    249931   \n",
       "124  46.484375     16  40.606525 -125.212134  46.484375          9     56246   \n",
       "125  46.484375     16  40.606525 -125.212134  46.484375          9    192058   \n",
       "126  46.484375     16  40.606525 -125.212134  46.484375          9    224772   \n",
       "\n",
       "     residual station phase     time_pick                         datetime  \n",
       "111  0.361531   FS09B     P  1.349152e+09 2012-10-02 04:25:44.543163+00:00  \n",
       "112 -0.064018   FS09B     S  1.349152e+09 2012-10-02 04:25:44.543163+00:00  \n",
       "113  0.094475   FS13B     P  1.349152e+09 2012-10-02 04:25:44.543163+00:00  \n",
       "114 -0.238808   FS13B     S  1.349152e+09 2012-10-02 04:25:44.543163+00:00  \n",
       "115  0.083944   FS16B     S  1.349152e+09 2012-10-02 04:25:44.543163+00:00  \n",
       "116 -0.150697   FS20B     P  1.349152e+09 2012-10-02 04:25:44.543163+00:00  \n",
       "117 -1.043796   FS20B     S  1.349152e+09 2012-10-02 04:25:44.543163+00:00  \n",
       "118  0.598144    G10B     P  1.349152e+09 2012-10-02 04:25:44.543163+00:00  \n",
       "119  0.303516    G10B     S  1.349152e+09 2012-10-02 04:25:44.543163+00:00  \n",
       "120 -0.151089    G17B     S  1.349152e+09 2012-10-02 04:25:44.543163+00:00  \n",
       "121  0.517542    G19B     P  1.349152e+09 2012-10-02 04:25:44.543163+00:00  \n",
       "122 -0.343278    G19B     S  1.349152e+09 2012-10-02 04:25:44.543163+00:00  \n",
       "123 -0.419018    G25B     S  1.349152e+09 2012-10-02 04:25:44.543163+00:00  \n",
       "124 -0.055123    G26B     P  1.349152e+09 2012-10-02 04:25:44.543163+00:00  \n",
       "125 -0.493111    G26B     S  1.349152e+09 2012-10-02 04:25:44.543163+00:00  \n",
       "126  0.999788    M14B     S  1.349152e+09 2012-10-02 04:25:44.543163+00:00  "
      ]
     },
     "execution_count": 22,
     "metadata": {},
     "output_type": "execute_result"
    }
   ],
   "source": [
    "mycatalog[mycatalog['idx'] == 9]"
   ]
  },
  {
   "cell_type": "code",
   "execution_count": 23,
   "id": "9a11da12",
   "metadata": {},
   "outputs": [
    {
     "data": {
      "text/plain": [
       "array(['FS09B', 'FS13B', 'FS16B', 'FS20B', 'G10B', 'G25B', 'FS17B',\n",
       "       'G19B', 'M14B', 'G26B', 'G17B', 'G27B', 'M12B', 'J33B', 'M09B',\n",
       "       'J09B', 'J25B'], dtype=object)"
      ]
     },
     "execution_count": 23,
     "metadata": {},
     "output_type": "execute_result"
    }
   ],
   "source": [
    "mycatalog['station'].unique()"
   ]
  },
  {
   "cell_type": "code",
   "execution_count": 24,
   "id": "cb1a3700",
   "metadata": {},
   "outputs": [
    {
     "ename": "NameError",
     "evalue": "name 'distances' is not defined",
     "output_type": "error",
     "traceback": [
      "\u001b[0;31m---------------------------------------------------------------------------\u001b[0m",
      "\u001b[0;31mNameError\u001b[0m                                 Traceback (most recent call last)",
      "Cell \u001b[0;32mIn[24], line 1\u001b[0m\n\u001b[0;32m----> 1\u001b[0m \u001b[43mdistances\u001b[49m\n",
      "\u001b[0;31mNameError\u001b[0m: name 'distances' is not defined"
     ]
    }
   ],
   "source": [
    "distances"
   ]
  },
  {
   "cell_type": "code",
   "execution_count": 25,
   "id": "47d8388e",
   "metadata": {},
   "outputs": [
    {
     "ename": "NameError",
     "evalue": "name 'distances' is not defined",
     "output_type": "error",
     "traceback": [
      "\u001b[0;31m---------------------------------------------------------------------------\u001b[0m",
      "\u001b[0;31mNameError\u001b[0m                                 Traceback (most recent call last)",
      "Cell \u001b[0;32mIn[25], line 1\u001b[0m\n\u001b[0;32m----> 1\u001b[0m \u001b[43mdistances\u001b[49m\u001b[38;5;241m.\u001b[39mkeys()\n",
      "\u001b[0;31mNameError\u001b[0m: name 'distances' is not defined"
     ]
    }
   ],
   "source": [
    "distances.keys()"
   ]
  },
  {
   "cell_type": "code",
   "execution_count": 29,
   "id": "58ef44fc",
   "metadata": {},
   "outputs": [
    {
     "name": "stdout",
     "output_type": "stream",
     "text": [
      "2012-10-01T11:20:42.478249Z\n"
     ]
    },
    {
     "data": {
      "text/plain": [
       "<Figure size 2250x1500 with 0 Axes>"
      ]
     },
     "metadata": {},
     "output_type": "display_data"
    }
   ],
   "source": [
    "idx = 0\n",
    "otime = UTCDateTime(mycatalog['datetime'].unique()[idx])\n",
    "distances = {}\n",
    "for i, sta in enumerate(station_list):\n",
    "    sta_inv = client2.get_stations(network = \"7D\", station = sta, channel = \"?H?\", \n",
    "                     starttime = otime - 1e4, endtime = otime + 1e4)[0][0]\n",
    "    slat = sta_inv.latitude\n",
    "    slon = sta_inv.longitude\n",
    "    olat = mycatalog['latitude'].unique()[idx]\n",
    "    olon = mycatalog['longitude'].unique()[idx]\n",
    "\n",
    "    dis1 = locations2degrees(olat, olon, slat, slon)\n",
    "    dist = degrees2kilometers(dis1)\n",
    "    distances[sta] = dist\n",
    "distances = {k: v for k, v in sorted(distances.items(), key=lambda item: item[1])}\n",
    "# print(distances.keys())\n",
    "print(otime)\n",
    "plt.figure(figsize=(15,10), dpi=150)\n",
    "for i, sta in enumerate(distances.keys()):\n",
    "    st = client.get_waveforms(network=\"7D\", station=sta, channel=\"?H?\", year=2012, month=10, day=14)\n",
    "    st = obspy.Stream(filter(lambda st:st.stats.sampling_rate>10, st))\n",
    "    st.filter(type='bandpass',freqmin=4,freqmax=15)\n",
    "\n",
    "    trim_st = st.copy().trim(starttime = otime - 30, \n",
    "                endtime = otime + 60)\n",
    "    if len(trim_st)>0:\n",
    "        trim_st = trim_st.normalize()\n",
    "        offsets1  = np.arange(0,len(trim_st))\n",
    "        offsets2 = np.arange(0,len(station_list)* (len(trim_st)),len(trim_st))\n",
    "\n",
    "        for ii in range(len(trim_st)):\n",
    "            plt.plot(trim_st[ii].times(type='utcdatetime'), trim_st[ii].data+offsets1[ii]*0.5+offsets2[i], \n",
    "                     color = 'gray', alpha=0.7, lw=0.5)    \n",
    "        time_pick = [[x['time_pick'], x['phase']] for _, x in mycatalog[mycatalog['idx'] == idx].iterrows() \n",
    "                     if x['station'] == sta]\n",
    "        if len(time_pick) > 0:\n",
    "            for p in time_pick:\n",
    "                if p[1] == 'P':\n",
    "                    plt.vlines(p[0], offsets1[ii]*0.5+offsets2[i]-1, \n",
    "                                     offsets1[ii]*0.5+offsets2[i]+1, color='r')\n",
    "                else:\n",
    "                    plt.vlines(p[0], offsets1[ii]*0.5+offsets2[i]-1, \n",
    "                                     offsets1[ii]*0.5+offsets2[i]+1, color='b')\n",
    "    else:                 \n",
    "        pass \n",
    "plt.show()"
   ]
  },
  {
   "cell_type": "code",
   "execution_count": 27,
   "id": "fac5cf02",
   "metadata": {},
   "outputs": [
    {
     "data": {
      "text/plain": [
       "3 Trace(s) in Stream:\n",
       "7D.FS16B..HH1 | 2012-10-14T00:00:00.004500Z - 2012-10-14T23:59:59.996500Z | 125.0 Hz, 10800000 samples\n",
       "7D.FS16B..HH2 | 2012-10-14T00:00:00.004500Z - 2012-10-14T23:59:59.996500Z | 125.0 Hz, 10800000 samples\n",
       "7D.FS16B..HHZ | 2012-10-14T00:00:00.004500Z - 2012-10-14T23:59:59.996500Z | 125.0 Hz, 10800000 samples"
      ]
     },
     "execution_count": 27,
     "metadata": {},
     "output_type": "execute_result"
    }
   ],
   "source": [
    "st = client.get_waveforms(network=\"7D\", station='FS16B', channel=\"?H?\", year=2012, month=10, day=14)\n",
    "st = obspy.Stream(filter(lambda st:st.stats.sampling_rate>10, st))\n",
    "st.filter(type='bandpass',freqmin=4,freqmax=15)\n",
    "\n",
    "trim_st = st.copy().trim(starttime = otime - 30, \n",
    "            endtime = otime + 60)\n",
    "trim_st\n",
    "st"
   ]
  },
  {
   "cell_type": "code",
   "execution_count": 28,
   "id": "3a8522e0",
   "metadata": {},
   "outputs": [
    {
     "data": {
      "text/plain": [
       "2012-10-01T11:20:42.478249Z"
      ]
     },
     "execution_count": 28,
     "metadata": {},
     "output_type": "execute_result"
    }
   ],
   "source": [
    "otime"
   ]
  },
  {
   "cell_type": "code",
   "execution_count": null,
   "id": "a203aa43",
   "metadata": {},
   "outputs": [],
   "source": []
  }
 ],
 "metadata": {
  "kernelspec": {
   "display_name": "seismo (SHARED)",
   "language": "python",
   "name": "seismo"
  },
  "language_info": {
   "codemirror_mode": {
    "name": "ipython",
    "version": 3
   },
   "file_extension": ".py",
   "mimetype": "text/x-python",
   "name": "python",
   "nbconvert_exporter": "python",
   "pygments_lexer": "ipython3",
   "version": "3.9.18"
  }
 },
 "nbformat": 4,
 "nbformat_minor": 5
}
