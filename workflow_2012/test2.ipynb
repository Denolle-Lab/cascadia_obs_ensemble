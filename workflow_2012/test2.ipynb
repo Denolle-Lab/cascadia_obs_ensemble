{
 "cells": [
  {
   "cell_type": "code",
   "execution_count": 1,
   "id": "4b1e874d",
   "metadata": {},
   "outputs": [
    {
     "data": {
      "text/plain": [
       "'/home/hbito/cascadia_obs_ensemble/workflow_2012'"
      ]
     },
     "execution_count": 1,
     "metadata": {},
     "output_type": "execute_result"
    }
   ],
   "source": [
    "pwd"
   ]
  },
  {
   "cell_type": "code",
   "execution_count": 2,
   "id": "eb915cc5",
   "metadata": {},
   "outputs": [
    {
     "name": "stdout",
     "output_type": "stream",
     "text": [
      "/home/hbito/cascadia_obs_ensemble\n"
     ]
    },
    {
     "name": "stderr",
     "output_type": "stream",
     "text": [
      "/home/jupyter_share/miniconda3/envs/seismo/lib/python3.9/site-packages/IPython/core/magics/osm.py:417: UserWarning: using dhist requires you to install the `pickleshare` library.\n",
      "  self.shell.db['dhist'] = compress_dhist(dhist)[-100:]\n"
     ]
    }
   ],
   "source": [
    "cd .."
   ]
  },
  {
   "cell_type": "code",
   "execution_count": 3,
   "id": "f5969029",
   "metadata": {},
   "outputs": [
    {
     "name": "stdout",
     "output_type": "stream",
     "text": [
      "/home/hbito/cascadia_obs_ensemble/data\n"
     ]
    }
   ],
   "source": [
    "cd data"
   ]
  },
  {
   "cell_type": "code",
   "execution_count": 4,
   "id": "9bfed637",
   "metadata": {},
   "outputs": [
    {
     "name": "stdout",
     "output_type": "stream",
     "text": [
      "all_pick_assignments_201210.csv\r\n",
      "all_picks_all_stations.csv\r\n",
      "all_stations.csv\r\n",
      "anss_201210.csv\r\n",
      "\u001b[0m\u001b[01;34mcatalogs_elep_all_stations_20121001_to_20121031\u001b[0m/\r\n",
      "cat_elep.csv\r\n",
      "ds01.csv\r\n",
      "ds03.xlsx\r\n",
      "events_201210.csv\r\n",
      "events_october.csv\r\n",
      "graeber.csv\r\n",
      "jgrb52524-sup-0002-2017jb014966-ds01.csv\r\n",
      "jgrb52524-sup-0003-2017jb014966-ds02.csv\r\n",
      "matched_events_with_anss_mycatalog.csv\r\n",
      "matched_events_with_morton_mycatalog.csv\r\n",
      "matched_events_with_mycatalog_anss.csv\r\n",
      "matched_events_with_mycatalog_morton.csv\r\n",
      "missing_events_from_mycatalog_anss.csv\r\n",
      "missing_events_from_mycatalog_morton.csv\r\n",
      "new_events.csv\r\n",
      "\u001b[01;34mold_datasets\u001b[0m/\r\n",
      "\u001b[01;34mpicks\u001b[0m/\r\n",
      "picks_201210.csv\r\n"
     ]
    }
   ],
   "source": [
    "ls"
   ]
  },
  {
   "cell_type": "code",
   "execution_count": 5,
   "id": "b4cded53",
   "metadata": {},
   "outputs": [
    {
     "name": "stdout",
     "output_type": "stream",
     "text": [
      "/home/hbito/cascadia_obs_ensemble/data/picks\n"
     ]
    }
   ],
   "source": [
    "cd picks"
   ]
  },
  {
   "cell_type": "code",
   "execution_count": 4,
   "id": "b7c02386",
   "metadata": {},
   "outputs": [
    {
     "name": "stdout",
     "output_type": "stream",
     "text": [
      "/home/hbito\n"
     ]
    },
    {
     "name": "stderr",
     "output_type": "stream",
     "text": [
      "/home/jupyter_share/miniconda3/envs/seismo/lib/python3.9/site-packages/IPython/core/magics/osm.py:393: UserWarning: using bookmarks requires you to install the `pickleshare` library.\n",
      "  bkms = self.shell.db.get('bookmarks', {})\n",
      "/home/jupyter_share/miniconda3/envs/seismo/lib/python3.9/site-packages/IPython/core/magics/osm.py:428: UserWarning: using dhist requires you to install the `pickleshare` library.\n",
      "  self.shell.db['dhist'] = compress_dhist(dhist)[-100:]\n"
     ]
    }
   ],
   "source": [
    "cd"
   ]
  },
  {
   "cell_type": "code",
   "execution_count": 7,
   "id": "89e4076d",
   "metadata": {},
   "outputs": [],
   "source": [
    "import os\n",
    "filepath = \"/home/hbito/cascadia_obs_ensemble/data/picks/\"\n",
    "os.makedirs(filepath,exist_ok=True)"
   ]
  },
  {
   "cell_type": "code",
   "execution_count": null,
   "id": "4be81a30",
   "metadata": {},
   "outputs": [],
   "source": []
  }
 ],
 "metadata": {
  "kernelspec": {
   "display_name": "seismo (SHARED)",
   "language": "python",
   "name": "seismo"
  },
  "language_info": {
   "codemirror_mode": {
    "name": "ipython",
    "version": 3
   },
   "file_extension": ".py",
   "mimetype": "text/x-python",
   "name": "python",
   "nbconvert_exporter": "python",
   "pygments_lexer": "ipython3",
   "version": "3.9.18"
  }
 },
 "nbformat": 4,
 "nbformat_minor": 5
}
