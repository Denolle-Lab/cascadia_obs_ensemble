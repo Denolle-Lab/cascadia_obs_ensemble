{
 "cells": [
  {
   "cell_type": "markdown",
   "id": "192aef88",
   "metadata": {},
   "source": [
    "## Try phase association for stations for October 2014\n",
    "Refernce: https://github.com/yetinam/pyocto"
   ]
  },
  {
   "cell_type": "code",
   "execution_count": null,
   "id": "45e0b4d8",
   "metadata": {},
   "outputs": [],
   "source": [
    "# !pip3 install numpy\n",
    "# !pip3 install pyrocko"
   ]
  },
  {
   "cell_type": "code",
   "execution_count": 2,
   "id": "91c28442",
   "metadata": {},
   "outputs": [],
   "source": [
    "import pyocto\n",
    "import pandas as pd\n",
    "import datetime\n",
    "import matplotlib.pyplot as plt\n",
    "from collections import Counter\n",
    "import numpy as np\n",
    "from scipy import signal\n",
    "from obspy.signal.trigger import classic_sta_lta\n",
    "import pygmt\n",
    "\n",
    "from obspy.clients.fdsn import Client\n",
    "from obspy.core.utcdatetime import UTCDateTime\n",
    "from pnwstore.mseed import WaveformClient\n"
   ]
  },
  {
   "cell_type": "code",
   "execution_count": 3,
   "id": "6e59a463",
   "metadata": {},
   "outputs": [],
   "source": [
    "# Import the velocity model from https://colab.research.google.com/github/yetinam/pyocto/blob/main/examples/02_velocity_models.ipynb#scrollTo=1c52ed9e-d9c1-4fa6-a549-de702bc9d439\n",
    "# !wget https://github.com/yetinam/pyocto/raw/main/tests/data/graeber.csv"
   ]
  },
  {
   "cell_type": "markdown",
   "id": "d79f475f",
   "metadata": {},
   "source": [
    "## Input Data"
   ]
  },
  {
   "cell_type": "code",
   "execution_count": 4,
   "id": "dc050e11",
   "metadata": {},
   "outputs": [],
   "source": [
    "picks = pd.read_csv(\"../data/picks_201210.csv\",index_col=0)\n",
    "stations = pd.read_csv(\"../data/all_stations.csv\",index_col=0)"
   ]
  },
  {
   "cell_type": "code",
   "execution_count": 5,
   "id": "d0f638dd",
   "metadata": {},
   "outputs": [
    {
     "data": {
      "text/html": [
       "<div>\n",
       "<style scoped>\n",
       "    .dataframe tbody tr th:only-of-type {\n",
       "        vertical-align: middle;\n",
       "    }\n",
       "\n",
       "    .dataframe tbody tr th {\n",
       "        vertical-align: top;\n",
       "    }\n",
       "\n",
       "    .dataframe thead th {\n",
       "        text-align: right;\n",
       "    }\n",
       "</style>\n",
       "<table border=\"1\" class=\"dataframe\">\n",
       "  <thead>\n",
       "    <tr style=\"text-align: right;\">\n",
       "      <th></th>\n",
       "      <th>station</th>\n",
       "      <th>phase</th>\n",
       "      <th>time</th>\n",
       "    </tr>\n",
       "  </thead>\n",
       "  <tbody>\n",
       "    <tr>\n",
       "      <th>0</th>\n",
       "      <td>G34B</td>\n",
       "      <td>P</td>\n",
       "      <td>2012-10-05T00:21:38.295900Z</td>\n",
       "    </tr>\n",
       "    <tr>\n",
       "      <th>1</th>\n",
       "      <td>G34B</td>\n",
       "      <td>P</td>\n",
       "      <td>2012-10-05T01:06:22.711900Z</td>\n",
       "    </tr>\n",
       "    <tr>\n",
       "      <th>2</th>\n",
       "      <td>G34B</td>\n",
       "      <td>P</td>\n",
       "      <td>2012-10-05T01:23:36.647900Z</td>\n",
       "    </tr>\n",
       "    <tr>\n",
       "      <th>3</th>\n",
       "      <td>G34B</td>\n",
       "      <td>P</td>\n",
       "      <td>2012-10-05T01:37:00.639900Z</td>\n",
       "    </tr>\n",
       "    <tr>\n",
       "      <th>4</th>\n",
       "      <td>G34B</td>\n",
       "      <td>P</td>\n",
       "      <td>2012-10-05T04:03:45.719900Z</td>\n",
       "    </tr>\n",
       "    <tr>\n",
       "      <th>...</th>\n",
       "      <td>...</td>\n",
       "      <td>...</td>\n",
       "      <td>...</td>\n",
       "    </tr>\n",
       "    <tr>\n",
       "      <th>662485</th>\n",
       "      <td>FS18B</td>\n",
       "      <td>S</td>\n",
       "      <td>2012-10-01T23:05:08.177700Z</td>\n",
       "    </tr>\n",
       "    <tr>\n",
       "      <th>662486</th>\n",
       "      <td>FS18B</td>\n",
       "      <td>S</td>\n",
       "      <td>2012-10-01T23:25:55.473700Z</td>\n",
       "    </tr>\n",
       "    <tr>\n",
       "      <th>662487</th>\n",
       "      <td>FS18B</td>\n",
       "      <td>S</td>\n",
       "      <td>2012-10-01T23:43:53.553700Z</td>\n",
       "    </tr>\n",
       "    <tr>\n",
       "      <th>662488</th>\n",
       "      <td>FS18B</td>\n",
       "      <td>S</td>\n",
       "      <td>2012-10-01T23:50:04.713700Z</td>\n",
       "    </tr>\n",
       "    <tr>\n",
       "      <th>662489</th>\n",
       "      <td>WISH</td>\n",
       "      <td>S</td>\n",
       "      <td>2012-10-31T10:17:09.840000Z</td>\n",
       "    </tr>\n",
       "  </tbody>\n",
       "</table>\n",
       "<p>662490 rows × 3 columns</p>\n",
       "</div>"
      ],
      "text/plain": [
       "       station phase                         time\n",
       "0         G34B     P  2012-10-05T00:21:38.295900Z\n",
       "1         G34B     P  2012-10-05T01:06:22.711900Z\n",
       "2         G34B     P  2012-10-05T01:23:36.647900Z\n",
       "3         G34B     P  2012-10-05T01:37:00.639900Z\n",
       "4         G34B     P  2012-10-05T04:03:45.719900Z\n",
       "...        ...   ...                          ...\n",
       "662485   FS18B     S  2012-10-01T23:05:08.177700Z\n",
       "662486   FS18B     S  2012-10-01T23:25:55.473700Z\n",
       "662487   FS18B     S  2012-10-01T23:43:53.553700Z\n",
       "662488   FS18B     S  2012-10-01T23:50:04.713700Z\n",
       "662489    WISH     S  2012-10-31T10:17:09.840000Z\n",
       "\n",
       "[662490 rows x 3 columns]"
      ]
     },
     "execution_count": 5,
     "metadata": {},
     "output_type": "execute_result"
    }
   ],
   "source": [
    "picks"
   ]
  },
  {
   "cell_type": "code",
   "execution_count": 6,
   "id": "2bb5755e",
   "metadata": {},
   "outputs": [
    {
     "data": {
      "text/html": [
       "<div>\n",
       "<style scoped>\n",
       "    .dataframe tbody tr th:only-of-type {\n",
       "        vertical-align: middle;\n",
       "    }\n",
       "\n",
       "    .dataframe tbody tr th {\n",
       "        vertical-align: top;\n",
       "    }\n",
       "\n",
       "    .dataframe thead th {\n",
       "        text-align: right;\n",
       "    }\n",
       "</style>\n",
       "<table border=\"1\" class=\"dataframe\">\n",
       "  <thead>\n",
       "    <tr style=\"text-align: right;\">\n",
       "      <th></th>\n",
       "      <th>id</th>\n",
       "      <th>longitude</th>\n",
       "      <th>latitude</th>\n",
       "      <th>elevation</th>\n",
       "    </tr>\n",
       "  </thead>\n",
       "  <tbody>\n",
       "    <tr>\n",
       "      <th>0</th>\n",
       "      <td>G34B</td>\n",
       "      <td>-125.200996</td>\n",
       "      <td>42.555401</td>\n",
       "      <td>-2954.0</td>\n",
       "    </tr>\n",
       "    <tr>\n",
       "      <th>1</th>\n",
       "      <td>J18B</td>\n",
       "      <td>-125.466003</td>\n",
       "      <td>44.008301</td>\n",
       "      <td>-3047.0</td>\n",
       "    </tr>\n",
       "    <tr>\n",
       "      <th>2</th>\n",
       "      <td>BB060</td>\n",
       "      <td>-126.113297</td>\n",
       "      <td>42.856098</td>\n",
       "      <td>-2795.0</td>\n",
       "    </tr>\n",
       "    <tr>\n",
       "      <th>3</th>\n",
       "      <td>G26B</td>\n",
       "      <td>-125.177498</td>\n",
       "      <td>41.924900</td>\n",
       "      <td>-2357.0</td>\n",
       "    </tr>\n",
       "    <tr>\n",
       "      <th>4</th>\n",
       "      <td>BB090</td>\n",
       "      <td>-126.660301</td>\n",
       "      <td>43.373600</td>\n",
       "      <td>-2901.0</td>\n",
       "    </tr>\n",
       "    <tr>\n",
       "      <th>...</th>\n",
       "      <td>...</td>\n",
       "      <td>...</td>\n",
       "      <td>...</td>\n",
       "      <td>...</td>\n",
       "    </tr>\n",
       "    <tr>\n",
       "      <th>95</th>\n",
       "      <td>L02D</td>\n",
       "      <td>-123.603104</td>\n",
       "      <td>42.157799</td>\n",
       "      <td>458.0</td>\n",
       "    </tr>\n",
       "    <tr>\n",
       "      <th>96</th>\n",
       "      <td>FS03B</td>\n",
       "      <td>-124.652603</td>\n",
       "      <td>40.273201</td>\n",
       "      <td>-345.0</td>\n",
       "    </tr>\n",
       "    <tr>\n",
       "      <th>97</th>\n",
       "      <td>G18B</td>\n",
       "      <td>-124.936302</td>\n",
       "      <td>41.301601</td>\n",
       "      <td>-1464.0</td>\n",
       "    </tr>\n",
       "    <tr>\n",
       "      <th>98</th>\n",
       "      <td>J01D</td>\n",
       "      <td>-123.931396</td>\n",
       "      <td>43.161400</td>\n",
       "      <td>131.0</td>\n",
       "    </tr>\n",
       "    <tr>\n",
       "      <th>99</th>\n",
       "      <td>M13B</td>\n",
       "      <td>-124.859596</td>\n",
       "      <td>41.671501</td>\n",
       "      <td>-909.0</td>\n",
       "    </tr>\n",
       "  </tbody>\n",
       "</table>\n",
       "<p>100 rows × 4 columns</p>\n",
       "</div>"
      ],
      "text/plain": [
       "       id   longitude   latitude  elevation\n",
       "0    G34B -125.200996  42.555401    -2954.0\n",
       "1    J18B -125.466003  44.008301    -3047.0\n",
       "2   BB060 -126.113297  42.856098    -2795.0\n",
       "3    G26B -125.177498  41.924900    -2357.0\n",
       "4   BB090 -126.660301  43.373600    -2901.0\n",
       "..    ...         ...        ...        ...\n",
       "95   L02D -123.603104  42.157799      458.0\n",
       "96  FS03B -124.652603  40.273201     -345.0\n",
       "97   G18B -124.936302  41.301601    -1464.0\n",
       "98   J01D -123.931396  43.161400      131.0\n",
       "99   M13B -124.859596  41.671501     -909.0\n",
       "\n",
       "[100 rows x 4 columns]"
      ]
     },
     "execution_count": 6,
     "metadata": {},
     "output_type": "execute_result"
    }
   ],
   "source": [
    "stations"
   ]
  },
  {
   "cell_type": "markdown",
   "id": "3fe8a8aa",
   "metadata": {},
   "source": [
    "  ## Velocoty Models"
   ]
  },
  {
   "cell_type": "code",
   "execution_count": 7,
   "id": "0f875771",
   "metadata": {},
   "outputs": [],
   "source": [
    "# velocity_model = pyocto.VelocityModel0D(\n",
    "#     p_velocity=7.0,\n",
    "#     s_velocity=4.0,\n",
    "#     tolerance=2.0,\n",
    "# )"
   ]
  },
  {
   "cell_type": "markdown",
   "id": "a3bf75c7",
   "metadata": {},
   "source": [
    "## Create a 1D velocity model\n",
    "Not needed for now."
   ]
  },
  {
   "cell_type": "code",
   "execution_count": 8,
   "id": "b5c28f00",
   "metadata": {},
   "outputs": [],
   "source": [
    "# !wget https://github.com/yetinam/pyocto/raw/main/tests/data/graeber.csv"
   ]
  },
  {
   "cell_type": "code",
   "execution_count": 9,
   "id": "4a997db3",
   "metadata": {},
   "outputs": [
    {
     "data": {
      "text/html": [
       "<div>\n",
       "<style scoped>\n",
       "    .dataframe tbody tr th:only-of-type {\n",
       "        vertical-align: middle;\n",
       "    }\n",
       "\n",
       "    .dataframe tbody tr th {\n",
       "        vertical-align: top;\n",
       "    }\n",
       "\n",
       "    .dataframe thead th {\n",
       "        text-align: right;\n",
       "    }\n",
       "</style>\n",
       "<table border=\"1\" class=\"dataframe\">\n",
       "  <thead>\n",
       "    <tr style=\"text-align: right;\">\n",
       "      <th></th>\n",
       "      <th>depth</th>\n",
       "      <th>vp</th>\n",
       "      <th>vp_grad</th>\n",
       "      <th>vs</th>\n",
       "      <th>vs_grad</th>\n",
       "      <th>x</th>\n",
       "      <th>y</th>\n",
       "    </tr>\n",
       "  </thead>\n",
       "  <tbody>\n",
       "    <tr>\n",
       "      <th>0</th>\n",
       "      <td>0.0</td>\n",
       "      <td>6.1</td>\n",
       "      <td>0.00</td>\n",
       "      <td>3.6</td>\n",
       "      <td>0.00</td>\n",
       "      <td>1.0</td>\n",
       "      <td>0.0</td>\n",
       "    </tr>\n",
       "    <tr>\n",
       "      <th>1</th>\n",
       "      <td>10.0</td>\n",
       "      <td>6.1</td>\n",
       "      <td>0.03</td>\n",
       "      <td>3.6</td>\n",
       "      <td>0.02</td>\n",
       "      <td>1.0</td>\n",
       "      <td>0.0</td>\n",
       "    </tr>\n",
       "    <tr>\n",
       "      <th>2</th>\n",
       "      <td>20.0</td>\n",
       "      <td>6.4</td>\n",
       "      <td>0.01</td>\n",
       "      <td>3.8</td>\n",
       "      <td>0.01</td>\n",
       "      <td>1.0</td>\n",
       "      <td>0.0</td>\n",
       "    </tr>\n",
       "    <tr>\n",
       "      <th>3</th>\n",
       "      <td>30.0</td>\n",
       "      <td>6.5</td>\n",
       "      <td>0.06</td>\n",
       "      <td>3.8</td>\n",
       "      <td>0.04</td>\n",
       "      <td>1.0</td>\n",
       "      <td>0.0</td>\n",
       "    </tr>\n",
       "    <tr>\n",
       "      <th>4</th>\n",
       "      <td>40.0</td>\n",
       "      <td>7.1</td>\n",
       "      <td>0.00</td>\n",
       "      <td>4.2</td>\n",
       "      <td>0.00</td>\n",
       "      <td>1.0</td>\n",
       "      <td>0.0</td>\n",
       "    </tr>\n",
       "    <tr>\n",
       "      <th>5</th>\n",
       "      <td>50.0</td>\n",
       "      <td>7.1</td>\n",
       "      <td>0.02</td>\n",
       "      <td>4.2</td>\n",
       "      <td>0.01</td>\n",
       "      <td>1.0</td>\n",
       "      <td>0.0</td>\n",
       "    </tr>\n",
       "    <tr>\n",
       "      <th>6</th>\n",
       "      <td>60.0</td>\n",
       "      <td>7.3</td>\n",
       "      <td>0.06</td>\n",
       "      <td>4.3</td>\n",
       "      <td>0.04</td>\n",
       "      <td>1.0</td>\n",
       "      <td>0.0</td>\n",
       "    </tr>\n",
       "    <tr>\n",
       "      <th>7</th>\n",
       "      <td>70.0</td>\n",
       "      <td>7.9</td>\n",
       "      <td>0.02</td>\n",
       "      <td>4.7</td>\n",
       "      <td>0.01</td>\n",
       "      <td>1.0</td>\n",
       "      <td>0.0</td>\n",
       "    </tr>\n",
       "    <tr>\n",
       "      <th>8</th>\n",
       "      <td>80.0</td>\n",
       "      <td>8.1</td>\n",
       "      <td>0.04</td>\n",
       "      <td>4.8</td>\n",
       "      <td>0.02</td>\n",
       "      <td>1.0</td>\n",
       "      <td>0.0</td>\n",
       "    </tr>\n",
       "    <tr>\n",
       "      <th>9</th>\n",
       "      <td>90.0</td>\n",
       "      <td>8.5</td>\n",
       "      <td>0.00</td>\n",
       "      <td>5.1</td>\n",
       "      <td>0.00</td>\n",
       "      <td>1.0</td>\n",
       "      <td>0.0</td>\n",
       "    </tr>\n",
       "    <tr>\n",
       "      <th>10</th>\n",
       "      <td>110.0</td>\n",
       "      <td>8.5</td>\n",
       "      <td>0.00</td>\n",
       "      <td>5.1</td>\n",
       "      <td>0.00</td>\n",
       "      <td>1.0</td>\n",
       "      <td>0.0</td>\n",
       "    </tr>\n",
       "    <tr>\n",
       "      <th>11</th>\n",
       "      <td>130.0</td>\n",
       "      <td>8.5</td>\n",
       "      <td>0.00</td>\n",
       "      <td>5.1</td>\n",
       "      <td>0.00</td>\n",
       "      <td>1.0</td>\n",
       "      <td>0.0</td>\n",
       "    </tr>\n",
       "  </tbody>\n",
       "</table>\n",
       "</div>"
      ],
      "text/plain": [
       "    depth   vp  vp_grad   vs  vs_grad    x    y\n",
       "0     0.0  6.1     0.00  3.6     0.00  1.0  0.0\n",
       "1    10.0  6.1     0.03  3.6     0.02  1.0  0.0\n",
       "2    20.0  6.4     0.01  3.8     0.01  1.0  0.0\n",
       "3    30.0  6.5     0.06  3.8     0.04  1.0  0.0\n",
       "4    40.0  7.1     0.00  4.2     0.00  1.0  0.0\n",
       "5    50.0  7.1     0.02  4.2     0.01  1.0  0.0\n",
       "6    60.0  7.3     0.06  4.3     0.04  1.0  0.0\n",
       "7    70.0  7.9     0.02  4.7     0.01  1.0  0.0\n",
       "8    80.0  8.1     0.04  4.8     0.02  1.0  0.0\n",
       "9    90.0  8.5     0.00  5.1     0.00  1.0  0.0\n",
       "10  110.0  8.5     0.00  5.1     0.00  1.0  0.0\n",
       "11  130.0  8.5     0.00  5.1     0.00  1.0  0.0"
      ]
     },
     "execution_count": 9,
     "metadata": {},
     "output_type": "execute_result"
    }
   ],
   "source": [
    "layers = pd.read_csv(\"../data/graeber.csv\")\n",
    "layers"
   ]
  },
  {
   "cell_type": "code",
   "execution_count": 10,
   "id": "e492330c",
   "metadata": {},
   "outputs": [],
   "source": [
    "model_path = \"velocity_model\"\n",
    "pyocto.VelocityModel1D.create_model(layers, 1., 400, 250, model_path)"
   ]
  },
  {
   "cell_type": "code",
   "execution_count": 11,
   "id": "a9d3a14a",
   "metadata": {},
   "outputs": [],
   "source": [
    "velocity_model_1d = pyocto.VelocityModel1D(model_path, tolerance=2.0)"
   ]
  },
  {
   "cell_type": "markdown",
   "id": "0f6a5c8a",
   "metadata": {},
   "source": [
    "## The OctoAssociator class"
   ]
  },
  {
   "cell_type": "code",
   "execution_count": 12,
   "id": "c49c113f",
   "metadata": {},
   "outputs": [],
   "source": [
    "associator = pyocto.OctoAssociator.from_area(\n",
    "    lat=(39, 50),\n",
    "    lon=(-128, -123),\n",
    "    zlim=(0, 50),\n",
    "    time_before=300,\n",
    "    velocity_model=velocity_model_1d,\n",
    "    n_picks=6,\n",
    "    n_p_picks=3,\n",
    "    n_s_picks=3,\n",
    "    n_p_and_s_picks=3,\n",
    ")"
   ]
  },
  {
   "cell_type": "code",
   "execution_count": 13,
   "id": "8563e5e5",
   "metadata": {},
   "outputs": [
    {
     "data": {
      "text/html": [
       "<div>\n",
       "<style scoped>\n",
       "    .dataframe tbody tr th:only-of-type {\n",
       "        vertical-align: middle;\n",
       "    }\n",
       "\n",
       "    .dataframe tbody tr th {\n",
       "        vertical-align: top;\n",
       "    }\n",
       "\n",
       "    .dataframe thead th {\n",
       "        text-align: right;\n",
       "    }\n",
       "</style>\n",
       "<table border=\"1\" class=\"dataframe\">\n",
       "  <thead>\n",
       "    <tr style=\"text-align: right;\">\n",
       "      <th></th>\n",
       "      <th>id</th>\n",
       "      <th>longitude</th>\n",
       "      <th>latitude</th>\n",
       "      <th>elevation</th>\n",
       "      <th>x</th>\n",
       "      <th>y</th>\n",
       "      <th>z</th>\n",
       "    </tr>\n",
       "  </thead>\n",
       "  <tbody>\n",
       "    <tr>\n",
       "      <th>0</th>\n",
       "      <td>G34B</td>\n",
       "      <td>-125.200996</td>\n",
       "      <td>42.555401</td>\n",
       "      <td>-2954.0</td>\n",
       "      <td>24.556134</td>\n",
       "      <td>-216.007509</td>\n",
       "      <td>2.954</td>\n",
       "    </tr>\n",
       "    <tr>\n",
       "      <th>1</th>\n",
       "      <td>J18B</td>\n",
       "      <td>-125.466003</td>\n",
       "      <td>44.008301</td>\n",
       "      <td>-3047.0</td>\n",
       "      <td>2.726390</td>\n",
       "      <td>-54.635657</td>\n",
       "      <td>3.047</td>\n",
       "    </tr>\n",
       "    <tr>\n",
       "      <th>2</th>\n",
       "      <td>BB060</td>\n",
       "      <td>-126.113297</td>\n",
       "      <td>42.856098</td>\n",
       "      <td>-2795.0</td>\n",
       "      <td>-50.125449</td>\n",
       "      <td>-182.464841</td>\n",
       "      <td>2.795</td>\n",
       "    </tr>\n",
       "    <tr>\n",
       "      <th>3</th>\n",
       "      <td>G26B</td>\n",
       "      <td>-125.177498</td>\n",
       "      <td>41.924900</td>\n",
       "      <td>-2357.0</td>\n",
       "      <td>26.750946</td>\n",
       "      <td>-286.035298</td>\n",
       "      <td>2.357</td>\n",
       "    </tr>\n",
       "    <tr>\n",
       "      <th>4</th>\n",
       "      <td>BB090</td>\n",
       "      <td>-126.660301</td>\n",
       "      <td>43.373600</td>\n",
       "      <td>-2901.0</td>\n",
       "      <td>-94.037201</td>\n",
       "      <td>-124.501485</td>\n",
       "      <td>2.901</td>\n",
       "    </tr>\n",
       "    <tr>\n",
       "      <th>...</th>\n",
       "      <td>...</td>\n",
       "      <td>...</td>\n",
       "      <td>...</td>\n",
       "      <td>...</td>\n",
       "      <td>...</td>\n",
       "      <td>...</td>\n",
       "      <td>...</td>\n",
       "    </tr>\n",
       "    <tr>\n",
       "      <th>95</th>\n",
       "      <td>L02D</td>\n",
       "      <td>-123.603104</td>\n",
       "      <td>42.157799</td>\n",
       "      <td>458.0</td>\n",
       "      <td>156.773290</td>\n",
       "      <td>-258.474420</td>\n",
       "      <td>-0.458</td>\n",
       "    </tr>\n",
       "    <tr>\n",
       "      <th>96</th>\n",
       "      <td>FS03B</td>\n",
       "      <td>-124.652603</td>\n",
       "      <td>40.273201</td>\n",
       "      <td>-345.0</td>\n",
       "      <td>72.073726</td>\n",
       "      <td>-469.171861</td>\n",
       "      <td>0.345</td>\n",
       "    </tr>\n",
       "    <tr>\n",
       "      <th>97</th>\n",
       "      <td>G18B</td>\n",
       "      <td>-124.936302</td>\n",
       "      <td>41.301601</td>\n",
       "      <td>-1464.0</td>\n",
       "      <td>47.210087</td>\n",
       "      <td>-355.159508</td>\n",
       "      <td>1.464</td>\n",
       "    </tr>\n",
       "    <tr>\n",
       "      <th>98</th>\n",
       "      <td>J01D</td>\n",
       "      <td>-123.931396</td>\n",
       "      <td>43.161400</td>\n",
       "      <td>131.0</td>\n",
       "      <td>127.571246</td>\n",
       "      <td>-147.535719</td>\n",
       "      <td>-0.131</td>\n",
       "    </tr>\n",
       "    <tr>\n",
       "      <th>99</th>\n",
       "      <td>M13B</td>\n",
       "      <td>-124.859596</td>\n",
       "      <td>41.671501</td>\n",
       "      <td>-909.0</td>\n",
       "      <td>53.330101</td>\n",
       "      <td>-314.032309</td>\n",
       "      <td>0.909</td>\n",
       "    </tr>\n",
       "  </tbody>\n",
       "</table>\n",
       "<p>100 rows × 7 columns</p>\n",
       "</div>"
      ],
      "text/plain": [
       "       id   longitude   latitude  elevation           x           y      z\n",
       "0    G34B -125.200996  42.555401    -2954.0   24.556134 -216.007509  2.954\n",
       "1    J18B -125.466003  44.008301    -3047.0    2.726390  -54.635657  3.047\n",
       "2   BB060 -126.113297  42.856098    -2795.0  -50.125449 -182.464841  2.795\n",
       "3    G26B -125.177498  41.924900    -2357.0   26.750946 -286.035298  2.357\n",
       "4   BB090 -126.660301  43.373600    -2901.0  -94.037201 -124.501485  2.901\n",
       "..    ...         ...        ...        ...         ...         ...    ...\n",
       "95   L02D -123.603104  42.157799      458.0  156.773290 -258.474420 -0.458\n",
       "96  FS03B -124.652603  40.273201     -345.0   72.073726 -469.171861  0.345\n",
       "97   G18B -124.936302  41.301601    -1464.0   47.210087 -355.159508  1.464\n",
       "98   J01D -123.931396  43.161400      131.0  127.571246 -147.535719 -0.131\n",
       "99   M13B -124.859596  41.671501     -909.0   53.330101 -314.032309  0.909\n",
       "\n",
       "[100 rows x 7 columns]"
      ]
     },
     "execution_count": 13,
     "metadata": {},
     "output_type": "execute_result"
    }
   ],
   "source": [
    "associator.transform_stations(stations)\n",
    "stations"
   ]
  },
  {
   "cell_type": "markdown",
   "id": "27c78b5c",
   "metadata": {},
   "source": [
    "## Convert the timestamps to floats"
   ]
  },
  {
   "cell_type": "code",
   "execution_count": 14,
   "id": "c99c738e",
   "metadata": {
    "scrolled": true
   },
   "outputs": [
    {
     "data": {
      "text/html": [
       "<div>\n",
       "<style scoped>\n",
       "    .dataframe tbody tr th:only-of-type {\n",
       "        vertical-align: middle;\n",
       "    }\n",
       "\n",
       "    .dataframe tbody tr th {\n",
       "        vertical-align: top;\n",
       "    }\n",
       "\n",
       "    .dataframe thead th {\n",
       "        text-align: right;\n",
       "    }\n",
       "</style>\n",
       "<table border=\"1\" class=\"dataframe\">\n",
       "  <thead>\n",
       "    <tr style=\"text-align: right;\">\n",
       "      <th></th>\n",
       "      <th>station</th>\n",
       "      <th>phase</th>\n",
       "      <th>time</th>\n",
       "    </tr>\n",
       "  </thead>\n",
       "  <tbody>\n",
       "    <tr>\n",
       "      <th>0</th>\n",
       "      <td>G34B</td>\n",
       "      <td>P</td>\n",
       "      <td>1.349396e+09</td>\n",
       "    </tr>\n",
       "    <tr>\n",
       "      <th>1</th>\n",
       "      <td>G34B</td>\n",
       "      <td>P</td>\n",
       "      <td>1.349399e+09</td>\n",
       "    </tr>\n",
       "    <tr>\n",
       "      <th>2</th>\n",
       "      <td>G34B</td>\n",
       "      <td>P</td>\n",
       "      <td>1.349400e+09</td>\n",
       "    </tr>\n",
       "    <tr>\n",
       "      <th>3</th>\n",
       "      <td>G34B</td>\n",
       "      <td>P</td>\n",
       "      <td>1.349401e+09</td>\n",
       "    </tr>\n",
       "    <tr>\n",
       "      <th>4</th>\n",
       "      <td>G34B</td>\n",
       "      <td>P</td>\n",
       "      <td>1.349410e+09</td>\n",
       "    </tr>\n",
       "    <tr>\n",
       "      <th>...</th>\n",
       "      <td>...</td>\n",
       "      <td>...</td>\n",
       "      <td>...</td>\n",
       "    </tr>\n",
       "    <tr>\n",
       "      <th>662485</th>\n",
       "      <td>FS18B</td>\n",
       "      <td>S</td>\n",
       "      <td>1.349133e+09</td>\n",
       "    </tr>\n",
       "    <tr>\n",
       "      <th>662486</th>\n",
       "      <td>FS18B</td>\n",
       "      <td>S</td>\n",
       "      <td>1.349134e+09</td>\n",
       "    </tr>\n",
       "    <tr>\n",
       "      <th>662487</th>\n",
       "      <td>FS18B</td>\n",
       "      <td>S</td>\n",
       "      <td>1.349135e+09</td>\n",
       "    </tr>\n",
       "    <tr>\n",
       "      <th>662488</th>\n",
       "      <td>FS18B</td>\n",
       "      <td>S</td>\n",
       "      <td>1.349135e+09</td>\n",
       "    </tr>\n",
       "    <tr>\n",
       "      <th>662489</th>\n",
       "      <td>WISH</td>\n",
       "      <td>S</td>\n",
       "      <td>1.351679e+09</td>\n",
       "    </tr>\n",
       "  </tbody>\n",
       "</table>\n",
       "<p>662490 rows × 3 columns</p>\n",
       "</div>"
      ],
      "text/plain": [
       "       station phase          time\n",
       "0         G34B     P  1.349396e+09\n",
       "1         G34B     P  1.349399e+09\n",
       "2         G34B     P  1.349400e+09\n",
       "3         G34B     P  1.349401e+09\n",
       "4         G34B     P  1.349410e+09\n",
       "...        ...   ...           ...\n",
       "662485   FS18B     S  1.349133e+09\n",
       "662486   FS18B     S  1.349134e+09\n",
       "662487   FS18B     S  1.349135e+09\n",
       "662488   FS18B     S  1.349135e+09\n",
       "662489    WISH     S  1.351679e+09\n",
       "\n",
       "[662490 rows x 3 columns]"
      ]
     },
     "execution_count": 14,
     "metadata": {},
     "output_type": "execute_result"
    }
   ],
   "source": [
    "picks[\"time\"] = picks[\"time\"].apply(lambda x: datetime.datetime.strptime(x,'%Y-%m-%dT%H:%M:%S.%fZ'))\n",
    "picks[\"time\"] = picks[\"time\"].apply(lambda x: x.timestamp())\n",
    "picks"
   ]
  },
  {
   "cell_type": "code",
   "execution_count": 15,
   "id": "f892c518",
   "metadata": {},
   "outputs": [],
   "source": [
    "# picks['time'] = picks['time'].apply(lambda x: (datetime.datetime.strptime(x,'%Y-%m-%dT%H:%M:%S.%fZ')).timestamp())\n",
    "# picks"
   ]
  },
  {
   "cell_type": "markdown",
   "id": "a0227ee6",
   "metadata": {},
   "source": [
    "## Apply  the associator"
   ]
  },
  {
   "cell_type": "code",
   "execution_count": 16,
   "id": "261a46ca",
   "metadata": {},
   "outputs": [],
   "source": [
    "# Association \n",
    "events, assignments = associator.associate(picks, stations)"
   ]
  },
  {
   "cell_type": "code",
   "execution_count": 17,
   "id": "7c62f214",
   "metadata": {},
   "outputs": [
    {
     "data": {
      "text/html": [
       "<div>\n",
       "<style scoped>\n",
       "    .dataframe tbody tr th:only-of-type {\n",
       "        vertical-align: middle;\n",
       "    }\n",
       "\n",
       "    .dataframe tbody tr th {\n",
       "        vertical-align: top;\n",
       "    }\n",
       "\n",
       "    .dataframe thead th {\n",
       "        text-align: right;\n",
       "    }\n",
       "</style>\n",
       "<table border=\"1\" class=\"dataframe\">\n",
       "  <thead>\n",
       "    <tr style=\"text-align: right;\">\n",
       "      <th></th>\n",
       "      <th>idx</th>\n",
       "      <th>time</th>\n",
       "      <th>x</th>\n",
       "      <th>y</th>\n",
       "      <th>z</th>\n",
       "      <th>picks</th>\n",
       "    </tr>\n",
       "  </thead>\n",
       "  <tbody>\n",
       "    <tr>\n",
       "      <th>0</th>\n",
       "      <td>0</td>\n",
       "      <td>1.349066e+09</td>\n",
       "      <td>-36.801756</td>\n",
       "      <td>-416.426130</td>\n",
       "      <td>37.890625</td>\n",
       "      <td>21</td>\n",
       "    </tr>\n",
       "    <tr>\n",
       "      <th>1</th>\n",
       "      <td>1</td>\n",
       "      <td>1.349072e+09</td>\n",
       "      <td>104.483147</td>\n",
       "      <td>-425.999093</td>\n",
       "      <td>25.390625</td>\n",
       "      <td>9</td>\n",
       "    </tr>\n",
       "    <tr>\n",
       "      <th>2</th>\n",
       "      <td>2</td>\n",
       "      <td>1.349074e+09</td>\n",
       "      <td>62.182278</td>\n",
       "      <td>-443.948400</td>\n",
       "      <td>33.984375</td>\n",
       "      <td>16</td>\n",
       "    </tr>\n",
       "    <tr>\n",
       "      <th>3</th>\n",
       "      <td>3</td>\n",
       "      <td>1.349075e+09</td>\n",
       "      <td>79.102626</td>\n",
       "      <td>-479.847012</td>\n",
       "      <td>27.734375</td>\n",
       "      <td>10</td>\n",
       "    </tr>\n",
       "    <tr>\n",
       "      <th>4</th>\n",
       "      <td>4</td>\n",
       "      <td>1.349076e+09</td>\n",
       "      <td>74.026521</td>\n",
       "      <td>-458.307844</td>\n",
       "      <td>36.328125</td>\n",
       "      <td>23</td>\n",
       "    </tr>\n",
       "    <tr>\n",
       "      <th>...</th>\n",
       "      <td>...</td>\n",
       "      <td>...</td>\n",
       "      <td>...</td>\n",
       "      <td>...</td>\n",
       "      <td>...</td>\n",
       "      <td>...</td>\n",
       "    </tr>\n",
       "    <tr>\n",
       "      <th>1034</th>\n",
       "      <td>1034</td>\n",
       "      <td>1.351720e+09</td>\n",
       "      <td>46.107948</td>\n",
       "      <td>540.870200</td>\n",
       "      <td>11.328125</td>\n",
       "      <td>9</td>\n",
       "    </tr>\n",
       "    <tr>\n",
       "      <th>1035</th>\n",
       "      <td>1035</td>\n",
       "      <td>1.351722e+09</td>\n",
       "      <td>26.649548</td>\n",
       "      <td>-405.656546</td>\n",
       "      <td>49.609375</td>\n",
       "      <td>12</td>\n",
       "    </tr>\n",
       "    <tr>\n",
       "      <th>1036</th>\n",
       "      <td>1036</td>\n",
       "      <td>1.351723e+09</td>\n",
       "      <td>37.647774</td>\n",
       "      <td>-422.409232</td>\n",
       "      <td>44.921875</td>\n",
       "      <td>11</td>\n",
       "    </tr>\n",
       "    <tr>\n",
       "      <th>1037</th>\n",
       "      <td>1037</td>\n",
       "      <td>1.351727e+09</td>\n",
       "      <td>-43.569895</td>\n",
       "      <td>-442.751779</td>\n",
       "      <td>43.359375</td>\n",
       "      <td>28</td>\n",
       "    </tr>\n",
       "    <tr>\n",
       "      <th>1038</th>\n",
       "      <td>1038</td>\n",
       "      <td>1.351728e+09</td>\n",
       "      <td>48.646000</td>\n",
       "      <td>-433.178816</td>\n",
       "      <td>31.640625</td>\n",
       "      <td>10</td>\n",
       "    </tr>\n",
       "  </tbody>\n",
       "</table>\n",
       "<p>1039 rows × 6 columns</p>\n",
       "</div>"
      ],
      "text/plain": [
       "       idx          time           x           y          z  picks\n",
       "0        0  1.349066e+09  -36.801756 -416.426130  37.890625     21\n",
       "1        1  1.349072e+09  104.483147 -425.999093  25.390625      9\n",
       "2        2  1.349074e+09   62.182278 -443.948400  33.984375     16\n",
       "3        3  1.349075e+09   79.102626 -479.847012  27.734375     10\n",
       "4        4  1.349076e+09   74.026521 -458.307844  36.328125     23\n",
       "...    ...           ...         ...         ...        ...    ...\n",
       "1034  1034  1.351720e+09   46.107948  540.870200  11.328125      9\n",
       "1035  1035  1.351722e+09   26.649548 -405.656546  49.609375     12\n",
       "1036  1036  1.351723e+09   37.647774 -422.409232  44.921875     11\n",
       "1037  1037  1.351727e+09  -43.569895 -442.751779  43.359375     28\n",
       "1038  1038  1.351728e+09   48.646000 -433.178816  31.640625     10\n",
       "\n",
       "[1039 rows x 6 columns]"
      ]
     },
     "execution_count": 17,
     "metadata": {},
     "output_type": "execute_result"
    }
   ],
   "source": [
    "# Print the associated events\n",
    "events"
   ]
  },
  {
   "cell_type": "code",
   "execution_count": 18,
   "id": "0c48bb4d",
   "metadata": {},
   "outputs": [
    {
     "data": {
      "text/plain": [
       "Counter({7: 103,\n",
       "         8: 102,\n",
       "         9: 87,\n",
       "         6: 76,\n",
       "         10: 71,\n",
       "         11: 66,\n",
       "         12: 62,\n",
       "         15: 53,\n",
       "         13: 44,\n",
       "         14: 31,\n",
       "         16: 30,\n",
       "         17: 28,\n",
       "         19: 24,\n",
       "         18: 23,\n",
       "         23: 17,\n",
       "         20: 17,\n",
       "         25: 17,\n",
       "         21: 16,\n",
       "         26: 14,\n",
       "         22: 13,\n",
       "         27: 10,\n",
       "         30: 8,\n",
       "         34: 8,\n",
       "         24: 8,\n",
       "         37: 7,\n",
       "         32: 7,\n",
       "         40: 7,\n",
       "         28: 7,\n",
       "         29: 7,\n",
       "         31: 6,\n",
       "         39: 6,\n",
       "         50: 5,\n",
       "         47: 5,\n",
       "         33: 5,\n",
       "         41: 4,\n",
       "         43: 4,\n",
       "         46: 4,\n",
       "         55: 4,\n",
       "         42: 4,\n",
       "         51: 3,\n",
       "         35: 3,\n",
       "         36: 3,\n",
       "         64: 2,\n",
       "         44: 2,\n",
       "         49: 2,\n",
       "         59: 1,\n",
       "         53: 1,\n",
       "         45: 1,\n",
       "         38: 1,\n",
       "         76: 1,\n",
       "         82: 1,\n",
       "         65: 1,\n",
       "         54: 1,\n",
       "         48: 1,\n",
       "         63: 1,\n",
       "         61: 1,\n",
       "         67: 1,\n",
       "         56: 1,\n",
       "         70: 1})"
      ]
     },
     "execution_count": 18,
     "metadata": {},
     "output_type": "execute_result"
    }
   ],
   "source": [
    "# Count how many picks each event has\n",
    "Counter(events['picks'])"
   ]
  },
  {
   "cell_type": "code",
   "execution_count": 19,
   "id": "ef8aa879",
   "metadata": {
    "scrolled": false
   },
   "outputs": [],
   "source": [
    "# Convert the event times and the x, y, and z coordinate to latitudes, longitudes, and depths, respectively\n",
    "associator.transform_events(events)\n",
    "events[\"time\"] = events[\"time\"].apply(datetime.datetime.fromtimestamp, tz=datetime.timezone.utc)"
   ]
  },
  {
   "cell_type": "code",
   "execution_count": 20,
   "id": "6a765097",
   "metadata": {},
   "outputs": [],
   "source": [
    "#  Save events that have at least 6 picks\n",
    "events = events.loc[(events['picks'] >= 6)]\n",
    "events.to_csv('../data/events_201210.csv')\n"
   ]
  },
  {
   "cell_type": "code",
   "execution_count": 21,
   "id": "a86b6d58",
   "metadata": {},
   "outputs": [],
   "source": [
    "# events.to_csv('~/notebooks/src/association_events.csv')"
   ]
  },
  {
   "cell_type": "code",
   "execution_count": 22,
   "id": "e6767f3c",
   "metadata": {
    "scrolled": true
   },
   "outputs": [
    {
     "data": {
      "text/html": [
       "<div>\n",
       "<style scoped>\n",
       "    .dataframe tbody tr th:only-of-type {\n",
       "        vertical-align: middle;\n",
       "    }\n",
       "\n",
       "    .dataframe tbody tr th {\n",
       "        vertical-align: top;\n",
       "    }\n",
       "\n",
       "    .dataframe thead th {\n",
       "        text-align: right;\n",
       "    }\n",
       "</style>\n",
       "<table border=\"1\" class=\"dataframe\">\n",
       "  <thead>\n",
       "    <tr style=\"text-align: right;\">\n",
       "      <th></th>\n",
       "      <th>event_idx</th>\n",
       "      <th>pick_idx</th>\n",
       "      <th>residual</th>\n",
       "      <th>station</th>\n",
       "      <th>phase</th>\n",
       "      <th>time</th>\n",
       "    </tr>\n",
       "  </thead>\n",
       "  <tbody>\n",
       "    <tr>\n",
       "      <th>0</th>\n",
       "      <td>0</td>\n",
       "      <td>153772</td>\n",
       "      <td>0.891797</td>\n",
       "      <td>FS01B</td>\n",
       "      <td>P</td>\n",
       "      <td>1.349066e+09</td>\n",
       "    </tr>\n",
       "    <tr>\n",
       "      <th>1</th>\n",
       "      <td>0</td>\n",
       "      <td>525840</td>\n",
       "      <td>-0.037750</td>\n",
       "      <td>FS02B</td>\n",
       "      <td>S</td>\n",
       "      <td>1.349066e+09</td>\n",
       "    </tr>\n",
       "    <tr>\n",
       "      <th>2</th>\n",
       "      <td>0</td>\n",
       "      <td>517520</td>\n",
       "      <td>0.005925</td>\n",
       "      <td>FS06B</td>\n",
       "      <td>S</td>\n",
       "      <td>1.349066e+09</td>\n",
       "    </tr>\n",
       "    <tr>\n",
       "      <th>3</th>\n",
       "      <td>0</td>\n",
       "      <td>315136</td>\n",
       "      <td>-0.085126</td>\n",
       "      <td>FS10B</td>\n",
       "      <td>P</td>\n",
       "      <td>1.349066e+09</td>\n",
       "    </tr>\n",
       "    <tr>\n",
       "      <th>4</th>\n",
       "      <td>0</td>\n",
       "      <td>478001</td>\n",
       "      <td>0.494051</td>\n",
       "      <td>FS20B</td>\n",
       "      <td>S</td>\n",
       "      <td>1.349066e+09</td>\n",
       "    </tr>\n",
       "    <tr>\n",
       "      <th>...</th>\n",
       "      <td>...</td>\n",
       "      <td>...</td>\n",
       "      <td>...</td>\n",
       "      <td>...</td>\n",
       "      <td>...</td>\n",
       "      <td>...</td>\n",
       "    </tr>\n",
       "    <tr>\n",
       "      <th>16351</th>\n",
       "      <td>1038</td>\n",
       "      <td>194402</td>\n",
       "      <td>-0.420181</td>\n",
       "      <td>FS13B</td>\n",
       "      <td>P</td>\n",
       "      <td>1.351728e+09</td>\n",
       "    </tr>\n",
       "    <tr>\n",
       "      <th>16352</th>\n",
       "      <td>1038</td>\n",
       "      <td>531534</td>\n",
       "      <td>-0.348028</td>\n",
       "      <td>FS13B</td>\n",
       "      <td>S</td>\n",
       "      <td>1.351728e+09</td>\n",
       "    </tr>\n",
       "    <tr>\n",
       "      <th>16353</th>\n",
       "      <td>1038</td>\n",
       "      <td>314913</td>\n",
       "      <td>-0.698092</td>\n",
       "      <td>FS16B</td>\n",
       "      <td>P</td>\n",
       "      <td>1.351728e+09</td>\n",
       "    </tr>\n",
       "    <tr>\n",
       "      <th>16354</th>\n",
       "      <td>1038</td>\n",
       "      <td>620338</td>\n",
       "      <td>0.851237</td>\n",
       "      <td>FS16B</td>\n",
       "      <td>S</td>\n",
       "      <td>1.351728e+09</td>\n",
       "    </tr>\n",
       "    <tr>\n",
       "      <th>16355</th>\n",
       "      <td>1038</td>\n",
       "      <td>403160</td>\n",
       "      <td>0.057098</td>\n",
       "      <td>FS20B</td>\n",
       "      <td>S</td>\n",
       "      <td>1.351728e+09</td>\n",
       "    </tr>\n",
       "  </tbody>\n",
       "</table>\n",
       "<p>16356 rows × 6 columns</p>\n",
       "</div>"
      ],
      "text/plain": [
       "       event_idx  pick_idx  residual station phase          time\n",
       "0              0    153772  0.891797   FS01B     P  1.349066e+09\n",
       "1              0    525840 -0.037750   FS02B     S  1.349066e+09\n",
       "2              0    517520  0.005925   FS06B     S  1.349066e+09\n",
       "3              0    315136 -0.085126   FS10B     P  1.349066e+09\n",
       "4              0    478001  0.494051   FS20B     S  1.349066e+09\n",
       "...          ...       ...       ...     ...   ...           ...\n",
       "16351       1038    194402 -0.420181   FS13B     P  1.351728e+09\n",
       "16352       1038    531534 -0.348028   FS13B     S  1.351728e+09\n",
       "16353       1038    314913 -0.698092   FS16B     P  1.351728e+09\n",
       "16354       1038    620338  0.851237   FS16B     S  1.351728e+09\n",
       "16355       1038    403160  0.057098   FS20B     S  1.351728e+09\n",
       "\n",
       "[16356 rows x 6 columns]"
      ]
     },
     "execution_count": 22,
     "metadata": {},
     "output_type": "execute_result"
    }
   ],
   "source": [
    "# Print the assignments\n",
    "assignments"
   ]
  },
  {
   "cell_type": "code",
   "execution_count": 23,
   "id": "ff00602d",
   "metadata": {
    "scrolled": true
   },
   "outputs": [
    {
     "data": {
      "text/html": [
       "<div>\n",
       "<style scoped>\n",
       "    .dataframe tbody tr th:only-of-type {\n",
       "        vertical-align: middle;\n",
       "    }\n",
       "\n",
       "    .dataframe tbody tr th {\n",
       "        vertical-align: top;\n",
       "    }\n",
       "\n",
       "    .dataframe thead th {\n",
       "        text-align: right;\n",
       "    }\n",
       "</style>\n",
       "<table border=\"1\" class=\"dataframe\">\n",
       "  <thead>\n",
       "    <tr style=\"text-align: right;\">\n",
       "      <th></th>\n",
       "      <th>idx</th>\n",
       "      <th>time</th>\n",
       "      <th>x</th>\n",
       "      <th>y</th>\n",
       "      <th>z</th>\n",
       "      <th>picks</th>\n",
       "      <th>latitude</th>\n",
       "      <th>longitude</th>\n",
       "      <th>depth</th>\n",
       "      <th>event_idx</th>\n",
       "      <th>pick_idx</th>\n",
       "      <th>residual</th>\n",
       "      <th>station</th>\n",
       "      <th>phase</th>\n",
       "      <th>time_pick</th>\n",
       "    </tr>\n",
       "  </thead>\n",
       "  <tbody>\n",
       "    <tr>\n",
       "      <th>0</th>\n",
       "      <td>0</td>\n",
       "      <td>2012-10-01 04:32:56.834786+00:00</td>\n",
       "      <td>-36.801756</td>\n",
       "      <td>-416.426130</td>\n",
       "      <td>37.890625</td>\n",
       "      <td>21</td>\n",
       "      <td>40.750478</td>\n",
       "      <td>-125.935772</td>\n",
       "      <td>37.890625</td>\n",
       "      <td>0</td>\n",
       "      <td>153772</td>\n",
       "      <td>0.891797</td>\n",
       "      <td>FS01B</td>\n",
       "      <td>P</td>\n",
       "      <td>1.349066e+09</td>\n",
       "    </tr>\n",
       "    <tr>\n",
       "      <th>1</th>\n",
       "      <td>0</td>\n",
       "      <td>2012-10-01 04:32:56.834786+00:00</td>\n",
       "      <td>-36.801756</td>\n",
       "      <td>-416.426130</td>\n",
       "      <td>37.890625</td>\n",
       "      <td>21</td>\n",
       "      <td>40.750478</td>\n",
       "      <td>-125.935772</td>\n",
       "      <td>37.890625</td>\n",
       "      <td>0</td>\n",
       "      <td>525840</td>\n",
       "      <td>-0.037750</td>\n",
       "      <td>FS02B</td>\n",
       "      <td>S</td>\n",
       "      <td>1.349066e+09</td>\n",
       "    </tr>\n",
       "    <tr>\n",
       "      <th>2</th>\n",
       "      <td>0</td>\n",
       "      <td>2012-10-01 04:32:56.834786+00:00</td>\n",
       "      <td>-36.801756</td>\n",
       "      <td>-416.426130</td>\n",
       "      <td>37.890625</td>\n",
       "      <td>21</td>\n",
       "      <td>40.750478</td>\n",
       "      <td>-125.935772</td>\n",
       "      <td>37.890625</td>\n",
       "      <td>0</td>\n",
       "      <td>517520</td>\n",
       "      <td>0.005925</td>\n",
       "      <td>FS06B</td>\n",
       "      <td>S</td>\n",
       "      <td>1.349066e+09</td>\n",
       "    </tr>\n",
       "    <tr>\n",
       "      <th>3</th>\n",
       "      <td>0</td>\n",
       "      <td>2012-10-01 04:32:56.834786+00:00</td>\n",
       "      <td>-36.801756</td>\n",
       "      <td>-416.426130</td>\n",
       "      <td>37.890625</td>\n",
       "      <td>21</td>\n",
       "      <td>40.750478</td>\n",
       "      <td>-125.935772</td>\n",
       "      <td>37.890625</td>\n",
       "      <td>0</td>\n",
       "      <td>315136</td>\n",
       "      <td>-0.085126</td>\n",
       "      <td>FS10B</td>\n",
       "      <td>P</td>\n",
       "      <td>1.349066e+09</td>\n",
       "    </tr>\n",
       "    <tr>\n",
       "      <th>4</th>\n",
       "      <td>0</td>\n",
       "      <td>2012-10-01 04:32:56.834786+00:00</td>\n",
       "      <td>-36.801756</td>\n",
       "      <td>-416.426130</td>\n",
       "      <td>37.890625</td>\n",
       "      <td>21</td>\n",
       "      <td>40.750478</td>\n",
       "      <td>-125.935772</td>\n",
       "      <td>37.890625</td>\n",
       "      <td>0</td>\n",
       "      <td>478001</td>\n",
       "      <td>0.494051</td>\n",
       "      <td>FS20B</td>\n",
       "      <td>S</td>\n",
       "      <td>1.349066e+09</td>\n",
       "    </tr>\n",
       "    <tr>\n",
       "      <th>...</th>\n",
       "      <td>...</td>\n",
       "      <td>...</td>\n",
       "      <td>...</td>\n",
       "      <td>...</td>\n",
       "      <td>...</td>\n",
       "      <td>...</td>\n",
       "      <td>...</td>\n",
       "      <td>...</td>\n",
       "      <td>...</td>\n",
       "      <td>...</td>\n",
       "      <td>...</td>\n",
       "      <td>...</td>\n",
       "      <td>...</td>\n",
       "      <td>...</td>\n",
       "      <td>...</td>\n",
       "    </tr>\n",
       "    <tr>\n",
       "      <th>16351</th>\n",
       "      <td>1038</td>\n",
       "      <td>2012-10-31 23:52:20.194822+00:00</td>\n",
       "      <td>48.646000</td>\n",
       "      <td>-433.178816</td>\n",
       "      <td>31.640625</td>\n",
       "      <td>10</td>\n",
       "      <td>40.599010</td>\n",
       "      <td>-124.925282</td>\n",
       "      <td>31.640625</td>\n",
       "      <td>1038</td>\n",
       "      <td>194402</td>\n",
       "      <td>-0.420181</td>\n",
       "      <td>FS13B</td>\n",
       "      <td>P</td>\n",
       "      <td>1.351728e+09</td>\n",
       "    </tr>\n",
       "    <tr>\n",
       "      <th>16352</th>\n",
       "      <td>1038</td>\n",
       "      <td>2012-10-31 23:52:20.194822+00:00</td>\n",
       "      <td>48.646000</td>\n",
       "      <td>-433.178816</td>\n",
       "      <td>31.640625</td>\n",
       "      <td>10</td>\n",
       "      <td>40.599010</td>\n",
       "      <td>-124.925282</td>\n",
       "      <td>31.640625</td>\n",
       "      <td>1038</td>\n",
       "      <td>531534</td>\n",
       "      <td>-0.348028</td>\n",
       "      <td>FS13B</td>\n",
       "      <td>S</td>\n",
       "      <td>1.351728e+09</td>\n",
       "    </tr>\n",
       "    <tr>\n",
       "      <th>16353</th>\n",
       "      <td>1038</td>\n",
       "      <td>2012-10-31 23:52:20.194822+00:00</td>\n",
       "      <td>48.646000</td>\n",
       "      <td>-433.178816</td>\n",
       "      <td>31.640625</td>\n",
       "      <td>10</td>\n",
       "      <td>40.599010</td>\n",
       "      <td>-124.925282</td>\n",
       "      <td>31.640625</td>\n",
       "      <td>1038</td>\n",
       "      <td>314913</td>\n",
       "      <td>-0.698092</td>\n",
       "      <td>FS16B</td>\n",
       "      <td>P</td>\n",
       "      <td>1.351728e+09</td>\n",
       "    </tr>\n",
       "    <tr>\n",
       "      <th>16354</th>\n",
       "      <td>1038</td>\n",
       "      <td>2012-10-31 23:52:20.194822+00:00</td>\n",
       "      <td>48.646000</td>\n",
       "      <td>-433.178816</td>\n",
       "      <td>31.640625</td>\n",
       "      <td>10</td>\n",
       "      <td>40.599010</td>\n",
       "      <td>-124.925282</td>\n",
       "      <td>31.640625</td>\n",
       "      <td>1038</td>\n",
       "      <td>620338</td>\n",
       "      <td>0.851237</td>\n",
       "      <td>FS16B</td>\n",
       "      <td>S</td>\n",
       "      <td>1.351728e+09</td>\n",
       "    </tr>\n",
       "    <tr>\n",
       "      <th>16355</th>\n",
       "      <td>1038</td>\n",
       "      <td>2012-10-31 23:52:20.194822+00:00</td>\n",
       "      <td>48.646000</td>\n",
       "      <td>-433.178816</td>\n",
       "      <td>31.640625</td>\n",
       "      <td>10</td>\n",
       "      <td>40.599010</td>\n",
       "      <td>-124.925282</td>\n",
       "      <td>31.640625</td>\n",
       "      <td>1038</td>\n",
       "      <td>403160</td>\n",
       "      <td>0.057098</td>\n",
       "      <td>FS20B</td>\n",
       "      <td>S</td>\n",
       "      <td>1.351728e+09</td>\n",
       "    </tr>\n",
       "  </tbody>\n",
       "</table>\n",
       "<p>16356 rows × 15 columns</p>\n",
       "</div>"
      ],
      "text/plain": [
       "        idx                             time          x           y  \\\n",
       "0         0 2012-10-01 04:32:56.834786+00:00 -36.801756 -416.426130   \n",
       "1         0 2012-10-01 04:32:56.834786+00:00 -36.801756 -416.426130   \n",
       "2         0 2012-10-01 04:32:56.834786+00:00 -36.801756 -416.426130   \n",
       "3         0 2012-10-01 04:32:56.834786+00:00 -36.801756 -416.426130   \n",
       "4         0 2012-10-01 04:32:56.834786+00:00 -36.801756 -416.426130   \n",
       "...     ...                              ...        ...         ...   \n",
       "16351  1038 2012-10-31 23:52:20.194822+00:00  48.646000 -433.178816   \n",
       "16352  1038 2012-10-31 23:52:20.194822+00:00  48.646000 -433.178816   \n",
       "16353  1038 2012-10-31 23:52:20.194822+00:00  48.646000 -433.178816   \n",
       "16354  1038 2012-10-31 23:52:20.194822+00:00  48.646000 -433.178816   \n",
       "16355  1038 2012-10-31 23:52:20.194822+00:00  48.646000 -433.178816   \n",
       "\n",
       "               z  picks   latitude   longitude      depth  event_idx  \\\n",
       "0      37.890625     21  40.750478 -125.935772  37.890625          0   \n",
       "1      37.890625     21  40.750478 -125.935772  37.890625          0   \n",
       "2      37.890625     21  40.750478 -125.935772  37.890625          0   \n",
       "3      37.890625     21  40.750478 -125.935772  37.890625          0   \n",
       "4      37.890625     21  40.750478 -125.935772  37.890625          0   \n",
       "...          ...    ...        ...         ...        ...        ...   \n",
       "16351  31.640625     10  40.599010 -124.925282  31.640625       1038   \n",
       "16352  31.640625     10  40.599010 -124.925282  31.640625       1038   \n",
       "16353  31.640625     10  40.599010 -124.925282  31.640625       1038   \n",
       "16354  31.640625     10  40.599010 -124.925282  31.640625       1038   \n",
       "16355  31.640625     10  40.599010 -124.925282  31.640625       1038   \n",
       "\n",
       "       pick_idx  residual station phase     time_pick  \n",
       "0        153772  0.891797   FS01B     P  1.349066e+09  \n",
       "1        525840 -0.037750   FS02B     S  1.349066e+09  \n",
       "2        517520  0.005925   FS06B     S  1.349066e+09  \n",
       "3        315136 -0.085126   FS10B     P  1.349066e+09  \n",
       "4        478001  0.494051   FS20B     S  1.349066e+09  \n",
       "...         ...       ...     ...   ...           ...  \n",
       "16351    194402 -0.420181   FS13B     P  1.351728e+09  \n",
       "16352    531534 -0.348028   FS13B     S  1.351728e+09  \n",
       "16353    314913 -0.698092   FS16B     P  1.351728e+09  \n",
       "16354    620338  0.851237   FS16B     S  1.351728e+09  \n",
       "16355    403160  0.057098   FS20B     S  1.351728e+09  \n",
       "\n",
       "[16356 rows x 15 columns]"
      ]
     },
     "execution_count": 23,
     "metadata": {},
     "output_type": "execute_result"
    }
   ],
   "source": [
    "# Assign the event information to each pick by using pd.merge\n",
    "all_pick_assignments = pd.merge(events, assignments, left_on=\"idx\", right_on=\"event_idx\", suffixes=(\"\", \"_pick\"))\n",
    "all_pick_assignments"
   ]
  },
  {
   "cell_type": "code",
   "execution_count": 24,
   "id": "37ebd009",
   "metadata": {},
   "outputs": [],
   "source": [
    "# Save the assignments to a CSV file\n",
    "all_pick_assignments.to_csv(\"../data/all_pick_assignments_201210.csv\")"
   ]
  },
  {
   "cell_type": "code",
   "execution_count": 25,
   "id": "73c15960",
   "metadata": {},
   "outputs": [
    {
     "data": {
      "image/png": "[encoded data removed]",
      "text/plain": [
       "<Figure size 400x800 with 2 Axes>"
      ]
     },
     "metadata": {},
     "output_type": "display_data"
    }
   ],
   "source": [
    "# The parameters in the associator class: n_picks=2,n_p_picks=1,n_s_picks=1,n_p_and_s_picks=1\n",
    "fig = plt.figure(figsize=(4, 8))\n",
    "ax = fig.add_subplot()\n",
    "ax.set_aspect(\"equal\")\n",
    "\n",
    "# ax.scatter(events[\"x\"], events[\"y\"], c=events[\"z\"])\n",
    "ax.set_xlabel(\"Easting [km]\")\n",
    "ax.set_ylabel(\"Northing [km]\")\n",
    "cax = fig.add_axes([ax.get_position().x1+0.05,ax.get_position().y0,0.02,ax.get_position().height])\n",
    "cb1 = fig.colorbar(ax.scatter(events[\"x\"], events[\"y\"], c=events[\"z\"],s=0.5,cmap='viridis'), cax=cax)\n",
    "cb1.ax.invert_yaxis()"
   ]
  },
  {
   "cell_type": "code",
   "execution_count": null,
   "id": "18d4402a",
   "metadata": {
    "scrolled": true
   },
   "outputs": [],
   "source": [
    "# The parameters in the associator class: n_picks=2,n_p_picks=1,n_s_picks=1,n_p_and_s_picks=1\n",
    "fig = plt.figure(figsize=(4, 8))\n",
    "ax = fig.add_subplot()\n",
    "ax.set_aspect(\"equal\")\n",
    "\n",
    "ax.set_xlabel(\"Longitude [$^\\circ$]\")\n",
    "ax.set_ylabel(\"Latitude [$^\\circ$]\")\n",
    "cax = fig.add_axes([ax.get_position().x1+0.05,ax.get_position().y0,0.02,ax.get_position().height])\n",
    "cb1 = fig.colorbar(ax.scatter(events[\"longitude\"], events[\"latitude\"], c=events[\"z\"],cmap='viridis'), cax=cax)\n",
    "cb1.ax.invert_yaxis()"
   ]
  },
  {
   "cell_type": "markdown",
   "id": "2a605e6e",
   "metadata": {},
   "source": [
    "## Plot the associated events"
   ]
  },
  {
   "cell_type": "code",
   "execution_count": null,
   "id": "b60bfc02",
   "metadata": {},
   "outputs": [],
   "source": [
    "# Read the event dataframe saved above\n",
    "events = pd.read_csv('../data/events_october_temp_with_JCC.csv')"
   ]
  },
  {
   "cell_type": "code",
   "execution_count": null,
   "id": "705547c6",
   "metadata": {},
   "outputs": [],
   "source": [
    "events"
   ]
  },
  {
   "cell_type": "code",
   "execution_count": null,
   "id": "c13e1287",
   "metadata": {},
   "outputs": [],
   "source": [
    "# Plot the events \n",
    "import pygmt\n",
    "fig = pygmt.Figure()\n",
    "# grid = pygmt.datasets.load_earth_relief(resolution=\"15s\", region=[-126, -124, 40, 43])\n",
    "# # fig.shift_origin(yshift=\"10c\")\n",
    "# fig.grdimage(grid=grid, projection=\"M15c\", frame=\"a\", cmap=\"geo\", transparency = 50)\n",
    "# # fig.plot(x = events_morton_201210_lon, y = events_morton_201210_lat,  \n",
    "# #          color = 'blue', size = size_morton, style = \"c\", pen = \"black\")\n",
    "# # fig.plot(x = myevents_20121014_lon, y = myevents_20121014_lat,  \n",
    "# #          color = 'red', size = size_myevents, style = \"c\", pen = \"black\")\n",
    "# # fig.plot(x = events_jdf_201210_lon, y = events_jdf_201210_lat,  \n",
    "# #          color = 'yellow', size = size_jdf, style = \"c\", pen = \"black\")\n",
    "# # fig.plot(x = events_cascadia_201210_lon, y = events_cascadia_201210_lat,  \n",
    "# #          color = 'yellow', size = size_cascadia, style = \"c\", pen = \"black\")\n",
    "# # fig.plot(x = events_USGS_201210_lon, y = events_USGS_201210_lat,  \n",
    "# #          color = 'green', size = size_USGS, style = \"c\", pen = \"black\")\n",
    "# # # Draw a line between two events that we consider to be the same event \n",
    "# # Draw a line between two events that we consider to be the same event \n",
    "# # fig.plot(x = (event_0239_lon,event_morton_0239_lon), y = (event_0239_lat,event_morton_0239_lat), pen =\"4p, red\")\n",
    "# # fig.plot(x = (event_0239_lon,event_morton_0239_lon), y = (event_0239_lat,event_morton_0308_lat), pen =\"4p, red\")\n",
    "# fig.plot(x=events[\"x\"], y=events[\"y\"], c=events[\"z\"],s=0.5,cmap='viridis')\n",
    "# fig.show()\n",
    "\n",
    "grid = pygmt.datasets.load_earth_relief(resolution=\"15s\", region=[-127, -123, 40, 50])\n",
    "fig.shift_origin(yshift=\"10c\")\n",
    "fig.grdimage(grid=grid, projection=\"M15c\", frame=\"a\", cmap=\"geo\", transparency = 50)\n",
    "pygmt.makecpt(cmap=\"hot\", series=[min(events['picks'].values), max(events['picks'].values)])\n",
    "fig.plot(\n",
    "    x=events[\"longitude\"].values,\n",
    "    y=events[\"latitude\"].values,\n",
    "    size=0.3 * np.ones(len(events)),\n",
    "    fill=events['picks'].values,\n",
    "    cmap=True,\n",
    "    style=\"cc\",\n",
    "    pen=\"black\",\n",
    ")\n",
    "fig.colorbar(frame=\"xaf+lNumber of Picks\")\n",
    "# fig.plot(x=events[\"longitude\"].values[0:200], y=events[\"latitude\"].values[0:200], style=\"c0.3c\", color=events['picks'].values[0:200], cmap='viridis', pen=\"black\")\n",
    "fig.show()"
   ]
  },
  {
   "cell_type": "code",
   "execution_count": null,
   "id": "09747c11",
   "metadata": {},
   "outputs": [],
   "source": []
  },
  {
   "cell_type": "markdown",
   "id": "4ee49480",
   "metadata": {},
   "source": [
    "## Association validation (not necessary anymore) \n",
    "Get the events from the USGS and compare with the events from the association\n"
   ]
  },
  {
   "cell_type": "code",
   "execution_count": null,
   "id": "75d2c561",
   "metadata": {},
   "outputs": [],
   "source": [
    "client = Client(\"USGS\")\n",
    "client_waveforms = WaveformClient()\n",
    "client.get_events(starttime = UTCDateTime(\"2012-10-14T00:00:00.000000\"),\n",
    "                  endtime   = UTCDateTime(\"2012-10-14T23:59:59.999999\"),\n",
    "                  minlatitude = 40, maxlatitude = 44, \n",
    "                  minlongitude = -125, maxlongitude = -120)\n"
   ]
  },
  {
   "cell_type": "code",
   "execution_count": null,
   "id": "5921ac85",
   "metadata": {},
   "outputs": [],
   "source": [
    "# Pick a station \n",
    "s = client_waveforms.get_waveforms(network=\"7D\", station=\"FS09B\", channel=\"BH?\", year=2012, month=10, day=14)\n",
    "s.filter(type='bandpass',freqmin=4,freqmax=15)"
   ]
  },
  {
   "cell_type": "code",
   "execution_count": null,
   "id": "52bc56fb",
   "metadata": {},
   "outputs": [],
   "source": [
    "# Pick a time that shows up in both the USGS catalog and the event data frame from the association above \n",
    "time1 = events.loc[1, 'time']"
   ]
  },
  {
   "cell_type": "code",
   "execution_count": null,
   "id": "e24b438d",
   "metadata": {},
   "outputs": [],
   "source": [
    "time1"
   ]
  },
  {
   "cell_type": "code",
   "execution_count": null,
   "id": "16eb9cc6",
   "metadata": {},
   "outputs": [],
   "source": [
    "trim_s = s.copy().trim(starttime = UTCDateTime(time1) - 20, \n",
    "                endtime = UTCDateTime(time1) + 40)\n",
    "fig = plt.figure(figsize = (10, 4))\n",
    "trim_s.plot(fig=fig)\n",
    "\n",
    "# [ax.axvline(pick.peak_time.matplotlib_date, \n",
    "#             linestyle = '--', color = 'r', label = f'{pick.phase} pick') for ax in fig.axes]\n",
    "# [ax.legend() for ax in fig.axes]"
   ]
  },
  {
   "cell_type": "code",
   "execution_count": null,
   "id": "ea03a6cb",
   "metadata": {},
   "outputs": [],
   "source": [
    "# Pick another time that shows up in both the USGS catalog and the event data frame from the association above \n",
    "time2 = events.loc[2, 'time']\n",
    "time2"
   ]
  },
  {
   "cell_type": "code",
   "execution_count": null,
   "id": "d6006088",
   "metadata": {},
   "outputs": [],
   "source": [
    "trim_s = s.copy().trim(starttime = UTCDateTime(time2) - 20, \n",
    "                endtime = UTCDateTime(time2) + 40)\n",
    "fig = plt.figure(figsize = (10, 4))\n",
    "trim_s.plot(fig=fig)\n",
    "\n",
    "# [ax.axvline(pick.peak_time.matplotlib_date, \n",
    "#             linestyle = '--', color = 'r', label = f'{pick.phase} pick') for ax in fig.axes]\n",
    "# [ax.legend() for ax in fig.axes]"
   ]
  },
  {
   "cell_type": "markdown",
   "id": "6382af9b",
   "metadata": {},
   "source": [
    "## Other Picks"
   ]
  },
  {
   "cell_type": "code",
   "execution_count": null,
   "id": "5109e9ee",
   "metadata": {},
   "outputs": [],
   "source": [
    "time = events['time']\n",
    "time"
   ]
  },
  {
   "cell_type": "code",
   "execution_count": null,
   "id": "dc7fe7f7",
   "metadata": {},
   "outputs": [],
   "source": [
    "time_possibly_new_events = time.drop(labels=[1,2], axis=0)\n",
    "time_possibly_new_events"
   ]
  },
  {
   "cell_type": "code",
   "execution_count": null,
   "id": "74e0cb1e",
   "metadata": {
    "scrolled": false
   },
   "outputs": [],
   "source": [
    "for time in time_possibly_new_events:\n",
    "    plt.figure(figsize=(10,10))\n",
    "    for i in range(len(stations)):\n",
    "        s = client_waveforms.get_waveforms(network=\"7D\", station=stations['id'][i], channel=\"?H?\", year=2012, month=10, day=14)\n",
    "        s = s.select(channel = \"[HB]H?\")\n",
    "        s.filter(type='bandpass',freqmin=4,freqmax=15)\n",
    "        if s[0].stats.channel == 'HH1':\n",
    "            s = s.resample(50)\n",
    "        else:\n",
    "            pass \n",
    "\n",
    "        trim_s = s.copy().trim(starttime = UTCDateTime(time) - 10, endtime = UTCDateTime(time) + 50)\n",
    "        sdata = np.array(trim_s)[:,:]\n",
    "        sdata_norm = (sdata-np.min(sdata, axis=1, keepdims=True))/(np.max(sdata, axis=1, keepdims=True)-np.min(sdata, axis=1, keepdims=True))\n",
    "        offsets2 = np.arange(0,3*len(sdata)*len(stations),3*len(sdata))\n",
    "\n",
    "        for ii in range(len(sdata)):\n",
    "            offsets1  = np.arange(0,len(sdata))\n",
    "            plt.plot(trim_s[ii].times(type='utcdatetime'), sdata_norm[ii]+offsets1[ii]+offsets2[i], color = 'gray', alpha=0.7, lw=0.5)    \n",
    "\n",
    "\n",
    "    plt.yticks(offsets2+1, stations['id'])\n",
    "    plt.axvline(time,ls='-', c='r')\n",
    "    plt.title(time)"
   ]
  },
  {
   "cell_type": "code",
   "execution_count": null,
   "id": "1ba96a54",
   "metadata": {},
   "outputs": [],
   "source": []
  },
  {
   "cell_type": "code",
   "execution_count": null,
   "id": "922d45d2",
   "metadata": {},
   "outputs": [],
   "source": []
  },
  {
   "cell_type": "code",
   "execution_count": null,
   "id": "ad773019",
   "metadata": {},
   "outputs": [],
   "source": []
  },
  {
   "cell_type": "code",
   "execution_count": null,
   "id": "8bf6a534",
   "metadata": {},
   "outputs": [],
   "source": []
  },
  {
   "cell_type": "code",
   "execution_count": null,
   "id": "0711c1ac",
   "metadata": {},
   "outputs": [],
   "source": []
  },
  {
   "cell_type": "code",
   "execution_count": null,
   "id": "56b6f13d",
   "metadata": {},
   "outputs": [],
   "source": []
  },
  {
   "cell_type": "code",
   "execution_count": null,
   "id": "6d113604",
   "metadata": {},
   "outputs": [],
   "source": []
  },
  {
   "cell_type": "code",
   "execution_count": null,
   "id": "4c756483",
   "metadata": {},
   "outputs": [],
   "source": []
  },
  {
   "cell_type": "code",
   "execution_count": null,
   "id": "07f5c96c",
   "metadata": {},
   "outputs": [],
   "source": []
  },
  {
   "cell_type": "code",
   "execution_count": null,
   "id": "541bb971",
   "metadata": {},
   "outputs": [],
   "source": [
    "# Plot waveforms of events picked by the associator but not on the USGS catalog\n",
    "time4 = events.loc[4, 'time']\n",
    "time4"
   ]
  },
  {
   "cell_type": "code",
   "execution_count": null,
   "id": "663b712a",
   "metadata": {},
   "outputs": [],
   "source": [
    "# s_FS09B = client_waveforms.get_waveforms(network=\"7D\", station=\"FS09B\", channel=\"BH?\", year=2012, month=10, day=14)\n",
    "# s_G10B = client_waveforms.get_waveforms(network=\"7D\", station=\"G10B\", channel=\"BH?\", year=2012, month=10, day=14)\n",
    "# s_G19B = client_waveforms.get_waveforms(network=\"7D\", station=\"G19B\", channel=\"BH?\", year=2012, month=10, day=14)\n",
    "# s_G25B = client_waveforms.get_waveforms(network=\"7D\", station=\"G25B\", channel=\"BH?\", year=2012, month=10, day=14)\n",
    "# s_G27B = client_waveforms.get_waveforms(network=\"7D\", station=\"G27B\", channel=\"BH?\", year=2012, month=10, day=14)\n",
    "# s_J09B = client_waveforms.get_waveforms(network=\"7D\", station=\"J09B\", channel=\"BH?\", year=2012, month=10, day=14)\n",
    "# s_M12B= client_waveforms.get_waveforms(network=\"7D\", station=\"M12B\", channel=\"BH?\", year=2012, month=10, day=14)\n",
    "# s_M14B = client_waveforms.get_waveforms(network=\"7D\", station=\"M14B\", channel=\"BH?\", year=2012, month=10, day=14)\n"
   ]
  },
  {
   "cell_type": "code",
   "execution_count": null,
   "id": "af5a9fec",
   "metadata": {},
   "outputs": [],
   "source": [
    "# trim_s_FS09B = s.copy().trim(starttime = UTCDateTime(time1) - 20, endtime = UTCDateTime(time1) + 40)\n",
    "# trim_s_G10B = s.copy().trim(starttime = UTCDateTime(time1) - 20, endtime = UTCDateTime(time1) + 40)\n",
    "# trim_s_G19B = s.copy().trim(starttime = UTCDateTime(time1) - 20, endtime = UTCDateTime(time1) + 40)\n",
    "# trim_s_G25B = s.copy().trim(starttime = UTCDateTime(time1) - 20, endtime = UTCDateTime(time1) + 40)\n",
    "# trim_s_G27B = s.copy().trim(starttime = UTCDateTime(time1) - 20, endtime = UTCDateTime(time1) + 40)\n",
    "# trim_s_J09B = s.copy().trim(starttime = UTCDateTime(time1) - 20, endtime = UTCDateTime(time1) + 40)\n",
    "# trim_s_M12B = s.copy().trim(starttime = UTCDateTime(time1) - 20, endtime = UTCDateTime(time1) + 40)\n",
    "# trim_s_M14B = s.copy().trim(starttime = UTCDateTime(time1) - 20, endtime = UTCDateTime(time1) + 40)\n",
    "\n"
   ]
  },
  {
   "cell_type": "code",
   "execution_count": null,
   "id": "fccedef5",
   "metadata": {
    "scrolled": true
   },
   "outputs": [],
   "source": [
    "for i, station in enumerate(stations['id']):\n",
    "    s = client_waveforms.get_waveforms(network=\"7D\", station=station, channel=\"?H?\", year=2012, month=10, day=14)\n",
    "    s = s.select(channel = \"[HB]H?\")\n",
    "    s.filter(type='bandpass',freqmin=4,freqmax=15)\n",
    "    trim_s = s.copy().trim(starttime = UTCDateTime(pick_time[4]) - 20, endtime = UTCDateTime(pick_time[4]) + 100)\n",
    "    fig = plt.figure(figsize=(10,4))\n",
    "    trim_s.plot(fig=fig)\n",
    "    [ax.axvline(pick_time[4], \n",
    "            linestyle = '--', color = 'r', label = 'pick time') for ax in fig.axes]    \n"
   ]
  },
  {
   "cell_type": "code",
   "execution_count": null,
   "id": "2f71da0a",
   "metadata": {},
   "outputs": [],
   "source": [
    "offsets1  = np.arange(0,3)\n",
    "offsets2 = np.arange(0,2*len(stations),2)\n",
    "\n"
   ]
  },
  {
   "cell_type": "code",
   "execution_count": null,
   "id": "afb10228",
   "metadata": {},
   "outputs": [],
   "source": [
    "offsets1"
   ]
  },
  {
   "cell_type": "code",
   "execution_count": null,
   "id": "12481d1c",
   "metadata": {},
   "outputs": [],
   "source": [
    "offsets2 = np.arange(0,2*10000*len(stations),2*10000)\n",
    "\n",
    "offsets2"
   ]
  },
  {
   "cell_type": "code",
   "execution_count": null,
   "id": "6c636fb6",
   "metadata": {},
   "outputs": [],
   "source": [
    "plt.figure()\n",
    "offsets2 = np.arange(0,5*10000*len(stations),5*10000)\n",
    "\n",
    "for i, station in enumerate(stations['id']):\n",
    "    s = client_waveforms.get_waveforms(network=\"7D\", station=station, channel=\"?H?\", year=2012, month=10, day=14)\n",
    "    s = s.select(channel = \"[HB]H?\")\n",
    "    s.filter(type='bandpass',freqmin=4,freqmax=15)\n",
    "    trim_s = s.copy().trim(starttime = UTCDateTime(pick_time[4]) - 20, endtime = UTCDateTime(pick_time[4]) + 100)\n",
    "    sdata = np.array(trim_s)[:,:]\n",
    "    for ii in range(len(sdata)):\n",
    "        offsets1  = np.arange(0,10000*len(sdata),10000)\n",
    "        plt.plot(sdata[ii].T+offsets1[ii]+offsets2[i], color = 'gray', alpha=0.5)   \n"
   ]
  },
  {
   "cell_type": "code",
   "execution_count": null,
   "id": "dd3cf9cb",
   "metadata": {},
   "outputs": [],
   "source": [
    "offsets2 = np.arange(0,5*100000*len(stations),5*100000)\n",
    "\n",
    "\n",
    "s = client_waveforms.get_waveforms(network=\"7D\", station=stations['id'][0], channel=\"?H?\", year=2012, month=10, day=14)\n",
    "s = s.select(channel = \"[HB]H?\")\n",
    "s.filter(type='bandpass',freqmin=4,freqmax=15)\n",
    "sampling_rate = s[0].stats.sampling_rate\n",
    "trim_s = s.copy().trim(starttime = UTCDateTime(pick_time[4]) - 10, endtime = UTCDateTime(pick_time[4]) + 50)\n",
    "sdata = np.array(trim_s)[:,:]\n",
    "sdata_norm = (sdata - np.mean(sdata, axis=1, keepdims=True))/(np.std(sdata, axis=1, keepdims=True))\n",
    "\n",
    "for ii in range(len(sdata)):\n",
    "    offsets1  = np.arange(0,len(sdata))\n",
    "    plt.plot(sdata_norm.T+offsets1[ii], color = 'gray', alpha=0.5, lw=0.5)\n",
    "\n",
    "plt.axvline(10*sampling_rate,ls='-', c='r')\n",
    "    \n"
   ]
  },
  {
   "cell_type": "code",
   "execution_count": null,
   "id": "6db09907",
   "metadata": {},
   "outputs": [],
   "source": [
    "sdata.mean()"
   ]
  },
  {
   "cell_type": "code",
   "execution_count": null,
   "id": "d49994be",
   "metadata": {},
   "outputs": [],
   "source": [
    "s[0].stats.sampling_rate*120"
   ]
  },
  {
   "cell_type": "code",
   "execution_count": null,
   "id": "c0574f27",
   "metadata": {},
   "outputs": [],
   "source": [
    "s = client_waveforms.get_waveforms(network=\"7D\", station=stations['id'][3], channel=\"?H?\", year=2012, month=10, day=14)\n",
    "s = s.select(channel = \"[HB]H?\")\n",
    "s.filter(type='bandpass',freqmin=4,freqmax=15)\n",
    "trim_s = s.copy().trim(starttime = UTCDateTime(pick_time[4]) - 10, endtime = UTCDateTime(pick_time[4]) + 50)\n",
    "sdata = np.array(trim_s)[:,:]\n",
    "sdata_norm = (sdata - np.mean(sdata, axis=1, keepdims=True))/(np.std(sdata, axis=1, keepdims=True))\n",
    "\n",
    "for ii in range(len(sdata)):\n",
    "    offsets1  = np.arange(0,len(sdata))\n",
    "    plt.plot(sdata_norm.T+offsets1[ii], color = 'gray', alpha=0.5, lw=0.5)"
   ]
  },
  {
   "cell_type": "code",
   "execution_count": null,
   "id": "e6b0cb7a",
   "metadata": {},
   "outputs": [],
   "source": [
    "plt.figure(figsize=(10,10))\n",
    "offsets2 = np.arange(0,3*len(sdata)*len(stations),3*len(sdata))\n",
    "\n",
    "for i in range(len(stations)):\n",
    "    s = client_waveforms.get_waveforms(network=\"7D\", station=stations['id'][i], channel=\"?H?\", year=2012, month=10, day=14)\n",
    "    s = s.select(channel = \"[HB]H?\")\n",
    "    s.filter(type='bandpass',freqmin=4,freqmax=15)\n",
    "    trim_s = s.copy().trim(starttime = UTCDateTime(pick_time[4]) - 10, endtime = UTCDateTime(pick_time[4]) + 50)\n",
    "    sdata = np.array(trim_s)[:,:]\n",
    "    sdata_norm = (sdata - np.mean(sdata, axis=1, keepdims=True))/(np.std(sdata, axis=1, keepdims=True))\n",
    "\n",
    "    for ii in range(len(sdata)):\n",
    "        offsets1  = np.arange(0,len(sdata))\n",
    "        plt.plot(sdata_norm.T+offsets1[ii]+offsets2[i], color = 'gray', alpha=0.5, lw=0.5)    \n",
    "\n",
    "plt.axvline(10*sampling_rate,ls='-', c='r')\n"
   ]
  },
  {
   "cell_type": "code",
   "execution_count": null,
   "id": "19c686e5",
   "metadata": {},
   "outputs": [],
   "source": [
    "offsets2 = np.arange(0,3*len(sdata)*len(stations),3*len(sdata))\n",
    "offsets2"
   ]
  },
  {
   "cell_type": "code",
   "execution_count": null,
   "id": "e7018b5d",
   "metadata": {},
   "outputs": [],
   "source": [
    "np.mean(sdata, axis=1, keepdims=True)"
   ]
  },
  {
   "cell_type": "code",
   "execution_count": null,
   "id": "0e2ae66a",
   "metadata": {},
   "outputs": [],
   "source": [
    "sdata"
   ]
  },
  {
   "cell_type": "code",
   "execution_count": null,
   "id": "ae3a3c94",
   "metadata": {
    "scrolled": true
   },
   "outputs": [],
   "source": [
    "np.mean(sdata[0])"
   ]
  },
  {
   "cell_type": "code",
   "execution_count": null,
   "id": "21ad1bd4",
   "metadata": {},
   "outputs": [],
   "source": [
    "(sdata - np.mean(sdata, axis=1, keepdims=True))/(np.std(sdata, axis=1, keepdims=True))"
   ]
  },
  {
   "cell_type": "code",
   "execution_count": null,
   "id": "d22e3aa6",
   "metadata": {},
   "outputs": [],
   "source": [
    "(225.73644077-0.28159811)/20312.08876045"
   ]
  },
  {
   "cell_type": "code",
   "execution_count": null,
   "id": "195cbc12",
   "metadata": {},
   "outputs": [],
   "source": [
    "np.std(sdata, axis=1, keepdims=True) "
   ]
  },
  {
   "cell_type": "code",
   "execution_count": null,
   "id": "5d683445",
   "metadata": {},
   "outputs": [],
   "source": [
    "sdata"
   ]
  },
  {
   "cell_type": "code",
   "execution_count": null,
   "id": "52abdd98",
   "metadata": {},
   "outputs": [],
   "source": [
    "np.max(sdata, axis=1, keepdims=True)"
   ]
  },
  {
   "cell_type": "code",
   "execution_count": null,
   "id": "5300ce85",
   "metadata": {},
   "outputs": [],
   "source": [
    "np.min(sdata, axis=1, keepdims=True)"
   ]
  },
  {
   "cell_type": "code",
   "execution_count": null,
   "id": "2fd831f7",
   "metadata": {},
   "outputs": [],
   "source": [
    "(sdata-np.min(sdata, axis=1, keepdims=True))/(np.max(sdata, axis=1, keepdims=True)-np.min(sdata, axis=1, keepdims=True))"
   ]
  },
  {
   "cell_type": "code",
   "execution_count": null,
   "id": "ab06af2b",
   "metadata": {},
   "outputs": [],
   "source": [
    "plt.figure(figsize=(10,10))\n",
    "offsets2 = np.arange(0,3*len(sdata)*len(stations),3*len(sdata))\n",
    "\n",
    "for i in range(len(stations)):\n",
    "    s = client_waveforms.get_waveforms(network=\"7D\", station=stations['id'][i], channel=\"?H?\", year=2012, month=10, day=14)\n",
    "    s = s.select(channel = \"[HB]H?\")\n",
    "    s.filter(type='bandpass',freqmin=4,freqmax=15)\n",
    "    trim_s = s.copy().trim(starttime = UTCDateTime(pick_time[4]) - 10, endtime = UTCDateTime(pick_time[4]) + 50)\n",
    "    sdata = np.array(trim_s)[:,:]\n",
    "    if s[0].stats.channel == 'HH1':\n",
    "        new_rate = 50\n",
    "        number_of_samples = round(len(sdata[0]) * float(new_rate) /s[0].stats.sampling_rate)\n",
    "        sdata = signal.resample(sdata, number_of_samples, axis=-1)\n",
    "    else:\n",
    "        pass \n",
    "    print(len(sdata[-1]))\n",
    "    sdata_norm = (sdata-np.min(sdata, axis=1, keepdims=True))/(np.max(sdata, axis=1, keepdims=True)-np.min(sdata, axis=1, keepdims=True))\n",
    "    for ii in range(len(sdata)):\n",
    "        offsets1  = np.arange(0,len(sdata))\n",
    "        plt.plot(sdata_norm.T+offsets1[ii]+offsets2[i], color = 'gray', alpha=0.5, lw=0.5)    \n",
    "\n",
    "plt.axvline(10*sampling_rate,ls='-', c='r')\n",
    "# plt.xlim(0,3000)\n"
   ]
  },
  {
   "cell_type": "code",
   "execution_count": null,
   "id": "af90cc14",
   "metadata": {},
   "outputs": [],
   "source": [
    "s = client_waveforms.get_waveforms(network=\"7D\", station=stations['id'][3], channel=\"?H?\", year=2012, month=10, day=14)\n",
    "s = s.select(channel = \"[HB]H?\")\n",
    "s.filter(type='bandpass',freqmin=4,freqmax=15)\n",
    "trim_s = s.copy().trim(starttime = UTCDateTime(pick_time[4]) - 10, endtime = UTCDateTime(pick_time[4]) + 50)\n",
    "sdata = np.array(trim_s)[:,:]\n",
    "sdata_norm = (sdata-np.min(sdata, axis=1, keepdims=True))/(np.max(sdata, axis=1, keepdims=True)-np.min(sdata, axis=1, keepdims=True))"
   ]
  },
  {
   "cell_type": "code",
   "execution_count": null,
   "id": "bb688b1e",
   "metadata": {},
   "outputs": [],
   "source": [
    "UTCDateTime(pick_time[4]) - 10"
   ]
  },
  {
   "cell_type": "code",
   "execution_count": null,
   "id": "c2c7c95c",
   "metadata": {},
   "outputs": [],
   "source": [
    "UTCDateTime(pick_time[4]) + 50"
   ]
  },
  {
   "cell_type": "code",
   "execution_count": null,
   "id": "34d6a893",
   "metadata": {},
   "outputs": [],
   "source": [
    "s[0].stats.sampling_rate"
   ]
  },
  {
   "cell_type": "code",
   "execution_count": null,
   "id": "9d907651",
   "metadata": {},
   "outputs": [],
   "source": [
    "s[0].stats.channel"
   ]
  },
  {
   "cell_type": "code",
   "execution_count": null,
   "id": "535ee984",
   "metadata": {},
   "outputs": [],
   "source": [
    "len(s[-1])"
   ]
  },
  {
   "cell_type": "code",
   "execution_count": null,
   "id": "b168bade",
   "metadata": {},
   "outputs": [],
   "source": [
    "s[0].stats.sampling_rate"
   ]
  },
  {
   "cell_type": "code",
   "execution_count": null,
   "id": "a83dc622",
   "metadata": {},
   "outputs": [],
   "source": [
    "s[0].stats.channel"
   ]
  },
  {
   "cell_type": "code",
   "execution_count": null,
   "id": "1d572a67",
   "metadata": {},
   "outputs": [],
   "source": [
    "len(s[-1])"
   ]
  },
  {
   "cell_type": "code",
   "execution_count": null,
   "id": "7e7f277e",
   "metadata": {},
   "outputs": [],
   "source": [
    "s = signal.decimate(s, 125/50, axis=-1)"
   ]
  },
  {
   "cell_type": "code",
   "execution_count": null,
   "id": "63d03af5",
   "metadata": {},
   "outputs": [],
   "source": [
    "np.array(s)"
   ]
  },
  {
   "cell_type": "code",
   "execution_count": null,
   "id": "a13c4a5b",
   "metadata": {},
   "outputs": [],
   "source": [
    "int(125/50)"
   ]
  },
  {
   "cell_type": "code",
   "execution_count": null,
   "id": "f395161d",
   "metadata": {},
   "outputs": [],
   "source": [
    "new_rate = 50\n",
    "number_of_samples = round(len(s[0]) * float(new_rate) / 125)\n",
    "number_of_samples"
   ]
  },
  {
   "cell_type": "code",
   "execution_count": null,
   "id": "f6af4263",
   "metadata": {},
   "outputs": [],
   "source": [
    "s = signal.resample(s, number_of_samples, axis=-1)\n",
    "len(s[-1])"
   ]
  },
  {
   "cell_type": "code",
   "execution_count": null,
   "id": "cabd13f2",
   "metadata": {},
   "outputs": [],
   "source": [
    "s"
   ]
  },
  {
   "cell_type": "code",
   "execution_count": null,
   "id": "5956c34a",
   "metadata": {},
   "outputs": [],
   "source": [
    "s = client_waveforms.get_waveforms(network=\"7D\", station=stations['id'][3], channel=\"?H?\", year=2012, month=10, day=14)\n",
    "s = s.select(channel = \"[HB]H?\")\n",
    "s.filter(type='bandpass',freqmin=4,freqmax=15)\n",
    "trim_s = s.copy().trim(starttime = UTCDateTime(pick_time[4]) - 10, endtime = UTCDateTime(pick_time[4]) + 50)\n",
    "sdata = np.array(trim_s)[:,:]\n",
    "print(len(sdata[-1]))\n",
    "\n",
    "new_rate = 50\n",
    "number_of_samples = round(len(sdata[0]) * float(new_rate) /s[0].stats.sampling_rate)\n",
    "sdata = signal.resample(sdata, number_of_samples, axis=-1)\n",
    "print(len(sdata[-1]))"
   ]
  },
  {
   "cell_type": "code",
   "execution_count": null,
   "id": "0d085d1e",
   "metadata": {},
   "outputs": [],
   "source": [
    "trim_s[0].times(reftime=UTCDateTime(pick_time[4]) - 10)"
   ]
  },
  {
   "cell_type": "code",
   "execution_count": null,
   "id": "97840d66",
   "metadata": {},
   "outputs": [],
   "source": [
    "UTCDateTime(pick_time[4])"
   ]
  },
  {
   "cell_type": "code",
   "execution_count": null,
   "id": "831d72ec",
   "metadata": {},
   "outputs": [],
   "source": [
    "trim_s.trigger('recstalta',sta=1, lta=4)"
   ]
  },
  {
   "cell_type": "code",
   "execution_count": null,
   "id": "0ef2ff26",
   "metadata": {},
   "outputs": [],
   "source": [
    "trim_s.plot()"
   ]
  },
  {
   "cell_type": "code",
   "execution_count": null,
   "id": "b6d72b35",
   "metadata": {},
   "outputs": [],
   "source": [
    "plt.figure(figsize=(10,10))\n",
    "offsets2 = np.arange(0,3*len(sdata)*len(stations),3*len(sdata))\n",
    "\n",
    "for i in range(len(stations)):\n",
    "    s = client_waveforms.get_waveforms(network=\"7D\", station=stations['id'][i], channel=\"?H?\", year=2012, month=10, day=14)\n",
    "    s = s.select(channel = \"[HB]H?\")\n",
    "    s.filter(type='bandpass',freqmin=4,freqmax=15)\n",
    "    if s[0].stats.channel == 'HH1':\n",
    "        s = s.resample(50)\n",
    "    else:\n",
    "        pass \n",
    "    \n",
    "    trim_s = s.copy().trim(starttime = UTCDateTime(pick_time[4]) - 10, endtime = UTCDateTime(pick_time[4]) + 50)\n",
    "    sdata = np.array(trim_s)[:,:]\n",
    "    sdata_norm = (sdata-np.min(sdata, axis=1, keepdims=True))/(np.max(sdata, axis=1, keepdims=True)-np.min(sdata, axis=1, keepdims=True))\n",
    "    \n",
    "    for ii in range(len(sdata)):\n",
    "        offsets1  = np.arange(0,len(sdata))\n",
    "        plt.plot(trim_s[ii].times(type='utcdatetime'), sdata_norm[ii]+offsets1[ii]+offsets2[i], color = 'gray', alpha=0.7, lw=0.5)    \n",
    "    \n",
    "\n",
    "plt.yticks(offsets2+1, stations['id'])\n",
    "plt.axvline(pick_time[4],ls='-', c='r')\n",
    "plt.title(pick_time[4])\n",
    "\n",
    "# plt.xlim(0,3000)\n"
   ]
  },
  {
   "cell_type": "code",
   "execution_count": null,
   "id": "008cc67e",
   "metadata": {},
   "outputs": [],
   "source": []
  },
  {
   "cell_type": "code",
   "execution_count": null,
   "id": "54291c17",
   "metadata": {},
   "outputs": [],
   "source": [
    "np.arange(0,3*len(sdata)*len(stations),3*len(sdata))"
   ]
  },
  {
   "cell_type": "code",
   "execution_count": null,
   "id": "4424bc02",
   "metadata": {},
   "outputs": [],
   "source": [
    "stations['id']"
   ]
  },
  {
   "cell_type": "code",
   "execution_count": null,
   "id": "1d2f0ca4",
   "metadata": {},
   "outputs": [],
   "source": [
    "all_picks, all_detections = model.classify(sdata)"
   ]
  },
  {
   "cell_type": "code",
   "execution_count": null,
   "id": "4fa17a55",
   "metadata": {},
   "outputs": [],
   "source": [
    "picks_G25B =  pd.read_csv(\"~/notebooks/data/catalogs_elep_filtered_stations_20121001_to_20121031/G25B_20121014.csv\",index_col=0)\n",
    "picks_G25B"
   ]
  },
  {
   "cell_type": "code",
   "execution_count": null,
   "id": "2acfad2f",
   "metadata": {},
   "outputs": [],
   "source": [
    "pick_time[4]"
   ]
  },
  {
   "cell_type": "markdown",
   "id": "138c8708",
   "metadata": {},
   "source": [
    "## Plot the associated events on a map"
   ]
  },
  {
   "cell_type": "code",
   "execution_count": null,
   "id": "cb9e1552",
   "metadata": {},
   "outputs": [],
   "source": [
    "import pygmt\n",
    "\n",
    "fig = pygmt.Figure()\n",
    "grid = pygmt.datasets.load_earth_relief(resolution=\"15s\", region=[-126, -124, 40, 43])\n",
    "# fig.shift_origin(yshift=\"10c\")\n",
    "fig.grdimage(grid=grid, projection=\"M15c\", frame=\"a\", cmap=\"geo\", transparency = 50)\n",
    "fig.plot(x = events_morton_lon, y = events_morton_lat,  \n",
    "         color = 'blue', size = size_morton, style = \"c\", pen = \"black\")\n",
    "fig.plot(x = events_longitude, y = events_latitude,  \n",
    "         color = 'red', size = size, style = \"c\", pen = \"black\")\n",
    "fig.plot(x = events_jdf_lon, y = events_jdf_lat,  \n",
    "         color = 'yellow', size = size_jdf, style = \"c\", pen = \"black\")\n",
    "fig.plot(x = events_cascadia_lon, y = events_cascadia_lat,  \n",
    "         color = 'yellow', size = size_cascadia, style = \"c\", pen = \"black\")\n",
    "# # Draw a line between two events that we consider to be the same event \n",
    "# fig.plot(x = [, y = events_cascadia_lat,  \n",
    "#          color = 'yellow', size = size_cascadia, style = \"c\", pen = \"black\")\n",
    "\n",
    "fig.show()"
   ]
  },
  {
   "cell_type": "code",
   "execution_count": null,
   "id": "7ac735d6",
   "metadata": {},
   "outputs": [],
   "source": [
    "events_longitude = events['longitude']\n",
    "events_longitude"
   ]
  },
  {
   "cell_type": "code",
   "execution_count": null,
   "id": "858fa46e",
   "metadata": {},
   "outputs": [],
   "source": [
    "events_latitude = events['latitude']\n",
    "events_latitude "
   ]
  },
  {
   "cell_type": "code",
   "execution_count": null,
   "id": "b9552623",
   "metadata": {},
   "outputs": [],
   "source": [
    "# Assign the size of 0.5 to all the points for the associated events \n",
    "\n",
    "size = np.zeros(len(events))\n",
    "for i in range(len(events)):\n",
    "    size[i] = 0.2"
   ]
  },
  {
   "cell_type": "code",
   "execution_count": null,
   "id": "06a70bd2",
   "metadata": {},
   "outputs": [],
   "source": [
    "size_jdf = np.zeros(len(events_jdf))\n",
    "for i in range(len(events_jdf)):\n",
    "    size_jdf[i] = 0.2"
   ]
  },
  {
   "cell_type": "code",
   "execution_count": null,
   "id": "bb70da38",
   "metadata": {},
   "outputs": [],
   "source": [
    "size_cascadia = np.zeros(len(events_cascadia))\n",
    "for i in range(len(events_cascadia)):\n",
    "    size_cascadia[i] = 0.2"
   ]
  },
  {
   "cell_type": "code",
   "execution_count": null,
   "id": "ce8e9541",
   "metadata": {},
   "outputs": [],
   "source": [
    "size_morton = np.zeros(len(events_morton))\n",
    "for i in range(len(events_morton)):\n",
    "    size_morton[i] = 0.2"
   ]
  },
  {
   "cell_type": "code",
   "execution_count": null,
   "id": "73d6a339",
   "metadata": {},
   "outputs": [],
   "source": [
    "len(size_cascadia)"
   ]
  },
  {
   "cell_type": "code",
   "execution_count": null,
   "id": "f2cc6940",
   "metadata": {},
   "outputs": [],
   "source": [
    "size"
   ]
  },
  {
   "cell_type": "code",
   "execution_count": null,
   "id": "e0d2ffb4",
   "metadata": {},
   "outputs": [],
   "source": [
    "events"
   ]
  },
  {
   "cell_type": "code",
   "execution_count": null,
   "id": "6e9ad89c",
   "metadata": {},
   "outputs": [],
   "source": [
    "type(events_latitude.shape)"
   ]
  },
  {
   "cell_type": "code",
   "execution_count": null,
   "id": "c9010046",
   "metadata": {},
   "outputs": [],
   "source": [
    "events_longitude.shape"
   ]
  },
  {
   "cell_type": "markdown",
   "id": "d47ceff7",
   "metadata": {},
   "source": [
    "## Load Data from Ian Stone's Paper"
   ]
  },
  {
   "cell_type": "code",
   "execution_count": null,
   "id": "3d24aafa",
   "metadata": {},
   "outputs": [],
   "source": [
    "events_cascadia = pd.read_csv('jgrb52524-sup-0002-2017jb014966-ds01.csv')\n",
    "events_jdf = pd.read_csv('jgrb52524-sup-0003-2017jb014966-ds02.csv')"
   ]
  },
  {
   "cell_type": "code",
   "execution_count": null,
   "id": "23f40e99",
   "metadata": {},
   "outputs": [],
   "source": [
    "events_cascadia[0:5]"
   ]
  },
  {
   "cell_type": "code",
   "execution_count": null,
   "id": "f8c8b46e",
   "metadata": {},
   "outputs": [],
   "source": [
    "events_jdf[0:5]"
   ]
  },
  {
   "cell_type": "code",
   "execution_count": null,
   "id": "49bab0b3",
   "metadata": {},
   "outputs": [],
   "source": [
    "# Get the latitude and longitude from Stone's catalog for JDF\n",
    "events_jdf_lon = events_jdf['Longitude']\n",
    "events_jdf_lat = events_jdf['Latitude']\n",
    "events_jdf_lat"
   ]
  },
  {
   "cell_type": "code",
   "execution_count": null,
   "id": "0436e3f9",
   "metadata": {},
   "outputs": [],
   "source": [
    "# Get the latitude and longitude from Stone's catalog for Cascadia\n",
    "events_cascadia_lon = events_cascadia['Longitude']\n",
    "events_cascadia_lat = events_cascadia['Latitude']\n",
    "events_cascadia_lon"
   ]
  },
  {
   "cell_type": "code",
   "execution_count": null,
   "id": "7de12c8c",
   "metadata": {},
   "outputs": [],
   "source": [
    "df.loc[df['datetime'] > datetime.datetime(2012, 10,12)]"
   ]
  },
  {
   "cell_type": "code",
   "execution_count": null,
   "id": "29143368",
   "metadata": {},
   "outputs": [],
   "source": [
    "df = pd.read_excel(\"jgrb52524-sup-0003-2017jb014966-ds02.xls\", header = None, skiprows = 1,\n",
    "              names = [\"Timestamp\", \"Longitude\", \"Latitude\", \"Depth (km)\", \"RMS (s)\", \"CI Year\"])\n",
    "\n",
    "df['datetime'] = df.apply(lambda a: datetime.datetime.fromtimestamp(a['Timestamp']), axis = 1)\n",
    "df"
   ]
  },
  {
   "cell_type": "markdown",
   "id": "c57cc902",
   "metadata": {},
   "source": [
    "- No events to match up with our associated events in the ds01 catalog from Stone's paper.\n",
    "- No events to match up with our associated events in the ds02 catalog from Stone's paper."
   ]
  },
  {
   "cell_type": "markdown",
   "id": "cc1e1829",
   "metadata": {},
   "source": [
    "## Load Data from Morton's Paper"
   ]
  },
  {
   "cell_type": "code",
   "execution_count": null,
   "id": "a905d172",
   "metadata": {},
   "outputs": [],
   "source": [
    "# Read Morton's catalog\n",
    "events_morton = pd.read_csv('ds01.csv')"
   ]
  },
  {
   "cell_type": "code",
   "execution_count": null,
   "id": "95bf9a45",
   "metadata": {},
   "outputs": [],
   "source": [
    "# Get the latitudes and longitudes for the events \n",
    "events_morton_lon = events_morton['LON']\n",
    "events_morton_lat = events_morton['LAT']"
   ]
  },
  {
   "cell_type": "code",
   "execution_count": null,
   "id": "bc0029d9",
   "metadata": {},
   "outputs": [],
   "source": [
    "events_morton_lat[0:5]"
   ]
  },
  {
   "cell_type": "code",
   "execution_count": null,
   "id": "5bec961d",
   "metadata": {},
   "outputs": [],
   "source": [
    "events_morton_lon[0:5]"
   ]
  },
  {
   "cell_type": "code",
   "execution_count": null,
   "id": "6cd524ee",
   "metadata": {},
   "outputs": [],
   "source": [
    "len(events_morton_lat)"
   ]
  },
  {
   "cell_type": "code",
   "execution_count": null,
   "id": "15f73a0b",
   "metadata": {},
   "outputs": [],
   "source": [
    "# Pull out the events for Oct 14, 2012 from the ds01 catalog from Morton's paper\n",
    "events_morton[671:674]"
   ]
  },
  {
   "cell_type": "code",
   "execution_count": null,
   "id": "4a2f5ce0",
   "metadata": {},
   "outputs": [],
   "source": [
    "events_morton.loc[673]"
   ]
  },
  {
   "cell_type": "code",
   "execution_count": null,
   "id": "2bba3343",
   "metadata": {},
   "outputs": [],
   "source": [
    "# Get the latitude and longitude for the event at 2:39 \n",
    "event_morton_0229_lat = events_morton.loc[671, 'LAT']\n",
    "event_morton_0229_lon = events_morton.loc[671, 'LON']"
   ]
  },
  {
   "cell_type": "code",
   "execution_count": null,
   "id": "5f5eb8ba",
   "metadata": {},
   "outputs": [],
   "source": [
    "# Get the latitude and longitude for the event at 3:08\n",
    "event_morton_0308_lat = events_morton.loc[672, 'LAT']\n",
    "event_morton_0308_lon = events_morton.loc[672, 'LON']"
   ]
  },
  {
   "cell_type": "code",
   "execution_count": null,
   "id": "7764f193",
   "metadata": {},
   "outputs": [],
   "source": [
    "events"
   ]
  },
  {
   "cell_type": "code",
   "execution_count": null,
   "id": "4d10cba4",
   "metadata": {},
   "outputs": [],
   "source": [
    "\n",
    "event_0229_lat = events.loc[1, 'latitude']\n",
    "event_0229_lon = events.loc[1, 'longitude']"
   ]
  },
  {
   "cell_type": "code",
   "execution_count": null,
   "id": "716074c3",
   "metadata": {},
   "outputs": [],
   "source": [
    "event_0308_lat = events.loc[2, 'latitude']\n",
    "event_0308_lon = events.loc[2, 'longitude']"
   ]
  },
  {
   "cell_type": "markdown",
   "id": "819f07f9",
   "metadata": {},
   "source": [
    "## Load data from the USGS catalog"
   ]
  },
  {
   "cell_type": "code",
   "execution_count": null,
   "id": "a9df3c08",
   "metadata": {},
   "outputs": [],
   "source": [
    "client = Client(\"USGS\")\n",
    "client_waveforms = WaveformClient()\n",
    "events_USGS = client.get_events(starttime = UTCDateTime(\"2012-10-14T00:00:00.000000\"),\n",
    "                  endtime   = UTCDateTime(\"2012-10-14T23:59:59.999999\"),\n",
    "                  minlatitude = 40, maxlatitude = 44, \n",
    "                  minlongitude = -125, maxlongitude = -120)\n",
    "events_USGS"
   ]
  },
  {
   "cell_type": "code",
   "execution_count": null,
   "id": "2983cc27",
   "metadata": {},
   "outputs": [],
   "source": [
    "event_USGS_0229_lat = 40.301\n",
    "event_USGS_0229_lon = -124.416"
   ]
  },
  {
   "cell_type": "code",
   "execution_count": null,
   "id": "56cffc5a",
   "metadata": {},
   "outputs": [],
   "source": [
    "event_USGS_0308_lat = 40.721\n",
    "event_USGS_0308_lon = -124.210"
   ]
  },
  {
   "cell_type": "code",
   "execution_count": null,
   "id": "ea7191b9",
   "metadata": {},
   "outputs": [],
   "source": []
  },
  {
   "cell_type": "code",
   "execution_count": null,
   "id": "ec07dfa5",
   "metadata": {},
   "outputs": [],
   "source": []
  },
  {
   "cell_type": "code",
   "execution_count": null,
   "id": "c0045919",
   "metadata": {},
   "outputs": [],
   "source": []
  },
  {
   "cell_type": "code",
   "execution_count": null,
   "id": "396ec7ac",
   "metadata": {},
   "outputs": [],
   "source": []
  },
  {
   "cell_type": "markdown",
   "id": "efd77ec8",
   "metadata": {},
   "source": [
    "# Plot the line between the matched events"
   ]
  },
  {
   "cell_type": "code",
   "execution_count": null,
   "id": "2520f161",
   "metadata": {},
   "outputs": [],
   "source": [
    "import pygmt\n",
    "\n",
    "fig = pygmt.Figure()\n",
    "grid = pygmt.datasets.load_earth_relief(resolution=\"15s\", region=[-126, -124, 40, 43])\n",
    "# fig.shift_origin(yshift=\"10c\")\n",
    "fig.basemap(frame=[\"a\",'+tThe Associated Events with Previously Cataloged Events',\"WSne\", \"xaf+lx-axis\", \"yaf+ly-axis\"])\n",
    "fig.grdimage(grid=grid, projection=\"M15c\", frame='a', cmap=\"geo\", transparency = 50)\n",
    "# Plot Morton's catalog\n",
    "fig.plot(x = events_morton_lon, y = events_morton_lat,  \n",
    "         color = 'blue', size = size_morton, style = \"c\", pen = \"black\", label='Morton 2023')\n",
    "# Plot our association events\n",
    "fig.plot(x = events_longitude, y = events_latitude,  \n",
    "         color = 'red', size = size, style = \"c\", pen = \"black\", label='Associated Events')\n",
    "# Plot Stone's catalog for JDF\n",
    "fig.plot(x = events_jdf_lon, y = events_jdf_lat,  \n",
    "         color = 'yellow', size = size_jdf, style = \"c\", pen = \"black\", label='Stone et al, 2018')\n",
    "# Plot Stone's catalog for Cascadia\n",
    "fig.plot(x = events_cascadia_lon, y = events_cascadia_lat,  \n",
    "         color = 'yellow', size = size_cascadia, style = \"c\", pen = \"black\",label='Stone et al, 2018')\n",
    "# Draw a line between two events that we consider to be the same event \n",
    "fig.plot(x = (event_0229_lon,event_morton_0229_lon,event_USGS_0229_lon), y = (event_0229_lat,event_morton_0229_lat,event_USGS_0229_lat), pen =\"4p, green\")\n",
    "fig.plot(x = (event_0308_lon,event_morton_0308_lon,event_USGS_0308_lon), y = (event_0308_lat,event_morton_0308_lat,event_USGS_0308_lat), pen =\"4p, green\")\n",
    "\n",
    "# fig.plot(x = [42.5,42.5,42.5], y = [-125.5,-125,-124.5],  \n",
    "#          color = ['red','yellow','blue'], size = [1,1,1], style = \"c\", pen =\"black\")\n",
    "fig.legend()\n",
    "fig.show()"
   ]
  },
  {
   "cell_type": "code",
   "execution_count": null,
   "id": "ba6d0a8d",
   "metadata": {},
   "outputs": [],
   "source": [
    "event_0229_lon"
   ]
  },
  {
   "cell_type": "code",
   "execution_count": null,
   "id": "5871b376",
   "metadata": {},
   "outputs": [],
   "source": [
    "event_0229_lat"
   ]
  },
  {
   "cell_type": "code",
   "execution_count": null,
   "id": "a7e19369",
   "metadata": {},
   "outputs": [],
   "source": []
  }
 ],
 "metadata": {
  "kernelspec": {
   "display_name": "seismo (SHARED)",
   "language": "python",
   "name": "seismo"
  },
  "language_info": {
   "codemirror_mode": {
    "name": "ipython",
    "version": 3
   },
   "file_extension": ".py",
   "mimetype": "text/x-python",
   "name": "python",
   "nbconvert_exporter": "python",
   "pygments_lexer": "ipython3",
   "version": "3.9.18"
  }
 },
 "nbformat": 4,
 "nbformat_minor": 5
}
