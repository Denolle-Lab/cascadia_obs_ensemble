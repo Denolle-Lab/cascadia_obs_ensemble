{
 "cells": [
  {
   "cell_type": "markdown",
   "id": "58f486d2",
   "metadata": {},
   "source": [
    "# Detection and Phase Picking in Cascadia using ELEP\n",
    "\n",
    "This notebook deploys in parallel a detection+phase picking job on Cascadia Initiative stations using an ensemble deep learning ELEP (Yuan et al, 2023).\n",
    "Written by Hiroto Bito.\n",
    "Modified by CoolTeam (2/14/24)"
   ]
  },
  {
   "cell_type": "code",
   "execution_count": 2,
   "id": "59ec9cbe",
   "metadata": {},
   "outputs": [],
   "source": [
    "import logging\n",
    "import os\n",
    "\n",
    "from obspy.clients.fdsn import Client\n",
    "import numpy as np\n",
    "import obspy\n",
    "import matplotlib.pyplot as plt\n",
    "from obspy.clients.fdsn import Client\n",
    "import datetime\n",
    "from datetime import timedelta\n",
    "import pandas as pd\n",
    "import dask\n",
    "from dask.diagnostics import ProgressBar\n",
    "\n",
    "from obspy.clients.fdsn.client import Client\n",
    "from obspy.core.utcdatetime import UTCDateTime\n",
    "from obspy import Stream\n",
    "\n",
    "from pnwstore.mseed import WaveformClient\n",
    "import torch\n",
    "import numpy as np\n",
    "from tqdm import tqdm\n",
    "import time \n",
    "import pandas as pd\n",
    "import gc\n",
    "import seisbench.models as sbm\n",
    "from ELEP.elep.ensemble_statistics import ensemble_statistics\n",
    "from ELEP.elep.ensemble_coherence import ensemble_semblance \n",
    "from ELEP.elep.trigger_func import picks_summary_simple"
   ]
  },
  {
   "cell_type": "code",
   "execution_count": 3,
   "id": "3ff5bcb9",
   "metadata": {},
   "outputs": [
    {
     "data": {
      "text/plain": [
       "False"
      ]
     },
     "execution_count": 3,
     "metadata": {},
     "output_type": "execute_result"
    }
   ],
   "source": [
    "torch.cuda.is_available()"
   ]
  },
  {
   "cell_type": "code",
   "execution_count": 4,
   "id": "66e7e246",
   "metadata": {},
   "outputs": [],
   "source": [
    "device = torch.device(\"cpu\")"
   ]
  },
  {
   "cell_type": "code",
   "execution_count": 5,
   "id": "ec5a0ecb",
   "metadata": {},
   "outputs": [],
   "source": [
    "# Define clients\n",
    "client_inventory = Client('IRIS')\n",
    "client_waveform = WaveformClient()\n",
    "client_ncedc = Client('NCEDC')"
   ]
  },
  {
   "cell_type": "markdown",
   "id": "8ce01d3e",
   "metadata": {},
   "source": [
    "## Make an array of networks and stations for CI year 2 in Morton's Catalog (not necessary to run anymore)"
   ]
  },
  {
   "cell_type": "code",
   "execution_count": null,
   "id": "d57e842d",
   "metadata": {},
   "outputs": [],
   "source": [
    "# Read Morton's catalog\n",
    "cat_ds03 = pd.read_excel(\"../data/ds03.xlsx\")"
   ]
  },
  {
   "cell_type": "code",
   "execution_count": null,
   "id": "f09e8e59",
   "metadata": {},
   "outputs": [],
   "source": [
    "# Show the catalog\n",
    "cat_ds03"
   ]
  },
  {
   "cell_type": "code",
   "execution_count": null,
   "id": "eb15ebb4",
   "metadata": {},
   "outputs": [],
   "source": [
    "# Get the names of the networks\n",
    "cat_ds03_CI2 = cat_ds03[cat_ds03['CI YEAR']==2]\n",
    "cat_ds03_CI2"
   ]
  },
  {
   "cell_type": "code",
   "execution_count": null,
   "id": "c5c1e17b",
   "metadata": {},
   "outputs": [],
   "source": [
    "# Assign the network codes\n",
    "networks= cat_ds03_CI2['NETWORK CODE'].unique()"
   ]
  },
  {
   "cell_type": "code",
   "execution_count": null,
   "id": "3adc2d6a",
   "metadata": {},
   "outputs": [],
   "source": [
    "# Make a list of networks and stations\n",
    "networks_stas = []\n",
    "for i in range(len(networks)):\n",
    "    network = networks[i]\n",
    "    sta = cat_ds03_CI2.loc[cat_ds03_CI2['NETWORK CODE']==network, 'STATION']\n",
    "    \n",
    "    sta = [i.replace(\" \", \"\") for i in sta]\n",
    "    sta = set(sta)\n",
    "    sta =list(sta)\n",
    "\n",
    "    for j in range(len(sta)):\n",
    "        networks_stas.append([network,sta[j]])\n",
    "\n",
    "networks_stas =np.array(networks_stas)\n",
    "networks_stas"
   ]
  },
  {
   "cell_type": "code",
   "execution_count": null,
   "id": "17b55e18",
   "metadata": {},
   "outputs": [],
   "source": [
    "print(len(networks_stas))"
   ]
  },
  {
   "cell_type": "code",
   "execution_count": null,
   "id": "4fd7eace",
   "metadata": {},
   "outputs": [],
   "source": [
    "index =[]\n",
    "client= client_inventory\n",
    "for i, ii in enumerate(networks_stas):\n",
    "    print(networks_stas[i])\n",
    "    index.append(i)\n",
    "    inventory = client.get_stations(network=networks_stas[i][0], station=networks_stas[i][1])\n",
    "    "
   ]
  },
  {
   "cell_type": "code",
   "execution_count": null,
   "id": "fb5776aa",
   "metadata": {},
   "outputs": [],
   "source": [
    "index"
   ]
  },
  {
   "cell_type": "code",
   "execution_count": null,
   "id": "4feee4b6",
   "metadata": {},
   "outputs": [],
   "source": [
    "# Since the ['UW' 'I02D'] pair give an error when receiveing their data through inventory, remove this pair.\n",
    "networks_stas = np.delete(networks_stas, index[-1],axis=0)\n",
    "networks_stas"
   ]
  },
  {
   "cell_type": "code",
   "execution_count": null,
   "id": "232e2712",
   "metadata": {},
   "outputs": [],
   "source": [
    "# Test if the array removed the  ['UW' 'I02D'] works through inventory this time. It works.\n",
    "index =[]\n",
    "client= client_inventory\n",
    "for i, ii in enumerate(networks_stas):\n",
    "    print(networks_stas[i])\n",
    "    index.append(i)\n",
    "    inventory = client.get_stations(network=networks_stas[i][0], station=networks_stas[i][1])"
   ]
  },
  {
   "cell_type": "code",
   "execution_count": null,
   "id": "a8631d60",
   "metadata": {},
   "outputs": [],
   "source": [
    "len(networks_stas)"
   ]
  },
  {
   "cell_type": "markdown",
   "id": "d47eb779",
   "metadata": {},
   "source": [
    "## Make an array of networks and stations with more stations "
   ]
  },
  {
   "cell_type": "code",
   "execution_count": 6,
   "id": "63d85e91",
   "metadata": {},
   "outputs": [],
   "source": [
    "# Get all as many stations as possible\n",
    "index =[]\n",
    "client= client_inventory\n",
    "starttime = datetime.datetime(year=2010,month=10,day=1,hour=0,minute=0,second=0,microsecond=0)\n",
    "endtime = datetime.datetime(year=2015,month=10,day=31,hour=0,minute=0,second=0,microsecond=0)\n",
    "inventory = client.get_stations(network=\"C8,7D,7A,CN,NV,UW,UO,NC,BK,TA,OO,PB,X6,Z5,X9\", station=\"*\", minlatitude=40,minlongitude=-127,maxlatitude=50,maxlongitude=-123, starttime=starttime.strftime('%Y%m%d'),endtime=endtime.strftime('%Y%m%d'))"
   ]
  },
  {
   "cell_type": "code",
   "execution_count": 7,
   "id": "113d6785",
   "metadata": {},
   "outputs": [
    {
     "data": {
      "text/plain": [
       "Inventory created at 2024-04-21T02:16:46.075500Z\n",
       "\tCreated by: IRIS WEB SERVICE: fdsnws-station | version: 1.1.52\n",
       "\t\t    http://service.iris.edu/fdsnws/station/1/query?starttime=2010-10-01...\n",
       "\tSending institution: IRIS-DMC (IRIS-DMC)\n",
       "\tContains:\n",
       "\t\tNetworks (15):\n",
       "\t\t\t7A, 7D, BK, C8, CN, NC, NV, OO, PB, TA, UO, UW, X6, X9, Z5\n",
       "\t\tStations (461):\n",
       "\t\t\t7A.W01 (WHOI OBS ID S85)\n",
       "\t\t\t7A.W02 (WHOI OBS ID S83)\n",
       "\t\t\t7A.W03 (WHOI OBS ID S86)\n",
       "\t\t\t7A.W04 (WHOI OBS ID S89)\n",
       "\t\t\t7A.W06 (WHOI OBS ID S80)\n",
       "\t\t\t7A.W07 (WHOI OBS ID S82)\n",
       "\t\t\t7A.W08 (WHOI OBS ID S81)\n",
       "\t\t\t7A.W09 (WHOI OBS ID S84)\n",
       "\t\t\t7A.W10 (WHOI OBS ID S88)\n",
       "\t\t\t7D.FC03D (LDEO OBS TRAWL-RESISTANT)\n",
       "\t\t\t7D.FN01A (LDEO Trawl-Resistant OBS Site FN01A)\n",
       "\t\t\t7D.FN01C (LDEO OBS TRAWL-RESISTANT)\n",
       "\t\t\t7D.FN02C (LDEO OBS TRAWL-RESISTANT)\n",
       "\t\t\t7D.FN03A (LDEO Trawl-Resistant OBS Site FN03A)\n",
       "\t\t\t7D.FN03C (LDEO OBS TRAWL-RESISTANT)\n",
       "\t\t\t7D.FN04C (LDEO OBS TRAWL-RESISTANT)\n",
       "\t\t\t7D.FN05A (LDEO OBS TRAWL-RESISTANT)\n",
       "\t\t\t7D.FN05C (LDEO OBS TRAWL-RESISTANT)\n",
       "\t\t\t7D.FN06A (LDEO Trawl-Resistant OBS Site FN06A)\n",
       "\t\t\t7D.FN06C (LDEO OBS TRAWL-RESISTANT)\n",
       "\t\t\t7D.FN07A (LDEO Trawl-Resistant OBS Site FN07A)\n",
       "\t\t\t7D.FN07C (LDEO OBS TRAWL-RESISTANT)\n",
       "\t\t\t7D.FN08A (LDEO Trawl-Resistant OBS Site FN08A)\n",
       "\t\t\t7D.FN08C (LDEO OBS TRAWL-RESISTANT)\n",
       "\t\t\t7D.FN09A (LDEO Trawl-Resistant OBS Site FN09A)\n",
       "\t\t\t7D.FN09C (LDEO OBS TRAWL-RESISTANT)\n",
       "\t\t\t7D.FN10A (LDEO Trawl-Resistant OBS Site FN10A)\n",
       "\t\t\t7D.FN10C (LDEO OBS TRAWL-RESISTANT)\n",
       "\t\t\t7D.FN11C (LDEO OBS TRAWL-RESISTANT)\n",
       "\t\t\t7D.FN12A (LDEO Trawl-Resistant OBS Site FN12A)\n",
       "\t\t\t7D.FN12C (LDEO OBS TRAWL-RESISTANT)\n",
       "\t\t\t7D.FN13C (LDEO OBS STANDARD DEEP)\n",
       "\t\t\t7D.FN14A (LDEO Trawl-Resistant OBS Site FN14A)\n",
       "\t\t\t7D.FN14C (LDEO OBS TRAWL-RESISTANT)\n",
       "\t\t\t7D.FN16A (LDEO OBS STANDARD DEEP)\n",
       "\t\t\t7D.FN16C (LDEO OBS STANDARD DEEP)\n",
       "\t\t\t7D.FN17C (LDEO OBS TRAWL-RESISTANT)\n",
       "\t\t\t7D.FN18A (LDEO Trawl-Resistant OBS Site FN18A)\n",
       "\t\t\t7D.FN18C (LDEO OBS TRAWL-RESISTANT)\n",
       "\t\t\t7D.FN19A (LDEO Trawl-Resistant OBS Site FN19A)\n",
       "\t\t\t7D.FN19C (LDEO OBS TRAWL-RESISTANT)\n",
       "\t\t\t7D.FS01B (SIO OBS ID FS01B)\n",
       "\t\t\t7D.FS02B (LDEO OBS STANDARD DEEP)\n",
       "\t\t\t7D.FS02D (WHOI OBS ID S86)\n",
       "\t\t\t7D.FS03B (LDEO OBS TRAWL-RESISTANT)\n",
       "\t\t\t7D.FS04B (LDEO OBS TRAWL-RESISTANT)\n",
       "\t\t\t7D.FS04D (SIO OBS ID FS04D)\n",
       "\t\t\t7D.FS05B (WHOI OBS ID S80)\n",
       "\t\t\t7D.FS06B (WHOI OBS ID S87)\n",
       "\t\t\t7D.FS06D (WHOI OBS ID S89)\n",
       "\t\t\t7D.FS07B (LDEO OBS STANDARD DEEP)\n",
       "\t\t\t7D.FS07D (WHOI OBS ID S84)\n",
       "\t\t\t7D.FS08B (LDEO OBS TRAWL-RESISTANT)\n",
       "\t\t\t7D.FS08D (SIO OBS ID FS08D)\n",
       "\t\t\t7D.FS09B (WHOI OBS ID S85)\n",
       "\t\t\t7D.FS09D (WHOI OBS ID S83)\n",
       "\t\t\t7D.FS10B (LDEO OBS STANDARD DEEP)\n",
       "\t\t\t7D.FS10D (WHOI OBS ID S81)\n",
       "\t\t\t7D.FS11B (LDEO OBS TRAWL-RESISTANT)\n",
       "\t\t\t7D.FS11D (LDEO OBS TRAWL-RESISTANT)\n",
       "\t\t\t7D.FS12B (LDEO OBS TRAWL-RESISTANT)\n",
       "\t\t\t7D.FS12D (LDEO OBS TRAWL-RESISTANT)\n",
       "\t\t\t7D.FS13B (LDEO OBS STANDARD DEEP)\n",
       "\t\t\t7D.FS13D (WHOI OBS ID S80)\n",
       "\t\t\t7D.FS14B (SIO OBS ID FS14B)\n",
       "\t\t\t7D.FS14D (LDEO OBS TRAWL-RESISTANT)\n",
       "\t\t\t7D.FS15B (LDEO OBS TRAWL-RESISTANT)\n",
       "\t\t\t7D.FS15D (LDEO OBS TRAWL-RESISTANT)\n",
       "\t\t\t7D.FS16B (LDEO OBS STANDARD DEEP)\n",
       "\t\t\t7D.FS16D (WHOI OBS ID S82)\n",
       "\t\t\t7D.FS17B (LDEO OBS TRAWL-RESISTANT)\n",
       "\t\t\t7D.FS17D (LDEO OBS TRAWL-RESISTANT)\n",
       "\t\t\t7D.FS18B (LDEO OBS TRAWL-RESISTANT)\n",
       "\t\t\t7D.FS19B (LDEO OBS TRAWL-RESISTANT)\n",
       "\t\t\t7D.FS20B (LDEO OBS STANDARD DEEP)\n",
       "\t\t\t7D.FS41D (WHOI OBS ID S88)\n",
       "\t\t\t7D.FS42D (LDEO OBS TRAWL-RESISTANT)\n",
       "\t\t\t7D.FS43D (LDEO OBS TRAWL-RESISTANT)\n",
       "\t\t\t7D.FS44D (SIO OBS ID FS44D)\n",
       "\t\t\t7D.FS45D (LDEO OBS TRAWL-RESISTANT)\n",
       "\t\t\t7D.G02B (SIO OBS ID G02B)\n",
       "\t\t\t7D.G02D (LDEO OBS STANDARD DEEP)\n",
       "\t\t\t7D.G03A (WHOI OBS ID S87)\n",
       "\t\t\t7D.G03B (WHOI OBS ID S89)\n",
       "\t\t\t7D.G03D (WHOI OBS ID T111)\n",
       "\t\t\t7D.G04B (WHOI OBS ID T103)\n",
       "\t\t\t7D.G04D (WHOI OBS ID T101)\n",
       "\t\t\t7D.G09B (LDEO OBS TRAWL-RESISTANT)\n",
       "\t\t\t7D.G09D (WHOI OBS ID S87)\n",
       "\t\t\t7D.G10B (SIO OBS ID G10B)\n",
       "\t\t\t7D.G10D (SIO OBS ID G10D)\n",
       "\t\t\t7D.G11B (WHOI OBS ID T111)\n",
       "\t\t\t7D.G11D (SIO OBS ID G11D)\n",
       "\t\t\t7D.G17B (LDEO OBS TRAWL-RESISTANT)\n",
       "\t\t\t7D.G17D (LDEO OBS TRAWL-RESISTANT)\n",
       "\t\t\t7D.G18B (LDEO OBS STANDARD DEEP)\n",
       "\t\t\t7D.G18D (LDEO OBS STANDARD DEEP)\n",
       "\t\t\t7D.G19B (WHOI OBS ID T106)\n",
       "\t\t\t7D.G19D (LDEO OBS STANDARD DEEP)\n",
       "\t\t\t7D.G20B (WHOI OBS ID T113)\n",
       "\t\t\t7D.G20D (WHOI OBS ID T103)\n",
       "\t\t\t7D.G25B (LDEO OBS TRAWL-RESISTANT)\n",
       "\t\t\t7D.G25D (LDEO OBS TRAWL-RESISTANT)\n",
       "\t\t\t7D.G26B (LDEO OBS STANDARD DEEP)\n",
       "\t\t\t7D.G26D (LDEO OBS STANDARD DEEP)\n",
       "\t\t\t7D.G27B (SIO OBS ID G27B)\n",
       "\t\t\t7D.G27D (LDEO OBS STANDARD DEEP)\n",
       "\t\t\t7D.G28B (SIO OBS ID G28B)\n",
       "\t\t\t7D.G33B (LDEO OBS TRAWL-RESISTANT)\n",
       "\t\t\t7D.G33D (SIO OBS ID G33D)\n",
       "\t\t\t7D.G34B (LDEO OBS STANDARD DEEP)\n",
       "\t\t\t7D.G34D (LDEO OBS STANDARD DEEP)\n",
       "\t\t\t7D.G35B (WHOI OBS ID T109)\n",
       "\t\t\t7D.G35D (WHOI OBS ID T104)\n",
       "\t\t\t7D.G36B2 (WHOI OBS ID T101)\n",
       "\t\t\t7D.G36D (WHOI OBS ID T109)\n",
       "\t\t\t7D.J09B (SIO OBS ID J09B)\n",
       "\t\t\t7D.J09D (LDEO OBS TRAWL-RESISTANT)\n",
       "\t\t\t7D.J10B (SIO OBS ID J10B)\n",
       "\t\t\t7D.J10D (LDEO OBS STANDARD DEEP)\n",
       "\t\t\t7D.J11B (WHOI OBS ID T112)\n",
       "\t\t\t7D.J11D (WHOI OBS ID T113)\n",
       "\t\t\t7D.J17B (LDEO OBS TRAWL-RESISTANT)\n",
       "\t\t\t7D.J17D (LDEO OBS TRAWL-RESISTANT)\n",
       "\t\t\t7D.J18B (SIO OBS ID J18B)\n",
       "\t\t\t7D.J18D (LDEO OBS STANDARD DEEP)\n",
       "\t\t\t7D.J19B (WHOI OBS ID T114)\n",
       "\t\t\t7D.J19D (WHOI OBS ID T105)\n",
       "\t\t\t7D.J25A (SIO OBS ID J25A)\n",
       "\t\t\t7D.J25B (LDEO OBS TRAWL-RESISTANT)\n",
       "\t\t\t7D.J25C (SIO OBS ID J25C)\n",
       "\t\t\t7D.J25D (LDEO OBS TRAWL-RESISTANT)\n",
       "\t\t\t7D.J26A (LDEO Standard Deep OBS Site J26A)\n",
       "\t\t\t7D.J26C (LDEO OBS STANDARD DEEP)\n",
       "\t\t\t7D.J26D (LDEO OBS STANDARD DEEP)\n",
       "\t\t\t7D.J27B (WHOI OBS ID T107)\n",
       "\t\t\t7D.J27D (WHOI OBS ID T108)\n",
       "\t\t\t7D.J33A (SIO OBS ID J33A)\n",
       "\t\t\t7D.J33B (LDEO OBS TRAWL-RESISTANT)\n",
       "\t\t\t7D.J33C (SIO OBS ID J33C)\n",
       "\t\t\t7D.J34A (LDEO Standard Deep OBS Site J34A)\n",
       "\t\t\t7D.J34C (LDEO OBS STANDARD DEEP)\n",
       "\t\t\t7D.J35A (SIO OBS ID J35A)\n",
       "\t\t\t7D.J35C (WHOI OBS ID T114)\n",
       "\t\t\t7D.J41A (LDEO Trawl-Resistant OBS Site J41A)\n",
       "\t\t\t7D.J41C (LDEO OBS TRAWL-RESISTANT)\n",
       "\t\t\t7D.J42A (LDEO Standard Deep OBS Site J42A)\n",
       "\t\t\t7D.J42C (LDEO OBS STANDARD DEEP)\n",
       "\t\t\t7D.J43A (SIO OBS ID J43A)\n",
       "\t\t\t7D.J43C (WHOI OBS ID T111)\n",
       "\t\t\t7D.J49A (LDEO Trawl-resistant OBS Site J49A)\n",
       "\t\t\t7D.J49C (LDEO OBS TRAWL-RESISTANT)\n",
       "\t\t\t7D.J50A (LDEO Standard Deep OBS Site J50A)\n",
       "\t\t\t7D.J50C (LDEO OBS STANDARD DEEP)\n",
       "\t\t\t7D.J51A (LDEO OBS STANDARD DEEP)\n",
       "\t\t\t7D.J51C (LDEO OBS STANDARD DEEP)\n",
       "\t\t\t7D.J57A (SIO OBS ID J57A)\n",
       "\t\t\t7D.J57C (LDEO OBS TRAWL-RESISTANT)\n",
       "\t\t\t7D.J58A (LDEO Standard Deep OBS)\n",
       "\t\t\t7D.J58C (LDEO OBS STANDARD DEEP)\n",
       "\t\t\t7D.J59A (LDEO OBS STANDARD DEEP)\n",
       "\t\t\t7D.J59C (LDEO OBS STANDARD DEEP)\n",
       "\t\t\t7D.J65A (SIO OBS ID J65A)\n",
       "\t\t\t7D.J65C (SIO OBS ID J65C)\n",
       "\t\t\t7D.J73A (SIO OBS ID J73A)\n",
       "\t\t\t7D.J73C (SIO OBS ID J73C)\n",
       "\t\t\t7D.M01A (SIO OBS ID M01A)\n",
       "\t\t\t7D.M01C (SIO OBS ID M01C)\n",
       "\t\t\t7D.M02A (SIO OBS ID M02A)\n",
       "\t\t\t7D.M02C (SIO OBS ID M02C)\n",
       "\t\t\t7D.M03A (LDEO OBS STANDARD DEEP)\n",
       "\t\t\t7D.M03C (SIO OBS ID M03C)\n",
       "\t\t\t7D.M04A (SIO OBS ID M04A)\n",
       "\t\t\t7D.M04C (SIO OBS ID M04C)\n",
       "\t\t\t7D.M05A (SIO OBS ID M05A)\n",
       "\t\t\t7D.M05C (SIO OBS ID M05C)\n",
       "\t\t\t7D.M06A (LDEO Standard Deep OBS Site M06A)\n",
       "\t\t\t7D.M06C (LDEO OBS STANDARD DEEP)\n",
       "\t\t\t7D.M07A (SIO OBS ID M07A)\n",
       "\t\t\t7D.M07C (SIO OBS ID M07C)\n",
       "\t\t\t7D.M08A (SIO OBS ID M08A)\n",
       "\t\t\t7D.M08C (SIO OBS ID M08C)\n",
       "\t\t\t7D.M09B (LDEO OBS TRAWL-RESISTANT)\n",
       "\t\t\t7D.M10B (LDEO OBS TRAWL-RESISTANT)\n",
       "\t\t\t7D.M11B (SIO OBS ID M11B)\n",
       "\t\t\t7D.M12B (SIO OBS ID M12B)\n",
       "\t\t\t7D.M13B (LDEO OBS TRAWL-RESISTANT)\n",
       "\t\t\t7D.M13D (LDEO OBS TRAWL-RESISTANT)\n",
       "\t\t\t7D.M14B (SIO OBS ID M14B)\n",
       "\t\t\t7D.M14D (LDEO OBS TRAWL-RESISTANT)\n",
       "\t\t\t7D.M15D (LDEO OBS TRAWL-RESISTANT)\n",
       "\t\t\t7D.M16D (SIO OBS ID M16D)\n",
       "\t\t\t7D.M17D (LDEO OBS TRAWL-RESISTANT)\n",
       "\t\t\t7D.M18B (LDEO OBS TRAWL-RESISTANT)\n",
       "\t\t\tBK.JCC (Jacoby Creek, Bayside, CA, USA)\n",
       "\t\t\tC8.BPCB (Bare Point, BC, CA)\n",
       "\t\t\tC8.MWAB (Mount Washington, BC, CA)\n",
       "\t\t\tC8.PA01 (Sidney PGC North, BC, CA)\n",
       "\t\t\tC8.PA02 (Sidney PGC Ocean, BC, CA)\n",
       "\t\t\tC8.PA03 (Sidney PGC Flamable, BC, CA)\n",
       "\t\t\tC8.PA04 (Sidney PGC Cage, BC, CA)\n",
       "\t\t\tC8.PA05 (Sidney PGC Willingdon, BC, CA)\n",
       "\t\t\tC8.PA12 (Sidney PGC Saanich, BC, CA)\n",
       "\t\t\tC8.SOKB (Sooke, BC, CA)\n",
       "\t\t\tC8.SPLB (Strathcona Park Lodge, BC, CA)\n",
       "\t\t\tC8.TOFB (Tofino, BC, CA)\n",
       "\t\t\tCN.ALB (Alberni, BC, CA)\n",
       "\t\t\tCN.BFSB (Bamfield, BC, CA)\n",
       "\t\t\tCN.BIB (Bowen Island, BC, CA)\n",
       "\t\t\tCN.BMSB (Bamfield Marine Station, BC, CA)\n",
       "\t\t\tCN.BTB (Buttle Lake, BC, CA)\n",
       "\t\t\tCN.CLRS (Cowichan Lake Research St, BC, CA)\n",
       "\t\t\tCN.ETB (Estevan Point, BC, CA)\n",
       "\t\t\tCN.GDR (Gold River, BC, CA)\n",
       "\t\t\tCN.GHNB (Greg House Nanoose, BC, CA)\n",
       "\t\t\tCN.GOBB (Galiano Island, BC, CA)\n",
       "\t\t\tCN.LZB (Mount Lazard, BC, CA)\n",
       "\t\t\tCN.MGB (Mount Grey, BC, CA)\n",
       "\t\t\tCN.NLLB (Nanaimo Lost Lake, BC, CA)\n",
       "\t\t\tCN.NTKA (Nootka, BC, CA)\n",
       "\t\t\tCN.OZB (Mt. Ozzard, BC, CA)\n",
       "\t\t\tCN.PFB (Port Renfrew, BC, CA)\n",
       "\t\t\tCN.PGC (Sidney, BC, CA)\n",
       "\t\t\tCN.SHB (Sechelt, BC, CA)\n",
       "\t\t\tCN.SNB (Saturna Island, BC, CA)\n",
       "\t\t\tCN.TOFB (Tofino, BC, CA)\n",
       "\t\t\tCN.TXB (Texada Island, BC, CA)\n",
       "\t\t\tCN.VGZ (Victoria Gonzales, BC, CA)\n",
       "\t\t\tCN.WPB (Watts Point, BC, CA)\n",
       "\t\t\tCN.YOUB (Youbou Lake Cowichan, BC, CA)\n",
       "\t\t\tNC.K001 (James Rd Crescent City)\n",
       "\t\t\tNC.K002 (Newton B Drury Pky Orick)\n",
       "\t\t\tNC.K003 (Sutter Rd McKinleyville)\n",
       "\t\t\tNC.K004 (Old Hinley Ranch Rd Honeydew)\n",
       "\t\t\tNC.KBO (Bosley Butte)\n",
       "\t\t\tNC.KCO (Cooskie Peak)\n",
       "\t\t\tNC.KCR (Chalk Rock #3)\n",
       "\t\t\tNC.KCS (Cold Springs)\n",
       "\t\t\tNC.KCT (Cape Town)\n",
       "\t\t\tNC.KEB (Edson Butte Ore.)\n",
       "\t\t\tNC.KHBB (Hayfork Bally)\n",
       "\t\t\tNC.KHMB (Horse Mountain)\n",
       "\t\t\tNC.KJJ (Johnny Jack Ridge)\n",
       "\t\t\tNC.KKP (Kettenpom Peak)\n",
       "\t\t\tNC.KMPB (Mount Pierce)\n",
       "\t\t\tNC.KMR (Mail Ridge)\n",
       "\t\t\tNC.KOM (Orleans Mountain)\n",
       "\t\t\tNC.KPP (Pickett Peak)\n",
       "\t\t\tNC.KRMB (Red Mountain)\n",
       "\t\t\tNC.KRP (Rodgers #2)\n",
       "\t\t\tNC.KSM (Slide Mountain #2)\n",
       "\t\t\tNC.KSXB (Camp Six)\n",
       "\t\t\tNC.KTR (Thompson Ridge)\n",
       "\t\t\tNV.NC89 (Clayoquot Slope, Bullseye (ODP 1089))\n",
       "\t\t\tNV.NCBC (Barkley Canyon)\n",
       "\t\t\tOO.HYS11 (RSN Hydrate Summit 1-1)\n",
       "\t\t\tOO.HYS12 (RSN Hydrate Summit 1-2)\n",
       "\t\t\tOO.HYS13 (RSN Hydrate Summit 1-3)\n",
       "\t\t\tOO.HYS14 (RSN Hydrate Summit 1-4)\n",
       "\t\t\tOO.HYSB1 (RSN Hydrate Slope Base)\n",
       "\t\t\tPB.B001 (golbeck01bwa2005, Sequim, WA, USA)\n",
       "\t\t\tPB.B003 (floequarybwa2005, FloeQuarry, WA, USA)\n",
       "\t\t\tPB.B004 (hokofallsbwa2005, Sekiu, WA, USA)\n",
       "\t\t\tPB.B005 (shoresnw1bwa2005, Port Angeles, WA, USA)\n",
       "\t\t\tPB.B006 (shoresne2bwa2005, Port Angeles, WA, USA)\n",
       "\t\t\tPB.B007 (shoresso3bwa2005, Shores, WA, USA)\n",
       "\t\t\tPB.B009 (pacgeosi1bbc2005, Sidney, BC, CA)\n",
       "\t\t\tPB.B010 (pacgeosi2bbc2005, Sidney, BC, CA)\n",
       "\t\t\tPB.B011 (pacgeosi3bbc2005, Sidney, BC, CA)\n",
       "\t\t\tPB.B012 (ucluelet1bbc2005, Ucluelet, BC, CA)\n",
       "\t\t\tPB.B014 (quinlt014bwa2008, Olympic NP, WA, USA)\n",
       "\t\t\tPB.B017 (flinkm017bwa2007, Montesano, WA, USA)\n",
       "\t\t\tPB.B018 (delphi018bor2006, Delphi,  OR, USA)\n",
       "\t\t\tPB.B019 (waldrf019bwa2008, Raymond, WA, USA)\n",
       "\t\t\tPB.B020 (wirkla020bwa2008, Naselle, WA, USA)\n",
       "\t\t\tPB.B022 (seaside22bor2006, OR, USA)\n",
       "\t\t\tPB.B023 (cataln023bor2008, Claskanie, OR, USA)\n",
       "\t\t\tPB.B024 (kuntza024bor2006, Portland, OR, USA)\n",
       "\t\t\tPB.B026 (roosbc026bor2007, Portland, OR, USA)\n",
       "\t\t\tPB.B031 (hergrt031bor2007, Hergert, OR, USA)\n",
       "\t\t\tPB.B032 (hergrt032bor2007, Hergert, OR, USA)\n",
       "\t\t\tPB.B033 (vanvlk033bor2007, Glide, OR, USA)\n",
       "\t\t\tPB.B035 (grants035bor2006, OR, USA)\n",
       "\t\t\tPB.B036 (grants036bor2007, Grant's Pass, OR, USA)\n",
       "\t\t\tPB.B045 (rdcrst045bcn2008, Pepperwood, CA, USA)\n",
       "\t\t\tPB.B046 (mattol046scn2008, Petrolia, CA, USA)\n",
       "\t\t\tPB.B047 (chapmn047scn2008, Mendocino, CA, USA)\n",
       "\t\t\tPB.B049 (mirand049scn2008, Mendocino, CA, USA)\n",
       "\t\t\tPB.B926 (cowich926bbc2007, Port Renfrew, BC, Canada)\n",
       "\t\t\tPB.B927 (albern927bbc2007, Port Alberni, BC, USA)\n",
       "\t\t\tPB.B928 (bamfld928bbc2007, Bamfield, BC, Canada)\n",
       "\t\t\tPB.B932 (burogh932scn2008, Petrolia, CA, USA)\n",
       "\t\t\tPB.B933 (mckeem933bcn2008, Thorn Junction, CA, USA)\n",
       "\t\t\tPB.B935 (dinsmr935bcn2008, Dinsmore, CA, USA)\n",
       "\t\t\tTA.D03D (Eldon, WA, USA)\n",
       "\t\t\tTA.F04D (Rainier, OR, USA)\n",
       "\t\t\tTA.G03D (McMinnville, OR, USA)\n",
       "\t\t\tTA.I02D (Swisshome, OR, USA)\n",
       "\t\t\tTA.I02E (Swisshome, OR, USA)\n",
       "\t\t\tTA.I03D (Drain, OR, USA)\n",
       "\t\t\tTA.J01D (Myrtle Point, OR, USA)\n",
       "\t\t\tTA.J01E (Myrtle Point, OR, USA)\n",
       "\t\t\tTA.K02D (Willamette Meridian, OR, USA)\n",
       "\t\t\tTA.L02D (Cave Junction, OR, USA)\n",
       "\t\t\tTA.L02E (Cave Junction, OR, USA)\n",
       "\t\t\tUO.DBO (Dodson Butte, OR, USA)\n",
       "\t\t\tUW.ALST (Alston BPA site, OR, USA)\n",
       "\t\t\tUW.ALVY (Alvey BPA site, OR, USA)\n",
       "\t\t\tUW.BABR (Baber Butte, OR, USA)\n",
       "\t\t\tUW.BAND (Bandon, OR, USA)\n",
       "\t\t\tUW.BILS (Queets, WA, USA)\n",
       "\t\t\tUW.BOW (Boistfort Mt. previous ISC code: BMW, WA, USA)\n",
       "\t\t\tUW.BROK (Brookings, OR, USA)\n",
       "\t\t\tUW.CABL (Cape Blanco, OR, USA)\n",
       "\t\t\tUW.CHZZ (Cape Meares, OR, USA)\n",
       "\t\t\tUW.CNNB (Cannon Beach, OR, USA)\n",
       "\t\t\tUW.COOS (Coos Bay, OR, USA)\n",
       "\t\t\tUW.CORE (Aberdeen, WA, USA)\n",
       "\t\t\tUW.CPW (Capitol Peak, WA, USA)\n",
       "\t\t\tUW.EYES (Ewing Young ES, Newberg, OR ANSS SMO)\n",
       "\t\t\tUW.FISH (Jewel, OR, USA)\n",
       "\t\t\tUW.FLRE (Florence, OR, USA)\n",
       "\t\t\tUW.FORK (Forks, WA, USA)\n",
       "\t\t\tUW.HDW (Hoodsport, WA, USA)\n",
       "\t\t\tUW.HEBO (Mt. Hebo, OR CREST BB SMO)\n",
       "\t\t\tUW.HSO (Harness Mountain, OR)\n",
       "\t\t\tUW.JEDS (Smith River, Reedsport, OR, USA)\n",
       "\t\t\tUW.KMO (Kings Mt., OR, USA)\n",
       "\t\t\tUW.LANE (Lane BPA site, Oregon - SMO)\n",
       "\t\t\tUW.LEBA (Lebam, WA, USA)\n",
       "\t\t\tUW.LRIV (Port Angeles, WA, USA)\n",
       "\t\t\tUW.LWCK (Lewis and Clark Interpretive Center, WA, USA)\n",
       "\t\t\tUW.MEGW (Megler, WA, USA)\n",
       "\t\t\tUW.MKAH (Makah Indian Reservation, WA, USA)\n",
       "\t\t\tUW.MONO (Western Oregon University, Monmouth, OR, USA)\n",
       "\t\t\tUW.MPO (Marys Peak, OR, USA)\n",
       "\t\t\tUW.NEWO (Hatfield Marine Science Center, Newport, OR, USA)\n",
       "\t\t\tUW.NLO (Nicolai Mt., OR, USA)\n",
       "\t\t\tUW.OBC (Olympics - Bonidu Creek)\n",
       "\t\t\tUW.OCEN (Ocean Shores, WA, USA)\n",
       "\t\t\tUW.OCP (Cheeka Peak, Olympic Mountains, WA, USA)\n",
       "\t\t\tUW.OFR (Olympics - Forest Resource Center)\n",
       "\t\t\tUW.OHC (Hood Canal JH, Shelton, WA, USA)\n",
       "\t\t\tUW.ON2 (Olympics - North River)\n",
       "\t\t\tUW.OOW (Octopus West)\n",
       "\t\t\tUW.OOW2 (Octopus West, WA, USA)\n",
       "\t\t\tUW.OSD (Snowdome, Mt Olympus, WA, USA)\n",
       "\t\t\tUW.OSR (Olympics Salmon Ridge)\n",
       "\t\t\tUW.OTR (Olympic Penninsula - Tyee Ridge, WA, USA)\n",
       "\t\t\tUW.QOCS (Ocean Shores, WA, USA)\n",
       "\t\t\tUW.RADR (Radar Ridge, Naselle, WA)\n",
       "\t\t\tUW.RNO (Roman Nose, OR, USA)\n",
       "\t\t\tUW.ROBC (Roos Farm, OR, USA)\n",
       "\t\t\tUW.RRHS (Rochester High School, Rochester, WA, USA)\n",
       "\t\t\tUW.RSLG (Rose Lodge, OR, USA)\n",
       "\t\t\tUW.SEAS (Seaside Museum, Seaside, OR, USA)\n",
       "\t\t\tUW.SMW (South Mtn., WA, USA)\n",
       "\t\t\tUW.SQM (PNNL - Sequim, WA, USA)\n",
       "\t\t\tUW.STW (Striped Peak, Port Angeles, WA, USA)\n",
       "\t\t\tUW.TAHO (Taholah School, Taholah, WA, USAA)\n",
       "\t\t\tUW.TAKO (Tahkenitch BPA Substation, OR, USA)\n",
       "\t\t\tUW.TOLO (Toledo BPA Substation, Toledo, OR, USA)\n",
       "\t\t\tUW.UMPQ (Umpqua Community College, OR, DOGAMI SMO)\n",
       "\t\t\tUW.UWFH (Friday Harbor Laboratories, University of Washington)\n",
       "\t\t\tUW.WEDR (Wedderburn, OR, USA)\n",
       "\t\t\tUW.WISH (Wishka, WA, USA)\n",
       "\t\t\tUW.YACH (Yachats, OR, USA)\n",
       "\t\t\tX6.01 (SIO OBS ID 01)\n",
       "\t\t\tX6.02 (SIO OBS ID 02)\n",
       "\t\t\tX6.03 (SIO OBS ID 03)\n",
       "\t\t\tX6.07 (SIO OBS ID 07)\n",
       "\t\t\tX6.08 (SIO OBS ID 08)\n",
       "\t\t\tX6.09 (SIO OBS ID 09)\n",
       "\t\t\tX6.10 (SIO OBS ID 10)\n",
       "\t\t\tX6.11 (SIO OBS ID 11)\n",
       "\t\t\tX6.12 (SIO OBS ID 12)\n",
       "\t\t\tX6.13 (SIO OBS ID 13)\n",
       "\t\t\tX6.17 (SIO OBS ID 17)\n",
       "\t\t\tX6.18 (SIO OBS ID 18)\n",
       "\t\t\tX6.19 (SIO OBS ID 19)\n",
       "\t\t\tX6.20 (SIO OBS ID 20)\n",
       "\t\t\tX6.21 (SIO OBS ID 21)\n",
       "\t\t\tX6.22 (SIO OBS ID 22)\n",
       "\t\t\tX6.27 (SIO OBS ID 27)\n",
       "\t\t\tX6.28 (SIO OBS ID 28)\n",
       "\t\t\tX6.29 (SIO OBS ID 29)\n",
       "\t\t\tX6.30 (SIO OBS ID 30)\n",
       "\t\t\tX6.31 (SIO OBS ID 31)\n",
       "\t\t\tX6.32 (SIO OBS ID 32)\n",
       "\t\t\tX6.33 (SIO OBS ID 33)\n",
       "\t\t\tX6.34 (SIO OBS ID 34)\n",
       "\t\t\tX6.38 (SIO OBS ID 38)\n",
       "\t\t\tX6.39 (SIO OBS ID 39)\n",
       "\t\t\tX6.48 (SIO OBS ID 48)\n",
       "\t\t\tX6.49 (SIO OBS ID 49)\n",
       "\t\t\tX6.50 (SIO OBS ID 50)\n",
       "\t\t\tX6.51 (SIO OBS ID 51)\n",
       "\t\t\tX6.52 (SIO OBS ID 52)\n",
       "\t\t\tX6.53 (SIO OBS ID 53)\n",
       "\t\t\tX6.54 (SIO OBS ID 54)\n",
       "\t\t\tX6.56 (SIO OBS ID 56)\n",
       "\t\t\tX6.61 (SIO OBS ID 61)\n",
       "\t\t\tX6.62 (SIO OBS ID 62)\n",
       "\t\t\tX6.63 (SIO OBS ID 63)\n",
       "\t\t\tX6.64 (SIO OBS ID 64)\n",
       "\t\t\tX6.65 (SIO OBS ID 65)\n",
       "\t\t\tX6.S04 (WHOI OBS ID D39)\n",
       "\t\t\tX6.S05 (WHOI OBS ID D35)\n",
       "\t\t\tX6.S06 (WHOI OBS ID D09)\n",
       "\t\t\tX6.S14 (WHOI OBS ID D15)\n",
       "\t\t\tX6.S15 (WHOI OBS ID D51)\n",
       "\t\t\tX6.S16 (WHOI OBS ID D16)\n",
       "\t\t\tX6.S23 (WHOI OBS ID D49)\n",
       "\t\t\tX6.S24 (WHOI OBS ID D40)\n",
       "\t\t\tX6.S25 (WHOI OBS ID D50)\n",
       "\t\t\tX6.S26 (WHOI OBS ID D62)\n",
       "\t\t\tX6.S35 (WHOI OBS ID D55)\n",
       "\t\t\tX6.S36 (WHOI OBS ID D06)\n",
       "\t\t\tX6.S37 (WHOI OBS ID D44)\n",
       "\t\t\tX6.S57 (WHOI OBS ID D15)\n",
       "\t\t\tX6.S58 (WHOI OBS ID D34)\n",
       "\t\t\tX6.S59 (WHOI OBS ID D51)\n",
       "\t\t\tX6.S60 (WHOI OBS ID D16)\n",
       "\t\t\tX9.BB030 (WHOI OBS ID S45)\n",
       "\t\t\tX9.BB060 (WHOI OBS ID S19)\n",
       "\t\t\tX9.BB070 (WHOI OBS ID S65)\n",
       "\t\t\tX9.BB090 (WHOI OBS ID S71)\n",
       "\t\t\tX9.BS040 (SIO OBS ID BS040)\n",
       "\t\t\tX9.BS050 (SIO OBS ID BS050)\n",
       "\t\t\tX9.BS080 (SIO OBS ID BS080)\n",
       "\t\t\tX9.BS100 (SIO OBS ID BS100)\n",
       "\t\t\tZ5.BB630 (SIO OBS ID BB630)\n",
       "\t\t\tZ5.BB631 (LDEO OBS STANDARD DEEP)\n",
       "\t\t\tZ5.BS611 (SIO OBS ID BS611)\n",
       "\t\t\tZ5.BS620 (SIO OBS ID BS620)\n",
       "\t\t\tZ5.BS810 (SIO OBS ID BS810)\n",
       "\t\t\tZ5.GB030 (LDEO OBS GB030)\n",
       "\t\t\tZ5.GB050 (LDEO OBS GB050)\n",
       "\t\t\tZ5.GB080 (LDEO OBS GB080)\n",
       "\t\t\tZ5.GB100 (LDEO OBS GB100)\n",
       "\t\t\tZ5.GB101 (SIO OBS ID GB101)\n",
       "\t\t\tZ5.GB130 (LDEO OBS GB130)\n",
       "\t\t\tZ5.GB210 (LDEO OBS GB210)\n",
       "\t\t\tZ5.GB220 (LDEO OBS GB220)\n",
       "\t\t\tZ5.GB260 (LDEO OBS GB260)\n",
       "\t\t\tZ5.GB281 (SIO OBS ID GB281)\n",
       "\t\t\tZ5.GB320 (LDEO OBS GB320)\n",
       "\t\t\tZ5.GB321 (SIO OBS ID GB321)\n",
       "\t\t\tZ5.GB330 (LDEO OBS GB330)\n",
       "\t\t\tZ5.GB331 (SIO OBS ID GB331)\n",
       "\t\t\tZ5.GB380 (SIO OBS ID GB380)\n",
       "\t\t\tZ5.GS020 (SIO OBS ID GS020)\n",
       "\t\t\tZ5.GS040 (SIO OBS ID GS040)\n",
       "\t\t\tZ5.GS070 (SIO OBS ID GS070)\n",
       "\t\t\tZ5.GS090 (SIO OBS ID GS090)\n",
       "\t\t\tZ5.GS150 (SIO OBS ID GS150)\n",
       "\t\t\tZ5.GS261 (SIO OBS ID GS261)\n",
       "\t\t\tZ5.GS270 (SIO OBS ID GS270)\n",
       "\t\t\tZ5.GS280 (SIO OBS ID GS280)\n",
       "\t\t\tZ5.GS300 (SIO OBS ID GS300)\n",
       "\t\t\tZ5.GS311 (SIO OBS ID GS311)\n",
       "\t\tChannels (0):\n"
      ]
     },
     "execution_count": 7,
     "metadata": {},
     "output_type": "execute_result"
    }
   ],
   "source": [
    "# Print the inventory\n",
    "inventory"
   ]
  },
  {
   "cell_type": "code",
   "execution_count": 8,
   "id": "82ea8d65",
   "metadata": {},
   "outputs": [
    {
     "data": {
      "text/plain": [
       "array([['7A', 'W01'],\n",
       "       ['7A', 'W02'],\n",
       "       ['7A', 'W03'],\n",
       "       ['7A', 'W04'],\n",
       "       ['7A', 'W06'],\n",
       "       ['7A', 'W07'],\n",
       "       ['7A', 'W08'],\n",
       "       ['7A', 'W09'],\n",
       "       ['7A', 'W10'],\n",
       "       ['7D', 'FC03D'],\n",
       "       ['7D', 'FN01A'],\n",
       "       ['7D', 'FN01C'],\n",
       "       ['7D', 'FN02C'],\n",
       "       ['7D', 'FN03A'],\n",
       "       ['7D', 'FN03C'],\n",
       "       ['7D', 'FN04C'],\n",
       "       ['7D', 'FN05A'],\n",
       "       ['7D', 'FN05C'],\n",
       "       ['7D', 'FN06A'],\n",
       "       ['7D', 'FN06C'],\n",
       "       ['7D', 'FN07A'],\n",
       "       ['7D', 'FN07C'],\n",
       "       ['7D', 'FN08A'],\n",
       "       ['7D', 'FN08C'],\n",
       "       ['7D', 'FN09A'],\n",
       "       ['7D', 'FN09C'],\n",
       "       ['7D', 'FN10A'],\n",
       "       ['7D', 'FN10C'],\n",
       "       ['7D', 'FN11C'],\n",
       "       ['7D', 'FN12A'],\n",
       "       ['7D', 'FN12C'],\n",
       "       ['7D', 'FN13C'],\n",
       "       ['7D', 'FN14A'],\n",
       "       ['7D', 'FN14C'],\n",
       "       ['7D', 'FN16A'],\n",
       "       ['7D', 'FN16C'],\n",
       "       ['7D', 'FN17C'],\n",
       "       ['7D', 'FN18A'],\n",
       "       ['7D', 'FN18C'],\n",
       "       ['7D', 'FN19A'],\n",
       "       ['7D', 'FN19C'],\n",
       "       ['7D', 'FS01B'],\n",
       "       ['7D', 'FS02B'],\n",
       "       ['7D', 'FS02D'],\n",
       "       ['7D', 'FS03B'],\n",
       "       ['7D', 'FS04B'],\n",
       "       ['7D', 'FS04D'],\n",
       "       ['7D', 'FS05B'],\n",
       "       ['7D', 'FS06B'],\n",
       "       ['7D', 'FS06D'],\n",
       "       ['7D', 'FS07B'],\n",
       "       ['7D', 'FS07D'],\n",
       "       ['7D', 'FS08B'],\n",
       "       ['7D', 'FS08D'],\n",
       "       ['7D', 'FS09B'],\n",
       "       ['7D', 'FS09D'],\n",
       "       ['7D', 'FS10B'],\n",
       "       ['7D', 'FS10D'],\n",
       "       ['7D', 'FS11B'],\n",
       "       ['7D', 'FS11D'],\n",
       "       ['7D', 'FS12B'],\n",
       "       ['7D', 'FS12D'],\n",
       "       ['7D', 'FS13B'],\n",
       "       ['7D', 'FS13D'],\n",
       "       ['7D', 'FS14B'],\n",
       "       ['7D', 'FS14D'],\n",
       "       ['7D', 'FS15B'],\n",
       "       ['7D', 'FS15D'],\n",
       "       ['7D', 'FS16B'],\n",
       "       ['7D', 'FS16D'],\n",
       "       ['7D', 'FS17B'],\n",
       "       ['7D', 'FS17D'],\n",
       "       ['7D', 'FS18B'],\n",
       "       ['7D', 'FS19B'],\n",
       "       ['7D', 'FS20B'],\n",
       "       ['7D', 'FS41D'],\n",
       "       ['7D', 'FS42D'],\n",
       "       ['7D', 'FS43D'],\n",
       "       ['7D', 'FS44D'],\n",
       "       ['7D', 'FS45D'],\n",
       "       ['7D', 'G02B'],\n",
       "       ['7D', 'G02D'],\n",
       "       ['7D', 'G03A'],\n",
       "       ['7D', 'G03B'],\n",
       "       ['7D', 'G03D'],\n",
       "       ['7D', 'G04B'],\n",
       "       ['7D', 'G04D'],\n",
       "       ['7D', 'G09B'],\n",
       "       ['7D', 'G09D'],\n",
       "       ['7D', 'G10B'],\n",
       "       ['7D', 'G10D'],\n",
       "       ['7D', 'G11B'],\n",
       "       ['7D', 'G11D'],\n",
       "       ['7D', 'G17B'],\n",
       "       ['7D', 'G17D'],\n",
       "       ['7D', 'G18B'],\n",
       "       ['7D', 'G18D'],\n",
       "       ['7D', 'G19B'],\n",
       "       ['7D', 'G19D'],\n",
       "       ['7D', 'G20B'],\n",
       "       ['7D', 'G20D'],\n",
       "       ['7D', 'G25B'],\n",
       "       ['7D', 'G25D'],\n",
       "       ['7D', 'G26B'],\n",
       "       ['7D', 'G26D'],\n",
       "       ['7D', 'G27B'],\n",
       "       ['7D', 'G27D'],\n",
       "       ['7D', 'G28B'],\n",
       "       ['7D', 'G33B'],\n",
       "       ['7D', 'G33D'],\n",
       "       ['7D', 'G34B'],\n",
       "       ['7D', 'G34D'],\n",
       "       ['7D', 'G35B'],\n",
       "       ['7D', 'G35D'],\n",
       "       ['7D', 'G36B2'],\n",
       "       ['7D', 'G36D'],\n",
       "       ['7D', 'J09B'],\n",
       "       ['7D', 'J09D'],\n",
       "       ['7D', 'J10B'],\n",
       "       ['7D', 'J10D'],\n",
       "       ['7D', 'J11B'],\n",
       "       ['7D', 'J11D'],\n",
       "       ['7D', 'J17B'],\n",
       "       ['7D', 'J17D'],\n",
       "       ['7D', 'J18B'],\n",
       "       ['7D', 'J18D'],\n",
       "       ['7D', 'J19B'],\n",
       "       ['7D', 'J19D'],\n",
       "       ['7D', 'J25A'],\n",
       "       ['7D', 'J25B'],\n",
       "       ['7D', 'J25C'],\n",
       "       ['7D', 'J25D'],\n",
       "       ['7D', 'J26A'],\n",
       "       ['7D', 'J26C'],\n",
       "       ['7D', 'J26D'],\n",
       "       ['7D', 'J27B'],\n",
       "       ['7D', 'J27D'],\n",
       "       ['7D', 'J33A'],\n",
       "       ['7D', 'J33B'],\n",
       "       ['7D', 'J33C'],\n",
       "       ['7D', 'J34A'],\n",
       "       ['7D', 'J34C'],\n",
       "       ['7D', 'J35A'],\n",
       "       ['7D', 'J35C'],\n",
       "       ['7D', 'J41A'],\n",
       "       ['7D', 'J41C'],\n",
       "       ['7D', 'J42A'],\n",
       "       ['7D', 'J42C'],\n",
       "       ['7D', 'J43A'],\n",
       "       ['7D', 'J43C'],\n",
       "       ['7D', 'J49A'],\n",
       "       ['7D', 'J49C'],\n",
       "       ['7D', 'J50A'],\n",
       "       ['7D', 'J50C'],\n",
       "       ['7D', 'J51A'],\n",
       "       ['7D', 'J51C'],\n",
       "       ['7D', 'J57A'],\n",
       "       ['7D', 'J57C'],\n",
       "       ['7D', 'J58A'],\n",
       "       ['7D', 'J58C'],\n",
       "       ['7D', 'J59A'],\n",
       "       ['7D', 'J59C'],\n",
       "       ['7D', 'J65A'],\n",
       "       ['7D', 'J65C'],\n",
       "       ['7D', 'J73A'],\n",
       "       ['7D', 'J73C'],\n",
       "       ['7D', 'M01A'],\n",
       "       ['7D', 'M01C'],\n",
       "       ['7D', 'M02A'],\n",
       "       ['7D', 'M02C'],\n",
       "       ['7D', 'M03A'],\n",
       "       ['7D', 'M03C'],\n",
       "       ['7D', 'M04A'],\n",
       "       ['7D', 'M04C'],\n",
       "       ['7D', 'M05A'],\n",
       "       ['7D', 'M05C'],\n",
       "       ['7D', 'M06A'],\n",
       "       ['7D', 'M06C'],\n",
       "       ['7D', 'M07A'],\n",
       "       ['7D', 'M07C'],\n",
       "       ['7D', 'M08A'],\n",
       "       ['7D', 'M08C'],\n",
       "       ['7D', 'M09B'],\n",
       "       ['7D', 'M10B'],\n",
       "       ['7D', 'M11B'],\n",
       "       ['7D', 'M12B'],\n",
       "       ['7D', 'M13B'],\n",
       "       ['7D', 'M13D'],\n",
       "       ['7D', 'M14B'],\n",
       "       ['7D', 'M14D'],\n",
       "       ['7D', 'M15D'],\n",
       "       ['7D', 'M16D'],\n",
       "       ['7D', 'M17D'],\n",
       "       ['7D', 'M18B'],\n",
       "       ['BK', 'JCC'],\n",
       "       ['C8', 'BPCB'],\n",
       "       ['C8', 'MWAB'],\n",
       "       ['C8', 'PA01'],\n",
       "       ['C8', 'PA02'],\n",
       "       ['C8', 'PA03'],\n",
       "       ['C8', 'PA04'],\n",
       "       ['C8', 'PA05'],\n",
       "       ['C8', 'PA12'],\n",
       "       ['C8', 'SOKB'],\n",
       "       ['C8', 'SPLB'],\n",
       "       ['C8', 'TOFB'],\n",
       "       ['CN', 'ALB'],\n",
       "       ['CN', 'BFSB'],\n",
       "       ['CN', 'BIB'],\n",
       "       ['CN', 'BMSB'],\n",
       "       ['CN', 'BTB'],\n",
       "       ['CN', 'CLRS'],\n",
       "       ['CN', 'ETB'],\n",
       "       ['CN', 'GDR'],\n",
       "       ['CN', 'GHNB'],\n",
       "       ['CN', 'GOBB'],\n",
       "       ['CN', 'LZB'],\n",
       "       ['CN', 'MGB'],\n",
       "       ['CN', 'NLLB'],\n",
       "       ['CN', 'NTKA'],\n",
       "       ['CN', 'OZB'],\n",
       "       ['CN', 'PFB'],\n",
       "       ['CN', 'PGC'],\n",
       "       ['CN', 'SHB'],\n",
       "       ['CN', 'SNB'],\n",
       "       ['CN', 'TOFB'],\n",
       "       ['CN', 'TXB'],\n",
       "       ['CN', 'VGZ'],\n",
       "       ['CN', 'WPB'],\n",
       "       ['CN', 'YOUB'],\n",
       "       ['NC', 'K001'],\n",
       "       ['NC', 'K002'],\n",
       "       ['NC', 'K003'],\n",
       "       ['NC', 'K004'],\n",
       "       ['NC', 'KBO'],\n",
       "       ['NC', 'KCO'],\n",
       "       ['NC', 'KCR'],\n",
       "       ['NC', 'KCS'],\n",
       "       ['NC', 'KCT'],\n",
       "       ['NC', 'KEB'],\n",
       "       ['NC', 'KHBB'],\n",
       "       ['NC', 'KHMB'],\n",
       "       ['NC', 'KJJ'],\n",
       "       ['NC', 'KKP'],\n",
       "       ['NC', 'KMPB'],\n",
       "       ['NC', 'KMR'],\n",
       "       ['NC', 'KOM'],\n",
       "       ['NC', 'KPP'],\n",
       "       ['NC', 'KRMB'],\n",
       "       ['NC', 'KRP'],\n",
       "       ['NC', 'KSM'],\n",
       "       ['NC', 'KSXB'],\n",
       "       ['NC', 'KTR'],\n",
       "       ['NV', 'NC89'],\n",
       "       ['NV', 'NCBC'],\n",
       "       ['OO', 'HYS11'],\n",
       "       ['OO', 'HYS12'],\n",
       "       ['OO', 'HYS13'],\n",
       "       ['OO', 'HYS14'],\n",
       "       ['OO', 'HYSB1'],\n",
       "       ['PB', 'B001'],\n",
       "       ['PB', 'B003'],\n",
       "       ['PB', 'B004'],\n",
       "       ['PB', 'B005'],\n",
       "       ['PB', 'B006'],\n",
       "       ['PB', 'B007'],\n",
       "       ['PB', 'B009'],\n",
       "       ['PB', 'B010'],\n",
       "       ['PB', 'B011'],\n",
       "       ['PB', 'B012'],\n",
       "       ['PB', 'B014'],\n",
       "       ['PB', 'B017'],\n",
       "       ['PB', 'B018'],\n",
       "       ['PB', 'B019'],\n",
       "       ['PB', 'B020'],\n",
       "       ['PB', 'B022'],\n",
       "       ['PB', 'B023'],\n",
       "       ['PB', 'B024'],\n",
       "       ['PB', 'B026'],\n",
       "       ['PB', 'B031'],\n",
       "       ['PB', 'B032'],\n",
       "       ['PB', 'B033'],\n",
       "       ['PB', 'B035'],\n",
       "       ['PB', 'B036'],\n",
       "       ['PB', 'B045'],\n",
       "       ['PB', 'B046'],\n",
       "       ['PB', 'B047'],\n",
       "       ['PB', 'B049'],\n",
       "       ['PB', 'B926'],\n",
       "       ['PB', 'B927'],\n",
       "       ['PB', 'B928'],\n",
       "       ['PB', 'B932'],\n",
       "       ['PB', 'B933'],\n",
       "       ['PB', 'B935'],\n",
       "       ['TA', 'D03D'],\n",
       "       ['TA', 'F04D'],\n",
       "       ['TA', 'G03D'],\n",
       "       ['TA', 'I02D'],\n",
       "       ['TA', 'I02E'],\n",
       "       ['TA', 'I03D'],\n",
       "       ['TA', 'J01D'],\n",
       "       ['TA', 'J01E'],\n",
       "       ['TA', 'K02D'],\n",
       "       ['TA', 'L02D'],\n",
       "       ['TA', 'L02E'],\n",
       "       ['UO', 'DBO'],\n",
       "       ['UW', 'ALST'],\n",
       "       ['UW', 'ALVY'],\n",
       "       ['UW', 'BABR'],\n",
       "       ['UW', 'BAND'],\n",
       "       ['UW', 'BILS'],\n",
       "       ['UW', 'BOW'],\n",
       "       ['UW', 'BROK'],\n",
       "       ['UW', 'CABL'],\n",
       "       ['UW', 'CHZZ'],\n",
       "       ['UW', 'CNNB'],\n",
       "       ['UW', 'COOS'],\n",
       "       ['UW', 'CORE'],\n",
       "       ['UW', 'CPW'],\n",
       "       ['UW', 'EYES'],\n",
       "       ['UW', 'FISH'],\n",
       "       ['UW', 'FLRE'],\n",
       "       ['UW', 'FORK'],\n",
       "       ['UW', 'HDW'],\n",
       "       ['UW', 'HEBO'],\n",
       "       ['UW', 'HSO'],\n",
       "       ['UW', 'JEDS'],\n",
       "       ['UW', 'KMO'],\n",
       "       ['UW', 'LANE'],\n",
       "       ['UW', 'LEBA'],\n",
       "       ['UW', 'LRIV'],\n",
       "       ['UW', 'LWCK'],\n",
       "       ['UW', 'MEGW'],\n",
       "       ['UW', 'MKAH'],\n",
       "       ['UW', 'MONO'],\n",
       "       ['UW', 'MPO'],\n",
       "       ['UW', 'NEWO'],\n",
       "       ['UW', 'NLO'],\n",
       "       ['UW', 'OBC'],\n",
       "       ['UW', 'OCEN'],\n",
       "       ['UW', 'OCP'],\n",
       "       ['UW', 'OFR'],\n",
       "       ['UW', 'OHC'],\n",
       "       ['UW', 'ON2'],\n",
       "       ['UW', 'OOW'],\n",
       "       ['UW', 'OOW2'],\n",
       "       ['UW', 'OSD'],\n",
       "       ['UW', 'OSR'],\n",
       "       ['UW', 'OTR'],\n",
       "       ['UW', 'QOCS'],\n",
       "       ['UW', 'RADR'],\n",
       "       ['UW', 'RNO'],\n",
       "       ['UW', 'ROBC'],\n",
       "       ['UW', 'RRHS'],\n",
       "       ['UW', 'RSLG'],\n",
       "       ['UW', 'SEAS'],\n",
       "       ['UW', 'SMW'],\n",
       "       ['UW', 'SQM'],\n",
       "       ['UW', 'STW'],\n",
       "       ['UW', 'TAHO'],\n",
       "       ['UW', 'TAKO'],\n",
       "       ['UW', 'TOLO'],\n",
       "       ['UW', 'UMPQ'],\n",
       "       ['UW', 'UWFH'],\n",
       "       ['UW', 'WEDR'],\n",
       "       ['UW', 'WISH'],\n",
       "       ['UW', 'YACH'],\n",
       "       ['X6', '01'],\n",
       "       ['X6', '02'],\n",
       "       ['X6', '03'],\n",
       "       ['X6', '07'],\n",
       "       ['X6', '08'],\n",
       "       ['X6', '09'],\n",
       "       ['X6', '10'],\n",
       "       ['X6', '11'],\n",
       "       ['X6', '12'],\n",
       "       ['X6', '13'],\n",
       "       ['X6', '17'],\n",
       "       ['X6', '18'],\n",
       "       ['X6', '19'],\n",
       "       ['X6', '20'],\n",
       "       ['X6', '21'],\n",
       "       ['X6', '22'],\n",
       "       ['X6', '27'],\n",
       "       ['X6', '28'],\n",
       "       ['X6', '29'],\n",
       "       ['X6', '30'],\n",
       "       ['X6', '31'],\n",
       "       ['X6', '32'],\n",
       "       ['X6', '33'],\n",
       "       ['X6', '34'],\n",
       "       ['X6', '38'],\n",
       "       ['X6', '39'],\n",
       "       ['X6', '48'],\n",
       "       ['X6', '49'],\n",
       "       ['X6', '50'],\n",
       "       ['X6', '51'],\n",
       "       ['X6', '52'],\n",
       "       ['X6', '53'],\n",
       "       ['X6', '54'],\n",
       "       ['X6', '56'],\n",
       "       ['X6', '61'],\n",
       "       ['X6', '62'],\n",
       "       ['X6', '63'],\n",
       "       ['X6', '64'],\n",
       "       ['X6', '65'],\n",
       "       ['X6', 'S04'],\n",
       "       ['X6', 'S05'],\n",
       "       ['X6', 'S06'],\n",
       "       ['X6', 'S14'],\n",
       "       ['X6', 'S15'],\n",
       "       ['X6', 'S16'],\n",
       "       ['X6', 'S23'],\n",
       "       ['X6', 'S24'],\n",
       "       ['X6', 'S25'],\n",
       "       ['X6', 'S26'],\n",
       "       ['X6', 'S35'],\n",
       "       ['X6', 'S36'],\n",
       "       ['X6', 'S37'],\n",
       "       ['X6', 'S57'],\n",
       "       ['X6', 'S58'],\n",
       "       ['X6', 'S59'],\n",
       "       ['X6', 'S60'],\n",
       "       ['X9', 'BB030'],\n",
       "       ['X9', 'BB060'],\n",
       "       ['X9', 'BB070'],\n",
       "       ['X9', 'BB090'],\n",
       "       ['X9', 'BS040'],\n",
       "       ['X9', 'BS050'],\n",
       "       ['X9', 'BS080'],\n",
       "       ['X9', 'BS100'],\n",
       "       ['Z5', 'BB630'],\n",
       "       ['Z5', 'BB631'],\n",
       "       ['Z5', 'BS611'],\n",
       "       ['Z5', 'BS620'],\n",
       "       ['Z5', 'BS810'],\n",
       "       ['Z5', 'GB030'],\n",
       "       ['Z5', 'GB050'],\n",
       "       ['Z5', 'GB080'],\n",
       "       ['Z5', 'GB100'],\n",
       "       ['Z5', 'GB101'],\n",
       "       ['Z5', 'GB130'],\n",
       "       ['Z5', 'GB210'],\n",
       "       ['Z5', 'GB220'],\n",
       "       ['Z5', 'GB260'],\n",
       "       ['Z5', 'GB281'],\n",
       "       ['Z5', 'GB320'],\n",
       "       ['Z5', 'GB321'],\n",
       "       ['Z5', 'GB330'],\n",
       "       ['Z5', 'GB331'],\n",
       "       ['Z5', 'GB380'],\n",
       "       ['Z5', 'GS020'],\n",
       "       ['Z5', 'GS040'],\n",
       "       ['Z5', 'GS070'],\n",
       "       ['Z5', 'GS090'],\n",
       "       ['Z5', 'GS150'],\n",
       "       ['Z5', 'GS261'],\n",
       "       ['Z5', 'GS270'],\n",
       "       ['Z5', 'GS280'],\n",
       "       ['Z5', 'GS300'],\n",
       "       ['Z5', 'GS311']], dtype='<U5')"
      ]
     },
     "execution_count": 8,
     "metadata": {},
     "output_type": "execute_result"
    }
   ],
   "source": [
    "# Make a list of networks and stations\n",
    "networks_stas = []\n",
    "for i in range(len(inventory)):\n",
    "    network = inventory[i].code\n",
    "    \n",
    "    for j in range(len(inventory[i])):\n",
    "        networks_stas.append([network,inventory[i].stations[j].code])\n",
    "\n",
    "networks_stas =np.array(networks_stas)\n",
    "networks_stas  \n",
    "    "
   ]
  },
  {
   "cell_type": "code",
   "execution_count": 9,
   "id": "a52c0506",
   "metadata": {},
   "outputs": [
    {
     "data": {
      "text/plain": [
       "461"
      ]
     },
     "execution_count": 9,
     "metadata": {},
     "output_type": "execute_result"
    }
   ],
   "source": [
    "len(networks_stas)"
   ]
  },
  {
   "cell_type": "markdown",
   "id": "5984e98e",
   "metadata": {},
   "source": [
    "## Actual Picking"
   ]
  },
  {
   "cell_type": "code",
   "execution_count": 10,
   "id": "4c157967",
   "metadata": {},
   "outputs": [],
   "source": [
    "# Now create your list of days to loop over!\n",
    "t1 = datetime.datetime(year=2012,month=10,day=1,hour=0,minute=0,second=0,microsecond=0)\n",
    "t2 = datetime.datetime(year=2012,month=10,day=31,hour=0,minute=0,second=0,microsecond=0)\n",
    "time_bins = pd.to_datetime(np.arange(t1,t2+datetime.timedelta(days=1),pd.Timedelta(1,'days')))"
   ]
  },
  {
   "cell_type": "code",
   "execution_count": null,
   "id": "60220543",
   "metadata": {},
   "outputs": [],
   "source": [
    "# filename = \"../data/catalogs_elep_all_stations_20121001_to_20121031\"\n",
    "# os.makedirs(filename,exist_ok=True)"
   ]
  },
  {
   "cell_type": "code",
   "execution_count": 11,
   "id": "ff0cf559",
   "metadata": {},
   "outputs": [
    {
     "name": "stdout",
     "output_type": "stream",
     "text": [
      "../data/catalogs_elep_all_stations_20121001_to_20121031/M14B_20121001.csv\n"
     ]
    }
   ],
   "source": [
    "# Specify some parameters - you can change what you specify here vs. within the large function, this is just an example.\n",
    "# Depending on whether the pertained models take a long time to load every time, you may want to load those outside the function and just feed them to the function rather than loading them every time in parallel.\n",
    "twin = 6000     # length of time window\n",
    "step = 3000     # step length\n",
    "l_blnd, r_blnd = 500, 500\n",
    "\n",
    "###########################\n",
    "# This is not a valid file path to save files. \n",
    "filepath = \"../data/catalogs_elep_all_stations_20121001_to_20121031/\"\n",
    "\n",
    "# If we define:\n",
    "station = \"M14B\"\n",
    "# t1 = datetime(2012,10,1)\n",
    "tstring = t1.strftime('%Y%m%d')\n",
    "\n",
    "# You use this arguments below as (it should be filepath, not file_path)\n",
    "file_name = filepath+station+'_'+tstring+'.csv'\n",
    "\n",
    "# Then your file name will be:\n",
    "print(file_name)\n",
    "#https://cascadia.ess.washington.edu/jhub/user/hbito/notebooks/elep-test/surface_events/src7D_20121001.csv\n",
    "\n",
    "# 1. There is a missing \"/\" after src in filepath.\n",
    "# 2. This string beginning with https:// is a web link. You can replace filepath as:\n",
    "# filepath = \"/home/hbito/elep-test/surface_events/src/\"\n",
    "# 3. it may not be recommended to save data product to a src (source) folder. \n",
    "#    People usually make other directories to save those final files. \n",
    "#    Just a notice: not our top prioirty though.\n",
    "###########################"
   ]
  },
  {
   "cell_type": "code",
   "execution_count": 12,
   "id": "d5db51e4",
   "metadata": {},
   "outputs": [],
   "source": [
    "# download models\n",
    "pretrain_list = [\"pnw\",\"ethz\",\"instance\",\"scedc\",\"stead\",\"geofon\"]\n",
    "pn_pnw_model = sbm.EQTransformer.from_pretrained('pnw')\n",
    "pn_ethz_model = sbm.EQTransformer.from_pretrained(\"ethz\")\n",
    "pn_instance_model = sbm.EQTransformer.from_pretrained(\"instance\")\n",
    "pn_scedc_model = sbm.EQTransformer.from_pretrained(\"scedc\")\n",
    "pn_stead_model = sbm.EQTransformer.from_pretrained(\"stead\")\n",
    "pn_geofon_model = sbm.EQTransformer.from_pretrained(\"geofon\")"
   ]
  },
  {
   "cell_type": "code",
   "execution_count": 13,
   "id": "dd7d1273",
   "metadata": {},
   "outputs": [],
   "source": [
    "# Define the function for stacking the segmented time windows after prediction\n",
    "##################################### add a nseg argument here\n",
    "# def stacking(data, npts, l_blnd, r_blnd):\n",
    "def stacking(data, npts, l_blnd, r_blnd, nseg):\n",
    "#####################################\n",
    "    _data = data.copy()\n",
    "    stack = np.full(npts, np.nan, dtype = np.float32)\n",
    "    _data[:, :l_blnd] = np.nan; _data[:, -r_blnd:] = np.nan\n",
    "    stack[:twin] = _data[0, :]\n",
    "    for iseg in range(nseg-1):\n",
    "        idx = step*(iseg+1)\n",
    "        stack[idx:idx + twin] = \\\n",
    "                np.nanmax([stack[idx:idx + twin], _data[iseg+1, :]], axis = 0)\n",
    "    return stack"
   ]
  },
  {
   "cell_type": "code",
   "execution_count": 14,
   "id": "bf7e259b",
   "metadata": {},
   "outputs": [
    {
     "data": {
      "text/plain": [
       "3 Trace(s) in Stream:\n",
       "7D.J25B..HH1 | 2012-10-01T00:00:00.006900Z - 2012-10-01T23:59:59.990900Z | 125.0 Hz, 10799999 samples\n",
       "7D.J25B..HH2 | 2012-10-01T00:00:00.006900Z - 2012-10-01T23:59:59.990900Z | 125.0 Hz, 10799999 samples\n",
       "7D.J25B..HHZ | 2012-10-01T00:00:00.006900Z - 2012-10-01T23:59:59.990900Z | 125.0 Hz, 10799999 samples"
      ]
     },
     "execution_count": 14,
     "metadata": {},
     "output_type": "execute_result"
    }
   ],
   "source": [
    "# Trying to debug the error when I try to get the waveforms from the NCEDC client\n",
    "sdata = client_waveform.get_waveforms(network='7D', station=\"J25B\", channel=\"?H?\", \n",
    "                                          year=t1.strftime('%Y'), month=t1.strftime('%m'), \n",
    "                                          day=t1.strftime('%d'))\n",
    "sdata"
   ]
  },
  {
   "cell_type": "markdown",
   "id": "c6cc8f5e",
   "metadata": {},
   "source": [
    "## Test if we can retrieve streams from stations KBO and KRMB and KEB for anytime before mid-October 2012 (NOT necessary to run)\n",
    "These stations don't seem to have stream before mid-October 2012"
   ]
  },
  {
   "cell_type": "code",
   "execution_count": null,
   "id": "1ef54121",
   "metadata": {},
   "outputs": [],
   "source": [
    "client_ncedc = Client('NCEDC')\n",
    "\n",
    "sdata = client_ncedc.get_waveforms(network='NC', station='KBO', location=\"*\", channel='?H?',\n",
    "                                   starttime=UTCDateTime(t1), endtime=UTCDateTime(t1 + timedelta(days=1)))\n",
    "sdata"
   ]
  },
  {
   "cell_type": "code",
   "execution_count": null,
   "id": "e6ccdaaf",
   "metadata": {},
   "outputs": [],
   "source": [
    "client_ncedc = Client('NCEDC')\n",
    "\n",
    "sdata = client_ncedc.get_waveforms(network='NC', station='KRMB', location=\"*\", channel='?H?',\n",
    "                                   starttime=UTCDateTime(t1), endtime=UTCDateTime(t1 + timedelta(days=1)))\n",
    "sdata"
   ]
  },
  {
   "cell_type": "code",
   "execution_count": null,
   "id": "c987a0a4",
   "metadata": {},
   "outputs": [],
   "source": [
    "client_ncedc = Client('NCEDC')\n",
    "\n",
    "sdata = client_ncedc.get_waveforms(network='NC', station='KEB', location=\"*\", channel='?H?',\n",
    "                                   starttime=UTCDateTime(t1), endtime=UTCDateTime(t1 + timedelta(days=1)))\n",
    "sdata"
   ]
  },
  {
   "cell_type": "markdown",
   "id": "ce251b79",
   "metadata": {},
   "source": [
    "## Test if we can retrieve streams from station KOM\n"
   ]
  },
  {
   "cell_type": "code",
   "execution_count": null,
   "id": "e2a854f6",
   "metadata": {},
   "outputs": [],
   "source": [
    "# client_waveform = WaveformClient()\n",
    "sdata = client_ncedc.get_waveforms(network='NC', station='KOM', location=\"*\", channel='?H?',\n",
    "                                   starttime=UTCDateTime(t1), endtime=UTCDateTime(t1 + timedelta(days=1)))\n",
    "sdata"
   ]
  },
  {
   "cell_type": "markdown",
   "id": "251ea75e",
   "metadata": {},
   "source": [
    "## Test if we can retrieve streams from station JCC\n"
   ]
  },
  {
   "cell_type": "code",
   "execution_count": null,
   "id": "954a059a",
   "metadata": {},
   "outputs": [],
   "source": [
    "# client_waveform = WaveformClient()\n",
    "_sdata = client_ncedc.get_waveforms(network='BK', station='JCC', location=\"*\", channel='?H?',\n",
    "                                   starttime=UTCDateTime(t1), endtime=UTCDateTime(t1 + timedelta(days=1)))\n",
    "sdata = Stream()\n",
    "# Check for HH and BH channels presence\n",
    "has_HH = bool(_sdata.select(channel=\"HH?\"))\n",
    "has_BH = bool(_sdata.select(channel=\"BH?\"))\n",
    "\n",
    "# Apply selection logic based on channel presence\n",
    "if has_HH and has_BH:\n",
    "    # If both HH and BH channels are present, select only HH\n",
    "    sdata += _sdata.select(channel=\"HH?\")\n",
    "elif has_HH:\n",
    "    # If only HH channels are present\n",
    "    sdata += _sdata.select(channel=\"HH?\")\n",
    "elif has_BH:\n",
    "    # If only BH channels are present\n",
    "    sdata += _sdata.select(channel=\"BH?\")"
   ]
  },
  {
   "cell_type": "code",
   "execution_count": null,
   "id": "4c85f662",
   "metadata": {},
   "outputs": [],
   "source": [
    "sdata"
   ]
  },
  {
   "cell_type": "code",
   "execution_count": null,
   "id": "2811383f",
   "metadata": {},
   "outputs": [],
   "source": [
    "# Testing how the stream for JCC looks like since I received an error for this station in the parallel. \n",
    "# As shown in the output, JCC has two channel types which causes an error when converting the traces in the stream to a array since \n",
    "# these channels have different lengths of traces. \n",
    "sdata = sdata.select(channel = \"[HB]H?\")\n",
    "    ###############################\n",
    "    # If no data returned, skipping\n",
    "if len(sdata) == 0:\n",
    "    logging.warning(\"No stream returned. Skipping.\")\n",
    "    \n",
    "###############################\n",
    "\n",
    "sdata.filter(type='bandpass',freqmin=4,freqmax=15)\n",
    "\n",
    "###############################\n",
    "sdata.merge(fill_value='interpolate') # fill gaps if there are any.\n",
    "###############################\n",
    "\n",
    "# Get the necassary information about the station\n",
    "delta = sdata[0].stats.delta\n",
    "starttime = sdata[0].stats.starttime\n",
    "fs = sdata[0].stats.sampling_rate\n",
    "dt = 1/fs\n",
    "\n",
    "\n",
    "# Make all the traces in the stream have the same lengths\n",
    "max_starttime = max([tr.stats.starttime for tr in sdata])\n",
    "min_endtime = min([tr.stats.endtime for tr in sdata])\n",
    "\n",
    "for tr in sdata:\n",
    "    tr.trim(starttime=max_starttime,endtime=min_endtime, nearest_sample=True)    \n"
   ]
  },
  {
   "cell_type": "code",
   "execution_count": null,
   "id": "0967ccb9",
   "metadata": {},
   "outputs": [],
   "source": []
  },
  {
   "cell_type": "markdown",
   "id": "4cdccf23",
   "metadata": {},
   "source": [
    "## Define the detection function"
   ]
  },
  {
   "cell_type": "code",
   "execution_count": 15,
   "id": "7cdf915c",
   "metadata": {},
   "outputs": [],
   "source": [
    "# Write your function that you want to run in parallel: I recommend you design this to essentially perform your entire workflow on one station for one day, and write a csv file for that station, much the way you already have it.\n",
    "# This is what will run in parallel!\n",
    "# So, the only inputs are the station name, the start and end times you want to detect for, the path of the folder you want to write the results to, and the parameters you already specified. Here is where you could also feed in the preloaded models if that becomes important.\n",
    "def run_detection(network,station,t1,t2,filepath,twin,step,l_blnd,r_blnd):\n",
    "    # Define tstring\n",
    "    tstring = t1.strftime('%Y%m%d')\n",
    "\n",
    "    if os.path.exists(filepath+station+'_'+tstring+'.csv'):\n",
    "        return \n",
    "\t# Load data\n",
    "\t# Reshape data\n",
    "\t# Predict on base models\n",
    "\t# Stack\n",
    "\t# Create and write csv file. Define file name using the station code and the input filepath\n",
    "    \n",
    "    # Get the inventory for the stations\n",
    "    ###############################\n",
    "    #stations = station           # Seems you never use this \"stations\" again\n",
    "                                  # so you can just use \"station\"\n",
    "    ###############################\n",
    "    network = network\n",
    "#     channels = '[HB][HN][BH]?'\n",
    "#     channels = 'HH?,HN?,BH?' \n",
    "    channels = '?H?'\n",
    "    \n",
    "    client = client_inventory\n",
    "    inventory = client.get_stations(network=network, station=station)\n",
    "    \n",
    "    # Get waveforms and filter\n",
    "    ###############################\n",
    "   #sdata = client_waveform.get_waveforms(network=\"7D\", station=station, channel=\"BH?\", starttime=t1, \n",
    "   #                                      year=t1.strftime('%Y'), month=t1.strftime('%m'), \n",
    "   #                                      day=t1.strftime('%d'))\n",
    "   # You've already defined stations, network, channels above, so you can use them here.\n",
    "   # You don't need \"starttime = t1\" argument.\n",
    "    \n",
    "    \n",
    "    try:\n",
    "        if network in ['NC', 'BK']:\n",
    "            # Query waveforms\n",
    "            _sdata = client_ncedc.get_waveforms(network=network, station=station, location=\"*\", channel=channels,\n",
    "                                               starttime=UTCDateTime(t1), endtime=UTCDateTime(t1 + timedelta(days=1)))\n",
    "        else: \n",
    "            _sdata = client_waveform.get_waveforms(network=network, station=station, channel=channels, \n",
    "                                              year=t1.strftime('%Y'), month=t1.strftime('%m'), \n",
    "                                              day=t1.strftime('%d'))\n",
    "    except obspy.clients.fdsn.header.FDSNNoDataException:\n",
    "        print(f\"WARNING: No data for {network}.{station}.{channels} on {t1}.\")\n",
    "        return\n",
    "    \n",
    "#     sdata = sdata.select(channel = \"[HB]H?\")\n",
    "        \n",
    "# Create a new stream\n",
    "    sdata = Stream()\n",
    "# Check for HH and BH channels presence\n",
    "    has_HH = bool(_sdata.select(channel=\"HH?\"))\n",
    "    has_BH = bool(_sdata.select(channel=\"BH?\"))\n",
    "\n",
    "    # Apply selection logic based on channel presence\n",
    "    if has_HH and has_BH:\n",
    "        # If both HH and BH channels are present, select only HH\n",
    "        sdata += _sdata.select(channel=\"HH?\")\n",
    "    elif has_HH:\n",
    "        # If only HH channels are present\n",
    "        sdata += _sdata.select(channel=\"HH?\")\n",
    "    elif has_BH:\n",
    "        # If only BH channels are present\n",
    "        sdata += _sdata.select(channel=\"BH?\")\n",
    "\n",
    "    ###############################\n",
    "    # If no data returned, skipping\n",
    "    if len(sdata) == 0:\n",
    "        logging.warning(\"No stream returned. Skipping.\")\n",
    "        return\n",
    "    ###############################\n",
    "    \n",
    "    sdata.filter(type='bandpass',freqmin=4,freqmax=15)\n",
    "    \n",
    "    ###############################\n",
    "    sdata.merge(fill_value='interpolate') # fill gaps if there are any.\n",
    "    ###############################\n",
    "\n",
    "    # Get the necassary information about the station\n",
    "    delta = sdata[0].stats.delta\n",
    "    starttime = sdata[0].stats.starttime\n",
    "    fs = sdata[0].stats.sampling_rate\n",
    "    dt = 1/fs\n",
    "    \n",
    "\n",
    "    # Make all the traces in the stream have the same lengths\n",
    "    max_starttime = max([tr.stats.starttime for tr in sdata])\n",
    "    min_endtime = min([tr.stats.endtime for tr in sdata])\n",
    "    \n",
    "    for tr in sdata:\n",
    "        tr.trim(starttime=max_starttime,endtime=min_endtime, nearest_sample=True)    \n",
    "        \n",
    "    # Reshaping data\n",
    "    arr_sdata = np.array(sdata)\n",
    "    npts = arr_sdata.shape[1]\n",
    "    ############################### avoiding errors at the end of a stream\n",
    "   #nseg = int(np.ceil((npts - twin) / step)) + 1\n",
    "    nseg = int(np.floor((npts - twin) / step)) + 1\n",
    "    ###############################\n",
    "    windows = np.zeros(shape=(nseg, 3, twin), dtype= np.float32)\n",
    "    tap = 0.5 * (1 + np.cos(np.linspace(np.pi, 2 * np.pi, 6)))\n",
    "    \n",
    "    # Define the parameters for semblance\n",
    "    paras_semblance = {'dt':dt, 'semblance_order':2, 'window_flag':True, \n",
    "                   'semblance_win':0.5, 'weight_flag':'max'}\n",
    "    p_thrd, s_thrd = 0.05, 0.05\n",
    "\n",
    "    windows_std = np.zeros(shape=(nseg, 3, twin), dtype= np.float32)\n",
    "    windows_max = np.zeros(shape=(nseg, 3, twin), dtype= np.float32)\n",
    "    windows = np.zeros(shape=(nseg, 3, twin), dtype= np.float32)\n",
    "    windows_idx = np.zeros(nseg, dtype=np.int32)\n",
    "\n",
    "    for iseg in range(nseg):\n",
    "        idx = iseg * step\n",
    "        windows[iseg, :] = arr_sdata[:, idx:idx + twin]\n",
    "        windows[iseg, :] -= np.mean(windows[iseg, :], axis=-1, keepdims=True)\n",
    "        # original use std norm\n",
    "        windows_std[iseg, :] = windows[iseg, :] / np.std(windows[iseg, :]) + 1e-10\n",
    "        # others use max norm\n",
    "        windows_max[iseg, :] = windows[iseg, :] / (np.max(np.abs(windows[iseg, :]), axis=-1, keepdims=True))\n",
    "        windows_idx[iseg] = idx\n",
    "\n",
    "    # taper\n",
    "    windows_std[:, :, :6] *= tap; windows_std[:, :, -6:] *= tap[::-1]; \n",
    "    windows_max[:, :, :6] *= tap; windows_max[:, :, -6:] *= tap[::-1];\n",
    "    del windows\n",
    "\n",
    "#     print(f\"Window data shape: {windows_std.shape}\")\n",
    "    \n",
    "    # Predict on base models\n",
    "    \n",
    "    pretrain_list = ['original', 'ethz', 'instance', 'scedc', 'stead']\n",
    "\n",
    "    # dim 0: 0 = P, 1 = S\n",
    "    batch_pred = np.zeros([2, len(pretrain_list), nseg, twin], dtype = np.float32) \n",
    "    for ipre, pretrain in enumerate(pretrain_list):\n",
    "        t0 = time.time()\n",
    "        eqt = sbm.EQTransformer.from_pretrained(pretrain)\n",
    "        eqt.to(device);\n",
    "        eqt._annotate_args['overlap'] = ('Overlap between prediction windows in samples \\\n",
    "                                        (only for window prediction models)', step)\n",
    "        eqt._annotate_args['blinding'] = ('Number of prediction samples to discard on \\\n",
    "                                         each side of each window prediction', (l_blnd, r_blnd))\n",
    "        eqt.eval();\n",
    "        if pretrain == 'original':\n",
    "            # batch prediction through torch model\n",
    "            windows_std_tt = torch.Tensor(windows_std)\n",
    "            _torch_pred = eqt(windows_std_tt.to(device))\n",
    "        else:\n",
    "            windows_max_tt = torch.Tensor(windows_max)\n",
    "            _torch_pred = eqt(windows_max_tt.to(device))\n",
    "        batch_pred[0, ipre, :] = _torch_pred[1].detach().cpu().numpy()\n",
    "        batch_pred[1, ipre, :] = _torch_pred[2].detach().cpu().numpy()\n",
    "\n",
    "    # clean up memory\n",
    "    del _torch_pred, windows_max_tt, windows_std_tt\n",
    "    del windows_std, windows_max\n",
    "    gc.collect()\n",
    "    torch.cuda.empty_cache()\n",
    "\n",
    "    print(f\"All prediction shape: {batch_pred.shape}\")\n",
    "    \n",
    "    ####################### You don't need this\n",
    "#     pretrain_pred = np.zeros([2, len(pretrain_list), npts], dtype = np.float32)\n",
    "#     for ipre, pretrain in enumerate(pretrain_list):\n",
    "#        # 0 for P-wave\n",
    "#         pretrain_pred[0, ipre, :] = stacking(batch_pred[0, ipre, :], npts, l_blnd, r_blnd)\n",
    "# \n",
    "#        # 1 for S-wave\n",
    "#        pretrain_pred[1, ipre, :] = stacking(batch_pred[1, ipre, :], npts, l_blnd, r_blnd)\n",
    "    ####################### You don't need this\n",
    "    \n",
    "    smb_pred = np.zeros([2, nseg, twin], dtype = np.float32)\n",
    "    # calculate the semblance\n",
    "    ## the semblance may takes a while bit to calculate\n",
    "    \n",
    "    ############################# remove tqdm (extra progress bar)\n",
    "#     for iseg in tqdm(range(nseg)):\n",
    "    for iseg in range(nseg):\n",
    "    #############################\n",
    "        # 0 for P-wave\n",
    "        smb_pred[0, iseg, :] = ensemble_semblance(batch_pred[0, :, iseg, :], paras_semblance)\n",
    "\n",
    "        # 1 for P-wave\n",
    "        smb_pred[1, iseg, :] = ensemble_semblance(batch_pred[1, :, iseg, :], paras_semblance)\n",
    "\n",
    "    ## ... and stack\n",
    "    # 0 for P-wave\n",
    "    ####################### add a nseg argument here\n",
    "    #smb_p = stacking(smb_pred[0, :], npts, l_blnd, r_blnd)\n",
    "    smb_p = stacking(smb_pred[0, :], npts, l_blnd, r_blnd, nseg)\n",
    "\n",
    "    # 1 for P-wave\n",
    "    #smb_s = stacking(smb_pred[1, :], npts, l_blnd, r_blnd)\n",
    "    smb_s = stacking(smb_pred[1, :], npts, l_blnd, r_blnd, nseg)\n",
    "    #######################\n",
    "    # clean-up RAM\n",
    "    del smb_pred, batch_pred\n",
    "\n",
    "    p_index = picks_summary_simple(smb_p, p_thrd)\n",
    "    s_index = picks_summary_simple(smb_s, s_thrd)\n",
    "    print(f\"{len(p_index)} P picks\\n{len(s_index)} S picks\")\n",
    "    \n",
    "    # Create lists and a data frame\n",
    "    event_id = []\n",
    "    source_type = []\n",
    "    station_network_code = []\n",
    "    station_channel_code = []\n",
    "    station_code = []\n",
    "    station_location_code = []\n",
    "    station_latitude_deg= []\n",
    "    station_longitude_deg = []\n",
    "    station_elevation_m = []\n",
    "    trace_name = []\n",
    "    trace_sampling_rate_hz = []\n",
    "    trace_start_time = []\n",
    "    trace_S_arrival_sample = []\n",
    "    trace_P_arrival_sample = []\n",
    "    trace_S_onset = []\n",
    "    trace_P_onset = []\n",
    "    trace_snr_db = []\n",
    "    trace_p_arrival = []\n",
    "    trace_s_arrival = []\n",
    "\n",
    "    for i, idx in enumerate(p_index):\n",
    "        event_id.append(' ')\n",
    "        source_type.append(' ')\n",
    "        station_network_code.append(network)   # Change to otehr networks\n",
    "        station_channel_code.append(' ')\n",
    "        station_code.append(station)\n",
    "        station_location_code.append(sdata[0].stats.location)   \n",
    "        station_latitude_deg.append(inventory[0][0].latitude)\n",
    "        station_longitude_deg.append(inventory[0][0].longitude)   \n",
    "        station_elevation_m.append(inventory[0][0].elevation)\n",
    "        trace_name.append(' ')\n",
    "        trace_sampling_rate_hz.append(sdata[0].stats.sampling_rate)\n",
    "        trace_start_time.append(sdata[0].stats.starttime)\n",
    "        trace_S_arrival_sample.append(' ')\n",
    "        trace_P_arrival_sample.append(' ')\n",
    "        trace_S_onset.append(' ')\n",
    "        trace_P_onset.append(' ')\n",
    "        trace_snr_db.append(' ')\n",
    "        trace_s_arrival.append(np.nan)\n",
    "        trace_p_arrival.append(str(starttime  + idx * delta))\n",
    "\n",
    "    for i, idx in enumerate(s_index):\n",
    "        event_id.append(' ')\n",
    "        source_type.append(' ')\n",
    "        station_network_code.append(network) # Change to otehr networks\n",
    "        station_channel_code.append(' ')\n",
    "        station_code.append(station)\n",
    "        station_location_code.append(sdata[0].stats.location)   \n",
    "        station_latitude_deg.append(inventory[0][0].latitude)\n",
    "        station_longitude_deg.append(inventory[0][0].longitude)   \n",
    "        station_elevation_m.append(inventory[0][0].elevation)\n",
    "        trace_name.append(' ')\n",
    "        trace_sampling_rate_hz.append(sdata[0].stats.sampling_rate)\n",
    "        trace_start_time.append(sdata[0].stats.starttime)\n",
    "        trace_S_arrival_sample.append(' ')\n",
    "        trace_P_arrival_sample.append(' ')\n",
    "        trace_S_onset.append(' ')\n",
    "        trace_P_onset.append(' ')\n",
    "        trace_snr_db.append(' ')\n",
    "        trace_s_arrival.append(str(starttime  + idx * delta))\n",
    "        trace_p_arrival.append(np.nan)\n",
    "\n",
    "    # dictionary of lists\n",
    "    dict = {'event_id':event_id,'source_type':source_type,'station_network_code':station_network_code,\\\n",
    "            'station_channel_code':station_channel_code,'station_code':station_code,'station_location_code':station_location_code,\\\n",
    "            'station_latitude_deg':station_latitude_deg,'station_longitude_deg':station_longitude_deg, \\\n",
    "            'station_elevation_m':station_elevation_m,'trace_name':trace_name,'trace_sampling_rate_hz':trace_sampling_rate_hz,\\\n",
    "            'trace_start_time':trace_start_time,'trace_S_arrival_sample':trace_S_arrival_sample,\\\n",
    "            'trace_P_arrival_sample':trace_P_arrival_sample, 'trace_S_onset':trace_S_onset,'trace_P_onset':trace_P_onset,\\\n",
    "            'trace_snr_db':trace_snr_db, 'trace_s_arrival':trace_s_arrival, 'trace_p_arrival':trace_p_arrival}\n",
    "\n",
    "    df = pd.DataFrame(dict)\n",
    "\n",
    "    # Make the specific day into a string:\n",
    "    tstring = t1.strftime('%Y%m%d')\n",
    "    # Build the full file name:\n",
    "    ##################################################\n",
    "#     file_name = file_path+station+'_'+tstring+'.csv'\n",
    "    file_name = filepath+station+'_'+tstring+'.csv'\n",
    "    ##################################################\n",
    "    # Write to file using that name\n",
    "    df.to_csv(file_name)"
   ]
  },
  {
   "cell_type": "code",
   "execution_count": 16,
   "id": "e995b55c",
   "metadata": {},
   "outputs": [],
   "source": [
    "# Combine that list of days with the list of stations\n",
    "# We are essentially creating a list of the number of tasks we have to do with the information that is unique to each task; we will do them in parallel\n",
    "task_list = []\n",
    "for i in range(len(networks_stas)):\n",
    "\tfor t in time_bins:\n",
    "\t\ttask_list.append([networks_stas[i][0], networks_stas[i][1],t])"
   ]
  },
  {
   "cell_type": "code",
   "execution_count": 17,
   "id": "7ec6c541",
   "metadata": {},
   "outputs": [
    {
     "data": {
      "text/plain": [
       "[['7A', 'W01', Timestamp('2012-10-01 00:00:00')],\n",
       " ['7A', 'W01', Timestamp('2012-10-02 00:00:00')],\n",
       " ['7A', 'W01', Timestamp('2012-10-03 00:00:00')],\n",
       " ['7A', 'W01', Timestamp('2012-10-04 00:00:00')],\n",
       " ['7A', 'W01', Timestamp('2012-10-05 00:00:00')],\n",
       " ['7A', 'W01', Timestamp('2012-10-06 00:00:00')],\n",
       " ['7A', 'W01', Timestamp('2012-10-07 00:00:00')],\n",
       " ['7A', 'W01', Timestamp('2012-10-08 00:00:00')],\n",
       " ['7A', 'W01', Timestamp('2012-10-09 00:00:00')],\n",
       " ['7A', 'W01', Timestamp('2012-10-10 00:00:00')],\n",
       " ['7A', 'W01', Timestamp('2012-10-11 00:00:00')],\n",
       " ['7A', 'W01', Timestamp('2012-10-12 00:00:00')],\n",
       " ['7A', 'W01', Timestamp('2012-10-13 00:00:00')],\n",
       " ['7A', 'W01', Timestamp('2012-10-14 00:00:00')],\n",
       " ['7A', 'W01', Timestamp('2012-10-15 00:00:00')],\n",
       " ['7A', 'W01', Timestamp('2012-10-16 00:00:00')],\n",
       " ['7A', 'W01', Timestamp('2012-10-17 00:00:00')],\n",
       " ['7A', 'W01', Timestamp('2012-10-18 00:00:00')],\n",
       " ['7A', 'W01', Timestamp('2012-10-19 00:00:00')],\n",
       " ['7A', 'W01', Timestamp('2012-10-20 00:00:00')],\n",
       " ['7A', 'W01', Timestamp('2012-10-21 00:00:00')],\n",
       " ['7A', 'W01', Timestamp('2012-10-22 00:00:00')],\n",
       " ['7A', 'W01', Timestamp('2012-10-23 00:00:00')],\n",
       " ['7A', 'W01', Timestamp('2012-10-24 00:00:00')],\n",
       " ['7A', 'W01', Timestamp('2012-10-25 00:00:00')],\n",
       " ['7A', 'W01', Timestamp('2012-10-26 00:00:00')],\n",
       " ['7A', 'W01', Timestamp('2012-10-27 00:00:00')],\n",
       " ['7A', 'W01', Timestamp('2012-10-28 00:00:00')],\n",
       " ['7A', 'W01', Timestamp('2012-10-29 00:00:00')],\n",
       " ['7A', 'W01', Timestamp('2012-10-30 00:00:00')],\n",
       " ['7A', 'W01', Timestamp('2012-10-31 00:00:00')],\n",
       " ['7A', 'W02', Timestamp('2012-10-01 00:00:00')],\n",
       " ['7A', 'W02', Timestamp('2012-10-02 00:00:00')],\n",
       " ['7A', 'W02', Timestamp('2012-10-03 00:00:00')],\n",
       " ['7A', 'W02', Timestamp('2012-10-04 00:00:00')],\n",
       " ['7A', 'W02', Timestamp('2012-10-05 00:00:00')],\n",
       " ['7A', 'W02', Timestamp('2012-10-06 00:00:00')],\n",
       " ['7A', 'W02', Timestamp('2012-10-07 00:00:00')],\n",
       " ['7A', 'W02', Timestamp('2012-10-08 00:00:00')],\n",
       " ['7A', 'W02', Timestamp('2012-10-09 00:00:00')],\n",
       " ['7A', 'W02', Timestamp('2012-10-10 00:00:00')],\n",
       " ['7A', 'W02', Timestamp('2012-10-11 00:00:00')],\n",
       " ['7A', 'W02', Timestamp('2012-10-12 00:00:00')],\n",
       " ['7A', 'W02', Timestamp('2012-10-13 00:00:00')],\n",
       " ['7A', 'W02', Timestamp('2012-10-14 00:00:00')],\n",
       " ['7A', 'W02', Timestamp('2012-10-15 00:00:00')],\n",
       " ['7A', 'W02', Timestamp('2012-10-16 00:00:00')],\n",
       " ['7A', 'W02', Timestamp('2012-10-17 00:00:00')],\n",
       " ['7A', 'W02', Timestamp('2012-10-18 00:00:00')],\n",
       " ['7A', 'W02', Timestamp('2012-10-19 00:00:00')],\n",
       " ['7A', 'W02', Timestamp('2012-10-20 00:00:00')],\n",
       " ['7A', 'W02', Timestamp('2012-10-21 00:00:00')],\n",
       " ['7A', 'W02', Timestamp('2012-10-22 00:00:00')],\n",
       " ['7A', 'W02', Timestamp('2012-10-23 00:00:00')],\n",
       " ['7A', 'W02', Timestamp('2012-10-24 00:00:00')],\n",
       " ['7A', 'W02', Timestamp('2012-10-25 00:00:00')],\n",
       " ['7A', 'W02', Timestamp('2012-10-26 00:00:00')],\n",
       " ['7A', 'W02', Timestamp('2012-10-27 00:00:00')],\n",
       " ['7A', 'W02', Timestamp('2012-10-28 00:00:00')],\n",
       " ['7A', 'W02', Timestamp('2012-10-29 00:00:00')],\n",
       " ['7A', 'W02', Timestamp('2012-10-30 00:00:00')],\n",
       " ['7A', 'W02', Timestamp('2012-10-31 00:00:00')],\n",
       " ['7A', 'W03', Timestamp('2012-10-01 00:00:00')],\n",
       " ['7A', 'W03', Timestamp('2012-10-02 00:00:00')],\n",
       " ['7A', 'W03', Timestamp('2012-10-03 00:00:00')],\n",
       " ['7A', 'W03', Timestamp('2012-10-04 00:00:00')],\n",
       " ['7A', 'W03', Timestamp('2012-10-05 00:00:00')],\n",
       " ['7A', 'W03', Timestamp('2012-10-06 00:00:00')],\n",
       " ['7A', 'W03', Timestamp('2012-10-07 00:00:00')],\n",
       " ['7A', 'W03', Timestamp('2012-10-08 00:00:00')],\n",
       " ['7A', 'W03', Timestamp('2012-10-09 00:00:00')],\n",
       " ['7A', 'W03', Timestamp('2012-10-10 00:00:00')],\n",
       " ['7A', 'W03', Timestamp('2012-10-11 00:00:00')],\n",
       " ['7A', 'W03', Timestamp('2012-10-12 00:00:00')],\n",
       " ['7A', 'W03', Timestamp('2012-10-13 00:00:00')],\n",
       " ['7A', 'W03', Timestamp('2012-10-14 00:00:00')],\n",
       " ['7A', 'W03', Timestamp('2012-10-15 00:00:00')],\n",
       " ['7A', 'W03', Timestamp('2012-10-16 00:00:00')],\n",
       " ['7A', 'W03', Timestamp('2012-10-17 00:00:00')],\n",
       " ['7A', 'W03', Timestamp('2012-10-18 00:00:00')],\n",
       " ['7A', 'W03', Timestamp('2012-10-19 00:00:00')],\n",
       " ['7A', 'W03', Timestamp('2012-10-20 00:00:00')],\n",
       " ['7A', 'W03', Timestamp('2012-10-21 00:00:00')],\n",
       " ['7A', 'W03', Timestamp('2012-10-22 00:00:00')],\n",
       " ['7A', 'W03', Timestamp('2012-10-23 00:00:00')],\n",
       " ['7A', 'W03', Timestamp('2012-10-24 00:00:00')],\n",
       " ['7A', 'W03', Timestamp('2012-10-25 00:00:00')],\n",
       " ['7A', 'W03', Timestamp('2012-10-26 00:00:00')],\n",
       " ['7A', 'W03', Timestamp('2012-10-27 00:00:00')],\n",
       " ['7A', 'W03', Timestamp('2012-10-28 00:00:00')],\n",
       " ['7A', 'W03', Timestamp('2012-10-29 00:00:00')],\n",
       " ['7A', 'W03', Timestamp('2012-10-30 00:00:00')],\n",
       " ['7A', 'W03', Timestamp('2012-10-31 00:00:00')],\n",
       " ['7A', 'W04', Timestamp('2012-10-01 00:00:00')],\n",
       " ['7A', 'W04', Timestamp('2012-10-02 00:00:00')],\n",
       " ['7A', 'W04', Timestamp('2012-10-03 00:00:00')],\n",
       " ['7A', 'W04', Timestamp('2012-10-04 00:00:00')],\n",
       " ['7A', 'W04', Timestamp('2012-10-05 00:00:00')],\n",
       " ['7A', 'W04', Timestamp('2012-10-06 00:00:00')],\n",
       " ['7A', 'W04', Timestamp('2012-10-07 00:00:00')],\n",
       " ['7A', 'W04', Timestamp('2012-10-08 00:00:00')],\n",
       " ['7A', 'W04', Timestamp('2012-10-09 00:00:00')],\n",
       " ['7A', 'W04', Timestamp('2012-10-10 00:00:00')],\n",
       " ['7A', 'W04', Timestamp('2012-10-11 00:00:00')],\n",
       " ['7A', 'W04', Timestamp('2012-10-12 00:00:00')],\n",
       " ['7A', 'W04', Timestamp('2012-10-13 00:00:00')],\n",
       " ['7A', 'W04', Timestamp('2012-10-14 00:00:00')],\n",
       " ['7A', 'W04', Timestamp('2012-10-15 00:00:00')],\n",
       " ['7A', 'W04', Timestamp('2012-10-16 00:00:00')],\n",
       " ['7A', 'W04', Timestamp('2012-10-17 00:00:00')],\n",
       " ['7A', 'W04', Timestamp('2012-10-18 00:00:00')],\n",
       " ['7A', 'W04', Timestamp('2012-10-19 00:00:00')],\n",
       " ['7A', 'W04', Timestamp('2012-10-20 00:00:00')],\n",
       " ['7A', 'W04', Timestamp('2012-10-21 00:00:00')],\n",
       " ['7A', 'W04', Timestamp('2012-10-22 00:00:00')],\n",
       " ['7A', 'W04', Timestamp('2012-10-23 00:00:00')],\n",
       " ['7A', 'W04', Timestamp('2012-10-24 00:00:00')],\n",
       " ['7A', 'W04', Timestamp('2012-10-25 00:00:00')],\n",
       " ['7A', 'W04', Timestamp('2012-10-26 00:00:00')],\n",
       " ['7A', 'W04', Timestamp('2012-10-27 00:00:00')],\n",
       " ['7A', 'W04', Timestamp('2012-10-28 00:00:00')],\n",
       " ['7A', 'W04', Timestamp('2012-10-29 00:00:00')],\n",
       " ['7A', 'W04', Timestamp('2012-10-30 00:00:00')],\n",
       " ['7A', 'W04', Timestamp('2012-10-31 00:00:00')],\n",
       " ['7A', 'W06', Timestamp('2012-10-01 00:00:00')],\n",
       " ['7A', 'W06', Timestamp('2012-10-02 00:00:00')],\n",
       " ['7A', 'W06', Timestamp('2012-10-03 00:00:00')],\n",
       " ['7A', 'W06', Timestamp('2012-10-04 00:00:00')],\n",
       " ['7A', 'W06', Timestamp('2012-10-05 00:00:00')],\n",
       " ['7A', 'W06', Timestamp('2012-10-06 00:00:00')],\n",
       " ['7A', 'W06', Timestamp('2012-10-07 00:00:00')],\n",
       " ['7A', 'W06', Timestamp('2012-10-08 00:00:00')],\n",
       " ['7A', 'W06', Timestamp('2012-10-09 00:00:00')],\n",
       " ['7A', 'W06', Timestamp('2012-10-10 00:00:00')],\n",
       " ['7A', 'W06', Timestamp('2012-10-11 00:00:00')],\n",
       " ['7A', 'W06', Timestamp('2012-10-12 00:00:00')],\n",
       " ['7A', 'W06', Timestamp('2012-10-13 00:00:00')],\n",
       " ['7A', 'W06', Timestamp('2012-10-14 00:00:00')],\n",
       " ['7A', 'W06', Timestamp('2012-10-15 00:00:00')],\n",
       " ['7A', 'W06', Timestamp('2012-10-16 00:00:00')],\n",
       " ['7A', 'W06', Timestamp('2012-10-17 00:00:00')],\n",
       " ['7A', 'W06', Timestamp('2012-10-18 00:00:00')],\n",
       " ['7A', 'W06', Timestamp('2012-10-19 00:00:00')],\n",
       " ['7A', 'W06', Timestamp('2012-10-20 00:00:00')],\n",
       " ['7A', 'W06', Timestamp('2012-10-21 00:00:00')],\n",
       " ['7A', 'W06', Timestamp('2012-10-22 00:00:00')],\n",
       " ['7A', 'W06', Timestamp('2012-10-23 00:00:00')],\n",
       " ['7A', 'W06', Timestamp('2012-10-24 00:00:00')],\n",
       " ['7A', 'W06', Timestamp('2012-10-25 00:00:00')],\n",
       " ['7A', 'W06', Timestamp('2012-10-26 00:00:00')],\n",
       " ['7A', 'W06', Timestamp('2012-10-27 00:00:00')],\n",
       " ['7A', 'W06', Timestamp('2012-10-28 00:00:00')],\n",
       " ['7A', 'W06', Timestamp('2012-10-29 00:00:00')],\n",
       " ['7A', 'W06', Timestamp('2012-10-30 00:00:00')],\n",
       " ['7A', 'W06', Timestamp('2012-10-31 00:00:00')],\n",
       " ['7A', 'W07', Timestamp('2012-10-01 00:00:00')],\n",
       " ['7A', 'W07', Timestamp('2012-10-02 00:00:00')],\n",
       " ['7A', 'W07', Timestamp('2012-10-03 00:00:00')],\n",
       " ['7A', 'W07', Timestamp('2012-10-04 00:00:00')],\n",
       " ['7A', 'W07', Timestamp('2012-10-05 00:00:00')],\n",
       " ['7A', 'W07', Timestamp('2012-10-06 00:00:00')],\n",
       " ['7A', 'W07', Timestamp('2012-10-07 00:00:00')],\n",
       " ['7A', 'W07', Timestamp('2012-10-08 00:00:00')],\n",
       " ['7A', 'W07', Timestamp('2012-10-09 00:00:00')],\n",
       " ['7A', 'W07', Timestamp('2012-10-10 00:00:00')],\n",
       " ['7A', 'W07', Timestamp('2012-10-11 00:00:00')],\n",
       " ['7A', 'W07', Timestamp('2012-10-12 00:00:00')],\n",
       " ['7A', 'W07', Timestamp('2012-10-13 00:00:00')],\n",
       " ['7A', 'W07', Timestamp('2012-10-14 00:00:00')],\n",
       " ['7A', 'W07', Timestamp('2012-10-15 00:00:00')],\n",
       " ['7A', 'W07', Timestamp('2012-10-16 00:00:00')],\n",
       " ['7A', 'W07', Timestamp('2012-10-17 00:00:00')],\n",
       " ['7A', 'W07', Timestamp('2012-10-18 00:00:00')],\n",
       " ['7A', 'W07', Timestamp('2012-10-19 00:00:00')],\n",
       " ['7A', 'W07', Timestamp('2012-10-20 00:00:00')],\n",
       " ['7A', 'W07', Timestamp('2012-10-21 00:00:00')],\n",
       " ['7A', 'W07', Timestamp('2012-10-22 00:00:00')],\n",
       " ['7A', 'W07', Timestamp('2012-10-23 00:00:00')],\n",
       " ['7A', 'W07', Timestamp('2012-10-24 00:00:00')],\n",
       " ['7A', 'W07', Timestamp('2012-10-25 00:00:00')],\n",
       " ['7A', 'W07', Timestamp('2012-10-26 00:00:00')],\n",
       " ['7A', 'W07', Timestamp('2012-10-27 00:00:00')],\n",
       " ['7A', 'W07', Timestamp('2012-10-28 00:00:00')],\n",
       " ['7A', 'W07', Timestamp('2012-10-29 00:00:00')],\n",
       " ['7A', 'W07', Timestamp('2012-10-30 00:00:00')],\n",
       " ['7A', 'W07', Timestamp('2012-10-31 00:00:00')],\n",
       " ['7A', 'W08', Timestamp('2012-10-01 00:00:00')],\n",
       " ['7A', 'W08', Timestamp('2012-10-02 00:00:00')],\n",
       " ['7A', 'W08', Timestamp('2012-10-03 00:00:00')],\n",
       " ['7A', 'W08', Timestamp('2012-10-04 00:00:00')],\n",
       " ['7A', 'W08', Timestamp('2012-10-05 00:00:00')],\n",
       " ['7A', 'W08', Timestamp('2012-10-06 00:00:00')],\n",
       " ['7A', 'W08', Timestamp('2012-10-07 00:00:00')],\n",
       " ['7A', 'W08', Timestamp('2012-10-08 00:00:00')],\n",
       " ['7A', 'W08', Timestamp('2012-10-09 00:00:00')],\n",
       " ['7A', 'W08', Timestamp('2012-10-10 00:00:00')],\n",
       " ['7A', 'W08', Timestamp('2012-10-11 00:00:00')],\n",
       " ['7A', 'W08', Timestamp('2012-10-12 00:00:00')],\n",
       " ['7A', 'W08', Timestamp('2012-10-13 00:00:00')],\n",
       " ['7A', 'W08', Timestamp('2012-10-14 00:00:00')],\n",
       " ['7A', 'W08', Timestamp('2012-10-15 00:00:00')],\n",
       " ['7A', 'W08', Timestamp('2012-10-16 00:00:00')],\n",
       " ['7A', 'W08', Timestamp('2012-10-17 00:00:00')],\n",
       " ['7A', 'W08', Timestamp('2012-10-18 00:00:00')],\n",
       " ['7A', 'W08', Timestamp('2012-10-19 00:00:00')],\n",
       " ['7A', 'W08', Timestamp('2012-10-20 00:00:00')],\n",
       " ['7A', 'W08', Timestamp('2012-10-21 00:00:00')],\n",
       " ['7A', 'W08', Timestamp('2012-10-22 00:00:00')],\n",
       " ['7A', 'W08', Timestamp('2012-10-23 00:00:00')],\n",
       " ['7A', 'W08', Timestamp('2012-10-24 00:00:00')],\n",
       " ['7A', 'W08', Timestamp('2012-10-25 00:00:00')],\n",
       " ['7A', 'W08', Timestamp('2012-10-26 00:00:00')],\n",
       " ['7A', 'W08', Timestamp('2012-10-27 00:00:00')],\n",
       " ['7A', 'W08', Timestamp('2012-10-28 00:00:00')],\n",
       " ['7A', 'W08', Timestamp('2012-10-29 00:00:00')],\n",
       " ['7A', 'W08', Timestamp('2012-10-30 00:00:00')],\n",
       " ['7A', 'W08', Timestamp('2012-10-31 00:00:00')],\n",
       " ['7A', 'W09', Timestamp('2012-10-01 00:00:00')],\n",
       " ['7A', 'W09', Timestamp('2012-10-02 00:00:00')],\n",
       " ['7A', 'W09', Timestamp('2012-10-03 00:00:00')],\n",
       " ['7A', 'W09', Timestamp('2012-10-04 00:00:00')],\n",
       " ['7A', 'W09', Timestamp('2012-10-05 00:00:00')],\n",
       " ['7A', 'W09', Timestamp('2012-10-06 00:00:00')],\n",
       " ['7A', 'W09', Timestamp('2012-10-07 00:00:00')],\n",
       " ['7A', 'W09', Timestamp('2012-10-08 00:00:00')],\n",
       " ['7A', 'W09', Timestamp('2012-10-09 00:00:00')],\n",
       " ['7A', 'W09', Timestamp('2012-10-10 00:00:00')],\n",
       " ['7A', 'W09', Timestamp('2012-10-11 00:00:00')],\n",
       " ['7A', 'W09', Timestamp('2012-10-12 00:00:00')],\n",
       " ['7A', 'W09', Timestamp('2012-10-13 00:00:00')],\n",
       " ['7A', 'W09', Timestamp('2012-10-14 00:00:00')],\n",
       " ['7A', 'W09', Timestamp('2012-10-15 00:00:00')],\n",
       " ['7A', 'W09', Timestamp('2012-10-16 00:00:00')],\n",
       " ['7A', 'W09', Timestamp('2012-10-17 00:00:00')],\n",
       " ['7A', 'W09', Timestamp('2012-10-18 00:00:00')],\n",
       " ['7A', 'W09', Timestamp('2012-10-19 00:00:00')],\n",
       " ['7A', 'W09', Timestamp('2012-10-20 00:00:00')],\n",
       " ['7A', 'W09', Timestamp('2012-10-21 00:00:00')],\n",
       " ['7A', 'W09', Timestamp('2012-10-22 00:00:00')],\n",
       " ['7A', 'W09', Timestamp('2012-10-23 00:00:00')],\n",
       " ['7A', 'W09', Timestamp('2012-10-24 00:00:00')],\n",
       " ['7A', 'W09', Timestamp('2012-10-25 00:00:00')],\n",
       " ['7A', 'W09', Timestamp('2012-10-26 00:00:00')],\n",
       " ['7A', 'W09', Timestamp('2012-10-27 00:00:00')],\n",
       " ['7A', 'W09', Timestamp('2012-10-28 00:00:00')],\n",
       " ['7A', 'W09', Timestamp('2012-10-29 00:00:00')],\n",
       " ['7A', 'W09', Timestamp('2012-10-30 00:00:00')],\n",
       " ['7A', 'W09', Timestamp('2012-10-31 00:00:00')],\n",
       " ['7A', 'W10', Timestamp('2012-10-01 00:00:00')],\n",
       " ['7A', 'W10', Timestamp('2012-10-02 00:00:00')],\n",
       " ['7A', 'W10', Timestamp('2012-10-03 00:00:00')],\n",
       " ['7A', 'W10', Timestamp('2012-10-04 00:00:00')],\n",
       " ['7A', 'W10', Timestamp('2012-10-05 00:00:00')],\n",
       " ['7A', 'W10', Timestamp('2012-10-06 00:00:00')],\n",
       " ['7A', 'W10', Timestamp('2012-10-07 00:00:00')],\n",
       " ['7A', 'W10', Timestamp('2012-10-08 00:00:00')],\n",
       " ['7A', 'W10', Timestamp('2012-10-09 00:00:00')],\n",
       " ['7A', 'W10', Timestamp('2012-10-10 00:00:00')],\n",
       " ['7A', 'W10', Timestamp('2012-10-11 00:00:00')],\n",
       " ['7A', 'W10', Timestamp('2012-10-12 00:00:00')],\n",
       " ['7A', 'W10', Timestamp('2012-10-13 00:00:00')],\n",
       " ['7A', 'W10', Timestamp('2012-10-14 00:00:00')],\n",
       " ['7A', 'W10', Timestamp('2012-10-15 00:00:00')],\n",
       " ['7A', 'W10', Timestamp('2012-10-16 00:00:00')],\n",
       " ['7A', 'W10', Timestamp('2012-10-17 00:00:00')],\n",
       " ['7A', 'W10', Timestamp('2012-10-18 00:00:00')],\n",
       " ['7A', 'W10', Timestamp('2012-10-19 00:00:00')],\n",
       " ['7A', 'W10', Timestamp('2012-10-20 00:00:00')],\n",
       " ['7A', 'W10', Timestamp('2012-10-21 00:00:00')],\n",
       " ['7A', 'W10', Timestamp('2012-10-22 00:00:00')],\n",
       " ['7A', 'W10', Timestamp('2012-10-23 00:00:00')],\n",
       " ['7A', 'W10', Timestamp('2012-10-24 00:00:00')],\n",
       " ['7A', 'W10', Timestamp('2012-10-25 00:00:00')],\n",
       " ['7A', 'W10', Timestamp('2012-10-26 00:00:00')],\n",
       " ['7A', 'W10', Timestamp('2012-10-27 00:00:00')],\n",
       " ['7A', 'W10', Timestamp('2012-10-28 00:00:00')],\n",
       " ['7A', 'W10', Timestamp('2012-10-29 00:00:00')],\n",
       " ['7A', 'W10', Timestamp('2012-10-30 00:00:00')],\n",
       " ['7A', 'W10', Timestamp('2012-10-31 00:00:00')],\n",
       " ['7D', 'FC03D', Timestamp('2012-10-01 00:00:00')],\n",
       " ['7D', 'FC03D', Timestamp('2012-10-02 00:00:00')],\n",
       " ['7D', 'FC03D', Timestamp('2012-10-03 00:00:00')],\n",
       " ['7D', 'FC03D', Timestamp('2012-10-04 00:00:00')],\n",
       " ['7D', 'FC03D', Timestamp('2012-10-05 00:00:00')],\n",
       " ['7D', 'FC03D', Timestamp('2012-10-06 00:00:00')],\n",
       " ['7D', 'FC03D', Timestamp('2012-10-07 00:00:00')],\n",
       " ['7D', 'FC03D', Timestamp('2012-10-08 00:00:00')],\n",
       " ['7D', 'FC03D', Timestamp('2012-10-09 00:00:00')],\n",
       " ['7D', 'FC03D', Timestamp('2012-10-10 00:00:00')],\n",
       " ['7D', 'FC03D', Timestamp('2012-10-11 00:00:00')],\n",
       " ['7D', 'FC03D', Timestamp('2012-10-12 00:00:00')],\n",
       " ['7D', 'FC03D', Timestamp('2012-10-13 00:00:00')],\n",
       " ['7D', 'FC03D', Timestamp('2012-10-14 00:00:00')],\n",
       " ['7D', 'FC03D', Timestamp('2012-10-15 00:00:00')],\n",
       " ['7D', 'FC03D', Timestamp('2012-10-16 00:00:00')],\n",
       " ['7D', 'FC03D', Timestamp('2012-10-17 00:00:00')],\n",
       " ['7D', 'FC03D', Timestamp('2012-10-18 00:00:00')],\n",
       " ['7D', 'FC03D', Timestamp('2012-10-19 00:00:00')],\n",
       " ['7D', 'FC03D', Timestamp('2012-10-20 00:00:00')],\n",
       " ['7D', 'FC03D', Timestamp('2012-10-21 00:00:00')],\n",
       " ['7D', 'FC03D', Timestamp('2012-10-22 00:00:00')],\n",
       " ['7D', 'FC03D', Timestamp('2012-10-23 00:00:00')],\n",
       " ['7D', 'FC03D', Timestamp('2012-10-24 00:00:00')],\n",
       " ['7D', 'FC03D', Timestamp('2012-10-25 00:00:00')],\n",
       " ['7D', 'FC03D', Timestamp('2012-10-26 00:00:00')],\n",
       " ['7D', 'FC03D', Timestamp('2012-10-27 00:00:00')],\n",
       " ['7D', 'FC03D', Timestamp('2012-10-28 00:00:00')],\n",
       " ['7D', 'FC03D', Timestamp('2012-10-29 00:00:00')],\n",
       " ['7D', 'FC03D', Timestamp('2012-10-30 00:00:00')],\n",
       " ['7D', 'FC03D', Timestamp('2012-10-31 00:00:00')],\n",
       " ['7D', 'FN01A', Timestamp('2012-10-01 00:00:00')],\n",
       " ['7D', 'FN01A', Timestamp('2012-10-02 00:00:00')],\n",
       " ['7D', 'FN01A', Timestamp('2012-10-03 00:00:00')],\n",
       " ['7D', 'FN01A', Timestamp('2012-10-04 00:00:00')],\n",
       " ['7D', 'FN01A', Timestamp('2012-10-05 00:00:00')],\n",
       " ['7D', 'FN01A', Timestamp('2012-10-06 00:00:00')],\n",
       " ['7D', 'FN01A', Timestamp('2012-10-07 00:00:00')],\n",
       " ['7D', 'FN01A', Timestamp('2012-10-08 00:00:00')],\n",
       " ['7D', 'FN01A', Timestamp('2012-10-09 00:00:00')],\n",
       " ['7D', 'FN01A', Timestamp('2012-10-10 00:00:00')],\n",
       " ['7D', 'FN01A', Timestamp('2012-10-11 00:00:00')],\n",
       " ['7D', 'FN01A', Timestamp('2012-10-12 00:00:00')],\n",
       " ['7D', 'FN01A', Timestamp('2012-10-13 00:00:00')],\n",
       " ['7D', 'FN01A', Timestamp('2012-10-14 00:00:00')],\n",
       " ['7D', 'FN01A', Timestamp('2012-10-15 00:00:00')],\n",
       " ['7D', 'FN01A', Timestamp('2012-10-16 00:00:00')],\n",
       " ['7D', 'FN01A', Timestamp('2012-10-17 00:00:00')],\n",
       " ['7D', 'FN01A', Timestamp('2012-10-18 00:00:00')],\n",
       " ['7D', 'FN01A', Timestamp('2012-10-19 00:00:00')],\n",
       " ['7D', 'FN01A', Timestamp('2012-10-20 00:00:00')],\n",
       " ['7D', 'FN01A', Timestamp('2012-10-21 00:00:00')],\n",
       " ['7D', 'FN01A', Timestamp('2012-10-22 00:00:00')],\n",
       " ['7D', 'FN01A', Timestamp('2012-10-23 00:00:00')],\n",
       " ['7D', 'FN01A', Timestamp('2012-10-24 00:00:00')],\n",
       " ['7D', 'FN01A', Timestamp('2012-10-25 00:00:00')],\n",
       " ['7D', 'FN01A', Timestamp('2012-10-26 00:00:00')],\n",
       " ['7D', 'FN01A', Timestamp('2012-10-27 00:00:00')],\n",
       " ['7D', 'FN01A', Timestamp('2012-10-28 00:00:00')],\n",
       " ['7D', 'FN01A', Timestamp('2012-10-29 00:00:00')],\n",
       " ['7D', 'FN01A', Timestamp('2012-10-30 00:00:00')],\n",
       " ['7D', 'FN01A', Timestamp('2012-10-31 00:00:00')],\n",
       " ['7D', 'FN01C', Timestamp('2012-10-01 00:00:00')],\n",
       " ['7D', 'FN01C', Timestamp('2012-10-02 00:00:00')],\n",
       " ['7D', 'FN01C', Timestamp('2012-10-03 00:00:00')],\n",
       " ['7D', 'FN01C', Timestamp('2012-10-04 00:00:00')],\n",
       " ['7D', 'FN01C', Timestamp('2012-10-05 00:00:00')],\n",
       " ['7D', 'FN01C', Timestamp('2012-10-06 00:00:00')],\n",
       " ['7D', 'FN01C', Timestamp('2012-10-07 00:00:00')],\n",
       " ['7D', 'FN01C', Timestamp('2012-10-08 00:00:00')],\n",
       " ['7D', 'FN01C', Timestamp('2012-10-09 00:00:00')],\n",
       " ['7D', 'FN01C', Timestamp('2012-10-10 00:00:00')],\n",
       " ['7D', 'FN01C', Timestamp('2012-10-11 00:00:00')],\n",
       " ['7D', 'FN01C', Timestamp('2012-10-12 00:00:00')],\n",
       " ['7D', 'FN01C', Timestamp('2012-10-13 00:00:00')],\n",
       " ['7D', 'FN01C', Timestamp('2012-10-14 00:00:00')],\n",
       " ['7D', 'FN01C', Timestamp('2012-10-15 00:00:00')],\n",
       " ['7D', 'FN01C', Timestamp('2012-10-16 00:00:00')],\n",
       " ['7D', 'FN01C', Timestamp('2012-10-17 00:00:00')],\n",
       " ['7D', 'FN01C', Timestamp('2012-10-18 00:00:00')],\n",
       " ['7D', 'FN01C', Timestamp('2012-10-19 00:00:00')],\n",
       " ['7D', 'FN01C', Timestamp('2012-10-20 00:00:00')],\n",
       " ['7D', 'FN01C', Timestamp('2012-10-21 00:00:00')],\n",
       " ['7D', 'FN01C', Timestamp('2012-10-22 00:00:00')],\n",
       " ['7D', 'FN01C', Timestamp('2012-10-23 00:00:00')],\n",
       " ['7D', 'FN01C', Timestamp('2012-10-24 00:00:00')],\n",
       " ['7D', 'FN01C', Timestamp('2012-10-25 00:00:00')],\n",
       " ['7D', 'FN01C', Timestamp('2012-10-26 00:00:00')],\n",
       " ['7D', 'FN01C', Timestamp('2012-10-27 00:00:00')],\n",
       " ['7D', 'FN01C', Timestamp('2012-10-28 00:00:00')],\n",
       " ['7D', 'FN01C', Timestamp('2012-10-29 00:00:00')],\n",
       " ['7D', 'FN01C', Timestamp('2012-10-30 00:00:00')],\n",
       " ['7D', 'FN01C', Timestamp('2012-10-31 00:00:00')],\n",
       " ['7D', 'FN02C', Timestamp('2012-10-01 00:00:00')],\n",
       " ['7D', 'FN02C', Timestamp('2012-10-02 00:00:00')],\n",
       " ['7D', 'FN02C', Timestamp('2012-10-03 00:00:00')],\n",
       " ['7D', 'FN02C', Timestamp('2012-10-04 00:00:00')],\n",
       " ['7D', 'FN02C', Timestamp('2012-10-05 00:00:00')],\n",
       " ['7D', 'FN02C', Timestamp('2012-10-06 00:00:00')],\n",
       " ['7D', 'FN02C', Timestamp('2012-10-07 00:00:00')],\n",
       " ['7D', 'FN02C', Timestamp('2012-10-08 00:00:00')],\n",
       " ['7D', 'FN02C', Timestamp('2012-10-09 00:00:00')],\n",
       " ['7D', 'FN02C', Timestamp('2012-10-10 00:00:00')],\n",
       " ['7D', 'FN02C', Timestamp('2012-10-11 00:00:00')],\n",
       " ['7D', 'FN02C', Timestamp('2012-10-12 00:00:00')],\n",
       " ['7D', 'FN02C', Timestamp('2012-10-13 00:00:00')],\n",
       " ['7D', 'FN02C', Timestamp('2012-10-14 00:00:00')],\n",
       " ['7D', 'FN02C', Timestamp('2012-10-15 00:00:00')],\n",
       " ['7D', 'FN02C', Timestamp('2012-10-16 00:00:00')],\n",
       " ['7D', 'FN02C', Timestamp('2012-10-17 00:00:00')],\n",
       " ['7D', 'FN02C', Timestamp('2012-10-18 00:00:00')],\n",
       " ['7D', 'FN02C', Timestamp('2012-10-19 00:00:00')],\n",
       " ['7D', 'FN02C', Timestamp('2012-10-20 00:00:00')],\n",
       " ['7D', 'FN02C', Timestamp('2012-10-21 00:00:00')],\n",
       " ['7D', 'FN02C', Timestamp('2012-10-22 00:00:00')],\n",
       " ['7D', 'FN02C', Timestamp('2012-10-23 00:00:00')],\n",
       " ['7D', 'FN02C', Timestamp('2012-10-24 00:00:00')],\n",
       " ['7D', 'FN02C', Timestamp('2012-10-25 00:00:00')],\n",
       " ['7D', 'FN02C', Timestamp('2012-10-26 00:00:00')],\n",
       " ['7D', 'FN02C', Timestamp('2012-10-27 00:00:00')],\n",
       " ['7D', 'FN02C', Timestamp('2012-10-28 00:00:00')],\n",
       " ['7D', 'FN02C', Timestamp('2012-10-29 00:00:00')],\n",
       " ['7D', 'FN02C', Timestamp('2012-10-30 00:00:00')],\n",
       " ['7D', 'FN02C', Timestamp('2012-10-31 00:00:00')],\n",
       " ['7D', 'FN03A', Timestamp('2012-10-01 00:00:00')],\n",
       " ['7D', 'FN03A', Timestamp('2012-10-02 00:00:00')],\n",
       " ['7D', 'FN03A', Timestamp('2012-10-03 00:00:00')],\n",
       " ['7D', 'FN03A', Timestamp('2012-10-04 00:00:00')],\n",
       " ['7D', 'FN03A', Timestamp('2012-10-05 00:00:00')],\n",
       " ['7D', 'FN03A', Timestamp('2012-10-06 00:00:00')],\n",
       " ['7D', 'FN03A', Timestamp('2012-10-07 00:00:00')],\n",
       " ['7D', 'FN03A', Timestamp('2012-10-08 00:00:00')],\n",
       " ['7D', 'FN03A', Timestamp('2012-10-09 00:00:00')],\n",
       " ['7D', 'FN03A', Timestamp('2012-10-10 00:00:00')],\n",
       " ['7D', 'FN03A', Timestamp('2012-10-11 00:00:00')],\n",
       " ['7D', 'FN03A', Timestamp('2012-10-12 00:00:00')],\n",
       " ['7D', 'FN03A', Timestamp('2012-10-13 00:00:00')],\n",
       " ['7D', 'FN03A', Timestamp('2012-10-14 00:00:00')],\n",
       " ['7D', 'FN03A', Timestamp('2012-10-15 00:00:00')],\n",
       " ['7D', 'FN03A', Timestamp('2012-10-16 00:00:00')],\n",
       " ['7D', 'FN03A', Timestamp('2012-10-17 00:00:00')],\n",
       " ['7D', 'FN03A', Timestamp('2012-10-18 00:00:00')],\n",
       " ['7D', 'FN03A', Timestamp('2012-10-19 00:00:00')],\n",
       " ['7D', 'FN03A', Timestamp('2012-10-20 00:00:00')],\n",
       " ['7D', 'FN03A', Timestamp('2012-10-21 00:00:00')],\n",
       " ['7D', 'FN03A', Timestamp('2012-10-22 00:00:00')],\n",
       " ['7D', 'FN03A', Timestamp('2012-10-23 00:00:00')],\n",
       " ['7D', 'FN03A', Timestamp('2012-10-24 00:00:00')],\n",
       " ['7D', 'FN03A', Timestamp('2012-10-25 00:00:00')],\n",
       " ['7D', 'FN03A', Timestamp('2012-10-26 00:00:00')],\n",
       " ['7D', 'FN03A', Timestamp('2012-10-27 00:00:00')],\n",
       " ['7D', 'FN03A', Timestamp('2012-10-28 00:00:00')],\n",
       " ['7D', 'FN03A', Timestamp('2012-10-29 00:00:00')],\n",
       " ['7D', 'FN03A', Timestamp('2012-10-30 00:00:00')],\n",
       " ['7D', 'FN03A', Timestamp('2012-10-31 00:00:00')],\n",
       " ['7D', 'FN03C', Timestamp('2012-10-01 00:00:00')],\n",
       " ['7D', 'FN03C', Timestamp('2012-10-02 00:00:00')],\n",
       " ['7D', 'FN03C', Timestamp('2012-10-03 00:00:00')],\n",
       " ['7D', 'FN03C', Timestamp('2012-10-04 00:00:00')],\n",
       " ['7D', 'FN03C', Timestamp('2012-10-05 00:00:00')],\n",
       " ['7D', 'FN03C', Timestamp('2012-10-06 00:00:00')],\n",
       " ['7D', 'FN03C', Timestamp('2012-10-07 00:00:00')],\n",
       " ['7D', 'FN03C', Timestamp('2012-10-08 00:00:00')],\n",
       " ['7D', 'FN03C', Timestamp('2012-10-09 00:00:00')],\n",
       " ['7D', 'FN03C', Timestamp('2012-10-10 00:00:00')],\n",
       " ['7D', 'FN03C', Timestamp('2012-10-11 00:00:00')],\n",
       " ['7D', 'FN03C', Timestamp('2012-10-12 00:00:00')],\n",
       " ['7D', 'FN03C', Timestamp('2012-10-13 00:00:00')],\n",
       " ['7D', 'FN03C', Timestamp('2012-10-14 00:00:00')],\n",
       " ['7D', 'FN03C', Timestamp('2012-10-15 00:00:00')],\n",
       " ['7D', 'FN03C', Timestamp('2012-10-16 00:00:00')],\n",
       " ['7D', 'FN03C', Timestamp('2012-10-17 00:00:00')],\n",
       " ['7D', 'FN03C', Timestamp('2012-10-18 00:00:00')],\n",
       " ['7D', 'FN03C', Timestamp('2012-10-19 00:00:00')],\n",
       " ['7D', 'FN03C', Timestamp('2012-10-20 00:00:00')],\n",
       " ['7D', 'FN03C', Timestamp('2012-10-21 00:00:00')],\n",
       " ['7D', 'FN03C', Timestamp('2012-10-22 00:00:00')],\n",
       " ['7D', 'FN03C', Timestamp('2012-10-23 00:00:00')],\n",
       " ['7D', 'FN03C', Timestamp('2012-10-24 00:00:00')],\n",
       " ['7D', 'FN03C', Timestamp('2012-10-25 00:00:00')],\n",
       " ['7D', 'FN03C', Timestamp('2012-10-26 00:00:00')],\n",
       " ['7D', 'FN03C', Timestamp('2012-10-27 00:00:00')],\n",
       " ['7D', 'FN03C', Timestamp('2012-10-28 00:00:00')],\n",
       " ['7D', 'FN03C', Timestamp('2012-10-29 00:00:00')],\n",
       " ['7D', 'FN03C', Timestamp('2012-10-30 00:00:00')],\n",
       " ['7D', 'FN03C', Timestamp('2012-10-31 00:00:00')],\n",
       " ['7D', 'FN04C', Timestamp('2012-10-01 00:00:00')],\n",
       " ['7D', 'FN04C', Timestamp('2012-10-02 00:00:00')],\n",
       " ['7D', 'FN04C', Timestamp('2012-10-03 00:00:00')],\n",
       " ['7D', 'FN04C', Timestamp('2012-10-04 00:00:00')],\n",
       " ['7D', 'FN04C', Timestamp('2012-10-05 00:00:00')],\n",
       " ['7D', 'FN04C', Timestamp('2012-10-06 00:00:00')],\n",
       " ['7D', 'FN04C', Timestamp('2012-10-07 00:00:00')],\n",
       " ['7D', 'FN04C', Timestamp('2012-10-08 00:00:00')],\n",
       " ['7D', 'FN04C', Timestamp('2012-10-09 00:00:00')],\n",
       " ['7D', 'FN04C', Timestamp('2012-10-10 00:00:00')],\n",
       " ['7D', 'FN04C', Timestamp('2012-10-11 00:00:00')],\n",
       " ['7D', 'FN04C', Timestamp('2012-10-12 00:00:00')],\n",
       " ['7D', 'FN04C', Timestamp('2012-10-13 00:00:00')],\n",
       " ['7D', 'FN04C', Timestamp('2012-10-14 00:00:00')],\n",
       " ['7D', 'FN04C', Timestamp('2012-10-15 00:00:00')],\n",
       " ['7D', 'FN04C', Timestamp('2012-10-16 00:00:00')],\n",
       " ['7D', 'FN04C', Timestamp('2012-10-17 00:00:00')],\n",
       " ['7D', 'FN04C', Timestamp('2012-10-18 00:00:00')],\n",
       " ['7D', 'FN04C', Timestamp('2012-10-19 00:00:00')],\n",
       " ['7D', 'FN04C', Timestamp('2012-10-20 00:00:00')],\n",
       " ['7D', 'FN04C', Timestamp('2012-10-21 00:00:00')],\n",
       " ['7D', 'FN04C', Timestamp('2012-10-22 00:00:00')],\n",
       " ['7D', 'FN04C', Timestamp('2012-10-23 00:00:00')],\n",
       " ['7D', 'FN04C', Timestamp('2012-10-24 00:00:00')],\n",
       " ['7D', 'FN04C', Timestamp('2012-10-25 00:00:00')],\n",
       " ['7D', 'FN04C', Timestamp('2012-10-26 00:00:00')],\n",
       " ['7D', 'FN04C', Timestamp('2012-10-27 00:00:00')],\n",
       " ['7D', 'FN04C', Timestamp('2012-10-28 00:00:00')],\n",
       " ['7D', 'FN04C', Timestamp('2012-10-29 00:00:00')],\n",
       " ['7D', 'FN04C', Timestamp('2012-10-30 00:00:00')],\n",
       " ['7D', 'FN04C', Timestamp('2012-10-31 00:00:00')],\n",
       " ['7D', 'FN05A', Timestamp('2012-10-01 00:00:00')],\n",
       " ['7D', 'FN05A', Timestamp('2012-10-02 00:00:00')],\n",
       " ['7D', 'FN05A', Timestamp('2012-10-03 00:00:00')],\n",
       " ['7D', 'FN05A', Timestamp('2012-10-04 00:00:00')],\n",
       " ['7D', 'FN05A', Timestamp('2012-10-05 00:00:00')],\n",
       " ['7D', 'FN05A', Timestamp('2012-10-06 00:00:00')],\n",
       " ['7D', 'FN05A', Timestamp('2012-10-07 00:00:00')],\n",
       " ['7D', 'FN05A', Timestamp('2012-10-08 00:00:00')],\n",
       " ['7D', 'FN05A', Timestamp('2012-10-09 00:00:00')],\n",
       " ['7D', 'FN05A', Timestamp('2012-10-10 00:00:00')],\n",
       " ['7D', 'FN05A', Timestamp('2012-10-11 00:00:00')],\n",
       " ['7D', 'FN05A', Timestamp('2012-10-12 00:00:00')],\n",
       " ['7D', 'FN05A', Timestamp('2012-10-13 00:00:00')],\n",
       " ['7D', 'FN05A', Timestamp('2012-10-14 00:00:00')],\n",
       " ['7D', 'FN05A', Timestamp('2012-10-15 00:00:00')],\n",
       " ['7D', 'FN05A', Timestamp('2012-10-16 00:00:00')],\n",
       " ['7D', 'FN05A', Timestamp('2012-10-17 00:00:00')],\n",
       " ['7D', 'FN05A', Timestamp('2012-10-18 00:00:00')],\n",
       " ['7D', 'FN05A', Timestamp('2012-10-19 00:00:00')],\n",
       " ['7D', 'FN05A', Timestamp('2012-10-20 00:00:00')],\n",
       " ['7D', 'FN05A', Timestamp('2012-10-21 00:00:00')],\n",
       " ['7D', 'FN05A', Timestamp('2012-10-22 00:00:00')],\n",
       " ['7D', 'FN05A', Timestamp('2012-10-23 00:00:00')],\n",
       " ['7D', 'FN05A', Timestamp('2012-10-24 00:00:00')],\n",
       " ['7D', 'FN05A', Timestamp('2012-10-25 00:00:00')],\n",
       " ['7D', 'FN05A', Timestamp('2012-10-26 00:00:00')],\n",
       " ['7D', 'FN05A', Timestamp('2012-10-27 00:00:00')],\n",
       " ['7D', 'FN05A', Timestamp('2012-10-28 00:00:00')],\n",
       " ['7D', 'FN05A', Timestamp('2012-10-29 00:00:00')],\n",
       " ['7D', 'FN05A', Timestamp('2012-10-30 00:00:00')],\n",
       " ['7D', 'FN05A', Timestamp('2012-10-31 00:00:00')],\n",
       " ['7D', 'FN05C', Timestamp('2012-10-01 00:00:00')],\n",
       " ['7D', 'FN05C', Timestamp('2012-10-02 00:00:00')],\n",
       " ['7D', 'FN05C', Timestamp('2012-10-03 00:00:00')],\n",
       " ['7D', 'FN05C', Timestamp('2012-10-04 00:00:00')],\n",
       " ['7D', 'FN05C', Timestamp('2012-10-05 00:00:00')],\n",
       " ['7D', 'FN05C', Timestamp('2012-10-06 00:00:00')],\n",
       " ['7D', 'FN05C', Timestamp('2012-10-07 00:00:00')],\n",
       " ['7D', 'FN05C', Timestamp('2012-10-08 00:00:00')],\n",
       " ['7D', 'FN05C', Timestamp('2012-10-09 00:00:00')],\n",
       " ['7D', 'FN05C', Timestamp('2012-10-10 00:00:00')],\n",
       " ['7D', 'FN05C', Timestamp('2012-10-11 00:00:00')],\n",
       " ['7D', 'FN05C', Timestamp('2012-10-12 00:00:00')],\n",
       " ['7D', 'FN05C', Timestamp('2012-10-13 00:00:00')],\n",
       " ['7D', 'FN05C', Timestamp('2012-10-14 00:00:00')],\n",
       " ['7D', 'FN05C', Timestamp('2012-10-15 00:00:00')],\n",
       " ['7D', 'FN05C', Timestamp('2012-10-16 00:00:00')],\n",
       " ['7D', 'FN05C', Timestamp('2012-10-17 00:00:00')],\n",
       " ['7D', 'FN05C', Timestamp('2012-10-18 00:00:00')],\n",
       " ['7D', 'FN05C', Timestamp('2012-10-19 00:00:00')],\n",
       " ['7D', 'FN05C', Timestamp('2012-10-20 00:00:00')],\n",
       " ['7D', 'FN05C', Timestamp('2012-10-21 00:00:00')],\n",
       " ['7D', 'FN05C', Timestamp('2012-10-22 00:00:00')],\n",
       " ['7D', 'FN05C', Timestamp('2012-10-23 00:00:00')],\n",
       " ['7D', 'FN05C', Timestamp('2012-10-24 00:00:00')],\n",
       " ['7D', 'FN05C', Timestamp('2012-10-25 00:00:00')],\n",
       " ['7D', 'FN05C', Timestamp('2012-10-26 00:00:00')],\n",
       " ['7D', 'FN05C', Timestamp('2012-10-27 00:00:00')],\n",
       " ['7D', 'FN05C', Timestamp('2012-10-28 00:00:00')],\n",
       " ['7D', 'FN05C', Timestamp('2012-10-29 00:00:00')],\n",
       " ['7D', 'FN05C', Timestamp('2012-10-30 00:00:00')],\n",
       " ['7D', 'FN05C', Timestamp('2012-10-31 00:00:00')],\n",
       " ['7D', 'FN06A', Timestamp('2012-10-01 00:00:00')],\n",
       " ['7D', 'FN06A', Timestamp('2012-10-02 00:00:00')],\n",
       " ['7D', 'FN06A', Timestamp('2012-10-03 00:00:00')],\n",
       " ['7D', 'FN06A', Timestamp('2012-10-04 00:00:00')],\n",
       " ['7D', 'FN06A', Timestamp('2012-10-05 00:00:00')],\n",
       " ['7D', 'FN06A', Timestamp('2012-10-06 00:00:00')],\n",
       " ['7D', 'FN06A', Timestamp('2012-10-07 00:00:00')],\n",
       " ['7D', 'FN06A', Timestamp('2012-10-08 00:00:00')],\n",
       " ['7D', 'FN06A', Timestamp('2012-10-09 00:00:00')],\n",
       " ['7D', 'FN06A', Timestamp('2012-10-10 00:00:00')],\n",
       " ['7D', 'FN06A', Timestamp('2012-10-11 00:00:00')],\n",
       " ['7D', 'FN06A', Timestamp('2012-10-12 00:00:00')],\n",
       " ['7D', 'FN06A', Timestamp('2012-10-13 00:00:00')],\n",
       " ['7D', 'FN06A', Timestamp('2012-10-14 00:00:00')],\n",
       " ['7D', 'FN06A', Timestamp('2012-10-15 00:00:00')],\n",
       " ['7D', 'FN06A', Timestamp('2012-10-16 00:00:00')],\n",
       " ['7D', 'FN06A', Timestamp('2012-10-17 00:00:00')],\n",
       " ['7D', 'FN06A', Timestamp('2012-10-18 00:00:00')],\n",
       " ['7D', 'FN06A', Timestamp('2012-10-19 00:00:00')],\n",
       " ['7D', 'FN06A', Timestamp('2012-10-20 00:00:00')],\n",
       " ['7D', 'FN06A', Timestamp('2012-10-21 00:00:00')],\n",
       " ['7D', 'FN06A', Timestamp('2012-10-22 00:00:00')],\n",
       " ['7D', 'FN06A', Timestamp('2012-10-23 00:00:00')],\n",
       " ['7D', 'FN06A', Timestamp('2012-10-24 00:00:00')],\n",
       " ['7D', 'FN06A', Timestamp('2012-10-25 00:00:00')],\n",
       " ['7D', 'FN06A', Timestamp('2012-10-26 00:00:00')],\n",
       " ['7D', 'FN06A', Timestamp('2012-10-27 00:00:00')],\n",
       " ['7D', 'FN06A', Timestamp('2012-10-28 00:00:00')],\n",
       " ['7D', 'FN06A', Timestamp('2012-10-29 00:00:00')],\n",
       " ['7D', 'FN06A', Timestamp('2012-10-30 00:00:00')],\n",
       " ['7D', 'FN06A', Timestamp('2012-10-31 00:00:00')],\n",
       " ['7D', 'FN06C', Timestamp('2012-10-01 00:00:00')],\n",
       " ['7D', 'FN06C', Timestamp('2012-10-02 00:00:00')],\n",
       " ['7D', 'FN06C', Timestamp('2012-10-03 00:00:00')],\n",
       " ['7D', 'FN06C', Timestamp('2012-10-04 00:00:00')],\n",
       " ['7D', 'FN06C', Timestamp('2012-10-05 00:00:00')],\n",
       " ['7D', 'FN06C', Timestamp('2012-10-06 00:00:00')],\n",
       " ['7D', 'FN06C', Timestamp('2012-10-07 00:00:00')],\n",
       " ['7D', 'FN06C', Timestamp('2012-10-08 00:00:00')],\n",
       " ['7D', 'FN06C', Timestamp('2012-10-09 00:00:00')],\n",
       " ['7D', 'FN06C', Timestamp('2012-10-10 00:00:00')],\n",
       " ['7D', 'FN06C', Timestamp('2012-10-11 00:00:00')],\n",
       " ['7D', 'FN06C', Timestamp('2012-10-12 00:00:00')],\n",
       " ['7D', 'FN06C', Timestamp('2012-10-13 00:00:00')],\n",
       " ['7D', 'FN06C', Timestamp('2012-10-14 00:00:00')],\n",
       " ['7D', 'FN06C', Timestamp('2012-10-15 00:00:00')],\n",
       " ['7D', 'FN06C', Timestamp('2012-10-16 00:00:00')],\n",
       " ['7D', 'FN06C', Timestamp('2012-10-17 00:00:00')],\n",
       " ['7D', 'FN06C', Timestamp('2012-10-18 00:00:00')],\n",
       " ['7D', 'FN06C', Timestamp('2012-10-19 00:00:00')],\n",
       " ['7D', 'FN06C', Timestamp('2012-10-20 00:00:00')],\n",
       " ['7D', 'FN06C', Timestamp('2012-10-21 00:00:00')],\n",
       " ['7D', 'FN06C', Timestamp('2012-10-22 00:00:00')],\n",
       " ['7D', 'FN06C', Timestamp('2012-10-23 00:00:00')],\n",
       " ['7D', 'FN06C', Timestamp('2012-10-24 00:00:00')],\n",
       " ['7D', 'FN06C', Timestamp('2012-10-25 00:00:00')],\n",
       " ['7D', 'FN06C', Timestamp('2012-10-26 00:00:00')],\n",
       " ['7D', 'FN06C', Timestamp('2012-10-27 00:00:00')],\n",
       " ['7D', 'FN06C', Timestamp('2012-10-28 00:00:00')],\n",
       " ['7D', 'FN06C', Timestamp('2012-10-29 00:00:00')],\n",
       " ['7D', 'FN06C', Timestamp('2012-10-30 00:00:00')],\n",
       " ['7D', 'FN06C', Timestamp('2012-10-31 00:00:00')],\n",
       " ['7D', 'FN07A', Timestamp('2012-10-01 00:00:00')],\n",
       " ['7D', 'FN07A', Timestamp('2012-10-02 00:00:00')],\n",
       " ['7D', 'FN07A', Timestamp('2012-10-03 00:00:00')],\n",
       " ['7D', 'FN07A', Timestamp('2012-10-04 00:00:00')],\n",
       " ['7D', 'FN07A', Timestamp('2012-10-05 00:00:00')],\n",
       " ['7D', 'FN07A', Timestamp('2012-10-06 00:00:00')],\n",
       " ['7D', 'FN07A', Timestamp('2012-10-07 00:00:00')],\n",
       " ['7D', 'FN07A', Timestamp('2012-10-08 00:00:00')],\n",
       " ['7D', 'FN07A', Timestamp('2012-10-09 00:00:00')],\n",
       " ['7D', 'FN07A', Timestamp('2012-10-10 00:00:00')],\n",
       " ['7D', 'FN07A', Timestamp('2012-10-11 00:00:00')],\n",
       " ['7D', 'FN07A', Timestamp('2012-10-12 00:00:00')],\n",
       " ['7D', 'FN07A', Timestamp('2012-10-13 00:00:00')],\n",
       " ['7D', 'FN07A', Timestamp('2012-10-14 00:00:00')],\n",
       " ['7D', 'FN07A', Timestamp('2012-10-15 00:00:00')],\n",
       " ['7D', 'FN07A', Timestamp('2012-10-16 00:00:00')],\n",
       " ['7D', 'FN07A', Timestamp('2012-10-17 00:00:00')],\n",
       " ['7D', 'FN07A', Timestamp('2012-10-18 00:00:00')],\n",
       " ['7D', 'FN07A', Timestamp('2012-10-19 00:00:00')],\n",
       " ['7D', 'FN07A', Timestamp('2012-10-20 00:00:00')],\n",
       " ['7D', 'FN07A', Timestamp('2012-10-21 00:00:00')],\n",
       " ['7D', 'FN07A', Timestamp('2012-10-22 00:00:00')],\n",
       " ['7D', 'FN07A', Timestamp('2012-10-23 00:00:00')],\n",
       " ['7D', 'FN07A', Timestamp('2012-10-24 00:00:00')],\n",
       " ['7D', 'FN07A', Timestamp('2012-10-25 00:00:00')],\n",
       " ['7D', 'FN07A', Timestamp('2012-10-26 00:00:00')],\n",
       " ['7D', 'FN07A', Timestamp('2012-10-27 00:00:00')],\n",
       " ['7D', 'FN07A', Timestamp('2012-10-28 00:00:00')],\n",
       " ['7D', 'FN07A', Timestamp('2012-10-29 00:00:00')],\n",
       " ['7D', 'FN07A', Timestamp('2012-10-30 00:00:00')],\n",
       " ['7D', 'FN07A', Timestamp('2012-10-31 00:00:00')],\n",
       " ['7D', 'FN07C', Timestamp('2012-10-01 00:00:00')],\n",
       " ['7D', 'FN07C', Timestamp('2012-10-02 00:00:00')],\n",
       " ['7D', 'FN07C', Timestamp('2012-10-03 00:00:00')],\n",
       " ['7D', 'FN07C', Timestamp('2012-10-04 00:00:00')],\n",
       " ['7D', 'FN07C', Timestamp('2012-10-05 00:00:00')],\n",
       " ['7D', 'FN07C', Timestamp('2012-10-06 00:00:00')],\n",
       " ['7D', 'FN07C', Timestamp('2012-10-07 00:00:00')],\n",
       " ['7D', 'FN07C', Timestamp('2012-10-08 00:00:00')],\n",
       " ['7D', 'FN07C', Timestamp('2012-10-09 00:00:00')],\n",
       " ['7D', 'FN07C', Timestamp('2012-10-10 00:00:00')],\n",
       " ['7D', 'FN07C', Timestamp('2012-10-11 00:00:00')],\n",
       " ['7D', 'FN07C', Timestamp('2012-10-12 00:00:00')],\n",
       " ['7D', 'FN07C', Timestamp('2012-10-13 00:00:00')],\n",
       " ['7D', 'FN07C', Timestamp('2012-10-14 00:00:00')],\n",
       " ['7D', 'FN07C', Timestamp('2012-10-15 00:00:00')],\n",
       " ['7D', 'FN07C', Timestamp('2012-10-16 00:00:00')],\n",
       " ['7D', 'FN07C', Timestamp('2012-10-17 00:00:00')],\n",
       " ['7D', 'FN07C', Timestamp('2012-10-18 00:00:00')],\n",
       " ['7D', 'FN07C', Timestamp('2012-10-19 00:00:00')],\n",
       " ['7D', 'FN07C', Timestamp('2012-10-20 00:00:00')],\n",
       " ['7D', 'FN07C', Timestamp('2012-10-21 00:00:00')],\n",
       " ['7D', 'FN07C', Timestamp('2012-10-22 00:00:00')],\n",
       " ['7D', 'FN07C', Timestamp('2012-10-23 00:00:00')],\n",
       " ['7D', 'FN07C', Timestamp('2012-10-24 00:00:00')],\n",
       " ['7D', 'FN07C', Timestamp('2012-10-25 00:00:00')],\n",
       " ['7D', 'FN07C', Timestamp('2012-10-26 00:00:00')],\n",
       " ['7D', 'FN07C', Timestamp('2012-10-27 00:00:00')],\n",
       " ['7D', 'FN07C', Timestamp('2012-10-28 00:00:00')],\n",
       " ['7D', 'FN07C', Timestamp('2012-10-29 00:00:00')],\n",
       " ['7D', 'FN07C', Timestamp('2012-10-30 00:00:00')],\n",
       " ['7D', 'FN07C', Timestamp('2012-10-31 00:00:00')],\n",
       " ['7D', 'FN08A', Timestamp('2012-10-01 00:00:00')],\n",
       " ['7D', 'FN08A', Timestamp('2012-10-02 00:00:00')],\n",
       " ['7D', 'FN08A', Timestamp('2012-10-03 00:00:00')],\n",
       " ['7D', 'FN08A', Timestamp('2012-10-04 00:00:00')],\n",
       " ['7D', 'FN08A', Timestamp('2012-10-05 00:00:00')],\n",
       " ['7D', 'FN08A', Timestamp('2012-10-06 00:00:00')],\n",
       " ['7D', 'FN08A', Timestamp('2012-10-07 00:00:00')],\n",
       " ['7D', 'FN08A', Timestamp('2012-10-08 00:00:00')],\n",
       " ['7D', 'FN08A', Timestamp('2012-10-09 00:00:00')],\n",
       " ['7D', 'FN08A', Timestamp('2012-10-10 00:00:00')],\n",
       " ['7D', 'FN08A', Timestamp('2012-10-11 00:00:00')],\n",
       " ['7D', 'FN08A', Timestamp('2012-10-12 00:00:00')],\n",
       " ['7D', 'FN08A', Timestamp('2012-10-13 00:00:00')],\n",
       " ['7D', 'FN08A', Timestamp('2012-10-14 00:00:00')],\n",
       " ['7D', 'FN08A', Timestamp('2012-10-15 00:00:00')],\n",
       " ['7D', 'FN08A', Timestamp('2012-10-16 00:00:00')],\n",
       " ['7D', 'FN08A', Timestamp('2012-10-17 00:00:00')],\n",
       " ['7D', 'FN08A', Timestamp('2012-10-18 00:00:00')],\n",
       " ['7D', 'FN08A', Timestamp('2012-10-19 00:00:00')],\n",
       " ['7D', 'FN08A', Timestamp('2012-10-20 00:00:00')],\n",
       " ['7D', 'FN08A', Timestamp('2012-10-21 00:00:00')],\n",
       " ['7D', 'FN08A', Timestamp('2012-10-22 00:00:00')],\n",
       " ['7D', 'FN08A', Timestamp('2012-10-23 00:00:00')],\n",
       " ['7D', 'FN08A', Timestamp('2012-10-24 00:00:00')],\n",
       " ['7D', 'FN08A', Timestamp('2012-10-25 00:00:00')],\n",
       " ['7D', 'FN08A', Timestamp('2012-10-26 00:00:00')],\n",
       " ['7D', 'FN08A', Timestamp('2012-10-27 00:00:00')],\n",
       " ['7D', 'FN08A', Timestamp('2012-10-28 00:00:00')],\n",
       " ['7D', 'FN08A', Timestamp('2012-10-29 00:00:00')],\n",
       " ['7D', 'FN08A', Timestamp('2012-10-30 00:00:00')],\n",
       " ['7D', 'FN08A', Timestamp('2012-10-31 00:00:00')],\n",
       " ['7D', 'FN08C', Timestamp('2012-10-01 00:00:00')],\n",
       " ['7D', 'FN08C', Timestamp('2012-10-02 00:00:00')],\n",
       " ['7D', 'FN08C', Timestamp('2012-10-03 00:00:00')],\n",
       " ['7D', 'FN08C', Timestamp('2012-10-04 00:00:00')],\n",
       " ['7D', 'FN08C', Timestamp('2012-10-05 00:00:00')],\n",
       " ['7D', 'FN08C', Timestamp('2012-10-06 00:00:00')],\n",
       " ['7D', 'FN08C', Timestamp('2012-10-07 00:00:00')],\n",
       " ['7D', 'FN08C', Timestamp('2012-10-08 00:00:00')],\n",
       " ['7D', 'FN08C', Timestamp('2012-10-09 00:00:00')],\n",
       " ['7D', 'FN08C', Timestamp('2012-10-10 00:00:00')],\n",
       " ['7D', 'FN08C', Timestamp('2012-10-11 00:00:00')],\n",
       " ['7D', 'FN08C', Timestamp('2012-10-12 00:00:00')],\n",
       " ['7D', 'FN08C', Timestamp('2012-10-13 00:00:00')],\n",
       " ['7D', 'FN08C', Timestamp('2012-10-14 00:00:00')],\n",
       " ['7D', 'FN08C', Timestamp('2012-10-15 00:00:00')],\n",
       " ['7D', 'FN08C', Timestamp('2012-10-16 00:00:00')],\n",
       " ['7D', 'FN08C', Timestamp('2012-10-17 00:00:00')],\n",
       " ['7D', 'FN08C', Timestamp('2012-10-18 00:00:00')],\n",
       " ['7D', 'FN08C', Timestamp('2012-10-19 00:00:00')],\n",
       " ['7D', 'FN08C', Timestamp('2012-10-20 00:00:00')],\n",
       " ['7D', 'FN08C', Timestamp('2012-10-21 00:00:00')],\n",
       " ['7D', 'FN08C', Timestamp('2012-10-22 00:00:00')],\n",
       " ['7D', 'FN08C', Timestamp('2012-10-23 00:00:00')],\n",
       " ['7D', 'FN08C', Timestamp('2012-10-24 00:00:00')],\n",
       " ['7D', 'FN08C', Timestamp('2012-10-25 00:00:00')],\n",
       " ['7D', 'FN08C', Timestamp('2012-10-26 00:00:00')],\n",
       " ['7D', 'FN08C', Timestamp('2012-10-27 00:00:00')],\n",
       " ['7D', 'FN08C', Timestamp('2012-10-28 00:00:00')],\n",
       " ['7D', 'FN08C', Timestamp('2012-10-29 00:00:00')],\n",
       " ['7D', 'FN08C', Timestamp('2012-10-30 00:00:00')],\n",
       " ['7D', 'FN08C', Timestamp('2012-10-31 00:00:00')],\n",
       " ['7D', 'FN09A', Timestamp('2012-10-01 00:00:00')],\n",
       " ['7D', 'FN09A', Timestamp('2012-10-02 00:00:00')],\n",
       " ['7D', 'FN09A', Timestamp('2012-10-03 00:00:00')],\n",
       " ['7D', 'FN09A', Timestamp('2012-10-04 00:00:00')],\n",
       " ['7D', 'FN09A', Timestamp('2012-10-05 00:00:00')],\n",
       " ['7D', 'FN09A', Timestamp('2012-10-06 00:00:00')],\n",
       " ['7D', 'FN09A', Timestamp('2012-10-07 00:00:00')],\n",
       " ['7D', 'FN09A', Timestamp('2012-10-08 00:00:00')],\n",
       " ['7D', 'FN09A', Timestamp('2012-10-09 00:00:00')],\n",
       " ['7D', 'FN09A', Timestamp('2012-10-10 00:00:00')],\n",
       " ['7D', 'FN09A', Timestamp('2012-10-11 00:00:00')],\n",
       " ['7D', 'FN09A', Timestamp('2012-10-12 00:00:00')],\n",
       " ['7D', 'FN09A', Timestamp('2012-10-13 00:00:00')],\n",
       " ['7D', 'FN09A', Timestamp('2012-10-14 00:00:00')],\n",
       " ['7D', 'FN09A', Timestamp('2012-10-15 00:00:00')],\n",
       " ['7D', 'FN09A', Timestamp('2012-10-16 00:00:00')],\n",
       " ['7D', 'FN09A', Timestamp('2012-10-17 00:00:00')],\n",
       " ['7D', 'FN09A', Timestamp('2012-10-18 00:00:00')],\n",
       " ['7D', 'FN09A', Timestamp('2012-10-19 00:00:00')],\n",
       " ['7D', 'FN09A', Timestamp('2012-10-20 00:00:00')],\n",
       " ['7D', 'FN09A', Timestamp('2012-10-21 00:00:00')],\n",
       " ['7D', 'FN09A', Timestamp('2012-10-22 00:00:00')],\n",
       " ['7D', 'FN09A', Timestamp('2012-10-23 00:00:00')],\n",
       " ['7D', 'FN09A', Timestamp('2012-10-24 00:00:00')],\n",
       " ['7D', 'FN09A', Timestamp('2012-10-25 00:00:00')],\n",
       " ['7D', 'FN09A', Timestamp('2012-10-26 00:00:00')],\n",
       " ['7D', 'FN09A', Timestamp('2012-10-27 00:00:00')],\n",
       " ['7D', 'FN09A', Timestamp('2012-10-28 00:00:00')],\n",
       " ['7D', 'FN09A', Timestamp('2012-10-29 00:00:00')],\n",
       " ['7D', 'FN09A', Timestamp('2012-10-30 00:00:00')],\n",
       " ['7D', 'FN09A', Timestamp('2012-10-31 00:00:00')],\n",
       " ['7D', 'FN09C', Timestamp('2012-10-01 00:00:00')],\n",
       " ['7D', 'FN09C', Timestamp('2012-10-02 00:00:00')],\n",
       " ['7D', 'FN09C', Timestamp('2012-10-03 00:00:00')],\n",
       " ['7D', 'FN09C', Timestamp('2012-10-04 00:00:00')],\n",
       " ['7D', 'FN09C', Timestamp('2012-10-05 00:00:00')],\n",
       " ['7D', 'FN09C', Timestamp('2012-10-06 00:00:00')],\n",
       " ['7D', 'FN09C', Timestamp('2012-10-07 00:00:00')],\n",
       " ['7D', 'FN09C', Timestamp('2012-10-08 00:00:00')],\n",
       " ['7D', 'FN09C', Timestamp('2012-10-09 00:00:00')],\n",
       " ['7D', 'FN09C', Timestamp('2012-10-10 00:00:00')],\n",
       " ['7D', 'FN09C', Timestamp('2012-10-11 00:00:00')],\n",
       " ['7D', 'FN09C', Timestamp('2012-10-12 00:00:00')],\n",
       " ['7D', 'FN09C', Timestamp('2012-10-13 00:00:00')],\n",
       " ['7D', 'FN09C', Timestamp('2012-10-14 00:00:00')],\n",
       " ['7D', 'FN09C', Timestamp('2012-10-15 00:00:00')],\n",
       " ['7D', 'FN09C', Timestamp('2012-10-16 00:00:00')],\n",
       " ['7D', 'FN09C', Timestamp('2012-10-17 00:00:00')],\n",
       " ['7D', 'FN09C', Timestamp('2012-10-18 00:00:00')],\n",
       " ['7D', 'FN09C', Timestamp('2012-10-19 00:00:00')],\n",
       " ['7D', 'FN09C', Timestamp('2012-10-20 00:00:00')],\n",
       " ['7D', 'FN09C', Timestamp('2012-10-21 00:00:00')],\n",
       " ['7D', 'FN09C', Timestamp('2012-10-22 00:00:00')],\n",
       " ['7D', 'FN09C', Timestamp('2012-10-23 00:00:00')],\n",
       " ['7D', 'FN09C', Timestamp('2012-10-24 00:00:00')],\n",
       " ['7D', 'FN09C', Timestamp('2012-10-25 00:00:00')],\n",
       " ['7D', 'FN09C', Timestamp('2012-10-26 00:00:00')],\n",
       " ['7D', 'FN09C', Timestamp('2012-10-27 00:00:00')],\n",
       " ['7D', 'FN09C', Timestamp('2012-10-28 00:00:00')],\n",
       " ['7D', 'FN09C', Timestamp('2012-10-29 00:00:00')],\n",
       " ['7D', 'FN09C', Timestamp('2012-10-30 00:00:00')],\n",
       " ['7D', 'FN09C', Timestamp('2012-10-31 00:00:00')],\n",
       " ['7D', 'FN10A', Timestamp('2012-10-01 00:00:00')],\n",
       " ['7D', 'FN10A', Timestamp('2012-10-02 00:00:00')],\n",
       " ['7D', 'FN10A', Timestamp('2012-10-03 00:00:00')],\n",
       " ['7D', 'FN10A', Timestamp('2012-10-04 00:00:00')],\n",
       " ['7D', 'FN10A', Timestamp('2012-10-05 00:00:00')],\n",
       " ['7D', 'FN10A', Timestamp('2012-10-06 00:00:00')],\n",
       " ['7D', 'FN10A', Timestamp('2012-10-07 00:00:00')],\n",
       " ['7D', 'FN10A', Timestamp('2012-10-08 00:00:00')],\n",
       " ['7D', 'FN10A', Timestamp('2012-10-09 00:00:00')],\n",
       " ['7D', 'FN10A', Timestamp('2012-10-10 00:00:00')],\n",
       " ['7D', 'FN10A', Timestamp('2012-10-11 00:00:00')],\n",
       " ['7D', 'FN10A', Timestamp('2012-10-12 00:00:00')],\n",
       " ['7D', 'FN10A', Timestamp('2012-10-13 00:00:00')],\n",
       " ['7D', 'FN10A', Timestamp('2012-10-14 00:00:00')],\n",
       " ['7D', 'FN10A', Timestamp('2012-10-15 00:00:00')],\n",
       " ['7D', 'FN10A', Timestamp('2012-10-16 00:00:00')],\n",
       " ['7D', 'FN10A', Timestamp('2012-10-17 00:00:00')],\n",
       " ['7D', 'FN10A', Timestamp('2012-10-18 00:00:00')],\n",
       " ['7D', 'FN10A', Timestamp('2012-10-19 00:00:00')],\n",
       " ['7D', 'FN10A', Timestamp('2012-10-20 00:00:00')],\n",
       " ['7D', 'FN10A', Timestamp('2012-10-21 00:00:00')],\n",
       " ['7D', 'FN10A', Timestamp('2012-10-22 00:00:00')],\n",
       " ['7D', 'FN10A', Timestamp('2012-10-23 00:00:00')],\n",
       " ['7D', 'FN10A', Timestamp('2012-10-24 00:00:00')],\n",
       " ['7D', 'FN10A', Timestamp('2012-10-25 00:00:00')],\n",
       " ['7D', 'FN10A', Timestamp('2012-10-26 00:00:00')],\n",
       " ['7D', 'FN10A', Timestamp('2012-10-27 00:00:00')],\n",
       " ['7D', 'FN10A', Timestamp('2012-10-28 00:00:00')],\n",
       " ['7D', 'FN10A', Timestamp('2012-10-29 00:00:00')],\n",
       " ['7D', 'FN10A', Timestamp('2012-10-30 00:00:00')],\n",
       " ['7D', 'FN10A', Timestamp('2012-10-31 00:00:00')],\n",
       " ['7D', 'FN10C', Timestamp('2012-10-01 00:00:00')],\n",
       " ['7D', 'FN10C', Timestamp('2012-10-02 00:00:00')],\n",
       " ['7D', 'FN10C', Timestamp('2012-10-03 00:00:00')],\n",
       " ['7D', 'FN10C', Timestamp('2012-10-04 00:00:00')],\n",
       " ['7D', 'FN10C', Timestamp('2012-10-05 00:00:00')],\n",
       " ['7D', 'FN10C', Timestamp('2012-10-06 00:00:00')],\n",
       " ['7D', 'FN10C', Timestamp('2012-10-07 00:00:00')],\n",
       " ['7D', 'FN10C', Timestamp('2012-10-08 00:00:00')],\n",
       " ['7D', 'FN10C', Timestamp('2012-10-09 00:00:00')],\n",
       " ['7D', 'FN10C', Timestamp('2012-10-10 00:00:00')],\n",
       " ['7D', 'FN10C', Timestamp('2012-10-11 00:00:00')],\n",
       " ['7D', 'FN10C', Timestamp('2012-10-12 00:00:00')],\n",
       " ['7D', 'FN10C', Timestamp('2012-10-13 00:00:00')],\n",
       " ['7D', 'FN10C', Timestamp('2012-10-14 00:00:00')],\n",
       " ['7D', 'FN10C', Timestamp('2012-10-15 00:00:00')],\n",
       " ['7D', 'FN10C', Timestamp('2012-10-16 00:00:00')],\n",
       " ['7D', 'FN10C', Timestamp('2012-10-17 00:00:00')],\n",
       " ['7D', 'FN10C', Timestamp('2012-10-18 00:00:00')],\n",
       " ['7D', 'FN10C', Timestamp('2012-10-19 00:00:00')],\n",
       " ['7D', 'FN10C', Timestamp('2012-10-20 00:00:00')],\n",
       " ['7D', 'FN10C', Timestamp('2012-10-21 00:00:00')],\n",
       " ['7D', 'FN10C', Timestamp('2012-10-22 00:00:00')],\n",
       " ['7D', 'FN10C', Timestamp('2012-10-23 00:00:00')],\n",
       " ['7D', 'FN10C', Timestamp('2012-10-24 00:00:00')],\n",
       " ['7D', 'FN10C', Timestamp('2012-10-25 00:00:00')],\n",
       " ['7D', 'FN10C', Timestamp('2012-10-26 00:00:00')],\n",
       " ['7D', 'FN10C', Timestamp('2012-10-27 00:00:00')],\n",
       " ['7D', 'FN10C', Timestamp('2012-10-28 00:00:00')],\n",
       " ['7D', 'FN10C', Timestamp('2012-10-29 00:00:00')],\n",
       " ['7D', 'FN10C', Timestamp('2012-10-30 00:00:00')],\n",
       " ['7D', 'FN10C', Timestamp('2012-10-31 00:00:00')],\n",
       " ['7D', 'FN11C', Timestamp('2012-10-01 00:00:00')],\n",
       " ['7D', 'FN11C', Timestamp('2012-10-02 00:00:00')],\n",
       " ['7D', 'FN11C', Timestamp('2012-10-03 00:00:00')],\n",
       " ['7D', 'FN11C', Timestamp('2012-10-04 00:00:00')],\n",
       " ['7D', 'FN11C', Timestamp('2012-10-05 00:00:00')],\n",
       " ['7D', 'FN11C', Timestamp('2012-10-06 00:00:00')],\n",
       " ['7D', 'FN11C', Timestamp('2012-10-07 00:00:00')],\n",
       " ['7D', 'FN11C', Timestamp('2012-10-08 00:00:00')],\n",
       " ['7D', 'FN11C', Timestamp('2012-10-09 00:00:00')],\n",
       " ['7D', 'FN11C', Timestamp('2012-10-10 00:00:00')],\n",
       " ['7D', 'FN11C', Timestamp('2012-10-11 00:00:00')],\n",
       " ['7D', 'FN11C', Timestamp('2012-10-12 00:00:00')],\n",
       " ['7D', 'FN11C', Timestamp('2012-10-13 00:00:00')],\n",
       " ['7D', 'FN11C', Timestamp('2012-10-14 00:00:00')],\n",
       " ['7D', 'FN11C', Timestamp('2012-10-15 00:00:00')],\n",
       " ['7D', 'FN11C', Timestamp('2012-10-16 00:00:00')],\n",
       " ['7D', 'FN11C', Timestamp('2012-10-17 00:00:00')],\n",
       " ['7D', 'FN11C', Timestamp('2012-10-18 00:00:00')],\n",
       " ['7D', 'FN11C', Timestamp('2012-10-19 00:00:00')],\n",
       " ['7D', 'FN11C', Timestamp('2012-10-20 00:00:00')],\n",
       " ['7D', 'FN11C', Timestamp('2012-10-21 00:00:00')],\n",
       " ['7D', 'FN11C', Timestamp('2012-10-22 00:00:00')],\n",
       " ['7D', 'FN11C', Timestamp('2012-10-23 00:00:00')],\n",
       " ['7D', 'FN11C', Timestamp('2012-10-24 00:00:00')],\n",
       " ['7D', 'FN11C', Timestamp('2012-10-25 00:00:00')],\n",
       " ['7D', 'FN11C', Timestamp('2012-10-26 00:00:00')],\n",
       " ['7D', 'FN11C', Timestamp('2012-10-27 00:00:00')],\n",
       " ['7D', 'FN11C', Timestamp('2012-10-28 00:00:00')],\n",
       " ['7D', 'FN11C', Timestamp('2012-10-29 00:00:00')],\n",
       " ['7D', 'FN11C', Timestamp('2012-10-30 00:00:00')],\n",
       " ['7D', 'FN11C', Timestamp('2012-10-31 00:00:00')],\n",
       " ['7D', 'FN12A', Timestamp('2012-10-01 00:00:00')],\n",
       " ['7D', 'FN12A', Timestamp('2012-10-02 00:00:00')],\n",
       " ['7D', 'FN12A', Timestamp('2012-10-03 00:00:00')],\n",
       " ['7D', 'FN12A', Timestamp('2012-10-04 00:00:00')],\n",
       " ['7D', 'FN12A', Timestamp('2012-10-05 00:00:00')],\n",
       " ['7D', 'FN12A', Timestamp('2012-10-06 00:00:00')],\n",
       " ['7D', 'FN12A', Timestamp('2012-10-07 00:00:00')],\n",
       " ['7D', 'FN12A', Timestamp('2012-10-08 00:00:00')],\n",
       " ['7D', 'FN12A', Timestamp('2012-10-09 00:00:00')],\n",
       " ['7D', 'FN12A', Timestamp('2012-10-10 00:00:00')],\n",
       " ['7D', 'FN12A', Timestamp('2012-10-11 00:00:00')],\n",
       " ['7D', 'FN12A', Timestamp('2012-10-12 00:00:00')],\n",
       " ['7D', 'FN12A', Timestamp('2012-10-13 00:00:00')],\n",
       " ['7D', 'FN12A', Timestamp('2012-10-14 00:00:00')],\n",
       " ['7D', 'FN12A', Timestamp('2012-10-15 00:00:00')],\n",
       " ['7D', 'FN12A', Timestamp('2012-10-16 00:00:00')],\n",
       " ['7D', 'FN12A', Timestamp('2012-10-17 00:00:00')],\n",
       " ['7D', 'FN12A', Timestamp('2012-10-18 00:00:00')],\n",
       " ['7D', 'FN12A', Timestamp('2012-10-19 00:00:00')],\n",
       " ['7D', 'FN12A', Timestamp('2012-10-20 00:00:00')],\n",
       " ['7D', 'FN12A', Timestamp('2012-10-21 00:00:00')],\n",
       " ['7D', 'FN12A', Timestamp('2012-10-22 00:00:00')],\n",
       " ['7D', 'FN12A', Timestamp('2012-10-23 00:00:00')],\n",
       " ['7D', 'FN12A', Timestamp('2012-10-24 00:00:00')],\n",
       " ['7D', 'FN12A', Timestamp('2012-10-25 00:00:00')],\n",
       " ['7D', 'FN12A', Timestamp('2012-10-26 00:00:00')],\n",
       " ['7D', 'FN12A', Timestamp('2012-10-27 00:00:00')],\n",
       " ['7D', 'FN12A', Timestamp('2012-10-28 00:00:00')],\n",
       " ['7D', 'FN12A', Timestamp('2012-10-29 00:00:00')],\n",
       " ['7D', 'FN12A', Timestamp('2012-10-30 00:00:00')],\n",
       " ['7D', 'FN12A', Timestamp('2012-10-31 00:00:00')],\n",
       " ['7D', 'FN12C', Timestamp('2012-10-01 00:00:00')],\n",
       " ['7D', 'FN12C', Timestamp('2012-10-02 00:00:00')],\n",
       " ['7D', 'FN12C', Timestamp('2012-10-03 00:00:00')],\n",
       " ['7D', 'FN12C', Timestamp('2012-10-04 00:00:00')],\n",
       " ['7D', 'FN12C', Timestamp('2012-10-05 00:00:00')],\n",
       " ['7D', 'FN12C', Timestamp('2012-10-06 00:00:00')],\n",
       " ['7D', 'FN12C', Timestamp('2012-10-07 00:00:00')],\n",
       " ['7D', 'FN12C', Timestamp('2012-10-08 00:00:00')],\n",
       " ['7D', 'FN12C', Timestamp('2012-10-09 00:00:00')],\n",
       " ['7D', 'FN12C', Timestamp('2012-10-10 00:00:00')],\n",
       " ['7D', 'FN12C', Timestamp('2012-10-11 00:00:00')],\n",
       " ['7D', 'FN12C', Timestamp('2012-10-12 00:00:00')],\n",
       " ['7D', 'FN12C', Timestamp('2012-10-13 00:00:00')],\n",
       " ['7D', 'FN12C', Timestamp('2012-10-14 00:00:00')],\n",
       " ['7D', 'FN12C', Timestamp('2012-10-15 00:00:00')],\n",
       " ['7D', 'FN12C', Timestamp('2012-10-16 00:00:00')],\n",
       " ['7D', 'FN12C', Timestamp('2012-10-17 00:00:00')],\n",
       " ['7D', 'FN12C', Timestamp('2012-10-18 00:00:00')],\n",
       " ['7D', 'FN12C', Timestamp('2012-10-19 00:00:00')],\n",
       " ['7D', 'FN12C', Timestamp('2012-10-20 00:00:00')],\n",
       " ['7D', 'FN12C', Timestamp('2012-10-21 00:00:00')],\n",
       " ['7D', 'FN12C', Timestamp('2012-10-22 00:00:00')],\n",
       " ['7D', 'FN12C', Timestamp('2012-10-23 00:00:00')],\n",
       " ['7D', 'FN12C', Timestamp('2012-10-24 00:00:00')],\n",
       " ['7D', 'FN12C', Timestamp('2012-10-25 00:00:00')],\n",
       " ['7D', 'FN12C', Timestamp('2012-10-26 00:00:00')],\n",
       " ['7D', 'FN12C', Timestamp('2012-10-27 00:00:00')],\n",
       " ['7D', 'FN12C', Timestamp('2012-10-28 00:00:00')],\n",
       " ['7D', 'FN12C', Timestamp('2012-10-29 00:00:00')],\n",
       " ['7D', 'FN12C', Timestamp('2012-10-30 00:00:00')],\n",
       " ['7D', 'FN12C', Timestamp('2012-10-31 00:00:00')],\n",
       " ['7D', 'FN13C', Timestamp('2012-10-01 00:00:00')],\n",
       " ['7D', 'FN13C', Timestamp('2012-10-02 00:00:00')],\n",
       " ['7D', 'FN13C', Timestamp('2012-10-03 00:00:00')],\n",
       " ['7D', 'FN13C', Timestamp('2012-10-04 00:00:00')],\n",
       " ['7D', 'FN13C', Timestamp('2012-10-05 00:00:00')],\n",
       " ['7D', 'FN13C', Timestamp('2012-10-06 00:00:00')],\n",
       " ['7D', 'FN13C', Timestamp('2012-10-07 00:00:00')],\n",
       " ['7D', 'FN13C', Timestamp('2012-10-08 00:00:00')],\n",
       " ['7D', 'FN13C', Timestamp('2012-10-09 00:00:00')],\n",
       " ['7D', 'FN13C', Timestamp('2012-10-10 00:00:00')],\n",
       " ['7D', 'FN13C', Timestamp('2012-10-11 00:00:00')],\n",
       " ['7D', 'FN13C', Timestamp('2012-10-12 00:00:00')],\n",
       " ['7D', 'FN13C', Timestamp('2012-10-13 00:00:00')],\n",
       " ['7D', 'FN13C', Timestamp('2012-10-14 00:00:00')],\n",
       " ['7D', 'FN13C', Timestamp('2012-10-15 00:00:00')],\n",
       " ['7D', 'FN13C', Timestamp('2012-10-16 00:00:00')],\n",
       " ['7D', 'FN13C', Timestamp('2012-10-17 00:00:00')],\n",
       " ['7D', 'FN13C', Timestamp('2012-10-18 00:00:00')],\n",
       " ['7D', 'FN13C', Timestamp('2012-10-19 00:00:00')],\n",
       " ['7D', 'FN13C', Timestamp('2012-10-20 00:00:00')],\n",
       " ['7D', 'FN13C', Timestamp('2012-10-21 00:00:00')],\n",
       " ['7D', 'FN13C', Timestamp('2012-10-22 00:00:00')],\n",
       " ['7D', 'FN13C', Timestamp('2012-10-23 00:00:00')],\n",
       " ['7D', 'FN13C', Timestamp('2012-10-24 00:00:00')],\n",
       " ['7D', 'FN13C', Timestamp('2012-10-25 00:00:00')],\n",
       " ['7D', 'FN13C', Timestamp('2012-10-26 00:00:00')],\n",
       " ['7D', 'FN13C', Timestamp('2012-10-27 00:00:00')],\n",
       " ['7D', 'FN13C', Timestamp('2012-10-28 00:00:00')],\n",
       " ['7D', 'FN13C', Timestamp('2012-10-29 00:00:00')],\n",
       " ['7D', 'FN13C', Timestamp('2012-10-30 00:00:00')],\n",
       " ['7D', 'FN13C', Timestamp('2012-10-31 00:00:00')],\n",
       " ['7D', 'FN14A', Timestamp('2012-10-01 00:00:00')],\n",
       " ['7D', 'FN14A', Timestamp('2012-10-02 00:00:00')],\n",
       " ['7D', 'FN14A', Timestamp('2012-10-03 00:00:00')],\n",
       " ['7D', 'FN14A', Timestamp('2012-10-04 00:00:00')],\n",
       " ['7D', 'FN14A', Timestamp('2012-10-05 00:00:00')],\n",
       " ['7D', 'FN14A', Timestamp('2012-10-06 00:00:00')],\n",
       " ['7D', 'FN14A', Timestamp('2012-10-07 00:00:00')],\n",
       " ['7D', 'FN14A', Timestamp('2012-10-08 00:00:00')],\n",
       " ...]"
      ]
     },
     "execution_count": 17,
     "metadata": {},
     "output_type": "execute_result"
    }
   ],
   "source": [
    "task_list"
   ]
  },
  {
   "cell_type": "code",
   "execution_count": 18,
   "id": "f1e52536",
   "metadata": {},
   "outputs": [
    {
     "data": {
      "text/plain": [
       "14291"
      ]
     },
     "execution_count": 18,
     "metadata": {},
     "output_type": "execute_result"
    }
   ],
   "source": [
    "len(task_list)"
   ]
  },
  {
   "cell_type": "code",
   "execution_count": 20,
   "id": "560aff81",
   "metadata": {
    "scrolled": false
   },
   "outputs": [
    {
     "name": "stdout",
     "output_type": "stream",
     "text": [
      "[                                        ] | 0% Completed | 260.90 us['UW', 'TAKO', UTCDateTime(2012, 10, 5, 0, 0)]\n",
      "['X6', 'S06', UTCDateTime(2012, 10, 14, 0, 0)]\n",
      "[                                        ] | 0% Completed | 106.14 ms"
     ]
    },
    {
     "name": "stderr",
     "output_type": "stream",
     "text": [
      "WARNING:root:No stream returned. Skipping.\n",
      "WARNING:root:No stream returned. Skipping.\n"
     ]
    },
    {
     "name": "stdout",
     "output_type": "stream",
     "text": [
      "['7D', 'FN17C', UTCDateTime(2012, 10, 11, 0, 0)]\n",
      "['7D', 'J51A', UTCDateTime(2012, 10, 24, 0, 0)]\n",
      "[                                        ] | 0% Completed | 206.56 ms"
     ]
    },
    {
     "name": "stderr",
     "output_type": "stream",
     "text": [
      "WARNING:root:No stream returned. Skipping.\n",
      "WARNING:root:No stream returned. Skipping.\n"
     ]
    },
    {
     "name": "stdout",
     "output_type": "stream",
     "text": [
      "['UW', 'BILS', UTCDateTime(2012, 10, 4, 0, 0)]\n",
      "['X6', '65', UTCDateTime(2012, 10, 9, 0, 0)]\n",
      "[                                        ] | 0% Completed | 306.94 ms"
     ]
    },
    {
     "name": "stderr",
     "output_type": "stream",
     "text": [
      "WARNING:root:No stream returned. Skipping.\n"
     ]
    },
    {
     "name": "stdout",
     "output_type": "stream",
     "text": [
      "['X6', '51', UTCDateTime(2012, 10, 23, 0, 0)]\n"
     ]
    },
    {
     "name": "stderr",
     "output_type": "stream",
     "text": [
      "WARNING:root:No stream returned. Skipping.\n"
     ]
    },
    {
     "name": "stdout",
     "output_type": "stream",
     "text": [
      "['7D', 'FN09A', UTCDateTime(2012, 10, 21, 0, 0)]\n",
      "[                                        ] | 0% Completed | 407.32 ms"
     ]
    },
    {
     "name": "stderr",
     "output_type": "stream",
     "text": [
      "WARNING:root:No stream returned. Skipping.\n"
     ]
    },
    {
     "name": "stdout",
     "output_type": "stream",
     "text": [
      "['TA', 'K02D', UTCDateTime(2012, 10, 15, 0, 0)]\n",
      "[                                        ] | 0% Completed | 5.13 s ms\n"
     ]
    },
    {
     "ename": "KeyboardInterrupt",
     "evalue": "",
     "output_type": "error",
     "traceback": [
      "\u001b[0;31m---------------------------------------------------------------------------\u001b[0m",
      "\u001b[0;31mKeyboardInterrupt\u001b[0m                         Traceback (most recent call last)",
      "Cell \u001b[0;32mIn[20], line 31\u001b[0m\n\u001b[1;32m     25\u001b[0m \u001b[38;5;66;03m# The below actually executes the parallel operation!\u001b[39;00m\n\u001b[1;32m     26\u001b[0m \u001b[38;5;66;03m# It's nice to do it with the ProgressBar so you can see how long things are taking.\u001b[39;00m\n\u001b[1;32m     27\u001b[0m \u001b[38;5;66;03m# Each operation should also write a file so that is another way to check on progress.\u001b[39;00m\n\u001b[1;32m     28\u001b[0m \u001b[38;5;28;01mwith\u001b[39;00m ProgressBar():\n\u001b[1;32m     29\u001b[0m     \u001b[38;5;66;03m#################################\u001b[39;00m\n\u001b[1;32m     30\u001b[0m     \u001b[38;5;66;03m# Add scheduler = 'single-threaded'\u001b[39;00m\n\u001b[0;32m---> 31\u001b[0m \t\u001b[43mdask\u001b[49m\u001b[38;5;241;43m.\u001b[39;49m\u001b[43mcompute\u001b[49m\u001b[43m(\u001b[49m\u001b[43mlazy_results\u001b[49m\u001b[43m,\u001b[49m\u001b[43m \u001b[49m\u001b[43mscheduler\u001b[49m\u001b[38;5;241;43m=\u001b[39;49m\u001b[38;5;124;43m'\u001b[39;49m\u001b[38;5;124;43msingle-threaded\u001b[39;49m\u001b[38;5;124;43m'\u001b[39;49m\u001b[43m)\u001b[49m \n",
      "File \u001b[0;32m/home/jupyter_share/miniconda3/envs/seismo/lib/python3.9/site-packages/dask/base.py:628\u001b[0m, in \u001b[0;36mcompute\u001b[0;34m(traverse, optimize_graph, scheduler, get, *args, **kwargs)\u001b[0m\n\u001b[1;32m    625\u001b[0m     postcomputes\u001b[38;5;241m.\u001b[39mappend(x\u001b[38;5;241m.\u001b[39m__dask_postcompute__())\n\u001b[1;32m    627\u001b[0m \u001b[38;5;28;01mwith\u001b[39;00m shorten_traceback():\n\u001b[0;32m--> 628\u001b[0m     results \u001b[38;5;241m=\u001b[39m \u001b[43mschedule\u001b[49m\u001b[43m(\u001b[49m\u001b[43mdsk\u001b[49m\u001b[43m,\u001b[49m\u001b[43m \u001b[49m\u001b[43mkeys\u001b[49m\u001b[43m,\u001b[49m\u001b[43m \u001b[49m\u001b[38;5;241;43m*\u001b[39;49m\u001b[38;5;241;43m*\u001b[39;49m\u001b[43mkwargs\u001b[49m\u001b[43m)\u001b[49m\n\u001b[1;32m    630\u001b[0m \u001b[38;5;28;01mreturn\u001b[39;00m repack([f(r, \u001b[38;5;241m*\u001b[39ma) \u001b[38;5;28;01mfor\u001b[39;00m r, (f, a) \u001b[38;5;129;01min\u001b[39;00m \u001b[38;5;28mzip\u001b[39m(results, postcomputes)])\n",
      "Cell \u001b[0;32mIn[20], line 17\u001b[0m, in \u001b[0;36mloop_days\u001b[0;34m(task, filepath, twin, step, l_blnd, r_blnd)\u001b[0m\n\u001b[1;32m     15\u001b[0m \u001b[38;5;28mprint\u001b[39m([network,station,t1])\n\u001b[1;32m     16\u001b[0m \u001b[38;5;66;03m# Call to the function that will perform the operation and write the results to file\u001b[39;00m\n\u001b[0;32m---> 17\u001b[0m \u001b[43mrun_detection\u001b[49m\u001b[43m(\u001b[49m\u001b[43mnetwork\u001b[49m\u001b[43m,\u001b[49m\u001b[43mstation\u001b[49m\u001b[43m,\u001b[49m\u001b[43mt1\u001b[49m\u001b[43m,\u001b[49m\u001b[43mt2\u001b[49m\u001b[43m,\u001b[49m\u001b[43mfilepath\u001b[49m\u001b[43m,\u001b[49m\u001b[43mtwin\u001b[49m\u001b[43m,\u001b[49m\u001b[43mstep\u001b[49m\u001b[43m,\u001b[49m\u001b[43ml_blnd\u001b[49m\u001b[43m,\u001b[49m\u001b[43mr_blnd\u001b[49m\u001b[43m)\u001b[49m\n",
      "Cell \u001b[0;32mIn[15], line 155\u001b[0m, in \u001b[0;36mrun_detection\u001b[0;34m(network, station, t1, t2, filepath, twin, step, l_blnd, r_blnd)\u001b[0m\n\u001b[1;32m    153\u001b[0m \u001b[38;5;28;01melse\u001b[39;00m:\n\u001b[1;32m    154\u001b[0m     windows_max_tt \u001b[38;5;241m=\u001b[39m torch\u001b[38;5;241m.\u001b[39mTensor(windows_max)\n\u001b[0;32m--> 155\u001b[0m     _torch_pred \u001b[38;5;241m=\u001b[39m \u001b[43meqt\u001b[49m\u001b[43m(\u001b[49m\u001b[43mwindows_max_tt\u001b[49m\u001b[38;5;241;43m.\u001b[39;49m\u001b[43mto\u001b[49m\u001b[43m(\u001b[49m\u001b[43mdevice\u001b[49m\u001b[43m)\u001b[49m\u001b[43m)\u001b[49m\n\u001b[1;32m    156\u001b[0m batch_pred[\u001b[38;5;241m0\u001b[39m, ipre, :] \u001b[38;5;241m=\u001b[39m _torch_pred[\u001b[38;5;241m1\u001b[39m]\u001b[38;5;241m.\u001b[39mdetach()\u001b[38;5;241m.\u001b[39mcpu()\u001b[38;5;241m.\u001b[39mnumpy()\n\u001b[1;32m    157\u001b[0m batch_pred[\u001b[38;5;241m1\u001b[39m, ipre, :] \u001b[38;5;241m=\u001b[39m _torch_pred[\u001b[38;5;241m2\u001b[39m]\u001b[38;5;241m.\u001b[39mdetach()\u001b[38;5;241m.\u001b[39mcpu()\u001b[38;5;241m.\u001b[39mnumpy()\n",
      "File \u001b[0;32m/home/jupyter_share/miniconda3/envs/seismo/lib/python3.9/site-packages/torch/nn/modules/module.py:1518\u001b[0m, in \u001b[0;36mModule._wrapped_call_impl\u001b[0;34m(self, *args, **kwargs)\u001b[0m\n\u001b[1;32m   1516\u001b[0m     \u001b[38;5;28;01mreturn\u001b[39;00m \u001b[38;5;28mself\u001b[39m\u001b[38;5;241m.\u001b[39m_compiled_call_impl(\u001b[38;5;241m*\u001b[39margs, \u001b[38;5;241m*\u001b[39m\u001b[38;5;241m*\u001b[39mkwargs)  \u001b[38;5;66;03m# type: ignore[misc]\u001b[39;00m\n\u001b[1;32m   1517\u001b[0m \u001b[38;5;28;01melse\u001b[39;00m:\n\u001b[0;32m-> 1518\u001b[0m     \u001b[38;5;28;01mreturn\u001b[39;00m \u001b[38;5;28;43mself\u001b[39;49m\u001b[38;5;241;43m.\u001b[39;49m\u001b[43m_call_impl\u001b[49m\u001b[43m(\u001b[49m\u001b[38;5;241;43m*\u001b[39;49m\u001b[43margs\u001b[49m\u001b[43m,\u001b[49m\u001b[43m \u001b[49m\u001b[38;5;241;43m*\u001b[39;49m\u001b[38;5;241;43m*\u001b[39;49m\u001b[43mkwargs\u001b[49m\u001b[43m)\u001b[49m\n",
      "File \u001b[0;32m/home/jupyter_share/miniconda3/envs/seismo/lib/python3.9/site-packages/torch/nn/modules/module.py:1527\u001b[0m, in \u001b[0;36mModule._call_impl\u001b[0;34m(self, *args, **kwargs)\u001b[0m\n\u001b[1;32m   1522\u001b[0m \u001b[38;5;66;03m# If we don't have any hooks, we want to skip the rest of the logic in\u001b[39;00m\n\u001b[1;32m   1523\u001b[0m \u001b[38;5;66;03m# this function, and just call forward.\u001b[39;00m\n\u001b[1;32m   1524\u001b[0m \u001b[38;5;28;01mif\u001b[39;00m \u001b[38;5;129;01mnot\u001b[39;00m (\u001b[38;5;28mself\u001b[39m\u001b[38;5;241m.\u001b[39m_backward_hooks \u001b[38;5;129;01mor\u001b[39;00m \u001b[38;5;28mself\u001b[39m\u001b[38;5;241m.\u001b[39m_backward_pre_hooks \u001b[38;5;129;01mor\u001b[39;00m \u001b[38;5;28mself\u001b[39m\u001b[38;5;241m.\u001b[39m_forward_hooks \u001b[38;5;129;01mor\u001b[39;00m \u001b[38;5;28mself\u001b[39m\u001b[38;5;241m.\u001b[39m_forward_pre_hooks\n\u001b[1;32m   1525\u001b[0m         \u001b[38;5;129;01mor\u001b[39;00m _global_backward_pre_hooks \u001b[38;5;129;01mor\u001b[39;00m _global_backward_hooks\n\u001b[1;32m   1526\u001b[0m         \u001b[38;5;129;01mor\u001b[39;00m _global_forward_hooks \u001b[38;5;129;01mor\u001b[39;00m _global_forward_pre_hooks):\n\u001b[0;32m-> 1527\u001b[0m     \u001b[38;5;28;01mreturn\u001b[39;00m \u001b[43mforward_call\u001b[49m\u001b[43m(\u001b[49m\u001b[38;5;241;43m*\u001b[39;49m\u001b[43margs\u001b[49m\u001b[43m,\u001b[49m\u001b[43m \u001b[49m\u001b[38;5;241;43m*\u001b[39;49m\u001b[38;5;241;43m*\u001b[39;49m\u001b[43mkwargs\u001b[49m\u001b[43m)\u001b[49m\n\u001b[1;32m   1529\u001b[0m \u001b[38;5;28;01mtry\u001b[39;00m:\n\u001b[1;32m   1530\u001b[0m     result \u001b[38;5;241m=\u001b[39m \u001b[38;5;28;01mNone\u001b[39;00m\n",
      "File \u001b[0;32m/home/jupyter_share/miniconda3/envs/seismo/lib/python3.9/site-packages/seisbench/models/eqtransformer.py:252\u001b[0m, in \u001b[0;36mEQTransformer.forward\u001b[0;34m(self, x, logits)\u001b[0m\n\u001b[1;32m    250\u001b[0m     detection \u001b[38;5;241m=\u001b[39m \u001b[38;5;28mself\u001b[39m\u001b[38;5;241m.\u001b[39mconv_d(detection)\n\u001b[1;32m    251\u001b[0m \u001b[38;5;28;01melse\u001b[39;00m:\n\u001b[0;32m--> 252\u001b[0m     detection \u001b[38;5;241m=\u001b[39m torch\u001b[38;5;241m.\u001b[39msigmoid(\u001b[38;5;28;43mself\u001b[39;49m\u001b[38;5;241;43m.\u001b[39;49m\u001b[43mconv_d\u001b[49m\u001b[43m(\u001b[49m\u001b[43mdetection\u001b[49m\u001b[43m)\u001b[49m)\n\u001b[1;32m    253\u001b[0m detection \u001b[38;5;241m=\u001b[39m torch\u001b[38;5;241m.\u001b[39msqueeze(detection, dim\u001b[38;5;241m=\u001b[39m\u001b[38;5;241m1\u001b[39m)  \u001b[38;5;66;03m# Remove channel dimension\u001b[39;00m\n\u001b[1;32m    255\u001b[0m outputs \u001b[38;5;241m=\u001b[39m [detection]\n",
      "File \u001b[0;32m/home/jupyter_share/miniconda3/envs/seismo/lib/python3.9/site-packages/torch/nn/modules/module.py:1518\u001b[0m, in \u001b[0;36mModule._wrapped_call_impl\u001b[0;34m(self, *args, **kwargs)\u001b[0m\n\u001b[1;32m   1516\u001b[0m     \u001b[38;5;28;01mreturn\u001b[39;00m \u001b[38;5;28mself\u001b[39m\u001b[38;5;241m.\u001b[39m_compiled_call_impl(\u001b[38;5;241m*\u001b[39margs, \u001b[38;5;241m*\u001b[39m\u001b[38;5;241m*\u001b[39mkwargs)  \u001b[38;5;66;03m# type: ignore[misc]\u001b[39;00m\n\u001b[1;32m   1517\u001b[0m \u001b[38;5;28;01melse\u001b[39;00m:\n\u001b[0;32m-> 1518\u001b[0m     \u001b[38;5;28;01mreturn\u001b[39;00m \u001b[38;5;28;43mself\u001b[39;49m\u001b[38;5;241;43m.\u001b[39;49m\u001b[43m_call_impl\u001b[49m\u001b[43m(\u001b[49m\u001b[38;5;241;43m*\u001b[39;49m\u001b[43margs\u001b[49m\u001b[43m,\u001b[49m\u001b[43m \u001b[49m\u001b[38;5;241;43m*\u001b[39;49m\u001b[38;5;241;43m*\u001b[39;49m\u001b[43mkwargs\u001b[49m\u001b[43m)\u001b[49m\n",
      "File \u001b[0;32m/home/jupyter_share/miniconda3/envs/seismo/lib/python3.9/site-packages/torch/nn/modules/module.py:1527\u001b[0m, in \u001b[0;36mModule._call_impl\u001b[0;34m(self, *args, **kwargs)\u001b[0m\n\u001b[1;32m   1522\u001b[0m \u001b[38;5;66;03m# If we don't have any hooks, we want to skip the rest of the logic in\u001b[39;00m\n\u001b[1;32m   1523\u001b[0m \u001b[38;5;66;03m# this function, and just call forward.\u001b[39;00m\n\u001b[1;32m   1524\u001b[0m \u001b[38;5;28;01mif\u001b[39;00m \u001b[38;5;129;01mnot\u001b[39;00m (\u001b[38;5;28mself\u001b[39m\u001b[38;5;241m.\u001b[39m_backward_hooks \u001b[38;5;129;01mor\u001b[39;00m \u001b[38;5;28mself\u001b[39m\u001b[38;5;241m.\u001b[39m_backward_pre_hooks \u001b[38;5;129;01mor\u001b[39;00m \u001b[38;5;28mself\u001b[39m\u001b[38;5;241m.\u001b[39m_forward_hooks \u001b[38;5;129;01mor\u001b[39;00m \u001b[38;5;28mself\u001b[39m\u001b[38;5;241m.\u001b[39m_forward_pre_hooks\n\u001b[1;32m   1525\u001b[0m         \u001b[38;5;129;01mor\u001b[39;00m _global_backward_pre_hooks \u001b[38;5;129;01mor\u001b[39;00m _global_backward_hooks\n\u001b[1;32m   1526\u001b[0m         \u001b[38;5;129;01mor\u001b[39;00m _global_forward_hooks \u001b[38;5;129;01mor\u001b[39;00m _global_forward_pre_hooks):\n\u001b[0;32m-> 1527\u001b[0m     \u001b[38;5;28;01mreturn\u001b[39;00m \u001b[43mforward_call\u001b[49m\u001b[43m(\u001b[49m\u001b[38;5;241;43m*\u001b[39;49m\u001b[43margs\u001b[49m\u001b[43m,\u001b[49m\u001b[43m \u001b[49m\u001b[38;5;241;43m*\u001b[39;49m\u001b[38;5;241;43m*\u001b[39;49m\u001b[43mkwargs\u001b[49m\u001b[43m)\u001b[49m\n\u001b[1;32m   1529\u001b[0m \u001b[38;5;28;01mtry\u001b[39;00m:\n\u001b[1;32m   1530\u001b[0m     result \u001b[38;5;241m=\u001b[39m \u001b[38;5;28;01mNone\u001b[39;00m\n",
      "File \u001b[0;32m/home/jupyter_share/miniconda3/envs/seismo/lib/python3.9/site-packages/torch/nn/modules/conv.py:310\u001b[0m, in \u001b[0;36mConv1d.forward\u001b[0;34m(self, input)\u001b[0m\n\u001b[1;32m    309\u001b[0m \u001b[38;5;28;01mdef\u001b[39;00m \u001b[38;5;21mforward\u001b[39m(\u001b[38;5;28mself\u001b[39m, \u001b[38;5;28minput\u001b[39m: Tensor) \u001b[38;5;241m-\u001b[39m\u001b[38;5;241m>\u001b[39m Tensor:\n\u001b[0;32m--> 310\u001b[0m     \u001b[38;5;28;01mreturn\u001b[39;00m \u001b[38;5;28;43mself\u001b[39;49m\u001b[38;5;241;43m.\u001b[39;49m\u001b[43m_conv_forward\u001b[49m\u001b[43m(\u001b[49m\u001b[38;5;28;43minput\u001b[39;49m\u001b[43m,\u001b[49m\u001b[43m \u001b[49m\u001b[38;5;28;43mself\u001b[39;49m\u001b[38;5;241;43m.\u001b[39;49m\u001b[43mweight\u001b[49m\u001b[43m,\u001b[49m\u001b[43m \u001b[49m\u001b[38;5;28;43mself\u001b[39;49m\u001b[38;5;241;43m.\u001b[39;49m\u001b[43mbias\u001b[49m\u001b[43m)\u001b[49m\n",
      "File \u001b[0;32m/home/jupyter_share/miniconda3/envs/seismo/lib/python3.9/site-packages/torch/nn/modules/conv.py:306\u001b[0m, in \u001b[0;36mConv1d._conv_forward\u001b[0;34m(self, input, weight, bias)\u001b[0m\n\u001b[1;32m    302\u001b[0m \u001b[38;5;28;01mif\u001b[39;00m \u001b[38;5;28mself\u001b[39m\u001b[38;5;241m.\u001b[39mpadding_mode \u001b[38;5;241m!=\u001b[39m \u001b[38;5;124m'\u001b[39m\u001b[38;5;124mzeros\u001b[39m\u001b[38;5;124m'\u001b[39m:\n\u001b[1;32m    303\u001b[0m     \u001b[38;5;28;01mreturn\u001b[39;00m F\u001b[38;5;241m.\u001b[39mconv1d(F\u001b[38;5;241m.\u001b[39mpad(\u001b[38;5;28minput\u001b[39m, \u001b[38;5;28mself\u001b[39m\u001b[38;5;241m.\u001b[39m_reversed_padding_repeated_twice, mode\u001b[38;5;241m=\u001b[39m\u001b[38;5;28mself\u001b[39m\u001b[38;5;241m.\u001b[39mpadding_mode),\n\u001b[1;32m    304\u001b[0m                     weight, bias, \u001b[38;5;28mself\u001b[39m\u001b[38;5;241m.\u001b[39mstride,\n\u001b[1;32m    305\u001b[0m                     _single(\u001b[38;5;241m0\u001b[39m), \u001b[38;5;28mself\u001b[39m\u001b[38;5;241m.\u001b[39mdilation, \u001b[38;5;28mself\u001b[39m\u001b[38;5;241m.\u001b[39mgroups)\n\u001b[0;32m--> 306\u001b[0m \u001b[38;5;28;01mreturn\u001b[39;00m \u001b[43mF\u001b[49m\u001b[38;5;241;43m.\u001b[39;49m\u001b[43mconv1d\u001b[49m\u001b[43m(\u001b[49m\u001b[38;5;28;43minput\u001b[39;49m\u001b[43m,\u001b[49m\u001b[43m \u001b[49m\u001b[43mweight\u001b[49m\u001b[43m,\u001b[49m\u001b[43m \u001b[49m\u001b[43mbias\u001b[49m\u001b[43m,\u001b[49m\u001b[43m \u001b[49m\u001b[38;5;28;43mself\u001b[39;49m\u001b[38;5;241;43m.\u001b[39;49m\u001b[43mstride\u001b[49m\u001b[43m,\u001b[49m\n\u001b[1;32m    307\u001b[0m \u001b[43m                \u001b[49m\u001b[38;5;28;43mself\u001b[39;49m\u001b[38;5;241;43m.\u001b[39;49m\u001b[43mpadding\u001b[49m\u001b[43m,\u001b[49m\u001b[43m \u001b[49m\u001b[38;5;28;43mself\u001b[39;49m\u001b[38;5;241;43m.\u001b[39;49m\u001b[43mdilation\u001b[49m\u001b[43m,\u001b[49m\u001b[43m \u001b[49m\u001b[38;5;28;43mself\u001b[39;49m\u001b[38;5;241;43m.\u001b[39;49m\u001b[43mgroups\u001b[49m\u001b[43m)\u001b[49m\n",
      "\u001b[0;31mKeyboardInterrupt\u001b[0m: "
     ]
    }
   ],
   "source": [
    "# Now we start setting up a parallel operation using a package called Dask.\n",
    "\n",
    "# Start by writing a new a function that is specifically designed to be run in parallel through dask. All it essentially does is define the inputs to the larger run_detection function and then runs the function itself, but because we \"decorate\" it with @dask.delayed to start, the code will recognize that it should be run in parallel.\n",
    "\n",
    "@dask.delayed\n",
    "def loop_days(task,filepath,twin,step,l_blnd,r_blnd):\n",
    "\n",
    "\t# Define the parameters that are specific to each task\n",
    "\tt1 = obspy.UTCDateTime(task[2])\n",
    "\tt2 = obspy.UTCDateTime(t1 + pd.Timedelta(1,'days'))\n",
    "\tnetwork = task[0]\n",
    "\tstation = task[1]\n",
    "    \n",
    "    #print network and station\n",
    "\tprint([network,station,t1])\n",
    "\t# Call to the function that will perform the operation and write the results to file\n",
    "\trun_detection(network,station,t1,t2,filepath,twin,step,l_blnd,r_blnd)\n",
    "\t\n",
    "\n",
    "# Now we set up the parallel operation\n",
    "# The below builds a framework for the computer to run in parallel. This doesn't actually execute anything.\n",
    "lazy_results = [loop_days(task,filepath,twin,step,l_blnd,r_blnd) for task in task_list]\n",
    "    \n",
    "\n",
    "# The below actually executes the parallel operation!\n",
    "# It's nice to do it with the ProgressBar so you can see how long things are taking.\n",
    "# Each operation should also write a file so that is another way to check on progress.\n",
    "with ProgressBar():\n",
    "    #################################\n",
    "    # Add scheduler = 'single-threaded'\n",
    "\tdask.compute(lazy_results, scheduler='single-threaded') \n",
    "    "
   ]
  },
  {
   "cell_type": "code",
   "execution_count": null,
   "id": "7ce4d790",
   "metadata": {
    "scrolled": true
   },
   "outputs": [
    {
     "name": "stdout",
     "output_type": "stream",
     "text": [
      "[                                        ] | 0% Completed | 264.76 us['PB', 'B033', UTCDateTime(2012, 10, 14, 0, 0)]\n",
      "[                                        ] | 0% Completed | 424.34 ms"
     ]
    },
    {
     "name": "stderr",
     "output_type": "stream",
     "text": [
      "WARNING:root:No stream returned. Skipping.\n",
      "WARNING:root:No stream returned. Skipping.\n"
     ]
    },
    {
     "name": "stdout",
     "output_type": "stream",
     "text": [
      "['7D', 'J33A', UTCDateTime(2012, 10, 4, 0, 0)]\n",
      "['UW', 'TAKO', UTCDateTime(2012, 10, 18, 0, 0)]\n",
      "[                                        ] | 0% Completed | 12.28 smsAll prediction shape: (2, 5, 1439, 6000)\n",
      "[                                        ] | 0% Completed | 64.10 s18 P picks\n",
      "10 S picks\n",
      "['UW', 'ALVY', UTCDateTime(2012, 10, 1, 0, 0)]\n"
     ]
    },
    {
     "name": "stderr",
     "output_type": "stream",
     "text": [
      "/tmp/ipykernel_4159830/2319557713.py:13: RuntimeWarning: All-NaN axis encountered\n",
      "  np.nanmax([stack[idx:idx + twin], _data[iseg+1, :]], axis = 0)\n",
      "WARNING:root:No stream returned. Skipping.\n"
     ]
    },
    {
     "name": "stdout",
     "output_type": "stream",
     "text": [
      "\r",
      "[                                        ] | 0% Completed | 64.20 s"
     ]
    },
    {
     "name": "stderr",
     "output_type": "stream",
     "text": [
      "WARNING:root:No stream returned. Skipping.\n"
     ]
    },
    {
     "name": "stdout",
     "output_type": "stream",
     "text": [
      "['UW', 'COOS', UTCDateTime(2012, 10, 13, 0, 0)]\n",
      "['7D', 'FS04B', UTCDateTime(2012, 10, 10, 0, 0)]\n"
     ]
    },
    {
     "name": "stderr",
     "output_type": "stream",
     "text": [
      "WARNING:root:No stream returned. Skipping.\n"
     ]
    },
    {
     "name": "stdout",
     "output_type": "stream",
     "text": [
      "['UW', 'OOW2', UTCDateTime(2012, 10, 20, 0, 0)]\n",
      "['UW', 'LWCK', UTCDateTime(2012, 10, 21, 0, 0)]\n",
      "[                                        ] | 0% Completed | 64.30 s"
     ]
    },
    {
     "name": "stderr",
     "output_type": "stream",
     "text": [
      "WARNING:root:No stream returned. Skipping.\n"
     ]
    },
    {
     "name": "stdout",
     "output_type": "stream",
     "text": [
      "['OO', 'HYS11', UTCDateTime(2012, 10, 11, 0, 0)]\n"
     ]
    },
    {
     "name": "stderr",
     "output_type": "stream",
     "text": [
      "WARNING:root:No stream returned. Skipping.\n"
     ]
    },
    {
     "name": "stdout",
     "output_type": "stream",
     "text": [
      "['7D', 'J42C', UTCDateTime(2012, 10, 10, 0, 0)]\n",
      "\r",
      "[                                        ] | 0% Completed | 64.40 s"
     ]
    },
    {
     "name": "stderr",
     "output_type": "stream",
     "text": [
      "WARNING:root:No stream returned. Skipping.\n"
     ]
    },
    {
     "name": "stdout",
     "output_type": "stream",
     "text": [
      "['PB', 'B049', UTCDateTime(2012, 10, 13, 0, 0)]\n",
      "[                                        ] | 0% Completed | 64.70 s"
     ]
    },
    {
     "name": "stderr",
     "output_type": "stream",
     "text": [
      "WARNING:root:No stream returned. Skipping.\n"
     ]
    },
    {
     "name": "stdout",
     "output_type": "stream",
     "text": [
      "['7D', 'FS01B', UTCDateTime(2012, 10, 16, 0, 0)]\n",
      "['7D', 'FN19C', UTCDateTime(2012, 10, 29, 0, 0)]\n",
      "[                                        ] | 0% Completed | 64.80 s"
     ]
    },
    {
     "name": "stderr",
     "output_type": "stream",
     "text": [
      "WARNING:root:No stream returned. Skipping.\n",
      "WARNING:root:No stream returned. Skipping.\n"
     ]
    },
    {
     "name": "stdout",
     "output_type": "stream",
     "text": [
      "['X6', '02', UTCDateTime(2012, 10, 12, 0, 0)]\n",
      "['7D', 'J65A', UTCDateTime(2012, 10, 27, 0, 0)]\n",
      "[                                        ] | 0% Completed | 64.90 s"
     ]
    },
    {
     "name": "stderr",
     "output_type": "stream",
     "text": [
      "WARNING:root:No stream returned. Skipping.\n",
      "WARNING:root:No stream returned. Skipping.\n"
     ]
    },
    {
     "name": "stdout",
     "output_type": "stream",
     "text": [
      "['X6', '30', UTCDateTime(2012, 10, 8, 0, 0)]\n",
      "['7D', 'J19D', UTCDateTime(2012, 10, 22, 0, 0)]\n",
      "[                                        ] | 0% Completed | 65.00 s"
     ]
    },
    {
     "name": "stderr",
     "output_type": "stream",
     "text": [
      "WARNING:root:No stream returned. Skipping.\n"
     ]
    },
    {
     "name": "stdout",
     "output_type": "stream",
     "text": [
      "['UW', 'ON2', UTCDateTime(2012, 10, 31, 0, 0)]\n",
      "[                                        ] | 0% Completed | 65.21 s"
     ]
    },
    {
     "name": "stderr",
     "output_type": "stream",
     "text": [
      "WARNING:root:No stream returned. Skipping.\n"
     ]
    },
    {
     "name": "stdout",
     "output_type": "stream",
     "text": [
      "['PB', 'B935', UTCDateTime(2012, 10, 18, 0, 0)]\n",
      "[                                        ] | 0% Completed | 65.51 s"
     ]
    },
    {
     "name": "stderr",
     "output_type": "stream",
     "text": [
      "WARNING:root:No stream returned. Skipping.\n",
      "WARNING:root:No stream returned. Skipping.\n"
     ]
    },
    {
     "name": "stdout",
     "output_type": "stream",
     "text": [
      "['7D', 'FN01A', UTCDateTime(2012, 10, 8, 0, 0)]\n",
      "['7D', 'M01C', UTCDateTime(2012, 10, 10, 0, 0)]\n",
      "[                                        ] | 0% Completed | 65.61 s"
     ]
    },
    {
     "name": "stderr",
     "output_type": "stream",
     "text": [
      "WARNING:root:No stream returned. Skipping.\n",
      "WARNING:root:No stream returned. Skipping.\n"
     ]
    },
    {
     "name": "stdout",
     "output_type": "stream",
     "text": [
      "['7A', 'W04', UTCDateTime(2012, 10, 7, 0, 0)]\n",
      "['7D', 'J42C', UTCDateTime(2012, 10, 21, 0, 0)]\n",
      "[                                        ] | 0% Completed | 65.71 s"
     ]
    },
    {
     "name": "stderr",
     "output_type": "stream",
     "text": [
      "WARNING:root:No stream returned. Skipping.\n"
     ]
    },
    {
     "name": "stdout",
     "output_type": "stream",
     "text": [
      "['UW', 'OBC', UTCDateTime(2012, 10, 3, 0, 0)]\n",
      "[                                        ] | 0% Completed | 65.81 s"
     ]
    },
    {
     "name": "stderr",
     "output_type": "stream",
     "text": [
      "WARNING:root:No stream returned. Skipping.\n"
     ]
    },
    {
     "name": "stdout",
     "output_type": "stream",
     "text": [
      "['UW', 'BAND', UTCDateTime(2012, 10, 5, 0, 0)]\n",
      "\r",
      "[                                        ] | 0% Completed | 65.91 s"
     ]
    },
    {
     "name": "stderr",
     "output_type": "stream",
     "text": [
      "WARNING:root:No stream returned. Skipping.\n"
     ]
    },
    {
     "name": "stdout",
     "output_type": "stream",
     "text": [
      "['7D', 'FS12B', UTCDateTime(2012, 10, 18, 0, 0)]\n",
      "[                                        ] | 0% Completed | 101.01 sAll prediction shape: (2, 5, 3599, 6000)\n",
      "[                                        ] | 0% Completed | 353.39 s"
     ]
    },
    {
     "name": "stderr",
     "output_type": "stream",
     "text": [
      "/tmp/ipykernel_4159830/2319557713.py:13: RuntimeWarning: All-NaN axis encountered\n",
      "  np.nanmax([stack[idx:idx + twin], _data[iseg+1, :]], axis = 0)\n"
     ]
    },
    {
     "name": "stdout",
     "output_type": "stream",
     "text": [
      "[                                        ] | 0% Completed | 353.49 s197 P picks\n",
      "163 S picks\n"
     ]
    },
    {
     "name": "stderr",
     "output_type": "stream",
     "text": [
      "WARNING:root:No stream returned. Skipping.\n"
     ]
    },
    {
     "name": "stdout",
     "output_type": "stream",
     "text": [
      "['CN', 'PFB', UTCDateTime(2012, 10, 17, 0, 0)]\n",
      "['NC', 'K004', UTCDateTime(2012, 10, 5, 0, 0)]\n",
      "[                                        ] | 0% Completed | 353.79 sWARNING: No data for NC.K004.?H? on 2012-10-05T00:00:00.000000Z.\n",
      "['7D', 'J25B', UTCDateTime(2012, 10, 26, 0, 0)]\n",
      "[                                        ] | 0% Completed | 387.94 sAll prediction shape: (2, 5, 3599, 6000)\n",
      "[                                        ] | 0% Completed | 10m 39ss"
     ]
    },
    {
     "name": "stderr",
     "output_type": "stream",
     "text": [
      "/tmp/ipykernel_4159830/2319557713.py:13: RuntimeWarning: All-NaN axis encountered\n",
      "  np.nanmax([stack[idx:idx + twin], _data[iseg+1, :]], axis = 0)\n"
     ]
    },
    {
     "name": "stdout",
     "output_type": "stream",
     "text": [
      "467 P picks\n",
      "642 S picks\n",
      "['UO', 'DBO', UTCDateTime(2012, 10, 4, 0, 0)]\n",
      "[                                        ] | 0% Completed | 10m 46sAll prediction shape: (2, 5, 1151, 6000)\n",
      "[                                        ] | 0% Completed | 11m 22s7 P picks\n",
      "18 S picks\n",
      "['7D', 'FS06D', UTCDateTime(2012, 10, 22, 0, 0)]\n",
      "[                                        ] | 0% Completed | 11m 22s"
     ]
    },
    {
     "name": "stderr",
     "output_type": "stream",
     "text": [
      "/tmp/ipykernel_4159830/2319557713.py:13: RuntimeWarning: All-NaN axis encountered\n",
      "  np.nanmax([stack[idx:idx + twin], _data[iseg+1, :]], axis = 0)\n",
      "WARNING:root:No stream returned. Skipping.\n"
     ]
    },
    {
     "name": "stdout",
     "output_type": "stream",
     "text": [
      "['7D', 'FS12B', UTCDateTime(2012, 10, 30, 0, 0)]\n"
     ]
    },
    {
     "name": "stderr",
     "output_type": "stream",
     "text": [
      "WARNING:root:No stream returned. Skipping.\n"
     ]
    },
    {
     "name": "stdout",
     "output_type": "stream",
     "text": [
      "['7D', 'FN05A', UTCDateTime(2012, 10, 7, 0, 0)]\n",
      "['Z5', 'GB260', UTCDateTime(2012, 10, 15, 0, 0)]\n",
      "[                                        ] | 0% Completed | 11m 22s"
     ]
    },
    {
     "name": "stderr",
     "output_type": "stream",
     "text": [
      "WARNING:root:No stream returned. Skipping.\n"
     ]
    },
    {
     "name": "stdout",
     "output_type": "stream",
     "text": [
      "['TA', 'J01D', UTCDateTime(2012, 10, 8, 0, 0)]\n"
     ]
    },
    {
     "name": "stderr",
     "output_type": "stream",
     "text": [
      "WARNING:root:No stream returned. Skipping.\n"
     ]
    },
    {
     "name": "stdout",
     "output_type": "stream",
     "text": [
      "['7D', 'J19B', UTCDateTime(2012, 10, 3, 0, 0)]\n",
      "['NC', 'KRP', UTCDateTime(2012, 10, 25, 0, 0)]\n",
      "['7D', 'J25C', UTCDateTime(2012, 10, 10, 0, 0)]\n",
      "[                                        ] | 0% Completed | 11m 22s"
     ]
    },
    {
     "name": "stderr",
     "output_type": "stream",
     "text": [
      "WARNING:root:No stream returned. Skipping.\n",
      "WARNING:root:No stream returned. Skipping.\n"
     ]
    },
    {
     "name": "stdout",
     "output_type": "stream",
     "text": [
      "['X6', '02', UTCDateTime(2012, 10, 24, 0, 0)]\n",
      "['CN', 'CLRS', UTCDateTime(2012, 10, 17, 0, 0)]\n"
     ]
    },
    {
     "name": "stderr",
     "output_type": "stream",
     "text": [
      "WARNING:root:No stream returned. Skipping.\n"
     ]
    },
    {
     "name": "stdout",
     "output_type": "stream",
     "text": [
      "['X6', '63', UTCDateTime(2012, 10, 29, 0, 0)]\n",
      "\r",
      "[                                        ] | 0% Completed | 11m 23s"
     ]
    },
    {
     "name": "stderr",
     "output_type": "stream",
     "text": [
      "WARNING:root:No stream returned. Skipping.\n"
     ]
    },
    {
     "name": "stdout",
     "output_type": "stream",
     "text": [
      "['7D', 'G02B', UTCDateTime(2012, 10, 8, 0, 0)]\n",
      "['PB', 'B011', UTCDateTime(2012, 10, 11, 0, 0)]\n",
      "[                                        ] | 0% Completed | 11m 23s"
     ]
    },
    {
     "name": "stderr",
     "output_type": "stream",
     "text": [
      "WARNING:root:No stream returned. Skipping.\n",
      "WARNING:root:No stream returned. Skipping.\n"
     ]
    },
    {
     "name": "stdout",
     "output_type": "stream",
     "text": [
      "['X6', '52', UTCDateTime(2012, 10, 13, 0, 0)]\n",
      "['7D', 'FS04B', UTCDateTime(2012, 10, 24, 0, 0)]\n",
      "[                                        ] | 0% Completed | 11m 54sAll prediction shape: (2, 5, 3598, 6000)\n",
      "[                                        ] | 0% Completed | 16m 6ss"
     ]
    },
    {
     "name": "stderr",
     "output_type": "stream",
     "text": [
      "/tmp/ipykernel_4159830/2319557713.py:13: RuntimeWarning: All-NaN axis encountered\n",
      "  np.nanmax([stack[idx:idx + twin], _data[iseg+1, :]], axis = 0)\n"
     ]
    },
    {
     "name": "stdout",
     "output_type": "stream",
     "text": [
      "364 P picks\n",
      "445 S picks\n",
      "['UW', 'KMO', UTCDateTime(2012, 10, 1, 0, 0)]\n",
      "[                                        ] | 0% Completed | 16m 6s"
     ]
    },
    {
     "name": "stderr",
     "output_type": "stream",
     "text": [
      "WARNING:root:No stream returned. Skipping.\n"
     ]
    },
    {
     "name": "stdout",
     "output_type": "stream",
     "text": [
      "['7D', 'G17D', UTCDateTime(2012, 10, 21, 0, 0)]\n",
      "[                                        ] | 0% Completed | 16m 7s"
     ]
    },
    {
     "name": "stderr",
     "output_type": "stream",
     "text": [
      "WARNING:root:No stream returned. Skipping.\n",
      "WARNING:root:No stream returned. Skipping.\n"
     ]
    },
    {
     "name": "stdout",
     "output_type": "stream",
     "text": [
      "['7D', 'FS09D', UTCDateTime(2012, 10, 9, 0, 0)]\n",
      "['C8', 'PA01', UTCDateTime(2012, 10, 27, 0, 0)]\n",
      "[                                        ] | 0% Completed | 16m 7s"
     ]
    },
    {
     "name": "stderr",
     "output_type": "stream",
     "text": [
      "WARNING:root:No stream returned. Skipping.\n",
      "WARNING:root:No stream returned. Skipping.\n"
     ]
    },
    {
     "name": "stdout",
     "output_type": "stream",
     "text": [
      "['7D', 'G03D', UTCDateTime(2012, 10, 21, 0, 0)]\n",
      "['PB', 'B005', UTCDateTime(2012, 10, 7, 0, 0)]\n",
      "[                                        ] | 0% Completed | 16m 7s"
     ]
    },
    {
     "name": "stderr",
     "output_type": "stream",
     "text": [
      "WARNING:root:No stream returned. Skipping.\n",
      "WARNING:root:No stream returned. Skipping.\n"
     ]
    },
    {
     "name": "stdout",
     "output_type": "stream",
     "text": [
      "['CN', 'SNB', UTCDateTime(2012, 10, 15, 0, 0)]\n",
      "['7D', 'M15D', UTCDateTime(2012, 10, 14, 0, 0)]\n",
      "[                                        ] | 0% Completed | 16m 7s"
     ]
    },
    {
     "name": "stderr",
     "output_type": "stream",
     "text": [
      "WARNING:root:No stream returned. Skipping.\n",
      "WARNING:root:No stream returned. Skipping.\n"
     ]
    },
    {
     "name": "stdout",
     "output_type": "stream",
     "text": [
      "['UW', 'TOLO', UTCDateTime(2012, 10, 4, 0, 0)]\n"
     ]
    },
    {
     "name": "stderr",
     "output_type": "stream",
     "text": [
      "WARNING:root:No stream returned. Skipping.\n"
     ]
    },
    {
     "name": "stdout",
     "output_type": "stream",
     "text": [
      "['UW', 'EYES', UTCDateTime(2012, 10, 9, 0, 0)]\n",
      "['C8', 'PA03', UTCDateTime(2012, 10, 18, 0, 0)]\n",
      "[                                        ] | 0% Completed | 16m 8s"
     ]
    },
    {
     "name": "stderr",
     "output_type": "stream",
     "text": [
      "WARNING:root:No stream returned. Skipping.\n"
     ]
    },
    {
     "name": "stdout",
     "output_type": "stream",
     "text": [
      "['7D', 'FS13D', UTCDateTime(2012, 10, 1, 0, 0)]\n"
     ]
    },
    {
     "name": "stderr",
     "output_type": "stream",
     "text": [
      "WARNING:root:No stream returned. Skipping.\n"
     ]
    },
    {
     "name": "stdout",
     "output_type": "stream",
     "text": [
      "['Z5', 'GB321', UTCDateTime(2012, 10, 2, 0, 0)]\n",
      "[                                        ] | 0% Completed | 16m 8s"
     ]
    },
    {
     "name": "stderr",
     "output_type": "stream",
     "text": [
      "WARNING:root:No stream returned. Skipping.\n"
     ]
    },
    {
     "name": "stdout",
     "output_type": "stream",
     "text": [
      "['7D', 'FN06A', UTCDateTime(2012, 10, 19, 0, 0)]\n"
     ]
    },
    {
     "name": "stderr",
     "output_type": "stream",
     "text": [
      "WARNING:root:No stream returned. Skipping.\n"
     ]
    },
    {
     "name": "stdout",
     "output_type": "stream",
     "text": [
      "['UW', 'OHC', UTCDateTime(2012, 10, 7, 0, 0)]\n",
      "[                                        ] | 0% Completed | 16m 8s"
     ]
    },
    {
     "name": "stderr",
     "output_type": "stream",
     "text": [
      "WARNING:root:No stream returned. Skipping.\n"
     ]
    },
    {
     "name": "stdout",
     "output_type": "stream",
     "text": [
      "['NV', 'NCBC', UTCDateTime(2012, 10, 31, 0, 0)]\n",
      "[                                        ] | 0% Completed | 16m 9s['7D', 'G04B', UTCDateTime(2012, 10, 3, 0, 0)]\n",
      "['UW', 'RADR', UTCDateTime(2012, 10, 15, 0, 0)]\n",
      "[                                        ] | 0% Completed | 16m 9s"
     ]
    },
    {
     "name": "stderr",
     "output_type": "stream",
     "text": [
      "/home/jupyter_share/miniconda3/envs/seismo/lib/python3.9/site-packages/obspy/core/stream.py:3037: UserWarning: Incompatible traces (sampling_rate, dtype, ...) with same id detected. Doing nothing.\n",
      "  warnings.warn(msg)\n"
     ]
    },
    {
     "name": "stdout",
     "output_type": "stream",
     "text": [
      "[                                        ] | 0% Completed | 16m 15sAll prediction shape: (2, 5, 1151, 6000)\n",
      "[                                        ] | 0% Completed | 16m 52s1 P picks\n",
      "7 S picks\n",
      "['UW', 'CABL', UTCDateTime(2012, 10, 17, 0, 0)]\n",
      "[                                        ] | 0% Completed | 16m 52s"
     ]
    },
    {
     "name": "stderr",
     "output_type": "stream",
     "text": [
      "/tmp/ipykernel_4159830/2319557713.py:13: RuntimeWarning: All-NaN axis encountered\n",
      "  np.nanmax([stack[idx:idx + twin], _data[iseg+1, :]], axis = 0)\n",
      "WARNING:root:No stream returned. Skipping.\n"
     ]
    },
    {
     "name": "stdout",
     "output_type": "stream",
     "text": [
      "['CN', 'SHB', UTCDateTime(2012, 10, 5, 0, 0)]\n",
      "[                                        ] | 0% Completed | 16m 58sAll prediction shape: (2, 5, 1151, 6000)\n",
      "[                                        ] | 0% Completed | 17m 34s9 P picks\n",
      "7 S picks\n",
      "['X6', 'S23', UTCDateTime(2012, 10, 23, 0, 0)]\n",
      "[                                        ] | 0% Completed | 17m 34s"
     ]
    },
    {
     "name": "stderr",
     "output_type": "stream",
     "text": [
      "/tmp/ipykernel_4159830/2319557713.py:13: RuntimeWarning: All-NaN axis encountered\n",
      "  np.nanmax([stack[idx:idx + twin], _data[iseg+1, :]], axis = 0)\n",
      "WARNING:root:No stream returned. Skipping.\n",
      "WARNING:root:No stream returned. Skipping.\n"
     ]
    },
    {
     "name": "stdout",
     "output_type": "stream",
     "text": [
      "['7D', 'FC03D', UTCDateTime(2012, 10, 30, 0, 0)]\n",
      "['CN', 'PGC', UTCDateTime(2012, 10, 25, 0, 0)]\n",
      "[                                        ] | 0% Completed | 17m 40sAll prediction shape: (2, 5, 1151, 6000)\n",
      "[                                        ] | 0% Completed | 18m 16s27 P picks\n",
      "36 S picks\n",
      "['7D', 'G04D', UTCDateTime(2012, 10, 16, 0, 0)]\n",
      "[                                        ] | 0% Completed | 18m 16s"
     ]
    },
    {
     "name": "stderr",
     "output_type": "stream",
     "text": [
      "/tmp/ipykernel_4159830/2319557713.py:13: RuntimeWarning: All-NaN axis encountered\n",
      "  np.nanmax([stack[idx:idx + twin], _data[iseg+1, :]], axis = 0)\n",
      "WARNING:root:No stream returned. Skipping.\n",
      "WARNING:root:No stream returned. Skipping.\n"
     ]
    },
    {
     "name": "stdout",
     "output_type": "stream",
     "text": [
      "['7D', 'FN12A', UTCDateTime(2012, 10, 14, 0, 0)]\n",
      "['CN', 'NLLB', UTCDateTime(2012, 10, 31, 0, 0)]\n",
      "['UW', 'JEDS', UTCDateTime(2012, 10, 29, 0, 0)]\n",
      "['UW', 'FISH', UTCDateTime(2012, 10, 29, 0, 0)]\n",
      "[                                        ] | 0% Completed | 18m 17sAll prediction shape: (2, 5, 36, 6000)\n",
      "[                                        ] | 0% Completed | 18m 18s1 P picks\n",
      "1 S picks\n",
      "['NC', 'KJJ', UTCDateTime(2012, 10, 31, 0, 0)]\n",
      "[                                        ] | 0% Completed | 18m 18s"
     ]
    },
    {
     "name": "stderr",
     "output_type": "stream",
     "text": [
      "/tmp/ipykernel_4159830/2319557713.py:13: RuntimeWarning: All-NaN axis encountered\n",
      "  np.nanmax([stack[idx:idx + twin], _data[iseg+1, :]], axis = 0)\n"
     ]
    },
    {
     "name": "stdout",
     "output_type": "stream",
     "text": [
      "[                                        ] | 0% Completed | 18m 19sWARNING: No data for NC.KJJ.?H? on 2012-10-31T00:00:00.000000Z.\n",
      "['UW', 'MKAH', UTCDateTime(2012, 10, 9, 0, 0)]\n",
      "[                                        ] | 0% Completed | 18m 19s"
     ]
    },
    {
     "name": "stderr",
     "output_type": "stream",
     "text": [
      "WARNING:root:No stream returned. Skipping.\n"
     ]
    },
    {
     "name": "stdout",
     "output_type": "stream",
     "text": [
      "['UW', 'RADR', UTCDateTime(2012, 10, 10, 0, 0)]\n",
      "[                                        ] | 0% Completed | 18m 25sAll prediction shape: (2, 5, 1151, 6000)\n",
      "[                                        ] | 0% Completed | 19m 1ss8 P picks\n",
      "7 S picks\n",
      "['7D', 'FS12D', UTCDateTime(2012, 10, 17, 0, 0)]\n",
      "[                                        ] | 0% Completed | 19m 1s"
     ]
    },
    {
     "name": "stderr",
     "output_type": "stream",
     "text": [
      "/tmp/ipykernel_4159830/2319557713.py:13: RuntimeWarning: All-NaN axis encountered\n",
      "  np.nanmax([stack[idx:idx + twin], _data[iseg+1, :]], axis = 0)\n",
      "WARNING:root:No stream returned. Skipping.\n"
     ]
    },
    {
     "name": "stdout",
     "output_type": "stream",
     "text": [
      "['PB', 'B007', UTCDateTime(2012, 10, 5, 0, 0)]\n",
      "[                                        ] | 0% Completed | 19m 1s"
     ]
    },
    {
     "name": "stderr",
     "output_type": "stream",
     "text": [
      "WARNING:root:No stream returned. Skipping.\n"
     ]
    },
    {
     "name": "stdout",
     "output_type": "stream",
     "text": [
      "['UW', 'YACH', UTCDateTime(2012, 10, 18, 0, 0)]\n",
      "[                                        ] | 0% Completed | 19m 1s"
     ]
    },
    {
     "name": "stderr",
     "output_type": "stream",
     "text": [
      "WARNING:root:No stream returned. Skipping.\n",
      "WARNING:root:No stream returned. Skipping.\n"
     ]
    },
    {
     "name": "stdout",
     "output_type": "stream",
     "text": [
      "['7D', 'J25C', UTCDateTime(2012, 10, 14, 0, 0)]\n",
      "['PB', 'B933', UTCDateTime(2012, 10, 25, 0, 0)]\n",
      "[                                        ] | 0% Completed | 19m 2s"
     ]
    },
    {
     "name": "stderr",
     "output_type": "stream",
     "text": [
      "WARNING:root:No stream returned. Skipping.\n",
      "WARNING:root:No stream returned. Skipping.\n"
     ]
    },
    {
     "name": "stdout",
     "output_type": "stream",
     "text": [
      "['7D', 'M08C', UTCDateTime(2012, 10, 27, 0, 0)]\n",
      "['X6', '11', UTCDateTime(2012, 10, 29, 0, 0)]\n",
      "[                                        ] | 0% Completed | 19m 2s"
     ]
    },
    {
     "name": "stderr",
     "output_type": "stream",
     "text": [
      "WARNING:root:No stream returned. Skipping.\n"
     ]
    },
    {
     "name": "stdout",
     "output_type": "stream",
     "text": [
      "['PB', 'B046', UTCDateTime(2012, 10, 9, 0, 0)]\n",
      "[                                        ] | 0% Completed | 19m 2s"
     ]
    },
    {
     "name": "stderr",
     "output_type": "stream",
     "text": [
      "WARNING:root:No stream returned. Skipping.\n",
      "WARNING:root:No stream returned. Skipping.\n"
     ]
    },
    {
     "name": "stdout",
     "output_type": "stream",
     "text": [
      "['UW', 'FLRE', UTCDateTime(2012, 10, 16, 0, 0)]\n",
      "['Z5', 'GB321', UTCDateTime(2012, 10, 5, 0, 0)]\n",
      "[                                        ] | 0% Completed | 19m 2s"
     ]
    },
    {
     "name": "stderr",
     "output_type": "stream",
     "text": [
      "WARNING:root:No stream returned. Skipping.\n",
      "WARNING:root:No stream returned. Skipping.\n"
     ]
    },
    {
     "name": "stdout",
     "output_type": "stream",
     "text": [
      "['7D', 'FN09C', UTCDateTime(2012, 10, 5, 0, 0)]\n",
      "['X6', '39', UTCDateTime(2012, 10, 28, 0, 0)]\n",
      "[                                        ] | 0% Completed | 19m 2s"
     ]
    },
    {
     "name": "stderr",
     "output_type": "stream",
     "text": [
      "WARNING:root:No stream returned. Skipping.\n"
     ]
    },
    {
     "name": "stdout",
     "output_type": "stream",
     "text": [
      "['CN', 'OZB', UTCDateTime(2012, 10, 25, 0, 0)]\n",
      "['TA', 'I02E', UTCDateTime(2012, 10, 11, 0, 0)]\n"
     ]
    },
    {
     "name": "stderr",
     "output_type": "stream",
     "text": [
      "WARNING:root:No stream returned. Skipping.\n"
     ]
    },
    {
     "name": "stdout",
     "output_type": "stream",
     "text": [
      "['7D', 'G36B2', UTCDateTime(2012, 10, 25, 0, 0)]\n",
      "['UW', 'CPW', UTCDateTime(2012, 10, 21, 0, 0)]\n",
      "[                                        ] | 0% Completed | 19m 2s"
     ]
    },
    {
     "name": "stderr",
     "output_type": "stream",
     "text": [
      "WARNING:root:No stream returned. Skipping.\n"
     ]
    },
    {
     "name": "stdout",
     "output_type": "stream",
     "text": [
      "['7D', 'FS09B', UTCDateTime(2012, 10, 7, 0, 0)]\n",
      "[                                        ] | 0% Completed | 19m 11sAll prediction shape: (2, 5, 1439, 6000)\n",
      "[                                        ] | 0% Completed | 20m 2ss151 P picks\n",
      "118 S picks\n"
     ]
    },
    {
     "name": "stderr",
     "output_type": "stream",
     "text": [
      "/tmp/ipykernel_4159830/2319557713.py:13: RuntimeWarning: All-NaN axis encountered\n",
      "  np.nanmax([stack[idx:idx + twin], _data[iseg+1, :]], axis = 0)\n",
      "WARNING:root:No stream returned. Skipping.\n"
     ]
    },
    {
     "name": "stdout",
     "output_type": "stream",
     "text": [
      "['7D', 'FN05C', UTCDateTime(2012, 10, 11, 0, 0)]\n",
      "['Z5', 'GS090', UTCDateTime(2012, 10, 30, 0, 0)]\n",
      "[                                        ] | 0% Completed | 20m 2s"
     ]
    },
    {
     "name": "stderr",
     "output_type": "stream",
     "text": [
      "WARNING:root:No stream returned. Skipping.\n",
      "WARNING:root:No stream returned. Skipping.\n"
     ]
    },
    {
     "name": "stdout",
     "output_type": "stream",
     "text": [
      "['7D', 'M01C', UTCDateTime(2012, 10, 15, 0, 0)]\n",
      "['UW', 'RRHS', UTCDateTime(2012, 10, 21, 0, 0)]\n",
      "[                                        ] | 0% Completed | 20m 3s"
     ]
    },
    {
     "name": "stderr",
     "output_type": "stream",
     "text": [
      "WARNING:root:No stream returned. Skipping.\n",
      "WARNING:root:No stream returned. Skipping.\n"
     ]
    },
    {
     "name": "stdout",
     "output_type": "stream",
     "text": [
      "['UW', 'SEAS', UTCDateTime(2012, 10, 31, 0, 0)]\n",
      "['X6', '39', UTCDateTime(2012, 10, 16, 0, 0)]\n",
      "[                                        ] | 0% Completed | 20m 3s"
     ]
    },
    {
     "name": "stderr",
     "output_type": "stream",
     "text": [
      "WARNING:root:No stream returned. Skipping.\n"
     ]
    },
    {
     "name": "stdout",
     "output_type": "stream",
     "text": [
      "['CN', 'VGZ', UTCDateTime(2012, 10, 26, 0, 0)]\n",
      "[                                        ] | 0% Completed | 20m 27sAll prediction shape: (2, 5, 2879, 6000)\n",
      "[                                        ] | 0% Completed | 23m 17s12 P picks\n",
      "7 S picks\n",
      "['PB', 'B935', UTCDateTime(2012, 10, 13, 0, 0)]\n",
      "[                                        ] | 0% Completed | 23m 17s"
     ]
    },
    {
     "name": "stderr",
     "output_type": "stream",
     "text": [
      "/tmp/ipykernel_4159830/2319557713.py:13: RuntimeWarning: All-NaN axis encountered\n",
      "  np.nanmax([stack[idx:idx + twin], _data[iseg+1, :]], axis = 0)\n"
     ]
    },
    {
     "name": "stdout",
     "output_type": "stream",
     "text": [
      "[                                        ] | 0% Completed | 23m 17s"
     ]
    },
    {
     "name": "stderr",
     "output_type": "stream",
     "text": [
      "WARNING:root:No stream returned. Skipping.\n",
      "WARNING:root:No stream returned. Skipping.\n"
     ]
    },
    {
     "name": "stdout",
     "output_type": "stream",
     "text": [
      "['CN', 'BMSB', UTCDateTime(2012, 10, 15, 0, 0)]\n",
      "['NC', 'KCR', UTCDateTime(2012, 10, 19, 0, 0)]\n",
      "[                                        ] | 0% Completed | 23m 20s"
     ]
    },
    {
     "name": "stderr",
     "output_type": "stream",
     "text": [
      "WARNING:root:No stream returned. Skipping.\n"
     ]
    },
    {
     "name": "stdout",
     "output_type": "stream",
     "text": [
      "['X6', 'S59', UTCDateTime(2012, 10, 20, 0, 0)]\n",
      "\r",
      "[                                        ] | 0% Completed | 23m 20s"
     ]
    },
    {
     "name": "stderr",
     "output_type": "stream",
     "text": [
      "WARNING:root:No stream returned. Skipping.\n",
      "WARNING:root:No stream returned. Skipping.\n"
     ]
    },
    {
     "name": "stdout",
     "output_type": "stream",
     "text": [
      "['7D', 'J27D', UTCDateTime(2012, 10, 22, 0, 0)]\n",
      "['PB', 'B935', UTCDateTime(2012, 10, 17, 0, 0)]\n",
      "[                                        ] | 0% Completed | 23m 21s"
     ]
    },
    {
     "name": "stderr",
     "output_type": "stream",
     "text": [
      "WARNING:root:No stream returned. Skipping.\n",
      "WARNING:root:No stream returned. Skipping.\n"
     ]
    },
    {
     "name": "stdout",
     "output_type": "stream",
     "text": [
      "['X6', 'S57', UTCDateTime(2012, 10, 4, 0, 0)]\n",
      "['NC', 'KTR', UTCDateTime(2012, 10, 13, 0, 0)]\n",
      "[                                        ] | 0% Completed | 23m 23s"
     ]
    },
    {
     "name": "stderr",
     "output_type": "stream",
     "text": [
      "WARNING:root:No stream returned. Skipping.\n"
     ]
    },
    {
     "name": "stdout",
     "output_type": "stream",
     "text": [
      "['7D', 'FS43D', UTCDateTime(2012, 10, 28, 0, 0)]\n",
      "\r",
      "[                                        ] | 0% Completed | 23m 23s"
     ]
    },
    {
     "name": "stderr",
     "output_type": "stream",
     "text": [
      "WARNING:root:No stream returned. Skipping.\n",
      "WARNING:root:No stream returned. Skipping.\n"
     ]
    },
    {
     "name": "stdout",
     "output_type": "stream",
     "text": [
      "['7A', 'W06', UTCDateTime(2012, 10, 1, 0, 0)]\n"
     ]
    },
    {
     "name": "stderr",
     "output_type": "stream",
     "text": [
      "WARNING:root:No stream returned. Skipping.\n"
     ]
    },
    {
     "name": "stdout",
     "output_type": "stream",
     "text": [
      "['7D', 'J41C', UTCDateTime(2012, 10, 29, 0, 0)]\n",
      "['X6', 'S06', UTCDateTime(2012, 10, 27, 0, 0)]\n",
      "[                                        ] | 0% Completed | 23m 24s"
     ]
    },
    {
     "name": "stderr",
     "output_type": "stream",
     "text": [
      "WARNING:root:No stream returned. Skipping.\n"
     ]
    },
    {
     "name": "stdout",
     "output_type": "stream",
     "text": [
      "['7D', 'FN18C', UTCDateTime(2012, 10, 28, 0, 0)]\n"
     ]
    },
    {
     "name": "stderr",
     "output_type": "stream",
     "text": [
      "WARNING:root:No stream returned. Skipping.\n"
     ]
    },
    {
     "name": "stdout",
     "output_type": "stream",
     "text": [
      "['CN', 'MGB', UTCDateTime(2012, 10, 31, 0, 0)]\n",
      "[                                        ] | 0% Completed | 23m 47sAll prediction shape: (2, 5, 2879, 6000)\n",
      "[                                        ] | 0% Completed | 26m 37s40 P picks\n",
      "145 S picks\n",
      "['7D', 'FS09D', UTCDateTime(2012, 10, 10, 0, 0)]\n",
      "[                                        ] | 0% Completed | 26m 37s"
     ]
    },
    {
     "name": "stderr",
     "output_type": "stream",
     "text": [
      "/tmp/ipykernel_4159830/2319557713.py:13: RuntimeWarning: All-NaN axis encountered\n",
      "  np.nanmax([stack[idx:idx + twin], _data[iseg+1, :]], axis = 0)\n"
     ]
    },
    {
     "name": "stdout",
     "output_type": "stream",
     "text": [
      "\r",
      "[                                        ] | 0% Completed | 26m 37s"
     ]
    },
    {
     "name": "stderr",
     "output_type": "stream",
     "text": [
      "WARNING:root:No stream returned. Skipping.\n"
     ]
    },
    {
     "name": "stdout",
     "output_type": "stream",
     "text": [
      "['OO', 'HYS14', UTCDateTime(2012, 10, 3, 0, 0)]\n",
      "[                                        ] | 0% Completed | 26m 37s"
     ]
    },
    {
     "name": "stderr",
     "output_type": "stream",
     "text": [
      "WARNING:root:No stream returned. Skipping.\n",
      "WARNING:root:No stream returned. Skipping.\n"
     ]
    },
    {
     "name": "stdout",
     "output_type": "stream",
     "text": [
      "['C8', 'BPCB', UTCDateTime(2012, 10, 17, 0, 0)]\n"
     ]
    },
    {
     "name": "stderr",
     "output_type": "stream",
     "text": [
      "WARNING:root:No stream returned. Skipping.\n"
     ]
    },
    {
     "name": "stdout",
     "output_type": "stream",
     "text": [
      "['X6', '56', UTCDateTime(2012, 10, 9, 0, 0)]\n",
      "['7D', 'J65A', UTCDateTime(2012, 10, 29, 0, 0)]\n",
      "[                                        ] | 0% Completed | 26m 37s"
     ]
    },
    {
     "name": "stderr",
     "output_type": "stream",
     "text": [
      "WARNING:root:No stream returned. Skipping.\n"
     ]
    },
    {
     "name": "stdout",
     "output_type": "stream",
     "text": [
      "['PB', 'B031', UTCDateTime(2012, 10, 29, 0, 0)]\n",
      "[                                        ] | 0% Completed | 26m 38s"
     ]
    },
    {
     "name": "stderr",
     "output_type": "stream",
     "text": [
      "WARNING:root:No stream returned. Skipping.\n",
      "WARNING:root:No stream returned. Skipping.\n"
     ]
    },
    {
     "name": "stdout",
     "output_type": "stream",
     "text": [
      "['7D', 'FS12D', UTCDateTime(2012, 10, 23, 0, 0)]\n",
      "['X6', '11', UTCDateTime(2012, 10, 7, 0, 0)]\n",
      "[                                        ] | 0% Completed | 26m 38s"
     ]
    },
    {
     "name": "stderr",
     "output_type": "stream",
     "text": [
      "WARNING:root:No stream returned. Skipping.\n"
     ]
    },
    {
     "name": "stdout",
     "output_type": "stream",
     "text": [
      "['7D', 'J11B', UTCDateTime(2012, 10, 10, 0, 0)]\n",
      "['NC', 'KMR', UTCDateTime(2012, 10, 28, 0, 0)]\n",
      "[                                        ] | 0% Completed | 27m 2ssAll prediction shape: (2, 5, 2879, 6000)\n",
      "[                                        ] | 0% Completed | 29m 51s60 P picks\n",
      "57 S picks\n",
      "['CN', 'PGC', UTCDateTime(2012, 10, 21, 0, 0)]\n",
      "[                                        ] | 0% Completed | 29m 51s"
     ]
    },
    {
     "name": "stderr",
     "output_type": "stream",
     "text": [
      "/tmp/ipykernel_4159830/2319557713.py:13: RuntimeWarning: All-NaN axis encountered\n",
      "  np.nanmax([stack[idx:idx + twin], _data[iseg+1, :]], axis = 0)\n"
     ]
    },
    {
     "name": "stdout",
     "output_type": "stream",
     "text": [
      "[                                        ] | 0% Completed | 29m 58sAll prediction shape: (2, 5, 1151, 6000)\n",
      "[                                        ] | 0% Completed | 30m 34s31 P picks\n",
      "26 S picks\n",
      "['7D', 'FS11B', UTCDateTime(2012, 10, 17, 0, 0)]\n",
      "[                                        ] | 0% Completed | 30m 35s"
     ]
    },
    {
     "name": "stderr",
     "output_type": "stream",
     "text": [
      "/tmp/ipykernel_4159830/2319557713.py:13: RuntimeWarning: All-NaN axis encountered\n",
      "  np.nanmax([stack[idx:idx + twin], _data[iseg+1, :]], axis = 0)\n"
     ]
    },
    {
     "name": "stdout",
     "output_type": "stream",
     "text": [
      "[                                        ] | 0% Completed | 31m 4ssAll prediction shape: (2, 5, 3599, 6000)\n",
      "[                                        ] | 0% Completed | 35m 15s333 P picks\n",
      "226 S picks\n",
      "['7D', 'J41C', UTCDateTime(2012, 10, 22, 0, 0)]\n",
      "[                                        ] | 0% Completed | 35m 15s"
     ]
    },
    {
     "name": "stderr",
     "output_type": "stream",
     "text": [
      "/tmp/ipykernel_4159830/2319557713.py:13: RuntimeWarning: All-NaN axis encountered\n",
      "  np.nanmax([stack[idx:idx + twin], _data[iseg+1, :]], axis = 0)\n"
     ]
    },
    {
     "name": "stdout",
     "output_type": "stream",
     "text": [
      "\r",
      "[                                        ] | 0% Completed | 35m 15s"
     ]
    },
    {
     "name": "stderr",
     "output_type": "stream",
     "text": [
      "WARNING:root:No stream returned. Skipping.\n",
      "WARNING:root:No stream returned. Skipping.\n"
     ]
    },
    {
     "name": "stdout",
     "output_type": "stream",
     "text": [
      "['7D', 'M02C', UTCDateTime(2012, 10, 21, 0, 0)]\n",
      "['7D', 'FS03B', UTCDateTime(2012, 10, 1, 0, 0)]\n",
      "[                                        ] | 0% Completed | 35m 20s"
     ]
    },
    {
     "name": "stderr",
     "output_type": "stream",
     "text": [
      "/tmp/ipykernel_4159830/3071801657.py:124: RuntimeWarning: invalid value encountered in divide\n",
      "  windows_max[iseg, :] = windows[iseg, :] / (np.max(np.abs(windows[iseg, :]), axis=-1, keepdims=True))\n"
     ]
    },
    {
     "name": "stdout",
     "output_type": "stream",
     "text": [
      "[                                        ] | 0% Completed | 35m 45sAll prediction shape: (2, 5, 3599, 6000)\n",
      "[                                        ] | 0% Completed | 39m 57s"
     ]
    },
    {
     "name": "stderr",
     "output_type": "stream",
     "text": [
      "/tmp/ipykernel_4159830/2319557713.py:13: RuntimeWarning: All-NaN axis encountered\n",
      "  np.nanmax([stack[idx:idx + twin], _data[iseg+1, :]], axis = 0)\n"
     ]
    },
    {
     "name": "stdout",
     "output_type": "stream",
     "text": [
      "0 P picks\n",
      "0 S picks\n",
      "['7D', 'J11D', UTCDateTime(2012, 10, 22, 0, 0)]\n",
      "[                                        ] | 0% Completed | 39m 57s"
     ]
    },
    {
     "name": "stderr",
     "output_type": "stream",
     "text": [
      "WARNING:root:No stream returned. Skipping.\n"
     ]
    },
    {
     "name": "stdout",
     "output_type": "stream",
     "text": [
      "['NC', 'KEB', UTCDateTime(2012, 10, 28, 0, 0)]\n",
      "[                                        ] | 0% Completed | 40m 26sAll prediction shape: (2, 5, 2879, 6000)\n",
      "[                                        ] | 0% Completed | 43m 15s210 P picks\n",
      "33 S picks\n",
      "['7D', 'J58C', UTCDateTime(2012, 10, 6, 0, 0)]\n",
      "[                                        ] | 0% Completed | 43m 16s"
     ]
    },
    {
     "name": "stderr",
     "output_type": "stream",
     "text": [
      "/tmp/ipykernel_4159830/2319557713.py:13: RuntimeWarning: All-NaN axis encountered\n",
      "  np.nanmax([stack[idx:idx + twin], _data[iseg+1, :]], axis = 0)\n",
      "WARNING:root:No stream returned. Skipping.\n"
     ]
    },
    {
     "name": "stdout",
     "output_type": "stream",
     "text": [
      "['PB', 'B020', UTCDateTime(2012, 10, 1, 0, 0)]\n",
      "[                                        ] | 0% Completed | 43m 16s"
     ]
    },
    {
     "name": "stderr",
     "output_type": "stream",
     "text": [
      "WARNING:root:No stream returned. Skipping.\n"
     ]
    },
    {
     "name": "stdout",
     "output_type": "stream",
     "text": [
      "['7D', 'J25B', UTCDateTime(2012, 10, 1, 0, 0)]\n",
      "[                                        ] | 0% Completed | 43m 47sAll prediction shape: (2, 5, 3598, 6000)\n",
      "[                                        ] | 0% Completed | 48m 2ss"
     ]
    },
    {
     "name": "stderr",
     "output_type": "stream",
     "text": [
      "/tmp/ipykernel_4159830/2319557713.py:13: RuntimeWarning: All-NaN axis encountered\n",
      "  np.nanmax([stack[idx:idx + twin], _data[iseg+1, :]], axis = 0)\n"
     ]
    },
    {
     "name": "stdout",
     "output_type": "stream",
     "text": [
      "458 P picks\n",
      "582 S picks\n",
      "['7D', 'M07A', UTCDateTime(2012, 10, 4, 0, 0)]\n",
      "[                                        ] | 0% Completed | 48m 3s"
     ]
    },
    {
     "name": "stderr",
     "output_type": "stream",
     "text": [
      "WARNING:root:No stream returned. Skipping.\n"
     ]
    },
    {
     "name": "stdout",
     "output_type": "stream",
     "text": [
      "['NC', 'KCT', UTCDateTime(2012, 10, 26, 0, 0)]\n",
      "[                                        ] | 0% Completed | 48m 27sAll prediction shape: (2, 5, 2879, 6000)\n",
      "[                                        ] | 0% Completed | 51m 16s57 P picks\n",
      "61 S picks\n",
      "[                                        ] | 0% Completed | 51m 16s"
     ]
    },
    {
     "name": "stderr",
     "output_type": "stream",
     "text": [
      "/tmp/ipykernel_4159830/2319557713.py:13: RuntimeWarning: All-NaN axis encountered\n",
      "  np.nanmax([stack[idx:idx + twin], _data[iseg+1, :]], axis = 0)\n",
      "WARNING:root:No stream returned. Skipping.\n"
     ]
    },
    {
     "name": "stdout",
     "output_type": "stream",
     "text": [
      "['7D', 'FS04D', UTCDateTime(2012, 10, 9, 0, 0)]\n"
     ]
    },
    {
     "name": "stderr",
     "output_type": "stream",
     "text": [
      "WARNING:root:No stream returned. Skipping.\n"
     ]
    },
    {
     "name": "stdout",
     "output_type": "stream",
     "text": [
      "['X6', '64', UTCDateTime(2012, 10, 18, 0, 0)]\n",
      "['UW', 'NEWO', UTCDateTime(2012, 10, 7, 0, 0)]\n",
      "[                                        ] | 0% Completed | 51m 16s"
     ]
    },
    {
     "name": "stderr",
     "output_type": "stream",
     "text": [
      "WARNING:root:No stream returned. Skipping.\n",
      "WARNING:root:No stream returned. Skipping.\n"
     ]
    },
    {
     "name": "stdout",
     "output_type": "stream",
     "text": [
      "['7D', 'J57A', UTCDateTime(2012, 10, 18, 0, 0)]\n",
      "['7D', 'J17D', UTCDateTime(2012, 10, 17, 0, 0)]\n",
      "[                                        ] | 0% Completed | 51m 17s"
     ]
    },
    {
     "name": "stderr",
     "output_type": "stream",
     "text": [
      "WARNING:root:No stream returned. Skipping.\n"
     ]
    },
    {
     "name": "stdout",
     "output_type": "stream",
     "text": [
      "['X6', 'S04', UTCDateTime(2012, 10, 4, 0, 0)]\n"
     ]
    },
    {
     "name": "stderr",
     "output_type": "stream",
     "text": [
      "WARNING:root:No stream returned. Skipping.\n"
     ]
    },
    {
     "name": "stdout",
     "output_type": "stream",
     "text": [
      "['7D', 'FS17B', UTCDateTime(2012, 10, 13, 0, 0)]\n",
      "[                                        ] | 0% Completed | 51m 47sAll prediction shape: (2, 5, 3599, 6000)\n",
      "[                                        ] | 0% Completed | 54m 20s"
     ]
    }
   ],
   "source": [
    "# Now we start setting up a parallel operation using a package called Dask.\n",
    "\n",
    "# Start by writing a new a function that is specifically designed to be run in parallel through dask. All it essentially does is define the inputs to the larger run_detection function and then runs the function itself, but because we \"decorate\" it with @dask.delayed to start, the code will recognize that it should be run in parallel.\n",
    "\n",
    "@dask.delayed\n",
    "def loop_days(task,filepath,twin,step,l_blnd,r_blnd):\n",
    "\n",
    "    # Define the parameters that are specific to each task\n",
    "    t1 = obspy.UTCDateTime(task[2])\n",
    "    t2 = obspy.UTCDateTime(t1 + pd.Timedelta(1,'days'))\n",
    "    network = task[0]\n",
    "    station = task[1]\n",
    "\n",
    "    #print network and station\n",
    "    print([network,station,t1])\n",
    "    # Call to the function that will perform the operation and write the results to file\n",
    "    try: \n",
    "        run_detection(network,station,t1,t2,filepath,twin,step,l_blnd,r_blnd)\n",
    "    except:\n",
    "        return\n",
    "\n",
    "\n",
    "# Now we set up the parallel operation\n",
    "# The below builds a framework for the computer to run in parallel. This doesn't actually execute anything.\n",
    "lazy_results = [loop_days(task,filepath,twin,step,l_blnd,r_blnd) for task in task_list]\n",
    "    \n",
    "\n",
    "# The below actually executes the parallel operation!\n",
    "# It's nice to do it with the ProgressBar so you can see how long things are taking.\n",
    "# Each operation should also write a file so that is another way to check on progress.\n",
    "with ProgressBar():\n",
    "    #################################\n",
    "    # Add scheduler = 'single-threaded'\n",
    "\tdask.compute(lazy_results, scheduler='single-threaded') \n",
    "    "
   ]
  },
  {
   "cell_type": "markdown",
   "id": "7c602645",
   "metadata": {},
   "source": [
    "## Checking if the catalogs for all the stations were produced"
   ]
  },
  {
   "cell_type": "code",
   "execution_count": null,
   "id": "fcf61b7d",
   "metadata": {},
   "outputs": [],
   "source": [
    "pwd"
   ]
  },
  {
   "cell_type": "code",
   "execution_count": null,
   "id": "55fa2fa0",
   "metadata": {},
   "outputs": [],
   "source": [
    "cd /home/hbito/cascadia_obs_ensemble/data"
   ]
  },
  {
   "cell_type": "code",
   "execution_count": null,
   "id": "06c51dbf",
   "metadata": {},
   "outputs": [],
   "source": [
    "cd catalogs_elep_all_stations_20121001_to_20121031"
   ]
  },
  {
   "cell_type": "code",
   "execution_count": null,
   "id": "29f8dfad",
   "metadata": {
    "scrolled": false
   },
   "outputs": [],
   "source": [
    "import glob\n",
    "\n",
    "# ls_sta = ['I02D', 'J01E', 'FS16B', 'J33B', 'M14B', 'FS20B', 'G26B',\n",
    "#           'M09B', 'FS17B', 'G27B', 'M12B', 'FS13B', 'J09B', 'G17B', 'J25B',\n",
    "#           'G19B', 'FS09B', 'G10B', 'G25B', 'BABR', 'KBO', 'KOM', 'KRMB',\n",
    "#           'KHMB', 'KHBB', 'KSXB', 'KEB', 'KMPB', 'JCC']\n",
    "unavailable_stas = []\n",
    "for i in range(len(networks_stas)):\n",
    "    network =networks_stas[i][0]\n",
    "    station = networks_stas[i][1]\n",
    "    file_pattern = f\"{station}_*.csv\"\n",
    "    matching_files = glob.glob(file_pattern)\n",
    "    # Sort the files by the date part of the filename\n",
    "    matching_files_sorted = sorted(matching_files, key=lambda x: x.split('_')[1])\n",
    "    if matching_files_sorted:\n",
    "        print(f\"Catalogs for {network,station}:\")\n",
    "        for file in matching_files_sorted:\n",
    "            print(file)\n",
    "    else:\n",
    "        unavailable_stas.append([network,station])\n",
    "        print(f\"No catalogs found for {network,station}\")\n"
   ]
  },
  {
   "cell_type": "code",
   "execution_count": null,
   "id": "509ca59a",
   "metadata": {},
   "outputs": [],
   "source": [
    "# Print stations that don't have catalogs in October 2012\n",
    "unavailable_stas"
   ]
  },
  {
   "cell_type": "code",
   "execution_count": null,
   "id": "17830412",
   "metadata": {},
   "outputs": [],
   "source": [
    "# Check the data availability of the unavailable stations\n",
    "for i in range(len(unavailable_stas)):\n",
    "    \n",
    "    client = Client('NCEDC')\n",
    "\n",
    "    network = unavailable_stas[i][0]  # Network code\n",
    "    station = unavailable_stas[i][1]  # Station code\n",
    "    location = \"\"  # Location code (leave empty if not needed)\n",
    "    channel = \"?H?\"  # Channel code\n",
    "    start_time = UTCDateTime(2012, 10, 15)  # Start time\n",
    "    end_time = UTCDateTime(2012, 10, 16)  # End time\n",
    "    \n",
    "    try:\n",
    "        inventory = client.get_stations(network=network, station=station, starttime=start_time, endtime=end_time, level=\"station\")\n",
    "        if inventory:\n",
    "            print(\"Station information:\")\n",
    "            print(inventory)\n",
    "        else:\n",
    "            print(\"No data available for the specified parameters.\")\n",
    "    except Exception as e:\n",
    "        print(f\"An error occurred for {network,station,start_time}: {e}\")"
   ]
  },
  {
   "cell_type": "code",
   "execution_count": null,
   "id": "037c0d0e",
   "metadata": {},
   "outputs": [],
   "source": [
    "cd .."
   ]
  },
  {
   "cell_type": "code",
   "execution_count": null,
   "id": "6f37fff6",
   "metadata": {},
   "outputs": [],
   "source": [
    "ls"
   ]
  },
  {
   "cell_type": "code",
   "execution_count": null,
   "id": "2bf04f49",
   "metadata": {},
   "outputs": [],
   "source": [
    "cd old_datasets/catalogs_elep_CI2_stations_20121001_to_20121031_temp/"
   ]
  },
  {
   "cell_type": "code",
   "execution_count": null,
   "id": "2c9329d3",
   "metadata": {},
   "outputs": [],
   "source": [
    "import glob\n",
    "\n",
    "ls_sta = ['I02D', 'J01E', 'FS16B', 'J33B', 'M14B', 'FS20B', 'G26B',\n",
    "          'M09B', 'FS17B', 'G27B', 'M12B', 'FS13B', 'J09B', 'G17B', 'J25B',\n",
    "          'G19B', 'FS09B', 'G10B', 'G25B', 'BABR', 'KBO', 'KOM', 'KRMB',\n",
    "          'KHMB', 'KHBB', 'KSXB', 'KEB', 'KMPB', 'JCC']\n",
    "unavailable_stas = []\n",
    "for station in ls_sta:\n",
    "    file_pattern = f\"{station}_*.csv\"\n",
    "    matching_files = glob.glob(file_pattern)\n",
    "    # Sort the files by the date part of the filename\n",
    "    matching_files_sorted = sorted(matching_files, key=lambda x: x.split('_')[1])\n",
    "    if matching_files_sorted:\n",
    "        print(f\"Catalogs for {station}:\")\n",
    "        for file in matching_files_sorted:\n",
    "            print(file)\n",
    "    else:\n",
    "        unavailable_stas.append(station)\n",
    "        print(f\"No catalogs found for {station}\")\n"
   ]
  },
  {
   "cell_type": "code",
   "execution_count": null,
   "id": "8e9d3cd2",
   "metadata": {},
   "outputs": [],
   "source": [
    "unavailable_stas"
   ]
  },
  {
   "cell_type": "code",
   "execution_count": null,
   "id": "e515b750",
   "metadata": {},
   "outputs": [],
   "source": []
  }
 ],
 "metadata": {
  "kernelspec": {
   "display_name": "seismo (SHARED)",
   "language": "python",
   "name": "seismo"
  },
  "language_info": {
   "codemirror_mode": {
    "name": "ipython",
    "version": 3
   },
   "file_extension": ".py",
   "mimetype": "text/x-python",
   "name": "python",
   "nbconvert_exporter": "python",
   "pygments_lexer": "ipython3",
   "version": "3.9.18"
  }
 },
 "nbformat": 4,
 "nbformat_minor": 5
}
