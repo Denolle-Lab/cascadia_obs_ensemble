{
 "cells": [
  {
   "cell_type": "markdown",
   "id": "58f486d2",
   "metadata": {},
   "source": [
    "# Detection and Phase Picking in Cascadia using ELEP\n",
    "\n",
    "This notebook deploys in parallel a detection+phase picking job on Cascadia Initiative stations using an ensemble deep learning ELEP (Yuan et al, 2023).\n",
    "Written by Hiroto Bito.\n",
    "Modified by CoolTeam (2/14/24)"
   ]
  },
  {
   "cell_type": "code",
   "execution_count": 2,
   "id": "59ec9cbe",
   "metadata": {},
   "outputs": [],
   "source": [
    "#####################################\n",
    "import logging\n",
    "#####################################\n",
    "from obspy.clients.fdsn import Client\n",
    "import numpy as np\n",
    "import obspy\n",
    "import matplotlib.pyplot as plt\n",
    "from obspy.clients.fdsn import Client\n",
    "import datetime\n",
    "import pandas as pd\n",
    "import dask\n",
    "from dask.diagnostics import ProgressBar\n",
    "\n",
    "from obspy.clients.fdsn.client import Client\n",
    "from pnwstore.mseed import WaveformClient\n",
    "import torch\n",
    "import numpy as np\n",
    "from tqdm import tqdm\n",
    "import time \n",
    "import pandas as pd\n",
    "import gc\n",
    "import seisbench.models as sbm\n",
    "from ELEP.elep.ensemble_statistics import ensemble_statistics\n",
    "from ELEP.elep.ensemble_coherence import ensemble_semblance \n",
    "from ELEP.elep.trigger_func import picks_summary_simple"
   ]
  },
  {
   "cell_type": "code",
   "execution_count": 3,
   "id": "66e7e246",
   "metadata": {},
   "outputs": [],
   "source": [
    "device = torch.device(\"cpu\")"
   ]
  },
  {
   "cell_type": "code",
   "execution_count": 4,
   "id": "ec5a0ecb",
   "metadata": {},
   "outputs": [],
   "source": [
    "# Define clients\n",
    "client_inventory = Client('IRIS')\n",
    "client_waveform = WaveformClient()"
   ]
  },
  {
   "cell_type": "code",
   "execution_count": 62,
   "id": "d57e842d",
   "metadata": {},
   "outputs": [],
   "source": [
    "# Read Morton's catalog\n",
    "cat_ds03 = pd.read_excel(\"../data/ds03.xlsx\")"
   ]
  },
  {
   "cell_type": "code",
   "execution_count": 63,
   "id": "f09e8e59",
   "metadata": {},
   "outputs": [
    {
     "data": {
      "text/html": [
       "<div>\n",
       "<style scoped>\n",
       "    .dataframe tbody tr th:only-of-type {\n",
       "        vertical-align: middle;\n",
       "    }\n",
       "\n",
       "    .dataframe tbody tr th {\n",
       "        vertical-align: top;\n",
       "    }\n",
       "\n",
       "    .dataframe thead th {\n",
       "        text-align: right;\n",
       "    }\n",
       "</style>\n",
       "<table border=\"1\" class=\"dataframe\">\n",
       "  <thead>\n",
       "    <tr style=\"text-align: right;\">\n",
       "      <th></th>\n",
       "      <th>CI YEAR</th>\n",
       "      <th>CLUSTER ID</th>\n",
       "      <th>STATION</th>\n",
       "      <th>NETWORK CODE</th>\n",
       "      <th>FILTER USED (Hz)</th>\n",
       "    </tr>\n",
       "  </thead>\n",
       "  <tbody>\n",
       "    <tr>\n",
       "      <th>0</th>\n",
       "      <td>1</td>\n",
       "      <td>OC1</td>\n",
       "      <td>J25A</td>\n",
       "      <td>7D</td>\n",
       "      <td>HP 5</td>\n",
       "    </tr>\n",
       "    <tr>\n",
       "      <th>1</th>\n",
       "      <td>1</td>\n",
       "      <td>NaN</td>\n",
       "      <td>M08A</td>\n",
       "      <td>7D</td>\n",
       "      <td>HP 5</td>\n",
       "    </tr>\n",
       "    <tr>\n",
       "      <th>2</th>\n",
       "      <td>1</td>\n",
       "      <td>NaN</td>\n",
       "      <td>I02D</td>\n",
       "      <td>TA</td>\n",
       "      <td>HP 5</td>\n",
       "    </tr>\n",
       "    <tr>\n",
       "      <th>3</th>\n",
       "      <td>1</td>\n",
       "      <td>OC2</td>\n",
       "      <td>J25A</td>\n",
       "      <td>7D</td>\n",
       "      <td>BP 5-10</td>\n",
       "    </tr>\n",
       "    <tr>\n",
       "      <th>4</th>\n",
       "      <td>1</td>\n",
       "      <td>NaN</td>\n",
       "      <td>J33A</td>\n",
       "      <td>7D</td>\n",
       "      <td>BP 5-15</td>\n",
       "    </tr>\n",
       "    <tr>\n",
       "      <th>...</th>\n",
       "      <td>...</td>\n",
       "      <td>...</td>\n",
       "      <td>...</td>\n",
       "      <td>...</td>\n",
       "      <td>...</td>\n",
       "    </tr>\n",
       "    <tr>\n",
       "      <th>247</th>\n",
       "      <td>4</td>\n",
       "      <td>CI4-45</td>\n",
       "      <td>FC03D</td>\n",
       "      <td>7D</td>\n",
       "      <td>BP 1-15</td>\n",
       "    </tr>\n",
       "    <tr>\n",
       "      <th>248</th>\n",
       "      <td>4</td>\n",
       "      <td>NaN</td>\n",
       "      <td>HEBO</td>\n",
       "      <td>UW</td>\n",
       "      <td>BP 2-10</td>\n",
       "    </tr>\n",
       "    <tr>\n",
       "      <th>249</th>\n",
       "      <td>4</td>\n",
       "      <td>CI4-47</td>\n",
       "      <td>NLWA</td>\n",
       "      <td>US</td>\n",
       "      <td>HP 3</td>\n",
       "    </tr>\n",
       "    <tr>\n",
       "      <th>250</th>\n",
       "      <td>4</td>\n",
       "      <td>CI4-48</td>\n",
       "      <td>OCP</td>\n",
       "      <td>UW</td>\n",
       "      <td>BP 3-10</td>\n",
       "    </tr>\n",
       "    <tr>\n",
       "      <th>251</th>\n",
       "      <td>4</td>\n",
       "      <td>NaN</td>\n",
       "      <td>OZB</td>\n",
       "      <td>CNDC</td>\n",
       "      <td>HP 5</td>\n",
       "    </tr>\n",
       "  </tbody>\n",
       "</table>\n",
       "<p>252 rows × 5 columns</p>\n",
       "</div>"
      ],
      "text/plain": [
       "     CI YEAR CLUSTER ID STATION NETWORK CODE FILTER USED (Hz)\n",
       "0          1        OC1    J25A           7D             HP 5\n",
       "1          1        NaN    M08A           7D             HP 5\n",
       "2          1        NaN    I02D           TA             HP 5\n",
       "3          1        OC2    J25A           7D          BP 5-10\n",
       "4          1        NaN    J33A           7D          BP 5-15\n",
       "..       ...        ...     ...          ...              ...\n",
       "247        4     CI4-45   FC03D           7D          BP 1-15\n",
       "248        4        NaN    HEBO           UW          BP 2-10\n",
       "249        4     CI4-47    NLWA           US             HP 3\n",
       "250        4     CI4-48     OCP           UW          BP 3-10\n",
       "251        4        NaN     OZB         CNDC             HP 5\n",
       "\n",
       "[252 rows x 5 columns]"
      ]
     },
     "execution_count": 63,
     "metadata": {},
     "output_type": "execute_result"
    }
   ],
   "source": [
    "# Show the catalog\n",
    "cat_ds03"
   ]
  },
  {
   "cell_type": "code",
   "execution_count": 64,
   "id": "eb15ebb4",
   "metadata": {},
   "outputs": [
    {
     "data": {
      "text/html": [
       "<div>\n",
       "<style scoped>\n",
       "    .dataframe tbody tr th:only-of-type {\n",
       "        vertical-align: middle;\n",
       "    }\n",
       "\n",
       "    .dataframe tbody tr th {\n",
       "        vertical-align: top;\n",
       "    }\n",
       "\n",
       "    .dataframe thead th {\n",
       "        text-align: right;\n",
       "    }\n",
       "</style>\n",
       "<table border=\"1\" class=\"dataframe\">\n",
       "  <thead>\n",
       "    <tr style=\"text-align: right;\">\n",
       "      <th></th>\n",
       "      <th>CI YEAR</th>\n",
       "      <th>CLUSTER ID</th>\n",
       "      <th>STATION</th>\n",
       "      <th>NETWORK CODE</th>\n",
       "      <th>FILTER USED (Hz)</th>\n",
       "    </tr>\n",
       "  </thead>\n",
       "  <tbody>\n",
       "    <tr>\n",
       "      <th>49</th>\n",
       "      <td>2</td>\n",
       "      <td>SM</td>\n",
       "      <td>I02D</td>\n",
       "      <td>TA</td>\n",
       "      <td>HP 5</td>\n",
       "    </tr>\n",
       "    <tr>\n",
       "      <th>50</th>\n",
       "      <td>2</td>\n",
       "      <td>NaN</td>\n",
       "      <td>M09B</td>\n",
       "      <td>7D</td>\n",
       "      <td>BP 5-10</td>\n",
       "    </tr>\n",
       "    <tr>\n",
       "      <th>51</th>\n",
       "      <td>2</td>\n",
       "      <td>NaN</td>\n",
       "      <td>J25B</td>\n",
       "      <td>7D</td>\n",
       "      <td>HP  5</td>\n",
       "    </tr>\n",
       "    <tr>\n",
       "      <th>52</th>\n",
       "      <td>2</td>\n",
       "      <td>Nclust</td>\n",
       "      <td>J25B</td>\n",
       "      <td>7D</td>\n",
       "      <td>HP5</td>\n",
       "    </tr>\n",
       "    <tr>\n",
       "      <th>53</th>\n",
       "      <td>2</td>\n",
       "      <td>NaN</td>\n",
       "      <td>J33B</td>\n",
       "      <td>7D</td>\n",
       "      <td>BP 2-10</td>\n",
       "    </tr>\n",
       "    <tr>\n",
       "      <th>...</th>\n",
       "      <td>...</td>\n",
       "      <td>...</td>\n",
       "      <td>...</td>\n",
       "      <td>...</td>\n",
       "      <td>...</td>\n",
       "    </tr>\n",
       "    <tr>\n",
       "      <th>111</th>\n",
       "      <td>2</td>\n",
       "      <td>NaN</td>\n",
       "      <td>KEB</td>\n",
       "      <td>NC</td>\n",
       "      <td>BP 3-10</td>\n",
       "    </tr>\n",
       "    <tr>\n",
       "      <th>112</th>\n",
       "      <td>2</td>\n",
       "      <td>CI2-27</td>\n",
       "      <td>J09B</td>\n",
       "      <td>7D</td>\n",
       "      <td>HP 5</td>\n",
       "    </tr>\n",
       "    <tr>\n",
       "      <th>113</th>\n",
       "      <td>2</td>\n",
       "      <td>NaN</td>\n",
       "      <td>J01E</td>\n",
       "      <td>TA</td>\n",
       "      <td>HP 5</td>\n",
       "    </tr>\n",
       "    <tr>\n",
       "      <th>114</th>\n",
       "      <td>2</td>\n",
       "      <td>CI2-28</td>\n",
       "      <td>BABR</td>\n",
       "      <td>UW</td>\n",
       "      <td>HP 5</td>\n",
       "    </tr>\n",
       "    <tr>\n",
       "      <th>115</th>\n",
       "      <td>2</td>\n",
       "      <td>NaN</td>\n",
       "      <td>J33B</td>\n",
       "      <td>7D</td>\n",
       "      <td>BP 3-20</td>\n",
       "    </tr>\n",
       "  </tbody>\n",
       "</table>\n",
       "<p>67 rows × 5 columns</p>\n",
       "</div>"
      ],
      "text/plain": [
       "     CI YEAR CLUSTER ID STATION NETWORK CODE FILTER USED (Hz)\n",
       "49         2         SM    I02D           TA             HP 5\n",
       "50         2        NaN    M09B           7D          BP 5-10\n",
       "51         2        NaN    J25B           7D            HP  5\n",
       "52         2     Nclust    J25B           7D              HP5\n",
       "53         2        NaN    J33B           7D          BP 2-10\n",
       "..       ...        ...     ...          ...              ...\n",
       "111        2        NaN     KEB           NC          BP 3-10\n",
       "112        2     CI2-27    J09B           7D             HP 5\n",
       "113        2        NaN    J01E           TA             HP 5\n",
       "114        2     CI2-28    BABR           UW             HP 5\n",
       "115        2        NaN    J33B           7D          BP 3-20\n",
       "\n",
       "[67 rows x 5 columns]"
      ]
     },
     "execution_count": 64,
     "metadata": {},
     "output_type": "execute_result"
    }
   ],
   "source": [
    "# Get the names of the networks\n",
    "cat_ds03_CI2 = cat_ds03[cat_ds03['CI YEAR']==2]\n",
    "cat_ds03_CI2"
   ]
  },
  {
   "cell_type": "code",
   "execution_count": 65,
   "id": "c5c1e17b",
   "metadata": {},
   "outputs": [],
   "source": [
    "# Assign the network codes\n",
    "networks= cat_ds03_CI2['NETWORK CODE'].unique()"
   ]
  },
  {
   "cell_type": "code",
   "execution_count": 66,
   "id": "3adc2d6a",
   "metadata": {},
   "outputs": [
    {
     "data": {
      "text/plain": [
       "array([['TA', 'J01E'],\n",
       "       ['TA', 'I02D'],\n",
       "       ['7D', 'FS09B'],\n",
       "       ['7D', 'M09B'],\n",
       "       ['7D', 'J09B'],\n",
       "       ['7D', 'G10B'],\n",
       "       ['7D', 'G27B'],\n",
       "       ['7D', 'G25B'],\n",
       "       ['7D', 'G26B'],\n",
       "       ['7D', 'FS13B'],\n",
       "       ['7D', 'M12B'],\n",
       "       ['7D', 'G17B'],\n",
       "       ['7D', 'FS20B'],\n",
       "       ['7D', 'FS17B'],\n",
       "       ['7D', 'FS16B'],\n",
       "       ['7D', 'J25B'],\n",
       "       ['7D', 'J33B'],\n",
       "       ['7D', 'M14B'],\n",
       "       ['7D', 'G19B'],\n",
       "       ['UW', 'BABR'],\n",
       "       ['UW', 'I02D'],\n",
       "       ['NC', 'KMPB'],\n",
       "       ['NC', 'KBO'],\n",
       "       ['NC', 'KOM'],\n",
       "       ['NC', 'KRMB'],\n",
       "       ['NC', 'KHMB'],\n",
       "       ['NC', 'KSXB'],\n",
       "       ['NC', 'KHBB'],\n",
       "       ['NC', 'KEB'],\n",
       "       ['BK', 'JCC']], dtype='<U5')"
      ]
     },
     "execution_count": 66,
     "metadata": {},
     "output_type": "execute_result"
    }
   ],
   "source": [
    "# Make a list of networks and stations\n",
    "networks_stas = []\n",
    "for i in range(len(networks)):\n",
    "    network = networks[i]\n",
    "    sta = cat_ds03_CI2.loc[cat_ds03_CI2['NETWORK CODE']==network, 'STATION']\n",
    "    \n",
    "    sta = [i.replace(\" \", \"\") for i in sta]\n",
    "    sta = set(sta)\n",
    "    sta =list(sta)\n",
    "\n",
    "    for j in range(len(sta)):\n",
    "        networks_stas.append([network,sta[j]])\n",
    "\n",
    "networks_stas =np.array(networks_stas)\n",
    "networks_stas"
   ]
  },
  {
   "cell_type": "code",
   "execution_count": 68,
   "id": "86323731",
   "metadata": {},
   "outputs": [
    {
     "name": "stdout",
     "output_type": "stream",
     "text": [
      "30\n"
     ]
    }
   ],
   "source": [
    "print(len(networks_stas))"
   ]
  },
  {
   "cell_type": "code",
   "execution_count": 69,
   "id": "62427461",
   "metadata": {},
   "outputs": [
    {
     "name": "stdout",
     "output_type": "stream",
     "text": [
      "['TA' 'J01E']\n",
      "['TA' 'I02D']\n",
      "['7D' 'FS09B']\n",
      "['7D' 'M09B']\n",
      "['7D' 'J09B']\n",
      "['7D' 'G10B']\n",
      "['7D' 'G27B']\n",
      "['7D' 'G25B']\n",
      "['7D' 'G26B']\n",
      "['7D' 'FS13B']\n",
      "['7D' 'M12B']\n",
      "['7D' 'G17B']\n",
      "['7D' 'FS20B']\n",
      "['7D' 'FS17B']\n",
      "['7D' 'FS16B']\n",
      "['7D' 'J25B']\n",
      "['7D' 'J33B']\n",
      "['7D' 'M14B']\n",
      "['7D' 'G19B']\n",
      "['UW' 'BABR']\n",
      "['UW' 'I02D']\n"
     ]
    },
    {
     "ename": "FDSNNoDataException",
     "evalue": "No data available for request.\nHTTP Status code: 204\nDetailed response of server:\n\n",
     "output_type": "error",
     "traceback": [
      "\u001b[0;31m---------------------------------------------------------------------------\u001b[0m",
      "\u001b[0;31mFDSNNoDataException\u001b[0m                       Traceback (most recent call last)",
      "Cell \u001b[0;32mIn[69], line 6\u001b[0m\n\u001b[1;32m      4\u001b[0m \u001b[38;5;28mprint\u001b[39m(networks_stas[i])\n\u001b[1;32m      5\u001b[0m index\u001b[38;5;241m.\u001b[39mappend(i)\n\u001b[0;32m----> 6\u001b[0m inventory \u001b[38;5;241m=\u001b[39m \u001b[43mclient\u001b[49m\u001b[38;5;241;43m.\u001b[39;49m\u001b[43mget_stations\u001b[49m\u001b[43m(\u001b[49m\u001b[43mnetwork\u001b[49m\u001b[38;5;241;43m=\u001b[39;49m\u001b[43mnetworks_stas\u001b[49m\u001b[43m[\u001b[49m\u001b[43mi\u001b[49m\u001b[43m]\u001b[49m\u001b[43m[\u001b[49m\u001b[38;5;241;43m0\u001b[39;49m\u001b[43m]\u001b[49m\u001b[43m,\u001b[49m\u001b[43m \u001b[49m\u001b[43mstation\u001b[49m\u001b[38;5;241;43m=\u001b[39;49m\u001b[43mnetworks_stas\u001b[49m\u001b[43m[\u001b[49m\u001b[43mi\u001b[49m\u001b[43m]\u001b[49m\u001b[43m[\u001b[49m\u001b[38;5;241;43m1\u001b[39;49m\u001b[43m]\u001b[49m\u001b[43m)\u001b[49m\n",
      "File \u001b[0;32m/home/jupyter_share/miniconda3/envs/seismo/lib/python3.9/site-packages/obspy/clients/fdsn/client.py:748\u001b[0m, in \u001b[0;36mClient.get_stations\u001b[0;34m(self, starttime, endtime, startbefore, startafter, endbefore, endafter, network, station, location, channel, minlatitude, maxlatitude, minlongitude, maxlongitude, latitude, longitude, minradius, maxradius, level, includerestricted, includeavailability, updatedafter, matchtimeseries, filename, format, **kwargs)\u001b[0m\n\u001b[1;32m    743\u001b[0m setup_query_dict(\u001b[38;5;124m'\u001b[39m\u001b[38;5;124mstation\u001b[39m\u001b[38;5;124m'\u001b[39m, locs, kwargs)\n\u001b[1;32m    745\u001b[0m url \u001b[38;5;241m=\u001b[39m \u001b[38;5;28mself\u001b[39m\u001b[38;5;241m.\u001b[39m_create_url_from_parameters(\n\u001b[1;32m    746\u001b[0m     \u001b[38;5;124m\"\u001b[39m\u001b[38;5;124mstation\u001b[39m\u001b[38;5;124m\"\u001b[39m, DEFAULT_PARAMETERS[\u001b[38;5;124m'\u001b[39m\u001b[38;5;124mstation\u001b[39m\u001b[38;5;124m'\u001b[39m], kwargs)\n\u001b[0;32m--> 748\u001b[0m data_stream \u001b[38;5;241m=\u001b[39m \u001b[38;5;28;43mself\u001b[39;49m\u001b[38;5;241;43m.\u001b[39;49m\u001b[43m_download\u001b[49m\u001b[43m(\u001b[49m\u001b[43murl\u001b[49m\u001b[43m)\u001b[49m\n\u001b[1;32m    749\u001b[0m data_stream\u001b[38;5;241m.\u001b[39mseek(\u001b[38;5;241m0\u001b[39m, \u001b[38;5;241m0\u001b[39m)\n\u001b[1;32m    750\u001b[0m \u001b[38;5;28;01mif\u001b[39;00m filename:\n",
      "File \u001b[0;32m/home/jupyter_share/miniconda3/envs/seismo/lib/python3.9/site-packages/obspy/clients/fdsn/client.py:1486\u001b[0m, in \u001b[0;36mClient._download\u001b[0;34m(self, url, return_string, data, use_gzip, content_type)\u001b[0m\n\u001b[1;32m   1481\u001b[0m     headers[\u001b[38;5;124m'\u001b[39m\u001b[38;5;124mContent-Type\u001b[39m\u001b[38;5;124m'\u001b[39m] \u001b[38;5;241m=\u001b[39m content_type\n\u001b[1;32m   1482\u001b[0m code, data \u001b[38;5;241m=\u001b[39m download_url(\n\u001b[1;32m   1483\u001b[0m     url, opener\u001b[38;5;241m=\u001b[39m\u001b[38;5;28mself\u001b[39m\u001b[38;5;241m.\u001b[39m_url_opener, headers\u001b[38;5;241m=\u001b[39mheaders,\n\u001b[1;32m   1484\u001b[0m     debug\u001b[38;5;241m=\u001b[39m\u001b[38;5;28mself\u001b[39m\u001b[38;5;241m.\u001b[39mdebug, return_string\u001b[38;5;241m=\u001b[39mreturn_string, data\u001b[38;5;241m=\u001b[39mdata,\n\u001b[1;32m   1485\u001b[0m     timeout\u001b[38;5;241m=\u001b[39m\u001b[38;5;28mself\u001b[39m\u001b[38;5;241m.\u001b[39mtimeout, use_gzip\u001b[38;5;241m=\u001b[39muse_gzip)\n\u001b[0;32m-> 1486\u001b[0m \u001b[43mraise_on_error\u001b[49m\u001b[43m(\u001b[49m\u001b[43mcode\u001b[49m\u001b[43m,\u001b[49m\u001b[43m \u001b[49m\u001b[43mdata\u001b[49m\u001b[43m)\u001b[49m\n\u001b[1;32m   1487\u001b[0m \u001b[38;5;28;01mreturn\u001b[39;00m data\n",
      "File \u001b[0;32m/home/jupyter_share/miniconda3/envs/seismo/lib/python3.9/site-packages/obspy/clients/fdsn/client.py:1813\u001b[0m, in \u001b[0;36mraise_on_error\u001b[0;34m(code, data)\u001b[0m\n\u001b[1;32m   1811\u001b[0m \u001b[38;5;66;03m# No data.\u001b[39;00m\n\u001b[1;32m   1812\u001b[0m \u001b[38;5;28;01mif\u001b[39;00m code \u001b[38;5;241m==\u001b[39m \u001b[38;5;241m204\u001b[39m:\n\u001b[0;32m-> 1813\u001b[0m     \u001b[38;5;28;01mraise\u001b[39;00m FDSNNoDataException(\u001b[38;5;124m\"\u001b[39m\u001b[38;5;124mNo data available for request.\u001b[39m\u001b[38;5;124m\"\u001b[39m,\n\u001b[1;32m   1814\u001b[0m                               server_info)\n\u001b[1;32m   1815\u001b[0m \u001b[38;5;28;01melif\u001b[39;00m code \u001b[38;5;241m==\u001b[39m \u001b[38;5;241m400\u001b[39m:\n\u001b[1;32m   1816\u001b[0m     msg \u001b[38;5;241m=\u001b[39m (\u001b[38;5;124m\"\u001b[39m\u001b[38;5;124mBad request. If you think your request was valid \u001b[39m\u001b[38;5;124m\"\u001b[39m\n\u001b[1;32m   1817\u001b[0m            \u001b[38;5;124m\"\u001b[39m\u001b[38;5;124mplease contact the developers.\u001b[39m\u001b[38;5;124m\"\u001b[39m)\n",
      "\u001b[0;31mFDSNNoDataException\u001b[0m: No data available for request.\nHTTP Status code: 204\nDetailed response of server:\n\n"
     ]
    }
   ],
   "source": [
    "index =[]\n",
    "client= client_inventory\n",
    "for i, ii in enumerate(networks_stas):\n",
    "    print(networks_stas[i])\n",
    "    index.append(i)\n",
    "    inventory = client.get_stations(network=networks_stas[i][0], station=networks_stas[i][1])\n",
    "    "
   ]
  },
  {
   "cell_type": "code",
   "execution_count": 70,
   "id": "2db3a553",
   "metadata": {},
   "outputs": [
    {
     "data": {
      "text/plain": [
       "[0, 1, 2, 3, 4, 5, 6, 7, 8, 9, 10, 11, 12, 13, 14, 15, 16, 17, 18, 19, 20]"
      ]
     },
     "execution_count": 70,
     "metadata": {},
     "output_type": "execute_result"
    }
   ],
   "source": [
    "index"
   ]
  },
  {
   "cell_type": "code",
   "execution_count": 71,
   "id": "31599f7b",
   "metadata": {},
   "outputs": [
    {
     "data": {
      "text/plain": [
       "array([['TA', 'J01E'],\n",
       "       ['TA', 'I02D'],\n",
       "       ['7D', 'FS09B'],\n",
       "       ['7D', 'M09B'],\n",
       "       ['7D', 'J09B'],\n",
       "       ['7D', 'G10B'],\n",
       "       ['7D', 'G27B'],\n",
       "       ['7D', 'G25B'],\n",
       "       ['7D', 'G26B'],\n",
       "       ['7D', 'FS13B'],\n",
       "       ['7D', 'M12B'],\n",
       "       ['7D', 'G17B'],\n",
       "       ['7D', 'FS20B'],\n",
       "       ['7D', 'FS17B'],\n",
       "       ['7D', 'FS16B'],\n",
       "       ['7D', 'J25B'],\n",
       "       ['7D', 'J33B'],\n",
       "       ['7D', 'M14B'],\n",
       "       ['7D', 'G19B'],\n",
       "       ['UW', 'BABR'],\n",
       "       ['NC', 'KMPB'],\n",
       "       ['NC', 'KBO'],\n",
       "       ['NC', 'KOM'],\n",
       "       ['NC', 'KRMB'],\n",
       "       ['NC', 'KHMB'],\n",
       "       ['NC', 'KSXB'],\n",
       "       ['NC', 'KHBB'],\n",
       "       ['NC', 'KEB'],\n",
       "       ['BK', 'JCC']], dtype='<U5')"
      ]
     },
     "execution_count": 71,
     "metadata": {},
     "output_type": "execute_result"
    }
   ],
   "source": [
    "# Since the ['UW' 'I02D'] pair give an error when receiveing their data through inventory, remove this pair.\n",
    "networks_stas = np.delete(networks_stas, index[-1],axis=0)\n",
    "networks_stas"
   ]
  },
  {
   "cell_type": "code",
   "execution_count": 72,
   "id": "ffe4d48c",
   "metadata": {},
   "outputs": [
    {
     "name": "stdout",
     "output_type": "stream",
     "text": [
      "['TA' 'J01E']\n",
      "['TA' 'I02D']\n",
      "['7D' 'FS09B']\n",
      "['7D' 'M09B']\n",
      "['7D' 'J09B']\n",
      "['7D' 'G10B']\n",
      "['7D' 'G27B']\n",
      "['7D' 'G25B']\n",
      "['7D' 'G26B']\n",
      "['7D' 'FS13B']\n",
      "['7D' 'M12B']\n",
      "['7D' 'G17B']\n",
      "['7D' 'FS20B']\n",
      "['7D' 'FS17B']\n",
      "['7D' 'FS16B']\n",
      "['7D' 'J25B']\n",
      "['7D' 'J33B']\n",
      "['7D' 'M14B']\n",
      "['7D' 'G19B']\n",
      "['UW' 'BABR']\n",
      "['NC' 'KMPB']\n",
      "['NC' 'KBO']\n",
      "['NC' 'KOM']\n",
      "['NC' 'KRMB']\n",
      "['NC' 'KHMB']\n",
      "['NC' 'KSXB']\n",
      "['NC' 'KHBB']\n",
      "['NC' 'KEB']\n",
      "['BK' 'JCC']\n"
     ]
    }
   ],
   "source": [
    "# Test if the array removed the  ['UW' 'I02D'] works through inventory this time. It works.\n",
    "index =[]\n",
    "client= client_inventory\n",
    "for i, ii in enumerate(networks_stas):\n",
    "    print(networks_stas[i])\n",
    "    index.append(i)\n",
    "    inventory = client.get_stations(network=networks_stas[i][0], station=networks_stas[i][1])"
   ]
  },
  {
   "cell_type": "code",
   "execution_count": 73,
   "id": "4c157967",
   "metadata": {},
   "outputs": [],
   "source": [
    "# Now create your list of days to loop over!\n",
    "t1 = datetime.datetime(year=2012,month=10,day=1,hour=0,minute=0,second=0,microsecond=0)\n",
    "t2 = datetime.datetime(year=2012,month=10,day=31,hour=0,minute=0,second=0,microsecond=0)\n",
    "time_bins = pd.to_datetime(np.arange(t1,t2+datetime.timedelta(days=1),pd.Timedelta(1,'days')))"
   ]
  },
  {
   "cell_type": "code",
   "execution_count": 74,
   "id": "60220543",
   "metadata": {},
   "outputs": [],
   "source": [
    "import os\n",
    "os.makedirs(\"../data/catalogs_elep_all_stations_20121001_to_20121031\",exist_ok=True)"
   ]
  },
  {
   "cell_type": "code",
   "execution_count": 75,
   "id": "ff0cf559",
   "metadata": {},
   "outputs": [
    {
     "name": "stdout",
     "output_type": "stream",
     "text": [
      "../data/catalogs_elep_all_stations_20121001_to_20121031/M14B_20121001.csv\n"
     ]
    }
   ],
   "source": [
    "# Specify some parameters - you can change what you specify here vs. within the large function, this is just an example.\n",
    "# Depending on whether the pertained models take a long time to load every time, you may want to load those outside the function and just feed them to the function rather than loading them every time in parallel.\n",
    "twin = 6000     # length of time window\n",
    "step = 3000     # step length\n",
    "l_blnd, r_blnd = 500, 500\n",
    "\n",
    "###########################\n",
    "# This is not a valid file path to save files. \n",
    "filepath = \"../data/catalogs_elep_all_stations_20121001_to_20121031/\"\n",
    "\n",
    "# If we define:\n",
    "station = \"M14B\"\n",
    "# t1 = datetime(2012,10,1)\n",
    "tstring = t1.strftime('%Y%m%d')\n",
    "\n",
    "# You use this arguments below as (it should be filepath, not file_path)\n",
    "file_name = filepath+station+'_'+tstring+'.csv'\n",
    "\n",
    "# Then your file name will be:\n",
    "print(file_name)\n",
    "#https://cascadia.ess.washington.edu/jhub/user/hbito/notebooks/elep-test/surface_events/src7D_20121001.csv\n",
    "\n",
    "# 1. There is a missing \"/\" after src in filepath.\n",
    "# 2. This string beginning with https:// is a web link. You can replace filepath as:\n",
    "# filepath = \"/home/hbito/elep-test/surface_events/src/\"\n",
    "# 3. it may not be recommended to save data product to a src (source) folder. \n",
    "#    People usually make other directories to save those final files. \n",
    "#    Just a notice: not our top prioirty though.\n",
    "###########################"
   ]
  },
  {
   "cell_type": "code",
   "execution_count": 76,
   "id": "d5db51e4",
   "metadata": {},
   "outputs": [],
   "source": [
    "# download models\n",
    "pretrain_list = [\"pnw\",\"ethz\",\"instance\",\"scedc\",\"stead\",\"geofon\"]\n",
    "pn_pnw_model = sbm.EQTransformer.from_pretrained('pnw')\n",
    "pn_ethz_model = sbm.EQTransformer.from_pretrained(\"ethz\")\n",
    "pn_instance_model = sbm.EQTransformer.from_pretrained(\"instance\")\n",
    "pn_scedc_model = sbm.EQTransformer.from_pretrained(\"scedc\")\n",
    "pn_stead_model = sbm.EQTransformer.from_pretrained(\"stead\")\n",
    "pn_geofon_model = sbm.EQTransformer.from_pretrained(\"geofon\")"
   ]
  },
  {
   "cell_type": "code",
   "execution_count": 77,
   "id": "dd7d1273",
   "metadata": {},
   "outputs": [],
   "source": [
    "# Define the function for stacking the segmented time windows after prediction\n",
    "##################################### add a nseg argument here\n",
    "# def stacking(data, npts, l_blnd, r_blnd):\n",
    "def stacking(data, npts, l_blnd, r_blnd, nseg):\n",
    "#####################################\n",
    "    _data = data.copy()\n",
    "    stack = np.full(npts, np.nan, dtype = np.float32)\n",
    "    _data[:, :l_blnd] = np.nan; _data[:, -r_blnd:] = np.nan\n",
    "    stack[:twin] = _data[0, :]\n",
    "    for iseg in range(nseg-1):\n",
    "        idx = step*(iseg+1)\n",
    "        stack[idx:idx + twin] = \\\n",
    "                np.nanmax([stack[idx:idx + twin], _data[iseg+1, :]], axis = 0)\n",
    "    return stack"
   ]
  },
  {
   "cell_type": "code",
   "execution_count": 78,
   "id": "7cdf915c",
   "metadata": {},
   "outputs": [],
   "source": [
    "# Write your function that you want to run in parallel: I recommend you design this to essentially perform your entire workflow on one station for one day, and write a csv file for that station, much the way you already have it.\n",
    "# This is what will run in parallel!\n",
    "# So, the only inputs are the station name, the start and end times you want to detect for, the path of the folder you want to write the results to, and the parameters you already specified. Here is where you could also feed in the preloaded models if that becomes important.\n",
    "def run_detection(network,station,t1,t2,filepath,twin,step,l_blnd,r_blnd):\n",
    "\t# Load data\n",
    "\t# Reshape data\n",
    "\t# Predict on base models\n",
    "\t# Stack\n",
    "\t# Create and write csv file. Define file name using the station code and the input filepath\n",
    "    \n",
    "    # Get the inventory for the stations\n",
    "    ###############################\n",
    "    #stations = station           # Seems you never use this \"stations\" again\n",
    "                                  # so you can just use \"station\"\n",
    "    ###############################\n",
    "    network = network\n",
    "#     channels = '[HB][HN][BH]?'\n",
    "#     channels = 'HH?,HN?,BH?' \n",
    "    channels = '?H?'\n",
    "\n",
    "    client = client_inventory\n",
    "    inventory = client.get_stations(network=network, station=station)\n",
    "    \n",
    "    # Get waveforms and filter\n",
    "    ###############################\n",
    "   #sdata = client_waveform.get_waveforms(network=\"7D\", station=station, channel=\"BH?\", starttime=t1, \n",
    "   #                                      year=t1.strftime('%Y'), month=t1.strftime('%m'), \n",
    "   #                                      day=t1.strftime('%d'))\n",
    "   # You've already defined stations, network, channels above, so you can use them here.\n",
    "   # You don't need \"starttime = t1\" argument.\n",
    "    sdata = client_waveform.get_waveforms(network=network, station=station, channel=channels, \n",
    "                                          year=t1.strftime('%Y'), month=t1.strftime('%m'), \n",
    "                                          day=t1.strftime('%d'))\n",
    "    \n",
    "    sdata = sdata.select(channel = \"[HB]H?\")\n",
    "    ###############################\n",
    "    # If no data returned, skipping\n",
    "    if len(sdata) == 0:\n",
    "        logging.warning(\"No stream returned. Skipping.\")\n",
    "        return\n",
    "    ###############################\n",
    "    \n",
    "    sdata.filter(type='bandpass',freqmin=4,freqmax=15)\n",
    "    \n",
    "    ###############################\n",
    "    sdata.merge(fill_value='interpolate') # fill gaps if there are any.\n",
    "    ###############################\n",
    "\n",
    "    # Get the necassary information about the station\n",
    "    delta = sdata[0].stats.delta\n",
    "    starttime = sdata[0].stats.starttime\n",
    "    fs = sdata[0].stats.sampling_rate\n",
    "    dt = 1/fs\n",
    "    \n",
    "\n",
    "    # Make all the traces in the stream have the same lengths\n",
    "    max_starttime = max([tr.stats.starttime for tr in sdata])\n",
    "    min_endtime = min([tr.stats.endtime for tr in sdata])\n",
    "    \n",
    "    for tr in sdata:\n",
    "        tr.trim(starttime=max_starttime,endtime=min_endtime, nearest_sample=True)    \n",
    "        \n",
    "    # Reshaping data\n",
    "    arr_sdata = np.array(sdata)\n",
    "    npts = arr_sdata.shape[1]\n",
    "    ############################### avoiding errors at the end of a stream\n",
    "   #nseg = int(np.ceil((npts - twin) / step)) + 1\n",
    "    nseg = int(np.floor((npts - twin) / step)) + 1\n",
    "    ###############################\n",
    "    windows = np.zeros(shape=(nseg, 3, twin), dtype= np.float32)\n",
    "    tap = 0.5 * (1 + np.cos(np.linspace(np.pi, 2 * np.pi, 6)))\n",
    "    \n",
    "    # Define the parameters for semblance\n",
    "    paras_semblance = {'dt':dt, 'semblance_order':2, 'window_flag':True, \n",
    "                   'semblance_win':0.5, 'weight_flag':'max'}\n",
    "    p_thrd, s_thrd = 0.05, 0.05\n",
    "\n",
    "    windows_std = np.zeros(shape=(nseg, 3, twin), dtype= np.float32)\n",
    "    windows_max = np.zeros(shape=(nseg, 3, twin), dtype= np.float32)\n",
    "    windows = np.zeros(shape=(nseg, 3, twin), dtype= np.float32)\n",
    "    windows_idx = np.zeros(nseg, dtype=np.int32)\n",
    "\n",
    "    for iseg in range(nseg):\n",
    "        idx = iseg * step\n",
    "        windows[iseg, :] = arr_sdata[:, idx:idx + twin]\n",
    "        windows[iseg, :] -= np.mean(windows[iseg, :], axis=-1, keepdims=True)\n",
    "        # original use std norm\n",
    "        windows_std[iseg, :] = windows[iseg, :] / np.std(windows[iseg, :]) + 1e-10\n",
    "        # others use max norm\n",
    "        windows_max[iseg, :] = windows[iseg, :] / (np.max(np.abs(windows[iseg, :]), axis=-1, keepdims=True))\n",
    "        windows_idx[iseg] = idx\n",
    "\n",
    "    # taper\n",
    "    windows_std[:, :, :6] *= tap; windows_std[:, :, -6:] *= tap[::-1]; \n",
    "    windows_max[:, :, :6] *= tap; windows_max[:, :, -6:] *= tap[::-1];\n",
    "    del windows\n",
    "\n",
    "#     print(f\"Window data shape: {windows_std.shape}\")\n",
    "    \n",
    "    # Predict on base models\n",
    "    \n",
    "    pretrain_list = ['original', 'ethz', 'instance', 'scedc', 'stead']\n",
    "\n",
    "    # dim 0: 0 = P, 1 = S\n",
    "    batch_pred = np.zeros([2, len(pretrain_list), nseg, twin], dtype = np.float32) \n",
    "    for ipre, pretrain in enumerate(pretrain_list):\n",
    "        t0 = time.time()\n",
    "        eqt = sbm.EQTransformer.from_pretrained(pretrain)\n",
    "        eqt.to(device);\n",
    "        eqt._annotate_args['overlap'] = ('Overlap between prediction windows in samples \\\n",
    "                                        (only for window prediction models)', step)\n",
    "        eqt._annotate_args['blinding'] = ('Number of prediction samples to discard on \\\n",
    "                                         each side of each window prediction', (l_blnd, r_blnd))\n",
    "        eqt.eval();\n",
    "        if pretrain == 'original':\n",
    "            # batch prediction through torch model\n",
    "            windows_std_tt = torch.Tensor(windows_std)\n",
    "            _torch_pred = eqt(windows_std_tt.to(device))\n",
    "        else:\n",
    "            windows_max_tt = torch.Tensor(windows_max)\n",
    "            _torch_pred = eqt(windows_max_tt.to(device))\n",
    "        batch_pred[0, ipre, :] = _torch_pred[1].detach().cpu().numpy()\n",
    "        batch_pred[1, ipre, :] = _torch_pred[2].detach().cpu().numpy()\n",
    "\n",
    "    # clean up memory\n",
    "    del _torch_pred, windows_max_tt, windows_std_tt\n",
    "    del windows_std, windows_max\n",
    "    gc.collect()\n",
    "    torch.cuda.empty_cache()\n",
    "\n",
    "    print(f\"All prediction shape: {batch_pred.shape}\")\n",
    "    \n",
    "    ####################### You don't need this\n",
    "#     pretrain_pred = np.zeros([2, len(pretrain_list), npts], dtype = np.float32)\n",
    "#     for ipre, pretrain in enumerate(pretrain_list):\n",
    "#        # 0 for P-wave\n",
    "#         pretrain_pred[0, ipre, :] = stacking(batch_pred[0, ipre, :], npts, l_blnd, r_blnd)\n",
    "# \n",
    "#        # 1 for S-wave\n",
    "#        pretrain_pred[1, ipre, :] = stacking(batch_pred[1, ipre, :], npts, l_blnd, r_blnd)\n",
    "    ####################### You don't need this\n",
    "    \n",
    "    smb_pred = np.zeros([2, nseg, twin], dtype = np.float32)\n",
    "    # calculate the semblance\n",
    "    ## the semblance may takes a while bit to calculate\n",
    "    \n",
    "    ############################# remove tqdm (extra progress bar)\n",
    "#     for iseg in tqdm(range(nseg)):\n",
    "    for iseg in range(nseg):\n",
    "    #############################\n",
    "        # 0 for P-wave\n",
    "        smb_pred[0, iseg, :] = ensemble_semblance(batch_pred[0, :, iseg, :], paras_semblance)\n",
    "\n",
    "        # 1 for P-wave\n",
    "        smb_pred[1, iseg, :] = ensemble_semblance(batch_pred[1, :, iseg, :], paras_semblance)\n",
    "\n",
    "    ## ... and stack\n",
    "    # 0 for P-wave\n",
    "    ####################### add a nseg argument here\n",
    "    #smb_p = stacking(smb_pred[0, :], npts, l_blnd, r_blnd)\n",
    "    smb_p = stacking(smb_pred[0, :], npts, l_blnd, r_blnd, nseg)\n",
    "\n",
    "    # 1 for P-wave\n",
    "    #smb_s = stacking(smb_pred[1, :], npts, l_blnd, r_blnd)\n",
    "    smb_s = stacking(smb_pred[1, :], npts, l_blnd, r_blnd, nseg)\n",
    "    #######################\n",
    "    # clean-up RAM\n",
    "    del smb_pred, batch_pred\n",
    "\n",
    "    p_index = picks_summary_simple(smb_p, p_thrd)\n",
    "    s_index = picks_summary_simple(smb_s, s_thrd)\n",
    "    print(f\"{len(p_index)} P picks\\n{len(s_index)} S picks\")\n",
    "    \n",
    "    # Create lists and a data frame\n",
    "    event_id = []\n",
    "    source_type = []\n",
    "    station_network_code = []\n",
    "    station_channel_code = []\n",
    "    station_code = []\n",
    "    station_location_code = []\n",
    "    station_latitude_deg= []\n",
    "    station_longitude_deg = []\n",
    "    station_elevation_m = []\n",
    "    trace_name = []\n",
    "    trace_sampling_rate_hz = []\n",
    "    trace_start_time = []\n",
    "    trace_S_arrival_sample = []\n",
    "    trace_P_arrival_sample = []\n",
    "    trace_S_onset = []\n",
    "    trace_P_onset = []\n",
    "    trace_snr_db = []\n",
    "    trace_p_arrival = []\n",
    "    trace_s_arrival = []\n",
    "\n",
    "    for i, idx in enumerate(p_index):\n",
    "        event_id.append(' ')\n",
    "        source_type.append(' ')\n",
    "        station_network_code.append('7D')\n",
    "        station_channel_code.append(' ')\n",
    "        station_code.append(station)\n",
    "        station_location_code.append(sdata[0].stats.location)   \n",
    "        station_latitude_deg.append(inventory[0][0].latitude)\n",
    "        station_longitude_deg.append(inventory[0][0].longitude)   \n",
    "        station_elevation_m.append(inventory[0][0].elevation)\n",
    "        trace_name.append(' ')\n",
    "        trace_sampling_rate_hz.append(sdata[0].stats.sampling_rate)\n",
    "        trace_start_time.append(sdata[0].stats.starttime)\n",
    "        trace_S_arrival_sample.append(' ')\n",
    "        trace_P_arrival_sample.append(' ')\n",
    "        trace_S_onset.append(' ')\n",
    "        trace_P_onset.append(' ')\n",
    "        trace_snr_db.append(' ')\n",
    "        trace_s_arrival.append(np.nan)\n",
    "        trace_p_arrival.append(str(starttime  + idx * delta))\n",
    "\n",
    "    for i, idx in enumerate(s_index):\n",
    "        event_id.append(' ')\n",
    "        source_type.append(' ')\n",
    "        station_network_code.append('7D')\n",
    "        station_channel_code.append(' ')\n",
    "        station_code.append(station)\n",
    "        station_location_code.append(sdata[0].stats.location)   \n",
    "        station_latitude_deg.append(inventory[0][0].latitude)\n",
    "        station_longitude_deg.append(inventory[0][0].longitude)   \n",
    "        station_elevation_m.append(inventory[0][0].elevation)\n",
    "        trace_name.append(' ')\n",
    "        trace_sampling_rate_hz.append(sdata[0].stats.sampling_rate)\n",
    "        trace_start_time.append(sdata[0].stats.starttime)\n",
    "        trace_S_arrival_sample.append(' ')\n",
    "        trace_P_arrival_sample.append(' ')\n",
    "        trace_S_onset.append(' ')\n",
    "        trace_P_onset.append(' ')\n",
    "        trace_snr_db.append(' ')\n",
    "        trace_s_arrival.append(str(starttime  + idx * delta))\n",
    "        trace_p_arrival.append(np.nan)\n",
    "\n",
    "    # dictionary of lists\n",
    "    dict = {'event_id':event_id,'source_type':source_type,'station_network_code':station_network_code,\\\n",
    "            'station_channel_code':station_channel_code,'station_code':station_code,'station_location_code':station_location_code,\\\n",
    "            'station_latitude_deg':station_latitude_deg,'station_longitude_deg':station_longitude_deg, \\\n",
    "            'station_elevation_m':station_elevation_m,'trace_name':trace_name,'trace_sampling_rate_hz':trace_sampling_rate_hz,\\\n",
    "            'trace_start_time':trace_start_time,'trace_S_arrival_sample':trace_S_arrival_sample,\\\n",
    "            'trace_P_arrival_sample':trace_P_arrival_sample, 'trace_S_onset':trace_S_onset,'trace_P_onset':trace_P_onset,\\\n",
    "            'trace_snr_db':trace_snr_db, 'trace_s_arrival':trace_s_arrival, 'trace_p_arrival':trace_p_arrival}\n",
    "\n",
    "    df = pd.DataFrame(dict)\n",
    "\n",
    "    # Make the specific day into a string:\n",
    "    tstring = t1.strftime('%Y%m%d')\n",
    "    # Build the full file name:\n",
    "    ##################################################\n",
    "#     file_name = file_path+station+'_'+tstring+'.csv'\n",
    "    file_name = filepath+station+'_'+tstring+'.csv'\n",
    "    ##################################################\n",
    "    # Write to file using that name\n",
    "    df.to_csv(file_name)"
   ]
  },
  {
   "cell_type": "code",
   "execution_count": 79,
   "id": "e995b55c",
   "metadata": {},
   "outputs": [],
   "source": [
    "# Combine that list of days with the list of stations\n",
    "# We are essentially creating a list of the number of tasks we have to do with the information that is unique to each task; we will do them in parallel\n",
    "task_list = []\n",
    "for i in range(len(networks_stas)):\n",
    "\tfor t in time_bins:\n",
    "\t\ttask_list.append([networks_stas[i][0], networks_stas[i][1],t])"
   ]
  },
  {
   "cell_type": "code",
   "execution_count": 80,
   "id": "7ec6c541",
   "metadata": {},
   "outputs": [
    {
     "data": {
      "text/plain": [
       "[['TA', 'J01E', Timestamp('2012-10-01 00:00:00')],\n",
       " ['TA', 'J01E', Timestamp('2012-10-02 00:00:00')],\n",
       " ['TA', 'J01E', Timestamp('2012-10-03 00:00:00')],\n",
       " ['TA', 'J01E', Timestamp('2012-10-04 00:00:00')],\n",
       " ['TA', 'J01E', Timestamp('2012-10-05 00:00:00')],\n",
       " ['TA', 'J01E', Timestamp('2012-10-06 00:00:00')],\n",
       " ['TA', 'J01E', Timestamp('2012-10-07 00:00:00')],\n",
       " ['TA', 'J01E', Timestamp('2012-10-08 00:00:00')],\n",
       " ['TA', 'J01E', Timestamp('2012-10-09 00:00:00')],\n",
       " ['TA', 'J01E', Timestamp('2012-10-10 00:00:00')],\n",
       " ['TA', 'J01E', Timestamp('2012-10-11 00:00:00')],\n",
       " ['TA', 'J01E', Timestamp('2012-10-12 00:00:00')],\n",
       " ['TA', 'J01E', Timestamp('2012-10-13 00:00:00')],\n",
       " ['TA', 'J01E', Timestamp('2012-10-14 00:00:00')],\n",
       " ['TA', 'J01E', Timestamp('2012-10-15 00:00:00')],\n",
       " ['TA', 'J01E', Timestamp('2012-10-16 00:00:00')],\n",
       " ['TA', 'J01E', Timestamp('2012-10-17 00:00:00')],\n",
       " ['TA', 'J01E', Timestamp('2012-10-18 00:00:00')],\n",
       " ['TA', 'J01E', Timestamp('2012-10-19 00:00:00')],\n",
       " ['TA', 'J01E', Timestamp('2012-10-20 00:00:00')],\n",
       " ['TA', 'J01E', Timestamp('2012-10-21 00:00:00')],\n",
       " ['TA', 'J01E', Timestamp('2012-10-22 00:00:00')],\n",
       " ['TA', 'J01E', Timestamp('2012-10-23 00:00:00')],\n",
       " ['TA', 'J01E', Timestamp('2012-10-24 00:00:00')],\n",
       " ['TA', 'J01E', Timestamp('2012-10-25 00:00:00')],\n",
       " ['TA', 'J01E', Timestamp('2012-10-26 00:00:00')],\n",
       " ['TA', 'J01E', Timestamp('2012-10-27 00:00:00')],\n",
       " ['TA', 'J01E', Timestamp('2012-10-28 00:00:00')],\n",
       " ['TA', 'J01E', Timestamp('2012-10-29 00:00:00')],\n",
       " ['TA', 'J01E', Timestamp('2012-10-30 00:00:00')],\n",
       " ['TA', 'J01E', Timestamp('2012-10-31 00:00:00')],\n",
       " ['TA', 'I02D', Timestamp('2012-10-01 00:00:00')],\n",
       " ['TA', 'I02D', Timestamp('2012-10-02 00:00:00')],\n",
       " ['TA', 'I02D', Timestamp('2012-10-03 00:00:00')],\n",
       " ['TA', 'I02D', Timestamp('2012-10-04 00:00:00')],\n",
       " ['TA', 'I02D', Timestamp('2012-10-05 00:00:00')],\n",
       " ['TA', 'I02D', Timestamp('2012-10-06 00:00:00')],\n",
       " ['TA', 'I02D', Timestamp('2012-10-07 00:00:00')],\n",
       " ['TA', 'I02D', Timestamp('2012-10-08 00:00:00')],\n",
       " ['TA', 'I02D', Timestamp('2012-10-09 00:00:00')],\n",
       " ['TA', 'I02D', Timestamp('2012-10-10 00:00:00')],\n",
       " ['TA', 'I02D', Timestamp('2012-10-11 00:00:00')],\n",
       " ['TA', 'I02D', Timestamp('2012-10-12 00:00:00')],\n",
       " ['TA', 'I02D', Timestamp('2012-10-13 00:00:00')],\n",
       " ['TA', 'I02D', Timestamp('2012-10-14 00:00:00')],\n",
       " ['TA', 'I02D', Timestamp('2012-10-15 00:00:00')],\n",
       " ['TA', 'I02D', Timestamp('2012-10-16 00:00:00')],\n",
       " ['TA', 'I02D', Timestamp('2012-10-17 00:00:00')],\n",
       " ['TA', 'I02D', Timestamp('2012-10-18 00:00:00')],\n",
       " ['TA', 'I02D', Timestamp('2012-10-19 00:00:00')],\n",
       " ['TA', 'I02D', Timestamp('2012-10-20 00:00:00')],\n",
       " ['TA', 'I02D', Timestamp('2012-10-21 00:00:00')],\n",
       " ['TA', 'I02D', Timestamp('2012-10-22 00:00:00')],\n",
       " ['TA', 'I02D', Timestamp('2012-10-23 00:00:00')],\n",
       " ['TA', 'I02D', Timestamp('2012-10-24 00:00:00')],\n",
       " ['TA', 'I02D', Timestamp('2012-10-25 00:00:00')],\n",
       " ['TA', 'I02D', Timestamp('2012-10-26 00:00:00')],\n",
       " ['TA', 'I02D', Timestamp('2012-10-27 00:00:00')],\n",
       " ['TA', 'I02D', Timestamp('2012-10-28 00:00:00')],\n",
       " ['TA', 'I02D', Timestamp('2012-10-29 00:00:00')],\n",
       " ['TA', 'I02D', Timestamp('2012-10-30 00:00:00')],\n",
       " ['TA', 'I02D', Timestamp('2012-10-31 00:00:00')],\n",
       " ['7D', 'FS09B', Timestamp('2012-10-01 00:00:00')],\n",
       " ['7D', 'FS09B', Timestamp('2012-10-02 00:00:00')],\n",
       " ['7D', 'FS09B', Timestamp('2012-10-03 00:00:00')],\n",
       " ['7D', 'FS09B', Timestamp('2012-10-04 00:00:00')],\n",
       " ['7D', 'FS09B', Timestamp('2012-10-05 00:00:00')],\n",
       " ['7D', 'FS09B', Timestamp('2012-10-06 00:00:00')],\n",
       " ['7D', 'FS09B', Timestamp('2012-10-07 00:00:00')],\n",
       " ['7D', 'FS09B', Timestamp('2012-10-08 00:00:00')],\n",
       " ['7D', 'FS09B', Timestamp('2012-10-09 00:00:00')],\n",
       " ['7D', 'FS09B', Timestamp('2012-10-10 00:00:00')],\n",
       " ['7D', 'FS09B', Timestamp('2012-10-11 00:00:00')],\n",
       " ['7D', 'FS09B', Timestamp('2012-10-12 00:00:00')],\n",
       " ['7D', 'FS09B', Timestamp('2012-10-13 00:00:00')],\n",
       " ['7D', 'FS09B', Timestamp('2012-10-14 00:00:00')],\n",
       " ['7D', 'FS09B', Timestamp('2012-10-15 00:00:00')],\n",
       " ['7D', 'FS09B', Timestamp('2012-10-16 00:00:00')],\n",
       " ['7D', 'FS09B', Timestamp('2012-10-17 00:00:00')],\n",
       " ['7D', 'FS09B', Timestamp('2012-10-18 00:00:00')],\n",
       " ['7D', 'FS09B', Timestamp('2012-10-19 00:00:00')],\n",
       " ['7D', 'FS09B', Timestamp('2012-10-20 00:00:00')],\n",
       " ['7D', 'FS09B', Timestamp('2012-10-21 00:00:00')],\n",
       " ['7D', 'FS09B', Timestamp('2012-10-22 00:00:00')],\n",
       " ['7D', 'FS09B', Timestamp('2012-10-23 00:00:00')],\n",
       " ['7D', 'FS09B', Timestamp('2012-10-24 00:00:00')],\n",
       " ['7D', 'FS09B', Timestamp('2012-10-25 00:00:00')],\n",
       " ['7D', 'FS09B', Timestamp('2012-10-26 00:00:00')],\n",
       " ['7D', 'FS09B', Timestamp('2012-10-27 00:00:00')],\n",
       " ['7D', 'FS09B', Timestamp('2012-10-28 00:00:00')],\n",
       " ['7D', 'FS09B', Timestamp('2012-10-29 00:00:00')],\n",
       " ['7D', 'FS09B', Timestamp('2012-10-30 00:00:00')],\n",
       " ['7D', 'FS09B', Timestamp('2012-10-31 00:00:00')],\n",
       " ['7D', 'M09B', Timestamp('2012-10-01 00:00:00')],\n",
       " ['7D', 'M09B', Timestamp('2012-10-02 00:00:00')],\n",
       " ['7D', 'M09B', Timestamp('2012-10-03 00:00:00')],\n",
       " ['7D', 'M09B', Timestamp('2012-10-04 00:00:00')],\n",
       " ['7D', 'M09B', Timestamp('2012-10-05 00:00:00')],\n",
       " ['7D', 'M09B', Timestamp('2012-10-06 00:00:00')],\n",
       " ['7D', 'M09B', Timestamp('2012-10-07 00:00:00')],\n",
       " ['7D', 'M09B', Timestamp('2012-10-08 00:00:00')],\n",
       " ['7D', 'M09B', Timestamp('2012-10-09 00:00:00')],\n",
       " ['7D', 'M09B', Timestamp('2012-10-10 00:00:00')],\n",
       " ['7D', 'M09B', Timestamp('2012-10-11 00:00:00')],\n",
       " ['7D', 'M09B', Timestamp('2012-10-12 00:00:00')],\n",
       " ['7D', 'M09B', Timestamp('2012-10-13 00:00:00')],\n",
       " ['7D', 'M09B', Timestamp('2012-10-14 00:00:00')],\n",
       " ['7D', 'M09B', Timestamp('2012-10-15 00:00:00')],\n",
       " ['7D', 'M09B', Timestamp('2012-10-16 00:00:00')],\n",
       " ['7D', 'M09B', Timestamp('2012-10-17 00:00:00')],\n",
       " ['7D', 'M09B', Timestamp('2012-10-18 00:00:00')],\n",
       " ['7D', 'M09B', Timestamp('2012-10-19 00:00:00')],\n",
       " ['7D', 'M09B', Timestamp('2012-10-20 00:00:00')],\n",
       " ['7D', 'M09B', Timestamp('2012-10-21 00:00:00')],\n",
       " ['7D', 'M09B', Timestamp('2012-10-22 00:00:00')],\n",
       " ['7D', 'M09B', Timestamp('2012-10-23 00:00:00')],\n",
       " ['7D', 'M09B', Timestamp('2012-10-24 00:00:00')],\n",
       " ['7D', 'M09B', Timestamp('2012-10-25 00:00:00')],\n",
       " ['7D', 'M09B', Timestamp('2012-10-26 00:00:00')],\n",
       " ['7D', 'M09B', Timestamp('2012-10-27 00:00:00')],\n",
       " ['7D', 'M09B', Timestamp('2012-10-28 00:00:00')],\n",
       " ['7D', 'M09B', Timestamp('2012-10-29 00:00:00')],\n",
       " ['7D', 'M09B', Timestamp('2012-10-30 00:00:00')],\n",
       " ['7D', 'M09B', Timestamp('2012-10-31 00:00:00')],\n",
       " ['7D', 'J09B', Timestamp('2012-10-01 00:00:00')],\n",
       " ['7D', 'J09B', Timestamp('2012-10-02 00:00:00')],\n",
       " ['7D', 'J09B', Timestamp('2012-10-03 00:00:00')],\n",
       " ['7D', 'J09B', Timestamp('2012-10-04 00:00:00')],\n",
       " ['7D', 'J09B', Timestamp('2012-10-05 00:00:00')],\n",
       " ['7D', 'J09B', Timestamp('2012-10-06 00:00:00')],\n",
       " ['7D', 'J09B', Timestamp('2012-10-07 00:00:00')],\n",
       " ['7D', 'J09B', Timestamp('2012-10-08 00:00:00')],\n",
       " ['7D', 'J09B', Timestamp('2012-10-09 00:00:00')],\n",
       " ['7D', 'J09B', Timestamp('2012-10-10 00:00:00')],\n",
       " ['7D', 'J09B', Timestamp('2012-10-11 00:00:00')],\n",
       " ['7D', 'J09B', Timestamp('2012-10-12 00:00:00')],\n",
       " ['7D', 'J09B', Timestamp('2012-10-13 00:00:00')],\n",
       " ['7D', 'J09B', Timestamp('2012-10-14 00:00:00')],\n",
       " ['7D', 'J09B', Timestamp('2012-10-15 00:00:00')],\n",
       " ['7D', 'J09B', Timestamp('2012-10-16 00:00:00')],\n",
       " ['7D', 'J09B', Timestamp('2012-10-17 00:00:00')],\n",
       " ['7D', 'J09B', Timestamp('2012-10-18 00:00:00')],\n",
       " ['7D', 'J09B', Timestamp('2012-10-19 00:00:00')],\n",
       " ['7D', 'J09B', Timestamp('2012-10-20 00:00:00')],\n",
       " ['7D', 'J09B', Timestamp('2012-10-21 00:00:00')],\n",
       " ['7D', 'J09B', Timestamp('2012-10-22 00:00:00')],\n",
       " ['7D', 'J09B', Timestamp('2012-10-23 00:00:00')],\n",
       " ['7D', 'J09B', Timestamp('2012-10-24 00:00:00')],\n",
       " ['7D', 'J09B', Timestamp('2012-10-25 00:00:00')],\n",
       " ['7D', 'J09B', Timestamp('2012-10-26 00:00:00')],\n",
       " ['7D', 'J09B', Timestamp('2012-10-27 00:00:00')],\n",
       " ['7D', 'J09B', Timestamp('2012-10-28 00:00:00')],\n",
       " ['7D', 'J09B', Timestamp('2012-10-29 00:00:00')],\n",
       " ['7D', 'J09B', Timestamp('2012-10-30 00:00:00')],\n",
       " ['7D', 'J09B', Timestamp('2012-10-31 00:00:00')],\n",
       " ['7D', 'G10B', Timestamp('2012-10-01 00:00:00')],\n",
       " ['7D', 'G10B', Timestamp('2012-10-02 00:00:00')],\n",
       " ['7D', 'G10B', Timestamp('2012-10-03 00:00:00')],\n",
       " ['7D', 'G10B', Timestamp('2012-10-04 00:00:00')],\n",
       " ['7D', 'G10B', Timestamp('2012-10-05 00:00:00')],\n",
       " ['7D', 'G10B', Timestamp('2012-10-06 00:00:00')],\n",
       " ['7D', 'G10B', Timestamp('2012-10-07 00:00:00')],\n",
       " ['7D', 'G10B', Timestamp('2012-10-08 00:00:00')],\n",
       " ['7D', 'G10B', Timestamp('2012-10-09 00:00:00')],\n",
       " ['7D', 'G10B', Timestamp('2012-10-10 00:00:00')],\n",
       " ['7D', 'G10B', Timestamp('2012-10-11 00:00:00')],\n",
       " ['7D', 'G10B', Timestamp('2012-10-12 00:00:00')],\n",
       " ['7D', 'G10B', Timestamp('2012-10-13 00:00:00')],\n",
       " ['7D', 'G10B', Timestamp('2012-10-14 00:00:00')],\n",
       " ['7D', 'G10B', Timestamp('2012-10-15 00:00:00')],\n",
       " ['7D', 'G10B', Timestamp('2012-10-16 00:00:00')],\n",
       " ['7D', 'G10B', Timestamp('2012-10-17 00:00:00')],\n",
       " ['7D', 'G10B', Timestamp('2012-10-18 00:00:00')],\n",
       " ['7D', 'G10B', Timestamp('2012-10-19 00:00:00')],\n",
       " ['7D', 'G10B', Timestamp('2012-10-20 00:00:00')],\n",
       " ['7D', 'G10B', Timestamp('2012-10-21 00:00:00')],\n",
       " ['7D', 'G10B', Timestamp('2012-10-22 00:00:00')],\n",
       " ['7D', 'G10B', Timestamp('2012-10-23 00:00:00')],\n",
       " ['7D', 'G10B', Timestamp('2012-10-24 00:00:00')],\n",
       " ['7D', 'G10B', Timestamp('2012-10-25 00:00:00')],\n",
       " ['7D', 'G10B', Timestamp('2012-10-26 00:00:00')],\n",
       " ['7D', 'G10B', Timestamp('2012-10-27 00:00:00')],\n",
       " ['7D', 'G10B', Timestamp('2012-10-28 00:00:00')],\n",
       " ['7D', 'G10B', Timestamp('2012-10-29 00:00:00')],\n",
       " ['7D', 'G10B', Timestamp('2012-10-30 00:00:00')],\n",
       " ['7D', 'G10B', Timestamp('2012-10-31 00:00:00')],\n",
       " ['7D', 'G27B', Timestamp('2012-10-01 00:00:00')],\n",
       " ['7D', 'G27B', Timestamp('2012-10-02 00:00:00')],\n",
       " ['7D', 'G27B', Timestamp('2012-10-03 00:00:00')],\n",
       " ['7D', 'G27B', Timestamp('2012-10-04 00:00:00')],\n",
       " ['7D', 'G27B', Timestamp('2012-10-05 00:00:00')],\n",
       " ['7D', 'G27B', Timestamp('2012-10-06 00:00:00')],\n",
       " ['7D', 'G27B', Timestamp('2012-10-07 00:00:00')],\n",
       " ['7D', 'G27B', Timestamp('2012-10-08 00:00:00')],\n",
       " ['7D', 'G27B', Timestamp('2012-10-09 00:00:00')],\n",
       " ['7D', 'G27B', Timestamp('2012-10-10 00:00:00')],\n",
       " ['7D', 'G27B', Timestamp('2012-10-11 00:00:00')],\n",
       " ['7D', 'G27B', Timestamp('2012-10-12 00:00:00')],\n",
       " ['7D', 'G27B', Timestamp('2012-10-13 00:00:00')],\n",
       " ['7D', 'G27B', Timestamp('2012-10-14 00:00:00')],\n",
       " ['7D', 'G27B', Timestamp('2012-10-15 00:00:00')],\n",
       " ['7D', 'G27B', Timestamp('2012-10-16 00:00:00')],\n",
       " ['7D', 'G27B', Timestamp('2012-10-17 00:00:00')],\n",
       " ['7D', 'G27B', Timestamp('2012-10-18 00:00:00')],\n",
       " ['7D', 'G27B', Timestamp('2012-10-19 00:00:00')],\n",
       " ['7D', 'G27B', Timestamp('2012-10-20 00:00:00')],\n",
       " ['7D', 'G27B', Timestamp('2012-10-21 00:00:00')],\n",
       " ['7D', 'G27B', Timestamp('2012-10-22 00:00:00')],\n",
       " ['7D', 'G27B', Timestamp('2012-10-23 00:00:00')],\n",
       " ['7D', 'G27B', Timestamp('2012-10-24 00:00:00')],\n",
       " ['7D', 'G27B', Timestamp('2012-10-25 00:00:00')],\n",
       " ['7D', 'G27B', Timestamp('2012-10-26 00:00:00')],\n",
       " ['7D', 'G27B', Timestamp('2012-10-27 00:00:00')],\n",
       " ['7D', 'G27B', Timestamp('2012-10-28 00:00:00')],\n",
       " ['7D', 'G27B', Timestamp('2012-10-29 00:00:00')],\n",
       " ['7D', 'G27B', Timestamp('2012-10-30 00:00:00')],\n",
       " ['7D', 'G27B', Timestamp('2012-10-31 00:00:00')],\n",
       " ['7D', 'G25B', Timestamp('2012-10-01 00:00:00')],\n",
       " ['7D', 'G25B', Timestamp('2012-10-02 00:00:00')],\n",
       " ['7D', 'G25B', Timestamp('2012-10-03 00:00:00')],\n",
       " ['7D', 'G25B', Timestamp('2012-10-04 00:00:00')],\n",
       " ['7D', 'G25B', Timestamp('2012-10-05 00:00:00')],\n",
       " ['7D', 'G25B', Timestamp('2012-10-06 00:00:00')],\n",
       " ['7D', 'G25B', Timestamp('2012-10-07 00:00:00')],\n",
       " ['7D', 'G25B', Timestamp('2012-10-08 00:00:00')],\n",
       " ['7D', 'G25B', Timestamp('2012-10-09 00:00:00')],\n",
       " ['7D', 'G25B', Timestamp('2012-10-10 00:00:00')],\n",
       " ['7D', 'G25B', Timestamp('2012-10-11 00:00:00')],\n",
       " ['7D', 'G25B', Timestamp('2012-10-12 00:00:00')],\n",
       " ['7D', 'G25B', Timestamp('2012-10-13 00:00:00')],\n",
       " ['7D', 'G25B', Timestamp('2012-10-14 00:00:00')],\n",
       " ['7D', 'G25B', Timestamp('2012-10-15 00:00:00')],\n",
       " ['7D', 'G25B', Timestamp('2012-10-16 00:00:00')],\n",
       " ['7D', 'G25B', Timestamp('2012-10-17 00:00:00')],\n",
       " ['7D', 'G25B', Timestamp('2012-10-18 00:00:00')],\n",
       " ['7D', 'G25B', Timestamp('2012-10-19 00:00:00')],\n",
       " ['7D', 'G25B', Timestamp('2012-10-20 00:00:00')],\n",
       " ['7D', 'G25B', Timestamp('2012-10-21 00:00:00')],\n",
       " ['7D', 'G25B', Timestamp('2012-10-22 00:00:00')],\n",
       " ['7D', 'G25B', Timestamp('2012-10-23 00:00:00')],\n",
       " ['7D', 'G25B', Timestamp('2012-10-24 00:00:00')],\n",
       " ['7D', 'G25B', Timestamp('2012-10-25 00:00:00')],\n",
       " ['7D', 'G25B', Timestamp('2012-10-26 00:00:00')],\n",
       " ['7D', 'G25B', Timestamp('2012-10-27 00:00:00')],\n",
       " ['7D', 'G25B', Timestamp('2012-10-28 00:00:00')],\n",
       " ['7D', 'G25B', Timestamp('2012-10-29 00:00:00')],\n",
       " ['7D', 'G25B', Timestamp('2012-10-30 00:00:00')],\n",
       " ['7D', 'G25B', Timestamp('2012-10-31 00:00:00')],\n",
       " ['7D', 'G26B', Timestamp('2012-10-01 00:00:00')],\n",
       " ['7D', 'G26B', Timestamp('2012-10-02 00:00:00')],\n",
       " ['7D', 'G26B', Timestamp('2012-10-03 00:00:00')],\n",
       " ['7D', 'G26B', Timestamp('2012-10-04 00:00:00')],\n",
       " ['7D', 'G26B', Timestamp('2012-10-05 00:00:00')],\n",
       " ['7D', 'G26B', Timestamp('2012-10-06 00:00:00')],\n",
       " ['7D', 'G26B', Timestamp('2012-10-07 00:00:00')],\n",
       " ['7D', 'G26B', Timestamp('2012-10-08 00:00:00')],\n",
       " ['7D', 'G26B', Timestamp('2012-10-09 00:00:00')],\n",
       " ['7D', 'G26B', Timestamp('2012-10-10 00:00:00')],\n",
       " ['7D', 'G26B', Timestamp('2012-10-11 00:00:00')],\n",
       " ['7D', 'G26B', Timestamp('2012-10-12 00:00:00')],\n",
       " ['7D', 'G26B', Timestamp('2012-10-13 00:00:00')],\n",
       " ['7D', 'G26B', Timestamp('2012-10-14 00:00:00')],\n",
       " ['7D', 'G26B', Timestamp('2012-10-15 00:00:00')],\n",
       " ['7D', 'G26B', Timestamp('2012-10-16 00:00:00')],\n",
       " ['7D', 'G26B', Timestamp('2012-10-17 00:00:00')],\n",
       " ['7D', 'G26B', Timestamp('2012-10-18 00:00:00')],\n",
       " ['7D', 'G26B', Timestamp('2012-10-19 00:00:00')],\n",
       " ['7D', 'G26B', Timestamp('2012-10-20 00:00:00')],\n",
       " ['7D', 'G26B', Timestamp('2012-10-21 00:00:00')],\n",
       " ['7D', 'G26B', Timestamp('2012-10-22 00:00:00')],\n",
       " ['7D', 'G26B', Timestamp('2012-10-23 00:00:00')],\n",
       " ['7D', 'G26B', Timestamp('2012-10-24 00:00:00')],\n",
       " ['7D', 'G26B', Timestamp('2012-10-25 00:00:00')],\n",
       " ['7D', 'G26B', Timestamp('2012-10-26 00:00:00')],\n",
       " ['7D', 'G26B', Timestamp('2012-10-27 00:00:00')],\n",
       " ['7D', 'G26B', Timestamp('2012-10-28 00:00:00')],\n",
       " ['7D', 'G26B', Timestamp('2012-10-29 00:00:00')],\n",
       " ['7D', 'G26B', Timestamp('2012-10-30 00:00:00')],\n",
       " ['7D', 'G26B', Timestamp('2012-10-31 00:00:00')],\n",
       " ['7D', 'FS13B', Timestamp('2012-10-01 00:00:00')],\n",
       " ['7D', 'FS13B', Timestamp('2012-10-02 00:00:00')],\n",
       " ['7D', 'FS13B', Timestamp('2012-10-03 00:00:00')],\n",
       " ['7D', 'FS13B', Timestamp('2012-10-04 00:00:00')],\n",
       " ['7D', 'FS13B', Timestamp('2012-10-05 00:00:00')],\n",
       " ['7D', 'FS13B', Timestamp('2012-10-06 00:00:00')],\n",
       " ['7D', 'FS13B', Timestamp('2012-10-07 00:00:00')],\n",
       " ['7D', 'FS13B', Timestamp('2012-10-08 00:00:00')],\n",
       " ['7D', 'FS13B', Timestamp('2012-10-09 00:00:00')],\n",
       " ['7D', 'FS13B', Timestamp('2012-10-10 00:00:00')],\n",
       " ['7D', 'FS13B', Timestamp('2012-10-11 00:00:00')],\n",
       " ['7D', 'FS13B', Timestamp('2012-10-12 00:00:00')],\n",
       " ['7D', 'FS13B', Timestamp('2012-10-13 00:00:00')],\n",
       " ['7D', 'FS13B', Timestamp('2012-10-14 00:00:00')],\n",
       " ['7D', 'FS13B', Timestamp('2012-10-15 00:00:00')],\n",
       " ['7D', 'FS13B', Timestamp('2012-10-16 00:00:00')],\n",
       " ['7D', 'FS13B', Timestamp('2012-10-17 00:00:00')],\n",
       " ['7D', 'FS13B', Timestamp('2012-10-18 00:00:00')],\n",
       " ['7D', 'FS13B', Timestamp('2012-10-19 00:00:00')],\n",
       " ['7D', 'FS13B', Timestamp('2012-10-20 00:00:00')],\n",
       " ['7D', 'FS13B', Timestamp('2012-10-21 00:00:00')],\n",
       " ['7D', 'FS13B', Timestamp('2012-10-22 00:00:00')],\n",
       " ['7D', 'FS13B', Timestamp('2012-10-23 00:00:00')],\n",
       " ['7D', 'FS13B', Timestamp('2012-10-24 00:00:00')],\n",
       " ['7D', 'FS13B', Timestamp('2012-10-25 00:00:00')],\n",
       " ['7D', 'FS13B', Timestamp('2012-10-26 00:00:00')],\n",
       " ['7D', 'FS13B', Timestamp('2012-10-27 00:00:00')],\n",
       " ['7D', 'FS13B', Timestamp('2012-10-28 00:00:00')],\n",
       " ['7D', 'FS13B', Timestamp('2012-10-29 00:00:00')],\n",
       " ['7D', 'FS13B', Timestamp('2012-10-30 00:00:00')],\n",
       " ['7D', 'FS13B', Timestamp('2012-10-31 00:00:00')],\n",
       " ['7D', 'M12B', Timestamp('2012-10-01 00:00:00')],\n",
       " ['7D', 'M12B', Timestamp('2012-10-02 00:00:00')],\n",
       " ['7D', 'M12B', Timestamp('2012-10-03 00:00:00')],\n",
       " ['7D', 'M12B', Timestamp('2012-10-04 00:00:00')],\n",
       " ['7D', 'M12B', Timestamp('2012-10-05 00:00:00')],\n",
       " ['7D', 'M12B', Timestamp('2012-10-06 00:00:00')],\n",
       " ['7D', 'M12B', Timestamp('2012-10-07 00:00:00')],\n",
       " ['7D', 'M12B', Timestamp('2012-10-08 00:00:00')],\n",
       " ['7D', 'M12B', Timestamp('2012-10-09 00:00:00')],\n",
       " ['7D', 'M12B', Timestamp('2012-10-10 00:00:00')],\n",
       " ['7D', 'M12B', Timestamp('2012-10-11 00:00:00')],\n",
       " ['7D', 'M12B', Timestamp('2012-10-12 00:00:00')],\n",
       " ['7D', 'M12B', Timestamp('2012-10-13 00:00:00')],\n",
       " ['7D', 'M12B', Timestamp('2012-10-14 00:00:00')],\n",
       " ['7D', 'M12B', Timestamp('2012-10-15 00:00:00')],\n",
       " ['7D', 'M12B', Timestamp('2012-10-16 00:00:00')],\n",
       " ['7D', 'M12B', Timestamp('2012-10-17 00:00:00')],\n",
       " ['7D', 'M12B', Timestamp('2012-10-18 00:00:00')],\n",
       " ['7D', 'M12B', Timestamp('2012-10-19 00:00:00')],\n",
       " ['7D', 'M12B', Timestamp('2012-10-20 00:00:00')],\n",
       " ['7D', 'M12B', Timestamp('2012-10-21 00:00:00')],\n",
       " ['7D', 'M12B', Timestamp('2012-10-22 00:00:00')],\n",
       " ['7D', 'M12B', Timestamp('2012-10-23 00:00:00')],\n",
       " ['7D', 'M12B', Timestamp('2012-10-24 00:00:00')],\n",
       " ['7D', 'M12B', Timestamp('2012-10-25 00:00:00')],\n",
       " ['7D', 'M12B', Timestamp('2012-10-26 00:00:00')],\n",
       " ['7D', 'M12B', Timestamp('2012-10-27 00:00:00')],\n",
       " ['7D', 'M12B', Timestamp('2012-10-28 00:00:00')],\n",
       " ['7D', 'M12B', Timestamp('2012-10-29 00:00:00')],\n",
       " ['7D', 'M12B', Timestamp('2012-10-30 00:00:00')],\n",
       " ['7D', 'M12B', Timestamp('2012-10-31 00:00:00')],\n",
       " ['7D', 'G17B', Timestamp('2012-10-01 00:00:00')],\n",
       " ['7D', 'G17B', Timestamp('2012-10-02 00:00:00')],\n",
       " ['7D', 'G17B', Timestamp('2012-10-03 00:00:00')],\n",
       " ['7D', 'G17B', Timestamp('2012-10-04 00:00:00')],\n",
       " ['7D', 'G17B', Timestamp('2012-10-05 00:00:00')],\n",
       " ['7D', 'G17B', Timestamp('2012-10-06 00:00:00')],\n",
       " ['7D', 'G17B', Timestamp('2012-10-07 00:00:00')],\n",
       " ['7D', 'G17B', Timestamp('2012-10-08 00:00:00')],\n",
       " ['7D', 'G17B', Timestamp('2012-10-09 00:00:00')],\n",
       " ['7D', 'G17B', Timestamp('2012-10-10 00:00:00')],\n",
       " ['7D', 'G17B', Timestamp('2012-10-11 00:00:00')],\n",
       " ['7D', 'G17B', Timestamp('2012-10-12 00:00:00')],\n",
       " ['7D', 'G17B', Timestamp('2012-10-13 00:00:00')],\n",
       " ['7D', 'G17B', Timestamp('2012-10-14 00:00:00')],\n",
       " ['7D', 'G17B', Timestamp('2012-10-15 00:00:00')],\n",
       " ['7D', 'G17B', Timestamp('2012-10-16 00:00:00')],\n",
       " ['7D', 'G17B', Timestamp('2012-10-17 00:00:00')],\n",
       " ['7D', 'G17B', Timestamp('2012-10-18 00:00:00')],\n",
       " ['7D', 'G17B', Timestamp('2012-10-19 00:00:00')],\n",
       " ['7D', 'G17B', Timestamp('2012-10-20 00:00:00')],\n",
       " ['7D', 'G17B', Timestamp('2012-10-21 00:00:00')],\n",
       " ['7D', 'G17B', Timestamp('2012-10-22 00:00:00')],\n",
       " ['7D', 'G17B', Timestamp('2012-10-23 00:00:00')],\n",
       " ['7D', 'G17B', Timestamp('2012-10-24 00:00:00')],\n",
       " ['7D', 'G17B', Timestamp('2012-10-25 00:00:00')],\n",
       " ['7D', 'G17B', Timestamp('2012-10-26 00:00:00')],\n",
       " ['7D', 'G17B', Timestamp('2012-10-27 00:00:00')],\n",
       " ['7D', 'G17B', Timestamp('2012-10-28 00:00:00')],\n",
       " ['7D', 'G17B', Timestamp('2012-10-29 00:00:00')],\n",
       " ['7D', 'G17B', Timestamp('2012-10-30 00:00:00')],\n",
       " ['7D', 'G17B', Timestamp('2012-10-31 00:00:00')],\n",
       " ['7D', 'FS20B', Timestamp('2012-10-01 00:00:00')],\n",
       " ['7D', 'FS20B', Timestamp('2012-10-02 00:00:00')],\n",
       " ['7D', 'FS20B', Timestamp('2012-10-03 00:00:00')],\n",
       " ['7D', 'FS20B', Timestamp('2012-10-04 00:00:00')],\n",
       " ['7D', 'FS20B', Timestamp('2012-10-05 00:00:00')],\n",
       " ['7D', 'FS20B', Timestamp('2012-10-06 00:00:00')],\n",
       " ['7D', 'FS20B', Timestamp('2012-10-07 00:00:00')],\n",
       " ['7D', 'FS20B', Timestamp('2012-10-08 00:00:00')],\n",
       " ['7D', 'FS20B', Timestamp('2012-10-09 00:00:00')],\n",
       " ['7D', 'FS20B', Timestamp('2012-10-10 00:00:00')],\n",
       " ['7D', 'FS20B', Timestamp('2012-10-11 00:00:00')],\n",
       " ['7D', 'FS20B', Timestamp('2012-10-12 00:00:00')],\n",
       " ['7D', 'FS20B', Timestamp('2012-10-13 00:00:00')],\n",
       " ['7D', 'FS20B', Timestamp('2012-10-14 00:00:00')],\n",
       " ['7D', 'FS20B', Timestamp('2012-10-15 00:00:00')],\n",
       " ['7D', 'FS20B', Timestamp('2012-10-16 00:00:00')],\n",
       " ['7D', 'FS20B', Timestamp('2012-10-17 00:00:00')],\n",
       " ['7D', 'FS20B', Timestamp('2012-10-18 00:00:00')],\n",
       " ['7D', 'FS20B', Timestamp('2012-10-19 00:00:00')],\n",
       " ['7D', 'FS20B', Timestamp('2012-10-20 00:00:00')],\n",
       " ['7D', 'FS20B', Timestamp('2012-10-21 00:00:00')],\n",
       " ['7D', 'FS20B', Timestamp('2012-10-22 00:00:00')],\n",
       " ['7D', 'FS20B', Timestamp('2012-10-23 00:00:00')],\n",
       " ['7D', 'FS20B', Timestamp('2012-10-24 00:00:00')],\n",
       " ['7D', 'FS20B', Timestamp('2012-10-25 00:00:00')],\n",
       " ['7D', 'FS20B', Timestamp('2012-10-26 00:00:00')],\n",
       " ['7D', 'FS20B', Timestamp('2012-10-27 00:00:00')],\n",
       " ['7D', 'FS20B', Timestamp('2012-10-28 00:00:00')],\n",
       " ['7D', 'FS20B', Timestamp('2012-10-29 00:00:00')],\n",
       " ['7D', 'FS20B', Timestamp('2012-10-30 00:00:00')],\n",
       " ['7D', 'FS20B', Timestamp('2012-10-31 00:00:00')],\n",
       " ['7D', 'FS17B', Timestamp('2012-10-01 00:00:00')],\n",
       " ['7D', 'FS17B', Timestamp('2012-10-02 00:00:00')],\n",
       " ['7D', 'FS17B', Timestamp('2012-10-03 00:00:00')],\n",
       " ['7D', 'FS17B', Timestamp('2012-10-04 00:00:00')],\n",
       " ['7D', 'FS17B', Timestamp('2012-10-05 00:00:00')],\n",
       " ['7D', 'FS17B', Timestamp('2012-10-06 00:00:00')],\n",
       " ['7D', 'FS17B', Timestamp('2012-10-07 00:00:00')],\n",
       " ['7D', 'FS17B', Timestamp('2012-10-08 00:00:00')],\n",
       " ['7D', 'FS17B', Timestamp('2012-10-09 00:00:00')],\n",
       " ['7D', 'FS17B', Timestamp('2012-10-10 00:00:00')],\n",
       " ['7D', 'FS17B', Timestamp('2012-10-11 00:00:00')],\n",
       " ['7D', 'FS17B', Timestamp('2012-10-12 00:00:00')],\n",
       " ['7D', 'FS17B', Timestamp('2012-10-13 00:00:00')],\n",
       " ['7D', 'FS17B', Timestamp('2012-10-14 00:00:00')],\n",
       " ['7D', 'FS17B', Timestamp('2012-10-15 00:00:00')],\n",
       " ['7D', 'FS17B', Timestamp('2012-10-16 00:00:00')],\n",
       " ['7D', 'FS17B', Timestamp('2012-10-17 00:00:00')],\n",
       " ['7D', 'FS17B', Timestamp('2012-10-18 00:00:00')],\n",
       " ['7D', 'FS17B', Timestamp('2012-10-19 00:00:00')],\n",
       " ['7D', 'FS17B', Timestamp('2012-10-20 00:00:00')],\n",
       " ['7D', 'FS17B', Timestamp('2012-10-21 00:00:00')],\n",
       " ['7D', 'FS17B', Timestamp('2012-10-22 00:00:00')],\n",
       " ['7D', 'FS17B', Timestamp('2012-10-23 00:00:00')],\n",
       " ['7D', 'FS17B', Timestamp('2012-10-24 00:00:00')],\n",
       " ['7D', 'FS17B', Timestamp('2012-10-25 00:00:00')],\n",
       " ['7D', 'FS17B', Timestamp('2012-10-26 00:00:00')],\n",
       " ['7D', 'FS17B', Timestamp('2012-10-27 00:00:00')],\n",
       " ['7D', 'FS17B', Timestamp('2012-10-28 00:00:00')],\n",
       " ['7D', 'FS17B', Timestamp('2012-10-29 00:00:00')],\n",
       " ['7D', 'FS17B', Timestamp('2012-10-30 00:00:00')],\n",
       " ['7D', 'FS17B', Timestamp('2012-10-31 00:00:00')],\n",
       " ['7D', 'FS16B', Timestamp('2012-10-01 00:00:00')],\n",
       " ['7D', 'FS16B', Timestamp('2012-10-02 00:00:00')],\n",
       " ['7D', 'FS16B', Timestamp('2012-10-03 00:00:00')],\n",
       " ['7D', 'FS16B', Timestamp('2012-10-04 00:00:00')],\n",
       " ['7D', 'FS16B', Timestamp('2012-10-05 00:00:00')],\n",
       " ['7D', 'FS16B', Timestamp('2012-10-06 00:00:00')],\n",
       " ['7D', 'FS16B', Timestamp('2012-10-07 00:00:00')],\n",
       " ['7D', 'FS16B', Timestamp('2012-10-08 00:00:00')],\n",
       " ['7D', 'FS16B', Timestamp('2012-10-09 00:00:00')],\n",
       " ['7D', 'FS16B', Timestamp('2012-10-10 00:00:00')],\n",
       " ['7D', 'FS16B', Timestamp('2012-10-11 00:00:00')],\n",
       " ['7D', 'FS16B', Timestamp('2012-10-12 00:00:00')],\n",
       " ['7D', 'FS16B', Timestamp('2012-10-13 00:00:00')],\n",
       " ['7D', 'FS16B', Timestamp('2012-10-14 00:00:00')],\n",
       " ['7D', 'FS16B', Timestamp('2012-10-15 00:00:00')],\n",
       " ['7D', 'FS16B', Timestamp('2012-10-16 00:00:00')],\n",
       " ['7D', 'FS16B', Timestamp('2012-10-17 00:00:00')],\n",
       " ['7D', 'FS16B', Timestamp('2012-10-18 00:00:00')],\n",
       " ['7D', 'FS16B', Timestamp('2012-10-19 00:00:00')],\n",
       " ['7D', 'FS16B', Timestamp('2012-10-20 00:00:00')],\n",
       " ['7D', 'FS16B', Timestamp('2012-10-21 00:00:00')],\n",
       " ['7D', 'FS16B', Timestamp('2012-10-22 00:00:00')],\n",
       " ['7D', 'FS16B', Timestamp('2012-10-23 00:00:00')],\n",
       " ['7D', 'FS16B', Timestamp('2012-10-24 00:00:00')],\n",
       " ['7D', 'FS16B', Timestamp('2012-10-25 00:00:00')],\n",
       " ['7D', 'FS16B', Timestamp('2012-10-26 00:00:00')],\n",
       " ['7D', 'FS16B', Timestamp('2012-10-27 00:00:00')],\n",
       " ['7D', 'FS16B', Timestamp('2012-10-28 00:00:00')],\n",
       " ['7D', 'FS16B', Timestamp('2012-10-29 00:00:00')],\n",
       " ['7D', 'FS16B', Timestamp('2012-10-30 00:00:00')],\n",
       " ['7D', 'FS16B', Timestamp('2012-10-31 00:00:00')],\n",
       " ['7D', 'J25B', Timestamp('2012-10-01 00:00:00')],\n",
       " ['7D', 'J25B', Timestamp('2012-10-02 00:00:00')],\n",
       " ['7D', 'J25B', Timestamp('2012-10-03 00:00:00')],\n",
       " ['7D', 'J25B', Timestamp('2012-10-04 00:00:00')],\n",
       " ['7D', 'J25B', Timestamp('2012-10-05 00:00:00')],\n",
       " ['7D', 'J25B', Timestamp('2012-10-06 00:00:00')],\n",
       " ['7D', 'J25B', Timestamp('2012-10-07 00:00:00')],\n",
       " ['7D', 'J25B', Timestamp('2012-10-08 00:00:00')],\n",
       " ['7D', 'J25B', Timestamp('2012-10-09 00:00:00')],\n",
       " ['7D', 'J25B', Timestamp('2012-10-10 00:00:00')],\n",
       " ['7D', 'J25B', Timestamp('2012-10-11 00:00:00')],\n",
       " ['7D', 'J25B', Timestamp('2012-10-12 00:00:00')],\n",
       " ['7D', 'J25B', Timestamp('2012-10-13 00:00:00')],\n",
       " ['7D', 'J25B', Timestamp('2012-10-14 00:00:00')],\n",
       " ['7D', 'J25B', Timestamp('2012-10-15 00:00:00')],\n",
       " ['7D', 'J25B', Timestamp('2012-10-16 00:00:00')],\n",
       " ['7D', 'J25B', Timestamp('2012-10-17 00:00:00')],\n",
       " ['7D', 'J25B', Timestamp('2012-10-18 00:00:00')],\n",
       " ['7D', 'J25B', Timestamp('2012-10-19 00:00:00')],\n",
       " ['7D', 'J25B', Timestamp('2012-10-20 00:00:00')],\n",
       " ['7D', 'J25B', Timestamp('2012-10-21 00:00:00')],\n",
       " ['7D', 'J25B', Timestamp('2012-10-22 00:00:00')],\n",
       " ['7D', 'J25B', Timestamp('2012-10-23 00:00:00')],\n",
       " ['7D', 'J25B', Timestamp('2012-10-24 00:00:00')],\n",
       " ['7D', 'J25B', Timestamp('2012-10-25 00:00:00')],\n",
       " ['7D', 'J25B', Timestamp('2012-10-26 00:00:00')],\n",
       " ['7D', 'J25B', Timestamp('2012-10-27 00:00:00')],\n",
       " ['7D', 'J25B', Timestamp('2012-10-28 00:00:00')],\n",
       " ['7D', 'J25B', Timestamp('2012-10-29 00:00:00')],\n",
       " ['7D', 'J25B', Timestamp('2012-10-30 00:00:00')],\n",
       " ['7D', 'J25B', Timestamp('2012-10-31 00:00:00')],\n",
       " ['7D', 'J33B', Timestamp('2012-10-01 00:00:00')],\n",
       " ['7D', 'J33B', Timestamp('2012-10-02 00:00:00')],\n",
       " ['7D', 'J33B', Timestamp('2012-10-03 00:00:00')],\n",
       " ['7D', 'J33B', Timestamp('2012-10-04 00:00:00')],\n",
       " ['7D', 'J33B', Timestamp('2012-10-05 00:00:00')],\n",
       " ['7D', 'J33B', Timestamp('2012-10-06 00:00:00')],\n",
       " ['7D', 'J33B', Timestamp('2012-10-07 00:00:00')],\n",
       " ['7D', 'J33B', Timestamp('2012-10-08 00:00:00')],\n",
       " ['7D', 'J33B', Timestamp('2012-10-09 00:00:00')],\n",
       " ['7D', 'J33B', Timestamp('2012-10-10 00:00:00')],\n",
       " ['7D', 'J33B', Timestamp('2012-10-11 00:00:00')],\n",
       " ['7D', 'J33B', Timestamp('2012-10-12 00:00:00')],\n",
       " ['7D', 'J33B', Timestamp('2012-10-13 00:00:00')],\n",
       " ['7D', 'J33B', Timestamp('2012-10-14 00:00:00')],\n",
       " ['7D', 'J33B', Timestamp('2012-10-15 00:00:00')],\n",
       " ['7D', 'J33B', Timestamp('2012-10-16 00:00:00')],\n",
       " ['7D', 'J33B', Timestamp('2012-10-17 00:00:00')],\n",
       " ['7D', 'J33B', Timestamp('2012-10-18 00:00:00')],\n",
       " ['7D', 'J33B', Timestamp('2012-10-19 00:00:00')],\n",
       " ['7D', 'J33B', Timestamp('2012-10-20 00:00:00')],\n",
       " ['7D', 'J33B', Timestamp('2012-10-21 00:00:00')],\n",
       " ['7D', 'J33B', Timestamp('2012-10-22 00:00:00')],\n",
       " ['7D', 'J33B', Timestamp('2012-10-23 00:00:00')],\n",
       " ['7D', 'J33B', Timestamp('2012-10-24 00:00:00')],\n",
       " ['7D', 'J33B', Timestamp('2012-10-25 00:00:00')],\n",
       " ['7D', 'J33B', Timestamp('2012-10-26 00:00:00')],\n",
       " ['7D', 'J33B', Timestamp('2012-10-27 00:00:00')],\n",
       " ['7D', 'J33B', Timestamp('2012-10-28 00:00:00')],\n",
       " ['7D', 'J33B', Timestamp('2012-10-29 00:00:00')],\n",
       " ['7D', 'J33B', Timestamp('2012-10-30 00:00:00')],\n",
       " ['7D', 'J33B', Timestamp('2012-10-31 00:00:00')],\n",
       " ['7D', 'M14B', Timestamp('2012-10-01 00:00:00')],\n",
       " ['7D', 'M14B', Timestamp('2012-10-02 00:00:00')],\n",
       " ['7D', 'M14B', Timestamp('2012-10-03 00:00:00')],\n",
       " ['7D', 'M14B', Timestamp('2012-10-04 00:00:00')],\n",
       " ['7D', 'M14B', Timestamp('2012-10-05 00:00:00')],\n",
       " ['7D', 'M14B', Timestamp('2012-10-06 00:00:00')],\n",
       " ['7D', 'M14B', Timestamp('2012-10-07 00:00:00')],\n",
       " ['7D', 'M14B', Timestamp('2012-10-08 00:00:00')],\n",
       " ['7D', 'M14B', Timestamp('2012-10-09 00:00:00')],\n",
       " ['7D', 'M14B', Timestamp('2012-10-10 00:00:00')],\n",
       " ['7D', 'M14B', Timestamp('2012-10-11 00:00:00')],\n",
       " ['7D', 'M14B', Timestamp('2012-10-12 00:00:00')],\n",
       " ['7D', 'M14B', Timestamp('2012-10-13 00:00:00')],\n",
       " ['7D', 'M14B', Timestamp('2012-10-14 00:00:00')],\n",
       " ['7D', 'M14B', Timestamp('2012-10-15 00:00:00')],\n",
       " ['7D', 'M14B', Timestamp('2012-10-16 00:00:00')],\n",
       " ['7D', 'M14B', Timestamp('2012-10-17 00:00:00')],\n",
       " ['7D', 'M14B', Timestamp('2012-10-18 00:00:00')],\n",
       " ['7D', 'M14B', Timestamp('2012-10-19 00:00:00')],\n",
       " ['7D', 'M14B', Timestamp('2012-10-20 00:00:00')],\n",
       " ['7D', 'M14B', Timestamp('2012-10-21 00:00:00')],\n",
       " ['7D', 'M14B', Timestamp('2012-10-22 00:00:00')],\n",
       " ['7D', 'M14B', Timestamp('2012-10-23 00:00:00')],\n",
       " ['7D', 'M14B', Timestamp('2012-10-24 00:00:00')],\n",
       " ['7D', 'M14B', Timestamp('2012-10-25 00:00:00')],\n",
       " ['7D', 'M14B', Timestamp('2012-10-26 00:00:00')],\n",
       " ['7D', 'M14B', Timestamp('2012-10-27 00:00:00')],\n",
       " ['7D', 'M14B', Timestamp('2012-10-28 00:00:00')],\n",
       " ['7D', 'M14B', Timestamp('2012-10-29 00:00:00')],\n",
       " ['7D', 'M14B', Timestamp('2012-10-30 00:00:00')],\n",
       " ['7D', 'M14B', Timestamp('2012-10-31 00:00:00')],\n",
       " ['7D', 'G19B', Timestamp('2012-10-01 00:00:00')],\n",
       " ['7D', 'G19B', Timestamp('2012-10-02 00:00:00')],\n",
       " ['7D', 'G19B', Timestamp('2012-10-03 00:00:00')],\n",
       " ['7D', 'G19B', Timestamp('2012-10-04 00:00:00')],\n",
       " ['7D', 'G19B', Timestamp('2012-10-05 00:00:00')],\n",
       " ['7D', 'G19B', Timestamp('2012-10-06 00:00:00')],\n",
       " ['7D', 'G19B', Timestamp('2012-10-07 00:00:00')],\n",
       " ['7D', 'G19B', Timestamp('2012-10-08 00:00:00')],\n",
       " ['7D', 'G19B', Timestamp('2012-10-09 00:00:00')],\n",
       " ['7D', 'G19B', Timestamp('2012-10-10 00:00:00')],\n",
       " ['7D', 'G19B', Timestamp('2012-10-11 00:00:00')],\n",
       " ['7D', 'G19B', Timestamp('2012-10-12 00:00:00')],\n",
       " ['7D', 'G19B', Timestamp('2012-10-13 00:00:00')],\n",
       " ['7D', 'G19B', Timestamp('2012-10-14 00:00:00')],\n",
       " ['7D', 'G19B', Timestamp('2012-10-15 00:00:00')],\n",
       " ['7D', 'G19B', Timestamp('2012-10-16 00:00:00')],\n",
       " ['7D', 'G19B', Timestamp('2012-10-17 00:00:00')],\n",
       " ['7D', 'G19B', Timestamp('2012-10-18 00:00:00')],\n",
       " ['7D', 'G19B', Timestamp('2012-10-19 00:00:00')],\n",
       " ['7D', 'G19B', Timestamp('2012-10-20 00:00:00')],\n",
       " ['7D', 'G19B', Timestamp('2012-10-21 00:00:00')],\n",
       " ['7D', 'G19B', Timestamp('2012-10-22 00:00:00')],\n",
       " ['7D', 'G19B', Timestamp('2012-10-23 00:00:00')],\n",
       " ['7D', 'G19B', Timestamp('2012-10-24 00:00:00')],\n",
       " ['7D', 'G19B', Timestamp('2012-10-25 00:00:00')],\n",
       " ['7D', 'G19B', Timestamp('2012-10-26 00:00:00')],\n",
       " ['7D', 'G19B', Timestamp('2012-10-27 00:00:00')],\n",
       " ['7D', 'G19B', Timestamp('2012-10-28 00:00:00')],\n",
       " ['7D', 'G19B', Timestamp('2012-10-29 00:00:00')],\n",
       " ['7D', 'G19B', Timestamp('2012-10-30 00:00:00')],\n",
       " ['7D', 'G19B', Timestamp('2012-10-31 00:00:00')],\n",
       " ['UW', 'BABR', Timestamp('2012-10-01 00:00:00')],\n",
       " ['UW', 'BABR', Timestamp('2012-10-02 00:00:00')],\n",
       " ['UW', 'BABR', Timestamp('2012-10-03 00:00:00')],\n",
       " ['UW', 'BABR', Timestamp('2012-10-04 00:00:00')],\n",
       " ['UW', 'BABR', Timestamp('2012-10-05 00:00:00')],\n",
       " ['UW', 'BABR', Timestamp('2012-10-06 00:00:00')],\n",
       " ['UW', 'BABR', Timestamp('2012-10-07 00:00:00')],\n",
       " ['UW', 'BABR', Timestamp('2012-10-08 00:00:00')],\n",
       " ['UW', 'BABR', Timestamp('2012-10-09 00:00:00')],\n",
       " ['UW', 'BABR', Timestamp('2012-10-10 00:00:00')],\n",
       " ['UW', 'BABR', Timestamp('2012-10-11 00:00:00')],\n",
       " ['UW', 'BABR', Timestamp('2012-10-12 00:00:00')],\n",
       " ['UW', 'BABR', Timestamp('2012-10-13 00:00:00')],\n",
       " ['UW', 'BABR', Timestamp('2012-10-14 00:00:00')],\n",
       " ['UW', 'BABR', Timestamp('2012-10-15 00:00:00')],\n",
       " ['UW', 'BABR', Timestamp('2012-10-16 00:00:00')],\n",
       " ['UW', 'BABR', Timestamp('2012-10-17 00:00:00')],\n",
       " ['UW', 'BABR', Timestamp('2012-10-18 00:00:00')],\n",
       " ['UW', 'BABR', Timestamp('2012-10-19 00:00:00')],\n",
       " ['UW', 'BABR', Timestamp('2012-10-20 00:00:00')],\n",
       " ['UW', 'BABR', Timestamp('2012-10-21 00:00:00')],\n",
       " ['UW', 'BABR', Timestamp('2012-10-22 00:00:00')],\n",
       " ['UW', 'BABR', Timestamp('2012-10-23 00:00:00')],\n",
       " ['UW', 'BABR', Timestamp('2012-10-24 00:00:00')],\n",
       " ['UW', 'BABR', Timestamp('2012-10-25 00:00:00')],\n",
       " ['UW', 'BABR', Timestamp('2012-10-26 00:00:00')],\n",
       " ['UW', 'BABR', Timestamp('2012-10-27 00:00:00')],\n",
       " ['UW', 'BABR', Timestamp('2012-10-28 00:00:00')],\n",
       " ['UW', 'BABR', Timestamp('2012-10-29 00:00:00')],\n",
       " ['UW', 'BABR', Timestamp('2012-10-30 00:00:00')],\n",
       " ['UW', 'BABR', Timestamp('2012-10-31 00:00:00')],\n",
       " ['NC', 'KMPB', Timestamp('2012-10-01 00:00:00')],\n",
       " ['NC', 'KMPB', Timestamp('2012-10-02 00:00:00')],\n",
       " ['NC', 'KMPB', Timestamp('2012-10-03 00:00:00')],\n",
       " ['NC', 'KMPB', Timestamp('2012-10-04 00:00:00')],\n",
       " ['NC', 'KMPB', Timestamp('2012-10-05 00:00:00')],\n",
       " ['NC', 'KMPB', Timestamp('2012-10-06 00:00:00')],\n",
       " ['NC', 'KMPB', Timestamp('2012-10-07 00:00:00')],\n",
       " ['NC', 'KMPB', Timestamp('2012-10-08 00:00:00')],\n",
       " ['NC', 'KMPB', Timestamp('2012-10-09 00:00:00')],\n",
       " ['NC', 'KMPB', Timestamp('2012-10-10 00:00:00')],\n",
       " ['NC', 'KMPB', Timestamp('2012-10-11 00:00:00')],\n",
       " ['NC', 'KMPB', Timestamp('2012-10-12 00:00:00')],\n",
       " ['NC', 'KMPB', Timestamp('2012-10-13 00:00:00')],\n",
       " ['NC', 'KMPB', Timestamp('2012-10-14 00:00:00')],\n",
       " ['NC', 'KMPB', Timestamp('2012-10-15 00:00:00')],\n",
       " ['NC', 'KMPB', Timestamp('2012-10-16 00:00:00')],\n",
       " ['NC', 'KMPB', Timestamp('2012-10-17 00:00:00')],\n",
       " ['NC', 'KMPB', Timestamp('2012-10-18 00:00:00')],\n",
       " ['NC', 'KMPB', Timestamp('2012-10-19 00:00:00')],\n",
       " ['NC', 'KMPB', Timestamp('2012-10-20 00:00:00')],\n",
       " ['NC', 'KMPB', Timestamp('2012-10-21 00:00:00')],\n",
       " ['NC', 'KMPB', Timestamp('2012-10-22 00:00:00')],\n",
       " ['NC', 'KMPB', Timestamp('2012-10-23 00:00:00')],\n",
       " ['NC', 'KMPB', Timestamp('2012-10-24 00:00:00')],\n",
       " ['NC', 'KMPB', Timestamp('2012-10-25 00:00:00')],\n",
       " ['NC', 'KMPB', Timestamp('2012-10-26 00:00:00')],\n",
       " ['NC', 'KMPB', Timestamp('2012-10-27 00:00:00')],\n",
       " ['NC', 'KMPB', Timestamp('2012-10-28 00:00:00')],\n",
       " ['NC', 'KMPB', Timestamp('2012-10-29 00:00:00')],\n",
       " ['NC', 'KMPB', Timestamp('2012-10-30 00:00:00')],\n",
       " ['NC', 'KMPB', Timestamp('2012-10-31 00:00:00')],\n",
       " ['NC', 'KBO', Timestamp('2012-10-01 00:00:00')],\n",
       " ['NC', 'KBO', Timestamp('2012-10-02 00:00:00')],\n",
       " ['NC', 'KBO', Timestamp('2012-10-03 00:00:00')],\n",
       " ['NC', 'KBO', Timestamp('2012-10-04 00:00:00')],\n",
       " ['NC', 'KBO', Timestamp('2012-10-05 00:00:00')],\n",
       " ['NC', 'KBO', Timestamp('2012-10-06 00:00:00')],\n",
       " ['NC', 'KBO', Timestamp('2012-10-07 00:00:00')],\n",
       " ['NC', 'KBO', Timestamp('2012-10-08 00:00:00')],\n",
       " ['NC', 'KBO', Timestamp('2012-10-09 00:00:00')],\n",
       " ['NC', 'KBO', Timestamp('2012-10-10 00:00:00')],\n",
       " ['NC', 'KBO', Timestamp('2012-10-11 00:00:00')],\n",
       " ['NC', 'KBO', Timestamp('2012-10-12 00:00:00')],\n",
       " ['NC', 'KBO', Timestamp('2012-10-13 00:00:00')],\n",
       " ['NC', 'KBO', Timestamp('2012-10-14 00:00:00')],\n",
       " ['NC', 'KBO', Timestamp('2012-10-15 00:00:00')],\n",
       " ['NC', 'KBO', Timestamp('2012-10-16 00:00:00')],\n",
       " ['NC', 'KBO', Timestamp('2012-10-17 00:00:00')],\n",
       " ['NC', 'KBO', Timestamp('2012-10-18 00:00:00')],\n",
       " ['NC', 'KBO', Timestamp('2012-10-19 00:00:00')],\n",
       " ['NC', 'KBO', Timestamp('2012-10-20 00:00:00')],\n",
       " ['NC', 'KBO', Timestamp('2012-10-21 00:00:00')],\n",
       " ['NC', 'KBO', Timestamp('2012-10-22 00:00:00')],\n",
       " ['NC', 'KBO', Timestamp('2012-10-23 00:00:00')],\n",
       " ['NC', 'KBO', Timestamp('2012-10-24 00:00:00')],\n",
       " ['NC', 'KBO', Timestamp('2012-10-25 00:00:00')],\n",
       " ['NC', 'KBO', Timestamp('2012-10-26 00:00:00')],\n",
       " ['NC', 'KBO', Timestamp('2012-10-27 00:00:00')],\n",
       " ['NC', 'KBO', Timestamp('2012-10-28 00:00:00')],\n",
       " ['NC', 'KBO', Timestamp('2012-10-29 00:00:00')],\n",
       " ['NC', 'KBO', Timestamp('2012-10-30 00:00:00')],\n",
       " ['NC', 'KBO', Timestamp('2012-10-31 00:00:00')],\n",
       " ['NC', 'KOM', Timestamp('2012-10-01 00:00:00')],\n",
       " ['NC', 'KOM', Timestamp('2012-10-02 00:00:00')],\n",
       " ['NC', 'KOM', Timestamp('2012-10-03 00:00:00')],\n",
       " ['NC', 'KOM', Timestamp('2012-10-04 00:00:00')],\n",
       " ['NC', 'KOM', Timestamp('2012-10-05 00:00:00')],\n",
       " ['NC', 'KOM', Timestamp('2012-10-06 00:00:00')],\n",
       " ['NC', 'KOM', Timestamp('2012-10-07 00:00:00')],\n",
       " ['NC', 'KOM', Timestamp('2012-10-08 00:00:00')],\n",
       " ['NC', 'KOM', Timestamp('2012-10-09 00:00:00')],\n",
       " ['NC', 'KOM', Timestamp('2012-10-10 00:00:00')],\n",
       " ['NC', 'KOM', Timestamp('2012-10-11 00:00:00')],\n",
       " ['NC', 'KOM', Timestamp('2012-10-12 00:00:00')],\n",
       " ['NC', 'KOM', Timestamp('2012-10-13 00:00:00')],\n",
       " ['NC', 'KOM', Timestamp('2012-10-14 00:00:00')],\n",
       " ['NC', 'KOM', Timestamp('2012-10-15 00:00:00')],\n",
       " ['NC', 'KOM', Timestamp('2012-10-16 00:00:00')],\n",
       " ['NC', 'KOM', Timestamp('2012-10-17 00:00:00')],\n",
       " ['NC', 'KOM', Timestamp('2012-10-18 00:00:00')],\n",
       " ['NC', 'KOM', Timestamp('2012-10-19 00:00:00')],\n",
       " ['NC', 'KOM', Timestamp('2012-10-20 00:00:00')],\n",
       " ['NC', 'KOM', Timestamp('2012-10-21 00:00:00')],\n",
       " ['NC', 'KOM', Timestamp('2012-10-22 00:00:00')],\n",
       " ['NC', 'KOM', Timestamp('2012-10-23 00:00:00')],\n",
       " ['NC', 'KOM', Timestamp('2012-10-24 00:00:00')],\n",
       " ['NC', 'KOM', Timestamp('2012-10-25 00:00:00')],\n",
       " ['NC', 'KOM', Timestamp('2012-10-26 00:00:00')],\n",
       " ['NC', 'KOM', Timestamp('2012-10-27 00:00:00')],\n",
       " ['NC', 'KOM', Timestamp('2012-10-28 00:00:00')],\n",
       " ['NC', 'KOM', Timestamp('2012-10-29 00:00:00')],\n",
       " ['NC', 'KOM', Timestamp('2012-10-30 00:00:00')],\n",
       " ['NC', 'KOM', Timestamp('2012-10-31 00:00:00')],\n",
       " ['NC', 'KRMB', Timestamp('2012-10-01 00:00:00')],\n",
       " ['NC', 'KRMB', Timestamp('2012-10-02 00:00:00')],\n",
       " ['NC', 'KRMB', Timestamp('2012-10-03 00:00:00')],\n",
       " ['NC', 'KRMB', Timestamp('2012-10-04 00:00:00')],\n",
       " ['NC', 'KRMB', Timestamp('2012-10-05 00:00:00')],\n",
       " ['NC', 'KRMB', Timestamp('2012-10-06 00:00:00')],\n",
       " ['NC', 'KRMB', Timestamp('2012-10-07 00:00:00')],\n",
       " ['NC', 'KRMB', Timestamp('2012-10-08 00:00:00')],\n",
       " ['NC', 'KRMB', Timestamp('2012-10-09 00:00:00')],\n",
       " ['NC', 'KRMB', Timestamp('2012-10-10 00:00:00')],\n",
       " ['NC', 'KRMB', Timestamp('2012-10-11 00:00:00')],\n",
       " ['NC', 'KRMB', Timestamp('2012-10-12 00:00:00')],\n",
       " ['NC', 'KRMB', Timestamp('2012-10-13 00:00:00')],\n",
       " ['NC', 'KRMB', Timestamp('2012-10-14 00:00:00')],\n",
       " ['NC', 'KRMB', Timestamp('2012-10-15 00:00:00')],\n",
       " ['NC', 'KRMB', Timestamp('2012-10-16 00:00:00')],\n",
       " ['NC', 'KRMB', Timestamp('2012-10-17 00:00:00')],\n",
       " ['NC', 'KRMB', Timestamp('2012-10-18 00:00:00')],\n",
       " ['NC', 'KRMB', Timestamp('2012-10-19 00:00:00')],\n",
       " ['NC', 'KRMB', Timestamp('2012-10-20 00:00:00')],\n",
       " ['NC', 'KRMB', Timestamp('2012-10-21 00:00:00')],\n",
       " ['NC', 'KRMB', Timestamp('2012-10-22 00:00:00')],\n",
       " ['NC', 'KRMB', Timestamp('2012-10-23 00:00:00')],\n",
       " ['NC', 'KRMB', Timestamp('2012-10-24 00:00:00')],\n",
       " ['NC', 'KRMB', Timestamp('2012-10-25 00:00:00')],\n",
       " ['NC', 'KRMB', Timestamp('2012-10-26 00:00:00')],\n",
       " ['NC', 'KRMB', Timestamp('2012-10-27 00:00:00')],\n",
       " ['NC', 'KRMB', Timestamp('2012-10-28 00:00:00')],\n",
       " ['NC', 'KRMB', Timestamp('2012-10-29 00:00:00')],\n",
       " ['NC', 'KRMB', Timestamp('2012-10-30 00:00:00')],\n",
       " ['NC', 'KRMB', Timestamp('2012-10-31 00:00:00')],\n",
       " ['NC', 'KHMB', Timestamp('2012-10-01 00:00:00')],\n",
       " ['NC', 'KHMB', Timestamp('2012-10-02 00:00:00')],\n",
       " ['NC', 'KHMB', Timestamp('2012-10-03 00:00:00')],\n",
       " ['NC', 'KHMB', Timestamp('2012-10-04 00:00:00')],\n",
       " ['NC', 'KHMB', Timestamp('2012-10-05 00:00:00')],\n",
       " ['NC', 'KHMB', Timestamp('2012-10-06 00:00:00')],\n",
       " ['NC', 'KHMB', Timestamp('2012-10-07 00:00:00')],\n",
       " ['NC', 'KHMB', Timestamp('2012-10-08 00:00:00')],\n",
       " ['NC', 'KHMB', Timestamp('2012-10-09 00:00:00')],\n",
       " ['NC', 'KHMB', Timestamp('2012-10-10 00:00:00')],\n",
       " ['NC', 'KHMB', Timestamp('2012-10-11 00:00:00')],\n",
       " ['NC', 'KHMB', Timestamp('2012-10-12 00:00:00')],\n",
       " ['NC', 'KHMB', Timestamp('2012-10-13 00:00:00')],\n",
       " ['NC', 'KHMB', Timestamp('2012-10-14 00:00:00')],\n",
       " ['NC', 'KHMB', Timestamp('2012-10-15 00:00:00')],\n",
       " ['NC', 'KHMB', Timestamp('2012-10-16 00:00:00')],\n",
       " ['NC', 'KHMB', Timestamp('2012-10-17 00:00:00')],\n",
       " ['NC', 'KHMB', Timestamp('2012-10-18 00:00:00')],\n",
       " ['NC', 'KHMB', Timestamp('2012-10-19 00:00:00')],\n",
       " ['NC', 'KHMB', Timestamp('2012-10-20 00:00:00')],\n",
       " ['NC', 'KHMB', Timestamp('2012-10-21 00:00:00')],\n",
       " ['NC', 'KHMB', Timestamp('2012-10-22 00:00:00')],\n",
       " ['NC', 'KHMB', Timestamp('2012-10-23 00:00:00')],\n",
       " ['NC', 'KHMB', Timestamp('2012-10-24 00:00:00')],\n",
       " ['NC', 'KHMB', Timestamp('2012-10-25 00:00:00')],\n",
       " ['NC', 'KHMB', Timestamp('2012-10-26 00:00:00')],\n",
       " ['NC', 'KHMB', Timestamp('2012-10-27 00:00:00')],\n",
       " ['NC', 'KHMB', Timestamp('2012-10-28 00:00:00')],\n",
       " ['NC', 'KHMB', Timestamp('2012-10-29 00:00:00')],\n",
       " ['NC', 'KHMB', Timestamp('2012-10-30 00:00:00')],\n",
       " ['NC', 'KHMB', Timestamp('2012-10-31 00:00:00')],\n",
       " ['NC', 'KSXB', Timestamp('2012-10-01 00:00:00')],\n",
       " ['NC', 'KSXB', Timestamp('2012-10-02 00:00:00')],\n",
       " ['NC', 'KSXB', Timestamp('2012-10-03 00:00:00')],\n",
       " ['NC', 'KSXB', Timestamp('2012-10-04 00:00:00')],\n",
       " ['NC', 'KSXB', Timestamp('2012-10-05 00:00:00')],\n",
       " ['NC', 'KSXB', Timestamp('2012-10-06 00:00:00')],\n",
       " ['NC', 'KSXB', Timestamp('2012-10-07 00:00:00')],\n",
       " ['NC', 'KSXB', Timestamp('2012-10-08 00:00:00')],\n",
       " ['NC', 'KSXB', Timestamp('2012-10-09 00:00:00')],\n",
       " ['NC', 'KSXB', Timestamp('2012-10-10 00:00:00')],\n",
       " ['NC', 'KSXB', Timestamp('2012-10-11 00:00:00')],\n",
       " ['NC', 'KSXB', Timestamp('2012-10-12 00:00:00')],\n",
       " ['NC', 'KSXB', Timestamp('2012-10-13 00:00:00')],\n",
       " ['NC', 'KSXB', Timestamp('2012-10-14 00:00:00')],\n",
       " ['NC', 'KSXB', Timestamp('2012-10-15 00:00:00')],\n",
       " ['NC', 'KSXB', Timestamp('2012-10-16 00:00:00')],\n",
       " ['NC', 'KSXB', Timestamp('2012-10-17 00:00:00')],\n",
       " ['NC', 'KSXB', Timestamp('2012-10-18 00:00:00')],\n",
       " ['NC', 'KSXB', Timestamp('2012-10-19 00:00:00')],\n",
       " ['NC', 'KSXB', Timestamp('2012-10-20 00:00:00')],\n",
       " ['NC', 'KSXB', Timestamp('2012-10-21 00:00:00')],\n",
       " ['NC', 'KSXB', Timestamp('2012-10-22 00:00:00')],\n",
       " ['NC', 'KSXB', Timestamp('2012-10-23 00:00:00')],\n",
       " ['NC', 'KSXB', Timestamp('2012-10-24 00:00:00')],\n",
       " ['NC', 'KSXB', Timestamp('2012-10-25 00:00:00')],\n",
       " ['NC', 'KSXB', Timestamp('2012-10-26 00:00:00')],\n",
       " ['NC', 'KSXB', Timestamp('2012-10-27 00:00:00')],\n",
       " ['NC', 'KSXB', Timestamp('2012-10-28 00:00:00')],\n",
       " ['NC', 'KSXB', Timestamp('2012-10-29 00:00:00')],\n",
       " ['NC', 'KSXB', Timestamp('2012-10-30 00:00:00')],\n",
       " ['NC', 'KSXB', Timestamp('2012-10-31 00:00:00')],\n",
       " ['NC', 'KHBB', Timestamp('2012-10-01 00:00:00')],\n",
       " ['NC', 'KHBB', Timestamp('2012-10-02 00:00:00')],\n",
       " ['NC', 'KHBB', Timestamp('2012-10-03 00:00:00')],\n",
       " ['NC', 'KHBB', Timestamp('2012-10-04 00:00:00')],\n",
       " ['NC', 'KHBB', Timestamp('2012-10-05 00:00:00')],\n",
       " ['NC', 'KHBB', Timestamp('2012-10-06 00:00:00')],\n",
       " ['NC', 'KHBB', Timestamp('2012-10-07 00:00:00')],\n",
       " ['NC', 'KHBB', Timestamp('2012-10-08 00:00:00')],\n",
       " ['NC', 'KHBB', Timestamp('2012-10-09 00:00:00')],\n",
       " ['NC', 'KHBB', Timestamp('2012-10-10 00:00:00')],\n",
       " ['NC', 'KHBB', Timestamp('2012-10-11 00:00:00')],\n",
       " ['NC', 'KHBB', Timestamp('2012-10-12 00:00:00')],\n",
       " ['NC', 'KHBB', Timestamp('2012-10-13 00:00:00')],\n",
       " ['NC', 'KHBB', Timestamp('2012-10-14 00:00:00')],\n",
       " ['NC', 'KHBB', Timestamp('2012-10-15 00:00:00')],\n",
       " ['NC', 'KHBB', Timestamp('2012-10-16 00:00:00')],\n",
       " ['NC', 'KHBB', Timestamp('2012-10-17 00:00:00')],\n",
       " ['NC', 'KHBB', Timestamp('2012-10-18 00:00:00')],\n",
       " ['NC', 'KHBB', Timestamp('2012-10-19 00:00:00')],\n",
       " ['NC', 'KHBB', Timestamp('2012-10-20 00:00:00')],\n",
       " ['NC', 'KHBB', Timestamp('2012-10-21 00:00:00')],\n",
       " ['NC', 'KHBB', Timestamp('2012-10-22 00:00:00')],\n",
       " ['NC', 'KHBB', Timestamp('2012-10-23 00:00:00')],\n",
       " ['NC', 'KHBB', Timestamp('2012-10-24 00:00:00')],\n",
       " ['NC', 'KHBB', Timestamp('2012-10-25 00:00:00')],\n",
       " ['NC', 'KHBB', Timestamp('2012-10-26 00:00:00')],\n",
       " ['NC', 'KHBB', Timestamp('2012-10-27 00:00:00')],\n",
       " ['NC', 'KHBB', Timestamp('2012-10-28 00:00:00')],\n",
       " ['NC', 'KHBB', Timestamp('2012-10-29 00:00:00')],\n",
       " ['NC', 'KHBB', Timestamp('2012-10-30 00:00:00')],\n",
       " ['NC', 'KHBB', Timestamp('2012-10-31 00:00:00')],\n",
       " ['NC', 'KEB', Timestamp('2012-10-01 00:00:00')],\n",
       " ['NC', 'KEB', Timestamp('2012-10-02 00:00:00')],\n",
       " ['NC', 'KEB', Timestamp('2012-10-03 00:00:00')],\n",
       " ['NC', 'KEB', Timestamp('2012-10-04 00:00:00')],\n",
       " ['NC', 'KEB', Timestamp('2012-10-05 00:00:00')],\n",
       " ['NC', 'KEB', Timestamp('2012-10-06 00:00:00')],\n",
       " ['NC', 'KEB', Timestamp('2012-10-07 00:00:00')],\n",
       " ['NC', 'KEB', Timestamp('2012-10-08 00:00:00')],\n",
       " ['NC', 'KEB', Timestamp('2012-10-09 00:00:00')],\n",
       " ['NC', 'KEB', Timestamp('2012-10-10 00:00:00')],\n",
       " ['NC', 'KEB', Timestamp('2012-10-11 00:00:00')],\n",
       " ['NC', 'KEB', Timestamp('2012-10-12 00:00:00')],\n",
       " ['NC', 'KEB', Timestamp('2012-10-13 00:00:00')],\n",
       " ['NC', 'KEB', Timestamp('2012-10-14 00:00:00')],\n",
       " ['NC', 'KEB', Timestamp('2012-10-15 00:00:00')],\n",
       " ['NC', 'KEB', Timestamp('2012-10-16 00:00:00')],\n",
       " ['NC', 'KEB', Timestamp('2012-10-17 00:00:00')],\n",
       " ['NC', 'KEB', Timestamp('2012-10-18 00:00:00')],\n",
       " ['NC', 'KEB', Timestamp('2012-10-19 00:00:00')],\n",
       " ['NC', 'KEB', Timestamp('2012-10-20 00:00:00')],\n",
       " ['NC', 'KEB', Timestamp('2012-10-21 00:00:00')],\n",
       " ['NC', 'KEB', Timestamp('2012-10-22 00:00:00')],\n",
       " ['NC', 'KEB', Timestamp('2012-10-23 00:00:00')],\n",
       " ['NC', 'KEB', Timestamp('2012-10-24 00:00:00')],\n",
       " ['NC', 'KEB', Timestamp('2012-10-25 00:00:00')],\n",
       " ['NC', 'KEB', Timestamp('2012-10-26 00:00:00')],\n",
       " ['NC', 'KEB', Timestamp('2012-10-27 00:00:00')],\n",
       " ['NC', 'KEB', Timestamp('2012-10-28 00:00:00')],\n",
       " ['NC', 'KEB', Timestamp('2012-10-29 00:00:00')],\n",
       " ['NC', 'KEB', Timestamp('2012-10-30 00:00:00')],\n",
       " ['NC', 'KEB', Timestamp('2012-10-31 00:00:00')],\n",
       " ['BK', 'JCC', Timestamp('2012-10-01 00:00:00')],\n",
       " ['BK', 'JCC', Timestamp('2012-10-02 00:00:00')],\n",
       " ['BK', 'JCC', Timestamp('2012-10-03 00:00:00')],\n",
       " ['BK', 'JCC', Timestamp('2012-10-04 00:00:00')],\n",
       " ['BK', 'JCC', Timestamp('2012-10-05 00:00:00')],\n",
       " ['BK', 'JCC', Timestamp('2012-10-06 00:00:00')],\n",
       " ['BK', 'JCC', Timestamp('2012-10-07 00:00:00')],\n",
       " ['BK', 'JCC', Timestamp('2012-10-08 00:00:00')],\n",
       " ['BK', 'JCC', Timestamp('2012-10-09 00:00:00')],\n",
       " ['BK', 'JCC', Timestamp('2012-10-10 00:00:00')],\n",
       " ['BK', 'JCC', Timestamp('2012-10-11 00:00:00')],\n",
       " ['BK', 'JCC', Timestamp('2012-10-12 00:00:00')],\n",
       " ['BK', 'JCC', Timestamp('2012-10-13 00:00:00')],\n",
       " ['BK', 'JCC', Timestamp('2012-10-14 00:00:00')],\n",
       " ['BK', 'JCC', Timestamp('2012-10-15 00:00:00')],\n",
       " ['BK', 'JCC', Timestamp('2012-10-16 00:00:00')],\n",
       " ['BK', 'JCC', Timestamp('2012-10-17 00:00:00')],\n",
       " ['BK', 'JCC', Timestamp('2012-10-18 00:00:00')],\n",
       " ['BK', 'JCC', Timestamp('2012-10-19 00:00:00')],\n",
       " ['BK', 'JCC', Timestamp('2012-10-20 00:00:00')],\n",
       " ['BK', 'JCC', Timestamp('2012-10-21 00:00:00')],\n",
       " ['BK', 'JCC', Timestamp('2012-10-22 00:00:00')],\n",
       " ['BK', 'JCC', Timestamp('2012-10-23 00:00:00')],\n",
       " ['BK', 'JCC', Timestamp('2012-10-24 00:00:00')],\n",
       " ['BK', 'JCC', Timestamp('2012-10-25 00:00:00')],\n",
       " ['BK', 'JCC', Timestamp('2012-10-26 00:00:00')],\n",
       " ['BK', 'JCC', Timestamp('2012-10-27 00:00:00')],\n",
       " ['BK', 'JCC', Timestamp('2012-10-28 00:00:00')],\n",
       " ['BK', 'JCC', Timestamp('2012-10-29 00:00:00')],\n",
       " ['BK', 'JCC', Timestamp('2012-10-30 00:00:00')],\n",
       " ['BK', 'JCC', Timestamp('2012-10-31 00:00:00')]]"
      ]
     },
     "execution_count": 80,
     "metadata": {},
     "output_type": "execute_result"
    }
   ],
   "source": [
    "task_list"
   ]
  },
  {
   "cell_type": "code",
   "execution_count": 81,
   "id": "560aff81",
   "metadata": {
    "scrolled": true
   },
   "outputs": [
    {
     "name": "stdout",
     "output_type": "stream",
     "text": [
      "[                                        ] | 0% Completed | 336.69 us['7D', 'J25B']\n",
      "[                                        ] | 0% Completed | 18.87 smsAll prediction shape: (2, 5, 3599, 6000)\n",
      "[                                        ] | 0% Completed | 270.11 s508 P picks\n",
      "612 S picks\n"
     ]
    },
    {
     "name": "stderr",
     "output_type": "stream",
     "text": [
      "/tmp/ipykernel_4065716/2319557713.py:13: RuntimeWarning: All-NaN axis encountered\n",
      "  np.nanmax([stack[idx:idx + twin], _data[iseg+1, :]], axis = 0)\n"
     ]
    },
    {
     "name": "stdout",
     "output_type": "stream",
     "text": [
      "['7D', 'FS13B']\n",
      "[                                        ] | 0% Completed | 286.94 sAll prediction shape: (2, 5, 3599, 6000)\n",
      "[                                        ] | 0% Completed | 537.86 s615 P picks\n",
      "218 S picks\n",
      "[                                        ] | 0% Completed | 537.96 s"
     ]
    },
    {
     "name": "stderr",
     "output_type": "stream",
     "text": [
      "/tmp/ipykernel_4065716/2319557713.py:13: RuntimeWarning: All-NaN axis encountered\n",
      "  np.nanmax([stack[idx:idx + twin], _data[iseg+1, :]], axis = 0)\n"
     ]
    },
    {
     "name": "stdout",
     "output_type": "stream",
     "text": [
      "['7D', 'J33B']\n",
      "[                                        ] | 0% Completed | 554.87 sAll prediction shape: (2, 5, 3599, 6000)\n",
      "[                                        ] | 0% Completed | 13m 25ss242 P picks\n",
      "402 S picks\n"
     ]
    },
    {
     "name": "stderr",
     "output_type": "stream",
     "text": [
      "/tmp/ipykernel_4065716/2319557713.py:13: RuntimeWarning: All-NaN axis encountered\n",
      "  np.nanmax([stack[idx:idx + twin], _data[iseg+1, :]], axis = 0)\n",
      "WARNING:root:No stream returned. Skipping.\n"
     ]
    },
    {
     "name": "stdout",
     "output_type": "stream",
     "text": [
      "['NC', 'KEB']\n",
      "['UW', 'BABR']\n",
      "[                                        ] | 0% Completed | 13m 29sAll prediction shape: (2, 5, 1151, 6000)\n",
      "[                                        ] | 0% Completed | 14m 5ss18 P picks\n",
      "16 S picks\n",
      "['7D', 'G25B']\n",
      "[                                        ] | 0% Completed | 14m 6s"
     ]
    },
    {
     "name": "stderr",
     "output_type": "stream",
     "text": [
      "/tmp/ipykernel_4065716/2319557713.py:13: RuntimeWarning: All-NaN axis encountered\n",
      "  np.nanmax([stack[idx:idx + twin], _data[iseg+1, :]], axis = 0)\n"
     ]
    },
    {
     "name": "stdout",
     "output_type": "stream",
     "text": [
      "[                                        ] | 0% Completed | 14m 22sAll prediction shape: (2, 5, 3599, 6000)\n",
      "[                                        ] | 0% Completed | 18m 34s513 P picks\n",
      "221 S picks\n"
     ]
    },
    {
     "name": "stderr",
     "output_type": "stream",
     "text": [
      "/tmp/ipykernel_4065716/2319557713.py:13: RuntimeWarning: All-NaN axis encountered\n",
      "  np.nanmax([stack[idx:idx + twin], _data[iseg+1, :]], axis = 0)\n"
     ]
    },
    {
     "name": "stdout",
     "output_type": "stream",
     "text": [
      "['7D', 'J25B']\n",
      "[                                        ] | 0% Completed | 18m 50sAll prediction shape: (2, 5, 3599, 6000)\n",
      "[                                        ] | 0% Completed | 23m 1ss565 P picks\n",
      "782 S picks\n"
     ]
    },
    {
     "name": "stderr",
     "output_type": "stream",
     "text": [
      "/tmp/ipykernel_4065716/2319557713.py:13: RuntimeWarning: All-NaN axis encountered\n",
      "  np.nanmax([stack[idx:idx + twin], _data[iseg+1, :]], axis = 0)\n"
     ]
    },
    {
     "name": "stdout",
     "output_type": "stream",
     "text": [
      "['NC', 'KRMB']\n",
      "[                                        ] | 0% Completed | 23m 1s"
     ]
    },
    {
     "name": "stderr",
     "output_type": "stream",
     "text": [
      "WARNING:root:No stream returned. Skipping.\n"
     ]
    },
    {
     "name": "stdout",
     "output_type": "stream",
     "text": [
      "['7D', 'J33B']\n",
      "[                                        ] | 0% Completed | 23m 18sAll prediction shape: (2, 5, 3599, 6000)\n",
      "[                                        ] | 0% Completed | 27m 29s236 P picks\n",
      "410 S picks\n"
     ]
    },
    {
     "name": "stderr",
     "output_type": "stream",
     "text": [
      "/tmp/ipykernel_4065716/2319557713.py:13: RuntimeWarning: All-NaN axis encountered\n",
      "  np.nanmax([stack[idx:idx + twin], _data[iseg+1, :]], axis = 0)\n"
     ]
    },
    {
     "name": "stdout",
     "output_type": "stream",
     "text": [
      "['7D', 'FS16B']\n",
      "[                                        ] | 1% Completed | 27m 46sAll prediction shape: (2, 5, 3598, 6000)\n",
      "[                                        ] | 1% Completed | 31m 56s385 P picks\n",
      "328 S picks\n",
      "['7D', 'FS17B']\n",
      "[                                        ] | 1% Completed | 31m 57s"
     ]
    },
    {
     "name": "stderr",
     "output_type": "stream",
     "text": [
      "/tmp/ipykernel_4065716/2319557713.py:13: RuntimeWarning: All-NaN axis encountered\n",
      "  np.nanmax([stack[idx:idx + twin], _data[iseg+1, :]], axis = 0)\n"
     ]
    },
    {
     "name": "stdout",
     "output_type": "stream",
     "text": [
      "[                                        ] | 1% Completed | 32m 13sAll prediction shape: (2, 5, 3599, 6000)\n",
      "[                                        ] | 1% Completed | 36m 24s604 P picks\n",
      "359 S picks\n"
     ]
    },
    {
     "name": "stderr",
     "output_type": "stream",
     "text": [
      "/tmp/ipykernel_4065716/2319557713.py:13: RuntimeWarning: All-NaN axis encountered\n",
      "  np.nanmax([stack[idx:idx + twin], _data[iseg+1, :]], axis = 0)\n",
      "WARNING:root:No stream returned. Skipping.\n"
     ]
    },
    {
     "name": "stdout",
     "output_type": "stream",
     "text": [
      "['NC', 'KMPB']\n",
      "['NC', 'KHMB']\n",
      "[                                        ] | 1% Completed | 36m 24s"
     ]
    },
    {
     "name": "stderr",
     "output_type": "stream",
     "text": [
      "WARNING:root:No stream returned. Skipping.\n"
     ]
    },
    {
     "name": "stdout",
     "output_type": "stream",
     "text": [
      "['7D', 'G19B']\n",
      "[                                        ] | 1% Completed | 36m 29sAll prediction shape: (2, 5, 1439, 6000)\n",
      "[                                        ] | 1% Completed | 37m 20s77 P picks\n",
      "36 S picks\n",
      "['7D', 'G27B']\n",
      "[                                        ] | 1% Completed | 37m 20s"
     ]
    },
    {
     "name": "stderr",
     "output_type": "stream",
     "text": [
      "/tmp/ipykernel_4065716/2319557713.py:13: RuntimeWarning: All-NaN axis encountered\n",
      "  np.nanmax([stack[idx:idx + twin], _data[iseg+1, :]], axis = 0)\n"
     ]
    },
    {
     "name": "stdout",
     "output_type": "stream",
     "text": [
      "[                                        ] | 1% Completed | 37m 26sAll prediction shape: (2, 5, 1439, 6000)\n",
      "[                                        ] | 1% Completed | 38m 17s154 P picks\n",
      "83 S picks\n",
      "['7D', 'M14B']\n",
      "[                                        ] | 1% Completed | 38m 17s"
     ]
    },
    {
     "name": "stderr",
     "output_type": "stream",
     "text": [
      "/tmp/ipykernel_4065716/2319557713.py:13: RuntimeWarning: All-NaN axis encountered\n",
      "  np.nanmax([stack[idx:idx + twin], _data[iseg+1, :]], axis = 0)\n"
     ]
    },
    {
     "name": "stdout",
     "output_type": "stream",
     "text": [
      "[                                        ] | 1% Completed | 38m 23sAll prediction shape: (2, 5, 1438, 6000)\n",
      "[                                        ] | 1% Completed | 39m 14s137 P picks\n",
      "56 S picks\n",
      "['7D', 'G25B']\n",
      "[                                        ] | 1% Completed | 39m 15s"
     ]
    },
    {
     "name": "stderr",
     "output_type": "stream",
     "text": [
      "/tmp/ipykernel_4065716/2319557713.py:13: RuntimeWarning: All-NaN axis encountered\n",
      "  np.nanmax([stack[idx:idx + twin], _data[iseg+1, :]], axis = 0)\n"
     ]
    },
    {
     "name": "stdout",
     "output_type": "stream",
     "text": [
      "[                                        ] | 1% Completed | 39m 31sAll prediction shape: (2, 5, 3599, 6000)\n",
      "[                                        ] | 1% Completed | 43m 42s418 P picks\n",
      "149 S picks\n"
     ]
    },
    {
     "name": "stderr",
     "output_type": "stream",
     "text": [
      "/tmp/ipykernel_4065716/2319557713.py:13: RuntimeWarning: All-NaN axis encountered\n",
      "  np.nanmax([stack[idx:idx + twin], _data[iseg+1, :]], axis = 0)\n"
     ]
    },
    {
     "name": "stdout",
     "output_type": "stream",
     "text": [
      "['7D', 'J25B']\n",
      "[                                        ] | 1% Completed | 43m 59sAll prediction shape: (2, 5, 3598, 6000)\n",
      "[                                        ] | 1% Completed | 48m 12s316 P picks\n",
      "309 S picks\n"
     ]
    },
    {
     "name": "stderr",
     "output_type": "stream",
     "text": [
      "/tmp/ipykernel_4065716/2319557713.py:13: RuntimeWarning: All-NaN axis encountered\n",
      "  np.nanmax([stack[idx:idx + twin], _data[iseg+1, :]], axis = 0)\n"
     ]
    },
    {
     "name": "stdout",
     "output_type": "stream",
     "text": [
      "['NC', 'KOM']\n",
      "[                                        ] | 2% Completed | 48m 12s"
     ]
    },
    {
     "name": "stderr",
     "output_type": "stream",
     "text": [
      "WARNING:root:No stream returned. Skipping.\n"
     ]
    },
    {
     "name": "stdout",
     "output_type": "stream",
     "text": [
      "['7D', 'FS17B']\n",
      "[                                        ] | 2% Completed | 48m 28sAll prediction shape: (2, 5, 3598, 6000)\n",
      "[                                        ] | 2% Completed | 52m 39s621 P picks\n",
      "419 S picks\n"
     ]
    },
    {
     "name": "stderr",
     "output_type": "stream",
     "text": [
      "/tmp/ipykernel_4065716/2319557713.py:13: RuntimeWarning: All-NaN axis encountered\n",
      "  np.nanmax([stack[idx:idx + twin], _data[iseg+1, :]], axis = 0)\n"
     ]
    },
    {
     "name": "stdout",
     "output_type": "stream",
     "text": [
      "['7D', 'M14B']\n",
      "[                                        ] | 2% Completed | 52m 45sAll prediction shape: (2, 5, 1439, 6000)\n",
      "[                                        ] | 2% Completed | 53m 36s131 P picks\n",
      "43 S picks\n"
     ]
    },
    {
     "name": "stderr",
     "output_type": "stream",
     "text": [
      "/tmp/ipykernel_4065716/2319557713.py:13: RuntimeWarning: All-NaN axis encountered\n",
      "  np.nanmax([stack[idx:idx + twin], _data[iseg+1, :]], axis = 0)\n",
      "WARNING:root:No stream returned. Skipping.\n"
     ]
    },
    {
     "name": "stdout",
     "output_type": "stream",
     "text": [
      "['NC', 'KRMB']\n",
      "['7D', 'J09B']\n",
      "[                                        ] | 2% Completed | 53m 42sAll prediction shape: (2, 5, 1439, 6000)\n",
      "[                                        ] | 2% Completed | 54m 33s134 P picks\n",
      "33 S picks\n",
      "['NC', 'KMPB']\n",
      "[#                                       ] | 2% Completed | 54m 34s"
     ]
    },
    {
     "name": "stderr",
     "output_type": "stream",
     "text": [
      "/tmp/ipykernel_4065716/2319557713.py:13: RuntimeWarning: All-NaN axis encountered\n",
      "  np.nanmax([stack[idx:idx + twin], _data[iseg+1, :]], axis = 0)\n",
      "WARNING:root:No stream returned. Skipping.\n",
      "WARNING:root:No stream returned. Skipping.\n"
     ]
    },
    {
     "name": "stdout",
     "output_type": "stream",
     "text": [
      "['NC', 'KHMB']\n",
      "['7D', 'G25B']\n",
      "[#                                       ] | 2% Completed | 54m 50sAll prediction shape: (2, 5, 3599, 6000)\n",
      "[#                                       ] | 2% Completed | 59m 2ss438 P picks\n",
      "184 S picks\n"
     ]
    },
    {
     "name": "stderr",
     "output_type": "stream",
     "text": [
      "/tmp/ipykernel_4065716/2319557713.py:13: RuntimeWarning: All-NaN axis encountered\n",
      "  np.nanmax([stack[idx:idx + twin], _data[iseg+1, :]], axis = 0)\n"
     ]
    },
    {
     "name": "stdout",
     "output_type": "stream",
     "text": [
      "['7D', 'G17B']\n",
      "[#                                       ] | 2% Completed | 59m 19sAll prediction shape: (2, 5, 3598, 6000)\n",
      "[#                                       ] | 2% Completed | 63m 29s597 P picks\n",
      "429 S picks\n"
     ]
    },
    {
     "name": "stderr",
     "output_type": "stream",
     "text": [
      "/tmp/ipykernel_4065716/2319557713.py:13: RuntimeWarning: All-NaN axis encountered\n",
      "  np.nanmax([stack[idx:idx + twin], _data[iseg+1, :]], axis = 0)\n"
     ]
    },
    {
     "name": "stdout",
     "output_type": "stream",
     "text": [
      "['7D', 'FS20B']\n",
      "[#                                       ] | 3% Completed | 63m 45sAll prediction shape: (2, 5, 3599, 6000)\n",
      "[#                                       ] | 3% Completed | 67m 57s111 P picks\n",
      "81 S picks\n"
     ]
    },
    {
     "name": "stderr",
     "output_type": "stream",
     "text": [
      "/tmp/ipykernel_4065716/2319557713.py:13: RuntimeWarning: All-NaN axis encountered\n",
      "  np.nanmax([stack[idx:idx + twin], _data[iseg+1, :]], axis = 0)\n"
     ]
    },
    {
     "name": "stdout",
     "output_type": "stream",
     "text": [
      "['7D', 'M12B']\n",
      "[#                                       ] | 3% Completed | 68m 3ssAll prediction shape: (2, 5, 1439, 6000)\n",
      "[#                                       ] | 3% Completed | 68m 54s156 P picks\n",
      "58 S picks\n",
      "['7D', 'FS17B']\n",
      "[#                                       ] | 3% Completed | 68m 54s"
     ]
    },
    {
     "name": "stderr",
     "output_type": "stream",
     "text": [
      "/tmp/ipykernel_4065716/2319557713.py:13: RuntimeWarning: All-NaN axis encountered\n",
      "  np.nanmax([stack[idx:idx + twin], _data[iseg+1, :]], axis = 0)\n"
     ]
    },
    {
     "name": "stdout",
     "output_type": "stream",
     "text": [
      "[#                                       ] | 3% Completed | 69m 10sAll prediction shape: (2, 5, 3599, 6000)\n",
      "[#                                       ] | 3% Completed | 73m 22s493 P picks\n",
      "221 S picks\n",
      "['NC', 'KMPB']\n",
      "[#                                       ] | 3% Completed | 73m 22s"
     ]
    },
    {
     "name": "stderr",
     "output_type": "stream",
     "text": [
      "/tmp/ipykernel_4065716/2319557713.py:13: RuntimeWarning: All-NaN axis encountered\n",
      "  np.nanmax([stack[idx:idx + twin], _data[iseg+1, :]], axis = 0)\n",
      "WARNING:root:No stream returned. Skipping.\n",
      "WARNING:root:No stream returned. Skipping.\n"
     ]
    },
    {
     "name": "stdout",
     "output_type": "stream",
     "text": [
      "['NC', 'KSXB']\n",
      "['7D', 'FS09B']\n",
      "[#                                       ] | 3% Completed | 73m 27sAll prediction shape: (2, 5, 1439, 6000)\n",
      "[#                                       ] | 3% Completed | 74m 19s171 P picks\n",
      "149 S picks\n",
      "['TA', 'I02D']\n",
      "[#                                       ] | 3% Completed | 74m 19s"
     ]
    },
    {
     "name": "stderr",
     "output_type": "stream",
     "text": [
      "/tmp/ipykernel_4065716/2319557713.py:13: RuntimeWarning: All-NaN axis encountered\n",
      "  np.nanmax([stack[idx:idx + twin], _data[iseg+1, :]], axis = 0)\n"
     ]
    },
    {
     "name": "stdout",
     "output_type": "stream",
     "text": [
      "[#                                       ] | 3% Completed | 74m 23sAll prediction shape: (2, 5, 1151, 6000)\n",
      "[#                                       ] | 3% Completed | 74m 59s28 P picks\n",
      "20 S picks\n",
      "['7D', 'M14B']\n",
      "[#                                       ] | 3% Completed | 74m 59s"
     ]
    },
    {
     "name": "stderr",
     "output_type": "stream",
     "text": [
      "/tmp/ipykernel_4065716/2319557713.py:13: RuntimeWarning: All-NaN axis encountered\n",
      "  np.nanmax([stack[idx:idx + twin], _data[iseg+1, :]], axis = 0)\n"
     ]
    },
    {
     "name": "stdout",
     "output_type": "stream",
     "text": [
      "[#                                       ] | 3% Completed | 75m 4ssAll prediction shape: (2, 5, 1439, 6000)\n",
      "[#                                       ] | 3% Completed | 75m 56s143 P picks\n",
      "54 S picks\n",
      "['NC', 'KBO']\n",
      "[#                                       ] | 3% Completed | 75m 56s"
     ]
    },
    {
     "name": "stderr",
     "output_type": "stream",
     "text": [
      "/tmp/ipykernel_4065716/2319557713.py:13: RuntimeWarning: All-NaN axis encountered\n",
      "  np.nanmax([stack[idx:idx + twin], _data[iseg+1, :]], axis = 0)\n",
      "WARNING:root:No stream returned. Skipping.\n",
      "WARNING:root:No stream returned. Skipping.\n"
     ]
    },
    {
     "name": "stdout",
     "output_type": "stream",
     "text": [
      "['NC', 'KMPB']\n",
      "['7D', 'G19B']\n",
      "[#                                       ] | 4% Completed | 76m 1ssAll prediction shape: (2, 5, 1439, 6000)\n",
      "[#                                       ] | 4% Completed | 76m 52s59 P picks\n",
      "17 S picks\n",
      "['TA', 'I02D']\n",
      "[#                                       ] | 4% Completed | 76m 52s"
     ]
    },
    {
     "name": "stderr",
     "output_type": "stream",
     "text": [
      "/tmp/ipykernel_4065716/2319557713.py:13: RuntimeWarning: All-NaN axis encountered\n",
      "  np.nanmax([stack[idx:idx + twin], _data[iseg+1, :]], axis = 0)\n"
     ]
    },
    {
     "name": "stdout",
     "output_type": "stream",
     "text": [
      "[#                                       ] | 4% Completed | 76m 56sAll prediction shape: (2, 5, 1150, 6000)\n",
      "[#                                       ] | 4% Completed | 77m 32s15 P picks\n",
      "16 S picks\n",
      "['NC', 'KSXB']\n",
      "[#                                       ] | 4% Completed | 77m 32s"
     ]
    },
    {
     "name": "stderr",
     "output_type": "stream",
     "text": [
      "/tmp/ipykernel_4065716/2319557713.py:13: RuntimeWarning: All-NaN axis encountered\n",
      "  np.nanmax([stack[idx:idx + twin], _data[iseg+1, :]], axis = 0)\n",
      "WARNING:root:No stream returned. Skipping.\n"
     ]
    },
    {
     "name": "stdout",
     "output_type": "stream",
     "text": [
      "['7D', 'G26B']\n",
      "[#                                       ] | 4% Completed | 77m 49sAll prediction shape: (2, 5, 3598, 6000)\n",
      "[#                                       ] | 4% Completed | 82m 0ss107 P picks\n",
      "108 S picks\n",
      "['7D', 'M09B']\n",
      "[#                                       ] | 4% Completed | 82m 0s"
     ]
    },
    {
     "name": "stderr",
     "output_type": "stream",
     "text": [
      "/tmp/ipykernel_4065716/2319557713.py:13: RuntimeWarning: All-NaN axis encountered\n",
      "  np.nanmax([stack[idx:idx + twin], _data[iseg+1, :]], axis = 0)\n"
     ]
    },
    {
     "name": "stdout",
     "output_type": "stream",
     "text": [
      "[#                                       ] | 4% Completed | 82m 17sAll prediction shape: (2, 5, 3599, 6000)\n",
      "[#                                       ] | 4% Completed | 86m 28s553 P picks\n",
      "664 S picks\n"
     ]
    },
    {
     "name": "stderr",
     "output_type": "stream",
     "text": [
      "/tmp/ipykernel_4065716/2319557713.py:13: RuntimeWarning: All-NaN axis encountered\n",
      "  np.nanmax([stack[idx:idx + twin], _data[iseg+1, :]], axis = 0)\n"
     ]
    },
    {
     "name": "stdout",
     "output_type": "stream",
     "text": [
      "['7D', 'G25B']\n",
      "[#                                       ] | 4% Completed | 86m 44sAll prediction shape: (2, 5, 3599, 6000)\n",
      "[#                                       ] | 4% Completed | 90m 55s426 P picks\n",
      "196 S picks\n"
     ]
    },
    {
     "name": "stderr",
     "output_type": "stream",
     "text": [
      "/tmp/ipykernel_4065716/2319557713.py:13: RuntimeWarning: All-NaN axis encountered\n",
      "  np.nanmax([stack[idx:idx + twin], _data[iseg+1, :]], axis = 0)\n"
     ]
    },
    {
     "name": "stdout",
     "output_type": "stream",
     "text": [
      "['7D', 'G19B']\n",
      "[#                                       ] | 4% Completed | 91m 0ssAll prediction shape: (2, 5, 1439, 6000)\n",
      "[#                                       ] | 4% Completed | 91m 52s23 P picks\n",
      "23 S picks\n"
     ]
    },
    {
     "name": "stderr",
     "output_type": "stream",
     "text": [
      "/tmp/ipykernel_4065716/2319557713.py:13: RuntimeWarning: All-NaN axis encountered\n",
      "  np.nanmax([stack[idx:idx + twin], _data[iseg+1, :]], axis = 0)\n",
      "WARNING:root:No stream returned. Skipping.\n"
     ]
    },
    {
     "name": "stdout",
     "output_type": "stream",
     "text": [
      "['NC', 'KSXB']\n",
      "['7D', 'G17B']\n",
      "[##                                      ] | 5% Completed | 92m 9ssAll prediction shape: (2, 5, 3599, 6000)\n",
      "[##                                      ] | 5% Completed | 96m 25s552 P picks\n",
      "576 S picks\n"
     ]
    },
    {
     "name": "stderr",
     "output_type": "stream",
     "text": [
      "/tmp/ipykernel_4065716/2319557713.py:13: RuntimeWarning: All-NaN axis encountered\n",
      "  np.nanmax([stack[idx:idx + twin], _data[iseg+1, :]], axis = 0)\n",
      "WARNING:root:No stream returned. Skipping.\n"
     ]
    },
    {
     "name": "stdout",
     "output_type": "stream",
     "text": [
      "['NC', 'KHBB']\n",
      "['TA', 'I02D']\n",
      "[##                                      ] | 5% Completed | 96m 29sAll prediction shape: (2, 5, 1151, 6000)\n",
      "[##                                      ] | 5% Completed | 97m 5ss37 P picks\n",
      "9 S picks\n",
      "['TA', 'I02D']\n",
      "[##                                      ] | 5% Completed | 97m 5s"
     ]
    },
    {
     "name": "stderr",
     "output_type": "stream",
     "text": [
      "/tmp/ipykernel_4065716/2319557713.py:13: RuntimeWarning: All-NaN axis encountered\n",
      "  np.nanmax([stack[idx:idx + twin], _data[iseg+1, :]], axis = 0)\n"
     ]
    },
    {
     "name": "stdout",
     "output_type": "stream",
     "text": [
      "[##                                      ] | 5% Completed | 97m 9sAll prediction shape: (2, 5, 1151, 6000)\n",
      "[##                                      ] | 5% Completed | 97m 45s23 P picks\n",
      "11 S picks\n",
      "['7D', 'J33B']\n",
      "[##                                      ] | 5% Completed | 97m 45s"
     ]
    },
    {
     "name": "stderr",
     "output_type": "stream",
     "text": [
      "/tmp/ipykernel_4065716/2319557713.py:13: RuntimeWarning: All-NaN axis encountered\n",
      "  np.nanmax([stack[idx:idx + twin], _data[iseg+1, :]], axis = 0)\n"
     ]
    },
    {
     "name": "stdout",
     "output_type": "stream",
     "text": [
      "[##                                      ] | 5% Completed | 98m 1ssAll prediction shape: (2, 5, 3599, 6000)\n",
      "[##                                      ] | 5% Completed | 102m 12s211 P picks\n",
      "453 S picks\n",
      "['NC', 'KHBB']\n",
      "[##                                      ] | 5% Completed | 102m 12s"
     ]
    },
    {
     "name": "stderr",
     "output_type": "stream",
     "text": [
      "/tmp/ipykernel_4065716/2319557713.py:13: RuntimeWarning: All-NaN axis encountered\n",
      "  np.nanmax([stack[idx:idx + twin], _data[iseg+1, :]], axis = 0)\n",
      "WARNING:root:No stream returned. Skipping.\n"
     ]
    },
    {
     "name": "stdout",
     "output_type": "stream",
     "text": [
      "['TA', 'J01E']\n",
      "[##                                      ] | 5% Completed | 102m 16sAll prediction shape: (2, 5, 1151, 6000)\n",
      "[##                                      ] | 5% Completed | 102m 53s24 P picks\n",
      "19 S picks\n",
      "['7D', 'J33B']\n",
      "[##                                      ] | 5% Completed | 102m 53s"
     ]
    },
    {
     "name": "stderr",
     "output_type": "stream",
     "text": [
      "/tmp/ipykernel_4065716/2319557713.py:13: RuntimeWarning: All-NaN axis encountered\n",
      "  np.nanmax([stack[idx:idx + twin], _data[iseg+1, :]], axis = 0)\n"
     ]
    },
    {
     "name": "stdout",
     "output_type": "stream",
     "text": [
      "[##                                      ] | 5% Completed | 103m 9ssAll prediction shape: (2, 5, 3599, 6000)\n",
      "[##                                      ] | 5% Completed | 107m 20s267 P picks\n",
      "673 S picks\n"
     ]
    },
    {
     "name": "stderr",
     "output_type": "stream",
     "text": [
      "/tmp/ipykernel_4065716/2319557713.py:13: RuntimeWarning: All-NaN axis encountered\n",
      "  np.nanmax([stack[idx:idx + twin], _data[iseg+1, :]], axis = 0)\n"
     ]
    },
    {
     "name": "stdout",
     "output_type": "stream",
     "text": [
      "['7D', 'FS09B']\n",
      "[##                                      ] | 5% Completed | 107m 25sAll prediction shape: (2, 5, 1439, 6000)\n",
      "[##                                      ] | 5% Completed | 108m 17s124 P picks\n",
      "72 S picks\n",
      "['7D', 'J33B']\n",
      "[##                                      ] | 6% Completed | 108m 17s"
     ]
    },
    {
     "name": "stderr",
     "output_type": "stream",
     "text": [
      "/tmp/ipykernel_4065716/2319557713.py:13: RuntimeWarning: All-NaN axis encountered\n",
      "  np.nanmax([stack[idx:idx + twin], _data[iseg+1, :]], axis = 0)\n"
     ]
    },
    {
     "name": "stdout",
     "output_type": "stream",
     "text": [
      "[##                                      ] | 6% Completed | 108m 34sAll prediction shape: (2, 5, 3599, 6000)\n",
      "[##                                      ] | 6% Completed | 112m 45s329 P picks\n",
      "750 S picks\n"
     ]
    },
    {
     "name": "stderr",
     "output_type": "stream",
     "text": [
      "/tmp/ipykernel_4065716/2319557713.py:13: RuntimeWarning: All-NaN axis encountered\n",
      "  np.nanmax([stack[idx:idx + twin], _data[iseg+1, :]], axis = 0)\n"
     ]
    },
    {
     "name": "stdout",
     "output_type": "stream",
     "text": [
      "['NC', 'KRMB']\n",
      "\r",
      "[##                                      ] | 6% Completed | 112m 45s"
     ]
    },
    {
     "name": "stderr",
     "output_type": "stream",
     "text": [
      "WARNING:root:No stream returned. Skipping.\n"
     ]
    },
    {
     "name": "stdout",
     "output_type": "stream",
     "text": [
      "['UW', 'BABR']\n",
      "[##                                      ] | 6% Completed | 112m 49sAll prediction shape: (2, 5, 1151, 6000)\n",
      "[##                                      ] | 6% Completed | 113m 25s14 P picks\n",
      "4 S picks\n",
      "['NC', 'KHMB']\n",
      "[##                                      ] | 6% Completed | 113m 25s"
     ]
    },
    {
     "name": "stderr",
     "output_type": "stream",
     "text": [
      "/tmp/ipykernel_4065716/2319557713.py:13: RuntimeWarning: All-NaN axis encountered\n",
      "  np.nanmax([stack[idx:idx + twin], _data[iseg+1, :]], axis = 0)\n",
      "WARNING:root:No stream returned. Skipping.\n",
      "WARNING:root:No stream returned. Skipping.\n"
     ]
    },
    {
     "name": "stdout",
     "output_type": "stream",
     "text": [
      "['NC', 'KMPB']\n",
      "['NC', 'KHBB']\n",
      "[##                                      ] | 6% Completed | 113m 25s"
     ]
    },
    {
     "name": "stderr",
     "output_type": "stream",
     "text": [
      "WARNING:root:No stream returned. Skipping.\n"
     ]
    },
    {
     "name": "stdout",
     "output_type": "stream",
     "text": [
      "['7D', 'FS09B']\n",
      "[##                                      ] | 6% Completed | 113m 30sAll prediction shape: (2, 5, 1439, 6000)\n",
      "[##                                      ] | 6% Completed | 114m 22s137 P picks\n",
      "109 S picks\n",
      "['7D', 'G19B']\n",
      "[##                                      ] | 6% Completed | 114m 22s"
     ]
    },
    {
     "name": "stderr",
     "output_type": "stream",
     "text": [
      "/tmp/ipykernel_4065716/2319557713.py:13: RuntimeWarning: All-NaN axis encountered\n",
      "  np.nanmax([stack[idx:idx + twin], _data[iseg+1, :]], axis = 0)\n"
     ]
    },
    {
     "name": "stdout",
     "output_type": "stream",
     "text": [
      "[##                                      ] | 6% Completed | 114m 27sAll prediction shape: (2, 5, 1439, 6000)\n",
      "[##                                      ] | 6% Completed | 115m 19s63 P picks\n",
      "14 S picks\n",
      "['UW', 'BABR']\n",
      "[##                                      ] | 6% Completed | 115m 19s"
     ]
    },
    {
     "name": "stderr",
     "output_type": "stream",
     "text": [
      "/tmp/ipykernel_4065716/2319557713.py:13: RuntimeWarning: All-NaN axis encountered\n",
      "  np.nanmax([stack[idx:idx + twin], _data[iseg+1, :]], axis = 0)\n"
     ]
    },
    {
     "name": "stdout",
     "output_type": "stream",
     "text": [
      "[##                                      ] | 6% Completed | 115m 23sAll prediction shape: (2, 5, 1151, 6000)\n",
      "[##                                      ] | 6% Completed | 115m 59s6 P picks\n",
      "3 S picks\n",
      "['7D', 'FS13B']\n",
      "[##                                      ] | 7% Completed | 115m 59s"
     ]
    },
    {
     "name": "stderr",
     "output_type": "stream",
     "text": [
      "/tmp/ipykernel_4065716/2319557713.py:13: RuntimeWarning: All-NaN axis encountered\n",
      "  np.nanmax([stack[idx:idx + twin], _data[iseg+1, :]], axis = 0)\n"
     ]
    },
    {
     "name": "stdout",
     "output_type": "stream",
     "text": [
      "[##                                      ] | 7% Completed | 116m 17sAll prediction shape: (2, 5, 3599, 6000)\n",
      "[##                                      ] | 7% Completed | 2hr 0m9s"
     ]
    },
    {
     "name": "stderr",
     "output_type": "stream",
     "text": [
      "/tmp/ipykernel_4065716/2319557713.py:13: RuntimeWarning: All-NaN axis encountered\n",
      "  np.nanmax([stack[idx:idx + twin], _data[iseg+1, :]], axis = 0)\n"
     ]
    },
    {
     "name": "stdout",
     "output_type": "stream",
     "text": [
      "440 P picks\n",
      "314 S picks\n",
      "['7D', 'G26B']\n",
      "[##                                      ] | 7% Completed | 2hr 0mAll prediction shape: (2, 5, 3598, 6000)\n",
      "[##                                      ] | 7% Completed | 2hr 4m44 P picks\n",
      "43 S picks\n"
     ]
    },
    {
     "name": "stderr",
     "output_type": "stream",
     "text": [
      "/tmp/ipykernel_4065716/2319557713.py:13: RuntimeWarning: All-NaN axis encountered\n",
      "  np.nanmax([stack[idx:idx + twin], _data[iseg+1, :]], axis = 0)\n"
     ]
    },
    {
     "name": "stdout",
     "output_type": "stream",
     "text": [
      "['7D', 'G17B']\n",
      "[##                                      ] | 7% Completed | 2hr 5mAll prediction shape: (2, 5, 3599, 6000)\n",
      "[##                                      ] | 7% Completed | 2hr 9m695 P picks\n",
      "844 S picks\n",
      "[##                                      ] | 7% Completed | 2hr 9m"
     ]
    },
    {
     "name": "stderr",
     "output_type": "stream",
     "text": [
      "/tmp/ipykernel_4065716/2319557713.py:13: RuntimeWarning: All-NaN axis encountered\n",
      "  np.nanmax([stack[idx:idx + twin], _data[iseg+1, :]], axis = 0)\n",
      "WARNING:root:No stream returned. Skipping.\n"
     ]
    },
    {
     "name": "stdout",
     "output_type": "stream",
     "text": [
      "['NC', 'KHMB']\n",
      "['NC', 'KSXB']\n",
      "[##                                      ] | 7% Completed | 2hr 9m"
     ]
    },
    {
     "name": "stderr",
     "output_type": "stream",
     "text": [
      "WARNING:root:No stream returned. Skipping.\n"
     ]
    },
    {
     "name": "stdout",
     "output_type": "stream",
     "text": [
      "['7D', 'J09B']\n",
      "[###                                     ] | 7% Completed | 2hr 9mAll prediction shape: (2, 5, 1438, 6000)\n",
      "[###                                     ] | 7% Completed | 2hr 10m113 P picks\n",
      "25 S picks\n",
      "['NC', 'KMPB']\n",
      "[###                                     ] | 7% Completed | 2hr 10m"
     ]
    },
    {
     "name": "stderr",
     "output_type": "stream",
     "text": [
      "/tmp/ipykernel_4065716/2319557713.py:13: RuntimeWarning: All-NaN axis encountered\n",
      "  np.nanmax([stack[idx:idx + twin], _data[iseg+1, :]], axis = 0)\n",
      "WARNING:root:No stream returned. Skipping.\n",
      "WARNING:root:No stream returned. Skipping.\n"
     ]
    },
    {
     "name": "stdout",
     "output_type": "stream",
     "text": [
      "['NC', 'KHMB']\n",
      "['NC', 'KMPB']\n",
      "[###                                     ] | 7% Completed | 2hr 10m"
     ]
    },
    {
     "name": "stderr",
     "output_type": "stream",
     "text": [
      "WARNING:root:No stream returned. Skipping.\n"
     ]
    },
    {
     "name": "stdout",
     "output_type": "stream",
     "text": [
      "['7D', 'M12B']\n",
      "[###                                     ] | 8% Completed | 2hr 10mAll prediction shape: (2, 5, 1439, 6000)\n",
      "[###                                     ] | 8% Completed | 2hr 11m174 P picks\n",
      "62 S picks\n"
     ]
    },
    {
     "name": "stderr",
     "output_type": "stream",
     "text": [
      "/tmp/ipykernel_4065716/2319557713.py:13: RuntimeWarning: All-NaN axis encountered\n",
      "  np.nanmax([stack[idx:idx + twin], _data[iseg+1, :]], axis = 0)\n",
      "WARNING:root:No stream returned. Skipping.\n"
     ]
    },
    {
     "name": "stdout",
     "output_type": "stream",
     "text": [
      "['NC', 'KOM']\n",
      "['7D', 'FS13B']\n",
      "[###                                     ] | 8% Completed | 2hr 11mAll prediction shape: (2, 5, 3599, 6000)\n",
      "[###                                     ] | 8% Completed | 2hr 15m520 P picks\n",
      "250 S picks\n"
     ]
    },
    {
     "name": "stderr",
     "output_type": "stream",
     "text": [
      "/tmp/ipykernel_4065716/2319557713.py:13: RuntimeWarning: All-NaN axis encountered\n",
      "  np.nanmax([stack[idx:idx + twin], _data[iseg+1, :]], axis = 0)\n",
      "WARNING:root:No stream returned. Skipping.\n"
     ]
    },
    {
     "name": "stdout",
     "output_type": "stream",
     "text": [
      "['BK', 'JCC']\n",
      "['BK', 'JCC']\n",
      "[###                                     ] | 8% Completed | 2hr 15m"
     ]
    },
    {
     "name": "stderr",
     "output_type": "stream",
     "text": [
      "WARNING:root:No stream returned. Skipping.\n"
     ]
    },
    {
     "name": "stdout",
     "output_type": "stream",
     "text": [
      "['7D', 'FS13B']\n",
      "[###                                     ] | 8% Completed | 2hr 16mAll prediction shape: (2, 5, 3599, 6000)\n",
      "[###                                     ] | 8% Completed | 2hr 20m413 P picks\n",
      "304 S picks\n",
      "[###                                     ] | 8% Completed | 2hr 20m"
     ]
    },
    {
     "name": "stderr",
     "output_type": "stream",
     "text": [
      "/tmp/ipykernel_4065716/2319557713.py:13: RuntimeWarning: All-NaN axis encountered\n",
      "  np.nanmax([stack[idx:idx + twin], _data[iseg+1, :]], axis = 0)\n",
      "WARNING:root:No stream returned. Skipping.\n"
     ]
    },
    {
     "name": "stdout",
     "output_type": "stream",
     "text": [
      "['NC', 'KHMB']\n"
     ]
    },
    {
     "name": "stderr",
     "output_type": "stream",
     "text": [
      "WARNING:root:No stream returned. Skipping.\n"
     ]
    },
    {
     "name": "stdout",
     "output_type": "stream",
     "text": [
      "['NC', 'KEB']\n",
      "['NC', 'KHBB']\n",
      "[###                                     ] | 8% Completed | 2hr 20m"
     ]
    },
    {
     "name": "stderr",
     "output_type": "stream",
     "text": [
      "WARNING:root:No stream returned. Skipping.\n"
     ]
    },
    {
     "name": "stdout",
     "output_type": "stream",
     "text": [
      "['BK', 'JCC']\n"
     ]
    },
    {
     "name": "stderr",
     "output_type": "stream",
     "text": [
      "WARNING:root:No stream returned. Skipping.\n"
     ]
    },
    {
     "name": "stdout",
     "output_type": "stream",
     "text": [
      "['7D', 'G25B']\n",
      "[###                                     ] | 9% Completed | 2hr 20mAll prediction shape: (2, 5, 3599, 6000)\n",
      "[###                                     ] | 9% Completed | 2hr 24m517 P picks\n",
      "165 S picks\n",
      "['BK', 'JCC']\n",
      "[###                                     ] | 9% Completed | 2hr 24m"
     ]
    },
    {
     "name": "stderr",
     "output_type": "stream",
     "text": [
      "/tmp/ipykernel_4065716/2319557713.py:13: RuntimeWarning: All-NaN axis encountered\n",
      "  np.nanmax([stack[idx:idx + twin], _data[iseg+1, :]], axis = 0)\n",
      "WARNING:root:No stream returned. Skipping.\n"
     ]
    },
    {
     "name": "stdout",
     "output_type": "stream",
     "text": [
      "['7D', 'M09B']\n",
      "[###                                     ] | 9% Completed | 2hr 25mAll prediction shape: (2, 5, 3599, 6000)\n",
      "[###                                     ] | 9% Completed | 2hr 29m"
     ]
    },
    {
     "name": "stderr",
     "output_type": "stream",
     "text": [
      "/tmp/ipykernel_4065716/2319557713.py:13: RuntimeWarning: All-NaN axis encountered\n",
      "  np.nanmax([stack[idx:idx + twin], _data[iseg+1, :]], axis = 0)\n"
     ]
    },
    {
     "name": "stdout",
     "output_type": "stream",
     "text": [
      "525 P picks\n",
      "567 S picks\n",
      "[###                                     ] | 9% Completed | 2hr 29m"
     ]
    },
    {
     "name": "stderr",
     "output_type": "stream",
     "text": [
      "WARNING:root:No stream returned. Skipping.\n"
     ]
    },
    {
     "name": "stdout",
     "output_type": "stream",
     "text": [
      "['NC', 'KRMB']\n",
      "['7D', 'G19B']\n",
      "[###                                     ] | 9% Completed | 2hr 29mAll prediction shape: (2, 5, 1439, 6000)\n",
      "[###                                     ] | 9% Completed | 2hr 30m53 P picks\n",
      "32 S picks\n"
     ]
    },
    {
     "name": "stderr",
     "output_type": "stream",
     "text": [
      "/tmp/ipykernel_4065716/2319557713.py:13: RuntimeWarning: All-NaN axis encountered\n",
      "  np.nanmax([stack[idx:idx + twin], _data[iseg+1, :]], axis = 0)\n",
      "WARNING:root:No stream returned. Skipping.\n"
     ]
    },
    {
     "name": "stdout",
     "output_type": "stream",
     "text": [
      "['NC', 'KHMB']\n",
      "['TA', 'J01E']\n",
      "[###                                     ] | 9% Completed | 2hr 30m"
     ]
    },
    {
     "name": "stderr",
     "output_type": "stream",
     "text": [
      "WARNING:root:No stream returned. Skipping.\n"
     ]
    },
    {
     "name": "stdout",
     "output_type": "stream",
     "text": [
      "['7D', 'J25B']\n",
      "[###                                     ] | 9% Completed | 2hr 30mAll prediction shape: (2, 5, 3599, 6000)\n",
      "[###                                     ] | 9% Completed | 2hr 34m406 P picks\n",
      "489 S picks\n"
     ]
    },
    {
     "name": "stderr",
     "output_type": "stream",
     "text": [
      "/tmp/ipykernel_4065716/2319557713.py:13: RuntimeWarning: All-NaN axis encountered\n",
      "  np.nanmax([stack[idx:idx + twin], _data[iseg+1, :]], axis = 0)\n"
     ]
    },
    {
     "name": "stdout",
     "output_type": "stream",
     "text": [
      "['NC', 'KRMB']\n",
      "[####                                    ] | 10% Completed | 2hr 34m"
     ]
    },
    {
     "name": "stderr",
     "output_type": "stream",
     "text": [
      "WARNING:root:No stream returned. Skipping.\n"
     ]
    },
    {
     "name": "stdout",
     "output_type": "stream",
     "text": [
      "['TA', 'J01E']\n",
      "[####                                    ] | 10% Completed | 2hr 34mAll prediction shape: (2, 5, 1151, 6000)\n",
      "[####                                    ] | 10% Completed | 2hr 35m32 P picks\n",
      "17 S picks\n",
      "['7D', 'J33B']\n",
      "[####                                    ] | 10% Completed | 2hr 35m"
     ]
    },
    {
     "name": "stderr",
     "output_type": "stream",
     "text": [
      "/tmp/ipykernel_4065716/2319557713.py:13: RuntimeWarning: All-NaN axis encountered\n",
      "  np.nanmax([stack[idx:idx + twin], _data[iseg+1, :]], axis = 0)\n"
     ]
    },
    {
     "name": "stdout",
     "output_type": "stream",
     "text": [
      "[####                                    ] | 10% Completed | 2hr 35mAll prediction shape: (2, 5, 3599, 6000)\n",
      "[####                                    ] | 10% Completed | 2hr 39m233 P picks\n",
      "338 S picks\n"
     ]
    },
    {
     "name": "stderr",
     "output_type": "stream",
     "text": [
      "/tmp/ipykernel_4065716/2319557713.py:13: RuntimeWarning: All-NaN axis encountered\n",
      "  np.nanmax([stack[idx:idx + twin], _data[iseg+1, :]], axis = 0)\n"
     ]
    },
    {
     "name": "stdout",
     "output_type": "stream",
     "text": [
      "['7D', 'J25B']\n",
      "[####                                    ] | 10% Completed | 2hr 40mAll prediction shape: (2, 5, 3599, 6000)\n",
      "[####                                    ] | 10% Completed | 2hr 44m345 P picks\n",
      "308 S picks\n"
     ]
    },
    {
     "name": "stderr",
     "output_type": "stream",
     "text": [
      "/tmp/ipykernel_4065716/2319557713.py:13: RuntimeWarning: All-NaN axis encountered\n",
      "  np.nanmax([stack[idx:idx + twin], _data[iseg+1, :]], axis = 0)\n"
     ]
    },
    {
     "name": "stdout",
     "output_type": "stream",
     "text": [
      "['7D', 'G19B']\n",
      "[####                                    ] | 10% Completed | 2hr 44mAll prediction shape: (2, 5, 1439, 6000)\n",
      "[####                                    ] | 10% Completed | 2hr 45m72 P picks\n",
      "16 S picks\n",
      "['7D', 'FS16B']\n",
      "[####                                    ] | 10% Completed | 2hr 45m"
     ]
    },
    {
     "name": "stderr",
     "output_type": "stream",
     "text": [
      "/tmp/ipykernel_4065716/2319557713.py:13: RuntimeWarning: All-NaN axis encountered\n",
      "  np.nanmax([stack[idx:idx + twin], _data[iseg+1, :]], axis = 0)\n"
     ]
    },
    {
     "name": "stdout",
     "output_type": "stream",
     "text": [
      "[####                                    ] | 10% Completed | 2hr 45mAll prediction shape: (2, 5, 3599, 6000)\n",
      "[####                                    ] | 10% Completed | 2hr 49m419 P picks\n",
      "308 S picks\n"
     ]
    },
    {
     "name": "stderr",
     "output_type": "stream",
     "text": [
      "/tmp/ipykernel_4065716/2319557713.py:13: RuntimeWarning: All-NaN axis encountered\n",
      "  np.nanmax([stack[idx:idx + twin], _data[iseg+1, :]], axis = 0)\n"
     ]
    },
    {
     "name": "stdout",
     "output_type": "stream",
     "text": [
      "['NC', 'KHMB']\n",
      "[####                                    ] | 10% Completed | 2hr 49m"
     ]
    },
    {
     "name": "stderr",
     "output_type": "stream",
     "text": [
      "WARNING:root:No stream returned. Skipping.\n",
      "WARNING:root:No stream returned. Skipping.\n"
     ]
    },
    {
     "name": "stdout",
     "output_type": "stream",
     "text": [
      "['NC', 'KHBB']\n",
      "['UW', 'BABR']\n",
      "[####                                    ] | 10% Completed | 2hr 49mAll prediction shape: (2, 5, 1151, 6000)\n",
      "[####                                    ] | 10% Completed | 2hr 50m10 P picks\n",
      "4 S picks\n"
     ]
    },
    {
     "name": "stderr",
     "output_type": "stream",
     "text": [
      "/tmp/ipykernel_4065716/2319557713.py:13: RuntimeWarning: All-NaN axis encountered\n",
      "  np.nanmax([stack[idx:idx + twin], _data[iseg+1, :]], axis = 0)\n",
      "WARNING:root:No stream returned. Skipping.\n"
     ]
    },
    {
     "name": "stdout",
     "output_type": "stream",
     "text": [
      "['NC', 'KHBB']\n",
      "['7D', 'J09B']\n",
      "[####                                    ] | 11% Completed | 2hr 50mAll prediction shape: (2, 5, 1439, 6000)\n",
      "[####                                    ] | 11% Completed | 2hr 51m126 P picks\n",
      "15 S picks\n",
      "['NC', 'KHBB']\n",
      "[####                                    ] | 11% Completed | 2hr 51m"
     ]
    },
    {
     "name": "stderr",
     "output_type": "stream",
     "text": [
      "/tmp/ipykernel_4065716/2319557713.py:13: RuntimeWarning: All-NaN axis encountered\n",
      "  np.nanmax([stack[idx:idx + twin], _data[iseg+1, :]], axis = 0)\n",
      "WARNING:root:No stream returned. Skipping.\n"
     ]
    },
    {
     "name": "stdout",
     "output_type": "stream",
     "text": [
      "['UW', 'BABR']\n",
      "[####                                    ] | 11% Completed | 2hr 51mAll prediction shape: (2, 5, 1151, 6000)\n",
      "[####                                    ] | 11% Completed | 2hr 51m3 P picks\n",
      "0 S picks\n",
      "['7D', 'FS17B']\n",
      "[####                                    ] | 11% Completed | 2hr 51m"
     ]
    },
    {
     "name": "stderr",
     "output_type": "stream",
     "text": [
      "/tmp/ipykernel_4065716/2319557713.py:13: RuntimeWarning: All-NaN axis encountered\n",
      "  np.nanmax([stack[idx:idx + twin], _data[iseg+1, :]], axis = 0)\n"
     ]
    },
    {
     "name": "stdout",
     "output_type": "stream",
     "text": [
      "[####                                    ] | 11% Completed | 2hr 52mAll prediction shape: (2, 5, 3599, 6000)\n",
      "[####                                    ] | 11% Completed | 2hr 56m502 P picks\n",
      "260 S picks\n",
      "[####                                    ] | 11% Completed | 2hr 56m['7D', 'J25B']\n"
     ]
    },
    {
     "name": "stderr",
     "output_type": "stream",
     "text": [
      "/tmp/ipykernel_4065716/2319557713.py:13: RuntimeWarning: All-NaN axis encountered\n",
      "  np.nanmax([stack[idx:idx + twin], _data[iseg+1, :]], axis = 0)\n"
     ]
    },
    {
     "name": "stdout",
     "output_type": "stream",
     "text": [
      "[####                                    ] | 11% Completed | 2hr 56mAll prediction shape: (2, 5, 3599, 6000)\n",
      "[####                                    ] | 11% Completed | 3hr 0mm636 P picks\n",
      "673 S picks\n",
      "[####                                    ] | 11% Completed | 3hr 0m"
     ]
    },
    {
     "name": "stderr",
     "output_type": "stream",
     "text": [
      "/tmp/ipykernel_4065716/2319557713.py:13: RuntimeWarning: All-NaN axis encountered\n",
      "  np.nanmax([stack[idx:idx + twin], _data[iseg+1, :]], axis = 0)\n"
     ]
    },
    {
     "name": "stdout",
     "output_type": "stream",
     "text": [
      "['7D', 'FS09B']\n",
      "[####                                    ] | 11% Completed | 3hr 0mAll prediction shape: (2, 5, 1439, 6000)\n",
      "[####                                    ] | 11% Completed | 3hr 1m171 P picks\n",
      "173 S picks\n",
      "['7D', 'FS16B']\n",
      "[####                                    ] | 11% Completed | 3hr 1m"
     ]
    },
    {
     "name": "stderr",
     "output_type": "stream",
     "text": [
      "/tmp/ipykernel_4065716/2319557713.py:13: RuntimeWarning: All-NaN axis encountered\n",
      "  np.nanmax([stack[idx:idx + twin], _data[iseg+1, :]], axis = 0)\n"
     ]
    },
    {
     "name": "stdout",
     "output_type": "stream",
     "text": [
      "[####                                    ] | 11% Completed | 3hr 2mAll prediction shape: (2, 5, 3598, 6000)\n",
      "[####                                    ] | 11% Completed | 3hr 6m369 P picks\n",
      "382 S picks\n"
     ]
    },
    {
     "name": "stderr",
     "output_type": "stream",
     "text": [
      "/tmp/ipykernel_4065716/2319557713.py:13: RuntimeWarning: All-NaN axis encountered\n",
      "  np.nanmax([stack[idx:idx + twin], _data[iseg+1, :]], axis = 0)\n"
     ]
    },
    {
     "name": "stdout",
     "output_type": "stream",
     "text": [
      "['7D', 'FS16B']\n",
      "[####                                    ] | 11% Completed | 3hr 6mAll prediction shape: (2, 5, 3599, 6000)\n",
      "[####                                    ] | 11% Completed | 3hr 10m455 P picks\n",
      "445 S picks\n",
      "[####                                    ] | 11% Completed | 3hr 10m"
     ]
    },
    {
     "name": "stderr",
     "output_type": "stream",
     "text": [
      "/tmp/ipykernel_4065716/2319557713.py:13: RuntimeWarning: All-NaN axis encountered\n",
      "  np.nanmax([stack[idx:idx + twin], _data[iseg+1, :]], axis = 0)\n"
     ]
    },
    {
     "name": "stdout",
     "output_type": "stream",
     "text": [
      "['7D', 'FS13B']\n",
      "[####                                    ] | 12% Completed | 3hr 11mAll prediction shape: (2, 5, 3599, 6000)\n",
      "[####                                    ] | 12% Completed | 3hr 15m373 P picks\n",
      "271 S picks\n"
     ]
    },
    {
     "name": "stderr",
     "output_type": "stream",
     "text": [
      "/tmp/ipykernel_4065716/2319557713.py:13: RuntimeWarning: All-NaN axis encountered\n",
      "  np.nanmax([stack[idx:idx + twin], _data[iseg+1, :]], axis = 0)\n"
     ]
    },
    {
     "name": "stdout",
     "output_type": "stream",
     "text": [
      "['7D', 'M09B']\n",
      "[####                                    ] | 12% Completed | 3hr 15mAll prediction shape: (2, 5, 3599, 6000)\n",
      "[####                                    ] | 12% Completed | 3hr 19m472 P picks\n",
      "530 S picks\n"
     ]
    },
    {
     "name": "stderr",
     "output_type": "stream",
     "text": [
      "/tmp/ipykernel_4065716/2319557713.py:13: RuntimeWarning: All-NaN axis encountered\n",
      "  np.nanmax([stack[idx:idx + twin], _data[iseg+1, :]], axis = 0)\n"
     ]
    },
    {
     "name": "stdout",
     "output_type": "stream",
     "text": [
      "['7D', 'M12B']\n",
      "[####                                    ] | 12% Completed | 3hr 19mAll prediction shape: (2, 5, 1439, 6000)\n",
      "[####                                    ] | 12% Completed | 3hr 20m182 P picks\n",
      "54 S picks\n",
      "['NC', 'KMPB']\n",
      "[####                                    ] | 12% Completed | 3hr 20m"
     ]
    },
    {
     "name": "stderr",
     "output_type": "stream",
     "text": [
      "/tmp/ipykernel_4065716/2319557713.py:13: RuntimeWarning: All-NaN axis encountered\n",
      "  np.nanmax([stack[idx:idx + twin], _data[iseg+1, :]], axis = 0)\n",
      "WARNING:root:No stream returned. Skipping.\n"
     ]
    },
    {
     "name": "stdout",
     "output_type": "stream",
     "text": [
      "['7D', 'G26B']\n",
      "[####                                    ] | 12% Completed | 3hr 20mAll prediction shape: (2, 5, 3598, 6000)\n",
      "[####                                    ] | 12% Completed | 3hr 25m92 P picks\n",
      "80 S picks\n"
     ]
    },
    {
     "name": "stderr",
     "output_type": "stream",
     "text": [
      "/tmp/ipykernel_4065716/2319557713.py:13: RuntimeWarning: All-NaN axis encountered\n",
      "  np.nanmax([stack[idx:idx + twin], _data[iseg+1, :]], axis = 0)\n"
     ]
    },
    {
     "name": "stdout",
     "output_type": "stream",
     "text": [
      "['7D', 'G26B']\n",
      "[#####                                   ] | 12% Completed | 3hr 25mAll prediction shape: (2, 5, 3598, 6000)\n",
      "[#####                                   ] | 12% Completed | 3hr 29m152 P picks\n",
      "57 S picks\n"
     ]
    },
    {
     "name": "stderr",
     "output_type": "stream",
     "text": [
      "/tmp/ipykernel_4065716/2319557713.py:13: RuntimeWarning: All-NaN axis encountered\n",
      "  np.nanmax([stack[idx:idx + twin], _data[iseg+1, :]], axis = 0)\n"
     ]
    },
    {
     "name": "stdout",
     "output_type": "stream",
     "text": [
      "['7D', 'G26B']\n",
      "[#####                                   ] | 12% Completed | 3hr 30mAll prediction shape: (2, 5, 3598, 6000)\n",
      "[#####                                   ] | 12% Completed | 3hr 34m196 P picks\n",
      "155 S picks\n",
      "[#####                                   ] | 12% Completed | 3hr 34m"
     ]
    },
    {
     "name": "stderr",
     "output_type": "stream",
     "text": [
      "/tmp/ipykernel_4065716/2319557713.py:13: RuntimeWarning: All-NaN axis encountered\n",
      "  np.nanmax([stack[idx:idx + twin], _data[iseg+1, :]], axis = 0)\n"
     ]
    },
    {
     "name": "stdout",
     "output_type": "stream",
     "text": [
      "['7D', 'J09B']\n",
      "[#####                                   ] | 12% Completed | 3hr 34mAll prediction shape: (2, 5, 1439, 6000)\n",
      "[#####                                   ] | 12% Completed | 3hr 35m131 P picks\n",
      "29 S picks\n",
      "['7D', 'G27B']\n",
      "[#####                                   ] | 12% Completed | 3hr 35m"
     ]
    },
    {
     "name": "stderr",
     "output_type": "stream",
     "text": [
      "/tmp/ipykernel_4065716/2319557713.py:13: RuntimeWarning: All-NaN axis encountered\n",
      "  np.nanmax([stack[idx:idx + twin], _data[iseg+1, :]], axis = 0)\n"
     ]
    },
    {
     "name": "stdout",
     "output_type": "stream",
     "text": [
      "[#####                                   ] | 12% Completed | 3hr 35mAll prediction shape: (2, 5, 1439, 6000)\n",
      "[#####                                   ] | 12% Completed | 3hr 36m36 P picks\n",
      "7 S picks\n"
     ]
    },
    {
     "name": "stderr",
     "output_type": "stream",
     "text": [
      "/tmp/ipykernel_4065716/2319557713.py:13: RuntimeWarning: All-NaN axis encountered\n",
      "  np.nanmax([stack[idx:idx + twin], _data[iseg+1, :]], axis = 0)\n",
      "WARNING:root:No stream returned. Skipping.\n"
     ]
    },
    {
     "name": "stdout",
     "output_type": "stream",
     "text": [
      "['NC', 'KEB']\n",
      "['NC', 'KRMB']\n",
      "[#####                                   ] | 13% Completed | 3hr 36m"
     ]
    },
    {
     "name": "stderr",
     "output_type": "stream",
     "text": [
      "WARNING:root:No stream returned. Skipping.\n"
     ]
    },
    {
     "name": "stdout",
     "output_type": "stream",
     "text": [
      "['TA', 'I02D']\n",
      "[#####                                   ] | 13% Completed | 3hr 36mAll prediction shape: (2, 5, 1150, 6000)\n",
      "[#####                                   ] | 13% Completed | 3hr 36m21 P picks\n",
      "9 S picks\n",
      "['7D', 'J33B']\n",
      "[#####                                   ] | 13% Completed | 3hr 36m"
     ]
    },
    {
     "name": "stderr",
     "output_type": "stream",
     "text": [
      "/tmp/ipykernel_4065716/2319557713.py:13: RuntimeWarning: All-NaN axis encountered\n",
      "  np.nanmax([stack[idx:idx + twin], _data[iseg+1, :]], axis = 0)\n"
     ]
    },
    {
     "name": "stdout",
     "output_type": "stream",
     "text": [
      "[#####                                   ] | 13% Completed | 3hr 37mAll prediction shape: (2, 5, 3599, 6000)\n",
      "[#####                                   ] | 13% Completed | 3hr 41m"
     ]
    },
    {
     "name": "stderr",
     "output_type": "stream",
     "text": [
      "/tmp/ipykernel_4065716/2319557713.py:13: RuntimeWarning: All-NaN axis encountered\n",
      "  np.nanmax([stack[idx:idx + twin], _data[iseg+1, :]], axis = 0)\n"
     ]
    },
    {
     "name": "stdout",
     "output_type": "stream",
     "text": [
      "278 P picks\n",
      "566 S picks\n",
      "['7D', 'M12B']\n",
      "[#####                                   ] | 13% Completed | 3hr 41mAll prediction shape: (2, 5, 1439, 6000)\n",
      "[#####                                   ] | 13% Completed | 3hr 42m163 P picks\n",
      "45 S picks\n",
      "['BK', 'JCC']\n",
      "[#####                                   ] | 13% Completed | 3hr 42m"
     ]
    },
    {
     "name": "stderr",
     "output_type": "stream",
     "text": [
      "/tmp/ipykernel_4065716/2319557713.py:13: RuntimeWarning: All-NaN axis encountered\n",
      "  np.nanmax([stack[idx:idx + twin], _data[iseg+1, :]], axis = 0)\n",
      "WARNING:root:No stream returned. Skipping.\n"
     ]
    },
    {
     "name": "stdout",
     "output_type": "stream",
     "text": [
      "['7D', 'FS16B']\n",
      "[#####                                   ] | 13% Completed | 3hr 42mAll prediction shape: (2, 5, 3599, 6000)\n",
      "[#####                                   ] | 13% Completed | 3hr 46m"
     ]
    },
    {
     "name": "stderr",
     "output_type": "stream",
     "text": [
      "/tmp/ipykernel_4065716/2319557713.py:13: RuntimeWarning: All-NaN axis encountered\n",
      "  np.nanmax([stack[idx:idx + twin], _data[iseg+1, :]], axis = 0)\n"
     ]
    },
    {
     "name": "stdout",
     "output_type": "stream",
     "text": [
      "393 P picks\n",
      "405 S picks\n",
      "['TA', 'I02D']\n",
      "[#####                                   ] | 13% Completed | 3hr 46mAll prediction shape: (2, 5, 1150, 6000)\n",
      "[#####                                   ] | 13% Completed | 3hr 47m39 P picks\n",
      "12 S picks\n"
     ]
    },
    {
     "name": "stderr",
     "output_type": "stream",
     "text": [
      "/tmp/ipykernel_4065716/2319557713.py:13: RuntimeWarning: All-NaN axis encountered\n",
      "  np.nanmax([stack[idx:idx + twin], _data[iseg+1, :]], axis = 0)\n",
      "WARNING:root:No stream returned. Skipping.\n"
     ]
    },
    {
     "name": "stdout",
     "output_type": "stream",
     "text": [
      "['NC', 'KHBB']\n",
      "['7D', 'FS09B']\n",
      "[#####                                   ] | 14% Completed | 3hr 47mAll prediction shape: (2, 5, 1439, 6000)\n",
      "[#####                                   ] | 14% Completed | 3hr 48m103 P picks\n",
      "83 S picks\n",
      "['NC', 'KBO']\n",
      "[#####                                   ] | 14% Completed | 3hr 48m"
     ]
    },
    {
     "name": "stderr",
     "output_type": "stream",
     "text": [
      "/tmp/ipykernel_4065716/2319557713.py:13: RuntimeWarning: All-NaN axis encountered\n",
      "  np.nanmax([stack[idx:idx + twin], _data[iseg+1, :]], axis = 0)\n",
      "WARNING:root:No stream returned. Skipping.\n"
     ]
    },
    {
     "name": "stdout",
     "output_type": "stream",
     "text": [
      "['7D', 'J33B']\n",
      "[#####                                   ] | 14% Completed | 3hr 48mAll prediction shape: (2, 5, 3599, 6000)\n",
      "[#####                                   ] | 14% Completed | 3hr 52m265 P picks\n",
      "476 S picks\n"
     ]
    },
    {
     "name": "stderr",
     "output_type": "stream",
     "text": [
      "/tmp/ipykernel_4065716/2319557713.py:13: RuntimeWarning: All-NaN axis encountered\n",
      "  np.nanmax([stack[idx:idx + twin], _data[iseg+1, :]], axis = 0)\n"
     ]
    },
    {
     "name": "stdout",
     "output_type": "stream",
     "text": [
      "['UW', 'BABR']\n",
      "[#####                                   ] | 14% Completed | 3hr 52mAll prediction shape: (2, 5, 1151, 6000)\n",
      "[#####                                   ] | 14% Completed | 3hr 53m5 P picks\n",
      "0 S picks\n",
      "['NC', 'KSXB']\n",
      "[#####                                   ] | 14% Completed | 3hr 53m"
     ]
    },
    {
     "name": "stderr",
     "output_type": "stream",
     "text": [
      "/tmp/ipykernel_4065716/2319557713.py:13: RuntimeWarning: All-NaN axis encountered\n",
      "  np.nanmax([stack[idx:idx + twin], _data[iseg+1, :]], axis = 0)\n",
      "WARNING:root:No stream returned. Skipping.\n"
     ]
    },
    {
     "name": "stdout",
     "output_type": "stream",
     "text": [
      "['7D', 'M12B']\n",
      "[#####                                   ] | 14% Completed | 3hr 53mAll prediction shape: (2, 5, 1439, 6000)\n",
      "[#####                                   ] | 14% Completed | 3hr 54m155 P picks\n",
      "44 S picks\n",
      "['7D', 'J09B']\n",
      "[#####                                   ] | 14% Completed | 3hr 54m"
     ]
    },
    {
     "name": "stderr",
     "output_type": "stream",
     "text": [
      "/tmp/ipykernel_4065716/2319557713.py:13: RuntimeWarning: All-NaN axis encountered\n",
      "  np.nanmax([stack[idx:idx + twin], _data[iseg+1, :]], axis = 0)\n"
     ]
    },
    {
     "name": "stdout",
     "output_type": "stream",
     "text": [
      "[#####                                   ] | 14% Completed | 3hr 54mAll prediction shape: (2, 5, 1439, 6000)\n",
      "[#####                                   ] | 14% Completed | 3hr 55m113 P picks\n",
      "27 S picks\n",
      "['7D', 'J25B']\n",
      "[#####                                   ] | 14% Completed | 3hr 55m"
     ]
    },
    {
     "name": "stderr",
     "output_type": "stream",
     "text": [
      "/tmp/ipykernel_4065716/2319557713.py:13: RuntimeWarning: All-NaN axis encountered\n",
      "  np.nanmax([stack[idx:idx + twin], _data[iseg+1, :]], axis = 0)\n"
     ]
    },
    {
     "name": "stdout",
     "output_type": "stream",
     "text": [
      "[#####                                   ] | 14% Completed | 3hr 55mAll prediction shape: (2, 5, 3599, 6000)\n",
      "[#####                                   ] | 14% Completed | 3hr 59m467 P picks\n",
      "642 S picks\n"
     ]
    },
    {
     "name": "stderr",
     "output_type": "stream",
     "text": [
      "/tmp/ipykernel_4065716/2319557713.py:13: RuntimeWarning: All-NaN axis encountered\n",
      "  np.nanmax([stack[idx:idx + twin], _data[iseg+1, :]], axis = 0)\n"
     ]
    },
    {
     "name": "stdout",
     "output_type": "stream",
     "text": [
      "['7D', 'FS20B']\n",
      "[#####                                   ] | 14% Completed | 4hr 0mmAll prediction shape: (2, 5, 3599, 6000)\n",
      "[#####                                   ] | 14% Completed | 4hr 4m191 P picks\n",
      "124 S picks\n",
      "['TA', 'J01E']\n",
      "[######                                  ] | 15% Completed | 4hr 4m"
     ]
    },
    {
     "name": "stderr",
     "output_type": "stream",
     "text": [
      "/tmp/ipykernel_4065716/2319557713.py:13: RuntimeWarning: All-NaN axis encountered\n",
      "  np.nanmax([stack[idx:idx + twin], _data[iseg+1, :]], axis = 0)\n"
     ]
    },
    {
     "name": "stdout",
     "output_type": "stream",
     "text": [
      "[######                                  ] | 15% Completed | 4hr 4mAll prediction shape: (2, 5, 1150, 6000)\n",
      "[######                                  ] | 15% Completed | 4hr 5m25 P picks\n",
      "13 S picks\n",
      "['7D', 'FS09B']\n",
      "[######                                  ] | 15% Completed | 4hr 5m"
     ]
    },
    {
     "name": "stderr",
     "output_type": "stream",
     "text": [
      "/tmp/ipykernel_4065716/2319557713.py:13: RuntimeWarning: All-NaN axis encountered\n",
      "  np.nanmax([stack[idx:idx + twin], _data[iseg+1, :]], axis = 0)\n"
     ]
    },
    {
     "name": "stdout",
     "output_type": "stream",
     "text": [
      "[######                                  ] | 15% Completed | 4hr 5mAll prediction shape: (2, 5, 1439, 6000)\n",
      "[######                                  ] | 15% Completed | 4hr 5m257 P picks\n",
      "246 S picks\n",
      "['7D', 'G17B']\n",
      "[######                                  ] | 15% Completed | 4hr 5m"
     ]
    },
    {
     "name": "stderr",
     "output_type": "stream",
     "text": [
      "/tmp/ipykernel_4065716/2319557713.py:13: RuntimeWarning: All-NaN axis encountered\n",
      "  np.nanmax([stack[idx:idx + twin], _data[iseg+1, :]], axis = 0)\n"
     ]
    },
    {
     "name": "stdout",
     "output_type": "stream",
     "text": [
      "[######                                  ] | 15% Completed | 4hr 6mAll prediction shape: (2, 5, 3599, 6000)\n",
      "[######                                  ] | 15% Completed | 4hr 10m"
     ]
    },
    {
     "name": "stderr",
     "output_type": "stream",
     "text": [
      "/tmp/ipykernel_4065716/2319557713.py:13: RuntimeWarning: All-NaN axis encountered\n",
      "  np.nanmax([stack[idx:idx + twin], _data[iseg+1, :]], axis = 0)\n"
     ]
    },
    {
     "name": "stdout",
     "output_type": "stream",
     "text": [
      "541 P picks\n",
      "546 S picks\n",
      "['NC', 'KHBB']\n",
      "[######                                  ] | 15% Completed | 4hr 10m"
     ]
    },
    {
     "name": "stderr",
     "output_type": "stream",
     "text": [
      "WARNING:root:No stream returned. Skipping.\n",
      "WARNING:root:No stream returned. Skipping.\n"
     ]
    },
    {
     "name": "stdout",
     "output_type": "stream",
     "text": [
      "['NC', 'KMPB']\n",
      "['7D', 'J09B']\n",
      "[######                                  ] | 15% Completed | 4hr 10mAll prediction shape: (2, 5, 1439, 6000)\n",
      "[######                                  ] | 15% Completed | 4hr 11m122 P picks\n",
      "23 S picks\n",
      "['7D', 'M09B']\n",
      "[######                                  ] | 15% Completed | 4hr 11m"
     ]
    },
    {
     "name": "stderr",
     "output_type": "stream",
     "text": [
      "/tmp/ipykernel_4065716/2319557713.py:13: RuntimeWarning: All-NaN axis encountered\n",
      "  np.nanmax([stack[idx:idx + twin], _data[iseg+1, :]], axis = 0)\n"
     ]
    },
    {
     "name": "stdout",
     "output_type": "stream",
     "text": [
      "[######                                  ] | 15% Completed | 4hr 11mAll prediction shape: (2, 5, 3599, 6000)\n",
      "[######                                  ] | 15% Completed | 4hr 15m412 P picks\n",
      "466 S picks\n",
      "[######                                  ] | 15% Completed | 4hr 15m"
     ]
    },
    {
     "name": "stderr",
     "output_type": "stream",
     "text": [
      "/tmp/ipykernel_4065716/2319557713.py:13: RuntimeWarning: All-NaN axis encountered\n",
      "  np.nanmax([stack[idx:idx + twin], _data[iseg+1, :]], axis = 0)\n",
      "WARNING:root:No stream returned. Skipping.\n"
     ]
    },
    {
     "name": "stdout",
     "output_type": "stream",
     "text": [
      "['NC', 'KBO']\n"
     ]
    },
    {
     "name": "stderr",
     "output_type": "stream",
     "text": [
      "WARNING:root:No stream returned. Skipping.\n"
     ]
    },
    {
     "name": "stdout",
     "output_type": "stream",
     "text": [
      "['NC', 'KOM']\n",
      "['7D', 'G27B']\n",
      "[######                                  ] | 16% Completed | 4hr 15mAll prediction shape: (2, 5, 1438, 6000)\n",
      "[######                                  ] | 16% Completed | 4hr 16m112 P picks\n",
      "76 S picks\n",
      "['7D', 'J09B']\n",
      "[######                                  ] | 16% Completed | 4hr 16m"
     ]
    },
    {
     "name": "stderr",
     "output_type": "stream",
     "text": [
      "/tmp/ipykernel_4065716/2319557713.py:13: RuntimeWarning: All-NaN axis encountered\n",
      "  np.nanmax([stack[idx:idx + twin], _data[iseg+1, :]], axis = 0)\n"
     ]
    },
    {
     "name": "stdout",
     "output_type": "stream",
     "text": [
      "[######                                  ] | 16% Completed | 4hr 16mAll prediction shape: (2, 5, 1439, 6000)\n",
      "[######                                  ] | 16% Completed | 4hr 17m118 P picks\n",
      "37 S picks\n",
      "['7D', 'FS09B']\n",
      "[######                                  ] | 16% Completed | 4hr 17m"
     ]
    },
    {
     "name": "stderr",
     "output_type": "stream",
     "text": [
      "/tmp/ipykernel_4065716/2319557713.py:13: RuntimeWarning: All-NaN axis encountered\n",
      "  np.nanmax([stack[idx:idx + twin], _data[iseg+1, :]], axis = 0)\n"
     ]
    },
    {
     "name": "stdout",
     "output_type": "stream",
     "text": [
      "[######                                  ] | 16% Completed | 4hr 17mAll prediction shape: (2, 5, 1439, 6000)\n",
      "[######                                  ] | 16% Completed | 4hr 18m138 P picks\n",
      "104 S picks\n",
      "['BK', 'JCC']\n",
      "[######                                  ] | 16% Completed | 4hr 18m"
     ]
    },
    {
     "name": "stderr",
     "output_type": "stream",
     "text": [
      "/tmp/ipykernel_4065716/2319557713.py:13: RuntimeWarning: All-NaN axis encountered\n",
      "  np.nanmax([stack[idx:idx + twin], _data[iseg+1, :]], axis = 0)\n",
      "WARNING:root:No stream returned. Skipping.\n",
      "WARNING:root:No stream returned. Skipping.\n"
     ]
    },
    {
     "name": "stdout",
     "output_type": "stream",
     "text": [
      "['NC', 'KEB']\n",
      "['7D', 'FS13B']\n",
      "[######                                  ] | 16% Completed | 4hr 18mAll prediction shape: (2, 5, 3599, 6000)\n",
      "[######                                  ] | 16% Completed | 4hr 23m354 P picks\n",
      "307 S picks\n"
     ]
    },
    {
     "name": "stderr",
     "output_type": "stream",
     "text": [
      "/tmp/ipykernel_4065716/2319557713.py:13: RuntimeWarning: All-NaN axis encountered\n",
      "  np.nanmax([stack[idx:idx + twin], _data[iseg+1, :]], axis = 0)\n",
      "WARNING:root:No stream returned. Skipping.\n"
     ]
    },
    {
     "name": "stdout",
     "output_type": "stream",
     "text": [
      "['NC', 'KEB']\n",
      "['TA', 'I02D']\n",
      "[######                                  ] | 16% Completed | 4hr 23mAll prediction shape: (2, 5, 1151, 6000)\n",
      "[######                                  ] | 16% Completed | 4hr 23m34 P picks\n",
      "9 S picks\n",
      "['7D', 'FS20B']\n",
      "[######                                  ] | 16% Completed | 4hr 23m"
     ]
    },
    {
     "name": "stderr",
     "output_type": "stream",
     "text": [
      "/tmp/ipykernel_4065716/2319557713.py:13: RuntimeWarning: All-NaN axis encountered\n",
      "  np.nanmax([stack[idx:idx + twin], _data[iseg+1, :]], axis = 0)\n"
     ]
    },
    {
     "name": "stdout",
     "output_type": "stream",
     "text": [
      "[######                                  ] | 16% Completed | 4hr 24mAll prediction shape: (2, 5, 3599, 6000)\n",
      "[######                                  ] | 16% Completed | 4hr 28m181 P picks\n",
      "196 S picks\n",
      "['NC', 'KRMB']\n",
      "[######                                  ] | 17% Completed | 4hr 28m"
     ]
    },
    {
     "name": "stderr",
     "output_type": "stream",
     "text": [
      "/tmp/ipykernel_4065716/2319557713.py:13: RuntimeWarning: All-NaN axis encountered\n",
      "  np.nanmax([stack[idx:idx + twin], _data[iseg+1, :]], axis = 0)\n",
      "WARNING:root:No stream returned. Skipping.\n"
     ]
    },
    {
     "name": "stdout",
     "output_type": "stream",
     "text": [
      "['7D', 'G25B']\n",
      "[######                                  ] | 17% Completed | 4hr 28mAll prediction shape: (2, 5, 3599, 6000)\n",
      "[######                                  ] | 17% Completed | 4hr 32m555 P picks\n",
      "223 S picks\n"
     ]
    },
    {
     "name": "stderr",
     "output_type": "stream",
     "text": [
      "/tmp/ipykernel_4065716/2319557713.py:13: RuntimeWarning: All-NaN axis encountered\n",
      "  np.nanmax([stack[idx:idx + twin], _data[iseg+1, :]], axis = 0)\n"
     ]
    },
    {
     "name": "stdout",
     "output_type": "stream",
     "text": [
      "['7D', 'G17B']\n",
      "[######                                  ] | 17% Completed | 4hr 33mAll prediction shape: (2, 5, 3599, 6000)\n",
      "[######                                  ] | 17% Completed | 4hr 37m522 P picks\n",
      "468 S picks\n"
     ]
    },
    {
     "name": "stderr",
     "output_type": "stream",
     "text": [
      "/tmp/ipykernel_4065716/2319557713.py:13: RuntimeWarning: All-NaN axis encountered\n",
      "  np.nanmax([stack[idx:idx + twin], _data[iseg+1, :]], axis = 0)\n"
     ]
    },
    {
     "name": "stdout",
     "output_type": "stream",
     "text": [
      "['NC', 'KHMB']\n",
      "[######                                  ] | 17% Completed | 4hr 37m"
     ]
    },
    {
     "name": "stderr",
     "output_type": "stream",
     "text": [
      "WARNING:root:No stream returned. Skipping.\n",
      "WARNING:root:No stream returned. Skipping.\n"
     ]
    },
    {
     "name": "stdout",
     "output_type": "stream",
     "text": [
      "['NC', 'KHMB']\n",
      "['NC', 'KOM']\n",
      "[#######                                 ] | 17% Completed | 4hr 37m"
     ]
    },
    {
     "name": "stderr",
     "output_type": "stream",
     "text": [
      "WARNING:root:No stream returned. Skipping.\n"
     ]
    },
    {
     "name": "stdout",
     "output_type": "stream",
     "text": [
      "['7D', 'M14B']\n",
      "[#######                                 ] | 17% Completed | 4hr 37mAll prediction shape: (2, 5, 1438, 6000)\n",
      "[#######                                 ] | 17% Completed | 4hr 38m187 P picks\n",
      "61 S picks\n",
      "['7D', 'J25B']\n",
      "[#######                                 ] | 17% Completed | 4hr 38m"
     ]
    },
    {
     "name": "stderr",
     "output_type": "stream",
     "text": [
      "/tmp/ipykernel_4065716/2319557713.py:13: RuntimeWarning: All-NaN axis encountered\n",
      "  np.nanmax([stack[idx:idx + twin], _data[iseg+1, :]], axis = 0)\n"
     ]
    },
    {
     "name": "stdout",
     "output_type": "stream",
     "text": [
      "[#######                                 ] | 17% Completed | 4hr 38mAll prediction shape: (2, 5, 3599, 6000)\n",
      "[#######                                 ] | 17% Completed | 4hr 42m529 P picks\n",
      "770 S picks\n"
     ]
    },
    {
     "name": "stderr",
     "output_type": "stream",
     "text": [
      "/tmp/ipykernel_4065716/2319557713.py:13: RuntimeWarning: All-NaN axis encountered\n",
      "  np.nanmax([stack[idx:idx + twin], _data[iseg+1, :]], axis = 0)\n"
     ]
    },
    {
     "name": "stdout",
     "output_type": "stream",
     "text": [
      "['7D', 'FS20B']\n",
      "[#######                                 ] | 17% Completed | 4hr 43mAll prediction shape: (2, 5, 3598, 6000)\n",
      "[#######                                 ] | 17% Completed | 4hr 47m202 P picks\n",
      "164 S picks\n"
     ]
    },
    {
     "name": "stderr",
     "output_type": "stream",
     "text": [
      "/tmp/ipykernel_4065716/2319557713.py:13: RuntimeWarning: All-NaN axis encountered\n",
      "  np.nanmax([stack[idx:idx + twin], _data[iseg+1, :]], axis = 0)\n"
     ]
    },
    {
     "name": "stdout",
     "output_type": "stream",
     "text": [
      "['7D', 'J33B']\n",
      "[#######                                 ] | 18% Completed | 4hr 47mAll prediction shape: (2, 5, 3599, 6000)\n",
      "[#######                                 ] | 18% Completed | 4hr 51m"
     ]
    },
    {
     "name": "stderr",
     "output_type": "stream",
     "text": [
      "/tmp/ipykernel_4065716/2319557713.py:13: RuntimeWarning: All-NaN axis encountered\n",
      "  np.nanmax([stack[idx:idx + twin], _data[iseg+1, :]], axis = 0)\n"
     ]
    },
    {
     "name": "stdout",
     "output_type": "stream",
     "text": [
      "351 P picks\n",
      "833 S picks\n",
      "['7D', 'G26B']\n",
      "[#######                                 ] | 18% Completed | 4hr 52mAll prediction shape: (2, 5, 3599, 6000)\n",
      "[#######                                 ] | 18% Completed | 4hr 56m49 P picks\n",
      "33 S picks\n",
      "['NC', 'KEB']\n",
      "[#######                                 ] | 18% Completed | 4hr 56m"
     ]
    },
    {
     "name": "stderr",
     "output_type": "stream",
     "text": [
      "/tmp/ipykernel_4065716/2319557713.py:13: RuntimeWarning: All-NaN axis encountered\n",
      "  np.nanmax([stack[idx:idx + twin], _data[iseg+1, :]], axis = 0)\n",
      "WARNING:root:No stream returned. Skipping.\n",
      "WARNING:root:No stream returned. Skipping.\n"
     ]
    },
    {
     "name": "stdout",
     "output_type": "stream",
     "text": [
      "['NC', 'KHMB']\n",
      "['NC', 'KRMB']\n",
      "[#######                                 ] | 18% Completed | 4hr 56m"
     ]
    },
    {
     "name": "stderr",
     "output_type": "stream",
     "text": [
      "WARNING:root:No stream returned. Skipping.\n"
     ]
    },
    {
     "name": "stdout",
     "output_type": "stream",
     "text": [
      "['7D', 'FS09B']\n",
      "[#######                                 ] | 18% Completed | 4hr 56mAll prediction shape: (2, 5, 1439, 6000)\n",
      "[#######                                 ] | 18% Completed | 4hr 57m118 P picks\n",
      "112 S picks\n",
      "['7D', 'FS17B']\n",
      "[#######                                 ] | 18% Completed | 4hr 57m"
     ]
    },
    {
     "name": "stderr",
     "output_type": "stream",
     "text": [
      "/tmp/ipykernel_4065716/2319557713.py:13: RuntimeWarning: All-NaN axis encountered\n",
      "  np.nanmax([stack[idx:idx + twin], _data[iseg+1, :]], axis = 0)\n"
     ]
    },
    {
     "name": "stdout",
     "output_type": "stream",
     "text": [
      "[#######                                 ] | 18% Completed | 4hr 57mAll prediction shape: (2, 5, 3599, 6000)\n",
      "[#######                                 ] | 18% Completed | 5hr 1mm374 P picks\n",
      "119 S picks\n"
     ]
    },
    {
     "name": "stderr",
     "output_type": "stream",
     "text": [
      "/tmp/ipykernel_4065716/2319557713.py:13: RuntimeWarning: All-NaN axis encountered\n",
      "  np.nanmax([stack[idx:idx + twin], _data[iseg+1, :]], axis = 0)\n"
     ]
    },
    {
     "name": "stdout",
     "output_type": "stream",
     "text": [
      "['7D', 'J25B']\n",
      "[#######                                 ] | 18% Completed | 5hr 2mAll prediction shape: (2, 5, 3599, 6000)\n",
      "[#######                                 ] | 18% Completed | 5hr 6m"
     ]
    },
    {
     "name": "stderr",
     "output_type": "stream",
     "text": [
      "/tmp/ipykernel_4065716/2319557713.py:13: RuntimeWarning: All-NaN axis encountered\n",
      "  np.nanmax([stack[idx:idx + twin], _data[iseg+1, :]], axis = 0)\n"
     ]
    },
    {
     "name": "stdout",
     "output_type": "stream",
     "text": [
      "423 P picks\n",
      "634 S picks\n",
      "['7D', 'M12B']\n",
      "[#######                                 ] | 18% Completed | 5hr 6mAll prediction shape: (2, 5, 1439, 6000)\n",
      "[#######                                 ] | 18% Completed | 5hr 7m172 P picks\n",
      "73 S picks\n",
      "['7D', 'M12B']\n",
      "[#######                                 ] | 19% Completed | 5hr 7m"
     ]
    },
    {
     "name": "stderr",
     "output_type": "stream",
     "text": [
      "/tmp/ipykernel_4065716/2319557713.py:13: RuntimeWarning: All-NaN axis encountered\n",
      "  np.nanmax([stack[idx:idx + twin], _data[iseg+1, :]], axis = 0)\n"
     ]
    },
    {
     "name": "stdout",
     "output_type": "stream",
     "text": [
      "[#######                                 ] | 19% Completed | 5hr 7mAll prediction shape: (2, 5, 1439, 6000)\n",
      "[#######                                 ] | 19% Completed | 5hr 8m195 P picks\n",
      "36 S picks\n",
      "['7D', 'FS09B']\n",
      "[#######                                 ] | 19% Completed | 5hr 8m"
     ]
    },
    {
     "name": "stderr",
     "output_type": "stream",
     "text": [
      "/tmp/ipykernel_4065716/2319557713.py:13: RuntimeWarning: All-NaN axis encountered\n",
      "  np.nanmax([stack[idx:idx + twin], _data[iseg+1, :]], axis = 0)\n"
     ]
    },
    {
     "name": "stdout",
     "output_type": "stream",
     "text": [
      "[#######                                 ] | 19% Completed | 5hr 8mAll prediction shape: (2, 5, 1439, 6000)\n",
      "[#######                                 ] | 19% Completed | 5hr 9m131 P picks\n",
      "107 S picks\n",
      "['NC', 'KHBB']\n"
     ]
    },
    {
     "name": "stderr",
     "output_type": "stream",
     "text": [
      "/tmp/ipykernel_4065716/2319557713.py:13: RuntimeWarning: All-NaN axis encountered\n",
      "  np.nanmax([stack[idx:idx + twin], _data[iseg+1, :]], axis = 0)\n",
      "WARNING:root:No stream returned. Skipping.\n"
     ]
    },
    {
     "name": "stdout",
     "output_type": "stream",
     "text": [
      "[#######                                 ] | 19% Completed | 5hr 9m['7D', 'M14B']\n",
      "[#######                                 ] | 19% Completed | 5hr 9mAll prediction shape: (2, 5, 1438, 6000)\n",
      "[#######                                 ] | 19% Completed | 5hr 10m181 P picks\n",
      "60 S picks\n",
      "['7D', 'FS17B']\n",
      "[#######                                 ] | 19% Completed | 5hr 10m"
     ]
    },
    {
     "name": "stderr",
     "output_type": "stream",
     "text": [
      "/tmp/ipykernel_4065716/2319557713.py:13: RuntimeWarning: All-NaN axis encountered\n",
      "  np.nanmax([stack[idx:idx + twin], _data[iseg+1, :]], axis = 0)\n"
     ]
    },
    {
     "name": "stdout",
     "output_type": "stream",
     "text": [
      "[#######                                 ] | 19% Completed | 5hr 10mAll prediction shape: (2, 5, 3599, 6000)\n",
      "[#######                                 ] | 19% Completed | 5hr 14m641 P picks\n",
      "519 S picks\n",
      "[#######                                 ] | 19% Completed | 5hr 14m"
     ]
    },
    {
     "name": "stderr",
     "output_type": "stream",
     "text": [
      "/tmp/ipykernel_4065716/2319557713.py:13: RuntimeWarning: All-NaN axis encountered\n",
      "  np.nanmax([stack[idx:idx + twin], _data[iseg+1, :]], axis = 0)\n"
     ]
    },
    {
     "name": "stdout",
     "output_type": "stream",
     "text": [
      "['UW', 'BABR']\n",
      "[#######                                 ] | 19% Completed | 5hr 14mAll prediction shape: (2, 5, 1151, 6000)\n",
      "[#######                                 ] | 19% Completed | 5hr 15m11 P picks\n",
      "2 S picks\n",
      "['7D', 'J33B']\n",
      "[#######                                 ] | 19% Completed | 5hr 15m"
     ]
    },
    {
     "name": "stderr",
     "output_type": "stream",
     "text": [
      "/tmp/ipykernel_4065716/2319557713.py:13: RuntimeWarning: All-NaN axis encountered\n",
      "  np.nanmax([stack[idx:idx + twin], _data[iseg+1, :]], axis = 0)\n"
     ]
    },
    {
     "name": "stdout",
     "output_type": "stream",
     "text": [
      "[#######                                 ] | 19% Completed | 5hr 15mAll prediction shape: (2, 5, 3599, 6000)\n",
      "[#######                                 ] | 19% Completed | 5hr 19m227 P picks\n",
      "484 S picks\n"
     ]
    },
    {
     "name": "stderr",
     "output_type": "stream",
     "text": [
      "/tmp/ipykernel_4065716/2319557713.py:13: RuntimeWarning: All-NaN axis encountered\n",
      "  np.nanmax([stack[idx:idx + twin], _data[iseg+1, :]], axis = 0)\n"
     ]
    },
    {
     "name": "stdout",
     "output_type": "stream",
     "text": [
      "['7D', 'M14B']\n",
      "[#######                                 ] | 19% Completed | 5hr 19mAll prediction shape: (2, 5, 1438, 6000)\n",
      "[#######                                 ] | 19% Completed | 5hr 20m155 P picks\n",
      "57 S picks\n",
      "['TA', 'J01E']\n",
      "[#######                                 ] | 19% Completed | 5hr 20m"
     ]
    },
    {
     "name": "stderr",
     "output_type": "stream",
     "text": [
      "/tmp/ipykernel_4065716/2319557713.py:13: RuntimeWarning: All-NaN axis encountered\n",
      "  np.nanmax([stack[idx:idx + twin], _data[iseg+1, :]], axis = 0)\n",
      "WARNING:root:No stream returned. Skipping.\n",
      "WARNING:root:No stream returned. Skipping.\n"
     ]
    },
    {
     "name": "stdout",
     "output_type": "stream",
     "text": [
      "['NC', 'KRMB']\n",
      "['NC', 'KHBB']\n",
      "[########                                ] | 20% Completed | 5hr 20m"
     ]
    },
    {
     "name": "stderr",
     "output_type": "stream",
     "text": [
      "WARNING:root:No stream returned. Skipping.\n"
     ]
    },
    {
     "name": "stdout",
     "output_type": "stream",
     "text": [
      "['7D', 'FS16B']\n",
      "[########                                ] | 20% Completed | 5hr 21mAll prediction shape: (2, 5, 3599, 6000)\n",
      "[########                                ] | 20% Completed | 5hr 25m"
     ]
    },
    {
     "name": "stderr",
     "output_type": "stream",
     "text": [
      "/tmp/ipykernel_4065716/2319557713.py:13: RuntimeWarning: All-NaN axis encountered\n",
      "  np.nanmax([stack[idx:idx + twin], _data[iseg+1, :]], axis = 0)\n"
     ]
    },
    {
     "name": "stdout",
     "output_type": "stream",
     "text": [
      "386 P picks\n",
      "542 S picks\n",
      "['NC', 'KHMB']\n",
      "[########                                ] | 20% Completed | 5hr 25m"
     ]
    },
    {
     "name": "stderr",
     "output_type": "stream",
     "text": [
      "WARNING:root:No stream returned. Skipping.\n"
     ]
    },
    {
     "name": "stdout",
     "output_type": "stream",
     "text": [
      "['7D', 'G19B']\n",
      "[########                                ] | 20% Completed | 5hr 25mAll prediction shape: (2, 5, 1439, 6000)\n",
      "[########                                ] | 20% Completed | 5hr 26m50 P picks\n",
      "31 S picks\n",
      "['7D', 'G10B']\n",
      "[########                                ] | 20% Completed | 5hr 26m"
     ]
    },
    {
     "name": "stderr",
     "output_type": "stream",
     "text": [
      "/tmp/ipykernel_4065716/2319557713.py:13: RuntimeWarning: All-NaN axis encountered\n",
      "  np.nanmax([stack[idx:idx + twin], _data[iseg+1, :]], axis = 0)\n"
     ]
    },
    {
     "name": "stdout",
     "output_type": "stream",
     "text": [
      "[########                                ] | 20% Completed | 5hr 26mAll prediction shape: (2, 5, 1439, 6000)\n",
      "[########                                ] | 20% Completed | 5hr 27m60 P picks\n",
      "35 S picks\n",
      "['7D', 'FS16B']\n",
      "[########                                ] | 20% Completed | 5hr 27m"
     ]
    },
    {
     "name": "stderr",
     "output_type": "stream",
     "text": [
      "/tmp/ipykernel_4065716/2319557713.py:13: RuntimeWarning: All-NaN axis encountered\n",
      "  np.nanmax([stack[idx:idx + twin], _data[iseg+1, :]], axis = 0)\n"
     ]
    },
    {
     "name": "stdout",
     "output_type": "stream",
     "text": [
      "[########                                ] | 20% Completed | 5hr 27mAll prediction shape: (2, 5, 3598, 6000)\n",
      "[########                                ] | 20% Completed | 5hr 31m404 P picks\n",
      "319 S picks\n",
      "['BK', 'JCC']\n",
      "[########                                ] | 20% Completed | 5hr 31m"
     ]
    },
    {
     "name": "stderr",
     "output_type": "stream",
     "text": [
      "/tmp/ipykernel_4065716/2319557713.py:13: RuntimeWarning: All-NaN axis encountered\n",
      "  np.nanmax([stack[idx:idx + twin], _data[iseg+1, :]], axis = 0)\n",
      "WARNING:root:No stream returned. Skipping.\n"
     ]
    },
    {
     "name": "stdout",
     "output_type": "stream",
     "text": [
      "['7D', 'M09B']\n",
      "[########                                ] | 20% Completed | 5hr 32mAll prediction shape: (2, 5, 3599, 6000)\n",
      "[########                                ] | 20% Completed | 5hr 36m425 P picks\n",
      "488 S picks\n"
     ]
    },
    {
     "name": "stderr",
     "output_type": "stream",
     "text": [
      "/tmp/ipykernel_4065716/2319557713.py:13: RuntimeWarning: All-NaN axis encountered\n",
      "  np.nanmax([stack[idx:idx + twin], _data[iseg+1, :]], axis = 0)\n"
     ]
    },
    {
     "name": "stdout",
     "output_type": "stream",
     "text": [
      "['7D', 'M14B']\n",
      "[########                                ] | 21% Completed | 5hr 36mAll prediction shape: (2, 5, 1438, 6000)\n",
      "[########                                ] | 21% Completed | 5hr 37m171 P picks\n",
      "92 S picks\n",
      "['7D', 'FS16B']\n",
      "[########                                ] | 21% Completed | 5hr 37m"
     ]
    },
    {
     "name": "stderr",
     "output_type": "stream",
     "text": [
      "/tmp/ipykernel_4065716/2319557713.py:13: RuntimeWarning: All-NaN axis encountered\n",
      "  np.nanmax([stack[idx:idx + twin], _data[iseg+1, :]], axis = 0)\n"
     ]
    },
    {
     "name": "stdout",
     "output_type": "stream",
     "text": [
      "[########                                ] | 21% Completed | 5hr 37mAll prediction shape: (2, 5, 3599, 6000)\n",
      "[########                                ] | 21% Completed | 5hr 41m361 P picks\n",
      "469 S picks\n"
     ]
    },
    {
     "name": "stderr",
     "output_type": "stream",
     "text": [
      "/tmp/ipykernel_4065716/2319557713.py:13: RuntimeWarning: All-NaN axis encountered\n",
      "  np.nanmax([stack[idx:idx + twin], _data[iseg+1, :]], axis = 0)\n"
     ]
    },
    {
     "name": "stdout",
     "output_type": "stream",
     "text": [
      "['7D', 'G26B']\n",
      "[########                                ] | 21% Completed | 5hr 41mAll prediction shape: (2, 5, 3598, 6000)\n",
      "[########                                ] | 21% Completed | 5hr 46m90 P picks\n",
      "57 S picks\n",
      "['7D', 'M12B']\n",
      "[########                                ] | 21% Completed | 5hr 46m"
     ]
    },
    {
     "name": "stderr",
     "output_type": "stream",
     "text": [
      "/tmp/ipykernel_4065716/2319557713.py:13: RuntimeWarning: All-NaN axis encountered\n",
      "  np.nanmax([stack[idx:idx + twin], _data[iseg+1, :]], axis = 0)\n"
     ]
    },
    {
     "name": "stdout",
     "output_type": "stream",
     "text": [
      "[########                                ] | 21% Completed | 5hr 46mAll prediction shape: (2, 5, 1439, 6000)\n",
      "[########                                ] | 21% Completed | 5hr 47m198 P picks\n",
      "46 S picks\n",
      "['TA', 'I02D']\n",
      "[########                                ] | 21% Completed | 5hr 47m"
     ]
    },
    {
     "name": "stderr",
     "output_type": "stream",
     "text": [
      "/tmp/ipykernel_4065716/2319557713.py:13: RuntimeWarning: All-NaN axis encountered\n",
      "  np.nanmax([stack[idx:idx + twin], _data[iseg+1, :]], axis = 0)\n"
     ]
    },
    {
     "name": "stdout",
     "output_type": "stream",
     "text": [
      "[########                                ] | 21% Completed | 5hr 47mAll prediction shape: (2, 5, 1151, 6000)\n",
      "[########                                ] | 21% Completed | 5hr 47m16 P picks\n",
      "14 S picks\n",
      "['NC', 'KRMB']\n",
      "[########                                ] | 21% Completed | 5hr 47m"
     ]
    },
    {
     "name": "stderr",
     "output_type": "stream",
     "text": [
      "/tmp/ipykernel_4065716/2319557713.py:13: RuntimeWarning: All-NaN axis encountered\n",
      "  np.nanmax([stack[idx:idx + twin], _data[iseg+1, :]], axis = 0)\n",
      "WARNING:root:No stream returned. Skipping.\n"
     ]
    },
    {
     "name": "stdout",
     "output_type": "stream",
     "text": [
      "['7D', 'G10B']\n",
      "[########                                ] | 21% Completed | 5hr 47mAll prediction shape: (2, 5, 1439, 6000)\n",
      "[########                                ] | 21% Completed | 5hr 48m36 P picks\n",
      "23 S picks\n",
      "['NC', 'KBO']\n",
      "[########                                ] | 21% Completed | 5hr 48m"
     ]
    },
    {
     "name": "stderr",
     "output_type": "stream",
     "text": [
      "/tmp/ipykernel_4065716/2319557713.py:13: RuntimeWarning: All-NaN axis encountered\n",
      "  np.nanmax([stack[idx:idx + twin], _data[iseg+1, :]], axis = 0)\n"
     ]
    },
    {
     "name": "stdout",
     "output_type": "stream",
     "text": [
      "[########                                ] | 21% Completed | 5hr 48m"
     ]
    },
    {
     "name": "stderr",
     "output_type": "stream",
     "text": [
      "WARNING:root:No stream returned. Skipping.\n",
      "WARNING:root:No stream returned. Skipping.\n"
     ]
    },
    {
     "name": "stdout",
     "output_type": "stream",
     "text": [
      "['NC', 'KHBB']\n",
      "['NC', 'KMPB']\n",
      "[########                                ] | 22% Completed | 5hr 48m"
     ]
    },
    {
     "name": "stderr",
     "output_type": "stream",
     "text": [
      "WARNING:root:No stream returned. Skipping.\n"
     ]
    },
    {
     "name": "stdout",
     "output_type": "stream",
     "text": [
      "['7D', 'FS09B']\n",
      "[########                                ] | 22% Completed | 5hr 48mAll prediction shape: (2, 5, 1439, 6000)\n",
      "[########                                ] | 22% Completed | 5hr 49m114 P picks\n",
      "94 S picks\n",
      "['7D', 'FS13B']\n",
      "[########                                ] | 22% Completed | 5hr 49m"
     ]
    },
    {
     "name": "stderr",
     "output_type": "stream",
     "text": [
      "/tmp/ipykernel_4065716/2319557713.py:13: RuntimeWarning: All-NaN axis encountered\n",
      "  np.nanmax([stack[idx:idx + twin], _data[iseg+1, :]], axis = 0)\n"
     ]
    },
    {
     "name": "stdout",
     "output_type": "stream",
     "text": [
      "[########                                ] | 22% Completed | 5hr 49mAll prediction shape: (2, 5, 3599, 6000)\n",
      "[########                                ] | 22% Completed | 5hr 54m572 P picks\n",
      "250 S picks\n"
     ]
    },
    {
     "name": "stderr",
     "output_type": "stream",
     "text": [
      "/tmp/ipykernel_4065716/2319557713.py:13: RuntimeWarning: All-NaN axis encountered\n",
      "  np.nanmax([stack[idx:idx + twin], _data[iseg+1, :]], axis = 0)\n"
     ]
    },
    {
     "name": "stdout",
     "output_type": "stream",
     "text": [
      "['7D', 'J33B']\n",
      "[########                                ] | 22% Completed | 5hr 54mAll prediction shape: (2, 5, 3599, 6000)\n",
      "[########                                ] | 22% Completed | 5hr 58m"
     ]
    },
    {
     "name": "stderr",
     "output_type": "stream",
     "text": [
      "/tmp/ipykernel_4065716/2319557713.py:13: RuntimeWarning: All-NaN axis encountered\n",
      "  np.nanmax([stack[idx:idx + twin], _data[iseg+1, :]], axis = 0)\n"
     ]
    },
    {
     "name": "stdout",
     "output_type": "stream",
     "text": [
      "320 P picks\n",
      "584 S picks\n",
      "['NC', 'KHMB']\n",
      "[########                                ] | 22% Completed | 5hr 58m"
     ]
    },
    {
     "name": "stderr",
     "output_type": "stream",
     "text": [
      "WARNING:root:No stream returned. Skipping.\n"
     ]
    },
    {
     "name": "stdout",
     "output_type": "stream",
     "text": [
      "['7D', 'G10B']\n",
      "[#########                               ] | 22% Completed | 5hr 58mAll prediction shape: (2, 5, 1439, 6000)\n",
      "[#########                               ] | 22% Completed | 5hr 59m43 P picks\n",
      "28 S picks\n",
      "['7D', 'FS16B']\n",
      "[#########                               ] | 22% Completed | 5hr 59m"
     ]
    },
    {
     "name": "stderr",
     "output_type": "stream",
     "text": [
      "/tmp/ipykernel_4065716/2319557713.py:13: RuntimeWarning: All-NaN axis encountered\n",
      "  np.nanmax([stack[idx:idx + twin], _data[iseg+1, :]], axis = 0)\n"
     ]
    },
    {
     "name": "stdout",
     "output_type": "stream",
     "text": [
      "[#########                               ] | 22% Completed | 5hr 59mAll prediction shape: (2, 5, 3599, 6000)\n",
      "[#########                               ] | 22% Completed | 6hr 4mm269 P picks\n",
      "299 S picks\n"
     ]
    },
    {
     "name": "stderr",
     "output_type": "stream",
     "text": [
      "/tmp/ipykernel_4065716/2319557713.py:13: RuntimeWarning: All-NaN axis encountered\n",
      "  np.nanmax([stack[idx:idx + twin], _data[iseg+1, :]], axis = 0)\n"
     ]
    },
    {
     "name": "stdout",
     "output_type": "stream",
     "text": [
      "['7D', 'FS13B']\n",
      "[#########                               ] | 22% Completed | 6hr 4mAll prediction shape: (2, 5, 3599, 6000)\n",
      "[#########                               ] | 22% Completed | 6hr 8m400 P picks\n",
      "253 S picks\n"
     ]
    },
    {
     "name": "stderr",
     "output_type": "stream",
     "text": [
      "/tmp/ipykernel_4065716/2319557713.py:13: RuntimeWarning: All-NaN axis encountered\n",
      "  np.nanmax([stack[idx:idx + twin], _data[iseg+1, :]], axis = 0)\n"
     ]
    },
    {
     "name": "stdout",
     "output_type": "stream",
     "text": [
      "['NC', 'KMPB']\n",
      "[#########                               ] | 22% Completed | 6hr 8m"
     ]
    },
    {
     "name": "stderr",
     "output_type": "stream",
     "text": [
      "WARNING:root:No stream returned. Skipping.\n"
     ]
    },
    {
     "name": "stdout",
     "output_type": "stream",
     "text": [
      "['7D', 'G19B']\n",
      "[#########                               ] | 23% Completed | 6hr 8mAll prediction shape: (2, 5, 1439, 6000)\n",
      "[#########                               ] | 23% Completed | 6hr 9m60 P picks\n",
      "45 S picks\n"
     ]
    },
    {
     "name": "stderr",
     "output_type": "stream",
     "text": [
      "/tmp/ipykernel_4065716/2319557713.py:13: RuntimeWarning: All-NaN axis encountered\n",
      "  np.nanmax([stack[idx:idx + twin], _data[iseg+1, :]], axis = 0)\n",
      "WARNING:root:No stream returned. Skipping.\n"
     ]
    },
    {
     "name": "stdout",
     "output_type": "stream",
     "text": [
      "['NC', 'KBO']\n",
      "['7D', 'G10B']\n",
      "[#########                               ] | 23% Completed | 6hr 9mAll prediction shape: (2, 5, 1439, 6000)\n",
      "[#########                               ] | 23% Completed | 6hr 10m95 P picks\n",
      "36 S picks\n",
      "['7D', 'J25B']\n",
      "[#########                               ] | 23% Completed | 6hr 10m"
     ]
    },
    {
     "name": "stderr",
     "output_type": "stream",
     "text": [
      "/tmp/ipykernel_4065716/2319557713.py:13: RuntimeWarning: All-NaN axis encountered\n",
      "  np.nanmax([stack[idx:idx + twin], _data[iseg+1, :]], axis = 0)\n"
     ]
    },
    {
     "name": "stdout",
     "output_type": "stream",
     "text": [
      "[#########                               ] | 23% Completed | 6hr 10mAll prediction shape: (2, 5, 3598, 6000)\n",
      "[#########                               ] | 23% Completed | 6hr 15m"
     ]
    },
    {
     "name": "stderr",
     "output_type": "stream",
     "text": [
      "/tmp/ipykernel_4065716/2319557713.py:13: RuntimeWarning: All-NaN axis encountered\n",
      "  np.nanmax([stack[idx:idx + twin], _data[iseg+1, :]], axis = 0)\n"
     ]
    },
    {
     "name": "stdout",
     "output_type": "stream",
     "text": [
      "499 P picks\n",
      "598 S picks\n",
      "['7D', 'FS20B']\n",
      "[#########                               ] | 23% Completed | 6hr 15mAll prediction shape: (2, 5, 3599, 6000)\n",
      "[#########                               ] | 23% Completed | 6hr 19m122 P picks\n",
      "137 S picks\n",
      "['NC', 'KSXB']\n",
      "[#########                               ] | 23% Completed | 6hr 19m"
     ]
    },
    {
     "name": "stderr",
     "output_type": "stream",
     "text": [
      "/tmp/ipykernel_4065716/2319557713.py:13: RuntimeWarning: All-NaN axis encountered\n",
      "  np.nanmax([stack[idx:idx + twin], _data[iseg+1, :]], axis = 0)\n",
      "WARNING:root:No stream returned. Skipping.\n"
     ]
    },
    {
     "name": "stdout",
     "output_type": "stream",
     "text": [
      "['7D', 'M14B']\n",
      "[#########                               ] | 23% Completed | 6hr 19mAll prediction shape: (2, 5, 1439, 6000)\n",
      "[#########                               ] | 23% Completed | 6hr 20m209 P picks\n",
      "82 S picks\n",
      "['NC', 'KBO']\n"
     ]
    },
    {
     "name": "stderr",
     "output_type": "stream",
     "text": [
      "/tmp/ipykernel_4065716/2319557713.py:13: RuntimeWarning: All-NaN axis encountered\n",
      "  np.nanmax([stack[idx:idx + twin], _data[iseg+1, :]], axis = 0)\n",
      "WARNING:root:No stream returned. Skipping.\n"
     ]
    },
    {
     "name": "stdout",
     "output_type": "stream",
     "text": [
      "['7D', 'M12B']\n",
      "[#########                               ] | 23% Completed | 6hr 20mAll prediction shape: (2, 5, 1439, 6000)\n",
      "[#########                               ] | 23% Completed | 6hr 21m172 P picks\n",
      "51 S picks\n",
      "['7D', 'FS13B']\n",
      "[#########                               ] | 24% Completed | 6hr 21m"
     ]
    },
    {
     "name": "stderr",
     "output_type": "stream",
     "text": [
      "/tmp/ipykernel_4065716/2319557713.py:13: RuntimeWarning: All-NaN axis encountered\n",
      "  np.nanmax([stack[idx:idx + twin], _data[iseg+1, :]], axis = 0)\n"
     ]
    },
    {
     "name": "stdout",
     "output_type": "stream",
     "text": [
      "[#########                               ] | 24% Completed | 6hr 21mAll prediction shape: (2, 5, 3599, 6000)\n",
      "[#########                               ] | 24% Completed | 6hr 25m349 P picks\n",
      "257 S picks\n",
      "['NC', 'KBO']\n",
      "[#########                               ] | 24% Completed | 6hr 25m"
     ]
    },
    {
     "name": "stderr",
     "output_type": "stream",
     "text": [
      "/tmp/ipykernel_4065716/2319557713.py:13: RuntimeWarning: All-NaN axis encountered\n",
      "  np.nanmax([stack[idx:idx + twin], _data[iseg+1, :]], axis = 0)\n",
      "WARNING:root:No stream returned. Skipping.\n"
     ]
    },
    {
     "name": "stdout",
     "output_type": "stream",
     "text": [
      "['TA', 'J01E']\n",
      "[#########                               ] | 24% Completed | 6hr 25mAll prediction shape: (2, 5, 1151, 6000)\n",
      "[#########                               ] | 24% Completed | 6hr 26m24 P picks\n",
      "19 S picks\n",
      "['7D', 'G10B']\n",
      "[#########                               ] | 24% Completed | 6hr 26m"
     ]
    },
    {
     "name": "stderr",
     "output_type": "stream",
     "text": [
      "/tmp/ipykernel_4065716/2319557713.py:13: RuntimeWarning: All-NaN axis encountered\n",
      "  np.nanmax([stack[idx:idx + twin], _data[iseg+1, :]], axis = 0)\n"
     ]
    },
    {
     "name": "stdout",
     "output_type": "stream",
     "text": [
      "[#########                               ] | 24% Completed | 6hr 26mAll prediction shape: (2, 5, 1439, 6000)\n",
      "[#########                               ] | 24% Completed | 6hr 27m39 P picks\n",
      "12 S picks\n",
      "['TA', 'J01E']\n",
      "[#########                               ] | 24% Completed | 6hr 27m"
     ]
    },
    {
     "name": "stderr",
     "output_type": "stream",
     "text": [
      "/tmp/ipykernel_4065716/2319557713.py:13: RuntimeWarning: All-NaN axis encountered\n",
      "  np.nanmax([stack[idx:idx + twin], _data[iseg+1, :]], axis = 0)\n"
     ]
    },
    {
     "name": "stdout",
     "output_type": "stream",
     "text": [
      "[#########                               ] | 24% Completed | 6hr 27mAll prediction shape: (2, 5, 1150, 6000)\n",
      "[#########                               ] | 24% Completed | 6hr 28m17 P picks\n",
      "4 S picks\n",
      "['7D', 'G17B']\n",
      "[#########                               ] | 24% Completed | 6hr 28m"
     ]
    },
    {
     "name": "stderr",
     "output_type": "stream",
     "text": [
      "/tmp/ipykernel_4065716/2319557713.py:13: RuntimeWarning: All-NaN axis encountered\n",
      "  np.nanmax([stack[idx:idx + twin], _data[iseg+1, :]], axis = 0)\n"
     ]
    },
    {
     "name": "stdout",
     "output_type": "stream",
     "text": [
      "[#########                               ] | 24% Completed | 6hr 28mAll prediction shape: (2, 5, 3599, 6000)\n",
      "[#########                               ] | 24% Completed | 6hr 32m528 P picks\n",
      "572 S picks\n",
      "[#########                               ] | 24% Completed | 6hr 32m"
     ]
    },
    {
     "name": "stderr",
     "output_type": "stream",
     "text": [
      "/tmp/ipykernel_4065716/2319557713.py:13: RuntimeWarning: All-NaN axis encountered\n",
      "  np.nanmax([stack[idx:idx + twin], _data[iseg+1, :]], axis = 0)\n",
      "WARNING:root:No stream returned. Skipping.\n"
     ]
    },
    {
     "name": "stdout",
     "output_type": "stream",
     "text": [
      "['NC', 'KMPB']\n"
     ]
    },
    {
     "name": "stderr",
     "output_type": "stream",
     "text": [
      "WARNING:root:No stream returned. Skipping.\n"
     ]
    },
    {
     "name": "stdout",
     "output_type": "stream",
     "text": [
      "['NC', 'KOM']\n",
      "['UW', 'BABR']\n",
      "[#########                               ] | 24% Completed | 6hr 32mAll prediction shape: (2, 5, 1151, 6000)\n",
      "[#########                               ] | 24% Completed | 6hr 33m10 P picks\n",
      "4 S picks\n",
      "['NC', 'KEB']\n",
      "[##########                              ] | 25% Completed | 6hr 33m"
     ]
    },
    {
     "name": "stderr",
     "output_type": "stream",
     "text": [
      "/tmp/ipykernel_4065716/2319557713.py:13: RuntimeWarning: All-NaN axis encountered\n",
      "  np.nanmax([stack[idx:idx + twin], _data[iseg+1, :]], axis = 0)\n",
      "WARNING:root:No stream returned. Skipping.\n"
     ]
    },
    {
     "name": "stdout",
     "output_type": "stream",
     "text": [
      "['7D', 'M14B']\n",
      "[##########                              ] | 25% Completed | 6hr 33mAll prediction shape: (2, 5, 1439, 6000)\n",
      "[##########                              ] | 25% Completed | 6hr 34m196 P picks\n",
      "63 S picks\n",
      "['7D', 'G25B']\n",
      "[##########                              ] | 25% Completed | 6hr 34m"
     ]
    },
    {
     "name": "stderr",
     "output_type": "stream",
     "text": [
      "/tmp/ipykernel_4065716/2319557713.py:13: RuntimeWarning: All-NaN axis encountered\n",
      "  np.nanmax([stack[idx:idx + twin], _data[iseg+1, :]], axis = 0)\n"
     ]
    },
    {
     "name": "stdout",
     "output_type": "stream",
     "text": [
      "[##########                              ] | 25% Completed | 6hr 34mAll prediction shape: (2, 5, 3599, 6000)\n",
      "[##########                              ] | 25% Completed | 6hr 38m505 P picks\n",
      "222 S picks\n"
     ]
    },
    {
     "name": "stderr",
     "output_type": "stream",
     "text": [
      "/tmp/ipykernel_4065716/2319557713.py:13: RuntimeWarning: All-NaN axis encountered\n",
      "  np.nanmax([stack[idx:idx + twin], _data[iseg+1, :]], axis = 0)\n"
     ]
    },
    {
     "name": "stdout",
     "output_type": "stream",
     "text": [
      "['7D', 'FS20B']\n",
      "[##########                              ] | 25% Completed | 6hr 39mAll prediction shape: (2, 5, 3598, 6000)\n",
      "[##########                              ] | 25% Completed | 6hr 43m102 P picks\n",
      "124 S picks\n"
     ]
    },
    {
     "name": "stderr",
     "output_type": "stream",
     "text": [
      "/tmp/ipykernel_4065716/2319557713.py:13: RuntimeWarning: All-NaN axis encountered\n",
      "  np.nanmax([stack[idx:idx + twin], _data[iseg+1, :]], axis = 0)\n"
     ]
    },
    {
     "name": "stdout",
     "output_type": "stream",
     "text": [
      "['7D', 'G26B']\n",
      "[##########                              ] | 25% Completed | 6hr 43mAll prediction shape: (2, 5, 3599, 6000)\n",
      "[##########                              ] | 25% Completed | 6hr 47m177 P picks\n",
      "132 S picks\n"
     ]
    },
    {
     "name": "stderr",
     "output_type": "stream",
     "text": [
      "/tmp/ipykernel_4065716/2319557713.py:13: RuntimeWarning: All-NaN axis encountered\n",
      "  np.nanmax([stack[idx:idx + twin], _data[iseg+1, :]], axis = 0)\n"
     ]
    },
    {
     "name": "stdout",
     "output_type": "stream",
     "text": [
      "['7D', 'M12B']\n",
      "[##########                              ] | 25% Completed | 6hr 47mAll prediction shape: (2, 5, 1439, 6000)\n",
      "[##########                              ] | 25% Completed | 6hr 48m189 P picks\n",
      "57 S picks\n"
     ]
    },
    {
     "name": "stderr",
     "output_type": "stream",
     "text": [
      "/tmp/ipykernel_4065716/2319557713.py:13: RuntimeWarning: All-NaN axis encountered\n",
      "  np.nanmax([stack[idx:idx + twin], _data[iseg+1, :]], axis = 0)\n",
      "WARNING:root:No stream returned. Skipping.\n"
     ]
    },
    {
     "name": "stdout",
     "output_type": "stream",
     "text": [
      "['NC', 'KOM']\n",
      "['7D', 'FS16B']\n",
      "[##########                              ] | 25% Completed | 6hr 48mAll prediction shape: (2, 5, 3599, 6000)\n",
      "[##########                              ] | 25% Completed | 6hr 53m"
     ]
    },
    {
     "name": "stderr",
     "output_type": "stream",
     "text": [
      "/tmp/ipykernel_4065716/2319557713.py:13: RuntimeWarning: All-NaN axis encountered\n",
      "  np.nanmax([stack[idx:idx + twin], _data[iseg+1, :]], axis = 0)\n"
     ]
    },
    {
     "name": "stdout",
     "output_type": "stream",
     "text": [
      "473 P picks\n",
      "531 S picks\n",
      "['7D', 'FS17B']\n",
      "[##########                              ] | 25% Completed | 6hr 53mAll prediction shape: (2, 5, 3599, 6000)\n",
      "[##########                              ] | 25% Completed | 6hr 57m494 P picks\n",
      "258 S picks\n"
     ]
    },
    {
     "name": "stderr",
     "output_type": "stream",
     "text": [
      "/tmp/ipykernel_4065716/2319557713.py:13: RuntimeWarning: All-NaN axis encountered\n",
      "  np.nanmax([stack[idx:idx + twin], _data[iseg+1, :]], axis = 0)\n"
     ]
    },
    {
     "name": "stdout",
     "output_type": "stream",
     "text": [
      "['7D', 'J33B']\n",
      "[##########                              ] | 26% Completed | 6hr 57mAll prediction shape: (2, 5, 3599, 6000)\n",
      "[##########                              ] | 26% Completed | 7hr 1mm247 P picks\n",
      "499 S picks\n"
     ]
    },
    {
     "name": "stderr",
     "output_type": "stream",
     "text": [
      "/tmp/ipykernel_4065716/2319557713.py:13: RuntimeWarning: All-NaN axis encountered\n",
      "  np.nanmax([stack[idx:idx + twin], _data[iseg+1, :]], axis = 0)\n"
     ]
    },
    {
     "name": "stdout",
     "output_type": "stream",
     "text": [
      "['7D', 'M12B']\n",
      "[##########                              ] | 26% Completed | 7hr 2mAll prediction shape: (2, 5, 1439, 6000)\n",
      "[##########                              ] | 26% Completed | 7hr 2m141 P picks\n",
      "58 S picks\n",
      "['NC', 'KHMB']\n"
     ]
    },
    {
     "name": "stderr",
     "output_type": "stream",
     "text": [
      "/tmp/ipykernel_4065716/2319557713.py:13: RuntimeWarning: All-NaN axis encountered\n",
      "  np.nanmax([stack[idx:idx + twin], _data[iseg+1, :]], axis = 0)\n",
      "WARNING:root:No stream returned. Skipping.\n"
     ]
    },
    {
     "name": "stdout",
     "output_type": "stream",
     "text": [
      "['7D', 'G27B']\n",
      "[##########                              ] | 26% Completed | 7hr 3mAll prediction shape: (2, 5, 1439, 6000)\n",
      "[##########                              ] | 26% Completed | 7hr 3m85 P picks\n",
      "37 S picks\n",
      "['7D', 'G27B']\n",
      "[##########                              ] | 26% Completed | 7hr 3m"
     ]
    },
    {
     "name": "stderr",
     "output_type": "stream",
     "text": [
      "/tmp/ipykernel_4065716/2319557713.py:13: RuntimeWarning: All-NaN axis encountered\n",
      "  np.nanmax([stack[idx:idx + twin], _data[iseg+1, :]], axis = 0)\n"
     ]
    },
    {
     "name": "stdout",
     "output_type": "stream",
     "text": [
      "[##########                              ] | 26% Completed | 7hr 3mAll prediction shape: (2, 5, 1439, 6000)\n",
      "[##########                              ] | 26% Completed | 7hr 4m86 P picks\n",
      "56 S picks\n",
      "['7D', 'J25B']\n",
      "[##########                              ] | 26% Completed | 7hr 4m"
     ]
    },
    {
     "name": "stderr",
     "output_type": "stream",
     "text": [
      "/tmp/ipykernel_4065716/2319557713.py:13: RuntimeWarning: All-NaN axis encountered\n",
      "  np.nanmax([stack[idx:idx + twin], _data[iseg+1, :]], axis = 0)\n"
     ]
    },
    {
     "name": "stdout",
     "output_type": "stream",
     "text": [
      "[##########                              ] | 26% Completed | 7hr 5mAll prediction shape: (2, 5, 3599, 6000)\n",
      "[##########                              ] | 26% Completed | 7hr 9m464 P picks\n",
      "464 S picks\n"
     ]
    },
    {
     "name": "stderr",
     "output_type": "stream",
     "text": [
      "/tmp/ipykernel_4065716/2319557713.py:13: RuntimeWarning: All-NaN axis encountered\n",
      "  np.nanmax([stack[idx:idx + twin], _data[iseg+1, :]], axis = 0)\n"
     ]
    },
    {
     "name": "stdout",
     "output_type": "stream",
     "text": [
      "['7D', 'M12B']\n",
      "[##########                              ] | 26% Completed | 7hr 9mAll prediction shape: (2, 5, 1439, 6000)\n",
      "[##########                              ] | 26% Completed | 7hr 10m184 P picks\n",
      "58 S picks\n"
     ]
    },
    {
     "name": "stderr",
     "output_type": "stream",
     "text": [
      "/tmp/ipykernel_4065716/2319557713.py:13: RuntimeWarning: All-NaN axis encountered\n",
      "  np.nanmax([stack[idx:idx + twin], _data[iseg+1, :]], axis = 0)\n",
      "WARNING:root:No stream returned. Skipping.\n"
     ]
    },
    {
     "name": "stdout",
     "output_type": "stream",
     "text": [
      "['BK', 'JCC']\n",
      "['NC', 'KRMB']\n",
      "[##########                              ] | 26% Completed | 7hr 10m"
     ]
    },
    {
     "name": "stderr",
     "output_type": "stream",
     "text": [
      "WARNING:root:No stream returned. Skipping.\n",
      "WARNING:root:No stream returned. Skipping.\n"
     ]
    },
    {
     "name": "stdout",
     "output_type": "stream",
     "text": [
      "['NC', 'KEB']\n",
      "['7D', 'FS13B']\n",
      "[##########                              ] | 27% Completed | 7hr 10mAll prediction shape: (2, 5, 3599, 6000)\n",
      "[##########                              ] | 27% Completed | 7hr 14m429 P picks\n",
      "347 S picks\n",
      "[##########                              ] | 27% Completed | 7hr 14m"
     ]
    },
    {
     "name": "stderr",
     "output_type": "stream",
     "text": [
      "/tmp/ipykernel_4065716/2319557713.py:13: RuntimeWarning: All-NaN axis encountered\n",
      "  np.nanmax([stack[idx:idx + twin], _data[iseg+1, :]], axis = 0)\n"
     ]
    },
    {
     "name": "stdout",
     "output_type": "stream",
     "text": [
      "['7D', 'M14B']\n",
      "[##########                              ] | 27% Completed | 7hr 14mAll prediction shape: (2, 5, 1438, 6000)\n",
      "[##########                              ] | 27% Completed | 7hr 15m237 P picks\n",
      "105 S picks\n",
      "['7D', 'G17B']\n",
      "[##########                              ] | 27% Completed | 7hr 15m"
     ]
    },
    {
     "name": "stderr",
     "output_type": "stream",
     "text": [
      "/tmp/ipykernel_4065716/2319557713.py:13: RuntimeWarning: All-NaN axis encountered\n",
      "  np.nanmax([stack[idx:idx + twin], _data[iseg+1, :]], axis = 0)\n"
     ]
    },
    {
     "name": "stdout",
     "output_type": "stream",
     "text": [
      "[##########                              ] | 27% Completed | 7hr 15mAll prediction shape: (2, 5, 3599, 6000)\n",
      "[##########                              ] | 27% Completed | 7hr 20m574 P picks\n",
      "588 S picks\n",
      "[##########                              ] | 27% Completed | 7hr 20m"
     ]
    },
    {
     "name": "stderr",
     "output_type": "stream",
     "text": [
      "/tmp/ipykernel_4065716/2319557713.py:13: RuntimeWarning: All-NaN axis encountered\n",
      "  np.nanmax([stack[idx:idx + twin], _data[iseg+1, :]], axis = 0)\n"
     ]
    },
    {
     "name": "stdout",
     "output_type": "stream",
     "text": [
      "['7D', 'M12B']\n",
      "[##########                              ] | 27% Completed | 7hr 20mAll prediction shape: (2, 5, 1439, 6000)\n",
      "[##########                              ] | 27% Completed | 7hr 21m165 P picks\n",
      "62 S picks\n",
      "['7D', 'G19B']\n",
      "[###########                             ] | 27% Completed | 7hr 21m"
     ]
    },
    {
     "name": "stderr",
     "output_type": "stream",
     "text": [
      "/tmp/ipykernel_4065716/2319557713.py:13: RuntimeWarning: All-NaN axis encountered\n",
      "  np.nanmax([stack[idx:idx + twin], _data[iseg+1, :]], axis = 0)\n"
     ]
    },
    {
     "name": "stdout",
     "output_type": "stream",
     "text": [
      "[###########                             ] | 27% Completed | 7hr 21mAll prediction shape: (2, 5, 1439, 6000)\n",
      "[###########                             ] | 27% Completed | 7hr 22m76 P picks\n",
      "30 S picks\n",
      "['7D', 'FS13B']\n",
      "[###########                             ] | 27% Completed | 7hr 22m"
     ]
    },
    {
     "name": "stderr",
     "output_type": "stream",
     "text": [
      "/tmp/ipykernel_4065716/2319557713.py:13: RuntimeWarning: All-NaN axis encountered\n",
      "  np.nanmax([stack[idx:idx + twin], _data[iseg+1, :]], axis = 0)\n"
     ]
    },
    {
     "name": "stdout",
     "output_type": "stream",
     "text": [
      "[###########                             ] | 27% Completed | 7hr 22mAll prediction shape: (2, 5, 3599, 6000)\n",
      "[###########                             ] | 27% Completed | 7hr 26m229 P picks\n",
      "170 S picks\n",
      "['7D', 'G26B']\n",
      "[###########                             ] | 27% Completed | 7hr 26m"
     ]
    },
    {
     "name": "stderr",
     "output_type": "stream",
     "text": [
      "/tmp/ipykernel_4065716/2319557713.py:13: RuntimeWarning: All-NaN axis encountered\n",
      "  np.nanmax([stack[idx:idx + twin], _data[iseg+1, :]], axis = 0)\n"
     ]
    },
    {
     "name": "stdout",
     "output_type": "stream",
     "text": [
      "[###########                             ] | 27% Completed | 7hr 26mAll prediction shape: (2, 5, 3599, 6000)\n",
      "[###########                             ] | 27% Completed | 7hr 30m53 P picks\n",
      "36 S picks\n"
     ]
    },
    {
     "name": "stderr",
     "output_type": "stream",
     "text": [
      "/tmp/ipykernel_4065716/2319557713.py:13: RuntimeWarning: All-NaN axis encountered\n",
      "  np.nanmax([stack[idx:idx + twin], _data[iseg+1, :]], axis = 0)\n"
     ]
    },
    {
     "name": "stdout",
     "output_type": "stream",
     "text": [
      "['7D', 'FS17B']\n",
      "[###########                             ] | 27% Completed | 7hr 31mAll prediction shape: (2, 5, 3599, 6000)\n",
      "[###########                             ] | 27% Completed | 7hr 35m487 P picks\n",
      "179 S picks\n"
     ]
    },
    {
     "name": "stderr",
     "output_type": "stream",
     "text": [
      "/tmp/ipykernel_4065716/2319557713.py:13: RuntimeWarning: All-NaN axis encountered\n",
      "  np.nanmax([stack[idx:idx + twin], _data[iseg+1, :]], axis = 0)\n"
     ]
    },
    {
     "name": "stdout",
     "output_type": "stream",
     "text": [
      "['7D', 'M09B']\n",
      "[###########                             ] | 28% Completed | 7hr 35mAll prediction shape: (2, 5, 3599, 6000)\n",
      "[###########                             ] | 28% Completed | 7hr 39m424 P picks\n",
      "493 S picks\n"
     ]
    },
    {
     "name": "stderr",
     "output_type": "stream",
     "text": [
      "/tmp/ipykernel_4065716/2319557713.py:13: RuntimeWarning: All-NaN axis encountered\n",
      "  np.nanmax([stack[idx:idx + twin], _data[iseg+1, :]], axis = 0)\n"
     ]
    },
    {
     "name": "stdout",
     "output_type": "stream",
     "text": [
      "['7D', 'FS17B']\n",
      "[###########                             ] | 28% Completed | 7hr 40mAll prediction shape: (2, 5, 3599, 6000)\n",
      "[###########                             ] | 28% Completed | 7hr 44m643 P picks\n",
      "617 S picks\n",
      "[###########                             ] | 28% Completed | 7hr 44m"
     ]
    },
    {
     "name": "stderr",
     "output_type": "stream",
     "text": [
      "/tmp/ipykernel_4065716/2319557713.py:13: RuntimeWarning: All-NaN axis encountered\n",
      "  np.nanmax([stack[idx:idx + twin], _data[iseg+1, :]], axis = 0)\n"
     ]
    },
    {
     "name": "stdout",
     "output_type": "stream",
     "text": [
      "['7D', 'M12B']\n",
      "[###########                             ] | 28% Completed | 7hr 44mAll prediction shape: (2, 5, 1439, 6000)\n",
      "[###########                             ] | 28% Completed | 7hr 45m205 P picks\n",
      "46 S picks\n",
      "['7D', 'G19B']\n",
      "[###########                             ] | 28% Completed | 7hr 45m"
     ]
    },
    {
     "name": "stderr",
     "output_type": "stream",
     "text": [
      "/tmp/ipykernel_4065716/2319557713.py:13: RuntimeWarning: All-NaN axis encountered\n",
      "  np.nanmax([stack[idx:idx + twin], _data[iseg+1, :]], axis = 0)\n"
     ]
    },
    {
     "name": "stdout",
     "output_type": "stream",
     "text": [
      "[###########                             ] | 28% Completed | 7hr 45mAll prediction shape: (2, 5, 1439, 6000)\n",
      "[###########                             ] | 28% Completed | 7hr 46m65 P picks\n",
      "23 S picks\n",
      "['NC', 'KRMB']\n",
      "[###########                             ] | 28% Completed | 7hr 46m"
     ]
    },
    {
     "name": "stderr",
     "output_type": "stream",
     "text": [
      "/tmp/ipykernel_4065716/2319557713.py:13: RuntimeWarning: All-NaN axis encountered\n",
      "  np.nanmax([stack[idx:idx + twin], _data[iseg+1, :]], axis = 0)\n",
      "WARNING:root:No stream returned. Skipping.\n"
     ]
    },
    {
     "name": "stdout",
     "output_type": "stream",
     "text": [
      "['7D', 'G17B']\n",
      "[###########                             ] | 28% Completed | 7hr 46mAll prediction shape: (2, 5, 3599, 6000)\n",
      "[###########                             ] | 28% Completed | 7hr 50m549 P picks\n",
      "443 S picks\n",
      "[###########                             ] | 28% Completed | 7hr 50m"
     ]
    },
    {
     "name": "stderr",
     "output_type": "stream",
     "text": [
      "/tmp/ipykernel_4065716/2319557713.py:13: RuntimeWarning: All-NaN axis encountered\n",
      "  np.nanmax([stack[idx:idx + twin], _data[iseg+1, :]], axis = 0)\n"
     ]
    },
    {
     "name": "stdout",
     "output_type": "stream",
     "text": [
      "['UW', 'BABR']\n",
      "[###########                             ] | 28% Completed | 7hr 50mAll prediction shape: (2, 5, 1151, 6000)\n",
      "[###########                             ] | 28% Completed | 7hr 51m8 P picks\n",
      "2 S picks\n",
      "['7D', 'FS09B']\n",
      "[###########                             ] | 28% Completed | 7hr 51m"
     ]
    },
    {
     "name": "stderr",
     "output_type": "stream",
     "text": [
      "/tmp/ipykernel_4065716/2319557713.py:13: RuntimeWarning: All-NaN axis encountered\n",
      "  np.nanmax([stack[idx:idx + twin], _data[iseg+1, :]], axis = 0)\n"
     ]
    },
    {
     "name": "stdout",
     "output_type": "stream",
     "text": [
      "[###########                             ] | 28% Completed | 7hr 51mAll prediction shape: (2, 5, 1439, 6000)\n",
      "[###########                             ] | 28% Completed | 7hr 52m103 P picks\n",
      "94 S picks\n",
      "['7D', 'M09B']\n",
      "[###########                             ] | 28% Completed | 7hr 52m"
     ]
    },
    {
     "name": "stderr",
     "output_type": "stream",
     "text": [
      "/tmp/ipykernel_4065716/2319557713.py:13: RuntimeWarning: All-NaN axis encountered\n",
      "  np.nanmax([stack[idx:idx + twin], _data[iseg+1, :]], axis = 0)\n"
     ]
    },
    {
     "name": "stdout",
     "output_type": "stream",
     "text": [
      "[###########                             ] | 28% Completed | 7hr 52mAll prediction shape: (2, 5, 3599, 6000)\n",
      "[###########                             ] | 28% Completed | 7hr 56m428 P picks\n",
      "497 S picks\n"
     ]
    },
    {
     "name": "stderr",
     "output_type": "stream",
     "text": [
      "/tmp/ipykernel_4065716/2319557713.py:13: RuntimeWarning: All-NaN axis encountered\n",
      "  np.nanmax([stack[idx:idx + twin], _data[iseg+1, :]], axis = 0)\n"
     ]
    },
    {
     "name": "stdout",
     "output_type": "stream",
     "text": [
      "['7D', 'FS13B']\n",
      "[###########                             ] | 29% Completed | 7hr 57mAll prediction shape: (2, 5, 3599, 6000)\n",
      "[###########                             ] | 29% Completed | 8hr 1mm490 P picks\n",
      "295 S picks\n"
     ]
    },
    {
     "name": "stderr",
     "output_type": "stream",
     "text": [
      "/tmp/ipykernel_4065716/2319557713.py:13: RuntimeWarning: All-NaN axis encountered\n",
      "  np.nanmax([stack[idx:idx + twin], _data[iseg+1, :]], axis = 0)\n"
     ]
    },
    {
     "name": "stdout",
     "output_type": "stream",
     "text": [
      "['7D', 'FS17B']\n",
      "[###########                             ] | 29% Completed | 8hr 1mAll prediction shape: (2, 5, 3599, 6000)\n",
      "[###########                             ] | 29% Completed | 8hr 5m500 P picks\n",
      "213 S picks\n"
     ]
    },
    {
     "name": "stderr",
     "output_type": "stream",
     "text": [
      "/tmp/ipykernel_4065716/2319557713.py:13: RuntimeWarning: All-NaN axis encountered\n",
      "  np.nanmax([stack[idx:idx + twin], _data[iseg+1, :]], axis = 0)\n"
     ]
    },
    {
     "name": "stdout",
     "output_type": "stream",
     "text": [
      "['7D', 'M12B']\n",
      "[###########                             ] | 29% Completed | 8hr 5mAll prediction shape: (2, 5, 1439, 6000)\n",
      "[###########                             ] | 29% Completed | 8hr 6m188 P picks\n",
      "39 S picks\n",
      "['7D', 'FS17B']\n",
      "[###########                             ] | 29% Completed | 8hr 6m"
     ]
    },
    {
     "name": "stderr",
     "output_type": "stream",
     "text": [
      "/tmp/ipykernel_4065716/2319557713.py:13: RuntimeWarning: All-NaN axis encountered\n",
      "  np.nanmax([stack[idx:idx + twin], _data[iseg+1, :]], axis = 0)\n"
     ]
    },
    {
     "name": "stdout",
     "output_type": "stream",
     "text": [
      "[###########                             ] | 29% Completed | 8hr 6mAll prediction shape: (2, 5, 3599, 6000)\n",
      "[###########                             ] | 29% Completed | 8hr 11m423 P picks\n",
      "111 S picks\n"
     ]
    },
    {
     "name": "stderr",
     "output_type": "stream",
     "text": [
      "/tmp/ipykernel_4065716/2319557713.py:13: RuntimeWarning: All-NaN axis encountered\n",
      "  np.nanmax([stack[idx:idx + twin], _data[iseg+1, :]], axis = 0)\n"
     ]
    },
    {
     "name": "stdout",
     "output_type": "stream",
     "text": [
      "['7D', 'FS17B']\n",
      "[###########                             ] | 29% Completed | 8hr 11mAll prediction shape: (2, 5, 3598, 6000)\n",
      "[###########                             ] | 29% Completed | 8hr 15m557 P picks\n",
      "470 S picks\n"
     ]
    },
    {
     "name": "stderr",
     "output_type": "stream",
     "text": [
      "/tmp/ipykernel_4065716/2319557713.py:13: RuntimeWarning: All-NaN axis encountered\n",
      "  np.nanmax([stack[idx:idx + twin], _data[iseg+1, :]], axis = 0)\n"
     ]
    },
    {
     "name": "stdout",
     "output_type": "stream",
     "text": [
      "['NC', 'KEB']\n",
      "[###########                             ] | 29% Completed | 8hr 15m"
     ]
    },
    {
     "name": "stderr",
     "output_type": "stream",
     "text": [
      "WARNING:root:No stream returned. Skipping.\n"
     ]
    },
    {
     "name": "stdout",
     "output_type": "stream",
     "text": [
      "['7D', 'G27B']\n",
      "[###########                             ] | 29% Completed | 8hr 15mAll prediction shape: (2, 5, 1439, 6000)\n",
      "[###########                             ] | 29% Completed | 8hr 16m64 P picks\n",
      "35 S picks\n"
     ]
    },
    {
     "name": "stderr",
     "output_type": "stream",
     "text": [
      "/tmp/ipykernel_4065716/2319557713.py:13: RuntimeWarning: All-NaN axis encountered\n",
      "  np.nanmax([stack[idx:idx + twin], _data[iseg+1, :]], axis = 0)\n",
      "WARNING:root:No stream returned. Skipping.\n"
     ]
    },
    {
     "name": "stdout",
     "output_type": "stream",
     "text": [
      "['NC', 'KRMB']\n",
      "['7D', 'FS09B']\n",
      "[###########                             ] | 29% Completed | 8hr 16mAll prediction shape: (2, 5, 1439, 6000)\n",
      "[###########                             ] | 29% Completed | 8hr 17m183 P picks\n",
      "156 S picks\n",
      "['7D', 'G25B']\n",
      "[############                            ] | 30% Completed | 8hr 17m"
     ]
    },
    {
     "name": "stderr",
     "output_type": "stream",
     "text": [
      "/tmp/ipykernel_4065716/2319557713.py:13: RuntimeWarning: All-NaN axis encountered\n",
      "  np.nanmax([stack[idx:idx + twin], _data[iseg+1, :]], axis = 0)\n"
     ]
    },
    {
     "name": "stdout",
     "output_type": "stream",
     "text": [
      "[############                            ] | 30% Completed | 8hr 17mAll prediction shape: (2, 5, 3599, 6000)\n",
      "[############                            ] | 30% Completed | 8hr 22m441 P picks\n",
      "206 S picks\n"
     ]
    },
    {
     "name": "stderr",
     "output_type": "stream",
     "text": [
      "/tmp/ipykernel_4065716/2319557713.py:13: RuntimeWarning: All-NaN axis encountered\n",
      "  np.nanmax([stack[idx:idx + twin], _data[iseg+1, :]], axis = 0)\n"
     ]
    },
    {
     "name": "stdout",
     "output_type": "stream",
     "text": [
      "['7D', 'FS09B']\n",
      "[############                            ] | 30% Completed | 8hr 22mAll prediction shape: (2, 5, 1439, 6000)\n",
      "[############                            ] | 30% Completed | 8hr 23m139 P picks\n",
      "86 S picks\n"
     ]
    },
    {
     "name": "stderr",
     "output_type": "stream",
     "text": [
      "/tmp/ipykernel_4065716/2319557713.py:13: RuntimeWarning: All-NaN axis encountered\n",
      "  np.nanmax([stack[idx:idx + twin], _data[iseg+1, :]], axis = 0)\n",
      "WARNING:root:No stream returned. Skipping.\n"
     ]
    },
    {
     "name": "stdout",
     "output_type": "stream",
     "text": [
      "['BK', 'JCC']\n",
      "['NC', 'KOM']\n",
      "[############                            ] | 30% Completed | 8hr 23m"
     ]
    },
    {
     "name": "stderr",
     "output_type": "stream",
     "text": [
      "WARNING:root:No stream returned. Skipping.\n"
     ]
    },
    {
     "name": "stdout",
     "output_type": "stream",
     "text": [
      "['7D', 'G10B']\n",
      "[############                            ] | 30% Completed | 8hr 23mAll prediction shape: (2, 5, 1439, 6000)\n",
      "[############                            ] | 30% Completed | 8hr 24m54 P picks\n",
      "20 S picks\n"
     ]
    },
    {
     "name": "stderr",
     "output_type": "stream",
     "text": [
      "/tmp/ipykernel_4065716/2319557713.py:13: RuntimeWarning: All-NaN axis encountered\n",
      "  np.nanmax([stack[idx:idx + twin], _data[iseg+1, :]], axis = 0)\n",
      "WARNING:root:No stream returned. Skipping.\n"
     ]
    },
    {
     "name": "stdout",
     "output_type": "stream",
     "text": [
      "['NC', 'KEB']\n",
      "['7D', 'J09B']\n",
      "[############                            ] | 30% Completed | 8hr 24mAll prediction shape: (2, 5, 1438, 6000)\n",
      "[############                            ] | 30% Completed | 8hr 24m73 P picks\n",
      "22 S picks\n",
      "['NC', 'KBO']\n",
      "[############                            ] | 30% Completed | 8hr 24m"
     ]
    },
    {
     "name": "stderr",
     "output_type": "stream",
     "text": [
      "/tmp/ipykernel_4065716/2319557713.py:13: RuntimeWarning: All-NaN axis encountered\n",
      "  np.nanmax([stack[idx:idx + twin], _data[iseg+1, :]], axis = 0)\n",
      "WARNING:root:No stream returned. Skipping.\n"
     ]
    },
    {
     "name": "stdout",
     "output_type": "stream",
     "text": [
      "['7D', 'FS16B']\n",
      "[############                            ] | 30% Completed | 8hr 25mAll prediction shape: (2, 5, 3599, 6000)\n",
      "[############                            ] | 30% Completed | 8hr 29m424 P picks\n",
      "356 S picks\n",
      "[############                            ] | 30% Completed | 8hr 29m"
     ]
    },
    {
     "name": "stderr",
     "output_type": "stream",
     "text": [
      "/tmp/ipykernel_4065716/2319557713.py:13: RuntimeWarning: All-NaN axis encountered\n",
      "  np.nanmax([stack[idx:idx + twin], _data[iseg+1, :]], axis = 0)\n",
      "WARNING:root:No stream returned. Skipping.\n"
     ]
    },
    {
     "name": "stdout",
     "output_type": "stream",
     "text": [
      "['NC', 'KSXB']\n",
      "['TA', 'I02D']\n",
      "[############                            ] | 31% Completed | 8hr 29mAll prediction shape: (2, 5, 1151, 6000)\n",
      "[############                            ] | 31% Completed | 8hr 30m29 P picks\n",
      "25 S picks\n",
      "['7D', 'G27B']\n",
      "[############                            ] | 31% Completed | 8hr 30m"
     ]
    },
    {
     "name": "stderr",
     "output_type": "stream",
     "text": [
      "/tmp/ipykernel_4065716/2319557713.py:13: RuntimeWarning: All-NaN axis encountered\n",
      "  np.nanmax([stack[idx:idx + twin], _data[iseg+1, :]], axis = 0)\n"
     ]
    },
    {
     "name": "stdout",
     "output_type": "stream",
     "text": [
      "[############                            ] | 31% Completed | 8hr 30mAll prediction shape: (2, 5, 1439, 6000)\n",
      "[############                            ] | 31% Completed | 8hr 31m115 P picks\n",
      "56 S picks\n",
      "['7D', 'G19B']\n",
      "[############                            ] | 31% Completed | 8hr 31m"
     ]
    },
    {
     "name": "stderr",
     "output_type": "stream",
     "text": [
      "/tmp/ipykernel_4065716/2319557713.py:13: RuntimeWarning: All-NaN axis encountered\n",
      "  np.nanmax([stack[idx:idx + twin], _data[iseg+1, :]], axis = 0)\n"
     ]
    },
    {
     "name": "stdout",
     "output_type": "stream",
     "text": [
      "[############                            ] | 31% Completed | 8hr 31mAll prediction shape: (2, 5, 1439, 6000)\n",
      "[############                            ] | 31% Completed | 8hr 31m76 P picks\n",
      "30 S picks\n",
      "['7D', 'M14B']\n",
      "[############                            ] | 31% Completed | 8hr 32m"
     ]
    },
    {
     "name": "stderr",
     "output_type": "stream",
     "text": [
      "/tmp/ipykernel_4065716/2319557713.py:13: RuntimeWarning: All-NaN axis encountered\n",
      "  np.nanmax([stack[idx:idx + twin], _data[iseg+1, :]], axis = 0)\n"
     ]
    },
    {
     "name": "stdout",
     "output_type": "stream",
     "text": [
      "[############                            ] | 31% Completed | 8hr 32mAll prediction shape: (2, 5, 1439, 6000)\n",
      "[############                            ] | 31% Completed | 8hr 32m142 P picks\n",
      "54 S picks\n",
      "['TA', 'I02D']\n",
      "[############                            ] | 31% Completed | 8hr 32m"
     ]
    },
    {
     "name": "stderr",
     "output_type": "stream",
     "text": [
      "/tmp/ipykernel_4065716/2319557713.py:13: RuntimeWarning: All-NaN axis encountered\n",
      "  np.nanmax([stack[idx:idx + twin], _data[iseg+1, :]], axis = 0)\n"
     ]
    },
    {
     "name": "stdout",
     "output_type": "stream",
     "text": [
      "[############                            ] | 31% Completed | 8hr 33mAll prediction shape: (2, 5, 1151, 6000)\n",
      "[############                            ] | 31% Completed | 8hr 33m21 P picks\n",
      "12 S picks\n",
      "['7D', 'FS17B']\n",
      "[############                            ] | 31% Completed | 8hr 33m"
     ]
    },
    {
     "name": "stderr",
     "output_type": "stream",
     "text": [
      "/tmp/ipykernel_4065716/2319557713.py:13: RuntimeWarning: All-NaN axis encountered\n",
      "  np.nanmax([stack[idx:idx + twin], _data[iseg+1, :]], axis = 0)\n"
     ]
    },
    {
     "name": "stdout",
     "output_type": "stream",
     "text": [
      "[############                            ] | 31% Completed | 8hr 33mAll prediction shape: (2, 5, 3598, 6000)\n",
      "[############                            ] | 31% Completed | 8hr 38m487 P picks\n",
      "139 S picks\n"
     ]
    },
    {
     "name": "stderr",
     "output_type": "stream",
     "text": [
      "/tmp/ipykernel_4065716/2319557713.py:13: RuntimeWarning: All-NaN axis encountered\n",
      "  np.nanmax([stack[idx:idx + twin], _data[iseg+1, :]], axis = 0)\n",
      "WARNING:root:No stream returned. Skipping.\n"
     ]
    },
    {
     "name": "stdout",
     "output_type": "stream",
     "text": [
      "['NC', 'KBO']\n",
      "['7D', 'G17B']\n",
      "[############                            ] | 31% Completed | 8hr 38mAll prediction shape: (2, 5, 3599, 6000)\n",
      "[############                            ] | 31% Completed | 8hr 42m545 P picks\n",
      "575 S picks\n"
     ]
    },
    {
     "name": "stderr",
     "output_type": "stream",
     "text": [
      "/tmp/ipykernel_4065716/2319557713.py:13: RuntimeWarning: All-NaN axis encountered\n",
      "  np.nanmax([stack[idx:idx + twin], _data[iseg+1, :]], axis = 0)\n"
     ]
    },
    {
     "name": "stdout",
     "output_type": "stream",
     "text": [
      "['7D', 'J09B']\n",
      "[############                            ] | 32% Completed | 8hr 42mAll prediction shape: (2, 5, 1439, 6000)\n",
      "[############                            ] | 32% Completed | 8hr 43m111 P picks\n",
      "33 S picks\n",
      "['NC', 'KHBB']\n",
      "[############                            ] | 32% Completed | 8hr 43m"
     ]
    },
    {
     "name": "stderr",
     "output_type": "stream",
     "text": [
      "/tmp/ipykernel_4065716/2319557713.py:13: RuntimeWarning: All-NaN axis encountered\n",
      "  np.nanmax([stack[idx:idx + twin], _data[iseg+1, :]], axis = 0)\n",
      "WARNING:root:No stream returned. Skipping.\n"
     ]
    },
    {
     "name": "stdout",
     "output_type": "stream",
     "text": [
      "['7D', 'M14B']\n",
      "[############                            ] | 32% Completed | 8hr 43mAll prediction shape: (2, 5, 1438, 6000)\n",
      "[############                            ] | 32% Completed | 8hr 44m200 P picks\n",
      "59 S picks\n",
      "['NC', 'KHMB']\n",
      "[############                            ] | 32% Completed | 8hr 44m"
     ]
    },
    {
     "name": "stderr",
     "output_type": "stream",
     "text": [
      "/tmp/ipykernel_4065716/2319557713.py:13: RuntimeWarning: All-NaN axis encountered\n",
      "  np.nanmax([stack[idx:idx + twin], _data[iseg+1, :]], axis = 0)\n",
      "WARNING:root:No stream returned. Skipping.\n"
     ]
    },
    {
     "name": "stdout",
     "output_type": "stream",
     "text": [
      "['7D', 'J25B']\n",
      "[############                            ] | 32% Completed | 8hr 44mAll prediction shape: (2, 5, 3599, 6000)\n",
      "[############                            ] | 32% Completed | 8hr 48m421 P picks\n",
      "625 S picks\n",
      "[############                            ] | 32% Completed | 8hr 48m"
     ]
    },
    {
     "name": "stderr",
     "output_type": "stream",
     "text": [
      "/tmp/ipykernel_4065716/2319557713.py:13: RuntimeWarning: All-NaN axis encountered\n",
      "  np.nanmax([stack[idx:idx + twin], _data[iseg+1, :]], axis = 0)\n"
     ]
    },
    {
     "name": "stdout",
     "output_type": "stream",
     "text": [
      "['7D', 'G26B']\n",
      "[#############                           ] | 32% Completed | 8hr 49mAll prediction shape: (2, 5, 3598, 6000)\n",
      "[#############                           ] | 32% Completed | 8hr 53m36 P picks\n",
      "31 S picks\n"
     ]
    },
    {
     "name": "stderr",
     "output_type": "stream",
     "text": [
      "/tmp/ipykernel_4065716/2319557713.py:13: RuntimeWarning: All-NaN axis encountered\n",
      "  np.nanmax([stack[idx:idx + twin], _data[iseg+1, :]], axis = 0)\n",
      "WARNING:root:No stream returned. Skipping.\n"
     ]
    },
    {
     "name": "stdout",
     "output_type": "stream",
     "text": [
      "['NC', 'KHMB']\n",
      "['7D', 'G17B']\n",
      "[#############                           ] | 32% Completed | 8hr 53mAll prediction shape: (2, 5, 3598, 6000)\n",
      "[#############                           ] | 32% Completed | 8hr 57m"
     ]
    },
    {
     "name": "stderr",
     "output_type": "stream",
     "text": [
      "/tmp/ipykernel_4065716/2319557713.py:13: RuntimeWarning: All-NaN axis encountered\n",
      "  np.nanmax([stack[idx:idx + twin], _data[iseg+1, :]], axis = 0)\n"
     ]
    },
    {
     "name": "stdout",
     "output_type": "stream",
     "text": [
      "449 P picks\n",
      "501 S picks\n",
      "['7D', 'G26B']\n",
      "[#############                           ] | 32% Completed | 8hr 58mAll prediction shape: (2, 5, 3598, 6000)\n",
      "[#############                           ] | 32% Completed | 9hr 2mm147 P picks\n",
      "130 S picks\n"
     ]
    },
    {
     "name": "stderr",
     "output_type": "stream",
     "text": [
      "/tmp/ipykernel_4065716/2319557713.py:13: RuntimeWarning: All-NaN axis encountered\n",
      "  np.nanmax([stack[idx:idx + twin], _data[iseg+1, :]], axis = 0)\n"
     ]
    },
    {
     "name": "stdout",
     "output_type": "stream",
     "text": [
      "['7D', 'M09B']\n",
      "[#############                           ] | 33% Completed | 9hr 2mAll prediction shape: (2, 5, 3599, 6000)\n",
      "[#############                           ] | 33% Completed | 9hr 6m"
     ]
    },
    {
     "name": "stderr",
     "output_type": "stream",
     "text": [
      "/tmp/ipykernel_4065716/2319557713.py:13: RuntimeWarning: All-NaN axis encountered\n",
      "  np.nanmax([stack[idx:idx + twin], _data[iseg+1, :]], axis = 0)\n"
     ]
    },
    {
     "name": "stdout",
     "output_type": "stream",
     "text": [
      "479 P picks\n",
      "506 S picks\n",
      "[#############                           ] | 33% Completed | 9hr 6m"
     ]
    },
    {
     "name": "stderr",
     "output_type": "stream",
     "text": [
      "WARNING:root:No stream returned. Skipping.\n"
     ]
    },
    {
     "name": "stdout",
     "output_type": "stream",
     "text": [
      "['NC', 'KBO']\n",
      "['7D', 'J09B']\n",
      "[#############                           ] | 33% Completed | 9hr 6mAll prediction shape: (2, 5, 1438, 6000)\n",
      "[#############                           ] | 33% Completed | 9hr 7m96 P picks\n",
      "14 S picks\n",
      "['7D', 'M12B']\n",
      "[#############                           ] | 33% Completed | 9hr 7m"
     ]
    },
    {
     "name": "stderr",
     "output_type": "stream",
     "text": [
      "/tmp/ipykernel_4065716/2319557713.py:13: RuntimeWarning: All-NaN axis encountered\n",
      "  np.nanmax([stack[idx:idx + twin], _data[iseg+1, :]], axis = 0)\n"
     ]
    },
    {
     "name": "stdout",
     "output_type": "stream",
     "text": [
      "[#############                           ] | 33% Completed | 9hr 7mAll prediction shape: (2, 5, 1439, 6000)\n",
      "[#############                           ] | 33% Completed | 9hr 8m179 P picks\n",
      "49 S picks\n",
      "['TA', 'J01E']\n",
      "[#############                           ] | 33% Completed | 9hr 8m"
     ]
    },
    {
     "name": "stderr",
     "output_type": "stream",
     "text": [
      "/tmp/ipykernel_4065716/2319557713.py:13: RuntimeWarning: All-NaN axis encountered\n",
      "  np.nanmax([stack[idx:idx + twin], _data[iseg+1, :]], axis = 0)\n"
     ]
    },
    {
     "name": "stdout",
     "output_type": "stream",
     "text": [
      "[#############                           ] | 33% Completed | 9hr 8mAll prediction shape: (2, 5, 1151, 6000)\n",
      "[#############                           ] | 33% Completed | 9hr 9m15 P picks\n",
      "18 S picks\n",
      "['7D', 'FS20B']\n",
      "[#############                           ] | 33% Completed | 9hr 9m"
     ]
    },
    {
     "name": "stderr",
     "output_type": "stream",
     "text": [
      "/tmp/ipykernel_4065716/2319557713.py:13: RuntimeWarning: All-NaN axis encountered\n",
      "  np.nanmax([stack[idx:idx + twin], _data[iseg+1, :]], axis = 0)\n"
     ]
    },
    {
     "name": "stdout",
     "output_type": "stream",
     "text": [
      "[#############                           ] | 33% Completed | 9hr 9mAll prediction shape: (2, 5, 3599, 6000)\n",
      "[#############                           ] | 33% Completed | 9hr 13m200 P picks\n",
      "151 S picks\n"
     ]
    },
    {
     "name": "stderr",
     "output_type": "stream",
     "text": [
      "/tmp/ipykernel_4065716/2319557713.py:13: RuntimeWarning: All-NaN axis encountered\n",
      "  np.nanmax([stack[idx:idx + twin], _data[iseg+1, :]], axis = 0)\n"
     ]
    },
    {
     "name": "stdout",
     "output_type": "stream",
     "text": [
      "['NC', 'KRMB']\n",
      "[#############                           ] | 33% Completed | 9hr 13m"
     ]
    },
    {
     "name": "stderr",
     "output_type": "stream",
     "text": [
      "WARNING:root:No stream returned. Skipping.\n"
     ]
    },
    {
     "name": "stdout",
     "output_type": "stream",
     "text": [
      "['7D', 'J33B']\n",
      "[#############                           ] | 33% Completed | 9hr 14mAll prediction shape: (2, 5, 3599, 6000)\n",
      "[#############                           ] | 33% Completed | 9hr 18m265 P picks\n",
      "491 S picks\n"
     ]
    },
    {
     "name": "stderr",
     "output_type": "stream",
     "text": [
      "/tmp/ipykernel_4065716/2319557713.py:13: RuntimeWarning: All-NaN axis encountered\n",
      "  np.nanmax([stack[idx:idx + twin], _data[iseg+1, :]], axis = 0)\n"
     ]
    },
    {
     "name": "stdout",
     "output_type": "stream",
     "text": [
      "['UW', 'BABR']\n",
      "[#############                           ] | 33% Completed | 9hr 18mAll prediction shape: (2, 5, 1151, 6000)\n",
      "[#############                           ] | 33% Completed | 9hr 18m17 P picks\n",
      "4 S picks\n"
     ]
    },
    {
     "name": "stderr",
     "output_type": "stream",
     "text": [
      "/tmp/ipykernel_4065716/2319557713.py:13: RuntimeWarning: All-NaN axis encountered\n",
      "  np.nanmax([stack[idx:idx + twin], _data[iseg+1, :]], axis = 0)\n",
      "WARNING:root:No stream returned. Skipping.\n"
     ]
    },
    {
     "name": "stdout",
     "output_type": "stream",
     "text": [
      "['NC', 'KMPB']\n",
      "['7D', 'M09B']\n",
      "[#############                           ] | 34% Completed | 9hr 19mAll prediction shape: (2, 5, 3599, 6000)\n",
      "[#############                           ] | 34% Completed | 9hr 23m499 P picks\n",
      "573 S picks\n"
     ]
    },
    {
     "name": "stderr",
     "output_type": "stream",
     "text": [
      "/tmp/ipykernel_4065716/2319557713.py:13: RuntimeWarning: All-NaN axis encountered\n",
      "  np.nanmax([stack[idx:idx + twin], _data[iseg+1, :]], axis = 0)\n"
     ]
    },
    {
     "name": "stdout",
     "output_type": "stream",
     "text": [
      "['7D', 'M09B']\n",
      "[#############                           ] | 34% Completed | 9hr 23mAll prediction shape: (2, 5, 3599, 6000)\n",
      "[#############                           ] | 34% Completed | 9hr 28m435 P picks\n",
      "498 S picks\n",
      "[#############                           ] | 34% Completed | 9hr 28m"
     ]
    },
    {
     "name": "stderr",
     "output_type": "stream",
     "text": [
      "/tmp/ipykernel_4065716/2319557713.py:13: RuntimeWarning: All-NaN axis encountered\n",
      "  np.nanmax([stack[idx:idx + twin], _data[iseg+1, :]], axis = 0)\n"
     ]
    },
    {
     "name": "stdout",
     "output_type": "stream",
     "text": [
      "['7D', 'J25B']\n",
      "[#############                           ] | 34% Completed | 9hr 28mAll prediction shape: (2, 5, 3598, 6000)\n",
      "[#############                           ] | 34% Completed | 9hr 32m"
     ]
    },
    {
     "name": "stderr",
     "output_type": "stream",
     "text": [
      "/tmp/ipykernel_4065716/2319557713.py:13: RuntimeWarning: All-NaN axis encountered\n",
      "  np.nanmax([stack[idx:idx + twin], _data[iseg+1, :]], axis = 0)\n"
     ]
    },
    {
     "name": "stdout",
     "output_type": "stream",
     "text": [
      "544 P picks\n",
      "749 S picks\n",
      "['UW', 'BABR']\n",
      "[#############                           ] | 34% Completed | 9hr 32mAll prediction shape: (2, 5, 1151, 6000)\n",
      "[#############                           ] | 34% Completed | 9hr 33m19 P picks\n",
      "6 S picks\n",
      "['7D', 'FS16B']\n",
      "[#############                           ] | 34% Completed | 9hr 33m"
     ]
    },
    {
     "name": "stderr",
     "output_type": "stream",
     "text": [
      "/tmp/ipykernel_4065716/2319557713.py:13: RuntimeWarning: All-NaN axis encountered\n",
      "  np.nanmax([stack[idx:idx + twin], _data[iseg+1, :]], axis = 0)\n"
     ]
    },
    {
     "name": "stdout",
     "output_type": "stream",
     "text": [
      "[#############                           ] | 34% Completed | 9hr 33mAll prediction shape: (2, 5, 3598, 6000)\n",
      "[#############                           ] | 34% Completed | 9hr 37m376 P picks\n",
      "359 S picks\n"
     ]
    },
    {
     "name": "stderr",
     "output_type": "stream",
     "text": [
      "/tmp/ipykernel_4065716/2319557713.py:13: RuntimeWarning: All-NaN axis encountered\n",
      "  np.nanmax([stack[idx:idx + twin], _data[iseg+1, :]], axis = 0)\n",
      "WARNING:root:No stream returned. Skipping.\n"
     ]
    },
    {
     "name": "stdout",
     "output_type": "stream",
     "text": [
      "['NC', 'KMPB']\n"
     ]
    },
    {
     "name": "stderr",
     "output_type": "stream",
     "text": [
      "WARNING:root:No stream returned. Skipping.\n"
     ]
    },
    {
     "name": "stdout",
     "output_type": "stream",
     "text": [
      "['NC', 'KSXB']\n"
     ]
    },
    {
     "name": "stderr",
     "output_type": "stream",
     "text": [
      "WARNING:root:No stream returned. Skipping.\n"
     ]
    },
    {
     "name": "stdout",
     "output_type": "stream",
     "text": [
      "['NC', 'KBO']\n",
      "['7D', 'J09B']\n",
      "[##############                          ] | 35% Completed | 9hr 37mAll prediction shape: (2, 5, 1438, 6000)\n",
      "[##############                          ] | 35% Completed | 9hr 38m119 P picks\n",
      "27 S picks\n",
      "['7D', 'J09B']\n",
      "[##############                          ] | 35% Completed | 9hr 38m"
     ]
    },
    {
     "name": "stderr",
     "output_type": "stream",
     "text": [
      "/tmp/ipykernel_4065716/2319557713.py:13: RuntimeWarning: All-NaN axis encountered\n",
      "  np.nanmax([stack[idx:idx + twin], _data[iseg+1, :]], axis = 0)\n"
     ]
    },
    {
     "name": "stdout",
     "output_type": "stream",
     "text": [
      "[##############                          ] | 35% Completed | 9hr 38mAll prediction shape: (2, 5, 1439, 6000)\n",
      "[##############                          ] | 35% Completed | 9hr 39m110 P picks\n",
      "25 S picks\n",
      "['7D', 'G17B']\n",
      "[##############                          ] | 35% Completed | 9hr 39m"
     ]
    },
    {
     "name": "stderr",
     "output_type": "stream",
     "text": [
      "/tmp/ipykernel_4065716/2319557713.py:13: RuntimeWarning: All-NaN axis encountered\n",
      "  np.nanmax([stack[idx:idx + twin], _data[iseg+1, :]], axis = 0)\n"
     ]
    },
    {
     "name": "stdout",
     "output_type": "stream",
     "text": [
      "[##############                          ] | 35% Completed | 9hr 39mAll prediction shape: (2, 5, 3599, 6000)\n",
      "[##############                          ] | 35% Completed | 9hr 44m"
     ]
    },
    {
     "name": "stderr",
     "output_type": "stream",
     "text": [
      "/tmp/ipykernel_4065716/2319557713.py:13: RuntimeWarning: All-NaN axis encountered\n",
      "  np.nanmax([stack[idx:idx + twin], _data[iseg+1, :]], axis = 0)\n"
     ]
    },
    {
     "name": "stdout",
     "output_type": "stream",
     "text": [
      "697 P picks\n",
      "997 S picks\n",
      "['7D', 'FS16B']\n",
      "[##############                          ] | 35% Completed | 9hr 44mAll prediction shape: (2, 5, 3599, 6000)\n",
      "[##############                          ] | 35% Completed | 9hr 48m408 P picks\n",
      "443 S picks\n"
     ]
    },
    {
     "name": "stderr",
     "output_type": "stream",
     "text": [
      "/tmp/ipykernel_4065716/2319557713.py:13: RuntimeWarning: All-NaN axis encountered\n",
      "  np.nanmax([stack[idx:idx + twin], _data[iseg+1, :]], axis = 0)\n"
     ]
    },
    {
     "name": "stdout",
     "output_type": "stream",
     "text": [
      "['NC', 'KHBB']\n",
      "\r",
      "[##############                          ] | 35% Completed | 9hr 48m"
     ]
    },
    {
     "name": "stderr",
     "output_type": "stream",
     "text": [
      "WARNING:root:No stream returned. Skipping.\n",
      "WARNING:root:No stream returned. Skipping.\n"
     ]
    },
    {
     "name": "stdout",
     "output_type": "stream",
     "text": [
      "['BK', 'JCC']\n",
      "['UW', 'BABR']\n",
      "[##############                          ] | 35% Completed | 9hr 48mAll prediction shape: (2, 5, 1151, 6000)\n",
      "[##############                          ] | 35% Completed | 9hr 49m16 P picks\n",
      "1 S picks\n",
      "['BK', 'JCC']\n",
      "[##############                          ] | 35% Completed | 9hr 49m"
     ]
    },
    {
     "name": "stderr",
     "output_type": "stream",
     "text": [
      "/tmp/ipykernel_4065716/2319557713.py:13: RuntimeWarning: All-NaN axis encountered\n",
      "  np.nanmax([stack[idx:idx + twin], _data[iseg+1, :]], axis = 0)\n",
      "WARNING:root:No stream returned. Skipping.\n"
     ]
    },
    {
     "name": "stdout",
     "output_type": "stream",
     "text": [
      "['7D', 'M09B']\n",
      "[##############                          ] | 35% Completed | 9hr 49mAll prediction shape: (2, 5, 3599, 6000)\n",
      "[##############                          ] | 35% Completed | 9hr 53m404 P picks\n",
      "486 S picks\n"
     ]
    },
    {
     "name": "stderr",
     "output_type": "stream",
     "text": [
      "/tmp/ipykernel_4065716/2319557713.py:13: RuntimeWarning: All-NaN axis encountered\n",
      "  np.nanmax([stack[idx:idx + twin], _data[iseg+1, :]], axis = 0)\n"
     ]
    },
    {
     "name": "stdout",
     "output_type": "stream",
     "text": [
      "['7D', 'FS20B']\n",
      "[##############                          ] | 36% Completed | 9hr 53mAll prediction shape: (2, 5, 3598, 6000)\n",
      "[##############                          ] | 36% Completed | 9hr 58m179 P picks\n",
      "134 S picks\n"
     ]
    },
    {
     "name": "stderr",
     "output_type": "stream",
     "text": [
      "/tmp/ipykernel_4065716/2319557713.py:13: RuntimeWarning: All-NaN axis encountered\n",
      "  np.nanmax([stack[idx:idx + twin], _data[iseg+1, :]], axis = 0)\n"
     ]
    },
    {
     "name": "stdout",
     "output_type": "stream",
     "text": [
      "['7D', 'J33B']\n",
      "[##############                          ] | 36% Completed | 9hr 58mAll prediction shape: (2, 5, 3599, 6000)\n",
      "[##############                          ] | 36% Completed | 10hr 2m237 P picks\n",
      "519 S picks\n",
      "['TA', 'I02D']\n",
      "[##############                          ] | 36% Completed | 10hr 2m"
     ]
    },
    {
     "name": "stderr",
     "output_type": "stream",
     "text": [
      "/tmp/ipykernel_4065716/2319557713.py:13: RuntimeWarning: All-NaN axis encountered\n",
      "  np.nanmax([stack[idx:idx + twin], _data[iseg+1, :]], axis = 0)\n"
     ]
    },
    {
     "name": "stdout",
     "output_type": "stream",
     "text": [
      "[##############                          ] | 36% Completed | 10hr 2mAll prediction shape: (2, 5, 1151, 6000)\n",
      "[##############                          ] | 36% Completed | 10hr 3m21 P picks\n",
      "21 S picks\n",
      "['7D', 'FS17B']\n",
      "[##############                          ] | 36% Completed | 10hr 3m"
     ]
    },
    {
     "name": "stderr",
     "output_type": "stream",
     "text": [
      "/tmp/ipykernel_4065716/2319557713.py:13: RuntimeWarning: All-NaN axis encountered\n",
      "  np.nanmax([stack[idx:idx + twin], _data[iseg+1, :]], axis = 0)\n"
     ]
    },
    {
     "name": "stdout",
     "output_type": "stream",
     "text": [
      "[##############                          ] | 36% Completed | 10hr 3mAll prediction shape: (2, 5, 3599, 6000)\n",
      "[##############                          ] | 36% Completed | 10hr 7m646 P picks\n",
      "443 S picks\n"
     ]
    },
    {
     "name": "stderr",
     "output_type": "stream",
     "text": [
      "/tmp/ipykernel_4065716/2319557713.py:13: RuntimeWarning: All-NaN axis encountered\n",
      "  np.nanmax([stack[idx:idx + twin], _data[iseg+1, :]], axis = 0)\n"
     ]
    },
    {
     "name": "stdout",
     "output_type": "stream",
     "text": [
      "['UW', 'BABR']\n",
      "[##############                          ] | 36% Completed | 10hr 7mAll prediction shape: (2, 5, 1151, 6000)\n",
      "[##############                          ] | 36% Completed | 10hr 8m13 P picks\n",
      "4 S picks\n",
      "['7D', 'J09B']\n",
      "[##############                          ] | 36% Completed | 10hr 8m"
     ]
    },
    {
     "name": "stderr",
     "output_type": "stream",
     "text": [
      "/tmp/ipykernel_4065716/2319557713.py:13: RuntimeWarning: All-NaN axis encountered\n",
      "  np.nanmax([stack[idx:idx + twin], _data[iseg+1, :]], axis = 0)\n"
     ]
    },
    {
     "name": "stdout",
     "output_type": "stream",
     "text": [
      "[##############                          ] | 36% Completed | 10hr 8mAll prediction shape: (2, 5, 1439, 6000)\n",
      "[##############                          ] | 36% Completed | 10hr 9m75 P picks\n",
      "10 S picks\n",
      "['7D', 'FS13B']\n",
      "[##############                          ] | 36% Completed | 10hr 9m"
     ]
    },
    {
     "name": "stderr",
     "output_type": "stream",
     "text": [
      "/tmp/ipykernel_4065716/2319557713.py:13: RuntimeWarning: All-NaN axis encountered\n",
      "  np.nanmax([stack[idx:idx + twin], _data[iseg+1, :]], axis = 0)\n"
     ]
    },
    {
     "name": "stdout",
     "output_type": "stream",
     "text": [
      "[##############                          ] | 36% Completed | 10hr 9mAll prediction shape: (2, 5, 3599, 6000)\n",
      "[##############                          ] | 36% Completed | 10hr 13m521 P picks\n",
      "336 S picks\n",
      "['NC', 'KSXB']\n",
      "[##############                          ] | 36% Completed | 10hr 13m"
     ]
    },
    {
     "name": "stderr",
     "output_type": "stream",
     "text": [
      "/tmp/ipykernel_4065716/2319557713.py:13: RuntimeWarning: All-NaN axis encountered\n",
      "  np.nanmax([stack[idx:idx + twin], _data[iseg+1, :]], axis = 0)\n",
      "WARNING:root:No stream returned. Skipping.\n"
     ]
    },
    {
     "name": "stdout",
     "output_type": "stream",
     "text": [
      "['7D', 'FS16B']\n",
      "[##############                          ] | 36% Completed | 10hr 13mAll prediction shape: (2, 5, 3599, 6000)\n",
      "[##############                          ] | 36% Completed | 10hr 18m467 P picks\n",
      "463 S picks\n",
      "['BK', 'JCC']\n",
      "[##############                          ] | 37% Completed | 10hr 18m"
     ]
    },
    {
     "name": "stderr",
     "output_type": "stream",
     "text": [
      "/tmp/ipykernel_4065716/2319557713.py:13: RuntimeWarning: All-NaN axis encountered\n",
      "  np.nanmax([stack[idx:idx + twin], _data[iseg+1, :]], axis = 0)\n",
      "WARNING:root:No stream returned. Skipping.\n"
     ]
    },
    {
     "name": "stdout",
     "output_type": "stream",
     "text": [
      "['7D', 'FS09B']\n",
      "[##############                          ] | 37% Completed | 10hr 18mAll prediction shape: (2, 5, 1439, 6000)\n",
      "[##############                          ] | 37% Completed | 10hr 19m151 P picks\n",
      "118 S picks\n",
      "['7D', 'FS16B']\n",
      "[##############                          ] | 37% Completed | 10hr 19m"
     ]
    },
    {
     "name": "stderr",
     "output_type": "stream",
     "text": [
      "/tmp/ipykernel_4065716/2319557713.py:13: RuntimeWarning: All-NaN axis encountered\n",
      "  np.nanmax([stack[idx:idx + twin], _data[iseg+1, :]], axis = 0)\n"
     ]
    },
    {
     "name": "stdout",
     "output_type": "stream",
     "text": [
      "[##############                          ] | 37% Completed | 10hr 19mAll prediction shape: (2, 5, 3599, 6000)\n",
      "[##############                          ] | 37% Completed | 10hr 23m399 P picks\n",
      "443 S picks\n"
     ]
    },
    {
     "name": "stderr",
     "output_type": "stream",
     "text": [
      "/tmp/ipykernel_4065716/2319557713.py:13: RuntimeWarning: All-NaN axis encountered\n",
      "  np.nanmax([stack[idx:idx + twin], _data[iseg+1, :]], axis = 0)\n"
     ]
    },
    {
     "name": "stdout",
     "output_type": "stream",
     "text": [
      "['UW', 'BABR']\n",
      "[##############                          ] | 37% Completed | 10hr 24mAll prediction shape: (2, 5, 1151, 6000)\n",
      "[##############                          ] | 37% Completed | 10hr 24m8 P picks\n",
      "2 S picks\n",
      "['UW', 'BABR']\n",
      "[##############                          ] | 37% Completed | 10hr 24m"
     ]
    },
    {
     "name": "stderr",
     "output_type": "stream",
     "text": [
      "/tmp/ipykernel_4065716/2319557713.py:13: RuntimeWarning: All-NaN axis encountered\n",
      "  np.nanmax([stack[idx:idx + twin], _data[iseg+1, :]], axis = 0)\n"
     ]
    },
    {
     "name": "stdout",
     "output_type": "stream",
     "text": [
      "[##############                          ] | 37% Completed | 10hr 24mAll prediction shape: (2, 5, 1151, 6000)\n",
      "[##############                          ] | 37% Completed | 10hr 25m3 P picks\n",
      "1 S picks\n",
      "['7D', 'M14B']\n",
      "[###############                         ] | 37% Completed | 10hr 25m"
     ]
    },
    {
     "name": "stderr",
     "output_type": "stream",
     "text": [
      "/tmp/ipykernel_4065716/2319557713.py:13: RuntimeWarning: All-NaN axis encountered\n",
      "  np.nanmax([stack[idx:idx + twin], _data[iseg+1, :]], axis = 0)\n"
     ]
    },
    {
     "name": "stdout",
     "output_type": "stream",
     "text": [
      "[###############                         ] | 37% Completed | 10hr 25mAll prediction shape: (2, 5, 1439, 6000)\n",
      "[###############                         ] | 37% Completed | 10hr 26m229 P picks\n",
      "98 S picks\n",
      "['BK', 'JCC']\n",
      "[###############                         ] | 37% Completed | 10hr 26m"
     ]
    },
    {
     "name": "stderr",
     "output_type": "stream",
     "text": [
      "/tmp/ipykernel_4065716/2319557713.py:13: RuntimeWarning: All-NaN axis encountered\n",
      "  np.nanmax([stack[idx:idx + twin], _data[iseg+1, :]], axis = 0)\n",
      "WARNING:root:No stream returned. Skipping.\n"
     ]
    },
    {
     "name": "stdout",
     "output_type": "stream",
     "text": [
      "['7D', 'M09B']\n",
      "[###############                         ] | 37% Completed | 10hr 26mAll prediction shape: (2, 5, 3599, 6000)\n",
      "[###############                         ] | 37% Completed | 10hr 30m481 P picks\n",
      "532 S picks\n"
     ]
    },
    {
     "name": "stderr",
     "output_type": "stream",
     "text": [
      "/tmp/ipykernel_4065716/2319557713.py:13: RuntimeWarning: All-NaN axis encountered\n",
      "  np.nanmax([stack[idx:idx + twin], _data[iseg+1, :]], axis = 0)\n",
      "WARNING:root:No stream returned. Skipping.\n"
     ]
    },
    {
     "name": "stdout",
     "output_type": "stream",
     "text": [
      "['NC', 'KOM']\n",
      "['NC', 'KSXB']\n",
      "[###############                         ] | 38% Completed | 10hr 30m"
     ]
    },
    {
     "name": "stderr",
     "output_type": "stream",
     "text": [
      "WARNING:root:No stream returned. Skipping.\n",
      "WARNING:root:No stream returned. Skipping.\n"
     ]
    },
    {
     "name": "stdout",
     "output_type": "stream",
     "text": [
      "['NC', 'KRMB']\n",
      "['7D', 'J09B']\n",
      "[###############                         ] | 38% Completed | 10hr 30mAll prediction shape: (2, 5, 1439, 6000)\n",
      "[###############                         ] | 38% Completed | 10hr 31m133 P picks\n",
      "56 S picks\n",
      "['7D', 'J33B']\n",
      "[###############                         ] | 38% Completed | 10hr 31m"
     ]
    },
    {
     "name": "stderr",
     "output_type": "stream",
     "text": [
      "/tmp/ipykernel_4065716/2319557713.py:13: RuntimeWarning: All-NaN axis encountered\n",
      "  np.nanmax([stack[idx:idx + twin], _data[iseg+1, :]], axis = 0)\n"
     ]
    },
    {
     "name": "stdout",
     "output_type": "stream",
     "text": [
      "[###############                         ] | 38% Completed | 10hr 31mAll prediction shape: (2, 5, 3599, 6000)\n",
      "[###############                         ] | 38% Completed | 10hr 36m277 P picks\n",
      "465 S picks\n",
      "[###############                         ] | 38% Completed | 10hr 36m"
     ]
    },
    {
     "name": "stderr",
     "output_type": "stream",
     "text": [
      "/tmp/ipykernel_4065716/2319557713.py:13: RuntimeWarning: All-NaN axis encountered\n",
      "  np.nanmax([stack[idx:idx + twin], _data[iseg+1, :]], axis = 0)\n"
     ]
    },
    {
     "name": "stdout",
     "output_type": "stream",
     "text": [
      "['7D', 'G10B']\n",
      "[###############                         ] | 38% Completed | 10hr 36mAll prediction shape: (2, 5, 1439, 6000)\n",
      "[###############                         ] | 38% Completed | 10hr 37m41 P picks\n",
      "17 S picks\n",
      "['7D', 'G26B']\n",
      "[###############                         ] | 38% Completed | 10hr 37m"
     ]
    },
    {
     "name": "stderr",
     "output_type": "stream",
     "text": [
      "/tmp/ipykernel_4065716/2319557713.py:13: RuntimeWarning: All-NaN axis encountered\n",
      "  np.nanmax([stack[idx:idx + twin], _data[iseg+1, :]], axis = 0)\n"
     ]
    },
    {
     "name": "stdout",
     "output_type": "stream",
     "text": [
      "[###############                         ] | 38% Completed | 10hr 37mAll prediction shape: (2, 5, 3599, 6000)\n",
      "[###############                         ] | 38% Completed | 10hr 41m215 P picks\n",
      "204 S picks\n"
     ]
    },
    {
     "name": "stderr",
     "output_type": "stream",
     "text": [
      "/tmp/ipykernel_4065716/2319557713.py:13: RuntimeWarning: All-NaN axis encountered\n",
      "  np.nanmax([stack[idx:idx + twin], _data[iseg+1, :]], axis = 0)\n"
     ]
    },
    {
     "name": "stdout",
     "output_type": "stream",
     "text": [
      "['7D', 'G26B']\n",
      "[###############                         ] | 38% Completed | 10hr 41mAll prediction shape: (2, 5, 3599, 6000)\n",
      "[###############                         ] | 38% Completed | 10hr 46m136 P picks\n",
      "111 S picks\n",
      "['7D', 'FS17B']\n",
      "[###############                         ] | 38% Completed | 10hr 46m"
     ]
    },
    {
     "name": "stderr",
     "output_type": "stream",
     "text": [
      "/tmp/ipykernel_4065716/2319557713.py:13: RuntimeWarning: All-NaN axis encountered\n",
      "  np.nanmax([stack[idx:idx + twin], _data[iseg+1, :]], axis = 0)\n"
     ]
    },
    {
     "name": "stdout",
     "output_type": "stream",
     "text": [
      "[###############                         ] | 38% Completed | 10hr 46mAll prediction shape: (2, 5, 3599, 6000)\n",
      "[###############                         ] | 38% Completed | 10hr 50m424 P picks\n",
      "168 S picks\n"
     ]
    },
    {
     "name": "stderr",
     "output_type": "stream",
     "text": [
      "/tmp/ipykernel_4065716/2319557713.py:13: RuntimeWarning: All-NaN axis encountered\n",
      "  np.nanmax([stack[idx:idx + twin], _data[iseg+1, :]], axis = 0)\n"
     ]
    },
    {
     "name": "stdout",
     "output_type": "stream",
     "text": [
      "['BK', 'JCC']\n",
      "[###############                         ] | 38% Completed | 10hr 50m"
     ]
    },
    {
     "name": "stderr",
     "output_type": "stream",
     "text": [
      "WARNING:root:No stream returned. Skipping.\n"
     ]
    },
    {
     "name": "stdout",
     "output_type": "stream",
     "text": [
      "['7D', 'G26B']\n",
      "[###############                         ] | 39% Completed | 10hr 50mAll prediction shape: (2, 5, 3599, 6000)\n",
      "[###############                         ] | 39% Completed | 10hr 55m100 P picks\n",
      "78 S picks\n"
     ]
    },
    {
     "name": "stderr",
     "output_type": "stream",
     "text": [
      "/tmp/ipykernel_4065716/2319557713.py:13: RuntimeWarning: All-NaN axis encountered\n",
      "  np.nanmax([stack[idx:idx + twin], _data[iseg+1, :]], axis = 0)\n"
     ]
    },
    {
     "name": "stdout",
     "output_type": "stream",
     "text": [
      "['7D', 'G17B']\n",
      "[###############                         ] | 39% Completed | 10hr 55mAll prediction shape: (2, 5, 3599, 6000)\n",
      "[###############                         ] | 39% Completed | 10hr 59m740 P picks\n",
      "664 S picks\n"
     ]
    },
    {
     "name": "stderr",
     "output_type": "stream",
     "text": [
      "/tmp/ipykernel_4065716/2319557713.py:13: RuntimeWarning: All-NaN axis encountered\n",
      "  np.nanmax([stack[idx:idx + twin], _data[iseg+1, :]], axis = 0)\n"
     ]
    },
    {
     "name": "stdout",
     "output_type": "stream",
     "text": [
      "['7D', 'G10B']\n",
      "[###############                         ] | 39% Completed | 10hr 59mAll prediction shape: (2, 5, 1439, 6000)\n",
      "[###############                         ] | 39% Completed | 11hr 0mm35 P picks\n",
      "17 S picks\n"
     ]
    },
    {
     "name": "stderr",
     "output_type": "stream",
     "text": [
      "/tmp/ipykernel_4065716/2319557713.py:13: RuntimeWarning: All-NaN axis encountered\n",
      "  np.nanmax([stack[idx:idx + twin], _data[iseg+1, :]], axis = 0)\n",
      "WARNING:root:No stream returned. Skipping.\n"
     ]
    },
    {
     "name": "stdout",
     "output_type": "stream",
     "text": [
      "['NC', 'KEB']\n",
      "['7D', 'J25B']\n",
      "[###############                         ] | 39% Completed | 11hr 0mAll prediction shape: (2, 5, 3599, 6000)\n",
      "[###############                         ] | 39% Completed | 11hr 4m403 P picks\n",
      "460 S picks\n",
      "[###############                         ] | 39% Completed | 11hr 4m"
     ]
    },
    {
     "name": "stderr",
     "output_type": "stream",
     "text": [
      "/tmp/ipykernel_4065716/2319557713.py:13: RuntimeWarning: All-NaN axis encountered\n",
      "  np.nanmax([stack[idx:idx + twin], _data[iseg+1, :]], axis = 0)\n"
     ]
    },
    {
     "name": "stdout",
     "output_type": "stream",
     "text": [
      "['7D', 'M09B']\n",
      "[###############                         ] | 39% Completed | 11hr 5mAll prediction shape: (2, 5, 3599, 6000)\n",
      "[###############                         ] | 39% Completed | 11hr 9m460 P picks\n",
      "526 S picks\n"
     ]
    },
    {
     "name": "stderr",
     "output_type": "stream",
     "text": [
      "/tmp/ipykernel_4065716/2319557713.py:13: RuntimeWarning: All-NaN axis encountered\n",
      "  np.nanmax([stack[idx:idx + twin], _data[iseg+1, :]], axis = 0)\n",
      "WARNING:root:No stream returned. Skipping.\n"
     ]
    },
    {
     "name": "stdout",
     "output_type": "stream",
     "text": [
      "['TA', 'J01E']\n",
      "['7D', 'FS09B']\n",
      "[###############                         ] | 39% Completed | 11hr 9mAll prediction shape: (2, 5, 1439, 6000)\n",
      "[###############                         ] | 39% Completed | 11hr 10m199 P picks\n",
      "167 S picks\n",
      "['7D', 'J25B']\n",
      "[###############                         ] | 39% Completed | 11hr 10m"
     ]
    },
    {
     "name": "stderr",
     "output_type": "stream",
     "text": [
      "/tmp/ipykernel_4065716/2319557713.py:13: RuntimeWarning: All-NaN axis encountered\n",
      "  np.nanmax([stack[idx:idx + twin], _data[iseg+1, :]], axis = 0)\n"
     ]
    },
    {
     "name": "stdout",
     "output_type": "stream",
     "text": [
      "[###############                         ] | 39% Completed | 11hr 10mAll prediction shape: (2, 5, 3599, 6000)\n",
      "[###############                         ] | 39% Completed | 11hr 14m457 P picks\n",
      "585 S picks\n"
     ]
    },
    {
     "name": "stderr",
     "output_type": "stream",
     "text": [
      "/tmp/ipykernel_4065716/2319557713.py:13: RuntimeWarning: All-NaN axis encountered\n",
      "  np.nanmax([stack[idx:idx + twin], _data[iseg+1, :]], axis = 0)\n",
      "WARNING:root:No stream returned. Skipping.\n"
     ]
    },
    {
     "name": "stdout",
     "output_type": "stream",
     "text": [
      "['NC', 'KEB']\n",
      "['7D', 'G17B']\n",
      "[################                        ] | 40% Completed | 11hr 15mAll prediction shape: (2, 5, 3599, 6000)\n",
      "[################                        ] | 40% Completed | 11hr 19m524 P picks\n",
      "617 S picks\n",
      "[################                        ] | 40% Completed | 11hr 19m"
     ]
    },
    {
     "name": "stderr",
     "output_type": "stream",
     "text": [
      "/tmp/ipykernel_4065716/2319557713.py:13: RuntimeWarning: All-NaN axis encountered\n",
      "  np.nanmax([stack[idx:idx + twin], _data[iseg+1, :]], axis = 0)\n"
     ]
    },
    {
     "name": "stdout",
     "output_type": "stream",
     "text": [
      "['7D', 'FS13B']\n",
      "[################                        ] | 40% Completed | 11hr 19mAll prediction shape: (2, 5, 3599, 6000)\n",
      "[################                        ] | 40% Completed | 11hr 23m497 P picks\n",
      "455 S picks\n"
     ]
    },
    {
     "name": "stderr",
     "output_type": "stream",
     "text": [
      "/tmp/ipykernel_4065716/2319557713.py:13: RuntimeWarning: All-NaN axis encountered\n",
      "  np.nanmax([stack[idx:idx + twin], _data[iseg+1, :]], axis = 0)\n"
     ]
    },
    {
     "name": "stdout",
     "output_type": "stream",
     "text": [
      "['BK', 'JCC']\n",
      "[################                        ] | 40% Completed | 11hr 23m"
     ]
    },
    {
     "name": "stderr",
     "output_type": "stream",
     "text": [
      "WARNING:root:No stream returned. Skipping.\n"
     ]
    },
    {
     "name": "stdout",
     "output_type": "stream",
     "text": [
      "['7D', 'M14B']\n",
      "[################                        ] | 40% Completed | 11hr 23mAll prediction shape: (2, 5, 1439, 6000)\n",
      "[################                        ] | 40% Completed | 11hr 24m135 P picks\n",
      "55 S picks\n",
      "['7D', 'G10B']\n",
      "[################                        ] | 40% Completed | 11hr 24m"
     ]
    },
    {
     "name": "stderr",
     "output_type": "stream",
     "text": [
      "/tmp/ipykernel_4065716/2319557713.py:13: RuntimeWarning: All-NaN axis encountered\n",
      "  np.nanmax([stack[idx:idx + twin], _data[iseg+1, :]], axis = 0)\n"
     ]
    },
    {
     "name": "stdout",
     "output_type": "stream",
     "text": [
      "[################                        ] | 40% Completed | 11hr 24mAll prediction shape: (2, 5, 1439, 6000)\n",
      "[################                        ] | 40% Completed | 11hr 25m42 P picks\n",
      "20 S picks\n",
      "['7D', 'J25B']\n",
      "[################                        ] | 40% Completed | 11hr 25m"
     ]
    },
    {
     "name": "stderr",
     "output_type": "stream",
     "text": [
      "/tmp/ipykernel_4065716/2319557713.py:13: RuntimeWarning: All-NaN axis encountered\n",
      "  np.nanmax([stack[idx:idx + twin], _data[iseg+1, :]], axis = 0)\n"
     ]
    },
    {
     "name": "stdout",
     "output_type": "stream",
     "text": [
      "[################                        ] | 40% Completed | 11hr 25mAll prediction shape: (2, 5, 3599, 6000)\n",
      "[################                        ] | 40% Completed | 11hr 30m580 P picks\n",
      "722 S picks\n"
     ]
    },
    {
     "name": "stderr",
     "output_type": "stream",
     "text": [
      "/tmp/ipykernel_4065716/2319557713.py:13: RuntimeWarning: All-NaN axis encountered\n",
      "  np.nanmax([stack[idx:idx + twin], _data[iseg+1, :]], axis = 0)\n"
     ]
    },
    {
     "name": "stdout",
     "output_type": "stream",
     "text": [
      "['7D', 'FS09B']\n",
      "[################                        ] | 40% Completed | 11hr 30mAll prediction shape: (2, 5, 1439, 6000)\n",
      "[################                        ] | 40% Completed | 11hr 31m131 P picks\n",
      "101 S picks\n",
      "['UW', 'BABR']\n",
      "[################                        ] | 40% Completed | 11hr 31m"
     ]
    },
    {
     "name": "stderr",
     "output_type": "stream",
     "text": [
      "/tmp/ipykernel_4065716/2319557713.py:13: RuntimeWarning: All-NaN axis encountered\n",
      "  np.nanmax([stack[idx:idx + twin], _data[iseg+1, :]], axis = 0)\n"
     ]
    },
    {
     "name": "stdout",
     "output_type": "stream",
     "text": [
      "[################                        ] | 40% Completed | 11hr 31mAll prediction shape: (2, 5, 1151, 6000)\n",
      "[################                        ] | 40% Completed | 11hr 31m12 P picks\n",
      "8 S picks\n",
      "['7D', 'G26B']\n",
      "[################                        ] | 41% Completed | 11hr 31m"
     ]
    },
    {
     "name": "stderr",
     "output_type": "stream",
     "text": [
      "/tmp/ipykernel_4065716/2319557713.py:13: RuntimeWarning: All-NaN axis encountered\n",
      "  np.nanmax([stack[idx:idx + twin], _data[iseg+1, :]], axis = 0)\n"
     ]
    },
    {
     "name": "stdout",
     "output_type": "stream",
     "text": [
      "[################                        ] | 41% Completed | 11hr 31mAll prediction shape: (2, 5, 3598, 6000)\n",
      "[################                        ] | 41% Completed | 11hr 36m225 P picks\n",
      "190 S picks\n"
     ]
    },
    {
     "name": "stderr",
     "output_type": "stream",
     "text": [
      "/tmp/ipykernel_4065716/2319557713.py:13: RuntimeWarning: All-NaN axis encountered\n",
      "  np.nanmax([stack[idx:idx + twin], _data[iseg+1, :]], axis = 0)\n"
     ]
    },
    {
     "name": "stdout",
     "output_type": "stream",
     "text": [
      "['7D', 'G10B']\n",
      "[################                        ] | 41% Completed | 11hr 36mAll prediction shape: (2, 5, 1439, 6000)\n",
      "[################                        ] | 41% Completed | 11hr 37m41 P picks\n",
      "27 S picks\n",
      "['7D', 'G10B']\n",
      "[################                        ] | 41% Completed | 11hr 37m"
     ]
    },
    {
     "name": "stderr",
     "output_type": "stream",
     "text": [
      "/tmp/ipykernel_4065716/2319557713.py:13: RuntimeWarning: All-NaN axis encountered\n",
      "  np.nanmax([stack[idx:idx + twin], _data[iseg+1, :]], axis = 0)\n"
     ]
    },
    {
     "name": "stdout",
     "output_type": "stream",
     "text": [
      "[################                        ] | 41% Completed | 11hr 37mAll prediction shape: (2, 5, 1439, 6000)\n",
      "[################                        ] | 41% Completed | 11hr 38m62 P picks\n",
      "18 S picks\n",
      "['7D', 'G25B']\n",
      "[################                        ] | 41% Completed | 11hr 38m"
     ]
    },
    {
     "name": "stderr",
     "output_type": "stream",
     "text": [
      "/tmp/ipykernel_4065716/2319557713.py:13: RuntimeWarning: All-NaN axis encountered\n",
      "  np.nanmax([stack[idx:idx + twin], _data[iseg+1, :]], axis = 0)\n"
     ]
    },
    {
     "name": "stdout",
     "output_type": "stream",
     "text": [
      "[################                        ] | 41% Completed | 11hr 38mAll prediction shape: (2, 5, 3598, 6000)\n",
      "[################                        ] | 41% Completed | 11hr 42m623 P picks\n",
      "236 S picks\n"
     ]
    },
    {
     "name": "stderr",
     "output_type": "stream",
     "text": [
      "/tmp/ipykernel_4065716/2319557713.py:13: RuntimeWarning: All-NaN axis encountered\n",
      "  np.nanmax([stack[idx:idx + twin], _data[iseg+1, :]], axis = 0)\n"
     ]
    },
    {
     "name": "stdout",
     "output_type": "stream",
     "text": [
      "['TA', 'I02D']\n",
      "[################                        ] | 41% Completed | 11hr 42mAll prediction shape: (2, 5, 1151, 6000)\n",
      "[################                        ] | 41% Completed | 11hr 43m16 P picks\n",
      "11 S picks\n",
      "['7D', 'G27B']\n",
      "[################                        ] | 41% Completed | 11hr 43m"
     ]
    },
    {
     "name": "stderr",
     "output_type": "stream",
     "text": [
      "/tmp/ipykernel_4065716/2319557713.py:13: RuntimeWarning: All-NaN axis encountered\n",
      "  np.nanmax([stack[idx:idx + twin], _data[iseg+1, :]], axis = 0)\n"
     ]
    },
    {
     "name": "stdout",
     "output_type": "stream",
     "text": [
      "[################                        ] | 41% Completed | 11hr 43mAll prediction shape: (2, 5, 1439, 6000)\n",
      "[################                        ] | 41% Completed | 11hr 44m48 P picks\n",
      "22 S picks\n",
      "['7D', 'FS17B']\n",
      "[################                        ] | 41% Completed | 11hr 44m"
     ]
    },
    {
     "name": "stderr",
     "output_type": "stream",
     "text": [
      "/tmp/ipykernel_4065716/2319557713.py:13: RuntimeWarning: All-NaN axis encountered\n",
      "  np.nanmax([stack[idx:idx + twin], _data[iseg+1, :]], axis = 0)\n"
     ]
    },
    {
     "name": "stdout",
     "output_type": "stream",
     "text": [
      "[################                        ] | 41% Completed | 11hr 44mAll prediction shape: (2, 5, 3599, 6000)\n",
      "[################                        ] | 41% Completed | 11hr 48m477 P picks\n",
      "154 S picks\n"
     ]
    },
    {
     "name": "stderr",
     "output_type": "stream",
     "text": [
      "/tmp/ipykernel_4065716/2319557713.py:13: RuntimeWarning: All-NaN axis encountered\n",
      "  np.nanmax([stack[idx:idx + twin], _data[iseg+1, :]], axis = 0)\n"
     ]
    },
    {
     "name": "stdout",
     "output_type": "stream",
     "text": [
      "['7D', 'J09B']\n",
      "[################                        ] | 41% Completed | 11hr 48mAll prediction shape: (2, 5, 1439, 6000)\n",
      "[################                        ] | 41% Completed | 11hr 49m113 P picks\n",
      "20 S picks\n",
      "['7D', 'G25B']\n",
      "[################                        ] | 41% Completed | 11hr 49m"
     ]
    },
    {
     "name": "stderr",
     "output_type": "stream",
     "text": [
      "/tmp/ipykernel_4065716/2319557713.py:13: RuntimeWarning: All-NaN axis encountered\n",
      "  np.nanmax([stack[idx:idx + twin], _data[iseg+1, :]], axis = 0)\n"
     ]
    },
    {
     "name": "stdout",
     "output_type": "stream",
     "text": [
      "[################                        ] | 41% Completed | 11hr 49mAll prediction shape: (2, 5, 3599, 6000)\n",
      "[################                        ] | 41% Completed | 11hr 53m472 P picks\n",
      "197 S picks\n"
     ]
    },
    {
     "name": "stderr",
     "output_type": "stream",
     "text": [
      "/tmp/ipykernel_4065716/2319557713.py:13: RuntimeWarning: All-NaN axis encountered\n",
      "  np.nanmax([stack[idx:idx + twin], _data[iseg+1, :]], axis = 0)\n"
     ]
    },
    {
     "name": "stdout",
     "output_type": "stream",
     "text": [
      "['7D', 'M12B']\n",
      "[################                        ] | 42% Completed | 11hr 54mAll prediction shape: (2, 5, 1439, 6000)\n",
      "[################                        ] | 42% Completed | 11hr 54m200 P picks\n",
      "73 S picks\n",
      "['UW', 'BABR']\n",
      "[################                        ] | 42% Completed | 11hr 54m"
     ]
    },
    {
     "name": "stderr",
     "output_type": "stream",
     "text": [
      "/tmp/ipykernel_4065716/2319557713.py:13: RuntimeWarning: All-NaN axis encountered\n",
      "  np.nanmax([stack[idx:idx + twin], _data[iseg+1, :]], axis = 0)\n"
     ]
    },
    {
     "name": "stdout",
     "output_type": "stream",
     "text": [
      "[################                        ] | 42% Completed | 11hr 55mAll prediction shape: (2, 5, 1151, 6000)\n",
      "[################                        ] | 42% Completed | 11hr 55m18 P picks\n",
      "5 S picks\n",
      "['7D', 'J25B']\n",
      "[################                        ] | 42% Completed | 11hr 55m"
     ]
    },
    {
     "name": "stderr",
     "output_type": "stream",
     "text": [
      "/tmp/ipykernel_4065716/2319557713.py:13: RuntimeWarning: All-NaN axis encountered\n",
      "  np.nanmax([stack[idx:idx + twin], _data[iseg+1, :]], axis = 0)\n"
     ]
    },
    {
     "name": "stdout",
     "output_type": "stream",
     "text": [
      "[################                        ] | 42% Completed | 11hr 55mAll prediction shape: (2, 5, 3599, 6000)\n",
      "[################                        ] | 42% Completed | 12hr 0mm"
     ]
    },
    {
     "name": "stderr",
     "output_type": "stream",
     "text": [
      "/tmp/ipykernel_4065716/2319557713.py:13: RuntimeWarning: All-NaN axis encountered\n",
      "  np.nanmax([stack[idx:idx + twin], _data[iseg+1, :]], axis = 0)\n"
     ]
    },
    {
     "name": "stdout",
     "output_type": "stream",
     "text": [
      "531 P picks\n",
      "753 S picks\n",
      "['TA', 'I02D']\n",
      "[################                        ] | 42% Completed | 12hr 0mAll prediction shape: (2, 5, 1151, 6000)\n",
      "[################                        ] | 42% Completed | 12hr 0m27 P picks\n",
      "15 S picks\n",
      "['7D', 'G25B']\n",
      "[################                        ] | 42% Completed | 12hr 0m"
     ]
    },
    {
     "name": "stderr",
     "output_type": "stream",
     "text": [
      "/tmp/ipykernel_4065716/2319557713.py:13: RuntimeWarning: All-NaN axis encountered\n",
      "  np.nanmax([stack[idx:idx + twin], _data[iseg+1, :]], axis = 0)\n"
     ]
    },
    {
     "name": "stdout",
     "output_type": "stream",
     "text": [
      "[################                        ] | 42% Completed | 12hr 1mAll prediction shape: (2, 5, 3599, 6000)\n",
      "[################                        ] | 42% Completed | 12hr 5m546 P picks\n",
      "214 S picks\n"
     ]
    },
    {
     "name": "stderr",
     "output_type": "stream",
     "text": [
      "/tmp/ipykernel_4065716/2319557713.py:13: RuntimeWarning: All-NaN axis encountered\n",
      "  np.nanmax([stack[idx:idx + twin], _data[iseg+1, :]], axis = 0)\n"
     ]
    },
    {
     "name": "stdout",
     "output_type": "stream",
     "text": [
      "['7D', 'FS13B']\n",
      "[#################                       ] | 42% Completed | 12hr 5mAll prediction shape: (2, 5, 3599, 6000)\n",
      "[#################                       ] | 42% Completed | 12hr 9m457 P picks\n",
      "302 S picks\n",
      "[#################                       ] | 42% Completed | 12hr 9m"
     ]
    },
    {
     "name": "stderr",
     "output_type": "stream",
     "text": [
      "/tmp/ipykernel_4065716/2319557713.py:13: RuntimeWarning: All-NaN axis encountered\n",
      "  np.nanmax([stack[idx:idx + twin], _data[iseg+1, :]], axis = 0)\n",
      "WARNING:root:No stream returned. Skipping.\n"
     ]
    },
    {
     "name": "stdout",
     "output_type": "stream",
     "text": [
      "['NC', 'KEB']\n",
      "['7D', 'G26B']\n",
      "[#################                       ] | 42% Completed | 12hr 10mAll prediction shape: (2, 5, 3599, 6000)\n",
      "[#################                       ] | 42% Completed | 12hr 14m189 P picks\n",
      "81 S picks\n"
     ]
    },
    {
     "name": "stderr",
     "output_type": "stream",
     "text": [
      "/tmp/ipykernel_4065716/2319557713.py:13: RuntimeWarning: All-NaN axis encountered\n",
      "  np.nanmax([stack[idx:idx + twin], _data[iseg+1, :]], axis = 0)\n"
     ]
    },
    {
     "name": "stdout",
     "output_type": "stream",
     "text": [
      "['7D', 'FS09B']\n",
      "[#################                       ] | 42% Completed | 12hr 14mAll prediction shape: (2, 5, 1439, 6000)\n",
      "[#################                       ] | 42% Completed | 12hr 15m148 P picks\n",
      "123 S picks\n",
      "['7D', 'M14B']\n",
      "[#################                       ] | 43% Completed | 12hr 15m"
     ]
    },
    {
     "name": "stderr",
     "output_type": "stream",
     "text": [
      "/tmp/ipykernel_4065716/2319557713.py:13: RuntimeWarning: All-NaN axis encountered\n",
      "  np.nanmax([stack[idx:idx + twin], _data[iseg+1, :]], axis = 0)\n"
     ]
    },
    {
     "name": "stdout",
     "output_type": "stream",
     "text": [
      "[#################                       ] | 43% Completed | 12hr 15mAll prediction shape: (2, 5, 1438, 6000)\n",
      "[#################                       ] | 43% Completed | 12hr 16m126 P picks\n",
      "48 S picks\n",
      "['7D', 'FS17B']\n",
      "[#################                       ] | 43% Completed | 12hr 16m"
     ]
    },
    {
     "name": "stderr",
     "output_type": "stream",
     "text": [
      "/tmp/ipykernel_4065716/2319557713.py:13: RuntimeWarning: All-NaN axis encountered\n",
      "  np.nanmax([stack[idx:idx + twin], _data[iseg+1, :]], axis = 0)\n"
     ]
    },
    {
     "name": "stdout",
     "output_type": "stream",
     "text": [
      "[#################                       ] | 43% Completed | 12hr 16mAll prediction shape: (2, 5, 3598, 6000)\n",
      "[#################                       ] | 43% Completed | 12hr 20m563 P picks\n",
      "413 S picks\n"
     ]
    },
    {
     "name": "stderr",
     "output_type": "stream",
     "text": [
      "/tmp/ipykernel_4065716/2319557713.py:13: RuntimeWarning: All-NaN axis encountered\n",
      "  np.nanmax([stack[idx:idx + twin], _data[iseg+1, :]], axis = 0)\n"
     ]
    },
    {
     "name": "stdout",
     "output_type": "stream",
     "text": [
      "['7D', 'G10B']\n",
      "[#################                       ] | 43% Completed | 12hr 20mAll prediction shape: (2, 5, 1439, 6000)\n",
      "[#################                       ] | 43% Completed | 12hr 21m49 P picks\n",
      "19 S picks\n"
     ]
    },
    {
     "name": "stderr",
     "output_type": "stream",
     "text": [
      "/tmp/ipykernel_4065716/2319557713.py:13: RuntimeWarning: All-NaN axis encountered\n",
      "  np.nanmax([stack[idx:idx + twin], _data[iseg+1, :]], axis = 0)\n",
      "WARNING:root:No stream returned. Skipping.\n"
     ]
    },
    {
     "name": "stdout",
     "output_type": "stream",
     "text": [
      "['NC', 'KMPB']\n",
      "['UW', 'BABR']\n",
      "[#################                       ] | 43% Completed | 12hr 21mAll prediction shape: (2, 5, 1151, 6000)\n",
      "[#################                       ] | 43% Completed | 12hr 22m13 P picks\n",
      "10 S picks\n",
      "['NC', 'KOM']\n",
      "[#################                       ] | 43% Completed | 12hr 22m"
     ]
    },
    {
     "name": "stderr",
     "output_type": "stream",
     "text": [
      "/tmp/ipykernel_4065716/2319557713.py:13: RuntimeWarning: All-NaN axis encountered\n",
      "  np.nanmax([stack[idx:idx + twin], _data[iseg+1, :]], axis = 0)\n",
      "WARNING:root:No stream returned. Skipping.\n"
     ]
    },
    {
     "name": "stdout",
     "output_type": "stream",
     "text": [
      "['7D', 'FS20B']\n",
      "[#################                       ] | 43% Completed | 12hr 22mAll prediction shape: (2, 5, 3599, 6000)\n",
      "[#################                       ] | 43% Completed | 12hr 26m150 P picks\n",
      "122 S picks\n",
      "['7D', 'G25B']\n",
      "[#################                       ] | 43% Completed | 12hr 26m"
     ]
    },
    {
     "name": "stderr",
     "output_type": "stream",
     "text": [
      "/tmp/ipykernel_4065716/2319557713.py:13: RuntimeWarning: All-NaN axis encountered\n",
      "  np.nanmax([stack[idx:idx + twin], _data[iseg+1, :]], axis = 0)\n"
     ]
    },
    {
     "name": "stdout",
     "output_type": "stream",
     "text": [
      "[#################                       ] | 43% Completed | 12hr 26mAll prediction shape: (2, 5, 3599, 6000)\n",
      "[#################                       ] | 43% Completed | 12hr 31m531 P picks\n",
      "253 S picks\n"
     ]
    },
    {
     "name": "stderr",
     "output_type": "stream",
     "text": [
      "/tmp/ipykernel_4065716/2319557713.py:13: RuntimeWarning: All-NaN axis encountered\n",
      "  np.nanmax([stack[idx:idx + twin], _data[iseg+1, :]], axis = 0)\n"
     ]
    },
    {
     "name": "stdout",
     "output_type": "stream",
     "text": [
      "['7D', 'J33B']\n",
      "[#################                       ] | 43% Completed | 12hr 31mAll prediction shape: (2, 5, 3599, 6000)\n",
      "[#################                       ] | 43% Completed | 12hr 35m180 P picks\n",
      "300 S picks\n",
      "['7D', 'G10B']\n",
      "[#################                       ] | 44% Completed | 12hr 35m"
     ]
    },
    {
     "name": "stderr",
     "output_type": "stream",
     "text": [
      "/tmp/ipykernel_4065716/2319557713.py:13: RuntimeWarning: All-NaN axis encountered\n",
      "  np.nanmax([stack[idx:idx + twin], _data[iseg+1, :]], axis = 0)\n"
     ]
    },
    {
     "name": "stdout",
     "output_type": "stream",
     "text": [
      "[#################                       ] | 44% Completed | 12hr 35mAll prediction shape: (2, 5, 1439, 6000)\n",
      "[#################                       ] | 44% Completed | 12hr 36m44 P picks\n",
      "11 S picks\n"
     ]
    },
    {
     "name": "stderr",
     "output_type": "stream",
     "text": [
      "/tmp/ipykernel_4065716/2319557713.py:13: RuntimeWarning: All-NaN axis encountered\n",
      "  np.nanmax([stack[idx:idx + twin], _data[iseg+1, :]], axis = 0)\n",
      "WARNING:root:No stream returned. Skipping.\n"
     ]
    },
    {
     "name": "stdout",
     "output_type": "stream",
     "text": [
      "['NC', 'KBO']\n",
      "['7D', 'J25B']\n",
      "[#################                       ] | 44% Completed | 12hr 36mAll prediction shape: (2, 5, 3599, 6000)\n",
      "[#################                       ] | 44% Completed | 12hr 41m578 P picks\n",
      "674 S picks\n"
     ]
    },
    {
     "name": "stderr",
     "output_type": "stream",
     "text": [
      "/tmp/ipykernel_4065716/2319557713.py:13: RuntimeWarning: All-NaN axis encountered\n",
      "  np.nanmax([stack[idx:idx + twin], _data[iseg+1, :]], axis = 0)\n"
     ]
    },
    {
     "name": "stdout",
     "output_type": "stream",
     "text": [
      "['7D', 'M09B']\n",
      "[#################                       ] | 44% Completed | 12hr 41mAll prediction shape: (2, 5, 3599, 6000)\n",
      "[#################                       ] | 44% Completed | 12hr 45m515 P picks\n",
      "547 S picks\n"
     ]
    },
    {
     "name": "stderr",
     "output_type": "stream",
     "text": [
      "/tmp/ipykernel_4065716/2319557713.py:13: RuntimeWarning: All-NaN axis encountered\n",
      "  np.nanmax([stack[idx:idx + twin], _data[iseg+1, :]], axis = 0)\n"
     ]
    },
    {
     "name": "stdout",
     "output_type": "stream",
     "text": [
      "['NC', 'KMPB']\n",
      "[#################                       ] | 44% Completed | 12hr 45m"
     ]
    },
    {
     "name": "stderr",
     "output_type": "stream",
     "text": [
      "WARNING:root:No stream returned. Skipping.\n",
      "WARNING:root:No stream returned. Skipping.\n"
     ]
    },
    {
     "name": "stdout",
     "output_type": "stream",
     "text": [
      "['NC', 'KMPB']\n"
     ]
    },
    {
     "name": "stderr",
     "output_type": "stream",
     "text": [
      "WARNING:root:No stream returned. Skipping.\n"
     ]
    },
    {
     "name": "stdout",
     "output_type": "stream",
     "text": [
      "['NC', 'KBO']\n"
     ]
    },
    {
     "name": "stderr",
     "output_type": "stream",
     "text": [
      "WARNING:root:No stream returned. Skipping.\n"
     ]
    },
    {
     "name": "stdout",
     "output_type": "stream",
     "text": [
      "['NC', 'KOM']\n"
     ]
    },
    {
     "name": "stderr",
     "output_type": "stream",
     "text": [
      "WARNING:root:No stream returned. Skipping.\n"
     ]
    },
    {
     "name": "stdout",
     "output_type": "stream",
     "text": [
      "['NC', 'KOM']\n"
     ]
    },
    {
     "name": "stderr",
     "output_type": "stream",
     "text": [
      "WARNING:root:No stream returned. Skipping.\n"
     ]
    },
    {
     "name": "stdout",
     "output_type": "stream",
     "text": [
      "['BK', 'JCC']\n",
      "['7D', 'J33B']\n",
      "[##################                      ] | 45% Completed | 12hr 45mAll prediction shape: (2, 5, 3599, 6000)\n",
      "[##################                      ] | 45% Completed | 12hr 49m306 P picks\n",
      "625 S picks\n",
      "[##################                      ] | 45% Completed | 12hr 49m"
     ]
    },
    {
     "name": "stderr",
     "output_type": "stream",
     "text": [
      "/tmp/ipykernel_4065716/2319557713.py:13: RuntimeWarning: All-NaN axis encountered\n",
      "  np.nanmax([stack[idx:idx + twin], _data[iseg+1, :]], axis = 0)\n"
     ]
    },
    {
     "name": "stdout",
     "output_type": "stream",
     "text": [
      "['7D', 'G25B']\n",
      "[##################                      ] | 45% Completed | 12hr 50mAll prediction shape: (2, 5, 3599, 6000)\n",
      "[##################                      ] | 45% Completed | 12hr 54m708 P picks\n",
      "266 S picks\n",
      "[##################                      ] | 45% Completed | 12hr 54m"
     ]
    },
    {
     "name": "stderr",
     "output_type": "stream",
     "text": [
      "/tmp/ipykernel_4065716/2319557713.py:13: RuntimeWarning: All-NaN axis encountered\n",
      "  np.nanmax([stack[idx:idx + twin], _data[iseg+1, :]], axis = 0)\n"
     ]
    },
    {
     "name": "stdout",
     "output_type": "stream",
     "text": [
      "['7D', 'G19B']\n",
      "[##################                      ] | 45% Completed | 12hr 54mAll prediction shape: (2, 5, 1439, 6000)\n",
      "[##################                      ] | 45% Completed | 12hr 55m40 P picks\n",
      "24 S picks\n",
      "['7D', 'FS20B']\n",
      "[##################                      ] | 45% Completed | 12hr 55m"
     ]
    },
    {
     "name": "stderr",
     "output_type": "stream",
     "text": [
      "/tmp/ipykernel_4065716/2319557713.py:13: RuntimeWarning: All-NaN axis encountered\n",
      "  np.nanmax([stack[idx:idx + twin], _data[iseg+1, :]], axis = 0)\n"
     ]
    },
    {
     "name": "stdout",
     "output_type": "stream",
     "text": [
      "[##################                      ] | 45% Completed | 12hr 55mAll prediction shape: (2, 5, 3599, 6000)\n",
      "[##################                      ] | 45% Completed | 12hr 59m245 P picks\n",
      "198 S picks\n",
      "['NC', 'KRMB']\n",
      "[##################                      ] | 45% Completed | 12hr 59m"
     ]
    },
    {
     "name": "stderr",
     "output_type": "stream",
     "text": [
      "/tmp/ipykernel_4065716/2319557713.py:13: RuntimeWarning: All-NaN axis encountered\n",
      "  np.nanmax([stack[idx:idx + twin], _data[iseg+1, :]], axis = 0)\n",
      "WARNING:root:No stream returned. Skipping.\n"
     ]
    },
    {
     "name": "stdout",
     "output_type": "stream",
     "text": [
      "['7D', 'FS16B']\n",
      "[##################                      ] | 45% Completed | 13hr 0mmAll prediction shape: (2, 5, 3599, 6000)\n",
      "[##################                      ] | 45% Completed | 13hr 4m499 P picks\n",
      "518 S picks\n",
      "[##################                      ] | 45% Completed | 13hr 4m"
     ]
    },
    {
     "name": "stderr",
     "output_type": "stream",
     "text": [
      "/tmp/ipykernel_4065716/2319557713.py:13: RuntimeWarning: All-NaN axis encountered\n",
      "  np.nanmax([stack[idx:idx + twin], _data[iseg+1, :]], axis = 0)\n"
     ]
    },
    {
     "name": "stdout",
     "output_type": "stream",
     "text": [
      "['7D', 'M09B']\n",
      "[##################                      ] | 45% Completed | 13hr 4mAll prediction shape: (2, 5, 3599, 6000)\n",
      "[##################                      ] | 45% Completed | 13hr 8m490 P picks\n",
      "581 S picks\n"
     ]
    },
    {
     "name": "stderr",
     "output_type": "stream",
     "text": [
      "/tmp/ipykernel_4065716/2319557713.py:13: RuntimeWarning: All-NaN axis encountered\n",
      "  np.nanmax([stack[idx:idx + twin], _data[iseg+1, :]], axis = 0)\n"
     ]
    },
    {
     "name": "stdout",
     "output_type": "stream",
     "text": [
      "['NC', 'KMPB']\n",
      "[##################                      ] | 45% Completed | 13hr 8m"
     ]
    },
    {
     "name": "stderr",
     "output_type": "stream",
     "text": [
      "WARNING:root:No stream returned. Skipping.\n"
     ]
    },
    {
     "name": "stdout",
     "output_type": "stream",
     "text": [
      "['TA', 'J01E']\n",
      "[##################                      ] | 46% Completed | 13hr 8mAll prediction shape: (2, 5, 1150, 6000)\n",
      "[##################                      ] | 46% Completed | 13hr 9m29 P picks\n",
      "24 S picks\n",
      "['7D', 'M14B']\n",
      "[##################                      ] | 46% Completed | 13hr 9m"
     ]
    },
    {
     "name": "stderr",
     "output_type": "stream",
     "text": [
      "/tmp/ipykernel_4065716/2319557713.py:13: RuntimeWarning: All-NaN axis encountered\n",
      "  np.nanmax([stack[idx:idx + twin], _data[iseg+1, :]], axis = 0)\n"
     ]
    },
    {
     "name": "stdout",
     "output_type": "stream",
     "text": [
      "[##################                      ] | 46% Completed | 13hr 9mAll prediction shape: (2, 5, 1438, 6000)\n",
      "[##################                      ] | 46% Completed | 13hr 10m200 P picks\n",
      "80 S picks\n",
      "['7D', 'G17B']\n",
      "[##################                      ] | 46% Completed | 13hr 10m"
     ]
    },
    {
     "name": "stderr",
     "output_type": "stream",
     "text": [
      "/tmp/ipykernel_4065716/2319557713.py:13: RuntimeWarning: All-NaN axis encountered\n",
      "  np.nanmax([stack[idx:idx + twin], _data[iseg+1, :]], axis = 0)\n"
     ]
    },
    {
     "name": "stdout",
     "output_type": "stream",
     "text": [
      "[##################                      ] | 46% Completed | 13hr 10mAll prediction shape: (2, 5, 3599, 6000)\n",
      "[##################                      ] | 46% Completed | 13hr 14m603 P picks\n",
      "713 S picks\n"
     ]
    },
    {
     "name": "stderr",
     "output_type": "stream",
     "text": [
      "/tmp/ipykernel_4065716/2319557713.py:13: RuntimeWarning: All-NaN axis encountered\n",
      "  np.nanmax([stack[idx:idx + twin], _data[iseg+1, :]], axis = 0)\n"
     ]
    },
    {
     "name": "stdout",
     "output_type": "stream",
     "text": [
      "[##################                      ] | 46% Completed | 13hr 14m['7D', 'J33B']\n",
      "[##################                      ] | 46% Completed | 13hr 15mAll prediction shape: (2, 5, 3599, 6000)\n",
      "[##################                      ] | 46% Completed | 13hr 19m210 P picks\n",
      "429 S picks\n",
      "['NC', 'KHBB']\n",
      "[##################                      ] | 46% Completed | 13hr 19m"
     ]
    },
    {
     "name": "stderr",
     "output_type": "stream",
     "text": [
      "/tmp/ipykernel_4065716/2319557713.py:13: RuntimeWarning: All-NaN axis encountered\n",
      "  np.nanmax([stack[idx:idx + twin], _data[iseg+1, :]], axis = 0)\n",
      "WARNING:root:No stream returned. Skipping.\n"
     ]
    },
    {
     "name": "stdout",
     "output_type": "stream",
     "text": [
      "['7D', 'FS20B']\n",
      "[##################                      ] | 46% Completed | 13hr 19mAll prediction shape: (2, 5, 3598, 6000)\n",
      "[##################                      ] | 46% Completed | 13hr 23m209 P picks\n",
      "182 S picks\n",
      "['7D', 'G27B']\n",
      "[##################                      ] | 46% Completed | 13hr 23m"
     ]
    },
    {
     "name": "stderr",
     "output_type": "stream",
     "text": [
      "/tmp/ipykernel_4065716/2319557713.py:13: RuntimeWarning: All-NaN axis encountered\n",
      "  np.nanmax([stack[idx:idx + twin], _data[iseg+1, :]], axis = 0)\n"
     ]
    },
    {
     "name": "stdout",
     "output_type": "stream",
     "text": [
      "[##################                      ] | 46% Completed | 13hr 23mAll prediction shape: (2, 5, 1439, 6000)\n",
      "[##################                      ] | 46% Completed | 13hr 24m42 P picks\n",
      "18 S picks\n",
      "['7D', 'G17B']\n",
      "[##################                      ] | 46% Completed | 13hr 24m"
     ]
    },
    {
     "name": "stderr",
     "output_type": "stream",
     "text": [
      "/tmp/ipykernel_4065716/2319557713.py:13: RuntimeWarning: All-NaN axis encountered\n",
      "  np.nanmax([stack[idx:idx + twin], _data[iseg+1, :]], axis = 0)\n"
     ]
    },
    {
     "name": "stdout",
     "output_type": "stream",
     "text": [
      "[##################                      ] | 46% Completed | 13hr 24mAll prediction shape: (2, 5, 3598, 6000)\n",
      "[##################                      ] | 46% Completed | 13hr 29m491 P picks\n",
      "368 S picks\n"
     ]
    },
    {
     "name": "stderr",
     "output_type": "stream",
     "text": [
      "/tmp/ipykernel_4065716/2319557713.py:13: RuntimeWarning: All-NaN axis encountered\n",
      "  np.nanmax([stack[idx:idx + twin], _data[iseg+1, :]], axis = 0)\n"
     ]
    },
    {
     "name": "stdout",
     "output_type": "stream",
     "text": [
      "['UW', 'BABR']\n",
      "[##################                      ] | 46% Completed | 13hr 29mAll prediction shape: (2, 5, 1151, 6000)\n",
      "[##################                      ] | 46% Completed | 13hr 29m12 P picks\n",
      "4 S picks\n"
     ]
    },
    {
     "name": "stderr",
     "output_type": "stream",
     "text": [
      "/tmp/ipykernel_4065716/2319557713.py:13: RuntimeWarning: All-NaN axis encountered\n",
      "  np.nanmax([stack[idx:idx + twin], _data[iseg+1, :]], axis = 0)\n",
      "WARNING:root:No stream returned. Skipping.\n"
     ]
    },
    {
     "name": "stdout",
     "output_type": "stream",
     "text": [
      "['NC', 'KOM']\n",
      "['7D', 'J25B']\n",
      "[##################                      ] | 47% Completed | 13hr 30mAll prediction shape: (2, 5, 3599, 6000)\n",
      "[##################                      ] | 47% Completed | 13hr 34m596 P picks\n",
      "592 S picks\n"
     ]
    },
    {
     "name": "stderr",
     "output_type": "stream",
     "text": [
      "/tmp/ipykernel_4065716/2319557713.py:13: RuntimeWarning: All-NaN axis encountered\n",
      "  np.nanmax([stack[idx:idx + twin], _data[iseg+1, :]], axis = 0)\n"
     ]
    },
    {
     "name": "stdout",
     "output_type": "stream",
     "text": [
      "['7D', 'FS20B']\n",
      "[##################                      ] | 47% Completed | 13hr 34mAll prediction shape: (2, 5, 3598, 6000)\n",
      "[##################                      ] | 47% Completed | 13hr 38m179 P picks\n",
      "113 S picks\n"
     ]
    },
    {
     "name": "stderr",
     "output_type": "stream",
     "text": [
      "/tmp/ipykernel_4065716/2319557713.py:13: RuntimeWarning: All-NaN axis encountered\n",
      "  np.nanmax([stack[idx:idx + twin], _data[iseg+1, :]], axis = 0)\n"
     ]
    },
    {
     "name": "stdout",
     "output_type": "stream",
     "text": [
      "['7D', 'G26B']\n",
      "[##################                      ] | 47% Completed | 13hr 39mAll prediction shape: (2, 5, 3598, 6000)\n",
      "[##################                      ] | 47% Completed | 13hr 43m56 P picks\n",
      "66 S picks\n",
      "['NC', 'KBO']\n",
      "[##################                      ] | 47% Completed | 13hr 43m"
     ]
    },
    {
     "name": "stderr",
     "output_type": "stream",
     "text": [
      "/tmp/ipykernel_4065716/2319557713.py:13: RuntimeWarning: All-NaN axis encountered\n",
      "  np.nanmax([stack[idx:idx + twin], _data[iseg+1, :]], axis = 0)\n",
      "WARNING:root:No stream returned. Skipping.\n"
     ]
    },
    {
     "name": "stdout",
     "output_type": "stream",
     "text": [
      "\r",
      "[##################                      ] | 47% Completed | 13hr 43m"
     ]
    },
    {
     "name": "stderr",
     "output_type": "stream",
     "text": [
      "WARNING:root:No stream returned. Skipping.\n"
     ]
    },
    {
     "name": "stdout",
     "output_type": "stream",
     "text": [
      "['NC', 'KHMB']\n",
      "['NC', 'KMPB']\n"
     ]
    },
    {
     "name": "stderr",
     "output_type": "stream",
     "text": [
      "WARNING:root:No stream returned. Skipping.\n"
     ]
    },
    {
     "name": "stdout",
     "output_type": "stream",
     "text": [
      "['7D', 'G27B']\n",
      "[###################                     ] | 47% Completed | 13hr 43mAll prediction shape: (2, 5, 1439, 6000)\n",
      "[###################                     ] | 47% Completed | 13hr 44m69 P picks\n",
      "29 S picks\n",
      "['7D', 'J33B']\n",
      "[###################                     ] | 47% Completed | 13hr 44m"
     ]
    },
    {
     "name": "stderr",
     "output_type": "stream",
     "text": [
      "/tmp/ipykernel_4065716/2319557713.py:13: RuntimeWarning: All-NaN axis encountered\n",
      "  np.nanmax([stack[idx:idx + twin], _data[iseg+1, :]], axis = 0)\n"
     ]
    },
    {
     "name": "stdout",
     "output_type": "stream",
     "text": [
      "[###################                     ] | 47% Completed | 13hr 44mAll prediction shape: (2, 5, 3599, 6000)\n",
      "[###################                     ] | 47% Completed | 13hr 48m196 P picks\n",
      "394 S picks\n"
     ]
    },
    {
     "name": "stderr",
     "output_type": "stream",
     "text": [
      "/tmp/ipykernel_4065716/2319557713.py:13: RuntimeWarning: All-NaN axis encountered\n",
      "  np.nanmax([stack[idx:idx + twin], _data[iseg+1, :]], axis = 0)\n"
     ]
    },
    {
     "name": "stdout",
     "output_type": "stream",
     "text": [
      "['NC', 'KOM']\n",
      "[###################                     ] | 48% Completed | 13hr 48m"
     ]
    },
    {
     "name": "stderr",
     "output_type": "stream",
     "text": [
      "WARNING:root:No stream returned. Skipping.\n",
      "WARNING:root:No stream returned. Skipping.\n"
     ]
    },
    {
     "name": "stdout",
     "output_type": "stream",
     "text": [
      "['NC', 'KOM']\n",
      "['NC', 'KSXB']\n",
      "[###################                     ] | 48% Completed | 13hr 48m"
     ]
    },
    {
     "name": "stderr",
     "output_type": "stream",
     "text": [
      "WARNING:root:No stream returned. Skipping.\n",
      "WARNING:root:No stream returned. Skipping.\n"
     ]
    },
    {
     "name": "stdout",
     "output_type": "stream",
     "text": [
      "['NC', 'KRMB']\n",
      "['NC', 'KRMB']\n",
      "[###################                     ] | 48% Completed | 13hr 48m"
     ]
    },
    {
     "name": "stderr",
     "output_type": "stream",
     "text": [
      "WARNING:root:No stream returned. Skipping.\n"
     ]
    },
    {
     "name": "stdout",
     "output_type": "stream",
     "text": [
      "['7D', 'J09B']\n",
      "[###################                     ] | 48% Completed | 13hr 48mAll prediction shape: (2, 5, 1439, 6000)\n",
      "[###################                     ] | 48% Completed | 13hr 49m99 P picks\n",
      "24 S picks\n",
      "['NC', 'KOM']\n",
      "[###################                     ] | 48% Completed | 13hr 49m"
     ]
    },
    {
     "name": "stderr",
     "output_type": "stream",
     "text": [
      "/tmp/ipykernel_4065716/2319557713.py:13: RuntimeWarning: All-NaN axis encountered\n",
      "  np.nanmax([stack[idx:idx + twin], _data[iseg+1, :]], axis = 0)\n",
      "WARNING:root:No stream returned. Skipping.\n",
      "WARNING:root:No stream returned. Skipping.\n"
     ]
    },
    {
     "name": "stdout",
     "output_type": "stream",
     "text": [
      "['NC', 'KBO']\n",
      "['7D', 'M12B']\n",
      "[###################                     ] | 48% Completed | 13hr 49mAll prediction shape: (2, 5, 1439, 6000)\n",
      "[###################                     ] | 48% Completed | 13hr 50m204 P picks\n",
      "62 S picks\n",
      "['7D', 'FS09B']\n",
      "[###################                     ] | 49% Completed | 13hr 50m"
     ]
    },
    {
     "name": "stderr",
     "output_type": "stream",
     "text": [
      "/tmp/ipykernel_4065716/2319557713.py:13: RuntimeWarning: All-NaN axis encountered\n",
      "  np.nanmax([stack[idx:idx + twin], _data[iseg+1, :]], axis = 0)\n"
     ]
    },
    {
     "name": "stdout",
     "output_type": "stream",
     "text": [
      "[###################                     ] | 49% Completed | 13hr 50mAll prediction shape: (2, 5, 1439, 6000)\n",
      "[###################                     ] | 49% Completed | 13hr 51m137 P picks\n",
      "111 S picks\n"
     ]
    },
    {
     "name": "stderr",
     "output_type": "stream",
     "text": [
      "/tmp/ipykernel_4065716/2319557713.py:13: RuntimeWarning: All-NaN axis encountered\n",
      "  np.nanmax([stack[idx:idx + twin], _data[iseg+1, :]], axis = 0)\n",
      "WARNING:root:No stream returned. Skipping.\n"
     ]
    },
    {
     "name": "stdout",
     "output_type": "stream",
     "text": [
      "['NC', 'KSXB']\n",
      "['NC', 'KHMB']\n",
      "[###################                     ] | 49% Completed | 13hr 51m"
     ]
    },
    {
     "name": "stderr",
     "output_type": "stream",
     "text": [
      "WARNING:root:No stream returned. Skipping.\n"
     ]
    },
    {
     "name": "stdout",
     "output_type": "stream",
     "text": [
      "['7D', 'FS13B']\n",
      "[###################                     ] | 49% Completed | 13hr 51mAll prediction shape: (2, 5, 3599, 6000)\n",
      "[###################                     ] | 49% Completed | 13hr 55m533 P picks\n",
      "261 S picks\n"
     ]
    },
    {
     "name": "stderr",
     "output_type": "stream",
     "text": [
      "/tmp/ipykernel_4065716/2319557713.py:13: RuntimeWarning: All-NaN axis encountered\n",
      "  np.nanmax([stack[idx:idx + twin], _data[iseg+1, :]], axis = 0)\n"
     ]
    },
    {
     "name": "stdout",
     "output_type": "stream",
     "text": [
      "['7D', 'FS16B']\n",
      "[###################                     ] | 49% Completed | 13hr 56mAll prediction shape: (2, 5, 3599, 6000)\n",
      "[###################                     ] | 49% Completed | 14hr 0mm369 P picks\n",
      "326 S picks\n",
      "['7D', 'G27B']\n",
      "[###################                     ] | 49% Completed | 14hr 0m"
     ]
    },
    {
     "name": "stderr",
     "output_type": "stream",
     "text": [
      "/tmp/ipykernel_4065716/2319557713.py:13: RuntimeWarning: All-NaN axis encountered\n",
      "  np.nanmax([stack[idx:idx + twin], _data[iseg+1, :]], axis = 0)\n"
     ]
    },
    {
     "name": "stdout",
     "output_type": "stream",
     "text": [
      "[###################                     ] | 49% Completed | 14hr 0mAll prediction shape: (2, 5, 1282, 6000)\n",
      "[###################                     ] | 49% Completed | 14hr 1m25 P picks\n",
      "14 S picks\n",
      "['7D', 'G25B']\n",
      "[###################                     ] | 49% Completed | 14hr 1m"
     ]
    },
    {
     "name": "stderr",
     "output_type": "stream",
     "text": [
      "/tmp/ipykernel_4065716/2319557713.py:13: RuntimeWarning: All-NaN axis encountered\n",
      "  np.nanmax([stack[idx:idx + twin], _data[iseg+1, :]], axis = 0)\n"
     ]
    },
    {
     "name": "stdout",
     "output_type": "stream",
     "text": [
      "[###################                     ] | 49% Completed | 14hr 1mAll prediction shape: (2, 5, 3599, 6000)\n",
      "[###################                     ] | 49% Completed | 14hr 5m384 P picks\n",
      "195 S picks\n"
     ]
    },
    {
     "name": "stderr",
     "output_type": "stream",
     "text": [
      "/tmp/ipykernel_4065716/2319557713.py:13: RuntimeWarning: All-NaN axis encountered\n",
      "  np.nanmax([stack[idx:idx + twin], _data[iseg+1, :]], axis = 0)\n"
     ]
    },
    {
     "name": "stdout",
     "output_type": "stream",
     "text": [
      "['7D', 'G27B']\n",
      "[###################                     ] | 49% Completed | 14hr 5mAll prediction shape: (2, 5, 1438, 6000)\n",
      "[###################                     ] | 49% Completed | 14hr 6m63 P picks\n",
      "48 S picks\n"
     ]
    },
    {
     "name": "stderr",
     "output_type": "stream",
     "text": [
      "/tmp/ipykernel_4065716/2319557713.py:13: RuntimeWarning: All-NaN axis encountered\n",
      "  np.nanmax([stack[idx:idx + twin], _data[iseg+1, :]], axis = 0)\n",
      "WARNING:root:No stream returned. Skipping.\n"
     ]
    },
    {
     "name": "stdout",
     "output_type": "stream",
     "text": [
      "['BK', 'JCC']\n",
      "['7D', 'G25B']\n",
      "[####################                    ] | 50% Completed | 14hr 6mAll prediction shape: (2, 5, 3599, 6000)\n",
      "[####################                    ] | 50% Completed | 14hr 11m536 P picks\n",
      "244 S picks\n",
      "['7D', 'FS17B']\n",
      "[####################                    ] | 50% Completed | 14hr 11m"
     ]
    },
    {
     "name": "stderr",
     "output_type": "stream",
     "text": [
      "/tmp/ipykernel_4065716/2319557713.py:13: RuntimeWarning: All-NaN axis encountered\n",
      "  np.nanmax([stack[idx:idx + twin], _data[iseg+1, :]], axis = 0)\n"
     ]
    },
    {
     "name": "stdout",
     "output_type": "stream",
     "text": [
      "[####################                    ] | 50% Completed | 14hr 11mAll prediction shape: (2, 5, 3598, 6000)\n",
      "[####################                    ] | 50% Completed | 14hr 15m378 P picks\n",
      "159 S picks\n",
      "['7D', 'FS16B']\n",
      "[####################                    ] | 50% Completed | 14hr 15m"
     ]
    },
    {
     "name": "stderr",
     "output_type": "stream",
     "text": [
      "/tmp/ipykernel_4065716/2319557713.py:13: RuntimeWarning: All-NaN axis encountered\n",
      "  np.nanmax([stack[idx:idx + twin], _data[iseg+1, :]], axis = 0)\n"
     ]
    },
    {
     "name": "stdout",
     "output_type": "stream",
     "text": [
      "[####################                    ] | 50% Completed | 14hr 15mAll prediction shape: (2, 5, 3598, 6000)\n",
      "[####################                    ] | 50% Completed | 14hr 20m459 P picks\n",
      "524 S picks\n"
     ]
    },
    {
     "name": "stderr",
     "output_type": "stream",
     "text": [
      "/tmp/ipykernel_4065716/2319557713.py:13: RuntimeWarning: All-NaN axis encountered\n",
      "  np.nanmax([stack[idx:idx + twin], _data[iseg+1, :]], axis = 0)\n"
     ]
    },
    {
     "name": "stdout",
     "output_type": "stream",
     "text": [
      "['7D', 'G27B']\n",
      "[####################                    ] | 50% Completed | 14hr 20mAll prediction shape: (2, 5, 1439, 6000)\n",
      "[####################                    ] | 50% Completed | 14hr 21m57 P picks\n",
      "34 S picks\n",
      "['7D', 'J09B']\n",
      "[####################                    ] | 50% Completed | 14hr 21m"
     ]
    },
    {
     "name": "stderr",
     "output_type": "stream",
     "text": [
      "/tmp/ipykernel_4065716/2319557713.py:13: RuntimeWarning: All-NaN axis encountered\n",
      "  np.nanmax([stack[idx:idx + twin], _data[iseg+1, :]], axis = 0)\n"
     ]
    },
    {
     "name": "stdout",
     "output_type": "stream",
     "text": [
      "[####################                    ] | 50% Completed | 14hr 21mAll prediction shape: (2, 5, 1439, 6000)\n",
      "[####################                    ] | 50% Completed | 14hr 21m134 P picks\n",
      "38 S picks\n",
      "['7D', 'G17B']\n",
      "[####################                    ] | 50% Completed | 14hr 21m"
     ]
    },
    {
     "name": "stderr",
     "output_type": "stream",
     "text": [
      "/tmp/ipykernel_4065716/2319557713.py:13: RuntimeWarning: All-NaN axis encountered\n",
      "  np.nanmax([stack[idx:idx + twin], _data[iseg+1, :]], axis = 0)\n"
     ]
    },
    {
     "name": "stdout",
     "output_type": "stream",
     "text": [
      "[####################                    ] | 50% Completed | 14hr 22mAll prediction shape: (2, 5, 3599, 6000)\n",
      "[####################                    ] | 50% Completed | 14hr 26m602 P picks\n",
      "726 S picks\n"
     ]
    },
    {
     "name": "stderr",
     "output_type": "stream",
     "text": [
      "/tmp/ipykernel_4065716/2319557713.py:13: RuntimeWarning: All-NaN axis encountered\n",
      "  np.nanmax([stack[idx:idx + twin], _data[iseg+1, :]], axis = 0)\n"
     ]
    },
    {
     "name": "stdout",
     "output_type": "stream",
     "text": [
      "['7D', 'G19B']\n",
      "[####################                    ] | 50% Completed | 14hr 26mAll prediction shape: (2, 5, 1439, 6000)\n",
      "[####################                    ] | 50% Completed | 14hr 27m47 P picks\n",
      "17 S picks\n",
      "['NC', 'KMPB']\n",
      "[####################                    ] | 50% Completed | 14hr 27m"
     ]
    },
    {
     "name": "stderr",
     "output_type": "stream",
     "text": [
      "/tmp/ipykernel_4065716/2319557713.py:13: RuntimeWarning: All-NaN axis encountered\n",
      "  np.nanmax([stack[idx:idx + twin], _data[iseg+1, :]], axis = 0)\n",
      "WARNING:root:No stream returned. Skipping.\n",
      "WARNING:root:No stream returned. Skipping.\n"
     ]
    },
    {
     "name": "stdout",
     "output_type": "stream",
     "text": [
      "['NC', 'KEB']\n",
      "['7D', 'J33B']\n",
      "[####################                    ] | 51% Completed | 14hr 27mAll prediction shape: (2, 5, 3599, 6000)\n",
      "[####################                    ] | 51% Completed | 14hr 31m198 P picks\n",
      "435 S picks\n",
      "['7D', 'FS17B']\n",
      "[####################                    ] | 51% Completed | 14hr 31m"
     ]
    },
    {
     "name": "stderr",
     "output_type": "stream",
     "text": [
      "/tmp/ipykernel_4065716/2319557713.py:13: RuntimeWarning: All-NaN axis encountered\n",
      "  np.nanmax([stack[idx:idx + twin], _data[iseg+1, :]], axis = 0)\n"
     ]
    },
    {
     "name": "stdout",
     "output_type": "stream",
     "text": [
      "[####################                    ] | 51% Completed | 14hr 32mAll prediction shape: (2, 5, 3599, 6000)\n",
      "[####################                    ] | 51% Completed | 14hr 36m484 P picks\n",
      "132 S picks\n"
     ]
    },
    {
     "name": "stderr",
     "output_type": "stream",
     "text": [
      "/tmp/ipykernel_4065716/2319557713.py:13: RuntimeWarning: All-NaN axis encountered\n",
      "  np.nanmax([stack[idx:idx + twin], _data[iseg+1, :]], axis = 0)\n"
     ]
    },
    {
     "name": "stdout",
     "output_type": "stream",
     "text": [
      "['7D', 'FS16B']\n",
      "[####################                    ] | 51% Completed | 14hr 36mAll prediction shape: (2, 5, 3599, 6000)\n",
      "[####################                    ] | 51% Completed | 14hr 40m457 P picks\n",
      "425 S picks\n"
     ]
    },
    {
     "name": "stderr",
     "output_type": "stream",
     "text": [
      "/tmp/ipykernel_4065716/2319557713.py:13: RuntimeWarning: All-NaN axis encountered\n",
      "  np.nanmax([stack[idx:idx + twin], _data[iseg+1, :]], axis = 0)\n"
     ]
    },
    {
     "name": "stdout",
     "output_type": "stream",
     "text": [
      "['7D', 'J09B']\n",
      "[####################                    ] | 51% Completed | 14hr 40mAll prediction shape: (2, 5, 1439, 6000)\n",
      "[####################                    ] | 51% Completed | 14hr 41m89 P picks\n",
      "16 S picks\n",
      "['7D', 'FS13B']\n",
      "[####################                    ] | 51% Completed | 14hr 41m"
     ]
    },
    {
     "name": "stderr",
     "output_type": "stream",
     "text": [
      "/tmp/ipykernel_4065716/2319557713.py:13: RuntimeWarning: All-NaN axis encountered\n",
      "  np.nanmax([stack[idx:idx + twin], _data[iseg+1, :]], axis = 0)\n"
     ]
    },
    {
     "name": "stdout",
     "output_type": "stream",
     "text": [
      "[####################                    ] | 51% Completed | 14hr 42mAll prediction shape: (2, 5, 3599, 6000)\n",
      "[####################                    ] | 51% Completed | 14hr 46m423 P picks\n",
      "270 S picks\n"
     ]
    },
    {
     "name": "stderr",
     "output_type": "stream",
     "text": [
      "/tmp/ipykernel_4065716/2319557713.py:13: RuntimeWarning: All-NaN axis encountered\n",
      "  np.nanmax([stack[idx:idx + twin], _data[iseg+1, :]], axis = 0)\n"
     ]
    },
    {
     "name": "stdout",
     "output_type": "stream",
     "text": [
      "['7D', 'J25B']\n",
      "[####################                    ] | 51% Completed | 14hr 46mAll prediction shape: (2, 5, 3599, 6000)\n",
      "[####################                    ] | 51% Completed | 14hr 50m441 P picks\n",
      "491 S picks\n"
     ]
    },
    {
     "name": "stderr",
     "output_type": "stream",
     "text": [
      "/tmp/ipykernel_4065716/2319557713.py:13: RuntimeWarning: All-NaN axis encountered\n",
      "  np.nanmax([stack[idx:idx + twin], _data[iseg+1, :]], axis = 0)\n"
     ]
    },
    {
     "name": "stdout",
     "output_type": "stream",
     "text": [
      "['7D', 'G17B']\n",
      "[####################                    ] | 51% Completed | 14hr 50mAll prediction shape: (2, 5, 3599, 6000)\n",
      "[####################                    ] | 51% Completed | 14hr 55m490 P picks\n",
      "324 S picks\n",
      "[####################                    ] | 51% Completed | 14hr 55m"
     ]
    },
    {
     "name": "stderr",
     "output_type": "stream",
     "text": [
      "/tmp/ipykernel_4065716/2319557713.py:13: RuntimeWarning: All-NaN axis encountered\n",
      "  np.nanmax([stack[idx:idx + twin], _data[iseg+1, :]], axis = 0)\n"
     ]
    },
    {
     "name": "stdout",
     "output_type": "stream",
     "text": [
      "['7D', 'J33B']\n",
      "[####################                    ] | 51% Completed | 14hr 55mAll prediction shape: (2, 5, 3599, 6000)\n",
      "[####################                    ] | 51% Completed | 14hr 59m241 P picks\n",
      "479 S picks\n"
     ]
    },
    {
     "name": "stderr",
     "output_type": "stream",
     "text": [
      "/tmp/ipykernel_4065716/2319557713.py:13: RuntimeWarning: All-NaN axis encountered\n",
      "  np.nanmax([stack[idx:idx + twin], _data[iseg+1, :]], axis = 0)\n"
     ]
    },
    {
     "name": "stdout",
     "output_type": "stream",
     "text": [
      "['7D', 'FS17B']\n",
      "[####################                    ] | 51% Completed | 14hr 59mAll prediction shape: (2, 5, 3599, 6000)\n",
      "[####################                    ] | 51% Completed | 15hr 4mm"
     ]
    },
    {
     "name": "stderr",
     "output_type": "stream",
     "text": [
      "/tmp/ipykernel_4065716/2319557713.py:13: RuntimeWarning: All-NaN axis encountered\n",
      "  np.nanmax([stack[idx:idx + twin], _data[iseg+1, :]], axis = 0)\n"
     ]
    },
    {
     "name": "stdout",
     "output_type": "stream",
     "text": [
      "473 P picks\n",
      "209 S picks\n",
      "['7D', 'FS20B']\n",
      "[####################                    ] | 52% Completed | 15hr 4mAll prediction shape: (2, 5, 3598, 6000)\n",
      "[####################                    ] | 52% Completed | 15hr 8m179 P picks\n",
      "164 S picks\n"
     ]
    },
    {
     "name": "stderr",
     "output_type": "stream",
     "text": [
      "/tmp/ipykernel_4065716/2319557713.py:13: RuntimeWarning: All-NaN axis encountered\n",
      "  np.nanmax([stack[idx:idx + twin], _data[iseg+1, :]], axis = 0)\n",
      "WARNING:root:No stream returned. Skipping.\n"
     ]
    },
    {
     "name": "stdout",
     "output_type": "stream",
     "text": [
      "['NC', 'KBO']\n",
      "['7D', 'G17B']\n",
      "[####################                    ] | 52% Completed | 15hr 8mAll prediction shape: (2, 5, 3599, 6000)\n",
      "[####################                    ] | 52% Completed | 15hr 13m589 P picks\n",
      "729 S picks\n"
     ]
    },
    {
     "name": "stderr",
     "output_type": "stream",
     "text": [
      "/tmp/ipykernel_4065716/2319557713.py:13: RuntimeWarning: All-NaN axis encountered\n",
      "  np.nanmax([stack[idx:idx + twin], _data[iseg+1, :]], axis = 0)\n"
     ]
    },
    {
     "name": "stdout",
     "output_type": "stream",
     "text": [
      "['7D', 'J09B']\n",
      "[####################                    ] | 52% Completed | 15hr 13mAll prediction shape: (2, 5, 1439, 6000)\n",
      "[####################                    ] | 52% Completed | 15hr 13m129 P picks\n",
      "29 S picks\n",
      "['7D', 'J25B']\n",
      "[#####################                   ] | 52% Completed | 15hr 13m"
     ]
    },
    {
     "name": "stderr",
     "output_type": "stream",
     "text": [
      "/tmp/ipykernel_4065716/2319557713.py:13: RuntimeWarning: All-NaN axis encountered\n",
      "  np.nanmax([stack[idx:idx + twin], _data[iseg+1, :]], axis = 0)\n"
     ]
    },
    {
     "name": "stdout",
     "output_type": "stream",
     "text": [
      "[#####################                   ] | 52% Completed | 15hr 14mAll prediction shape: (2, 5, 3599, 6000)\n",
      "[#####################                   ] | 52% Completed | 15hr 18m498 P picks\n",
      "763 S picks\n",
      "[#####################                   ] | 52% Completed | 15hr 18m"
     ]
    },
    {
     "name": "stderr",
     "output_type": "stream",
     "text": [
      "/tmp/ipykernel_4065716/2319557713.py:13: RuntimeWarning: All-NaN axis encountered\n",
      "  np.nanmax([stack[idx:idx + twin], _data[iseg+1, :]], axis = 0)\n"
     ]
    },
    {
     "name": "stdout",
     "output_type": "stream",
     "text": [
      "['7D', 'M12B']\n",
      "[#####################                   ] | 52% Completed | 15hr 18mAll prediction shape: (2, 5, 1439, 6000)\n",
      "[#####################                   ] | 52% Completed | 15hr 19m146 P picks\n",
      "50 S picks\n",
      "['7D', 'M09B']\n",
      "[#####################                   ] | 52% Completed | 15hr 19m"
     ]
    },
    {
     "name": "stderr",
     "output_type": "stream",
     "text": [
      "/tmp/ipykernel_4065716/2319557713.py:13: RuntimeWarning: All-NaN axis encountered\n",
      "  np.nanmax([stack[idx:idx + twin], _data[iseg+1, :]], axis = 0)\n"
     ]
    },
    {
     "name": "stdout",
     "output_type": "stream",
     "text": [
      "[#####################                   ] | 52% Completed | 15hr 19mAll prediction shape: (2, 5, 3599, 6000)\n",
      "[#####################                   ] | 52% Completed | 15hr 23m439 P picks\n",
      "447 S picks\n",
      "['7D', 'M09B']\n",
      "[#####################                   ] | 52% Completed | 15hr 23m"
     ]
    },
    {
     "name": "stderr",
     "output_type": "stream",
     "text": [
      "/tmp/ipykernel_4065716/2319557713.py:13: RuntimeWarning: All-NaN axis encountered\n",
      "  np.nanmax([stack[idx:idx + twin], _data[iseg+1, :]], axis = 0)\n"
     ]
    },
    {
     "name": "stdout",
     "output_type": "stream",
     "text": [
      "[#####################                   ] | 52% Completed | 15hr 24mAll prediction shape: (2, 5, 3599, 6000)\n",
      "[#####################                   ] | 52% Completed | 15hr 28m494 P picks\n",
      "547 S picks\n",
      "[#####################                   ] | 52% Completed | 15hr 28m"
     ]
    },
    {
     "name": "stderr",
     "output_type": "stream",
     "text": [
      "/tmp/ipykernel_4065716/2319557713.py:13: RuntimeWarning: All-NaN axis encountered\n",
      "  np.nanmax([stack[idx:idx + twin], _data[iseg+1, :]], axis = 0)\n"
     ]
    },
    {
     "name": "stdout",
     "output_type": "stream",
     "text": [
      "['7D', 'G26B']\n",
      "[#####################                   ] | 52% Completed | 15hr 28mAll prediction shape: (2, 5, 3598, 6000)\n",
      "[#####################                   ] | 52% Completed | 15hr 32m36 P picks\n",
      "29 S picks\n"
     ]
    },
    {
     "name": "stderr",
     "output_type": "stream",
     "text": [
      "/tmp/ipykernel_4065716/2319557713.py:13: RuntimeWarning: All-NaN axis encountered\n",
      "  np.nanmax([stack[idx:idx + twin], _data[iseg+1, :]], axis = 0)\n"
     ]
    },
    {
     "name": "stdout",
     "output_type": "stream",
     "text": [
      "['7D', 'G27B']\n",
      "[#####################                   ] | 53% Completed | 15hr 32mAll prediction shape: (2, 5, 1439, 6000)\n",
      "[#####################                   ] | 53% Completed | 15hr 33m69 P picks\n",
      "35 S picks\n",
      "['TA', 'J01E']\n",
      "[#####################                   ] | 53% Completed | 15hr 33m"
     ]
    },
    {
     "name": "stderr",
     "output_type": "stream",
     "text": [
      "/tmp/ipykernel_4065716/2319557713.py:13: RuntimeWarning: All-NaN axis encountered\n",
      "  np.nanmax([stack[idx:idx + twin], _data[iseg+1, :]], axis = 0)\n"
     ]
    },
    {
     "name": "stdout",
     "output_type": "stream",
     "text": [
      "[#####################                   ] | 53% Completed | 15hr 33mAll prediction shape: (2, 5, 1151, 6000)\n",
      "[#####################                   ] | 53% Completed | 15hr 34m34 P picks\n",
      "16 S picks\n",
      "['BK', 'JCC']\n",
      "[#####################                   ] | 53% Completed | 15hr 34m"
     ]
    },
    {
     "name": "stderr",
     "output_type": "stream",
     "text": [
      "/tmp/ipykernel_4065716/2319557713.py:13: RuntimeWarning: All-NaN axis encountered\n",
      "  np.nanmax([stack[idx:idx + twin], _data[iseg+1, :]], axis = 0)\n",
      "WARNING:root:No stream returned. Skipping.\n"
     ]
    },
    {
     "name": "stdout",
     "output_type": "stream",
     "text": [
      "['7D', 'G17B']\n",
      "[#####################                   ] | 53% Completed | 15hr 34mAll prediction shape: (2, 5, 3598, 6000)\n",
      "[#####################                   ] | 53% Completed | 15hr 38m699 P picks\n",
      "451 S picks\n"
     ]
    },
    {
     "name": "stderr",
     "output_type": "stream",
     "text": [
      "/tmp/ipykernel_4065716/2319557713.py:13: RuntimeWarning: All-NaN axis encountered\n",
      "  np.nanmax([stack[idx:idx + twin], _data[iseg+1, :]], axis = 0)\n"
     ]
    },
    {
     "name": "stdout",
     "output_type": "stream",
     "text": [
      "['NC', 'KHBB']\n",
      "\r",
      "[#####################                   ] | 53% Completed | 15hr 38m"
     ]
    },
    {
     "name": "stderr",
     "output_type": "stream",
     "text": [
      "WARNING:root:No stream returned. Skipping.\n",
      "WARNING:root:No stream returned. Skipping.\n"
     ]
    },
    {
     "name": "stdout",
     "output_type": "stream",
     "text": [
      "['NC', 'KEB']\n",
      "['7D', 'FS20B']\n",
      "[#####################                   ] | 53% Completed | 15hr 39mAll prediction shape: (2, 5, 3599, 6000)\n",
      "[#####################                   ] | 53% Completed | 15hr 43m146 P picks\n",
      "116 S picks\n"
     ]
    },
    {
     "name": "stderr",
     "output_type": "stream",
     "text": [
      "/tmp/ipykernel_4065716/2319557713.py:13: RuntimeWarning: All-NaN axis encountered\n",
      "  np.nanmax([stack[idx:idx + twin], _data[iseg+1, :]], axis = 0)\n"
     ]
    },
    {
     "name": "stdout",
     "output_type": "stream",
     "text": [
      "['UW', 'BABR']\n",
      "[#####################                   ] | 53% Completed | 15hr 43mAll prediction shape: (2, 5, 1151, 6000)\n",
      "[#####################                   ] | 53% Completed | 15hr 43m10 P picks\n",
      "2 S picks\n",
      "['7D', 'G19B']\n",
      "[#####################                   ] | 53% Completed | 15hr 43m"
     ]
    },
    {
     "name": "stderr",
     "output_type": "stream",
     "text": [
      "/tmp/ipykernel_4065716/2319557713.py:13: RuntimeWarning: All-NaN axis encountered\n",
      "  np.nanmax([stack[idx:idx + twin], _data[iseg+1, :]], axis = 0)\n"
     ]
    },
    {
     "name": "stdout",
     "output_type": "stream",
     "text": [
      "[#####################                   ] | 53% Completed | 15hr 44mAll prediction shape: (2, 5, 1439, 6000)\n",
      "[#####################                   ] | 53% Completed | 15hr 44m16 P picks\n",
      "22 S picks\n",
      "['7D', 'M09B']\n",
      "[#####################                   ] | 54% Completed | 15hr 44m"
     ]
    },
    {
     "name": "stderr",
     "output_type": "stream",
     "text": [
      "/tmp/ipykernel_4065716/2319557713.py:13: RuntimeWarning: All-NaN axis encountered\n",
      "  np.nanmax([stack[idx:idx + twin], _data[iseg+1, :]], axis = 0)\n"
     ]
    },
    {
     "name": "stdout",
     "output_type": "stream",
     "text": [
      "[#####################                   ] | 54% Completed | 15hr 45mAll prediction shape: (2, 5, 3599, 6000)\n",
      "[#####################                   ] | 54% Completed | 15hr 49m417 P picks\n",
      "462 S picks\n"
     ]
    },
    {
     "name": "stderr",
     "output_type": "stream",
     "text": [
      "/tmp/ipykernel_4065716/2319557713.py:13: RuntimeWarning: All-NaN axis encountered\n",
      "  np.nanmax([stack[idx:idx + twin], _data[iseg+1, :]], axis = 0)\n"
     ]
    },
    {
     "name": "stdout",
     "output_type": "stream",
     "text": [
      "['7D', 'M12B']\n",
      "[#####################                   ] | 54% Completed | 15hr 49mAll prediction shape: (2, 5, 1439, 6000)\n",
      "[#####################                   ] | 54% Completed | 15hr 50m200 P picks\n",
      "66 S picks\n",
      "['7D', 'G10B']\n",
      "[#####################                   ] | 54% Completed | 15hr 50m"
     ]
    },
    {
     "name": "stderr",
     "output_type": "stream",
     "text": [
      "/tmp/ipykernel_4065716/2319557713.py:13: RuntimeWarning: All-NaN axis encountered\n",
      "  np.nanmax([stack[idx:idx + twin], _data[iseg+1, :]], axis = 0)\n"
     ]
    },
    {
     "name": "stdout",
     "output_type": "stream",
     "text": [
      "[#####################                   ] | 54% Completed | 15hr 50mAll prediction shape: (2, 5, 1439, 6000)\n",
      "[#####################                   ] | 54% Completed | 15hr 51m67 P picks\n",
      "60 S picks\n",
      "['NC', 'KHBB']\n",
      "[#####################                   ] | 54% Completed | 15hr 51m"
     ]
    },
    {
     "name": "stderr",
     "output_type": "stream",
     "text": [
      "/tmp/ipykernel_4065716/2319557713.py:13: RuntimeWarning: All-NaN axis encountered\n",
      "  np.nanmax([stack[idx:idx + twin], _data[iseg+1, :]], axis = 0)\n",
      "WARNING:root:No stream returned. Skipping.\n",
      "WARNING:root:No stream returned. Skipping.\n"
     ]
    },
    {
     "name": "stdout",
     "output_type": "stream",
     "text": [
      "['NC', 'KBO']\n",
      "['7D', 'FS17B']\n",
      "[#####################                   ] | 54% Completed | 15hr 51mAll prediction shape: (2, 5, 3598, 6000)\n",
      "[#####################                   ] | 54% Completed | 15hr 55m438 P picks\n",
      "164 S picks\n"
     ]
    },
    {
     "name": "stderr",
     "output_type": "stream",
     "text": [
      "/tmp/ipykernel_4065716/2319557713.py:13: RuntimeWarning: All-NaN axis encountered\n",
      "  np.nanmax([stack[idx:idx + twin], _data[iseg+1, :]], axis = 0)\n"
     ]
    },
    {
     "name": "stdout",
     "output_type": "stream",
     "text": [
      "['NC', 'KOM']\n",
      "\r",
      "[#####################                   ] | 54% Completed | 15hr 55m"
     ]
    },
    {
     "name": "stderr",
     "output_type": "stream",
     "text": [
      "WARNING:root:No stream returned. Skipping.\n",
      "WARNING:root:No stream returned. Skipping.\n"
     ]
    },
    {
     "name": "stdout",
     "output_type": "stream",
     "text": [
      "['NC', 'KBO']\n",
      "['7D', 'J33B']\n",
      "[#####################                   ] | 54% Completed | 15hr 56mAll prediction shape: (2, 5, 3599, 6000)\n",
      "[#####################                   ] | 54% Completed | 16hr 0mm226 P picks\n",
      "360 S picks\n",
      "['7D', 'J09B']\n",
      "[######################                  ] | 55% Completed | 16hr 0m"
     ]
    },
    {
     "name": "stderr",
     "output_type": "stream",
     "text": [
      "/tmp/ipykernel_4065716/2319557713.py:13: RuntimeWarning: All-NaN axis encountered\n",
      "  np.nanmax([stack[idx:idx + twin], _data[iseg+1, :]], axis = 0)\n"
     ]
    },
    {
     "name": "stdout",
     "output_type": "stream",
     "text": [
      "[######################                  ] | 55% Completed | 16hr 0mAll prediction shape: (2, 5, 1439, 6000)\n",
      "[######################                  ] | 55% Completed | 16hr 1m166 P picks\n",
      "40 S picks\n",
      "['7D', 'G19B']\n",
      "[######################                  ] | 55% Completed | 16hr 1m"
     ]
    },
    {
     "name": "stderr",
     "output_type": "stream",
     "text": [
      "/tmp/ipykernel_4065716/2319557713.py:13: RuntimeWarning: All-NaN axis encountered\n",
      "  np.nanmax([stack[idx:idx + twin], _data[iseg+1, :]], axis = 0)\n"
     ]
    },
    {
     "name": "stdout",
     "output_type": "stream",
     "text": [
      "[######################                  ] | 55% Completed | 16hr 1mAll prediction shape: (2, 5, 1439, 6000)\n",
      "[######################                  ] | 55% Completed | 16hr 2m94 P picks\n",
      "36 S picks\n",
      "['7D', 'G25B']\n",
      "[######################                  ] | 55% Completed | 16hr 2m"
     ]
    },
    {
     "name": "stderr",
     "output_type": "stream",
     "text": [
      "/tmp/ipykernel_4065716/2319557713.py:13: RuntimeWarning: All-NaN axis encountered\n",
      "  np.nanmax([stack[idx:idx + twin], _data[iseg+1, :]], axis = 0)\n"
     ]
    },
    {
     "name": "stdout",
     "output_type": "stream",
     "text": [
      "[######################                  ] | 55% Completed | 16hr 2mAll prediction shape: (2, 5, 3599, 6000)\n",
      "[######################                  ] | 55% Completed | 16hr 6m413 P picks\n",
      "222 S picks\n"
     ]
    },
    {
     "name": "stderr",
     "output_type": "stream",
     "text": [
      "/tmp/ipykernel_4065716/2319557713.py:13: RuntimeWarning: All-NaN axis encountered\n",
      "  np.nanmax([stack[idx:idx + twin], _data[iseg+1, :]], axis = 0)\n"
     ]
    },
    {
     "name": "stdout",
     "output_type": "stream",
     "text": [
      "['7D', 'FS16B']\n",
      "[######################                  ] | 55% Completed | 16hr 7mAll prediction shape: (2, 5, 3598, 6000)\n",
      "[######################                  ] | 55% Completed | 16hr 11m380 P picks\n",
      "355 S picks\n"
     ]
    },
    {
     "name": "stderr",
     "output_type": "stream",
     "text": [
      "/tmp/ipykernel_4065716/2319557713.py:13: RuntimeWarning: All-NaN axis encountered\n",
      "  np.nanmax([stack[idx:idx + twin], _data[iseg+1, :]], axis = 0)\n"
     ]
    },
    {
     "name": "stdout",
     "output_type": "stream",
     "text": [
      "['TA', 'I02D']\n",
      "[######################                  ] | 55% Completed | 16hr 11mAll prediction shape: (2, 5, 1151, 6000)\n",
      "[######################                  ] | 55% Completed | 16hr 12m20 P picks\n",
      "14 S picks\n",
      "['7D', 'FS16B']\n",
      "[######################                  ] | 55% Completed | 16hr 12m"
     ]
    },
    {
     "name": "stderr",
     "output_type": "stream",
     "text": [
      "/tmp/ipykernel_4065716/2319557713.py:13: RuntimeWarning: All-NaN axis encountered\n",
      "  np.nanmax([stack[idx:idx + twin], _data[iseg+1, :]], axis = 0)\n"
     ]
    },
    {
     "name": "stdout",
     "output_type": "stream",
     "text": [
      "[######################                  ] | 55% Completed | 16hr 12mAll prediction shape: (2, 5, 3598, 6000)\n",
      "[######################                  ] | 55% Completed | 16hr 16m462 P picks\n",
      "484 S picks\n",
      "['NC', 'KOM']\n",
      "[######################                  ] | 55% Completed | 16hr 16m"
     ]
    },
    {
     "name": "stderr",
     "output_type": "stream",
     "text": [
      "/tmp/ipykernel_4065716/2319557713.py:13: RuntimeWarning: All-NaN axis encountered\n",
      "  np.nanmax([stack[idx:idx + twin], _data[iseg+1, :]], axis = 0)\n",
      "WARNING:root:No stream returned. Skipping.\n",
      "WARNING:root:No stream returned. Skipping.\n"
     ]
    },
    {
     "name": "stdout",
     "output_type": "stream",
     "text": [
      "['NC', 'KOM']\n",
      "['UW', 'BABR']\n",
      "[######################                  ] | 55% Completed | 16hr 16mAll prediction shape: (2, 5, 1151, 6000)\n",
      "[######################                  ] | 55% Completed | 16hr 17m15 P picks\n",
      "7 S picks\n",
      "['7D', 'FS17B']\n",
      "[######################                  ] | 56% Completed | 16hr 17m"
     ]
    },
    {
     "name": "stderr",
     "output_type": "stream",
     "text": [
      "/tmp/ipykernel_4065716/2319557713.py:13: RuntimeWarning: All-NaN axis encountered\n",
      "  np.nanmax([stack[idx:idx + twin], _data[iseg+1, :]], axis = 0)\n"
     ]
    },
    {
     "name": "stdout",
     "output_type": "stream",
     "text": [
      "[######################                  ] | 56% Completed | 16hr 17mAll prediction shape: (2, 5, 3599, 6000)\n",
      "[######################                  ] | 56% Completed | 16hr 21m561 P picks\n",
      "545 S picks\n"
     ]
    },
    {
     "name": "stderr",
     "output_type": "stream",
     "text": [
      "/tmp/ipykernel_4065716/2319557713.py:13: RuntimeWarning: All-NaN axis encountered\n",
      "  np.nanmax([stack[idx:idx + twin], _data[iseg+1, :]], axis = 0)\n"
     ]
    },
    {
     "name": "stdout",
     "output_type": "stream",
     "text": [
      "['7D', 'G27B']\n",
      "[######################                  ] | 56% Completed | 16hr 21mAll prediction shape: (2, 5, 1439, 6000)\n",
      "[######################                  ] | 56% Completed | 16hr 22m55 P picks\n",
      "27 S picks\n"
     ]
    },
    {
     "name": "stderr",
     "output_type": "stream",
     "text": [
      "/tmp/ipykernel_4065716/2319557713.py:13: RuntimeWarning: All-NaN axis encountered\n",
      "  np.nanmax([stack[idx:idx + twin], _data[iseg+1, :]], axis = 0)\n",
      "WARNING:root:No stream returned. Skipping.\n"
     ]
    },
    {
     "name": "stdout",
     "output_type": "stream",
     "text": [
      "['NC', 'KEB']\n",
      "['7D', 'FS13B']\n",
      "[######################                  ] | 56% Completed | 16hr 22m"
     ]
    },
    {
     "name": "stderr",
     "output_type": "stream",
     "text": [
      "/tmp/ipykernel_4065716/622382700.py:90: RuntimeWarning: invalid value encountered in divide\n",
      "  windows_max[iseg, :] = windows[iseg, :] / (np.max(np.abs(windows[iseg, :]), axis=-1, keepdims=True))\n"
     ]
    },
    {
     "name": "stdout",
     "output_type": "stream",
     "text": [
      "[######################                  ] | 56% Completed | 16hr 22mAll prediction shape: (2, 5, 3599, 6000)\n",
      "[######################                  ] | 56% Completed | 16hr 27m518 P picks\n",
      "214 S picks\n"
     ]
    },
    {
     "name": "stderr",
     "output_type": "stream",
     "text": [
      "/tmp/ipykernel_4065716/2319557713.py:13: RuntimeWarning: All-NaN axis encountered\n",
      "  np.nanmax([stack[idx:idx + twin], _data[iseg+1, :]], axis = 0)\n"
     ]
    },
    {
     "name": "stdout",
     "output_type": "stream",
     "text": [
      "['NC', 'KHMB']\n",
      "\r",
      "[######################                  ] | 56% Completed | 16hr 27m"
     ]
    },
    {
     "name": "stderr",
     "output_type": "stream",
     "text": [
      "WARNING:root:No stream returned. Skipping.\n",
      "WARNING:root:No stream returned. Skipping.\n"
     ]
    },
    {
     "name": "stdout",
     "output_type": "stream",
     "text": [
      "['NC', 'KEB']\n",
      "['7D', 'G17B']\n",
      "[######################                  ] | 56% Completed | 16hr 27mAll prediction shape: (2, 5, 3599, 6000)\n",
      "[######################                  ] | 56% Completed | 16hr 31m638 P picks\n",
      "694 S picks\n"
     ]
    },
    {
     "name": "stderr",
     "output_type": "stream",
     "text": [
      "/tmp/ipykernel_4065716/2319557713.py:13: RuntimeWarning: All-NaN axis encountered\n",
      "  np.nanmax([stack[idx:idx + twin], _data[iseg+1, :]], axis = 0)\n"
     ]
    },
    {
     "name": "stdout",
     "output_type": "stream",
     "text": [
      "['7D', 'J25B']\n",
      "[######################                  ] | 56% Completed | 16hr 31mAll prediction shape: (2, 5, 3599, 6000)\n",
      "[######################                  ] | 56% Completed | 16hr 36m562 P picks\n",
      "770 S picks\n"
     ]
    },
    {
     "name": "stderr",
     "output_type": "stream",
     "text": [
      "/tmp/ipykernel_4065716/2319557713.py:13: RuntimeWarning: All-NaN axis encountered\n",
      "  np.nanmax([stack[idx:idx + twin], _data[iseg+1, :]], axis = 0)\n"
     ]
    },
    {
     "name": "stdout",
     "output_type": "stream",
     "text": [
      "['7D', 'G27B']\n",
      "[######################                  ] | 56% Completed | 16hr 36mAll prediction shape: (2, 5, 1439, 6000)\n",
      "[######################                  ] | 56% Completed | 16hr 36m100 P picks\n",
      "70 S picks\n"
     ]
    },
    {
     "name": "stderr",
     "output_type": "stream",
     "text": [
      "/tmp/ipykernel_4065716/2319557713.py:13: RuntimeWarning: All-NaN axis encountered\n",
      "  np.nanmax([stack[idx:idx + twin], _data[iseg+1, :]], axis = 0)\n",
      "WARNING:root:No stream returned. Skipping.\n"
     ]
    },
    {
     "name": "stdout",
     "output_type": "stream",
     "text": [
      "['BK', 'JCC']\n",
      "['7D', 'G17B']\n",
      "[######################                  ] | 57% Completed | 16hr 37mAll prediction shape: (2, 5, 3599, 6000)\n",
      "[######################                  ] | 57% Completed | 16hr 41m540 P picks\n",
      "446 S picks\n"
     ]
    },
    {
     "name": "stderr",
     "output_type": "stream",
     "text": [
      "/tmp/ipykernel_4065716/2319557713.py:13: RuntimeWarning: All-NaN axis encountered\n",
      "  np.nanmax([stack[idx:idx + twin], _data[iseg+1, :]], axis = 0)\n"
     ]
    },
    {
     "name": "stdout",
     "output_type": "stream",
     "text": [
      "['BK', 'JCC']\n",
      "\r",
      "[######################                  ] | 57% Completed | 16hr 41m"
     ]
    },
    {
     "name": "stderr",
     "output_type": "stream",
     "text": [
      "WARNING:root:No stream returned. Skipping.\n",
      "WARNING:root:No stream returned. Skipping.\n"
     ]
    },
    {
     "name": "stdout",
     "output_type": "stream",
     "text": [
      "['NC', 'KRMB']\n",
      "['7D', 'G25B']\n",
      "[#######################                 ] | 57% Completed | 16hr 41mAll prediction shape: (2, 5, 3599, 6000)\n",
      "[#######################                 ] | 57% Completed | 16hr 46m502 P picks\n",
      "253 S picks\n"
     ]
    },
    {
     "name": "stderr",
     "output_type": "stream",
     "text": [
      "/tmp/ipykernel_4065716/2319557713.py:13: RuntimeWarning: All-NaN axis encountered\n",
      "  np.nanmax([stack[idx:idx + twin], _data[iseg+1, :]], axis = 0)\n"
     ]
    },
    {
     "name": "stdout",
     "output_type": "stream",
     "text": [
      "['7D', 'FS16B']\n",
      "[#######################                 ] | 57% Completed | 16hr 46m"
     ]
    },
    {
     "name": "stderr",
     "output_type": "stream",
     "text": [
      "/tmp/ipykernel_4065716/622382700.py:90: RuntimeWarning: invalid value encountered in divide\n",
      "  windows_max[iseg, :] = windows[iseg, :] / (np.max(np.abs(windows[iseg, :]), axis=-1, keepdims=True))\n"
     ]
    },
    {
     "name": "stdout",
     "output_type": "stream",
     "text": [
      "[#######################                 ] | 57% Completed | 16hr 46mAll prediction shape: (2, 5, 3599, 6000)\n",
      "[#######################                 ] | 57% Completed | 16hr 50m348 P picks\n",
      "292 S picks\n"
     ]
    },
    {
     "name": "stderr",
     "output_type": "stream",
     "text": [
      "/tmp/ipykernel_4065716/2319557713.py:13: RuntimeWarning: All-NaN axis encountered\n",
      "  np.nanmax([stack[idx:idx + twin], _data[iseg+1, :]], axis = 0)\n"
     ]
    },
    {
     "name": "stdout",
     "output_type": "stream",
     "text": [
      "['7D', 'M14B']\n",
      "[#######################                 ] | 57% Completed | 16hr 50mAll prediction shape: (2, 5, 1438, 6000)\n",
      "[#######################                 ] | 57% Completed | 16hr 51m173 P picks\n",
      "78 S picks\n",
      "['7D', 'G26B']\n",
      "[#######################                 ] | 57% Completed | 16hr 51m"
     ]
    },
    {
     "name": "stderr",
     "output_type": "stream",
     "text": [
      "/tmp/ipykernel_4065716/2319557713.py:13: RuntimeWarning: All-NaN axis encountered\n",
      "  np.nanmax([stack[idx:idx + twin], _data[iseg+1, :]], axis = 0)\n"
     ]
    },
    {
     "name": "stdout",
     "output_type": "stream",
     "text": [
      "[#######################                 ] | 57% Completed | 16hr 51mAll prediction shape: (2, 5, 3598, 6000)\n",
      "[#######################                 ] | 57% Completed | 16hr 55m161 P picks\n",
      "172 S picks\n"
     ]
    },
    {
     "name": "stderr",
     "output_type": "stream",
     "text": [
      "/tmp/ipykernel_4065716/2319557713.py:13: RuntimeWarning: All-NaN axis encountered\n",
      "  np.nanmax([stack[idx:idx + twin], _data[iseg+1, :]], axis = 0)\n"
     ]
    },
    {
     "name": "stdout",
     "output_type": "stream",
     "text": [
      "['7D', 'G27B']\n",
      "[#######################                 ] | 57% Completed | 16hr 56mAll prediction shape: (2, 5, 1439, 6000)\n",
      "[#######################                 ] | 57% Completed | 16hr 56m124 P picks\n",
      "64 S picks\n",
      "['7D', 'G10B']\n",
      "[#######################                 ] | 58% Completed | 16hr 56m"
     ]
    },
    {
     "name": "stderr",
     "output_type": "stream",
     "text": [
      "/tmp/ipykernel_4065716/2319557713.py:13: RuntimeWarning: All-NaN axis encountered\n",
      "  np.nanmax([stack[idx:idx + twin], _data[iseg+1, :]], axis = 0)\n"
     ]
    },
    {
     "name": "stdout",
     "output_type": "stream",
     "text": [
      "[#######################                 ] | 58% Completed | 16hr 56mAll prediction shape: (2, 5, 1439, 6000)\n",
      "[#######################                 ] | 58% Completed | 16hr 57m31 P picks\n",
      "13 S picks\n",
      "['NC', 'KSXB']\n",
      "[#######################                 ] | 58% Completed | 16hr 57m"
     ]
    },
    {
     "name": "stderr",
     "output_type": "stream",
     "text": [
      "/tmp/ipykernel_4065716/2319557713.py:13: RuntimeWarning: All-NaN axis encountered\n",
      "  np.nanmax([stack[idx:idx + twin], _data[iseg+1, :]], axis = 0)\n",
      "WARNING:root:No stream returned. Skipping.\n"
     ]
    },
    {
     "name": "stdout",
     "output_type": "stream",
     "text": [
      "['7D', 'G17B']\n",
      "[#######################                 ] | 58% Completed | 16hr 58mAll prediction shape: (2, 5, 3599, 6000)\n",
      "[#######################                 ] | 58% Completed | 17hr 2mm591 P picks\n",
      "590 S picks\n",
      "[#######################                 ] | 58% Completed | 17hr 2m"
     ]
    },
    {
     "name": "stderr",
     "output_type": "stream",
     "text": [
      "/tmp/ipykernel_4065716/2319557713.py:13: RuntimeWarning: All-NaN axis encountered\n",
      "  np.nanmax([stack[idx:idx + twin], _data[iseg+1, :]], axis = 0)\n",
      "WARNING:root:No stream returned. Skipping.\n"
     ]
    },
    {
     "name": "stdout",
     "output_type": "stream",
     "text": [
      "['NC', 'KRMB']\n"
     ]
    },
    {
     "name": "stderr",
     "output_type": "stream",
     "text": [
      "WARNING:root:No stream returned. Skipping.\n"
     ]
    },
    {
     "name": "stdout",
     "output_type": "stream",
     "text": [
      "['NC', 'KHMB']\n",
      "['7D', 'FS09B']\n",
      "[#######################                 ] | 58% Completed | 17hr 2mAll prediction shape: (2, 5, 1439, 6000)\n",
      "[#######################                 ] | 58% Completed | 17hr 3m161 P picks\n",
      "113 S picks\n",
      "['7D', 'G27B']\n",
      "[#######################                 ] | 58% Completed | 17hr 3m"
     ]
    },
    {
     "name": "stderr",
     "output_type": "stream",
     "text": [
      "/tmp/ipykernel_4065716/2319557713.py:13: RuntimeWarning: All-NaN axis encountered\n",
      "  np.nanmax([stack[idx:idx + twin], _data[iseg+1, :]], axis = 0)\n"
     ]
    },
    {
     "name": "stdout",
     "output_type": "stream",
     "text": [
      "[#######################                 ] | 58% Completed | 17hr 3mAll prediction shape: (2, 5, 1439, 6000)\n",
      "[#######################                 ] | 58% Completed | 17hr 4m72 P picks\n",
      "59 S picks\n",
      "['7D', 'M12B']\n",
      "[#######################                 ] | 58% Completed | 17hr 4m"
     ]
    },
    {
     "name": "stderr",
     "output_type": "stream",
     "text": [
      "/tmp/ipykernel_4065716/2319557713.py:13: RuntimeWarning: All-NaN axis encountered\n",
      "  np.nanmax([stack[idx:idx + twin], _data[iseg+1, :]], axis = 0)\n"
     ]
    },
    {
     "name": "stdout",
     "output_type": "stream",
     "text": [
      "[#######################                 ] | 58% Completed | 17hr 4mAll prediction shape: (2, 5, 1439, 6000)\n",
      "[#######################                 ] | 58% Completed | 17hr 5m176 P picks\n",
      "48 S picks\n",
      "['7D', 'G26B']\n",
      "[#######################                 ] | 58% Completed | 17hr 5m"
     ]
    },
    {
     "name": "stderr",
     "output_type": "stream",
     "text": [
      "/tmp/ipykernel_4065716/2319557713.py:13: RuntimeWarning: All-NaN axis encountered\n",
      "  np.nanmax([stack[idx:idx + twin], _data[iseg+1, :]], axis = 0)\n"
     ]
    },
    {
     "name": "stdout",
     "output_type": "stream",
     "text": [
      "[#######################                 ] | 58% Completed | 17hr 5mAll prediction shape: (2, 5, 3598, 6000)\n",
      "[#######################                 ] | 58% Completed | 17hr 10m141 P picks\n",
      "98 S picks\n"
     ]
    },
    {
     "name": "stderr",
     "output_type": "stream",
     "text": [
      "/tmp/ipykernel_4065716/2319557713.py:13: RuntimeWarning: All-NaN axis encountered\n",
      "  np.nanmax([stack[idx:idx + twin], _data[iseg+1, :]], axis = 0)\n"
     ]
    },
    {
     "name": "stdout",
     "output_type": "stream",
     "text": [
      "['BK', 'JCC']\n",
      "[#######################                 ] | 59% Completed | 17hr 10m"
     ]
    },
    {
     "name": "stderr",
     "output_type": "stream",
     "text": [
      "WARNING:root:No stream returned. Skipping.\n"
     ]
    },
    {
     "name": "stdout",
     "output_type": "stream",
     "text": [
      "['7D', 'FS13B']\n",
      "[#######################                 ] | 59% Completed | 17hr 10mAll prediction shape: (2, 5, 3599, 6000)\n",
      "[#######################                 ] | 59% Completed | 17hr 14m"
     ]
    },
    {
     "name": "stderr",
     "output_type": "stream",
     "text": [
      "/tmp/ipykernel_4065716/2319557713.py:13: RuntimeWarning: All-NaN axis encountered\n",
      "  np.nanmax([stack[idx:idx + twin], _data[iseg+1, :]], axis = 0)\n"
     ]
    },
    {
     "name": "stdout",
     "output_type": "stream",
     "text": [
      "468 P picks\n",
      "330 S picks\n",
      "[#######################                 ] | 59% Completed | 17hr 14m"
     ]
    },
    {
     "name": "stderr",
     "output_type": "stream",
     "text": [
      "WARNING:root:No stream returned. Skipping.\n"
     ]
    },
    {
     "name": "stdout",
     "output_type": "stream",
     "text": [
      "['NC', 'KHMB']\n",
      "['7D', 'G19B']\n",
      "[#######################                 ] | 59% Completed | 17hr 14mAll prediction shape: (2, 5, 1439, 6000)\n",
      "[#######################                 ] | 59% Completed | 17hr 15m37 P picks\n",
      "36 S picks\n",
      "['7D', 'G27B']\n",
      "[#######################                 ] | 59% Completed | 17hr 15m"
     ]
    },
    {
     "name": "stderr",
     "output_type": "stream",
     "text": [
      "/tmp/ipykernel_4065716/2319557713.py:13: RuntimeWarning: All-NaN axis encountered\n",
      "  np.nanmax([stack[idx:idx + twin], _data[iseg+1, :]], axis = 0)\n"
     ]
    },
    {
     "name": "stdout",
     "output_type": "stream",
     "text": [
      "[#######################                 ] | 59% Completed | 17hr 15mAll prediction shape: (2, 5, 1439, 6000)\n",
      "[#######################                 ] | 59% Completed | 17hr 16m60 P picks\n",
      "35 S picks\n",
      "['7D', 'G10B']\n",
      "[#######################                 ] | 59% Completed | 17hr 16m"
     ]
    },
    {
     "name": "stderr",
     "output_type": "stream",
     "text": [
      "/tmp/ipykernel_4065716/2319557713.py:13: RuntimeWarning: All-NaN axis encountered\n",
      "  np.nanmax([stack[idx:idx + twin], _data[iseg+1, :]], axis = 0)\n"
     ]
    },
    {
     "name": "stdout",
     "output_type": "stream",
     "text": [
      "[#######################                 ] | 59% Completed | 17hr 16mAll prediction shape: (2, 5, 1439, 6000)\n",
      "[#######################                 ] | 59% Completed | 17hr 17m65 P picks\n",
      "27 S picks\n",
      "['TA', 'I02D']\n",
      "[#######################                 ] | 59% Completed | 17hr 17m"
     ]
    },
    {
     "name": "stderr",
     "output_type": "stream",
     "text": [
      "/tmp/ipykernel_4065716/2319557713.py:13: RuntimeWarning: All-NaN axis encountered\n",
      "  np.nanmax([stack[idx:idx + twin], _data[iseg+1, :]], axis = 0)\n"
     ]
    },
    {
     "name": "stdout",
     "output_type": "stream",
     "text": [
      "[#######################                 ] | 59% Completed | 17hr 17mAll prediction shape: (2, 5, 1150, 6000)\n",
      "[#######################                 ] | 59% Completed | 17hr 18m28 P picks\n",
      "10 S picks\n"
     ]
    },
    {
     "name": "stderr",
     "output_type": "stream",
     "text": [
      "/tmp/ipykernel_4065716/2319557713.py:13: RuntimeWarning: All-NaN axis encountered\n",
      "  np.nanmax([stack[idx:idx + twin], _data[iseg+1, :]], axis = 0)\n",
      "WARNING:root:No stream returned. Skipping.\n"
     ]
    },
    {
     "name": "stdout",
     "output_type": "stream",
     "text": [
      "['NC', 'KSXB']\n",
      "['NC', 'KEB']\n",
      "[#######################                 ] | 59% Completed | 17hr 18m"
     ]
    },
    {
     "name": "stderr",
     "output_type": "stream",
     "text": [
      "WARNING:root:No stream returned. Skipping.\n",
      "WARNING:root:No stream returned. Skipping.\n"
     ]
    },
    {
     "name": "stdout",
     "output_type": "stream",
     "text": [
      "['NC', 'KMPB']\n",
      "['7D', 'G26B']\n",
      "[########################                ] | 60% Completed | 17hr 18mAll prediction shape: (2, 5, 3598, 6000)\n",
      "[########################                ] | 60% Completed | 17hr 22m68 P picks\n",
      "59 S picks\n"
     ]
    },
    {
     "name": "stderr",
     "output_type": "stream",
     "text": [
      "/tmp/ipykernel_4065716/2319557713.py:13: RuntimeWarning: All-NaN axis encountered\n",
      "  np.nanmax([stack[idx:idx + twin], _data[iseg+1, :]], axis = 0)\n"
     ]
    },
    {
     "name": "stdout",
     "output_type": "stream",
     "text": [
      "['TA', 'I02D']\n",
      "[########################                ] | 60% Completed | 17hr 22mAll prediction shape: (2, 5, 1150, 6000)\n",
      "[########################                ] | 60% Completed | 17hr 23m11 P picks\n",
      "7 S picks\n",
      "['UW', 'BABR']\n",
      "[########################                ] | 60% Completed | 17hr 23m"
     ]
    },
    {
     "name": "stderr",
     "output_type": "stream",
     "text": [
      "/tmp/ipykernel_4065716/2319557713.py:13: RuntimeWarning: All-NaN axis encountered\n",
      "  np.nanmax([stack[idx:idx + twin], _data[iseg+1, :]], axis = 0)\n"
     ]
    },
    {
     "name": "stdout",
     "output_type": "stream",
     "text": [
      "[########################                ] | 60% Completed | 17hr 23mAll prediction shape: (2, 5, 1151, 6000)\n",
      "[########################                ] | 60% Completed | 17hr 23m10 P picks\n",
      "4 S picks\n"
     ]
    },
    {
     "name": "stderr",
     "output_type": "stream",
     "text": [
      "/tmp/ipykernel_4065716/2319557713.py:13: RuntimeWarning: All-NaN axis encountered\n",
      "  np.nanmax([stack[idx:idx + twin], _data[iseg+1, :]], axis = 0)\n",
      "WARNING:root:No stream returned. Skipping.\n"
     ]
    },
    {
     "name": "stdout",
     "output_type": "stream",
     "text": [
      "['NC', 'KHMB']\n",
      "['NC', 'KSXB']\n",
      "[########################                ] | 60% Completed | 17hr 23m"
     ]
    },
    {
     "name": "stderr",
     "output_type": "stream",
     "text": [
      "WARNING:root:No stream returned. Skipping.\n"
     ]
    },
    {
     "name": "stdout",
     "output_type": "stream",
     "text": [
      "['7D', 'G19B']\n",
      "[########################                ] | 60% Completed | 17hr 23mAll prediction shape: (2, 5, 1439, 6000)\n",
      "[########################                ] | 60% Completed | 17hr 24m61 P picks\n",
      "21 S picks\n",
      "['7D', 'G25B']\n",
      "[########################                ] | 60% Completed | 17hr 24m"
     ]
    },
    {
     "name": "stderr",
     "output_type": "stream",
     "text": [
      "/tmp/ipykernel_4065716/2319557713.py:13: RuntimeWarning: All-NaN axis encountered\n",
      "  np.nanmax([stack[idx:idx + twin], _data[iseg+1, :]], axis = 0)\n"
     ]
    },
    {
     "name": "stdout",
     "output_type": "stream",
     "text": [
      "[########################                ] | 60% Completed | 17hr 25mAll prediction shape: (2, 5, 3599, 6000)\n",
      "[########################                ] | 60% Completed | 17hr 29m500 P picks\n",
      "201 S picks\n"
     ]
    },
    {
     "name": "stderr",
     "output_type": "stream",
     "text": [
      "/tmp/ipykernel_4065716/2319557713.py:13: RuntimeWarning: All-NaN axis encountered\n",
      "  np.nanmax([stack[idx:idx + twin], _data[iseg+1, :]], axis = 0)\n"
     ]
    },
    {
     "name": "stdout",
     "output_type": "stream",
     "text": [
      "['NC', 'KEB']\n",
      "[########################                ] | 60% Completed | 17hr 29m"
     ]
    },
    {
     "name": "stderr",
     "output_type": "stream",
     "text": [
      "WARNING:root:No stream returned. Skipping.\n",
      "WARNING:root:No stream returned. Skipping.\n"
     ]
    },
    {
     "name": "stdout",
     "output_type": "stream",
     "text": [
      "['NC', 'KSXB']\n",
      "['NC', 'KHMB']\n",
      "[########################                ] | 61% Completed | 17hr 29m"
     ]
    },
    {
     "name": "stderr",
     "output_type": "stream",
     "text": [
      "WARNING:root:No stream returned. Skipping.\n"
     ]
    },
    {
     "name": "stdout",
     "output_type": "stream",
     "text": [
      "['7D', 'FS17B']\n",
      "[########################                ] | 61% Completed | 17hr 29mAll prediction shape: (2, 5, 3599, 6000)\n",
      "[########################                ] | 61% Completed | 17hr 33m466 P picks\n",
      "193 S picks\n"
     ]
    },
    {
     "name": "stderr",
     "output_type": "stream",
     "text": [
      "/tmp/ipykernel_4065716/2319557713.py:13: RuntimeWarning: All-NaN axis encountered\n",
      "  np.nanmax([stack[idx:idx + twin], _data[iseg+1, :]], axis = 0)\n"
     ]
    },
    {
     "name": "stdout",
     "output_type": "stream",
     "text": [
      "['7D', 'M12B']\n",
      "[########################                ] | 61% Completed | 17hr 33mAll prediction shape: (2, 5, 1439, 6000)\n",
      "[########################                ] | 61% Completed | 17hr 34m198 P picks\n",
      "82 S picks\n",
      "['7D', 'G27B']\n",
      "[########################                ] | 61% Completed | 17hr 34m"
     ]
    },
    {
     "name": "stderr",
     "output_type": "stream",
     "text": [
      "/tmp/ipykernel_4065716/2319557713.py:13: RuntimeWarning: All-NaN axis encountered\n",
      "  np.nanmax([stack[idx:idx + twin], _data[iseg+1, :]], axis = 0)\n"
     ]
    },
    {
     "name": "stdout",
     "output_type": "stream",
     "text": [
      "[########################                ] | 61% Completed | 17hr 34mAll prediction shape: (2, 5, 1439, 6000)\n",
      "[########################                ] | 61% Completed | 17hr 35m55 P picks\n",
      "27 S picks\n",
      "['7D', 'M12B']\n",
      "[########################                ] | 61% Completed | 17hr 35m"
     ]
    },
    {
     "name": "stderr",
     "output_type": "stream",
     "text": [
      "/tmp/ipykernel_4065716/2319557713.py:13: RuntimeWarning: All-NaN axis encountered\n",
      "  np.nanmax([stack[idx:idx + twin], _data[iseg+1, :]], axis = 0)\n"
     ]
    },
    {
     "name": "stdout",
     "output_type": "stream",
     "text": [
      "[########################                ] | 61% Completed | 17hr 35mAll prediction shape: (2, 5, 1439, 6000)\n",
      "[########################                ] | 61% Completed | 17hr 36m199 P picks\n",
      "73 S picks\n",
      "['NC', 'KHBB']\n"
     ]
    },
    {
     "name": "stderr",
     "output_type": "stream",
     "text": [
      "/tmp/ipykernel_4065716/2319557713.py:13: RuntimeWarning: All-NaN axis encountered\n",
      "  np.nanmax([stack[idx:idx + twin], _data[iseg+1, :]], axis = 0)\n",
      "WARNING:root:No stream returned. Skipping.\n"
     ]
    },
    {
     "name": "stdout",
     "output_type": "stream",
     "text": [
      "['7D', 'M14B']\n",
      "[########################                ] | 61% Completed | 17hr 36mAll prediction shape: (2, 5, 1439, 6000)\n",
      "[########################                ] | 61% Completed | 17hr 37m131 P picks\n",
      "58 S picks\n",
      "['7D', 'FS16B']\n",
      "[########################                ] | 61% Completed | 17hr 37m"
     ]
    },
    {
     "name": "stderr",
     "output_type": "stream",
     "text": [
      "/tmp/ipykernel_4065716/2319557713.py:13: RuntimeWarning: All-NaN axis encountered\n",
      "  np.nanmax([stack[idx:idx + twin], _data[iseg+1, :]], axis = 0)\n"
     ]
    },
    {
     "name": "stdout",
     "output_type": "stream",
     "text": [
      "[########################                ] | 61% Completed | 17hr 37mAll prediction shape: (2, 5, 3598, 6000)\n",
      "[########################                ] | 61% Completed | 17hr 42m367 P picks\n",
      "369 S picks\n"
     ]
    },
    {
     "name": "stderr",
     "output_type": "stream",
     "text": [
      "/tmp/ipykernel_4065716/2319557713.py:13: RuntimeWarning: All-NaN axis encountered\n",
      "  np.nanmax([stack[idx:idx + twin], _data[iseg+1, :]], axis = 0)\n"
     ]
    },
    {
     "name": "stdout",
     "output_type": "stream",
     "text": [
      "['7D', 'G17B']\n",
      "[########################                ] | 62% Completed | 17hr 42mAll prediction shape: (2, 5, 3599, 6000)\n",
      "[########################                ] | 62% Completed | 17hr 46m633 P picks\n",
      "675 S picks\n"
     ]
    },
    {
     "name": "stderr",
     "output_type": "stream",
     "text": [
      "/tmp/ipykernel_4065716/2319557713.py:13: RuntimeWarning: All-NaN axis encountered\n",
      "  np.nanmax([stack[idx:idx + twin], _data[iseg+1, :]], axis = 0)\n"
     ]
    },
    {
     "name": "stdout",
     "output_type": "stream",
     "text": [
      "['7D', 'G10B']\n",
      "[########################                ] | 62% Completed | 17hr 46mAll prediction shape: (2, 5, 1439, 6000)\n",
      "[########################                ] | 62% Completed | 17hr 47m37 P picks\n",
      "15 S picks\n",
      "['7D', 'G27B']\n",
      "[########################                ] | 62% Completed | 17hr 47m"
     ]
    },
    {
     "name": "stderr",
     "output_type": "stream",
     "text": [
      "/tmp/ipykernel_4065716/2319557713.py:13: RuntimeWarning: All-NaN axis encountered\n",
      "  np.nanmax([stack[idx:idx + twin], _data[iseg+1, :]], axis = 0)\n"
     ]
    },
    {
     "name": "stdout",
     "output_type": "stream",
     "text": [
      "[########################                ] | 62% Completed | 17hr 47mAll prediction shape: (2, 5, 1439, 6000)\n",
      "[########################                ] | 62% Completed | 17hr 48m58 P picks\n",
      "38 S picks\n",
      "['7D', 'G19B']\n",
      "[########################                ] | 62% Completed | 17hr 48m"
     ]
    },
    {
     "name": "stderr",
     "output_type": "stream",
     "text": [
      "/tmp/ipykernel_4065716/2319557713.py:13: RuntimeWarning: All-NaN axis encountered\n",
      "  np.nanmax([stack[idx:idx + twin], _data[iseg+1, :]], axis = 0)\n"
     ]
    },
    {
     "name": "stdout",
     "output_type": "stream",
     "text": [
      "[########################                ] | 62% Completed | 17hr 48mAll prediction shape: (2, 5, 1439, 6000)\n",
      "[########################                ] | 62% Completed | 17hr 49m81 P picks\n",
      "23 S picks\n",
      "['7D', 'G10B']\n",
      "[#########################               ] | 62% Completed | 17hr 49m"
     ]
    },
    {
     "name": "stderr",
     "output_type": "stream",
     "text": [
      "/tmp/ipykernel_4065716/2319557713.py:13: RuntimeWarning: All-NaN axis encountered\n",
      "  np.nanmax([stack[idx:idx + twin], _data[iseg+1, :]], axis = 0)\n"
     ]
    },
    {
     "name": "stdout",
     "output_type": "stream",
     "text": [
      "[#########################               ] | 62% Completed | 17hr 49mAll prediction shape: (2, 5, 1439, 6000)\n",
      "[#########################               ] | 62% Completed | 17hr 50m51 P picks\n",
      "37 S picks\n",
      "['TA', 'J01E']\n",
      "[#########################               ] | 62% Completed | 17hr 50m"
     ]
    },
    {
     "name": "stderr",
     "output_type": "stream",
     "text": [
      "/tmp/ipykernel_4065716/2319557713.py:13: RuntimeWarning: All-NaN axis encountered\n",
      "  np.nanmax([stack[idx:idx + twin], _data[iseg+1, :]], axis = 0)\n"
     ]
    },
    {
     "name": "stdout",
     "output_type": "stream",
     "text": [
      "[#########################               ] | 62% Completed | 17hr 50mAll prediction shape: (2, 5, 1151, 6000)\n",
      "[#########################               ] | 62% Completed | 17hr 51m17 P picks\n",
      "11 S picks\n",
      "['TA', 'I02D']\n",
      "[#########################               ] | 62% Completed | 17hr 51m"
     ]
    },
    {
     "name": "stderr",
     "output_type": "stream",
     "text": [
      "/tmp/ipykernel_4065716/2319557713.py:13: RuntimeWarning: All-NaN axis encountered\n",
      "  np.nanmax([stack[idx:idx + twin], _data[iseg+1, :]], axis = 0)\n"
     ]
    },
    {
     "name": "stdout",
     "output_type": "stream",
     "text": [
      "[#########################               ] | 62% Completed | 17hr 51mAll prediction shape: (2, 5, 1151, 6000)\n",
      "[#########################               ] | 62% Completed | 17hr 51m19 P picks\n",
      "5 S picks\n",
      "['7D', 'FS09B']\n",
      "[#########################               ] | 62% Completed | 17hr 51m"
     ]
    },
    {
     "name": "stderr",
     "output_type": "stream",
     "text": [
      "/tmp/ipykernel_4065716/2319557713.py:13: RuntimeWarning: All-NaN axis encountered\n",
      "  np.nanmax([stack[idx:idx + twin], _data[iseg+1, :]], axis = 0)\n"
     ]
    },
    {
     "name": "stdout",
     "output_type": "stream",
     "text": [
      "[#########################               ] | 62% Completed | 17hr 51mAll prediction shape: (2, 5, 1439, 6000)\n",
      "[#########################               ] | 62% Completed | 17hr 52m104 P picks\n",
      "89 S picks\n",
      "['NC', 'KEB']\n",
      "[#########################               ] | 62% Completed | 17hr 52m"
     ]
    },
    {
     "name": "stderr",
     "output_type": "stream",
     "text": [
      "/tmp/ipykernel_4065716/2319557713.py:13: RuntimeWarning: All-NaN axis encountered\n",
      "  np.nanmax([stack[idx:idx + twin], _data[iseg+1, :]], axis = 0)\n",
      "WARNING:root:No stream returned. Skipping.\n"
     ]
    },
    {
     "name": "stdout",
     "output_type": "stream",
     "text": [
      "['7D', 'M09B']\n",
      "[#########################               ] | 63% Completed | 17hr 53mAll prediction shape: (2, 5, 3599, 6000)\n",
      "[#########################               ] | 63% Completed | 17hr 57m"
     ]
    },
    {
     "name": "stderr",
     "output_type": "stream",
     "text": [
      "/tmp/ipykernel_4065716/2319557713.py:13: RuntimeWarning: All-NaN axis encountered\n",
      "  np.nanmax([stack[idx:idx + twin], _data[iseg+1, :]], axis = 0)\n"
     ]
    },
    {
     "name": "stdout",
     "output_type": "stream",
     "text": [
      "482 P picks\n",
      "532 S picks\n",
      "['7D', 'M09B']\n",
      "[#########################               ] | 63% Completed | 17hr 57mAll prediction shape: (2, 5, 3599, 6000)\n",
      "[#########################               ] | 63% Completed | 18hr 1mm440 P picks\n",
      "500 S picks\n"
     ]
    },
    {
     "name": "stderr",
     "output_type": "stream",
     "text": [
      "/tmp/ipykernel_4065716/2319557713.py:13: RuntimeWarning: All-NaN axis encountered\n",
      "  np.nanmax([stack[idx:idx + twin], _data[iseg+1, :]], axis = 0)\n"
     ]
    },
    {
     "name": "stdout",
     "output_type": "stream",
     "text": [
      "['NC', 'KEB']\n",
      "[#########################               ] | 63% Completed | 18hr 1m"
     ]
    },
    {
     "name": "stderr",
     "output_type": "stream",
     "text": [
      "WARNING:root:No stream returned. Skipping.\n",
      "WARNING:root:No stream returned. Skipping.\n"
     ]
    },
    {
     "name": "stdout",
     "output_type": "stream",
     "text": [
      "['NC', 'KHBB']\n"
     ]
    },
    {
     "name": "stderr",
     "output_type": "stream",
     "text": [
      "WARNING:root:No stream returned. Skipping.\n"
     ]
    },
    {
     "name": "stdout",
     "output_type": "stream",
     "text": [
      "['BK', 'JCC']\n",
      "['7D', 'G25B']\n",
      "[#########################               ] | 63% Completed | 18hr 2mAll prediction shape: (2, 5, 3599, 6000)\n",
      "[#########################               ] | 63% Completed | 18hr 6m380 P picks\n",
      "166 S picks\n",
      "['NC', 'KEB']\n",
      "[#########################               ] | 63% Completed | 18hr 6m"
     ]
    },
    {
     "name": "stderr",
     "output_type": "stream",
     "text": [
      "/tmp/ipykernel_4065716/2319557713.py:13: RuntimeWarning: All-NaN axis encountered\n",
      "  np.nanmax([stack[idx:idx + twin], _data[iseg+1, :]], axis = 0)\n",
      "WARNING:root:No stream returned. Skipping.\n",
      "WARNING:root:No stream returned. Skipping.\n"
     ]
    },
    {
     "name": "stdout",
     "output_type": "stream",
     "text": [
      "['NC', 'KBO']\n",
      "['NC', 'KSXB']\n",
      "[#########################               ] | 63% Completed | 18hr 6m"
     ]
    },
    {
     "name": "stderr",
     "output_type": "stream",
     "text": [
      "WARNING:root:No stream returned. Skipping.\n",
      "WARNING:root:No stream returned. Skipping.\n"
     ]
    },
    {
     "name": "stdout",
     "output_type": "stream",
     "text": [
      "['NC', 'KSXB']\n",
      "['7D', 'FS17B']\n",
      "[#########################               ] | 64% Completed | 18hr 6mAll prediction shape: (2, 5, 3598, 6000)\n",
      "[#########################               ] | 64% Completed | 18hr 10m496 P picks\n",
      "126 S picks\n"
     ]
    },
    {
     "name": "stderr",
     "output_type": "stream",
     "text": [
      "/tmp/ipykernel_4065716/2319557713.py:13: RuntimeWarning: All-NaN axis encountered\n",
      "  np.nanmax([stack[idx:idx + twin], _data[iseg+1, :]], axis = 0)\n"
     ]
    },
    {
     "name": "stdout",
     "output_type": "stream",
     "text": [
      "['7D', 'FS13B']\n",
      "[#########################               ] | 64% Completed | 18hr 11mAll prediction shape: (2, 5, 3599, 6000)\n",
      "[#########################               ] | 64% Completed | 18hr 15m392 P picks\n",
      "279 S picks\n",
      "[#########################               ] | 64% Completed | 18hr 15m"
     ]
    },
    {
     "name": "stderr",
     "output_type": "stream",
     "text": [
      "/tmp/ipykernel_4065716/2319557713.py:13: RuntimeWarning: All-NaN axis encountered\n",
      "  np.nanmax([stack[idx:idx + twin], _data[iseg+1, :]], axis = 0)\n",
      "WARNING:root:No stream returned. Skipping.\n"
     ]
    },
    {
     "name": "stdout",
     "output_type": "stream",
     "text": [
      "['BK', 'JCC']\n",
      "['NC', 'KHMB']\n"
     ]
    },
    {
     "name": "stderr",
     "output_type": "stream",
     "text": [
      "WARNING:root:No stream returned. Skipping.\n"
     ]
    },
    {
     "name": "stdout",
     "output_type": "stream",
     "text": [
      "['7D', 'G10B']\n",
      "[#########################               ] | 64% Completed | 18hr 15mAll prediction shape: (2, 5, 1439, 6000)\n",
      "[#########################               ] | 64% Completed | 18hr 16m37 P picks\n",
      "28 S picks\n",
      "['7D', 'G17B']\n",
      "[#########################               ] | 64% Completed | 18hr 16m"
     ]
    },
    {
     "name": "stderr",
     "output_type": "stream",
     "text": [
      "/tmp/ipykernel_4065716/2319557713.py:13: RuntimeWarning: All-NaN axis encountered\n",
      "  np.nanmax([stack[idx:idx + twin], _data[iseg+1, :]], axis = 0)\n"
     ]
    },
    {
     "name": "stdout",
     "output_type": "stream",
     "text": [
      "[#########################               ] | 64% Completed | 18hr 16mAll prediction shape: (2, 5, 3599, 6000)\n",
      "[#########################               ] | 64% Completed | 18hr 20m564 P picks\n",
      "441 S picks\n"
     ]
    },
    {
     "name": "stderr",
     "output_type": "stream",
     "text": [
      "/tmp/ipykernel_4065716/2319557713.py:13: RuntimeWarning: All-NaN axis encountered\n",
      "  np.nanmax([stack[idx:idx + twin], _data[iseg+1, :]], axis = 0)\n"
     ]
    },
    {
     "name": "stdout",
     "output_type": "stream",
     "text": [
      "['7D', 'J25B']\n",
      "[#########################               ] | 64% Completed | 18hr 21mAll prediction shape: (2, 5, 3599, 6000)\n",
      "[#########################               ] | 64% Completed | 18hr 25m454 P picks\n",
      "653 S picks\n"
     ]
    },
    {
     "name": "stderr",
     "output_type": "stream",
     "text": [
      "/tmp/ipykernel_4065716/2319557713.py:13: RuntimeWarning: All-NaN axis encountered\n",
      "  np.nanmax([stack[idx:idx + twin], _data[iseg+1, :]], axis = 0)\n"
     ]
    },
    {
     "name": "stdout",
     "output_type": "stream",
     "text": [
      "['7D', 'FS16B']\n",
      "[#########################               ] | 64% Completed | 18hr 25mAll prediction shape: (2, 5, 3599, 6000)\n",
      "[#########################               ] | 64% Completed | 18hr 29m391 P picks\n",
      "389 S picks\n"
     ]
    },
    {
     "name": "stderr",
     "output_type": "stream",
     "text": [
      "/tmp/ipykernel_4065716/2319557713.py:13: RuntimeWarning: All-NaN axis encountered\n",
      "  np.nanmax([stack[idx:idx + twin], _data[iseg+1, :]], axis = 0)\n"
     ]
    },
    {
     "name": "stdout",
     "output_type": "stream",
     "text": [
      "['7D', 'J25B']\n",
      "[##########################              ] | 65% Completed | 18hr 30mAll prediction shape: (2, 5, 3598, 6000)\n",
      "[##########################              ] | 65% Completed | 18hr 34m458 P picks\n",
      "582 S picks\n"
     ]
    },
    {
     "name": "stderr",
     "output_type": "stream",
     "text": [
      "/tmp/ipykernel_4065716/2319557713.py:13: RuntimeWarning: All-NaN axis encountered\n",
      "  np.nanmax([stack[idx:idx + twin], _data[iseg+1, :]], axis = 0)\n"
     ]
    },
    {
     "name": "stdout",
     "output_type": "stream",
     "text": [
      "['NC', 'KSXB']\n",
      "[##########################              ] | 65% Completed | 18hr 34m"
     ]
    },
    {
     "name": "stderr",
     "output_type": "stream",
     "text": [
      "WARNING:root:No stream returned. Skipping.\n"
     ]
    },
    {
     "name": "stdout",
     "output_type": "stream",
     "text": [
      "['7D', 'G10B']\n",
      "[##########################              ] | 65% Completed | 18hr 34mAll prediction shape: (2, 5, 1439, 6000)\n",
      "[##########################              ] | 65% Completed | 18hr 35m16 P picks\n",
      "12 S picks\n",
      "['7D', 'G19B']\n",
      "[##########################              ] | 65% Completed | 18hr 35m"
     ]
    },
    {
     "name": "stderr",
     "output_type": "stream",
     "text": [
      "/tmp/ipykernel_4065716/2319557713.py:13: RuntimeWarning: All-NaN axis encountered\n",
      "  np.nanmax([stack[idx:idx + twin], _data[iseg+1, :]], axis = 0)\n"
     ]
    },
    {
     "name": "stdout",
     "output_type": "stream",
     "text": [
      "[##########################              ] | 65% Completed | 18hr 35mAll prediction shape: (2, 5, 1439, 6000)\n",
      "[##########################              ] | 65% Completed | 18hr 36m40 P picks\n",
      "17 S picks\n",
      "['7D', 'G19B']\n",
      "[##########################              ] | 65% Completed | 18hr 36m"
     ]
    },
    {
     "name": "stderr",
     "output_type": "stream",
     "text": [
      "/tmp/ipykernel_4065716/2319557713.py:13: RuntimeWarning: All-NaN axis encountered\n",
      "  np.nanmax([stack[idx:idx + twin], _data[iseg+1, :]], axis = 0)\n"
     ]
    },
    {
     "name": "stdout",
     "output_type": "stream",
     "text": [
      "[##########################              ] | 65% Completed | 18hr 36mAll prediction shape: (2, 5, 1439, 6000)\n",
      "[##########################              ] | 65% Completed | 18hr 37m61 P picks\n",
      "21 S picks\n",
      "['7D', 'J25B']\n",
      "[##########################              ] | 65% Completed | 18hr 37m"
     ]
    },
    {
     "name": "stderr",
     "output_type": "stream",
     "text": [
      "/tmp/ipykernel_4065716/2319557713.py:13: RuntimeWarning: All-NaN axis encountered\n",
      "  np.nanmax([stack[idx:idx + twin], _data[iseg+1, :]], axis = 0)\n"
     ]
    },
    {
     "name": "stdout",
     "output_type": "stream",
     "text": [
      "[##########################              ] | 65% Completed | 18hr 37mAll prediction shape: (2, 5, 3599, 6000)\n",
      "[##########################              ] | 65% Completed | 18hr 41m479 P picks\n",
      "648 S picks\n"
     ]
    },
    {
     "name": "stderr",
     "output_type": "stream",
     "text": [
      "/tmp/ipykernel_4065716/2319557713.py:13: RuntimeWarning: All-NaN axis encountered\n",
      "  np.nanmax([stack[idx:idx + twin], _data[iseg+1, :]], axis = 0)\n"
     ]
    },
    {
     "name": "stdout",
     "output_type": "stream",
     "text": [
      "['7D', 'M14B']\n",
      "[##########################              ] | 65% Completed | 18hr 41mAll prediction shape: (2, 5, 1438, 6000)\n",
      "[##########################              ] | 65% Completed | 18hr 42m198 P picks\n",
      "83 S picks\n"
     ]
    },
    {
     "name": "stderr",
     "output_type": "stream",
     "text": [
      "/tmp/ipykernel_4065716/2319557713.py:13: RuntimeWarning: All-NaN axis encountered\n",
      "  np.nanmax([stack[idx:idx + twin], _data[iseg+1, :]], axis = 0)\n",
      "WARNING:root:No stream returned. Skipping.\n"
     ]
    },
    {
     "name": "stdout",
     "output_type": "stream",
     "text": [
      "['NC', 'KSXB']\n",
      "['TA', 'J01E']\n",
      "[##########################              ] | 65% Completed | 18hr 42m"
     ]
    },
    {
     "name": "stderr",
     "output_type": "stream",
     "text": [
      "WARNING:root:No stream returned. Skipping.\n"
     ]
    },
    {
     "name": "stdout",
     "output_type": "stream",
     "text": [
      "['7D', 'J09B']\n",
      "[##########################              ] | 66% Completed | 18hr 42mAll prediction shape: (2, 5, 1439, 6000)\n",
      "[##########################              ] | 66% Completed | 18hr 43m104 P picks\n",
      "16 S picks\n",
      "['NC', 'KBO']\n",
      "[##########################              ] | 66% Completed | 18hr 43m"
     ]
    },
    {
     "name": "stderr",
     "output_type": "stream",
     "text": [
      "/tmp/ipykernel_4065716/2319557713.py:13: RuntimeWarning: All-NaN axis encountered\n",
      "  np.nanmax([stack[idx:idx + twin], _data[iseg+1, :]], axis = 0)\n",
      "WARNING:root:No stream returned. Skipping.\n"
     ]
    },
    {
     "name": "stdout",
     "output_type": "stream",
     "text": [
      "['7D', 'G17B']\n",
      "[##########################              ] | 66% Completed | 18hr 43mAll prediction shape: (2, 5, 3599, 6000)\n",
      "[##########################              ] | 66% Completed | 18hr 47m578 P picks\n",
      "551 S picks\n",
      "[##########################              ] | 66% Completed | 18hr 47m"
     ]
    },
    {
     "name": "stderr",
     "output_type": "stream",
     "text": [
      "/tmp/ipykernel_4065716/2319557713.py:13: RuntimeWarning: All-NaN axis encountered\n",
      "  np.nanmax([stack[idx:idx + twin], _data[iseg+1, :]], axis = 0)\n"
     ]
    },
    {
     "name": "stdout",
     "output_type": "stream",
     "text": [
      "['UW', 'BABR']\n",
      "[##########################              ] | 66% Completed | 18hr 47m\n"
     ]
    },
    {
     "ename": "XMLSyntaxError",
     "evalue": "Start tag expected, '<' not found, line 1, column 1 (<string>, line 1)",
     "output_type": "error",
     "traceback": [
      "Traceback \u001b[0;36m(most recent call last)\u001b[0m:\n",
      "\u001b[0m  File \u001b[1;32m/home/jupyter_share/miniconda3/envs/seismo/lib/python3.9/site-packages/IPython/core/interactiveshell.py:3550\u001b[0m in \u001b[1;35mrun_code\u001b[0m\n    exec(code_obj, self.user_global_ns, self.user_ns)\u001b[0m\n",
      "\u001b[0m  Cell \u001b[1;32mIn[81], line 31\u001b[0m\n    dask.compute(lazy_results, scheduler='single-threaded')\u001b[0m\n",
      "\u001b[0m  File \u001b[1;32m/home/jupyter_share/miniconda3/envs/seismo/lib/python3.9/site-packages/dask/base.py:628\u001b[0m in \u001b[1;35mcompute\u001b[0m\n    results = schedule(dsk, keys, **kwargs)\u001b[0m\n",
      "\u001b[0m  Cell \u001b[1;32mIn[81], line 17\u001b[0m in \u001b[1;35mloop_days\u001b[0m\n    run_detection(network,station,t1,t2,filepath,twin,step,l_blnd,r_blnd)\u001b[0m\n",
      "\u001b[0m  Cell \u001b[1;32mIn[78], line 22\u001b[0m in \u001b[1;35mrun_detection\u001b[0m\n    inventory = client.get_stations(network=network, station=station)\u001b[0m\n",
      "\u001b[0m  File \u001b[1;32m/home/jupyter_share/miniconda3/envs/seismo/lib/python3.9/site-packages/obspy/clients/fdsn/client.py:756\u001b[0m in \u001b[1;35mget_stations\u001b[0m\n    inventory = read_inventory(data_stream, format='STATIONXML')\u001b[0m\n",
      "\u001b[0m  File \u001b[1;32m/home/jupyter_share/miniconda3/envs/seismo/lib/python3.9/site-packages/decorator.py:232\u001b[0m in \u001b[1;35mfun\u001b[0m\n    return caller(func, *(extras + args), **kw)\u001b[0m\n",
      "\u001b[0m  File \u001b[1;32m/home/jupyter_share/miniconda3/envs/seismo/lib/python3.9/site-packages/obspy/core/util/decorator.py:297\u001b[0m in \u001b[1;35m_map_example_filename\u001b[0m\n    return func(*args, **kwargs)\u001b[0m\n",
      "\u001b[0m  File \u001b[1;32m/home/jupyter_share/miniconda3/envs/seismo/lib/python3.9/site-packages/obspy/core/inventory/inventory.py:91\u001b[0m in \u001b[1;35mread_inventory\u001b[0m\n    return _generic_reader(path_or_file_object, _read, format=format,\u001b[0m\n",
      "\u001b[0m  File \u001b[1;32m/home/jupyter_share/miniconda3/envs/seismo/lib/python3.9/site-packages/obspy/core/util/base.py:624\u001b[0m in \u001b[1;35m_generic_reader\u001b[0m\n    generic = callback_func(pathname_or_url, **kwargs)\u001b[0m\n",
      "\u001b[0m  File \u001b[1;32m/home/jupyter_share/miniconda3/envs/seismo/lib/python3.9/site-packages/decorator.py:232\u001b[0m in \u001b[1;35mfun\u001b[0m\n    return caller(func, *(extras + args), **kw)\u001b[0m\n",
      "\u001b[0m  File \u001b[1;32m/home/jupyter_share/miniconda3/envs/seismo/lib/python3.9/site-packages/obspy/core/util/decorator.py:142\u001b[0m in \u001b[1;35muncompress_file\u001b[0m\n    return func(filename, *args, **kwargs)\u001b[0m\n",
      "\u001b[0m  File \u001b[1;32m/home/jupyter_share/miniconda3/envs/seismo/lib/python3.9/site-packages/obspy/core/inventory/inventory.py:100\u001b[0m in \u001b[1;35m_read\u001b[0m\n    inventory, format = _read_from_plugin('inventory', filename, format=format,\u001b[0m\n",
      "\u001b[0m  File \u001b[1;32m/home/jupyter_share/miniconda3/envs/seismo/lib/python3.9/site-packages/obspy/core/util/base.py:423\u001b[0m in \u001b[1;35m_read_from_plugin\u001b[0m\n    list_obj = read_format(filename, **kwargs)\u001b[0m\n",
      "\u001b[0m  File \u001b[1;32m/home/jupyter_share/miniconda3/envs/seismo/lib/python3.9/site-packages/obspy/io/stationxml/core.py:152\u001b[0m in \u001b[1;35m_read_stationxml\u001b[0m\n    root = etree.parse(path_or_file_object).getroot()\u001b[0m\n",
      "\u001b[0m  File \u001b[1;32msrc/lxml/etree.pyx:3548\u001b[0m in \u001b[1;35mlxml.etree.parse\u001b[0m\n",
      "\u001b[0m  File \u001b[1;32msrc/lxml/parser.pxi:1896\u001b[0m in \u001b[1;35mlxml.etree._parseDocument\u001b[0m\n",
      "\u001b[0m  File \u001b[1;32msrc/lxml/parser.pxi:1916\u001b[0m in \u001b[1;35mlxml.etree._parseMemoryDocument\u001b[0m\n",
      "\u001b[0m  File \u001b[1;32msrc/lxml/parser.pxi:1803\u001b[0m in \u001b[1;35mlxml.etree._parseDoc\u001b[0m\n",
      "\u001b[0m  File \u001b[1;32msrc/lxml/parser.pxi:1144\u001b[0m in \u001b[1;35mlxml.etree._BaseParser._parseDoc\u001b[0m\n",
      "\u001b[0m  File \u001b[1;32msrc/lxml/parser.pxi:618\u001b[0m in \u001b[1;35mlxml.etree._ParserContext._handleParseResultDoc\u001b[0m\n",
      "\u001b[0m  File \u001b[1;32msrc/lxml/parser.pxi:728\u001b[0m in \u001b[1;35mlxml.etree._handleParseResult\u001b[0m\n",
      "\u001b[0;36m  File \u001b[0;32msrc/lxml/parser.pxi:657\u001b[0;36m in \u001b[0;35mlxml.etree._raiseParseError\u001b[0;36m\n",
      "\u001b[0;36m  File \u001b[0;32m<string>:1\u001b[0;36m\u001b[0m\n\u001b[0;31mXMLSyntaxError\u001b[0m\u001b[0;31m:\u001b[0m Start tag expected, '<' not found, line 1, column 1\n"
     ]
    }
   ],
   "source": [
    "# Now we start setting up a parallel operation using a package called Dask.\n",
    "\n",
    "# Start by writing a new a function that is specifically designed to be run in parallel through dask. All it essentially does is define the inputs to the larger run_detection function and then runs the function itself, but because we \"decorate\" it with @dask.delayed to start, the code will recognize that it should be run in parallel.\n",
    "\n",
    "@dask.delayed\n",
    "def loop_days(task,filepath,twin,step,l_blnd,r_blnd):\n",
    "\n",
    "\t# Define the parameters that are specific to each task\n",
    "\tt1 = obspy.UTCDateTime(task[2])\n",
    "\tt2 = obspy.UTCDateTime(t1 + pd.Timedelta(1,'days'))\n",
    "\tnetwork = task[0]\n",
    "\tstation = task[1]\n",
    "    \n",
    "    #print network and station\n",
    "\tprint([network,station])\n",
    "\t# Call to the function that will perform the operation and write the results to file\n",
    "\trun_detection(network,station,t1,t2,filepath,twin,step,l_blnd,r_blnd)\n",
    "\t\n",
    "\n",
    "# Now we set up the parallel operation\n",
    "# The below builds a framework for the computer to run in parallel. This doesn't actually execute anything.\n",
    "lazy_results = [loop_days(task,filepath,twin,step,l_blnd,r_blnd) for task in task_list]\n",
    "    \n",
    "\n",
    "# The below actually executes the parallel operation!\n",
    "# It's nice to do it with the ProgressBar so you can see how long things are taking.\n",
    "# Each operation should also write a file so that is another way to check on progress.\n",
    "with ProgressBar():\n",
    "    #################################\n",
    "    # Add scheduler = 'single-threaded'\n",
    "\tdask.compute(lazy_results, scheduler='single-threaded') \n",
    "    "
   ]
  },
  {
   "cell_type": "code",
   "execution_count": null,
   "id": "7ce4d790",
   "metadata": {},
   "outputs": [],
   "source": []
  },
  {
   "cell_type": "code",
   "execution_count": null,
   "id": "fcf61b7d",
   "metadata": {},
   "outputs": [],
   "source": []
  },
  {
   "cell_type": "code",
   "execution_count": null,
   "id": "55fa2fa0",
   "metadata": {},
   "outputs": [],
   "source": []
  }
 ],
 "metadata": {
  "kernelspec": {
   "display_name": "seismo (SHARED)",
   "language": "python",
   "name": "seismo"
  },
  "language_info": {
   "codemirror_mode": {
    "name": "ipython",
    "version": 3
   },
   "file_extension": ".py",
   "mimetype": "text/x-python",
   "name": "python",
   "nbconvert_exporter": "python",
   "pygments_lexer": "ipython3",
   "version": "3.9.18"
  }
 },
 "nbformat": 4,
 "nbformat_minor": 5
}
