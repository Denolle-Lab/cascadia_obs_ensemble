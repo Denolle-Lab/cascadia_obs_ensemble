{
 "cells": [
  {
   "cell_type": "markdown",
   "id": "58f486d2",
   "metadata": {},
   "source": [
    "# Detection and Phase Picking in Cascadia using ELEP\n",
    "\n",
    "This notebook deploys in parallel a detection+phase picking job on Cascadia Initiative stations using an ensemble deep learning ELEP (Yuan et al, 2023).\n",
    "Written by Hiroto Bito.\n",
    "Modified by CoolTeam (2/14/24)"
   ]
  },
  {
   "cell_type": "code",
   "execution_count": 3,
   "id": "59ec9cbe",
   "metadata": {},
   "outputs": [],
   "source": [
    "#####################################\n",
    "import logging\n",
    "#####################################\n",
    "from obspy.clients.fdsn import Client\n",
    "import numpy as np\n",
    "import obspy\n",
    "import matplotlib.pyplot as plt\n",
    "from obspy.clients.fdsn import Client\n",
    "import datetime\n",
    "import pandas as pd\n",
    "import dask\n",
    "from dask.diagnostics import ProgressBar\n",
    "\n",
    "from obspy.clients.fdsn.client import Client\n",
    "from pnwstore.mseed import WaveformClient\n",
    "import torch\n",
    "import numpy as np\n",
    "from tqdm import tqdm\n",
    "import time \n",
    "import pandas as pd\n",
    "import gc\n",
    "import seisbench.models as sbm\n",
    "from ELEP.elep.ensemble_statistics import ensemble_statistics\n",
    "from ELEP.elep.ensemble_coherence import ensemble_semblance \n",
    "from ELEP.elep.trigger_func import picks_summary_simple"
   ]
  },
  {
   "cell_type": "code",
   "execution_count": 4,
   "id": "66e7e246",
   "metadata": {},
   "outputs": [],
   "source": [
    "device = torch.device(\"cpu\")"
   ]
  },
  {
   "cell_type": "code",
   "execution_count": 27,
   "id": "ec5a0ecb",
   "metadata": {},
   "outputs": [],
   "source": [
    "# Define clients\n",
    "client_inventory = Client('IRIS')\n",
    "client_waveform = WaveformClient()\n",
    "client_ncedc = Client('NCEDC')"
   ]
  },
  {
   "cell_type": "markdown",
   "id": "8ce01d3e",
   "metadata": {},
   "source": [
    "## Make an array of networks and stations"
   ]
  },
  {
   "cell_type": "code",
   "execution_count": 6,
   "id": "d57e842d",
   "metadata": {},
   "outputs": [],
   "source": [
    "# Read Morton's catalog\n",
    "cat_ds03 = pd.read_excel(\"../data/ds03.xlsx\")"
   ]
  },
  {
   "cell_type": "code",
   "execution_count": 7,
   "id": "f09e8e59",
   "metadata": {},
   "outputs": [
    {
     "data": {
      "text/html": [
       "<div>\n",
       "<style scoped>\n",
       "    .dataframe tbody tr th:only-of-type {\n",
       "        vertical-align: middle;\n",
       "    }\n",
       "\n",
       "    .dataframe tbody tr th {\n",
       "        vertical-align: top;\n",
       "    }\n",
       "\n",
       "    .dataframe thead th {\n",
       "        text-align: right;\n",
       "    }\n",
       "</style>\n",
       "<table border=\"1\" class=\"dataframe\">\n",
       "  <thead>\n",
       "    <tr style=\"text-align: right;\">\n",
       "      <th></th>\n",
       "      <th>CI YEAR</th>\n",
       "      <th>CLUSTER ID</th>\n",
       "      <th>STATION</th>\n",
       "      <th>NETWORK CODE</th>\n",
       "      <th>FILTER USED (Hz)</th>\n",
       "    </tr>\n",
       "  </thead>\n",
       "  <tbody>\n",
       "    <tr>\n",
       "      <th>0</th>\n",
       "      <td>1</td>\n",
       "      <td>OC1</td>\n",
       "      <td>J25A</td>\n",
       "      <td>7D</td>\n",
       "      <td>HP 5</td>\n",
       "    </tr>\n",
       "    <tr>\n",
       "      <th>1</th>\n",
       "      <td>1</td>\n",
       "      <td>NaN</td>\n",
       "      <td>M08A</td>\n",
       "      <td>7D</td>\n",
       "      <td>HP 5</td>\n",
       "    </tr>\n",
       "    <tr>\n",
       "      <th>2</th>\n",
       "      <td>1</td>\n",
       "      <td>NaN</td>\n",
       "      <td>I02D</td>\n",
       "      <td>TA</td>\n",
       "      <td>HP 5</td>\n",
       "    </tr>\n",
       "    <tr>\n",
       "      <th>3</th>\n",
       "      <td>1</td>\n",
       "      <td>OC2</td>\n",
       "      <td>J25A</td>\n",
       "      <td>7D</td>\n",
       "      <td>BP 5-10</td>\n",
       "    </tr>\n",
       "    <tr>\n",
       "      <th>4</th>\n",
       "      <td>1</td>\n",
       "      <td>NaN</td>\n",
       "      <td>J33A</td>\n",
       "      <td>7D</td>\n",
       "      <td>BP 5-15</td>\n",
       "    </tr>\n",
       "    <tr>\n",
       "      <th>...</th>\n",
       "      <td>...</td>\n",
       "      <td>...</td>\n",
       "      <td>...</td>\n",
       "      <td>...</td>\n",
       "      <td>...</td>\n",
       "    </tr>\n",
       "    <tr>\n",
       "      <th>247</th>\n",
       "      <td>4</td>\n",
       "      <td>CI4-45</td>\n",
       "      <td>FC03D</td>\n",
       "      <td>7D</td>\n",
       "      <td>BP 1-15</td>\n",
       "    </tr>\n",
       "    <tr>\n",
       "      <th>248</th>\n",
       "      <td>4</td>\n",
       "      <td>NaN</td>\n",
       "      <td>HEBO</td>\n",
       "      <td>UW</td>\n",
       "      <td>BP 2-10</td>\n",
       "    </tr>\n",
       "    <tr>\n",
       "      <th>249</th>\n",
       "      <td>4</td>\n",
       "      <td>CI4-47</td>\n",
       "      <td>NLWA</td>\n",
       "      <td>US</td>\n",
       "      <td>HP 3</td>\n",
       "    </tr>\n",
       "    <tr>\n",
       "      <th>250</th>\n",
       "      <td>4</td>\n",
       "      <td>CI4-48</td>\n",
       "      <td>OCP</td>\n",
       "      <td>UW</td>\n",
       "      <td>BP 3-10</td>\n",
       "    </tr>\n",
       "    <tr>\n",
       "      <th>251</th>\n",
       "      <td>4</td>\n",
       "      <td>NaN</td>\n",
       "      <td>OZB</td>\n",
       "      <td>CNDC</td>\n",
       "      <td>HP 5</td>\n",
       "    </tr>\n",
       "  </tbody>\n",
       "</table>\n",
       "<p>252 rows × 5 columns</p>\n",
       "</div>"
      ],
      "text/plain": [
       "     CI YEAR CLUSTER ID STATION NETWORK CODE FILTER USED (Hz)\n",
       "0          1        OC1    J25A           7D             HP 5\n",
       "1          1        NaN    M08A           7D             HP 5\n",
       "2          1        NaN    I02D           TA             HP 5\n",
       "3          1        OC2    J25A           7D          BP 5-10\n",
       "4          1        NaN    J33A           7D          BP 5-15\n",
       "..       ...        ...     ...          ...              ...\n",
       "247        4     CI4-45   FC03D           7D          BP 1-15\n",
       "248        4        NaN    HEBO           UW          BP 2-10\n",
       "249        4     CI4-47    NLWA           US             HP 3\n",
       "250        4     CI4-48     OCP           UW          BP 3-10\n",
       "251        4        NaN     OZB         CNDC             HP 5\n",
       "\n",
       "[252 rows x 5 columns]"
      ]
     },
     "execution_count": 7,
     "metadata": {},
     "output_type": "execute_result"
    }
   ],
   "source": [
    "# Show the catalog\n",
    "cat_ds03"
   ]
  },
  {
   "cell_type": "code",
   "execution_count": 8,
   "id": "eb15ebb4",
   "metadata": {},
   "outputs": [
    {
     "data": {
      "text/html": [
       "<div>\n",
       "<style scoped>\n",
       "    .dataframe tbody tr th:only-of-type {\n",
       "        vertical-align: middle;\n",
       "    }\n",
       "\n",
       "    .dataframe tbody tr th {\n",
       "        vertical-align: top;\n",
       "    }\n",
       "\n",
       "    .dataframe thead th {\n",
       "        text-align: right;\n",
       "    }\n",
       "</style>\n",
       "<table border=\"1\" class=\"dataframe\">\n",
       "  <thead>\n",
       "    <tr style=\"text-align: right;\">\n",
       "      <th></th>\n",
       "      <th>CI YEAR</th>\n",
       "      <th>CLUSTER ID</th>\n",
       "      <th>STATION</th>\n",
       "      <th>NETWORK CODE</th>\n",
       "      <th>FILTER USED (Hz)</th>\n",
       "    </tr>\n",
       "  </thead>\n",
       "  <tbody>\n",
       "    <tr>\n",
       "      <th>49</th>\n",
       "      <td>2</td>\n",
       "      <td>SM</td>\n",
       "      <td>I02D</td>\n",
       "      <td>TA</td>\n",
       "      <td>HP 5</td>\n",
       "    </tr>\n",
       "    <tr>\n",
       "      <th>50</th>\n",
       "      <td>2</td>\n",
       "      <td>NaN</td>\n",
       "      <td>M09B</td>\n",
       "      <td>7D</td>\n",
       "      <td>BP 5-10</td>\n",
       "    </tr>\n",
       "    <tr>\n",
       "      <th>51</th>\n",
       "      <td>2</td>\n",
       "      <td>NaN</td>\n",
       "      <td>J25B</td>\n",
       "      <td>7D</td>\n",
       "      <td>HP  5</td>\n",
       "    </tr>\n",
       "    <tr>\n",
       "      <th>52</th>\n",
       "      <td>2</td>\n",
       "      <td>Nclust</td>\n",
       "      <td>J25B</td>\n",
       "      <td>7D</td>\n",
       "      <td>HP5</td>\n",
       "    </tr>\n",
       "    <tr>\n",
       "      <th>53</th>\n",
       "      <td>2</td>\n",
       "      <td>NaN</td>\n",
       "      <td>J33B</td>\n",
       "      <td>7D</td>\n",
       "      <td>BP 2-10</td>\n",
       "    </tr>\n",
       "    <tr>\n",
       "      <th>...</th>\n",
       "      <td>...</td>\n",
       "      <td>...</td>\n",
       "      <td>...</td>\n",
       "      <td>...</td>\n",
       "      <td>...</td>\n",
       "    </tr>\n",
       "    <tr>\n",
       "      <th>111</th>\n",
       "      <td>2</td>\n",
       "      <td>NaN</td>\n",
       "      <td>KEB</td>\n",
       "      <td>NC</td>\n",
       "      <td>BP 3-10</td>\n",
       "    </tr>\n",
       "    <tr>\n",
       "      <th>112</th>\n",
       "      <td>2</td>\n",
       "      <td>CI2-27</td>\n",
       "      <td>J09B</td>\n",
       "      <td>7D</td>\n",
       "      <td>HP 5</td>\n",
       "    </tr>\n",
       "    <tr>\n",
       "      <th>113</th>\n",
       "      <td>2</td>\n",
       "      <td>NaN</td>\n",
       "      <td>J01E</td>\n",
       "      <td>TA</td>\n",
       "      <td>HP 5</td>\n",
       "    </tr>\n",
       "    <tr>\n",
       "      <th>114</th>\n",
       "      <td>2</td>\n",
       "      <td>CI2-28</td>\n",
       "      <td>BABR</td>\n",
       "      <td>UW</td>\n",
       "      <td>HP 5</td>\n",
       "    </tr>\n",
       "    <tr>\n",
       "      <th>115</th>\n",
       "      <td>2</td>\n",
       "      <td>NaN</td>\n",
       "      <td>J33B</td>\n",
       "      <td>7D</td>\n",
       "      <td>BP 3-20</td>\n",
       "    </tr>\n",
       "  </tbody>\n",
       "</table>\n",
       "<p>67 rows × 5 columns</p>\n",
       "</div>"
      ],
      "text/plain": [
       "     CI YEAR CLUSTER ID STATION NETWORK CODE FILTER USED (Hz)\n",
       "49         2         SM    I02D           TA             HP 5\n",
       "50         2        NaN    M09B           7D          BP 5-10\n",
       "51         2        NaN    J25B           7D            HP  5\n",
       "52         2     Nclust    J25B           7D              HP5\n",
       "53         2        NaN    J33B           7D          BP 2-10\n",
       "..       ...        ...     ...          ...              ...\n",
       "111        2        NaN     KEB           NC          BP 3-10\n",
       "112        2     CI2-27    J09B           7D             HP 5\n",
       "113        2        NaN    J01E           TA             HP 5\n",
       "114        2     CI2-28    BABR           UW             HP 5\n",
       "115        2        NaN    J33B           7D          BP 3-20\n",
       "\n",
       "[67 rows x 5 columns]"
      ]
     },
     "execution_count": 8,
     "metadata": {},
     "output_type": "execute_result"
    }
   ],
   "source": [
    "# Get the names of the networks\n",
    "cat_ds03_CI2 = cat_ds03[cat_ds03['CI YEAR']==2]\n",
    "cat_ds03_CI2"
   ]
  },
  {
   "cell_type": "code",
   "execution_count": 9,
   "id": "c5c1e17b",
   "metadata": {},
   "outputs": [],
   "source": [
    "# Assign the network codes\n",
    "networks= cat_ds03_CI2['NETWORK CODE'].unique()"
   ]
  },
  {
   "cell_type": "code",
   "execution_count": 10,
   "id": "3adc2d6a",
   "metadata": {},
   "outputs": [
    {
     "data": {
      "text/plain": [
       "array([['TA', 'I02D'],\n",
       "       ['TA', 'J01E'],\n",
       "       ['7D', 'G26B'],\n",
       "       ['7D', 'G25B'],\n",
       "       ['7D', 'M09B'],\n",
       "       ['7D', 'G19B'],\n",
       "       ['7D', 'FS20B'],\n",
       "       ['7D', 'G10B'],\n",
       "       ['7D', 'M14B'],\n",
       "       ['7D', 'J09B'],\n",
       "       ['7D', 'J33B'],\n",
       "       ['7D', 'FS13B'],\n",
       "       ['7D', 'J25B'],\n",
       "       ['7D', 'FS09B'],\n",
       "       ['7D', 'FS17B'],\n",
       "       ['7D', 'G27B'],\n",
       "       ['7D', 'M12B'],\n",
       "       ['7D', 'G17B'],\n",
       "       ['7D', 'FS16B'],\n",
       "       ['UW', 'I02D'],\n",
       "       ['UW', 'BABR'],\n",
       "       ['NC', 'KHBB'],\n",
       "       ['NC', 'KBO'],\n",
       "       ['NC', 'KRMB'],\n",
       "       ['NC', 'KOM'],\n",
       "       ['NC', 'KSXB'],\n",
       "       ['NC', 'KEB'],\n",
       "       ['NC', 'KMPB'],\n",
       "       ['NC', 'KHMB'],\n",
       "       ['BK', 'JCC']], dtype='<U5')"
      ]
     },
     "execution_count": 10,
     "metadata": {},
     "output_type": "execute_result"
    }
   ],
   "source": [
    "# Make a list of networks and stations\n",
    "networks_stas = []\n",
    "for i in range(len(networks)):\n",
    "    network = networks[i]\n",
    "    sta = cat_ds03_CI2.loc[cat_ds03_CI2['NETWORK CODE']==network, 'STATION']\n",
    "    \n",
    "    sta = [i.replace(\" \", \"\") for i in sta]\n",
    "    sta = set(sta)\n",
    "    sta =list(sta)\n",
    "\n",
    "    for j in range(len(sta)):\n",
    "        networks_stas.append([network,sta[j]])\n",
    "\n",
    "networks_stas =np.array(networks_stas)\n",
    "networks_stas"
   ]
  },
  {
   "cell_type": "code",
   "execution_count": 11,
   "id": "17b55e18",
   "metadata": {},
   "outputs": [
    {
     "name": "stdout",
     "output_type": "stream",
     "text": [
      "30\n"
     ]
    }
   ],
   "source": [
    "print(len(networks_stas))"
   ]
  },
  {
   "cell_type": "code",
   "execution_count": 12,
   "id": "4fd7eace",
   "metadata": {},
   "outputs": [
    {
     "name": "stdout",
     "output_type": "stream",
     "text": [
      "['TA' 'I02D']\n",
      "['TA' 'J01E']\n",
      "['7D' 'G26B']\n",
      "['7D' 'G25B']\n",
      "['7D' 'M09B']\n",
      "['7D' 'G19B']\n",
      "['7D' 'FS20B']\n",
      "['7D' 'G10B']\n",
      "['7D' 'M14B']\n",
      "['7D' 'J09B']\n",
      "['7D' 'J33B']\n",
      "['7D' 'FS13B']\n",
      "['7D' 'J25B']\n",
      "['7D' 'FS09B']\n",
      "['7D' 'FS17B']\n",
      "['7D' 'G27B']\n",
      "['7D' 'M12B']\n",
      "['7D' 'G17B']\n",
      "['7D' 'FS16B']\n",
      "['UW' 'I02D']\n"
     ]
    },
    {
     "ename": "FDSNNoDataException",
     "evalue": "No data available for request.\nHTTP Status code: 204\nDetailed response of server:\n\n",
     "output_type": "error",
     "traceback": [
      "\u001b[0;31m---------------------------------------------------------------------------\u001b[0m",
      "\u001b[0;31mFDSNNoDataException\u001b[0m                       Traceback (most recent call last)",
      "Cell \u001b[0;32mIn[12], line 6\u001b[0m\n\u001b[1;32m      4\u001b[0m \u001b[38;5;28mprint\u001b[39m(networks_stas[i])\n\u001b[1;32m      5\u001b[0m index\u001b[38;5;241m.\u001b[39mappend(i)\n\u001b[0;32m----> 6\u001b[0m inventory \u001b[38;5;241m=\u001b[39m \u001b[43mclient\u001b[49m\u001b[38;5;241;43m.\u001b[39;49m\u001b[43mget_stations\u001b[49m\u001b[43m(\u001b[49m\u001b[43mnetwork\u001b[49m\u001b[38;5;241;43m=\u001b[39;49m\u001b[43mnetworks_stas\u001b[49m\u001b[43m[\u001b[49m\u001b[43mi\u001b[49m\u001b[43m]\u001b[49m\u001b[43m[\u001b[49m\u001b[38;5;241;43m0\u001b[39;49m\u001b[43m]\u001b[49m\u001b[43m,\u001b[49m\u001b[43m \u001b[49m\u001b[43mstation\u001b[49m\u001b[38;5;241;43m=\u001b[39;49m\u001b[43mnetworks_stas\u001b[49m\u001b[43m[\u001b[49m\u001b[43mi\u001b[49m\u001b[43m]\u001b[49m\u001b[43m[\u001b[49m\u001b[38;5;241;43m1\u001b[39;49m\u001b[43m]\u001b[49m\u001b[43m)\u001b[49m\n",
      "File \u001b[0;32m/home/jupyter_share/miniconda3/envs/seismo/lib/python3.9/site-packages/obspy/clients/fdsn/client.py:748\u001b[0m, in \u001b[0;36mClient.get_stations\u001b[0;34m(self, starttime, endtime, startbefore, startafter, endbefore, endafter, network, station, location, channel, minlatitude, maxlatitude, minlongitude, maxlongitude, latitude, longitude, minradius, maxradius, level, includerestricted, includeavailability, updatedafter, matchtimeseries, filename, format, **kwargs)\u001b[0m\n\u001b[1;32m    743\u001b[0m setup_query_dict(\u001b[38;5;124m'\u001b[39m\u001b[38;5;124mstation\u001b[39m\u001b[38;5;124m'\u001b[39m, locs, kwargs)\n\u001b[1;32m    745\u001b[0m url \u001b[38;5;241m=\u001b[39m \u001b[38;5;28mself\u001b[39m\u001b[38;5;241m.\u001b[39m_create_url_from_parameters(\n\u001b[1;32m    746\u001b[0m     \u001b[38;5;124m\"\u001b[39m\u001b[38;5;124mstation\u001b[39m\u001b[38;5;124m\"\u001b[39m, DEFAULT_PARAMETERS[\u001b[38;5;124m'\u001b[39m\u001b[38;5;124mstation\u001b[39m\u001b[38;5;124m'\u001b[39m], kwargs)\n\u001b[0;32m--> 748\u001b[0m data_stream \u001b[38;5;241m=\u001b[39m \u001b[38;5;28;43mself\u001b[39;49m\u001b[38;5;241;43m.\u001b[39;49m\u001b[43m_download\u001b[49m\u001b[43m(\u001b[49m\u001b[43murl\u001b[49m\u001b[43m)\u001b[49m\n\u001b[1;32m    749\u001b[0m data_stream\u001b[38;5;241m.\u001b[39mseek(\u001b[38;5;241m0\u001b[39m, \u001b[38;5;241m0\u001b[39m)\n\u001b[1;32m    750\u001b[0m \u001b[38;5;28;01mif\u001b[39;00m filename:\n",
      "File \u001b[0;32m/home/jupyter_share/miniconda3/envs/seismo/lib/python3.9/site-packages/obspy/clients/fdsn/client.py:1486\u001b[0m, in \u001b[0;36mClient._download\u001b[0;34m(self, url, return_string, data, use_gzip, content_type)\u001b[0m\n\u001b[1;32m   1481\u001b[0m     headers[\u001b[38;5;124m'\u001b[39m\u001b[38;5;124mContent-Type\u001b[39m\u001b[38;5;124m'\u001b[39m] \u001b[38;5;241m=\u001b[39m content_type\n\u001b[1;32m   1482\u001b[0m code, data \u001b[38;5;241m=\u001b[39m download_url(\n\u001b[1;32m   1483\u001b[0m     url, opener\u001b[38;5;241m=\u001b[39m\u001b[38;5;28mself\u001b[39m\u001b[38;5;241m.\u001b[39m_url_opener, headers\u001b[38;5;241m=\u001b[39mheaders,\n\u001b[1;32m   1484\u001b[0m     debug\u001b[38;5;241m=\u001b[39m\u001b[38;5;28mself\u001b[39m\u001b[38;5;241m.\u001b[39mdebug, return_string\u001b[38;5;241m=\u001b[39mreturn_string, data\u001b[38;5;241m=\u001b[39mdata,\n\u001b[1;32m   1485\u001b[0m     timeout\u001b[38;5;241m=\u001b[39m\u001b[38;5;28mself\u001b[39m\u001b[38;5;241m.\u001b[39mtimeout, use_gzip\u001b[38;5;241m=\u001b[39muse_gzip)\n\u001b[0;32m-> 1486\u001b[0m \u001b[43mraise_on_error\u001b[49m\u001b[43m(\u001b[49m\u001b[43mcode\u001b[49m\u001b[43m,\u001b[49m\u001b[43m \u001b[49m\u001b[43mdata\u001b[49m\u001b[43m)\u001b[49m\n\u001b[1;32m   1487\u001b[0m \u001b[38;5;28;01mreturn\u001b[39;00m data\n",
      "File \u001b[0;32m/home/jupyter_share/miniconda3/envs/seismo/lib/python3.9/site-packages/obspy/clients/fdsn/client.py:1813\u001b[0m, in \u001b[0;36mraise_on_error\u001b[0;34m(code, data)\u001b[0m\n\u001b[1;32m   1811\u001b[0m \u001b[38;5;66;03m# No data.\u001b[39;00m\n\u001b[1;32m   1812\u001b[0m \u001b[38;5;28;01mif\u001b[39;00m code \u001b[38;5;241m==\u001b[39m \u001b[38;5;241m204\u001b[39m:\n\u001b[0;32m-> 1813\u001b[0m     \u001b[38;5;28;01mraise\u001b[39;00m FDSNNoDataException(\u001b[38;5;124m\"\u001b[39m\u001b[38;5;124mNo data available for request.\u001b[39m\u001b[38;5;124m\"\u001b[39m,\n\u001b[1;32m   1814\u001b[0m                               server_info)\n\u001b[1;32m   1815\u001b[0m \u001b[38;5;28;01melif\u001b[39;00m code \u001b[38;5;241m==\u001b[39m \u001b[38;5;241m400\u001b[39m:\n\u001b[1;32m   1816\u001b[0m     msg \u001b[38;5;241m=\u001b[39m (\u001b[38;5;124m\"\u001b[39m\u001b[38;5;124mBad request. If you think your request was valid \u001b[39m\u001b[38;5;124m\"\u001b[39m\n\u001b[1;32m   1817\u001b[0m            \u001b[38;5;124m\"\u001b[39m\u001b[38;5;124mplease contact the developers.\u001b[39m\u001b[38;5;124m\"\u001b[39m)\n",
      "\u001b[0;31mFDSNNoDataException\u001b[0m: No data available for request.\nHTTP Status code: 204\nDetailed response of server:\n\n"
     ]
    }
   ],
   "source": [
    "index =[]\n",
    "client= client_inventory\n",
    "for i, ii in enumerate(networks_stas):\n",
    "    print(networks_stas[i])\n",
    "    index.append(i)\n",
    "    inventory = client.get_stations(network=networks_stas[i][0], station=networks_stas[i][1])\n",
    "    "
   ]
  },
  {
   "cell_type": "code",
   "execution_count": 13,
   "id": "fb5776aa",
   "metadata": {},
   "outputs": [
    {
     "data": {
      "text/plain": [
       "[0, 1, 2, 3, 4, 5, 6, 7, 8, 9, 10, 11, 12, 13, 14, 15, 16, 17, 18, 19]"
      ]
     },
     "execution_count": 13,
     "metadata": {},
     "output_type": "execute_result"
    }
   ],
   "source": [
    "index"
   ]
  },
  {
   "cell_type": "code",
   "execution_count": 14,
   "id": "4feee4b6",
   "metadata": {},
   "outputs": [
    {
     "data": {
      "text/plain": [
       "array([['TA', 'I02D'],\n",
       "       ['TA', 'J01E'],\n",
       "       ['7D', 'G26B'],\n",
       "       ['7D', 'G25B'],\n",
       "       ['7D', 'M09B'],\n",
       "       ['7D', 'G19B'],\n",
       "       ['7D', 'FS20B'],\n",
       "       ['7D', 'G10B'],\n",
       "       ['7D', 'M14B'],\n",
       "       ['7D', 'J09B'],\n",
       "       ['7D', 'J33B'],\n",
       "       ['7D', 'FS13B'],\n",
       "       ['7D', 'J25B'],\n",
       "       ['7D', 'FS09B'],\n",
       "       ['7D', 'FS17B'],\n",
       "       ['7D', 'G27B'],\n",
       "       ['7D', 'M12B'],\n",
       "       ['7D', 'G17B'],\n",
       "       ['7D', 'FS16B'],\n",
       "       ['UW', 'BABR'],\n",
       "       ['NC', 'KHBB'],\n",
       "       ['NC', 'KBO'],\n",
       "       ['NC', 'KRMB'],\n",
       "       ['NC', 'KOM'],\n",
       "       ['NC', 'KSXB'],\n",
       "       ['NC', 'KEB'],\n",
       "       ['NC', 'KMPB'],\n",
       "       ['NC', 'KHMB'],\n",
       "       ['BK', 'JCC']], dtype='<U5')"
      ]
     },
     "execution_count": 14,
     "metadata": {},
     "output_type": "execute_result"
    }
   ],
   "source": [
    "# Since the ['UW' 'I02D'] pair give an error when receiveing their data through inventory, remove this pair.\n",
    "networks_stas = np.delete(networks_stas, index[-1],axis=0)\n",
    "networks_stas"
   ]
  },
  {
   "cell_type": "code",
   "execution_count": 15,
   "id": "232e2712",
   "metadata": {},
   "outputs": [
    {
     "name": "stdout",
     "output_type": "stream",
     "text": [
      "['TA' 'I02D']\n",
      "['TA' 'J01E']\n",
      "['7D' 'G26B']\n",
      "['7D' 'G25B']\n",
      "['7D' 'M09B']\n",
      "['7D' 'G19B']\n",
      "['7D' 'FS20B']\n",
      "['7D' 'G10B']\n",
      "['7D' 'M14B']\n",
      "['7D' 'J09B']\n",
      "['7D' 'J33B']\n",
      "['7D' 'FS13B']\n",
      "['7D' 'J25B']\n",
      "['7D' 'FS09B']\n",
      "['7D' 'FS17B']\n",
      "['7D' 'G27B']\n",
      "['7D' 'M12B']\n",
      "['7D' 'G17B']\n",
      "['7D' 'FS16B']\n",
      "['UW' 'BABR']\n",
      "['NC' 'KHBB']\n",
      "['NC' 'KBO']\n",
      "['NC' 'KRMB']\n",
      "['NC' 'KOM']\n",
      "['NC' 'KSXB']\n",
      "['NC' 'KEB']\n",
      "['NC' 'KMPB']\n",
      "['NC' 'KHMB']\n",
      "['BK' 'JCC']\n"
     ]
    }
   ],
   "source": [
    "# Test if the array removed the  ['UW' 'I02D'] works through inventory this time. It works.\n",
    "index =[]\n",
    "client= client_inventory\n",
    "for i, ii in enumerate(networks_stas):\n",
    "    print(networks_stas[i])\n",
    "    index.append(i)\n",
    "    inventory = client.get_stations(network=networks_stas[i][0], station=networks_stas[i][1])"
   ]
  },
  {
   "cell_type": "code",
   "execution_count": 26,
   "id": "a8631d60",
   "metadata": {},
   "outputs": [
    {
     "data": {
      "text/plain": [
       "29"
      ]
     },
     "execution_count": 26,
     "metadata": {},
     "output_type": "execute_result"
    }
   ],
   "source": [
    "len(networks_stas)"
   ]
  },
  {
   "cell_type": "markdown",
   "id": "5984e98e",
   "metadata": {},
   "source": [
    "## Actual Picking"
   ]
  },
  {
   "cell_type": "code",
   "execution_count": 16,
   "id": "4c157967",
   "metadata": {},
   "outputs": [],
   "source": [
    "# Now create your list of days to loop over!\n",
    "t1 = datetime.datetime(year=2012,month=10,day=1,hour=0,minute=0,second=0,microsecond=0)\n",
    "t2 = datetime.datetime(year=2012,month=10,day=31,hour=0,minute=0,second=0,microsecond=0)\n",
    "time_bins = pd.to_datetime(np.arange(t1,t2+datetime.timedelta(days=1),pd.Timedelta(1,'days')))"
   ]
  },
  {
   "cell_type": "code",
   "execution_count": 17,
   "id": "60220543",
   "metadata": {},
   "outputs": [],
   "source": [
    "import os\n",
    "os.makedirs(\"../data/catalogs_elep_all_stations_20121001_to_20121031\",exist_ok=True)"
   ]
  },
  {
   "cell_type": "code",
   "execution_count": 18,
   "id": "ff0cf559",
   "metadata": {},
   "outputs": [
    {
     "name": "stdout",
     "output_type": "stream",
     "text": [
      "../data/catalogs_elep_all_stations_20121001_to_20121031/M14B_20121001.csv\n"
     ]
    }
   ],
   "source": [
    "# Specify some parameters - you can change what you specify here vs. within the large function, this is just an example.\n",
    "# Depending on whether the pertained models take a long time to load every time, you may want to load those outside the function and just feed them to the function rather than loading them every time in parallel.\n",
    "twin = 6000     # length of time window\n",
    "step = 3000     # step length\n",
    "l_blnd, r_blnd = 500, 500\n",
    "\n",
    "###########################\n",
    "# This is not a valid file path to save files. \n",
    "filepath = \"../data/catalogs_elep_all_stations_20121001_to_20121031/\"\n",
    "\n",
    "# If we define:\n",
    "station = \"M14B\"\n",
    "# t1 = datetime(2012,10,1)\n",
    "tstring = t1.strftime('%Y%m%d')\n",
    "\n",
    "# You use this arguments below as (it should be filepath, not file_path)\n",
    "file_name = filepath+station+'_'+tstring+'.csv'\n",
    "\n",
    "# Then your file name will be:\n",
    "print(file_name)\n",
    "#https://cascadia.ess.washington.edu/jhub/user/hbito/notebooks/elep-test/surface_events/src7D_20121001.csv\n",
    "\n",
    "# 1. There is a missing \"/\" after src in filepath.\n",
    "# 2. This string beginning with https:// is a web link. You can replace filepath as:\n",
    "# filepath = \"/home/hbito/elep-test/surface_events/src/\"\n",
    "# 3. it may not be recommended to save data product to a src (source) folder. \n",
    "#    People usually make other directories to save those final files. \n",
    "#    Just a notice: not our top prioirty though.\n",
    "###########################"
   ]
  },
  {
   "cell_type": "code",
   "execution_count": 19,
   "id": "d5db51e4",
   "metadata": {},
   "outputs": [],
   "source": [
    "# download models\n",
    "pretrain_list = [\"pnw\",\"ethz\",\"instance\",\"scedc\",\"stead\",\"geofon\"]\n",
    "pn_pnw_model = sbm.EQTransformer.from_pretrained('pnw')\n",
    "pn_ethz_model = sbm.EQTransformer.from_pretrained(\"ethz\")\n",
    "pn_instance_model = sbm.EQTransformer.from_pretrained(\"instance\")\n",
    "pn_scedc_model = sbm.EQTransformer.from_pretrained(\"scedc\")\n",
    "pn_stead_model = sbm.EQTransformer.from_pretrained(\"stead\")\n",
    "pn_geofon_model = sbm.EQTransformer.from_pretrained(\"geofon\")"
   ]
  },
  {
   "cell_type": "code",
   "execution_count": 20,
   "id": "dd7d1273",
   "metadata": {},
   "outputs": [],
   "source": [
    "# Define the function for stacking the segmented time windows after prediction\n",
    "##################################### add a nseg argument here\n",
    "# def stacking(data, npts, l_blnd, r_blnd):\n",
    "def stacking(data, npts, l_blnd, r_blnd, nseg):\n",
    "#####################################\n",
    "    _data = data.copy()\n",
    "    stack = np.full(npts, np.nan, dtype = np.float32)\n",
    "    _data[:, :l_blnd] = np.nan; _data[:, -r_blnd:] = np.nan\n",
    "    stack[:twin] = _data[0, :]\n",
    "    for iseg in range(nseg-1):\n",
    "        idx = step*(iseg+1)\n",
    "        stack[idx:idx + twin] = \\\n",
    "                np.nanmax([stack[idx:idx + twin], _data[iseg+1, :]], axis = 0)\n",
    "    return stack"
   ]
  },
  {
   "cell_type": "code",
   "execution_count": 21,
   "id": "7cdf915c",
   "metadata": {},
   "outputs": [],
   "source": [
    "# Write your function that you want to run in parallel: I recommend you design this to essentially perform your entire workflow on one station for one day, and write a csv file for that station, much the way you already have it.\n",
    "# This is what will run in parallel!\n",
    "# So, the only inputs are the station name, the start and end times you want to detect for, the path of the folder you want to write the results to, and the parameters you already specified. Here is where you could also feed in the preloaded models if that becomes important.\n",
    "def run_detection(network,station,t1,t2,filepath,twin,step,l_blnd,r_blnd):\n",
    "    # Define tstring\n",
    "    tstring = t1.strftime('%Y%m%d')\n",
    "\n",
    "    if os.path.exists(filepath+station+'_'+tstring+'.csv'):\n",
    "        return \n",
    "\t# Load data\n",
    "\t# Reshape data\n",
    "\t# Predict on base models\n",
    "\t# Stack\n",
    "\t# Create and write csv file. Define file name using the station code and the input filepath\n",
    "    \n",
    "    # Get the inventory for the stations\n",
    "    ###############################\n",
    "    #stations = station           # Seems you never use this \"stations\" again\n",
    "                                  # so you can just use \"station\"\n",
    "    ###############################\n",
    "    network = network\n",
    "#     channels = '[HB][HN][BH]?'\n",
    "#     channels = 'HH?,HN?,BH?' \n",
    "    channels = '?H?'\n",
    "    \n",
    "    client = client_inventory\n",
    "    inventory = client.get_stations(network=network, station=station)\n",
    "    \n",
    "    # Get waveforms and filter\n",
    "    ###############################\n",
    "   #sdata = client_waveform.get_waveforms(network=\"7D\", station=station, channel=\"BH?\", starttime=t1, \n",
    "   #                                      year=t1.strftime('%Y'), month=t1.strftime('%m'), \n",
    "   #                                      day=t1.strftime('%d'))\n",
    "   # You've already defined stations, network, channels above, so you can use them here.\n",
    "   # You don't need \"starttime = t1\" argument.\n",
    "    if network == 'NC':\n",
    "        sdata = client_ncedc.get_waveforms(network=network, station=station, channel=channels, \n",
    "                                          year=t1.strftime('%Y'), month=t1.strftime('%m'), \n",
    "                                          day=t1.strftime('%d')) \n",
    "    else: \n",
    "        sdata = client_waveform.get_waveforms(network=network, station=station, channel=channels, \n",
    "                                          year=t1.strftime('%Y'), month=t1.strftime('%m'), \n",
    "                                          day=t1.strftime('%d'))\n",
    "    \n",
    "    \n",
    "    sdata = sdata.select(channel = \"[HB]H?\")\n",
    "    ###############################\n",
    "    # If no data returned, skipping\n",
    "    if len(sdata) == 0:\n",
    "        logging.warning(\"No stream returned. Skipping.\")\n",
    "        return\n",
    "    ###############################\n",
    "    \n",
    "    sdata.filter(type='bandpass',freqmin=4,freqmax=15)\n",
    "    \n",
    "    ###############################\n",
    "    sdata.merge(fill_value='interpolate') # fill gaps if there are any.\n",
    "    ###############################\n",
    "\n",
    "    # Get the necassary information about the station\n",
    "    delta = sdata[0].stats.delta\n",
    "    starttime = sdata[0].stats.starttime\n",
    "    fs = sdata[0].stats.sampling_rate\n",
    "    dt = 1/fs\n",
    "    \n",
    "\n",
    "    # Make all the traces in the stream have the same lengths\n",
    "    max_starttime = max([tr.stats.starttime for tr in sdata])\n",
    "    min_endtime = min([tr.stats.endtime for tr in sdata])\n",
    "    \n",
    "    for tr in sdata:\n",
    "        tr.trim(starttime=max_starttime,endtime=min_endtime, nearest_sample=True)    \n",
    "        \n",
    "    # Reshaping data\n",
    "    arr_sdata = np.array(sdata)\n",
    "    npts = arr_sdata.shape[1]\n",
    "    ############################### avoiding errors at the end of a stream\n",
    "   #nseg = int(np.ceil((npts - twin) / step)) + 1\n",
    "    nseg = int(np.floor((npts - twin) / step)) + 1\n",
    "    ###############################\n",
    "    windows = np.zeros(shape=(nseg, 3, twin), dtype= np.float32)\n",
    "    tap = 0.5 * (1 + np.cos(np.linspace(np.pi, 2 * np.pi, 6)))\n",
    "    \n",
    "    # Define the parameters for semblance\n",
    "    paras_semblance = {'dt':dt, 'semblance_order':2, 'window_flag':True, \n",
    "                   'semblance_win':0.5, 'weight_flag':'max'}\n",
    "    p_thrd, s_thrd = 0.05, 0.05\n",
    "\n",
    "    windows_std = np.zeros(shape=(nseg, 3, twin), dtype= np.float32)\n",
    "    windows_max = np.zeros(shape=(nseg, 3, twin), dtype= np.float32)\n",
    "    windows = np.zeros(shape=(nseg, 3, twin), dtype= np.float32)\n",
    "    windows_idx = np.zeros(nseg, dtype=np.int32)\n",
    "\n",
    "    for iseg in range(nseg):\n",
    "        idx = iseg * step\n",
    "        windows[iseg, :] = arr_sdata[:, idx:idx + twin]\n",
    "        windows[iseg, :] -= np.mean(windows[iseg, :], axis=-1, keepdims=True)\n",
    "        # original use std norm\n",
    "        windows_std[iseg, :] = windows[iseg, :] / np.std(windows[iseg, :]) + 1e-10\n",
    "        # others use max norm\n",
    "        windows_max[iseg, :] = windows[iseg, :] / (np.max(np.abs(windows[iseg, :]), axis=-1, keepdims=True))\n",
    "        windows_idx[iseg] = idx\n",
    "\n",
    "    # taper\n",
    "    windows_std[:, :, :6] *= tap; windows_std[:, :, -6:] *= tap[::-1]; \n",
    "    windows_max[:, :, :6] *= tap; windows_max[:, :, -6:] *= tap[::-1];\n",
    "    del windows\n",
    "\n",
    "#     print(f\"Window data shape: {windows_std.shape}\")\n",
    "    \n",
    "    # Predict on base models\n",
    "    \n",
    "    pretrain_list = ['original', 'ethz', 'instance', 'scedc', 'stead']\n",
    "\n",
    "    # dim 0: 0 = P, 1 = S\n",
    "    batch_pred = np.zeros([2, len(pretrain_list), nseg, twin], dtype = np.float32) \n",
    "    for ipre, pretrain in enumerate(pretrain_list):\n",
    "        t0 = time.time()\n",
    "        eqt = sbm.EQTransformer.from_pretrained(pretrain)\n",
    "        eqt.to(device);\n",
    "        eqt._annotate_args['overlap'] = ('Overlap between prediction windows in samples \\\n",
    "                                        (only for window prediction models)', step)\n",
    "        eqt._annotate_args['blinding'] = ('Number of prediction samples to discard on \\\n",
    "                                         each side of each window prediction', (l_blnd, r_blnd))\n",
    "        eqt.eval();\n",
    "        if pretrain == 'original':\n",
    "            # batch prediction through torch model\n",
    "            windows_std_tt = torch.Tensor(windows_std)\n",
    "            _torch_pred = eqt(windows_std_tt.to(device))\n",
    "        else:\n",
    "            windows_max_tt = torch.Tensor(windows_max)\n",
    "            _torch_pred = eqt(windows_max_tt.to(device))\n",
    "        batch_pred[0, ipre, :] = _torch_pred[1].detach().cpu().numpy()\n",
    "        batch_pred[1, ipre, :] = _torch_pred[2].detach().cpu().numpy()\n",
    "\n",
    "    # clean up memory\n",
    "    del _torch_pred, windows_max_tt, windows_std_tt\n",
    "    del windows_std, windows_max\n",
    "    gc.collect()\n",
    "    torch.cuda.empty_cache()\n",
    "\n",
    "    print(f\"All prediction shape: {batch_pred.shape}\")\n",
    "    \n",
    "    ####################### You don't need this\n",
    "#     pretrain_pred = np.zeros([2, len(pretrain_list), npts], dtype = np.float32)\n",
    "#     for ipre, pretrain in enumerate(pretrain_list):\n",
    "#        # 0 for P-wave\n",
    "#         pretrain_pred[0, ipre, :] = stacking(batch_pred[0, ipre, :], npts, l_blnd, r_blnd)\n",
    "# \n",
    "#        # 1 for S-wave\n",
    "#        pretrain_pred[1, ipre, :] = stacking(batch_pred[1, ipre, :], npts, l_blnd, r_blnd)\n",
    "    ####################### You don't need this\n",
    "    \n",
    "    smb_pred = np.zeros([2, nseg, twin], dtype = np.float32)\n",
    "    # calculate the semblance\n",
    "    ## the semblance may takes a while bit to calculate\n",
    "    \n",
    "    ############################# remove tqdm (extra progress bar)\n",
    "#     for iseg in tqdm(range(nseg)):\n",
    "    for iseg in range(nseg):\n",
    "    #############################\n",
    "        # 0 for P-wave\n",
    "        smb_pred[0, iseg, :] = ensemble_semblance(batch_pred[0, :, iseg, :], paras_semblance)\n",
    "\n",
    "        # 1 for P-wave\n",
    "        smb_pred[1, iseg, :] = ensemble_semblance(batch_pred[1, :, iseg, :], paras_semblance)\n",
    "\n",
    "    ## ... and stack\n",
    "    # 0 for P-wave\n",
    "    ####################### add a nseg argument here\n",
    "    #smb_p = stacking(smb_pred[0, :], npts, l_blnd, r_blnd)\n",
    "    smb_p = stacking(smb_pred[0, :], npts, l_blnd, r_blnd, nseg)\n",
    "\n",
    "    # 1 for P-wave\n",
    "    #smb_s = stacking(smb_pred[1, :], npts, l_blnd, r_blnd)\n",
    "    smb_s = stacking(smb_pred[1, :], npts, l_blnd, r_blnd, nseg)\n",
    "    #######################\n",
    "    # clean-up RAM\n",
    "    del smb_pred, batch_pred\n",
    "\n",
    "    p_index = picks_summary_simple(smb_p, p_thrd)\n",
    "    s_index = picks_summary_simple(smb_s, s_thrd)\n",
    "    print(f\"{len(p_index)} P picks\\n{len(s_index)} S picks\")\n",
    "    \n",
    "    # Create lists and a data frame\n",
    "    event_id = []\n",
    "    source_type = []\n",
    "    station_network_code = []\n",
    "    station_channel_code = []\n",
    "    station_code = []\n",
    "    station_location_code = []\n",
    "    station_latitude_deg= []\n",
    "    station_longitude_deg = []\n",
    "    station_elevation_m = []\n",
    "    trace_name = []\n",
    "    trace_sampling_rate_hz = []\n",
    "    trace_start_time = []\n",
    "    trace_S_arrival_sample = []\n",
    "    trace_P_arrival_sample = []\n",
    "    trace_S_onset = []\n",
    "    trace_P_onset = []\n",
    "    trace_snr_db = []\n",
    "    trace_p_arrival = []\n",
    "    trace_s_arrival = []\n",
    "\n",
    "    for i, idx in enumerate(p_index):\n",
    "        event_id.append(' ')\n",
    "        source_type.append(' ')\n",
    "        station_network_code.append(network)   # Change to otehr networks\n",
    "        station_channel_code.append(' ')\n",
    "        station_code.append(station)\n",
    "        station_location_code.append(sdata[0].stats.location)   \n",
    "        station_latitude_deg.append(inventory[0][0].latitude)\n",
    "        station_longitude_deg.append(inventory[0][0].longitude)   \n",
    "        station_elevation_m.append(inventory[0][0].elevation)\n",
    "        trace_name.append(' ')\n",
    "        trace_sampling_rate_hz.append(sdata[0].stats.sampling_rate)\n",
    "        trace_start_time.append(sdata[0].stats.starttime)\n",
    "        trace_S_arrival_sample.append(' ')\n",
    "        trace_P_arrival_sample.append(' ')\n",
    "        trace_S_onset.append(' ')\n",
    "        trace_P_onset.append(' ')\n",
    "        trace_snr_db.append(' ')\n",
    "        trace_s_arrival.append(np.nan)\n",
    "        trace_p_arrival.append(str(starttime  + idx * delta))\n",
    "\n",
    "    for i, idx in enumerate(s_index):\n",
    "        event_id.append(' ')\n",
    "        source_type.append(' ')\n",
    "        station_network_code.append(network) # Change to otehr networks\n",
    "        station_channel_code.append(' ')\n",
    "        station_code.append(station)\n",
    "        station_location_code.append(sdata[0].stats.location)   \n",
    "        station_latitude_deg.append(inventory[0][0].latitude)\n",
    "        station_longitude_deg.append(inventory[0][0].longitude)   \n",
    "        station_elevation_m.append(inventory[0][0].elevation)\n",
    "        trace_name.append(' ')\n",
    "        trace_sampling_rate_hz.append(sdata[0].stats.sampling_rate)\n",
    "        trace_start_time.append(sdata[0].stats.starttime)\n",
    "        trace_S_arrival_sample.append(' ')\n",
    "        trace_P_arrival_sample.append(' ')\n",
    "        trace_S_onset.append(' ')\n",
    "        trace_P_onset.append(' ')\n",
    "        trace_snr_db.append(' ')\n",
    "        trace_s_arrival.append(str(starttime  + idx * delta))\n",
    "        trace_p_arrival.append(np.nan)\n",
    "\n",
    "    # dictionary of lists\n",
    "    dict = {'event_id':event_id,'source_type':source_type,'station_network_code':station_network_code,\\\n",
    "            'station_channel_code':station_channel_code,'station_code':station_code,'station_location_code':station_location_code,\\\n",
    "            'station_latitude_deg':station_latitude_deg,'station_longitude_deg':station_longitude_deg, \\\n",
    "            'station_elevation_m':station_elevation_m,'trace_name':trace_name,'trace_sampling_rate_hz':trace_sampling_rate_hz,\\\n",
    "            'trace_start_time':trace_start_time,'trace_S_arrival_sample':trace_S_arrival_sample,\\\n",
    "            'trace_P_arrival_sample':trace_P_arrival_sample, 'trace_S_onset':trace_S_onset,'trace_P_onset':trace_P_onset,\\\n",
    "            'trace_snr_db':trace_snr_db, 'trace_s_arrival':trace_s_arrival, 'trace_p_arrival':trace_p_arrival}\n",
    "\n",
    "    df = pd.DataFrame(dict)\n",
    "\n",
    "    # Make the specific day into a string:\n",
    "    tstring = t1.strftime('%Y%m%d')\n",
    "    # Build the full file name:\n",
    "    ##################################################\n",
    "#     file_name = file_path+station+'_'+tstring+'.csv'\n",
    "    file_name = filepath+station+'_'+tstring+'.csv'\n",
    "    ##################################################\n",
    "    # Write to file using that name\n",
    "    df.to_csv(file_name)"
   ]
  },
  {
   "cell_type": "code",
   "execution_count": 22,
   "id": "e995b55c",
   "metadata": {},
   "outputs": [],
   "source": [
    "# Combine that list of days with the list of stations\n",
    "# We are essentially creating a list of the number of tasks we have to do with the information that is unique to each task; we will do them in parallel\n",
    "task_list = []\n",
    "for i in range(len(networks_stas)):\n",
    "\tfor t in time_bins:\n",
    "\t\ttask_list.append([networks_stas[i][0], networks_stas[i][1],t])"
   ]
  },
  {
   "cell_type": "code",
   "execution_count": 23,
   "id": "7ec6c541",
   "metadata": {},
   "outputs": [
    {
     "data": {
      "text/plain": [
       "[['TA', 'I02D', Timestamp('2012-10-01 00:00:00')],\n",
       " ['TA', 'I02D', Timestamp('2012-10-02 00:00:00')],\n",
       " ['TA', 'I02D', Timestamp('2012-10-03 00:00:00')],\n",
       " ['TA', 'I02D', Timestamp('2012-10-04 00:00:00')],\n",
       " ['TA', 'I02D', Timestamp('2012-10-05 00:00:00')],\n",
       " ['TA', 'I02D', Timestamp('2012-10-06 00:00:00')],\n",
       " ['TA', 'I02D', Timestamp('2012-10-07 00:00:00')],\n",
       " ['TA', 'I02D', Timestamp('2012-10-08 00:00:00')],\n",
       " ['TA', 'I02D', Timestamp('2012-10-09 00:00:00')],\n",
       " ['TA', 'I02D', Timestamp('2012-10-10 00:00:00')],\n",
       " ['TA', 'I02D', Timestamp('2012-10-11 00:00:00')],\n",
       " ['TA', 'I02D', Timestamp('2012-10-12 00:00:00')],\n",
       " ['TA', 'I02D', Timestamp('2012-10-13 00:00:00')],\n",
       " ['TA', 'I02D', Timestamp('2012-10-14 00:00:00')],\n",
       " ['TA', 'I02D', Timestamp('2012-10-15 00:00:00')],\n",
       " ['TA', 'I02D', Timestamp('2012-10-16 00:00:00')],\n",
       " ['TA', 'I02D', Timestamp('2012-10-17 00:00:00')],\n",
       " ['TA', 'I02D', Timestamp('2012-10-18 00:00:00')],\n",
       " ['TA', 'I02D', Timestamp('2012-10-19 00:00:00')],\n",
       " ['TA', 'I02D', Timestamp('2012-10-20 00:00:00')],\n",
       " ['TA', 'I02D', Timestamp('2012-10-21 00:00:00')],\n",
       " ['TA', 'I02D', Timestamp('2012-10-22 00:00:00')],\n",
       " ['TA', 'I02D', Timestamp('2012-10-23 00:00:00')],\n",
       " ['TA', 'I02D', Timestamp('2012-10-24 00:00:00')],\n",
       " ['TA', 'I02D', Timestamp('2012-10-25 00:00:00')],\n",
       " ['TA', 'I02D', Timestamp('2012-10-26 00:00:00')],\n",
       " ['TA', 'I02D', Timestamp('2012-10-27 00:00:00')],\n",
       " ['TA', 'I02D', Timestamp('2012-10-28 00:00:00')],\n",
       " ['TA', 'I02D', Timestamp('2012-10-29 00:00:00')],\n",
       " ['TA', 'I02D', Timestamp('2012-10-30 00:00:00')],\n",
       " ['TA', 'I02D', Timestamp('2012-10-31 00:00:00')],\n",
       " ['TA', 'J01E', Timestamp('2012-10-01 00:00:00')],\n",
       " ['TA', 'J01E', Timestamp('2012-10-02 00:00:00')],\n",
       " ['TA', 'J01E', Timestamp('2012-10-03 00:00:00')],\n",
       " ['TA', 'J01E', Timestamp('2012-10-04 00:00:00')],\n",
       " ['TA', 'J01E', Timestamp('2012-10-05 00:00:00')],\n",
       " ['TA', 'J01E', Timestamp('2012-10-06 00:00:00')],\n",
       " ['TA', 'J01E', Timestamp('2012-10-07 00:00:00')],\n",
       " ['TA', 'J01E', Timestamp('2012-10-08 00:00:00')],\n",
       " ['TA', 'J01E', Timestamp('2012-10-09 00:00:00')],\n",
       " ['TA', 'J01E', Timestamp('2012-10-10 00:00:00')],\n",
       " ['TA', 'J01E', Timestamp('2012-10-11 00:00:00')],\n",
       " ['TA', 'J01E', Timestamp('2012-10-12 00:00:00')],\n",
       " ['TA', 'J01E', Timestamp('2012-10-13 00:00:00')],\n",
       " ['TA', 'J01E', Timestamp('2012-10-14 00:00:00')],\n",
       " ['TA', 'J01E', Timestamp('2012-10-15 00:00:00')],\n",
       " ['TA', 'J01E', Timestamp('2012-10-16 00:00:00')],\n",
       " ['TA', 'J01E', Timestamp('2012-10-17 00:00:00')],\n",
       " ['TA', 'J01E', Timestamp('2012-10-18 00:00:00')],\n",
       " ['TA', 'J01E', Timestamp('2012-10-19 00:00:00')],\n",
       " ['TA', 'J01E', Timestamp('2012-10-20 00:00:00')],\n",
       " ['TA', 'J01E', Timestamp('2012-10-21 00:00:00')],\n",
       " ['TA', 'J01E', Timestamp('2012-10-22 00:00:00')],\n",
       " ['TA', 'J01E', Timestamp('2012-10-23 00:00:00')],\n",
       " ['TA', 'J01E', Timestamp('2012-10-24 00:00:00')],\n",
       " ['TA', 'J01E', Timestamp('2012-10-25 00:00:00')],\n",
       " ['TA', 'J01E', Timestamp('2012-10-26 00:00:00')],\n",
       " ['TA', 'J01E', Timestamp('2012-10-27 00:00:00')],\n",
       " ['TA', 'J01E', Timestamp('2012-10-28 00:00:00')],\n",
       " ['TA', 'J01E', Timestamp('2012-10-29 00:00:00')],\n",
       " ['TA', 'J01E', Timestamp('2012-10-30 00:00:00')],\n",
       " ['TA', 'J01E', Timestamp('2012-10-31 00:00:00')],\n",
       " ['7D', 'G26B', Timestamp('2012-10-01 00:00:00')],\n",
       " ['7D', 'G26B', Timestamp('2012-10-02 00:00:00')],\n",
       " ['7D', 'G26B', Timestamp('2012-10-03 00:00:00')],\n",
       " ['7D', 'G26B', Timestamp('2012-10-04 00:00:00')],\n",
       " ['7D', 'G26B', Timestamp('2012-10-05 00:00:00')],\n",
       " ['7D', 'G26B', Timestamp('2012-10-06 00:00:00')],\n",
       " ['7D', 'G26B', Timestamp('2012-10-07 00:00:00')],\n",
       " ['7D', 'G26B', Timestamp('2012-10-08 00:00:00')],\n",
       " ['7D', 'G26B', Timestamp('2012-10-09 00:00:00')],\n",
       " ['7D', 'G26B', Timestamp('2012-10-10 00:00:00')],\n",
       " ['7D', 'G26B', Timestamp('2012-10-11 00:00:00')],\n",
       " ['7D', 'G26B', Timestamp('2012-10-12 00:00:00')],\n",
       " ['7D', 'G26B', Timestamp('2012-10-13 00:00:00')],\n",
       " ['7D', 'G26B', Timestamp('2012-10-14 00:00:00')],\n",
       " ['7D', 'G26B', Timestamp('2012-10-15 00:00:00')],\n",
       " ['7D', 'G26B', Timestamp('2012-10-16 00:00:00')],\n",
       " ['7D', 'G26B', Timestamp('2012-10-17 00:00:00')],\n",
       " ['7D', 'G26B', Timestamp('2012-10-18 00:00:00')],\n",
       " ['7D', 'G26B', Timestamp('2012-10-19 00:00:00')],\n",
       " ['7D', 'G26B', Timestamp('2012-10-20 00:00:00')],\n",
       " ['7D', 'G26B', Timestamp('2012-10-21 00:00:00')],\n",
       " ['7D', 'G26B', Timestamp('2012-10-22 00:00:00')],\n",
       " ['7D', 'G26B', Timestamp('2012-10-23 00:00:00')],\n",
       " ['7D', 'G26B', Timestamp('2012-10-24 00:00:00')],\n",
       " ['7D', 'G26B', Timestamp('2012-10-25 00:00:00')],\n",
       " ['7D', 'G26B', Timestamp('2012-10-26 00:00:00')],\n",
       " ['7D', 'G26B', Timestamp('2012-10-27 00:00:00')],\n",
       " ['7D', 'G26B', Timestamp('2012-10-28 00:00:00')],\n",
       " ['7D', 'G26B', Timestamp('2012-10-29 00:00:00')],\n",
       " ['7D', 'G26B', Timestamp('2012-10-30 00:00:00')],\n",
       " ['7D', 'G26B', Timestamp('2012-10-31 00:00:00')],\n",
       " ['7D', 'G25B', Timestamp('2012-10-01 00:00:00')],\n",
       " ['7D', 'G25B', Timestamp('2012-10-02 00:00:00')],\n",
       " ['7D', 'G25B', Timestamp('2012-10-03 00:00:00')],\n",
       " ['7D', 'G25B', Timestamp('2012-10-04 00:00:00')],\n",
       " ['7D', 'G25B', Timestamp('2012-10-05 00:00:00')],\n",
       " ['7D', 'G25B', Timestamp('2012-10-06 00:00:00')],\n",
       " ['7D', 'G25B', Timestamp('2012-10-07 00:00:00')],\n",
       " ['7D', 'G25B', Timestamp('2012-10-08 00:00:00')],\n",
       " ['7D', 'G25B', Timestamp('2012-10-09 00:00:00')],\n",
       " ['7D', 'G25B', Timestamp('2012-10-10 00:00:00')],\n",
       " ['7D', 'G25B', Timestamp('2012-10-11 00:00:00')],\n",
       " ['7D', 'G25B', Timestamp('2012-10-12 00:00:00')],\n",
       " ['7D', 'G25B', Timestamp('2012-10-13 00:00:00')],\n",
       " ['7D', 'G25B', Timestamp('2012-10-14 00:00:00')],\n",
       " ['7D', 'G25B', Timestamp('2012-10-15 00:00:00')],\n",
       " ['7D', 'G25B', Timestamp('2012-10-16 00:00:00')],\n",
       " ['7D', 'G25B', Timestamp('2012-10-17 00:00:00')],\n",
       " ['7D', 'G25B', Timestamp('2012-10-18 00:00:00')],\n",
       " ['7D', 'G25B', Timestamp('2012-10-19 00:00:00')],\n",
       " ['7D', 'G25B', Timestamp('2012-10-20 00:00:00')],\n",
       " ['7D', 'G25B', Timestamp('2012-10-21 00:00:00')],\n",
       " ['7D', 'G25B', Timestamp('2012-10-22 00:00:00')],\n",
       " ['7D', 'G25B', Timestamp('2012-10-23 00:00:00')],\n",
       " ['7D', 'G25B', Timestamp('2012-10-24 00:00:00')],\n",
       " ['7D', 'G25B', Timestamp('2012-10-25 00:00:00')],\n",
       " ['7D', 'G25B', Timestamp('2012-10-26 00:00:00')],\n",
       " ['7D', 'G25B', Timestamp('2012-10-27 00:00:00')],\n",
       " ['7D', 'G25B', Timestamp('2012-10-28 00:00:00')],\n",
       " ['7D', 'G25B', Timestamp('2012-10-29 00:00:00')],\n",
       " ['7D', 'G25B', Timestamp('2012-10-30 00:00:00')],\n",
       " ['7D', 'G25B', Timestamp('2012-10-31 00:00:00')],\n",
       " ['7D', 'M09B', Timestamp('2012-10-01 00:00:00')],\n",
       " ['7D', 'M09B', Timestamp('2012-10-02 00:00:00')],\n",
       " ['7D', 'M09B', Timestamp('2012-10-03 00:00:00')],\n",
       " ['7D', 'M09B', Timestamp('2012-10-04 00:00:00')],\n",
       " ['7D', 'M09B', Timestamp('2012-10-05 00:00:00')],\n",
       " ['7D', 'M09B', Timestamp('2012-10-06 00:00:00')],\n",
       " ['7D', 'M09B', Timestamp('2012-10-07 00:00:00')],\n",
       " ['7D', 'M09B', Timestamp('2012-10-08 00:00:00')],\n",
       " ['7D', 'M09B', Timestamp('2012-10-09 00:00:00')],\n",
       " ['7D', 'M09B', Timestamp('2012-10-10 00:00:00')],\n",
       " ['7D', 'M09B', Timestamp('2012-10-11 00:00:00')],\n",
       " ['7D', 'M09B', Timestamp('2012-10-12 00:00:00')],\n",
       " ['7D', 'M09B', Timestamp('2012-10-13 00:00:00')],\n",
       " ['7D', 'M09B', Timestamp('2012-10-14 00:00:00')],\n",
       " ['7D', 'M09B', Timestamp('2012-10-15 00:00:00')],\n",
       " ['7D', 'M09B', Timestamp('2012-10-16 00:00:00')],\n",
       " ['7D', 'M09B', Timestamp('2012-10-17 00:00:00')],\n",
       " ['7D', 'M09B', Timestamp('2012-10-18 00:00:00')],\n",
       " ['7D', 'M09B', Timestamp('2012-10-19 00:00:00')],\n",
       " ['7D', 'M09B', Timestamp('2012-10-20 00:00:00')],\n",
       " ['7D', 'M09B', Timestamp('2012-10-21 00:00:00')],\n",
       " ['7D', 'M09B', Timestamp('2012-10-22 00:00:00')],\n",
       " ['7D', 'M09B', Timestamp('2012-10-23 00:00:00')],\n",
       " ['7D', 'M09B', Timestamp('2012-10-24 00:00:00')],\n",
       " ['7D', 'M09B', Timestamp('2012-10-25 00:00:00')],\n",
       " ['7D', 'M09B', Timestamp('2012-10-26 00:00:00')],\n",
       " ['7D', 'M09B', Timestamp('2012-10-27 00:00:00')],\n",
       " ['7D', 'M09B', Timestamp('2012-10-28 00:00:00')],\n",
       " ['7D', 'M09B', Timestamp('2012-10-29 00:00:00')],\n",
       " ['7D', 'M09B', Timestamp('2012-10-30 00:00:00')],\n",
       " ['7D', 'M09B', Timestamp('2012-10-31 00:00:00')],\n",
       " ['7D', 'G19B', Timestamp('2012-10-01 00:00:00')],\n",
       " ['7D', 'G19B', Timestamp('2012-10-02 00:00:00')],\n",
       " ['7D', 'G19B', Timestamp('2012-10-03 00:00:00')],\n",
       " ['7D', 'G19B', Timestamp('2012-10-04 00:00:00')],\n",
       " ['7D', 'G19B', Timestamp('2012-10-05 00:00:00')],\n",
       " ['7D', 'G19B', Timestamp('2012-10-06 00:00:00')],\n",
       " ['7D', 'G19B', Timestamp('2012-10-07 00:00:00')],\n",
       " ['7D', 'G19B', Timestamp('2012-10-08 00:00:00')],\n",
       " ['7D', 'G19B', Timestamp('2012-10-09 00:00:00')],\n",
       " ['7D', 'G19B', Timestamp('2012-10-10 00:00:00')],\n",
       " ['7D', 'G19B', Timestamp('2012-10-11 00:00:00')],\n",
       " ['7D', 'G19B', Timestamp('2012-10-12 00:00:00')],\n",
       " ['7D', 'G19B', Timestamp('2012-10-13 00:00:00')],\n",
       " ['7D', 'G19B', Timestamp('2012-10-14 00:00:00')],\n",
       " ['7D', 'G19B', Timestamp('2012-10-15 00:00:00')],\n",
       " ['7D', 'G19B', Timestamp('2012-10-16 00:00:00')],\n",
       " ['7D', 'G19B', Timestamp('2012-10-17 00:00:00')],\n",
       " ['7D', 'G19B', Timestamp('2012-10-18 00:00:00')],\n",
       " ['7D', 'G19B', Timestamp('2012-10-19 00:00:00')],\n",
       " ['7D', 'G19B', Timestamp('2012-10-20 00:00:00')],\n",
       " ['7D', 'G19B', Timestamp('2012-10-21 00:00:00')],\n",
       " ['7D', 'G19B', Timestamp('2012-10-22 00:00:00')],\n",
       " ['7D', 'G19B', Timestamp('2012-10-23 00:00:00')],\n",
       " ['7D', 'G19B', Timestamp('2012-10-24 00:00:00')],\n",
       " ['7D', 'G19B', Timestamp('2012-10-25 00:00:00')],\n",
       " ['7D', 'G19B', Timestamp('2012-10-26 00:00:00')],\n",
       " ['7D', 'G19B', Timestamp('2012-10-27 00:00:00')],\n",
       " ['7D', 'G19B', Timestamp('2012-10-28 00:00:00')],\n",
       " ['7D', 'G19B', Timestamp('2012-10-29 00:00:00')],\n",
       " ['7D', 'G19B', Timestamp('2012-10-30 00:00:00')],\n",
       " ['7D', 'G19B', Timestamp('2012-10-31 00:00:00')],\n",
       " ['7D', 'FS20B', Timestamp('2012-10-01 00:00:00')],\n",
       " ['7D', 'FS20B', Timestamp('2012-10-02 00:00:00')],\n",
       " ['7D', 'FS20B', Timestamp('2012-10-03 00:00:00')],\n",
       " ['7D', 'FS20B', Timestamp('2012-10-04 00:00:00')],\n",
       " ['7D', 'FS20B', Timestamp('2012-10-05 00:00:00')],\n",
       " ['7D', 'FS20B', Timestamp('2012-10-06 00:00:00')],\n",
       " ['7D', 'FS20B', Timestamp('2012-10-07 00:00:00')],\n",
       " ['7D', 'FS20B', Timestamp('2012-10-08 00:00:00')],\n",
       " ['7D', 'FS20B', Timestamp('2012-10-09 00:00:00')],\n",
       " ['7D', 'FS20B', Timestamp('2012-10-10 00:00:00')],\n",
       " ['7D', 'FS20B', Timestamp('2012-10-11 00:00:00')],\n",
       " ['7D', 'FS20B', Timestamp('2012-10-12 00:00:00')],\n",
       " ['7D', 'FS20B', Timestamp('2012-10-13 00:00:00')],\n",
       " ['7D', 'FS20B', Timestamp('2012-10-14 00:00:00')],\n",
       " ['7D', 'FS20B', Timestamp('2012-10-15 00:00:00')],\n",
       " ['7D', 'FS20B', Timestamp('2012-10-16 00:00:00')],\n",
       " ['7D', 'FS20B', Timestamp('2012-10-17 00:00:00')],\n",
       " ['7D', 'FS20B', Timestamp('2012-10-18 00:00:00')],\n",
       " ['7D', 'FS20B', Timestamp('2012-10-19 00:00:00')],\n",
       " ['7D', 'FS20B', Timestamp('2012-10-20 00:00:00')],\n",
       " ['7D', 'FS20B', Timestamp('2012-10-21 00:00:00')],\n",
       " ['7D', 'FS20B', Timestamp('2012-10-22 00:00:00')],\n",
       " ['7D', 'FS20B', Timestamp('2012-10-23 00:00:00')],\n",
       " ['7D', 'FS20B', Timestamp('2012-10-24 00:00:00')],\n",
       " ['7D', 'FS20B', Timestamp('2012-10-25 00:00:00')],\n",
       " ['7D', 'FS20B', Timestamp('2012-10-26 00:00:00')],\n",
       " ['7D', 'FS20B', Timestamp('2012-10-27 00:00:00')],\n",
       " ['7D', 'FS20B', Timestamp('2012-10-28 00:00:00')],\n",
       " ['7D', 'FS20B', Timestamp('2012-10-29 00:00:00')],\n",
       " ['7D', 'FS20B', Timestamp('2012-10-30 00:00:00')],\n",
       " ['7D', 'FS20B', Timestamp('2012-10-31 00:00:00')],\n",
       " ['7D', 'G10B', Timestamp('2012-10-01 00:00:00')],\n",
       " ['7D', 'G10B', Timestamp('2012-10-02 00:00:00')],\n",
       " ['7D', 'G10B', Timestamp('2012-10-03 00:00:00')],\n",
       " ['7D', 'G10B', Timestamp('2012-10-04 00:00:00')],\n",
       " ['7D', 'G10B', Timestamp('2012-10-05 00:00:00')],\n",
       " ['7D', 'G10B', Timestamp('2012-10-06 00:00:00')],\n",
       " ['7D', 'G10B', Timestamp('2012-10-07 00:00:00')],\n",
       " ['7D', 'G10B', Timestamp('2012-10-08 00:00:00')],\n",
       " ['7D', 'G10B', Timestamp('2012-10-09 00:00:00')],\n",
       " ['7D', 'G10B', Timestamp('2012-10-10 00:00:00')],\n",
       " ['7D', 'G10B', Timestamp('2012-10-11 00:00:00')],\n",
       " ['7D', 'G10B', Timestamp('2012-10-12 00:00:00')],\n",
       " ['7D', 'G10B', Timestamp('2012-10-13 00:00:00')],\n",
       " ['7D', 'G10B', Timestamp('2012-10-14 00:00:00')],\n",
       " ['7D', 'G10B', Timestamp('2012-10-15 00:00:00')],\n",
       " ['7D', 'G10B', Timestamp('2012-10-16 00:00:00')],\n",
       " ['7D', 'G10B', Timestamp('2012-10-17 00:00:00')],\n",
       " ['7D', 'G10B', Timestamp('2012-10-18 00:00:00')],\n",
       " ['7D', 'G10B', Timestamp('2012-10-19 00:00:00')],\n",
       " ['7D', 'G10B', Timestamp('2012-10-20 00:00:00')],\n",
       " ['7D', 'G10B', Timestamp('2012-10-21 00:00:00')],\n",
       " ['7D', 'G10B', Timestamp('2012-10-22 00:00:00')],\n",
       " ['7D', 'G10B', Timestamp('2012-10-23 00:00:00')],\n",
       " ['7D', 'G10B', Timestamp('2012-10-24 00:00:00')],\n",
       " ['7D', 'G10B', Timestamp('2012-10-25 00:00:00')],\n",
       " ['7D', 'G10B', Timestamp('2012-10-26 00:00:00')],\n",
       " ['7D', 'G10B', Timestamp('2012-10-27 00:00:00')],\n",
       " ['7D', 'G10B', Timestamp('2012-10-28 00:00:00')],\n",
       " ['7D', 'G10B', Timestamp('2012-10-29 00:00:00')],\n",
       " ['7D', 'G10B', Timestamp('2012-10-30 00:00:00')],\n",
       " ['7D', 'G10B', Timestamp('2012-10-31 00:00:00')],\n",
       " ['7D', 'M14B', Timestamp('2012-10-01 00:00:00')],\n",
       " ['7D', 'M14B', Timestamp('2012-10-02 00:00:00')],\n",
       " ['7D', 'M14B', Timestamp('2012-10-03 00:00:00')],\n",
       " ['7D', 'M14B', Timestamp('2012-10-04 00:00:00')],\n",
       " ['7D', 'M14B', Timestamp('2012-10-05 00:00:00')],\n",
       " ['7D', 'M14B', Timestamp('2012-10-06 00:00:00')],\n",
       " ['7D', 'M14B', Timestamp('2012-10-07 00:00:00')],\n",
       " ['7D', 'M14B', Timestamp('2012-10-08 00:00:00')],\n",
       " ['7D', 'M14B', Timestamp('2012-10-09 00:00:00')],\n",
       " ['7D', 'M14B', Timestamp('2012-10-10 00:00:00')],\n",
       " ['7D', 'M14B', Timestamp('2012-10-11 00:00:00')],\n",
       " ['7D', 'M14B', Timestamp('2012-10-12 00:00:00')],\n",
       " ['7D', 'M14B', Timestamp('2012-10-13 00:00:00')],\n",
       " ['7D', 'M14B', Timestamp('2012-10-14 00:00:00')],\n",
       " ['7D', 'M14B', Timestamp('2012-10-15 00:00:00')],\n",
       " ['7D', 'M14B', Timestamp('2012-10-16 00:00:00')],\n",
       " ['7D', 'M14B', Timestamp('2012-10-17 00:00:00')],\n",
       " ['7D', 'M14B', Timestamp('2012-10-18 00:00:00')],\n",
       " ['7D', 'M14B', Timestamp('2012-10-19 00:00:00')],\n",
       " ['7D', 'M14B', Timestamp('2012-10-20 00:00:00')],\n",
       " ['7D', 'M14B', Timestamp('2012-10-21 00:00:00')],\n",
       " ['7D', 'M14B', Timestamp('2012-10-22 00:00:00')],\n",
       " ['7D', 'M14B', Timestamp('2012-10-23 00:00:00')],\n",
       " ['7D', 'M14B', Timestamp('2012-10-24 00:00:00')],\n",
       " ['7D', 'M14B', Timestamp('2012-10-25 00:00:00')],\n",
       " ['7D', 'M14B', Timestamp('2012-10-26 00:00:00')],\n",
       " ['7D', 'M14B', Timestamp('2012-10-27 00:00:00')],\n",
       " ['7D', 'M14B', Timestamp('2012-10-28 00:00:00')],\n",
       " ['7D', 'M14B', Timestamp('2012-10-29 00:00:00')],\n",
       " ['7D', 'M14B', Timestamp('2012-10-30 00:00:00')],\n",
       " ['7D', 'M14B', Timestamp('2012-10-31 00:00:00')],\n",
       " ['7D', 'J09B', Timestamp('2012-10-01 00:00:00')],\n",
       " ['7D', 'J09B', Timestamp('2012-10-02 00:00:00')],\n",
       " ['7D', 'J09B', Timestamp('2012-10-03 00:00:00')],\n",
       " ['7D', 'J09B', Timestamp('2012-10-04 00:00:00')],\n",
       " ['7D', 'J09B', Timestamp('2012-10-05 00:00:00')],\n",
       " ['7D', 'J09B', Timestamp('2012-10-06 00:00:00')],\n",
       " ['7D', 'J09B', Timestamp('2012-10-07 00:00:00')],\n",
       " ['7D', 'J09B', Timestamp('2012-10-08 00:00:00')],\n",
       " ['7D', 'J09B', Timestamp('2012-10-09 00:00:00')],\n",
       " ['7D', 'J09B', Timestamp('2012-10-10 00:00:00')],\n",
       " ['7D', 'J09B', Timestamp('2012-10-11 00:00:00')],\n",
       " ['7D', 'J09B', Timestamp('2012-10-12 00:00:00')],\n",
       " ['7D', 'J09B', Timestamp('2012-10-13 00:00:00')],\n",
       " ['7D', 'J09B', Timestamp('2012-10-14 00:00:00')],\n",
       " ['7D', 'J09B', Timestamp('2012-10-15 00:00:00')],\n",
       " ['7D', 'J09B', Timestamp('2012-10-16 00:00:00')],\n",
       " ['7D', 'J09B', Timestamp('2012-10-17 00:00:00')],\n",
       " ['7D', 'J09B', Timestamp('2012-10-18 00:00:00')],\n",
       " ['7D', 'J09B', Timestamp('2012-10-19 00:00:00')],\n",
       " ['7D', 'J09B', Timestamp('2012-10-20 00:00:00')],\n",
       " ['7D', 'J09B', Timestamp('2012-10-21 00:00:00')],\n",
       " ['7D', 'J09B', Timestamp('2012-10-22 00:00:00')],\n",
       " ['7D', 'J09B', Timestamp('2012-10-23 00:00:00')],\n",
       " ['7D', 'J09B', Timestamp('2012-10-24 00:00:00')],\n",
       " ['7D', 'J09B', Timestamp('2012-10-25 00:00:00')],\n",
       " ['7D', 'J09B', Timestamp('2012-10-26 00:00:00')],\n",
       " ['7D', 'J09B', Timestamp('2012-10-27 00:00:00')],\n",
       " ['7D', 'J09B', Timestamp('2012-10-28 00:00:00')],\n",
       " ['7D', 'J09B', Timestamp('2012-10-29 00:00:00')],\n",
       " ['7D', 'J09B', Timestamp('2012-10-30 00:00:00')],\n",
       " ['7D', 'J09B', Timestamp('2012-10-31 00:00:00')],\n",
       " ['7D', 'J33B', Timestamp('2012-10-01 00:00:00')],\n",
       " ['7D', 'J33B', Timestamp('2012-10-02 00:00:00')],\n",
       " ['7D', 'J33B', Timestamp('2012-10-03 00:00:00')],\n",
       " ['7D', 'J33B', Timestamp('2012-10-04 00:00:00')],\n",
       " ['7D', 'J33B', Timestamp('2012-10-05 00:00:00')],\n",
       " ['7D', 'J33B', Timestamp('2012-10-06 00:00:00')],\n",
       " ['7D', 'J33B', Timestamp('2012-10-07 00:00:00')],\n",
       " ['7D', 'J33B', Timestamp('2012-10-08 00:00:00')],\n",
       " ['7D', 'J33B', Timestamp('2012-10-09 00:00:00')],\n",
       " ['7D', 'J33B', Timestamp('2012-10-10 00:00:00')],\n",
       " ['7D', 'J33B', Timestamp('2012-10-11 00:00:00')],\n",
       " ['7D', 'J33B', Timestamp('2012-10-12 00:00:00')],\n",
       " ['7D', 'J33B', Timestamp('2012-10-13 00:00:00')],\n",
       " ['7D', 'J33B', Timestamp('2012-10-14 00:00:00')],\n",
       " ['7D', 'J33B', Timestamp('2012-10-15 00:00:00')],\n",
       " ['7D', 'J33B', Timestamp('2012-10-16 00:00:00')],\n",
       " ['7D', 'J33B', Timestamp('2012-10-17 00:00:00')],\n",
       " ['7D', 'J33B', Timestamp('2012-10-18 00:00:00')],\n",
       " ['7D', 'J33B', Timestamp('2012-10-19 00:00:00')],\n",
       " ['7D', 'J33B', Timestamp('2012-10-20 00:00:00')],\n",
       " ['7D', 'J33B', Timestamp('2012-10-21 00:00:00')],\n",
       " ['7D', 'J33B', Timestamp('2012-10-22 00:00:00')],\n",
       " ['7D', 'J33B', Timestamp('2012-10-23 00:00:00')],\n",
       " ['7D', 'J33B', Timestamp('2012-10-24 00:00:00')],\n",
       " ['7D', 'J33B', Timestamp('2012-10-25 00:00:00')],\n",
       " ['7D', 'J33B', Timestamp('2012-10-26 00:00:00')],\n",
       " ['7D', 'J33B', Timestamp('2012-10-27 00:00:00')],\n",
       " ['7D', 'J33B', Timestamp('2012-10-28 00:00:00')],\n",
       " ['7D', 'J33B', Timestamp('2012-10-29 00:00:00')],\n",
       " ['7D', 'J33B', Timestamp('2012-10-30 00:00:00')],\n",
       " ['7D', 'J33B', Timestamp('2012-10-31 00:00:00')],\n",
       " ['7D', 'FS13B', Timestamp('2012-10-01 00:00:00')],\n",
       " ['7D', 'FS13B', Timestamp('2012-10-02 00:00:00')],\n",
       " ['7D', 'FS13B', Timestamp('2012-10-03 00:00:00')],\n",
       " ['7D', 'FS13B', Timestamp('2012-10-04 00:00:00')],\n",
       " ['7D', 'FS13B', Timestamp('2012-10-05 00:00:00')],\n",
       " ['7D', 'FS13B', Timestamp('2012-10-06 00:00:00')],\n",
       " ['7D', 'FS13B', Timestamp('2012-10-07 00:00:00')],\n",
       " ['7D', 'FS13B', Timestamp('2012-10-08 00:00:00')],\n",
       " ['7D', 'FS13B', Timestamp('2012-10-09 00:00:00')],\n",
       " ['7D', 'FS13B', Timestamp('2012-10-10 00:00:00')],\n",
       " ['7D', 'FS13B', Timestamp('2012-10-11 00:00:00')],\n",
       " ['7D', 'FS13B', Timestamp('2012-10-12 00:00:00')],\n",
       " ['7D', 'FS13B', Timestamp('2012-10-13 00:00:00')],\n",
       " ['7D', 'FS13B', Timestamp('2012-10-14 00:00:00')],\n",
       " ['7D', 'FS13B', Timestamp('2012-10-15 00:00:00')],\n",
       " ['7D', 'FS13B', Timestamp('2012-10-16 00:00:00')],\n",
       " ['7D', 'FS13B', Timestamp('2012-10-17 00:00:00')],\n",
       " ['7D', 'FS13B', Timestamp('2012-10-18 00:00:00')],\n",
       " ['7D', 'FS13B', Timestamp('2012-10-19 00:00:00')],\n",
       " ['7D', 'FS13B', Timestamp('2012-10-20 00:00:00')],\n",
       " ['7D', 'FS13B', Timestamp('2012-10-21 00:00:00')],\n",
       " ['7D', 'FS13B', Timestamp('2012-10-22 00:00:00')],\n",
       " ['7D', 'FS13B', Timestamp('2012-10-23 00:00:00')],\n",
       " ['7D', 'FS13B', Timestamp('2012-10-24 00:00:00')],\n",
       " ['7D', 'FS13B', Timestamp('2012-10-25 00:00:00')],\n",
       " ['7D', 'FS13B', Timestamp('2012-10-26 00:00:00')],\n",
       " ['7D', 'FS13B', Timestamp('2012-10-27 00:00:00')],\n",
       " ['7D', 'FS13B', Timestamp('2012-10-28 00:00:00')],\n",
       " ['7D', 'FS13B', Timestamp('2012-10-29 00:00:00')],\n",
       " ['7D', 'FS13B', Timestamp('2012-10-30 00:00:00')],\n",
       " ['7D', 'FS13B', Timestamp('2012-10-31 00:00:00')],\n",
       " ['7D', 'J25B', Timestamp('2012-10-01 00:00:00')],\n",
       " ['7D', 'J25B', Timestamp('2012-10-02 00:00:00')],\n",
       " ['7D', 'J25B', Timestamp('2012-10-03 00:00:00')],\n",
       " ['7D', 'J25B', Timestamp('2012-10-04 00:00:00')],\n",
       " ['7D', 'J25B', Timestamp('2012-10-05 00:00:00')],\n",
       " ['7D', 'J25B', Timestamp('2012-10-06 00:00:00')],\n",
       " ['7D', 'J25B', Timestamp('2012-10-07 00:00:00')],\n",
       " ['7D', 'J25B', Timestamp('2012-10-08 00:00:00')],\n",
       " ['7D', 'J25B', Timestamp('2012-10-09 00:00:00')],\n",
       " ['7D', 'J25B', Timestamp('2012-10-10 00:00:00')],\n",
       " ['7D', 'J25B', Timestamp('2012-10-11 00:00:00')],\n",
       " ['7D', 'J25B', Timestamp('2012-10-12 00:00:00')],\n",
       " ['7D', 'J25B', Timestamp('2012-10-13 00:00:00')],\n",
       " ['7D', 'J25B', Timestamp('2012-10-14 00:00:00')],\n",
       " ['7D', 'J25B', Timestamp('2012-10-15 00:00:00')],\n",
       " ['7D', 'J25B', Timestamp('2012-10-16 00:00:00')],\n",
       " ['7D', 'J25B', Timestamp('2012-10-17 00:00:00')],\n",
       " ['7D', 'J25B', Timestamp('2012-10-18 00:00:00')],\n",
       " ['7D', 'J25B', Timestamp('2012-10-19 00:00:00')],\n",
       " ['7D', 'J25B', Timestamp('2012-10-20 00:00:00')],\n",
       " ['7D', 'J25B', Timestamp('2012-10-21 00:00:00')],\n",
       " ['7D', 'J25B', Timestamp('2012-10-22 00:00:00')],\n",
       " ['7D', 'J25B', Timestamp('2012-10-23 00:00:00')],\n",
       " ['7D', 'J25B', Timestamp('2012-10-24 00:00:00')],\n",
       " ['7D', 'J25B', Timestamp('2012-10-25 00:00:00')],\n",
       " ['7D', 'J25B', Timestamp('2012-10-26 00:00:00')],\n",
       " ['7D', 'J25B', Timestamp('2012-10-27 00:00:00')],\n",
       " ['7D', 'J25B', Timestamp('2012-10-28 00:00:00')],\n",
       " ['7D', 'J25B', Timestamp('2012-10-29 00:00:00')],\n",
       " ['7D', 'J25B', Timestamp('2012-10-30 00:00:00')],\n",
       " ['7D', 'J25B', Timestamp('2012-10-31 00:00:00')],\n",
       " ['7D', 'FS09B', Timestamp('2012-10-01 00:00:00')],\n",
       " ['7D', 'FS09B', Timestamp('2012-10-02 00:00:00')],\n",
       " ['7D', 'FS09B', Timestamp('2012-10-03 00:00:00')],\n",
       " ['7D', 'FS09B', Timestamp('2012-10-04 00:00:00')],\n",
       " ['7D', 'FS09B', Timestamp('2012-10-05 00:00:00')],\n",
       " ['7D', 'FS09B', Timestamp('2012-10-06 00:00:00')],\n",
       " ['7D', 'FS09B', Timestamp('2012-10-07 00:00:00')],\n",
       " ['7D', 'FS09B', Timestamp('2012-10-08 00:00:00')],\n",
       " ['7D', 'FS09B', Timestamp('2012-10-09 00:00:00')],\n",
       " ['7D', 'FS09B', Timestamp('2012-10-10 00:00:00')],\n",
       " ['7D', 'FS09B', Timestamp('2012-10-11 00:00:00')],\n",
       " ['7D', 'FS09B', Timestamp('2012-10-12 00:00:00')],\n",
       " ['7D', 'FS09B', Timestamp('2012-10-13 00:00:00')],\n",
       " ['7D', 'FS09B', Timestamp('2012-10-14 00:00:00')],\n",
       " ['7D', 'FS09B', Timestamp('2012-10-15 00:00:00')],\n",
       " ['7D', 'FS09B', Timestamp('2012-10-16 00:00:00')],\n",
       " ['7D', 'FS09B', Timestamp('2012-10-17 00:00:00')],\n",
       " ['7D', 'FS09B', Timestamp('2012-10-18 00:00:00')],\n",
       " ['7D', 'FS09B', Timestamp('2012-10-19 00:00:00')],\n",
       " ['7D', 'FS09B', Timestamp('2012-10-20 00:00:00')],\n",
       " ['7D', 'FS09B', Timestamp('2012-10-21 00:00:00')],\n",
       " ['7D', 'FS09B', Timestamp('2012-10-22 00:00:00')],\n",
       " ['7D', 'FS09B', Timestamp('2012-10-23 00:00:00')],\n",
       " ['7D', 'FS09B', Timestamp('2012-10-24 00:00:00')],\n",
       " ['7D', 'FS09B', Timestamp('2012-10-25 00:00:00')],\n",
       " ['7D', 'FS09B', Timestamp('2012-10-26 00:00:00')],\n",
       " ['7D', 'FS09B', Timestamp('2012-10-27 00:00:00')],\n",
       " ['7D', 'FS09B', Timestamp('2012-10-28 00:00:00')],\n",
       " ['7D', 'FS09B', Timestamp('2012-10-29 00:00:00')],\n",
       " ['7D', 'FS09B', Timestamp('2012-10-30 00:00:00')],\n",
       " ['7D', 'FS09B', Timestamp('2012-10-31 00:00:00')],\n",
       " ['7D', 'FS17B', Timestamp('2012-10-01 00:00:00')],\n",
       " ['7D', 'FS17B', Timestamp('2012-10-02 00:00:00')],\n",
       " ['7D', 'FS17B', Timestamp('2012-10-03 00:00:00')],\n",
       " ['7D', 'FS17B', Timestamp('2012-10-04 00:00:00')],\n",
       " ['7D', 'FS17B', Timestamp('2012-10-05 00:00:00')],\n",
       " ['7D', 'FS17B', Timestamp('2012-10-06 00:00:00')],\n",
       " ['7D', 'FS17B', Timestamp('2012-10-07 00:00:00')],\n",
       " ['7D', 'FS17B', Timestamp('2012-10-08 00:00:00')],\n",
       " ['7D', 'FS17B', Timestamp('2012-10-09 00:00:00')],\n",
       " ['7D', 'FS17B', Timestamp('2012-10-10 00:00:00')],\n",
       " ['7D', 'FS17B', Timestamp('2012-10-11 00:00:00')],\n",
       " ['7D', 'FS17B', Timestamp('2012-10-12 00:00:00')],\n",
       " ['7D', 'FS17B', Timestamp('2012-10-13 00:00:00')],\n",
       " ['7D', 'FS17B', Timestamp('2012-10-14 00:00:00')],\n",
       " ['7D', 'FS17B', Timestamp('2012-10-15 00:00:00')],\n",
       " ['7D', 'FS17B', Timestamp('2012-10-16 00:00:00')],\n",
       " ['7D', 'FS17B', Timestamp('2012-10-17 00:00:00')],\n",
       " ['7D', 'FS17B', Timestamp('2012-10-18 00:00:00')],\n",
       " ['7D', 'FS17B', Timestamp('2012-10-19 00:00:00')],\n",
       " ['7D', 'FS17B', Timestamp('2012-10-20 00:00:00')],\n",
       " ['7D', 'FS17B', Timestamp('2012-10-21 00:00:00')],\n",
       " ['7D', 'FS17B', Timestamp('2012-10-22 00:00:00')],\n",
       " ['7D', 'FS17B', Timestamp('2012-10-23 00:00:00')],\n",
       " ['7D', 'FS17B', Timestamp('2012-10-24 00:00:00')],\n",
       " ['7D', 'FS17B', Timestamp('2012-10-25 00:00:00')],\n",
       " ['7D', 'FS17B', Timestamp('2012-10-26 00:00:00')],\n",
       " ['7D', 'FS17B', Timestamp('2012-10-27 00:00:00')],\n",
       " ['7D', 'FS17B', Timestamp('2012-10-28 00:00:00')],\n",
       " ['7D', 'FS17B', Timestamp('2012-10-29 00:00:00')],\n",
       " ['7D', 'FS17B', Timestamp('2012-10-30 00:00:00')],\n",
       " ['7D', 'FS17B', Timestamp('2012-10-31 00:00:00')],\n",
       " ['7D', 'G27B', Timestamp('2012-10-01 00:00:00')],\n",
       " ['7D', 'G27B', Timestamp('2012-10-02 00:00:00')],\n",
       " ['7D', 'G27B', Timestamp('2012-10-03 00:00:00')],\n",
       " ['7D', 'G27B', Timestamp('2012-10-04 00:00:00')],\n",
       " ['7D', 'G27B', Timestamp('2012-10-05 00:00:00')],\n",
       " ['7D', 'G27B', Timestamp('2012-10-06 00:00:00')],\n",
       " ['7D', 'G27B', Timestamp('2012-10-07 00:00:00')],\n",
       " ['7D', 'G27B', Timestamp('2012-10-08 00:00:00')],\n",
       " ['7D', 'G27B', Timestamp('2012-10-09 00:00:00')],\n",
       " ['7D', 'G27B', Timestamp('2012-10-10 00:00:00')],\n",
       " ['7D', 'G27B', Timestamp('2012-10-11 00:00:00')],\n",
       " ['7D', 'G27B', Timestamp('2012-10-12 00:00:00')],\n",
       " ['7D', 'G27B', Timestamp('2012-10-13 00:00:00')],\n",
       " ['7D', 'G27B', Timestamp('2012-10-14 00:00:00')],\n",
       " ['7D', 'G27B', Timestamp('2012-10-15 00:00:00')],\n",
       " ['7D', 'G27B', Timestamp('2012-10-16 00:00:00')],\n",
       " ['7D', 'G27B', Timestamp('2012-10-17 00:00:00')],\n",
       " ['7D', 'G27B', Timestamp('2012-10-18 00:00:00')],\n",
       " ['7D', 'G27B', Timestamp('2012-10-19 00:00:00')],\n",
       " ['7D', 'G27B', Timestamp('2012-10-20 00:00:00')],\n",
       " ['7D', 'G27B', Timestamp('2012-10-21 00:00:00')],\n",
       " ['7D', 'G27B', Timestamp('2012-10-22 00:00:00')],\n",
       " ['7D', 'G27B', Timestamp('2012-10-23 00:00:00')],\n",
       " ['7D', 'G27B', Timestamp('2012-10-24 00:00:00')],\n",
       " ['7D', 'G27B', Timestamp('2012-10-25 00:00:00')],\n",
       " ['7D', 'G27B', Timestamp('2012-10-26 00:00:00')],\n",
       " ['7D', 'G27B', Timestamp('2012-10-27 00:00:00')],\n",
       " ['7D', 'G27B', Timestamp('2012-10-28 00:00:00')],\n",
       " ['7D', 'G27B', Timestamp('2012-10-29 00:00:00')],\n",
       " ['7D', 'G27B', Timestamp('2012-10-30 00:00:00')],\n",
       " ['7D', 'G27B', Timestamp('2012-10-31 00:00:00')],\n",
       " ['7D', 'M12B', Timestamp('2012-10-01 00:00:00')],\n",
       " ['7D', 'M12B', Timestamp('2012-10-02 00:00:00')],\n",
       " ['7D', 'M12B', Timestamp('2012-10-03 00:00:00')],\n",
       " ['7D', 'M12B', Timestamp('2012-10-04 00:00:00')],\n",
       " ['7D', 'M12B', Timestamp('2012-10-05 00:00:00')],\n",
       " ['7D', 'M12B', Timestamp('2012-10-06 00:00:00')],\n",
       " ['7D', 'M12B', Timestamp('2012-10-07 00:00:00')],\n",
       " ['7D', 'M12B', Timestamp('2012-10-08 00:00:00')],\n",
       " ['7D', 'M12B', Timestamp('2012-10-09 00:00:00')],\n",
       " ['7D', 'M12B', Timestamp('2012-10-10 00:00:00')],\n",
       " ['7D', 'M12B', Timestamp('2012-10-11 00:00:00')],\n",
       " ['7D', 'M12B', Timestamp('2012-10-12 00:00:00')],\n",
       " ['7D', 'M12B', Timestamp('2012-10-13 00:00:00')],\n",
       " ['7D', 'M12B', Timestamp('2012-10-14 00:00:00')],\n",
       " ['7D', 'M12B', Timestamp('2012-10-15 00:00:00')],\n",
       " ['7D', 'M12B', Timestamp('2012-10-16 00:00:00')],\n",
       " ['7D', 'M12B', Timestamp('2012-10-17 00:00:00')],\n",
       " ['7D', 'M12B', Timestamp('2012-10-18 00:00:00')],\n",
       " ['7D', 'M12B', Timestamp('2012-10-19 00:00:00')],\n",
       " ['7D', 'M12B', Timestamp('2012-10-20 00:00:00')],\n",
       " ['7D', 'M12B', Timestamp('2012-10-21 00:00:00')],\n",
       " ['7D', 'M12B', Timestamp('2012-10-22 00:00:00')],\n",
       " ['7D', 'M12B', Timestamp('2012-10-23 00:00:00')],\n",
       " ['7D', 'M12B', Timestamp('2012-10-24 00:00:00')],\n",
       " ['7D', 'M12B', Timestamp('2012-10-25 00:00:00')],\n",
       " ['7D', 'M12B', Timestamp('2012-10-26 00:00:00')],\n",
       " ['7D', 'M12B', Timestamp('2012-10-27 00:00:00')],\n",
       " ['7D', 'M12B', Timestamp('2012-10-28 00:00:00')],\n",
       " ['7D', 'M12B', Timestamp('2012-10-29 00:00:00')],\n",
       " ['7D', 'M12B', Timestamp('2012-10-30 00:00:00')],\n",
       " ['7D', 'M12B', Timestamp('2012-10-31 00:00:00')],\n",
       " ['7D', 'G17B', Timestamp('2012-10-01 00:00:00')],\n",
       " ['7D', 'G17B', Timestamp('2012-10-02 00:00:00')],\n",
       " ['7D', 'G17B', Timestamp('2012-10-03 00:00:00')],\n",
       " ['7D', 'G17B', Timestamp('2012-10-04 00:00:00')],\n",
       " ['7D', 'G17B', Timestamp('2012-10-05 00:00:00')],\n",
       " ['7D', 'G17B', Timestamp('2012-10-06 00:00:00')],\n",
       " ['7D', 'G17B', Timestamp('2012-10-07 00:00:00')],\n",
       " ['7D', 'G17B', Timestamp('2012-10-08 00:00:00')],\n",
       " ['7D', 'G17B', Timestamp('2012-10-09 00:00:00')],\n",
       " ['7D', 'G17B', Timestamp('2012-10-10 00:00:00')],\n",
       " ['7D', 'G17B', Timestamp('2012-10-11 00:00:00')],\n",
       " ['7D', 'G17B', Timestamp('2012-10-12 00:00:00')],\n",
       " ['7D', 'G17B', Timestamp('2012-10-13 00:00:00')],\n",
       " ['7D', 'G17B', Timestamp('2012-10-14 00:00:00')],\n",
       " ['7D', 'G17B', Timestamp('2012-10-15 00:00:00')],\n",
       " ['7D', 'G17B', Timestamp('2012-10-16 00:00:00')],\n",
       " ['7D', 'G17B', Timestamp('2012-10-17 00:00:00')],\n",
       " ['7D', 'G17B', Timestamp('2012-10-18 00:00:00')],\n",
       " ['7D', 'G17B', Timestamp('2012-10-19 00:00:00')],\n",
       " ['7D', 'G17B', Timestamp('2012-10-20 00:00:00')],\n",
       " ['7D', 'G17B', Timestamp('2012-10-21 00:00:00')],\n",
       " ['7D', 'G17B', Timestamp('2012-10-22 00:00:00')],\n",
       " ['7D', 'G17B', Timestamp('2012-10-23 00:00:00')],\n",
       " ['7D', 'G17B', Timestamp('2012-10-24 00:00:00')],\n",
       " ['7D', 'G17B', Timestamp('2012-10-25 00:00:00')],\n",
       " ['7D', 'G17B', Timestamp('2012-10-26 00:00:00')],\n",
       " ['7D', 'G17B', Timestamp('2012-10-27 00:00:00')],\n",
       " ['7D', 'G17B', Timestamp('2012-10-28 00:00:00')],\n",
       " ['7D', 'G17B', Timestamp('2012-10-29 00:00:00')],\n",
       " ['7D', 'G17B', Timestamp('2012-10-30 00:00:00')],\n",
       " ['7D', 'G17B', Timestamp('2012-10-31 00:00:00')],\n",
       " ['7D', 'FS16B', Timestamp('2012-10-01 00:00:00')],\n",
       " ['7D', 'FS16B', Timestamp('2012-10-02 00:00:00')],\n",
       " ['7D', 'FS16B', Timestamp('2012-10-03 00:00:00')],\n",
       " ['7D', 'FS16B', Timestamp('2012-10-04 00:00:00')],\n",
       " ['7D', 'FS16B', Timestamp('2012-10-05 00:00:00')],\n",
       " ['7D', 'FS16B', Timestamp('2012-10-06 00:00:00')],\n",
       " ['7D', 'FS16B', Timestamp('2012-10-07 00:00:00')],\n",
       " ['7D', 'FS16B', Timestamp('2012-10-08 00:00:00')],\n",
       " ['7D', 'FS16B', Timestamp('2012-10-09 00:00:00')],\n",
       " ['7D', 'FS16B', Timestamp('2012-10-10 00:00:00')],\n",
       " ['7D', 'FS16B', Timestamp('2012-10-11 00:00:00')],\n",
       " ['7D', 'FS16B', Timestamp('2012-10-12 00:00:00')],\n",
       " ['7D', 'FS16B', Timestamp('2012-10-13 00:00:00')],\n",
       " ['7D', 'FS16B', Timestamp('2012-10-14 00:00:00')],\n",
       " ['7D', 'FS16B', Timestamp('2012-10-15 00:00:00')],\n",
       " ['7D', 'FS16B', Timestamp('2012-10-16 00:00:00')],\n",
       " ['7D', 'FS16B', Timestamp('2012-10-17 00:00:00')],\n",
       " ['7D', 'FS16B', Timestamp('2012-10-18 00:00:00')],\n",
       " ['7D', 'FS16B', Timestamp('2012-10-19 00:00:00')],\n",
       " ['7D', 'FS16B', Timestamp('2012-10-20 00:00:00')],\n",
       " ['7D', 'FS16B', Timestamp('2012-10-21 00:00:00')],\n",
       " ['7D', 'FS16B', Timestamp('2012-10-22 00:00:00')],\n",
       " ['7D', 'FS16B', Timestamp('2012-10-23 00:00:00')],\n",
       " ['7D', 'FS16B', Timestamp('2012-10-24 00:00:00')],\n",
       " ['7D', 'FS16B', Timestamp('2012-10-25 00:00:00')],\n",
       " ['7D', 'FS16B', Timestamp('2012-10-26 00:00:00')],\n",
       " ['7D', 'FS16B', Timestamp('2012-10-27 00:00:00')],\n",
       " ['7D', 'FS16B', Timestamp('2012-10-28 00:00:00')],\n",
       " ['7D', 'FS16B', Timestamp('2012-10-29 00:00:00')],\n",
       " ['7D', 'FS16B', Timestamp('2012-10-30 00:00:00')],\n",
       " ['7D', 'FS16B', Timestamp('2012-10-31 00:00:00')],\n",
       " ['UW', 'BABR', Timestamp('2012-10-01 00:00:00')],\n",
       " ['UW', 'BABR', Timestamp('2012-10-02 00:00:00')],\n",
       " ['UW', 'BABR', Timestamp('2012-10-03 00:00:00')],\n",
       " ['UW', 'BABR', Timestamp('2012-10-04 00:00:00')],\n",
       " ['UW', 'BABR', Timestamp('2012-10-05 00:00:00')],\n",
       " ['UW', 'BABR', Timestamp('2012-10-06 00:00:00')],\n",
       " ['UW', 'BABR', Timestamp('2012-10-07 00:00:00')],\n",
       " ['UW', 'BABR', Timestamp('2012-10-08 00:00:00')],\n",
       " ['UW', 'BABR', Timestamp('2012-10-09 00:00:00')],\n",
       " ['UW', 'BABR', Timestamp('2012-10-10 00:00:00')],\n",
       " ['UW', 'BABR', Timestamp('2012-10-11 00:00:00')],\n",
       " ['UW', 'BABR', Timestamp('2012-10-12 00:00:00')],\n",
       " ['UW', 'BABR', Timestamp('2012-10-13 00:00:00')],\n",
       " ['UW', 'BABR', Timestamp('2012-10-14 00:00:00')],\n",
       " ['UW', 'BABR', Timestamp('2012-10-15 00:00:00')],\n",
       " ['UW', 'BABR', Timestamp('2012-10-16 00:00:00')],\n",
       " ['UW', 'BABR', Timestamp('2012-10-17 00:00:00')],\n",
       " ['UW', 'BABR', Timestamp('2012-10-18 00:00:00')],\n",
       " ['UW', 'BABR', Timestamp('2012-10-19 00:00:00')],\n",
       " ['UW', 'BABR', Timestamp('2012-10-20 00:00:00')],\n",
       " ['UW', 'BABR', Timestamp('2012-10-21 00:00:00')],\n",
       " ['UW', 'BABR', Timestamp('2012-10-22 00:00:00')],\n",
       " ['UW', 'BABR', Timestamp('2012-10-23 00:00:00')],\n",
       " ['UW', 'BABR', Timestamp('2012-10-24 00:00:00')],\n",
       " ['UW', 'BABR', Timestamp('2012-10-25 00:00:00')],\n",
       " ['UW', 'BABR', Timestamp('2012-10-26 00:00:00')],\n",
       " ['UW', 'BABR', Timestamp('2012-10-27 00:00:00')],\n",
       " ['UW', 'BABR', Timestamp('2012-10-28 00:00:00')],\n",
       " ['UW', 'BABR', Timestamp('2012-10-29 00:00:00')],\n",
       " ['UW', 'BABR', Timestamp('2012-10-30 00:00:00')],\n",
       " ['UW', 'BABR', Timestamp('2012-10-31 00:00:00')],\n",
       " ['NC', 'KHBB', Timestamp('2012-10-01 00:00:00')],\n",
       " ['NC', 'KHBB', Timestamp('2012-10-02 00:00:00')],\n",
       " ['NC', 'KHBB', Timestamp('2012-10-03 00:00:00')],\n",
       " ['NC', 'KHBB', Timestamp('2012-10-04 00:00:00')],\n",
       " ['NC', 'KHBB', Timestamp('2012-10-05 00:00:00')],\n",
       " ['NC', 'KHBB', Timestamp('2012-10-06 00:00:00')],\n",
       " ['NC', 'KHBB', Timestamp('2012-10-07 00:00:00')],\n",
       " ['NC', 'KHBB', Timestamp('2012-10-08 00:00:00')],\n",
       " ['NC', 'KHBB', Timestamp('2012-10-09 00:00:00')],\n",
       " ['NC', 'KHBB', Timestamp('2012-10-10 00:00:00')],\n",
       " ['NC', 'KHBB', Timestamp('2012-10-11 00:00:00')],\n",
       " ['NC', 'KHBB', Timestamp('2012-10-12 00:00:00')],\n",
       " ['NC', 'KHBB', Timestamp('2012-10-13 00:00:00')],\n",
       " ['NC', 'KHBB', Timestamp('2012-10-14 00:00:00')],\n",
       " ['NC', 'KHBB', Timestamp('2012-10-15 00:00:00')],\n",
       " ['NC', 'KHBB', Timestamp('2012-10-16 00:00:00')],\n",
       " ['NC', 'KHBB', Timestamp('2012-10-17 00:00:00')],\n",
       " ['NC', 'KHBB', Timestamp('2012-10-18 00:00:00')],\n",
       " ['NC', 'KHBB', Timestamp('2012-10-19 00:00:00')],\n",
       " ['NC', 'KHBB', Timestamp('2012-10-20 00:00:00')],\n",
       " ['NC', 'KHBB', Timestamp('2012-10-21 00:00:00')],\n",
       " ['NC', 'KHBB', Timestamp('2012-10-22 00:00:00')],\n",
       " ['NC', 'KHBB', Timestamp('2012-10-23 00:00:00')],\n",
       " ['NC', 'KHBB', Timestamp('2012-10-24 00:00:00')],\n",
       " ['NC', 'KHBB', Timestamp('2012-10-25 00:00:00')],\n",
       " ['NC', 'KHBB', Timestamp('2012-10-26 00:00:00')],\n",
       " ['NC', 'KHBB', Timestamp('2012-10-27 00:00:00')],\n",
       " ['NC', 'KHBB', Timestamp('2012-10-28 00:00:00')],\n",
       " ['NC', 'KHBB', Timestamp('2012-10-29 00:00:00')],\n",
       " ['NC', 'KHBB', Timestamp('2012-10-30 00:00:00')],\n",
       " ['NC', 'KHBB', Timestamp('2012-10-31 00:00:00')],\n",
       " ['NC', 'KBO', Timestamp('2012-10-01 00:00:00')],\n",
       " ['NC', 'KBO', Timestamp('2012-10-02 00:00:00')],\n",
       " ['NC', 'KBO', Timestamp('2012-10-03 00:00:00')],\n",
       " ['NC', 'KBO', Timestamp('2012-10-04 00:00:00')],\n",
       " ['NC', 'KBO', Timestamp('2012-10-05 00:00:00')],\n",
       " ['NC', 'KBO', Timestamp('2012-10-06 00:00:00')],\n",
       " ['NC', 'KBO', Timestamp('2012-10-07 00:00:00')],\n",
       " ['NC', 'KBO', Timestamp('2012-10-08 00:00:00')],\n",
       " ['NC', 'KBO', Timestamp('2012-10-09 00:00:00')],\n",
       " ['NC', 'KBO', Timestamp('2012-10-10 00:00:00')],\n",
       " ['NC', 'KBO', Timestamp('2012-10-11 00:00:00')],\n",
       " ['NC', 'KBO', Timestamp('2012-10-12 00:00:00')],\n",
       " ['NC', 'KBO', Timestamp('2012-10-13 00:00:00')],\n",
       " ['NC', 'KBO', Timestamp('2012-10-14 00:00:00')],\n",
       " ['NC', 'KBO', Timestamp('2012-10-15 00:00:00')],\n",
       " ['NC', 'KBO', Timestamp('2012-10-16 00:00:00')],\n",
       " ['NC', 'KBO', Timestamp('2012-10-17 00:00:00')],\n",
       " ['NC', 'KBO', Timestamp('2012-10-18 00:00:00')],\n",
       " ['NC', 'KBO', Timestamp('2012-10-19 00:00:00')],\n",
       " ['NC', 'KBO', Timestamp('2012-10-20 00:00:00')],\n",
       " ['NC', 'KBO', Timestamp('2012-10-21 00:00:00')],\n",
       " ['NC', 'KBO', Timestamp('2012-10-22 00:00:00')],\n",
       " ['NC', 'KBO', Timestamp('2012-10-23 00:00:00')],\n",
       " ['NC', 'KBO', Timestamp('2012-10-24 00:00:00')],\n",
       " ['NC', 'KBO', Timestamp('2012-10-25 00:00:00')],\n",
       " ['NC', 'KBO', Timestamp('2012-10-26 00:00:00')],\n",
       " ['NC', 'KBO', Timestamp('2012-10-27 00:00:00')],\n",
       " ['NC', 'KBO', Timestamp('2012-10-28 00:00:00')],\n",
       " ['NC', 'KBO', Timestamp('2012-10-29 00:00:00')],\n",
       " ['NC', 'KBO', Timestamp('2012-10-30 00:00:00')],\n",
       " ['NC', 'KBO', Timestamp('2012-10-31 00:00:00')],\n",
       " ['NC', 'KRMB', Timestamp('2012-10-01 00:00:00')],\n",
       " ['NC', 'KRMB', Timestamp('2012-10-02 00:00:00')],\n",
       " ['NC', 'KRMB', Timestamp('2012-10-03 00:00:00')],\n",
       " ['NC', 'KRMB', Timestamp('2012-10-04 00:00:00')],\n",
       " ['NC', 'KRMB', Timestamp('2012-10-05 00:00:00')],\n",
       " ['NC', 'KRMB', Timestamp('2012-10-06 00:00:00')],\n",
       " ['NC', 'KRMB', Timestamp('2012-10-07 00:00:00')],\n",
       " ['NC', 'KRMB', Timestamp('2012-10-08 00:00:00')],\n",
       " ['NC', 'KRMB', Timestamp('2012-10-09 00:00:00')],\n",
       " ['NC', 'KRMB', Timestamp('2012-10-10 00:00:00')],\n",
       " ['NC', 'KRMB', Timestamp('2012-10-11 00:00:00')],\n",
       " ['NC', 'KRMB', Timestamp('2012-10-12 00:00:00')],\n",
       " ['NC', 'KRMB', Timestamp('2012-10-13 00:00:00')],\n",
       " ['NC', 'KRMB', Timestamp('2012-10-14 00:00:00')],\n",
       " ['NC', 'KRMB', Timestamp('2012-10-15 00:00:00')],\n",
       " ['NC', 'KRMB', Timestamp('2012-10-16 00:00:00')],\n",
       " ['NC', 'KRMB', Timestamp('2012-10-17 00:00:00')],\n",
       " ['NC', 'KRMB', Timestamp('2012-10-18 00:00:00')],\n",
       " ['NC', 'KRMB', Timestamp('2012-10-19 00:00:00')],\n",
       " ['NC', 'KRMB', Timestamp('2012-10-20 00:00:00')],\n",
       " ['NC', 'KRMB', Timestamp('2012-10-21 00:00:00')],\n",
       " ['NC', 'KRMB', Timestamp('2012-10-22 00:00:00')],\n",
       " ['NC', 'KRMB', Timestamp('2012-10-23 00:00:00')],\n",
       " ['NC', 'KRMB', Timestamp('2012-10-24 00:00:00')],\n",
       " ['NC', 'KRMB', Timestamp('2012-10-25 00:00:00')],\n",
       " ['NC', 'KRMB', Timestamp('2012-10-26 00:00:00')],\n",
       " ['NC', 'KRMB', Timestamp('2012-10-27 00:00:00')],\n",
       " ['NC', 'KRMB', Timestamp('2012-10-28 00:00:00')],\n",
       " ['NC', 'KRMB', Timestamp('2012-10-29 00:00:00')],\n",
       " ['NC', 'KRMB', Timestamp('2012-10-30 00:00:00')],\n",
       " ['NC', 'KRMB', Timestamp('2012-10-31 00:00:00')],\n",
       " ['NC', 'KOM', Timestamp('2012-10-01 00:00:00')],\n",
       " ['NC', 'KOM', Timestamp('2012-10-02 00:00:00')],\n",
       " ['NC', 'KOM', Timestamp('2012-10-03 00:00:00')],\n",
       " ['NC', 'KOM', Timestamp('2012-10-04 00:00:00')],\n",
       " ['NC', 'KOM', Timestamp('2012-10-05 00:00:00')],\n",
       " ['NC', 'KOM', Timestamp('2012-10-06 00:00:00')],\n",
       " ['NC', 'KOM', Timestamp('2012-10-07 00:00:00')],\n",
       " ['NC', 'KOM', Timestamp('2012-10-08 00:00:00')],\n",
       " ['NC', 'KOM', Timestamp('2012-10-09 00:00:00')],\n",
       " ['NC', 'KOM', Timestamp('2012-10-10 00:00:00')],\n",
       " ['NC', 'KOM', Timestamp('2012-10-11 00:00:00')],\n",
       " ['NC', 'KOM', Timestamp('2012-10-12 00:00:00')],\n",
       " ['NC', 'KOM', Timestamp('2012-10-13 00:00:00')],\n",
       " ['NC', 'KOM', Timestamp('2012-10-14 00:00:00')],\n",
       " ['NC', 'KOM', Timestamp('2012-10-15 00:00:00')],\n",
       " ['NC', 'KOM', Timestamp('2012-10-16 00:00:00')],\n",
       " ['NC', 'KOM', Timestamp('2012-10-17 00:00:00')],\n",
       " ['NC', 'KOM', Timestamp('2012-10-18 00:00:00')],\n",
       " ['NC', 'KOM', Timestamp('2012-10-19 00:00:00')],\n",
       " ['NC', 'KOM', Timestamp('2012-10-20 00:00:00')],\n",
       " ['NC', 'KOM', Timestamp('2012-10-21 00:00:00')],\n",
       " ['NC', 'KOM', Timestamp('2012-10-22 00:00:00')],\n",
       " ['NC', 'KOM', Timestamp('2012-10-23 00:00:00')],\n",
       " ['NC', 'KOM', Timestamp('2012-10-24 00:00:00')],\n",
       " ['NC', 'KOM', Timestamp('2012-10-25 00:00:00')],\n",
       " ['NC', 'KOM', Timestamp('2012-10-26 00:00:00')],\n",
       " ['NC', 'KOM', Timestamp('2012-10-27 00:00:00')],\n",
       " ['NC', 'KOM', Timestamp('2012-10-28 00:00:00')],\n",
       " ['NC', 'KOM', Timestamp('2012-10-29 00:00:00')],\n",
       " ['NC', 'KOM', Timestamp('2012-10-30 00:00:00')],\n",
       " ['NC', 'KOM', Timestamp('2012-10-31 00:00:00')],\n",
       " ['NC', 'KSXB', Timestamp('2012-10-01 00:00:00')],\n",
       " ['NC', 'KSXB', Timestamp('2012-10-02 00:00:00')],\n",
       " ['NC', 'KSXB', Timestamp('2012-10-03 00:00:00')],\n",
       " ['NC', 'KSXB', Timestamp('2012-10-04 00:00:00')],\n",
       " ['NC', 'KSXB', Timestamp('2012-10-05 00:00:00')],\n",
       " ['NC', 'KSXB', Timestamp('2012-10-06 00:00:00')],\n",
       " ['NC', 'KSXB', Timestamp('2012-10-07 00:00:00')],\n",
       " ['NC', 'KSXB', Timestamp('2012-10-08 00:00:00')],\n",
       " ['NC', 'KSXB', Timestamp('2012-10-09 00:00:00')],\n",
       " ['NC', 'KSXB', Timestamp('2012-10-10 00:00:00')],\n",
       " ['NC', 'KSXB', Timestamp('2012-10-11 00:00:00')],\n",
       " ['NC', 'KSXB', Timestamp('2012-10-12 00:00:00')],\n",
       " ['NC', 'KSXB', Timestamp('2012-10-13 00:00:00')],\n",
       " ['NC', 'KSXB', Timestamp('2012-10-14 00:00:00')],\n",
       " ['NC', 'KSXB', Timestamp('2012-10-15 00:00:00')],\n",
       " ['NC', 'KSXB', Timestamp('2012-10-16 00:00:00')],\n",
       " ['NC', 'KSXB', Timestamp('2012-10-17 00:00:00')],\n",
       " ['NC', 'KSXB', Timestamp('2012-10-18 00:00:00')],\n",
       " ['NC', 'KSXB', Timestamp('2012-10-19 00:00:00')],\n",
       " ['NC', 'KSXB', Timestamp('2012-10-20 00:00:00')],\n",
       " ['NC', 'KSXB', Timestamp('2012-10-21 00:00:00')],\n",
       " ['NC', 'KSXB', Timestamp('2012-10-22 00:00:00')],\n",
       " ['NC', 'KSXB', Timestamp('2012-10-23 00:00:00')],\n",
       " ['NC', 'KSXB', Timestamp('2012-10-24 00:00:00')],\n",
       " ['NC', 'KSXB', Timestamp('2012-10-25 00:00:00')],\n",
       " ['NC', 'KSXB', Timestamp('2012-10-26 00:00:00')],\n",
       " ['NC', 'KSXB', Timestamp('2012-10-27 00:00:00')],\n",
       " ['NC', 'KSXB', Timestamp('2012-10-28 00:00:00')],\n",
       " ['NC', 'KSXB', Timestamp('2012-10-29 00:00:00')],\n",
       " ['NC', 'KSXB', Timestamp('2012-10-30 00:00:00')],\n",
       " ['NC', 'KSXB', Timestamp('2012-10-31 00:00:00')],\n",
       " ['NC', 'KEB', Timestamp('2012-10-01 00:00:00')],\n",
       " ['NC', 'KEB', Timestamp('2012-10-02 00:00:00')],\n",
       " ['NC', 'KEB', Timestamp('2012-10-03 00:00:00')],\n",
       " ['NC', 'KEB', Timestamp('2012-10-04 00:00:00')],\n",
       " ['NC', 'KEB', Timestamp('2012-10-05 00:00:00')],\n",
       " ['NC', 'KEB', Timestamp('2012-10-06 00:00:00')],\n",
       " ['NC', 'KEB', Timestamp('2012-10-07 00:00:00')],\n",
       " ['NC', 'KEB', Timestamp('2012-10-08 00:00:00')],\n",
       " ['NC', 'KEB', Timestamp('2012-10-09 00:00:00')],\n",
       " ['NC', 'KEB', Timestamp('2012-10-10 00:00:00')],\n",
       " ['NC', 'KEB', Timestamp('2012-10-11 00:00:00')],\n",
       " ['NC', 'KEB', Timestamp('2012-10-12 00:00:00')],\n",
       " ['NC', 'KEB', Timestamp('2012-10-13 00:00:00')],\n",
       " ['NC', 'KEB', Timestamp('2012-10-14 00:00:00')],\n",
       " ['NC', 'KEB', Timestamp('2012-10-15 00:00:00')],\n",
       " ['NC', 'KEB', Timestamp('2012-10-16 00:00:00')],\n",
       " ['NC', 'KEB', Timestamp('2012-10-17 00:00:00')],\n",
       " ['NC', 'KEB', Timestamp('2012-10-18 00:00:00')],\n",
       " ['NC', 'KEB', Timestamp('2012-10-19 00:00:00')],\n",
       " ['NC', 'KEB', Timestamp('2012-10-20 00:00:00')],\n",
       " ['NC', 'KEB', Timestamp('2012-10-21 00:00:00')],\n",
       " ['NC', 'KEB', Timestamp('2012-10-22 00:00:00')],\n",
       " ['NC', 'KEB', Timestamp('2012-10-23 00:00:00')],\n",
       " ['NC', 'KEB', Timestamp('2012-10-24 00:00:00')],\n",
       " ['NC', 'KEB', Timestamp('2012-10-25 00:00:00')],\n",
       " ['NC', 'KEB', Timestamp('2012-10-26 00:00:00')],\n",
       " ['NC', 'KEB', Timestamp('2012-10-27 00:00:00')],\n",
       " ['NC', 'KEB', Timestamp('2012-10-28 00:00:00')],\n",
       " ['NC', 'KEB', Timestamp('2012-10-29 00:00:00')],\n",
       " ['NC', 'KEB', Timestamp('2012-10-30 00:00:00')],\n",
       " ['NC', 'KEB', Timestamp('2012-10-31 00:00:00')],\n",
       " ['NC', 'KMPB', Timestamp('2012-10-01 00:00:00')],\n",
       " ['NC', 'KMPB', Timestamp('2012-10-02 00:00:00')],\n",
       " ['NC', 'KMPB', Timestamp('2012-10-03 00:00:00')],\n",
       " ['NC', 'KMPB', Timestamp('2012-10-04 00:00:00')],\n",
       " ['NC', 'KMPB', Timestamp('2012-10-05 00:00:00')],\n",
       " ['NC', 'KMPB', Timestamp('2012-10-06 00:00:00')],\n",
       " ['NC', 'KMPB', Timestamp('2012-10-07 00:00:00')],\n",
       " ['NC', 'KMPB', Timestamp('2012-10-08 00:00:00')],\n",
       " ['NC', 'KMPB', Timestamp('2012-10-09 00:00:00')],\n",
       " ['NC', 'KMPB', Timestamp('2012-10-10 00:00:00')],\n",
       " ['NC', 'KMPB', Timestamp('2012-10-11 00:00:00')],\n",
       " ['NC', 'KMPB', Timestamp('2012-10-12 00:00:00')],\n",
       " ['NC', 'KMPB', Timestamp('2012-10-13 00:00:00')],\n",
       " ['NC', 'KMPB', Timestamp('2012-10-14 00:00:00')],\n",
       " ['NC', 'KMPB', Timestamp('2012-10-15 00:00:00')],\n",
       " ['NC', 'KMPB', Timestamp('2012-10-16 00:00:00')],\n",
       " ['NC', 'KMPB', Timestamp('2012-10-17 00:00:00')],\n",
       " ['NC', 'KMPB', Timestamp('2012-10-18 00:00:00')],\n",
       " ['NC', 'KMPB', Timestamp('2012-10-19 00:00:00')],\n",
       " ['NC', 'KMPB', Timestamp('2012-10-20 00:00:00')],\n",
       " ['NC', 'KMPB', Timestamp('2012-10-21 00:00:00')],\n",
       " ['NC', 'KMPB', Timestamp('2012-10-22 00:00:00')],\n",
       " ['NC', 'KMPB', Timestamp('2012-10-23 00:00:00')],\n",
       " ['NC', 'KMPB', Timestamp('2012-10-24 00:00:00')],\n",
       " ['NC', 'KMPB', Timestamp('2012-10-25 00:00:00')],\n",
       " ['NC', 'KMPB', Timestamp('2012-10-26 00:00:00')],\n",
       " ['NC', 'KMPB', Timestamp('2012-10-27 00:00:00')],\n",
       " ['NC', 'KMPB', Timestamp('2012-10-28 00:00:00')],\n",
       " ['NC', 'KMPB', Timestamp('2012-10-29 00:00:00')],\n",
       " ['NC', 'KMPB', Timestamp('2012-10-30 00:00:00')],\n",
       " ['NC', 'KMPB', Timestamp('2012-10-31 00:00:00')],\n",
       " ['NC', 'KHMB', Timestamp('2012-10-01 00:00:00')],\n",
       " ['NC', 'KHMB', Timestamp('2012-10-02 00:00:00')],\n",
       " ['NC', 'KHMB', Timestamp('2012-10-03 00:00:00')],\n",
       " ['NC', 'KHMB', Timestamp('2012-10-04 00:00:00')],\n",
       " ['NC', 'KHMB', Timestamp('2012-10-05 00:00:00')],\n",
       " ['NC', 'KHMB', Timestamp('2012-10-06 00:00:00')],\n",
       " ['NC', 'KHMB', Timestamp('2012-10-07 00:00:00')],\n",
       " ['NC', 'KHMB', Timestamp('2012-10-08 00:00:00')],\n",
       " ['NC', 'KHMB', Timestamp('2012-10-09 00:00:00')],\n",
       " ['NC', 'KHMB', Timestamp('2012-10-10 00:00:00')],\n",
       " ['NC', 'KHMB', Timestamp('2012-10-11 00:00:00')],\n",
       " ['NC', 'KHMB', Timestamp('2012-10-12 00:00:00')],\n",
       " ['NC', 'KHMB', Timestamp('2012-10-13 00:00:00')],\n",
       " ['NC', 'KHMB', Timestamp('2012-10-14 00:00:00')],\n",
       " ['NC', 'KHMB', Timestamp('2012-10-15 00:00:00')],\n",
       " ['NC', 'KHMB', Timestamp('2012-10-16 00:00:00')],\n",
       " ['NC', 'KHMB', Timestamp('2012-10-17 00:00:00')],\n",
       " ['NC', 'KHMB', Timestamp('2012-10-18 00:00:00')],\n",
       " ['NC', 'KHMB', Timestamp('2012-10-19 00:00:00')],\n",
       " ['NC', 'KHMB', Timestamp('2012-10-20 00:00:00')],\n",
       " ['NC', 'KHMB', Timestamp('2012-10-21 00:00:00')],\n",
       " ['NC', 'KHMB', Timestamp('2012-10-22 00:00:00')],\n",
       " ['NC', 'KHMB', Timestamp('2012-10-23 00:00:00')],\n",
       " ['NC', 'KHMB', Timestamp('2012-10-24 00:00:00')],\n",
       " ['NC', 'KHMB', Timestamp('2012-10-25 00:00:00')],\n",
       " ['NC', 'KHMB', Timestamp('2012-10-26 00:00:00')],\n",
       " ['NC', 'KHMB', Timestamp('2012-10-27 00:00:00')],\n",
       " ['NC', 'KHMB', Timestamp('2012-10-28 00:00:00')],\n",
       " ['NC', 'KHMB', Timestamp('2012-10-29 00:00:00')],\n",
       " ['NC', 'KHMB', Timestamp('2012-10-30 00:00:00')],\n",
       " ['NC', 'KHMB', Timestamp('2012-10-31 00:00:00')],\n",
       " ['BK', 'JCC', Timestamp('2012-10-01 00:00:00')],\n",
       " ['BK', 'JCC', Timestamp('2012-10-02 00:00:00')],\n",
       " ['BK', 'JCC', Timestamp('2012-10-03 00:00:00')],\n",
       " ['BK', 'JCC', Timestamp('2012-10-04 00:00:00')],\n",
       " ['BK', 'JCC', Timestamp('2012-10-05 00:00:00')],\n",
       " ['BK', 'JCC', Timestamp('2012-10-06 00:00:00')],\n",
       " ['BK', 'JCC', Timestamp('2012-10-07 00:00:00')],\n",
       " ['BK', 'JCC', Timestamp('2012-10-08 00:00:00')],\n",
       " ['BK', 'JCC', Timestamp('2012-10-09 00:00:00')],\n",
       " ['BK', 'JCC', Timestamp('2012-10-10 00:00:00')],\n",
       " ['BK', 'JCC', Timestamp('2012-10-11 00:00:00')],\n",
       " ['BK', 'JCC', Timestamp('2012-10-12 00:00:00')],\n",
       " ['BK', 'JCC', Timestamp('2012-10-13 00:00:00')],\n",
       " ['BK', 'JCC', Timestamp('2012-10-14 00:00:00')],\n",
       " ['BK', 'JCC', Timestamp('2012-10-15 00:00:00')],\n",
       " ['BK', 'JCC', Timestamp('2012-10-16 00:00:00')],\n",
       " ['BK', 'JCC', Timestamp('2012-10-17 00:00:00')],\n",
       " ['BK', 'JCC', Timestamp('2012-10-18 00:00:00')],\n",
       " ['BK', 'JCC', Timestamp('2012-10-19 00:00:00')],\n",
       " ['BK', 'JCC', Timestamp('2012-10-20 00:00:00')],\n",
       " ['BK', 'JCC', Timestamp('2012-10-21 00:00:00')],\n",
       " ['BK', 'JCC', Timestamp('2012-10-22 00:00:00')],\n",
       " ['BK', 'JCC', Timestamp('2012-10-23 00:00:00')],\n",
       " ['BK', 'JCC', Timestamp('2012-10-24 00:00:00')],\n",
       " ['BK', 'JCC', Timestamp('2012-10-25 00:00:00')],\n",
       " ['BK', 'JCC', Timestamp('2012-10-26 00:00:00')],\n",
       " ['BK', 'JCC', Timestamp('2012-10-27 00:00:00')],\n",
       " ['BK', 'JCC', Timestamp('2012-10-28 00:00:00')],\n",
       " ['BK', 'JCC', Timestamp('2012-10-29 00:00:00')],\n",
       " ['BK', 'JCC', Timestamp('2012-10-30 00:00:00')],\n",
       " ['BK', 'JCC', Timestamp('2012-10-31 00:00:00')]]"
      ]
     },
     "execution_count": 23,
     "metadata": {},
     "output_type": "execute_result"
    }
   ],
   "source": [
    "task_list"
   ]
  },
  {
   "cell_type": "code",
   "execution_count": 24,
   "id": "560aff81",
   "metadata": {
    "scrolled": true
   },
   "outputs": [
    {
     "name": "stdout",
     "output_type": "stream",
     "text": [
      "[                                        ] | 0% Completed | 216.83 us['7D', 'FS09B']\n",
      "[                                        ] | 0% Completed | 6.60 s ms\n"
     ]
    },
    {
     "ename": "KeyboardInterrupt",
     "evalue": "",
     "output_type": "error",
     "traceback": [
      "\u001b[0;31m---------------------------------------------------------------------------\u001b[0m",
      "\u001b[0;31mKeyboardInterrupt\u001b[0m                         Traceback (most recent call last)",
      "Cell \u001b[0;32mIn[24], line 31\u001b[0m\n\u001b[1;32m     25\u001b[0m \u001b[38;5;66;03m# The below actually executes the parallel operation!\u001b[39;00m\n\u001b[1;32m     26\u001b[0m \u001b[38;5;66;03m# It's nice to do it with the ProgressBar so you can see how long things are taking.\u001b[39;00m\n\u001b[1;32m     27\u001b[0m \u001b[38;5;66;03m# Each operation should also write a file so that is another way to check on progress.\u001b[39;00m\n\u001b[1;32m     28\u001b[0m \u001b[38;5;28;01mwith\u001b[39;00m ProgressBar():\n\u001b[1;32m     29\u001b[0m     \u001b[38;5;66;03m#################################\u001b[39;00m\n\u001b[1;32m     30\u001b[0m     \u001b[38;5;66;03m# Add scheduler = 'single-threaded'\u001b[39;00m\n\u001b[0;32m---> 31\u001b[0m \t\u001b[43mdask\u001b[49m\u001b[38;5;241;43m.\u001b[39;49m\u001b[43mcompute\u001b[49m\u001b[43m(\u001b[49m\u001b[43mlazy_results\u001b[49m\u001b[43m,\u001b[49m\u001b[43m \u001b[49m\u001b[43mscheduler\u001b[49m\u001b[38;5;241;43m=\u001b[39;49m\u001b[38;5;124;43m'\u001b[39;49m\u001b[38;5;124;43msingle-threaded\u001b[39;49m\u001b[38;5;124;43m'\u001b[39;49m\u001b[43m)\u001b[49m \n",
      "File \u001b[0;32m/home/jupyter_share/miniconda3/envs/seismo/lib/python3.9/site-packages/dask/base.py:628\u001b[0m, in \u001b[0;36mcompute\u001b[0;34m(traverse, optimize_graph, scheduler, get, *args, **kwargs)\u001b[0m\n\u001b[1;32m    625\u001b[0m     postcomputes\u001b[38;5;241m.\u001b[39mappend(x\u001b[38;5;241m.\u001b[39m__dask_postcompute__())\n\u001b[1;32m    627\u001b[0m \u001b[38;5;28;01mwith\u001b[39;00m shorten_traceback():\n\u001b[0;32m--> 628\u001b[0m     results \u001b[38;5;241m=\u001b[39m \u001b[43mschedule\u001b[49m\u001b[43m(\u001b[49m\u001b[43mdsk\u001b[49m\u001b[43m,\u001b[49m\u001b[43m \u001b[49m\u001b[43mkeys\u001b[49m\u001b[43m,\u001b[49m\u001b[43m \u001b[49m\u001b[38;5;241;43m*\u001b[39;49m\u001b[38;5;241;43m*\u001b[39;49m\u001b[43mkwargs\u001b[49m\u001b[43m)\u001b[49m\n\u001b[1;32m    630\u001b[0m \u001b[38;5;28;01mreturn\u001b[39;00m repack([f(r, \u001b[38;5;241m*\u001b[39ma) \u001b[38;5;28;01mfor\u001b[39;00m r, (f, a) \u001b[38;5;129;01min\u001b[39;00m \u001b[38;5;28mzip\u001b[39m(results, postcomputes)])\n",
      "Cell \u001b[0;32mIn[24], line 17\u001b[0m, in \u001b[0;36mloop_days\u001b[0;34m(task, filepath, twin, step, l_blnd, r_blnd)\u001b[0m\n\u001b[1;32m     15\u001b[0m \u001b[38;5;28mprint\u001b[39m([network,station])\n\u001b[1;32m     16\u001b[0m \u001b[38;5;66;03m# Call to the function that will perform the operation and write the results to file\u001b[39;00m\n\u001b[0;32m---> 17\u001b[0m \u001b[43mrun_detection\u001b[49m\u001b[43m(\u001b[49m\u001b[43mnetwork\u001b[49m\u001b[43m,\u001b[49m\u001b[43mstation\u001b[49m\u001b[43m,\u001b[49m\u001b[43mt1\u001b[49m\u001b[43m,\u001b[49m\u001b[43mt2\u001b[49m\u001b[43m,\u001b[49m\u001b[43mfilepath\u001b[49m\u001b[43m,\u001b[49m\u001b[43mtwin\u001b[49m\u001b[43m,\u001b[49m\u001b[43mstep\u001b[49m\u001b[43m,\u001b[49m\u001b[43ml_blnd\u001b[49m\u001b[43m,\u001b[49m\u001b[43mr_blnd\u001b[49m\u001b[43m)\u001b[49m\n",
      "Cell \u001b[0;32mIn[21], line 126\u001b[0m, in \u001b[0;36mrun_detection\u001b[0;34m(network, station, t1, t2, filepath, twin, step, l_blnd, r_blnd)\u001b[0m\n\u001b[1;32m    124\u001b[0m \u001b[38;5;28;01melse\u001b[39;00m:\n\u001b[1;32m    125\u001b[0m     windows_max_tt \u001b[38;5;241m=\u001b[39m torch\u001b[38;5;241m.\u001b[39mTensor(windows_max)\n\u001b[0;32m--> 126\u001b[0m     _torch_pred \u001b[38;5;241m=\u001b[39m \u001b[43meqt\u001b[49m\u001b[43m(\u001b[49m\u001b[43mwindows_max_tt\u001b[49m\u001b[38;5;241;43m.\u001b[39;49m\u001b[43mto\u001b[49m\u001b[43m(\u001b[49m\u001b[43mdevice\u001b[49m\u001b[43m)\u001b[49m\u001b[43m)\u001b[49m\n\u001b[1;32m    127\u001b[0m batch_pred[\u001b[38;5;241m0\u001b[39m, ipre, :] \u001b[38;5;241m=\u001b[39m _torch_pred[\u001b[38;5;241m1\u001b[39m]\u001b[38;5;241m.\u001b[39mdetach()\u001b[38;5;241m.\u001b[39mcpu()\u001b[38;5;241m.\u001b[39mnumpy()\n\u001b[1;32m    128\u001b[0m batch_pred[\u001b[38;5;241m1\u001b[39m, ipre, :] \u001b[38;5;241m=\u001b[39m _torch_pred[\u001b[38;5;241m2\u001b[39m]\u001b[38;5;241m.\u001b[39mdetach()\u001b[38;5;241m.\u001b[39mcpu()\u001b[38;5;241m.\u001b[39mnumpy()\n",
      "File \u001b[0;32m/home/jupyter_share/miniconda3/envs/seismo/lib/python3.9/site-packages/torch/nn/modules/module.py:1518\u001b[0m, in \u001b[0;36mModule._wrapped_call_impl\u001b[0;34m(self, *args, **kwargs)\u001b[0m\n\u001b[1;32m   1516\u001b[0m     \u001b[38;5;28;01mreturn\u001b[39;00m \u001b[38;5;28mself\u001b[39m\u001b[38;5;241m.\u001b[39m_compiled_call_impl(\u001b[38;5;241m*\u001b[39margs, \u001b[38;5;241m*\u001b[39m\u001b[38;5;241m*\u001b[39mkwargs)  \u001b[38;5;66;03m# type: ignore[misc]\u001b[39;00m\n\u001b[1;32m   1517\u001b[0m \u001b[38;5;28;01melse\u001b[39;00m:\n\u001b[0;32m-> 1518\u001b[0m     \u001b[38;5;28;01mreturn\u001b[39;00m \u001b[38;5;28;43mself\u001b[39;49m\u001b[38;5;241;43m.\u001b[39;49m\u001b[43m_call_impl\u001b[49m\u001b[43m(\u001b[49m\u001b[38;5;241;43m*\u001b[39;49m\u001b[43margs\u001b[49m\u001b[43m,\u001b[49m\u001b[43m \u001b[49m\u001b[38;5;241;43m*\u001b[39;49m\u001b[38;5;241;43m*\u001b[39;49m\u001b[43mkwargs\u001b[49m\u001b[43m)\u001b[49m\n",
      "File \u001b[0;32m/home/jupyter_share/miniconda3/envs/seismo/lib/python3.9/site-packages/torch/nn/modules/module.py:1527\u001b[0m, in \u001b[0;36mModule._call_impl\u001b[0;34m(self, *args, **kwargs)\u001b[0m\n\u001b[1;32m   1522\u001b[0m \u001b[38;5;66;03m# If we don't have any hooks, we want to skip the rest of the logic in\u001b[39;00m\n\u001b[1;32m   1523\u001b[0m \u001b[38;5;66;03m# this function, and just call forward.\u001b[39;00m\n\u001b[1;32m   1524\u001b[0m \u001b[38;5;28;01mif\u001b[39;00m \u001b[38;5;129;01mnot\u001b[39;00m (\u001b[38;5;28mself\u001b[39m\u001b[38;5;241m.\u001b[39m_backward_hooks \u001b[38;5;129;01mor\u001b[39;00m \u001b[38;5;28mself\u001b[39m\u001b[38;5;241m.\u001b[39m_backward_pre_hooks \u001b[38;5;129;01mor\u001b[39;00m \u001b[38;5;28mself\u001b[39m\u001b[38;5;241m.\u001b[39m_forward_hooks \u001b[38;5;129;01mor\u001b[39;00m \u001b[38;5;28mself\u001b[39m\u001b[38;5;241m.\u001b[39m_forward_pre_hooks\n\u001b[1;32m   1525\u001b[0m         \u001b[38;5;129;01mor\u001b[39;00m _global_backward_pre_hooks \u001b[38;5;129;01mor\u001b[39;00m _global_backward_hooks\n\u001b[1;32m   1526\u001b[0m         \u001b[38;5;129;01mor\u001b[39;00m _global_forward_hooks \u001b[38;5;129;01mor\u001b[39;00m _global_forward_pre_hooks):\n\u001b[0;32m-> 1527\u001b[0m     \u001b[38;5;28;01mreturn\u001b[39;00m \u001b[43mforward_call\u001b[49m\u001b[43m(\u001b[49m\u001b[38;5;241;43m*\u001b[39;49m\u001b[43margs\u001b[49m\u001b[43m,\u001b[49m\u001b[43m \u001b[49m\u001b[38;5;241;43m*\u001b[39;49m\u001b[38;5;241;43m*\u001b[39;49m\u001b[43mkwargs\u001b[49m\u001b[43m)\u001b[49m\n\u001b[1;32m   1529\u001b[0m \u001b[38;5;28;01mtry\u001b[39;00m:\n\u001b[1;32m   1530\u001b[0m     result \u001b[38;5;241m=\u001b[39m \u001b[38;5;28;01mNone\u001b[39;00m\n",
      "File \u001b[0;32m/home/jupyter_share/miniconda3/envs/seismo/lib/python3.9/site-packages/seisbench/models/eqtransformer.py:270\u001b[0m, in \u001b[0;36mEQTransformer.forward\u001b[0;34m(self, x, logits)\u001b[0m\n\u001b[1;32m    266\u001b[0m px \u001b[38;5;241m=\u001b[39m px\u001b[38;5;241m.\u001b[39mpermute(\n\u001b[1;32m    267\u001b[0m     \u001b[38;5;241m1\u001b[39m, \u001b[38;5;241m2\u001b[39m, \u001b[38;5;241m0\u001b[39m\n\u001b[1;32m    268\u001b[0m )  \u001b[38;5;66;03m# From sequence, batch, channels to batch, channels, sequence\u001b[39;00m\n\u001b[1;32m    269\u001b[0m px, _ \u001b[38;5;241m=\u001b[39m attention(px)\n\u001b[0;32m--> 270\u001b[0m px \u001b[38;5;241m=\u001b[39m \u001b[43mdecoder\u001b[49m\u001b[43m(\u001b[49m\u001b[43mpx\u001b[49m\u001b[43m)\u001b[49m\n\u001b[1;32m    271\u001b[0m \u001b[38;5;28;01mif\u001b[39;00m logits:\n\u001b[1;32m    272\u001b[0m     pred \u001b[38;5;241m=\u001b[39m conv(px)\n",
      "File \u001b[0;32m/home/jupyter_share/miniconda3/envs/seismo/lib/python3.9/site-packages/torch/nn/modules/module.py:1518\u001b[0m, in \u001b[0;36mModule._wrapped_call_impl\u001b[0;34m(self, *args, **kwargs)\u001b[0m\n\u001b[1;32m   1516\u001b[0m     \u001b[38;5;28;01mreturn\u001b[39;00m \u001b[38;5;28mself\u001b[39m\u001b[38;5;241m.\u001b[39m_compiled_call_impl(\u001b[38;5;241m*\u001b[39margs, \u001b[38;5;241m*\u001b[39m\u001b[38;5;241m*\u001b[39mkwargs)  \u001b[38;5;66;03m# type: ignore[misc]\u001b[39;00m\n\u001b[1;32m   1517\u001b[0m \u001b[38;5;28;01melse\u001b[39;00m:\n\u001b[0;32m-> 1518\u001b[0m     \u001b[38;5;28;01mreturn\u001b[39;00m \u001b[38;5;28;43mself\u001b[39;49m\u001b[38;5;241;43m.\u001b[39;49m\u001b[43m_call_impl\u001b[49m\u001b[43m(\u001b[49m\u001b[38;5;241;43m*\u001b[39;49m\u001b[43margs\u001b[49m\u001b[43m,\u001b[49m\u001b[43m \u001b[49m\u001b[38;5;241;43m*\u001b[39;49m\u001b[38;5;241;43m*\u001b[39;49m\u001b[43mkwargs\u001b[49m\u001b[43m)\u001b[49m\n",
      "File \u001b[0;32m/home/jupyter_share/miniconda3/envs/seismo/lib/python3.9/site-packages/torch/nn/modules/module.py:1527\u001b[0m, in \u001b[0;36mModule._call_impl\u001b[0;34m(self, *args, **kwargs)\u001b[0m\n\u001b[1;32m   1522\u001b[0m \u001b[38;5;66;03m# If we don't have any hooks, we want to skip the rest of the logic in\u001b[39;00m\n\u001b[1;32m   1523\u001b[0m \u001b[38;5;66;03m# this function, and just call forward.\u001b[39;00m\n\u001b[1;32m   1524\u001b[0m \u001b[38;5;28;01mif\u001b[39;00m \u001b[38;5;129;01mnot\u001b[39;00m (\u001b[38;5;28mself\u001b[39m\u001b[38;5;241m.\u001b[39m_backward_hooks \u001b[38;5;129;01mor\u001b[39;00m \u001b[38;5;28mself\u001b[39m\u001b[38;5;241m.\u001b[39m_backward_pre_hooks \u001b[38;5;129;01mor\u001b[39;00m \u001b[38;5;28mself\u001b[39m\u001b[38;5;241m.\u001b[39m_forward_hooks \u001b[38;5;129;01mor\u001b[39;00m \u001b[38;5;28mself\u001b[39m\u001b[38;5;241m.\u001b[39m_forward_pre_hooks\n\u001b[1;32m   1525\u001b[0m         \u001b[38;5;129;01mor\u001b[39;00m _global_backward_pre_hooks \u001b[38;5;129;01mor\u001b[39;00m _global_backward_hooks\n\u001b[1;32m   1526\u001b[0m         \u001b[38;5;129;01mor\u001b[39;00m _global_forward_hooks \u001b[38;5;129;01mor\u001b[39;00m _global_forward_pre_hooks):\n\u001b[0;32m-> 1527\u001b[0m     \u001b[38;5;28;01mreturn\u001b[39;00m \u001b[43mforward_call\u001b[49m\u001b[43m(\u001b[49m\u001b[38;5;241;43m*\u001b[39;49m\u001b[43margs\u001b[49m\u001b[43m,\u001b[49m\u001b[43m \u001b[49m\u001b[38;5;241;43m*\u001b[39;49m\u001b[38;5;241;43m*\u001b[39;49m\u001b[43mkwargs\u001b[49m\u001b[43m)\u001b[49m\n\u001b[1;32m   1529\u001b[0m \u001b[38;5;28;01mtry\u001b[39;00m:\n\u001b[1;32m   1530\u001b[0m     result \u001b[38;5;241m=\u001b[39m \u001b[38;5;28;01mNone\u001b[39;00m\n",
      "File \u001b[0;32m/home/jupyter_share/miniconda3/envs/seismo/lib/python3.9/site-packages/seisbench/models/eqtransformer.py:473\u001b[0m, in \u001b[0;36mDecoder.forward\u001b[0;34m(self, x)\u001b[0m\n\u001b[1;32m    470\u001b[0m         \u001b[38;5;28;01mif\u001b[39;00m i \u001b[38;5;129;01min\u001b[39;00m \u001b[38;5;28mself\u001b[39m\u001b[38;5;241m.\u001b[39mcrops:\n\u001b[1;32m    471\u001b[0m             x \u001b[38;5;241m=\u001b[39m x[:, :, :\u001b[38;5;241m-\u001b[39m\u001b[38;5;241m1\u001b[39m]\n\u001b[0;32m--> 473\u001b[0m     x \u001b[38;5;241m=\u001b[39m \u001b[43mF\u001b[49m\u001b[38;5;241;43m.\u001b[39;49m\u001b[43mrelu\u001b[49m\u001b[43m(\u001b[49m\u001b[43mconv\u001b[49m\u001b[43m(\u001b[49m\u001b[43mx\u001b[49m\u001b[43m)\u001b[49m\u001b[43m)\u001b[49m\n\u001b[1;32m    475\u001b[0m \u001b[38;5;28;01mreturn\u001b[39;00m x\n",
      "\u001b[0;31mKeyboardInterrupt\u001b[0m: "
     ]
    }
   ],
   "source": [
    "# Now we start setting up a parallel operation using a package called Dask.\n",
    "\n",
    "# Start by writing a new a function that is specifically designed to be run in parallel through dask. All it essentially does is define the inputs to the larger run_detection function and then runs the function itself, but because we \"decorate\" it with @dask.delayed to start, the code will recognize that it should be run in parallel.\n",
    "\n",
    "@dask.delayed\n",
    "def loop_days(task,filepath,twin,step,l_blnd,r_blnd):\n",
    "\n",
    "\t# Define the parameters that are specific to each task\n",
    "\tt1 = obspy.UTCDateTime(task[2])\n",
    "\tt2 = obspy.UTCDateTime(t1 + pd.Timedelta(1,'days'))\n",
    "\tnetwork = task[0]\n",
    "\tstation = task[1]\n",
    "    \n",
    "    #print network and station\n",
    "\tprint([network,station])\n",
    "\t# Call to the function that will perform the operation and write the results to file\n",
    "\trun_detection(network,station,t1,t2,filepath,twin,step,l_blnd,r_blnd)\n",
    "\t\n",
    "\n",
    "# Now we set up the parallel operation\n",
    "# The below builds a framework for the computer to run in parallel. This doesn't actually execute anything.\n",
    "lazy_results = [loop_days(task,filepath,twin,step,l_blnd,r_blnd) for task in task_list]\n",
    "    \n",
    "\n",
    "# The below actually executes the parallel operation!\n",
    "# It's nice to do it with the ProgressBar so you can see how long things are taking.\n",
    "# Each operation should also write a file so that is another way to check on progress.\n",
    "with ProgressBar():\n",
    "    #################################\n",
    "    # Add scheduler = 'single-threaded'\n",
    "\tdask.compute(lazy_results, scheduler='single-threaded') \n",
    "    "
   ]
  },
  {
   "cell_type": "code",
   "execution_count": 25,
   "id": "7ce4d790",
   "metadata": {},
   "outputs": [
    {
     "name": "stdout",
     "output_type": "stream",
     "text": [
      "[                                        ] | 0% Completed | 224.52 us['TA', 'I02D']\n",
      "[                                        ] | 0% Completed | 5.46 s msAll prediction shape: (2, 5, 1150, 6000)\n",
      "[                                        ] | 0% Completed | 41.52 s13 P picks\n",
      "24 S picks\n",
      "['7D', 'J25B']\n",
      "[                                        ] | 0% Completed | 41.72 s"
     ]
    },
    {
     "name": "stderr",
     "output_type": "stream",
     "text": [
      "/tmp/ipykernel_523718/2319557713.py:13: RuntimeWarning: All-NaN axis encountered\n",
      "  np.nanmax([stack[idx:idx + twin], _data[iseg+1, :]], axis = 0)\n"
     ]
    },
    {
     "name": "stdout",
     "output_type": "stream",
     "text": [
      "[                                        ] | 0% Completed | 65.35 sAll prediction shape: (2, 5, 3599, 6000)\n",
      "[                                        ] | 0% Completed | 317.70 s345 P picks\n",
      "308 S picks\n"
     ]
    },
    {
     "name": "stderr",
     "output_type": "stream",
     "text": [
      "/tmp/ipykernel_523718/2319557713.py:13: RuntimeWarning: All-NaN axis encountered\n",
      "  np.nanmax([stack[idx:idx + twin], _data[iseg+1, :]], axis = 0)\n"
     ]
    },
    {
     "name": "stdout",
     "output_type": "stream",
     "text": [
      "['7D', 'FS16B']\n",
      "[                                        ] | 0% Completed | 341.18 sAll prediction shape: (2, 5, 3599, 6000)\n",
      "[                                        ] | 0% Completed | 593.34 s421 P picks\n",
      "404 S picks\n"
     ]
    },
    {
     "name": "stderr",
     "output_type": "stream",
     "text": [
      "/tmp/ipykernel_523718/2319557713.py:13: RuntimeWarning: All-NaN axis encountered\n",
      "  np.nanmax([stack[idx:idx + twin], _data[iseg+1, :]], axis = 0)\n"
     ]
    },
    {
     "name": "stdout",
     "output_type": "stream",
     "text": [
      "['7D', 'M12B']\n",
      "[                                        ] | 0% Completed | 599.75 sAll prediction shape: (2, 5, 1439, 6000)\n",
      "[                                        ] | 0% Completed | 10m 53ss157 P picks\n",
      "55 S picks\n",
      "['7D', 'M12B']\n",
      "[                                        ] | 0% Completed | 10m 53s"
     ]
    },
    {
     "name": "stderr",
     "output_type": "stream",
     "text": [
      "/tmp/ipykernel_523718/2319557713.py:13: RuntimeWarning: All-NaN axis encountered\n",
      "  np.nanmax([stack[idx:idx + twin], _data[iseg+1, :]], axis = 0)\n"
     ]
    },
    {
     "name": "stdout",
     "output_type": "stream",
     "text": [
      "[                                        ] | 0% Completed | 10m 59sAll prediction shape: (2, 5, 1439, 6000)\n",
      "[                                        ] | 0% Completed | 11m 51s184 P picks\n",
      "58 S picks\n"
     ]
    },
    {
     "name": "stderr",
     "output_type": "stream",
     "text": [
      "/tmp/ipykernel_523718/2319557713.py:13: RuntimeWarning: All-NaN axis encountered\n",
      "  np.nanmax([stack[idx:idx + twin], _data[iseg+1, :]], axis = 0)\n",
      "WARNING:root:No stream returned. Skipping.\n"
     ]
    },
    {
     "name": "stdout",
     "output_type": "stream",
     "text": [
      "['NC', 'KSXB']\n",
      "['7D', 'J09B']\n",
      "[                                        ] | 0% Completed | 11m 57sAll prediction shape: (2, 5, 1439, 6000)\n",
      "[                                        ] | 0% Completed | 12m 49s111 P picks\n",
      "33 S picks\n",
      "['7D', 'G26B']\n",
      "[                                        ] | 0% Completed | 12m 49s"
     ]
    },
    {
     "name": "stderr",
     "output_type": "stream",
     "text": [
      "/tmp/ipykernel_523718/2319557713.py:13: RuntimeWarning: All-NaN axis encountered\n",
      "  np.nanmax([stack[idx:idx + twin], _data[iseg+1, :]], axis = 0)\n"
     ]
    },
    {
     "name": "stdout",
     "output_type": "stream",
     "text": [
      "[                                        ] | 0% Completed | 13m 12sAll prediction shape: (2, 5, 3598, 6000)\n",
      "[                                        ] | 0% Completed | 17m 28s107 P picks\n",
      "108 S picks\n"
     ]
    },
    {
     "name": "stderr",
     "output_type": "stream",
     "text": [
      "/tmp/ipykernel_523718/2319557713.py:13: RuntimeWarning: All-NaN axis encountered\n",
      "  np.nanmax([stack[idx:idx + twin], _data[iseg+1, :]], axis = 0)\n"
     ]
    },
    {
     "name": "stdout",
     "output_type": "stream",
     "text": [
      "['7D', 'G17B']\n",
      "[                                        ] | 0% Completed | 17m 51sAll prediction shape: (2, 5, 3599, 6000)\n",
      "[                                        ] | 0% Completed | 22m 13s611 P picks\n",
      "571 S picks\n"
     ]
    },
    {
     "name": "stderr",
     "output_type": "stream",
     "text": [
      "/tmp/ipykernel_523718/2319557713.py:13: RuntimeWarning: All-NaN axis encountered\n",
      "  np.nanmax([stack[idx:idx + twin], _data[iseg+1, :]], axis = 0)\n"
     ]
    },
    {
     "name": "stdout",
     "output_type": "stream",
     "text": [
      "['7D', 'G10B']\n",
      "[                                        ] | 1% Completed | 22m 20sAll prediction shape: (2, 5, 1439, 6000)\n",
      "[                                        ] | 1% Completed | 23m 13s70 P picks\n",
      "27 S picks\n",
      "['NC', 'KMPB']\n",
      "[                                        ] | 1% Completed | 23m 13s"
     ]
    },
    {
     "name": "stderr",
     "output_type": "stream",
     "text": [
      "/tmp/ipykernel_523718/2319557713.py:13: RuntimeWarning: All-NaN axis encountered\n",
      "  np.nanmax([stack[idx:idx + twin], _data[iseg+1, :]], axis = 0)\n",
      "WARNING:root:No stream returned. Skipping.\n",
      "WARNING:root:No stream returned. Skipping.\n"
     ]
    },
    {
     "name": "stdout",
     "output_type": "stream",
     "text": [
      "['NC', 'KEB']\n",
      "['BK', 'JCC']\n",
      "[                                        ] | 1% Completed | 23m 13s"
     ]
    },
    {
     "name": "stderr",
     "output_type": "stream",
     "text": [
      "WARNING:root:No stream returned. Skipping.\n"
     ]
    },
    {
     "name": "stdout",
     "output_type": "stream",
     "text": [
      "['7D', 'M12B']\n",
      "[                                        ] | 1% Completed | 23m 19sAll prediction shape: (2, 5, 1439, 6000)\n",
      "[                                        ] | 1% Completed | 24m 11s179 P picks\n",
      "49 S picks\n"
     ]
    },
    {
     "name": "stderr",
     "output_type": "stream",
     "text": [
      "/tmp/ipykernel_523718/2319557713.py:13: RuntimeWarning: All-NaN axis encountered\n",
      "  np.nanmax([stack[idx:idx + twin], _data[iseg+1, :]], axis = 0)\n",
      "WARNING:root:No stream returned. Skipping.\n"
     ]
    },
    {
     "name": "stdout",
     "output_type": "stream",
     "text": [
      "['NC', 'KRMB']\n",
      "['NC', 'KEB']\n",
      "[                                        ] | 1% Completed | 24m 11s"
     ]
    },
    {
     "name": "stderr",
     "output_type": "stream",
     "text": [
      "WARNING:root:No stream returned. Skipping.\n"
     ]
    },
    {
     "name": "stdout",
     "output_type": "stream",
     "text": [
      "['7D', 'M09B']\n",
      "[                                        ] | 1% Completed | 24m 33sAll prediction shape: (2, 5, 3599, 6000)\n",
      "[                                        ] | 1% Completed | 28m 46s460 P picks\n",
      "526 S picks\n"
     ]
    },
    {
     "name": "stderr",
     "output_type": "stream",
     "text": [
      "/tmp/ipykernel_523718/2319557713.py:13: RuntimeWarning: All-NaN axis encountered\n",
      "  np.nanmax([stack[idx:idx + twin], _data[iseg+1, :]], axis = 0)\n"
     ]
    },
    {
     "name": "stdout",
     "output_type": "stream",
     "text": [
      "['7D', 'G25B']\n",
      "[                                        ] | 1% Completed | 29m 7ssAll prediction shape: (2, 5, 3599, 6000)\n",
      "[                                        ] | 1% Completed | 33m 20s384 P picks\n",
      "195 S picks\n",
      "[                                        ] | 1% Completed | 33m 20s"
     ]
    },
    {
     "name": "stderr",
     "output_type": "stream",
     "text": [
      "/tmp/ipykernel_523718/2319557713.py:13: RuntimeWarning: All-NaN axis encountered\n",
      "  np.nanmax([stack[idx:idx + twin], _data[iseg+1, :]], axis = 0)\n",
      "WARNING:root:No stream returned. Skipping.\n"
     ]
    },
    {
     "name": "stdout",
     "output_type": "stream",
     "text": [
      "['NC', 'KHMB']\n",
      "['7D', 'M12B']\n",
      "[                                        ] | 2% Completed | 33m 26sAll prediction shape: (2, 5, 1439, 6000)\n",
      "[                                        ] | 2% Completed | 34m 19s144 P picks\n",
      "46 S picks\n",
      "['7D', 'G27B']\n",
      "[                                        ] | 2% Completed | 34m 19s"
     ]
    },
    {
     "name": "stderr",
     "output_type": "stream",
     "text": [
      "/tmp/ipykernel_523718/2319557713.py:13: RuntimeWarning: All-NaN axis encountered\n",
      "  np.nanmax([stack[idx:idx + twin], _data[iseg+1, :]], axis = 0)\n"
     ]
    },
    {
     "name": "stdout",
     "output_type": "stream",
     "text": [
      "[                                        ] | 2% Completed | 34m 26sAll prediction shape: (2, 5, 1439, 6000)\n",
      "[                                        ] | 2% Completed | 35m 18s58 P picks\n",
      "38 S picks\n",
      "['7D', 'M14B']\n",
      "[                                        ] | 2% Completed | 35m 18s"
     ]
    },
    {
     "name": "stderr",
     "output_type": "stream",
     "text": [
      "/tmp/ipykernel_523718/2319557713.py:13: RuntimeWarning: All-NaN axis encountered\n",
      "  np.nanmax([stack[idx:idx + twin], _data[iseg+1, :]], axis = 0)\n"
     ]
    },
    {
     "name": "stdout",
     "output_type": "stream",
     "text": [
      "[                                        ] | 2% Completed | 35m 24sAll prediction shape: (2, 5, 1439, 6000)\n",
      "[                                        ] | 2% Completed | 36m 16s197 P picks\n",
      "47 S picks\n",
      "['TA', 'I02D']\n",
      "[                                        ] | 2% Completed | 36m 16s"
     ]
    },
    {
     "name": "stderr",
     "output_type": "stream",
     "text": [
      "/tmp/ipykernel_523718/2319557713.py:13: RuntimeWarning: All-NaN axis encountered\n",
      "  np.nanmax([stack[idx:idx + twin], _data[iseg+1, :]], axis = 0)\n"
     ]
    },
    {
     "name": "stdout",
     "output_type": "stream",
     "text": [
      "[                                        ] | 2% Completed | 36m 20sAll prediction shape: (2, 5, 1151, 6000)\n",
      "[                                        ] | 2% Completed | 36m 56s26 P picks\n",
      "35 S picks\n",
      "['7D', 'M09B']\n",
      "[#                                       ] | 2% Completed | 36m 56s"
     ]
    },
    {
     "name": "stderr",
     "output_type": "stream",
     "text": [
      "/tmp/ipykernel_523718/2319557713.py:13: RuntimeWarning: All-NaN axis encountered\n",
      "  np.nanmax([stack[idx:idx + twin], _data[iseg+1, :]], axis = 0)\n"
     ]
    },
    {
     "name": "stdout",
     "output_type": "stream",
     "text": [
      "[#                                       ] | 2% Completed | 37m 18sAll prediction shape: (2, 5, 3599, 6000)\n",
      "[#                                       ] | 2% Completed | 41m 31s525 P picks\n",
      "567 S picks\n",
      "['7D', 'FS09B']\n",
      "[#                                       ] | 2% Completed | 41m 31s"
     ]
    },
    {
     "name": "stderr",
     "output_type": "stream",
     "text": [
      "/tmp/ipykernel_523718/2319557713.py:13: RuntimeWarning: All-NaN axis encountered\n",
      "  np.nanmax([stack[idx:idx + twin], _data[iseg+1, :]], axis = 0)\n"
     ]
    },
    {
     "name": "stdout",
     "output_type": "stream",
     "text": [
      "[#                                       ] | 2% Completed | 41m 37sAll prediction shape: (2, 5, 1439, 6000)\n",
      "[#                                       ] | 2% Completed | 42m 29s152 P picks\n",
      "124 S picks\n",
      "['7D', 'M14B']\n",
      "[#                                       ] | 2% Completed | 42m 30s"
     ]
    },
    {
     "name": "stderr",
     "output_type": "stream",
     "text": [
      "/tmp/ipykernel_523718/2319557713.py:13: RuntimeWarning: All-NaN axis encountered\n",
      "  np.nanmax([stack[idx:idx + twin], _data[iseg+1, :]], axis = 0)\n"
     ]
    },
    {
     "name": "stdout",
     "output_type": "stream",
     "text": [
      "[#                                       ] | 2% Completed | 42m 36sAll prediction shape: (2, 5, 1438, 6000)\n",
      "[#                                       ] | 2% Completed | 43m 28s200 P picks\n",
      "80 S picks\n",
      "['TA', 'I02D']\n",
      "[#                                       ] | 2% Completed | 43m 28s"
     ]
    },
    {
     "name": "stderr",
     "output_type": "stream",
     "text": [
      "/tmp/ipykernel_523718/2319557713.py:13: RuntimeWarning: All-NaN axis encountered\n",
      "  np.nanmax([stack[idx:idx + twin], _data[iseg+1, :]], axis = 0)\n"
     ]
    },
    {
     "name": "stdout",
     "output_type": "stream",
     "text": [
      "[#                                       ] | 2% Completed | 43m 32sAll prediction shape: (2, 5, 1151, 6000)\n",
      "[#                                       ] | 2% Completed | 44m 9ss28 P picks\n",
      "20 S picks\n",
      "['7D', 'G27B']\n",
      "[#                                       ] | 3% Completed | 44m 10s"
     ]
    },
    {
     "name": "stderr",
     "output_type": "stream",
     "text": [
      "/tmp/ipykernel_523718/2319557713.py:13: RuntimeWarning: All-NaN axis encountered\n",
      "  np.nanmax([stack[idx:idx + twin], _data[iseg+1, :]], axis = 0)\n"
     ]
    },
    {
     "name": "stdout",
     "output_type": "stream",
     "text": [
      "[#                                       ] | 3% Completed | 44m 15sAll prediction shape: (2, 5, 1439, 6000)\n",
      "[#                                       ] | 3% Completed | 45m 7ss60 P picks\n",
      "35 S picks\n",
      "['7D', 'FS13B']\n",
      "[#                                       ] | 3% Completed | 45m 7s"
     ]
    },
    {
     "name": "stderr",
     "output_type": "stream",
     "text": [
      "/tmp/ipykernel_523718/2319557713.py:13: RuntimeWarning: All-NaN axis encountered\n",
      "  np.nanmax([stack[idx:idx + twin], _data[iseg+1, :]], axis = 0)\n"
     ]
    },
    {
     "name": "stdout",
     "output_type": "stream",
     "text": [
      "[#                                       ] | 3% Completed | 45m 30sAll prediction shape: (2, 5, 3599, 6000)\n",
      "[#                                       ] | 3% Completed | 49m 53s400 P picks\n",
      "253 S picks\n"
     ]
    },
    {
     "name": "stderr",
     "output_type": "stream",
     "text": [
      "/tmp/ipykernel_523718/2319557713.py:13: RuntimeWarning: All-NaN axis encountered\n",
      "  np.nanmax([stack[idx:idx + twin], _data[iseg+1, :]], axis = 0)\n"
     ]
    },
    {
     "name": "stdout",
     "output_type": "stream",
     "text": [
      "['7D', 'FS17B']\n",
      "[#                                       ] | 3% Completed | 50m 15sAll prediction shape: (2, 5, 3599, 6000)\n",
      "[#                                       ] | 3% Completed | 54m 28s643 P picks\n",
      "617 S picks\n"
     ]
    },
    {
     "name": "stderr",
     "output_type": "stream",
     "text": [
      "/tmp/ipykernel_523718/2319557713.py:13: RuntimeWarning: All-NaN axis encountered\n",
      "  np.nanmax([stack[idx:idx + twin], _data[iseg+1, :]], axis = 0)\n"
     ]
    },
    {
     "name": "stdout",
     "output_type": "stream",
     "text": [
      "['7D', 'G26B']\n",
      "[#                                       ] | 3% Completed | 54m 50sAll prediction shape: (2, 5, 3598, 6000)\n",
      "[#                                       ] | 3% Completed | 59m 2ss147 P picks\n",
      "130 S picks\n"
     ]
    },
    {
     "name": "stderr",
     "output_type": "stream",
     "text": [
      "/tmp/ipykernel_523718/2319557713.py:13: RuntimeWarning: All-NaN axis encountered\n",
      "  np.nanmax([stack[idx:idx + twin], _data[iseg+1, :]], axis = 0)\n"
     ]
    },
    {
     "name": "stdout",
     "output_type": "stream",
     "text": [
      "['7D', 'FS13B']\n",
      "[#                                       ] | 3% Completed | 59m 24sAll prediction shape: (2, 5, 3599, 6000)\n",
      "[#                                       ] | 3% Completed | 63m 35s429 P picks\n",
      "347 S picks\n",
      "[#                                       ] | 3% Completed | 63m 35s"
     ]
    },
    {
     "name": "stderr",
     "output_type": "stream",
     "text": [
      "/tmp/ipykernel_523718/2319557713.py:13: RuntimeWarning: All-NaN axis encountered\n",
      "  np.nanmax([stack[idx:idx + twin], _data[iseg+1, :]], axis = 0)\n"
     ]
    },
    {
     "name": "stdout",
     "output_type": "stream",
     "text": [
      "['7D', 'J25B']\n",
      "[#                                       ] | 3% Completed | 63m 57sAll prediction shape: (2, 5, 3599, 6000)\n",
      "[#                                       ] | 3% Completed | 68m 9ss326 P picks\n",
      "313 S picks\n"
     ]
    },
    {
     "name": "stderr",
     "output_type": "stream",
     "text": [
      "/tmp/ipykernel_523718/2319557713.py:13: RuntimeWarning: All-NaN axis encountered\n",
      "  np.nanmax([stack[idx:idx + twin], _data[iseg+1, :]], axis = 0)\n"
     ]
    },
    {
     "name": "stdout",
     "output_type": "stream",
     "text": [
      "['7D', 'G10B']\n",
      "[#                                       ] | 3% Completed | 68m 15sAll prediction shape: (2, 5, 1439, 6000)\n",
      "[#                                       ] | 3% Completed | 69m 9ss31 P picks\n",
      "13 S picks\n",
      "['7D', 'FS09B']\n",
      "[#                                       ] | 3% Completed | 69m 9s"
     ]
    },
    {
     "name": "stderr",
     "output_type": "stream",
     "text": [
      "/tmp/ipykernel_523718/2319557713.py:13: RuntimeWarning: All-NaN axis encountered\n",
      "  np.nanmax([stack[idx:idx + twin], _data[iseg+1, :]], axis = 0)\n"
     ]
    },
    {
     "name": "stdout",
     "output_type": "stream",
     "text": [
      "[#                                       ] | 3% Completed | 69m 14sAll prediction shape: (2, 5, 1439, 6000)\n",
      "[#                                       ] | 3% Completed | 70m 6ss147 P picks\n",
      "102 S picks\n",
      "[#                                       ] | 3% Completed | 70m 6s['7D', 'G19B']\n",
      "[#                                       ] | 3% Completed | 70m 6s"
     ]
    },
    {
     "name": "stderr",
     "output_type": "stream",
     "text": [
      "/tmp/ipykernel_523718/2319557713.py:13: RuntimeWarning: All-NaN axis encountered\n",
      "  np.nanmax([stack[idx:idx + twin], _data[iseg+1, :]], axis = 0)\n"
     ]
    },
    {
     "name": "stdout",
     "output_type": "stream",
     "text": [
      "[#                                       ] | 3% Completed | 70m 11sAll prediction shape: (2, 5, 1439, 6000)\n",
      "[#                                       ] | 3% Completed | 71m 3ss59 P picks\n",
      "17 S picks\n",
      "['7D', 'J09B']\n",
      "[#                                       ] | 4% Completed | 71m 3s"
     ]
    },
    {
     "name": "stderr",
     "output_type": "stream",
     "text": [
      "/tmp/ipykernel_523718/2319557713.py:13: RuntimeWarning: All-NaN axis encountered\n",
      "  np.nanmax([stack[idx:idx + twin], _data[iseg+1, :]], axis = 0)\n"
     ]
    },
    {
     "name": "stdout",
     "output_type": "stream",
     "text": [
      "[#                                       ] | 4% Completed | 71m 9sAll prediction shape: (2, 5, 1439, 6000)\n",
      "[#                                       ] | 4% Completed | 72m 0ss109 P picks\n",
      "21 S picks\n"
     ]
    },
    {
     "name": "stderr",
     "output_type": "stream",
     "text": [
      "/tmp/ipykernel_523718/2319557713.py:13: RuntimeWarning: All-NaN axis encountered\n",
      "  np.nanmax([stack[idx:idx + twin], _data[iseg+1, :]], axis = 0)\n",
      "WARNING:root:No stream returned. Skipping.\n"
     ]
    },
    {
     "name": "stdout",
     "output_type": "stream",
     "text": [
      "['NC', 'KSXB']\n"
     ]
    },
    {
     "name": "stderr",
     "output_type": "stream",
     "text": [
      "WARNING:root:No stream returned. Skipping.\n"
     ]
    },
    {
     "name": "stdout",
     "output_type": "stream",
     "text": [
      "['NC', 'KOM']\n",
      "['7D', 'G10B']\n",
      "[#                                       ] | 4% Completed | 72m 6sAll prediction shape: (2, 5, 1439, 6000)\n",
      "[#                                       ] | 4% Completed | 73m 0ss48 P picks\n",
      "30 S picks\n",
      "['7D', 'G25B']\n",
      "[#                                       ] | 4% Completed | 73m 0s"
     ]
    },
    {
     "name": "stderr",
     "output_type": "stream",
     "text": [
      "/tmp/ipykernel_523718/2319557713.py:13: RuntimeWarning: All-NaN axis encountered\n",
      "  np.nanmax([stack[idx:idx + twin], _data[iseg+1, :]], axis = 0)\n"
     ]
    },
    {
     "name": "stdout",
     "output_type": "stream",
     "text": [
      "[#                                       ] | 4% Completed | 73m 21sAll prediction shape: (2, 5, 3598, 6000)\n",
      "[#                                       ] | 4% Completed | 77m 33s408 P picks\n",
      "218 S picks\n",
      "[#                                       ] | 4% Completed | 77m 34s"
     ]
    },
    {
     "name": "stderr",
     "output_type": "stream",
     "text": [
      "/tmp/ipykernel_523718/2319557713.py:13: RuntimeWarning: All-NaN axis encountered\n",
      "  np.nanmax([stack[idx:idx + twin], _data[iseg+1, :]], axis = 0)\n",
      "WARNING:root:No stream returned. Skipping.\n"
     ]
    },
    {
     "name": "stdout",
     "output_type": "stream",
     "text": [
      "['NC', 'KRMB']\n"
     ]
    },
    {
     "name": "stderr",
     "output_type": "stream",
     "text": [
      "WARNING:root:No stream returned. Skipping.\n"
     ]
    },
    {
     "name": "stdout",
     "output_type": "stream",
     "text": [
      "['BK', 'JCC']\n",
      "['TA', 'J01E']\n",
      "[#                                       ] | 4% Completed | 77m 38sAll prediction shape: (2, 5, 1151, 6000)\n",
      "[#                                       ] | 4% Completed | 78m 15s25 P picks\n",
      "19 S picks\n",
      "['7D', 'FS09B']\n",
      "[#                                       ] | 4% Completed | 78m 15s"
     ]
    },
    {
     "name": "stderr",
     "output_type": "stream",
     "text": [
      "/tmp/ipykernel_523718/2319557713.py:13: RuntimeWarning: All-NaN axis encountered\n",
      "  np.nanmax([stack[idx:idx + twin], _data[iseg+1, :]], axis = 0)\n"
     ]
    },
    {
     "name": "stdout",
     "output_type": "stream",
     "text": [
      "[#                                       ] | 4% Completed | 78m 21sAll prediction shape: (2, 5, 1439, 6000)\n",
      "[#                                       ] | 4% Completed | 79m 13s111 P picks\n",
      "96 S picks\n",
      "['7D', 'G10B']\n",
      "[##                                      ] | 5% Completed | 79m 14s"
     ]
    },
    {
     "name": "stderr",
     "output_type": "stream",
     "text": [
      "/tmp/ipykernel_523718/2319557713.py:13: RuntimeWarning: All-NaN axis encountered\n",
      "  np.nanmax([stack[idx:idx + twin], _data[iseg+1, :]], axis = 0)\n"
     ]
    },
    {
     "name": "stdout",
     "output_type": "stream",
     "text": [
      "[##                                      ] | 5% Completed | 79m 19sAll prediction shape: (2, 5, 1439, 6000)\n",
      "[##                                      ] | 5% Completed | 80m 13s51 P picks\n",
      "37 S picks\n",
      "['TA', 'J01E']\n",
      "[##                                      ] | 5% Completed | 80m 13s"
     ]
    },
    {
     "name": "stderr",
     "output_type": "stream",
     "text": [
      "/tmp/ipykernel_523718/2319557713.py:13: RuntimeWarning: All-NaN axis encountered\n",
      "  np.nanmax([stack[idx:idx + twin], _data[iseg+1, :]], axis = 0)\n"
     ]
    },
    {
     "name": "stdout",
     "output_type": "stream",
     "text": [
      "[##                                      ] | 5% Completed | 80m 17sAll prediction shape: (2, 5, 1151, 6000)\n",
      "[##                                      ] | 5% Completed | 80m 53s36 P picks\n",
      "17 S picks\n",
      "['7D', 'FS16B']\n",
      "[##                                      ] | 5% Completed | 80m 54s"
     ]
    },
    {
     "name": "stderr",
     "output_type": "stream",
     "text": [
      "/tmp/ipykernel_523718/2319557713.py:13: RuntimeWarning: All-NaN axis encountered\n",
      "  np.nanmax([stack[idx:idx + twin], _data[iseg+1, :]], axis = 0)\n"
     ]
    },
    {
     "name": "stdout",
     "output_type": "stream",
     "text": [
      "[##                                      ] | 5% Completed | 81m 16sAll prediction shape: (2, 5, 3598, 6000)\n",
      "[##                                      ] | 5% Completed | 85m 28s410 P picks\n",
      "452 S picks\n",
      "[##                                      ] | 5% Completed | 85m 28s"
     ]
    },
    {
     "name": "stderr",
     "output_type": "stream",
     "text": [
      "/tmp/ipykernel_523718/2319557713.py:13: RuntimeWarning: All-NaN axis encountered\n",
      "  np.nanmax([stack[idx:idx + twin], _data[iseg+1, :]], axis = 0)\n"
     ]
    },
    {
     "name": "stdout",
     "output_type": "stream",
     "text": [
      "['7D', 'G19B']\n",
      "[##                                      ] | 5% Completed | 85m 34sAll prediction shape: (2, 5, 1439, 6000)\n",
      "[##                                      ] | 5% Completed | 86m 25s76 P picks\n",
      "30 S picks\n",
      "['NC', 'KSXB']\n"
     ]
    },
    {
     "name": "stderr",
     "output_type": "stream",
     "text": [
      "/tmp/ipykernel_523718/2319557713.py:13: RuntimeWarning: All-NaN axis encountered\n",
      "  np.nanmax([stack[idx:idx + twin], _data[iseg+1, :]], axis = 0)\n",
      "WARNING:root:No stream returned. Skipping.\n"
     ]
    },
    {
     "name": "stdout",
     "output_type": "stream",
     "text": [
      "['NC', 'KOM']\n",
      "\r",
      "[##                                      ] | 5% Completed | 86m 25s"
     ]
    },
    {
     "name": "stderr",
     "output_type": "stream",
     "text": [
      "WARNING:root:No stream returned. Skipping.\n"
     ]
    },
    {
     "name": "stdout",
     "output_type": "stream",
     "text": [
      "['7D', 'G10B']\n",
      "[##                                      ] | 5% Completed | 86m 31sAll prediction shape: (2, 5, 1439, 6000)\n",
      "[##                                      ] | 5% Completed | 87m 25s67 P picks\n",
      "60 S picks\n",
      "['7D', 'M12B']\n",
      "[##                                      ] | 5% Completed | 87m 25s"
     ]
    },
    {
     "name": "stderr",
     "output_type": "stream",
     "text": [
      "/tmp/ipykernel_523718/2319557713.py:13: RuntimeWarning: All-NaN axis encountered\n",
      "  np.nanmax([stack[idx:idx + twin], _data[iseg+1, :]], axis = 0)\n"
     ]
    },
    {
     "name": "stdout",
     "output_type": "stream",
     "text": [
      "[##                                      ] | 5% Completed | 87m 30sAll prediction shape: (2, 5, 1439, 6000)\n",
      "[##                                      ] | 5% Completed | 88m 22s212 P picks\n",
      "52 S picks\n"
     ]
    },
    {
     "name": "stderr",
     "output_type": "stream",
     "text": [
      "/tmp/ipykernel_523718/2319557713.py:13: RuntimeWarning: All-NaN axis encountered\n",
      "  np.nanmax([stack[idx:idx + twin], _data[iseg+1, :]], axis = 0)\n",
      "WARNING:root:No stream returned. Skipping.\n"
     ]
    },
    {
     "name": "stdout",
     "output_type": "stream",
     "text": [
      "['NC', 'KSXB']\n",
      "['NC', 'KBO']\n",
      "[##                                      ] | 6% Completed | 88m 22s"
     ]
    },
    {
     "name": "stderr",
     "output_type": "stream",
     "text": [
      "WARNING:root:No stream returned. Skipping.\n"
     ]
    },
    {
     "name": "stdout",
     "output_type": "stream",
     "text": [
      "['7D', 'G17B']\n",
      "[##                                      ] | 6% Completed | 88m 44sAll prediction shape: (2, 5, 3599, 6000)\n",
      "[##                                      ] | 6% Completed | 92m 55s"
     ]
    },
    {
     "name": "stderr",
     "output_type": "stream",
     "text": [
      "/tmp/ipykernel_523718/2319557713.py:13: RuntimeWarning: All-NaN axis encountered\n",
      "  np.nanmax([stack[idx:idx + twin], _data[iseg+1, :]], axis = 0)\n"
     ]
    },
    {
     "name": "stdout",
     "output_type": "stream",
     "text": [
      "589 P picks\n",
      "729 S picks\n",
      "['7D', 'FS20B']\n",
      "[##                                      ] | 6% Completed | 93m 17sAll prediction shape: (2, 5, 3598, 6000)\n",
      "[##                                      ] | 6% Completed | 97m 41s178 P picks\n",
      "135 S picks\n",
      "['7D', 'FS20B']\n",
      "[##                                      ] | 6% Completed | 97m 41s"
     ]
    },
    {
     "name": "stderr",
     "output_type": "stream",
     "text": [
      "/tmp/ipykernel_523718/2319557713.py:13: RuntimeWarning: All-NaN axis encountered\n",
      "  np.nanmax([stack[idx:idx + twin], _data[iseg+1, :]], axis = 0)\n"
     ]
    },
    {
     "name": "stdout",
     "output_type": "stream",
     "text": [
      "[##                                      ] | 6% Completed | 98m 2ssAll prediction shape: (2, 5, 3599, 6000)\n",
      "[##                                      ] | 6% Completed | 102m 14s146 P picks\n",
      "116 S picks\n"
     ]
    },
    {
     "name": "stderr",
     "output_type": "stream",
     "text": [
      "/tmp/ipykernel_523718/2319557713.py:13: RuntimeWarning: All-NaN axis encountered\n",
      "  np.nanmax([stack[idx:idx + twin], _data[iseg+1, :]], axis = 0)\n"
     ]
    },
    {
     "name": "stdout",
     "output_type": "stream",
     "text": [
      "['NC', 'KOM']\n",
      "[##                                      ] | 6% Completed | 102m 14s"
     ]
    },
    {
     "name": "stderr",
     "output_type": "stream",
     "text": [
      "WARNING:root:No stream returned. Skipping.\n",
      "WARNING:root:No stream returned. Skipping.\n"
     ]
    },
    {
     "name": "stdout",
     "output_type": "stream",
     "text": [
      "['NC', 'KSXB']\n",
      "['TA', 'J01E']\n",
      "[##                                      ] | 6% Completed | 102m 18sAll prediction shape: (2, 5, 1151, 6000)\n",
      "[##                                      ] | 6% Completed | 102m 55s24 P picks\n",
      "19 S picks\n",
      "['7D', 'FS20B']\n",
      "[##                                      ] | 6% Completed | 102m 55s"
     ]
    },
    {
     "name": "stderr",
     "output_type": "stream",
     "text": [
      "/tmp/ipykernel_523718/2319557713.py:13: RuntimeWarning: All-NaN axis encountered\n",
      "  np.nanmax([stack[idx:idx + twin], _data[iseg+1, :]], axis = 0)\n"
     ]
    },
    {
     "name": "stdout",
     "output_type": "stream",
     "text": [
      "[##                                      ] | 6% Completed | 103m 17sAll prediction shape: (2, 5, 3598, 6000)\n",
      "[##                                      ] | 6% Completed | 107m 28s179 P picks\n",
      "134 S picks\n"
     ]
    },
    {
     "name": "stderr",
     "output_type": "stream",
     "text": [
      "/tmp/ipykernel_523718/2319557713.py:13: RuntimeWarning: All-NaN axis encountered\n",
      "  np.nanmax([stack[idx:idx + twin], _data[iseg+1, :]], axis = 0)\n"
     ]
    },
    {
     "name": "stdout",
     "output_type": "stream",
     "text": [
      "['7D', 'J09B']\n",
      "[##                                      ] | 6% Completed | 107m 34sAll prediction shape: (2, 5, 1439, 6000)\n",
      "[##                                      ] | 6% Completed | 108m 26s175 P picks\n",
      "50 S picks\n",
      "['7D', 'G19B']\n",
      "[##                                      ] | 7% Completed | 108m 26s"
     ]
    },
    {
     "name": "stderr",
     "output_type": "stream",
     "text": [
      "/tmp/ipykernel_523718/2319557713.py:13: RuntimeWarning: All-NaN axis encountered\n",
      "  np.nanmax([stack[idx:idx + twin], _data[iseg+1, :]], axis = 0)\n"
     ]
    },
    {
     "name": "stdout",
     "output_type": "stream",
     "text": [
      "[##                                      ] | 7% Completed | 108m 31sAll prediction shape: (2, 5, 1439, 6000)\n",
      "[##                                      ] | 7% Completed | 109m 25s61 P picks\n",
      "21 S picks\n",
      "['7D', 'FS20B']\n",
      "[##                                      ] | 7% Completed | 109m 25s"
     ]
    },
    {
     "name": "stderr",
     "output_type": "stream",
     "text": [
      "/tmp/ipykernel_523718/2319557713.py:13: RuntimeWarning: All-NaN axis encountered\n",
      "  np.nanmax([stack[idx:idx + twin], _data[iseg+1, :]], axis = 0)\n"
     ]
    },
    {
     "name": "stdout",
     "output_type": "stream",
     "text": [
      "[##                                      ] | 7% Completed | 109m 46sAll prediction shape: (2, 5, 3598, 6000)\n",
      "[##                                      ] | 7% Completed | 114m 6ss171 P picks\n",
      "127 S picks\n"
     ]
    },
    {
     "name": "stderr",
     "output_type": "stream",
     "text": [
      "/tmp/ipykernel_523718/2319557713.py:13: RuntimeWarning: All-NaN axis encountered\n",
      "  np.nanmax([stack[idx:idx + twin], _data[iseg+1, :]], axis = 0)\n",
      "WARNING:root:No stream returned. Skipping.\n"
     ]
    },
    {
     "name": "stdout",
     "output_type": "stream",
     "text": [
      "['NC', 'KHMB']\n",
      "['7D', 'J09B']\n",
      "[##                                      ] | 7% Completed | 114m 12sAll prediction shape: (2, 5, 1439, 6000)\n",
      "[##                                      ] | 7% Completed | 115m 4ss102 P picks\n",
      "27 S picks\n",
      "['7D', 'FS09B']\n",
      "[##                                      ] | 7% Completed | 115m 4s"
     ]
    },
    {
     "name": "stderr",
     "output_type": "stream",
     "text": [
      "/tmp/ipykernel_523718/2319557713.py:13: RuntimeWarning: All-NaN axis encountered\n",
      "  np.nanmax([stack[idx:idx + twin], _data[iseg+1, :]], axis = 0)\n"
     ]
    },
    {
     "name": "stdout",
     "output_type": "stream",
     "text": [
      "[##                                      ] | 7% Completed | 115m 9sAll prediction shape: (2, 5, 1439, 6000)\n",
      "[##                                      ] | 7% Completed | 116m 1ss183 P picks\n",
      "156 S picks\n",
      "['7D', 'J25B']\n",
      "[###                                     ] | 7% Completed | 116m 1s"
     ]
    },
    {
     "name": "stderr",
     "output_type": "stream",
     "text": [
      "/tmp/ipykernel_523718/2319557713.py:13: RuntimeWarning: All-NaN axis encountered\n",
      "  np.nanmax([stack[idx:idx + twin], _data[iseg+1, :]], axis = 0)\n"
     ]
    },
    {
     "name": "stdout",
     "output_type": "stream",
     "text": [
      "[###                                     ] | 7% Completed | 116m 22sAll prediction shape: (2, 5, 3598, 6000)\n",
      "[###                                     ] | 7% Completed | 2hr 0m9s"
     ]
    },
    {
     "name": "stderr",
     "output_type": "stream",
     "text": [
      "/tmp/ipykernel_523718/2319557713.py:13: RuntimeWarning: All-NaN axis encountered\n",
      "  np.nanmax([stack[idx:idx + twin], _data[iseg+1, :]], axis = 0)\n"
     ]
    },
    {
     "name": "stdout",
     "output_type": "stream",
     "text": [
      "689 P picks\n",
      "1073 S picks\n",
      "['NC', 'KEB']\n",
      "[###                                     ] | 7% Completed | 2hr 0m"
     ]
    },
    {
     "name": "stderr",
     "output_type": "stream",
     "text": [
      "WARNING:root:No stream returned. Skipping.\n"
     ]
    },
    {
     "name": "stdout",
     "output_type": "stream",
     "text": [
      "['7D', 'G17B']\n",
      "[###                                     ] | 7% Completed | 2hr 1mAll prediction shape: (2, 5, 3599, 6000)\n",
      "[###                                     ] | 7% Completed | 2hr 5m467 P picks\n",
      "511 S picks\n",
      "[###                                     ] | 7% Completed | 2hr 5m"
     ]
    },
    {
     "name": "stderr",
     "output_type": "stream",
     "text": [
      "/tmp/ipykernel_523718/2319557713.py:13: RuntimeWarning: All-NaN axis encountered\n",
      "  np.nanmax([stack[idx:idx + twin], _data[iseg+1, :]], axis = 0)\n",
      "WARNING:root:No stream returned. Skipping.\n"
     ]
    },
    {
     "name": "stdout",
     "output_type": "stream",
     "text": [
      "['NC', 'KOM']\n",
      "['7D', 'FS13B']\n",
      "[###                                     ] | 8% Completed | 2hr 5mAll prediction shape: (2, 5, 3599, 6000)\n",
      "[###                                     ] | 8% Completed | 2hr 10m485 P picks\n",
      "325 S picks\n"
     ]
    },
    {
     "name": "stderr",
     "output_type": "stream",
     "text": [
      "/tmp/ipykernel_523718/2319557713.py:13: RuntimeWarning: All-NaN axis encountered\n",
      "  np.nanmax([stack[idx:idx + twin], _data[iseg+1, :]], axis = 0)\n"
     ]
    },
    {
     "name": "stdout",
     "output_type": "stream",
     "text": [
      "['NC', 'KHMB']\n",
      "[###                                     ] | 8% Completed | 2hr 10m"
     ]
    },
    {
     "name": "stderr",
     "output_type": "stream",
     "text": [
      "WARNING:root:No stream returned. Skipping.\n"
     ]
    },
    {
     "name": "stdout",
     "output_type": "stream",
     "text": [
      "['7D', 'G26B']\n",
      "[###                                     ] | 8% Completed | 2hr 10mAll prediction shape: (2, 5, 3598, 6000)\n",
      "[###                                     ] | 8% Completed | 2hr 14m225 P picks\n",
      "190 S picks\n"
     ]
    },
    {
     "name": "stderr",
     "output_type": "stream",
     "text": [
      "/tmp/ipykernel_523718/2319557713.py:13: RuntimeWarning: All-NaN axis encountered\n",
      "  np.nanmax([stack[idx:idx + twin], _data[iseg+1, :]], axis = 0)\n"
     ]
    },
    {
     "name": "stdout",
     "output_type": "stream",
     "text": [
      "['7D', 'J25B']\n",
      "[###                                     ] | 8% Completed | 2hr 14mAll prediction shape: (2, 5, 3599, 6000)\n",
      "[###                                     ] | 8% Completed | 2hr 19m"
     ]
    },
    {
     "name": "stderr",
     "output_type": "stream",
     "text": [
      "/tmp/ipykernel_523718/2319557713.py:13: RuntimeWarning: All-NaN axis encountered\n",
      "  np.nanmax([stack[idx:idx + twin], _data[iseg+1, :]], axis = 0)\n"
     ]
    },
    {
     "name": "stdout",
     "output_type": "stream",
     "text": [
      "464 P picks\n",
      "464 S picks\n",
      "['TA', 'I02D']\n",
      "[###                                     ] | 8% Completed | 2hr 19mAll prediction shape: (2, 5, 1150, 6000)\n",
      "[###                                     ] | 8% Completed | 2hr 19m39 P picks\n",
      "12 S picks\n",
      "['7D', 'FS16B']\n",
      "[###                                     ] | 8% Completed | 2hr 19m"
     ]
    },
    {
     "name": "stderr",
     "output_type": "stream",
     "text": [
      "/tmp/ipykernel_523718/2319557713.py:13: RuntimeWarning: All-NaN axis encountered\n",
      "  np.nanmax([stack[idx:idx + twin], _data[iseg+1, :]], axis = 0)\n"
     ]
    },
    {
     "name": "stdout",
     "output_type": "stream",
     "text": [
      "[###                                     ] | 8% Completed | 2hr 20mAll prediction shape: (2, 5, 3599, 6000)\n",
      "[###                                     ] | 8% Completed | 2hr 24m369 P picks\n",
      "326 S picks\n",
      "['TA', 'I02D']\n",
      "[###                                     ] | 8% Completed | 2hr 24m"
     ]
    },
    {
     "name": "stderr",
     "output_type": "stream",
     "text": [
      "/tmp/ipykernel_523718/2319557713.py:13: RuntimeWarning: All-NaN axis encountered\n",
      "  np.nanmax([stack[idx:idx + twin], _data[iseg+1, :]], axis = 0)\n"
     ]
    },
    {
     "name": "stdout",
     "output_type": "stream",
     "text": [
      "[###                                     ] | 8% Completed | 2hr 24mAll prediction shape: (2, 5, 1151, 6000)\n",
      "[###                                     ] | 8% Completed | 2hr 25m27 P picks\n",
      "15 S picks\n"
     ]
    },
    {
     "name": "stderr",
     "output_type": "stream",
     "text": [
      "/tmp/ipykernel_523718/2319557713.py:13: RuntimeWarning: All-NaN axis encountered\n",
      "  np.nanmax([stack[idx:idx + twin], _data[iseg+1, :]], axis = 0)\n",
      "WARNING:root:No stream returned. Skipping.\n"
     ]
    },
    {
     "name": "stdout",
     "output_type": "stream",
     "text": [
      "['NC', 'KHBB']\n",
      "['7D', 'J33B']\n",
      "[###                                     ] | 8% Completed | 2hr 25mAll prediction shape: (2, 5, 3599, 6000)\n",
      "[###                                     ] | 8% Completed | 2hr 29m240 P picks\n",
      "408 S picks\n"
     ]
    },
    {
     "name": "stderr",
     "output_type": "stream",
     "text": [
      "/tmp/ipykernel_523718/2319557713.py:13: RuntimeWarning: All-NaN axis encountered\n",
      "  np.nanmax([stack[idx:idx + twin], _data[iseg+1, :]], axis = 0)\n"
     ]
    },
    {
     "name": "stdout",
     "output_type": "stream",
     "text": [
      "['7D', 'G19B']\n",
      "[###                                     ] | 9% Completed | 2hr 29mAll prediction shape: (2, 5, 1439, 6000)\n",
      "[###                                     ] | 9% Completed | 2hr 30m16 P picks\n",
      "22 S picks\n",
      "['BK', 'JCC']\n",
      "[###                                     ] | 9% Completed | 2hr 30m"
     ]
    },
    {
     "name": "stderr",
     "output_type": "stream",
     "text": [
      "/tmp/ipykernel_523718/2319557713.py:13: RuntimeWarning: All-NaN axis encountered\n",
      "  np.nanmax([stack[idx:idx + twin], _data[iseg+1, :]], axis = 0)\n",
      "WARNING:root:No stream returned. Skipping.\n"
     ]
    },
    {
     "name": "stdout",
     "output_type": "stream",
     "text": [
      "['7D', 'G25B']\n",
      "[###                                     ] | 9% Completed | 2hr 30mAll prediction shape: (2, 5, 3599, 6000)\n",
      "[###                                     ] | 9% Completed | 2hr 35m502 P picks\n",
      "253 S picks\n",
      "[###                                     ] | 9% Completed | 2hr 35m"
     ]
    },
    {
     "name": "stderr",
     "output_type": "stream",
     "text": [
      "/tmp/ipykernel_523718/2319557713.py:13: RuntimeWarning: All-NaN axis encountered\n",
      "  np.nanmax([stack[idx:idx + twin], _data[iseg+1, :]], axis = 0)\n"
     ]
    },
    {
     "name": "stdout",
     "output_type": "stream",
     "text": [
      "['7D', 'FS20B']\n",
      "[###                                     ] | 9% Completed | 2hr 35mAll prediction shape: (2, 5, 3598, 6000)\n",
      "[###                                     ] | 9% Completed | 2hr 39m141 P picks\n",
      "95 S picks\n"
     ]
    },
    {
     "name": "stderr",
     "output_type": "stream",
     "text": [
      "/tmp/ipykernel_523718/2319557713.py:13: RuntimeWarning: All-NaN axis encountered\n",
      "  np.nanmax([stack[idx:idx + twin], _data[iseg+1, :]], axis = 0)\n",
      "WARNING:root:No stream returned. Skipping.\n"
     ]
    },
    {
     "name": "stdout",
     "output_type": "stream",
     "text": [
      "['NC', 'KSXB']\n",
      "['7D', 'M12B']\n",
      "[###                                     ] | 9% Completed | 2hr 39mAll prediction shape: (2, 5, 1439, 6000)\n",
      "[###                                     ] | 9% Completed | 2hr 40m146 P picks\n",
      "50 S picks\n",
      "['NC', 'KBO']\n",
      "[###                                     ] | 9% Completed | 2hr 40m"
     ]
    },
    {
     "name": "stderr",
     "output_type": "stream",
     "text": [
      "/tmp/ipykernel_523718/2319557713.py:13: RuntimeWarning: All-NaN axis encountered\n",
      "  np.nanmax([stack[idx:idx + twin], _data[iseg+1, :]], axis = 0)\n"
     ]
    },
    {
     "name": "stdout",
     "output_type": "stream",
     "text": [
      "[###                                     ] | 9% Completed | 2hr 40m"
     ]
    },
    {
     "name": "stderr",
     "output_type": "stream",
     "text": [
      "WARNING:root:No stream returned. Skipping.\n"
     ]
    },
    {
     "name": "stdout",
     "output_type": "stream",
     "text": [
      "['7D', 'G19B']\n",
      "[###                                     ] | 9% Completed | 2hr 40mAll prediction shape: (2, 5, 1439, 6000)\n",
      "[###                                     ] | 9% Completed | 2hr 41m68 P picks\n",
      "37 S picks\n"
     ]
    },
    {
     "name": "stderr",
     "output_type": "stream",
     "text": [
      "/tmp/ipykernel_523718/2319557713.py:13: RuntimeWarning: All-NaN axis encountered\n",
      "  np.nanmax([stack[idx:idx + twin], _data[iseg+1, :]], axis = 0)\n",
      "WARNING:root:No stream returned. Skipping.\n"
     ]
    },
    {
     "name": "stdout",
     "output_type": "stream",
     "text": [
      "['NC', 'KMPB']\n",
      "['NC', 'KSXB']\n",
      "[####                                    ] | 10% Completed | 2hr 41m"
     ]
    },
    {
     "name": "stderr",
     "output_type": "stream",
     "text": [
      "WARNING:root:No stream returned. Skipping.\n"
     ]
    },
    {
     "name": "stdout",
     "output_type": "stream",
     "text": [
      "['7D', 'J33B']\n",
      "[####                                    ] | 10% Completed | 2hr 42mAll prediction shape: (2, 5, 3599, 6000)\n",
      "[####                                    ] | 10% Completed | 2hr 46m242 P picks\n",
      "402 S picks\n"
     ]
    },
    {
     "name": "stderr",
     "output_type": "stream",
     "text": [
      "/tmp/ipykernel_523718/2319557713.py:13: RuntimeWarning: All-NaN axis encountered\n",
      "  np.nanmax([stack[idx:idx + twin], _data[iseg+1, :]], axis = 0)\n"
     ]
    },
    {
     "name": "stdout",
     "output_type": "stream",
     "text": [
      "['7D', 'M14B']\n",
      "[####                                    ] | 10% Completed | 2hr 46mAll prediction shape: (2, 5, 1438, 6000)\n",
      "[####                                    ] | 10% Completed | 2hr 47m187 P picks\n",
      "61 S picks\n",
      "['7D', 'G26B']\n",
      "[####                                    ] | 10% Completed | 2hr 47m"
     ]
    },
    {
     "name": "stderr",
     "output_type": "stream",
     "text": [
      "/tmp/ipykernel_523718/2319557713.py:13: RuntimeWarning: All-NaN axis encountered\n",
      "  np.nanmax([stack[idx:idx + twin], _data[iseg+1, :]], axis = 0)\n"
     ]
    },
    {
     "name": "stdout",
     "output_type": "stream",
     "text": [
      "[####                                    ] | 10% Completed | 2hr 47mAll prediction shape: (2, 5, 3598, 6000)\n",
      "[####                                    ] | 10% Completed | 2hr 51m36 P picks\n",
      "29 S picks\n"
     ]
    },
    {
     "name": "stderr",
     "output_type": "stream",
     "text": [
      "/tmp/ipykernel_523718/2319557713.py:13: RuntimeWarning: All-NaN axis encountered\n",
      "  np.nanmax([stack[idx:idx + twin], _data[iseg+1, :]], axis = 0)\n"
     ]
    },
    {
     "name": "stdout",
     "output_type": "stream",
     "text": [
      "['7D', 'J33B']\n",
      "[####                                    ] | 10% Completed | 2hr 52mAll prediction shape: (2, 5, 3599, 6000)\n",
      "[####                                    ] | 10% Completed | 2hr 56m329 P picks\n",
      "750 S picks\n"
     ]
    },
    {
     "name": "stderr",
     "output_type": "stream",
     "text": [
      "/tmp/ipykernel_523718/2319557713.py:13: RuntimeWarning: All-NaN axis encountered\n",
      "  np.nanmax([stack[idx:idx + twin], _data[iseg+1, :]], axis = 0)\n"
     ]
    },
    {
     "name": "stdout",
     "output_type": "stream",
     "text": [
      "['BK', 'JCC']\n",
      "[####                                    ] | 10% Completed | 2hr 56m"
     ]
    },
    {
     "name": "stderr",
     "output_type": "stream",
     "text": [
      "WARNING:root:No stream returned. Skipping.\n"
     ]
    },
    {
     "name": "stdout",
     "output_type": "stream",
     "text": [
      "['7D', 'G26B']\n",
      "[####                                    ] | 10% Completed | 2hr 56mAll prediction shape: (2, 5, 3599, 6000)\n",
      "[####                                    ] | 10% Completed | 3hr 0mm189 P picks\n",
      "81 S picks\n"
     ]
    },
    {
     "name": "stderr",
     "output_type": "stream",
     "text": [
      "/tmp/ipykernel_523718/2319557713.py:13: RuntimeWarning: All-NaN axis encountered\n",
      "  np.nanmax([stack[idx:idx + twin], _data[iseg+1, :]], axis = 0)\n"
     ]
    },
    {
     "name": "stdout",
     "output_type": "stream",
     "text": [
      "['7D', 'G26B']\n",
      "[####                                    ] | 10% Completed | 3hr 1mAll prediction shape: (2, 5, 3599, 6000)\n",
      "[####                                    ] | 10% Completed | 3hr 5m104 P picks\n",
      "97 S picks\n",
      "['7D', 'J25B']\n",
      "[####                                    ] | 10% Completed | 3hr 5m"
     ]
    },
    {
     "name": "stderr",
     "output_type": "stream",
     "text": [
      "/tmp/ipykernel_523718/2319557713.py:13: RuntimeWarning: All-NaN axis encountered\n",
      "  np.nanmax([stack[idx:idx + twin], _data[iseg+1, :]], axis = 0)\n"
     ]
    },
    {
     "name": "stdout",
     "output_type": "stream",
     "text": [
      "[####                                    ] | 10% Completed | 3hr 5mAll prediction shape: (2, 5, 3598, 6000)\n",
      "[####                                    ] | 10% Completed | 3hr 10m499 P picks\n",
      "598 S picks\n"
     ]
    },
    {
     "name": "stderr",
     "output_type": "stream",
     "text": [
      "/tmp/ipykernel_523718/2319557713.py:13: RuntimeWarning: All-NaN axis encountered\n",
      "  np.nanmax([stack[idx:idx + twin], _data[iseg+1, :]], axis = 0)\n"
     ]
    },
    {
     "name": "stdout",
     "output_type": "stream",
     "text": [
      "['7D', 'J25B']\n",
      "[####                                    ] | 11% Completed | 3hr 10mAll prediction shape: (2, 5, 3599, 6000)\n",
      "[####                                    ] | 11% Completed | 3hr 14m531 P picks\n",
      "753 S picks\n"
     ]
    },
    {
     "name": "stderr",
     "output_type": "stream",
     "text": [
      "/tmp/ipykernel_523718/2319557713.py:13: RuntimeWarning: All-NaN axis encountered\n",
      "  np.nanmax([stack[idx:idx + twin], _data[iseg+1, :]], axis = 0)\n"
     ]
    },
    {
     "name": "stdout",
     "output_type": "stream",
     "text": [
      "['7D', 'FS09B']\n",
      "[####                                    ] | 11% Completed | 3hr 14mAll prediction shape: (2, 5, 1439, 6000)\n",
      "[####                                    ] | 11% Completed | 3hr 15m107 P picks\n",
      "82 S picks\n"
     ]
    },
    {
     "name": "stderr",
     "output_type": "stream",
     "text": [
      "/tmp/ipykernel_523718/2319557713.py:13: RuntimeWarning: All-NaN axis encountered\n",
      "  np.nanmax([stack[idx:idx + twin], _data[iseg+1, :]], axis = 0)\n",
      "WARNING:root:No stream returned. Skipping.\n"
     ]
    },
    {
     "name": "stdout",
     "output_type": "stream",
     "text": [
      "['NC', 'KSXB']\n",
      "['UW', 'BABR']\n",
      "[####                                    ] | 11% Completed | 3hr 15mAll prediction shape: (2, 5, 1151, 6000)\n",
      "[####                                    ] | 11% Completed | 3hr 16m18 P picks\n",
      "5 S picks\n",
      "['7D', 'FS20B']\n",
      "[####                                    ] | 11% Completed | 3hr 16m"
     ]
    },
    {
     "name": "stderr",
     "output_type": "stream",
     "text": [
      "/tmp/ipykernel_523718/2319557713.py:13: RuntimeWarning: All-NaN axis encountered\n",
      "  np.nanmax([stack[idx:idx + twin], _data[iseg+1, :]], axis = 0)\n"
     ]
    },
    {
     "name": "stdout",
     "output_type": "stream",
     "text": [
      "[####                                    ] | 11% Completed | 3hr 16mAll prediction shape: (2, 5, 3599, 6000)\n",
      "[####                                    ] | 11% Completed | 3hr 21m245 P picks\n",
      "198 S picks\n",
      "[####                                    ] | 11% Completed | 3hr 21m\n"
     ]
    },
    {
     "name": "stderr",
     "output_type": "stream",
     "text": [
      "/tmp/ipykernel_523718/2319557713.py:13: RuntimeWarning: All-NaN axis encountered\n",
      "  np.nanmax([stack[idx:idx + twin], _data[iseg+1, :]], axis = 0)\n"
     ]
    },
    {
     "name": "stdout",
     "output_type": "stream",
     "text": [
      "[####                                    ] | 11% Completed | 3hr 21mAll prediction shape: (2, 5, 3598, 6000)\n",
      "[####                                    ] | 11% Completed | 3hr 25m196 P picks\n",
      "169 S picks\n"
     ]
    },
    {
     "name": "stderr",
     "output_type": "stream",
     "text": [
      "/tmp/ipykernel_523718/2319557713.py:13: RuntimeWarning: All-NaN axis encountered\n",
      "  np.nanmax([stack[idx:idx + twin], _data[iseg+1, :]], axis = 0)\n"
     ]
    },
    {
     "name": "stdout",
     "output_type": "stream",
     "text": [
      "['NC', 'KHBB']\n",
      "[####                                    ] | 11% Completed | 3hr 25m"
     ]
    },
    {
     "name": "stderr",
     "output_type": "stream",
     "text": [
      "WARNING:root:No stream returned. Skipping.\n"
     ]
    },
    {
     "name": "stdout",
     "output_type": "stream",
     "text": [
      "['7D', 'M09B']\n",
      "[####                                    ] | 11% Completed | 3hr 25mAll prediction shape: (2, 5, 3599, 6000)\n",
      "[####                                    ] | 11% Completed | 3hr 30m475 P picks\n",
      "513 S picks\n",
      "[####                                    ] | 11% Completed | 3hr 30m"
     ]
    },
    {
     "name": "stderr",
     "output_type": "stream",
     "text": [
      "/tmp/ipykernel_523718/2319557713.py:13: RuntimeWarning: All-NaN axis encountered\n",
      "  np.nanmax([stack[idx:idx + twin], _data[iseg+1, :]], axis = 0)\n"
     ]
    },
    {
     "name": "stdout",
     "output_type": "stream",
     "text": [
      "['7D', 'FS13B']\n",
      "[####                                    ] | 11% Completed | 3hr 30mAll prediction shape: (2, 5, 3599, 6000)\n",
      "[####                                    ] | 11% Completed | 3hr 34m423 P picks\n",
      "270 S picks\n"
     ]
    },
    {
     "name": "stderr",
     "output_type": "stream",
     "text": [
      "/tmp/ipykernel_523718/2319557713.py:13: RuntimeWarning: All-NaN axis encountered\n",
      "  np.nanmax([stack[idx:idx + twin], _data[iseg+1, :]], axis = 0)\n"
     ]
    },
    {
     "name": "stdout",
     "output_type": "stream",
     "text": [
      "['7D', 'G27B']\n",
      "[####                                    ] | 12% Completed | 3hr 34mAll prediction shape: (2, 5, 1282, 6000)\n",
      "[####                                    ] | 12% Completed | 3hr 35m25 P picks\n",
      "14 S picks\n",
      "['TA', 'I02D']\n",
      "[####                                    ] | 12% Completed | 3hr 35m"
     ]
    },
    {
     "name": "stderr",
     "output_type": "stream",
     "text": [
      "/tmp/ipykernel_523718/2319557713.py:13: RuntimeWarning: All-NaN axis encountered\n",
      "  np.nanmax([stack[idx:idx + twin], _data[iseg+1, :]], axis = 0)\n"
     ]
    },
    {
     "name": "stdout",
     "output_type": "stream",
     "text": [
      "[####                                    ] | 12% Completed | 3hr 35mAll prediction shape: (2, 5, 1150, 6000)\n",
      "[####                                    ] | 12% Completed | 3hr 36m15 P picks\n",
      "16 S picks\n",
      "['7D', 'FS16B']\n",
      "[####                                    ] | 12% Completed | 3hr 36m"
     ]
    },
    {
     "name": "stderr",
     "output_type": "stream",
     "text": [
      "/tmp/ipykernel_523718/2319557713.py:13: RuntimeWarning: All-NaN axis encountered\n",
      "  np.nanmax([stack[idx:idx + twin], _data[iseg+1, :]], axis = 0)\n"
     ]
    },
    {
     "name": "stdout",
     "output_type": "stream",
     "text": [
      "[####                                    ] | 12% Completed | 3hr 36mAll prediction shape: (2, 5, 3599, 6000)\n",
      "[####                                    ] | 12% Completed | 3hr 40m393 P picks\n",
      "405 S picks\n"
     ]
    },
    {
     "name": "stderr",
     "output_type": "stream",
     "text": [
      "/tmp/ipykernel_523718/2319557713.py:13: RuntimeWarning: All-NaN axis encountered\n",
      "  np.nanmax([stack[idx:idx + twin], _data[iseg+1, :]], axis = 0)\n",
      "WARNING:root:No stream returned. Skipping.\n"
     ]
    },
    {
     "name": "stdout",
     "output_type": "stream",
     "text": [
      "['BK', 'JCC']\n",
      "['7D', 'FS09B']\n",
      "[####                                    ] | 12% Completed | 3hr 40mAll prediction shape: (2, 5, 1439, 6000)\n",
      "[####                                    ] | 12% Completed | 3hr 41m137 P picks\n",
      "111 S picks\n",
      "['7D', 'M09B']\n",
      "[#####                                   ] | 12% Completed | 3hr 41m"
     ]
    },
    {
     "name": "stderr",
     "output_type": "stream",
     "text": [
      "/tmp/ipykernel_523718/2319557713.py:13: RuntimeWarning: All-NaN axis encountered\n",
      "  np.nanmax([stack[idx:idx + twin], _data[iseg+1, :]], axis = 0)\n"
     ]
    },
    {
     "name": "stdout",
     "output_type": "stream",
     "text": [
      "[#####                                   ] | 12% Completed | 3hr 42mAll prediction shape: (2, 5, 3599, 6000)\n",
      "[#####                                   ] | 12% Completed | 3hr 46m412 P picks\n",
      "466 S picks\n"
     ]
    },
    {
     "name": "stderr",
     "output_type": "stream",
     "text": [
      "/tmp/ipykernel_523718/2319557713.py:13: RuntimeWarning: All-NaN axis encountered\n",
      "  np.nanmax([stack[idx:idx + twin], _data[iseg+1, :]], axis = 0)\n"
     ]
    },
    {
     "name": "stdout",
     "output_type": "stream",
     "text": [
      "['NC', 'KOM']\n",
      "[#####                                   ] | 12% Completed | 3hr 46m"
     ]
    },
    {
     "name": "stderr",
     "output_type": "stream",
     "text": [
      "WARNING:root:No stream returned. Skipping.\n",
      "WARNING:root:No stream returned. Skipping.\n"
     ]
    },
    {
     "name": "stdout",
     "output_type": "stream",
     "text": [
      "['NC', 'KMPB']\n",
      "['TA', 'J01E']\n",
      "[#####                                   ] | 12% Completed | 3hr 46m"
     ]
    },
    {
     "name": "stderr",
     "output_type": "stream",
     "text": [
      "WARNING:root:No stream returned. Skipping.\n",
      "WARNING:root:No stream returned. Skipping.\n"
     ]
    },
    {
     "name": "stdout",
     "output_type": "stream",
     "text": [
      "['NC', 'KBO']\n",
      "['NC', 'KSXB']\n"
     ]
    },
    {
     "name": "stderr",
     "output_type": "stream",
     "text": [
      "WARNING:root:No stream returned. Skipping.\n"
     ]
    },
    {
     "name": "stdout",
     "output_type": "stream",
     "text": [
      "['NC', 'KSXB']\n",
      "\r",
      "[#####                                   ] | 13% Completed | 3hr 46m"
     ]
    },
    {
     "name": "stderr",
     "output_type": "stream",
     "text": [
      "WARNING:root:No stream returned. Skipping.\n"
     ]
    },
    {
     "name": "stdout",
     "output_type": "stream",
     "text": [
      "['7D', 'G25B']\n",
      "[#####                                   ] | 13% Completed | 3hr 46mAll prediction shape: (2, 5, 3599, 6000)\n",
      "[#####                                   ] | 13% Completed | 3hr 50m578 P picks\n",
      "266 S picks\n"
     ]
    },
    {
     "name": "stderr",
     "output_type": "stream",
     "text": [
      "/tmp/ipykernel_523718/2319557713.py:13: RuntimeWarning: All-NaN axis encountered\n",
      "  np.nanmax([stack[idx:idx + twin], _data[iseg+1, :]], axis = 0)\n",
      "WARNING:root:No stream returned. Skipping.\n"
     ]
    },
    {
     "name": "stdout",
     "output_type": "stream",
     "text": [
      "['NC', 'KSXB']\n",
      "['7D', 'G26B']\n",
      "[#####                                   ] | 13% Completed | 3hr 51mAll prediction shape: (2, 5, 3599, 6000)\n",
      "[#####                                   ] | 13% Completed | 3hr 55m59 P picks\n",
      "28 S picks\n"
     ]
    },
    {
     "name": "stderr",
     "output_type": "stream",
     "text": [
      "/tmp/ipykernel_523718/2319557713.py:13: RuntimeWarning: All-NaN axis encountered\n",
      "  np.nanmax([stack[idx:idx + twin], _data[iseg+1, :]], axis = 0)\n"
     ]
    },
    {
     "name": "stdout",
     "output_type": "stream",
     "text": [
      "['7D', 'FS17B']\n",
      "[#####                                   ] | 13% Completed | 3hr 55mAll prediction shape: (2, 5, 3598, 6000)\n",
      "[#####                                   ] | 13% Completed | 3hr 59m557 P picks\n",
      "470 S picks\n",
      "[#####                                   ] | 13% Completed | 3hr 59m"
     ]
    },
    {
     "name": "stderr",
     "output_type": "stream",
     "text": [
      "/tmp/ipykernel_523718/2319557713.py:13: RuntimeWarning: All-NaN axis encountered\n",
      "  np.nanmax([stack[idx:idx + twin], _data[iseg+1, :]], axis = 0)\n"
     ]
    },
    {
     "name": "stdout",
     "output_type": "stream",
     "text": [
      "['7D', 'FS20B']\n",
      "[#####                                   ] | 13% Completed | 4hr 0mmAll prediction shape: (2, 5, 3598, 6000)\n",
      "[#####                                   ] | 13% Completed | 4hr 4m102 P picks\n",
      "124 S picks\n",
      "[#####                                   ] | 13% Completed | 4hr 4m"
     ]
    },
    {
     "name": "stderr",
     "output_type": "stream",
     "text": [
      "/tmp/ipykernel_523718/2319557713.py:13: RuntimeWarning: All-NaN axis encountered\n",
      "  np.nanmax([stack[idx:idx + twin], _data[iseg+1, :]], axis = 0)\n",
      "WARNING:root:No stream returned. Skipping.\n"
     ]
    },
    {
     "name": "stdout",
     "output_type": "stream",
     "text": [
      "['NC', 'KSXB']\n"
     ]
    },
    {
     "name": "stderr",
     "output_type": "stream",
     "text": [
      "WARNING:root:No stream returned. Skipping.\n"
     ]
    },
    {
     "name": "stdout",
     "output_type": "stream",
     "text": [
      "['NC', 'KRMB']\n",
      "['7D', 'J25B']\n",
      "[#####                                   ] | 14% Completed | 4hr 4mAll prediction shape: (2, 5, 3599, 6000)\n",
      "[#####                                   ] | 14% Completed | 4hr 9m479 P picks\n",
      "648 S picks\n"
     ]
    },
    {
     "name": "stderr",
     "output_type": "stream",
     "text": [
      "/tmp/ipykernel_523718/2319557713.py:13: RuntimeWarning: All-NaN axis encountered\n",
      "  np.nanmax([stack[idx:idx + twin], _data[iseg+1, :]], axis = 0)\n"
     ]
    },
    {
     "name": "stdout",
     "output_type": "stream",
     "text": [
      "['7D', 'FS16B']\n",
      "[#####                                   ] | 14% Completed | 4hr 9mAll prediction shape: (2, 5, 3599, 6000)\n",
      "[#####                                   ] | 14% Completed | 4hr 13m499 P picks\n",
      "518 S picks\n"
     ]
    },
    {
     "name": "stderr",
     "output_type": "stream",
     "text": [
      "/tmp/ipykernel_523718/2319557713.py:13: RuntimeWarning: All-NaN axis encountered\n",
      "  np.nanmax([stack[idx:idx + twin], _data[iseg+1, :]], axis = 0)\n"
     ]
    },
    {
     "name": "stdout",
     "output_type": "stream",
     "text": [
      "['NC', 'KEB']\n",
      "[#####                                   ] | 14% Completed | 4hr 13m"
     ]
    },
    {
     "name": "stderr",
     "output_type": "stream",
     "text": [
      "WARNING:root:No stream returned. Skipping.\n"
     ]
    },
    {
     "name": "stdout",
     "output_type": "stream",
     "text": [
      "['7D', 'J33B']\n",
      "[#####                                   ] | 14% Completed | 4hr 14mAll prediction shape: (2, 5, 3599, 6000)\n",
      "[#####                                   ] | 14% Completed | 4hr 18m233 P picks\n",
      "338 S picks\n",
      "['NC', 'KEB']\n",
      "[#####                                   ] | 14% Completed | 4hr 18m"
     ]
    },
    {
     "name": "stderr",
     "output_type": "stream",
     "text": [
      "/tmp/ipykernel_523718/2319557713.py:13: RuntimeWarning: All-NaN axis encountered\n",
      "  np.nanmax([stack[idx:idx + twin], _data[iseg+1, :]], axis = 0)\n",
      "WARNING:root:No stream returned. Skipping.\n",
      "WARNING:root:No stream returned. Skipping.\n"
     ]
    },
    {
     "name": "stdout",
     "output_type": "stream",
     "text": [
      "['NC', 'KMPB']\n",
      "['NC', 'KHBB']\n",
      "[#####                                   ] | 14% Completed | 4hr 18m"
     ]
    },
    {
     "name": "stderr",
     "output_type": "stream",
     "text": [
      "WARNING:root:No stream returned. Skipping.\n",
      "WARNING:root:No stream returned. Skipping.\n"
     ]
    },
    {
     "name": "stdout",
     "output_type": "stream",
     "text": [
      "['NC', 'KMPB']\n",
      "['NC', 'KMPB']\n",
      "[######                                  ] | 15% Completed | 4hr 18m"
     ]
    },
    {
     "name": "stderr",
     "output_type": "stream",
     "text": [
      "WARNING:root:No stream returned. Skipping.\n"
     ]
    },
    {
     "name": "stdout",
     "output_type": "stream",
     "text": [
      "['7D', 'G26B']\n",
      "[######                                  ] | 15% Completed | 4hr 18mAll prediction shape: (2, 5, 3599, 6000)\n",
      "[######                                  ] | 15% Completed | 4hr 22m81 P picks\n",
      "63 S picks\n"
     ]
    },
    {
     "name": "stderr",
     "output_type": "stream",
     "text": [
      "/tmp/ipykernel_523718/2319557713.py:13: RuntimeWarning: All-NaN axis encountered\n",
      "  np.nanmax([stack[idx:idx + twin], _data[iseg+1, :]], axis = 0)\n",
      "WARNING:root:No stream returned. Skipping.\n"
     ]
    },
    {
     "name": "stdout",
     "output_type": "stream",
     "text": [
      "['NC', 'KEB']\n",
      "['7D', 'G10B']\n",
      "[######                                  ] | 15% Completed | 4hr 23mAll prediction shape: (2, 5, 1439, 6000)\n",
      "[######                                  ] | 15% Completed | 4hr 23m72 P picks\n",
      "20 S picks\n"
     ]
    },
    {
     "name": "stderr",
     "output_type": "stream",
     "text": [
      "/tmp/ipykernel_523718/2319557713.py:13: RuntimeWarning: All-NaN axis encountered\n",
      "  np.nanmax([stack[idx:idx + twin], _data[iseg+1, :]], axis = 0)\n",
      "WARNING:root:No stream returned. Skipping.\n"
     ]
    },
    {
     "name": "stdout",
     "output_type": "stream",
     "text": [
      "['NC', 'KOM']\n",
      "['7D', 'M14B']\n",
      "[######                                  ] | 15% Completed | 4hr 23mAll prediction shape: (2, 5, 1438, 6000)\n",
      "[######                                  ] | 15% Completed | 4hr 24m173 P picks\n",
      "78 S picks\n"
     ]
    },
    {
     "name": "stderr",
     "output_type": "stream",
     "text": [
      "/tmp/ipykernel_523718/2319557713.py:13: RuntimeWarning: All-NaN axis encountered\n",
      "  np.nanmax([stack[idx:idx + twin], _data[iseg+1, :]], axis = 0)\n",
      "WARNING:root:No stream returned. Skipping.\n"
     ]
    },
    {
     "name": "stdout",
     "output_type": "stream",
     "text": [
      "['BK', 'JCC']\n",
      "['7D', 'G26B']\n",
      "[######                                  ] | 15% Completed | 4hr 25mAll prediction shape: (2, 5, 3599, 6000)\n",
      "[######                                  ] | 15% Completed | 4hr 29m105 P picks\n",
      "95 S picks\n"
     ]
    },
    {
     "name": "stderr",
     "output_type": "stream",
     "text": [
      "/tmp/ipykernel_523718/2319557713.py:13: RuntimeWarning: All-NaN axis encountered\n",
      "  np.nanmax([stack[idx:idx + twin], _data[iseg+1, :]], axis = 0)\n"
     ]
    },
    {
     "name": "stdout",
     "output_type": "stream",
     "text": [
      "['7D', 'J09B']\n",
      "[######                                  ] | 15% Completed | 4hr 29mAll prediction shape: (2, 5, 1439, 6000)\n",
      "[######                                  ] | 15% Completed | 4hr 30m166 P picks\n",
      "40 S picks\n",
      "['7D', 'G19B']\n",
      "[######                                  ] | 16% Completed | 4hr 30m"
     ]
    },
    {
     "name": "stderr",
     "output_type": "stream",
     "text": [
      "/tmp/ipykernel_523718/2319557713.py:13: RuntimeWarning: All-NaN axis encountered\n",
      "  np.nanmax([stack[idx:idx + twin], _data[iseg+1, :]], axis = 0)\n"
     ]
    },
    {
     "name": "stdout",
     "output_type": "stream",
     "text": [
      "[######                                  ] | 16% Completed | 4hr 30mAll prediction shape: (2, 5, 1439, 6000)\n",
      "[######                                  ] | 16% Completed | 4hr 31m94 P picks\n",
      "38 S picks\n"
     ]
    },
    {
     "name": "stderr",
     "output_type": "stream",
     "text": [
      "/tmp/ipykernel_523718/2319557713.py:13: RuntimeWarning: All-NaN axis encountered\n",
      "  np.nanmax([stack[idx:idx + twin], _data[iseg+1, :]], axis = 0)\n",
      "WARNING:root:No stream returned. Skipping.\n"
     ]
    },
    {
     "name": "stdout",
     "output_type": "stream",
     "text": [
      "['NC', 'KBO']\n",
      "['7D', 'J09B']\n",
      "[######                                  ] | 16% Completed | 4hr 31mAll prediction shape: (2, 5, 1439, 6000)\n",
      "[######                                  ] | 16% Completed | 4hr 32m122 P picks\n",
      "25 S picks\n",
      "['NC', 'KRMB']\n",
      "[######                                  ] | 16% Completed | 4hr 32m"
     ]
    },
    {
     "name": "stderr",
     "output_type": "stream",
     "text": [
      "/tmp/ipykernel_523718/2319557713.py:13: RuntimeWarning: All-NaN axis encountered\n",
      "  np.nanmax([stack[idx:idx + twin], _data[iseg+1, :]], axis = 0)\n",
      "WARNING:root:No stream returned. Skipping.\n"
     ]
    },
    {
     "name": "stdout",
     "output_type": "stream",
     "text": [
      "['7D', 'M09B']\n",
      "[######                                  ] | 16% Completed | 4hr 32mAll prediction shape: (2, 5, 3599, 6000)\n",
      "[######                                  ] | 16% Completed | 4hr 36m439 P picks\n",
      "447 S picks\n",
      "[######                                  ] | 16% Completed | 4hr 36m"
     ]
    },
    {
     "name": "stderr",
     "output_type": "stream",
     "text": [
      "/tmp/ipykernel_523718/2319557713.py:13: RuntimeWarning: All-NaN axis encountered\n",
      "  np.nanmax([stack[idx:idx + twin], _data[iseg+1, :]], axis = 0)\n"
     ]
    },
    {
     "name": "stdout",
     "output_type": "stream",
     "text": [
      "['7D', 'J25B']\n",
      "[######                                  ] | 16% Completed | 4hr 37mAll prediction shape: (2, 5, 3598, 6000)\n",
      "[######                                  ] | 16% Completed | 4hr 41m544 P picks\n",
      "749 S picks\n"
     ]
    },
    {
     "name": "stderr",
     "output_type": "stream",
     "text": [
      "/tmp/ipykernel_523718/2319557713.py:13: RuntimeWarning: All-NaN axis encountered\n",
      "  np.nanmax([stack[idx:idx + twin], _data[iseg+1, :]], axis = 0)\n"
     ]
    },
    {
     "name": "stdout",
     "output_type": "stream",
     "text": [
      "['NC', 'KHBB']\n",
      "[######                                  ] | 16% Completed | 4hr 41m"
     ]
    },
    {
     "name": "stderr",
     "output_type": "stream",
     "text": [
      "WARNING:root:No stream returned. Skipping.\n"
     ]
    },
    {
     "name": "stdout",
     "output_type": "stream",
     "text": [
      "['7D', 'FS20B']\n",
      "[######                                  ] | 16% Completed | 4hr 41mAll prediction shape: (2, 5, 3598, 6000)\n",
      "[######                                  ] | 16% Completed | 4hr 46m170 P picks\n",
      "147 S picks\n"
     ]
    },
    {
     "name": "stderr",
     "output_type": "stream",
     "text": [
      "/tmp/ipykernel_523718/2319557713.py:13: RuntimeWarning: All-NaN axis encountered\n",
      "  np.nanmax([stack[idx:idx + twin], _data[iseg+1, :]], axis = 0)\n"
     ]
    },
    {
     "name": "stdout",
     "output_type": "stream",
     "text": [
      "['7D', 'FS16B']\n",
      "[######                                  ] | 16% Completed | 4hr 46mAll prediction shape: (2, 5, 3598, 6000)\n",
      "[######                                  ] | 16% Completed | 4hr 50m380 P picks\n",
      "355 S picks\n",
      "[######                                  ] | 17% Completed | 4hr 50m['7D', 'G10B']\n"
     ]
    },
    {
     "name": "stderr",
     "output_type": "stream",
     "text": [
      "/tmp/ipykernel_523718/2319557713.py:13: RuntimeWarning: All-NaN axis encountered\n",
      "  np.nanmax([stack[idx:idx + twin], _data[iseg+1, :]], axis = 0)\n"
     ]
    },
    {
     "name": "stdout",
     "output_type": "stream",
     "text": [
      "[######                                  ] | 17% Completed | 4hr 50mAll prediction shape: (2, 5, 1439, 6000)\n",
      "[######                                  ] | 17% Completed | 4hr 51m35 P picks\n",
      "17 S picks\n",
      "['NC', 'KOM']\n",
      "[######                                  ] | 17% Completed | 4hr 51m"
     ]
    },
    {
     "name": "stderr",
     "output_type": "stream",
     "text": [
      "/tmp/ipykernel_523718/2319557713.py:13: RuntimeWarning: All-NaN axis encountered\n",
      "  np.nanmax([stack[idx:idx + twin], _data[iseg+1, :]], axis = 0)\n",
      "WARNING:root:No stream returned. Skipping.\n"
     ]
    },
    {
     "name": "stdout",
     "output_type": "stream",
     "text": [
      "['7D', 'J33B']\n",
      "[######                                  ] | 17% Completed | 4hr 51mAll prediction shape: (2, 5, 3599, 6000)\n",
      "[######                                  ] | 17% Completed | 4hr 56m255 P picks\n",
      "489 S picks\n",
      "[######                                  ] | 17% Completed | 4hr 56m"
     ]
    },
    {
     "name": "stderr",
     "output_type": "stream",
     "text": [
      "/tmp/ipykernel_523718/2319557713.py:13: RuntimeWarning: All-NaN axis encountered\n",
      "  np.nanmax([stack[idx:idx + twin], _data[iseg+1, :]], axis = 0)\n"
     ]
    },
    {
     "name": "stdout",
     "output_type": "stream",
     "text": [
      "['7D', 'G17B']\n",
      "[######                                  ] | 17% Completed | 4hr 56mAll prediction shape: (2, 5, 3599, 6000)\n",
      "[######                                  ] | 17% Completed | 5hr 0mm"
     ]
    },
    {
     "name": "stderr",
     "output_type": "stream",
     "text": [
      "/tmp/ipykernel_523718/2319557713.py:13: RuntimeWarning: All-NaN axis encountered\n",
      "  np.nanmax([stack[idx:idx + twin], _data[iseg+1, :]], axis = 0)\n"
     ]
    },
    {
     "name": "stdout",
     "output_type": "stream",
     "text": [
      "541 P picks\n",
      "546 S picks\n",
      "['TA', 'I02D']\n",
      "[######                                  ] | 17% Completed | 5hr 0mAll prediction shape: (2, 5, 1151, 6000)\n",
      "[######                                  ] | 17% Completed | 5hr 1m34 P picks\n",
      "9 S picks\n",
      "['7D', 'G26B']\n",
      "[#######                                 ] | 17% Completed | 5hr 1m"
     ]
    },
    {
     "name": "stderr",
     "output_type": "stream",
     "text": [
      "/tmp/ipykernel_523718/2319557713.py:13: RuntimeWarning: All-NaN axis encountered\n",
      "  np.nanmax([stack[idx:idx + twin], _data[iseg+1, :]], axis = 0)\n"
     ]
    },
    {
     "name": "stdout",
     "output_type": "stream",
     "text": [
      "[#######                                 ] | 17% Completed | 5hr 1mAll prediction shape: (2, 5, 3599, 6000)\n",
      "[#######                                 ] | 17% Completed | 5hr 5m147 P picks\n",
      "110 S picks\n",
      "['NC', 'KSXB']\n",
      "[#######                                 ] | 17% Completed | 5hr 5m"
     ]
    },
    {
     "name": "stderr",
     "output_type": "stream",
     "text": [
      "/tmp/ipykernel_523718/2319557713.py:13: RuntimeWarning: All-NaN axis encountered\n",
      "  np.nanmax([stack[idx:idx + twin], _data[iseg+1, :]], axis = 0)\n",
      "WARNING:root:No stream returned. Skipping.\n"
     ]
    },
    {
     "name": "stdout",
     "output_type": "stream",
     "text": [
      "['7D', 'FS17B']\n",
      "[#######                                 ] | 17% Completed | 5hr 6mAll prediction shape: (2, 5, 3599, 6000)\n",
      "[#######                                 ] | 17% Completed | 5hr 10m641 P picks\n",
      "519 S picks\n",
      "[#######                                 ] | 17% Completed | 5hr 10m"
     ]
    },
    {
     "name": "stderr",
     "output_type": "stream",
     "text": [
      "/tmp/ipykernel_523718/2319557713.py:13: RuntimeWarning: All-NaN axis encountered\n",
      "  np.nanmax([stack[idx:idx + twin], _data[iseg+1, :]], axis = 0)\n",
      "WARNING:root:No stream returned. Skipping.\n"
     ]
    },
    {
     "name": "stdout",
     "output_type": "stream",
     "text": [
      "['NC', 'KHMB']\n",
      "['7D', 'G19B']\n",
      "[#######                                 ] | 18% Completed | 5hr 10mAll prediction shape: (2, 5, 1439, 6000)\n",
      "[#######                                 ] | 18% Completed | 5hr 11m53 P picks\n",
      "32 S picks\n",
      "['7D', 'J33B']\n",
      "[#######                                 ] | 18% Completed | 5hr 11m"
     ]
    },
    {
     "name": "stderr",
     "output_type": "stream",
     "text": [
      "/tmp/ipykernel_523718/2319557713.py:13: RuntimeWarning: All-NaN axis encountered\n",
      "  np.nanmax([stack[idx:idx + twin], _data[iseg+1, :]], axis = 0)\n"
     ]
    },
    {
     "name": "stdout",
     "output_type": "stream",
     "text": [
      "[#######                                 ] | 18% Completed | 5hr 11mAll prediction shape: (2, 5, 3599, 6000)\n",
      "[#######                                 ] | 18% Completed | 5hr 16m265 P picks\n",
      "491 S picks\n"
     ]
    },
    {
     "name": "stderr",
     "output_type": "stream",
     "text": [
      "/tmp/ipykernel_523718/2319557713.py:13: RuntimeWarning: All-NaN axis encountered\n",
      "  np.nanmax([stack[idx:idx + twin], _data[iseg+1, :]], axis = 0)\n"
     ]
    },
    {
     "name": "stdout",
     "output_type": "stream",
     "text": [
      "['NC', 'KOM']\n",
      "[#######                                 ] | 18% Completed | 5hr 16m"
     ]
    },
    {
     "name": "stderr",
     "output_type": "stream",
     "text": [
      "WARNING:root:No stream returned. Skipping.\n"
     ]
    },
    {
     "name": "stdout",
     "output_type": "stream",
     "text": [
      "['7D', 'J25B']\n",
      "[#######                                 ] | 18% Completed | 5hr 16mAll prediction shape: (2, 5, 3599, 6000)\n",
      "[#######                                 ] | 18% Completed | 5hr 20m423 P picks\n",
      "634 S picks\n"
     ]
    },
    {
     "name": "stderr",
     "output_type": "stream",
     "text": [
      "/tmp/ipykernel_523718/2319557713.py:13: RuntimeWarning: All-NaN axis encountered\n",
      "  np.nanmax([stack[idx:idx + twin], _data[iseg+1, :]], axis = 0)\n"
     ]
    },
    {
     "name": "stdout",
     "output_type": "stream",
     "text": [
      "['NC', 'KSXB']\n",
      "\r",
      "[#######                                 ] | 18% Completed | 5hr 20m"
     ]
    },
    {
     "name": "stderr",
     "output_type": "stream",
     "text": [
      "WARNING:root:No stream returned. Skipping.\n"
     ]
    },
    {
     "name": "stdout",
     "output_type": "stream",
     "text": [
      "['UW', 'BABR']\n",
      "[#######                                 ] | 18% Completed | 5hr 20mAll prediction shape: (2, 5, 1151, 6000)\n",
      "[#######                                 ] | 18% Completed | 5hr 21m10 P picks\n",
      "4 S picks\n",
      "['NC', 'KHMB']\n",
      "[#######                                 ] | 18% Completed | 5hr 21m"
     ]
    },
    {
     "name": "stderr",
     "output_type": "stream",
     "text": [
      "/tmp/ipykernel_523718/2319557713.py:13: RuntimeWarning: All-NaN axis encountered\n",
      "  np.nanmax([stack[idx:idx + twin], _data[iseg+1, :]], axis = 0)\n",
      "WARNING:root:No stream returned. Skipping.\n"
     ]
    },
    {
     "name": "stdout",
     "output_type": "stream",
     "text": [
      "['7D', 'J33B']\n",
      "[#######                                 ] | 18% Completed | 5hr 21mAll prediction shape: (2, 5, 3599, 6000)\n",
      "[#######                                 ] | 18% Completed | 5hr 25m247 P picks\n",
      "568 S picks\n"
     ]
    },
    {
     "name": "stderr",
     "output_type": "stream",
     "text": [
      "/tmp/ipykernel_523718/2319557713.py:13: RuntimeWarning: All-NaN axis encountered\n",
      "  np.nanmax([stack[idx:idx + twin], _data[iseg+1, :]], axis = 0)\n"
     ]
    },
    {
     "name": "stdout",
     "output_type": "stream",
     "text": [
      "['BK', 'JCC']\n",
      "[#######                                 ] | 18% Completed | 5hr 25m"
     ]
    },
    {
     "name": "stderr",
     "output_type": "stream",
     "text": [
      "WARNING:root:No stream returned. Skipping.\n",
      "WARNING:root:No stream returned. Skipping.\n"
     ]
    },
    {
     "name": "stdout",
     "output_type": "stream",
     "text": [
      "['TA', 'J01E']\n",
      "['7D', 'FS09B']\n",
      "[#######                                 ] | 19% Completed | 5hr 25mAll prediction shape: (2, 5, 1439, 6000)\n",
      "[#######                                 ] | 19% Completed | 5hr 26m124 P picks\n",
      "72 S picks\n",
      "['NC', 'KBO']\n",
      "[#######                                 ] | 19% Completed | 5hr 26m"
     ]
    },
    {
     "name": "stderr",
     "output_type": "stream",
     "text": [
      "/tmp/ipykernel_523718/2319557713.py:13: RuntimeWarning: All-NaN axis encountered\n",
      "  np.nanmax([stack[idx:idx + twin], _data[iseg+1, :]], axis = 0)\n",
      "WARNING:root:No stream returned. Skipping.\n"
     ]
    },
    {
     "name": "stdout",
     "output_type": "stream",
     "text": [
      "['7D', 'G25B']\n",
      "[#######                                 ] | 19% Completed | 5hr 27mAll prediction shape: (2, 5, 3599, 6000)\n",
      "[#######                                 ] | 19% Completed | 5hr 31m418 P picks\n",
      "149 S picks\n"
     ]
    },
    {
     "name": "stderr",
     "output_type": "stream",
     "text": [
      "/tmp/ipykernel_523718/2319557713.py:13: RuntimeWarning: All-NaN axis encountered\n",
      "  np.nanmax([stack[idx:idx + twin], _data[iseg+1, :]], axis = 0)\n"
     ]
    },
    {
     "name": "stdout",
     "output_type": "stream",
     "text": [
      "['7D', 'G19B']\n",
      "[#######                                 ] | 19% Completed | 5hr 31mAll prediction shape: (2, 5, 1439, 6000)\n",
      "[#######                                 ] | 19% Completed | 5hr 32m81 P picks\n",
      "23 S picks\n"
     ]
    },
    {
     "name": "stderr",
     "output_type": "stream",
     "text": [
      "/tmp/ipykernel_523718/2319557713.py:13: RuntimeWarning: All-NaN axis encountered\n",
      "  np.nanmax([stack[idx:idx + twin], _data[iseg+1, :]], axis = 0)\n",
      "WARNING:root:No stream returned. Skipping.\n"
     ]
    },
    {
     "name": "stdout",
     "output_type": "stream",
     "text": [
      "['NC', 'KBO']\n",
      "['7D', 'M14B']\n",
      "[#######                                 ] | 19% Completed | 5hr 32mAll prediction shape: (2, 5, 1439, 6000)\n",
      "[#######                                 ] | 19% Completed | 5hr 33m212 P picks\n",
      "83 S picks\n",
      "['7D', 'G17B']\n",
      "[#######                                 ] | 19% Completed | 5hr 33m"
     ]
    },
    {
     "name": "stderr",
     "output_type": "stream",
     "text": [
      "/tmp/ipykernel_523718/2319557713.py:13: RuntimeWarning: All-NaN axis encountered\n",
      "  np.nanmax([stack[idx:idx + twin], _data[iseg+1, :]], axis = 0)\n"
     ]
    },
    {
     "name": "stdout",
     "output_type": "stream",
     "text": [
      "[#######                                 ] | 19% Completed | 5hr 33mAll prediction shape: (2, 5, 3599, 6000)\n",
      "[#######                                 ] | 19% Completed | 5hr 37m638 P picks\n",
      "694 S picks\n"
     ]
    },
    {
     "name": "stderr",
     "output_type": "stream",
     "text": [
      "/tmp/ipykernel_523718/2319557713.py:13: RuntimeWarning: All-NaN axis encountered\n",
      "  np.nanmax([stack[idx:idx + twin], _data[iseg+1, :]], axis = 0)\n"
     ]
    },
    {
     "name": "stdout",
     "output_type": "stream",
     "text": [
      "['NC', 'KMPB']\n",
      "[#######                                 ] | 19% Completed | 5hr 37m"
     ]
    },
    {
     "name": "stderr",
     "output_type": "stream",
     "text": [
      "WARNING:root:No stream returned. Skipping.\n"
     ]
    },
    {
     "name": "stdout",
     "output_type": "stream",
     "text": [
      "['TA', 'I02D']\n",
      "[########                                ] | 20% Completed | 5hr 37mAll prediction shape: (2, 5, 1151, 6000)\n",
      "[########                                ] | 20% Completed | 5hr 38m20 P picks\n",
      "14 S picks\n",
      "['UW', 'BABR']\n",
      "[########                                ] | 20% Completed | 5hr 38m"
     ]
    },
    {
     "name": "stderr",
     "output_type": "stream",
     "text": [
      "/tmp/ipykernel_523718/2319557713.py:13: RuntimeWarning: All-NaN axis encountered\n",
      "  np.nanmax([stack[idx:idx + twin], _data[iseg+1, :]], axis = 0)\n"
     ]
    },
    {
     "name": "stdout",
     "output_type": "stream",
     "text": [
      "[########                                ] | 20% Completed | 5hr 38mAll prediction shape: (2, 5, 1151, 6000)\n",
      "[########                                ] | 20% Completed | 5hr 39m10 P picks\n",
      "4 S picks\n",
      "['7D', 'FS09B']\n",
      "[########                                ] | 20% Completed | 5hr 39m"
     ]
    },
    {
     "name": "stderr",
     "output_type": "stream",
     "text": [
      "/tmp/ipykernel_523718/2319557713.py:13: RuntimeWarning: All-NaN axis encountered\n",
      "  np.nanmax([stack[idx:idx + twin], _data[iseg+1, :]], axis = 0)\n"
     ]
    },
    {
     "name": "stdout",
     "output_type": "stream",
     "text": [
      "[########                                ] | 20% Completed | 5hr 39mAll prediction shape: (2, 5, 1439, 6000)\n",
      "[########                                ] | 20% Completed | 5hr 40m103 P picks\n",
      "94 S picks\n",
      "['BK', 'JCC']\n",
      "[########                                ] | 20% Completed | 5hr 40m"
     ]
    },
    {
     "name": "stderr",
     "output_type": "stream",
     "text": [
      "/tmp/ipykernel_523718/2319557713.py:13: RuntimeWarning: All-NaN axis encountered\n",
      "  np.nanmax([stack[idx:idx + twin], _data[iseg+1, :]], axis = 0)\n",
      "WARNING:root:No stream returned. Skipping.\n"
     ]
    },
    {
     "name": "stdout",
     "output_type": "stream",
     "text": [
      "['7D', 'J09B']\n",
      "[########                                ] | 20% Completed | 5hr 40mAll prediction shape: (2, 5, 1439, 6000)\n",
      "[########                                ] | 20% Completed | 5hr 41m106 P picks\n",
      "25 S picks\n",
      "['TA', 'I02D']\n",
      "[########                                ] | 20% Completed | 5hr 41m"
     ]
    },
    {
     "name": "stderr",
     "output_type": "stream",
     "text": [
      "/tmp/ipykernel_523718/2319557713.py:13: RuntimeWarning: All-NaN axis encountered\n",
      "  np.nanmax([stack[idx:idx + twin], _data[iseg+1, :]], axis = 0)\n"
     ]
    },
    {
     "name": "stdout",
     "output_type": "stream",
     "text": [
      "[########                                ] | 20% Completed | 5hr 41mAll prediction shape: (2, 5, 1150, 6000)\n",
      "[########                                ] | 20% Completed | 5hr 41m11 P picks\n",
      "7 S picks\n",
      "['NC', 'KRMB']\n",
      "[########                                ] | 20% Completed | 5hr 41m"
     ]
    },
    {
     "name": "stderr",
     "output_type": "stream",
     "text": [
      "/tmp/ipykernel_523718/2319557713.py:13: RuntimeWarning: All-NaN axis encountered\n",
      "  np.nanmax([stack[idx:idx + twin], _data[iseg+1, :]], axis = 0)\n",
      "WARNING:root:No stream returned. Skipping.\n",
      "WARNING:root:No stream returned. Skipping.\n"
     ]
    },
    {
     "name": "stdout",
     "output_type": "stream",
     "text": [
      "['NC', 'KOM']\n",
      "['NC', 'KHBB']\n",
      "[########                                ] | 20% Completed | 5hr 41m"
     ]
    },
    {
     "name": "stderr",
     "output_type": "stream",
     "text": [
      "WARNING:root:No stream returned. Skipping.\n"
     ]
    },
    {
     "name": "stdout",
     "output_type": "stream",
     "text": [
      "['7D', 'G25B']\n",
      "[########                                ] | 21% Completed | 5hr 42mAll prediction shape: (2, 5, 3599, 6000)\n",
      "[########                                ] | 21% Completed | 5hr 46m598 P picks\n",
      "256 S picks\n",
      "['7D', 'G19B']\n",
      "[########                                ] | 21% Completed | 5hr 46m"
     ]
    },
    {
     "name": "stderr",
     "output_type": "stream",
     "text": [
      "/tmp/ipykernel_523718/2319557713.py:13: RuntimeWarning: All-NaN axis encountered\n",
      "  np.nanmax([stack[idx:idx + twin], _data[iseg+1, :]], axis = 0)\n"
     ]
    },
    {
     "name": "stdout",
     "output_type": "stream",
     "text": [
      "[########                                ] | 21% Completed | 5hr 46mAll prediction shape: (2, 5, 1439, 6000)\n",
      "[########                                ] | 21% Completed | 5hr 47m76 P picks\n",
      "30 S picks\n"
     ]
    },
    {
     "name": "stderr",
     "output_type": "stream",
     "text": [
      "/tmp/ipykernel_523718/2319557713.py:13: RuntimeWarning: All-NaN axis encountered\n",
      "  np.nanmax([stack[idx:idx + twin], _data[iseg+1, :]], axis = 0)\n",
      "WARNING:root:No stream returned. Skipping.\n"
     ]
    },
    {
     "name": "stdout",
     "output_type": "stream",
     "text": [
      "['NC', 'KSXB']\n",
      "['BK', 'JCC']\n",
      "[########                                ] | 21% Completed | 5hr 47m"
     ]
    },
    {
     "name": "stderr",
     "output_type": "stream",
     "text": [
      "WARNING:root:No stream returned. Skipping.\n"
     ]
    },
    {
     "name": "stdout",
     "output_type": "stream",
     "text": [
      "['7D', 'G25B']\n",
      "[########                                ] | 21% Completed | 5hr 47mAll prediction shape: (2, 5, 3599, 6000)\n",
      "[########                                ] | 21% Completed | 5hr 52m438 P picks\n",
      "184 S picks\n"
     ]
    },
    {
     "name": "stderr",
     "output_type": "stream",
     "text": [
      "/tmp/ipykernel_523718/2319557713.py:13: RuntimeWarning: All-NaN axis encountered\n",
      "  np.nanmax([stack[idx:idx + twin], _data[iseg+1, :]], axis = 0)\n"
     ]
    },
    {
     "name": "stdout",
     "output_type": "stream",
     "text": [
      "['UW', 'BABR']\n",
      "[########                                ] | 21% Completed | 5hr 52mAll prediction shape: (2, 5, 1151, 6000)\n",
      "[########                                ] | 21% Completed | 5hr 52m6 P picks\n",
      "3 S picks\n",
      "['7D', 'G17B']\n",
      "[########                                ] | 21% Completed | 5hr 52m"
     ]
    },
    {
     "name": "stderr",
     "output_type": "stream",
     "text": [
      "/tmp/ipykernel_523718/2319557713.py:13: RuntimeWarning: All-NaN axis encountered\n",
      "  np.nanmax([stack[idx:idx + twin], _data[iseg+1, :]], axis = 0)\n"
     ]
    },
    {
     "name": "stdout",
     "output_type": "stream",
     "text": [
      "[########                                ] | 21% Completed | 5hr 53mAll prediction shape: (2, 5, 3599, 6000)\n",
      "[########                                ] | 21% Completed | 5hr 57m540 P picks\n",
      "446 S picks\n"
     ]
    },
    {
     "name": "stderr",
     "output_type": "stream",
     "text": [
      "/tmp/ipykernel_523718/2319557713.py:13: RuntimeWarning: All-NaN axis encountered\n",
      "  np.nanmax([stack[idx:idx + twin], _data[iseg+1, :]], axis = 0)\n"
     ]
    },
    {
     "name": "stdout",
     "output_type": "stream",
     "text": [
      "['7D', 'G19B']\n",
      "[########                                ] | 21% Completed | 5hr 57mAll prediction shape: (2, 5, 1439, 6000)\n",
      "[########                                ] | 21% Completed | 5hr 58m76 P picks\n",
      "24 S picks\n",
      "['7D', 'FS17B']\n",
      "[########                                ] | 21% Completed | 5hr 58m"
     ]
    },
    {
     "name": "stderr",
     "output_type": "stream",
     "text": [
      "/tmp/ipykernel_523718/2319557713.py:13: RuntimeWarning: All-NaN axis encountered\n",
      "  np.nanmax([stack[idx:idx + twin], _data[iseg+1, :]], axis = 0)\n"
     ]
    },
    {
     "name": "stdout",
     "output_type": "stream",
     "text": [
      "[########                                ] | 21% Completed | 5hr 58mAll prediction shape: (2, 5, 3599, 6000)\n",
      "[########                                ] | 21% Completed | 6hr 2mm484 P picks\n",
      "132 S picks\n"
     ]
    },
    {
     "name": "stderr",
     "output_type": "stream",
     "text": [
      "/tmp/ipykernel_523718/2319557713.py:13: RuntimeWarning: All-NaN axis encountered\n",
      "  np.nanmax([stack[idx:idx + twin], _data[iseg+1, :]], axis = 0)\n"
     ]
    },
    {
     "name": "stdout",
     "output_type": "stream",
     "text": [
      "['7D', 'G19B']\n",
      "[########                                ] | 22% Completed | 6hr 2mAll prediction shape: (2, 5, 1439, 6000)\n",
      "[########                                ] | 22% Completed | 6hr 3m58 P picks\n",
      "28 S picks\n"
     ]
    },
    {
     "name": "stderr",
     "output_type": "stream",
     "text": [
      "/tmp/ipykernel_523718/2319557713.py:13: RuntimeWarning: All-NaN axis encountered\n",
      "  np.nanmax([stack[idx:idx + twin], _data[iseg+1, :]], axis = 0)\n",
      "WARNING:root:No stream returned. Skipping.\n"
     ]
    },
    {
     "name": "stdout",
     "output_type": "stream",
     "text": [
      "['BK', 'JCC']\n",
      "['NC', 'KMPB']\n",
      "[########                                ] | 22% Completed | 6hr 3m"
     ]
    },
    {
     "name": "stderr",
     "output_type": "stream",
     "text": [
      "WARNING:root:No stream returned. Skipping.\n"
     ]
    },
    {
     "name": "stdout",
     "output_type": "stream",
     "text": [
      "['7D', 'G27B']\n",
      "[########                                ] | 22% Completed | 6hr 3mAll prediction shape: (2, 5, 1439, 6000)\n",
      "[########                                ] | 22% Completed | 6hr 4m38 P picks\n",
      "18 S picks\n",
      "['7D', 'M09B']\n",
      "[########                                ] | 22% Completed | 6hr 4m"
     ]
    },
    {
     "name": "stderr",
     "output_type": "stream",
     "text": [
      "/tmp/ipykernel_523718/2319557713.py:13: RuntimeWarning: All-NaN axis encountered\n",
      "  np.nanmax([stack[idx:idx + twin], _data[iseg+1, :]], axis = 0)\n"
     ]
    },
    {
     "name": "stdout",
     "output_type": "stream",
     "text": [
      "[########                                ] | 22% Completed | 6hr 4mAll prediction shape: (2, 5, 3599, 6000)\n",
      "[########                                ] | 22% Completed | 6hr 9m"
     ]
    },
    {
     "name": "stderr",
     "output_type": "stream",
     "text": [
      "/tmp/ipykernel_523718/2319557713.py:13: RuntimeWarning: All-NaN axis encountered\n",
      "  np.nanmax([stack[idx:idx + twin], _data[iseg+1, :]], axis = 0)\n"
     ]
    },
    {
     "name": "stdout",
     "output_type": "stream",
     "text": [
      "475 P picks\n",
      "620 S picks\n",
      "['7D', 'G26B']\n",
      "[#########                               ] | 22% Completed | 6hr 9mAll prediction shape: (2, 5, 3599, 6000)\n",
      "[#########                               ] | 22% Completed | 6hr 13m177 P picks\n",
      "132 S picks\n"
     ]
    },
    {
     "name": "stderr",
     "output_type": "stream",
     "text": [
      "/tmp/ipykernel_523718/2319557713.py:13: RuntimeWarning: All-NaN axis encountered\n",
      "  np.nanmax([stack[idx:idx + twin], _data[iseg+1, :]], axis = 0)\n"
     ]
    },
    {
     "name": "stdout",
     "output_type": "stream",
     "text": [
      "['7D', 'FS17B']\n",
      "[#########                               ] | 22% Completed | 6hr 14mAll prediction shape: (2, 5, 3598, 6000)\n",
      "[#########                               ] | 22% Completed | 6hr 18m621 P picks\n",
      "419 S picks\n"
     ]
    },
    {
     "name": "stderr",
     "output_type": "stream",
     "text": [
      "/tmp/ipykernel_523718/2319557713.py:13: RuntimeWarning: All-NaN axis encountered\n",
      "  np.nanmax([stack[idx:idx + twin], _data[iseg+1, :]], axis = 0)\n"
     ]
    },
    {
     "name": "stdout",
     "output_type": "stream",
     "text": [
      "['NC', 'KOM']\n",
      "\r",
      "[#########                               ] | 22% Completed | 6hr 18m"
     ]
    },
    {
     "name": "stderr",
     "output_type": "stream",
     "text": [
      "WARNING:root:No stream returned. Skipping.\n",
      "WARNING:root:No stream returned. Skipping.\n"
     ]
    },
    {
     "name": "stdout",
     "output_type": "stream",
     "text": [
      "['NC', 'KSXB']\n",
      "['7D', 'FS13B']\n",
      "[#########                               ] | 23% Completed | 6hr 18mAll prediction shape: (2, 5, 3599, 6000)\n",
      "[#########                               ] | 23% Completed | 6hr 23m521 P picks\n",
      "336 S picks\n"
     ]
    },
    {
     "name": "stderr",
     "output_type": "stream",
     "text": [
      "/tmp/ipykernel_523718/2319557713.py:13: RuntimeWarning: All-NaN axis encountered\n",
      "  np.nanmax([stack[idx:idx + twin], _data[iseg+1, :]], axis = 0)\n"
     ]
    },
    {
     "name": "stdout",
     "output_type": "stream",
     "text": [
      "['7D', 'G25B']\n",
      "[#########                               ] | 23% Completed | 6hr 23mAll prediction shape: (2, 5, 3599, 6000)\n",
      "[#########                               ] | 23% Completed | 6hr 27m546 P picks\n",
      "214 S picks\n"
     ]
    },
    {
     "name": "stderr",
     "output_type": "stream",
     "text": [
      "/tmp/ipykernel_523718/2319557713.py:13: RuntimeWarning: All-NaN axis encountered\n",
      "  np.nanmax([stack[idx:idx + twin], _data[iseg+1, :]], axis = 0)\n"
     ]
    },
    {
     "name": "stdout",
     "output_type": "stream",
     "text": [
      "['TA', 'I02D']\n",
      "[#########                               ] | 23% Completed | 6hr 27mAll prediction shape: (2, 5, 1150, 6000)\n",
      "[#########                               ] | 23% Completed | 6hr 28m21 P picks\n",
      "9 S picks\n"
     ]
    },
    {
     "name": "stderr",
     "output_type": "stream",
     "text": [
      "/tmp/ipykernel_523718/2319557713.py:13: RuntimeWarning: All-NaN axis encountered\n",
      "  np.nanmax([stack[idx:idx + twin], _data[iseg+1, :]], axis = 0)\n",
      "WARNING:root:No stream returned. Skipping.\n"
     ]
    },
    {
     "name": "stdout",
     "output_type": "stream",
     "text": [
      "['NC', 'KEB']\n",
      "['7D', 'J33B']\n",
      "[#########                               ] | 23% Completed | 6hr 28mAll prediction shape: (2, 5, 3599, 6000)\n",
      "[#########                               ] | 23% Completed | 6hr 32m277 P picks\n",
      "465 S picks\n",
      "[#########                               ] | 23% Completed | 6hr 32m"
     ]
    },
    {
     "name": "stderr",
     "output_type": "stream",
     "text": [
      "/tmp/ipykernel_523718/2319557713.py:13: RuntimeWarning: All-NaN axis encountered\n",
      "  np.nanmax([stack[idx:idx + twin], _data[iseg+1, :]], axis = 0)\n",
      "WARNING:root:No stream returned. Skipping.\n"
     ]
    },
    {
     "name": "stdout",
     "output_type": "stream",
     "text": [
      "['NC', 'KHBB']\n",
      "['UW', 'BABR']\n",
      "[#########                               ] | 23% Completed | 6hr 33mAll prediction shape: (2, 5, 1151, 6000)\n",
      "[#########                               ] | 23% Completed | 6hr 33m9 P picks\n",
      "1 S picks\n",
      "['UW', 'BABR']\n",
      "[#########                               ] | 23% Completed | 6hr 33m"
     ]
    },
    {
     "name": "stderr",
     "output_type": "stream",
     "text": [
      "/tmp/ipykernel_523718/2319557713.py:13: RuntimeWarning: All-NaN axis encountered\n",
      "  np.nanmax([stack[idx:idx + twin], _data[iseg+1, :]], axis = 0)\n"
     ]
    },
    {
     "name": "stdout",
     "output_type": "stream",
     "text": [
      "[#########                               ] | 23% Completed | 6hr 33mAll prediction shape: (2, 5, 1151, 6000)\n",
      "[#########                               ] | 23% Completed | 6hr 34m12 P picks\n",
      "2 S picks\n",
      "['7D', 'FS16B']\n",
      "[#########                               ] | 23% Completed | 6hr 34m"
     ]
    },
    {
     "name": "stderr",
     "output_type": "stream",
     "text": [
      "/tmp/ipykernel_523718/2319557713.py:13: RuntimeWarning: All-NaN axis encountered\n",
      "  np.nanmax([stack[idx:idx + twin], _data[iseg+1, :]], axis = 0)\n"
     ]
    },
    {
     "name": "stdout",
     "output_type": "stream",
     "text": [
      "[#########                               ] | 23% Completed | 6hr 34mAll prediction shape: (2, 5, 3598, 6000)\n",
      "[#########                               ] | 23% Completed | 6hr 38m376 P picks\n",
      "359 S picks\n"
     ]
    },
    {
     "name": "stderr",
     "output_type": "stream",
     "text": [
      "/tmp/ipykernel_523718/2319557713.py:13: RuntimeWarning: All-NaN axis encountered\n",
      "  np.nanmax([stack[idx:idx + twin], _data[iseg+1, :]], axis = 0)\n"
     ]
    },
    {
     "name": "stdout",
     "output_type": "stream",
     "text": [
      "['7D', 'G17B']\n",
      "[#########                               ] | 24% Completed | 6hr 39mAll prediction shape: (2, 5, 3599, 6000)\n",
      "[#########                               ] | 24% Completed | 6hr 43m"
     ]
    },
    {
     "name": "stderr",
     "output_type": "stream",
     "text": [
      "/tmp/ipykernel_523718/2319557713.py:13: RuntimeWarning: All-NaN axis encountered\n",
      "  np.nanmax([stack[idx:idx + twin], _data[iseg+1, :]], axis = 0)\n"
     ]
    },
    {
     "name": "stdout",
     "output_type": "stream",
     "text": [
      "701 P picks\n",
      "772 S picks\n",
      "['7D', 'G17B']\n",
      "[#########                               ] | 24% Completed | 6hr 43mAll prediction shape: (2, 5, 3599, 6000)\n",
      "[#########                               ] | 24% Completed | 6hr 48m444 P picks\n",
      "339 S picks\n",
      "[#########                               ] | 24% Completed | 6hr 48m"
     ]
    },
    {
     "name": "stderr",
     "output_type": "stream",
     "text": [
      "/tmp/ipykernel_523718/2319557713.py:13: RuntimeWarning: All-NaN axis encountered\n",
      "  np.nanmax([stack[idx:idx + twin], _data[iseg+1, :]], axis = 0)\n"
     ]
    },
    {
     "name": "stdout",
     "output_type": "stream",
     "text": [
      "['7D', 'FS20B']\n",
      "[#########                               ] | 24% Completed | 6hr 48mAll prediction shape: (2, 5, 3599, 6000)\n",
      "[#########                               ] | 24% Completed | 6hr 52m167 P picks\n",
      "89 S picks\n"
     ]
    },
    {
     "name": "stderr",
     "output_type": "stream",
     "text": [
      "/tmp/ipykernel_523718/2319557713.py:13: RuntimeWarning: All-NaN axis encountered\n",
      "  np.nanmax([stack[idx:idx + twin], _data[iseg+1, :]], axis = 0)\n"
     ]
    },
    {
     "name": "stdout",
     "output_type": "stream",
     "text": [
      "['7D', 'FS13B']\n",
      "[#########                               ] | 24% Completed | 6hr 52mAll prediction shape: (2, 5, 3599, 6000)\n",
      "[#########                               ] | 24% Completed | 6hr 57m533 P picks\n",
      "261 S picks\n"
     ]
    },
    {
     "name": "stderr",
     "output_type": "stream",
     "text": [
      "/tmp/ipykernel_523718/2319557713.py:13: RuntimeWarning: All-NaN axis encountered\n",
      "  np.nanmax([stack[idx:idx + twin], _data[iseg+1, :]], axis = 0)\n"
     ]
    },
    {
     "name": "stdout",
     "output_type": "stream",
     "text": [
      "['NC', 'KEB']\n",
      "[#########                               ] | 24% Completed | 6hr 57m"
     ]
    },
    {
     "name": "stderr",
     "output_type": "stream",
     "text": [
      "WARNING:root:No stream returned. Skipping.\n",
      "WARNING:root:No stream returned. Skipping.\n"
     ]
    },
    {
     "name": "stdout",
     "output_type": "stream",
     "text": [
      "['NC', 'KHBB']\n",
      "['7D', 'M14B']\n",
      "[#########                               ] | 24% Completed | 6hr 57mAll prediction shape: (2, 5, 1439, 6000)\n",
      "[#########                               ] | 24% Completed | 6hr 58m196 P picks\n",
      "63 S picks\n",
      "['UW', 'BABR']\n",
      "[#########                               ] | 24% Completed | 6hr 58m"
     ]
    },
    {
     "name": "stderr",
     "output_type": "stream",
     "text": [
      "/tmp/ipykernel_523718/2319557713.py:13: RuntimeWarning: All-NaN axis encountered\n",
      "  np.nanmax([stack[idx:idx + twin], _data[iseg+1, :]], axis = 0)\n"
     ]
    },
    {
     "name": "stdout",
     "output_type": "stream",
     "text": [
      "[#########                               ] | 24% Completed | 6hr 58mAll prediction shape: (2, 5, 1151, 6000)\n",
      "[#########                               ] | 24% Completed | 6hr 58m13 P picks\n",
      "10 S picks\n",
      "['7D', 'G25B']\n",
      "[#########                               ] | 24% Completed | 6hr 58m"
     ]
    },
    {
     "name": "stderr",
     "output_type": "stream",
     "text": [
      "/tmp/ipykernel_523718/2319557713.py:13: RuntimeWarning: All-NaN axis encountered\n",
      "  np.nanmax([stack[idx:idx + twin], _data[iseg+1, :]], axis = 0)\n"
     ]
    },
    {
     "name": "stdout",
     "output_type": "stream",
     "text": [
      "[#########                               ] | 24% Completed | 6hr 59mAll prediction shape: (2, 5, 3599, 6000)\n",
      "[#########                               ] | 24% Completed | 7hr 3mm561 P picks\n",
      "260 S picks\n",
      "[#########                               ] | 24% Completed | 7hr 3m"
     ]
    },
    {
     "name": "stderr",
     "output_type": "stream",
     "text": [
      "/tmp/ipykernel_523718/2319557713.py:13: RuntimeWarning: All-NaN axis encountered\n",
      "  np.nanmax([stack[idx:idx + twin], _data[iseg+1, :]], axis = 0)\n",
      "WARNING:root:No stream returned. Skipping.\n"
     ]
    },
    {
     "name": "stdout",
     "output_type": "stream",
     "text": [
      "['NC', 'KHMB']\n",
      "['7D', 'G27B']\n",
      "[##########                              ] | 25% Completed | 7hr 3mAll prediction shape: (2, 5, 1439, 6000)\n",
      "[##########                              ] | 25% Completed | 7hr 4m58 P picks\n",
      "32 S picks\n",
      "['NC', 'KHMB']\n",
      "[##########                              ] | 25% Completed | 7hr 4m"
     ]
    },
    {
     "name": "stderr",
     "output_type": "stream",
     "text": [
      "/tmp/ipykernel_523718/2319557713.py:13: RuntimeWarning: All-NaN axis encountered\n",
      "  np.nanmax([stack[idx:idx + twin], _data[iseg+1, :]], axis = 0)\n",
      "WARNING:root:No stream returned. Skipping.\n"
     ]
    },
    {
     "name": "stdout",
     "output_type": "stream",
     "text": [
      "['7D', 'J33B']\n",
      "[##########                              ] | 25% Completed | 7hr 4mAll prediction shape: (2, 5, 3599, 6000)\n",
      "[##########                              ] | 25% Completed | 7hr 9m267 P picks\n",
      "673 S picks\n"
     ]
    },
    {
     "name": "stderr",
     "output_type": "stream",
     "text": [
      "/tmp/ipykernel_523718/2319557713.py:13: RuntimeWarning: All-NaN axis encountered\n",
      "  np.nanmax([stack[idx:idx + twin], _data[iseg+1, :]], axis = 0)\n"
     ]
    },
    {
     "name": "stdout",
     "output_type": "stream",
     "text": [
      "['7D', 'FS09B']\n",
      "[##########                              ] | 25% Completed | 7hr 9mAll prediction shape: (2, 5, 1439, 6000)\n",
      "[##########                              ] | 25% Completed | 7hr 10m131 P picks\n",
      "101 S picks\n",
      "['BK', 'JCC']\n"
     ]
    },
    {
     "name": "stderr",
     "output_type": "stream",
     "text": [
      "/tmp/ipykernel_523718/2319557713.py:13: RuntimeWarning: All-NaN axis encountered\n",
      "  np.nanmax([stack[idx:idx + twin], _data[iseg+1, :]], axis = 0)\n",
      "WARNING:root:No stream returned. Skipping.\n"
     ]
    },
    {
     "name": "stdout",
     "output_type": "stream",
     "text": [
      "['7D', 'FS13B']\n",
      "[##########                              ] | 25% Completed | 7hr 10mAll prediction shape: (2, 5, 3599, 6000)\n",
      "[##########                              ] | 25% Completed | 7hr 14m499 P picks\n",
      "215 S picks\n"
     ]
    },
    {
     "name": "stderr",
     "output_type": "stream",
     "text": [
      "/tmp/ipykernel_523718/2319557713.py:13: RuntimeWarning: All-NaN axis encountered\n",
      "  np.nanmax([stack[idx:idx + twin], _data[iseg+1, :]], axis = 0)\n"
     ]
    },
    {
     "name": "stdout",
     "output_type": "stream",
     "text": [
      "['7D', 'G19B']\n",
      "[##########                              ] | 25% Completed | 7hr 14mAll prediction shape: (2, 5, 1439, 6000)\n",
      "[##########                              ] | 25% Completed | 7hr 15m70 P picks\n",
      "24 S picks\n",
      "['7D', 'J25B']\n",
      "[##########                              ] | 25% Completed | 7hr 15m"
     ]
    },
    {
     "name": "stderr",
     "output_type": "stream",
     "text": [
      "/tmp/ipykernel_523718/2319557713.py:13: RuntimeWarning: All-NaN axis encountered\n",
      "  np.nanmax([stack[idx:idx + twin], _data[iseg+1, :]], axis = 0)\n"
     ]
    },
    {
     "name": "stdout",
     "output_type": "stream",
     "text": [
      "[##########                              ] | 25% Completed | 7hr 15mAll prediction shape: (2, 5, 3599, 6000)\n",
      "[##########                              ] | 25% Completed | 7hr 20m457 P picks\n",
      "585 S picks\n",
      "[##########                              ] | 25% Completed | 7hr 20m"
     ]
    },
    {
     "name": "stderr",
     "output_type": "stream",
     "text": [
      "/tmp/ipykernel_523718/2319557713.py:13: RuntimeWarning: All-NaN axis encountered\n",
      "  np.nanmax([stack[idx:idx + twin], _data[iseg+1, :]], axis = 0)\n"
     ]
    },
    {
     "name": "stdout",
     "output_type": "stream",
     "text": [
      "['7D', 'G17B']\n",
      "[##########                              ] | 26% Completed | 7hr 20mAll prediction shape: (2, 5, 3599, 6000)\n",
      "[##########                              ] | 26% Completed | 7hr 24m524 P picks\n",
      "617 S picks\n",
      "[##########                              ] | 26% Completed | 7hr 24m"
     ]
    },
    {
     "name": "stderr",
     "output_type": "stream",
     "text": [
      "/tmp/ipykernel_523718/2319557713.py:13: RuntimeWarning: All-NaN axis encountered\n",
      "  np.nanmax([stack[idx:idx + twin], _data[iseg+1, :]], axis = 0)\n",
      "WARNING:root:No stream returned. Skipping.\n"
     ]
    },
    {
     "name": "stdout",
     "output_type": "stream",
     "text": [
      "['NC', 'KRMB']\n",
      "['NC', 'KHMB']\n",
      "[##########                              ] | 26% Completed | 7hr 24m"
     ]
    },
    {
     "name": "stderr",
     "output_type": "stream",
     "text": [
      "WARNING:root:No stream returned. Skipping.\n"
     ]
    },
    {
     "name": "stdout",
     "output_type": "stream",
     "text": [
      "['7D', 'FS13B']\n",
      "[##########                              ] | 26% Completed | 7hr 24mAll prediction shape: (2, 5, 3599, 6000)\n",
      "[##########                              ] | 26% Completed | 7hr 29m457 P picks\n",
      "302 S picks\n"
     ]
    },
    {
     "name": "stderr",
     "output_type": "stream",
     "text": [
      "/tmp/ipykernel_523718/2319557713.py:13: RuntimeWarning: All-NaN axis encountered\n",
      "  np.nanmax([stack[idx:idx + twin], _data[iseg+1, :]], axis = 0)\n"
     ]
    },
    {
     "name": "stdout",
     "output_type": "stream",
     "text": [
      "['7D', 'FS13B']\n",
      "[##########                              ] | 26% Completed | 7hr 29mAll prediction shape: (2, 5, 3599, 6000)\n",
      "[##########                              ] | 26% Completed | 7hr 33m471 P picks\n",
      "290 S picks\n",
      "['BK', 'JCC']\n",
      "[##########                              ] | 26% Completed | 7hr 33m"
     ]
    },
    {
     "name": "stderr",
     "output_type": "stream",
     "text": [
      "/tmp/ipykernel_523718/2319557713.py:13: RuntimeWarning: All-NaN axis encountered\n",
      "  np.nanmax([stack[idx:idx + twin], _data[iseg+1, :]], axis = 0)\n",
      "WARNING:root:No stream returned. Skipping.\n",
      "WARNING:root:No stream returned. Skipping.\n"
     ]
    },
    {
     "name": "stdout",
     "output_type": "stream",
     "text": [
      "['NC', 'KSXB']\n",
      "['TA', 'I02D']\n",
      "[##########                              ] | 26% Completed | 7hr 33mAll prediction shape: (2, 5, 1150, 6000)\n",
      "[##########                              ] | 26% Completed | 7hr 34m16 P picks\n",
      "21 S picks\n"
     ]
    },
    {
     "name": "stderr",
     "output_type": "stream",
     "text": [
      "/tmp/ipykernel_523718/2319557713.py:13: RuntimeWarning: All-NaN axis encountered\n",
      "  np.nanmax([stack[idx:idx + twin], _data[iseg+1, :]], axis = 0)\n",
      "WARNING:root:No stream returned. Skipping.\n"
     ]
    },
    {
     "name": "stdout",
     "output_type": "stream",
     "text": [
      "['BK', 'JCC']\n",
      "['7D', 'M09B']\n",
      "[##########                              ] | 27% Completed | 7hr 34mAll prediction shape: (2, 5, 3599, 6000)\n",
      "[##########                              ] | 27% Completed | 7hr 39m"
     ]
    },
    {
     "name": "stderr",
     "output_type": "stream",
     "text": [
      "/tmp/ipykernel_523718/2319557713.py:13: RuntimeWarning: All-NaN axis encountered\n",
      "  np.nanmax([stack[idx:idx + twin], _data[iseg+1, :]], axis = 0)\n"
     ]
    },
    {
     "name": "stdout",
     "output_type": "stream",
     "text": [
      "521 P picks\n",
      "614 S picks\n",
      "['7D', 'FS20B']\n",
      "[##########                              ] | 27% Completed | 7hr 39mAll prediction shape: (2, 5, 3599, 6000)\n",
      "[##########                              ] | 27% Completed | 7hr 43m79 P picks\n",
      "77 S picks\n",
      "['7D', 'FS13B']\n",
      "[##########                              ] | 27% Completed | 7hr 43m"
     ]
    },
    {
     "name": "stderr",
     "output_type": "stream",
     "text": [
      "/tmp/ipykernel_523718/2319557713.py:13: RuntimeWarning: All-NaN axis encountered\n",
      "  np.nanmax([stack[idx:idx + twin], _data[iseg+1, :]], axis = 0)\n"
     ]
    },
    {
     "name": "stdout",
     "output_type": "stream",
     "text": [
      "[##########                              ] | 27% Completed | 7hr 43mAll prediction shape: (2, 5, 3599, 6000)\n",
      "[##########                              ] | 27% Completed | 7hr 48m598 P picks\n",
      "217 S picks\n",
      "[##########                              ] | 27% Completed | 7hr 48m"
     ]
    },
    {
     "name": "stderr",
     "output_type": "stream",
     "text": [
      "/tmp/ipykernel_523718/2319557713.py:13: RuntimeWarning: All-NaN axis encountered\n",
      "  np.nanmax([stack[idx:idx + twin], _data[iseg+1, :]], axis = 0)\n"
     ]
    },
    {
     "name": "stdout",
     "output_type": "stream",
     "text": [
      "['7D', 'M12B']\n",
      "[##########                              ] | 27% Completed | 7hr 48mAll prediction shape: (2, 5, 1439, 6000)\n",
      "[##########                              ] | 27% Completed | 7hr 49m152 P picks\n",
      "56 S picks\n",
      "['7D', 'M14B']\n",
      "[##########                              ] | 27% Completed | 7hr 49m"
     ]
    },
    {
     "name": "stderr",
     "output_type": "stream",
     "text": [
      "/tmp/ipykernel_523718/2319557713.py:13: RuntimeWarning: All-NaN axis encountered\n",
      "  np.nanmax([stack[idx:idx + twin], _data[iseg+1, :]], axis = 0)\n"
     ]
    },
    {
     "name": "stdout",
     "output_type": "stream",
     "text": [
      "[##########                              ] | 27% Completed | 7hr 49mAll prediction shape: (2, 5, 1438, 6000)\n",
      "[##########                              ] | 27% Completed | 7hr 50m155 P picks\n",
      "57 S picks\n",
      "['7D', 'FS20B']\n",
      "[###########                             ] | 27% Completed | 7hr 50m"
     ]
    },
    {
     "name": "stderr",
     "output_type": "stream",
     "text": [
      "/tmp/ipykernel_523718/2319557713.py:13: RuntimeWarning: All-NaN axis encountered\n",
      "  np.nanmax([stack[idx:idx + twin], _data[iseg+1, :]], axis = 0)\n"
     ]
    },
    {
     "name": "stdout",
     "output_type": "stream",
     "text": [
      "[###########                             ] | 27% Completed | 7hr 50mAll prediction shape: (2, 5, 3599, 6000)\n",
      "[###########                             ] | 27% Completed | 7hr 54m150 P picks\n",
      "122 S picks\n"
     ]
    },
    {
     "name": "stderr",
     "output_type": "stream",
     "text": [
      "/tmp/ipykernel_523718/2319557713.py:13: RuntimeWarning: All-NaN axis encountered\n",
      "  np.nanmax([stack[idx:idx + twin], _data[iseg+1, :]], axis = 0)\n"
     ]
    },
    {
     "name": "stdout",
     "output_type": "stream",
     "text": [
      "['NC', 'KRMB']\n",
      "[###########                             ] | 27% Completed | 7hr 54m"
     ]
    },
    {
     "name": "stderr",
     "output_type": "stream",
     "text": [
      "WARNING:root:No stream returned. Skipping.\n"
     ]
    },
    {
     "name": "stdout",
     "output_type": "stream",
     "text": [
      "['7D', 'FS20B']\n",
      "[###########                             ] | 27% Completed | 7hr 55mAll prediction shape: (2, 5, 3599, 6000)\n",
      "[###########                             ] | 27% Completed | 7hr 59m111 P picks\n",
      "81 S picks\n"
     ]
    },
    {
     "name": "stderr",
     "output_type": "stream",
     "text": [
      "/tmp/ipykernel_523718/2319557713.py:13: RuntimeWarning: All-NaN axis encountered\n",
      "  np.nanmax([stack[idx:idx + twin], _data[iseg+1, :]], axis = 0)\n",
      "WARNING:root:No stream returned. Skipping.\n"
     ]
    },
    {
     "name": "stdout",
     "output_type": "stream",
     "text": [
      "['NC', 'KOM']\n"
     ]
    },
    {
     "name": "stderr",
     "output_type": "stream",
     "text": [
      "WARNING:root:No stream returned. Skipping.\n"
     ]
    },
    {
     "name": "stdout",
     "output_type": "stream",
     "text": [
      "['NC', 'KBO']\n",
      "['NC', 'KBO']\n",
      "[###########                             ] | 28% Completed | 7hr 59m"
     ]
    },
    {
     "name": "stderr",
     "output_type": "stream",
     "text": [
      "WARNING:root:No stream returned. Skipping.\n"
     ]
    },
    {
     "name": "stdout",
     "output_type": "stream",
     "text": [
      "['TA', 'J01E']\n",
      "[###########                             ] | 28% Completed | 7hr 59mAll prediction shape: (2, 5, 1151, 6000)\n",
      "[###########                             ] | 28% Completed | 7hr 59m25 P picks\n",
      "30 S picks\n",
      "['NC', 'KOM']\n",
      "[###########                             ] | 28% Completed | 7hr 59m"
     ]
    },
    {
     "name": "stderr",
     "output_type": "stream",
     "text": [
      "/tmp/ipykernel_523718/2319557713.py:13: RuntimeWarning: All-NaN axis encountered\n",
      "  np.nanmax([stack[idx:idx + twin], _data[iseg+1, :]], axis = 0)\n",
      "WARNING:root:No stream returned. Skipping.\n"
     ]
    },
    {
     "name": "stdout",
     "output_type": "stream",
     "text": [
      "['7D', 'J09B']\n",
      "[###########                             ] | 28% Completed | 8hr 0mmAll prediction shape: (2, 5, 1439, 6000)\n",
      "[###########                             ] | 28% Completed | 8hr 0m75 P picks\n",
      "10 S picks\n",
      "['NC', 'KHMB']\n",
      "[###########                             ] | 28% Completed | 8hr 0m"
     ]
    },
    {
     "name": "stderr",
     "output_type": "stream",
     "text": [
      "/tmp/ipykernel_523718/2319557713.py:13: RuntimeWarning: All-NaN axis encountered\n",
      "  np.nanmax([stack[idx:idx + twin], _data[iseg+1, :]], axis = 0)\n",
      "WARNING:root:No stream returned. Skipping.\n",
      "WARNING:root:No stream returned. Skipping.\n"
     ]
    },
    {
     "name": "stdout",
     "output_type": "stream",
     "text": [
      "['NC', 'KEB']\n",
      "['7D', 'J25B']\n",
      "[###########                             ] | 28% Completed | 8hr 1mAll prediction shape: (2, 5, 3599, 6000)\n",
      "[###########                             ] | 28% Completed | 8hr 5m498 P picks\n",
      "763 S picks\n"
     ]
    },
    {
     "name": "stderr",
     "output_type": "stream",
     "text": [
      "/tmp/ipykernel_523718/2319557713.py:13: RuntimeWarning: All-NaN axis encountered\n",
      "  np.nanmax([stack[idx:idx + twin], _data[iseg+1, :]], axis = 0)\n"
     ]
    },
    {
     "name": "stdout",
     "output_type": "stream",
     "text": [
      "['7D', 'FS17B']\n",
      "[###########                             ] | 28% Completed | 8hr 5mAll prediction shape: (2, 5, 3599, 6000)\n",
      "[###########                             ] | 28% Completed | 8hr 9m437 P picks\n",
      "190 S picks\n",
      "[###########                             ] | 28% Completed | 8hr 9m"
     ]
    },
    {
     "name": "stderr",
     "output_type": "stream",
     "text": [
      "/tmp/ipykernel_523718/2319557713.py:13: RuntimeWarning: All-NaN axis encountered\n",
      "  np.nanmax([stack[idx:idx + twin], _data[iseg+1, :]], axis = 0)\n"
     ]
    },
    {
     "name": "stdout",
     "output_type": "stream",
     "text": [
      "['7D', 'FS13B']\n",
      "[###########                             ] | 29% Completed | 8hr 10mAll prediction shape: (2, 5, 3599, 6000)\n",
      "[###########                             ] | 29% Completed | 8hr 14m413 P picks\n",
      "304 S picks\n"
     ]
    },
    {
     "name": "stderr",
     "output_type": "stream",
     "text": [
      "/tmp/ipykernel_523718/2319557713.py:13: RuntimeWarning: All-NaN axis encountered\n",
      "  np.nanmax([stack[idx:idx + twin], _data[iseg+1, :]], axis = 0)\n"
     ]
    },
    {
     "name": "stdout",
     "output_type": "stream",
     "text": [
      "['7D', 'G17B']\n",
      "[###########                             ] | 29% Completed | 8hr 14mAll prediction shape: (2, 5, 3599, 6000)\n",
      "[###########                             ] | 29% Completed | 8hr 18m522 P picks\n",
      "468 S picks\n"
     ]
    },
    {
     "name": "stderr",
     "output_type": "stream",
     "text": [
      "/tmp/ipykernel_523718/2319557713.py:13: RuntimeWarning: All-NaN axis encountered\n",
      "  np.nanmax([stack[idx:idx + twin], _data[iseg+1, :]], axis = 0)\n",
      "WARNING:root:No stream returned. Skipping.\n"
     ]
    },
    {
     "name": "stdout",
     "output_type": "stream",
     "text": [
      "['NC', 'KMPB']\n",
      "['NC', 'KHMB']\n",
      "[###########                             ] | 29% Completed | 8hr 18m"
     ]
    },
    {
     "name": "stderr",
     "output_type": "stream",
     "text": [
      "WARNING:root:No stream returned. Skipping.\n"
     ]
    },
    {
     "name": "stdout",
     "output_type": "stream",
     "text": [
      "['7D', 'FS16B']\n",
      "[###########                             ] | 29% Completed | 8hr 19mAll prediction shape: (2, 5, 3598, 6000)\n",
      "[###########                             ] | 29% Completed | 8hr 23m367 P picks\n",
      "369 S picks\n",
      "[###########                             ] | 29% Completed | 8hr 23m"
     ]
    },
    {
     "name": "stderr",
     "output_type": "stream",
     "text": [
      "/tmp/ipykernel_523718/2319557713.py:13: RuntimeWarning: All-NaN axis encountered\n",
      "  np.nanmax([stack[idx:idx + twin], _data[iseg+1, :]], axis = 0)\n",
      "WARNING:root:No stream returned. Skipping.\n"
     ]
    },
    {
     "name": "stdout",
     "output_type": "stream",
     "text": [
      "['NC', 'KRMB']\n",
      "['7D', 'J09B']\n",
      "[###########                             ] | 29% Completed | 8hr 23mAll prediction shape: (2, 5, 1439, 6000)\n",
      "[###########                             ] | 29% Completed | 8hr 24m101 P picks\n",
      "22 S picks\n",
      "['NC', 'KRMB']\n",
      "[###########                             ] | 29% Completed | 8hr 24m"
     ]
    },
    {
     "name": "stderr",
     "output_type": "stream",
     "text": [
      "/tmp/ipykernel_523718/2319557713.py:13: RuntimeWarning: All-NaN axis encountered\n",
      "  np.nanmax([stack[idx:idx + twin], _data[iseg+1, :]], axis = 0)\n",
      "WARNING:root:No stream returned. Skipping.\n"
     ]
    },
    {
     "name": "stdout",
     "output_type": "stream",
     "text": [
      "['7D', 'J33B']\n",
      "[###########                             ] | 29% Completed | 8hr 24mAll prediction shape: (2, 5, 3599, 6000)\n",
      "[###########                             ] | 29% Completed | 8hr 29m200 P picks\n",
      "468 S picks\n"
     ]
    },
    {
     "name": "stderr",
     "output_type": "stream",
     "text": [
      "/tmp/ipykernel_523718/2319557713.py:13: RuntimeWarning: All-NaN axis encountered\n",
      "  np.nanmax([stack[idx:idx + twin], _data[iseg+1, :]], axis = 0)\n"
     ]
    },
    {
     "name": "stdout",
     "output_type": "stream",
     "text": [
      "['UW', 'BABR']\n",
      "[############                            ] | 30% Completed | 8hr 29mAll prediction shape: (2, 5, 1151, 6000)\n",
      "[############                            ] | 30% Completed | 8hr 29m3 P picks\n",
      "1 S picks\n",
      "['7D', 'FS16B']\n",
      "[############                            ] | 30% Completed | 8hr 29m"
     ]
    },
    {
     "name": "stderr",
     "output_type": "stream",
     "text": [
      "/tmp/ipykernel_523718/2319557713.py:13: RuntimeWarning: All-NaN axis encountered\n",
      "  np.nanmax([stack[idx:idx + twin], _data[iseg+1, :]], axis = 0)\n"
     ]
    },
    {
     "name": "stdout",
     "output_type": "stream",
     "text": [
      "[############                            ] | 30% Completed | 8hr 30mAll prediction shape: (2, 5, 3599, 6000)\n",
      "[############                            ] | 30% Completed | 8hr 34m"
     ]
    },
    {
     "name": "stderr",
     "output_type": "stream",
     "text": [
      "/tmp/ipykernel_523718/2319557713.py:13: RuntimeWarning: All-NaN axis encountered\n",
      "  np.nanmax([stack[idx:idx + twin], _data[iseg+1, :]], axis = 0)\n"
     ]
    },
    {
     "name": "stdout",
     "output_type": "stream",
     "text": [
      "269 P picks\n",
      "299 S picks\n",
      "['7D', 'J09B']\n",
      "[############                            ] | 30% Completed | 8hr 34mAll prediction shape: (2, 5, 1439, 6000)\n",
      "[############                            ] | 30% Completed | 8hr 35m104 P picks\n",
      "16 S picks\n",
      "['7D', 'FS17B']\n",
      "[############                            ] | 30% Completed | 8hr 35m"
     ]
    },
    {
     "name": "stderr",
     "output_type": "stream",
     "text": [
      "/tmp/ipykernel_523718/2319557713.py:13: RuntimeWarning: All-NaN axis encountered\n",
      "  np.nanmax([stack[idx:idx + twin], _data[iseg+1, :]], axis = 0)\n"
     ]
    },
    {
     "name": "stdout",
     "output_type": "stream",
     "text": [
      "[############                            ] | 30% Completed | 8hr 35mAll prediction shape: (2, 5, 3598, 6000)\n",
      "[############                            ] | 30% Completed | 8hr 39m"
     ]
    },
    {
     "name": "stderr",
     "output_type": "stream",
     "text": [
      "/tmp/ipykernel_523718/2319557713.py:13: RuntimeWarning: All-NaN axis encountered\n",
      "  np.nanmax([stack[idx:idx + twin], _data[iseg+1, :]], axis = 0)\n"
     ]
    },
    {
     "name": "stdout",
     "output_type": "stream",
     "text": [
      "378 P picks\n",
      "159 S picks\n",
      "['7D', 'G27B']\n",
      "[############                            ] | 30% Completed | 8hr 39mAll prediction shape: (2, 5, 1439, 6000)\n",
      "[############                            ] | 30% Completed | 8hr 40m154 P picks\n",
      "83 S picks\n",
      "['7D', 'G17B']\n",
      "[############                            ] | 30% Completed | 8hr 40m"
     ]
    },
    {
     "name": "stderr",
     "output_type": "stream",
     "text": [
      "/tmp/ipykernel_523718/2319557713.py:13: RuntimeWarning: All-NaN axis encountered\n",
      "  np.nanmax([stack[idx:idx + twin], _data[iseg+1, :]], axis = 0)\n"
     ]
    },
    {
     "name": "stdout",
     "output_type": "stream",
     "text": [
      "[############                            ] | 30% Completed | 8hr 41mAll prediction shape: (2, 5, 3599, 6000)\n",
      "[############                            ] | 30% Completed | 8hr 45m"
     ]
    },
    {
     "name": "stderr",
     "output_type": "stream",
     "text": [
      "/tmp/ipykernel_523718/2319557713.py:13: RuntimeWarning: All-NaN axis encountered\n",
      "  np.nanmax([stack[idx:idx + twin], _data[iseg+1, :]], axis = 0)\n"
     ]
    },
    {
     "name": "stdout",
     "output_type": "stream",
     "text": [
      "697 P picks\n",
      "997 S picks\n",
      "['NC', 'KEB']\n",
      "[############                            ] | 30% Completed | 8hr 45m"
     ]
    },
    {
     "name": "stderr",
     "output_type": "stream",
     "text": [
      "WARNING:root:No stream returned. Skipping.\n",
      "WARNING:root:No stream returned. Skipping.\n"
     ]
    },
    {
     "name": "stdout",
     "output_type": "stream",
     "text": [
      "['NC', 'KHBB']\n",
      "['TA', 'I02D']\n",
      "[############                            ] | 30% Completed | 8hr 45mAll prediction shape: (2, 5, 1151, 6000)\n",
      "[############                            ] | 30% Completed | 8hr 45m19 P picks\n",
      "5 S picks\n",
      "['7D', 'G27B']\n",
      "[############                            ] | 31% Completed | 8hr 45m"
     ]
    },
    {
     "name": "stderr",
     "output_type": "stream",
     "text": [
      "/tmp/ipykernel_523718/2319557713.py:13: RuntimeWarning: All-NaN axis encountered\n",
      "  np.nanmax([stack[idx:idx + twin], _data[iseg+1, :]], axis = 0)\n"
     ]
    },
    {
     "name": "stdout",
     "output_type": "stream",
     "text": [
      "[############                            ] | 31% Completed | 8hr 46mAll prediction shape: (2, 5, 1439, 6000)\n",
      "[############                            ] | 31% Completed | 8hr 46m55 P picks\n",
      "27 S picks\n",
      "['TA', 'J01E']\n",
      "[############                            ] | 31% Completed | 8hr 46m"
     ]
    },
    {
     "name": "stderr",
     "output_type": "stream",
     "text": [
      "/tmp/ipykernel_523718/2319557713.py:13: RuntimeWarning: All-NaN axis encountered\n",
      "  np.nanmax([stack[idx:idx + twin], _data[iseg+1, :]], axis = 0)\n"
     ]
    },
    {
     "name": "stdout",
     "output_type": "stream",
     "text": [
      "[############                            ] | 31% Completed | 8hr 46mAll prediction shape: (2, 5, 1151, 6000)\n",
      "[############                            ] | 31% Completed | 8hr 47m21 P picks\n",
      "19 S picks\n",
      "['NC', 'KHMB']\n",
      "[############                            ] | 31% Completed | 8hr 47m"
     ]
    },
    {
     "name": "stderr",
     "output_type": "stream",
     "text": [
      "/tmp/ipykernel_523718/2319557713.py:13: RuntimeWarning: All-NaN axis encountered\n",
      "  np.nanmax([stack[idx:idx + twin], _data[iseg+1, :]], axis = 0)\n",
      "WARNING:root:No stream returned. Skipping.\n"
     ]
    },
    {
     "name": "stdout",
     "output_type": "stream",
     "text": [
      "['UW', 'BABR']\n",
      "[############                            ] | 31% Completed | 8hr 47mAll prediction shape: (2, 5, 1151, 6000)\n",
      "[############                            ] | 31% Completed | 8hr 48m9 P picks\n",
      "3 S picks\n",
      "['TA', 'I02D']\n",
      "[############                            ] | 31% Completed | 8hr 48m"
     ]
    },
    {
     "name": "stderr",
     "output_type": "stream",
     "text": [
      "/tmp/ipykernel_523718/2319557713.py:13: RuntimeWarning: All-NaN axis encountered\n",
      "  np.nanmax([stack[idx:idx + twin], _data[iseg+1, :]], axis = 0)\n"
     ]
    },
    {
     "name": "stdout",
     "output_type": "stream",
     "text": [
      "[############                            ] | 31% Completed | 8hr 48mAll prediction shape: (2, 5, 1151, 6000)\n",
      "[############                            ] | 31% Completed | 8hr 48m31 P picks\n",
      "5 S picks\n",
      "['7D', 'M14B']\n",
      "[############                            ] | 31% Completed | 8hr 48m"
     ]
    },
    {
     "name": "stderr",
     "output_type": "stream",
     "text": [
      "/tmp/ipykernel_523718/2319557713.py:13: RuntimeWarning: All-NaN axis encountered\n",
      "  np.nanmax([stack[idx:idx + twin], _data[iseg+1, :]], axis = 0)\n"
     ]
    },
    {
     "name": "stdout",
     "output_type": "stream",
     "text": [
      "[############                            ] | 31% Completed | 8hr 49mAll prediction shape: (2, 5, 1438, 6000)\n",
      "[############                            ] | 31% Completed | 8hr 49m200 P picks\n",
      "59 S picks\n",
      "[############                            ] | 31% Completed | 8hr 49m['7D', 'J09B']\n",
      "[############                            ] | 31% Completed | 8hr 49m"
     ]
    },
    {
     "name": "stderr",
     "output_type": "stream",
     "text": [
      "/tmp/ipykernel_523718/2319557713.py:13: RuntimeWarning: All-NaN axis encountered\n",
      "  np.nanmax([stack[idx:idx + twin], _data[iseg+1, :]], axis = 0)\n"
     ]
    },
    {
     "name": "stdout",
     "output_type": "stream",
     "text": [
      "[############                            ] | 31% Completed | 8hr 50mAll prediction shape: (2, 5, 1439, 6000)\n",
      "[############                            ] | 31% Completed | 8hr 50m102 P picks\n",
      "25 S picks\n",
      "['7D', 'G17B']\n",
      "[############                            ] | 31% Completed | 8hr 50m"
     ]
    },
    {
     "name": "stderr",
     "output_type": "stream",
     "text": [
      "/tmp/ipykernel_523718/2319557713.py:13: RuntimeWarning: All-NaN axis encountered\n",
      "  np.nanmax([stack[idx:idx + twin], _data[iseg+1, :]], axis = 0)\n"
     ]
    },
    {
     "name": "stdout",
     "output_type": "stream",
     "text": [
      "[############                            ] | 31% Completed | 8hr 51mAll prediction shape: (2, 5, 3599, 6000)\n",
      "[############                            ] | 31% Completed | 8hr 55m"
     ]
    },
    {
     "name": "stderr",
     "output_type": "stream",
     "text": [
      "/tmp/ipykernel_523718/2319557713.py:13: RuntimeWarning: All-NaN axis encountered\n",
      "  np.nanmax([stack[idx:idx + twin], _data[iseg+1, :]], axis = 0)\n"
     ]
    },
    {
     "name": "stdout",
     "output_type": "stream",
     "text": [
      "578 P picks\n",
      "551 S picks\n",
      "['7D', 'FS16B']\n",
      "[############                            ] | 31% Completed | 8hr 55mAll prediction shape: (2, 5, 3599, 6000)\n",
      "[############                            ] | 31% Completed | 9hr 0mm"
     ]
    },
    {
     "name": "stderr",
     "output_type": "stream",
     "text": [
      "/tmp/ipykernel_523718/2319557713.py:13: RuntimeWarning: All-NaN axis encountered\n",
      "  np.nanmax([stack[idx:idx + twin], _data[iseg+1, :]], axis = 0)\n"
     ]
    },
    {
     "name": "stdout",
     "output_type": "stream",
     "text": [
      "361 P picks\n",
      "469 S picks\n",
      "['NC', 'KRMB']\n",
      "[############                            ] | 32% Completed | 9hr 0m"
     ]
    },
    {
     "name": "stderr",
     "output_type": "stream",
     "text": [
      "WARNING:root:No stream returned. Skipping.\n",
      "WARNING:root:No stream returned. Skipping.\n"
     ]
    },
    {
     "name": "stdout",
     "output_type": "stream",
     "text": [
      "['NC', 'KMPB']\n"
     ]
    },
    {
     "name": "stderr",
     "output_type": "stream",
     "text": [
      "WARNING:root:No stream returned. Skipping.\n"
     ]
    },
    {
     "name": "stdout",
     "output_type": "stream",
     "text": [
      "['NC', 'KHMB']\n",
      "['7D', 'G26B']\n",
      "[############                            ] | 32% Completed | 9hr 0mAll prediction shape: (2, 5, 3598, 6000)\n",
      "[############                            ] | 32% Completed | 9hr 4m"
     ]
    },
    {
     "name": "stderr",
     "output_type": "stream",
     "text": [
      "/tmp/ipykernel_523718/2319557713.py:13: RuntimeWarning: All-NaN axis encountered\n",
      "  np.nanmax([stack[idx:idx + twin], _data[iseg+1, :]], axis = 0)\n"
     ]
    },
    {
     "name": "stdout",
     "output_type": "stream",
     "text": [
      "249 P picks\n",
      "178 S picks\n",
      "[############                            ] | 32% Completed | 9hr 4m['TA', 'J01E']\n",
      "[############                            ] | 32% Completed | 9hr 4mAll prediction shape: (2, 5, 1150, 6000)\n",
      "[############                            ] | 32% Completed | 9hr 5m16 P picks\n",
      "9 S picks\n"
     ]
    },
    {
     "name": "stderr",
     "output_type": "stream",
     "text": [
      "/tmp/ipykernel_523718/2319557713.py:13: RuntimeWarning: All-NaN axis encountered\n",
      "  np.nanmax([stack[idx:idx + twin], _data[iseg+1, :]], axis = 0)\n",
      "WARNING:root:No stream returned. Skipping.\n"
     ]
    },
    {
     "name": "stdout",
     "output_type": "stream",
     "text": [
      "['NC', 'KSXB']\n",
      "['7D', 'G25B']\n",
      "[#############                           ] | 32% Completed | 9hr 5mAll prediction shape: (2, 5, 3599, 6000)\n",
      "[#############                           ] | 32% Completed | 9hr 10m513 P picks\n",
      "221 S picks\n"
     ]
    },
    {
     "name": "stderr",
     "output_type": "stream",
     "text": [
      "/tmp/ipykernel_523718/2319557713.py:13: RuntimeWarning: All-NaN axis encountered\n",
      "  np.nanmax([stack[idx:idx + twin], _data[iseg+1, :]], axis = 0)\n"
     ]
    },
    {
     "name": "stdout",
     "output_type": "stream",
     "text": [
      "['7D', 'FS09B']\n",
      "[#############                           ] | 32% Completed | 9hr 10mAll prediction shape: (2, 5, 1439, 6000)\n",
      "[#############                           ] | 32% Completed | 9hr 10m199 P picks\n",
      "167 S picks\n",
      "['7D', 'J09B']\n",
      "[#############                           ] | 32% Completed | 9hr 10m"
     ]
    },
    {
     "name": "stderr",
     "output_type": "stream",
     "text": [
      "/tmp/ipykernel_523718/2319557713.py:13: RuntimeWarning: All-NaN axis encountered\n",
      "  np.nanmax([stack[idx:idx + twin], _data[iseg+1, :]], axis = 0)\n"
     ]
    },
    {
     "name": "stdout",
     "output_type": "stream",
     "text": [
      "[#############                           ] | 32% Completed | 9hr 11mAll prediction shape: (2, 5, 1439, 6000)\n",
      "[#############                           ] | 32% Completed | 9hr 11m131 P picks\n",
      "29 S picks\n"
     ]
    },
    {
     "name": "stderr",
     "output_type": "stream",
     "text": [
      "/tmp/ipykernel_523718/2319557713.py:13: RuntimeWarning: All-NaN axis encountered\n",
      "  np.nanmax([stack[idx:idx + twin], _data[iseg+1, :]], axis = 0)\n",
      "WARNING:root:No stream returned. Skipping.\n"
     ]
    },
    {
     "name": "stdout",
     "output_type": "stream",
     "text": [
      "['BK', 'JCC']\n",
      "['7D', 'FS17B']\n",
      "[#############                           ] | 33% Completed | 9hr 12mAll prediction shape: (2, 5, 3599, 6000)\n",
      "[#############                           ] | 33% Completed | 9hr 16m494 P picks\n",
      "258 S picks\n"
     ]
    },
    {
     "name": "stderr",
     "output_type": "stream",
     "text": [
      "/tmp/ipykernel_523718/2319557713.py:13: RuntimeWarning: All-NaN axis encountered\n",
      "  np.nanmax([stack[idx:idx + twin], _data[iseg+1, :]], axis = 0)\n"
     ]
    },
    {
     "name": "stdout",
     "output_type": "stream",
     "text": [
      "['7D', 'J33B']\n",
      "[#############                           ] | 33% Completed | 9hr 16mAll prediction shape: (2, 5, 3599, 6000)\n",
      "[#############                           ] | 33% Completed | 9hr 21m236 P picks\n",
      "410 S picks\n"
     ]
    },
    {
     "name": "stderr",
     "output_type": "stream",
     "text": [
      "/tmp/ipykernel_523718/2319557713.py:13: RuntimeWarning: All-NaN axis encountered\n",
      "  np.nanmax([stack[idx:idx + twin], _data[iseg+1, :]], axis = 0)\n",
      "WARNING:root:No stream returned. Skipping.\n"
     ]
    },
    {
     "name": "stdout",
     "output_type": "stream",
     "text": [
      "['NC', 'KRMB']\n",
      "['7D', 'G19B']\n",
      "[#############                           ] | 33% Completed | 9hr 21mAll prediction shape: (2, 5, 1439, 6000)\n",
      "[#############                           ] | 33% Completed | 9hr 22m63 P picks\n",
      "14 S picks\n",
      "['7D', 'J33B']\n",
      "[#############                           ] | 33% Completed | 9hr 22m"
     ]
    },
    {
     "name": "stderr",
     "output_type": "stream",
     "text": [
      "/tmp/ipykernel_523718/2319557713.py:13: RuntimeWarning: All-NaN axis encountered\n",
      "  np.nanmax([stack[idx:idx + twin], _data[iseg+1, :]], axis = 0)\n"
     ]
    },
    {
     "name": "stdout",
     "output_type": "stream",
     "text": [
      "[#############                           ] | 33% Completed | 9hr 22mAll prediction shape: (2, 5, 3599, 6000)\n",
      "[#############                           ] | 33% Completed | 9hr 26m320 P picks\n",
      "584 S picks\n"
     ]
    },
    {
     "name": "stderr",
     "output_type": "stream",
     "text": [
      "/tmp/ipykernel_523718/2319557713.py:13: RuntimeWarning: All-NaN axis encountered\n",
      "  np.nanmax([stack[idx:idx + twin], _data[iseg+1, :]], axis = 0)\n"
     ]
    },
    {
     "name": "stdout",
     "output_type": "stream",
     "text": [
      "['7D', 'G26B']\n",
      "[#############                           ] | 33% Completed | 9hr 27mAll prediction shape: (2, 5, 3598, 6000)\n",
      "[#############                           ] | 33% Completed | 9hr 31m44 P picks\n",
      "43 S picks\n"
     ]
    },
    {
     "name": "stderr",
     "output_type": "stream",
     "text": [
      "/tmp/ipykernel_523718/2319557713.py:13: RuntimeWarning: All-NaN axis encountered\n",
      "  np.nanmax([stack[idx:idx + twin], _data[iseg+1, :]], axis = 0)\n"
     ]
    },
    {
     "name": "stdout",
     "output_type": "stream",
     "text": [
      "['7D', 'J09B']\n",
      "[#############                           ] | 33% Completed | 9hr 31mAll prediction shape: (2, 5, 1438, 6000)\n",
      "[#############                           ] | 33% Completed | 9hr 32m73 P picks\n",
      "22 S picks\n",
      "['7D', 'G25B']\n",
      "[#############                           ] | 33% Completed | 9hr 32m"
     ]
    },
    {
     "name": "stderr",
     "output_type": "stream",
     "text": [
      "/tmp/ipykernel_523718/2319557713.py:13: RuntimeWarning: All-NaN axis encountered\n",
      "  np.nanmax([stack[idx:idx + twin], _data[iseg+1, :]], axis = 0)\n"
     ]
    },
    {
     "name": "stdout",
     "output_type": "stream",
     "text": [
      "[#############                           ] | 33% Completed | 9hr 32mAll prediction shape: (2, 5, 3599, 6000)\n",
      "[#############                           ] | 33% Completed | 9hr 36m444 P picks\n",
      "198 S picks\n"
     ]
    },
    {
     "name": "stderr",
     "output_type": "stream",
     "text": [
      "/tmp/ipykernel_523718/2319557713.py:13: RuntimeWarning: All-NaN axis encountered\n",
      "  np.nanmax([stack[idx:idx + twin], _data[iseg+1, :]], axis = 0)\n"
     ]
    },
    {
     "name": "stdout",
     "output_type": "stream",
     "text": [
      "['NC', 'KSXB']\n",
      "[#############                           ] | 34% Completed | 9hr 36m"
     ]
    },
    {
     "name": "stderr",
     "output_type": "stream",
     "text": [
      "WARNING:root:No stream returned. Skipping.\n"
     ]
    },
    {
     "name": "stdout",
     "output_type": "stream",
     "text": [
      "['NC', 'KMPB']\n",
      "[#############                           ] | 34% Completed | 9hr 36m"
     ]
    },
    {
     "name": "stderr",
     "output_type": "stream",
     "text": [
      "WARNING:root:No stream returned. Skipping.\n"
     ]
    },
    {
     "name": "stdout",
     "output_type": "stream",
     "text": [
      "['7D', 'M14B']\n",
      "[#############                           ] | 34% Completed | 9hr 36mAll prediction shape: (2, 5, 1439, 6000)\n",
      "[#############                           ] | 34% Completed | 9hr 37m131 P picks\n",
      "58 S picks\n",
      "['7D', 'G25B']\n",
      "[#############                           ] | 34% Completed | 9hr 37m"
     ]
    },
    {
     "name": "stderr",
     "output_type": "stream",
     "text": [
      "/tmp/ipykernel_523718/2319557713.py:13: RuntimeWarning: All-NaN axis encountered\n",
      "  np.nanmax([stack[idx:idx + twin], _data[iseg+1, :]], axis = 0)\n"
     ]
    },
    {
     "name": "stdout",
     "output_type": "stream",
     "text": [
      "[#############                           ] | 34% Completed | 9hr 38mAll prediction shape: (2, 5, 3599, 6000)\n",
      "[#############                           ] | 34% Completed | 9hr 42m708 P picks\n",
      "266 S picks\n"
     ]
    },
    {
     "name": "stderr",
     "output_type": "stream",
     "text": [
      "/tmp/ipykernel_523718/2319557713.py:13: RuntimeWarning: All-NaN axis encountered\n",
      "  np.nanmax([stack[idx:idx + twin], _data[iseg+1, :]], axis = 0)\n"
     ]
    },
    {
     "name": "stdout",
     "output_type": "stream",
     "text": [
      "['7D', 'FS17B']\n",
      "[#############                           ] | 34% Completed | 9hr 42mAll prediction shape: (2, 5, 3599, 6000)\n",
      "[#############                           ] | 34% Completed | 9hr 46m487 P picks\n",
      "179 S picks\n"
     ]
    },
    {
     "name": "stderr",
     "output_type": "stream",
     "text": [
      "/tmp/ipykernel_523718/2319557713.py:13: RuntimeWarning: All-NaN axis encountered\n",
      "  np.nanmax([stack[idx:idx + twin], _data[iseg+1, :]], axis = 0)\n",
      "WARNING:root:No stream returned. Skipping.\n"
     ]
    },
    {
     "name": "stdout",
     "output_type": "stream",
     "text": [
      "['NC', 'KRMB']\n",
      "['7D', 'G17B']\n",
      "[#############                           ] | 34% Completed | 9hr 47mAll prediction shape: (2, 5, 3599, 6000)\n",
      "[#############                           ] | 34% Completed | 9hr 51m695 P picks\n",
      "844 S picks\n",
      "[#############                           ] | 34% Completed | 9hr 51m"
     ]
    },
    {
     "name": "stderr",
     "output_type": "stream",
     "text": [
      "/tmp/ipykernel_523718/2319557713.py:13: RuntimeWarning: All-NaN axis encountered\n",
      "  np.nanmax([stack[idx:idx + twin], _data[iseg+1, :]], axis = 0)\n"
     ]
    },
    {
     "name": "stdout",
     "output_type": "stream",
     "text": [
      "['7D', 'G19B']\n",
      "[#############                           ] | 34% Completed | 9hr 51mAll prediction shape: (2, 5, 1439, 6000)\n",
      "[#############                           ] | 34% Completed | 9hr 52m58 P picks\n",
      "35 S picks\n",
      "['7D', 'FS09B']\n",
      "[#############                           ] | 34% Completed | 9hr 52m"
     ]
    },
    {
     "name": "stderr",
     "output_type": "stream",
     "text": [
      "/tmp/ipykernel_523718/2319557713.py:13: RuntimeWarning: All-NaN axis encountered\n",
      "  np.nanmax([stack[idx:idx + twin], _data[iseg+1, :]], axis = 0)\n"
     ]
    },
    {
     "name": "stdout",
     "output_type": "stream",
     "text": [
      "[#############                           ] | 34% Completed | 9hr 52mAll prediction shape: (2, 5, 1439, 6000)\n",
      "[#############                           ] | 34% Completed | 9hr 53m103 P picks\n",
      "83 S picks\n"
     ]
    },
    {
     "name": "stderr",
     "output_type": "stream",
     "text": [
      "/tmp/ipykernel_523718/2319557713.py:13: RuntimeWarning: All-NaN axis encountered\n",
      "  np.nanmax([stack[idx:idx + twin], _data[iseg+1, :]], axis = 0)\n",
      "WARNING:root:No stream returned. Skipping.\n"
     ]
    },
    {
     "name": "stdout",
     "output_type": "stream",
     "text": [
      "['NC', 'KHBB']\n",
      "['NC', 'KBO']\n",
      "[##############                          ] | 35% Completed | 9hr 53m"
     ]
    },
    {
     "name": "stderr",
     "output_type": "stream",
     "text": [
      "WARNING:root:No stream returned. Skipping.\n"
     ]
    },
    {
     "name": "stdout",
     "output_type": "stream",
     "text": [
      "['7D', 'G17B']\n",
      "[##############                          ] | 35% Completed | 9hr 53mAll prediction shape: (2, 5, 3599, 6000)\n",
      "[##############                          ] | 35% Completed | 9hr 57m549 P picks\n",
      "443 S picks\n",
      "[##############                          ] | 35% Completed | 9hr 57m"
     ]
    },
    {
     "name": "stderr",
     "output_type": "stream",
     "text": [
      "/tmp/ipykernel_523718/2319557713.py:13: RuntimeWarning: All-NaN axis encountered\n",
      "  np.nanmax([stack[idx:idx + twin], _data[iseg+1, :]], axis = 0)\n"
     ]
    },
    {
     "name": "stdout",
     "output_type": "stream",
     "text": [
      "['7D', 'J25B']\n",
      "[##############                          ] | 35% Completed | 9hr 58mAll prediction shape: (2, 5, 3599, 6000)\n",
      "[##############                          ] | 35% Completed | 10hr 2m426 P picks\n",
      "548 S picks\n",
      "[##############                          ] | 35% Completed | 10hr 2m"
     ]
    },
    {
     "name": "stderr",
     "output_type": "stream",
     "text": [
      "/tmp/ipykernel_523718/2319557713.py:13: RuntimeWarning: All-NaN axis encountered\n",
      "  np.nanmax([stack[idx:idx + twin], _data[iseg+1, :]], axis = 0)\n"
     ]
    },
    {
     "name": "stdout",
     "output_type": "stream",
     "text": [
      "['UW', 'BABR']\n",
      "[##############                          ] | 35% Completed | 10hr 2mAll prediction shape: (2, 5, 1151, 6000)\n",
      "[##############                          ] | 35% Completed | 10hr 3m8 P picks\n",
      "2 S picks\n",
      "['7D', 'G19B']\n",
      "[##############                          ] | 35% Completed | 10hr 3m"
     ]
    },
    {
     "name": "stderr",
     "output_type": "stream",
     "text": [
      "/tmp/ipykernel_523718/2319557713.py:13: RuntimeWarning: All-NaN axis encountered\n",
      "  np.nanmax([stack[idx:idx + twin], _data[iseg+1, :]], axis = 0)\n"
     ]
    },
    {
     "name": "stdout",
     "output_type": "stream",
     "text": [
      "[##############                          ] | 35% Completed | 10hr 3mAll prediction shape: (2, 5, 1439, 6000)\n",
      "[##############                          ] | 35% Completed | 10hr 4m33 P picks\n",
      "29 S picks\n"
     ]
    },
    {
     "name": "stderr",
     "output_type": "stream",
     "text": [
      "/tmp/ipykernel_523718/2319557713.py:13: RuntimeWarning: All-NaN axis encountered\n",
      "  np.nanmax([stack[idx:idx + twin], _data[iseg+1, :]], axis = 0)\n",
      "WARNING:root:No stream returned. Skipping.\n"
     ]
    },
    {
     "name": "stdout",
     "output_type": "stream",
     "text": [
      "['NC', 'KBO']\n",
      "['NC', 'KBO']\n",
      "[##############                          ] | 35% Completed | 10hr 4m"
     ]
    },
    {
     "name": "stderr",
     "output_type": "stream",
     "text": [
      "WARNING:root:No stream returned. Skipping.\n"
     ]
    },
    {
     "name": "stdout",
     "output_type": "stream",
     "text": [
      "['7D', 'FS13B']\n",
      "[##############                          ] | 35% Completed | 10hr 4mAll prediction shape: (2, 5, 3599, 6000)\n",
      "[##############                          ] | 35% Completed | 10hr 8m497 P picks\n",
      "455 S picks\n"
     ]
    },
    {
     "name": "stderr",
     "output_type": "stream",
     "text": [
      "/tmp/ipykernel_523718/2319557713.py:13: RuntimeWarning: All-NaN axis encountered\n",
      "  np.nanmax([stack[idx:idx + twin], _data[iseg+1, :]], axis = 0)\n"
     ]
    },
    {
     "name": "stdout",
     "output_type": "stream",
     "text": [
      "['7D', 'G26B']\n",
      "[##############                          ] | 36% Completed | 10hr 8mAll prediction shape: (2, 5, 3599, 6000)\n",
      "[##############                          ] | 36% Completed | 10hr 13m100 P picks\n",
      "78 S picks\n"
     ]
    },
    {
     "name": "stderr",
     "output_type": "stream",
     "text": [
      "/tmp/ipykernel_523718/2319557713.py:13: RuntimeWarning: All-NaN axis encountered\n",
      "  np.nanmax([stack[idx:idx + twin], _data[iseg+1, :]], axis = 0)\n"
     ]
    },
    {
     "name": "stdout",
     "output_type": "stream",
     "text": [
      "['7D', 'FS13B']\n",
      "[##############                          ] | 36% Completed | 10hr 13mAll prediction shape: (2, 5, 3599, 6000)\n",
      "[##############                          ] | 36% Completed | 10hr 17m392 P picks\n",
      "279 S picks\n"
     ]
    },
    {
     "name": "stderr",
     "output_type": "stream",
     "text": [
      "/tmp/ipykernel_523718/2319557713.py:13: RuntimeWarning: All-NaN axis encountered\n",
      "  np.nanmax([stack[idx:idx + twin], _data[iseg+1, :]], axis = 0)\n",
      "WARNING:root:No stream returned. Skipping.\n"
     ]
    },
    {
     "name": "stdout",
     "output_type": "stream",
     "text": [
      "['NC', 'KHMB']\n",
      "['7D', 'G27B']\n",
      "[##############                          ] | 36% Completed | 10hr 17mAll prediction shape: (2, 5, 1439, 6000)\n",
      "[##############                          ] | 36% Completed | 10hr 18m57 P picks\n",
      "34 S picks\n",
      "['7D', 'J25B']\n",
      "[##############                          ] | 36% Completed | 10hr 18m"
     ]
    },
    {
     "name": "stderr",
     "output_type": "stream",
     "text": [
      "/tmp/ipykernel_523718/2319557713.py:13: RuntimeWarning: All-NaN axis encountered\n",
      "  np.nanmax([stack[idx:idx + twin], _data[iseg+1, :]], axis = 0)\n"
     ]
    },
    {
     "name": "stdout",
     "output_type": "stream",
     "text": [
      "[##############                          ] | 36% Completed | 10hr 19mAll prediction shape: (2, 5, 3599, 6000)\n",
      "[##############                          ] | 36% Completed | 10hr 23m435 P picks\n",
      "506 S picks\n",
      "['7D', 'FS13B']\n",
      "[##############                          ] | 36% Completed | 10hr 23m"
     ]
    },
    {
     "name": "stderr",
     "output_type": "stream",
     "text": [
      "/tmp/ipykernel_523718/2319557713.py:13: RuntimeWarning: All-NaN axis encountered\n",
      "  np.nanmax([stack[idx:idx + twin], _data[iseg+1, :]], axis = 0)\n"
     ]
    },
    {
     "name": "stdout",
     "output_type": "stream",
     "text": [
      "[##############                          ] | 36% Completed | 10hr 23mAll prediction shape: (2, 5, 3599, 6000)\n",
      "[##############                          ] | 36% Completed | 10hr 27m524 P picks\n",
      "261 S picks\n"
     ]
    },
    {
     "name": "stderr",
     "output_type": "stream",
     "text": [
      "/tmp/ipykernel_523718/2319557713.py:13: RuntimeWarning: All-NaN axis encountered\n",
      "  np.nanmax([stack[idx:idx + twin], _data[iseg+1, :]], axis = 0)\n"
     ]
    },
    {
     "name": "stdout",
     "output_type": "stream",
     "text": [
      "['7D', 'G19B']\n",
      "[##############                          ] | 36% Completed | 10hr 27mAll prediction shape: (2, 5, 1439, 6000)\n",
      "[##############                          ] | 36% Completed | 10hr 28m67 P picks\n",
      "34 S picks\n",
      "['7D', 'FS20B']\n",
      "[##############                          ] | 36% Completed | 10hr 28m"
     ]
    },
    {
     "name": "stderr",
     "output_type": "stream",
     "text": [
      "/tmp/ipykernel_523718/2319557713.py:13: RuntimeWarning: All-NaN axis encountered\n",
      "  np.nanmax([stack[idx:idx + twin], _data[iseg+1, :]], axis = 0)\n"
     ]
    },
    {
     "name": "stdout",
     "output_type": "stream",
     "text": [
      "[##############                          ] | 36% Completed | 10hr 29mAll prediction shape: (2, 5, 3599, 6000)\n",
      "[##############                          ] | 36% Completed | 10hr 33m191 P picks\n",
      "124 S picks\n",
      "['7D', 'G25B']\n",
      "[##############                          ] | 36% Completed | 10hr 33m"
     ]
    },
    {
     "name": "stderr",
     "output_type": "stream",
     "text": [
      "/tmp/ipykernel_523718/2319557713.py:13: RuntimeWarning: All-NaN axis encountered\n",
      "  np.nanmax([stack[idx:idx + twin], _data[iseg+1, :]], axis = 0)\n"
     ]
    },
    {
     "name": "stdout",
     "output_type": "stream",
     "text": [
      "[##############                          ] | 36% Completed | 10hr 33mAll prediction shape: (2, 5, 3599, 6000)\n",
      "[##############                          ] | 36% Completed | 10hr 37m472 P picks\n",
      "197 S picks\n"
     ]
    },
    {
     "name": "stderr",
     "output_type": "stream",
     "text": [
      "/tmp/ipykernel_523718/2319557713.py:13: RuntimeWarning: All-NaN axis encountered\n",
      "  np.nanmax([stack[idx:idx + twin], _data[iseg+1, :]], axis = 0)\n",
      "WARNING:root:No stream returned. Skipping.\n"
     ]
    },
    {
     "name": "stdout",
     "output_type": "stream",
     "text": [
      "['NC', 'KBO']\n",
      "['7D', 'FS09B']\n",
      "[##############                          ] | 37% Completed | 10hr 38mAll prediction shape: (2, 5, 1439, 6000)\n",
      "[##############                          ] | 37% Completed | 10hr 38m171 P picks\n",
      "149 S picks\n",
      "['TA', 'I02D']\n",
      "[##############                          ] | 37% Completed | 10hr 38m"
     ]
    },
    {
     "name": "stderr",
     "output_type": "stream",
     "text": [
      "/tmp/ipykernel_523718/2319557713.py:13: RuntimeWarning: All-NaN axis encountered\n",
      "  np.nanmax([stack[idx:idx + twin], _data[iseg+1, :]], axis = 0)\n"
     ]
    },
    {
     "name": "stdout",
     "output_type": "stream",
     "text": [
      "[##############                          ] | 37% Completed | 10hr 38mAll prediction shape: (2, 5, 1151, 6000)\n",
      "[##############                          ] | 37% Completed | 10hr 39m30 P picks\n",
      "15 S picks\n",
      "['7D', 'G19B']\n",
      "[##############                          ] | 37% Completed | 10hr 39m"
     ]
    },
    {
     "name": "stderr",
     "output_type": "stream",
     "text": [
      "/tmp/ipykernel_523718/2319557713.py:13: RuntimeWarning: All-NaN axis encountered\n",
      "  np.nanmax([stack[idx:idx + twin], _data[iseg+1, :]], axis = 0)\n"
     ]
    },
    {
     "name": "stdout",
     "output_type": "stream",
     "text": [
      "[##############                          ] | 37% Completed | 10hr 39mAll prediction shape: (2, 5, 1439, 6000)\n",
      "[##############                          ] | 37% Completed | 10hr 40m60 P picks\n",
      "45 S picks\n",
      "['7D', 'J25B']\n",
      "[##############                          ] | 37% Completed | 10hr 40m"
     ]
    },
    {
     "name": "stderr",
     "output_type": "stream",
     "text": [
      "/tmp/ipykernel_523718/2319557713.py:13: RuntimeWarning: All-NaN axis encountered\n",
      "  np.nanmax([stack[idx:idx + twin], _data[iseg+1, :]], axis = 0)\n"
     ]
    },
    {
     "name": "stdout",
     "output_type": "stream",
     "text": [
      "[##############                          ] | 37% Completed | 10hr 40mAll prediction shape: (2, 5, 3599, 6000)\n",
      "[##############                          ] | 37% Completed | 10hr 45m596 P picks\n",
      "592 S picks\n",
      "[##############                          ] | 37% Completed | 10hr 45m"
     ]
    },
    {
     "name": "stderr",
     "output_type": "stream",
     "text": [
      "/tmp/ipykernel_523718/2319557713.py:13: RuntimeWarning: All-NaN axis encountered\n",
      "  np.nanmax([stack[idx:idx + twin], _data[iseg+1, :]], axis = 0)\n"
     ]
    },
    {
     "name": "stdout",
     "output_type": "stream",
     "text": [
      "['7D', 'J33B']\n",
      "[###############                         ] | 37% Completed | 10hr 45mAll prediction shape: (2, 5, 3599, 6000)\n",
      "[###############                         ] | 37% Completed | 10hr 49m196 P picks\n",
      "394 S picks\n",
      "[###############                         ] | 37% Completed | 10hr 49m"
     ]
    },
    {
     "name": "stderr",
     "output_type": "stream",
     "text": [
      "/tmp/ipykernel_523718/2319557713.py:13: RuntimeWarning: All-NaN axis encountered\n",
      "  np.nanmax([stack[idx:idx + twin], _data[iseg+1, :]], axis = 0)\n",
      "WARNING:root:No stream returned. Skipping.\n"
     ]
    },
    {
     "name": "stdout",
     "output_type": "stream",
     "text": [
      "['NC', 'KEB']\n",
      "['7D', 'M09B']\n",
      "[###############                         ] | 37% Completed | 10hr 49mAll prediction shape: (2, 5, 3599, 6000)\n",
      "[###############                         ] | 37% Completed | 10hr 54m472 P picks\n",
      "530 S picks\n"
     ]
    },
    {
     "name": "stderr",
     "output_type": "stream",
     "text": [
      "/tmp/ipykernel_523718/2319557713.py:13: RuntimeWarning: All-NaN axis encountered\n",
      "  np.nanmax([stack[idx:idx + twin], _data[iseg+1, :]], axis = 0)\n"
     ]
    },
    {
     "name": "stdout",
     "output_type": "stream",
     "text": [
      "['7D', 'FS16B']\n",
      "[###############                         ] | 37% Completed | 10hr 54mAll prediction shape: (2, 5, 3599, 6000)\n",
      "[###############                         ] | 37% Completed | 10hr 58m391 P picks\n",
      "389 S picks\n"
     ]
    },
    {
     "name": "stderr",
     "output_type": "stream",
     "text": [
      "/tmp/ipykernel_523718/2319557713.py:13: RuntimeWarning: All-NaN axis encountered\n",
      "  np.nanmax([stack[idx:idx + twin], _data[iseg+1, :]], axis = 0)\n"
     ]
    },
    {
     "name": "stdout",
     "output_type": "stream",
     "text": [
      "['7D', 'M14B']\n",
      "[###############                         ] | 38% Completed | 10hr 58mAll prediction shape: (2, 5, 1438, 6000)\n",
      "[###############                         ] | 38% Completed | 10hr 59m168 P picks\n",
      "59 S picks\n"
     ]
    },
    {
     "name": "stderr",
     "output_type": "stream",
     "text": [
      "/tmp/ipykernel_523718/2319557713.py:13: RuntimeWarning: All-NaN axis encountered\n",
      "  np.nanmax([stack[idx:idx + twin], _data[iseg+1, :]], axis = 0)\n",
      "WARNING:root:No stream returned. Skipping.\n"
     ]
    },
    {
     "name": "stdout",
     "output_type": "stream",
     "text": [
      "['NC', 'KBO']\n",
      "['NC', 'KOM']\n",
      "[###############                         ] | 38% Completed | 10hr 59m"
     ]
    },
    {
     "name": "stderr",
     "output_type": "stream",
     "text": [
      "WARNING:root:No stream returned. Skipping.\n",
      "WARNING:root:No stream returned. Skipping.\n"
     ]
    },
    {
     "name": "stdout",
     "output_type": "stream",
     "text": [
      "['NC', 'KBO']\n",
      "['7D', 'FS16B']\n",
      "[###############                         ] | 38% Completed | 10hr 59mAll prediction shape: (2, 5, 3599, 6000)\n",
      "[###############                         ] | 38% Completed | 11hr 4mm408 P picks\n",
      "443 S picks\n"
     ]
    },
    {
     "name": "stderr",
     "output_type": "stream",
     "text": [
      "/tmp/ipykernel_523718/2319557713.py:13: RuntimeWarning: All-NaN axis encountered\n",
      "  np.nanmax([stack[idx:idx + twin], _data[iseg+1, :]], axis = 0)\n"
     ]
    },
    {
     "name": "stdout",
     "output_type": "stream",
     "text": [
      "['7D', 'FS09B']\n",
      "[###############                         ] | 38% Completed | 11hr 4mAll prediction shape: (2, 5, 1439, 6000)\n",
      "[###############                         ] | 38% Completed | 11hr 4m257 P picks\n",
      "246 S picks\n",
      "[###############                         ] | 38% Completed | 11hr 4m['7D', 'M12B']\n",
      "[###############                         ] | 38% Completed | 11hr 4m"
     ]
    },
    {
     "name": "stderr",
     "output_type": "stream",
     "text": [
      "/tmp/ipykernel_523718/2319557713.py:13: RuntimeWarning: All-NaN axis encountered\n",
      "  np.nanmax([stack[idx:idx + twin], _data[iseg+1, :]], axis = 0)\n"
     ]
    },
    {
     "name": "stdout",
     "output_type": "stream",
     "text": [
      "[###############                         ] | 38% Completed | 11hr 5mAll prediction shape: (2, 5, 1439, 6000)\n",
      "[###############                         ] | 38% Completed | 11hr 5m176 P picks\n",
      "48 S picks\n",
      "['7D', 'J33B']\n",
      "[###############                         ] | 38% Completed | 11hr 5m"
     ]
    },
    {
     "name": "stderr",
     "output_type": "stream",
     "text": [
      "/tmp/ipykernel_523718/2319557713.py:13: RuntimeWarning: All-NaN axis encountered\n",
      "  np.nanmax([stack[idx:idx + twin], _data[iseg+1, :]], axis = 0)\n"
     ]
    },
    {
     "name": "stdout",
     "output_type": "stream",
     "text": [
      "[###############                         ] | 38% Completed | 11hr 6mAll prediction shape: (2, 5, 3599, 6000)\n",
      "[###############                         ] | 38% Completed | 11hr 10m"
     ]
    },
    {
     "name": "stderr",
     "output_type": "stream",
     "text": [
      "/tmp/ipykernel_523718/2319557713.py:13: RuntimeWarning: All-NaN axis encountered\n",
      "  np.nanmax([stack[idx:idx + twin], _data[iseg+1, :]], axis = 0)\n"
     ]
    },
    {
     "name": "stdout",
     "output_type": "stream",
     "text": [
      "351 P picks\n",
      "833 S picks\n",
      "['TA', 'I02D']\n",
      "[###############                         ] | 38% Completed | 11hr 10mAll prediction shape: (2, 5, 1151, 6000)\n",
      "[###############                         ] | 38% Completed | 11hr 11m19 P picks\n",
      "29 S picks\n",
      "['7D', 'FS16B']\n",
      "[###############                         ] | 39% Completed | 11hr 11m"
     ]
    },
    {
     "name": "stderr",
     "output_type": "stream",
     "text": [
      "/tmp/ipykernel_523718/2319557713.py:13: RuntimeWarning: All-NaN axis encountered\n",
      "  np.nanmax([stack[idx:idx + twin], _data[iseg+1, :]], axis = 0)\n"
     ]
    },
    {
     "name": "stdout",
     "output_type": "stream",
     "text": [
      "[###############                         ] | 39% Completed | 11hr 11mAll prediction shape: (2, 5, 3599, 6000)\n",
      "[###############                         ] | 39% Completed | 11hr 15m"
     ]
    },
    {
     "name": "stderr",
     "output_type": "stream",
     "text": [
      "/tmp/ipykernel_523718/2319557713.py:13: RuntimeWarning: All-NaN axis encountered\n",
      "  np.nanmax([stack[idx:idx + twin], _data[iseg+1, :]], axis = 0)\n"
     ]
    },
    {
     "name": "stdout",
     "output_type": "stream",
     "text": [
      "457 P picks\n",
      "425 S picks\n",
      "['7D', 'FS13B']\n",
      "[###############                         ] | 39% Completed | 11hr 15mAll prediction shape: (2, 5, 3599, 6000)\n",
      "[###############                         ] | 39% Completed | 11hr 20m373 P picks\n",
      "271 S picks\n",
      "[###############                         ] | 39% Completed | 11hr 20m"
     ]
    },
    {
     "name": "stderr",
     "output_type": "stream",
     "text": [
      "/tmp/ipykernel_523718/2319557713.py:13: RuntimeWarning: All-NaN axis encountered\n",
      "  np.nanmax([stack[idx:idx + twin], _data[iseg+1, :]], axis = 0)\n"
     ]
    },
    {
     "name": "stdout",
     "output_type": "stream",
     "text": [
      "['TA', 'J01E']\n",
      "[###############                         ] | 39% Completed | 11hr 20mAll prediction shape: (2, 5, 1151, 6000)\n",
      "[###############                         ] | 39% Completed | 11hr 20m40 P picks\n",
      "15 S picks\n",
      "['NC', 'KSXB']\n",
      "[###############                         ] | 39% Completed | 11hr 20m"
     ]
    },
    {
     "name": "stderr",
     "output_type": "stream",
     "text": [
      "/tmp/ipykernel_523718/2319557713.py:13: RuntimeWarning: All-NaN axis encountered\n",
      "  np.nanmax([stack[idx:idx + twin], _data[iseg+1, :]], axis = 0)\n",
      "WARNING:root:No stream returned. Skipping.\n"
     ]
    },
    {
     "name": "stdout",
     "output_type": "stream",
     "text": [
      "['7D', 'G17B']\n",
      "[###############                         ] | 39% Completed | 11hr 21mAll prediction shape: (2, 5, 3599, 6000)\n",
      "[###############                         ] | 39% Completed | 11hr 25m528 P picks\n",
      "572 S picks\n",
      "[###############                         ] | 39% Completed | 11hr 25m"
     ]
    },
    {
     "name": "stderr",
     "output_type": "stream",
     "text": [
      "/tmp/ipykernel_523718/2319557713.py:13: RuntimeWarning: All-NaN axis encountered\n",
      "  np.nanmax([stack[idx:idx + twin], _data[iseg+1, :]], axis = 0)\n"
     ]
    },
    {
     "name": "stdout",
     "output_type": "stream",
     "text": [
      "['7D', 'FS09B']\n",
      "[###############                         ] | 39% Completed | 11hr 25mAll prediction shape: (2, 5, 1439, 6000)\n",
      "[###############                         ] | 39% Completed | 11hr 26m137 P picks\n",
      "109 S picks\n",
      "['7D', 'FS09B']\n",
      "[###############                         ] | 39% Completed | 11hr 26m"
     ]
    },
    {
     "name": "stderr",
     "output_type": "stream",
     "text": [
      "/tmp/ipykernel_523718/2319557713.py:13: RuntimeWarning: All-NaN axis encountered\n",
      "  np.nanmax([stack[idx:idx + twin], _data[iseg+1, :]], axis = 0)\n"
     ]
    },
    {
     "name": "stdout",
     "output_type": "stream",
     "text": [
      "[###############                         ] | 39% Completed | 11hr 26mAll prediction shape: (2, 5, 1439, 6000)\n",
      "[###############                         ] | 39% Completed | 11hr 27m114 P picks\n",
      "94 S picks\n",
      "['7D', 'M09B']\n",
      "[###############                         ] | 39% Completed | 11hr 27m"
     ]
    },
    {
     "name": "stderr",
     "output_type": "stream",
     "text": [
      "/tmp/ipykernel_523718/2319557713.py:13: RuntimeWarning: All-NaN axis encountered\n",
      "  np.nanmax([stack[idx:idx + twin], _data[iseg+1, :]], axis = 0)\n"
     ]
    },
    {
     "name": "stdout",
     "output_type": "stream",
     "text": [
      "[###############                         ] | 39% Completed | 11hr 27mAll prediction shape: (2, 5, 3599, 6000)\n",
      "[###############                         ] | 39% Completed | 11hr 31m435 P picks\n",
      "498 S picks\n",
      "[###############                         ] | 39% Completed | 11hr 31m"
     ]
    },
    {
     "name": "stderr",
     "output_type": "stream",
     "text": [
      "/tmp/ipykernel_523718/2319557713.py:13: RuntimeWarning: All-NaN axis encountered\n",
      "  np.nanmax([stack[idx:idx + twin], _data[iseg+1, :]], axis = 0)\n"
     ]
    },
    {
     "name": "stdout",
     "output_type": "stream",
     "text": [
      "['7D', 'M09B']\n",
      "[###############                         ] | 39% Completed | 11hr 32mAll prediction shape: (2, 5, 3599, 6000)\n",
      "[###############                         ] | 39% Completed | 11hr 36m424 P picks\n",
      "493 S picks\n"
     ]
    },
    {
     "name": "stderr",
     "output_type": "stream",
     "text": [
      "/tmp/ipykernel_523718/2319557713.py:13: RuntimeWarning: All-NaN axis encountered\n",
      "  np.nanmax([stack[idx:idx + twin], _data[iseg+1, :]], axis = 0)\n"
     ]
    },
    {
     "name": "stdout",
     "output_type": "stream",
     "text": [
      "['UW', 'BABR']\n",
      "[################                        ] | 40% Completed | 11hr 36mAll prediction shape: (2, 5, 1151, 6000)\n",
      "[################                        ] | 40% Completed | 11hr 36m3 P picks\n",
      "0 S picks\n",
      "['7D', 'FS09B']\n",
      "[################                        ] | 40% Completed | 11hr 36m"
     ]
    },
    {
     "name": "stderr",
     "output_type": "stream",
     "text": [
      "/tmp/ipykernel_523718/2319557713.py:13: RuntimeWarning: All-NaN axis encountered\n",
      "  np.nanmax([stack[idx:idx + twin], _data[iseg+1, :]], axis = 0)\n"
     ]
    },
    {
     "name": "stdout",
     "output_type": "stream",
     "text": [
      "[################                        ] | 40% Completed | 11hr 37mAll prediction shape: (2, 5, 1439, 6000)\n",
      "[################                        ] | 40% Completed | 11hr 37m153 P picks\n",
      "134 S picks\n",
      "['BK', 'JCC']\n",
      "[################                        ] | 40% Completed | 11hr 37m"
     ]
    },
    {
     "name": "stderr",
     "output_type": "stream",
     "text": [
      "/tmp/ipykernel_523718/2319557713.py:13: RuntimeWarning: All-NaN axis encountered\n",
      "  np.nanmax([stack[idx:idx + twin], _data[iseg+1, :]], axis = 0)\n",
      "WARNING:root:No stream returned. Skipping.\n",
      "WARNING:root:No stream returned. Skipping.\n"
     ]
    },
    {
     "name": "stdout",
     "output_type": "stream",
     "text": [
      "['TA', 'J01E']\n",
      "['7D', 'J33B']\n",
      "[################                        ] | 40% Completed | 11hr 38mAll prediction shape: (2, 5, 3599, 6000)\n",
      "[################                        ] | 40% Completed | 11hr 42m237 P picks\n",
      "519 S picks\n"
     ]
    },
    {
     "name": "stderr",
     "output_type": "stream",
     "text": [
      "/tmp/ipykernel_523718/2319557713.py:13: RuntimeWarning: All-NaN axis encountered\n",
      "  np.nanmax([stack[idx:idx + twin], _data[iseg+1, :]], axis = 0)\n"
     ]
    },
    {
     "name": "stdout",
     "output_type": "stream",
     "text": [
      "['7D', 'FS13B']\n",
      "[################                        ] | 40% Completed | 11hr 42mAll prediction shape: (2, 5, 3599, 6000)\n",
      "[################                        ] | 40% Completed | 11hr 46m"
     ]
    },
    {
     "name": "stderr",
     "output_type": "stream",
     "text": [
      "/tmp/ipykernel_523718/2319557713.py:13: RuntimeWarning: All-NaN axis encountered\n",
      "  np.nanmax([stack[idx:idx + twin], _data[iseg+1, :]], axis = 0)\n"
     ]
    },
    {
     "name": "stdout",
     "output_type": "stream",
     "text": [
      "590 P picks\n",
      "285 S picks\n",
      "['7D', 'FS16B']\n",
      "[################                        ] | 40% Completed | 11hr 47mAll prediction shape: (2, 5, 3599, 6000)\n",
      "[################                        ] | 40% Completed | 11hr 51m375 P picks\n",
      "403 S picks\n"
     ]
    },
    {
     "name": "stderr",
     "output_type": "stream",
     "text": [
      "/tmp/ipykernel_523718/2319557713.py:13: RuntimeWarning: All-NaN axis encountered\n",
      "  np.nanmax([stack[idx:idx + twin], _data[iseg+1, :]], axis = 0)\n"
     ]
    },
    {
     "name": "stdout",
     "output_type": "stream",
     "text": [
      "['7D', 'J33B']\n",
      "[################                        ] | 40% Completed | 11hr 51mAll prediction shape: (2, 5, 3599, 6000)\n",
      "[################                        ] | 40% Completed | 11hr 55m"
     ]
    },
    {
     "name": "stderr",
     "output_type": "stream",
     "text": [
      "/tmp/ipykernel_523718/2319557713.py:13: RuntimeWarning: All-NaN axis encountered\n",
      "  np.nanmax([stack[idx:idx + twin], _data[iseg+1, :]], axis = 0)\n"
     ]
    },
    {
     "name": "stdout",
     "output_type": "stream",
     "text": [
      "278 P picks\n",
      "566 S picks\n",
      "['7D', 'G10B']\n",
      "[################                        ] | 40% Completed | 11hr 56mAll prediction shape: (2, 5, 1439, 6000)\n",
      "[################                        ] | 40% Completed | 11hr 56m95 P picks\n",
      "36 S picks\n",
      "['7D', 'J09B']\n",
      "[################                        ] | 41% Completed | 11hr 56m"
     ]
    },
    {
     "name": "stderr",
     "output_type": "stream",
     "text": [
      "/tmp/ipykernel_523718/2319557713.py:13: RuntimeWarning: All-NaN axis encountered\n",
      "  np.nanmax([stack[idx:idx + twin], _data[iseg+1, :]], axis = 0)\n"
     ]
    },
    {
     "name": "stdout",
     "output_type": "stream",
     "text": [
      "[################                        ] | 41% Completed | 11hr 57mAll prediction shape: (2, 5, 1438, 6000)\n",
      "[################                        ] | 41% Completed | 11hr 57m119 P picks\n",
      "27 S picks\n"
     ]
    },
    {
     "name": "stderr",
     "output_type": "stream",
     "text": [
      "/tmp/ipykernel_523718/2319557713.py:13: RuntimeWarning: All-NaN axis encountered\n",
      "  np.nanmax([stack[idx:idx + twin], _data[iseg+1, :]], axis = 0)\n",
      "WARNING:root:No stream returned. Skipping.\n"
     ]
    },
    {
     "name": "stdout",
     "output_type": "stream",
     "text": [
      "['NC', 'KEB']\n",
      "['7D', 'J25B']\n",
      "[################                        ] | 41% Completed | 11hr 58mAll prediction shape: (2, 5, 3599, 6000)\n",
      "[################                        ] | 41% Completed | 12hr 2mm578 P picks\n",
      "674 S picks\n",
      "[################                        ] | 41% Completed | 12hr 2m"
     ]
    },
    {
     "name": "stderr",
     "output_type": "stream",
     "text": [
      "/tmp/ipykernel_523718/2319557713.py:13: RuntimeWarning: All-NaN axis encountered\n",
      "  np.nanmax([stack[idx:idx + twin], _data[iseg+1, :]], axis = 0)\n"
     ]
    },
    {
     "name": "stdout",
     "output_type": "stream",
     "text": [
      "['7D', 'M09B']\n",
      "[################                        ] | 41% Completed | 12hr 2mAll prediction shape: (2, 5, 3599, 6000)\n",
      "[################                        ] | 41% Completed | 12hr 6m485 P picks\n",
      "524 S picks\n",
      "[################                        ] | 41% Completed | 12hr 6m"
     ]
    },
    {
     "name": "stderr",
     "output_type": "stream",
     "text": [
      "/tmp/ipykernel_523718/2319557713.py:13: RuntimeWarning: All-NaN axis encountered\n",
      "  np.nanmax([stack[idx:idx + twin], _data[iseg+1, :]], axis = 0)\n"
     ]
    },
    {
     "name": "stdout",
     "output_type": "stream",
     "text": [
      "['7D', 'G10B']\n",
      "[################                        ] | 41% Completed | 12hr 7mAll prediction shape: (2, 5, 1439, 6000)\n",
      "[################                        ] | 41% Completed | 12hr 7m41 P picks\n",
      "27 S picks\n",
      "['7D', 'M12B']\n",
      "[################                        ] | 41% Completed | 12hr 7m"
     ]
    },
    {
     "name": "stderr",
     "output_type": "stream",
     "text": [
      "/tmp/ipykernel_523718/2319557713.py:13: RuntimeWarning: All-NaN axis encountered\n",
      "  np.nanmax([stack[idx:idx + twin], _data[iseg+1, :]], axis = 0)\n"
     ]
    },
    {
     "name": "stdout",
     "output_type": "stream",
     "text": [
      "[################                        ] | 41% Completed | 12hr 7mAll prediction shape: (2, 5, 1439, 6000)\n",
      "[################                        ] | 41% Completed | 12hr 8m163 P picks\n",
      "45 S picks\n",
      "['NC', 'KBO']\n",
      "[################                        ] | 41% Completed | 12hr 8m"
     ]
    },
    {
     "name": "stderr",
     "output_type": "stream",
     "text": [
      "/tmp/ipykernel_523718/2319557713.py:13: RuntimeWarning: All-NaN axis encountered\n",
      "  np.nanmax([stack[idx:idx + twin], _data[iseg+1, :]], axis = 0)\n",
      "WARNING:root:No stream returned. Skipping.\n"
     ]
    },
    {
     "name": "stdout",
     "output_type": "stream",
     "text": [
      "['7D', 'G27B']\n",
      "[################                        ] | 41% Completed | 12hr 8mAll prediction shape: (2, 5, 1438, 6000)\n",
      "[################                        ] | 41% Completed | 12hr 9m112 P picks\n",
      "76 S picks\n"
     ]
    },
    {
     "name": "stderr",
     "output_type": "stream",
     "text": [
      "/tmp/ipykernel_523718/2319557713.py:13: RuntimeWarning: All-NaN axis encountered\n",
      "  np.nanmax([stack[idx:idx + twin], _data[iseg+1, :]], axis = 0)\n",
      "WARNING:root:No stream returned. Skipping.\n"
     ]
    },
    {
     "name": "stdout",
     "output_type": "stream",
     "text": [
      "['NC', 'KMPB']\n",
      "['NC', 'KRMB']\n",
      "[################                        ] | 42% Completed | 12hr 9m"
     ]
    },
    {
     "name": "stderr",
     "output_type": "stream",
     "text": [
      "WARNING:root:No stream returned. Skipping.\n",
      "WARNING:root:No stream returned. Skipping.\n"
     ]
    },
    {
     "name": "stdout",
     "output_type": "stream",
     "text": [
      "['NC', 'KRMB']\n",
      "['7D', 'J33B']\n",
      "[################                        ] | 42% Completed | 12hr 10mAll prediction shape: (2, 5, 3599, 6000)\n",
      "[################                        ] | 42% Completed | 12hr 14m227 P picks\n",
      "484 S picks\n",
      "[################                        ] | 42% Completed | 12hr 14m"
     ]
    },
    {
     "name": "stderr",
     "output_type": "stream",
     "text": [
      "/tmp/ipykernel_523718/2319557713.py:13: RuntimeWarning: All-NaN axis encountered\n",
      "  np.nanmax([stack[idx:idx + twin], _data[iseg+1, :]], axis = 0)\n",
      "WARNING:root:No stream returned. Skipping.\n"
     ]
    },
    {
     "name": "stdout",
     "output_type": "stream",
     "text": [
      "['NC', 'KHMB']\n",
      "['7D', 'FS13B']\n",
      "[################                        ] | 42% Completed | 12hr 14mAll prediction shape: (2, 5, 3599, 6000)\n",
      "[################                        ] | 42% Completed | 12hr 18m572 P picks\n",
      "250 S picks\n",
      "[################                        ] | 42% Completed | 12hr 18m"
     ]
    },
    {
     "name": "stderr",
     "output_type": "stream",
     "text": [
      "/tmp/ipykernel_523718/2319557713.py:13: RuntimeWarning: All-NaN axis encountered\n",
      "  np.nanmax([stack[idx:idx + twin], _data[iseg+1, :]], axis = 0)\n",
      "WARNING:root:No stream returned. Skipping.\n"
     ]
    },
    {
     "name": "stdout",
     "output_type": "stream",
     "text": [
      "['NC', 'KEB']\n",
      "['7D', 'FS17B']\n",
      "[#################                       ] | 42% Completed | 12hr 19mAll prediction shape: (2, 5, 3599, 6000)\n",
      "[#################                       ] | 42% Completed | 12hr 23m424 P picks\n",
      "168 S picks\n"
     ]
    },
    {
     "name": "stderr",
     "output_type": "stream",
     "text": [
      "/tmp/ipykernel_523718/2319557713.py:13: RuntimeWarning: All-NaN axis encountered\n",
      "  np.nanmax([stack[idx:idx + twin], _data[iseg+1, :]], axis = 0)\n"
     ]
    },
    {
     "name": "stdout",
     "output_type": "stream",
     "text": [
      "['7D', 'G26B']\n",
      "[#################                       ] | 42% Completed | 12hr 23mAll prediction shape: (2, 5, 3598, 6000)\n",
      "[#################                       ] | 42% Completed | 12hr 28m56 P picks\n",
      "66 S picks\n"
     ]
    },
    {
     "name": "stderr",
     "output_type": "stream",
     "text": [
      "/tmp/ipykernel_523718/2319557713.py:13: RuntimeWarning: All-NaN axis encountered\n",
      "  np.nanmax([stack[idx:idx + twin], _data[iseg+1, :]], axis = 0)\n"
     ]
    },
    {
     "name": "stdout",
     "output_type": "stream",
     "text": [
      "['NC', 'KBO']\n",
      "[#################                       ] | 42% Completed | 12hr 28m"
     ]
    },
    {
     "name": "stderr",
     "output_type": "stream",
     "text": [
      "WARNING:root:No stream returned. Skipping.\n"
     ]
    },
    {
     "name": "stdout",
     "output_type": "stream",
     "text": [
      "['7D', 'FS13B']\n",
      "[#################                       ] | 43% Completed | 12hr 28mAll prediction shape: (2, 5, 3599, 6000)\n",
      "[#################                       ] | 43% Completed | 12hr 32m354 P picks\n",
      "307 S picks\n"
     ]
    },
    {
     "name": "stderr",
     "output_type": "stream",
     "text": [
      "/tmp/ipykernel_523718/2319557713.py:13: RuntimeWarning: All-NaN axis encountered\n",
      "  np.nanmax([stack[idx:idx + twin], _data[iseg+1, :]], axis = 0)\n"
     ]
    },
    {
     "name": "stdout",
     "output_type": "stream",
     "text": [
      "['NC', 'KHMB']\n",
      "[#################                       ] | 43% Completed | 12hr 32m"
     ]
    },
    {
     "name": "stderr",
     "output_type": "stream",
     "text": [
      "WARNING:root:No stream returned. Skipping.\n"
     ]
    },
    {
     "name": "stdout",
     "output_type": "stream",
     "text": [
      "['7D', 'J33B']\n",
      "[#################                       ] | 43% Completed | 12hr 32mAll prediction shape: (2, 5, 3599, 6000)\n",
      "[#################                       ] | 43% Completed | 12hr 37m247 P picks\n",
      "499 S picks\n",
      "[#################                       ] | 43% Completed | 12hr 37m"
     ]
    },
    {
     "name": "stderr",
     "output_type": "stream",
     "text": [
      "/tmp/ipykernel_523718/2319557713.py:13: RuntimeWarning: All-NaN axis encountered\n",
      "  np.nanmax([stack[idx:idx + twin], _data[iseg+1, :]], axis = 0)\n",
      "WARNING:root:No stream returned. Skipping.\n"
     ]
    },
    {
     "name": "stdout",
     "output_type": "stream",
     "text": [
      "['NC', 'KMPB']\n",
      "['7D', 'M14B']\n",
      "[#################                       ] | 43% Completed | 12hr 37mAll prediction shape: (2, 5, 1439, 6000)\n",
      "[#################                       ] | 43% Completed | 12hr 38m143 P picks\n",
      "54 S picks\n",
      "['TA', 'I02D']\n",
      "[#################                       ] | 43% Completed | 12hr 38m"
     ]
    },
    {
     "name": "stderr",
     "output_type": "stream",
     "text": [
      "/tmp/ipykernel_523718/2319557713.py:13: RuntimeWarning: All-NaN axis encountered\n",
      "  np.nanmax([stack[idx:idx + twin], _data[iseg+1, :]], axis = 0)\n"
     ]
    },
    {
     "name": "stdout",
     "output_type": "stream",
     "text": [
      "[#################                       ] | 43% Completed | 12hr 38mAll prediction shape: (2, 5, 1151, 6000)\n",
      "[#################                       ] | 43% Completed | 12hr 38m21 P picks\n",
      "21 S picks\n",
      "['7D', 'M14B']\n",
      "[#################                       ] | 43% Completed | 12hr 38m"
     ]
    },
    {
     "name": "stderr",
     "output_type": "stream",
     "text": [
      "/tmp/ipykernel_523718/2319557713.py:13: RuntimeWarning: All-NaN axis encountered\n",
      "  np.nanmax([stack[idx:idx + twin], _data[iseg+1, :]], axis = 0)\n"
     ]
    },
    {
     "name": "stdout",
     "output_type": "stream",
     "text": [
      "[#################                       ] | 43% Completed | 12hr 38mAll prediction shape: (2, 5, 1438, 6000)\n",
      "[#################                       ] | 43% Completed | 12hr 39m185 P picks\n",
      "83 S picks\n"
     ]
    },
    {
     "name": "stderr",
     "output_type": "stream",
     "text": [
      "/tmp/ipykernel_523718/2319557713.py:13: RuntimeWarning: All-NaN axis encountered\n",
      "  np.nanmax([stack[idx:idx + twin], _data[iseg+1, :]], axis = 0)\n",
      "WARNING:root:No stream returned. Skipping.\n"
     ]
    },
    {
     "name": "stdout",
     "output_type": "stream",
     "text": [
      "['NC', 'KEB']\n",
      "['7D', 'G19B']\n",
      "[#################                       ] | 43% Completed | 12hr 39mAll prediction shape: (2, 5, 1439, 6000)\n",
      "[#################                       ] | 43% Completed | 12hr 40m40 P picks\n",
      "17 S picks\n"
     ]
    },
    {
     "name": "stderr",
     "output_type": "stream",
     "text": [
      "/tmp/ipykernel_523718/2319557713.py:13: RuntimeWarning: All-NaN axis encountered\n",
      "  np.nanmax([stack[idx:idx + twin], _data[iseg+1, :]], axis = 0)\n",
      "WARNING:root:No stream returned. Skipping.\n"
     ]
    },
    {
     "name": "stdout",
     "output_type": "stream",
     "text": [
      "['NC', 'KMPB']\n",
      "['7D', 'G17B']\n",
      "[#################                       ] | 44% Completed | 12hr 41mAll prediction shape: (2, 5, 3598, 6000)\n",
      "[#################                       ] | 44% Completed | 12hr 45m597 P picks\n",
      "429 S picks\n",
      "[#################                       ] | 44% Completed | 12hr 45m"
     ]
    },
    {
     "name": "stderr",
     "output_type": "stream",
     "text": [
      "/tmp/ipykernel_523718/2319557713.py:13: RuntimeWarning: All-NaN axis encountered\n",
      "  np.nanmax([stack[idx:idx + twin], _data[iseg+1, :]], axis = 0)\n",
      "WARNING:root:No stream returned. Skipping.\n"
     ]
    },
    {
     "name": "stdout",
     "output_type": "stream",
     "text": [
      "['BK', 'JCC']\n",
      "['7D', 'G25B']\n",
      "[#################                       ] | 44% Completed | 12hr 45mAll prediction shape: (2, 5, 3599, 6000)\n",
      "[#################                       ] | 44% Completed | 12hr 49m555 P picks\n",
      "223 S picks\n"
     ]
    },
    {
     "name": "stderr",
     "output_type": "stream",
     "text": [
      "/tmp/ipykernel_523718/2319557713.py:13: RuntimeWarning: All-NaN axis encountered\n",
      "  np.nanmax([stack[idx:idx + twin], _data[iseg+1, :]], axis = 0)\n"
     ]
    },
    {
     "name": "stdout",
     "output_type": "stream",
     "text": [
      "['7D', 'G10B']\n",
      "[#################                       ] | 44% Completed | 12hr 50mAll prediction shape: (2, 5, 1439, 6000)\n",
      "[#################                       ] | 44% Completed | 12hr 50m40 P picks\n",
      "19 S picks\n",
      "['NC', 'KEB']\n",
      "[#################                       ] | 44% Completed | 12hr 50m"
     ]
    },
    {
     "name": "stderr",
     "output_type": "stream",
     "text": [
      "/tmp/ipykernel_523718/2319557713.py:13: RuntimeWarning: All-NaN axis encountered\n",
      "  np.nanmax([stack[idx:idx + twin], _data[iseg+1, :]], axis = 0)\n",
      "WARNING:root:No stream returned. Skipping.\n"
     ]
    },
    {
     "name": "stdout",
     "output_type": "stream",
     "text": [
      "['7D', 'G26B']\n",
      "[#################                       ] | 44% Completed | 12hr 51mAll prediction shape: (2, 5, 3598, 6000)\n",
      "[#################                       ] | 44% Completed | 12hr 55m161 P picks\n",
      "172 S picks\n",
      "['NC', 'KOM']\n",
      "[#################                       ] | 44% Completed | 12hr 55m"
     ]
    },
    {
     "name": "stderr",
     "output_type": "stream",
     "text": [
      "/tmp/ipykernel_523718/2319557713.py:13: RuntimeWarning: All-NaN axis encountered\n",
      "  np.nanmax([stack[idx:idx + twin], _data[iseg+1, :]], axis = 0)\n",
      "WARNING:root:No stream returned. Skipping.\n"
     ]
    },
    {
     "name": "stdout",
     "output_type": "stream",
     "text": [
      "['7D', 'G17B']\n",
      "[#################                       ] | 44% Completed | 12hr 55mAll prediction shape: (2, 5, 3598, 6000)\n",
      "[#################                       ] | 44% Completed | 12hr 59m449 P picks\n",
      "501 S picks\n",
      "[#################                       ] | 44% Completed | 12hr 59m"
     ]
    },
    {
     "name": "stderr",
     "output_type": "stream",
     "text": [
      "/tmp/ipykernel_523718/2319557713.py:13: RuntimeWarning: All-NaN axis encountered\n",
      "  np.nanmax([stack[idx:idx + twin], _data[iseg+1, :]], axis = 0)\n"
     ]
    },
    {
     "name": "stdout",
     "output_type": "stream",
     "text": [
      "['7D', 'M14B']\n",
      "[##################                      ] | 45% Completed | 13hr 0mmAll prediction shape: (2, 5, 1439, 6000)\n",
      "[##################                      ] | 45% Completed | 13hr 0m142 P picks\n",
      "54 S picks\n",
      "['7D', 'G10B']\n",
      "[##################                      ] | 45% Completed | 13hr 0m"
     ]
    },
    {
     "name": "stderr",
     "output_type": "stream",
     "text": [
      "/tmp/ipykernel_523718/2319557713.py:13: RuntimeWarning: All-NaN axis encountered\n",
      "  np.nanmax([stack[idx:idx + twin], _data[iseg+1, :]], axis = 0)\n"
     ]
    },
    {
     "name": "stdout",
     "output_type": "stream",
     "text": [
      "[##################                      ] | 45% Completed | 13hr 0mAll prediction shape: (2, 5, 1439, 6000)\n",
      "[##################                      ] | 45% Completed | 13hr 1m54 P picks\n",
      "20 S picks\n",
      "['7D', 'G25B']\n",
      "[##################                      ] | 45% Completed | 13hr 1m"
     ]
    },
    {
     "name": "stderr",
     "output_type": "stream",
     "text": [
      "/tmp/ipykernel_523718/2319557713.py:13: RuntimeWarning: All-NaN axis encountered\n",
      "  np.nanmax([stack[idx:idx + twin], _data[iseg+1, :]], axis = 0)\n"
     ]
    },
    {
     "name": "stdout",
     "output_type": "stream",
     "text": [
      "[##################                      ] | 45% Completed | 13hr 2mAll prediction shape: (2, 5, 3599, 6000)\n",
      "[##################                      ] | 45% Completed | 13hr 6m"
     ]
    },
    {
     "name": "stderr",
     "output_type": "stream",
     "text": [
      "/tmp/ipykernel_523718/2319557713.py:13: RuntimeWarning: All-NaN axis encountered\n",
      "  np.nanmax([stack[idx:idx + twin], _data[iseg+1, :]], axis = 0)\n"
     ]
    },
    {
     "name": "stdout",
     "output_type": "stream",
     "text": [
      "517 P picks\n",
      "165 S picks\n"
     ]
    },
    {
     "name": "stderr",
     "output_type": "stream",
     "text": [
      "WARNING:root:No stream returned. Skipping.\n"
     ]
    },
    {
     "name": "stdout",
     "output_type": "stream",
     "text": [
      "['NC', 'KOM']\n"
     ]
    },
    {
     "name": "stderr",
     "output_type": "stream",
     "text": [
      "WARNING:root:No stream returned. Skipping.\n"
     ]
    },
    {
     "name": "stdout",
     "output_type": "stream",
     "text": [
      "['BK', 'JCC']\n"
     ]
    },
    {
     "name": "stderr",
     "output_type": "stream",
     "text": [
      "WARNING:root:No stream returned. Skipping.\n"
     ]
    },
    {
     "name": "stdout",
     "output_type": "stream",
     "text": [
      "['NC', 'KSXB']\n"
     ]
    },
    {
     "name": "stderr",
     "output_type": "stream",
     "text": [
      "WARNING:root:No stream returned. Skipping.\n"
     ]
    },
    {
     "name": "stdout",
     "output_type": "stream",
     "text": [
      "['NC', 'KMPB']\n",
      "['TA', 'I02D']\n",
      "[##################                      ] | 45% Completed | 13hr 6mAll prediction shape: (2, 5, 1151, 6000)\n",
      "[##################                      ] | 45% Completed | 13hr 7m29 P picks\n",
      "25 S picks\n",
      "['7D', 'FS09B']\n",
      "[##################                      ] | 45% Completed | 13hr 7m"
     ]
    },
    {
     "name": "stderr",
     "output_type": "stream",
     "text": [
      "/tmp/ipykernel_523718/2319557713.py:13: RuntimeWarning: All-NaN axis encountered\n",
      "  np.nanmax([stack[idx:idx + twin], _data[iseg+1, :]], axis = 0)\n"
     ]
    },
    {
     "name": "stdout",
     "output_type": "stream",
     "text": [
      "[##################                      ] | 45% Completed | 13hr 7mAll prediction shape: (2, 5, 1439, 6000)\n",
      "[##################                      ] | 45% Completed | 13hr 8m97 P picks\n",
      "78 S picks\n",
      "['7D', 'J25B']\n",
      "[##################                      ] | 46% Completed | 13hr 8m"
     ]
    },
    {
     "name": "stderr",
     "output_type": "stream",
     "text": [
      "/tmp/ipykernel_523718/2319557713.py:13: RuntimeWarning: All-NaN axis encountered\n",
      "  np.nanmax([stack[idx:idx + twin], _data[iseg+1, :]], axis = 0)\n"
     ]
    },
    {
     "name": "stdout",
     "output_type": "stream",
     "text": [
      "[##################                      ] | 46% Completed | 13hr 8mAll prediction shape: (2, 5, 3599, 6000)\n",
      "[##################                      ] | 46% Completed | 13hr 12m403 P picks\n",
      "460 S picks\n"
     ]
    },
    {
     "name": "stderr",
     "output_type": "stream",
     "text": [
      "/tmp/ipykernel_523718/2319557713.py:13: RuntimeWarning: All-NaN axis encountered\n",
      "  np.nanmax([stack[idx:idx + twin], _data[iseg+1, :]], axis = 0)\n",
      "WARNING:root:No stream returned. Skipping.\n"
     ]
    },
    {
     "name": "stdout",
     "output_type": "stream",
     "text": [
      "['NC', 'KEB']\n",
      "['7D', 'G26B']\n",
      "[##################                      ] | 46% Completed | 13hr 12mAll prediction shape: (2, 5, 3598, 6000)\n",
      "[##################                      ] | 46% Completed | 13hr 17m90 P picks\n",
      "57 S picks\n"
     ]
    },
    {
     "name": "stderr",
     "output_type": "stream",
     "text": [
      "/tmp/ipykernel_523718/2319557713.py:13: RuntimeWarning: All-NaN axis encountered\n",
      "  np.nanmax([stack[idx:idx + twin], _data[iseg+1, :]], axis = 0)\n"
     ]
    },
    {
     "name": "stdout",
     "output_type": "stream",
     "text": [
      "['TA', 'J01E']\n",
      "[##################                      ] | 46% Completed | 13hr 17mAll prediction shape: (2, 5, 1150, 6000)\n",
      "[##################                      ] | 46% Completed | 13hr 18m29 P picks\n",
      "24 S picks\n",
      "['7D', 'M09B']\n",
      "[##################                      ] | 46% Completed | 13hr 18m"
     ]
    },
    {
     "name": "stderr",
     "output_type": "stream",
     "text": [
      "/tmp/ipykernel_523718/2319557713.py:13: RuntimeWarning: All-NaN axis encountered\n",
      "  np.nanmax([stack[idx:idx + twin], _data[iseg+1, :]], axis = 0)\n"
     ]
    },
    {
     "name": "stdout",
     "output_type": "stream",
     "text": [
      "[##################                      ] | 46% Completed | 13hr 18mAll prediction shape: (2, 5, 3599, 6000)\n",
      "[##################                      ] | 46% Completed | 13hr 22m514 P picks\n",
      "570 S picks\n",
      "[##################                      ] | 46% Completed | 13hr 22m"
     ]
    },
    {
     "name": "stderr",
     "output_type": "stream",
     "text": [
      "/tmp/ipykernel_523718/2319557713.py:13: RuntimeWarning: All-NaN axis encountered\n",
      "  np.nanmax([stack[idx:idx + twin], _data[iseg+1, :]], axis = 0)\n"
     ]
    },
    {
     "name": "stdout",
     "output_type": "stream",
     "text": [
      "['UW', 'BABR']\n",
      "[##################                      ] | 46% Completed | 13hr 22mAll prediction shape: (2, 5, 1151, 6000)\n",
      "[##################                      ] | 46% Completed | 13hr 23m16 P picks\n",
      "1 S picks\n",
      "['TA', 'J01E']\n",
      "[##################                      ] | 46% Completed | 13hr 23m"
     ]
    },
    {
     "name": "stderr",
     "output_type": "stream",
     "text": [
      "/tmp/ipykernel_523718/2319557713.py:13: RuntimeWarning: All-NaN axis encountered\n",
      "  np.nanmax([stack[idx:idx + twin], _data[iseg+1, :]], axis = 0)\n"
     ]
    },
    {
     "name": "stdout",
     "output_type": "stream",
     "text": [
      "[##################                      ] | 46% Completed | 13hr 23mAll prediction shape: (2, 5, 1151, 6000)\n",
      "[##################                      ] | 46% Completed | 13hr 23m38 P picks\n",
      "19 S picks\n"
     ]
    },
    {
     "name": "stderr",
     "output_type": "stream",
     "text": [
      "/tmp/ipykernel_523718/2319557713.py:13: RuntimeWarning: All-NaN axis encountered\n",
      "  np.nanmax([stack[idx:idx + twin], _data[iseg+1, :]], axis = 0)\n",
      "WARNING:root:No stream returned. Skipping.\n"
     ]
    },
    {
     "name": "stdout",
     "output_type": "stream",
     "text": [
      "['NC', 'KHBB']\n",
      "['7D', 'FS13B']\n",
      "[##################                      ] | 46% Completed | 13hr 24mAll prediction shape: (2, 5, 3599, 6000)\n",
      "[##################                      ] | 46% Completed | 13hr 28m229 P picks\n",
      "170 S picks\n"
     ]
    },
    {
     "name": "stderr",
     "output_type": "stream",
     "text": [
      "/tmp/ipykernel_523718/2319557713.py:13: RuntimeWarning: All-NaN axis encountered\n",
      "  np.nanmax([stack[idx:idx + twin], _data[iseg+1, :]], axis = 0)\n"
     ]
    },
    {
     "name": "stdout",
     "output_type": "stream",
     "text": [
      "['7D', 'G26B']\n",
      "[##################                      ] | 47% Completed | 13hr 28mAll prediction shape: (2, 5, 3599, 6000)\n",
      "[##################                      ] | 47% Completed | 13hr 32m136 P picks\n",
      "111 S picks\n"
     ]
    },
    {
     "name": "stderr",
     "output_type": "stream",
     "text": [
      "/tmp/ipykernel_523718/2319557713.py:13: RuntimeWarning: All-NaN axis encountered\n",
      "  np.nanmax([stack[idx:idx + twin], _data[iseg+1, :]], axis = 0)\n"
     ]
    },
    {
     "name": "stdout",
     "output_type": "stream",
     "text": [
      "['7D', 'FS09B']\n",
      "[##################                      ] | 47% Completed | 13hr 33mAll prediction shape: (2, 5, 1439, 6000)\n",
      "[##################                      ] | 47% Completed | 13hr 33m138 P picks\n",
      "104 S picks\n",
      "['7D', 'J33B']\n",
      "[##################                      ] | 47% Completed | 13hr 33m"
     ]
    },
    {
     "name": "stderr",
     "output_type": "stream",
     "text": [
      "/tmp/ipykernel_523718/2319557713.py:13: RuntimeWarning: All-NaN axis encountered\n",
      "  np.nanmax([stack[idx:idx + twin], _data[iseg+1, :]], axis = 0)\n"
     ]
    },
    {
     "name": "stdout",
     "output_type": "stream",
     "text": [
      "[##################                      ] | 47% Completed | 13hr 34mAll prediction shape: (2, 5, 3599, 6000)\n",
      "[##################                      ] | 47% Completed | 13hr 38m357 P picks\n",
      "779 S picks\n"
     ]
    },
    {
     "name": "stderr",
     "output_type": "stream",
     "text": [
      "/tmp/ipykernel_523718/2319557713.py:13: RuntimeWarning: All-NaN axis encountered\n",
      "  np.nanmax([stack[idx:idx + twin], _data[iseg+1, :]], axis = 0)\n"
     ]
    },
    {
     "name": "stdout",
     "output_type": "stream",
     "text": [
      "['7D', 'FS17B']\n",
      "[##################                      ] | 47% Completed | 13hr 38mAll prediction shape: (2, 5, 3599, 6000)\n",
      "[##################                      ] | 47% Completed | 13hr 43m604 P picks\n",
      "359 S picks\n"
     ]
    },
    {
     "name": "stderr",
     "output_type": "stream",
     "text": [
      "/tmp/ipykernel_523718/2319557713.py:13: RuntimeWarning: All-NaN axis encountered\n",
      "  np.nanmax([stack[idx:idx + twin], _data[iseg+1, :]], axis = 0)\n",
      "WARNING:root:No stream returned. Skipping.\n"
     ]
    },
    {
     "name": "stdout",
     "output_type": "stream",
     "text": [
      "['NC', 'KEB']\n"
     ]
    },
    {
     "name": "stderr",
     "output_type": "stream",
     "text": [
      "WARNING:root:No stream returned. Skipping.\n"
     ]
    },
    {
     "name": "stdout",
     "output_type": "stream",
     "text": [
      "['NC', 'KOM']\n",
      "['7D', 'J33B']\n",
      "[###################                     ] | 47% Completed | 13hr 43mAll prediction shape: (2, 5, 3599, 6000)\n",
      "[###################                     ] | 47% Completed | 13hr 47m210 P picks\n",
      "429 S picks\n"
     ]
    },
    {
     "name": "stderr",
     "output_type": "stream",
     "text": [
      "/tmp/ipykernel_523718/2319557713.py:13: RuntimeWarning: All-NaN axis encountered\n",
      "  np.nanmax([stack[idx:idx + twin], _data[iseg+1, :]], axis = 0)\n"
     ]
    },
    {
     "name": "stdout",
     "output_type": "stream",
     "text": [
      "['BK', 'JCC']\n",
      "\r",
      "[###################                     ] | 47% Completed | 13hr 47m"
     ]
    },
    {
     "name": "stderr",
     "output_type": "stream",
     "text": [
      "WARNING:root:No stream returned. Skipping.\n",
      "WARNING:root:No stream returned. Skipping.\n"
     ]
    },
    {
     "name": "stdout",
     "output_type": "stream",
     "text": [
      "['NC', 'KMPB']\n",
      "['NC', 'KOM']\n",
      "[###################                     ] | 48% Completed | 13hr 47m"
     ]
    },
    {
     "name": "stderr",
     "output_type": "stream",
     "text": [
      "WARNING:root:No stream returned. Skipping.\n"
     ]
    },
    {
     "name": "stdout",
     "output_type": "stream",
     "text": [
      "['7D', 'FS17B']\n",
      "[###################                     ] | 48% Completed | 13hr 48mAll prediction shape: (2, 5, 3599, 6000)\n",
      "[###################                     ] | 48% Completed | 13hr 52m423 P picks\n",
      "111 S picks\n"
     ]
    },
    {
     "name": "stderr",
     "output_type": "stream",
     "text": [
      "/tmp/ipykernel_523718/2319557713.py:13: RuntimeWarning: All-NaN axis encountered\n",
      "  np.nanmax([stack[idx:idx + twin], _data[iseg+1, :]], axis = 0)\n"
     ]
    },
    {
     "name": "stdout",
     "output_type": "stream",
     "text": [
      "['7D', 'FS17B']\n",
      "[###################                     ] | 48% Completed | 13hr 52mAll prediction shape: (2, 5, 3598, 6000)\n",
      "[###################                     ] | 48% Completed | 13hr 56m450 P picks\n",
      "63 S picks\n"
     ]
    },
    {
     "name": "stderr",
     "output_type": "stream",
     "text": [
      "/tmp/ipykernel_523718/2319557713.py:13: RuntimeWarning: All-NaN axis encountered\n",
      "  np.nanmax([stack[idx:idx + twin], _data[iseg+1, :]], axis = 0)\n"
     ]
    },
    {
     "name": "stdout",
     "output_type": "stream",
     "text": [
      "['TA', 'I02D']\n",
      "[###################                     ] | 48% Completed | 13hr 56mAll prediction shape: (2, 5, 1151, 6000)\n",
      "[###################                     ] | 48% Completed | 13hr 57m23 P picks\n",
      "11 S picks\n",
      "['7D', 'FS09B']\n",
      "[###################                     ] | 48% Completed | 13hr 57m"
     ]
    },
    {
     "name": "stderr",
     "output_type": "stream",
     "text": [
      "/tmp/ipykernel_523718/2319557713.py:13: RuntimeWarning: All-NaN axis encountered\n",
      "  np.nanmax([stack[idx:idx + twin], _data[iseg+1, :]], axis = 0)\n"
     ]
    },
    {
     "name": "stdout",
     "output_type": "stream",
     "text": [
      "[###################                     ] | 48% Completed | 13hr 57mAll prediction shape: (2, 5, 1439, 6000)\n",
      "[###################                     ] | 48% Completed | 13hr 58m151 P picks\n",
      "118 S picks\n"
     ]
    },
    {
     "name": "stderr",
     "output_type": "stream",
     "text": [
      "/tmp/ipykernel_523718/2319557713.py:13: RuntimeWarning: All-NaN axis encountered\n",
      "  np.nanmax([stack[idx:idx + twin], _data[iseg+1, :]], axis = 0)\n",
      "WARNING:root:No stream returned. Skipping.\n"
     ]
    },
    {
     "name": "stdout",
     "output_type": "stream",
     "text": [
      "['NC', 'KHMB']\n",
      "['7D', 'J09B']\n",
      "[###################                     ] | 48% Completed | 13hr 58mAll prediction shape: (2, 5, 1439, 6000)\n",
      "[###################                     ] | 48% Completed | 13hr 59m133 P picks\n",
      "56 S picks\n",
      "['7D', 'M09B']\n",
      "[###################                     ] | 48% Completed | 13hr 59m"
     ]
    },
    {
     "name": "stderr",
     "output_type": "stream",
     "text": [
      "/tmp/ipykernel_523718/2319557713.py:13: RuntimeWarning: All-NaN axis encountered\n",
      "  np.nanmax([stack[idx:idx + twin], _data[iseg+1, :]], axis = 0)\n"
     ]
    },
    {
     "name": "stdout",
     "output_type": "stream",
     "text": [
      "[###################                     ] | 48% Completed | 13hr 59mAll prediction shape: (2, 5, 3599, 6000)\n",
      "[###################                     ] | 48% Completed | 14hr 4mm491 P picks\n",
      "602 S picks\n"
     ]
    },
    {
     "name": "stderr",
     "output_type": "stream",
     "text": [
      "/tmp/ipykernel_523718/2319557713.py:13: RuntimeWarning: All-NaN axis encountered\n",
      "  np.nanmax([stack[idx:idx + twin], _data[iseg+1, :]], axis = 0)\n"
     ]
    },
    {
     "name": "stdout",
     "output_type": "stream",
     "text": [
      "['NC', 'KOM']\n",
      "[###################                     ] | 48% Completed | 14hr 4m"
     ]
    },
    {
     "name": "stderr",
     "output_type": "stream",
     "text": [
      "WARNING:root:No stream returned. Skipping.\n",
      "WARNING:root:No stream returned. Skipping.\n"
     ]
    },
    {
     "name": "stdout",
     "output_type": "stream",
     "text": [
      "['NC', 'KRMB']\n",
      "['7D', 'J33B']\n",
      "[###################                     ] | 49% Completed | 14hr 4mAll prediction shape: (2, 5, 3599, 6000)\n",
      "[###################                     ] | 49% Completed | 14hr 8m274 P picks\n",
      "583 S picks\n"
     ]
    },
    {
     "name": "stderr",
     "output_type": "stream",
     "text": [
      "/tmp/ipykernel_523718/2319557713.py:13: RuntimeWarning: All-NaN axis encountered\n",
      "  np.nanmax([stack[idx:idx + twin], _data[iseg+1, :]], axis = 0)\n"
     ]
    },
    {
     "name": "stdout",
     "output_type": "stream",
     "text": [
      "['NC', 'KBO']\n",
      "[###################                     ] | 49% Completed | 14hr 8m"
     ]
    },
    {
     "name": "stderr",
     "output_type": "stream",
     "text": [
      "WARNING:root:No stream returned. Skipping.\n",
      "WARNING:root:No stream returned. Skipping.\n"
     ]
    },
    {
     "name": "stdout",
     "output_type": "stream",
     "text": [
      "['NC', 'KEB']\n",
      "['NC', 'KOM']\n",
      "[###################                     ] | 49% Completed | 14hr 8m"
     ]
    },
    {
     "name": "stderr",
     "output_type": "stream",
     "text": [
      "WARNING:root:No stream returned. Skipping.\n"
     ]
    },
    {
     "name": "stdout",
     "output_type": "stream",
     "text": [
      "['7D', 'J33B']\n",
      "[###################                     ] | 49% Completed | 14hr 8mAll prediction shape: (2, 5, 3599, 6000)\n",
      "[###################                     ] | 49% Completed | 14hr 13m265 P picks\n",
      "476 S picks\n"
     ]
    },
    {
     "name": "stderr",
     "output_type": "stream",
     "text": [
      "/tmp/ipykernel_523718/2319557713.py:13: RuntimeWarning: All-NaN axis encountered\n",
      "  np.nanmax([stack[idx:idx + twin], _data[iseg+1, :]], axis = 0)\n"
     ]
    },
    {
     "name": "stdout",
     "output_type": "stream",
     "text": [
      "['7D', 'M12B']\n",
      "[###################                     ] | 49% Completed | 14hr 13mAll prediction shape: (2, 5, 1439, 6000)\n",
      "[###################                     ] | 49% Completed | 14hr 14m200 P picks\n",
      "66 S picks\n",
      "['7D', 'M12B']\n",
      "[###################                     ] | 49% Completed | 14hr 14m"
     ]
    },
    {
     "name": "stderr",
     "output_type": "stream",
     "text": [
      "/tmp/ipykernel_523718/2319557713.py:13: RuntimeWarning: All-NaN axis encountered\n",
      "  np.nanmax([stack[idx:idx + twin], _data[iseg+1, :]], axis = 0)\n"
     ]
    },
    {
     "name": "stdout",
     "output_type": "stream",
     "text": [
      "[###################                     ] | 49% Completed | 14hr 14mAll prediction shape: (2, 5, 1439, 6000)\n",
      "[###################                     ] | 49% Completed | 14hr 15m185 P picks\n",
      "86 S picks\n",
      "['7D', 'G19B']\n",
      "[###################                     ] | 49% Completed | 14hr 15m"
     ]
    },
    {
     "name": "stderr",
     "output_type": "stream",
     "text": [
      "/tmp/ipykernel_523718/2319557713.py:13: RuntimeWarning: All-NaN axis encountered\n",
      "  np.nanmax([stack[idx:idx + twin], _data[iseg+1, :]], axis = 0)\n"
     ]
    },
    {
     "name": "stdout",
     "output_type": "stream",
     "text": [
      "[###################                     ] | 49% Completed | 14hr 15mAll prediction shape: (2, 5, 1439, 6000)\n",
      "[###################                     ] | 49% Completed | 14hr 16m40 P picks\n",
      "24 S picks\n",
      "['7D', 'G17B']\n",
      "[####################                    ] | 50% Completed | 14hr 16m"
     ]
    },
    {
     "name": "stderr",
     "output_type": "stream",
     "text": [
      "/tmp/ipykernel_523718/2319557713.py:13: RuntimeWarning: All-NaN axis encountered\n",
      "  np.nanmax([stack[idx:idx + twin], _data[iseg+1, :]], axis = 0)\n"
     ]
    },
    {
     "name": "stdout",
     "output_type": "stream",
     "text": [
      "[####################                    ] | 50% Completed | 14hr 16mAll prediction shape: (2, 5, 3599, 6000)\n",
      "[####################                    ] | 50% Completed | 14hr 20m564 P picks\n",
      "441 S picks\n"
     ]
    },
    {
     "name": "stderr",
     "output_type": "stream",
     "text": [
      "/tmp/ipykernel_523718/2319557713.py:13: RuntimeWarning: All-NaN axis encountered\n",
      "  np.nanmax([stack[idx:idx + twin], _data[iseg+1, :]], axis = 0)\n"
     ]
    },
    {
     "name": "stdout",
     "output_type": "stream",
     "text": [
      "['NC', 'KHMB']\n",
      "[####################                    ] | 50% Completed | 14hr 20m"
     ]
    },
    {
     "name": "stderr",
     "output_type": "stream",
     "text": [
      "WARNING:root:No stream returned. Skipping.\n"
     ]
    },
    {
     "name": "stdout",
     "output_type": "stream",
     "text": [
      "['7D', 'M12B']\n",
      "[####################                    ] | 50% Completed | 14hr 20mAll prediction shape: (2, 5, 1439, 6000)\n",
      "[####################                    ] | 50% Completed | 14hr 21m205 P picks\n",
      "46 S picks\n",
      "['BK', 'JCC']\n",
      "[####################                    ] | 50% Completed | 14hr 21m"
     ]
    },
    {
     "name": "stderr",
     "output_type": "stream",
     "text": [
      "/tmp/ipykernel_523718/2319557713.py:13: RuntimeWarning: All-NaN axis encountered\n",
      "  np.nanmax([stack[idx:idx + twin], _data[iseg+1, :]], axis = 0)\n",
      "WARNING:root:No stream returned. Skipping.\n"
     ]
    },
    {
     "name": "stdout",
     "output_type": "stream",
     "text": [
      "['7D', 'G27B']\n",
      "[####################                    ] | 50% Completed | 14hr 21mAll prediction shape: (2, 5, 1439, 6000)\n",
      "[####################                    ] | 50% Completed | 14hr 22m30 P picks\n",
      "9 S picks\n",
      "['TA', 'J01E']\n",
      "[####################                    ] | 50% Completed | 14hr 22m"
     ]
    },
    {
     "name": "stderr",
     "output_type": "stream",
     "text": [
      "/tmp/ipykernel_523718/2319557713.py:13: RuntimeWarning: All-NaN axis encountered\n",
      "  np.nanmax([stack[idx:idx + twin], _data[iseg+1, :]], axis = 0)\n"
     ]
    },
    {
     "name": "stdout",
     "output_type": "stream",
     "text": [
      "[####################                    ] | 50% Completed | 14hr 22mAll prediction shape: (2, 5, 1151, 6000)\n",
      "[####################                    ] | 50% Completed | 14hr 23m17 P picks\n",
      "11 S picks\n",
      "['7D', 'FS17B']\n",
      "[####################                    ] | 50% Completed | 14hr 23m"
     ]
    },
    {
     "name": "stderr",
     "output_type": "stream",
     "text": [
      "/tmp/ipykernel_523718/2319557713.py:13: RuntimeWarning: All-NaN axis encountered\n",
      "  np.nanmax([stack[idx:idx + twin], _data[iseg+1, :]], axis = 0)\n"
     ]
    },
    {
     "name": "stdout",
     "output_type": "stream",
     "text": [
      "[####################                    ] | 50% Completed | 14hr 23mAll prediction shape: (2, 5, 3599, 6000)\n",
      "[####################                    ] | 50% Completed | 14hr 27m493 P picks\n",
      "221 S picks\n",
      "['NC', 'KHMB']\n",
      "[####################                    ] | 50% Completed | 14hr 27m"
     ]
    },
    {
     "name": "stderr",
     "output_type": "stream",
     "text": [
      "/tmp/ipykernel_523718/2319557713.py:13: RuntimeWarning: All-NaN axis encountered\n",
      "  np.nanmax([stack[idx:idx + twin], _data[iseg+1, :]], axis = 0)\n"
     ]
    },
    {
     "name": "stdout",
     "output_type": "stream",
     "text": [
      "\r",
      "[####################                    ] | 50% Completed | 14hr 27m"
     ]
    },
    {
     "name": "stderr",
     "output_type": "stream",
     "text": [
      "WARNING:root:No stream returned. Skipping.\n"
     ]
    },
    {
     "name": "stdout",
     "output_type": "stream",
     "text": [
      "['7D', 'J09B']\n",
      "[####################                    ] | 50% Completed | 14hr 28mAll prediction shape: (2, 5, 1439, 6000)\n",
      "[####################                    ] | 50% Completed | 14hr 28m86 P picks\n",
      "18 S picks\n",
      "['7D', 'G26B']\n",
      "[####################                    ] | 51% Completed | 14hr 28m"
     ]
    },
    {
     "name": "stderr",
     "output_type": "stream",
     "text": [
      "/tmp/ipykernel_523718/2319557713.py:13: RuntimeWarning: All-NaN axis encountered\n",
      "  np.nanmax([stack[idx:idx + twin], _data[iseg+1, :]], axis = 0)\n"
     ]
    },
    {
     "name": "stdout",
     "output_type": "stream",
     "text": [
      "[####################                    ] | 51% Completed | 14hr 29mAll prediction shape: (2, 5, 3598, 6000)\n",
      "[####################                    ] | 51% Completed | 14hr 33m68 P picks\n",
      "59 S picks\n"
     ]
    },
    {
     "name": "stderr",
     "output_type": "stream",
     "text": [
      "/tmp/ipykernel_523718/2319557713.py:13: RuntimeWarning: All-NaN axis encountered\n",
      "  np.nanmax([stack[idx:idx + twin], _data[iseg+1, :]], axis = 0)\n"
     ]
    },
    {
     "name": "stdout",
     "output_type": "stream",
     "text": [
      "['7D', 'G10B']\n",
      "[####################                    ] | 51% Completed | 14hr 33mAll prediction shape: (2, 5, 1439, 6000)\n",
      "[####################                    ] | 51% Completed | 14hr 34m49 P picks\n",
      "19 S picks\n",
      "['NC', 'KMPB']\n",
      "[####################                    ] | 51% Completed | 14hr 34m"
     ]
    },
    {
     "name": "stderr",
     "output_type": "stream",
     "text": [
      "/tmp/ipykernel_523718/2319557713.py:13: RuntimeWarning: All-NaN axis encountered\n",
      "  np.nanmax([stack[idx:idx + twin], _data[iseg+1, :]], axis = 0)\n",
      "WARNING:root:No stream returned. Skipping.\n"
     ]
    },
    {
     "name": "stdout",
     "output_type": "stream",
     "text": [
      "['7D', 'FS16B']\n",
      "[####################                    ] | 51% Completed | 14hr 34mAll prediction shape: (2, 5, 3599, 6000)\n",
      "[####################                    ] | 51% Completed | 14hr 39m399 P picks\n",
      "443 S picks\n",
      "[####################                    ] | 51% Completed | 14hr 39m"
     ]
    },
    {
     "name": "stderr",
     "output_type": "stream",
     "text": [
      "/tmp/ipykernel_523718/2319557713.py:13: RuntimeWarning: All-NaN axis encountered\n",
      "  np.nanmax([stack[idx:idx + twin], _data[iseg+1, :]], axis = 0)\n"
     ]
    },
    {
     "name": "stdout",
     "output_type": "stream",
     "text": [
      "['7D', 'G10B']\n",
      "[####################                    ] | 51% Completed | 14hr 39mAll prediction shape: (2, 5, 1439, 6000)\n",
      "[####################                    ] | 51% Completed | 14hr 40m44 P picks\n",
      "11 S picks\n",
      "['7D', 'FS17B']\n",
      "[####################                    ] | 51% Completed | 14hr 40m"
     ]
    },
    {
     "name": "stderr",
     "output_type": "stream",
     "text": [
      "/tmp/ipykernel_523718/2319557713.py:13: RuntimeWarning: All-NaN axis encountered\n",
      "  np.nanmax([stack[idx:idx + twin], _data[iseg+1, :]], axis = 0)\n"
     ]
    },
    {
     "name": "stdout",
     "output_type": "stream",
     "text": [
      "[####################                    ] | 51% Completed | 14hr 40mAll prediction shape: (2, 5, 3599, 6000)\n",
      "[####################                    ] | 51% Completed | 14hr 44m561 P picks\n",
      "545 S picks\n",
      "[####################                    ] | 51% Completed | 14hr 44m"
     ]
    },
    {
     "name": "stderr",
     "output_type": "stream",
     "text": [
      "/tmp/ipykernel_523718/2319557713.py:13: RuntimeWarning: All-NaN axis encountered\n",
      "  np.nanmax([stack[idx:idx + twin], _data[iseg+1, :]], axis = 0)\n"
     ]
    },
    {
     "name": "stdout",
     "output_type": "stream",
     "text": [
      "['TA', 'J01E']\n",
      "[####################                    ] | 51% Completed | 14hr 44mAll prediction shape: (2, 5, 1151, 6000)\n",
      "[####################                    ] | 51% Completed | 14hr 45m30 P picks\n",
      "18 S picks\n",
      "['7D', 'FS09B']\n",
      "[####################                    ] | 51% Completed | 14hr 45m"
     ]
    },
    {
     "name": "stderr",
     "output_type": "stream",
     "text": [
      "/tmp/ipykernel_523718/2319557713.py:13: RuntimeWarning: All-NaN axis encountered\n",
      "  np.nanmax([stack[idx:idx + twin], _data[iseg+1, :]], axis = 0)\n"
     ]
    },
    {
     "name": "stdout",
     "output_type": "stream",
     "text": [
      "[####################                    ] | 51% Completed | 14hr 45mAll prediction shape: (2, 5, 1439, 6000)\n",
      "[####################                    ] | 51% Completed | 14hr 46m148 P picks\n",
      "123 S picks\n",
      "['NC', 'KHBB']\n",
      "[####################                    ] | 51% Completed | 14hr 46m"
     ]
    },
    {
     "name": "stderr",
     "output_type": "stream",
     "text": [
      "/tmp/ipykernel_523718/2319557713.py:13: RuntimeWarning: All-NaN axis encountered\n",
      "  np.nanmax([stack[idx:idx + twin], _data[iseg+1, :]], axis = 0)\n"
     ]
    },
    {
     "name": "stdout",
     "output_type": "stream",
     "text": [
      "[####################                    ] | 51% Completed | 14hr 46m"
     ]
    },
    {
     "name": "stderr",
     "output_type": "stream",
     "text": [
      "WARNING:root:No stream returned. Skipping.\n",
      "WARNING:root:No stream returned. Skipping.\n"
     ]
    },
    {
     "name": "stdout",
     "output_type": "stream",
     "text": [
      "['NC', 'KBO']\n",
      "['7D', 'FS17B']\n",
      "[####################                    ] | 52% Completed | 14hr 46mAll prediction shape: (2, 5, 3599, 6000)\n",
      "[####################                    ] | 52% Completed | 14hr 50m"
     ]
    },
    {
     "name": "stderr",
     "output_type": "stream",
     "text": [
      "/tmp/ipykernel_523718/2319557713.py:13: RuntimeWarning: All-NaN axis encountered\n",
      "  np.nanmax([stack[idx:idx + twin], _data[iseg+1, :]], axis = 0)\n"
     ]
    },
    {
     "name": "stdout",
     "output_type": "stream",
     "text": [
      "683 P picks\n",
      "704 S picks\n"
     ]
    },
    {
     "name": "stderr",
     "output_type": "stream",
     "text": [
      "WARNING:root:No stream returned. Skipping.\n"
     ]
    },
    {
     "name": "stdout",
     "output_type": "stream",
     "text": [
      "['NC', 'KHBB']\n",
      "['NC', 'KEB']\n",
      "[####################                    ] | 52% Completed | 14hr 50m"
     ]
    },
    {
     "name": "stderr",
     "output_type": "stream",
     "text": [
      "WARNING:root:No stream returned. Skipping.\n",
      "WARNING:root:No stream returned. Skipping.\n"
     ]
    },
    {
     "name": "stdout",
     "output_type": "stream",
     "text": [
      "['NC', 'KEB']\n",
      "['7D', 'G19B']\n",
      "[#####################                   ] | 52% Completed | 14hr 50mAll prediction shape: (2, 5, 1439, 6000)\n",
      "[#####################                   ] | 52% Completed | 14hr 51m49 P picks\n",
      "38 S picks\n"
     ]
    },
    {
     "name": "stderr",
     "output_type": "stream",
     "text": [
      "/tmp/ipykernel_523718/2319557713.py:13: RuntimeWarning: All-NaN axis encountered\n",
      "  np.nanmax([stack[idx:idx + twin], _data[iseg+1, :]], axis = 0)\n",
      "WARNING:root:No stream returned. Skipping.\n"
     ]
    },
    {
     "name": "stdout",
     "output_type": "stream",
     "text": [
      "['NC', 'KSXB']\n",
      "['7D', 'G19B']\n",
      "[#####################                   ] | 52% Completed | 14hr 51mAll prediction shape: (2, 5, 1439, 6000)\n",
      "[#####################                   ] | 52% Completed | 14hr 52m72 P picks\n",
      "16 S picks\n",
      "['TA', 'J01E']\n",
      "[#####################                   ] | 52% Completed | 14hr 52m"
     ]
    },
    {
     "name": "stderr",
     "output_type": "stream",
     "text": [
      "/tmp/ipykernel_523718/2319557713.py:13: RuntimeWarning: All-NaN axis encountered\n",
      "  np.nanmax([stack[idx:idx + twin], _data[iseg+1, :]], axis = 0)\n"
     ]
    },
    {
     "name": "stdout",
     "output_type": "stream",
     "text": [
      "[#####################                   ] | 52% Completed | 14hr 52mAll prediction shape: (2, 5, 1151, 6000)\n",
      "[#####################                   ] | 52% Completed | 14hr 53m23 P picks\n",
      "8 S picks\n",
      "['7D', 'M09B']\n",
      "[#####################                   ] | 53% Completed | 14hr 53m"
     ]
    },
    {
     "name": "stderr",
     "output_type": "stream",
     "text": [
      "/tmp/ipykernel_523718/2319557713.py:13: RuntimeWarning: All-NaN axis encountered\n",
      "  np.nanmax([stack[idx:idx + twin], _data[iseg+1, :]], axis = 0)\n"
     ]
    },
    {
     "name": "stdout",
     "output_type": "stream",
     "text": [
      "[#####################                   ] | 53% Completed | 14hr 53mAll prediction shape: (2, 5, 3599, 6000)\n",
      "[#####################                   ] | 53% Completed | 14hr 58m480 P picks\n",
      "588 S picks\n"
     ]
    },
    {
     "name": "stderr",
     "output_type": "stream",
     "text": [
      "/tmp/ipykernel_523718/2319557713.py:13: RuntimeWarning: All-NaN axis encountered\n",
      "  np.nanmax([stack[idx:idx + twin], _data[iseg+1, :]], axis = 0)\n"
     ]
    },
    {
     "name": "stdout",
     "output_type": "stream",
     "text": [
      "['BK', 'JCC']\n",
      "[#####################                   ] | 53% Completed | 14hr 58m"
     ]
    },
    {
     "name": "stderr",
     "output_type": "stream",
     "text": [
      "WARNING:root:No stream returned. Skipping.\n",
      "WARNING:root:No stream returned. Skipping.\n"
     ]
    },
    {
     "name": "stdout",
     "output_type": "stream",
     "text": [
      "['NC', 'KHBB']\n",
      "['7D', 'J25B']\n",
      "[#####################                   ] | 53% Completed | 14hr 58mAll prediction shape: (2, 5, 3599, 6000)\n",
      "[#####################                   ] | 53% Completed | 15hr 2mm406 P picks\n",
      "489 S picks\n"
     ]
    },
    {
     "name": "stderr",
     "output_type": "stream",
     "text": [
      "/tmp/ipykernel_523718/2319557713.py:13: RuntimeWarning: All-NaN axis encountered\n",
      "  np.nanmax([stack[idx:idx + twin], _data[iseg+1, :]], axis = 0)\n"
     ]
    },
    {
     "name": "stdout",
     "output_type": "stream",
     "text": [
      "['7D', 'G10B']\n",
      "[#####################                   ] | 53% Completed | 15hr 2mAll prediction shape: (2, 5, 1439, 6000)\n",
      "[#####################                   ] | 53% Completed | 15hr 3m65 P picks\n",
      "27 S picks\n",
      "['7D', 'FS16B']\n",
      "[#####################                   ] | 53% Completed | 15hr 3m"
     ]
    },
    {
     "name": "stderr",
     "output_type": "stream",
     "text": [
      "/tmp/ipykernel_523718/2319557713.py:13: RuntimeWarning: All-NaN axis encountered\n",
      "  np.nanmax([stack[idx:idx + twin], _data[iseg+1, :]], axis = 0)\n"
     ]
    },
    {
     "name": "stdout",
     "output_type": "stream",
     "text": [
      "[#####################                   ] | 53% Completed | 15hr 3mAll prediction shape: (2, 5, 3599, 6000)\n",
      "[#####################                   ] | 53% Completed | 15hr 8m424 P picks\n",
      "356 S picks\n"
     ]
    },
    {
     "name": "stderr",
     "output_type": "stream",
     "text": [
      "/tmp/ipykernel_523718/2319557713.py:13: RuntimeWarning: All-NaN axis encountered\n",
      "  np.nanmax([stack[idx:idx + twin], _data[iseg+1, :]], axis = 0)\n"
     ]
    },
    {
     "name": "stdout",
     "output_type": "stream",
     "text": [
      "['7D', 'G25B']\n",
      "[#####################                   ] | 53% Completed | 15hr 8mAll prediction shape: (2, 5, 3599, 6000)\n",
      "[#####################                   ] | 53% Completed | 15hr 12m500 P picks\n",
      "201 S picks\n"
     ]
    },
    {
     "name": "stderr",
     "output_type": "stream",
     "text": [
      "/tmp/ipykernel_523718/2319557713.py:13: RuntimeWarning: All-NaN axis encountered\n",
      "  np.nanmax([stack[idx:idx + twin], _data[iseg+1, :]], axis = 0)\n"
     ]
    },
    {
     "name": "stdout",
     "output_type": "stream",
     "text": [
      "['7D', 'FS17B']\n",
      "[#####################                   ] | 53% Completed | 15hr 13mAll prediction shape: (2, 5, 3599, 6000)\n",
      "[#####################                   ] | 53% Completed | 15hr 17m477 P picks\n",
      "154 S picks\n"
     ]
    },
    {
     "name": "stderr",
     "output_type": "stream",
     "text": [
      "/tmp/ipykernel_523718/2319557713.py:13: RuntimeWarning: All-NaN axis encountered\n",
      "  np.nanmax([stack[idx:idx + twin], _data[iseg+1, :]], axis = 0)\n"
     ]
    },
    {
     "name": "stdout",
     "output_type": "stream",
     "text": [
      "['7D', 'FS13B']\n",
      "[#####################                   ] | 53% Completed | 15hr 17mAll prediction shape: (2, 5, 3599, 6000)\n",
      "[#####################                   ] | 53% Completed | 15hr 21m520 P picks\n",
      "250 S picks\n"
     ]
    },
    {
     "name": "stderr",
     "output_type": "stream",
     "text": [
      "/tmp/ipykernel_523718/2319557713.py:13: RuntimeWarning: All-NaN axis encountered\n",
      "  np.nanmax([stack[idx:idx + twin], _data[iseg+1, :]], axis = 0)\n"
     ]
    },
    {
     "name": "stdout",
     "output_type": "stream",
     "text": [
      "['7D', 'J33B']\n",
      "[#####################                   ] | 54% Completed | 15hr 22mAll prediction shape: (2, 5, 3599, 6000)\n",
      "[#####################                   ] | 54% Completed | 15hr 26m306 P picks\n",
      "625 S picks\n",
      "[#####################                   ] | 54% Completed | 15hr 26m"
     ]
    },
    {
     "name": "stderr",
     "output_type": "stream",
     "text": [
      "/tmp/ipykernel_523718/2319557713.py:13: RuntimeWarning: All-NaN axis encountered\n",
      "  np.nanmax([stack[idx:idx + twin], _data[iseg+1, :]], axis = 0)\n"
     ]
    },
    {
     "name": "stdout",
     "output_type": "stream",
     "text": [
      "['NC', 'KSXB']\n",
      "[#####################                   ] | 54% Completed | 15hr 26m"
     ]
    },
    {
     "name": "stderr",
     "output_type": "stream",
     "text": [
      "WARNING:root:No stream returned. Skipping.\n"
     ]
    },
    {
     "name": "stdout",
     "output_type": "stream",
     "text": [
      "['7D', 'G25B']\n",
      "[#####################                   ] | 54% Completed | 15hr 26mAll prediction shape: (2, 5, 3599, 6000)\n",
      "[#####################                   ] | 54% Completed | 15hr 30m456 P picks\n",
      "214 S picks\n",
      "[#####################                   ] | 54% Completed | 15hr 30m"
     ]
    },
    {
     "name": "stderr",
     "output_type": "stream",
     "text": [
      "/tmp/ipykernel_523718/2319557713.py:13: RuntimeWarning: All-NaN axis encountered\n",
      "  np.nanmax([stack[idx:idx + twin], _data[iseg+1, :]], axis = 0)\n"
     ]
    },
    {
     "name": "stdout",
     "output_type": "stream",
     "text": [
      "['7D', 'FS17B']\n",
      "[#####################                   ] | 54% Completed | 15hr 31mAll prediction shape: (2, 5, 3599, 6000)\n",
      "[#####################                   ] | 54% Completed | 15hr 35m499 P picks\n",
      "110 S picks\n",
      "[#####################                   ] | 54% Completed | 15hr 35m['7D', 'M09B']\n"
     ]
    },
    {
     "name": "stderr",
     "output_type": "stream",
     "text": [
      "/tmp/ipykernel_523718/2319557713.py:13: RuntimeWarning: All-NaN axis encountered\n",
      "  np.nanmax([stack[idx:idx + twin], _data[iseg+1, :]], axis = 0)\n"
     ]
    },
    {
     "name": "stdout",
     "output_type": "stream",
     "text": [
      "[#####################                   ] | 54% Completed | 15hr 35mAll prediction shape: (2, 5, 3599, 6000)\n",
      "[#####################                   ] | 54% Completed | 15hr 39m515 P picks\n",
      "547 S picks\n"
     ]
    },
    {
     "name": "stderr",
     "output_type": "stream",
     "text": [
      "/tmp/ipykernel_523718/2319557713.py:13: RuntimeWarning: All-NaN axis encountered\n",
      "  np.nanmax([stack[idx:idx + twin], _data[iseg+1, :]], axis = 0)\n"
     ]
    },
    {
     "name": "stdout",
     "output_type": "stream",
     "text": [
      "['TA', 'J01E']\n",
      "[#####################                   ] | 54% Completed | 15hr 39mAll prediction shape: (2, 5, 184, 6000)\n",
      "[#####################                   ] | 54% Completed | 15hr 39m20 P picks\n",
      "1 S picks\n",
      "['7D', 'FS16B']\n",
      "[#####################                   ] | 54% Completed | 15hr 39m"
     ]
    },
    {
     "name": "stderr",
     "output_type": "stream",
     "text": [
      "/tmp/ipykernel_523718/2319557713.py:13: RuntimeWarning: All-NaN axis encountered\n",
      "  np.nanmax([stack[idx:idx + twin], _data[iseg+1, :]], axis = 0)\n"
     ]
    },
    {
     "name": "stdout",
     "output_type": "stream",
     "text": [
      "[#####################                   ] | 54% Completed | 15hr 40mAll prediction shape: (2, 5, 3598, 6000)\n",
      "[#####################                   ] | 54% Completed | 15hr 44m404 P picks\n",
      "319 S picks\n"
     ]
    },
    {
     "name": "stderr",
     "output_type": "stream",
     "text": [
      "/tmp/ipykernel_523718/2319557713.py:13: RuntimeWarning: All-NaN axis encountered\n",
      "  np.nanmax([stack[idx:idx + twin], _data[iseg+1, :]], axis = 0)\n"
     ]
    },
    {
     "name": "stdout",
     "output_type": "stream",
     "text": [
      "['7D', 'G19B']\n",
      "[#####################                   ] | 54% Completed | 15hr 44mAll prediction shape: (2, 5, 1439, 6000)\n",
      "[#####################                   ] | 54% Completed | 15hr 45m47 P picks\n",
      "17 S picks\n"
     ]
    },
    {
     "name": "stderr",
     "output_type": "stream",
     "text": [
      "/tmp/ipykernel_523718/2319557713.py:13: RuntimeWarning: All-NaN axis encountered\n",
      "  np.nanmax([stack[idx:idx + twin], _data[iseg+1, :]], axis = 0)\n",
      "WARNING:root:No stream returned. Skipping.\n"
     ]
    },
    {
     "name": "stdout",
     "output_type": "stream",
     "text": [
      "['NC', 'KHBB']\n",
      "['7D', 'FS20B']\n",
      "[######################                  ] | 55% Completed | 15hr 45mAll prediction shape: (2, 5, 3598, 6000)\n",
      "[######################                  ] | 55% Completed | 15hr 49m209 P picks\n",
      "182 S picks\n"
     ]
    },
    {
     "name": "stderr",
     "output_type": "stream",
     "text": [
      "/tmp/ipykernel_523718/2319557713.py:13: RuntimeWarning: All-NaN axis encountered\n",
      "  np.nanmax([stack[idx:idx + twin], _data[iseg+1, :]], axis = 0)\n"
     ]
    },
    {
     "name": "stdout",
     "output_type": "stream",
     "text": [
      "['7D', 'M14B']\n",
      "[######################                  ] | 55% Completed | 15hr 50mAll prediction shape: (2, 5, 1439, 6000)\n",
      "[######################                  ] | 55% Completed | 15hr 50m148 P picks\n",
      "59 S picks\n",
      "['7D', 'G26B']\n",
      "[######################                  ] | 55% Completed | 15hr 50m"
     ]
    },
    {
     "name": "stderr",
     "output_type": "stream",
     "text": [
      "/tmp/ipykernel_523718/2319557713.py:13: RuntimeWarning: All-NaN axis encountered\n",
      "  np.nanmax([stack[idx:idx + twin], _data[iseg+1, :]], axis = 0)\n"
     ]
    },
    {
     "name": "stdout",
     "output_type": "stream",
     "text": [
      "[######################                  ] | 55% Completed | 15hr 51mAll prediction shape: (2, 5, 3598, 6000)\n",
      "[######################                  ] | 55% Completed | 15hr 55m69 P picks\n",
      "65 S picks\n"
     ]
    },
    {
     "name": "stderr",
     "output_type": "stream",
     "text": [
      "/tmp/ipykernel_523718/2319557713.py:13: RuntimeWarning: All-NaN axis encountered\n",
      "  np.nanmax([stack[idx:idx + twin], _data[iseg+1, :]], axis = 0)\n"
     ]
    },
    {
     "name": "stdout",
     "output_type": "stream",
     "text": [
      "['7D', 'G10B']\n",
      "[######################                  ] | 55% Completed | 15hr 55mAll prediction shape: (2, 5, 1439, 6000)\n",
      "[######################                  ] | 55% Completed | 15hr 56m16 P picks\n",
      "12 S picks\n",
      "['7D', 'FS13B']\n",
      "[######################                  ] | 55% Completed | 15hr 56m"
     ]
    },
    {
     "name": "stderr",
     "output_type": "stream",
     "text": [
      "/tmp/ipykernel_523718/2319557713.py:13: RuntimeWarning: All-NaN axis encountered\n",
      "  np.nanmax([stack[idx:idx + twin], _data[iseg+1, :]], axis = 0)\n"
     ]
    },
    {
     "name": "stdout",
     "output_type": "stream",
     "text": [
      "[######################                  ] | 55% Completed | 15hr 56mAll prediction shape: (2, 5, 3599, 6000)\n",
      "[######################                  ] | 55% Completed | 16hr 1mm522 P picks\n",
      "251 S picks\n"
     ]
    },
    {
     "name": "stderr",
     "output_type": "stream",
     "text": [
      "/tmp/ipykernel_523718/2319557713.py:13: RuntimeWarning: All-NaN axis encountered\n",
      "  np.nanmax([stack[idx:idx + twin], _data[iseg+1, :]], axis = 0)\n",
      "WARNING:root:No stream returned. Skipping.\n"
     ]
    },
    {
     "name": "stdout",
     "output_type": "stream",
     "text": [
      "['NC', 'KHMB']\n",
      "['TA', 'I02D']\n",
      "[######################                  ] | 55% Completed | 16hr 1mAll prediction shape: (2, 5, 1151, 6000)\n",
      "[######################                  ] | 55% Completed | 16hr 1m16 P picks\n",
      "11 S picks\n",
      "['7D', 'G10B']\n",
      "[######################                  ] | 55% Completed | 16hr 1m"
     ]
    },
    {
     "name": "stderr",
     "output_type": "stream",
     "text": [
      "/tmp/ipykernel_523718/2319557713.py:13: RuntimeWarning: All-NaN axis encountered\n",
      "  np.nanmax([stack[idx:idx + twin], _data[iseg+1, :]], axis = 0)\n"
     ]
    },
    {
     "name": "stdout",
     "output_type": "stream",
     "text": [
      "[######################                  ] | 55% Completed | 16hr 1mAll prediction shape: (2, 5, 1439, 6000)\n",
      "[######################                  ] | 55% Completed | 16hr 2m37 P picks\n",
      "28 S picks\n",
      "['7D', 'M14B']\n",
      "[######################                  ] | 55% Completed | 16hr 2m"
     ]
    },
    {
     "name": "stderr",
     "output_type": "stream",
     "text": [
      "/tmp/ipykernel_523718/2319557713.py:13: RuntimeWarning: All-NaN axis encountered\n",
      "  np.nanmax([stack[idx:idx + twin], _data[iseg+1, :]], axis = 0)\n"
     ]
    },
    {
     "name": "stdout",
     "output_type": "stream",
     "text": [
      "[######################                  ] | 55% Completed | 16hr 2mAll prediction shape: (2, 5, 1439, 6000)\n",
      "[######################                  ] | 55% Completed | 16hr 3m209 P picks\n",
      "82 S picks\n",
      "['7D', 'G27B']\n",
      "[######################                  ] | 56% Completed | 16hr 3m"
     ]
    },
    {
     "name": "stderr",
     "output_type": "stream",
     "text": [
      "/tmp/ipykernel_523718/2319557713.py:13: RuntimeWarning: All-NaN axis encountered\n",
      "  np.nanmax([stack[idx:idx + twin], _data[iseg+1, :]], axis = 0)\n"
     ]
    },
    {
     "name": "stdout",
     "output_type": "stream",
     "text": [
      "[######################                  ] | 56% Completed | 16hr 3mAll prediction shape: (2, 5, 1439, 6000)\n",
      "[######################                  ] | 56% Completed | 16hr 4m48 P picks\n",
      "22 S picks\n"
     ]
    },
    {
     "name": "stderr",
     "output_type": "stream",
     "text": [
      "/tmp/ipykernel_523718/2319557713.py:13: RuntimeWarning: All-NaN axis encountered\n",
      "  np.nanmax([stack[idx:idx + twin], _data[iseg+1, :]], axis = 0)\n",
      "WARNING:root:No stream returned. Skipping.\n"
     ]
    },
    {
     "name": "stdout",
     "output_type": "stream",
     "text": [
      "['NC', 'KRMB']\n",
      "['TA', 'J01E']\n",
      "[######################                  ] | 56% Completed | 16hr 4m"
     ]
    },
    {
     "name": "stderr",
     "output_type": "stream",
     "text": [
      "WARNING:root:No stream returned. Skipping.\n"
     ]
    },
    {
     "name": "stdout",
     "output_type": "stream",
     "text": [
      "['7D', 'G19B']\n",
      "[######################                  ] | 56% Completed | 16hr 4mAll prediction shape: (2, 5, 1439, 6000)\n",
      "[######################                  ] | 56% Completed | 16hr 5m43 P picks\n",
      "30 S picks\n",
      "['NC', 'KEB']\n",
      "[######################                  ] | 56% Completed | 16hr 5m"
     ]
    },
    {
     "name": "stderr",
     "output_type": "stream",
     "text": [
      "/tmp/ipykernel_523718/2319557713.py:13: RuntimeWarning: All-NaN axis encountered\n",
      "  np.nanmax([stack[idx:idx + twin], _data[iseg+1, :]], axis = 0)\n",
      "WARNING:root:No stream returned. Skipping.\n",
      "WARNING:root:No stream returned. Skipping.\n"
     ]
    },
    {
     "name": "stdout",
     "output_type": "stream",
     "text": [
      "['NC', 'KOM']\n",
      "['7D', 'J09B']\n",
      "[######################                  ] | 56% Completed | 16hr 5mAll prediction shape: (2, 5, 1439, 6000)\n",
      "[######################                  ] | 56% Completed | 16hr 6m115 P picks\n",
      "27 S picks\n",
      "['NC', 'KOM']\n"
     ]
    },
    {
     "name": "stderr",
     "output_type": "stream",
     "text": [
      "/tmp/ipykernel_523718/2319557713.py:13: RuntimeWarning: All-NaN axis encountered\n",
      "  np.nanmax([stack[idx:idx + twin], _data[iseg+1, :]], axis = 0)\n",
      "WARNING:root:No stream returned. Skipping.\n"
     ]
    },
    {
     "name": "stdout",
     "output_type": "stream",
     "text": [
      "['7D', 'G25B']\n",
      "[######################                  ] | 56% Completed | 16hr 6mAll prediction shape: (2, 5, 3599, 6000)\n",
      "[######################                  ] | 56% Completed | 16hr 11m505 P picks\n",
      "222 S picks\n",
      "[######################                  ] | 56% Completed | 16hr 11m"
     ]
    },
    {
     "name": "stderr",
     "output_type": "stream",
     "text": [
      "/tmp/ipykernel_523718/2319557713.py:13: RuntimeWarning: All-NaN axis encountered\n",
      "  np.nanmax([stack[idx:idx + twin], _data[iseg+1, :]], axis = 0)\n"
     ]
    },
    {
     "name": "stdout",
     "output_type": "stream",
     "text": [
      "['7D', 'G25B']\n",
      "[######################                  ] | 57% Completed | 16hr 11mAll prediction shape: (2, 5, 3599, 6000)\n",
      "[######################                  ] | 57% Completed | 16hr 15m426 P picks\n",
      "196 S picks\n"
     ]
    },
    {
     "name": "stderr",
     "output_type": "stream",
     "text": [
      "/tmp/ipykernel_523718/2319557713.py:13: RuntimeWarning: All-NaN axis encountered\n",
      "  np.nanmax([stack[idx:idx + twin], _data[iseg+1, :]], axis = 0)\n"
     ]
    },
    {
     "name": "stdout",
     "output_type": "stream",
     "text": [
      "['7D', 'M12B']\n",
      "[######################                  ] | 57% Completed | 16hr 15mAll prediction shape: (2, 5, 1439, 6000)\n",
      "[######################                  ] | 57% Completed | 16hr 16m172 P picks\n",
      "73 S picks\n",
      "['7D', 'G17B']\n",
      "[######################                  ] | 57% Completed | 16hr 16m"
     ]
    },
    {
     "name": "stderr",
     "output_type": "stream",
     "text": [
      "/tmp/ipykernel_523718/2319557713.py:13: RuntimeWarning: All-NaN axis encountered\n",
      "  np.nanmax([stack[idx:idx + twin], _data[iseg+1, :]], axis = 0)\n"
     ]
    },
    {
     "name": "stdout",
     "output_type": "stream",
     "text": [
      "[######################                  ] | 57% Completed | 16hr 16mAll prediction shape: (2, 5, 3598, 6000)\n",
      "[######################                  ] | 57% Completed | 16hr 21m699 P picks\n",
      "451 S picks\n",
      "[######################                  ] | 57% Completed | 16hr 21m"
     ]
    },
    {
     "name": "stderr",
     "output_type": "stream",
     "text": [
      "/tmp/ipykernel_523718/2319557713.py:13: RuntimeWarning: All-NaN axis encountered\n",
      "  np.nanmax([stack[idx:idx + twin], _data[iseg+1, :]], axis = 0)\n"
     ]
    },
    {
     "name": "stdout",
     "output_type": "stream",
     "text": [
      "['7D', 'G17B']\n",
      "[######################                  ] | 57% Completed | 16hr 21mAll prediction shape: (2, 5, 3599, 6000)\n",
      "[######################                  ] | 57% Completed | 16hr 25m"
     ]
    },
    {
     "name": "stderr",
     "output_type": "stream",
     "text": [
      "/tmp/ipykernel_523718/2319557713.py:13: RuntimeWarning: All-NaN axis encountered\n",
      "  np.nanmax([stack[idx:idx + twin], _data[iseg+1, :]], axis = 0)\n"
     ]
    },
    {
     "name": "stdout",
     "output_type": "stream",
     "text": [
      "603 P picks\n",
      "713 S picks\n",
      "['7D', 'M14B']\n",
      "[#######################                 ] | 57% Completed | 16hr 25mAll prediction shape: (2, 5, 1439, 6000)\n",
      "[#######################                 ] | 57% Completed | 16hr 26m229 P picks\n",
      "98 S picks\n",
      "['7D', 'G17B']\n",
      "[#######################                 ] | 57% Completed | 16hr 26m"
     ]
    },
    {
     "name": "stderr",
     "output_type": "stream",
     "text": [
      "/tmp/ipykernel_523718/2319557713.py:13: RuntimeWarning: All-NaN axis encountered\n",
      "  np.nanmax([stack[idx:idx + twin], _data[iseg+1, :]], axis = 0)\n"
     ]
    },
    {
     "name": "stdout",
     "output_type": "stream",
     "text": [
      "[#######################                 ] | 57% Completed | 16hr 27mAll prediction shape: (2, 5, 3599, 6000)\n",
      "[#######################                 ] | 57% Completed | 16hr 31m545 P picks\n",
      "546 S picks\n",
      "[#######################                 ] | 57% Completed | 16hr 31m"
     ]
    },
    {
     "name": "stderr",
     "output_type": "stream",
     "text": [
      "/tmp/ipykernel_523718/2319557713.py:13: RuntimeWarning: All-NaN axis encountered\n",
      "  np.nanmax([stack[idx:idx + twin], _data[iseg+1, :]], axis = 0)\n"
     ]
    },
    {
     "name": "stdout",
     "output_type": "stream",
     "text": [
      "['UW', 'BABR']\n",
      "[#######################                 ] | 57% Completed | 16hr 31mAll prediction shape: (2, 5, 1151, 6000)\n",
      "[#######################                 ] | 57% Completed | 16hr 31m2 P picks\n",
      "0 S picks\n",
      "['UW', 'BABR']\n",
      "[#######################                 ] | 57% Completed | 16hr 31m"
     ]
    },
    {
     "name": "stderr",
     "output_type": "stream",
     "text": [
      "/tmp/ipykernel_523718/2319557713.py:13: RuntimeWarning: All-NaN axis encountered\n",
      "  np.nanmax([stack[idx:idx + twin], _data[iseg+1, :]], axis = 0)\n"
     ]
    },
    {
     "name": "stdout",
     "output_type": "stream",
     "text": [
      "[#######################                 ] | 57% Completed | 16hr 32mAll prediction shape: (2, 5, 1151, 6000)\n",
      "[#######################                 ] | 57% Completed | 16hr 32m4 P picks\n",
      "3 S picks\n",
      "['NC', 'KRMB']\n",
      "[#######################                 ] | 57% Completed | 16hr 32m"
     ]
    },
    {
     "name": "stderr",
     "output_type": "stream",
     "text": [
      "/tmp/ipykernel_523718/2319557713.py:13: RuntimeWarning: All-NaN axis encountered\n",
      "  np.nanmax([stack[idx:idx + twin], _data[iseg+1, :]], axis = 0)\n",
      "WARNING:root:No stream returned. Skipping.\n"
     ]
    },
    {
     "name": "stdout",
     "output_type": "stream",
     "text": [
      "['NC', 'KHMB']\n"
     ]
    },
    {
     "name": "stderr",
     "output_type": "stream",
     "text": [
      "WARNING:root:No stream returned. Skipping.\n"
     ]
    },
    {
     "name": "stdout",
     "output_type": "stream",
     "text": [
      "['7D', 'G10B']\n",
      "[#######################                 ] | 58% Completed | 16hr 32mAll prediction shape: (2, 5, 1439, 6000)\n",
      "[#######################                 ] | 58% Completed | 16hr 33m48 P picks\n",
      "18 S picks\n",
      "['7D', 'G27B']\n",
      "[#######################                 ] | 58% Completed | 16hr 33m"
     ]
    },
    {
     "name": "stderr",
     "output_type": "stream",
     "text": [
      "/tmp/ipykernel_523718/2319557713.py:13: RuntimeWarning: All-NaN axis encountered\n",
      "  np.nanmax([stack[idx:idx + twin], _data[iseg+1, :]], axis = 0)\n"
     ]
    },
    {
     "name": "stdout",
     "output_type": "stream",
     "text": [
      "[#######################                 ] | 58% Completed | 16hr 33mAll prediction shape: (2, 5, 1439, 6000)\n",
      "[#######################                 ] | 58% Completed | 16hr 34m124 P picks\n",
      "64 S picks\n",
      "['7D', 'G27B']\n",
      "[#######################                 ] | 58% Completed | 16hr 34m"
     ]
    },
    {
     "name": "stderr",
     "output_type": "stream",
     "text": [
      "/tmp/ipykernel_523718/2319557713.py:13: RuntimeWarning: All-NaN axis encountered\n",
      "  np.nanmax([stack[idx:idx + twin], _data[iseg+1, :]], axis = 0)\n"
     ]
    },
    {
     "name": "stdout",
     "output_type": "stream",
     "text": [
      "[#######################                 ] | 58% Completed | 16hr 34mAll prediction shape: (2, 5, 1439, 6000)\n",
      "[#######################                 ] | 58% Completed | 16hr 35m69 P picks\n",
      "35 S picks\n",
      "['NC', 'KEB']\n",
      "[#######################                 ] | 58% Completed | 16hr 35m"
     ]
    },
    {
     "name": "stderr",
     "output_type": "stream",
     "text": [
      "/tmp/ipykernel_523718/2319557713.py:13: RuntimeWarning: All-NaN axis encountered\n",
      "  np.nanmax([stack[idx:idx + twin], _data[iseg+1, :]], axis = 0)\n",
      "WARNING:root:No stream returned. Skipping.\n"
     ]
    },
    {
     "name": "stdout",
     "output_type": "stream",
     "text": [
      "['7D', 'FS20B']\n",
      "[#######################                 ] | 58% Completed | 16hr 35mAll prediction shape: (2, 5, 3598, 6000)\n",
      "[#######################                 ] | 58% Completed | 16hr 40m149 P picks\n",
      "132 S picks\n",
      "[#######################                 ] | 58% Completed | 16hr 40m"
     ]
    },
    {
     "name": "stderr",
     "output_type": "stream",
     "text": [
      "/tmp/ipykernel_523718/2319557713.py:13: RuntimeWarning: All-NaN axis encountered\n",
      "  np.nanmax([stack[idx:idx + twin], _data[iseg+1, :]], axis = 0)\n"
     ]
    },
    {
     "name": "stdout",
     "output_type": "stream",
     "text": [
      "['7D', 'G17B']\n",
      "[#######################                 ] | 58% Completed | 16hr 40mAll prediction shape: (2, 5, 3599, 6000)\n",
      "[#######################                 ] | 58% Completed | 16hr 44m633 P picks\n",
      "675 S picks\n"
     ]
    },
    {
     "name": "stderr",
     "output_type": "stream",
     "text": [
      "/tmp/ipykernel_523718/2319557713.py:13: RuntimeWarning: All-NaN axis encountered\n",
      "  np.nanmax([stack[idx:idx + twin], _data[iseg+1, :]], axis = 0)\n"
     ]
    },
    {
     "name": "stdout",
     "output_type": "stream",
     "text": [
      "['7D', 'G26B']\n",
      "[#######################                 ] | 58% Completed | 16hr 45mAll prediction shape: (2, 5, 3598, 6000)\n",
      "[#######################                 ] | 58% Completed | 16hr 49m141 P picks\n",
      "98 S picks\n"
     ]
    },
    {
     "name": "stderr",
     "output_type": "stream",
     "text": [
      "/tmp/ipykernel_523718/2319557713.py:13: RuntimeWarning: All-NaN axis encountered\n",
      "  np.nanmax([stack[idx:idx + twin], _data[iseg+1, :]], axis = 0)\n"
     ]
    },
    {
     "name": "stdout",
     "output_type": "stream",
     "text": [
      "['7D', 'G25B']\n",
      "[#######################                 ] | 58% Completed | 16hr 49mAll prediction shape: (2, 5, 3599, 6000)\n",
      "[#######################                 ] | 58% Completed | 16hr 53m531 P picks\n",
      "253 S picks\n",
      "[#######################                 ] | 58% Completed | 16hr 53m"
     ]
    },
    {
     "name": "stderr",
     "output_type": "stream",
     "text": [
      "/tmp/ipykernel_523718/2319557713.py:13: RuntimeWarning: All-NaN axis encountered\n",
      "  np.nanmax([stack[idx:idx + twin], _data[iseg+1, :]], axis = 0)\n",
      "WARNING:root:No stream returned. Skipping.\n"
     ]
    },
    {
     "name": "stdout",
     "output_type": "stream",
     "text": [
      "['NC', 'KSXB']\n",
      "['7D', 'FS09B']\n",
      "[#######################                 ] | 59% Completed | 16hr 54mAll prediction shape: (2, 5, 1439, 6000)\n",
      "[#######################                 ] | 59% Completed | 16hr 54m104 P picks\n",
      "89 S picks\n",
      "['7D', 'FS17B']\n",
      "[#######################                 ] | 59% Completed | 16hr 54m"
     ]
    },
    {
     "name": "stderr",
     "output_type": "stream",
     "text": [
      "/tmp/ipykernel_523718/2319557713.py:13: RuntimeWarning: All-NaN axis encountered\n",
      "  np.nanmax([stack[idx:idx + twin], _data[iseg+1, :]], axis = 0)\n"
     ]
    },
    {
     "name": "stdout",
     "output_type": "stream",
     "text": [
      "[#######################                 ] | 59% Completed | 16hr 55mAll prediction shape: (2, 5, 3599, 6000)\n",
      "[#######################                 ] | 59% Completed | 16hr 59m431 P picks\n",
      "102 S picks\n"
     ]
    },
    {
     "name": "stderr",
     "output_type": "stream",
     "text": [
      "/tmp/ipykernel_523718/2319557713.py:13: RuntimeWarning: All-NaN axis encountered\n",
      "  np.nanmax([stack[idx:idx + twin], _data[iseg+1, :]], axis = 0)\n"
     ]
    },
    {
     "name": "stdout",
     "output_type": "stream",
     "text": [
      "['7D', 'FS16B']\n",
      "[#######################                 ] | 59% Completed | 16hr 59mAll prediction shape: (2, 5, 3599, 6000)\n",
      "[#######################                 ] | 59% Completed | 17hr 3mm455 P picks\n",
      "445 S picks\n"
     ]
    },
    {
     "name": "stderr",
     "output_type": "stream",
     "text": [
      "/tmp/ipykernel_523718/2319557713.py:13: RuntimeWarning: All-NaN axis encountered\n",
      "  np.nanmax([stack[idx:idx + twin], _data[iseg+1, :]], axis = 0)\n"
     ]
    },
    {
     "name": "stdout",
     "output_type": "stream",
     "text": [
      "['7D', 'FS17B']\n",
      "[#######################                 ] | 59% Completed | 17hr 4mAll prediction shape: (2, 5, 3598, 6000)\n",
      "[#######################                 ] | 59% Completed | 17hr 8m487 P picks\n",
      "139 S picks\n",
      "[#######################                 ] | 59% Completed | 17hr 8m"
     ]
    },
    {
     "name": "stderr",
     "output_type": "stream",
     "text": [
      "/tmp/ipykernel_523718/2319557713.py:13: RuntimeWarning: All-NaN axis encountered\n",
      "  np.nanmax([stack[idx:idx + twin], _data[iseg+1, :]], axis = 0)\n"
     ]
    },
    {
     "name": "stdout",
     "output_type": "stream",
     "text": [
      "['7D', 'M12B']\n",
      "[#######################                 ] | 59% Completed | 17hr 8mAll prediction shape: (2, 5, 1439, 6000)\n",
      "[#######################                 ] | 59% Completed | 17hr 9m158 P picks\n",
      "43 S picks\n",
      "['7D', 'G27B']\n",
      "[#######################                 ] | 59% Completed | 17hr 9m"
     ]
    },
    {
     "name": "stderr",
     "output_type": "stream",
     "text": [
      "/tmp/ipykernel_523718/2319557713.py:13: RuntimeWarning: All-NaN axis encountered\n",
      "  np.nanmax([stack[idx:idx + twin], _data[iseg+1, :]], axis = 0)\n"
     ]
    },
    {
     "name": "stdout",
     "output_type": "stream",
     "text": [
      "[#######################                 ] | 59% Completed | 17hr 9mAll prediction shape: (2, 5, 1439, 6000)\n",
      "[#######################                 ] | 59% Completed | 17hr 10m39 P picks\n",
      "12 S picks\n",
      "['7D', 'G27B']\n",
      "[#######################                 ] | 59% Completed | 17hr 10m"
     ]
    },
    {
     "name": "stderr",
     "output_type": "stream",
     "text": [
      "/tmp/ipykernel_523718/2319557713.py:13: RuntimeWarning: All-NaN axis encountered\n",
      "  np.nanmax([stack[idx:idx + twin], _data[iseg+1, :]], axis = 0)\n"
     ]
    },
    {
     "name": "stdout",
     "output_type": "stream",
     "text": [
      "[#######################                 ] | 59% Completed | 17hr 10mAll prediction shape: (2, 5, 1439, 6000)\n",
      "[#######################                 ] | 59% Completed | 17hr 11m42 P picks\n",
      "18 S picks\n",
      "['7D', 'M09B']\n",
      "[#######################                 ] | 59% Completed | 17hr 11m"
     ]
    },
    {
     "name": "stderr",
     "output_type": "stream",
     "text": [
      "/tmp/ipykernel_523718/2319557713.py:13: RuntimeWarning: All-NaN axis encountered\n",
      "  np.nanmax([stack[idx:idx + twin], _data[iseg+1, :]], axis = 0)\n"
     ]
    },
    {
     "name": "stdout",
     "output_type": "stream",
     "text": [
      "[#######################                 ] | 59% Completed | 17hr 11mAll prediction shape: (2, 5, 3599, 6000)\n",
      "[#######################                 ] | 59% Completed | 17hr 15m458 P picks\n",
      "483 S picks\n"
     ]
    },
    {
     "name": "stderr",
     "output_type": "stream",
     "text": [
      "/tmp/ipykernel_523718/2319557713.py:13: RuntimeWarning: All-NaN axis encountered\n",
      "  np.nanmax([stack[idx:idx + twin], _data[iseg+1, :]], axis = 0)\n"
     ]
    },
    {
     "name": "stdout",
     "output_type": "stream",
     "text": [
      "['NC', 'KEB']\n",
      "[########################                ] | 60% Completed | 17hr 15m"
     ]
    },
    {
     "name": "stderr",
     "output_type": "stream",
     "text": [
      "WARNING:root:No stream returned. Skipping.\n"
     ]
    },
    {
     "name": "stdout",
     "output_type": "stream",
     "text": [
      "['UW', 'BABR']\n",
      "[########################                ] | 60% Completed | 17hr 15mAll prediction shape: (2, 5, 1151, 6000)\n",
      "[########################                ] | 60% Completed | 17hr 16m5 P picks\n",
      "3 S picks\n",
      "['7D', 'M14B']\n",
      "[########################                ] | 60% Completed | 17hr 16m"
     ]
    },
    {
     "name": "stderr",
     "output_type": "stream",
     "text": [
      "/tmp/ipykernel_523718/2319557713.py:13: RuntimeWarning: All-NaN axis encountered\n",
      "  np.nanmax([stack[idx:idx + twin], _data[iseg+1, :]], axis = 0)\n"
     ]
    },
    {
     "name": "stdout",
     "output_type": "stream",
     "text": [
      "[########################                ] | 60% Completed | 17hr 16mAll prediction shape: (2, 5, 1438, 6000)\n",
      "[########################                ] | 60% Completed | 17hr 17m126 P picks\n",
      "48 S picks\n",
      "['7D', 'FS20B']\n",
      "[########################                ] | 60% Completed | 17hr 17m"
     ]
    },
    {
     "name": "stderr",
     "output_type": "stream",
     "text": [
      "/tmp/ipykernel_523718/2319557713.py:13: RuntimeWarning: All-NaN axis encountered\n",
      "  np.nanmax([stack[idx:idx + twin], _data[iseg+1, :]], axis = 0)\n"
     ]
    },
    {
     "name": "stdout",
     "output_type": "stream",
     "text": [
      "[########################                ] | 60% Completed | 17hr 17mAll prediction shape: (2, 5, 3599, 6000)\n",
      "[########################                ] | 60% Completed | 17hr 22m161 P picks\n",
      "171 S picks\n"
     ]
    },
    {
     "name": "stderr",
     "output_type": "stream",
     "text": [
      "/tmp/ipykernel_523718/2319557713.py:13: RuntimeWarning: All-NaN axis encountered\n",
      "  np.nanmax([stack[idx:idx + twin], _data[iseg+1, :]], axis = 0)\n"
     ]
    },
    {
     "name": "stdout",
     "output_type": "stream",
     "text": [
      "['7D', 'J33B']\n",
      "[########################                ] | 60% Completed | 17hr 22mAll prediction shape: (2, 5, 3599, 6000)\n",
      "[########################                ] | 60% Completed | 17hr 26m241 P picks\n",
      "479 S picks\n",
      "[########################                ] | 60% Completed | 17hr 26m"
     ]
    },
    {
     "name": "stderr",
     "output_type": "stream",
     "text": [
      "/tmp/ipykernel_523718/2319557713.py:13: RuntimeWarning: All-NaN axis encountered\n",
      "  np.nanmax([stack[idx:idx + twin], _data[iseg+1, :]], axis = 0)\n"
     ]
    },
    {
     "name": "stdout",
     "output_type": "stream",
     "text": [
      "['7D', 'J09B']\n",
      "[########################                ] | 60% Completed | 17hr 26mAll prediction shape: (2, 5, 1439, 6000)\n",
      "[########################                ] | 60% Completed | 17hr 27m99 P picks\n",
      "24 S picks\n",
      "['7D', 'G26B']\n",
      "[########################                ] | 60% Completed | 17hr 27m"
     ]
    },
    {
     "name": "stderr",
     "output_type": "stream",
     "text": [
      "/tmp/ipykernel_523718/2319557713.py:13: RuntimeWarning: All-NaN axis encountered\n",
      "  np.nanmax([stack[idx:idx + twin], _data[iseg+1, :]], axis = 0)\n"
     ]
    },
    {
     "name": "stdout",
     "output_type": "stream",
     "text": [
      "[########################                ] | 60% Completed | 17hr 27mAll prediction shape: (2, 5, 3599, 6000)\n",
      "[########################                ] | 60% Completed | 17hr 32m73 P picks\n",
      "58 S picks\n",
      "['7D', 'FS17B']\n",
      "[########################                ] | 60% Completed | 17hr 32m"
     ]
    },
    {
     "name": "stderr",
     "output_type": "stream",
     "text": [
      "/tmp/ipykernel_523718/2319557713.py:13: RuntimeWarning: All-NaN axis encountered\n",
      "  np.nanmax([stack[idx:idx + twin], _data[iseg+1, :]], axis = 0)\n"
     ]
    },
    {
     "name": "stdout",
     "output_type": "stream",
     "text": [
      "[########################                ] | 60% Completed | 17hr 32mAll prediction shape: (2, 5, 3598, 6000)\n",
      "[########################                ] | 60% Completed | 17hr 36m438 P picks\n",
      "164 S picks\n"
     ]
    },
    {
     "name": "stderr",
     "output_type": "stream",
     "text": [
      "/tmp/ipykernel_523718/2319557713.py:13: RuntimeWarning: All-NaN axis encountered\n",
      "  np.nanmax([stack[idx:idx + twin], _data[iseg+1, :]], axis = 0)\n"
     ]
    },
    {
     "name": "stdout",
     "output_type": "stream",
     "text": [
      "['UW', 'BABR']\n",
      "[########################                ] | 60% Completed | 17hr 36mAll prediction shape: (2, 5, 1151, 6000)\n",
      "[########################                ] | 60% Completed | 17hr 37m10 P picks\n",
      "2 S picks\n",
      "['7D', 'G25B']\n",
      "[########################                ] | 61% Completed | 17hr 37m"
     ]
    },
    {
     "name": "stderr",
     "output_type": "stream",
     "text": [
      "/tmp/ipykernel_523718/2319557713.py:13: RuntimeWarning: All-NaN axis encountered\n",
      "  np.nanmax([stack[idx:idx + twin], _data[iseg+1, :]], axis = 0)\n"
     ]
    },
    {
     "name": "stdout",
     "output_type": "stream",
     "text": [
      "[########################                ] | 61% Completed | 17hr 37mAll prediction shape: (2, 5, 3599, 6000)\n",
      "[########################                ] | 61% Completed | 17hr 41m441 P picks\n",
      "206 S picks\n"
     ]
    },
    {
     "name": "stderr",
     "output_type": "stream",
     "text": [
      "/tmp/ipykernel_523718/2319557713.py:13: RuntimeWarning: All-NaN axis encountered\n",
      "  np.nanmax([stack[idx:idx + twin], _data[iseg+1, :]], axis = 0)\n"
     ]
    },
    {
     "name": "stdout",
     "output_type": "stream",
     "text": [
      "['7D', 'FS13B']\n",
      "[########################                ] | 61% Completed | 17hr 42mAll prediction shape: (2, 5, 3599, 6000)\n",
      "[########################                ] | 61% Completed | 17hr 46m618 P picks\n",
      "388 S picks\n",
      "[########################                ] | 61% Completed | 17hr 46m"
     ]
    },
    {
     "name": "stderr",
     "output_type": "stream",
     "text": [
      "/tmp/ipykernel_523718/2319557713.py:13: RuntimeWarning: All-NaN axis encountered\n",
      "  np.nanmax([stack[idx:idx + twin], _data[iseg+1, :]], axis = 0)\n"
     ]
    },
    {
     "name": "stdout",
     "output_type": "stream",
     "text": [
      "['7D', 'FS09B']\n",
      "[########################                ] | 61% Completed | 17hr 46mAll prediction shape: (2, 5, 1439, 6000)\n",
      "[########################                ] | 61% Completed | 17hr 47m139 P picks\n",
      "86 S picks\n"
     ]
    },
    {
     "name": "stderr",
     "output_type": "stream",
     "text": [
      "/tmp/ipykernel_523718/2319557713.py:13: RuntimeWarning: All-NaN axis encountered\n",
      "  np.nanmax([stack[idx:idx + twin], _data[iseg+1, :]], axis = 0)\n",
      "WARNING:root:No stream returned. Skipping.\n"
     ]
    },
    {
     "name": "stdout",
     "output_type": "stream",
     "text": [
      "['NC', 'KBO']\n",
      "['7D', 'FS20B']\n",
      "[########################                ] | 61% Completed | 17hr 47mAll prediction shape: (2, 5, 3598, 6000)\n",
      "[########################                ] | 61% Completed | 17hr 52m202 P picks\n",
      "164 S picks\n"
     ]
    },
    {
     "name": "stderr",
     "output_type": "stream",
     "text": [
      "/tmp/ipykernel_523718/2319557713.py:13: RuntimeWarning: All-NaN axis encountered\n",
      "  np.nanmax([stack[idx:idx + twin], _data[iseg+1, :]], axis = 0)\n"
     ]
    },
    {
     "name": "stdout",
     "output_type": "stream",
     "text": [
      "['NC', 'KRMB']\n",
      "[########################                ] | 61% Completed | 17hr 52m"
     ]
    },
    {
     "name": "stderr",
     "output_type": "stream",
     "text": [
      "WARNING:root:No stream returned. Skipping.\n",
      "WARNING:root:No stream returned. Skipping.\n"
     ]
    },
    {
     "name": "stdout",
     "output_type": "stream",
     "text": [
      "['NC', 'KSXB']\n"
     ]
    },
    {
     "name": "stderr",
     "output_type": "stream",
     "text": [
      "WARNING:root:No stream returned. Skipping.\n"
     ]
    },
    {
     "name": "stdout",
     "output_type": "stream",
     "text": [
      "['NC', 'KHBB']\n",
      "['7D', 'M14B']\n",
      "[########################                ] | 61% Completed | 17hr 52mAll prediction shape: (2, 5, 1439, 6000)\n",
      "[########################                ] | 61% Completed | 17hr 53m131 P picks\n",
      "43 S picks\n",
      "['7D', 'G27B']\n",
      "[########################                ] | 62% Completed | 17hr 53m"
     ]
    },
    {
     "name": "stderr",
     "output_type": "stream",
     "text": [
      "/tmp/ipykernel_523718/2319557713.py:13: RuntimeWarning: All-NaN axis encountered\n",
      "  np.nanmax([stack[idx:idx + twin], _data[iseg+1, :]], axis = 0)\n"
     ]
    },
    {
     "name": "stdout",
     "output_type": "stream",
     "text": [
      "[########################                ] | 62% Completed | 17hr 53mAll prediction shape: (2, 5, 1378, 6000)\n",
      "[########################                ] | 62% Completed | 17hr 53m25 P picks\n",
      "15 S picks\n",
      "['7D', 'M09B']\n",
      "[########################                ] | 62% Completed | 17hr 53m"
     ]
    },
    {
     "name": "stderr",
     "output_type": "stream",
     "text": [
      "/tmp/ipykernel_523718/2319557713.py:13: RuntimeWarning: All-NaN axis encountered\n",
      "  np.nanmax([stack[idx:idx + twin], _data[iseg+1, :]], axis = 0)\n"
     ]
    },
    {
     "name": "stdout",
     "output_type": "stream",
     "text": [
      "[########################                ] | 62% Completed | 17hr 54mAll prediction shape: (2, 5, 3599, 6000)\n",
      "[########################                ] | 62% Completed | 17hr 58m404 P picks\n",
      "486 S picks\n"
     ]
    },
    {
     "name": "stderr",
     "output_type": "stream",
     "text": [
      "/tmp/ipykernel_523718/2319557713.py:13: RuntimeWarning: All-NaN axis encountered\n",
      "  np.nanmax([stack[idx:idx + twin], _data[iseg+1, :]], axis = 0)\n"
     ]
    },
    {
     "name": "stdout",
     "output_type": "stream",
     "text": [
      "['7D', 'M12B']\n",
      "[########################                ] | 62% Completed | 17hr 58mAll prediction shape: (2, 5, 1439, 6000)\n",
      "[########################                ] | 62% Completed | 17hr 59m172 P picks\n",
      "51 S picks\n",
      "['7D', 'J09B']\n",
      "[########################                ] | 62% Completed | 17hr 59m"
     ]
    },
    {
     "name": "stderr",
     "output_type": "stream",
     "text": [
      "/tmp/ipykernel_523718/2319557713.py:13: RuntimeWarning: All-NaN axis encountered\n",
      "  np.nanmax([stack[idx:idx + twin], _data[iseg+1, :]], axis = 0)\n"
     ]
    },
    {
     "name": "stdout",
     "output_type": "stream",
     "text": [
      "[########################                ] | 62% Completed | 17hr 59mAll prediction shape: (2, 5, 1439, 6000)\n",
      "[########################                ] | 62% Completed | 18hr 0mm113 P picks\n",
      "20 S picks\n",
      "['7D', 'FS17B']\n",
      "[#########################               ] | 62% Completed | 18hr 0m"
     ]
    },
    {
     "name": "stderr",
     "output_type": "stream",
     "text": [
      "/tmp/ipykernel_523718/2319557713.py:13: RuntimeWarning: All-NaN axis encountered\n",
      "  np.nanmax([stack[idx:idx + twin], _data[iseg+1, :]], axis = 0)\n"
     ]
    },
    {
     "name": "stdout",
     "output_type": "stream",
     "text": [
      "[#########################               ] | 62% Completed | 18hr 0mAll prediction shape: (2, 5, 3599, 6000)\n",
      "[#########################               ] | 62% Completed | 18hr 4m473 P picks\n",
      "209 S picks\n",
      "[#########################               ] | 62% Completed | 18hr 4m"
     ]
    },
    {
     "name": "stderr",
     "output_type": "stream",
     "text": [
      "/tmp/ipykernel_523718/2319557713.py:13: RuntimeWarning: All-NaN axis encountered\n",
      "  np.nanmax([stack[idx:idx + twin], _data[iseg+1, :]], axis = 0)\n"
     ]
    },
    {
     "name": "stdout",
     "output_type": "stream",
     "text": [
      "['TA', 'I02D']\n",
      "[#########################               ] | 62% Completed | 18hr 5mAll prediction shape: (2, 5, 1150, 6000)\n",
      "[#########################               ] | 62% Completed | 18hr 5m27 P picks\n",
      "14 S picks\n",
      "['TA', 'J01E']\n",
      "[#########################               ] | 62% Completed | 18hr 5m"
     ]
    },
    {
     "name": "stderr",
     "output_type": "stream",
     "text": [
      "/tmp/ipykernel_523718/2319557713.py:13: RuntimeWarning: All-NaN axis encountered\n",
      "  np.nanmax([stack[idx:idx + twin], _data[iseg+1, :]], axis = 0)\n"
     ]
    },
    {
     "name": "stdout",
     "output_type": "stream",
     "text": [
      "[#########################               ] | 62% Completed | 18hr 5mAll prediction shape: (2, 5, 1151, 6000)\n",
      "[#########################               ] | 62% Completed | 18hr 6m31 P picks\n",
      "36 S picks\n",
      "['NC', 'KBO']\n",
      "[#########################               ] | 62% Completed | 18hr 6m"
     ]
    },
    {
     "name": "stderr",
     "output_type": "stream",
     "text": [
      "/tmp/ipykernel_523718/2319557713.py:13: RuntimeWarning: All-NaN axis encountered\n",
      "  np.nanmax([stack[idx:idx + twin], _data[iseg+1, :]], axis = 0)\n",
      "WARNING:root:No stream returned. Skipping.\n",
      "WARNING:root:No stream returned. Skipping.\n"
     ]
    },
    {
     "name": "stdout",
     "output_type": "stream",
     "text": [
      "['BK', 'JCC']\n",
      "['UW', 'BABR']\n",
      "[#########################               ] | 63% Completed | 18hr 6mAll prediction shape: (2, 5, 1151, 6000)\n",
      "[#########################               ] | 63% Completed | 18hr 6m12 P picks\n",
      "8 S picks\n",
      "['7D', 'M12B']\n",
      "[#########################               ] | 63% Completed | 18hr 6m"
     ]
    },
    {
     "name": "stderr",
     "output_type": "stream",
     "text": [
      "/tmp/ipykernel_523718/2319557713.py:13: RuntimeWarning: All-NaN axis encountered\n",
      "  np.nanmax([stack[idx:idx + twin], _data[iseg+1, :]], axis = 0)\n"
     ]
    },
    {
     "name": "stdout",
     "output_type": "stream",
     "text": [
      "[#########################               ] | 63% Completed | 18hr 7mAll prediction shape: (2, 5, 1439, 6000)\n",
      "[#########################               ] | 63% Completed | 18hr 7m156 P picks\n",
      "58 S picks\n",
      "['7D', 'FS13B']\n",
      "[#########################               ] | 63% Completed | 18hr 7m"
     ]
    },
    {
     "name": "stderr",
     "output_type": "stream",
     "text": [
      "/tmp/ipykernel_523718/2319557713.py:13: RuntimeWarning: All-NaN axis encountered\n",
      "  np.nanmax([stack[idx:idx + twin], _data[iseg+1, :]], axis = 0)\n"
     ]
    },
    {
     "name": "stdout",
     "output_type": "stream",
     "text": [
      "[#########################               ] | 63% Completed | 18hr 8mAll prediction shape: (2, 5, 3599, 6000)\n",
      "[#########################               ] | 63% Completed | 18hr 12m440 P picks\n",
      "314 S picks\n",
      "[#########################               ] | 63% Completed | 18hr 12m"
     ]
    },
    {
     "name": "stderr",
     "output_type": "stream",
     "text": [
      "/tmp/ipykernel_523718/2319557713.py:13: RuntimeWarning: All-NaN axis encountered\n",
      "  np.nanmax([stack[idx:idx + twin], _data[iseg+1, :]], axis = 0)\n"
     ]
    },
    {
     "name": "stdout",
     "output_type": "stream",
     "text": [
      "['TA', 'I02D']\n",
      "[#########################               ] | 63% Completed | 18hr 12mAll prediction shape: (2, 5, 1151, 6000)\n",
      "[#########################               ] | 63% Completed | 18hr 13m13 P picks\n",
      "5 S picks\n",
      "['NC', 'KHBB']\n",
      "[#########################               ] | 63% Completed | 18hr 13m"
     ]
    },
    {
     "name": "stderr",
     "output_type": "stream",
     "text": [
      "/tmp/ipykernel_523718/2319557713.py:13: RuntimeWarning: All-NaN axis encountered\n",
      "  np.nanmax([stack[idx:idx + twin], _data[iseg+1, :]], axis = 0)\n",
      "WARNING:root:No stream returned. Skipping.\n",
      "WARNING:root:No stream returned. Skipping.\n"
     ]
    },
    {
     "name": "stdout",
     "output_type": "stream",
     "text": [
      "['NC', 'KHBB']\n",
      "['7D', 'G26B']\n",
      "[#########################               ] | 63% Completed | 18hr 13mAll prediction shape: (2, 5, 3598, 6000)\n",
      "[#########################               ] | 63% Completed | 18hr 17m36 P picks\n",
      "31 S picks\n"
     ]
    },
    {
     "name": "stderr",
     "output_type": "stream",
     "text": [
      "/tmp/ipykernel_523718/2319557713.py:13: RuntimeWarning: All-NaN axis encountered\n",
      "  np.nanmax([stack[idx:idx + twin], _data[iseg+1, :]], axis = 0)\n"
     ]
    },
    {
     "name": "stdout",
     "output_type": "stream",
     "text": [
      "['7D', 'J09B']\n",
      "[#########################               ] | 63% Completed | 18hr 17mAll prediction shape: (2, 5, 1439, 6000)\n",
      "[#########################               ] | 63% Completed | 18hr 18m134 P picks\n",
      "33 S picks\n",
      "['NC', 'KOM']\n",
      "[#########################               ] | 63% Completed | 18hr 18m"
     ]
    },
    {
     "name": "stderr",
     "output_type": "stream",
     "text": [
      "/tmp/ipykernel_523718/2319557713.py:13: RuntimeWarning: All-NaN axis encountered\n",
      "  np.nanmax([stack[idx:idx + twin], _data[iseg+1, :]], axis = 0)\n",
      "WARNING:root:No stream returned. Skipping.\n"
     ]
    },
    {
     "name": "stdout",
     "output_type": "stream",
     "text": [
      "['7D', 'G25B']\n",
      "[#########################               ] | 64% Completed | 18hr 18mAll prediction shape: (2, 5, 3599, 6000)\n",
      "[#########################               ] | 64% Completed | 18hr 23m492 P picks\n",
      "212 S picks\n"
     ]
    },
    {
     "name": "stderr",
     "output_type": "stream",
     "text": [
      "/tmp/ipykernel_523718/2319557713.py:13: RuntimeWarning: All-NaN axis encountered\n",
      "  np.nanmax([stack[idx:idx + twin], _data[iseg+1, :]], axis = 0)\n"
     ]
    },
    {
     "name": "stdout",
     "output_type": "stream",
     "text": [
      "['7D', 'G27B']\n",
      "[#########################               ] | 64% Completed | 18hr 23mAll prediction shape: (2, 5, 1439, 6000)\n",
      "[#########################               ] | 64% Completed | 18hr 24m64 P picks\n",
      "35 S picks\n",
      "['7D', 'FS16B']\n",
      "[#########################               ] | 64% Completed | 18hr 24m"
     ]
    },
    {
     "name": "stderr",
     "output_type": "stream",
     "text": [
      "/tmp/ipykernel_523718/2319557713.py:13: RuntimeWarning: All-NaN axis encountered\n",
      "  np.nanmax([stack[idx:idx + twin], _data[iseg+1, :]], axis = 0)\n"
     ]
    },
    {
     "name": "stdout",
     "output_type": "stream",
     "text": [
      "[#########################               ] | 64% Completed | 18hr 24mAll prediction shape: (2, 5, 3599, 6000)\n",
      "[#########################               ] | 64% Completed | 18hr 28m"
     ]
    },
    {
     "name": "stderr",
     "output_type": "stream",
     "text": [
      "/tmp/ipykernel_523718/2319557713.py:13: RuntimeWarning: All-NaN axis encountered\n",
      "  np.nanmax([stack[idx:idx + twin], _data[iseg+1, :]], axis = 0)\n"
     ]
    },
    {
     "name": "stdout",
     "output_type": "stream",
     "text": [
      "386 P picks\n",
      "542 S picks\n",
      "[#########################               ] | 64% Completed | 18hr 28m['7D', 'J09B']\n",
      "[#########################               ] | 64% Completed | 18hr 28mAll prediction shape: (2, 5, 1439, 6000)\n",
      "[#########################               ] | 64% Completed | 18hr 29m122 P picks\n",
      "23 S picks\n",
      "['7D', 'M14B']\n",
      "[#########################               ] | 64% Completed | 18hr 29m"
     ]
    },
    {
     "name": "stderr",
     "output_type": "stream",
     "text": [
      "/tmp/ipykernel_523718/2319557713.py:13: RuntimeWarning: All-NaN axis encountered\n",
      "  np.nanmax([stack[idx:idx + twin], _data[iseg+1, :]], axis = 0)\n"
     ]
    },
    {
     "name": "stdout",
     "output_type": "stream",
     "text": [
      "[#########################               ] | 64% Completed | 18hr 29mAll prediction shape: (2, 5, 1439, 6000)\n",
      "[#########################               ] | 64% Completed | 18hr 30m209 P picks\n",
      "87 S picks\n",
      "['7D', 'M09B']\n",
      "[#########################               ] | 64% Completed | 18hr 30m"
     ]
    },
    {
     "name": "stderr",
     "output_type": "stream",
     "text": [
      "/tmp/ipykernel_523718/2319557713.py:13: RuntimeWarning: All-NaN axis encountered\n",
      "  np.nanmax([stack[idx:idx + twin], _data[iseg+1, :]], axis = 0)\n"
     ]
    },
    {
     "name": "stdout",
     "output_type": "stream",
     "text": [
      "[#########################               ] | 64% Completed | 18hr 30mAll prediction shape: (2, 5, 3599, 6000)\n",
      "[#########################               ] | 64% Completed | 18hr 35m428 P picks\n",
      "497 S picks\n"
     ]
    },
    {
     "name": "stderr",
     "output_type": "stream",
     "text": [
      "/tmp/ipykernel_523718/2319557713.py:13: RuntimeWarning: All-NaN axis encountered\n",
      "  np.nanmax([stack[idx:idx + twin], _data[iseg+1, :]], axis = 0)\n"
     ]
    },
    {
     "name": "stdout",
     "output_type": "stream",
     "text": [
      "['NC', 'KHBB']\n",
      "[#########################               ] | 64% Completed | 18hr 35m"
     ]
    },
    {
     "name": "stderr",
     "output_type": "stream",
     "text": [
      "WARNING:root:No stream returned. Skipping.\n"
     ]
    },
    {
     "name": "stdout",
     "output_type": "stream",
     "text": [
      "['7D', 'G27B']\n",
      "[#########################               ] | 64% Completed | 18hr 35mAll prediction shape: (2, 5, 1439, 6000)\n",
      "[#########################               ] | 64% Completed | 18hr 36m84 P picks\n",
      "44 S picks\n",
      "['7D', 'G27B']\n",
      "[#########################               ] | 64% Completed | 18hr 36m"
     ]
    },
    {
     "name": "stderr",
     "output_type": "stream",
     "text": [
      "/tmp/ipykernel_523718/2319557713.py:13: RuntimeWarning: All-NaN axis encountered\n",
      "  np.nanmax([stack[idx:idx + twin], _data[iseg+1, :]], axis = 0)\n"
     ]
    },
    {
     "name": "stdout",
     "output_type": "stream",
     "text": [
      "[#########################               ] | 64% Completed | 18hr 36mAll prediction shape: (2, 5, 1439, 6000)\n",
      "[#########################               ] | 64% Completed | 18hr 37m100 P picks\n",
      "70 S picks\n",
      "['7D', 'G17B']\n",
      "[##########################              ] | 65% Completed | 18hr 37m"
     ]
    },
    {
     "name": "stderr",
     "output_type": "stream",
     "text": [
      "/tmp/ipykernel_523718/2319557713.py:13: RuntimeWarning: All-NaN axis encountered\n",
      "  np.nanmax([stack[idx:idx + twin], _data[iseg+1, :]], axis = 0)\n"
     ]
    },
    {
     "name": "stdout",
     "output_type": "stream",
     "text": [
      "[##########################              ] | 65% Completed | 18hr 37mAll prediction shape: (2, 5, 3599, 6000)\n",
      "[##########################              ] | 65% Completed | 18hr 41m"
     ]
    },
    {
     "name": "stderr",
     "output_type": "stream",
     "text": [
      "/tmp/ipykernel_523718/2319557713.py:13: RuntimeWarning: All-NaN axis encountered\n",
      "  np.nanmax([stack[idx:idx + twin], _data[iseg+1, :]], axis = 0)\n"
     ]
    },
    {
     "name": "stdout",
     "output_type": "stream",
     "text": [
      "591 P picks\n",
      "590 S picks\n",
      "['TA', 'J01E']\n",
      "[##########################              ] | 65% Completed | 18hr 41mAll prediction shape: (2, 5, 1151, 6000)\n",
      "[##########################              ] | 65% Completed | 18hr 42m18 P picks\n",
      "12 S picks\n"
     ]
    },
    {
     "name": "stderr",
     "output_type": "stream",
     "text": [
      "/tmp/ipykernel_523718/2319557713.py:13: RuntimeWarning: All-NaN axis encountered\n",
      "  np.nanmax([stack[idx:idx + twin], _data[iseg+1, :]], axis = 0)\n",
      "WARNING:root:No stream returned. Skipping.\n"
     ]
    },
    {
     "name": "stdout",
     "output_type": "stream",
     "text": [
      "['NC', 'KRMB']\n",
      "['NC', 'KBO']\n",
      "[##########################              ] | 65% Completed | 18hr 42m"
     ]
    },
    {
     "name": "stderr",
     "output_type": "stream",
     "text": [
      "WARNING:root:No stream returned. Skipping.\n"
     ]
    },
    {
     "name": "stdout",
     "output_type": "stream",
     "text": [
      "['NC', 'KRMB']\n",
      "[##########################              ] | 65% Completed | 18hr 42m"
     ]
    },
    {
     "name": "stderr",
     "output_type": "stream",
     "text": [
      "WARNING:root:No stream returned. Skipping.\n"
     ]
    },
    {
     "name": "stdout",
     "output_type": "stream",
     "text": [
      "['TA', 'J01E']\n",
      "[##########################              ] | 65% Completed | 18hr 42mAll prediction shape: (2, 5, 1150, 6000)\n",
      "[##########################              ] | 65% Completed | 18hr 42m25 P picks\n",
      "13 S picks\n",
      "['7D', 'FS20B']\n",
      "[##########################              ] | 65% Completed | 18hr 42m"
     ]
    },
    {
     "name": "stderr",
     "output_type": "stream",
     "text": [
      "/tmp/ipykernel_523718/2319557713.py:13: RuntimeWarning: All-NaN axis encountered\n",
      "  np.nanmax([stack[idx:idx + twin], _data[iseg+1, :]], axis = 0)\n"
     ]
    },
    {
     "name": "stdout",
     "output_type": "stream",
     "text": [
      "[##########################              ] | 65% Completed | 18hr 43mAll prediction shape: (2, 5, 3598, 6000)\n",
      "[##########################              ] | 65% Completed | 18hr 47m179 P picks\n",
      "113 S picks\n"
     ]
    },
    {
     "name": "stderr",
     "output_type": "stream",
     "text": [
      "/tmp/ipykernel_523718/2319557713.py:13: RuntimeWarning: All-NaN axis encountered\n",
      "  np.nanmax([stack[idx:idx + twin], _data[iseg+1, :]], axis = 0)\n"
     ]
    },
    {
     "name": "stdout",
     "output_type": "stream",
     "text": [
      "['UW', 'BABR']\n",
      "[##########################              ] | 65% Completed | 18hr 47mAll prediction shape: (2, 5, 1151, 6000)\n",
      "[##########################              ] | 65% Completed | 18hr 48m5 P picks\n",
      "15 S picks\n",
      "['NC', 'KEB']\n",
      "[##########################              ] | 65% Completed | 18hr 48m"
     ]
    },
    {
     "name": "stderr",
     "output_type": "stream",
     "text": [
      "/tmp/ipykernel_523718/2319557713.py:13: RuntimeWarning: All-NaN axis encountered\n",
      "  np.nanmax([stack[idx:idx + twin], _data[iseg+1, :]], axis = 0)\n",
      "WARNING:root:No stream returned. Skipping.\n"
     ]
    },
    {
     "name": "stdout",
     "output_type": "stream",
     "text": [
      "['7D', 'FS20B']\n",
      "[##########################              ] | 66% Completed | 18hr 48mAll prediction shape: (2, 5, 3598, 6000)\n",
      "[##########################              ] | 66% Completed | 18hr 53m179 P picks\n",
      "164 S picks\n"
     ]
    },
    {
     "name": "stderr",
     "output_type": "stream",
     "text": [
      "/tmp/ipykernel_523718/2319557713.py:13: RuntimeWarning: All-NaN axis encountered\n",
      "  np.nanmax([stack[idx:idx + twin], _data[iseg+1, :]], axis = 0)\n"
     ]
    },
    {
     "name": "stdout",
     "output_type": "stream",
     "text": [
      "['NC', 'KOM']\n",
      "[##########################              ] | 66% Completed | 18hr 53m"
     ]
    },
    {
     "name": "stderr",
     "output_type": "stream",
     "text": [
      "WARNING:root:No stream returned. Skipping.\n",
      "WARNING:root:No stream returned. Skipping.\n"
     ]
    },
    {
     "name": "stdout",
     "output_type": "stream",
     "text": [
      "['NC', 'KEB']\n",
      "['7D', 'J33B']\n",
      "[##########################              ] | 66% Completed | 18hr 53mAll prediction shape: (2, 5, 3599, 6000)\n",
      "[##########################              ] | 66% Completed | 18hr 57m"
     ]
    },
    {
     "name": "stderr",
     "output_type": "stream",
     "text": [
      "/tmp/ipykernel_523718/2319557713.py:13: RuntimeWarning: All-NaN axis encountered\n",
      "  np.nanmax([stack[idx:idx + twin], _data[iseg+1, :]], axis = 0)\n"
     ]
    },
    {
     "name": "stdout",
     "output_type": "stream",
     "text": [
      "337 P picks\n",
      "714 S picks\n",
      "['7D', 'FS16B']\n",
      "[##########################              ] | 66% Completed | 18hr 58mAll prediction shape: (2, 5, 3599, 6000)\n",
      "[##########################              ] | 66% Completed | 19hr 2mm419 P picks\n",
      "308 S picks\n"
     ]
    },
    {
     "name": "stderr",
     "output_type": "stream",
     "text": [
      "/tmp/ipykernel_523718/2319557713.py:13: RuntimeWarning: All-NaN axis encountered\n",
      "  np.nanmax([stack[idx:idx + twin], _data[iseg+1, :]], axis = 0)\n"
     ]
    },
    {
     "name": "stdout",
     "output_type": "stream",
     "text": [
      "['NC', 'KOM']\n",
      "[##########################              ] | 66% Completed | 19hr 2m"
     ]
    },
    {
     "name": "stderr",
     "output_type": "stream",
     "text": [
      "WARNING:root:No stream returned. Skipping.\n"
     ]
    },
    {
     "name": "stdout",
     "output_type": "stream",
     "text": [
      "['7D', 'G27B']\n",
      "[##########################              ] | 66% Completed | 19hr 2mAll prediction shape: (2, 5, 1439, 6000)\n",
      "[##########################              ] | 66% Completed | 19hr 3m115 P picks\n",
      "56 S picks\n"
     ]
    },
    {
     "name": "stderr",
     "output_type": "stream",
     "text": [
      "/tmp/ipykernel_523718/2319557713.py:13: RuntimeWarning: All-NaN axis encountered\n",
      "  np.nanmax([stack[idx:idx + twin], _data[iseg+1, :]], axis = 0)\n",
      "WARNING:root:No stream returned. Skipping.\n"
     ]
    },
    {
     "name": "stdout",
     "output_type": "stream",
     "text": [
      "['NC', 'KEB']\n",
      "['NC', 'KRMB']\n",
      "[##########################              ] | 66% Completed | 19hr 3m"
     ]
    },
    {
     "name": "stderr",
     "output_type": "stream",
     "text": [
      "WARNING:root:No stream returned. Skipping.\n",
      "WARNING:root:No stream returned. Skipping.\n"
     ]
    },
    {
     "name": "stdout",
     "output_type": "stream",
     "text": [
      "['NC', 'KRMB']\n",
      "['NC', 'KBO']\n",
      "[##########################              ] | 67% Completed | 19hr 3m"
     ]
    },
    {
     "name": "stderr",
     "output_type": "stream",
     "text": [
      "WARNING:root:No stream returned. Skipping.\n"
     ]
    },
    {
     "name": "stdout",
     "output_type": "stream",
     "text": [
      "['NC', 'KMPB']\n"
     ]
    },
    {
     "name": "stderr",
     "output_type": "stream",
     "text": [
      "WARNING:root:No stream returned. Skipping.\n"
     ]
    },
    {
     "name": "stdout",
     "output_type": "stream",
     "text": [
      "['7D', 'M14B']\n",
      "[##########################              ] | 67% Completed | 19hr 3mAll prediction shape: (2, 5, 1439, 6000)\n",
      "[##########################              ] | 67% Completed | 19hr 4m218 P picks\n",
      "61 S picks\n",
      "['7D', 'FS13B']\n",
      "[###########################             ] | 67% Completed | 19hr 4m"
     ]
    },
    {
     "name": "stderr",
     "output_type": "stream",
     "text": [
      "/tmp/ipykernel_523718/2319557713.py:13: RuntimeWarning: All-NaN axis encountered\n",
      "  np.nanmax([stack[idx:idx + twin], _data[iseg+1, :]], axis = 0)\n"
     ]
    },
    {
     "name": "stdout",
     "output_type": "stream",
     "text": [
      "[###########################             ] | 67% Completed | 19hr 4mAll prediction shape: (2, 5, 3599, 6000)\n",
      "[###########################             ] | 67% Completed | 19hr 9m400 P picks\n",
      "379 S picks\n"
     ]
    },
    {
     "name": "stderr",
     "output_type": "stream",
     "text": [
      "/tmp/ipykernel_523718/2319557713.py:13: RuntimeWarning: All-NaN axis encountered\n",
      "  np.nanmax([stack[idx:idx + twin], _data[iseg+1, :]], axis = 0)\n"
     ]
    },
    {
     "name": "stdout",
     "output_type": "stream",
     "text": [
      "['7D', 'J25B']\n",
      "[###########################             ] | 67% Completed | 19hr 9mAll prediction shape: (2, 5, 3599, 6000)\n",
      "[###########################             ] | 67% Completed | 19hr 14m636 P picks\n",
      "673 S picks\n",
      "[###########################             ] | 67% Completed | 19hr 14m"
     ]
    },
    {
     "name": "stderr",
     "output_type": "stream",
     "text": [
      "/tmp/ipykernel_523718/2319557713.py:13: RuntimeWarning: All-NaN axis encountered\n",
      "  np.nanmax([stack[idx:idx + twin], _data[iseg+1, :]], axis = 0)\n"
     ]
    },
    {
     "name": "stdout",
     "output_type": "stream",
     "text": [
      "['7D', 'M12B']\n",
      "[###########################             ] | 67% Completed | 19hr 14mAll prediction shape: (2, 5, 1439, 6000)\n",
      "[###########################             ] | 67% Completed | 19hr 15m188 P picks\n",
      "52 S picks\n",
      "['7D', 'FS16B']\n",
      "[###########################             ] | 67% Completed | 19hr 15m"
     ]
    },
    {
     "name": "stderr",
     "output_type": "stream",
     "text": [
      "/tmp/ipykernel_523718/2319557713.py:13: RuntimeWarning: All-NaN axis encountered\n",
      "  np.nanmax([stack[idx:idx + twin], _data[iseg+1, :]], axis = 0)\n"
     ]
    },
    {
     "name": "stdout",
     "output_type": "stream",
     "text": [
      "[###########################             ] | 67% Completed | 19hr 15mAll prediction shape: (2, 5, 3599, 6000)\n",
      "[###########################             ] | 67% Completed | 19hr 19m"
     ]
    },
    {
     "name": "stderr",
     "output_type": "stream",
     "text": [
      "/tmp/ipykernel_523718/2319557713.py:13: RuntimeWarning: All-NaN axis encountered\n",
      "  np.nanmax([stack[idx:idx + twin], _data[iseg+1, :]], axis = 0)\n"
     ]
    },
    {
     "name": "stdout",
     "output_type": "stream",
     "text": [
      "450 P picks\n",
      "454 S picks\n",
      "['7D', 'J09B']\n",
      "[###########################             ] | 67% Completed | 19hr 19mAll prediction shape: (2, 5, 1439, 6000)\n",
      "[###########################             ] | 67% Completed | 19hr 20m118 P picks\n",
      "37 S picks\n",
      "['7D', 'FS13B']\n",
      "[###########################             ] | 68% Completed | 19hr 20m"
     ]
    },
    {
     "name": "stderr",
     "output_type": "stream",
     "text": [
      "/tmp/ipykernel_523718/2319557713.py:13: RuntimeWarning: All-NaN axis encountered\n",
      "  np.nanmax([stack[idx:idx + twin], _data[iseg+1, :]], axis = 0)\n"
     ]
    },
    {
     "name": "stdout",
     "output_type": "stream",
     "text": [
      "[###########################             ] | 68% Completed | 19hr 21mAll prediction shape: (2, 5, 3599, 6000)\n",
      "[###########################             ] | 68% Completed | 19hr 25m490 P picks\n",
      "295 S picks\n",
      "[###########################             ] | 68% Completed | 19hr 25m"
     ]
    },
    {
     "name": "stderr",
     "output_type": "stream",
     "text": [
      "/tmp/ipykernel_523718/2319557713.py:13: RuntimeWarning: All-NaN axis encountered\n",
      "  np.nanmax([stack[idx:idx + twin], _data[iseg+1, :]], axis = 0)\n",
      "WARNING:root:No stream returned. Skipping.\n"
     ]
    },
    {
     "name": "stdout",
     "output_type": "stream",
     "text": [
      "['NC', 'KHMB']\n",
      "['7D', 'J09B']\n",
      "[###########################             ] | 68% Completed | 19hr 25mAll prediction shape: (2, 5, 1438, 6000)\n",
      "[###########################             ] | 68% Completed | 19hr 26m113 P picks\n",
      "25 S picks\n",
      "['7D', 'G19B']\n",
      "[###########################             ] | 68% Completed | 19hr 26m"
     ]
    },
    {
     "name": "stderr",
     "output_type": "stream",
     "text": [
      "/tmp/ipykernel_523718/2319557713.py:13: RuntimeWarning: All-NaN axis encountered\n",
      "  np.nanmax([stack[idx:idx + twin], _data[iseg+1, :]], axis = 0)\n"
     ]
    },
    {
     "name": "stdout",
     "output_type": "stream",
     "text": [
      "[###########################             ] | 68% Completed | 19hr 26mAll prediction shape: (2, 5, 1439, 6000)\n",
      "[###########################             ] | 68% Completed | 19hr 27m37 P picks\n",
      "36 S picks\n",
      "['NC', 'KMPB']\n",
      "[###########################             ] | 68% Completed | 19hr 27m"
     ]
    },
    {
     "name": "stderr",
     "output_type": "stream",
     "text": [
      "/tmp/ipykernel_523718/2319557713.py:13: RuntimeWarning: All-NaN axis encountered\n",
      "  np.nanmax([stack[idx:idx + twin], _data[iseg+1, :]], axis = 0)\n",
      "WARNING:root:No stream returned. Skipping.\n"
     ]
    },
    {
     "name": "stdout",
     "output_type": "stream",
     "text": [
      "['7D', 'G26B']\n",
      "[###########################             ] | 68% Completed | 19hr 27mAll prediction shape: (2, 5, 3598, 6000)\n",
      "[###########################             ] | 68% Completed | 19hr 31m87 P picks\n",
      "53 S picks\n"
     ]
    },
    {
     "name": "stderr",
     "output_type": "stream",
     "text": [
      "/tmp/ipykernel_523718/2319557713.py:13: RuntimeWarning: All-NaN axis encountered\n",
      "  np.nanmax([stack[idx:idx + twin], _data[iseg+1, :]], axis = 0)\n"
     ]
    },
    {
     "name": "stdout",
     "output_type": "stream",
     "text": [
      "['7D', 'G10B']\n",
      "[###########################             ] | 68% Completed | 19hr 32mAll prediction shape: (2, 5, 1439, 6000)\n",
      "[###########################             ] | 68% Completed | 19hr 32m36 P picks\n",
      "23 S picks\n",
      "['7D', 'J25B']\n",
      "[###########################             ] | 68% Completed | 19hr 32m"
     ]
    },
    {
     "name": "stderr",
     "output_type": "stream",
     "text": [
      "/tmp/ipykernel_523718/2319557713.py:13: RuntimeWarning: All-NaN axis encountered\n",
      "  np.nanmax([stack[idx:idx + twin], _data[iseg+1, :]], axis = 0)\n"
     ]
    },
    {
     "name": "stdout",
     "output_type": "stream",
     "text": [
      "[###########################             ] | 68% Completed | 19hr 33mAll prediction shape: (2, 5, 3599, 6000)\n",
      "[###########################             ] | 68% Completed | 19hr 37m"
     ]
    },
    {
     "name": "stderr",
     "output_type": "stream",
     "text": [
      "/tmp/ipykernel_523718/2319557713.py:13: RuntimeWarning: All-NaN axis encountered\n",
      "  np.nanmax([stack[idx:idx + twin], _data[iseg+1, :]], axis = 0)\n"
     ]
    },
    {
     "name": "stdout",
     "output_type": "stream",
     "text": [
      "441 P picks\n",
      "491 S picks\n",
      "['7D', 'FS20B']\n",
      "[###########################             ] | 68% Completed | 19hr 37mAll prediction shape: (2, 5, 3599, 6000)\n",
      "[###########################             ] | 68% Completed | 19hr 42m122 P picks\n",
      "82 S picks\n"
     ]
    },
    {
     "name": "stderr",
     "output_type": "stream",
     "text": [
      "/tmp/ipykernel_523718/2319557713.py:13: RuntimeWarning: All-NaN axis encountered\n",
      "  np.nanmax([stack[idx:idx + twin], _data[iseg+1, :]], axis = 0)\n"
     ]
    },
    {
     "name": "stdout",
     "output_type": "stream",
     "text": [
      "['UW', 'BABR']\n",
      "[###########################             ] | 69% Completed | 19hr 42mAll prediction shape: (2, 5, 1151, 6000)\n",
      "[###########################             ] | 69% Completed | 19hr 42m19 P picks\n",
      "6 S picks\n",
      "['NC', 'KSXB']\n",
      "[###########################             ] | 69% Completed | 19hr 42m"
     ]
    },
    {
     "name": "stderr",
     "output_type": "stream",
     "text": [
      "/tmp/ipykernel_523718/2319557713.py:13: RuntimeWarning: All-NaN axis encountered\n",
      "  np.nanmax([stack[idx:idx + twin], _data[iseg+1, :]], axis = 0)\n",
      "WARNING:root:No stream returned. Skipping.\n"
     ]
    },
    {
     "name": "stdout",
     "output_type": "stream",
     "text": [
      "['7D', 'M09B']\n",
      "[###########################             ] | 69% Completed | 19hr 43mAll prediction shape: (2, 5, 3599, 6000)\n",
      "[###########################             ] | 69% Completed | 19hr 47m"
     ]
    },
    {
     "name": "stderr",
     "output_type": "stream",
     "text": [
      "/tmp/ipykernel_523718/2319557713.py:13: RuntimeWarning: All-NaN axis encountered\n",
      "  np.nanmax([stack[idx:idx + twin], _data[iseg+1, :]], axis = 0)\n"
     ]
    },
    {
     "name": "stdout",
     "output_type": "stream",
     "text": [
      "481 P picks\n",
      "532 S picks\n",
      "['7D', 'J25B']\n",
      "[###########################             ] | 69% Completed | 19hr 47mAll prediction shape: (2, 5, 3599, 6000)\n",
      "[###########################             ] | 69% Completed | 19hr 52m454 P picks\n",
      "653 S picks\n",
      "[###########################             ] | 69% Completed | 19hr 52m"
     ]
    },
    {
     "name": "stderr",
     "output_type": "stream",
     "text": [
      "/tmp/ipykernel_523718/2319557713.py:13: RuntimeWarning: All-NaN axis encountered\n",
      "  np.nanmax([stack[idx:idx + twin], _data[iseg+1, :]], axis = 0)\n"
     ]
    },
    {
     "name": "stdout",
     "output_type": "stream",
     "text": [
      "['UW', 'BABR']\n",
      "[###########################             ] | 69% Completed | 19hr 52mAll prediction shape: (2, 5, 1151, 6000)\n",
      "[###########################             ] | 69% Completed | 19hr 52m11 P picks\n",
      "2 S picks\n",
      "['7D', 'FS20B']\n",
      "[###########################             ] | 69% Completed | 19hr 52m"
     ]
    },
    {
     "name": "stderr",
     "output_type": "stream",
     "text": [
      "/tmp/ipykernel_523718/2319557713.py:13: RuntimeWarning: All-NaN axis encountered\n",
      "  np.nanmax([stack[idx:idx + twin], _data[iseg+1, :]], axis = 0)\n"
     ]
    },
    {
     "name": "stdout",
     "output_type": "stream",
     "text": [
      "[###########################             ] | 69% Completed | 19hr 53mAll prediction shape: (2, 5, 3599, 6000)\n",
      "[###########################             ] | 69% Completed | 19hr 57m135 P picks\n",
      "137 S picks\n",
      "[###########################             ] | 69% Completed | 19hr 57m"
     ]
    },
    {
     "name": "stderr",
     "output_type": "stream",
     "text": [
      "/tmp/ipykernel_523718/2319557713.py:13: RuntimeWarning: All-NaN axis encountered\n",
      "  np.nanmax([stack[idx:idx + twin], _data[iseg+1, :]], axis = 0)\n"
     ]
    },
    {
     "name": "stdout",
     "output_type": "stream",
     "text": [
      "['NC', 'KBO']\n",
      "[###########################             ] | 69% Completed | 19hr 57m"
     ]
    },
    {
     "name": "stderr",
     "output_type": "stream",
     "text": [
      "WARNING:root:No stream returned. Skipping.\n"
     ]
    },
    {
     "name": "stdout",
     "output_type": "stream",
     "text": [
      "['7D', 'M09B']\n",
      "[###########################             ] | 69% Completed | 19hr 57mAll prediction shape: (2, 5, 3599, 6000)\n",
      "[###########################             ] | 69% Completed | 20hr 1mm"
     ]
    },
    {
     "name": "stderr",
     "output_type": "stream",
     "text": [
      "/tmp/ipykernel_523718/2319557713.py:13: RuntimeWarning: All-NaN axis encountered\n",
      "  np.nanmax([stack[idx:idx + twin], _data[iseg+1, :]], axis = 0)\n"
     ]
    },
    {
     "name": "stdout",
     "output_type": "stream",
     "text": [
      "417 P picks\n",
      "462 S picks\n",
      "['7D', 'G19B']\n",
      "[###########################             ] | 69% Completed | 20hr 2mAll prediction shape: (2, 5, 1439, 6000)\n",
      "[###########################             ] | 69% Completed | 20hr 2m65 P picks\n",
      "23 S picks\n",
      "['TA', 'J01E']\n",
      "[############################            ] | 70% Completed | 20hr 2m"
     ]
    },
    {
     "name": "stderr",
     "output_type": "stream",
     "text": [
      "/tmp/ipykernel_523718/2319557713.py:13: RuntimeWarning: All-NaN axis encountered\n",
      "  np.nanmax([stack[idx:idx + twin], _data[iseg+1, :]], axis = 0)\n",
      "WARNING:root:No stream returned. Skipping.\n"
     ]
    },
    {
     "name": "stdout",
     "output_type": "stream",
     "text": [
      "['7D', 'FS20B']\n",
      "[############################            ] | 70% Completed | 20hr 3mAll prediction shape: (2, 5, 3599, 6000)\n",
      "[############################            ] | 70% Completed | 20hr 7m181 P picks\n",
      "196 S picks\n"
     ]
    },
    {
     "name": "stderr",
     "output_type": "stream",
     "text": [
      "/tmp/ipykernel_523718/2319557713.py:13: RuntimeWarning: All-NaN axis encountered\n",
      "  np.nanmax([stack[idx:idx + twin], _data[iseg+1, :]], axis = 0)\n"
     ]
    },
    {
     "name": "stdout",
     "output_type": "stream",
     "text": [
      "['7D', 'M12B']\n",
      "[############################            ] | 70% Completed | 20hr 7mAll prediction shape: (2, 5, 1439, 6000)\n",
      "[############################            ] | 70% Completed | 20hr 8m200 P picks\n",
      "73 S picks\n",
      "['7D', 'J09B']\n",
      "[############################            ] | 70% Completed | 20hr 8m"
     ]
    },
    {
     "name": "stderr",
     "output_type": "stream",
     "text": [
      "/tmp/ipykernel_523718/2319557713.py:13: RuntimeWarning: All-NaN axis encountered\n",
      "  np.nanmax([stack[idx:idx + twin], _data[iseg+1, :]], axis = 0)\n"
     ]
    },
    {
     "name": "stdout",
     "output_type": "stream",
     "text": [
      "[############################            ] | 70% Completed | 20hr 8mAll prediction shape: (2, 5, 1439, 6000)\n",
      "[############################            ] | 70% Completed | 20hr 9m129 P picks\n",
      "29 S picks\n",
      "['7D', 'FS17B']\n",
      "[############################            ] | 70% Completed | 20hr 9m"
     ]
    },
    {
     "name": "stderr",
     "output_type": "stream",
     "text": [
      "/tmp/ipykernel_523718/2319557713.py:13: RuntimeWarning: All-NaN axis encountered\n",
      "  np.nanmax([stack[idx:idx + twin], _data[iseg+1, :]], axis = 0)\n"
     ]
    },
    {
     "name": "stdout",
     "output_type": "stream",
     "text": [
      "[############################            ] | 70% Completed | 20hr 9mAll prediction shape: (2, 5, 3599, 6000)\n",
      "[############################            ] | 70% Completed | 20hr 14m374 P picks\n",
      "119 S picks\n"
     ]
    },
    {
     "name": "stderr",
     "output_type": "stream",
     "text": [
      "/tmp/ipykernel_523718/2319557713.py:13: RuntimeWarning: All-NaN axis encountered\n",
      "  np.nanmax([stack[idx:idx + twin], _data[iseg+1, :]], axis = 0)\n"
     ]
    },
    {
     "name": "stdout",
     "output_type": "stream",
     "text": [
      "['7D', 'FS17B']\n",
      "[############################            ] | 70% Completed | 20hr 14mAll prediction shape: (2, 5, 3599, 6000)\n",
      "[############################            ] | 70% Completed | 20hr 18m"
     ]
    },
    {
     "name": "stderr",
     "output_type": "stream",
     "text": [
      "/tmp/ipykernel_523718/2319557713.py:13: RuntimeWarning: All-NaN axis encountered\n",
      "  np.nanmax([stack[idx:idx + twin], _data[iseg+1, :]], axis = 0)\n"
     ]
    },
    {
     "name": "stdout",
     "output_type": "stream",
     "text": [
      "508 P picks\n",
      "85 S picks\n",
      "['7D', 'G27B']\n",
      "[############################            ] | 70% Completed | 20hr 18mAll prediction shape: (2, 5, 1438, 6000)\n",
      "[############################            ] | 70% Completed | 20hr 19m63 P picks\n",
      "48 S picks\n",
      "['BK', 'JCC']\n",
      "[############################            ] | 70% Completed | 20hr 19m"
     ]
    },
    {
     "name": "stderr",
     "output_type": "stream",
     "text": [
      "/tmp/ipykernel_523718/2319557713.py:13: RuntimeWarning: All-NaN axis encountered\n",
      "  np.nanmax([stack[idx:idx + twin], _data[iseg+1, :]], axis = 0)\n",
      "WARNING:root:No stream returned. Skipping.\n"
     ]
    },
    {
     "name": "stdout",
     "output_type": "stream",
     "text": [
      "['TA', 'J01E']\n",
      "[############################            ] | 70% Completed | 20hr 19mAll prediction shape: (2, 5, 1151, 6000)\n",
      "[############################            ] | 70% Completed | 20hr 20m15 P picks\n",
      "18 S picks\n"
     ]
    },
    {
     "name": "stderr",
     "output_type": "stream",
     "text": [
      "/tmp/ipykernel_523718/2319557713.py:13: RuntimeWarning: All-NaN axis encountered\n",
      "  np.nanmax([stack[idx:idx + twin], _data[iseg+1, :]], axis = 0)\n",
      "WARNING:root:No stream returned. Skipping.\n"
     ]
    },
    {
     "name": "stdout",
     "output_type": "stream",
     "text": [
      "['BK', 'JCC']\n",
      "['7D', 'G25B']\n",
      "[############################            ] | 71% Completed | 20hr 20m"
     ]
    },
    {
     "name": "stderr",
     "output_type": "stream",
     "text": [
      "/tmp/ipykernel_523718/1201587985.py:95: RuntimeWarning: invalid value encountered in divide\n",
      "  windows_max[iseg, :] = windows[iseg, :] / (np.max(np.abs(windows[iseg, :]), axis=-1, keepdims=True))\n",
      "/tmp/ipykernel_523718/1201587985.py:93: RuntimeWarning: invalid value encountered in divide\n",
      "  windows_std[iseg, :] = windows[iseg, :] / np.std(windows[iseg, :]) + 1e-10\n"
     ]
    },
    {
     "name": "stdout",
     "output_type": "stream",
     "text": [
      "[############################            ] | 71% Completed | 20hr 20mAll prediction shape: (2, 5, 3599, 6000)\n",
      "[############################            ] | 71% Completed | 20hr 25m526 P picks\n",
      "251 S picks\n"
     ]
    },
    {
     "name": "stderr",
     "output_type": "stream",
     "text": [
      "/tmp/ipykernel_523718/2319557713.py:13: RuntimeWarning: All-NaN axis encountered\n",
      "  np.nanmax([stack[idx:idx + twin], _data[iseg+1, :]], axis = 0)\n"
     ]
    },
    {
     "name": "stdout",
     "output_type": "stream",
     "text": [
      "['TA', 'J01E']\n",
      "[############################            ] | 71% Completed | 20hr 25mAll prediction shape: (2, 5, 1151, 6000)\n",
      "[############################            ] | 71% Completed | 20hr 25m32 P picks\n",
      "17 S picks\n",
      "['7D', 'G26B']\n",
      "[############################            ] | 71% Completed | 20hr 25m"
     ]
    },
    {
     "name": "stderr",
     "output_type": "stream",
     "text": [
      "/tmp/ipykernel_523718/2319557713.py:13: RuntimeWarning: All-NaN axis encountered\n",
      "  np.nanmax([stack[idx:idx + twin], _data[iseg+1, :]], axis = 0)\n"
     ]
    },
    {
     "name": "stdout",
     "output_type": "stream",
     "text": [
      "[############################            ] | 71% Completed | 20hr 26mAll prediction shape: (2, 5, 3598, 6000)\n",
      "[############################            ] | 71% Completed | 20hr 30m196 P picks\n",
      "155 S picks\n"
     ]
    },
    {
     "name": "stderr",
     "output_type": "stream",
     "text": [
      "/tmp/ipykernel_523718/2319557713.py:13: RuntimeWarning: All-NaN axis encountered\n",
      "  np.nanmax([stack[idx:idx + twin], _data[iseg+1, :]], axis = 0)\n"
     ]
    },
    {
     "name": "stdout",
     "output_type": "stream",
     "text": [
      "['NC', 'KMPB']\n",
      "\r",
      "[############################            ] | 71% Completed | 20hr 30m"
     ]
    },
    {
     "name": "stderr",
     "output_type": "stream",
     "text": [
      "WARNING:root:No stream returned. Skipping.\n",
      "WARNING:root:No stream returned. Skipping.\n"
     ]
    },
    {
     "name": "stdout",
     "output_type": "stream",
     "text": [
      "['NC', 'KEB']\n",
      "['7D', 'FS16B']\n",
      "[############################            ] | 71% Completed | 20hr 30mAll prediction shape: (2, 5, 3598, 6000)\n",
      "[############################            ] | 71% Completed | 20hr 34m459 P picks\n",
      "524 S picks\n"
     ]
    },
    {
     "name": "stderr",
     "output_type": "stream",
     "text": [
      "/tmp/ipykernel_523718/2319557713.py:13: RuntimeWarning: All-NaN axis encountered\n",
      "  np.nanmax([stack[idx:idx + twin], _data[iseg+1, :]], axis = 0)\n"
     ]
    },
    {
     "name": "stdout",
     "output_type": "stream",
     "text": [
      "['7D', 'FS09B']\n",
      "[############################            ] | 71% Completed | 20hr 34mAll prediction shape: (2, 5, 1439, 6000)\n",
      "[############################            ] | 71% Completed | 20hr 35m142 P picks\n",
      "120 S picks\n",
      "['7D', 'FS16B']\n",
      "[############################            ] | 71% Completed | 20hr 35m"
     ]
    },
    {
     "name": "stderr",
     "output_type": "stream",
     "text": [
      "/tmp/ipykernel_523718/2319557713.py:13: RuntimeWarning: All-NaN axis encountered\n",
      "  np.nanmax([stack[idx:idx + twin], _data[iseg+1, :]], axis = 0)\n"
     ]
    },
    {
     "name": "stdout",
     "output_type": "stream",
     "text": [
      "[############################            ] | 71% Completed | 20hr 36mAll prediction shape: (2, 5, 3598, 6000)\n",
      "[############################            ] | 71% Completed | 20hr 40m385 P picks\n",
      "328 S picks\n"
     ]
    },
    {
     "name": "stderr",
     "output_type": "stream",
     "text": [
      "/tmp/ipykernel_523718/2319557713.py:13: RuntimeWarning: All-NaN axis encountered\n",
      "  np.nanmax([stack[idx:idx + twin], _data[iseg+1, :]], axis = 0)\n"
     ]
    },
    {
     "name": "stdout",
     "output_type": "stream",
     "text": [
      "['NC', 'KBO']\n",
      "[############################            ] | 72% Completed | 20hr 40m"
     ]
    },
    {
     "name": "stderr",
     "output_type": "stream",
     "text": [
      "WARNING:root:No stream returned. Skipping.\n",
      "WARNING:root:No stream returned. Skipping.\n"
     ]
    },
    {
     "name": "stdout",
     "output_type": "stream",
     "text": [
      "['NC', 'KEB']\n",
      "['7D', 'FS09B']\n",
      "[############################            ] | 72% Completed | 20hr 40mAll prediction shape: (2, 5, 1439, 6000)\n",
      "[############################            ] | 72% Completed | 20hr 41m118 P picks\n",
      "112 S picks\n",
      "['7D', 'J33B']\n",
      "[############################            ] | 72% Completed | 20hr 41m"
     ]
    },
    {
     "name": "stderr",
     "output_type": "stream",
     "text": [
      "/tmp/ipykernel_523718/2319557713.py:13: RuntimeWarning: All-NaN axis encountered\n",
      "  np.nanmax([stack[idx:idx + twin], _data[iseg+1, :]], axis = 0)\n"
     ]
    },
    {
     "name": "stdout",
     "output_type": "stream",
     "text": [
      "[############################            ] | 72% Completed | 20hr 41mAll prediction shape: (2, 5, 3599, 6000)\n",
      "[############################            ] | 72% Completed | 20hr 45m211 P picks\n",
      "453 S picks\n"
     ]
    },
    {
     "name": "stderr",
     "output_type": "stream",
     "text": [
      "/tmp/ipykernel_523718/2319557713.py:13: RuntimeWarning: All-NaN axis encountered\n",
      "  np.nanmax([stack[idx:idx + twin], _data[iseg+1, :]], axis = 0)\n"
     ]
    },
    {
     "name": "stdout",
     "output_type": "stream",
     "text": [
      "['7D', 'M14B']\n",
      "[#############################           ] | 72% Completed | 20hr 46mAll prediction shape: (2, 5, 1439, 6000)\n",
      "[#############################           ] | 72% Completed | 20hr 46m196 P picks\n",
      "70 S picks\n",
      "['7D', 'G10B']\n",
      "[#############################           ] | 72% Completed | 20hr 46m"
     ]
    },
    {
     "name": "stderr",
     "output_type": "stream",
     "text": [
      "/tmp/ipykernel_523718/2319557713.py:13: RuntimeWarning: All-NaN axis encountered\n",
      "  np.nanmax([stack[idx:idx + twin], _data[iseg+1, :]], axis = 0)\n"
     ]
    },
    {
     "name": "stdout",
     "output_type": "stream",
     "text": [
      "[#############################           ] | 72% Completed | 20hr 47mAll prediction shape: (2, 5, 1439, 6000)\n",
      "[#############################           ] | 72% Completed | 20hr 47m61 P picks\n",
      "24 S picks\n",
      "['7D', 'M12B']\n",
      "[#############################           ] | 72% Completed | 20hr 47m"
     ]
    },
    {
     "name": "stderr",
     "output_type": "stream",
     "text": [
      "/tmp/ipykernel_523718/2319557713.py:13: RuntimeWarning: All-NaN axis encountered\n",
      "  np.nanmax([stack[idx:idx + twin], _data[iseg+1, :]], axis = 0)\n"
     ]
    },
    {
     "name": "stdout",
     "output_type": "stream",
     "text": [
      "[#############################           ] | 72% Completed | 20hr 47mAll prediction shape: (2, 5, 1439, 6000)\n",
      "[#############################           ] | 72% Completed | 20hr 48m190 P picks\n",
      "66 S picks\n"
     ]
    },
    {
     "name": "stderr",
     "output_type": "stream",
     "text": [
      "/tmp/ipykernel_523718/2319557713.py:13: RuntimeWarning: All-NaN axis encountered\n",
      "  np.nanmax([stack[idx:idx + twin], _data[iseg+1, :]], axis = 0)\n",
      "WARNING:root:No stream returned. Skipping.\n"
     ]
    },
    {
     "name": "stdout",
     "output_type": "stream",
     "text": [
      "['NC', 'KOM']\n",
      "['TA', 'I02D']\n",
      "[#############################           ] | 72% Completed | 20hr 48mAll prediction shape: (2, 5, 1150, 6000)\n",
      "[#############################           ] | 72% Completed | 20hr 49m28 P picks\n",
      "10 S picks\n"
     ]
    },
    {
     "name": "stderr",
     "output_type": "stream",
     "text": [
      "/tmp/ipykernel_523718/2319557713.py:13: RuntimeWarning: All-NaN axis encountered\n",
      "  np.nanmax([stack[idx:idx + twin], _data[iseg+1, :]], axis = 0)\n",
      "WARNING:root:No stream returned. Skipping.\n"
     ]
    },
    {
     "name": "stdout",
     "output_type": "stream",
     "text": [
      "['NC', 'KHMB']\n",
      "['NC', 'KHMB']\n",
      "[#############################           ] | 73% Completed | 20hr 49m"
     ]
    },
    {
     "name": "stderr",
     "output_type": "stream",
     "text": [
      "WARNING:root:No stream returned. Skipping.\n"
     ]
    },
    {
     "name": "stdout",
     "output_type": "stream",
     "text": [
      "['UW', 'BABR']\n",
      "[#############################           ] | 73% Completed | 20hr 49mAll prediction shape: (2, 5, 1151, 6000)\n",
      "[#############################           ] | 73% Completed | 20hr 50m10 P picks\n",
      "4 S picks\n",
      "['7D', 'G27B']\n",
      "[#############################           ] | 73% Completed | 20hr 50m"
     ]
    },
    {
     "name": "stderr",
     "output_type": "stream",
     "text": [
      "/tmp/ipykernel_523718/2319557713.py:13: RuntimeWarning: All-NaN axis encountered\n",
      "  np.nanmax([stack[idx:idx + twin], _data[iseg+1, :]], axis = 0)\n"
     ]
    },
    {
     "name": "stdout",
     "output_type": "stream",
     "text": [
      "[#############################           ] | 73% Completed | 20hr 50mAll prediction shape: (2, 5, 1439, 6000)\n",
      "[#############################           ] | 73% Completed | 20hr 51m46 P picks\n",
      "17 S picks\n"
     ]
    },
    {
     "name": "stderr",
     "output_type": "stream",
     "text": [
      "/tmp/ipykernel_523718/2319557713.py:13: RuntimeWarning: All-NaN axis encountered\n",
      "  np.nanmax([stack[idx:idx + twin], _data[iseg+1, :]], axis = 0)\n",
      "WARNING:root:No stream returned. Skipping.\n"
     ]
    },
    {
     "name": "stdout",
     "output_type": "stream",
     "text": [
      "['BK', 'JCC']\n",
      "['7D', 'G17B']\n",
      "[#############################           ] | 73% Completed | 20hr 51mAll prediction shape: (2, 5, 3599, 6000)\n",
      "[#############################           ] | 73% Completed | 20hr 55m490 P picks\n",
      "324 S picks\n"
     ]
    },
    {
     "name": "stderr",
     "output_type": "stream",
     "text": [
      "/tmp/ipykernel_523718/2319557713.py:13: RuntimeWarning: All-NaN axis encountered\n",
      "  np.nanmax([stack[idx:idx + twin], _data[iseg+1, :]], axis = 0)\n"
     ]
    },
    {
     "name": "stdout",
     "output_type": "stream",
     "text": [
      "['7D', 'G26B']\n",
      "[#############################           ] | 73% Completed | 20hr 55mAll prediction shape: (2, 5, 3599, 6000)\n",
      "[#############################           ] | 73% Completed | 21hr 0mm"
     ]
    },
    {
     "name": "stderr",
     "output_type": "stream",
     "text": [
      "/tmp/ipykernel_523718/2319557713.py:13: RuntimeWarning: All-NaN axis encountered\n",
      "  np.nanmax([stack[idx:idx + twin], _data[iseg+1, :]], axis = 0)\n"
     ]
    },
    {
     "name": "stdout",
     "output_type": "stream",
     "text": [
      "150 P picks\n",
      "140 S picks\n",
      "['NC', 'KRMB']\n",
      "[#############################           ] | 73% Completed | 21hr 0m"
     ]
    },
    {
     "name": "stderr",
     "output_type": "stream",
     "text": [
      "WARNING:root:No stream returned. Skipping.\n"
     ]
    },
    {
     "name": "stdout",
     "output_type": "stream",
     "text": [
      "['7D', 'M09B']\n",
      "[#############################           ] | 73% Completed | 21hr 0mAll prediction shape: (2, 5, 3599, 6000)\n",
      "[#############################           ] | 73% Completed | 21hr 4m506 P picks\n",
      "568 S picks\n",
      "[#############################           ] | 73% Completed | 21hr 4m"
     ]
    },
    {
     "name": "stderr",
     "output_type": "stream",
     "text": [
      "/tmp/ipykernel_523718/2319557713.py:13: RuntimeWarning: All-NaN axis encountered\n",
      "  np.nanmax([stack[idx:idx + twin], _data[iseg+1, :]], axis = 0)\n"
     ]
    },
    {
     "name": "stdout",
     "output_type": "stream",
     "text": [
      "['TA', 'J01E']\n",
      "[#############################           ] | 74% Completed | 21hr 4mAll prediction shape: (2, 5, 1151, 6000)\n",
      "[#############################           ] | 74% Completed | 21hr 5m34 P picks\n",
      "16 S picks\n",
      "['UW', 'BABR']\n",
      "[#############################           ] | 74% Completed | 21hr 5m"
     ]
    },
    {
     "name": "stderr",
     "output_type": "stream",
     "text": [
      "/tmp/ipykernel_523718/2319557713.py:13: RuntimeWarning: All-NaN axis encountered\n",
      "  np.nanmax([stack[idx:idx + twin], _data[iseg+1, :]], axis = 0)\n"
     ]
    },
    {
     "name": "stdout",
     "output_type": "stream",
     "text": [
      "[#############################           ] | 74% Completed | 21hr 5mAll prediction shape: (2, 5, 1151, 6000)\n",
      "[#############################           ] | 74% Completed | 21hr 6m15 P picks\n",
      "7 S picks\n",
      "['7D', 'G17B']\n",
      "[#############################           ] | 74% Completed | 21hr 6m"
     ]
    },
    {
     "name": "stderr",
     "output_type": "stream",
     "text": [
      "/tmp/ipykernel_523718/2319557713.py:13: RuntimeWarning: All-NaN axis encountered\n",
      "  np.nanmax([stack[idx:idx + twin], _data[iseg+1, :]], axis = 0)\n"
     ]
    },
    {
     "name": "stdout",
     "output_type": "stream",
     "text": [
      "[#############################           ] | 74% Completed | 21hr 6mAll prediction shape: (2, 5, 3599, 6000)\n",
      "[#############################           ] | 74% Completed | 21hr 10m740 P picks\n",
      "664 S picks\n"
     ]
    },
    {
     "name": "stderr",
     "output_type": "stream",
     "text": [
      "/tmp/ipykernel_523718/2319557713.py:13: RuntimeWarning: All-NaN axis encountered\n",
      "  np.nanmax([stack[idx:idx + twin], _data[iseg+1, :]], axis = 0)\n"
     ]
    },
    {
     "name": "stdout",
     "output_type": "stream",
     "text": [
      "['7D', 'G17B']\n",
      "[#############################           ] | 74% Completed | 21hr 10mAll prediction shape: (2, 5, 3598, 6000)\n",
      "[#############################           ] | 74% Completed | 21hr 15m491 P picks\n",
      "368 S picks\n",
      "[#############################           ] | 74% Completed | 21hr 15m"
     ]
    },
    {
     "name": "stderr",
     "output_type": "stream",
     "text": [
      "/tmp/ipykernel_523718/2319557713.py:13: RuntimeWarning: All-NaN axis encountered\n",
      "  np.nanmax([stack[idx:idx + twin], _data[iseg+1, :]], axis = 0)\n"
     ]
    },
    {
     "name": "stdout",
     "output_type": "stream",
     "text": [
      "['7D', 'FS13B']\n",
      "[#############################           ] | 74% Completed | 21hr 15m"
     ]
    },
    {
     "name": "stderr",
     "output_type": "stream",
     "text": [
      "/tmp/ipykernel_523718/1201587985.py:95: RuntimeWarning: invalid value encountered in divide\n",
      "  windows_max[iseg, :] = windows[iseg, :] / (np.max(np.abs(windows[iseg, :]), axis=-1, keepdims=True))\n"
     ]
    },
    {
     "name": "stdout",
     "output_type": "stream",
     "text": [
      "[#############################           ] | 74% Completed | 21hr 15mAll prediction shape: (2, 5, 3599, 6000)\n",
      "[#############################           ] | 74% Completed | 21hr 19m518 P picks\n",
      "214 S picks\n",
      "['7D', 'M09B']\n",
      "[#############################           ] | 74% Completed | 21hr 19m"
     ]
    },
    {
     "name": "stderr",
     "output_type": "stream",
     "text": [
      "/tmp/ipykernel_523718/2319557713.py:13: RuntimeWarning: All-NaN axis encountered\n",
      "  np.nanmax([stack[idx:idx + twin], _data[iseg+1, :]], axis = 0)\n"
     ]
    },
    {
     "name": "stdout",
     "output_type": "stream",
     "text": [
      "[#############################           ] | 74% Completed | 21hr 20mAll prediction shape: (2, 5, 3599, 6000)\n",
      "[#############################           ] | 74% Completed | 21hr 24m490 P picks\n",
      "581 S picks\n"
     ]
    },
    {
     "name": "stderr",
     "output_type": "stream",
     "text": [
      "/tmp/ipykernel_523718/2319557713.py:13: RuntimeWarning: All-NaN axis encountered\n",
      "  np.nanmax([stack[idx:idx + twin], _data[iseg+1, :]], axis = 0)\n"
     ]
    },
    {
     "name": "stdout",
     "output_type": "stream",
     "text": [
      "['BK', 'JCC']\n",
      "\r",
      "[#############################           ] | 74% Completed | 21hr 24m"
     ]
    },
    {
     "name": "stderr",
     "output_type": "stream",
     "text": [
      "WARNING:root:No stream returned. Skipping.\n"
     ]
    },
    {
     "name": "stdout",
     "output_type": "stream",
     "text": [
      "['7D', 'J25B']\n",
      "[#############################           ] | 74% Completed | 21hr 24mAll prediction shape: (2, 5, 3599, 6000)\n",
      "[#############################           ] | 74% Completed | 21hr 28m"
     ]
    },
    {
     "name": "stderr",
     "output_type": "stream",
     "text": [
      "/tmp/ipykernel_523718/2319557713.py:13: RuntimeWarning: All-NaN axis encountered\n",
      "  np.nanmax([stack[idx:idx + twin], _data[iseg+1, :]], axis = 0)\n"
     ]
    },
    {
     "name": "stdout",
     "output_type": "stream",
     "text": [
      "529 P picks\n",
      "770 S picks\n",
      "['7D', 'G17B']\n",
      "[#############################           ] | 74% Completed | 21hr 29mAll prediction shape: (2, 5, 3599, 6000)\n",
      "[#############################           ] | 74% Completed | 21hr 33m602 P picks\n",
      "726 S picks\n",
      "[#############################           ] | 74% Completed | 21hr 33m"
     ]
    },
    {
     "name": "stderr",
     "output_type": "stream",
     "text": [
      "/tmp/ipykernel_523718/2319557713.py:13: RuntimeWarning: All-NaN axis encountered\n",
      "  np.nanmax([stack[idx:idx + twin], _data[iseg+1, :]], axis = 0)\n"
     ]
    },
    {
     "name": "stdout",
     "output_type": "stream",
     "text": [
      "['7D', 'J25B']\n",
      "[##############################          ] | 75% Completed | 21hr 33mAll prediction shape: (2, 5, 3599, 6000)\n",
      "[##############################          ] | 75% Completed | 21hr 38m"
     ]
    },
    {
     "name": "stderr",
     "output_type": "stream",
     "text": [
      "/tmp/ipykernel_523718/2319557713.py:13: RuntimeWarning: All-NaN axis encountered\n",
      "  np.nanmax([stack[idx:idx + twin], _data[iseg+1, :]], axis = 0)\n"
     ]
    },
    {
     "name": "stdout",
     "output_type": "stream",
     "text": [
      "[##############################          ] | 75% Completed | 21hr 38m562 P picks\n",
      "770 S picks\n",
      "['7D', 'M12B']\n",
      "[##############################          ] | 75% Completed | 21hr 38mAll prediction shape: (2, 5, 1439, 6000)\n",
      "[##############################          ] | 75% Completed | 21hr 39m174 P picks\n",
      "62 S picks\n",
      "['NC', 'KHBB']\n",
      "[##############################          ] | 75% Completed | 21hr 39m"
     ]
    },
    {
     "name": "stderr",
     "output_type": "stream",
     "text": [
      "/tmp/ipykernel_523718/2319557713.py:13: RuntimeWarning: All-NaN axis encountered\n",
      "  np.nanmax([stack[idx:idx + twin], _data[iseg+1, :]], axis = 0)\n",
      "WARNING:root:No stream returned. Skipping.\n"
     ]
    },
    {
     "name": "stdout",
     "output_type": "stream",
     "text": [
      "['UW', 'BABR']\n",
      "[##############################          ] | 75% Completed | 21hr 39mAll prediction shape: (2, 5, 1151, 6000)\n",
      "[##############################          ] | 75% Completed | 21hr 39m5 P picks\n",
      "0 S picks\n",
      "['7D', 'J25B']\n",
      "[##############################          ] | 75% Completed | 21hr 39m"
     ]
    },
    {
     "name": "stderr",
     "output_type": "stream",
     "text": [
      "/tmp/ipykernel_523718/2319557713.py:13: RuntimeWarning: All-NaN axis encountered\n",
      "  np.nanmax([stack[idx:idx + twin], _data[iseg+1, :]], axis = 0)\n"
     ]
    },
    {
     "name": "stdout",
     "output_type": "stream",
     "text": [
      "[##############################          ] | 75% Completed | 21hr 40mAll prediction shape: (2, 5, 3599, 6000)\n",
      "[##############################          ] | 75% Completed | 21hr 44m"
     ]
    },
    {
     "name": "stderr",
     "output_type": "stream",
     "text": [
      "/tmp/ipykernel_523718/2319557713.py:13: RuntimeWarning: All-NaN axis encountered\n",
      "  np.nanmax([stack[idx:idx + twin], _data[iseg+1, :]], axis = 0)\n"
     ]
    },
    {
     "name": "stdout",
     "output_type": "stream",
     "text": [
      "580 P picks\n",
      "722 S picks\n",
      "['7D', 'G27B']\n",
      "[##############################          ] | 75% Completed | 21hr 44mAll prediction shape: (2, 5, 1439, 6000)\n",
      "[##############################          ] | 75% Completed | 21hr 45m91 P picks\n",
      "29 S picks\n",
      "['NC', 'KBO']\n",
      "[##############################          ] | 75% Completed | 21hr 45m"
     ]
    },
    {
     "name": "stderr",
     "output_type": "stream",
     "text": [
      "/tmp/ipykernel_523718/2319557713.py:13: RuntimeWarning: All-NaN axis encountered\n",
      "  np.nanmax([stack[idx:idx + twin], _data[iseg+1, :]], axis = 0)\n",
      "WARNING:root:No stream returned. Skipping.\n"
     ]
    },
    {
     "name": "stdout",
     "output_type": "stream",
     "text": [
      "['TA', 'J01E']\n",
      "[##############################          ] | 75% Completed | 21hr 45mAll prediction shape: (2, 5, 1151, 6000)\n",
      "[##############################          ] | 75% Completed | 21hr 46m24 P picks\n",
      "19 S picks\n",
      "['NC', 'KMPB']\n",
      "[##############################          ] | 75% Completed | 21hr 46m"
     ]
    },
    {
     "name": "stderr",
     "output_type": "stream",
     "text": [
      "/tmp/ipykernel_523718/2319557713.py:13: RuntimeWarning: All-NaN axis encountered\n",
      "  np.nanmax([stack[idx:idx + twin], _data[iseg+1, :]], axis = 0)\n",
      "WARNING:root:No stream returned. Skipping.\n",
      "WARNING:root:No stream returned. Skipping.\n"
     ]
    },
    {
     "name": "stdout",
     "output_type": "stream",
     "text": [
      "['NC', 'KHMB']\n",
      "['7D', 'J09B']\n",
      "[##############################          ] | 76% Completed | 21hr 46mAll prediction shape: (2, 5, 1438, 6000)\n",
      "[##############################          ] | 76% Completed | 21hr 47m96 P picks\n",
      "14 S picks\n",
      "['TA', 'J01E']\n",
      "[##############################          ] | 76% Completed | 21hr 47m"
     ]
    },
    {
     "name": "stderr",
     "output_type": "stream",
     "text": [
      "/tmp/ipykernel_523718/2319557713.py:13: RuntimeWarning: All-NaN axis encountered\n",
      "  np.nanmax([stack[idx:idx + twin], _data[iseg+1, :]], axis = 0)\n"
     ]
    },
    {
     "name": "stdout",
     "output_type": "stream",
     "text": [
      "[##############################          ] | 76% Completed | 21hr 47mAll prediction shape: (2, 5, 1150, 6000)\n",
      "[##############################          ] | 76% Completed | 21hr 47m26 P picks\n",
      "15 S picks\n",
      "['7D', 'FS20B']\n",
      "[##############################          ] | 76% Completed | 21hr 47m"
     ]
    },
    {
     "name": "stderr",
     "output_type": "stream",
     "text": [
      "/tmp/ipykernel_523718/2319557713.py:13: RuntimeWarning: All-NaN axis encountered\n",
      "  np.nanmax([stack[idx:idx + twin], _data[iseg+1, :]], axis = 0)\n"
     ]
    },
    {
     "name": "stdout",
     "output_type": "stream",
     "text": [
      "[##############################          ] | 76% Completed | 21hr 48mAll prediction shape: (2, 5, 3599, 6000)\n",
      "[##############################          ] | 76% Completed | 21hr 52m173 P picks\n",
      "127 S picks\n"
     ]
    },
    {
     "name": "stderr",
     "output_type": "stream",
     "text": [
      "/tmp/ipykernel_523718/2319557713.py:13: RuntimeWarning: All-NaN axis encountered\n",
      "  np.nanmax([stack[idx:idx + twin], _data[iseg+1, :]], axis = 0)\n"
     ]
    },
    {
     "name": "stdout",
     "output_type": "stream",
     "text": [
      "['7D', 'G10B']\n",
      "[##############################          ] | 76% Completed | 21hr 52mAll prediction shape: (2, 5, 1439, 6000)\n",
      "[##############################          ] | 76% Completed | 21hr 53m69 P picks\n",
      "27 S picks\n"
     ]
    },
    {
     "name": "stderr",
     "output_type": "stream",
     "text": [
      "/tmp/ipykernel_523718/2319557713.py:13: RuntimeWarning: All-NaN axis encountered\n",
      "  np.nanmax([stack[idx:idx + twin], _data[iseg+1, :]], axis = 0)\n",
      "WARNING:root:No stream returned. Skipping.\n"
     ]
    },
    {
     "name": "stdout",
     "output_type": "stream",
     "text": [
      "['NC', 'KMPB']\n",
      "['7D', 'G26B']\n",
      "[##############################          ] | 76% Completed | 21hr 53mAll prediction shape: (2, 5, 3598, 6000)\n",
      "[##############################          ] | 76% Completed | 21hr 57m92 P picks\n",
      "80 S picks\n",
      "['NC', 'KEB']\n",
      "[##############################          ] | 76% Completed | 21hr 57m"
     ]
    },
    {
     "name": "stderr",
     "output_type": "stream",
     "text": [
      "/tmp/ipykernel_523718/2319557713.py:13: RuntimeWarning: All-NaN axis encountered\n",
      "  np.nanmax([stack[idx:idx + twin], _data[iseg+1, :]], axis = 0)\n",
      "WARNING:root:No stream returned. Skipping.\n",
      "WARNING:root:No stream returned. Skipping.\n"
     ]
    },
    {
     "name": "stdout",
     "output_type": "stream",
     "text": [
      "['NC', 'KBO']\n",
      "['7D', 'G17B']\n",
      "[##############################          ] | 77% Completed | 21hr 58mAll prediction shape: (2, 5, 3599, 6000)\n",
      "[##############################          ] | 77% Completed | 22hr 2mm"
     ]
    },
    {
     "name": "stderr",
     "output_type": "stream",
     "text": [
      "/tmp/ipykernel_523718/2319557713.py:13: RuntimeWarning: All-NaN axis encountered\n",
      "  np.nanmax([stack[idx:idx + twin], _data[iseg+1, :]], axis = 0)\n"
     ]
    },
    {
     "name": "stdout",
     "output_type": "stream",
     "text": [
      "545 P picks\n",
      "575 S picks\n",
      "['7D', 'G25B']\n",
      "[##############################          ] | 77% Completed | 22hr 3mAll prediction shape: (2, 5, 3599, 6000)\n",
      "[##############################          ] | 77% Completed | 22hr 7m380 P picks\n",
      "166 S picks\n",
      "['BK', 'JCC']\n",
      "[##############################          ] | 77% Completed | 22hr 7m"
     ]
    },
    {
     "name": "stderr",
     "output_type": "stream",
     "text": [
      "/tmp/ipykernel_523718/2319557713.py:13: RuntimeWarning: All-NaN axis encountered\n",
      "  np.nanmax([stack[idx:idx + twin], _data[iseg+1, :]], axis = 0)\n",
      "WARNING:root:No stream returned. Skipping.\n",
      "WARNING:root:No stream returned. Skipping.\n"
     ]
    },
    {
     "name": "stdout",
     "output_type": "stream",
     "text": [
      "['TA', 'J01E']\n",
      "['7D', 'G17B']\n",
      "[###############################         ] | 77% Completed | 22hr 7mAll prediction shape: (2, 5, 3599, 6000)\n",
      "[###############################         ] | 77% Completed | 22hr 11m574 P picks\n",
      "588 S picks\n",
      "[###############################         ] | 77% Completed | 22hr 11m"
     ]
    },
    {
     "name": "stderr",
     "output_type": "stream",
     "text": [
      "/tmp/ipykernel_523718/2319557713.py:13: RuntimeWarning: All-NaN axis encountered\n",
      "  np.nanmax([stack[idx:idx + twin], _data[iseg+1, :]], axis = 0)\n"
     ]
    },
    {
     "name": "stdout",
     "output_type": "stream",
     "text": [
      "['7D', 'FS20B']\n",
      "[###############################         ] | 77% Completed | 22hr 12mAll prediction shape: (2, 5, 3598, 6000)\n",
      "[###############################         ] | 77% Completed | 22hr 16m119 P picks\n",
      "96 S picks\n"
     ]
    },
    {
     "name": "stderr",
     "output_type": "stream",
     "text": [
      "/tmp/ipykernel_523718/2319557713.py:13: RuntimeWarning: All-NaN axis encountered\n",
      "  np.nanmax([stack[idx:idx + twin], _data[iseg+1, :]], axis = 0)\n"
     ]
    },
    {
     "name": "stdout",
     "output_type": "stream",
     "text": [
      "['7D', 'FS17B']\n",
      "[###############################         ] | 77% Completed | 22hr 16mAll prediction shape: (2, 5, 3599, 6000)\n",
      "[###############################         ] | 77% Completed | 22hr 20m"
     ]
    },
    {
     "name": "stderr",
     "output_type": "stream",
     "text": [
      "/tmp/ipykernel_523718/2319557713.py:13: RuntimeWarning: All-NaN axis encountered\n",
      "  np.nanmax([stack[idx:idx + twin], _data[iseg+1, :]], axis = 0)\n"
     ]
    },
    {
     "name": "stdout",
     "output_type": "stream",
     "text": [
      "500 P picks\n",
      "213 S picks\n"
     ]
    },
    {
     "name": "stderr",
     "output_type": "stream",
     "text": [
      "WARNING:root:No stream returned. Skipping.\n"
     ]
    },
    {
     "name": "stdout",
     "output_type": "stream",
     "text": [
      "['NC', 'KMPB']\n",
      "['7D', 'FS09B']\n",
      "[###############################         ] | 77% Completed | 22hr 20mAll prediction shape: (2, 5, 1439, 6000)\n",
      "[###############################         ] | 77% Completed | 22hr 21m132 P picks\n",
      "145 S picks\n",
      "['7D', 'M12B']\n",
      "[###############################         ] | 78% Completed | 22hr 21m"
     ]
    },
    {
     "name": "stderr",
     "output_type": "stream",
     "text": [
      "/tmp/ipykernel_523718/2319557713.py:13: RuntimeWarning: All-NaN axis encountered\n",
      "  np.nanmax([stack[idx:idx + twin], _data[iseg+1, :]], axis = 0)\n"
     ]
    },
    {
     "name": "stdout",
     "output_type": "stream",
     "text": [
      "[###############################         ] | 78% Completed | 22hr 21mAll prediction shape: (2, 5, 1439, 6000)\n",
      "[###############################         ] | 78% Completed | 22hr 22m198 P picks\n",
      "82 S picks\n"
     ]
    },
    {
     "name": "stderr",
     "output_type": "stream",
     "text": [
      "/tmp/ipykernel_523718/2319557713.py:13: RuntimeWarning: All-NaN axis encountered\n",
      "  np.nanmax([stack[idx:idx + twin], _data[iseg+1, :]], axis = 0)\n",
      "WARNING:root:No stream returned. Skipping.\n"
     ]
    },
    {
     "name": "stdout",
     "output_type": "stream",
     "text": [
      "['NC', 'KMPB']\n",
      "['TA', 'I02D']\n",
      "[###############################         ] | 78% Completed | 22hr 22mAll prediction shape: (2, 5, 1151, 6000)\n",
      "[###############################         ] | 78% Completed | 22hr 23m21 P picks\n",
      "8 S picks\n",
      "['7D', 'G25B']\n",
      "[###############################         ] | 78% Completed | 22hr 23m"
     ]
    },
    {
     "name": "stderr",
     "output_type": "stream",
     "text": [
      "/tmp/ipykernel_523718/2319557713.py:13: RuntimeWarning: All-NaN axis encountered\n",
      "  np.nanmax([stack[idx:idx + twin], _data[iseg+1, :]], axis = 0)\n"
     ]
    },
    {
     "name": "stdout",
     "output_type": "stream",
     "text": [
      "[###############################         ] | 78% Completed | 22hr 23mAll prediction shape: (2, 5, 3598, 6000)\n",
      "[###############################         ] | 78% Completed | 22hr 28m623 P picks\n",
      "236 S picks\n"
     ]
    },
    {
     "name": "stderr",
     "output_type": "stream",
     "text": [
      "/tmp/ipykernel_523718/2319557713.py:13: RuntimeWarning: All-NaN axis encountered\n",
      "  np.nanmax([stack[idx:idx + twin], _data[iseg+1, :]], axis = 0)\n"
     ]
    },
    {
     "name": "stdout",
     "output_type": "stream",
     "text": [
      "['7D', 'G25B']\n",
      "[###############################         ] | 78% Completed | 22hr 28mAll prediction shape: (2, 5, 3599, 6000)\n",
      "[###############################         ] | 78% Completed | 22hr 32m"
     ]
    },
    {
     "name": "stderr",
     "output_type": "stream",
     "text": [
      "/tmp/ipykernel_523718/2319557713.py:13: RuntimeWarning: All-NaN axis encountered\n",
      "  np.nanmax([stack[idx:idx + twin], _data[iseg+1, :]], axis = 0)\n"
     ]
    },
    {
     "name": "stdout",
     "output_type": "stream",
     "text": [
      "535 P picks\n",
      "240 S picks\n",
      "['7D', 'FS16B']\n",
      "[###############################         ] | 78% Completed | 22hr 33mAll prediction shape: (2, 5, 3598, 6000)\n",
      "[###############################         ] | 78% Completed | 22hr 37m462 P picks\n",
      "484 S picks\n"
     ]
    },
    {
     "name": "stderr",
     "output_type": "stream",
     "text": [
      "/tmp/ipykernel_523718/2319557713.py:13: RuntimeWarning: All-NaN axis encountered\n",
      "  np.nanmax([stack[idx:idx + twin], _data[iseg+1, :]], axis = 0)\n"
     ]
    },
    {
     "name": "stdout",
     "output_type": "stream",
     "text": [
      "['TA', 'I02D']\n",
      "[###############################         ] | 78% Completed | 22hr 37mAll prediction shape: (2, 5, 1151, 6000)\n",
      "[###############################         ] | 78% Completed | 22hr 38m18 P picks\n",
      "17 S picks\n",
      "['NC', 'KSXB']\n",
      "[###############################         ] | 78% Completed | 22hr 38m"
     ]
    },
    {
     "name": "stderr",
     "output_type": "stream",
     "text": [
      "/tmp/ipykernel_523718/2319557713.py:13: RuntimeWarning: All-NaN axis encountered\n",
      "  np.nanmax([stack[idx:idx + twin], _data[iseg+1, :]], axis = 0)\n",
      "WARNING:root:No stream returned. Skipping.\n"
     ]
    },
    {
     "name": "stdout",
     "output_type": "stream",
     "text": [
      "['7D', 'G10B']\n",
      "[###############################         ] | 78% Completed | 22hr 38mAll prediction shape: (2, 5, 1439, 6000)\n",
      "[###############################         ] | 78% Completed | 22hr 38m39 P picks\n",
      "12 S picks\n",
      "['NC', 'KRMB']\n",
      "[###############################         ] | 79% Completed | 22hr 38m"
     ]
    },
    {
     "name": "stderr",
     "output_type": "stream",
     "text": [
      "/tmp/ipykernel_523718/2319557713.py:13: RuntimeWarning: All-NaN axis encountered\n",
      "  np.nanmax([stack[idx:idx + twin], _data[iseg+1, :]], axis = 0)\n",
      "WARNING:root:No stream returned. Skipping.\n"
     ]
    },
    {
     "name": "stdout",
     "output_type": "stream",
     "text": [
      "['7D', 'G10B']\n",
      "[###############################         ] | 79% Completed | 22hr 39mAll prediction shape: (2, 5, 1439, 6000)\n",
      "[###############################         ] | 79% Completed | 22hr 39m43 P picks\n",
      "28 S picks\n",
      "['7D', 'J09B']\n",
      "[###############################         ] | 79% Completed | 22hr 39m"
     ]
    },
    {
     "name": "stderr",
     "output_type": "stream",
     "text": [
      "/tmp/ipykernel_523718/2319557713.py:13: RuntimeWarning: All-NaN axis encountered\n",
      "  np.nanmax([stack[idx:idx + twin], _data[iseg+1, :]], axis = 0)\n"
     ]
    },
    {
     "name": "stdout",
     "output_type": "stream",
     "text": [
      "[###############################         ] | 79% Completed | 22hr 40mAll prediction shape: (2, 5, 1439, 6000)\n",
      "[###############################         ] | 79% Completed | 22hr 40m110 P picks\n",
      "25 S picks\n",
      "['TA', 'J01E']\n",
      "[###############################         ] | 79% Completed | 22hr 40m"
     ]
    },
    {
     "name": "stderr",
     "output_type": "stream",
     "text": [
      "/tmp/ipykernel_523718/2319557713.py:13: RuntimeWarning: All-NaN axis encountered\n",
      "  np.nanmax([stack[idx:idx + twin], _data[iseg+1, :]], axis = 0)\n"
     ]
    },
    {
     "name": "stdout",
     "output_type": "stream",
     "text": [
      "[###############################         ] | 79% Completed | 22hr 41mAll prediction shape: (2, 5, 1150, 6000)\n",
      "[###############################         ] | 79% Completed | 22hr 41m17 P picks\n",
      "4 S picks\n",
      "['TA', 'I02D']\n",
      "[###############################         ] | 79% Completed | 22hr 41m"
     ]
    },
    {
     "name": "stderr",
     "output_type": "stream",
     "text": [
      "/tmp/ipykernel_523718/2319557713.py:13: RuntimeWarning: All-NaN axis encountered\n",
      "  np.nanmax([stack[idx:idx + twin], _data[iseg+1, :]], axis = 0)\n"
     ]
    },
    {
     "name": "stdout",
     "output_type": "stream",
     "text": [
      "[###############################         ] | 79% Completed | 22hr 41mAll prediction shape: (2, 5, 1151, 6000)\n",
      "[###############################         ] | 79% Completed | 22hr 42m16 P picks\n",
      "14 S picks\n",
      "['7D', 'FS16B']\n",
      "[###############################         ] | 79% Completed | 22hr 42m"
     ]
    },
    {
     "name": "stderr",
     "output_type": "stream",
     "text": [
      "/tmp/ipykernel_523718/2319557713.py:13: RuntimeWarning: All-NaN axis encountered\n",
      "  np.nanmax([stack[idx:idx + twin], _data[iseg+1, :]], axis = 0)\n"
     ]
    },
    {
     "name": "stdout",
     "output_type": "stream",
     "text": [
      "[###############################         ] | 79% Completed | 22hr 42mAll prediction shape: (2, 5, 3598, 6000)\n",
      "[###############################         ] | 79% Completed | 22hr 47m369 P picks\n",
      "382 S picks\n"
     ]
    },
    {
     "name": "stderr",
     "output_type": "stream",
     "text": [
      "/tmp/ipykernel_523718/2319557713.py:13: RuntimeWarning: All-NaN axis encountered\n",
      "  np.nanmax([stack[idx:idx + twin], _data[iseg+1, :]], axis = 0)\n",
      "WARNING:root:No stream returned. Skipping.\n"
     ]
    },
    {
     "name": "stdout",
     "output_type": "stream",
     "text": [
      "['NC', 'KRMB']\n",
      "['7D', 'FS13B']\n",
      "[###############################         ] | 79% Completed | 22hr 47mAll prediction shape: (2, 5, 3599, 6000)\n",
      "[###############################         ] | 79% Completed | 22hr 51m"
     ]
    },
    {
     "name": "stderr",
     "output_type": "stream",
     "text": [
      "/tmp/ipykernel_523718/2319557713.py:13: RuntimeWarning: All-NaN axis encountered\n",
      "  np.nanmax([stack[idx:idx + twin], _data[iseg+1, :]], axis = 0)\n"
     ]
    },
    {
     "name": "stdout",
     "output_type": "stream",
     "text": [
      "712 P picks\n",
      "478 S picks\n",
      "['NC', 'KHMB']\n",
      "[###############################         ] | 79% Completed | 22hr 51m"
     ]
    },
    {
     "name": "stderr",
     "output_type": "stream",
     "text": [
      "WARNING:root:No stream returned. Skipping.\n"
     ]
    },
    {
     "name": "stdout",
     "output_type": "stream",
     "text": [
      "['7D', 'FS17B']\n",
      "[################################        ] | 80% Completed | 22hr 52mAll prediction shape: (2, 5, 3599, 6000)\n",
      "[################################        ] | 80% Completed | 22hr 56m"
     ]
    },
    {
     "name": "stderr",
     "output_type": "stream",
     "text": [
      "/tmp/ipykernel_523718/2319557713.py:13: RuntimeWarning: All-NaN axis encountered\n",
      "  np.nanmax([stack[idx:idx + twin], _data[iseg+1, :]], axis = 0)\n"
     ]
    },
    {
     "name": "stdout",
     "output_type": "stream",
     "text": [
      "422 P picks\n",
      "211 S picks\n",
      "['7D', 'J09B']\n",
      "[################################        ] | 80% Completed | 22hr 56mAll prediction shape: (2, 5, 1439, 6000)\n",
      "[################################        ] | 80% Completed | 22hr 57m126 P picks\n",
      "15 S picks\n",
      "['7D', 'FS16B']\n",
      "[################################        ] | 80% Completed | 22hr 57m"
     ]
    },
    {
     "name": "stderr",
     "output_type": "stream",
     "text": [
      "/tmp/ipykernel_523718/2319557713.py:13: RuntimeWarning: All-NaN axis encountered\n",
      "  np.nanmax([stack[idx:idx + twin], _data[iseg+1, :]], axis = 0)\n"
     ]
    },
    {
     "name": "stdout",
     "output_type": "stream",
     "text": [
      "[################################        ] | 80% Completed | 22hr 57mAll prediction shape: (2, 5, 3599, 6000)\n",
      "[################################        ] | 80% Completed | 23hr 2mm"
     ]
    },
    {
     "name": "stderr",
     "output_type": "stream",
     "text": [
      "/tmp/ipykernel_523718/2319557713.py:13: RuntimeWarning: All-NaN axis encountered\n",
      "  np.nanmax([stack[idx:idx + twin], _data[iseg+1, :]], axis = 0)\n"
     ]
    },
    {
     "name": "stdout",
     "output_type": "stream",
     "text": [
      "379 P picks\n",
      "458 S picks\n",
      "['7D', 'G27B']\n",
      "[################################        ] | 80% Completed | 23hr 2mAll prediction shape: (2, 5, 1439, 6000)\n",
      "[################################        ] | 80% Completed | 23hr 3m85 P picks\n",
      "37 S picks\n",
      "['7D', 'FS13B']\n",
      "[################################        ] | 80% Completed | 23hr 3m"
     ]
    },
    {
     "name": "stderr",
     "output_type": "stream",
     "text": [
      "/tmp/ipykernel_523718/2319557713.py:13: RuntimeWarning: All-NaN axis encountered\n",
      "  np.nanmax([stack[idx:idx + twin], _data[iseg+1, :]], axis = 0)\n"
     ]
    },
    {
     "name": "stdout",
     "output_type": "stream",
     "text": [
      "[################################        ] | 80% Completed | 23hr 3mAll prediction shape: (2, 5, 3599, 6000)\n",
      "[################################        ] | 80% Completed | 23hr 7m349 P picks\n",
      "257 S picks\n"
     ]
    },
    {
     "name": "stderr",
     "output_type": "stream",
     "text": [
      "/tmp/ipykernel_523718/2319557713.py:13: RuntimeWarning: All-NaN axis encountered\n",
      "  np.nanmax([stack[idx:idx + twin], _data[iseg+1, :]], axis = 0)\n"
     ]
    },
    {
     "name": "stdout",
     "output_type": "stream",
     "text": [
      "['7D', 'J33B']\n",
      "[################################        ] | 80% Completed | 23hr 7mAll prediction shape: (2, 5, 3599, 6000)\n",
      "[################################        ] | 80% Completed | 23hr 12m180 P picks\n",
      "300 S picks\n",
      "[################################        ] | 80% Completed | 23hr 12m"
     ]
    },
    {
     "name": "stderr",
     "output_type": "stream",
     "text": [
      "/tmp/ipykernel_523718/2319557713.py:13: RuntimeWarning: All-NaN axis encountered\n",
      "  np.nanmax([stack[idx:idx + twin], _data[iseg+1, :]], axis = 0)\n"
     ]
    },
    {
     "name": "stdout",
     "output_type": "stream",
     "text": [
      "['TA', 'I02D']\n",
      "[################################        ] | 80% Completed | 23hr 12mAll prediction shape: (2, 5, 1151, 6000)\n",
      "[################################        ] | 80% Completed | 23hr 13m24 P picks\n",
      "18 S picks\n",
      "['NC', 'KHMB']\n",
      "[################################        ] | 80% Completed | 23hr 13m"
     ]
    },
    {
     "name": "stderr",
     "output_type": "stream",
     "text": [
      "/tmp/ipykernel_523718/2319557713.py:13: RuntimeWarning: All-NaN axis encountered\n",
      "  np.nanmax([stack[idx:idx + twin], _data[iseg+1, :]], axis = 0)\n",
      "WARNING:root:No stream returned. Skipping.\n",
      "WARNING:root:No stream returned. Skipping.\n"
     ]
    },
    {
     "name": "stdout",
     "output_type": "stream",
     "text": [
      "['NC', 'KSXB']\n"
     ]
    },
    {
     "name": "stderr",
     "output_type": "stream",
     "text": [
      "WARNING:root:No stream returned. Skipping.\n"
     ]
    },
    {
     "name": "stdout",
     "output_type": "stream",
     "text": [
      "['NC', 'KHBB']\n",
      "['TA', 'J01E']\n",
      "[################################        ] | 81% Completed | 23hr 13m"
     ]
    },
    {
     "name": "stderr",
     "output_type": "stream",
     "text": [
      "WARNING:root:No stream returned. Skipping.\n"
     ]
    },
    {
     "name": "stdout",
     "output_type": "stream",
     "text": [
      "['NC', 'KHMB']\n"
     ]
    },
    {
     "name": "stderr",
     "output_type": "stream",
     "text": [
      "WARNING:root:No stream returned. Skipping.\n"
     ]
    },
    {
     "name": "stdout",
     "output_type": "stream",
     "text": [
      "['7D', 'M12B']\n",
      "[################################        ] | 81% Completed | 23hr 13mAll prediction shape: (2, 5, 1439, 6000)\n",
      "[################################        ] | 81% Completed | 23hr 13m199 P picks\n",
      "73 S picks\n",
      "['7D', 'M09B']\n",
      "[################################        ] | 81% Completed | 23hr 13m"
     ]
    },
    {
     "name": "stderr",
     "output_type": "stream",
     "text": [
      "/tmp/ipykernel_523718/2319557713.py:13: RuntimeWarning: All-NaN axis encountered\n",
      "  np.nanmax([stack[idx:idx + twin], _data[iseg+1, :]], axis = 0)\n"
     ]
    },
    {
     "name": "stdout",
     "output_type": "stream",
     "text": [
      "[################################        ] | 81% Completed | 23hr 14mAll prediction shape: (2, 5, 3599, 6000)\n",
      "[################################        ] | 81% Completed | 23hr 18m425 P picks\n",
      "488 S picks\n"
     ]
    },
    {
     "name": "stderr",
     "output_type": "stream",
     "text": [
      "/tmp/ipykernel_523718/2319557713.py:13: RuntimeWarning: All-NaN axis encountered\n",
      "  np.nanmax([stack[idx:idx + twin], _data[iseg+1, :]], axis = 0)\n"
     ]
    },
    {
     "name": "stdout",
     "output_type": "stream",
     "text": [
      "['7D', 'J25B']\n",
      "[################################        ] | 81% Completed | 23hr 18mAll prediction shape: (2, 5, 3598, 6000)\n",
      "[################################        ] | 81% Completed | 23hr 23m458 P picks\n",
      "582 S picks\n",
      "[################################        ] | 81% Completed | 23hr 23m"
     ]
    },
    {
     "name": "stderr",
     "output_type": "stream",
     "text": [
      "/tmp/ipykernel_523718/2319557713.py:13: RuntimeWarning: All-NaN axis encountered\n",
      "  np.nanmax([stack[idx:idx + twin], _data[iseg+1, :]], axis = 0)\n"
     ]
    },
    {
     "name": "stdout",
     "output_type": "stream",
     "text": [
      "['7D', 'FS17B']\n",
      "[################################        ] | 81% Completed | 23hr 23mAll prediction shape: (2, 5, 3599, 6000)\n",
      "[################################        ] | 81% Completed | 23hr 27m646 P picks\n",
      "443 S picks\n",
      "[################################        ] | 81% Completed | 23hr 27m"
     ]
    },
    {
     "name": "stderr",
     "output_type": "stream",
     "text": [
      "/tmp/ipykernel_523718/2319557713.py:13: RuntimeWarning: All-NaN axis encountered\n",
      "  np.nanmax([stack[idx:idx + twin], _data[iseg+1, :]], axis = 0)\n",
      "WARNING:root:No stream returned. Skipping.\n"
     ]
    },
    {
     "name": "stdout",
     "output_type": "stream",
     "text": [
      "['NC', 'KRMB']\n",
      "['NC', 'KEB']\n",
      "[################################        ] | 81% Completed | 23hr 27m"
     ]
    },
    {
     "name": "stderr",
     "output_type": "stream",
     "text": [
      "WARNING:root:No stream returned. Skipping.\n",
      "WARNING:root:No stream returned. Skipping.\n"
     ]
    },
    {
     "name": "stdout",
     "output_type": "stream",
     "text": [
      "['NC', 'KHMB']\n",
      "['NC', 'KEB']\n",
      "[################################        ] | 82% Completed | 23hr 27m"
     ]
    },
    {
     "name": "stderr",
     "output_type": "stream",
     "text": [
      "WARNING:root:No stream returned. Skipping.\n"
     ]
    },
    {
     "name": "stdout",
     "output_type": "stream",
     "text": [
      "['7D', 'G19B']\n",
      "[################################        ] | 82% Completed | 23hr 27mAll prediction shape: (2, 5, 1439, 6000)\n",
      "[################################        ] | 82% Completed | 23hr 28m94 P picks\n",
      "36 S picks\n",
      "['7D', 'FS17B']\n",
      "[################################        ] | 82% Completed | 23hr 28m"
     ]
    },
    {
     "name": "stderr",
     "output_type": "stream",
     "text": [
      "/tmp/ipykernel_523718/2319557713.py:13: RuntimeWarning: All-NaN axis encountered\n",
      "  np.nanmax([stack[idx:idx + twin], _data[iseg+1, :]], axis = 0)\n"
     ]
    },
    {
     "name": "stdout",
     "output_type": "stream",
     "text": [
      "[################################        ] | 82% Completed | 23hr 29mAll prediction shape: (2, 5, 3598, 6000)\n",
      "[################################        ] | 82% Completed | 23hr 33m496 P picks\n",
      "126 S picks\n"
     ]
    },
    {
     "name": "stderr",
     "output_type": "stream",
     "text": [
      "/tmp/ipykernel_523718/2319557713.py:13: RuntimeWarning: All-NaN axis encountered\n",
      "  np.nanmax([stack[idx:idx + twin], _data[iseg+1, :]], axis = 0)\n"
     ]
    },
    {
     "name": "stdout",
     "output_type": "stream",
     "text": [
      "['7D', 'J09B']\n",
      "[#################################       ] | 82% Completed | 23hr 33mAll prediction shape: (2, 5, 1439, 6000)\n",
      "[#################################       ] | 82% Completed | 23hr 34m134 P picks\n",
      "38 S picks\n",
      "['7D', 'G27B']\n",
      "[#################################       ] | 82% Completed | 23hr 34m"
     ]
    },
    {
     "name": "stderr",
     "output_type": "stream",
     "text": [
      "/tmp/ipykernel_523718/2319557713.py:13: RuntimeWarning: All-NaN axis encountered\n",
      "  np.nanmax([stack[idx:idx + twin], _data[iseg+1, :]], axis = 0)\n"
     ]
    },
    {
     "name": "stdout",
     "output_type": "stream",
     "text": [
      "[#################################       ] | 82% Completed | 23hr 34mAll prediction shape: (2, 5, 1439, 6000)\n",
      "[#################################       ] | 82% Completed | 23hr 35m69 P picks\n",
      "29 S picks\n",
      "['7D', 'FS09B']\n",
      "[#################################       ] | 82% Completed | 23hr 35m"
     ]
    },
    {
     "name": "stderr",
     "output_type": "stream",
     "text": [
      "/tmp/ipykernel_523718/2319557713.py:13: RuntimeWarning: All-NaN axis encountered\n",
      "  np.nanmax([stack[idx:idx + twin], _data[iseg+1, :]], axis = 0)\n"
     ]
    },
    {
     "name": "stdout",
     "output_type": "stream",
     "text": [
      "[#################################       ] | 82% Completed | 23hr 35mAll prediction shape: (2, 5, 1439, 6000)\n",
      "[#################################       ] | 82% Completed | 23hr 36m161 P picks\n",
      "113 S picks\n",
      "['7D', 'G27B']\n",
      "[#################################       ] | 82% Completed | 23hr 36m"
     ]
    },
    {
     "name": "stderr",
     "output_type": "stream",
     "text": [
      "/tmp/ipykernel_523718/2319557713.py:13: RuntimeWarning: All-NaN axis encountered\n",
      "  np.nanmax([stack[idx:idx + twin], _data[iseg+1, :]], axis = 0)\n"
     ]
    },
    {
     "name": "stdout",
     "output_type": "stream",
     "text": [
      "[#################################       ] | 82% Completed | 23hr 36mAll prediction shape: (2, 5, 1439, 6000)\n",
      "[#################################       ] | 82% Completed | 23hr 37m36 P picks\n",
      "7 S picks\n",
      "['UW', 'BABR']\n",
      "[#################################       ] | 82% Completed | 23hr 37m"
     ]
    },
    {
     "name": "stderr",
     "output_type": "stream",
     "text": [
      "/tmp/ipykernel_523718/2319557713.py:13: RuntimeWarning: All-NaN axis encountered\n",
      "  np.nanmax([stack[idx:idx + twin], _data[iseg+1, :]], axis = 0)\n"
     ]
    },
    {
     "name": "stdout",
     "output_type": "stream",
     "text": [
      "[#################################       ] | 82% Completed | 23hr 37mAll prediction shape: (2, 5, 1151, 6000)\n",
      "[#################################       ] | 82% Completed | 23hr 37m18 P picks\n",
      "16 S picks\n",
      "['7D', 'M12B']\n",
      "[#################################       ] | 83% Completed | 23hr 37m"
     ]
    },
    {
     "name": "stderr",
     "output_type": "stream",
     "text": [
      "/tmp/ipykernel_523718/2319557713.py:13: RuntimeWarning: All-NaN axis encountered\n",
      "  np.nanmax([stack[idx:idx + twin], _data[iseg+1, :]], axis = 0)\n"
     ]
    },
    {
     "name": "stdout",
     "output_type": "stream",
     "text": [
      "[#################################       ] | 83% Completed | 23hr 37mAll prediction shape: (2, 5, 1439, 6000)\n",
      "[#################################       ] | 83% Completed | 23hr 38m188 P picks\n",
      "39 S picks\n",
      "['7D', 'G27B']\n",
      "[#################################       ] | 83% Completed | 23hr 38m"
     ]
    },
    {
     "name": "stderr",
     "output_type": "stream",
     "text": [
      "/tmp/ipykernel_523718/2319557713.py:13: RuntimeWarning: All-NaN axis encountered\n",
      "  np.nanmax([stack[idx:idx + twin], _data[iseg+1, :]], axis = 0)\n"
     ]
    },
    {
     "name": "stdout",
     "output_type": "stream",
     "text": [
      "[#################################       ] | 83% Completed | 23hr 38mAll prediction shape: (2, 5, 1439, 6000)\n",
      "[#################################       ] | 83% Completed | 23hr 39m72 P picks\n",
      "59 S picks\n",
      "['7D', 'M14B']\n",
      "[#################################       ] | 83% Completed | 23hr 39m"
     ]
    },
    {
     "name": "stderr",
     "output_type": "stream",
     "text": [
      "/tmp/ipykernel_523718/2319557713.py:13: RuntimeWarning: All-NaN axis encountered\n",
      "  np.nanmax([stack[idx:idx + twin], _data[iseg+1, :]], axis = 0)\n"
     ]
    },
    {
     "name": "stdout",
     "output_type": "stream",
     "text": [
      "[#################################       ] | 83% Completed | 23hr 39mAll prediction shape: (2, 5, 1438, 6000)\n",
      "[#################################       ] | 83% Completed | 23hr 40m237 P picks\n",
      "105 S picks\n",
      "['7D', 'J25B']\n",
      "[#################################       ] | 83% Completed | 23hr 40m"
     ]
    },
    {
     "name": "stderr",
     "output_type": "stream",
     "text": [
      "/tmp/ipykernel_523718/2319557713.py:13: RuntimeWarning: All-NaN axis encountered\n",
      "  np.nanmax([stack[idx:idx + twin], _data[iseg+1, :]], axis = 0)\n"
     ]
    },
    {
     "name": "stdout",
     "output_type": "stream",
     "text": [
      "[#################################       ] | 83% Completed | 23hr 41mAll prediction shape: (2, 5, 3599, 6000)\n",
      "[#################################       ] | 83% Completed | 23hr 45m466 P picks\n",
      "711 S picks\n",
      "[#################################       ] | 83% Completed | 23hr 45m"
     ]
    },
    {
     "name": "stderr",
     "output_type": "stream",
     "text": [
      "/tmp/ipykernel_523718/2319557713.py:13: RuntimeWarning: All-NaN axis encountered\n",
      "  np.nanmax([stack[idx:idx + twin], _data[iseg+1, :]], axis = 0)\n"
     ]
    },
    {
     "name": "stdout",
     "output_type": "stream",
     "text": [
      "['TA', 'I02D']\n",
      "[#################################       ] | 83% Completed | 23hr 45mAll prediction shape: (2, 5, 1150, 6000)\n",
      "[#################################       ] | 83% Completed | 23hr 46m29 P picks\n",
      "19 S picks\n",
      "['NC', 'KRMB']\n",
      "[#################################       ] | 83% Completed | 23hr 46m"
     ]
    },
    {
     "name": "stderr",
     "output_type": "stream",
     "text": [
      "/tmp/ipykernel_523718/2319557713.py:13: RuntimeWarning: All-NaN axis encountered\n",
      "  np.nanmax([stack[idx:idx + twin], _data[iseg+1, :]], axis = 0)\n",
      "WARNING:root:No stream returned. Skipping.\n"
     ]
    },
    {
     "name": "stdout",
     "output_type": "stream",
     "text": [
      "['7D', 'M12B']\n",
      "[#################################       ] | 83% Completed | 23hr 46mAll prediction shape: (2, 5, 1439, 6000)\n",
      "[#################################       ] | 83% Completed | 23hr 47m182 P picks\n",
      "54 S picks\n",
      "['7D', 'J25B']\n",
      "[#################################       ] | 83% Completed | 23hr 47m"
     ]
    },
    {
     "name": "stderr",
     "output_type": "stream",
     "text": [
      "/tmp/ipykernel_523718/2319557713.py:13: RuntimeWarning: All-NaN axis encountered\n",
      "  np.nanmax([stack[idx:idx + twin], _data[iseg+1, :]], axis = 0)\n"
     ]
    },
    {
     "name": "stdout",
     "output_type": "stream",
     "text": [
      "[#################################       ] | 83% Completed | 23hr 47mAll prediction shape: (2, 5, 3599, 6000)\n",
      "[#################################       ] | 83% Completed | 23hr 51m421 P picks\n",
      "625 S picks\n",
      "[#################################       ] | 83% Completed | 23hr 51m"
     ]
    },
    {
     "name": "stderr",
     "output_type": "stream",
     "text": [
      "/tmp/ipykernel_523718/2319557713.py:13: RuntimeWarning: All-NaN axis encountered\n",
      "  np.nanmax([stack[idx:idx + twin], _data[iseg+1, :]], axis = 0)\n"
     ]
    },
    {
     "name": "stdout",
     "output_type": "stream",
     "text": [
      "['7D', 'G10B']\n",
      "[#################################       ] | 83% Completed | 23hr 51mAll prediction shape: (2, 5, 1439, 6000)\n",
      "[#################################       ] | 83% Completed | 23hr 52m62 P picks\n",
      "18 S picks\n",
      "['7D', 'M09B']\n",
      "[#################################       ] | 84% Completed | 23hr 52m"
     ]
    },
    {
     "name": "stderr",
     "output_type": "stream",
     "text": [
      "/tmp/ipykernel_523718/2319557713.py:13: RuntimeWarning: All-NaN axis encountered\n",
      "  np.nanmax([stack[idx:idx + twin], _data[iseg+1, :]], axis = 0)\n"
     ]
    },
    {
     "name": "stdout",
     "output_type": "stream",
     "text": [
      "[#################################       ] | 84% Completed | 23hr 52mAll prediction shape: (2, 5, 3599, 6000)\n",
      "[#################################       ] | 84% Completed | 23hr 57m"
     ]
    },
    {
     "name": "stderr",
     "output_type": "stream",
     "text": [
      "/tmp/ipykernel_523718/2319557713.py:13: RuntimeWarning: All-NaN axis encountered\n",
      "  np.nanmax([stack[idx:idx + twin], _data[iseg+1, :]], axis = 0)\n"
     ]
    },
    {
     "name": "stdout",
     "output_type": "stream",
     "text": [
      "494 P picks\n",
      "547 S picks\n",
      "['7D', 'M09B']\n",
      "[#################################       ] | 84% Completed | 23hr 57mAll prediction shape: (2, 5, 3599, 6000)\n",
      "[#################################       ] | 84% Completed | 24hr 1mm456 P picks\n",
      "453 S picks\n",
      "[#################################       ] | 84% Completed | 24hr 1m"
     ]
    },
    {
     "name": "stderr",
     "output_type": "stream",
     "text": [
      "/tmp/ipykernel_523718/2319557713.py:13: RuntimeWarning: All-NaN axis encountered\n",
      "  np.nanmax([stack[idx:idx + twin], _data[iseg+1, :]], axis = 0)\n"
     ]
    },
    {
     "name": "stdout",
     "output_type": "stream",
     "text": [
      "['7D', 'FS20B']\n",
      "[#################################       ] | 84% Completed | 24hr 2mAll prediction shape: (2, 5, 3599, 6000)\n",
      "[#################################       ] | 84% Completed | 24hr 6m200 P picks\n",
      "151 S picks\n"
     ]
    },
    {
     "name": "stderr",
     "output_type": "stream",
     "text": [
      "/tmp/ipykernel_523718/2319557713.py:13: RuntimeWarning: All-NaN axis encountered\n",
      "  np.nanmax([stack[idx:idx + twin], _data[iseg+1, :]], axis = 0)\n"
     ]
    },
    {
     "name": "stdout",
     "output_type": "stream",
     "text": [
      "['UW', 'BABR']\n",
      "[#################################       ] | 84% Completed | 24hr 6mAll prediction shape: (2, 5, 1151, 6000)\n",
      "[#################################       ] | 84% Completed | 24hr 6m8 P picks\n",
      "2 S picks\n",
      "['7D', 'FS17B']\n",
      "[#################################       ] | 84% Completed | 24hr 6m"
     ]
    },
    {
     "name": "stderr",
     "output_type": "stream",
     "text": [
      "/tmp/ipykernel_523718/2319557713.py:13: RuntimeWarning: All-NaN axis encountered\n",
      "  np.nanmax([stack[idx:idx + twin], _data[iseg+1, :]], axis = 0)\n"
     ]
    },
    {
     "name": "stdout",
     "output_type": "stream",
     "text": [
      "[#################################       ] | 84% Completed | 24hr 7mAll prediction shape: (2, 5, 3599, 6000)\n",
      "[#################################       ] | 84% Completed | 24hr 11m"
     ]
    },
    {
     "name": "stderr",
     "output_type": "stream",
     "text": [
      "/tmp/ipykernel_523718/2319557713.py:13: RuntimeWarning: All-NaN axis encountered\n",
      "  np.nanmax([stack[idx:idx + twin], _data[iseg+1, :]], axis = 0)\n"
     ]
    },
    {
     "name": "stdout",
     "output_type": "stream",
     "text": [
      "502 P picks\n",
      "260 S picks\n"
     ]
    },
    {
     "name": "stderr",
     "output_type": "stream",
     "text": [
      "WARNING:root:No stream returned. Skipping.\n"
     ]
    },
    {
     "name": "stdout",
     "output_type": "stream",
     "text": [
      "['NC', 'KHBB']\n",
      "['7D', 'G27B']\n",
      "[#################################       ] | 84% Completed | 24hr 11mAll prediction shape: (2, 5, 1439, 6000)\n",
      "[#################################       ] | 84% Completed | 24hr 12m17 P picks\n",
      "15 S picks\n",
      "['7D', 'M09B']\n",
      "[#################################       ] | 84% Completed | 24hr 12m"
     ]
    },
    {
     "name": "stderr",
     "output_type": "stream",
     "text": [
      "/tmp/ipykernel_523718/2319557713.py:13: RuntimeWarning: All-NaN axis encountered\n",
      "  np.nanmax([stack[idx:idx + twin], _data[iseg+1, :]], axis = 0)\n"
     ]
    },
    {
     "name": "stdout",
     "output_type": "stream",
     "text": [
      "[#################################       ] | 84% Completed | 24hr 13mAll prediction shape: (2, 5, 3599, 6000)\n",
      "[#################################       ] | 84% Completed | 24hr 17m479 P picks\n",
      "506 S picks\n"
     ]
    },
    {
     "name": "stderr",
     "output_type": "stream",
     "text": [
      "/tmp/ipykernel_523718/2319557713.py:13: RuntimeWarning: All-NaN axis encountered\n",
      "  np.nanmax([stack[idx:idx + twin], _data[iseg+1, :]], axis = 0)\n"
     ]
    },
    {
     "name": "stdout",
     "output_type": "stream",
     "text": [
      "['7D', 'FS20B']\n",
      "[#################################       ] | 84% Completed | 24hr 17mAll prediction shape: (2, 5, 3599, 6000)\n",
      "[#################################       ] | 84% Completed | 24hr 22m182 P picks\n",
      "118 S picks\n"
     ]
    },
    {
     "name": "stderr",
     "output_type": "stream",
     "text": [
      "/tmp/ipykernel_523718/2319557713.py:13: RuntimeWarning: All-NaN axis encountered\n",
      "  np.nanmax([stack[idx:idx + twin], _data[iseg+1, :]], axis = 0)\n"
     ]
    },
    {
     "name": "stdout",
     "output_type": "stream",
     "text": [
      "['BK', 'JCC']\n",
      "[##################################      ] | 85% Completed | 24hr 22m"
     ]
    },
    {
     "name": "stderr",
     "output_type": "stream",
     "text": [
      "WARNING:root:No stream returned. Skipping.\n"
     ]
    },
    {
     "name": "stdout",
     "output_type": "stream",
     "text": [
      "['7D', 'G26B']\n",
      "[##################################      ] | 85% Completed | 24hr 22mAll prediction shape: (2, 5, 3599, 6000)\n",
      "[##################################      ] | 85% Completed | 24hr 26m49 P picks\n",
      "33 S picks\n",
      "['7D', 'J09B']\n",
      "[##################################      ] | 85% Completed | 24hr 26m"
     ]
    },
    {
     "name": "stderr",
     "output_type": "stream",
     "text": [
      "/tmp/ipykernel_523718/2319557713.py:13: RuntimeWarning: All-NaN axis encountered\n",
      "  np.nanmax([stack[idx:idx + twin], _data[iseg+1, :]], axis = 0)\n"
     ]
    },
    {
     "name": "stdout",
     "output_type": "stream",
     "text": [
      "[##################################      ] | 85% Completed | 24hr 26mAll prediction shape: (2, 5, 1439, 6000)\n",
      "[##################################      ] | 85% Completed | 24hr 27m89 P picks\n",
      "16 S picks\n",
      "['NC', 'KBO']\n",
      "[##################################      ] | 85% Completed | 24hr 27m"
     ]
    },
    {
     "name": "stderr",
     "output_type": "stream",
     "text": [
      "/tmp/ipykernel_523718/2319557713.py:13: RuntimeWarning: All-NaN axis encountered\n",
      "  np.nanmax([stack[idx:idx + twin], _data[iseg+1, :]], axis = 0)\n",
      "WARNING:root:No stream returned. Skipping.\n"
     ]
    },
    {
     "name": "stdout",
     "output_type": "stream",
     "text": [
      "['UW', 'BABR']\n",
      "[##################################      ] | 85% Completed | 24hr 27mAll prediction shape: (2, 5, 1151, 6000)\n",
      "[##################################      ] | 85% Completed | 24hr 28m14 P picks\n",
      "4 S picks\n",
      "['7D', 'G17B']\n",
      "[##################################      ] | 85% Completed | 24hr 28m"
     ]
    },
    {
     "name": "stderr",
     "output_type": "stream",
     "text": [
      "/tmp/ipykernel_523718/2319557713.py:13: RuntimeWarning: All-NaN axis encountered\n",
      "  np.nanmax([stack[idx:idx + twin], _data[iseg+1, :]], axis = 0)\n"
     ]
    },
    {
     "name": "stdout",
     "output_type": "stream",
     "text": [
      "[##################################      ] | 85% Completed | 24hr 28mAll prediction shape: (2, 5, 3599, 6000)\n",
      "[##################################      ] | 85% Completed | 24hr 33m506 P picks\n",
      "429 S picks\n",
      "[##################################      ] | 85% Completed | 24hr 33m"
     ]
    },
    {
     "name": "stderr",
     "output_type": "stream",
     "text": [
      "/tmp/ipykernel_523718/2319557713.py:13: RuntimeWarning: All-NaN axis encountered\n",
      "  np.nanmax([stack[idx:idx + twin], _data[iseg+1, :]], axis = 0)\n"
     ]
    },
    {
     "name": "stdout",
     "output_type": "stream",
     "text": [
      "['7D', 'G10B']\n",
      "[##################################      ] | 85% Completed | 24hr 33mAll prediction shape: (2, 5, 1439, 6000)\n",
      "[##################################      ] | 85% Completed | 24hr 34m70 P picks\n",
      "38 S picks\n",
      "['NC', 'KHMB']\n",
      "[##################################      ] | 85% Completed | 24hr 34m"
     ]
    },
    {
     "name": "stderr",
     "output_type": "stream",
     "text": [
      "/tmp/ipykernel_523718/2319557713.py:13: RuntimeWarning: All-NaN axis encountered\n",
      "  np.nanmax([stack[idx:idx + twin], _data[iseg+1, :]], axis = 0)\n",
      "WARNING:root:No stream returned. Skipping.\n"
     ]
    },
    {
     "name": "stdout",
     "output_type": "stream",
     "text": [
      "['7D', 'M12B']\n",
      "[##################################      ] | 85% Completed | 24hr 34mAll prediction shape: (2, 5, 1439, 6000)\n",
      "[##################################      ] | 85% Completed | 24hr 35m198 P picks\n",
      "46 S picks\n",
      "['UW', 'BABR']\n",
      "[##################################      ] | 86% Completed | 24hr 35m"
     ]
    },
    {
     "name": "stderr",
     "output_type": "stream",
     "text": [
      "/tmp/ipykernel_523718/2319557713.py:13: RuntimeWarning: All-NaN axis encountered\n",
      "  np.nanmax([stack[idx:idx + twin], _data[iseg+1, :]], axis = 0)\n"
     ]
    },
    {
     "name": "stdout",
     "output_type": "stream",
     "text": [
      "[##################################      ] | 86% Completed | 24hr 35mAll prediction shape: (2, 5, 1151, 6000)\n",
      "[##################################      ] | 86% Completed | 24hr 35m8 P picks\n",
      "13 S picks\n",
      "['7D', 'FS20B']\n",
      "[##################################      ] | 86% Completed | 24hr 35m"
     ]
    },
    {
     "name": "stderr",
     "output_type": "stream",
     "text": [
      "/tmp/ipykernel_523718/2319557713.py:13: RuntimeWarning: All-NaN axis encountered\n",
      "  np.nanmax([stack[idx:idx + twin], _data[iseg+1, :]], axis = 0)\n"
     ]
    },
    {
     "name": "stdout",
     "output_type": "stream",
     "text": [
      "[##################################      ] | 86% Completed | 24hr 36mAll prediction shape: (2, 5, 3599, 6000)\n",
      "[##################################      ] | 86% Completed | 24hr 40m132 P picks\n",
      "147 S picks\n",
      "['7D', 'G25B']\n",
      "[##################################      ] | 86% Completed | 24hr 40m"
     ]
    },
    {
     "name": "stderr",
     "output_type": "stream",
     "text": [
      "/tmp/ipykernel_523718/2319557713.py:13: RuntimeWarning: All-NaN axis encountered\n",
      "  np.nanmax([stack[idx:idx + twin], _data[iseg+1, :]], axis = 0)\n"
     ]
    },
    {
     "name": "stdout",
     "output_type": "stream",
     "text": [
      "[##################################      ] | 86% Completed | 24hr 40mAll prediction shape: (2, 5, 3599, 6000)\n",
      "[##################################      ] | 86% Completed | 24hr 44m"
     ]
    },
    {
     "name": "stderr",
     "output_type": "stream",
     "text": [
      "/tmp/ipykernel_523718/2319557713.py:13: RuntimeWarning: All-NaN axis encountered\n",
      "  np.nanmax([stack[idx:idx + twin], _data[iseg+1, :]], axis = 0)\n"
     ]
    },
    {
     "name": "stdout",
     "output_type": "stream",
     "text": [
      "387 P picks\n",
      "188 S picks\n",
      "['7D', 'M14B']\n",
      "[##################################      ] | 86% Completed | 24hr 45mAll prediction shape: (2, 5, 1438, 6000)\n",
      "[##################################      ] | 86% Completed | 24hr 45m171 P picks\n",
      "92 S picks\n",
      "['7D', 'FS16B']\n",
      "[##################################      ] | 86% Completed | 24hr 45m"
     ]
    },
    {
     "name": "stderr",
     "output_type": "stream",
     "text": [
      "/tmp/ipykernel_523718/2319557713.py:13: RuntimeWarning: All-NaN axis encountered\n",
      "  np.nanmax([stack[idx:idx + twin], _data[iseg+1, :]], axis = 0)\n"
     ]
    },
    {
     "name": "stdout",
     "output_type": "stream",
     "text": [
      "[##################################      ] | 86% Completed | 24hr 46mAll prediction shape: (2, 5, 3599, 6000)\n",
      "[##################################      ] | 86% Completed | 24hr 50m473 P picks\n",
      "531 S picks\n",
      "[##################################      ] | 86% Completed | 24hr 50m"
     ]
    },
    {
     "name": "stderr",
     "output_type": "stream",
     "text": [
      "/tmp/ipykernel_523718/2319557713.py:13: RuntimeWarning: All-NaN axis encountered\n",
      "  np.nanmax([stack[idx:idx + twin], _data[iseg+1, :]], axis = 0)\n"
     ]
    },
    {
     "name": "stdout",
     "output_type": "stream",
     "text": [
      "['7D', 'M12B']\n",
      "[##################################      ] | 86% Completed | 24hr 50mAll prediction shape: (2, 5, 1439, 6000)\n",
      "[##################################      ] | 86% Completed | 24hr 51m189 P picks\n",
      "57 S picks\n",
      "['NC', 'KHBB']\n"
     ]
    },
    {
     "name": "stderr",
     "output_type": "stream",
     "text": [
      "/tmp/ipykernel_523718/2319557713.py:13: RuntimeWarning: All-NaN axis encountered\n",
      "  np.nanmax([stack[idx:idx + twin], _data[iseg+1, :]], axis = 0)\n",
      "WARNING:root:No stream returned. Skipping.\n"
     ]
    },
    {
     "name": "stdout",
     "output_type": "stream",
     "text": [
      "[##################################      ] | 86% Completed | 24hr 51m['7D', 'M09B']\n",
      "[##################################      ] | 86% Completed | 24hr 51mAll prediction shape: (2, 5, 3599, 6000)\n",
      "[##################################      ] | 86% Completed | 24hr 56m499 P picks\n",
      "573 S picks\n",
      "[##################################      ] | 86% Completed | 24hr 56m"
     ]
    },
    {
     "name": "stderr",
     "output_type": "stream",
     "text": [
      "/tmp/ipykernel_523718/2319557713.py:13: RuntimeWarning: All-NaN axis encountered\n",
      "  np.nanmax([stack[idx:idx + twin], _data[iseg+1, :]], axis = 0)\n"
     ]
    },
    {
     "name": "stdout",
     "output_type": "stream",
     "text": [
      "['7D', 'M14B']\n",
      "[##################################      ] | 86% Completed | 24hr 56mAll prediction shape: (2, 5, 1438, 6000)\n",
      "[##################################      ] | 86% Completed | 24hr 57m137 P picks\n",
      "56 S picks\n",
      "['7D', 'FS17B']\n",
      "[##################################      ] | 87% Completed | 24hr 57m"
     ]
    },
    {
     "name": "stderr",
     "output_type": "stream",
     "text": [
      "/tmp/ipykernel_523718/2319557713.py:13: RuntimeWarning: All-NaN axis encountered\n",
      "  np.nanmax([stack[idx:idx + twin], _data[iseg+1, :]], axis = 0)\n"
     ]
    },
    {
     "name": "stdout",
     "output_type": "stream",
     "text": [
      "[##################################      ] | 87% Completed | 24hr 57mAll prediction shape: (2, 5, 3598, 6000)\n",
      "[##################################      ] | 87% Completed | 25hr 1mm563 P picks\n",
      "413 S picks\n"
     ]
    },
    {
     "name": "stderr",
     "output_type": "stream",
     "text": [
      "/tmp/ipykernel_523718/2319557713.py:13: RuntimeWarning: All-NaN axis encountered\n",
      "  np.nanmax([stack[idx:idx + twin], _data[iseg+1, :]], axis = 0)\n"
     ]
    },
    {
     "name": "stdout",
     "output_type": "stream",
     "text": [
      "['7D', 'M09B']\n",
      "[##################################      ] | 87% Completed | 25hr 2mAll prediction shape: (2, 5, 3599, 6000)\n",
      "[##################################      ] | 87% Completed | 25hr 6m482 P picks\n",
      "532 S picks\n",
      "[##################################      ] | 87% Completed | 25hr 6m"
     ]
    },
    {
     "name": "stderr",
     "output_type": "stream",
     "text": [
      "/tmp/ipykernel_523718/2319557713.py:13: RuntimeWarning: All-NaN axis encountered\n",
      "  np.nanmax([stack[idx:idx + twin], _data[iseg+1, :]], axis = 0)\n"
     ]
    },
    {
     "name": "stdout",
     "output_type": "stream",
     "text": [
      "['7D', 'M14B']\n",
      "[##################################      ] | 87% Completed | 25hr 6mAll prediction shape: (2, 5, 1438, 6000)\n",
      "[##################################      ] | 87% Completed | 25hr 7m198 P picks\n",
      "83 S picks\n",
      "['7D', 'FS13B']\n",
      "[##################################      ] | 87% Completed | 25hr 7m"
     ]
    },
    {
     "name": "stderr",
     "output_type": "stream",
     "text": [
      "/tmp/ipykernel_523718/2319557713.py:13: RuntimeWarning: All-NaN axis encountered\n",
      "  np.nanmax([stack[idx:idx + twin], _data[iseg+1, :]], axis = 0)\n"
     ]
    },
    {
     "name": "stdout",
     "output_type": "stream",
     "text": [
      "[##################################      ] | 87% Completed | 25hr 7mAll prediction shape: (2, 5, 3599, 6000)\n",
      "[##################################      ] | 87% Completed | 25hr 11m615 P picks\n",
      "218 S picks\n",
      "[##################################      ] | 87% Completed | 25hr 11m"
     ]
    },
    {
     "name": "stderr",
     "output_type": "stream",
     "text": [
      "/tmp/ipykernel_523718/2319557713.py:13: RuntimeWarning: All-NaN axis encountered\n",
      "  np.nanmax([stack[idx:idx + twin], _data[iseg+1, :]], axis = 0)\n",
      "WARNING:root:No stream returned. Skipping.\n"
     ]
    },
    {
     "name": "stdout",
     "output_type": "stream",
     "text": [
      "['NC', 'KSXB']\n",
      "['7D', 'G10B']\n",
      "[###################################     ] | 87% Completed | 25hr 12mAll prediction shape: (2, 5, 1439, 6000)\n",
      "[###################################     ] | 87% Completed | 25hr 12m44 P picks\n",
      "29 S picks\n"
     ]
    },
    {
     "name": "stderr",
     "output_type": "stream",
     "text": [
      "/tmp/ipykernel_523718/2319557713.py:13: RuntimeWarning: All-NaN axis encountered\n",
      "  np.nanmax([stack[idx:idx + twin], _data[iseg+1, :]], axis = 0)\n",
      "WARNING:root:No stream returned. Skipping.\n"
     ]
    },
    {
     "name": "stdout",
     "output_type": "stream",
     "text": [
      "['NC', 'KRMB']\n",
      "['7D', 'FS09B']\n",
      "[###################################     ] | 87% Completed | 25hr 12mAll prediction shape: (2, 5, 1439, 6000)\n",
      "[###################################     ] | 87% Completed | 25hr 13m123 P picks\n",
      "111 S picks\n",
      "['7D', 'J09B']\n",
      "[###################################     ] | 87% Completed | 25hr 13m"
     ]
    },
    {
     "name": "stderr",
     "output_type": "stream",
     "text": [
      "/tmp/ipykernel_523718/2319557713.py:13: RuntimeWarning: All-NaN axis encountered\n",
      "  np.nanmax([stack[idx:idx + twin], _data[iseg+1, :]], axis = 0)\n"
     ]
    },
    {
     "name": "stdout",
     "output_type": "stream",
     "text": [
      "[###################################     ] | 87% Completed | 25hr 13mAll prediction shape: (2, 5, 1439, 6000)\n",
      "[###################################     ] | 87% Completed | 25hr 14m111 P picks\n",
      "17 S picks\n",
      "['7D', 'FS17B']\n",
      "[###################################     ] | 88% Completed | 25hr 14m"
     ]
    },
    {
     "name": "stderr",
     "output_type": "stream",
     "text": [
      "/tmp/ipykernel_523718/2319557713.py:13: RuntimeWarning: All-NaN axis encountered\n",
      "  np.nanmax([stack[idx:idx + twin], _data[iseg+1, :]], axis = 0)\n"
     ]
    },
    {
     "name": "stdout",
     "output_type": "stream",
     "text": [
      "[###################################     ] | 88% Completed | 25hr 15mAll prediction shape: (2, 5, 3599, 6000)\n",
      "[###################################     ] | 88% Completed | 25hr 19m466 P picks\n",
      "193 S picks\n"
     ]
    },
    {
     "name": "stderr",
     "output_type": "stream",
     "text": [
      "/tmp/ipykernel_523718/2319557713.py:13: RuntimeWarning: All-NaN axis encountered\n",
      "  np.nanmax([stack[idx:idx + twin], _data[iseg+1, :]], axis = 0)\n",
      "WARNING:root:No stream returned. Skipping.\n"
     ]
    },
    {
     "name": "stdout",
     "output_type": "stream",
     "text": [
      "['NC', 'KSXB']\n",
      "['NC', 'KOM']\n",
      "[###################################     ] | 88% Completed | 25hr 19m"
     ]
    },
    {
     "name": "stderr",
     "output_type": "stream",
     "text": [
      "WARNING:root:No stream returned. Skipping.\n"
     ]
    },
    {
     "name": "stdout",
     "output_type": "stream",
     "text": [
      "['7D', 'M14B']\n",
      "[###################################     ] | 88% Completed | 25hr 19mAll prediction shape: (2, 5, 1439, 6000)\n",
      "[###################################     ] | 88% Completed | 25hr 20m190 P picks\n",
      "85 S picks\n",
      "[###################################     ] | 88% Completed | 25hr 20m['7D', 'FS09B']\n",
      "[###################################     ] | 88% Completed | 25hr 20m"
     ]
    },
    {
     "name": "stderr",
     "output_type": "stream",
     "text": [
      "/tmp/ipykernel_523718/2319557713.py:13: RuntimeWarning: All-NaN axis encountered\n",
      "  np.nanmax([stack[idx:idx + twin], _data[iseg+1, :]], axis = 0)\n"
     ]
    },
    {
     "name": "stdout",
     "output_type": "stream",
     "text": [
      "[###################################     ] | 88% Completed | 25hr 20mAll prediction shape: (2, 5, 1439, 6000)\n",
      "[###################################     ] | 88% Completed | 25hr 21m171 P picks\n",
      "173 S picks\n",
      "['7D', 'J25B']\n",
      "[###################################     ] | 88% Completed | 25hr 21m"
     ]
    },
    {
     "name": "stderr",
     "output_type": "stream",
     "text": [
      "/tmp/ipykernel_523718/2319557713.py:13: RuntimeWarning: All-NaN axis encountered\n",
      "  np.nanmax([stack[idx:idx + twin], _data[iseg+1, :]], axis = 0)\n"
     ]
    },
    {
     "name": "stdout",
     "output_type": "stream",
     "text": [
      "[###################################     ] | 88% Completed | 25hr 21mAll prediction shape: (2, 5, 3599, 6000)\n",
      "[###################################     ] | 88% Completed | 25hr 25m508 P picks\n",
      "612 S picks\n"
     ]
    },
    {
     "name": "stderr",
     "output_type": "stream",
     "text": [
      "/tmp/ipykernel_523718/2319557713.py:13: RuntimeWarning: All-NaN axis encountered\n",
      "  np.nanmax([stack[idx:idx + twin], _data[iseg+1, :]], axis = 0)\n"
     ]
    },
    {
     "name": "stdout",
     "output_type": "stream",
     "text": [
      "['BK', 'JCC']\n",
      "[###################################     ] | 88% Completed | 25hr 25m"
     ]
    },
    {
     "name": "stderr",
     "output_type": "stream",
     "text": [
      "WARNING:root:No stream returned. Skipping.\n"
     ]
    },
    {
     "name": "stdout",
     "output_type": "stream",
     "text": [
      "['7D', 'M14B']\n",
      "[###################################     ] | 88% Completed | 25hr 25mAll prediction shape: (2, 5, 1438, 6000)\n",
      "[###################################     ] | 88% Completed | 25hr 26m227 P picks\n",
      "76 S picks\n",
      "['NC', 'KHBB']\n",
      "[###################################     ] | 88% Completed | 25hr 26m"
     ]
    },
    {
     "name": "stderr",
     "output_type": "stream",
     "text": [
      "/tmp/ipykernel_523718/2319557713.py:13: RuntimeWarning: All-NaN axis encountered\n",
      "  np.nanmax([stack[idx:idx + twin], _data[iseg+1, :]], axis = 0)\n",
      "WARNING:root:No stream returned. Skipping.\n",
      "WARNING:root:No stream returned. Skipping.\n"
     ]
    },
    {
     "name": "stdout",
     "output_type": "stream",
     "text": [
      "['BK', 'JCC']\n",
      "['7D', 'G26B']\n",
      "[###################################     ] | 89% Completed | 25hr 27mAll prediction shape: (2, 5, 3599, 6000)\n",
      "[###################################     ] | 89% Completed | 25hr 31m53 P picks\n",
      "36 S picks\n"
     ]
    },
    {
     "name": "stderr",
     "output_type": "stream",
     "text": [
      "/tmp/ipykernel_523718/2319557713.py:13: RuntimeWarning: All-NaN axis encountered\n",
      "  np.nanmax([stack[idx:idx + twin], _data[iseg+1, :]], axis = 0)\n"
     ]
    },
    {
     "name": "stdout",
     "output_type": "stream",
     "text": [
      "['7D', 'M14B']\n",
      "[###################################     ] | 89% Completed | 25hr 31mAll prediction shape: (2, 5, 1438, 6000)\n",
      "[###################################     ] | 89% Completed | 25hr 32m126 P picks\n",
      "53 S picks\n",
      "['7D', 'G27B']\n",
      "[###################################     ] | 89% Completed | 25hr 32m"
     ]
    },
    {
     "name": "stderr",
     "output_type": "stream",
     "text": [
      "/tmp/ipykernel_523718/2319557713.py:13: RuntimeWarning: All-NaN axis encountered\n",
      "  np.nanmax([stack[idx:idx + twin], _data[iseg+1, :]], axis = 0)\n"
     ]
    },
    {
     "name": "stdout",
     "output_type": "stream",
     "text": [
      "[###################################     ] | 89% Completed | 25hr 32mAll prediction shape: (2, 5, 1439, 6000)\n",
      "[###################################     ] | 89% Completed | 25hr 33m55 P picks\n",
      "27 S picks\n",
      "['TA', 'I02D']\n",
      "[###################################     ] | 89% Completed | 25hr 33m"
     ]
    },
    {
     "name": "stderr",
     "output_type": "stream",
     "text": [
      "/tmp/ipykernel_523718/2319557713.py:13: RuntimeWarning: All-NaN axis encountered\n",
      "  np.nanmax([stack[idx:idx + twin], _data[iseg+1, :]], axis = 0)\n"
     ]
    },
    {
     "name": "stdout",
     "output_type": "stream",
     "text": [
      "[###################################     ] | 89% Completed | 25hr 33mAll prediction shape: (2, 5, 1151, 6000)\n",
      "[###################################     ] | 89% Completed | 25hr 34m27 P picks\n",
      "32 S picks\n",
      "['NC', 'KBO']\n",
      "[###################################     ] | 89% Completed | 25hr 34m"
     ]
    },
    {
     "name": "stderr",
     "output_type": "stream",
     "text": [
      "/tmp/ipykernel_523718/2319557713.py:13: RuntimeWarning: All-NaN axis encountered\n",
      "  np.nanmax([stack[idx:idx + twin], _data[iseg+1, :]], axis = 0)\n",
      "WARNING:root:No stream returned. Skipping.\n",
      "WARNING:root:No stream returned. Skipping.\n"
     ]
    },
    {
     "name": "stdout",
     "output_type": "stream",
     "text": [
      "['NC', 'KHBB']\n",
      "['UW', 'BABR']\n",
      "[###################################     ] | 89% Completed | 25hr 34mAll prediction shape: (2, 5, 1151, 6000)\n",
      "[###################################     ] | 89% Completed | 25hr 34m12 P picks\n",
      "4 S picks\n",
      "['7D', 'J25B']\n",
      "[###################################     ] | 89% Completed | 25hr 34m"
     ]
    },
    {
     "name": "stderr",
     "output_type": "stream",
     "text": [
      "/tmp/ipykernel_523718/2319557713.py:13: RuntimeWarning: All-NaN axis encountered\n",
      "  np.nanmax([stack[idx:idx + twin], _data[iseg+1, :]], axis = 0)\n"
     ]
    },
    {
     "name": "stdout",
     "output_type": "stream",
     "text": [
      "[###################################     ] | 89% Completed | 25hr 35mAll prediction shape: (2, 5, 3598, 6000)\n",
      "[###################################     ] | 89% Completed | 25hr 39m316 P picks\n",
      "309 S picks\n"
     ]
    },
    {
     "name": "stderr",
     "output_type": "stream",
     "text": [
      "/tmp/ipykernel_523718/2319557713.py:13: RuntimeWarning: All-NaN axis encountered\n",
      "  np.nanmax([stack[idx:idx + twin], _data[iseg+1, :]], axis = 0)\n"
     ]
    },
    {
     "name": "stdout",
     "output_type": "stream",
     "text": [
      "['7D', 'G25B']\n",
      "[####################################    ] | 90% Completed | 25hr 39mAll prediction shape: (2, 5, 3599, 6000)\n",
      "[####################################    ] | 90% Completed | 25hr 43m536 P picks\n",
      "244 S picks\n",
      "['NC', 'KOM']\n",
      "[####################################    ] | 90% Completed | 25hr 43m"
     ]
    },
    {
     "name": "stderr",
     "output_type": "stream",
     "text": [
      "/tmp/ipykernel_523718/2319557713.py:13: RuntimeWarning: All-NaN axis encountered\n",
      "  np.nanmax([stack[idx:idx + twin], _data[iseg+1, :]], axis = 0)\n",
      "WARNING:root:No stream returned. Skipping.\n"
     ]
    },
    {
     "name": "stdout",
     "output_type": "stream",
     "text": [
      "['7D', 'FS16B']\n",
      "[####################################    ] | 90% Completed | 25hr 44mAll prediction shape: (2, 5, 3599, 6000)\n",
      "[####################################    ] | 90% Completed | 25hr 48m"
     ]
    },
    {
     "name": "stderr",
     "output_type": "stream",
     "text": [
      "/tmp/ipykernel_523718/2319557713.py:13: RuntimeWarning: All-NaN axis encountered\n",
      "  np.nanmax([stack[idx:idx + twin], _data[iseg+1, :]], axis = 0)\n"
     ]
    },
    {
     "name": "stdout",
     "output_type": "stream",
     "text": [
      "467 P picks\n",
      "463 S picks\n",
      "['7D', 'FS09B']\n",
      "[####################################    ] | 90% Completed | 25hr 48mAll prediction shape: (2, 5, 1439, 6000)\n",
      "[####################################    ] | 90% Completed | 25hr 49m108 P picks\n",
      "118 S picks\n",
      "['7D', 'G25B']\n",
      "[####################################    ] | 90% Completed | 25hr 49m"
     ]
    },
    {
     "name": "stderr",
     "output_type": "stream",
     "text": [
      "/tmp/ipykernel_523718/2319557713.py:13: RuntimeWarning: All-NaN axis encountered\n",
      "  np.nanmax([stack[idx:idx + twin], _data[iseg+1, :]], axis = 0)\n"
     ]
    },
    {
     "name": "stdout",
     "output_type": "stream",
     "text": [
      "[####################################    ] | 90% Completed | 25hr 49mAll prediction shape: (2, 5, 3599, 6000)\n",
      "[####################################    ] | 90% Completed | 25hr 54m"
     ]
    },
    {
     "name": "stderr",
     "output_type": "stream",
     "text": [
      "/tmp/ipykernel_523718/2319557713.py:13: RuntimeWarning: All-NaN axis encountered\n",
      "  np.nanmax([stack[idx:idx + twin], _data[iseg+1, :]], axis = 0)\n"
     ]
    },
    {
     "name": "stdout",
     "output_type": "stream",
     "text": [
      "476 P picks\n",
      "291 S picks\n"
     ]
    },
    {
     "name": "stderr",
     "output_type": "stream",
     "text": [
      "WARNING:root:No stream returned. Skipping.\n"
     ]
    },
    {
     "name": "stdout",
     "output_type": "stream",
     "text": [
      "['NC', 'KMPB']\n",
      "['7D', 'G25B']\n",
      "[####################################    ] | 90% Completed | 25hr 54mAll prediction shape: (2, 5, 3599, 6000)\n",
      "[####################################    ] | 90% Completed | 25hr 58m595 P picks\n",
      "255 S picks\n"
     ]
    },
    {
     "name": "stderr",
     "output_type": "stream",
     "text": [
      "/tmp/ipykernel_523718/2319557713.py:13: RuntimeWarning: All-NaN axis encountered\n",
      "  np.nanmax([stack[idx:idx + twin], _data[iseg+1, :]], axis = 0)\n"
     ]
    },
    {
     "name": "stdout",
     "output_type": "stream",
     "text": [
      "['TA', 'I02D']\n",
      "[####################################    ] | 90% Completed | 25hr 58mAll prediction shape: (2, 5, 1151, 6000)\n",
      "[####################################    ] | 90% Completed | 25hr 59m21 P picks\n",
      "12 S picks\n",
      "['NC', 'KHBB']\n",
      "[####################################    ] | 90% Completed | 25hr 59m"
     ]
    },
    {
     "name": "stderr",
     "output_type": "stream",
     "text": [
      "/tmp/ipykernel_523718/2319557713.py:13: RuntimeWarning: All-NaN axis encountered\n",
      "  np.nanmax([stack[idx:idx + twin], _data[iseg+1, :]], axis = 0)\n",
      "WARNING:root:No stream returned. Skipping.\n",
      "WARNING:root:No stream returned. Skipping.\n"
     ]
    },
    {
     "name": "stdout",
     "output_type": "stream",
     "text": [
      "['NC', 'KHBB']\n",
      "['7D', 'J33B']\n",
      "[####################################    ] | 91% Completed | 25hr 59mAll prediction shape: (2, 5, 3599, 6000)\n",
      "[####################################    ] | 91% Completed | 26hr 4mm198 P picks\n",
      "435 S picks\n",
      "[####################################    ] | 91% Completed | 26hr 4m"
     ]
    },
    {
     "name": "stderr",
     "output_type": "stream",
     "text": [
      "/tmp/ipykernel_523718/2319557713.py:13: RuntimeWarning: All-NaN axis encountered\n",
      "  np.nanmax([stack[idx:idx + twin], _data[iseg+1, :]], axis = 0)\n"
     ]
    },
    {
     "name": "stdout",
     "output_type": "stream",
     "text": [
      "['7D', 'FS20B']\n",
      "[####################################    ] | 91% Completed | 26hr 4mAll prediction shape: (2, 5, 3599, 6000)\n",
      "[####################################    ] | 91% Completed | 26hr 8m170 P picks\n",
      "127 S picks\n"
     ]
    },
    {
     "name": "stderr",
     "output_type": "stream",
     "text": [
      "/tmp/ipykernel_523718/2319557713.py:13: RuntimeWarning: All-NaN axis encountered\n",
      "  np.nanmax([stack[idx:idx + twin], _data[iseg+1, :]], axis = 0)\n"
     ]
    },
    {
     "name": "stdout",
     "output_type": "stream",
     "text": [
      "['7D', 'M12B']\n",
      "[####################################    ] | 91% Completed | 26hr 8mAll prediction shape: (2, 5, 1439, 6000)\n",
      "[####################################    ] | 91% Completed | 26hr 9m155 P picks\n",
      "44 S picks\n",
      "['NC', 'KMPB']\n",
      "[####################################    ] | 91% Completed | 26hr 9m"
     ]
    },
    {
     "name": "stderr",
     "output_type": "stream",
     "text": [
      "/tmp/ipykernel_523718/2319557713.py:13: RuntimeWarning: All-NaN axis encountered\n",
      "  np.nanmax([stack[idx:idx + twin], _data[iseg+1, :]], axis = 0)\n",
      "WARNING:root:No stream returned. Skipping.\n"
     ]
    },
    {
     "name": "stdout",
     "output_type": "stream",
     "text": [
      "['7D', 'M09B']\n",
      "[####################################    ] | 91% Completed | 26hr 10mAll prediction shape: (2, 5, 3599, 6000)\n",
      "[####################################    ] | 91% Completed | 26hr 14m553 P picks\n",
      "664 S picks\n"
     ]
    },
    {
     "name": "stderr",
     "output_type": "stream",
     "text": [
      "/tmp/ipykernel_523718/2319557713.py:13: RuntimeWarning: All-NaN axis encountered\n",
      "  np.nanmax([stack[idx:idx + twin], _data[iseg+1, :]], axis = 0)\n"
     ]
    },
    {
     "name": "stdout",
     "output_type": "stream",
     "text": [
      "['UW', 'BABR']\n",
      "[####################################    ] | 91% Completed | 26hr 14mAll prediction shape: (2, 5, 1151, 6000)\n",
      "[####################################    ] | 91% Completed | 26hr 15m17 P picks\n",
      "4 S picks\n",
      "['7D', 'FS16B']\n",
      "[####################################    ] | 91% Completed | 26hr 15m"
     ]
    },
    {
     "name": "stderr",
     "output_type": "stream",
     "text": [
      "/tmp/ipykernel_523718/2319557713.py:13: RuntimeWarning: All-NaN axis encountered\n",
      "  np.nanmax([stack[idx:idx + twin], _data[iseg+1, :]], axis = 0)\n"
     ]
    },
    {
     "name": "stdout",
     "output_type": "stream",
     "text": [
      "[####################################    ] | 91% Completed | 26hr 15mAll prediction shape: (2, 5, 3598, 6000)\n",
      "[####################################    ] | 91% Completed | 26hr 19m430 P picks\n",
      "428 S picks\n"
     ]
    },
    {
     "name": "stderr",
     "output_type": "stream",
     "text": [
      "/tmp/ipykernel_523718/2319557713.py:13: RuntimeWarning: All-NaN axis encountered\n",
      "  np.nanmax([stack[idx:idx + twin], _data[iseg+1, :]], axis = 0)\n"
     ]
    },
    {
     "name": "stdout",
     "output_type": "stream",
     "text": [
      "['7D', 'M14B']\n",
      "[####################################    ] | 91% Completed | 26hr 19mAll prediction shape: (2, 5, 1439, 6000)\n",
      "[####################################    ] | 91% Completed | 26hr 20m135 P picks\n",
      "55 S picks\n",
      "['7D', 'M12B']\n",
      "[####################################    ] | 92% Completed | 26hr 20m"
     ]
    },
    {
     "name": "stderr",
     "output_type": "stream",
     "text": [
      "/tmp/ipykernel_523718/2319557713.py:13: RuntimeWarning: All-NaN axis encountered\n",
      "  np.nanmax([stack[idx:idx + twin], _data[iseg+1, :]], axis = 0)\n"
     ]
    },
    {
     "name": "stdout",
     "output_type": "stream",
     "text": [
      "[####################################    ] | 92% Completed | 26hr 20mAll prediction shape: (2, 5, 1439, 6000)\n",
      "[####################################    ] | 92% Completed | 26hr 21m141 P picks\n",
      "58 S picks\n",
      "['NC', 'KHBB']\n",
      "[####################################    ] | 92% Completed | 26hr 21m"
     ]
    },
    {
     "name": "stderr",
     "output_type": "stream",
     "text": [
      "/tmp/ipykernel_523718/2319557713.py:13: RuntimeWarning: All-NaN axis encountered\n",
      "  np.nanmax([stack[idx:idx + twin], _data[iseg+1, :]], axis = 0)\n",
      "WARNING:root:No stream returned. Skipping.\n"
     ]
    },
    {
     "name": "stdout",
     "output_type": "stream",
     "text": [
      "['7D', 'J25B']\n",
      "[####################################    ] | 92% Completed | 26hr 22mAll prediction shape: (2, 5, 3599, 6000)\n",
      "[####################################    ] | 92% Completed | 26hr 26m"
     ]
    },
    {
     "name": "stderr",
     "output_type": "stream",
     "text": [
      "/tmp/ipykernel_523718/2319557713.py:13: RuntimeWarning: All-NaN axis encountered\n",
      "  np.nanmax([stack[idx:idx + twin], _data[iseg+1, :]], axis = 0)\n"
     ]
    },
    {
     "name": "stdout",
     "output_type": "stream",
     "text": [
      "539 P picks\n",
      "637 S picks\n",
      "['7D', 'J25B']\n",
      "[####################################    ] | 92% Completed | 26hr 26mAll prediction shape: (2, 5, 3599, 6000)\n",
      "[####################################    ] | 92% Completed | 26hr 31m467 P picks\n",
      "642 S picks\n"
     ]
    },
    {
     "name": "stderr",
     "output_type": "stream",
     "text": [
      "/tmp/ipykernel_523718/2319557713.py:13: RuntimeWarning: All-NaN axis encountered\n",
      "  np.nanmax([stack[idx:idx + twin], _data[iseg+1, :]], axis = 0)\n"
     ]
    },
    {
     "name": "stdout",
     "output_type": "stream",
     "text": [
      "['NC', 'KRMB']\n",
      "\r",
      "[#####################################   ] | 92% Completed | 26hr 31m"
     ]
    },
    {
     "name": "stderr",
     "output_type": "stream",
     "text": [
      "WARNING:root:No stream returned. Skipping.\n"
     ]
    },
    {
     "name": "stdout",
     "output_type": "stream",
     "text": [
      "['7D', 'G19B']\n",
      "[#####################################   ] | 92% Completed | 26hr 31mAll prediction shape: (2, 5, 1439, 6000)\n",
      "[#####################################   ] | 92% Completed | 26hr 32m61 P picks\n",
      "21 S picks\n",
      "['7D', 'FS13B']\n",
      "[#####################################   ] | 92% Completed | 26hr 32m"
     ]
    },
    {
     "name": "stderr",
     "output_type": "stream",
     "text": [
      "/tmp/ipykernel_523718/2319557713.py:13: RuntimeWarning: All-NaN axis encountered\n",
      "  np.nanmax([stack[idx:idx + twin], _data[iseg+1, :]], axis = 0)\n"
     ]
    },
    {
     "name": "stdout",
     "output_type": "stream",
     "text": [
      "[#####################################   ] | 92% Completed | 26hr 32mAll prediction shape: (2, 5, 3599, 6000)\n",
      "[#####################################   ] | 92% Completed | 26hr 36m371 P picks\n",
      "271 S picks\n"
     ]
    },
    {
     "name": "stderr",
     "output_type": "stream",
     "text": [
      "/tmp/ipykernel_523718/2319557713.py:13: RuntimeWarning: All-NaN axis encountered\n",
      "  np.nanmax([stack[idx:idx + twin], _data[iseg+1, :]], axis = 0)\n"
     ]
    },
    {
     "name": "stdout",
     "output_type": "stream",
     "text": [
      "['7D', 'G27B']\n",
      "[#####################################   ] | 92% Completed | 26hr 36mAll prediction shape: (2, 5, 1439, 6000)\n",
      "[#####################################   ] | 92% Completed | 26hr 37m56 P picks\n",
      "22 S picks\n",
      "['7D', 'M14B']\n",
      "[#####################################   ] | 92% Completed | 26hr 37m"
     ]
    },
    {
     "name": "stderr",
     "output_type": "stream",
     "text": [
      "/tmp/ipykernel_523718/2319557713.py:13: RuntimeWarning: All-NaN axis encountered\n",
      "  np.nanmax([stack[idx:idx + twin], _data[iseg+1, :]], axis = 0)\n"
     ]
    },
    {
     "name": "stdout",
     "output_type": "stream",
     "text": [
      "[#####################################   ] | 92% Completed | 26hr 37mAll prediction shape: (2, 5, 1438, 6000)\n",
      "[#####################################   ] | 92% Completed | 26hr 38m152 P picks\n",
      "63 S picks\n",
      "['NC', 'KOM']\n",
      "[#####################################   ] | 93% Completed | 26hr 38m"
     ]
    },
    {
     "name": "stderr",
     "output_type": "stream",
     "text": [
      "/tmp/ipykernel_523718/2319557713.py:13: RuntimeWarning: All-NaN axis encountered\n",
      "  np.nanmax([stack[idx:idx + twin], _data[iseg+1, :]], axis = 0)\n",
      "WARNING:root:No stream returned. Skipping.\n"
     ]
    },
    {
     "name": "stdout",
     "output_type": "stream",
     "text": [
      "['7D', 'G10B']\n",
      "[#####################################   ] | 93% Completed | 26hr 38mAll prediction shape: (2, 5, 1439, 6000)\n",
      "[#####################################   ] | 93% Completed | 26hr 39m45 P picks\n",
      "30 S picks\n",
      "['7D', 'J33B']\n",
      "[#####################################   ] | 93% Completed | 26hr 39m"
     ]
    },
    {
     "name": "stderr",
     "output_type": "stream",
     "text": [
      "/tmp/ipykernel_523718/2319557713.py:13: RuntimeWarning: All-NaN axis encountered\n",
      "  np.nanmax([stack[idx:idx + twin], _data[iseg+1, :]], axis = 0)\n"
     ]
    },
    {
     "name": "stdout",
     "output_type": "stream",
     "text": [
      "[#####################################   ] | 93% Completed | 26hr 39mAll prediction shape: (2, 5, 3598, 6000)\n",
      "[#####################################   ] | 93% Completed | 26hr 44m269 P picks\n",
      "463 S picks\n",
      "[#####################################   ] | 93% Completed | 26hr 44m"
     ]
    },
    {
     "name": "stderr",
     "output_type": "stream",
     "text": [
      "/tmp/ipykernel_523718/2319557713.py:13: RuntimeWarning: All-NaN axis encountered\n",
      "  np.nanmax([stack[idx:idx + twin], _data[iseg+1, :]], axis = 0)\n"
     ]
    },
    {
     "name": "stdout",
     "output_type": "stream",
     "text": [
      "['7D', 'G19B']\n",
      "[#####################################   ] | 93% Completed | 26hr 44mAll prediction shape: (2, 5, 1439, 6000)\n",
      "[#####################################   ] | 93% Completed | 26hr 44m59 P picks\n",
      "30 S picks\n"
     ]
    },
    {
     "name": "stderr",
     "output_type": "stream",
     "text": [
      "/tmp/ipykernel_523718/2319557713.py:13: RuntimeWarning: All-NaN axis encountered\n",
      "  np.nanmax([stack[idx:idx + twin], _data[iseg+1, :]], axis = 0)\n",
      "WARNING:root:No stream returned. Skipping.\n"
     ]
    },
    {
     "name": "stdout",
     "output_type": "stream",
     "text": [
      "['NC', 'KBO']\n",
      "['7D', 'G26B']\n",
      "[#####################################   ] | 93% Completed | 26hr 45mAll prediction shape: (2, 5, 3598, 6000)\n",
      "[#####################################   ] | 93% Completed | 26hr 49m152 P picks\n",
      "57 S picks\n"
     ]
    },
    {
     "name": "stderr",
     "output_type": "stream",
     "text": [
      "/tmp/ipykernel_523718/2319557713.py:13: RuntimeWarning: All-NaN axis encountered\n",
      "  np.nanmax([stack[idx:idx + twin], _data[iseg+1, :]], axis = 0)\n"
     ]
    },
    {
     "name": "stdout",
     "output_type": "stream",
     "text": [
      "['7D', 'FS20B']\n",
      "[#####################################   ] | 93% Completed | 26hr 50mAll prediction shape: (2, 5, 3599, 6000)\n",
      "[#####################################   ] | 93% Completed | 26hr 54m122 P picks\n",
      "137 S picks\n",
      "['7D', 'G10B']\n",
      "[#####################################   ] | 93% Completed | 26hr 54m"
     ]
    },
    {
     "name": "stderr",
     "output_type": "stream",
     "text": [
      "/tmp/ipykernel_523718/2319557713.py:13: RuntimeWarning: All-NaN axis encountered\n",
      "  np.nanmax([stack[idx:idx + twin], _data[iseg+1, :]], axis = 0)\n"
     ]
    },
    {
     "name": "stdout",
     "output_type": "stream",
     "text": [
      "[#####################################   ] | 93% Completed | 26hr 54mAll prediction shape: (2, 5, 1439, 6000)\n",
      "[#####################################   ] | 93% Completed | 26hr 55m41 P picks\n",
      "17 S picks\n",
      "['NC', 'KMPB']\n",
      "[#####################################   ] | 93% Completed | 26hr 55m"
     ]
    },
    {
     "name": "stderr",
     "output_type": "stream",
     "text": [
      "/tmp/ipykernel_523718/2319557713.py:13: RuntimeWarning: All-NaN axis encountered\n",
      "  np.nanmax([stack[idx:idx + twin], _data[iseg+1, :]], axis = 0)\n",
      "WARNING:root:No stream returned. Skipping.\n"
     ]
    },
    {
     "name": "stdout",
     "output_type": "stream",
     "text": [
      "['7D', 'G25B']\n",
      "[#####################################   ] | 94% Completed | 26hr 55mAll prediction shape: (2, 5, 3599, 6000)\n",
      "[#####################################   ] | 94% Completed | 26hr 59m413 P picks\n",
      "222 S picks\n"
     ]
    },
    {
     "name": "stderr",
     "output_type": "stream",
     "text": [
      "/tmp/ipykernel_523718/2319557713.py:13: RuntimeWarning: All-NaN axis encountered\n",
      "  np.nanmax([stack[idx:idx + twin], _data[iseg+1, :]], axis = 0)\n",
      "WARNING:root:No stream returned. Skipping.\n"
     ]
    },
    {
     "name": "stdout",
     "output_type": "stream",
     "text": [
      "['NC', 'KHBB']\n",
      "['7D', 'G10B']\n",
      "[#####################################   ] | 94% Completed | 27hr 0mmAll prediction shape: (2, 5, 1439, 6000)\n",
      "[#####################################   ] | 94% Completed | 27hr 0m60 P picks\n",
      "35 S picks\n"
     ]
    },
    {
     "name": "stderr",
     "output_type": "stream",
     "text": [
      "/tmp/ipykernel_523718/2319557713.py:13: RuntimeWarning: All-NaN axis encountered\n",
      "  np.nanmax([stack[idx:idx + twin], _data[iseg+1, :]], axis = 0)\n",
      "WARNING:root:No stream returned. Skipping.\n"
     ]
    },
    {
     "name": "stdout",
     "output_type": "stream",
     "text": [
      "['NC', 'KRMB']\n",
      "['7D', 'M09B']\n",
      "[#####################################   ] | 94% Completed | 27hr 1mAll prediction shape: (2, 5, 3599, 6000)\n",
      "[#####################################   ] | 94% Completed | 27hr 5m"
     ]
    },
    {
     "name": "stderr",
     "output_type": "stream",
     "text": [
      "/tmp/ipykernel_523718/2319557713.py:13: RuntimeWarning: All-NaN axis encountered\n",
      "  np.nanmax([stack[idx:idx + twin], _data[iseg+1, :]], axis = 0)\n"
     ]
    },
    {
     "name": "stdout",
     "output_type": "stream",
     "text": [
      "440 P picks\n",
      "500 S picks\n"
     ]
    },
    {
     "name": "stderr",
     "output_type": "stream",
     "text": [
      "WARNING:root:No stream returned. Skipping.\n"
     ]
    },
    {
     "name": "stdout",
     "output_type": "stream",
     "text": [
      "['NC', 'KMPB']\n",
      "['NC', 'KOM']\n",
      "[#####################################   ] | 94% Completed | 27hr 5m"
     ]
    },
    {
     "name": "stderr",
     "output_type": "stream",
     "text": [
      "WARNING:root:No stream returned. Skipping.\n"
     ]
    },
    {
     "name": "stdout",
     "output_type": "stream",
     "text": [
      "['7D', 'G10B']\n",
      "[#####################################   ] | 94% Completed | 27hr 5mAll prediction shape: (2, 5, 1439, 6000)\n",
      "[#####################################   ] | 94% Completed | 27hr 6m42 P picks\n",
      "20 S picks\n",
      "['NC', 'KOM']\n",
      "[#####################################   ] | 94% Completed | 27hr 6m"
     ]
    },
    {
     "name": "stderr",
     "output_type": "stream",
     "text": [
      "/tmp/ipykernel_523718/2319557713.py:13: RuntimeWarning: All-NaN axis encountered\n",
      "  np.nanmax([stack[idx:idx + twin], _data[iseg+1, :]], axis = 0)\n",
      "WARNING:root:No stream returned. Skipping.\n"
     ]
    },
    {
     "name": "stdout",
     "output_type": "stream",
     "text": [
      "['7D', 'G26B']\n",
      "[######################################  ] | 95% Completed | 27hr 6mAll prediction shape: (2, 5, 3599, 6000)\n",
      "[######################################  ] | 95% Completed | 27hr 11m"
     ]
    },
    {
     "name": "stderr",
     "output_type": "stream",
     "text": [
      "/tmp/ipykernel_523718/2319557713.py:13: RuntimeWarning: All-NaN axis encountered\n",
      "  np.nanmax([stack[idx:idx + twin], _data[iseg+1, :]], axis = 0)\n"
     ]
    },
    {
     "name": "stdout",
     "output_type": "stream",
     "text": [
      "215 P picks\n",
      "204 S picks\n",
      "['BK', 'JCC']\n",
      "[######################################  ] | 95% Completed | 27hr 11m"
     ]
    },
    {
     "name": "stderr",
     "output_type": "stream",
     "text": [
      "WARNING:root:No stream returned. Skipping.\n"
     ]
    },
    {
     "name": "stdout",
     "output_type": "stream",
     "text": [
      "['7D', 'G19B']\n",
      "[######################################  ] | 95% Completed | 27hr 11mAll prediction shape: (2, 5, 1439, 6000)\n",
      "[######################################  ] | 95% Completed | 27hr 12m77 P picks\n",
      "36 S picks\n",
      "['7D', 'G17B']\n",
      "[######################################  ] | 95% Completed | 27hr 12m"
     ]
    },
    {
     "name": "stderr",
     "output_type": "stream",
     "text": [
      "/tmp/ipykernel_523718/2319557713.py:13: RuntimeWarning: All-NaN axis encountered\n",
      "  np.nanmax([stack[idx:idx + twin], _data[iseg+1, :]], axis = 0)\n"
     ]
    },
    {
     "name": "stdout",
     "output_type": "stream",
     "text": [
      "[######################################  ] | 95% Completed | 27hr 12mAll prediction shape: (2, 5, 3599, 6000)\n",
      "[######################################  ] | 95% Completed | 27hr 16m552 P picks\n",
      "576 S picks\n"
     ]
    },
    {
     "name": "stderr",
     "output_type": "stream",
     "text": [
      "/tmp/ipykernel_523718/2319557713.py:13: RuntimeWarning: All-NaN axis encountered\n",
      "  np.nanmax([stack[idx:idx + twin], _data[iseg+1, :]], axis = 0)\n"
     ]
    },
    {
     "name": "stdout",
     "output_type": "stream",
     "text": [
      "['NC', 'KHMB']\n",
      "\r",
      "[######################################  ] | 95% Completed | 27hr 16m"
     ]
    },
    {
     "name": "stderr",
     "output_type": "stream",
     "text": [
      "WARNING:root:No stream returned. Skipping.\n",
      "WARNING:root:No stream returned. Skipping.\n"
     ]
    },
    {
     "name": "stdout",
     "output_type": "stream",
     "text": [
      "['NC', 'KHBB']\n",
      "['NC', 'KMPB']\n",
      "[######################################  ] | 95% Completed | 27hr 16m"
     ]
    },
    {
     "name": "stderr",
     "output_type": "stream",
     "text": [
      "WARNING:root:No stream returned. Skipping.\n"
     ]
    },
    {
     "name": "stdout",
     "output_type": "stream",
     "text": [
      "['7D', 'FS13B']\n",
      "[######################################  ] | 95% Completed | 27hr 16mAll prediction shape: (2, 5, 3599, 6000)\n",
      "[######################################  ] | 95% Completed | 27hr 21m"
     ]
    },
    {
     "name": "stderr",
     "output_type": "stream",
     "text": [
      "/tmp/ipykernel_523718/2319557713.py:13: RuntimeWarning: All-NaN axis encountered\n",
      "  np.nanmax([stack[idx:idx + twin], _data[iseg+1, :]], axis = 0)\n"
     ]
    },
    {
     "name": "stdout",
     "output_type": "stream",
     "text": [
      "468 P picks\n",
      "330 S picks\n",
      "['7D', 'M12B']\n",
      "[######################################  ] | 95% Completed | 27hr 21mAll prediction shape: (2, 5, 1439, 6000)\n",
      "[######################################  ] | 95% Completed | 27hr 22m165 P picks\n",
      "62 S picks\n",
      "['NC', 'KMPB']\n",
      "[######################################  ] | 96% Completed | 27hr 22m"
     ]
    },
    {
     "name": "stderr",
     "output_type": "stream",
     "text": [
      "/tmp/ipykernel_523718/2319557713.py:13: RuntimeWarning: All-NaN axis encountered\n",
      "  np.nanmax([stack[idx:idx + twin], _data[iseg+1, :]], axis = 0)\n",
      "WARNING:root:No stream returned. Skipping.\n",
      "WARNING:root:No stream returned. Skipping.\n"
     ]
    },
    {
     "name": "stdout",
     "output_type": "stream",
     "text": [
      "['TA', 'J01E']\n",
      "['7D', 'J25B']\n",
      "[######################################  ] | 96% Completed | 27hr 22mAll prediction shape: (2, 5, 3599, 6000)\n",
      "[######################################  ] | 96% Completed | 27hr 27m"
     ]
    },
    {
     "name": "stderr",
     "output_type": "stream",
     "text": [
      "/tmp/ipykernel_523718/2319557713.py:13: RuntimeWarning: All-NaN axis encountered\n",
      "  np.nanmax([stack[idx:idx + twin], _data[iseg+1, :]], axis = 0)\n"
     ]
    },
    {
     "name": "stdout",
     "output_type": "stream",
     "text": [
      "565 P picks\n",
      "782 S picks\n",
      "['TA', 'I02D']\n",
      "[######################################  ] | 96% Completed | 27hr 27mAll prediction shape: (2, 5, 1151, 6000)\n",
      "[######################################  ] | 96% Completed | 27hr 27m37 P picks\n",
      "9 S picks\n",
      "['7D', 'M14B']\n",
      "[######################################  ] | 96% Completed | 27hr 27m"
     ]
    },
    {
     "name": "stderr",
     "output_type": "stream",
     "text": [
      "/tmp/ipykernel_523718/2319557713.py:13: RuntimeWarning: All-NaN axis encountered\n",
      "  np.nanmax([stack[idx:idx + twin], _data[iseg+1, :]], axis = 0)\n"
     ]
    },
    {
     "name": "stdout",
     "output_type": "stream",
     "text": [
      "[######################################  ] | 96% Completed | 27hr 27mAll prediction shape: (2, 5, 1438, 6000)\n",
      "[######################################  ] | 96% Completed | 27hr 28m181 P picks\n",
      "60 S picks\n"
     ]
    },
    {
     "name": "stderr",
     "output_type": "stream",
     "text": [
      "/tmp/ipykernel_523718/2319557713.py:13: RuntimeWarning: All-NaN axis encountered\n",
      "  np.nanmax([stack[idx:idx + twin], _data[iseg+1, :]], axis = 0)\n",
      "WARNING:root:No stream returned. Skipping.\n"
     ]
    },
    {
     "name": "stdout",
     "output_type": "stream",
     "text": [
      "['NC', 'KRMB']\n",
      "['NC', 'KBO']\n",
      "[######################################  ] | 96% Completed | 27hr 28m"
     ]
    },
    {
     "name": "stderr",
     "output_type": "stream",
     "text": [
      "WARNING:root:No stream returned. Skipping.\n"
     ]
    },
    {
     "name": "stdout",
     "output_type": "stream",
     "text": [
      "['TA', 'I02D']\n",
      "[######################################  ] | 96% Completed | 27hr 28mAll prediction shape: (2, 5, 1151, 6000)\n",
      "[######################################  ] | 96% Completed | 27hr 29m41 P picks\n",
      "9 S picks\n",
      "['TA', 'J01E']\n",
      "[######################################  ] | 96% Completed | 27hr 29m"
     ]
    },
    {
     "name": "stderr",
     "output_type": "stream",
     "text": [
      "/tmp/ipykernel_523718/2319557713.py:13: RuntimeWarning: All-NaN axis encountered\n",
      "  np.nanmax([stack[idx:idx + twin], _data[iseg+1, :]], axis = 0)\n",
      "WARNING:root:No stream returned. Skipping.\n"
     ]
    },
    {
     "name": "stdout",
     "output_type": "stream",
     "text": [
      "['7D', 'M12B']\n",
      "[######################################  ] | 97% Completed | 27hr 29mAll prediction shape: (2, 5, 1439, 6000)\n",
      "[######################################  ] | 97% Completed | 27hr 30m195 P picks\n",
      "36 S picks\n",
      "['7D', 'G19B']\n",
      "[######################################  ] | 97% Completed | 27hr 30m"
     ]
    },
    {
     "name": "stderr",
     "output_type": "stream",
     "text": [
      "/tmp/ipykernel_523718/2319557713.py:13: RuntimeWarning: All-NaN axis encountered\n",
      "  np.nanmax([stack[idx:idx + twin], _data[iseg+1, :]], axis = 0)\n"
     ]
    },
    {
     "name": "stdout",
     "output_type": "stream",
     "text": [
      "[######################################  ] | 97% Completed | 27hr 30mAll prediction shape: (2, 5, 1439, 6000)\n",
      "[######################################  ] | 97% Completed | 27hr 31m23 P picks\n",
      "23 S picks\n",
      "['NC', 'KMPB']\n",
      "[######################################  ] | 97% Completed | 27hr 31m"
     ]
    },
    {
     "name": "stderr",
     "output_type": "stream",
     "text": [
      "/tmp/ipykernel_523718/2319557713.py:13: RuntimeWarning: All-NaN axis encountered\n",
      "  np.nanmax([stack[idx:idx + twin], _data[iseg+1, :]], axis = 0)\n",
      "WARNING:root:No stream returned. Skipping.\n"
     ]
    },
    {
     "name": "stdout",
     "output_type": "stream",
     "text": [
      "['7D', 'G10B']\n",
      "[######################################  ] | 97% Completed | 27hr 31mAll prediction shape: (2, 5, 1439, 6000)\n",
      "[######################################  ] | 97% Completed | 27hr 32m37 P picks\n",
      "15 S picks\n",
      "['7D', 'FS09B']\n",
      "[####################################### ] | 97% Completed | 27hr 32m"
     ]
    },
    {
     "name": "stderr",
     "output_type": "stream",
     "text": [
      "/tmp/ipykernel_523718/2319557713.py:13: RuntimeWarning: All-NaN axis encountered\n",
      "  np.nanmax([stack[idx:idx + twin], _data[iseg+1, :]], axis = 0)\n"
     ]
    },
    {
     "name": "stdout",
     "output_type": "stream",
     "text": [
      "[####################################### ] | 97% Completed | 27hr 32mAll prediction shape: (2, 5, 1439, 6000)\n",
      "[####################################### ] | 97% Completed | 27hr 33m131 P picks\n",
      "107 S picks\n",
      "['7D', 'M09B']\n",
      "[####################################### ] | 97% Completed | 27hr 33m"
     ]
    },
    {
     "name": "stderr",
     "output_type": "stream",
     "text": [
      "/tmp/ipykernel_523718/2319557713.py:13: RuntimeWarning: All-NaN axis encountered\n",
      "  np.nanmax([stack[idx:idx + twin], _data[iseg+1, :]], axis = 0)\n"
     ]
    },
    {
     "name": "stdout",
     "output_type": "stream",
     "text": [
      "[####################################### ] | 97% Completed | 27hr 33mAll prediction shape: (2, 5, 3599, 6000)\n",
      "[####################################### ] | 97% Completed | 27hr 37m"
     ]
    },
    {
     "name": "stderr",
     "output_type": "stream",
     "text": [
      "/tmp/ipykernel_523718/2319557713.py:13: RuntimeWarning: All-NaN axis encountered\n",
      "  np.nanmax([stack[idx:idx + twin], _data[iseg+1, :]], axis = 0)\n"
     ]
    },
    {
     "name": "stdout",
     "output_type": "stream",
     "text": [
      "452 P picks\n",
      "502 S picks\n",
      "['7D', 'FS16B']\n",
      "[####################################### ] | 97% Completed | 27hr 38mAll prediction shape: (2, 5, 3599, 6000)\n",
      "[####################################### ] | 97% Completed | 27hr 42m503 P picks\n",
      "486 S picks\n"
     ]
    },
    {
     "name": "stderr",
     "output_type": "stream",
     "text": [
      "/tmp/ipykernel_523718/2319557713.py:13: RuntimeWarning: All-NaN axis encountered\n",
      "  np.nanmax([stack[idx:idx + twin], _data[iseg+1, :]], axis = 0)\n",
      "WARNING:root:No stream returned. Skipping.\n"
     ]
    },
    {
     "name": "stdout",
     "output_type": "stream",
     "text": [
      "['NC', 'KHBB']\n",
      "['7D', 'FS09B']\n",
      "[####################################### ] | 97% Completed | 27hr 42mAll prediction shape: (2, 5, 1439, 6000)\n",
      "[####################################### ] | 97% Completed | 27hr 43m137 P picks\n",
      "104 S picks\n",
      "['UW', 'BABR']\n",
      "[####################################### ] | 98% Completed | 27hr 43m"
     ]
    },
    {
     "name": "stderr",
     "output_type": "stream",
     "text": [
      "/tmp/ipykernel_523718/2319557713.py:13: RuntimeWarning: All-NaN axis encountered\n",
      "  np.nanmax([stack[idx:idx + twin], _data[iseg+1, :]], axis = 0)\n"
     ]
    },
    {
     "name": "stdout",
     "output_type": "stream",
     "text": [
      "[####################################### ] | 98% Completed | 27hr 43mAll prediction shape: (2, 5, 1151, 6000)\n",
      "[####################################### ] | 98% Completed | 27hr 44m19 P picks\n",
      "10 S picks\n",
      "['7D', 'J33B']\n",
      "[####################################### ] | 98% Completed | 27hr 44m"
     ]
    },
    {
     "name": "stderr",
     "output_type": "stream",
     "text": [
      "/tmp/ipykernel_523718/2319557713.py:13: RuntimeWarning: All-NaN axis encountered\n",
      "  np.nanmax([stack[idx:idx + twin], _data[iseg+1, :]], axis = 0)\n"
     ]
    },
    {
     "name": "stdout",
     "output_type": "stream",
     "text": [
      "[####################################### ] | 98% Completed | 27hr 44mAll prediction shape: (2, 5, 3599, 6000)\n",
      "[####################################### ] | 98% Completed | 27hr 48m"
     ]
    },
    {
     "name": "stderr",
     "output_type": "stream",
     "text": [
      "/tmp/ipykernel_523718/2319557713.py:13: RuntimeWarning: All-NaN axis encountered\n",
      "  np.nanmax([stack[idx:idx + twin], _data[iseg+1, :]], axis = 0)\n"
     ]
    },
    {
     "name": "stdout",
     "output_type": "stream",
     "text": [
      "226 P picks\n",
      "360 S picks\n"
     ]
    },
    {
     "name": "stderr",
     "output_type": "stream",
     "text": [
      "WARNING:root:No stream returned. Skipping.\n"
     ]
    },
    {
     "name": "stdout",
     "output_type": "stream",
     "text": [
      "['NC', 'KBO']\n",
      "['7D', 'J33B']\n",
      "[####################################### ] | 98% Completed | 27hr 49mAll prediction shape: (2, 5, 3598, 6000)\n",
      "[####################################### ] | 98% Completed | 27hr 53m"
     ]
    },
    {
     "name": "stderr",
     "output_type": "stream",
     "text": [
      "/tmp/ipykernel_523718/2319557713.py:13: RuntimeWarning: All-NaN axis encountered\n",
      "  np.nanmax([stack[idx:idx + twin], _data[iseg+1, :]], axis = 0)\n"
     ]
    },
    {
     "name": "stdout",
     "output_type": "stream",
     "text": [
      "265 P picks\n",
      "463 S picks\n",
      "\r",
      "[####################################### ] | 98% Completed | 27hr 53m"
     ]
    },
    {
     "name": "stderr",
     "output_type": "stream",
     "text": [
      "WARNING:root:No stream returned. Skipping.\n"
     ]
    },
    {
     "name": "stdout",
     "output_type": "stream",
     "text": [
      "['NC', 'KHBB']\n",
      "['UW', 'BABR']\n",
      "[####################################### ] | 98% Completed | 27hr 53mAll prediction shape: (2, 5, 1151, 6000)\n",
      "[####################################### ] | 98% Completed | 27hr 53m13 P picks\n",
      "4 S picks\n",
      "['7D', 'M12B']\n",
      "[####################################### ] | 98% Completed | 27hr 53m"
     ]
    },
    {
     "name": "stderr",
     "output_type": "stream",
     "text": [
      "/tmp/ipykernel_523718/2319557713.py:13: RuntimeWarning: All-NaN axis encountered\n",
      "  np.nanmax([stack[idx:idx + twin], _data[iseg+1, :]], axis = 0)\n"
     ]
    },
    {
     "name": "stdout",
     "output_type": "stream",
     "text": [
      "[####################################### ] | 98% Completed | 27hr 54mAll prediction shape: (2, 5, 1439, 6000)\n",
      "[####################################### ] | 98% Completed | 27hr 54m204 P picks\n",
      "62 S picks\n",
      "['7D', 'G27B']\n",
      "[####################################### ] | 98% Completed | 27hr 54m"
     ]
    },
    {
     "name": "stderr",
     "output_type": "stream",
     "text": [
      "/tmp/ipykernel_523718/2319557713.py:13: RuntimeWarning: All-NaN axis encountered\n",
      "  np.nanmax([stack[idx:idx + twin], _data[iseg+1, :]], axis = 0)\n"
     ]
    },
    {
     "name": "stdout",
     "output_type": "stream",
     "text": [
      "[####################################### ] | 98% Completed | 27hr 55mAll prediction shape: (2, 5, 1439, 6000)\n",
      "[####################################### ] | 98% Completed | 27hr 55m86 P picks\n",
      "56 S picks\n",
      "['7D', 'FS16B']\n",
      "[####################################### ] | 98% Completed | 27hr 55m"
     ]
    },
    {
     "name": "stderr",
     "output_type": "stream",
     "text": [
      "/tmp/ipykernel_523718/2319557713.py:13: RuntimeWarning: All-NaN axis encountered\n",
      "  np.nanmax([stack[idx:idx + twin], _data[iseg+1, :]], axis = 0)\n"
     ]
    },
    {
     "name": "stdout",
     "output_type": "stream",
     "text": [
      "[####################################### ] | 98% Completed | 27hr 56m"
     ]
    },
    {
     "name": "stderr",
     "output_type": "stream",
     "text": [
      "/tmp/ipykernel_523718/1201587985.py:95: RuntimeWarning: invalid value encountered in divide\n",
      "  windows_max[iseg, :] = windows[iseg, :] / (np.max(np.abs(windows[iseg, :]), axis=-1, keepdims=True))\n"
     ]
    },
    {
     "name": "stdout",
     "output_type": "stream",
     "text": [
      "[####################################### ] | 98% Completed | 27hr 56mAll prediction shape: (2, 5, 3599, 6000)\n",
      "[####################################### ] | 98% Completed | 28hr 0mm"
     ]
    },
    {
     "name": "stderr",
     "output_type": "stream",
     "text": [
      "/tmp/ipykernel_523718/2319557713.py:13: RuntimeWarning: All-NaN axis encountered\n",
      "  np.nanmax([stack[idx:idx + twin], _data[iseg+1, :]], axis = 0)\n"
     ]
    },
    {
     "name": "stdout",
     "output_type": "stream",
     "text": [
      "247 P picks\n",
      "351 S picks\n"
     ]
    },
    {
     "name": "stderr",
     "output_type": "stream",
     "text": [
      "WARNING:root:No stream returned. Skipping.\n"
     ]
    },
    {
     "name": "stdout",
     "output_type": "stream",
     "text": [
      "['NC', 'KOM']\n",
      "['NC', 'KHMB']\n",
      "[####################################### ] | 99% Completed | 28hr 0m"
     ]
    },
    {
     "name": "stderr",
     "output_type": "stream",
     "text": [
      "WARNING:root:No stream returned. Skipping.\n"
     ]
    },
    {
     "name": "stdout",
     "output_type": "stream",
     "text": [
      "['7D', 'G10B']\n",
      "[####################################### ] | 99% Completed | 28hr 0mAll prediction shape: (2, 5, 1439, 6000)\n",
      "[####################################### ] | 99% Completed | 28hr 1m29 P picks\n",
      "19 S picks\n",
      "['BK', 'JCC']\n",
      "[####################################### ] | 99% Completed | 28hr 1m"
     ]
    },
    {
     "name": "stderr",
     "output_type": "stream",
     "text": [
      "/tmp/ipykernel_523718/2319557713.py:13: RuntimeWarning: All-NaN axis encountered\n",
      "  np.nanmax([stack[idx:idx + twin], _data[iseg+1, :]], axis = 0)\n",
      "WARNING:root:No stream returned. Skipping.\n"
     ]
    },
    {
     "name": "stdout",
     "output_type": "stream",
     "text": [
      "['7D', 'G19B']\n",
      "[####################################### ] | 99% Completed | 28hr 1mAll prediction shape: (2, 5, 1439, 6000)\n",
      "[####################################### ] | 99% Completed | 28hr 2m50 P picks\n",
      "31 S picks\n",
      "[####################################### ] | 99% Completed | 28hr 2m['7D', 'J09B']\n",
      "[####################################### ] | 99% Completed | 28hr 2m"
     ]
    },
    {
     "name": "stderr",
     "output_type": "stream",
     "text": [
      "/tmp/ipykernel_523718/2319557713.py:13: RuntimeWarning: All-NaN axis encountered\n",
      "  np.nanmax([stack[idx:idx + twin], _data[iseg+1, :]], axis = 0)\n"
     ]
    },
    {
     "name": "stdout",
     "output_type": "stream",
     "text": [
      "[####################################### ] | 99% Completed | 28hr 2mAll prediction shape: (2, 5, 1439, 6000)\n",
      "[####################################### ] | 99% Completed | 28hr 3m113 P picks\n",
      "27 S picks\n"
     ]
    },
    {
     "name": "stderr",
     "output_type": "stream",
     "text": [
      "/tmp/ipykernel_523718/2319557713.py:13: RuntimeWarning: All-NaN axis encountered\n",
      "  np.nanmax([stack[idx:idx + twin], _data[iseg+1, :]], axis = 0)\n",
      "WARNING:root:No stream returned. Skipping.\n"
     ]
    },
    {
     "name": "stdout",
     "output_type": "stream",
     "text": [
      "['NC', 'KSXB']\n",
      "['7D', 'FS20B']\n",
      "[####################################### ] | 99% Completed | 28hr 3mAll prediction shape: (2, 5, 3599, 6000)\n",
      "[####################################### ] | 99% Completed | 28hr 7m"
     ]
    },
    {
     "name": "stderr",
     "output_type": "stream",
     "text": [
      "/tmp/ipykernel_523718/2319557713.py:13: RuntimeWarning: All-NaN axis encountered\n",
      "  np.nanmax([stack[idx:idx + twin], _data[iseg+1, :]], axis = 0)\n"
     ]
    },
    {
     "name": "stdout",
     "output_type": "stream",
     "text": [
      "154 P picks\n",
      "143 S picks\n",
      "[########################################] | 100% Completed | 28hr 7m\n"
     ]
    }
   ],
   "source": [
    "# Now we start setting up a parallel operation using a package called Dask.\n",
    "\n",
    "# Start by writing a new a function that is specifically designed to be run in parallel through dask. All it essentially does is define the inputs to the larger run_detection function and then runs the function itself, but because we \"decorate\" it with @dask.delayed to start, the code will recognize that it should be run in parallel.\n",
    "\n",
    "@dask.delayed\n",
    "def loop_days(task,filepath,twin,step,l_blnd,r_blnd):\n",
    "\n",
    "    # Define the parameters that are specific to each task\n",
    "    t1 = obspy.UTCDateTime(task[2])\n",
    "    t2 = obspy.UTCDateTime(t1 + pd.Timedelta(1,'days'))\n",
    "    network = task[0]\n",
    "    station = task[1]\n",
    "\n",
    "    #print network and station\n",
    "    print([network,station])\n",
    "    # Call to the function that will perform the operation and write the results to file\n",
    "    try: \n",
    "        run_detection(network,station,t1,t2,filepath,twin,step,l_blnd,r_blnd)\n",
    "    except:\n",
    "        return\n",
    "\n",
    "\n",
    "# Now we set up the parallel operation\n",
    "# The below builds a framework for the computer to run in parallel. This doesn't actually execute anything.\n",
    "lazy_results = [loop_days(task,filepath,twin,step,l_blnd,r_blnd) for task in task_list]\n",
    "    \n",
    "\n",
    "# The below actually executes the parallel operation!\n",
    "# It's nice to do it with the ProgressBar so you can see how long things are taking.\n",
    "# Each operation should also write a file so that is another way to check on progress.\n",
    "with ProgressBar():\n",
    "    #################################\n",
    "    # Add scheduler = 'single-threaded'\n",
    "\tdask.compute(lazy_results, scheduler='single-threaded') \n",
    "    "
   ]
  },
  {
   "cell_type": "code",
   "execution_count": null,
   "id": "fcf61b7d",
   "metadata": {},
   "outputs": [],
   "source": []
  },
  {
   "cell_type": "code",
   "execution_count": null,
   "id": "55fa2fa0",
   "metadata": {},
   "outputs": [],
   "source": []
  }
 ],
 "metadata": {
  "kernelspec": {
   "display_name": "seismo (SHARED)",
   "language": "python",
   "name": "seismo"
  },
  "language_info": {
   "codemirror_mode": {
    "name": "ipython",
    "version": 3
   },
   "file_extension": ".py",
   "mimetype": "text/x-python",
   "name": "python",
   "nbconvert_exporter": "python",
   "pygments_lexer": "ipython3",
   "version": "3.9.18"
  }
 },
 "nbformat": 4,
 "nbformat_minor": 5
}
