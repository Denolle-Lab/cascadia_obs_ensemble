{
 "cells": [
  {
   "cell_type": "code",
   "execution_count": null,
   "id": "a9659be3",
   "metadata": {},
   "outputs": [],
   "source": [
    "# pip install basemap\n"
   ]
  },
  {
   "cell_type": "code",
   "execution_count": 2,
   "id": "c92e5226",
   "metadata": {},
   "outputs": [],
   "source": [
    "import os\n",
    "import sys\n",
    "import pandas as pd\n",
    "import numpy as np\n",
    "import obspy\n",
    "from tqdm import tqdm\n",
    "\n",
    "from obspy.clients.fdsn import Client\n",
    "from obspy.clients.fdsn import Client as FDSNClient\n",
    "\n",
    "from mpl_toolkits.basemap import Basemap\n",
    "\n",
    "\n",
    "from pnwstore.mseed import WaveformClient\n",
    "from datetime import datetime\n",
    "from matplotlib import pyplot as plt\n",
    "from matplotlib.backends.backend_pdf import PdfPages\n",
    "\n",
    "from obspy import UTCDateTime\n",
    "\n",
    "from tqdm import tqdm\n",
    "from obspy.geodetics import locations2degrees, degrees2kilometers\n",
    "\n",
    "notebook_dir = os.getcwd()\n",
    "parent_dir = os.path.abspath(os.path.join(notebook_dir, '../'))\n",
    "if parent_dir not in sys.path:\n",
    "    sys.path.append(parent_dir)\n",
    "    \n",
    "from plot_utils import *\n",
    "from qc_utils import * "
   ]
  },
  {
   "cell_type": "markdown",
   "id": "ce408df1",
   "metadata": {},
   "source": [
    "## Morton Catalog"
   ]
  },
  {
   "cell_type": "code",
   "execution_count": 3,
   "id": "6bd019d5",
   "metadata": {},
   "outputs": [
    {
     "data": {
      "text/html": [
       "<div>\n",
       "<style scoped>\n",
       "    .dataframe tbody tr th:only-of-type {\n",
       "        vertical-align: middle;\n",
       "    }\n",
       "\n",
       "    .dataframe tbody tr th {\n",
       "        vertical-align: top;\n",
       "    }\n",
       "\n",
       "    .dataframe thead th {\n",
       "        text-align: right;\n",
       "    }\n",
       "</style>\n",
       "<table border=\"1\" class=\"dataframe\">\n",
       "  <thead>\n",
       "    <tr style=\"text-align: right;\">\n",
       "      <th></th>\n",
       "      <th>CI YEAR</th>\n",
       "      <th>TSTRING</th>\n",
       "      <th>YEAR</th>\n",
       "      <th>MONTH</th>\n",
       "      <th>DAY</th>\n",
       "      <th>HOUR</th>\n",
       "      <th>MINUTE</th>\n",
       "      <th>SECOND</th>\n",
       "      <th>LAT</th>\n",
       "      <th>LON</th>\n",
       "      <th>...</th>\n",
       "      <th>dist to nearest stn</th>\n",
       "      <th>tt RMS</th>\n",
       "      <th>ERH</th>\n",
       "      <th>ERZ</th>\n",
       "      <th>STRIKE</th>\n",
       "      <th>DIP</th>\n",
       "      <th>RAKE</th>\n",
       "      <th>PLATE DESIGNATION</th>\n",
       "      <th>TEMPLATE EVENT?</th>\n",
       "      <th>datetime</th>\n",
       "    </tr>\n",
       "  </thead>\n",
       "  <tbody>\n",
       "    <tr>\n",
       "      <th>0</th>\n",
       "      <td>1.0</td>\n",
       "      <td>2.011073e+13</td>\n",
       "      <td>2011.0</td>\n",
       "      <td>7.0</td>\n",
       "      <td>26.0</td>\n",
       "      <td>1.0</td>\n",
       "      <td>2.0</td>\n",
       "      <td>7.37</td>\n",
       "      <td>47.3217</td>\n",
       "      <td>-123.2708</td>\n",
       "      <td>...</td>\n",
       "      <td>27.4</td>\n",
       "      <td>0.19</td>\n",
       "      <td>0.8</td>\n",
       "      <td>1.2</td>\n",
       "      <td>NaN</td>\n",
       "      <td>NaN</td>\n",
       "      <td>NaN</td>\n",
       "      <td>Interface</td>\n",
       "      <td>Catalog</td>\n",
       "      <td>2011-07-26 01:02:07+00:00</td>\n",
       "    </tr>\n",
       "    <tr>\n",
       "      <th>1</th>\n",
       "      <td>1.0</td>\n",
       "      <td>2.011073e+13</td>\n",
       "      <td>2011.0</td>\n",
       "      <td>7.0</td>\n",
       "      <td>26.0</td>\n",
       "      <td>1.0</td>\n",
       "      <td>2.0</td>\n",
       "      <td>7.72</td>\n",
       "      <td>44.2888</td>\n",
       "      <td>-124.3340</td>\n",
       "      <td>...</td>\n",
       "      <td>163.8</td>\n",
       "      <td>0.06</td>\n",
       "      <td>13.1</td>\n",
       "      <td>3.2</td>\n",
       "      <td>NaN</td>\n",
       "      <td>NaN</td>\n",
       "      <td>NaN</td>\n",
       "      <td>Upper Plate</td>\n",
       "      <td>NaN</td>\n",
       "      <td>2011-07-26 01:02:07+00:00</td>\n",
       "    </tr>\n",
       "    <tr>\n",
       "      <th>2</th>\n",
       "      <td>1.0</td>\n",
       "      <td>2.011073e+13</td>\n",
       "      <td>2011.0</td>\n",
       "      <td>7.0</td>\n",
       "      <td>26.0</td>\n",
       "      <td>1.0</td>\n",
       "      <td>2.0</td>\n",
       "      <td>8.56</td>\n",
       "      <td>44.3017</td>\n",
       "      <td>-124.3180</td>\n",
       "      <td>...</td>\n",
       "      <td>131.1</td>\n",
       "      <td>0.50</td>\n",
       "      <td>35.4</td>\n",
       "      <td>22.2</td>\n",
       "      <td>NaN</td>\n",
       "      <td>NaN</td>\n",
       "      <td>NaN</td>\n",
       "      <td>Upper Plate</td>\n",
       "      <td>NaN</td>\n",
       "      <td>2011-07-26 01:02:08+00:00</td>\n",
       "    </tr>\n",
       "    <tr>\n",
       "      <th>3</th>\n",
       "      <td>1.0</td>\n",
       "      <td>2.011073e+13</td>\n",
       "      <td>2011.0</td>\n",
       "      <td>7.0</td>\n",
       "      <td>26.0</td>\n",
       "      <td>7.0</td>\n",
       "      <td>31.0</td>\n",
       "      <td>2.17</td>\n",
       "      <td>48.2635</td>\n",
       "      <td>-124.9298</td>\n",
       "      <td>...</td>\n",
       "      <td>44.4</td>\n",
       "      <td>0.77</td>\n",
       "      <td>3.5</td>\n",
       "      <td>6.4</td>\n",
       "      <td>NaN</td>\n",
       "      <td>NaN</td>\n",
       "      <td>NaN</td>\n",
       "      <td>Upper Plate</td>\n",
       "      <td>NaN</td>\n",
       "      <td>2011-07-26 07:31:02+00:00</td>\n",
       "    </tr>\n",
       "    <tr>\n",
       "      <th>4</th>\n",
       "      <td>1.0</td>\n",
       "      <td>2.011073e+13</td>\n",
       "      <td>2011.0</td>\n",
       "      <td>7.0</td>\n",
       "      <td>26.0</td>\n",
       "      <td>9.0</td>\n",
       "      <td>50.0</td>\n",
       "      <td>27.63</td>\n",
       "      <td>48.3032</td>\n",
       "      <td>-124.9157</td>\n",
       "      <td>...</td>\n",
       "      <td>46.1</td>\n",
       "      <td>0.94</td>\n",
       "      <td>4.0</td>\n",
       "      <td>6.9</td>\n",
       "      <td>NaN</td>\n",
       "      <td>NaN</td>\n",
       "      <td>NaN</td>\n",
       "      <td>Upper Plate</td>\n",
       "      <td>T</td>\n",
       "      <td>2011-07-26 09:50:27+00:00</td>\n",
       "    </tr>\n",
       "  </tbody>\n",
       "</table>\n",
       "<p>5 rows × 24 columns</p>\n",
       "</div>"
      ],
      "text/plain": [
       "   CI YEAR       TSTRING    YEAR  MONTH   DAY  HOUR  MINUTE  SECOND      LAT  \\\n",
       "0      1.0  2.011073e+13  2011.0    7.0  26.0   1.0     2.0    7.37  47.3217   \n",
       "1      1.0  2.011073e+13  2011.0    7.0  26.0   1.0     2.0    7.72  44.2888   \n",
       "2      1.0  2.011073e+13  2011.0    7.0  26.0   1.0     2.0    8.56  44.3017   \n",
       "3      1.0  2.011073e+13  2011.0    7.0  26.0   7.0    31.0    2.17  48.2635   \n",
       "4      1.0  2.011073e+13  2011.0    7.0  26.0   9.0    50.0   27.63  48.3032   \n",
       "\n",
       "        LON  ...  dist to nearest stn  tt RMS   ERH   ERZ  STRIKE  DIP  RAKE  \\\n",
       "0 -123.2708  ...                 27.4    0.19   0.8   1.2     NaN  NaN   NaN   \n",
       "1 -124.3340  ...                163.8    0.06  13.1   3.2     NaN  NaN   NaN   \n",
       "2 -124.3180  ...                131.1    0.50  35.4  22.2     NaN  NaN   NaN   \n",
       "3 -124.9298  ...                 44.4    0.77   3.5   6.4     NaN  NaN   NaN   \n",
       "4 -124.9157  ...                 46.1    0.94   4.0   6.9     NaN  NaN   NaN   \n",
       "\n",
       "   PLATE DESIGNATION  TEMPLATE EVENT?                  datetime  \n",
       "0          Interface          Catalog 2011-07-26 01:02:07+00:00  \n",
       "1        Upper Plate              NaN 2011-07-26 01:02:07+00:00  \n",
       "2        Upper Plate              NaN 2011-07-26 01:02:08+00:00  \n",
       "3        Upper Plate              NaN 2011-07-26 07:31:02+00:00  \n",
       "4        Upper Plate                T 2011-07-26 09:50:27+00:00  \n",
       "\n",
       "[5 rows x 24 columns]"
      ]
     },
     "execution_count": 3,
     "metadata": {},
     "output_type": "execute_result"
    }
   ],
   "source": [
    "# Read Morton's catalog\n",
    "events_morton = pd.read_csv('../data/ds01.csv')\n",
    "# Convert the TSTRING to datetime\n",
    "events_morton['datetime'] = pd.to_datetime(events_morton['TSTRING'], format='%Y%m%d%H%M%S', utc=True)\n",
    "# Get the events in the Morton catalog \n",
    "t1 = pd.Timestamp('2011-1-1 00:00:00.000000+0000', tz='UTC')\n",
    "t2 = pd.Timestamp('2015-12-31 23:59:59.999999+0000', tz='UTC')\n",
    "\n",
    "events_morton= events_morton.loc[(events_morton['datetime'] > t1) & (events_morton['datetime'] < t2) ]\n",
    "\n",
    "events_morton.head()"
   ]
  },
  {
   "cell_type": "code",
   "execution_count": 4,
   "id": "c3e58514",
   "metadata": {},
   "outputs": [
    {
     "data": {
      "text/html": [
       "<div>\n",
       "<style scoped>\n",
       "    .dataframe tbody tr th:only-of-type {\n",
       "        vertical-align: middle;\n",
       "    }\n",
       "\n",
       "    .dataframe tbody tr th {\n",
       "        vertical-align: top;\n",
       "    }\n",
       "\n",
       "    .dataframe thead th {\n",
       "        text-align: right;\n",
       "    }\n",
       "</style>\n",
       "<table border=\"1\" class=\"dataframe\">\n",
       "  <thead>\n",
       "    <tr style=\"text-align: right;\">\n",
       "      <th></th>\n",
       "      <th>CI YEAR</th>\n",
       "      <th>TSTRING</th>\n",
       "      <th>YEAR</th>\n",
       "      <th>MONTH</th>\n",
       "      <th>DAY</th>\n",
       "      <th>HOUR</th>\n",
       "      <th>MINUTE</th>\n",
       "      <th>SECOND</th>\n",
       "      <th>LAT</th>\n",
       "      <th>LON</th>\n",
       "      <th>...</th>\n",
       "      <th>dist to nearest stn</th>\n",
       "      <th>tt RMS</th>\n",
       "      <th>ERH</th>\n",
       "      <th>ERZ</th>\n",
       "      <th>STRIKE</th>\n",
       "      <th>DIP</th>\n",
       "      <th>RAKE</th>\n",
       "      <th>PLATE DESIGNATION</th>\n",
       "      <th>TEMPLATE EVENT?</th>\n",
       "      <th>datetime</th>\n",
       "    </tr>\n",
       "  </thead>\n",
       "  <tbody>\n",
       "    <tr>\n",
       "      <th>0</th>\n",
       "      <td>1.0</td>\n",
       "      <td>2.011073e+13</td>\n",
       "      <td>2011.0</td>\n",
       "      <td>7.0</td>\n",
       "      <td>26.0</td>\n",
       "      <td>1.0</td>\n",
       "      <td>2.0</td>\n",
       "      <td>7.37</td>\n",
       "      <td>47.3217</td>\n",
       "      <td>-123.2708</td>\n",
       "      <td>...</td>\n",
       "      <td>27.4</td>\n",
       "      <td>0.19</td>\n",
       "      <td>0.8</td>\n",
       "      <td>1.2</td>\n",
       "      <td>NaN</td>\n",
       "      <td>NaN</td>\n",
       "      <td>NaN</td>\n",
       "      <td>Interface</td>\n",
       "      <td>Catalog</td>\n",
       "      <td>2011-07-26 01:02:07+00:00</td>\n",
       "    </tr>\n",
       "    <tr>\n",
       "      <th>1</th>\n",
       "      <td>1.0</td>\n",
       "      <td>2.011073e+13</td>\n",
       "      <td>2011.0</td>\n",
       "      <td>7.0</td>\n",
       "      <td>26.0</td>\n",
       "      <td>1.0</td>\n",
       "      <td>2.0</td>\n",
       "      <td>7.72</td>\n",
       "      <td>44.2888</td>\n",
       "      <td>-124.3340</td>\n",
       "      <td>...</td>\n",
       "      <td>163.8</td>\n",
       "      <td>0.06</td>\n",
       "      <td>13.1</td>\n",
       "      <td>3.2</td>\n",
       "      <td>NaN</td>\n",
       "      <td>NaN</td>\n",
       "      <td>NaN</td>\n",
       "      <td>Upper Plate</td>\n",
       "      <td>NaN</td>\n",
       "      <td>2011-07-26 01:02:07+00:00</td>\n",
       "    </tr>\n",
       "    <tr>\n",
       "      <th>2</th>\n",
       "      <td>1.0</td>\n",
       "      <td>2.011073e+13</td>\n",
       "      <td>2011.0</td>\n",
       "      <td>7.0</td>\n",
       "      <td>26.0</td>\n",
       "      <td>1.0</td>\n",
       "      <td>2.0</td>\n",
       "      <td>8.56</td>\n",
       "      <td>44.3017</td>\n",
       "      <td>-124.3180</td>\n",
       "      <td>...</td>\n",
       "      <td>131.1</td>\n",
       "      <td>0.50</td>\n",
       "      <td>35.4</td>\n",
       "      <td>22.2</td>\n",
       "      <td>NaN</td>\n",
       "      <td>NaN</td>\n",
       "      <td>NaN</td>\n",
       "      <td>Upper Plate</td>\n",
       "      <td>NaN</td>\n",
       "      <td>2011-07-26 01:02:08+00:00</td>\n",
       "    </tr>\n",
       "    <tr>\n",
       "      <th>3</th>\n",
       "      <td>1.0</td>\n",
       "      <td>2.011073e+13</td>\n",
       "      <td>2011.0</td>\n",
       "      <td>7.0</td>\n",
       "      <td>26.0</td>\n",
       "      <td>7.0</td>\n",
       "      <td>31.0</td>\n",
       "      <td>2.17</td>\n",
       "      <td>48.2635</td>\n",
       "      <td>-124.9298</td>\n",
       "      <td>...</td>\n",
       "      <td>44.4</td>\n",
       "      <td>0.77</td>\n",
       "      <td>3.5</td>\n",
       "      <td>6.4</td>\n",
       "      <td>NaN</td>\n",
       "      <td>NaN</td>\n",
       "      <td>NaN</td>\n",
       "      <td>Upper Plate</td>\n",
       "      <td>NaN</td>\n",
       "      <td>2011-07-26 07:31:02+00:00</td>\n",
       "    </tr>\n",
       "    <tr>\n",
       "      <th>4</th>\n",
       "      <td>1.0</td>\n",
       "      <td>2.011073e+13</td>\n",
       "      <td>2011.0</td>\n",
       "      <td>7.0</td>\n",
       "      <td>26.0</td>\n",
       "      <td>9.0</td>\n",
       "      <td>50.0</td>\n",
       "      <td>27.63</td>\n",
       "      <td>48.3032</td>\n",
       "      <td>-124.9157</td>\n",
       "      <td>...</td>\n",
       "      <td>46.1</td>\n",
       "      <td>0.94</td>\n",
       "      <td>4.0</td>\n",
       "      <td>6.9</td>\n",
       "      <td>NaN</td>\n",
       "      <td>NaN</td>\n",
       "      <td>NaN</td>\n",
       "      <td>Upper Plate</td>\n",
       "      <td>T</td>\n",
       "      <td>2011-07-26 09:50:27+00:00</td>\n",
       "    </tr>\n",
       "    <tr>\n",
       "      <th>...</th>\n",
       "      <td>...</td>\n",
       "      <td>...</td>\n",
       "      <td>...</td>\n",
       "      <td>...</td>\n",
       "      <td>...</td>\n",
       "      <td>...</td>\n",
       "      <td>...</td>\n",
       "      <td>...</td>\n",
       "      <td>...</td>\n",
       "      <td>...</td>\n",
       "      <td>...</td>\n",
       "      <td>...</td>\n",
       "      <td>...</td>\n",
       "      <td>...</td>\n",
       "      <td>...</td>\n",
       "      <td>...</td>\n",
       "      <td>...</td>\n",
       "      <td>...</td>\n",
       "      <td>...</td>\n",
       "      <td>...</td>\n",
       "      <td>...</td>\n",
       "    </tr>\n",
       "    <tr>\n",
       "      <th>5277</th>\n",
       "      <td>4.0</td>\n",
       "      <td>2.015101e+13</td>\n",
       "      <td>2015.0</td>\n",
       "      <td>10.0</td>\n",
       "      <td>7.0</td>\n",
       "      <td>8.0</td>\n",
       "      <td>1.0</td>\n",
       "      <td>50.83</td>\n",
       "      <td>40.5895</td>\n",
       "      <td>-124.0455</td>\n",
       "      <td>...</td>\n",
       "      <td>5.4</td>\n",
       "      <td>0.14</td>\n",
       "      <td>0.9</td>\n",
       "      <td>0.8</td>\n",
       "      <td>NaN</td>\n",
       "      <td>NaN</td>\n",
       "      <td>NaN</td>\n",
       "      <td>Slab</td>\n",
       "      <td>NaN</td>\n",
       "      <td>2015-10-07 08:01:50+00:00</td>\n",
       "    </tr>\n",
       "    <tr>\n",
       "      <th>5278</th>\n",
       "      <td>4.0</td>\n",
       "      <td>2.015101e+13</td>\n",
       "      <td>2015.0</td>\n",
       "      <td>10.0</td>\n",
       "      <td>7.0</td>\n",
       "      <td>8.0</td>\n",
       "      <td>7.0</td>\n",
       "      <td>8.40</td>\n",
       "      <td>40.5380</td>\n",
       "      <td>-123.7217</td>\n",
       "      <td>...</td>\n",
       "      <td>14.9</td>\n",
       "      <td>0.09</td>\n",
       "      <td>3.3</td>\n",
       "      <td>13.5</td>\n",
       "      <td>NaN</td>\n",
       "      <td>NaN</td>\n",
       "      <td>NaN</td>\n",
       "      <td>Upper Plate</td>\n",
       "      <td>NaN</td>\n",
       "      <td>2015-10-07 08:07:08+00:00</td>\n",
       "    </tr>\n",
       "    <tr>\n",
       "      <th>5279</th>\n",
       "      <td>4.0</td>\n",
       "      <td>2.015101e+13</td>\n",
       "      <td>2015.0</td>\n",
       "      <td>10.0</td>\n",
       "      <td>7.0</td>\n",
       "      <td>11.0</td>\n",
       "      <td>31.0</td>\n",
       "      <td>26.69</td>\n",
       "      <td>40.5822</td>\n",
       "      <td>-124.0432</td>\n",
       "      <td>...</td>\n",
       "      <td>5.6</td>\n",
       "      <td>0.05</td>\n",
       "      <td>1.7</td>\n",
       "      <td>0.8</td>\n",
       "      <td>NaN</td>\n",
       "      <td>NaN</td>\n",
       "      <td>NaN</td>\n",
       "      <td>Slab</td>\n",
       "      <td>NaN</td>\n",
       "      <td>2015-10-07 11:31:26+00:00</td>\n",
       "    </tr>\n",
       "    <tr>\n",
       "      <th>5280</th>\n",
       "      <td>4.0</td>\n",
       "      <td>2.015101e+13</td>\n",
       "      <td>2015.0</td>\n",
       "      <td>10.0</td>\n",
       "      <td>7.0</td>\n",
       "      <td>18.0</td>\n",
       "      <td>11.0</td>\n",
       "      <td>9.52</td>\n",
       "      <td>40.2710</td>\n",
       "      <td>-124.3777</td>\n",
       "      <td>...</td>\n",
       "      <td>7.9</td>\n",
       "      <td>0.19</td>\n",
       "      <td>0.7</td>\n",
       "      <td>0.2</td>\n",
       "      <td>NaN</td>\n",
       "      <td>NaN</td>\n",
       "      <td>NaN</td>\n",
       "      <td>Upper Plate</td>\n",
       "      <td>NaN</td>\n",
       "      <td>2015-10-07 18:11:09+00:00</td>\n",
       "    </tr>\n",
       "    <tr>\n",
       "      <th>5281</th>\n",
       "      <td>4.0</td>\n",
       "      <td>2.015101e+13</td>\n",
       "      <td>2015.0</td>\n",
       "      <td>10.0</td>\n",
       "      <td>7.0</td>\n",
       "      <td>21.0</td>\n",
       "      <td>45.0</td>\n",
       "      <td>50.37</td>\n",
       "      <td>40.1602</td>\n",
       "      <td>-123.8320</td>\n",
       "      <td>...</td>\n",
       "      <td>29.4</td>\n",
       "      <td>0.22</td>\n",
       "      <td>1.3</td>\n",
       "      <td>18.6</td>\n",
       "      <td>NaN</td>\n",
       "      <td>NaN</td>\n",
       "      <td>NaN</td>\n",
       "      <td>Undef</td>\n",
       "      <td>NaN</td>\n",
       "      <td>2015-10-07 21:45:50+00:00</td>\n",
       "    </tr>\n",
       "  </tbody>\n",
       "</table>\n",
       "<p>5282 rows × 24 columns</p>\n",
       "</div>"
      ],
      "text/plain": [
       "      CI YEAR       TSTRING    YEAR  MONTH   DAY  HOUR  MINUTE  SECOND  \\\n",
       "0         1.0  2.011073e+13  2011.0    7.0  26.0   1.0     2.0    7.37   \n",
       "1         1.0  2.011073e+13  2011.0    7.0  26.0   1.0     2.0    7.72   \n",
       "2         1.0  2.011073e+13  2011.0    7.0  26.0   1.0     2.0    8.56   \n",
       "3         1.0  2.011073e+13  2011.0    7.0  26.0   7.0    31.0    2.17   \n",
       "4         1.0  2.011073e+13  2011.0    7.0  26.0   9.0    50.0   27.63   \n",
       "...       ...           ...     ...    ...   ...   ...     ...     ...   \n",
       "5277      4.0  2.015101e+13  2015.0   10.0   7.0   8.0     1.0   50.83   \n",
       "5278      4.0  2.015101e+13  2015.0   10.0   7.0   8.0     7.0    8.40   \n",
       "5279      4.0  2.015101e+13  2015.0   10.0   7.0  11.0    31.0   26.69   \n",
       "5280      4.0  2.015101e+13  2015.0   10.0   7.0  18.0    11.0    9.52   \n",
       "5281      4.0  2.015101e+13  2015.0   10.0   7.0  21.0    45.0   50.37   \n",
       "\n",
       "          LAT       LON  ...  dist to nearest stn  tt RMS   ERH   ERZ  STRIKE  \\\n",
       "0     47.3217 -123.2708  ...                 27.4    0.19   0.8   1.2     NaN   \n",
       "1     44.2888 -124.3340  ...                163.8    0.06  13.1   3.2     NaN   \n",
       "2     44.3017 -124.3180  ...                131.1    0.50  35.4  22.2     NaN   \n",
       "3     48.2635 -124.9298  ...                 44.4    0.77   3.5   6.4     NaN   \n",
       "4     48.3032 -124.9157  ...                 46.1    0.94   4.0   6.9     NaN   \n",
       "...       ...       ...  ...                  ...     ...   ...   ...     ...   \n",
       "5277  40.5895 -124.0455  ...                  5.4    0.14   0.9   0.8     NaN   \n",
       "5278  40.5380 -123.7217  ...                 14.9    0.09   3.3  13.5     NaN   \n",
       "5279  40.5822 -124.0432  ...                  5.6    0.05   1.7   0.8     NaN   \n",
       "5280  40.2710 -124.3777  ...                  7.9    0.19   0.7   0.2     NaN   \n",
       "5281  40.1602 -123.8320  ...                 29.4    0.22   1.3  18.6     NaN   \n",
       "\n",
       "      DIP  RAKE  PLATE DESIGNATION  TEMPLATE EVENT?                  datetime  \n",
       "0     NaN   NaN          Interface          Catalog 2011-07-26 01:02:07+00:00  \n",
       "1     NaN   NaN        Upper Plate              NaN 2011-07-26 01:02:07+00:00  \n",
       "2     NaN   NaN        Upper Plate              NaN 2011-07-26 01:02:08+00:00  \n",
       "3     NaN   NaN        Upper Plate              NaN 2011-07-26 07:31:02+00:00  \n",
       "4     NaN   NaN        Upper Plate                T 2011-07-26 09:50:27+00:00  \n",
       "...   ...   ...                ...              ...                       ...  \n",
       "5277  NaN   NaN               Slab              NaN 2015-10-07 08:01:50+00:00  \n",
       "5278  NaN   NaN        Upper Plate              NaN 2015-10-07 08:07:08+00:00  \n",
       "5279  NaN   NaN               Slab              NaN 2015-10-07 11:31:26+00:00  \n",
       "5280  NaN   NaN        Upper Plate              NaN 2015-10-07 18:11:09+00:00  \n",
       "5281  NaN   NaN              Undef              NaN 2015-10-07 21:45:50+00:00  \n",
       "\n",
       "[5282 rows x 24 columns]"
      ]
     },
     "execution_count": 4,
     "metadata": {},
     "output_type": "execute_result"
    }
   ],
   "source": [
    "events_morton"
   ]
  },
  {
   "cell_type": "markdown",
   "id": "a24957dc",
   "metadata": {},
   "source": [
    "## ANSS Catalog"
   ]
  },
  {
   "cell_type": "code",
   "execution_count": 5,
   "id": "ca384628",
   "metadata": {},
   "outputs": [
    {
     "data": {
      "text/html": [
       "<div>\n",
       "<style scoped>\n",
       "    .dataframe tbody tr th:only-of-type {\n",
       "        vertical-align: middle;\n",
       "    }\n",
       "\n",
       "    .dataframe tbody tr th {\n",
       "        vertical-align: top;\n",
       "    }\n",
       "\n",
       "    .dataframe thead th {\n",
       "        text-align: right;\n",
       "    }\n",
       "</style>\n",
       "<table border=\"1\" class=\"dataframe\">\n",
       "  <thead>\n",
       "    <tr style=\"text-align: right;\">\n",
       "      <th></th>\n",
       "      <th>Unnamed: 0</th>\n",
       "      <th>time</th>\n",
       "      <th>latitude</th>\n",
       "      <th>longitude</th>\n",
       "      <th>depth</th>\n",
       "      <th>mag</th>\n",
       "      <th>magType</th>\n",
       "      <th>nst</th>\n",
       "      <th>gap</th>\n",
       "      <th>dmin</th>\n",
       "      <th>...</th>\n",
       "      <th>place</th>\n",
       "      <th>type</th>\n",
       "      <th>horizontalError</th>\n",
       "      <th>depthError</th>\n",
       "      <th>magError</th>\n",
       "      <th>magNst</th>\n",
       "      <th>status</th>\n",
       "      <th>locationSource</th>\n",
       "      <th>magSource</th>\n",
       "      <th>datetime</th>\n",
       "    </tr>\n",
       "  </thead>\n",
       "  <tbody>\n",
       "    <tr>\n",
       "      <th>0</th>\n",
       "      <td>0</td>\n",
       "      <td>2011-01-01T00:21:06.570Z</td>\n",
       "      <td>38.809834</td>\n",
       "      <td>-122.793663</td>\n",
       "      <td>1.746</td>\n",
       "      <td>0.88</td>\n",
       "      <td>md</td>\n",
       "      <td>14.0</td>\n",
       "      <td>73.0</td>\n",
       "      <td>0.001802</td>\n",
       "      <td>...</td>\n",
       "      <td>6 km WSW of Cobb, California</td>\n",
       "      <td>earthquake</td>\n",
       "      <td>0.30</td>\n",
       "      <td>0.56</td>\n",
       "      <td>0.010</td>\n",
       "      <td>16.0</td>\n",
       "      <td>automatic</td>\n",
       "      <td>nc</td>\n",
       "      <td>nc</td>\n",
       "      <td>2011-01-01 00:21:06.570000+00:00</td>\n",
       "    </tr>\n",
       "    <tr>\n",
       "      <th>1</th>\n",
       "      <td>1</td>\n",
       "      <td>2011-01-01T02:04:41.480Z</td>\n",
       "      <td>38.789001</td>\n",
       "      <td>-122.747002</td>\n",
       "      <td>-0.844</td>\n",
       "      <td>0.28</td>\n",
       "      <td>md</td>\n",
       "      <td>5.0</td>\n",
       "      <td>122.0</td>\n",
       "      <td>0.009910</td>\n",
       "      <td>...</td>\n",
       "      <td>4 km SSW of Cobb, California</td>\n",
       "      <td>earthquake</td>\n",
       "      <td>0.42</td>\n",
       "      <td>2.39</td>\n",
       "      <td>0.200</td>\n",
       "      <td>6.0</td>\n",
       "      <td>automatic</td>\n",
       "      <td>nc</td>\n",
       "      <td>nc</td>\n",
       "      <td>2011-01-01 02:04:41.480000+00:00</td>\n",
       "    </tr>\n",
       "    <tr>\n",
       "      <th>2</th>\n",
       "      <td>2</td>\n",
       "      <td>2011-01-01T02:53:49.640Z</td>\n",
       "      <td>38.817333</td>\n",
       "      <td>-122.821167</td>\n",
       "      <td>1.929</td>\n",
       "      <td>1.03</td>\n",
       "      <td>md</td>\n",
       "      <td>40.0</td>\n",
       "      <td>44.0</td>\n",
       "      <td>0.010810</td>\n",
       "      <td>...</td>\n",
       "      <td>8 km W of Cobb, California</td>\n",
       "      <td>earthquake</td>\n",
       "      <td>0.14</td>\n",
       "      <td>0.19</td>\n",
       "      <td>0.060</td>\n",
       "      <td>13.0</td>\n",
       "      <td>reviewed</td>\n",
       "      <td>nc</td>\n",
       "      <td>nc</td>\n",
       "      <td>2011-01-01 02:53:49.640000+00:00</td>\n",
       "    </tr>\n",
       "    <tr>\n",
       "      <th>3</th>\n",
       "      <td>3</td>\n",
       "      <td>2011-01-01T03:11:04.720Z</td>\n",
       "      <td>38.841835</td>\n",
       "      <td>-122.829002</td>\n",
       "      <td>1.076</td>\n",
       "      <td>0.43</td>\n",
       "      <td>md</td>\n",
       "      <td>7.0</td>\n",
       "      <td>77.0</td>\n",
       "      <td>0.013510</td>\n",
       "      <td>...</td>\n",
       "      <td>9 km WNW of Cobb, California</td>\n",
       "      <td>earthquake</td>\n",
       "      <td>0.43</td>\n",
       "      <td>0.88</td>\n",
       "      <td>0.150</td>\n",
       "      <td>7.0</td>\n",
       "      <td>automatic</td>\n",
       "      <td>nc</td>\n",
       "      <td>nc</td>\n",
       "      <td>2011-01-01 03:11:04.720000+00:00</td>\n",
       "    </tr>\n",
       "    <tr>\n",
       "      <th>4</th>\n",
       "      <td>4</td>\n",
       "      <td>2011-01-01T03:32:55.630Z</td>\n",
       "      <td>38.835833</td>\n",
       "      <td>-122.807000</td>\n",
       "      <td>0.947</td>\n",
       "      <td>0.16</td>\n",
       "      <td>md</td>\n",
       "      <td>9.0</td>\n",
       "      <td>112.0</td>\n",
       "      <td>0.012610</td>\n",
       "      <td>...</td>\n",
       "      <td>7 km WNW of Cobb, California</td>\n",
       "      <td>earthquake</td>\n",
       "      <td>0.33</td>\n",
       "      <td>0.72</td>\n",
       "      <td>0.123</td>\n",
       "      <td>2.0</td>\n",
       "      <td>reviewed</td>\n",
       "      <td>nc</td>\n",
       "      <td>nc</td>\n",
       "      <td>2011-01-01 03:32:55.630000+00:00</td>\n",
       "    </tr>\n",
       "    <tr>\n",
       "      <th>...</th>\n",
       "      <td>...</td>\n",
       "      <td>...</td>\n",
       "      <td>...</td>\n",
       "      <td>...</td>\n",
       "      <td>...</td>\n",
       "      <td>...</td>\n",
       "      <td>...</td>\n",
       "      <td>...</td>\n",
       "      <td>...</td>\n",
       "      <td>...</td>\n",
       "      <td>...</td>\n",
       "      <td>...</td>\n",
       "      <td>...</td>\n",
       "      <td>...</td>\n",
       "      <td>...</td>\n",
       "      <td>...</td>\n",
       "      <td>...</td>\n",
       "      <td>...</td>\n",
       "      <td>...</td>\n",
       "      <td>...</td>\n",
       "      <td>...</td>\n",
       "    </tr>\n",
       "    <tr>\n",
       "      <th>131527</th>\n",
       "      <td>131527</td>\n",
       "      <td>2015-12-31T22:15:46.650Z</td>\n",
       "      <td>38.837502</td>\n",
       "      <td>-122.825333</td>\n",
       "      <td>1.450</td>\n",
       "      <td>0.18</td>\n",
       "      <td>md</td>\n",
       "      <td>6.0</td>\n",
       "      <td>180.0</td>\n",
       "      <td>0.008108</td>\n",
       "      <td>...</td>\n",
       "      <td>9 km W of Cobb, California</td>\n",
       "      <td>earthquake</td>\n",
       "      <td>0.66</td>\n",
       "      <td>1.08</td>\n",
       "      <td>0.110</td>\n",
       "      <td>2.0</td>\n",
       "      <td>automatic</td>\n",
       "      <td>nc</td>\n",
       "      <td>nc</td>\n",
       "      <td>2015-12-31 22:15:46.650000+00:00</td>\n",
       "    </tr>\n",
       "    <tr>\n",
       "      <th>131528</th>\n",
       "      <td>131528</td>\n",
       "      <td>2015-12-31T22:18:13.120Z</td>\n",
       "      <td>41.856400</td>\n",
       "      <td>-119.599200</td>\n",
       "      <td>8.700</td>\n",
       "      <td>1.40</td>\n",
       "      <td>ml</td>\n",
       "      <td>6.0</td>\n",
       "      <td>210.1</td>\n",
       "      <td>0.175000</td>\n",
       "      <td>...</td>\n",
       "      <td>45 km E of Fort Bidwell, California</td>\n",
       "      <td>earthquake</td>\n",
       "      <td>NaN</td>\n",
       "      <td>3.40</td>\n",
       "      <td>0.210</td>\n",
       "      <td>3.0</td>\n",
       "      <td>reviewed</td>\n",
       "      <td>nn</td>\n",
       "      <td>nn</td>\n",
       "      <td>2015-12-31 22:18:13.120000+00:00</td>\n",
       "    </tr>\n",
       "    <tr>\n",
       "      <th>131529</th>\n",
       "      <td>131529</td>\n",
       "      <td>2015-12-31T23:19:21.650Z</td>\n",
       "      <td>38.823334</td>\n",
       "      <td>-122.765663</td>\n",
       "      <td>1.680</td>\n",
       "      <td>0.54</td>\n",
       "      <td>md</td>\n",
       "      <td>7.0</td>\n",
       "      <td>99.0</td>\n",
       "      <td>0.008108</td>\n",
       "      <td>...</td>\n",
       "      <td>3 km W of Cobb, California</td>\n",
       "      <td>earthquake</td>\n",
       "      <td>0.50</td>\n",
       "      <td>1.54</td>\n",
       "      <td>0.030</td>\n",
       "      <td>2.0</td>\n",
       "      <td>automatic</td>\n",
       "      <td>nc</td>\n",
       "      <td>nc</td>\n",
       "      <td>2015-12-31 23:19:21.650000+00:00</td>\n",
       "    </tr>\n",
       "    <tr>\n",
       "      <th>131530</th>\n",
       "      <td>131530</td>\n",
       "      <td>2015-12-31T23:22:20.730Z</td>\n",
       "      <td>38.841000</td>\n",
       "      <td>-122.878166</td>\n",
       "      <td>1.730</td>\n",
       "      <td>0.77</td>\n",
       "      <td>md</td>\n",
       "      <td>8.0</td>\n",
       "      <td>95.0</td>\n",
       "      <td>0.007207</td>\n",
       "      <td>...</td>\n",
       "      <td>12 km ENE of Cloverdale, California</td>\n",
       "      <td>earthquake</td>\n",
       "      <td>0.58</td>\n",
       "      <td>1.02</td>\n",
       "      <td>0.180</td>\n",
       "      <td>3.0</td>\n",
       "      <td>automatic</td>\n",
       "      <td>nc</td>\n",
       "      <td>nc</td>\n",
       "      <td>2015-12-31 23:22:20.730000+00:00</td>\n",
       "    </tr>\n",
       "    <tr>\n",
       "      <th>131531</th>\n",
       "      <td>131531</td>\n",
       "      <td>2015-12-31T23:53:17.350Z</td>\n",
       "      <td>40.457667</td>\n",
       "      <td>-124.763000</td>\n",
       "      <td>24.960</td>\n",
       "      <td>2.32</td>\n",
       "      <td>md</td>\n",
       "      <td>16.0</td>\n",
       "      <td>301.0</td>\n",
       "      <td>0.325200</td>\n",
       "      <td>...</td>\n",
       "      <td>44 km WSW of Ferndale, California</td>\n",
       "      <td>earthquake</td>\n",
       "      <td>0.99</td>\n",
       "      <td>4.72</td>\n",
       "      <td>0.324</td>\n",
       "      <td>18.0</td>\n",
       "      <td>reviewed</td>\n",
       "      <td>nc</td>\n",
       "      <td>nc</td>\n",
       "      <td>2015-12-31 23:53:17.350000+00:00</td>\n",
       "    </tr>\n",
       "  </tbody>\n",
       "</table>\n",
       "<p>131532 rows × 24 columns</p>\n",
       "</div>"
      ],
      "text/plain": [
       "        Unnamed: 0                      time   latitude   longitude   depth  \\\n",
       "0                0  2011-01-01T00:21:06.570Z  38.809834 -122.793663   1.746   \n",
       "1                1  2011-01-01T02:04:41.480Z  38.789001 -122.747002  -0.844   \n",
       "2                2  2011-01-01T02:53:49.640Z  38.817333 -122.821167   1.929   \n",
       "3                3  2011-01-01T03:11:04.720Z  38.841835 -122.829002   1.076   \n",
       "4                4  2011-01-01T03:32:55.630Z  38.835833 -122.807000   0.947   \n",
       "...            ...                       ...        ...         ...     ...   \n",
       "131527      131527  2015-12-31T22:15:46.650Z  38.837502 -122.825333   1.450   \n",
       "131528      131528  2015-12-31T22:18:13.120Z  41.856400 -119.599200   8.700   \n",
       "131529      131529  2015-12-31T23:19:21.650Z  38.823334 -122.765663   1.680   \n",
       "131530      131530  2015-12-31T23:22:20.730Z  38.841000 -122.878166   1.730   \n",
       "131531      131531  2015-12-31T23:53:17.350Z  40.457667 -124.763000  24.960   \n",
       "\n",
       "         mag magType   nst    gap      dmin  ...  \\\n",
       "0       0.88      md  14.0   73.0  0.001802  ...   \n",
       "1       0.28      md   5.0  122.0  0.009910  ...   \n",
       "2       1.03      md  40.0   44.0  0.010810  ...   \n",
       "3       0.43      md   7.0   77.0  0.013510  ...   \n",
       "4       0.16      md   9.0  112.0  0.012610  ...   \n",
       "...      ...     ...   ...    ...       ...  ...   \n",
       "131527  0.18      md   6.0  180.0  0.008108  ...   \n",
       "131528  1.40      ml   6.0  210.1  0.175000  ...   \n",
       "131529  0.54      md   7.0   99.0  0.008108  ...   \n",
       "131530  0.77      md   8.0   95.0  0.007207  ...   \n",
       "131531  2.32      md  16.0  301.0  0.325200  ...   \n",
       "\n",
       "                                      place        type horizontalError  \\\n",
       "0              6 km WSW of Cobb, California  earthquake            0.30   \n",
       "1              4 km SSW of Cobb, California  earthquake            0.42   \n",
       "2                8 km W of Cobb, California  earthquake            0.14   \n",
       "3              9 km WNW of Cobb, California  earthquake            0.43   \n",
       "4              7 km WNW of Cobb, California  earthquake            0.33   \n",
       "...                                     ...         ...             ...   \n",
       "131527           9 km W of Cobb, California  earthquake            0.66   \n",
       "131528  45 km E of Fort Bidwell, California  earthquake             NaN   \n",
       "131529           3 km W of Cobb, California  earthquake            0.50   \n",
       "131530  12 km ENE of Cloverdale, California  earthquake            0.58   \n",
       "131531    44 km WSW of Ferndale, California  earthquake            0.99   \n",
       "\n",
       "       depthError magError magNst     status  locationSource  magSource  \\\n",
       "0            0.56    0.010   16.0  automatic              nc         nc   \n",
       "1            2.39    0.200    6.0  automatic              nc         nc   \n",
       "2            0.19    0.060   13.0   reviewed              nc         nc   \n",
       "3            0.88    0.150    7.0  automatic              nc         nc   \n",
       "4            0.72    0.123    2.0   reviewed              nc         nc   \n",
       "...           ...      ...    ...        ...             ...        ...   \n",
       "131527       1.08    0.110    2.0  automatic              nc         nc   \n",
       "131528       3.40    0.210    3.0   reviewed              nn         nn   \n",
       "131529       1.54    0.030    2.0  automatic              nc         nc   \n",
       "131530       1.02    0.180    3.0  automatic              nc         nc   \n",
       "131531       4.72    0.324   18.0   reviewed              nc         nc   \n",
       "\n",
       "                               datetime  \n",
       "0      2011-01-01 00:21:06.570000+00:00  \n",
       "1      2011-01-01 02:04:41.480000+00:00  \n",
       "2      2011-01-01 02:53:49.640000+00:00  \n",
       "3      2011-01-01 03:11:04.720000+00:00  \n",
       "4      2011-01-01 03:32:55.630000+00:00  \n",
       "...                                 ...  \n",
       "131527 2015-12-31 22:15:46.650000+00:00  \n",
       "131528 2015-12-31 22:18:13.120000+00:00  \n",
       "131529 2015-12-31 23:19:21.650000+00:00  \n",
       "131530 2015-12-31 23:22:20.730000+00:00  \n",
       "131531 2015-12-31 23:53:17.350000+00:00  \n",
       "\n",
       "[131532 rows x 24 columns]"
      ]
     },
     "execution_count": 5,
     "metadata": {},
     "output_type": "execute_result"
    }
   ],
   "source": [
    "events_anss = pd.read_csv('../data/datasets_anss/anss_2011-15.csv')\n",
    "events_anss['datetime'] = pd.to_datetime(events_anss['time'], format='%Y-%m-%dT%H:%M:%S.%fZ', utc=True)\n",
    "events_anss= events_anss.loc[(events_anss['datetime'] > t1) & (events_anss['datetime'] < t2) ]\n",
    "events_anss"
   ]
  },
  {
   "cell_type": "markdown",
   "id": "d2499c46",
   "metadata": {},
   "source": [
    "## Our Catalog"
   ]
  },
  {
   "cell_type": "code",
   "execution_count": 6,
   "id": "f0456713",
   "metadata": {
    "scrolled": true
   },
   "outputs": [
    {
     "name": "stderr",
     "output_type": "stream",
     "text": [
      "/tmp/ipykernel_2179382/636291086.py:6: SettingWithCopyWarning: \n",
      "A value is trying to be set on a copy of a slice from a DataFrame.\n",
      "Try using .loc[row_indexer,col_indexer] = value instead\n",
      "\n",
      "See the caveats in the documentation: https://pandas.pydata.org/pandas-docs/stable/user_guide/indexing.html#returning-a-view-versus-a-copy\n",
      "  mycatalog['datetime'] = pd.to_datetime(mycatalog['time'], utc = True)\n"
     ]
    },
    {
     "data": {
      "text/html": [
       "<div>\n",
       "<style scoped>\n",
       "    .dataframe tbody tr th:only-of-type {\n",
       "        vertical-align: middle;\n",
       "    }\n",
       "\n",
       "    .dataframe tbody tr th {\n",
       "        vertical-align: top;\n",
       "    }\n",
       "\n",
       "    .dataframe thead th {\n",
       "        text-align: right;\n",
       "    }\n",
       "</style>\n",
       "<table border=\"1\" class=\"dataframe\">\n",
       "  <thead>\n",
       "    <tr style=\"text-align: right;\">\n",
       "      <th></th>\n",
       "      <th>Unnamed: 0</th>\n",
       "      <th>idx</th>\n",
       "      <th>time</th>\n",
       "      <th>x</th>\n",
       "      <th>y</th>\n",
       "      <th>z</th>\n",
       "      <th>picks</th>\n",
       "      <th>latitude</th>\n",
       "      <th>longitude</th>\n",
       "      <th>depth</th>\n",
       "      <th>event_idx</th>\n",
       "      <th>pick_idx</th>\n",
       "      <th>residual</th>\n",
       "      <th>station</th>\n",
       "      <th>phase</th>\n",
       "      <th>time_pick</th>\n",
       "      <th>datetime</th>\n",
       "    </tr>\n",
       "  </thead>\n",
       "  <tbody>\n",
       "    <tr>\n",
       "      <th>0</th>\n",
       "      <td>0</td>\n",
       "      <td>1</td>\n",
       "      <td>2011-03-01 17:07:07.540138+00:00</td>\n",
       "      <td>59.686846</td>\n",
       "      <td>375.950591</td>\n",
       "      <td>31.640625</td>\n",
       "      <td>6</td>\n",
       "      <td>47.879445</td>\n",
       "      <td>-124.702035</td>\n",
       "      <td>31.640625</td>\n",
       "      <td>1</td>\n",
       "      <td>397897</td>\n",
       "      <td>0.302324</td>\n",
       "      <td>FORK</td>\n",
       "      <td>P</td>\n",
       "      <td>1.298999e+09</td>\n",
       "      <td>2011-03-01 17:07:07.540138+00:00</td>\n",
       "    </tr>\n",
       "    <tr>\n",
       "      <th>6</th>\n",
       "      <td>6</td>\n",
       "      <td>2</td>\n",
       "      <td>2011-03-20 04:20:39.627115+00:00</td>\n",
       "      <td>-142.244353</td>\n",
       "      <td>664.891786</td>\n",
       "      <td>49.609375</td>\n",
       "      <td>6</td>\n",
       "      <td>50.463057</td>\n",
       "      <td>-127.503384</td>\n",
       "      <td>49.609375</td>\n",
       "      <td>2</td>\n",
       "      <td>385699</td>\n",
       "      <td>0.839141</td>\n",
       "      <td>FORK</td>\n",
       "      <td>P</td>\n",
       "      <td>1.300595e+09</td>\n",
       "      <td>2011-03-20 04:20:39.627115+00:00</td>\n",
       "    </tr>\n",
       "    <tr>\n",
       "      <th>12</th>\n",
       "      <td>12</td>\n",
       "      <td>3</td>\n",
       "      <td>2011-03-21 16:57:21.730601+00:00</td>\n",
       "      <td>170.135403</td>\n",
       "      <td>354.494561</td>\n",
       "      <td>49.609375</td>\n",
       "      <td>6</td>\n",
       "      <td>47.666876</td>\n",
       "      <td>-123.234630</td>\n",
       "      <td>49.609375</td>\n",
       "      <td>3</td>\n",
       "      <td>409168</td>\n",
       "      <td>-0.793817</td>\n",
       "      <td>FORK</td>\n",
       "      <td>P</td>\n",
       "      <td>1.300727e+09</td>\n",
       "      <td>2011-03-21 16:57:21.730601+00:00</td>\n",
       "    </tr>\n",
       "    <tr>\n",
       "      <th>18</th>\n",
       "      <td>18</td>\n",
       "      <td>4</td>\n",
       "      <td>2011-04-23 20:03:08.498333+00:00</td>\n",
       "      <td>61.918130</td>\n",
       "      <td>375.950591</td>\n",
       "      <td>32.421875</td>\n",
       "      <td>6</td>\n",
       "      <td>47.879234</td>\n",
       "      <td>-124.672207</td>\n",
       "      <td>32.421875</td>\n",
       "      <td>4</td>\n",
       "      <td>405210</td>\n",
       "      <td>0.213393</td>\n",
       "      <td>FORK</td>\n",
       "      <td>P</td>\n",
       "      <td>1.303589e+09</td>\n",
       "      <td>2011-04-23 20:03:08.498333+00:00</td>\n",
       "    </tr>\n",
       "    <tr>\n",
       "      <th>24</th>\n",
       "      <td>24</td>\n",
       "      <td>6</td>\n",
       "      <td>2011-05-21 11:06:10.027406+00:00</td>\n",
       "      <td>189.101316</td>\n",
       "      <td>453.192297</td>\n",
       "      <td>16.796875</td>\n",
       "      <td>7</td>\n",
       "      <td>48.548372</td>\n",
       "      <td>-122.938625</td>\n",
       "      <td>16.796875</td>\n",
       "      <td>6</td>\n",
       "      <td>410652</td>\n",
       "      <td>-0.941794</td>\n",
       "      <td>BMSB</td>\n",
       "      <td>P</td>\n",
       "      <td>1.305976e+09</td>\n",
       "      <td>2011-05-21 11:06:10.027406+00:00</td>\n",
       "    </tr>\n",
       "    <tr>\n",
       "      <th>...</th>\n",
       "      <td>...</td>\n",
       "      <td>...</td>\n",
       "      <td>...</td>\n",
       "      <td>...</td>\n",
       "      <td>...</td>\n",
       "      <td>...</td>\n",
       "      <td>...</td>\n",
       "      <td>...</td>\n",
       "      <td>...</td>\n",
       "      <td>...</td>\n",
       "      <td>...</td>\n",
       "      <td>...</td>\n",
       "      <td>...</td>\n",
       "      <td>...</td>\n",
       "      <td>...</td>\n",
       "      <td>...</td>\n",
       "      <td>...</td>\n",
       "    </tr>\n",
       "    <tr>\n",
       "      <th>1764</th>\n",
       "      <td>1764</td>\n",
       "      <td>420</td>\n",
       "      <td>2015-12-09 04:55:58.410071+00:00</td>\n",
       "      <td>-11.714241</td>\n",
       "      <td>514.699581</td>\n",
       "      <td>12.890625</td>\n",
       "      <td>6</td>\n",
       "      <td>49.129848</td>\n",
       "      <td>-125.660510</td>\n",
       "      <td>12.890625</td>\n",
       "      <td>420</td>\n",
       "      <td>302352</td>\n",
       "      <td>0.016868</td>\n",
       "      <td>BFSB</td>\n",
       "      <td>P</td>\n",
       "      <td>1.449637e+09</td>\n",
       "      <td>2015-12-09 04:55:58.410071+00:00</td>\n",
       "    </tr>\n",
       "    <tr>\n",
       "      <th>1770</th>\n",
       "      <td>1770</td>\n",
       "      <td>421</td>\n",
       "      <td>2015-12-10 11:49:32.628968+00:00</td>\n",
       "      <td>-11.714241</td>\n",
       "      <td>493.243551</td>\n",
       "      <td>23.828125</td>\n",
       "      <td>6</td>\n",
       "      <td>48.936916</td>\n",
       "      <td>-125.659891</td>\n",
       "      <td>23.828125</td>\n",
       "      <td>421</td>\n",
       "      <td>285327</td>\n",
       "      <td>-0.059377</td>\n",
       "      <td>BFSB</td>\n",
       "      <td>P</td>\n",
       "      <td>1.449748e+09</td>\n",
       "      <td>2015-12-10 11:49:32.628968+00:00</td>\n",
       "    </tr>\n",
       "    <tr>\n",
       "      <th>1776</th>\n",
       "      <td>1776</td>\n",
       "      <td>422</td>\n",
       "      <td>2015-12-13 01:35:34.220311+00:00</td>\n",
       "      <td>-19.523735</td>\n",
       "      <td>513.269179</td>\n",
       "      <td>32.421875</td>\n",
       "      <td>6</td>\n",
       "      <td>49.116787</td>\n",
       "      <td>-125.767447</td>\n",
       "      <td>32.421875</td>\n",
       "      <td>422</td>\n",
       "      <td>296042</td>\n",
       "      <td>-0.202658</td>\n",
       "      <td>BFSB</td>\n",
       "      <td>P</td>\n",
       "      <td>1.449971e+09</td>\n",
       "      <td>2015-12-13 01:35:34.220311+00:00</td>\n",
       "    </tr>\n",
       "    <tr>\n",
       "      <th>1782</th>\n",
       "      <td>1782</td>\n",
       "      <td>423</td>\n",
       "      <td>2015-12-15 03:22:53.205921+00:00</td>\n",
       "      <td>67.496340</td>\n",
       "      <td>375.950591</td>\n",
       "      <td>23.828125</td>\n",
       "      <td>6</td>\n",
       "      <td>47.878672</td>\n",
       "      <td>-124.597641</td>\n",
       "      <td>23.828125</td>\n",
       "      <td>423</td>\n",
       "      <td>330010</td>\n",
       "      <td>-0.225094</td>\n",
       "      <td>BFSB</td>\n",
       "      <td>P</td>\n",
       "      <td>1.450150e+09</td>\n",
       "      <td>2015-12-15 03:22:53.205921+00:00</td>\n",
       "    </tr>\n",
       "    <tr>\n",
       "      <th>1788</th>\n",
       "      <td>1788</td>\n",
       "      <td>425</td>\n",
       "      <td>2015-12-30 07:39:28.170022+00:00</td>\n",
       "      <td>175.713613</td>\n",
       "      <td>467.496316</td>\n",
       "      <td>15.234375</td>\n",
       "      <td>6</td>\n",
       "      <td>48.680781</td>\n",
       "      <td>-123.113740</td>\n",
       "      <td>15.234375</td>\n",
       "      <td>425</td>\n",
       "      <td>327602</td>\n",
       "      <td>-0.035866</td>\n",
       "      <td>BFSB</td>\n",
       "      <td>P</td>\n",
       "      <td>1.451461e+09</td>\n",
       "      <td>2015-12-30 07:39:28.170022+00:00</td>\n",
       "    </tr>\n",
       "  </tbody>\n",
       "</table>\n",
       "<p>273 rows × 17 columns</p>\n",
       "</div>"
      ],
      "text/plain": [
       "      Unnamed: 0  idx                              time           x  \\\n",
       "0              0    1  2011-03-01 17:07:07.540138+00:00   59.686846   \n",
       "6              6    2  2011-03-20 04:20:39.627115+00:00 -142.244353   \n",
       "12            12    3  2011-03-21 16:57:21.730601+00:00  170.135403   \n",
       "18            18    4  2011-04-23 20:03:08.498333+00:00   61.918130   \n",
       "24            24    6  2011-05-21 11:06:10.027406+00:00  189.101316   \n",
       "...          ...  ...                               ...         ...   \n",
       "1764        1764  420  2015-12-09 04:55:58.410071+00:00  -11.714241   \n",
       "1770        1770  421  2015-12-10 11:49:32.628968+00:00  -11.714241   \n",
       "1776        1776  422  2015-12-13 01:35:34.220311+00:00  -19.523735   \n",
       "1782        1782  423  2015-12-15 03:22:53.205921+00:00   67.496340   \n",
       "1788        1788  425  2015-12-30 07:39:28.170022+00:00  175.713613   \n",
       "\n",
       "               y          z  picks   latitude   longitude      depth  \\\n",
       "0     375.950591  31.640625      6  47.879445 -124.702035  31.640625   \n",
       "6     664.891786  49.609375      6  50.463057 -127.503384  49.609375   \n",
       "12    354.494561  49.609375      6  47.666876 -123.234630  49.609375   \n",
       "18    375.950591  32.421875      6  47.879234 -124.672207  32.421875   \n",
       "24    453.192297  16.796875      7  48.548372 -122.938625  16.796875   \n",
       "...          ...        ...    ...        ...         ...        ...   \n",
       "1764  514.699581  12.890625      6  49.129848 -125.660510  12.890625   \n",
       "1770  493.243551  23.828125      6  48.936916 -125.659891  23.828125   \n",
       "1776  513.269179  32.421875      6  49.116787 -125.767447  32.421875   \n",
       "1782  375.950591  23.828125      6  47.878672 -124.597641  23.828125   \n",
       "1788  467.496316  15.234375      6  48.680781 -123.113740  15.234375   \n",
       "\n",
       "      event_idx  pick_idx  residual station phase     time_pick  \\\n",
       "0             1    397897  0.302324    FORK     P  1.298999e+09   \n",
       "6             2    385699  0.839141    FORK     P  1.300595e+09   \n",
       "12            3    409168 -0.793817    FORK     P  1.300727e+09   \n",
       "18            4    405210  0.213393    FORK     P  1.303589e+09   \n",
       "24            6    410652 -0.941794    BMSB     P  1.305976e+09   \n",
       "...         ...       ...       ...     ...   ...           ...   \n",
       "1764        420    302352  0.016868    BFSB     P  1.449637e+09   \n",
       "1770        421    285327 -0.059377    BFSB     P  1.449748e+09   \n",
       "1776        422    296042 -0.202658    BFSB     P  1.449971e+09   \n",
       "1782        423    330010 -0.225094    BFSB     P  1.450150e+09   \n",
       "1788        425    327602 -0.035866    BFSB     P  1.451461e+09   \n",
       "\n",
       "                             datetime  \n",
       "0    2011-03-01 17:07:07.540138+00:00  \n",
       "6    2011-03-20 04:20:39.627115+00:00  \n",
       "12   2011-03-21 16:57:21.730601+00:00  \n",
       "18   2011-04-23 20:03:08.498333+00:00  \n",
       "24   2011-05-21 11:06:10.027406+00:00  \n",
       "...                               ...  \n",
       "1764 2015-12-09 04:55:58.410071+00:00  \n",
       "1770 2015-12-10 11:49:32.628968+00:00  \n",
       "1776 2015-12-13 01:35:34.220311+00:00  \n",
       "1782 2015-12-15 03:22:53.205921+00:00  \n",
       "1788 2015-12-30 07:39:28.170022+00:00  \n",
       "\n",
       "[273 rows x 17 columns]"
      ]
     },
     "execution_count": 6,
     "metadata": {},
     "output_type": "execute_result"
    }
   ],
   "source": [
    "# Load all the pick assignments \n",
    "year = 'nwa_shore'\n",
    "mycatalog_picks = pd.read_csv(f'../data/datasets_{year}/all_pick_assignments_{year}.csv')\n",
    "mycatalog = mycatalog_picks.drop_duplicates(subset=['idx'])\n",
    "# Convert the time series in all_pick_assignments to datetime\n",
    "mycatalog['datetime'] = pd.to_datetime(mycatalog['time'], utc = True)\n",
    "mycatalog=mycatalog.loc[(mycatalog['datetime'] > t1) & (mycatalog['datetime'] < t2) ]\n",
    "mycatalog"
   ]
  },
  {
   "cell_type": "markdown",
   "id": "f3d4e9ca",
   "metadata": {},
   "source": [
    "## Run this loop"
   ]
  },
  {
   "cell_type": "code",
   "execution_count": 7,
   "id": "3e0e7740",
   "metadata": {},
   "outputs": [
    {
     "name": "stdout",
     "output_type": "stream",
     "text": [
      "matched idx of Morton:  14\n",
      "matched idx of Morton:  31\n",
      "matched idx of Morton:  79\n",
      "matched idx of Morton:  82\n",
      "matched idx of Morton:  87\n",
      "matched idx of Morton:  91\n",
      "matched idx of Morton:  103\n",
      "matched idx of Morton:  106\n",
      "matched idx of Morton:  109\n",
      "matched idx of Morton:  139\n",
      "matched idx of Morton:  160\n",
      "matched idx of Morton:  209\n",
      "matched idx of Morton:  216\n",
      "matched idx of Morton:  284\n",
      "matched idx of Morton:  332\n",
      "matched idx of Morton:  1763\n",
      "matched idx of Morton:  1767\n",
      "matched idx of Morton:  1776\n",
      "matched idx of Morton:  1793\n",
      "matched idx of Morton:  1797\n",
      "matched idx of Morton:  1808\n",
      "matched idx of Morton:  1810\n",
      "matched idx of Morton:  1819\n",
      "matched idx of Morton:  1830\n",
      "matched idx of Morton:  1850\n",
      "matched idx of Morton:  1852\n",
      "matched idx of Morton:  1857\n",
      "matched idx of Morton:  1866\n",
      "matched idx of Morton:  1869\n",
      "matched idx of Morton:  1875\n",
      "matched idx of Morton:  1876\n",
      "matched idx of Morton:  2180\n",
      "matched idx of Morton:  2812\n",
      "matched idx of Morton:  3064\n",
      "matched idx of Morton:  3441\n",
      "matched idx of Morton:  3943\n",
      "matched idx of Morton:  3996\n",
      "matched idx of Morton:  5276\n",
      "273 188\n",
      "length of mycatalog:273\n",
      "length of events_morton:5282\n",
      "length of events_anss:131532\n",
      "matched_indices_morton:38\n",
      "matched_indices_anss:64\n",
      "unmatched_indices_morton:235\n",
      "unmatched_indices_anss:209\n",
      "unmatched_indices_morton_and_anss (new events):188\n"
     ]
    }
   ],
   "source": [
    "matched_events_mycatalog2morton = []\n",
    "matched_times_morton2mycatalog = []\n",
    "matched_events_morton2mycatalog = []\n",
    "unmatched_times_morton2mycatalog = []\n",
    "unmatched_events_morton2mycatalog = []\n",
    "unmatched_events_mycatalog2morton_and_anss = []\n",
    "matched_events_anss2mycatalog=[]\n",
    "matched_events_mycatalog2anss = []\n",
    "unmatched_times_anss2mycatalog = []\n",
    "unmatched_events_anss2mycatalog = []\n",
    "matched_times_anss2mycatalog =[]\n",
    "\n",
    "time_threshold = 5 # in seconds\n",
    "dist_threshold =25\n",
    "\n",
    "lat_morton2mycatalog = []\n",
    "lon_morton2mycatalog = []\n",
    "\n",
    "lat_anss2mycatalog =[]\n",
    "lon_anss2mycatalog = []\n",
    "\n",
    "# A set to keep track of matched indices in mycatalog\n",
    "matched_indices_morton = set()\n",
    "matched_indices_anss = set()\n",
    "count_c = 0\n",
    "count_d = 0\n",
    "# Loop over events in Morton's catalog\n",
    "for i in range(len(events_morton)):\n",
    "    t11 = events_morton.iloc[i]['datetime']\n",
    "    olat = events_morton.iloc[i]['LAT']\n",
    "    olon = events_morton.iloc[i]['LON']\n",
    "    \n",
    "                                       \n",
    "    condition = (mycatalog['datetime'] >= t11 - pd.Timedelta(seconds=time_threshold)) & \\\n",
    "                     (mycatalog['datetime'] <= t11 + pd.Timedelta(seconds=time_threshold)) & \\\n",
    "                     (degrees2kilometers(locations2degrees(olat, olon, mycatalog['latitude'], mycatalog['longitude'])) <= dist_threshold)                        \n",
    "    matched_df = mycatalog.loc[condition]\n",
    "\n",
    "    if len(matched_df) == 1:\n",
    "        print('matched idx of Morton: ',i)\n",
    "        count_c+=1\n",
    "        matched_times_morton2mycatalog.append(t11)\n",
    "        matched_events_morton2mycatalog.append(events_morton.iloc[i])\n",
    "        lat_morton2mycatalog.append(events_morton.iloc[i]['LAT'])\n",
    "        lon_morton2mycatalog.append(events_morton.iloc[i]['LON'])\n",
    "        matched_events_mycatalog2morton.append(matched_df)\n",
    "        matched_indices_morton.update(matched_df['idx'])\n",
    "    elif len(matched_df) > 1:\n",
    "        print('matched idx of Morton: ',i)\n",
    "\n",
    "        count_d+=1\n",
    "        diffs = abs(matched_df['datetime'] - t11)\n",
    "        closest_index = diffs.idxmin()\n",
    "        closest_event = matched_df.loc[[closest_index]]\n",
    "        matched_times_morton2mycatalog.append(t11)\n",
    "        matched_events_morton2mycatalog.append(events_morton.iloc[i])\n",
    "        lat_morton2mycatalog.append(events_morton.iloc[i]['LAT'])\n",
    "        lon_morton2mycatalog.append(events_morton.iloc[i]['LON'])\n",
    "        matched_events_mycatalog2morton.append(closest_event)\n",
    "        matched_indices_morton.update(closest_event['idx'])\n",
    "    else:\n",
    "        unmatched_times_morton2mycatalog.append(t11)\n",
    "        unmatched_events_morton2mycatalog.append(events_morton.iloc[i])\n",
    "\n",
    "# All events in mycatalog not matched with Morton's catalog are unmatched\n",
    "unmatched_indices_morton = set(mycatalog.idx) - matched_indices_morton\n",
    "# unmatched_events_mycatalog2morton = mycatalog.iloc[list(unmatched_indices_morton)]\n",
    "count_a =0\n",
    "count_b =0\n",
    "# Loop over events in ANSS catalog\n",
    "for i in range(len(events_anss)):\n",
    "    t11 = events_anss.iloc[i]['datetime']\n",
    "    olat = events_anss.iloc[i]['latitude']\n",
    "    olon = events_anss.iloc[i]['longitude']\n",
    "    \n",
    "                                       \n",
    "    condition = (mycatalog['datetime'] >= t11 - pd.Timedelta(seconds=time_threshold)) & \\\n",
    "                     (mycatalog['datetime'] <= t11 + pd.Timedelta(seconds=time_threshold)) & \\\n",
    "                     (degrees2kilometers(locations2degrees(olat, olon, mycatalog['latitude'], mycatalog['longitude'])) <= dist_threshold)                        \n",
    "    matched_df = mycatalog.loc[condition]\n",
    "    \n",
    "    if len(matched_df) == 1:\n",
    "        \n",
    "        count_a+=1\n",
    "        matched_times_anss2mycatalog.append(t11)\n",
    "        matched_events_anss2mycatalog.append(events_anss.iloc[i])\n",
    "        lat_anss2mycatalog.append(events_anss.iloc[i]['latitude'])\n",
    "        lon_anss2mycatalog.append(events_anss.iloc[i]['longitude'])\n",
    "        matched_events_mycatalog2anss.append(matched_df)\n",
    "        matched_indices_anss.update(matched_df['idx'])\n",
    "        \n",
    "    elif len(matched_df) > 1:\n",
    "        count_b+=1\n",
    "        diffs = abs(matched_df['datetime'] - t11)\n",
    "        closest_index = diffs.idxmin()\n",
    "        closest_event = matched_df.loc[[closest_index]]\n",
    "        matched_times_anss2mycatalog.append(t11)\n",
    "        matched_events_anss2mycatalog.append(events_anss.iloc[i])\n",
    "        lat_anss2mycatalog.append(events_anss.iloc[i]['latitude'])\n",
    "        lon_anss2mycatalog.append(events_anss.iloc[i]['longitude'])\n",
    "        matched_events_mycatalog2anss.append(closest_event)\n",
    "        matched_indices_anss.update(closest_event['idx'])\n",
    "        \n",
    "    else:\n",
    "        unmatched_times_anss2mycatalog.append(t11)\n",
    "        unmatched_events_anss2mycatalog.append(events_anss.iloc[i])\n",
    "\n",
    "# All events in mycatalog not matched with ANSS catalog are unmatched\n",
    "unmatched_indices_anss = set(mycatalog.idx) - matched_indices_anss\n",
    "\n",
    "unmatched_indices_morton_and_anss = unmatched_indices_morton.intersection(unmatched_indices_anss)\n",
    "print(len(mycatalog),len(unmatched_indices_morton_and_anss))\n",
    "\n",
    "# unmatched_events_mycatalog2morton_and_anss = mycatalog.iloc[list(unmatched_indices_morton_and_anss)]\n",
    "unmatched_events_mycatalog2morton_and_anss = mycatalog.loc[mycatalog['event_idx'].isin(list(unmatched_indices_morton_and_anss))]\n",
    "\n",
    "\n",
    "print(f\"length of mycatalog:{len(mycatalog)}\")\n",
    "print(f\"length of events_morton:{len(events_morton)}\")\n",
    "print(f\"length of events_anss:{len(events_anss)}\")\n",
    "print(f\"matched_indices_morton:{len(matched_indices_morton)}\")\n",
    "print(f\"matched_indices_anss:{len(matched_indices_anss)}\")\n",
    "print(f\"unmatched_indices_morton:{len(unmatched_indices_morton)}\")\n",
    "print(f\"unmatched_indices_anss:{len(unmatched_indices_anss)}\")\n",
    "print(f\"unmatched_indices_morton_and_anss (new events):{len(unmatched_indices_morton_and_anss)}\")\n",
    "\n"
   ]
  },
  {
   "cell_type": "code",
   "execution_count": 8,
   "id": "0b6dd0b1",
   "metadata": {},
   "outputs": [
    {
     "name": "stdout",
     "output_type": "stream",
     "text": [
      "length of mycatalog:273\n",
      "length of events_morton:5282\n",
      "length of events_anss:131532\n",
      "matched_events_mycatalog2morton:38\n",
      "matched_events_morton2mycatalog:38\n",
      "unmatched_events_anss2mycatalog:131468\n",
      "unmatched_events_morton2mycatalog:5244\n",
      "unmatched_events_mycatalog2morton_and_anss (new events):188\n",
      "matched_events_mycatalog2anss:64\n",
      "matched_events_anss2mycatalog:64\n"
     ]
    }
   ],
   "source": [
    "# new concat code\n",
    "# Concatenate and clean up dataframes\n",
    "if len(matched_events_mycatalog2morton)>0:\n",
    "    matched_events_mycatalog2morton = pd.concat(matched_events_mycatalog2morton).reset_index(drop=True)\n",
    "    matched_times_mycatalog2morton = matched_events_mycatalog2morton['datetime']\n",
    "    lat_mycatalog2morton = matched_events_mycatalog2morton['latitude']\n",
    "    lon_mycatalog2morton = matched_events_mycatalog2morton['longitude']\n",
    "\n",
    "if len(matched_events_morton2mycatalog)>0:   \n",
    "    matched_events_morton2mycatalog = pd.DataFrame(matched_events_morton2mycatalog).reset_index(drop=True)\n",
    "    \n",
    "if len(unmatched_events_anss2mycatalog)>0:\n",
    "    unmatched_events_anss2mycatalog = pd.DataFrame(unmatched_events_anss2mycatalog).reset_index(drop=True)\n",
    "    \n",
    "if len(unmatched_events_morton2mycatalog)>0:\n",
    "    unmatched_events_morton2mycatalog = pd.DataFrame(unmatched_events_morton2mycatalog).reset_index(drop=True)\n",
    "\n",
    "if len(unmatched_events_mycatalog2morton_and_anss) > 0:\n",
    "    unmatched_events_mycatalog2morton_and_anss = unmatched_events_mycatalog2morton_and_anss.reset_index(drop=True)\n",
    "\n",
    "if len(matched_events_mycatalog2anss)>0:\n",
    "    matched_events_mycatalog2anss = pd.concat(matched_events_mycatalog2anss).reset_index(drop=True)\n",
    "    matched_times_mycatalog2anss = matched_events_mycatalog2anss['datetime']\n",
    "    lat_mycatalog2anss = matched_events_mycatalog2anss['latitude']\n",
    "    lon_mycatalog2anss = matched_events_mycatalog2anss['longitude']\n",
    "\n",
    "if len(matched_events_anss2mycatalog)>0:   \n",
    "    matched_events_anss2mycatalog = pd.DataFrame(matched_events_anss2mycatalog).reset_index(drop=True)\n",
    "    matched_times_anss2mycatalog = matched_events_anss2mycatalog['datetime']\n",
    "\n",
    "print(f\"length of mycatalog:{len(mycatalog)}\")\n",
    "print(f\"length of events_morton:{len(events_morton)}\")\n",
    "print(f\"length of events_anss:{len(events_anss)}\")\n",
    "print(f\"matched_events_mycatalog2morton:{len(matched_events_mycatalog2morton)}\")\n",
    "print(f\"matched_events_morton2mycatalog:{len(matched_events_morton2mycatalog)}\")\n",
    "print(f\"unmatched_events_anss2mycatalog:{len(unmatched_events_anss2mycatalog)}\")\n",
    "print(f\"unmatched_events_morton2mycatalog:{len(unmatched_events_morton2mycatalog)}\")\n",
    "print(f\"unmatched_events_mycatalog2morton_and_anss (new events):{len(unmatched_events_mycatalog2morton_and_anss)}\")\n",
    "print(f\"matched_events_mycatalog2anss:{len(matched_events_mycatalog2anss)}\")\n",
    "print(f\"matched_events_anss2mycatalog:{len(matched_events_anss2mycatalog)}\")"
   ]
  },
  {
   "cell_type": "code",
   "execution_count": 9,
   "id": "0da443d3",
   "metadata": {},
   "outputs": [],
   "source": [
    "# Save these three catalogs to csv files\n",
    "matched_events_mycatalog2morton.to_csv(f'../data/datasets_{year}/matched_events_with_morton_mycatalog.csv')\n",
    "matched_events_anss2mycatalog.to_csv(f'../data/datasets_{year}/matched_events_with_mycatalog_anss.csv')\n",
    "matched_events_morton2mycatalog.to_csv(f'../data/datasets_{year}/matched_events_with_mycatalog_morton.csv')\n",
    "unmatched_events_mycatalog2morton_and_anss.to_csv(f'../data/datasets_{year}/new_events.csv')\n",
    "matched_events_mycatalog2anss.to_csv(f'../data/datasets_{year}/matched_events_with_anss_mycatalog.csv')\n",
    "unmatched_events_morton2mycatalog.to_csv(f'../data/datasets_{year}/missing_events_from_mycatalog_morton.csv')\n",
    "unmatched_events_anss2mycatalog.to_csv(f'../data/datasets_{year}/missing_events_from_mycatalog_anss.csv')\n"
   ]
  },
  {
   "cell_type": "markdown",
   "id": "4b308175",
   "metadata": {},
   "source": [
    "## Plot the Origin Times"
   ]
  },
  {
   "cell_type": "markdown",
   "id": "863b722c",
   "metadata": {},
   "source": [
    "### Compare with Morton's Catalog "
   ]
  },
  {
   "cell_type": "code",
   "execution_count": null,
   "id": "aa2d61a3",
   "metadata": {},
   "outputs": [],
   "source": [
    "# Make lists for plotting the 1:1 line\n",
    "x = pd.date_range(start='2011-1-1', end='2015-12-31', periods=len(matched_times_morton2mycatalog))\n",
    "y = pd.date_range(start='2011-1-1', end='2015-12-31', periods=len(matched_times_morton2mycatalog))\n",
    "\n",
    "# Plot the scatter plot\n",
    "plt.figure()\n",
    "plt.scatter(matched_times_mycatalog2morton,matched_times_morton2mycatalog)\n",
    "plt.plot(x,y, 'k--')\n",
    "plt.xlabel('Origin Time of mycatalog')\n",
    "plt.ylabel('Origin Time of Morton')\n",
    "plt.title('Scatter Plot: Origin Times of Matched Events')"
   ]
  },
  {
   "cell_type": "markdown",
   "id": "13a2d257",
   "metadata": {},
   "source": [
    "### Compare with the ANSS Catalog "
   ]
  },
  {
   "cell_type": "code",
   "execution_count": null,
   "id": "25ebca76",
   "metadata": {},
   "outputs": [],
   "source": [
    "# Make lists for plotting the 1:1 line\n",
    "matched_times_mycatalog2anss = pd.to_datetime(matched_times_mycatalog2anss)\n",
    "matched_times_anss2mycatalog = pd.to_datetime(matched_times_anss2mycatalog)\n",
    "\n",
    "x = pd.date_range(start='2014-1-1', end='2014-12-31', periods=len(matched_times_anss2mycatalog))\n",
    "y = pd.date_range(start='2014-1-1', end='2014-12-31', periods=len(matched_times_anss2mycatalog))\n",
    "\n",
    "# Plot the scatter plot\n",
    "plt.figure()\n",
    "plt.scatter(matched_times_mycatalog2anss,matched_times_anss2mycatalog)\n",
    "plt.plot(x,y, 'k--')\n",
    "plt.xlabel('Origin Time of mycatalog')\n",
    "plt.ylabel('Origin Time of Morton')\n",
    "plt.title('Scatter Plot: Origin Times of Matched Events')"
   ]
  },
  {
   "cell_type": "markdown",
   "id": "fc43d9d5",
   "metadata": {},
   "source": [
    "## Plot the Latitudes"
   ]
  },
  {
   "cell_type": "markdown",
   "id": "7ed02e61",
   "metadata": {},
   "source": [
    "### Compare with Morton's Catalog "
   ]
  },
  {
   "cell_type": "code",
   "execution_count": null,
   "id": "e77491ad",
   "metadata": {},
   "outputs": [],
   "source": [
    "# Plot the scatter plot\n",
    "plt.figure()\n",
    "lat_min = min(lat_mycatalog2morton)\n",
    "lat_max = max(lat_mycatalog2morton)\n",
    "\n",
    "# Make lists for plotting the 1:1 line\n",
    "x_lat = np.linspace(lat_min, lat_max, 10)\n",
    "y_lat = np.linspace(lat_min, lat_max, 10)\n",
    "plt.scatter(lat_mycatalog2morton,lat_morton2mycatalog, s=15)\n",
    "plt.plot(x_lat,y_lat, 'k--')\n",
    "plt.xlabel('Latitudes of Our Catalog ($^\\circ$)')\n",
    "plt.ylabel('Latitudes of Morton et al. (2023) ($^\\circ$)')\n",
    "plt.title('Latitudes of Our Catalog vs.Latitudes of Morton et al. (2023)')"
   ]
  },
  {
   "cell_type": "markdown",
   "id": "d6e9ef27",
   "metadata": {},
   "source": [
    "### Compare with the ANSS Catalog "
   ]
  },
  {
   "cell_type": "code",
   "execution_count": null,
   "id": "cfe7f36c",
   "metadata": {},
   "outputs": [],
   "source": [
    "# Plot the scatter plot\n",
    "plt.figure()\n",
    "lat_min = min(lat_mycatalog2anss)\n",
    "lat_max = max(lat_mycatalog2anss)\n",
    "\n",
    "# Make lists for plotting the 1:1 line\n",
    "x_lat = np.linspace(lat_min, lat_max, 10)\n",
    "y_lat = np.linspace(lat_min, lat_max, 10)\n",
    "plt.scatter(lat_mycatalog2anss,lat_anss2mycatalog, s=15)\n",
    "plt.plot(x_lat,y_lat, 'k--')\n",
    "plt.xlabel('Latitudes of Our Catalog ($^\\circ$)')\n",
    "plt.ylabel('Latitudes of ANSS Catalog ($^\\circ$)')\n",
    "plt.title('Latitudes of Our Catalog vs. ANSS Catalog')"
   ]
  },
  {
   "cell_type": "markdown",
   "id": "fc628b1a",
   "metadata": {},
   "source": [
    "## Plot the Longitudes"
   ]
  },
  {
   "cell_type": "markdown",
   "id": "1bb31b59",
   "metadata": {},
   "source": [
    "### Compare with Morton's Catalog "
   ]
  },
  {
   "cell_type": "code",
   "execution_count": null,
   "id": "1e3873dd",
   "metadata": {},
   "outputs": [],
   "source": [
    "# Plot the scatter plot\n",
    "plt.figure()\n",
    "lon_min = min(lon_mycatalog2morton)\n",
    "lon_max = max(lon_mycatalog2morton)\n",
    "\n",
    "# Make lists for plotting the 1:1 line\n",
    "x_lon = np.linspace(lon_min, lon_max, 10)\n",
    "y_lon = np.linspace(lon_min, lon_max, 10)\n",
    "plt.scatter(lon_mycatalog2morton,lon_morton2mycatalog)\n",
    "plt.plot(x_lon,y_lon, 'k--')\n",
    "plt.xlabel('Longitudes of Our Catalog ($^\\circ$)')\n",
    "plt.ylabel('Longitudes of Morton et al. (2023) ($^\\circ$)')\n",
    "plt.title('Longitudes of Our Catalog vs.Latitudes of Morton et al. (2023)')"
   ]
  },
  {
   "cell_type": "markdown",
   "id": "5cfd4045",
   "metadata": {},
   "source": [
    "### Compare with the ANSS Catalog "
   ]
  },
  {
   "cell_type": "code",
   "execution_count": null,
   "id": "a31380f4",
   "metadata": {},
   "outputs": [],
   "source": [
    "# Plot the scatter plot\n",
    "plt.figure()\n",
    "lon_min = min(lon_mycatalog2anss)\n",
    "lon_max = max(lon_mycatalog2anss)\n",
    "\n",
    "# Make lists for plotting the 1:1 line\n",
    "x_lon = np.linspace(lon_min, lon_max, 10)\n",
    "y_lon = np.linspace(lon_min, lon_max, 10)\n",
    "plt.scatter(lon_mycatalog2anss,lon_anss2mycatalog)\n",
    "plt.plot(x_lon,y_lon, 'k--')\n",
    "plt.xlabel('Longitudes of Our Catalog ($^\\circ$)')\n",
    "plt.ylabel('Longitudes of Morton et al. (2023) ($^\\circ$)')\n",
    "plt.title('Longitudes of Our Catalog vs.Latitudes of Morton et al. (2023)')"
   ]
  },
  {
   "cell_type": "markdown",
   "id": "bf7c25f0",
   "metadata": {},
   "source": [
    "## Histograms\n",
    "Make histograms of mycatalog vs. Morton's catalog"
   ]
  },
  {
   "cell_type": "markdown",
   "id": "f814dcb8",
   "metadata": {},
   "source": [
    "### Histogram: All of our catalog "
   ]
  },
  {
   "cell_type": "code",
   "execution_count": null,
   "id": "6a8dd51a",
   "metadata": {},
   "outputs": [],
   "source": [
    "events = pd.read_csv('../../data/datasets_all_years/events_pnsn_wa.csv')"
   ]
  },
  {
   "cell_type": "code",
   "execution_count": null,
   "id": "83f5cde8",
   "metadata": {},
   "outputs": [],
   "source": [
    "# Plot the same histogram but overlay the histograms\n",
    "bins = np.linspace(5,30,25)\n",
    "\n",
    "plt.hist(unmatched_events_mycatalog2morton_and_anss['picks'], bins=bins,  \n",
    "         alpha=0.5, # the transaparency parameter \n",
    "         label='Newly detected events') \n",
    "plt.hist(matched_events_mycatalog2anss['picks'], bins=bins,\n",
    "         alpha=0.5, \n",
    "         label='Events matching the ANSS Catalog')   \n",
    "plt.hist(matched_events_mycatalog2morton['picks'], bins=bins,\n",
    "         alpha=0.5, \n",
    "         label='Events matching Morton et al., 2023') \n",
    "\n",
    "plt.xlabel('Number of Picks')\n",
    "plt.ylabel('Number of Events')  \n",
    "plt.legend(loc='upper right') \n",
    "plt.title('Picks vs. Number of Events') \n",
    "plt.show()\n"
   ]
  },
  {
   "cell_type": "markdown",
   "id": "0039ec69",
   "metadata": {},
   "source": [
    "### Histogram: Matched events alone"
   ]
  },
  {
   "cell_type": "markdown",
   "id": "db128b09",
   "metadata": {},
   "source": [
    "### Compare with Morton et al. (2023)"
   ]
  },
  {
   "cell_type": "code",
   "execution_count": null,
   "id": "0e453e8b",
   "metadata": {},
   "outputs": [],
   "source": [
    "# Plot the histogram of the number of picks for the matched events\n",
    "plt.figure()\n",
    "bins = np.linspace(5,30,25)\n",
    "plt.hist(matched_events_mycatalog2morton['picks'],bins=bins)\n",
    "plt.xlabel('Number of Picks')\n",
    "plt.ylabel('Number of Events')\n",
    "plt.title('Histogram of Matched Events with Morton et al. (2023): Picks vs. the Number of Events')"
   ]
  },
  {
   "cell_type": "markdown",
   "id": "84052dd5",
   "metadata": {},
   "source": [
    "### Compare with ANSS "
   ]
  },
  {
   "cell_type": "code",
   "execution_count": null,
   "id": "c0ed5380",
   "metadata": {},
   "outputs": [],
   "source": [
    "# Plot the histogram of the number of picks for the matched events\n",
    "plt.figure()\n",
    "bins = np.linspace(5,30,25)\n",
    "plt.hist(matched_events_mycatalog2anss['picks'],bins=bins)\n",
    "plt.xlabel('Number of Picks')\n",
    "plt.ylabel('Number of Events')\n",
    "plt.title('Histogram of Matched Events with ANSS: Picks vs. the Number of Events')"
   ]
  },
  {
   "cell_type": "markdown",
   "id": "376b3b7f",
   "metadata": {},
   "source": [
    "## 2. Filter events \n",
    "Filter Events based on the following criteria\n",
    "1. For an event, at least two stations have to be less than 50 km from the event and no station can be 100 km apart from each other.\n",
    "2. An event has to have more than or equal to 6 picks\n"
   ]
  },
  {
   "cell_type": "code",
   "execution_count": 10,
   "id": "fcc97847",
   "metadata": {},
   "outputs": [
    {
     "data": {
      "text/html": [
       "<div>\n",
       "<style scoped>\n",
       "    .dataframe tbody tr th:only-of-type {\n",
       "        vertical-align: middle;\n",
       "    }\n",
       "\n",
       "    .dataframe tbody tr th {\n",
       "        vertical-align: top;\n",
       "    }\n",
       "\n",
       "    .dataframe thead th {\n",
       "        text-align: right;\n",
       "    }\n",
       "</style>\n",
       "<table border=\"1\" class=\"dataframe\">\n",
       "  <thead>\n",
       "    <tr style=\"text-align: right;\">\n",
       "      <th></th>\n",
       "      <th>Unnamed: 0.1</th>\n",
       "      <th>Unnamed: 0</th>\n",
       "      <th>idx</th>\n",
       "      <th>time</th>\n",
       "      <th>x</th>\n",
       "      <th>y</th>\n",
       "      <th>z</th>\n",
       "      <th>picks</th>\n",
       "      <th>latitude</th>\n",
       "      <th>longitude</th>\n",
       "      <th>depth</th>\n",
       "      <th>event_idx</th>\n",
       "      <th>pick_idx</th>\n",
       "      <th>residual</th>\n",
       "      <th>station</th>\n",
       "      <th>phase</th>\n",
       "      <th>time_pick</th>\n",
       "      <th>datetime</th>\n",
       "    </tr>\n",
       "  </thead>\n",
       "  <tbody>\n",
       "    <tr>\n",
       "      <th>0</th>\n",
       "      <td>0</td>\n",
       "      <td>6</td>\n",
       "      <td>2</td>\n",
       "      <td>2011-03-20 04:20:39.627115+00:00</td>\n",
       "      <td>-142.244353</td>\n",
       "      <td>664.891786</td>\n",
       "      <td>49.609375</td>\n",
       "      <td>6</td>\n",
       "      <td>50.463057</td>\n",
       "      <td>-127.503384</td>\n",
       "      <td>49.609375</td>\n",
       "      <td>2</td>\n",
       "      <td>385699</td>\n",
       "      <td>0.839141</td>\n",
       "      <td>FORK</td>\n",
       "      <td>P</td>\n",
       "      <td>1.300595e+09</td>\n",
       "      <td>2011-03-20 04:20:39.627115+00:00</td>\n",
       "    </tr>\n",
       "    <tr>\n",
       "      <th>1</th>\n",
       "      <td>1</td>\n",
       "      <td>12</td>\n",
       "      <td>3</td>\n",
       "      <td>2011-03-21 16:57:21.730601+00:00</td>\n",
       "      <td>170.135403</td>\n",
       "      <td>354.494561</td>\n",
       "      <td>49.609375</td>\n",
       "      <td>6</td>\n",
       "      <td>47.666876</td>\n",
       "      <td>-123.234630</td>\n",
       "      <td>49.609375</td>\n",
       "      <td>3</td>\n",
       "      <td>409168</td>\n",
       "      <td>-0.793817</td>\n",
       "      <td>FORK</td>\n",
       "      <td>P</td>\n",
       "      <td>1.300727e+09</td>\n",
       "      <td>2011-03-21 16:57:21.730601+00:00</td>\n",
       "    </tr>\n",
       "    <tr>\n",
       "      <th>2</th>\n",
       "      <td>2</td>\n",
       "      <td>24</td>\n",
       "      <td>6</td>\n",
       "      <td>2011-05-21 11:06:10.027406+00:00</td>\n",
       "      <td>189.101316</td>\n",
       "      <td>453.192297</td>\n",
       "      <td>16.796875</td>\n",
       "      <td>7</td>\n",
       "      <td>48.548372</td>\n",
       "      <td>-122.938625</td>\n",
       "      <td>16.796875</td>\n",
       "      <td>6</td>\n",
       "      <td>410652</td>\n",
       "      <td>-0.941794</td>\n",
       "      <td>BMSB</td>\n",
       "      <td>P</td>\n",
       "      <td>1.305976e+09</td>\n",
       "      <td>2011-05-21 11:06:10.027406+00:00</td>\n",
       "    </tr>\n",
       "    <tr>\n",
       "      <th>3</th>\n",
       "      <td>3</td>\n",
       "      <td>37</td>\n",
       "      <td>9</td>\n",
       "      <td>2011-06-06 04:06:42.542511+00:00</td>\n",
       "      <td>50.761710</td>\n",
       "      <td>374.520189</td>\n",
       "      <td>16.015625</td>\n",
       "      <td>6</td>\n",
       "      <td>47.867349</td>\n",
       "      <td>-124.821515</td>\n",
       "      <td>16.015625</td>\n",
       "      <td>9</td>\n",
       "      <td>348924</td>\n",
       "      <td>-0.131171</td>\n",
       "      <td>FORK</td>\n",
       "      <td>P</td>\n",
       "      <td>1.307333e+09</td>\n",
       "      <td>2011-06-06 04:06:42.542511+00:00</td>\n",
       "    </tr>\n",
       "    <tr>\n",
       "      <th>4</th>\n",
       "      <td>4</td>\n",
       "      <td>66</td>\n",
       "      <td>13</td>\n",
       "      <td>2011-06-15 23:35:53.439706+00:00</td>\n",
       "      <td>227.033144</td>\n",
       "      <td>471.787522</td>\n",
       "      <td>17.578125</td>\n",
       "      <td>7</td>\n",
       "      <td>48.702782</td>\n",
       "      <td>-122.415379</td>\n",
       "      <td>17.578125</td>\n",
       "      <td>13</td>\n",
       "      <td>387809</td>\n",
       "      <td>-0.447370</td>\n",
       "      <td>BMSB</td>\n",
       "      <td>P</td>\n",
       "      <td>1.308181e+09</td>\n",
       "      <td>2011-06-15 23:35:53.439706+00:00</td>\n",
       "    </tr>\n",
       "    <tr>\n",
       "      <th>...</th>\n",
       "      <td>...</td>\n",
       "      <td>...</td>\n",
       "      <td>...</td>\n",
       "      <td>...</td>\n",
       "      <td>...</td>\n",
       "      <td>...</td>\n",
       "      <td>...</td>\n",
       "      <td>...</td>\n",
       "      <td>...</td>\n",
       "      <td>...</td>\n",
       "      <td>...</td>\n",
       "      <td>...</td>\n",
       "      <td>...</td>\n",
       "      <td>...</td>\n",
       "      <td>...</td>\n",
       "      <td>...</td>\n",
       "      <td>...</td>\n",
       "      <td>...</td>\n",
       "    </tr>\n",
       "    <tr>\n",
       "      <th>183</th>\n",
       "      <td>183</td>\n",
       "      <td>1758</td>\n",
       "      <td>419</td>\n",
       "      <td>2015-12-08 08:24:06.002719+00:00</td>\n",
       "      <td>-10.598599</td>\n",
       "      <td>501.825963</td>\n",
       "      <td>18.359375</td>\n",
       "      <td>6</td>\n",
       "      <td>49.014110</td>\n",
       "      <td>-125.644886</td>\n",
       "      <td>18.359375</td>\n",
       "      <td>419</td>\n",
       "      <td>300153</td>\n",
       "      <td>0.155978</td>\n",
       "      <td>BFSB</td>\n",
       "      <td>P</td>\n",
       "      <td>1.449563e+09</td>\n",
       "      <td>2015-12-08 08:24:06.002719+00:00</td>\n",
       "    </tr>\n",
       "    <tr>\n",
       "      <th>184</th>\n",
       "      <td>184</td>\n",
       "      <td>1764</td>\n",
       "      <td>420</td>\n",
       "      <td>2015-12-09 04:55:58.410071+00:00</td>\n",
       "      <td>-11.714241</td>\n",
       "      <td>514.699581</td>\n",
       "      <td>12.890625</td>\n",
       "      <td>6</td>\n",
       "      <td>49.129848</td>\n",
       "      <td>-125.660510</td>\n",
       "      <td>12.890625</td>\n",
       "      <td>420</td>\n",
       "      <td>302352</td>\n",
       "      <td>0.016868</td>\n",
       "      <td>BFSB</td>\n",
       "      <td>P</td>\n",
       "      <td>1.449637e+09</td>\n",
       "      <td>2015-12-09 04:55:58.410071+00:00</td>\n",
       "    </tr>\n",
       "    <tr>\n",
       "      <th>185</th>\n",
       "      <td>185</td>\n",
       "      <td>1770</td>\n",
       "      <td>421</td>\n",
       "      <td>2015-12-10 11:49:32.628968+00:00</td>\n",
       "      <td>-11.714241</td>\n",
       "      <td>493.243551</td>\n",
       "      <td>23.828125</td>\n",
       "      <td>6</td>\n",
       "      <td>48.936916</td>\n",
       "      <td>-125.659891</td>\n",
       "      <td>23.828125</td>\n",
       "      <td>421</td>\n",
       "      <td>285327</td>\n",
       "      <td>-0.059377</td>\n",
       "      <td>BFSB</td>\n",
       "      <td>P</td>\n",
       "      <td>1.449748e+09</td>\n",
       "      <td>2015-12-10 11:49:32.628968+00:00</td>\n",
       "    </tr>\n",
       "    <tr>\n",
       "      <th>186</th>\n",
       "      <td>186</td>\n",
       "      <td>1776</td>\n",
       "      <td>422</td>\n",
       "      <td>2015-12-13 01:35:34.220311+00:00</td>\n",
       "      <td>-19.523735</td>\n",
       "      <td>513.269179</td>\n",
       "      <td>32.421875</td>\n",
       "      <td>6</td>\n",
       "      <td>49.116787</td>\n",
       "      <td>-125.767447</td>\n",
       "      <td>32.421875</td>\n",
       "      <td>422</td>\n",
       "      <td>296042</td>\n",
       "      <td>-0.202658</td>\n",
       "      <td>BFSB</td>\n",
       "      <td>P</td>\n",
       "      <td>1.449971e+09</td>\n",
       "      <td>2015-12-13 01:35:34.220311+00:00</td>\n",
       "    </tr>\n",
       "    <tr>\n",
       "      <th>187</th>\n",
       "      <td>187</td>\n",
       "      <td>1782</td>\n",
       "      <td>423</td>\n",
       "      <td>2015-12-15 03:22:53.205921+00:00</td>\n",
       "      <td>67.496340</td>\n",
       "      <td>375.950591</td>\n",
       "      <td>23.828125</td>\n",
       "      <td>6</td>\n",
       "      <td>47.878672</td>\n",
       "      <td>-124.597641</td>\n",
       "      <td>23.828125</td>\n",
       "      <td>423</td>\n",
       "      <td>330010</td>\n",
       "      <td>-0.225094</td>\n",
       "      <td>BFSB</td>\n",
       "      <td>P</td>\n",
       "      <td>1.450150e+09</td>\n",
       "      <td>2015-12-15 03:22:53.205921+00:00</td>\n",
       "    </tr>\n",
       "  </tbody>\n",
       "</table>\n",
       "<p>188 rows × 18 columns</p>\n",
       "</div>"
      ],
      "text/plain": [
       "     Unnamed: 0.1  Unnamed: 0  idx                              time  \\\n",
       "0               0           6    2  2011-03-20 04:20:39.627115+00:00   \n",
       "1               1          12    3  2011-03-21 16:57:21.730601+00:00   \n",
       "2               2          24    6  2011-05-21 11:06:10.027406+00:00   \n",
       "3               3          37    9  2011-06-06 04:06:42.542511+00:00   \n",
       "4               4          66   13  2011-06-15 23:35:53.439706+00:00   \n",
       "..            ...         ...  ...                               ...   \n",
       "183           183        1758  419  2015-12-08 08:24:06.002719+00:00   \n",
       "184           184        1764  420  2015-12-09 04:55:58.410071+00:00   \n",
       "185           185        1770  421  2015-12-10 11:49:32.628968+00:00   \n",
       "186           186        1776  422  2015-12-13 01:35:34.220311+00:00   \n",
       "187           187        1782  423  2015-12-15 03:22:53.205921+00:00   \n",
       "\n",
       "              x           y          z  picks   latitude   longitude  \\\n",
       "0   -142.244353  664.891786  49.609375      6  50.463057 -127.503384   \n",
       "1    170.135403  354.494561  49.609375      6  47.666876 -123.234630   \n",
       "2    189.101316  453.192297  16.796875      7  48.548372 -122.938625   \n",
       "3     50.761710  374.520189  16.015625      6  47.867349 -124.821515   \n",
       "4    227.033144  471.787522  17.578125      7  48.702782 -122.415379   \n",
       "..          ...         ...        ...    ...        ...         ...   \n",
       "183  -10.598599  501.825963  18.359375      6  49.014110 -125.644886   \n",
       "184  -11.714241  514.699581  12.890625      6  49.129848 -125.660510   \n",
       "185  -11.714241  493.243551  23.828125      6  48.936916 -125.659891   \n",
       "186  -19.523735  513.269179  32.421875      6  49.116787 -125.767447   \n",
       "187   67.496340  375.950591  23.828125      6  47.878672 -124.597641   \n",
       "\n",
       "         depth  event_idx  pick_idx  residual station phase     time_pick  \\\n",
       "0    49.609375          2    385699  0.839141    FORK     P  1.300595e+09   \n",
       "1    49.609375          3    409168 -0.793817    FORK     P  1.300727e+09   \n",
       "2    16.796875          6    410652 -0.941794    BMSB     P  1.305976e+09   \n",
       "3    16.015625          9    348924 -0.131171    FORK     P  1.307333e+09   \n",
       "4    17.578125         13    387809 -0.447370    BMSB     P  1.308181e+09   \n",
       "..         ...        ...       ...       ...     ...   ...           ...   \n",
       "183  18.359375        419    300153  0.155978    BFSB     P  1.449563e+09   \n",
       "184  12.890625        420    302352  0.016868    BFSB     P  1.449637e+09   \n",
       "185  23.828125        421    285327 -0.059377    BFSB     P  1.449748e+09   \n",
       "186  32.421875        422    296042 -0.202658    BFSB     P  1.449971e+09   \n",
       "187  23.828125        423    330010 -0.225094    BFSB     P  1.450150e+09   \n",
       "\n",
       "                             datetime  \n",
       "0    2011-03-20 04:20:39.627115+00:00  \n",
       "1    2011-03-21 16:57:21.730601+00:00  \n",
       "2    2011-05-21 11:06:10.027406+00:00  \n",
       "3    2011-06-06 04:06:42.542511+00:00  \n",
       "4    2011-06-15 23:35:53.439706+00:00  \n",
       "..                                ...  \n",
       "183  2015-12-08 08:24:06.002719+00:00  \n",
       "184  2015-12-09 04:55:58.410071+00:00  \n",
       "185  2015-12-10 11:49:32.628968+00:00  \n",
       "186  2015-12-13 01:35:34.220311+00:00  \n",
       "187  2015-12-15 03:22:53.205921+00:00  \n",
       "\n",
       "[188 rows x 18 columns]"
      ]
     },
     "execution_count": 10,
     "metadata": {},
     "output_type": "execute_result"
    }
   ],
   "source": [
    "# Read the new events file\n",
    "events = pd.read_csv(f'../data/datasets_{year}/new_events.csv')\n",
    "events"
   ]
  },
  {
   "cell_type": "code",
   "execution_count": 11,
   "id": "2b49b018",
   "metadata": {},
   "outputs": [
    {
     "data": {
      "text/html": [
       "<div>\n",
       "<style scoped>\n",
       "    .dataframe tbody tr th:only-of-type {\n",
       "        vertical-align: middle;\n",
       "    }\n",
       "\n",
       "    .dataframe tbody tr th {\n",
       "        vertical-align: top;\n",
       "    }\n",
       "\n",
       "    .dataframe thead th {\n",
       "        text-align: right;\n",
       "    }\n",
       "</style>\n",
       "<table border=\"1\" class=\"dataframe\">\n",
       "  <thead>\n",
       "    <tr style=\"text-align: right;\">\n",
       "      <th></th>\n",
       "      <th>Unnamed: 0</th>\n",
       "      <th>idx</th>\n",
       "      <th>time</th>\n",
       "      <th>x</th>\n",
       "      <th>y</th>\n",
       "      <th>z</th>\n",
       "      <th>picks</th>\n",
       "      <th>latitude</th>\n",
       "      <th>longitude</th>\n",
       "      <th>depth</th>\n",
       "      <th>event_idx</th>\n",
       "      <th>pick_idx</th>\n",
       "      <th>residual</th>\n",
       "      <th>station</th>\n",
       "      <th>phase</th>\n",
       "      <th>time_pick</th>\n",
       "    </tr>\n",
       "  </thead>\n",
       "  <tbody>\n",
       "    <tr>\n",
       "      <th>0</th>\n",
       "      <td>0</td>\n",
       "      <td>1</td>\n",
       "      <td>2011-03-01 17:07:07.540138+00:00</td>\n",
       "      <td>59.686846</td>\n",
       "      <td>375.950591</td>\n",
       "      <td>31.640625</td>\n",
       "      <td>6</td>\n",
       "      <td>47.879445</td>\n",
       "      <td>-124.702035</td>\n",
       "      <td>31.640625</td>\n",
       "      <td>1</td>\n",
       "      <td>397897</td>\n",
       "      <td>0.302324</td>\n",
       "      <td>FORK</td>\n",
       "      <td>P</td>\n",
       "      <td>1.298999e+09</td>\n",
       "    </tr>\n",
       "    <tr>\n",
       "      <th>6</th>\n",
       "      <td>6</td>\n",
       "      <td>2</td>\n",
       "      <td>2011-03-20 04:20:39.627115+00:00</td>\n",
       "      <td>-142.244353</td>\n",
       "      <td>664.891786</td>\n",
       "      <td>49.609375</td>\n",
       "      <td>6</td>\n",
       "      <td>50.463057</td>\n",
       "      <td>-127.503384</td>\n",
       "      <td>49.609375</td>\n",
       "      <td>2</td>\n",
       "      <td>385699</td>\n",
       "      <td>0.839141</td>\n",
       "      <td>FORK</td>\n",
       "      <td>P</td>\n",
       "      <td>1.300595e+09</td>\n",
       "    </tr>\n",
       "    <tr>\n",
       "      <th>12</th>\n",
       "      <td>12</td>\n",
       "      <td>3</td>\n",
       "      <td>2011-03-21 16:57:21.730601+00:00</td>\n",
       "      <td>170.135403</td>\n",
       "      <td>354.494561</td>\n",
       "      <td>49.609375</td>\n",
       "      <td>6</td>\n",
       "      <td>47.666876</td>\n",
       "      <td>-123.234630</td>\n",
       "      <td>49.609375</td>\n",
       "      <td>3</td>\n",
       "      <td>409168</td>\n",
       "      <td>-0.793817</td>\n",
       "      <td>FORK</td>\n",
       "      <td>P</td>\n",
       "      <td>1.300727e+09</td>\n",
       "    </tr>\n",
       "    <tr>\n",
       "      <th>18</th>\n",
       "      <td>18</td>\n",
       "      <td>4</td>\n",
       "      <td>2011-04-23 20:03:08.498333+00:00</td>\n",
       "      <td>61.918130</td>\n",
       "      <td>375.950591</td>\n",
       "      <td>32.421875</td>\n",
       "      <td>6</td>\n",
       "      <td>47.879234</td>\n",
       "      <td>-124.672207</td>\n",
       "      <td>32.421875</td>\n",
       "      <td>4</td>\n",
       "      <td>405210</td>\n",
       "      <td>0.213393</td>\n",
       "      <td>FORK</td>\n",
       "      <td>P</td>\n",
       "      <td>1.303589e+09</td>\n",
       "    </tr>\n",
       "    <tr>\n",
       "      <th>24</th>\n",
       "      <td>24</td>\n",
       "      <td>6</td>\n",
       "      <td>2011-05-21 11:06:10.027406+00:00</td>\n",
       "      <td>189.101316</td>\n",
       "      <td>453.192297</td>\n",
       "      <td>16.796875</td>\n",
       "      <td>7</td>\n",
       "      <td>48.548372</td>\n",
       "      <td>-122.938625</td>\n",
       "      <td>16.796875</td>\n",
       "      <td>6</td>\n",
       "      <td>410652</td>\n",
       "      <td>-0.941794</td>\n",
       "      <td>BMSB</td>\n",
       "      <td>P</td>\n",
       "      <td>1.305976e+09</td>\n",
       "    </tr>\n",
       "    <tr>\n",
       "      <th>...</th>\n",
       "      <td>...</td>\n",
       "      <td>...</td>\n",
       "      <td>...</td>\n",
       "      <td>...</td>\n",
       "      <td>...</td>\n",
       "      <td>...</td>\n",
       "      <td>...</td>\n",
       "      <td>...</td>\n",
       "      <td>...</td>\n",
       "      <td>...</td>\n",
       "      <td>...</td>\n",
       "      <td>...</td>\n",
       "      <td>...</td>\n",
       "      <td>...</td>\n",
       "      <td>...</td>\n",
       "      <td>...</td>\n",
       "    </tr>\n",
       "    <tr>\n",
       "      <th>1764</th>\n",
       "      <td>1764</td>\n",
       "      <td>420</td>\n",
       "      <td>2015-12-09 04:55:58.410071+00:00</td>\n",
       "      <td>-11.714241</td>\n",
       "      <td>514.699581</td>\n",
       "      <td>12.890625</td>\n",
       "      <td>6</td>\n",
       "      <td>49.129848</td>\n",
       "      <td>-125.660510</td>\n",
       "      <td>12.890625</td>\n",
       "      <td>420</td>\n",
       "      <td>302352</td>\n",
       "      <td>0.016868</td>\n",
       "      <td>BFSB</td>\n",
       "      <td>P</td>\n",
       "      <td>1.449637e+09</td>\n",
       "    </tr>\n",
       "    <tr>\n",
       "      <th>1770</th>\n",
       "      <td>1770</td>\n",
       "      <td>421</td>\n",
       "      <td>2015-12-10 11:49:32.628968+00:00</td>\n",
       "      <td>-11.714241</td>\n",
       "      <td>493.243551</td>\n",
       "      <td>23.828125</td>\n",
       "      <td>6</td>\n",
       "      <td>48.936916</td>\n",
       "      <td>-125.659891</td>\n",
       "      <td>23.828125</td>\n",
       "      <td>421</td>\n",
       "      <td>285327</td>\n",
       "      <td>-0.059377</td>\n",
       "      <td>BFSB</td>\n",
       "      <td>P</td>\n",
       "      <td>1.449748e+09</td>\n",
       "    </tr>\n",
       "    <tr>\n",
       "      <th>1776</th>\n",
       "      <td>1776</td>\n",
       "      <td>422</td>\n",
       "      <td>2015-12-13 01:35:34.220311+00:00</td>\n",
       "      <td>-19.523735</td>\n",
       "      <td>513.269179</td>\n",
       "      <td>32.421875</td>\n",
       "      <td>6</td>\n",
       "      <td>49.116787</td>\n",
       "      <td>-125.767447</td>\n",
       "      <td>32.421875</td>\n",
       "      <td>422</td>\n",
       "      <td>296042</td>\n",
       "      <td>-0.202658</td>\n",
       "      <td>BFSB</td>\n",
       "      <td>P</td>\n",
       "      <td>1.449971e+09</td>\n",
       "    </tr>\n",
       "    <tr>\n",
       "      <th>1782</th>\n",
       "      <td>1782</td>\n",
       "      <td>423</td>\n",
       "      <td>2015-12-15 03:22:53.205921+00:00</td>\n",
       "      <td>67.496340</td>\n",
       "      <td>375.950591</td>\n",
       "      <td>23.828125</td>\n",
       "      <td>6</td>\n",
       "      <td>47.878672</td>\n",
       "      <td>-124.597641</td>\n",
       "      <td>23.828125</td>\n",
       "      <td>423</td>\n",
       "      <td>330010</td>\n",
       "      <td>-0.225094</td>\n",
       "      <td>BFSB</td>\n",
       "      <td>P</td>\n",
       "      <td>1.450150e+09</td>\n",
       "    </tr>\n",
       "    <tr>\n",
       "      <th>1788</th>\n",
       "      <td>1788</td>\n",
       "      <td>425</td>\n",
       "      <td>2015-12-30 07:39:28.170022+00:00</td>\n",
       "      <td>175.713613</td>\n",
       "      <td>467.496316</td>\n",
       "      <td>15.234375</td>\n",
       "      <td>6</td>\n",
       "      <td>48.680781</td>\n",
       "      <td>-123.113740</td>\n",
       "      <td>15.234375</td>\n",
       "      <td>425</td>\n",
       "      <td>327602</td>\n",
       "      <td>-0.035866</td>\n",
       "      <td>BFSB</td>\n",
       "      <td>P</td>\n",
       "      <td>1.451461e+09</td>\n",
       "    </tr>\n",
       "  </tbody>\n",
       "</table>\n",
       "<p>273 rows × 16 columns</p>\n",
       "</div>"
      ],
      "text/plain": [
       "      Unnamed: 0  idx                              time           x  \\\n",
       "0              0    1  2011-03-01 17:07:07.540138+00:00   59.686846   \n",
       "6              6    2  2011-03-20 04:20:39.627115+00:00 -142.244353   \n",
       "12            12    3  2011-03-21 16:57:21.730601+00:00  170.135403   \n",
       "18            18    4  2011-04-23 20:03:08.498333+00:00   61.918130   \n",
       "24            24    6  2011-05-21 11:06:10.027406+00:00  189.101316   \n",
       "...          ...  ...                               ...         ...   \n",
       "1764        1764  420  2015-12-09 04:55:58.410071+00:00  -11.714241   \n",
       "1770        1770  421  2015-12-10 11:49:32.628968+00:00  -11.714241   \n",
       "1776        1776  422  2015-12-13 01:35:34.220311+00:00  -19.523735   \n",
       "1782        1782  423  2015-12-15 03:22:53.205921+00:00   67.496340   \n",
       "1788        1788  425  2015-12-30 07:39:28.170022+00:00  175.713613   \n",
       "\n",
       "               y          z  picks   latitude   longitude      depth  \\\n",
       "0     375.950591  31.640625      6  47.879445 -124.702035  31.640625   \n",
       "6     664.891786  49.609375      6  50.463057 -127.503384  49.609375   \n",
       "12    354.494561  49.609375      6  47.666876 -123.234630  49.609375   \n",
       "18    375.950591  32.421875      6  47.879234 -124.672207  32.421875   \n",
       "24    453.192297  16.796875      7  48.548372 -122.938625  16.796875   \n",
       "...          ...        ...    ...        ...         ...        ...   \n",
       "1764  514.699581  12.890625      6  49.129848 -125.660510  12.890625   \n",
       "1770  493.243551  23.828125      6  48.936916 -125.659891  23.828125   \n",
       "1776  513.269179  32.421875      6  49.116787 -125.767447  32.421875   \n",
       "1782  375.950591  23.828125      6  47.878672 -124.597641  23.828125   \n",
       "1788  467.496316  15.234375      6  48.680781 -123.113740  15.234375   \n",
       "\n",
       "      event_idx  pick_idx  residual station phase     time_pick  \n",
       "0             1    397897  0.302324    FORK     P  1.298999e+09  \n",
       "6             2    385699  0.839141    FORK     P  1.300595e+09  \n",
       "12            3    409168 -0.793817    FORK     P  1.300727e+09  \n",
       "18            4    405210  0.213393    FORK     P  1.303589e+09  \n",
       "24            6    410652 -0.941794    BMSB     P  1.305976e+09  \n",
       "...         ...       ...       ...     ...   ...           ...  \n",
       "1764        420    302352  0.016868    BFSB     P  1.449637e+09  \n",
       "1770        421    285327 -0.059377    BFSB     P  1.449748e+09  \n",
       "1776        422    296042 -0.202658    BFSB     P  1.449971e+09  \n",
       "1782        423    330010 -0.225094    BFSB     P  1.450150e+09  \n",
       "1788        425    327602 -0.035866    BFSB     P  1.451461e+09  \n",
       "\n",
       "[273 rows x 16 columns]"
      ]
     },
     "execution_count": 11,
     "metadata": {},
     "output_type": "execute_result"
    }
   ],
   "source": [
    "all_pick_assignments = pd.read_csv(f'../data/datasets_{year}/all_pick_assignments_{year}.csv')\n",
    "mycatalog = all_pick_assignments.drop_duplicates(subset=['idx'])\n",
    "mycatalog"
   ]
  },
  {
   "cell_type": "code",
   "execution_count": 12,
   "id": "650f1d56",
   "metadata": {
    "scrolled": true
   },
   "outputs": [
    {
     "name": "stderr",
     "output_type": "stream",
     "text": [
      "/tmp/ipykernel_2179382/2718798803.py:20: SettingWithCopyWarning: \n",
      "A value is trying to be set on a copy of a slice from a DataFrame.\n",
      "Try using .loc[row_indexer,col_indexer] = value instead\n",
      "\n",
      "See the caveats in the documentation: https://pandas.pydata.org/pandas-docs/stable/user_guide/indexing.html#returning-a-view-versus-a-copy\n",
      "  mycatalog['datetime'] = pd.to_datetime(mycatalog['time'], utc = True)\n",
      "  1%|          | 1/188 [00:00<01:56,  1.60it/s]"
     ]
    },
    {
     "name": "stdout",
     "output_type": "stream",
     "text": [
      "[[None, 'CN', 'OZB', 220.62711744825043], [None, 'UW', 'FORK', 351.75570935305205], [None, 'UW', 'OFR', 360.64615385674176]]\n"
     ]
    },
    {
     "name": "stderr",
     "output_type": "stream",
     "text": [
      "  1%|          | 2/188 [00:01<01:51,  1.67it/s]"
     ]
    },
    {
     "name": "stdout",
     "output_type": "stream",
     "text": [
      "[[None, 'UW', 'OFR', 91.65987816967107], [None, 'UW', 'FORK', 104.22289181031522], [None, 'CN', 'OZB', 220.71623761993263]]\n"
     ]
    },
    {
     "name": "stderr",
     "output_type": "stream",
     "text": [
      "  2%|▏         | 3/188 [00:01<02:04,  1.48it/s]"
     ]
    },
    {
     "name": "stdout",
     "output_type": "stream",
     "text": [
      "[[None, 'UW', 'OFR', 127.78230344239968], [None, 'UW', 'FORK', 137.7923893763515], [None, 'CN', 'BMSB', 164.37797106850255], [None, 'CN', 'OZB', 193.13415232247337]]\n"
     ]
    },
    {
     "name": "stderr",
     "output_type": "stream",
     "text": [
      "  3%|▎         | 5/188 [00:03<02:03,  1.49it/s]"
     ]
    },
    {
     "name": "stdout",
     "output_type": "stream",
     "text": [
      "[[None, 'UW', 'OFR', 169.62190619594844], [None, 'UW', 'FORK', 179.8239818659046], [None, 'CN', 'BMSB', 199.88750433076035], [None, 'CN', 'OZB', 227.42773086335947]]\n"
     ]
    },
    {
     "name": "stderr",
     "output_type": "stream",
     "text": [
      "  3%|▎         | 6/188 [00:03<02:04,  1.46it/s]"
     ]
    },
    {
     "name": "stdout",
     "output_type": "stream",
     "text": [
      "[[None, 'UW', 'OFR', 163.855750358301], [None, 'UW', 'FORK', 173.81631333899153], [None, 'CN', 'BMSB', 192.04569175034746], [None, 'CN', 'OZB', 219.53918458630037]]\n"
     ]
    },
    {
     "name": "stderr",
     "output_type": "stream",
     "text": [
      "  4%|▎         | 7/188 [00:04<01:56,  1.56it/s]"
     ]
    },
    {
     "name": "stdout",
     "output_type": "stream",
     "text": [
      "[[None, 'UW', 'FORK', 65.73779849267086], [None, 'UW', 'OFR', 78.27380389177952], [None, 'CN', 'BMSB', 79.86957104792701]]\n"
     ]
    },
    {
     "name": "stderr",
     "output_type": "stream",
     "text": [
      "  4%|▍         | 8/188 [00:05<01:52,  1.60it/s]"
     ]
    },
    {
     "name": "stdout",
     "output_type": "stream",
     "text": [
      "[[None, 'UW', 'OFR', 183.36779103902916], [None, 'CN', 'BMSB', 267.4999547844775], [None, 'CN', 'OZB', 297.44033181921134]]\n"
     ]
    },
    {
     "name": "stderr",
     "output_type": "stream",
     "text": [
      "  5%|▍         | 9/188 [00:05<02:00,  1.48it/s]"
     ]
    },
    {
     "name": "stdout",
     "output_type": "stream",
     "text": [
      "[[None, 'CN', 'BMSB', 242.66174602670887], [None, 'CN', 'OZB', 259.5931627853493], [None, 'UW', 'OFR', 271.17080992240045], [None, 'UW', 'FORK', 277.38302428668317]]\n"
     ]
    },
    {
     "name": "stderr",
     "output_type": "stream",
     "text": [
      "  5%|▌         | 10/188 [00:06<01:56,  1.53it/s]"
     ]
    },
    {
     "name": "stdout",
     "output_type": "stream",
     "text": [
      "[[None, 'UW', 'FORK', 13.80497886500458], [None, 'UW', 'OFR', 15.212136447717185], [None, 'CN', 'OZB', 145.20579002535192]]\n"
     ]
    },
    {
     "name": "stderr",
     "output_type": "stream",
     "text": [
      "  6%|▌         | 11/188 [00:07<02:01,  1.45it/s]"
     ]
    },
    {
     "name": "stdout",
     "output_type": "stream",
     "text": [
      "[[None, 'UW', 'OFR', 112.6326746170172], [None, 'UW', 'FORK', 125.40779574113785], [None, 'CN', 'BMSB', 202.08817360374903], [None, 'CN', 'OZB', 231.8662768606853]]\n"
     ]
    },
    {
     "name": "stderr",
     "output_type": "stream",
     "text": [
      "  6%|▋         | 12/188 [00:07<01:54,  1.53it/s]"
     ]
    },
    {
     "name": "stdout",
     "output_type": "stream",
     "text": [
      "[[None, 'UW', 'FORK', 45.635265876496476], [None, 'UW', 'OFR', 58.334263167391185], [None, 'CN', 'OZB', 115.29835366897773]]\n"
     ]
    },
    {
     "name": "stderr",
     "output_type": "stream",
     "text": [
      "  7%|▋         | 13/188 [00:08<02:01,  1.44it/s]"
     ]
    },
    {
     "name": "stdout",
     "output_type": "stream",
     "text": [
      "[[None, 'CN', 'OZB', 283.5409351912087], [None, 'CN', 'BMSB', 312.10098310998995], [None, 'UW', 'FORK', 383.34153550223846], [None, 'UW', 'OFR', 395.5157037370921]]\n"
     ]
    },
    {
     "name": "stderr",
     "output_type": "stream",
     "text": [
      "  7%|▋         | 14/188 [00:10<02:55,  1.01s/it]"
     ]
    },
    {
     "name": "stdout",
     "output_type": "stream",
     "text": [
      "[[None, 'UW', 'FORK', 61.24933213186519], [None, 'UW', 'OFR', 73.99572262778555], [None, 'CN', 'BMSB', 97.7955998927294], [None, 'CN', 'OZB', 110.26791332786824]]\n"
     ]
    },
    {
     "name": "stderr",
     "output_type": "stream",
     "text": [
      "  8%|▊         | 15/188 [00:11<02:59,  1.04s/it]"
     ]
    },
    {
     "name": "stdout",
     "output_type": "stream",
     "text": [
      "[[None, '7D', 'M01A', 138.5044600823097], [None, '7D', 'J73A', 177.4220435721282], [None, 'CN', 'OZB', 226.50343021501797], [None, 'CN', 'BMSB', 253.64165018962962], [None, 'UW', 'FORK', 318.04173729522245], [None, 'UW', 'OFR', 330.3927858002516]]\n"
     ]
    },
    {
     "name": "stderr",
     "output_type": "stream",
     "text": [
      "  9%|▉         | 17/188 [00:12<02:21,  1.21it/s]"
     ]
    },
    {
     "name": "stdout",
     "output_type": "stream",
     "text": [
      "[[None, '7D', 'J73A', 16.641979753695445], [None, '7D', 'M01A', 42.60722643900258], [None, 'CN', 'OZB', 56.602330943265386], [None, 'UW', 'OFR', 175.6699115320378]]\n"
     ]
    },
    {
     "name": "stderr",
     "output_type": "stream",
     "text": [
      " 10%|█         | 19/188 [00:14<02:31,  1.11it/s]"
     ]
    },
    {
     "name": "stdout",
     "output_type": "stream",
     "text": [
      "[[None, '7D', 'M01A', 195.22735459982815], [None, '7D', 'J73A', 237.77470119791496], [None, 'CN', 'OZB', 285.2986392244143], [None, 'UW', 'OFR', 391.51638030662224]]\n"
     ]
    },
    {
     "name": "stderr",
     "output_type": "stream",
     "text": [
      " 11%|█         | 20/188 [00:15<02:25,  1.15it/s]"
     ]
    },
    {
     "name": "stdout",
     "output_type": "stream",
     "text": [
      "[[None, '7D', 'M01A', 180.12324441900483], [None, '7D', 'J73A', 211.23921195250998], [None, 'CN', 'OZB', 263.56997078577695], [None, 'UW', 'OFR', 354.5173739152451]]\n"
     ]
    },
    {
     "name": "stderr",
     "output_type": "stream",
     "text": [
      " 11%|█         | 21/188 [00:16<02:17,  1.21it/s]"
     ]
    },
    {
     "name": "stdout",
     "output_type": "stream",
     "text": [
      "[[None, 'UW', 'OFR', 23.164741557425256], [None, 'UW', 'FORK', 30.79037415214924], [None, 'CN', 'OZB', 162.49993282029308], [None, '7D', 'J73A', 181.04072442418604]]\n"
     ]
    },
    {
     "name": "stderr",
     "output_type": "stream",
     "text": [
      " 12%|█▏        | 22/188 [00:16<02:10,  1.27it/s]"
     ]
    },
    {
     "name": "stdout",
     "output_type": "stream",
     "text": [
      "[[None, 'UW', 'OFR', 105.17164957739173], [None, 'UW', 'FORK', 116.86076605588629], [None, '7D', 'J65A', 159.79147018029715], [None, 'CN', 'OZB', 198.4810608077854]]\n"
     ]
    },
    {
     "name": "stderr",
     "output_type": "stream",
     "text": [
      " 12%|█▏        | 23/188 [00:17<01:59,  1.39it/s]"
     ]
    },
    {
     "name": "stdout",
     "output_type": "stream",
     "text": [
      "[[None, '7D', 'M01A', 128.71217709377365], [None, '7D', 'J73A', 156.81593173092048], [None, 'CN', 'OZB', 209.50477590801697]]\n"
     ]
    },
    {
     "name": "stderr",
     "output_type": "stream",
     "text": [
      " 13%|█▎        | 24/188 [00:18<02:10,  1.25it/s]"
     ]
    },
    {
     "name": "stdout",
     "output_type": "stream",
     "text": [
      "[[None, '7D', 'M01A', 131.48303041454568], [None, '7D', 'J73A', 163.34642606269125], [None, 'CN', 'OZB', 215.0258052302193], [None, 'UW', 'FORK', 298.74586229988716], [None, 'UW', 'OFR', 311.2588074169347]]\n"
     ]
    },
    {
     "name": "stderr",
     "output_type": "stream",
     "text": [
      " 13%|█▎        | 25/188 [00:19<02:15,  1.20it/s]"
     ]
    },
    {
     "name": "stdout",
     "output_type": "stream",
     "text": [
      "[[None, '7D', 'M01A', 128.13677732220444], [None, '7D', 'J73A', 164.0750169057775], [None, 'CN', 'OZB', 214.30528185726644], [None, 'UW', 'FORK', 303.0341763191488], [None, 'UW', 'OFR', 315.4353649238504]]\n"
     ]
    },
    {
     "name": "stderr",
     "output_type": "stream",
     "text": [
      " 14%|█▍        | 26/188 [00:20<02:29,  1.08it/s]"
     ]
    },
    {
     "name": "stdout",
     "output_type": "stream",
     "text": [
      "[[None, '7D', 'M01A', 129.22311791762914], [None, '7D', 'J73A', 165.1815682133061], [None, 'CN', 'OZB', 215.41655963991957], [None, '7D', 'J65A', 267.2703398798177], [None, 'UW', 'FORK', 304.07475081668827], [None, 'UW', 'OFR', 316.4797566069219]]\n"
     ]
    },
    {
     "name": "stderr",
     "output_type": "stream",
     "text": [
      " 14%|█▍        | 27/188 [00:21<02:28,  1.09it/s]"
     ]
    },
    {
     "name": "stdout",
     "output_type": "stream",
     "text": [
      "[[None, '7D', 'M01A', 113.18156882378216], [None, '7D', 'J73A', 152.1702996760675], [None, 'CN', 'OZB', 200.94117806816223], [None, 'UW', 'FORK', 294.41063193277864], [None, 'UW', 'OFR', 306.65500369654455]]\n"
     ]
    },
    {
     "name": "stderr",
     "output_type": "stream",
     "text": [
      " 15%|█▍        | 28/188 [00:22<02:19,  1.14it/s]"
     ]
    },
    {
     "name": "stdout",
     "output_type": "stream",
     "text": [
      "[[None, '7D', 'M01A', 122.36365856214732], [None, '7D', 'J73A', 155.77522311671936], [None, 'CN', 'OZB', 206.8430000063968], [None, 'UW', 'OFR', 305.7019748377254]]\n"
     ]
    },
    {
     "name": "stderr",
     "output_type": "stream",
     "text": [
      " 15%|█▌        | 29/188 [00:22<02:12,  1.20it/s]"
     ]
    },
    {
     "name": "stdout",
     "output_type": "stream",
     "text": [
      "[[None, '7D', 'M01A', 132.7868566800832], [None, 'CN', 'OZB', 218.79155321248928], [None, 'UW', 'FORK', 306.70572257192003], [None, 'UW', 'OFR', 319.1347156404893]]\n"
     ]
    },
    {
     "name": "stderr",
     "output_type": "stream",
     "text": [
      " 16%|█▌        | 30/188 [00:23<02:00,  1.31it/s]"
     ]
    },
    {
     "name": "stdout",
     "output_type": "stream",
     "text": [
      "[[None, '7D', 'M01A', 129.73662059141233], [None, '7D', 'J73A', 157.926484920271], [None, 'CN', 'OZB', 210.60624782444813]]\n"
     ]
    },
    {
     "name": "stderr",
     "output_type": "stream",
     "text": [
      " 16%|█▋        | 31/188 [00:24<01:53,  1.38it/s]"
     ]
    },
    {
     "name": "stdout",
     "output_type": "stream",
     "text": [
      "[[None, '7D', 'M01A', 124.62930301002356], [None, '7D', 'J73A', 152.37382404740163], [None, 'CN', 'OZB', 205.09993056526434]]\n"
     ]
    },
    {
     "name": "stderr",
     "output_type": "stream",
     "text": [
      " 17%|█▋        | 32/188 [00:24<01:57,  1.33it/s]"
     ]
    },
    {
     "name": "stdout",
     "output_type": "stream",
     "text": [
      "[[None, '7D', 'M01A', 127.70680650112422], [None, '7D', 'J73A', 161.32546751688795], [None, 'CN', 'OZB', 212.39121804842895], [None, 'UW', 'OFR', 310.95320822200836]]\n"
     ]
    },
    {
     "name": "stderr",
     "output_type": "stream",
     "text": [
      " 18%|█▊        | 33/188 [00:25<01:49,  1.41it/s]"
     ]
    },
    {
     "name": "stdout",
     "output_type": "stream",
     "text": [
      "[[None, '7D', 'M01A', 124.20001830062289], [None, '7D', 'J73A', 151.33786680875616], [None, 'CN', 'OZB', 204.20340369749863]]\n"
     ]
    },
    {
     "name": "stderr",
     "output_type": "stream",
     "text": [
      " 18%|█▊        | 34/188 [00:26<01:57,  1.31it/s]"
     ]
    },
    {
     "name": "stdout",
     "output_type": "stream",
     "text": [
      "[[None, '7D', 'M01A', 127.03334677512167], [None, '7D', 'J73A', 160.1454012884253], [None, 'CN', 'OZB', 211.3725367760322], [None, 'UW', 'OFR', 309.4391386402248]]\n"
     ]
    },
    {
     "name": "stderr",
     "output_type": "stream",
     "text": [
      " 19%|█▊        | 35/188 [00:27<01:56,  1.31it/s]"
     ]
    },
    {
     "name": "stdout",
     "output_type": "stream",
     "text": [
      "[[None, '7D', 'M01A', 126.81193128607019], [None, '7D', 'J73A', 158.932396219775], [None, 'CN', 'OZB', 210.47532733478755], [None, 'UW', 'OFR', 307.4756109908115]]\n"
     ]
    },
    {
     "name": "stderr",
     "output_type": "stream",
     "text": [
      " 19%|█▉        | 36/188 [00:27<01:56,  1.31it/s]"
     ]
    },
    {
     "name": "stdout",
     "output_type": "stream",
     "text": [
      "[[None, '7D', 'M01A', 129.47685692356984], [None, '7D', 'J73A', 163.62669237284456], [None, 'CN', 'OZB', 214.53051540249038], [None, 'UW', 'FORK', 301.06789136768936]]\n"
     ]
    },
    {
     "name": "stderr",
     "output_type": "stream",
     "text": [
      " 20%|█▉        | 37/188 [00:28<01:48,  1.39it/s]"
     ]
    },
    {
     "name": "stdout",
     "output_type": "stream",
     "text": [
      "[[None, '7D', 'M01A', 126.22576575021723], [None, '7D', 'J73A', 153.5578031079237], [None, 'CN', 'OZB', 206.40321935620423]]\n"
     ]
    },
    {
     "name": "stderr",
     "output_type": "stream",
     "text": [
      " 20%|██        | 38/188 [00:29<01:40,  1.50it/s]"
     ]
    },
    {
     "name": "stdout",
     "output_type": "stream",
     "text": [
      "[[None, '7D', 'M01A', 131.66511593560514], [None, '7D', 'J73A', 157.3052306404956], [None, 'CN', 'OZB', 210.59530895744953]]\n"
     ]
    },
    {
     "name": "stderr",
     "output_type": "stream",
     "text": [
      " 21%|██        | 39/188 [00:29<01:51,  1.34it/s]"
     ]
    },
    {
     "name": "stdout",
     "output_type": "stream",
     "text": [
      "[[None, '7D', 'M01A', 131.92710374231393], [None, '7D', 'J73A', 163.3278751008905], [None, 'CN', 'OZB', 215.1532417771385], [None, 'UW', 'FORK', 298.29985192647746], [None, 'UW', 'OFR', 310.82417463439435]]\n"
     ]
    },
    {
     "name": "stderr",
     "output_type": "stream",
     "text": [
      " 21%|██▏       | 40/188 [00:30<01:50,  1.34it/s]"
     ]
    },
    {
     "name": "stdout",
     "output_type": "stream",
     "text": [
      "[[None, '7D', 'M01A', 121.97831502017247], [None, '7D', 'J73A', 160.9425813808651], [None, 'CN', 'OZB', 209.8326259344645], [None, 'UW', 'OFR', 314.8795202627843]]\n"
     ]
    },
    {
     "name": "stderr",
     "output_type": "stream",
     "text": [
      " 22%|██▏       | 41/188 [00:31<01:49,  1.35it/s]"
     ]
    },
    {
     "name": "stdout",
     "output_type": "stream",
     "text": [
      "[[None, '7D', 'J73A', 165.29018862142618], [None, '7D', 'M01A', 198.58309705954505], [None, 'UW', 'OFR', 201.59009048226622], [None, 'CN', 'OZB', 207.20065337374746]]\n"
     ]
    },
    {
     "name": "stderr",
     "output_type": "stream",
     "text": [
      " 22%|██▏       | 42/188 [00:32<01:45,  1.39it/s]"
     ]
    },
    {
     "name": "stdout",
     "output_type": "stream",
     "text": [
      "[[None, '7D', 'M01A', 90.360935032665], [None, '7D', 'J73A', 145.67484129121183], [None, 'CN', 'OZB', 180.56300100596158], [None, 'UW', 'OFR', 307.62165567105114]]\n"
     ]
    },
    {
     "name": "stderr",
     "output_type": "stream",
     "text": [
      " 23%|██▎       | 43/188 [00:32<01:44,  1.39it/s]"
     ]
    },
    {
     "name": "stdout",
     "output_type": "stream",
     "text": [
      "[[None, '7D', 'M01A', 113.65404716842946], [None, 'CN', 'OZB', 200.89846232537144], [None, 'UW', 'FORK', 293.2886326225739], [None, 'UW', 'OFR', 305.56458325653705]]\n"
     ]
    },
    {
     "name": "stderr",
     "output_type": "stream",
     "text": [
      " 23%|██▎       | 44/188 [00:33<01:46,  1.35it/s]"
     ]
    },
    {
     "name": "stdout",
     "output_type": "stream",
     "text": [
      "[[None, '7D', 'M01A', 214.3102028399377], [None, '7D', 'J73A', 267.82871088223783], [None, 'CN', 'OZB', 304.86258764524223], [None, '7D', 'J65A', 386.23375111321013]]\n"
     ]
    },
    {
     "name": "stderr",
     "output_type": "stream",
     "text": [
      " 24%|██▍       | 45/188 [00:34<01:50,  1.29it/s]"
     ]
    },
    {
     "name": "stdout",
     "output_type": "stream",
     "text": [
      "[[None, '7D', 'M01A', 115.84292521635994], [None, '7D', 'J73A', 153.9115087394584], [None, 'CN', 'OZB', 203.121821751758], [None, 'UW', 'FORK', 295.3386624738488], [None, 'UW', 'OFR', 307.62456277505896]]\n"
     ]
    },
    {
     "name": "stderr",
     "output_type": "stream",
     "text": [
      " 24%|██▍       | 46/188 [00:35<01:47,  1.32it/s]"
     ]
    },
    {
     "name": "stdout",
     "output_type": "stream",
     "text": [
      "[[None, '7D', 'M01A', 109.13209209023447], [None, '7D', 'J73A', 149.9781425894811], [None, 'CN', 'OZB', 197.81779087409618], [None, 'UW', 'OFR', 305.851807107646]]\n"
     ]
    },
    {
     "name": "stderr",
     "output_type": "stream",
     "text": [
      " 25%|██▌       | 47/188 [00:36<01:51,  1.26it/s]"
     ]
    },
    {
     "name": "stdout",
     "output_type": "stream",
     "text": [
      "[[None, '7D', 'M01A', 108.18941365958173], [None, '7D', 'J73A', 148.5960014709043], [None, 'CN', 'OZB', 196.63892323582346], [None, 'UW', 'FORK', 292.0849876494597], [None, 'UW', 'OFR', 304.25757162618595]]\n"
     ]
    },
    {
     "name": "stderr",
     "output_type": "stream",
     "text": [
      " 26%|██▌       | 48/188 [00:36<01:51,  1.25it/s]"
     ]
    },
    {
     "name": "stdout",
     "output_type": "stream",
     "text": [
      "[[None, '7D', 'M01A', 115.17356712065192], [None, '7D', 'J73A', 154.60674987349995], [None, 'CN', 'OZB', 203.20027064213616], [None, 'UW', 'FORK', 297.0187601294865]]\n"
     ]
    },
    {
     "name": "stderr",
     "output_type": "stream",
     "text": [
      " 26%|██▌       | 49/188 [00:37<01:53,  1.22it/s]"
     ]
    },
    {
     "name": "stdout",
     "output_type": "stream",
     "text": [
      "[[None, '7D', 'M01A', 115.17356712065192], [None, '7D', 'J73A', 154.60674987349995], [None, 'CN', 'OZB', 203.20027064213616], [None, 'UW', 'FORK', 297.0187601294865], [None, 'UW', 'OFR', 309.25775311771906]]\n"
     ]
    },
    {
     "name": "stderr",
     "output_type": "stream",
     "text": [
      " 27%|██▋       | 51/188 [00:39<01:56,  1.18it/s]"
     ]
    },
    {
     "name": "stdout",
     "output_type": "stream",
     "text": [
      "[[None, 'UW', 'OFR', 144.19342715709416], [None, 'UW', 'FORK', 155.93414039174277], [None, 'CN', 'OZB', 278.457811228474], [None, '7D', 'J73A', 305.9566193097229]]\n"
     ]
    },
    {
     "name": "stderr",
     "output_type": "stream",
     "text": [
      " 28%|██▊       | 52/188 [00:40<01:58,  1.14it/s]"
     ]
    },
    {
     "name": "stdout",
     "output_type": "stream",
     "text": [
      "[[None, '7D', 'M01A', 178.91766584633714], [None, '7D', 'J73A', 218.93815571320178], [None, 'CN', 'OZB', 267.7750217500206], [None, 'UW', 'FORK', 358.52199924647994], [None, 'UW', 'OFR', 370.9546429885402]]\n"
     ]
    },
    {
     "name": "stderr",
     "output_type": "stream",
     "text": [
      " 28%|██▊       | 53/188 [00:41<01:44,  1.29it/s]"
     ]
    },
    {
     "name": "stdout",
     "output_type": "stream",
     "text": [
      "[[None, '7D', 'M01A', 94.32229654151067], [None, '7D', 'J73A', 141.3439104656096], [None, 'CN', 'OZB', 185.346758386249]]\n"
     ]
    },
    {
     "name": "stderr",
     "output_type": "stream",
     "text": [
      " 29%|██▊       | 54/188 [00:42<01:51,  1.20it/s]"
     ]
    },
    {
     "name": "stdout",
     "output_type": "stream",
     "text": [
      "[[None, '7D', 'M01A', 95.90804450351754], [None, '7D', 'J73A', 149.26092851203956], [None, 'CN', 'OZB', 187.20275513454763], [None, 'UW', 'FORK', 299.70203174358625], [None, 'UW', 'OFR', 311.06851373079195]]\n"
     ]
    },
    {
     "name": "stderr",
     "output_type": "stream",
     "text": [
      " 29%|██▉       | 55/188 [00:42<01:48,  1.22it/s]"
     ]
    },
    {
     "name": "stdout",
     "output_type": "stream",
     "text": [
      "[[None, '7D', 'M01A', 189.67735607829684], [None, '7D', 'J73A', 231.26837362533877], [None, 'CN', 'OZB', 279.3226621084989], [None, 'UW', 'FORK', 371.91795915219024]]\n"
     ]
    },
    {
     "name": "stderr",
     "output_type": "stream",
     "text": [
      " 30%|██▉       | 56/188 [00:43<01:45,  1.25it/s]"
     ]
    },
    {
     "name": "stdout",
     "output_type": "stream",
     "text": [
      "[[None, '7D', 'M01A', 188.56628506498126], [None, '7D', 'J73A', 230.17405177245757], [None, 'CN', 'OZB', 278.21398040464504], [None, 'UW', 'FORK', 370.8783387254929]]\n"
     ]
    },
    {
     "name": "stderr",
     "output_type": "stream",
     "text": [
      " 30%|███       | 57/188 [00:44<01:49,  1.19it/s]"
     ]
    },
    {
     "name": "stdout",
     "output_type": "stream",
     "text": [
      "[[None, '7D', 'M01A', 81.4756345576829], [None, '7D', 'J73A', 136.86430675294162], [None, 'CN', 'OZB', 171.76615998671426], [None, 'UW', 'FORK', 287.7082618353033], [None, 'UW', 'OFR', 298.79577420396134]]\n"
     ]
    },
    {
     "name": "stderr",
     "output_type": "stream",
     "text": [
      " 31%|███       | 58/188 [00:45<01:39,  1.31it/s]"
     ]
    },
    {
     "name": "stdout",
     "output_type": "stream",
     "text": [
      "[[None, '7D', 'M01A', 11.31798754250906], [None, '7D', 'J73A', 66.1250226930777], [None, 'CN', 'OZB', 94.55117276168717]]\n"
     ]
    },
    {
     "name": "stderr",
     "output_type": "stream",
     "text": [
      " 31%|███▏      | 59/188 [00:45<01:29,  1.44it/s]"
     ]
    },
    {
     "name": "stdout",
     "output_type": "stream",
     "text": [
      "[[None, 'UW', 'OFR', 155.54564712837794], [None, 'UW', 'FORK', 165.04295267754898], [None, 'CN', 'OZB', 207.0861286909285]]\n"
     ]
    },
    {
     "name": "stderr",
     "output_type": "stream",
     "text": [
      " 32%|███▏      | 60/188 [00:46<01:24,  1.52it/s]"
     ]
    },
    {
     "name": "stdout",
     "output_type": "stream",
     "text": [
      "[[None, 'UW', 'OFR', 146.75862603804603], [None, 'UW', 'FORK', 156.19689961709696], [None, 'CN', 'OZB', 199.8146795633263]]\n"
     ]
    },
    {
     "name": "stderr",
     "output_type": "stream",
     "text": [
      " 32%|███▏      | 61/188 [00:46<01:21,  1.56it/s]"
     ]
    },
    {
     "name": "stdout",
     "output_type": "stream",
     "text": [
      "[[None, 'UW', 'FORK', 53.241209205722996], [None, 'UW', 'OFR', 65.73514729035126], [None, 'CN', 'OZB', 96.18617653295878]]\n"
     ]
    },
    {
     "name": "stderr",
     "output_type": "stream",
     "text": [
      " 33%|███▎      | 62/188 [00:47<01:17,  1.62it/s]"
     ]
    },
    {
     "name": "stdout",
     "output_type": "stream",
     "text": [
      "[[None, 'UW', 'FORK', 10.688524457341213], [None, 'UW', 'OFR', 19.831484297219163], [None, 'CN', 'OZB', 137.14878843252083]]\n"
     ]
    },
    {
     "name": "stderr",
     "output_type": "stream",
     "text": [
      " 34%|███▎      | 63/188 [00:47<01:14,  1.68it/s]"
     ]
    },
    {
     "name": "stdout",
     "output_type": "stream",
     "text": [
      "[[None, 'UW', 'FORK', 60.630036674385515], [None, 'UW', 'OFR', 73.40311040071505], [None, 'CN', 'OZB', 104.65561090662057]]\n"
     ]
    },
    {
     "name": "stderr",
     "output_type": "stream",
     "text": [
      " 34%|███▍      | 64/188 [00:48<01:10,  1.75it/s]"
     ]
    },
    {
     "name": "stdout",
     "output_type": "stream",
     "text": [
      "[[None, 'UW', 'FORK', 64.65152535098007], [None, 'UW', 'OFR', 77.41140553493267], [None, 'CN', 'OZB', 108.64157134401921]]\n"
     ]
    },
    {
     "name": "stderr",
     "output_type": "stream",
     "text": [
      " 35%|███▍      | 65/188 [00:48<01:11,  1.73it/s]"
     ]
    },
    {
     "name": "stdout",
     "output_type": "stream",
     "text": [
      "[[None, 'UW', 'FORK', 65.69565330242075], [None, 'UW', 'OFR', 78.43962172200017], [None, 'CN', 'OZB', 110.0272864623471]]\n"
     ]
    },
    {
     "name": "stderr",
     "output_type": "stream",
     "text": [
      " 35%|███▌      | 66/188 [00:49<01:11,  1.71it/s]"
     ]
    },
    {
     "name": "stdout",
     "output_type": "stream",
     "text": [
      "[[None, 'UW', 'FORK', 58.64018177448113], [None, 'UW', 'OFR', 71.40234197034343], [None, 'CN', 'OZB', 103.4548999053416]]\n"
     ]
    },
    {
     "name": "stderr",
     "output_type": "stream",
     "text": [
      " 36%|███▌      | 67/188 [00:50<01:09,  1.74it/s]"
     ]
    },
    {
     "name": "stdout",
     "output_type": "stream",
     "text": [
      "[[None, 'UW', 'FORK', 64.75055432065483], [None, 'UW', 'OFR', 77.52053309091463], [None, 'CN', 'OZB', 107.21255011091027]]\n"
     ]
    },
    {
     "name": "stderr",
     "output_type": "stream",
     "text": [
      " 36%|███▌      | 68/188 [00:50<01:16,  1.56it/s]"
     ]
    },
    {
     "name": "stdout",
     "output_type": "stream",
     "text": [
      "[[None, 'UW', 'OFR', 112.55691613973612], [None, 'UW', 'FORK', 121.85049435374921], [None, 'CN', 'OZB', 174.7510869433893]]\n"
     ]
    },
    {
     "name": "stderr",
     "output_type": "stream",
     "text": [
      " 37%|███▋      | 69/188 [00:51<01:14,  1.59it/s]"
     ]
    },
    {
     "name": "stdout",
     "output_type": "stream",
     "text": [
      "[[None, 'UW', 'OFR', 19.13008242028788], [None, 'UW', 'FORK', 23.906677727782643], [None, 'CN', 'OZB', 155.90638671353537]]\n"
     ]
    },
    {
     "name": "stderr",
     "output_type": "stream",
     "text": [
      " 37%|███▋      | 70/188 [00:52<01:12,  1.62it/s]"
     ]
    },
    {
     "name": "stdout",
     "output_type": "stream",
     "text": [
      "[[None, 'CN', 'OZB', 246.22581086307378], [None, 'UW', 'FORK', 351.9693456076471], [None, 'UW', 'OFR', 363.836732540872]]\n"
     ]
    },
    {
     "name": "stderr",
     "output_type": "stream",
     "text": [
      " 38%|███▊      | 71/188 [00:52<01:09,  1.68it/s]"
     ]
    },
    {
     "name": "stdout",
     "output_type": "stream",
     "text": [
      "[[None, '7D', 'M01C', 184.4590070925923], [None, 'CN', 'OZB', 256.4085057686654], [None, 'CN', 'BFSB', 285.23719599315467]]\n"
     ]
    },
    {
     "name": "stderr",
     "output_type": "stream",
     "text": [
      " 38%|███▊      | 72/188 [00:53<01:23,  1.39it/s]"
     ]
    },
    {
     "name": "stdout",
     "output_type": "stream",
     "text": [
      "[[None, '7D', 'M01C', 159.80789728884866], [None, '7D', 'J73C', 200.96653632489443], [None, 'CN', 'OZB', 249.10818416691532], [None, 'CN', 'BFSB', 276.65017041015574], [None, 'UW', 'FORK', 342.3921406829586]]\n"
     ]
    },
    {
     "name": "stderr",
     "output_type": "stream",
     "text": [
      " 39%|███▉      | 73/188 [00:54<01:24,  1.36it/s]"
     ]
    },
    {
     "name": "stdout",
     "output_type": "stream",
     "text": [
      "[[None, '7D', 'M01C', 175.43479488038196], [None, 'CN', 'OZB', 255.22233010109906], [None, 'CN', 'BFSB', 284.85923120975303], [None, '7D', 'J65C', 357.5847320323837]]\n"
     ]
    },
    {
     "name": "stderr",
     "output_type": "stream",
     "text": [
      " 39%|███▉      | 74/188 [00:55<01:18,  1.45it/s]"
     ]
    },
    {
     "name": "stdout",
     "output_type": "stream",
     "text": [
      "[[None, '7D', 'M01C', 152.5266142274349], [None, 'CN', 'OZB', 232.76220874850887], [None, 'CN', 'BFSB', 257.30221231873435]]\n"
     ]
    },
    {
     "name": "stderr",
     "output_type": "stream",
     "text": [
      " 40%|███▉      | 75/188 [00:55<01:20,  1.40it/s]"
     ]
    },
    {
     "name": "stdout",
     "output_type": "stream",
     "text": [
      "[[None, '7D', 'M01C', 96.38063367965671], [None, '7D', 'J73C', 139.83382721729674], [None, 'CN', 'OZB', 186.13386810085024], [None, 'CN', 'BFSB', 214.12952051050618]]\n"
     ]
    },
    {
     "name": "stderr",
     "output_type": "stream",
     "text": [
      " 40%|████      | 76/188 [00:56<01:16,  1.47it/s]"
     ]
    },
    {
     "name": "stdout",
     "output_type": "stream",
     "text": [
      "[[None, '7D', 'M01C', 207.2914672513889], [None, 'CN', 'OZB', 286.0359038201349], [None, 'CN', 'BFSB', 315.51623807916224]]\n"
     ]
    },
    {
     "name": "stderr",
     "output_type": "stream",
     "text": [
      " 41%|████      | 77/188 [00:57<01:37,  1.14it/s]"
     ]
    },
    {
     "name": "stdout",
     "output_type": "stream",
     "text": [
      "[[None, '7D', 'M01C', 197.64819922598522], [None, '7D', 'J73C', 246.4919027212452], [None, 'CN', 'OZB', 289.299252475091], [None, 'CN', 'BFSB', 318.3599314256911], [None, '5H', 'FORK', 4228.540781240746]]\n"
     ]
    },
    {
     "name": "stderr",
     "output_type": "stream",
     "text": [
      " 41%|████▏     | 78/188 [00:58<01:29,  1.22it/s]"
     ]
    },
    {
     "name": "stdout",
     "output_type": "stream",
     "text": [
      "[[None, '7D', 'M01C', 223.63115797232794], [None, 'CN', 'OZB', 305.3063470210345], [None, 'CN', 'BFSB', 335.023254831848]]\n"
     ]
    },
    {
     "name": "stderr",
     "output_type": "stream",
     "text": [
      " 42%|████▏     | 79/188 [00:59<01:23,  1.30it/s]"
     ]
    },
    {
     "name": "stdout",
     "output_type": "stream",
     "text": [
      "[[None, '7D', 'M01C', 206.56434212941895], [None, 'CN', 'OZB', 286.80349803320433], [None, 'CN', 'BFSB', 316.42203825556226]]\n"
     ]
    },
    {
     "name": "stderr",
     "output_type": "stream",
     "text": [
      " 43%|████▎     | 80/188 [00:59<01:25,  1.26it/s]"
     ]
    },
    {
     "name": "stdout",
     "output_type": "stream",
     "text": [
      "[[None, 'CN', 'OZB', 64.9152452536711], [None, 'CN', 'BFSB', 81.01398252121783], [None, '7D', 'J73C', 103.55172257295244], [None, '7D', 'M01C', 105.20362962398364]]\n"
     ]
    },
    {
     "name": "stderr",
     "output_type": "stream",
     "text": [
      " 43%|████▎     | 81/188 [01:00<01:27,  1.23it/s]"
     ]
    },
    {
     "name": "stdout",
     "output_type": "stream",
     "text": [
      "[[None, 'CN', 'BFSB', 20.67885793182731], [None, 'CN', 'OZB', 49.61407179400891], [None, '7D', 'J73C', 98.19665000268546], [None, '5H', 'FORK', 3898.5991507209574]]\n"
     ]
    },
    {
     "name": "stderr",
     "output_type": "stream",
     "text": [
      " 44%|████▎     | 82/188 [01:01<01:34,  1.13it/s]"
     ]
    },
    {
     "name": "stdout",
     "output_type": "stream",
     "text": [
      "[[None, 'CN', 'BFSB', 16.225091274840583], [None, 'CN', 'OZB', 42.633387146870376], [None, '7D', 'J73C', 81.80057637094966], [None, '7D', 'J65C', 89.11902909621456], [None, '5H', 'FORK', 3915.2773921665485]]\n"
     ]
    },
    {
     "name": "stderr",
     "output_type": "stream",
     "text": [
      " 44%|████▍     | 83/188 [01:02<01:34,  1.11it/s]"
     ]
    },
    {
     "name": "stdout",
     "output_type": "stream",
     "text": [
      "[[None, '7D', 'M01C', 85.57686051488508], [None, 'CN', 'NTKA', 101.98517070116539], [None, 'CN', 'OZB', 176.8040123352612], [None, 'CN', 'BFSB', 205.52366052640966]]\n"
     ]
    },
    {
     "name": "stderr",
     "output_type": "stream",
     "text": [
      " 45%|████▍     | 84/188 [01:03<01:36,  1.08it/s]"
     ]
    },
    {
     "name": "stdout",
     "output_type": "stream",
     "text": [
      "[[None, '7D', 'M01C', 91.11047846029712], [None, 'CN', 'NTKA', 107.10824673978148], [None, '7D', 'J73C', 138.73898165601574], [None, 'CN', 'OZB', 182.28382603635615], [None, 'CN', 'BFSB', 210.95523861457033]]\n"
     ]
    },
    {
     "name": "stderr",
     "output_type": "stream",
     "text": [
      " 45%|████▌     | 85/188 [01:04<01:38,  1.05it/s]"
     ]
    },
    {
     "name": "stdout",
     "output_type": "stream",
     "text": [
      "[[None, '7D', 'M01C', 8.261175178976718], [None, 'CN', 'NTKA', 44.88345066161794], [None, 'CN', 'OZB', 85.91048539172749], [None, 'CN', 'BFSB', 115.5493398127662], [None, '5H', 'FORK', 4027.8841112268274]]\n"
     ]
    },
    {
     "name": "stderr",
     "output_type": "stream",
     "text": [
      " 46%|████▌     | 86/188 [01:05<01:43,  1.02s/it]"
     ]
    },
    {
     "name": "stdout",
     "output_type": "stream",
     "text": [
      "[[None, 'CN', 'NTKA', 78.65530301736777], [None, 'CN', 'OZB', 117.14753589392947], [None, '7D', 'M01C', 119.06815376876969], [None, 'CN', 'BFSB', 136.98236230416924], [None, '7D', 'J73C', 141.57256746612643], [None, '5H', 'FORK', 3964.1508681447954]]\n"
     ]
    },
    {
     "name": "stderr",
     "output_type": "stream",
     "text": [
      " 46%|████▋     | 87/188 [01:06<01:37,  1.03it/s]"
     ]
    },
    {
     "name": "stdout",
     "output_type": "stream",
     "text": [
      "[[None, 'CN', 'NTKA', 84.73581814088828], [None, '7D', 'M01C', 88.86389222880683], [None, 'CN', 'OZB', 178.51120993993172], [None, 'CN', 'BFSB', 208.3882031424077]]\n"
     ]
    },
    {
     "name": "stderr",
     "output_type": "stream",
     "text": [
      " 47%|████▋     | 88/188 [01:07<01:29,  1.12it/s]"
     ]
    },
    {
     "name": "stdout",
     "output_type": "stream",
     "text": [
      "[[None, 'CN', 'NTKA', 62.94412778418321], [None, '7D', 'M01C', 78.57637169477509], [None, '7D', 'J73C', 136.03896486285188], [None, 'CN', 'OZB', 163.34363509282852]]\n"
     ]
    },
    {
     "name": "stderr",
     "output_type": "stream",
     "text": [
      " 48%|████▊     | 90/188 [01:09<01:38,  1.00s/it]"
     ]
    },
    {
     "name": "stdout",
     "output_type": "stream",
     "text": [
      "[[None, '7D', 'M01C', 206.33537686229013], [None, 'CN', 'NTKA', 220.93021154616946], [None, '7D', 'J73C', 247.68966742214496], [None, 'CN', 'OZB', 295.9541310087754], [None, 'CN', 'BFSB', 323.51511414598593]]\n"
     ]
    },
    {
     "name": "stderr",
     "output_type": "stream",
     "text": [
      " 49%|████▉     | 92/188 [01:10<01:21,  1.18it/s]"
     ]
    },
    {
     "name": "stdout",
     "output_type": "stream",
     "text": [
      "[[None, 'CN', 'NTKA', 270.66162045230374], [None, 'CN', 'OZB', 286.10198260274916], [None, 'CN', 'BFSB', 303.20693331140404]]\n"
     ]
    },
    {
     "name": "stderr",
     "output_type": "stream",
     "text": [
      " 49%|████▉     | 93/188 [01:11<01:12,  1.31it/s]"
     ]
    },
    {
     "name": "stdout",
     "output_type": "stream",
     "text": [
      "[[None, 'CN', 'OZB', 65.97654836887027], [None, 'CN', 'NTKA', 82.29018277551184], [None, '7D', 'J73C', 101.7660121483912]]\n"
     ]
    },
    {
     "name": "stderr",
     "output_type": "stream",
     "text": [
      " 50%|█████     | 94/188 [01:12<01:11,  1.31it/s]"
     ]
    },
    {
     "name": "stdout",
     "output_type": "stream",
     "text": [
      "[[None, 'CN', 'BFSB', 90.9788353788541], [None, '7D', 'J65C', 133.09923374196654], [None, '7D', 'M01C', 210.6686144601723], [None, 'CN', 'NTKA', 218.19335128587153]]\n"
     ]
    },
    {
     "name": "stderr",
     "output_type": "stream",
     "text": [
      " 51%|█████     | 95/188 [01:13<01:17,  1.20it/s]"
     ]
    },
    {
     "name": "stdout",
     "output_type": "stream",
     "text": [
      "[[None, '7D', 'M01C', 189.6526610043624], [None, 'CN', 'NTKA', 204.41053221071806], [None, '7D', 'J73C', 231.50889955522103], [None, 'CN', 'OZB', 279.4220122256394], [None, '5H', 'FORK', 4224.6005306948955]]\n"
     ]
    },
    {
     "name": "stderr",
     "output_type": "stream",
     "text": [
      " 51%|█████     | 96/188 [01:14<01:16,  1.20it/s]"
     ]
    },
    {
     "name": "stdout",
     "output_type": "stream",
     "text": [
      "[[None, '7D', 'M01C', 199.83835344219426], [None, 'CN', 'NTKA', 215.91574567997955], [None, '7D', 'J73C', 240.23181421326063], [None, 'CN', 'OZB', 288.98811291578767]]\n"
     ]
    },
    {
     "name": "stderr",
     "output_type": "stream",
     "text": [
      " 52%|█████▏    | 97/188 [01:14<01:13,  1.23it/s]"
     ]
    },
    {
     "name": "stdout",
     "output_type": "stream",
     "text": [
      "[[None, 'CN', 'BFSB', 53.409002482584306], [None, 'CN', 'OZB', 83.36775270713672], [None, '5H', 'FORK', 3874.157974328337]]\n"
     ]
    },
    {
     "name": "stderr",
     "output_type": "stream",
     "text": [
      " 52%|█████▏    | 98/188 [01:15<01:09,  1.30it/s]"
     ]
    },
    {
     "name": "stdout",
     "output_type": "stream",
     "text": [
      "[[None, 'CN', 'NTKA', 186.9306450419132], [None, 'CN', 'OZB', 253.13936272888685], [None, 'CN', 'BFSB', 279.91298287459995]]\n"
     ]
    },
    {
     "name": "stderr",
     "output_type": "stream",
     "text": [
      " 53%|█████▎    | 99/188 [01:16<01:10,  1.26it/s]"
     ]
    },
    {
     "name": "stdout",
     "output_type": "stream",
     "text": [
      "[[None, 'CN', 'OZB', 87.75752593062275], [None, 'CN', 'NTKA', 99.23818525576458], [None, 'CN', 'BFSB', 110.43639604183663], [None, '5H', 'FORK', 4028.726607419253]]\n"
     ]
    },
    {
     "name": "stderr",
     "output_type": "stream",
     "text": [
      " 53%|█████▎    | 100/188 [01:17<01:07,  1.30it/s]"
     ]
    },
    {
     "name": "stdout",
     "output_type": "stream",
     "text": [
      "[[None, 'CN', 'BFSB', 115.9496044388925], [None, 'CN', 'OZB', 140.37737980664573], [None, '5H', 'FORK', 3876.2818078472837]]\n"
     ]
    },
    {
     "name": "stderr",
     "output_type": "stream",
     "text": [
      " 54%|█████▎    | 101/188 [01:17<01:07,  1.29it/s]"
     ]
    },
    {
     "name": "stdout",
     "output_type": "stream",
     "text": [
      "[[None, 'CN', 'BFSB', 102.60837489939426], [None, 'CN', 'OZB', 131.43120006090336], [None, '5H', 'FORK', 3848.9998086321298]]\n"
     ]
    },
    {
     "name": "stderr",
     "output_type": "stream",
     "text": [
      " 54%|█████▍    | 102/188 [01:18<01:03,  1.35it/s]"
     ]
    },
    {
     "name": "stdout",
     "output_type": "stream",
     "text": [
      "[[None, 'CN', 'OZB', 240.09452538465186], [None, 'CN', 'BFSB', 268.7853116424187], [None, '5H', 'FORK', 4182.616536765549]]\n"
     ]
    },
    {
     "name": "stderr",
     "output_type": "stream",
     "text": [
      " 55%|█████▍    | 103/188 [01:19<01:01,  1.38it/s]"
     ]
    },
    {
     "name": "stdout",
     "output_type": "stream",
     "text": [
      "[[None, 'CN', 'BFSB', 79.14866945601337], [None, 'CN', 'OZB', 106.5549157417594], [None, '5H', 'FORK', 3875.575937926256]]\n"
     ]
    },
    {
     "name": "stderr",
     "output_type": "stream",
     "text": [
      " 55%|█████▌    | 104/188 [01:20<01:10,  1.19it/s]"
     ]
    },
    {
     "name": "stdout",
     "output_type": "stream",
     "text": [
      "[[None, 'CN', 'BFSB', 79.14866945601337], [None, 'CN', 'OZB', 106.5549157417594], [None, '5H', 'FORK', 3875.575937926256]]\n"
     ]
    },
    {
     "name": "stderr",
     "output_type": "stream",
     "text": [
      " 56%|█████▌    | 105/188 [01:21<01:16,  1.09it/s]"
     ]
    },
    {
     "name": "stdout",
     "output_type": "stream",
     "text": [
      "[[None, 'CN', 'BFSB', 262.3738672424291], [None, 'CN', 'OZB', 291.762413144577], [None, '5H', 'FORK', 3722.503791242161]]\n"
     ]
    },
    {
     "name": "stderr",
     "output_type": "stream",
     "text": [
      " 56%|█████▋    | 106/188 [01:22<01:16,  1.07it/s]"
     ]
    },
    {
     "name": "stdout",
     "output_type": "stream",
     "text": [
      "[[None, 'C8', 'TOFB', 264.2261898457017], [None, 'CN', 'OZB', 288.9906955466317], [None, 'CN', 'BFSB', 313.43703912720383], [None, '5H', 'FORK', 4231.117885140612]]\n"
     ]
    },
    {
     "name": "stderr",
     "output_type": "stream",
     "text": [
      " 57%|█████▋    | 108/188 [01:23<01:07,  1.18it/s]"
     ]
    },
    {
     "name": "stdout",
     "output_type": "stream",
     "text": [
      "[[None, 'CN', 'BFSB', 102.52318337946201], [None, 'CN', 'OZB', 106.17850518041743], [None, 'C8', 'TOFB', 116.73143769461416]]\n"
     ]
    },
    {
     "name": "stderr",
     "output_type": "stream",
     "text": [
      " 59%|█████▊    | 110/188 [01:25<01:03,  1.23it/s]"
     ]
    },
    {
     "name": "stdout",
     "output_type": "stream",
     "text": [
      "[[None, 'CN', 'BFSB', 75.1489309993694], [None, 'CN', 'OZB', 104.94867278645876], [None, '5H', 'FORK', 3858.6790140871512]]\n"
     ]
    },
    {
     "name": "stderr",
     "output_type": "stream",
     "text": [
      " 60%|█████▉    | 112/188 [01:26<00:58,  1.30it/s]"
     ]
    },
    {
     "name": "stdout",
     "output_type": "stream",
     "text": [
      "[[None, 'CN', 'BFSB', 166.56035436164868], [None, 'CN', 'OZB', 178.63057987815182], [None, 'C8', 'TOFB', 202.4481655232028]]\n"
     ]
    },
    {
     "name": "stderr",
     "output_type": "stream",
     "text": [
      " 60%|██████    | 113/188 [01:27<00:58,  1.27it/s]"
     ]
    },
    {
     "name": "stdout",
     "output_type": "stream",
     "text": [
      "[[None, 'CN', 'BFSB', 36.10355420873838], [None, 'CN', 'OZB', 54.33446310588876], [None, 'C8', 'TOFB', 87.97696490516444]]\n"
     ]
    },
    {
     "name": "stderr",
     "output_type": "stream",
     "text": [
      " 61%|██████    | 114/188 [01:28<00:56,  1.30it/s]"
     ]
    },
    {
     "name": "stdout",
     "output_type": "stream",
     "text": [
      "[[None, 'C8', 'TOFB', 230.02440908963294], [None, 'CN', 'OZB', 261.08769281619044], [None, '5H', 'FORK', 4205.765452698575]]\n"
     ]
    },
    {
     "name": "stderr",
     "output_type": "stream",
     "text": [
      " 61%|██████    | 115/188 [01:29<01:01,  1.19it/s]"
     ]
    },
    {
     "name": "stdout",
     "output_type": "stream",
     "text": [
      "[[None, 'CN', 'BFSB', 167.34011030538167], [None, 'CN', 'OZB', 180.1259277148202], [None, 'C8', 'TOFB', 204.56972774745242]]\n"
     ]
    },
    {
     "name": "stderr",
     "output_type": "stream",
     "text": [
      " 62%|██████▏   | 116/188 [01:30<01:04,  1.11it/s]"
     ]
    },
    {
     "name": "stdout",
     "output_type": "stream",
     "text": [
      "[[None, 'C8', 'TOFB', 253.64768341951023], [None, 'CN', 'OZB', 285.2257116605216], [None, 'CN', 'BFSB', 313.4066224805418], [None, '5H', 'FORK', 4229.196288472936]]\n"
     ]
    },
    {
     "name": "stderr",
     "output_type": "stream",
     "text": [
      " 63%|██████▎   | 118/188 [01:32<00:58,  1.19it/s]"
     ]
    },
    {
     "name": "stdout",
     "output_type": "stream",
     "text": [
      "[[None, 'CN', 'BFSB', 282.272001742655], [None, 'CN', 'OZB', 297.88566092284185], [None, 'C8', 'TOFB', 315.7813785213833]]\n"
     ]
    },
    {
     "name": "stderr",
     "output_type": "stream",
     "text": [
      " 63%|██████▎   | 119/188 [01:32<00:55,  1.25it/s]"
     ]
    },
    {
     "name": "stdout",
     "output_type": "stream",
     "text": [
      "[[None, 'C8', 'TOFB', 234.05519471094382], [None, 'CN', 'OZB', 263.15512494115484], [None, 'CN', 'BFSB', 290.12616268249536]]\n"
     ]
    },
    {
     "name": "stderr",
     "output_type": "stream",
     "text": [
      " 65%|██████▌   | 123/188 [01:35<00:50,  1.29it/s]"
     ]
    },
    {
     "name": "stdout",
     "output_type": "stream",
     "text": [
      "[[None, 'C8', 'TOFB', 216.11601363122057], [None, 'CN', 'OZB', 247.76002163016858], [None, 'CN', 'BFSB', 272.5530301598887]]\n"
     ]
    },
    {
     "name": "stderr",
     "output_type": "stream",
     "text": [
      " 68%|██████▊   | 127/188 [01:39<00:53,  1.14it/s]"
     ]
    },
    {
     "name": "stdout",
     "output_type": "stream",
     "text": [
      "[[None, 'CN', 'BFSB', 79.52185661059966], [None, 'CN', 'OZB', 109.13816255453958], [None, 'C8', 'TOFB', 145.92858703741138], [None, '5H', 'FORK', 3857.6140231598865]]\n"
     ]
    },
    {
     "name": "stderr",
     "output_type": "stream",
     "text": [
      " 68%|██████▊   | 128/188 [01:40<00:56,  1.07it/s]"
     ]
    },
    {
     "name": "stdout",
     "output_type": "stream",
     "text": [
      "[[None, 'CN', 'BFSB', 77.80624098092977], [None, 'CN', 'OZB', 107.3471577259195], [None, 'C8', 'TOFB', 144.134576655744], [None, '5H', 'FORK', 3859.83833996053]]\n"
     ]
    },
    {
     "name": "stderr",
     "output_type": "stream",
     "text": [
      " 69%|██████▊   | 129/188 [01:41<00:58,  1.01it/s]"
     ]
    },
    {
     "name": "stdout",
     "output_type": "stream",
     "text": [
      "[[None, 'CN', 'BFSB', 27.69505553699329], [None, 'CN', 'OZB', 48.31781492988466], [None, 'C8', 'TOFB', 80.20717476901962], [None, '5H', 'FORK', 3897.5624268870056]]\n"
     ]
    },
    {
     "name": "stderr",
     "output_type": "stream",
     "text": [
      " 69%|██████▉   | 130/188 [01:42<00:53,  1.08it/s]"
     ]
    },
    {
     "name": "stdout",
     "output_type": "stream",
     "text": [
      "[[None, 'C8', 'TOFB', 230.51934724610913], [None, 'CN', 'OZB', 259.8698543583136], [None, 'CN', 'BFSB', 286.9827385967491]]\n"
     ]
    },
    {
     "name": "stderr",
     "output_type": "stream",
     "text": [
      " 70%|██████▉   | 131/188 [01:43<00:55,  1.02it/s]"
     ]
    },
    {
     "name": "stdout",
     "output_type": "stream",
     "text": [
      "[[None, 'CN', 'BFSB', 184.06506502512883], [None, 'CN', 'OZB', 213.13677301269144], [None, 'C8', 'TOFB', 247.80773557232212], [None, '5H', 'FORK', 3739.6680987091845]]\n"
     ]
    },
    {
     "name": "stderr",
     "output_type": "stream",
     "text": [
      " 70%|███████   | 132/188 [01:44<00:50,  1.10it/s]"
     ]
    },
    {
     "name": "stdout",
     "output_type": "stream",
     "text": [
      "[[None, 'CN', 'OZB', 312.81957695655507], [None, 'C8', 'TOFB', 346.7469890104553], [None, '5H', 'FORK', 3639.725546944501]]\n"
     ]
    },
    {
     "name": "stderr",
     "output_type": "stream",
     "text": [
      " 71%|███████   | 133/188 [01:45<00:48,  1.14it/s]"
     ]
    },
    {
     "name": "stdout",
     "output_type": "stream",
     "text": [
      "[[None, 'C8', 'TOFB', 207.50774186309872], [None, 'CN', 'OZB', 235.45731038821557], [None, 'CN', 'BFSB', 261.93239661214676]]\n"
     ]
    },
    {
     "name": "stderr",
     "output_type": "stream",
     "text": [
      " 71%|███████▏  | 134/188 [01:46<00:52,  1.03it/s]"
     ]
    },
    {
     "name": "stdout",
     "output_type": "stream",
     "text": [
      "[[None, 'CN', 'BFSB', 26.232280501105436], [None, 'CN', 'OZB', 56.241793204486655], [None, 'C8', 'TOFB', 92.8584416310756]]\n"
     ]
    },
    {
     "name": "stderr",
     "output_type": "stream",
     "text": [
      " 72%|███████▏  | 136/188 [01:48<00:48,  1.08it/s]"
     ]
    },
    {
     "name": "stdout",
     "output_type": "stream",
     "text": [
      "[[None, 'CN', 'BFSB', 355.6864099519249], [None, 'CN', 'OZB', 372.5149900767496], [None, 'C8', 'TOFB', 398.8720443449478], [None, '5H', 'FORK', 3907.326547320329]]\n"
     ]
    },
    {
     "name": "stderr",
     "output_type": "stream",
     "text": [
      " 73%|███████▎  | 138/188 [01:50<00:49,  1.02it/s]"
     ]
    },
    {
     "name": "stdout",
     "output_type": "stream",
     "text": [
      "[[None, 'C8', 'TOFB', 258.21761923104276], [None, 'CN', 'OZB', 292.0520324964268], [None, 'CN', 'BFSB', 321.2694916630573], [None, '5H', 'FORK', 4229.787713110934]]\n"
     ]
    },
    {
     "name": "stderr",
     "output_type": "stream",
     "text": [
      " 74%|███████▍  | 139/188 [01:52<01:04,  1.31s/it]"
     ]
    },
    {
     "name": "stdout",
     "output_type": "stream",
     "text": [
      "[[None, 'CN', 'BFSB', 263.62236269163776], [None, 'CN', 'OZB', 287.4697062844959], [None, 'C8', 'TOFB', 315.24903164572345], [None, '5H', 'FORK', 3661.1124749153046]]\n"
     ]
    },
    {
     "name": "stderr",
     "output_type": "stream",
     "text": [
      " 74%|███████▍  | 140/188 [01:52<00:54,  1.14s/it]"
     ]
    },
    {
     "name": "stdout",
     "output_type": "stream",
     "text": [
      "[[None, 'CN', 'BFSB', 69.93873262606616], [None, 'CN', 'OZB', 98.75962749111945], [None, '5H', 'FORK', 3872.0851740415687]]\n"
     ]
    },
    {
     "name": "stderr",
     "output_type": "stream",
     "text": [
      " 77%|███████▋  | 144/188 [01:56<00:42,  1.03it/s]"
     ]
    },
    {
     "name": "stdout",
     "output_type": "stream",
     "text": [
      "[[None, 'CN', 'BFSB', 171.8915946604245], [None, 'CN', 'OZB', 184.3712764184159], [None, 'C8', 'TOFB', 208.44299159982896]]\n"
     ]
    },
    {
     "name": "stderr",
     "output_type": "stream",
     "text": [
      " 77%|███████▋  | 145/188 [01:57<00:42,  1.02it/s]"
     ]
    },
    {
     "name": "stdout",
     "output_type": "stream",
     "text": [
      "[[None, 'CN', 'BFSB', 29.082367564113504], [None, 'CN', 'OZB', 58.954343523946704], [None, 'C8', 'TOFB', 95.27423289841285], [None, '5H', 'FORK', 3891.916756364514]]\n"
     ]
    },
    {
     "name": "stderr",
     "output_type": "stream",
     "text": [
      " 78%|███████▊  | 146/188 [01:58<00:38,  1.09it/s]"
     ]
    },
    {
     "name": "stdout",
     "output_type": "stream",
     "text": [
      "[[None, 'C8', 'TOFB', 63.351831997202616], [None, 'CN', 'OZB', 100.1109213758632], [None, 'CN', 'BFSB', 130.0018115483096]]\n"
     ]
    },
    {
     "name": "stderr",
     "output_type": "stream",
     "text": [
      " 78%|███████▊  | 147/188 [01:58<00:35,  1.14it/s]"
     ]
    },
    {
     "name": "stdout",
     "output_type": "stream",
     "text": [
      "[[None, 'CN', 'BFSB', 285.0433176608139], [None, 'CN', 'OZB', 314.1842304174342], [None, '5H', 'FORK', 3713.4134848596605]]\n"
     ]
    },
    {
     "name": "stderr",
     "output_type": "stream",
     "text": [
      " 79%|███████▊  | 148/188 [01:59<00:33,  1.21it/s]"
     ]
    },
    {
     "name": "stdout",
     "output_type": "stream",
     "text": [
      "[[None, 'C8', 'TOFB', 254.8865821796981], [None, 'CN', 'OZB', 255.52587461521765], [None, 'CN', 'BFSB', 263.85641859427597]]\n"
     ]
    },
    {
     "name": "stderr",
     "output_type": "stream",
     "text": [
      " 80%|███████▉  | 150/188 [02:01<00:30,  1.25it/s]"
     ]
    },
    {
     "name": "stdout",
     "output_type": "stream",
     "text": [
      "[[None, 'C8', 'TOFB', 193.9045520882433], [None, 'CN', 'OZB', 222.05280227688502], [None, 'CN', 'BFSB', 248.6970365300286]]\n"
     ]
    },
    {
     "name": "stderr",
     "output_type": "stream",
     "text": [
      " 80%|████████  | 151/188 [02:01<00:29,  1.27it/s]"
     ]
    },
    {
     "name": "stdout",
     "output_type": "stream",
     "text": [
      "[[None, 'CN', 'BFSB', 78.66086424773454], [None, 'CN', 'OZB', 108.24065148046795], [None, '5H', 'FORK', 3858.726180226587]]\n"
     ]
    },
    {
     "name": "stderr",
     "output_type": "stream",
     "text": [
      " 81%|████████  | 152/188 [02:02<00:28,  1.25it/s]"
     ]
    },
    {
     "name": "stdout",
     "output_type": "stream",
     "text": [
      "[[None, 'C8', 'TOFB', 245.36799789866032], [None, 'CN', 'OZB', 274.25119707238105], [None, 'CN', 'BFSB', 301.0715395445585]]\n"
     ]
    },
    {
     "name": "stderr",
     "output_type": "stream",
     "text": [
      " 81%|████████▏ | 153/188 [02:03<00:27,  1.28it/s]"
     ]
    },
    {
     "name": "stdout",
     "output_type": "stream",
     "text": [
      "[[None, 'CN', 'BFSB', 76.24148278227412], [None, 'CN', 'OZB', 105.57489184823218], [None, '5H', 'FORK', 3863.187764749076]]\n"
     ]
    },
    {
     "name": "stderr",
     "output_type": "stream",
     "text": [
      " 82%|████████▏ | 154/188 [02:04<00:32,  1.06it/s]"
     ]
    },
    {
     "name": "stdout",
     "output_type": "stream",
     "text": [
      "[[None, 'C8', 'TOFB', 229.15695325960843], [None, 'CN', 'OZB', 258.89110819272577], [None, 'CN', 'BFSB', 286.2055584722065], [None, '5H', 'FORK', 4204.517233656154]]\n"
     ]
    },
    {
     "name": "stderr",
     "output_type": "stream",
     "text": [
      " 82%|████████▏ | 155/188 [02:05<00:29,  1.13it/s]"
     ]
    },
    {
     "name": "stdout",
     "output_type": "stream",
     "text": [
      "[[None, 'CN', 'BFSB', 115.24091390150724], [None, 'CN', 'OZB', 118.38390870496049], [None, 'C8', 'TOFB', 127.30142138389994]]\n"
     ]
    },
    {
     "name": "stderr",
     "output_type": "stream",
     "text": [
      " 84%|████████▍ | 158/188 [02:07<00:23,  1.26it/s]"
     ]
    },
    {
     "name": "stdout",
     "output_type": "stream",
     "text": [
      "[[None, 'C8', 'TOFB', 18.11161847368234], [None, 'CN', 'OZB', 50.49945784846492], [None, 'CN', 'BFSB', 80.32934844266106]]\n"
     ]
    },
    {
     "name": "stderr",
     "output_type": "stream",
     "text": [
      " 85%|████████▌ | 160/188 [02:09<00:21,  1.33it/s]"
     ]
    },
    {
     "name": "stdout",
     "output_type": "stream",
     "text": [
      "[[None, 'CN', 'BFSB', 82.20115470058576], [None, 'CN', 'OZB', 111.73259151221588], [None, '5H', 'FORK', 3856.528217251062]]\n"
     ]
    },
    {
     "name": "stderr",
     "output_type": "stream",
     "text": [
      " 86%|████████▌ | 161/188 [02:10<00:22,  1.22it/s]"
     ]
    },
    {
     "name": "stdout",
     "output_type": "stream",
     "text": [
      "[[None, 'CN', 'BFSB', 232.35183376379598], [None, 'CN', 'OZB', 253.7491275570279], [None, 'C8', 'TOFB', 284.89219648172957], [None, '5H', 'FORK', 3864.8034729580027]]\n"
     ]
    },
    {
     "name": "stderr",
     "output_type": "stream",
     "text": [
      " 86%|████████▌ | 162/188 [02:10<00:20,  1.26it/s]"
     ]
    },
    {
     "name": "stdout",
     "output_type": "stream",
     "text": [
      "[[None, 'CN', 'BFSB', 73.36571178288011], [None, 'CN', 'OZB', 103.0198164636783], [None, '5H', 'FORK', 3862.0266236267926]]\n"
     ]
    },
    {
     "name": "stderr",
     "output_type": "stream",
     "text": [
      " 87%|████████▋ | 163/188 [02:11<00:21,  1.16it/s]"
     ]
    },
    {
     "name": "stdout",
     "output_type": "stream",
     "text": [
      "[[None, 'CN', 'BFSB', 24.13650445681351], [None, 'CN', 'OZB', 53.2319911623499], [None, 'C8', 'TOFB', 89.03914663715055], [None, '5H', 'FORK', 3895.259793210235]]\n"
     ]
    },
    {
     "name": "stderr",
     "output_type": "stream",
     "text": [
      " 87%|████████▋ | 164/188 [02:13<00:23,  1.01it/s]"
     ]
    },
    {
     "name": "stdout",
     "output_type": "stream",
     "text": [
      "[[None, 'C8', 'TOFB', 124.01603407927996], [None, 'CN', 'OZB', 160.78530004889615], [None, 'CN', 'BFSB', 190.65655675930086], [None, '5H', 'FORK', 4080.168320468891]]\n"
     ]
    },
    {
     "name": "stderr",
     "output_type": "stream",
     "text": [
      " 88%|████████▊ | 165/188 [02:14<00:21,  1.07it/s]"
     ]
    },
    {
     "name": "stdout",
     "output_type": "stream",
     "text": [
      "[[None, 'CN', 'BFSB', 174.8605174927387], [None, 'CN', 'OZB', 191.100531988006], [None, 'C8', 'TOFB', 211.31993522901317]]\n"
     ]
    },
    {
     "name": "stderr",
     "output_type": "stream",
     "text": [
      " 88%|████████▊ | 166/188 [02:14<00:19,  1.11it/s]"
     ]
    },
    {
     "name": "stdout",
     "output_type": "stream",
     "text": [
      "[[None, 'CN', 'BFSB', 115.07713336179268], [None, 'CN', 'OZB', 117.30261990086639], [None, 'C8', 'TOFB', 125.26044880356885]]\n"
     ]
    },
    {
     "name": "stderr",
     "output_type": "stream",
     "text": [
      " 91%|█████████ | 171/188 [02:18<00:13,  1.31it/s]"
     ]
    },
    {
     "name": "stdout",
     "output_type": "stream",
     "text": [
      "[[None, 'CN', 'BFSB', 162.10197786451087], [None, 'CN', 'OZB', 173.62402671342358], [None, 'C8', 'TOFB', 189.08146642713103]]\n"
     ]
    },
    {
     "name": "stderr",
     "output_type": "stream",
     "text": [
      " 91%|█████████▏| 172/188 [02:19<00:12,  1.30it/s]"
     ]
    },
    {
     "name": "stdout",
     "output_type": "stream",
     "text": [
      "[[None, 'CN', 'BFSB', 119.82400997667018], [None, 'CN', 'OZB', 123.4784757327294], [None, 'C8', 'TOFB', 132.58915244021009]]\n"
     ]
    },
    {
     "name": "stderr",
     "output_type": "stream",
     "text": [
      " 93%|█████████▎| 174/188 [02:21<00:13,  1.07it/s]"
     ]
    },
    {
     "name": "stdout",
     "output_type": "stream",
     "text": [
      "[[None, 'CN', 'BFSB', 19.301708383260788], [None, 'CN', 'OZB', 44.12409591963261], [None, 'C8', 'TOFB', 78.42250561639332], [None, '5H', 'FORK', 3901.966948211357]]\n"
     ]
    },
    {
     "name": "stderr",
     "output_type": "stream",
     "text": [
      " 93%|█████████▎| 175/188 [02:22<00:11,  1.14it/s]"
     ]
    },
    {
     "name": "stdout",
     "output_type": "stream",
     "text": [
      "[[None, 'CN', 'BFSB', 126.9025055265445], [None, 'CN', 'OZB', 151.27563320050766], [None, 'C8', 'TOFB', 185.39276714913134]]\n"
     ]
    },
    {
     "name": "stderr",
     "output_type": "stream",
     "text": [
      " 94%|█████████▎| 176/188 [02:23<00:10,  1.10it/s]"
     ]
    },
    {
     "name": "stdout",
     "output_type": "stream",
     "text": [
      "[[None, 'CN', 'BFSB', 107.08124006979013], [None, 'CN', 'OZB', 127.33688548296863], [None, 'C8', 'TOFB', 159.00911091174243], [None, '5H', 'FORK', 3904.0521035690613]]\n"
     ]
    },
    {
     "name": "stderr",
     "output_type": "stream",
     "text": [
      " 94%|█████████▍| 177/188 [02:24<00:09,  1.15it/s]"
     ]
    },
    {
     "name": "stdout",
     "output_type": "stream",
     "text": [
      "[[None, 'C8', 'TOFB', 205.94659428731907], [None, 'CN', 'OZB', 233.40373059106128], [None, 'CN', 'BFSB', 259.6283339854973]]\n"
     ]
    },
    {
     "name": "stderr",
     "output_type": "stream",
     "text": [
      " 95%|█████████▍| 178/188 [02:24<00:08,  1.20it/s]"
     ]
    },
    {
     "name": "stdout",
     "output_type": "stream",
     "text": [
      "[[None, 'CN', 'BFSB', 119.30642462199371], [None, 'CN', 'OZB', 122.73651900296636], [None, 'C8', 'TOFB', 131.64677183939767]]\n"
     ]
    },
    {
     "name": "stderr",
     "output_type": "stream",
     "text": [
      " 95%|█████████▌| 179/188 [02:25<00:07,  1.22it/s]"
     ]
    },
    {
     "name": "stdout",
     "output_type": "stream",
     "text": [
      "[[None, 'C8', 'TOFB', 267.51949802682236], [None, 'CN', 'OZB', 268.19050053575063], [None, 'CN', 'BFSB', 276.3740637654356]]\n"
     ]
    },
    {
     "name": "stderr",
     "output_type": "stream",
     "text": [
      " 96%|█████████▌| 180/188 [02:26<00:06,  1.25it/s]"
     ]
    },
    {
     "name": "stdout",
     "output_type": "stream",
     "text": [
      "[[None, 'C8', 'TOFB', 170.28646658850232], [None, 'CN', 'OZB', 189.66600466120596], [None, 'CN', 'BFSB', 211.76223552534972]]\n"
     ]
    },
    {
     "name": "stderr",
     "output_type": "stream",
     "text": [
      " 96%|█████████▋| 181/188 [02:27<00:05,  1.19it/s]"
     ]
    },
    {
     "name": "stdout",
     "output_type": "stream",
     "text": [
      "[[None, 'C8', 'TOFB', 197.41213487626476], [None, 'CN', 'OZB', 230.56112231270154], [None, 'CN', 'BFSB', 259.56095309398967], [None, '5H', 'FORK', 4171.605962078596]]\n"
     ]
    },
    {
     "name": "stderr",
     "output_type": "stream",
     "text": [
      "100%|██████████| 188/188 [02:32<00:00,  1.23it/s]"
     ]
    },
    {
     "name": "stdout",
     "output_type": "stream",
     "text": [
      "[[None, 'CN', 'BFSB', 113.38880154198209], [None, 'CN', 'OZB', 137.4822533002043], [None, '5H', 'FORK', 3879.587123895919]]\n"
     ]
    },
    {
     "name": "stderr",
     "output_type": "stream",
     "text": [
      "\n"
     ]
    },
    {
     "data": {
      "text/html": [
       "<div>\n",
       "<style scoped>\n",
       "    .dataframe tbody tr th:only-of-type {\n",
       "        vertical-align: middle;\n",
       "    }\n",
       "\n",
       "    .dataframe tbody tr th {\n",
       "        vertical-align: top;\n",
       "    }\n",
       "\n",
       "    .dataframe thead th {\n",
       "        text-align: right;\n",
       "    }\n",
       "</style>\n",
       "<table border=\"1\" class=\"dataframe\">\n",
       "  <thead>\n",
       "    <tr style=\"text-align: right;\">\n",
       "      <th></th>\n",
       "      <th>Unnamed: 0.1</th>\n",
       "      <th>Unnamed: 0</th>\n",
       "      <th>idx</th>\n",
       "      <th>time</th>\n",
       "      <th>x</th>\n",
       "      <th>y</th>\n",
       "      <th>z</th>\n",
       "      <th>picks</th>\n",
       "      <th>latitude</th>\n",
       "      <th>longitude</th>\n",
       "      <th>depth</th>\n",
       "      <th>event_idx</th>\n",
       "      <th>pick_idx</th>\n",
       "      <th>residual</th>\n",
       "      <th>station</th>\n",
       "      <th>phase</th>\n",
       "      <th>time_pick</th>\n",
       "      <th>datetime</th>\n",
       "    </tr>\n",
       "  </thead>\n",
       "  <tbody>\n",
       "    <tr>\n",
       "      <th>3</th>\n",
       "      <td>3</td>\n",
       "      <td>37</td>\n",
       "      <td>9</td>\n",
       "      <td>2011-06-06 04:06:42.542511+00:00</td>\n",
       "      <td>50.761710</td>\n",
       "      <td>374.520189</td>\n",
       "      <td>16.015625</td>\n",
       "      <td>6</td>\n",
       "      <td>47.867349</td>\n",
       "      <td>-124.821515</td>\n",
       "      <td>16.015625</td>\n",
       "      <td>9</td>\n",
       "      <td>348924</td>\n",
       "      <td>-0.131171</td>\n",
       "      <td>FORK</td>\n",
       "      <td>P</td>\n",
       "      <td>1.307333e+09</td>\n",
       "      <td>2011-06-06 04:06:42.542511+00:00</td>\n",
       "    </tr>\n",
       "    <tr>\n",
       "      <th>15</th>\n",
       "      <td>15</td>\n",
       "      <td>228</td>\n",
       "      <td>49</td>\n",
       "      <td>2011-11-20 10:35:26.432618+00:00</td>\n",
       "      <td>114.353303</td>\n",
       "      <td>403.128228</td>\n",
       "      <td>16.015625</td>\n",
       "      <td>6</td>\n",
       "      <td>48.116379</td>\n",
       "      <td>-123.964158</td>\n",
       "      <td>16.015625</td>\n",
       "      <td>49</td>\n",
       "      <td>388595</td>\n",
       "      <td>-1.141335</td>\n",
       "      <td>FORK</td>\n",
       "      <td>P</td>\n",
       "      <td>1.321785e+09</td>\n",
       "      <td>2011-11-20 10:35:26.432618+00:00</td>\n",
       "    </tr>\n",
       "    <tr>\n",
       "      <th>17</th>\n",
       "      <td>17</td>\n",
       "      <td>247</td>\n",
       "      <td>52</td>\n",
       "      <td>2011-12-05 14:39:02.869818+00:00</td>\n",
       "      <td>111.006378</td>\n",
       "      <td>375.950591</td>\n",
       "      <td>37.890625</td>\n",
       "      <td>7</td>\n",
       "      <td>47.872629</td>\n",
       "      <td>-124.016117</td>\n",
       "      <td>37.890625</td>\n",
       "      <td>52</td>\n",
       "      <td>394856</td>\n",
       "      <td>0.450689</td>\n",
       "      <td>FORK</td>\n",
       "      <td>P</td>\n",
       "      <td>1.323096e+09</td>\n",
       "      <td>2011-12-05 14:39:02.869818+00:00</td>\n",
       "    </tr>\n",
       "    <tr>\n",
       "      <th>49</th>\n",
       "      <td>49</td>\n",
       "      <td>486</td>\n",
       "      <td>99</td>\n",
       "      <td>2012-02-20 04:40:13.744430+00:00</td>\n",
       "      <td>-36.258365</td>\n",
       "      <td>498.965159</td>\n",
       "      <td>49.609375</td>\n",
       "      <td>6</td>\n",
       "      <td>48.987413</td>\n",
       "      <td>-125.995400</td>\n",
       "      <td>49.609375</td>\n",
       "      <td>99</td>\n",
       "      <td>82248</td>\n",
       "      <td>-0.057920</td>\n",
       "      <td>J73A</td>\n",
       "      <td>P</td>\n",
       "      <td>1.329713e+09</td>\n",
       "      <td>2012-02-20 04:40:13.744430+00:00</td>\n",
       "    </tr>\n",
       "    <tr>\n",
       "      <th>88</th>\n",
       "      <td>88</td>\n",
       "      <td>914</td>\n",
       "      <td>192</td>\n",
       "      <td>2014-05-03 10:15:05.467782+00:00</td>\n",
       "      <td>-29.564513</td>\n",
       "      <td>500.395561</td>\n",
       "      <td>12.890625</td>\n",
       "      <td>6</td>\n",
       "      <td>49.000631</td>\n",
       "      <td>-125.904048</td>\n",
       "      <td>12.890625</td>\n",
       "      <td>192</td>\n",
       "      <td>209399</td>\n",
       "      <td>0.032988</td>\n",
       "      <td>BFSB</td>\n",
       "      <td>P</td>\n",
       "      <td>1.399112e+09</td>\n",
       "      <td>2014-05-03 10:15:05.467782+00:00</td>\n",
       "    </tr>\n",
       "    <tr>\n",
       "      <th>90</th>\n",
       "      <td>90</td>\n",
       "      <td>929</td>\n",
       "      <td>194</td>\n",
       "      <td>2014-05-06 07:42:04.687438+00:00</td>\n",
       "      <td>-45.183500</td>\n",
       "      <td>491.813149</td>\n",
       "      <td>12.890625</td>\n",
       "      <td>6</td>\n",
       "      <td>48.922517</td>\n",
       "      <td>-126.116545</td>\n",
       "      <td>12.890625</td>\n",
       "      <td>194</td>\n",
       "      <td>177128</td>\n",
       "      <td>0.248117</td>\n",
       "      <td>BFSB</td>\n",
       "      <td>P</td>\n",
       "      <td>1.399362e+09</td>\n",
       "      <td>2014-05-06 07:42:04.687438+00:00</td>\n",
       "    </tr>\n",
       "    <tr>\n",
       "      <th>106</th>\n",
       "      <td>106</td>\n",
       "      <td>1110</td>\n",
       "      <td>244</td>\n",
       "      <td>2015-01-02 20:07:37.145226+00:00</td>\n",
       "      <td>23.986303</td>\n",
       "      <td>501.825963</td>\n",
       "      <td>12.890625</td>\n",
       "      <td>6</td>\n",
       "      <td>49.013735</td>\n",
       "      <td>-125.172102</td>\n",
       "      <td>12.890625</td>\n",
       "      <td>244</td>\n",
       "      <td>300961</td>\n",
       "      <td>0.106112</td>\n",
       "      <td>BFSB</td>\n",
       "      <td>P</td>\n",
       "      <td>1.420229e+09</td>\n",
       "      <td>2015-01-02 20:07:37.145226+00:00</td>\n",
       "    </tr>\n",
       "    <tr>\n",
       "      <th>108</th>\n",
       "      <td>108</td>\n",
       "      <td>1142</td>\n",
       "      <td>252</td>\n",
       "      <td>2015-01-25 20:57:40.571090+00:00</td>\n",
       "      <td>18.408093</td>\n",
       "      <td>486.091542</td>\n",
       "      <td>8.203125</td>\n",
       "      <td>6</td>\n",
       "      <td>48.872442</td>\n",
       "      <td>-125.249066</td>\n",
       "      <td>8.203125</td>\n",
       "      <td>252</td>\n",
       "      <td>284497</td>\n",
       "      <td>0.125469</td>\n",
       "      <td>BFSB</td>\n",
       "      <td>P</td>\n",
       "      <td>1.422219e+09</td>\n",
       "      <td>2015-01-25 20:57:40.571090+00:00</td>\n",
       "    </tr>\n",
       "    <tr>\n",
       "      <th>110</th>\n",
       "      <td>110</td>\n",
       "      <td>1161</td>\n",
       "      <td>259</td>\n",
       "      <td>2015-02-14 18:10:14.345933+00:00</td>\n",
       "      <td>-11.714241</td>\n",
       "      <td>467.496316</td>\n",
       "      <td>12.890625</td>\n",
       "      <td>6</td>\n",
       "      <td>48.705390</td>\n",
       "      <td>-125.659156</td>\n",
       "      <td>12.890625</td>\n",
       "      <td>259</td>\n",
       "      <td>318261</td>\n",
       "      <td>0.340261</td>\n",
       "      <td>BFSB</td>\n",
       "      <td>P</td>\n",
       "      <td>1.423937e+09</td>\n",
       "      <td>2015-02-14 18:10:14.345933+00:00</td>\n",
       "    </tr>\n",
       "    <tr>\n",
       "      <th>116</th>\n",
       "      <td>116</td>\n",
       "      <td>1223</td>\n",
       "      <td>276</td>\n",
       "      <td>2015-03-26 12:16:56.450603+00:00</td>\n",
       "      <td>9.482957</td>\n",
       "      <td>491.813149</td>\n",
       "      <td>30.859375</td>\n",
       "      <td>6</td>\n",
       "      <td>48.924092</td>\n",
       "      <td>-125.370598</td>\n",
       "      <td>30.859375</td>\n",
       "      <td>276</td>\n",
       "      <td>343183</td>\n",
       "      <td>-0.128716</td>\n",
       "      <td>BFSB</td>\n",
       "      <td>P</td>\n",
       "      <td>1.427372e+09</td>\n",
       "      <td>2015-03-26 12:16:56.450603+00:00</td>\n",
       "    </tr>\n",
       "    <tr>\n",
       "      <th>119</th>\n",
       "      <td>119</td>\n",
       "      <td>1247</td>\n",
       "      <td>282</td>\n",
       "      <td>2015-04-19 18:00:46.554775+00:00</td>\n",
       "      <td>-25.101945</td>\n",
       "      <td>468.926718</td>\n",
       "      <td>44.140625</td>\n",
       "      <td>6</td>\n",
       "      <td>48.717858</td>\n",
       "      <td>-125.841133</td>\n",
       "      <td>44.140625</td>\n",
       "      <td>282</td>\n",
       "      <td>278898</td>\n",
       "      <td>0.088696</td>\n",
       "      <td>BFSB</td>\n",
       "      <td>P</td>\n",
       "      <td>1.429466e+09</td>\n",
       "      <td>2015-04-19 18:00:46.554775+00:00</td>\n",
       "    </tr>\n",
       "    <tr>\n",
       "      <th>120</th>\n",
       "      <td>120</td>\n",
       "      <td>1253</td>\n",
       "      <td>283</td>\n",
       "      <td>2015-04-19 21:13:19.086199+00:00</td>\n",
       "      <td>-6.136031</td>\n",
       "      <td>521.851591</td>\n",
       "      <td>12.109375</td>\n",
       "      <td>6</td>\n",
       "      <td>49.194238</td>\n",
       "      <td>-125.584186</td>\n",
       "      <td>12.109375</td>\n",
       "      <td>283</td>\n",
       "      <td>278903</td>\n",
       "      <td>-0.073729</td>\n",
       "      <td>BFSB</td>\n",
       "      <td>P</td>\n",
       "      <td>1.429478e+09</td>\n",
       "      <td>2015-04-19 21:13:19.086199+00:00</td>\n",
       "    </tr>\n",
       "    <tr>\n",
       "      <th>121</th>\n",
       "      <td>121</td>\n",
       "      <td>1259</td>\n",
       "      <td>284</td>\n",
       "      <td>2015-04-20 04:24:38.883577+00:00</td>\n",
       "      <td>-26.217587</td>\n",
       "      <td>498.965159</td>\n",
       "      <td>12.890625</td>\n",
       "      <td>6</td>\n",
       "      <td>48.987920</td>\n",
       "      <td>-125.858216</td>\n",
       "      <td>12.890625</td>\n",
       "      <td>284</td>\n",
       "      <td>296182</td>\n",
       "      <td>0.000448</td>\n",
       "      <td>BFSB</td>\n",
       "      <td>P</td>\n",
       "      <td>1.429504e+09</td>\n",
       "      <td>2015-04-20 04:24:38.883577+00:00</td>\n",
       "    </tr>\n",
       "    <tr>\n",
       "      <th>123</th>\n",
       "      <td>123</td>\n",
       "      <td>1284</td>\n",
       "      <td>290</td>\n",
       "      <td>2015-04-27 15:33:52.421529+00:00</td>\n",
       "      <td>0.557821</td>\n",
       "      <td>468.926718</td>\n",
       "      <td>44.921875</td>\n",
       "      <td>6</td>\n",
       "      <td>48.718363</td>\n",
       "      <td>-125.492419</td>\n",
       "      <td>44.921875</td>\n",
       "      <td>290</td>\n",
       "      <td>322125</td>\n",
       "      <td>-0.138834</td>\n",
       "      <td>BFSB</td>\n",
       "      <td>P</td>\n",
       "      <td>1.430149e+09</td>\n",
       "      <td>2015-04-27 15:33:52.421529+00:00</td>\n",
       "    </tr>\n",
       "    <tr>\n",
       "      <th>124</th>\n",
       "      <td>124</td>\n",
       "      <td>1290</td>\n",
       "      <td>292</td>\n",
       "      <td>2015-05-07 08:17:42.823929+00:00</td>\n",
       "      <td>-12.829883</td>\n",
       "      <td>467.496316</td>\n",
       "      <td>17.578125</td>\n",
       "      <td>6</td>\n",
       "      <td>48.705369</td>\n",
       "      <td>-125.674313</td>\n",
       "      <td>17.578125</td>\n",
       "      <td>292</td>\n",
       "      <td>334066</td>\n",
       "      <td>0.529291</td>\n",
       "      <td>BFSB</td>\n",
       "      <td>P</td>\n",
       "      <td>1.430987e+09</td>\n",
       "      <td>2015-05-07 08:17:42.823929+00:00</td>\n",
       "    </tr>\n",
       "    <tr>\n",
       "      <th>125</th>\n",
       "      <td>125</td>\n",
       "      <td>1310</td>\n",
       "      <td>295</td>\n",
       "      <td>2015-05-12 03:38:08.558803+00:00</td>\n",
       "      <td>19.523735</td>\n",
       "      <td>486.091542</td>\n",
       "      <td>5.078125</td>\n",
       "      <td>6</td>\n",
       "      <td>48.872408</td>\n",
       "      <td>-125.233859</td>\n",
       "      <td>5.078125</td>\n",
       "      <td>295</td>\n",
       "      <td>330389</td>\n",
       "      <td>0.215660</td>\n",
       "      <td>BFSB</td>\n",
       "      <td>P</td>\n",
       "      <td>1.431402e+09</td>\n",
       "      <td>2015-05-12 03:38:08.558803+00:00</td>\n",
       "    </tr>\n",
       "    <tr>\n",
       "      <th>134</th>\n",
       "      <td>134</td>\n",
       "      <td>1367</td>\n",
       "      <td>315</td>\n",
       "      <td>2015-06-24 23:53:47.135396+00:00</td>\n",
       "      <td>-2.789105</td>\n",
       "      <td>521.851591</td>\n",
       "      <td>12.890625</td>\n",
       "      <td>6</td>\n",
       "      <td>49.194262</td>\n",
       "      <td>-125.538266</td>\n",
       "      <td>12.890625</td>\n",
       "      <td>315</td>\n",
       "      <td>339091</td>\n",
       "      <td>-0.022705</td>\n",
       "      <td>BFSB</td>\n",
       "      <td>P</td>\n",
       "      <td>1.435190e+09</td>\n",
       "      <td>2015-06-24 23:53:47.135396+00:00</td>\n",
       "    </tr>\n",
       "    <tr>\n",
       "      <th>136</th>\n",
       "      <td>136</td>\n",
       "      <td>1379</td>\n",
       "      <td>319</td>\n",
       "      <td>2015-06-29 08:06:07.129287+00:00</td>\n",
       "      <td>13.945525</td>\n",
       "      <td>486.091542</td>\n",
       "      <td>26.953125</td>\n",
       "      <td>6</td>\n",
       "      <td>48.872558</td>\n",
       "      <td>-125.309898</td>\n",
       "      <td>26.953125</td>\n",
       "      <td>319</td>\n",
       "      <td>326222</td>\n",
       "      <td>-0.066143</td>\n",
       "      <td>BFSB</td>\n",
       "      <td>P</td>\n",
       "      <td>1.435565e+09</td>\n",
       "      <td>2015-06-29 08:06:07.129287+00:00</td>\n",
       "    </tr>\n",
       "    <tr>\n",
       "      <th>140</th>\n",
       "      <td>140</td>\n",
       "      <td>1412</td>\n",
       "      <td>327</td>\n",
       "      <td>2015-07-18 18:29:32.649015+00:00</td>\n",
       "      <td>-9.482957</td>\n",
       "      <td>467.496316</td>\n",
       "      <td>17.578125</td>\n",
       "      <td>6</td>\n",
       "      <td>48.705428</td>\n",
       "      <td>-125.628840</td>\n",
       "      <td>17.578125</td>\n",
       "      <td>327</td>\n",
       "      <td>293406</td>\n",
       "      <td>0.644991</td>\n",
       "      <td>BFSB</td>\n",
       "      <td>P</td>\n",
       "      <td>1.437244e+09</td>\n",
       "      <td>2015-07-18 18:29:32.649015+00:00</td>\n",
       "    </tr>\n",
       "    <tr>\n",
       "      <th>141</th>\n",
       "      <td>141</td>\n",
       "      <td>1418</td>\n",
       "      <td>331</td>\n",
       "      <td>2015-07-22 12:03:33.096271+00:00</td>\n",
       "      <td>-0.557821</td>\n",
       "      <td>501.825963</td>\n",
       "      <td>41.796875</td>\n",
       "      <td>6</td>\n",
       "      <td>49.014200</td>\n",
       "      <td>-125.507626</td>\n",
       "      <td>41.796875</td>\n",
       "      <td>331</td>\n",
       "      <td>307508</td>\n",
       "      <td>-0.012576</td>\n",
       "      <td>BFSB</td>\n",
       "      <td>P</td>\n",
       "      <td>1.437567e+09</td>\n",
       "      <td>2015-07-22 12:03:33.096271+00:00</td>\n",
       "    </tr>\n",
       "    <tr>\n",
       "      <th>142</th>\n",
       "      <td>142</td>\n",
       "      <td>1436</td>\n",
       "      <td>336</td>\n",
       "      <td>2015-08-06 10:40:14.131171+00:00</td>\n",
       "      <td>-11.714241</td>\n",
       "      <td>487.521944</td>\n",
       "      <td>24.609375</td>\n",
       "      <td>6</td>\n",
       "      <td>48.885467</td>\n",
       "      <td>-125.659726</td>\n",
       "      <td>24.609375</td>\n",
       "      <td>336</td>\n",
       "      <td>322524</td>\n",
       "      <td>0.007168</td>\n",
       "      <td>BFSB</td>\n",
       "      <td>P</td>\n",
       "      <td>1.438858e+09</td>\n",
       "      <td>2015-08-06 10:40:14.131171+00:00</td>\n",
       "    </tr>\n",
       "    <tr>\n",
       "      <th>148</th>\n",
       "      <td>148</td>\n",
       "      <td>1479</td>\n",
       "      <td>343</td>\n",
       "      <td>2015-08-11 06:49:51.295824+00:00</td>\n",
       "      <td>17.292451</td>\n",
       "      <td>501.825963</td>\n",
       "      <td>12.890625</td>\n",
       "      <td>6</td>\n",
       "      <td>49.013959</td>\n",
       "      <td>-125.263607</td>\n",
       "      <td>12.890625</td>\n",
       "      <td>343</td>\n",
       "      <td>313721</td>\n",
       "      <td>-0.134381</td>\n",
       "      <td>BFSB</td>\n",
       "      <td>P</td>\n",
       "      <td>1.439276e+09</td>\n",
       "      <td>2015-08-11 06:49:51.295824+00:00</td>\n",
       "    </tr>\n",
       "    <tr>\n",
       "      <th>155</th>\n",
       "      <td>155</td>\n",
       "      <td>1557</td>\n",
       "      <td>361</td>\n",
       "      <td>2015-09-05 00:59:46.772567+00:00</td>\n",
       "      <td>-7.251673</td>\n",
       "      <td>518.990787</td>\n",
       "      <td>9.765625</td>\n",
       "      <td>6</td>\n",
       "      <td>49.168502</td>\n",
       "      <td>-125.599441</td>\n",
       "      <td>9.765625</td>\n",
       "      <td>361</td>\n",
       "      <td>335581</td>\n",
       "      <td>-0.139353</td>\n",
       "      <td>BFSB</td>\n",
       "      <td>P</td>\n",
       "      <td>1.441415e+09</td>\n",
       "      <td>2015-09-05 00:59:46.772567+00:00</td>\n",
       "    </tr>\n",
       "    <tr>\n",
       "      <th>156</th>\n",
       "      <td>156</td>\n",
       "      <td>1575</td>\n",
       "      <td>365</td>\n",
       "      <td>2015-09-09 12:35:01.749825+00:00</td>\n",
       "      <td>-27.333229</td>\n",
       "      <td>501.825963</td>\n",
       "      <td>45.703125</td>\n",
       "      <td>6</td>\n",
       "      <td>49.013596</td>\n",
       "      <td>-125.873651</td>\n",
       "      <td>45.703125</td>\n",
       "      <td>365</td>\n",
       "      <td>295992</td>\n",
       "      <td>0.007961</td>\n",
       "      <td>BFSB</td>\n",
       "      <td>P</td>\n",
       "      <td>1.441802e+09</td>\n",
       "      <td>2015-09-09 12:35:01.749825+00:00</td>\n",
       "    </tr>\n",
       "    <tr>\n",
       "      <th>158</th>\n",
       "      <td>158</td>\n",
       "      <td>1587</td>\n",
       "      <td>369</td>\n",
       "      <td>2015-09-14 07:00:14.497886+00:00</td>\n",
       "      <td>-11.714241</td>\n",
       "      <td>467.496316</td>\n",
       "      <td>17.578125</td>\n",
       "      <td>6</td>\n",
       "      <td>48.705390</td>\n",
       "      <td>-125.659156</td>\n",
       "      <td>17.578125</td>\n",
       "      <td>369</td>\n",
       "      <td>290213</td>\n",
       "      <td>0.336083</td>\n",
       "      <td>BFSB</td>\n",
       "      <td>P</td>\n",
       "      <td>1.442214e+09</td>\n",
       "      <td>2015-09-14 07:00:14.497886+00:00</td>\n",
       "    </tr>\n",
       "    <tr>\n",
       "      <th>166</th>\n",
       "      <td>166</td>\n",
       "      <td>1647</td>\n",
       "      <td>383</td>\n",
       "      <td>2015-10-06 23:03:04.382917+00:00</td>\n",
       "      <td>48.530426</td>\n",
       "      <td>491.813149</td>\n",
       "      <td>49.609375</td>\n",
       "      <td>6</td>\n",
       "      <td>48.922264</td>\n",
       "      <td>-124.837788</td>\n",
       "      <td>49.609375</td>\n",
       "      <td>383</td>\n",
       "      <td>286926</td>\n",
       "      <td>0.135280</td>\n",
       "      <td>BFSB</td>\n",
       "      <td>P</td>\n",
       "      <td>1.444173e+09</td>\n",
       "      <td>2015-10-06 23:03:04.382917+00:00</td>\n",
       "    </tr>\n",
       "    <tr>\n",
       "      <th>167</th>\n",
       "      <td>167</td>\n",
       "      <td>1659</td>\n",
       "      <td>385</td>\n",
       "      <td>2015-10-07 07:18:17.076695+00:00</td>\n",
       "      <td>-25.101945</td>\n",
       "      <td>498.965159</td>\n",
       "      <td>8.203125</td>\n",
       "      <td>6</td>\n",
       "      <td>48.987967</td>\n",
       "      <td>-125.842973</td>\n",
       "      <td>8.203125</td>\n",
       "      <td>385</td>\n",
       "      <td>332199</td>\n",
       "      <td>-0.148942</td>\n",
       "      <td>BFSB</td>\n",
       "      <td>P</td>\n",
       "      <td>1.444202e+09</td>\n",
       "      <td>2015-10-07 07:18:17.076695+00:00</td>\n",
       "    </tr>\n",
       "    <tr>\n",
       "      <th>168</th>\n",
       "      <td>168</td>\n",
       "      <td>1665</td>\n",
       "      <td>387</td>\n",
       "      <td>2015-10-12 17:05:13.804009+00:00</td>\n",
       "      <td>-11.714241</td>\n",
       "      <td>487.521944</td>\n",
       "      <td>29.296875</td>\n",
       "      <td>6</td>\n",
       "      <td>48.885467</td>\n",
       "      <td>-125.659726</td>\n",
       "      <td>29.296875</td>\n",
       "      <td>387</td>\n",
       "      <td>316078</td>\n",
       "      <td>0.010637</td>\n",
       "      <td>BFSB</td>\n",
       "      <td>P</td>\n",
       "      <td>1.444670e+09</td>\n",
       "      <td>2015-10-12 17:05:13.804009+00:00</td>\n",
       "    </tr>\n",
       "    <tr>\n",
       "      <th>169</th>\n",
       "      <td>169</td>\n",
       "      <td>1671</td>\n",
       "      <td>390</td>\n",
       "      <td>2015-10-20 20:45:37.271241+00:00</td>\n",
       "      <td>-1.673463</td>\n",
       "      <td>490.382747</td>\n",
       "      <td>27.734375</td>\n",
       "      <td>6</td>\n",
       "      <td>48.911300</td>\n",
       "      <td>-125.522830</td>\n",
       "      <td>27.734375</td>\n",
       "      <td>390</td>\n",
       "      <td>308237</td>\n",
       "      <td>-0.000718</td>\n",
       "      <td>BFSB</td>\n",
       "      <td>P</td>\n",
       "      <td>1.445374e+09</td>\n",
       "      <td>2015-10-20 20:45:37.271241+00:00</td>\n",
       "    </tr>\n",
       "    <tr>\n",
       "      <th>172</th>\n",
       "      <td>172</td>\n",
       "      <td>1689</td>\n",
       "      <td>399</td>\n",
       "      <td>2015-11-05 07:35:14.730687+00:00</td>\n",
       "      <td>18.408093</td>\n",
       "      <td>503.256365</td>\n",
       "      <td>24.609375</td>\n",
       "      <td>6</td>\n",
       "      <td>49.026788</td>\n",
       "      <td>-125.248291</td>\n",
       "      <td>24.609375</td>\n",
       "      <td>399</td>\n",
       "      <td>328717</td>\n",
       "      <td>0.024357</td>\n",
       "      <td>BFSB</td>\n",
       "      <td>P</td>\n",
       "      <td>1.446709e+09</td>\n",
       "      <td>2015-11-05 07:35:14.730687+00:00</td>\n",
       "    </tr>\n",
       "    <tr>\n",
       "      <th>181</th>\n",
       "      <td>181</td>\n",
       "      <td>1746</td>\n",
       "      <td>416</td>\n",
       "      <td>2015-12-04 06:36:30.270926+00:00</td>\n",
       "      <td>21.755019</td>\n",
       "      <td>507.547571</td>\n",
       "      <td>13.671875</td>\n",
       "      <td>6</td>\n",
       "      <td>49.065265</td>\n",
       "      <td>-125.202296</td>\n",
       "      <td>13.671875</td>\n",
       "      <td>416</td>\n",
       "      <td>323773</td>\n",
       "      <td>0.061877</td>\n",
       "      <td>BFSB</td>\n",
       "      <td>P</td>\n",
       "      <td>1.449211e+09</td>\n",
       "      <td>2015-12-04 06:36:30.270926+00:00</td>\n",
       "    </tr>\n",
       "    <tr>\n",
       "      <th>182</th>\n",
       "      <td>182</td>\n",
       "      <td>1752</td>\n",
       "      <td>417</td>\n",
       "      <td>2015-12-04 14:06:40.784533+00:00</td>\n",
       "      <td>-6.136031</td>\n",
       "      <td>484.661140</td>\n",
       "      <td>25.390625</td>\n",
       "      <td>6</td>\n",
       "      <td>48.859822</td>\n",
       "      <td>-125.583623</td>\n",
       "      <td>25.390625</td>\n",
       "      <td>417</td>\n",
       "      <td>323798</td>\n",
       "      <td>-0.011808</td>\n",
       "      <td>BFSB</td>\n",
       "      <td>P</td>\n",
       "      <td>1.449238e+09</td>\n",
       "      <td>2015-12-04 14:06:40.784533+00:00</td>\n",
       "    </tr>\n",
       "    <tr>\n",
       "      <th>183</th>\n",
       "      <td>183</td>\n",
       "      <td>1758</td>\n",
       "      <td>419</td>\n",
       "      <td>2015-12-08 08:24:06.002719+00:00</td>\n",
       "      <td>-10.598599</td>\n",
       "      <td>501.825963</td>\n",
       "      <td>18.359375</td>\n",
       "      <td>6</td>\n",
       "      <td>49.014110</td>\n",
       "      <td>-125.644886</td>\n",
       "      <td>18.359375</td>\n",
       "      <td>419</td>\n",
       "      <td>300153</td>\n",
       "      <td>0.155978</td>\n",
       "      <td>BFSB</td>\n",
       "      <td>P</td>\n",
       "      <td>1.449563e+09</td>\n",
       "      <td>2015-12-08 08:24:06.002719+00:00</td>\n",
       "    </tr>\n",
       "    <tr>\n",
       "      <th>184</th>\n",
       "      <td>184</td>\n",
       "      <td>1764</td>\n",
       "      <td>420</td>\n",
       "      <td>2015-12-09 04:55:58.410071+00:00</td>\n",
       "      <td>-11.714241</td>\n",
       "      <td>514.699581</td>\n",
       "      <td>12.890625</td>\n",
       "      <td>6</td>\n",
       "      <td>49.129848</td>\n",
       "      <td>-125.660510</td>\n",
       "      <td>12.890625</td>\n",
       "      <td>420</td>\n",
       "      <td>302352</td>\n",
       "      <td>0.016868</td>\n",
       "      <td>BFSB</td>\n",
       "      <td>P</td>\n",
       "      <td>1.449637e+09</td>\n",
       "      <td>2015-12-09 04:55:58.410071+00:00</td>\n",
       "    </tr>\n",
       "    <tr>\n",
       "      <th>185</th>\n",
       "      <td>185</td>\n",
       "      <td>1770</td>\n",
       "      <td>421</td>\n",
       "      <td>2015-12-10 11:49:32.628968+00:00</td>\n",
       "      <td>-11.714241</td>\n",
       "      <td>493.243551</td>\n",
       "      <td>23.828125</td>\n",
       "      <td>6</td>\n",
       "      <td>48.936916</td>\n",
       "      <td>-125.659891</td>\n",
       "      <td>23.828125</td>\n",
       "      <td>421</td>\n",
       "      <td>285327</td>\n",
       "      <td>-0.059377</td>\n",
       "      <td>BFSB</td>\n",
       "      <td>P</td>\n",
       "      <td>1.449748e+09</td>\n",
       "      <td>2015-12-10 11:49:32.628968+00:00</td>\n",
       "    </tr>\n",
       "    <tr>\n",
       "      <th>186</th>\n",
       "      <td>186</td>\n",
       "      <td>1776</td>\n",
       "      <td>422</td>\n",
       "      <td>2015-12-13 01:35:34.220311+00:00</td>\n",
       "      <td>-19.523735</td>\n",
       "      <td>513.269179</td>\n",
       "      <td>32.421875</td>\n",
       "      <td>6</td>\n",
       "      <td>49.116787</td>\n",
       "      <td>-125.767447</td>\n",
       "      <td>32.421875</td>\n",
       "      <td>422</td>\n",
       "      <td>296042</td>\n",
       "      <td>-0.202658</td>\n",
       "      <td>BFSB</td>\n",
       "      <td>P</td>\n",
       "      <td>1.449971e+09</td>\n",
       "      <td>2015-12-13 01:35:34.220311+00:00</td>\n",
       "    </tr>\n",
       "  </tbody>\n",
       "</table>\n",
       "</div>"
      ],
      "text/plain": [
       "     Unnamed: 0.1  Unnamed: 0  idx                              time  \\\n",
       "3               3          37    9  2011-06-06 04:06:42.542511+00:00   \n",
       "15             15         228   49  2011-11-20 10:35:26.432618+00:00   \n",
       "17             17         247   52  2011-12-05 14:39:02.869818+00:00   \n",
       "49             49         486   99  2012-02-20 04:40:13.744430+00:00   \n",
       "88             88         914  192  2014-05-03 10:15:05.467782+00:00   \n",
       "90             90         929  194  2014-05-06 07:42:04.687438+00:00   \n",
       "106           106        1110  244  2015-01-02 20:07:37.145226+00:00   \n",
       "108           108        1142  252  2015-01-25 20:57:40.571090+00:00   \n",
       "110           110        1161  259  2015-02-14 18:10:14.345933+00:00   \n",
       "116           116        1223  276  2015-03-26 12:16:56.450603+00:00   \n",
       "119           119        1247  282  2015-04-19 18:00:46.554775+00:00   \n",
       "120           120        1253  283  2015-04-19 21:13:19.086199+00:00   \n",
       "121           121        1259  284  2015-04-20 04:24:38.883577+00:00   \n",
       "123           123        1284  290  2015-04-27 15:33:52.421529+00:00   \n",
       "124           124        1290  292  2015-05-07 08:17:42.823929+00:00   \n",
       "125           125        1310  295  2015-05-12 03:38:08.558803+00:00   \n",
       "134           134        1367  315  2015-06-24 23:53:47.135396+00:00   \n",
       "136           136        1379  319  2015-06-29 08:06:07.129287+00:00   \n",
       "140           140        1412  327  2015-07-18 18:29:32.649015+00:00   \n",
       "141           141        1418  331  2015-07-22 12:03:33.096271+00:00   \n",
       "142           142        1436  336  2015-08-06 10:40:14.131171+00:00   \n",
       "148           148        1479  343  2015-08-11 06:49:51.295824+00:00   \n",
       "155           155        1557  361  2015-09-05 00:59:46.772567+00:00   \n",
       "156           156        1575  365  2015-09-09 12:35:01.749825+00:00   \n",
       "158           158        1587  369  2015-09-14 07:00:14.497886+00:00   \n",
       "166           166        1647  383  2015-10-06 23:03:04.382917+00:00   \n",
       "167           167        1659  385  2015-10-07 07:18:17.076695+00:00   \n",
       "168           168        1665  387  2015-10-12 17:05:13.804009+00:00   \n",
       "169           169        1671  390  2015-10-20 20:45:37.271241+00:00   \n",
       "172           172        1689  399  2015-11-05 07:35:14.730687+00:00   \n",
       "181           181        1746  416  2015-12-04 06:36:30.270926+00:00   \n",
       "182           182        1752  417  2015-12-04 14:06:40.784533+00:00   \n",
       "183           183        1758  419  2015-12-08 08:24:06.002719+00:00   \n",
       "184           184        1764  420  2015-12-09 04:55:58.410071+00:00   \n",
       "185           185        1770  421  2015-12-10 11:49:32.628968+00:00   \n",
       "186           186        1776  422  2015-12-13 01:35:34.220311+00:00   \n",
       "\n",
       "              x           y          z  picks   latitude   longitude  \\\n",
       "3     50.761710  374.520189  16.015625      6  47.867349 -124.821515   \n",
       "15   114.353303  403.128228  16.015625      6  48.116379 -123.964158   \n",
       "17   111.006378  375.950591  37.890625      7  47.872629 -124.016117   \n",
       "49   -36.258365  498.965159  49.609375      6  48.987413 -125.995400   \n",
       "88   -29.564513  500.395561  12.890625      6  49.000631 -125.904048   \n",
       "90   -45.183500  491.813149  12.890625      6  48.922517 -126.116545   \n",
       "106   23.986303  501.825963  12.890625      6  49.013735 -125.172102   \n",
       "108   18.408093  486.091542   8.203125      6  48.872442 -125.249066   \n",
       "110  -11.714241  467.496316  12.890625      6  48.705390 -125.659156   \n",
       "116    9.482957  491.813149  30.859375      6  48.924092 -125.370598   \n",
       "119  -25.101945  468.926718  44.140625      6  48.717858 -125.841133   \n",
       "120   -6.136031  521.851591  12.109375      6  49.194238 -125.584186   \n",
       "121  -26.217587  498.965159  12.890625      6  48.987920 -125.858216   \n",
       "123    0.557821  468.926718  44.921875      6  48.718363 -125.492419   \n",
       "124  -12.829883  467.496316  17.578125      6  48.705369 -125.674313   \n",
       "125   19.523735  486.091542   5.078125      6  48.872408 -125.233859   \n",
       "134   -2.789105  521.851591  12.890625      6  49.194262 -125.538266   \n",
       "136   13.945525  486.091542  26.953125      6  48.872558 -125.309898   \n",
       "140   -9.482957  467.496316  17.578125      6  48.705428 -125.628840   \n",
       "141   -0.557821  501.825963  41.796875      6  49.014200 -125.507626   \n",
       "142  -11.714241  487.521944  24.609375      6  48.885467 -125.659726   \n",
       "148   17.292451  501.825963  12.890625      6  49.013959 -125.263607   \n",
       "155   -7.251673  518.990787   9.765625      6  49.168502 -125.599441   \n",
       "156  -27.333229  501.825963  45.703125      6  49.013596 -125.873651   \n",
       "158  -11.714241  467.496316  17.578125      6  48.705390 -125.659156   \n",
       "166   48.530426  491.813149  49.609375      6  48.922264 -124.837788   \n",
       "167  -25.101945  498.965159   8.203125      6  48.987967 -125.842973   \n",
       "168  -11.714241  487.521944  29.296875      6  48.885467 -125.659726   \n",
       "169   -1.673463  490.382747  27.734375      6  48.911300 -125.522830   \n",
       "172   18.408093  503.256365  24.609375      6  49.026788 -125.248291   \n",
       "181   21.755019  507.547571  13.671875      6  49.065265 -125.202296   \n",
       "182   -6.136031  484.661140  25.390625      6  48.859822 -125.583623   \n",
       "183  -10.598599  501.825963  18.359375      6  49.014110 -125.644886   \n",
       "184  -11.714241  514.699581  12.890625      6  49.129848 -125.660510   \n",
       "185  -11.714241  493.243551  23.828125      6  48.936916 -125.659891   \n",
       "186  -19.523735  513.269179  32.421875      6  49.116787 -125.767447   \n",
       "\n",
       "         depth  event_idx  pick_idx  residual station phase     time_pick  \\\n",
       "3    16.015625          9    348924 -0.131171    FORK     P  1.307333e+09   \n",
       "15   16.015625         49    388595 -1.141335    FORK     P  1.321785e+09   \n",
       "17   37.890625         52    394856  0.450689    FORK     P  1.323096e+09   \n",
       "49   49.609375         99     82248 -0.057920    J73A     P  1.329713e+09   \n",
       "88   12.890625        192    209399  0.032988    BFSB     P  1.399112e+09   \n",
       "90   12.890625        194    177128  0.248117    BFSB     P  1.399362e+09   \n",
       "106  12.890625        244    300961  0.106112    BFSB     P  1.420229e+09   \n",
       "108   8.203125        252    284497  0.125469    BFSB     P  1.422219e+09   \n",
       "110  12.890625        259    318261  0.340261    BFSB     P  1.423937e+09   \n",
       "116  30.859375        276    343183 -0.128716    BFSB     P  1.427372e+09   \n",
       "119  44.140625        282    278898  0.088696    BFSB     P  1.429466e+09   \n",
       "120  12.109375        283    278903 -0.073729    BFSB     P  1.429478e+09   \n",
       "121  12.890625        284    296182  0.000448    BFSB     P  1.429504e+09   \n",
       "123  44.921875        290    322125 -0.138834    BFSB     P  1.430149e+09   \n",
       "124  17.578125        292    334066  0.529291    BFSB     P  1.430987e+09   \n",
       "125   5.078125        295    330389  0.215660    BFSB     P  1.431402e+09   \n",
       "134  12.890625        315    339091 -0.022705    BFSB     P  1.435190e+09   \n",
       "136  26.953125        319    326222 -0.066143    BFSB     P  1.435565e+09   \n",
       "140  17.578125        327    293406  0.644991    BFSB     P  1.437244e+09   \n",
       "141  41.796875        331    307508 -0.012576    BFSB     P  1.437567e+09   \n",
       "142  24.609375        336    322524  0.007168    BFSB     P  1.438858e+09   \n",
       "148  12.890625        343    313721 -0.134381    BFSB     P  1.439276e+09   \n",
       "155   9.765625        361    335581 -0.139353    BFSB     P  1.441415e+09   \n",
       "156  45.703125        365    295992  0.007961    BFSB     P  1.441802e+09   \n",
       "158  17.578125        369    290213  0.336083    BFSB     P  1.442214e+09   \n",
       "166  49.609375        383    286926  0.135280    BFSB     P  1.444173e+09   \n",
       "167   8.203125        385    332199 -0.148942    BFSB     P  1.444202e+09   \n",
       "168  29.296875        387    316078  0.010637    BFSB     P  1.444670e+09   \n",
       "169  27.734375        390    308237 -0.000718    BFSB     P  1.445374e+09   \n",
       "172  24.609375        399    328717  0.024357    BFSB     P  1.446709e+09   \n",
       "181  13.671875        416    323773  0.061877    BFSB     P  1.449211e+09   \n",
       "182  25.390625        417    323798 -0.011808    BFSB     P  1.449238e+09   \n",
       "183  18.359375        419    300153  0.155978    BFSB     P  1.449563e+09   \n",
       "184  12.890625        420    302352  0.016868    BFSB     P  1.449637e+09   \n",
       "185  23.828125        421    285327 -0.059377    BFSB     P  1.449748e+09   \n",
       "186  32.421875        422    296042 -0.202658    BFSB     P  1.449971e+09   \n",
       "\n",
       "                             datetime  \n",
       "3    2011-06-06 04:06:42.542511+00:00  \n",
       "15   2011-11-20 10:35:26.432618+00:00  \n",
       "17   2011-12-05 14:39:02.869818+00:00  \n",
       "49   2012-02-20 04:40:13.744430+00:00  \n",
       "88   2014-05-03 10:15:05.467782+00:00  \n",
       "90   2014-05-06 07:42:04.687438+00:00  \n",
       "106  2015-01-02 20:07:37.145226+00:00  \n",
       "108  2015-01-25 20:57:40.571090+00:00  \n",
       "110  2015-02-14 18:10:14.345933+00:00  \n",
       "116  2015-03-26 12:16:56.450603+00:00  \n",
       "119  2015-04-19 18:00:46.554775+00:00  \n",
       "120  2015-04-19 21:13:19.086199+00:00  \n",
       "121  2015-04-20 04:24:38.883577+00:00  \n",
       "123  2015-04-27 15:33:52.421529+00:00  \n",
       "124  2015-05-07 08:17:42.823929+00:00  \n",
       "125  2015-05-12 03:38:08.558803+00:00  \n",
       "134  2015-06-24 23:53:47.135396+00:00  \n",
       "136  2015-06-29 08:06:07.129287+00:00  \n",
       "140  2015-07-18 18:29:32.649015+00:00  \n",
       "141  2015-07-22 12:03:33.096271+00:00  \n",
       "142  2015-08-06 10:40:14.131171+00:00  \n",
       "148  2015-08-11 06:49:51.295824+00:00  \n",
       "155  2015-09-05 00:59:46.772567+00:00  \n",
       "156  2015-09-09 12:35:01.749825+00:00  \n",
       "158  2015-09-14 07:00:14.497886+00:00  \n",
       "166  2015-10-06 23:03:04.382917+00:00  \n",
       "167  2015-10-07 07:18:17.076695+00:00  \n",
       "168  2015-10-12 17:05:13.804009+00:00  \n",
       "169  2015-10-20 20:45:37.271241+00:00  \n",
       "172  2015-11-05 07:35:14.730687+00:00  \n",
       "181  2015-12-04 06:36:30.270926+00:00  \n",
       "182  2015-12-04 14:06:40.784533+00:00  \n",
       "183  2015-12-08 08:24:06.002719+00:00  \n",
       "184  2015-12-09 04:55:58.410071+00:00  \n",
       "185  2015-12-10 11:49:32.628968+00:00  \n",
       "186  2015-12-13 01:35:34.220311+00:00  "
      ]
     },
     "execution_count": 12,
     "metadata": {},
     "output_type": "execute_result"
    }
   ],
   "source": [
    "\"\"\"\n",
    "Inputs:\n",
    "1. Either of the following files can be the input:\n",
    "    1. matched_events_with_morton_mycatalog.csv from the 4_quality_control file\n",
    "    2. matched_events_with_anss_mycatalog.csv from the 4_quality_control file\n",
    "    3. new_events.csv from the 4_quality_control file\n",
    "2. The all_pick_assignments CSV file from the 3_associate file: e.g., all_pick_assignments = pd.read_csv('../data/datasets_2012/all_pick_assignments_2012.csv')\n",
    "\n",
    "\n",
    "Outputs:\n",
    "1. A new dataframe that only has events that fall into the following categories:\n",
    "    1. For an event, at least two stations have to be less than 50 km from the event and no station can be 100 km apart from each other.\n",
    "2. An event has to have more than or equal to 6 picks\n",
    "\"\"\"\n",
    "\n",
    "# Parameters\n",
    "client2 = Client(\"IRIS\")\n",
    "\n",
    "mycatalog = all_pick_assignments.drop_duplicates(subset=['idx'])\n",
    "mycatalog['datetime'] = pd.to_datetime(mycatalog['time'], utc = True)\n",
    "\n",
    "for i, idx in tqdm(enumerate(events['idx']),total=len(events['idx'])):\n",
    "    event = mycatalog\n",
    "    picks = all_pick_assignments\n",
    "    picks_idx = picks.loc[picks['idx']==idx]\n",
    "    pick_sta = np.unique(picks_idx['station'])\n",
    "    otime = UTCDateTime(str(event[event['idx'] == idx][\"datetime\"].values[0]))\n",
    "    distances = []\n",
    "    max_dist = 10\n",
    "    min_dist = 0\n",
    "    for station in pick_sta:\n",
    "\n",
    "\n",
    "        sta_inv = client2.get_stations(network='*',\n",
    "                                       station=station, channel=\"?H?\", \n",
    "                                       starttime=otime - 1e8, endtime=otime + 1e8,level=\"response\")\n",
    "        if len(sta_inv) == 0:\n",
    "            print(f\"Failed to fetch for {networks} {station} {otime}\")\n",
    "            continue\n",
    "\n",
    "        _network = sta_inv[0].code\n",
    "        slat = sta_inv[0][0].latitude\n",
    "        slon = sta_inv[0][0].longitude\n",
    "        olat = event.loc[event['idx']==idx, 'latitude'].values[0]\n",
    "        olon = event.loc[event['idx']==idx, 'longitude'].values[0]\n",
    "\n",
    "        dis1 = locations2degrees(olat, olon, slat, slon)\n",
    "        dist = degrees2kilometers(dis1)\n",
    "\n",
    "        distances.append([None, _network, station, dist])\n",
    "\n",
    "    # Sort distances\n",
    "    distances = sorted(distances, key=lambda item: item[-1])\n",
    "\n",
    "    # This is for the first criterion in the markdown above\n",
    "    # Determine if any two of the numbers in the distances list are less than or equal to 50\n",
    "    found = False\n",
    "    for i in range(len(distances)):\n",
    "        for j in range(i + 1, len(distances)):\n",
    "            if distances[i][3] <= 50 and distances[j][3] <= 50:\n",
    "                found = True\n",
    "                break\n",
    "        if found:\n",
    "            break\n",
    "\n",
    "    # Make a list that includes the differences between the consecutive numbers in the distances list.\n",
    "    differences = [distances[i+1][3] - distances[i][3] for i in range(len(distances) - 1)]\n",
    "\n",
    "    if found == False: # If there were not at least two distances between the station and the event less than or equal to 50 km\n",
    "        print(distances)\n",
    "        index = events[events['idx'] == idx].index\n",
    "        events = events.drop(index=index)\n",
    "\n",
    "    elif any(differences > 100 for differences in differences): # If any of the distances between two stations were greater than 100 km\n",
    "        print(distances)\n",
    "        index = events[events['idx'] == idx].index\n",
    "        events = events.drop(index=index)\n",
    "\n",
    "    else: \n",
    "        continue\n",
    "\n",
    "\n",
    "events "
   ]
  },
  {
   "cell_type": "code",
   "execution_count": null,
   "id": "c3444633",
   "metadata": {
    "scrolled": true
   },
   "outputs": [],
   "source": [
    "new_events_filtered = filter_sta(new_events, mycatalog_picks)"
   ]
  },
  {
   "cell_type": "code",
   "execution_count": null,
   "id": "8da81e6d",
   "metadata": {},
   "outputs": [],
   "source": [
    "new_events_filtered.to_csv(f'../data/datasets_{year}/new_events_filtered_{year}.csv')"
   ]
  },
  {
   "cell_type": "code",
   "execution_count": 13,
   "id": "1f4637d1",
   "metadata": {},
   "outputs": [],
   "source": [
    "events.to_csv(f'../data/datasets_{year}/new_events_filtered_{year}.csv')"
   ]
  },
  {
   "cell_type": "code",
   "execution_count": 41,
   "id": "575d60f4",
   "metadata": {},
   "outputs": [
    {
     "data": {
      "text/html": [
       "<div>\n",
       "<style scoped>\n",
       "    .dataframe tbody tr th:only-of-type {\n",
       "        vertical-align: middle;\n",
       "    }\n",
       "\n",
       "    .dataframe tbody tr th {\n",
       "        vertical-align: top;\n",
       "    }\n",
       "\n",
       "    .dataframe thead th {\n",
       "        text-align: right;\n",
       "    }\n",
       "</style>\n",
       "<table border=\"1\" class=\"dataframe\">\n",
       "  <thead>\n",
       "    <tr style=\"text-align: right;\">\n",
       "      <th></th>\n",
       "      <th>Unnamed: 0.1</th>\n",
       "      <th>Unnamed: 0</th>\n",
       "      <th>idx</th>\n",
       "      <th>time</th>\n",
       "      <th>x</th>\n",
       "      <th>y</th>\n",
       "      <th>z</th>\n",
       "      <th>picks</th>\n",
       "      <th>latitude</th>\n",
       "      <th>longitude</th>\n",
       "      <th>depth</th>\n",
       "      <th>event_idx</th>\n",
       "      <th>pick_idx</th>\n",
       "      <th>residual</th>\n",
       "      <th>station</th>\n",
       "      <th>phase</th>\n",
       "      <th>time_pick</th>\n",
       "      <th>datetime</th>\n",
       "    </tr>\n",
       "  </thead>\n",
       "  <tbody>\n",
       "    <tr>\n",
       "      <th>0</th>\n",
       "      <td>0</td>\n",
       "      <td>0</td>\n",
       "      <td>2</td>\n",
       "      <td>2011-08-09 10:26:19.327686+00:00</td>\n",
       "      <td>88.408817</td>\n",
       "      <td>254.877921</td>\n",
       "      <td>0.390625</td>\n",
       "      <td>6</td>\n",
       "      <td>46.787357</td>\n",
       "      <td>-124.342163</td>\n",
       "      <td>0.390625</td>\n",
       "      <td>2</td>\n",
       "      <td>2109680</td>\n",
       "      <td>-0.551091</td>\n",
       "      <td>FN07A</td>\n",
       "      <td>P</td>\n",
       "      <td>1.312886e+09</td>\n",
       "      <td>2011-08-09 10:26:19.327686+00:00</td>\n",
       "    </tr>\n",
       "    <tr>\n",
       "      <th>1</th>\n",
       "      <td>1</td>\n",
       "      <td>12</td>\n",
       "      <td>34</td>\n",
       "      <td>2011-10-16 22:22:10.456747+00:00</td>\n",
       "      <td>53.722104</td>\n",
       "      <td>262.057644</td>\n",
       "      <td>0.390625</td>\n",
       "      <td>6</td>\n",
       "      <td>46.855631</td>\n",
       "      <td>-124.795545</td>\n",
       "      <td>0.390625</td>\n",
       "      <td>34</td>\n",
       "      <td>1965245</td>\n",
       "      <td>-1.060968</td>\n",
       "      <td>FN07A</td>\n",
       "      <td>P</td>\n",
       "      <td>1.318804e+09</td>\n",
       "      <td>2011-10-16 22:22:10.456747+00:00</td>\n",
       "    </tr>\n",
       "    <tr>\n",
       "      <th>3</th>\n",
       "      <td>3</td>\n",
       "      <td>32</td>\n",
       "      <td>65</td>\n",
       "      <td>2011-10-22 21:20:51.997895+00:00</td>\n",
       "      <td>53.722104</td>\n",
       "      <td>259.664403</td>\n",
       "      <td>8.984375</td>\n",
       "      <td>6</td>\n",
       "      <td>46.834105</td>\n",
       "      <td>-124.795826</td>\n",
       "      <td>8.984375</td>\n",
       "      <td>65</td>\n",
       "      <td>1885860</td>\n",
       "      <td>0.724684</td>\n",
       "      <td>FN07A</td>\n",
       "      <td>P</td>\n",
       "      <td>1.319318e+09</td>\n",
       "      <td>2011-10-22 21:20:51.997895+00:00</td>\n",
       "    </tr>\n",
       "    <tr>\n",
       "      <th>4</th>\n",
       "      <td>4</td>\n",
       "      <td>38</td>\n",
       "      <td>84</td>\n",
       "      <td>2011-10-26 15:45:12.545541+00:00</td>\n",
       "      <td>55.414139</td>\n",
       "      <td>257.271162</td>\n",
       "      <td>12.890625</td>\n",
       "      <td>6</td>\n",
       "      <td>46.812439</td>\n",
       "      <td>-124.773939</td>\n",
       "      <td>12.890625</td>\n",
       "      <td>84</td>\n",
       "      <td>2111346</td>\n",
       "      <td>1.229328</td>\n",
       "      <td>FN07A</td>\n",
       "      <td>P</td>\n",
       "      <td>1.319644e+09</td>\n",
       "      <td>2011-10-26 15:45:12.545541+00:00</td>\n",
       "    </tr>\n",
       "    <tr>\n",
       "      <th>5</th>\n",
       "      <td>5</td>\n",
       "      <td>44</td>\n",
       "      <td>98</td>\n",
       "      <td>2011-10-30 16:30:50.644314+00:00</td>\n",
       "      <td>54.568121</td>\n",
       "      <td>276.417089</td>\n",
       "      <td>7.421875</td>\n",
       "      <td>6</td>\n",
       "      <td>46.984720</td>\n",
       "      <td>-124.782730</td>\n",
       "      <td>7.421875</td>\n",
       "      <td>98</td>\n",
       "      <td>1988348</td>\n",
       "      <td>1.249747</td>\n",
       "      <td>FN07A</td>\n",
       "      <td>P</td>\n",
       "      <td>1.319992e+09</td>\n",
       "      <td>2011-10-30 16:30:50.644314+00:00</td>\n",
       "    </tr>\n",
       "    <tr>\n",
       "      <th>...</th>\n",
       "      <td>...</td>\n",
       "      <td>...</td>\n",
       "      <td>...</td>\n",
       "      <td>...</td>\n",
       "      <td>...</td>\n",
       "      <td>...</td>\n",
       "      <td>...</td>\n",
       "      <td>...</td>\n",
       "      <td>...</td>\n",
       "      <td>...</td>\n",
       "      <td>...</td>\n",
       "      <td>...</td>\n",
       "      <td>...</td>\n",
       "      <td>...</td>\n",
       "      <td>...</td>\n",
       "      <td>...</td>\n",
       "      <td>...</td>\n",
       "      <td>...</td>\n",
       "    </tr>\n",
       "    <tr>\n",
       "      <th>16139</th>\n",
       "      <td>16139</td>\n",
       "      <td>100086</td>\n",
       "      <td>62680</td>\n",
       "      <td>2014-06-27 07:59:17.730075+00:00</td>\n",
       "      <td>41.031843</td>\n",
       "      <td>308.725840</td>\n",
       "      <td>13.671875</td>\n",
       "      <td>6</td>\n",
       "      <td>47.276299</td>\n",
       "      <td>-124.957702</td>\n",
       "      <td>13.671875</td>\n",
       "      <td>62680</td>\n",
       "      <td>1835238</td>\n",
       "      <td>1.220912</td>\n",
       "      <td>FN09C</td>\n",
       "      <td>P</td>\n",
       "      <td>1.403856e+09</td>\n",
       "      <td>2014-06-27 07:59:17.730075+00:00</td>\n",
       "    </tr>\n",
       "    <tr>\n",
       "      <th>16140</th>\n",
       "      <td>16140</td>\n",
       "      <td>100092</td>\n",
       "      <td>62681</td>\n",
       "      <td>2014-06-27 08:00:36.709904+00:00</td>\n",
       "      <td>51.184052</td>\n",
       "      <td>264.450885</td>\n",
       "      <td>0.390625</td>\n",
       "      <td>6</td>\n",
       "      <td>46.877358</td>\n",
       "      <td>-124.828555</td>\n",
       "      <td>0.390625</td>\n",
       "      <td>62681</td>\n",
       "      <td>3738781</td>\n",
       "      <td>0.753338</td>\n",
       "      <td>FN03C</td>\n",
       "      <td>S</td>\n",
       "      <td>1.403856e+09</td>\n",
       "      <td>2014-06-27 08:00:36.709904+00:00</td>\n",
       "    </tr>\n",
       "    <tr>\n",
       "      <th>16142</th>\n",
       "      <td>16142</td>\n",
       "      <td>100104</td>\n",
       "      <td>62692</td>\n",
       "      <td>2014-06-27 09:52:36.180245+00:00</td>\n",
       "      <td>47.799982</td>\n",
       "      <td>256.074542</td>\n",
       "      <td>7.421875</td>\n",
       "      <td>6</td>\n",
       "      <td>46.802265</td>\n",
       "      <td>-124.873822</td>\n",
       "      <td>7.421875</td>\n",
       "      <td>62692</td>\n",
       "      <td>1710667</td>\n",
       "      <td>1.188087</td>\n",
       "      <td>FN03C</td>\n",
       "      <td>P</td>\n",
       "      <td>1.403863e+09</td>\n",
       "      <td>2014-06-27 09:52:36.180245+00:00</td>\n",
       "    </tr>\n",
       "    <tr>\n",
       "      <th>16143</th>\n",
       "      <td>16143</td>\n",
       "      <td>100110</td>\n",
       "      <td>62698</td>\n",
       "      <td>2014-06-27 12:02:50.342653+00:00</td>\n",
       "      <td>24.957513</td>\n",
       "      <td>254.877921</td>\n",
       "      <td>10.546875</td>\n",
       "      <td>6</td>\n",
       "      <td>46.792747</td>\n",
       "      <td>-125.173115</td>\n",
       "      <td>10.546875</td>\n",
       "      <td>62698</td>\n",
       "      <td>1699516</td>\n",
       "      <td>0.718257</td>\n",
       "      <td>FN08C</td>\n",
       "      <td>P</td>\n",
       "      <td>1.403871e+09</td>\n",
       "      <td>2014-06-27 12:02:50.342653+00:00</td>\n",
       "    </tr>\n",
       "    <tr>\n",
       "      <th>16148</th>\n",
       "      <td>16148</td>\n",
       "      <td>100140</td>\n",
       "      <td>62716</td>\n",
       "      <td>2014-06-27 17:17:17.915898+00:00</td>\n",
       "      <td>95.176956</td>\n",
       "      <td>264.450885</td>\n",
       "      <td>12.890625</td>\n",
       "      <td>6</td>\n",
       "      <td>46.872519</td>\n",
       "      <td>-124.251554</td>\n",
       "      <td>12.890625</td>\n",
       "      <td>62716</td>\n",
       "      <td>716310</td>\n",
       "      <td>1.359923</td>\n",
       "      <td>FN02C</td>\n",
       "      <td>P</td>\n",
       "      <td>1.403889e+09</td>\n",
       "      <td>2014-06-27 17:17:17.915898+00:00</td>\n",
       "    </tr>\n",
       "  </tbody>\n",
       "</table>\n",
       "<p>9556 rows × 18 columns</p>\n",
       "</div>"
      ],
      "text/plain": [
       "       Unnamed: 0.1  Unnamed: 0    idx                              time  \\\n",
       "0                 0           0      2  2011-08-09 10:26:19.327686+00:00   \n",
       "1                 1          12     34  2011-10-16 22:22:10.456747+00:00   \n",
       "3                 3          32     65  2011-10-22 21:20:51.997895+00:00   \n",
       "4                 4          38     84  2011-10-26 15:45:12.545541+00:00   \n",
       "5                 5          44     98  2011-10-30 16:30:50.644314+00:00   \n",
       "...             ...         ...    ...                               ...   \n",
       "16139         16139      100086  62680  2014-06-27 07:59:17.730075+00:00   \n",
       "16140         16140      100092  62681  2014-06-27 08:00:36.709904+00:00   \n",
       "16142         16142      100104  62692  2014-06-27 09:52:36.180245+00:00   \n",
       "16143         16143      100110  62698  2014-06-27 12:02:50.342653+00:00   \n",
       "16148         16148      100140  62716  2014-06-27 17:17:17.915898+00:00   \n",
       "\n",
       "               x           y          z  picks   latitude   longitude  \\\n",
       "0      88.408817  254.877921   0.390625      6  46.787357 -124.342163   \n",
       "1      53.722104  262.057644   0.390625      6  46.855631 -124.795545   \n",
       "3      53.722104  259.664403   8.984375      6  46.834105 -124.795826   \n",
       "4      55.414139  257.271162  12.890625      6  46.812439 -124.773939   \n",
       "5      54.568121  276.417089   7.421875      6  46.984720 -124.782730   \n",
       "...          ...         ...        ...    ...        ...         ...   \n",
       "16139  41.031843  308.725840  13.671875      6  47.276299 -124.957702   \n",
       "16140  51.184052  264.450885   0.390625      6  46.877358 -124.828555   \n",
       "16142  47.799982  256.074542   7.421875      6  46.802265 -124.873822   \n",
       "16143  24.957513  254.877921  10.546875      6  46.792747 -125.173115   \n",
       "16148  95.176956  264.450885  12.890625      6  46.872519 -124.251554   \n",
       "\n",
       "           depth  event_idx  pick_idx  residual station phase     time_pick  \\\n",
       "0       0.390625          2   2109680 -0.551091   FN07A     P  1.312886e+09   \n",
       "1       0.390625         34   1965245 -1.060968   FN07A     P  1.318804e+09   \n",
       "3       8.984375         65   1885860  0.724684   FN07A     P  1.319318e+09   \n",
       "4      12.890625         84   2111346  1.229328   FN07A     P  1.319644e+09   \n",
       "5       7.421875         98   1988348  1.249747   FN07A     P  1.319992e+09   \n",
       "...          ...        ...       ...       ...     ...   ...           ...   \n",
       "16139  13.671875      62680   1835238  1.220912   FN09C     P  1.403856e+09   \n",
       "16140   0.390625      62681   3738781  0.753338   FN03C     S  1.403856e+09   \n",
       "16142   7.421875      62692   1710667  1.188087   FN03C     P  1.403863e+09   \n",
       "16143  10.546875      62698   1699516  0.718257   FN08C     P  1.403871e+09   \n",
       "16148  12.890625      62716    716310  1.359923   FN02C     P  1.403889e+09   \n",
       "\n",
       "                               datetime  \n",
       "0      2011-08-09 10:26:19.327686+00:00  \n",
       "1      2011-10-16 22:22:10.456747+00:00  \n",
       "3      2011-10-22 21:20:51.997895+00:00  \n",
       "4      2011-10-26 15:45:12.545541+00:00  \n",
       "5      2011-10-30 16:30:50.644314+00:00  \n",
       "...                                 ...  \n",
       "16139  2014-06-27 07:59:17.730075+00:00  \n",
       "16140  2014-06-27 08:00:36.709904+00:00  \n",
       "16142  2014-06-27 09:52:36.180245+00:00  \n",
       "16143  2014-06-27 12:02:50.342653+00:00  \n",
       "16148  2014-06-27 17:17:17.915898+00:00  \n",
       "\n",
       "[9556 rows x 18 columns]"
      ]
     },
     "execution_count": 41,
     "metadata": {},
     "output_type": "execute_result"
    }
   ],
   "source": [
    "events"
   ]
  },
  {
   "cell_type": "code",
   "execution_count": null,
   "id": "96d11af4",
   "metadata": {},
   "outputs": [],
   "source": [
    "count = 0\n",
    "for i, idx in enumerate(range(0,10,1)):\n",
    "    print(i,idx,count)\n",
    "    count+=1\n",
    "\n",
    "print(count)"
   ]
  },
  {
   "cell_type": "code",
   "execution_count": null,
   "id": "65d60411",
   "metadata": {},
   "outputs": [],
   "source": [
    "new_events"
   ]
  },
  {
   "cell_type": "markdown",
   "id": "d9aaac94",
   "metadata": {},
   "source": [
    "## Plot using the plotting functions"
   ]
  },
  {
   "cell_type": "code",
   "execution_count": null,
   "id": "84953e3a",
   "metadata": {},
   "outputs": [],
   "source": [
    "all_picks = pd.read_csv('../data/datasets_2014/all_picks_2014_for_assoc.csv')"
   ]
  },
  {
   "cell_type": "code",
   "execution_count": null,
   "id": "444b3861",
   "metadata": {},
   "outputs": [],
   "source": [
    "all_picks"
   ]
  },
  {
   "cell_type": "code",
   "execution_count": null,
   "id": "921e15bb",
   "metadata": {},
   "outputs": [],
   "source": [
    "all_picks_networks = all_picks['station_network_code'].drop_duplicates()\n",
    "list_networks = list(all_picks_networks)\n",
    "all_picks_networks = ','.join(all_picks_networks)\n",
    "all_picks_networks"
   ]
  },
  {
   "cell_type": "code",
   "execution_count": null,
   "id": "41a4493d",
   "metadata": {},
   "outputs": [],
   "source": [
    "list_networks"
   ]
  },
  {
   "cell_type": "code",
   "execution_count": null,
   "id": "b7d7dc2b",
   "metadata": {},
   "outputs": [],
   "source": [
    "# Clean up the memory\n",
    "del all_picks"
   ]
  },
  {
   "cell_type": "markdown",
   "id": "1ca3946e",
   "metadata": {},
   "source": [
    "## Plot the offshore events north of 44&deg; N"
   ]
  },
  {
   "cell_type": "code",
   "execution_count": null,
   "id": "7eb5ede4",
   "metadata": {},
   "outputs": [],
   "source": [
    "new_events = pd.read_csv('../data/datasets_2014/new_events.csv')"
   ]
  },
  {
   "cell_type": "code",
   "execution_count": null,
   "id": "cc7496a2",
   "metadata": {},
   "outputs": [],
   "source": [
    "new_events_44N_and_above= new_events.loc[(new_events['latitude']>44)&(new_events['longitude']<-124)]\n",
    "new_events_44N_and_above = new_events_44N_and_above[0:50] "
   ]
  },
  {
   "cell_type": "code",
   "execution_count": null,
   "id": "161b1476",
   "metadata": {},
   "outputs": [],
   "source": [
    "# parameters for subplots_cluster_scale\n",
    "mycatalog= mycatalog\n",
    "mycatalog_picks=mycatalog_picks\n",
    "networks= all_picks_networks\n",
    "channel= \"?H?\"\n",
    "idx_sta= 50\n",
    "title= \"Events matched\"\n",
    "fig_title= \"new_events_filtered_44N_and_above_plots.pdf\"\n",
    "\n",
    "subplots_cluster_scale(new_events_44N_and_above,mycatalog_picks,networks,channel,idx_sta,title,fig_title)"
   ]
  },
  {
   "cell_type": "code",
   "execution_count": null,
   "id": "4c5a80d9",
   "metadata": {},
   "outputs": [],
   "source": []
  },
  {
   "cell_type": "code",
   "execution_count": null,
   "id": "4634dd6c",
   "metadata": {},
   "outputs": [],
   "source": []
  },
  {
   "cell_type": "markdown",
   "id": "78356615",
   "metadata": {},
   "source": [
    "## Plot one of the cluster events at around 46.5&deg; N, 125&deg; W using the plotting functions "
   ]
  },
  {
   "cell_type": "code",
   "execution_count": null,
   "id": "a8e3d4bd",
   "metadata": {},
   "outputs": [],
   "source": [
    "def subplots_cluster_scale_p(idx, mycatalog, mycatalog_picks, networks, channel, idx_sta, title, fig_title):\n",
    "    \"\"\"\n",
    "    idx: event_idx\n",
    "    mycatalog: dataframe that contains only the unique picks (i.e., mycatalog_picks.drop_duplicates(subset=['idx']).copy())\n",
    "    mycatalog_picks: all pick assignments csv file (e.g., pd.read_csv('../data/datasets_OR/all_pick_assignments_OR.csv'))\n",
    "    networks: string of networks (e.g., \"NV,OO,7A\")\n",
    "    channel: specify the direction of the channel (i.e., \"?HZ\", \"?HE\" or \"?HN\")\n",
    "    idx_sta: choose the station to which you want to show the waveforms\n",
    "    title: title in a string\n",
    "    fig_title: figure title in as string\n",
    "    \"\"\"\n",
    "        \n",
    "    # Define the clients \n",
    "    client_waveform = WaveformClient()\n",
    "    client2 = Client(\"IRIS\")\n",
    "    client_ncedc = Client('NCEDC')\n",
    "\n",
    "\n",
    "    # Plot the earthquake moveout for one of the unmatched events for all stations \n",
    "    event = mycatalog\n",
    "    picks = mycatalog_picks\n",
    "    picks_idx = picks.loc[picks['idx']==idx]\n",
    "    pick_sta = np.unique(picks_idx['station'])\n",
    "    \n",
    "    otime = UTCDateTime(str(event[event['idx'] == idx][\"datetime\"].values[0]))\n",
    "    distances = []\n",
    "    max_dist = 10\n",
    "    min_dist = 0\n",
    "    \n",
    "    print(event[event['idx'] == idx]['picks'].values[0])\n",
    "    for station in pick_sta:\n",
    "        \n",
    "        \n",
    "        sta_inv = client2.get_stations(network=networks,\n",
    "                                       station=station, channel=\"?H?\", \n",
    "                                       starttime=otime - 1e8, endtime=otime + 1e8,level=\"response\")\n",
    "        if len(sta_inv) == 0:\n",
    "#             print(f\"Failed to fetch for {networks} {station} {otime}\")\n",
    "            continue\n",
    "            \n",
    "        _network = sta_inv[0].code\n",
    "        slat = sta_inv[0][0].latitude\n",
    "        slon = sta_inv[0][0].longitude\n",
    "        olat = event.loc[event['idx']==idx, 'latitude'].values[0]\n",
    "        olon = event.loc[event['idx']==idx, 'longitude'].values[0]\n",
    "        \n",
    "        dis1 = locations2degrees(olat, olon, slat, slon)\n",
    "        dist = degrees2kilometers(dis1)\n",
    "#         if max_dist < dist:\n",
    "#             max_dist = dist\n",
    "            \n",
    "#         if min_dist > dist:\n",
    "#             min_dist = dist\n",
    "            \n",
    "        distances.append([None, _network, station, dist])\n",
    "\n",
    "    # Sort distances\n",
    "    distances = sorted(distances, key=lambda item: item[-1])\n",
    "    distances = distances[:idx_sta+1]\n",
    "    \n",
    "    # Set up to define the xlim and ylim\n",
    "    max_y = 0\n",
    "    min_y = 0\n",
    "    # This count is for the if statements. Only used to ensure that min_y_count \n",
    "    #is changed from 0 to either the first positive value of the distance of one of the stations from the event\n",
    "    min_y_count = 0 \n",
    "    \n",
    "    max_x = 0\n",
    "    min_x = 0\n",
    "    \n",
    "    # This count is for the if statements. Only used to ensure that min_x_count \n",
    "    #is changed from 0 to either the first positive value of P pick time or the first positive value of S pick time\n",
    "    min_x_count= 0\n",
    "    # Create a figure\n",
    "    fig,axs = plt.subplots(1,4,figsize=(18,6))\n",
    "    gs = fig.add_gridspec(3, hspace=0, figure=fig)\n",
    "#     axs = gs.subplots(sharex=True, sharey=True)\n",
    "    starttime = otime -30\n",
    "    endtime = otime + 120\n",
    "    \n",
    "    # Define texts\n",
    "    texts = []\n",
    "    \n",
    "    for i, ii in enumerate(distances):\n",
    "            \n",
    "        if ii[1] in ['NC', 'BK']:\n",
    "            # Query waveforms\n",
    "            st = client_ncedc.get_waveforms(network=ii[1], station=ii[2], location=\"*\", channel=channel,starttime=starttime, endtime=endtime)\n",
    "\n",
    "        elif ii[1] in networks: \n",
    "            st = client_waveform.get_waveforms(network=ii[1], station=ii[2], channel=channel,starttime=starttime, endtime=endtime)\n",
    "  \n",
    "        else: \n",
    "            st =  Stream()\n",
    "            print(f\"WARNING: No data for {ii[1]}.{ii[2]}.{channel} on {otime}.\")    \n",
    "            continue\n",
    "            \n",
    "#         print(f\"len(st):{len(st)}\")\n",
    "#         print(st)\n",
    "    \n",
    "        # Skip empty traces\n",
    "        if len(st) == 0:\n",
    "                continue\n",
    "                \n",
    "        sta_picks = picks_idx[picks_idx['station'] == ii[2]]\n",
    "        p_picks = sta_picks.loc[sta_picks['phase'] == 'P']\n",
    "        s_picks = sta_picks.loc[sta_picks['phase'] == 'S']\n",
    "#         print(len(p_picks),len(s_picks))\n",
    "        \n",
    "        # Define the xlim values\n",
    "        # Define the maximum x value\n",
    "        if len(s_picks) > 0:\n",
    "            if max_x < UTCDateTime(s_picks.iloc[0]['time_pick']) - starttime:\n",
    "                max_x = UTCDateTime(s_picks.iloc[0]['time_pick']+5) - starttime\n",
    "        elif len(p_picks) > 0:\n",
    "            if max_x < UTCDateTime(p_picks.iloc[0]['time_pick']) - starttime: \n",
    "                max_x = UTCDateTime(p_picks.iloc[0]['time_pick']+5) - starttime\n",
    "        else:\n",
    "            print('No picks for this station. Skipping.')\n",
    "            continue \n",
    "            \n",
    "        # Define the minimum x value\n",
    "        if len(p_picks) > 0:\n",
    "            if min_x_count == 0:\n",
    "                if min_x < UTCDateTime(p_picks.iloc[0]['time_pick']) - starttime:\n",
    "                    min_x = UTCDateTime(p_picks.iloc[0]['time_pick']-5) - starttime\n",
    "                    min_x_count += 1           \n",
    "            else:\n",
    "                if min_x >= UTCDateTime(p_picks.iloc[0]['time_pick']) - starttime:\n",
    "                    min_x = UTCDateTime(p_picks.iloc[0]['time_pick']-5) - starttime            \n",
    "        elif len(s_picks) > 0:\n",
    "            if min_x_count == 0:\n",
    "                if min_x < UTCDateTime(s_picks.iloc[0]['time_pick'])- starttime:\n",
    "                    min_x = UTCDateTime(s_picks.iloc[0]['time_pick']-5)- starttime\n",
    "                    min_x_count += 1                \n",
    "            else:\n",
    "                if min_x >= UTCDateTime(s_picks.iloc[0]['time_pick'])- starttime:\n",
    "                    min_x = UTCDateTime(s_picks.iloc[0]['time_pick']-5) - starttime\n",
    "        else:\n",
    "            print('No picks for this station. Skipping.')\n",
    "            continue    \n",
    "            \n",
    "        if len(p_picks) == 0:\n",
    "            continue\n",
    "            \n",
    "#         print('This is after the p_pick continue statement')\n",
    "    \n",
    "        # Define ylim values\n",
    "        if min_y_count == 0:\n",
    "            if min_y < ii[3]:\n",
    "                min_y = ii[3] - 5\n",
    "                min_y_count += 1           \n",
    "        else:\n",
    "            if min_y >= ii[3]:\n",
    "                min_y = ii[3] - 5 \n",
    "                \n",
    "        max_y = ii[3] + 5\n",
    "        \n",
    "    scaling_factor = (1/2)*(max_y-min_y)   \n",
    "        \n",
    "    for i, ii in enumerate(distances):\n",
    "            \n",
    "        if ii[1] in ['NC', 'BK']:\n",
    "            # Query waveforms\n",
    "            st = client_ncedc.get_waveforms(network=ii[1], station=ii[2], location=\"*\", channel=channel,starttime=starttime, endtime=endtime)\n",
    "\n",
    "        elif ii[1] in networks: \n",
    "            st = client_waveform.get_waveforms(network=ii[1], station=ii[2], channel=channel,starttime=starttime, endtime=endtime)\n",
    "  \n",
    "        else: \n",
    "            st =  Stream()\n",
    "            print(f\"WARNING: No data for {ii[1]}.{ii[2]}.{channel} on {otime}.\")    \n",
    "            continue\n",
    "            \n",
    "#         print(f\"len(st):{len(st)}\")\n",
    "#         print(st)\n",
    "    \n",
    "        # Skip empty traces\n",
    "        if len(st) == 0:\n",
    "                continue\n",
    "        _st = Stream()\n",
    "        # Check for HH and BH channels presence\n",
    "        has_HH = bool(st.select(channel=\"HH?\"))\n",
    "        has_BH = bool(st.select(channel=\"BH?\"))\n",
    "\n",
    "        # Apply selection logic based on channel presence\n",
    "        if has_HH and has_BH:\n",
    "            # If both HH and BH channels are present, select only HH\n",
    "            _st += st.select(channel=\"HH?\")\n",
    "        elif has_HH:\n",
    "            # If only HH channels are present\n",
    "            _st += st.select(channel=\"HH?\")\n",
    "        elif has_BH:\n",
    "            # If only BH channels are present\n",
    "            _st += st.select(channel=\"BH?\")\n",
    "\n",
    "        st = _st\n",
    "\n",
    "        print(f'Second st print:{_st}')\n",
    "              \n",
    "        st = Stream(filter(lambda st: st.stats.sampling_rate > 10, st))\n",
    "        st.taper(max_percentage=0.05)\n",
    "        st.filter(type='bandpass', freqmin=2, freqmax=25)\n",
    "        st.merge(fill_value='interpolate') # fill gaps if there are any.\n",
    "\n",
    "#         print(st)\n",
    "        # Select only one trace per channel\n",
    "        unique_channels = set(tr.stats.channel for tr in st)\n",
    "        selected_traces = []\n",
    "        \n",
    "        for ch in unique_channels:\n",
    "            selected_traces.append(next(tr for tr in st if tr.stats.channel == ch))\n",
    "        st = Stream(selected_traces)\n",
    "                   \n",
    "        trim_st = st.copy()\n",
    "        sta_picks = picks_idx[picks_idx['station'] == ii[2]]\n",
    "        p_picks = sta_picks.loc[sta_picks['phase'] == 'P']\n",
    "        s_picks = sta_picks.loc[sta_picks['phase'] == 'S']\n",
    "#         print(len(p_picks),len(s_picks))\n",
    "        \n",
    "        \n",
    "                \n",
    "            \n",
    "        if len(p_picks) == 0:\n",
    "            continue \n",
    "#         print('This is after the p_pick continue statement')\n",
    "        print(trim_st)\n",
    "        \n",
    "        for iax in range(len(trim_st)):\n",
    "            print(iax)\n",
    "            sampling_rate = trim_st[iax].stats.sampling_rate\n",
    "            trim_st = trim_st.normalize()\n",
    "            \n",
    "            tp = UTCDateTime(p_picks.iloc[0]['time_pick']) - otime + 30\n",
    "            i1 = int((tp-5)*sampling_rate)\n",
    "            i2 = int((tp+15)*sampling_rate)\n",
    "\n",
    "            offsets1 = ii[3]\n",
    "            try: \n",
    "                wave = trim_st[iax].data\n",
    "                wave = wave / (np.nanmax(wave[i1:i2], axis=-1)*10)\n",
    "            except:\n",
    "                continue \n",
    "            \n",
    "#             print(trim_st[iax].stats.sampling_rate)\n",
    "            axs[iax].plot(trim_st[iax].times(), wave * scaling_factor + offsets1, \n",
    "                          color='black', label=f\"{trim_st[iax].stats.channel}\", alpha=0.7, lw=0.5)\n",
    "#             axs[iax].plot(trim_st[iax].times(), wave * 30 + offsets1, color='black', label=f\"{trim_st[iax].stats.channel}\", alpha=0.7, lw=0.5)\n",
    "\n",
    "#             axs[iax].text(xlim[-1] + 2,   offsets1, \n",
    "#                               [ii[2]], fontsize=8, verticalalignment='bottom')\n",
    "\n",
    "            if len(p_picks) > 0:\n",
    "                axs[iax].vlines(UTCDateTime(p_picks.iloc[0]['time_pick']) - otime + 30, offsets1 - (1/35) * scaling_factor, \n",
    "                                offsets1 + (1/35) * scaling_factor, color='r')\n",
    "            if len(s_picks) > 0:\n",
    "                axs[iax].vlines(UTCDateTime(s_picks.iloc[0]['time_pick']) - otime + 30, offsets1 - (1/35) * scaling_factor, \n",
    "                                offsets1 + (1/35) * scaling_factor, color='b')\n",
    "        texts.append([ii[2],ii[3]])\n",
    "\n",
    "    \n",
    "#     print(max_y,min_y)\n",
    "    chs = ['2','1','Z']\n",
    "    for iax in range(3):\n",
    "        for i, ii in enumerate(texts):\n",
    "            offsets1 = ii[1]\n",
    "            axs[iax].text(max_x + 0.5, offsets1, \n",
    "                                  [ii[0]], fontsize=8, verticalalignment='bottom')\n",
    "        axs[iax].legend(chs[iax],loc='upper right', handlelength=0)\n",
    "        axs[iax].set_ylim([min_y,max_y])\n",
    "        axs[iax].set_xlim([min_x,max_x])\n",
    "        axs[iax].grid(alpha=0.5)\n",
    "    fig.supxlabel('Time [sec]', y=0.07)\n",
    "    fig.supylabel('Distance [km]')\n",
    "    fig.suptitle(f\"{title}: Origin Time={otime}, \\n Latitude={round(event[event['idx']==idx]['latitude'].values[0], 2)}, Longtitude={round(event[event['idx']==idx]['longitude'].values[0], 2)}, Depth={round(event[event['idx']==idx]['depth'].values[0], 2)}\", y=1)\n",
    "    \n",
    "    m = Basemap(projection='merc', llcrnrlat=40, urcrnrlat=50, llcrnrlon=-130, urcrnrlon=-120, resolution='i', ax=axs[3])\n",
    "    m.drawcoastlines()\n",
    "    m.drawcountries()\n",
    "    m.drawstates()\n",
    "    m.drawmapboundary()\n",
    "    m.drawparallels(np.arange(40, 51, 1), labels=[1,0,0,0])\n",
    "    m.drawmeridians(np.arange(-130, -119, 1), labels=[0,0,0,1])\n",
    "    x, y = m(event[event['idx']==idx]['longitude'].values[0], event[event['idx']==idx]['latitude'].values[0])\n",
    "    m.plot(x, y, 'ro', markersize=9)\n",
    "    axs[3].set_title('Event Location')\n",
    "    \n",
    "    plt.show()\n"
   ]
  },
  {
   "cell_type": "code",
   "execution_count": null,
   "id": "0ba14668",
   "metadata": {},
   "outputs": [],
   "source": [
    "def subplots_cluster_scale(idx, mycatalog, mycatalog_picks, networks, channel, idx_sta, title, fig_title):\n",
    "    \"\"\"\n",
    "    idx: event_idx\n",
    "    mycatalog: dataframe that contains only the unique picks (i.e., mycatalog_picks.drop_duplicates(subset=['idx']).copy())\n",
    "    mycatalog_picks: all pick assignments csv file (e.g., pd.read_csv('../data/datasets_OR/all_pick_assignments_OR.csv'))\n",
    "    networks: string of networks (e.g., \"NV,OO,7A\")\n",
    "    channel: specify the direction of the channel (i.e., \"?HZ\", \"?HE\" or \"?HN\")\n",
    "    idx_sta: choose the station to which you want to show the waveforms\n",
    "    title: title in a string\n",
    "    fig_title: figure title in as string\n",
    "    \"\"\"\n",
    "        \n",
    "    # Define the clients \n",
    "    client_waveform = WaveformClient()\n",
    "    client2 = Client(\"IRIS\")\n",
    "    client_ncedc = Client('NCEDC')\n",
    "\n",
    "\n",
    "    # Plot the earthquake moveout for one of the unmatched events for all stations \n",
    "    event = mycatalog\n",
    "    picks = mycatalog_picks\n",
    "    \n",
    "    p = PdfPages(fig_title) \n",
    "    \n",
    "    for idx in event['idx']:\n",
    "        \n",
    "        picks_idx = picks.loc[picks['idx']==idx]\n",
    "        pick_sta = np.unique(picks_idx['station'])\n",
    "\n",
    "        otime = UTCDateTime(str(event[event['idx'] == idx][\"datetime\"].values[0]))\n",
    "        distances = []\n",
    "        max_dist = 10\n",
    "        min_dist = 0\n",
    "\n",
    "        print(event[event['idx'] == idx]['picks'].values[0])\n",
    "        for station in pick_sta:\n",
    "\n",
    "\n",
    "            sta_inv = client2.get_stations(network=networks,\n",
    "                                           station=station, channel=\"?H?\", \n",
    "                                           starttime=otime - 1e8, endtime=otime + 1e8,level=\"response\")\n",
    "            if len(sta_inv) == 0:\n",
    "    #             print(f\"Failed to fetch for {networks} {station} {otime}\")\n",
    "                continue\n",
    "\n",
    "            _network = sta_inv[0].code\n",
    "            slat = sta_inv[0][0].latitude\n",
    "            slon = sta_inv[0][0].longitude\n",
    "            olat = event.loc[event['idx']==idx, 'latitude'].values[0]\n",
    "            olon = event.loc[event['idx']==idx, 'longitude'].values[0]\n",
    "\n",
    "            dis1 = locations2degrees(olat, olon, slat, slon)\n",
    "            dist = degrees2kilometers(dis1)\n",
    "    #         if max_dist < dist:\n",
    "    #             max_dist = dist\n",
    "\n",
    "    #         if min_dist > dist:\n",
    "    #             min_dist = dist\n",
    "\n",
    "            distances.append([None, _network, station, dist])\n",
    "\n",
    "        # Sort distances\n",
    "        distances = sorted(distances, key=lambda item: item[-1])\n",
    "        distances = distances[:idx_sta+1]\n",
    "\n",
    "        # Set up to define the xlim and ylim\n",
    "        max_y = 0\n",
    "        min_y = 0\n",
    "        # This count is for the if statements. Only used to ensure that min_y_count \n",
    "        #is changed from 0 to either the first positive value of the distance of one of the stations from the event\n",
    "        min_y_count = 0 \n",
    "\n",
    "        max_x = 0\n",
    "        min_x = 0\n",
    "\n",
    "        # This count is for the if statements. Only used to ensure that min_x_count \n",
    "        #is changed from 0 to either the first positive value of P pick time or the first positive value of S pick time\n",
    "        min_x_count= 0\n",
    "        # Create a figure\n",
    "        fig,axs = plt.subplots(1,4,figsize=(18,6))\n",
    "        gs = fig.add_gridspec(3, hspace=0, figure=fig)\n",
    "    #     axs = gs.subplots(sharex=True, sharey=True)\n",
    "        starttime = otime -30\n",
    "        endtime = otime + 120\n",
    "\n",
    "        # Define texts\n",
    "        texts = []\n",
    "\n",
    "        for i, ii in enumerate(distances):\n",
    "\n",
    "            if ii[1] in ['NC', 'BK']:\n",
    "                # Query waveforms\n",
    "                st = client_ncedc.get_waveforms(network=ii[1], station=ii[2], location=\"*\", channel=channel,starttime=starttime, endtime=endtime)\n",
    "\n",
    "            elif ii[1] in networks: \n",
    "                st = client_waveform.get_waveforms(network=ii[1], station=ii[2], channel=channel,starttime=starttime, endtime=endtime)\n",
    "\n",
    "            else: \n",
    "                st =  Stream()\n",
    "                print(f\"WARNING: No data for {ii[1]}.{ii[2]}.{channel} on {otime}.\")    \n",
    "                continue\n",
    "\n",
    "    #         print(f\"len(st):{len(st)}\")\n",
    "    #         print(st)\n",
    "\n",
    "            # Skip empty traces\n",
    "            if len(st) == 0:\n",
    "                    continue\n",
    "\n",
    "            sta_picks = picks_idx[picks_idx['station'] == ii[2]]\n",
    "            p_picks = sta_picks.loc[sta_picks['phase'] == 'P']\n",
    "            s_picks = sta_picks.loc[sta_picks['phase'] == 'S']\n",
    "    #         print(len(p_picks),len(s_picks))\n",
    "\n",
    "            # Define the xlim values\n",
    "            # Define the maximum x value\n",
    "            if len(s_picks) > 0:\n",
    "                if max_x < UTCDateTime(s_picks.iloc[0]['time_pick']) - starttime:\n",
    "                    max_x = UTCDateTime(s_picks.iloc[0]['time_pick']+5) - starttime\n",
    "            elif len(p_picks) > 0:\n",
    "                if max_x < UTCDateTime(p_picks.iloc[0]['time_pick']) - starttime: \n",
    "                    max_x = UTCDateTime(p_picks.iloc[0]['time_pick']+5) - starttime\n",
    "            else:\n",
    "                print('No picks for this station. Skipping.')\n",
    "                continue \n",
    "\n",
    "            # Define the minimum x value\n",
    "            if len(p_picks) > 0:\n",
    "                if min_x_count == 0:\n",
    "                    if min_x < UTCDateTime(p_picks.iloc[0]['time_pick']) - starttime:\n",
    "                        min_x = UTCDateTime(p_picks.iloc[0]['time_pick']-5) - starttime\n",
    "                        min_x_count += 1           \n",
    "                else:\n",
    "                    if min_x >= UTCDateTime(p_picks.iloc[0]['time_pick']) - starttime:\n",
    "                        min_x = UTCDateTime(p_picks.iloc[0]['time_pick']-5) - starttime            \n",
    "            elif len(s_picks) > 0:\n",
    "                if min_x_count == 0:\n",
    "                    if min_x < UTCDateTime(s_picks.iloc[0]['time_pick'])- starttime:\n",
    "                        min_x = UTCDateTime(s_picks.iloc[0]['time_pick']-5)- starttime\n",
    "                        min_x_count += 1                \n",
    "                else:\n",
    "                    if min_x >= UTCDateTime(s_picks.iloc[0]['time_pick'])- starttime:\n",
    "                        min_x = UTCDateTime(s_picks.iloc[0]['time_pick']-5) - starttime\n",
    "            else:\n",
    "                print('No picks for this station. Skipping.')\n",
    "                continue    \n",
    "\n",
    "    #         if len(p_picks) == 0:\n",
    "    #             continue\n",
    "\n",
    "    #         print('This is after the p_pick continue statement')\n",
    "\n",
    "            # Define ylim values\n",
    "            if min_y_count == 0:\n",
    "                if min_y < ii[3]:\n",
    "                    min_y = ii[3] - 5\n",
    "                    min_y_count += 1           \n",
    "            else:\n",
    "                if min_y >= ii[3]:\n",
    "                    min_y = ii[3] - 5 \n",
    "\n",
    "            max_y = ii[3] + 5\n",
    "\n",
    "        scaling_factor = (1/2)*(max_y-min_y)   \n",
    "\n",
    "        for i, ii in enumerate(distances):\n",
    "\n",
    "            if ii[1] in ['NC', 'BK']:\n",
    "                # Query waveforms\n",
    "                st = client_ncedc.get_waveforms(network=ii[1], station=ii[2], location=\"*\", channel=channel,starttime=starttime, endtime=endtime)\n",
    "\n",
    "            elif ii[1] in networks: \n",
    "                st = client_waveform.get_waveforms(network=ii[1], station=ii[2], channel=channel,starttime=starttime, endtime=endtime)\n",
    "\n",
    "            else: \n",
    "                st =  Stream()\n",
    "                print(f\"WARNING: No data for {ii[1]}.{ii[2]}.{channel} on {otime}.\")    \n",
    "                continue\n",
    "\n",
    "    #         print(f\"len(st):{len(st)}\")\n",
    "    #         print(st)\n",
    "\n",
    "            # Skip empty traces\n",
    "            if len(st) == 0:\n",
    "                    continue\n",
    "            _st = Stream()\n",
    "            # Check for HH and BH channels presence\n",
    "            has_HH = bool(st.select(channel=\"HH?\"))\n",
    "            has_BH = bool(st.select(channel=\"BH?\"))\n",
    "\n",
    "            # Apply selection logic based on channel presence\n",
    "            if has_HH and has_BH:\n",
    "                # If both HH and BH channels are present, select only HH\n",
    "                _st += st.select(channel=\"HH?\")\n",
    "            elif has_HH:\n",
    "                # If only HH channels are present\n",
    "                _st += st.select(channel=\"HH?\")\n",
    "            elif has_BH:\n",
    "                # If only BH channels are present\n",
    "                _st += st.select(channel=\"BH?\")\n",
    "\n",
    "            st = _st\n",
    "\n",
    "            print(f'Second st print:{_st}')\n",
    "\n",
    "            st = Stream(filter(lambda st: st.stats.sampling_rate > 10, st))\n",
    "            st.taper(max_percentage=0.05)\n",
    "            st.filter(type='bandpass', freqmin=2, freqmax=25)\n",
    "            st.merge(fill_value='interpolate') # fill gaps if there are any.\n",
    "\n",
    "    #         print(st)\n",
    "            # Select only one trace per channel\n",
    "            unique_channels = set(tr.stats.channel for tr in st)\n",
    "            selected_traces = []\n",
    "\n",
    "            for ch in unique_channels:\n",
    "                selected_traces.append(next(tr for tr in st if tr.stats.channel == ch))\n",
    "            st = Stream(selected_traces)\n",
    "\n",
    "            trim_st = st.copy()\n",
    "            sta_picks = picks_idx[picks_idx['station'] == ii[2]]\n",
    "            p_picks = sta_picks.loc[sta_picks['phase'] == 'P']\n",
    "            s_picks = sta_picks.loc[sta_picks['phase'] == 'S']\n",
    "    #         print(len(p_picks),len(s_picks))\n",
    "\n",
    "\n",
    "\n",
    "\n",
    "    #         if len(p_picks) == 0:\n",
    "    #             continue \n",
    "    #         print('This is after the p_pick continue statement')\n",
    "            print(trim_st)\n",
    "\n",
    "            for iax in range(len(trim_st)):\n",
    "                print(iax)\n",
    "                sampling_rate = trim_st[iax].stats.sampling_rate\n",
    "                trim_st = trim_st.normalize()\n",
    "\n",
    "                if len(p_picks)>0:\n",
    "                    tp = UTCDateTime(p_picks.iloc[0]['time_pick']) - otime + 30\n",
    "                    i1 = int((tp-5)*sampling_rate)\n",
    "                    i2 = int((tp+15)*sampling_rate)\n",
    "                elif len(s_picks)>0:\n",
    "                    ts = UTCDateTime(s_picks.iloc[0]['time_pick']) - otime + 30\n",
    "                    i1 = int((ts-10)*sampling_rate)\n",
    "                    i2 = int((ts+10)*sampling_rate)\n",
    "                else:\n",
    "                    print(f\"WARNING: No pick time for {ii[1]}.{ii[2]}.{channel} on {otime}.\")\n",
    "\n",
    "                offsets1 = ii[3]\n",
    "                try: \n",
    "                    wave = trim_st[iax].data\n",
    "                    wave = wave / (np.nanmax(wave[i1:i2], axis=-1)*10)\n",
    "                except:\n",
    "                    continue \n",
    "\n",
    "    #             print(trim_st[iax].stats.sampling_rate)\n",
    "                axs[iax].plot(trim_st[iax].times(), wave * scaling_factor + offsets1, \n",
    "                              color='black', label=f\"{trim_st[iax].stats.channel}\", alpha=0.7, lw=0.5)\n",
    "    #             axs[iax].plot(trim_st[iax].times(), wave * 30 + offsets1, color='black', label=f\"{trim_st[iax].stats.channel}\", alpha=0.7, lw=0.5)\n",
    "\n",
    "    #             axs[iax].text(xlim[-1] + 2,   offsets1, \n",
    "    #                               [ii[2]], fontsize=8, verticalalignment='bottom')\n",
    "\n",
    "                if len(p_picks) > 0:\n",
    "                    axs[iax].vlines(UTCDateTime(p_picks.iloc[0]['time_pick']) - otime + 30, offsets1 - (1/35) * scaling_factor, \n",
    "                                    offsets1 + (1/35) * scaling_factor, color='r')\n",
    "                if len(s_picks) > 0:\n",
    "                    axs[iax].vlines(UTCDateTime(s_picks.iloc[0]['time_pick']) - otime + 30, offsets1 - (1/35) * scaling_factor, \n",
    "                                    offsets1 + (1/35) * scaling_factor, color='b')\n",
    "            texts.append([ii[2],ii[3]])\n",
    "\n",
    "\n",
    "    #     print(max_y,min_y)\n",
    "        chs = ['2','1','Z']\n",
    "        for iax in range(3):\n",
    "            for i, ii in enumerate(texts):\n",
    "                offsets1 = ii[1]\n",
    "                axs[iax].text(max_x + 0.5, offsets1, \n",
    "                                      [ii[0]], fontsize=8, verticalalignment='bottom')\n",
    "            axs[iax].legend(chs[iax],loc='upper right', handlelength=0)\n",
    "            axs[iax].set_ylim([min_y,max_y])\n",
    "            axs[iax].set_xlim([min_x,max_x])\n",
    "            axs[iax].grid(alpha=0.5)\n",
    "        fig.supxlabel('Time [sec]', y=0.07)\n",
    "        fig.supylabel('Distance [km]')\n",
    "        fig.suptitle(f\"{title}: Origin Time={otime}, \\n Latitude={round(event[event['idx']==idx]['latitude'].values[0], 2)}, Longtitude={round(event[event['idx']==idx]['longitude'].values[0], 2)}, Depth={round(event[event['idx']==idx]['depth'].values[0], 2)}\", y=1)\n",
    "\n",
    "        m = Basemap(projection='merc', llcrnrlat=40, urcrnrlat=50, llcrnrlon=-130, urcrnrlon=-120, resolution='i', ax=axs[3])\n",
    "        m.drawcoastlines()\n",
    "        m.drawcountries()\n",
    "        m.drawstates()\n",
    "        m.drawmapboundary()\n",
    "        m.drawparallels(np.arange(40, 51, 1), labels=[1,0,0,0])\n",
    "        m.drawmeridians(np.arange(-130, -119, 1), labels=[0,0,0,1])\n",
    "        x, y = m(event[event['idx']==idx]['longitude'].values[0], event[event['idx']==idx]['latitude'].values[0])\n",
    "        m.plot(x, y, 'ro', markersize=9)\n",
    "        axs[3].set_title('Event Location')\n",
    "        \n",
    "        fig.savefig(p, format='pdf')  \n",
    "\n",
    "    p.close()"
   ]
  },
  {
   "cell_type": "markdown",
   "id": "5ef03321",
   "metadata": {},
   "source": [
    "### Specify the latitudes and longitudes"
   ]
  },
  {
   "cell_type": "code",
   "execution_count": null,
   "id": "c2f79e5a",
   "metadata": {},
   "outputs": [],
   "source": [
    "new_events = pd.read_csv('../data/datasets_2014/new_events.csv')"
   ]
  },
  {
   "cell_type": "code",
   "execution_count": null,
   "id": "5d048ab8",
   "metadata": {},
   "outputs": [],
   "source": [
    "idx = new_events[new_events['station']=='J25B']['idx'].values\n",
    "idx"
   ]
  },
  {
   "cell_type": "code",
   "execution_count": null,
   "id": "db3d4c0b",
   "metadata": {},
   "outputs": [],
   "source": [
    "new_events = new_events[new_events[\"idx\"].isin(idx)]\n",
    "new_events"
   ]
  },
  {
   "cell_type": "code",
   "execution_count": null,
   "id": "ac241e77",
   "metadata": {},
   "outputs": [],
   "source": [
    "new_events_specific_lat_lon = new_events.loc[(new_events['latitude']>46)&(new_events['latitude']<47.5)&(new_events['longitude']<-124)&(new_events['longitude']>-126)]\n",
    "new_events_specific_lat_lon"
   ]
  },
  {
   "cell_type": "code",
   "execution_count": null,
   "id": "1c610d2a",
   "metadata": {},
   "outputs": [],
   "source": [
    "# new_events = new_events_specific_lat_lon.loc[(new_events_specific_lat_lon['depth']>1)&(new_events_specific_lat_lon['depth']<40)]\n",
    "new_events = new_events_specific_lat_lon.loc[new_events_specific_lat_lon['picks']>=6][0:30]\n",
    "new_events"
   ]
  },
  {
   "cell_type": "markdown",
   "id": "60eda7e0",
   "metadata": {},
   "source": [
    "### Histogram: Depths of events"
   ]
  },
  {
   "cell_type": "code",
   "execution_count": null,
   "id": "92381c64",
   "metadata": {},
   "outputs": [],
   "source": [
    "# Plot the histogram of the number of picks for the matched events\n",
    "plt.figure()\n",
    "bins = np.linspace(0,50,25)\n",
    "plt.hist(new_events['depth'],bins=bins)\n",
    "plt.xlabel('Depth (km)')\n",
    "plt.ylabel('Number of Events')\n",
    "plt.title('Histogram of the depths of the events in the cluster at ~46.5$^\\circ$ N')"
   ]
  },
  {
   "cell_type": "markdown",
   "id": "436cab64",
   "metadata": {},
   "source": [
    "### Plot HH?"
   ]
  },
  {
   "cell_type": "code",
   "execution_count": null,
   "id": "2f35b6a6",
   "metadata": {
    "scrolled": true
   },
   "outputs": [],
   "source": [
    "# parameters\n",
    "mycatalog= mycatalog\n",
    "mycatalog_picks=mycatalog_picks\n",
    "networks= all_picks_networks\n",
    "channel= \"HH?\"\n",
    "idx_sta= 50\n",
    "title= \"Events matched\"\n",
    "fig_title= \"events_matched.png\"\n",
    "ylim= [0,300]\n",
    "xlim= [30,45]\n",
    "\n",
    "for idx in new_events['idx']:\n",
    "    subplots_cluster_scale_p(idx,mycatalog,mycatalog_picks,networks,channel,idx_sta,title,fig_title,ylim,xlim)"
   ]
  },
  {
   "cell_type": "markdown",
   "id": "ad72ab1e",
   "metadata": {},
   "source": [
    "### Plot BH?"
   ]
  },
  {
   "cell_type": "code",
   "execution_count": null,
   "id": "c369c148",
   "metadata": {
    "scrolled": true
   },
   "outputs": [],
   "source": [
    "# parameters\n",
    "mycatalog= mycatalog\n",
    "mycatalog_picks=mycatalog_picks\n",
    "networks= all_picks_networks\n",
    "channel= \"BH?\"\n",
    "idx_sta= 50\n",
    "title= \"Events matched\"\n",
    "fig_title= \"events_matched.png\"\n",
    "ylim= [0,300]\n",
    "xlim= [30,45]\n",
    "\n",
    "for idx in new_events['idx']:\n",
    "    subplots_cluster_scale_p(idx,mycatalog,mycatalog_picks,networks,channel,idx_sta,title,fig_title,ylim,xlim)"
   ]
  },
  {
   "cell_type": "markdown",
   "id": "88c6211d",
   "metadata": {},
   "source": [
    "### Plot both HH? and BH?"
   ]
  },
  {
   "cell_type": "code",
   "execution_count": null,
   "id": "cf66bf4b",
   "metadata": {},
   "outputs": [],
   "source": [
    "new_events['datetime'] = pd.to_datetime(new_events['datetime'], utc = True)\n",
    "new_events"
   ]
  },
  {
   "cell_type": "code",
   "execution_count": null,
   "id": "b0f15bcc",
   "metadata": {
    "scrolled": true
   },
   "outputs": [],
   "source": [
    "# parameters for subplots_cluster_scale_p\n",
    "mycatalog= mycatalog\n",
    "mycatalog_picks=mycatalog_picks\n",
    "networks= all_picks_networks\n",
    "channel= \"?H?\"\n",
    "idx_sta= 50\n",
    "title= \"Events matched\"\n",
    "fig_title= \"events_matched.png\"\n",
    "\n",
    "for idx in new_events['idx']:\n",
    "    subplots_cluster_scale_p(idx,new_events,mycatalog_picks,networks,channel,idx_sta,title,fig_title)"
   ]
  },
  {
   "cell_type": "code",
   "execution_count": null,
   "id": "2ae32807",
   "metadata": {
    "scrolled": true
   },
   "outputs": [],
   "source": [
    "# parameters for subplots_cluster_scale\n",
    "mycatalog= mycatalog\n",
    "mycatalog_picks=mycatalog_picks\n",
    "networks= all_picks_networks\n",
    "channel= \"?H?\"\n",
    "idx_sta= 50\n",
    "title= \"Events matched\"\n",
    "fig_title= \"new_events_plots.pdf\"\n",
    "\n",
    "subplots_cluster_scale(new_events,mycatalog_picks,networks,channel,idx_sta,title,fig_title)"
   ]
  },
  {
   "cell_type": "code",
   "execution_count": null,
   "id": "7e815a03",
   "metadata": {},
   "outputs": [],
   "source": [
    "# Plot the histogram of the number of picks for the matched events\n",
    "new_events['time'] = pd.to_datetime(new_events['time'])\n",
    "year1 = 2012\n",
    "time1 = datetime(year=year1, month=1, day=1)\n",
    "time2 = datetime(year=year1 + 1, month=1, day=1)\n",
    "time_bins = pd.date_range(start=time1, end=time2, freq='5D')\n",
    "plt.figure()\n",
    "plt.hist(new_events['time'], bins=time_bins)\n",
    "plt.xlabel('Days')\n",
    "plt.ylabel('Number of Events')\n",
    "plt.title('Histogram for the frequency of the events in the cluster at ~46.5$^\\circ$ N')\n",
    "plt.xticks(rotation=45)  # Optional: Rotate x-axis labels for better readability\n",
    "plt.show()"
   ]
  },
  {
   "cell_type": "code",
   "execution_count": null,
   "id": "b02952d7",
   "metadata": {},
   "outputs": [],
   "source": [
    "import matplotlib \n",
    "from matplotlib import pyplot as plt \n",
    "from matplotlib.backends.backend_pdf import PdfPages \n",
    "\n",
    "# customizing runtime configuration stored \n",
    "# in matplotlib.rcParams \n",
    "plt.rcParams[\"figure.figsize\"] = [7.00, 3.50] \n",
    "plt.rcParams[\"figure.autolayout\"] = True\n",
    "\n",
    "fig1 = plt.figure() \n",
    "plt.plot([17, 45, 7, 8, 7], color='orange') \n",
    "\n",
    "fig2 = plt.figure() \n",
    "plt.plot([13, 25, 1, 6, 3], color='blue') \n",
    "\n",
    "Fig3 = plt.figure() \n",
    "plt.plot([22, 11, 2, 1, 23], color='green') \n",
    "\n",
    "\n",
    "def save_image(filename): \n",
    "\t\n",
    "\t# PdfPages is a wrapper around pdf \n",
    "\t# file so there is no clash and create \n",
    "\t# files with no error. \n",
    "\tp = PdfPages(filename) \n",
    "\t\n",
    "\t# get_fignums Return list of existing \n",
    "\t# figure numbers \n",
    "\tfig_nums = plt.get_fignums() \n",
    "\tfigs = [plt.figure(n) for n in fig_nums] \n",
    "\t\n",
    "\t# iterating over the numbers in list \n",
    "\tfor fig in figs: \n",
    "\t\t\n",
    "\t\t# and saving the files \n",
    "\t\tfig.savefig(p, format='pdf') \n",
    "\t\n",
    "\t# close the object \n",
    "\tp.close() \n",
    "\n",
    "# name your Pdf file \n",
    "filename = \"multi_plot_image.pdf\"\n",
    "\n",
    "# call the function \n",
    "save_image(filename) \n"
   ]
  },
  {
   "cell_type": "markdown",
   "id": "1c84d3bd",
   "metadata": {},
   "source": [
    "## Plot the cluster events at around 43.25&deg; N, 124.25&deg; W using the plotting functions "
   ]
  },
  {
   "cell_type": "code",
   "execution_count": null,
   "id": "6de7f122",
   "metadata": {},
   "outputs": [],
   "source": [
    "new_events_specific_lat_lon = unmatched_events_mycatalog2morton_and_anss.loc[(unmatched_events_mycatalog2morton_and_anss['latitude']>43.0)&(unmatched_events_mycatalog2morton_and_anss['latitude']<43.3)&(unmatched_events_mycatalog2morton_and_anss['longitude']<-124.25)&(unmatched_events_mycatalog2morton_and_anss['longitude']>-124.75)]\n",
    "new_events_specific_lat_lon"
   ]
  },
  {
   "cell_type": "code",
   "execution_count": null,
   "id": "6556db77",
   "metadata": {},
   "outputs": [],
   "source": [
    "new_events = new_events_specific_lat_lon.loc[new_events_specific_lat_lon['picks']>5]\n",
    "new_events"
   ]
  },
  {
   "cell_type": "markdown",
   "id": "e0fa50fe",
   "metadata": {},
   "source": [
    "### Plot HH?"
   ]
  },
  {
   "cell_type": "code",
   "execution_count": null,
   "id": "d16f802f",
   "metadata": {},
   "outputs": [],
   "source": [
    "# parameters\n",
    "mycatalog= mycatalog\n",
    "mycatalog_picks=mycatalog_picks\n",
    "networks= all_picks_networks\n",
    "channel= \"HH?\"\n",
    "idx_sta= 50\n",
    "title= \"Events matched\"\n",
    "fig_title= \"events_matched.png\"\n",
    "ylim= [0,300]\n",
    "xlim= [20,150]\n",
    "\n",
    "for idx in new_events['idx']:\n",
    "    subplots_cluster_scale_p(idx,mycatalog,mycatalog_picks,networks,channel,idx_sta,title,fig_title,ylim,xlim)"
   ]
  },
  {
   "cell_type": "markdown",
   "id": "5d0acaf0",
   "metadata": {},
   "source": [
    "### Plot BH?"
   ]
  },
  {
   "cell_type": "code",
   "execution_count": null,
   "id": "4baf7b1d",
   "metadata": {},
   "outputs": [],
   "source": [
    "# parameters\n",
    "mycatalog= mycatalog\n",
    "mycatalog_picks=mycatalog_picks\n",
    "networks= all_picks_networks\n",
    "channel= \"BH?\"\n",
    "idx_sta= 50\n",
    "title= \"Events matched\"\n",
    "fig_title= \"events_matched.png\"\n",
    "ylim= [0,300]\n",
    "xlim= [20,150]\n",
    "\n",
    "for idx in new_events['idx']:\n",
    "    subplots_cluster_scale_p(idx,mycatalog,mycatalog_picks,networks,channel,idx_sta,title,fig_title,ylim,xlim)"
   ]
  },
  {
   "cell_type": "markdown",
   "id": "863afcd8",
   "metadata": {},
   "source": [
    "## Calculate SNRs"
   ]
  },
  {
   "cell_type": "code",
   "execution_count": null,
   "id": "b8944e86",
   "metadata": {},
   "outputs": [],
   "source": [
    "all_picks = pd.read_csv('../data/datasets_2014/all_picks_2014.csv')\n",
    "all_pick_assignments = pd.read_csv('../data/datasets_2014/all_pick_assignments_2014.csv')"
   ]
  },
  {
   "cell_type": "code",
   "execution_count": null,
   "id": "d3ab9ea3",
   "metadata": {},
   "outputs": [],
   "source": [
    "def calc_snr(all_picks,all_pick_assignments):\n",
    "    \"\"\" \n",
    "    This function calculates the SNRs for each station in each event.\n",
    "    \n",
    "    Inputs:\n",
    "    1. The all_pick.csv file from the 2_format_pick2associate file.\n",
    "    2. The all_pick_assignments.csv file from the 3_association file.\n",
    "    \n",
    "    Oututs:\n",
    "    The new all_pick_assignments_snr file with the additional SNR column.\n",
    "    \"\"\"\n",
    "    \n",
    "    # Create the list of networks\n",
    "    all_picks_networks = all_picks['station_network_code'].drop_duplicates()\n",
    "    list_networks = list(all_picks_networks)\n",
    "    networks = ','.join(all_picks_networks)\n",
    "    \n",
    "    \n",
    "    \n",
    "    # Define the clients \n",
    "    client_waveform = WaveformClient()\n",
    "    client2 = Client(\"IRIS\")\n",
    "    client_ncedc = Client('NCEDC')\n",
    "    \n",
    "    all_pick_assignments['datetime'] = pd.to_datetime(all_pick_assignments['time'], utc = True)\n",
    "\n",
    "    \n",
    "    # Define parameters\n",
    "    percentile=98\n",
    "    \n",
    "    # Create empty lists\n",
    "    snr_list = []\n",
    "        \n",
    "    # Make sure if a station for an event has more than 1 P or S pick\n",
    "    for idx in all_pick_assignments['idx'].drop_duplicates():\n",
    "        # Define parameters\n",
    "        otime = UTCDateTime(str(all_pick_assignments[all_pick_assignments['idx'] == idx][\"datetime\"].values[0]))\n",
    "\n",
    "\n",
    "        # Create empty lists\n",
    "        networks_stas = []\n",
    "\n",
    "        # Plot the earthquake moveout for one of the unmatched events for all stations \n",
    "    #     event = mycatalog\n",
    "        pick_idx = all_pick_assignments.loc[all_pick_assignments['idx']==idx]\n",
    "        pick_sta = np.unique(pick_idx['station'])\n",
    "        \n",
    "    #     distances = []\n",
    "    #     max_dist = 10\n",
    "    #     min_dist = 0\n",
    "        for station in pick_sta:\n",
    "\n",
    "            sta_inv = client2.get_stations(network=networks,\n",
    "                                           station=station, channel=\"?H?\", \n",
    "                                           starttime=otime - 1e8, endtime=otime + 1e8,level=\"response\")\n",
    "            if len(sta_inv) == 0:\n",
    "                print(f'No inventory for station {station}. Skipping.')\n",
    "                continue\n",
    "\n",
    "            network = sta_inv[0].code\n",
    "    #         slat = sta_inv[0][0].latitude\n",
    "    #         slon = sta_inv[0][0].longitude\n",
    "    #         olat = event.loc[event['idx']==idx, 'latitude'].values[0]\n",
    "    #         olon = event.loc[event['idx']==idx, 'longitude'].values[0]\n",
    "\n",
    "    #         dis1 = locations2degrees(olat, olon, slat, slon)\n",
    "    #         dist = degrees2kilometers(dis1)\n",
    "    # #         if max_dist < dist:\n",
    "    # #             max_dist = dist\n",
    "\n",
    "    # #         if min_dist > dist:\n",
    "    # #             min_dist = dist\n",
    "\n",
    "            networks_stas.append([network,station])\n",
    "        \n",
    "   \n",
    "        events = all_pick_assignments[all_pick_assignments['idx']==idx]\n",
    "        for i in networks_stas:\n",
    "            events1 = events[events['station']==i[1]]\n",
    "            p_picks = events1[events1['phase']=='P']\n",
    "            s_picks = events1[events1['phase']=='S']\n",
    "            \n",
    "\n",
    "            if len(p_picks)>0 and len(s_picks)>0:\n",
    "                print(p_picks['datetime'].values,s_picks['datetime'].values)\n",
    "                p_pick_time = UTCDateTime(str(p_picks['datetime'].values[0]))\n",
    "                s_pick_time = UTCDateTime(str(s_picks['datetime'].values[0]))\n",
    "                \n",
    "                starttime_st = UTCDateTime(p_pick_time)-timedelta(seconds=120)\n",
    "                endtime_st = UTCDateTime(p_pick_time)+timedelta(seconds=120)\n",
    "                \n",
    "                starttime_noise = UTCDateTime(p_pick_time)-timedelta(seconds=8)\n",
    "                endtime_noise = UTCDateTime(p_pick_time)\n",
    "                \n",
    "                starttime_signal = UTCDateTime(s_pick_time)-timedelta(seconds=1)\n",
    "                endtime_signal = UTCDateTime(s_pick_time)+timedelta(seconds=2)\n",
    "                \n",
    "                print(starttime_noise,endtime_noise)\n",
    "            \n",
    "                if i[0] in ['NC', 'BK']:\n",
    "                # Query waveforms\n",
    "                    st = client_ncedc.get_waveforms(network=i[0], station=i[1],\n",
    "                                                    location=\"*\", channel=\"?HZ\",starttime=starttime_st,\n",
    "                                                    endtime=endtime_st)\n",
    "\n",
    "                elif i[0] in networks: \n",
    "                    st = client_waveform.get_waveforms(network=i[0], station=i[1],\n",
    "                                                       channel='?HZ',starttime=starttime_st, endtime=endtime_st)\n",
    "\n",
    "                else: \n",
    "                    st =  Stream()\n",
    "                    print(f\"WARNING: No data for {ii[1]}.{ii[2]}.{channel} on {otime}.\")    \n",
    "                    continue\n",
    "\n",
    "        #         print(f\"len(st):{len(st)}\")\n",
    "        #         print(st)\n",
    "\n",
    "                # Skip empty traces\n",
    "                if len(st) == 0:\n",
    "                    continue\n",
    "                    \n",
    "                print(f'First st print:{st}')\n",
    "                # Create a new stream\n",
    "                _st = Stream()\n",
    "                # Check for HH and BH channels presence\n",
    "                has_HH = bool(st.select(channel=\"HH?\"))\n",
    "                has_BH = bool(st.select(channel=\"BH?\"))\n",
    "\n",
    "                # Apply selection logic based on channel presence\n",
    "                if has_HH and has_BH:\n",
    "                    # If both HH and BH channels are present, select only HH\n",
    "                    _st += st.select(channel=\"HH?\")\n",
    "                elif has_HH:\n",
    "                    # If only HH channels are present\n",
    "                    _st += st.select(channel=\"HH?\")\n",
    "                elif has_BH:\n",
    "                    # If only BH channels are present\n",
    "                    _st += st.select(channel=\"BH?\")\n",
    "\n",
    "                _st.merge(fill_value='interpolate') # fill gaps if there are any.\n",
    "\n",
    "                print(f'Second st print:{_st}')\n",
    "            \n",
    "                noise = _st.copy().trim(starttime=starttime_noise,endtime=endtime_noise)    \n",
    "                signal = _st.copy().trim(starttime=starttime_signal,endtime=endtime_signal) \n",
    "                \n",
    "                print(f\"P and S pick times:{p_pick_time} and {s_pick_time}\")\n",
    "                print(f\"Stream start and end times:{starttime_st} and {endtime_st}\")\n",
    "                print(f\"Noise start and end times:{starttime_noise} and {endtime_noise}\")\n",
    "                print(f\"Signal start and end times:{starttime_signal} and {endtime_signal}\")\n",
    "                \n",
    "                print(f'Noise:{noise}')\n",
    "                print(f'Signal:{signal}')\n",
    "\n",
    "                noise_abs = np.percentile(abs(noise[0].data),percentile)\n",
    "                signal_abs = np.percentile(abs(signal[0].data),percentile)\n",
    "\n",
    "                snr = 20 * np.log10((signal_abs/noise_abs))\n",
    "\n",
    "                snr_list.append(snr)\n",
    "                \n",
    "            if len(p_picks)>0 and len(s_picks)==0:\n",
    "                \n",
    "                print(p_picks['datetime'].values,s_picks['datetime'].values)\n",
    "                p_pick_time = UTCDateTime(str(p_picks['datetime'].values[0]))\n",
    "#                 s_pick_time = UTCDateTime(str(s_picks['datetime'].values[0]))\n",
    "\n",
    "                starttime_st = UTCDateTime(p_pick_time)-timedelta(seconds=120)\n",
    "                endtime_st = UTCDateTime(p_pick_time)+timedelta(seconds=120)\n",
    "                \n",
    "                starttime_noise = UTCDateTime(p_pick_time)-timedelta(seconds=8)\n",
    "                endtime_noise = UTCDateTime(p_pick_time)\n",
    "                \n",
    "                starttime_signal = UTCDateTime(p_pick_time)+timedelta(seconds=1)\n",
    "                endtime_signal = UTCDateTime(p_pick_time)+timedelta(seconds=4)\n",
    "                \n",
    "            \n",
    "                if i[0] in ['NC', 'BK']:\n",
    "                # Query waveforms\n",
    "                    st = client_ncedc.get_waveforms(network=i[0], station=i[1],\n",
    "                                                    location=\"*\", channel=\"?HZ\",starttime=starttime_st, \n",
    "                                                    endtime=endtime_st)\n",
    "\n",
    "                elif i[0] in networks: \n",
    "                    st = client_waveform.get_waveforms(network=i[0], station=i[1],\n",
    "                                                       channel='?HZ',starttime=starttime_st, endtime=endtime_st)\n",
    "\n",
    "                else: \n",
    "                    st =  Stream()\n",
    "                    print(f\"WARNING: No data for {ii[1]}.{ii[2]}.{channel} on {otime}.\")    \n",
    "                    continue\n",
    "\n",
    "        #         print(f\"len(st):{len(st)}\")\n",
    "        #         print(st)\n",
    "\n",
    "                # Skip empty traces\n",
    "                if len(st) == 0:\n",
    "                    continue\n",
    "                print(f'First st print:{st}')\n",
    "                # Create a new stream\n",
    "                _st = Stream()\n",
    "                # Check for HH and BH channels presence\n",
    "                has_HH = bool(st.select(channel=\"HH?\"))\n",
    "                has_BH = bool(st.select(channel=\"BH?\"))\n",
    "\n",
    "                # Apply selection logic based on channel presence\n",
    "                if has_HH and has_BH:\n",
    "                    # If both HH and BH channels are present, select only HH\n",
    "                    _st += st.select(channel=\"HH?\")\n",
    "                elif has_HH:\n",
    "                    # If only HH channels are present\n",
    "                    _st += st.select(channel=\"HH?\")\n",
    "                elif has_BH:\n",
    "                    # If only BH channels are present\n",
    "                    _st += st.select(channel=\"BH?\")\n",
    "\n",
    "                _st.merge(fill_value='interpolate') # fill gaps if there are any.\n",
    "\n",
    "                print(f'Second st print:{_st}')\n",
    "                \n",
    "                \n",
    "                    \n",
    "\n",
    "                noise = _st.copy().trim(starttime=starttime_noise,endtime=endtime_noise)    \n",
    "                signal = _st.copy().trim(starttime=starttime_signal,endtime=endtime_signal) \n",
    "                \n",
    "                print(f\"P pick time:{p_pick_time}\")\n",
    "                print(f\"Stream start and end times:{starttime_st} and {endtime_st}\")\n",
    "                print(f\"Noise start and end times:{starttime_noise} and {endtime_noise}\")\n",
    "                print(f\"Signal start and end times:{starttime_signal} and {endtime_signal}\")\n",
    "\n",
    "                print(f'Noise:{noise}')\n",
    "                print(f'Signal:{signal}')\n",
    "\n",
    "                noise_abs = np.percentile(abs(noise[0].data),percentile)\n",
    "                signal_abs = np.percentile(abs(signal[0].data),percentile)\n",
    "\n",
    "                snr = 20 * np.log10((signal_abs/noise_abs))\n",
    "\n",
    "                snr_list.append(snr)\n",
    "                    \n",
    "            if len(p_picks)==0 and len(s_picks)>0:\n",
    "                print(p_picks['datetime'].values,s_picks['datetime'].values)\n",
    "#                 p_pick_time = UTCDateTime(str(p_picks['datetime'].values))\n",
    "                s_pick_time = UTCDateTime(str(s_picks['datetime'].values[0]))\n",
    "    \n",
    "                starttime_st = UTCDateTime(s_pick_time)-timedelta(seconds=120)\n",
    "                endtime_st = UTCDateTime(s_pick_time)+timedelta(seconds=120)\n",
    "                \n",
    "                starttime_noise = UTCDateTime(s_pick_time)-timedelta(seconds=8)\n",
    "                endtime_noise = UTCDateTime(s_pick_time)\n",
    "                \n",
    "                starttime_signal = UTCDateTime(s_pick_time)\n",
    "                endtime_signal = UTCDateTime(s_pick_time)+timedelta(seconds=3)\n",
    "                \n",
    "                print(starttime_noise,endtime_noise)\n",
    "            \n",
    "                if i[0] in ['NC', 'BK']:\n",
    "                # Query waveforms\n",
    "                    st = client_ncedc.get_waveforms(network=i[0], station=i[1],\n",
    "                                                    location=\"*\", channel=\"?HZ\",starttime=starttime_st, \n",
    "                                                    endtime=endtime_st)\n",
    "\n",
    "                elif i[0] in networks: \n",
    "                    st = client_waveform.get_waveforms(network=i[0], station=i[1],\n",
    "                                                       channel='?HZ',starttime=starttime_st, endtime=endtime_st)\n",
    "\n",
    "                else: \n",
    "                    st =  Stream()\n",
    "                    print(f\"WARNING: No data for {ii[1]}.{ii[2]}.{channel} on {otime}.\")    \n",
    "                    continue\n",
    "\n",
    "        #         print(f\"len(st):{len(st)}\")\n",
    "        #         print(st)\n",
    "\n",
    "                # Skip empty traces\n",
    "                if len(st) == 0:\n",
    "                    continue\n",
    "                    \n",
    "                print(f'First st print:{st}')\n",
    "                # Create a new stream\n",
    "                _st = Stream()\n",
    "                # Check for HH and BH channels presence\n",
    "                has_HH = bool(st.select(channel=\"HH?\"))\n",
    "                has_BH = bool(st.select(channel=\"BH?\"))\n",
    "\n",
    "                # Apply selection logic based on channel presence\n",
    "                if has_HH and has_BH:\n",
    "                    # If both HH and BH channels are present, select only HH\n",
    "                    _st += st.select(channel=\"HH?\")\n",
    "                elif has_HH:\n",
    "                    # If only HH channels are present\n",
    "                    _st += st.select(channel=\"HH?\")\n",
    "                elif has_BH:\n",
    "                    # If only BH channels are present\n",
    "                    _st += st.select(channel=\"BH?\")\n",
    "\n",
    "                _st.merge(fill_value='interpolate') # fill gaps if there are any.\n",
    "\n",
    "                print(f'Second st print:{_st}')\n",
    "\n",
    "            \n",
    "                noise = _st.copy().trim(starttime=starttime_noise,endtime=endtime_noise)    \n",
    "                signal = _st.copy().trim(starttime=starttime_signal,endtime=endtime_signal) \n",
    "                \n",
    "                print(f\"S pick time:{s_pick_time}\")\n",
    "                print(f\"Stream start and end times:{starttime_st} and {endtime_st}\")\n",
    "                print(f\"Noise start and end times:{starttime_noise} and {endtime_noise}\")\n",
    "                print(f\"Signal start and end times:{starttime_signal} and {endtime_signal}\")\n",
    "                \n",
    "                print(f'Noise:{noise}')\n",
    "                print(f'Signal:{signal}')\n",
    "\n",
    "                noise_abs = np.percentile(abs(noise[0].data),percentile)\n",
    "                signal_abs = np.percentile(abs(signal[0].data),percentile)\n",
    "\n",
    "                snr = 20 * np.log10((signal_abs/noise_abs))\n",
    "\n",
    "                snr_list.append(snr)\n",
    "            \n",
    "    all_assignments_picks['snr']=snr_list\n",
    "     \n",
    "    return snr_list"
   ]
  },
  {
   "cell_type": "code",
   "execution_count": null,
   "id": "52736088",
   "metadata": {},
   "outputs": [],
   "source": [
    "snr_list = calc_snr(all_picks,all_pick_assignments)"
   ]
  },
  {
   "cell_type": "code",
   "execution_count": null,
   "id": "48ed9de0",
   "metadata": {},
   "outputs": [],
   "source": [
    "snr_list"
   ]
  },
  {
   "cell_type": "code",
   "execution_count": null,
   "id": "566c5668",
   "metadata": {},
   "outputs": [],
   "source": [
    "client_waveform = WaveformClient()\n",
    "\n",
    "p_pick_time = '2014-01-02T07:40:02.642533Z'\n",
    "\n",
    "starttime_st = UTCDateTime(p_pick_time)-timedelta(seconds=120)\n",
    "endtime_st = UTCDateTime(p_pick_time)+timedelta(seconds=120)\n",
    "\n",
    "# starttime_st = UTCDateTime('2011-01-03T00:00:0.000000Z')\n",
    "# endtime_st = UTCDateTime('2011-01-03T12:59:59.000000Z')\n",
    "\n",
    "print(f'Requested start and end times:{starttime_st} and {endtime_st}')\n",
    "\n",
    "\n",
    "st = client_waveform.get_waveforms(network='CN', station='BTB',\n",
    "                                       channel='HHZ',starttime=starttime_st, endtime=endtime_st)\n",
    "print(f'Actual start and end times: {st[0].stats.starttime} and {st[0].stats.endtime}')\n"
   ]
  },
  {
   "cell_type": "code",
   "execution_count": null,
   "id": "236a901a",
   "metadata": {},
   "outputs": [],
   "source": []
  }
 ],
 "metadata": {
  "kernelspec": {
   "display_name": "seismo (SHARED)",
   "language": "python",
   "name": "seismo"
  },
  "language_info": {
   "codemirror_mode": {
    "name": "ipython",
    "version": 3
   },
   "file_extension": ".py",
   "mimetype": "text/x-python",
   "name": "python",
   "nbconvert_exporter": "python",
   "pygments_lexer": "ipython3",
   "version": "3.9.18"
  }
 },
 "nbformat": 4,
 "nbformat_minor": 5
}
