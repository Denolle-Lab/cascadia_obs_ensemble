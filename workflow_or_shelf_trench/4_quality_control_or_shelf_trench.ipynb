{
 "cells": [
  {
   "cell_type": "code",
   "execution_count": null,
   "id": "a9659be3",
   "metadata": {},
   "outputs": [],
   "source": [
    "# pip install basemap\n"
   ]
  },
  {
   "cell_type": "code",
   "execution_count": 2,
   "id": "c92e5226",
   "metadata": {},
   "outputs": [],
   "source": [
    "import os\n",
    "import sys\n",
    "import pandas as pd\n",
    "import numpy as np\n",
    "import obspy\n",
    "from tqdm import tqdm\n",
    "\n",
    "from obspy.clients.fdsn import Client\n",
    "from obspy.clients.fdsn import Client as FDSNClient\n",
    "\n",
    "from mpl_toolkits.basemap import Basemap\n",
    "\n",
    "\n",
    "from pnwstore.mseed import WaveformClient\n",
    "from datetime import datetime\n",
    "from matplotlib import pyplot as plt\n",
    "from matplotlib.backends.backend_pdf import PdfPages\n",
    "\n",
    "from obspy import UTCDateTime\n",
    "\n",
    "from tqdm import tqdm\n",
    "from obspy.geodetics import locations2degrees, degrees2kilometers\n",
    "\n",
    "notebook_dir = os.getcwd()\n",
    "parent_dir = os.path.abspath(os.path.join(notebook_dir, '../'))\n",
    "if parent_dir not in sys.path:\n",
    "    sys.path.append(parent_dir)\n",
    "    \n",
    "from plot_utils import *\n",
    "from qc_utils import * "
   ]
  },
  {
   "cell_type": "markdown",
   "id": "ce408df1",
   "metadata": {},
   "source": [
    "## Morton Catalog"
   ]
  },
  {
   "cell_type": "code",
   "execution_count": 3,
   "id": "6bd019d5",
   "metadata": {},
   "outputs": [
    {
     "data": {
      "text/html": [
       "<div>\n",
       "<style scoped>\n",
       "    .dataframe tbody tr th:only-of-type {\n",
       "        vertical-align: middle;\n",
       "    }\n",
       "\n",
       "    .dataframe tbody tr th {\n",
       "        vertical-align: top;\n",
       "    }\n",
       "\n",
       "    .dataframe thead th {\n",
       "        text-align: right;\n",
       "    }\n",
       "</style>\n",
       "<table border=\"1\" class=\"dataframe\">\n",
       "  <thead>\n",
       "    <tr style=\"text-align: right;\">\n",
       "      <th></th>\n",
       "      <th>CI YEAR</th>\n",
       "      <th>TSTRING</th>\n",
       "      <th>YEAR</th>\n",
       "      <th>MONTH</th>\n",
       "      <th>DAY</th>\n",
       "      <th>HOUR</th>\n",
       "      <th>MINUTE</th>\n",
       "      <th>SECOND</th>\n",
       "      <th>LAT</th>\n",
       "      <th>LON</th>\n",
       "      <th>...</th>\n",
       "      <th>dist to nearest stn</th>\n",
       "      <th>tt RMS</th>\n",
       "      <th>ERH</th>\n",
       "      <th>ERZ</th>\n",
       "      <th>STRIKE</th>\n",
       "      <th>DIP</th>\n",
       "      <th>RAKE</th>\n",
       "      <th>PLATE DESIGNATION</th>\n",
       "      <th>TEMPLATE EVENT?</th>\n",
       "      <th>datetime</th>\n",
       "    </tr>\n",
       "  </thead>\n",
       "  <tbody>\n",
       "    <tr>\n",
       "      <th>0</th>\n",
       "      <td>1.0</td>\n",
       "      <td>2.011073e+13</td>\n",
       "      <td>2011.0</td>\n",
       "      <td>7.0</td>\n",
       "      <td>26.0</td>\n",
       "      <td>1.0</td>\n",
       "      <td>2.0</td>\n",
       "      <td>7.37</td>\n",
       "      <td>47.3217</td>\n",
       "      <td>-123.2708</td>\n",
       "      <td>...</td>\n",
       "      <td>27.4</td>\n",
       "      <td>0.19</td>\n",
       "      <td>0.8</td>\n",
       "      <td>1.2</td>\n",
       "      <td>NaN</td>\n",
       "      <td>NaN</td>\n",
       "      <td>NaN</td>\n",
       "      <td>Interface</td>\n",
       "      <td>Catalog</td>\n",
       "      <td>2011-07-26 01:02:07+00:00</td>\n",
       "    </tr>\n",
       "    <tr>\n",
       "      <th>1</th>\n",
       "      <td>1.0</td>\n",
       "      <td>2.011073e+13</td>\n",
       "      <td>2011.0</td>\n",
       "      <td>7.0</td>\n",
       "      <td>26.0</td>\n",
       "      <td>1.0</td>\n",
       "      <td>2.0</td>\n",
       "      <td>7.72</td>\n",
       "      <td>44.2888</td>\n",
       "      <td>-124.3340</td>\n",
       "      <td>...</td>\n",
       "      <td>163.8</td>\n",
       "      <td>0.06</td>\n",
       "      <td>13.1</td>\n",
       "      <td>3.2</td>\n",
       "      <td>NaN</td>\n",
       "      <td>NaN</td>\n",
       "      <td>NaN</td>\n",
       "      <td>Upper Plate</td>\n",
       "      <td>NaN</td>\n",
       "      <td>2011-07-26 01:02:07+00:00</td>\n",
       "    </tr>\n",
       "    <tr>\n",
       "      <th>2</th>\n",
       "      <td>1.0</td>\n",
       "      <td>2.011073e+13</td>\n",
       "      <td>2011.0</td>\n",
       "      <td>7.0</td>\n",
       "      <td>26.0</td>\n",
       "      <td>1.0</td>\n",
       "      <td>2.0</td>\n",
       "      <td>8.56</td>\n",
       "      <td>44.3017</td>\n",
       "      <td>-124.3180</td>\n",
       "      <td>...</td>\n",
       "      <td>131.1</td>\n",
       "      <td>0.50</td>\n",
       "      <td>35.4</td>\n",
       "      <td>22.2</td>\n",
       "      <td>NaN</td>\n",
       "      <td>NaN</td>\n",
       "      <td>NaN</td>\n",
       "      <td>Upper Plate</td>\n",
       "      <td>NaN</td>\n",
       "      <td>2011-07-26 01:02:08+00:00</td>\n",
       "    </tr>\n",
       "    <tr>\n",
       "      <th>3</th>\n",
       "      <td>1.0</td>\n",
       "      <td>2.011073e+13</td>\n",
       "      <td>2011.0</td>\n",
       "      <td>7.0</td>\n",
       "      <td>26.0</td>\n",
       "      <td>7.0</td>\n",
       "      <td>31.0</td>\n",
       "      <td>2.17</td>\n",
       "      <td>48.2635</td>\n",
       "      <td>-124.9298</td>\n",
       "      <td>...</td>\n",
       "      <td>44.4</td>\n",
       "      <td>0.77</td>\n",
       "      <td>3.5</td>\n",
       "      <td>6.4</td>\n",
       "      <td>NaN</td>\n",
       "      <td>NaN</td>\n",
       "      <td>NaN</td>\n",
       "      <td>Upper Plate</td>\n",
       "      <td>NaN</td>\n",
       "      <td>2011-07-26 07:31:02+00:00</td>\n",
       "    </tr>\n",
       "    <tr>\n",
       "      <th>4</th>\n",
       "      <td>1.0</td>\n",
       "      <td>2.011073e+13</td>\n",
       "      <td>2011.0</td>\n",
       "      <td>7.0</td>\n",
       "      <td>26.0</td>\n",
       "      <td>9.0</td>\n",
       "      <td>50.0</td>\n",
       "      <td>27.63</td>\n",
       "      <td>48.3032</td>\n",
       "      <td>-124.9157</td>\n",
       "      <td>...</td>\n",
       "      <td>46.1</td>\n",
       "      <td>0.94</td>\n",
       "      <td>4.0</td>\n",
       "      <td>6.9</td>\n",
       "      <td>NaN</td>\n",
       "      <td>NaN</td>\n",
       "      <td>NaN</td>\n",
       "      <td>Upper Plate</td>\n",
       "      <td>T</td>\n",
       "      <td>2011-07-26 09:50:27+00:00</td>\n",
       "    </tr>\n",
       "  </tbody>\n",
       "</table>\n",
       "<p>5 rows × 24 columns</p>\n",
       "</div>"
      ],
      "text/plain": [
       "   CI YEAR       TSTRING    YEAR  MONTH   DAY  HOUR  MINUTE  SECOND      LAT  \\\n",
       "0      1.0  2.011073e+13  2011.0    7.0  26.0   1.0     2.0    7.37  47.3217   \n",
       "1      1.0  2.011073e+13  2011.0    7.0  26.0   1.0     2.0    7.72  44.2888   \n",
       "2      1.0  2.011073e+13  2011.0    7.0  26.0   1.0     2.0    8.56  44.3017   \n",
       "3      1.0  2.011073e+13  2011.0    7.0  26.0   7.0    31.0    2.17  48.2635   \n",
       "4      1.0  2.011073e+13  2011.0    7.0  26.0   9.0    50.0   27.63  48.3032   \n",
       "\n",
       "        LON  ...  dist to nearest stn  tt RMS   ERH   ERZ  STRIKE  DIP  RAKE  \\\n",
       "0 -123.2708  ...                 27.4    0.19   0.8   1.2     NaN  NaN   NaN   \n",
       "1 -124.3340  ...                163.8    0.06  13.1   3.2     NaN  NaN   NaN   \n",
       "2 -124.3180  ...                131.1    0.50  35.4  22.2     NaN  NaN   NaN   \n",
       "3 -124.9298  ...                 44.4    0.77   3.5   6.4     NaN  NaN   NaN   \n",
       "4 -124.9157  ...                 46.1    0.94   4.0   6.9     NaN  NaN   NaN   \n",
       "\n",
       "   PLATE DESIGNATION  TEMPLATE EVENT?                  datetime  \n",
       "0          Interface          Catalog 2011-07-26 01:02:07+00:00  \n",
       "1        Upper Plate              NaN 2011-07-26 01:02:07+00:00  \n",
       "2        Upper Plate              NaN 2011-07-26 01:02:08+00:00  \n",
       "3        Upper Plate              NaN 2011-07-26 07:31:02+00:00  \n",
       "4        Upper Plate                T 2011-07-26 09:50:27+00:00  \n",
       "\n",
       "[5 rows x 24 columns]"
      ]
     },
     "execution_count": 3,
     "metadata": {},
     "output_type": "execute_result"
    }
   ],
   "source": [
    "# Read Morton's catalog\n",
    "events_morton = pd.read_csv('../data/ds01.csv')\n",
    "# Convert the TSTRING to datetime\n",
    "events_morton['datetime'] = pd.to_datetime(events_morton['TSTRING'], format='%Y%m%d%H%M%S', utc=True)\n",
    "# Get the events in the Morton catalog \n",
    "t1 = pd.Timestamp('2011-1-1 00:00:00.000000+0000', tz='UTC')\n",
    "t2 = pd.Timestamp('2015-12-31 23:59:59.999999+0000', tz='UTC')\n",
    "\n",
    "events_morton= events_morton.loc[(events_morton['datetime'] > t1) & (events_morton['datetime'] < t2) ]\n",
    "\n",
    "events_morton.head()"
   ]
  },
  {
   "cell_type": "code",
   "execution_count": 4,
   "id": "c3e58514",
   "metadata": {},
   "outputs": [
    {
     "data": {
      "text/html": [
       "<div>\n",
       "<style scoped>\n",
       "    .dataframe tbody tr th:only-of-type {\n",
       "        vertical-align: middle;\n",
       "    }\n",
       "\n",
       "    .dataframe tbody tr th {\n",
       "        vertical-align: top;\n",
       "    }\n",
       "\n",
       "    .dataframe thead th {\n",
       "        text-align: right;\n",
       "    }\n",
       "</style>\n",
       "<table border=\"1\" class=\"dataframe\">\n",
       "  <thead>\n",
       "    <tr style=\"text-align: right;\">\n",
       "      <th></th>\n",
       "      <th>CI YEAR</th>\n",
       "      <th>TSTRING</th>\n",
       "      <th>YEAR</th>\n",
       "      <th>MONTH</th>\n",
       "      <th>DAY</th>\n",
       "      <th>HOUR</th>\n",
       "      <th>MINUTE</th>\n",
       "      <th>SECOND</th>\n",
       "      <th>LAT</th>\n",
       "      <th>LON</th>\n",
       "      <th>...</th>\n",
       "      <th>dist to nearest stn</th>\n",
       "      <th>tt RMS</th>\n",
       "      <th>ERH</th>\n",
       "      <th>ERZ</th>\n",
       "      <th>STRIKE</th>\n",
       "      <th>DIP</th>\n",
       "      <th>RAKE</th>\n",
       "      <th>PLATE DESIGNATION</th>\n",
       "      <th>TEMPLATE EVENT?</th>\n",
       "      <th>datetime</th>\n",
       "    </tr>\n",
       "  </thead>\n",
       "  <tbody>\n",
       "    <tr>\n",
       "      <th>0</th>\n",
       "      <td>1.0</td>\n",
       "      <td>2.011073e+13</td>\n",
       "      <td>2011.0</td>\n",
       "      <td>7.0</td>\n",
       "      <td>26.0</td>\n",
       "      <td>1.0</td>\n",
       "      <td>2.0</td>\n",
       "      <td>7.37</td>\n",
       "      <td>47.3217</td>\n",
       "      <td>-123.2708</td>\n",
       "      <td>...</td>\n",
       "      <td>27.4</td>\n",
       "      <td>0.19</td>\n",
       "      <td>0.8</td>\n",
       "      <td>1.2</td>\n",
       "      <td>NaN</td>\n",
       "      <td>NaN</td>\n",
       "      <td>NaN</td>\n",
       "      <td>Interface</td>\n",
       "      <td>Catalog</td>\n",
       "      <td>2011-07-26 01:02:07+00:00</td>\n",
       "    </tr>\n",
       "    <tr>\n",
       "      <th>1</th>\n",
       "      <td>1.0</td>\n",
       "      <td>2.011073e+13</td>\n",
       "      <td>2011.0</td>\n",
       "      <td>7.0</td>\n",
       "      <td>26.0</td>\n",
       "      <td>1.0</td>\n",
       "      <td>2.0</td>\n",
       "      <td>7.72</td>\n",
       "      <td>44.2888</td>\n",
       "      <td>-124.3340</td>\n",
       "      <td>...</td>\n",
       "      <td>163.8</td>\n",
       "      <td>0.06</td>\n",
       "      <td>13.1</td>\n",
       "      <td>3.2</td>\n",
       "      <td>NaN</td>\n",
       "      <td>NaN</td>\n",
       "      <td>NaN</td>\n",
       "      <td>Upper Plate</td>\n",
       "      <td>NaN</td>\n",
       "      <td>2011-07-26 01:02:07+00:00</td>\n",
       "    </tr>\n",
       "    <tr>\n",
       "      <th>2</th>\n",
       "      <td>1.0</td>\n",
       "      <td>2.011073e+13</td>\n",
       "      <td>2011.0</td>\n",
       "      <td>7.0</td>\n",
       "      <td>26.0</td>\n",
       "      <td>1.0</td>\n",
       "      <td>2.0</td>\n",
       "      <td>8.56</td>\n",
       "      <td>44.3017</td>\n",
       "      <td>-124.3180</td>\n",
       "      <td>...</td>\n",
       "      <td>131.1</td>\n",
       "      <td>0.50</td>\n",
       "      <td>35.4</td>\n",
       "      <td>22.2</td>\n",
       "      <td>NaN</td>\n",
       "      <td>NaN</td>\n",
       "      <td>NaN</td>\n",
       "      <td>Upper Plate</td>\n",
       "      <td>NaN</td>\n",
       "      <td>2011-07-26 01:02:08+00:00</td>\n",
       "    </tr>\n",
       "    <tr>\n",
       "      <th>3</th>\n",
       "      <td>1.0</td>\n",
       "      <td>2.011073e+13</td>\n",
       "      <td>2011.0</td>\n",
       "      <td>7.0</td>\n",
       "      <td>26.0</td>\n",
       "      <td>7.0</td>\n",
       "      <td>31.0</td>\n",
       "      <td>2.17</td>\n",
       "      <td>48.2635</td>\n",
       "      <td>-124.9298</td>\n",
       "      <td>...</td>\n",
       "      <td>44.4</td>\n",
       "      <td>0.77</td>\n",
       "      <td>3.5</td>\n",
       "      <td>6.4</td>\n",
       "      <td>NaN</td>\n",
       "      <td>NaN</td>\n",
       "      <td>NaN</td>\n",
       "      <td>Upper Plate</td>\n",
       "      <td>NaN</td>\n",
       "      <td>2011-07-26 07:31:02+00:00</td>\n",
       "    </tr>\n",
       "    <tr>\n",
       "      <th>4</th>\n",
       "      <td>1.0</td>\n",
       "      <td>2.011073e+13</td>\n",
       "      <td>2011.0</td>\n",
       "      <td>7.0</td>\n",
       "      <td>26.0</td>\n",
       "      <td>9.0</td>\n",
       "      <td>50.0</td>\n",
       "      <td>27.63</td>\n",
       "      <td>48.3032</td>\n",
       "      <td>-124.9157</td>\n",
       "      <td>...</td>\n",
       "      <td>46.1</td>\n",
       "      <td>0.94</td>\n",
       "      <td>4.0</td>\n",
       "      <td>6.9</td>\n",
       "      <td>NaN</td>\n",
       "      <td>NaN</td>\n",
       "      <td>NaN</td>\n",
       "      <td>Upper Plate</td>\n",
       "      <td>T</td>\n",
       "      <td>2011-07-26 09:50:27+00:00</td>\n",
       "    </tr>\n",
       "    <tr>\n",
       "      <th>...</th>\n",
       "      <td>...</td>\n",
       "      <td>...</td>\n",
       "      <td>...</td>\n",
       "      <td>...</td>\n",
       "      <td>...</td>\n",
       "      <td>...</td>\n",
       "      <td>...</td>\n",
       "      <td>...</td>\n",
       "      <td>...</td>\n",
       "      <td>...</td>\n",
       "      <td>...</td>\n",
       "      <td>...</td>\n",
       "      <td>...</td>\n",
       "      <td>...</td>\n",
       "      <td>...</td>\n",
       "      <td>...</td>\n",
       "      <td>...</td>\n",
       "      <td>...</td>\n",
       "      <td>...</td>\n",
       "      <td>...</td>\n",
       "      <td>...</td>\n",
       "    </tr>\n",
       "    <tr>\n",
       "      <th>5277</th>\n",
       "      <td>4.0</td>\n",
       "      <td>2.015101e+13</td>\n",
       "      <td>2015.0</td>\n",
       "      <td>10.0</td>\n",
       "      <td>7.0</td>\n",
       "      <td>8.0</td>\n",
       "      <td>1.0</td>\n",
       "      <td>50.83</td>\n",
       "      <td>40.5895</td>\n",
       "      <td>-124.0455</td>\n",
       "      <td>...</td>\n",
       "      <td>5.4</td>\n",
       "      <td>0.14</td>\n",
       "      <td>0.9</td>\n",
       "      <td>0.8</td>\n",
       "      <td>NaN</td>\n",
       "      <td>NaN</td>\n",
       "      <td>NaN</td>\n",
       "      <td>Slab</td>\n",
       "      <td>NaN</td>\n",
       "      <td>2015-10-07 08:01:50+00:00</td>\n",
       "    </tr>\n",
       "    <tr>\n",
       "      <th>5278</th>\n",
       "      <td>4.0</td>\n",
       "      <td>2.015101e+13</td>\n",
       "      <td>2015.0</td>\n",
       "      <td>10.0</td>\n",
       "      <td>7.0</td>\n",
       "      <td>8.0</td>\n",
       "      <td>7.0</td>\n",
       "      <td>8.40</td>\n",
       "      <td>40.5380</td>\n",
       "      <td>-123.7217</td>\n",
       "      <td>...</td>\n",
       "      <td>14.9</td>\n",
       "      <td>0.09</td>\n",
       "      <td>3.3</td>\n",
       "      <td>13.5</td>\n",
       "      <td>NaN</td>\n",
       "      <td>NaN</td>\n",
       "      <td>NaN</td>\n",
       "      <td>Upper Plate</td>\n",
       "      <td>NaN</td>\n",
       "      <td>2015-10-07 08:07:08+00:00</td>\n",
       "    </tr>\n",
       "    <tr>\n",
       "      <th>5279</th>\n",
       "      <td>4.0</td>\n",
       "      <td>2.015101e+13</td>\n",
       "      <td>2015.0</td>\n",
       "      <td>10.0</td>\n",
       "      <td>7.0</td>\n",
       "      <td>11.0</td>\n",
       "      <td>31.0</td>\n",
       "      <td>26.69</td>\n",
       "      <td>40.5822</td>\n",
       "      <td>-124.0432</td>\n",
       "      <td>...</td>\n",
       "      <td>5.6</td>\n",
       "      <td>0.05</td>\n",
       "      <td>1.7</td>\n",
       "      <td>0.8</td>\n",
       "      <td>NaN</td>\n",
       "      <td>NaN</td>\n",
       "      <td>NaN</td>\n",
       "      <td>Slab</td>\n",
       "      <td>NaN</td>\n",
       "      <td>2015-10-07 11:31:26+00:00</td>\n",
       "    </tr>\n",
       "    <tr>\n",
       "      <th>5280</th>\n",
       "      <td>4.0</td>\n",
       "      <td>2.015101e+13</td>\n",
       "      <td>2015.0</td>\n",
       "      <td>10.0</td>\n",
       "      <td>7.0</td>\n",
       "      <td>18.0</td>\n",
       "      <td>11.0</td>\n",
       "      <td>9.52</td>\n",
       "      <td>40.2710</td>\n",
       "      <td>-124.3777</td>\n",
       "      <td>...</td>\n",
       "      <td>7.9</td>\n",
       "      <td>0.19</td>\n",
       "      <td>0.7</td>\n",
       "      <td>0.2</td>\n",
       "      <td>NaN</td>\n",
       "      <td>NaN</td>\n",
       "      <td>NaN</td>\n",
       "      <td>Upper Plate</td>\n",
       "      <td>NaN</td>\n",
       "      <td>2015-10-07 18:11:09+00:00</td>\n",
       "    </tr>\n",
       "    <tr>\n",
       "      <th>5281</th>\n",
       "      <td>4.0</td>\n",
       "      <td>2.015101e+13</td>\n",
       "      <td>2015.0</td>\n",
       "      <td>10.0</td>\n",
       "      <td>7.0</td>\n",
       "      <td>21.0</td>\n",
       "      <td>45.0</td>\n",
       "      <td>50.37</td>\n",
       "      <td>40.1602</td>\n",
       "      <td>-123.8320</td>\n",
       "      <td>...</td>\n",
       "      <td>29.4</td>\n",
       "      <td>0.22</td>\n",
       "      <td>1.3</td>\n",
       "      <td>18.6</td>\n",
       "      <td>NaN</td>\n",
       "      <td>NaN</td>\n",
       "      <td>NaN</td>\n",
       "      <td>Undef</td>\n",
       "      <td>NaN</td>\n",
       "      <td>2015-10-07 21:45:50+00:00</td>\n",
       "    </tr>\n",
       "  </tbody>\n",
       "</table>\n",
       "<p>5282 rows × 24 columns</p>\n",
       "</div>"
      ],
      "text/plain": [
       "      CI YEAR       TSTRING    YEAR  MONTH   DAY  HOUR  MINUTE  SECOND  \\\n",
       "0         1.0  2.011073e+13  2011.0    7.0  26.0   1.0     2.0    7.37   \n",
       "1         1.0  2.011073e+13  2011.0    7.0  26.0   1.0     2.0    7.72   \n",
       "2         1.0  2.011073e+13  2011.0    7.0  26.0   1.0     2.0    8.56   \n",
       "3         1.0  2.011073e+13  2011.0    7.0  26.0   7.0    31.0    2.17   \n",
       "4         1.0  2.011073e+13  2011.0    7.0  26.0   9.0    50.0   27.63   \n",
       "...       ...           ...     ...    ...   ...   ...     ...     ...   \n",
       "5277      4.0  2.015101e+13  2015.0   10.0   7.0   8.0     1.0   50.83   \n",
       "5278      4.0  2.015101e+13  2015.0   10.0   7.0   8.0     7.0    8.40   \n",
       "5279      4.0  2.015101e+13  2015.0   10.0   7.0  11.0    31.0   26.69   \n",
       "5280      4.0  2.015101e+13  2015.0   10.0   7.0  18.0    11.0    9.52   \n",
       "5281      4.0  2.015101e+13  2015.0   10.0   7.0  21.0    45.0   50.37   \n",
       "\n",
       "          LAT       LON  ...  dist to nearest stn  tt RMS   ERH   ERZ  STRIKE  \\\n",
       "0     47.3217 -123.2708  ...                 27.4    0.19   0.8   1.2     NaN   \n",
       "1     44.2888 -124.3340  ...                163.8    0.06  13.1   3.2     NaN   \n",
       "2     44.3017 -124.3180  ...                131.1    0.50  35.4  22.2     NaN   \n",
       "3     48.2635 -124.9298  ...                 44.4    0.77   3.5   6.4     NaN   \n",
       "4     48.3032 -124.9157  ...                 46.1    0.94   4.0   6.9     NaN   \n",
       "...       ...       ...  ...                  ...     ...   ...   ...     ...   \n",
       "5277  40.5895 -124.0455  ...                  5.4    0.14   0.9   0.8     NaN   \n",
       "5278  40.5380 -123.7217  ...                 14.9    0.09   3.3  13.5     NaN   \n",
       "5279  40.5822 -124.0432  ...                  5.6    0.05   1.7   0.8     NaN   \n",
       "5280  40.2710 -124.3777  ...                  7.9    0.19   0.7   0.2     NaN   \n",
       "5281  40.1602 -123.8320  ...                 29.4    0.22   1.3  18.6     NaN   \n",
       "\n",
       "      DIP  RAKE  PLATE DESIGNATION  TEMPLATE EVENT?                  datetime  \n",
       "0     NaN   NaN          Interface          Catalog 2011-07-26 01:02:07+00:00  \n",
       "1     NaN   NaN        Upper Plate              NaN 2011-07-26 01:02:07+00:00  \n",
       "2     NaN   NaN        Upper Plate              NaN 2011-07-26 01:02:08+00:00  \n",
       "3     NaN   NaN        Upper Plate              NaN 2011-07-26 07:31:02+00:00  \n",
       "4     NaN   NaN        Upper Plate                T 2011-07-26 09:50:27+00:00  \n",
       "...   ...   ...                ...              ...                       ...  \n",
       "5277  NaN   NaN               Slab              NaN 2015-10-07 08:01:50+00:00  \n",
       "5278  NaN   NaN        Upper Plate              NaN 2015-10-07 08:07:08+00:00  \n",
       "5279  NaN   NaN               Slab              NaN 2015-10-07 11:31:26+00:00  \n",
       "5280  NaN   NaN        Upper Plate              NaN 2015-10-07 18:11:09+00:00  \n",
       "5281  NaN   NaN              Undef              NaN 2015-10-07 21:45:50+00:00  \n",
       "\n",
       "[5282 rows x 24 columns]"
      ]
     },
     "execution_count": 4,
     "metadata": {},
     "output_type": "execute_result"
    }
   ],
   "source": [
    "events_morton"
   ]
  },
  {
   "cell_type": "markdown",
   "id": "a24957dc",
   "metadata": {},
   "source": [
    "## ANSS Catalog"
   ]
  },
  {
   "cell_type": "code",
   "execution_count": 5,
   "id": "ca384628",
   "metadata": {},
   "outputs": [
    {
     "data": {
      "text/html": [
       "<div>\n",
       "<style scoped>\n",
       "    .dataframe tbody tr th:only-of-type {\n",
       "        vertical-align: middle;\n",
       "    }\n",
       "\n",
       "    .dataframe tbody tr th {\n",
       "        vertical-align: top;\n",
       "    }\n",
       "\n",
       "    .dataframe thead th {\n",
       "        text-align: right;\n",
       "    }\n",
       "</style>\n",
       "<table border=\"1\" class=\"dataframe\">\n",
       "  <thead>\n",
       "    <tr style=\"text-align: right;\">\n",
       "      <th></th>\n",
       "      <th>Unnamed: 0</th>\n",
       "      <th>time</th>\n",
       "      <th>latitude</th>\n",
       "      <th>longitude</th>\n",
       "      <th>depth</th>\n",
       "      <th>mag</th>\n",
       "      <th>magType</th>\n",
       "      <th>nst</th>\n",
       "      <th>gap</th>\n",
       "      <th>dmin</th>\n",
       "      <th>...</th>\n",
       "      <th>place</th>\n",
       "      <th>type</th>\n",
       "      <th>horizontalError</th>\n",
       "      <th>depthError</th>\n",
       "      <th>magError</th>\n",
       "      <th>magNst</th>\n",
       "      <th>status</th>\n",
       "      <th>locationSource</th>\n",
       "      <th>magSource</th>\n",
       "      <th>datetime</th>\n",
       "    </tr>\n",
       "  </thead>\n",
       "  <tbody>\n",
       "    <tr>\n",
       "      <th>0</th>\n",
       "      <td>0</td>\n",
       "      <td>2011-01-01T00:21:06.570Z</td>\n",
       "      <td>38.809834</td>\n",
       "      <td>-122.793663</td>\n",
       "      <td>1.746</td>\n",
       "      <td>0.88</td>\n",
       "      <td>md</td>\n",
       "      <td>14.0</td>\n",
       "      <td>73.0</td>\n",
       "      <td>0.001802</td>\n",
       "      <td>...</td>\n",
       "      <td>6 km WSW of Cobb, California</td>\n",
       "      <td>earthquake</td>\n",
       "      <td>0.30</td>\n",
       "      <td>0.56</td>\n",
       "      <td>0.010</td>\n",
       "      <td>16.0</td>\n",
       "      <td>automatic</td>\n",
       "      <td>nc</td>\n",
       "      <td>nc</td>\n",
       "      <td>2011-01-01 00:21:06.570000+00:00</td>\n",
       "    </tr>\n",
       "    <tr>\n",
       "      <th>1</th>\n",
       "      <td>1</td>\n",
       "      <td>2011-01-01T02:04:41.480Z</td>\n",
       "      <td>38.789001</td>\n",
       "      <td>-122.747002</td>\n",
       "      <td>-0.844</td>\n",
       "      <td>0.28</td>\n",
       "      <td>md</td>\n",
       "      <td>5.0</td>\n",
       "      <td>122.0</td>\n",
       "      <td>0.009910</td>\n",
       "      <td>...</td>\n",
       "      <td>4 km SSW of Cobb, California</td>\n",
       "      <td>earthquake</td>\n",
       "      <td>0.42</td>\n",
       "      <td>2.39</td>\n",
       "      <td>0.200</td>\n",
       "      <td>6.0</td>\n",
       "      <td>automatic</td>\n",
       "      <td>nc</td>\n",
       "      <td>nc</td>\n",
       "      <td>2011-01-01 02:04:41.480000+00:00</td>\n",
       "    </tr>\n",
       "    <tr>\n",
       "      <th>2</th>\n",
       "      <td>2</td>\n",
       "      <td>2011-01-01T02:53:49.640Z</td>\n",
       "      <td>38.817333</td>\n",
       "      <td>-122.821167</td>\n",
       "      <td>1.929</td>\n",
       "      <td>1.03</td>\n",
       "      <td>md</td>\n",
       "      <td>40.0</td>\n",
       "      <td>44.0</td>\n",
       "      <td>0.010810</td>\n",
       "      <td>...</td>\n",
       "      <td>8 km W of Cobb, California</td>\n",
       "      <td>earthquake</td>\n",
       "      <td>0.14</td>\n",
       "      <td>0.19</td>\n",
       "      <td>0.060</td>\n",
       "      <td>13.0</td>\n",
       "      <td>reviewed</td>\n",
       "      <td>nc</td>\n",
       "      <td>nc</td>\n",
       "      <td>2011-01-01 02:53:49.640000+00:00</td>\n",
       "    </tr>\n",
       "    <tr>\n",
       "      <th>3</th>\n",
       "      <td>3</td>\n",
       "      <td>2011-01-01T03:11:04.720Z</td>\n",
       "      <td>38.841835</td>\n",
       "      <td>-122.829002</td>\n",
       "      <td>1.076</td>\n",
       "      <td>0.43</td>\n",
       "      <td>md</td>\n",
       "      <td>7.0</td>\n",
       "      <td>77.0</td>\n",
       "      <td>0.013510</td>\n",
       "      <td>...</td>\n",
       "      <td>9 km WNW of Cobb, California</td>\n",
       "      <td>earthquake</td>\n",
       "      <td>0.43</td>\n",
       "      <td>0.88</td>\n",
       "      <td>0.150</td>\n",
       "      <td>7.0</td>\n",
       "      <td>automatic</td>\n",
       "      <td>nc</td>\n",
       "      <td>nc</td>\n",
       "      <td>2011-01-01 03:11:04.720000+00:00</td>\n",
       "    </tr>\n",
       "    <tr>\n",
       "      <th>4</th>\n",
       "      <td>4</td>\n",
       "      <td>2011-01-01T03:32:55.630Z</td>\n",
       "      <td>38.835833</td>\n",
       "      <td>-122.807000</td>\n",
       "      <td>0.947</td>\n",
       "      <td>0.16</td>\n",
       "      <td>md</td>\n",
       "      <td>9.0</td>\n",
       "      <td>112.0</td>\n",
       "      <td>0.012610</td>\n",
       "      <td>...</td>\n",
       "      <td>7 km WNW of Cobb, California</td>\n",
       "      <td>earthquake</td>\n",
       "      <td>0.33</td>\n",
       "      <td>0.72</td>\n",
       "      <td>0.123</td>\n",
       "      <td>2.0</td>\n",
       "      <td>reviewed</td>\n",
       "      <td>nc</td>\n",
       "      <td>nc</td>\n",
       "      <td>2011-01-01 03:32:55.630000+00:00</td>\n",
       "    </tr>\n",
       "    <tr>\n",
       "      <th>...</th>\n",
       "      <td>...</td>\n",
       "      <td>...</td>\n",
       "      <td>...</td>\n",
       "      <td>...</td>\n",
       "      <td>...</td>\n",
       "      <td>...</td>\n",
       "      <td>...</td>\n",
       "      <td>...</td>\n",
       "      <td>...</td>\n",
       "      <td>...</td>\n",
       "      <td>...</td>\n",
       "      <td>...</td>\n",
       "      <td>...</td>\n",
       "      <td>...</td>\n",
       "      <td>...</td>\n",
       "      <td>...</td>\n",
       "      <td>...</td>\n",
       "      <td>...</td>\n",
       "      <td>...</td>\n",
       "      <td>...</td>\n",
       "      <td>...</td>\n",
       "    </tr>\n",
       "    <tr>\n",
       "      <th>131527</th>\n",
       "      <td>131527</td>\n",
       "      <td>2015-12-31T22:15:46.650Z</td>\n",
       "      <td>38.837502</td>\n",
       "      <td>-122.825333</td>\n",
       "      <td>1.450</td>\n",
       "      <td>0.18</td>\n",
       "      <td>md</td>\n",
       "      <td>6.0</td>\n",
       "      <td>180.0</td>\n",
       "      <td>0.008108</td>\n",
       "      <td>...</td>\n",
       "      <td>9 km W of Cobb, California</td>\n",
       "      <td>earthquake</td>\n",
       "      <td>0.66</td>\n",
       "      <td>1.08</td>\n",
       "      <td>0.110</td>\n",
       "      <td>2.0</td>\n",
       "      <td>automatic</td>\n",
       "      <td>nc</td>\n",
       "      <td>nc</td>\n",
       "      <td>2015-12-31 22:15:46.650000+00:00</td>\n",
       "    </tr>\n",
       "    <tr>\n",
       "      <th>131528</th>\n",
       "      <td>131528</td>\n",
       "      <td>2015-12-31T22:18:13.120Z</td>\n",
       "      <td>41.856400</td>\n",
       "      <td>-119.599200</td>\n",
       "      <td>8.700</td>\n",
       "      <td>1.40</td>\n",
       "      <td>ml</td>\n",
       "      <td>6.0</td>\n",
       "      <td>210.1</td>\n",
       "      <td>0.175000</td>\n",
       "      <td>...</td>\n",
       "      <td>45 km E of Fort Bidwell, California</td>\n",
       "      <td>earthquake</td>\n",
       "      <td>NaN</td>\n",
       "      <td>3.40</td>\n",
       "      <td>0.210</td>\n",
       "      <td>3.0</td>\n",
       "      <td>reviewed</td>\n",
       "      <td>nn</td>\n",
       "      <td>nn</td>\n",
       "      <td>2015-12-31 22:18:13.120000+00:00</td>\n",
       "    </tr>\n",
       "    <tr>\n",
       "      <th>131529</th>\n",
       "      <td>131529</td>\n",
       "      <td>2015-12-31T23:19:21.650Z</td>\n",
       "      <td>38.823334</td>\n",
       "      <td>-122.765663</td>\n",
       "      <td>1.680</td>\n",
       "      <td>0.54</td>\n",
       "      <td>md</td>\n",
       "      <td>7.0</td>\n",
       "      <td>99.0</td>\n",
       "      <td>0.008108</td>\n",
       "      <td>...</td>\n",
       "      <td>3 km W of Cobb, California</td>\n",
       "      <td>earthquake</td>\n",
       "      <td>0.50</td>\n",
       "      <td>1.54</td>\n",
       "      <td>0.030</td>\n",
       "      <td>2.0</td>\n",
       "      <td>automatic</td>\n",
       "      <td>nc</td>\n",
       "      <td>nc</td>\n",
       "      <td>2015-12-31 23:19:21.650000+00:00</td>\n",
       "    </tr>\n",
       "    <tr>\n",
       "      <th>131530</th>\n",
       "      <td>131530</td>\n",
       "      <td>2015-12-31T23:22:20.730Z</td>\n",
       "      <td>38.841000</td>\n",
       "      <td>-122.878166</td>\n",
       "      <td>1.730</td>\n",
       "      <td>0.77</td>\n",
       "      <td>md</td>\n",
       "      <td>8.0</td>\n",
       "      <td>95.0</td>\n",
       "      <td>0.007207</td>\n",
       "      <td>...</td>\n",
       "      <td>12 km ENE of Cloverdale, California</td>\n",
       "      <td>earthquake</td>\n",
       "      <td>0.58</td>\n",
       "      <td>1.02</td>\n",
       "      <td>0.180</td>\n",
       "      <td>3.0</td>\n",
       "      <td>automatic</td>\n",
       "      <td>nc</td>\n",
       "      <td>nc</td>\n",
       "      <td>2015-12-31 23:22:20.730000+00:00</td>\n",
       "    </tr>\n",
       "    <tr>\n",
       "      <th>131531</th>\n",
       "      <td>131531</td>\n",
       "      <td>2015-12-31T23:53:17.350Z</td>\n",
       "      <td>40.457667</td>\n",
       "      <td>-124.763000</td>\n",
       "      <td>24.960</td>\n",
       "      <td>2.32</td>\n",
       "      <td>md</td>\n",
       "      <td>16.0</td>\n",
       "      <td>301.0</td>\n",
       "      <td>0.325200</td>\n",
       "      <td>...</td>\n",
       "      <td>44 km WSW of Ferndale, California</td>\n",
       "      <td>earthquake</td>\n",
       "      <td>0.99</td>\n",
       "      <td>4.72</td>\n",
       "      <td>0.324</td>\n",
       "      <td>18.0</td>\n",
       "      <td>reviewed</td>\n",
       "      <td>nc</td>\n",
       "      <td>nc</td>\n",
       "      <td>2015-12-31 23:53:17.350000+00:00</td>\n",
       "    </tr>\n",
       "  </tbody>\n",
       "</table>\n",
       "<p>131532 rows × 24 columns</p>\n",
       "</div>"
      ],
      "text/plain": [
       "        Unnamed: 0                      time   latitude   longitude   depth  \\\n",
       "0                0  2011-01-01T00:21:06.570Z  38.809834 -122.793663   1.746   \n",
       "1                1  2011-01-01T02:04:41.480Z  38.789001 -122.747002  -0.844   \n",
       "2                2  2011-01-01T02:53:49.640Z  38.817333 -122.821167   1.929   \n",
       "3                3  2011-01-01T03:11:04.720Z  38.841835 -122.829002   1.076   \n",
       "4                4  2011-01-01T03:32:55.630Z  38.835833 -122.807000   0.947   \n",
       "...            ...                       ...        ...         ...     ...   \n",
       "131527      131527  2015-12-31T22:15:46.650Z  38.837502 -122.825333   1.450   \n",
       "131528      131528  2015-12-31T22:18:13.120Z  41.856400 -119.599200   8.700   \n",
       "131529      131529  2015-12-31T23:19:21.650Z  38.823334 -122.765663   1.680   \n",
       "131530      131530  2015-12-31T23:22:20.730Z  38.841000 -122.878166   1.730   \n",
       "131531      131531  2015-12-31T23:53:17.350Z  40.457667 -124.763000  24.960   \n",
       "\n",
       "         mag magType   nst    gap      dmin  ...  \\\n",
       "0       0.88      md  14.0   73.0  0.001802  ...   \n",
       "1       0.28      md   5.0  122.0  0.009910  ...   \n",
       "2       1.03      md  40.0   44.0  0.010810  ...   \n",
       "3       0.43      md   7.0   77.0  0.013510  ...   \n",
       "4       0.16      md   9.0  112.0  0.012610  ...   \n",
       "...      ...     ...   ...    ...       ...  ...   \n",
       "131527  0.18      md   6.0  180.0  0.008108  ...   \n",
       "131528  1.40      ml   6.0  210.1  0.175000  ...   \n",
       "131529  0.54      md   7.0   99.0  0.008108  ...   \n",
       "131530  0.77      md   8.0   95.0  0.007207  ...   \n",
       "131531  2.32      md  16.0  301.0  0.325200  ...   \n",
       "\n",
       "                                      place        type horizontalError  \\\n",
       "0              6 km WSW of Cobb, California  earthquake            0.30   \n",
       "1              4 km SSW of Cobb, California  earthquake            0.42   \n",
       "2                8 km W of Cobb, California  earthquake            0.14   \n",
       "3              9 km WNW of Cobb, California  earthquake            0.43   \n",
       "4              7 km WNW of Cobb, California  earthquake            0.33   \n",
       "...                                     ...         ...             ...   \n",
       "131527           9 km W of Cobb, California  earthquake            0.66   \n",
       "131528  45 km E of Fort Bidwell, California  earthquake             NaN   \n",
       "131529           3 km W of Cobb, California  earthquake            0.50   \n",
       "131530  12 km ENE of Cloverdale, California  earthquake            0.58   \n",
       "131531    44 km WSW of Ferndale, California  earthquake            0.99   \n",
       "\n",
       "       depthError magError magNst     status  locationSource  magSource  \\\n",
       "0            0.56    0.010   16.0  automatic              nc         nc   \n",
       "1            2.39    0.200    6.0  automatic              nc         nc   \n",
       "2            0.19    0.060   13.0   reviewed              nc         nc   \n",
       "3            0.88    0.150    7.0  automatic              nc         nc   \n",
       "4            0.72    0.123    2.0   reviewed              nc         nc   \n",
       "...           ...      ...    ...        ...             ...        ...   \n",
       "131527       1.08    0.110    2.0  automatic              nc         nc   \n",
       "131528       3.40    0.210    3.0   reviewed              nn         nn   \n",
       "131529       1.54    0.030    2.0  automatic              nc         nc   \n",
       "131530       1.02    0.180    3.0  automatic              nc         nc   \n",
       "131531       4.72    0.324   18.0   reviewed              nc         nc   \n",
       "\n",
       "                               datetime  \n",
       "0      2011-01-01 00:21:06.570000+00:00  \n",
       "1      2011-01-01 02:04:41.480000+00:00  \n",
       "2      2011-01-01 02:53:49.640000+00:00  \n",
       "3      2011-01-01 03:11:04.720000+00:00  \n",
       "4      2011-01-01 03:32:55.630000+00:00  \n",
       "...                                 ...  \n",
       "131527 2015-12-31 22:15:46.650000+00:00  \n",
       "131528 2015-12-31 22:18:13.120000+00:00  \n",
       "131529 2015-12-31 23:19:21.650000+00:00  \n",
       "131530 2015-12-31 23:22:20.730000+00:00  \n",
       "131531 2015-12-31 23:53:17.350000+00:00  \n",
       "\n",
       "[131532 rows x 24 columns]"
      ]
     },
     "execution_count": 5,
     "metadata": {},
     "output_type": "execute_result"
    }
   ],
   "source": [
    "events_anss = pd.read_csv('../data/datasets_anss/anss_2011-15.csv')\n",
    "events_anss['datetime'] = pd.to_datetime(events_anss['time'], format='%Y-%m-%dT%H:%M:%S.%fZ', utc=True)\n",
    "events_anss= events_anss.loc[(events_anss['datetime'] > t1) & (events_anss['datetime'] < t2) ]\n",
    "events_anss"
   ]
  },
  {
   "cell_type": "markdown",
   "id": "d2499c46",
   "metadata": {},
   "source": [
    "## Our Catalog"
   ]
  },
  {
   "cell_type": "code",
   "execution_count": 6,
   "id": "f0456713",
   "metadata": {
    "scrolled": true
   },
   "outputs": [
    {
     "name": "stderr",
     "output_type": "stream",
     "text": [
      "/tmp/ipykernel_2190526/2481397545.py:6: SettingWithCopyWarning: \n",
      "A value is trying to be set on a copy of a slice from a DataFrame.\n",
      "Try using .loc[row_indexer,col_indexer] = value instead\n",
      "\n",
      "See the caveats in the documentation: https://pandas.pydata.org/pandas-docs/stable/user_guide/indexing.html#returning-a-view-versus-a-copy\n",
      "  mycatalog['datetime'] = pd.to_datetime(mycatalog['time'], utc = True)\n"
     ]
    },
    {
     "data": {
      "text/html": [
       "<div>\n",
       "<style scoped>\n",
       "    .dataframe tbody tr th:only-of-type {\n",
       "        vertical-align: middle;\n",
       "    }\n",
       "\n",
       "    .dataframe tbody tr th {\n",
       "        vertical-align: top;\n",
       "    }\n",
       "\n",
       "    .dataframe thead th {\n",
       "        text-align: right;\n",
       "    }\n",
       "</style>\n",
       "<table border=\"1\" class=\"dataframe\">\n",
       "  <thead>\n",
       "    <tr style=\"text-align: right;\">\n",
       "      <th></th>\n",
       "      <th>Unnamed: 0</th>\n",
       "      <th>idx</th>\n",
       "      <th>time</th>\n",
       "      <th>x</th>\n",
       "      <th>y</th>\n",
       "      <th>z</th>\n",
       "      <th>picks</th>\n",
       "      <th>latitude</th>\n",
       "      <th>longitude</th>\n",
       "      <th>depth</th>\n",
       "      <th>event_idx</th>\n",
       "      <th>pick_idx</th>\n",
       "      <th>residual</th>\n",
       "      <th>station</th>\n",
       "      <th>phase</th>\n",
       "      <th>time_pick</th>\n",
       "      <th>datetime</th>\n",
       "    </tr>\n",
       "  </thead>\n",
       "  <tbody>\n",
       "    <tr>\n",
       "      <th>0</th>\n",
       "      <td>0</td>\n",
       "      <td>2</td>\n",
       "      <td>2011-11-09 03:35:00.298074+00:00</td>\n",
       "      <td>-147.822563</td>\n",
       "      <td>-146.146124</td>\n",
       "      <td>12.890625</td>\n",
       "      <td>9</td>\n",
       "      <td>43.170218</td>\n",
       "      <td>-127.317869</td>\n",
       "      <td>12.890625</td>\n",
       "      <td>2</td>\n",
       "      <td>1341358</td>\n",
       "      <td>-0.018578</td>\n",
       "      <td>J25A</td>\n",
       "      <td>P</td>\n",
       "      <td>1.320810e+09</td>\n",
       "      <td>2011-11-09 03:35:00.298074+00:00</td>\n",
       "    </tr>\n",
       "    <tr>\n",
       "      <th>9</th>\n",
       "      <td>9</td>\n",
       "      <td>3</td>\n",
       "      <td>2011-11-09 17:24:51.096176+00:00</td>\n",
       "      <td>-131.087933</td>\n",
       "      <td>-173.323761</td>\n",
       "      <td>16.015625</td>\n",
       "      <td>11</td>\n",
       "      <td>42.928762</td>\n",
       "      <td>-127.105763</td>\n",
       "      <td>16.015625</td>\n",
       "      <td>3</td>\n",
       "      <td>1341385</td>\n",
       "      <td>0.318173</td>\n",
       "      <td>J25A</td>\n",
       "      <td>P</td>\n",
       "      <td>1.320860e+09</td>\n",
       "      <td>2011-11-09 17:24:51.096176+00:00</td>\n",
       "    </tr>\n",
       "    <tr>\n",
       "      <th>20</th>\n",
       "      <td>20</td>\n",
       "      <td>4</td>\n",
       "      <td>2011-11-12 17:36:53.321241+00:00</td>\n",
       "      <td>-145.591279</td>\n",
       "      <td>-136.133311</td>\n",
       "      <td>2.734375</td>\n",
       "      <td>7</td>\n",
       "      <td>43.260733</td>\n",
       "      <td>-127.293081</td>\n",
       "      <td>2.734375</td>\n",
       "      <td>4</td>\n",
       "      <td>1312581</td>\n",
       "      <td>-0.271465</td>\n",
       "      <td>J25A</td>\n",
       "      <td>P</td>\n",
       "      <td>1.321119e+09</td>\n",
       "      <td>2011-11-12 17:36:53.321241+00:00</td>\n",
       "    </tr>\n",
       "    <tr>\n",
       "      <th>27</th>\n",
       "      <td>27</td>\n",
       "      <td>6</td>\n",
       "      <td>2011-11-21 04:49:11.940621+00:00</td>\n",
       "      <td>78.652760</td>\n",
       "      <td>-5.966732</td>\n",
       "      <td>0.390625</td>\n",
       "      <td>6</td>\n",
       "      <td>44.442031</td>\n",
       "      <td>-124.512004</td>\n",
       "      <td>0.390625</td>\n",
       "      <td>6</td>\n",
       "      <td>1327999</td>\n",
       "      <td>-0.796843</td>\n",
       "      <td>J25A</td>\n",
       "      <td>P</td>\n",
       "      <td>1.321851e+09</td>\n",
       "      <td>2011-11-21 04:49:11.940621+00:00</td>\n",
       "    </tr>\n",
       "    <tr>\n",
       "      <th>33</th>\n",
       "      <td>33</td>\n",
       "      <td>8</td>\n",
       "      <td>2011-11-28 00:27:13.522219+00:00</td>\n",
       "      <td>79.768402</td>\n",
       "      <td>-17.409948</td>\n",
       "      <td>0.390625</td>\n",
       "      <td>6</td>\n",
       "      <td>44.338944</td>\n",
       "      <td>-124.499748</td>\n",
       "      <td>0.390625</td>\n",
       "      <td>8</td>\n",
       "      <td>1313411</td>\n",
       "      <td>-0.812164</td>\n",
       "      <td>J25A</td>\n",
       "      <td>P</td>\n",
       "      <td>1.322440e+09</td>\n",
       "      <td>2011-11-28 00:27:13.522219+00:00</td>\n",
       "    </tr>\n",
       "    <tr>\n",
       "      <th>...</th>\n",
       "      <td>...</td>\n",
       "      <td>...</td>\n",
       "      <td>...</td>\n",
       "      <td>...</td>\n",
       "      <td>...</td>\n",
       "      <td>...</td>\n",
       "      <td>...</td>\n",
       "      <td>...</td>\n",
       "      <td>...</td>\n",
       "      <td>...</td>\n",
       "      <td>...</td>\n",
       "      <td>...</td>\n",
       "      <td>...</td>\n",
       "      <td>...</td>\n",
       "      <td>...</td>\n",
       "      <td>...</td>\n",
       "      <td>...</td>\n",
       "    </tr>\n",
       "    <tr>\n",
       "      <th>2749</th>\n",
       "      <td>2749</td>\n",
       "      <td>2697</td>\n",
       "      <td>2015-08-06 12:39:34.744191+00:00</td>\n",
       "      <td>39.605290</td>\n",
       "      <td>-83.208438</td>\n",
       "      <td>16.015625</td>\n",
       "      <td>6</td>\n",
       "      <td>43.750090</td>\n",
       "      <td>-125.008266</td>\n",
       "      <td>16.015625</td>\n",
       "      <td>2697</td>\n",
       "      <td>2456232</td>\n",
       "      <td>0.518571</td>\n",
       "      <td>FC03D</td>\n",
       "      <td>S</td>\n",
       "      <td>1.438865e+09</td>\n",
       "      <td>2015-08-06 12:39:34.744191+00:00</td>\n",
       "    </tr>\n",
       "    <tr>\n",
       "      <th>2755</th>\n",
       "      <td>2755</td>\n",
       "      <td>2713</td>\n",
       "      <td>2015-08-10 16:55:14.717457+00:00</td>\n",
       "      <td>-182.407465</td>\n",
       "      <td>-130.411703</td>\n",
       "      <td>36.328125</td>\n",
       "      <td>6</td>\n",
       "      <td>43.304191</td>\n",
       "      <td>-127.748091</td>\n",
       "      <td>36.328125</td>\n",
       "      <td>2713</td>\n",
       "      <td>1159330</td>\n",
       "      <td>-0.151071</td>\n",
       "      <td>J10D</td>\n",
       "      <td>P</td>\n",
       "      <td>1.439226e+09</td>\n",
       "      <td>2015-08-10 16:55:14.717457+00:00</td>\n",
       "    </tr>\n",
       "    <tr>\n",
       "      <th>2761</th>\n",
       "      <td>2761</td>\n",
       "      <td>2732</td>\n",
       "      <td>2015-08-16 08:21:50.618422+00:00</td>\n",
       "      <td>71.958908</td>\n",
       "      <td>-10.257938</td>\n",
       "      <td>49.609375</td>\n",
       "      <td>7</td>\n",
       "      <td>44.404115</td>\n",
       "      <td>-124.596673</td>\n",
       "      <td>49.609375</td>\n",
       "      <td>2732</td>\n",
       "      <td>912035</td>\n",
       "      <td>-0.518026</td>\n",
       "      <td>FC03D</td>\n",
       "      <td>P</td>\n",
       "      <td>1.439713e+09</td>\n",
       "      <td>2015-08-16 08:21:50.618422+00:00</td>\n",
       "    </tr>\n",
       "    <tr>\n",
       "      <th>2768</th>\n",
       "      <td>2768</td>\n",
       "      <td>2737</td>\n",
       "      <td>2015-08-22 13:16:53.628155+00:00</td>\n",
       "      <td>67.496340</td>\n",
       "      <td>24.071709</td>\n",
       "      <td>49.609375</td>\n",
       "      <td>6</td>\n",
       "      <td>44.713443</td>\n",
       "      <td>-124.648192</td>\n",
       "      <td>49.609375</td>\n",
       "      <td>2737</td>\n",
       "      <td>1040980</td>\n",
       "      <td>-0.159884</td>\n",
       "      <td>FC03D</td>\n",
       "      <td>P</td>\n",
       "      <td>1.440249e+09</td>\n",
       "      <td>2015-08-22 13:16:53.628155+00:00</td>\n",
       "    </tr>\n",
       "    <tr>\n",
       "      <th>2774</th>\n",
       "      <td>2774</td>\n",
       "      <td>2769</td>\n",
       "      <td>2015-09-02 15:35:56.628408+00:00</td>\n",
       "      <td>96.503032</td>\n",
       "      <td>89.870199</td>\n",
       "      <td>49.609375</td>\n",
       "      <td>6</td>\n",
       "      <td>45.302067</td>\n",
       "      <td>-124.269587</td>\n",
       "      <td>49.609375</td>\n",
       "      <td>2769</td>\n",
       "      <td>2362030</td>\n",
       "      <td>-0.018514</td>\n",
       "      <td>FC03D</td>\n",
       "      <td>S</td>\n",
       "      <td>1.441208e+09</td>\n",
       "      <td>2015-09-02 15:35:56.628408+00:00</td>\n",
       "    </tr>\n",
       "  </tbody>\n",
       "</table>\n",
       "<p>384 rows × 17 columns</p>\n",
       "</div>"
      ],
      "text/plain": [
       "      Unnamed: 0   idx                              time           x  \\\n",
       "0              0     2  2011-11-09 03:35:00.298074+00:00 -147.822563   \n",
       "9              9     3  2011-11-09 17:24:51.096176+00:00 -131.087933   \n",
       "20            20     4  2011-11-12 17:36:53.321241+00:00 -145.591279   \n",
       "27            27     6  2011-11-21 04:49:11.940621+00:00   78.652760   \n",
       "33            33     8  2011-11-28 00:27:13.522219+00:00   79.768402   \n",
       "...          ...   ...                               ...         ...   \n",
       "2749        2749  2697  2015-08-06 12:39:34.744191+00:00   39.605290   \n",
       "2755        2755  2713  2015-08-10 16:55:14.717457+00:00 -182.407465   \n",
       "2761        2761  2732  2015-08-16 08:21:50.618422+00:00   71.958908   \n",
       "2768        2768  2737  2015-08-22 13:16:53.628155+00:00   67.496340   \n",
       "2774        2774  2769  2015-09-02 15:35:56.628408+00:00   96.503032   \n",
       "\n",
       "               y          z  picks   latitude   longitude      depth  \\\n",
       "0    -146.146124  12.890625      9  43.170218 -127.317869  12.890625   \n",
       "9    -173.323761  16.015625     11  42.928762 -127.105763  16.015625   \n",
       "20   -136.133311   2.734375      7  43.260733 -127.293081   2.734375   \n",
       "27     -5.966732   0.390625      6  44.442031 -124.512004   0.390625   \n",
       "33    -17.409948   0.390625      6  44.338944 -124.499748   0.390625   \n",
       "...          ...        ...    ...        ...         ...        ...   \n",
       "2749  -83.208438  16.015625      6  43.750090 -125.008266  16.015625   \n",
       "2755 -130.411703  36.328125      6  43.304191 -127.748091  36.328125   \n",
       "2761  -10.257938  49.609375      7  44.404115 -124.596673  49.609375   \n",
       "2768   24.071709  49.609375      6  44.713443 -124.648192  49.609375   \n",
       "2774   89.870199  49.609375      6  45.302067 -124.269587  49.609375   \n",
       "\n",
       "      event_idx  pick_idx  residual station phase     time_pick  \\\n",
       "0             2   1341358 -0.018578    J25A     P  1.320810e+09   \n",
       "9             3   1341385  0.318173    J25A     P  1.320860e+09   \n",
       "20            4   1312581 -0.271465    J25A     P  1.321119e+09   \n",
       "27            6   1327999 -0.796843    J25A     P  1.321851e+09   \n",
       "33            8   1313411 -0.812164    J25A     P  1.322440e+09   \n",
       "...         ...       ...       ...     ...   ...           ...   \n",
       "2749       2697   2456232  0.518571   FC03D     S  1.438865e+09   \n",
       "2755       2713   1159330 -0.151071    J10D     P  1.439226e+09   \n",
       "2761       2732    912035 -0.518026   FC03D     P  1.439713e+09   \n",
       "2768       2737   1040980 -0.159884   FC03D     P  1.440249e+09   \n",
       "2774       2769   2362030 -0.018514   FC03D     S  1.441208e+09   \n",
       "\n",
       "                             datetime  \n",
       "0    2011-11-09 03:35:00.298074+00:00  \n",
       "9    2011-11-09 17:24:51.096176+00:00  \n",
       "20   2011-11-12 17:36:53.321241+00:00  \n",
       "27   2011-11-21 04:49:11.940621+00:00  \n",
       "33   2011-11-28 00:27:13.522219+00:00  \n",
       "...                               ...  \n",
       "2749 2015-08-06 12:39:34.744191+00:00  \n",
       "2755 2015-08-10 16:55:14.717457+00:00  \n",
       "2761 2015-08-16 08:21:50.618422+00:00  \n",
       "2768 2015-08-22 13:16:53.628155+00:00  \n",
       "2774 2015-09-02 15:35:56.628408+00:00  \n",
       "\n",
       "[384 rows x 17 columns]"
      ]
     },
     "execution_count": 6,
     "metadata": {},
     "output_type": "execute_result"
    }
   ],
   "source": [
    "# Load all the pick assignments \n",
    "year = 'or_shelf_trench'\n",
    "mycatalog_picks = pd.read_csv(f'../data/datasets_{year}/all_pick_assignments_{year}.csv')\n",
    "mycatalog = mycatalog_picks.drop_duplicates(subset=['idx'])\n",
    "# Convert the time series in all_pick_assignments to datetime\n",
    "mycatalog['datetime'] = pd.to_datetime(mycatalog['time'], utc = True)\n",
    "mycatalog=mycatalog.loc[(mycatalog['datetime'] > t1) & (mycatalog['datetime'] < t2) ]\n",
    "mycatalog"
   ]
  },
  {
   "cell_type": "markdown",
   "id": "f3d4e9ca",
   "metadata": {},
   "source": [
    "## Run this loop"
   ]
  },
  {
   "cell_type": "code",
   "execution_count": 7,
   "id": "3e0e7740",
   "metadata": {},
   "outputs": [
    {
     "name": "stdout",
     "output_type": "stream",
     "text": [
      "matched idx of Morton:  108\n",
      "matched idx of Morton:  111\n",
      "matched idx of Morton:  112\n",
      "matched idx of Morton:  129\n",
      "matched idx of Morton:  155\n",
      "matched idx of Morton:  174\n",
      "matched idx of Morton:  185\n",
      "matched idx of Morton:  189\n",
      "matched idx of Morton:  193\n",
      "matched idx of Morton:  194\n",
      "matched idx of Morton:  208\n",
      "matched idx of Morton:  212\n",
      "matched idx of Morton:  233\n",
      "matched idx of Morton:  236\n",
      "matched idx of Morton:  239\n",
      "matched idx of Morton:  240\n",
      "matched idx of Morton:  249\n",
      "matched idx of Morton:  255\n",
      "matched idx of Morton:  266\n",
      "matched idx of Morton:  271\n",
      "matched idx of Morton:  272\n",
      "matched idx of Morton:  275\n",
      "matched idx of Morton:  290\n",
      "matched idx of Morton:  307\n",
      "matched idx of Morton:  316\n",
      "matched idx of Morton:  318\n",
      "matched idx of Morton:  319\n",
      "matched idx of Morton:  610\n",
      "matched idx of Morton:  725\n",
      "matched idx of Morton:  736\n",
      "matched idx of Morton:  754\n",
      "matched idx of Morton:  770\n",
      "matched idx of Morton:  1761\n",
      "matched idx of Morton:  1789\n",
      "matched idx of Morton:  1796\n",
      "matched idx of Morton:  1803\n",
      "matched idx of Morton:  1853\n",
      "matched idx of Morton:  1862\n",
      "matched idx of Morton:  1870\n",
      "matched idx of Morton:  1872\n",
      "matched idx of Morton:  2487\n",
      "matched idx of Morton:  2571\n",
      "matched idx of Morton:  2694\n",
      "matched idx of Morton:  2907\n",
      "matched idx of Morton:  2953\n",
      "matched idx of Morton:  3535\n",
      "matched idx of Morton:  3595\n",
      "matched idx of Morton:  3982\n",
      "matched idx of Morton:  4007\n",
      "matched idx of Morton:  4146\n",
      "matched idx of Morton:  4223\n",
      "matched idx of Morton:  4402\n",
      "matched idx of Morton:  4413\n",
      "matched idx of Morton:  4426\n",
      "matched idx of Morton:  4887\n",
      "matched idx of Morton:  5011\n",
      "384 312\n",
      "length of mycatalog:384\n",
      "length of events_morton:5282\n",
      "length of events_anss:131532\n",
      "matched_indices_morton:56\n",
      "matched_indices_anss:42\n",
      "unmatched_indices_morton:328\n",
      "unmatched_indices_anss:342\n",
      "unmatched_indices_morton_and_anss (new events):312\n"
     ]
    }
   ],
   "source": [
    "matched_events_mycatalog2morton = []\n",
    "matched_times_morton2mycatalog = []\n",
    "matched_events_morton2mycatalog = []\n",
    "unmatched_times_morton2mycatalog = []\n",
    "unmatched_events_morton2mycatalog = []\n",
    "unmatched_events_mycatalog2morton_and_anss = []\n",
    "matched_events_anss2mycatalog=[]\n",
    "matched_events_mycatalog2anss = []\n",
    "unmatched_times_anss2mycatalog = []\n",
    "unmatched_events_anss2mycatalog = []\n",
    "matched_times_anss2mycatalog =[]\n",
    "\n",
    "time_threshold = 5 # in seconds\n",
    "dist_threshold =25\n",
    "\n",
    "lat_morton2mycatalog = []\n",
    "lon_morton2mycatalog = []\n",
    "\n",
    "lat_anss2mycatalog =[]\n",
    "lon_anss2mycatalog = []\n",
    "\n",
    "# A set to keep track of matched indices in mycatalog\n",
    "matched_indices_morton = set()\n",
    "matched_indices_anss = set()\n",
    "count_c = 0\n",
    "count_d = 0\n",
    "# Loop over events in Morton's catalog\n",
    "for i in range(len(events_morton)):\n",
    "    t11 = events_morton.iloc[i]['datetime']\n",
    "    olat = events_morton.iloc[i]['LAT']\n",
    "    olon = events_morton.iloc[i]['LON']\n",
    "    \n",
    "                                       \n",
    "    condition = (mycatalog['datetime'] >= t11 - pd.Timedelta(seconds=time_threshold)) & \\\n",
    "                     (mycatalog['datetime'] <= t11 + pd.Timedelta(seconds=time_threshold)) & \\\n",
    "                     (degrees2kilometers(locations2degrees(olat, olon, mycatalog['latitude'], mycatalog['longitude'])) <= dist_threshold)                        \n",
    "    matched_df = mycatalog.loc[condition]\n",
    "\n",
    "    if len(matched_df) == 1:\n",
    "        print('matched idx of Morton: ',i)\n",
    "        count_c+=1\n",
    "        matched_times_morton2mycatalog.append(t11)\n",
    "        matched_events_morton2mycatalog.append(events_morton.iloc[i])\n",
    "        lat_morton2mycatalog.append(events_morton.iloc[i]['LAT'])\n",
    "        lon_morton2mycatalog.append(events_morton.iloc[i]['LON'])\n",
    "        matched_events_mycatalog2morton.append(matched_df)\n",
    "        matched_indices_morton.update(matched_df['idx'])\n",
    "    elif len(matched_df) > 1:\n",
    "        print('matched idx of Morton: ',i)\n",
    "\n",
    "        count_d+=1\n",
    "        diffs = abs(matched_df['datetime'] - t11)\n",
    "        closest_index = diffs.idxmin()\n",
    "        closest_event = matched_df.loc[[closest_index]]\n",
    "        matched_times_morton2mycatalog.append(t11)\n",
    "        matched_events_morton2mycatalog.append(events_morton.iloc[i])\n",
    "        lat_morton2mycatalog.append(events_morton.iloc[i]['LAT'])\n",
    "        lon_morton2mycatalog.append(events_morton.iloc[i]['LON'])\n",
    "        matched_events_mycatalog2morton.append(closest_event)\n",
    "        matched_indices_morton.update(closest_event['idx'])\n",
    "    else:\n",
    "        unmatched_times_morton2mycatalog.append(t11)\n",
    "        unmatched_events_morton2mycatalog.append(events_morton.iloc[i])\n",
    "\n",
    "# All events in mycatalog not matched with Morton's catalog are unmatched\n",
    "unmatched_indices_morton = set(mycatalog.idx) - matched_indices_morton\n",
    "# unmatched_events_mycatalog2morton = mycatalog.iloc[list(unmatched_indices_morton)]\n",
    "count_a =0\n",
    "count_b =0\n",
    "# Loop over events in ANSS catalog\n",
    "for i in range(len(events_anss)):\n",
    "    t11 = events_anss.iloc[i]['datetime']\n",
    "    olat = events_anss.iloc[i]['latitude']\n",
    "    olon = events_anss.iloc[i]['longitude']\n",
    "    \n",
    "                                       \n",
    "    condition = (mycatalog['datetime'] >= t11 - pd.Timedelta(seconds=time_threshold)) & \\\n",
    "                     (mycatalog['datetime'] <= t11 + pd.Timedelta(seconds=time_threshold)) & \\\n",
    "                     (degrees2kilometers(locations2degrees(olat, olon, mycatalog['latitude'], mycatalog['longitude'])) <= dist_threshold)                        \n",
    "    matched_df = mycatalog.loc[condition]\n",
    "    \n",
    "    if len(matched_df) == 1:\n",
    "        \n",
    "        count_a+=1\n",
    "        matched_times_anss2mycatalog.append(t11)\n",
    "        matched_events_anss2mycatalog.append(events_anss.iloc[i])\n",
    "        lat_anss2mycatalog.append(events_anss.iloc[i]['latitude'])\n",
    "        lon_anss2mycatalog.append(events_anss.iloc[i]['longitude'])\n",
    "        matched_events_mycatalog2anss.append(matched_df)\n",
    "        matched_indices_anss.update(matched_df['idx'])\n",
    "        \n",
    "    elif len(matched_df) > 1:\n",
    "        count_b+=1\n",
    "        diffs = abs(matched_df['datetime'] - t11)\n",
    "        closest_index = diffs.idxmin()\n",
    "        closest_event = matched_df.loc[[closest_index]]\n",
    "        matched_times_anss2mycatalog.append(t11)\n",
    "        matched_events_anss2mycatalog.append(events_anss.iloc[i])\n",
    "        lat_anss2mycatalog.append(events_anss.iloc[i]['latitude'])\n",
    "        lon_anss2mycatalog.append(events_anss.iloc[i]['longitude'])\n",
    "        matched_events_mycatalog2anss.append(closest_event)\n",
    "        matched_indices_anss.update(closest_event['idx'])\n",
    "        \n",
    "    else:\n",
    "        unmatched_times_anss2mycatalog.append(t11)\n",
    "        unmatched_events_anss2mycatalog.append(events_anss.iloc[i])\n",
    "\n",
    "# All events in mycatalog not matched with ANSS catalog are unmatched\n",
    "unmatched_indices_anss = set(mycatalog.idx) - matched_indices_anss\n",
    "\n",
    "unmatched_indices_morton_and_anss = unmatched_indices_morton.intersection(unmatched_indices_anss)\n",
    "print(len(mycatalog),len(unmatched_indices_morton_and_anss))\n",
    "\n",
    "# unmatched_events_mycatalog2morton_and_anss = mycatalog.iloc[list(unmatched_indices_morton_and_anss)]\n",
    "unmatched_events_mycatalog2morton_and_anss = mycatalog.loc[mycatalog['event_idx'].isin(list(unmatched_indices_morton_and_anss))]\n",
    "\n",
    "\n",
    "print(f\"length of mycatalog:{len(mycatalog)}\")\n",
    "print(f\"length of events_morton:{len(events_morton)}\")\n",
    "print(f\"length of events_anss:{len(events_anss)}\")\n",
    "print(f\"matched_indices_morton:{len(matched_indices_morton)}\")\n",
    "print(f\"matched_indices_anss:{len(matched_indices_anss)}\")\n",
    "print(f\"unmatched_indices_morton:{len(unmatched_indices_morton)}\")\n",
    "print(f\"unmatched_indices_anss:{len(unmatched_indices_anss)}\")\n",
    "print(f\"unmatched_indices_morton_and_anss (new events):{len(unmatched_indices_morton_and_anss)}\")\n"
   ]
  },
  {
   "cell_type": "code",
   "execution_count": 8,
   "id": "0b6dd0b1",
   "metadata": {},
   "outputs": [
    {
     "name": "stdout",
     "output_type": "stream",
     "text": [
      "length of mycatalog:384\n",
      "length of events_morton:5282\n",
      "length of events_anss:131532\n",
      "matched_events_mycatalog2morton:56\n",
      "matched_events_morton2mycatalog:56\n",
      "unmatched_events_anss2mycatalog:131489\n",
      "unmatched_events_morton2mycatalog:5226\n",
      "unmatched_events_mycatalog2morton_and_anss (new events):312\n",
      "matched_events_mycatalog2anss:43\n",
      "matched_events_anss2mycatalog:43\n"
     ]
    }
   ],
   "source": [
    "# new concat code\n",
    "# Concatenate and clean up dataframes\n",
    "if len(matched_events_mycatalog2morton)>0:\n",
    "    matched_events_mycatalog2morton = pd.concat(matched_events_mycatalog2morton).reset_index(drop=True)\n",
    "    matched_times_mycatalog2morton = matched_events_mycatalog2morton['datetime']\n",
    "    lat_mycatalog2morton = matched_events_mycatalog2morton['latitude']\n",
    "    lon_mycatalog2morton = matched_events_mycatalog2morton['longitude']\n",
    "\n",
    "if len(matched_events_morton2mycatalog)>0:   \n",
    "    matched_events_morton2mycatalog = pd.DataFrame(matched_events_morton2mycatalog).reset_index(drop=True)\n",
    "    \n",
    "if len(unmatched_events_anss2mycatalog)>0:\n",
    "    unmatched_events_anss2mycatalog = pd.DataFrame(unmatched_events_anss2mycatalog).reset_index(drop=True)\n",
    "    \n",
    "if len(unmatched_events_morton2mycatalog)>0:\n",
    "    unmatched_events_morton2mycatalog = pd.DataFrame(unmatched_events_morton2mycatalog).reset_index(drop=True)\n",
    "\n",
    "if len(unmatched_events_mycatalog2morton_and_anss) > 0:\n",
    "    unmatched_events_mycatalog2morton_and_anss = unmatched_events_mycatalog2morton_and_anss.reset_index(drop=True)\n",
    "\n",
    "if len(matched_events_mycatalog2anss)>0:\n",
    "    matched_events_mycatalog2anss = pd.concat(matched_events_mycatalog2anss).reset_index(drop=True)\n",
    "    matched_times_mycatalog2anss = matched_events_mycatalog2anss['datetime']\n",
    "    lat_mycatalog2anss = matched_events_mycatalog2anss['latitude']\n",
    "    lon_mycatalog2anss = matched_events_mycatalog2anss['longitude']\n",
    "\n",
    "if len(matched_events_anss2mycatalog)>0:   \n",
    "    matched_events_anss2mycatalog = pd.DataFrame(matched_events_anss2mycatalog).reset_index(drop=True)\n",
    "    matched_times_anss2mycatalog = matched_events_anss2mycatalog['datetime']\n",
    "\n",
    "print(f\"length of mycatalog:{len(mycatalog)}\")\n",
    "print(f\"length of events_morton:{len(events_morton)}\")\n",
    "print(f\"length of events_anss:{len(events_anss)}\")\n",
    "print(f\"matched_events_mycatalog2morton:{len(matched_events_mycatalog2morton)}\")\n",
    "print(f\"matched_events_morton2mycatalog:{len(matched_events_morton2mycatalog)}\")\n",
    "print(f\"unmatched_events_anss2mycatalog:{len(unmatched_events_anss2mycatalog)}\")\n",
    "print(f\"unmatched_events_morton2mycatalog:{len(unmatched_events_morton2mycatalog)}\")\n",
    "print(f\"unmatched_events_mycatalog2morton_and_anss (new events):{len(unmatched_events_mycatalog2morton_and_anss)}\")\n",
    "print(f\"matched_events_mycatalog2anss:{len(matched_events_mycatalog2anss)}\")\n",
    "print(f\"matched_events_anss2mycatalog:{len(matched_events_anss2mycatalog)}\")"
   ]
  },
  {
   "cell_type": "code",
   "execution_count": 9,
   "id": "0da443d3",
   "metadata": {},
   "outputs": [],
   "source": [
    "# Save these three catalogs to csv files\n",
    "matched_events_mycatalog2morton.to_csv(f'../data/datasets_{year}/matched_events_with_morton_mycatalog.csv')\n",
    "matched_events_anss2mycatalog.to_csv(f'../data/datasets_{year}/matched_events_with_mycatalog_anss.csv')\n",
    "matched_events_morton2mycatalog.to_csv(f'../data/datasets_{year}/matched_events_with_mycatalog_morton.csv')\n",
    "unmatched_events_mycatalog2morton_and_anss.to_csv(f'../data/datasets_{year}/new_events.csv')\n",
    "matched_events_mycatalog2anss.to_csv(f'../data/datasets_{year}/matched_events_with_anss_mycatalog.csv')\n",
    "unmatched_events_morton2mycatalog.to_csv(f'../data/datasets_{year}/missing_events_from_mycatalog_morton.csv')\n",
    "unmatched_events_anss2mycatalog.to_csv(f'../data/datasets_{year}/missing_events_from_mycatalog_anss.csv')\n"
   ]
  },
  {
   "cell_type": "markdown",
   "id": "4b308175",
   "metadata": {},
   "source": [
    "## Plot the Origin Times"
   ]
  },
  {
   "cell_type": "markdown",
   "id": "863b722c",
   "metadata": {},
   "source": [
    "### Compare with Morton's Catalog "
   ]
  },
  {
   "cell_type": "code",
   "execution_count": null,
   "id": "aa2d61a3",
   "metadata": {},
   "outputs": [],
   "source": [
    "# Make lists for plotting the 1:1 line\n",
    "x = pd.date_range(start='2011-1-1', end='2015-12-31', periods=len(matched_times_morton2mycatalog))\n",
    "y = pd.date_range(start='2011-1-1', end='2015-12-31', periods=len(matched_times_morton2mycatalog))\n",
    "\n",
    "# Plot the scatter plot\n",
    "plt.figure()\n",
    "plt.scatter(matched_times_mycatalog2morton,matched_times_morton2mycatalog)\n",
    "plt.plot(x,y, 'k--')\n",
    "plt.xlabel('Origin Time of mycatalog')\n",
    "plt.ylabel('Origin Time of Morton')\n",
    "plt.title('Scatter Plot: Origin Times of Matched Events')"
   ]
  },
  {
   "cell_type": "markdown",
   "id": "13a2d257",
   "metadata": {},
   "source": [
    "### Compare with the ANSS Catalog "
   ]
  },
  {
   "cell_type": "code",
   "execution_count": null,
   "id": "25ebca76",
   "metadata": {},
   "outputs": [],
   "source": [
    "# Make lists for plotting the 1:1 line\n",
    "matched_times_mycatalog2anss = pd.to_datetime(matched_times_mycatalog2anss)\n",
    "matched_times_anss2mycatalog = pd.to_datetime(matched_times_anss2mycatalog)\n",
    "\n",
    "x = pd.date_range(start='2014-1-1', end='2014-12-31', periods=len(matched_times_anss2mycatalog))\n",
    "y = pd.date_range(start='2014-1-1', end='2014-12-31', periods=len(matched_times_anss2mycatalog))\n",
    "\n",
    "# Plot the scatter plot\n",
    "plt.figure()\n",
    "plt.scatter(matched_times_mycatalog2anss,matched_times_anss2mycatalog)\n",
    "plt.plot(x,y, 'k--')\n",
    "plt.xlabel('Origin Time of mycatalog')\n",
    "plt.ylabel('Origin Time of Morton')\n",
    "plt.title('Scatter Plot: Origin Times of Matched Events')"
   ]
  },
  {
   "cell_type": "markdown",
   "id": "fc43d9d5",
   "metadata": {},
   "source": [
    "## Plot the Latitudes"
   ]
  },
  {
   "cell_type": "markdown",
   "id": "7ed02e61",
   "metadata": {},
   "source": [
    "### Compare with Morton's Catalog "
   ]
  },
  {
   "cell_type": "code",
   "execution_count": null,
   "id": "e77491ad",
   "metadata": {},
   "outputs": [],
   "source": [
    "# Plot the scatter plot\n",
    "plt.figure()\n",
    "lat_min = min(lat_mycatalog2morton)\n",
    "lat_max = max(lat_mycatalog2morton)\n",
    "\n",
    "# Make lists for plotting the 1:1 line\n",
    "x_lat = np.linspace(lat_min, lat_max, 10)\n",
    "y_lat = np.linspace(lat_min, lat_max, 10)\n",
    "plt.scatter(lat_mycatalog2morton,lat_morton2mycatalog, s=15)\n",
    "plt.plot(x_lat,y_lat, 'k--')\n",
    "plt.xlabel('Latitudes of Our Catalog ($^\\circ$)')\n",
    "plt.ylabel('Latitudes of Morton et al. (2023) ($^\\circ$)')\n",
    "plt.title('Latitudes of Our Catalog vs.Latitudes of Morton et al. (2023)')"
   ]
  },
  {
   "cell_type": "markdown",
   "id": "d6e9ef27",
   "metadata": {},
   "source": [
    "### Compare with the ANSS Catalog "
   ]
  },
  {
   "cell_type": "code",
   "execution_count": null,
   "id": "cfe7f36c",
   "metadata": {},
   "outputs": [],
   "source": [
    "# Plot the scatter plot\n",
    "plt.figure()\n",
    "lat_min = min(lat_mycatalog2anss)\n",
    "lat_max = max(lat_mycatalog2anss)\n",
    "\n",
    "# Make lists for plotting the 1:1 line\n",
    "x_lat = np.linspace(lat_min, lat_max, 10)\n",
    "y_lat = np.linspace(lat_min, lat_max, 10)\n",
    "plt.scatter(lat_mycatalog2anss,lat_anss2mycatalog, s=15)\n",
    "plt.plot(x_lat,y_lat, 'k--')\n",
    "plt.xlabel('Latitudes of Our Catalog ($^\\circ$)')\n",
    "plt.ylabel('Latitudes of ANSS Catalog ($^\\circ$)')\n",
    "plt.title('Latitudes of Our Catalog vs. ANSS Catalog')"
   ]
  },
  {
   "cell_type": "markdown",
   "id": "fc628b1a",
   "metadata": {},
   "source": [
    "## Plot the Longitudes"
   ]
  },
  {
   "cell_type": "markdown",
   "id": "1bb31b59",
   "metadata": {},
   "source": [
    "### Compare with Morton's Catalog "
   ]
  },
  {
   "cell_type": "code",
   "execution_count": null,
   "id": "1e3873dd",
   "metadata": {},
   "outputs": [],
   "source": [
    "# Plot the scatter plot\n",
    "plt.figure()\n",
    "lon_min = min(lon_mycatalog2morton)\n",
    "lon_max = max(lon_mycatalog2morton)\n",
    "\n",
    "# Make lists for plotting the 1:1 line\n",
    "x_lon = np.linspace(lon_min, lon_max, 10)\n",
    "y_lon = np.linspace(lon_min, lon_max, 10)\n",
    "plt.scatter(lon_mycatalog2morton,lon_morton2mycatalog)\n",
    "plt.plot(x_lon,y_lon, 'k--')\n",
    "plt.xlabel('Longitudes of Our Catalog ($^\\circ$)')\n",
    "plt.ylabel('Longitudes of Morton et al. (2023) ($^\\circ$)')\n",
    "plt.title('Longitudes of Our Catalog vs.Latitudes of Morton et al. (2023)')"
   ]
  },
  {
   "cell_type": "markdown",
   "id": "5cfd4045",
   "metadata": {},
   "source": [
    "### Compare with the ANSS Catalog "
   ]
  },
  {
   "cell_type": "code",
   "execution_count": null,
   "id": "a31380f4",
   "metadata": {},
   "outputs": [],
   "source": [
    "# Plot the scatter plot\n",
    "plt.figure()\n",
    "lon_min = min(lon_mycatalog2anss)\n",
    "lon_max = max(lon_mycatalog2anss)\n",
    "\n",
    "# Make lists for plotting the 1:1 line\n",
    "x_lon = np.linspace(lon_min, lon_max, 10)\n",
    "y_lon = np.linspace(lon_min, lon_max, 10)\n",
    "plt.scatter(lon_mycatalog2anss,lon_anss2mycatalog)\n",
    "plt.plot(x_lon,y_lon, 'k--')\n",
    "plt.xlabel('Longitudes of Our Catalog ($^\\circ$)')\n",
    "plt.ylabel('Longitudes of Morton et al. (2023) ($^\\circ$)')\n",
    "plt.title('Longitudes of Our Catalog vs.Latitudes of Morton et al. (2023)')"
   ]
  },
  {
   "cell_type": "markdown",
   "id": "bf7c25f0",
   "metadata": {},
   "source": [
    "## Histograms\n",
    "Make histograms of mycatalog vs. Morton's catalog"
   ]
  },
  {
   "cell_type": "markdown",
   "id": "f814dcb8",
   "metadata": {},
   "source": [
    "### Histogram: All of our catalog "
   ]
  },
  {
   "cell_type": "code",
   "execution_count": null,
   "id": "6a8dd51a",
   "metadata": {},
   "outputs": [],
   "source": [
    "events = pd.read_csv('../../data/datasets_all_years/events_pnsn_wa.csv')"
   ]
  },
  {
   "cell_type": "code",
   "execution_count": null,
   "id": "83f5cde8",
   "metadata": {},
   "outputs": [],
   "source": [
    "# Plot the same histogram but overlay the histograms\n",
    "bins = np.linspace(5,30,25)\n",
    "\n",
    "plt.hist(unmatched_events_mycatalog2morton_and_anss['picks'], bins=bins,  \n",
    "         alpha=0.5, # the transaparency parameter \n",
    "         label='Newly detected events') \n",
    "plt.hist(matched_events_mycatalog2anss['picks'], bins=bins,\n",
    "         alpha=0.5, \n",
    "         label='Events matching the ANSS Catalog')   \n",
    "plt.hist(matched_events_mycatalog2morton['picks'], bins=bins,\n",
    "         alpha=0.5, \n",
    "         label='Events matching Morton et al., 2023') \n",
    "\n",
    "plt.xlabel('Number of Picks')\n",
    "plt.ylabel('Number of Events')  \n",
    "plt.legend(loc='upper right') \n",
    "plt.title('Picks vs. Number of Events') \n",
    "plt.show()\n"
   ]
  },
  {
   "cell_type": "markdown",
   "id": "0039ec69",
   "metadata": {},
   "source": [
    "### Histogram: Matched events alone"
   ]
  },
  {
   "cell_type": "markdown",
   "id": "db128b09",
   "metadata": {},
   "source": [
    "### Compare with Morton et al. (2023)"
   ]
  },
  {
   "cell_type": "code",
   "execution_count": null,
   "id": "0e453e8b",
   "metadata": {},
   "outputs": [],
   "source": [
    "# Plot the histogram of the number of picks for the matched events\n",
    "plt.figure()\n",
    "bins = np.linspace(5,30,25)\n",
    "plt.hist(matched_events_mycatalog2morton['picks'],bins=bins)\n",
    "plt.xlabel('Number of Picks')\n",
    "plt.ylabel('Number of Events')\n",
    "plt.title('Histogram of Matched Events with Morton et al. (2023): Picks vs. the Number of Events')"
   ]
  },
  {
   "cell_type": "markdown",
   "id": "84052dd5",
   "metadata": {},
   "source": [
    "### Compare with ANSS "
   ]
  },
  {
   "cell_type": "code",
   "execution_count": null,
   "id": "c0ed5380",
   "metadata": {},
   "outputs": [],
   "source": [
    "# Plot the histogram of the number of picks for the matched events\n",
    "plt.figure()\n",
    "bins = np.linspace(5,30,25)\n",
    "plt.hist(matched_events_mycatalog2anss['picks'],bins=bins)\n",
    "plt.xlabel('Number of Picks')\n",
    "plt.ylabel('Number of Events')\n",
    "plt.title('Histogram of Matched Events with ANSS: Picks vs. the Number of Events')"
   ]
  },
  {
   "cell_type": "markdown",
   "id": "376b3b7f",
   "metadata": {},
   "source": [
    "## 2. Filter events \n",
    "Filter Events based on the following criteria\n",
    "1. For an event, at least two stations have to be less than 50 km from the event and no station can be 100 km apart from each other.\n",
    "2. An event has to have more than or equal to 6 picks\n"
   ]
  },
  {
   "cell_type": "code",
   "execution_count": 10,
   "id": "fcc97847",
   "metadata": {},
   "outputs": [
    {
     "data": {
      "text/html": [
       "<div>\n",
       "<style scoped>\n",
       "    .dataframe tbody tr th:only-of-type {\n",
       "        vertical-align: middle;\n",
       "    }\n",
       "\n",
       "    .dataframe tbody tr th {\n",
       "        vertical-align: top;\n",
       "    }\n",
       "\n",
       "    .dataframe thead th {\n",
       "        text-align: right;\n",
       "    }\n",
       "</style>\n",
       "<table border=\"1\" class=\"dataframe\">\n",
       "  <thead>\n",
       "    <tr style=\"text-align: right;\">\n",
       "      <th></th>\n",
       "      <th>Unnamed: 0.1</th>\n",
       "      <th>Unnamed: 0</th>\n",
       "      <th>idx</th>\n",
       "      <th>time</th>\n",
       "      <th>x</th>\n",
       "      <th>y</th>\n",
       "      <th>z</th>\n",
       "      <th>picks</th>\n",
       "      <th>latitude</th>\n",
       "      <th>longitude</th>\n",
       "      <th>depth</th>\n",
       "      <th>event_idx</th>\n",
       "      <th>pick_idx</th>\n",
       "      <th>residual</th>\n",
       "      <th>station</th>\n",
       "      <th>phase</th>\n",
       "      <th>time_pick</th>\n",
       "      <th>datetime</th>\n",
       "    </tr>\n",
       "  </thead>\n",
       "  <tbody>\n",
       "    <tr>\n",
       "      <th>0</th>\n",
       "      <td>0</td>\n",
       "      <td>0</td>\n",
       "      <td>2</td>\n",
       "      <td>2011-11-09 03:35:00.298074+00:00</td>\n",
       "      <td>-147.822563</td>\n",
       "      <td>-146.146124</td>\n",
       "      <td>12.890625</td>\n",
       "      <td>9</td>\n",
       "      <td>43.170218</td>\n",
       "      <td>-127.317869</td>\n",
       "      <td>12.890625</td>\n",
       "      <td>2</td>\n",
       "      <td>1341358</td>\n",
       "      <td>-0.018578</td>\n",
       "      <td>J25A</td>\n",
       "      <td>P</td>\n",
       "      <td>1.320810e+09</td>\n",
       "      <td>2011-11-09 03:35:00.298074+00:00</td>\n",
       "    </tr>\n",
       "    <tr>\n",
       "      <th>1</th>\n",
       "      <td>1</td>\n",
       "      <td>9</td>\n",
       "      <td>3</td>\n",
       "      <td>2011-11-09 17:24:51.096176+00:00</td>\n",
       "      <td>-131.087933</td>\n",
       "      <td>-173.323761</td>\n",
       "      <td>16.015625</td>\n",
       "      <td>11</td>\n",
       "      <td>42.928762</td>\n",
       "      <td>-127.105763</td>\n",
       "      <td>16.015625</td>\n",
       "      <td>3</td>\n",
       "      <td>1341385</td>\n",
       "      <td>0.318173</td>\n",
       "      <td>J25A</td>\n",
       "      <td>P</td>\n",
       "      <td>1.320860e+09</td>\n",
       "      <td>2011-11-09 17:24:51.096176+00:00</td>\n",
       "    </tr>\n",
       "    <tr>\n",
       "      <th>2</th>\n",
       "      <td>2</td>\n",
       "      <td>20</td>\n",
       "      <td>4</td>\n",
       "      <td>2011-11-12 17:36:53.321241+00:00</td>\n",
       "      <td>-145.591279</td>\n",
       "      <td>-136.133311</td>\n",
       "      <td>2.734375</td>\n",
       "      <td>7</td>\n",
       "      <td>43.260733</td>\n",
       "      <td>-127.293081</td>\n",
       "      <td>2.734375</td>\n",
       "      <td>4</td>\n",
       "      <td>1312581</td>\n",
       "      <td>-0.271465</td>\n",
       "      <td>J25A</td>\n",
       "      <td>P</td>\n",
       "      <td>1.321119e+09</td>\n",
       "      <td>2011-11-12 17:36:53.321241+00:00</td>\n",
       "    </tr>\n",
       "    <tr>\n",
       "      <th>3</th>\n",
       "      <td>3</td>\n",
       "      <td>47</td>\n",
       "      <td>10</td>\n",
       "      <td>2011-12-03 05:12:45.071214+00:00</td>\n",
       "      <td>-285.046527</td>\n",
       "      <td>-81.778036</td>\n",
       "      <td>0.390625</td>\n",
       "      <td>7</td>\n",
       "      <td>43.709274</td>\n",
       "      <td>-129.036594</td>\n",
       "      <td>0.390625</td>\n",
       "      <td>10</td>\n",
       "      <td>1317756</td>\n",
       "      <td>0.059037</td>\n",
       "      <td>J33A</td>\n",
       "      <td>P</td>\n",
       "      <td>1.322889e+09</td>\n",
       "      <td>2011-12-03 05:12:45.071214+00:00</td>\n",
       "    </tr>\n",
       "    <tr>\n",
       "      <th>4</th>\n",
       "      <td>4</td>\n",
       "      <td>54</td>\n",
       "      <td>13</td>\n",
       "      <td>2011-12-04 15:56:54.356666+00:00</td>\n",
       "      <td>-125.509723</td>\n",
       "      <td>-150.437330</td>\n",
       "      <td>0.390625</td>\n",
       "      <td>11</td>\n",
       "      <td>43.135636</td>\n",
       "      <td>-127.042608</td>\n",
       "      <td>0.390625</td>\n",
       "      <td>13</td>\n",
       "      <td>1338788</td>\n",
       "      <td>0.185487</td>\n",
       "      <td>J25A</td>\n",
       "      <td>P</td>\n",
       "      <td>1.323014e+09</td>\n",
       "      <td>2011-12-04 15:56:54.356666+00:00</td>\n",
       "    </tr>\n",
       "    <tr>\n",
       "      <th>...</th>\n",
       "      <td>...</td>\n",
       "      <td>...</td>\n",
       "      <td>...</td>\n",
       "      <td>...</td>\n",
       "      <td>...</td>\n",
       "      <td>...</td>\n",
       "      <td>...</td>\n",
       "      <td>...</td>\n",
       "      <td>...</td>\n",
       "      <td>...</td>\n",
       "      <td>...</td>\n",
       "      <td>...</td>\n",
       "      <td>...</td>\n",
       "      <td>...</td>\n",
       "      <td>...</td>\n",
       "      <td>...</td>\n",
       "      <td>...</td>\n",
       "      <td>...</td>\n",
       "    </tr>\n",
       "    <tr>\n",
       "      <th>307</th>\n",
       "      <td>307</td>\n",
       "      <td>2737</td>\n",
       "      <td>2683</td>\n",
       "      <td>2015-08-04 00:26:56.485913+00:00</td>\n",
       "      <td>234.842638</td>\n",
       "      <td>-224.818232</td>\n",
       "      <td>16.015625</td>\n",
       "      <td>6</td>\n",
       "      <td>42.440924</td>\n",
       "      <td>-122.645792</td>\n",
       "      <td>16.015625</td>\n",
       "      <td>2683</td>\n",
       "      <td>2504487</td>\n",
       "      <td>-0.877951</td>\n",
       "      <td>FC03D</td>\n",
       "      <td>S</td>\n",
       "      <td>1.438648e+09</td>\n",
       "      <td>2015-08-04 00:26:56.485913+00:00</td>\n",
       "    </tr>\n",
       "    <tr>\n",
       "      <th>308</th>\n",
       "      <td>308</td>\n",
       "      <td>2743</td>\n",
       "      <td>2689</td>\n",
       "      <td>2015-08-04 14:27:43.776389+00:00</td>\n",
       "      <td>71.958908</td>\n",
       "      <td>-44.587585</td>\n",
       "      <td>19.921875</td>\n",
       "      <td>6</td>\n",
       "      <td>44.095203</td>\n",
       "      <td>-124.601389</td>\n",
       "      <td>19.921875</td>\n",
       "      <td>2689</td>\n",
       "      <td>2516080</td>\n",
       "      <td>-0.530597</td>\n",
       "      <td>J10D</td>\n",
       "      <td>S</td>\n",
       "      <td>1.438698e+09</td>\n",
       "      <td>2015-08-04 14:27:43.776389+00:00</td>\n",
       "    </tr>\n",
       "    <tr>\n",
       "      <th>309</th>\n",
       "      <td>309</td>\n",
       "      <td>2749</td>\n",
       "      <td>2697</td>\n",
       "      <td>2015-08-06 12:39:34.744191+00:00</td>\n",
       "      <td>39.605290</td>\n",
       "      <td>-83.208438</td>\n",
       "      <td>16.015625</td>\n",
       "      <td>6</td>\n",
       "      <td>43.750090</td>\n",
       "      <td>-125.008266</td>\n",
       "      <td>16.015625</td>\n",
       "      <td>2697</td>\n",
       "      <td>2456232</td>\n",
       "      <td>0.518571</td>\n",
       "      <td>FC03D</td>\n",
       "      <td>S</td>\n",
       "      <td>1.438865e+09</td>\n",
       "      <td>2015-08-06 12:39:34.744191+00:00</td>\n",
       "    </tr>\n",
       "    <tr>\n",
       "      <th>310</th>\n",
       "      <td>310</td>\n",
       "      <td>2755</td>\n",
       "      <td>2713</td>\n",
       "      <td>2015-08-10 16:55:14.717457+00:00</td>\n",
       "      <td>-182.407465</td>\n",
       "      <td>-130.411703</td>\n",
       "      <td>36.328125</td>\n",
       "      <td>6</td>\n",
       "      <td>43.304191</td>\n",
       "      <td>-127.748091</td>\n",
       "      <td>36.328125</td>\n",
       "      <td>2713</td>\n",
       "      <td>1159330</td>\n",
       "      <td>-0.151071</td>\n",
       "      <td>J10D</td>\n",
       "      <td>P</td>\n",
       "      <td>1.439226e+09</td>\n",
       "      <td>2015-08-10 16:55:14.717457+00:00</td>\n",
       "    </tr>\n",
       "    <tr>\n",
       "      <th>311</th>\n",
       "      <td>311</td>\n",
       "      <td>2768</td>\n",
       "      <td>2737</td>\n",
       "      <td>2015-08-22 13:16:53.628155+00:00</td>\n",
       "      <td>67.496340</td>\n",
       "      <td>24.071709</td>\n",
       "      <td>49.609375</td>\n",
       "      <td>6</td>\n",
       "      <td>44.713443</td>\n",
       "      <td>-124.648192</td>\n",
       "      <td>49.609375</td>\n",
       "      <td>2737</td>\n",
       "      <td>1040980</td>\n",
       "      <td>-0.159884</td>\n",
       "      <td>FC03D</td>\n",
       "      <td>P</td>\n",
       "      <td>1.440249e+09</td>\n",
       "      <td>2015-08-22 13:16:53.628155+00:00</td>\n",
       "    </tr>\n",
       "  </tbody>\n",
       "</table>\n",
       "<p>312 rows × 18 columns</p>\n",
       "</div>"
      ],
      "text/plain": [
       "     Unnamed: 0.1  Unnamed: 0   idx                              time  \\\n",
       "0               0           0     2  2011-11-09 03:35:00.298074+00:00   \n",
       "1               1           9     3  2011-11-09 17:24:51.096176+00:00   \n",
       "2               2          20     4  2011-11-12 17:36:53.321241+00:00   \n",
       "3               3          47    10  2011-12-03 05:12:45.071214+00:00   \n",
       "4               4          54    13  2011-12-04 15:56:54.356666+00:00   \n",
       "..            ...         ...   ...                               ...   \n",
       "307           307        2737  2683  2015-08-04 00:26:56.485913+00:00   \n",
       "308           308        2743  2689  2015-08-04 14:27:43.776389+00:00   \n",
       "309           309        2749  2697  2015-08-06 12:39:34.744191+00:00   \n",
       "310           310        2755  2713  2015-08-10 16:55:14.717457+00:00   \n",
       "311           311        2768  2737  2015-08-22 13:16:53.628155+00:00   \n",
       "\n",
       "              x           y          z  picks   latitude   longitude  \\\n",
       "0   -147.822563 -146.146124  12.890625      9  43.170218 -127.317869   \n",
       "1   -131.087933 -173.323761  16.015625     11  42.928762 -127.105763   \n",
       "2   -145.591279 -136.133311   2.734375      7  43.260733 -127.293081   \n",
       "3   -285.046527  -81.778036   0.390625      7  43.709274 -129.036594   \n",
       "4   -125.509723 -150.437330   0.390625     11  43.135636 -127.042608   \n",
       "..          ...         ...        ...    ...        ...         ...   \n",
       "307  234.842638 -224.818232  16.015625      6  42.440924 -122.645792   \n",
       "308   71.958908  -44.587585  19.921875      6  44.095203 -124.601389   \n",
       "309   39.605290  -83.208438  16.015625      6  43.750090 -125.008266   \n",
       "310 -182.407465 -130.411703  36.328125      6  43.304191 -127.748091   \n",
       "311   67.496340   24.071709  49.609375      6  44.713443 -124.648192   \n",
       "\n",
       "         depth  event_idx  pick_idx  residual station phase     time_pick  \\\n",
       "0    12.890625          2   1341358 -0.018578    J25A     P  1.320810e+09   \n",
       "1    16.015625          3   1341385  0.318173    J25A     P  1.320860e+09   \n",
       "2     2.734375          4   1312581 -0.271465    J25A     P  1.321119e+09   \n",
       "3     0.390625         10   1317756  0.059037    J33A     P  1.322889e+09   \n",
       "4     0.390625         13   1338788  0.185487    J25A     P  1.323014e+09   \n",
       "..         ...        ...       ...       ...     ...   ...           ...   \n",
       "307  16.015625       2683   2504487 -0.877951   FC03D     S  1.438648e+09   \n",
       "308  19.921875       2689   2516080 -0.530597    J10D     S  1.438698e+09   \n",
       "309  16.015625       2697   2456232  0.518571   FC03D     S  1.438865e+09   \n",
       "310  36.328125       2713   1159330 -0.151071    J10D     P  1.439226e+09   \n",
       "311  49.609375       2737   1040980 -0.159884   FC03D     P  1.440249e+09   \n",
       "\n",
       "                             datetime  \n",
       "0    2011-11-09 03:35:00.298074+00:00  \n",
       "1    2011-11-09 17:24:51.096176+00:00  \n",
       "2    2011-11-12 17:36:53.321241+00:00  \n",
       "3    2011-12-03 05:12:45.071214+00:00  \n",
       "4    2011-12-04 15:56:54.356666+00:00  \n",
       "..                                ...  \n",
       "307  2015-08-04 00:26:56.485913+00:00  \n",
       "308  2015-08-04 14:27:43.776389+00:00  \n",
       "309  2015-08-06 12:39:34.744191+00:00  \n",
       "310  2015-08-10 16:55:14.717457+00:00  \n",
       "311  2015-08-22 13:16:53.628155+00:00  \n",
       "\n",
       "[312 rows x 18 columns]"
      ]
     },
     "execution_count": 10,
     "metadata": {},
     "output_type": "execute_result"
    }
   ],
   "source": [
    "# Read the new events file\n",
    "events = pd.read_csv(f'../data/datasets_{year}/new_events.csv')\n",
    "events"
   ]
  },
  {
   "cell_type": "code",
   "execution_count": 11,
   "id": "2b49b018",
   "metadata": {},
   "outputs": [
    {
     "data": {
      "text/html": [
       "<div>\n",
       "<style scoped>\n",
       "    .dataframe tbody tr th:only-of-type {\n",
       "        vertical-align: middle;\n",
       "    }\n",
       "\n",
       "    .dataframe tbody tr th {\n",
       "        vertical-align: top;\n",
       "    }\n",
       "\n",
       "    .dataframe thead th {\n",
       "        text-align: right;\n",
       "    }\n",
       "</style>\n",
       "<table border=\"1\" class=\"dataframe\">\n",
       "  <thead>\n",
       "    <tr style=\"text-align: right;\">\n",
       "      <th></th>\n",
       "      <th>Unnamed: 0</th>\n",
       "      <th>idx</th>\n",
       "      <th>time</th>\n",
       "      <th>x</th>\n",
       "      <th>y</th>\n",
       "      <th>z</th>\n",
       "      <th>picks</th>\n",
       "      <th>latitude</th>\n",
       "      <th>longitude</th>\n",
       "      <th>depth</th>\n",
       "      <th>event_idx</th>\n",
       "      <th>pick_idx</th>\n",
       "      <th>residual</th>\n",
       "      <th>station</th>\n",
       "      <th>phase</th>\n",
       "      <th>time_pick</th>\n",
       "    </tr>\n",
       "  </thead>\n",
       "  <tbody>\n",
       "    <tr>\n",
       "      <th>0</th>\n",
       "      <td>0</td>\n",
       "      <td>2</td>\n",
       "      <td>2011-11-09 03:35:00.298074+00:00</td>\n",
       "      <td>-147.822563</td>\n",
       "      <td>-146.146124</td>\n",
       "      <td>12.890625</td>\n",
       "      <td>9</td>\n",
       "      <td>43.170218</td>\n",
       "      <td>-127.317869</td>\n",
       "      <td>12.890625</td>\n",
       "      <td>2</td>\n",
       "      <td>1341358</td>\n",
       "      <td>-0.018578</td>\n",
       "      <td>J25A</td>\n",
       "      <td>P</td>\n",
       "      <td>1.320810e+09</td>\n",
       "    </tr>\n",
       "    <tr>\n",
       "      <th>9</th>\n",
       "      <td>9</td>\n",
       "      <td>3</td>\n",
       "      <td>2011-11-09 17:24:51.096176+00:00</td>\n",
       "      <td>-131.087933</td>\n",
       "      <td>-173.323761</td>\n",
       "      <td>16.015625</td>\n",
       "      <td>11</td>\n",
       "      <td>42.928762</td>\n",
       "      <td>-127.105763</td>\n",
       "      <td>16.015625</td>\n",
       "      <td>3</td>\n",
       "      <td>1341385</td>\n",
       "      <td>0.318173</td>\n",
       "      <td>J25A</td>\n",
       "      <td>P</td>\n",
       "      <td>1.320860e+09</td>\n",
       "    </tr>\n",
       "    <tr>\n",
       "      <th>20</th>\n",
       "      <td>20</td>\n",
       "      <td>4</td>\n",
       "      <td>2011-11-12 17:36:53.321241+00:00</td>\n",
       "      <td>-145.591279</td>\n",
       "      <td>-136.133311</td>\n",
       "      <td>2.734375</td>\n",
       "      <td>7</td>\n",
       "      <td>43.260733</td>\n",
       "      <td>-127.293081</td>\n",
       "      <td>2.734375</td>\n",
       "      <td>4</td>\n",
       "      <td>1312581</td>\n",
       "      <td>-0.271465</td>\n",
       "      <td>J25A</td>\n",
       "      <td>P</td>\n",
       "      <td>1.321119e+09</td>\n",
       "    </tr>\n",
       "    <tr>\n",
       "      <th>27</th>\n",
       "      <td>27</td>\n",
       "      <td>6</td>\n",
       "      <td>2011-11-21 04:49:11.940621+00:00</td>\n",
       "      <td>78.652760</td>\n",
       "      <td>-5.966732</td>\n",
       "      <td>0.390625</td>\n",
       "      <td>6</td>\n",
       "      <td>44.442031</td>\n",
       "      <td>-124.512004</td>\n",
       "      <td>0.390625</td>\n",
       "      <td>6</td>\n",
       "      <td>1327999</td>\n",
       "      <td>-0.796843</td>\n",
       "      <td>J25A</td>\n",
       "      <td>P</td>\n",
       "      <td>1.321851e+09</td>\n",
       "    </tr>\n",
       "    <tr>\n",
       "      <th>33</th>\n",
       "      <td>33</td>\n",
       "      <td>8</td>\n",
       "      <td>2011-11-28 00:27:13.522219+00:00</td>\n",
       "      <td>79.768402</td>\n",
       "      <td>-17.409948</td>\n",
       "      <td>0.390625</td>\n",
       "      <td>6</td>\n",
       "      <td>44.338944</td>\n",
       "      <td>-124.499748</td>\n",
       "      <td>0.390625</td>\n",
       "      <td>8</td>\n",
       "      <td>1313411</td>\n",
       "      <td>-0.812164</td>\n",
       "      <td>J25A</td>\n",
       "      <td>P</td>\n",
       "      <td>1.322440e+09</td>\n",
       "    </tr>\n",
       "    <tr>\n",
       "      <th>...</th>\n",
       "      <td>...</td>\n",
       "      <td>...</td>\n",
       "      <td>...</td>\n",
       "      <td>...</td>\n",
       "      <td>...</td>\n",
       "      <td>...</td>\n",
       "      <td>...</td>\n",
       "      <td>...</td>\n",
       "      <td>...</td>\n",
       "      <td>...</td>\n",
       "      <td>...</td>\n",
       "      <td>...</td>\n",
       "      <td>...</td>\n",
       "      <td>...</td>\n",
       "      <td>...</td>\n",
       "      <td>...</td>\n",
       "    </tr>\n",
       "    <tr>\n",
       "      <th>2749</th>\n",
       "      <td>2749</td>\n",
       "      <td>2697</td>\n",
       "      <td>2015-08-06 12:39:34.744191+00:00</td>\n",
       "      <td>39.605290</td>\n",
       "      <td>-83.208438</td>\n",
       "      <td>16.015625</td>\n",
       "      <td>6</td>\n",
       "      <td>43.750090</td>\n",
       "      <td>-125.008266</td>\n",
       "      <td>16.015625</td>\n",
       "      <td>2697</td>\n",
       "      <td>2456232</td>\n",
       "      <td>0.518571</td>\n",
       "      <td>FC03D</td>\n",
       "      <td>S</td>\n",
       "      <td>1.438865e+09</td>\n",
       "    </tr>\n",
       "    <tr>\n",
       "      <th>2755</th>\n",
       "      <td>2755</td>\n",
       "      <td>2713</td>\n",
       "      <td>2015-08-10 16:55:14.717457+00:00</td>\n",
       "      <td>-182.407465</td>\n",
       "      <td>-130.411703</td>\n",
       "      <td>36.328125</td>\n",
       "      <td>6</td>\n",
       "      <td>43.304191</td>\n",
       "      <td>-127.748091</td>\n",
       "      <td>36.328125</td>\n",
       "      <td>2713</td>\n",
       "      <td>1159330</td>\n",
       "      <td>-0.151071</td>\n",
       "      <td>J10D</td>\n",
       "      <td>P</td>\n",
       "      <td>1.439226e+09</td>\n",
       "    </tr>\n",
       "    <tr>\n",
       "      <th>2761</th>\n",
       "      <td>2761</td>\n",
       "      <td>2732</td>\n",
       "      <td>2015-08-16 08:21:50.618422+00:00</td>\n",
       "      <td>71.958908</td>\n",
       "      <td>-10.257938</td>\n",
       "      <td>49.609375</td>\n",
       "      <td>7</td>\n",
       "      <td>44.404115</td>\n",
       "      <td>-124.596673</td>\n",
       "      <td>49.609375</td>\n",
       "      <td>2732</td>\n",
       "      <td>912035</td>\n",
       "      <td>-0.518026</td>\n",
       "      <td>FC03D</td>\n",
       "      <td>P</td>\n",
       "      <td>1.439713e+09</td>\n",
       "    </tr>\n",
       "    <tr>\n",
       "      <th>2768</th>\n",
       "      <td>2768</td>\n",
       "      <td>2737</td>\n",
       "      <td>2015-08-22 13:16:53.628155+00:00</td>\n",
       "      <td>67.496340</td>\n",
       "      <td>24.071709</td>\n",
       "      <td>49.609375</td>\n",
       "      <td>6</td>\n",
       "      <td>44.713443</td>\n",
       "      <td>-124.648192</td>\n",
       "      <td>49.609375</td>\n",
       "      <td>2737</td>\n",
       "      <td>1040980</td>\n",
       "      <td>-0.159884</td>\n",
       "      <td>FC03D</td>\n",
       "      <td>P</td>\n",
       "      <td>1.440249e+09</td>\n",
       "    </tr>\n",
       "    <tr>\n",
       "      <th>2774</th>\n",
       "      <td>2774</td>\n",
       "      <td>2769</td>\n",
       "      <td>2015-09-02 15:35:56.628408+00:00</td>\n",
       "      <td>96.503032</td>\n",
       "      <td>89.870199</td>\n",
       "      <td>49.609375</td>\n",
       "      <td>6</td>\n",
       "      <td>45.302067</td>\n",
       "      <td>-124.269587</td>\n",
       "      <td>49.609375</td>\n",
       "      <td>2769</td>\n",
       "      <td>2362030</td>\n",
       "      <td>-0.018514</td>\n",
       "      <td>FC03D</td>\n",
       "      <td>S</td>\n",
       "      <td>1.441208e+09</td>\n",
       "    </tr>\n",
       "  </tbody>\n",
       "</table>\n",
       "<p>384 rows × 16 columns</p>\n",
       "</div>"
      ],
      "text/plain": [
       "      Unnamed: 0   idx                              time           x  \\\n",
       "0              0     2  2011-11-09 03:35:00.298074+00:00 -147.822563   \n",
       "9              9     3  2011-11-09 17:24:51.096176+00:00 -131.087933   \n",
       "20            20     4  2011-11-12 17:36:53.321241+00:00 -145.591279   \n",
       "27            27     6  2011-11-21 04:49:11.940621+00:00   78.652760   \n",
       "33            33     8  2011-11-28 00:27:13.522219+00:00   79.768402   \n",
       "...          ...   ...                               ...         ...   \n",
       "2749        2749  2697  2015-08-06 12:39:34.744191+00:00   39.605290   \n",
       "2755        2755  2713  2015-08-10 16:55:14.717457+00:00 -182.407465   \n",
       "2761        2761  2732  2015-08-16 08:21:50.618422+00:00   71.958908   \n",
       "2768        2768  2737  2015-08-22 13:16:53.628155+00:00   67.496340   \n",
       "2774        2774  2769  2015-09-02 15:35:56.628408+00:00   96.503032   \n",
       "\n",
       "               y          z  picks   latitude   longitude      depth  \\\n",
       "0    -146.146124  12.890625      9  43.170218 -127.317869  12.890625   \n",
       "9    -173.323761  16.015625     11  42.928762 -127.105763  16.015625   \n",
       "20   -136.133311   2.734375      7  43.260733 -127.293081   2.734375   \n",
       "27     -5.966732   0.390625      6  44.442031 -124.512004   0.390625   \n",
       "33    -17.409948   0.390625      6  44.338944 -124.499748   0.390625   \n",
       "...          ...        ...    ...        ...         ...        ...   \n",
       "2749  -83.208438  16.015625      6  43.750090 -125.008266  16.015625   \n",
       "2755 -130.411703  36.328125      6  43.304191 -127.748091  36.328125   \n",
       "2761  -10.257938  49.609375      7  44.404115 -124.596673  49.609375   \n",
       "2768   24.071709  49.609375      6  44.713443 -124.648192  49.609375   \n",
       "2774   89.870199  49.609375      6  45.302067 -124.269587  49.609375   \n",
       "\n",
       "      event_idx  pick_idx  residual station phase     time_pick  \n",
       "0             2   1341358 -0.018578    J25A     P  1.320810e+09  \n",
       "9             3   1341385  0.318173    J25A     P  1.320860e+09  \n",
       "20            4   1312581 -0.271465    J25A     P  1.321119e+09  \n",
       "27            6   1327999 -0.796843    J25A     P  1.321851e+09  \n",
       "33            8   1313411 -0.812164    J25A     P  1.322440e+09  \n",
       "...         ...       ...       ...     ...   ...           ...  \n",
       "2749       2697   2456232  0.518571   FC03D     S  1.438865e+09  \n",
       "2755       2713   1159330 -0.151071    J10D     P  1.439226e+09  \n",
       "2761       2732    912035 -0.518026   FC03D     P  1.439713e+09  \n",
       "2768       2737   1040980 -0.159884   FC03D     P  1.440249e+09  \n",
       "2774       2769   2362030 -0.018514   FC03D     S  1.441208e+09  \n",
       "\n",
       "[384 rows x 16 columns]"
      ]
     },
     "execution_count": 11,
     "metadata": {},
     "output_type": "execute_result"
    }
   ],
   "source": [
    "all_pick_assignments = pd.read_csv(f'../data/datasets_{year}/all_pick_assignments_{year}.csv')\n",
    "mycatalog = all_pick_assignments.drop_duplicates(subset=['idx'])\n",
    "mycatalog"
   ]
  },
  {
   "cell_type": "code",
   "execution_count": 12,
   "id": "c0c23e8c",
   "metadata": {},
   "outputs": [],
   "source": [
    "count = 0"
   ]
  },
  {
   "cell_type": "code",
   "execution_count": 13,
   "id": "650f1d56",
   "metadata": {
    "scrolled": true
   },
   "outputs": [
    {
     "name": "stderr",
     "output_type": "stream",
     "text": [
      "/tmp/ipykernel_2190526/2718798803.py:20: SettingWithCopyWarning: \n",
      "A value is trying to be set on a copy of a slice from a DataFrame.\n",
      "Try using .loc[row_indexer,col_indexer] = value instead\n",
      "\n",
      "See the caveats in the documentation: https://pandas.pydata.org/pandas-docs/stable/user_guide/indexing.html#returning-a-view-versus-a-copy\n",
      "  mycatalog['datetime'] = pd.to_datetime(mycatalog['time'], utc = True)\n",
      "  0%|          | 1/312 [00:01<07:18,  1.41s/it]"
     ]
    },
    {
     "name": "stdout",
     "output_type": "stream",
     "text": [
      "[[None, '7D', 'M08A', 221.61978866820482], [None, '7D', 'J25A', 260.31146943298654], [None, '7D', 'M07A', 260.5562179258248], [None, '7D', 'J33A', 307.2374459432169], [None, '7D', 'J42A', 346.3188106861113], [None, '7D', 'J41A', 367.28224993641413]]\n"
     ]
    },
    {
     "name": "stderr",
     "output_type": "stream",
     "text": [
      "  1%|          | 2/312 [00:02<07:16,  1.41s/it]"
     ]
    },
    {
     "name": "stdout",
     "output_type": "stream",
     "text": [
      "[[None, '7D', 'M08A', 221.95476445205796], [None, '7D', 'J25A', 263.34218636383645], [None, '7D', 'M07A', 270.8406086818145], [None, '7D', 'J33A', 315.7695677118396], [None, '7D', 'J42A', 363.52142577623886], [None, '7D', 'J41A', 380.03161127970736]]\n"
     ]
    },
    {
     "name": "stderr",
     "output_type": "stream",
     "text": [
      "  1%|          | 3/312 [00:03<06:39,  1.29s/it]"
     ]
    },
    {
     "name": "stdout",
     "output_type": "stream",
     "text": [
      "[[None, '7D', 'M08A', 215.09222141486532], [None, '7D', 'M07A', 251.76075611244895], [None, '7D', 'J25A', 253.0272350263119], [None, '7D', 'J42A', 336.44074775909155], [None, '7D', 'J41A', 357.9803153359579]]\n"
     ]
    },
    {
     "name": "stderr",
     "output_type": "stream",
     "text": [
      "  1%|▏         | 4/312 [00:04<05:50,  1.14s/it]"
     ]
    },
    {
     "name": "stdout",
     "output_type": "stream",
     "text": [
      "[[None, '7D', 'M08A', 334.80139114850977], [None, '7D', 'M07A', 338.7556078999901], [None, '7D', 'J42A', 384.6517250092209], [None, '7D', 'J33A', 387.20375313564404]]\n"
     ]
    },
    {
     "name": "stderr",
     "output_type": "stream",
     "text": [
      "  2%|▏         | 5/312 [00:06<06:37,  1.29s/it]"
     ]
    },
    {
     "name": "stdout",
     "output_type": "stream",
     "text": [
      "[[None, '7D', 'M08A', 204.4884778043732], [None, '7D', 'J25A', 244.64070913697088], [None, '7D', 'M07A', 249.27793628272286], [None, '7D', 'J33A', 294.8637989164459], [None, '7D', 'J42A', 340.3384724868956], [None, '7D', 'J41A', 357.83457944705515]]\n"
     ]
    },
    {
     "name": "stderr",
     "output_type": "stream",
     "text": [
      "  2%|▏         | 6/312 [00:07<05:56,  1.16s/it]"
     ]
    },
    {
     "name": "stdout",
     "output_type": "stream",
     "text": [
      "[[None, '7D', 'M08A', 205.43281104927055], [None, '7D', 'J25A', 245.52767865977165], [None, '7D', 'M07A', 249.97261257387993], [None, '7D', 'J42A', 340.79948832811226]]\n"
     ]
    },
    {
     "name": "stderr",
     "output_type": "stream",
     "text": [
      "  2%|▏         | 7/312 [00:10<08:40,  1.71s/it]"
     ]
    },
    {
     "name": "stdout",
     "output_type": "stream",
     "text": [
      "[[None, '7D', 'M08A', 216.21042121621656], [None, '7D', 'J25A', 256.11928283867445], [None, '7D', 'M07A', 259.6383144998144], [None, '7D', 'J33A', 305.5645716793622], [None, '7D', 'J42A', 348.9444173956542], [None, '7D', 'J41A', 367.67065246367906]]\n"
     ]
    },
    {
     "name": "stderr",
     "output_type": "stream",
     "text": [
      "  3%|▎         | 8/312 [00:11<07:31,  1.48s/it]"
     ]
    },
    {
     "name": "stdout",
     "output_type": "stream",
     "text": [
      "[[None, '7D', 'J42A', 129.33093515045303], [None, '7D', 'M07A', 135.86951934032933], [None, '7D', 'J33A', 171.18916124409634], [None, '7D', 'J41A', 178.6181809279862]]\n"
     ]
    },
    {
     "name": "stderr",
     "output_type": "stream",
     "text": [
      "  3%|▎         | 9/312 [00:12<06:36,  1.31s/it]"
     ]
    },
    {
     "name": "stdout",
     "output_type": "stream",
     "text": [
      "[[None, '7D', 'J42A', 75.9939890682553], [None, '7D', 'J41A', 134.13868825464516], [None, '7D', 'M07A', 136.40152185062027], [None, '7D', 'M08A', 217.90899062524267]]\n"
     ]
    },
    {
     "name": "stderr",
     "output_type": "stream",
     "text": [
      "  3%|▎         | 10/312 [00:12<05:30,  1.09s/it]"
     ]
    },
    {
     "name": "stdout",
     "output_type": "stream",
     "text": [
      "[[None, '7D', 'M08A', 106.3394432252065], [None, '7D', 'J25A', 149.69439312775387], [None, '7D', 'M07A', 169.98371212295106]]\n"
     ]
    },
    {
     "name": "stderr",
     "output_type": "stream",
     "text": [
      "  4%|▎         | 11/312 [00:13<05:15,  1.05s/it]"
     ]
    },
    {
     "name": "stdout",
     "output_type": "stream",
     "text": [
      "[[None, '7D', 'M08A', 229.53246181102148], [None, '7D', 'M07A', 274.93375239773405], [None, '7D', 'J33A', 320.6068156649822], [None, '7D', 'J42A', 364.73722293092396]]\n"
     ]
    },
    {
     "name": "stderr",
     "output_type": "stream",
     "text": [
      "  4%|▍         | 12/312 [00:15<05:49,  1.17s/it]"
     ]
    },
    {
     "name": "stdout",
     "output_type": "stream",
     "text": [
      "[[None, '7D', 'M08A', 213.12676738636438], [None, '7D', 'J25A', 255.2703425935534], [None, '7D', 'M07A', 265.50575945910276], [None, '7D', 'J33A', 309.58414765049406], [None, '7D', 'J42A', 361.024374025305], [None, '7D', 'J41A', 375.44719505079837]]\n"
     ]
    },
    {
     "name": "stderr",
     "output_type": "stream",
     "text": [
      "  4%|▍         | 13/312 [00:16<05:41,  1.14s/it]"
     ]
    },
    {
     "name": "stdout",
     "output_type": "stream",
     "text": [
      "[[None, '7D', 'J25A', 259.0406824740341], [None, '7D', 'M07A', 260.7399922147607], [None, '7D', 'J33A', 307.10244971151747], [None, '7D', 'J42A', 348.06778982484053]]\n"
     ]
    },
    {
     "name": "stderr",
     "output_type": "stream",
     "text": [
      "  4%|▍         | 14/312 [00:17<06:23,  1.29s/it]"
     ]
    },
    {
     "name": "stdout",
     "output_type": "stream",
     "text": [
      "[[None, '7D', 'J25A', 273.6178430627333], [None, '7D', 'M07A', 277.7569345791621], [None, '7D', 'J33A', 323.61924315833363], [None, '7D', 'J42A', 366.6909703529829], [None, '7D', 'J41A', 385.77812889606565]]\n"
     ]
    },
    {
     "name": "stderr",
     "output_type": "stream",
     "text": [
      "  5%|▍         | 15/312 [00:19<06:13,  1.26s/it]"
     ]
    },
    {
     "name": "stdout",
     "output_type": "stream",
     "text": [
      "[[None, '7D', 'J41A', 225.12160565361756], [None, '7D', 'J33A', 264.60174004825785], [None, '7D', 'J42A', 277.81598485999655], [None, '7D', 'M07A', 312.97193189689534]]\n"
     ]
    },
    {
     "name": "stderr",
     "output_type": "stream",
     "text": [
      "  5%|▌         | 16/312 [00:20<06:20,  1.28s/it]"
     ]
    },
    {
     "name": "stdout",
     "output_type": "stream",
     "text": [
      "[[None, '7D', 'M07A', 68.28745985197064], [None, '7D', 'J42A', 88.9781694427692], [None, '7D', 'J33A', 101.07956404854913], [None, '7D', 'J41A', 120.84024877493225], [None, '7D', 'M08A', 144.81197665409206]]\n"
     ]
    },
    {
     "name": "stderr",
     "output_type": "stream",
     "text": [
      "  5%|▌         | 17/312 [00:21<05:50,  1.19s/it]"
     ]
    },
    {
     "name": "stdout",
     "output_type": "stream",
     "text": [
      "[[None, '7D', 'M08A', 237.24582874870242], [None, '7D', 'M07A', 271.80672727337276], [None, '7D', 'J42A', 353.1427924487325], [None, '7D', 'J41A', 376.8040003141196]]\n"
     ]
    },
    {
     "name": "stderr",
     "output_type": "stream",
     "text": [
      "  6%|▌         | 18/312 [00:22<06:17,  1.28s/it]"
     ]
    },
    {
     "name": "stdout",
     "output_type": "stream",
     "text": [
      "[[None, '7D', 'M08A', 211.8624171973107], [None, '7D', 'J25A', 251.10921301624495], [None, '7D', 'M07A', 253.10622990787192], [None, '7D', 'J33A', 299.3613784331937], [None, '7D', 'J42A', 341.230223762805], [None, '7D', 'J41A', 360.6681245424755]]\n"
     ]
    },
    {
     "name": "stderr",
     "output_type": "stream",
     "text": [
      "  6%|▌         | 19/312 [00:24<07:00,  1.44s/it]"
     ]
    },
    {
     "name": "stdout",
     "output_type": "stream",
     "text": [
      "[[None, '7D', 'M08A', 202.54280178523473], [None, '7D', 'J25A', 244.40097510847133], [None, '7D', 'M07A', 254.08494123235076], [None, '7D', 'J33A', 298.26553060801984], [None, '7D', 'J42A', 349.6631128226299], [None, '7D', 'J41A', 363.99104927749846]]\n"
     ]
    },
    {
     "name": "stderr",
     "output_type": "stream",
     "text": [
      "  6%|▋         | 20/312 [00:25<06:32,  1.34s/it]"
     ]
    },
    {
     "name": "stdout",
     "output_type": "stream",
     "text": [
      "[[None, '7D', 'M08A', 108.34638454684868], [None, '7D', 'J25A', 147.99414815298084], [None, '7D', 'M07A', 157.9903521258702], [None, '7D', 'J33A', 201.05113646987587], [None, '7D', 'J42A', 260.3431128052102]]\n"
     ]
    },
    {
     "name": "stderr",
     "output_type": "stream",
     "text": [
      "  7%|▋         | 21/312 [00:26<06:16,  1.30s/it]"
     ]
    },
    {
     "name": "stdout",
     "output_type": "stream",
     "text": [
      "[[None, '7D', 'M08A', 212.37870963981356], [None, '7D', 'J25A', 254.81037979738383], [None, '7D', 'M07A', 266.06753787383406], [None, '7D', 'J33A', 309.8226360896167], [None, '7D', 'J42A', 362.4830891081204]]\n"
     ]
    },
    {
     "name": "stderr",
     "output_type": "stream",
     "text": [
      "  7%|▋         | 22/312 [00:28<06:26,  1.33s/it]"
     ]
    },
    {
     "name": "stdout",
     "output_type": "stream",
     "text": [
      "[[None, '7D', 'M08A', 225.03715360531282], [None, '7D', 'M07A', 271.0319460196981], [None, '7D', 'J33A', 316.5611020076893], [None, '7D', 'J42A', 361.5316658941075], [None, '7D', 'J41A', 379.54182764686755]]\n"
     ]
    },
    {
     "name": "stderr",
     "output_type": "stream",
     "text": [
      "  7%|▋         | 23/312 [00:29<06:05,  1.27s/it]"
     ]
    },
    {
     "name": "stdout",
     "output_type": "stream",
     "text": [
      "[[None, '7D', 'J42A', 101.50582856699397], [None, '7D', 'M07A', 117.97569567049902], [None, '7D', 'J33A', 148.45547722973677], [None, '7D', 'J41A', 150.84546085260217]]\n"
     ]
    },
    {
     "name": "stderr",
     "output_type": "stream",
     "text": [
      "  8%|▊         | 24/312 [00:31<06:34,  1.37s/it]"
     ]
    },
    {
     "name": "stdout",
     "output_type": "stream",
     "text": [
      "[[None, '7D', 'M08A', 255.3945231544685], [None, '7D', 'M07A', 281.80369462676947], [None, '7D', 'J25A', 290.5498401311602], [None, '7D', 'J33A', 330.0226939684443], [None, '7D', 'J42A', 355.24375166748797], [None, '7D', 'J41A', 383.2350544313907]]\n"
     ]
    },
    {
     "name": "stderr",
     "output_type": "stream",
     "text": [
      "  8%|▊         | 25/312 [00:32<07:00,  1.47s/it]"
     ]
    },
    {
     "name": "stdout",
     "output_type": "stream",
     "text": [
      "[[None, '7D', 'M08A', 268.28306308087525], [None, '7D', 'M07A', 295.864583740824], [None, '7D', 'J33A', 344.0398088163809], [None, '7D', 'J42A', 369.22701143367976], [None, '7D', 'J41A', 397.3950143024031]]\n"
     ]
    },
    {
     "name": "stderr",
     "output_type": "stream",
     "text": [
      "  8%|▊         | 26/312 [00:33<06:38,  1.39s/it]"
     ]
    },
    {
     "name": "stdout",
     "output_type": "stream",
     "text": [
      "[[None, '7D', 'M08A', 268.84900269551235], [None, '7D', 'M07A', 294.98371387561343], [None, '7D', 'J33A', 343.26582030269543], [None, '7D', 'J42A', 367.0901934135276], [None, '7D', 'J41A', 395.8843624659188]]\n"
     ]
    },
    {
     "name": "stderr",
     "output_type": "stream",
     "text": [
      "  9%|▊         | 27/312 [00:34<05:52,  1.24s/it]"
     ]
    },
    {
     "name": "stdout",
     "output_type": "stream",
     "text": [
      "[[None, '7D', 'M08A', 249.11750556074284], [None, '7D', 'M07A', 278.4971209886735], [None, '7D', 'J33A', 326.4515801385086], [None, '7D', 'J41A', 381.3051435474869]]\n"
     ]
    },
    {
     "name": "stderr",
     "output_type": "stream",
     "text": [
      "  9%|▉         | 28/312 [00:36<06:01,  1.27s/it]"
     ]
    },
    {
     "name": "stdout",
     "output_type": "stream",
     "text": [
      "[[None, '7D', 'M08A', 257.12318141124456], [None, '7D', 'M07A', 281.84137829180366], [None, '7D', 'J25A', 291.73302487997773], [None, '7D', 'J33A', 330.18144292436835], [None, '7D', 'J42A', 353.74231364010075], [None, '7D', 'J41A', 382.5064904765526]]\n"
     ]
    },
    {
     "name": "stderr",
     "output_type": "stream",
     "text": [
      "  9%|▉         | 29/312 [00:37<06:11,  1.31s/it]"
     ]
    },
    {
     "name": "stdout",
     "output_type": "stream",
     "text": [
      "[[None, '7D', 'M08A', 253.2529133891297], [None, '7D', 'M07A', 281.9166502543775], [None, '7D', 'J25A', 289.123821512838], [None, '7D', 'J33A', 329.9503367404091], [None, '7D', 'J42A', 357.3646353199633], [None, '7D', 'J41A', 384.3240379600897]]\n"
     ]
    },
    {
     "name": "stderr",
     "output_type": "stream",
     "text": [
      " 10%|▉         | 30/312 [00:39<06:31,  1.39s/it]"
     ]
    },
    {
     "name": "stdout",
     "output_type": "stream",
     "text": [
      "[[None, '7D', 'M08A', 309.1501326850723], [None, '7D', 'M07A', 311.27451914234405], [None, '7D', 'J42A', 357.5682067070302], [None, '7D', 'J33A', 359.67825550863523], [None, '7D', 'J41A', 397.6380006225459]]\n"
     ]
    },
    {
     "name": "stderr",
     "output_type": "stream",
     "text": [
      " 10%|▉         | 31/312 [00:40<06:40,  1.43s/it]"
     ]
    },
    {
     "name": "stdout",
     "output_type": "stream",
     "text": [
      "[[None, '7D', 'M08A', 304.49048646781216], [None, '7D', 'M07A', 309.3881160570138], [None, '7D', 'J33A', 357.94647055112716], [None, '7D', 'J42A', 358.917998993064], [None, '7D', 'J41A', 397.7460756936855]]\n"
     ]
    },
    {
     "name": "stderr",
     "output_type": "stream",
     "text": [
      " 10%|█         | 32/312 [00:41<05:54,  1.26s/it]"
     ]
    },
    {
     "name": "stdout",
     "output_type": "stream",
     "text": [
      "[[None, '7D', 'M08A', 290.430550757987], [None, '7D', 'J25A', 335.39580096966256], [None, '7D', 'M07A', 360.31726510319146], [None, '7D', 'J33A', 399.0264716639562]]\n"
     ]
    },
    {
     "name": "stderr",
     "output_type": "stream",
     "text": [
      " 11%|█         | 33/312 [00:42<05:36,  1.21s/it]"
     ]
    },
    {
     "name": "stdout",
     "output_type": "stream",
     "text": [
      "[[None, '7D', 'M08A', 265.17466387880944], [None, '7D', 'M07A', 293.2550651713839], [None, '7D', 'J33A', 341.38089818327376], [None, '7D', 'J42A', 367.27349646787195], [None, '7D', 'J41A', 395.0813668679563]]\n"
     ]
    },
    {
     "name": "stderr",
     "output_type": "stream",
     "text": [
      " 11%|█         | 34/312 [00:43<05:15,  1.14s/it]"
     ]
    },
    {
     "name": "stdout",
     "output_type": "stream",
     "text": [
      "[[None, '7D', 'M08A', 241.84818888609666], [None, '7D', 'M07A', 270.5572324274595], [None, '7D', 'J33A', 318.5390012489467], [None, '7D', 'J42A', 347.0055214418505]]\n"
     ]
    },
    {
     "name": "stderr",
     "output_type": "stream",
     "text": [
      " 11%|█         | 35/312 [00:45<05:38,  1.22s/it]"
     ]
    },
    {
     "name": "stdout",
     "output_type": "stream",
     "text": [
      "[[None, '7D', 'M08A', 230.00113439849162], [None, '7D', 'J25A', 270.13496779767416], [None, '7D', 'M07A', 273.74994084069044], [None, '7D', 'J33A', 319.723073485368], [None, '7D', 'J42A', 362.35036942631064], [None, '7D', 'J41A', 381.6288952231802]]\n"
     ]
    },
    {
     "name": "stderr",
     "output_type": "stream",
     "text": [
      " 12%|█▏        | 36/312 [00:46<05:42,  1.24s/it]"
     ]
    },
    {
     "name": "stdout",
     "output_type": "stream",
     "text": [
      "[[None, '7D', 'M08A', 228.28086356900963], [None, '7D', 'J25A', 269.31570208910193], [None, '7D', 'M07A', 275.5372770039203], [None, '7D', 'J33A', 320.8460800876084], [None, '7D', 'J42A', 366.720901227197]]\n"
     ]
    },
    {
     "name": "stderr",
     "output_type": "stream",
     "text": [
      " 12%|█▏        | 37/312 [00:48<06:26,  1.41s/it]"
     ]
    },
    {
     "name": "stdout",
     "output_type": "stream",
     "text": [
      "[[None, '7D', 'M08A', 266.01274710728904], [None, '7D', 'M07A', 289.8459702211399], [None, '7D', 'J25A', 300.42147435640214], [None, '7D', 'J33A', 338.2654516554726], [None, '7D', 'J42A', 360.24450773602234], [None, '7D', 'J41A', 389.8320394903832]]\n"
     ]
    },
    {
     "name": "stderr",
     "output_type": "stream",
     "text": [
      " 12%|█▏        | 38/312 [00:49<05:51,  1.28s/it]"
     ]
    },
    {
     "name": "stdout",
     "output_type": "stream",
     "text": [
      "[[None, '7D', 'M08A', 276.57629143990664], [None, '7D', 'M07A', 303.7570269662059], [None, '7D', 'J33A', 351.9880823689376], [None, '7D', 'J42A', 376.15051269775114]]\n"
     ]
    },
    {
     "name": "stderr",
     "output_type": "stream",
     "text": [
      " 12%|█▎        | 39/312 [00:50<05:48,  1.28s/it]"
     ]
    },
    {
     "name": "stdout",
     "output_type": "stream",
     "text": [
      "[[None, '7D', 'M08A', 217.9044301720171], [None, '7D', 'J25A', 258.7183375812826], [None, '7D', 'M07A', 264.65955144249983], [None, '7D', 'J33A', 309.9876800195688], [None, '7D', 'J42A', 356.1321724183565]]\n"
     ]
    },
    {
     "name": "stderr",
     "output_type": "stream",
     "text": [
      " 13%|█▎        | 40/312 [00:51<05:23,  1.19s/it]"
     ]
    },
    {
     "name": "stdout",
     "output_type": "stream",
     "text": [
      "[[None, '7D', 'M08A', 263.63567981230017], [None, '7D', 'M07A', 290.5870472889394], [None, '7D', 'J33A', 338.79435090859505], [None, '7D', 'J42A', 363.79237522834813]]\n"
     ]
    },
    {
     "name": "stderr",
     "output_type": "stream",
     "text": [
      " 13%|█▎        | 41/312 [00:52<05:22,  1.19s/it]"
     ]
    },
    {
     "name": "stdout",
     "output_type": "stream",
     "text": [
      "[[None, '7D', 'M08A', 66.81573268945235], [None, '7D', 'J25A', 110.62290703233064], [None, '7D', 'M07A', 136.64924332619782], [None, '7D', 'J33A', 172.74911018975465], [None, '7D', 'J42A', 248.8161225890827]]\n"
     ]
    },
    {
     "name": "stderr",
     "output_type": "stream",
     "text": [
      " 13%|█▎        | 42/312 [00:54<06:03,  1.35s/it]"
     ]
    },
    {
     "name": "stdout",
     "output_type": "stream",
     "text": [
      "[[None, '7D', 'M08A', 242.56331119778662], [None, '7D', 'M07A', 274.59844146948893], [None, '7D', 'J25A', 279.3934727545913], [None, '7D', 'J33A', 322.2660109458314], [None, '7D', 'J42A', 353.578986025547], [None, '7D', 'J41A', 378.5797251335251]]\n"
     ]
    },
    {
     "name": "stderr",
     "output_type": "stream",
     "text": [
      " 14%|█▍        | 43/312 [00:55<05:39,  1.26s/it]"
     ]
    },
    {
     "name": "stdout",
     "output_type": "stream",
     "text": [
      "[[None, '7D', 'M08A', 124.61368623712812], [None, '7D', 'M07A', 174.04572152665816], [None, '7D', 'J33A', 217.56869908377817], [None, '7D', 'J42A', 274.5592652782223]]\n"
     ]
    },
    {
     "name": "stderr",
     "output_type": "stream",
     "text": [
      " 14%|█▍        | 44/312 [00:56<05:56,  1.33s/it]"
     ]
    },
    {
     "name": "stdout",
     "output_type": "stream",
     "text": [
      "[[None, '7D', 'M08A', 222.89400619512475], [None, '7D', 'J25A', 262.42233387435476], [None, '7D', 'M07A', 264.6975896929709], [None, '7D', 'J33A', 310.9470428085281], [None, '7D', 'J42A', 352.39927554064457]]\n"
     ]
    },
    {
     "name": "stderr",
     "output_type": "stream",
     "text": [
      " 14%|█▍        | 45/312 [00:57<05:12,  1.17s/it]"
     ]
    },
    {
     "name": "stdout",
     "output_type": "stream",
     "text": [
      "[[None, '7D', 'M08A', 221.46087029066308], [None, '7D', 'J25A', 260.7719279559746], [None, '7D', 'M07A', 262.5490251927814], [None, '7D', 'J42A', 349.8487565603187]]\n"
     ]
    },
    {
     "name": "stderr",
     "output_type": "stream",
     "text": [
      " 15%|█▍        | 46/312 [00:58<05:07,  1.16s/it]"
     ]
    },
    {
     "name": "stdout",
     "output_type": "stream",
     "text": [
      "[[None, '7D', 'M08A', 257.586523482297], [None, '7D', 'M07A', 282.7030328863663], [None, '7D', 'J25A', 292.3353571510107], [None, '7D', 'J33A', 331.0187705377201], [None, '7D', 'J42A', 354.89314027007913]]\n"
     ]
    },
    {
     "name": "stderr",
     "output_type": "stream",
     "text": [
      " 15%|█▌        | 47/312 [00:59<04:57,  1.12s/it]"
     ]
    },
    {
     "name": "stdout",
     "output_type": "stream",
     "text": [
      "[[None, '7D', 'M08A', 232.64660208933617], [None, '7D', 'J25A', 272.77364595265584], [None, '7D', 'M07A', 276.2794940150143], [None, '7D', 'J33A', 322.29107812416873], [None, '7D', 'J42A', 364.6266574385927]]\n"
     ]
    },
    {
     "name": "stderr",
     "output_type": "stream",
     "text": [
      " 15%|█▌        | 48/312 [01:00<04:57,  1.13s/it]"
     ]
    },
    {
     "name": "stdout",
     "output_type": "stream",
     "text": [
      "[[None, '7D', 'M08A', 241.99501785054363], [None, '7D', 'M07A', 273.6438501189526], [None, '7D', 'J25A', 278.696999928785], [None, '7D', 'J33A', 321.34846315196893], [None, '7D', 'J42A', 352.3714654770723]]\n"
     ]
    },
    {
     "name": "stderr",
     "output_type": "stream",
     "text": [
      " 16%|█▌        | 49/312 [01:02<05:02,  1.15s/it]"
     ]
    },
    {
     "name": "stdout",
     "output_type": "stream",
     "text": [
      "[[None, '7D', 'M08A', 242.88897112351586], [None, '7D', 'M07A', 276.8300755880944], [None, '7D', 'J25A', 280.31554732079957], [None, '7D', 'J33A', 324.2909729034992], [None, '7D', 'J42A', 357.254494498752]]\n"
     ]
    },
    {
     "name": "stderr",
     "output_type": "stream",
     "text": [
      " 16%|█▌        | 50/312 [01:03<05:10,  1.18s/it]"
     ]
    },
    {
     "name": "stdout",
     "output_type": "stream",
     "text": [
      "[[None, '7D', 'J33A', 9.170579386925008], [None, '7D', 'M07A', 53.73144529338009], [None, '7D', 'J41A', 69.30281253811648], [None, '7D', 'J42A', 100.35136379251031]]\n"
     ]
    },
    {
     "name": "stderr",
     "output_type": "stream",
     "text": [
      " 16%|█▋        | 51/312 [01:04<05:29,  1.26s/it]"
     ]
    },
    {
     "name": "stdout",
     "output_type": "stream",
     "text": [
      "[[None, '7D', 'M08A', 256.37681167346335], [None, '7D', 'M07A', 285.45468622314644], [None, '7D', 'J25A', 292.4150210043585], [None, '7D', 'J33A', 333.4653235236027], [None, '7D', 'J42A', 360.98387046152567]]\n"
     ]
    },
    {
     "name": "stderr",
     "output_type": "stream",
     "text": [
      " 17%|█▋        | 52/312 [01:05<05:08,  1.19s/it]"
     ]
    },
    {
     "name": "stdout",
     "output_type": "stream",
     "text": [
      "[[None, '7D', 'M08A', 112.11811847344276], [None, '7D', 'J25A', 152.42959373456057], [None, '7D', 'M07A', 163.53684273444858], [None, '7D', 'J33A', 206.3218918187069], [None, '7D', 'J42A', 266.16875866262745]]\n"
     ]
    },
    {
     "name": "stderr",
     "output_type": "stream",
     "text": [
      " 17%|█▋        | 53/312 [01:07<05:25,  1.26s/it]"
     ]
    },
    {
     "name": "stdout",
     "output_type": "stream",
     "text": [
      "[[None, '7D', 'M08A', 254.28132619304787], [None, '7D', 'M07A', 277.54222697299423], [None, '7D', 'J25A', 288.3642003506382], [None, '7D', 'J33A', 325.9617524969979], [None, '7D', 'J42A', 348.4900136095852], [None, '7D', 'J41A', 377.6777182606637]]\n"
     ]
    },
    {
     "name": "stderr",
     "output_type": "stream",
     "text": [
      " 17%|█▋        | 54/312 [01:08<04:50,  1.12s/it]"
     ]
    },
    {
     "name": "stdout",
     "output_type": "stream",
     "text": [
      "[[None, '7D', 'M09B', 211.56636964911394], [None, '7D', 'J25B', 243.65268536619865], [None, '7D', 'J25A', 243.82526553690087], [None, '7D', 'J33A', 312.8096345476264], [None, '7D', 'J33B', 312.81341947818595]]\n"
     ]
    },
    {
     "name": "stderr",
     "output_type": "stream",
     "text": [
      " 18%|█▊        | 56/312 [01:09<03:30,  1.22it/s]"
     ]
    },
    {
     "name": "stdout",
     "output_type": "stream",
     "text": [
      "[[None, '7D', 'J25B', 356.9296934712513], [None, '7D', 'J33B', 357.9233108916159], [None, '7D', 'M09B', 393.1398783979689]]\n"
     ]
    },
    {
     "name": "stderr",
     "output_type": "stream",
     "text": [
      " 19%|█▊        | 58/312 [01:10<02:51,  1.48it/s]"
     ]
    },
    {
     "name": "stdout",
     "output_type": "stream",
     "text": [
      "[[None, '7D', 'J10B', 141.26802552907841], [None, '7D', 'J18B', 174.40134266455294], [None, '7D', 'J09B', 205.67224184254104], [None, '7D', 'J33B', 307.1135555531727]]\n"
     ]
    },
    {
     "name": "stderr",
     "output_type": "stream",
     "text": [
      " 19%|█▉        | 59/312 [01:10<02:41,  1.56it/s]"
     ]
    },
    {
     "name": "stdout",
     "output_type": "stream",
     "text": [
      "[[None, '7D', 'J33B', 213.35760545149915], [None, '7D', 'J25B', 221.2472326261039], [None, '7D', 'J18B', 300.26418239664923], [None, '7D', 'J10B', 337.59429205605437]]\n"
     ]
    },
    {
     "name": "stderr",
     "output_type": "stream",
     "text": [
      " 19%|█▉        | 60/312 [01:11<02:44,  1.53it/s]"
     ]
    },
    {
     "name": "stdout",
     "output_type": "stream",
     "text": [
      "[[None, '7D', 'J10B', 282.7885063358155], [None, '7D', 'J18B', 289.48641653951705], [None, '7D', 'J09B', 351.4393493137698], [None, '7D', 'J25B', 365.25173890937], [None, '7D', 'J33B', 391.7880697006391]]\n"
     ]
    },
    {
     "name": "stderr",
     "output_type": "stream",
     "text": [
      " 20%|█▉        | 61/312 [01:12<02:47,  1.50it/s]"
     ]
    },
    {
     "name": "stdout",
     "output_type": "stream",
     "text": [
      "[[None, '7D', 'J10B', 140.94095173004843], [None, '7D', 'J09B', 170.05734434441618], [None, '7D', 'M09B', 247.51271503016005], [None, '7D', 'J25B', 285.90467911859264], [None, '7D', 'J33B', 350.05783037092937]]\n"
     ]
    },
    {
     "name": "stderr",
     "output_type": "stream",
     "text": [
      " 20%|█▉        | 62/312 [01:12<02:40,  1.56it/s]"
     ]
    },
    {
     "name": "stdout",
     "output_type": "stream",
     "text": [
      "[[None, '7D', 'J10B', 220.25266448757029], [None, '7D', 'J18B', 222.79533014052845], [None, '7D', 'J09B', 289.698604451774], [None, '7D', 'J33B', 327.0596283836592]]\n"
     ]
    },
    {
     "name": "stderr",
     "output_type": "stream",
     "text": [
      " 20%|██        | 63/312 [01:13<02:39,  1.56it/s]"
     ]
    },
    {
     "name": "stdout",
     "output_type": "stream",
     "text": [
      "[[None, '7D', 'J10B', 116.61323367337316], [None, '7D', 'J18B', 157.39717068723186], [None, '7D', 'J09B', 179.15174947160634], [None, '7D', 'J25B', 242.01551487833808]]\n"
     ]
    },
    {
     "name": "stderr",
     "output_type": "stream",
     "text": [
      " 21%|██        | 64/312 [01:13<02:24,  1.72it/s]"
     ]
    },
    {
     "name": "stdout",
     "output_type": "stream",
     "text": [
      "[[None, '7D', 'J10B', 153.95382281212315], [None, '7D', 'J18B', 190.743938343326], [None, '7D', 'J25B', 275.3907128757549]]\n"
     ]
    },
    {
     "name": "stderr",
     "output_type": "stream",
     "text": [
      " 21%|██        | 65/312 [01:14<02:13,  1.85it/s]"
     ]
    },
    {
     "name": "stdout",
     "output_type": "stream",
     "text": [
      "[[None, '7D', 'J18B', 323.1660096490705], [None, '7D', 'J10B', 330.09296168203224], [None, '7D', 'J25B', 390.60625757260436]]\n"
     ]
    },
    {
     "name": "stderr",
     "output_type": "stream",
     "text": [
      " 21%|██        | 66/312 [01:14<02:11,  1.86it/s]"
     ]
    },
    {
     "name": "stdout",
     "output_type": "stream",
     "text": [
      "[[None, '7D', 'J10B', 134.45092105176857], [None, '7D', 'J18B', 168.05736040252185], [None, '7D', 'M09B', 210.04557298029655], [None, '7D', 'J25B', 252.64975091266183]]\n"
     ]
    },
    {
     "name": "stderr",
     "output_type": "stream",
     "text": [
      " 21%|██▏       | 67/312 [01:15<01:56,  2.10it/s]"
     ]
    },
    {
     "name": "stdout",
     "output_type": "stream",
     "text": [
      "[[None, '7D', 'J25B', 47.69101362669625], [None, '7D', 'J33B', 82.52428112767132], [None, '7D', 'M09B', 86.26425045604664]]\n"
     ]
    },
    {
     "name": "stderr",
     "output_type": "stream",
     "text": [
      " 22%|██▏       | 68/312 [01:15<01:58,  2.06it/s]"
     ]
    },
    {
     "name": "stdout",
     "output_type": "stream",
     "text": [
      "[[None, '7D', 'J10B', 139.3084167780234], [None, '7D', 'J18B', 182.0031552002911], [None, '7D', 'J25B', 266.6255407546496]]\n"
     ]
    },
    {
     "name": "stderr",
     "output_type": "stream",
     "text": [
      " 22%|██▏       | 69/312 [01:16<02:14,  1.81it/s]"
     ]
    },
    {
     "name": "stdout",
     "output_type": "stream",
     "text": [
      "[[None, '7D', 'J10B', 145.33045251581834], [None, '7D', 'J18B', 183.55256457418795], [None, '7D', 'J09B', 207.3391316153913], [None, '7D', 'M09B', 225.6560015067381], [None, '7D', 'J25B', 268.24707282393155]]\n"
     ]
    },
    {
     "name": "stderr",
     "output_type": "stream",
     "text": [
      " 22%|██▏       | 70/312 [01:16<02:06,  1.92it/s]"
     ]
    },
    {
     "name": "stdout",
     "output_type": "stream",
     "text": [
      "[[None, '7D', 'J10B', 144.25486495350842], [None, '7D', 'J18B', 182.66420127203872], [None, '7D', 'J25B', 267.3615044301866]]\n"
     ]
    },
    {
     "name": "stderr",
     "output_type": "stream",
     "text": [
      " 23%|██▎       | 71/312 [01:17<02:08,  1.87it/s]"
     ]
    },
    {
     "name": "stdout",
     "output_type": "stream",
     "text": [
      "[[None, '7D', 'J10B', 135.19448250125026], [None, '7D', 'J18B', 170.5082054573762], [None, '7D', 'M09B', 212.5566060588159], [None, '7D', 'J25B', 255.16100947464733]]\n"
     ]
    },
    {
     "name": "stderr",
     "output_type": "stream",
     "text": [
      " 23%|██▎       | 72/312 [01:17<01:57,  2.04it/s]"
     ]
    },
    {
     "name": "stdout",
     "output_type": "stream",
     "text": [
      "[[None, '7D', 'J25B', 11.954909433256569], [None, '7D', 'M09B', 53.01807697715532], [None, '7D', 'J33B', 59.53413568001944]]\n"
     ]
    },
    {
     "name": "stderr",
     "output_type": "stream",
     "text": [
      " 23%|██▎       | 73/312 [01:18<02:07,  1.87it/s]"
     ]
    },
    {
     "name": "stdout",
     "output_type": "stream",
     "text": [
      "[[None, '7D', 'J10B', 85.49774574291956], [None, '7D', 'J18B', 95.12622418024283], [None, '7D', 'J25B', 178.86196480322386], [None, '7D', 'J33B', 226.23922449356752]]\n"
     ]
    },
    {
     "name": "stderr",
     "output_type": "stream",
     "text": [
      " 24%|██▎       | 74/312 [01:18<02:07,  1.86it/s]"
     ]
    },
    {
     "name": "stdout",
     "output_type": "stream",
     "text": [
      "[[None, '7D', 'J10B', 127.97987929210586], [None, '7D', 'J18B', 159.4583109466341], [None, '7D', 'J25B', 243.9839595994074]]\n"
     ]
    },
    {
     "name": "stderr",
     "output_type": "stream",
     "text": [
      " 24%|██▍       | 75/312 [01:19<02:19,  1.70it/s]"
     ]
    },
    {
     "name": "stdout",
     "output_type": "stream",
     "text": [
      "[[None, '7D', 'J10B', 140.64402145113874], [None, '7D', 'J18B', 172.07746090988024], [None, '7D', 'J09B', 205.6990761236655], [None, '7D', 'J25B', 256.5077326037115]]\n"
     ]
    },
    {
     "name": "stderr",
     "output_type": "stream",
     "text": [
      " 24%|██▍       | 76/312 [01:20<02:15,  1.74it/s]"
     ]
    },
    {
     "name": "stdout",
     "output_type": "stream",
     "text": [
      "[[None, '7D', 'J10B', 186.25507569900986], [None, '7D', 'J18B', 203.80835027425525], [None, '7D', 'J09B', 253.90707417519735]]\n"
     ]
    },
    {
     "name": "stderr",
     "output_type": "stream",
     "text": [
      " 25%|██▌       | 78/312 [01:21<02:28,  1.57it/s]"
     ]
    },
    {
     "name": "stdout",
     "output_type": "stream",
     "text": [
      "[[None, '7D', 'J25C', 29.674940051038355], [None, '7D', 'J33C', 52.61203660125307], [None, '7D', 'M08C', 73.96380947361342], [None, '7D', 'M06C', 106.59977571148137], [None, '7D', 'J34C', 110.25793554715085]]\n"
     ]
    },
    {
     "name": "stderr",
     "output_type": "stream",
     "text": [
      " 25%|██▌       | 79/312 [01:22<02:56,  1.32it/s]"
     ]
    },
    {
     "name": "stdout",
     "output_type": "stream",
     "text": [
      "[[None, '7D', 'J26C', 51.32478989039198], [None, '7D', 'J34C', 67.4614272563806], [None, '7D', 'M06C', 112.39235562493401], [None, '7D', 'M08C', 123.7375651905809], [None, '7D', 'J42C', 129.8909240730754], [None, '7D', 'J41C', 155.76427545743226], [None, '7D', 'M05C', 166.95829944038945]]\n"
     ]
    },
    {
     "name": "stderr",
     "output_type": "stream",
     "text": [
      " 26%|██▌       | 80/312 [01:23<03:38,  1.06it/s]"
     ]
    },
    {
     "name": "stdout",
     "output_type": "stream",
     "text": [
      "[[None, '7D', 'J34C', 80.60641119231362], [None, '7D', 'J42C', 100.9755796321743], [None, '7D', 'M05C', 139.0422097235988], [None, '7D', 'J41C', 151.14075873464276], [None, '7D', 'M08C', 192.70409860358603]]\n"
     ]
    },
    {
     "name": "stderr",
     "output_type": "stream",
     "text": [
      " 26%|██▌       | 81/312 [01:25<04:04,  1.06s/it]"
     ]
    },
    {
     "name": "stdout",
     "output_type": "stream",
     "text": [
      "[[None, '7D', 'J26C', 41.76760283809718], [None, '7D', 'J34C', 91.763304453], [None, '7D', 'M08C', 101.06057012305185], [None, '7D', 'J25C', 108.78115136170236], [None, '7D', 'J33C', 125.56429889626361], [None, '7D', 'M06C', 133.7188638774283], [None, '7D', 'J42C', 158.93559221030915], [None, '7D', 'J41C', 177.2073196104001], [None, '7D', 'M05C', 194.55510706775448]]\n"
     ]
    },
    {
     "name": "stderr",
     "output_type": "stream",
     "text": [
      " 26%|██▋       | 82/312 [01:26<04:22,  1.14s/it]"
     ]
    },
    {
     "name": "stdout",
     "output_type": "stream",
     "text": [
      "[[None, '7D', 'M08C', 222.4100373011191], [None, '7D', 'J26C', 224.62602493024102], [None, '7D', 'J25C', 261.68429736118793], [None, '7D', 'J34C', 285.43384027122937], [None, '7D', 'J33C', 309.700425475378], [None, '7D', 'M06C', 327.249041211367], [None, '7D', 'J42C', 350.29941666870735], [None, '7D', 'J41C', 370.4999542698572], [None, '7D', 'M05C', 387.30342517648387]]\n"
     ]
    },
    {
     "name": "stderr",
     "output_type": "stream",
     "text": [
      " 27%|██▋       | 83/312 [01:28<04:42,  1.23s/it]"
     ]
    },
    {
     "name": "stdout",
     "output_type": "stream",
     "text": [
      "[[None, '7D', 'J34C', 61.82703216325275], [None, '7D', 'M06C', 107.06909790658699], [None, '7D', 'J33C', 114.95375868721766], [None, '7D', 'J42C', 122.99598352435842], [None, '7D', 'M05C', 160.2601731925223]]\n"
     ]
    },
    {
     "name": "stderr",
     "output_type": "stream",
     "text": [
      " 27%|██▋       | 84/312 [01:28<04:13,  1.11s/it]"
     ]
    },
    {
     "name": "stdout",
     "output_type": "stream",
     "text": [
      "[[None, '7D', 'M08C', 222.15623227466972], [None, '7D', 'J26C', 224.9779427229269], [None, '7D', 'J33C', 309.93876286471675], [None, '7D', 'M06C', 327.774325960796], [None, '7D', 'J42C', 351.06521116823944], [None, '7D', 'M05C', 388.01539283325235]]\n"
     ]
    },
    {
     "name": "stderr",
     "output_type": "stream",
     "text": [
      " 27%|██▋       | 85/312 [01:30<04:20,  1.15s/it]"
     ]
    },
    {
     "name": "stdout",
     "output_type": "stream",
     "text": [
      "[[None, '7D', 'M08C', 221.91694558250597], [None, '7D', 'J26C', 225.34389803000462], [None, '7D', 'J25C', 261.51695415786503], [None, '7D', 'J34C', 286.69581037992515], [None, '7D', 'J33C', 310.18751295877206], [None, '7D', 'M06C', 328.30878295213], [None, '7D', 'J42C', 351.8386835236933], [None, '7D', 'J41C', 371.50216049097213], [None, '7D', 'M05C', 388.7345135637667]]\n"
     ]
    },
    {
     "name": "stderr",
     "output_type": "stream",
     "text": [
      " 28%|██▊       | 86/312 [01:30<03:47,  1.01s/it]"
     ]
    },
    {
     "name": "stdout",
     "output_type": "stream",
     "text": [
      "[[None, '7D', 'J26C', 54.73407824415476], [None, '7D', 'M06C', 91.31753987646842], [None, '7D', 'J33C', 102.61569573385867], [None, '7D', 'J42C', 107.8317148265421], [None, '7D', 'M05C', 144.7154637061399]]\n"
     ]
    },
    {
     "name": "stderr",
     "output_type": "stream",
     "text": [
      " 28%|██▊       | 87/312 [01:31<03:45,  1.00s/it]"
     ]
    },
    {
     "name": "stdout",
     "output_type": "stream",
     "text": [
      "[[None, '7D', 'J26C', 57.204739651006484], [None, '7D', 'J34C', 72.39545809004655], [None, '7D', 'M06C', 117.60265981049083], [None, '7D', 'J33C', 123.90609343257391], [None, '7D', 'M08C', 128.67312620809668], [None, '7D', 'J42C', 132.96829986077714], [None, '7D', 'M05C', 170.46374058327672]]\n"
     ]
    },
    {
     "name": "stderr",
     "output_type": "stream",
     "text": [
      " 29%|██▊       | 89/312 [01:33<02:54,  1.28it/s]"
     ]
    },
    {
     "name": "stdout",
     "output_type": "stream",
     "text": [
      "[[None, '7D', 'J41C', 16.748752674494042], [None, '7D', 'M06C', 60.282976753936246], [None, '7D', 'J42C', 71.82004486916453], [None, '7D', 'J34C', 105.16555218054589]]\n"
     ]
    },
    {
     "name": "stderr",
     "output_type": "stream",
     "text": [
      " 29%|██▉       | 90/312 [01:33<02:39,  1.39it/s]"
     ]
    },
    {
     "name": "stdout",
     "output_type": "stream",
     "text": [
      "[[None, '7D', 'M06C', 79.51051798953138], [None, '7D', 'M08C', 102.44690354572484], [None, '7D', 'J42C', 111.87314475647872], [None, '7D', 'M05C', 144.36849846320908]]\n"
     ]
    },
    {
     "name": "stderr",
     "output_type": "stream",
     "text": [
      " 29%|██▉       | 91/312 [01:34<02:52,  1.28it/s]"
     ]
    },
    {
     "name": "stdout",
     "output_type": "stream",
     "text": [
      "[[None, '7D', 'J26C', 69.57084931972236], [None, '7D', 'M08C', 98.68198250146479], [None, '7D', 'J34C', 131.22555806327514], [None, '7D', 'J33C', 156.05318021429983], [None, '7D', 'M06C', 171.59580899053122], [None, '7D', 'M05C', 234.37474841183186]]\n"
     ]
    },
    {
     "name": "stderr",
     "output_type": "stream",
     "text": [
      " 29%|██▉       | 92/312 [01:35<02:38,  1.39it/s]"
     ]
    },
    {
     "name": "stdout",
     "output_type": "stream",
     "text": [
      "[[None, '7D', 'J26C', 67.71492521616636], [None, '7D', 'M08C', 99.1103705606663], [None, '7D', 'M06C', 169.2103816314557], [None, '7D', 'J42C', 196.37864228022448]]\n"
     ]
    },
    {
     "name": "stderr",
     "output_type": "stream",
     "text": [
      " 30%|██▉       | 93/312 [01:35<02:24,  1.52it/s]"
     ]
    },
    {
     "name": "stdout",
     "output_type": "stream",
     "text": [
      "[[None, '7D', 'M05C', 215.08051136446505], [None, '7D', 'J42C', 248.4434014191748], [None, '7D', 'J41C', 250.3012385454189], [None, '7D', 'M06C', 285.2716308680676]]\n"
     ]
    },
    {
     "name": "stderr",
     "output_type": "stream",
     "text": [
      " 30%|███       | 94/312 [01:36<02:14,  1.62it/s]"
     ]
    },
    {
     "name": "stdout",
     "output_type": "stream",
     "text": [
      "[[None, '7D', 'J26C', 61.10945618366459], [None, '7D', 'M08C', 90.34198887291822], [None, '7D', 'J25C', 112.74889802826365], [None, '7D', 'J42C', 193.61309782716194]]\n"
     ]
    },
    {
     "name": "stderr",
     "output_type": "stream",
     "text": [
      " 30%|███       | 95/312 [01:36<02:08,  1.70it/s]"
     ]
    },
    {
     "name": "stdout",
     "output_type": "stream",
     "text": [
      "[[None, '7D', 'J26C', 228.28374409782742], [None, '7D', 'J34C', 286.34284358019374], [None, '7D', 'J33C', 314.2083984732315], [None, '7D', 'M06C', 329.06896079745127]]\n"
     ]
    },
    {
     "name": "stderr",
     "output_type": "stream",
     "text": [
      " 31%|███       | 96/312 [01:37<02:12,  1.63it/s]"
     ]
    },
    {
     "name": "stdout",
     "output_type": "stream",
     "text": [
      "[[None, '7D', 'J26C', 80.14574494481288], [None, '7D', 'M08C', 105.74270951339739], [None, '7D', 'M06C', 181.87176861833845], [None, '7D', 'J42C', 208.45106816192435], [None, '7D', 'M05C', 244.07329990573288]]\n"
     ]
    },
    {
     "name": "stderr",
     "output_type": "stream",
     "text": [
      " 31%|███       | 97/312 [01:38<02:26,  1.47it/s]"
     ]
    },
    {
     "name": "stdout",
     "output_type": "stream",
     "text": [
      "[[None, '7D', 'J26C', 247.94433508477147], [None, '7D', 'J34C', 296.2471707693818], [None, '7D', 'J33C', 334.4836735511006], [None, '7D', 'M06C', 340.97352682151836], [None, '7D', 'J42C', 353.70420667517243], [None, '7D', 'M05C', 392.2963020247545]]\n"
     ]
    },
    {
     "name": "stderr",
     "output_type": "stream",
     "text": [
      " 31%|███▏      | 98/312 [01:38<02:25,  1.47it/s]"
     ]
    },
    {
     "name": "stdout",
     "output_type": "stream",
     "text": [
      "[[None, '7D', 'J26C', 252.29699650009303], [None, '7D', 'J34C', 300.6352258470235], [None, '7D', 'M06C', 345.36674502186696], [None, '7D', 'J42C', 358.0266316700232], [None, '7D', 'M05C', 396.6282382986061]]\n"
     ]
    },
    {
     "name": "stderr",
     "output_type": "stream",
     "text": [
      " 32%|███▏      | 99/312 [01:39<02:52,  1.23it/s]"
     ]
    },
    {
     "name": "stdout",
     "output_type": "stream",
     "text": [
      "[[None, '7D', 'M08C', 197.25233179464027], [None, '7D', 'J26C', 211.42774087261395], [None, '7D', 'J25C', 239.18169272961973], [None, '7D', 'J34C', 277.6506925785551], [None, '7D', 'J33C', 293.28379205882953], [None, '7D', 'M06C', 316.8559711337195], [None, '7D', 'J42C', 345.32425541940205], [None, '7D', 'M05C', 380.8441604215528]]\n"
     ]
    },
    {
     "name": "stderr",
     "output_type": "stream",
     "text": [
      " 32%|███▏      | 100/312 [01:40<02:29,  1.42it/s]"
     ]
    },
    {
     "name": "stdout",
     "output_type": "stream",
     "text": [
      "[[None, '7D', 'J41C', 11.240827614419246], [None, '7D', 'M06C', 50.48928907180016], [None, '7D', 'J42C', 56.255215956482836], [None, '7D', 'J34C', 93.75047664095968]]\n"
     ]
    },
    {
     "name": "stderr",
     "output_type": "stream",
     "text": [
      " 32%|███▏      | 101/312 [01:41<02:49,  1.25it/s]"
     ]
    },
    {
     "name": "stdout",
     "output_type": "stream",
     "text": [
      "[[None, '7D', 'J26C', 220.3848703324173], [None, '7D', 'J34C', 277.09876047394584], [None, '7D', 'J33C', 306.62418311184626], [None, '7D', 'M06C', 320.17097064348013], [None, '7D', 'J42C', 339.8380470620086], [None, '7D', 'M05C', 377.50922027218434]]\n"
     ]
    },
    {
     "name": "stderr",
     "output_type": "stream",
     "text": [
      " 33%|███▎      | 102/312 [01:42<02:58,  1.18it/s]"
     ]
    },
    {
     "name": "stdout",
     "output_type": "stream",
     "text": [
      "[[None, '7D', 'J26C', 214.20329009099302], [None, '7D', 'M08C', 220.6576594423552], [None, '7D', 'J34C', 270.99583620036924], [None, '7D', 'J33C', 300.4510741550135], [None, '7D', 'M06C', 314.0263575021937], [None, '7D', 'J42C', 333.8692764695103], [None, '7D', 'M05C', 371.49868375309876]]\n"
     ]
    },
    {
     "name": "stderr",
     "output_type": "stream",
     "text": [
      " 33%|███▎      | 103/312 [01:43<02:47,  1.25it/s]"
     ]
    },
    {
     "name": "stdout",
     "output_type": "stream",
     "text": [
      "[[None, '7D', 'M05C', 250.18940633474446], [None, '7D', 'J42C', 289.05813525644993], [None, '7D', 'M06C', 304.09649463245376], [None, '7D', 'J33C', 329.3900563883853], [None, '7D', 'J34C', 346.837643413803]]\n"
     ]
    },
    {
     "name": "stderr",
     "output_type": "stream",
     "text": [
      " 34%|███▎      | 105/312 [01:44<02:50,  1.21it/s]"
     ]
    },
    {
     "name": "stdout",
     "output_type": "stream",
     "text": [
      "[[None, '7D', 'M08C', 200.8219505023561], [None, '7D', 'J26C', 216.33715398705877], [None, '7D', 'J34C', 282.8822571518546], [None, '7D', 'J33C', 297.8216551722568], [None, '7D', 'M06C', 321.8918711333624], [None, '7D', 'J42C', 350.6819506324218], [None, '7D', 'M05C', 386.10884835093907]]\n"
     ]
    },
    {
     "name": "stderr",
     "output_type": "stream",
     "text": [
      " 34%|███▍      | 106/312 [01:45<02:53,  1.19it/s]"
     ]
    },
    {
     "name": "stdout",
     "output_type": "stream",
     "text": [
      "[[None, '7D', 'J26C', 226.5664954338756], [None, '7D', 'J34C', 283.2051021312421], [None, '7D', 'J33C', 312.79764425452623], [None, '7D', 'M06C', 326.3169789620234], [None, '7D', 'J42C', 345.814272259807], [None, '7D', 'M05C', 383.52516714380636]]\n"
     ]
    },
    {
     "name": "stderr",
     "output_type": "stream",
     "text": [
      " 34%|███▍      | 107/312 [01:46<02:40,  1.27it/s]"
     ]
    },
    {
     "name": "stdout",
     "output_type": "stream",
     "text": [
      "[[None, '7D', 'J26C', 41.609642586086444], [None, '7D', 'J33C', 89.11776762532008], [None, '7D', 'J34C', 104.75978386490117], [None, '7D', 'M06C', 126.79844135542574], [None, '7D', 'J42C', 171.85066165915057]]\n"
     ]
    },
    {
     "name": "stderr",
     "output_type": "stream",
     "text": [
      " 35%|███▍      | 108/312 [01:46<02:30,  1.36it/s]"
     ]
    },
    {
     "name": "stdout",
     "output_type": "stream",
     "text": [
      "[[None, '7D', 'J34C', 24.025296810426617], [None, '7D', 'M06C', 67.77258620035848], [None, '7D', 'J26C', 72.80030674947369], [None, '7D', 'J42C', 79.31473653911938], [None, '7D', 'M05C', 116.32478143948492]]\n"
     ]
    },
    {
     "name": "stderr",
     "output_type": "stream",
     "text": [
      " 35%|███▍      | 109/312 [01:47<02:23,  1.42it/s]"
     ]
    },
    {
     "name": "stdout",
     "output_type": "stream",
     "text": [
      "[[None, '7D', 'J26C', 303.4836587173879], [None, '7D', 'J34C', 337.6332082951366], [None, '7D', 'M06C', 383.0356304304021], [None, '7D', 'J42C', 384.63201789764867], [None, '7D', 'J33C', 387.2120294315359]]\n"
     ]
    },
    {
     "name": "stderr",
     "output_type": "stream",
     "text": [
      " 35%|███▌      | 110/312 [01:48<02:37,  1.28it/s]"
     ]
    },
    {
     "name": "stdout",
     "output_type": "stream",
     "text": [
      "[[None, '7D', 'J26C', 303.4836587173879], [None, '7D', 'M08C', 334.7910933721618], [None, '7D', 'J34C', 337.6332082951366], [None, '7D', 'J25C', 362.6232371772021], [None, '7D', 'M06C', 383.0356304304021], [None, '7D', 'J42C', 384.63201789764867], [None, '7D', 'J33C', 387.2120294315359]]\n"
     ]
    },
    {
     "name": "stderr",
     "output_type": "stream",
     "text": [
      " 36%|███▌      | 112/312 [01:49<02:28,  1.35it/s]"
     ]
    },
    {
     "name": "stdout",
     "output_type": "stream",
     "text": [
      "[[None, '7D', 'J25C', 17.889155754709122], [None, '7D', 'M08C', 47.85967312286034], [None, '7D', 'J33C', 80.51160517900747], [None, '7D', 'M05C', 202.24477860108024]]\n"
     ]
    },
    {
     "name": "stderr",
     "output_type": "stream",
     "text": [
      " 36%|███▌      | 113/312 [01:50<02:28,  1.34it/s]"
     ]
    },
    {
     "name": "stdout",
     "output_type": "stream",
     "text": [
      "[[None, '7D', 'J26C', 39.015389397544666], [None, '7D', 'J33C', 88.87982531112839], [None, '7D', 'J34C', 102.83333887590992], [None, '7D', 'M06C', 125.60401996355533], [None, '7D', 'J42C', 170.215443536063]]\n"
     ]
    },
    {
     "name": "stderr",
     "output_type": "stream",
     "text": [
      " 37%|███▋      | 114/312 [01:51<02:25,  1.36it/s]"
     ]
    },
    {
     "name": "stdout",
     "output_type": "stream",
     "text": [
      "[[None, '7D', 'J34C', 111.20240582322299], [None, '7D', 'J33C', 154.88506054929974], [None, '7D', 'M06C', 155.8298420775434], [None, '7D', 'J42C', 172.56981335348877], [None, '7D', 'J41C', 199.3314010289295]]\n"
     ]
    },
    {
     "name": "stderr",
     "output_type": "stream",
     "text": [
      " 37%|███▋      | 115/312 [01:52<02:24,  1.36it/s]"
     ]
    },
    {
     "name": "stdout",
     "output_type": "stream",
     "text": [
      "[[None, '7D', 'M05C', 229.87490859477867], [None, '7D', 'J42C', 253.07452483250663], [None, '7D', 'M06C', 300.72371106571575], [None, '7D', 'J34C', 322.1892073236652], [None, '7D', 'J33C', 351.7083576405708]]\n"
     ]
    },
    {
     "name": "stderr",
     "output_type": "stream",
     "text": [
      " 38%|███▊      | 117/312 [01:53<02:48,  1.16it/s]"
     ]
    },
    {
     "name": "stdout",
     "output_type": "stream",
     "text": [
      "[[None, '7D', 'J41C', 161.45977457054545], [None, '7D', 'J33C', 164.44663163687946], [None, '7D', 'M06C', 187.2558712077177], [None, '7D', 'J25C', 197.42978265883397], [None, '7D', 'M05C', 203.21884856432692], [None, '7D', 'J34C', 226.1765750842917], [None, '7D', 'M08C', 238.47954701512714]]\n"
     ]
    },
    {
     "name": "stderr",
     "output_type": "stream",
     "text": [
      " 38%|███▊      | 118/312 [01:54<02:39,  1.21it/s]"
     ]
    },
    {
     "name": "stdout",
     "output_type": "stream",
     "text": [
      "[[None, '7D', 'M08C', 90.09260474176821], [None, '7D', 'J26C', 116.30828896285547], [None, '7D', 'J34C', 188.38401956433088], [None, '7D', 'J33C', 190.49486196704325], [None, '7D', 'M06C', 221.59193291005704]]\n"
     ]
    },
    {
     "name": "stderr",
     "output_type": "stream",
     "text": [
      " 38%|███▊      | 119/312 [01:55<02:29,  1.29it/s]"
     ]
    },
    {
     "name": "stdout",
     "output_type": "stream",
     "text": [
      "[[None, '7D', 'M05C', 16.081438297305343], [None, '7D', 'J42C', 50.62982466038431], [None, '7D', 'M06C', 71.37474271227399], [None, '7D', 'J34C', 108.40487093387692]]\n"
     ]
    },
    {
     "name": "stderr",
     "output_type": "stream",
     "text": [
      " 38%|███▊      | 120/312 [01:56<02:23,  1.34it/s]"
     ]
    },
    {
     "name": "stdout",
     "output_type": "stream",
     "text": [
      "[[None, '7D', 'J26C', 226.9273568687164], [None, '7D', 'J34C', 282.09828459969174], [None, '7D', 'J33C', 313.3755031905954], [None, '7D', 'M06C', 325.5707271784333], [None, '7D', 'J42C', 343.89539349300844]]\n"
     ]
    },
    {
     "name": "stderr",
     "output_type": "stream",
     "text": [
      " 39%|███▉      | 121/312 [01:56<02:24,  1.32it/s]"
     ]
    },
    {
     "name": "stdout",
     "output_type": "stream",
     "text": [
      "[[None, '7D', 'J26C', 212.54261556812565], [None, '7D', 'M08C', 215.85431387633892], [None, '7D', 'J34C', 271.11289795126584], [None, '7D', 'J33C', 298.4152874184616], [None, '7D', 'M06C', 313.6357179927922]]\n"
     ]
    },
    {
     "name": "stderr",
     "output_type": "stream",
     "text": [
      " 39%|███▉      | 122/312 [01:58<02:51,  1.11it/s]"
     ]
    },
    {
     "name": "stdout",
     "output_type": "stream",
     "text": [
      "[[None, '7D', 'M08C', 228.8906710915396], [None, '7D', 'J26C', 232.22060286365092], [None, '7D', 'J25C', 268.53953137165126], [None, '7D', 'J34C', 293.2714942423223], [None, '7D', 'J33C', 317.1436836601925], [None, '7D', 'M06C', 335.01791108582285], [None, '7D', 'J42C', 358.19008035276926], [None, '7D', 'M05C', 395.18004747726496]]\n"
     ]
    },
    {
     "name": "stderr",
     "output_type": "stream",
     "text": [
      " 39%|███▉      | 123/312 [01:59<02:51,  1.10it/s]"
     ]
    },
    {
     "name": "stdout",
     "output_type": "stream",
     "text": [
      "[[None, '7D', 'M08C', 219.400830703675], [None, '7D', 'J26C', 225.1338872930576], [None, '7D', 'J25C', 259.58179402651024], [None, '7D', 'J34C', 287.5433951187426], [None, '7D', 'J33C', 309.4799210100455], [None, '7D', 'J42C', 353.2362715192623]]\n"
     ]
    },
    {
     "name": "stderr",
     "output_type": "stream",
     "text": [
      " 40%|███▉      | 124/312 [02:01<04:07,  1.32s/it]"
     ]
    },
    {
     "name": "stdout",
     "output_type": "stream",
     "text": [
      "[[None, '7D', 'J26C', 220.75996311178818], [None, '7D', 'M08C', 222.95769323466405], [None, '7D', 'J25C', 260.96191321135166], [None, '7D', 'J34C', 279.5308601118326], [None, '7D', 'J33C', 306.5363791340119], [None, '7D', 'M06C', 322.0197264557926], [None, '7D', 'J42C', 343.36598803694704], [None, '7D', 'J41C', 365.43995347372396], [None, '7D', 'M05C', 380.7238595302556]]\n"
     ]
    },
    {
     "name": "stderr",
     "output_type": "stream",
     "text": [
      " 40%|████      | 125/312 [02:01<03:20,  1.07s/it]"
     ]
    },
    {
     "name": "stdout",
     "output_type": "stream",
     "text": [
      "[[None, '7D', 'J42C', 11.769496471323906], [None, '7D', 'M05C', 41.729155869164536], [None, '7D', 'J41C', 51.91721691769559], [None, '7D', 'M08C', 193.94603114958264]]\n"
     ]
    },
    {
     "name": "stderr",
     "output_type": "stream",
     "text": [
      " 40%|████      | 126/312 [02:02<02:47,  1.11it/s]"
     ]
    },
    {
     "name": "stdout",
     "output_type": "stream",
     "text": [
      "[[None, '7D', 'M08C', 162.948915385349], [None, '7D', 'J33C', 274.88106763228956], [None, '7D', 'J34C', 296.5232656792071], [None, '7D', 'M06C', 319.5422093822994]]\n"
     ]
    },
    {
     "name": "stderr",
     "output_type": "stream",
     "text": [
      " 41%|████      | 127/312 [02:03<02:39,  1.16it/s]"
     ]
    },
    {
     "name": "stdout",
     "output_type": "stream",
     "text": [
      "[[None, '7D', 'J26C', 225.3470515080629], [None, '7D', 'M08C', 232.5763052743188], [None, '7D', 'J34C', 281.15302824403403], [None, '7D', 'J33C', 311.7158437443384], [None, '7D', 'M06C', 324.47015166014154], [None, '7D', 'J42C', 343.3242698209502]]\n"
     ]
    },
    {
     "name": "stderr",
     "output_type": "stream",
     "text": [
      " 41%|████      | 128/312 [02:04<02:59,  1.03it/s]"
     ]
    },
    {
     "name": "stdout",
     "output_type": "stream",
     "text": [
      "[[None, '7D', 'J26C', 263.4388004610117], [None, '7D', 'M08C', 287.26372125143047], [None, '7D', 'J34C', 305.9468993282572], [None, '7D', 'J25C', 318.1415314784686], [None, '7D', 'J33C', 349.2088563754665], [None, '7D', 'M06C', 351.21820442687687], [None, '7D', 'J42C', 359.48701323428264], [None, '7D', 'J41C', 394.3456962030716], [None, '7D', 'M05C', 398.3285671460039]]\n"
     ]
    },
    {
     "name": "stderr",
     "output_type": "stream",
     "text": [
      " 41%|████▏     | 129/312 [02:05<03:18,  1.09s/it]"
     ]
    },
    {
     "name": "stdout",
     "output_type": "stream",
     "text": [
      "[[None, '7D', 'J26C', 261.4387095138136], [None, '7D', 'M08C', 283.8248874987028], [None, '7D', 'J34C', 305.1941113348956], [None, '7D', 'J25C', 315.27734096797576], [None, '7D', 'J33C', 347.43280513533597], [None, '7D', 'M06C', 350.3836778522065], [None, '7D', 'J42C', 359.5681074895201], [None, '7D', 'J41C', 393.61159595330054], [None, '7D', 'M05C', 398.3798838882821]]\n"
     ]
    },
    {
     "name": "stderr",
     "output_type": "stream",
     "text": [
      " 42%|████▏     | 130/312 [02:07<03:37,  1.19s/it]"
     ]
    },
    {
     "name": "stdout",
     "output_type": "stream",
     "text": [
      "[[None, '7D', 'J26C', 264.1759483305975], [None, '7D', 'M08C', 288.8792906010823], [None, '7D', 'J34C', 305.9306606206766], [None, '7D', 'J25C', 319.3952326125031], [None, '7D', 'J33C', 349.79524401095813], [None, '7D', 'M06C', 351.24277600896244], [None, '7D', 'J42C', 358.9739159189115], [None, '7D', 'J41C', 394.3054571211097], [None, '7D', 'M05C', 397.8280088326192]]\n"
     ]
    },
    {
     "name": "stderr",
     "output_type": "stream",
     "text": [
      " 42%|████▏     | 131/312 [02:08<03:59,  1.33s/it]"
     ]
    },
    {
     "name": "stdout",
     "output_type": "stream",
     "text": [
      "[[None, '7D', 'M08C', 223.6508580940289], [None, '7D', 'J26C', 225.02883068742847], [None, '7D', 'J25C', 262.70523178167423], [None, '7D', 'J34C', 285.4166973807124], [None, '7D', 'J33C', 310.2613865095678], [None, '7D', 'M06C', 327.384315420664], [None, '7D', 'J42C', 350.05748498485025], [None, '7D', 'M05C', 387.1458359897981]]\n"
     ]
    },
    {
     "name": "stderr",
     "output_type": "stream",
     "text": [
      " 42%|████▏     | 132/312 [02:09<03:18,  1.10s/it]"
     ]
    },
    {
     "name": "stdout",
     "output_type": "stream",
     "text": [
      "[[None, '7D', 'J33C', 345.7581107344645], [None, '7D', 'M06C', 349.65643703542383], [None, '7D', 'J42C', 359.75541958191315], [None, '7D', 'M05C', 398.52708424426726]]\n"
     ]
    },
    {
     "name": "stderr",
     "output_type": "stream",
     "text": [
      " 43%|████▎     | 133/312 [02:10<03:41,  1.24s/it]"
     ]
    },
    {
     "name": "stdout",
     "output_type": "stream",
     "text": [
      "[[None, '7D', 'J26C', 306.96925824239145], [None, '7D', 'J34C', 320.5672288125083], [None, '7D', 'J42C', 352.3210356615431], [None, '7D', 'M06C', 363.85430892799343], [None, '7D', 'J25C', 374.1122235726006], [None, '7D', 'J33C', 381.3282902719673], [None, '7D', 'M05C', 389.266426772262]]\n"
     ]
    },
    {
     "name": "stderr",
     "output_type": "stream",
     "text": [
      " 43%|████▎     | 134/312 [02:11<03:09,  1.07s/it]"
     ]
    },
    {
     "name": "stdout",
     "output_type": "stream",
     "text": [
      "[[None, '7D', 'J26C', 16.854605376649552], [None, '7D', 'M08C', 78.43658951382997], [None, '7D', 'J34C', 83.42980056909559], [None, '7D', 'M06C', 120.24358616356012], [None, '7D', 'J42C', 153.37585338086566]]\n"
     ]
    },
    {
     "name": "stderr",
     "output_type": "stream",
     "text": [
      " 43%|████▎     | 135/312 [02:12<02:50,  1.04it/s]"
     ]
    },
    {
     "name": "stdout",
     "output_type": "stream",
     "text": [
      "[[None, '7D', 'M05C', 298.8949908562327], [None, '7D', 'J41C', 320.43183134464476], [None, '7D', 'J42C', 336.61518001127075], [None, '7D', 'M06C', 361.60280680502956], [None, '7D', 'J33C', 394.4212040846158]]\n"
     ]
    },
    {
     "name": "stderr",
     "output_type": "stream",
     "text": [
      " 44%|████▎     | 136/312 [02:13<02:41,  1.09it/s]"
     ]
    },
    {
     "name": "stdout",
     "output_type": "stream",
     "text": [
      "[[None, '7D', 'M08C', 270.05143644842434], [None, '7D', 'J34C', 297.192122513253], [None, '7D', 'J33C', 337.00867705206144], [None, '7D', 'M06C', 342.1220217708122], [None, '7D', 'J42C', 353.53837596029103], [None, '7D', 'M05C', 392.2293967115703]]\n"
     ]
    },
    {
     "name": "stderr",
     "output_type": "stream",
     "text": [
      " 44%|████▍     | 137/312 [02:14<02:58,  1.02s/it]"
     ]
    },
    {
     "name": "stdout",
     "output_type": "stream",
     "text": [
      "[[None, '7D', 'J26C', 230.8370438825427], [None, '7D', 'J34C', 280.3764235562021], [None, '7D', 'M06C', 324.89580114679694], [None, '7D', 'J42C', 338.91481936992255], [None, '7D', 'M05C', 377.37277783586484]]\n"
     ]
    },
    {
     "name": "stderr",
     "output_type": "stream",
     "text": [
      " 44%|████▍     | 138/312 [02:15<02:55,  1.01s/it]"
     ]
    },
    {
     "name": "stdout",
     "output_type": "stream",
     "text": [
      "[[None, '7D', 'J26C', 241.6181127666021], [None, '7D', 'M08C', 251.6807947947227], [None, '7D', 'J34C', 294.97031308436885], [None, '7D', 'J33C', 328.20703598274093], [None, '7D', 'M06C', 338.8755600857808], [None, '7D', 'J42C', 355.5080981984516], [None, '7D', 'J41C', 382.4812412453651], [None, '7D', 'M05C', 393.6765737318349]]\n"
     ]
    },
    {
     "name": "stderr",
     "output_type": "stream",
     "text": [
      " 45%|████▍     | 139/312 [02:16<02:40,  1.08it/s]"
     ]
    },
    {
     "name": "stdout",
     "output_type": "stream",
     "text": [
      "[[None, '7D', 'M08C', 269.74306661983996], [None, '7D', 'J34C', 294.19911212803817], [None, '7D', 'M06C', 339.2313331065898], [None, '7D', 'J42C', 349.9182610306365], [None, '7D', 'M05C', 388.6525476701907]]\n"
     ]
    },
    {
     "name": "stderr",
     "output_type": "stream",
     "text": [
      " 45%|████▍     | 140/312 [02:16<02:27,  1.17it/s]"
     ]
    },
    {
     "name": "stdout",
     "output_type": "stream",
     "text": [
      "[[None, '7D', 'J26C', 271.1635444330798], [None, '7D', 'J34C', 309.1362571038536], [None, '7D', 'M06C', 354.5693585888777], [None, '7D', 'J33C', 355.89295734300026], [None, '7D', 'M05C', 398.41687852315124]]\n"
     ]
    },
    {
     "name": "stderr",
     "output_type": "stream",
     "text": [
      " 45%|████▌     | 141/312 [02:17<02:23,  1.19it/s]"
     ]
    },
    {
     "name": "stdout",
     "output_type": "stream",
     "text": [
      "[[None, '7D', 'M08C', 196.70115867247839], [None, '7D', 'J26C', 200.45000407587904], [None, '7D', 'J34C', 262.9663117232674], [None, '7D', 'M06C', 304.034871089234], [None, '7D', 'J42C', 328.9401659627326], [None, '7D', 'M05C', 365.4519445053768]]\n"
     ]
    },
    {
     "name": "stderr",
     "output_type": "stream",
     "text": [
      " 46%|████▌     | 142/312 [02:18<02:05,  1.35it/s]"
     ]
    },
    {
     "name": "stdout",
     "output_type": "stream",
     "text": [
      "[[None, '7D', 'J34C', 26.42205164476525], [None, '7D', 'M06C', 70.38799865925276], [None, '7D', 'J26C', 72.07954128542637], [None, '7D', 'J42C', 81.55015320246488]]\n"
     ]
    },
    {
     "name": "stderr",
     "output_type": "stream",
     "text": [
      " 46%|████▌     | 143/312 [02:18<01:52,  1.50it/s]"
     ]
    },
    {
     "name": "stdout",
     "output_type": "stream",
     "text": [
      "[[None, '7D', 'J41C', 255.8927005809453], [None, '7D', 'J42C', 265.8438618556381], [None, '7D', 'M06C', 295.1013244823096], [None, '7D', 'J34C', 332.2265778738401]]\n"
     ]
    },
    {
     "name": "stderr",
     "output_type": "stream",
     "text": [
      " 46%|████▌     | 144/312 [02:19<01:47,  1.56it/s]"
     ]
    },
    {
     "name": "stdout",
     "output_type": "stream",
     "text": [
      "[[None, '7D', 'J26C', 279.655362511845], [None, '7D', 'J34C', 310.8639694411922], [None, '7D', 'M06C', 356.18257276996115], [None, '7D', 'J42C', 356.48687112938484], [None, '7D', 'J41C', 397.96516951919443]]\n"
     ]
    },
    {
     "name": "stderr",
     "output_type": "stream",
     "text": [
      " 46%|████▋     | 145/312 [02:19<01:33,  1.79it/s]"
     ]
    },
    {
     "name": "stdout",
     "output_type": "stream",
     "text": [
      "[[None, '7D', 'J34C', 25.677357235968408], [None, '7D', 'M06C', 65.8323306252353], [None, '7D', 'J42C', 72.09986560970735]]\n"
     ]
    },
    {
     "name": "stderr",
     "output_type": "stream",
     "text": [
      " 47%|████▋     | 146/312 [02:19<01:22,  2.01it/s]"
     ]
    },
    {
     "name": "stdout",
     "output_type": "stream",
     "text": [
      "[[None, '7D', 'J10D', 139.7386725083616], [None, '7D', 'J18D', 171.55990599863293], [None, '7D', 'J26D', 228.74835279049955]]\n"
     ]
    },
    {
     "name": "stderr",
     "output_type": "stream",
     "text": [
      " 47%|████▋     | 147/312 [02:20<01:33,  1.76it/s]"
     ]
    },
    {
     "name": "stdout",
     "output_type": "stream",
     "text": [
      "[[None, '7D', 'J10D', 125.08954188075602], [None, '7D', 'J18D', 161.1113415871836], [None, '7D', 'J09D', 188.03631826591882], [None, '7D', 'J17D', 211.573998857405], [None, '7D', 'J26D', 216.87803504398568], [None, '7D', 'J25D', 247.3408184329791]]\n"
     ]
    },
    {
     "name": "stderr",
     "output_type": "stream",
     "text": [
      " 47%|████▋     | 148/312 [02:21<01:47,  1.53it/s]"
     ]
    },
    {
     "name": "stdout",
     "output_type": "stream",
     "text": [
      "[[None, '7D', 'J10D', 225.26048203034657], [None, '7D', 'J18D', 237.29783313369646], [None, '7D', 'J26D', 267.0884167370207], [None, '7D', 'J09D', 293.20960396695006], [None, '7D', 'J17D', 302.08076165138965], [None, '7D', 'J25D', 317.8551466315705], [None, '7D', 'FC03D', 325.9269659417828]]\n"
     ]
    },
    {
     "name": "stderr",
     "output_type": "stream",
     "text": [
      " 48%|████▊     | 149/312 [02:21<01:32,  1.76it/s]"
     ]
    },
    {
     "name": "stdout",
     "output_type": "stream",
     "text": [
      "[[None, '7D', 'J17D', 2.818197594621242], [None, '7D', 'J18D', 72.53668377544847], [None, '7D', 'J10D', 91.55739519404644]]\n"
     ]
    },
    {
     "name": "stderr",
     "output_type": "stream",
     "text": [
      " 48%|████▊     | 150/312 [02:22<01:27,  1.85it/s]"
     ]
    },
    {
     "name": "stdout",
     "output_type": "stream",
     "text": [
      "[[None, '7D', 'J10D', 97.2240946450969], [None, '7D', 'J09D', 112.18137199977724], [None, '7D', 'J18D', 167.05796261885536], [None, '7D', 'J26D', 242.3317366137003]]\n"
     ]
    },
    {
     "name": "stderr",
     "output_type": "stream",
     "text": [
      " 48%|████▊     | 151/312 [02:23<01:41,  1.59it/s]"
     ]
    },
    {
     "name": "stdout",
     "output_type": "stream",
     "text": [
      "[[None, '7D', 'J10D', 178.750935737656], [None, '7D', 'J18D', 207.4141360944387], [None, '7D', 'J09D', 242.55388435175925], [None, '7D', 'J26D', 253.84359443899805], [None, '7D', 'J17D', 263.3709306359584], [None, '7D', 'J25D', 292.83172160589436], [None, '7D', 'FC03D', 308.57025867815037]]\n"
     ]
    },
    {
     "name": "stderr",
     "output_type": "stream",
     "text": [
      " 49%|████▊     | 152/312 [02:23<01:35,  1.68it/s]"
     ]
    },
    {
     "name": "stdout",
     "output_type": "stream",
     "text": [
      "[[None, '7D', 'J17D', 115.27623512323697], [None, '7D', 'J26D', 148.32407586419467], [None, '7D', 'J25D', 159.42543076589163], [None, '7D', 'FC03D', 186.7299433529788]]\n"
     ]
    },
    {
     "name": "stderr",
     "output_type": "stream",
     "text": [
      " 49%|████▉     | 153/312 [02:24<01:29,  1.77it/s]"
     ]
    },
    {
     "name": "stdout",
     "output_type": "stream",
     "text": [
      "[[None, '7D', 'J17D', 76.80945560965651], [None, '7D', 'J09D', 91.28347748861593], [None, '7D', 'J25D', 125.77971676383501], [None, '7D', 'J10D', 148.22722644296385]]\n"
     ]
    },
    {
     "name": "stderr",
     "output_type": "stream",
     "text": [
      " 49%|████▉     | 154/312 [02:24<01:24,  1.86it/s]"
     ]
    },
    {
     "name": "stdout",
     "output_type": "stream",
     "text": [
      "[[None, '7D', 'J26D', 24.29629399088026], [None, '7D', 'J18D', 90.15580657087595], [None, '7D', 'J25D', 93.80726480189696], [None, '7D', 'J17D', 140.80369283701344]]\n"
     ]
    },
    {
     "name": "stderr",
     "output_type": "stream",
     "text": [
      " 50%|████▉     | 155/312 [02:25<01:21,  1.92it/s]"
     ]
    },
    {
     "name": "stdout",
     "output_type": "stream",
     "text": [
      "[[None, '7D', 'J17D', 34.154252155078105], [None, '7D', 'J10D', 67.24299895768847], [None, '7D', 'J09D', 79.17952909140202], [None, '7D', 'J26D', 98.51446470927938]]\n"
     ]
    },
    {
     "name": "stderr",
     "output_type": "stream",
     "text": [
      " 50%|█████     | 156/312 [02:25<01:18,  1.99it/s]"
     ]
    },
    {
     "name": "stdout",
     "output_type": "stream",
     "text": [
      "[[None, '7D', 'J10D', 296.4471625301865], [None, '7D', 'J18D', 300.5942188180522], [None, '7D', 'J26D', 318.4669634157059], [None, '7D', 'FC03D', 378.52153573272216]]\n"
     ]
    },
    {
     "name": "stderr",
     "output_type": "stream",
     "text": [
      " 50%|█████     | 157/312 [02:25<01:16,  2.02it/s]"
     ]
    },
    {
     "name": "stdout",
     "output_type": "stream",
     "text": [
      "[[None, '7D', 'J26D', 169.41493189634426], [None, '7D', 'J10D', 251.29485506579502], [None, '7D', 'J17D', 273.63868452765627], [None, '7D', 'J09D', 311.65746158114155]]\n"
     ]
    },
    {
     "name": "stderr",
     "output_type": "stream",
     "text": [
      " 51%|█████     | 158/312 [02:26<01:27,  1.76it/s]"
     ]
    },
    {
     "name": "stdout",
     "output_type": "stream",
     "text": [
      "[[None, '7D', 'J10D', 144.42264622746927], [None, '7D', 'J18D', 183.10857792178248], [None, '7D', 'J09D', 204.82600725331085], [None, '7D', 'J17D', 232.06294803249787], [None, '7D', 'J26D', 238.7998778138121], [None, '7D', 'J25D', 269.33646692762073]]\n"
     ]
    },
    {
     "name": "stderr",
     "output_type": "stream",
     "text": [
      " 51%|█████     | 159/312 [02:27<01:29,  1.72it/s]"
     ]
    },
    {
     "name": "stdout",
     "output_type": "stream",
     "text": [
      "[[None, '7D', 'J18D', 312.3344960084742], [None, '7D', 'J26D', 316.2049667243567], [None, '7D', 'FC03D', 375.81076312088544], [None, '7D', 'J25D', 379.68506405304413], [None, '7D', 'J17D', 383.800234982886]]\n"
     ]
    },
    {
     "name": "stderr",
     "output_type": "stream",
     "text": [
      " 51%|█████▏    | 160/312 [02:27<01:19,  1.92it/s]"
     ]
    },
    {
     "name": "stdout",
     "output_type": "stream",
     "text": [
      "[[None, '7D', 'J26D', 17.333605315456396], [None, '7D', 'J17D', 120.54312549734259], [None, '7D', 'J09D', 184.03396481547242]]\n"
     ]
    },
    {
     "name": "stderr",
     "output_type": "stream",
     "text": [
      " 52%|█████▏    | 161/312 [02:28<01:17,  1.95it/s]"
     ]
    },
    {
     "name": "stdout",
     "output_type": "stream",
     "text": [
      "[[None, '7D', 'J09D', 99.06527700558853], [None, '7D', 'J17D', 149.04184773316703], [None, '7D', 'FC03D', 258.67621877455747], [None, '7D', 'J26D', 266.7591001529274]]\n"
     ]
    },
    {
     "name": "stderr",
     "output_type": "stream",
     "text": [
      " 52%|█████▏    | 162/312 [02:28<01:10,  2.12it/s]"
     ]
    },
    {
     "name": "stdout",
     "output_type": "stream",
     "text": [
      "[[None, '7D', 'J10D', 152.6270574225901], [None, '7D', 'J18D', 186.84409330602722], [None, '7D', 'J26D', 244.4037056083029]]\n"
     ]
    },
    {
     "name": "stderr",
     "output_type": "stream",
     "text": [
      " 52%|█████▏    | 163/312 [02:30<01:57,  1.27it/s]"
     ]
    },
    {
     "name": "stdout",
     "output_type": "stream",
     "text": [
      "[[None, '7D', 'J10D', 265.1947931717485], [None, '7D', 'J18D', 268.09016509063184], [None, '7D', 'J26D', 286.73263660586696], [None, '7D', 'J17D', 336.5004950950068]]\n"
     ]
    },
    {
     "name": "stderr",
     "output_type": "stream",
     "text": [
      " 53%|█████▎    | 164/312 [02:30<01:38,  1.50it/s]"
     ]
    },
    {
     "name": "stdout",
     "output_type": "stream",
     "text": [
      "[[None, '7D', 'J17D', 8.501472803134696], [None, '7D', 'J25D', 65.99275827864548], [None, '7D', 'J10D', 94.92189402743145]]\n"
     ]
    },
    {
     "name": "stderr",
     "output_type": "stream",
     "text": [
      " 53%|█████▎    | 165/312 [02:31<01:37,  1.51it/s]"
     ]
    },
    {
     "name": "stdout",
     "output_type": "stream",
     "text": [
      "[[None, '7D', 'J10D', 283.20767900286387], [None, '7D', 'J26D', 302.4623751742626], [None, '7D', 'J09D', 352.3476751091481], [None, '7D', 'J17D', 354.24719874852775], [None, '7D', 'J25D', 360.4422960045494]]\n"
     ]
    },
    {
     "name": "stderr",
     "output_type": "stream",
     "text": [
      " 53%|█████▎    | 166/312 [02:31<01:44,  1.39it/s]"
     ]
    },
    {
     "name": "stdout",
     "output_type": "stream",
     "text": [
      "[[None, '7D', 'J10D', 277.1908208862645], [None, '7D', 'J18D', 284.82962950444767], [None, '7D', 'J26D', 307.11221913433457], [None, '7D', 'J09D', 345.55247707400406], [None, '7D', 'J17D', 351.7544069609937], [None, '7D', 'J25D', 362.4468928712217], [None, '7D', 'FC03D', 366.92629191709943]]\n"
     ]
    },
    {
     "name": "stderr",
     "output_type": "stream",
     "text": [
      " 54%|█████▎    | 167/312 [02:32<01:38,  1.47it/s]"
     ]
    },
    {
     "name": "stdout",
     "output_type": "stream",
     "text": [
      "[[None, '7D', 'J10D', 84.38205469795602], [None, '7D', 'J18D', 136.1624057453989], [None, '7D', 'J09D', 141.37770681168232], [None, '7D', 'J26D', 203.09268681343156], [None, '7D', 'J25D', 220.30517384329255]]\n"
     ]
    },
    {
     "name": "stderr",
     "output_type": "stream",
     "text": [
      " 54%|█████▍    | 168/312 [02:33<01:39,  1.44it/s]"
     ]
    },
    {
     "name": "stdout",
     "output_type": "stream",
     "text": [
      "[[None, '7D', 'J10D', 216.8340792873419], [None, '7D', 'J09D', 223.42576788416798], [None, '7D', 'J18D', 286.10287536124923], [None, '7D', 'J17D', 289.34727442949685], [None, '7D', 'J25D', 356.7733247571768], [None, '7D', 'J26D', 360.67563514993805]]\n"
     ]
    },
    {
     "name": "stderr",
     "output_type": "stream",
     "text": [
      " 54%|█████▍    | 169/312 [02:33<01:30,  1.57it/s]"
     ]
    },
    {
     "name": "stdout",
     "output_type": "stream",
     "text": [
      "[[None, '7D', 'J18D', 53.55420675585635], [None, '7D', 'J09D', 69.09795629771439], [None, '7D', 'J25D', 79.79498006609069], [None, '7D', 'J26D', 109.88436907214727]]\n"
     ]
    },
    {
     "name": "stderr",
     "output_type": "stream",
     "text": [
      " 54%|█████▍    | 170/312 [02:34<01:31,  1.56it/s]"
     ]
    },
    {
     "name": "stdout",
     "output_type": "stream",
     "text": [
      "[[None, '7D', 'J10D', 140.51326165629462], [None, '7D', 'J18D', 176.0749732747992], [None, '7D', 'J09D', 202.79420996557863], [None, '7D', 'J26D', 230.17407448075227], [None, '7D', 'J25D', 262.2776276776048]]\n"
     ]
    },
    {
     "name": "stderr",
     "output_type": "stream",
     "text": [
      " 55%|█████▍    | 171/312 [02:34<01:23,  1.68it/s]"
     ]
    },
    {
     "name": "stdout",
     "output_type": "stream",
     "text": [
      "[[None, '7D', 'J09D', 128.00439140822823], [None, '7D', 'J25D', 229.20743947940034], [None, '7D', 'J18D', 230.0869379017449], [None, '7D', 'FC03D', 268.48521363932105]]\n"
     ]
    },
    {
     "name": "stderr",
     "output_type": "stream",
     "text": [
      " 55%|█████▌    | 172/312 [02:35<01:18,  1.79it/s]"
     ]
    },
    {
     "name": "stdout",
     "output_type": "stream",
     "text": [
      "[[None, '7D', 'J09D', 80.40969932155055], [None, '7D', 'J25D', 158.67239589635014], [None, '7D', 'FC03D', 198.09795006449184], [None, '7D', 'J26D', 214.61132918206863]]\n"
     ]
    },
    {
     "name": "stderr",
     "output_type": "stream",
     "text": [
      " 55%|█████▌    | 173/312 [02:35<01:13,  1.88it/s]"
     ]
    },
    {
     "name": "stdout",
     "output_type": "stream",
     "text": [
      "[[None, '7D', 'J25D', 38.650930038196606], [None, '7D', 'J18D', 112.66924614785793], [None, '7D', 'J17D', 113.07525146782297], [None, '7D', 'J09D', 183.79667532600715]]\n"
     ]
    },
    {
     "name": "stderr",
     "output_type": "stream",
     "text": [
      " 56%|█████▌    | 174/312 [02:36<01:10,  1.94it/s]"
     ]
    },
    {
     "name": "stdout",
     "output_type": "stream",
     "text": [
      "[[None, '7D', 'J17D', 17.499922330087767], [None, '7D', 'J18D', 65.92440354601224], [None, '7D', 'FC03D', 97.18035104000053], [None, '7D', 'J26D', 102.37043820552834]]\n"
     ]
    },
    {
     "name": "stderr",
     "output_type": "stream",
     "text": [
      " 56%|█████▌    | 175/312 [02:36<01:07,  2.02it/s]"
     ]
    },
    {
     "name": "stdout",
     "output_type": "stream",
     "text": [
      "[[None, '7D', 'J17D', 22.96802123572708], [None, '7D', 'FC03D', 92.23900864777622], [None, '7D', 'J09D', 94.26926959621048], [None, '7D', 'J26D', 102.52959934077612]]\n"
     ]
    },
    {
     "name": "stderr",
     "output_type": "stream",
     "text": [
      " 56%|█████▋    | 176/312 [02:37<01:14,  1.83it/s]"
     ]
    },
    {
     "name": "stdout",
     "output_type": "stream",
     "text": [
      "[[None, '7D', 'J18D', 49.78064694131398], [None, '7D', 'J10D', 56.9612773379571], [None, '7D', 'J26D', 110.99601824515496], [None, '7D', 'J17D', 111.93060363131997], [None, '7D', 'J09D', 122.03829929374616], [None, '7D', 'FC03D', 156.51094105167107]]\n"
     ]
    },
    {
     "name": "stderr",
     "output_type": "stream",
     "text": [
      " 57%|█████▋    | 177/312 [02:37<01:07,  2.00it/s]"
     ]
    },
    {
     "name": "stdout",
     "output_type": "stream",
     "text": [
      "[[None, '7D', 'J17D', 107.38620147730644], [None, '7D', 'J10D', 164.9617591595258], [None, '7D', 'J09D', 176.88426582768693]]\n"
     ]
    },
    {
     "name": "stderr",
     "output_type": "stream",
     "text": [
      " 57%|█████▋    | 178/312 [02:38<01:24,  1.58it/s]"
     ]
    },
    {
     "name": "stdout",
     "output_type": "stream",
     "text": [
      "[[None, '7D', 'J17D', 26.226034394871117], [None, '7D', 'J25D', 81.08152277157572], [None, '7D', 'J10D', 111.66384171628802], [None, '7D', 'J26D', 136.26374129060414]]\n"
     ]
    },
    {
     "name": "stderr",
     "output_type": "stream",
     "text": [
      " 57%|█████▋    | 179/312 [02:39<01:21,  1.64it/s]"
     ]
    },
    {
     "name": "stdout",
     "output_type": "stream",
     "text": [
      "[[None, '7D', 'J09D', 67.45257461532562], [None, '7D', 'J10D', 120.33891105010915], [None, '7D', 'J17D', 136.3655633677601], [None, '7D', 'J25D', 210.78762362882938], [None, '7D', 'J26D', 244.91513940428297]]\n"
     ]
    },
    {
     "name": "stderr",
     "output_type": "stream",
     "text": [
      " 58%|█████▊    | 180/312 [02:39<01:10,  1.88it/s]"
     ]
    },
    {
     "name": "stdout",
     "output_type": "stream",
     "text": [
      "[[None, '7D', 'J10D', 145.4582346663275], [None, '7D', 'J18D', 173.73353017089948], [None, '7D', 'J26D', 228.45570589040761]]\n"
     ]
    },
    {
     "name": "stderr",
     "output_type": "stream",
     "text": [
      " 58%|█████▊    | 182/312 [02:40<00:58,  2.20it/s]"
     ]
    },
    {
     "name": "stdout",
     "output_type": "stream",
     "text": [
      "[[None, '7D', 'J18D', 299.02291162101073], [None, '7D', 'J10D', 301.22878902916926], [None, '7D', 'J26D', 310.4284264714547]]\n"
     ]
    },
    {
     "name": "stderr",
     "output_type": "stream",
     "text": [
      " 59%|█████▊    | 183/312 [02:41<01:09,  1.86it/s]"
     ]
    },
    {
     "name": "stdout",
     "output_type": "stream",
     "text": [
      "[[None, '7D', 'J26D', 38.833150811737184], [None, '7D', 'J18D', 86.54199852411045], [None, '7D', 'FC03D', 97.45440571856871], [None, '7D', 'J25D', 107.88658251492312], [None, '7D', 'J17D', 145.7822995501195], [None, '7D', 'J10D', 151.36472130125483]]\n"
     ]
    },
    {
     "name": "stderr",
     "output_type": "stream",
     "text": [
      " 59%|█████▉    | 184/312 [02:41<01:07,  1.90it/s]"
     ]
    },
    {
     "name": "stdout",
     "output_type": "stream",
     "text": [
      "[[None, '7D', 'J17D', 264.9120339135938], [None, '7D', 'J09D', 303.35121783756523], [None, '7D', 'J18D', 326.47702767694074], [None, '7D', 'J10D', 352.50376397311567]]\n"
     ]
    },
    {
     "name": "stderr",
     "output_type": "stream",
     "text": [
      " 59%|█████▉    | 185/312 [02:42<01:10,  1.80it/s]"
     ]
    },
    {
     "name": "stdout",
     "output_type": "stream",
     "text": [
      "[[None, '7D', 'J09D', 85.38593492186858], [None, '7D', 'J25D', 134.60296077119628], [None, '7D', 'J10D', 145.86681135565806], [None, '7D', 'J18D', 152.44836770258675], [None, '7D', 'FC03D', 173.2395063566996]]\n"
     ]
    },
    {
     "name": "stderr",
     "output_type": "stream",
     "text": [
      " 60%|█████▉    | 186/312 [02:42<01:07,  1.87it/s]"
     ]
    },
    {
     "name": "stdout",
     "output_type": "stream",
     "text": [
      "[[None, '7D', 'J17D', 14.849666512562091], [None, '7D', 'J09D', 57.82039441114613], [None, '7D', 'J18D', 71.00639683042337], [None, '7D', 'J26D', 125.42878993853253]]\n"
     ]
    },
    {
     "name": "stderr",
     "output_type": "stream",
     "text": [
      " 60%|█████▉    | 187/312 [02:43<01:05,  1.92it/s]"
     ]
    },
    {
     "name": "stdout",
     "output_type": "stream",
     "text": [
      "[[None, '7D', 'J10D', 266.8067298119631], [None, '7D', 'J25D', 298.2174957477392], [None, '7D', 'J17D', 314.24341931641163], [None, '7D', 'J09D', 334.82798291579905]]\n"
     ]
    },
    {
     "name": "stderr",
     "output_type": "stream",
     "text": [
      " 60%|██████    | 188/312 [02:43<01:03,  1.94it/s]"
     ]
    },
    {
     "name": "stdout",
     "output_type": "stream",
     "text": [
      "[[None, '7D', 'J10D', 3.115069211231898], [None, '7D', 'J09D', 66.97821244737473], [None, '7D', 'J17D', 86.7400622533226], [None, '7D', 'J25D', 141.4614908134654]]\n"
     ]
    },
    {
     "name": "stderr",
     "output_type": "stream",
     "text": [
      " 61%|██████    | 189/312 [02:44<01:02,  1.97it/s]"
     ]
    },
    {
     "name": "stdout",
     "output_type": "stream",
     "text": [
      "[[None, '7D', 'J09D', 321.55932338176456], [None, '7D', 'J17D', 322.44680569230303], [None, '7D', 'FC03D', 376.35151990370684], [None, '7D', 'J18D', 395.0810176265468]]\n"
     ]
    },
    {
     "name": "stderr",
     "output_type": "stream",
     "text": [
      " 61%|██████    | 190/312 [02:44<01:01,  1.98it/s]"
     ]
    },
    {
     "name": "stdout",
     "output_type": "stream",
     "text": [
      "[[None, '7D', 'J09D', 24.93380424629325], [None, '7D', 'J17D', 69.32013495670796], [None, '7D', 'J18D', 90.7439733541417], [None, '7D', 'J25D', 139.2340243742369]]\n"
     ]
    },
    {
     "name": "stderr",
     "output_type": "stream",
     "text": [
      " 61%|██████    | 191/312 [02:45<00:58,  2.07it/s]"
     ]
    },
    {
     "name": "stdout",
     "output_type": "stream",
     "text": [
      "[[None, '7D', 'FC03D', 299.6373691414019], [None, '7D', 'J17D', 310.8891412368165], [None, '7D', 'J09D', 350.70659618842365], [None, '7D', 'J26D', 357.6320287418915]]\n"
     ]
    },
    {
     "name": "stderr",
     "output_type": "stream",
     "text": [
      " 62%|██████▏   | 192/312 [02:45<00:58,  2.06it/s]"
     ]
    },
    {
     "name": "stdout",
     "output_type": "stream",
     "text": [
      "[[None, '7D', 'J17D', 33.521208480936814], [None, '7D', 'J18D', 85.2345195788048], [None, '7D', 'J09D', 103.45637220043002], [None, '7D', 'J10D', 119.73715834581881]]\n"
     ]
    },
    {
     "name": "stderr",
     "output_type": "stream",
     "text": [
      " 62%|██████▏   | 193/312 [02:46<00:57,  2.07it/s]"
     ]
    },
    {
     "name": "stdout",
     "output_type": "stream",
     "text": [
      "[[None, '7D', 'J09D', 14.599114576269061], [None, '7D', 'J17D', 57.43304631453178], [None, '7D', 'J10D', 72.53734636977093], [None, '7D', 'J26D', 167.26451129913653]]\n"
     ]
    },
    {
     "name": "stderr",
     "output_type": "stream",
     "text": [
      " 62%|██████▏   | 194/312 [02:46<00:56,  2.08it/s]"
     ]
    },
    {
     "name": "stdout",
     "output_type": "stream",
     "text": [
      "[[None, '7D', 'J10D', 119.36455269154158], [None, '7D', 'J18D', 157.76306069527237], [None, '7D', 'J09D', 181.5177127153649], [None, '7D', 'J26D', 215.37624891669049]]\n"
     ]
    },
    {
     "name": "stderr",
     "output_type": "stream",
     "text": [
      " 62%|██████▎   | 195/312 [02:47<00:55,  2.10it/s]"
     ]
    },
    {
     "name": "stdout",
     "output_type": "stream",
     "text": [
      "[[None, '7D', 'J17D', 4.799869919631219], [None, '7D', 'J25D', 71.92091360012864], [None, '7D', 'J09D', 74.58929364322653], [None, '7D', 'J26D', 118.42413247862494]]\n"
     ]
    },
    {
     "name": "stderr",
     "output_type": "stream",
     "text": [
      " 63%|██████▎   | 196/312 [02:47<00:58,  1.98it/s]"
     ]
    },
    {
     "name": "stdout",
     "output_type": "stream",
     "text": [
      "[[None, '7D', 'J25D', 49.70981452840893], [None, '7D', 'J17D', 56.07311008508815], [None, '7D', 'J18D', 108.15241793118578], [None, '7D', 'J26D', 117.65081757136603], [None, '7D', 'J10D', 144.1762148472714]]\n"
     ]
    },
    {
     "name": "stderr",
     "output_type": "stream",
     "text": [
      " 63%|██████▎   | 197/312 [02:48<00:56,  2.03it/s]"
     ]
    },
    {
     "name": "stdout",
     "output_type": "stream",
     "text": [
      "[[None, '7D', 'J10D', 238.94476848954744], [None, '7D', 'J26D', 269.8922488931047], [None, '7D', 'J17D', 312.64388066866866], [None, '7D', 'J25D', 323.9064708201796]]\n"
     ]
    },
    {
     "name": "stderr",
     "output_type": "stream",
     "text": [
      " 63%|██████▎   | 198/312 [02:48<01:02,  1.81it/s]"
     ]
    },
    {
     "name": "stdout",
     "output_type": "stream",
     "text": [
      "[[None, '7D', 'J26D', 7.078242098928457], [None, '7D', 'FC03D', 65.18516208613529], [None, '7D', 'J25D', 71.26700029614214], [None, '7D', 'J17D', 115.14011777795962], [None, '7D', 'J09D', 172.86004396406014]]\n"
     ]
    },
    {
     "name": "stderr",
     "output_type": "stream",
     "text": [
      " 64%|██████▍   | 199/312 [02:49<00:59,  1.89it/s]"
     ]
    },
    {
     "name": "stdout",
     "output_type": "stream",
     "text": [
      "[[None, '7D', 'J17D', 44.26896976198396], [None, '7D', 'J18D', 74.10708811722694], [None, '7D', 'J26D', 86.6010258668877], [None, '7D', 'J09D', 115.41806868355341]]\n"
     ]
    },
    {
     "name": "stderr",
     "output_type": "stream",
     "text": [
      " 64%|██████▍   | 200/312 [02:49<01:02,  1.80it/s]"
     ]
    },
    {
     "name": "stdout",
     "output_type": "stream",
     "text": [
      "[[None, '7D', 'J09D', 23.912999661998853], [None, '7D', 'J10D', 82.38791771123438], [None, '7D', 'J25D', 169.04906658451108], [None, '7D', 'J26D', 200.95461222557128], [None, '7D', 'FC03D', 208.6313481658861]]\n"
     ]
    },
    {
     "name": "stderr",
     "output_type": "stream",
     "text": [
      " 64%|██████▍   | 201/312 [02:50<01:03,  1.74it/s]"
     ]
    },
    {
     "name": "stdout",
     "output_type": "stream",
     "text": [
      "[[None, '7D', 'J17D', 11.57448977485119], [None, '7D', 'J09D', 59.92648348990231], [None, '7D', 'J18D', 77.33895010828815], [None, '7D', 'J25D', 86.01912110094311], [None, '7D', 'J26D', 128.20930916789277]]\n"
     ]
    },
    {
     "name": "stderr",
     "output_type": "stream",
     "text": [
      " 65%|██████▍   | 202/312 [02:51<01:00,  1.81it/s]"
     ]
    },
    {
     "name": "stdout",
     "output_type": "stream",
     "text": [
      "[[None, '7D', 'J25D', 125.40047407141152], [None, '7D', 'J17D', 153.21129342507754], [None, '7D', 'J26D', 190.42018288994257], [None, '7D', 'J09D', 209.2188258670398]]\n"
     ]
    },
    {
     "name": "stderr",
     "output_type": "stream",
     "text": [
      " 65%|██████▌   | 203/312 [02:51<00:59,  1.84it/s]"
     ]
    },
    {
     "name": "stdout",
     "output_type": "stream",
     "text": [
      "[[None, '7D', 'J18D', 227.91292598366897], [None, '7D', 'J26D', 263.28822531129447], [None, '7D', 'J17D', 290.2064823603203], [None, '7D', 'J25D', 310.4929645185982]]\n"
     ]
    },
    {
     "name": "stderr",
     "output_type": "stream",
     "text": [
      " 65%|██████▌   | 204/312 [02:52<01:02,  1.73it/s]"
     ]
    },
    {
     "name": "stdout",
     "output_type": "stream",
     "text": [
      "[[None, '7D', 'J26D', 19.102619503425228], [None, '7D', 'J25D', 52.49066731690388], [None, '7D', 'J17D', 109.09013883345305], [None, '7D', 'J10D', 148.57860869957196], [None, '7D', 'J09D', 172.9566241589203]]\n"
     ]
    },
    {
     "name": "stderr",
     "output_type": "stream",
     "text": [
      " 66%|██████▌   | 205/312 [02:52<01:02,  1.70it/s]"
     ]
    },
    {
     "name": "stdout",
     "output_type": "stream",
     "text": [
      "[[None, '7D', 'J17D', 26.790531470916605], [None, '7D', 'J25D', 56.14002338107334], [None, '7D', 'J18D', 85.84983210741274], [None, '7D', 'J09D', 95.39441014619348], [None, '7D', 'J10D', 115.12125163663845]]\n"
     ]
    },
    {
     "name": "stderr",
     "output_type": "stream",
     "text": [
      " 66%|██████▌   | 206/312 [02:53<01:03,  1.68it/s]"
     ]
    },
    {
     "name": "stdout",
     "output_type": "stream",
     "text": [
      "[[None, '7D', 'J26D', 46.69596371506464], [None, '7D', 'J25D', 53.99219296543284], [None, '7D', 'FC03D', 73.39009523418216], [None, '7D', 'J10D', 104.61585081567507], [None, '7D', 'J09D', 130.9935556332676]]\n"
     ]
    },
    {
     "name": "stderr",
     "output_type": "stream",
     "text": [
      " 66%|██████▋   | 207/312 [02:54<01:02,  1.68it/s]"
     ]
    },
    {
     "name": "stdout",
     "output_type": "stream",
     "text": [
      "[[None, '7D', 'J09D', 63.73838544983768], [None, '7D', 'J10D', 133.4440444319772], [None, '7D', 'J18D', 166.67891038764952], [None, '7D', 'J25D', 177.0709043591586], [None, '7D', 'J26D', 225.1446079643609]]\n"
     ]
    },
    {
     "name": "stderr",
     "output_type": "stream",
     "text": [
      " 67%|██████▋   | 209/312 [02:55<00:59,  1.73it/s]"
     ]
    },
    {
     "name": "stdout",
     "output_type": "stream",
     "text": [
      "[[None, '7D', 'J09D', 194.6378210389718], [None, '7D', 'J25D', 225.85858789488387], [None, '7D', 'FC03D', 256.82161405367384], [None, '7D', 'J10D', 260.052233417408], [None, '7D', 'J26D', 293.7980224523508]]\n"
     ]
    },
    {
     "name": "stderr",
     "output_type": "stream",
     "text": [
      " 67%|██████▋   | 210/312 [02:55<00:52,  1.94it/s]"
     ]
    },
    {
     "name": "stdout",
     "output_type": "stream",
     "text": [
      "[[None, '7D', 'J17D', 34.250750617092045], [None, '7D', 'J26D', 92.97817899260941], [None, '7D', 'J09D', 105.43250802659412]]\n"
     ]
    },
    {
     "name": "stderr",
     "output_type": "stream",
     "text": [
      " 68%|██████▊   | 211/312 [02:56<00:55,  1.82it/s]"
     ]
    },
    {
     "name": "stdout",
     "output_type": "stream",
     "text": [
      "[[None, '7D', 'J09D', 267.44669140133965], [None, '7D', 'J17D', 318.120458614001], [None, '7D', 'J26D', 354.06273124068105], [None, '7D', 'J25D', 371.65315985271434], [None, '7D', 'FC03D', 398.50148451782263]]\n"
     ]
    },
    {
     "name": "stderr",
     "output_type": "stream",
     "text": [
      " 68%|██████▊   | 212/312 [02:56<00:55,  1.79it/s]"
     ]
    },
    {
     "name": "stdout",
     "output_type": "stream",
     "text": [
      "[[None, '7D', 'J25D', 25.633248292026742], [None, '7D', 'J26D', 58.066907255660816], [None, '7D', 'J18D', 97.82721672231447], [None, '7D', 'J17D', 99.21545321658864], [None, '7D', 'J09D', 169.46486575859015]]\n"
     ]
    },
    {
     "name": "stderr",
     "output_type": "stream",
     "text": [
      " 68%|██████▊   | 213/312 [02:57<00:53,  1.86it/s]"
     ]
    },
    {
     "name": "stdout",
     "output_type": "stream",
     "text": [
      "[[None, '7D', 'J25D', 68.60728941613216], [None, '7D', 'J26D', 80.65094895414919], [None, '7D', 'J17D', 143.04596901689354], [None, '7D', 'J09D', 213.89373302526815]]\n"
     ]
    },
    {
     "name": "stderr",
     "output_type": "stream",
     "text": [
      " 69%|██████▊   | 214/312 [02:57<00:51,  1.92it/s]"
     ]
    },
    {
     "name": "stdout",
     "output_type": "stream",
     "text": [
      "[[None, '7D', 'J17D', 0.6027190176388673], [None, '7D', 'J09D', 71.26736674320624], [None, '7D', 'J18D', 73.29891520636922], [None, '7D', 'J25D', 74.57450436059051]]\n"
     ]
    },
    {
     "name": "stderr",
     "output_type": "stream",
     "text": [
      " 69%|██████▉   | 215/312 [02:58<00:51,  1.87it/s]"
     ]
    },
    {
     "name": "stdout",
     "output_type": "stream",
     "text": [
      "[[None, '7D', 'J18D', 61.41004612932518], [None, '7D', 'J26D', 75.01860527756114], [None, '7D', 'J25D', 125.92190248114031], [None, '7D', 'J17D', 133.7096997070711], [None, '7D', 'J09D', 165.88124406163652]]\n"
     ]
    },
    {
     "name": "stderr",
     "output_type": "stream",
     "text": [
      " 69%|██████▉   | 216/312 [02:58<00:48,  1.98it/s]"
     ]
    },
    {
     "name": "stdout",
     "output_type": "stream",
     "text": [
      "[[None, '7D', 'J25D', 234.98095787323197], [None, '7D', 'J09D', 238.00290476424018], [None, '7D', 'J10D', 298.08942382899414], [None, '7D', 'J26D', 304.88162165997716]]\n"
     ]
    },
    {
     "name": "stderr",
     "output_type": "stream",
     "text": [
      " 70%|██████▉   | 218/312 [03:00<00:53,  1.75it/s]"
     ]
    },
    {
     "name": "stdout",
     "output_type": "stream",
     "text": [
      "[[None, '7D', 'J10D', 128.214511243679], [None, '7D', 'J18D', 171.8031920016076], [None, '7D', 'J09D', 186.6538943649504], [None, '7D', 'J17D', 216.85723291337598], [None, '7D', 'J26D', 231.56258480688638], [None, '7D', 'FC03D', 280.01068361341527]]\n"
     ]
    },
    {
     "name": "stderr",
     "output_type": "stream",
     "text": [
      " 70%|███████   | 219/312 [03:00<00:50,  1.84it/s]"
     ]
    },
    {
     "name": "stdout",
     "output_type": "stream",
     "text": [
      "[[None, '7D', 'J25D', 251.33929283749976], [None, '7D', 'J17D', 272.39772994382497], [None, '7D', 'J09D', 316.57737397920295], [None, '7D', 'J18D', 329.7652226391456]]\n"
     ]
    },
    {
     "name": "stderr",
     "output_type": "stream",
     "text": [
      " 71%|███████   | 220/312 [03:01<01:11,  1.28it/s]"
     ]
    },
    {
     "name": "stdout",
     "output_type": "stream",
     "text": [
      "[[None, '7D', 'J26D', 176.71644309444818], [None, 'OO', 'HYS14', 202.3421541498296], [None, '7D', 'J10D', 225.6069107469545], [None, '7D', 'J17D', 264.3546483398362], [None, '7D', 'J09D', 291.16799899592655]]\n"
     ]
    },
    {
     "name": "stderr",
     "output_type": "stream",
     "text": [
      " 71%|███████   | 221/312 [03:02<01:06,  1.37it/s]"
     ]
    },
    {
     "name": "stdout",
     "output_type": "stream",
     "text": [
      "[[None, '7D', 'J10D', 191.61759842942635], [None, '7D', 'J18D', 207.70924421259758], [None, '7D', 'J26D', 243.7107007558009], [None, '7D', 'J17D', 270.3340477184991], [None, '7D', 'FC03D', 301.25514956238663]]\n"
     ]
    },
    {
     "name": "stderr",
     "output_type": "stream",
     "text": [
      " 71%|███████   | 222/312 [03:03<01:02,  1.44it/s]"
     ]
    },
    {
     "name": "stdout",
     "output_type": "stream",
     "text": [
      "[[None, '7D', 'J10D', 54.06175801930798], [None, '7D', 'J18D', 58.33360605711741], [None, '7D', 'J17D', 117.12040972887135], [None, '7D', 'J26D', 120.64258420430242], [None, '7D', 'FC03D', 165.96332064411627]]\n"
     ]
    },
    {
     "name": "stderr",
     "output_type": "stream",
     "text": [
      " 71%|███████▏  | 223/312 [03:03<00:56,  1.57it/s]"
     ]
    },
    {
     "name": "stdout",
     "output_type": "stream",
     "text": [
      "[[None, '7D', 'J17D', 322.5644818426021], [None, '7D', 'J09D', 329.3130988175087], [None, '7D', 'J25D', 342.6254901675998], [None, '7D', 'J10D', 394.5392078973656]]\n"
     ]
    },
    {
     "name": "stderr",
     "output_type": "stream",
     "text": [
      " 72%|███████▏  | 224/312 [03:04<00:52,  1.66it/s]"
     ]
    },
    {
     "name": "stdout",
     "output_type": "stream",
     "text": [
      "[[None, '7D', 'J17D', 240.80644699665814], [None, '7D', 'J09D', 267.8571104128956], [None, '7D', 'J18D', 308.48126411070484], [None, '7D', 'J26D', 313.63740195355723]]\n"
     ]
    },
    {
     "name": "stderr",
     "output_type": "stream",
     "text": [
      " 72%|███████▏  | 225/312 [03:04<00:49,  1.75it/s]"
     ]
    },
    {
     "name": "stdout",
     "output_type": "stream",
     "text": [
      "[[None, '7D', 'J26D', 7.640966451232567], [None, '7D', 'J18D', 69.40971885047566], [None, '7D', 'J25D', 72.3527977981137], [None, '7D', 'J17D', 115.83645735273005]]\n"
     ]
    },
    {
     "name": "stderr",
     "output_type": "stream",
     "text": [
      " 72%|███████▏  | 226/312 [03:05<00:47,  1.83it/s]"
     ]
    },
    {
     "name": "stdout",
     "output_type": "stream",
     "text": [
      "[[None, '7D', 'J09D', 196.92908123246102], [None, '7D', 'J17D', 262.89403430815554], [None, '7D', 'J25D', 330.646604645125], [None, '7D', 'J26D', 335.99466294166103]]\n"
     ]
    },
    {
     "name": "stderr",
     "output_type": "stream",
     "text": [
      " 73%|███████▎  | 227/312 [03:05<00:48,  1.76it/s]"
     ]
    },
    {
     "name": "stdout",
     "output_type": "stream",
     "text": [
      "[[None, '7D', 'J09D', 158.94118060919863], [None, '7D', 'J17D', 179.1233599889061], [None, '7D', 'J10D', 228.37840096937367], [None, '7D', 'FC03D', 267.67538053865394], [None, '7D', 'J26D', 293.09591039538805]]\n"
     ]
    },
    {
     "name": "stderr",
     "output_type": "stream",
     "text": [
      " 73%|███████▎  | 228/312 [03:07<01:11,  1.18it/s]"
     ]
    },
    {
     "name": "stdout",
     "output_type": "stream",
     "text": [
      "[[None, '7D', 'J17D', 54.98135783303163], [None, '7D', 'J25D', 105.47028005760232], [None, '7D', 'J26D', 116.34803324026268], [None, '7D', 'FC03D', 138.77607970614181]]\n"
     ]
    },
    {
     "name": "stderr",
     "output_type": "stream",
     "text": [
      " 73%|███████▎  | 229/312 [03:09<01:35,  1.16s/it]"
     ]
    },
    {
     "name": "stdout",
     "output_type": "stream",
     "text": [
      "[[None, '7D', 'J09D', 135.29490106807626], [None, '7D', 'J18D', 173.45460884472888], [None, '7D', 'J17D', 189.1389800106531], [None, '7D', 'J26D', 246.91553812715142]]\n"
     ]
    },
    {
     "name": "stderr",
     "output_type": "stream",
     "text": [
      " 74%|███████▍  | 231/312 [03:10<01:06,  1.22it/s]"
     ]
    },
    {
     "name": "stdout",
     "output_type": "stream",
     "text": [
      "[[None, '7D', 'J17D', 23.669134446748544], [None, '7D', 'J09D', 58.90995047466398], [None, '7D', 'FC03D', 134.0638939420776], [None, '7D', 'J26D', 141.78667249020185]]\n"
     ]
    },
    {
     "name": "stderr",
     "output_type": "stream",
     "text": [
      " 75%|███████▍  | 233/312 [03:11<00:51,  1.54it/s]"
     ]
    },
    {
     "name": "stdout",
     "output_type": "stream",
     "text": [
      "[[None, '7D', 'J26D', 205.48159561457118], [None, '7D', 'J25D', 267.33120544809265], [None, '7D', 'J18D', 267.58159606901444], [None, '7D', 'J09D', 377.43274539192913]]\n"
     ]
    },
    {
     "name": "stderr",
     "output_type": "stream",
     "text": [
      " 75%|███████▌  | 235/312 [03:12<00:46,  1.65it/s]"
     ]
    },
    {
     "name": "stdout",
     "output_type": "stream",
     "text": [
      "[[None, '7D', 'J09D', 54.338722027737866], [None, '7D', 'J17D', 76.3923764231933], [None, '7D', 'M13D', 89.19445280759797], [None, '7D', 'J25D', 144.05732812498678], [None, '7D', 'J26D', 194.6824712705318]]\n"
     ]
    },
    {
     "name": "stderr",
     "output_type": "stream",
     "text": [
      " 76%|███████▌  | 236/312 [03:12<00:45,  1.68it/s]"
     ]
    },
    {
     "name": "stdout",
     "output_type": "stream",
     "text": [
      "[[None, '7D', 'J10D', 237.47670187220552], [None, '7D', 'J09D', 291.4237348958807], [None, '7D', 'J17D', 326.5285049952483], [None, '7D', 'J26D', 333.1751373164438], [None, '7D', 'FC03D', 385.5178327530321]]\n"
     ]
    },
    {
     "name": "stderr",
     "output_type": "stream",
     "text": [
      " 76%|███████▌  | 237/312 [03:13<00:42,  1.75it/s]"
     ]
    },
    {
     "name": "stdout",
     "output_type": "stream",
     "text": [
      "[[None, '7D', 'J17D', 155.71988763884752], [None, '7D', 'M13D', 161.1723957927936], [None, '7D', 'J18D', 215.77323707106308], [None, '7D', 'FC03D', 263.1408439869556], [None, '7D', 'J26D', 273.9072047183157]]\n"
     ]
    },
    {
     "name": "stderr",
     "output_type": "stream",
     "text": [
      " 76%|███████▋  | 238/312 [03:13<00:37,  2.00it/s]"
     ]
    },
    {
     "name": "stdout",
     "output_type": "stream",
     "text": [
      "[[None, '7D', 'J26D', 5.8333472257436], [None, '7D', 'J25D', 71.59499464967358], [None, '7D', 'J09D', 174.19285015594087]]\n"
     ]
    },
    {
     "name": "stderr",
     "output_type": "stream",
     "text": [
      " 77%|███████▋  | 239/312 [03:13<00:34,  2.10it/s]"
     ]
    },
    {
     "name": "stdout",
     "output_type": "stream",
     "text": [
      "[[None, '7D', 'J18D', 6.839158962643363], [None, '7D', 'J25D', 91.97340485791878], [None, '7D', 'J09D', 105.95992261172121], [None, '7D', 'FC03D', 116.75872159355015]]\n"
     ]
    },
    {
     "name": "stderr",
     "output_type": "stream",
     "text": [
      " 77%|███████▋  | 240/312 [03:14<00:36,  1.96it/s]"
     ]
    },
    {
     "name": "stdout",
     "output_type": "stream",
     "text": [
      "[[None, '7D', 'J26D', 31.662809002298655], [None, '7D', 'FC03D', 78.68112841650631], [None, '7D', 'J25D', 98.56689192728687], [None, '7D', 'J17D', 149.8180828332816], [None, '7D', 'J09D', 207.42079424721103]]\n"
     ]
    },
    {
     "name": "stderr",
     "output_type": "stream",
     "text": [
      " 77%|███████▋  | 241/312 [03:16<01:02,  1.14it/s]"
     ]
    },
    {
     "name": "stdout",
     "output_type": "stream",
     "text": [
      "[[None, '7D', 'J10D', 150.12339872012106], [None, 'OO', 'HYSB1', 268.90759610793293], [None, '7D', 'J26D', 282.48581282697813], [None, 'OO', 'HYS14', 283.24008717918434]]\n"
     ]
    },
    {
     "name": "stderr",
     "output_type": "stream",
     "text": [
      " 78%|███████▊  | 242/312 [03:16<00:53,  1.32it/s]"
     ]
    },
    {
     "name": "stdout",
     "output_type": "stream",
     "text": [
      "[[None, '7D', 'J17D', 5.86355817524194], [None, '7D', 'J09D', 65.5921410158642], [None, '7D', 'FC03D', 120.3816959953365], [None, '7D', 'J26D', 123.42611929382853]]\n"
     ]
    },
    {
     "name": "stderr",
     "output_type": "stream",
     "text": [
      " 78%|███████▊  | 243/312 [03:17<00:47,  1.46it/s]"
     ]
    },
    {
     "name": "stdout",
     "output_type": "stream",
     "text": [
      "[[None, '7D', 'J09D', 24.121299254041244], [None, '7D', 'M13D', 31.795618592856407], [None, '7D', 'J17D', 52.104802261081254], [None, '7D', 'J26D', 153.6292878449105]]\n"
     ]
    },
    {
     "name": "stderr",
     "output_type": "stream",
     "text": [
      " 78%|███████▊  | 244/312 [03:17<00:44,  1.52it/s]"
     ]
    },
    {
     "name": "stdout",
     "output_type": "stream",
     "text": [
      "[[None, '7D', 'J17D', 68.50121264161837], [None, '7D', 'J09D', 69.61369823673027], [None, '7D', 'J25D', 118.41862688986511], [None, '7D', 'J26D', 123.8421857806492], [None, '7D', 'FC03D', 150.4653766151816]]\n"
     ]
    },
    {
     "name": "stderr",
     "output_type": "stream",
     "text": [
      " 79%|███████▉  | 246/312 [03:19<00:42,  1.57it/s]"
     ]
    },
    {
     "name": "stdout",
     "output_type": "stream",
     "text": [
      "[[None, '7D', 'J17D', 95.61261053240861], [None, '7D', 'J09D', 115.62756091143211], [None, '7D', 'J18D', 168.0740966219018], [None, '7D', 'FC03D', 168.16272808971564], [None, '7D', 'J10D', 171.83424385773216]]\n"
     ]
    },
    {
     "name": "stderr",
     "output_type": "stream",
     "text": [
      " 79%|███████▉  | 247/312 [03:19<00:39,  1.66it/s]"
     ]
    },
    {
     "name": "stdout",
     "output_type": "stream",
     "text": [
      "[[None, '7D', 'J26D', 39.18533004474666], [None, '7D', 'J18D', 93.91018972599315], [None, '7D', 'J25D', 109.07288676909833], [None, '7D', 'J10D', 159.53997227715524]]\n"
     ]
    },
    {
     "name": "stderr",
     "output_type": "stream",
     "text": [
      " 79%|███████▉  | 248/312 [03:20<00:35,  1.78it/s]"
     ]
    },
    {
     "name": "stdout",
     "output_type": "stream",
     "text": [
      "[[None, '7D', 'J17D', 5.8710388899359325], [None, '7D', 'J25D', 68.90717883788936], [None, '7D', 'J09D', 77.08886216512322], [None, '7D', 'J26D', 114.79817154659406]]\n"
     ]
    },
    {
     "name": "stderr",
     "output_type": "stream",
     "text": [
      " 80%|███████▉  | 249/312 [03:20<00:33,  1.87it/s]"
     ]
    },
    {
     "name": "stdout",
     "output_type": "stream",
     "text": [
      "[[None, '7D', 'J26D', 25.43051147375372], [None, '7D', 'J18D', 80.25972829453276], [None, '7D', 'J25D', 94.56960826498019], [None, '7D', 'J10D', 147.64997755931464]]\n"
     ]
    },
    {
     "name": "stderr",
     "output_type": "stream",
     "text": [
      " 80%|████████  | 251/312 [03:21<00:30,  2.01it/s]"
     ]
    },
    {
     "name": "stdout",
     "output_type": "stream",
     "text": [
      "[[None, '7D', 'FC03D', 50.58258690582417], [None, '7D', 'J25D', 64.41043361854152], [None, '7D', 'J26D', 110.5770244293367], [None, '7D', 'J17D', 130.2022961873232]]\n"
     ]
    },
    {
     "name": "stderr",
     "output_type": "stream",
     "text": [
      " 81%|████████  | 252/312 [03:21<00:28,  2.12it/s]"
     ]
    },
    {
     "name": "stdout",
     "output_type": "stream",
     "text": [
      "[[None, '7D', 'J17D', 192.52543354405213], [None, '7D', 'J18D', 264.86515085222936], [None, '7D', 'J10D', 264.9753536090567], [None, '7D', 'J26D', 288.8436062361498]]\n"
     ]
    },
    {
     "name": "stderr",
     "output_type": "stream",
     "text": [
      " 81%|████████  | 253/312 [03:22<00:29,  1.98it/s]"
     ]
    },
    {
     "name": "stdout",
     "output_type": "stream",
     "text": [
      "[[None, '7D', 'FC03D', 183.88673339791242], [None, '7D', 'J17D', 187.56548045281318], [None, '7D', 'J09D', 233.3715811201166], [None, '7D', 'J18D', 246.55834249146565], [None, '7D', 'J10D', 276.4915599093174]]\n"
     ]
    },
    {
     "name": "stderr",
     "output_type": "stream",
     "text": [
      " 81%|████████▏ | 254/312 [03:22<00:28,  2.02it/s]"
     ]
    },
    {
     "name": "stdout",
     "output_type": "stream",
     "text": [
      "[[None, '7D', 'J09D', 13.48954516276695], [None, '7D', 'J10D', 68.11738368353315], [None, '7D', 'J18D', 100.02492176366714], [None, '7D', 'J25D', 131.8773156242098]]\n"
     ]
    },
    {
     "name": "stderr",
     "output_type": "stream",
     "text": [
      " 82%|████████▏ | 255/312 [03:23<00:26,  2.17it/s]"
     ]
    },
    {
     "name": "stdout",
     "output_type": "stream",
     "text": [
      "[[None, '7D', 'J17D', 15.873081891122858], [None, '7D', 'J09D', 83.57801823266962], [None, '7D', 'J26D', 102.42389644924293]]\n"
     ]
    },
    {
     "name": "stderr",
     "output_type": "stream",
     "text": [
      " 82%|████████▏ | 256/312 [03:23<00:28,  1.94it/s]"
     ]
    },
    {
     "name": "stdout",
     "output_type": "stream",
     "text": [
      "[[None, '7D', 'J17D', 48.18146641789962], [None, '7D', 'J09D', 66.55724491026326], [None, '7D', 'J25D', 109.05418126262063], [None, '7D', 'J10D', 117.78556629094439], [None, '7D', 'FC03D', 149.11118012779306]]\n"
     ]
    },
    {
     "name": "stderr",
     "output_type": "stream",
     "text": [
      " 82%|████████▏ | 257/312 [03:25<00:40,  1.35it/s]"
     ]
    },
    {
     "name": "stdout",
     "output_type": "stream",
     "text": [
      "[[None, '7D', 'J17D', 115.38496500845368], [None, '7D', 'J10D', 144.88317322946742], [None, '7D', 'J18D', 176.78113581979915], [None, 'OO', 'HYSB1', 217.27703765102677]]\n"
     ]
    },
    {
     "name": "stderr",
     "output_type": "stream",
     "text": [
      " 83%|████████▎ | 258/312 [03:26<00:42,  1.26it/s]"
     ]
    },
    {
     "name": "stdout",
     "output_type": "stream",
     "text": [
      "[[None, '7D', 'J10D', 136.21178045735192], [None, '7D', 'J18D', 172.52949123161744], [None, 'OO', 'HYSB1', 217.78226684238345], [None, '7D', 'J26D', 227.45179453897893], [None, '7D', 'J25D', 258.7529572515057]]\n"
     ]
    },
    {
     "name": "stderr",
     "output_type": "stream",
     "text": [
      " 83%|████████▎ | 259/312 [03:26<00:35,  1.51it/s]"
     ]
    },
    {
     "name": "stdout",
     "output_type": "stream",
     "text": [
      "[[None, '7D', 'J25D', 13.270044142584132], [None, '7D', 'FC03D', 53.82071007908748], [None, '7D', 'J17D', 61.44357218457231], [None, '7D', 'J26D', 77.48358697474477], [None, '7D', 'J18D', 81.2108303622772]]\n"
     ]
    },
    {
     "name": "stderr",
     "output_type": "stream",
     "text": [
      " 83%|████████▎ | 260/312 [03:26<00:28,  1.80it/s]"
     ]
    },
    {
     "name": "stdout",
     "output_type": "stream",
     "text": [
      "[[None, '7D', 'J10D', 135.26655603996957], [None, '7D', 'J18D', 188.87926264127805], [None, '7D', 'J17D', 224.68855060946836], [None, '7D', 'J26D', 254.01709556435804]]\n"
     ]
    },
    {
     "name": "stderr",
     "output_type": "stream",
     "text": [
      " 84%|████████▎ | 261/312 [03:27<00:24,  2.05it/s]"
     ]
    },
    {
     "name": "stdout",
     "output_type": "stream",
     "text": [
      "[[None, '7D', 'J10D', 123.58680096323637], [None, '7D', 'J18D', 156.78785048080871], [None, '7D', 'J09D', 187.86564278828627], [None, '7D', 'J26D', 211.13607938005006], [None, '7D', 'J25D', 242.9700125578251]]\n"
     ]
    },
    {
     "name": "stderr",
     "output_type": "stream",
     "text": [
      " 84%|████████▍ | 262/312 [03:27<00:20,  2.42it/s]"
     ]
    },
    {
     "name": "stdout",
     "output_type": "stream",
     "text": [
      "[[None, '7D', 'J10D', 118.34640637663946], [None, '7D', 'J18D', 162.45459309506504], [None, '7D', 'J26D', 223.21914192135623], [None, '7D', 'J25D', 248.29745532839365]]\n"
     ]
    },
    {
     "name": "stderr",
     "output_type": "stream",
     "text": [
      " 84%|████████▍ | 263/312 [03:27<00:18,  2.59it/s]"
     ]
    },
    {
     "name": "stdout",
     "output_type": "stream",
     "text": [
      "[[None, '7D', 'J10D', 58.42971092052456], [None, '7D', 'J26D', 111.88121029991137], [None, '7D', 'J17D', 114.15281271068767], [None, '7D', 'J25D', 137.62507524854033]]\n"
     ]
    },
    {
     "name": "stderr",
     "output_type": "stream",
     "text": [
      " 85%|████████▍ | 264/312 [03:27<00:17,  2.76it/s]"
     ]
    },
    {
     "name": "stdout",
     "output_type": "stream",
     "text": [
      "[[None, '7D', 'J17D', 15.864755362664988], [None, '7D', 'J09D', 55.68528618343027], [None, '7D', 'J10D', 82.44094625384095], [None, '7D', 'FC03D', 130.3583637860812]]\n"
     ]
    },
    {
     "name": "stderr",
     "output_type": "stream",
     "text": [
      " 85%|████████▌ | 266/312 [03:29<00:26,  1.75it/s]"
     ]
    },
    {
     "name": "stdout",
     "output_type": "stream",
     "text": [
      "[[None, 'OO', 'HYSB1', 53.30520443463386], [None, '7D', 'J18D', 54.797432157245666], [None, '7D', 'FC03D', 67.68393583809261], [None, '7D', 'J26D', 68.02385615201638], [None, '7D', 'J10D', 109.99907655128672]]\n"
     ]
    },
    {
     "name": "stderr",
     "output_type": "stream",
     "text": [
      " 86%|████████▌ | 267/312 [03:29<00:22,  2.04it/s]"
     ]
    },
    {
     "name": "stdout",
     "output_type": "stream",
     "text": [
      "[[None, '7D', 'J17D', 39.762476613163024], [None, '7D', 'J10D', 114.03754927259092], [None, '7D', 'FC03D', 140.49581757139853], [None, '7D', 'J26D', 154.89770828638996]]\n"
     ]
    },
    {
     "name": "stderr",
     "output_type": "stream",
     "text": [
      " 86%|████████▌ | 268/312 [03:30<00:26,  1.65it/s]"
     ]
    },
    {
     "name": "stdout",
     "output_type": "stream",
     "text": [
      "[[None, '7D', 'J10D', 116.94135978962369], [None, '7D', 'J18D', 164.9388305251959], [None, '7D', 'J09D', 173.1220277511858], [None, 'OO', 'HYSB1', 216.18871290467635], [None, '7D', 'J26D', 227.87660780715214], [None, '7D', 'J25D', 250.27310085659002], [None, '7D', 'FC03D', 274.2280690418571]]\n"
     ]
    },
    {
     "name": "stderr",
     "output_type": "stream",
     "text": [
      " 86%|████████▌ | 269/312 [03:31<00:29,  1.47it/s]"
     ]
    },
    {
     "name": "stdout",
     "output_type": "stream",
     "text": [
      "[[None, '7D', 'J10D', 171.57473744789132], [None, '7D', 'J18D', 190.41655654890772], [None, 'OO', 'HYSB1', 224.3509555530664], [None, '7D', 'J26D', 230.46867311414212]]\n"
     ]
    },
    {
     "name": "stderr",
     "output_type": "stream",
     "text": [
      " 87%|████████▋ | 270/312 [03:31<00:24,  1.74it/s]"
     ]
    },
    {
     "name": "stdout",
     "output_type": "stream",
     "text": [
      "[[None, '7D', 'J25D', 91.06119825559209], [None, '7D', 'J18D', 124.97201411370386], [None, '7D', 'FC03D', 128.86098136589456], [None, '7D', 'J10D', 138.87761060445084], [None, '7D', 'J26D', 154.23320871782332]]\n"
     ]
    },
    {
     "name": "stderr",
     "output_type": "stream",
     "text": [
      " 87%|████████▋ | 272/312 [03:32<00:15,  2.61it/s]"
     ]
    },
    {
     "name": "stdout",
     "output_type": "stream",
     "text": [
      "[[None, '7D', 'J18D', 93.97304700162155], [None, '7D', 'FC03D', 107.09829769777987], [None, '7D', 'J10D', 116.58791770249772], [None, '7D', 'J26D', 124.70777636045825]]\n",
      "[[None, '7D', 'J25D', 53.070969715398085], [None, '7D', 'J09D', 97.88963223027089], [None, '7D', 'J26D', 110.45502451318862]]\n"
     ]
    },
    {
     "name": "stderr",
     "output_type": "stream",
     "text": [
      " 88%|████████▊ | 273/312 [03:32<00:13,  2.96it/s]"
     ]
    },
    {
     "name": "stdout",
     "output_type": "stream",
     "text": [
      "[[None, '7D', 'J26D', 21.065653311701787], [None, '7D', 'J18D', 76.25913719573958], [None, '7D', 'J25D', 89.57663847203122], [None, '7D', 'J10D', 144.29085065579832]]\n"
     ]
    },
    {
     "name": "stderr",
     "output_type": "stream",
     "text": [
      " 88%|████████▊ | 274/312 [03:32<00:14,  2.62it/s]"
     ]
    },
    {
     "name": "stdout",
     "output_type": "stream",
     "text": [
      "[[None, '7D', 'J10D', 171.70569661874603], [None, '7D', 'J18D', 192.62368783513895], [None, '7D', 'J26D', 234.15306175609513], [None, '7D', 'J09D', 238.38044489979023], [None, '7D', 'J17D', 252.6579070765018], [None, '7D', 'J25D', 276.8033394901575], [None, '7D', 'FC03D', 290.23935813392285]]\n"
     ]
    },
    {
     "name": "stderr",
     "output_type": "stream",
     "text": [
      " 88%|████████▊ | 275/312 [03:33<00:13,  2.65it/s]"
     ]
    },
    {
     "name": "stdout",
     "output_type": "stream",
     "text": [
      "[[None, '7D', 'J10D', 142.45674529071957], [None, '7D', 'J18D', 173.19601317343938], [None, '7D', 'J09D', 206.78749888802184], [None, '7D', 'J17D', 227.32465540908456], [None, '7D', 'J25D', 259.1422261229259]]\n",
      "[[None, '7D', 'J18D', 52.85520223847954], [None, '7D', 'J26D', 86.26075952203999], [None, '7D', 'J10D', 95.57470731889732]]\n"
     ]
    },
    {
     "name": "stderr",
     "output_type": "stream",
     "text": [
      " 89%|████████▉ | 277/312 [03:33<00:11,  3.04it/s]"
     ]
    },
    {
     "name": "stdout",
     "output_type": "stream",
     "text": [
      "[[None, '7D', 'J25D', 45.49981584724774], [None, '7D', 'J17D', 61.712216862674495], [None, '7D', 'FC03D', 79.5580287671242], [None, '7D', 'J26D', 114.56932952665747], [None, '7D', 'J09D', 128.77347608632158]]\n"
     ]
    },
    {
     "name": "stderr",
     "output_type": "stream",
     "text": [
      " 89%|████████▉ | 278/312 [03:34<00:11,  2.89it/s]"
     ]
    },
    {
     "name": "stdout",
     "output_type": "stream",
     "text": [
      "[[None, '7D', 'FC03D', 153.04771046734172], [None, '7D', 'J26D', 199.55567305867825], [None, '7D', 'J17D', 257.05102228169966], [None, '7D', 'J18D', 262.92373689481974], [None, '7D', 'J10D', 327.80732546157316]]\n"
     ]
    },
    {
     "name": "stderr",
     "output_type": "stream",
     "text": [
      " 89%|████████▉ | 279/312 [03:34<00:11,  3.00it/s]"
     ]
    },
    {
     "name": "stdout",
     "output_type": "stream",
     "text": [
      "[[None, '7D', 'J17D', 13.365705972981475], [None, '7D', 'J18D', 74.0393761550509], [None, '7D', 'J10D', 100.19089749163773], [None, '7D', 'J26D', 110.67025173905378]]\n"
     ]
    },
    {
     "name": "stderr",
     "output_type": "stream",
     "text": [
      " 90%|████████▉ | 280/312 [03:34<00:11,  2.78it/s]"
     ]
    },
    {
     "name": "stdout",
     "output_type": "stream",
     "text": [
      "[[None, '7D', 'J26D', 287.2469052305183], [None, '7D', 'J10D', 323.96709429097666], [None, '7D', 'J25D', 355.2255674771317], [None, '7D', 'J17D', 372.8402692176466], [None, '7D', 'J09D', 392.5016751693823]]\n"
     ]
    },
    {
     "name": "stderr",
     "output_type": "stream",
     "text": [
      " 90%|█████████ | 281/312 [03:35<00:10,  2.84it/s]"
     ]
    },
    {
     "name": "stdout",
     "output_type": "stream",
     "text": [
      "[[None, '7D', 'J26D', 301.95705478764614], [None, '7D', 'J10D', 310.47243407602764], [None, '7D', 'FC03D', 361.44372527043436], [None, '7D', 'J25D', 365.9201044535085]]\n"
     ]
    },
    {
     "name": "stderr",
     "output_type": "stream",
     "text": [
      " 90%|█████████ | 282/312 [03:35<00:10,  2.97it/s]"
     ]
    },
    {
     "name": "stdout",
     "output_type": "stream",
     "text": [
      "[[None, '7D', 'J09D', 278.01530128963424], [None, '7D', 'J17D', 287.1992091638218], [None, '7D', 'J25D', 323.6557528181584], [None, '7D', 'J26D', 391.5412321372074]]\n"
     ]
    },
    {
     "name": "stderr",
     "output_type": "stream",
     "text": [
      " 91%|█████████ | 283/312 [03:35<00:10,  2.81it/s]"
     ]
    },
    {
     "name": "stdout",
     "output_type": "stream",
     "text": [
      "[[None, '7D', 'J26D', 12.677918565088389], [None, '7D', 'FC03D', 60.87216726166767], [None, '7D', 'J25D', 77.50935070832763], [None, '7D', 'J17D', 130.21232257017377], [None, '7D', 'J09D', 190.29789759141397]]\n"
     ]
    },
    {
     "name": "stderr",
     "output_type": "stream",
     "text": [
      " 91%|█████████ | 284/312 [03:36<00:09,  2.80it/s]"
     ]
    },
    {
     "name": "stdout",
     "output_type": "stream",
     "text": [
      "[[None, '7D', 'J10D', 143.61564746585577], [None, '7D', 'J09D', 164.37672550584776], [None, '7D', 'J18D', 211.33656999283852], [None, '7D', 'J17D', 223.36506450639752], [None, '7D', 'FC03D', 318.7635974693004]]\n"
     ]
    },
    {
     "name": "stderr",
     "output_type": "stream",
     "text": [
      " 92%|█████████▏| 287/312 [03:37<00:08,  3.08it/s]"
     ]
    },
    {
     "name": "stdout",
     "output_type": "stream",
     "text": [
      "[[None, '7D', 'J26D', 42.5785879743299], [None, '7D', 'J18D', 80.5437120133948], [None, '7D', 'FC03D', 102.41069073472455], [None, '7D', 'J10D', 143.78469633737456]]\n"
     ]
    },
    {
     "name": "stderr",
     "output_type": "stream",
     "text": [
      " 93%|█████████▎| 289/312 [03:37<00:07,  3.09it/s]"
     ]
    },
    {
     "name": "stdout",
     "output_type": "stream",
     "text": [
      "[[None, '7D', 'J10D', 183.34911781863022], [None, '7D', 'J18D', 209.6239101636629], [None, '7D', 'J26D', 253.9761858998939], [None, '7D', 'J25D', 294.631173492163], [None, '7D', 'FC03D', 309.3875439360727]]\n"
     ]
    },
    {
     "name": "stderr",
     "output_type": "stream",
     "text": [
      " 93%|█████████▎| 290/312 [03:38<00:11,  1.95it/s]"
     ]
    },
    {
     "name": "stdout",
     "output_type": "stream",
     "text": [
      "[[None, '7D', 'J17D', 13.004273301602561], [None, '7D', 'J10D', 83.63891230613368], [None, 'OO', 'HYSB1', 112.99415233427735], [None, '7D', 'FC03D', 127.50717344783719], [None, '7D', 'J26D', 129.41707692818125]]\n"
     ]
    },
    {
     "name": "stderr",
     "output_type": "stream",
     "text": [
      " 94%|█████████▍| 293/312 [03:41<00:15,  1.24it/s]"
     ]
    },
    {
     "name": "stdout",
     "output_type": "stream",
     "text": [
      "[[None, '7D', 'J10D', 70.73277436334241], [None, '7D', 'J17D', 93.53775429083414], [None, '7D', 'J18D', 123.63818013027813], [None, '7D', 'FC03D', 205.83657025220757]]\n"
     ]
    },
    {
     "name": "stderr",
     "output_type": "stream",
     "text": [
      " 94%|█████████▍| 294/312 [03:42<00:13,  1.36it/s]"
     ]
    },
    {
     "name": "stdout",
     "output_type": "stream",
     "text": [
      "[[None, '7D', 'J17D', 10.145181373593939], [None, '7D', 'J25D', 84.5884299245946], [None, '7D', 'J10D', 84.91653980881368], [None, '7D', 'FC03D', 124.65653502871388], [None, '7D', 'J26D', 127.00619384801665]]\n"
     ]
    },
    {
     "name": "stderr",
     "output_type": "stream",
     "text": [
      " 95%|█████████▍| 295/312 [03:42<00:11,  1.44it/s]"
     ]
    },
    {
     "name": "stdout",
     "output_type": "stream",
     "text": [
      "[[None, '7D', 'FC03D', 113.83738108250091], [None, '7D', 'J26D', 163.4634605716052], [None, '7D', 'J17D', 216.91608778012628], [None, '7D', 'J18D', 223.95542258653927], [None, '7D', 'J10D', 288.04511526753544]]\n"
     ]
    },
    {
     "name": "stderr",
     "output_type": "stream",
     "text": [
      " 95%|█████████▍| 296/312 [03:43<00:10,  1.56it/s]"
     ]
    },
    {
     "name": "stdout",
     "output_type": "stream",
     "text": [
      "[[None, '7D', 'J17D', 11.57448977485119], [None, '7D', 'J10D', 84.26798962373066], [None, '7D', 'FC03D', 126.08178296356404], [None, '7D', 'J26D', 128.20930916789277]]\n"
     ]
    },
    {
     "name": "stderr",
     "output_type": "stream",
     "text": [
      " 96%|█████████▌| 298/312 [03:44<00:07,  1.75it/s]"
     ]
    },
    {
     "name": "stdout",
     "output_type": "stream",
     "text": [
      "[[None, '7D', 'J18D', 55.83150777835845], [None, '7D', 'J10D', 80.92249082481462], [None, '7D', 'J26D', 99.78057469974043], [None, '7D', 'FC03D', 151.53104264505538]]\n"
     ]
    },
    {
     "name": "stderr",
     "output_type": "stream",
     "text": [
      " 96%|█████████▌| 299/312 [03:46<00:13,  1.01s/it]"
     ]
    },
    {
     "name": "stdout",
     "output_type": "stream",
     "text": [
      "[[None, '7D', 'FC03D', 47.306766704149574], [None, '7D', 'J25D', 56.46372961236244], [None, 'OO', 'HYS14', 84.66295629326933], [None, 'OO', 'HYSB1', 106.0903026461954], [None, '7D', 'J17D', 121.34276200731759]]\n"
     ]
    },
    {
     "name": "stderr",
     "output_type": "stream",
     "text": [
      " 96%|█████████▌| 300/312 [03:47<00:14,  1.18s/it]"
     ]
    },
    {
     "name": "stdout",
     "output_type": "stream",
     "text": [
      "[[None, '7D', 'J10D', 94.85655332227076], [None, '7D', 'J18D', 151.72295949361032], [None, '7D', 'J17D', 184.1544738914411], [None, 'OO', 'HYSB1', 207.04979576051005], [None, 'OO', 'HYS14', 222.0405852651498]]\n"
     ]
    },
    {
     "name": "stderr",
     "output_type": "stream",
     "text": [
      " 97%|█████████▋| 302/312 [03:48<00:08,  1.20it/s]"
     ]
    },
    {
     "name": "stdout",
     "output_type": "stream",
     "text": [
      "[[None, '7D', 'J10D', 175.3552595871271], [None, '7D', 'J18D', 198.00309119849825], [None, '7D', 'J26D', 240.42210179910387], [None, '7D', 'J25D', 282.46516642049846], [None, '7D', 'FC03D', 296.3090598869247]]\n"
     ]
    },
    {
     "name": "stderr",
     "output_type": "stream",
     "text": [
      " 97%|█████████▋| 303/312 [03:49<00:06,  1.39it/s]"
     ]
    },
    {
     "name": "stdout",
     "output_type": "stream",
     "text": [
      "[[None, '7D', 'J17D', 31.599675585635957], [None, '7D', 'J18D', 64.96094183621072], [None, '7D', 'J25D', 99.3508811736553], [None, '7D', 'J26D', 128.29429779287923]]\n"
     ]
    },
    {
     "name": "stderr",
     "output_type": "stream",
     "text": [
      " 97%|█████████▋| 304/312 [03:49<00:05,  1.57it/s]"
     ]
    },
    {
     "name": "stdout",
     "output_type": "stream",
     "text": [
      "[[None, '7D', 'J26D', 94.36603428331243], [None, '7D', 'J17D', 128.93160081847873], [None, '7D', 'J18D', 139.65867567459347], [None, '7D', 'J10D', 200.60186149264626]]\n"
     ]
    },
    {
     "name": "stderr",
     "output_type": "stream",
     "text": [
      " 98%|█████████▊| 305/312 [03:50<00:03,  1.81it/s]"
     ]
    },
    {
     "name": "stdout",
     "output_type": "stream",
     "text": [
      "[[None, '7D', 'J25D', 11.920754551136646], [None, '7D', 'FC03D', 50.28182080110552], [None, '7D', 'J26D', 81.26410467332768], [None, '7D', 'J18D', 89.87052013325655], [None, '7D', 'J10D', 142.38011420558738]]\n"
     ]
    },
    {
     "name": "stderr",
     "output_type": "stream",
     "text": [
      " 98%|█████████▊| 306/312 [03:50<00:02,  2.07it/s]"
     ]
    },
    {
     "name": "stdout",
     "output_type": "stream",
     "text": [
      "[[None, '7D', 'J25D', 210.98083258766954], [None, '7D', 'FC03D', 221.62644752976746], [None, '7D', 'J17D', 224.94026721399945], [None, '7D', 'J26D', 277.3715699948101], [None, '7D', 'J10D', 313.2197315665827]]\n"
     ]
    },
    {
     "name": "stderr",
     "output_type": "stream",
     "text": [
      " 99%|█████████▊| 308/312 [03:50<00:01,  2.48it/s]"
     ]
    },
    {
     "name": "stdout",
     "output_type": "stream",
     "text": [
      "[[None, '7D', 'J17D', 218.89798676762325], [None, '7D', 'J10D', 256.8214203696284], [None, '7D', 'J25D', 275.52173370061956], [None, '7D', 'FC03D', 312.94992576002073], [None, '7D', 'J26D', 335.3003880198216]]\n"
     ]
    },
    {
     "name": "stderr",
     "output_type": "stream",
     "text": [
      "100%|█████████▉| 311/312 [03:51<00:00,  3.11it/s]"
     ]
    },
    {
     "name": "stdout",
     "output_type": "stream",
     "text": [
      "[[None, '7D', 'J17D', 31.975555016378216], [None, '7D', 'J10D', 62.17578327618018], [None, '7D', 'J25D', 84.14781784686491], [None, '7D', 'J26D', 107.34138269138468], [None, '7D', 'FC03D', 120.16091589588326]]\n",
      "[[None, '7D', 'J10D', 178.2621234376603], [None, '7D', 'J18D', 197.14612022902816], [None, '7D', 'J26D', 236.54869146389854]]\n"
     ]
    },
    {
     "name": "stderr",
     "output_type": "stream",
     "text": [
      "100%|██████████| 312/312 [03:52<00:00,  1.34it/s]\n"
     ]
    },
    {
     "data": {
      "text/html": [
       "<div>\n",
       "<style scoped>\n",
       "    .dataframe tbody tr th:only-of-type {\n",
       "        vertical-align: middle;\n",
       "    }\n",
       "\n",
       "    .dataframe tbody tr th {\n",
       "        vertical-align: top;\n",
       "    }\n",
       "\n",
       "    .dataframe thead th {\n",
       "        text-align: right;\n",
       "    }\n",
       "</style>\n",
       "<table border=\"1\" class=\"dataframe\">\n",
       "  <thead>\n",
       "    <tr style=\"text-align: right;\">\n",
       "      <th></th>\n",
       "      <th>Unnamed: 0.1</th>\n",
       "      <th>Unnamed: 0</th>\n",
       "      <th>idx</th>\n",
       "      <th>time</th>\n",
       "      <th>x</th>\n",
       "      <th>y</th>\n",
       "      <th>z</th>\n",
       "      <th>picks</th>\n",
       "      <th>latitude</th>\n",
       "      <th>longitude</th>\n",
       "      <th>depth</th>\n",
       "      <th>event_idx</th>\n",
       "      <th>pick_idx</th>\n",
       "      <th>residual</th>\n",
       "      <th>station</th>\n",
       "      <th>phase</th>\n",
       "      <th>time_pick</th>\n",
       "      <th>datetime</th>\n",
       "    </tr>\n",
       "  </thead>\n",
       "  <tbody>\n",
       "    <tr>\n",
       "      <th>54</th>\n",
       "      <td>54</td>\n",
       "      <td>623</td>\n",
       "      <td>173</td>\n",
       "      <td>2012-08-13 05:12:53.305087+00:00</td>\n",
       "      <td>63.033772</td>\n",
       "      <td>-4.536330</td>\n",
       "      <td>12.890625</td>\n",
       "      <td>6</td>\n",
       "      <td>44.456431</td>\n",
       "      <td>-124.708007</td>\n",
       "      <td>12.890625</td>\n",
       "      <td>173</td>\n",
       "      <td>329032</td>\n",
       "      <td>0.137448</td>\n",
       "      <td>J25B</td>\n",
       "      <td>P</td>\n",
       "      <td>1.344835e+09</td>\n",
       "      <td>2012-08-13 05:12:53.305087+00:00</td>\n",
       "    </tr>\n",
       "    <tr>\n",
       "      <th>56</th>\n",
       "      <td>56</td>\n",
       "      <td>635</td>\n",
       "      <td>180</td>\n",
       "      <td>2012-08-17 07:50:47.584494+00:00</td>\n",
       "      <td>63.033772</td>\n",
       "      <td>-13.118742</td>\n",
       "      <td>16.015625</td>\n",
       "      <td>6</td>\n",
       "      <td>44.379203</td>\n",
       "      <td>-124.709049</td>\n",
       "      <td>16.015625</td>\n",
       "      <td>180</td>\n",
       "      <td>131576</td>\n",
       "      <td>1.405033</td>\n",
       "      <td>J25B</td>\n",
       "      <td>P</td>\n",
       "      <td>1.345190e+09</td>\n",
       "      <td>2012-08-17 07:50:47.584494+00:00</td>\n",
       "    </tr>\n",
       "    <tr>\n",
       "      <th>76</th>\n",
       "      <td>76</td>\n",
       "      <td>820</td>\n",
       "      <td>331</td>\n",
       "      <td>2012-12-05 17:22:37.351708+00:00</td>\n",
       "      <td>0.557821</td>\n",
       "      <td>-48.878791</td>\n",
       "      <td>49.609375</td>\n",
       "      <td>6</td>\n",
       "      <td>44.060117</td>\n",
       "      <td>-125.493038</td>\n",
       "      <td>49.609375</td>\n",
       "      <td>331</td>\n",
       "      <td>291359</td>\n",
       "      <td>0.367757</td>\n",
       "      <td>J10B</td>\n",
       "      <td>P</td>\n",
       "      <td>1.354728e+09</td>\n",
       "      <td>2012-12-05 17:22:37.351708+00:00</td>\n",
       "    </tr>\n",
       "    <tr>\n",
       "      <th>87</th>\n",
       "      <td>87</td>\n",
       "      <td>951</td>\n",
       "      <td>399</td>\n",
       "      <td>2014-01-30 01:34:09.590899+00:00</td>\n",
       "      <td>-19.523735</td>\n",
       "      <td>61.262160</td>\n",
       "      <td>16.015625</td>\n",
       "      <td>6</td>\n",
       "      <td>45.051010</td>\n",
       "      <td>-125.747836</td>\n",
       "      <td>16.015625</td>\n",
       "      <td>399</td>\n",
       "      <td>492330</td>\n",
       "      <td>-0.328593</td>\n",
       "      <td>J26C</td>\n",
       "      <td>P</td>\n",
       "      <td>1.391046e+09</td>\n",
       "      <td>2014-01-30 01:34:09.590899+00:00</td>\n",
       "    </tr>\n",
       "    <tr>\n",
       "      <th>103</th>\n",
       "      <td>103</td>\n",
       "      <td>1117</td>\n",
       "      <td>428</td>\n",
       "      <td>2014-03-01 22:36:00.566426+00:00</td>\n",
       "      <td>25.101945</td>\n",
       "      <td>157.099091</td>\n",
       "      <td>19.921875</td>\n",
       "      <td>6</td>\n",
       "      <td>45.913119</td>\n",
       "      <td>-125.176456</td>\n",
       "      <td>19.921875</td>\n",
       "      <td>428</td>\n",
       "      <td>613426</td>\n",
       "      <td>0.689580</td>\n",
       "      <td>J34C</td>\n",
       "      <td>P</td>\n",
       "      <td>1.393713e+09</td>\n",
       "      <td>2014-03-01 22:36:00.566426+00:00</td>\n",
       "    </tr>\n",
       "    <tr>\n",
       "      <th>110</th>\n",
       "      <td>110</td>\n",
       "      <td>1172</td>\n",
       "      <td>439</td>\n",
       "      <td>2014-03-12 00:32:25.317954+00:00</td>\n",
       "      <td>38.489648</td>\n",
       "      <td>129.921454</td>\n",
       "      <td>0.390625</td>\n",
       "      <td>6</td>\n",
       "      <td>45.667991</td>\n",
       "      <td>-125.006070</td>\n",
       "      <td>0.390625</td>\n",
       "      <td>439</td>\n",
       "      <td>1924521</td>\n",
       "      <td>0.666862</td>\n",
       "      <td>J26C</td>\n",
       "      <td>S</td>\n",
       "      <td>1.394584e+09</td>\n",
       "      <td>2014-03-12 00:32:25.317954+00:00</td>\n",
       "    </tr>\n",
       "    <tr>\n",
       "      <th>115</th>\n",
       "      <td>115</td>\n",
       "      <td>1206</td>\n",
       "      <td>451</td>\n",
       "      <td>2014-04-04 01:38:51.067878+00:00</td>\n",
       "      <td>75.305834</td>\n",
       "      <td>-17.409948</td>\n",
       "      <td>5.078125</td>\n",
       "      <td>6</td>\n",
       "      <td>44.339420</td>\n",
       "      <td>-124.555698</td>\n",
       "      <td>5.078125</td>\n",
       "      <td>451</td>\n",
       "      <td>1785154</td>\n",
       "      <td>0.253184</td>\n",
       "      <td>J25C</td>\n",
       "      <td>S</td>\n",
       "      <td>1.396576e+09</td>\n",
       "      <td>2014-04-04 01:38:51.067878+00:00</td>\n",
       "    </tr>\n",
       "    <tr>\n",
       "      <th>180</th>\n",
       "      <td>180</td>\n",
       "      <td>1839</td>\n",
       "      <td>841</td>\n",
       "      <td>2014-12-19 13:02:10.302626+00:00</td>\n",
       "      <td>-3.904747</td>\n",
       "      <td>-20.270752</td>\n",
       "      <td>49.609375</td>\n",
       "      <td>6</td>\n",
       "      <td>44.317568</td>\n",
       "      <td>-125.548946</td>\n",
       "      <td>49.609375</td>\n",
       "      <td>841</td>\n",
       "      <td>710290</td>\n",
       "      <td>-0.184959</td>\n",
       "      <td>J09D</td>\n",
       "      <td>P</td>\n",
       "      <td>1.418994e+09</td>\n",
       "      <td>2014-12-19 13:02:10.302626+00:00</td>\n",
       "    </tr>\n",
       "    <tr>\n",
       "      <th>207</th>\n",
       "      <td>207</td>\n",
       "      <td>2017</td>\n",
       "      <td>1244</td>\n",
       "      <td>2015-01-26 08:50:48.659080+00:00</td>\n",
       "      <td>80.884044</td>\n",
       "      <td>16.919699</td>\n",
       "      <td>1.953125</td>\n",
       "      <td>6</td>\n",
       "      <td>44.647709</td>\n",
       "      <td>-124.480392</td>\n",
       "      <td>1.953125</td>\n",
       "      <td>1244</td>\n",
       "      <td>2429425</td>\n",
       "      <td>-0.068733</td>\n",
       "      <td>FC03D</td>\n",
       "      <td>S</td>\n",
       "      <td>1.422262e+09</td>\n",
       "      <td>2015-01-26 08:50:48.659080+00:00</td>\n",
       "    </tr>\n",
       "    <tr>\n",
       "      <th>216</th>\n",
       "      <td>216</td>\n",
       "      <td>2071</td>\n",
       "      <td>1358</td>\n",
       "      <td>2015-02-01 11:37:01.611512+00:00</td>\n",
       "      <td>-13.945525</td>\n",
       "      <td>-86.069242</td>\n",
       "      <td>1.171875</td>\n",
       "      <td>6</td>\n",
       "      <td>43.725269</td>\n",
       "      <td>-125.673074</td>\n",
       "      <td>1.171875</td>\n",
       "      <td>1358</td>\n",
       "      <td>2216586</td>\n",
       "      <td>1.020591</td>\n",
       "      <td>FC03D</td>\n",
       "      <td>S</td>\n",
       "      <td>1.422791e+09</td>\n",
       "      <td>2015-02-01 11:37:01.611512+00:00</td>\n",
       "    </tr>\n",
       "    <tr>\n",
       "      <th>229</th>\n",
       "      <td>229</td>\n",
       "      <td>2159</td>\n",
       "      <td>1586</td>\n",
       "      <td>2015-02-24 05:47:42.548214+00:00</td>\n",
       "      <td>63.033772</td>\n",
       "      <td>-104.664467</td>\n",
       "      <td>6.640625</td>\n",
       "      <td>6</td>\n",
       "      <td>43.555373</td>\n",
       "      <td>-124.719907</td>\n",
       "      <td>6.640625</td>\n",
       "      <td>1586</td>\n",
       "      <td>932932</td>\n",
       "      <td>1.228262</td>\n",
       "      <td>J09D</td>\n",
       "      <td>P</td>\n",
       "      <td>1.424757e+09</td>\n",
       "      <td>2015-02-24 05:47:42.548214+00:00</td>\n",
       "    </tr>\n",
       "    <tr>\n",
       "      <th>231</th>\n",
       "      <td>231</td>\n",
       "      <td>2171</td>\n",
       "      <td>1632</td>\n",
       "      <td>2015-02-27 06:18:22.370085+00:00</td>\n",
       "      <td>77.537118</td>\n",
       "      <td>-40.296379</td>\n",
       "      <td>16.015625</td>\n",
       "      <td>6</td>\n",
       "      <td>44.133248</td>\n",
       "      <td>-124.531108</td>\n",
       "      <td>16.015625</td>\n",
       "      <td>1632</td>\n",
       "      <td>2497457</td>\n",
       "      <td>0.231040</td>\n",
       "      <td>J09D</td>\n",
       "      <td>S</td>\n",
       "      <td>1.425018e+09</td>\n",
       "      <td>2015-02-27 06:18:22.370085+00:00</td>\n",
       "    </tr>\n",
       "    <tr>\n",
       "      <th>233</th>\n",
       "      <td>233</td>\n",
       "      <td>2183</td>\n",
       "      <td>1647</td>\n",
       "      <td>2015-02-28 05:15:16.790635+00:00</td>\n",
       "      <td>46.299142</td>\n",
       "      <td>-114.677281</td>\n",
       "      <td>16.015625</td>\n",
       "      <td>6</td>\n",
       "      <td>43.466481</td>\n",
       "      <td>-124.927851</td>\n",
       "      <td>16.015625</td>\n",
       "      <td>1647</td>\n",
       "      <td>1251780</td>\n",
       "      <td>1.180710</td>\n",
       "      <td>J09D</td>\n",
       "      <td>P</td>\n",
       "      <td>1.425101e+09</td>\n",
       "      <td>2015-02-28 05:15:16.790635+00:00</td>\n",
       "    </tr>\n",
       "    <tr>\n",
       "      <th>244</th>\n",
       "      <td>244</td>\n",
       "      <td>2258</td>\n",
       "      <td>1796</td>\n",
       "      <td>2015-03-12 18:15:52.025028+00:00</td>\n",
       "      <td>46.299142</td>\n",
       "      <td>29.793317</td>\n",
       "      <td>27.734375</td>\n",
       "      <td>6</td>\n",
       "      <td>44.766610</td>\n",
       "      <td>-124.915166</td>\n",
       "      <td>27.734375</td>\n",
       "      <td>1796</td>\n",
       "      <td>2467164</td>\n",
       "      <td>-0.151366</td>\n",
       "      <td>FC03D</td>\n",
       "      <td>S</td>\n",
       "      <td>1.426184e+09</td>\n",
       "      <td>2015-03-12 18:15:52.025028+00:00</td>\n",
       "    </tr>\n",
       "    <tr>\n",
       "      <th>249</th>\n",
       "      <td>249</td>\n",
       "      <td>2297</td>\n",
       "      <td>1869</td>\n",
       "      <td>2015-03-21 23:23:55.749509+00:00</td>\n",
       "      <td>7.251673</td>\n",
       "      <td>-21.701154</td>\n",
       "      <td>1.171875</td>\n",
       "      <td>6</td>\n",
       "      <td>44.304669</td>\n",
       "      <td>-125.409121</td>\n",
       "      <td>1.171875</td>\n",
       "      <td>1869</td>\n",
       "      <td>1217191</td>\n",
       "      <td>0.689225</td>\n",
       "      <td>FC03D</td>\n",
       "      <td>P</td>\n",
       "      <td>1.426980e+09</td>\n",
       "      <td>2015-03-21 23:23:55.749509+00:00</td>\n",
       "    </tr>\n",
       "    <tr>\n",
       "      <th>264</th>\n",
       "      <td>264</td>\n",
       "      <td>2392</td>\n",
       "      <td>1945</td>\n",
       "      <td>2015-04-01 02:12:29.555806+00:00</td>\n",
       "      <td>51.877352</td>\n",
       "      <td>-121.829291</td>\n",
       "      <td>19.140625</td>\n",
       "      <td>6</td>\n",
       "      <td>43.401745</td>\n",
       "      <td>-124.859601</td>\n",
       "      <td>19.140625</td>\n",
       "      <td>1945</td>\n",
       "      <td>1275970</td>\n",
       "      <td>1.126652</td>\n",
       "      <td>J09D</td>\n",
       "      <td>P</td>\n",
       "      <td>1.427854e+09</td>\n",
       "      <td>2015-04-01 02:12:29.555806+00:00</td>\n",
       "    </tr>\n",
       "    <tr>\n",
       "      <th>284</th>\n",
       "      <td>284</td>\n",
       "      <td>2543</td>\n",
       "      <td>2196</td>\n",
       "      <td>2015-04-25 15:20:00.254970+00:00</td>\n",
       "      <td>59.686846</td>\n",
       "      <td>-38.865977</td>\n",
       "      <td>16.015625</td>\n",
       "      <td>6</td>\n",
       "      <td>44.147794</td>\n",
       "      <td>-124.753979</td>\n",
       "      <td>16.015625</td>\n",
       "      <td>2196</td>\n",
       "      <td>1206059</td>\n",
       "      <td>1.396813</td>\n",
       "      <td>J17D</td>\n",
       "      <td>P</td>\n",
       "      <td>1.429975e+09</td>\n",
       "      <td>2015-04-25 15:20:00.254970+00:00</td>\n",
       "    </tr>\n",
       "    <tr>\n",
       "      <th>285</th>\n",
       "      <td>285</td>\n",
       "      <td>2549</td>\n",
       "      <td>2220</td>\n",
       "      <td>2015-04-30 02:16:37.784104+00:00</td>\n",
       "      <td>83.115328</td>\n",
       "      <td>-107.525271</td>\n",
       "      <td>24.609375</td>\n",
       "      <td>6</td>\n",
       "      <td>43.527662</td>\n",
       "      <td>-124.471854</td>\n",
       "      <td>24.609375</td>\n",
       "      <td>2220</td>\n",
       "      <td>1266446</td>\n",
       "      <td>0.635251</td>\n",
       "      <td>FC03D</td>\n",
       "      <td>P</td>\n",
       "      <td>1.430360e+09</td>\n",
       "      <td>2015-04-30 02:16:37.784104+00:00</td>\n",
       "    </tr>\n",
       "    <tr>\n",
       "      <th>287</th>\n",
       "      <td>287</td>\n",
       "      <td>2561</td>\n",
       "      <td>2253</td>\n",
       "      <td>2015-05-05 00:39:55.115199+00:00</td>\n",
       "      <td>55.224278</td>\n",
       "      <td>-123.259693</td>\n",
       "      <td>14.453125</td>\n",
       "      <td>6</td>\n",
       "      <td>43.388632</td>\n",
       "      <td>-124.818432</td>\n",
       "      <td>14.453125</td>\n",
       "      <td>2253</td>\n",
       "      <td>1125276</td>\n",
       "      <td>-1.334238</td>\n",
       "      <td>J09D</td>\n",
       "      <td>P</td>\n",
       "      <td>1.430786e+09</td>\n",
       "      <td>2015-05-05 00:39:55.115199+00:00</td>\n",
       "    </tr>\n",
       "    <tr>\n",
       "      <th>290</th>\n",
       "      <td>290</td>\n",
       "      <td>2594</td>\n",
       "      <td>2366</td>\n",
       "      <td>2015-05-24 12:43:14.766814+00:00</td>\n",
       "      <td>19.523735</td>\n",
       "      <td>49.818944</td>\n",
       "      <td>49.609375</td>\n",
       "      <td>6</td>\n",
       "      <td>44.948041</td>\n",
       "      <td>-125.252608</td>\n",
       "      <td>49.609375</td>\n",
       "      <td>2366</td>\n",
       "      <td>2600192</td>\n",
       "      <td>0.063975</td>\n",
       "      <td>FC03D</td>\n",
       "      <td>S</td>\n",
       "      <td>1.432471e+09</td>\n",
       "      <td>2015-05-24 12:43:14.766814+00:00</td>\n",
       "    </tr>\n",
       "    <tr>\n",
       "      <th>291</th>\n",
       "      <td>291</td>\n",
       "      <td>2600</td>\n",
       "      <td>2369</td>\n",
       "      <td>2015-05-25 00:01:11.955713+00:00</td>\n",
       "      <td>46.299142</td>\n",
       "      <td>14.058895</td>\n",
       "      <td>1.171875</td>\n",
       "      <td>6</td>\n",
       "      <td>44.625026</td>\n",
       "      <td>-124.916589</td>\n",
       "      <td>1.171875</td>\n",
       "      <td>2369</td>\n",
       "      <td>2288142</td>\n",
       "      <td>0.038003</td>\n",
       "      <td>FC03D</td>\n",
       "      <td>S</td>\n",
       "      <td>1.432512e+09</td>\n",
       "      <td>2015-05-25 00:01:11.955713+00:00</td>\n",
       "    </tr>\n",
       "    <tr>\n",
       "      <th>296</th>\n",
       "      <td>296</td>\n",
       "      <td>2639</td>\n",
       "      <td>2503</td>\n",
       "      <td>2015-06-25 00:54:58.370872+00:00</td>\n",
       "      <td>21.755019</td>\n",
       "      <td>51.249346</td>\n",
       "      <td>9.765625</td>\n",
       "      <td>6</td>\n",
       "      <td>44.960847</td>\n",
       "      <td>-125.224273</td>\n",
       "      <td>9.765625</td>\n",
       "      <td>2503</td>\n",
       "      <td>804114</td>\n",
       "      <td>-0.422851</td>\n",
       "      <td>FC03D</td>\n",
       "      <td>P</td>\n",
       "      <td>1.435194e+09</td>\n",
       "      <td>2015-06-25 00:54:58.370872+00:00</td>\n",
       "    </tr>\n",
       "    <tr>\n",
       "      <th>300</th>\n",
       "      <td>300</td>\n",
       "      <td>2684</td>\n",
       "      <td>2552</td>\n",
       "      <td>2015-07-06 23:41:29.178963+00:00</td>\n",
       "      <td>47.414784</td>\n",
       "      <td>-48.878791</td>\n",
       "      <td>16.015625</td>\n",
       "      <td>6</td>\n",
       "      <td>44.058585</td>\n",
       "      <td>-124.908257</td>\n",
       "      <td>16.015625</td>\n",
       "      <td>2552</td>\n",
       "      <td>2127036</td>\n",
       "      <td>-0.077768</td>\n",
       "      <td>J10D</td>\n",
       "      <td>S</td>\n",
       "      <td>1.436226e+09</td>\n",
       "      <td>2015-07-06 23:41:29.178963+00:00</td>\n",
       "    </tr>\n",
       "    <tr>\n",
       "      <th>306</th>\n",
       "      <td>306</td>\n",
       "      <td>2731</td>\n",
       "      <td>2669</td>\n",
       "      <td>2015-08-01 15:10:39.680399+00:00</td>\n",
       "      <td>60.802488</td>\n",
       "      <td>26.932513</td>\n",
       "      <td>12.109375</td>\n",
       "      <td>6</td>\n",
       "      <td>44.739784</td>\n",
       "      <td>-124.732320</td>\n",
       "      <td>12.109375</td>\n",
       "      <td>2669</td>\n",
       "      <td>1190693</td>\n",
       "      <td>1.133413</td>\n",
       "      <td>FC03D</td>\n",
       "      <td>P</td>\n",
       "      <td>1.438442e+09</td>\n",
       "      <td>2015-08-01 15:10:39.680399+00:00</td>\n",
       "    </tr>\n",
       "    <tr>\n",
       "      <th>308</th>\n",
       "      <td>308</td>\n",
       "      <td>2743</td>\n",
       "      <td>2689</td>\n",
       "      <td>2015-08-04 14:27:43.776389+00:00</td>\n",
       "      <td>71.958908</td>\n",
       "      <td>-44.587585</td>\n",
       "      <td>19.921875</td>\n",
       "      <td>6</td>\n",
       "      <td>44.095203</td>\n",
       "      <td>-124.601389</td>\n",
       "      <td>19.921875</td>\n",
       "      <td>2689</td>\n",
       "      <td>2516080</td>\n",
       "      <td>-0.530597</td>\n",
       "      <td>J10D</td>\n",
       "      <td>S</td>\n",
       "      <td>1.438698e+09</td>\n",
       "      <td>2015-08-04 14:27:43.776389+00:00</td>\n",
       "    </tr>\n",
       "    <tr>\n",
       "      <th>311</th>\n",
       "      <td>311</td>\n",
       "      <td>2768</td>\n",
       "      <td>2737</td>\n",
       "      <td>2015-08-22 13:16:53.628155+00:00</td>\n",
       "      <td>67.496340</td>\n",
       "      <td>24.071709</td>\n",
       "      <td>49.609375</td>\n",
       "      <td>6</td>\n",
       "      <td>44.713443</td>\n",
       "      <td>-124.648192</td>\n",
       "      <td>49.609375</td>\n",
       "      <td>2737</td>\n",
       "      <td>1040980</td>\n",
       "      <td>-0.159884</td>\n",
       "      <td>FC03D</td>\n",
       "      <td>P</td>\n",
       "      <td>1.440249e+09</td>\n",
       "      <td>2015-08-22 13:16:53.628155+00:00</td>\n",
       "    </tr>\n",
       "  </tbody>\n",
       "</table>\n",
       "</div>"
      ],
      "text/plain": [
       "     Unnamed: 0.1  Unnamed: 0   idx                              time  \\\n",
       "54             54         623   173  2012-08-13 05:12:53.305087+00:00   \n",
       "56             56         635   180  2012-08-17 07:50:47.584494+00:00   \n",
       "76             76         820   331  2012-12-05 17:22:37.351708+00:00   \n",
       "87             87         951   399  2014-01-30 01:34:09.590899+00:00   \n",
       "103           103        1117   428  2014-03-01 22:36:00.566426+00:00   \n",
       "110           110        1172   439  2014-03-12 00:32:25.317954+00:00   \n",
       "115           115        1206   451  2014-04-04 01:38:51.067878+00:00   \n",
       "180           180        1839   841  2014-12-19 13:02:10.302626+00:00   \n",
       "207           207        2017  1244  2015-01-26 08:50:48.659080+00:00   \n",
       "216           216        2071  1358  2015-02-01 11:37:01.611512+00:00   \n",
       "229           229        2159  1586  2015-02-24 05:47:42.548214+00:00   \n",
       "231           231        2171  1632  2015-02-27 06:18:22.370085+00:00   \n",
       "233           233        2183  1647  2015-02-28 05:15:16.790635+00:00   \n",
       "244           244        2258  1796  2015-03-12 18:15:52.025028+00:00   \n",
       "249           249        2297  1869  2015-03-21 23:23:55.749509+00:00   \n",
       "264           264        2392  1945  2015-04-01 02:12:29.555806+00:00   \n",
       "284           284        2543  2196  2015-04-25 15:20:00.254970+00:00   \n",
       "285           285        2549  2220  2015-04-30 02:16:37.784104+00:00   \n",
       "287           287        2561  2253  2015-05-05 00:39:55.115199+00:00   \n",
       "290           290        2594  2366  2015-05-24 12:43:14.766814+00:00   \n",
       "291           291        2600  2369  2015-05-25 00:01:11.955713+00:00   \n",
       "296           296        2639  2503  2015-06-25 00:54:58.370872+00:00   \n",
       "300           300        2684  2552  2015-07-06 23:41:29.178963+00:00   \n",
       "306           306        2731  2669  2015-08-01 15:10:39.680399+00:00   \n",
       "308           308        2743  2689  2015-08-04 14:27:43.776389+00:00   \n",
       "311           311        2768  2737  2015-08-22 13:16:53.628155+00:00   \n",
       "\n",
       "             x           y          z  picks   latitude   longitude  \\\n",
       "54   63.033772   -4.536330  12.890625      6  44.456431 -124.708007   \n",
       "56   63.033772  -13.118742  16.015625      6  44.379203 -124.709049   \n",
       "76    0.557821  -48.878791  49.609375      6  44.060117 -125.493038   \n",
       "87  -19.523735   61.262160  16.015625      6  45.051010 -125.747836   \n",
       "103  25.101945  157.099091  19.921875      6  45.913119 -125.176456   \n",
       "110  38.489648  129.921454   0.390625      6  45.667991 -125.006070   \n",
       "115  75.305834  -17.409948   5.078125      6  44.339420 -124.555698   \n",
       "180  -3.904747  -20.270752  49.609375      6  44.317568 -125.548946   \n",
       "207  80.884044   16.919699   1.953125      6  44.647709 -124.480392   \n",
       "216 -13.945525  -86.069242   1.171875      6  43.725269 -125.673074   \n",
       "229  63.033772 -104.664467   6.640625      6  43.555373 -124.719907   \n",
       "231  77.537118  -40.296379  16.015625      6  44.133248 -124.531108   \n",
       "233  46.299142 -114.677281  16.015625      6  43.466481 -124.927851   \n",
       "244  46.299142   29.793317  27.734375      6  44.766610 -124.915166   \n",
       "249   7.251673  -21.701154   1.171875      6  44.304669 -125.409121   \n",
       "264  51.877352 -121.829291  19.140625      6  43.401745 -124.859601   \n",
       "284  59.686846  -38.865977  16.015625      6  44.147794 -124.753979   \n",
       "285  83.115328 -107.525271  24.609375      6  43.527662 -124.471854   \n",
       "287  55.224278 -123.259693  14.453125      6  43.388632 -124.818432   \n",
       "290  19.523735   49.818944  49.609375      6  44.948041 -125.252608   \n",
       "291  46.299142   14.058895   1.171875      6  44.625026 -124.916589   \n",
       "296  21.755019   51.249346   9.765625      6  44.960847 -125.224273   \n",
       "300  47.414784  -48.878791  16.015625      6  44.058585 -124.908257   \n",
       "306  60.802488   26.932513  12.109375      6  44.739784 -124.732320   \n",
       "308  71.958908  -44.587585  19.921875      6  44.095203 -124.601389   \n",
       "311  67.496340   24.071709  49.609375      6  44.713443 -124.648192   \n",
       "\n",
       "         depth  event_idx  pick_idx  residual station phase     time_pick  \\\n",
       "54   12.890625        173    329032  0.137448    J25B     P  1.344835e+09   \n",
       "56   16.015625        180    131576  1.405033    J25B     P  1.345190e+09   \n",
       "76   49.609375        331    291359  0.367757    J10B     P  1.354728e+09   \n",
       "87   16.015625        399    492330 -0.328593    J26C     P  1.391046e+09   \n",
       "103  19.921875        428    613426  0.689580    J34C     P  1.393713e+09   \n",
       "110   0.390625        439   1924521  0.666862    J26C     S  1.394584e+09   \n",
       "115   5.078125        451   1785154  0.253184    J25C     S  1.396576e+09   \n",
       "180  49.609375        841    710290 -0.184959    J09D     P  1.418994e+09   \n",
       "207   1.953125       1244   2429425 -0.068733   FC03D     S  1.422262e+09   \n",
       "216   1.171875       1358   2216586  1.020591   FC03D     S  1.422791e+09   \n",
       "229   6.640625       1586    932932  1.228262    J09D     P  1.424757e+09   \n",
       "231  16.015625       1632   2497457  0.231040    J09D     S  1.425018e+09   \n",
       "233  16.015625       1647   1251780  1.180710    J09D     P  1.425101e+09   \n",
       "244  27.734375       1796   2467164 -0.151366   FC03D     S  1.426184e+09   \n",
       "249   1.171875       1869   1217191  0.689225   FC03D     P  1.426980e+09   \n",
       "264  19.140625       1945   1275970  1.126652    J09D     P  1.427854e+09   \n",
       "284  16.015625       2196   1206059  1.396813    J17D     P  1.429975e+09   \n",
       "285  24.609375       2220   1266446  0.635251   FC03D     P  1.430360e+09   \n",
       "287  14.453125       2253   1125276 -1.334238    J09D     P  1.430786e+09   \n",
       "290  49.609375       2366   2600192  0.063975   FC03D     S  1.432471e+09   \n",
       "291   1.171875       2369   2288142  0.038003   FC03D     S  1.432512e+09   \n",
       "296   9.765625       2503    804114 -0.422851   FC03D     P  1.435194e+09   \n",
       "300  16.015625       2552   2127036 -0.077768    J10D     S  1.436226e+09   \n",
       "306  12.109375       2669   1190693  1.133413   FC03D     P  1.438442e+09   \n",
       "308  19.921875       2689   2516080 -0.530597    J10D     S  1.438698e+09   \n",
       "311  49.609375       2737   1040980 -0.159884   FC03D     P  1.440249e+09   \n",
       "\n",
       "                             datetime  \n",
       "54   2012-08-13 05:12:53.305087+00:00  \n",
       "56   2012-08-17 07:50:47.584494+00:00  \n",
       "76   2012-12-05 17:22:37.351708+00:00  \n",
       "87   2014-01-30 01:34:09.590899+00:00  \n",
       "103  2014-03-01 22:36:00.566426+00:00  \n",
       "110  2014-03-12 00:32:25.317954+00:00  \n",
       "115  2014-04-04 01:38:51.067878+00:00  \n",
       "180  2014-12-19 13:02:10.302626+00:00  \n",
       "207  2015-01-26 08:50:48.659080+00:00  \n",
       "216  2015-02-01 11:37:01.611512+00:00  \n",
       "229  2015-02-24 05:47:42.548214+00:00  \n",
       "231  2015-02-27 06:18:22.370085+00:00  \n",
       "233  2015-02-28 05:15:16.790635+00:00  \n",
       "244  2015-03-12 18:15:52.025028+00:00  \n",
       "249  2015-03-21 23:23:55.749509+00:00  \n",
       "264  2015-04-01 02:12:29.555806+00:00  \n",
       "284  2015-04-25 15:20:00.254970+00:00  \n",
       "285  2015-04-30 02:16:37.784104+00:00  \n",
       "287  2015-05-05 00:39:55.115199+00:00  \n",
       "290  2015-05-24 12:43:14.766814+00:00  \n",
       "291  2015-05-25 00:01:11.955713+00:00  \n",
       "296  2015-06-25 00:54:58.370872+00:00  \n",
       "300  2015-07-06 23:41:29.178963+00:00  \n",
       "306  2015-08-01 15:10:39.680399+00:00  \n",
       "308  2015-08-04 14:27:43.776389+00:00  \n",
       "311  2015-08-22 13:16:53.628155+00:00  "
      ]
     },
     "execution_count": 13,
     "metadata": {},
     "output_type": "execute_result"
    }
   ],
   "source": [
    "\"\"\"\n",
    "Inputs:\n",
    "1. Either of the following files can be the input:\n",
    "    1. matched_events_with_morton_mycatalog.csv from the 4_quality_control file\n",
    "    2. matched_events_with_anss_mycatalog.csv from the 4_quality_control file\n",
    "    3. new_events.csv from the 4_quality_control file\n",
    "2. The all_pick_assignments CSV file from the 3_associate file: e.g., all_pick_assignments = pd.read_csv('../data/datasets_2012/all_pick_assignments_2012.csv')\n",
    "\n",
    "\n",
    "Outputs:\n",
    "1. A new dataframe that only has events that fall into the following categories:\n",
    "    1. For an event, at least two stations have to be less than 50 km from the event and no station can be 100 km apart from each other.\n",
    "2. An event has to have more than or equal to 6 picks\n",
    "\"\"\"\n",
    "\n",
    "# Parameters\n",
    "client2 = Client(\"IRIS\")\n",
    "\n",
    "mycatalog = all_pick_assignments.drop_duplicates(subset=['idx'])\n",
    "mycatalog['datetime'] = pd.to_datetime(mycatalog['time'], utc = True)\n",
    "\n",
    "for i, idx in tqdm(enumerate(events['idx']),total=len(events['idx'])):\n",
    "    event = mycatalog\n",
    "    picks = all_pick_assignments\n",
    "    picks_idx = picks.loc[picks['idx']==idx]\n",
    "    pick_sta = np.unique(picks_idx['station'])\n",
    "    otime = UTCDateTime(str(event[event['idx'] == idx][\"datetime\"].values[0]))\n",
    "    distances = []\n",
    "    max_dist = 10\n",
    "    min_dist = 0\n",
    "    for station in pick_sta:\n",
    "\n",
    "\n",
    "        sta_inv = client2.get_stations(network='*',\n",
    "                                       station=station, channel=\"?H?\", \n",
    "                                       starttime=otime - 1e8, endtime=otime + 1e8,level=\"response\")\n",
    "        if len(sta_inv) == 0:\n",
    "            print(f\"Failed to fetch for {networks} {station} {otime}\")\n",
    "            continue\n",
    "\n",
    "        _network = sta_inv[0].code\n",
    "        slat = sta_inv[0][0].latitude\n",
    "        slon = sta_inv[0][0].longitude\n",
    "        olat = event.loc[event['idx']==idx, 'latitude'].values[0]\n",
    "        olon = event.loc[event['idx']==idx, 'longitude'].values[0]\n",
    "\n",
    "        dis1 = locations2degrees(olat, olon, slat, slon)\n",
    "        dist = degrees2kilometers(dis1)\n",
    "\n",
    "        distances.append([None, _network, station, dist])\n",
    "\n",
    "    # Sort distances\n",
    "    distances = sorted(distances, key=lambda item: item[-1])\n",
    "\n",
    "    # This is for the first criterion in the markdown above\n",
    "    # Determine if any two of the numbers in the distances list are less than or equal to 50\n",
    "    found = False\n",
    "    for i in range(len(distances)):\n",
    "        for j in range(i + 1, len(distances)):\n",
    "            if distances[i][3] <= 50 and distances[j][3] <= 50:\n",
    "                found = True\n",
    "                break\n",
    "        if found:\n",
    "            break\n",
    "\n",
    "    # Make a list that includes the differences between the consecutive numbers in the distances list.\n",
    "    differences = [distances[i+1][3] - distances[i][3] for i in range(len(distances) - 1)]\n",
    "\n",
    "    if found == False: # If there were not at least two distances between the station and the event less than or equal to 50 km\n",
    "        print(distances)\n",
    "        index = events[events['idx'] == idx].index\n",
    "        events = events.drop(index=index)\n",
    "\n",
    "    elif any(differences > 100 for differences in differences): # If any of the distances between two stations were greater than 100 km\n",
    "        print(distances)\n",
    "        index = events[events['idx'] == idx].index\n",
    "        events = events.drop(index=index)\n",
    "\n",
    "    else: \n",
    "        continue\n",
    "\n",
    "\n",
    "events "
   ]
  },
  {
   "cell_type": "code",
   "execution_count": null,
   "id": "c3444633",
   "metadata": {
    "scrolled": true
   },
   "outputs": [],
   "source": [
    "new_events_filtered = filter_sta(new_events, mycatalog_picks)"
   ]
  },
  {
   "cell_type": "code",
   "execution_count": 14,
   "id": "1f4637d1",
   "metadata": {},
   "outputs": [],
   "source": [
    "events.to_csv(f'../data/datasets_{year}/new_events_filtered_{year}.csv')"
   ]
  },
  {
   "cell_type": "code",
   "execution_count": 15,
   "id": "575d60f4",
   "metadata": {},
   "outputs": [
    {
     "data": {
      "text/html": [
       "<div>\n",
       "<style scoped>\n",
       "    .dataframe tbody tr th:only-of-type {\n",
       "        vertical-align: middle;\n",
       "    }\n",
       "\n",
       "    .dataframe tbody tr th {\n",
       "        vertical-align: top;\n",
       "    }\n",
       "\n",
       "    .dataframe thead th {\n",
       "        text-align: right;\n",
       "    }\n",
       "</style>\n",
       "<table border=\"1\" class=\"dataframe\">\n",
       "  <thead>\n",
       "    <tr style=\"text-align: right;\">\n",
       "      <th></th>\n",
       "      <th>Unnamed: 0.1</th>\n",
       "      <th>Unnamed: 0</th>\n",
       "      <th>idx</th>\n",
       "      <th>time</th>\n",
       "      <th>x</th>\n",
       "      <th>y</th>\n",
       "      <th>z</th>\n",
       "      <th>picks</th>\n",
       "      <th>latitude</th>\n",
       "      <th>longitude</th>\n",
       "      <th>depth</th>\n",
       "      <th>event_idx</th>\n",
       "      <th>pick_idx</th>\n",
       "      <th>residual</th>\n",
       "      <th>station</th>\n",
       "      <th>phase</th>\n",
       "      <th>time_pick</th>\n",
       "      <th>datetime</th>\n",
       "    </tr>\n",
       "  </thead>\n",
       "  <tbody>\n",
       "    <tr>\n",
       "      <th>54</th>\n",
       "      <td>54</td>\n",
       "      <td>623</td>\n",
       "      <td>173</td>\n",
       "      <td>2012-08-13 05:12:53.305087+00:00</td>\n",
       "      <td>63.033772</td>\n",
       "      <td>-4.536330</td>\n",
       "      <td>12.890625</td>\n",
       "      <td>6</td>\n",
       "      <td>44.456431</td>\n",
       "      <td>-124.708007</td>\n",
       "      <td>12.890625</td>\n",
       "      <td>173</td>\n",
       "      <td>329032</td>\n",
       "      <td>0.137448</td>\n",
       "      <td>J25B</td>\n",
       "      <td>P</td>\n",
       "      <td>1.344835e+09</td>\n",
       "      <td>2012-08-13 05:12:53.305087+00:00</td>\n",
       "    </tr>\n",
       "    <tr>\n",
       "      <th>56</th>\n",
       "      <td>56</td>\n",
       "      <td>635</td>\n",
       "      <td>180</td>\n",
       "      <td>2012-08-17 07:50:47.584494+00:00</td>\n",
       "      <td>63.033772</td>\n",
       "      <td>-13.118742</td>\n",
       "      <td>16.015625</td>\n",
       "      <td>6</td>\n",
       "      <td>44.379203</td>\n",
       "      <td>-124.709049</td>\n",
       "      <td>16.015625</td>\n",
       "      <td>180</td>\n",
       "      <td>131576</td>\n",
       "      <td>1.405033</td>\n",
       "      <td>J25B</td>\n",
       "      <td>P</td>\n",
       "      <td>1.345190e+09</td>\n",
       "      <td>2012-08-17 07:50:47.584494+00:00</td>\n",
       "    </tr>\n",
       "    <tr>\n",
       "      <th>76</th>\n",
       "      <td>76</td>\n",
       "      <td>820</td>\n",
       "      <td>331</td>\n",
       "      <td>2012-12-05 17:22:37.351708+00:00</td>\n",
       "      <td>0.557821</td>\n",
       "      <td>-48.878791</td>\n",
       "      <td>49.609375</td>\n",
       "      <td>6</td>\n",
       "      <td>44.060117</td>\n",
       "      <td>-125.493038</td>\n",
       "      <td>49.609375</td>\n",
       "      <td>331</td>\n",
       "      <td>291359</td>\n",
       "      <td>0.367757</td>\n",
       "      <td>J10B</td>\n",
       "      <td>P</td>\n",
       "      <td>1.354728e+09</td>\n",
       "      <td>2012-12-05 17:22:37.351708+00:00</td>\n",
       "    </tr>\n",
       "    <tr>\n",
       "      <th>87</th>\n",
       "      <td>87</td>\n",
       "      <td>951</td>\n",
       "      <td>399</td>\n",
       "      <td>2014-01-30 01:34:09.590899+00:00</td>\n",
       "      <td>-19.523735</td>\n",
       "      <td>61.262160</td>\n",
       "      <td>16.015625</td>\n",
       "      <td>6</td>\n",
       "      <td>45.051010</td>\n",
       "      <td>-125.747836</td>\n",
       "      <td>16.015625</td>\n",
       "      <td>399</td>\n",
       "      <td>492330</td>\n",
       "      <td>-0.328593</td>\n",
       "      <td>J26C</td>\n",
       "      <td>P</td>\n",
       "      <td>1.391046e+09</td>\n",
       "      <td>2014-01-30 01:34:09.590899+00:00</td>\n",
       "    </tr>\n",
       "    <tr>\n",
       "      <th>103</th>\n",
       "      <td>103</td>\n",
       "      <td>1117</td>\n",
       "      <td>428</td>\n",
       "      <td>2014-03-01 22:36:00.566426+00:00</td>\n",
       "      <td>25.101945</td>\n",
       "      <td>157.099091</td>\n",
       "      <td>19.921875</td>\n",
       "      <td>6</td>\n",
       "      <td>45.913119</td>\n",
       "      <td>-125.176456</td>\n",
       "      <td>19.921875</td>\n",
       "      <td>428</td>\n",
       "      <td>613426</td>\n",
       "      <td>0.689580</td>\n",
       "      <td>J34C</td>\n",
       "      <td>P</td>\n",
       "      <td>1.393713e+09</td>\n",
       "      <td>2014-03-01 22:36:00.566426+00:00</td>\n",
       "    </tr>\n",
       "    <tr>\n",
       "      <th>110</th>\n",
       "      <td>110</td>\n",
       "      <td>1172</td>\n",
       "      <td>439</td>\n",
       "      <td>2014-03-12 00:32:25.317954+00:00</td>\n",
       "      <td>38.489648</td>\n",
       "      <td>129.921454</td>\n",
       "      <td>0.390625</td>\n",
       "      <td>6</td>\n",
       "      <td>45.667991</td>\n",
       "      <td>-125.006070</td>\n",
       "      <td>0.390625</td>\n",
       "      <td>439</td>\n",
       "      <td>1924521</td>\n",
       "      <td>0.666862</td>\n",
       "      <td>J26C</td>\n",
       "      <td>S</td>\n",
       "      <td>1.394584e+09</td>\n",
       "      <td>2014-03-12 00:32:25.317954+00:00</td>\n",
       "    </tr>\n",
       "    <tr>\n",
       "      <th>115</th>\n",
       "      <td>115</td>\n",
       "      <td>1206</td>\n",
       "      <td>451</td>\n",
       "      <td>2014-04-04 01:38:51.067878+00:00</td>\n",
       "      <td>75.305834</td>\n",
       "      <td>-17.409948</td>\n",
       "      <td>5.078125</td>\n",
       "      <td>6</td>\n",
       "      <td>44.339420</td>\n",
       "      <td>-124.555698</td>\n",
       "      <td>5.078125</td>\n",
       "      <td>451</td>\n",
       "      <td>1785154</td>\n",
       "      <td>0.253184</td>\n",
       "      <td>J25C</td>\n",
       "      <td>S</td>\n",
       "      <td>1.396576e+09</td>\n",
       "      <td>2014-04-04 01:38:51.067878+00:00</td>\n",
       "    </tr>\n",
       "    <tr>\n",
       "      <th>180</th>\n",
       "      <td>180</td>\n",
       "      <td>1839</td>\n",
       "      <td>841</td>\n",
       "      <td>2014-12-19 13:02:10.302626+00:00</td>\n",
       "      <td>-3.904747</td>\n",
       "      <td>-20.270752</td>\n",
       "      <td>49.609375</td>\n",
       "      <td>6</td>\n",
       "      <td>44.317568</td>\n",
       "      <td>-125.548946</td>\n",
       "      <td>49.609375</td>\n",
       "      <td>841</td>\n",
       "      <td>710290</td>\n",
       "      <td>-0.184959</td>\n",
       "      <td>J09D</td>\n",
       "      <td>P</td>\n",
       "      <td>1.418994e+09</td>\n",
       "      <td>2014-12-19 13:02:10.302626+00:00</td>\n",
       "    </tr>\n",
       "    <tr>\n",
       "      <th>207</th>\n",
       "      <td>207</td>\n",
       "      <td>2017</td>\n",
       "      <td>1244</td>\n",
       "      <td>2015-01-26 08:50:48.659080+00:00</td>\n",
       "      <td>80.884044</td>\n",
       "      <td>16.919699</td>\n",
       "      <td>1.953125</td>\n",
       "      <td>6</td>\n",
       "      <td>44.647709</td>\n",
       "      <td>-124.480392</td>\n",
       "      <td>1.953125</td>\n",
       "      <td>1244</td>\n",
       "      <td>2429425</td>\n",
       "      <td>-0.068733</td>\n",
       "      <td>FC03D</td>\n",
       "      <td>S</td>\n",
       "      <td>1.422262e+09</td>\n",
       "      <td>2015-01-26 08:50:48.659080+00:00</td>\n",
       "    </tr>\n",
       "    <tr>\n",
       "      <th>216</th>\n",
       "      <td>216</td>\n",
       "      <td>2071</td>\n",
       "      <td>1358</td>\n",
       "      <td>2015-02-01 11:37:01.611512+00:00</td>\n",
       "      <td>-13.945525</td>\n",
       "      <td>-86.069242</td>\n",
       "      <td>1.171875</td>\n",
       "      <td>6</td>\n",
       "      <td>43.725269</td>\n",
       "      <td>-125.673074</td>\n",
       "      <td>1.171875</td>\n",
       "      <td>1358</td>\n",
       "      <td>2216586</td>\n",
       "      <td>1.020591</td>\n",
       "      <td>FC03D</td>\n",
       "      <td>S</td>\n",
       "      <td>1.422791e+09</td>\n",
       "      <td>2015-02-01 11:37:01.611512+00:00</td>\n",
       "    </tr>\n",
       "    <tr>\n",
       "      <th>229</th>\n",
       "      <td>229</td>\n",
       "      <td>2159</td>\n",
       "      <td>1586</td>\n",
       "      <td>2015-02-24 05:47:42.548214+00:00</td>\n",
       "      <td>63.033772</td>\n",
       "      <td>-104.664467</td>\n",
       "      <td>6.640625</td>\n",
       "      <td>6</td>\n",
       "      <td>43.555373</td>\n",
       "      <td>-124.719907</td>\n",
       "      <td>6.640625</td>\n",
       "      <td>1586</td>\n",
       "      <td>932932</td>\n",
       "      <td>1.228262</td>\n",
       "      <td>J09D</td>\n",
       "      <td>P</td>\n",
       "      <td>1.424757e+09</td>\n",
       "      <td>2015-02-24 05:47:42.548214+00:00</td>\n",
       "    </tr>\n",
       "    <tr>\n",
       "      <th>231</th>\n",
       "      <td>231</td>\n",
       "      <td>2171</td>\n",
       "      <td>1632</td>\n",
       "      <td>2015-02-27 06:18:22.370085+00:00</td>\n",
       "      <td>77.537118</td>\n",
       "      <td>-40.296379</td>\n",
       "      <td>16.015625</td>\n",
       "      <td>6</td>\n",
       "      <td>44.133248</td>\n",
       "      <td>-124.531108</td>\n",
       "      <td>16.015625</td>\n",
       "      <td>1632</td>\n",
       "      <td>2497457</td>\n",
       "      <td>0.231040</td>\n",
       "      <td>J09D</td>\n",
       "      <td>S</td>\n",
       "      <td>1.425018e+09</td>\n",
       "      <td>2015-02-27 06:18:22.370085+00:00</td>\n",
       "    </tr>\n",
       "    <tr>\n",
       "      <th>233</th>\n",
       "      <td>233</td>\n",
       "      <td>2183</td>\n",
       "      <td>1647</td>\n",
       "      <td>2015-02-28 05:15:16.790635+00:00</td>\n",
       "      <td>46.299142</td>\n",
       "      <td>-114.677281</td>\n",
       "      <td>16.015625</td>\n",
       "      <td>6</td>\n",
       "      <td>43.466481</td>\n",
       "      <td>-124.927851</td>\n",
       "      <td>16.015625</td>\n",
       "      <td>1647</td>\n",
       "      <td>1251780</td>\n",
       "      <td>1.180710</td>\n",
       "      <td>J09D</td>\n",
       "      <td>P</td>\n",
       "      <td>1.425101e+09</td>\n",
       "      <td>2015-02-28 05:15:16.790635+00:00</td>\n",
       "    </tr>\n",
       "    <tr>\n",
       "      <th>244</th>\n",
       "      <td>244</td>\n",
       "      <td>2258</td>\n",
       "      <td>1796</td>\n",
       "      <td>2015-03-12 18:15:52.025028+00:00</td>\n",
       "      <td>46.299142</td>\n",
       "      <td>29.793317</td>\n",
       "      <td>27.734375</td>\n",
       "      <td>6</td>\n",
       "      <td>44.766610</td>\n",
       "      <td>-124.915166</td>\n",
       "      <td>27.734375</td>\n",
       "      <td>1796</td>\n",
       "      <td>2467164</td>\n",
       "      <td>-0.151366</td>\n",
       "      <td>FC03D</td>\n",
       "      <td>S</td>\n",
       "      <td>1.426184e+09</td>\n",
       "      <td>2015-03-12 18:15:52.025028+00:00</td>\n",
       "    </tr>\n",
       "    <tr>\n",
       "      <th>249</th>\n",
       "      <td>249</td>\n",
       "      <td>2297</td>\n",
       "      <td>1869</td>\n",
       "      <td>2015-03-21 23:23:55.749509+00:00</td>\n",
       "      <td>7.251673</td>\n",
       "      <td>-21.701154</td>\n",
       "      <td>1.171875</td>\n",
       "      <td>6</td>\n",
       "      <td>44.304669</td>\n",
       "      <td>-125.409121</td>\n",
       "      <td>1.171875</td>\n",
       "      <td>1869</td>\n",
       "      <td>1217191</td>\n",
       "      <td>0.689225</td>\n",
       "      <td>FC03D</td>\n",
       "      <td>P</td>\n",
       "      <td>1.426980e+09</td>\n",
       "      <td>2015-03-21 23:23:55.749509+00:00</td>\n",
       "    </tr>\n",
       "    <tr>\n",
       "      <th>264</th>\n",
       "      <td>264</td>\n",
       "      <td>2392</td>\n",
       "      <td>1945</td>\n",
       "      <td>2015-04-01 02:12:29.555806+00:00</td>\n",
       "      <td>51.877352</td>\n",
       "      <td>-121.829291</td>\n",
       "      <td>19.140625</td>\n",
       "      <td>6</td>\n",
       "      <td>43.401745</td>\n",
       "      <td>-124.859601</td>\n",
       "      <td>19.140625</td>\n",
       "      <td>1945</td>\n",
       "      <td>1275970</td>\n",
       "      <td>1.126652</td>\n",
       "      <td>J09D</td>\n",
       "      <td>P</td>\n",
       "      <td>1.427854e+09</td>\n",
       "      <td>2015-04-01 02:12:29.555806+00:00</td>\n",
       "    </tr>\n",
       "    <tr>\n",
       "      <th>284</th>\n",
       "      <td>284</td>\n",
       "      <td>2543</td>\n",
       "      <td>2196</td>\n",
       "      <td>2015-04-25 15:20:00.254970+00:00</td>\n",
       "      <td>59.686846</td>\n",
       "      <td>-38.865977</td>\n",
       "      <td>16.015625</td>\n",
       "      <td>6</td>\n",
       "      <td>44.147794</td>\n",
       "      <td>-124.753979</td>\n",
       "      <td>16.015625</td>\n",
       "      <td>2196</td>\n",
       "      <td>1206059</td>\n",
       "      <td>1.396813</td>\n",
       "      <td>J17D</td>\n",
       "      <td>P</td>\n",
       "      <td>1.429975e+09</td>\n",
       "      <td>2015-04-25 15:20:00.254970+00:00</td>\n",
       "    </tr>\n",
       "    <tr>\n",
       "      <th>285</th>\n",
       "      <td>285</td>\n",
       "      <td>2549</td>\n",
       "      <td>2220</td>\n",
       "      <td>2015-04-30 02:16:37.784104+00:00</td>\n",
       "      <td>83.115328</td>\n",
       "      <td>-107.525271</td>\n",
       "      <td>24.609375</td>\n",
       "      <td>6</td>\n",
       "      <td>43.527662</td>\n",
       "      <td>-124.471854</td>\n",
       "      <td>24.609375</td>\n",
       "      <td>2220</td>\n",
       "      <td>1266446</td>\n",
       "      <td>0.635251</td>\n",
       "      <td>FC03D</td>\n",
       "      <td>P</td>\n",
       "      <td>1.430360e+09</td>\n",
       "      <td>2015-04-30 02:16:37.784104+00:00</td>\n",
       "    </tr>\n",
       "    <tr>\n",
       "      <th>287</th>\n",
       "      <td>287</td>\n",
       "      <td>2561</td>\n",
       "      <td>2253</td>\n",
       "      <td>2015-05-05 00:39:55.115199+00:00</td>\n",
       "      <td>55.224278</td>\n",
       "      <td>-123.259693</td>\n",
       "      <td>14.453125</td>\n",
       "      <td>6</td>\n",
       "      <td>43.388632</td>\n",
       "      <td>-124.818432</td>\n",
       "      <td>14.453125</td>\n",
       "      <td>2253</td>\n",
       "      <td>1125276</td>\n",
       "      <td>-1.334238</td>\n",
       "      <td>J09D</td>\n",
       "      <td>P</td>\n",
       "      <td>1.430786e+09</td>\n",
       "      <td>2015-05-05 00:39:55.115199+00:00</td>\n",
       "    </tr>\n",
       "    <tr>\n",
       "      <th>290</th>\n",
       "      <td>290</td>\n",
       "      <td>2594</td>\n",
       "      <td>2366</td>\n",
       "      <td>2015-05-24 12:43:14.766814+00:00</td>\n",
       "      <td>19.523735</td>\n",
       "      <td>49.818944</td>\n",
       "      <td>49.609375</td>\n",
       "      <td>6</td>\n",
       "      <td>44.948041</td>\n",
       "      <td>-125.252608</td>\n",
       "      <td>49.609375</td>\n",
       "      <td>2366</td>\n",
       "      <td>2600192</td>\n",
       "      <td>0.063975</td>\n",
       "      <td>FC03D</td>\n",
       "      <td>S</td>\n",
       "      <td>1.432471e+09</td>\n",
       "      <td>2015-05-24 12:43:14.766814+00:00</td>\n",
       "    </tr>\n",
       "    <tr>\n",
       "      <th>291</th>\n",
       "      <td>291</td>\n",
       "      <td>2600</td>\n",
       "      <td>2369</td>\n",
       "      <td>2015-05-25 00:01:11.955713+00:00</td>\n",
       "      <td>46.299142</td>\n",
       "      <td>14.058895</td>\n",
       "      <td>1.171875</td>\n",
       "      <td>6</td>\n",
       "      <td>44.625026</td>\n",
       "      <td>-124.916589</td>\n",
       "      <td>1.171875</td>\n",
       "      <td>2369</td>\n",
       "      <td>2288142</td>\n",
       "      <td>0.038003</td>\n",
       "      <td>FC03D</td>\n",
       "      <td>S</td>\n",
       "      <td>1.432512e+09</td>\n",
       "      <td>2015-05-25 00:01:11.955713+00:00</td>\n",
       "    </tr>\n",
       "    <tr>\n",
       "      <th>296</th>\n",
       "      <td>296</td>\n",
       "      <td>2639</td>\n",
       "      <td>2503</td>\n",
       "      <td>2015-06-25 00:54:58.370872+00:00</td>\n",
       "      <td>21.755019</td>\n",
       "      <td>51.249346</td>\n",
       "      <td>9.765625</td>\n",
       "      <td>6</td>\n",
       "      <td>44.960847</td>\n",
       "      <td>-125.224273</td>\n",
       "      <td>9.765625</td>\n",
       "      <td>2503</td>\n",
       "      <td>804114</td>\n",
       "      <td>-0.422851</td>\n",
       "      <td>FC03D</td>\n",
       "      <td>P</td>\n",
       "      <td>1.435194e+09</td>\n",
       "      <td>2015-06-25 00:54:58.370872+00:00</td>\n",
       "    </tr>\n",
       "    <tr>\n",
       "      <th>300</th>\n",
       "      <td>300</td>\n",
       "      <td>2684</td>\n",
       "      <td>2552</td>\n",
       "      <td>2015-07-06 23:41:29.178963+00:00</td>\n",
       "      <td>47.414784</td>\n",
       "      <td>-48.878791</td>\n",
       "      <td>16.015625</td>\n",
       "      <td>6</td>\n",
       "      <td>44.058585</td>\n",
       "      <td>-124.908257</td>\n",
       "      <td>16.015625</td>\n",
       "      <td>2552</td>\n",
       "      <td>2127036</td>\n",
       "      <td>-0.077768</td>\n",
       "      <td>J10D</td>\n",
       "      <td>S</td>\n",
       "      <td>1.436226e+09</td>\n",
       "      <td>2015-07-06 23:41:29.178963+00:00</td>\n",
       "    </tr>\n",
       "    <tr>\n",
       "      <th>306</th>\n",
       "      <td>306</td>\n",
       "      <td>2731</td>\n",
       "      <td>2669</td>\n",
       "      <td>2015-08-01 15:10:39.680399+00:00</td>\n",
       "      <td>60.802488</td>\n",
       "      <td>26.932513</td>\n",
       "      <td>12.109375</td>\n",
       "      <td>6</td>\n",
       "      <td>44.739784</td>\n",
       "      <td>-124.732320</td>\n",
       "      <td>12.109375</td>\n",
       "      <td>2669</td>\n",
       "      <td>1190693</td>\n",
       "      <td>1.133413</td>\n",
       "      <td>FC03D</td>\n",
       "      <td>P</td>\n",
       "      <td>1.438442e+09</td>\n",
       "      <td>2015-08-01 15:10:39.680399+00:00</td>\n",
       "    </tr>\n",
       "    <tr>\n",
       "      <th>308</th>\n",
       "      <td>308</td>\n",
       "      <td>2743</td>\n",
       "      <td>2689</td>\n",
       "      <td>2015-08-04 14:27:43.776389+00:00</td>\n",
       "      <td>71.958908</td>\n",
       "      <td>-44.587585</td>\n",
       "      <td>19.921875</td>\n",
       "      <td>6</td>\n",
       "      <td>44.095203</td>\n",
       "      <td>-124.601389</td>\n",
       "      <td>19.921875</td>\n",
       "      <td>2689</td>\n",
       "      <td>2516080</td>\n",
       "      <td>-0.530597</td>\n",
       "      <td>J10D</td>\n",
       "      <td>S</td>\n",
       "      <td>1.438698e+09</td>\n",
       "      <td>2015-08-04 14:27:43.776389+00:00</td>\n",
       "    </tr>\n",
       "    <tr>\n",
       "      <th>311</th>\n",
       "      <td>311</td>\n",
       "      <td>2768</td>\n",
       "      <td>2737</td>\n",
       "      <td>2015-08-22 13:16:53.628155+00:00</td>\n",
       "      <td>67.496340</td>\n",
       "      <td>24.071709</td>\n",
       "      <td>49.609375</td>\n",
       "      <td>6</td>\n",
       "      <td>44.713443</td>\n",
       "      <td>-124.648192</td>\n",
       "      <td>49.609375</td>\n",
       "      <td>2737</td>\n",
       "      <td>1040980</td>\n",
       "      <td>-0.159884</td>\n",
       "      <td>FC03D</td>\n",
       "      <td>P</td>\n",
       "      <td>1.440249e+09</td>\n",
       "      <td>2015-08-22 13:16:53.628155+00:00</td>\n",
       "    </tr>\n",
       "  </tbody>\n",
       "</table>\n",
       "</div>"
      ],
      "text/plain": [
       "     Unnamed: 0.1  Unnamed: 0   idx                              time  \\\n",
       "54             54         623   173  2012-08-13 05:12:53.305087+00:00   \n",
       "56             56         635   180  2012-08-17 07:50:47.584494+00:00   \n",
       "76             76         820   331  2012-12-05 17:22:37.351708+00:00   \n",
       "87             87         951   399  2014-01-30 01:34:09.590899+00:00   \n",
       "103           103        1117   428  2014-03-01 22:36:00.566426+00:00   \n",
       "110           110        1172   439  2014-03-12 00:32:25.317954+00:00   \n",
       "115           115        1206   451  2014-04-04 01:38:51.067878+00:00   \n",
       "180           180        1839   841  2014-12-19 13:02:10.302626+00:00   \n",
       "207           207        2017  1244  2015-01-26 08:50:48.659080+00:00   \n",
       "216           216        2071  1358  2015-02-01 11:37:01.611512+00:00   \n",
       "229           229        2159  1586  2015-02-24 05:47:42.548214+00:00   \n",
       "231           231        2171  1632  2015-02-27 06:18:22.370085+00:00   \n",
       "233           233        2183  1647  2015-02-28 05:15:16.790635+00:00   \n",
       "244           244        2258  1796  2015-03-12 18:15:52.025028+00:00   \n",
       "249           249        2297  1869  2015-03-21 23:23:55.749509+00:00   \n",
       "264           264        2392  1945  2015-04-01 02:12:29.555806+00:00   \n",
       "284           284        2543  2196  2015-04-25 15:20:00.254970+00:00   \n",
       "285           285        2549  2220  2015-04-30 02:16:37.784104+00:00   \n",
       "287           287        2561  2253  2015-05-05 00:39:55.115199+00:00   \n",
       "290           290        2594  2366  2015-05-24 12:43:14.766814+00:00   \n",
       "291           291        2600  2369  2015-05-25 00:01:11.955713+00:00   \n",
       "296           296        2639  2503  2015-06-25 00:54:58.370872+00:00   \n",
       "300           300        2684  2552  2015-07-06 23:41:29.178963+00:00   \n",
       "306           306        2731  2669  2015-08-01 15:10:39.680399+00:00   \n",
       "308           308        2743  2689  2015-08-04 14:27:43.776389+00:00   \n",
       "311           311        2768  2737  2015-08-22 13:16:53.628155+00:00   \n",
       "\n",
       "             x           y          z  picks   latitude   longitude  \\\n",
       "54   63.033772   -4.536330  12.890625      6  44.456431 -124.708007   \n",
       "56   63.033772  -13.118742  16.015625      6  44.379203 -124.709049   \n",
       "76    0.557821  -48.878791  49.609375      6  44.060117 -125.493038   \n",
       "87  -19.523735   61.262160  16.015625      6  45.051010 -125.747836   \n",
       "103  25.101945  157.099091  19.921875      6  45.913119 -125.176456   \n",
       "110  38.489648  129.921454   0.390625      6  45.667991 -125.006070   \n",
       "115  75.305834  -17.409948   5.078125      6  44.339420 -124.555698   \n",
       "180  -3.904747  -20.270752  49.609375      6  44.317568 -125.548946   \n",
       "207  80.884044   16.919699   1.953125      6  44.647709 -124.480392   \n",
       "216 -13.945525  -86.069242   1.171875      6  43.725269 -125.673074   \n",
       "229  63.033772 -104.664467   6.640625      6  43.555373 -124.719907   \n",
       "231  77.537118  -40.296379  16.015625      6  44.133248 -124.531108   \n",
       "233  46.299142 -114.677281  16.015625      6  43.466481 -124.927851   \n",
       "244  46.299142   29.793317  27.734375      6  44.766610 -124.915166   \n",
       "249   7.251673  -21.701154   1.171875      6  44.304669 -125.409121   \n",
       "264  51.877352 -121.829291  19.140625      6  43.401745 -124.859601   \n",
       "284  59.686846  -38.865977  16.015625      6  44.147794 -124.753979   \n",
       "285  83.115328 -107.525271  24.609375      6  43.527662 -124.471854   \n",
       "287  55.224278 -123.259693  14.453125      6  43.388632 -124.818432   \n",
       "290  19.523735   49.818944  49.609375      6  44.948041 -125.252608   \n",
       "291  46.299142   14.058895   1.171875      6  44.625026 -124.916589   \n",
       "296  21.755019   51.249346   9.765625      6  44.960847 -125.224273   \n",
       "300  47.414784  -48.878791  16.015625      6  44.058585 -124.908257   \n",
       "306  60.802488   26.932513  12.109375      6  44.739784 -124.732320   \n",
       "308  71.958908  -44.587585  19.921875      6  44.095203 -124.601389   \n",
       "311  67.496340   24.071709  49.609375      6  44.713443 -124.648192   \n",
       "\n",
       "         depth  event_idx  pick_idx  residual station phase     time_pick  \\\n",
       "54   12.890625        173    329032  0.137448    J25B     P  1.344835e+09   \n",
       "56   16.015625        180    131576  1.405033    J25B     P  1.345190e+09   \n",
       "76   49.609375        331    291359  0.367757    J10B     P  1.354728e+09   \n",
       "87   16.015625        399    492330 -0.328593    J26C     P  1.391046e+09   \n",
       "103  19.921875        428    613426  0.689580    J34C     P  1.393713e+09   \n",
       "110   0.390625        439   1924521  0.666862    J26C     S  1.394584e+09   \n",
       "115   5.078125        451   1785154  0.253184    J25C     S  1.396576e+09   \n",
       "180  49.609375        841    710290 -0.184959    J09D     P  1.418994e+09   \n",
       "207   1.953125       1244   2429425 -0.068733   FC03D     S  1.422262e+09   \n",
       "216   1.171875       1358   2216586  1.020591   FC03D     S  1.422791e+09   \n",
       "229   6.640625       1586    932932  1.228262    J09D     P  1.424757e+09   \n",
       "231  16.015625       1632   2497457  0.231040    J09D     S  1.425018e+09   \n",
       "233  16.015625       1647   1251780  1.180710    J09D     P  1.425101e+09   \n",
       "244  27.734375       1796   2467164 -0.151366   FC03D     S  1.426184e+09   \n",
       "249   1.171875       1869   1217191  0.689225   FC03D     P  1.426980e+09   \n",
       "264  19.140625       1945   1275970  1.126652    J09D     P  1.427854e+09   \n",
       "284  16.015625       2196   1206059  1.396813    J17D     P  1.429975e+09   \n",
       "285  24.609375       2220   1266446  0.635251   FC03D     P  1.430360e+09   \n",
       "287  14.453125       2253   1125276 -1.334238    J09D     P  1.430786e+09   \n",
       "290  49.609375       2366   2600192  0.063975   FC03D     S  1.432471e+09   \n",
       "291   1.171875       2369   2288142  0.038003   FC03D     S  1.432512e+09   \n",
       "296   9.765625       2503    804114 -0.422851   FC03D     P  1.435194e+09   \n",
       "300  16.015625       2552   2127036 -0.077768    J10D     S  1.436226e+09   \n",
       "306  12.109375       2669   1190693  1.133413   FC03D     P  1.438442e+09   \n",
       "308  19.921875       2689   2516080 -0.530597    J10D     S  1.438698e+09   \n",
       "311  49.609375       2737   1040980 -0.159884   FC03D     P  1.440249e+09   \n",
       "\n",
       "                             datetime  \n",
       "54   2012-08-13 05:12:53.305087+00:00  \n",
       "56   2012-08-17 07:50:47.584494+00:00  \n",
       "76   2012-12-05 17:22:37.351708+00:00  \n",
       "87   2014-01-30 01:34:09.590899+00:00  \n",
       "103  2014-03-01 22:36:00.566426+00:00  \n",
       "110  2014-03-12 00:32:25.317954+00:00  \n",
       "115  2014-04-04 01:38:51.067878+00:00  \n",
       "180  2014-12-19 13:02:10.302626+00:00  \n",
       "207  2015-01-26 08:50:48.659080+00:00  \n",
       "216  2015-02-01 11:37:01.611512+00:00  \n",
       "229  2015-02-24 05:47:42.548214+00:00  \n",
       "231  2015-02-27 06:18:22.370085+00:00  \n",
       "233  2015-02-28 05:15:16.790635+00:00  \n",
       "244  2015-03-12 18:15:52.025028+00:00  \n",
       "249  2015-03-21 23:23:55.749509+00:00  \n",
       "264  2015-04-01 02:12:29.555806+00:00  \n",
       "284  2015-04-25 15:20:00.254970+00:00  \n",
       "285  2015-04-30 02:16:37.784104+00:00  \n",
       "287  2015-05-05 00:39:55.115199+00:00  \n",
       "290  2015-05-24 12:43:14.766814+00:00  \n",
       "291  2015-05-25 00:01:11.955713+00:00  \n",
       "296  2015-06-25 00:54:58.370872+00:00  \n",
       "300  2015-07-06 23:41:29.178963+00:00  \n",
       "306  2015-08-01 15:10:39.680399+00:00  \n",
       "308  2015-08-04 14:27:43.776389+00:00  \n",
       "311  2015-08-22 13:16:53.628155+00:00  "
      ]
     },
     "execution_count": 15,
     "metadata": {},
     "output_type": "execute_result"
    }
   ],
   "source": [
    "events"
   ]
  },
  {
   "cell_type": "code",
   "execution_count": null,
   "id": "96d11af4",
   "metadata": {},
   "outputs": [],
   "source": [
    "count = 0\n",
    "for i, idx in enumerate(range(0,10,1)):\n",
    "    print(i,idx,count)\n",
    "    count+=1\n",
    "\n",
    "print(count)"
   ]
  },
  {
   "cell_type": "code",
   "execution_count": null,
   "id": "65d60411",
   "metadata": {},
   "outputs": [],
   "source": [
    "new_events"
   ]
  },
  {
   "cell_type": "markdown",
   "id": "d9aaac94",
   "metadata": {},
   "source": [
    "## Plot using the plotting functions"
   ]
  },
  {
   "cell_type": "code",
   "execution_count": null,
   "id": "84953e3a",
   "metadata": {},
   "outputs": [],
   "source": [
    "all_picks = pd.read_csv('../data/datasets_2014/all_picks_2014_for_assoc.csv')"
   ]
  },
  {
   "cell_type": "code",
   "execution_count": null,
   "id": "444b3861",
   "metadata": {},
   "outputs": [],
   "source": [
    "all_picks"
   ]
  },
  {
   "cell_type": "code",
   "execution_count": null,
   "id": "921e15bb",
   "metadata": {},
   "outputs": [],
   "source": [
    "all_picks_networks = all_picks['station_network_code'].drop_duplicates()\n",
    "list_networks = list(all_picks_networks)\n",
    "all_picks_networks = ','.join(all_picks_networks)\n",
    "all_picks_networks"
   ]
  },
  {
   "cell_type": "code",
   "execution_count": null,
   "id": "41a4493d",
   "metadata": {},
   "outputs": [],
   "source": [
    "list_networks"
   ]
  },
  {
   "cell_type": "code",
   "execution_count": null,
   "id": "b7d7dc2b",
   "metadata": {},
   "outputs": [],
   "source": [
    "# Clean up the memory\n",
    "del all_picks"
   ]
  },
  {
   "cell_type": "markdown",
   "id": "1ca3946e",
   "metadata": {},
   "source": [
    "## Plot the offshore events north of 44&deg; N"
   ]
  },
  {
   "cell_type": "code",
   "execution_count": null,
   "id": "7eb5ede4",
   "metadata": {},
   "outputs": [],
   "source": [
    "new_events = pd.read_csv('../data/datasets_2014/new_events.csv')"
   ]
  },
  {
   "cell_type": "code",
   "execution_count": null,
   "id": "cc7496a2",
   "metadata": {},
   "outputs": [],
   "source": [
    "new_events_44N_and_above= new_events.loc[(new_events['latitude']>44)&(new_events['longitude']<-124)]\n",
    "new_events_44N_and_above = new_events_44N_and_above[0:50] "
   ]
  },
  {
   "cell_type": "code",
   "execution_count": null,
   "id": "161b1476",
   "metadata": {},
   "outputs": [],
   "source": [
    "# parameters for subplots_cluster_scale\n",
    "mycatalog= mycatalog\n",
    "mycatalog_picks=mycatalog_picks\n",
    "networks= all_picks_networks\n",
    "channel= \"?H?\"\n",
    "idx_sta= 50\n",
    "title= \"Events matched\"\n",
    "fig_title= \"new_events_filtered_44N_and_above_plots.pdf\"\n",
    "\n",
    "subplots_cluster_scale(new_events_44N_and_above,mycatalog_picks,networks,channel,idx_sta,title,fig_title)"
   ]
  },
  {
   "cell_type": "code",
   "execution_count": null,
   "id": "4c5a80d9",
   "metadata": {},
   "outputs": [],
   "source": []
  },
  {
   "cell_type": "code",
   "execution_count": null,
   "id": "4634dd6c",
   "metadata": {},
   "outputs": [],
   "source": []
  },
  {
   "cell_type": "markdown",
   "id": "78356615",
   "metadata": {},
   "source": [
    "## Plot one of the cluster events at around 46.5&deg; N, 125&deg; W using the plotting functions "
   ]
  },
  {
   "cell_type": "code",
   "execution_count": null,
   "id": "a8e3d4bd",
   "metadata": {},
   "outputs": [],
   "source": [
    "def subplots_cluster_scale_p(idx, mycatalog, mycatalog_picks, networks, channel, idx_sta, title, fig_title):\n",
    "    \"\"\"\n",
    "    idx: event_idx\n",
    "    mycatalog: dataframe that contains only the unique picks (i.e., mycatalog_picks.drop_duplicates(subset=['idx']).copy())\n",
    "    mycatalog_picks: all pick assignments csv file (e.g., pd.read_csv('../data/datasets_OR/all_pick_assignments_OR.csv'))\n",
    "    networks: string of networks (e.g., \"NV,OO,7A\")\n",
    "    channel: specify the direction of the channel (i.e., \"?HZ\", \"?HE\" or \"?HN\")\n",
    "    idx_sta: choose the station to which you want to show the waveforms\n",
    "    title: title in a string\n",
    "    fig_title: figure title in as string\n",
    "    \"\"\"\n",
    "        \n",
    "    # Define the clients \n",
    "    client_waveform = WaveformClient()\n",
    "    client2 = Client(\"IRIS\")\n",
    "    client_ncedc = Client('NCEDC')\n",
    "\n",
    "\n",
    "    # Plot the earthquake moveout for one of the unmatched events for all stations \n",
    "    event = mycatalog\n",
    "    picks = mycatalog_picks\n",
    "    picks_idx = picks.loc[picks['idx']==idx]\n",
    "    pick_sta = np.unique(picks_idx['station'])\n",
    "    \n",
    "    otime = UTCDateTime(str(event[event['idx'] == idx][\"datetime\"].values[0]))\n",
    "    distances = []\n",
    "    max_dist = 10\n",
    "    min_dist = 0\n",
    "    \n",
    "    print(event[event['idx'] == idx]['picks'].values[0])\n",
    "    for station in pick_sta:\n",
    "        \n",
    "        \n",
    "        sta_inv = client2.get_stations(network=networks,\n",
    "                                       station=station, channel=\"?H?\", \n",
    "                                       starttime=otime - 1e8, endtime=otime + 1e8,level=\"response\")\n",
    "        if len(sta_inv) == 0:\n",
    "#             print(f\"Failed to fetch for {networks} {station} {otime}\")\n",
    "            continue\n",
    "            \n",
    "        _network = sta_inv[0].code\n",
    "        slat = sta_inv[0][0].latitude\n",
    "        slon = sta_inv[0][0].longitude\n",
    "        olat = event.loc[event['idx']==idx, 'latitude'].values[0]\n",
    "        olon = event.loc[event['idx']==idx, 'longitude'].values[0]\n",
    "        \n",
    "        dis1 = locations2degrees(olat, olon, slat, slon)\n",
    "        dist = degrees2kilometers(dis1)\n",
    "#         if max_dist < dist:\n",
    "#             max_dist = dist\n",
    "            \n",
    "#         if min_dist > dist:\n",
    "#             min_dist = dist\n",
    "            \n",
    "        distances.append([None, _network, station, dist])\n",
    "\n",
    "    # Sort distances\n",
    "    distances = sorted(distances, key=lambda item: item[-1])\n",
    "    distances = distances[:idx_sta+1]\n",
    "    \n",
    "    # Set up to define the xlim and ylim\n",
    "    max_y = 0\n",
    "    min_y = 0\n",
    "    # This count is for the if statements. Only used to ensure that min_y_count \n",
    "    #is changed from 0 to either the first positive value of the distance of one of the stations from the event\n",
    "    min_y_count = 0 \n",
    "    \n",
    "    max_x = 0\n",
    "    min_x = 0\n",
    "    \n",
    "    # This count is for the if statements. Only used to ensure that min_x_count \n",
    "    #is changed from 0 to either the first positive value of P pick time or the first positive value of S pick time\n",
    "    min_x_count= 0\n",
    "    # Create a figure\n",
    "    fig,axs = plt.subplots(1,4,figsize=(18,6))\n",
    "    gs = fig.add_gridspec(3, hspace=0, figure=fig)\n",
    "#     axs = gs.subplots(sharex=True, sharey=True)\n",
    "    starttime = otime -30\n",
    "    endtime = otime + 120\n",
    "    \n",
    "    # Define texts\n",
    "    texts = []\n",
    "    \n",
    "    for i, ii in enumerate(distances):\n",
    "            \n",
    "        if ii[1] in ['NC', 'BK']:\n",
    "            # Query waveforms\n",
    "            st = client_ncedc.get_waveforms(network=ii[1], station=ii[2], location=\"*\", channel=channel,starttime=starttime, endtime=endtime)\n",
    "\n",
    "        elif ii[1] in networks: \n",
    "            st = client_waveform.get_waveforms(network=ii[1], station=ii[2], channel=channel,starttime=starttime, endtime=endtime)\n",
    "  \n",
    "        else: \n",
    "            st =  Stream()\n",
    "            print(f\"WARNING: No data for {ii[1]}.{ii[2]}.{channel} on {otime}.\")    \n",
    "            continue\n",
    "            \n",
    "#         print(f\"len(st):{len(st)}\")\n",
    "#         print(st)\n",
    "    \n",
    "        # Skip empty traces\n",
    "        if len(st) == 0:\n",
    "                continue\n",
    "                \n",
    "        sta_picks = picks_idx[picks_idx['station'] == ii[2]]\n",
    "        p_picks = sta_picks.loc[sta_picks['phase'] == 'P']\n",
    "        s_picks = sta_picks.loc[sta_picks['phase'] == 'S']\n",
    "#         print(len(p_picks),len(s_picks))\n",
    "        \n",
    "        # Define the xlim values\n",
    "        # Define the maximum x value\n",
    "        if len(s_picks) > 0:\n",
    "            if max_x < UTCDateTime(s_picks.iloc[0]['time_pick']) - starttime:\n",
    "                max_x = UTCDateTime(s_picks.iloc[0]['time_pick']+5) - starttime\n",
    "        elif len(p_picks) > 0:\n",
    "            if max_x < UTCDateTime(p_picks.iloc[0]['time_pick']) - starttime: \n",
    "                max_x = UTCDateTime(p_picks.iloc[0]['time_pick']+5) - starttime\n",
    "        else:\n",
    "            print('No picks for this station. Skipping.')\n",
    "            continue \n",
    "            \n",
    "        # Define the minimum x value\n",
    "        if len(p_picks) > 0:\n",
    "            if min_x_count == 0:\n",
    "                if min_x < UTCDateTime(p_picks.iloc[0]['time_pick']) - starttime:\n",
    "                    min_x = UTCDateTime(p_picks.iloc[0]['time_pick']-5) - starttime\n",
    "                    min_x_count += 1           \n",
    "            else:\n",
    "                if min_x >= UTCDateTime(p_picks.iloc[0]['time_pick']) - starttime:\n",
    "                    min_x = UTCDateTime(p_picks.iloc[0]['time_pick']-5) - starttime            \n",
    "        elif len(s_picks) > 0:\n",
    "            if min_x_count == 0:\n",
    "                if min_x < UTCDateTime(s_picks.iloc[0]['time_pick'])- starttime:\n",
    "                    min_x = UTCDateTime(s_picks.iloc[0]['time_pick']-5)- starttime\n",
    "                    min_x_count += 1                \n",
    "            else:\n",
    "                if min_x >= UTCDateTime(s_picks.iloc[0]['time_pick'])- starttime:\n",
    "                    min_x = UTCDateTime(s_picks.iloc[0]['time_pick']-5) - starttime\n",
    "        else:\n",
    "            print('No picks for this station. Skipping.')\n",
    "            continue    \n",
    "            \n",
    "        if len(p_picks) == 0:\n",
    "            continue\n",
    "            \n",
    "#         print('This is after the p_pick continue statement')\n",
    "    \n",
    "        # Define ylim values\n",
    "        if min_y_count == 0:\n",
    "            if min_y < ii[3]:\n",
    "                min_y = ii[3] - 5\n",
    "                min_y_count += 1           \n",
    "        else:\n",
    "            if min_y >= ii[3]:\n",
    "                min_y = ii[3] - 5 \n",
    "                \n",
    "        max_y = ii[3] + 5\n",
    "        \n",
    "    scaling_factor = (1/2)*(max_y-min_y)   \n",
    "        \n",
    "    for i, ii in enumerate(distances):\n",
    "            \n",
    "        if ii[1] in ['NC', 'BK']:\n",
    "            # Query waveforms\n",
    "            st = client_ncedc.get_waveforms(network=ii[1], station=ii[2], location=\"*\", channel=channel,starttime=starttime, endtime=endtime)\n",
    "\n",
    "        elif ii[1] in networks: \n",
    "            st = client_waveform.get_waveforms(network=ii[1], station=ii[2], channel=channel,starttime=starttime, endtime=endtime)\n",
    "  \n",
    "        else: \n",
    "            st =  Stream()\n",
    "            print(f\"WARNING: No data for {ii[1]}.{ii[2]}.{channel} on {otime}.\")    \n",
    "            continue\n",
    "            \n",
    "#         print(f\"len(st):{len(st)}\")\n",
    "#         print(st)\n",
    "    \n",
    "        # Skip empty traces\n",
    "        if len(st) == 0:\n",
    "                continue\n",
    "        _st = Stream()\n",
    "        # Check for HH and BH channels presence\n",
    "        has_HH = bool(st.select(channel=\"HH?\"))\n",
    "        has_BH = bool(st.select(channel=\"BH?\"))\n",
    "\n",
    "        # Apply selection logic based on channel presence\n",
    "        if has_HH and has_BH:\n",
    "            # If both HH and BH channels are present, select only HH\n",
    "            _st += st.select(channel=\"HH?\")\n",
    "        elif has_HH:\n",
    "            # If only HH channels are present\n",
    "            _st += st.select(channel=\"HH?\")\n",
    "        elif has_BH:\n",
    "            # If only BH channels are present\n",
    "            _st += st.select(channel=\"BH?\")\n",
    "\n",
    "        st = _st\n",
    "\n",
    "        print(f'Second st print:{_st}')\n",
    "              \n",
    "        st = Stream(filter(lambda st: st.stats.sampling_rate > 10, st))\n",
    "        st.taper(max_percentage=0.05)\n",
    "        st.filter(type='bandpass', freqmin=2, freqmax=25)\n",
    "        st.merge(fill_value='interpolate') # fill gaps if there are any.\n",
    "\n",
    "#         print(st)\n",
    "        # Select only one trace per channel\n",
    "        unique_channels = set(tr.stats.channel for tr in st)\n",
    "        selected_traces = []\n",
    "        \n",
    "        for ch in unique_channels:\n",
    "            selected_traces.append(next(tr for tr in st if tr.stats.channel == ch))\n",
    "        st = Stream(selected_traces)\n",
    "                   \n",
    "        trim_st = st.copy()\n",
    "        sta_picks = picks_idx[picks_idx['station'] == ii[2]]\n",
    "        p_picks = sta_picks.loc[sta_picks['phase'] == 'P']\n",
    "        s_picks = sta_picks.loc[sta_picks['phase'] == 'S']\n",
    "#         print(len(p_picks),len(s_picks))\n",
    "        \n",
    "        \n",
    "                \n",
    "            \n",
    "        if len(p_picks) == 0:\n",
    "            continue \n",
    "#         print('This is after the p_pick continue statement')\n",
    "        print(trim_st)\n",
    "        \n",
    "        for iax in range(len(trim_st)):\n",
    "            print(iax)\n",
    "            sampling_rate = trim_st[iax].stats.sampling_rate\n",
    "            trim_st = trim_st.normalize()\n",
    "            \n",
    "            tp = UTCDateTime(p_picks.iloc[0]['time_pick']) - otime + 30\n",
    "            i1 = int((tp-5)*sampling_rate)\n",
    "            i2 = int((tp+15)*sampling_rate)\n",
    "\n",
    "            offsets1 = ii[3]\n",
    "            try: \n",
    "                wave = trim_st[iax].data\n",
    "                wave = wave / (np.nanmax(wave[i1:i2], axis=-1)*10)\n",
    "            except:\n",
    "                continue \n",
    "            \n",
    "#             print(trim_st[iax].stats.sampling_rate)\n",
    "            axs[iax].plot(trim_st[iax].times(), wave * scaling_factor + offsets1, \n",
    "                          color='black', label=f\"{trim_st[iax].stats.channel}\", alpha=0.7, lw=0.5)\n",
    "#             axs[iax].plot(trim_st[iax].times(), wave * 30 + offsets1, color='black', label=f\"{trim_st[iax].stats.channel}\", alpha=0.7, lw=0.5)\n",
    "\n",
    "#             axs[iax].text(xlim[-1] + 2,   offsets1, \n",
    "#                               [ii[2]], fontsize=8, verticalalignment='bottom')\n",
    "\n",
    "            if len(p_picks) > 0:\n",
    "                axs[iax].vlines(UTCDateTime(p_picks.iloc[0]['time_pick']) - otime + 30, offsets1 - (1/35) * scaling_factor, \n",
    "                                offsets1 + (1/35) * scaling_factor, color='r')\n",
    "            if len(s_picks) > 0:\n",
    "                axs[iax].vlines(UTCDateTime(s_picks.iloc[0]['time_pick']) - otime + 30, offsets1 - (1/35) * scaling_factor, \n",
    "                                offsets1 + (1/35) * scaling_factor, color='b')\n",
    "        texts.append([ii[2],ii[3]])\n",
    "\n",
    "    \n",
    "#     print(max_y,min_y)\n",
    "    chs = ['2','1','Z']\n",
    "    for iax in range(3):\n",
    "        for i, ii in enumerate(texts):\n",
    "            offsets1 = ii[1]\n",
    "            axs[iax].text(max_x + 0.5, offsets1, \n",
    "                                  [ii[0]], fontsize=8, verticalalignment='bottom')\n",
    "        axs[iax].legend(chs[iax],loc='upper right', handlelength=0)\n",
    "        axs[iax].set_ylim([min_y,max_y])\n",
    "        axs[iax].set_xlim([min_x,max_x])\n",
    "        axs[iax].grid(alpha=0.5)\n",
    "    fig.supxlabel('Time [sec]', y=0.07)\n",
    "    fig.supylabel('Distance [km]')\n",
    "    fig.suptitle(f\"{title}: Origin Time={otime}, \\n Latitude={round(event[event['idx']==idx]['latitude'].values[0], 2)}, Longtitude={round(event[event['idx']==idx]['longitude'].values[0], 2)}, Depth={round(event[event['idx']==idx]['depth'].values[0], 2)}\", y=1)\n",
    "    \n",
    "    m = Basemap(projection='merc', llcrnrlat=40, urcrnrlat=50, llcrnrlon=-130, urcrnrlon=-120, resolution='i', ax=axs[3])\n",
    "    m.drawcoastlines()\n",
    "    m.drawcountries()\n",
    "    m.drawstates()\n",
    "    m.drawmapboundary()\n",
    "    m.drawparallels(np.arange(40, 51, 1), labels=[1,0,0,0])\n",
    "    m.drawmeridians(np.arange(-130, -119, 1), labels=[0,0,0,1])\n",
    "    x, y = m(event[event['idx']==idx]['longitude'].values[0], event[event['idx']==idx]['latitude'].values[0])\n",
    "    m.plot(x, y, 'ro', markersize=9)\n",
    "    axs[3].set_title('Event Location')\n",
    "    \n",
    "    plt.show()\n"
   ]
  },
  {
   "cell_type": "code",
   "execution_count": null,
   "id": "0ba14668",
   "metadata": {},
   "outputs": [],
   "source": [
    "def subplots_cluster_scale(idx, mycatalog, mycatalog_picks, networks, channel, idx_sta, title, fig_title):\n",
    "    \"\"\"\n",
    "    idx: event_idx\n",
    "    mycatalog: dataframe that contains only the unique picks (i.e., mycatalog_picks.drop_duplicates(subset=['idx']).copy())\n",
    "    mycatalog_picks: all pick assignments csv file (e.g., pd.read_csv('../data/datasets_OR/all_pick_assignments_OR.csv'))\n",
    "    networks: string of networks (e.g., \"NV,OO,7A\")\n",
    "    channel: specify the direction of the channel (i.e., \"?HZ\", \"?HE\" or \"?HN\")\n",
    "    idx_sta: choose the station to which you want to show the waveforms\n",
    "    title: title in a string\n",
    "    fig_title: figure title in as string\n",
    "    \"\"\"\n",
    "        \n",
    "    # Define the clients \n",
    "    client_waveform = WaveformClient()\n",
    "    client2 = Client(\"IRIS\")\n",
    "    client_ncedc = Client('NCEDC')\n",
    "\n",
    "\n",
    "    # Plot the earthquake moveout for one of the unmatched events for all stations \n",
    "    event = mycatalog\n",
    "    picks = mycatalog_picks\n",
    "    \n",
    "    p = PdfPages(fig_title) \n",
    "    \n",
    "    for idx in event['idx']:\n",
    "        \n",
    "        picks_idx = picks.loc[picks['idx']==idx]\n",
    "        pick_sta = np.unique(picks_idx['station'])\n",
    "\n",
    "        otime = UTCDateTime(str(event[event['idx'] == idx][\"datetime\"].values[0]))\n",
    "        distances = []\n",
    "        max_dist = 10\n",
    "        min_dist = 0\n",
    "\n",
    "        print(event[event['idx'] == idx]['picks'].values[0])\n",
    "        for station in pick_sta:\n",
    "\n",
    "\n",
    "            sta_inv = client2.get_stations(network=networks,\n",
    "                                           station=station, channel=\"?H?\", \n",
    "                                           starttime=otime - 1e8, endtime=otime + 1e8,level=\"response\")\n",
    "            if len(sta_inv) == 0:\n",
    "    #             print(f\"Failed to fetch for {networks} {station} {otime}\")\n",
    "                continue\n",
    "\n",
    "            _network = sta_inv[0].code\n",
    "            slat = sta_inv[0][0].latitude\n",
    "            slon = sta_inv[0][0].longitude\n",
    "            olat = event.loc[event['idx']==idx, 'latitude'].values[0]\n",
    "            olon = event.loc[event['idx']==idx, 'longitude'].values[0]\n",
    "\n",
    "            dis1 = locations2degrees(olat, olon, slat, slon)\n",
    "            dist = degrees2kilometers(dis1)\n",
    "    #         if max_dist < dist:\n",
    "    #             max_dist = dist\n",
    "\n",
    "    #         if min_dist > dist:\n",
    "    #             min_dist = dist\n",
    "\n",
    "            distances.append([None, _network, station, dist])\n",
    "\n",
    "        # Sort distances\n",
    "        distances = sorted(distances, key=lambda item: item[-1])\n",
    "        distances = distances[:idx_sta+1]\n",
    "\n",
    "        # Set up to define the xlim and ylim\n",
    "        max_y = 0\n",
    "        min_y = 0\n",
    "        # This count is for the if statements. Only used to ensure that min_y_count \n",
    "        #is changed from 0 to either the first positive value of the distance of one of the stations from the event\n",
    "        min_y_count = 0 \n",
    "\n",
    "        max_x = 0\n",
    "        min_x = 0\n",
    "\n",
    "        # This count is for the if statements. Only used to ensure that min_x_count \n",
    "        #is changed from 0 to either the first positive value of P pick time or the first positive value of S pick time\n",
    "        min_x_count= 0\n",
    "        # Create a figure\n",
    "        fig,axs = plt.subplots(1,4,figsize=(18,6))\n",
    "        gs = fig.add_gridspec(3, hspace=0, figure=fig)\n",
    "    #     axs = gs.subplots(sharex=True, sharey=True)\n",
    "        starttime = otime -30\n",
    "        endtime = otime + 120\n",
    "\n",
    "        # Define texts\n",
    "        texts = []\n",
    "\n",
    "        for i, ii in enumerate(distances):\n",
    "\n",
    "            if ii[1] in ['NC', 'BK']:\n",
    "                # Query waveforms\n",
    "                st = client_ncedc.get_waveforms(network=ii[1], station=ii[2], location=\"*\", channel=channel,starttime=starttime, endtime=endtime)\n",
    "\n",
    "            elif ii[1] in networks: \n",
    "                st = client_waveform.get_waveforms(network=ii[1], station=ii[2], channel=channel,starttime=starttime, endtime=endtime)\n",
    "\n",
    "            else: \n",
    "                st =  Stream()\n",
    "                print(f\"WARNING: No data for {ii[1]}.{ii[2]}.{channel} on {otime}.\")    \n",
    "                continue\n",
    "\n",
    "    #         print(f\"len(st):{len(st)}\")\n",
    "    #         print(st)\n",
    "\n",
    "            # Skip empty traces\n",
    "            if len(st) == 0:\n",
    "                    continue\n",
    "\n",
    "            sta_picks = picks_idx[picks_idx['station'] == ii[2]]\n",
    "            p_picks = sta_picks.loc[sta_picks['phase'] == 'P']\n",
    "            s_picks = sta_picks.loc[sta_picks['phase'] == 'S']\n",
    "    #         print(len(p_picks),len(s_picks))\n",
    "\n",
    "            # Define the xlim values\n",
    "            # Define the maximum x value\n",
    "            if len(s_picks) > 0:\n",
    "                if max_x < UTCDateTime(s_picks.iloc[0]['time_pick']) - starttime:\n",
    "                    max_x = UTCDateTime(s_picks.iloc[0]['time_pick']+5) - starttime\n",
    "            elif len(p_picks) > 0:\n",
    "                if max_x < UTCDateTime(p_picks.iloc[0]['time_pick']) - starttime: \n",
    "                    max_x = UTCDateTime(p_picks.iloc[0]['time_pick']+5) - starttime\n",
    "            else:\n",
    "                print('No picks for this station. Skipping.')\n",
    "                continue \n",
    "\n",
    "            # Define the minimum x value\n",
    "            if len(p_picks) > 0:\n",
    "                if min_x_count == 0:\n",
    "                    if min_x < UTCDateTime(p_picks.iloc[0]['time_pick']) - starttime:\n",
    "                        min_x = UTCDateTime(p_picks.iloc[0]['time_pick']-5) - starttime\n",
    "                        min_x_count += 1           \n",
    "                else:\n",
    "                    if min_x >= UTCDateTime(p_picks.iloc[0]['time_pick']) - starttime:\n",
    "                        min_x = UTCDateTime(p_picks.iloc[0]['time_pick']-5) - starttime            \n",
    "            elif len(s_picks) > 0:\n",
    "                if min_x_count == 0:\n",
    "                    if min_x < UTCDateTime(s_picks.iloc[0]['time_pick'])- starttime:\n",
    "                        min_x = UTCDateTime(s_picks.iloc[0]['time_pick']-5)- starttime\n",
    "                        min_x_count += 1                \n",
    "                else:\n",
    "                    if min_x >= UTCDateTime(s_picks.iloc[0]['time_pick'])- starttime:\n",
    "                        min_x = UTCDateTime(s_picks.iloc[0]['time_pick']-5) - starttime\n",
    "            else:\n",
    "                print('No picks for this station. Skipping.')\n",
    "                continue    \n",
    "\n",
    "    #         if len(p_picks) == 0:\n",
    "    #             continue\n",
    "\n",
    "    #         print('This is after the p_pick continue statement')\n",
    "\n",
    "            # Define ylim values\n",
    "            if min_y_count == 0:\n",
    "                if min_y < ii[3]:\n",
    "                    min_y = ii[3] - 5\n",
    "                    min_y_count += 1           \n",
    "            else:\n",
    "                if min_y >= ii[3]:\n",
    "                    min_y = ii[3] - 5 \n",
    "\n",
    "            max_y = ii[3] + 5\n",
    "\n",
    "        scaling_factor = (1/2)*(max_y-min_y)   \n",
    "\n",
    "        for i, ii in enumerate(distances):\n",
    "\n",
    "            if ii[1] in ['NC', 'BK']:\n",
    "                # Query waveforms\n",
    "                st = client_ncedc.get_waveforms(network=ii[1], station=ii[2], location=\"*\", channel=channel,starttime=starttime, endtime=endtime)\n",
    "\n",
    "            elif ii[1] in networks: \n",
    "                st = client_waveform.get_waveforms(network=ii[1], station=ii[2], channel=channel,starttime=starttime, endtime=endtime)\n",
    "\n",
    "            else: \n",
    "                st =  Stream()\n",
    "                print(f\"WARNING: No data for {ii[1]}.{ii[2]}.{channel} on {otime}.\")    \n",
    "                continue\n",
    "\n",
    "    #         print(f\"len(st):{len(st)}\")\n",
    "    #         print(st)\n",
    "\n",
    "            # Skip empty traces\n",
    "            if len(st) == 0:\n",
    "                    continue\n",
    "            _st = Stream()\n",
    "            # Check for HH and BH channels presence\n",
    "            has_HH = bool(st.select(channel=\"HH?\"))\n",
    "            has_BH = bool(st.select(channel=\"BH?\"))\n",
    "\n",
    "            # Apply selection logic based on channel presence\n",
    "            if has_HH and has_BH:\n",
    "                # If both HH and BH channels are present, select only HH\n",
    "                _st += st.select(channel=\"HH?\")\n",
    "            elif has_HH:\n",
    "                # If only HH channels are present\n",
    "                _st += st.select(channel=\"HH?\")\n",
    "            elif has_BH:\n",
    "                # If only BH channels are present\n",
    "                _st += st.select(channel=\"BH?\")\n",
    "\n",
    "            st = _st\n",
    "\n",
    "            print(f'Second st print:{_st}')\n",
    "\n",
    "            st = Stream(filter(lambda st: st.stats.sampling_rate > 10, st))\n",
    "            st.taper(max_percentage=0.05)\n",
    "            st.filter(type='bandpass', freqmin=2, freqmax=25)\n",
    "            st.merge(fill_value='interpolate') # fill gaps if there are any.\n",
    "\n",
    "    #         print(st)\n",
    "            # Select only one trace per channel\n",
    "            unique_channels = set(tr.stats.channel for tr in st)\n",
    "            selected_traces = []\n",
    "\n",
    "            for ch in unique_channels:\n",
    "                selected_traces.append(next(tr for tr in st if tr.stats.channel == ch))\n",
    "            st = Stream(selected_traces)\n",
    "\n",
    "            trim_st = st.copy()\n",
    "            sta_picks = picks_idx[picks_idx['station'] == ii[2]]\n",
    "            p_picks = sta_picks.loc[sta_picks['phase'] == 'P']\n",
    "            s_picks = sta_picks.loc[sta_picks['phase'] == 'S']\n",
    "    #         print(len(p_picks),len(s_picks))\n",
    "\n",
    "\n",
    "\n",
    "\n",
    "    #         if len(p_picks) == 0:\n",
    "    #             continue \n",
    "    #         print('This is after the p_pick continue statement')\n",
    "            print(trim_st)\n",
    "\n",
    "            for iax in range(len(trim_st)):\n",
    "                print(iax)\n",
    "                sampling_rate = trim_st[iax].stats.sampling_rate\n",
    "                trim_st = trim_st.normalize()\n",
    "\n",
    "                if len(p_picks)>0:\n",
    "                    tp = UTCDateTime(p_picks.iloc[0]['time_pick']) - otime + 30\n",
    "                    i1 = int((tp-5)*sampling_rate)\n",
    "                    i2 = int((tp+15)*sampling_rate)\n",
    "                elif len(s_picks)>0:\n",
    "                    ts = UTCDateTime(s_picks.iloc[0]['time_pick']) - otime + 30\n",
    "                    i1 = int((ts-10)*sampling_rate)\n",
    "                    i2 = int((ts+10)*sampling_rate)\n",
    "                else:\n",
    "                    print(f\"WARNING: No pick time for {ii[1]}.{ii[2]}.{channel} on {otime}.\")\n",
    "\n",
    "                offsets1 = ii[3]\n",
    "                try: \n",
    "                    wave = trim_st[iax].data\n",
    "                    wave = wave / (np.nanmax(wave[i1:i2], axis=-1)*10)\n",
    "                except:\n",
    "                    continue \n",
    "\n",
    "    #             print(trim_st[iax].stats.sampling_rate)\n",
    "                axs[iax].plot(trim_st[iax].times(), wave * scaling_factor + offsets1, \n",
    "                              color='black', label=f\"{trim_st[iax].stats.channel}\", alpha=0.7, lw=0.5)\n",
    "    #             axs[iax].plot(trim_st[iax].times(), wave * 30 + offsets1, color='black', label=f\"{trim_st[iax].stats.channel}\", alpha=0.7, lw=0.5)\n",
    "\n",
    "    #             axs[iax].text(xlim[-1] + 2,   offsets1, \n",
    "    #                               [ii[2]], fontsize=8, verticalalignment='bottom')\n",
    "\n",
    "                if len(p_picks) > 0:\n",
    "                    axs[iax].vlines(UTCDateTime(p_picks.iloc[0]['time_pick']) - otime + 30, offsets1 - (1/35) * scaling_factor, \n",
    "                                    offsets1 + (1/35) * scaling_factor, color='r')\n",
    "                if len(s_picks) > 0:\n",
    "                    axs[iax].vlines(UTCDateTime(s_picks.iloc[0]['time_pick']) - otime + 30, offsets1 - (1/35) * scaling_factor, \n",
    "                                    offsets1 + (1/35) * scaling_factor, color='b')\n",
    "            texts.append([ii[2],ii[3]])\n",
    "\n",
    "\n",
    "    #     print(max_y,min_y)\n",
    "        chs = ['2','1','Z']\n",
    "        for iax in range(3):\n",
    "            for i, ii in enumerate(texts):\n",
    "                offsets1 = ii[1]\n",
    "                axs[iax].text(max_x + 0.5, offsets1, \n",
    "                                      [ii[0]], fontsize=8, verticalalignment='bottom')\n",
    "            axs[iax].legend(chs[iax],loc='upper right', handlelength=0)\n",
    "            axs[iax].set_ylim([min_y,max_y])\n",
    "            axs[iax].set_xlim([min_x,max_x])\n",
    "            axs[iax].grid(alpha=0.5)\n",
    "        fig.supxlabel('Time [sec]', y=0.07)\n",
    "        fig.supylabel('Distance [km]')\n",
    "        fig.suptitle(f\"{title}: Origin Time={otime}, \\n Latitude={round(event[event['idx']==idx]['latitude'].values[0], 2)}, Longtitude={round(event[event['idx']==idx]['longitude'].values[0], 2)}, Depth={round(event[event['idx']==idx]['depth'].values[0], 2)}\", y=1)\n",
    "\n",
    "        m = Basemap(projection='merc', llcrnrlat=40, urcrnrlat=50, llcrnrlon=-130, urcrnrlon=-120, resolution='i', ax=axs[3])\n",
    "        m.drawcoastlines()\n",
    "        m.drawcountries()\n",
    "        m.drawstates()\n",
    "        m.drawmapboundary()\n",
    "        m.drawparallels(np.arange(40, 51, 1), labels=[1,0,0,0])\n",
    "        m.drawmeridians(np.arange(-130, -119, 1), labels=[0,0,0,1])\n",
    "        x, y = m(event[event['idx']==idx]['longitude'].values[0], event[event['idx']==idx]['latitude'].values[0])\n",
    "        m.plot(x, y, 'ro', markersize=9)\n",
    "        axs[3].set_title('Event Location')\n",
    "        \n",
    "        fig.savefig(p, format='pdf')  \n",
    "\n",
    "    p.close()"
   ]
  },
  {
   "cell_type": "markdown",
   "id": "5ef03321",
   "metadata": {},
   "source": [
    "### Specify the latitudes and longitudes"
   ]
  },
  {
   "cell_type": "code",
   "execution_count": null,
   "id": "c2f79e5a",
   "metadata": {},
   "outputs": [],
   "source": [
    "new_events = pd.read_csv('../data/datasets_2014/new_events.csv')"
   ]
  },
  {
   "cell_type": "code",
   "execution_count": null,
   "id": "5d048ab8",
   "metadata": {},
   "outputs": [],
   "source": [
    "idx = new_events[new_events['station']=='J25B']['idx'].values\n",
    "idx"
   ]
  },
  {
   "cell_type": "code",
   "execution_count": null,
   "id": "db3d4c0b",
   "metadata": {},
   "outputs": [],
   "source": [
    "new_events = new_events[new_events[\"idx\"].isin(idx)]\n",
    "new_events"
   ]
  },
  {
   "cell_type": "code",
   "execution_count": null,
   "id": "ac241e77",
   "metadata": {},
   "outputs": [],
   "source": [
    "new_events_specific_lat_lon = new_events.loc[(new_events['latitude']>46)&(new_events['latitude']<47.5)&(new_events['longitude']<-124)&(new_events['longitude']>-126)]\n",
    "new_events_specific_lat_lon"
   ]
  },
  {
   "cell_type": "code",
   "execution_count": null,
   "id": "1c610d2a",
   "metadata": {},
   "outputs": [],
   "source": [
    "# new_events = new_events_specific_lat_lon.loc[(new_events_specific_lat_lon['depth']>1)&(new_events_specific_lat_lon['depth']<40)]\n",
    "new_events = new_events_specific_lat_lon.loc[new_events_specific_lat_lon['picks']>=6][0:30]\n",
    "new_events"
   ]
  },
  {
   "cell_type": "markdown",
   "id": "60eda7e0",
   "metadata": {},
   "source": [
    "### Histogram: Depths of events"
   ]
  },
  {
   "cell_type": "code",
   "execution_count": null,
   "id": "92381c64",
   "metadata": {},
   "outputs": [],
   "source": [
    "# Plot the histogram of the number of picks for the matched events\n",
    "plt.figure()\n",
    "bins = np.linspace(0,50,25)\n",
    "plt.hist(new_events['depth'],bins=bins)\n",
    "plt.xlabel('Depth (km)')\n",
    "plt.ylabel('Number of Events')\n",
    "plt.title('Histogram of the depths of the events in the cluster at ~46.5$^\\circ$ N')"
   ]
  },
  {
   "cell_type": "markdown",
   "id": "436cab64",
   "metadata": {},
   "source": [
    "### Plot HH?"
   ]
  },
  {
   "cell_type": "code",
   "execution_count": null,
   "id": "2f35b6a6",
   "metadata": {
    "scrolled": true
   },
   "outputs": [],
   "source": [
    "# parameters\n",
    "mycatalog= mycatalog\n",
    "mycatalog_picks=mycatalog_picks\n",
    "networks= all_picks_networks\n",
    "channel= \"HH?\"\n",
    "idx_sta= 50\n",
    "title= \"Events matched\"\n",
    "fig_title= \"events_matched.png\"\n",
    "ylim= [0,300]\n",
    "xlim= [30,45]\n",
    "\n",
    "for idx in new_events['idx']:\n",
    "    subplots_cluster_scale_p(idx,mycatalog,mycatalog_picks,networks,channel,idx_sta,title,fig_title,ylim,xlim)"
   ]
  },
  {
   "cell_type": "markdown",
   "id": "ad72ab1e",
   "metadata": {},
   "source": [
    "### Plot BH?"
   ]
  },
  {
   "cell_type": "code",
   "execution_count": null,
   "id": "c369c148",
   "metadata": {
    "scrolled": true
   },
   "outputs": [],
   "source": [
    "# parameters\n",
    "mycatalog= mycatalog\n",
    "mycatalog_picks=mycatalog_picks\n",
    "networks= all_picks_networks\n",
    "channel= \"BH?\"\n",
    "idx_sta= 50\n",
    "title= \"Events matched\"\n",
    "fig_title= \"events_matched.png\"\n",
    "ylim= [0,300]\n",
    "xlim= [30,45]\n",
    "\n",
    "for idx in new_events['idx']:\n",
    "    subplots_cluster_scale_p(idx,mycatalog,mycatalog_picks,networks,channel,idx_sta,title,fig_title,ylim,xlim)"
   ]
  },
  {
   "cell_type": "markdown",
   "id": "88c6211d",
   "metadata": {},
   "source": [
    "### Plot both HH? and BH?"
   ]
  },
  {
   "cell_type": "code",
   "execution_count": null,
   "id": "cf66bf4b",
   "metadata": {},
   "outputs": [],
   "source": [
    "new_events['datetime'] = pd.to_datetime(new_events['datetime'], utc = True)\n",
    "new_events"
   ]
  },
  {
   "cell_type": "code",
   "execution_count": null,
   "id": "b0f15bcc",
   "metadata": {
    "scrolled": true
   },
   "outputs": [],
   "source": [
    "# parameters for subplots_cluster_scale_p\n",
    "mycatalog= mycatalog\n",
    "mycatalog_picks=mycatalog_picks\n",
    "networks= all_picks_networks\n",
    "channel= \"?H?\"\n",
    "idx_sta= 50\n",
    "title= \"Events matched\"\n",
    "fig_title= \"events_matched.png\"\n",
    "\n",
    "for idx in new_events['idx']:\n",
    "    subplots_cluster_scale_p(idx,new_events,mycatalog_picks,networks,channel,idx_sta,title,fig_title)"
   ]
  },
  {
   "cell_type": "code",
   "execution_count": null,
   "id": "2ae32807",
   "metadata": {
    "scrolled": true
   },
   "outputs": [],
   "source": [
    "# parameters for subplots_cluster_scale\n",
    "mycatalog= mycatalog\n",
    "mycatalog_picks=mycatalog_picks\n",
    "networks= all_picks_networks\n",
    "channel= \"?H?\"\n",
    "idx_sta= 50\n",
    "title= \"Events matched\"\n",
    "fig_title= \"new_events_plots.pdf\"\n",
    "\n",
    "subplots_cluster_scale(new_events,mycatalog_picks,networks,channel,idx_sta,title,fig_title)"
   ]
  },
  {
   "cell_type": "code",
   "execution_count": null,
   "id": "7e815a03",
   "metadata": {},
   "outputs": [],
   "source": [
    "# Plot the histogram of the number of picks for the matched events\n",
    "new_events['time'] = pd.to_datetime(new_events['time'])\n",
    "year1 = 2012\n",
    "time1 = datetime(year=year1, month=1, day=1)\n",
    "time2 = datetime(year=year1 + 1, month=1, day=1)\n",
    "time_bins = pd.date_range(start=time1, end=time2, freq='5D')\n",
    "plt.figure()\n",
    "plt.hist(new_events['time'], bins=time_bins)\n",
    "plt.xlabel('Days')\n",
    "plt.ylabel('Number of Events')\n",
    "plt.title('Histogram for the frequency of the events in the cluster at ~46.5$^\\circ$ N')\n",
    "plt.xticks(rotation=45)  # Optional: Rotate x-axis labels for better readability\n",
    "plt.show()"
   ]
  },
  {
   "cell_type": "code",
   "execution_count": null,
   "id": "b02952d7",
   "metadata": {},
   "outputs": [],
   "source": [
    "import matplotlib \n",
    "from matplotlib import pyplot as plt \n",
    "from matplotlib.backends.backend_pdf import PdfPages \n",
    "\n",
    "# customizing runtime configuration stored \n",
    "# in matplotlib.rcParams \n",
    "plt.rcParams[\"figure.figsize\"] = [7.00, 3.50] \n",
    "plt.rcParams[\"figure.autolayout\"] = True\n",
    "\n",
    "fig1 = plt.figure() \n",
    "plt.plot([17, 45, 7, 8, 7], color='orange') \n",
    "\n",
    "fig2 = plt.figure() \n",
    "plt.plot([13, 25, 1, 6, 3], color='blue') \n",
    "\n",
    "Fig3 = plt.figure() \n",
    "plt.plot([22, 11, 2, 1, 23], color='green') \n",
    "\n",
    "\n",
    "def save_image(filename): \n",
    "\t\n",
    "\t# PdfPages is a wrapper around pdf \n",
    "\t# file so there is no clash and create \n",
    "\t# files with no error. \n",
    "\tp = PdfPages(filename) \n",
    "\t\n",
    "\t# get_fignums Return list of existing \n",
    "\t# figure numbers \n",
    "\tfig_nums = plt.get_fignums() \n",
    "\tfigs = [plt.figure(n) for n in fig_nums] \n",
    "\t\n",
    "\t# iterating over the numbers in list \n",
    "\tfor fig in figs: \n",
    "\t\t\n",
    "\t\t# and saving the files \n",
    "\t\tfig.savefig(p, format='pdf') \n",
    "\t\n",
    "\t# close the object \n",
    "\tp.close() \n",
    "\n",
    "# name your Pdf file \n",
    "filename = \"multi_plot_image.pdf\"\n",
    "\n",
    "# call the function \n",
    "save_image(filename) \n"
   ]
  },
  {
   "cell_type": "markdown",
   "id": "1c84d3bd",
   "metadata": {},
   "source": [
    "## Plot the cluster events at around 43.25&deg; N, 124.25&deg; W using the plotting functions "
   ]
  },
  {
   "cell_type": "code",
   "execution_count": null,
   "id": "6de7f122",
   "metadata": {},
   "outputs": [],
   "source": [
    "new_events_specific_lat_lon = unmatched_events_mycatalog2morton_and_anss.loc[(unmatched_events_mycatalog2morton_and_anss['latitude']>43.0)&(unmatched_events_mycatalog2morton_and_anss['latitude']<43.3)&(unmatched_events_mycatalog2morton_and_anss['longitude']<-124.25)&(unmatched_events_mycatalog2morton_and_anss['longitude']>-124.75)]\n",
    "new_events_specific_lat_lon"
   ]
  },
  {
   "cell_type": "code",
   "execution_count": null,
   "id": "6556db77",
   "metadata": {},
   "outputs": [],
   "source": [
    "new_events = new_events_specific_lat_lon.loc[new_events_specific_lat_lon['picks']>5]\n",
    "new_events"
   ]
  },
  {
   "cell_type": "markdown",
   "id": "e0fa50fe",
   "metadata": {},
   "source": [
    "### Plot HH?"
   ]
  },
  {
   "cell_type": "code",
   "execution_count": null,
   "id": "d16f802f",
   "metadata": {},
   "outputs": [],
   "source": [
    "# parameters\n",
    "mycatalog= mycatalog\n",
    "mycatalog_picks=mycatalog_picks\n",
    "networks= all_picks_networks\n",
    "channel= \"HH?\"\n",
    "idx_sta= 50\n",
    "title= \"Events matched\"\n",
    "fig_title= \"events_matched.png\"\n",
    "ylim= [0,300]\n",
    "xlim= [20,150]\n",
    "\n",
    "for idx in new_events['idx']:\n",
    "    subplots_cluster_scale_p(idx,mycatalog,mycatalog_picks,networks,channel,idx_sta,title,fig_title,ylim,xlim)"
   ]
  },
  {
   "cell_type": "markdown",
   "id": "5d0acaf0",
   "metadata": {},
   "source": [
    "### Plot BH?"
   ]
  },
  {
   "cell_type": "code",
   "execution_count": null,
   "id": "4baf7b1d",
   "metadata": {},
   "outputs": [],
   "source": [
    "# parameters\n",
    "mycatalog= mycatalog\n",
    "mycatalog_picks=mycatalog_picks\n",
    "networks= all_picks_networks\n",
    "channel= \"BH?\"\n",
    "idx_sta= 50\n",
    "title= \"Events matched\"\n",
    "fig_title= \"events_matched.png\"\n",
    "ylim= [0,300]\n",
    "xlim= [20,150]\n",
    "\n",
    "for idx in new_events['idx']:\n",
    "    subplots_cluster_scale_p(idx,mycatalog,mycatalog_picks,networks,channel,idx_sta,title,fig_title,ylim,xlim)"
   ]
  },
  {
   "cell_type": "markdown",
   "id": "863afcd8",
   "metadata": {},
   "source": [
    "## Calculate SNRs"
   ]
  },
  {
   "cell_type": "code",
   "execution_count": null,
   "id": "b8944e86",
   "metadata": {},
   "outputs": [],
   "source": [
    "all_picks = pd.read_csv('../data/datasets_2014/all_picks_2014.csv')\n",
    "all_pick_assignments = pd.read_csv('../data/datasets_2014/all_pick_assignments_2014.csv')"
   ]
  },
  {
   "cell_type": "code",
   "execution_count": null,
   "id": "d3ab9ea3",
   "metadata": {},
   "outputs": [],
   "source": [
    "def calc_snr(all_picks,all_pick_assignments):\n",
    "    \"\"\" \n",
    "    This function calculates the SNRs for each station in each event.\n",
    "    \n",
    "    Inputs:\n",
    "    1. The all_pick.csv file from the 2_format_pick2associate file.\n",
    "    2. The all_pick_assignments.csv file from the 3_association file.\n",
    "    \n",
    "    Oututs:\n",
    "    The new all_pick_assignments_snr file with the additional SNR column.\n",
    "    \"\"\"\n",
    "    \n",
    "    # Create the list of networks\n",
    "    all_picks_networks = all_picks['station_network_code'].drop_duplicates()\n",
    "    list_networks = list(all_picks_networks)\n",
    "    networks = ','.join(all_picks_networks)\n",
    "    \n",
    "    \n",
    "    \n",
    "    # Define the clients \n",
    "    client_waveform = WaveformClient()\n",
    "    client2 = Client(\"IRIS\")\n",
    "    client_ncedc = Client('NCEDC')\n",
    "    \n",
    "    all_pick_assignments['datetime'] = pd.to_datetime(all_pick_assignments['time'], utc = True)\n",
    "\n",
    "    \n",
    "    # Define parameters\n",
    "    percentile=98\n",
    "    \n",
    "    # Create empty lists\n",
    "    snr_list = []\n",
    "        \n",
    "    # Make sure if a station for an event has more than 1 P or S pick\n",
    "    for idx in all_pick_assignments['idx'].drop_duplicates():\n",
    "        # Define parameters\n",
    "        otime = UTCDateTime(str(all_pick_assignments[all_pick_assignments['idx'] == idx][\"datetime\"].values[0]))\n",
    "\n",
    "\n",
    "        # Create empty lists\n",
    "        networks_stas = []\n",
    "\n",
    "        # Plot the earthquake moveout for one of the unmatched events for all stations \n",
    "    #     event = mycatalog\n",
    "        pick_idx = all_pick_assignments.loc[all_pick_assignments['idx']==idx]\n",
    "        pick_sta = np.unique(pick_idx['station'])\n",
    "        \n",
    "    #     distances = []\n",
    "    #     max_dist = 10\n",
    "    #     min_dist = 0\n",
    "        for station in pick_sta:\n",
    "\n",
    "            sta_inv = client2.get_stations(network=networks,\n",
    "                                           station=station, channel=\"?H?\", \n",
    "                                           starttime=otime - 1e8, endtime=otime + 1e8,level=\"response\")\n",
    "            if len(sta_inv) == 0:\n",
    "                print(f'No inventory for station {station}. Skipping.')\n",
    "                continue\n",
    "\n",
    "            network = sta_inv[0].code\n",
    "    #         slat = sta_inv[0][0].latitude\n",
    "    #         slon = sta_inv[0][0].longitude\n",
    "    #         olat = event.loc[event['idx']==idx, 'latitude'].values[0]\n",
    "    #         olon = event.loc[event['idx']==idx, 'longitude'].values[0]\n",
    "\n",
    "    #         dis1 = locations2degrees(olat, olon, slat, slon)\n",
    "    #         dist = degrees2kilometers(dis1)\n",
    "    # #         if max_dist < dist:\n",
    "    # #             max_dist = dist\n",
    "\n",
    "    # #         if min_dist > dist:\n",
    "    # #             min_dist = dist\n",
    "\n",
    "            networks_stas.append([network,station])\n",
    "        \n",
    "   \n",
    "        events = all_pick_assignments[all_pick_assignments['idx']==idx]\n",
    "        for i in networks_stas:\n",
    "            events1 = events[events['station']==i[1]]\n",
    "            p_picks = events1[events1['phase']=='P']\n",
    "            s_picks = events1[events1['phase']=='S']\n",
    "            \n",
    "\n",
    "            if len(p_picks)>0 and len(s_picks)>0:\n",
    "                print(p_picks['datetime'].values,s_picks['datetime'].values)\n",
    "                p_pick_time = UTCDateTime(str(p_picks['datetime'].values[0]))\n",
    "                s_pick_time = UTCDateTime(str(s_picks['datetime'].values[0]))\n",
    "                \n",
    "                starttime_st = UTCDateTime(p_pick_time)-timedelta(seconds=120)\n",
    "                endtime_st = UTCDateTime(p_pick_time)+timedelta(seconds=120)\n",
    "                \n",
    "                starttime_noise = UTCDateTime(p_pick_time)-timedelta(seconds=8)\n",
    "                endtime_noise = UTCDateTime(p_pick_time)\n",
    "                \n",
    "                starttime_signal = UTCDateTime(s_pick_time)-timedelta(seconds=1)\n",
    "                endtime_signal = UTCDateTime(s_pick_time)+timedelta(seconds=2)\n",
    "                \n",
    "                print(starttime_noise,endtime_noise)\n",
    "            \n",
    "                if i[0] in ['NC', 'BK']:\n",
    "                # Query waveforms\n",
    "                    st = client_ncedc.get_waveforms(network=i[0], station=i[1],\n",
    "                                                    location=\"*\", channel=\"?HZ\",starttime=starttime_st,\n",
    "                                                    endtime=endtime_st)\n",
    "\n",
    "                elif i[0] in networks: \n",
    "                    st = client_waveform.get_waveforms(network=i[0], station=i[1],\n",
    "                                                       channel='?HZ',starttime=starttime_st, endtime=endtime_st)\n",
    "\n",
    "                else: \n",
    "                    st =  Stream()\n",
    "                    print(f\"WARNING: No data for {ii[1]}.{ii[2]}.{channel} on {otime}.\")    \n",
    "                    continue\n",
    "\n",
    "        #         print(f\"len(st):{len(st)}\")\n",
    "        #         print(st)\n",
    "\n",
    "                # Skip empty traces\n",
    "                if len(st) == 0:\n",
    "                    continue\n",
    "                    \n",
    "                print(f'First st print:{st}')\n",
    "                # Create a new stream\n",
    "                _st = Stream()\n",
    "                # Check for HH and BH channels presence\n",
    "                has_HH = bool(st.select(channel=\"HH?\"))\n",
    "                has_BH = bool(st.select(channel=\"BH?\"))\n",
    "\n",
    "                # Apply selection logic based on channel presence\n",
    "                if has_HH and has_BH:\n",
    "                    # If both HH and BH channels are present, select only HH\n",
    "                    _st += st.select(channel=\"HH?\")\n",
    "                elif has_HH:\n",
    "                    # If only HH channels are present\n",
    "                    _st += st.select(channel=\"HH?\")\n",
    "                elif has_BH:\n",
    "                    # If only BH channels are present\n",
    "                    _st += st.select(channel=\"BH?\")\n",
    "\n",
    "                _st.merge(fill_value='interpolate') # fill gaps if there are any.\n",
    "\n",
    "                print(f'Second st print:{_st}')\n",
    "            \n",
    "                noise = _st.copy().trim(starttime=starttime_noise,endtime=endtime_noise)    \n",
    "                signal = _st.copy().trim(starttime=starttime_signal,endtime=endtime_signal) \n",
    "                \n",
    "                print(f\"P and S pick times:{p_pick_time} and {s_pick_time}\")\n",
    "                print(f\"Stream start and end times:{starttime_st} and {endtime_st}\")\n",
    "                print(f\"Noise start and end times:{starttime_noise} and {endtime_noise}\")\n",
    "                print(f\"Signal start and end times:{starttime_signal} and {endtime_signal}\")\n",
    "                \n",
    "                print(f'Noise:{noise}')\n",
    "                print(f'Signal:{signal}')\n",
    "\n",
    "                noise_abs = np.percentile(abs(noise[0].data),percentile)\n",
    "                signal_abs = np.percentile(abs(signal[0].data),percentile)\n",
    "\n",
    "                snr = 20 * np.log10((signal_abs/noise_abs))\n",
    "\n",
    "                snr_list.append(snr)\n",
    "                \n",
    "            if len(p_picks)>0 and len(s_picks)==0:\n",
    "                \n",
    "                print(p_picks['datetime'].values,s_picks['datetime'].values)\n",
    "                p_pick_time = UTCDateTime(str(p_picks['datetime'].values[0]))\n",
    "#                 s_pick_time = UTCDateTime(str(s_picks['datetime'].values[0]))\n",
    "\n",
    "                starttime_st = UTCDateTime(p_pick_time)-timedelta(seconds=120)\n",
    "                endtime_st = UTCDateTime(p_pick_time)+timedelta(seconds=120)\n",
    "                \n",
    "                starttime_noise = UTCDateTime(p_pick_time)-timedelta(seconds=8)\n",
    "                endtime_noise = UTCDateTime(p_pick_time)\n",
    "                \n",
    "                starttime_signal = UTCDateTime(p_pick_time)+timedelta(seconds=1)\n",
    "                endtime_signal = UTCDateTime(p_pick_time)+timedelta(seconds=4)\n",
    "                \n",
    "            \n",
    "                if i[0] in ['NC', 'BK']:\n",
    "                # Query waveforms\n",
    "                    st = client_ncedc.get_waveforms(network=i[0], station=i[1],\n",
    "                                                    location=\"*\", channel=\"?HZ\",starttime=starttime_st, \n",
    "                                                    endtime=endtime_st)\n",
    "\n",
    "                elif i[0] in networks: \n",
    "                    st = client_waveform.get_waveforms(network=i[0], station=i[1],\n",
    "                                                       channel='?HZ',starttime=starttime_st, endtime=endtime_st)\n",
    "\n",
    "                else: \n",
    "                    st =  Stream()\n",
    "                    print(f\"WARNING: No data for {ii[1]}.{ii[2]}.{channel} on {otime}.\")    \n",
    "                    continue\n",
    "\n",
    "        #         print(f\"len(st):{len(st)}\")\n",
    "        #         print(st)\n",
    "\n",
    "                # Skip empty traces\n",
    "                if len(st) == 0:\n",
    "                    continue\n",
    "                print(f'First st print:{st}')\n",
    "                # Create a new stream\n",
    "                _st = Stream()\n",
    "                # Check for HH and BH channels presence\n",
    "                has_HH = bool(st.select(channel=\"HH?\"))\n",
    "                has_BH = bool(st.select(channel=\"BH?\"))\n",
    "\n",
    "                # Apply selection logic based on channel presence\n",
    "                if has_HH and has_BH:\n",
    "                    # If both HH and BH channels are present, select only HH\n",
    "                    _st += st.select(channel=\"HH?\")\n",
    "                elif has_HH:\n",
    "                    # If only HH channels are present\n",
    "                    _st += st.select(channel=\"HH?\")\n",
    "                elif has_BH:\n",
    "                    # If only BH channels are present\n",
    "                    _st += st.select(channel=\"BH?\")\n",
    "\n",
    "                _st.merge(fill_value='interpolate') # fill gaps if there are any.\n",
    "\n",
    "                print(f'Second st print:{_st}')\n",
    "                \n",
    "                \n",
    "                    \n",
    "\n",
    "                noise = _st.copy().trim(starttime=starttime_noise,endtime=endtime_noise)    \n",
    "                signal = _st.copy().trim(starttime=starttime_signal,endtime=endtime_signal) \n",
    "                \n",
    "                print(f\"P pick time:{p_pick_time}\")\n",
    "                print(f\"Stream start and end times:{starttime_st} and {endtime_st}\")\n",
    "                print(f\"Noise start and end times:{starttime_noise} and {endtime_noise}\")\n",
    "                print(f\"Signal start and end times:{starttime_signal} and {endtime_signal}\")\n",
    "\n",
    "                print(f'Noise:{noise}')\n",
    "                print(f'Signal:{signal}')\n",
    "\n",
    "                noise_abs = np.percentile(abs(noise[0].data),percentile)\n",
    "                signal_abs = np.percentile(abs(signal[0].data),percentile)\n",
    "\n",
    "                snr = 20 * np.log10((signal_abs/noise_abs))\n",
    "\n",
    "                snr_list.append(snr)\n",
    "                    \n",
    "            if len(p_picks)==0 and len(s_picks)>0:\n",
    "                print(p_picks['datetime'].values,s_picks['datetime'].values)\n",
    "#                 p_pick_time = UTCDateTime(str(p_picks['datetime'].values))\n",
    "                s_pick_time = UTCDateTime(str(s_picks['datetime'].values[0]))\n",
    "    \n",
    "                starttime_st = UTCDateTime(s_pick_time)-timedelta(seconds=120)\n",
    "                endtime_st = UTCDateTime(s_pick_time)+timedelta(seconds=120)\n",
    "                \n",
    "                starttime_noise = UTCDateTime(s_pick_time)-timedelta(seconds=8)\n",
    "                endtime_noise = UTCDateTime(s_pick_time)\n",
    "                \n",
    "                starttime_signal = UTCDateTime(s_pick_time)\n",
    "                endtime_signal = UTCDateTime(s_pick_time)+timedelta(seconds=3)\n",
    "                \n",
    "                print(starttime_noise,endtime_noise)\n",
    "            \n",
    "                if i[0] in ['NC', 'BK']:\n",
    "                # Query waveforms\n",
    "                    st = client_ncedc.get_waveforms(network=i[0], station=i[1],\n",
    "                                                    location=\"*\", channel=\"?HZ\",starttime=starttime_st, \n",
    "                                                    endtime=endtime_st)\n",
    "\n",
    "                elif i[0] in networks: \n",
    "                    st = client_waveform.get_waveforms(network=i[0], station=i[1],\n",
    "                                                       channel='?HZ',starttime=starttime_st, endtime=endtime_st)\n",
    "\n",
    "                else: \n",
    "                    st =  Stream()\n",
    "                    print(f\"WARNING: No data for {ii[1]}.{ii[2]}.{channel} on {otime}.\")    \n",
    "                    continue\n",
    "\n",
    "        #         print(f\"len(st):{len(st)}\")\n",
    "        #         print(st)\n",
    "\n",
    "                # Skip empty traces\n",
    "                if len(st) == 0:\n",
    "                    continue\n",
    "                    \n",
    "                print(f'First st print:{st}')\n",
    "                # Create a new stream\n",
    "                _st = Stream()\n",
    "                # Check for HH and BH channels presence\n",
    "                has_HH = bool(st.select(channel=\"HH?\"))\n",
    "                has_BH = bool(st.select(channel=\"BH?\"))\n",
    "\n",
    "                # Apply selection logic based on channel presence\n",
    "                if has_HH and has_BH:\n",
    "                    # If both HH and BH channels are present, select only HH\n",
    "                    _st += st.select(channel=\"HH?\")\n",
    "                elif has_HH:\n",
    "                    # If only HH channels are present\n",
    "                    _st += st.select(channel=\"HH?\")\n",
    "                elif has_BH:\n",
    "                    # If only BH channels are present\n",
    "                    _st += st.select(channel=\"BH?\")\n",
    "\n",
    "                _st.merge(fill_value='interpolate') # fill gaps if there are any.\n",
    "\n",
    "                print(f'Second st print:{_st}')\n",
    "\n",
    "            \n",
    "                noise = _st.copy().trim(starttime=starttime_noise,endtime=endtime_noise)    \n",
    "                signal = _st.copy().trim(starttime=starttime_signal,endtime=endtime_signal) \n",
    "                \n",
    "                print(f\"S pick time:{s_pick_time}\")\n",
    "                print(f\"Stream start and end times:{starttime_st} and {endtime_st}\")\n",
    "                print(f\"Noise start and end times:{starttime_noise} and {endtime_noise}\")\n",
    "                print(f\"Signal start and end times:{starttime_signal} and {endtime_signal}\")\n",
    "                \n",
    "                print(f'Noise:{noise}')\n",
    "                print(f'Signal:{signal}')\n",
    "\n",
    "                noise_abs = np.percentile(abs(noise[0].data),percentile)\n",
    "                signal_abs = np.percentile(abs(signal[0].data),percentile)\n",
    "\n",
    "                snr = 20 * np.log10((signal_abs/noise_abs))\n",
    "\n",
    "                snr_list.append(snr)\n",
    "            \n",
    "    all_assignments_picks['snr']=snr_list\n",
    "     \n",
    "    return snr_list"
   ]
  },
  {
   "cell_type": "code",
   "execution_count": null,
   "id": "52736088",
   "metadata": {},
   "outputs": [],
   "source": [
    "snr_list = calc_snr(all_picks,all_pick_assignments)"
   ]
  },
  {
   "cell_type": "code",
   "execution_count": null,
   "id": "48ed9de0",
   "metadata": {},
   "outputs": [],
   "source": [
    "snr_list"
   ]
  },
  {
   "cell_type": "code",
   "execution_count": null,
   "id": "566c5668",
   "metadata": {},
   "outputs": [],
   "source": [
    "client_waveform = WaveformClient()\n",
    "\n",
    "p_pick_time = '2014-01-02T07:40:02.642533Z'\n",
    "\n",
    "starttime_st = UTCDateTime(p_pick_time)-timedelta(seconds=120)\n",
    "endtime_st = UTCDateTime(p_pick_time)+timedelta(seconds=120)\n",
    "\n",
    "# starttime_st = UTCDateTime('2011-01-03T00:00:0.000000Z')\n",
    "# endtime_st = UTCDateTime('2011-01-03T12:59:59.000000Z')\n",
    "\n",
    "print(f'Requested start and end times:{starttime_st} and {endtime_st}')\n",
    "\n",
    "\n",
    "st = client_waveform.get_waveforms(network='CN', station='BTB',\n",
    "                                       channel='HHZ',starttime=starttime_st, endtime=endtime_st)\n",
    "print(f'Actual start and end times: {st[0].stats.starttime} and {st[0].stats.endtime}')\n"
   ]
  },
  {
   "cell_type": "code",
   "execution_count": null,
   "id": "236a901a",
   "metadata": {},
   "outputs": [],
   "source": []
  }
 ],
 "metadata": {
  "kernelspec": {
   "display_name": "seismo (SHARED)",
   "language": "python",
   "name": "seismo"
  },
  "language_info": {
   "codemirror_mode": {
    "name": "ipython",
    "version": 3
   },
   "file_extension": ".py",
   "mimetype": "text/x-python",
   "name": "python",
   "nbconvert_exporter": "python",
   "pygments_lexer": "ipython3",
   "version": "3.9.18"
  }
 },
 "nbformat": 4,
 "nbformat_minor": 5
}
