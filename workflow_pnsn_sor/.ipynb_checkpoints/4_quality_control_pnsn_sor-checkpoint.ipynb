{
 "cells": [
  {
   "cell_type": "code",
   "execution_count": null,
   "id": "a9659be3",
   "metadata": {},
   "outputs": [],
   "source": [
    "# pip install basemap\n"
   ]
  },
  {
   "cell_type": "code",
   "execution_count": 1,
   "id": "c92e5226",
   "metadata": {},
   "outputs": [],
   "source": [
    "import os\n",
    "import sys\n",
    "import pandas as pd\n",
    "import numpy as np\n",
    "import obspy\n",
    "from tqdm import tqdm\n",
    "\n",
    "from obspy.clients.fdsn import Client\n",
    "from obspy.clients.fdsn import Client as FDSNClient\n",
    "\n",
    "from mpl_toolkits.basemap import Basemap\n",
    "\n",
    "\n",
    "from pnwstore.mseed import WaveformClient\n",
    "from datetime import datetime\n",
    "from matplotlib import pyplot as plt\n",
    "from matplotlib.backends.backend_pdf import PdfPages\n",
    "\n",
    "from obspy import UTCDateTime\n",
    "\n",
    "from tqdm import tqdm\n",
    "from obspy.geodetics import locations2degrees, degrees2kilometers\n",
    "\n",
    "notebook_dir = os.getcwd()\n",
    "parent_dir = os.path.abspath(os.path.join(notebook_dir, '../'))\n",
    "if parent_dir not in sys.path:\n",
    "    sys.path.append(parent_dir)\n",
    "    \n",
    "from plot_utils import *\n",
    "from qc_utils import * "
   ]
  },
  {
   "cell_type": "markdown",
   "id": "ce408df1",
   "metadata": {},
   "source": [
    "## Morton Catalog"
   ]
  },
  {
   "cell_type": "code",
   "execution_count": 2,
   "id": "6bd019d5",
   "metadata": {},
   "outputs": [
    {
     "data": {
      "text/html": [
       "<div>\n",
       "<style scoped>\n",
       "    .dataframe tbody tr th:only-of-type {\n",
       "        vertical-align: middle;\n",
       "    }\n",
       "\n",
       "    .dataframe tbody tr th {\n",
       "        vertical-align: top;\n",
       "    }\n",
       "\n",
       "    .dataframe thead th {\n",
       "        text-align: right;\n",
       "    }\n",
       "</style>\n",
       "<table border=\"1\" class=\"dataframe\">\n",
       "  <thead>\n",
       "    <tr style=\"text-align: right;\">\n",
       "      <th></th>\n",
       "      <th>CI YEAR</th>\n",
       "      <th>TSTRING</th>\n",
       "      <th>YEAR</th>\n",
       "      <th>MONTH</th>\n",
       "      <th>DAY</th>\n",
       "      <th>HOUR</th>\n",
       "      <th>MINUTE</th>\n",
       "      <th>SECOND</th>\n",
       "      <th>LAT</th>\n",
       "      <th>LON</th>\n",
       "      <th>...</th>\n",
       "      <th>dist to nearest stn</th>\n",
       "      <th>tt RMS</th>\n",
       "      <th>ERH</th>\n",
       "      <th>ERZ</th>\n",
       "      <th>STRIKE</th>\n",
       "      <th>DIP</th>\n",
       "      <th>RAKE</th>\n",
       "      <th>PLATE DESIGNATION</th>\n",
       "      <th>TEMPLATE EVENT?</th>\n",
       "      <th>datetime</th>\n",
       "    </tr>\n",
       "  </thead>\n",
       "  <tbody>\n",
       "    <tr>\n",
       "      <th>0</th>\n",
       "      <td>1.0</td>\n",
       "      <td>2.011073e+13</td>\n",
       "      <td>2011.0</td>\n",
       "      <td>7.0</td>\n",
       "      <td>26.0</td>\n",
       "      <td>1.0</td>\n",
       "      <td>2.0</td>\n",
       "      <td>7.37</td>\n",
       "      <td>47.3217</td>\n",
       "      <td>-123.2708</td>\n",
       "      <td>...</td>\n",
       "      <td>27.4</td>\n",
       "      <td>0.19</td>\n",
       "      <td>0.8</td>\n",
       "      <td>1.2</td>\n",
       "      <td>NaN</td>\n",
       "      <td>NaN</td>\n",
       "      <td>NaN</td>\n",
       "      <td>Interface</td>\n",
       "      <td>Catalog</td>\n",
       "      <td>2011-07-26 01:02:07+00:00</td>\n",
       "    </tr>\n",
       "    <tr>\n",
       "      <th>1</th>\n",
       "      <td>1.0</td>\n",
       "      <td>2.011073e+13</td>\n",
       "      <td>2011.0</td>\n",
       "      <td>7.0</td>\n",
       "      <td>26.0</td>\n",
       "      <td>1.0</td>\n",
       "      <td>2.0</td>\n",
       "      <td>7.72</td>\n",
       "      <td>44.2888</td>\n",
       "      <td>-124.3340</td>\n",
       "      <td>...</td>\n",
       "      <td>163.8</td>\n",
       "      <td>0.06</td>\n",
       "      <td>13.1</td>\n",
       "      <td>3.2</td>\n",
       "      <td>NaN</td>\n",
       "      <td>NaN</td>\n",
       "      <td>NaN</td>\n",
       "      <td>Upper Plate</td>\n",
       "      <td>NaN</td>\n",
       "      <td>2011-07-26 01:02:07+00:00</td>\n",
       "    </tr>\n",
       "    <tr>\n",
       "      <th>2</th>\n",
       "      <td>1.0</td>\n",
       "      <td>2.011073e+13</td>\n",
       "      <td>2011.0</td>\n",
       "      <td>7.0</td>\n",
       "      <td>26.0</td>\n",
       "      <td>1.0</td>\n",
       "      <td>2.0</td>\n",
       "      <td>8.56</td>\n",
       "      <td>44.3017</td>\n",
       "      <td>-124.3180</td>\n",
       "      <td>...</td>\n",
       "      <td>131.1</td>\n",
       "      <td>0.50</td>\n",
       "      <td>35.4</td>\n",
       "      <td>22.2</td>\n",
       "      <td>NaN</td>\n",
       "      <td>NaN</td>\n",
       "      <td>NaN</td>\n",
       "      <td>Upper Plate</td>\n",
       "      <td>NaN</td>\n",
       "      <td>2011-07-26 01:02:08+00:00</td>\n",
       "    </tr>\n",
       "    <tr>\n",
       "      <th>3</th>\n",
       "      <td>1.0</td>\n",
       "      <td>2.011073e+13</td>\n",
       "      <td>2011.0</td>\n",
       "      <td>7.0</td>\n",
       "      <td>26.0</td>\n",
       "      <td>7.0</td>\n",
       "      <td>31.0</td>\n",
       "      <td>2.17</td>\n",
       "      <td>48.2635</td>\n",
       "      <td>-124.9298</td>\n",
       "      <td>...</td>\n",
       "      <td>44.4</td>\n",
       "      <td>0.77</td>\n",
       "      <td>3.5</td>\n",
       "      <td>6.4</td>\n",
       "      <td>NaN</td>\n",
       "      <td>NaN</td>\n",
       "      <td>NaN</td>\n",
       "      <td>Upper Plate</td>\n",
       "      <td>NaN</td>\n",
       "      <td>2011-07-26 07:31:02+00:00</td>\n",
       "    </tr>\n",
       "    <tr>\n",
       "      <th>4</th>\n",
       "      <td>1.0</td>\n",
       "      <td>2.011073e+13</td>\n",
       "      <td>2011.0</td>\n",
       "      <td>7.0</td>\n",
       "      <td>26.0</td>\n",
       "      <td>9.0</td>\n",
       "      <td>50.0</td>\n",
       "      <td>27.63</td>\n",
       "      <td>48.3032</td>\n",
       "      <td>-124.9157</td>\n",
       "      <td>...</td>\n",
       "      <td>46.1</td>\n",
       "      <td>0.94</td>\n",
       "      <td>4.0</td>\n",
       "      <td>6.9</td>\n",
       "      <td>NaN</td>\n",
       "      <td>NaN</td>\n",
       "      <td>NaN</td>\n",
       "      <td>Upper Plate</td>\n",
       "      <td>T</td>\n",
       "      <td>2011-07-26 09:50:27+00:00</td>\n",
       "    </tr>\n",
       "  </tbody>\n",
       "</table>\n",
       "<p>5 rows × 24 columns</p>\n",
       "</div>"
      ],
      "text/plain": [
       "   CI YEAR       TSTRING    YEAR  MONTH   DAY  HOUR  MINUTE  SECOND      LAT  \\\n",
       "0      1.0  2.011073e+13  2011.0    7.0  26.0   1.0     2.0    7.37  47.3217   \n",
       "1      1.0  2.011073e+13  2011.0    7.0  26.0   1.0     2.0    7.72  44.2888   \n",
       "2      1.0  2.011073e+13  2011.0    7.0  26.0   1.0     2.0    8.56  44.3017   \n",
       "3      1.0  2.011073e+13  2011.0    7.0  26.0   7.0    31.0    2.17  48.2635   \n",
       "4      1.0  2.011073e+13  2011.0    7.0  26.0   9.0    50.0   27.63  48.3032   \n",
       "\n",
       "        LON  ...  dist to nearest stn  tt RMS   ERH   ERZ  STRIKE  DIP  RAKE  \\\n",
       "0 -123.2708  ...                 27.4    0.19   0.8   1.2     NaN  NaN   NaN   \n",
       "1 -124.3340  ...                163.8    0.06  13.1   3.2     NaN  NaN   NaN   \n",
       "2 -124.3180  ...                131.1    0.50  35.4  22.2     NaN  NaN   NaN   \n",
       "3 -124.9298  ...                 44.4    0.77   3.5   6.4     NaN  NaN   NaN   \n",
       "4 -124.9157  ...                 46.1    0.94   4.0   6.9     NaN  NaN   NaN   \n",
       "\n",
       "   PLATE DESIGNATION  TEMPLATE EVENT?                  datetime  \n",
       "0          Interface          Catalog 2011-07-26 01:02:07+00:00  \n",
       "1        Upper Plate              NaN 2011-07-26 01:02:07+00:00  \n",
       "2        Upper Plate              NaN 2011-07-26 01:02:08+00:00  \n",
       "3        Upper Plate              NaN 2011-07-26 07:31:02+00:00  \n",
       "4        Upper Plate                T 2011-07-26 09:50:27+00:00  \n",
       "\n",
       "[5 rows x 24 columns]"
      ]
     },
     "execution_count": 2,
     "metadata": {},
     "output_type": "execute_result"
    }
   ],
   "source": [
    "# Read Morton's catalog\n",
    "events_morton = pd.read_csv('../data/ds01.csv')\n",
    "# Convert the TSTRING to datetime\n",
    "events_morton['datetime'] = pd.to_datetime(events_morton['TSTRING'], format='%Y%m%d%H%M%S', utc=True)\n",
    "# Get the events in the Morton catalog \n",
    "t1 = pd.Timestamp('2011-1-1 00:00:00.000000+0000', tz='UTC')\n",
    "t2 = pd.Timestamp('2015-12-31 23:59:59.999999+0000', tz='UTC')\n",
    "\n",
    "events_morton= events_morton.loc[(events_morton['datetime'] > t1) & (events_morton['datetime'] < t2) ]\n",
    "\n",
    "events_morton.head()"
   ]
  },
  {
   "cell_type": "code",
   "execution_count": 3,
   "id": "c3e58514",
   "metadata": {},
   "outputs": [
    {
     "data": {
      "text/html": [
       "<div>\n",
       "<style scoped>\n",
       "    .dataframe tbody tr th:only-of-type {\n",
       "        vertical-align: middle;\n",
       "    }\n",
       "\n",
       "    .dataframe tbody tr th {\n",
       "        vertical-align: top;\n",
       "    }\n",
       "\n",
       "    .dataframe thead th {\n",
       "        text-align: right;\n",
       "    }\n",
       "</style>\n",
       "<table border=\"1\" class=\"dataframe\">\n",
       "  <thead>\n",
       "    <tr style=\"text-align: right;\">\n",
       "      <th></th>\n",
       "      <th>CI YEAR</th>\n",
       "      <th>TSTRING</th>\n",
       "      <th>YEAR</th>\n",
       "      <th>MONTH</th>\n",
       "      <th>DAY</th>\n",
       "      <th>HOUR</th>\n",
       "      <th>MINUTE</th>\n",
       "      <th>SECOND</th>\n",
       "      <th>LAT</th>\n",
       "      <th>LON</th>\n",
       "      <th>...</th>\n",
       "      <th>dist to nearest stn</th>\n",
       "      <th>tt RMS</th>\n",
       "      <th>ERH</th>\n",
       "      <th>ERZ</th>\n",
       "      <th>STRIKE</th>\n",
       "      <th>DIP</th>\n",
       "      <th>RAKE</th>\n",
       "      <th>PLATE DESIGNATION</th>\n",
       "      <th>TEMPLATE EVENT?</th>\n",
       "      <th>datetime</th>\n",
       "    </tr>\n",
       "  </thead>\n",
       "  <tbody>\n",
       "    <tr>\n",
       "      <th>0</th>\n",
       "      <td>1.0</td>\n",
       "      <td>2.011073e+13</td>\n",
       "      <td>2011.0</td>\n",
       "      <td>7.0</td>\n",
       "      <td>26.0</td>\n",
       "      <td>1.0</td>\n",
       "      <td>2.0</td>\n",
       "      <td>7.37</td>\n",
       "      <td>47.3217</td>\n",
       "      <td>-123.2708</td>\n",
       "      <td>...</td>\n",
       "      <td>27.4</td>\n",
       "      <td>0.19</td>\n",
       "      <td>0.8</td>\n",
       "      <td>1.2</td>\n",
       "      <td>NaN</td>\n",
       "      <td>NaN</td>\n",
       "      <td>NaN</td>\n",
       "      <td>Interface</td>\n",
       "      <td>Catalog</td>\n",
       "      <td>2011-07-26 01:02:07+00:00</td>\n",
       "    </tr>\n",
       "    <tr>\n",
       "      <th>1</th>\n",
       "      <td>1.0</td>\n",
       "      <td>2.011073e+13</td>\n",
       "      <td>2011.0</td>\n",
       "      <td>7.0</td>\n",
       "      <td>26.0</td>\n",
       "      <td>1.0</td>\n",
       "      <td>2.0</td>\n",
       "      <td>7.72</td>\n",
       "      <td>44.2888</td>\n",
       "      <td>-124.3340</td>\n",
       "      <td>...</td>\n",
       "      <td>163.8</td>\n",
       "      <td>0.06</td>\n",
       "      <td>13.1</td>\n",
       "      <td>3.2</td>\n",
       "      <td>NaN</td>\n",
       "      <td>NaN</td>\n",
       "      <td>NaN</td>\n",
       "      <td>Upper Plate</td>\n",
       "      <td>NaN</td>\n",
       "      <td>2011-07-26 01:02:07+00:00</td>\n",
       "    </tr>\n",
       "    <tr>\n",
       "      <th>2</th>\n",
       "      <td>1.0</td>\n",
       "      <td>2.011073e+13</td>\n",
       "      <td>2011.0</td>\n",
       "      <td>7.0</td>\n",
       "      <td>26.0</td>\n",
       "      <td>1.0</td>\n",
       "      <td>2.0</td>\n",
       "      <td>8.56</td>\n",
       "      <td>44.3017</td>\n",
       "      <td>-124.3180</td>\n",
       "      <td>...</td>\n",
       "      <td>131.1</td>\n",
       "      <td>0.50</td>\n",
       "      <td>35.4</td>\n",
       "      <td>22.2</td>\n",
       "      <td>NaN</td>\n",
       "      <td>NaN</td>\n",
       "      <td>NaN</td>\n",
       "      <td>Upper Plate</td>\n",
       "      <td>NaN</td>\n",
       "      <td>2011-07-26 01:02:08+00:00</td>\n",
       "    </tr>\n",
       "    <tr>\n",
       "      <th>3</th>\n",
       "      <td>1.0</td>\n",
       "      <td>2.011073e+13</td>\n",
       "      <td>2011.0</td>\n",
       "      <td>7.0</td>\n",
       "      <td>26.0</td>\n",
       "      <td>7.0</td>\n",
       "      <td>31.0</td>\n",
       "      <td>2.17</td>\n",
       "      <td>48.2635</td>\n",
       "      <td>-124.9298</td>\n",
       "      <td>...</td>\n",
       "      <td>44.4</td>\n",
       "      <td>0.77</td>\n",
       "      <td>3.5</td>\n",
       "      <td>6.4</td>\n",
       "      <td>NaN</td>\n",
       "      <td>NaN</td>\n",
       "      <td>NaN</td>\n",
       "      <td>Upper Plate</td>\n",
       "      <td>NaN</td>\n",
       "      <td>2011-07-26 07:31:02+00:00</td>\n",
       "    </tr>\n",
       "    <tr>\n",
       "      <th>4</th>\n",
       "      <td>1.0</td>\n",
       "      <td>2.011073e+13</td>\n",
       "      <td>2011.0</td>\n",
       "      <td>7.0</td>\n",
       "      <td>26.0</td>\n",
       "      <td>9.0</td>\n",
       "      <td>50.0</td>\n",
       "      <td>27.63</td>\n",
       "      <td>48.3032</td>\n",
       "      <td>-124.9157</td>\n",
       "      <td>...</td>\n",
       "      <td>46.1</td>\n",
       "      <td>0.94</td>\n",
       "      <td>4.0</td>\n",
       "      <td>6.9</td>\n",
       "      <td>NaN</td>\n",
       "      <td>NaN</td>\n",
       "      <td>NaN</td>\n",
       "      <td>Upper Plate</td>\n",
       "      <td>T</td>\n",
       "      <td>2011-07-26 09:50:27+00:00</td>\n",
       "    </tr>\n",
       "    <tr>\n",
       "      <th>...</th>\n",
       "      <td>...</td>\n",
       "      <td>...</td>\n",
       "      <td>...</td>\n",
       "      <td>...</td>\n",
       "      <td>...</td>\n",
       "      <td>...</td>\n",
       "      <td>...</td>\n",
       "      <td>...</td>\n",
       "      <td>...</td>\n",
       "      <td>...</td>\n",
       "      <td>...</td>\n",
       "      <td>...</td>\n",
       "      <td>...</td>\n",
       "      <td>...</td>\n",
       "      <td>...</td>\n",
       "      <td>...</td>\n",
       "      <td>...</td>\n",
       "      <td>...</td>\n",
       "      <td>...</td>\n",
       "      <td>...</td>\n",
       "      <td>...</td>\n",
       "    </tr>\n",
       "    <tr>\n",
       "      <th>5277</th>\n",
       "      <td>4.0</td>\n",
       "      <td>2.015101e+13</td>\n",
       "      <td>2015.0</td>\n",
       "      <td>10.0</td>\n",
       "      <td>7.0</td>\n",
       "      <td>8.0</td>\n",
       "      <td>1.0</td>\n",
       "      <td>50.83</td>\n",
       "      <td>40.5895</td>\n",
       "      <td>-124.0455</td>\n",
       "      <td>...</td>\n",
       "      <td>5.4</td>\n",
       "      <td>0.14</td>\n",
       "      <td>0.9</td>\n",
       "      <td>0.8</td>\n",
       "      <td>NaN</td>\n",
       "      <td>NaN</td>\n",
       "      <td>NaN</td>\n",
       "      <td>Slab</td>\n",
       "      <td>NaN</td>\n",
       "      <td>2015-10-07 08:01:50+00:00</td>\n",
       "    </tr>\n",
       "    <tr>\n",
       "      <th>5278</th>\n",
       "      <td>4.0</td>\n",
       "      <td>2.015101e+13</td>\n",
       "      <td>2015.0</td>\n",
       "      <td>10.0</td>\n",
       "      <td>7.0</td>\n",
       "      <td>8.0</td>\n",
       "      <td>7.0</td>\n",
       "      <td>8.40</td>\n",
       "      <td>40.5380</td>\n",
       "      <td>-123.7217</td>\n",
       "      <td>...</td>\n",
       "      <td>14.9</td>\n",
       "      <td>0.09</td>\n",
       "      <td>3.3</td>\n",
       "      <td>13.5</td>\n",
       "      <td>NaN</td>\n",
       "      <td>NaN</td>\n",
       "      <td>NaN</td>\n",
       "      <td>Upper Plate</td>\n",
       "      <td>NaN</td>\n",
       "      <td>2015-10-07 08:07:08+00:00</td>\n",
       "    </tr>\n",
       "    <tr>\n",
       "      <th>5279</th>\n",
       "      <td>4.0</td>\n",
       "      <td>2.015101e+13</td>\n",
       "      <td>2015.0</td>\n",
       "      <td>10.0</td>\n",
       "      <td>7.0</td>\n",
       "      <td>11.0</td>\n",
       "      <td>31.0</td>\n",
       "      <td>26.69</td>\n",
       "      <td>40.5822</td>\n",
       "      <td>-124.0432</td>\n",
       "      <td>...</td>\n",
       "      <td>5.6</td>\n",
       "      <td>0.05</td>\n",
       "      <td>1.7</td>\n",
       "      <td>0.8</td>\n",
       "      <td>NaN</td>\n",
       "      <td>NaN</td>\n",
       "      <td>NaN</td>\n",
       "      <td>Slab</td>\n",
       "      <td>NaN</td>\n",
       "      <td>2015-10-07 11:31:26+00:00</td>\n",
       "    </tr>\n",
       "    <tr>\n",
       "      <th>5280</th>\n",
       "      <td>4.0</td>\n",
       "      <td>2.015101e+13</td>\n",
       "      <td>2015.0</td>\n",
       "      <td>10.0</td>\n",
       "      <td>7.0</td>\n",
       "      <td>18.0</td>\n",
       "      <td>11.0</td>\n",
       "      <td>9.52</td>\n",
       "      <td>40.2710</td>\n",
       "      <td>-124.3777</td>\n",
       "      <td>...</td>\n",
       "      <td>7.9</td>\n",
       "      <td>0.19</td>\n",
       "      <td>0.7</td>\n",
       "      <td>0.2</td>\n",
       "      <td>NaN</td>\n",
       "      <td>NaN</td>\n",
       "      <td>NaN</td>\n",
       "      <td>Upper Plate</td>\n",
       "      <td>NaN</td>\n",
       "      <td>2015-10-07 18:11:09+00:00</td>\n",
       "    </tr>\n",
       "    <tr>\n",
       "      <th>5281</th>\n",
       "      <td>4.0</td>\n",
       "      <td>2.015101e+13</td>\n",
       "      <td>2015.0</td>\n",
       "      <td>10.0</td>\n",
       "      <td>7.0</td>\n",
       "      <td>21.0</td>\n",
       "      <td>45.0</td>\n",
       "      <td>50.37</td>\n",
       "      <td>40.1602</td>\n",
       "      <td>-123.8320</td>\n",
       "      <td>...</td>\n",
       "      <td>29.4</td>\n",
       "      <td>0.22</td>\n",
       "      <td>1.3</td>\n",
       "      <td>18.6</td>\n",
       "      <td>NaN</td>\n",
       "      <td>NaN</td>\n",
       "      <td>NaN</td>\n",
       "      <td>Undef</td>\n",
       "      <td>NaN</td>\n",
       "      <td>2015-10-07 21:45:50+00:00</td>\n",
       "    </tr>\n",
       "  </tbody>\n",
       "</table>\n",
       "<p>5282 rows × 24 columns</p>\n",
       "</div>"
      ],
      "text/plain": [
       "      CI YEAR       TSTRING    YEAR  MONTH   DAY  HOUR  MINUTE  SECOND  \\\n",
       "0         1.0  2.011073e+13  2011.0    7.0  26.0   1.0     2.0    7.37   \n",
       "1         1.0  2.011073e+13  2011.0    7.0  26.0   1.0     2.0    7.72   \n",
       "2         1.0  2.011073e+13  2011.0    7.0  26.0   1.0     2.0    8.56   \n",
       "3         1.0  2.011073e+13  2011.0    7.0  26.0   7.0    31.0    2.17   \n",
       "4         1.0  2.011073e+13  2011.0    7.0  26.0   9.0    50.0   27.63   \n",
       "...       ...           ...     ...    ...   ...   ...     ...     ...   \n",
       "5277      4.0  2.015101e+13  2015.0   10.0   7.0   8.0     1.0   50.83   \n",
       "5278      4.0  2.015101e+13  2015.0   10.0   7.0   8.0     7.0    8.40   \n",
       "5279      4.0  2.015101e+13  2015.0   10.0   7.0  11.0    31.0   26.69   \n",
       "5280      4.0  2.015101e+13  2015.0   10.0   7.0  18.0    11.0    9.52   \n",
       "5281      4.0  2.015101e+13  2015.0   10.0   7.0  21.0    45.0   50.37   \n",
       "\n",
       "          LAT       LON  ...  dist to nearest stn  tt RMS   ERH   ERZ  STRIKE  \\\n",
       "0     47.3217 -123.2708  ...                 27.4    0.19   0.8   1.2     NaN   \n",
       "1     44.2888 -124.3340  ...                163.8    0.06  13.1   3.2     NaN   \n",
       "2     44.3017 -124.3180  ...                131.1    0.50  35.4  22.2     NaN   \n",
       "3     48.2635 -124.9298  ...                 44.4    0.77   3.5   6.4     NaN   \n",
       "4     48.3032 -124.9157  ...                 46.1    0.94   4.0   6.9     NaN   \n",
       "...       ...       ...  ...                  ...     ...   ...   ...     ...   \n",
       "5277  40.5895 -124.0455  ...                  5.4    0.14   0.9   0.8     NaN   \n",
       "5278  40.5380 -123.7217  ...                 14.9    0.09   3.3  13.5     NaN   \n",
       "5279  40.5822 -124.0432  ...                  5.6    0.05   1.7   0.8     NaN   \n",
       "5280  40.2710 -124.3777  ...                  7.9    0.19   0.7   0.2     NaN   \n",
       "5281  40.1602 -123.8320  ...                 29.4    0.22   1.3  18.6     NaN   \n",
       "\n",
       "      DIP  RAKE  PLATE DESIGNATION  TEMPLATE EVENT?                  datetime  \n",
       "0     NaN   NaN          Interface          Catalog 2011-07-26 01:02:07+00:00  \n",
       "1     NaN   NaN        Upper Plate              NaN 2011-07-26 01:02:07+00:00  \n",
       "2     NaN   NaN        Upper Plate              NaN 2011-07-26 01:02:08+00:00  \n",
       "3     NaN   NaN        Upper Plate              NaN 2011-07-26 07:31:02+00:00  \n",
       "4     NaN   NaN        Upper Plate                T 2011-07-26 09:50:27+00:00  \n",
       "...   ...   ...                ...              ...                       ...  \n",
       "5277  NaN   NaN               Slab              NaN 2015-10-07 08:01:50+00:00  \n",
       "5278  NaN   NaN        Upper Plate              NaN 2015-10-07 08:07:08+00:00  \n",
       "5279  NaN   NaN               Slab              NaN 2015-10-07 11:31:26+00:00  \n",
       "5280  NaN   NaN        Upper Plate              NaN 2015-10-07 18:11:09+00:00  \n",
       "5281  NaN   NaN              Undef              NaN 2015-10-07 21:45:50+00:00  \n",
       "\n",
       "[5282 rows x 24 columns]"
      ]
     },
     "execution_count": 3,
     "metadata": {},
     "output_type": "execute_result"
    }
   ],
   "source": [
    "events_morton"
   ]
  },
  {
   "cell_type": "markdown",
   "id": "a24957dc",
   "metadata": {},
   "source": [
    "## ANSS Catalog"
   ]
  },
  {
   "cell_type": "code",
   "execution_count": 4,
   "id": "ca384628",
   "metadata": {},
   "outputs": [
    {
     "data": {
      "text/html": [
       "<div>\n",
       "<style scoped>\n",
       "    .dataframe tbody tr th:only-of-type {\n",
       "        vertical-align: middle;\n",
       "    }\n",
       "\n",
       "    .dataframe tbody tr th {\n",
       "        vertical-align: top;\n",
       "    }\n",
       "\n",
       "    .dataframe thead th {\n",
       "        text-align: right;\n",
       "    }\n",
       "</style>\n",
       "<table border=\"1\" class=\"dataframe\">\n",
       "  <thead>\n",
       "    <tr style=\"text-align: right;\">\n",
       "      <th></th>\n",
       "      <th>Unnamed: 0</th>\n",
       "      <th>time</th>\n",
       "      <th>latitude</th>\n",
       "      <th>longitude</th>\n",
       "      <th>depth</th>\n",
       "      <th>mag</th>\n",
       "      <th>magType</th>\n",
       "      <th>nst</th>\n",
       "      <th>gap</th>\n",
       "      <th>dmin</th>\n",
       "      <th>...</th>\n",
       "      <th>place</th>\n",
       "      <th>type</th>\n",
       "      <th>horizontalError</th>\n",
       "      <th>depthError</th>\n",
       "      <th>magError</th>\n",
       "      <th>magNst</th>\n",
       "      <th>status</th>\n",
       "      <th>locationSource</th>\n",
       "      <th>magSource</th>\n",
       "      <th>datetime</th>\n",
       "    </tr>\n",
       "  </thead>\n",
       "  <tbody>\n",
       "    <tr>\n",
       "      <th>0</th>\n",
       "      <td>0</td>\n",
       "      <td>2011-01-01T00:21:06.570Z</td>\n",
       "      <td>38.809834</td>\n",
       "      <td>-122.793663</td>\n",
       "      <td>1.746</td>\n",
       "      <td>0.88</td>\n",
       "      <td>md</td>\n",
       "      <td>14.0</td>\n",
       "      <td>73.0</td>\n",
       "      <td>0.001802</td>\n",
       "      <td>...</td>\n",
       "      <td>6 km WSW of Cobb, California</td>\n",
       "      <td>earthquake</td>\n",
       "      <td>0.30</td>\n",
       "      <td>0.56</td>\n",
       "      <td>0.010</td>\n",
       "      <td>16.0</td>\n",
       "      <td>automatic</td>\n",
       "      <td>nc</td>\n",
       "      <td>nc</td>\n",
       "      <td>2011-01-01 00:21:06.570000+00:00</td>\n",
       "    </tr>\n",
       "    <tr>\n",
       "      <th>1</th>\n",
       "      <td>1</td>\n",
       "      <td>2011-01-01T02:04:41.480Z</td>\n",
       "      <td>38.789001</td>\n",
       "      <td>-122.747002</td>\n",
       "      <td>-0.844</td>\n",
       "      <td>0.28</td>\n",
       "      <td>md</td>\n",
       "      <td>5.0</td>\n",
       "      <td>122.0</td>\n",
       "      <td>0.009910</td>\n",
       "      <td>...</td>\n",
       "      <td>4 km SSW of Cobb, California</td>\n",
       "      <td>earthquake</td>\n",
       "      <td>0.42</td>\n",
       "      <td>2.39</td>\n",
       "      <td>0.200</td>\n",
       "      <td>6.0</td>\n",
       "      <td>automatic</td>\n",
       "      <td>nc</td>\n",
       "      <td>nc</td>\n",
       "      <td>2011-01-01 02:04:41.480000+00:00</td>\n",
       "    </tr>\n",
       "    <tr>\n",
       "      <th>2</th>\n",
       "      <td>2</td>\n",
       "      <td>2011-01-01T02:53:49.640Z</td>\n",
       "      <td>38.817333</td>\n",
       "      <td>-122.821167</td>\n",
       "      <td>1.929</td>\n",
       "      <td>1.03</td>\n",
       "      <td>md</td>\n",
       "      <td>40.0</td>\n",
       "      <td>44.0</td>\n",
       "      <td>0.010810</td>\n",
       "      <td>...</td>\n",
       "      <td>8 km W of Cobb, California</td>\n",
       "      <td>earthquake</td>\n",
       "      <td>0.14</td>\n",
       "      <td>0.19</td>\n",
       "      <td>0.060</td>\n",
       "      <td>13.0</td>\n",
       "      <td>reviewed</td>\n",
       "      <td>nc</td>\n",
       "      <td>nc</td>\n",
       "      <td>2011-01-01 02:53:49.640000+00:00</td>\n",
       "    </tr>\n",
       "    <tr>\n",
       "      <th>3</th>\n",
       "      <td>3</td>\n",
       "      <td>2011-01-01T03:11:04.720Z</td>\n",
       "      <td>38.841835</td>\n",
       "      <td>-122.829002</td>\n",
       "      <td>1.076</td>\n",
       "      <td>0.43</td>\n",
       "      <td>md</td>\n",
       "      <td>7.0</td>\n",
       "      <td>77.0</td>\n",
       "      <td>0.013510</td>\n",
       "      <td>...</td>\n",
       "      <td>9 km WNW of Cobb, California</td>\n",
       "      <td>earthquake</td>\n",
       "      <td>0.43</td>\n",
       "      <td>0.88</td>\n",
       "      <td>0.150</td>\n",
       "      <td>7.0</td>\n",
       "      <td>automatic</td>\n",
       "      <td>nc</td>\n",
       "      <td>nc</td>\n",
       "      <td>2011-01-01 03:11:04.720000+00:00</td>\n",
       "    </tr>\n",
       "    <tr>\n",
       "      <th>4</th>\n",
       "      <td>4</td>\n",
       "      <td>2011-01-01T03:32:55.630Z</td>\n",
       "      <td>38.835833</td>\n",
       "      <td>-122.807000</td>\n",
       "      <td>0.947</td>\n",
       "      <td>0.16</td>\n",
       "      <td>md</td>\n",
       "      <td>9.0</td>\n",
       "      <td>112.0</td>\n",
       "      <td>0.012610</td>\n",
       "      <td>...</td>\n",
       "      <td>7 km WNW of Cobb, California</td>\n",
       "      <td>earthquake</td>\n",
       "      <td>0.33</td>\n",
       "      <td>0.72</td>\n",
       "      <td>0.123</td>\n",
       "      <td>2.0</td>\n",
       "      <td>reviewed</td>\n",
       "      <td>nc</td>\n",
       "      <td>nc</td>\n",
       "      <td>2011-01-01 03:32:55.630000+00:00</td>\n",
       "    </tr>\n",
       "    <tr>\n",
       "      <th>...</th>\n",
       "      <td>...</td>\n",
       "      <td>...</td>\n",
       "      <td>...</td>\n",
       "      <td>...</td>\n",
       "      <td>...</td>\n",
       "      <td>...</td>\n",
       "      <td>...</td>\n",
       "      <td>...</td>\n",
       "      <td>...</td>\n",
       "      <td>...</td>\n",
       "      <td>...</td>\n",
       "      <td>...</td>\n",
       "      <td>...</td>\n",
       "      <td>...</td>\n",
       "      <td>...</td>\n",
       "      <td>...</td>\n",
       "      <td>...</td>\n",
       "      <td>...</td>\n",
       "      <td>...</td>\n",
       "      <td>...</td>\n",
       "      <td>...</td>\n",
       "    </tr>\n",
       "    <tr>\n",
       "      <th>131527</th>\n",
       "      <td>131527</td>\n",
       "      <td>2015-12-31T22:15:46.650Z</td>\n",
       "      <td>38.837502</td>\n",
       "      <td>-122.825333</td>\n",
       "      <td>1.450</td>\n",
       "      <td>0.18</td>\n",
       "      <td>md</td>\n",
       "      <td>6.0</td>\n",
       "      <td>180.0</td>\n",
       "      <td>0.008108</td>\n",
       "      <td>...</td>\n",
       "      <td>9 km W of Cobb, California</td>\n",
       "      <td>earthquake</td>\n",
       "      <td>0.66</td>\n",
       "      <td>1.08</td>\n",
       "      <td>0.110</td>\n",
       "      <td>2.0</td>\n",
       "      <td>automatic</td>\n",
       "      <td>nc</td>\n",
       "      <td>nc</td>\n",
       "      <td>2015-12-31 22:15:46.650000+00:00</td>\n",
       "    </tr>\n",
       "    <tr>\n",
       "      <th>131528</th>\n",
       "      <td>131528</td>\n",
       "      <td>2015-12-31T22:18:13.120Z</td>\n",
       "      <td>41.856400</td>\n",
       "      <td>-119.599200</td>\n",
       "      <td>8.700</td>\n",
       "      <td>1.40</td>\n",
       "      <td>ml</td>\n",
       "      <td>6.0</td>\n",
       "      <td>210.1</td>\n",
       "      <td>0.175000</td>\n",
       "      <td>...</td>\n",
       "      <td>45 km E of Fort Bidwell, California</td>\n",
       "      <td>earthquake</td>\n",
       "      <td>NaN</td>\n",
       "      <td>3.40</td>\n",
       "      <td>0.210</td>\n",
       "      <td>3.0</td>\n",
       "      <td>reviewed</td>\n",
       "      <td>nn</td>\n",
       "      <td>nn</td>\n",
       "      <td>2015-12-31 22:18:13.120000+00:00</td>\n",
       "    </tr>\n",
       "    <tr>\n",
       "      <th>131529</th>\n",
       "      <td>131529</td>\n",
       "      <td>2015-12-31T23:19:21.650Z</td>\n",
       "      <td>38.823334</td>\n",
       "      <td>-122.765663</td>\n",
       "      <td>1.680</td>\n",
       "      <td>0.54</td>\n",
       "      <td>md</td>\n",
       "      <td>7.0</td>\n",
       "      <td>99.0</td>\n",
       "      <td>0.008108</td>\n",
       "      <td>...</td>\n",
       "      <td>3 km W of Cobb, California</td>\n",
       "      <td>earthquake</td>\n",
       "      <td>0.50</td>\n",
       "      <td>1.54</td>\n",
       "      <td>0.030</td>\n",
       "      <td>2.0</td>\n",
       "      <td>automatic</td>\n",
       "      <td>nc</td>\n",
       "      <td>nc</td>\n",
       "      <td>2015-12-31 23:19:21.650000+00:00</td>\n",
       "    </tr>\n",
       "    <tr>\n",
       "      <th>131530</th>\n",
       "      <td>131530</td>\n",
       "      <td>2015-12-31T23:22:20.730Z</td>\n",
       "      <td>38.841000</td>\n",
       "      <td>-122.878166</td>\n",
       "      <td>1.730</td>\n",
       "      <td>0.77</td>\n",
       "      <td>md</td>\n",
       "      <td>8.0</td>\n",
       "      <td>95.0</td>\n",
       "      <td>0.007207</td>\n",
       "      <td>...</td>\n",
       "      <td>12 km ENE of Cloverdale, California</td>\n",
       "      <td>earthquake</td>\n",
       "      <td>0.58</td>\n",
       "      <td>1.02</td>\n",
       "      <td>0.180</td>\n",
       "      <td>3.0</td>\n",
       "      <td>automatic</td>\n",
       "      <td>nc</td>\n",
       "      <td>nc</td>\n",
       "      <td>2015-12-31 23:22:20.730000+00:00</td>\n",
       "    </tr>\n",
       "    <tr>\n",
       "      <th>131531</th>\n",
       "      <td>131531</td>\n",
       "      <td>2015-12-31T23:53:17.350Z</td>\n",
       "      <td>40.457667</td>\n",
       "      <td>-124.763000</td>\n",
       "      <td>24.960</td>\n",
       "      <td>2.32</td>\n",
       "      <td>md</td>\n",
       "      <td>16.0</td>\n",
       "      <td>301.0</td>\n",
       "      <td>0.325200</td>\n",
       "      <td>...</td>\n",
       "      <td>44 km WSW of Ferndale, California</td>\n",
       "      <td>earthquake</td>\n",
       "      <td>0.99</td>\n",
       "      <td>4.72</td>\n",
       "      <td>0.324</td>\n",
       "      <td>18.0</td>\n",
       "      <td>reviewed</td>\n",
       "      <td>nc</td>\n",
       "      <td>nc</td>\n",
       "      <td>2015-12-31 23:53:17.350000+00:00</td>\n",
       "    </tr>\n",
       "  </tbody>\n",
       "</table>\n",
       "<p>131532 rows × 24 columns</p>\n",
       "</div>"
      ],
      "text/plain": [
       "        Unnamed: 0                      time   latitude   longitude   depth  \\\n",
       "0                0  2011-01-01T00:21:06.570Z  38.809834 -122.793663   1.746   \n",
       "1                1  2011-01-01T02:04:41.480Z  38.789001 -122.747002  -0.844   \n",
       "2                2  2011-01-01T02:53:49.640Z  38.817333 -122.821167   1.929   \n",
       "3                3  2011-01-01T03:11:04.720Z  38.841835 -122.829002   1.076   \n",
       "4                4  2011-01-01T03:32:55.630Z  38.835833 -122.807000   0.947   \n",
       "...            ...                       ...        ...         ...     ...   \n",
       "131527      131527  2015-12-31T22:15:46.650Z  38.837502 -122.825333   1.450   \n",
       "131528      131528  2015-12-31T22:18:13.120Z  41.856400 -119.599200   8.700   \n",
       "131529      131529  2015-12-31T23:19:21.650Z  38.823334 -122.765663   1.680   \n",
       "131530      131530  2015-12-31T23:22:20.730Z  38.841000 -122.878166   1.730   \n",
       "131531      131531  2015-12-31T23:53:17.350Z  40.457667 -124.763000  24.960   \n",
       "\n",
       "         mag magType   nst    gap      dmin  ...  \\\n",
       "0       0.88      md  14.0   73.0  0.001802  ...   \n",
       "1       0.28      md   5.0  122.0  0.009910  ...   \n",
       "2       1.03      md  40.0   44.0  0.010810  ...   \n",
       "3       0.43      md   7.0   77.0  0.013510  ...   \n",
       "4       0.16      md   9.0  112.0  0.012610  ...   \n",
       "...      ...     ...   ...    ...       ...  ...   \n",
       "131527  0.18      md   6.0  180.0  0.008108  ...   \n",
       "131528  1.40      ml   6.0  210.1  0.175000  ...   \n",
       "131529  0.54      md   7.0   99.0  0.008108  ...   \n",
       "131530  0.77      md   8.0   95.0  0.007207  ...   \n",
       "131531  2.32      md  16.0  301.0  0.325200  ...   \n",
       "\n",
       "                                      place        type horizontalError  \\\n",
       "0              6 km WSW of Cobb, California  earthquake            0.30   \n",
       "1              4 km SSW of Cobb, California  earthquake            0.42   \n",
       "2                8 km W of Cobb, California  earthquake            0.14   \n",
       "3              9 km WNW of Cobb, California  earthquake            0.43   \n",
       "4              7 km WNW of Cobb, California  earthquake            0.33   \n",
       "...                                     ...         ...             ...   \n",
       "131527           9 km W of Cobb, California  earthquake            0.66   \n",
       "131528  45 km E of Fort Bidwell, California  earthquake             NaN   \n",
       "131529           3 km W of Cobb, California  earthquake            0.50   \n",
       "131530  12 km ENE of Cloverdale, California  earthquake            0.58   \n",
       "131531    44 km WSW of Ferndale, California  earthquake            0.99   \n",
       "\n",
       "       depthError magError magNst     status  locationSource  magSource  \\\n",
       "0            0.56    0.010   16.0  automatic              nc         nc   \n",
       "1            2.39    0.200    6.0  automatic              nc         nc   \n",
       "2            0.19    0.060   13.0   reviewed              nc         nc   \n",
       "3            0.88    0.150    7.0  automatic              nc         nc   \n",
       "4            0.72    0.123    2.0   reviewed              nc         nc   \n",
       "...           ...      ...    ...        ...             ...        ...   \n",
       "131527       1.08    0.110    2.0  automatic              nc         nc   \n",
       "131528       3.40    0.210    3.0   reviewed              nn         nn   \n",
       "131529       1.54    0.030    2.0  automatic              nc         nc   \n",
       "131530       1.02    0.180    3.0  automatic              nc         nc   \n",
       "131531       4.72    0.324   18.0   reviewed              nc         nc   \n",
       "\n",
       "                               datetime  \n",
       "0      2011-01-01 00:21:06.570000+00:00  \n",
       "1      2011-01-01 02:04:41.480000+00:00  \n",
       "2      2011-01-01 02:53:49.640000+00:00  \n",
       "3      2011-01-01 03:11:04.720000+00:00  \n",
       "4      2011-01-01 03:32:55.630000+00:00  \n",
       "...                                 ...  \n",
       "131527 2015-12-31 22:15:46.650000+00:00  \n",
       "131528 2015-12-31 22:18:13.120000+00:00  \n",
       "131529 2015-12-31 23:19:21.650000+00:00  \n",
       "131530 2015-12-31 23:22:20.730000+00:00  \n",
       "131531 2015-12-31 23:53:17.350000+00:00  \n",
       "\n",
       "[131532 rows x 24 columns]"
      ]
     },
     "execution_count": 4,
     "metadata": {},
     "output_type": "execute_result"
    }
   ],
   "source": [
    "events_anss = pd.read_csv('../data/datasets_anss/anss_2011-15.csv')\n",
    "events_anss['datetime'] = pd.to_datetime(events_anss['time'], format='%Y-%m-%dT%H:%M:%S.%fZ', utc=True)\n",
    "events_anss= events_anss.loc[(events_anss['datetime'] > t1) & (events_anss['datetime'] < t2) ]\n",
    "events_anss"
   ]
  },
  {
   "cell_type": "markdown",
   "id": "d2499c46",
   "metadata": {},
   "source": [
    "## Our Catalog"
   ]
  },
  {
   "cell_type": "code",
   "execution_count": 5,
   "id": "f0456713",
   "metadata": {
    "scrolled": true
   },
   "outputs": [
    {
     "name": "stderr",
     "output_type": "stream",
     "text": [
      "/tmp/ipykernel_2255913/1685837610.py:6: SettingWithCopyWarning: \n",
      "A value is trying to be set on a copy of a slice from a DataFrame.\n",
      "Try using .loc[row_indexer,col_indexer] = value instead\n",
      "\n",
      "See the caveats in the documentation: https://pandas.pydata.org/pandas-docs/stable/user_guide/indexing.html#returning-a-view-versus-a-copy\n",
      "  mycatalog['datetime'] = pd.to_datetime(mycatalog['time'], utc = True)\n"
     ]
    },
    {
     "data": {
      "text/html": [
       "<div>\n",
       "<style scoped>\n",
       "    .dataframe tbody tr th:only-of-type {\n",
       "        vertical-align: middle;\n",
       "    }\n",
       "\n",
       "    .dataframe tbody tr th {\n",
       "        vertical-align: top;\n",
       "    }\n",
       "\n",
       "    .dataframe thead th {\n",
       "        text-align: right;\n",
       "    }\n",
       "</style>\n",
       "<table border=\"1\" class=\"dataframe\">\n",
       "  <thead>\n",
       "    <tr style=\"text-align: right;\">\n",
       "      <th></th>\n",
       "      <th>Unnamed: 0</th>\n",
       "      <th>idx</th>\n",
       "      <th>time</th>\n",
       "      <th>x</th>\n",
       "      <th>y</th>\n",
       "      <th>z</th>\n",
       "      <th>picks</th>\n",
       "      <th>latitude</th>\n",
       "      <th>longitude</th>\n",
       "      <th>depth</th>\n",
       "      <th>event_idx</th>\n",
       "      <th>pick_idx</th>\n",
       "      <th>residual</th>\n",
       "      <th>station</th>\n",
       "      <th>phase</th>\n",
       "      <th>time_pick</th>\n",
       "      <th>datetime</th>\n",
       "    </tr>\n",
       "  </thead>\n",
       "  <tbody>\n",
       "    <tr>\n",
       "      <th>0</th>\n",
       "      <td>0</td>\n",
       "      <td>0</td>\n",
       "      <td>2011-01-01 10:44:25.058283+00:00</td>\n",
       "      <td>100.965600</td>\n",
       "      <td>-447.960938</td>\n",
       "      <td>6.640625</td>\n",
       "      <td>6</td>\n",
       "      <td>40.461192</td>\n",
       "      <td>-124.309615</td>\n",
       "      <td>6.640625</td>\n",
       "      <td>0</td>\n",
       "      <td>246022</td>\n",
       "      <td>0.185083</td>\n",
       "      <td>K02D</td>\n",
       "      <td>P</td>\n",
       "      <td>1.293879e+09</td>\n",
       "      <td>2011-01-01 10:44:25.058283+00:00</td>\n",
       "    </tr>\n",
       "    <tr>\n",
       "      <th>6</th>\n",
       "      <td>6</td>\n",
       "      <td>1</td>\n",
       "      <td>2011-01-02 06:00:27.043481+00:00</td>\n",
       "      <td>-31.795797</td>\n",
       "      <td>-433.656918</td>\n",
       "      <td>12.109375</td>\n",
       "      <td>12</td>\n",
       "      <td>40.595524</td>\n",
       "      <td>-125.875626</td>\n",
       "      <td>12.109375</td>\n",
       "      <td>1</td>\n",
       "      <td>230134</td>\n",
       "      <td>0.866968</td>\n",
       "      <td>DBO</td>\n",
       "      <td>P</td>\n",
       "      <td>1.293948e+09</td>\n",
       "      <td>2011-01-02 06:00:27.043481+00:00</td>\n",
       "    </tr>\n",
       "    <tr>\n",
       "      <th>18</th>\n",
       "      <td>18</td>\n",
       "      <td>2</td>\n",
       "      <td>2011-01-02 22:40:11.017906+00:00</td>\n",
       "      <td>78.652760</td>\n",
       "      <td>-447.960938</td>\n",
       "      <td>1.953125</td>\n",
       "      <td>11</td>\n",
       "      <td>40.463601</td>\n",
       "      <td>-124.572646</td>\n",
       "      <td>1.953125</td>\n",
       "      <td>2</td>\n",
       "      <td>230277</td>\n",
       "      <td>0.451371</td>\n",
       "      <td>DBO</td>\n",
       "      <td>P</td>\n",
       "      <td>1.294008e+09</td>\n",
       "      <td>2011-01-02 22:40:11.017906+00:00</td>\n",
       "    </tr>\n",
       "    <tr>\n",
       "      <th>29</th>\n",
       "      <td>29</td>\n",
       "      <td>3</td>\n",
       "      <td>2011-01-03 02:24:55.148617+00:00</td>\n",
       "      <td>90.924822</td>\n",
       "      <td>-254.856673</td>\n",
       "      <td>0.390625</td>\n",
       "      <td>6</td>\n",
       "      <td>42.200770</td>\n",
       "      <td>-124.399086</td>\n",
       "      <td>0.390625</td>\n",
       "      <td>3</td>\n",
       "      <td>220073</td>\n",
       "      <td>-0.211178</td>\n",
       "      <td>KBO</td>\n",
       "      <td>P</td>\n",
       "      <td>1.294021e+09</td>\n",
       "      <td>2011-01-03 02:24:55.148617+00:00</td>\n",
       "    </tr>\n",
       "    <tr>\n",
       "      <th>35</th>\n",
       "      <td>35</td>\n",
       "      <td>5</td>\n",
       "      <td>2011-01-03 07:08:42.728265+00:00</td>\n",
       "      <td>237.073922</td>\n",
       "      <td>-194.779791</td>\n",
       "      <td>0.390625</td>\n",
       "      <td>8</td>\n",
       "      <td>42.710313</td>\n",
       "      <td>-122.606237</td>\n",
       "      <td>0.390625</td>\n",
       "      <td>5</td>\n",
       "      <td>282727</td>\n",
       "      <td>-0.079647</td>\n",
       "      <td>DBO</td>\n",
       "      <td>P</td>\n",
       "      <td>1.294039e+09</td>\n",
       "      <td>2011-01-03 07:08:42.728265+00:00</td>\n",
       "    </tr>\n",
       "    <tr>\n",
       "      <th>...</th>\n",
       "      <td>...</td>\n",
       "      <td>...</td>\n",
       "      <td>...</td>\n",
       "      <td>...</td>\n",
       "      <td>...</td>\n",
       "      <td>...</td>\n",
       "      <td>...</td>\n",
       "      <td>...</td>\n",
       "      <td>...</td>\n",
       "      <td>...</td>\n",
       "      <td>...</td>\n",
       "      <td>...</td>\n",
       "      <td>...</td>\n",
       "      <td>...</td>\n",
       "      <td>...</td>\n",
       "      <td>...</td>\n",
       "      <td>...</td>\n",
       "    </tr>\n",
       "    <tr>\n",
       "      <th>13788</th>\n",
       "      <td>13788</td>\n",
       "      <td>2189</td>\n",
       "      <td>2015-12-29 21:21:54.859221+00:00</td>\n",
       "      <td>70.843266</td>\n",
       "      <td>-407.909683</td>\n",
       "      <td>0.390625</td>\n",
       "      <td>12</td>\n",
       "      <td>40.824934</td>\n",
       "      <td>-124.660205</td>\n",
       "      <td>0.390625</td>\n",
       "      <td>2189</td>\n",
       "      <td>172345</td>\n",
       "      <td>0.274588</td>\n",
       "      <td>DBO</td>\n",
       "      <td>P</td>\n",
       "      <td>1.451424e+09</td>\n",
       "      <td>2015-12-29 21:21:54.859221+00:00</td>\n",
       "    </tr>\n",
       "    <tr>\n",
       "      <th>13800</th>\n",
       "      <td>13800</td>\n",
       "      <td>2190</td>\n",
       "      <td>2015-12-30 07:41:43.690372+00:00</td>\n",
       "      <td>123.278439</td>\n",
       "      <td>-159.019742</td>\n",
       "      <td>5.859375</td>\n",
       "      <td>7</td>\n",
       "      <td>43.058776</td>\n",
       "      <td>-123.986710</td>\n",
       "      <td>5.859375</td>\n",
       "      <td>2190</td>\n",
       "      <td>383827</td>\n",
       "      <td>-0.221138</td>\n",
       "      <td>J01E</td>\n",
       "      <td>S</td>\n",
       "      <td>1.451461e+09</td>\n",
       "      <td>2015-12-30 07:41:43.690372+00:00</td>\n",
       "    </tr>\n",
       "    <tr>\n",
       "      <th>13807</th>\n",
       "      <td>13807</td>\n",
       "      <td>2191</td>\n",
       "      <td>2015-12-30 15:14:18.895135+00:00</td>\n",
       "      <td>85.346612</td>\n",
       "      <td>-406.479281</td>\n",
       "      <td>5.859375</td>\n",
       "      <td>9</td>\n",
       "      <td>40.836433</td>\n",
       "      <td>-124.488107</td>\n",
       "      <td>5.859375</td>\n",
       "      <td>2191</td>\n",
       "      <td>383828</td>\n",
       "      <td>0.159986</td>\n",
       "      <td>J01E</td>\n",
       "      <td>S</td>\n",
       "      <td>1.451489e+09</td>\n",
       "      <td>2015-12-30 15:14:18.895135+00:00</td>\n",
       "    </tr>\n",
       "    <tr>\n",
       "      <th>13816</th>\n",
       "      <td>13816</td>\n",
       "      <td>2192</td>\n",
       "      <td>2015-12-30 17:21:56.886771+00:00</td>\n",
       "      <td>76.421476</td>\n",
       "      <td>-173.323761</td>\n",
       "      <td>19.140625</td>\n",
       "      <td>7</td>\n",
       "      <td>42.936197</td>\n",
       "      <td>-124.563756</td>\n",
       "      <td>19.140625</td>\n",
       "      <td>2192</td>\n",
       "      <td>182969</td>\n",
       "      <td>-0.059408</td>\n",
       "      <td>DBO</td>\n",
       "      <td>P</td>\n",
       "      <td>1.451496e+09</td>\n",
       "      <td>2015-12-30 17:21:56.886771+00:00</td>\n",
       "    </tr>\n",
       "    <tr>\n",
       "      <th>13823</th>\n",
       "      <td>13823</td>\n",
       "      <td>2194</td>\n",
       "      <td>2015-12-31 09:46:36.747704+00:00</td>\n",
       "      <td>103.196884</td>\n",
       "      <td>-322.085565</td>\n",
       "      <td>1.171875</td>\n",
       "      <td>7</td>\n",
       "      <td>41.594114</td>\n",
       "      <td>-124.262270</td>\n",
       "      <td>1.171875</td>\n",
       "      <td>2194</td>\n",
       "      <td>185675</td>\n",
       "      <td>-0.005921</td>\n",
       "      <td>K02D</td>\n",
       "      <td>P</td>\n",
       "      <td>1.451555e+09</td>\n",
       "      <td>2015-12-31 09:46:36.747704+00:00</td>\n",
       "    </tr>\n",
       "  </tbody>\n",
       "</table>\n",
       "<p>1780 rows × 17 columns</p>\n",
       "</div>"
      ],
      "text/plain": [
       "       Unnamed: 0   idx                              time           x  \\\n",
       "0               0     0  2011-01-01 10:44:25.058283+00:00  100.965600   \n",
       "6               6     1  2011-01-02 06:00:27.043481+00:00  -31.795797   \n",
       "18             18     2  2011-01-02 22:40:11.017906+00:00   78.652760   \n",
       "29             29     3  2011-01-03 02:24:55.148617+00:00   90.924822   \n",
       "35             35     5  2011-01-03 07:08:42.728265+00:00  237.073922   \n",
       "...           ...   ...                               ...         ...   \n",
       "13788       13788  2189  2015-12-29 21:21:54.859221+00:00   70.843266   \n",
       "13800       13800  2190  2015-12-30 07:41:43.690372+00:00  123.278439   \n",
       "13807       13807  2191  2015-12-30 15:14:18.895135+00:00   85.346612   \n",
       "13816       13816  2192  2015-12-30 17:21:56.886771+00:00   76.421476   \n",
       "13823       13823  2194  2015-12-31 09:46:36.747704+00:00  103.196884   \n",
       "\n",
       "                y          z  picks   latitude   longitude      depth  \\\n",
       "0     -447.960938   6.640625      6  40.461192 -124.309615   6.640625   \n",
       "6     -433.656918  12.109375     12  40.595524 -125.875626  12.109375   \n",
       "18    -447.960938   1.953125     11  40.463601 -124.572646   1.953125   \n",
       "29    -254.856673   0.390625      6  42.200770 -124.399086   0.390625   \n",
       "35    -194.779791   0.390625      8  42.710313 -122.606237   0.390625   \n",
       "...           ...        ...    ...        ...         ...        ...   \n",
       "13788 -407.909683   0.390625     12  40.824934 -124.660205   0.390625   \n",
       "13800 -159.019742   5.859375      7  43.058776 -123.986710   5.859375   \n",
       "13807 -406.479281   5.859375      9  40.836433 -124.488107   5.859375   \n",
       "13816 -173.323761  19.140625      7  42.936197 -124.563756  19.140625   \n",
       "13823 -322.085565   1.171875      7  41.594114 -124.262270   1.171875   \n",
       "\n",
       "       event_idx  pick_idx  residual station phase     time_pick  \\\n",
       "0              0    246022  0.185083    K02D     P  1.293879e+09   \n",
       "6              1    230134  0.866968     DBO     P  1.293948e+09   \n",
       "18             2    230277  0.451371     DBO     P  1.294008e+09   \n",
       "29             3    220073 -0.211178     KBO     P  1.294021e+09   \n",
       "35             5    282727 -0.079647     DBO     P  1.294039e+09   \n",
       "...          ...       ...       ...     ...   ...           ...   \n",
       "13788       2189    172345  0.274588     DBO     P  1.451424e+09   \n",
       "13800       2190    383827 -0.221138    J01E     S  1.451461e+09   \n",
       "13807       2191    383828  0.159986    J01E     S  1.451489e+09   \n",
       "13816       2192    182969 -0.059408     DBO     P  1.451496e+09   \n",
       "13823       2194    185675 -0.005921    K02D     P  1.451555e+09   \n",
       "\n",
       "                              datetime  \n",
       "0     2011-01-01 10:44:25.058283+00:00  \n",
       "6     2011-01-02 06:00:27.043481+00:00  \n",
       "18    2011-01-02 22:40:11.017906+00:00  \n",
       "29    2011-01-03 02:24:55.148617+00:00  \n",
       "35    2011-01-03 07:08:42.728265+00:00  \n",
       "...                                ...  \n",
       "13788 2015-12-29 21:21:54.859221+00:00  \n",
       "13800 2015-12-30 07:41:43.690372+00:00  \n",
       "13807 2015-12-30 15:14:18.895135+00:00  \n",
       "13816 2015-12-30 17:21:56.886771+00:00  \n",
       "13823 2015-12-31 09:46:36.747704+00:00  \n",
       "\n",
       "[1780 rows x 17 columns]"
      ]
     },
     "execution_count": 5,
     "metadata": {},
     "output_type": "execute_result"
    }
   ],
   "source": [
    "# Load all the pick assignments \n",
    "year = 'pnsn_sor'\n",
    "mycatalog_picks = pd.read_csv(f'../data/datasets_{year}/all_pick_assignments_{year}.csv')\n",
    "mycatalog = mycatalog_picks.drop_duplicates(subset=['idx'])\n",
    "# Convert the time series in all_pick_assignments to datetime\n",
    "mycatalog['datetime'] = pd.to_datetime(mycatalog['time'], utc = True)\n",
    "mycatalog=mycatalog.loc[(mycatalog['datetime'] > t1) & (mycatalog['datetime'] < t2) ]\n",
    "mycatalog"
   ]
  },
  {
   "cell_type": "markdown",
   "id": "f3d4e9ca",
   "metadata": {},
   "source": [
    "## Run this loop"
   ]
  },
  {
   "cell_type": "code",
   "execution_count": 6,
   "id": "3e0e7740",
   "metadata": {},
   "outputs": [
    {
     "name": "stdout",
     "output_type": "stream",
     "text": [
      "matched idx of Morton:  147\n",
      "matched idx of Morton:  338\n",
      "matched idx of Morton:  347\n",
      "matched idx of Morton:  351\n",
      "matched idx of Morton:  359\n",
      "matched idx of Morton:  361\n",
      "matched idx of Morton:  364\n",
      "matched idx of Morton:  371\n",
      "matched idx of Morton:  373\n",
      "matched idx of Morton:  378\n",
      "matched idx of Morton:  379\n",
      "matched idx of Morton:  389\n",
      "matched idx of Morton:  390\n",
      "matched idx of Morton:  391\n",
      "matched idx of Morton:  392\n",
      "matched idx of Morton:  393\n",
      "matched idx of Morton:  394\n",
      "matched idx of Morton:  395\n",
      "matched idx of Morton:  396\n",
      "matched idx of Morton:  397\n",
      "matched idx of Morton:  398\n",
      "matched idx of Morton:  399\n",
      "matched idx of Morton:  403\n",
      "matched idx of Morton:  404\n",
      "matched idx of Morton:  405\n",
      "matched idx of Morton:  407\n",
      "matched idx of Morton:  408\n",
      "matched idx of Morton:  410\n",
      "matched idx of Morton:  411\n",
      "matched idx of Morton:  412\n",
      "matched idx of Morton:  413\n",
      "matched idx of Morton:  414\n",
      "matched idx of Morton:  415\n",
      "matched idx of Morton:  416\n",
      "matched idx of Morton:  418\n",
      "matched idx of Morton:  423\n",
      "matched idx of Morton:  425\n",
      "matched idx of Morton:  429\n",
      "matched idx of Morton:  431\n",
      "matched idx of Morton:  432\n",
      "matched idx of Morton:  435\n",
      "matched idx of Morton:  436\n",
      "matched idx of Morton:  437\n",
      "matched idx of Morton:  439\n",
      "matched idx of Morton:  440\n",
      "matched idx of Morton:  445\n",
      "matched idx of Morton:  463\n",
      "matched idx of Morton:  476\n",
      "matched idx of Morton:  490\n",
      "matched idx of Morton:  498\n",
      "matched idx of Morton:  500\n",
      "matched idx of Morton:  501\n",
      "matched idx of Morton:  502\n",
      "matched idx of Morton:  503\n",
      "matched idx of Morton:  504\n",
      "matched idx of Morton:  506\n",
      "matched idx of Morton:  507\n",
      "matched idx of Morton:  509\n",
      "matched idx of Morton:  515\n",
      "matched idx of Morton:  516\n",
      "matched idx of Morton:  517\n",
      "matched idx of Morton:  518\n",
      "matched idx of Morton:  521\n",
      "matched idx of Morton:  525\n",
      "matched idx of Morton:  529\n",
      "matched idx of Morton:  533\n",
      "matched idx of Morton:  543\n",
      "matched idx of Morton:  553\n",
      "matched idx of Morton:  557\n",
      "matched idx of Morton:  558\n",
      "matched idx of Morton:  559\n",
      "matched idx of Morton:  560\n",
      "matched idx of Morton:  577\n",
      "matched idx of Morton:  578\n",
      "matched idx of Morton:  585\n",
      "matched idx of Morton:  590\n",
      "matched idx of Morton:  592\n",
      "matched idx of Morton:  603\n",
      "matched idx of Morton:  604\n",
      "matched idx of Morton:  610\n",
      "matched idx of Morton:  612\n",
      "matched idx of Morton:  633\n",
      "matched idx of Morton:  679\n",
      "matched idx of Morton:  682\n",
      "matched idx of Morton:  688\n",
      "matched idx of Morton:  694\n",
      "matched idx of Morton:  696\n",
      "matched idx of Morton:  701\n",
      "matched idx of Morton:  709\n",
      "matched idx of Morton:  710\n",
      "matched idx of Morton:  722\n",
      "matched idx of Morton:  750\n",
      "matched idx of Morton:  754\n",
      "matched idx of Morton:  759\n",
      "matched idx of Morton:  764\n",
      "matched idx of Morton:  773\n",
      "matched idx of Morton:  780\n",
      "matched idx of Morton:  781\n",
      "matched idx of Morton:  796\n",
      "matched idx of Morton:  802\n",
      "matched idx of Morton:  826\n",
      "matched idx of Morton:  831\n",
      "matched idx of Morton:  855\n",
      "matched idx of Morton:  860\n",
      "matched idx of Morton:  867\n",
      "matched idx of Morton:  919\n",
      "matched idx of Morton:  921\n",
      "matched idx of Morton:  1765\n",
      "matched idx of Morton:  1766\n",
      "matched idx of Morton:  1999\n",
      "matched idx of Morton:  2021\n",
      "matched idx of Morton:  2053\n",
      "matched idx of Morton:  2055\n",
      "matched idx of Morton:  2057\n",
      "matched idx of Morton:  2061\n",
      "matched idx of Morton:  2062\n",
      "matched idx of Morton:  2063\n",
      "matched idx of Morton:  2064\n",
      "matched idx of Morton:  2071\n",
      "matched idx of Morton:  2076\n",
      "matched idx of Morton:  2123\n",
      "matched idx of Morton:  2126\n",
      "matched idx of Morton:  2134\n",
      "matched idx of Morton:  2174\n",
      "matched idx of Morton:  2215\n",
      "matched idx of Morton:  2232\n",
      "matched idx of Morton:  2234\n",
      "matched idx of Morton:  2235\n",
      "matched idx of Morton:  2236\n",
      "matched idx of Morton:  2243\n",
      "matched idx of Morton:  2255\n",
      "matched idx of Morton:  2265\n",
      "matched idx of Morton:  2280\n",
      "matched idx of Morton:  2321\n",
      "matched idx of Morton:  2325\n",
      "matched idx of Morton:  2328\n",
      "matched idx of Morton:  2338\n",
      "matched idx of Morton:  2339\n",
      "matched idx of Morton:  2344\n",
      "matched idx of Morton:  2357\n",
      "matched idx of Morton:  2362\n",
      "matched idx of Morton:  2373\n",
      "matched idx of Morton:  2374\n",
      "matched idx of Morton:  2403\n",
      "matched idx of Morton:  2429\n",
      "matched idx of Morton:  2487\n",
      "matched idx of Morton:  2521\n",
      "matched idx of Morton:  2530\n",
      "matched idx of Morton:  2539\n",
      "matched idx of Morton:  2556\n",
      "matched idx of Morton:  2579\n",
      "matched idx of Morton:  2582\n",
      "matched idx of Morton:  2621\n",
      "matched idx of Morton:  2654\n",
      "matched idx of Morton:  2670\n",
      "matched idx of Morton:  2675\n",
      "matched idx of Morton:  2690\n",
      "matched idx of Morton:  2694\n",
      "matched idx of Morton:  2701\n",
      "matched idx of Morton:  2705\n",
      "matched idx of Morton:  2723\n",
      "matched idx of Morton:  2735\n",
      "matched idx of Morton:  2780\n",
      "matched idx of Morton:  2788\n",
      "matched idx of Morton:  2795\n",
      "matched idx of Morton:  2836\n",
      "matched idx of Morton:  2843\n",
      "matched idx of Morton:  2862\n",
      "matched idx of Morton:  2865\n",
      "matched idx of Morton:  2939\n",
      "matched idx of Morton:  2940\n",
      "matched idx of Morton:  2985\n",
      "matched idx of Morton:  2987\n",
      "matched idx of Morton:  3001\n",
      "matched idx of Morton:  3004\n",
      "matched idx of Morton:  3007\n",
      "matched idx of Morton:  3009\n",
      "matched idx of Morton:  3016\n",
      "matched idx of Morton:  3035\n",
      "matched idx of Morton:  3037\n",
      "matched idx of Morton:  3065\n",
      "matched idx of Morton:  3077\n",
      "matched idx of Morton:  3085\n",
      "matched idx of Morton:  3088\n",
      "matched idx of Morton:  3124\n",
      "matched idx of Morton:  3125\n",
      "matched idx of Morton:  3140\n",
      "matched idx of Morton:  3146\n",
      "matched idx of Morton:  3152\n",
      "matched idx of Morton:  3165\n",
      "matched idx of Morton:  3176\n",
      "matched idx of Morton:  3177\n",
      "matched idx of Morton:  3178\n",
      "matched idx of Morton:  3189\n",
      "matched idx of Morton:  3195\n",
      "matched idx of Morton:  3211\n",
      "matched idx of Morton:  3229\n",
      "matched idx of Morton:  3233\n",
      "matched idx of Morton:  3257\n",
      "matched idx of Morton:  3280\n",
      "matched idx of Morton:  3290\n",
      "matched idx of Morton:  3314\n",
      "matched idx of Morton:  3317\n",
      "matched idx of Morton:  3346\n",
      "matched idx of Morton:  3354\n",
      "matched idx of Morton:  3355\n",
      "matched idx of Morton:  3368\n",
      "matched idx of Morton:  3382\n",
      "matched idx of Morton:  3409\n",
      "matched idx of Morton:  3440\n",
      "matched idx of Morton:  3449\n",
      "matched idx of Morton:  3466\n",
      "matched idx of Morton:  3524\n",
      "matched idx of Morton:  3535\n",
      "matched idx of Morton:  3547\n",
      "matched idx of Morton:  3548\n",
      "matched idx of Morton:  3549\n",
      "matched idx of Morton:  3552\n",
      "matched idx of Morton:  3574\n",
      "matched idx of Morton:  3585\n",
      "matched idx of Morton:  3595\n",
      "matched idx of Morton:  3659\n",
      "matched idx of Morton:  3672\n",
      "matched idx of Morton:  3695\n",
      "matched idx of Morton:  3725\n",
      "matched idx of Morton:  3726\n",
      "matched idx of Morton:  3767\n",
      "matched idx of Morton:  3794\n",
      "matched idx of Morton:  3805\n",
      "matched idx of Morton:  3868\n",
      "matched idx of Morton:  3899\n",
      "matched idx of Morton:  3900\n",
      "matched idx of Morton:  3906\n",
      "matched idx of Morton:  3916\n",
      "matched idx of Morton:  3923\n",
      "matched idx of Morton:  3937\n",
      "matched idx of Morton:  3942\n",
      "matched idx of Morton:  3945\n",
      "matched idx of Morton:  3947\n",
      "matched idx of Morton:  3974\n",
      "matched idx of Morton:  3988\n",
      "matched idx of Morton:  3991\n",
      "matched idx of Morton:  3995\n",
      "matched idx of Morton:  4007\n",
      "matched idx of Morton:  4012\n",
      "matched idx of Morton:  4086\n",
      "matched idx of Morton:  4107\n",
      "matched idx of Morton:  4108\n",
      "matched idx of Morton:  4126\n",
      "matched idx of Morton:  4135\n",
      "matched idx of Morton:  4203\n",
      "matched idx of Morton:  4204\n",
      "matched idx of Morton:  4233\n",
      "matched idx of Morton:  4239\n",
      "matched idx of Morton:  4246\n",
      "matched idx of Morton:  4320\n",
      "matched idx of Morton:  4340\n",
      "matched idx of Morton:  4341\n",
      "matched idx of Morton:  4372\n",
      "matched idx of Morton:  4374\n",
      "matched idx of Morton:  4382\n",
      "matched idx of Morton:  4402\n",
      "matched idx of Morton:  4439\n",
      "matched idx of Morton:  4469\n",
      "matched idx of Morton:  4470\n",
      "matched idx of Morton:  4491\n",
      "matched idx of Morton:  4515\n",
      "matched idx of Morton:  4517\n",
      "matched idx of Morton:  4545\n",
      "matched idx of Morton:  4567\n",
      "matched idx of Morton:  4593\n",
      "matched idx of Morton:  4617\n",
      "matched idx of Morton:  4620\n",
      "matched idx of Morton:  4622\n",
      "matched idx of Morton:  4641\n",
      "matched idx of Morton:  4659\n",
      "matched idx of Morton:  4695\n",
      "matched idx of Morton:  4696\n",
      "matched idx of Morton:  4697\n",
      "matched idx of Morton:  4708\n",
      "matched idx of Morton:  4758\n",
      "matched idx of Morton:  4831\n",
      "matched idx of Morton:  4861\n",
      "matched idx of Morton:  4879\n",
      "matched idx of Morton:  4900\n",
      "matched idx of Morton:  4932\n",
      "matched idx of Morton:  4998\n",
      "matched idx of Morton:  5024\n",
      "matched idx of Morton:  5075\n",
      "matched idx of Morton:  5087\n"
     ]
    },
    {
     "name": "stdout",
     "output_type": "stream",
     "text": [
      "matched idx of Morton:  5098\n",
      "matched idx of Morton:  5126\n",
      "matched idx of Morton:  5147\n",
      "matched idx of Morton:  5149\n",
      "matched idx of Morton:  5151\n",
      "matched idx of Morton:  5178\n",
      "matched idx of Morton:  5184\n",
      "matched idx of Morton:  5220\n",
      "matched idx of Morton:  5266\n",
      "matched idx of Morton:  5272\n",
      "1780 1068\n",
      "length of mycatalog:1780\n",
      "length of events_morton:5282\n",
      "length of events_anss:131532\n",
      "matched_indices_morton:300\n",
      "matched_indices_anss:575\n",
      "unmatched_indices_morton:1480\n",
      "unmatched_indices_anss:1205\n",
      "unmatched_indices_morton_and_anss (new events):1068\n"
     ]
    }
   ],
   "source": [
    "matched_events_mycatalog2morton = []\n",
    "matched_times_morton2mycatalog = []\n",
    "matched_events_morton2mycatalog = []\n",
    "unmatched_times_morton2mycatalog = []\n",
    "unmatched_events_morton2mycatalog = []\n",
    "unmatched_events_mycatalog2morton_and_anss = []\n",
    "matched_events_anss2mycatalog=[]\n",
    "matched_events_mycatalog2anss = []\n",
    "unmatched_times_anss2mycatalog = []\n",
    "unmatched_events_anss2mycatalog = []\n",
    "matched_times_anss2mycatalog =[]\n",
    "\n",
    "time_threshold = 5 # in seconds\n",
    "dist_threshold =25\n",
    "\n",
    "lat_morton2mycatalog = []\n",
    "lon_morton2mycatalog = []\n",
    "\n",
    "lat_anss2mycatalog =[]\n",
    "lon_anss2mycatalog = []\n",
    "\n",
    "# A set to keep track of matched indices in mycatalog\n",
    "matched_indices_morton = set()\n",
    "matched_indices_anss = set()\n",
    "count_c = 0\n",
    "count_d = 0\n",
    "# Loop over events in Morton's catalog\n",
    "for i in range(len(events_morton)):\n",
    "    t11 = events_morton.iloc[i]['datetime']\n",
    "    olat = events_morton.iloc[i]['LAT']\n",
    "    olon = events_morton.iloc[i]['LON']\n",
    "    \n",
    "                                       \n",
    "    condition = (mycatalog['datetime'] >= t11 - pd.Timedelta(seconds=time_threshold)) & \\\n",
    "                     (mycatalog['datetime'] <= t11 + pd.Timedelta(seconds=time_threshold)) & \\\n",
    "                     (degrees2kilometers(locations2degrees(olat, olon, mycatalog['latitude'], mycatalog['longitude'])) <= dist_threshold)                        \n",
    "    matched_df = mycatalog.loc[condition]\n",
    "\n",
    "    if len(matched_df) == 1:\n",
    "        print('matched idx of Morton: ',i)\n",
    "        count_c+=1\n",
    "        matched_times_morton2mycatalog.append(t11)\n",
    "        matched_events_morton2mycatalog.append(events_morton.iloc[i])\n",
    "        lat_morton2mycatalog.append(events_morton.iloc[i]['LAT'])\n",
    "        lon_morton2mycatalog.append(events_morton.iloc[i]['LON'])\n",
    "        matched_events_mycatalog2morton.append(matched_df)\n",
    "        matched_indices_morton.update(matched_df['idx'])\n",
    "    elif len(matched_df) > 1:\n",
    "        print('matched idx of Morton: ',i)\n",
    "\n",
    "        count_d+=1\n",
    "        diffs = abs(matched_df['datetime'] - t11)\n",
    "        closest_index = diffs.idxmin()\n",
    "        closest_event = matched_df.loc[[closest_index]]\n",
    "        matched_times_morton2mycatalog.append(t11)\n",
    "        matched_events_morton2mycatalog.append(events_morton.iloc[i])\n",
    "        lat_morton2mycatalog.append(events_morton.iloc[i]['LAT'])\n",
    "        lon_morton2mycatalog.append(events_morton.iloc[i]['LON'])\n",
    "        matched_events_mycatalog2morton.append(closest_event)\n",
    "        matched_indices_morton.update(closest_event['idx'])\n",
    "    else:\n",
    "        unmatched_times_morton2mycatalog.append(t11)\n",
    "        unmatched_events_morton2mycatalog.append(events_morton.iloc[i])\n",
    "\n",
    "# All events in mycatalog not matched with Morton's catalog are unmatched\n",
    "unmatched_indices_morton = set(mycatalog.idx) - matched_indices_morton\n",
    "# unmatched_events_mycatalog2morton = mycatalog.iloc[list(unmatched_indices_morton)]\n",
    "count_a =0\n",
    "count_b =0\n",
    "# Loop over events in ANSS catalog\n",
    "for i in range(len(events_anss)):\n",
    "    t11 = events_anss.iloc[i]['datetime']\n",
    "    olat = events_anss.iloc[i]['latitude']\n",
    "    olon = events_anss.iloc[i]['longitude']\n",
    "    \n",
    "                                       \n",
    "    condition = (mycatalog['datetime'] >= t11 - pd.Timedelta(seconds=time_threshold)) & \\\n",
    "                     (mycatalog['datetime'] <= t11 + pd.Timedelta(seconds=time_threshold)) & \\\n",
    "                     (degrees2kilometers(locations2degrees(olat, olon, mycatalog['latitude'], mycatalog['longitude'])) <= dist_threshold)                        \n",
    "    matched_df = mycatalog.loc[condition]\n",
    "    \n",
    "    if len(matched_df) == 1:\n",
    "        \n",
    "        count_a+=1\n",
    "        matched_times_anss2mycatalog.append(t11)\n",
    "        matched_events_anss2mycatalog.append(events_anss.iloc[i])\n",
    "        lat_anss2mycatalog.append(events_anss.iloc[i]['latitude'])\n",
    "        lon_anss2mycatalog.append(events_anss.iloc[i]['longitude'])\n",
    "        matched_events_mycatalog2anss.append(matched_df)\n",
    "        matched_indices_anss.update(matched_df['idx'])\n",
    "        \n",
    "    elif len(matched_df) > 1:\n",
    "        count_b+=1\n",
    "        diffs = abs(matched_df['datetime'] - t11)\n",
    "        closest_index = diffs.idxmin()\n",
    "        closest_event = matched_df.loc[[closest_index]]\n",
    "        matched_times_anss2mycatalog.append(t11)\n",
    "        matched_events_anss2mycatalog.append(events_anss.iloc[i])\n",
    "        lat_anss2mycatalog.append(events_anss.iloc[i]['latitude'])\n",
    "        lon_anss2mycatalog.append(events_anss.iloc[i]['longitude'])\n",
    "        matched_events_mycatalog2anss.append(closest_event)\n",
    "        matched_indices_anss.update(closest_event['idx'])\n",
    "        \n",
    "    else:\n",
    "        unmatched_times_anss2mycatalog.append(t11)\n",
    "        unmatched_events_anss2mycatalog.append(events_anss.iloc[i])\n",
    "\n",
    "# All events in mycatalog not matched with ANSS catalog are unmatched\n",
    "unmatched_indices_anss = set(mycatalog.idx) - matched_indices_anss\n",
    "\n",
    "unmatched_indices_morton_and_anss = unmatched_indices_morton.intersection(unmatched_indices_anss)\n",
    "print(len(mycatalog),len(unmatched_indices_morton_and_anss))\n",
    "\n",
    "# unmatched_events_mycatalog2morton_and_anss = mycatalog.iloc[list(unmatched_indices_morton_and_anss)]\n",
    "unmatched_events_mycatalog2morton_and_anss = mycatalog.loc[mycatalog['event_idx'].isin(list(unmatched_indices_morton_and_anss))]\n",
    "\n",
    "\n",
    "print(f\"length of mycatalog:{len(mycatalog)}\")\n",
    "print(f\"length of events_morton:{len(events_morton)}\")\n",
    "print(f\"length of events_anss:{len(events_anss)}\")\n",
    "print(f\"matched_indices_morton:{len(matched_indices_morton)}\")\n",
    "print(f\"matched_indices_anss:{len(matched_indices_anss)}\")\n",
    "print(f\"unmatched_indices_morton:{len(unmatched_indices_morton)}\")\n",
    "print(f\"unmatched_indices_anss:{len(unmatched_indices_anss)}\")\n",
    "print(f\"unmatched_indices_morton_and_anss (new events):{len(unmatched_indices_morton_and_anss)}\")\n"
   ]
  },
  {
   "cell_type": "code",
   "execution_count": 7,
   "id": "0b6dd0b1",
   "metadata": {},
   "outputs": [
    {
     "name": "stdout",
     "output_type": "stream",
     "text": [
      "length of mycatalog:1780\n",
      "length of events_morton:5282\n",
      "length of events_anss:131532\n",
      "matched_events_mycatalog2morton:300\n",
      "matched_events_morton2mycatalog:300\n",
      "unmatched_events_anss2mycatalog:130957\n",
      "unmatched_events_morton2mycatalog:4982\n",
      "unmatched_events_mycatalog2morton_and_anss (new events):1068\n",
      "matched_events_mycatalog2anss:575\n",
      "matched_events_anss2mycatalog:575\n"
     ]
    }
   ],
   "source": [
    "# new concat code\n",
    "# Concatenate and clean up dataframes\n",
    "if len(matched_events_mycatalog2morton)>0:\n",
    "    matched_events_mycatalog2morton = pd.concat(matched_events_mycatalog2morton).reset_index(drop=True)\n",
    "    matched_times_mycatalog2morton = matched_events_mycatalog2morton['datetime']\n",
    "    lat_mycatalog2morton = matched_events_mycatalog2morton['latitude']\n",
    "    lon_mycatalog2morton = matched_events_mycatalog2morton['longitude']\n",
    "\n",
    "if len(matched_events_morton2mycatalog)>0:   \n",
    "    matched_events_morton2mycatalog = pd.DataFrame(matched_events_morton2mycatalog).reset_index(drop=True)\n",
    "    \n",
    "if len(unmatched_events_anss2mycatalog)>0:\n",
    "    unmatched_events_anss2mycatalog = pd.DataFrame(unmatched_events_anss2mycatalog).reset_index(drop=True)\n",
    "    \n",
    "if len(unmatched_events_morton2mycatalog)>0:\n",
    "    unmatched_events_morton2mycatalog = pd.DataFrame(unmatched_events_morton2mycatalog).reset_index(drop=True)\n",
    "\n",
    "if len(unmatched_events_mycatalog2morton_and_anss) > 0:\n",
    "    unmatched_events_mycatalog2morton_and_anss = unmatched_events_mycatalog2morton_and_anss.reset_index(drop=True)\n",
    "\n",
    "if len(matched_events_mycatalog2anss)>0:\n",
    "    matched_events_mycatalog2anss = pd.concat(matched_events_mycatalog2anss).reset_index(drop=True)\n",
    "    matched_times_mycatalog2anss = matched_events_mycatalog2anss['datetime']\n",
    "    lat_mycatalog2anss = matched_events_mycatalog2anss['latitude']\n",
    "    lon_mycatalog2anss = matched_events_mycatalog2anss['longitude']\n",
    "\n",
    "if len(matched_events_anss2mycatalog)>0:   \n",
    "    matched_events_anss2mycatalog = pd.DataFrame(matched_events_anss2mycatalog).reset_index(drop=True)\n",
    "    matched_times_anss2mycatalog = matched_events_anss2mycatalog['datetime']\n",
    "\n",
    "print(f\"length of mycatalog:{len(mycatalog)}\")\n",
    "print(f\"length of events_morton:{len(events_morton)}\")\n",
    "print(f\"length of events_anss:{len(events_anss)}\")\n",
    "print(f\"matched_events_mycatalog2morton:{len(matched_events_mycatalog2morton)}\")\n",
    "print(f\"matched_events_morton2mycatalog:{len(matched_events_morton2mycatalog)}\")\n",
    "print(f\"unmatched_events_anss2mycatalog:{len(unmatched_events_anss2mycatalog)}\")\n",
    "print(f\"unmatched_events_morton2mycatalog:{len(unmatched_events_morton2mycatalog)}\")\n",
    "print(f\"unmatched_events_mycatalog2morton_and_anss (new events):{len(unmatched_events_mycatalog2morton_and_anss)}\")\n",
    "print(f\"matched_events_mycatalog2anss:{len(matched_events_mycatalog2anss)}\")\n",
    "print(f\"matched_events_anss2mycatalog:{len(matched_events_anss2mycatalog)}\")"
   ]
  },
  {
   "cell_type": "code",
   "execution_count": 8,
   "id": "0da443d3",
   "metadata": {},
   "outputs": [],
   "source": [
    "# Save these three catalogs to csv files\n",
    "matched_events_mycatalog2morton.to_csv(f'../data/datasets_{year}/matched_events_with_morton_mycatalog.csv')\n",
    "matched_events_anss2mycatalog.to_csv(f'../data/datasets_{year}/matched_events_with_mycatalog_anss.csv')\n",
    "matched_events_morton2mycatalog.to_csv(f'../data/datasets_{year}/matched_events_with_mycatalog_morton.csv')\n",
    "unmatched_events_mycatalog2morton_and_anss.to_csv(f'../data/datasets_{year}/new_events.csv')\n",
    "matched_events_mycatalog2anss.to_csv(f'../data/datasets_{year}/matched_events_with_anss_mycatalog.csv')\n",
    "unmatched_events_morton2mycatalog.to_csv(f'../data/datasets_{year}/missing_events_from_mycatalog_morton.csv')\n",
    "unmatched_events_anss2mycatalog.to_csv(f'../data/datasets_{year}/missing_events_from_mycatalog_anss.csv')\n"
   ]
  },
  {
   "cell_type": "markdown",
   "id": "4b308175",
   "metadata": {},
   "source": [
    "## Plot the Origin Times"
   ]
  },
  {
   "cell_type": "markdown",
   "id": "863b722c",
   "metadata": {},
   "source": [
    "### Compare with Morton's Catalog "
   ]
  },
  {
   "cell_type": "code",
   "execution_count": null,
   "id": "aa2d61a3",
   "metadata": {},
   "outputs": [],
   "source": [
    "# Make lists for plotting the 1:1 line\n",
    "x = pd.date_range(start='2011-1-1', end='2015-12-31', periods=len(matched_times_morton2mycatalog))\n",
    "y = pd.date_range(start='2011-1-1', end='2015-12-31', periods=len(matched_times_morton2mycatalog))\n",
    "\n",
    "# Plot the scatter plot\n",
    "plt.figure()\n",
    "plt.scatter(matched_times_mycatalog2morton,matched_times_morton2mycatalog)\n",
    "plt.plot(x,y, 'k--')\n",
    "plt.xlabel('Origin Time of mycatalog')\n",
    "plt.ylabel('Origin Time of Morton')\n",
    "plt.title('Scatter Plot: Origin Times of Matched Events')"
   ]
  },
  {
   "cell_type": "markdown",
   "id": "13a2d257",
   "metadata": {},
   "source": [
    "### Compare with the ANSS Catalog "
   ]
  },
  {
   "cell_type": "code",
   "execution_count": null,
   "id": "25ebca76",
   "metadata": {},
   "outputs": [],
   "source": [
    "# Make lists for plotting the 1:1 line\n",
    "matched_times_mycatalog2anss = pd.to_datetime(matched_times_mycatalog2anss)\n",
    "matched_times_anss2mycatalog = pd.to_datetime(matched_times_anss2mycatalog)\n",
    "\n",
    "x = pd.date_range(start='2014-1-1', end='2014-12-31', periods=len(matched_times_anss2mycatalog))\n",
    "y = pd.date_range(start='2014-1-1', end='2014-12-31', periods=len(matched_times_anss2mycatalog))\n",
    "\n",
    "# Plot the scatter plot\n",
    "plt.figure()\n",
    "plt.scatter(matched_times_mycatalog2anss,matched_times_anss2mycatalog)\n",
    "plt.plot(x,y, 'k--')\n",
    "plt.xlabel('Origin Time of mycatalog')\n",
    "plt.ylabel('Origin Time of Morton')\n",
    "plt.title('Scatter Plot: Origin Times of Matched Events')"
   ]
  },
  {
   "cell_type": "markdown",
   "id": "fc43d9d5",
   "metadata": {},
   "source": [
    "## Plot the Latitudes"
   ]
  },
  {
   "cell_type": "markdown",
   "id": "7ed02e61",
   "metadata": {},
   "source": [
    "### Compare with Morton's Catalog "
   ]
  },
  {
   "cell_type": "code",
   "execution_count": null,
   "id": "e77491ad",
   "metadata": {},
   "outputs": [],
   "source": [
    "# Plot the scatter plot\n",
    "plt.figure()\n",
    "lat_min = min(lat_mycatalog2morton)\n",
    "lat_max = max(lat_mycatalog2morton)\n",
    "\n",
    "# Make lists for plotting the 1:1 line\n",
    "x_lat = np.linspace(lat_min, lat_max, 10)\n",
    "y_lat = np.linspace(lat_min, lat_max, 10)\n",
    "plt.scatter(lat_mycatalog2morton,lat_morton2mycatalog, s=15)\n",
    "plt.plot(x_lat,y_lat, 'k--')\n",
    "plt.xlabel('Latitudes of Our Catalog ($^\\circ$)')\n",
    "plt.ylabel('Latitudes of Morton et al. (2023) ($^\\circ$)')\n",
    "plt.title('Latitudes of Our Catalog vs.Latitudes of Morton et al. (2023)')"
   ]
  },
  {
   "cell_type": "markdown",
   "id": "d6e9ef27",
   "metadata": {},
   "source": [
    "### Compare with the ANSS Catalog "
   ]
  },
  {
   "cell_type": "code",
   "execution_count": null,
   "id": "cfe7f36c",
   "metadata": {},
   "outputs": [],
   "source": [
    "# Plot the scatter plot\n",
    "plt.figure()\n",
    "lat_min = min(lat_mycatalog2anss)\n",
    "lat_max = max(lat_mycatalog2anss)\n",
    "\n",
    "# Make lists for plotting the 1:1 line\n",
    "x_lat = np.linspace(lat_min, lat_max, 10)\n",
    "y_lat = np.linspace(lat_min, lat_max, 10)\n",
    "plt.scatter(lat_mycatalog2anss,lat_anss2mycatalog, s=15)\n",
    "plt.plot(x_lat,y_lat, 'k--')\n",
    "plt.xlabel('Latitudes of Our Catalog ($^\\circ$)')\n",
    "plt.ylabel('Latitudes of ANSS Catalog ($^\\circ$)')\n",
    "plt.title('Latitudes of Our Catalog vs. ANSS Catalog')"
   ]
  },
  {
   "cell_type": "markdown",
   "id": "fc628b1a",
   "metadata": {},
   "source": [
    "## Plot the Longitudes"
   ]
  },
  {
   "cell_type": "markdown",
   "id": "1bb31b59",
   "metadata": {},
   "source": [
    "### Compare with Morton's Catalog "
   ]
  },
  {
   "cell_type": "code",
   "execution_count": null,
   "id": "1e3873dd",
   "metadata": {},
   "outputs": [],
   "source": [
    "# Plot the scatter plot\n",
    "plt.figure()\n",
    "lon_min = min(lon_mycatalog2morton)\n",
    "lon_max = max(lon_mycatalog2morton)\n",
    "\n",
    "# Make lists for plotting the 1:1 line\n",
    "x_lon = np.linspace(lon_min, lon_max, 10)\n",
    "y_lon = np.linspace(lon_min, lon_max, 10)\n",
    "plt.scatter(lon_mycatalog2morton,lon_morton2mycatalog)\n",
    "plt.plot(x_lon,y_lon, 'k--')\n",
    "plt.xlabel('Longitudes of Our Catalog ($^\\circ$)')\n",
    "plt.ylabel('Longitudes of Morton et al. (2023) ($^\\circ$)')\n",
    "plt.title('Longitudes of Our Catalog vs.Latitudes of Morton et al. (2023)')"
   ]
  },
  {
   "cell_type": "markdown",
   "id": "5cfd4045",
   "metadata": {},
   "source": [
    "### Compare with the ANSS Catalog "
   ]
  },
  {
   "cell_type": "code",
   "execution_count": null,
   "id": "a31380f4",
   "metadata": {},
   "outputs": [],
   "source": [
    "# Plot the scatter plot\n",
    "plt.figure()\n",
    "lon_min = min(lon_mycatalog2anss)\n",
    "lon_max = max(lon_mycatalog2anss)\n",
    "\n",
    "# Make lists for plotting the 1:1 line\n",
    "x_lon = np.linspace(lon_min, lon_max, 10)\n",
    "y_lon = np.linspace(lon_min, lon_max, 10)\n",
    "plt.scatter(lon_mycatalog2anss,lon_anss2mycatalog)\n",
    "plt.plot(x_lon,y_lon, 'k--')\n",
    "plt.xlabel('Longitudes of Our Catalog ($^\\circ$)')\n",
    "plt.ylabel('Longitudes of Morton et al. (2023) ($^\\circ$)')\n",
    "plt.title('Longitudes of Our Catalog vs.Latitudes of Morton et al. (2023)')"
   ]
  },
  {
   "cell_type": "markdown",
   "id": "bf7c25f0",
   "metadata": {},
   "source": [
    "## Histograms\n",
    "Make histograms of mycatalog vs. Morton's catalog"
   ]
  },
  {
   "cell_type": "markdown",
   "id": "f814dcb8",
   "metadata": {},
   "source": [
    "### Histogram: All of our catalog "
   ]
  },
  {
   "cell_type": "code",
   "execution_count": null,
   "id": "6a8dd51a",
   "metadata": {},
   "outputs": [],
   "source": [
    "events = pd.read_csv('../../data/datasets_all_years/events_pnsn_wa.csv')"
   ]
  },
  {
   "cell_type": "code",
   "execution_count": null,
   "id": "83f5cde8",
   "metadata": {},
   "outputs": [],
   "source": [
    "# Plot the same histogram but overlay the histograms\n",
    "bins = np.linspace(5,30,25)\n",
    "\n",
    "plt.hist(unmatched_events_mycatalog2morton_and_anss['picks'], bins=bins,  \n",
    "         alpha=0.5, # the transaparency parameter \n",
    "         label='Newly detected events') \n",
    "plt.hist(matched_events_mycatalog2anss['picks'], bins=bins,\n",
    "         alpha=0.5, \n",
    "         label='Events matching the ANSS Catalog')   \n",
    "plt.hist(matched_events_mycatalog2morton['picks'], bins=bins,\n",
    "         alpha=0.5, \n",
    "         label='Events matching Morton et al., 2023') \n",
    "\n",
    "plt.xlabel('Number of Picks')\n",
    "plt.ylabel('Number of Events')  \n",
    "plt.legend(loc='upper right') \n",
    "plt.title('Picks vs. Number of Events') \n",
    "plt.show()\n"
   ]
  },
  {
   "cell_type": "markdown",
   "id": "0039ec69",
   "metadata": {},
   "source": [
    "### Histogram: Matched events alone"
   ]
  },
  {
   "cell_type": "markdown",
   "id": "db128b09",
   "metadata": {},
   "source": [
    "### Compare with Morton et al. (2023)"
   ]
  },
  {
   "cell_type": "code",
   "execution_count": null,
   "id": "0e453e8b",
   "metadata": {},
   "outputs": [],
   "source": [
    "# Plot the histogram of the number of picks for the matched events\n",
    "plt.figure()\n",
    "bins = np.linspace(5,30,25)\n",
    "plt.hist(matched_events_mycatalog2morton['picks'],bins=bins)\n",
    "plt.xlabel('Number of Picks')\n",
    "plt.ylabel('Number of Events')\n",
    "plt.title('Histogram of Matched Events with Morton et al. (2023): Picks vs. the Number of Events')"
   ]
  },
  {
   "cell_type": "markdown",
   "id": "84052dd5",
   "metadata": {},
   "source": [
    "### Compare with ANSS "
   ]
  },
  {
   "cell_type": "code",
   "execution_count": null,
   "id": "c0ed5380",
   "metadata": {},
   "outputs": [],
   "source": [
    "# Plot the histogram of the number of picks for the matched events\n",
    "plt.figure()\n",
    "bins = np.linspace(5,30,25)\n",
    "plt.hist(matched_events_mycatalog2anss['picks'],bins=bins)\n",
    "plt.xlabel('Number of Picks')\n",
    "plt.ylabel('Number of Events')\n",
    "plt.title('Histogram of Matched Events with ANSS: Picks vs. the Number of Events')"
   ]
  },
  {
   "cell_type": "markdown",
   "id": "376b3b7f",
   "metadata": {},
   "source": [
    "## 2. Filter events \n",
    "Filter Events based on the following criteria\n",
    "1. For an event, at least two stations have to be less than 50 km from the event and no station can be 100 km apart from each other.\n",
    "2. An event has to have more than or equal to 6 picks\n"
   ]
  },
  {
   "cell_type": "code",
   "execution_count": 13,
   "id": "fcc97847",
   "metadata": {},
   "outputs": [
    {
     "data": {
      "text/html": [
       "<div>\n",
       "<style scoped>\n",
       "    .dataframe tbody tr th:only-of-type {\n",
       "        vertical-align: middle;\n",
       "    }\n",
       "\n",
       "    .dataframe tbody tr th {\n",
       "        vertical-align: top;\n",
       "    }\n",
       "\n",
       "    .dataframe thead th {\n",
       "        text-align: right;\n",
       "    }\n",
       "</style>\n",
       "<table border=\"1\" class=\"dataframe\">\n",
       "  <thead>\n",
       "    <tr style=\"text-align: right;\">\n",
       "      <th></th>\n",
       "      <th>Unnamed: 0.1</th>\n",
       "      <th>Unnamed: 0</th>\n",
       "      <th>idx</th>\n",
       "      <th>time</th>\n",
       "      <th>x</th>\n",
       "      <th>y</th>\n",
       "      <th>z</th>\n",
       "      <th>picks</th>\n",
       "      <th>latitude</th>\n",
       "      <th>longitude</th>\n",
       "      <th>depth</th>\n",
       "      <th>event_idx</th>\n",
       "      <th>pick_idx</th>\n",
       "      <th>residual</th>\n",
       "      <th>station</th>\n",
       "      <th>phase</th>\n",
       "      <th>time_pick</th>\n",
       "      <th>datetime</th>\n",
       "    </tr>\n",
       "  </thead>\n",
       "  <tbody>\n",
       "    <tr>\n",
       "      <th>0</th>\n",
       "      <td>0</td>\n",
       "      <td>29</td>\n",
       "      <td>3</td>\n",
       "      <td>2011-01-03 02:24:55.148617+00:00</td>\n",
       "      <td>90.924822</td>\n",
       "      <td>-254.856673</td>\n",
       "      <td>0.390625</td>\n",
       "      <td>6</td>\n",
       "      <td>42.200770</td>\n",
       "      <td>-124.399086</td>\n",
       "      <td>0.390625</td>\n",
       "      <td>3</td>\n",
       "      <td>220073</td>\n",
       "      <td>-0.211178</td>\n",
       "      <td>KBO</td>\n",
       "      <td>P</td>\n",
       "      <td>1.294021e+09</td>\n",
       "      <td>2011-01-03 02:24:55.148617+00:00</td>\n",
       "    </tr>\n",
       "    <tr>\n",
       "      <th>1</th>\n",
       "      <td>1</td>\n",
       "      <td>43</td>\n",
       "      <td>6</td>\n",
       "      <td>2011-01-03 07:14:53.750228+00:00</td>\n",
       "      <td>56.339920</td>\n",
       "      <td>-447.960938</td>\n",
       "      <td>12.890625</td>\n",
       "      <td>6</td>\n",
       "      <td>40.465413</td>\n",
       "      <td>-124.835705</td>\n",
       "      <td>12.890625</td>\n",
       "      <td>6</td>\n",
       "      <td>397177</td>\n",
       "      <td>0.342941</td>\n",
       "      <td>K02D</td>\n",
       "      <td>S</td>\n",
       "      <td>1.294039e+09</td>\n",
       "      <td>2011-01-03 07:14:53.750228+00:00</td>\n",
       "    </tr>\n",
       "    <tr>\n",
       "      <th>2</th>\n",
       "      <td>2</td>\n",
       "      <td>62</td>\n",
       "      <td>10</td>\n",
       "      <td>2011-01-04 11:32:14.917683+00:00</td>\n",
       "      <td>55.224278</td>\n",
       "      <td>-427.935310</td>\n",
       "      <td>0.390625</td>\n",
       "      <td>7</td>\n",
       "      <td>40.645813</td>\n",
       "      <td>-124.847109</td>\n",
       "      <td>0.390625</td>\n",
       "      <td>10</td>\n",
       "      <td>229644</td>\n",
       "      <td>0.094996</td>\n",
       "      <td>K02D</td>\n",
       "      <td>P</td>\n",
       "      <td>1.294141e+09</td>\n",
       "      <td>2011-01-04 11:32:14.917683+00:00</td>\n",
       "    </tr>\n",
       "    <tr>\n",
       "      <th>3</th>\n",
       "      <td>3</td>\n",
       "      <td>69</td>\n",
       "      <td>12</td>\n",
       "      <td>2011-01-06 04:41:30.807808+00:00</td>\n",
       "      <td>79.768402</td>\n",
       "      <td>-133.272507</td>\n",
       "      <td>11.328125</td>\n",
       "      <td>7</td>\n",
       "      <td>43.296315</td>\n",
       "      <td>-124.517004</td>\n",
       "      <td>11.328125</td>\n",
       "      <td>12</td>\n",
       "      <td>270683</td>\n",
       "      <td>-0.017572</td>\n",
       "      <td>DBO</td>\n",
       "      <td>P</td>\n",
       "      <td>1.294289e+09</td>\n",
       "      <td>2011-01-06 04:41:30.807808+00:00</td>\n",
       "    </tr>\n",
       "    <tr>\n",
       "      <th>4</th>\n",
       "      <td>4</td>\n",
       "      <td>76</td>\n",
       "      <td>14</td>\n",
       "      <td>2011-01-06 12:08:03.937083+00:00</td>\n",
       "      <td>70.843266</td>\n",
       "      <td>-433.656918</td>\n",
       "      <td>0.390625</td>\n",
       "      <td>9</td>\n",
       "      <td>40.593103</td>\n",
       "      <td>-124.663113</td>\n",
       "      <td>0.390625</td>\n",
       "      <td>14</td>\n",
       "      <td>270744</td>\n",
       "      <td>0.270885</td>\n",
       "      <td>DBO</td>\n",
       "      <td>P</td>\n",
       "      <td>1.294316e+09</td>\n",
       "      <td>2011-01-06 12:08:03.937083+00:00</td>\n",
       "    </tr>\n",
       "    <tr>\n",
       "      <th>...</th>\n",
       "      <td>...</td>\n",
       "      <td>...</td>\n",
       "      <td>...</td>\n",
       "      <td>...</td>\n",
       "      <td>...</td>\n",
       "      <td>...</td>\n",
       "      <td>...</td>\n",
       "      <td>...</td>\n",
       "      <td>...</td>\n",
       "      <td>...</td>\n",
       "      <td>...</td>\n",
       "      <td>...</td>\n",
       "      <td>...</td>\n",
       "      <td>...</td>\n",
       "      <td>...</td>\n",
       "      <td>...</td>\n",
       "      <td>...</td>\n",
       "      <td>...</td>\n",
       "    </tr>\n",
       "    <tr>\n",
       "      <th>1063</th>\n",
       "      <td>1063</td>\n",
       "      <td>13755</td>\n",
       "      <td>2185</td>\n",
       "      <td>2015-12-26 00:02:24.232579+00:00</td>\n",
       "      <td>15.061167</td>\n",
       "      <td>-449.391340</td>\n",
       "      <td>25.390625</td>\n",
       "      <td>10</td>\n",
       "      <td>40.454304</td>\n",
       "      <td>-125.322445</td>\n",
       "      <td>25.390625</td>\n",
       "      <td>2185</td>\n",
       "      <td>180459</td>\n",
       "      <td>0.405924</td>\n",
       "      <td>J01E</td>\n",
       "      <td>P</td>\n",
       "      <td>1.451088e+09</td>\n",
       "      <td>2015-12-26 00:02:24.232579+00:00</td>\n",
       "    </tr>\n",
       "    <tr>\n",
       "      <th>1064</th>\n",
       "      <td>1064</td>\n",
       "      <td>13765</td>\n",
       "      <td>2186</td>\n",
       "      <td>2015-12-29 00:15:57.947990+00:00</td>\n",
       "      <td>74.190192</td>\n",
       "      <td>-425.074506</td>\n",
       "      <td>1.171875</td>\n",
       "      <td>10</td>\n",
       "      <td>40.670087</td>\n",
       "      <td>-124.622568</td>\n",
       "      <td>1.171875</td>\n",
       "      <td>2186</td>\n",
       "      <td>172333</td>\n",
       "      <td>0.234788</td>\n",
       "      <td>DBO</td>\n",
       "      <td>P</td>\n",
       "      <td>1.451348e+09</td>\n",
       "      <td>2015-12-29 00:15:57.947990+00:00</td>\n",
       "    </tr>\n",
       "    <tr>\n",
       "      <th>1065</th>\n",
       "      <td>1065</td>\n",
       "      <td>13788</td>\n",
       "      <td>2189</td>\n",
       "      <td>2015-12-29 21:21:54.859221+00:00</td>\n",
       "      <td>70.843266</td>\n",
       "      <td>-407.909683</td>\n",
       "      <td>0.390625</td>\n",
       "      <td>12</td>\n",
       "      <td>40.824934</td>\n",
       "      <td>-124.660205</td>\n",
       "      <td>0.390625</td>\n",
       "      <td>2189</td>\n",
       "      <td>172345</td>\n",
       "      <td>0.274588</td>\n",
       "      <td>DBO</td>\n",
       "      <td>P</td>\n",
       "      <td>1.451424e+09</td>\n",
       "      <td>2015-12-29 21:21:54.859221+00:00</td>\n",
       "    </tr>\n",
       "    <tr>\n",
       "      <th>1066</th>\n",
       "      <td>1066</td>\n",
       "      <td>13800</td>\n",
       "      <td>2190</td>\n",
       "      <td>2015-12-30 07:41:43.690372+00:00</td>\n",
       "      <td>123.278439</td>\n",
       "      <td>-159.019742</td>\n",
       "      <td>5.859375</td>\n",
       "      <td>7</td>\n",
       "      <td>43.058776</td>\n",
       "      <td>-123.986710</td>\n",
       "      <td>5.859375</td>\n",
       "      <td>2190</td>\n",
       "      <td>383827</td>\n",
       "      <td>-0.221138</td>\n",
       "      <td>J01E</td>\n",
       "      <td>S</td>\n",
       "      <td>1.451461e+09</td>\n",
       "      <td>2015-12-30 07:41:43.690372+00:00</td>\n",
       "    </tr>\n",
       "    <tr>\n",
       "      <th>1067</th>\n",
       "      <td>1067</td>\n",
       "      <td>13816</td>\n",
       "      <td>2192</td>\n",
       "      <td>2015-12-30 17:21:56.886771+00:00</td>\n",
       "      <td>76.421476</td>\n",
       "      <td>-173.323761</td>\n",
       "      <td>19.140625</td>\n",
       "      <td>7</td>\n",
       "      <td>42.936197</td>\n",
       "      <td>-124.563756</td>\n",
       "      <td>19.140625</td>\n",
       "      <td>2192</td>\n",
       "      <td>182969</td>\n",
       "      <td>-0.059408</td>\n",
       "      <td>DBO</td>\n",
       "      <td>P</td>\n",
       "      <td>1.451496e+09</td>\n",
       "      <td>2015-12-30 17:21:56.886771+00:00</td>\n",
       "    </tr>\n",
       "  </tbody>\n",
       "</table>\n",
       "<p>1068 rows × 18 columns</p>\n",
       "</div>"
      ],
      "text/plain": [
       "      Unnamed: 0.1  Unnamed: 0   idx                              time  \\\n",
       "0                0          29     3  2011-01-03 02:24:55.148617+00:00   \n",
       "1                1          43     6  2011-01-03 07:14:53.750228+00:00   \n",
       "2                2          62    10  2011-01-04 11:32:14.917683+00:00   \n",
       "3                3          69    12  2011-01-06 04:41:30.807808+00:00   \n",
       "4                4          76    14  2011-01-06 12:08:03.937083+00:00   \n",
       "...            ...         ...   ...                               ...   \n",
       "1063          1063       13755  2185  2015-12-26 00:02:24.232579+00:00   \n",
       "1064          1064       13765  2186  2015-12-29 00:15:57.947990+00:00   \n",
       "1065          1065       13788  2189  2015-12-29 21:21:54.859221+00:00   \n",
       "1066          1066       13800  2190  2015-12-30 07:41:43.690372+00:00   \n",
       "1067          1067       13816  2192  2015-12-30 17:21:56.886771+00:00   \n",
       "\n",
       "               x           y          z  picks   latitude   longitude  \\\n",
       "0      90.924822 -254.856673   0.390625      6  42.200770 -124.399086   \n",
       "1      56.339920 -447.960938  12.890625      6  40.465413 -124.835705   \n",
       "2      55.224278 -427.935310   0.390625      7  40.645813 -124.847109   \n",
       "3      79.768402 -133.272507  11.328125      7  43.296315 -124.517004   \n",
       "4      70.843266 -433.656918   0.390625      9  40.593103 -124.663113   \n",
       "...          ...         ...        ...    ...        ...         ...   \n",
       "1063   15.061167 -449.391340  25.390625     10  40.454304 -125.322445   \n",
       "1064   74.190192 -425.074506   1.171875     10  40.670087 -124.622568   \n",
       "1065   70.843266 -407.909683   0.390625     12  40.824934 -124.660205   \n",
       "1066  123.278439 -159.019742   5.859375      7  43.058776 -123.986710   \n",
       "1067   76.421476 -173.323761  19.140625      7  42.936197 -124.563756   \n",
       "\n",
       "          depth  event_idx  pick_idx  residual station phase     time_pick  \\\n",
       "0      0.390625          3    220073 -0.211178     KBO     P  1.294021e+09   \n",
       "1     12.890625          6    397177  0.342941    K02D     S  1.294039e+09   \n",
       "2      0.390625         10    229644  0.094996    K02D     P  1.294141e+09   \n",
       "3     11.328125         12    270683 -0.017572     DBO     P  1.294289e+09   \n",
       "4      0.390625         14    270744  0.270885     DBO     P  1.294316e+09   \n",
       "...         ...        ...       ...       ...     ...   ...           ...   \n",
       "1063  25.390625       2185    180459  0.405924    J01E     P  1.451088e+09   \n",
       "1064   1.171875       2186    172333  0.234788     DBO     P  1.451348e+09   \n",
       "1065   0.390625       2189    172345  0.274588     DBO     P  1.451424e+09   \n",
       "1066   5.859375       2190    383827 -0.221138    J01E     S  1.451461e+09   \n",
       "1067  19.140625       2192    182969 -0.059408     DBO     P  1.451496e+09   \n",
       "\n",
       "                              datetime  \n",
       "0     2011-01-03 02:24:55.148617+00:00  \n",
       "1     2011-01-03 07:14:53.750228+00:00  \n",
       "2     2011-01-04 11:32:14.917683+00:00  \n",
       "3     2011-01-06 04:41:30.807808+00:00  \n",
       "4     2011-01-06 12:08:03.937083+00:00  \n",
       "...                                ...  \n",
       "1063  2015-12-26 00:02:24.232579+00:00  \n",
       "1064  2015-12-29 00:15:57.947990+00:00  \n",
       "1065  2015-12-29 21:21:54.859221+00:00  \n",
       "1066  2015-12-30 07:41:43.690372+00:00  \n",
       "1067  2015-12-30 17:21:56.886771+00:00  \n",
       "\n",
       "[1068 rows x 18 columns]"
      ]
     },
     "execution_count": 13,
     "metadata": {},
     "output_type": "execute_result"
    }
   ],
   "source": [
    "# Read the new events file\n",
    "events = pd.read_csv(f'../data/datasets_{year}/new_events.csv')\n",
    "events"
   ]
  },
  {
   "cell_type": "code",
   "execution_count": 14,
   "id": "2b49b018",
   "metadata": {},
   "outputs": [
    {
     "data": {
      "text/html": [
       "<div>\n",
       "<style scoped>\n",
       "    .dataframe tbody tr th:only-of-type {\n",
       "        vertical-align: middle;\n",
       "    }\n",
       "\n",
       "    .dataframe tbody tr th {\n",
       "        vertical-align: top;\n",
       "    }\n",
       "\n",
       "    .dataframe thead th {\n",
       "        text-align: right;\n",
       "    }\n",
       "</style>\n",
       "<table border=\"1\" class=\"dataframe\">\n",
       "  <thead>\n",
       "    <tr style=\"text-align: right;\">\n",
       "      <th></th>\n",
       "      <th>Unnamed: 0</th>\n",
       "      <th>idx</th>\n",
       "      <th>time</th>\n",
       "      <th>x</th>\n",
       "      <th>y</th>\n",
       "      <th>z</th>\n",
       "      <th>picks</th>\n",
       "      <th>latitude</th>\n",
       "      <th>longitude</th>\n",
       "      <th>depth</th>\n",
       "      <th>event_idx</th>\n",
       "      <th>pick_idx</th>\n",
       "      <th>residual</th>\n",
       "      <th>station</th>\n",
       "      <th>phase</th>\n",
       "      <th>time_pick</th>\n",
       "    </tr>\n",
       "  </thead>\n",
       "  <tbody>\n",
       "    <tr>\n",
       "      <th>0</th>\n",
       "      <td>0</td>\n",
       "      <td>0</td>\n",
       "      <td>2011-01-01 10:44:25.058283+00:00</td>\n",
       "      <td>100.965600</td>\n",
       "      <td>-447.960938</td>\n",
       "      <td>6.640625</td>\n",
       "      <td>6</td>\n",
       "      <td>40.461192</td>\n",
       "      <td>-124.309615</td>\n",
       "      <td>6.640625</td>\n",
       "      <td>0</td>\n",
       "      <td>246022</td>\n",
       "      <td>0.185083</td>\n",
       "      <td>K02D</td>\n",
       "      <td>P</td>\n",
       "      <td>1.293879e+09</td>\n",
       "    </tr>\n",
       "    <tr>\n",
       "      <th>6</th>\n",
       "      <td>6</td>\n",
       "      <td>1</td>\n",
       "      <td>2011-01-02 06:00:27.043481+00:00</td>\n",
       "      <td>-31.795797</td>\n",
       "      <td>-433.656918</td>\n",
       "      <td>12.109375</td>\n",
       "      <td>12</td>\n",
       "      <td>40.595524</td>\n",
       "      <td>-125.875626</td>\n",
       "      <td>12.109375</td>\n",
       "      <td>1</td>\n",
       "      <td>230134</td>\n",
       "      <td>0.866968</td>\n",
       "      <td>DBO</td>\n",
       "      <td>P</td>\n",
       "      <td>1.293948e+09</td>\n",
       "    </tr>\n",
       "    <tr>\n",
       "      <th>18</th>\n",
       "      <td>18</td>\n",
       "      <td>2</td>\n",
       "      <td>2011-01-02 22:40:11.017906+00:00</td>\n",
       "      <td>78.652760</td>\n",
       "      <td>-447.960938</td>\n",
       "      <td>1.953125</td>\n",
       "      <td>11</td>\n",
       "      <td>40.463601</td>\n",
       "      <td>-124.572646</td>\n",
       "      <td>1.953125</td>\n",
       "      <td>2</td>\n",
       "      <td>230277</td>\n",
       "      <td>0.451371</td>\n",
       "      <td>DBO</td>\n",
       "      <td>P</td>\n",
       "      <td>1.294008e+09</td>\n",
       "    </tr>\n",
       "    <tr>\n",
       "      <th>29</th>\n",
       "      <td>29</td>\n",
       "      <td>3</td>\n",
       "      <td>2011-01-03 02:24:55.148617+00:00</td>\n",
       "      <td>90.924822</td>\n",
       "      <td>-254.856673</td>\n",
       "      <td>0.390625</td>\n",
       "      <td>6</td>\n",
       "      <td>42.200770</td>\n",
       "      <td>-124.399086</td>\n",
       "      <td>0.390625</td>\n",
       "      <td>3</td>\n",
       "      <td>220073</td>\n",
       "      <td>-0.211178</td>\n",
       "      <td>KBO</td>\n",
       "      <td>P</td>\n",
       "      <td>1.294021e+09</td>\n",
       "    </tr>\n",
       "    <tr>\n",
       "      <th>35</th>\n",
       "      <td>35</td>\n",
       "      <td>5</td>\n",
       "      <td>2011-01-03 07:08:42.728265+00:00</td>\n",
       "      <td>237.073922</td>\n",
       "      <td>-194.779791</td>\n",
       "      <td>0.390625</td>\n",
       "      <td>8</td>\n",
       "      <td>42.710313</td>\n",
       "      <td>-122.606237</td>\n",
       "      <td>0.390625</td>\n",
       "      <td>5</td>\n",
       "      <td>282727</td>\n",
       "      <td>-0.079647</td>\n",
       "      <td>DBO</td>\n",
       "      <td>P</td>\n",
       "      <td>1.294039e+09</td>\n",
       "    </tr>\n",
       "    <tr>\n",
       "      <th>...</th>\n",
       "      <td>...</td>\n",
       "      <td>...</td>\n",
       "      <td>...</td>\n",
       "      <td>...</td>\n",
       "      <td>...</td>\n",
       "      <td>...</td>\n",
       "      <td>...</td>\n",
       "      <td>...</td>\n",
       "      <td>...</td>\n",
       "      <td>...</td>\n",
       "      <td>...</td>\n",
       "      <td>...</td>\n",
       "      <td>...</td>\n",
       "      <td>...</td>\n",
       "      <td>...</td>\n",
       "      <td>...</td>\n",
       "    </tr>\n",
       "    <tr>\n",
       "      <th>13788</th>\n",
       "      <td>13788</td>\n",
       "      <td>2189</td>\n",
       "      <td>2015-12-29 21:21:54.859221+00:00</td>\n",
       "      <td>70.843266</td>\n",
       "      <td>-407.909683</td>\n",
       "      <td>0.390625</td>\n",
       "      <td>12</td>\n",
       "      <td>40.824934</td>\n",
       "      <td>-124.660205</td>\n",
       "      <td>0.390625</td>\n",
       "      <td>2189</td>\n",
       "      <td>172345</td>\n",
       "      <td>0.274588</td>\n",
       "      <td>DBO</td>\n",
       "      <td>P</td>\n",
       "      <td>1.451424e+09</td>\n",
       "    </tr>\n",
       "    <tr>\n",
       "      <th>13800</th>\n",
       "      <td>13800</td>\n",
       "      <td>2190</td>\n",
       "      <td>2015-12-30 07:41:43.690372+00:00</td>\n",
       "      <td>123.278439</td>\n",
       "      <td>-159.019742</td>\n",
       "      <td>5.859375</td>\n",
       "      <td>7</td>\n",
       "      <td>43.058776</td>\n",
       "      <td>-123.986710</td>\n",
       "      <td>5.859375</td>\n",
       "      <td>2190</td>\n",
       "      <td>383827</td>\n",
       "      <td>-0.221138</td>\n",
       "      <td>J01E</td>\n",
       "      <td>S</td>\n",
       "      <td>1.451461e+09</td>\n",
       "    </tr>\n",
       "    <tr>\n",
       "      <th>13807</th>\n",
       "      <td>13807</td>\n",
       "      <td>2191</td>\n",
       "      <td>2015-12-30 15:14:18.895135+00:00</td>\n",
       "      <td>85.346612</td>\n",
       "      <td>-406.479281</td>\n",
       "      <td>5.859375</td>\n",
       "      <td>9</td>\n",
       "      <td>40.836433</td>\n",
       "      <td>-124.488107</td>\n",
       "      <td>5.859375</td>\n",
       "      <td>2191</td>\n",
       "      <td>383828</td>\n",
       "      <td>0.159986</td>\n",
       "      <td>J01E</td>\n",
       "      <td>S</td>\n",
       "      <td>1.451489e+09</td>\n",
       "    </tr>\n",
       "    <tr>\n",
       "      <th>13816</th>\n",
       "      <td>13816</td>\n",
       "      <td>2192</td>\n",
       "      <td>2015-12-30 17:21:56.886771+00:00</td>\n",
       "      <td>76.421476</td>\n",
       "      <td>-173.323761</td>\n",
       "      <td>19.140625</td>\n",
       "      <td>7</td>\n",
       "      <td>42.936197</td>\n",
       "      <td>-124.563756</td>\n",
       "      <td>19.140625</td>\n",
       "      <td>2192</td>\n",
       "      <td>182969</td>\n",
       "      <td>-0.059408</td>\n",
       "      <td>DBO</td>\n",
       "      <td>P</td>\n",
       "      <td>1.451496e+09</td>\n",
       "    </tr>\n",
       "    <tr>\n",
       "      <th>13823</th>\n",
       "      <td>13823</td>\n",
       "      <td>2194</td>\n",
       "      <td>2015-12-31 09:46:36.747704+00:00</td>\n",
       "      <td>103.196884</td>\n",
       "      <td>-322.085565</td>\n",
       "      <td>1.171875</td>\n",
       "      <td>7</td>\n",
       "      <td>41.594114</td>\n",
       "      <td>-124.262270</td>\n",
       "      <td>1.171875</td>\n",
       "      <td>2194</td>\n",
       "      <td>185675</td>\n",
       "      <td>-0.005921</td>\n",
       "      <td>K02D</td>\n",
       "      <td>P</td>\n",
       "      <td>1.451555e+09</td>\n",
       "    </tr>\n",
       "  </tbody>\n",
       "</table>\n",
       "<p>1780 rows × 16 columns</p>\n",
       "</div>"
      ],
      "text/plain": [
       "       Unnamed: 0   idx                              time           x  \\\n",
       "0               0     0  2011-01-01 10:44:25.058283+00:00  100.965600   \n",
       "6               6     1  2011-01-02 06:00:27.043481+00:00  -31.795797   \n",
       "18             18     2  2011-01-02 22:40:11.017906+00:00   78.652760   \n",
       "29             29     3  2011-01-03 02:24:55.148617+00:00   90.924822   \n",
       "35             35     5  2011-01-03 07:08:42.728265+00:00  237.073922   \n",
       "...           ...   ...                               ...         ...   \n",
       "13788       13788  2189  2015-12-29 21:21:54.859221+00:00   70.843266   \n",
       "13800       13800  2190  2015-12-30 07:41:43.690372+00:00  123.278439   \n",
       "13807       13807  2191  2015-12-30 15:14:18.895135+00:00   85.346612   \n",
       "13816       13816  2192  2015-12-30 17:21:56.886771+00:00   76.421476   \n",
       "13823       13823  2194  2015-12-31 09:46:36.747704+00:00  103.196884   \n",
       "\n",
       "                y          z  picks   latitude   longitude      depth  \\\n",
       "0     -447.960938   6.640625      6  40.461192 -124.309615   6.640625   \n",
       "6     -433.656918  12.109375     12  40.595524 -125.875626  12.109375   \n",
       "18    -447.960938   1.953125     11  40.463601 -124.572646   1.953125   \n",
       "29    -254.856673   0.390625      6  42.200770 -124.399086   0.390625   \n",
       "35    -194.779791   0.390625      8  42.710313 -122.606237   0.390625   \n",
       "...           ...        ...    ...        ...         ...        ...   \n",
       "13788 -407.909683   0.390625     12  40.824934 -124.660205   0.390625   \n",
       "13800 -159.019742   5.859375      7  43.058776 -123.986710   5.859375   \n",
       "13807 -406.479281   5.859375      9  40.836433 -124.488107   5.859375   \n",
       "13816 -173.323761  19.140625      7  42.936197 -124.563756  19.140625   \n",
       "13823 -322.085565   1.171875      7  41.594114 -124.262270   1.171875   \n",
       "\n",
       "       event_idx  pick_idx  residual station phase     time_pick  \n",
       "0              0    246022  0.185083    K02D     P  1.293879e+09  \n",
       "6              1    230134  0.866968     DBO     P  1.293948e+09  \n",
       "18             2    230277  0.451371     DBO     P  1.294008e+09  \n",
       "29             3    220073 -0.211178     KBO     P  1.294021e+09  \n",
       "35             5    282727 -0.079647     DBO     P  1.294039e+09  \n",
       "...          ...       ...       ...     ...   ...           ...  \n",
       "13788       2189    172345  0.274588     DBO     P  1.451424e+09  \n",
       "13800       2190    383827 -0.221138    J01E     S  1.451461e+09  \n",
       "13807       2191    383828  0.159986    J01E     S  1.451489e+09  \n",
       "13816       2192    182969 -0.059408     DBO     P  1.451496e+09  \n",
       "13823       2194    185675 -0.005921    K02D     P  1.451555e+09  \n",
       "\n",
       "[1780 rows x 16 columns]"
      ]
     },
     "execution_count": 14,
     "metadata": {},
     "output_type": "execute_result"
    }
   ],
   "source": [
    "all_pick_assignments = pd.read_csv(f'../data/datasets_{year}/all_pick_assignments_{year}.csv')\n",
    "mycatalog = all_pick_assignments.drop_duplicates(subset=['idx'])\n",
    "mycatalog"
   ]
  },
  {
   "cell_type": "code",
   "execution_count": 15,
   "id": "c0c23e8c",
   "metadata": {},
   "outputs": [],
   "source": [
    "count = 0"
   ]
  },
  {
   "cell_type": "code",
   "execution_count": 21,
   "id": "650f1d56",
   "metadata": {
    "scrolled": true
   },
   "outputs": [
    {
     "name": "stderr",
     "output_type": "stream",
     "text": [
      "/tmp/ipykernel_2255913/2718798803.py:20: SettingWithCopyWarning: \n",
      "A value is trying to be set on a copy of a slice from a DataFrame.\n",
      "Try using .loc[row_indexer,col_indexer] = value instead\n",
      "\n",
      "See the caveats in the documentation: https://pandas.pydata.org/pandas-docs/stable/user_guide/indexing.html#returning-a-view-versus-a-copy\n",
      "  mycatalog['datetime'] = pd.to_datetime(mycatalog['time'], utc = True)\n",
      "  1%|          | 6/990 [00:06<17:52,  1.09s/it]"
     ]
    },
    {
     "name": "stdout",
     "output_type": "stream",
     "text": [
      "[[None, 'TA', 'J01D', 32.37364964124006], [None, 'TA', 'K02D', 78.07232620558604], [None, 'UO', 'DBO', 88.26437089160638]]\n"
     ]
    },
    {
     "name": "stderr",
     "output_type": "stream",
     "text": [
      "\r",
      "  1%|          | 7/990 [00:07<16:18,  1.00it/s]"
     ]
    },
    {
     "name": "stdout",
     "output_type": "stream",
     "text": [
      "[[None, 'TA', 'J01D', 27.468600430322077], [None, 'TA', 'K02D', 76.44083197374432], [None, 'UO', 'DBO', 83.04103094709794]]\n"
     ]
    },
    {
     "name": "stderr",
     "output_type": "stream",
     "text": [
      "\r",
      "  1%|          | 8/990 [00:09<19:18,  1.18s/it]"
     ]
    },
    {
     "name": "stdout",
     "output_type": "stream",
     "text": [
      "[[None, 'NC', 'KSXB', 140.563894252865], [None, 'TA', 'L02D', 160.69818208047835], [None, 'TA', 'K02D', 169.74639907581258], [None, 'TA', 'J01D', 179.89053182836156], [None, 'UO', 'DBO', 221.9760853377565]]\n"
     ]
    },
    {
     "name": "stderr",
     "output_type": "stream",
     "text": [
      "\r",
      "  1%|          | 9/990 [00:09<16:46,  1.03s/it]"
     ]
    },
    {
     "name": "stdout",
     "output_type": "stream",
     "text": [
      "[[None, 'NC', 'KSXB', 312.224729622608], [None, 'TA', 'L02D', 348.6408683718313], [None, 'TA', 'K02D', 376.38746744972127]]\n"
     ]
    },
    {
     "name": "stderr",
     "output_type": "stream",
     "text": [
      "\r",
      "  1%|          | 10/990 [00:11<18:08,  1.11s/it]"
     ]
    },
    {
     "name": "stdout",
     "output_type": "stream",
     "text": [
      "[[None, 'TA', 'J01D', 190.67597563724232], [None, 'UO', 'DBO', 234.95393979076346], [None, 'TA', 'K02D', 244.18399665570394], [None, 'TA', 'L02D', 296.2166226575476], [None, 'NC', 'KSXB', 317.56335056597953]]\n"
     ]
    },
    {
     "name": "stderr",
     "output_type": "stream",
     "text": [
      "\r",
      "  1%|          | 11/990 [00:12<18:05,  1.11s/it]"
     ]
    },
    {
     "name": "stdout",
     "output_type": "stream",
     "text": [
      "[[None, 'TA', 'J01D', 196.85603326708105], [None, 'UO', 'DBO', 241.09119191600684], [None, 'TA', 'K02D', 250.32771552199563], [None, 'TA', 'L02D', 302.24522567244264]]\n"
     ]
    },
    {
     "name": "stderr",
     "output_type": "stream",
     "text": [
      "  1%|▏         | 13/990 [00:14<17:42,  1.09s/it]"
     ]
    },
    {
     "name": "stdout",
     "output_type": "stream",
     "text": [
      "[[None, 'NC', 'KSXB', 207.66060559644202], [None, 'TA', 'L02D', 242.7108067400254], [None, 'TA', 'K02D', 270.1417028385893], [None, 'TA', 'J01D', 290.0852320465355], [None, 'UO', 'DBO', 326.47389478125604]]\n"
     ]
    },
    {
     "name": "stderr",
     "output_type": "stream",
     "text": [
      "\r",
      "  1%|▏         | 14/990 [00:15<17:02,  1.05s/it]"
     ]
    },
    {
     "name": "stdout",
     "output_type": "stream",
     "text": [
      "[[None, 'TA', 'J01D', 22.800692811093874], [None, 'TA', 'K02D', 72.52184831978805], [None, 'UO', 'DBO', 78.44936108532251]]\n"
     ]
    },
    {
     "name": "stderr",
     "output_type": "stream",
     "text": [
      "\r",
      "  2%|▏         | 15/990 [00:15<15:16,  1.06it/s]"
     ]
    },
    {
     "name": "stdout",
     "output_type": "stream",
     "text": [
      "[[None, 'TA', 'J01D', 26.04607834797147], [None, 'TA', 'K02D', 74.62921046152422], [None, 'UO', 'DBO', 81.76498590799244]]\n"
     ]
    },
    {
     "name": "stderr",
     "output_type": "stream",
     "text": [
      "\r",
      "  2%|▏         | 16/990 [00:16<14:06,  1.15it/s]"
     ]
    },
    {
     "name": "stdout",
     "output_type": "stream",
     "text": [
      "[[None, 'NC', 'KSXB', 155.09457269813763], [None, 'TA', 'L02D', 197.75015200113927], [None, 'TA', 'K02D', 250.7511221768082]]\n"
     ]
    },
    {
     "name": "stderr",
     "output_type": "stream",
     "text": [
      "\r",
      "  2%|▏         | 17/990 [00:17<15:08,  1.07it/s]"
     ]
    },
    {
     "name": "stdout",
     "output_type": "stream",
     "text": [
      "[[None, 'NC', 'KSXB', 65.34619285720382], [None, 'TA', 'L02D', 83.23918944469669], [None, 'TA', 'K02D', 104.49439848115016]]\n"
     ]
    },
    {
     "name": "stderr",
     "output_type": "stream",
     "text": [
      "\r",
      "  2%|▏         | 18/990 [00:18<14:04,  1.15it/s]"
     ]
    },
    {
     "name": "stdout",
     "output_type": "stream",
     "text": [
      "[[None, 'NC', 'KSXB', 155.15721957116355], [None, 'TA', 'L02D', 197.98363512664454], [None, 'TA', 'K02D', 249.6834403581383]]\n"
     ]
    },
    {
     "name": "stderr",
     "output_type": "stream",
     "text": [
      "\r",
      "  2%|▏         | 19/990 [00:19<13:29,  1.20it/s]"
     ]
    },
    {
     "name": "stdout",
     "output_type": "stream",
     "text": [
      "[[None, 'NC', 'KSXB', 139.35684241658672], [None, 'TA', 'L02D', 181.77483363011152], [None, 'TA', 'K02D', 235.83180642466797]]\n"
     ]
    },
    {
     "name": "stderr",
     "output_type": "stream",
     "text": [
      "\r",
      "  2%|▏         | 20/990 [00:19<12:49,  1.26it/s]"
     ]
    },
    {
     "name": "stdout",
     "output_type": "stream",
     "text": [
      "[[None, 'TA', 'J01D', 22.800692811093874], [None, 'TA', 'K02D', 72.52184831978805], [None, 'UO', 'DBO', 78.44936108532251]]\n"
     ]
    },
    {
     "name": "stderr",
     "output_type": "stream",
     "text": [
      "\r",
      "  2%|▏         | 21/990 [00:20<13:49,  1.17it/s]"
     ]
    },
    {
     "name": "stdout",
     "output_type": "stream",
     "text": [
      "[[None, 'NC', 'KSXB', 124.87595226033692], [None, 'TA', 'L02D', 163.8381327884315], [None, 'TA', 'K02D', 202.06063546949997], [None, 'UO', 'DBO', 260.23686004489906]]\n"
     ]
    },
    {
     "name": "stderr",
     "output_type": "stream",
     "text": [
      "\r",
      "  2%|▏         | 22/990 [00:21<12:55,  1.25it/s]"
     ]
    },
    {
     "name": "stdout",
     "output_type": "stream",
     "text": [
      "[[None, 'NC', 'KSXB', 142.8222068473755], [None, 'TA', 'L02D', 185.49825304219837], [None, 'TA', 'K02D', 238.4748047758497]]\n"
     ]
    },
    {
     "name": "stderr",
     "output_type": "stream",
     "text": [
      "\r",
      "  2%|▏         | 23/990 [00:22<14:30,  1.11it/s]"
     ]
    },
    {
     "name": "stdout",
     "output_type": "stream",
     "text": [
      "[[None, 'TA', 'J01D', 284.96665087718293], [None, 'TA', 'K02D', 316.4942992212498], [None, 'NC', 'KSXB', 340.15558784859337], [None, 'UO', 'DBO', 340.8727521360443], [None, 'TA', 'L02D', 342.4150881087978]]\n"
     ]
    },
    {
     "name": "stderr",
     "output_type": "stream",
     "text": [
      "\r",
      "  2%|▏         | 24/990 [00:23<14:59,  1.07it/s]"
     ]
    },
    {
     "name": "stdout",
     "output_type": "stream",
     "text": [
      "[[None, 'NC', 'KSXB', 74.8328907941569], [None, 'TA', 'L02D', 117.32651874507245], [None, 'TA', 'K02D', 171.64374309970492], [None, 'TA', 'J01D', 218.55706348529517]]\n"
     ]
    },
    {
     "name": "stderr",
     "output_type": "stream",
     "text": [
      "\r",
      "  3%|▎         | 25/990 [00:24<16:23,  1.02s/it]"
     ]
    },
    {
     "name": "stdout",
     "output_type": "stream",
     "text": [
      "[[None, 'NC', 'KSXB', 155.00336401113523], [None, 'TA', 'L02D', 195.61462404775517], [None, 'TA', 'K02D', 252.75922436180923], [None, 'TA', 'J01D', 301.29331860981887], [None, 'UO', 'DBO', 306.41867974417005]]\n"
     ]
    },
    {
     "name": "stderr",
     "output_type": "stream",
     "text": [
      "\r",
      "  3%|▎         | 26/990 [00:25<16:01,  1.00it/s]"
     ]
    },
    {
     "name": "stdout",
     "output_type": "stream",
     "text": [
      "[[None, 'UO', 'DBO', 41.86247794450895], [None, 'TA', 'J01D', 58.96164246091781], [None, 'TA', 'K02D', 91.47604129404971]]\n"
     ]
    },
    {
     "name": "stderr",
     "output_type": "stream",
     "text": [
      "\r",
      "  3%|▎         | 27/990 [00:27<16:43,  1.04s/it]"
     ]
    },
    {
     "name": "stdout",
     "output_type": "stream",
     "text": [
      "[[None, 'NC', 'KSXB', 73.45026105835862], [None, 'TA', 'L02D', 113.11958090116775], [None, 'TA', 'K02D', 155.8085378694593], [None, 'TA', 'J01D', 194.2421300365872]]\n"
     ]
    },
    {
     "name": "stderr",
     "output_type": "stream",
     "text": [
      "\r",
      "  3%|▎         | 28/990 [00:28<18:27,  1.15s/it]"
     ]
    },
    {
     "name": "stdout",
     "output_type": "stream",
     "text": [
      "[[None, 'NC', 'KSXB', 156.04639745630553], [None, 'TA', 'L02D', 198.9057382958267], [None, 'TA', 'K02D', 249.95977152069028], [None, 'UO', 'DBO', 306.97953972748564]]\n"
     ]
    },
    {
     "name": "stderr",
     "output_type": "stream",
     "text": [
      "\r",
      "  3%|▎         | 29/990 [00:29<18:51,  1.18s/it]"
     ]
    },
    {
     "name": "stdout",
     "output_type": "stream",
     "text": [
      "[[None, 'NC', 'KSXB', 152.8672944106956], [None, 'TA', 'L02D', 168.21591054841628], [None, 'TA', 'K02D', 169.68818173646545], [None, 'TA', 'J01D', 172.99657842634653], [None, 'UO', 'DBO', 218.74697241301385]]\n"
     ]
    },
    {
     "name": "stderr",
     "output_type": "stream",
     "text": [
      "\r",
      "  3%|▎         | 30/990 [00:30<17:12,  1.08s/it]"
     ]
    },
    {
     "name": "stdout",
     "output_type": "stream",
     "text": [
      "[[None, 'TA', 'J01D', 104.42733093442435], [None, 'UO', 'DBO', 154.5442602073557], [None, 'TA', 'K02D', 155.59077793436734]]\n"
     ]
    },
    {
     "name": "stderr",
     "output_type": "stream",
     "text": [
      "\r",
      "  3%|▎         | 31/990 [00:31<16:18,  1.02s/it]"
     ]
    },
    {
     "name": "stdout",
     "output_type": "stream",
     "text": [
      "[[None, 'NC', 'KSXB', 126.34239294202553], [None, 'TA', 'L02D', 164.7611303861898], [None, 'TA', 'K02D', 201.8592545792415], [None, 'UO', 'DBO', 259.97889640191784]]\n"
     ]
    },
    {
     "name": "stderr",
     "output_type": "stream",
     "text": [
      "\r",
      "  3%|▎         | 32/990 [00:32<15:29,  1.03it/s]"
     ]
    },
    {
     "name": "stdout",
     "output_type": "stream",
     "text": [
      "[[None, 'NC', 'KSXB', 34.936270406850056], [None, 'TA', 'L02D', 66.69981122013704], [None, 'TA', 'K02D', 107.24522633060364], [None, 'UO', 'DBO', 165.2123266449369]]\n"
     ]
    },
    {
     "name": "stderr",
     "output_type": "stream",
     "text": [
      "\r",
      "  3%|▎         | 33/990 [00:33<15:19,  1.04it/s]"
     ]
    },
    {
     "name": "stdout",
     "output_type": "stream",
     "text": [
      "[[None, 'NC', 'KSXB', 132.7529487724007], [None, 'TA', 'L02D', 175.58692520215203], [None, 'TA', 'K02D', 227.3993201890571], [None, 'UO', 'DBO', 284.1222402326161]]\n"
     ]
    },
    {
     "name": "stderr",
     "output_type": "stream",
     "text": [
      "\r",
      "  3%|▎         | 34/990 [00:34<15:51,  1.01it/s]"
     ]
    },
    {
     "name": "stdout",
     "output_type": "stream",
     "text": [
      "[[None, 'NC', 'KSXB', 109.52709615420959], [None, 'TA', 'L02D', 152.30823029322366], [None, 'TA', 'K02D', 202.06495900171285], [None, 'UO', 'DBO', 259.3084638483425]]\n"
     ]
    },
    {
     "name": "stderr",
     "output_type": "stream",
     "text": [
      "\r",
      "  4%|▎         | 35/990 [00:35<14:52,  1.07it/s]"
     ]
    },
    {
     "name": "stdout",
     "output_type": "stream",
     "text": [
      "[[None, 'NC', 'KSXB', 101.52431227208004], [None, 'TA', 'L02D', 138.87154814706656], [None, 'TA', 'K02D', 197.94470712526763]]\n"
     ]
    },
    {
     "name": "stderr",
     "output_type": "stream",
     "text": [
      "\r",
      "  4%|▎         | 36/990 [00:36<15:19,  1.04it/s]"
     ]
    },
    {
     "name": "stdout",
     "output_type": "stream",
     "text": [
      "[[None, 'NC', 'KSXB', 89.71940049716113], [None, 'TA', 'L02D', 132.46179468684915], [None, 'TA', 'K02D', 182.3625764474147]]\n"
     ]
    },
    {
     "name": "stderr",
     "output_type": "stream",
     "text": [
      "\r",
      "  4%|▎         | 37/990 [00:37<15:30,  1.02it/s]"
     ]
    },
    {
     "name": "stdout",
     "output_type": "stream",
     "text": [
      "[[None, 'NC', 'KSXB', 127.3172102671211], [None, 'TA', 'L02D', 165.6568441967568], [None, 'TA', 'K02D', 202.55578046818283], [None, 'UO', 'DBO', 260.66164246850957]]\n"
     ]
    },
    {
     "name": "stderr",
     "output_type": "stream",
     "text": [
      "\r",
      "  4%|▍         | 38/990 [00:37<14:24,  1.10it/s]"
     ]
    },
    {
     "name": "stdout",
     "output_type": "stream",
     "text": [
      "[[None, 'UO', 'DBO', 9.143852700341297], [None, 'TA', 'K02D', 61.968229999092515], [None, 'TA', 'J01D', 64.93986208889582]]\n"
     ]
    },
    {
     "name": "stderr",
     "output_type": "stream",
     "text": [
      "\r",
      "  4%|▍         | 39/990 [00:38<14:09,  1.12it/s]"
     ]
    },
    {
     "name": "stdout",
     "output_type": "stream",
     "text": [
      "[[None, 'NC', 'KSXB', 149.8920028152798], [None, 'TA', 'L02D', 192.6035672720619], [None, 'TA', 'K02D', 245.32317841625334]]\n"
     ]
    },
    {
     "name": "stderr",
     "output_type": "stream",
     "text": [
      "\r",
      "  4%|▍         | 40/990 [00:39<13:42,  1.16it/s]"
     ]
    },
    {
     "name": "stdout",
     "output_type": "stream",
     "text": [
      "[[None, 'NC', 'KSXB', 156.6041921139933], [None, 'TA', 'L02D', 197.27691463072782], [None, 'TA', 'K02D', 254.35607538339124]]\n"
     ]
    },
    {
     "name": "stderr",
     "output_type": "stream",
     "text": [
      "\r",
      "  4%|▍         | 41/990 [00:40<13:18,  1.19it/s]"
     ]
    },
    {
     "name": "stdout",
     "output_type": "stream",
     "text": [
      "[[None, 'NC', 'KSXB', 40.93576673196269], [None, 'TA', 'L02D', 83.2727459033975], [None, 'TA', 'K02D', 133.5353051645047]]\n"
     ]
    },
    {
     "name": "stderr",
     "output_type": "stream",
     "text": [
      "\r",
      "  4%|▍         | 42/990 [00:40<12:27,  1.27it/s]"
     ]
    },
    {
     "name": "stdout",
     "output_type": "stream",
     "text": [
      "[[None, 'NC', 'KSXB', 63.46210251265463], [None, 'TA', 'L02D', 79.55458862169243], [None, 'TA', 'K02D', 100.10191273196448]]\n"
     ]
    },
    {
     "name": "stderr",
     "output_type": "stream",
     "text": [
      "\r",
      "  4%|▍         | 43/990 [00:41<11:47,  1.34it/s]"
     ]
    },
    {
     "name": "stdout",
     "output_type": "stream",
     "text": [
      "[[None, 'NC', 'KSXB', 156.7424785178305], [None, 'TA', 'L02D', 197.98224837853886], [None, 'TA', 'K02D', 254.37243956893988]]\n"
     ]
    },
    {
     "name": "stderr",
     "output_type": "stream",
     "text": [
      "\r",
      "  4%|▍         | 44/990 [00:42<12:04,  1.31it/s]"
     ]
    },
    {
     "name": "stdout",
     "output_type": "stream",
     "text": [
      "[[None, 'NC', 'KSXB', 58.303653575632566], [None, 'TA', 'L02D', 97.48478470188532], [None, 'TA', 'K02D', 155.5269500476027]]\n"
     ]
    },
    {
     "name": "stderr",
     "output_type": "stream",
     "text": [
      "\r",
      "  5%|▍         | 45/990 [00:43<11:57,  1.32it/s]"
     ]
    },
    {
     "name": "stdout",
     "output_type": "stream",
     "text": [
      "[[None, 'NC', 'KSXB', 128.5520270472965], [None, 'TA', 'L02D', 170.53973546035866], [None, 'TA', 'K02D', 225.74416002123093]]\n"
     ]
    },
    {
     "name": "stderr",
     "output_type": "stream",
     "text": [
      "\r",
      "  5%|▍         | 46/990 [00:44<13:17,  1.18it/s]"
     ]
    },
    {
     "name": "stdout",
     "output_type": "stream",
     "text": [
      "[[None, 'NC', 'KSXB', 77.53880767029084], [None, 'TA', 'L02D', 120.39144089802816], [None, 'TA', 'K02D', 171.7329489401354], [None, 'TA', 'J01D', 216.10266770706096]]\n"
     ]
    },
    {
     "name": "stderr",
     "output_type": "stream",
     "text": [
      "\r",
      "  5%|▍         | 47/990 [00:45<15:33,  1.01it/s]"
     ]
    },
    {
     "name": "stdout",
     "output_type": "stream",
     "text": [
      "[[None, 'NC', 'KSXB', 212.7924190117183], [None, 'TA', 'L02D', 255.3489515953686], [None, 'TA', 'K02D', 301.96287345592145], [None, 'TA', 'J01D', 338.74576355960073]]\n"
     ]
    },
    {
     "name": "stderr",
     "output_type": "stream",
     "text": [
      "\r",
      "  5%|▍         | 48/990 [00:46<15:46,  1.00s/it]"
     ]
    },
    {
     "name": "stdout",
     "output_type": "stream",
     "text": [
      "[[None, 'NC', 'KSXB', 147.22497893095758], [None, 'TA', 'L02D', 184.06918577631617], [None, 'TA', 'K02D', 217.21551765724314], [None, 'TA', 'J01D', 244.4561720743086]]\n"
     ]
    },
    {
     "name": "stderr",
     "output_type": "stream",
     "text": [
      "\r",
      "  5%|▍         | 49/990 [00:47<15:41,  1.00s/it]"
     ]
    },
    {
     "name": "stdout",
     "output_type": "stream",
     "text": [
      "[[None, 'NC', 'KSXB', 161.7241521183198], [None, 'TA', 'L02D', 179.15795680495106], [None, 'TA', 'K02D', 182.50078916104496], [None, 'TA', 'J01D', 186.20067203714035]]\n"
     ]
    },
    {
     "name": "stderr",
     "output_type": "stream",
     "text": [
      "\r",
      "  5%|▌         | 50/990 [00:48<15:39,  1.00it/s]"
     ]
    },
    {
     "name": "stdout",
     "output_type": "stream",
     "text": [
      "[[None, 'NC', 'KSXB', 201.79285809457744], [None, 'TA', 'L02D', 226.6179461036907], [None, 'TA', 'K02D', 237.56304486084983], [None, 'TA', 'J01D', 244.14085077185678]]\n"
     ]
    },
    {
     "name": "stderr",
     "output_type": "stream",
     "text": [
      "\r",
      "  5%|▌         | 51/990 [00:49<14:27,  1.08it/s]"
     ]
    },
    {
     "name": "stdout",
     "output_type": "stream",
     "text": [
      "[[None, 'NC', 'KSXB', 138.00543471898965], [None, 'TA', 'L02D', 178.52163033640807], [None, 'TA', 'K02D', 219.58999535912753]]\n"
     ]
    },
    {
     "name": "stderr",
     "output_type": "stream",
     "text": [
      "\r",
      "  5%|▌         | 52/990 [00:50<15:06,  1.03it/s]"
     ]
    },
    {
     "name": "stdout",
     "output_type": "stream",
     "text": [
      "[[None, 'TA', 'J01D', 237.92765296386423], [None, 'TA', 'K02D', 265.3562695193173], [None, 'TA', 'L02D', 288.65266343887305], [None, 'UO', 'DBO', 293.7626174382531]]\n"
     ]
    },
    {
     "name": "stderr",
     "output_type": "stream",
     "text": [
      "\r",
      "  5%|▌         | 53/990 [00:51<13:31,  1.15it/s]"
     ]
    },
    {
     "name": "stdout",
     "output_type": "stream",
     "text": [
      "[[None, 'TA', 'J01D', 51.531297590637045], [None, 'TA', 'K02D', 101.8208692815965], [None, 'UO', 'DBO', 105.01415987403523]]\n"
     ]
    },
    {
     "name": "stderr",
     "output_type": "stream",
     "text": [
      "\r",
      "  5%|▌         | 54/990 [00:51<12:46,  1.22it/s]"
     ]
    },
    {
     "name": "stdout",
     "output_type": "stream",
     "text": [
      "[[None, 'NC', 'KSXB', 41.924612008750856], [None, 'TA', 'L02D', 54.22060982275557], [None, 'TA', 'K02D', 83.4266250012396]]\n"
     ]
    },
    {
     "name": "stderr",
     "output_type": "stream",
     "text": [
      "\r",
      "  6%|▌         | 55/990 [00:52<13:15,  1.17it/s]"
     ]
    },
    {
     "name": "stdout",
     "output_type": "stream",
     "text": [
      "[[None, 'NC', 'KSXB', 76.98108193294873], [None, 'TA', 'L02D', 89.03133495913083], [None, 'TA', 'K02D', 101.45625532361352]]\n"
     ]
    },
    {
     "name": "stderr",
     "output_type": "stream",
     "text": [
      "\r",
      "  6%|▌         | 56/990 [00:53<12:47,  1.22it/s]"
     ]
    },
    {
     "name": "stdout",
     "output_type": "stream",
     "text": [
      "[[None, 'NC', 'KSXB', 119.75264213544223], [None, 'TA', 'L02D', 162.54086043674772], [None, 'TA', 'K02D', 214.98100388983823]]\n"
     ]
    },
    {
     "name": "stderr",
     "output_type": "stream",
     "text": [
      "\r",
      "  6%|▌         | 57/990 [00:54<12:51,  1.21it/s]"
     ]
    },
    {
     "name": "stdout",
     "output_type": "stream",
     "text": [
      "[[None, 'NC', 'KSXB', 144.24194470223702], [None, 'TA', 'L02D', 186.98470116125432], [None, 'TA', 'K02D', 239.54369528817705]]\n"
     ]
    },
    {
     "name": "stderr",
     "output_type": "stream",
     "text": [
      "\r",
      "  6%|▌         | 58/990 [00:55<14:28,  1.07it/s]"
     ]
    },
    {
     "name": "stdout",
     "output_type": "stream",
     "text": [
      "[[None, 'NC', 'KSXB', 207.08200410791855], [None, 'TA', 'L02D', 249.94583243897463], [None, 'TA', 'K02D', 299.9361376027085], [None, 'TA', 'J01D', 340.1028898752411], [None, 'UO', 'DBO', 357.3329450629261]]\n"
     ]
    },
    {
     "name": "stderr",
     "output_type": "stream",
     "text": [
      "\r",
      "  6%|▌         | 59/990 [00:56<15:45,  1.02s/it]"
     ]
    },
    {
     "name": "stdout",
     "output_type": "stream",
     "text": [
      "[[None, 'NC', 'KSXB', 83.20046195212721], [None, 'TA', 'L02D', 87.26691402326799], [None, 'TA', 'K02D', 90.25375530161291], [None, 'TA', 'J01D', 110.15605134320866], [None, 'UO', 'DBO', 144.64465113093678]]\n"
     ]
    },
    {
     "name": "stderr",
     "output_type": "stream",
     "text": [
      "\r",
      "  6%|▌         | 60/990 [00:57<14:55,  1.04it/s]"
     ]
    },
    {
     "name": "stdout",
     "output_type": "stream",
     "text": [
      "[[None, 'NC', 'KSXB', 62.25140119934033], [None, 'TA', 'K02D', 82.22051560866404], [None, 'TA', 'J01D', 112.84271591237061], [None, 'UO', 'DBO', 139.47503241132418]]\n"
     ]
    },
    {
     "name": "stderr",
     "output_type": "stream",
     "text": [
      "\r",
      "  6%|▌         | 61/990 [00:58<14:07,  1.10it/s]"
     ]
    },
    {
     "name": "stdout",
     "output_type": "stream",
     "text": [
      "[[None, 'NC', 'KSXB', 152.48856929582652], [None, 'TA', 'L02D', 195.17280216150553], [None, 'TA', 'K02D', 248.0354550783453]]\n"
     ]
    },
    {
     "name": "stderr",
     "output_type": "stream",
     "text": [
      "\r",
      "  6%|▋         | 62/990 [00:58<12:50,  1.20it/s]"
     ]
    },
    {
     "name": "stdout",
     "output_type": "stream",
     "text": [
      "[[None, 'UO', 'DBO', 81.7501786338866], [None, 'TA', 'J01D', 117.94627591645076], [None, 'TA', 'K02D', 139.87113281854695]]\n"
     ]
    },
    {
     "name": "stderr",
     "output_type": "stream",
     "text": [
      "\r",
      "  6%|▋         | 63/990 [00:59<13:58,  1.11it/s]"
     ]
    },
    {
     "name": "stdout",
     "output_type": "stream",
     "text": [
      "[[None, 'NC', 'KSXB', 225.04797185512575], [None, 'TA', 'L02D', 267.7041201461805], [None, 'TA', 'K02D', 314.8646305789215], [None, 'TA', 'J01D', 351.965893310092], [None, 'UO', 'DBO', 372.8063152310364]]\n"
     ]
    },
    {
     "name": "stderr",
     "output_type": "stream",
     "text": [
      "\r",
      "  6%|▋         | 64/990 [01:01<15:46,  1.02s/it]"
     ]
    },
    {
     "name": "stdout",
     "output_type": "stream",
     "text": [
      "[[None, 'TA', 'J01D', 223.75639968307587], [None, 'TA', 'K02D', 249.36988205699322], [None, 'NC', 'KSXB', 268.03043998233477], [None, 'TA', 'L02D', 271.49593252204136], [None, 'UO', 'DBO', 279.40886892878297]]\n"
     ]
    },
    {
     "name": "stderr",
     "output_type": "stream",
     "text": [
      "\r",
      "  7%|▋         | 65/990 [01:02<15:28,  1.00s/it]"
     ]
    },
    {
     "name": "stdout",
     "output_type": "stream",
     "text": [
      "[[None, 'TA', 'K02D', 57.79054012065457], [None, 'TA', 'L02D', 62.93662037086788], [None, 'NC', 'KSXB', 74.37545539567033], [None, 'TA', 'J01D', 85.83810842062427]]\n"
     ]
    },
    {
     "name": "stderr",
     "output_type": "stream",
     "text": [
      "\r",
      "  7%|▋         | 66/990 [01:03<14:20,  1.07it/s]"
     ]
    },
    {
     "name": "stdout",
     "output_type": "stream",
     "text": [
      "[[None, 'NC', 'KSXB', 153.79042127955822], [None, 'TA', 'L02D', 196.4604826151973], [None, 'TA', 'K02D', 249.3928717145909]]\n"
     ]
    },
    {
     "name": "stderr",
     "output_type": "stream",
     "text": [
      "\r",
      "  7%|▋         | 67/990 [01:04<15:23,  1.00s/it]"
     ]
    },
    {
     "name": "stdout",
     "output_type": "stream",
     "text": [
      "[[None, 'TA', 'J01D', 259.12406954815617], [None, 'TA', 'K02D', 285.42584104266376], [None, 'NC', 'KSXB', 301.8740540688495], [None, 'TA', 'L02D', 306.811141274399], [None, 'UO', 'DBO', 314.90092818919646]]\n"
     ]
    },
    {
     "name": "stderr",
     "output_type": "stream",
     "text": [
      "\r",
      "  7%|▋         | 68/990 [01:04<13:59,  1.10it/s]"
     ]
    },
    {
     "name": "stdout",
     "output_type": "stream",
     "text": [
      "[[None, 'NC', 'KSXB', 143.6724078887347], [None, 'TA', 'L02D', 186.19742813217232], [None, 'TA', 'K02D', 239.85183411424825]]\n"
     ]
    },
    {
     "name": "stderr",
     "output_type": "stream",
     "text": [
      "\r",
      "  7%|▋         | 69/990 [01:05<13:20,  1.15it/s]"
     ]
    },
    {
     "name": "stdout",
     "output_type": "stream",
     "text": [
      "[[None, 'NC', 'KSXB', 150.3692028799837], [None, 'TA', 'L02D', 193.10133884852786], [None, 'TA', 'K02D', 245.68519043683995]]\n"
     ]
    },
    {
     "name": "stderr",
     "output_type": "stream",
     "text": [
      "\r",
      "  7%|▋         | 70/990 [01:06<12:22,  1.24it/s]"
     ]
    },
    {
     "name": "stdout",
     "output_type": "stream",
     "text": [
      "[[None, 'UO', 'DBO', 73.6757559691103], [None, 'TA', 'J01D', 92.40437476167003], [None, 'TA', 'K02D', 127.09527626928522]]\n"
     ]
    },
    {
     "name": "stderr",
     "output_type": "stream",
     "text": [
      "\r",
      "  7%|▋         | 71/990 [01:07<13:38,  1.12it/s]"
     ]
    },
    {
     "name": "stdout",
     "output_type": "stream",
     "text": [
      "[[None, 'NC', 'KSXB', 166.6130051420877], [None, 'TA', 'L02D', 208.97731161966567], [None, 'TA', 'K02D', 263.0754248824676], [None, 'TA', 'J01D', 308.0256382292394], [None, 'UO', 'DBO', 318.909127218083]]\n"
     ]
    },
    {
     "name": "stderr",
     "output_type": "stream",
     "text": [
      "\r",
      "  7%|▋         | 72/990 [01:08<12:52,  1.19it/s]"
     ]
    },
    {
     "name": "stdout",
     "output_type": "stream",
     "text": [
      "[[None, 'UO', 'DBO', 95.80717801386963], [None, 'TA', 'K02D', 114.30695822281814], [None, 'TA', 'L02D', 121.77075181707154]]\n"
     ]
    },
    {
     "name": "stderr",
     "output_type": "stream",
     "text": [
      "\r",
      "  7%|▋         | 73/990 [01:09<14:54,  1.03it/s]"
     ]
    },
    {
     "name": "stdout",
     "output_type": "stream",
     "text": [
      "[[None, 'UO', 'DBO', 97.96844730842207], [None, 'TA', 'K02D', 111.54390739449916], [None, 'TA', 'L02D', 114.99023263590584], [None, 'TA', 'J01D', 147.746355863236]]\n"
     ]
    },
    {
     "name": "stderr",
     "output_type": "stream",
     "text": [
      "\r",
      "  7%|▋         | 74/990 [01:10<15:30,  1.02s/it]"
     ]
    },
    {
     "name": "stdout",
     "output_type": "stream",
     "text": [
      "[[None, 'TA', 'K02D', 13.030748290541455], [None, 'TA', 'L02D', 51.509089589735645], [None, 'TA', 'J01D', 63.30795622924281], [None, 'UO', 'DBO', 71.23579464725518], [None, 'NC', 'KSXB', 86.61167116703975]]\n"
     ]
    },
    {
     "name": "stderr",
     "output_type": "stream",
     "text": [
      "\r",
      "  8%|▊         | 75/990 [01:11<13:49,  1.10it/s]"
     ]
    },
    {
     "name": "stdout",
     "output_type": "stream",
     "text": [
      "[[None, 'UO', 'DBO', 98.45125631999105], [None, 'TA', 'K02D', 116.5765329323907], [None, 'TA', 'L02D', 123.0965622876763]]\n"
     ]
    },
    {
     "name": "stderr",
     "output_type": "stream",
     "text": [
      "\r",
      "  8%|▊         | 76/990 [01:12<13:37,  1.12it/s]"
     ]
    },
    {
     "name": "stdout",
     "output_type": "stream",
     "text": [
      "[[None, 'NC', 'KSXB', 140.60032576988996], [None, 'TA', 'L02D', 183.12928403171853], [None, 'TA', 'K02D', 236.78718002928827], [None, 'UO', 'DBO', 292.7904303783425]]\n"
     ]
    },
    {
     "name": "stderr",
     "output_type": "stream",
     "text": [
      "\r",
      "  8%|▊         | 77/990 [01:12<12:50,  1.18it/s]"
     ]
    },
    {
     "name": "stdout",
     "output_type": "stream",
     "text": [
      "[[None, 'TA', 'L02D', 63.47064030263723], [None, 'TA', 'K02D', 94.15693428695158], [None, 'UO', 'DBO', 116.95990145801535]]\n"
     ]
    },
    {
     "name": "stderr",
     "output_type": "stream",
     "text": [
      "\r",
      "  8%|▊         | 78/990 [01:13<12:24,  1.22it/s]"
     ]
    },
    {
     "name": "stdout",
     "output_type": "stream",
     "text": [
      "[[None, 'NC', 'KSXB', 179.75077515466245], [None, 'TA', 'L02D', 219.55796263512102], [None, 'TA', 'K02D', 277.44422348630553]]\n"
     ]
    },
    {
     "name": "stderr",
     "output_type": "stream",
     "text": [
      "\r",
      "  8%|▊         | 79/990 [01:14<13:29,  1.13it/s]"
     ]
    },
    {
     "name": "stdout",
     "output_type": "stream",
     "text": [
      "[[None, 'NC', 'KSXB', 155.193901738412], [None, 'TA', 'L02D', 195.89002435644434], [None, 'TA', 'K02D', 252.9443132602561], [None, 'TA', 'J01D', 301.3649246553807]]\n"
     ]
    },
    {
     "name": "stderr",
     "output_type": "stream",
     "text": [
      "\r",
      "  8%|▊         | 80/990 [01:15<15:05,  1.01it/s]"
     ]
    },
    {
     "name": "stdout",
     "output_type": "stream",
     "text": [
      "[[None, 'NC', 'KSXB', 176.28099716426982], [None, 'TA', 'L02D', 202.51695906508218], [None, 'TA', 'K02D', 217.03904492695779], [None, 'TA', 'J01D', 228.08941753220577], [None, 'UO', 'DBO', 270.09723931467374]]\n"
     ]
    },
    {
     "name": "stderr",
     "output_type": "stream",
     "text": [
      "\r",
      "  8%|▊         | 81/990 [01:16<13:43,  1.10it/s]"
     ]
    },
    {
     "name": "stdout",
     "output_type": "stream",
     "text": [
      "[[None, 'NC', 'KSXB', 130.6247416071219], [None, 'TA', 'L02D', 173.39828966215106], [None, 'TA', 'K02D', 222.69600647219582]]\n"
     ]
    },
    {
     "name": "stderr",
     "output_type": "stream",
     "text": [
      "\r",
      "  8%|▊         | 82/990 [01:17<12:28,  1.21it/s]"
     ]
    },
    {
     "name": "stdout",
     "output_type": "stream",
     "text": [
      "[[None, 'NC', 'KSXB', 108.56384036342975], [None, 'TA', 'L02D', 151.40350427200931], [None, 'TA', 'K02D', 203.42467914982834]]\n"
     ]
    },
    {
     "name": "stderr",
     "output_type": "stream",
     "text": [
      "\r",
      "  8%|▊         | 83/990 [01:18<13:50,  1.09it/s]"
     ]
    },
    {
     "name": "stdout",
     "output_type": "stream",
     "text": [
      "[[None, 'NC', 'KSXB', 246.0893184703963], [None, 'TA', 'L02D', 286.4401426295624], [None, 'TA', 'K02D', 324.57123060440216], [None, 'TA', 'J01D', 352.7971305968881]]\n"
     ]
    },
    {
     "name": "stderr",
     "output_type": "stream",
     "text": [
      "\r",
      "  8%|▊         | 84/990 [01:19<13:48,  1.09it/s]"
     ]
    },
    {
     "name": "stdout",
     "output_type": "stream",
     "text": [
      "[[None, 'NC', 'KSXB', 172.8654916818439], [None, 'TA', 'L02D', 198.38798512616071], [None, 'TA', 'K02D', 212.0867524125949], [None, 'TA', 'J01D', 222.7325837964633]]\n"
     ]
    },
    {
     "name": "stderr",
     "output_type": "stream",
     "text": [
      "\r",
      "  9%|▊         | 85/990 [01:19<12:33,  1.20it/s]"
     ]
    },
    {
     "name": "stdout",
     "output_type": "stream",
     "text": [
      "[[None, 'UO', 'DBO', 73.6757559691103], [None, 'TA', 'J01D', 92.40437476167003], [None, 'TA', 'K02D', 127.09527626928522]]\n"
     ]
    },
    {
     "name": "stderr",
     "output_type": "stream",
     "text": [
      "\r",
      "  9%|▊         | 86/990 [01:20<11:57,  1.26it/s]"
     ]
    },
    {
     "name": "stdout",
     "output_type": "stream",
     "text": [
      "[[None, 'UO', 'DBO', 97.69720609866317], [None, 'TA', 'K02D', 116.5296066015737], [None, 'TA', 'L02D', 123.74382741090982]]\n"
     ]
    },
    {
     "name": "stderr",
     "output_type": "stream",
     "text": [
      "  9%|▉         | 88/990 [01:23<16:36,  1.10s/it]"
     ]
    },
    {
     "name": "stdout",
     "output_type": "stream",
     "text": [
      "[[None, 'NC', 'KSXB', 147.79505779617074], [None, 'NC', 'KBO', 176.69858825501709], [None, 'TA', 'L02D', 190.63542306101047], [None, 'TA', 'K02D', 242.19838228329635], [None, 'TA', 'J01D', 284.9166423481093], [None, 'UO', 'DBO', 299.040806633383]]\n"
     ]
    },
    {
     "name": "stderr",
     "output_type": "stream",
     "text": [
      "\r",
      "  9%|▉         | 89/990 [01:24<15:23,  1.02s/it]"
     ]
    },
    {
     "name": "stdout",
     "output_type": "stream",
     "text": [
      "[[None, 'NC', 'KSXB', 85.63717636085653], [None, 'NC', 'KBO', 117.97281360128645], [None, 'TA', 'L02D', 128.47491128616332], [None, 'TA', 'K02D', 180.8711559314958]]\n"
     ]
    },
    {
     "name": "stderr",
     "output_type": "stream",
     "text": [
      "  9%|▉         | 91/990 [01:26<16:36,  1.11s/it]"
     ]
    },
    {
     "name": "stdout",
     "output_type": "stream",
     "text": [
      "[[None, 'NC', 'KEB', 326.3063055185734], [None, 'NC', 'KBO', 354.4501164094413], [None, 'TA', 'J01D', 355.1195210930792], [None, 'TA', 'K02D', 383.57038220961994], [None, 'NC', 'KSXB', 397.80450427083633]]\n"
     ]
    },
    {
     "name": "stderr",
     "output_type": "stream",
     "text": [
      "\r",
      "  9%|▉         | 92/990 [01:27<15:51,  1.06s/it]"
     ]
    },
    {
     "name": "stdout",
     "output_type": "stream",
     "text": [
      "[[None, 'NC', 'KSXB', 152.48856929582652], [None, 'NC', 'KBO', 183.70624822002168], [None, 'TA', 'L02D', 195.17280216150553], [None, 'TA', 'K02D', 248.0354550783453]]\n"
     ]
    },
    {
     "name": "stderr",
     "output_type": "stream",
     "text": [
      "\r",
      "  9%|▉         | 93/990 [01:28<17:34,  1.18s/it]"
     ]
    },
    {
     "name": "stdout",
     "output_type": "stream",
     "text": [
      "[[None, 'NC', 'KBO', 136.8670581327416], [None, 'NC', 'KSXB', 164.75471231618545], [None, 'TA', 'L02D', 186.98369822172523], [None, 'TA', 'K02D', 196.5946740521311], [None, 'TA', 'J01D', 204.73686005007966], [None, 'UO', 'DBO', 248.24979166244998]]\n"
     ]
    },
    {
     "name": "stderr",
     "output_type": "stream",
     "text": [
      "\r",
      "  9%|▉         | 94/990 [01:30<18:50,  1.26s/it]"
     ]
    },
    {
     "name": "stdout",
     "output_type": "stream",
     "text": [
      "[[None, 'NC', 'KBO', 194.73200878813327], [None, 'NC', 'KSXB', 203.24365035136213], [None, 'TA', 'L02D', 237.2882709476416], [None, 'TA', 'K02D', 263.04289047856383], [None, 'TA', 'J01D', 281.7534313522341], [None, 'UO', 'DBO', 319.0087411203696]]\n"
     ]
    },
    {
     "name": "stderr",
     "output_type": "stream",
     "text": [
      "\r",
      " 10%|▉         | 95/990 [01:31<17:17,  1.16s/it]"
     ]
    },
    {
     "name": "stdout",
     "output_type": "stream",
     "text": [
      "[[None, 'NC', 'KSXB', 144.16850247734612], [None, 'NC', 'KBO', 177.69741671965733], [None, 'TA', 'L02D', 186.60232245303283], [None, 'TA', 'K02D', 240.58104036928205]]\n"
     ]
    },
    {
     "name": "stderr",
     "output_type": "stream",
     "text": [
      "\r",
      " 10%|▉         | 96/990 [01:32<18:05,  1.21s/it]"
     ]
    },
    {
     "name": "stdout",
     "output_type": "stream",
     "text": [
      "[[None, 'NC', 'KSXB', 161.91572058424717], [None, 'TA', 'L02D', 198.45364292728837], [None, 'NC', 'KBO', 207.77872759877673], [None, 'TA', 'K02D', 257.93161483218876], [None, 'UO', 'DBO', 307.849774058215], [None, 'TA', 'J01D', 309.9471914174397]]\n"
     ]
    },
    {
     "name": "stderr",
     "output_type": "stream",
     "text": [
      "\r",
      " 10%|▉         | 97/990 [01:33<16:27,  1.11s/it]"
     ]
    },
    {
     "name": "stdout",
     "output_type": "stream",
     "text": [
      "[[None, 'NC', 'KEB', 52.325705067996395], [None, 'TA', 'J01D', 54.434698702724205], [None, 'TA', 'K02D', 100.47944610713029], [None, 'UO', 'DBO', 109.64223025721599]]\n"
     ]
    },
    {
     "name": "stderr",
     "output_type": "stream",
     "text": [
      "\r",
      " 10%|▉         | 98/990 [01:34<14:35,  1.02it/s]"
     ]
    },
    {
     "name": "stdout",
     "output_type": "stream",
     "text": [
      "[[None, 'NC', 'KBO', 17.61780968909794], [None, 'NC', 'KSXB', 55.92429465715967], [None, 'TA', 'K02D', 87.38797242425423]]\n"
     ]
    },
    {
     "name": "stderr",
     "output_type": "stream",
     "text": [
      "\r",
      " 10%|█         | 99/990 [01:35<16:29,  1.11s/it]"
     ]
    },
    {
     "name": "stdout",
     "output_type": "stream",
     "text": [
      "[[None, 'NC', 'KSXB', 121.28919740341479], [None, 'NC', 'KBO', 151.5077024256271], [None, 'TA', 'L02D', 164.12192934745735], [None, 'TA', 'K02D', 216.07999990633826]]\n"
     ]
    },
    {
     "name": "stderr",
     "output_type": "stream",
     "text": [
      "\r",
      " 10%|█         | 100/990 [01:36<16:30,  1.11s/it]"
     ]
    },
    {
     "name": "stdout",
     "output_type": "stream",
     "text": [
      "[[None, 'NC', 'KEB', 41.401144527799495], [None, 'TA', 'J01D', 57.68126998799817], [None, 'TA', 'K02D', 95.36921288183406], [None, 'NC', 'KBO', 111.64347755625434], [None, 'UO', 'DBO', 113.56590739782757]]\n"
     ]
    },
    {
     "name": "stderr",
     "output_type": "stream",
     "text": [
      "\r",
      " 10%|█         | 101/990 [01:37<16:41,  1.13s/it]"
     ]
    },
    {
     "name": "stdout",
     "output_type": "stream",
     "text": [
      "[[None, 'NC', 'KSXB', 174.56507224798273], [None, 'NC', 'KBO', 209.23601999887816], [None, 'TA', 'L02D', 216.63028929341093], [None, 'TA', 'K02D', 271.5128621792149], [None, 'TA', 'J01D', 317.2103467004643]]\n"
     ]
    },
    {
     "name": "stderr",
     "output_type": "stream",
     "text": [
      "\r",
      " 10%|█         | 102/990 [01:38<14:49,  1.00s/it]"
     ]
    },
    {
     "name": "stdout",
     "output_type": "stream",
     "text": [
      "[[None, 'TA', 'L02D', 112.19563101156707], [None, 'UO', 'DBO', 125.23321420803177], [None, 'TA', 'K02D', 125.77584853339405]]\n"
     ]
    },
    {
     "name": "stderr",
     "output_type": "stream",
     "text": [
      " 11%|█         | 104/990 [01:40<14:28,  1.02it/s]"
     ]
    },
    {
     "name": "stdout",
     "output_type": "stream",
     "text": [
      "[[None, 'NC', 'KSXB', 158.25594851357133], [None, 'NC', 'KBO', 183.00877785696488], [None, 'TA', 'L02D', 201.06788538536307], [None, 'TA', 'K02D', 250.37855474519068]]\n"
     ]
    },
    {
     "name": "stderr",
     "output_type": "stream",
     "text": [
      "\r",
      " 11%|█         | 105/990 [01:41<14:13,  1.04it/s]"
     ]
    },
    {
     "name": "stdout",
     "output_type": "stream",
     "text": [
      "[[None, 'NC', 'KBO', 91.30213385571108], [None, 'NC', 'KSXB', 104.45905623145394], [None, 'TA', 'K02D', 160.6646941173392], [None, 'TA', 'J01D', 186.0197891115059]]\n"
     ]
    },
    {
     "name": "stderr",
     "output_type": "stream",
     "text": [
      "\r",
      " 11%|█         | 106/990 [01:42<14:03,  1.05it/s]"
     ]
    },
    {
     "name": "stdout",
     "output_type": "stream",
     "text": [
      "[[None, 'NC', 'KSXB', 62.09447200384002], [None, 'NC', 'KBO', 67.17007066664351], [None, 'TA', 'L02D', 98.14683087812412], [None, 'TA', 'J01D', 174.09494363342526]]\n"
     ]
    },
    {
     "name": "stderr",
     "output_type": "stream",
     "text": [
      "\r",
      " 11%|█         | 107/990 [01:43<13:56,  1.06it/s]"
     ]
    },
    {
     "name": "stdout",
     "output_type": "stream",
     "text": [
      "[[None, 'NC', 'KSXB', 148.53226048990516], [None, 'NC', 'KBO', 177.83947623279477], [None, 'TA', 'L02D', 191.35616617597475], [None, 'TA', 'K02D', 243.1471533937418]]\n"
     ]
    },
    {
     "name": "stderr",
     "output_type": "stream",
     "text": [
      "\r",
      " 11%|█         | 108/990 [01:44<13:39,  1.08it/s]"
     ]
    },
    {
     "name": "stdout",
     "output_type": "stream",
     "text": [
      "[[None, 'UO', 'DBO', 94.71575663325883], [None, 'TA', 'K02D', 112.13307792030666], [None, 'TA', 'L02D', 119.13772608933834]]\n"
     ]
    },
    {
     "name": "stderr",
     "output_type": "stream",
     "text": [
      "\r",
      " 11%|█         | 109/990 [01:45<14:54,  1.02s/it]"
     ]
    },
    {
     "name": "stdout",
     "output_type": "stream",
     "text": [
      "[[None, 'NC', 'KSXB', 145.29850143961488], [None, 'NC', 'KBO', 164.08018596624572], [None, 'TA', 'L02D', 187.45260921505601], [None, 'TA', 'K02D', 233.16434984115693], [None, 'TA', 'J01D', 270.6778164968555]]\n"
     ]
    },
    {
     "name": "stderr",
     "output_type": "stream",
     "text": [
      "\r",
      " 11%|█         | 110/990 [01:46<17:09,  1.17s/it]"
     ]
    },
    {
     "name": "stdout",
     "output_type": "stream",
     "text": [
      "[[None, 'NC', 'KSXB', 130.96098666695744], [None, 'NC', 'KBO', 164.49099102035947], [None, 'TA', 'L02D', 173.46599544262472], [None, 'TA', 'K02D', 227.2746959726211], [None, 'TA', 'J01D', 272.4833667212049], [None, 'UO', 'DBO', 283.18580645959514]]\n"
     ]
    },
    {
     "name": "stderr",
     "output_type": "stream",
     "text": [
      "\r",
      " 11%|█         | 111/990 [01:48<17:59,  1.23s/it]"
     ]
    },
    {
     "name": "stdout",
     "output_type": "stream",
     "text": [
      "[[None, 'NC', 'KBO', 275.0491580975141], [None, 'NC', 'KSXB', 283.38629864016815], [None, 'TA', 'L02D', 317.97716836434506], [None, 'TA', 'K02D', 342.54776702988227], [None, 'TA', 'J01D', 357.66821437404417], [None, 'UO', 'DBO', 397.66277081925574]]\n"
     ]
    },
    {
     "name": "stderr",
     "output_type": "stream",
     "text": [
      "\r",
      " 11%|█▏        | 112/990 [01:49<16:48,  1.15s/it]"
     ]
    },
    {
     "name": "stdout",
     "output_type": "stream",
     "text": [
      "[[None, 'NC', 'KSXB', 162.76045795218377], [None, 'NC', 'KBO', 196.5942783851202], [None, 'TA', 'L02D', 205.04954350639653], [None, 'TA', 'K02D', 259.39031565094064]]\n"
     ]
    },
    {
     "name": "stderr",
     "output_type": "stream",
     "text": [
      "\r",
      " 11%|█▏        | 113/990 [01:50<16:02,  1.10s/it]"
     ]
    },
    {
     "name": "stdout",
     "output_type": "stream",
     "text": [
      "[[None, 'NC', 'KSXB', 135.84693593302336], [None, 'NC', 'KBO', 143.45079543791394], [None, 'TA', 'L02D', 175.3126989518662], [None, 'TA', 'K02D', 214.0814098707104]]\n"
     ]
    },
    {
     "name": "stderr",
     "output_type": "stream",
     "text": [
      "\r",
      " 12%|█▏        | 114/990 [01:50<14:28,  1.01it/s]"
     ]
    },
    {
     "name": "stdout",
     "output_type": "stream",
     "text": [
      "[[None, 'NC', 'KSXB', 145.53298916203948], [None, 'TA', 'L02D', 188.26300536157856], [None, 'TA', 'K02D', 240.89785891960798]]\n"
     ]
    },
    {
     "name": "stderr",
     "output_type": "stream",
     "text": [
      "\r",
      " 12%|█▏        | 115/990 [01:51<14:41,  1.01s/it]"
     ]
    },
    {
     "name": "stdout",
     "output_type": "stream",
     "text": [
      "[[None, 'NC', 'KSXB', 145.10315583802563], [None, 'NC', 'KBO', 178.97700822449062], [None, 'TA', 'L02D', 187.4770676278351], [None, 'TA', 'K02D', 241.64356290210335]]\n"
     ]
    },
    {
     "name": "stderr",
     "output_type": "stream",
     "text": [
      "\r",
      " 12%|█▏        | 116/990 [01:54<19:22,  1.33s/it]"
     ]
    },
    {
     "name": "stdout",
     "output_type": "stream",
     "text": [
      "[[None, 'NC', 'KBO', 143.69370059653838], [None, 'NC', 'KEB', 165.23831122176904], [None, 'NC', 'KSXB', 171.27099348385292], [None, 'TA', 'L02D', 193.77872589370506], [None, 'TA', 'K02D', 203.2778881173246], [None, 'TA', 'J01D', 210.79294088795953], [None, 'UO', 'DBO', 254.71553491601676]]\n"
     ]
    },
    {
     "name": "stderr",
     "output_type": "stream",
     "text": [
      "\r",
      " 12%|█▏        | 117/990 [01:55<17:53,  1.23s/it]"
     ]
    },
    {
     "name": "stdout",
     "output_type": "stream",
     "text": [
      "[[None, 'NC', 'KSXB', 145.0356613677259], [None, 'NC', 'KBO', 172.25044508495407], [None, 'TA', 'L02D', 187.8998713734222], [None, 'TA', 'K02D', 238.50343816404794]]\n"
     ]
    },
    {
     "name": "stderr",
     "output_type": "stream",
     "text": [
      "\r",
      " 12%|█▏        | 118/990 [01:56<16:42,  1.15s/it]"
     ]
    },
    {
     "name": "stdout",
     "output_type": "stream",
     "text": [
      "[[None, 'NC', 'KBO', 309.6229769199693], [None, 'NC', 'KSXB', 316.2126871982465], [None, 'TA', 'L02D', 351.71961491090264], [None, 'TA', 'K02D', 377.50853113152704]]\n"
     ]
    },
    {
     "name": "stderr",
     "output_type": "stream",
     "text": [
      "\r",
      " 12%|█▏        | 119/990 [01:56<14:41,  1.01s/it]"
     ]
    },
    {
     "name": "stdout",
     "output_type": "stream",
     "text": [
      "[[None, 'UO', 'DBO', 70.82833084800588], [None, 'TA', 'J01D', 84.5775651797707], [None, 'TA', 'K02D', 121.97738354375669]]\n"
     ]
    },
    {
     "name": "stderr",
     "output_type": "stream",
     "text": [
      "\r",
      " 12%|█▏        | 120/990 [01:57<14:40,  1.01s/it]"
     ]
    },
    {
     "name": "stdout",
     "output_type": "stream",
     "text": [
      "[[None, 'NC', 'KSXB', 236.91606529475897], [None, 'NC', 'KBO', 247.95280960975978], [None, 'TA', 'L02D', 278.04540698090966], [None, 'TA', 'K02D', 318.59986716920474]]\n"
     ]
    },
    {
     "name": "stderr",
     "output_type": "stream",
     "text": [
      "\r",
      " 12%|█▏        | 121/990 [01:58<14:28,  1.00it/s]"
     ]
    },
    {
     "name": "stdout",
     "output_type": "stream",
     "text": [
      "[[None, 'NC', 'KBO', 204.54187541567921], [None, 'NC', 'KSXB', 213.04964050958745], [None, 'TA', 'L02D', 247.17227429527043], [None, 'TA', 'K02D', 272.72403956774394]]\n"
     ]
    },
    {
     "name": "stderr",
     "output_type": "stream",
     "text": [
      "\r",
      " 12%|█▏        | 122/990 [01:59<14:23,  1.00it/s]"
     ]
    },
    {
     "name": "stdout",
     "output_type": "stream",
     "text": [
      "[[None, 'NC', 'KSXB', 111.45535818250275], [None, 'TA', 'L02D', 148.95603980659402], [None, 'NC', 'KBO', 157.3965524773659], [None, 'TA', 'K02D', 208.0062448997897]]\n"
     ]
    },
    {
     "name": "stderr",
     "output_type": "stream",
     "text": [
      "\r",
      " 12%|█▏        | 123/990 [02:01<16:12,  1.12s/it]"
     ]
    },
    {
     "name": "stdout",
     "output_type": "stream",
     "text": [
      "[[None, 'NC', 'KEB', 23.232141295289455], [None, 'TA', 'J01D', 64.51211014044235], [None, 'NC', 'KBO', 80.1420879449757], [None, 'TA', 'K02D', 80.29163557422098], [None, 'TA', 'L02D', 115.10254654368369], [None, 'UO', 'DBO', 115.12792849098243]]\n"
     ]
    },
    {
     "name": "stderr",
     "output_type": "stream",
     "text": [
      "\r",
      " 13%|█▎        | 124/990 [02:02<17:00,  1.18s/it]"
     ]
    },
    {
     "name": "stdout",
     "output_type": "stream",
     "text": [
      "[[None, 'NC', 'KSXB', 147.26749546534836], [None, 'NC', 'KBO', 176.44397567781527], [None, 'TA', 'L02D', 190.09864382933793], [None, 'TA', 'K02D', 241.80556659621942], [None, 'TA', 'J01D', 284.6714632641464]]\n"
     ]
    },
    {
     "name": "stderr",
     "output_type": "stream",
     "text": [
      "\r",
      " 13%|█▎        | 125/990 [02:03<17:15,  1.20s/it]"
     ]
    },
    {
     "name": "stdout",
     "output_type": "stream",
     "text": [
      "[[None, 'NC', 'KSXB', 128.522650284655], [None, 'NC', 'KBO', 146.51278819726312], [None, 'TA', 'L02D', 170.4190418803597], [None, 'TA', 'K02D', 215.61432837409515], [None, 'TA', 'J01D', 253.22942813149933]]\n"
     ]
    },
    {
     "name": "stderr",
     "output_type": "stream",
     "text": [
      "\r",
      " 13%|█▎        | 126/990 [02:05<18:15,  1.27s/it]"
     ]
    },
    {
     "name": "stdout",
     "output_type": "stream",
     "text": [
      "[[None, 'NC', 'KSXB', 90.83266575957909], [None, 'NC', 'KBO', 109.78985065463561], [None, 'TA', 'L02D', 132.42185667136584], [None, 'TA', 'K02D', 178.0252375403839], [None, 'TA', 'J01D', 217.48286436345487], [None, 'UO', 'DBO', 235.91794262377462]]\n"
     ]
    },
    {
     "name": "stderr",
     "output_type": "stream",
     "text": [
      "\r",
      " 13%|█▎        | 127/990 [02:06<18:34,  1.29s/it]"
     ]
    },
    {
     "name": "stdout",
     "output_type": "stream",
     "text": [
      "[[None, 'NC', 'KSXB', 134.88714036933672], [None, 'NC', 'KBO', 167.76285024871206], [None, 'TA', 'L02D', 177.45832493032376], [None, 'TA', 'K02D', 230.98460495503105], [None, 'TA', 'J01D', 275.8445232001739], [None, 'UO', 'DBO', 287.0363753725815]]\n"
     ]
    },
    {
     "name": "stderr",
     "output_type": "stream",
     "text": [
      "\r",
      " 13%|█▎        | 128/990 [02:07<17:21,  1.21s/it]"
     ]
    },
    {
     "name": "stdout",
     "output_type": "stream",
     "text": [
      "[[None, 'NC', 'KSXB', 155.68192053071297], [None, 'NC', 'KBO', 184.44527102737075], [None, 'TA', 'L02D', 198.51782101654774], [None, 'TA', 'K02D', 250.0787490696719]]\n"
     ]
    },
    {
     "name": "stderr",
     "output_type": "stream",
     "text": [
      "\r",
      " 13%|█▎        | 129/990 [02:08<15:03,  1.05s/it]"
     ]
    },
    {
     "name": "stdout",
     "output_type": "stream",
     "text": [
      "[[None, 'TA', 'J01D', 30.000836843465105], [None, 'TA', 'K02D', 75.49306474487727], [None, 'UO', 'DBO', 85.93130342516307]]\n"
     ]
    },
    {
     "name": "stderr",
     "output_type": "stream",
     "text": [
      "\r",
      " 13%|█▎        | 130/990 [02:09<16:00,  1.12s/it]"
     ]
    },
    {
     "name": "stdout",
     "output_type": "stream",
     "text": [
      "[[None, 'NC', 'KEB', 191.82536345310612], [None, 'TA', 'J01D', 222.46480196626902], [None, 'NC', 'KBO', 223.08801293313414], [None, 'TA', 'K02D', 248.997386187508], [None, 'NC', 'KSXB', 269.29241401333496], [None, 'UO', 'DBO', 278.2059705291237]]\n"
     ]
    },
    {
     "name": "stderr",
     "output_type": "stream",
     "text": [
      "\r",
      " 13%|█▎        | 131/990 [02:10<15:26,  1.08s/it]"
     ]
    },
    {
     "name": "stdout",
     "output_type": "stream",
     "text": [
      "[[None, 'NC', 'KSXB', 74.77839923165313], [None, 'NC', 'KBO', 91.35939928036703], [None, 'TA', 'K02D', 159.71901943068792], [None, 'TA', 'J01D', 199.1314325870129]]\n"
     ]
    },
    {
     "name": "stderr",
     "output_type": "stream",
     "text": [
      "\r",
      " 13%|█▎        | 132/990 [02:12<18:07,  1.27s/it]"
     ]
    },
    {
     "name": "stdout",
     "output_type": "stream",
     "text": [
      "[[None, 'TA', 'J01D', 222.7918697742491], [None, 'NC', 'KEB', 225.75950215426369], [None, 'UO', 'DBO', 268.65279898619843], [None, 'TA', 'K02D', 275.1239638229032], [None, 'TA', 'L02D', 325.2143356016591], [None, 'NC', 'KSXB', 344.10100753944135]]\n"
     ]
    },
    {
     "name": "stderr",
     "output_type": "stream",
     "text": [
      "\r",
      " 13%|█▎        | 133/990 [02:12<16:27,  1.15s/it]"
     ]
    },
    {
     "name": "stdout",
     "output_type": "stream",
     "text": [
      "[[None, 'NC', 'KEB', 8.09671110786414], [None, 'TA', 'J01D', 53.52427973741152], [None, 'TA', 'K02D', 59.2052214070532], [None, 'UO', 'DBO', 98.34319049551804]]\n"
     ]
    },
    {
     "name": "stderr",
     "output_type": "stream",
     "text": [
      "\r",
      " 14%|█▎        | 134/990 [02:14<18:06,  1.27s/it]"
     ]
    },
    {
     "name": "stdout",
     "output_type": "stream",
     "text": [
      "[[None, 'NC', 'KBO', 275.2697386413876], [None, 'NC', 'KSXB', 283.9281776692084], [None, 'TA', 'L02D', 318.3707901771958], [None, 'TA', 'K02D', 342.6429900390012], [None, 'TA', 'J01D', 357.48303852221534], [None, 'UO', 'DBO', 397.665073469412]]\n"
     ]
    },
    {
     "name": "stderr",
     "output_type": "stream",
     "text": [
      "\r",
      " 14%|█▎        | 135/990 [02:15<18:44,  1.32s/it]"
     ]
    },
    {
     "name": "stdout",
     "output_type": "stream",
     "text": [
      "[[None, 'NC', 'KBO', 193.72131032856592], [None, 'NC', 'KSXB', 225.0047484837588], [None, 'TA', 'L02D', 244.887372150198], [None, 'TA', 'J01D', 245.5797659418295], [None, 'TA', 'K02D', 247.366002853723], [None, 'UO', 'DBO', 294.45790358867265]]\n"
     ]
    },
    {
     "name": "stderr",
     "output_type": "stream",
     "text": [
      "\r",
      " 14%|█▎        | 136/990 [02:16<17:19,  1.22s/it]"
     ]
    },
    {
     "name": "stdout",
     "output_type": "stream",
     "text": [
      "[[None, 'NC', 'KSXB', 148.28322544345124], [None, 'NC', 'KBO', 178.52308937266935], [None, 'TA', 'L02D', 191.05683443652995], [None, 'TA', 'K02D', 243.35102413029637]]\n"
     ]
    },
    {
     "name": "stderr",
     "output_type": "stream",
     "text": [
      "\r",
      " 14%|█▍        | 137/990 [02:17<15:53,  1.12s/it]"
     ]
    },
    {
     "name": "stdout",
     "output_type": "stream",
     "text": [
      "[[None, 'NC', 'KSXB', 145.72433795827055], [None, 'NC', 'KBO', 175.72020409443218], [None, 'TA', 'L02D', 188.5185469946319], [None, 'TA', 'K02D', 240.65413989317062]]\n"
     ]
    },
    {
     "name": "stderr",
     "output_type": "stream",
     "text": [
      "\r",
      " 14%|█▍        | 138/990 [02:18<15:54,  1.12s/it]"
     ]
    },
    {
     "name": "stdout",
     "output_type": "stream",
     "text": [
      "[[None, 'NC', 'KBO', 215.64995748334644], [None, 'TA', 'J01D', 221.03803022796262], [None, 'TA', 'K02D', 244.8311575859316], [None, 'TA', 'L02D', 265.3280447132754], [None, 'UO', 'DBO', 276.45590091137706]]\n"
     ]
    },
    {
     "name": "stderr",
     "output_type": "stream",
     "text": [
      "\r",
      " 14%|█▍        | 139/990 [02:20<17:42,  1.25s/it]"
     ]
    },
    {
     "name": "stdout",
     "output_type": "stream",
     "text": [
      "[[None, 'UO', 'DBO', 37.4002843241736], [None, 'TA', 'J01D', 72.55254305071342], [None, 'TA', 'K02D', 94.10237665028785], [None, 'NC', 'KEB', 116.99419752969013], [None, 'TA', 'L02D', 148.20443078376996], [None, 'NC', 'KBO', 163.7828630765505]]\n"
     ]
    },
    {
     "name": "stderr",
     "output_type": "stream",
     "text": [
      "\r",
      " 14%|█▍        | 140/990 [02:21<17:14,  1.22s/it]"
     ]
    },
    {
     "name": "stdout",
     "output_type": "stream",
     "text": [
      "[[None, 'NC', 'KSXB', 112.36263815761187], [None, 'NC', 'KBO', 143.51393978576246], [None, 'TA', 'L02D', 155.1740044712263], [None, 'TA', 'K02D', 207.48554794691478]]\n"
     ]
    },
    {
     "name": "stderr",
     "output_type": "stream",
     "text": [
      "\r",
      " 14%|█▍        | 141/990 [02:22<16:52,  1.19s/it]"
     ]
    },
    {
     "name": "stdout",
     "output_type": "stream",
     "text": [
      "[[None, 'NC', 'KBO', 51.94072995834544], [None, 'NC', 'KEB', 57.48591682851019], [None, 'TA', 'K02D', 93.3929451970592], [None, 'TA', 'L02D', 100.9957372091796], [None, 'NC', 'KSXB', 101.14493999389454]]\n"
     ]
    },
    {
     "name": "stderr",
     "output_type": "stream",
     "text": [
      "\r",
      " 14%|█▍        | 142/990 [02:23<14:56,  1.06s/it]"
     ]
    },
    {
     "name": "stdout",
     "output_type": "stream",
     "text": [
      "[[None, 'NC', 'KSXB', 166.47451443379364], [None, 'TA', 'L02D', 209.06107677972443], [None, 'TA', 'K02D', 262.3288660478847]]\n"
     ]
    },
    {
     "name": "stderr",
     "output_type": "stream",
     "text": [
      "\r",
      " 14%|█▍        | 143/990 [02:24<15:00,  1.06s/it]"
     ]
    },
    {
     "name": "stdout",
     "output_type": "stream",
     "text": [
      "[[None, 'NC', 'KSXB', 137.22951534529386], [None, 'NC', 'KBO', 150.61361751753358], [None, 'TA', 'L02D', 178.26493579299193], [None, 'TA', 'K02D', 220.67623751485237], [None, 'UO', 'DBO', 278.8831149685151]]\n"
     ]
    },
    {
     "name": "stderr",
     "output_type": "stream",
     "text": [
      "\r",
      " 15%|█▍        | 144/990 [02:26<17:18,  1.23s/it]"
     ]
    },
    {
     "name": "stdout",
     "output_type": "stream",
     "text": [
      "[[None, 'NC', 'KBO', 144.03930331331662], [None, 'NC', 'KEB', 163.55969780528048], [None, 'NC', 'KSXB', 172.79950404129028], [None, 'TA', 'L02D', 194.44282040545065], [None, 'TA', 'K02D', 202.61475624398716], [None, 'TA', 'J01D', 208.9800382906788], [None, 'UO', 'DBO', 253.5216408764538]]\n"
     ]
    },
    {
     "name": "stderr",
     "output_type": "stream",
     "text": [
      "\r",
      " 15%|█▍        | 145/990 [02:26<15:09,  1.08s/it]"
     ]
    },
    {
     "name": "stdout",
     "output_type": "stream",
     "text": [
      "[[None, 'NC', 'KEB', 45.50601029098642], [None, 'TA', 'J01D', 70.28877296943308], [None, 'TA', 'K02D', 102.61173396694477]]\n"
     ]
    },
    {
     "name": "stderr",
     "output_type": "stream",
     "text": [
      " 15%|█▍        | 147/990 [02:28<13:27,  1.04it/s]"
     ]
    },
    {
     "name": "stdout",
     "output_type": "stream",
     "text": [
      "[[None, 'TA', 'L02D', 71.3640306022744], [None, 'TA', 'K02D', 83.14573713986732], [None, 'UO', 'DBO', 94.6919254574206]]\n"
     ]
    },
    {
     "name": "stderr",
     "output_type": "stream",
     "text": [
      "\r",
      " 15%|█▍        | 148/990 [02:30<16:00,  1.14s/it]"
     ]
    },
    {
     "name": "stdout",
     "output_type": "stream",
     "text": [
      "[[None, 'NC', 'KSXB', 127.42846189094247], [None, 'NC', 'KBO', 160.3681354398024], [None, 'TA', 'L02D', 170.0285181575571], [None, 'TA', 'K02D', 223.48617499330044]]\n"
     ]
    },
    {
     "name": "stderr",
     "output_type": "stream",
     "text": [
      " 15%|█▌        | 150/990 [02:32<15:51,  1.13s/it]"
     ]
    },
    {
     "name": "stdout",
     "output_type": "stream",
     "text": [
      "[[None, 'NC', 'KBO', 55.53734589518359], [None, 'NC', 'KEB', 58.43969374064902], [None, 'TA', 'K02D', 96.19238209029658], [None, 'TA', 'J01D', 104.26194739789406], [None, 'NC', 'KSXB', 104.567623965919]]\n"
     ]
    },
    {
     "name": "stderr",
     "output_type": "stream",
     "text": [
      "\r",
      " 15%|█▌        | 151/990 [02:34<17:36,  1.26s/it]"
     ]
    },
    {
     "name": "stdout",
     "output_type": "stream",
     "text": [
      "[[None, 'NC', 'KBO', 54.58632346976409], [None, 'NC', 'KEB', 57.728302629149574], [None, 'TA', 'K02D', 95.12155990043713], [None, 'TA', 'J01D', 103.51906568603206], [None, 'TA', 'L02D', 103.5638440754975], [None, 'NC', 'KSXB', 103.7491340443254], [None, 'UO', 'DBO', 144.8810060123084]]\n"
     ]
    },
    {
     "name": "stderr",
     "output_type": "stream",
     "text": [
      "\r",
      " 15%|█▌        | 152/990 [02:34<15:29,  1.11s/it]"
     ]
    },
    {
     "name": "stdout",
     "output_type": "stream",
     "text": [
      "[[None, 'NC', 'KSXB', 138.11640715931193], [None, 'TA', 'L02D', 180.87011179738107], [None, 'TA', 'K02D', 233.40250857902248]]\n"
     ]
    },
    {
     "name": "stderr",
     "output_type": "stream",
     "text": [
      "\r",
      " 15%|█▌        | 153/990 [02:36<17:47,  1.28s/it]"
     ]
    },
    {
     "name": "stdout",
     "output_type": "stream",
     "text": [
      "[[None, 'NC', 'KEB', 199.36877571339764], [None, 'NC', 'KBO', 229.48630161106863], [None, 'TA', 'J01D', 230.29776602472285], [None, 'TA', 'K02D', 256.4227354975188], [None, 'NC', 'KSXB', 275.2346919728745], [None, 'TA', 'L02D', 278.7557313797063], [None, 'UO', 'DBO', 286.01521370093445]]\n"
     ]
    },
    {
     "name": "stderr",
     "output_type": "stream",
     "text": [
      "\r",
      " 16%|█▌        | 154/990 [02:37<15:32,  1.12s/it]"
     ]
    },
    {
     "name": "stdout",
     "output_type": "stream",
     "text": [
      "[[None, 'NC', 'KSXB', 133.76952786513058], [None, 'TA', 'L02D', 176.5410277220603], [None, 'TA', 'K02D', 228.97811406851508]]\n"
     ]
    },
    {
     "name": "stderr",
     "output_type": "stream",
     "text": [
      "\r",
      " 16%|█▌        | 155/990 [02:38<16:07,  1.16s/it]"
     ]
    },
    {
     "name": "stdout",
     "output_type": "stream",
     "text": [
      "[[None, 'NC', 'KSXB', 155.193901738412], [None, 'NC', 'KBO', 194.81446733660096], [None, 'TA', 'L02D', 195.89002435644434], [None, 'TA', 'K02D', 252.9443132602561], [None, 'TA', 'J01D', 301.3649246553807]]\n"
     ]
    },
    {
     "name": "stderr",
     "output_type": "stream",
     "text": [
      "\r",
      " 16%|█▌        | 156/990 [02:39<16:19,  1.17s/it]"
     ]
    },
    {
     "name": "stdout",
     "output_type": "stream",
     "text": [
      "[[None, 'NC', 'KSXB', 120.10330096716257], [None, 'NC', 'KBO', 157.59545758218613], [None, 'TA', 'L02D', 161.90016778123834], [None, 'TA', 'K02D', 217.49704952255644]]\n"
     ]
    },
    {
     "name": "stderr",
     "output_type": "stream",
     "text": [
      "\r",
      " 16%|█▌        | 157/990 [02:40<14:00,  1.01s/it]"
     ]
    },
    {
     "name": "stdout",
     "output_type": "stream",
     "text": [
      "[[None, 'NC', 'KSXB', 126.77750453358573], [None, 'TA', 'L02D', 169.01121089499756], [None, 'TA', 'K02D', 215.46417346081884]]\n"
     ]
    },
    {
     "name": "stderr",
     "output_type": "stream",
     "text": [
      "\r",
      " 16%|█▌        | 158/990 [02:41<14:15,  1.03s/it]"
     ]
    },
    {
     "name": "stdout",
     "output_type": "stream",
     "text": [
      "[[None, 'NC', 'KSXB', 136.38534298066847], [None, 'NC', 'KBO', 172.3059709747696], [None, 'TA', 'L02D', 178.4182161755233], [None, 'TA', 'K02D', 233.4984006652495], [None, 'UO', 'DBO', 288.734353928881]]\n"
     ]
    },
    {
     "name": "stderr",
     "output_type": "stream",
     "text": [
      "\r",
      " 16%|█▌        | 159/990 [02:42<12:51,  1.08it/s]"
     ]
    },
    {
     "name": "stdout",
     "output_type": "stream",
     "text": [
      "[[None, 'NC', 'KSXB', 148.53226048990516], [None, 'TA', 'L02D', 191.35616617597475], [None, 'TA', 'K02D', 243.1471533937418]]\n"
     ]
    },
    {
     "name": "stderr",
     "output_type": "stream",
     "text": [
      "\r",
      " 16%|█▌        | 160/990 [02:43<13:11,  1.05it/s]"
     ]
    },
    {
     "name": "stdout",
     "output_type": "stream",
     "text": [
      "[[None, 'NC', 'KSXB', 149.8920028152798], [None, 'TA', 'L02D', 192.6035672720619], [None, 'TA', 'K02D', 245.32317841625334], [None, 'UO', 'DBO', 301.7518568238252]]\n"
     ]
    },
    {
     "name": "stderr",
     "output_type": "stream",
     "text": [
      "\r",
      " 16%|█▋        | 161/990 [02:43<13:01,  1.06it/s]"
     ]
    },
    {
     "name": "stdout",
     "output_type": "stream",
     "text": [
      "[[None, 'NC', 'KBO', 40.964662207140364], [None, 'NC', 'KSXB', 82.76134006713913], [None, 'TA', 'L02D', 92.59392164517304], [None, 'TA', 'K02D', 101.0647955775283]]\n"
     ]
    },
    {
     "name": "stderr",
     "output_type": "stream",
     "text": [
      "\r",
      " 16%|█▋        | 162/990 [02:45<16:22,  1.19s/it]"
     ]
    },
    {
     "name": "stdout",
     "output_type": "stream",
     "text": [
      "[[None, 'NC', 'KEB', 222.56811230102056], [None, 'TA', 'J01D', 252.38495627087497], [None, 'NC', 'KBO', 253.28267471160055], [None, 'TA', 'K02D', 279.8322176493134], [None, 'NC', 'KSXB', 298.7946949635474], [None, 'TA', 'L02D', 302.60367298952025], [None, 'UO', 'DBO', 308.23675791348944]]\n"
     ]
    },
    {
     "name": "stderr",
     "output_type": "stream",
     "text": [
      "\r",
      " 16%|█▋        | 163/990 [02:46<14:09,  1.03s/it]"
     ]
    },
    {
     "name": "stdout",
     "output_type": "stream",
     "text": [
      "[[None, 'TA', 'J01D', 30.000836843465105], [None, 'TA', 'K02D', 75.49306474487727], [None, 'UO', 'DBO', 85.93130342516307]]\n"
     ]
    },
    {
     "name": "stderr",
     "output_type": "stream",
     "text": [
      "\r",
      " 17%|█▋        | 164/990 [02:47<13:30,  1.02it/s]"
     ]
    },
    {
     "name": "stdout",
     "output_type": "stream",
     "text": [
      "[[None, 'NC', 'KSXB', 132.35680927281962], [None, 'TA', 'L02D', 175.171099357357], [None, 'TA', 'K02D', 224.8722691100267], [None, 'UO', 'DBO', 282.19720351211373]]\n"
     ]
    },
    {
     "name": "stderr",
     "output_type": "stream",
     "text": [
      "\r",
      " 17%|█▋        | 165/990 [02:48<15:30,  1.13s/it]"
     ]
    },
    {
     "name": "stdout",
     "output_type": "stream",
     "text": [
      "[[None, 'TA', 'L02D', 71.99547909067867], [None, 'TA', 'K02D', 84.78677666120576], [None, 'UO', 'DBO', 96.46464913828433], [None, 'NC', 'KSXB', 107.55571754265095], [None, 'NC', 'KBO', 121.37073412170581], [None, 'NC', 'KEB', 142.42094426085117]]\n"
     ]
    },
    {
     "name": "stderr",
     "output_type": "stream",
     "text": [
      "\r",
      " 17%|█▋        | 166/990 [02:50<16:43,  1.22s/it]"
     ]
    },
    {
     "name": "stdout",
     "output_type": "stream",
     "text": [
      "[[None, 'NC', 'KBO', 46.440935659278786], [None, 'NC', 'KEB', 65.22047859500677], [None, 'NC', 'KSXB', 93.7122523872594], [None, 'TA', 'K02D', 95.78408618401195], [None, 'TA', 'L02D', 97.17093215597511], [None, 'TA', 'J01D', 110.32157141450234]]\n"
     ]
    },
    {
     "name": "stderr",
     "output_type": "stream",
     "text": [
      "\r",
      " 17%|█▋        | 167/990 [02:51<18:36,  1.36s/it]"
     ]
    },
    {
     "name": "stdout",
     "output_type": "stream",
     "text": [
      "[[None, 'NC', 'KSXB', 140.60032576988996], [None, 'NC', 'KBO', 173.59052196913254], [None, 'TA', 'L02D', 183.12928403171853], [None, 'TA', 'K02D', 236.78718002928827], [None, 'NC', 'KEB', 245.54812491435976], [None, 'TA', 'J01D', 281.67826627278345], [None, 'UO', 'DBO', 292.7904303783425]]\n"
     ]
    },
    {
     "name": "stderr",
     "output_type": "stream",
     "text": [
      "\r",
      " 17%|█▋        | 168/990 [02:52<15:36,  1.14s/it]"
     ]
    },
    {
     "name": "stdout",
     "output_type": "stream",
     "text": [
      "[[None, 'NC', 'KBO', 24.443758376641362], [None, 'NC', 'KEB', 50.401094679392926], [None, 'TA', 'K02D', 62.341054003590564]]\n"
     ]
    },
    {
     "name": "stderr",
     "output_type": "stream",
     "text": [
      "\r",
      " 17%|█▋        | 169/990 [02:53<15:30,  1.13s/it]"
     ]
    },
    {
     "name": "stdout",
     "output_type": "stream",
     "text": [
      "[[None, 'NC', 'KSXB', 230.71289795800234], [None, 'TA', 'J01D', 245.570136175657], [None, 'TA', 'L02D', 249.26344974036218], [None, 'TA', 'K02D', 249.5393172066431], [None, 'UO', 'DBO', 295.39385477289153]]\n"
     ]
    },
    {
     "name": "stderr",
     "output_type": "stream",
     "text": [
      "\r",
      " 17%|█▋        | 170/990 [02:54<14:24,  1.05s/it]"
     ]
    },
    {
     "name": "stdout",
     "output_type": "stream",
     "text": [
      "[[None, 'NC', 'KSXB', 117.99079287551537], [None, 'NC', 'KBO', 128.1821065517536], [None, 'TA', 'L02D', 157.9357985634307], [None, 'TA', 'K02D', 198.4931793621786]]\n"
     ]
    },
    {
     "name": "stderr",
     "output_type": "stream",
     "text": [
      "\r",
      " 17%|█▋        | 171/990 [02:55<12:58,  1.05it/s]"
     ]
    },
    {
     "name": "stdout",
     "output_type": "stream",
     "text": [
      "[[None, 'TA', 'J01D', 31.27111721340536], [None, 'TA', 'K02D', 77.29549428195088], [None, 'UO', 'DBO', 87.1561722152268]]\n"
     ]
    },
    {
     "name": "stderr",
     "output_type": "stream",
     "text": [
      "\r",
      " 17%|█▋        | 172/990 [02:56<14:42,  1.08s/it]"
     ]
    },
    {
     "name": "stdout",
     "output_type": "stream",
     "text": [
      "[[None, 'NC', 'KBO', 146.7569401745984], [None, 'NC', 'KSXB', 182.53116793821508], [None, 'TA', 'J01D', 196.45443805799664], [None, 'TA', 'K02D', 197.7842149000477], [None, 'TA', 'L02D', 198.36541110611412], [None, 'UO', 'DBO', 244.72756786136455]]\n"
     ]
    },
    {
     "name": "stderr",
     "output_type": "stream",
     "text": [
      "\r",
      " 17%|█▋        | 173/990 [02:57<14:42,  1.08s/it]"
     ]
    },
    {
     "name": "stdout",
     "output_type": "stream",
     "text": [
      "[[None, 'NC', 'KSXB', 189.26890605363332], [None, 'NC', 'KBO', 211.40829800283805], [None, 'TA', 'L02D', 231.97543794574642], [None, 'TA', 'K02D', 279.8898974043856]]\n"
     ]
    },
    {
     "name": "stderr",
     "output_type": "stream",
     "text": [
      "\r",
      " 18%|█▊        | 174/990 [02:58<14:58,  1.10s/it]"
     ]
    },
    {
     "name": "stdout",
     "output_type": "stream",
     "text": [
      "[[None, 'NC', 'KBO', 112.09826235469924], [None, 'NC', 'KSXB', 126.1355990473334], [None, 'TA', 'L02D', 156.3770471821134], [None, 'TA', 'K02D', 180.47457051572863], [None, 'TA', 'J01D', 202.46049324426045]]\n"
     ]
    },
    {
     "name": "stderr",
     "output_type": "stream",
     "text": [
      "\r",
      " 18%|█▊        | 175/990 [02:59<15:02,  1.11s/it]"
     ]
    },
    {
     "name": "stdout",
     "output_type": "stream",
     "text": [
      "[[None, 'NC', 'KSXB', 248.82476999162543], [None, 'TA', 'L02D', 285.9503607430052], [None, 'TA', 'K02D', 316.3753255527819], [None, 'TA', 'J01D', 337.6034688515148], [None, 'UO', 'DBO', 373.16007352203457]]\n"
     ]
    },
    {
     "name": "stderr",
     "output_type": "stream",
     "text": [
      "\r",
      " 18%|█▊        | 176/990 [03:00<13:11,  1.03it/s]"
     ]
    },
    {
     "name": "stdout",
     "output_type": "stream",
     "text": [
      "[[None, 'TA', 'J01D', 29.189758957556684], [None, 'TA', 'K02D', 60.70145155265549], [None, 'UO', 'DBO', 81.97461214711659]]\n"
     ]
    },
    {
     "name": "stderr",
     "output_type": "stream",
     "text": [
      "\r",
      " 18%|█▊        | 177/990 [03:01<13:43,  1.01s/it]"
     ]
    },
    {
     "name": "stdout",
     "output_type": "stream",
     "text": [
      "[[None, 'NC', 'KSXB', 140.64192313446935], [None, 'NC', 'KBO', 170.12061258521416], [None, 'TA', 'L02D', 183.47079274077637], [None, 'TA', 'K02D', 235.2722696946924]]\n"
     ]
    },
    {
     "name": "stderr",
     "output_type": "stream",
     "text": [
      "\r",
      " 18%|█▊        | 178/990 [03:02<13:32,  1.00s/it]"
     ]
    },
    {
     "name": "stdout",
     "output_type": "stream",
     "text": [
      "[[None, 'NC', 'KSXB', 134.79315902427797], [None, 'TA', 'L02D', 164.3065529890596], [None, 'TA', 'K02D', 186.62462516994265], [None, 'TA', 'J01D', 206.63198098850262]]\n"
     ]
    },
    {
     "name": "stderr",
     "output_type": "stream",
     "text": [
      "\r",
      " 18%|█▊        | 179/990 [03:03<13:47,  1.02s/it]"
     ]
    },
    {
     "name": "stdout",
     "output_type": "stream",
     "text": [
      "[[None, 'NC', 'KBO', 33.653031066482974], [None, 'NC', 'KSXB', 72.40435093826378], [None, 'TA', 'L02D', 84.58007994778742], [None, 'TA', 'K02D', 98.7350989444814]]\n"
     ]
    },
    {
     "name": "stderr",
     "output_type": "stream",
     "text": [
      "\r",
      " 18%|█▊        | 180/990 [03:04<14:23,  1.07s/it]"
     ]
    },
    {
     "name": "stdout",
     "output_type": "stream",
     "text": [
      "[[None, 'NC', 'KSXB', 239.07029986214957], [None, 'TA', 'L02D', 279.53401937740097], [None, 'TA', 'K02D', 318.090611714578], [None, 'TA', 'J01D', 346.85701118948936], [None, 'UO', 'DBO', 376.13599520047075]]\n"
     ]
    },
    {
     "name": "stderr",
     "output_type": "stream",
     "text": [
      "\r",
      " 18%|█▊        | 181/990 [03:06<16:14,  1.20s/it]"
     ]
    },
    {
     "name": "stdout",
     "output_type": "stream",
     "text": [
      "[[None, 'NC', 'KSXB', 104.669575521913], [None, 'NC', 'KBO', 120.21198806866154], [None, 'TA', 'L02D', 145.76440094239223], [None, 'TA', 'K02D', 189.51809278219434], [None, 'UO', 'DBO', 247.6190184658931]]\n"
     ]
    },
    {
     "name": "stderr",
     "output_type": "stream",
     "text": [
      "\r",
      " 18%|█▊        | 182/990 [03:07<14:23,  1.07s/it]"
     ]
    },
    {
     "name": "stdout",
     "output_type": "stream",
     "text": [
      "[[None, 'NC', 'KSXB', 122.70823283140551], [None, 'TA', 'L02D', 165.5657368016466], [None, 'TA', 'K02D', 216.15968720069037]]\n"
     ]
    },
    {
     "name": "stderr",
     "output_type": "stream",
     "text": [
      "\r",
      " 18%|█▊        | 183/990 [03:08<13:47,  1.03s/it]"
     ]
    },
    {
     "name": "stdout",
     "output_type": "stream",
     "text": [
      "[[None, 'NC', 'KSXB', 138.1196953635227], [None, 'NC', 'KBO', 167.3241118261231], [None, 'TA', 'L02D', 180.9621286384854], [None, 'TA', 'K02D', 232.58755810526497]]\n"
     ]
    },
    {
     "name": "stderr",
     "output_type": "stream",
     "text": [
      "\r",
      " 19%|█▊        | 184/990 [03:08<13:15,  1.01it/s]"
     ]
    },
    {
     "name": "stdout",
     "output_type": "stream",
     "text": [
      "[[None, 'NC', 'KSXB', 161.4265921576808], [None, 'NC', 'KBO', 184.8703254579994], [None, 'TA', 'L02D', 204.17006918446816], [None, 'TA', 'K02D', 252.73558512012892]]\n"
     ]
    },
    {
     "name": "stderr",
     "output_type": "stream",
     "text": [
      "\r",
      " 19%|█▊        | 185/990 [03:10<14:23,  1.07s/it]"
     ]
    },
    {
     "name": "stdout",
     "output_type": "stream",
     "text": [
      "[[None, 'NC', 'KBO', 237.9754498726185], [None, 'NC', 'KSXB', 240.6514922703188], [None, 'TA', 'L02D', 277.48076280534], [None, 'TA', 'K02D', 307.4705372533684], [None, 'TA', 'J01D', 328.53885998712843], [None, 'UO', 'DBO', 364.19608582366794]]\n"
     ]
    },
    {
     "name": "stderr",
     "output_type": "stream",
     "text": [
      "\r",
      " 19%|█▉        | 186/990 [03:11<13:26,  1.00s/it]"
     ]
    },
    {
     "name": "stdout",
     "output_type": "stream",
     "text": [
      "[[None, 'NC', 'KEB', 47.10107530178802], [None, 'TA', 'J01D', 82.93670948487228], [None, 'TA', 'K02D', 104.68795790968505], [None, 'UO', 'DBO', 136.49170114566792]]\n"
     ]
    },
    {
     "name": "stderr",
     "output_type": "stream",
     "text": [
      "\r",
      " 19%|█▉        | 187/990 [03:12<14:17,  1.07s/it]"
     ]
    },
    {
     "name": "stdout",
     "output_type": "stream",
     "text": [
      "[[None, 'NC', 'KSXB', 129.9012867178954], [None, 'TA', 'L02D', 171.57922110013905], [None, 'TA', 'K02D', 216.0384574034646]]\n"
     ]
    },
    {
     "name": "stderr",
     "output_type": "stream",
     "text": [
      "\r",
      " 19%|█▉        | 188/990 [03:14<17:02,  1.28s/it]"
     ]
    },
    {
     "name": "stdout",
     "output_type": "stream",
     "text": [
      "[[None, 'NC', 'KBO', 172.18586943209903], [None, 'NC', 'KEB', 189.0228077997004], [None, 'NC', 'KSXB', 200.10915463068724], [None, 'TA', 'L02D', 222.54372577955152], [None, 'TA', 'K02D', 230.05610552595635], [None, 'TA', 'J01D', 233.93216107567082], [None, 'UO', 'DBO', 280.0022772510358]]\n"
     ]
    },
    {
     "name": "stderr",
     "output_type": "stream",
     "text": [
      "\r",
      " 19%|█▉        | 189/990 [03:16<20:22,  1.53s/it]"
     ]
    },
    {
     "name": "stdout",
     "output_type": "stream",
     "text": [
      "[[None, 'NC', 'KBO', 142.31392071057735], [None, 'NC', 'KEB', 160.1577661057088], [None, 'NC', 'KSXB', 172.22235996654652], [None, 'TA', 'L02D', 192.98557115494364], [None, 'TA', 'K02D', 199.97442912000852], [None, 'UO', 'DBO', 250.44987624827684]]\n"
     ]
    },
    {
     "name": "stderr",
     "output_type": "stream",
     "text": [
      "\r",
      " 19%|█▉        | 190/990 [03:17<19:49,  1.49s/it]"
     ]
    },
    {
     "name": "stdout",
     "output_type": "stream",
     "text": [
      "[[None, 'NC', 'KSXB', 87.97339727366445], [None, 'NC', 'KBO', 112.31818179309016], [None, 'TA', 'L02D', 130.41613746501997], [None, 'TA', 'K02D', 178.8232195985652], [None, 'TA', 'J01D', 220.51394112085978], [None, 'UO', 'DBO', 236.27575095163635]]\n"
     ]
    },
    {
     "name": "stderr",
     "output_type": "stream",
     "text": [
      "\r",
      " 19%|█▉        | 191/990 [03:18<18:31,  1.39s/it]"
     ]
    },
    {
     "name": "stdout",
     "output_type": "stream",
     "text": [
      "[[None, 'NC', 'KEB', 203.622948248806], [None, 'TA', 'J01D', 234.80177640744222], [None, 'TA', 'K02D', 260.5808312253004], [None, 'NC', 'KSXB', 278.37001528480863], [None, 'UO', 'DBO', 290.49352529932787]]\n"
     ]
    },
    {
     "name": "stderr",
     "output_type": "stream",
     "text": [
      "\r",
      " 19%|█▉        | 192/990 [03:19<16:54,  1.27s/it]"
     ]
    },
    {
     "name": "stdout",
     "output_type": "stream",
     "text": [
      "[[None, 'TA', 'L02D', 71.3640306022744], [None, 'TA', 'K02D', 83.14573713986732], [None, 'UO', 'DBO', 94.6919254574206], [None, 'NC', 'KSXB', 107.39925837449935]]\n"
     ]
    },
    {
     "name": "stderr",
     "output_type": "stream",
     "text": [
      " 20%|█▉        | 194/990 [03:22<17:34,  1.32s/it]"
     ]
    },
    {
     "name": "stdout",
     "output_type": "stream",
     "text": [
      "[[None, 'NC', 'KEB', 198.89639729445366], [None, 'NC', 'KBO', 227.69869170932108], [None, 'TA', 'J01D', 230.49888122279472], [None, 'TA', 'K02D', 255.74223705288915], [None, 'NC', 'KSXB', 273.0865672156907], [None, 'TA', 'L02D', 277.20687987961674], [None, 'UO', 'DBO', 286.12508080727207]]\n"
     ]
    },
    {
     "name": "stderr",
     "output_type": "stream",
     "text": [
      "\r",
      " 20%|█▉        | 195/990 [03:23<18:23,  1.39s/it]"
     ]
    },
    {
     "name": "stdout",
     "output_type": "stream",
     "text": [
      "[[None, 'NC', 'KSXB', 143.6724078887347], [None, 'NC', 'KBO', 176.58369770692985], [None, 'TA', 'L02D', 186.19742813217232], [None, 'TA', 'K02D', 239.85183411424825], [None, 'TA', 'J01D', 284.6879568724561], [None, 'UO', 'DBO', 295.8630071628426]]\n"
     ]
    },
    {
     "name": "stderr",
     "output_type": "stream",
     "text": [
      "\r",
      " 20%|█▉        | 196/990 [03:24<16:55,  1.28s/it]"
     ]
    },
    {
     "name": "stdout",
     "output_type": "stream",
     "text": [
      "[[None, 'NC', 'KSXB', 144.99680222046823], [None, 'NC', 'KBO', 178.0011215767148], [None, 'TA', 'L02D', 187.50295883972638], [None, 'TA', 'K02D', 241.22125387980373]]\n"
     ]
    },
    {
     "name": "stderr",
     "output_type": "stream",
     "text": [
      "\r",
      " 20%|█▉        | 197/990 [03:25<15:28,  1.17s/it]"
     ]
    },
    {
     "name": "stdout",
     "output_type": "stream",
     "text": [
      "[[None, 'NC', 'KSXB', 155.8117958092921], [None, 'TA', 'L02D', 196.75166701345105], [None, 'TA', 'K02D', 253.52806213249025]]\n"
     ]
    },
    {
     "name": "stderr",
     "output_type": "stream",
     "text": [
      "\r",
      " 20%|██        | 198/990 [03:27<16:21,  1.24s/it]"
     ]
    },
    {
     "name": "stdout",
     "output_type": "stream",
     "text": [
      "[[None, 'NC', 'KSXB', 144.5789635290865], [None, 'NC', 'KBO', 177.84585344672132], [None, 'TA', 'L02D', 187.04987305787574], [None, 'TA', 'K02D', 240.89879042201306], [None, 'TA', 'J01D', 285.91639121893127], [None, 'UO', 'DBO', 296.818943656101]]\n"
     ]
    },
    {
     "name": "stderr",
     "output_type": "stream",
     "text": [
      "\r",
      " 20%|██        | 199/990 [03:27<14:23,  1.09s/it]"
     ]
    },
    {
     "name": "stdout",
     "output_type": "stream",
     "text": [
      "[[None, 'NC', 'KEB', 44.678406278567714], [None, 'TA', 'J01D', 78.4873572841767], [None, 'TA', 'K02D', 102.62048931328147]]\n"
     ]
    },
    {
     "name": "stderr",
     "output_type": "stream",
     "text": [
      "\r",
      " 20%|██        | 200/990 [03:28<12:43,  1.04it/s]"
     ]
    },
    {
     "name": "stdout",
     "output_type": "stream",
     "text": [
      "[[None, 'NC', 'KSXB', 204.276365962202], [None, 'NC', 'KBO', 222.27152134934], [None, 'TA', 'K02D', 291.9072899279764]]\n"
     ]
    },
    {
     "name": "stderr",
     "output_type": "stream",
     "text": [
      "\r",
      " 20%|██        | 201/990 [03:29<11:35,  1.13it/s]"
     ]
    },
    {
     "name": "stdout",
     "output_type": "stream",
     "text": [
      "[[None, 'NC', 'KSXB', 156.9940028359954], [None, 'TA', 'L02D', 198.3043082619243], [None, 'TA', 'K02D', 254.5952506601949]]\n"
     ]
    },
    {
     "name": "stderr",
     "output_type": "stream",
     "text": [
      "\r",
      " 20%|██        | 202/990 [03:29<10:33,  1.24it/s]"
     ]
    },
    {
     "name": "stdout",
     "output_type": "stream",
     "text": [
      "[[None, 'UO', 'DBO', 89.53183434175372], [None, 'TA', 'K02D', 135.3085848954971], [None, 'TA', 'J01D', 144.91251166547772]]\n"
     ]
    },
    {
     "name": "stderr",
     "output_type": "stream",
     "text": [
      "\r",
      " 21%|██        | 203/990 [03:30<09:46,  1.34it/s]"
     ]
    },
    {
     "name": "stdout",
     "output_type": "stream",
     "text": [
      "[[None, 'NC', 'KSXB', 135.98327555833976], [None, 'NC', 'KBO', 154.41331885959403], [None, 'TA', 'K02D', 223.49201955323664]]\n"
     ]
    },
    {
     "name": "stderr",
     "output_type": "stream",
     "text": [
      "\r",
      " 21%|██        | 204/990 [03:31<10:26,  1.25it/s]"
     ]
    },
    {
     "name": "stdout",
     "output_type": "stream",
     "text": [
      "[[None, 'NC', 'KSXB', 151.18907605573872], [None, 'NC', 'KBO', 182.2993985337741], [None, 'TA', 'L02D', 193.88715019713402], [None, 'TA', 'K02D', 246.67888597755982]]\n"
     ]
    },
    {
     "name": "stderr",
     "output_type": "stream",
     "text": [
      "\r",
      " 21%|██        | 205/990 [03:32<10:57,  1.19it/s]"
     ]
    },
    {
     "name": "stdout",
     "output_type": "stream",
     "text": [
      "[[None, 'NC', 'KSXB', 166.9264998765592], [None, 'NC', 'KBO', 199.20563005308776], [None, 'TA', 'L02D', 209.44060824843137], [None, 'TA', 'K02D', 263.0107729863306]]\n"
     ]
    },
    {
     "name": "stderr",
     "output_type": "stream",
     "text": [
      "\r",
      " 21%|██        | 206/990 [03:33<13:19,  1.02s/it]"
     ]
    },
    {
     "name": "stdout",
     "output_type": "stream",
     "text": [
      "[[None, 'NC', 'KSXB', 144.47775609734398], [None, 'NC', 'KBO', 169.0186295554062], [None, 'TA', 'L02D', 187.25241593601314], [None, 'TA', 'K02D', 236.34204430459613], [None, 'TA', 'J01D', 276.8437644315151], [None, 'UO', 'DBO', 293.8336678053841]]\n"
     ]
    },
    {
     "name": "stderr",
     "output_type": "stream",
     "text": [
      "\r",
      " 21%|██        | 207/990 [03:35<13:53,  1.06s/it]"
     ]
    },
    {
     "name": "stdout",
     "output_type": "stream",
     "text": [
      "[[None, 'NC', 'KSXB', 92.87016603734138], [None, 'NC', 'KBO', 128.9613494980997], [None, 'TA', 'L02D', 135.27960513249656], [None, 'TA', 'K02D', 189.67341342753923]]\n"
     ]
    },
    {
     "name": "stderr",
     "output_type": "stream",
     "text": [
      "\r",
      " 21%|██        | 208/990 [03:36<14:48,  1.14s/it]"
     ]
    },
    {
     "name": "stdout",
     "output_type": "stream",
     "text": [
      "[[None, 'NC', 'KBO', 200.4515957367267], [None, 'TA', 'J01D', 204.42419866787617], [None, 'TA', 'K02D', 228.28962552959877], [None, 'NC', 'KSXB', 246.43743202726435], [None, 'TA', 'L02D', 249.71678671961138], [None, 'UO', 'DBO', 259.7995242906763]]\n"
     ]
    },
    {
     "name": "stderr",
     "output_type": "stream",
     "text": [
      "\r",
      " 21%|██        | 209/990 [03:37<14:48,  1.14s/it]"
     ]
    },
    {
     "name": "stdout",
     "output_type": "stream",
     "text": [
      "[[None, 'NC', 'KSXB', 59.83720500094125], [None, 'NC', 'KBO', 81.9088199324684], [None, 'TA', 'K02D', 148.14063585492124], [None, 'TA', 'J01D', 190.14879944000788], [None, 'UO', 'DBO', 205.70575705941346]]\n"
     ]
    },
    {
     "name": "stderr",
     "output_type": "stream",
     "text": [
      "\r",
      " 21%|██        | 210/990 [03:38<13:50,  1.07s/it]"
     ]
    },
    {
     "name": "stdout",
     "output_type": "stream",
     "text": [
      "[[None, 'NC', 'KBO', 33.43687531815715], [None, 'NC', 'KSXB', 73.1307406721426], [None, 'TA', 'L02D', 84.58092698721683], [None, 'TA', 'K02D', 97.8667549778632]]\n"
     ]
    },
    {
     "name": "stderr",
     "output_type": "stream",
     "text": [
      "\r",
      " 21%|██▏       | 211/990 [03:39<14:43,  1.13s/it]"
     ]
    },
    {
     "name": "stdout",
     "output_type": "stream",
     "text": [
      "[[None, 'NC', 'KSXB', 237.33034684240806], [None, 'NC', 'KBO', 245.95711930362265], [None, 'TA', 'L02D', 277.8722208770183], [None, 'TA', 'K02D', 316.67635731117434], [None, 'TA', 'J01D', 345.70668580109736], [None, 'UO', 'DBO', 374.74392382810225]]\n"
     ]
    },
    {
     "name": "stderr",
     "output_type": "stream",
     "text": [
      "\r",
      " 21%|██▏       | 212/990 [03:40<15:05,  1.16s/it]"
     ]
    },
    {
     "name": "stdout",
     "output_type": "stream",
     "text": [
      "[[None, 'NC', 'KEB', 48.04393457227057], [None, 'TA', 'J01D', 69.97980828852121], [None, 'TA', 'K02D', 104.53220645910689], [None, 'UO', 'DBO', 125.75367150693656], [None, 'TA', 'L02D', 146.63739671255365]]\n"
     ]
    },
    {
     "name": "stderr",
     "output_type": "stream",
     "text": [
      "\r",
      " 22%|██▏       | 213/990 [03:41<13:29,  1.04s/it]"
     ]
    },
    {
     "name": "stdout",
     "output_type": "stream",
     "text": [
      "[[None, 'NC', 'KSXB', 155.15721957116355], [None, 'TA', 'L02D', 197.98363512664454], [None, 'TA', 'K02D', 249.6834403581383]]\n"
     ]
    },
    {
     "name": "stderr",
     "output_type": "stream",
     "text": [
      "\r",
      " 22%|██▏       | 214/990 [03:43<15:41,  1.21s/it]"
     ]
    },
    {
     "name": "stdout",
     "output_type": "stream",
     "text": [
      "[[None, 'NC', 'KSXB', 139.52990780430508], [None, 'NC', 'KBO', 174.20837100474182], [None, 'TA', 'L02D', 181.79602675323406], [None, 'TA', 'K02D', 236.3005894865157], [None, 'TA', 'J01D', 282.0680478659542], [None, 'UO', 'DBO', 291.8735455096053]]\n"
     ]
    },
    {
     "name": "stderr",
     "output_type": "stream",
     "text": [
      "\r",
      " 22%|██▏       | 215/990 [03:44<16:35,  1.29s/it]"
     ]
    },
    {
     "name": "stdout",
     "output_type": "stream",
     "text": [
      "[[None, 'NC', 'KEB', 286.2057125998157], [None, 'TA', 'J01D', 310.0765191688935], [None, 'TA', 'K02D', 344.19796457741944], [None, 'UO', 'DBO', 365.75728611130467], [None, 'TA', 'L02D', 372.25016165014546]]\n"
     ]
    },
    {
     "name": "stderr",
     "output_type": "stream",
     "text": [
      " 22%|██▏       | 217/990 [03:46<13:04,  1.01s/it]"
     ]
    },
    {
     "name": "stdout",
     "output_type": "stream",
     "text": [
      "[[None, 'NC', 'KSXB', 177.53472740669972], [None, 'NC', 'KBO', 195.25527225805038], [None, 'TA', 'K02D', 264.8159951833819]]\n"
     ]
    },
    {
     "name": "stderr",
     "output_type": "stream",
     "text": [
      "\r",
      " 22%|██▏       | 218/990 [03:47<12:59,  1.01s/it]"
     ]
    },
    {
     "name": "stdout",
     "output_type": "stream",
     "text": [
      "[[None, 'NC', 'KSXB', 119.58613514457062], [None, 'NC', 'KBO', 126.49038564987416], [None, 'TA', 'L02D', 158.5681410357691], [None, 'TA', 'K02D', 197.09058305582676], [None, 'UO', 'DBO', 255.2843531989197]]\n"
     ]
    },
    {
     "name": "stderr",
     "output_type": "stream",
     "text": [
      "\r",
      " 22%|██▏       | 219/990 [03:48<12:28,  1.03it/s]"
     ]
    },
    {
     "name": "stdout",
     "output_type": "stream",
     "text": [
      "[[None, 'NC', 'KBO', 26.700019900241426], [None, 'NC', 'KSXB', 51.95987152297952], [None, 'TA', 'L02D', 70.6087478287118], [None, 'TA', 'K02D', 97.41202436733967]]\n"
     ]
    },
    {
     "name": "stderr",
     "output_type": "stream",
     "text": [
      "\r",
      " 22%|██▏       | 220/990 [03:49<14:26,  1.13s/it]"
     ]
    },
    {
     "name": "stdout",
     "output_type": "stream",
     "text": [
      "[[None, 'NC', 'KEB', 207.84416490863376], [None, 'TA', 'J01D', 237.94089609880612], [None, 'NC', 'KBO', 238.97394142807897], [None, 'TA', 'K02D', 265.0909061813878], [None, 'NC', 'KSXB', 284.85032670695153], [None, 'TA', 'L02D', 288.11237983678996], [None, 'UO', 'DBO', 293.75643419260206]]\n"
     ]
    },
    {
     "name": "stderr",
     "output_type": "stream",
     "text": [
      "\r",
      " 22%|██▏       | 221/990 [03:50<14:13,  1.11s/it]"
     ]
    },
    {
     "name": "stdout",
     "output_type": "stream",
     "text": [
      "[[None, 'NC', 'KEB', 149.47956473940152], [None, 'TA', 'J01D', 164.50840987396134], [None, 'TA', 'K02D', 206.09308974301345], [None, 'UO', 'DBO', 219.17631541450055], [None, 'TA', 'L02D', 245.94259561296764]]\n"
     ]
    },
    {
     "name": "stderr",
     "output_type": "stream",
     "text": [
      "\r",
      " 22%|██▏       | 222/990 [03:51<13:12,  1.03s/it]"
     ]
    },
    {
     "name": "stdout",
     "output_type": "stream",
     "text": [
      "[[None, 'TA', 'L02D', 81.1059484503724], [None, 'TA', 'K02D', 87.43517161202524], [None, 'UO', 'DBO', 92.18112310216273], [None, 'NC', 'KSXB', 117.84658558808744]]\n"
     ]
    },
    {
     "name": "stderr",
     "output_type": "stream",
     "text": [
      "\r",
      " 23%|██▎       | 223/990 [03:53<16:02,  1.25s/it]"
     ]
    },
    {
     "name": "stdout",
     "output_type": "stream",
     "text": [
      "[[None, 'NC', 'KEB', 191.30218495123745], [None, 'NC', 'KBO', 221.2208815052538], [None, 'TA', 'J01D', 222.64534445827087], [None, 'TA', 'K02D', 248.27174238673288], [None, 'NC', 'KSXB', 267.0734494061351], [None, 'TA', 'L02D', 270.4612245622705], [None, 'UO', 'DBO', 278.2967992690604]]\n"
     ]
    },
    {
     "name": "stderr",
     "output_type": "stream",
     "text": [
      "\r",
      " 23%|██▎       | 224/990 [03:54<15:37,  1.22s/it]"
     ]
    },
    {
     "name": "stdout",
     "output_type": "stream",
     "text": [
      "[[None, 'NC', 'KSXB', 112.3516865784815], [None, 'NC', 'KBO', 136.30711743297363], [None, 'TA', 'L02D', 154.95521047783575], [None, 'TA', 'K02D', 203.43826548078408], [None, 'UO', 'DBO', 260.9664386462446]]\n"
     ]
    },
    {
     "name": "stderr",
     "output_type": "stream",
     "text": [
      "\r",
      " 23%|██▎       | 225/990 [03:55<16:00,  1.26s/it]"
     ]
    },
    {
     "name": "stdout",
     "output_type": "stream",
     "text": [
      "[[None, 'NC', 'KSXB', 133.20046466352866], [None, 'NC', 'KBO', 140.98709460232422], [None, 'TA', 'L02D', 172.68338493751733], [None, 'TA', 'K02D', 211.59747388649203], [None, 'TA', 'J01D', 244.0017624192781], [None, 'UO', 'DBO', 269.7886852248641]]\n"
     ]
    },
    {
     "name": "stderr",
     "output_type": "stream",
     "text": [
      "\r",
      " 23%|██▎       | 226/990 [03:56<13:34,  1.07s/it]"
     ]
    },
    {
     "name": "stdout",
     "output_type": "stream",
     "text": [
      "[[None, 'NC', 'KSXB', 140.1782242511397], [None, 'TA', 'L02D', 182.67213854204545], [None, 'TA', 'K02D', 236.4639159129611]]\n"
     ]
    },
    {
     "name": "stderr",
     "output_type": "stream",
     "text": [
      "\r",
      " 23%|██▎       | 227/990 [03:57<11:57,  1.06it/s]"
     ]
    },
    {
     "name": "stdout",
     "output_type": "stream",
     "text": [
      "[[None, 'TA', 'L02D', 137.2909410774769], [None, 'UO', 'DBO', 145.57954089857932], [None, 'TA', 'K02D', 150.83318658088407]]\n"
     ]
    },
    {
     "name": "stderr",
     "output_type": "stream",
     "text": [
      "\r",
      " 23%|██▎       | 228/990 [03:57<10:53,  1.17it/s]"
     ]
    },
    {
     "name": "stdout",
     "output_type": "stream",
     "text": [
      "[[None, 'TA', 'L02D', 68.27167469945398], [None, 'NC', 'KSXB', 94.2712694535955], [None, 'TA', 'K02D', 100.33679812134257]]\n"
     ]
    },
    {
     "name": "stderr",
     "output_type": "stream",
     "text": [
      "\r",
      " 23%|██▎       | 229/990 [03:58<11:07,  1.14it/s]"
     ]
    },
    {
     "name": "stdout",
     "output_type": "stream",
     "text": [
      "[[None, 'NC', 'KSXB', 136.90522295255633], [None, 'NC', 'KBO', 158.40132799591996], [None, 'TA', 'L02D', 179.38032760890684], [None, 'TA', 'K02D', 226.6630000191829]]\n"
     ]
    },
    {
     "name": "stderr",
     "output_type": "stream",
     "text": [
      " 23%|██▎       | 231/990 [04:00<12:47,  1.01s/it]"
     ]
    },
    {
     "name": "stdout",
     "output_type": "stream",
     "text": [
      "[[None, 'NC', 'KSXB', 156.04639745630553], [None, 'NC', 'KBO', 183.89164171197163], [None, 'TA', 'L02D', 198.9057382958267], [None, 'TA', 'K02D', 249.95977152069028], [None, 'UO', 'DBO', 306.97953972748564]]\n"
     ]
    },
    {
     "name": "stderr",
     "output_type": "stream",
     "text": [
      "\r",
      " 23%|██▎       | 232/990 [04:02<13:04,  1.03s/it]"
     ]
    },
    {
     "name": "stdout",
     "output_type": "stream",
     "text": [
      "[[None, 'NC', 'KSXB', 105.5904636005114], [None, 'NC', 'KBO', 121.5105339823166], [None, 'TA', 'L02D', 146.78713107539122], [None, 'TA', 'K02D', 190.75431980685383]]\n"
     ]
    },
    {
     "name": "stderr",
     "output_type": "stream",
     "text": [
      "\r",
      " 24%|██▎       | 233/990 [04:03<12:45,  1.01s/it]"
     ]
    },
    {
     "name": "stdout",
     "output_type": "stream",
     "text": [
      "[[None, 'TA', 'L02D', 80.27509536420452], [None, 'TA', 'K02D', 90.59874796988288], [None, 'UO', 'DBO', 97.64646800990076]]\n"
     ]
    },
    {
     "name": "stderr",
     "output_type": "stream",
     "text": [
      "\r",
      " 24%|██▎       | 234/990 [04:03<12:16,  1.03it/s]"
     ]
    },
    {
     "name": "stdout",
     "output_type": "stream",
     "text": [
      "[[None, 'TA', 'J01D', 332.37521937407195], [None, 'TA', 'K02D', 366.9319427599205], [None, 'UO', 'DBO', 387.9732835849355], [None, 'NC', 'KSXB', 393.5910333176094]]\n"
     ]
    },
    {
     "name": "stderr",
     "output_type": "stream",
     "text": [
      "\r",
      " 24%|██▎       | 235/990 [04:04<12:21,  1.02it/s]"
     ]
    },
    {
     "name": "stdout",
     "output_type": "stream",
     "text": [
      "[[None, 'TA', 'J01D', 317.71957911693363], [None, 'TA', 'K02D', 347.6125423999728], [None, 'TA', 'L02D', 371.0233853695516], [None, 'UO', 'DBO', 373.6578120646738]]\n"
     ]
    },
    {
     "name": "stderr",
     "output_type": "stream",
     "text": [
      "\r",
      " 24%|██▍       | 236/990 [04:05<10:52,  1.16it/s]"
     ]
    },
    {
     "name": "stdout",
     "output_type": "stream",
     "text": [
      "[[None, 'NC', 'KBO', 30.066717890905913], [None, 'NC', 'KSXB', 50.30192228331462], [None, 'TA', 'K02D', 100.74144879464761]]\n"
     ]
    },
    {
     "name": "stderr",
     "output_type": "stream",
     "text": [
      "\r",
      " 24%|██▍       | 237/990 [04:06<10:05,  1.24it/s]"
     ]
    },
    {
     "name": "stdout",
     "output_type": "stream",
     "text": [
      "[[None, 'NC', 'KSXB', 146.35482884212433], [None, 'TA', 'L02D', 189.04947739234214], [None, 'TA', 'K02D', 241.89601554790244]]\n"
     ]
    },
    {
     "name": "stderr",
     "output_type": "stream",
     "text": [
      "\r",
      " 24%|██▍       | 238/990 [04:07<12:03,  1.04it/s]"
     ]
    },
    {
     "name": "stdout",
     "output_type": "stream",
     "text": [
      "[[None, 'NC', 'KEB', 41.94457775305791], [None, 'TA', 'J01D', 67.13822234656699], [None, 'TA', 'K02D', 98.98274329636713], [None, 'UO', 'DBO', 122.52280320038484]]\n"
     ]
    },
    {
     "name": "stderr",
     "output_type": "stream",
     "text": [
      "\r",
      " 24%|██▍       | 239/990 [04:08<10:50,  1.15it/s]"
     ]
    },
    {
     "name": "stdout",
     "output_type": "stream",
     "text": [
      "[[None, 'NC', 'KEB', 41.14004919470911], [None, 'TA', 'J01D', 67.33708370635568], [None, 'TA', 'K02D', 98.37313576429939]]\n"
     ]
    },
    {
     "name": "stderr",
     "output_type": "stream",
     "text": [
      " 24%|██▍       | 241/990 [04:10<13:44,  1.10s/it]"
     ]
    },
    {
     "name": "stdout",
     "output_type": "stream",
     "text": [
      "[[None, 'NC', 'KSXB', 32.72623010943264], [None, 'NC', 'KBO', 64.74583795872205], [None, 'TA', 'L02D', 74.88071832098981], [None, 'TA', 'K02D', 125.32834616231597], [None, 'NC', 'KEB', 138.61756249394347], [None, 'TA', 'J01D', 171.19989197469707]]\n"
     ]
    },
    {
     "name": "stderr",
     "output_type": "stream",
     "text": [
      "\r",
      " 24%|██▍       | 242/990 [04:11<13:41,  1.10s/it]"
     ]
    },
    {
     "name": "stdout",
     "output_type": "stream",
     "text": [
      "[[None, 'NC', 'KSXB', 38.711222650371376], [None, 'NC', 'KBO', 71.79828725170955], [None, 'TA', 'L02D', 81.30891030007078], [None, 'TA', 'K02D', 132.4811942385226]]\n"
     ]
    },
    {
     "name": "stderr",
     "output_type": "stream",
     "text": [
      "\r",
      " 25%|██▍       | 243/990 [04:12<12:46,  1.03s/it]"
     ]
    },
    {
     "name": "stdout",
     "output_type": "stream",
     "text": [
      "[[None, 'NC', 'KBO', 107.99457978412029], [None, 'NC', 'KSXB', 119.1045855820962], [None, 'TA', 'L02D', 150.68339261929674], [None, 'TA', 'K02D', 177.30046721253092]]\n"
     ]
    },
    {
     "name": "stderr",
     "output_type": "stream",
     "text": [
      "\r",
      " 25%|██▍       | 244/990 [04:13<13:09,  1.06s/it]"
     ]
    },
    {
     "name": "stdout",
     "output_type": "stream",
     "text": [
      "[[None, 'NC', 'KEB', 30.57941177442134], [None, 'NC', 'KBO', 73.8965897065332], [None, 'TA', 'J01D', 74.63770548550285], [None, 'TA', 'K02D', 84.13598432888492], [None, 'UO', 'DBO', 123.3484728842554]]\n"
     ]
    },
    {
     "name": "stderr",
     "output_type": "stream",
     "text": [
      "\r",
      " 25%|██▍       | 245/990 [04:14<12:13,  1.02it/s]"
     ]
    },
    {
     "name": "stdout",
     "output_type": "stream",
     "text": [
      "[[None, 'NC', 'KEB', 28.49405385970174], [None, 'NC', 'KBO', 72.75518381639192], [None, 'TA', 'J01D', 72.82981512585489], [None, 'TA', 'K02D', 81.92211598003007]]\n"
     ]
    },
    {
     "name": "stderr",
     "output_type": "stream",
     "text": [
      "\r",
      " 25%|██▍       | 246/990 [04:15<12:22,  1.00it/s]"
     ]
    },
    {
     "name": "stdout",
     "output_type": "stream",
     "text": [
      "[[None, 'NC', 'KSXB', 174.92403416434746], [None, 'NC', 'KBO', 194.0452345639399], [None, 'TA', 'L02D', 217.27294253375507], [None, 'TA', 'K02D', 263.2711027595447], [None, 'UO', 'DBO', 321.2939642233493]]\n"
     ]
    },
    {
     "name": "stderr",
     "output_type": "stream",
     "text": [
      "\r",
      " 25%|██▍       | 247/990 [04:16<11:10,  1.11it/s]"
     ]
    },
    {
     "name": "stdout",
     "output_type": "stream",
     "text": [
      "[[None, 'NC', 'KSXB', 118.76936153546802], [None, 'TA', 'L02D', 161.5165489037337], [None, 'TA', 'K02D', 214.27409810420505]]\n"
     ]
    },
    {
     "name": "stderr",
     "output_type": "stream",
     "text": [
      "\r",
      " 25%|██▌       | 248/990 [04:17<10:44,  1.15it/s]"
     ]
    },
    {
     "name": "stdout",
     "output_type": "stream",
     "text": [
      "[[None, 'NC', 'KBO', 18.5775905730838], [None, 'TA', 'L02D', 57.41763673477764], [None, 'TA', 'K02D', 58.32476118373936]]\n"
     ]
    },
    {
     "name": "stderr",
     "output_type": "stream",
     "text": [
      "\r",
      " 25%|██▌       | 249/990 [04:18<11:10,  1.11it/s]"
     ]
    },
    {
     "name": "stdout",
     "output_type": "stream",
     "text": [
      "[[None, 'NC', 'KSXB', 136.70878958507876], [None, 'NC', 'KBO', 165.037997087973], [None, 'TA', 'L02D', 179.57116143953843], [None, 'TA', 'K02D', 230.7057848480335]]\n"
     ]
    },
    {
     "name": "stderr",
     "output_type": "stream",
     "text": [
      "\r",
      " 25%|██▌       | 250/990 [04:19<12:29,  1.01s/it]"
     ]
    },
    {
     "name": "stdout",
     "output_type": "stream",
     "text": [
      "[[None, 'NC', 'KSXB', 91.5454724024658], [None, 'NC', 'KBO', 122.72824195572245], [None, 'TA', 'L02D', 134.40278249964038], [None, 'TA', 'K02D', 186.3554100948346], [None, 'TA', 'J01D', 230.77349348749573]]\n"
     ]
    },
    {
     "name": "stderr",
     "output_type": "stream",
     "text": [
      "\r",
      " 25%|██▌       | 251/990 [04:20<14:16,  1.16s/it]"
     ]
    },
    {
     "name": "stdout",
     "output_type": "stream",
     "text": [
      "[[None, 'NC', 'KSXB', 147.26749546534836], [None, 'NC', 'KBO', 176.44397567781527], [None, 'TA', 'L02D', 190.09864382933793], [None, 'TA', 'K02D', 241.80556659621942], [None, 'TA', 'J01D', 284.6714632641464], [None, 'UO', 'DBO', 298.5991677873425]]\n"
     ]
    },
    {
     "name": "stderr",
     "output_type": "stream",
     "text": [
      "\r",
      " 25%|██▌       | 252/990 [04:21<12:54,  1.05s/it]"
     ]
    },
    {
     "name": "stdout",
     "output_type": "stream",
     "text": [
      "[[None, 'NC', 'KSXB', 149.41629766768483], [None, 'NC', 'KBO', 177.50209024164826], [None, 'TA', 'L02D', 192.2754108993262], [None, 'TA', 'K02D', 243.40354466622074]]\n"
     ]
    },
    {
     "name": "stderr",
     "output_type": "stream",
     "text": [
      "\r",
      " 26%|██▌       | 253/990 [04:22<11:25,  1.07it/s]"
     ]
    },
    {
     "name": "stdout",
     "output_type": "stream",
     "text": [
      "[[None, 'NC', 'KSXB', 68.72062941162511], [None, 'TA', 'L02D', 106.17528293802846], [None, 'TA', 'K02D', 165.04559572738881]]\n"
     ]
    },
    {
     "name": "stderr",
     "output_type": "stream",
     "text": [
      "\r",
      " 26%|██▌       | 254/990 [04:23<11:37,  1.05it/s]"
     ]
    },
    {
     "name": "stdout",
     "output_type": "stream",
     "text": [
      "[[None, 'NC', 'KSXB', 141.60481101125666], [None, 'TA', 'L02D', 178.70767787022808], [None, 'TA', 'K02D', 237.9749224663843], [None, 'NC', 'KEB', 261.0196956984427]]\n"
     ]
    },
    {
     "name": "stderr",
     "output_type": "stream",
     "text": [
      "\r",
      " 26%|██▌       | 255/990 [04:25<14:02,  1.15s/it]"
     ]
    },
    {
     "name": "stdout",
     "output_type": "stream",
     "text": [
      "[[None, 'NC', 'KEB', 243.7207265189662], [None, 'TA', 'J01D', 270.9210657198816], [None, 'TA', 'K02D', 301.45110750583774], [None, 'NC', 'KSXB', 324.2906989204229], [None, 'TA', 'L02D', 326.73530676802096], [None, 'UO', 'DBO', 326.8584087297638]]\n"
     ]
    },
    {
     "name": "stderr",
     "output_type": "stream",
     "text": [
      "\r",
      " 26%|██▌       | 256/990 [04:25<13:17,  1.09s/it]"
     ]
    },
    {
     "name": "stdout",
     "output_type": "stream",
     "text": [
      "[[None, 'NC', 'KSXB', 166.03611626408247], [None, 'NC', 'KBO', 197.99085435382858], [None, 'TA', 'L02D', 208.59541882031783], [None, 'TA', 'K02D', 261.985088178062]]\n"
     ]
    },
    {
     "name": "stderr",
     "output_type": "stream",
     "text": [
      "\r",
      " 26%|██▌       | 257/990 [04:26<13:03,  1.07s/it]"
     ]
    },
    {
     "name": "stdout",
     "output_type": "stream",
     "text": [
      "[[None, 'NC', 'KSXB', 132.28857649159707], [None, 'NC', 'KBO', 165.91278802866915], [None, 'TA', 'L02D', 174.77271724800568], [None, 'TA', 'K02D', 228.64764642465929]]\n"
     ]
    },
    {
     "name": "stderr",
     "output_type": "stream",
     "text": [
      "\r",
      " 26%|██▌       | 258/990 [04:28<13:28,  1.10s/it]"
     ]
    },
    {
     "name": "stdout",
     "output_type": "stream",
     "text": [
      "[[None, 'NC', 'KSXB', 131.6956268245662], [None, 'NC', 'KBO', 148.42046308944015], [None, 'TA', 'K02D', 217.83694024549837], [None, 'TA', 'J01D', 254.72845770743515], [None, 'UO', 'DBO', 275.9361800904872]]\n"
     ]
    },
    {
     "name": "stderr",
     "output_type": "stream",
     "text": [
      "\r",
      " 26%|██▌       | 259/990 [04:29<12:46,  1.05s/it]"
     ]
    },
    {
     "name": "stdout",
     "output_type": "stream",
     "text": [
      "[[None, 'NC', 'KSXB', 185.9760832024142], [None, 'TA', 'L02D', 228.80124152717588], [None, 'TA', 'K02D', 280.27980437835663], [None, 'UO', 'DBO', 337.2229056159467]]\n"
     ]
    },
    {
     "name": "stderr",
     "output_type": "stream",
     "text": [
      "\r",
      " 26%|██▋       | 260/990 [04:29<11:36,  1.05it/s]"
     ]
    },
    {
     "name": "stdout",
     "output_type": "stream",
     "text": [
      "[[None, 'NC', 'KSXB', 159.27195763297078], [None, 'TA', 'L02D', 201.08396376372002], [None, 'TA', 'K02D', 256.5445202708578], [None, 'UO', 'DBO', 311.5694053962114]]\n"
     ]
    },
    {
     "name": "stderr",
     "output_type": "stream",
     "text": [
      "\r",
      " 26%|██▋       | 261/990 [04:30<12:18,  1.01s/it]"
     ]
    },
    {
     "name": "stdout",
     "output_type": "stream",
     "text": [
      "[[None, 'NC', 'KBO', 284.4740103049424], [None, 'NC', 'KSXB', 292.1892125558905], [None, 'TA', 'L02D', 327.10279721407295], [None, 'TA', 'K02D', 352.12852553940894]]\n"
     ]
    },
    {
     "name": "stderr",
     "output_type": "stream",
     "text": [
      "\r",
      " 26%|██▋       | 262/990 [04:31<11:21,  1.07it/s]"
     ]
    },
    {
     "name": "stdout",
     "output_type": "stream",
     "text": [
      "[[None, 'TA', 'L02D', 161.20393639744498], [None, 'UO', 'DBO', 172.60619604825055], [None, 'TA', 'K02D', 178.15443229638072]]\n"
     ]
    },
    {
     "name": "stderr",
     "output_type": "stream",
     "text": [
      "\r",
      " 27%|██▋       | 263/990 [04:32<11:58,  1.01it/s]"
     ]
    },
    {
     "name": "stdout",
     "output_type": "stream",
     "text": [
      "[[None, 'NC', 'KSXB', 139.2944813221535], [None, 'NC', 'KBO', 171.26111188864854], [None, 'TA', 'L02D', 181.9500607220387], [None, 'TA', 'K02D', 235.0598051808332], [None, 'UO', 'DBO', 291.3048379355547]]\n"
     ]
    },
    {
     "name": "stderr",
     "output_type": "stream",
     "text": [
      "\r",
      " 27%|██▋       | 264/990 [04:33<11:08,  1.09it/s]"
     ]
    },
    {
     "name": "stdout",
     "output_type": "stream",
     "text": [
      "[[None, 'NC', 'KSXB', 131.49242843981298], [None, 'TA', 'L02D', 174.33333853617182], [None, 'TA', 'K02D', 226.05504711399607]]\n"
     ]
    },
    {
     "name": "stderr",
     "output_type": "stream",
     "text": [
      "\r",
      " 27%|██▋       | 265/990 [04:34<10:55,  1.11it/s]"
     ]
    },
    {
     "name": "stdout",
     "output_type": "stream",
     "text": [
      "[[None, 'NC', 'KSXB', 134.0333618325028], [None, 'NC', 'KBO', 167.47018899151692], [None, 'TA', 'L02D', 176.5345486389785], [None, 'TA', 'K02D', 230.33748847699638]]\n"
     ]
    },
    {
     "name": "stderr",
     "output_type": "stream",
     "text": [
      "\r",
      " 27%|██▋       | 266/990 [04:35<11:05,  1.09it/s]"
     ]
    },
    {
     "name": "stdout",
     "output_type": "stream",
     "text": [
      "[[None, 'NC', 'KSXB', 51.65870112535599], [None, 'NC', 'KBO', 85.99968895484038], [None, 'TA', 'L02D', 94.52057273794192], [None, 'TA', 'K02D', 146.81426775418893]]\n"
     ]
    },
    {
     "name": "stderr",
     "output_type": "stream",
     "text": [
      "\r",
      " 27%|██▋       | 267/990 [04:36<11:15,  1.07it/s]"
     ]
    },
    {
     "name": "stdout",
     "output_type": "stream",
     "text": [
      "[[None, 'NC', 'KSXB', 50.52700360184489], [None, 'NC', 'KBO', 86.09182368587537], [None, 'TA', 'L02D', 93.38699983585522], [None, 'TA', 'K02D', 146.18462535924522]]\n"
     ]
    },
    {
     "name": "stderr",
     "output_type": "stream",
     "text": [
      "\r",
      " 27%|██▋       | 268/990 [04:38<13:50,  1.15s/it]"
     ]
    },
    {
     "name": "stdout",
     "output_type": "stream",
     "text": [
      "[[None, 'NC', 'KEB', 210.10861096493232], [None, 'NC', 'KBO', 238.4594569694937], [None, 'TA', 'J01D', 241.53471153241426], [None, 'TA', 'K02D', 266.95588519655684], [None, 'NC', 'KSXB', 283.49624685588134], [None, 'TA', 'L02D', 288.12967034024075], [None, 'UO', 'DBO', 297.20203264736716]]\n"
     ]
    },
    {
     "name": "stderr",
     "output_type": "stream",
     "text": [
      "\r",
      " 27%|██▋       | 269/990 [04:38<12:29,  1.04s/it]"
     ]
    },
    {
     "name": "stdout",
     "output_type": "stream",
     "text": [
      "[[None, 'UO', 'DBO', 20.660236480222046], [None, 'TA', 'J01D', 73.9211495083108], [None, 'TA', 'K02D', 77.49807239099695]]\n"
     ]
    },
    {
     "name": "stderr",
     "output_type": "stream",
     "text": [
      "\r",
      " 27%|██▋       | 270/990 [04:40<14:30,  1.21s/it]"
     ]
    },
    {
     "name": "stdout",
     "output_type": "stream",
     "text": [
      "[[None, 'NC', 'KBO', 145.5537855395198], [None, 'NC', 'KSXB', 166.3876852823196], [None, 'TA', 'L02D', 193.38063106221574], [None, 'TA', 'K02D', 209.66476863464925], [None, 'TA', 'J01D', 222.77117054482255], [None, 'UO', 'DBO', 263.4698592215025]]\n"
     ]
    },
    {
     "name": "stderr",
     "output_type": "stream",
     "text": [
      "\r",
      " 27%|██▋       | 271/990 [04:41<12:25,  1.04s/it]"
     ]
    },
    {
     "name": "stdout",
     "output_type": "stream",
     "text": [
      "[[None, 'UO', 'DBO', 29.488838393108644], [None, 'TA', 'J01D', 72.80776277823426], [None, 'TA', 'K02D', 87.52955557747333]]\n"
     ]
    },
    {
     "name": "stderr",
     "output_type": "stream",
     "text": [
      " 28%|██▊       | 273/990 [04:43<11:58,  1.00s/it]"
     ]
    },
    {
     "name": "stdout",
     "output_type": "stream",
     "text": [
      "[[None, 'NC', 'KSXB', 87.5933926426244], [None, 'NC', 'KBO', 108.34602008959023], [None, 'TA', 'L02D', 129.47132155427434], [None, 'TA', 'K02D', 176.0037389870758]]\n"
     ]
    },
    {
     "name": "stderr",
     "output_type": "stream",
     "text": [
      "\r",
      " 28%|██▊       | 274/990 [04:43<10:51,  1.10it/s]"
     ]
    },
    {
     "name": "stdout",
     "output_type": "stream",
     "text": [
      "[[None, 'TA', 'J01D', 32.216686414199984], [None, 'TA', 'K02D', 77.05916670014724], [None, 'UO', 'DBO', 88.15051989212496]]\n"
     ]
    },
    {
     "name": "stderr",
     "output_type": "stream",
     "text": [
      "\r",
      " 28%|██▊       | 275/990 [04:44<11:31,  1.03it/s]"
     ]
    },
    {
     "name": "stdout",
     "output_type": "stream",
     "text": [
      "[[None, 'NC', 'KSXB', 77.89636486192991], [None, 'NC', 'KBO', 104.82790800589483], [None, 'TA', 'L02D', 120.52018930952627], [None, 'TA', 'K02D', 170.0735487020096], [None, 'UO', 'DBO', 227.23312199476578]]\n"
     ]
    },
    {
     "name": "stderr",
     "output_type": "stream",
     "text": [
      "\r",
      " 28%|██▊       | 276/990 [04:45<11:17,  1.05it/s]"
     ]
    },
    {
     "name": "stdout",
     "output_type": "stream",
     "text": [
      "[[None, 'NC', 'KSXB', 155.68192053071297], [None, 'NC', 'KBO', 184.44527102737075], [None, 'TA', 'L02D', 198.51782101654774], [None, 'TA', 'K02D', 250.0787490696719]]\n"
     ]
    },
    {
     "name": "stderr",
     "output_type": "stream",
     "text": [
      "\r",
      " 28%|██▊       | 277/990 [04:46<10:56,  1.09it/s]"
     ]
    },
    {
     "name": "stdout",
     "output_type": "stream",
     "text": [
      "[[None, 'NC', 'KSXB', 152.48856929582652], [None, 'NC', 'KBO', 183.70624822002168], [None, 'TA', 'L02D', 195.17280216150553], [None, 'TA', 'K02D', 248.0354550783453]]\n"
     ]
    },
    {
     "name": "stderr",
     "output_type": "stream",
     "text": [
      "\r",
      " 28%|██▊       | 278/990 [04:47<10:39,  1.11it/s]"
     ]
    },
    {
     "name": "stdout",
     "output_type": "stream",
     "text": [
      "[[None, 'NC', 'KSXB', 78.43406261562102], [None, 'TA', 'L02D', 118.0180859406851], [None, 'NC', 'KBO', 123.06814624535447], [None, 'TA', 'K02D', 175.92262133446025]]\n"
     ]
    },
    {
     "name": "stderr",
     "output_type": "stream",
     "text": [
      "\r",
      " 28%|██▊       | 279/990 [04:49<13:41,  1.15s/it]"
     ]
    },
    {
     "name": "stdout",
     "output_type": "stream",
     "text": [
      "[[None, 'NC', 'KEB', 172.81760887540426], [None, 'TA', 'J01D', 183.1539459732499], [None, 'TA', 'K02D', 228.16250061815342], [None, 'NC', 'KBO', 232.15508493939518], [None, 'UO', 'DBO', 236.25679025728525], [None, 'TA', 'L02D', 270.6941568047413], [None, 'NC', 'KSXB', 283.4233401247552]]\n"
     ]
    },
    {
     "name": "stderr",
     "output_type": "stream",
     "text": [
      "\r",
      " 28%|██▊       | 280/990 [04:50<12:30,  1.06s/it]"
     ]
    },
    {
     "name": "stdout",
     "output_type": "stream",
     "text": [
      "[[None, 'NC', 'KSXB', 104.88190493941796], [None, 'NC', 'KBO', 130.34820430302776], [None, 'TA', 'L02D', 147.57895808064217], [None, 'TA', 'K02D', 196.79530764995246]]\n"
     ]
    },
    {
     "name": "stderr",
     "output_type": "stream",
     "text": [
      "\r",
      " 28%|██▊       | 281/990 [04:50<11:52,  1.00s/it]"
     ]
    },
    {
     "name": "stdout",
     "output_type": "stream",
     "text": [
      "[[None, 'NC', 'KSXB', 81.15002170437452], [None, 'NC', 'KBO', 111.22342966297413], [None, 'TA', 'L02D', 123.99864114091164], [None, 'TA', 'K02D', 175.1771383541666]]\n"
     ]
    },
    {
     "name": "stderr",
     "output_type": "stream",
     "text": [
      " 29%|██▊       | 283/990 [04:52<10:33,  1.12it/s]"
     ]
    },
    {
     "name": "stdout",
     "output_type": "stream",
     "text": [
      "[[None, 'TA', 'J01D', 30.000836843465105], [None, 'TA', 'K02D', 75.49306474487727], [None, 'UO', 'DBO', 85.93130342516307]]\n"
     ]
    },
    {
     "name": "stderr",
     "output_type": "stream",
     "text": [
      "\r",
      " 29%|██▊       | 284/990 [04:53<10:12,  1.15it/s]"
     ]
    },
    {
     "name": "stdout",
     "output_type": "stream",
     "text": [
      "[[None, 'NC', 'KSXB', 153.3708302920584], [None, 'TA', 'L02D', 196.19400895657128], [None, 'TA', 'K02D', 247.951030645122]]\n"
     ]
    },
    {
     "name": "stderr",
     "output_type": "stream",
     "text": [
      "\r",
      " 29%|██▉       | 285/990 [04:54<10:42,  1.10it/s]"
     ]
    },
    {
     "name": "stdout",
     "output_type": "stream",
     "text": [
      "[[None, 'NC', 'KSXB', 148.78222647597894], [None, 'NC', 'KBO', 178.7539684909545], [None, 'TA', 'L02D', 191.57154603673087], [None, 'TA', 'K02D', 243.72611782026354]]\n"
     ]
    },
    {
     "name": "stderr",
     "output_type": "stream",
     "text": [
      "\r",
      " 29%|██▉       | 286/990 [04:55<10:48,  1.09it/s]"
     ]
    },
    {
     "name": "stdout",
     "output_type": "stream",
     "text": [
      "[[None, 'NC', 'KSXB', 143.8433932223625], [None, 'NC', 'KBO', 168.67172355463512], [None, 'TA', 'L02D', 186.6329679657737], [None, 'TA', 'K02D', 235.88177693781117]]\n"
     ]
    },
    {
     "name": "stderr",
     "output_type": "stream",
     "text": [
      "\r",
      " 29%|██▉       | 287/990 [04:56<12:03,  1.03s/it]"
     ]
    },
    {
     "name": "stdout",
     "output_type": "stream",
     "text": [
      "[[None, 'NC', 'KBO', 123.2807505409047], [None, 'NC', 'KEB', 134.98856436161998], [None, 'NC', 'KSXB', 158.4808923808497], [None, 'TA', 'K02D', 176.92111997622135], [None, 'TA', 'J01D', 180.07210989988945], [None, 'UO', 'DBO', 225.9954623452694]]\n"
     ]
    },
    {
     "name": "stderr",
     "output_type": "stream",
     "text": [
      "\r",
      " 29%|██▉       | 288/990 [04:57<11:01,  1.06it/s]"
     ]
    },
    {
     "name": "stdout",
     "output_type": "stream",
     "text": [
      "[[None, 'NC', 'KSXB', 145.10315583802563], [None, 'TA', 'L02D', 187.4770676278351], [None, 'TA', 'K02D', 241.64356290210335]]\n"
     ]
    },
    {
     "name": "stderr",
     "output_type": "stream",
     "text": [
      "\r",
      " 29%|██▉       | 289/990 [04:58<12:06,  1.04s/it]"
     ]
    },
    {
     "name": "stdout",
     "output_type": "stream",
     "text": [
      "[[None, 'TA', 'J01D', 25.455626596105674], [None, 'TA', 'K02D', 71.40037541131099], [None, 'UO', 'DBO', 81.39571590888218], [None, 'NC', 'KBO', 107.35994974447894]]\n"
     ]
    },
    {
     "name": "stderr",
     "output_type": "stream",
     "text": [
      "\r",
      " 29%|██▉       | 290/990 [04:59<11:43,  1.00s/it]"
     ]
    },
    {
     "name": "stdout",
     "output_type": "stream",
     "text": [
      "[[None, 'TA', 'J01D', 30.16932079630844], [None, 'TA', 'K02D', 76.526951599816], [None, 'UO', 'DBO', 86.0480878741275], [None, 'TA', 'L02D', 129.49954558107285]]\n"
     ]
    },
    {
     "name": "stderr",
     "output_type": "stream",
     "text": [
      "\r",
      " 29%|██▉       | 291/990 [05:00<11:20,  1.03it/s]"
     ]
    },
    {
     "name": "stdout",
     "output_type": "stream",
     "text": [
      "[[None, 'TA', 'J01D', 47.66814019515777], [None, 'TA', 'K02D', 87.0959419673409], [None, 'UO', 'DBO', 103.55778382531362], [None, 'NC', 'KSXB', 157.7344106278767]]\n"
     ]
    },
    {
     "name": "stderr",
     "output_type": "stream",
     "text": [
      "\r",
      " 29%|██▉       | 292/990 [05:01<11:02,  1.05it/s]"
     ]
    },
    {
     "name": "stdout",
     "output_type": "stream",
     "text": [
      "[[None, 'TA', 'L02D', 47.98146424452278], [None, 'NC', 'KSXB', 70.90813225524371], [None, 'TA', 'K02D', 90.97786017512266], [None, 'NC', 'KBO', 99.06543772547215]]\n"
     ]
    },
    {
     "name": "stderr",
     "output_type": "stream",
     "text": [
      "\r",
      " 30%|██▉       | 293/990 [05:02<12:22,  1.06s/it]"
     ]
    },
    {
     "name": "stdout",
     "output_type": "stream",
     "text": [
      "[[None, 'NC', 'KEB', 231.72445373348353], [None, 'TA', 'J01D', 257.97955542415434], [None, 'NC', 'KBO', 268.262684417826], [None, 'TA', 'K02D', 289.59158354466445], [None, 'UO', 'DBO', 313.8962554373021], [None, 'TA', 'L02D', 316.36646720207153]]\n"
     ]
    },
    {
     "name": "stderr",
     "output_type": "stream",
     "text": [
      "\r",
      " 30%|██▉       | 294/990 [05:03<11:42,  1.01s/it]"
     ]
    },
    {
     "name": "stdout",
     "output_type": "stream",
     "text": [
      "[[None, 'TA', 'J01D', 40.00249321110231], [None, 'NC', 'KEB', 51.35766914482763], [None, 'TA', 'K02D', 90.93586920874438], [None, 'UO', 'DBO', 93.88749185867474]]\n"
     ]
    },
    {
     "name": "stderr",
     "output_type": "stream",
     "text": [
      "\r",
      " 30%|██▉       | 295/990 [05:04<12:50,  1.11s/it]"
     ]
    },
    {
     "name": "stdout",
     "output_type": "stream",
     "text": [
      "[[None, 'NC', 'KSXB', 162.76045795218377], [None, 'NC', 'KBO', 196.5942783851202], [None, 'TA', 'L02D', 205.04954350639653], [None, 'TA', 'K02D', 259.39031565094064], [None, 'TA', 'J01D', 304.6498033272441], [None, 'UO', 'DBO', 315.09056900645356]]\n"
     ]
    },
    {
     "name": "stderr",
     "output_type": "stream",
     "text": [
      "\r",
      " 30%|██▉       | 296/990 [05:05<12:08,  1.05s/it]"
     ]
    },
    {
     "name": "stdout",
     "output_type": "stream",
     "text": [
      "[[None, 'NC', 'KSXB', 180.6068058708569], [None, 'NC', 'KBO', 204.09495665535226], [None, 'TA', 'K02D', 272.08323536516707], [None, 'TA', 'J01D', 311.44174809380263]]\n"
     ]
    },
    {
     "name": "stderr",
     "output_type": "stream",
     "text": [
      "\r",
      " 30%|███       | 297/990 [05:07<14:57,  1.30s/it]"
     ]
    },
    {
     "name": "stdout",
     "output_type": "stream",
     "text": [
      "[[None, 'NC', 'KBO', 115.19055279826038], [None, 'NC', 'KSXB', 139.68577438012403], [None, 'NC', 'KEB', 146.9413880895647], [None, 'TA', 'L02D', 163.99252107767953], [None, 'TA', 'K02D', 178.66133996385736], [None, 'TA', 'J01D', 192.8249654628546], [None, 'UO', 'DBO', 232.59092102777532]]\n"
     ]
    },
    {
     "name": "stderr",
     "output_type": "stream",
     "text": [
      "\r",
      " 30%|███       | 298/990 [05:08<13:21,  1.16s/it]"
     ]
    },
    {
     "name": "stdout",
     "output_type": "stream",
     "text": [
      "[[None, 'NC', 'KSXB', 62.99294853444048], [None, 'TA', 'L02D', 103.583375197612], [None, 'NC', 'KBO', 106.96741227513003], [None, 'TA', 'K02D', 160.71003322576308]]\n"
     ]
    },
    {
     "name": "stderr",
     "output_type": "stream",
     "text": [
      "\r",
      " 30%|███       | 299/990 [05:09<12:08,  1.05s/it]"
     ]
    },
    {
     "name": "stdout",
     "output_type": "stream",
     "text": [
      "[[None, 'NC', 'KSXB', 139.6825128712331], [None, 'NC', 'KBO', 164.2417222817309], [None, 'TA', 'L02D', 182.4464875777088], [None, 'TA', 'K02D', 231.50932901294553]]\n"
     ]
    },
    {
     "name": "stderr",
     "output_type": "stream",
     "text": [
      "\r",
      " 30%|███       | 300/990 [05:10<11:33,  1.01s/it]"
     ]
    },
    {
     "name": "stdout",
     "output_type": "stream",
     "text": [
      "[[None, 'NC', 'KSXB', 148.05147227062415], [None, 'NC', 'KBO', 180.10238958417847], [None, 'TA', 'L02D', 190.66443321053515], [None, 'TA', 'K02D', 243.92051460780655]]\n"
     ]
    },
    {
     "name": "stderr",
     "output_type": "stream",
     "text": [
      "\r",
      " 30%|███       | 301/990 [05:11<13:01,  1.13s/it]"
     ]
    },
    {
     "name": "stdout",
     "output_type": "stream",
     "text": [
      "[[None, 'NC', 'KBO', 272.3134033901633], [None, 'NC', 'KSXB', 275.9349503785496], [None, 'TA', 'L02D', 312.5542896368908], [None, 'TA', 'K02D', 341.3609850570628], [None, 'TA', 'J01D', 360.46217061432134], [None, 'UO', 'DBO', 397.66569521799926]]\n"
     ]
    },
    {
     "name": "stderr",
     "output_type": "stream",
     "text": [
      "\r",
      " 31%|███       | 302/990 [05:12<13:56,  1.22s/it]"
     ]
    },
    {
     "name": "stdout",
     "output_type": "stream",
     "text": [
      "[[None, 'NC', 'KSXB', 94.1709511076863], [None, 'NC', 'KBO', 111.39292333650202], [None, 'TA', 'L02D', 135.4544113720083], [None, 'TA', 'K02D', 180.1340460269689], [None, 'UO', 'DBO', 238.1338159593176]]\n"
     ]
    },
    {
     "name": "stderr",
     "output_type": "stream",
     "text": [
      "\r",
      " 31%|███       | 303/990 [05:14<13:47,  1.20s/it]"
     ]
    },
    {
     "name": "stdout",
     "output_type": "stream",
     "text": [
      "[[None, 'NC', 'KSXB', 152.85440097983124], [None, 'NC', 'KBO', 182.27623544917833], [None, 'TA', 'L02D', 195.66613851025528], [None, 'TA', 'K02D', 247.5623292286557], [None, 'UO', 'DBO', 304.3037104979037]]\n"
     ]
    },
    {
     "name": "stderr",
     "output_type": "stream",
     "text": [
      " 31%|███       | 305/990 [05:16<13:01,  1.14s/it]"
     ]
    },
    {
     "name": "stdout",
     "output_type": "stream",
     "text": [
      "[[None, 'NC', 'KSXB', 146.198176334162], [None, 'NC', 'KBO', 172.8504457721309], [None, 'TA', 'L02D', 189.05643034406174], [None, 'TA', 'K02D', 239.35614243719172]]\n"
     ]
    },
    {
     "name": "stderr",
     "output_type": "stream",
     "text": [
      "\r",
      " 31%|███       | 306/990 [05:17<13:15,  1.16s/it]"
     ]
    },
    {
     "name": "stdout",
     "output_type": "stream",
     "text": [
      "[[None, 'NC', 'KSXB', 139.9097258356255], [None, 'NC', 'KBO', 174.32426775330967], [None, 'TA', 'L02D', 182.2214030167443], [None, 'TA', 'K02D', 236.59792100170316]]\n"
     ]
    },
    {
     "name": "stderr",
     "output_type": "stream",
     "text": [
      "\r",
      " 31%|███       | 307/990 [05:18<12:53,  1.13s/it]"
     ]
    },
    {
     "name": "stdout",
     "output_type": "stream",
     "text": [
      "[[None, 'NC', 'KSXB', 160.24536984614755], [None, 'NC', 'KBO', 195.69648583309305], [None, 'TA', 'L02D', 202.21752384721125], [None, 'TA', 'K02D', 257.35106280539395]]\n"
     ]
    },
    {
     "name": "stderr",
     "output_type": "stream",
     "text": [
      " 31%|███       | 309/990 [05:21<12:58,  1.14s/it]"
     ]
    },
    {
     "name": "stdout",
     "output_type": "stream",
     "text": [
      "[[None, 'NC', 'KSXB', 89.71940049716113], [None, 'NC', 'KBO', 116.91736063087502], [None, 'TA', 'L02D', 132.46179468684915], [None, 'TA', 'K02D', 182.3625764474147]]\n"
     ]
    },
    {
     "name": "stderr",
     "output_type": "stream",
     "text": [
      "\r",
      " 31%|███▏      | 310/990 [05:22<12:49,  1.13s/it]"
     ]
    },
    {
     "name": "stdout",
     "output_type": "stream",
     "text": [
      "[[None, 'NC', 'KSXB', 172.90624561348557], [None, 'TA', 'L02D', 198.95494506509303], [None, 'TA', 'K02D', 213.4194686977349], [None, 'TA', 'J01D', 224.6577860334477]]\n"
     ]
    },
    {
     "name": "stderr",
     "output_type": "stream",
     "text": [
      "\r",
      " 31%|███▏      | 311/990 [05:23<12:59,  1.15s/it]"
     ]
    },
    {
     "name": "stdout",
     "output_type": "stream",
     "text": [
      "[[None, 'NC', 'KEB', 46.55050452867557], [None, 'TA', 'J01D', 75.48394758452702], [None, 'TA', 'K02D', 104.4047406477728], [None, 'NC', 'KBO', 106.59063064499553], [None, 'UO', 'DBO', 130.54480889722927]]\n"
     ]
    },
    {
     "name": "stderr",
     "output_type": "stream",
     "text": [
      "\r",
      " 32%|███▏      | 312/990 [05:24<12:54,  1.14s/it]"
     ]
    },
    {
     "name": "stdout",
     "output_type": "stream",
     "text": [
      "[[None, 'NC', 'KSXB', 86.33289678824217], [None, 'TA', 'L02D', 120.95201087264721], [None, 'NC', 'KBO', 135.3093149073841], [None, 'UO', 'DBO', 230.28946126740252], [None, 'TA', 'J01D', 233.5125528401121]]\n"
     ]
    },
    {
     "name": "stderr",
     "output_type": "stream",
     "text": [
      "\r",
      " 32%|███▏      | 313/990 [05:25<12:19,  1.09s/it]"
     ]
    },
    {
     "name": "stdout",
     "output_type": "stream",
     "text": [
      "[[None, 'NC', 'KSXB', 111.09849304172394], [None, 'NC', 'KBO', 120.96979371469425], [None, 'TA', 'K02D', 191.2510802236509], [None, 'TA', 'J01D', 225.87962913973035]]\n"
     ]
    },
    {
     "name": "stderr",
     "output_type": "stream",
     "text": [
      "\r",
      " 32%|███▏      | 314/990 [05:26<11:08,  1.01it/s]"
     ]
    },
    {
     "name": "stdout",
     "output_type": "stream",
     "text": [
      "[[None, 'UO', 'DBO', 27.769170325587165], [None, 'TA', 'J01D', 68.59851902310031], [None, 'TA', 'K02D', 85.25443066528683]]\n"
     ]
    },
    {
     "name": "stderr",
     "output_type": "stream",
     "text": [
      "\r",
      " 32%|███▏      | 315/990 [05:27<11:46,  1.05s/it]"
     ]
    },
    {
     "name": "stdout",
     "output_type": "stream",
     "text": [
      "[[None, 'NC', 'KSXB', 142.5922548563624], [None, 'NC', 'KBO', 167.99787411471024], [None, 'TA', 'L02D', 185.40789957530706], [None, 'TA', 'K02D', 234.9743446870738]]\n"
     ]
    },
    {
     "name": "stderr",
     "output_type": "stream",
     "text": [
      "\r",
      " 32%|███▏      | 316/990 [05:28<10:29,  1.07it/s]"
     ]
    },
    {
     "name": "stdout",
     "output_type": "stream",
     "text": [
      "[[None, 'NC', 'KSXB', 204.276365962202], [None, 'NC', 'KBO', 222.27152134934], [None, 'TA', 'K02D', 291.9072899279764]]\n"
     ]
    },
    {
     "name": "stderr",
     "output_type": "stream",
     "text": [
      "\r",
      " 32%|███▏      | 317/990 [05:29<10:41,  1.05it/s]"
     ]
    },
    {
     "name": "stdout",
     "output_type": "stream",
     "text": [
      "[[None, 'NC', 'KSXB', 132.96308430794826], [None, 'TA', 'L02D', 170.23270982230594], [None, 'NC', 'KBO', 178.60658196630203], [None, 'TA', 'K02D', 229.4238174445232]]\n"
     ]
    },
    {
     "name": "stderr",
     "output_type": "stream",
     "text": [
      "\r",
      " 32%|███▏      | 318/990 [05:29<10:47,  1.04it/s]"
     ]
    },
    {
     "name": "stdout",
     "output_type": "stream",
     "text": [
      "[[None, 'NC', 'KSXB', 119.88427808042147], [None, 'TA', 'L02D', 158.00603647693427], [None, 'NC', 'KBO', 164.87058480314897], [None, 'TA', 'K02D', 216.82478563352385]]\n"
     ]
    },
    {
     "name": "stderr",
     "output_type": "stream",
     "text": [
      "\r",
      " 32%|███▏      | 319/990 [05:30<10:16,  1.09it/s]"
     ]
    },
    {
     "name": "stdout",
     "output_type": "stream",
     "text": [
      "[[None, 'NC', 'KSXB', 218.2339016689808], [None, 'TA', 'L02D', 260.7899510606265], [None, 'TA', 'K02D', 307.34335721094953], [None, 'UO', 'DBO', 365.35205960402493]]\n"
     ]
    },
    {
     "name": "stderr",
     "output_type": "stream",
     "text": [
      "\r",
      " 32%|███▏      | 320/990 [05:31<09:34,  1.17it/s]"
     ]
    },
    {
     "name": "stdout",
     "output_type": "stream",
     "text": [
      "[[None, 'UO', 'DBO', 26.434816706205893], [None, 'TA', 'J01D', 70.89336574264354], [None, 'TA', 'K02D', 84.51566181441275]]\n"
     ]
    },
    {
     "name": "stderr",
     "output_type": "stream",
     "text": [
      "\r",
      " 32%|███▏      | 321/990 [05:32<09:06,  1.22it/s]"
     ]
    },
    {
     "name": "stdout",
     "output_type": "stream",
     "text": [
      "[[None, 'NC', 'KSXB', 148.53226048990516], [None, 'TA', 'L02D', 191.35616617597475], [None, 'TA', 'K02D', 243.1471533937418]]\n"
     ]
    },
    {
     "name": "stderr",
     "output_type": "stream",
     "text": [
      "\r",
      " 33%|███▎      | 322/990 [05:33<09:40,  1.15it/s]"
     ]
    },
    {
     "name": "stdout",
     "output_type": "stream",
     "text": [
      "[[None, 'NC', 'KSXB', 151.37529019007144], [None, 'NC', 'KBO', 180.00711970658722], [None, 'TA', 'L02D', 194.22028714347593], [None, 'TA', 'K02D', 245.66859422919794]]\n"
     ]
    },
    {
     "name": "stderr",
     "output_type": "stream",
     "text": [
      "\r",
      " 33%|███▎      | 323/990 [05:34<11:24,  1.03s/it]"
     ]
    },
    {
     "name": "stdout",
     "output_type": "stream",
     "text": [
      "[[None, 'NC', 'KSXB', 170.9561817913571], [None, 'NC', 'KBO', 190.85047165798895], [None, 'TA', 'L02D', 213.38869844575348], [None, 'TA', 'K02D', 259.85571268011824], [None, 'TA', 'J01D', 297.3595391988397], [None, 'UO', 'DBO', 317.8219856710714]]\n"
     ]
    },
    {
     "name": "stderr",
     "output_type": "stream",
     "text": [
      "\r",
      " 33%|███▎      | 324/990 [05:35<11:19,  1.02s/it]"
     ]
    },
    {
     "name": "stdout",
     "output_type": "stream",
     "text": [
      "[[None, 'TA', 'J01D', 50.81163269782691], [None, 'NC', 'KEB', 63.320089700335295], [None, 'UO', 'DBO', 102.45547193947674], [None, 'TA', 'K02D', 103.34325881960666]]\n"
     ]
    },
    {
     "name": "stderr",
     "output_type": "stream",
     "text": [
      "\r",
      " 33%|███▎      | 325/990 [05:37<13:28,  1.22s/it]"
     ]
    },
    {
     "name": "stdout",
     "output_type": "stream",
     "text": [
      "[[None, 'NC', 'KBO', 46.589613947476735], [None, 'NC', 'KSXB', 88.26662882438951], [None, 'TA', 'L02D', 98.24941331086303], [None, 'TA', 'K02D', 105.12403844579774], [None, 'TA', 'J01D', 123.96244263214624], [None, 'UO', 'DBO', 159.5654922540451]]\n"
     ]
    },
    {
     "name": "stderr",
     "output_type": "stream",
     "text": [
      "\r",
      " 33%|███▎      | 326/990 [05:38<13:35,  1.23s/it]"
     ]
    },
    {
     "name": "stdout",
     "output_type": "stream",
     "text": [
      "[[None, 'NC', 'KEB', 246.82575393605293], [None, 'TA', 'J01D', 272.174612387452], [None, 'TA', 'K02D', 304.75729698805304], [None, 'UO', 'DBO', 328.03435864225395], [None, 'TA', 'L02D', 332.11110116592477]]\n"
     ]
    },
    {
     "name": "stderr",
     "output_type": "stream",
     "text": [
      "\r",
      " 33%|███▎      | 327/990 [05:39<14:06,  1.28s/it]"
     ]
    },
    {
     "name": "stdout",
     "output_type": "stream",
     "text": [
      "[[None, 'NC', 'KBO', 140.41760691928698], [None, 'NC', 'KSXB', 167.94548185569897], [None, 'TA', 'L02D', 190.46284515077392], [None, 'TA', 'K02D', 200.22656301260523], [None, 'TA', 'J01D', 208.21616985422386], [None, 'UO', 'DBO', 251.84824101995306]]\n"
     ]
    },
    {
     "name": "stderr",
     "output_type": "stream",
     "text": [
      "\r",
      " 33%|███▎      | 328/990 [05:41<14:35,  1.32s/it]"
     ]
    },
    {
     "name": "stdout",
     "output_type": "stream",
     "text": [
      "[[None, 'NC', 'KBO', 165.36764603060104], [None, 'NC', 'KEB', 182.62215183085928], [None, 'NC', 'KSXB', 193.56608200413228], [None, 'TA', 'K02D', 223.30959079638845], [None, 'TA', 'J01D', 227.64354770083756], [None, 'UO', 'DBO', 273.42833988528713]]\n"
     ]
    },
    {
     "name": "stderr",
     "output_type": "stream",
     "text": [
      " 33%|███▎      | 330/990 [05:43<12:26,  1.13s/it]"
     ]
    },
    {
     "name": "stdout",
     "output_type": "stream",
     "text": [
      "[[None, 'TA', 'J01D', 76.58936141156715], [None, 'TA', 'K02D', 91.71917342859543], [None, 'UO', 'DBO', 127.69208394123143]]\n"
     ]
    },
    {
     "name": "stderr",
     "output_type": "stream",
     "text": [
      " 34%|███▎      | 332/990 [05:45<11:21,  1.04s/it]"
     ]
    },
    {
     "name": "stdout",
     "output_type": "stream",
     "text": [
      "[[None, 'UO', 'DBO', 103.967963457893], [None, 'TA', 'K02D', 157.18484455448328], [None, 'TA', 'L02D', 214.10454320220612], [None, 'NC', 'KSXB', 254.56464901914498]]\n"
     ]
    },
    {
     "name": "stderr",
     "output_type": "stream",
     "text": [
      "\r",
      " 34%|███▎      | 333/990 [05:46<12:04,  1.10s/it]"
     ]
    },
    {
     "name": "stdout",
     "output_type": "stream",
     "text": [
      "[[None, 'NC', 'KSXB', 157.79325273896637], [None, 'NC', 'KBO', 195.0465506084878], [None, 'TA', 'L02D', 199.30463824829872], [None, 'TA', 'K02D', 255.29160930725655]]\n"
     ]
    },
    {
     "name": "stderr",
     "output_type": "stream",
     "text": [
      "\r",
      " 34%|███▎      | 334/990 [05:47<11:03,  1.01s/it]"
     ]
    },
    {
     "name": "stdout",
     "output_type": "stream",
     "text": [
      "[[None, 'NC', 'KBO', 52.50844728900862], [None, 'TA', 'K02D', 88.63549396482217], [None, 'TA', 'L02D', 99.87316824187238]]\n"
     ]
    },
    {
     "name": "stderr",
     "output_type": "stream",
     "text": [
      "\r",
      " 34%|███▍      | 335/990 [05:48<11:24,  1.05s/it]"
     ]
    },
    {
     "name": "stdout",
     "output_type": "stream",
     "text": [
      "[[None, 'NC', 'KSXB', 152.92327325099316], [None, 'TA', 'L02D', 191.69680281400667], [None, 'NC', 'KBO', 196.2189937425539], [None, 'TA', 'K02D', 250.25125392404627], [None, 'UO', 'DBO', 302.16176904887755]]\n"
     ]
    },
    {
     "name": "stderr",
     "output_type": "stream",
     "text": [
      "\r",
      " 34%|███▍      | 336/990 [05:49<11:52,  1.09s/it]"
     ]
    },
    {
     "name": "stdout",
     "output_type": "stream",
     "text": [
      "[[None, 'NC', 'KSXB', 137.9896812714812], [None, 'NC', 'KBO', 169.84783067249572], [None, 'TA', 'L02D', 180.66116831257366], [None, 'TA', 'K02D', 233.69816629663325], [None, 'UO', 'DBO', 289.97096982605655]]\n"
     ]
    },
    {
     "name": "stderr",
     "output_type": "stream",
     "text": [
      "\r",
      " 34%|███▍      | 337/990 [05:51<13:24,  1.23s/it]"
     ]
    },
    {
     "name": "stdout",
     "output_type": "stream",
     "text": [
      "[[None, 'NC', 'KSXB', 243.17705070130495], [None, 'TA', 'L02D', 280.2009196858702], [None, 'NC', 'KBO', 287.54976467381147], [None, 'TA', 'K02D', 339.6207408716257], [None, 'NC', 'KEB', 361.4563019089199], [None, 'UO', 'DBO', 389.47396511684536], [None, 'TA', 'J01D', 391.2391283116076]]\n"
     ]
    },
    {
     "name": "stderr",
     "output_type": "stream",
     "text": [
      "\r",
      " 34%|███▍      | 338/990 [05:52<14:18,  1.32s/it]"
     ]
    },
    {
     "name": "stdout",
     "output_type": "stream",
     "text": [
      "[[None, 'NC', 'KBO', 132.21469727633206], [None, 'NC', 'KSXB', 148.391211369107], [None, 'NC', 'KEB', 171.536871919232], [None, 'TA', 'L02D', 177.88407029572065], [None, 'TA', 'K02D', 199.11105574249464], [None, 'TA', 'J01D', 217.25885360346555], [None, 'UO', 'DBO', 254.57461543002555]]\n"
     ]
    },
    {
     "name": "stderr",
     "output_type": "stream",
     "text": [
      "\r",
      " 34%|███▍      | 339/990 [05:53<14:02,  1.29s/it]"
     ]
    },
    {
     "name": "stdout",
     "output_type": "stream",
     "text": [
      "[[None, 'NC', 'KBO', 153.47992835310205], [None, 'NC', 'KSXB', 175.21816482381513], [None, 'TA', 'L02D', 201.73360895568], [None, 'TA', 'K02D', 216.73594602971713], [None, 'TA', 'J01D', 228.23439226408857]]\n"
     ]
    },
    {
     "name": "stderr",
     "output_type": "stream",
     "text": [
      "\r",
      " 34%|███▍      | 340/990 [05:55<13:16,  1.23s/it]"
     ]
    },
    {
     "name": "stdout",
     "output_type": "stream",
     "text": [
      "[[None, 'NC', 'KSXB', 115.72502653478118], [None, 'NC', 'KBO', 145.6724096854991], [None, 'TA', 'L02D', 158.57570074866047], [None, 'TA', 'K02D', 210.31272193034158]]\n"
     ]
    },
    {
     "name": "stderr",
     "output_type": "stream",
     "text": [
      "\r",
      " 34%|███▍      | 341/990 [05:56<13:00,  1.20s/it]"
     ]
    },
    {
     "name": "stdout",
     "output_type": "stream",
     "text": [
      "[[None, 'NC', 'KSXB', 198.2867161746604], [None, 'NC', 'KBO', 210.71270580981812], [None, 'TA', 'L02D', 239.55735531345343], [None, 'TA', 'K02D', 281.18291528319816]]\n"
     ]
    },
    {
     "name": "stderr",
     "output_type": "stream",
     "text": [
      "\r",
      " 35%|███▍      | 342/990 [05:56<11:20,  1.05s/it]"
     ]
    },
    {
     "name": "stdout",
     "output_type": "stream",
     "text": [
      "[[None, 'NC', 'KSXB', 95.01977733120441], [None, 'NC', 'KBO', 111.81778579229747], [None, 'TA', 'K02D', 180.6745350000477]]\n"
     ]
    },
    {
     "name": "stderr",
     "output_type": "stream",
     "text": [
      "\r",
      " 35%|███▍      | 343/990 [05:58<12:32,  1.16s/it]"
     ]
    },
    {
     "name": "stdout",
     "output_type": "stream",
     "text": [
      "[[None, 'NC', 'KBO', 11.368166967982413], [None, 'NC', 'KSXB', 53.45991980242839], [None, 'TA', 'L02D', 61.216168090624855], [None, 'NC', 'KEB', 79.02045247391197], [None, 'TA', 'K02D', 81.50094211472695], [None, 'TA', 'J01D', 116.21949415189621]]\n"
     ]
    },
    {
     "name": "stderr",
     "output_type": "stream",
     "text": [
      "\r",
      " 35%|███▍      | 344/990 [05:59<13:33,  1.26s/it]"
     ]
    },
    {
     "name": "stdout",
     "output_type": "stream",
     "text": [
      "[[None, 'NC', 'KEB', 289.3102770600611], [None, 'TA', 'J01D', 311.8959157906242], [None, 'NC', 'KBO', 329.22686165262417], [None, 'TA', 'K02D', 347.32273487911897], [None, 'UO', 'DBO', 367.3954645063971], [None, 'NC', 'KSXB', 376.61502532353234], [None, 'TA', 'L02D', 376.7317427369705]]\n"
     ]
    },
    {
     "name": "stderr",
     "output_type": "stream",
     "text": [
      "\r",
      " 35%|███▍      | 345/990 [06:00<12:36,  1.17s/it]"
     ]
    },
    {
     "name": "stdout",
     "output_type": "stream",
     "text": [
      "[[None, 'NC', 'KSXB', 141.2548600529517], [None, 'NC', 'KBO', 175.74822356672456], [None, 'TA', 'L02D', 183.54401866072905], [None, 'TA', 'K02D', 237.977422798304]]\n"
     ]
    },
    {
     "name": "stderr",
     "output_type": "stream",
     "text": [
      "\r",
      " 35%|███▍      | 346/990 [06:02<13:37,  1.27s/it]"
     ]
    },
    {
     "name": "stdout",
     "output_type": "stream",
     "text": [
      "[[None, 'NC', 'KSXB', 160.24536984614755], [None, 'NC', 'KBO', 195.69648583309305], [None, 'TA', 'L02D', 202.21752384721125], [None, 'TA', 'K02D', 257.35106280539395], [None, 'TA', 'J01D', 303.4978784216139], [None, 'UO', 'DBO', 312.5883464960483]]\n"
     ]
    },
    {
     "name": "stderr",
     "output_type": "stream",
     "text": [
      "\r",
      " 35%|███▌      | 347/990 [06:03<12:25,  1.16s/it]"
     ]
    },
    {
     "name": "stdout",
     "output_type": "stream",
     "text": [
      "[[None, 'NC', 'KSXB', 147.26749546534836], [None, 'NC', 'KBO', 176.44397567781527], [None, 'TA', 'L02D', 190.09864382933793], [None, 'TA', 'K02D', 241.80556659621942]]\n"
     ]
    },
    {
     "name": "stderr",
     "output_type": "stream",
     "text": [
      "\r",
      " 35%|███▌      | 348/990 [06:04<11:40,  1.09s/it]"
     ]
    },
    {
     "name": "stdout",
     "output_type": "stream",
     "text": [
      "[[None, 'NC', 'KSXB', 61.60322583787794], [None, 'TA', 'L02D', 91.19533743625391], [None, 'NC', 'KBO', 112.76854918914205], [None, 'TA', 'K02D', 151.19454494309417]]\n"
     ]
    },
    {
     "name": "stderr",
     "output_type": "stream",
     "text": [
      "\r",
      " 35%|███▌      | 349/990 [06:05<11:15,  1.05s/it]"
     ]
    },
    {
     "name": "stdout",
     "output_type": "stream",
     "text": [
      "[[None, 'NC', 'KSXB', 149.41629766768483], [None, 'NC', 'KBO', 177.50209024164826], [None, 'TA', 'L02D', 192.2754108993262], [None, 'TA', 'K02D', 243.40354466622074]]\n"
     ]
    },
    {
     "name": "stderr",
     "output_type": "stream",
     "text": [
      "\r",
      " 35%|███▌      | 350/990 [06:06<12:06,  1.13s/it]"
     ]
    },
    {
     "name": "stdout",
     "output_type": "stream",
     "text": [
      "[[None, 'NC', 'KSXB', 239.02081804633133], [None, 'NC', 'KBO', 261.4385052122298], [None, 'TA', 'K02D', 330.06458946956866], [None, 'TA', 'J01D', 368.0341701860155], [None, 'UO', 'DBO', 387.8565313472374]]\n"
     ]
    },
    {
     "name": "stderr",
     "output_type": "stream",
     "text": [
      "\r",
      " 35%|███▌      | 351/990 [06:07<11:43,  1.10s/it]"
     ]
    },
    {
     "name": "stdout",
     "output_type": "stream",
     "text": [
      "[[None, 'TA', 'J01D', 169.29037845051357], [None, 'TA', 'K02D', 209.24982466650474], [None, 'UO', 'DBO', 224.36627804234956], [None, 'TA', 'L02D', 247.38913463007648]]\n"
     ]
    },
    {
     "name": "stderr",
     "output_type": "stream",
     "text": [
      "\r",
      " 36%|███▌      | 352/990 [06:08<11:23,  1.07s/it]"
     ]
    },
    {
     "name": "stdout",
     "output_type": "stream",
     "text": [
      "[[None, 'TA', 'J01D', 25.771375454091366], [None, 'TA', 'K02D', 73.54082684715797], [None, 'UO', 'DBO', 81.61698527793986], [None, 'NC', 'KBO', 110.221736770201]]\n"
     ]
    },
    {
     "name": "stderr",
     "output_type": "stream",
     "text": [
      "\r",
      " 36%|███▌      | 353/990 [06:09<12:28,  1.18s/it]"
     ]
    },
    {
     "name": "stdout",
     "output_type": "stream",
     "text": [
      "[[None, 'NC', 'KSXB', 145.91902542295128], [None, 'NC', 'KBO', 156.4841118475446], [None, 'TA', 'L02D', 186.34844712963067], [None, 'NC', 'KEB', 217.5520066013576], [None, 'TA', 'K02D', 226.94199383525984], [None, 'TA', 'J01D', 260.1589254119295]]\n"
     ]
    },
    {
     "name": "stderr",
     "output_type": "stream",
     "text": [
      "\r",
      " 36%|███▌      | 354/990 [06:10<11:46,  1.11s/it]"
     ]
    },
    {
     "name": "stdout",
     "output_type": "stream",
     "text": [
      "[[None, 'NC', 'KBO', 49.115126957963575], [None, 'NC', 'KSXB', 50.52422815688368], [None, 'TA', 'L02D', 82.3353906054433], [None, 'TA', 'K02D', 118.93050918325686]]\n"
     ]
    },
    {
     "name": "stderr",
     "output_type": "stream",
     "text": [
      "\r",
      " 36%|███▌      | 355/990 [06:11<11:09,  1.05s/it]"
     ]
    },
    {
     "name": "stdout",
     "output_type": "stream",
     "text": [
      "[[None, 'NC', 'KBO', 56.516615240856936], [None, 'NC', 'KSXB', 60.71177756504588], [None, 'TA', 'L02D', 92.52860400502438], [None, 'TA', 'K02D', 127.04374930510528]]\n"
     ]
    },
    {
     "name": "stderr",
     "output_type": "stream",
     "text": [
      "\r",
      " 36%|███▌      | 356/990 [06:12<10:13,  1.03it/s]"
     ]
    },
    {
     "name": "stdout",
     "output_type": "stream",
     "text": [
      "[[None, 'TA', 'J01D', 30.16932079630844], [None, 'TA', 'K02D', 76.526951599816], [None, 'UO', 'DBO', 86.0480878741275]]\n"
     ]
    },
    {
     "name": "stderr",
     "output_type": "stream",
     "text": [
      "\r",
      " 36%|███▌      | 357/990 [06:13<09:38,  1.09it/s]"
     ]
    },
    {
     "name": "stdout",
     "output_type": "stream",
     "text": [
      "[[None, 'TA', 'J01D', 30.16932079630844], [None, 'TA', 'K02D', 76.526951599816], [None, 'UO', 'DBO', 86.0480878741275]]\n"
     ]
    },
    {
     "name": "stderr",
     "output_type": "stream",
     "text": [
      " 36%|███▋      | 359/990 [06:15<12:07,  1.15s/it]"
     ]
    },
    {
     "name": "stdout",
     "output_type": "stream",
     "text": [
      "[[None, 'NC', 'KBO', 120.79441714862406], [None, 'NC', 'KSXB', 133.60036768640268], [None, 'TA', 'L02D', 164.64228756490425], [None, 'NC', 'KEB', 165.7524061184655], [None, 'TA', 'K02D', 189.26769962059493], [None, 'TA', 'J01D', 211.01402263544276], [None, 'UO', 'DBO', 245.69078040141736]]\n"
     ]
    },
    {
     "name": "stderr",
     "output_type": "stream",
     "text": [
      "\r",
      " 36%|███▋      | 360/990 [06:17<12:20,  1.18s/it]"
     ]
    },
    {
     "name": "stdout",
     "output_type": "stream",
     "text": [
      "[[None, 'NC', 'KBO', 141.92668290307307], [None, 'NC', 'KSXB', 162.98800946653768], [None, 'TA', 'L02D', 189.80165661077916], [None, 'TA', 'K02D', 206.05796238206509], [None, 'TA', 'J01D', 219.39000363209198]]\n"
     ]
    },
    {
     "name": "stderr",
     "output_type": "stream",
     "text": [
      "\r",
      " 36%|███▋      | 361/990 [06:18<11:47,  1.12s/it]"
     ]
    },
    {
     "name": "stdout",
     "output_type": "stream",
     "text": [
      "[[None, 'NC', 'KSXB', 49.24360940034041], [None, 'NC', 'KBO', 83.13708196122603], [None, 'TA', 'L02D', 92.08330147787109], [None, 'TA', 'K02D', 144.07595901968386]]\n"
     ]
    },
    {
     "name": "stderr",
     "output_type": "stream",
     "text": [
      "\r",
      " 37%|███▋      | 362/990 [06:18<11:16,  1.08s/it]"
     ]
    },
    {
     "name": "stdout",
     "output_type": "stream",
     "text": [
      "[[None, 'TA', 'K02D', 149.90472480305093], [None, 'TA', 'J01D', 181.35540661757543], [None, 'NC', 'KSXB', 189.14821506348716], [None, 'NC', 'KBO', 201.15196468255408]]\n"
     ]
    },
    {
     "name": "stderr",
     "output_type": "stream",
     "text": [
      " 37%|███▋      | 364/990 [06:20<09:31,  1.09it/s]"
     ]
    },
    {
     "name": "stdout",
     "output_type": "stream",
     "text": [
      "[[None, 'NC', 'KBO', 38.74069177261182], [None, 'NC', 'KSXB', 80.87419934439897], [None, 'TA', 'K02D', 99.17938314091593]]\n"
     ]
    },
    {
     "name": "stderr",
     "output_type": "stream",
     "text": [
      "\r",
      " 37%|███▋      | 365/990 [06:21<09:43,  1.07it/s]"
     ]
    },
    {
     "name": "stdout",
     "output_type": "stream",
     "text": [
      "[[None, 'NC', 'KSXB', 146.7259725185052], [None, 'NC', 'KBO', 183.60459695675175], [None, 'TA', 'L02D', 188.4347834811022], [None, 'TA', 'K02D', 244.11440374718913]]\n"
     ]
    },
    {
     "name": "stderr",
     "output_type": "stream",
     "text": [
      "\r",
      " 37%|███▋      | 366/990 [06:23<12:52,  1.24s/it]"
     ]
    },
    {
     "name": "stdout",
     "output_type": "stream",
     "text": [
      "[[None, 'NC', 'KSXB', 156.9940028359954], [None, 'NC', 'KBO', 194.9070876450281], [None, 'TA', 'L02D', 198.3043082619243], [None, 'TA', 'K02D', 254.5952506601949], [None, 'TA', 'J01D', 302.08465911498166], [None, 'UO', 'DBO', 309.01207474931624]]\n"
     ]
    },
    {
     "name": "stderr",
     "output_type": "stream",
     "text": [
      "\r",
      " 37%|███▋      | 367/990 [06:25<14:51,  1.43s/it]"
     ]
    },
    {
     "name": "stdout",
     "output_type": "stream",
     "text": [
      "[[None, 'NC', 'KSXB', 181.4738733887434], [None, 'NC', 'KBO', 199.58435305804795], [None, 'TA', 'L02D', 223.70798741182378], [None, 'NC', 'KEB', 263.649034142775], [None, 'TA', 'K02D', 269.08306498622414], [None, 'TA', 'J01D', 305.35219143823], [None, 'UO', 'DBO', 327.17098233062495]]\n"
     ]
    },
    {
     "name": "stderr",
     "output_type": "stream",
     "text": [
      "\r",
      " 37%|███▋      | 368/990 [06:26<14:01,  1.35s/it]"
     ]
    },
    {
     "name": "stdout",
     "output_type": "stream",
     "text": [
      "[[None, 'NC', 'KSXB', 202.88252321353173], [None, 'NC', 'KBO', 222.27579708974588], [None, 'TA', 'L02D', 245.3539304624707], [None, 'TA', 'K02D', 291.58741162308456], [None, 'UO', 'DBO', 349.6162499568714]]\n"
     ]
    },
    {
     "name": "stderr",
     "output_type": "stream",
     "text": [
      "\r",
      " 37%|███▋      | 369/990 [06:27<13:17,  1.28s/it]"
     ]
    },
    {
     "name": "stdout",
     "output_type": "stream",
     "text": [
      "[[None, 'NC', 'KSXB', 172.7600046900594], [None, 'NC', 'KBO', 191.46952267639924], [None, 'TA', 'L02D', 215.04409764034457], [None, 'TA', 'K02D', 260.7800656859728], [None, 'UO', 'DBO', 318.8262654159517]]\n"
     ]
    },
    {
     "name": "stderr",
     "output_type": "stream",
     "text": [
      "\r",
      " 37%|███▋      | 370/990 [06:28<12:16,  1.19s/it]"
     ]
    },
    {
     "name": "stdout",
     "output_type": "stream",
     "text": [
      "[[None, 'TA', 'J01D', 49.09183150726813], [None, 'NC', 'KEB', 52.93568056060793], [None, 'TA', 'K02D', 97.64166689997867], [None, 'UO', 'DBO', 103.64729070149919]]\n"
     ]
    },
    {
     "name": "stderr",
     "output_type": "stream",
     "text": [
      "\r",
      " 37%|███▋      | 371/990 [06:29<11:29,  1.11s/it]"
     ]
    },
    {
     "name": "stdout",
     "output_type": "stream",
     "text": [
      "[[None, 'NC', 'KBO', 39.93540911848159], [None, 'NC', 'KSXB', 79.62255860219389], [None, 'TA', 'L02D', 91.27980373751835], [None, 'TA', 'K02D', 102.46630873668953]]\n"
     ]
    },
    {
     "name": "stderr",
     "output_type": "stream",
     "text": [
      "\r",
      " 38%|███▊      | 372/990 [06:30<11:16,  1.10s/it]"
     ]
    },
    {
     "name": "stdout",
     "output_type": "stream",
     "text": [
      "[[None, 'NC', 'KSXB', 159.50847974866664], [None, 'NC', 'KBO', 183.73544436271325], [None, 'TA', 'L02D', 202.29610486244735], [None, 'TA', 'K02D', 251.3092408239327]]\n"
     ]
    },
    {
     "name": "stderr",
     "output_type": "stream",
     "text": [
      "\r",
      " 38%|███▊      | 373/990 [06:31<12:06,  1.18s/it]"
     ]
    },
    {
     "name": "stdout",
     "output_type": "stream",
     "text": [
      "[[None, 'NC', 'KSXB', 175.93739956131463], [None, 'NC', 'KBO', 203.15354206240457], [None, 'TA', 'L02D', 218.797307302254], [None, 'TA', 'K02D', 269.6508065692394], [None, 'TA', 'J01D', 311.16960656492785], [None, 'UO', 'DBO', 326.76816193429335]]\n"
     ]
    },
    {
     "name": "stderr",
     "output_type": "stream",
     "text": [
      "\r",
      " 38%|███▊      | 374/990 [06:32<10:54,  1.06s/it]"
     ]
    },
    {
     "name": "stdout",
     "output_type": "stream",
     "text": [
      "[[None, 'TA', 'J01D', 31.27111721340536], [None, 'TA', 'K02D', 77.29549428195088], [None, 'UO', 'DBO', 87.1561722152268]]\n"
     ]
    },
    {
     "name": "stderr",
     "output_type": "stream",
     "text": [
      "\r",
      " 38%|███▊      | 375/990 [06:33<10:26,  1.02s/it]"
     ]
    },
    {
     "name": "stdout",
     "output_type": "stream",
     "text": [
      "[[None, 'TA', 'J01D', 33.32507453605276], [None, 'TA', 'K02D', 77.85425310784737], [None, 'UO', 'DBO', 89.26024104874544], [None, 'NC', 'KSXB', 156.0592566248967]]\n"
     ]
    },
    {
     "name": "stderr",
     "output_type": "stream",
     "text": [
      "\r",
      " 38%|███▊      | 376/990 [06:35<12:30,  1.22s/it]"
     ]
    },
    {
     "name": "stdout",
     "output_type": "stream",
     "text": [
      "[[None, 'NC', 'KSXB', 140.97703396767068], [None, 'NC', 'KBO', 164.94591816117057], [None, 'TA', 'L02D', 183.70477158440275], [None, 'TA', 'K02D', 232.4409242178379], [None, 'TA', 'J01D', 272.71270265262297]]\n"
     ]
    },
    {
     "name": "stderr",
     "output_type": "stream",
     "text": [
      "\r",
      " 38%|███▊      | 377/990 [06:36<12:08,  1.19s/it]"
     ]
    },
    {
     "name": "stdout",
     "output_type": "stream",
     "text": [
      "[[None, 'NC', 'KSXB', 145.67353748629466], [None, 'NC', 'KBO', 180.139930261123], [None, 'TA', 'L02D', 187.94054719627164], [None, 'TA', 'K02D', 242.41492351222183]]\n"
     ]
    },
    {
     "name": "stderr",
     "output_type": "stream",
     "text": [
      "\r",
      " 38%|███▊      | 378/990 [06:37<10:53,  1.07s/it]"
     ]
    },
    {
     "name": "stdout",
     "output_type": "stream",
     "text": [
      "[[None, 'NC', 'KBO', 43.18877717513519], [None, 'NC', 'KSXB', 84.66491221580408], [None, 'TA', 'L02D', 94.81389030266347], [None, 'TA', 'K02D', 102.96378536551099]]\n"
     ]
    },
    {
     "name": "stderr",
     "output_type": "stream",
     "text": [
      "\r",
      " 38%|███▊      | 379/990 [06:38<10:28,  1.03s/it]"
     ]
    },
    {
     "name": "stdout",
     "output_type": "stream",
     "text": [
      "[[None, 'NC', 'KSXB', 134.5666510277094], [None, 'NC', 'KBO', 157.8137358057332], [None, 'TA', 'L02D', 177.21322084169165], [None, 'TA', 'K02D', 225.48955720395915]]\n"
     ]
    },
    {
     "name": "stderr",
     "output_type": "stream",
     "text": [
      " 38%|███▊      | 381/990 [06:40<10:23,  1.02s/it]"
     ]
    },
    {
     "name": "stdout",
     "output_type": "stream",
     "text": [
      "[[None, 'TA', 'J01D', 51.502749388568645], [None, 'UO', 'DBO', 77.43474098347876], [None, 'NC', 'KEB', 90.59672248163754], [None, 'TA', 'K02D', 105.04936568727028]]\n"
     ]
    },
    {
     "name": "stderr",
     "output_type": "stream",
     "text": [
      "\r",
      " 39%|███▊      | 382/990 [06:41<11:28,  1.13s/it]"
     ]
    },
    {
     "name": "stdout",
     "output_type": "stream",
     "text": [
      "[[None, 'NC', 'KSXB', 145.10315583802563], [None, 'NC', 'KBO', 178.97700822449062], [None, 'TA', 'L02D', 187.4770676278351], [None, 'TA', 'K02D', 241.64356290210335], [None, 'TA', 'J01D', 286.9767501035805], [None, 'UO', 'DBO', 297.4059268038439]]\n"
     ]
    },
    {
     "name": "stderr",
     "output_type": "stream",
     "text": [
      "\r",
      " 39%|███▊      | 383/990 [06:42<11:39,  1.15s/it]"
     ]
    },
    {
     "name": "stdout",
     "output_type": "stream",
     "text": [
      "[[None, 'NC', 'KSXB', 135.708021521779], [None, 'NC', 'KBO', 159.16637961251985], [None, 'TA', 'L02D', 178.3776453126938], [None, 'TA', 'K02D', 226.7829670684539], [None, 'UO', 'DBO', 284.39022182546046]]\n"
     ]
    },
    {
     "name": "stderr",
     "output_type": "stream",
     "text": [
      "\r",
      " 39%|███▉      | 384/990 [06:43<10:58,  1.09s/it]"
     ]
    },
    {
     "name": "stdout",
     "output_type": "stream",
     "text": [
      "[[None, 'NC', 'KSXB', 179.52084611240312], [None, 'NC', 'KBO', 196.08783745011098], [None, 'TA', 'L02D', 221.50392103039655], [None, 'TA', 'K02D', 265.89074647375253]]\n"
     ]
    },
    {
     "name": "stderr",
     "output_type": "stream",
     "text": [
      "\r",
      " 39%|███▉      | 385/990 [06:44<09:34,  1.05it/s]"
     ]
    },
    {
     "name": "stdout",
     "output_type": "stream",
     "text": [
      "[[None, 'NC', 'KSXB', 172.7600046900594], [None, 'NC', 'KBO', 191.46952267639924], [None, 'TA', 'K02D', 260.7800656859728]]\n"
     ]
    },
    {
     "name": "stderr",
     "output_type": "stream",
     "text": [
      "\r",
      " 39%|███▉      | 386/990 [06:45<10:40,  1.06s/it]"
     ]
    },
    {
     "name": "stdout",
     "output_type": "stream",
     "text": [
      "[[None, 'NC', 'KSXB', 37.32049534684584], [None, 'NC', 'KBO', 71.97748392999796], [None, 'TA', 'L02D', 80.05026375664477], [None, 'TA', 'K02D', 131.82073159605557]]\n"
     ]
    },
    {
     "name": "stderr",
     "output_type": "stream",
     "text": [
      "\r",
      " 39%|███▉      | 387/990 [06:47<11:51,  1.18s/it]"
     ]
    },
    {
     "name": "stdout",
     "output_type": "stream",
     "text": [
      "[[None, 'TA', 'L02D', 50.50204351000726], [None, 'TA', 'K02D', 54.66842179332735], [None, 'UO', 'DBO', 77.86356602710251], [None, 'NC', 'KSXB', 91.70488755954798], [None, 'NC', 'KBO', 94.98226655857614], [None, 'NC', 'KEB', 111.95059009564082]]\n"
     ]
    },
    {
     "name": "stderr",
     "output_type": "stream",
     "text": [
      "\r",
      " 39%|███▉      | 388/990 [06:48<11:10,  1.11s/it]"
     ]
    },
    {
     "name": "stdout",
     "output_type": "stream",
     "text": [
      "[[None, 'NC', 'KBO', 45.47902745631606], [None, 'NC', 'KSXB', 87.30966025727905], [None, 'TA', 'L02D', 97.14041466433696], [None, 'TA', 'K02D', 104.15696069374607]]\n"
     ]
    },
    {
     "name": "stderr",
     "output_type": "stream",
     "text": [
      "\r",
      " 39%|███▉      | 389/990 [06:49<10:46,  1.08s/it]"
     ]
    },
    {
     "name": "stdout",
     "output_type": "stream",
     "text": [
      "[[None, 'NC', 'KBO', 43.25817932714223], [None, 'NC', 'KSXB', 85.40704508399713], [None, 'TA', 'L02D', 94.92267962967982], [None, 'TA', 'K02D', 102.23169530445378]]\n"
     ]
    },
    {
     "name": "stderr",
     "output_type": "stream",
     "text": [
      "\r",
      " 39%|███▉      | 390/990 [06:50<10:28,  1.05s/it]"
     ]
    },
    {
     "name": "stdout",
     "output_type": "stream",
     "text": [
      "[[None, 'NC', 'KBO', 39.92785300247685], [None, 'NC', 'KSXB', 82.58337901865193], [None, 'TA', 'L02D', 91.59677985628043], [None, 'TA', 'K02D', 99.36731190480414]]\n"
     ]
    },
    {
     "name": "stderr",
     "output_type": "stream",
     "text": [
      "\r",
      " 39%|███▉      | 391/990 [06:51<11:04,  1.11s/it]"
     ]
    },
    {
     "name": "stdout",
     "output_type": "stream",
     "text": [
      "[[None, 'NC', 'KBO', 45.413016312276035], [None, 'NC', 'KSXB', 86.58383241218726], [None, 'TA', 'L02D', 97.03411078764152], [None, 'TA', 'K02D', 104.87561523088834], [None, 'TA', 'J01D', 124.54762422648868]]\n"
     ]
    },
    {
     "name": "stderr",
     "output_type": "stream",
     "text": [
      "\r",
      " 40%|███▉      | 392/990 [06:52<11:54,  1.20s/it]"
     ]
    },
    {
     "name": "stdout",
     "output_type": "stream",
     "text": [
      "[[None, 'NC', 'KSXB', 138.1828299202415], [None, 'NC', 'KBO', 172.78360146883907], [None, 'TA', 'L02D', 180.4719703460842], [None, 'TA', 'K02D', 234.919977423086], [None, 'TA', 'J01D', 280.6504111680084], [None, 'UO', 'DBO', 290.5211424980242]]\n"
     ]
    },
    {
     "name": "stderr",
     "output_type": "stream",
     "text": [
      "\r",
      " 40%|███▉      | 393/990 [06:54<12:28,  1.25s/it]"
     ]
    },
    {
     "name": "stdout",
     "output_type": "stream",
     "text": [
      "[[None, 'NC', 'KBO', 42.07670299677001], [None, 'NC', 'KEB', 78.71787454932674], [None, 'NC', 'KSXB', 83.7111420210081], [None, 'TA', 'L02D', 93.70387339331754], [None, 'TA', 'K02D', 102.01264054800701], [None, 'UO', 'DBO', 157.03108556775123]]\n"
     ]
    },
    {
     "name": "stderr",
     "output_type": "stream",
     "text": [
      "\r",
      " 40%|███▉      | 394/990 [06:55<11:41,  1.18s/it]"
     ]
    },
    {
     "name": "stdout",
     "output_type": "stream",
     "text": [
      "[[None, 'NC', 'KBO', 47.70029876332689], [None, 'NC', 'KSXB', 89.22720968478771], [None, 'TA', 'L02D', 99.35849551051265], [None, 'TA', 'K02D', 106.09397164120817]]\n"
     ]
    },
    {
     "name": "stderr",
     "output_type": "stream",
     "text": [
      "\r",
      " 40%|███▉      | 395/990 [06:57<14:03,  1.42s/it]"
     ]
    },
    {
     "name": "stdout",
     "output_type": "stream",
     "text": [
      "[[None, 'NC', 'KBO', 44.279435903353395], [None, 'NC', 'KEB', 80.94623642345954], [None, 'NC', 'KSXB', 84.90641131928729], [None, 'TA', 'L02D', 95.83770689459169], [None, 'TA', 'K02D', 104.65802161305348], [None, 'TA', 'J01D', 125.15634107004713], [None, 'UO', 'DBO', 159.6561057933603]]\n"
     ]
    },
    {
     "name": "stderr",
     "output_type": "stream",
     "text": [
      "\r",
      " 40%|████      | 396/990 [06:58<13:06,  1.32s/it]"
     ]
    },
    {
     "name": "stdout",
     "output_type": "stream",
     "text": [
      "[[None, 'NC', 'KBO', 38.74069177261182], [None, 'NC', 'KEB', 77.41537634320484], [None, 'NC', 'KSXB', 80.87419934439897], [None, 'TA', 'L02D', 90.37422308874518], [None, 'TA', 'K02D', 99.17938314091593]]\n"
     ]
    },
    {
     "name": "stderr",
     "output_type": "stream",
     "text": [
      "\r",
      " 40%|████      | 397/990 [06:58<11:25,  1.16s/it]"
     ]
    },
    {
     "name": "stdout",
     "output_type": "stream",
     "text": [
      "[[None, 'NC', 'KSXB', 88.5991914803028], [None, 'TA', 'L02D', 130.5588268432014], [None, 'TA', 'K02D', 177.28788385698215]]\n"
     ]
    },
    {
     "name": "stderr",
     "output_type": "stream",
     "text": [
      " 40%|████      | 399/990 [07:00<10:27,  1.06s/it]"
     ]
    },
    {
     "name": "stdout",
     "output_type": "stream",
     "text": [
      "[[None, 'NC', 'KSXB', 143.28837449342973], [None, 'NC', 'KBO', 174.64908446667022], [None, 'TA', 'L02D', 185.98839848050787], [None, 'TA', 'K02D', 238.82644963780567]]\n"
     ]
    },
    {
     "name": "stderr",
     "output_type": "stream",
     "text": [
      "\r",
      " 40%|████      | 400/990 [07:01<10:17,  1.05s/it]"
     ]
    },
    {
     "name": "stdout",
     "output_type": "stream",
     "text": [
      "[[None, 'NC', 'KSXB', 162.02682200619734], [None, 'NC', 'KBO', 175.1638794347817], [None, 'TA', 'L02D', 203.22932615045673], [None, 'TA', 'K02D', 245.41744686562708]]\n"
     ]
    },
    {
     "name": "stderr",
     "output_type": "stream",
     "text": [
      "\r",
      " 41%|████      | 401/990 [07:02<10:04,  1.03s/it]"
     ]
    },
    {
     "name": "stdout",
     "output_type": "stream",
     "text": [
      "[[None, 'NC', 'KBO', 43.25817932714223], [None, 'NC', 'KSXB', 85.40704508399713], [None, 'TA', 'L02D', 94.92267962967982], [None, 'TA', 'K02D', 102.23169530445378]]\n"
     ]
    },
    {
     "name": "stderr",
     "output_type": "stream",
     "text": [
      "\r",
      " 41%|████      | 402/990 [07:04<11:52,  1.21s/it]"
     ]
    },
    {
     "name": "stdout",
     "output_type": "stream",
     "text": [
      "[[None, 'NC', 'KBO', 132.61940426295615], [None, 'NC', 'KSXB', 152.02524062621978], [None, 'TA', 'L02D', 179.70988358088223], [None, 'TA', 'K02D', 198.029168103447], [None, 'TA', 'J01D', 213.74512266417685], [None, 'UO', 'DBO', 252.68737443017983]]\n"
     ]
    },
    {
     "name": "stderr",
     "output_type": "stream",
     "text": [
      "\r",
      " 41%|████      | 403/990 [07:05<10:56,  1.12s/it]"
     ]
    },
    {
     "name": "stdout",
     "output_type": "stream",
     "text": [
      "[[None, 'NC', 'KSXB', 151.18907605573872], [None, 'NC', 'KBO', 182.2993985337741], [None, 'TA', 'L02D', 193.88715019713402], [None, 'TA', 'K02D', 246.67888597755982]]\n"
     ]
    },
    {
     "name": "stderr",
     "output_type": "stream",
     "text": [
      "\r",
      " 41%|████      | 404/990 [07:06<10:51,  1.11s/it]"
     ]
    },
    {
     "name": "stdout",
     "output_type": "stream",
     "text": [
      "[[None, 'NC', 'KBO', 41.037822173640514], [None, 'NC', 'KSXB', 83.52038443982082], [None, 'TA', 'L02D', 92.70531497333042], [None, 'TA', 'K02D', 100.31885146951797]]\n"
     ]
    },
    {
     "name": "stderr",
     "output_type": "stream",
     "text": [
      "\r",
      " 41%|████      | 405/990 [07:07<10:15,  1.05s/it]"
     ]
    },
    {
     "name": "stdout",
     "output_type": "stream",
     "text": [
      "[[None, 'NC', 'KBO', 37.603528822521135], [None, 'NC', 'KSXB', 79.16965401759957], [None, 'TA', 'L02D', 89.17177946749013], [None, 'TA', 'K02D', 99.02430478899569]]\n"
     ]
    },
    {
     "name": "stderr",
     "output_type": "stream",
     "text": [
      "\r",
      " 41%|████      | 406/990 [07:08<11:00,  1.13s/it]"
     ]
    },
    {
     "name": "stdout",
     "output_type": "stream",
     "text": [
      "[[None, 'NC', 'KBO', 43.18877717513519], [None, 'NC', 'KSXB', 84.66491221580408], [None, 'TA', 'L02D', 94.81389030266347], [None, 'TA', 'K02D', 102.96378536551099], [None, 'TA', 'J01D', 123.35217529698318]]\n"
     ]
    },
    {
     "name": "stderr",
     "output_type": "stream",
     "text": [
      "\r",
      " 41%|████      | 407/990 [07:09<11:05,  1.14s/it]"
     ]
    },
    {
     "name": "stdout",
     "output_type": "stream",
     "text": [
      "[[None, 'NC', 'KSXB', 152.14198710301324], [None, 'NC', 'KBO', 182.73101434257015], [None, 'TA', 'L02D', 194.8812248166748], [None, 'TA', 'K02D', 247.40342344127203], [None, 'UO', 'DBO', 303.914275548975]]\n"
     ]
    },
    {
     "name": "stderr",
     "output_type": "stream",
     "text": [
      "\r",
      " 41%|████      | 408/990 [07:11<11:18,  1.17s/it]"
     ]
    },
    {
     "name": "stdout",
     "output_type": "stream",
     "text": [
      "[[None, 'NC', 'KBO', 111.85175776584067], [None, 'NC', 'KSXB', 132.8082440113154], [None, 'TA', 'L02D', 159.2511271371082], [None, 'TA', 'K02D', 177.47773518703502], [None, 'TA', 'J01D', 194.7964941894832]]\n"
     ]
    },
    {
     "name": "stderr",
     "output_type": "stream",
     "text": [
      "\r",
      " 41%|████▏     | 409/990 [07:12<10:14,  1.06s/it]"
     ]
    },
    {
     "name": "stdout",
     "output_type": "stream",
     "text": [
      "[[None, 'TA', 'J01D', 47.38783517419112], [None, 'UO', 'DBO', 78.61646774277385], [None, 'TA', 'K02D', 102.1769951299082]]\n"
     ]
    },
    {
     "name": "stderr",
     "output_type": "stream",
     "text": [
      "\r",
      " 41%|████▏     | 410/990 [07:12<09:31,  1.02it/s]"
     ]
    },
    {
     "name": "stdout",
     "output_type": "stream",
     "text": [
      "[[None, 'TA', 'J01D', 32.15856304690171], [None, 'TA', 'K02D', 68.61161470665932], [None, 'UO', 'DBO', 86.96516332774398]]\n"
     ]
    },
    {
     "name": "stderr",
     "output_type": "stream",
     "text": [
      "\r",
      " 42%|████▏     | 411/990 [07:13<09:37,  1.00it/s]"
     ]
    },
    {
     "name": "stdout",
     "output_type": "stream",
     "text": [
      "[[None, 'NC', 'KSXB', 157.15903003924262], [None, 'NC', 'KBO', 184.4806650577258], [None, 'TA', 'L02D', 200.0234720034741], [None, 'TA', 'K02D', 250.7933193483667]]\n"
     ]
    },
    {
     "name": "stderr",
     "output_type": "stream",
     "text": [
      "\r",
      " 42%|████▏     | 412/990 [07:15<10:52,  1.13s/it]"
     ]
    },
    {
     "name": "stdout",
     "output_type": "stream",
     "text": [
      "[[None, 'NC', 'KEB', 9.140403362473645], [None, 'TA', 'J01D', 50.85584441408637], [None, 'TA', 'K02D', 67.14661339506102], [None, 'NC', 'KBO', 78.09350058547929], [None, 'UO', 'DBO', 100.41810104208363]]\n"
     ]
    },
    {
     "name": "stderr",
     "output_type": "stream",
     "text": [
      "\r",
      " 42%|████▏     | 413/990 [07:16<11:51,  1.23s/it]"
     ]
    },
    {
     "name": "stdout",
     "output_type": "stream",
     "text": [
      "[[None, 'NC', 'KSXB', 232.0488256393559], [None, 'NC', 'KBO', 239.3619450676007], [None, 'TA', 'L02D', 272.2137669204196], [None, 'TA', 'K02D', 310.07355359787755], [None, 'TA', 'J01D', 338.36636402569263], [None, 'UO', 'DBO', 368.06514697946994]]\n"
     ]
    },
    {
     "name": "stderr",
     "output_type": "stream",
     "text": [
      "\r",
      " 42%|████▏     | 414/990 [07:17<11:19,  1.18s/it]"
     ]
    },
    {
     "name": "stdout",
     "output_type": "stream",
     "text": [
      "[[None, 'NC', 'KSXB', 153.62073167080612], [None, 'NC', 'KBO', 183.42716290936403], [None, 'TA', 'K02D', 248.52363123689256], [None, 'TA', 'J01D', 291.66370918788374]]\n"
     ]
    },
    {
     "name": "stderr",
     "output_type": "stream",
     "text": [
      "\r",
      " 42%|████▏     | 415/990 [07:19<12:37,  1.32s/it]"
     ]
    },
    {
     "name": "stdout",
     "output_type": "stream",
     "text": [
      "[[None, 'NC', 'KBO', 38.71617494475038], [None, 'NC', 'KEB', 78.74625432662943], [None, 'NC', 'KSXB', 80.11567341057733], [None, 'TA', 'L02D', 90.2826600915583], [None, 'TA', 'K02D', 99.95434061410664], [None, 'TA', 'J01D', 122.28728401927201], [None, 'UO', 'DBO', 155.4313299096308]]\n"
     ]
    },
    {
     "name": "stderr",
     "output_type": "stream",
     "text": [
      "\r",
      " 42%|████▏     | 416/990 [07:20<12:26,  1.30s/it]"
     ]
    },
    {
     "name": "stdout",
     "output_type": "stream",
     "text": [
      "[[None, 'NC', 'KBO', 143.680019280088], [None, 'NC', 'KSXB', 166.20433624758184], [None, 'TA', 'L02D', 192.1268295818866], [None, 'TA', 'K02D', 206.8631463323323], [None, 'TA', 'J01D', 218.7957041624484]]\n"
     ]
    },
    {
     "name": "stderr",
     "output_type": "stream",
     "text": [
      "\r",
      " 42%|████▏     | 417/990 [07:22<12:48,  1.34s/it]"
     ]
    },
    {
     "name": "stdout",
     "output_type": "stream",
     "text": [
      "[[None, 'NC', 'KSXB', 116.71721297303034], [None, 'NC', 'KBO', 145.14754366688354], [None, 'TA', 'L02D', 159.58103579057968], [None, 'TA', 'K02D', 210.53120861732893], [None, 'TA', 'J01D', 253.3867422355501], [None, 'UO', 'DBO', 267.48069117405976]]\n"
     ]
    },
    {
     "name": "stderr",
     "output_type": "stream",
     "text": [
      "\r",
      " 42%|████▏     | 418/990 [07:23<12:15,  1.29s/it]"
     ]
    },
    {
     "name": "stdout",
     "output_type": "stream",
     "text": [
      "[[None, 'NC', 'KBO', 40.05412011006195], [None, 'NC', 'KEB', 75.20032645069394], [None, 'NC', 'KSXB', 83.36863124218237], [None, 'TA', 'L02D', 91.73173071032986], [None, 'TA', 'K02D', 98.62931542952333]]\n"
     ]
    },
    {
     "name": "stderr",
     "output_type": "stream",
     "text": [
      "\r",
      " 42%|████▏     | 419/990 [07:24<11:33,  1.22s/it]"
     ]
    },
    {
     "name": "stdout",
     "output_type": "stream",
     "text": [
      "[[None, 'NC', 'KBO', 15.412694320564206], [None, 'NC', 'KSXB', 62.419351869713545], [None, 'TA', 'L02D', 67.09031139951581], [None, 'TA', 'K02D', 80.43858641375266]]\n"
     ]
    },
    {
     "name": "stderr",
     "output_type": "stream",
     "text": [
      "\r",
      " 42%|████▏     | 420/990 [07:25<11:30,  1.21s/it]"
     ]
    },
    {
     "name": "stdout",
     "output_type": "stream",
     "text": [
      "[[None, 'NC', 'KBO', 36.736637075548614], [None, 'NC', 'KSXB', 80.61180970063575], [None, 'TA', 'L02D', 88.41183108137419], [None, 'TA', 'K02D', 95.77354953261161]]\n"
     ]
    },
    {
     "name": "stderr",
     "output_type": "stream",
     "text": [
      "\r",
      " 43%|████▎     | 421/990 [07:26<11:10,  1.18s/it]"
     ]
    },
    {
     "name": "stdout",
     "output_type": "stream",
     "text": [
      "[[None, 'NC', 'KSXB', 112.02910624021068], [None, 'NC', 'KBO', 121.55483077948976], [None, 'TA', 'L02D', 151.67077514565378], [None, 'TA', 'K02D', 191.8828791879909], [None, 'UO', 'DBO', 250.1083429619442]]\n"
     ]
    },
    {
     "name": "stderr",
     "output_type": "stream",
     "text": [
      "\r",
      " 43%|████▎     | 422/990 [07:27<10:40,  1.13s/it]"
     ]
    },
    {
     "name": "stdout",
     "output_type": "stream",
     "text": [
      "[[None, 'NC', 'KSXB', 156.9940028359954], [None, 'NC', 'KBO', 194.9070876450281], [None, 'TA', 'L02D', 198.3043082619243], [None, 'TA', 'K02D', 254.5952506601949]]\n"
     ]
    },
    {
     "name": "stderr",
     "output_type": "stream",
     "text": [
      "\r",
      " 43%|████▎     | 423/990 [07:28<10:09,  1.08s/it]"
     ]
    },
    {
     "name": "stdout",
     "output_type": "stream",
     "text": [
      "[[None, 'NC', 'KBO', 43.18877717513519], [None, 'NC', 'KSXB', 84.66491221580408], [None, 'TA', 'L02D', 94.81389030266347], [None, 'TA', 'K02D', 102.96378536551099]]\n"
     ]
    },
    {
     "name": "stderr",
     "output_type": "stream",
     "text": [
      "\r",
      " 43%|████▎     | 424/990 [07:29<09:58,  1.06s/it]"
     ]
    },
    {
     "name": "stdout",
     "output_type": "stream",
     "text": [
      "[[None, 'NC', 'KSXB', 130.10367544692443], [None, 'TA', 'L02D', 167.37945625773423], [None, 'NC', 'KBO', 175.8054338791679], [None, 'TA', 'K02D', 226.56175682364974]]\n"
     ]
    },
    {
     "name": "stderr",
     "output_type": "stream",
     "text": [
      "\r",
      " 43%|████▎     | 425/990 [07:30<10:07,  1.07s/it]"
     ]
    },
    {
     "name": "stdout",
     "output_type": "stream",
     "text": [
      "[[None, 'NC', 'KSXB', 82.87288753865506], [None, 'TA', 'K02D', 85.96337092290719], [None, 'NC', 'KBO', 105.03606563984917], [None, 'UO', 'DBO', 112.8288246542404], [None, 'TA', 'J01D', 140.00177308069175]]\n"
     ]
    },
    {
     "name": "stderr",
     "output_type": "stream",
     "text": [
      "\r",
      " 43%|████▎     | 426/990 [07:31<09:49,  1.05s/it]"
     ]
    },
    {
     "name": "stdout",
     "output_type": "stream",
     "text": [
      "[[None, 'NC', 'KBO', 46.52517713081373], [None, 'NC', 'KSXB', 87.54873307135088], [None, 'TA', 'L02D', 98.14431019981792], [None, 'TA', 'K02D', 105.83612800272785]]\n"
     ]
    },
    {
     "name": "stderr",
     "output_type": "stream",
     "text": [
      "\r",
      " 43%|████▎     | 427/990 [07:32<08:47,  1.07it/s]"
     ]
    },
    {
     "name": "stdout",
     "output_type": "stream",
     "text": [
      "[[None, 'NC', 'KBO', 39.646377308962194], [None, 'NC', 'KSXB', 84.92762516508053], [None, 'TA', 'L02D', 91.16851255386435]]\n"
     ]
    },
    {
     "name": "stderr",
     "output_type": "stream",
     "text": [
      "\r",
      " 43%|████▎     | 428/990 [07:33<09:07,  1.03it/s]"
     ]
    },
    {
     "name": "stdout",
     "output_type": "stream",
     "text": [
      "[[None, 'NC', 'KBO', 43.747784719914804], [None, 'NC', 'KSXB', 87.73601125273592], [None, 'TA', 'L02D', 95.37733101342181], [None, 'TA', 'K02D', 100.12618947059629]]\n"
     ]
    },
    {
     "name": "stderr",
     "output_type": "stream",
     "text": [
      "\r",
      " 43%|████▎     | 429/990 [07:34<09:24,  1.01s/it]"
     ]
    },
    {
     "name": "stdout",
     "output_type": "stream",
     "text": [
      "[[None, 'NC', 'KBO', 45.58993116981939], [None, 'NC', 'KSXB', 88.0527849814139], [None, 'TA', 'L02D', 97.26767744515048], [None, 'TA', 'K02D', 103.4531300903603]]\n"
     ]
    },
    {
     "name": "stderr",
     "output_type": "stream",
     "text": [
      "\r",
      " 43%|████▎     | 430/990 [07:35<09:14,  1.01it/s]"
     ]
    },
    {
     "name": "stdout",
     "output_type": "stream",
     "text": [
      "[[None, 'NC', 'KSXB', 144.24194470223702], [None, 'NC', 'KBO', 175.0571028301482], [None, 'TA', 'K02D', 239.54369528817705]]\n"
     ]
    },
    {
     "name": "stderr",
     "output_type": "stream",
     "text": [
      "\r",
      " 44%|████▎     | 431/990 [07:36<09:25,  1.01s/it]"
     ]
    },
    {
     "name": "stdout",
     "output_type": "stream",
     "text": [
      "[[None, 'TA', 'J01D', 40.50126079276889], [None, 'TA', 'K02D', 64.3576178184743], [None, 'UO', 'DBO', 91.93585698448776], [None, 'TA', 'L02D', 109.71905646159736]]\n"
     ]
    },
    {
     "name": "stderr",
     "output_type": "stream",
     "text": [
      "\r",
      " 44%|████▎     | 432/990 [07:37<08:43,  1.07it/s]"
     ]
    },
    {
     "name": "stdout",
     "output_type": "stream",
     "text": [
      "[[None, 'NC', 'KSXB', 85.50278515711123], [None, 'TA', 'L02D', 97.95395677061494], [None, 'TA', 'K02D', 108.0581008715865]]\n"
     ]
    },
    {
     "name": "stderr",
     "output_type": "stream",
     "text": [
      "\r",
      " 44%|████▎     | 433/990 [07:38<08:15,  1.12it/s]"
     ]
    },
    {
     "name": "stdout",
     "output_type": "stream",
     "text": [
      "[[None, 'TA', 'L02D', 132.63143243064627], [None, 'UO', 'DBO', 144.1824186148993], [None, 'TA', 'K02D', 147.5709703571289]]\n"
     ]
    },
    {
     "name": "stderr",
     "output_type": "stream",
     "text": [
      "\r",
      " 44%|████▍     | 434/990 [07:38<08:14,  1.13it/s]"
     ]
    },
    {
     "name": "stdout",
     "output_type": "stream",
     "text": [
      "[[None, 'NC', 'KSXB', 175.38854742619392], [None, 'TA', 'L02D', 218.2446452117637], [None, 'TA', 'K02D', 269.22902441994495], [None, 'UO', 'DBO', 326.30709459138717]]\n"
     ]
    },
    {
     "name": "stderr",
     "output_type": "stream",
     "text": [
      "\r",
      " 44%|████▍     | 435/990 [07:40<10:15,  1.11s/it]"
     ]
    },
    {
     "name": "stdout",
     "output_type": "stream",
     "text": [
      "[[None, 'NC', 'KSXB', 144.3269435857629], [None, 'TA', 'L02D', 186.61611166338068], [None, 'TA', 'K02D', 241.03528094312628], [None, 'TA', 'J01D', 286.6408472133999], [None, 'UO', 'DBO', 296.6631623367839]]\n"
     ]
    },
    {
     "name": "stderr",
     "output_type": "stream",
     "text": [
      "\r",
      " 44%|████▍     | 436/990 [07:42<11:34,  1.25s/it]"
     ]
    },
    {
     "name": "stdout",
     "output_type": "stream",
     "text": [
      "[[None, 'TA', 'J01D', 223.97445832914204], [None, 'NC', 'KSXB', 230.4886181007624], [None, 'TA', 'K02D', 235.06581105338313], [None, 'TA', 'L02D', 243.11563450555875], [None, 'UO', 'DBO', 276.337835647696]]\n"
     ]
    },
    {
     "name": "stderr",
     "output_type": "stream",
     "text": [
      "\r",
      " 44%|████▍     | 437/990 [07:42<09:47,  1.06s/it]"
     ]
    },
    {
     "name": "stdout",
     "output_type": "stream",
     "text": [
      "[[None, 'NC', 'KSXB', 86.0143937069977], [None, 'TA', 'L02D', 128.02858895579894], [None, 'TA', 'K02D', 175.02668093073456]]\n"
     ]
    },
    {
     "name": "stderr",
     "output_type": "stream",
     "text": [
      "\r",
      " 44%|████▍     | 438/990 [07:43<08:35,  1.07it/s]"
     ]
    },
    {
     "name": "stdout",
     "output_type": "stream",
     "text": [
      "[[None, 'NC', 'KSXB', 85.40704508399713], [None, 'TA', 'L02D', 94.92267962967982], [None, 'TA', 'K02D', 102.23169530445378]]\n"
     ]
    },
    {
     "name": "stderr",
     "output_type": "stream",
     "text": [
      "\r",
      " 44%|████▍     | 439/990 [07:44<08:13,  1.12it/s]"
     ]
    },
    {
     "name": "stdout",
     "output_type": "stream",
     "text": [
      "[[None, 'TA', 'J01D', 30.16932079630844], [None, 'TA', 'K02D', 76.526951599816], [None, 'UO', 'DBO', 86.0480878741275]]\n"
     ]
    },
    {
     "name": "stderr",
     "output_type": "stream",
     "text": [
      "\r",
      " 44%|████▍     | 440/990 [07:45<08:26,  1.09it/s]"
     ]
    },
    {
     "name": "stdout",
     "output_type": "stream",
     "text": [
      "[[None, 'NC', 'KSXB', 137.31213676136193], [None, 'TA', 'L02D', 179.84927712717797], [None, 'TA', 'K02D', 227.44175115068595]]\n"
     ]
    },
    {
     "name": "stderr",
     "output_type": "stream",
     "text": [
      "\r",
      " 45%|████▍     | 441/990 [07:46<08:04,  1.13it/s]"
     ]
    },
    {
     "name": "stdout",
     "output_type": "stream",
     "text": [
      "[[None, 'UO', 'DBO', 75.70396732234154], [None, 'TA', 'J01D', 115.1829573663486], [None, 'TA', 'K02D', 133.92916142112117]]\n"
     ]
    },
    {
     "name": "stderr",
     "output_type": "stream",
     "text": [
      "\r",
      " 45%|████▍     | 442/990 [07:47<09:20,  1.02s/it]"
     ]
    },
    {
     "name": "stdout",
     "output_type": "stream",
     "text": [
      "[[None, 'NC', 'KSXB', 140.60032576988996], [None, 'TA', 'L02D', 183.12928403171853], [None, 'TA', 'K02D', 236.78718002928827], [None, 'TA', 'J01D', 281.67826627278345], [None, 'UO', 'DBO', 292.7904303783425]]\n"
     ]
    },
    {
     "name": "stderr",
     "output_type": "stream",
     "text": [
      "\r",
      " 45%|████▍     | 443/990 [07:48<08:38,  1.05it/s]"
     ]
    },
    {
     "name": "stdout",
     "output_type": "stream",
     "text": [
      "[[None, 'NC', 'KSXB', 86.49405813325487], [None, 'TA', 'L02D', 99.06634544752266], [None, 'TA', 'K02D', 109.00193522471014]]\n"
     ]
    },
    {
     "name": "stderr",
     "output_type": "stream",
     "text": [
      "\r",
      " 45%|████▍     | 444/990 [07:48<08:07,  1.12it/s]"
     ]
    },
    {
     "name": "stdout",
     "output_type": "stream",
     "text": [
      "[[None, 'NC', 'KSXB', 126.65485431785069], [None, 'TA', 'L02D', 169.496892539626], [None, 'TA', 'K02D', 221.25490651636284]]\n"
     ]
    },
    {
     "name": "stderr",
     "output_type": "stream",
     "text": [
      "\r",
      " 45%|████▍     | 445/990 [07:49<07:49,  1.16it/s]"
     ]
    },
    {
     "name": "stdout",
     "output_type": "stream",
     "text": [
      "[[None, 'NC', 'KSXB', 87.10767911281825], [None, 'TA', 'L02D', 96.16023227903656], [None, 'TA', 'K02D', 102.4823682027906]]\n"
     ]
    },
    {
     "name": "stderr",
     "output_type": "stream",
     "text": [
      "\r",
      " 45%|████▌     | 446/990 [07:50<07:32,  1.20it/s]"
     ]
    },
    {
     "name": "stdout",
     "output_type": "stream",
     "text": [
      "[[None, 'NC', 'KSXB', 182.31431491789505], [None, 'TA', 'L02D', 225.15019058328306], [None, 'TA', 'K02D', 274.5453697364197]]\n"
     ]
    },
    {
     "name": "stderr",
     "output_type": "stream",
     "text": [
      "\r",
      " 45%|████▌     | 447/990 [07:51<07:25,  1.22it/s]"
     ]
    },
    {
     "name": "stdout",
     "output_type": "stream",
     "text": [
      "[[None, 'NC', 'KSXB', 136.83034862744532], [None, 'TA', 'L02D', 179.59630276428143], [None, 'TA', 'K02D', 232.04881608225563]]\n"
     ]
    },
    {
     "name": "stderr",
     "output_type": "stream",
     "text": [
      "\r",
      " 45%|████▌     | 448/990 [07:52<08:29,  1.06it/s]"
     ]
    },
    {
     "name": "stdout",
     "output_type": "stream",
     "text": [
      "[[None, 'TA', 'J01E', 241.26410015407444], [None, 'TA', 'K02D', 269.1811606583706], [None, 'NC', 'KSXB', 289.9157505147209], [None, 'TA', 'L02E', 292.8365391164819], [None, 'UO', 'DBO', 297.13287362840333]]\n"
     ]
    },
    {
     "name": "stderr",
     "output_type": "stream",
     "text": [
      "\r",
      " 45%|████▌     | 449/990 [07:53<08:07,  1.11it/s]"
     ]
    },
    {
     "name": "stdout",
     "output_type": "stream",
     "text": [
      "[[None, 'NC', 'KBO', 38.716912143599394], [None, 'NC', 'KSXB', 72.14618752513417], [None, 'TA', 'L02E', 88.28131032210969], [None, 'TA', 'K02D', 105.81400763846996]]\n"
     ]
    },
    {
     "name": "stderr",
     "output_type": "stream",
     "text": [
      "\r",
      " 45%|████▌     | 450/990 [07:54<10:06,  1.12s/it]"
     ]
    },
    {
     "name": "stdout",
     "output_type": "stream",
     "text": [
      "[[None, 'NC', 'KEB', 224.81877679141724], [None, 'TA', 'J01E', 252.7099178849987], [None, 'TA', 'K02D', 282.47852991904136], [None, 'NC', 'KSXB', 305.37554779777275], [None, 'TA', 'L02E', 307.5683871874462], [None, 'UO', 'DBO', 308.64834860340216]]\n"
     ]
    },
    {
     "name": "stderr",
     "output_type": "stream",
     "text": [
      "\r",
      " 46%|████▌     | 451/990 [07:55<08:57,  1.00it/s]"
     ]
    },
    {
     "name": "stdout",
     "output_type": "stream",
     "text": [
      "[[None, 'NC', 'KSXB', 149.8920028152798], [None, 'TA', 'L02E', 192.63134546840368], [None, 'TA', 'K02D', 245.32317841625334]]\n"
     ]
    },
    {
     "name": "stderr",
     "output_type": "stream",
     "text": [
      "\r",
      " 46%|████▌     | 452/990 [07:56<09:31,  1.06s/it]"
     ]
    },
    {
     "name": "stdout",
     "output_type": "stream",
     "text": [
      "[[None, 'NC', 'KSXB', 171.19489171732204], [None, 'NC', 'KBO', 200.54138784425268], [None, 'TA', 'L02E', 214.00820148890054], [None, 'TA', 'K02D', 265.99827554152097], [None, 'UO', 'DBO', 322.7329352808627]]\n"
     ]
    },
    {
     "name": "stderr",
     "output_type": "stream",
     "text": [
      "\r",
      " 46%|████▌     | 453/990 [07:57<08:33,  1.05it/s]"
     ]
    },
    {
     "name": "stdout",
     "output_type": "stream",
     "text": [
      "[[None, 'NC', 'KSXB', 166.47451443379364], [None, 'NC', 'KBO', 198.1928458497334], [None, 'TA', 'L02E', 209.08872014787897]]\n"
     ]
    },
    {
     "name": "stderr",
     "output_type": "stream",
     "text": [
      "\r",
      " 46%|████▌     | 454/990 [07:58<09:03,  1.01s/it]"
     ]
    },
    {
     "name": "stdout",
     "output_type": "stream",
     "text": [
      "[[None, 'NC', 'KSXB', 156.3324242623839], [None, 'NC', 'KBO', 173.60809860835514], [None, 'TA', 'L02E', 198.33907423756537], [None, 'TA', 'K02D', 243.1249172266657], [None, 'UO', 'DBO', 301.23000425020683]]\n"
     ]
    },
    {
     "name": "stderr",
     "output_type": "stream",
     "text": [
      "\r",
      " 46%|████▌     | 455/990 [08:00<10:15,  1.15s/it]"
     ]
    },
    {
     "name": "stdout",
     "output_type": "stream",
     "text": [
      "[[None, 'NC', 'KBO', 161.6960866780685], [None, 'TA', 'J01E', 196.4510273769923], [None, 'NC', 'KSXB', 201.72462884806114], [None, 'TA', 'K02D', 205.358033910152], [None, 'TA', 'L02E', 213.23632326123598], [None, 'UO', 'DBO', 247.84047279464542]]\n"
     ]
    },
    {
     "name": "stderr",
     "output_type": "stream",
     "text": [
      "\r",
      " 46%|████▌     | 456/990 [08:01<10:24,  1.17s/it]"
     ]
    },
    {
     "name": "stdout",
     "output_type": "stream",
     "text": [
      "[[None, 'NC', 'KSXB', 115.9486048046197], [None, 'TA', 'L02E', 155.6153777121624], [None, 'NC', 'KBO', 158.85858791658163], [None, 'TA', 'K02D', 213.54235192917295], [None, 'UO', 'DBO', 266.33632067898765]]\n"
     ]
    },
    {
     "name": "stderr",
     "output_type": "stream",
     "text": [
      "\r",
      " 46%|████▌     | 457/990 [08:02<09:51,  1.11s/it]"
     ]
    },
    {
     "name": "stdout",
     "output_type": "stream",
     "text": [
      "[[None, 'NC', 'KBO', 44.300882337746536], [None, 'NC', 'KSXB', 85.62251808724626], [None, 'TA', 'L02E', 95.93886721239515], [None, 'TA', 'K02D', 103.91813945354714]]\n"
     ]
    },
    {
     "name": "stderr",
     "output_type": "stream",
     "text": [
      "\r",
      " 46%|████▋     | 458/990 [08:03<10:13,  1.15s/it]"
     ]
    },
    {
     "name": "stdout",
     "output_type": "stream",
     "text": [
      "[[None, 'NC', 'KSXB', 143.21958729931225], [None, 'NC', 'KBO', 178.37714371437838], [None, 'TA', 'L02E', 185.39455854651712], [None, 'TA', 'K02D', 240.15863062029456], [None, 'UO', 'DBO', 295.576924405171]]\n"
     ]
    },
    {
     "name": "stderr",
     "output_type": "stream",
     "text": [
      " 46%|████▋     | 460/990 [08:06<10:30,  1.19s/it]"
     ]
    },
    {
     "name": "stdout",
     "output_type": "stream",
     "text": [
      "[[None, 'TA', 'J01E', 187.93190082731653], [None, 'UO', 'DBO', 210.76131422307608], [None, 'NC', 'KEB', 216.0844388955617], [None, 'TA', 'K02D', 243.3092542716148], [None, 'TA', 'L02E', 302.6686216113303]]\n"
     ]
    },
    {
     "name": "stderr",
     "output_type": "stream",
     "text": [
      "\r",
      " 47%|████▋     | 461/990 [08:06<09:27,  1.07s/it]"
     ]
    },
    {
     "name": "stdout",
     "output_type": "stream",
     "text": [
      "[[None, 'TA', 'J01E', 49.10991099790535], [None, 'TA', 'K02D', 91.45527193329993], [None, 'UO', 'DBO', 105.01386316476948]]\n"
     ]
    },
    {
     "name": "stderr",
     "output_type": "stream",
     "text": [
      " 47%|████▋     | 463/990 [08:09<09:43,  1.11s/it]"
     ]
    },
    {
     "name": "stdout",
     "output_type": "stream",
     "text": [
      "[[None, 'NC', 'KEB', 15.992744048873574], [None, 'NC', 'KBO', 60.911883774240096], [None, 'TA', 'J01E', 61.14799251912163], [None, 'TA', 'K02D', 61.601228733160674], [None, 'UO', 'DBO', 104.24697277560635]]\n"
     ]
    },
    {
     "name": "stderr",
     "output_type": "stream",
     "text": [
      "\r",
      " 47%|████▋     | 464/990 [08:10<09:40,  1.10s/it]"
     ]
    },
    {
     "name": "stdout",
     "output_type": "stream",
     "text": [
      "[[None, 'NC', 'KBO', 41.037822173640514], [None, 'NC', 'KSXB', 83.52038443982082], [None, 'TA', 'L02E', 92.7197834244016], [None, 'TA', 'K02D', 100.31885146951797]]\n"
     ]
    },
    {
     "name": "stderr",
     "output_type": "stream",
     "text": [
      "\r",
      " 47%|████▋     | 465/990 [08:11<09:49,  1.12s/it]"
     ]
    },
    {
     "name": "stdout",
     "output_type": "stream",
     "text": [
      "[[None, 'NC', 'KSXB', 143.33747202975337], [None, 'NC', 'KBO', 155.91631470804055], [None, 'TA', 'L02E', 184.27405842055842], [None, 'TA', 'K02D', 226.13452270341153], [None, 'UO', 'DBO', 284.3549847026112]]\n"
     ]
    },
    {
     "name": "stderr",
     "output_type": "stream",
     "text": [
      "\r",
      " 47%|████▋     | 466/990 [08:12<10:32,  1.21s/it]"
     ]
    },
    {
     "name": "stdout",
     "output_type": "stream",
     "text": [
      "[[None, 'NC', 'KSXB', 88.5991914803028], [None, 'NC', 'KBO', 109.71021576005461], [None, 'TA', 'L02E', 130.58689557495325], [None, 'TA', 'K02D', 177.28788385698215]]\n"
     ]
    },
    {
     "name": "stderr",
     "output_type": "stream",
     "text": [
      " 47%|████▋     | 468/990 [08:14<10:10,  1.17s/it]"
     ]
    },
    {
     "name": "stdout",
     "output_type": "stream",
     "text": [
      "[[None, 'NC', 'KBO', 45.413016312276035], [None, 'NC', 'KSXB', 86.58383241218726], [None, 'TA', 'L02E', 97.04902634316355], [None, 'TA', 'K02D', 104.87561523088834]]\n"
     ]
    },
    {
     "name": "stderr",
     "output_type": "stream",
     "text": [
      "\r",
      " 47%|████▋     | 469/990 [08:15<09:32,  1.10s/it]"
     ]
    },
    {
     "name": "stdout",
     "output_type": "stream",
     "text": [
      "[[None, 'NC', 'KBO', 38.74069177261182], [None, 'NC', 'KSXB', 80.87419934439897], [None, 'TA', 'L02E', 90.38902076261549], [None, 'TA', 'K02D', 99.17938314091593]]\n"
     ]
    },
    {
     "name": "stderr",
     "output_type": "stream",
     "text": [
      "\r",
      " 47%|████▋     | 470/990 [08:16<09:11,  1.06s/it]"
     ]
    },
    {
     "name": "stdout",
     "output_type": "stream",
     "text": [
      "[[None, 'NC', 'KBO', 43.16677979322015], [None, 'NC', 'KSXB', 83.94063860414708], [None, 'TA', 'L02E', 94.74185356001705], [None, 'TA', 'K02D', 103.71047463857273]]\n"
     ]
    },
    {
     "name": "stderr",
     "output_type": "stream",
     "text": [
      "\r",
      " 48%|████▊     | 471/990 [08:17<08:18,  1.04it/s]"
     ]
    },
    {
     "name": "stdout",
     "output_type": "stream",
     "text": [
      "[[None, 'NC', 'KSXB', 87.48825148603336], [None, 'TA', 'L02E', 100.1947172326044], [None, 'TA', 'K02D', 109.94892895279617]]\n"
     ]
    },
    {
     "name": "stderr",
     "output_type": "stream",
     "text": [
      "\r",
      " 48%|████▊     | 472/990 [08:18<09:00,  1.04s/it]"
     ]
    },
    {
     "name": "stdout",
     "output_type": "stream",
     "text": [
      "[[None, 'NC', 'KBO', 34.265603307178154], [None, 'NC', 'KSXB', 76.35856165421761], [None, 'NC', 'KEB', 77.23008140539025], [None, 'TA', 'L02E', 85.85453029643136], [None, 'TA', 'K02D', 96.25746188313838]]\n"
     ]
    },
    {
     "name": "stderr",
     "output_type": "stream",
     "text": [
      "\r",
      " 48%|████▊     | 473/990 [08:20<10:32,  1.22s/it]"
     ]
    },
    {
     "name": "stdout",
     "output_type": "stream",
     "text": [
      "[[None, 'NC', 'KBO', 38.71617494475038], [None, 'NC', 'KEB', 78.74625432662943], [None, 'NC', 'KSXB', 80.11567341057733], [None, 'TA', 'L02E', 90.29783484049001], [None, 'TA', 'K02D', 99.95434061410664], [None, 'TA', 'J01E', 122.29672052288312], [None, 'UO', 'DBO', 155.4313299096308]]\n"
     ]
    },
    {
     "name": "stderr",
     "output_type": "stream",
     "text": [
      "\r",
      " 48%|████▊     | 474/990 [08:21<09:58,  1.16s/it]"
     ]
    },
    {
     "name": "stdout",
     "output_type": "stream",
     "text": [
      "[[None, 'NC', 'KBO', 44.36854657368112], [None, 'NC', 'KSXB', 86.35642403401458], [None, 'TA', 'L02E', 96.04604242293921], [None, 'TA', 'K02D', 103.1928186368419]]\n"
     ]
    },
    {
     "name": "stderr",
     "output_type": "stream",
     "text": [
      "\r",
      " 48%|████▊     | 475/990 [08:22<10:08,  1.18s/it]"
     ]
    },
    {
     "name": "stdout",
     "output_type": "stream",
     "text": [
      "[[None, 'NC', 'KEB', 279.96626994802284], [None, 'TA', 'J01E', 302.60850604886406], [None, 'TA', 'K02D', 337.9785894611888], [None, 'UO', 'DBO', 358.1344679352125], [None, 'TA', 'L02E', 367.51949762900523]]\n"
     ]
    },
    {
     "name": "stderr",
     "output_type": "stream",
     "text": [
      "\r",
      " 48%|████▊     | 476/990 [08:23<09:43,  1.14s/it]"
     ]
    },
    {
     "name": "stdout",
     "output_type": "stream",
     "text": [
      "[[None, 'NC', 'KSXB', 159.3392395349731], [None, 'TA', 'L02E', 199.0526212942825], [None, 'NC', 'KBO', 200.98502292435114], [None, 'TA', 'K02D', 256.99318211261783]]\n"
     ]
    },
    {
     "name": "stderr",
     "output_type": "stream",
     "text": [
      "\r",
      " 48%|████▊     | 477/990 [08:25<10:12,  1.19s/it]"
     ]
    },
    {
     "name": "stdout",
     "output_type": "stream",
     "text": [
      "[[None, 'TA', 'J01E', 175.6821527272889], [None, 'TA', 'K02D', 218.09018951741365], [None, 'UO', 'DBO', 229.98752491729155], [None, 'TA', 'L02E', 258.2922515334022]]\n"
     ]
    },
    {
     "name": "stderr",
     "output_type": "stream",
     "text": [
      "\r",
      " 48%|████▊     | 478/990 [08:26<10:14,  1.20s/it]"
     ]
    },
    {
     "name": "stdout",
     "output_type": "stream",
     "text": [
      "[[None, 'NC', 'KBO', 38.74069177261182], [None, 'NC', 'KSXB', 80.87419934439897], [None, 'TA', 'L02E', 90.38902076261549], [None, 'TA', 'K02D', 99.17938314091593], [None, 'UO', 'DBO', 154.49106485953638]]\n"
     ]
    },
    {
     "name": "stderr",
     "output_type": "stream",
     "text": [
      "\r",
      " 48%|████▊     | 479/990 [08:27<09:52,  1.16s/it]"
     ]
    },
    {
     "name": "stdout",
     "output_type": "stream",
     "text": [
      "[[None, 'NC', 'KSXB', 163.729149401419], [None, 'TA', 'L02E', 205.98468727504613], [None, 'TA', 'K02D', 260.46421603157796], [None, 'TA', 'J01E', 305.89873854331165]]\n"
     ]
    },
    {
     "name": "stderr",
     "output_type": "stream",
     "text": [
      "\r",
      " 48%|████▊     | 480/990 [08:28<08:49,  1.04s/it]"
     ]
    },
    {
     "name": "stdout",
     "output_type": "stream",
     "text": [
      "[[None, 'TA', 'L02E', 65.88622540893263], [None, 'TA', 'K02D', 84.53289927667468], [None, 'UO', 'DBO', 101.20405676414073]]\n"
     ]
    },
    {
     "name": "stderr",
     "output_type": "stream",
     "text": [
      "\r",
      " 49%|████▊     | 481/990 [08:28<08:14,  1.03it/s]"
     ]
    },
    {
     "name": "stdout",
     "output_type": "stream",
     "text": [
      "[[None, 'NC', 'KSXB', 132.9900993112147], [None, 'TA', 'L02E', 175.81739739196698], [None, 'TA', 'K02D', 227.99350168830838]]\n"
     ]
    },
    {
     "name": "stderr",
     "output_type": "stream",
     "text": [
      "\r",
      " 49%|████▊     | 482/990 [08:30<09:37,  1.14s/it]"
     ]
    },
    {
     "name": "stdout",
     "output_type": "stream",
     "text": [
      "[[None, 'NC', 'KSXB', 155.36102628537182], [None, 'NC', 'KBO', 175.43783111569627], [None, 'TA', 'L02E', 197.7802946218721], [None, 'TA', 'K02D', 244.27833710441735], [None, 'TA', 'J01E', 282.23197202106076], [None, 'UO', 'DBO', 302.21426383095667]]\n"
     ]
    },
    {
     "name": "stderr",
     "output_type": "stream",
     "text": [
      "\r",
      " 49%|████▉     | 483/990 [08:31<09:45,  1.16s/it]"
     ]
    },
    {
     "name": "stdout",
     "output_type": "stream",
     "text": [
      "[[None, 'NC', 'KBO', 29.851979015508512], [None, 'NC', 'KSXB', 71.86337381647012], [None, 'TA', 'L02E', 81.33601180293707], [None, 'TA', 'K02D', 93.47815675279293], [None, 'UO', 'DBO', 149.84422916299184]]\n"
     ]
    },
    {
     "name": "stderr",
     "output_type": "stream",
     "text": [
      "\r",
      " 49%|████▉     | 484/990 [08:32<09:18,  1.10s/it]"
     ]
    },
    {
     "name": "stdout",
     "output_type": "stream",
     "text": [
      "[[None, 'NC', 'KBO', 38.71617494475038], [None, 'NC', 'KSXB', 80.11567341057733], [None, 'TA', 'L02E', 90.29783484049001], [None, 'TA', 'K02D', 99.95434061410664]]\n"
     ]
    },
    {
     "name": "stderr",
     "output_type": "stream",
     "text": [
      "\r",
      " 49%|████▉     | 485/990 [08:33<09:53,  1.18s/it]"
     ]
    },
    {
     "name": "stdout",
     "output_type": "stream",
     "text": [
      "[[None, 'TA', 'J01E', 28.788009083051364], [None, 'TA', 'K02D', 73.69115725702619], [None, 'UO', 'DBO', 84.72752262230073], [None, 'TA', 'L02E', 126.43163200411793]]\n"
     ]
    },
    {
     "name": "stderr",
     "output_type": "stream",
     "text": [
      "\r",
      " 49%|████▉     | 486/990 [08:34<09:27,  1.13s/it]"
     ]
    },
    {
     "name": "stdout",
     "output_type": "stream",
     "text": [
      "[[None, 'NC', 'KBO', 38.71617494475038], [None, 'NC', 'KSXB', 80.11567341057733], [None, 'TA', 'L02E', 90.29783484049001], [None, 'TA', 'K02D', 99.95434061410664]]\n"
     ]
    },
    {
     "name": "stderr",
     "output_type": "stream",
     "text": [
      " 49%|████▉     | 488/990 [08:37<08:57,  1.07s/it]"
     ]
    },
    {
     "name": "stdout",
     "output_type": "stream",
     "text": [
      "[[None, 'NC', 'KSXB', 146.82665280454663], [None, 'NC', 'KBO', 177.87042175787803], [None, 'TA', 'L02E', 189.5712960142941], [None, 'TA', 'K02D', 242.25292167692794]]\n"
     ]
    },
    {
     "name": "stderr",
     "output_type": "stream",
     "text": [
      "\r",
      " 49%|████▉     | 489/990 [08:38<09:56,  1.19s/it]"
     ]
    },
    {
     "name": "stdout",
     "output_type": "stream",
     "text": [
      "[[None, 'NC', 'KSXB', 186.04012790249007], [None, 'NC', 'KBO', 209.30951785717917], [None, 'TA', 'L02E', 228.8452702177353], [None, 'TA', 'K02D', 277.406396111981], [None, 'TA', 'J01E', 316.57166541920645], [None, 'UO', 'DBO', 335.07475858281475]]\n"
     ]
    },
    {
     "name": "stderr",
     "output_type": "stream",
     "text": [
      "\r",
      " 49%|████▉     | 490/990 [08:39<09:23,  1.13s/it]"
     ]
    },
    {
     "name": "stdout",
     "output_type": "stream",
     "text": [
      "[[None, 'NC', 'KBO', 38.71617494475038], [None, 'NC', 'KSXB', 80.11567341057733], [None, 'TA', 'L02E', 90.29783484049001], [None, 'TA', 'K02D', 99.95434061410664]]\n"
     ]
    },
    {
     "name": "stderr",
     "output_type": "stream",
     "text": [
      "\r",
      " 50%|████▉     | 491/990 [08:40<10:02,  1.21s/it]"
     ]
    },
    {
     "name": "stdout",
     "output_type": "stream",
     "text": [
      "[[None, 'NC', 'KEB', 211.46045892766304], [None, 'TA', 'J01E', 239.30638966762132], [None, 'NC', 'KBO', 246.46295448956525], [None, 'TA', 'K02D', 269.15855069691173], [None, 'NC', 'KSXB', 293.3305758571643], [None, 'TA', 'L02E', 294.80152876708394], [None, 'UO', 'DBO', 295.24299187556477]]\n"
     ]
    },
    {
     "name": "stderr",
     "output_type": "stream",
     "text": [
      "\r",
      " 50%|████▉     | 492/990 [08:41<08:42,  1.05s/it]"
     ]
    },
    {
     "name": "stdout",
     "output_type": "stream",
     "text": [
      "[[None, 'NC', 'KSXB', 149.8920028152798], [None, 'TA', 'L02E', 192.63134546840368], [None, 'TA', 'K02D', 245.32317841625334]]\n"
     ]
    },
    {
     "name": "stderr",
     "output_type": "stream",
     "text": [
      " 50%|████▉     | 494/990 [08:43<08:53,  1.08s/it]"
     ]
    },
    {
     "name": "stdout",
     "output_type": "stream",
     "text": [
      "[[None, 'NC', 'KBO', 15.85165117530892], [None, 'NC', 'KSXB', 50.64502066916744], [None, 'TA', 'L02E', 62.6709203864095], [None, 'TA', 'K02D', 86.54132222066178]]\n"
     ]
    },
    {
     "name": "stderr",
     "output_type": "stream",
     "text": [
      "\r",
      " 50%|█████     | 495/990 [08:44<07:47,  1.06it/s]"
     ]
    },
    {
     "name": "stdout",
     "output_type": "stream",
     "text": [
      "[[None, 'NC', 'KSXB', 145.30025299270858], [None, 'TA', 'L02E', 187.54886364353166], [None, 'TA', 'K02D', 242.1196081406405]]\n"
     ]
    },
    {
     "name": "stderr",
     "output_type": "stream",
     "text": [
      "\r",
      " 50%|█████     | 496/990 [08:45<07:50,  1.05it/s]"
     ]
    },
    {
     "name": "stdout",
     "output_type": "stream",
     "text": [
      "[[None, 'NC', 'KSXB', 156.5997482547026], [None, 'NC', 'KBO', 184.18302773403715], [None, 'TA', 'L02E', 199.4903028794761], [None, 'TA', 'K02D', 250.37441999694727]]\n"
     ]
    },
    {
     "name": "stderr",
     "output_type": "stream",
     "text": [
      "\r",
      " 50%|█████     | 497/990 [08:46<08:30,  1.04s/it]"
     ]
    },
    {
     "name": "stdout",
     "output_type": "stream",
     "text": [
      "[[None, 'NC', 'KEB', 29.143778487366305], [None, 'NC', 'KBO', 66.69138724604908], [None, 'TA', 'J01E', 74.65646751878535], [None, 'TA', 'K02D', 79.31147143887873], [None, 'UO', 'DBO', 121.16003253283807]]\n"
     ]
    },
    {
     "name": "stderr",
     "output_type": "stream",
     "text": [
      " 50%|█████     | 499/990 [08:48<08:13,  1.01s/it]"
     ]
    },
    {
     "name": "stdout",
     "output_type": "stream",
     "text": [
      "[[None, 'NC', 'KBO', 36.51689112944426], [None, 'NC', 'KSXB', 79.00466709117906], [None, 'TA', 'L02E', 88.16956905212301], [None, 'TA', 'K02D', 97.30833696246862]]\n"
     ]
    },
    {
     "name": "stderr",
     "output_type": "stream",
     "text": [
      "\r",
      " 51%|█████     | 500/990 [08:49<08:59,  1.10s/it]"
     ]
    },
    {
     "name": "stdout",
     "output_type": "stream",
     "text": [
      "[[None, 'NC', 'KBO', 202.56886950706175], [None, 'TA', 'L02E', 215.04417795888378], [None, 'TA', 'K02D', 267.55210795444833], [None, 'TA', 'J01E', 310.8147541982775], [None, 'UO', 'DBO', 324.09607507138105]]\n"
     ]
    },
    {
     "name": "stderr",
     "output_type": "stream",
     "text": [
      "\r",
      " 51%|█████     | 501/990 [08:50<08:24,  1.03s/it]"
     ]
    },
    {
     "name": "stdout",
     "output_type": "stream",
     "text": [
      "[[None, 'UO', 'DBO', 43.94746075506273], [None, 'TA', 'J01E', 53.938692047308535], [None, 'TA', 'K02D', 90.02658941776289]]\n"
     ]
    },
    {
     "name": "stderr",
     "output_type": "stream",
     "text": [
      " 51%|█████     | 503/990 [08:54<10:33,  1.30s/it]"
     ]
    },
    {
     "name": "stdout",
     "output_type": "stream",
     "text": [
      "[[None, 'NC', 'KBO', 199.80731592203878], [None, 'TA', 'L02E', 210.85656001574222], [None, 'TA', 'K02D', 264.0367676913759], [None, 'TA', 'J01E', 308.0466180616646], [None, 'UO', 'DBO', 320.2959741881359]]\n"
     ]
    },
    {
     "name": "stderr",
     "output_type": "stream",
     "text": [
      "\r",
      " 51%|█████     | 504/990 [08:55<10:44,  1.33s/it]"
     ]
    },
    {
     "name": "stdout",
     "output_type": "stream",
     "text": [
      "[[None, 'NC', 'KEB', 188.20616262986215], [None, 'NC', 'KSXB', 204.08115745647626], [None, 'TA', 'L02E', 225.29381963103626], [None, 'TA', 'K02D', 230.7638553384198], [None, 'TA', 'J01E', 232.73591318190677], [None, 'UO', 'DBO', 279.7552465540353]]\n"
     ]
    },
    {
     "name": "stderr",
     "output_type": "stream",
     "text": [
      "\r",
      " 51%|█████     | 505/990 [08:56<09:18,  1.15s/it]"
     ]
    },
    {
     "name": "stdout",
     "output_type": "stream",
     "text": [
      "[[None, 'NC', 'KSXB', 144.24194470223702], [None, 'TA', 'L02E', 187.0125166674201], [None, 'TA', 'K02D', 239.54369528817705]]\n"
     ]
    },
    {
     "name": "stderr",
     "output_type": "stream",
     "text": [
      "\r",
      " 51%|█████     | 506/990 [08:57<08:54,  1.10s/it]"
     ]
    },
    {
     "name": "stdout",
     "output_type": "stream",
     "text": [
      "[[None, 'NC', 'KSXB', 147.26749546534836], [None, 'NC', 'KBO', 176.44397567781527], [None, 'TA', 'L02E', 190.12658272639035], [None, 'TA', 'K02D', 241.80556659621942]]\n"
     ]
    },
    {
     "name": "stderr",
     "output_type": "stream",
     "text": [
      "\r",
      " 51%|█████     | 507/990 [08:57<07:57,  1.01it/s]"
     ]
    },
    {
     "name": "stdout",
     "output_type": "stream",
     "text": [
      "[[None, 'NC', 'KSXB', 155.67793739970804], [None, 'NC', 'KBO', 199.63829212142556], [None, 'TA', 'K02D', 252.76595574770226]]\n"
     ]
    },
    {
     "name": "stderr",
     "output_type": "stream",
     "text": [
      "\r",
      " 51%|█████▏    | 508/990 [08:58<07:23,  1.09it/s]"
     ]
    },
    {
     "name": "stdout",
     "output_type": "stream",
     "text": [
      "[[None, 'NC', 'KSXB', 144.24194470223702], [None, 'TA', 'L02E', 187.0125166674201], [None, 'TA', 'K02D', 239.54369528817705]]\n"
     ]
    },
    {
     "name": "stderr",
     "output_type": "stream",
     "text": [
      "\r",
      " 51%|█████▏    | 509/990 [08:59<08:13,  1.03s/it]"
     ]
    },
    {
     "name": "stdout",
     "output_type": "stream",
     "text": [
      "[[None, 'NC', 'KBO', 145.00797290940727], [None, 'NC', 'KSXB', 153.97489000465407], [None, 'TA', 'L02E', 187.29217990247608], [None, 'TA', 'K02D', 213.99035266448078], [None, 'TA', 'J01E', 235.91466115708388]]\n"
     ]
    },
    {
     "name": "stderr",
     "output_type": "stream",
     "text": [
      "\r",
      " 52%|█████▏    | 510/990 [09:00<08:08,  1.02s/it]"
     ]
    },
    {
     "name": "stdout",
     "output_type": "stream",
     "text": [
      "[[None, 'NC', 'KSXB', 149.96933046257482], [None, 'NC', 'KBO', 177.78304615519954], [None, 'TA', 'L02E', 192.8598354320129], [None, 'TA', 'K02D', 243.81409725100596]]\n"
     ]
    },
    {
     "name": "stderr",
     "output_type": "stream",
     "text": [
      "\r",
      " 52%|█████▏    | 511/990 [09:02<09:16,  1.16s/it]"
     ]
    },
    {
     "name": "stdout",
     "output_type": "stream",
     "text": [
      "[[None, 'NC', 'KSXB', 155.68192053071297], [None, 'NC', 'KBO', 184.44527102737075], [None, 'TA', 'L02E', 198.5457680474923], [None, 'TA', 'K02D', 250.0787490696719]]\n"
     ]
    },
    {
     "name": "stderr",
     "output_type": "stream",
     "text": [
      "\r",
      " 52%|█████▏    | 512/990 [09:03<08:24,  1.05s/it]"
     ]
    },
    {
     "name": "stdout",
     "output_type": "stream",
     "text": [
      "[[None, 'NC', 'KSXB', 146.82665280454663], [None, 'TA', 'L02E', 189.5712960142941], [None, 'TA', 'K02D', 242.25292167692794]]\n"
     ]
    },
    {
     "name": "stderr",
     "output_type": "stream",
     "text": [
      "\r",
      " 52%|█████▏    | 513/990 [09:03<07:41,  1.03it/s]"
     ]
    },
    {
     "name": "stdout",
     "output_type": "stream",
     "text": [
      "[[None, 'NC', 'KSXB', 144.24194470223702], [None, 'TA', 'L02E', 187.0125166674201], [None, 'TA', 'K02D', 239.54369528817705]]\n"
     ]
    },
    {
     "name": "stderr",
     "output_type": "stream",
     "text": [
      "\r",
      " 52%|█████▏    | 514/990 [09:05<07:58,  1.00s/it]"
     ]
    },
    {
     "name": "stdout",
     "output_type": "stream",
     "text": [
      "[[None, 'NC', 'KSXB', 184.1928080360192], [None, 'NC', 'KBO', 199.3868539274535], [None, 'TA', 'L02E', 225.98248302220892], [None, 'TA', 'K02D', 269.45081367874855]]\n"
     ]
    },
    {
     "name": "stderr",
     "output_type": "stream",
     "text": [
      "\r",
      " 52%|█████▏    | 515/990 [09:06<08:34,  1.08s/it]"
     ]
    },
    {
     "name": "stdout",
     "output_type": "stream",
     "text": [
      "[[None, 'NC', 'KBO', 146.74063897913823], [None, 'NC', 'KSXB', 147.22497893095758], [None, 'TA', 'L02E', 184.09529395187343], [None, 'TA', 'K02D', 217.21551765724314], [None, 'TA', 'J01E', 244.46548026605154]]\n"
     ]
    },
    {
     "name": "stderr",
     "output_type": "stream",
     "text": [
      "\r",
      " 52%|█████▏    | 516/990 [09:07<08:32,  1.08s/it]"
     ]
    },
    {
     "name": "stdout",
     "output_type": "stream",
     "text": [
      "[[None, 'NC', 'KSXB', 206.45052038481742], [None, 'TA', 'L02E', 227.4242057951753], [None, 'TA', 'K02D', 232.4154318073407], [None, 'TA', 'J01E', 233.84356811187305]]\n"
     ]
    },
    {
     "name": "stderr",
     "output_type": "stream",
     "text": [
      "\r",
      " 52%|█████▏    | 517/990 [09:08<08:30,  1.08s/it]"
     ]
    },
    {
     "name": "stdout",
     "output_type": "stream",
     "text": [
      "[[None, 'NC', 'KSXB', 193.18993303412566], [None, 'TA', 'L02E', 214.0975241177883], [None, 'TA', 'K02D', 219.78368458012127], [None, 'TA', 'J01E', 222.6587257370016]]\n"
     ]
    },
    {
     "name": "stderr",
     "output_type": "stream",
     "text": [
      " 52%|█████▏    | 519/990 [09:10<07:47,  1.01it/s]"
     ]
    },
    {
     "name": "stdout",
     "output_type": "stream",
     "text": [
      "[[None, 'NC', 'KSXB', 140.2076162691983], [None, 'NC', 'KBO', 167.52224549376822], [None, 'TA', 'L02E', 183.09927556233964], [None, 'TA', 'K02D', 233.68428562898885]]\n"
     ]
    },
    {
     "name": "stderr",
     "output_type": "stream",
     "text": [
      "\r",
      " 53%|█████▎    | 520/990 [09:11<08:23,  1.07s/it]"
     ]
    },
    {
     "name": "stdout",
     "output_type": "stream",
     "text": [
      "[[None, 'NC', 'KSXB', 175.96654883906902], [None, 'TA', 'L02E', 214.87663443044764], [None, 'NC', 'KBO', 218.65057509125086], [None, 'TA', 'K02D', 273.36983886994614]]\n"
     ]
    },
    {
     "name": "stderr",
     "output_type": "stream",
     "text": [
      "\r",
      " 53%|█████▎    | 521/990 [09:12<08:49,  1.13s/it]"
     ]
    },
    {
     "name": "stdout",
     "output_type": "stream",
     "text": [
      "[[None, 'NC', 'KBO', 128.69814183544025], [None, 'NC', 'KSXB', 146.68899399521086], [None, 'TA', 'L02E', 175.14908999635938], [None, 'TA', 'K02D', 194.94246051239043], [None, 'TA', 'J01E', 212.18917755976088]]\n"
     ]
    },
    {
     "name": "stderr",
     "output_type": "stream",
     "text": [
      "\r",
      " 53%|█████▎    | 522/990 [09:13<08:19,  1.07s/it]"
     ]
    },
    {
     "name": "stdout",
     "output_type": "stream",
     "text": [
      "[[None, 'NC', 'KSXB', 148.32909199180332], [None, 'NC', 'KBO', 176.95983116317893], [None, 'TA', 'L02E', 191.20514524086843], [None, 'TA', 'K02D', 242.59566513809824]]\n"
     ]
    },
    {
     "name": "stderr",
     "output_type": "stream",
     "text": [
      "\r",
      " 53%|█████▎    | 523/990 [09:14<08:00,  1.03s/it]"
     ]
    },
    {
     "name": "stdout",
     "output_type": "stream",
     "text": [
      "[[None, 'NC', 'KSXB', 142.18199664997277], [None, 'NC', 'KBO', 178.09968524347144], [None, 'TA', 'L02E', 184.19764733094812], [None, 'TA', 'K02D', 239.32532436714135]]\n"
     ]
    },
    {
     "name": "stderr",
     "output_type": "stream",
     "text": [
      "\r",
      " 53%|█████▎    | 524/990 [09:15<08:26,  1.09s/it]"
     ]
    },
    {
     "name": "stdout",
     "output_type": "stream",
     "text": [
      "[[None, 'NC', 'KSXB', 142.8658949139862], [None, 'NC', 'KBO', 178.27776179474543], [None, 'TA', 'L02E', 184.9897559286746], [None, 'TA', 'K02D', 239.87602310938837], [None, 'TA', 'J01E', 286.0306702933053]]\n"
     ]
    },
    {
     "name": "stderr",
     "output_type": "stream",
     "text": [
      "\r",
      " 53%|█████▎    | 525/990 [09:16<08:11,  1.06s/it]"
     ]
    },
    {
     "name": "stdout",
     "output_type": "stream",
     "text": [
      "[[None, 'NC', 'KSXB', 170.16500345902332], [None, 'NC', 'KBO', 192.1182788718235], [None, 'TA', 'K02D', 260.5340166395303], [None, 'TA', 'J01E', 299.2094956397279]]\n"
     ]
    },
    {
     "name": "stderr",
     "output_type": "stream",
     "text": [
      "\r",
      " 53%|█████▎    | 526/990 [09:17<07:55,  1.02s/it]"
     ]
    },
    {
     "name": "stdout",
     "output_type": "stream",
     "text": [
      "[[None, 'NC', 'KSXB', 158.5422648187185], [None, 'NC', 'KBO', 186.65981110835918], [None, 'TA', 'L02E', 201.42264812019812], [None, 'TA', 'K02D', 252.62234980832517]]\n"
     ]
    },
    {
     "name": "stderr",
     "output_type": "stream",
     "text": [
      "\r",
      " 53%|█████▎    | 527/990 [09:18<07:38,  1.01it/s]"
     ]
    },
    {
     "name": "stdout",
     "output_type": "stream",
     "text": [
      "[[None, 'NC', 'KSXB', 46.24486748638701], [None, 'NC', 'KBO', 80.3162403256721], [None, 'TA', 'L02E', 89.0965826112029], [None, 'TA', 'K02D', 141.01156956415787]]\n"
     ]
    },
    {
     "name": "stderr",
     "output_type": "stream",
     "text": [
      "\r",
      " 53%|█████▎    | 528/990 [09:19<06:53,  1.12it/s]"
     ]
    },
    {
     "name": "stdout",
     "output_type": "stream",
     "text": [
      "[[None, 'NC', 'KBO', 35.95661076628623], [None, 'NC', 'KSXB', 63.27115843234113], [None, 'TA', 'K02D', 105.69146486425575]]\n"
     ]
    },
    {
     "name": "stderr",
     "output_type": "stream",
     "text": [
      "\r",
      " 53%|█████▎    | 529/990 [09:20<07:12,  1.07it/s]"
     ]
    },
    {
     "name": "stdout",
     "output_type": "stream",
     "text": [
      "[[None, 'NC', 'KSXB', 159.18055244871942], [None, 'NC', 'KBO', 196.4769348795972], [None, 'TA', 'L02E', 200.6947406735068], [None, 'TA', 'K02D', 256.6905059569451]]\n"
     ]
    },
    {
     "name": "stderr",
     "output_type": "stream",
     "text": [
      " 54%|█████▎    | 531/990 [09:23<08:44,  1.14s/it]"
     ]
    },
    {
     "name": "stdout",
     "output_type": "stream",
     "text": [
      "[[None, 'NC', 'KSXB', 147.79505779617074], [None, 'NC', 'KBO', 176.69858825501709], [None, 'TA', 'L02E', 190.66337952221332], [None, 'TA', 'K02D', 242.19838228329635]]\n"
     ]
    },
    {
     "name": "stderr",
     "output_type": "stream",
     "text": [
      "\r",
      " 54%|█████▎    | 532/990 [09:24<08:15,  1.08s/it]"
     ]
    },
    {
     "name": "stdout",
     "output_type": "stream",
     "text": [
      "[[None, 'NC', 'KSXB', 90.17015376173426], [None, 'NC', 'KBO', 115.09660966531818], [None, 'TA', 'L02E', 132.73400544895645], [None, 'TA', 'K02D', 181.44421827473406]]\n"
     ]
    },
    {
     "name": "stderr",
     "output_type": "stream",
     "text": [
      "\r",
      " 54%|█████▍    | 533/990 [09:25<08:19,  1.09s/it]"
     ]
    },
    {
     "name": "stdout",
     "output_type": "stream",
     "text": [
      "[[None, 'TA', 'J01E', 193.78083523233516], [None, 'NC', 'KEB', 199.58822670900568], [None, 'TA', 'K02D', 247.0318404842695], [None, 'TA', 'L02E', 298.6547156668424]]\n"
     ]
    },
    {
     "name": "stderr",
     "output_type": "stream",
     "text": [
      "\r",
      " 54%|█████▍    | 534/990 [09:26<07:57,  1.05s/it]"
     ]
    },
    {
     "name": "stdout",
     "output_type": "stream",
     "text": [
      "[[None, 'NC', 'KSXB', 116.67561489129783], [None, 'NC', 'KBO', 144.24399123759414], [None, 'TA', 'L02E', 159.55309771522914], [None, 'TA', 'K02D', 210.01452473608992]]\n"
     ]
    },
    {
     "name": "stderr",
     "output_type": "stream",
     "text": [
      "\r",
      " 54%|█████▍    | 535/990 [09:27<07:16,  1.04it/s]"
     ]
    },
    {
     "name": "stdout",
     "output_type": "stream",
     "text": [
      "[[None, 'NC', 'KEB', 63.102101041673976], [None, 'TA', 'J01E', 84.43051206788378], [None, 'TA', 'K02D', 120.01419688521615]]\n"
     ]
    },
    {
     "name": "stderr",
     "output_type": "stream",
     "text": [
      "\r",
      " 54%|█████▍    | 536/990 [09:28<08:00,  1.06s/it]"
     ]
    },
    {
     "name": "stdout",
     "output_type": "stream",
     "text": [
      "[[None, 'NC', 'KSXB', 213.03219894251137], [None, 'NC', 'KBO', 237.50298759064572], [None, 'TA', 'L02E', 255.9111274314786], [None, 'TA', 'K02D', 305.3215896545332], [None, 'TA', 'J01E', 344.85962954378476]]\n"
     ]
    },
    {
     "name": "stderr",
     "output_type": "stream",
     "text": [
      "\r",
      " 54%|█████▍    | 537/990 [09:29<07:37,  1.01s/it]"
     ]
    },
    {
     "name": "stdout",
     "output_type": "stream",
     "text": [
      "[[None, 'NC', 'KSXB', 82.8293538385435], [None, 'NC', 'KBO', 116.28217502404087], [None, 'TA', 'L02E', 125.65091413909423], [None, 'TA', 'K02D', 178.49814093220346]]\n"
     ]
    },
    {
     "name": "stderr",
     "output_type": "stream",
     "text": [
      "\r",
      " 54%|█████▍    | 538/990 [09:30<07:30,  1.00it/s]"
     ]
    },
    {
     "name": "stdout",
     "output_type": "stream",
     "text": [
      "[[None, 'NC', 'KSXB', 150.52855780311728], [None, 'NC', 'KBO', 178.07051191690036], [None, 'TA', 'L02E', 193.42105686267993], [None, 'TA', 'K02D', 244.22902883605278]]\n"
     ]
    },
    {
     "name": "stderr",
     "output_type": "stream",
     "text": [
      "\r",
      " 54%|█████▍    | 539/990 [09:31<07:47,  1.04s/it]"
     ]
    },
    {
     "name": "stdout",
     "output_type": "stream",
     "text": [
      "[[None, 'NC', 'KSXB', 117.32187133159849], [None, 'NC', 'KBO', 126.36044182309274], [None, 'TA', 'L02E', 156.94715356345614], [None, 'TA', 'K02D', 196.78308409744727]]\n"
     ]
    },
    {
     "name": "stderr",
     "output_type": "stream",
     "text": [
      "\r",
      " 55%|█████▍    | 540/990 [09:32<07:36,  1.01s/it]"
     ]
    },
    {
     "name": "stdout",
     "output_type": "stream",
     "text": [
      "[[None, 'NC', 'KBO', 171.19815720620167], [None, 'NC', 'KSXB', 200.7627604247809], [None, 'TA', 'K02D', 227.60794073821864], [None, 'TA', 'J01E', 229.93686828083565]]\n"
     ]
    },
    {
     "name": "stderr",
     "output_type": "stream",
     "text": [
      "\r",
      " 55%|█████▍    | 541/990 [09:33<07:25,  1.01it/s]"
     ]
    },
    {
     "name": "stdout",
     "output_type": "stream",
     "text": [
      "[[None, 'NC', 'KSXB', 122.26169735430618], [None, 'NC', 'KBO', 136.44100444288196], [None, 'TA', 'L02E', 163.33233475425408], [None, 'TA', 'K02D', 206.23838377304642]]\n"
     ]
    },
    {
     "name": "stderr",
     "output_type": "stream",
     "text": [
      " 55%|█████▍    | 543/990 [09:35<07:41,  1.03s/it]"
     ]
    },
    {
     "name": "stdout",
     "output_type": "stream",
     "text": [
      "[[None, 'NC', 'KSXB', 144.46375352229296], [None, 'NC', 'KBO', 171.9604601572884], [None, 'TA', 'L02E', 187.35687499499232], [None, 'TA', 'K02D', 238.08374089634208]]\n"
     ]
    },
    {
     "name": "stderr",
     "output_type": "stream",
     "text": [
      "\r",
      " 55%|█████▍    | 544/990 [09:36<07:37,  1.03s/it]"
     ]
    },
    {
     "name": "stdout",
     "output_type": "stream",
     "text": [
      "[[None, 'NC', 'KSXB', 154.42256493987406], [None, 'NC', 'KBO', 183.05528654745186], [None, 'TA', 'L02E', 197.2923024489893], [None, 'TA', 'K02D', 248.74154273014216]]\n"
     ]
    },
    {
     "name": "stderr",
     "output_type": "stream",
     "text": [
      "\r",
      " 55%|█████▌    | 545/990 [09:37<08:35,  1.16s/it]"
     ]
    },
    {
     "name": "stdout",
     "output_type": "stream",
     "text": [
      "[[None, 'NC', 'KBO', 107.37534944828333], [None, 'NC', 'KEB', 133.5780694337255], [None, 'NC', 'KSXB', 136.79186613561058], [None, 'TA', 'L02E', 157.63475790952202], [None, 'TA', 'K02D', 167.98049578815593], [None, 'TA', 'J01E', 179.47889068030224]]\n"
     ]
    },
    {
     "name": "stderr",
     "output_type": "stream",
     "text": [
      "\r",
      " 55%|█████▌    | 546/990 [09:38<08:05,  1.09s/it]"
     ]
    },
    {
     "name": "stdout",
     "output_type": "stream",
     "text": [
      "[[None, 'NC', 'KSXB', 145.9650311926978], [None, 'NC', 'KBO', 182.30788072150912], [None, 'TA', 'L02E', 187.8482727444491], [None, 'TA', 'K02D', 243.23160427568763]]\n"
     ]
    },
    {
     "name": "stderr",
     "output_type": "stream",
     "text": [
      "\r",
      " 55%|█████▌    | 547/990 [09:39<07:51,  1.06s/it]"
     ]
    },
    {
     "name": "stdout",
     "output_type": "stream",
     "text": [
      "[[None, 'NC', 'KSXB', 169.7159673330062], [None, 'NC', 'KBO', 199.7746616670039], [None, 'TA', 'L02E', 212.48313609730647], [None, 'TA', 'K02D', 264.8537163865882]]\n"
     ]
    },
    {
     "name": "stderr",
     "output_type": "stream",
     "text": [
      "\r",
      " 55%|█████▌    | 548/990 [09:41<08:14,  1.12s/it]"
     ]
    },
    {
     "name": "stdout",
     "output_type": "stream",
     "text": [
      "[[None, 'NC', 'KSXB', 153.62073167080612], [None, 'NC', 'KBO', 183.42716290936403], [None, 'TA', 'L02E', 196.43806120546918], [None, 'TA', 'K02D', 248.52363123689256]]\n"
     ]
    },
    {
     "name": "stderr",
     "output_type": "stream",
     "text": [
      "\r",
      " 55%|█████▌    | 549/990 [09:42<08:54,  1.21s/it]"
     ]
    },
    {
     "name": "stdout",
     "output_type": "stream",
     "text": [
      "[[None, 'NC', 'KSXB', 131.289336431541], [None, 'NC', 'KBO', 167.81434579854886], [None, 'TA', 'L02E', 173.2500669620391], [None, 'TA', 'K02D', 228.52706114197736]]\n"
     ]
    },
    {
     "name": "stderr",
     "output_type": "stream",
     "text": [
      "\r",
      " 56%|█████▌    | 550/990 [09:43<08:24,  1.15s/it]"
     ]
    },
    {
     "name": "stdout",
     "output_type": "stream",
     "text": [
      "[[None, 'NC', 'KSXB', 156.5997482547026], [None, 'NC', 'KBO', 184.18302773403715], [None, 'TA', 'L02E', 199.4903028794761], [None, 'TA', 'K02D', 250.37441999694727]]\n"
     ]
    },
    {
     "name": "stderr",
     "output_type": "stream",
     "text": [
      "\r",
      " 56%|█████▌    | 551/990 [09:44<08:09,  1.11s/it]"
     ]
    },
    {
     "name": "stdout",
     "output_type": "stream",
     "text": [
      "[[None, 'NC', 'KSXB', 70.83392201516301], [None, 'NC', 'KBO', 94.0476956590684], [None, 'TA', 'L02E', 112.84460019090896], [None, 'TA', 'K02D', 160.4115013213507]]\n"
     ]
    },
    {
     "name": "stderr",
     "output_type": "stream",
     "text": [
      "\r",
      " 56%|█████▌    | 552/990 [09:45<08:31,  1.17s/it]"
     ]
    },
    {
     "name": "stdout",
     "output_type": "stream",
     "text": [
      "[[None, 'NC', 'KSXB', 144.24194470223702], [None, 'NC', 'KBO', 175.0571028301482], [None, 'TA', 'L02E', 187.0125166674201], [None, 'TA', 'K02D', 239.54369528817705], [None, 'TA', 'J01E', 283.2984520174345]]\n"
     ]
    },
    {
     "name": "stderr",
     "output_type": "stream",
     "text": [
      "\r",
      " 56%|█████▌    | 553/990 [09:46<07:40,  1.05s/it]"
     ]
    },
    {
     "name": "stdout",
     "output_type": "stream",
     "text": [
      "[[None, 'NC', 'KSXB', 145.53298916203948], [None, 'TA', 'L02E', 188.29080564058185], [None, 'TA', 'K02D', 240.89785891960798]]\n"
     ]
    },
    {
     "name": "stderr",
     "output_type": "stream",
     "text": [
      "\r",
      " 56%|█████▌    | 554/990 [09:47<08:10,  1.13s/it]"
     ]
    },
    {
     "name": "stdout",
     "output_type": "stream",
     "text": [
      "[[None, 'NC', 'KSXB', 160.2539607704811], [None, 'TA', 'L02E', 197.22701875098016], [None, 'NC', 'KBO', 205.71631342450317], [None, 'TA', 'K02D', 256.5550367850448], [None, 'TA', 'J01E', 308.3300128325748]]\n"
     ]
    },
    {
     "name": "stderr",
     "output_type": "stream",
     "text": [
      "\r",
      " 56%|█████▌    | 555/990 [09:49<09:04,  1.25s/it]"
     ]
    },
    {
     "name": "stdout",
     "output_type": "stream",
     "text": [
      "[[None, 'NC', 'KSXB', 124.3299363038376], [None, 'NC', 'KBO', 133.01301080357405], [None, 'TA', 'L02E', 163.9710055806479], [None, 'NC', 'KEB', 194.52424750242054], [None, 'TA', 'K02D', 203.5157281373938], [None, 'TA', 'J01E', 236.8518057792443]]\n"
     ]
    },
    {
     "name": "stderr",
     "output_type": "stream",
     "text": [
      "\r",
      " 56%|█████▌    | 556/990 [09:51<10:21,  1.43s/it]"
     ]
    },
    {
     "name": "stdout",
     "output_type": "stream",
     "text": [
      "[[None, 'NC', 'KSXB', 154.03790221225879], [None, 'NC', 'KBO', 172.11884830497294], [None, 'TA', 'L02E', 196.16327483218973], [None, 'NC', 'KEB', 237.17853754250925], [None, 'TA', 'K02D', 241.44205608876945], [None, 'TA', 'J01E', 278.36400928916964]]\n"
     ]
    },
    {
     "name": "stderr",
     "output_type": "stream",
     "text": [
      "\r",
      " 56%|█████▋    | 557/990 [09:52<10:30,  1.46s/it]"
     ]
    },
    {
     "name": "stdout",
     "output_type": "stream",
     "text": [
      "[[None, 'NC', 'KSXB', 162.9106081587953], [None, 'NC', 'KBO', 185.13521078884827], [None, 'TA', 'L02E', 205.590739141192], [None, 'NC', 'KEB', 252.09873222322423], [None, 'TA', 'K02D', 253.41247996570712], [None, 'TA', 'J01E', 292.3685942025597]]\n"
     ]
    },
    {
     "name": "stderr",
     "output_type": "stream",
     "text": [
      "\r",
      " 56%|█████▋    | 558/990 [09:53<09:34,  1.33s/it]"
     ]
    },
    {
     "name": "stdout",
     "output_type": "stream",
     "text": [
      "[[None, 'NC', 'KSXB', 149.89687288845778], [None, 'NC', 'KBO', 166.98854783312515], [None, 'TA', 'L02E', 191.8302315677182], [None, 'TA', 'J01E', 273.0075897960241]]\n"
     ]
    },
    {
     "name": "stderr",
     "output_type": "stream",
     "text": [
      "\r",
      " 56%|█████▋    | 559/990 [09:55<10:05,  1.40s/it]"
     ]
    },
    {
     "name": "stdout",
     "output_type": "stream",
     "text": [
      "[[None, 'NC', 'KSXB', 154.79852231334377], [None, 'NC', 'KBO', 172.60951931863167], [None, 'TA', 'L02E', 196.88492367365703], [None, 'NC', 'KEB', 237.48842537593015], [None, 'TA', 'K02D', 241.9991940309868], [None, 'TA', 'J01E', 278.75683605841533]]\n"
     ]
    },
    {
     "name": "stderr",
     "output_type": "stream",
     "text": [
      "\r",
      " 57%|█████▋    | 560/990 [09:56<09:58,  1.39s/it]"
     ]
    },
    {
     "name": "stdout",
     "output_type": "stream",
     "text": [
      "[[None, 'NC', 'KSXB', 146.87927152204674], [None, 'NC', 'KBO', 159.52057245449245], [None, 'TA', 'L02E', 187.86585186549604], [None, 'TA', 'K02D', 229.75327785550257], [None, 'TA', 'J01E', 264.0301916764053]]\n"
     ]
    },
    {
     "name": "stderr",
     "output_type": "stream",
     "text": [
      "\r",
      " 57%|█████▋    | 561/990 [09:57<09:17,  1.30s/it]"
     ]
    },
    {
     "name": "stdout",
     "output_type": "stream",
     "text": [
      "[[None, 'NC', 'KSXB', 183.58857202907876], [None, 'NC', 'KBO', 209.5775931406305], [None, 'TA', 'L02E', 226.48062312017566], [None, 'TA', 'K02D', 276.64620413396227]]\n"
     ]
    },
    {
     "name": "stderr",
     "output_type": "stream",
     "text": [
      "\r",
      " 57%|█████▋    | 562/990 [09:58<08:54,  1.25s/it]"
     ]
    },
    {
     "name": "stdout",
     "output_type": "stream",
     "text": [
      "[[None, 'NC', 'KSXB', 125.83261148624129], [None, 'NC', 'KBO', 132.07777610192483], [None, 'TA', 'L02E', 164.74332924155584], [None, 'TA', 'K02D', 202.73815330467212]]\n"
     ]
    },
    {
     "name": "stderr",
     "output_type": "stream",
     "text": [
      "\r",
      " 57%|█████▋    | 563/990 [10:00<09:44,  1.37s/it]"
     ]
    },
    {
     "name": "stdout",
     "output_type": "stream",
     "text": [
      "[[None, 'NC', 'KSXB', 156.44655782050364], [None, 'NC', 'KBO', 181.2960565656959], [None, 'TA', 'L02E', 199.28824148724019], [None, 'TA', 'K02D', 248.61425390047637], [None, 'TA', 'J01E', 289.09410829760276]]\n"
     ]
    },
    {
     "name": "stderr",
     "output_type": "stream",
     "text": [
      "\r",
      " 57%|█████▋    | 564/990 [10:01<09:29,  1.34s/it]"
     ]
    },
    {
     "name": "stdout",
     "output_type": "stream",
     "text": [
      "[[None, 'NC', 'KSXB', 104.12836468671341], [None, 'TA', 'L02E', 119.50170152397277], [None, 'TA', 'K02D', 176.50916602401927], [None, 'TA', 'J01E', 232.61660249672568]]\n"
     ]
    },
    {
     "name": "stderr",
     "output_type": "stream",
     "text": [
      "\r",
      " 57%|█████▋    | 565/990 [10:03<09:13,  1.30s/it]"
     ]
    },
    {
     "name": "stdout",
     "output_type": "stream",
     "text": [
      "[[None, 'NC', 'KSXB', 163.82872937974082], [None, 'NC', 'KBO', 181.50463116458695], [None, 'TA', 'L02E', 205.94384159778753], [None, 'TA', 'K02D', 250.98925332690612]]\n"
     ]
    },
    {
     "name": "stderr",
     "output_type": "stream",
     "text": [
      "\r",
      " 57%|█████▋    | 566/990 [10:04<09:25,  1.33s/it]"
     ]
    },
    {
     "name": "stdout",
     "output_type": "stream",
     "text": [
      "[[None, 'NC', 'KSXB', 196.52745595955417], [None, 'NC', 'KBO', 223.55825240338672], [None, 'TA', 'L02E', 239.40957307489288], [None, 'TA', 'K02D', 290.26027725633986], [None, 'TA', 'J01E', 331.48520466110097]]\n"
     ]
    },
    {
     "name": "stderr",
     "output_type": "stream",
     "text": [
      "\r",
      " 57%|█████▋    | 567/990 [10:06<09:50,  1.39s/it]"
     ]
    },
    {
     "name": "stdout",
     "output_type": "stream",
     "text": [
      "[[None, 'NC', 'KSXB', 150.67838983929968], [None, 'NC', 'KBO', 167.4942405441185], [None, 'TA', 'L02E', 192.56810941989843], [None, 'TA', 'K02D', 237.06324779606737], [None, 'TA', 'J01E', 273.40810302602796]]\n"
     ]
    },
    {
     "name": "stderr",
     "output_type": "stream",
     "text": [
      "\r",
      " 57%|█████▋    | 568/990 [10:07<09:22,  1.33s/it]"
     ]
    },
    {
     "name": "stdout",
     "output_type": "stream",
     "text": [
      "[[None, 'NC', 'KSXB', 149.11956445842443], [None, 'NC', 'KBO', 166.48875652027974], [None, 'TA', 'L02E', 191.09598448237634], [None, 'NC', 'KEB', 231.36576698077073], [None, 'TA', 'K02D', 235.9296135753011]]\n"
     ]
    },
    {
     "name": "stderr",
     "output_type": "stream",
     "text": [
      "\r",
      " 57%|█████▋    | 569/990 [10:08<08:07,  1.16s/it]"
     ]
    },
    {
     "name": "stdout",
     "output_type": "stream",
     "text": [
      "[[None, 'NC', 'KSXB', 163.5490746822469], [None, 'NC', 'KBO', 180.73830395757963], [None, 'TA', 'K02D', 250.32374441680747]]\n"
     ]
    },
    {
     "name": "stderr",
     "output_type": "stream",
     "text": [
      "\r",
      " 58%|█████▊    | 570/990 [10:08<07:16,  1.04s/it]"
     ]
    },
    {
     "name": "stdout",
     "output_type": "stream",
     "text": [
      "[[None, 'NC', 'KSXB', 150.67838983929968], [None, 'NC', 'KBO', 167.4942405441185], [None, 'TA', 'K02D', 237.06324779606737]]\n"
     ]
    },
    {
     "name": "stderr",
     "output_type": "stream",
     "text": [
      "\r",
      " 58%|█████▊    | 571/990 [10:10<07:43,  1.11s/it]"
     ]
    },
    {
     "name": "stdout",
     "output_type": "stream",
     "text": [
      "[[None, 'NC', 'KSXB', 161.24885052244315], [None, 'NC', 'KBO', 177.4615959900464], [None, 'TA', 'L02E', 203.0986908251601], [None, 'TA', 'K02D', 247.2241291269118]]\n"
     ]
    },
    {
     "name": "stderr",
     "output_type": "stream",
     "text": [
      "\r",
      " 58%|█████▊    | 572/990 [10:11<07:30,  1.08s/it]"
     ]
    },
    {
     "name": "stdout",
     "output_type": "stream",
     "text": [
      "[[None, 'NC', 'KSXB', 161.19278315588147], [None, 'NC', 'KBO', 174.58112422294843], [None, 'TA', 'L02E', 202.47259008392064], [None, 'TA', 'K02D', 244.79730009767084]]\n"
     ]
    },
    {
     "name": "stderr",
     "output_type": "stream",
     "text": [
      "\r",
      " 58%|█████▊    | 573/990 [10:12<08:30,  1.22s/it]"
     ]
    },
    {
     "name": "stdout",
     "output_type": "stream",
     "text": [
      "[[None, 'NC', 'KSXB', 159.17313446006708], [None, 'NC', 'KBO', 176.66588706454976], [None, 'TA', 'L02E', 201.23290197422378], [None, 'TA', 'K02D', 246.15734169529583], [None, 'TA', 'J01E', 282.6271491666214]]\n"
     ]
    },
    {
     "name": "stderr",
     "output_type": "stream",
     "text": [
      "\r",
      " 58%|█████▊    | 574/990 [10:13<08:48,  1.27s/it]"
     ]
    },
    {
     "name": "stdout",
     "output_type": "stream",
     "text": [
      "[[None, 'NC', 'KSXB', 151.81957168903963], [None, 'NC', 'KBO', 173.26093617911732], [None, 'TA', 'L02E', 194.38490348986116], [None, 'TA', 'K02D', 241.68539276245468], [None, 'TA', 'J01E', 280.441166655719]]\n"
     ]
    },
    {
     "name": "stderr",
     "output_type": "stream",
     "text": [
      "\r",
      " 58%|█████▊    | 575/990 [10:14<07:37,  1.10s/it]"
     ]
    },
    {
     "name": "stdout",
     "output_type": "stream",
     "text": [
      "[[None, 'NC', 'KSXB', 162.78369109319587], [None, 'NC', 'KBO', 180.2285353785451], [None, 'TA', 'K02D', 249.75542365666772]]\n"
     ]
    },
    {
     "name": "stderr",
     "output_type": "stream",
     "text": [
      "\r",
      " 58%|█████▊    | 576/990 [10:17<10:50,  1.57s/it]"
     ]
    },
    {
     "name": "stdout",
     "output_type": "stream",
     "text": [
      "[[None, 'NC', 'KSXB', 165.050753594703], [None, 'NC', 'KBO', 179.4946475544132], [None, 'TA', 'L02E', 206.5826562411001], [None, 'NC', 'KEB', 241.94685133021505], [None, 'TA', 'K02D', 249.5804601482873], [None, 'TA', 'J01E', 284.2107297993898]]\n"
     ]
    },
    {
     "name": "stderr",
     "output_type": "stream",
     "text": [
      "\r",
      " 58%|█████▊    | 577/990 [10:18<09:51,  1.43s/it]"
     ]
    },
    {
     "name": "stdout",
     "output_type": "stream",
     "text": [
      "[[None, 'NC', 'KSXB', 160.01064880392536], [None, 'TA', 'L02E', 198.50857605137008], [None, 'TA', 'K02D', 257.20955838490715], [None, 'TA', 'J01E', 307.89372293440925]]\n"
     ]
    },
    {
     "name": "stderr",
     "output_type": "stream",
     "text": [
      "\r",
      " 58%|█████▊    | 578/990 [10:19<08:59,  1.31s/it]"
     ]
    },
    {
     "name": "stdout",
     "output_type": "stream",
     "text": [
      "[[None, 'NC', 'KSXB', 171.6071241922618], [None, 'NC', 'KBO', 186.8032977996539], [None, 'TA', 'L02E', 213.32926693706733], [None, 'TA', 'K02D', 256.8055615559024]]\n"
     ]
    },
    {
     "name": "stderr",
     "output_type": "stream",
     "text": [
      "\r",
      " 58%|█████▊    | 579/990 [10:23<14:32,  2.12s/it]"
     ]
    },
    {
     "name": "stdout",
     "output_type": "stream",
     "text": [
      "[[None, 'NC', 'KSXB', 171.30088147744044], [None, 'NC', 'KBO', 190.49953071908521], [None, 'TA', 'L02E', 213.67393510844389], [None, 'TA', 'K02D', 259.6831447099976]]\n"
     ]
    },
    {
     "name": "stderr",
     "output_type": "stream",
     "text": [
      "\r",
      " 59%|█████▊    | 580/990 [10:24<12:29,  1.83s/it]"
     ]
    },
    {
     "name": "stdout",
     "output_type": "stream",
     "text": [
      "[[None, 'NC', 'KSXB', 145.26957351360116], [None, 'NC', 'KBO', 159.04118304446874], [None, 'TA', 'L02E', 186.5013722685571], [None, 'TA', 'K02D', 229.1059142489081]]\n"
     ]
    },
    {
     "name": "stderr",
     "output_type": "stream",
     "text": [
      "\r",
      " 59%|█████▊    | 581/990 [10:25<10:57,  1.61s/it]"
     ]
    },
    {
     "name": "stdout",
     "output_type": "stream",
     "text": [
      "[[None, 'NC', 'KSXB', 153.0475453282578], [None, 'NC', 'KBO', 169.04619438207564], [None, 'TA', 'L02E', 194.80311390842414], [None, 'TA', 'K02D', 238.79249639767124]]\n"
     ]
    },
    {
     "name": "stderr",
     "output_type": "stream",
     "text": [
      "\r",
      " 59%|█████▉    | 582/990 [10:26<09:36,  1.41s/it]"
     ]
    },
    {
     "name": "stdout",
     "output_type": "stream",
     "text": [
      "[[None, 'NC', 'KSXB', 148.3465307080884], [None, 'NC', 'KBO', 165.99491990775167], [None, 'TA', 'L02E', 190.3654101823467], [None, 'TA', 'K02D', 235.36863943549676]]\n"
     ]
    },
    {
     "name": "stderr",
     "output_type": "stream",
     "text": [
      "\r",
      " 59%|█████▉    | 583/990 [10:28<09:58,  1.47s/it]"
     ]
    },
    {
     "name": "stdout",
     "output_type": "stream",
     "text": [
      "[[None, 'NC', 'KSXB', 152.25378970953767], [None, 'NC', 'KBO', 168.52311704628926], [None, 'TA', 'L02E', 194.05459152336502], [None, 'TA', 'K02D', 238.2122775469132]]\n"
     ]
    },
    {
     "name": "stderr",
     "output_type": "stream",
     "text": [
      "\r",
      " 59%|█████▉    | 584/990 [10:29<09:09,  1.35s/it]"
     ]
    },
    {
     "name": "stdout",
     "output_type": "stream",
     "text": [
      "[[None, 'NC', 'KSXB', 155.452291787495], [None, 'NC', 'KBO', 170.64934543512862], [None, 'TA', 'L02E', 197.0693242796872], [None, 'TA', 'K02D', 240.55563803742714]]\n"
     ]
    },
    {
     "name": "stderr",
     "output_type": "stream",
     "text": [
      "\r",
      " 59%|█████▉    | 585/990 [10:30<08:33,  1.27s/it]"
     ]
    },
    {
     "name": "stdout",
     "output_type": "stream",
     "text": [
      "[[None, 'NC', 'KSXB', 152.25378970953767], [None, 'NC', 'KBO', 168.52311704628926], [None, 'TA', 'L02E', 194.05459152336502], [None, 'TA', 'K02D', 238.2122775469132]]\n"
     ]
    },
    {
     "name": "stderr",
     "output_type": "stream",
     "text": [
      "\r",
      " 59%|█████▉    | 586/990 [10:31<08:33,  1.27s/it]"
     ]
    },
    {
     "name": "stdout",
     "output_type": "stream",
     "text": [
      "[[None, 'NC', 'KSXB', 144.70365014893343], [None, 'NC', 'KBO', 159.89942338862352], [None, 'TA', 'L02E', 186.23576298901264], [None, 'TA', 'K02D', 229.72839329458012], [None, 'TA', 'J01E', 265.41481560043275]]\n"
     ]
    },
    {
     "name": "stderr",
     "output_type": "stream",
     "text": [
      "\r",
      " 59%|█████▉    | 587/990 [10:32<08:01,  1.20s/it]"
     ]
    },
    {
     "name": "stdout",
     "output_type": "stream",
     "text": [
      "[[None, 'NC', 'KSXB', 152.25378970953767], [None, 'NC', 'KBO', 168.52311704628926], [None, 'TA', 'L02E', 194.05459152336502], [None, 'TA', 'K02D', 238.2122775469132]]\n"
     ]
    },
    {
     "name": "stderr",
     "output_type": "stream",
     "text": [
      "\r",
      " 59%|█████▉    | 588/990 [10:34<08:06,  1.21s/it]"
     ]
    },
    {
     "name": "stdout",
     "output_type": "stream",
     "text": [
      "[[None, 'NC', 'KSXB', 151.4640501620097], [None, 'NC', 'KBO', 168.00578136630435], [None, 'TA', 'L02E', 193.30957645504515], [None, 'TA', 'K02D', 237.6358521205181]]\n"
     ]
    },
    {
     "name": "stderr",
     "output_type": "stream",
     "text": [
      "\r",
      " 59%|█████▉    | 589/990 [10:35<08:15,  1.23s/it]"
     ]
    },
    {
     "name": "stdout",
     "output_type": "stream",
     "text": [
      "[[None, 'NC', 'KSXB', 237.84031195098854], [None, 'NC', 'KBO', 260.1285134648726], [None, 'TA', 'L02E', 280.64962981578657], [None, 'TA', 'K02D', 328.7904325273603], [None, 'TA', 'J01E', 366.7014980187349]]\n"
     ]
    },
    {
     "name": "stderr",
     "output_type": "stream",
     "text": [
      "\r",
      " 60%|█████▉    | 590/990 [10:36<08:47,  1.32s/it]"
     ]
    },
    {
     "name": "stdout",
     "output_type": "stream",
     "text": [
      "[[None, 'NC', 'KSXB', 71.06888843990265], [None, 'NC', 'KBO', 95.206696327535], [None, 'TA', 'L02E', 113.24378785952425], [None, 'TA', 'K02D', 161.26754559939306]]\n"
     ]
    },
    {
     "name": "stderr",
     "output_type": "stream",
     "text": [
      "\r",
      " 60%|█████▉    | 591/990 [10:37<08:13,  1.24s/it]"
     ]
    },
    {
     "name": "stdout",
     "output_type": "stream",
     "text": [
      "[[None, 'NC', 'KSXB', 153.41521626402204], [None, 'NC', 'KBO', 179.60437047843598], [None, 'TA', 'L02E', 196.2977280045735], [None, 'TA', 'K02D', 246.3685896023795]]\n"
     ]
    },
    {
     "name": "stderr",
     "output_type": "stream",
     "text": [
      "\r",
      " 60%|█████▉    | 592/990 [10:38<07:48,  1.18s/it]"
     ]
    },
    {
     "name": "stdout",
     "output_type": "stream",
     "text": [
      "[[None, 'NC', 'KSXB', 152.4790362358778], [None, 'NC', 'KBO', 169.27705060704463], [None, 'TA', 'L02E', 194.37782387655415], [None, 'TA', 'K02D', 238.86356230099037]]\n"
     ]
    },
    {
     "name": "stderr",
     "output_type": "stream",
     "text": [
      "\r",
      " 60%|█████▉    | 593/990 [10:39<07:33,  1.14s/it]"
     ]
    },
    {
     "name": "stdout",
     "output_type": "stream",
     "text": [
      "[[None, 'NC', 'KSXB', 155.452291787495], [None, 'NC', 'KBO', 170.64934543512862], [None, 'TA', 'L02E', 197.0693242796872], [None, 'TA', 'K02D', 240.55563803742714]]\n"
     ]
    },
    {
     "name": "stderr",
     "output_type": "stream",
     "text": [
      "\r",
      " 60%|██████    | 594/990 [10:41<07:21,  1.12s/it]"
     ]
    },
    {
     "name": "stdout",
     "output_type": "stream",
     "text": [
      "[[None, 'NC', 'KSXB', 140.77871288717444], [None, 'NC', 'KBO', 154.20827864046765], [None, 'TA', 'L02E', 181.88939296656304], [None, 'TA', 'K02D', 224.29123677047335]]\n"
     ]
    },
    {
     "name": "stderr",
     "output_type": "stream",
     "text": [
      "\r",
      " 60%|██████    | 595/990 [10:42<07:34,  1.15s/it]"
     ]
    },
    {
     "name": "stdout",
     "output_type": "stream",
     "text": [
      "[[None, 'NC', 'KSXB', 173.24723461305], [None, 'NC', 'KBO', 201.6451304787743], [None, 'TA', 'L02E', 216.1051044798389], [None, 'TA', 'K02D', 267.581515715339]]\n"
     ]
    },
    {
     "name": "stderr",
     "output_type": "stream",
     "text": [
      "\r",
      " 60%|██████    | 596/990 [10:43<07:22,  1.12s/it]"
     ]
    },
    {
     "name": "stdout",
     "output_type": "stream",
     "text": [
      "[[None, 'NC', 'KSXB', 141.9464307232787], [None, 'NC', 'KBO', 156.8524068849355], [None, 'TA', 'L02E', 183.39404240511357], [None, 'TA', 'K02D', 226.70982780923515]]\n"
     ]
    },
    {
     "name": "stderr",
     "output_type": "stream",
     "text": [
      "\r",
      " 60%|██████    | 597/990 [10:44<07:15,  1.11s/it]"
     ]
    },
    {
     "name": "stdout",
     "output_type": "stream",
     "text": [
      "[[None, 'NC', 'KSXB', 155.84444338573408], [None, 'NC', 'KBO', 173.89432300282098], [None, 'TA', 'K02D', 243.23861608252963]]\n"
     ]
    },
    {
     "name": "stderr",
     "output_type": "stream",
     "text": [
      "\r",
      " 60%|██████    | 598/990 [10:45<07:09,  1.10s/it]"
     ]
    },
    {
     "name": "stdout",
     "output_type": "stream",
     "text": [
      "[[None, 'NC', 'KSXB', 153.0475453282578], [None, 'NC', 'KBO', 169.04619438207564], [None, 'TA', 'L02E', 194.80311390842414], [None, 'TA', 'K02D', 238.79249639767124]]\n"
     ]
    },
    {
     "name": "stderr",
     "output_type": "stream",
     "text": [
      "\r",
      " 61%|██████    | 599/990 [10:46<07:05,  1.09s/it]"
     ]
    },
    {
     "name": "stdout",
     "output_type": "stream",
     "text": [
      "[[None, 'NC', 'KSXB', 139.10541302906384], [None, 'NC', 'KBO', 169.4356304707438], [None, 'TA', 'L02E', 181.92230017154856], [None, 'TA', 'K02D', 234.13634270847027]]\n"
     ]
    },
    {
     "name": "stderr",
     "output_type": "stream",
     "text": [
      "\r",
      " 61%|██████    | 600/990 [10:47<06:33,  1.01s/it]"
     ]
    },
    {
     "name": "stdout",
     "output_type": "stream",
     "text": [
      "[[None, 'NC', 'KSXB', 172.20973994652948], [None, 'TA', 'L02E', 215.04769336616562], [None, 'TA', 'K02D', 266.7817894918261]]\n"
     ]
    },
    {
     "name": "stderr",
     "output_type": "stream",
     "text": [
      "\r",
      " 61%|██████    | 601/990 [10:48<06:30,  1.00s/it]"
     ]
    },
    {
     "name": "stdout",
     "output_type": "stream",
     "text": [
      "[[None, 'NC', 'KSXB', 152.32692698540114], [None, 'TA', 'L02E', 195.219702895291], [None, 'TA', 'K02D', 245.9744218471183]]\n"
     ]
    },
    {
     "name": "stderr",
     "output_type": "stream",
     "text": [
      "\r",
      " 61%|██████    | 602/990 [10:49<06:43,  1.04s/it]"
     ]
    },
    {
     "name": "stdout",
     "output_type": "stream",
     "text": [
      "[[None, 'NC', 'KSXB', 185.39380660481163], [None, 'TA', 'L02E', 228.0892478564986], [None, 'TA', 'K02D', 280.8198616280209], [None, 'TA', 'J01E', 324.12176557533434]]\n"
     ]
    },
    {
     "name": "stderr",
     "output_type": "stream",
     "text": [
      "\r",
      " 61%|██████    | 603/990 [10:50<06:19,  1.02it/s]"
     ]
    },
    {
     "name": "stdout",
     "output_type": "stream",
     "text": [
      "[[None, 'NC', 'KSXB', 153.3708302920584], [None, 'TA', 'L02E', 196.2219333612393], [None, 'TA', 'K02D', 247.951030645122]]\n"
     ]
    },
    {
     "name": "stderr",
     "output_type": "stream",
     "text": [
      "\r",
      " 61%|██████    | 604/990 [10:51<06:00,  1.07it/s]"
     ]
    },
    {
     "name": "stdout",
     "output_type": "stream",
     "text": [
      "[[None, 'NC', 'KSXB', 147.90044401601898], [None, 'TA', 'L02E', 187.73620676251846], [None, 'TA', 'K02D', 226.77618808212645]]\n"
     ]
    },
    {
     "name": "stderr",
     "output_type": "stream",
     "text": [
      "\r",
      " 61%|██████    | 605/990 [10:51<05:47,  1.11it/s]"
     ]
    },
    {
     "name": "stdout",
     "output_type": "stream",
     "text": [
      "[[None, 'NC', 'KSXB', 152.3657482559938], [None, 'TA', 'L02E', 195.14551101905997], [None, 'TA', 'K02D', 243.87966991837789]]\n"
     ]
    },
    {
     "name": "stderr",
     "output_type": "stream",
     "text": [
      "\r",
      " 61%|██████    | 606/990 [10:52<05:32,  1.16it/s]"
     ]
    },
    {
     "name": "stdout",
     "output_type": "stream",
     "text": [
      "[[None, 'NC', 'KSXB', 154.63727468803938], [None, 'TA', 'L02E', 197.48058457683712], [None, 'TA', 'K02D', 246.8506758607442]]\n"
     ]
    },
    {
     "name": "stderr",
     "output_type": "stream",
     "text": [
      "\r",
      " 61%|██████▏   | 607/990 [10:53<05:22,  1.19it/s]"
     ]
    },
    {
     "name": "stdout",
     "output_type": "stream",
     "text": [
      "[[None, 'NC', 'KSXB', 153.62073167080612], [None, 'TA', 'L02E', 196.43806120546918], [None, 'TA', 'K02D', 248.52363123689256]]\n"
     ]
    },
    {
     "name": "stderr",
     "output_type": "stream",
     "text": [
      "\r",
      " 61%|██████▏   | 608/990 [10:54<05:59,  1.06it/s]"
     ]
    },
    {
     "name": "stdout",
     "output_type": "stream",
     "text": [
      "[[None, 'NC', 'KSXB', 184.04838033296826], [None, 'TA', 'L02E', 219.75650102359475], [None, 'TA', 'K02D', 279.4466372210519], [None, 'TA', 'J01E', 331.95862647801664]]\n"
     ]
    },
    {
     "name": "stderr",
     "output_type": "stream",
     "text": [
      "\r",
      " 62%|██████▏   | 609/990 [10:57<09:09,  1.44s/it]"
     ]
    },
    {
     "name": "stdout",
     "output_type": "stream",
     "text": [
      "[[None, 'NC', 'KSXB', 175.38854742619392], [None, 'TA', 'L02E', 218.27263858270268], [None, 'TA', 'K02D', 269.22902441994495]]\n"
     ]
    },
    {
     "name": "stderr",
     "output_type": "stream",
     "text": [
      "\r",
      " 62%|██████▏   | 610/990 [10:58<07:55,  1.25s/it]"
     ]
    },
    {
     "name": "stdout",
     "output_type": "stream",
     "text": [
      "[[None, 'NC', 'KSXB', 151.21151166598983], [None, 'TA', 'L02E', 194.09965316927557], [None, 'TA', 'K02D', 245.14470837750056]]\n"
     ]
    },
    {
     "name": "stderr",
     "output_type": "stream",
     "text": [
      "\r",
      " 62%|██████▏   | 611/990 [10:58<07:03,  1.12s/it]"
     ]
    },
    {
     "name": "stdout",
     "output_type": "stream",
     "text": [
      "[[None, 'NC', 'KSXB', 66.05791135444241], [None, 'TA', 'L02E', 108.83495448950042], [None, 'TA', 'K02D', 162.24869893249317]]\n"
     ]
    },
    {
     "name": "stderr",
     "output_type": "stream",
     "text": [
      "\r",
      " 62%|██████▏   | 612/990 [10:59<06:28,  1.03s/it]"
     ]
    },
    {
     "name": "stdout",
     "output_type": "stream",
     "text": [
      "[[None, 'NC', 'KSXB', 168.67869276422286], [None, 'TA', 'L02E', 211.32904373230957], [None, 'TA', 'K02D', 264.387245757244]]\n"
     ]
    },
    {
     "name": "stderr",
     "output_type": "stream",
     "text": [
      "\r",
      " 62%|██████▏   | 613/990 [11:01<07:40,  1.22s/it]"
     ]
    },
    {
     "name": "stdout",
     "output_type": "stream",
     "text": [
      "[[None, 'NC', 'KSXB', 132.9900993112147], [None, 'TA', 'L02E', 175.81739739196698], [None, 'TA', 'K02D', 227.99350168830838]]\n"
     ]
    },
    {
     "name": "stderr",
     "output_type": "stream",
     "text": [
      "\r",
      " 62%|██████▏   | 614/990 [11:02<06:45,  1.08s/it]"
     ]
    },
    {
     "name": "stdout",
     "output_type": "stream",
     "text": [
      "[[None, 'NC', 'KSXB', 146.80993960948996], [None, 'TA', 'L02E', 189.4286881430375], [None, 'TA', 'K02D', 237.11817788024888]]\n"
     ]
    },
    {
     "name": "stderr",
     "output_type": "stream",
     "text": [
      "\r",
      " 62%|██████▏   | 615/990 [11:02<06:13,  1.00it/s]"
     ]
    },
    {
     "name": "stdout",
     "output_type": "stream",
     "text": [
      "[[None, 'NC', 'KSXB', 140.03479056294407], [None, 'TA', 'L02E', 181.33679509635402], [None, 'TA', 'K02D', 224.28843052202936]]\n"
     ]
    },
    {
     "name": "stderr",
     "output_type": "stream",
     "text": [
      "\r",
      " 62%|██████▏   | 616/990 [11:03<05:51,  1.06it/s]"
     ]
    },
    {
     "name": "stdout",
     "output_type": "stream",
     "text": [
      "[[None, 'NC', 'KSXB', 161.6414007619961], [None, 'TA', 'L02E', 203.83146815779628], [None, 'TA', 'K02D', 258.4895884560014]]\n"
     ]
    },
    {
     "name": "stderr",
     "output_type": "stream",
     "text": [
      "\r",
      " 62%|██████▏   | 617/990 [11:04<05:34,  1.11it/s]"
     ]
    },
    {
     "name": "stdout",
     "output_type": "stream",
     "text": [
      "[[None, 'NC', 'KSXB', 160.23819534581946], [None, 'TA', 'L02E', 202.03592700788636], [None, 'TA', 'K02D', 246.0047703507495]]\n"
     ]
    },
    {
     "name": "stderr",
     "output_type": "stream",
     "text": [
      "\r",
      " 62%|██████▏   | 618/990 [11:05<06:02,  1.03it/s]"
     ]
    },
    {
     "name": "stdout",
     "output_type": "stream",
     "text": [
      "[[None, 'NC', 'KSXB', 138.03313700697223], [None, 'TA', 'L02E', 178.88909432771618], [None, 'TA', 'K02D', 220.7069597647935]]\n"
     ]
    },
    {
     "name": "stderr",
     "output_type": "stream",
     "text": [
      "\r",
      " 63%|██████▎   | 619/990 [11:06<05:44,  1.08it/s]"
     ]
    },
    {
     "name": "stdout",
     "output_type": "stream",
     "text": [
      "[[None, 'NC', 'KSXB', 179.38808111112644], [None, 'TA', 'K02D', 277.1464925719976], [None, 'TA', 'J01E', 325.7433463746547]]\n"
     ]
    },
    {
     "name": "stderr",
     "output_type": "stream",
     "text": [
      "\r",
      " 63%|██████▎   | 620/990 [11:07<05:28,  1.13it/s]"
     ]
    },
    {
     "name": "stdout",
     "output_type": "stream",
     "text": [
      "[[None, 'NC', 'KSXB', 158.28731226947326], [None, 'TA', 'K02D', 256.0047530564351], [None, 'TA', 'J01E', 305.2535478936898]]\n"
     ]
    },
    {
     "name": "stderr",
     "output_type": "stream",
     "text": [
      "\r",
      " 63%|██████▎   | 621/990 [11:08<05:11,  1.18it/s]"
     ]
    },
    {
     "name": "stdout",
     "output_type": "stream",
     "text": [
      "[[None, 'NC', 'KSXB', 132.4243060961992], [None, 'TA', 'K02D', 183.9849913822246], [None, 'TA', 'J01E', 204.1467621353884]]\n"
     ]
    },
    {
     "name": "stderr",
     "output_type": "stream",
     "text": [
      "\r",
      " 63%|██████▎   | 622/990 [11:08<05:10,  1.19it/s]"
     ]
    },
    {
     "name": "stdout",
     "output_type": "stream",
     "text": [
      "[[None, 'UO', 'DBO', 44.87462922595755], [None, 'TA', 'J01E', 55.73130800341961], [None, 'TA', 'K02D', 91.63985767110769]]\n"
     ]
    },
    {
     "name": "stderr",
     "output_type": "stream",
     "text": [
      "\r",
      " 63%|██████▎   | 623/990 [11:09<05:01,  1.22it/s]"
     ]
    },
    {
     "name": "stdout",
     "output_type": "stream",
     "text": [
      "[[None, 'UO', 'DBO', 53.56141061025011], [None, 'TA', 'J01E', 73.2926766793707], [None, 'TA', 'K02D', 105.98731046881518]]\n"
     ]
    },
    {
     "name": "stderr",
     "output_type": "stream",
     "text": [
      "\r",
      " 63%|██████▎   | 624/990 [11:10<05:05,  1.20it/s]"
     ]
    },
    {
     "name": "stdout",
     "output_type": "stream",
     "text": [
      "[[None, 'TA', 'J01E', 44.69703355397958], [None, 'TA', 'K02D', 91.0261255607017], [None, 'UO', 'DBO', 100.16326560710415]]\n"
     ]
    },
    {
     "name": "stderr",
     "output_type": "stream",
     "text": [
      "\r",
      " 63%|██████▎   | 625/990 [11:11<05:11,  1.17it/s]"
     ]
    },
    {
     "name": "stdout",
     "output_type": "stream",
     "text": [
      "[[None, 'TA', 'J01E', 48.700024831020045], [None, 'TA', 'K02D', 93.35234699261702], [None, 'UO', 'DBO', 104.37198318795522]]\n"
     ]
    },
    {
     "name": "stderr",
     "output_type": "stream",
     "text": [
      "\r",
      " 63%|██████▎   | 626/990 [11:12<05:30,  1.10it/s]"
     ]
    },
    {
     "name": "stdout",
     "output_type": "stream",
     "text": [
      "[[None, 'NC', 'KSXB', 133.157649528543], [None, 'TA', 'K02D', 228.9241873748951], [None, 'TA', 'J01E', 273.4104245643677], [None, 'UO', 'DBO', 285.1592225545371]]\n"
     ]
    },
    {
     "name": "stderr",
     "output_type": "stream",
     "text": [
      "\r",
      " 63%|██████▎   | 627/990 [11:13<06:10,  1.02s/it]"
     ]
    },
    {
     "name": "stdout",
     "output_type": "stream",
     "text": [
      "[[None, 'NC', 'KSXB', 147.22497893095758], [None, 'TA', 'L02E', 184.09529395187343], [None, 'TA', 'K02D', 217.21551765724314], [None, 'TA', 'J01E', 244.46548026605154], [None, 'UO', 'DBO', 274.9068368964078]]\n"
     ]
    },
    {
     "name": "stderr",
     "output_type": "stream",
     "text": [
      "\r",
      " 63%|██████▎   | 628/990 [11:15<06:51,  1.14s/it]"
     ]
    },
    {
     "name": "stdout",
     "output_type": "stream",
     "text": [
      "[[None, 'UO', 'DBO', 75.24898398091864], [None, 'TA', 'J01E', 126.46595157677767], [None, 'TA', 'K02D', 129.6579971178382], [None, 'TA', 'L02E', 170.27178203565535], [None, 'NC', 'KSXB', 213.12995458298528]]\n"
     ]
    },
    {
     "name": "stderr",
     "output_type": "stream",
     "text": [
      "\r",
      " 64%|██████▎   | 629/990 [11:15<06:17,  1.04s/it]"
     ]
    },
    {
     "name": "stdout",
     "output_type": "stream",
     "text": [
      "[[None, 'NC', 'KSXB', 162.76045795218377], [None, 'TA', 'L02E', 205.07692237386956], [None, 'TA', 'K02D', 259.39031565094064]]\n"
     ]
    },
    {
     "name": "stderr",
     "output_type": "stream",
     "text": [
      "\r",
      " 64%|██████▎   | 630/990 [11:16<05:53,  1.02it/s]"
     ]
    },
    {
     "name": "stdout",
     "output_type": "stream",
     "text": [
      "[[None, 'TA', 'J01E', 26.81347140754846], [None, 'TA', 'K02D', 76.83972067696448], [None, 'UO', 'DBO', 82.1350449130004]]\n"
     ]
    },
    {
     "name": "stderr",
     "output_type": "stream",
     "text": [
      "\r",
      " 64%|██████▎   | 631/990 [11:17<05:32,  1.08it/s]"
     ]
    },
    {
     "name": "stdout",
     "output_type": "stream",
     "text": [
      "[[None, 'UO', 'DBO', 110.74876141126077], [None, 'TA', 'J01E', 120.91065748567155], [None, 'TA', 'K02D', 162.04722775554222]]\n"
     ]
    },
    {
     "name": "stderr",
     "output_type": "stream",
     "text": [
      "\r",
      " 64%|██████▍   | 632/990 [11:18<05:58,  1.00s/it]"
     ]
    },
    {
     "name": "stdout",
     "output_type": "stream",
     "text": [
      "[[None, 'TA', 'J01E', 252.64136440336142], [None, 'TA', 'K02D', 282.1566728477347], [None, 'NC', 'KSXB', 304.6244598974253], [None, 'TA', 'L02E', 306.99478301901013], [None, 'UO', 'DBO', 308.5760817821548]]\n"
     ]
    },
    {
     "name": "stderr",
     "output_type": "stream",
     "text": [
      "\r",
      " 64%|██████▍   | 633/990 [11:19<05:35,  1.06it/s]"
     ]
    },
    {
     "name": "stdout",
     "output_type": "stream",
     "text": [
      "[[None, 'NC', 'KSXB', 98.46767929374425], [None, 'TA', 'L02E', 139.38005003734867], [None, 'TA', 'K02D', 182.88822525636172]]\n"
     ]
    },
    {
     "name": "stderr",
     "output_type": "stream",
     "text": [
      "\r",
      " 64%|██████▍   | 634/990 [11:20<05:49,  1.02it/s]"
     ]
    },
    {
     "name": "stdout",
     "output_type": "stream",
     "text": [
      "[[None, 'NC', 'KSXB', 120.3124194538131], [None, 'NC', 'KBO', 146.71563573909805], [None, 'TA', 'L02E', 163.15527988793545], [None, 'TA', 'K02D', 213.03107271996828]]\n"
     ]
    },
    {
     "name": "stderr",
     "output_type": "stream",
     "text": [
      "\r",
      " 64%|██████▍   | 635/990 [11:21<05:33,  1.07it/s]"
     ]
    },
    {
     "name": "stdout",
     "output_type": "stream",
     "text": [
      "[[None, 'TA', 'L02E', 47.0286927280524], [None, 'TA', 'K02D', 50.94340598039318], [None, 'UO', 'DBO', 77.22814205329749]]\n"
     ]
    },
    {
     "name": "stderr",
     "output_type": "stream",
     "text": [
      "\r",
      " 64%|██████▍   | 636/990 [11:22<05:40,  1.04it/s]"
     ]
    },
    {
     "name": "stdout",
     "output_type": "stream",
     "text": [
      "[[None, 'NC', 'KSXB', 154.40456017540953], [None, 'NC', 'KBO', 184.5887318130739], [None, 'TA', 'L02E', 197.19594703454197], [None, 'TA', 'K02D', 249.49440821803057]]\n"
     ]
    },
    {
     "name": "stderr",
     "output_type": "stream",
     "text": [
      "\r",
      " 64%|██████▍   | 637/990 [11:23<06:08,  1.04s/it]"
     ]
    },
    {
     "name": "stdout",
     "output_type": "stream",
     "text": [
      "[[None, 'NC', 'KSXB', 155.85077736032216], [None, 'NC', 'KBO', 172.09685892420444], [None, 'TA', 'L02E', 197.67194724855605], [None, 'TA', 'K02D', 241.8164931292901]]\n"
     ]
    },
    {
     "name": "stderr",
     "output_type": "stream",
     "text": [
      "\r",
      " 64%|██████▍   | 638/990 [11:24<06:06,  1.04s/it]"
     ]
    },
    {
     "name": "stdout",
     "output_type": "stream",
     "text": [
      "[[None, 'NC', 'KSXB', 144.24194470223702], [None, 'NC', 'KBO', 175.0571028301482], [None, 'TA', 'L02E', 187.0125166674201], [None, 'TA', 'K02D', 239.54369528817705]]\n"
     ]
    },
    {
     "name": "stderr",
     "output_type": "stream",
     "text": [
      "\r",
      " 65%|██████▍   | 639/990 [11:25<06:02,  1.03s/it]"
     ]
    },
    {
     "name": "stdout",
     "output_type": "stream",
     "text": [
      "[[None, 'NC', 'KSXB', 151.76616450336883], [None, 'NC', 'KBO', 179.45337936121535], [None, 'TA', 'L02E', 194.65730308568334], [None, 'TA', 'K02D', 245.55739472145495]]\n"
     ]
    },
    {
     "name": "stderr",
     "output_type": "stream",
     "text": [
      "\r",
      " 65%|██████▍   | 640/990 [11:26<05:57,  1.02s/it]"
     ]
    },
    {
     "name": "stdout",
     "output_type": "stream",
     "text": [
      "[[None, 'NC', 'KSXB', 140.64192313446935], [None, 'NC', 'KBO', 170.12061258521416], [None, 'TA', 'L02E', 183.49872824232085], [None, 'TA', 'K02D', 235.2722696946924]]\n"
     ]
    },
    {
     "name": "stderr",
     "output_type": "stream",
     "text": [
      "\r",
      " 65%|██████▍   | 641/990 [11:27<05:24,  1.07it/s]"
     ]
    },
    {
     "name": "stdout",
     "output_type": "stream",
     "text": [
      "[[None, 'NC', 'KSXB', 45.62898545773079], [None, 'NC', 'KBO', 80.37328806081814], [None, 'TA', 'L02E', 88.503676914374]]\n"
     ]
    },
    {
     "name": "stderr",
     "output_type": "stream",
     "text": [
      "\r",
      " 65%|██████▍   | 642/990 [11:28<06:06,  1.05s/it]"
     ]
    },
    {
     "name": "stdout",
     "output_type": "stream",
     "text": [
      "[[None, 'NC', 'KSXB', 159.91381518510497], [None, 'NC', 'KBO', 195.59321177939944], [None, 'TA', 'L02E', 201.86133159461315], [None, 'TA', 'K02D', 257.0776814764315], [None, 'UO', 'DBO', 312.24510510914365]]\n"
     ]
    },
    {
     "name": "stderr",
     "output_type": "stream",
     "text": [
      "\r",
      " 65%|██████▍   | 643/990 [11:29<06:05,  1.05s/it]"
     ]
    },
    {
     "name": "stdout",
     "output_type": "stream",
     "text": [
      "[[None, 'NC', 'KSXB', 155.452291787495], [None, 'NC', 'KBO', 170.64934543512862], [None, 'TA', 'L02E', 197.0693242796872], [None, 'TA', 'K02D', 240.55563803742714]]\n"
     ]
    },
    {
     "name": "stderr",
     "output_type": "stream",
     "text": [
      "\r",
      " 65%|██████▌   | 644/990 [11:30<05:32,  1.04it/s]"
     ]
    },
    {
     "name": "stdout",
     "output_type": "stream",
     "text": [
      "[[None, 'NC', 'KSXB', 199.85948113763942], [None, 'NC', 'KBO', 220.68960264337343], [None, 'TA', 'K02D', 289.61281141801703]]\n"
     ]
    },
    {
     "name": "stderr",
     "output_type": "stream",
     "text": [
      "\r",
      " 65%|██████▌   | 645/990 [11:31<05:13,  1.10it/s]"
     ]
    },
    {
     "name": "stdout",
     "output_type": "stream",
     "text": [
      "[[None, 'TA', 'L02E', 83.446234603439], [None, 'TA', 'K02D', 93.66929877547999], [None, 'UO', 'DBO', 99.39579379703346]]\n"
     ]
    },
    {
     "name": "stderr",
     "output_type": "stream",
     "text": [
      "\r",
      " 65%|██████▌   | 646/990 [11:32<05:23,  1.06it/s]"
     ]
    },
    {
     "name": "stdout",
     "output_type": "stream",
     "text": [
      "[[None, 'NC', 'KSXB', 172.76888454867014], [None, 'NC', 'KBO', 192.61750393646776], [None, 'TA', 'L02E', 215.23058668595044], [None, 'TA', 'K02D', 261.64674535247883]]\n"
     ]
    },
    {
     "name": "stderr",
     "output_type": "stream",
     "text": [
      "\r",
      " 65%|██████▌   | 647/990 [11:33<05:01,  1.14it/s]"
     ]
    },
    {
     "name": "stdout",
     "output_type": "stream",
     "text": [
      "[[None, 'NC', 'KSXB', 132.7025657591972], [None, 'NC', 'KBO', 165.08633550119322], [None, 'TA', 'K02D', 228.58441004713353]]\n"
     ]
    },
    {
     "name": "stderr",
     "output_type": "stream",
     "text": [
      "\r",
      " 65%|██████▌   | 648/990 [11:34<06:30,  1.14s/it]"
     ]
    },
    {
     "name": "stdout",
     "output_type": "stream",
     "text": [
      "[[None, 'NC', 'KEB', 73.52215565563175], [None, 'NC', 'KSXB', 111.43258900895795], [None, 'TA', 'K02D', 112.0923447615354], [None, 'TA', 'L02E', 116.57835392676006], [None, 'TA', 'J01E', 119.42750773177659], [None, 'UO', 'DBO', 161.94119252652436]]\n"
     ]
    },
    {
     "name": "stderr",
     "output_type": "stream",
     "text": [
      "\r",
      " 66%|██████▌   | 649/990 [11:36<07:02,  1.24s/it]"
     ]
    },
    {
     "name": "stdout",
     "output_type": "stream",
     "text": [
      "[[None, 'NC', 'KSXB', 148.40564717850106], [None, 'NC', 'KBO', 185.09705885792667], [None, 'TA', 'L02E', 190.178656583606], [None, 'TA', 'K02D', 245.76110077198987], [None, 'TA', 'J01E', 292.59075199021066], [None, 'UO', 'DBO', 300.67292928244683]]\n"
     ]
    },
    {
     "name": "stderr",
     "output_type": "stream",
     "text": [
      "\r",
      " 66%|██████▌   | 650/990 [11:37<06:34,  1.16s/it]"
     ]
    },
    {
     "name": "stdout",
     "output_type": "stream",
     "text": [
      "[[None, 'NC', 'KSXB', 155.09457269813763], [None, 'NC', 'KBO', 186.5211136738795], [None, 'TA', 'L02E', 197.77786848763537], [None, 'TA', 'K02D', 250.7511221768082]]\n"
     ]
    },
    {
     "name": "stderr",
     "output_type": "stream",
     "text": [
      "\r",
      " 66%|██████▌   | 651/990 [11:38<06:18,  1.12s/it]"
     ]
    },
    {
     "name": "stdout",
     "output_type": "stream",
     "text": [
      "[[None, 'NC', 'KSXB', 137.78533821077087], [None, 'NC', 'KBO', 163.2366288375762], [None, 'TA', 'L02E', 180.62218056006776], [None, 'TA', 'K02D', 230.14521457535022]]\n"
     ]
    },
    {
     "name": "stderr",
     "output_type": "stream",
     "text": [
      "\r",
      " 66%|██████▌   | 652/990 [11:39<05:37,  1.00it/s]"
     ]
    },
    {
     "name": "stdout",
     "output_type": "stream",
     "text": [
      "[[None, 'NC', 'KSXB', 170.24591027686753], [None, 'NC', 'KBO', 190.3872781505933], [None, 'TA', 'K02D', 259.3225845764279]]\n"
     ]
    },
    {
     "name": "stderr",
     "output_type": "stream",
     "text": [
      "\r",
      " 66%|██████▌   | 653/990 [11:40<05:39,  1.01s/it]"
     ]
    },
    {
     "name": "stdout",
     "output_type": "stream",
     "text": [
      "[[None, 'NC', 'KSXB', 155.0633813993699], [None, 'NC', 'KBO', 171.57586144127012], [None, 'TA', 'L02E', 196.9280367101373], [None, 'TA', 'K02D', 241.2384102933704]]\n"
     ]
    },
    {
     "name": "stderr",
     "output_type": "stream",
     "text": [
      "\r",
      " 66%|██████▌   | 654/990 [11:41<05:34,  1.00it/s]"
     ]
    },
    {
     "name": "stdout",
     "output_type": "stream",
     "text": [
      "[[None, 'NC', 'KBO', 10.583386389977305], [None, 'TA', 'L02E', 50.18989766668718], [None, 'NC', 'KSXB', 58.084246156073874], [None, 'TA', 'K02D', 60.87171838626698]]\n"
     ]
    },
    {
     "name": "stderr",
     "output_type": "stream",
     "text": [
      "\r",
      " 66%|██████▌   | 655/990 [11:42<05:58,  1.07s/it]"
     ]
    },
    {
     "name": "stdout",
     "output_type": "stream",
     "text": [
      "[[None, 'NC', 'KSXB', 154.40456017540953], [None, 'NC', 'KBO', 184.5887318130739], [None, 'TA', 'L02E', 197.19594703454197], [None, 'TA', 'K02D', 249.49440821803057]]\n"
     ]
    },
    {
     "name": "stderr",
     "output_type": "stream",
     "text": [
      "\r",
      " 66%|██████▋   | 656/990 [11:43<06:13,  1.12s/it]"
     ]
    },
    {
     "name": "stdout",
     "output_type": "stream",
     "text": [
      "[[None, 'TA', 'J01E', 31.26941704871218], [None, 'TA', 'K02D', 77.29549428195088], [None, 'UO', 'DBO', 87.1561722152268]]\n"
     ]
    },
    {
     "name": "stderr",
     "output_type": "stream",
     "text": [
      " 66%|██████▋   | 658/990 [11:45<05:51,  1.06s/it]"
     ]
    },
    {
     "name": "stdout",
     "output_type": "stream",
     "text": [
      "[[None, 'NC', 'KSXB', 152.2427209139988], [None, 'NC', 'KBO', 178.97165129716154], [None, 'TA', 'L02E', 195.13311212314693], [None, 'TA', 'K02D', 245.49987450132284]]\n"
     ]
    },
    {
     "name": "stderr",
     "output_type": "stream",
     "text": [
      "\r",
      " 67%|██████▋   | 659/990 [11:48<08:04,  1.46s/it]"
     ]
    },
    {
     "name": "stdout",
     "output_type": "stream",
     "text": [
      "[[None, 'NC', 'KBO', 276.00190767731283], [None, 'NC', 'KSXB', 285.61671208624324], [None, 'TA', 'L02E', 319.634853324165], [None, 'TA', 'K02D', 342.9860166790708], [None, 'TA', 'J01E', 356.98951455375266], [None, 'UO', 'DBO', 397.72157505716615]]\n"
     ]
    },
    {
     "name": "stderr",
     "output_type": "stream",
     "text": [
      "\r",
      " 67%|██████▋   | 660/990 [11:49<07:16,  1.32s/it]"
     ]
    },
    {
     "name": "stdout",
     "output_type": "stream",
     "text": [
      "[[None, 'NC', 'KSXB', 155.09457269813763], [None, 'NC', 'KBO', 186.5211136738795], [None, 'TA', 'L02E', 197.77786848763537], [None, 'TA', 'K02D', 250.7511221768082]]\n"
     ]
    },
    {
     "name": "stderr",
     "output_type": "stream",
     "text": [
      "\r",
      " 67%|██████▋   | 661/990 [11:49<06:17,  1.15s/it]"
     ]
    },
    {
     "name": "stdout",
     "output_type": "stream",
     "text": [
      "[[None, 'NC', 'KSXB', 147.79505779617074], [None, 'NC', 'KBO', 176.69858825501709], [None, 'TA', 'K02D', 242.19838228329635]]\n"
     ]
    },
    {
     "name": "stderr",
     "output_type": "stream",
     "text": [
      "\r",
      " 67%|██████▋   | 662/990 [11:50<05:35,  1.02s/it]"
     ]
    },
    {
     "name": "stdout",
     "output_type": "stream",
     "text": [
      "[[None, 'NC', 'KSXB', 47.2867052575905], [None, 'TA', 'L02E', 80.16317683618087], [None, 'TA', 'K02D', 118.32605743537033]]\n"
     ]
    },
    {
     "name": "stderr",
     "output_type": "stream",
     "text": [
      "\r",
      " 67%|██████▋   | 663/990 [11:51<06:04,  1.11s/it]"
     ]
    },
    {
     "name": "stdout",
     "output_type": "stream",
     "text": [
      "[[None, 'NC', 'KSXB', 124.59072069549798], [None, 'NC', 'KBO', 155.54078502350188], [None, 'TA', 'L02E', 167.40704159519638], [None, 'TA', 'K02D', 219.7664890172766], [None, 'TA', 'J01E', 263.7489807491835]]\n"
     ]
    },
    {
     "name": "stderr",
     "output_type": "stream",
     "text": [
      " 67%|██████▋   | 665/990 [11:53<05:21,  1.01it/s]"
     ]
    },
    {
     "name": "stdout",
     "output_type": "stream",
     "text": [
      "[[None, 'UO', 'DBO', 95.64393586628346], [None, 'TA', 'K02D', 113.24392818233358], [None, 'TA', 'L02E', 120.09912931551041]]\n"
     ]
    },
    {
     "name": "stderr",
     "output_type": "stream",
     "text": [
      "\r",
      " 67%|██████▋   | 666/990 [11:54<05:25,  1.01s/it]"
     ]
    },
    {
     "name": "stdout",
     "output_type": "stream",
     "text": [
      "[[None, 'TA', 'K02D', 39.348833599507934], [None, 'TA', 'L02E', 61.388600294093244], [None, 'TA', 'J01E', 84.93791433297788]]\n"
     ]
    },
    {
     "name": "stderr",
     "output_type": "stream",
     "text": [
      " 67%|██████▋   | 668/990 [11:56<05:13,  1.03it/s]"
     ]
    },
    {
     "name": "stdout",
     "output_type": "stream",
     "text": [
      "[[None, 'TA', 'J01E', 30.16756616588817], [None, 'TA', 'K02D', 76.526951599816], [None, 'UO', 'DBO', 86.0480878741275]]\n"
     ]
    },
    {
     "name": "stderr",
     "output_type": "stream",
     "text": [
      " 68%|██████▊   | 670/990 [11:59<06:24,  1.20s/it]"
     ]
    },
    {
     "name": "stdout",
     "output_type": "stream",
     "text": [
      "[[None, 'NC', 'KEB', 244.19761881155932], [None, 'TA', 'J01E', 272.64541885245814], [None, 'NC', 'KBO', 276.26540511040014], [None, 'TA', 'K02D', 301.7102826806122], [None, 'NC', 'KSXB', 321.8592968170141], [None, 'TA', 'L02E', 325.453679549927], [None, 'UO', 'DBO', 328.5771449745733]]\n"
     ]
    },
    {
     "name": "stderr",
     "output_type": "stream",
     "text": [
      "\r",
      " 68%|██████▊   | 671/990 [12:00<06:15,  1.18s/it]"
     ]
    },
    {
     "name": "stdout",
     "output_type": "stream",
     "text": [
      "[[None, 'NC', 'KSXB', 175.53441810665177], [None, 'NC', 'KBO', 204.97957655229322], [None, 'TA', 'L02E', 218.3341845821221], [None, 'TA', 'K02D', 270.4139422625847]]\n"
     ]
    },
    {
     "name": "stderr",
     "output_type": "stream",
     "text": [
      "\r",
      " 68%|██████▊   | 672/990 [12:01<05:58,  1.13s/it]"
     ]
    },
    {
     "name": "stdout",
     "output_type": "stream",
     "text": [
      "[[None, 'NC', 'KSXB', 142.8364342589926], [None, 'NC', 'KBO', 176.2775564687135], [None, 'TA', 'L02E', 185.31798457869957], [None, 'TA', 'K02D', 239.2079627331624]]\n"
     ]
    },
    {
     "name": "stderr",
     "output_type": "stream",
     "text": [
      "\r",
      " 68%|██████▊   | 673/990 [12:02<06:29,  1.23s/it]"
     ]
    },
    {
     "name": "stdout",
     "output_type": "stream",
     "text": [
      "[[None, 'NC', 'KSXB', 156.3324242623839], [None, 'NC', 'KBO', 173.60809860835514], [None, 'TA', 'L02E', 198.33907423756537], [None, 'TA', 'K02D', 243.1249172266657], [None, 'TA', 'J01E', 279.5541177692404], [None, 'UO', 'DBO', 301.23000425020683]]\n"
     ]
    },
    {
     "name": "stderr",
     "output_type": "stream",
     "text": [
      "\r",
      " 68%|██████▊   | 674/990 [12:04<07:10,  1.36s/it]"
     ]
    },
    {
     "name": "stdout",
     "output_type": "stream",
     "text": [
      "[[None, 'NC', 'KSXB', 152.725487534439], [None, 'NC', 'KBO', 170.0469847444219], [None, 'TA', 'L02E', 194.71740977780613], [None, 'TA', 'K02D', 239.52680533942947], [None, 'TA', 'J01E', 276.0805586975555], [None, 'UO', 'DBO', 297.6257622897074]]\n"
     ]
    },
    {
     "name": "stderr",
     "output_type": "stream",
     "text": [
      "\r",
      " 68%|██████▊   | 675/990 [12:06<07:41,  1.46s/it]"
     ]
    },
    {
     "name": "stdout",
     "output_type": "stream",
     "text": [
      "[[None, 'NC', 'KEB', 309.6064103609429], [None, 'TA', 'J01E', 335.2177552941835], [None, 'NC', 'KBO', 344.0185729323974], [None, 'TA', 'K02D', 367.45850214226226], [None, 'NC', 'KSXB', 389.63028052979234], [None, 'UO', 'DBO', 391.0548417908525], [None, 'TA', 'L02E', 392.99561589585323]]\n"
     ]
    },
    {
     "name": "stderr",
     "output_type": "stream",
     "text": [
      "\r",
      " 68%|██████▊   | 676/990 [12:07<06:59,  1.34s/it]"
     ]
    },
    {
     "name": "stdout",
     "output_type": "stream",
     "text": [
      "[[None, 'NC', 'KSXB', 126.1272624774109], [None, 'NC', 'KBO', 156.14394565700283], [None, 'TA', 'L02E', 168.98689870414316], [None, 'TA', 'K02D', 220.87533506339574]]\n"
     ]
    },
    {
     "name": "stderr",
     "output_type": "stream",
     "text": [
      "\r",
      " 68%|██████▊   | 677/990 [12:07<05:58,  1.14s/it]"
     ]
    },
    {
     "name": "stdout",
     "output_type": "stream",
     "text": [
      "[[None, 'NC', 'KSXB', 153.28158658971932], [None, 'NC', 'KBO', 171.63398893962946], [None, 'TA', 'K02D', 240.88876928514682]]\n"
     ]
    },
    {
     "name": "stderr",
     "output_type": "stream",
     "text": [
      "\r",
      " 68%|██████▊   | 678/990 [12:08<05:28,  1.05s/it]"
     ]
    },
    {
     "name": "stdout",
     "output_type": "stream",
     "text": [
      "[[None, 'TA', 'L02E', 76.01338996686327], [None, 'TA', 'K02D', 86.53514836726903], [None, 'UO', 'DBO', 95.44556035220282]]\n"
     ]
    },
    {
     "name": "stderr",
     "output_type": "stream",
     "text": [
      "\r",
      " 69%|██████▊   | 679/990 [12:09<05:10,  1.00it/s]"
     ]
    },
    {
     "name": "stdout",
     "output_type": "stream",
     "text": [
      "[[None, 'TA', 'L02E', 169.14375831466077], [None, 'TA', 'K02D', 198.7821613095261], [None, 'UO', 'DBO', 203.78352770370572]]\n"
     ]
    },
    {
     "name": "stderr",
     "output_type": "stream",
     "text": [
      "\r",
      " 69%|██████▊   | 680/990 [12:10<04:45,  1.09it/s]"
     ]
    },
    {
     "name": "stdout",
     "output_type": "stream",
     "text": [
      "[[None, 'TA', 'J01E', 26.39248938432328], [None, 'TA', 'K02D', 75.72900512234648], [None, 'UO', 'DBO', 81.93772453591441]]\n"
     ]
    },
    {
     "name": "stderr",
     "output_type": "stream",
     "text": [
      "\r",
      " 69%|██████▉   | 681/990 [12:11<04:50,  1.06it/s]"
     ]
    },
    {
     "name": "stdout",
     "output_type": "stream",
     "text": [
      "[[None, 'NC', 'KSXB', 170.904522048303], [None, 'TA', 'L02E', 213.3956878983437], [None, 'TA', 'K02D', 267.11054698313325], [None, 'UO', 'DBO', 323.1282324825866]]\n"
     ]
    },
    {
     "name": "stderr",
     "output_type": "stream",
     "text": [
      " 69%|██████▉   | 683/990 [12:14<06:00,  1.18s/it]"
     ]
    },
    {
     "name": "stdout",
     "output_type": "stream",
     "text": [
      "[[None, 'NC', 'KBO', 175.02537234113754], [None, 'NC', 'KSXB', 199.56751780395317], [None, 'TA', 'L02E', 224.44184117836187], [None, 'TA', 'K02D', 235.52976162964148], [None, 'TA', 'J01E', 242.37784668741136], [None, 'UO', 'DBO', 286.9163948488795]]\n"
     ]
    },
    {
     "name": "stderr",
     "output_type": "stream",
     "text": [
      "\r",
      " 69%|██████▉   | 684/990 [12:15<06:49,  1.34s/it]"
     ]
    },
    {
     "name": "stdout",
     "output_type": "stream",
     "text": [
      "[[None, 'NC', 'KSXB', 161.6414007619961], [None, 'NC', 'KBO', 196.17215324975777], [None, 'TA', 'L02E', 203.83146815779628], [None, 'TA', 'K02D', 258.4895884560014], [None, 'NC', 'KEB', 268.370097981889], [None, 'TA', 'J01E', 304.14309448097646], [None, 'UO', 'DBO', 313.99697950748504]]\n"
     ]
    },
    {
     "name": "stderr",
     "output_type": "stream",
     "text": [
      "\r",
      " 69%|██████▉   | 685/990 [12:16<06:16,  1.23s/it]"
     ]
    },
    {
     "name": "stdout",
     "output_type": "stream",
     "text": [
      "[[None, 'NC', 'KSXB', 74.24745989572224], [None, 'TA', 'L02E', 99.13267980495279], [None, 'TA', 'K02D', 158.85621077896607], [None, 'NC', 'KEB', 193.8802753260399]]\n"
     ]
    },
    {
     "name": "stderr",
     "output_type": "stream",
     "text": [
      "\r",
      " 69%|██████▉   | 686/990 [12:17<06:01,  1.19s/it]"
     ]
    },
    {
     "name": "stdout",
     "output_type": "stream",
     "text": [
      "[[None, 'NC', 'KEB', 54.977849003788485], [None, 'TA', 'J01E', 58.041565736299866], [None, 'TA', 'K02D', 103.9270144058403], [None, 'UO', 'DBO', 113.18193921295324]]\n"
     ]
    },
    {
     "name": "stderr",
     "output_type": "stream",
     "text": [
      "\r",
      " 69%|██████▉   | 687/990 [12:18<05:29,  1.09s/it]"
     ]
    },
    {
     "name": "stdout",
     "output_type": "stream",
     "text": [
      "[[None, 'NC', 'KSXB', 155.193901738412], [None, 'TA', 'L02E', 195.916248170792], [None, 'TA', 'K02D', 252.9443132602561]]\n"
     ]
    },
    {
     "name": "stderr",
     "output_type": "stream",
     "text": [
      " 70%|██████▉   | 689/990 [12:21<06:48,  1.36s/it]"
     ]
    },
    {
     "name": "stdout",
     "output_type": "stream",
     "text": [
      "[[None, 'NC', 'KEB', 34.91311312360721], [None, 'NC', 'KBO', 70.35549635497888], [None, 'TA', 'J01E', 79.83361028903337], [None, 'TA', 'K02D', 85.98371239178626], [None, 'TA', 'L02E', 111.42806297513525], [None, 'UO', 'DBO', 127.37746535829595]]\n"
     ]
    },
    {
     "name": "stderr",
     "output_type": "stream",
     "text": [
      " 70%|██████▉   | 691/990 [12:23<05:43,  1.15s/it]"
     ]
    },
    {
     "name": "stdout",
     "output_type": "stream",
     "text": [
      "[[None, 'UO', 'DBO', 70.81924561420536], [None, 'TA', 'J01E', 90.24509076408337], [None, 'TA', 'K02D', 124.36380284021699]]\n"
     ]
    },
    {
     "name": "stderr",
     "output_type": "stream",
     "text": [
      " 70%|███████   | 693/990 [12:26<06:31,  1.32s/it]"
     ]
    },
    {
     "name": "stdout",
     "output_type": "stream",
     "text": [
      "[[None, 'NC', 'KSXB', 165.60403466699844], [None, 'NC', 'KBO', 197.79491588004132], [None, 'TA', 'L02E', 208.16225807389074], [None, 'TA', 'K02D', 261.6455899494082], [None, 'TA', 'J01E', 306.0064093750666], [None, 'UO', 'DBO', 317.76399459293805]]\n"
     ]
    },
    {
     "name": "stderr",
     "output_type": "stream",
     "text": [
      "\r",
      " 70%|███████   | 694/990 [12:28<06:09,  1.25s/it]"
     ]
    },
    {
     "name": "stdout",
     "output_type": "stream",
     "text": [
      "[[None, 'NC', 'KSXB', 153.43341557422147], [None, 'NC', 'KBO', 184.13457167442118], [None, 'TA', 'L02E', 196.18816295443793], [None, 'TA', 'K02D', 248.7560481119303]]\n"
     ]
    },
    {
     "name": "stderr",
     "output_type": "stream",
     "text": [
      "\r",
      " 70%|███████   | 695/990 [12:29<06:12,  1.26s/it]"
     ]
    },
    {
     "name": "stdout",
     "output_type": "stream",
     "text": [
      "[[None, 'NC', 'KSXB', 158.36293890543595], [None, 'TA', 'L02E', 200.02657557452136], [None, 'TA', 'K02D', 255.7789925148442], [None, 'TA', 'J01E', 302.67743923980083], [None, 'UO', 'DBO', 310.58298820729385]]\n"
     ]
    },
    {
     "name": "stderr",
     "output_type": "stream",
     "text": [
      "\r",
      " 70%|███████   | 696/990 [12:30<05:47,  1.18s/it]"
     ]
    },
    {
     "name": "stdout",
     "output_type": "stream",
     "text": [
      "[[None, 'NC', 'KSXB', 147.26749546534836], [None, 'NC', 'KBO', 176.44397567781527], [None, 'TA', 'L02E', 190.12658272639035], [None, 'TA', 'K02D', 241.80556659621942]]\n"
     ]
    },
    {
     "name": "stderr",
     "output_type": "stream",
     "text": [
      "\r",
      " 70%|███████   | 697/990 [12:31<05:32,  1.14s/it]"
     ]
    },
    {
     "name": "stdout",
     "output_type": "stream",
     "text": [
      "[[None, 'NC', 'KSXB', 151.09391093042376], [None, 'NC', 'KBO', 178.3644560762486], [None, 'TA', 'L02E', 193.98703778057975], [None, 'TA', 'K02D', 244.6483171524326]]\n"
     ]
    },
    {
     "name": "stderr",
     "output_type": "stream",
     "text": [
      "\r",
      " 71%|███████   | 698/990 [12:33<06:19,  1.30s/it]"
     ]
    },
    {
     "name": "stdout",
     "output_type": "stream",
     "text": [
      "[[None, 'NC', 'KEB', 195.8809373694874], [None, 'NC', 'KBO', 197.23206269445552], [None, 'NC', 'KSXB', 233.15447283432414], [None, 'TA', 'J01E', 237.42871682796564], [None, 'TA', 'K02D', 245.05163786002163], [None, 'TA', 'L02E', 248.91030204858134], [None, 'UO', 'DBO', 288.6497098993819]]\n"
     ]
    },
    {
     "name": "stderr",
     "output_type": "stream",
     "text": [
      "\r",
      " 71%|███████   | 699/990 [12:33<05:39,  1.17s/it]"
     ]
    },
    {
     "name": "stdout",
     "output_type": "stream",
     "text": [
      "[[None, 'TA', 'L02E', 67.60412235472158], [None, 'TA', 'K02D', 68.76492141356032], [None, 'UO', 'DBO', 78.81834984544489], [None, 'NC', 'KSXB', 107.36699858773048]]\n"
     ]
    },
    {
     "name": "stderr",
     "output_type": "stream",
     "text": [
      "\r",
      " 71%|███████   | 700/990 [12:35<05:54,  1.22s/it]"
     ]
    },
    {
     "name": "stdout",
     "output_type": "stream",
     "text": [
      "[[None, 'NC', 'KEB', 50.47817958850556], [None, 'NC', 'KBO', 54.27412180963391], [None, 'TA', 'K02D', 89.37953419733047], [None, 'TA', 'J01E', 96.29148737110866], [None, 'TA', 'L02E', 101.45707573769579], [None, 'NC', 'KSXB', 104.6308436478411]]\n"
     ]
    },
    {
     "name": "stderr",
     "output_type": "stream",
     "text": [
      "\r",
      " 71%|███████   | 701/990 [12:35<05:01,  1.04s/it]"
     ]
    },
    {
     "name": "stdout",
     "output_type": "stream",
     "text": [
      "[[None, 'NC', 'KSXB', 150.15039340426569], [None, 'NC', 'KBO', 167.77151526025094], [None, 'TA', 'K02D', 237.1661487120028]]\n"
     ]
    },
    {
     "name": "stderr",
     "output_type": "stream",
     "text": [
      "\r",
      " 71%|███████   | 702/990 [12:36<04:53,  1.02s/it]"
     ]
    },
    {
     "name": "stdout",
     "output_type": "stream",
     "text": [
      "[[None, 'NC', 'KSXB', 132.56831680409724], [None, 'NC', 'KBO', 156.74377573113634], [None, 'TA', 'L02E', 175.3124989615253], [None, 'TA', 'K02D', 224.07227198298258]]\n"
     ]
    },
    {
     "name": "stderr",
     "output_type": "stream",
     "text": [
      "\r",
      " 71%|███████   | 703/990 [12:37<05:06,  1.07s/it]"
     ]
    },
    {
     "name": "stdout",
     "output_type": "stream",
     "text": [
      "[[None, 'NC', 'KSXB', 148.5012366579494], [None, 'TA', 'L02E', 191.16904720966338], [None, 'TA', 'K02D', 244.26433361217778]]\n"
     ]
    },
    {
     "name": "stderr",
     "output_type": "stream",
     "text": [
      "\r",
      " 71%|███████   | 704/990 [12:38<04:57,  1.04s/it]"
     ]
    },
    {
     "name": "stdout",
     "output_type": "stream",
     "text": [
      "[[None, 'NC', 'KSXB', 145.0356613677259], [None, 'NC', 'KBO', 172.25044508495407], [None, 'TA', 'L02E', 187.92792944286035], [None, 'TA', 'K02D', 238.50343816404794]]\n"
     ]
    },
    {
     "name": "stderr",
     "output_type": "stream",
     "text": [
      "\r",
      " 71%|███████   | 705/990 [12:39<04:54,  1.03s/it]"
     ]
    },
    {
     "name": "stdout",
     "output_type": "stream",
     "text": [
      "[[None, 'NC', 'KSXB', 70.29744489703985], [None, 'NC', 'KBO', 70.3669133479185], [None, 'TA', 'L02E', 104.91940528377154], [None, 'TA', 'K02D', 140.88399576369318]]\n"
     ]
    },
    {
     "name": "stderr",
     "output_type": "stream",
     "text": [
      "\r",
      " 71%|███████▏  | 706/990 [12:41<05:30,  1.16s/it]"
     ]
    },
    {
     "name": "stdout",
     "output_type": "stream",
     "text": [
      "[[None, 'NC', 'KBO', 241.14585867284825], [None, 'TA', 'J01E', 265.96172811628486], [None, 'NC', 'KSXB', 280.3987308156855], [None, 'TA', 'K02D', 281.90140814041996], [None, 'TA', 'L02E', 292.6567772135354], [None, 'UO', 'DBO', 319.9593627672321]]\n"
     ]
    },
    {
     "name": "stderr",
     "output_type": "stream",
     "text": [
      "\r",
      " 71%|███████▏  | 707/990 [12:42<05:36,  1.19s/it]"
     ]
    },
    {
     "name": "stdout",
     "output_type": "stream",
     "text": [
      "[[None, 'NC', 'KSXB', 159.17313446006708], [None, 'NC', 'KBO', 176.66588706454976], [None, 'TA', 'L02E', 201.23290197422378], [None, 'TA', 'K02D', 246.15734169529583]]\n"
     ]
    },
    {
     "name": "stderr",
     "output_type": "stream",
     "text": [
      "\r",
      " 72%|███████▏  | 708/990 [12:43<05:26,  1.16s/it]"
     ]
    },
    {
     "name": "stdout",
     "output_type": "stream",
     "text": [
      "[[None, 'NC', 'KBO', 129.5042690803122], [None, 'NC', 'KSXB', 141.2186635227901], [None, 'TA', 'L02E', 172.983910107809], [None, 'TA', 'K02D', 198.0612534461745], [None, 'UO', 'DBO', 254.48179534036024]]\n"
     ]
    },
    {
     "name": "stderr",
     "output_type": "stream",
     "text": [
      "\r",
      " 72%|███████▏  | 709/990 [12:44<05:05,  1.09s/it]"
     ]
    },
    {
     "name": "stdout",
     "output_type": "stream",
     "text": [
      "[[None, 'NC', 'KSXB', 153.26354785464238], [None, 'NC', 'KBO', 169.79051484279933], [None, 'TA', 'L02E', 195.1187624959937], [None, 'TA', 'K02D', 239.43703464538]]\n"
     ]
    },
    {
     "name": "stderr",
     "output_type": "stream",
     "text": [
      "\r",
      " 72%|███████▏  | 710/990 [12:45<04:38,  1.01it/s]"
     ]
    },
    {
     "name": "stdout",
     "output_type": "stream",
     "text": [
      "[[None, 'NC', 'KSXB', 115.9242850151123], [None, 'TA', 'L02E', 157.41383630849114], [None, 'TA', 'K02D', 213.52601914685962]]\n"
     ]
    },
    {
     "name": "stderr",
     "output_type": "stream",
     "text": [
      "\r",
      " 72%|███████▏  | 711/990 [12:46<04:16,  1.09it/s]"
     ]
    },
    {
     "name": "stdout",
     "output_type": "stream",
     "text": [
      "[[None, 'UO', 'DBO', 73.75014255490092], [None, 'TA', 'J01E', 93.1246983504], [None, 'TA', 'K02D', 127.42769208152272]]\n"
     ]
    },
    {
     "name": "stderr",
     "output_type": "stream",
     "text": [
      "\r",
      " 72%|███████▏  | 712/990 [12:47<04:15,  1.09it/s]"
     ]
    },
    {
     "name": "stdout",
     "output_type": "stream",
     "text": [
      "[[None, 'NC', 'KSXB', 175.04089687266762], [None, 'NC', 'KBO', 204.7177580222043], [None, 'TA', 'L02E', 217.82573379282556], [None, 'TA', 'K02D', 270.0300218899156]]\n"
     ]
    },
    {
     "name": "stderr",
     "output_type": "stream",
     "text": [
      "\r",
      " 72%|███████▏  | 713/990 [12:48<04:29,  1.03it/s]"
     ]
    },
    {
     "name": "stdout",
     "output_type": "stream",
     "text": [
      "[[None, 'NC', 'KSXB', 183.40553358995206], [None, 'NC', 'KBO', 198.82525094305308], [None, 'TA', 'L02E', 225.23309230768302], [None, 'TA', 'K02D', 268.84923104737607], [None, 'UO', 'DBO', 327.04290378754547]]\n"
     ]
    },
    {
     "name": "stderr",
     "output_type": "stream",
     "text": [
      "\r",
      " 72%|███████▏  | 714/990 [12:49<05:26,  1.18s/it]"
     ]
    },
    {
     "name": "stdout",
     "output_type": "stream",
     "text": [
      "[[None, 'NC', 'KSXB', 147.22497893095758], [None, 'TA', 'L02E', 184.09529395187343], [None, 'TA', 'K02D', 217.21551765724314], [None, 'UO', 'DBO', 274.9068368964078]]\n"
     ]
    },
    {
     "name": "stderr",
     "output_type": "stream",
     "text": [
      "\r",
      " 72%|███████▏  | 715/990 [12:50<05:14,  1.14s/it]"
     ]
    },
    {
     "name": "stdout",
     "output_type": "stream",
     "text": [
      "[[None, 'NC', 'KSXB', 161.6414007619961], [None, 'NC', 'KBO', 196.17215324975777], [None, 'TA', 'L02E', 203.83146815779628], [None, 'TA', 'K02D', 258.4895884560014], [None, 'UO', 'DBO', 313.99697950748504]]\n"
     ]
    },
    {
     "name": "stderr",
     "output_type": "stream",
     "text": [
      "\r",
      " 72%|███████▏  | 716/990 [12:51<04:51,  1.07s/it]"
     ]
    },
    {
     "name": "stdout",
     "output_type": "stream",
     "text": [
      "[[None, 'NC', 'KSXB', 139.4053159158577], [None, 'NC', 'KBO', 170.42222909632224], [None, 'TA', 'L02E', 182.17408883687244], [None, 'TA', 'K02D', 234.75713400572914]]\n"
     ]
    },
    {
     "name": "stderr",
     "output_type": "stream",
     "text": [
      "\r",
      " 72%|███████▏  | 717/990 [12:52<04:51,  1.07s/it]"
     ]
    },
    {
     "name": "stdout",
     "output_type": "stream",
     "text": [
      "[[None, 'NC', 'KSXB', 98.12905517131682], [None, 'TA', 'L02E', 140.65257871548465], [None, 'TA', 'K02D', 188.94093792820746]]\n"
     ]
    },
    {
     "name": "stderr",
     "output_type": "stream",
     "text": [
      "\r",
      " 73%|███████▎  | 718/990 [12:54<05:19,  1.18s/it]"
     ]
    },
    {
     "name": "stdout",
     "output_type": "stream",
     "text": [
      "[[None, 'NC', 'KBO', 36.112528625407094], [None, 'NC', 'KSXB', 83.20046195212721], [None, 'TA', 'L02E', 87.278776301181], [None, 'TA', 'K02D', 90.25375530161291], [None, 'TA', 'J01E', 110.16539080868354], [None, 'UO', 'DBO', 144.64465113093678]]\n"
     ]
    },
    {
     "name": "stderr",
     "output_type": "stream",
     "text": [
      "\r",
      " 73%|███████▎  | 719/990 [12:55<05:38,  1.25s/it]"
     ]
    },
    {
     "name": "stdout",
     "output_type": "stream",
     "text": [
      "[[None, 'NC', 'KSXB', 239.02081804633133], [None, 'NC', 'KBO', 261.4385052122298], [None, 'TA', 'L02E', 281.8382665400861], [None, 'NC', 'KEB', 326.7456920407607], [None, 'TA', 'K02D', 330.06458946956866], [None, 'UO', 'DBO', 387.8565313472374]]\n"
     ]
    },
    {
     "name": "stderr",
     "output_type": "stream",
     "text": [
      "\r",
      " 73%|███████▎  | 720/990 [12:57<05:53,  1.31s/it]"
     ]
    },
    {
     "name": "stdout",
     "output_type": "stream",
     "text": [
      "[[None, 'NC', 'KSXB', 138.95769690161882], [None, 'NC', 'KBO', 173.02437540752638], [None, 'TA', 'L02E', 181.36222634016536], [None, 'TA', 'K02D', 235.5229996984418], [None, 'TA', 'J01E', 280.9866808097194], [None, 'UO', 'DBO', 291.2625377057719]]\n"
     ]
    },
    {
     "name": "stderr",
     "output_type": "stream",
     "text": [
      "\r",
      " 73%|███████▎  | 721/990 [12:58<05:43,  1.28s/it]"
     ]
    },
    {
     "name": "stdout",
     "output_type": "stream",
     "text": [
      "[[None, 'NC', 'KSXB', 141.43400004727326], [None, 'NC', 'KBO', 168.90643962242893], [None, 'TA', 'L02E', 184.32683712410437], [None, 'TA', 'K02D', 235.01113656246108], [None, 'UO', 'DBO', 292.09717925933285]]\n"
     ]
    },
    {
     "name": "stderr",
     "output_type": "stream",
     "text": [
      "\r",
      " 73%|███████▎  | 722/990 [12:59<05:20,  1.20s/it]"
     ]
    },
    {
     "name": "stdout",
     "output_type": "stream",
     "text": [
      "[[None, 'NC', 'KBO', 47.70029876332689], [None, 'NC', 'KSXB', 89.22720968478771], [None, 'TA', 'L02E', 99.37310212719228], [None, 'TA', 'K02D', 106.09397164120817]]\n"
     ]
    },
    {
     "name": "stderr",
     "output_type": "stream",
     "text": [
      "\r",
      " 73%|███████▎  | 723/990 [13:00<04:50,  1.09s/it]"
     ]
    },
    {
     "name": "stdout",
     "output_type": "stream",
     "text": [
      "[[None, 'TA', 'L02E', 73.79797233980948], [None, 'TA', 'K02D', 90.44659535133782], [None, 'UO', 'DBO', 103.07302323602887]]\n"
     ]
    },
    {
     "name": "stderr",
     "output_type": "stream",
     "text": [
      "\r",
      " 73%|███████▎  | 724/990 [13:01<04:39,  1.05s/it]"
     ]
    },
    {
     "name": "stdout",
     "output_type": "stream",
     "text": [
      "[[None, 'NC', 'KBO', 36.52103496407885], [None, 'NC', 'KSXB', 77.47004902532441], [None, 'TA', 'L02E', 88.00579852084974], [None, 'TA', 'K02D', 98.902231353074]]\n"
     ]
    },
    {
     "name": "stderr",
     "output_type": "stream",
     "text": [
      "\r",
      " 73%|███████▎  | 725/990 [13:02<04:40,  1.06s/it]"
     ]
    },
    {
     "name": "stdout",
     "output_type": "stream",
     "text": [
      "[[None, 'NC', 'KBO', 45.413016312276035], [None, 'NC', 'KSXB', 86.58383241218726], [None, 'TA', 'L02E', 97.04902634316355], [None, 'TA', 'K02D', 104.87561523088834]]\n"
     ]
    },
    {
     "name": "stderr",
     "output_type": "stream",
     "text": [
      "\r",
      " 73%|███████▎  | 726/990 [13:03<04:23,  1.00it/s]"
     ]
    },
    {
     "name": "stdout",
     "output_type": "stream",
     "text": [
      "[[None, 'NC', 'KSXB', 150.12080496756775], [None, 'TA', 'L02E', 192.99876730087718], [None, 'TA', 'K02D', 244.33244573612942]]\n"
     ]
    },
    {
     "name": "stderr",
     "output_type": "stream",
     "text": [
      "\r",
      " 73%|███████▎  | 727/990 [13:04<04:21,  1.00it/s]"
     ]
    },
    {
     "name": "stdout",
     "output_type": "stream",
     "text": [
      "[[None, 'NC', 'KBO', 36.607203202008364], [None, 'NC', 'KSXB', 76.7313050211383], [None, 'TA', 'L02E', 87.95876024475847], [None, 'TA', 'K02D', 99.72046241825677]]\n"
     ]
    },
    {
     "name": "stderr",
     "output_type": "stream",
     "text": [
      "\r",
      " 74%|███████▎  | 728/990 [13:05<04:18,  1.01it/s]"
     ]
    },
    {
     "name": "stdout",
     "output_type": "stream",
     "text": [
      "[[None, 'NC', 'KBO', 34.38945883167684], [None, 'NC', 'KSXB', 74.82447132989358], [None, 'TA', 'L02E', 85.73416640262253], [None, 'TA', 'K02D', 97.91034832810209]]\n"
     ]
    },
    {
     "name": "stderr",
     "output_type": "stream",
     "text": [
      "\r",
      " 74%|███████▎  | 729/990 [13:07<05:48,  1.34s/it]"
     ]
    },
    {
     "name": "stdout",
     "output_type": "stream",
     "text": [
      "[[None, 'NC', 'KEB', 176.9354796553449], [None, 'TA', 'J01E', 208.20321284944356], [None, 'NC', 'KBO', 208.233972620071], [None, 'TA', 'K02D', 234.00803339869043], [None, 'NC', 'KSXB', 254.7472707335527], [None, 'TA', 'L02E', 257.0752376537924], [None, 'UO', 'DBO', 263.8399969470955]]\n"
     ]
    },
    {
     "name": "stderr",
     "output_type": "stream",
     "text": [
      "\r",
      " 74%|███████▎  | 730/990 [13:07<04:55,  1.14s/it]"
     ]
    },
    {
     "name": "stdout",
     "output_type": "stream",
     "text": [
      "[[None, 'NC', 'KSXB', 147.65624293074296], [None, 'TA', 'L02E', 189.57300180093296], [None, 'TA', 'K02D', 244.88597335845182]]\n"
     ]
    },
    {
     "name": "stderr",
     "output_type": "stream",
     "text": [
      "\r",
      " 74%|███████▍  | 731/990 [13:08<04:40,  1.08s/it]"
     ]
    },
    {
     "name": "stdout",
     "output_type": "stream",
     "text": [
      "[[None, 'TA', 'J01E', 169.28729655972305], [None, 'TA', 'K02D', 209.24982466650474], [None, 'UO', 'DBO', 224.36627804234956], [None, 'TA', 'L02E', 247.38761170483056]]\n"
     ]
    },
    {
     "name": "stderr",
     "output_type": "stream",
     "text": [
      "\r",
      " 74%|███████▍  | 732/990 [13:09<04:14,  1.01it/s]"
     ]
    },
    {
     "name": "stdout",
     "output_type": "stream",
     "text": [
      "[[None, 'NC', 'KSXB', 155.09457269813763], [None, 'TA', 'L02E', 197.77786848763537], [None, 'TA', 'K02D', 250.7511221768082]]\n"
     ]
    },
    {
     "name": "stderr",
     "output_type": "stream",
     "text": [
      "\r",
      " 74%|███████▍  | 733/990 [13:10<04:16,  1.00it/s]"
     ]
    },
    {
     "name": "stdout",
     "output_type": "stream",
     "text": [
      "[[None, 'NC', 'KBO', 43.18877717513519], [None, 'NC', 'KSXB', 84.66491221580408], [None, 'TA', 'L02E', 94.82876844246384], [None, 'TA', 'K02D', 102.96378536551099]]\n"
     ]
    },
    {
     "name": "stderr",
     "output_type": "stream",
     "text": [
      "\r",
      " 74%|███████▍  | 734/990 [13:12<05:10,  1.21s/it]"
     ]
    },
    {
     "name": "stdout",
     "output_type": "stream",
     "text": [
      "[[None, 'NC', 'KBO', 33.28096755064379], [None, 'NC', 'KSXB', 73.87773606717451], [None, 'NC', 'KEB', 79.6210837754002], [None, 'TA', 'L02E', 84.62188633313166], [None, 'TA', 'K02D', 97.01177038022671]]\n"
     ]
    },
    {
     "name": "stderr",
     "output_type": "stream",
     "text": [
      "\r",
      " 74%|███████▍  | 735/990 [13:13<04:50,  1.14s/it]"
     ]
    },
    {
     "name": "stdout",
     "output_type": "stream",
     "text": [
      "[[None, 'NC', 'KBO', 39.85265747526003], [None, 'NC', 'KSXB', 81.81564450765914], [None, 'TA', 'L02E', 91.49885593226112], [None, 'TA', 'K02D', 100.12034413864922]]\n"
     ]
    },
    {
     "name": "stderr",
     "output_type": "stream",
     "text": [
      " 74%|███████▍  | 737/990 [13:15<04:46,  1.13s/it]"
     ]
    },
    {
     "name": "stdout",
     "output_type": "stream",
     "text": [
      "[[None, 'NC', 'KSXB', 145.10315583802563], [None, 'TA', 'L02E', 187.50452898353893], [None, 'TA', 'K02D', 241.64356290210335], [None, 'UO', 'DBO', 297.4059268038439]]\n"
     ]
    },
    {
     "name": "stderr",
     "output_type": "stream",
     "text": [
      "\r",
      " 75%|███████▍  | 738/990 [13:16<04:44,  1.13s/it]"
     ]
    },
    {
     "name": "stdout",
     "output_type": "stream",
     "text": [
      "[[None, 'NC', 'KSXB', 153.12131696788842], [None, 'NC', 'KBO', 183.1886489259282], [None, 'TA', 'L02E', 195.92339170050636], [None, 'TA', 'K02D', 248.14580163631928], [None, 'UO', 'DBO', 304.76123963882407]]\n"
     ]
    },
    {
     "name": "stderr",
     "output_type": "stream",
     "text": [
      "\r",
      " 75%|███████▍  | 739/990 [13:17<04:29,  1.07s/it]"
     ]
    },
    {
     "name": "stdout",
     "output_type": "stream",
     "text": [
      "[[None, 'NC', 'KBO', 43.25817932714223], [None, 'NC', 'KSXB', 85.40704508399713], [None, 'TA', 'L02E', 94.93719634097616], [None, 'TA', 'K02D', 102.23169530445378]]\n"
     ]
    },
    {
     "name": "stderr",
     "output_type": "stream",
     "text": [
      "\r",
      " 75%|███████▍  | 740/990 [13:18<04:23,  1.05s/it]"
     ]
    },
    {
     "name": "stdout",
     "output_type": "stream",
     "text": [
      "[[None, 'NC', 'KEB', 42.55201207913994], [None, 'TA', 'J01E', 86.95248829208457], [None, 'TA', 'K02D', 93.73908019195412], [None, 'TA', 'L02E', 117.21641340816984]]\n"
     ]
    },
    {
     "name": "stderr",
     "output_type": "stream",
     "text": [
      "\r",
      " 75%|███████▍  | 741/990 [13:20<04:47,  1.16s/it]"
     ]
    },
    {
     "name": "stdout",
     "output_type": "stream",
     "text": [
      "[[None, 'NC', 'KEB', 44.1565942157177], [None, 'NC', 'KBO', 83.50094559236955], [None, 'TA', 'J01E', 86.16846632264613], [None, 'TA', 'K02D', 98.67085277533995], [None, 'TA', 'L02E', 125.58142182522072], [None, 'UO', 'DBO', 136.72341309189247]]\n"
     ]
    },
    {
     "name": "stderr",
     "output_type": "stream",
     "text": [
      "\r",
      " 75%|███████▍  | 742/990 [13:21<05:20,  1.29s/it]"
     ]
    },
    {
     "name": "stdout",
     "output_type": "stream",
     "text": [
      "[[None, 'NC', 'KEB', 39.0755165598504], [None, 'NC', 'KBO', 78.92588698899624], [None, 'TA', 'J01E', 82.0802575650834], [None, 'TA', 'K02D', 92.99695059878476], [None, 'TA', 'L02E', 120.16929888674346], [None, 'UO', 'DBO', 131.81138553366807]]\n"
     ]
    },
    {
     "name": "stderr",
     "output_type": "stream",
     "text": [
      "\r",
      " 75%|███████▌  | 743/990 [13:23<05:24,  1.31s/it]"
     ]
    },
    {
     "name": "stdout",
     "output_type": "stream",
     "text": [
      "[[None, 'NC', 'KSXB', 162.76045795218377], [None, 'NC', 'KBO', 196.5942783851202], [None, 'TA', 'L02E', 205.07692237386956], [None, 'TA', 'K02D', 259.39031565094064], [None, 'TA', 'J01E', 304.6606355656016], [None, 'UO', 'DBO', 315.09056900645356]]\n"
     ]
    },
    {
     "name": "stderr",
     "output_type": "stream",
     "text": [
      "\r",
      " 75%|███████▌  | 744/990 [13:24<04:55,  1.20s/it]"
     ]
    },
    {
     "name": "stdout",
     "output_type": "stream",
     "text": [
      "[[None, 'NC', 'KSXB', 165.60403466699844], [None, 'NC', 'KBO', 197.79491588004132], [None, 'TA', 'L02E', 208.16225807389074], [None, 'TA', 'K02D', 261.6455899494082]]\n"
     ]
    },
    {
     "name": "stderr",
     "output_type": "stream",
     "text": [
      "\r",
      " 75%|███████▌  | 745/990 [13:25<04:34,  1.12s/it]"
     ]
    },
    {
     "name": "stdout",
     "output_type": "stream",
     "text": [
      "[[None, 'NC', 'KSXB', 149.41629766768483], [None, 'NC', 'KBO', 177.50209024164826], [None, 'TA', 'L02E', 192.30341514511406], [None, 'TA', 'K02D', 243.40354466622074]]\n"
     ]
    },
    {
     "name": "stderr",
     "output_type": "stream",
     "text": [
      "\r",
      " 75%|███████▌  | 746/990 [13:26<04:37,  1.14s/it]"
     ]
    },
    {
     "name": "stdout",
     "output_type": "stream",
     "text": [
      "[[None, 'NC', 'KSXB', 162.76045795218377], [None, 'NC', 'KBO', 196.5942783851202], [None, 'TA', 'L02E', 205.07692237386956], [None, 'TA', 'K02D', 259.39031565094064], [None, 'TA', 'J01E', 304.6606355656016]]\n"
     ]
    },
    {
     "name": "stderr",
     "output_type": "stream",
     "text": [
      "\r",
      " 75%|███████▌  | 747/990 [13:27<04:23,  1.08s/it]"
     ]
    },
    {
     "name": "stdout",
     "output_type": "stream",
     "text": [
      "[[None, 'NC', 'KSXB', 154.95774220857612], [None, 'NC', 'KBO', 183.32774207431606], [None, 'TA', 'L02E', 197.83470374985782], [None, 'TA', 'K02D', 249.1433118303764]]\n"
     ]
    },
    {
     "name": "stderr",
     "output_type": "stream",
     "text": [
      "\r",
      " 76%|███████▌  | 748/990 [13:28<04:26,  1.10s/it]"
     ]
    },
    {
     "name": "stdout",
     "output_type": "stream",
     "text": [
      "[[None, 'NC', 'KSXB', 154.1256619282784], [None, 'NC', 'KBO', 181.42229929705164], [None, 'TA', 'L02E', 197.01863159215873], [None, 'TA', 'K02D', 247.72080312216443], [None, 'UO', 'DBO', 304.8307863608092]]\n"
     ]
    },
    {
     "name": "stderr",
     "output_type": "stream",
     "text": [
      " 76%|███████▌  | 750/990 [13:30<04:05,  1.02s/it]"
     ]
    },
    {
     "name": "stdout",
     "output_type": "stream",
     "text": [
      "[[None, 'NC', 'KSXB', 39.09189011822598], [None, 'NC', 'KBO', 50.912218688847766], [None, 'TA', 'L02E', 75.13648031067939], [None, 'TA', 'K02D', 117.67468895114338]]\n"
     ]
    },
    {
     "name": "stderr",
     "output_type": "stream",
     "text": [
      "\r",
      " 76%|███████▌  | 751/990 [13:31<04:07,  1.04s/it]"
     ]
    },
    {
     "name": "stdout",
     "output_type": "stream",
     "text": [
      "[[None, 'TA', 'L02E', 49.93296367924534], [None, 'NC', 'KEB', 55.20774553961123], [None, 'NC', 'KSXB', 66.60714704534205], [None, 'TA', 'J01E', 85.5310532192945], [None, 'UO', 'DBO', 106.42406044579897]]\n"
     ]
    },
    {
     "name": "stderr",
     "output_type": "stream",
     "text": [
      "\r",
      " 76%|███████▌  | 752/990 [13:32<03:49,  1.04it/s]"
     ]
    },
    {
     "name": "stdout",
     "output_type": "stream",
     "text": [
      "[[None, 'TA', 'J01E', 24.25703725537007], [None, 'TA', 'K02D', 74.33486024685574], [None, 'UO', 'DBO', 79.73188730386576]]\n"
     ]
    },
    {
     "name": "stderr",
     "output_type": "stream",
     "text": [
      "\r",
      " 76%|███████▌  | 753/990 [13:33<04:00,  1.02s/it]"
     ]
    },
    {
     "name": "stdout",
     "output_type": "stream",
     "text": [
      "[[None, 'NC', 'KSXB', 172.7600046900594], [None, 'NC', 'KBO', 191.46952267639924], [None, 'TA', 'L02E', 215.0722079057082], [None, 'TA', 'K02D', 260.7800656859728]]\n"
     ]
    },
    {
     "name": "stderr",
     "output_type": "stream",
     "text": [
      " 76%|███████▋  | 755/990 [13:35<04:12,  1.07s/it]"
     ]
    },
    {
     "name": "stdout",
     "output_type": "stream",
     "text": [
      "[[None, 'NC', 'KSXB', 165.60403466699844], [None, 'NC', 'KBO', 197.79491588004132], [None, 'TA', 'L02E', 208.16225807389074], [None, 'TA', 'K02D', 261.6455899494082], [None, 'TA', 'J01E', 306.0064093750666], [None, 'UO', 'DBO', 317.76399459293805]]\n"
     ]
    },
    {
     "name": "stderr",
     "output_type": "stream",
     "text": [
      "\r",
      " 76%|███████▋  | 756/990 [13:36<04:29,  1.15s/it]"
     ]
    },
    {
     "name": "stdout",
     "output_type": "stream",
     "text": [
      "[[None, 'NC', 'KSXB', 163.93986132225746], [None, 'NC', 'KBO', 197.07204431945746], [None, 'TA', 'L02E', 206.3688616314759], [None, 'TA', 'K02D', 260.330724799511], [None, 'TA', 'J01E', 305.2137941922758], [None, 'UO', 'DBO', 316.2156057398778]]\n"
     ]
    },
    {
     "name": "stderr",
     "output_type": "stream",
     "text": [
      "\r",
      " 76%|███████▋  | 757/990 [13:37<04:33,  1.17s/it]"
     ]
    },
    {
     "name": "stdout",
     "output_type": "stream",
     "text": [
      "[[None, 'NC', 'KSXB', 278.05083144090923], [None, 'NC', 'KBO', 303.9434573280573], [None, 'TA', 'L02E', 320.92855065188786], [None, 'TA', 'K02D', 371.44811905763777]]\n"
     ]
    },
    {
     "name": "stderr",
     "output_type": "stream",
     "text": [
      "\r",
      " 77%|███████▋  | 758/990 [13:38<04:21,  1.13s/it]"
     ]
    },
    {
     "name": "stdout",
     "output_type": "stream",
     "text": [
      "[[None, 'NC', 'KSXB', 155.21719255425208], [None, 'NC', 'KBO', 180.60071725194734], [None, 'TA', 'L02E', 198.07870054552654], [None, 'TA', 'K02D', 247.7034373301621]]\n"
     ]
    },
    {
     "name": "stderr",
     "output_type": "stream",
     "text": [
      "\r",
      " 77%|███████▋  | 759/990 [13:40<04:20,  1.13s/it]"
     ]
    },
    {
     "name": "stdout",
     "output_type": "stream",
     "text": [
      "[[None, 'NC', 'KSXB', 155.49904094106077], [None, 'NC', 'KBO', 183.6065367317738], [None, 'TA', 'L02E', 198.38186374063477], [None, 'TA', 'K02D', 249.54939509879878]]\n"
     ]
    },
    {
     "name": "stderr",
     "output_type": "stream",
     "text": [
      "\r",
      " 77%|███████▋  | 760/990 [13:40<04:01,  1.05s/it]"
     ]
    },
    {
     "name": "stdout",
     "output_type": "stream",
     "text": [
      "[[None, 'NC', 'KSXB', 165.60403466699844], [None, 'NC', 'KBO', 197.79491588004132], [None, 'TA', 'L02E', 208.16225807389074], [None, 'TA', 'K02D', 261.6455899494082]]\n"
     ]
    },
    {
     "name": "stderr",
     "output_type": "stream",
     "text": [
      "\r",
      " 77%|███████▋  | 761/990 [13:41<03:56,  1.03s/it]"
     ]
    },
    {
     "name": "stdout",
     "output_type": "stream",
     "text": [
      "[[None, 'NC', 'KSXB', 162.00763617775647], [None, 'NC', 'KBO', 196.30665624750912], [None, 'TA', 'L02E', 204.24140145621166], [None, 'TA', 'K02D', 258.78539583166776]]\n"
     ]
    },
    {
     "name": "stderr",
     "output_type": "stream",
     "text": [
      "\r",
      " 77%|███████▋  | 762/990 [13:42<03:30,  1.08it/s]"
     ]
    },
    {
     "name": "stdout",
     "output_type": "stream",
     "text": [
      "[[None, 'NC', 'KSXB', 144.3269435857629], [None, 'NC', 'KBO', 178.71652417451705], [None, 'TA', 'K02D', 241.03528094312628]]\n"
     ]
    },
    {
     "name": "stderr",
     "output_type": "stream",
     "text": [
      "\r",
      " 77%|███████▋  | 763/990 [13:43<04:01,  1.06s/it]"
     ]
    },
    {
     "name": "stdout",
     "output_type": "stream",
     "text": [
      "[[None, 'NC', 'KSXB', 161.6414007619961], [None, 'NC', 'KBO', 196.17215324975777], [None, 'TA', 'L02E', 203.83146815779628], [None, 'TA', 'K02D', 258.4895884560014], [None, 'TA', 'J01E', 304.14309448097646], [None, 'UO', 'DBO', 313.99697950748504]]\n"
     ]
    },
    {
     "name": "stderr",
     "output_type": "stream",
     "text": [
      "\r",
      " 77%|███████▋  | 764/990 [13:44<03:31,  1.07it/s]"
     ]
    },
    {
     "name": "stdout",
     "output_type": "stream",
     "text": [
      "[[None, 'NC', 'KSXB', 154.62973351967455], [None, 'NC', 'KBO', 180.97552988503034], [None, 'TA', 'K02D', 247.68549644346749]]\n"
     ]
    },
    {
     "name": "stderr",
     "output_type": "stream",
     "text": [
      "\r",
      " 77%|███████▋  | 765/990 [13:45<03:30,  1.07it/s]"
     ]
    },
    {
     "name": "stdout",
     "output_type": "stream",
     "text": [
      "[[None, 'NC', 'KSXB', 156.74975347694598], [None, 'NC', 'KBO', 184.99238430272632], [None, 'TA', 'L02E', 199.6284941846338], [None, 'TA', 'K02D', 250.88230196106]]\n"
     ]
    },
    {
     "name": "stderr",
     "output_type": "stream",
     "text": [
      "\r",
      " 77%|███████▋  | 766/990 [13:46<03:51,  1.03s/it]"
     ]
    },
    {
     "name": "stdout",
     "output_type": "stream",
     "text": [
      "[[None, 'NC', 'KSXB', 162.29003654802767], [None, 'NC', 'KBO', 197.34589736579866], [None, 'TA', 'L02E', 204.3661111527535], [None, 'TA', 'K02D', 259.2961562977508], [None, 'TA', 'J01E', 305.23560183889896], [None, 'UO', 'DBO', 314.64444482473857]]\n"
     ]
    },
    {
     "name": "stderr",
     "output_type": "stream",
     "text": [
      "\r",
      " 77%|███████▋  | 767/990 [13:47<03:41,  1.01it/s]"
     ]
    },
    {
     "name": "stdout",
     "output_type": "stream",
     "text": [
      "[[None, 'NC', 'KSXB', 158.2951345131499], [None, 'NC', 'KBO', 185.09457243441767], [None, 'TA', 'L02E', 201.18767376349712], [None, 'TA', 'K02D', 251.64378558488977]]\n"
     ]
    },
    {
     "name": "stderr",
     "output_type": "stream",
     "text": [
      "\r",
      " 78%|███████▊  | 768/990 [13:48<03:45,  1.01s/it]"
     ]
    },
    {
     "name": "stdout",
     "output_type": "stream",
     "text": [
      "[[None, 'NC', 'KSXB', 160.58395029880984], [None, 'NC', 'KBO', 195.80602776670665], [None, 'TA', 'L02E', 202.63335538574788], [None, 'TA', 'K02D', 257.6289588221206]]\n"
     ]
    },
    {
     "name": "stderr",
     "output_type": "stream",
     "text": [
      "\r",
      " 78%|███████▊  | 769/990 [13:49<03:54,  1.06s/it]"
     ]
    },
    {
     "name": "stdout",
     "output_type": "stream",
     "text": [
      "[[None, 'NC', 'KSXB', 144.59280227401035], [None, 'NC', 'KBO', 180.87887059798783], [None, 'TA', 'L02E', 186.50103545028736], [None, 'TA', 'K02D', 241.83968116226524], [None, 'TA', 'J01E', 288.4531639454303]]\n"
     ]
    },
    {
     "name": "stderr",
     "output_type": "stream",
     "text": [
      "\r",
      " 78%|███████▊  | 770/990 [13:50<03:33,  1.03it/s]"
     ]
    },
    {
     "name": "stdout",
     "output_type": "stream",
     "text": [
      "[[None, 'NC', 'KSXB', 145.53298916203948], [None, 'TA', 'L02E', 188.29080564058185], [None, 'TA', 'K02D', 240.89785891960798]]\n"
     ]
    },
    {
     "name": "stderr",
     "output_type": "stream",
     "text": [
      "\r",
      " 78%|███████▊  | 771/990 [13:51<03:29,  1.05it/s]"
     ]
    },
    {
     "name": "stdout",
     "output_type": "stream",
     "text": [
      "[[None, 'NC', 'KSXB', 66.7693323247255], [None, 'NC', 'KBO', 70.508426086656], [None, 'TA', 'L02E', 102.66892865152218], [None, 'TA', 'K02D', 140.6414325770005]]\n"
     ]
    },
    {
     "name": "stderr",
     "output_type": "stream",
     "text": [
      "\r",
      " 78%|███████▊  | 772/990 [13:52<03:50,  1.06s/it]"
     ]
    },
    {
     "name": "stdout",
     "output_type": "stream",
     "text": [
      "[[None, 'NC', 'KSXB', 165.60403466699844], [None, 'NC', 'KBO', 197.79491588004132], [None, 'TA', 'L02E', 208.16225807389074], [None, 'TA', 'K02D', 261.6455899494082], [None, 'TA', 'J01E', 306.0064093750666], [None, 'UO', 'DBO', 317.76399459293805]]\n"
     ]
    },
    {
     "name": "stderr",
     "output_type": "stream",
     "text": [
      "\r",
      " 78%|███████▊  | 773/990 [13:54<04:10,  1.15s/it]"
     ]
    },
    {
     "name": "stdout",
     "output_type": "stream",
     "text": [
      "[[None, 'NC', 'KBO', 223.23493166716898], [None, 'TA', 'J01E', 224.86782351610202], [None, 'TA', 'K02D', 250.46814567228378], [None, 'NC', 'KSXB', 268.9886236710512], [None, 'TA', 'L02E', 272.53824717337375], [None, 'UO', 'DBO', 280.52093932362146]]\n"
     ]
    },
    {
     "name": "stderr",
     "output_type": "stream",
     "text": [
      "\r",
      " 78%|███████▊  | 774/990 [13:55<03:53,  1.08s/it]"
     ]
    },
    {
     "name": "stdout",
     "output_type": "stream",
     "text": [
      "[[None, 'NC', 'KSXB', 180.87234875899847], [None, 'NC', 'KBO', 209.9589072248099], [None, 'TA', 'L02E', 223.6860706311005], [None, 'TA', 'K02D', 275.60679000094416]]\n"
     ]
    },
    {
     "name": "stderr",
     "output_type": "stream",
     "text": [
      "\r",
      " 78%|███████▊  | 775/990 [13:56<03:55,  1.10s/it]"
     ]
    },
    {
     "name": "stdout",
     "output_type": "stream",
     "text": [
      "[[None, 'NC', 'KBO', 43.19225993057114], [None, 'NC', 'KSXB', 83.23469062830632], [None, 'TA', 'L02E', 94.67651108810483], [None, 'TA', 'K02D', 104.47145022160406], [None, 'TA', 'J01E', 125.79754339120717]]\n"
     ]
    },
    {
     "name": "stderr",
     "output_type": "stream",
     "text": [
      "\r",
      " 78%|███████▊  | 776/990 [13:57<03:41,  1.04s/it]"
     ]
    },
    {
     "name": "stdout",
     "output_type": "stream",
     "text": [
      "[[None, 'UO', 'DBO', 28.759570370786783], [None, 'TA', 'J01E', 73.43141660924617], [None, 'TA', 'K02D', 86.92276489714261]]\n"
     ]
    },
    {
     "name": "stderr",
     "output_type": "stream",
     "text": [
      "\r",
      " 78%|███████▊  | 777/990 [13:58<03:35,  1.01s/it]"
     ]
    },
    {
     "name": "stdout",
     "output_type": "stream",
     "text": [
      "[[None, 'NC', 'KSXB', 203.19699465014756], [None, 'TA', 'L02E', 245.4929750200711], [None, 'TA', 'K02D', 290.6776877873277], [None, 'TA', 'J01E', 326.3348290299306]]\n"
     ]
    },
    {
     "name": "stderr",
     "output_type": "stream",
     "text": [
      " 79%|███████▊  | 779/990 [14:00<03:28,  1.01it/s]"
     ]
    },
    {
     "name": "stdout",
     "output_type": "stream",
     "text": [
      "[[None, 'TA', 'L02E', 72.06490062556122], [None, 'TA', 'K02D', 76.02044177096944], [None, 'UO', 'DBO', 84.22945274277879]]\n"
     ]
    },
    {
     "name": "stderr",
     "output_type": "stream",
     "text": [
      "\r",
      " 79%|███████▉  | 780/990 [14:01<03:37,  1.04s/it]"
     ]
    },
    {
     "name": "stdout",
     "output_type": "stream",
     "text": [
      "[[None, 'NC', 'KSXB', 154.0452016555421], [None, 'NC', 'KBO', 180.65841923537351], [None, 'TA', 'L02E', 196.93499315301918], [None, 'TA', 'K02D', 247.25132723781235], [None, 'UO', 'DBO', 304.46671792567486]]\n"
     ]
    },
    {
     "name": "stderr",
     "output_type": "stream",
     "text": [
      "\r",
      " 79%|███████▉  | 781/990 [14:02<03:30,  1.01s/it]"
     ]
    },
    {
     "name": "stdout",
     "output_type": "stream",
     "text": [
      "[[None, 'NC', 'KSXB', 127.39884829797323], [None, 'TA', 'L02E', 161.09540825123625], [None, 'TA', 'K02D', 190.1062560726784], [None, 'TA', 'J01E', 215.4763189166088]]\n"
     ]
    },
    {
     "name": "stderr",
     "output_type": "stream",
     "text": [
      "\r",
      " 79%|███████▉  | 782/990 [14:03<03:22,  1.03it/s]"
     ]
    },
    {
     "name": "stdout",
     "output_type": "stream",
     "text": [
      "[[None, 'NC', 'KBO', 16.63630282188423], [None, 'NC', 'KSXB', 51.53810589754376], [None, 'TA', 'L02E', 63.77776135936049], [None, 'TA', 'K02D', 87.26414858291226]]\n"
     ]
    },
    {
     "name": "stderr",
     "output_type": "stream",
     "text": [
      "\r",
      " 79%|███████▉  | 783/990 [14:03<03:04,  1.12it/s]"
     ]
    },
    {
     "name": "stdout",
     "output_type": "stream",
     "text": [
      "[[None, 'UO', 'DBO', 19.16835462906662], [None, 'TA', 'J01E', 57.94743329754524], [None, 'TA', 'K02D', 74.76688557652336]]\n"
     ]
    },
    {
     "name": "stderr",
     "output_type": "stream",
     "text": [
      " 79%|███████▉  | 786/990 [14:07<03:35,  1.06s/it]"
     ]
    },
    {
     "name": "stdout",
     "output_type": "stream",
     "text": [
      "[[None, 'NC', 'KSXB', 251.46658086769133], [None, 'TA', 'L02E', 273.2206704575347], [None, 'TA', 'K02D', 277.2538027520131], [None, 'UO', 'DBO', 324.538910309988]]\n"
     ]
    },
    {
     "name": "stderr",
     "output_type": "stream",
     "text": [
      " 80%|███████▉  | 788/990 [14:09<03:33,  1.06s/it]"
     ]
    },
    {
     "name": "stdout",
     "output_type": "stream",
     "text": [
      "[[None, 'NC', 'KEB', 139.09655362139995], [None, 'NC', 'KSXB', 158.1456866688002], [None, 'TA', 'L02E', 175.83606228503538], [None, 'TA', 'K02D', 179.81998943195833], [None, 'TA', 'J01E', 184.39201287151215], [None, 'UO', 'DBO', 229.63082518909744]]\n"
     ]
    },
    {
     "name": "stderr",
     "output_type": "stream",
     "text": [
      "\r",
      " 80%|███████▉  | 789/990 [14:10<03:46,  1.13s/it]"
     ]
    },
    {
     "name": "stdout",
     "output_type": "stream",
     "text": [
      "[[None, 'NC', 'KSXB', 195.56399313195433], [None, 'NC', 'KBO', 197.02558137210914], [None, 'TA', 'L02E', 233.67681027965585], [None, 'TA', 'K02D', 267.44048280214685], [None, 'TA', 'J01E', 293.2075739408419], [None, 'UO', 'DBO', 325.02443496348036]]\n"
     ]
    },
    {
     "name": "stderr",
     "output_type": "stream",
     "text": [
      "\r",
      " 80%|███████▉  | 790/990 [14:11<03:33,  1.07s/it]"
     ]
    },
    {
     "name": "stdout",
     "output_type": "stream",
     "text": [
      "[[None, 'NC', 'KSXB', 176.4778404050928], [None, 'NC', 'KBO', 193.9850047999674], [None, 'TA', 'L02E', 218.627887170982], [None, 'TA', 'K02D', 263.58459993738524]]\n"
     ]
    },
    {
     "name": "stderr",
     "output_type": "stream",
     "text": [
      "\r",
      " 80%|███████▉  | 791/990 [14:13<04:22,  1.32s/it]"
     ]
    },
    {
     "name": "stdout",
     "output_type": "stream",
     "text": [
      "[[None, 'NC', 'KSXB', 158.0533977185939], [None, 'NC', 'KBO', 172.9896491077106], [None, 'TA', 'L02E', 199.63691370372607], [None, 'TA', 'K02D', 242.95647039285015], [None, 'UO', 'DBO', 301.1463557265928]]\n"
     ]
    },
    {
     "name": "stderr",
     "output_type": "stream",
     "text": [
      "\r",
      " 80%|████████  | 792/990 [14:14<03:52,  1.17s/it]"
     ]
    },
    {
     "name": "stdout",
     "output_type": "stream",
     "text": [
      "[[None, 'NC', 'KBO', 38.71617494475038], [None, 'NC', 'KSXB', 80.11567341057733], [None, 'TA', 'L02E', 90.29783484049001], [None, 'TA', 'K02D', 99.95434061410664]]\n"
     ]
    },
    {
     "name": "stderr",
     "output_type": "stream",
     "text": [
      " 80%|████████  | 794/990 [14:16<03:18,  1.01s/it]"
     ]
    },
    {
     "name": "stdout",
     "output_type": "stream",
     "text": [
      "[[None, 'NC', 'KBO', 43.747784719914804], [None, 'NC', 'KSXB', 87.73601125273592], [None, 'TA', 'L02E', 95.39075031123183]]\n"
     ]
    },
    {
     "name": "stderr",
     "output_type": "stream",
     "text": [
      "\r",
      " 80%|████████  | 795/990 [14:17<03:15,  1.00s/it]"
     ]
    },
    {
     "name": "stdout",
     "output_type": "stream",
     "text": [
      "[[None, 'NC', 'KSXB', 176.4778404050928], [None, 'NC', 'KBO', 193.9850047999674], [None, 'TA', 'L02E', 218.627887170982], [None, 'TA', 'K02D', 263.58459993738524]]\n"
     ]
    },
    {
     "name": "stderr",
     "output_type": "stream",
     "text": [
      "\r",
      " 80%|████████  | 796/990 [14:17<03:09,  1.03it/s]"
     ]
    },
    {
     "name": "stdout",
     "output_type": "stream",
     "text": [
      "[[None, 'UO', 'DBO', 25.94668670132965], [None, 'TA', 'J01E', 78.65982085992779], [None, 'TA', 'K02D', 82.58963440320255], [None, 'NC', 'KEB', 118.21356348526531]]\n"
     ]
    },
    {
     "name": "stderr",
     "output_type": "stream",
     "text": [
      "\r",
      " 81%|████████  | 797/990 [14:18<03:05,  1.04it/s]"
     ]
    },
    {
     "name": "stdout",
     "output_type": "stream",
     "text": [
      "[[None, 'NC', 'KSXB', 154.69388357275125], [None, 'NC', 'KBO', 181.72445341090662], [None, 'TA', 'L02E', 197.5868469037859], [None, 'TA', 'K02D', 248.14417591298928]]\n"
     ]
    },
    {
     "name": "stderr",
     "output_type": "stream",
     "text": [
      "\r",
      " 81%|████████  | 798/990 [14:20<03:24,  1.06s/it]"
     ]
    },
    {
     "name": "stdout",
     "output_type": "stream",
     "text": [
      "[[None, 'NC', 'KSXB', 213.24115843112875], [None, 'NC', 'KBO', 239.2743663434505], [None, 'TA', 'L02E', 256.1328238795699], [None, 'TA', 'K02D', 306.48517747500256], [None, 'TA', 'J01E', 346.9649172645119], [None, 'UO', 'DBO', 363.79081998069114]]\n"
     ]
    },
    {
     "name": "stderr",
     "output_type": "stream",
     "text": [
      "\r",
      " 81%|████████  | 799/990 [14:21<03:10,  1.00it/s]"
     ]
    },
    {
     "name": "stdout",
     "output_type": "stream",
     "text": [
      "[[None, 'NC', 'KSXB', 170.9561817913571], [None, 'NC', 'KBO', 190.85047165798895], [None, 'TA', 'L02E', 213.41683612791397], [None, 'TA', 'K02D', 259.85571268011824]]\n"
     ]
    },
    {
     "name": "stderr",
     "output_type": "stream",
     "text": [
      "\r",
      " 81%|████████  | 800/990 [14:21<03:02,  1.04it/s]"
     ]
    },
    {
     "name": "stdout",
     "output_type": "stream",
     "text": [
      "[[None, 'NC', 'KBO', 40.964662207140364], [None, 'NC', 'KSXB', 82.76134006713913], [None, 'TA', 'L02E', 92.60876053696308], [None, 'TA', 'K02D', 101.0647955775283]]\n"
     ]
    },
    {
     "name": "stderr",
     "output_type": "stream",
     "text": [
      "\r",
      " 81%|████████  | 801/990 [14:22<03:08,  1.00it/s]"
     ]
    },
    {
     "name": "stdout",
     "output_type": "stream",
     "text": [
      "[[None, 'NC', 'KBO', 40.96834086798522], [None, 'NC', 'KEB', 80.9073896102091], [None, 'NC', 'KSXB', 81.29764620868764], [None, 'TA', 'L02E', 92.45284918079548], [None, 'TA', 'K02D', 102.60036259052671]]\n"
     ]
    },
    {
     "name": "stderr",
     "output_type": "stream",
     "text": [
      "\r",
      " 81%|████████  | 802/990 [14:24<03:17,  1.05s/it]"
     ]
    },
    {
     "name": "stdout",
     "output_type": "stream",
     "text": [
      "[[None, 'NC', 'KBO', 38.71617494475038], [None, 'NC', 'KEB', 78.74625432662943], [None, 'NC', 'KSXB', 80.11567341057733], [None, 'TA', 'L02E', 90.29783484049001], [None, 'TA', 'K02D', 99.95434061410664]]\n"
     ]
    },
    {
     "name": "stderr",
     "output_type": "stream",
     "text": [
      "\r",
      " 81%|████████  | 803/990 [14:25<03:17,  1.06s/it]"
     ]
    },
    {
     "name": "stdout",
     "output_type": "stream",
     "text": [
      "[[None, 'NC', 'KSXB', 60.97352261335042], [None, 'NC', 'KBO', 63.34944160695745], [None, 'TA', 'L02E', 95.82867511718287], [None, 'TA', 'K02D', 133.40255115850323]]\n"
     ]
    },
    {
     "name": "stderr",
     "output_type": "stream",
     "text": [
      "\r",
      " 81%|████████  | 804/990 [14:26<03:33,  1.15s/it]"
     ]
    },
    {
     "name": "stdout",
     "output_type": "stream",
     "text": [
      "[[None, 'NC', 'KSXB', 149.96933046257482], [None, 'NC', 'KBO', 177.78304615519954], [None, 'TA', 'L02E', 192.8598354320129], [None, 'TA', 'K02D', 243.81409725100596], [None, 'TA', 'J01E', 285.9491920349585], [None, 'UO', 'DBO', 300.8420273518421]]\n"
     ]
    },
    {
     "name": "stderr",
     "output_type": "stream",
     "text": [
      "\r",
      " 81%|████████▏ | 805/990 [14:27<03:17,  1.07s/it]"
     ]
    },
    {
     "name": "stdout",
     "output_type": "stream",
     "text": [
      "[[None, 'NC', 'KSXB', 138.11640715931193], [None, 'NC', 'KBO', 169.01406359991748], [None, 'TA', 'L02E', 180.89794184688554], [None, 'TA', 'K02D', 233.40250857902248]]\n"
     ]
    },
    {
     "name": "stderr",
     "output_type": "stream",
     "text": [
      "\r",
      " 81%|████████▏ | 806/990 [14:28<03:05,  1.01s/it]"
     ]
    },
    {
     "name": "stdout",
     "output_type": "stream",
     "text": [
      "[[None, 'NC', 'KSXB', 143.17916357655477], [None, 'NC', 'KBO', 169.79054214640644], [None, 'TA', 'L02E', 186.06262484112443], [None, 'TA', 'K02D', 236.28434632825872]]\n"
     ]
    },
    {
     "name": "stderr",
     "output_type": "stream",
     "text": [
      "\r",
      " 82%|████████▏ | 807/990 [14:29<02:46,  1.10it/s]"
     ]
    },
    {
     "name": "stdout",
     "output_type": "stream",
     "text": [
      "[[None, 'NC', 'KSXB', 153.9157313655323], [None, 'TA', 'L02E', 196.68955286727112], [None, 'TA', 'K02D', 249.123017057019]]\n"
     ]
    },
    {
     "name": "stderr",
     "output_type": "stream",
     "text": [
      "\r",
      " 82%|████████▏ | 808/990 [14:29<02:47,  1.09it/s]"
     ]
    },
    {
     "name": "stdout",
     "output_type": "stream",
     "text": [
      "[[None, 'NC', 'KSXB', 158.2951345131499], [None, 'NC', 'KBO', 185.09457243441767], [None, 'TA', 'L02E', 201.18767376349712], [None, 'TA', 'K02D', 251.64378558488977]]\n"
     ]
    },
    {
     "name": "stderr",
     "output_type": "stream",
     "text": [
      "\r",
      " 82%|████████▏ | 809/990 [14:30<02:43,  1.11it/s]"
     ]
    },
    {
     "name": "stdout",
     "output_type": "stream",
     "text": [
      "[[None, 'NC', 'KSXB', 139.10541302906384], [None, 'NC', 'KBO', 169.4356304707438], [None, 'TA', 'L02E', 181.92230017154856], [None, 'TA', 'K02D', 234.13634270847027]]\n"
     ]
    },
    {
     "name": "stderr",
     "output_type": "stream",
     "text": [
      "\r",
      " 82%|████████▏ | 810/990 [14:31<02:56,  1.02it/s]"
     ]
    },
    {
     "name": "stdout",
     "output_type": "stream",
     "text": [
      "[[None, 'TA', 'J01E', 240.35404364961022], [None, 'NC', 'KBO', 246.7661429107274], [None, 'TA', 'K02D', 269.91156123640485], [None, 'TA', 'L02E', 295.2243195021133], [None, 'UO', 'DBO', 296.2856797232643]]\n"
     ]
    },
    {
     "name": "stderr",
     "output_type": "stream",
     "text": [
      " 82%|████████▏ | 812/990 [14:33<02:54,  1.02it/s]"
     ]
    },
    {
     "name": "stdout",
     "output_type": "stream",
     "text": [
      "[[None, 'NC', 'KBO', 43.27723033940718], [None, 'TA', 'L02E', 73.19396409637766], [None, 'TA', 'K02D', 111.76518414685917]]\n"
     ]
    },
    {
     "name": "stderr",
     "output_type": "stream",
     "text": [
      "\r",
      " 82%|████████▏ | 813/990 [14:35<03:03,  1.04s/it]"
     ]
    },
    {
     "name": "stdout",
     "output_type": "stream",
     "text": [
      "[[None, 'NC', 'KBO', 230.90523889960852], [None, 'TA', 'J01E', 232.57910847286448], [None, 'TA', 'K02D', 258.38422937929244], [None, 'TA', 'L02E', 280.31458324833056], [None, 'UO', 'DBO', 288.2691027258036]]\n"
     ]
    },
    {
     "name": "stderr",
     "output_type": "stream",
     "text": [
      "\r",
      " 82%|████████▏ | 814/990 [14:35<02:42,  1.08it/s]"
     ]
    },
    {
     "name": "stdout",
     "output_type": "stream",
     "text": [
      "[[None, 'NC', 'KSXB', 114.75326144819668], [None, 'TA', 'L02E', 157.48417153368783], [None, 'TA', 'K02D', 210.52135625710198]]\n"
     ]
    },
    {
     "name": "stderr",
     "output_type": "stream",
     "text": [
      "\r",
      " 82%|████████▏ | 815/990 [14:37<03:16,  1.12s/it]"
     ]
    },
    {
     "name": "stdout",
     "output_type": "stream",
     "text": [
      "[[None, 'NC', 'KSXB', 162.24144751700075], [None, 'NC', 'KBO', 184.72472498450043], [None, 'TA', 'L02E', 204.942023033832], [None, 'NC', 'KEB', 251.84121306547556], [None, 'TA', 'K02D', 252.91472626823597], [None, 'TA', 'J01E', 292.0237243657311], [None, 'UO', 'DBO', 310.64885758432473]]\n"
     ]
    },
    {
     "name": "stderr",
     "output_type": "stream",
     "text": [
      "\r",
      " 82%|████████▏ | 816/990 [14:38<03:02,  1.05s/it]"
     ]
    },
    {
     "name": "stdout",
     "output_type": "stream",
     "text": [
      "[[None, 'NC', 'KSXB', 146.198176334162], [None, 'NC', 'KBO', 172.8504457721309], [None, 'TA', 'L02E', 189.0845108347519], [None, 'TA', 'K02D', 239.35614243719172]]\n"
     ]
    },
    {
     "name": "stderr",
     "output_type": "stream",
     "text": [
      "\r",
      " 83%|████████▎ | 817/990 [14:39<03:23,  1.18s/it]"
     ]
    },
    {
     "name": "stdout",
     "output_type": "stream",
     "text": [
      "[[None, 'NC', 'KEB', 260.08140521378533], [None, 'TA', 'J01E', 283.90181375029414], [None, 'NC', 'KBO', 299.19760454519593], [None, 'TA', 'K02D', 318.0834743533317], [None, 'UO', 'DBO', 339.611620126931], [None, 'NC', 'KSXB', 346.6042416364827], [None, 'TA', 'L02E', 346.79508902539305]]\n"
     ]
    },
    {
     "name": "stderr",
     "output_type": "stream",
     "text": [
      "\r",
      " 83%|████████▎ | 818/990 [14:40<03:24,  1.19s/it]"
     ]
    },
    {
     "name": "stdout",
     "output_type": "stream",
     "text": [
      "[[None, 'NC', 'KSXB', 161.40008553842284], [None, 'TA', 'L02E', 199.406152582721], [None, 'NC', 'KBO', 205.62685261069217], [None, 'TA', 'K02D', 258.34418451568314], [None, 'TA', 'J01E', 309.40655115037015]]\n"
     ]
    },
    {
     "name": "stderr",
     "output_type": "stream",
     "text": [
      "\r",
      " 83%|████████▎ | 819/990 [14:42<04:03,  1.43s/it]"
     ]
    },
    {
     "name": "stdout",
     "output_type": "stream",
     "text": [
      "[[None, 'NC', 'KEB', 216.419123188184], [None, 'TA', 'J01E', 245.72599424848084], [None, 'NC', 'KBO', 248.47502865027917], [None, 'TA', 'K02D', 273.8256348621659], [None, 'NC', 'KSXB', 294.4689489112094], [None, 'TA', 'L02E', 297.4950051611659], [None, 'UO', 'DBO', 301.608522331548]]\n"
     ]
    },
    {
     "name": "stderr",
     "output_type": "stream",
     "text": [
      "\r",
      " 83%|████████▎ | 820/990 [14:43<03:44,  1.32s/it]"
     ]
    },
    {
     "name": "stdout",
     "output_type": "stream",
     "text": [
      "[[None, 'NC', 'KSXB', 165.60403466699844], [None, 'NC', 'KBO', 197.79491588004132], [None, 'TA', 'L02E', 208.16225807389074], [None, 'TA', 'K02D', 261.6455899494082], [None, 'UO', 'DBO', 317.76399459293805]]\n"
     ]
    },
    {
     "name": "stderr",
     "output_type": "stream",
     "text": [
      "\r",
      " 83%|████████▎ | 821/990 [14:44<03:13,  1.15s/it]"
     ]
    },
    {
     "name": "stdout",
     "output_type": "stream",
     "text": [
      "[[None, 'UO', 'DBO', 36.30054985689358], [None, 'TA', 'J01E', 72.9127898084036], [None, 'TA', 'K02D', 93.33177993415302]]\n"
     ]
    },
    {
     "name": "stderr",
     "output_type": "stream",
     "text": [
      "\r",
      " 83%|████████▎ | 822/990 [14:46<03:29,  1.24s/it]"
     ]
    },
    {
     "name": "stdout",
     "output_type": "stream",
     "text": [
      "[[None, 'NC', 'KEB', 99.42483028434464], [None, 'NC', 'KBO', 114.97775937887614], [None, 'TA', 'J01E', 141.23758014570777], [None, 'TA', 'K02D', 150.73392742345916], [None, 'NC', 'KSXB', 161.03615470016936], [None, 'TA', 'L02E', 164.95253980683574]]\n"
     ]
    },
    {
     "name": "stderr",
     "output_type": "stream",
     "text": [
      "\r",
      " 83%|████████▎ | 823/990 [14:47<03:16,  1.18s/it]"
     ]
    },
    {
     "name": "stdout",
     "output_type": "stream",
     "text": [
      "[[None, 'TA', 'L02E', 100.07238956685147], [None, 'NC', 'KSXB', 122.78923535324374], [None, 'UO', 'DBO', 142.22439112289067], [None, 'TA', 'J01E', 179.67250616931406], [None, 'NC', 'KEB', 185.49246306926577]]\n"
     ]
    },
    {
     "name": "stderr",
     "output_type": "stream",
     "text": [
      "\r",
      " 83%|████████▎ | 824/990 [14:47<02:50,  1.03s/it]"
     ]
    },
    {
     "name": "stdout",
     "output_type": "stream",
     "text": [
      "[[None, 'NC', 'KBO', 28.188805893591336], [None, 'NC', 'KSXB', 67.64338740620371], [None, 'TA', 'K02D', 94.39277954714396]]\n"
     ]
    },
    {
     "name": "stderr",
     "output_type": "stream",
     "text": [
      "\r",
      " 83%|████████▎ | 825/990 [14:48<02:50,  1.03s/it]"
     ]
    },
    {
     "name": "stdout",
     "output_type": "stream",
     "text": [
      "[[None, 'NC', 'KEB', 12.364746300811198], [None, 'TA', 'J01E', 58.165883801165286], [None, 'TA', 'K02D', 65.77147233869532], [None, 'NC', 'KBO', 68.71806935464487], [None, 'UO', 'DBO', 104.56743800489032]]\n"
     ]
    },
    {
     "name": "stderr",
     "output_type": "stream",
     "text": [
      "\r",
      " 83%|████████▎ | 826/990 [14:49<02:45,  1.01s/it]"
     ]
    },
    {
     "name": "stdout",
     "output_type": "stream",
     "text": [
      "[[None, 'TA', 'L02E', 67.00079473820922], [None, 'NC', 'KSXB', 93.66931275890236], [None, 'TA', 'K02D', 98.55156409129023], [None, 'NC', 'KBO', 118.69301115583706]]\n"
     ]
    },
    {
     "name": "stderr",
     "output_type": "stream",
     "text": [
      "\r",
      " 84%|████████▎ | 827/990 [14:50<02:25,  1.12it/s]"
     ]
    },
    {
     "name": "stdout",
     "output_type": "stream",
     "text": [
      "[[None, 'NC', 'KSXB', 145.29850143961488], [None, 'NC', 'KBO', 164.08018596624572], [None, 'TA', 'K02D', 233.16434984115693]]\n"
     ]
    },
    {
     "name": "stderr",
     "output_type": "stream",
     "text": [
      "\r",
      " 84%|████████▎ | 828/990 [14:51<02:22,  1.13it/s]"
     ]
    },
    {
     "name": "stdout",
     "output_type": "stream",
     "text": [
      "[[None, 'NC', 'KSXB', 158.1241686678852], [None, 'NC', 'KBO', 163.66168733412314], [None, 'TA', 'L02E', 197.25516978943205], [None, 'TA', 'K02D', 234.38160481955433]]\n"
     ]
    },
    {
     "name": "stderr",
     "output_type": "stream",
     "text": [
      "\r",
      " 84%|████████▎ | 829/990 [14:52<02:22,  1.13it/s]"
     ]
    },
    {
     "name": "stdout",
     "output_type": "stream",
     "text": [
      "[[None, 'UO', 'DBO', 19.197586120105974], [None, 'TA', 'J01E', 59.01881258638715], [None, 'TA', 'K02D', 75.26537922876088]]\n"
     ]
    },
    {
     "name": "stderr",
     "output_type": "stream",
     "text": [
      "\r",
      " 84%|████████▍ | 830/990 [14:53<02:24,  1.11it/s]"
     ]
    },
    {
     "name": "stdout",
     "output_type": "stream",
     "text": [
      "[[None, 'NC', 'KSXB', 86.38963422482203], [None, 'NC', 'KBO', 119.3022797577761], [None, 'TA', 'L02E', 129.22588281676985], [None, 'TA', 'K02D', 181.8951039388406]]\n"
     ]
    },
    {
     "name": "stderr",
     "output_type": "stream",
     "text": [
      "\r",
      " 84%|████████▍ | 831/990 [14:54<02:37,  1.01it/s]"
     ]
    },
    {
     "name": "stdout",
     "output_type": "stream",
     "text": [
      "[[None, 'NC', 'KSXB', 21.290675848098424], [None, 'NC', 'KBO', 54.23325715323474], [None, 'TA', 'L02E', 62.490782985854736], [None, 'TA', 'K02D', 112.72149929243837]]\n"
     ]
    },
    {
     "name": "stderr",
     "output_type": "stream",
     "text": [
      "\r",
      " 84%|████████▍ | 832/990 [14:55<03:02,  1.16s/it]"
     ]
    },
    {
     "name": "stdout",
     "output_type": "stream",
     "text": [
      "[[None, 'NC', 'KSXB', 110.86993947832433], [None, 'NC', 'KBO', 143.03940749307867], [None, 'TA', 'L02E', 153.6496310194593], [None, 'TA', 'K02D', 206.43081267237235], [None, 'TA', 'J01E', 251.1090196800362], [None, 'UO', 'DBO', 262.7248348376665]]\n"
     ]
    },
    {
     "name": "stderr",
     "output_type": "stream",
     "text": [
      "\r",
      " 84%|████████▍ | 833/990 [14:56<02:49,  1.08s/it]"
     ]
    },
    {
     "name": "stdout",
     "output_type": "stream",
     "text": [
      "[[None, 'NC', 'KSXB', 153.12131696788842], [None, 'NC', 'KBO', 183.1886489259282], [None, 'TA', 'L02E', 195.92339170050636], [None, 'TA', 'K02D', 248.14580163631928]]\n"
     ]
    },
    {
     "name": "stderr",
     "output_type": "stream",
     "text": [
      "\r",
      " 84%|████████▍ | 834/990 [14:57<02:28,  1.05it/s]"
     ]
    },
    {
     "name": "stdout",
     "output_type": "stream",
     "text": [
      "[[None, 'NC', 'KSXB', 165.03972800070645], [None, 'NC', 'KBO', 206.70089946738764], [None, 'TA', 'K02D', 262.67932564008225]]\n"
     ]
    },
    {
     "name": "stderr",
     "output_type": "stream",
     "text": [
      "\r",
      " 84%|████████▍ | 835/990 [14:58<02:13,  1.16it/s]"
     ]
    },
    {
     "name": "stdout",
     "output_type": "stream",
     "text": [
      "[[None, 'NC', 'KSXB', 166.57575109414552], [None, 'NC', 'KBO', 208.06056079719056], [None, 'TA', 'K02D', 264.2361861953164]]\n"
     ]
    },
    {
     "name": "stderr",
     "output_type": "stream",
     "text": [
      "\r",
      " 84%|████████▍ | 836/990 [14:59<02:22,  1.08it/s]"
     ]
    },
    {
     "name": "stdout",
     "output_type": "stream",
     "text": [
      "[[None, 'TA', 'J01E', 304.12172471147966], [None, 'TA', 'K02D', 338.03785177044676], [None, 'UO', 'DBO', 359.8351792052208], [None, 'TA', 'L02E', 366.0029696202148]]\n"
     ]
    },
    {
     "name": "stderr",
     "output_type": "stream",
     "text": [
      " 85%|████████▍ | 839/990 [15:02<02:23,  1.05it/s]"
     ]
    },
    {
     "name": "stdout",
     "output_type": "stream",
     "text": [
      "[[None, 'TA', 'L02E', 71.62216050213229], [None, 'TA', 'K02D', 88.51844140191594], [None, 'UO', 'DBO', 102.10974899870239], [None, 'NC', 'KSXB', 105.56604200541796]]\n"
     ]
    },
    {
     "name": "stderr",
     "output_type": "stream",
     "text": [
      "\r",
      " 85%|████████▍ | 840/990 [15:03<02:56,  1.18s/it]"
     ]
    },
    {
     "name": "stdout",
     "output_type": "stream",
     "text": [
      "[[None, 'NC', 'KSXB', 147.79505779617074], [None, 'NC', 'KBO', 176.69858825501709], [None, 'TA', 'L02E', 190.66337952221332], [None, 'TA', 'K02D', 242.19838228329635], [None, 'TA', 'J01E', 284.9273294289486], [None, 'UO', 'DBO', 299.040806633383]]\n"
     ]
    },
    {
     "name": "stderr",
     "output_type": "stream",
     "text": [
      "\r",
      " 85%|████████▍ | 841/990 [15:04<02:46,  1.12s/it]"
     ]
    },
    {
     "name": "stdout",
     "output_type": "stream",
     "text": [
      "[[None, 'NC', 'KSXB', 147.26749546534836], [None, 'NC', 'KBO', 176.44397567781527], [None, 'TA', 'L02E', 190.12658272639035], [None, 'TA', 'K02D', 241.80556659621942]]\n"
     ]
    },
    {
     "name": "stderr",
     "output_type": "stream",
     "text": [
      "\r",
      " 85%|████████▌ | 842/990 [15:06<03:11,  1.30s/it]"
     ]
    },
    {
     "name": "stdout",
     "output_type": "stream",
     "text": [
      "[[None, 'NC', 'KEB', 35.25229182335466], [None, 'NC', 'KBO', 75.14665090368327], [None, 'TA', 'J01E', 79.11876004720754], [None, 'TA', 'K02D', 88.44145323101962], [None, 'TA', 'L02E', 115.69762123078348], [None, 'NC', 'KSXB', 126.48514903916569], [None, 'UO', 'DBO', 128.02297160210662]]\n"
     ]
    },
    {
     "name": "stderr",
     "output_type": "stream",
     "text": [
      "\r",
      " 85%|████████▌ | 843/990 [15:07<02:56,  1.20s/it]"
     ]
    },
    {
     "name": "stdout",
     "output_type": "stream",
     "text": [
      "[[None, 'NC', 'KBO', 11.282750956121927], [None, 'NC', 'KSXB', 51.6725190086755], [None, 'TA', 'L02E', 60.15384844168905], [None, 'TA', 'K02D', 81.83236739282155]]\n"
     ]
    },
    {
     "name": "stderr",
     "output_type": "stream",
     "text": [
      "\r",
      " 85%|████████▌ | 844/990 [15:09<03:09,  1.30s/it]"
     ]
    },
    {
     "name": "stdout",
     "output_type": "stream",
     "text": [
      "[[None, 'NC', 'KEB', 287.26882829584207], [None, 'TA', 'J01E', 311.1712622953059], [None, 'NC', 'KBO', 325.21935737126955], [None, 'TA', 'K02D', 345.2594293855939], [None, 'UO', 'DBO', 366.85685345197004], [None, 'NC', 'KSXB', 372.07616423585125], [None, 'TA', 'L02E', 373.2558351937867]]\n"
     ]
    },
    {
     "name": "stderr",
     "output_type": "stream",
     "text": [
      "\r",
      " 85%|████████▌ | 845/990 [15:10<02:57,  1.22s/it]"
     ]
    },
    {
     "name": "stdout",
     "output_type": "stream",
     "text": [
      "[[None, 'NC', 'KSXB', 150.52855780311728], [None, 'NC', 'KBO', 178.07051191690036], [None, 'TA', 'L02E', 193.42105686267993], [None, 'TA', 'K02D', 244.22902883605278], [None, 'UO', 'DBO', 301.30092118788565]]\n"
     ]
    },
    {
     "name": "stderr",
     "output_type": "stream",
     "text": [
      "\r",
      " 85%|████████▌ | 846/990 [15:11<02:50,  1.18s/it]"
     ]
    },
    {
     "name": "stdout",
     "output_type": "stream",
     "text": [
      "[[None, 'NC', 'KSXB', 143.17916357655477], [None, 'NC', 'KBO', 169.79054214640644], [None, 'TA', 'L02E', 186.06262484112443], [None, 'TA', 'K02D', 236.28434632825872]]\n"
     ]
    },
    {
     "name": "stderr",
     "output_type": "stream",
     "text": [
      "\r",
      " 86%|████████▌ | 847/990 [15:12<02:59,  1.25s/it]"
     ]
    },
    {
     "name": "stdout",
     "output_type": "stream",
     "text": [
      "[[None, 'NC', 'KSXB', 199.5656050319677], [None, 'NC', 'KBO', 213.07522834681038], [None, 'TA', 'L02E', 241.10031667260003], [None, 'TA', 'K02D', 283.43144903095936], [None, 'TA', 'J01E', 316.5596274029559], [None, 'UO', 'DBO', 341.6565750212622]]\n"
     ]
    },
    {
     "name": "stderr",
     "output_type": "stream",
     "text": [
      "\r",
      " 86%|████████▌ | 848/990 [15:13<02:42,  1.15s/it]"
     ]
    },
    {
     "name": "stdout",
     "output_type": "stream",
     "text": [
      "[[None, 'NC', 'KSXB', 146.6518946129581], [None, 'NC', 'KBO', 181.4453673627663], [None, 'TA', 'L02E', 188.87778879262765], [None, 'TA', 'K02D', 243.50152864918093]]\n"
     ]
    },
    {
     "name": "stderr",
     "output_type": "stream",
     "text": [
      "\r",
      " 86%|████████▌ | 849/990 [15:14<02:21,  1.00s/it]"
     ]
    },
    {
     "name": "stdout",
     "output_type": "stream",
     "text": [
      "[[None, 'UO', 'DBO', 37.70921424248803], [None, 'TA', 'J01E', 56.34782271201247], [None, 'TA', 'K02D', 87.32825243323026]]\n"
     ]
    },
    {
     "name": "stderr",
     "output_type": "stream",
     "text": [
      "\r",
      " 86%|████████▌ | 850/990 [15:14<02:06,  1.11it/s]"
     ]
    },
    {
     "name": "stdout",
     "output_type": "stream",
     "text": [
      "[[None, 'UO', 'DBO', 45.086797881855595], [None, 'TA', 'J01E', 94.53753546569166], [None, 'TA', 'K02D', 102.15057074725595]]\n"
     ]
    },
    {
     "name": "stderr",
     "output_type": "stream",
     "text": [
      "\r",
      " 86%|████████▌ | 851/990 [15:15<02:10,  1.06it/s]"
     ]
    },
    {
     "name": "stdout",
     "output_type": "stream",
     "text": [
      "[[None, 'NC', 'KSXB', 35.8600334224586], [None, 'NC', 'KBO', 78.05180088928122], [None, 'TA', 'L02E', 78.32875402959425], [None, 'TA', 'K02D', 133.2477006679076]]\n"
     ]
    },
    {
     "name": "stderr",
     "output_type": "stream",
     "text": [
      "\r",
      " 86%|████████▌ | 852/990 [15:16<02:16,  1.01it/s]"
     ]
    },
    {
     "name": "stdout",
     "output_type": "stream",
     "text": [
      "[[None, 'NC', 'KSXB', 154.126562287072], [None, 'NC', 'KBO', 183.67210804180345], [None, 'TA', 'L02E', 196.95767255992163], [None, 'TA', 'K02D', 248.90586105873385], [None, 'UO', 'DBO', 305.62205765649344]]\n"
     ]
    },
    {
     "name": "stderr",
     "output_type": "stream",
     "text": [
      "\r",
      " 86%|████████▌ | 853/990 [15:18<02:25,  1.06s/it]"
     ]
    },
    {
     "name": "stdout",
     "output_type": "stream",
     "text": [
      "[[None, 'NC', 'KSXB', 160.92951224200846], [None, 'NC', 'KBO', 195.92182710792335], [None, 'TA', 'L02E', 203.0274137801162], [None, 'TA', 'K02D', 257.91135495829764], [None, 'TA', 'J01E', 303.8179447314971]]\n"
     ]
    },
    {
     "name": "stderr",
     "output_type": "stream",
     "text": [
      "\r",
      " 86%|████████▋ | 854/990 [15:18<02:07,  1.07it/s]"
     ]
    },
    {
     "name": "stdout",
     "output_type": "stream",
     "text": [
      "[[None, 'NC', 'KBO', 21.074171056078512], [None, 'NC', 'KSXB', 60.37007180615269], [None, 'TA', 'K02D', 89.5250806899712]]\n"
     ]
    },
    {
     "name": "stderr",
     "output_type": "stream",
     "text": [
      "\r",
      " 86%|████████▋ | 855/990 [15:19<02:05,  1.08it/s]"
     ]
    },
    {
     "name": "stdout",
     "output_type": "stream",
     "text": [
      "[[None, 'NC', 'KEB', 47.2330400971051], [None, 'TA', 'J01E', 71.26631849344218], [None, 'TA', 'K02D', 104.23540337905564]]\n"
     ]
    },
    {
     "name": "stderr",
     "output_type": "stream",
     "text": [
      " 87%|████████▋ | 857/990 [15:21<02:14,  1.01s/it]"
     ]
    },
    {
     "name": "stdout",
     "output_type": "stream",
     "text": [
      "[[None, 'NC', 'KSXB', 148.32909199180332], [None, 'NC', 'KBO', 176.95983116317893], [None, 'TA', 'L02E', 191.20514524086843], [None, 'TA', 'K02D', 242.59566513809824], [None, 'TA', 'J01E', 285.17662802343216]]\n"
     ]
    },
    {
     "name": "stderr",
     "output_type": "stream",
     "text": [
      "\r",
      " 87%|████████▋ | 858/990 [15:22<02:10,  1.01it/s]"
     ]
    },
    {
     "name": "stdout",
     "output_type": "stream",
     "text": [
      "[[None, 'NC', 'KSXB', 141.43400004727326], [None, 'NC', 'KBO', 168.90643962242893], [None, 'TA', 'L02E', 184.32683712410437], [None, 'TA', 'K02D', 235.01113656246108]]\n"
     ]
    },
    {
     "name": "stderr",
     "output_type": "stream",
     "text": [
      "\r",
      " 87%|████████▋ | 859/990 [15:23<02:01,  1.08it/s]"
     ]
    },
    {
     "name": "stdout",
     "output_type": "stream",
     "text": [
      "[[None, 'NC', 'KSXB', 154.126562287072], [None, 'TA', 'L02E', 196.95767255992163], [None, 'TA', 'K02D', 248.90586105873385]]\n"
     ]
    },
    {
     "name": "stderr",
     "output_type": "stream",
     "text": [
      "\r",
      " 87%|████████▋ | 860/990 [15:24<01:59,  1.09it/s]"
     ]
    },
    {
     "name": "stdout",
     "output_type": "stream",
     "text": [
      "[[None, 'NC', 'KSXB', 136.15648497208713], [None, 'NC', 'KBO', 164.78041564185867], [None, 'TA', 'L02E', 179.04306909101038], [None, 'TA', 'K02D', 230.3041451538056]]\n"
     ]
    },
    {
     "name": "stderr",
     "output_type": "stream",
     "text": [
      "\r",
      " 87%|████████▋ | 861/990 [15:25<01:47,  1.20it/s]"
     ]
    },
    {
     "name": "stdout",
     "output_type": "stream",
     "text": [
      "[[None, 'NC', 'KSXB', 147.38513085935037], [None, 'TA', 'L02E', 190.26009510842343], [None, 'TA', 'K02D', 240.22643521489366]]\n"
     ]
    },
    {
     "name": "stderr",
     "output_type": "stream",
     "text": [
      "\r",
      " 87%|████████▋ | 862/990 [15:25<01:41,  1.26it/s]"
     ]
    },
    {
     "name": "stdout",
     "output_type": "stream",
     "text": [
      "[[None, 'NC', 'KSXB', 134.96932868945652], [None, 'NC', 'KBO', 139.7921496907686], [None, 'TA', 'K02D', 210.50876674406962]]\n"
     ]
    },
    {
     "name": "stderr",
     "output_type": "stream",
     "text": [
      "\r",
      " 87%|████████▋ | 863/990 [15:26<01:48,  1.17it/s]"
     ]
    },
    {
     "name": "stdout",
     "output_type": "stream",
     "text": [
      "[[None, 'NC', 'KSXB', 149.96933046257482], [None, 'NC', 'KBO', 177.78304615519954], [None, 'TA', 'L02E', 192.8598354320129], [None, 'TA', 'K02D', 243.81409725100596]]\n"
     ]
    },
    {
     "name": "stderr",
     "output_type": "stream",
     "text": [
      "\r",
      " 87%|████████▋ | 864/990 [15:27<01:44,  1.20it/s]"
     ]
    },
    {
     "name": "stdout",
     "output_type": "stream",
     "text": [
      "[[None, 'NC', 'KSXB', 158.2951345131499], [None, 'TA', 'L02E', 201.18767376349712], [None, 'TA', 'K02D', 251.64378558488977]]\n"
     ]
    },
    {
     "name": "stderr",
     "output_type": "stream",
     "text": [
      "\r",
      " 87%|████████▋ | 865/990 [15:28<01:53,  1.10it/s]"
     ]
    },
    {
     "name": "stdout",
     "output_type": "stream",
     "text": [
      "[[None, 'NC', 'KBO', 44.36854657368112], [None, 'NC', 'KSXB', 86.35642403401458], [None, 'TA', 'L02E', 96.04604242293921], [None, 'TA', 'K02D', 103.1928186368419]]\n"
     ]
    },
    {
     "name": "stderr",
     "output_type": "stream",
     "text": [
      "\r",
      " 87%|████████▋ | 866/990 [15:29<01:53,  1.09it/s]"
     ]
    },
    {
     "name": "stdout",
     "output_type": "stream",
     "text": [
      "[[None, 'NC', 'KSXB', 148.32909199180332], [None, 'NC', 'KBO', 176.95983116317893], [None, 'TA', 'L02E', 191.20514524086843], [None, 'TA', 'K02D', 242.59566513809824]]\n"
     ]
    },
    {
     "name": "stderr",
     "output_type": "stream",
     "text": [
      "\r",
      " 88%|████████▊ | 867/990 [15:30<01:54,  1.07it/s]"
     ]
    },
    {
     "name": "stdout",
     "output_type": "stream",
     "text": [
      "[[None, 'NC', 'KSXB', 152.14198710301324], [None, 'NC', 'KBO', 182.73101434257015], [None, 'TA', 'L02E', 194.9090343799606], [None, 'TA', 'K02D', 247.40342344127203]]\n"
     ]
    },
    {
     "name": "stderr",
     "output_type": "stream",
     "text": [
      "\r",
      " 88%|████████▊ | 868/990 [15:31<01:44,  1.17it/s]"
     ]
    },
    {
     "name": "stdout",
     "output_type": "stream",
     "text": [
      "[[None, 'UO', 'DBO', 19.950591405154885], [None, 'TA', 'J01E', 70.06222184321051], [None, 'TA', 'K02D', 78.06133037367911]]\n"
     ]
    },
    {
     "name": "stderr",
     "output_type": "stream",
     "text": [
      "\r",
      " 88%|████████▊ | 869/990 [15:32<01:46,  1.13it/s]"
     ]
    },
    {
     "name": "stdout",
     "output_type": "stream",
     "text": [
      "[[None, 'NC', 'KSXB', 201.90958857600634], [None, 'NC', 'KBO', 222.10421455283992], [None, 'TA', 'L02E', 244.495301557995], [None, 'TA', 'K02D', 291.2088343553049]]\n"
     ]
    },
    {
     "name": "stderr",
     "output_type": "stream",
     "text": [
      "\r",
      " 88%|████████▊ | 870/990 [15:33<01:48,  1.11it/s]"
     ]
    },
    {
     "name": "stdout",
     "output_type": "stream",
     "text": [
      "[[None, 'NC', 'KSXB', 156.5997482547026], [None, 'NC', 'KBO', 184.18302773403715], [None, 'TA', 'L02E', 199.4903028794761], [None, 'TA', 'K02D', 250.37441999694727]]\n"
     ]
    },
    {
     "name": "stderr",
     "output_type": "stream",
     "text": [
      " 88%|████████▊ | 872/990 [15:35<01:52,  1.05it/s]"
     ]
    },
    {
     "name": "stdout",
     "output_type": "stream",
     "text": [
      "[[None, 'NC', 'KBO', 106.26817957079037], [None, 'NC', 'KEB', 128.67705997110235], [None, 'NC', 'KSXB', 138.11819854335246], [None, 'TA', 'K02D', 164.92331184762284], [None, 'TA', 'J01E', 174.52572407957382], [None, 'UO', 'DBO', 216.8562872732168]]\n"
     ]
    },
    {
     "name": "stderr",
     "output_type": "stream",
     "text": [
      " 88%|████████▊ | 874/990 [15:37<02:15,  1.17s/it]"
     ]
    },
    {
     "name": "stdout",
     "output_type": "stream",
     "text": [
      "[[None, 'NC', 'KSXB', 145.88996652046416], [None, 'NC', 'KBO', 177.46886091097514], [None, 'TA', 'L02E', 188.5884510753177], [None, 'TA', 'K02D', 241.5437073325994], [None, 'TA', 'J01E', 285.68429516534263]]\n"
     ]
    },
    {
     "name": "stderr",
     "output_type": "stream",
     "text": [
      "\r",
      " 88%|████████▊ | 875/990 [15:38<02:11,  1.15s/it]"
     ]
    },
    {
     "name": "stdout",
     "output_type": "stream",
     "text": [
      "[[None, 'UO', 'DBO', 127.38438413381701], [None, 'TA', 'J01E', 161.78829836866623], [None, 'TA', 'K02D', 185.57120549844436], [None, 'NC', 'KEB', 207.54520893643846], [None, 'TA', 'L02E', 235.17001116640986]]\n"
     ]
    },
    {
     "name": "stderr",
     "output_type": "stream",
     "text": [
      "\r",
      " 88%|████████▊ | 876/990 [15:39<02:03,  1.08s/it]"
     ]
    },
    {
     "name": "stdout",
     "output_type": "stream",
     "text": [
      "[[None, 'NC', 'KSXB', 147.79505779617074], [None, 'NC', 'KBO', 176.69858825501709], [None, 'TA', 'L02E', 190.66337952221332], [None, 'TA', 'K02D', 242.19838228329635]]\n"
     ]
    },
    {
     "name": "stderr",
     "output_type": "stream",
     "text": [
      "\r",
      " 89%|████████▊ | 877/990 [15:40<01:57,  1.04s/it]"
     ]
    },
    {
     "name": "stdout",
     "output_type": "stream",
     "text": [
      "[[None, 'NC', 'KSXB', 139.0662753068881], [None, 'NC', 'KBO', 166.96244239335311], [None, 'TA', 'L02E', 181.95910994137193], [None, 'TA', 'K02D', 232.85336604945846]]\n"
     ]
    },
    {
     "name": "stderr",
     "output_type": "stream",
     "text": [
      "\r",
      " 89%|████████▊ | 878/990 [15:41<01:45,  1.06it/s]"
     ]
    },
    {
     "name": "stdout",
     "output_type": "stream",
     "text": [
      "[[None, 'NC', 'KSXB', 144.57648630545594], [None, 'TA', 'L02E', 186.7278230189052], [None, 'TA', 'K02D', 241.54326935966287]]\n"
     ]
    },
    {
     "name": "stderr",
     "output_type": "stream",
     "text": [
      "\r",
      " 89%|████████▉ | 879/990 [15:42<01:51,  1.01s/it]"
     ]
    },
    {
     "name": "stdout",
     "output_type": "stream",
     "text": [
      "[[None, 'NC', 'KSXB', 142.3501021833625], [None, 'NC', 'KBO', 175.1665166754357], [None, 'TA', 'K02D', 238.48315334618954], [None, 'UO', 'DBO', 294.52192939557835]]\n"
     ]
    },
    {
     "name": "stderr",
     "output_type": "stream",
     "text": [
      " 89%|████████▉ | 882/990 [15:44<01:26,  1.25it/s]"
     ]
    },
    {
     "name": "stdout",
     "output_type": "stream",
     "text": [
      "[[None, 'NC', 'KSXB', 154.42256493987406], [None, 'NC', 'KBO', 183.05528654745186], [None, 'TA', 'K02D', 248.74154273014216]]\n"
     ]
    },
    {
     "name": "stderr",
     "output_type": "stream",
     "text": [
      "\r",
      " 89%|████████▉ | 883/990 [15:45<01:30,  1.19it/s]"
     ]
    },
    {
     "name": "stdout",
     "output_type": "stream",
     "text": [
      "[[None, 'NC', 'KSXB', 154.61085826797742], [None, 'NC', 'KBO', 180.26234501996186], [None, 'TA', 'L02E', 197.480557467579], [None, 'TA', 'K02D', 247.25428167902183]]\n"
     ]
    },
    {
     "name": "stderr",
     "output_type": "stream",
     "text": [
      "\r",
      " 89%|████████▉ | 884/990 [15:46<01:37,  1.09it/s]"
     ]
    },
    {
     "name": "stdout",
     "output_type": "stream",
     "text": [
      "[[None, 'NC', 'KSXB', 117.29305986988214], [None, 'TA', 'L02E', 156.80114919801], [None, 'NC', 'KBO', 160.4232985387783], [None, 'TA', 'K02D', 214.83918617569927]]\n"
     ]
    },
    {
     "name": "stderr",
     "output_type": "stream",
     "text": [
      "\r",
      " 89%|████████▉ | 885/990 [15:47<01:41,  1.03it/s]"
     ]
    },
    {
     "name": "stdout",
     "output_type": "stream",
     "text": [
      "[[None, 'UO', 'DBO', 133.29994897641384], [None, 'TA', 'J01E', 161.258938951874], [None, 'TA', 'K02D', 190.76796926286926], [None, 'TA', 'L02E', 243.2179153313687]]\n"
     ]
    },
    {
     "name": "stderr",
     "output_type": "stream",
     "text": [
      "\r",
      " 89%|████████▉ | 886/990 [15:48<01:47,  1.04s/it]"
     ]
    },
    {
     "name": "stdout",
     "output_type": "stream",
     "text": [
      "[[None, 'NC', 'KSXB', 180.51518957841745], [None, 'NC', 'KBO', 205.85696933199023], [None, 'TA', 'L02E', 223.39708015624646], [None, 'TA', 'K02D', 273.16480620212695], [None, 'TA', 'J01E', 313.5868404896961]]\n"
     ]
    },
    {
     "name": "stderr",
     "output_type": "stream",
     "text": [
      " 90%|████████▉ | 888/990 [15:50<01:35,  1.07it/s]"
     ]
    },
    {
     "name": "stdout",
     "output_type": "stream",
     "text": [
      "[[None, 'TA', 'J01E', 30.16756616588817], [None, 'TA', 'K02D', 76.526951599816], [None, 'UO', 'DBO', 86.0480878741275]]\n"
     ]
    },
    {
     "name": "stderr",
     "output_type": "stream",
     "text": [
      "\r",
      " 90%|████████▉ | 889/990 [15:51<01:32,  1.09it/s]"
     ]
    },
    {
     "name": "stdout",
     "output_type": "stream",
     "text": [
      "[[None, 'NC', 'KSXB', 156.04639745630553], [None, 'NC', 'KBO', 183.89164171197163], [None, 'TA', 'L02E', 198.9337431690121], [None, 'TA', 'K02D', 249.95977152069028]]\n"
     ]
    },
    {
     "name": "stderr",
     "output_type": "stream",
     "text": [
      "\r",
      " 90%|████████▉ | 890/990 [15:52<01:39,  1.00it/s]"
     ]
    },
    {
     "name": "stdout",
     "output_type": "stream",
     "text": [
      "[[None, 'NC', 'KBO', 147.37340231409348], [None, 'NC', 'KSXB', 171.78080085290486], [None, 'TA', 'L02E', 196.53604674617802], [None, 'TA', 'K02D', 209.14849217448318], [None, 'TA', 'J01E', 219.05337330005926]]\n"
     ]
    },
    {
     "name": "stderr",
     "output_type": "stream",
     "text": [
      "\r",
      " 90%|█████████ | 891/990 [15:53<01:36,  1.02it/s]"
     ]
    },
    {
     "name": "stdout",
     "output_type": "stream",
     "text": [
      "[[None, 'NC', 'KSXB', 136.58893747023362], [None, 'NC', 'KBO', 151.48228536917867], [None, 'TA', 'L02E', 177.98310999205137], [None, 'TA', 'K02D', 221.29688618776277]]\n"
     ]
    },
    {
     "name": "stderr",
     "output_type": "stream",
     "text": [
      "\r",
      " 90%|█████████ | 892/990 [15:54<01:27,  1.12it/s]"
     ]
    },
    {
     "name": "stdout",
     "output_type": "stream",
     "text": [
      "[[None, 'NC', 'KSXB', 145.53298916203948], [None, 'TA', 'L02E', 188.29080564058185], [None, 'TA', 'K02D', 240.89785891960798]]\n"
     ]
    },
    {
     "name": "stderr",
     "output_type": "stream",
     "text": [
      "\r",
      " 90%|█████████ | 893/990 [15:55<01:31,  1.05it/s]"
     ]
    },
    {
     "name": "stdout",
     "output_type": "stream",
     "text": [
      "[[None, 'NC', 'KSXB', 82.4313260828368], [None, 'NC', 'KBO', 113.80799765545093], [None, 'TA', 'L02E', 125.32370434117946], [None, 'TA', 'K02D', 177.14586984747265]]\n"
     ]
    },
    {
     "name": "stderr",
     "output_type": "stream",
     "text": [
      "\r",
      " 90%|█████████ | 894/990 [15:56<01:29,  1.07it/s]"
     ]
    },
    {
     "name": "stdout",
     "output_type": "stream",
     "text": [
      "[[None, 'NC', 'KSXB', 117.37762538786278], [None, 'NC', 'KBO', 146.31619939770954], [None, 'TA', 'L02E', 160.2702736597729], [None, 'TA', 'K02D', 211.47107108757695]]\n"
     ]
    },
    {
     "name": "stderr",
     "output_type": "stream",
     "text": [
      "\r",
      " 90%|█████████ | 895/990 [15:57<01:27,  1.09it/s]"
     ]
    },
    {
     "name": "stdout",
     "output_type": "stream",
     "text": [
      "[[None, 'NC', 'KBO', 54.31367243059385], [None, 'NC', 'KSXB', 93.11347306075307], [None, 'TA', 'L02E', 105.79596576936625], [None, 'TA', 'K02D', 114.01803976093174]]\n"
     ]
    },
    {
     "name": "stderr",
     "output_type": "stream",
     "text": [
      "\r",
      " 91%|█████████ | 896/990 [15:58<01:29,  1.05it/s]"
     ]
    },
    {
     "name": "stdout",
     "output_type": "stream",
     "text": [
      "[[None, 'TA', 'L02E', 86.73299571340605], [None, 'NC', 'KSXB', 114.01800879833007], [None, 'NC', 'KBO', 138.33668509019478], [None, 'TA', 'J01E', 161.92126336953018]]\n"
     ]
    },
    {
     "name": "stderr",
     "output_type": "stream",
     "text": [
      "\r",
      " 91%|█████████ | 897/990 [15:59<01:35,  1.02s/it]"
     ]
    },
    {
     "name": "stdout",
     "output_type": "stream",
     "text": [
      "[[None, 'NC', 'KBO', 145.64352094322015], [None, 'NC', 'KSXB', 167.3835300184024], [None, 'TA', 'L02E', 193.84042011489535], [None, 'TA', 'K02D', 209.22021939120316], [None, 'TA', 'J01E', 221.5836979010506]]\n"
     ]
    },
    {
     "name": "stderr",
     "output_type": "stream",
     "text": [
      "\r",
      " 91%|█████████ | 898/990 [16:00<01:31,  1.00it/s]"
     ]
    },
    {
     "name": "stdout",
     "output_type": "stream",
     "text": [
      "[[None, 'NC', 'KSXB', 143.28837449342973], [None, 'NC', 'KBO', 174.64908446667022], [None, 'TA', 'L02E', 186.01616571410096], [None, 'TA', 'K02D', 238.82644963780567]]\n"
     ]
    },
    {
     "name": "stderr",
     "output_type": "stream",
     "text": [
      "\r",
      " 91%|█████████ | 899/990 [16:01<01:27,  1.05it/s]"
     ]
    },
    {
     "name": "stdout",
     "output_type": "stream",
     "text": [
      "[[None, 'NC', 'KBO', 123.35367707460013], [None, 'NC', 'KSXB', 159.67110100159334], [None, 'TA', 'K02D', 175.64262015985832], [None, 'TA', 'J01E', 177.58402404577586]]\n"
     ]
    },
    {
     "name": "stderr",
     "output_type": "stream",
     "text": [
      " 91%|█████████ | 901/990 [16:02<01:19,  1.13it/s]"
     ]
    },
    {
     "name": "stdout",
     "output_type": "stream",
     "text": [
      "[[None, 'NC', 'KSXB', 156.26149970474862], [None, 'NC', 'KBO', 171.19485899710307], [None, 'TA', 'L02E', 197.83147739894872], [None, 'TA', 'K02D', 241.15075558861503]]\n"
     ]
    },
    {
     "name": "stderr",
     "output_type": "stream",
     "text": [
      "\r",
      " 91%|█████████ | 902/990 [16:03<01:18,  1.13it/s]"
     ]
    },
    {
     "name": "stdout",
     "output_type": "stream",
     "text": [
      "[[None, 'NC', 'KSXB', 149.96933046257482], [None, 'TA', 'L02E', 192.8598354320129], [None, 'TA', 'K02D', 243.81409725100596]]\n"
     ]
    },
    {
     "name": "stderr",
     "output_type": "stream",
     "text": [
      "\r",
      " 91%|█████████ | 903/990 [16:04<01:17,  1.13it/s]"
     ]
    },
    {
     "name": "stdout",
     "output_type": "stream",
     "text": [
      "[[None, 'NC', 'KSXB', 151.18907605573872], [None, 'NC', 'KBO', 182.2993985337741], [None, 'TA', 'L02E', 193.91491309775148], [None, 'TA', 'K02D', 246.67888597755982]]\n"
     ]
    },
    {
     "name": "stderr",
     "output_type": "stream",
     "text": [
      "\r",
      " 91%|█████████▏| 904/990 [16:05<01:10,  1.22it/s]"
     ]
    },
    {
     "name": "stdout",
     "output_type": "stream",
     "text": [
      "[[None, 'TA', 'L02E', 138.82231816185185], [None, 'UO', 'DBO', 143.66366666771623], [None, 'TA', 'K02D', 150.60204817921098]]\n"
     ]
    },
    {
     "name": "stderr",
     "output_type": "stream",
     "text": [
      "\r",
      " 91%|█████████▏| 905/990 [16:05<01:05,  1.29it/s]"
     ]
    },
    {
     "name": "stdout",
     "output_type": "stream",
     "text": [
      "[[None, 'TA', 'L02E', 139.92603074257218], [None, 'UO', 'DBO', 144.5252691806236], [None, 'TA', 'K02D', 151.6672843544904]]\n"
     ]
    },
    {
     "name": "stderr",
     "output_type": "stream",
     "text": [
      " 92%|█████████▏| 908/990 [16:09<01:16,  1.08it/s]"
     ]
    },
    {
     "name": "stdout",
     "output_type": "stream",
     "text": [
      "[[None, 'NC', 'KSXB', 103.28014966098058], [None, 'NC', 'KBO', 124.40003569370542], [None, 'TA', 'K02D', 192.29451297517207], [None, 'UO', 'DBO', 250.06724705317578]]\n"
     ]
    },
    {
     "name": "stderr",
     "output_type": "stream",
     "text": [
      "\r",
      " 92%|█████████▏| 909/990 [16:10<01:16,  1.05it/s]"
     ]
    },
    {
     "name": "stdout",
     "output_type": "stream",
     "text": [
      "[[None, 'NC', 'KSXB', 140.5102759380059], [None, 'NC', 'KBO', 175.5252813432465], [None, 'TA', 'L02E', 182.73252304166073], [None, 'TA', 'K02D', 237.39105033776048]]\n"
     ]
    },
    {
     "name": "stderr",
     "output_type": "stream",
     "text": [
      "\r",
      " 92%|█████████▏| 910/990 [16:10<01:14,  1.07it/s]"
     ]
    },
    {
     "name": "stdout",
     "output_type": "stream",
     "text": [
      "[[None, 'NC', 'KSXB', 130.77488698776756], [None, 'NC', 'KBO', 159.85142319436906], [None, 'TA', 'L02E', 173.65707405840644], [None, 'TA', 'K02D', 225.1014700571971]]\n"
     ]
    },
    {
     "name": "stderr",
     "output_type": "stream",
     "text": [
      "\r",
      " 92%|█████████▏| 911/990 [16:12<01:22,  1.05s/it]"
     ]
    },
    {
     "name": "stdout",
     "output_type": "stream",
     "text": [
      "[[None, 'UO', 'DBO', 31.30972989581089], [None, 'TA', 'K02D', 62.55553432323592], [None, 'TA', 'J01E', 82.81532651946034], [None, 'TA', 'L02E', 100.00174384190998], [None, 'NC', 'KBO', 130.14078249385838]]\n"
     ]
    },
    {
     "name": "stderr",
     "output_type": "stream",
     "text": [
      "\r",
      " 92%|█████████▏| 912/990 [16:13<01:27,  1.12s/it]"
     ]
    },
    {
     "name": "stdout",
     "output_type": "stream",
     "text": [
      "[[None, 'NC', 'KSXB', 130.25493133976403], [None, 'NC', 'KBO', 133.94753906926545], [None, 'TA', 'L02E', 168.38621665152849], [None, 'TA', 'K02D', 204.66743489220056], [None, 'TA', 'J01E', 235.21918637146314], [None, 'UO', 'DBO', 262.7275095813079]]\n"
     ]
    },
    {
     "name": "stderr",
     "output_type": "stream",
     "text": [
      "\r",
      " 92%|█████████▏| 913/990 [16:15<01:33,  1.21s/it]"
     ]
    },
    {
     "name": "stdout",
     "output_type": "stream",
     "text": [
      "[[None, 'NC', 'KSXB', 136.45835606283688], [None, 'NC', 'KBO', 174.7612089739755], [None, 'TA', 'L02E', 177.86294072979692], [None, 'TA', 'K02D', 234.05995827615718], [None, 'TA', 'J01E', 281.7236313915767], [None, 'UO', 'DBO', 288.51302575181967]]\n"
     ]
    },
    {
     "name": "stderr",
     "output_type": "stream",
     "text": [
      "\r",
      " 92%|█████████▏| 914/990 [16:15<01:24,  1.12s/it]"
     ]
    },
    {
     "name": "stdout",
     "output_type": "stream",
     "text": [
      "[[None, 'NC', 'KSXB', 142.54857359837789], [None, 'NC', 'KBO', 180.52797727356528], [None, 'TA', 'L02E', 183.99570743616144], [None, 'TA', 'K02D', 240.1209788818782]]\n"
     ]
    },
    {
     "name": "stderr",
     "output_type": "stream",
     "text": [
      "\r",
      " 92%|█████████▏| 915/990 [16:17<01:23,  1.11s/it]"
     ]
    },
    {
     "name": "stdout",
     "output_type": "stream",
     "text": [
      "[[None, 'NC', 'KSXB', 233.78748565533667], [None, 'NC', 'KBO', 241.5463636631112], [None, 'TA', 'L02E', 274.1103660778857], [None, 'NC', 'KEB', 296.2943399557471], [None, 'TA', 'K02D', 312.26371518104287]]\n"
     ]
    },
    {
     "name": "stderr",
     "output_type": "stream",
     "text": [
      "\r",
      " 93%|█████████▎| 916/990 [16:17<01:16,  1.03s/it]"
     ]
    },
    {
     "name": "stdout",
     "output_type": "stream",
     "text": [
      "[[None, 'NC', 'KSXB', 154.42256493987406], [None, 'NC', 'KBO', 183.05528654745186], [None, 'TA', 'L02E', 197.2923024489893], [None, 'TA', 'K02D', 248.74154273014216]]\n"
     ]
    },
    {
     "name": "stderr",
     "output_type": "stream",
     "text": [
      "\r",
      " 93%|█████████▎| 917/990 [16:19<01:22,  1.13s/it]"
     ]
    },
    {
     "name": "stdout",
     "output_type": "stream",
     "text": [
      "[[None, 'NC', 'KSXB', 74.61582068015402], [None, 'NC', 'KBO', 83.46091521828183], [None, 'TA', 'L02E', 112.90335619592692], [None, 'TA', 'K02D', 153.23411994344988], [None, 'TA', 'J01E', 190.12607043640227], [None, 'UO', 'DBO', 211.43175831182134]]\n"
     ]
    },
    {
     "name": "stderr",
     "output_type": "stream",
     "text": [
      "\r",
      " 93%|█████████▎| 918/990 [16:20<01:29,  1.24s/it]"
     ]
    },
    {
     "name": "stdout",
     "output_type": "stream",
     "text": [
      "[[None, 'NC', 'KEB', 232.38948087421508], [None, 'NC', 'KBO', 259.5632213744939], [None, 'TA', 'J01E', 263.7020740690792], [None, 'TA', 'K02D', 289.17484092299605], [None, 'TA', 'L02E', 309.5752427318356], [None, 'UO', 'DBO', 319.4104677602381]]\n"
     ]
    },
    {
     "name": "stderr",
     "output_type": "stream",
     "text": [
      "\r",
      " 93%|█████████▎| 919/990 [16:21<01:14,  1.05s/it]"
     ]
    },
    {
     "name": "stdout",
     "output_type": "stream",
     "text": [
      "[[None, 'NC', 'KSXB', 147.39907839456083], [None, 'NC', 'KBO', 181.6883239151333], [None, 'TA', 'K02D', 244.09353702064857]]\n"
     ]
    },
    {
     "name": "stderr",
     "output_type": "stream",
     "text": [
      "\r",
      " 93%|█████████▎| 920/990 [16:22<01:17,  1.11s/it]"
     ]
    },
    {
     "name": "stdout",
     "output_type": "stream",
     "text": [
      "[[None, 'NC', 'KEB', 193.84806351925494], [None, 'TA', 'J01E', 224.73940238341774], [None, 'TA', 'K02D', 250.93973459887383], [None, 'NC', 'KSXB', 270.4518979689707], [None, 'TA', 'L02E', 273.59667659079855], [None, 'UO', 'DBO', 280.45355751768415]]\n"
     ]
    },
    {
     "name": "stderr",
     "output_type": "stream",
     "text": [
      "\r",
      " 93%|█████████▎| 921/990 [16:23<01:16,  1.10s/it]"
     ]
    },
    {
     "name": "stdout",
     "output_type": "stream",
     "text": [
      "[[None, 'NC', 'KSXB', 158.1080981122505], [None, 'TA', 'L02E', 174.7591400584247], [None, 'TA', 'K02D', 177.36835796981993], [None, 'TA', 'J01E', 180.92491327364], [None, 'UO', 'DBO', 226.64844904745934]]\n"
     ]
    },
    {
     "name": "stderr",
     "output_type": "stream",
     "text": [
      "\r",
      " 93%|█████████▎| 922/990 [16:24<01:16,  1.13s/it]"
     ]
    },
    {
     "name": "stdout",
     "output_type": "stream",
     "text": [
      "[[None, 'TA', 'L02E', 338.053481594978], [None, 'UO', 'DBO', 345.3639948944452], [None, 'NC', 'KSXB', 356.53775539878603], [None, 'TA', 'K02D', 357.85789492840746], [None, 'TA', 'J01E', 397.3282638200398]]\n"
     ]
    },
    {
     "name": "stderr",
     "output_type": "stream",
     "text": [
      "\r",
      " 93%|█████████▎| 923/990 [16:25<01:15,  1.13s/it]"
     ]
    },
    {
     "name": "stdout",
     "output_type": "stream",
     "text": [
      "[[None, 'TA', 'J01E', 332.4838810585462], [None, 'NC', 'KBO', 345.1785926764368], [None, 'TA', 'K02D', 366.2990290773857], [None, 'UO', 'DBO', 388.1769677141408], [None, 'TA', 'L02E', 393.57808464136735]]\n"
     ]
    },
    {
     "name": "stderr",
     "output_type": "stream",
     "text": [
      "\r",
      " 93%|█████████▎| 924/990 [16:27<01:14,  1.13s/it]"
     ]
    },
    {
     "name": "stdout",
     "output_type": "stream",
     "text": [
      "[[None, 'NC', 'KSXB', 148.32909199180332], [None, 'NC', 'KBO', 176.95983116317893], [None, 'TA', 'L02E', 191.20514524086843], [None, 'TA', 'K02D', 242.59566513809824], [None, 'UO', 'DBO', 299.48592752155946]]\n"
     ]
    },
    {
     "name": "stderr",
     "output_type": "stream",
     "text": [
      "\r",
      " 93%|█████████▎| 925/990 [16:27<01:03,  1.02it/s]"
     ]
    },
    {
     "name": "stdout",
     "output_type": "stream",
     "text": [
      "[[None, 'TA', 'J01E', 61.66705257646901], [None, 'UO', 'DBO', 82.73177195029052], [None, 'TA', 'K02D', 114.29941941304659]]\n"
     ]
    },
    {
     "name": "stderr",
     "output_type": "stream",
     "text": [
      "\r",
      " 94%|█████████▎| 926/990 [16:28<01:04,  1.01s/it]"
     ]
    },
    {
     "name": "stdout",
     "output_type": "stream",
     "text": [
      "[[None, 'NC', 'KSXB', 151.91304617239203], [None, 'NC', 'KBO', 180.2773090628184], [None, 'TA', 'L02E', 194.7927678293863], [None, 'TA', 'K02D', 246.0703430979373]]\n"
     ]
    },
    {
     "name": "stderr",
     "output_type": "stream",
     "text": [
      "\r",
      " 94%|█████████▎| 927/990 [16:29<01:06,  1.06s/it]"
     ]
    },
    {
     "name": "stdout",
     "output_type": "stream",
     "text": [
      "[[None, 'NC', 'KBO', 121.11799321885702], [None, 'NC', 'KSXB', 128.47168618876734], [None, 'TA', 'L02E', 162.09552118191266], [None, 'TA', 'K02D', 190.91699158440545], [None, 'TA', 'J01E', 216.07510485793992]]\n"
     ]
    },
    {
     "name": "stderr",
     "output_type": "stream",
     "text": [
      "\r",
      " 94%|█████████▎| 928/990 [16:31<01:07,  1.08s/it]"
     ]
    },
    {
     "name": "stdout",
     "output_type": "stream",
     "text": [
      "[[None, 'TA', 'J01E', 231.52818949889382], [None, 'TA', 'K02D', 261.59240802126544], [None, 'NC', 'KSXB', 286.82377019992197], [None, 'UO', 'DBO', 287.4658225708491], [None, 'TA', 'L02E', 287.7359350698075]]\n"
     ]
    },
    {
     "name": "stderr",
     "output_type": "stream",
     "text": [
      "\r",
      " 94%|█████████▍| 929/990 [16:32<01:04,  1.05s/it]"
     ]
    },
    {
     "name": "stdout",
     "output_type": "stream",
     "text": [
      "[[None, 'TA', 'J01E', 50.18650272720193], [None, 'TA', 'K02D', 97.21072280341862], [None, 'UO', 'DBO', 105.26344866051191], [None, 'TA', 'L02E', 148.17665065963766]]\n"
     ]
    },
    {
     "name": "stderr",
     "output_type": "stream",
     "text": [
      "\r",
      " 94%|█████████▍| 930/990 [16:33<01:03,  1.06s/it]"
     ]
    },
    {
     "name": "stdout",
     "output_type": "stream",
     "text": [
      "[[None, 'TA', 'J01E', 49.01319730476007], [None, 'TA', 'K02D', 94.2991543601412], [None, 'UO', 'DBO', 104.56617821496097], [None, 'TA', 'L02E', 144.5215206770649]]\n"
     ]
    },
    {
     "name": "stderr",
     "output_type": "stream",
     "text": [
      "\r",
      " 94%|█████████▍| 931/990 [16:34<01:03,  1.07s/it]"
     ]
    },
    {
     "name": "stdout",
     "output_type": "stream",
     "text": [
      "[[None, 'NC', 'KSXB', 130.03209642840648], [None, 'TA', 'L02E', 162.16111802950275], [None, 'TA', 'K02D', 188.60918670996057], [None, 'TA', 'J01E', 211.9558241093503]]\n"
     ]
    },
    {
     "name": "stderr",
     "output_type": "stream",
     "text": [
      "\r",
      " 94%|█████████▍| 932/990 [16:35<00:56,  1.02it/s]"
     ]
    },
    {
     "name": "stdout",
     "output_type": "stream",
     "text": [
      "[[None, 'UO', 'DBO', 39.19311991262896], [None, 'TA', 'K02D', 70.15267427567177], [None, 'TA', 'L02E', 103.55119436556035]]\n"
     ]
    },
    {
     "name": "stderr",
     "output_type": "stream",
     "text": [
      "\r",
      " 94%|█████████▍| 933/990 [16:36<00:55,  1.02it/s]"
     ]
    },
    {
     "name": "stdout",
     "output_type": "stream",
     "text": [
      "[[None, 'NC', 'KSXB', 212.2841641246486], [None, 'TA', 'L02E', 255.03425078226758], [None, 'TA', 'K02D', 307.2880603728422], [None, 'UO', 'DBO', 363.9894567094194]]\n"
     ]
    },
    {
     "name": "stderr",
     "output_type": "stream",
     "text": [
      "\r",
      " 94%|█████████▍| 934/990 [16:37<01:01,  1.10s/it]"
     ]
    },
    {
     "name": "stdout",
     "output_type": "stream",
     "text": [
      "[[None, 'NC', 'KEB', 29.087275769935783], [None, 'TA', 'K02D', 59.02118519759684], [None, 'TA', 'J01E', 71.06560489313055], [None, 'TA', 'L02E', 81.30700277560867]]\n"
     ]
    },
    {
     "name": "stderr",
     "output_type": "stream",
     "text": [
      "\r",
      " 94%|█████████▍| 935/990 [16:38<01:02,  1.13s/it]"
     ]
    },
    {
     "name": "stdout",
     "output_type": "stream",
     "text": [
      "[[None, 'TA', 'L02E', 67.15340434261353], [None, 'NC', 'KSXB', 93.2139373495723], [None, 'TA', 'K02D', 99.51677977880327], [None, 'NC', 'KBO', 118.84061868709311], [None, 'UO', 'DBO', 122.09614139556497]]\n"
     ]
    },
    {
     "name": "stderr",
     "output_type": "stream",
     "text": [
      "\r",
      " 95%|█████████▍| 936/990 [16:39<00:54,  1.00s/it]"
     ]
    },
    {
     "name": "stdout",
     "output_type": "stream",
     "text": [
      "[[None, 'NC', 'KSXB', 40.18050348878973], [None, 'NC', 'KBO', 51.11352441775812], [None, 'TA', 'K02D', 118.18640327393976]]\n"
     ]
    },
    {
     "name": "stderr",
     "output_type": "stream",
     "text": [
      " 95%|█████████▍| 938/990 [16:41<00:48,  1.08it/s]"
     ]
    },
    {
     "name": "stdout",
     "output_type": "stream",
     "text": [
      "[[None, 'TA', 'J01E', 27.87033578081483], [None, 'TA', 'K02D', 77.541357054922], [None, 'UO', 'DBO', 83.23573774791662]]\n"
     ]
    },
    {
     "name": "stderr",
     "output_type": "stream",
     "text": [
      "\r",
      " 95%|█████████▍| 939/990 [16:42<00:53,  1.05s/it]"
     ]
    },
    {
     "name": "stdout",
     "output_type": "stream",
     "text": [
      "[[None, 'NC', 'KSXB', 60.2622944908478], [None, 'NC', 'KBO', 85.54591829116707], [None, 'TA', 'L02E', 102.36604844081717], [None, 'TA', 'K02D', 150.74077801622]]\n"
     ]
    },
    {
     "name": "stderr",
     "output_type": "stream",
     "text": [
      "\r",
      " 95%|█████████▍| 940/990 [16:43<00:53,  1.07s/it]"
     ]
    },
    {
     "name": "stdout",
     "output_type": "stream",
     "text": [
      "[[None, 'TA', 'J01E', 174.45673615432958], [None, 'TA', 'K02D', 223.49967272836287], [None, 'UO', 'DBO', 224.948112342409], [None, 'TA', 'L02E', 270.4233750233379]]\n"
     ]
    },
    {
     "name": "stderr",
     "output_type": "stream",
     "text": [
      "\r",
      " 95%|█████████▌| 941/990 [16:44<00:52,  1.07s/it]"
     ]
    },
    {
     "name": "stdout",
     "output_type": "stream",
     "text": [
      "[[None, 'NC', 'KSXB', 153.4665123446522], [None, 'NC', 'KBO', 180.347616437938], [None, 'TA', 'L02E', 196.35858864765765], [None, 'TA', 'K02D', 246.8214102488056]]\n"
     ]
    },
    {
     "name": "stderr",
     "output_type": "stream",
     "text": [
      "\r",
      " 95%|█████████▌| 942/990 [16:45<00:50,  1.05s/it]"
     ]
    },
    {
     "name": "stdout",
     "output_type": "stream",
     "text": [
      "[[None, 'NC', 'KSXB', 105.74189109453879], [None, 'NC', 'KBO', 137.3622934623999], [None, 'TA', 'L02E', 148.576228699514], [None, 'TA', 'K02D', 200.99013024913918]]\n"
     ]
    },
    {
     "name": "stderr",
     "output_type": "stream",
     "text": [
      "\r",
      " 95%|█████████▌| 943/990 [16:46<00:47,  1.01s/it]"
     ]
    },
    {
     "name": "stdout",
     "output_type": "stream",
     "text": [
      "[[None, 'NC', 'KSXB', 174.7033979314414], [None, 'NC', 'KBO', 195.61717659547062], [None, 'TA', 'L02E', 217.29211105674864], [None, 'UO', 'DBO', 322.2611661258694]]\n"
     ]
    },
    {
     "name": "stderr",
     "output_type": "stream",
     "text": [
      "\r",
      " 95%|█████████▌| 944/990 [16:47<00:51,  1.12s/it]"
     ]
    },
    {
     "name": "stdout",
     "output_type": "stream",
     "text": [
      "[[None, 'NC', 'KSXB', 148.32909199180332], [None, 'NC', 'KBO', 176.95983116317893], [None, 'TA', 'L02E', 191.20514524086843], [None, 'TA', 'K02D', 242.59566513809824]]\n"
     ]
    },
    {
     "name": "stderr",
     "output_type": "stream",
     "text": [
      "\r",
      " 95%|█████████▌| 945/990 [16:48<00:48,  1.07s/it]"
     ]
    },
    {
     "name": "stdout",
     "output_type": "stream",
     "text": [
      "[[None, 'NC', 'KSXB', 166.32772084822815], [None, 'NC', 'KBO', 187.2733382961757], [None, 'TA', 'K02D', 255.95928923885288], [None, 'UO', 'DBO', 313.8389044570917]]\n"
     ]
    },
    {
     "name": "stderr",
     "output_type": "stream",
     "text": [
      "\r",
      " 96%|█████████▌| 946/990 [16:49<00:45,  1.04s/it]"
     ]
    },
    {
     "name": "stdout",
     "output_type": "stream",
     "text": [
      "[[None, 'NC', 'KSXB', 168.75950707168448], [None, 'NC', 'KBO', 199.29293617314747], [None, 'TA', 'L02E', 211.48959062405913], [None, 'TA', 'K02D', 264.1113583695568]]\n"
     ]
    },
    {
     "name": "stderr",
     "output_type": "stream",
     "text": [
      "\r",
      " 96%|█████████▌| 947/990 [16:51<00:50,  1.18s/it]"
     ]
    },
    {
     "name": "stdout",
     "output_type": "stream",
     "text": [
      "[[None, 'NC', 'KBO', 169.62612584082345], [None, 'TA', 'J01E', 195.14566330583287], [None, 'TA', 'K02D', 208.52126825236118], [None, 'NC', 'KSXB', 211.90952563271617], [None, 'TA', 'L02E', 220.7151472820372], [None, 'UO', 'DBO', 248.03354897312283]]\n"
     ]
    },
    {
     "name": "stderr",
     "output_type": "stream",
     "text": [
      "\r",
      " 96%|█████████▌| 948/990 [16:52<00:46,  1.11s/it]"
     ]
    },
    {
     "name": "stdout",
     "output_type": "stream",
     "text": [
      "[[None, 'NC', 'KSXB', 131.95458271234926], [None, 'NC', 'KBO', 167.944324086153], [None, 'TA', 'L02E', 174.03503880067774], [None, 'TA', 'K02D', 229.06043408196308]]\n"
     ]
    },
    {
     "name": "stderr",
     "output_type": "stream",
     "text": [
      "\r",
      " 96%|█████████▌| 949/990 [16:53<00:43,  1.07s/it]"
     ]
    },
    {
     "name": "stdout",
     "output_type": "stream",
     "text": [
      "[[None, 'NC', 'KSXB', 153.12131696788842], [None, 'NC', 'KBO', 183.1886489259282], [None, 'TA', 'L02E', 195.92339170050636], [None, 'TA', 'K02D', 248.14580163631928]]\n"
     ]
    },
    {
     "name": "stderr",
     "output_type": "stream",
     "text": [
      "\r",
      " 96%|█████████▌| 950/990 [16:54<00:45,  1.14s/it]"
     ]
    },
    {
     "name": "stdout",
     "output_type": "stream",
     "text": [
      "[[None, 'NC', 'KSXB', 145.09993246087691], [None, 'NC', 'KBO', 154.73396572500454], [None, 'TA', 'L02E', 185.29724340661727], [None, 'TA', 'K02D', 225.2680897381732], [None, 'TA', 'J01E', 258.04264837710804]]\n"
     ]
    },
    {
     "name": "stderr",
     "output_type": "stream",
     "text": [
      "\r",
      " 96%|█████████▌| 951/990 [16:55<00:39,  1.01s/it]"
     ]
    },
    {
     "name": "stdout",
     "output_type": "stream",
     "text": [
      "[[None, 'NC', 'KSXB', 174.92403416434746], [None, 'NC', 'KBO', 194.0452345639399], [None, 'TA', 'K02D', 263.2711027595447]]\n"
     ]
    },
    {
     "name": "stderr",
     "output_type": "stream",
     "text": [
      "\r",
      " 96%|█████████▌| 952/990 [16:56<00:38,  1.00s/it]"
     ]
    },
    {
     "name": "stdout",
     "output_type": "stream",
     "text": [
      "[[None, 'NC', 'KSXB', 153.4665123446522], [None, 'NC', 'KBO', 180.347616437938], [None, 'TA', 'L02E', 196.35858864765765], [None, 'TA', 'K02D', 246.8214102488056]]\n"
     ]
    },
    {
     "name": "stderr",
     "output_type": "stream",
     "text": [
      "\r",
      " 96%|█████████▋| 953/990 [16:57<00:39,  1.06s/it]"
     ]
    },
    {
     "name": "stdout",
     "output_type": "stream",
     "text": [
      "[[None, 'NC', 'KSXB', 145.0356613677259], [None, 'NC', 'KBO', 172.25044508495407], [None, 'TA', 'L02E', 187.92792944286035], [None, 'TA', 'K02D', 238.50343816404794]]\n"
     ]
    },
    {
     "name": "stderr",
     "output_type": "stream",
     "text": [
      "\r",
      " 96%|█████████▋| 954/990 [16:58<00:36,  1.00s/it]"
     ]
    },
    {
     "name": "stdout",
     "output_type": "stream",
     "text": [
      "[[None, 'NC', 'KSXB', 138.4061653816], [None, 'NC', 'KBO', 165.85313745307667], [None, 'TA', 'L02E', 181.29825826598199], [None, 'TA', 'K02D', 231.93855917668395]]\n"
     ]
    },
    {
     "name": "stderr",
     "output_type": "stream",
     "text": [
      " 97%|█████████▋| 956/990 [17:00<00:36,  1.08s/it]"
     ]
    },
    {
     "name": "stdout",
     "output_type": "stream",
     "text": [
      "[[None, 'NC', 'KSXB', 148.32909199180332], [None, 'NC', 'KBO', 176.95983116317893], [None, 'TA', 'L02E', 191.20514524086843], [None, 'TA', 'K02D', 242.59566513809824]]\n"
     ]
    },
    {
     "name": "stderr",
     "output_type": "stream",
     "text": [
      "\r",
      " 97%|█████████▋| 957/990 [17:01<00:32,  1.02it/s]"
     ]
    },
    {
     "name": "stdout",
     "output_type": "stream",
     "text": [
      "[[None, 'NC', 'KSXB', 152.48856929582652], [None, 'TA', 'L02E', 195.20054967327422], [None, 'TA', 'K02D', 248.0354550783453]]\n"
     ]
    },
    {
     "name": "stderr",
     "output_type": "stream",
     "text": [
      "\r",
      " 97%|█████████▋| 958/990 [17:02<00:35,  1.10s/it]"
     ]
    },
    {
     "name": "stdout",
     "output_type": "stream",
     "text": [
      "[[None, 'NC', 'KSXB', 133.62045014505506], [None, 'NC', 'KBO', 165.42811265042403], [None, 'TA', 'L02E', 176.34090966263744], [None, 'TA', 'K02D', 229.26886083404963], [None, 'TA', 'J01E', 273.6068703948182], [None, 'UO', 'DBO', 285.5652735767484]]\n"
     ]
    },
    {
     "name": "stderr",
     "output_type": "stream",
     "text": [
      "\r",
      " 97%|█████████▋| 959/990 [17:04<00:35,  1.15s/it]"
     ]
    },
    {
     "name": "stdout",
     "output_type": "stream",
     "text": [
      "[[None, 'NC', 'KSXB', 142.0304141865841], [None, 'NC', 'KBO', 175.9990214529941], [None, 'TA', 'L02E', 184.43333999378888], [None, 'TA', 'K02D', 238.58310909528763], [None, 'TA', 'J01E', 283.98635161332646]]\n"
     ]
    },
    {
     "name": "stderr",
     "output_type": "stream",
     "text": [
      "\r",
      " 97%|█████████▋| 960/990 [17:05<00:33,  1.11s/it]"
     ]
    },
    {
     "name": "stdout",
     "output_type": "stream",
     "text": [
      "[[None, 'TA', 'J01E', 14.358958021812134], [None, 'TA', 'K02D', 64.42831931840101], [None, 'UO', 'DBO', 70.29381473766927], [None, 'TA', 'L02E', 120.49366550491997]]\n"
     ]
    },
    {
     "name": "stderr",
     "output_type": "stream",
     "text": [
      "\r",
      " 97%|█████████▋| 961/990 [17:06<00:35,  1.22s/it]"
     ]
    },
    {
     "name": "stdout",
     "output_type": "stream",
     "text": [
      "[[None, 'NC', 'KBO', 130.81578370772192], [None, 'NC', 'KSXB', 139.59070988737062], [None, 'TA', 'L02E', 172.76689776769635], [None, 'TA', 'K02D', 200.12593045103503], [None, 'TA', 'J01E', 223.45394798527175], [None, 'UO', 'DBO', 256.9968331428565]]\n"
     ]
    },
    {
     "name": "stderr",
     "output_type": "stream",
     "text": [
      "\r",
      " 97%|█████████▋| 962/990 [17:07<00:31,  1.13s/it]"
     ]
    },
    {
     "name": "stdout",
     "output_type": "stream",
     "text": [
      "[[None, 'NC', 'KSXB', 153.84525484907383], [None, 'NC', 'KBO', 169.57496024037465], [None, 'TA', 'L02E', 195.55510332623444], [None, 'TA', 'K02D', 239.3764810817058]]\n"
     ]
    },
    {
     "name": "stderr",
     "output_type": "stream",
     "text": [
      "\r",
      " 97%|█████████▋| 963/990 [17:08<00:28,  1.07s/it]"
     ]
    },
    {
     "name": "stdout",
     "output_type": "stream",
     "text": [
      "[[None, 'NC', 'KSXB', 154.126562287072], [None, 'NC', 'KBO', 183.67210804180345], [None, 'TA', 'L02E', 196.95767255992163], [None, 'TA', 'K02D', 248.90586105873385]]\n"
     ]
    },
    {
     "name": "stderr",
     "output_type": "stream",
     "text": [
      "\r",
      " 97%|█████████▋| 964/990 [17:09<00:25,  1.04it/s]"
     ]
    },
    {
     "name": "stdout",
     "output_type": "stream",
     "text": [
      "[[None, 'TA', 'J01E', 64.87396339707159], [None, 'UO', 'DBO', 114.88326631313812], [None, 'TA', 'K02D', 117.84753334301654]]\n"
     ]
    },
    {
     "name": "stderr",
     "output_type": "stream",
     "text": [
      " 98%|█████████▊| 966/990 [17:11<00:23,  1.04it/s]"
     ]
    },
    {
     "name": "stdout",
     "output_type": "stream",
     "text": [
      "[[None, 'NC', 'KSXB', 180.51518957841745], [None, 'TA', 'L02E', 223.39708015624646], [None, 'TA', 'K02D', 273.16480620212695], [None, 'UO', 'DBO', 330.5683682264057]]\n"
     ]
    },
    {
     "name": "stderr",
     "output_type": "stream",
     "text": [
      "\r",
      " 98%|█████████▊| 967/990 [17:12<00:23,  1.01s/it]"
     ]
    },
    {
     "name": "stdout",
     "output_type": "stream",
     "text": [
      "[[None, 'NC', 'KSXB', 73.03810758558014], [None, 'NC', 'KBO', 89.63706391288645], [None, 'TA', 'L02E', 113.63374503558371], [None, 'TA', 'K02D', 157.93052280829716], [None, 'UO', 'DBO', 215.8885014726364]]\n"
     ]
    },
    {
     "name": "stderr",
     "output_type": "stream",
     "text": [
      "\r",
      " 98%|█████████▊| 968/990 [17:13<00:22,  1.01s/it]"
     ]
    },
    {
     "name": "stdout",
     "output_type": "stream",
     "text": [
      "[[None, 'NC', 'KSXB', 95.9435115115142], [None, 'NC', 'KBO', 119.30418211858515], [None, 'TA', 'L02E', 138.37530072846272], [None, 'TA', 'K02D', 186.3373014432167], [None, 'UO', 'DBO', 243.90025161943763]]\n"
     ]
    },
    {
     "name": "stderr",
     "output_type": "stream",
     "text": [
      "\r",
      " 98%|█████████▊| 969/990 [17:14<00:21,  1.01s/it]"
     ]
    },
    {
     "name": "stdout",
     "output_type": "stream",
     "text": [
      "[[None, 'NC', 'KSXB', 78.4672145516506], [None, 'NC', 'KBO', 98.81726371523618], [None, 'TA', 'L02E', 120.1078059454764], [None, 'TA', 'K02D', 166.3290827071087]]\n"
     ]
    },
    {
     "name": "stderr",
     "output_type": "stream",
     "text": [
      "\r",
      " 98%|█████████▊| 970/990 [17:15<00:21,  1.08s/it]"
     ]
    },
    {
     "name": "stdout",
     "output_type": "stream",
     "text": [
      "[[None, 'NC', 'KSXB', 83.7010125065304], [None, 'NC', 'KBO', 106.77493460322141], [None, 'TA', 'L02E', 125.93537670977295], [None, 'TA', 'K02D', 173.6042769192732], [None, 'NC', 'KEB', 177.27246625276004], [None, 'UO', 'DBO', 231.16799206118768]]\n"
     ]
    },
    {
     "name": "stderr",
     "output_type": "stream",
     "text": [
      "\r",
      " 98%|█████████▊| 971/990 [17:16<00:18,  1.02it/s]"
     ]
    },
    {
     "name": "stdout",
     "output_type": "stream",
     "text": [
      "[[None, 'TA', 'J01E', 114.04744788680071], [None, 'TA', 'K02D', 141.34096125695723], [None, 'TA', 'L02E', 172.96119209786667]]\n"
     ]
    },
    {
     "name": "stderr",
     "output_type": "stream",
     "text": [
      "\r",
      " 98%|█████████▊| 972/990 [17:17<00:17,  1.05it/s]"
     ]
    },
    {
     "name": "stdout",
     "output_type": "stream",
     "text": [
      "[[None, 'NC', 'KBO', 23.214815601966023], [None, 'NC', 'KSXB', 59.70501952083319], [None, 'TA', 'L02E', 72.52648900112264], [None, 'TA', 'K02D', 92.3152578478637]]\n"
     ]
    },
    {
     "name": "stderr",
     "output_type": "stream",
     "text": [
      "\r",
      " 98%|█████████▊| 973/990 [17:17<00:15,  1.10it/s]"
     ]
    },
    {
     "name": "stdout",
     "output_type": "stream",
     "text": [
      "[[None, 'NC', 'KSXB', 114.38120007558125], [None, 'TA', 'L02E', 151.71820598072011], [None, 'TA', 'K02D', 210.821522622193]]\n"
     ]
    },
    {
     "name": "stderr",
     "output_type": "stream",
     "text": [
      "\r",
      " 98%|█████████▊| 974/990 [17:18<00:15,  1.06it/s]"
     ]
    },
    {
     "name": "stdout",
     "output_type": "stream",
     "text": [
      "[[None, 'TA', 'L02E', 40.9104450840379], [None, 'UO', 'DBO', 69.89846356834592], [None, 'NC', 'KBO', 71.30866466006616], [None, 'TA', 'J01E', 82.14373986669224], [None, 'NC', 'KEB', 82.243415226465]]\n"
     ]
    },
    {
     "name": "stderr",
     "output_type": "stream",
     "text": [
      "\r",
      " 98%|█████████▊| 975/990 [17:19<00:13,  1.15it/s]"
     ]
    },
    {
     "name": "stdout",
     "output_type": "stream",
     "text": [
      "[[None, 'NC', 'KSXB', 58.587280910353286], [None, 'TA', 'L02E', 58.638491772566], [None, 'TA', 'K02D', 71.96469363530177]]\n"
     ]
    },
    {
     "name": "stderr",
     "output_type": "stream",
     "text": [
      "\r",
      " 99%|█████████▊| 976/990 [17:20<00:12,  1.09it/s]"
     ]
    },
    {
     "name": "stdout",
     "output_type": "stream",
     "text": [
      "[[None, 'NC', 'KSXB', 165.35377237781728], [None, 'NC', 'KBO', 182.52240422257955], [None, 'TA', 'L02E', 207.3942043341741], [None, 'TA', 'K02D', 252.1239667906616], [None, 'UO', 'DBO', 310.24306772986546]]\n"
     ]
    },
    {
     "name": "stderr",
     "output_type": "stream",
     "text": [
      "\r",
      " 99%|█████████▊| 977/990 [17:22<00:15,  1.17s/it]"
     ]
    },
    {
     "name": "stdout",
     "output_type": "stream",
     "text": [
      "[[None, 'NC', 'KSXB', 171.30088147744044], [None, 'NC', 'KBO', 190.49953071908521], [None, 'TA', 'L02E', 213.67393510844389], [None, 'NC', 'KEB', 255.54681839995328], [None, 'TA', 'K02D', 259.6831447099976], [None, 'TA', 'J01E', 296.80121745775443], [None, 'UO', 'DBO', 317.69745547265615]]\n"
     ]
    },
    {
     "name": "stderr",
     "output_type": "stream",
     "text": [
      " 99%|█████████▉| 980/990 [17:25<00:09,  1.04it/s]"
     ]
    },
    {
     "name": "stdout",
     "output_type": "stream",
     "text": [
      "[[None, 'TA', 'J01E', 26.57102297530899], [None, 'TA', 'K02D', 70.08906943108705], [None, 'UO', 'DBO', 82.38690607042606]]\n"
     ]
    },
    {
     "name": "stderr",
     "output_type": "stream",
     "text": [
      "\r",
      " 99%|█████████▉| 981/990 [17:26<00:08,  1.03it/s]"
     ]
    },
    {
     "name": "stdout",
     "output_type": "stream",
     "text": [
      "[[None, 'NC', 'KBO', 32.84193817449478], [None, 'NC', 'KSXB', 70.72814185337697], [None, 'TA', 'L02E', 83.5082207884337], [None, 'TA', 'K02D', 98.74593785712136]]\n"
     ]
    },
    {
     "name": "stderr",
     "output_type": "stream",
     "text": [
      "\r",
      " 99%|█████████▉| 982/990 [17:26<00:07,  1.10it/s]"
     ]
    },
    {
     "name": "stdout",
     "output_type": "stream",
     "text": [
      "[[None, 'TA', 'L02E', 134.24115412886027], [None, 'UO', 'DBO', 141.1853090880898], [None, 'TA', 'K02D', 146.77650666813935]]\n"
     ]
    },
    {
     "name": "stderr",
     "output_type": "stream",
     "text": [
      "\r",
      " 99%|█████████▉| 983/990 [17:27<00:06,  1.10it/s]"
     ]
    },
    {
     "name": "stdout",
     "output_type": "stream",
     "text": [
      "[[None, 'NC', 'KSXB', 148.83773560004536], [None, 'NC', 'KBO', 168.8496387981711], [None, 'TA', 'L02E', 191.21682596024124], [None, 'TA', 'K02D', 237.6514157552098]]\n"
     ]
    },
    {
     "name": "stderr",
     "output_type": "stream",
     "text": [
      "\r",
      " 99%|█████████▉| 984/990 [17:28<00:05,  1.09it/s]"
     ]
    },
    {
     "name": "stdout",
     "output_type": "stream",
     "text": [
      "[[None, 'NC', 'KSXB', 168.49468523510052], [None, 'NC', 'KBO', 186.34342304418217], [None, 'TA', 'K02D', 255.82146732976364], [None, 'UO', 'DBO', 313.91110345143534]]\n"
     ]
    },
    {
     "name": "stderr",
     "output_type": "stream",
     "text": [
      "\r",
      " 99%|█████████▉| 985/990 [17:30<00:05,  1.07s/it]"
     ]
    },
    {
     "name": "stdout",
     "output_type": "stream",
     "text": [
      "[[None, 'NC', 'KBO', 265.29427127777274], [None, 'TA', 'J01E', 268.02115270291716], [None, 'TA', 'K02D', 294.2140234306089], [None, 'NC', 'KSXB', 309.75261624597795], [None, 'TA', 'L02E', 315.1923971050363], [None, 'UO', 'DBO', 323.7998734278972]]\n"
     ]
    },
    {
     "name": "stderr",
     "output_type": "stream",
     "text": [
      "\r",
      "100%|█████████▉| 986/990 [17:31<00:04,  1.18s/it]"
     ]
    },
    {
     "name": "stdout",
     "output_type": "stream",
     "text": [
      "[[None, 'NC', 'KSXB', 195.09752857821974], [None, 'NC', 'KBO', 215.8558922760816], [None, 'TA', 'L02E', 237.7243073737621], [None, 'NC', 'KEB', 281.1055750031989], [None, 'TA', 'K02D', 284.77419056638274], [None, 'TA', 'J01E', 322.33669107985196]]\n"
     ]
    },
    {
     "name": "stderr",
     "output_type": "stream",
     "text": [
      "\r",
      "100%|█████████▉| 987/990 [17:33<00:03,  1.29s/it]"
     ]
    },
    {
     "name": "stdout",
     "output_type": "stream",
     "text": [
      "[[None, 'NC', 'KSXB', 143.28837449342973], [None, 'NC', 'KBO', 174.64908446667022], [None, 'TA', 'L02E', 186.01616571410096], [None, 'TA', 'K02D', 238.82644963780567], [None, 'TA', 'J01E', 282.87071796363773], [None, 'UO', 'DBO', 295.1932589448538]]\n"
     ]
    },
    {
     "name": "stderr",
     "output_type": "stream",
     "text": [
      "\r",
      "100%|█████████▉| 988/990 [17:34<00:02,  1.32s/it]"
     ]
    },
    {
     "name": "stdout",
     "output_type": "stream",
     "text": [
      "[[None, 'NC', 'KSXB', 129.5267868264905], [None, 'NC', 'KBO', 158.45288534585367], [None, 'TA', 'L02E', 172.41305713834268], [None, 'TA', 'K02D', 223.76172481129123], [None, 'TA', 'J01E', 266.7009741390278], [None, 'UO', 'DBO', 280.618788821917]]\n"
     ]
    },
    {
     "name": "stderr",
     "output_type": "stream",
     "text": [
      "100%|██████████| 990/990 [17:36<00:00,  1.07s/it]"
     ]
    },
    {
     "name": "stdout",
     "output_type": "stream",
     "text": [
      "[[None, 'NC', 'KEB', 20.001260154836487], [None, 'TA', 'J01E', 57.166023823252374], [None, 'TA', 'K02D', 78.00998853259085], [None, 'UO', 'DBO', 109.14621932512213]]\n"
     ]
    },
    {
     "name": "stderr",
     "output_type": "stream",
     "text": [
      "\n"
     ]
    },
    {
     "data": {
      "text/html": [
       "<div>\n",
       "<style scoped>\n",
       "    .dataframe tbody tr th:only-of-type {\n",
       "        vertical-align: middle;\n",
       "    }\n",
       "\n",
       "    .dataframe tbody tr th {\n",
       "        vertical-align: top;\n",
       "    }\n",
       "\n",
       "    .dataframe thead th {\n",
       "        text-align: right;\n",
       "    }\n",
       "</style>\n",
       "<table border=\"1\" class=\"dataframe\">\n",
       "  <thead>\n",
       "    <tr style=\"text-align: right;\">\n",
       "      <th></th>\n",
       "      <th>Unnamed: 0.1</th>\n",
       "      <th>Unnamed: 0</th>\n",
       "      <th>idx</th>\n",
       "      <th>time</th>\n",
       "      <th>x</th>\n",
       "      <th>y</th>\n",
       "      <th>z</th>\n",
       "      <th>picks</th>\n",
       "      <th>latitude</th>\n",
       "      <th>longitude</th>\n",
       "      <th>depth</th>\n",
       "      <th>event_idx</th>\n",
       "      <th>pick_idx</th>\n",
       "      <th>residual</th>\n",
       "      <th>station</th>\n",
       "      <th>phase</th>\n",
       "      <th>time_pick</th>\n",
       "      <th>datetime</th>\n",
       "    </tr>\n",
       "  </thead>\n",
       "  <tbody>\n",
       "    <tr>\n",
       "      <th>3</th>\n",
       "      <td>3</td>\n",
       "      <td>69</td>\n",
       "      <td>12</td>\n",
       "      <td>2011-01-06 04:41:30.807808+00:00</td>\n",
       "      <td>79.768402</td>\n",
       "      <td>-133.272507</td>\n",
       "      <td>11.328125</td>\n",
       "      <td>7</td>\n",
       "      <td>43.296315</td>\n",
       "      <td>-124.517004</td>\n",
       "      <td>11.328125</td>\n",
       "      <td>12</td>\n",
       "      <td>270683</td>\n",
       "      <td>-0.017572</td>\n",
       "      <td>DBO</td>\n",
       "      <td>P</td>\n",
       "      <td>1.294289e+09</td>\n",
       "      <td>2011-01-06 04:41:30.807808+00:00</td>\n",
       "    </tr>\n",
       "    <tr>\n",
       "      <th>27</th>\n",
       "      <td>27</td>\n",
       "      <td>296</td>\n",
       "      <td>52</td>\n",
       "      <td>2011-02-07 16:43:59.284933+00:00</td>\n",
       "      <td>86.462254</td>\n",
       "      <td>-147.576526</td>\n",
       "      <td>1.953125</td>\n",
       "      <td>6</td>\n",
       "      <td>43.166846</td>\n",
       "      <td>-124.436769</td>\n",
       "      <td>1.953125</td>\n",
       "      <td>52</td>\n",
       "      <td>223460</td>\n",
       "      <td>-0.031980</td>\n",
       "      <td>DBO</td>\n",
       "      <td>P</td>\n",
       "      <td>1.297097e+09</td>\n",
       "      <td>2011-02-07 16:43:59.284933+00:00</td>\n",
       "    </tr>\n",
       "    <tr>\n",
       "      <th>30</th>\n",
       "      <td>30</td>\n",
       "      <td>347</td>\n",
       "      <td>58</td>\n",
       "      <td>2011-02-10 05:01:22.659156+00:00</td>\n",
       "      <td>94.271748</td>\n",
       "      <td>-143.285320</td>\n",
       "      <td>28.515625</td>\n",
       "      <td>9</td>\n",
       "      <td>43.204532</td>\n",
       "      <td>-124.340023</td>\n",
       "      <td>28.515625</td>\n",
       "      <td>58</td>\n",
       "      <td>192412</td>\n",
       "      <td>-0.236057</td>\n",
       "      <td>DBO</td>\n",
       "      <td>P</td>\n",
       "      <td>1.297314e+09</td>\n",
       "      <td>2011-02-10 05:01:22.659156+00:00</td>\n",
       "    </tr>\n",
       "    <tr>\n",
       "      <th>31</th>\n",
       "      <td>31</td>\n",
       "      <td>356</td>\n",
       "      <td>59</td>\n",
       "      <td>2011-02-10 22:47:07.833488+00:00</td>\n",
       "      <td>78.652760</td>\n",
       "      <td>-216.235820</td>\n",
       "      <td>45.703125</td>\n",
       "      <td>6</td>\n",
       "      <td>42.549734</td>\n",
       "      <td>-124.542387</td>\n",
       "      <td>45.703125</td>\n",
       "      <td>59</td>\n",
       "      <td>394717</td>\n",
       "      <td>0.398828</td>\n",
       "      <td>DBO</td>\n",
       "      <td>S</td>\n",
       "      <td>1.297378e+09</td>\n",
       "      <td>2011-02-10 22:47:07.833488+00:00</td>\n",
       "    </tr>\n",
       "    <tr>\n",
       "      <th>34</th>\n",
       "      <td>34</td>\n",
       "      <td>392</td>\n",
       "      <td>63</td>\n",
       "      <td>2011-02-19 22:27:09.747382+00:00</td>\n",
       "      <td>143.359995</td>\n",
       "      <td>-270.591095</td>\n",
       "      <td>19.140625</td>\n",
       "      <td>8</td>\n",
       "      <td>42.051332</td>\n",
       "      <td>-123.768295</td>\n",
       "      <td>19.140625</td>\n",
       "      <td>63</td>\n",
       "      <td>200388</td>\n",
       "      <td>0.491183</td>\n",
       "      <td>DBO</td>\n",
       "      <td>P</td>\n",
       "      <td>1.298154e+09</td>\n",
       "      <td>2011-02-19 22:27:09.747382+00:00</td>\n",
       "    </tr>\n",
       "    <tr>\n",
       "      <th>...</th>\n",
       "      <td>...</td>\n",
       "      <td>...</td>\n",
       "      <td>...</td>\n",
       "      <td>...</td>\n",
       "      <td>...</td>\n",
       "      <td>...</td>\n",
       "      <td>...</td>\n",
       "      <td>...</td>\n",
       "      <td>...</td>\n",
       "      <td>...</td>\n",
       "      <td>...</td>\n",
       "      <td>...</td>\n",
       "      <td>...</td>\n",
       "      <td>...</td>\n",
       "      <td>...</td>\n",
       "      <td>...</td>\n",
       "      <td>...</td>\n",
       "      <td>...</td>\n",
       "    </tr>\n",
       "    <tr>\n",
       "      <th>1032</th>\n",
       "      <td>1032</td>\n",
       "      <td>13403</td>\n",
       "      <td>2132</td>\n",
       "      <td>2015-11-06 23:07:42.360039+00:00</td>\n",
       "      <td>114.353303</td>\n",
       "      <td>-137.563712</td>\n",
       "      <td>0.390625</td>\n",
       "      <td>9</td>\n",
       "      <td>43.253245</td>\n",
       "      <td>-124.091809</td>\n",
       "      <td>0.390625</td>\n",
       "      <td>2132</td>\n",
       "      <td>159085</td>\n",
       "      <td>0.774875</td>\n",
       "      <td>DBO</td>\n",
       "      <td>P</td>\n",
       "      <td>1.446851e+09</td>\n",
       "      <td>2015-11-06 23:07:42.360039+00:00</td>\n",
       "    </tr>\n",
       "    <tr>\n",
       "      <th>1042</th>\n",
       "      <td>1042</td>\n",
       "      <td>13494</td>\n",
       "      <td>2145</td>\n",
       "      <td>2015-11-13 18:51:07.234260+00:00</td>\n",
       "      <td>96.503032</td>\n",
       "      <td>-277.743104</td>\n",
       "      <td>0.390625</td>\n",
       "      <td>9</td>\n",
       "      <td>41.994100</td>\n",
       "      <td>-124.335335</td>\n",
       "      <td>0.390625</td>\n",
       "      <td>2145</td>\n",
       "      <td>145533</td>\n",
       "      <td>-0.232627</td>\n",
       "      <td>K02D</td>\n",
       "      <td>P</td>\n",
       "      <td>1.447441e+09</td>\n",
       "      <td>2015-11-13 18:51:07.234260+00:00</td>\n",
       "    </tr>\n",
       "    <tr>\n",
       "      <th>1055</th>\n",
       "      <td>1055</td>\n",
       "      <td>13675</td>\n",
       "      <td>2171</td>\n",
       "      <td>2015-11-27 22:46:06.244660+00:00</td>\n",
       "      <td>93.156106</td>\n",
       "      <td>-144.715722</td>\n",
       "      <td>1.171875</td>\n",
       "      <td>7</td>\n",
       "      <td>43.191797</td>\n",
       "      <td>-124.353989</td>\n",
       "      <td>1.171875</td>\n",
       "      <td>2171</td>\n",
       "      <td>144977</td>\n",
       "      <td>0.364967</td>\n",
       "      <td>DBO</td>\n",
       "      <td>P</td>\n",
       "      <td>1.448664e+09</td>\n",
       "      <td>2015-11-27 22:46:06.244660+00:00</td>\n",
       "    </tr>\n",
       "    <tr>\n",
       "      <th>1056</th>\n",
       "      <td>1056</td>\n",
       "      <td>13691</td>\n",
       "      <td>2174</td>\n",
       "      <td>2015-12-01 02:23:53.266292+00:00</td>\n",
       "      <td>97.618674</td>\n",
       "      <td>-266.299889</td>\n",
       "      <td>0.390625</td>\n",
       "      <td>8</td>\n",
       "      <td>42.096964</td>\n",
       "      <td>-124.319968</td>\n",
       "      <td>0.390625</td>\n",
       "      <td>2174</td>\n",
       "      <td>133568</td>\n",
       "      <td>0.044050</td>\n",
       "      <td>K02D</td>\n",
       "      <td>P</td>\n",
       "      <td>1.448937e+09</td>\n",
       "      <td>2015-12-01 02:23:53.266292+00:00</td>\n",
       "    </tr>\n",
       "    <tr>\n",
       "      <th>1066</th>\n",
       "      <td>1066</td>\n",
       "      <td>13800</td>\n",
       "      <td>2190</td>\n",
       "      <td>2015-12-30 07:41:43.690372+00:00</td>\n",
       "      <td>123.278439</td>\n",
       "      <td>-159.019742</td>\n",
       "      <td>5.859375</td>\n",
       "      <td>7</td>\n",
       "      <td>43.058776</td>\n",
       "      <td>-123.986710</td>\n",
       "      <td>5.859375</td>\n",
       "      <td>2190</td>\n",
       "      <td>383827</td>\n",
       "      <td>-0.221138</td>\n",
       "      <td>J01E</td>\n",
       "      <td>S</td>\n",
       "      <td>1.451461e+09</td>\n",
       "      <td>2015-12-30 07:41:43.690372+00:00</td>\n",
       "    </tr>\n",
       "  </tbody>\n",
       "</table>\n",
       "<p>69 rows × 18 columns</p>\n",
       "</div>"
      ],
      "text/plain": [
       "      Unnamed: 0.1  Unnamed: 0   idx                              time  \\\n",
       "3                3          69    12  2011-01-06 04:41:30.807808+00:00   \n",
       "27              27         296    52  2011-02-07 16:43:59.284933+00:00   \n",
       "30              30         347    58  2011-02-10 05:01:22.659156+00:00   \n",
       "31              31         356    59  2011-02-10 22:47:07.833488+00:00   \n",
       "34              34         392    63  2011-02-19 22:27:09.747382+00:00   \n",
       "...            ...         ...   ...                               ...   \n",
       "1032          1032       13403  2132  2015-11-06 23:07:42.360039+00:00   \n",
       "1042          1042       13494  2145  2015-11-13 18:51:07.234260+00:00   \n",
       "1055          1055       13675  2171  2015-11-27 22:46:06.244660+00:00   \n",
       "1056          1056       13691  2174  2015-12-01 02:23:53.266292+00:00   \n",
       "1066          1066       13800  2190  2015-12-30 07:41:43.690372+00:00   \n",
       "\n",
       "               x           y          z  picks   latitude   longitude  \\\n",
       "3      79.768402 -133.272507  11.328125      7  43.296315 -124.517004   \n",
       "27     86.462254 -147.576526   1.953125      6  43.166846 -124.436769   \n",
       "30     94.271748 -143.285320  28.515625      9  43.204532 -124.340023   \n",
       "31     78.652760 -216.235820  45.703125      6  42.549734 -124.542387   \n",
       "34    143.359995 -270.591095  19.140625      8  42.051332 -123.768295   \n",
       "...          ...         ...        ...    ...        ...         ...   \n",
       "1032  114.353303 -137.563712   0.390625      9  43.253245 -124.091809   \n",
       "1042   96.503032 -277.743104   0.390625      9  41.994100 -124.335335   \n",
       "1055   93.156106 -144.715722   1.171875      7  43.191797 -124.353989   \n",
       "1056   97.618674 -266.299889   0.390625      8  42.096964 -124.319968   \n",
       "1066  123.278439 -159.019742   5.859375      7  43.058776 -123.986710   \n",
       "\n",
       "          depth  event_idx  pick_idx  residual station phase     time_pick  \\\n",
       "3     11.328125         12    270683 -0.017572     DBO     P  1.294289e+09   \n",
       "27     1.953125         52    223460 -0.031980     DBO     P  1.297097e+09   \n",
       "30    28.515625         58    192412 -0.236057     DBO     P  1.297314e+09   \n",
       "31    45.703125         59    394717  0.398828     DBO     S  1.297378e+09   \n",
       "34    19.140625         63    200388  0.491183     DBO     P  1.298154e+09   \n",
       "...         ...        ...       ...       ...     ...   ...           ...   \n",
       "1032   0.390625       2132    159085  0.774875     DBO     P  1.446851e+09   \n",
       "1042   0.390625       2145    145533 -0.232627    K02D     P  1.447441e+09   \n",
       "1055   1.171875       2171    144977  0.364967     DBO     P  1.448664e+09   \n",
       "1056   0.390625       2174    133568  0.044050    K02D     P  1.448937e+09   \n",
       "1066   5.859375       2190    383827 -0.221138    J01E     S  1.451461e+09   \n",
       "\n",
       "                              datetime  \n",
       "3     2011-01-06 04:41:30.807808+00:00  \n",
       "27    2011-02-07 16:43:59.284933+00:00  \n",
       "30    2011-02-10 05:01:22.659156+00:00  \n",
       "31    2011-02-10 22:47:07.833488+00:00  \n",
       "34    2011-02-19 22:27:09.747382+00:00  \n",
       "...                                ...  \n",
       "1032  2015-11-06 23:07:42.360039+00:00  \n",
       "1042  2015-11-13 18:51:07.234260+00:00  \n",
       "1055  2015-11-27 22:46:06.244660+00:00  \n",
       "1056  2015-12-01 02:23:53.266292+00:00  \n",
       "1066  2015-12-30 07:41:43.690372+00:00  \n",
       "\n",
       "[69 rows x 18 columns]"
      ]
     },
     "execution_count": 21,
     "metadata": {},
     "output_type": "execute_result"
    }
   ],
   "source": [
    "\"\"\"\n",
    "Inputs:\n",
    "1. Either of the following files can be the input:\n",
    "    1. matched_events_with_morton_mycatalog.csv from the 4_quality_control file\n",
    "    2. matched_events_with_anss_mycatalog.csv from the 4_quality_control file\n",
    "    3. new_events.csv from the 4_quality_control file\n",
    "2. The all_pick_assignments CSV file from the 3_associate file: e.g., all_pick_assignments = pd.read_csv('../data/datasets_2012/all_pick_assignments_2012.csv')\n",
    "\n",
    "\n",
    "Outputs:\n",
    "1. A new dataframe that only has events that fall into the following categories:\n",
    "    1. For an event, at least two stations have to be less than 50 km from the event and no station can be 100 km apart from each other.\n",
    "2. An event has to have more than or equal to 6 picks\n",
    "\"\"\"\n",
    "\n",
    "# Parameters\n",
    "client2 = Client(\"IRIS\")\n",
    "\n",
    "mycatalog = all_pick_assignments.drop_duplicates(subset=['idx'])\n",
    "mycatalog['datetime'] = pd.to_datetime(mycatalog['time'], utc = True)\n",
    "\n",
    "for i, idx in tqdm(enumerate(events['idx']),total=len(events['idx'])):\n",
    "    event = mycatalog\n",
    "    picks = all_pick_assignments\n",
    "    picks_idx = picks.loc[picks['idx']==idx]\n",
    "    pick_sta = np.unique(picks_idx['station'])\n",
    "    otime = UTCDateTime(str(event[event['idx'] == idx][\"datetime\"].values[0]))\n",
    "    distances = []\n",
    "    max_dist = 10\n",
    "    min_dist = 0\n",
    "    for station in pick_sta:\n",
    "\n",
    "\n",
    "        sta_inv = client2.get_stations(network='*',\n",
    "                                       station=station, channel=\"?H?\", \n",
    "                                       starttime=otime - 1e8, endtime=otime + 1e8,level=\"response\")\n",
    "        if len(sta_inv) == 0:\n",
    "            print(f\"Failed to fetch for {networks} {station} {otime}\")\n",
    "            continue\n",
    "\n",
    "        _network = sta_inv[0].code\n",
    "        slat = sta_inv[0][0].latitude\n",
    "        slon = sta_inv[0][0].longitude\n",
    "        olat = event.loc[event['idx']==idx, 'latitude'].values[0]\n",
    "        olon = event.loc[event['idx']==idx, 'longitude'].values[0]\n",
    "\n",
    "        dis1 = locations2degrees(olat, olon, slat, slon)\n",
    "        dist = degrees2kilometers(dis1)\n",
    "\n",
    "        distances.append([None, _network, station, dist])\n",
    "\n",
    "    # Sort distances\n",
    "    distances = sorted(distances, key=lambda item: item[-1])\n",
    "\n",
    "    # This is for the first criterion in the markdown above\n",
    "    # Determine if any two of the numbers in the distances list are less than or equal to 50\n",
    "    found = False\n",
    "    for i in range(len(distances)):\n",
    "        for j in range(i + 1, len(distances)):\n",
    "            if distances[i][3] <= 50 and distances[j][3] <= 50:\n",
    "                found = True\n",
    "                break\n",
    "        if found:\n",
    "            break\n",
    "\n",
    "    # Make a list that includes the differences between the consecutive numbers in the distances list.\n",
    "    differences = [distances[i+1][3] - distances[i][3] for i in range(len(distances) - 1)]\n",
    "\n",
    "    if found == False: # If there were not at least two distances between the station and the event less than or equal to 50 km\n",
    "        print(distances)\n",
    "        index = events[events['idx'] == idx].index\n",
    "        events = events.drop(index=index)\n",
    "\n",
    "    elif any(differences > 100 for differences in differences): # If any of the distances between two stations were greater than 100 km\n",
    "        print(distances)\n",
    "        index = events[events['idx'] == idx].index\n",
    "        events = events.drop(index=index)\n",
    "\n",
    "    else: \n",
    "        continue\n",
    "\n",
    "\n",
    "events "
   ]
  },
  {
   "cell_type": "code",
   "execution_count": 18,
   "id": "c3444633",
   "metadata": {
    "scrolled": true
   },
   "outputs": [
    {
     "ename": "NameError",
     "evalue": "name 'new_events' is not defined",
     "output_type": "error",
     "traceback": [
      "\u001b[0;31m---------------------------------------------------------------------------\u001b[0m",
      "\u001b[0;31mNameError\u001b[0m                                 Traceback (most recent call last)",
      "Cell \u001b[0;32mIn[18], line 1\u001b[0m\n\u001b[0;32m----> 1\u001b[0m new_events_filtered \u001b[38;5;241m=\u001b[39m filter_sta(\u001b[43mnew_events\u001b[49m, mycatalog_picks)\n",
      "\u001b[0;31mNameError\u001b[0m: name 'new_events' is not defined"
     ]
    }
   ],
   "source": [
    "new_events_filtered = filter_sta(new_events, mycatalog_picks)"
   ]
  },
  {
   "cell_type": "code",
   "execution_count": null,
   "id": "8da81e6d",
   "metadata": {},
   "outputs": [],
   "source": [
    "new_events_filtered.to_csv(f'../data/datasets_{year}/new_events_filtered_{year}.csv')"
   ]
  },
  {
   "cell_type": "code",
   "execution_count": 22,
   "id": "1f4637d1",
   "metadata": {},
   "outputs": [],
   "source": [
    "events.to_csv(f'../data/datasets_{year}/new_events_filtered_{year}.csv')"
   ]
  },
  {
   "cell_type": "code",
   "execution_count": null,
   "id": "575d60f4",
   "metadata": {},
   "outputs": [],
   "source": [
    "events"
   ]
  },
  {
   "cell_type": "code",
   "execution_count": null,
   "id": "96d11af4",
   "metadata": {},
   "outputs": [],
   "source": [
    "count = 0\n",
    "for i, idx in enumerate(range(0,10,1)):\n",
    "    print(i,idx,count)\n",
    "    count+=1\n",
    "\n",
    "print(count)"
   ]
  },
  {
   "cell_type": "code",
   "execution_count": null,
   "id": "65d60411",
   "metadata": {},
   "outputs": [],
   "source": [
    "new_events"
   ]
  },
  {
   "cell_type": "markdown",
   "id": "d9aaac94",
   "metadata": {},
   "source": [
    "## Plot using the plotting functions"
   ]
  },
  {
   "cell_type": "code",
   "execution_count": null,
   "id": "84953e3a",
   "metadata": {},
   "outputs": [],
   "source": [
    "all_picks = pd.read_csv('../data/datasets_2014/all_picks_2014_for_assoc.csv')"
   ]
  },
  {
   "cell_type": "code",
   "execution_count": null,
   "id": "444b3861",
   "metadata": {},
   "outputs": [],
   "source": [
    "all_picks"
   ]
  },
  {
   "cell_type": "code",
   "execution_count": null,
   "id": "921e15bb",
   "metadata": {},
   "outputs": [],
   "source": [
    "all_picks_networks = all_picks['station_network_code'].drop_duplicates()\n",
    "list_networks = list(all_picks_networks)\n",
    "all_picks_networks = ','.join(all_picks_networks)\n",
    "all_picks_networks"
   ]
  },
  {
   "cell_type": "code",
   "execution_count": null,
   "id": "41a4493d",
   "metadata": {},
   "outputs": [],
   "source": [
    "list_networks"
   ]
  },
  {
   "cell_type": "code",
   "execution_count": null,
   "id": "b7d7dc2b",
   "metadata": {},
   "outputs": [],
   "source": [
    "# Clean up the memory\n",
    "del all_picks"
   ]
  },
  {
   "cell_type": "markdown",
   "id": "1ca3946e",
   "metadata": {},
   "source": [
    "## Plot the offshore events north of 44&deg; N"
   ]
  },
  {
   "cell_type": "code",
   "execution_count": null,
   "id": "7eb5ede4",
   "metadata": {},
   "outputs": [],
   "source": [
    "new_events = pd.read_csv('../data/datasets_2014/new_events.csv')"
   ]
  },
  {
   "cell_type": "code",
   "execution_count": null,
   "id": "cc7496a2",
   "metadata": {},
   "outputs": [],
   "source": [
    "new_events_44N_and_above= new_events.loc[(new_events['latitude']>44)&(new_events['longitude']<-124)]\n",
    "new_events_44N_and_above = new_events_44N_and_above[0:50] "
   ]
  },
  {
   "cell_type": "code",
   "execution_count": null,
   "id": "161b1476",
   "metadata": {},
   "outputs": [],
   "source": [
    "# parameters for subplots_cluster_scale\n",
    "mycatalog= mycatalog\n",
    "mycatalog_picks=mycatalog_picks\n",
    "networks= all_picks_networks\n",
    "channel= \"?H?\"\n",
    "idx_sta= 50\n",
    "title= \"Events matched\"\n",
    "fig_title= \"new_events_filtered_44N_and_above_plots.pdf\"\n",
    "\n",
    "subplots_cluster_scale(new_events_44N_and_above,mycatalog_picks,networks,channel,idx_sta,title,fig_title)"
   ]
  },
  {
   "cell_type": "code",
   "execution_count": null,
   "id": "4c5a80d9",
   "metadata": {},
   "outputs": [],
   "source": []
  },
  {
   "cell_type": "code",
   "execution_count": null,
   "id": "4634dd6c",
   "metadata": {},
   "outputs": [],
   "source": []
  },
  {
   "cell_type": "markdown",
   "id": "78356615",
   "metadata": {},
   "source": [
    "## Plot one of the cluster events at around 46.5&deg; N, 125&deg; W using the plotting functions "
   ]
  },
  {
   "cell_type": "code",
   "execution_count": null,
   "id": "a8e3d4bd",
   "metadata": {},
   "outputs": [],
   "source": [
    "def subplots_cluster_scale_p(idx, mycatalog, mycatalog_picks, networks, channel, idx_sta, title, fig_title):\n",
    "    \"\"\"\n",
    "    idx: event_idx\n",
    "    mycatalog: dataframe that contains only the unique picks (i.e., mycatalog_picks.drop_duplicates(subset=['idx']).copy())\n",
    "    mycatalog_picks: all pick assignments csv file (e.g., pd.read_csv('../data/datasets_OR/all_pick_assignments_OR.csv'))\n",
    "    networks: string of networks (e.g., \"NV,OO,7A\")\n",
    "    channel: specify the direction of the channel (i.e., \"?HZ\", \"?HE\" or \"?HN\")\n",
    "    idx_sta: choose the station to which you want to show the waveforms\n",
    "    title: title in a string\n",
    "    fig_title: figure title in as string\n",
    "    \"\"\"\n",
    "        \n",
    "    # Define the clients \n",
    "    client_waveform = WaveformClient()\n",
    "    client2 = Client(\"IRIS\")\n",
    "    client_ncedc = Client('NCEDC')\n",
    "\n",
    "\n",
    "    # Plot the earthquake moveout for one of the unmatched events for all stations \n",
    "    event = mycatalog\n",
    "    picks = mycatalog_picks\n",
    "    picks_idx = picks.loc[picks['idx']==idx]\n",
    "    pick_sta = np.unique(picks_idx['station'])\n",
    "    \n",
    "    otime = UTCDateTime(str(event[event['idx'] == idx][\"datetime\"].values[0]))\n",
    "    distances = []\n",
    "    max_dist = 10\n",
    "    min_dist = 0\n",
    "    \n",
    "    print(event[event['idx'] == idx]['picks'].values[0])\n",
    "    for station in pick_sta:\n",
    "        \n",
    "        \n",
    "        sta_inv = client2.get_stations(network=networks,\n",
    "                                       station=station, channel=\"?H?\", \n",
    "                                       starttime=otime - 1e8, endtime=otime + 1e8,level=\"response\")\n",
    "        if len(sta_inv) == 0:\n",
    "#             print(f\"Failed to fetch for {networks} {station} {otime}\")\n",
    "            continue\n",
    "            \n",
    "        _network = sta_inv[0].code\n",
    "        slat = sta_inv[0][0].latitude\n",
    "        slon = sta_inv[0][0].longitude\n",
    "        olat = event.loc[event['idx']==idx, 'latitude'].values[0]\n",
    "        olon = event.loc[event['idx']==idx, 'longitude'].values[0]\n",
    "        \n",
    "        dis1 = locations2degrees(olat, olon, slat, slon)\n",
    "        dist = degrees2kilometers(dis1)\n",
    "#         if max_dist < dist:\n",
    "#             max_dist = dist\n",
    "            \n",
    "#         if min_dist > dist:\n",
    "#             min_dist = dist\n",
    "            \n",
    "        distances.append([None, _network, station, dist])\n",
    "\n",
    "    # Sort distances\n",
    "    distances = sorted(distances, key=lambda item: item[-1])\n",
    "    distances = distances[:idx_sta+1]\n",
    "    \n",
    "    # Set up to define the xlim and ylim\n",
    "    max_y = 0\n",
    "    min_y = 0\n",
    "    # This count is for the if statements. Only used to ensure that min_y_count \n",
    "    #is changed from 0 to either the first positive value of the distance of one of the stations from the event\n",
    "    min_y_count = 0 \n",
    "    \n",
    "    max_x = 0\n",
    "    min_x = 0\n",
    "    \n",
    "    # This count is for the if statements. Only used to ensure that min_x_count \n",
    "    #is changed from 0 to either the first positive value of P pick time or the first positive value of S pick time\n",
    "    min_x_count= 0\n",
    "    # Create a figure\n",
    "    fig,axs = plt.subplots(1,4,figsize=(18,6))\n",
    "    gs = fig.add_gridspec(3, hspace=0, figure=fig)\n",
    "#     axs = gs.subplots(sharex=True, sharey=True)\n",
    "    starttime = otime -30\n",
    "    endtime = otime + 120\n",
    "    \n",
    "    # Define texts\n",
    "    texts = []\n",
    "    \n",
    "    for i, ii in enumerate(distances):\n",
    "            \n",
    "        if ii[1] in ['NC', 'BK']:\n",
    "            # Query waveforms\n",
    "            st = client_ncedc.get_waveforms(network=ii[1], station=ii[2], location=\"*\", channel=channel,starttime=starttime, endtime=endtime)\n",
    "\n",
    "        elif ii[1] in networks: \n",
    "            st = client_waveform.get_waveforms(network=ii[1], station=ii[2], channel=channel,starttime=starttime, endtime=endtime)\n",
    "  \n",
    "        else: \n",
    "            st =  Stream()\n",
    "            print(f\"WARNING: No data for {ii[1]}.{ii[2]}.{channel} on {otime}.\")    \n",
    "            continue\n",
    "            \n",
    "#         print(f\"len(st):{len(st)}\")\n",
    "#         print(st)\n",
    "    \n",
    "        # Skip empty traces\n",
    "        if len(st) == 0:\n",
    "                continue\n",
    "                \n",
    "        sta_picks = picks_idx[picks_idx['station'] == ii[2]]\n",
    "        p_picks = sta_picks.loc[sta_picks['phase'] == 'P']\n",
    "        s_picks = sta_picks.loc[sta_picks['phase'] == 'S']\n",
    "#         print(len(p_picks),len(s_picks))\n",
    "        \n",
    "        # Define the xlim values\n",
    "        # Define the maximum x value\n",
    "        if len(s_picks) > 0:\n",
    "            if max_x < UTCDateTime(s_picks.iloc[0]['time_pick']) - starttime:\n",
    "                max_x = UTCDateTime(s_picks.iloc[0]['time_pick']+5) - starttime\n",
    "        elif len(p_picks) > 0:\n",
    "            if max_x < UTCDateTime(p_picks.iloc[0]['time_pick']) - starttime: \n",
    "                max_x = UTCDateTime(p_picks.iloc[0]['time_pick']+5) - starttime\n",
    "        else:\n",
    "            print('No picks for this station. Skipping.')\n",
    "            continue \n",
    "            \n",
    "        # Define the minimum x value\n",
    "        if len(p_picks) > 0:\n",
    "            if min_x_count == 0:\n",
    "                if min_x < UTCDateTime(p_picks.iloc[0]['time_pick']) - starttime:\n",
    "                    min_x = UTCDateTime(p_picks.iloc[0]['time_pick']-5) - starttime\n",
    "                    min_x_count += 1           \n",
    "            else:\n",
    "                if min_x >= UTCDateTime(p_picks.iloc[0]['time_pick']) - starttime:\n",
    "                    min_x = UTCDateTime(p_picks.iloc[0]['time_pick']-5) - starttime            \n",
    "        elif len(s_picks) > 0:\n",
    "            if min_x_count == 0:\n",
    "                if min_x < UTCDateTime(s_picks.iloc[0]['time_pick'])- starttime:\n",
    "                    min_x = UTCDateTime(s_picks.iloc[0]['time_pick']-5)- starttime\n",
    "                    min_x_count += 1                \n",
    "            else:\n",
    "                if min_x >= UTCDateTime(s_picks.iloc[0]['time_pick'])- starttime:\n",
    "                    min_x = UTCDateTime(s_picks.iloc[0]['time_pick']-5) - starttime\n",
    "        else:\n",
    "            print('No picks for this station. Skipping.')\n",
    "            continue    \n",
    "            \n",
    "        if len(p_picks) == 0:\n",
    "            continue\n",
    "            \n",
    "#         print('This is after the p_pick continue statement')\n",
    "    \n",
    "        # Define ylim values\n",
    "        if min_y_count == 0:\n",
    "            if min_y < ii[3]:\n",
    "                min_y = ii[3] - 5\n",
    "                min_y_count += 1           \n",
    "        else:\n",
    "            if min_y >= ii[3]:\n",
    "                min_y = ii[3] - 5 \n",
    "                \n",
    "        max_y = ii[3] + 5\n",
    "        \n",
    "    scaling_factor = (1/2)*(max_y-min_y)   \n",
    "        \n",
    "    for i, ii in enumerate(distances):\n",
    "            \n",
    "        if ii[1] in ['NC', 'BK']:\n",
    "            # Query waveforms\n",
    "            st = client_ncedc.get_waveforms(network=ii[1], station=ii[2], location=\"*\", channel=channel,starttime=starttime, endtime=endtime)\n",
    "\n",
    "        elif ii[1] in networks: \n",
    "            st = client_waveform.get_waveforms(network=ii[1], station=ii[2], channel=channel,starttime=starttime, endtime=endtime)\n",
    "  \n",
    "        else: \n",
    "            st =  Stream()\n",
    "            print(f\"WARNING: No data for {ii[1]}.{ii[2]}.{channel} on {otime}.\")    \n",
    "            continue\n",
    "            \n",
    "#         print(f\"len(st):{len(st)}\")\n",
    "#         print(st)\n",
    "    \n",
    "        # Skip empty traces\n",
    "        if len(st) == 0:\n",
    "                continue\n",
    "        _st = Stream()\n",
    "        # Check for HH and BH channels presence\n",
    "        has_HH = bool(st.select(channel=\"HH?\"))\n",
    "        has_BH = bool(st.select(channel=\"BH?\"))\n",
    "\n",
    "        # Apply selection logic based on channel presence\n",
    "        if has_HH and has_BH:\n",
    "            # If both HH and BH channels are present, select only HH\n",
    "            _st += st.select(channel=\"HH?\")\n",
    "        elif has_HH:\n",
    "            # If only HH channels are present\n",
    "            _st += st.select(channel=\"HH?\")\n",
    "        elif has_BH:\n",
    "            # If only BH channels are present\n",
    "            _st += st.select(channel=\"BH?\")\n",
    "\n",
    "        st = _st\n",
    "\n",
    "        print(f'Second st print:{_st}')\n",
    "              \n",
    "        st = Stream(filter(lambda st: st.stats.sampling_rate > 10, st))\n",
    "        st.taper(max_percentage=0.05)\n",
    "        st.filter(type='bandpass', freqmin=2, freqmax=25)\n",
    "        st.merge(fill_value='interpolate') # fill gaps if there are any.\n",
    "\n",
    "#         print(st)\n",
    "        # Select only one trace per channel\n",
    "        unique_channels = set(tr.stats.channel for tr in st)\n",
    "        selected_traces = []\n",
    "        \n",
    "        for ch in unique_channels:\n",
    "            selected_traces.append(next(tr for tr in st if tr.stats.channel == ch))\n",
    "        st = Stream(selected_traces)\n",
    "                   \n",
    "        trim_st = st.copy()\n",
    "        sta_picks = picks_idx[picks_idx['station'] == ii[2]]\n",
    "        p_picks = sta_picks.loc[sta_picks['phase'] == 'P']\n",
    "        s_picks = sta_picks.loc[sta_picks['phase'] == 'S']\n",
    "#         print(len(p_picks),len(s_picks))\n",
    "        \n",
    "        \n",
    "                \n",
    "            \n",
    "        if len(p_picks) == 0:\n",
    "            continue \n",
    "#         print('This is after the p_pick continue statement')\n",
    "        print(trim_st)\n",
    "        \n",
    "        for iax in range(len(trim_st)):\n",
    "            print(iax)\n",
    "            sampling_rate = trim_st[iax].stats.sampling_rate\n",
    "            trim_st = trim_st.normalize()\n",
    "            \n",
    "            tp = UTCDateTime(p_picks.iloc[0]['time_pick']) - otime + 30\n",
    "            i1 = int((tp-5)*sampling_rate)\n",
    "            i2 = int((tp+15)*sampling_rate)\n",
    "\n",
    "            offsets1 = ii[3]\n",
    "            try: \n",
    "                wave = trim_st[iax].data\n",
    "                wave = wave / (np.nanmax(wave[i1:i2], axis=-1)*10)\n",
    "            except:\n",
    "                continue \n",
    "            \n",
    "#             print(trim_st[iax].stats.sampling_rate)\n",
    "            axs[iax].plot(trim_st[iax].times(), wave * scaling_factor + offsets1, \n",
    "                          color='black', label=f\"{trim_st[iax].stats.channel}\", alpha=0.7, lw=0.5)\n",
    "#             axs[iax].plot(trim_st[iax].times(), wave * 30 + offsets1, color='black', label=f\"{trim_st[iax].stats.channel}\", alpha=0.7, lw=0.5)\n",
    "\n",
    "#             axs[iax].text(xlim[-1] + 2,   offsets1, \n",
    "#                               [ii[2]], fontsize=8, verticalalignment='bottom')\n",
    "\n",
    "            if len(p_picks) > 0:\n",
    "                axs[iax].vlines(UTCDateTime(p_picks.iloc[0]['time_pick']) - otime + 30, offsets1 - (1/35) * scaling_factor, \n",
    "                                offsets1 + (1/35) * scaling_factor, color='r')\n",
    "            if len(s_picks) > 0:\n",
    "                axs[iax].vlines(UTCDateTime(s_picks.iloc[0]['time_pick']) - otime + 30, offsets1 - (1/35) * scaling_factor, \n",
    "                                offsets1 + (1/35) * scaling_factor, color='b')\n",
    "        texts.append([ii[2],ii[3]])\n",
    "\n",
    "    \n",
    "#     print(max_y,min_y)\n",
    "    chs = ['2','1','Z']\n",
    "    for iax in range(3):\n",
    "        for i, ii in enumerate(texts):\n",
    "            offsets1 = ii[1]\n",
    "            axs[iax].text(max_x + 0.5, offsets1, \n",
    "                                  [ii[0]], fontsize=8, verticalalignment='bottom')\n",
    "        axs[iax].legend(chs[iax],loc='upper right', handlelength=0)\n",
    "        axs[iax].set_ylim([min_y,max_y])\n",
    "        axs[iax].set_xlim([min_x,max_x])\n",
    "        axs[iax].grid(alpha=0.5)\n",
    "    fig.supxlabel('Time [sec]', y=0.07)\n",
    "    fig.supylabel('Distance [km]')\n",
    "    fig.suptitle(f\"{title}: Origin Time={otime}, \\n Latitude={round(event[event['idx']==idx]['latitude'].values[0], 2)}, Longtitude={round(event[event['idx']==idx]['longitude'].values[0], 2)}, Depth={round(event[event['idx']==idx]['depth'].values[0], 2)}\", y=1)\n",
    "    \n",
    "    m = Basemap(projection='merc', llcrnrlat=40, urcrnrlat=50, llcrnrlon=-130, urcrnrlon=-120, resolution='i', ax=axs[3])\n",
    "    m.drawcoastlines()\n",
    "    m.drawcountries()\n",
    "    m.drawstates()\n",
    "    m.drawmapboundary()\n",
    "    m.drawparallels(np.arange(40, 51, 1), labels=[1,0,0,0])\n",
    "    m.drawmeridians(np.arange(-130, -119, 1), labels=[0,0,0,1])\n",
    "    x, y = m(event[event['idx']==idx]['longitude'].values[0], event[event['idx']==idx]['latitude'].values[0])\n",
    "    m.plot(x, y, 'ro', markersize=9)\n",
    "    axs[3].set_title('Event Location')\n",
    "    \n",
    "    plt.show()\n"
   ]
  },
  {
   "cell_type": "code",
   "execution_count": null,
   "id": "0ba14668",
   "metadata": {},
   "outputs": [],
   "source": [
    "def subplots_cluster_scale(idx, mycatalog, mycatalog_picks, networks, channel, idx_sta, title, fig_title):\n",
    "    \"\"\"\n",
    "    idx: event_idx\n",
    "    mycatalog: dataframe that contains only the unique picks (i.e., mycatalog_picks.drop_duplicates(subset=['idx']).copy())\n",
    "    mycatalog_picks: all pick assignments csv file (e.g., pd.read_csv('../data/datasets_OR/all_pick_assignments_OR.csv'))\n",
    "    networks: string of networks (e.g., \"NV,OO,7A\")\n",
    "    channel: specify the direction of the channel (i.e., \"?HZ\", \"?HE\" or \"?HN\")\n",
    "    idx_sta: choose the station to which you want to show the waveforms\n",
    "    title: title in a string\n",
    "    fig_title: figure title in as string\n",
    "    \"\"\"\n",
    "        \n",
    "    # Define the clients \n",
    "    client_waveform = WaveformClient()\n",
    "    client2 = Client(\"IRIS\")\n",
    "    client_ncedc = Client('NCEDC')\n",
    "\n",
    "\n",
    "    # Plot the earthquake moveout for one of the unmatched events for all stations \n",
    "    event = mycatalog\n",
    "    picks = mycatalog_picks\n",
    "    \n",
    "    p = PdfPages(fig_title) \n",
    "    \n",
    "    for idx in event['idx']:\n",
    "        \n",
    "        picks_idx = picks.loc[picks['idx']==idx]\n",
    "        pick_sta = np.unique(picks_idx['station'])\n",
    "\n",
    "        otime = UTCDateTime(str(event[event['idx'] == idx][\"datetime\"].values[0]))\n",
    "        distances = []\n",
    "        max_dist = 10\n",
    "        min_dist = 0\n",
    "\n",
    "        print(event[event['idx'] == idx]['picks'].values[0])\n",
    "        for station in pick_sta:\n",
    "\n",
    "\n",
    "            sta_inv = client2.get_stations(network=networks,\n",
    "                                           station=station, channel=\"?H?\", \n",
    "                                           starttime=otime - 1e8, endtime=otime + 1e8,level=\"response\")\n",
    "            if len(sta_inv) == 0:\n",
    "    #             print(f\"Failed to fetch for {networks} {station} {otime}\")\n",
    "                continue\n",
    "\n",
    "            _network = sta_inv[0].code\n",
    "            slat = sta_inv[0][0].latitude\n",
    "            slon = sta_inv[0][0].longitude\n",
    "            olat = event.loc[event['idx']==idx, 'latitude'].values[0]\n",
    "            olon = event.loc[event['idx']==idx, 'longitude'].values[0]\n",
    "\n",
    "            dis1 = locations2degrees(olat, olon, slat, slon)\n",
    "            dist = degrees2kilometers(dis1)\n",
    "    #         if max_dist < dist:\n",
    "    #             max_dist = dist\n",
    "\n",
    "    #         if min_dist > dist:\n",
    "    #             min_dist = dist\n",
    "\n",
    "            distances.append([None, _network, station, dist])\n",
    "\n",
    "        # Sort distances\n",
    "        distances = sorted(distances, key=lambda item: item[-1])\n",
    "        distances = distances[:idx_sta+1]\n",
    "\n",
    "        # Set up to define the xlim and ylim\n",
    "        max_y = 0\n",
    "        min_y = 0\n",
    "        # This count is for the if statements. Only used to ensure that min_y_count \n",
    "        #is changed from 0 to either the first positive value of the distance of one of the stations from the event\n",
    "        min_y_count = 0 \n",
    "\n",
    "        max_x = 0\n",
    "        min_x = 0\n",
    "\n",
    "        # This count is for the if statements. Only used to ensure that min_x_count \n",
    "        #is changed from 0 to either the first positive value of P pick time or the first positive value of S pick time\n",
    "        min_x_count= 0\n",
    "        # Create a figure\n",
    "        fig,axs = plt.subplots(1,4,figsize=(18,6))\n",
    "        gs = fig.add_gridspec(3, hspace=0, figure=fig)\n",
    "    #     axs = gs.subplots(sharex=True, sharey=True)\n",
    "        starttime = otime -30\n",
    "        endtime = otime + 120\n",
    "\n",
    "        # Define texts\n",
    "        texts = []\n",
    "\n",
    "        for i, ii in enumerate(distances):\n",
    "\n",
    "            if ii[1] in ['NC', 'BK']:\n",
    "                # Query waveforms\n",
    "                st = client_ncedc.get_waveforms(network=ii[1], station=ii[2], location=\"*\", channel=channel,starttime=starttime, endtime=endtime)\n",
    "\n",
    "            elif ii[1] in networks: \n",
    "                st = client_waveform.get_waveforms(network=ii[1], station=ii[2], channel=channel,starttime=starttime, endtime=endtime)\n",
    "\n",
    "            else: \n",
    "                st =  Stream()\n",
    "                print(f\"WARNING: No data for {ii[1]}.{ii[2]}.{channel} on {otime}.\")    \n",
    "                continue\n",
    "\n",
    "    #         print(f\"len(st):{len(st)}\")\n",
    "    #         print(st)\n",
    "\n",
    "            # Skip empty traces\n",
    "            if len(st) == 0:\n",
    "                    continue\n",
    "\n",
    "            sta_picks = picks_idx[picks_idx['station'] == ii[2]]\n",
    "            p_picks = sta_picks.loc[sta_picks['phase'] == 'P']\n",
    "            s_picks = sta_picks.loc[sta_picks['phase'] == 'S']\n",
    "    #         print(len(p_picks),len(s_picks))\n",
    "\n",
    "            # Define the xlim values\n",
    "            # Define the maximum x value\n",
    "            if len(s_picks) > 0:\n",
    "                if max_x < UTCDateTime(s_picks.iloc[0]['time_pick']) - starttime:\n",
    "                    max_x = UTCDateTime(s_picks.iloc[0]['time_pick']+5) - starttime\n",
    "            elif len(p_picks) > 0:\n",
    "                if max_x < UTCDateTime(p_picks.iloc[0]['time_pick']) - starttime: \n",
    "                    max_x = UTCDateTime(p_picks.iloc[0]['time_pick']+5) - starttime\n",
    "            else:\n",
    "                print('No picks for this station. Skipping.')\n",
    "                continue \n",
    "\n",
    "            # Define the minimum x value\n",
    "            if len(p_picks) > 0:\n",
    "                if min_x_count == 0:\n",
    "                    if min_x < UTCDateTime(p_picks.iloc[0]['time_pick']) - starttime:\n",
    "                        min_x = UTCDateTime(p_picks.iloc[0]['time_pick']-5) - starttime\n",
    "                        min_x_count += 1           \n",
    "                else:\n",
    "                    if min_x >= UTCDateTime(p_picks.iloc[0]['time_pick']) - starttime:\n",
    "                        min_x = UTCDateTime(p_picks.iloc[0]['time_pick']-5) - starttime            \n",
    "            elif len(s_picks) > 0:\n",
    "                if min_x_count == 0:\n",
    "                    if min_x < UTCDateTime(s_picks.iloc[0]['time_pick'])- starttime:\n",
    "                        min_x = UTCDateTime(s_picks.iloc[0]['time_pick']-5)- starttime\n",
    "                        min_x_count += 1                \n",
    "                else:\n",
    "                    if min_x >= UTCDateTime(s_picks.iloc[0]['time_pick'])- starttime:\n",
    "                        min_x = UTCDateTime(s_picks.iloc[0]['time_pick']-5) - starttime\n",
    "            else:\n",
    "                print('No picks for this station. Skipping.')\n",
    "                continue    \n",
    "\n",
    "    #         if len(p_picks) == 0:\n",
    "    #             continue\n",
    "\n",
    "    #         print('This is after the p_pick continue statement')\n",
    "\n",
    "            # Define ylim values\n",
    "            if min_y_count == 0:\n",
    "                if min_y < ii[3]:\n",
    "                    min_y = ii[3] - 5\n",
    "                    min_y_count += 1           \n",
    "            else:\n",
    "                if min_y >= ii[3]:\n",
    "                    min_y = ii[3] - 5 \n",
    "\n",
    "            max_y = ii[3] + 5\n",
    "\n",
    "        scaling_factor = (1/2)*(max_y-min_y)   \n",
    "\n",
    "        for i, ii in enumerate(distances):\n",
    "\n",
    "            if ii[1] in ['NC', 'BK']:\n",
    "                # Query waveforms\n",
    "                st = client_ncedc.get_waveforms(network=ii[1], station=ii[2], location=\"*\", channel=channel,starttime=starttime, endtime=endtime)\n",
    "\n",
    "            elif ii[1] in networks: \n",
    "                st = client_waveform.get_waveforms(network=ii[1], station=ii[2], channel=channel,starttime=starttime, endtime=endtime)\n",
    "\n",
    "            else: \n",
    "                st =  Stream()\n",
    "                print(f\"WARNING: No data for {ii[1]}.{ii[2]}.{channel} on {otime}.\")    \n",
    "                continue\n",
    "\n",
    "    #         print(f\"len(st):{len(st)}\")\n",
    "    #         print(st)\n",
    "\n",
    "            # Skip empty traces\n",
    "            if len(st) == 0:\n",
    "                    continue\n",
    "            _st = Stream()\n",
    "            # Check for HH and BH channels presence\n",
    "            has_HH = bool(st.select(channel=\"HH?\"))\n",
    "            has_BH = bool(st.select(channel=\"BH?\"))\n",
    "\n",
    "            # Apply selection logic based on channel presence\n",
    "            if has_HH and has_BH:\n",
    "                # If both HH and BH channels are present, select only HH\n",
    "                _st += st.select(channel=\"HH?\")\n",
    "            elif has_HH:\n",
    "                # If only HH channels are present\n",
    "                _st += st.select(channel=\"HH?\")\n",
    "            elif has_BH:\n",
    "                # If only BH channels are present\n",
    "                _st += st.select(channel=\"BH?\")\n",
    "\n",
    "            st = _st\n",
    "\n",
    "            print(f'Second st print:{_st}')\n",
    "\n",
    "            st = Stream(filter(lambda st: st.stats.sampling_rate > 10, st))\n",
    "            st.taper(max_percentage=0.05)\n",
    "            st.filter(type='bandpass', freqmin=2, freqmax=25)\n",
    "            st.merge(fill_value='interpolate') # fill gaps if there are any.\n",
    "\n",
    "    #         print(st)\n",
    "            # Select only one trace per channel\n",
    "            unique_channels = set(tr.stats.channel for tr in st)\n",
    "            selected_traces = []\n",
    "\n",
    "            for ch in unique_channels:\n",
    "                selected_traces.append(next(tr for tr in st if tr.stats.channel == ch))\n",
    "            st = Stream(selected_traces)\n",
    "\n",
    "            trim_st = st.copy()\n",
    "            sta_picks = picks_idx[picks_idx['station'] == ii[2]]\n",
    "            p_picks = sta_picks.loc[sta_picks['phase'] == 'P']\n",
    "            s_picks = sta_picks.loc[sta_picks['phase'] == 'S']\n",
    "    #         print(len(p_picks),len(s_picks))\n",
    "\n",
    "\n",
    "\n",
    "\n",
    "    #         if len(p_picks) == 0:\n",
    "    #             continue \n",
    "    #         print('This is after the p_pick continue statement')\n",
    "            print(trim_st)\n",
    "\n",
    "            for iax in range(len(trim_st)):\n",
    "                print(iax)\n",
    "                sampling_rate = trim_st[iax].stats.sampling_rate\n",
    "                trim_st = trim_st.normalize()\n",
    "\n",
    "                if len(p_picks)>0:\n",
    "                    tp = UTCDateTime(p_picks.iloc[0]['time_pick']) - otime + 30\n",
    "                    i1 = int((tp-5)*sampling_rate)\n",
    "                    i2 = int((tp+15)*sampling_rate)\n",
    "                elif len(s_picks)>0:\n",
    "                    ts = UTCDateTime(s_picks.iloc[0]['time_pick']) - otime + 30\n",
    "                    i1 = int((ts-10)*sampling_rate)\n",
    "                    i2 = int((ts+10)*sampling_rate)\n",
    "                else:\n",
    "                    print(f\"WARNING: No pick time for {ii[1]}.{ii[2]}.{channel} on {otime}.\")\n",
    "\n",
    "                offsets1 = ii[3]\n",
    "                try: \n",
    "                    wave = trim_st[iax].data\n",
    "                    wave = wave / (np.nanmax(wave[i1:i2], axis=-1)*10)\n",
    "                except:\n",
    "                    continue \n",
    "\n",
    "    #             print(trim_st[iax].stats.sampling_rate)\n",
    "                axs[iax].plot(trim_st[iax].times(), wave * scaling_factor + offsets1, \n",
    "                              color='black', label=f\"{trim_st[iax].stats.channel}\", alpha=0.7, lw=0.5)\n",
    "    #             axs[iax].plot(trim_st[iax].times(), wave * 30 + offsets1, color='black', label=f\"{trim_st[iax].stats.channel}\", alpha=0.7, lw=0.5)\n",
    "\n",
    "    #             axs[iax].text(xlim[-1] + 2,   offsets1, \n",
    "    #                               [ii[2]], fontsize=8, verticalalignment='bottom')\n",
    "\n",
    "                if len(p_picks) > 0:\n",
    "                    axs[iax].vlines(UTCDateTime(p_picks.iloc[0]['time_pick']) - otime + 30, offsets1 - (1/35) * scaling_factor, \n",
    "                                    offsets1 + (1/35) * scaling_factor, color='r')\n",
    "                if len(s_picks) > 0:\n",
    "                    axs[iax].vlines(UTCDateTime(s_picks.iloc[0]['time_pick']) - otime + 30, offsets1 - (1/35) * scaling_factor, \n",
    "                                    offsets1 + (1/35) * scaling_factor, color='b')\n",
    "            texts.append([ii[2],ii[3]])\n",
    "\n",
    "\n",
    "    #     print(max_y,min_y)\n",
    "        chs = ['2','1','Z']\n",
    "        for iax in range(3):\n",
    "            for i, ii in enumerate(texts):\n",
    "                offsets1 = ii[1]\n",
    "                axs[iax].text(max_x + 0.5, offsets1, \n",
    "                                      [ii[0]], fontsize=8, verticalalignment='bottom')\n",
    "            axs[iax].legend(chs[iax],loc='upper right', handlelength=0)\n",
    "            axs[iax].set_ylim([min_y,max_y])\n",
    "            axs[iax].set_xlim([min_x,max_x])\n",
    "            axs[iax].grid(alpha=0.5)\n",
    "        fig.supxlabel('Time [sec]', y=0.07)\n",
    "        fig.supylabel('Distance [km]')\n",
    "        fig.suptitle(f\"{title}: Origin Time={otime}, \\n Latitude={round(event[event['idx']==idx]['latitude'].values[0], 2)}, Longtitude={round(event[event['idx']==idx]['longitude'].values[0], 2)}, Depth={round(event[event['idx']==idx]['depth'].values[0], 2)}\", y=1)\n",
    "\n",
    "        m = Basemap(projection='merc', llcrnrlat=40, urcrnrlat=50, llcrnrlon=-130, urcrnrlon=-120, resolution='i', ax=axs[3])\n",
    "        m.drawcoastlines()\n",
    "        m.drawcountries()\n",
    "        m.drawstates()\n",
    "        m.drawmapboundary()\n",
    "        m.drawparallels(np.arange(40, 51, 1), labels=[1,0,0,0])\n",
    "        m.drawmeridians(np.arange(-130, -119, 1), labels=[0,0,0,1])\n",
    "        x, y = m(event[event['idx']==idx]['longitude'].values[0], event[event['idx']==idx]['latitude'].values[0])\n",
    "        m.plot(x, y, 'ro', markersize=9)\n",
    "        axs[3].set_title('Event Location')\n",
    "        \n",
    "        fig.savefig(p, format='pdf')  \n",
    "\n",
    "    p.close()"
   ]
  },
  {
   "cell_type": "markdown",
   "id": "5ef03321",
   "metadata": {},
   "source": [
    "### Specify the latitudes and longitudes"
   ]
  },
  {
   "cell_type": "code",
   "execution_count": null,
   "id": "c2f79e5a",
   "metadata": {},
   "outputs": [],
   "source": [
    "new_events = pd.read_csv('../data/datasets_2014/new_events.csv')"
   ]
  },
  {
   "cell_type": "code",
   "execution_count": null,
   "id": "5d048ab8",
   "metadata": {},
   "outputs": [],
   "source": [
    "idx = new_events[new_events['station']=='J25B']['idx'].values\n",
    "idx"
   ]
  },
  {
   "cell_type": "code",
   "execution_count": null,
   "id": "db3d4c0b",
   "metadata": {},
   "outputs": [],
   "source": [
    "new_events = new_events[new_events[\"idx\"].isin(idx)]\n",
    "new_events"
   ]
  },
  {
   "cell_type": "code",
   "execution_count": null,
   "id": "ac241e77",
   "metadata": {},
   "outputs": [],
   "source": [
    "new_events_specific_lat_lon = new_events.loc[(new_events['latitude']>46)&(new_events['latitude']<47.5)&(new_events['longitude']<-124)&(new_events['longitude']>-126)]\n",
    "new_events_specific_lat_lon"
   ]
  },
  {
   "cell_type": "code",
   "execution_count": null,
   "id": "1c610d2a",
   "metadata": {},
   "outputs": [],
   "source": [
    "# new_events = new_events_specific_lat_lon.loc[(new_events_specific_lat_lon['depth']>1)&(new_events_specific_lat_lon['depth']<40)]\n",
    "new_events = new_events_specific_lat_lon.loc[new_events_specific_lat_lon['picks']>=6][0:30]\n",
    "new_events"
   ]
  },
  {
   "cell_type": "markdown",
   "id": "60eda7e0",
   "metadata": {},
   "source": [
    "### Histogram: Depths of events"
   ]
  },
  {
   "cell_type": "code",
   "execution_count": null,
   "id": "92381c64",
   "metadata": {},
   "outputs": [],
   "source": [
    "# Plot the histogram of the number of picks for the matched events\n",
    "plt.figure()\n",
    "bins = np.linspace(0,50,25)\n",
    "plt.hist(new_events['depth'],bins=bins)\n",
    "plt.xlabel('Depth (km)')\n",
    "plt.ylabel('Number of Events')\n",
    "plt.title('Histogram of the depths of the events in the cluster at ~46.5$^\\circ$ N')"
   ]
  },
  {
   "cell_type": "markdown",
   "id": "436cab64",
   "metadata": {},
   "source": [
    "### Plot HH?"
   ]
  },
  {
   "cell_type": "code",
   "execution_count": null,
   "id": "2f35b6a6",
   "metadata": {
    "scrolled": true
   },
   "outputs": [],
   "source": [
    "# parameters\n",
    "mycatalog= mycatalog\n",
    "mycatalog_picks=mycatalog_picks\n",
    "networks= all_picks_networks\n",
    "channel= \"HH?\"\n",
    "idx_sta= 50\n",
    "title= \"Events matched\"\n",
    "fig_title= \"events_matched.png\"\n",
    "ylim= [0,300]\n",
    "xlim= [30,45]\n",
    "\n",
    "for idx in new_events['idx']:\n",
    "    subplots_cluster_scale_p(idx,mycatalog,mycatalog_picks,networks,channel,idx_sta,title,fig_title,ylim,xlim)"
   ]
  },
  {
   "cell_type": "markdown",
   "id": "ad72ab1e",
   "metadata": {},
   "source": [
    "### Plot BH?"
   ]
  },
  {
   "cell_type": "code",
   "execution_count": null,
   "id": "c369c148",
   "metadata": {
    "scrolled": true
   },
   "outputs": [],
   "source": [
    "# parameters\n",
    "mycatalog= mycatalog\n",
    "mycatalog_picks=mycatalog_picks\n",
    "networks= all_picks_networks\n",
    "channel= \"BH?\"\n",
    "idx_sta= 50\n",
    "title= \"Events matched\"\n",
    "fig_title= \"events_matched.png\"\n",
    "ylim= [0,300]\n",
    "xlim= [30,45]\n",
    "\n",
    "for idx in new_events['idx']:\n",
    "    subplots_cluster_scale_p(idx,mycatalog,mycatalog_picks,networks,channel,idx_sta,title,fig_title,ylim,xlim)"
   ]
  },
  {
   "cell_type": "markdown",
   "id": "88c6211d",
   "metadata": {},
   "source": [
    "### Plot both HH? and BH?"
   ]
  },
  {
   "cell_type": "code",
   "execution_count": null,
   "id": "cf66bf4b",
   "metadata": {},
   "outputs": [],
   "source": [
    "new_events['datetime'] = pd.to_datetime(new_events['datetime'], utc = True)\n",
    "new_events"
   ]
  },
  {
   "cell_type": "code",
   "execution_count": null,
   "id": "b0f15bcc",
   "metadata": {
    "scrolled": true
   },
   "outputs": [],
   "source": [
    "# parameters for subplots_cluster_scale_p\n",
    "mycatalog= mycatalog\n",
    "mycatalog_picks=mycatalog_picks\n",
    "networks= all_picks_networks\n",
    "channel= \"?H?\"\n",
    "idx_sta= 50\n",
    "title= \"Events matched\"\n",
    "fig_title= \"events_matched.png\"\n",
    "\n",
    "for idx in new_events['idx']:\n",
    "    subplots_cluster_scale_p(idx,new_events,mycatalog_picks,networks,channel,idx_sta,title,fig_title)"
   ]
  },
  {
   "cell_type": "code",
   "execution_count": null,
   "id": "2ae32807",
   "metadata": {
    "scrolled": true
   },
   "outputs": [],
   "source": [
    "# parameters for subplots_cluster_scale\n",
    "mycatalog= mycatalog\n",
    "mycatalog_picks=mycatalog_picks\n",
    "networks= all_picks_networks\n",
    "channel= \"?H?\"\n",
    "idx_sta= 50\n",
    "title= \"Events matched\"\n",
    "fig_title= \"new_events_plots.pdf\"\n",
    "\n",
    "subplots_cluster_scale(new_events,mycatalog_picks,networks,channel,idx_sta,title,fig_title)"
   ]
  },
  {
   "cell_type": "code",
   "execution_count": null,
   "id": "7e815a03",
   "metadata": {},
   "outputs": [],
   "source": [
    "# Plot the histogram of the number of picks for the matched events\n",
    "new_events['time'] = pd.to_datetime(new_events['time'])\n",
    "year1 = 2012\n",
    "time1 = datetime(year=year1, month=1, day=1)\n",
    "time2 = datetime(year=year1 + 1, month=1, day=1)\n",
    "time_bins = pd.date_range(start=time1, end=time2, freq='5D')\n",
    "plt.figure()\n",
    "plt.hist(new_events['time'], bins=time_bins)\n",
    "plt.xlabel('Days')\n",
    "plt.ylabel('Number of Events')\n",
    "plt.title('Histogram for the frequency of the events in the cluster at ~46.5$^\\circ$ N')\n",
    "plt.xticks(rotation=45)  # Optional: Rotate x-axis labels for better readability\n",
    "plt.show()"
   ]
  },
  {
   "cell_type": "code",
   "execution_count": null,
   "id": "b02952d7",
   "metadata": {},
   "outputs": [],
   "source": [
    "import matplotlib \n",
    "from matplotlib import pyplot as plt \n",
    "from matplotlib.backends.backend_pdf import PdfPages \n",
    "\n",
    "# customizing runtime configuration stored \n",
    "# in matplotlib.rcParams \n",
    "plt.rcParams[\"figure.figsize\"] = [7.00, 3.50] \n",
    "plt.rcParams[\"figure.autolayout\"] = True\n",
    "\n",
    "fig1 = plt.figure() \n",
    "plt.plot([17, 45, 7, 8, 7], color='orange') \n",
    "\n",
    "fig2 = plt.figure() \n",
    "plt.plot([13, 25, 1, 6, 3], color='blue') \n",
    "\n",
    "Fig3 = plt.figure() \n",
    "plt.plot([22, 11, 2, 1, 23], color='green') \n",
    "\n",
    "\n",
    "def save_image(filename): \n",
    "\t\n",
    "\t# PdfPages is a wrapper around pdf \n",
    "\t# file so there is no clash and create \n",
    "\t# files with no error. \n",
    "\tp = PdfPages(filename) \n",
    "\t\n",
    "\t# get_fignums Return list of existing \n",
    "\t# figure numbers \n",
    "\tfig_nums = plt.get_fignums() \n",
    "\tfigs = [plt.figure(n) for n in fig_nums] \n",
    "\t\n",
    "\t# iterating over the numbers in list \n",
    "\tfor fig in figs: \n",
    "\t\t\n",
    "\t\t# and saving the files \n",
    "\t\tfig.savefig(p, format='pdf') \n",
    "\t\n",
    "\t# close the object \n",
    "\tp.close() \n",
    "\n",
    "# name your Pdf file \n",
    "filename = \"multi_plot_image.pdf\"\n",
    "\n",
    "# call the function \n",
    "save_image(filename) \n"
   ]
  },
  {
   "cell_type": "markdown",
   "id": "1c84d3bd",
   "metadata": {},
   "source": [
    "## Plot the cluster events at around 43.25&deg; N, 124.25&deg; W using the plotting functions "
   ]
  },
  {
   "cell_type": "code",
   "execution_count": null,
   "id": "6de7f122",
   "metadata": {},
   "outputs": [],
   "source": [
    "new_events_specific_lat_lon = unmatched_events_mycatalog2morton_and_anss.loc[(unmatched_events_mycatalog2morton_and_anss['latitude']>43.0)&(unmatched_events_mycatalog2morton_and_anss['latitude']<43.3)&(unmatched_events_mycatalog2morton_and_anss['longitude']<-124.25)&(unmatched_events_mycatalog2morton_and_anss['longitude']>-124.75)]\n",
    "new_events_specific_lat_lon"
   ]
  },
  {
   "cell_type": "code",
   "execution_count": null,
   "id": "6556db77",
   "metadata": {},
   "outputs": [],
   "source": [
    "new_events = new_events_specific_lat_lon.loc[new_events_specific_lat_lon['picks']>5]\n",
    "new_events"
   ]
  },
  {
   "cell_type": "markdown",
   "id": "e0fa50fe",
   "metadata": {},
   "source": [
    "### Plot HH?"
   ]
  },
  {
   "cell_type": "code",
   "execution_count": null,
   "id": "d16f802f",
   "metadata": {},
   "outputs": [],
   "source": [
    "# parameters\n",
    "mycatalog= mycatalog\n",
    "mycatalog_picks=mycatalog_picks\n",
    "networks= all_picks_networks\n",
    "channel= \"HH?\"\n",
    "idx_sta= 50\n",
    "title= \"Events matched\"\n",
    "fig_title= \"events_matched.png\"\n",
    "ylim= [0,300]\n",
    "xlim= [20,150]\n",
    "\n",
    "for idx in new_events['idx']:\n",
    "    subplots_cluster_scale_p(idx,mycatalog,mycatalog_picks,networks,channel,idx_sta,title,fig_title,ylim,xlim)"
   ]
  },
  {
   "cell_type": "markdown",
   "id": "5d0acaf0",
   "metadata": {},
   "source": [
    "### Plot BH?"
   ]
  },
  {
   "cell_type": "code",
   "execution_count": null,
   "id": "4baf7b1d",
   "metadata": {},
   "outputs": [],
   "source": [
    "# parameters\n",
    "mycatalog= mycatalog\n",
    "mycatalog_picks=mycatalog_picks\n",
    "networks= all_picks_networks\n",
    "channel= \"BH?\"\n",
    "idx_sta= 50\n",
    "title= \"Events matched\"\n",
    "fig_title= \"events_matched.png\"\n",
    "ylim= [0,300]\n",
    "xlim= [20,150]\n",
    "\n",
    "for idx in new_events['idx']:\n",
    "    subplots_cluster_scale_p(idx,mycatalog,mycatalog_picks,networks,channel,idx_sta,title,fig_title,ylim,xlim)"
   ]
  },
  {
   "cell_type": "markdown",
   "id": "863afcd8",
   "metadata": {},
   "source": [
    "## Calculate SNRs"
   ]
  },
  {
   "cell_type": "code",
   "execution_count": null,
   "id": "b8944e86",
   "metadata": {},
   "outputs": [],
   "source": [
    "all_picks = pd.read_csv('../data/datasets_2014/all_picks_2014.csv')\n",
    "all_pick_assignments = pd.read_csv('../data/datasets_2014/all_pick_assignments_2014.csv')"
   ]
  },
  {
   "cell_type": "code",
   "execution_count": null,
   "id": "d3ab9ea3",
   "metadata": {},
   "outputs": [],
   "source": [
    "def calc_snr(all_picks,all_pick_assignments):\n",
    "    \"\"\" \n",
    "    This function calculates the SNRs for each station in each event.\n",
    "    \n",
    "    Inputs:\n",
    "    1. The all_pick.csv file from the 2_format_pick2associate file.\n",
    "    2. The all_pick_assignments.csv file from the 3_association file.\n",
    "    \n",
    "    Oututs:\n",
    "    The new all_pick_assignments_snr file with the additional SNR column.\n",
    "    \"\"\"\n",
    "    \n",
    "    # Create the list of networks\n",
    "    all_picks_networks = all_picks['station_network_code'].drop_duplicates()\n",
    "    list_networks = list(all_picks_networks)\n",
    "    networks = ','.join(all_picks_networks)\n",
    "    \n",
    "    \n",
    "    \n",
    "    # Define the clients \n",
    "    client_waveform = WaveformClient()\n",
    "    client2 = Client(\"IRIS\")\n",
    "    client_ncedc = Client('NCEDC')\n",
    "    \n",
    "    all_pick_assignments['datetime'] = pd.to_datetime(all_pick_assignments['time'], utc = True)\n",
    "\n",
    "    \n",
    "    # Define parameters\n",
    "    percentile=98\n",
    "    \n",
    "    # Create empty lists\n",
    "    snr_list = []\n",
    "        \n",
    "    # Make sure if a station for an event has more than 1 P or S pick\n",
    "    for idx in all_pick_assignments['idx'].drop_duplicates():\n",
    "        # Define parameters\n",
    "        otime = UTCDateTime(str(all_pick_assignments[all_pick_assignments['idx'] == idx][\"datetime\"].values[0]))\n",
    "\n",
    "\n",
    "        # Create empty lists\n",
    "        networks_stas = []\n",
    "\n",
    "        # Plot the earthquake moveout for one of the unmatched events for all stations \n",
    "    #     event = mycatalog\n",
    "        pick_idx = all_pick_assignments.loc[all_pick_assignments['idx']==idx]\n",
    "        pick_sta = np.unique(pick_idx['station'])\n",
    "        \n",
    "    #     distances = []\n",
    "    #     max_dist = 10\n",
    "    #     min_dist = 0\n",
    "        for station in pick_sta:\n",
    "\n",
    "            sta_inv = client2.get_stations(network=networks,\n",
    "                                           station=station, channel=\"?H?\", \n",
    "                                           starttime=otime - 1e8, endtime=otime + 1e8,level=\"response\")\n",
    "            if len(sta_inv) == 0:\n",
    "                print(f'No inventory for station {station}. Skipping.')\n",
    "                continue\n",
    "\n",
    "            network = sta_inv[0].code\n",
    "    #         slat = sta_inv[0][0].latitude\n",
    "    #         slon = sta_inv[0][0].longitude\n",
    "    #         olat = event.loc[event['idx']==idx, 'latitude'].values[0]\n",
    "    #         olon = event.loc[event['idx']==idx, 'longitude'].values[0]\n",
    "\n",
    "    #         dis1 = locations2degrees(olat, olon, slat, slon)\n",
    "    #         dist = degrees2kilometers(dis1)\n",
    "    # #         if max_dist < dist:\n",
    "    # #             max_dist = dist\n",
    "\n",
    "    # #         if min_dist > dist:\n",
    "    # #             min_dist = dist\n",
    "\n",
    "            networks_stas.append([network,station])\n",
    "        \n",
    "   \n",
    "        events = all_pick_assignments[all_pick_assignments['idx']==idx]\n",
    "        for i in networks_stas:\n",
    "            events1 = events[events['station']==i[1]]\n",
    "            p_picks = events1[events1['phase']=='P']\n",
    "            s_picks = events1[events1['phase']=='S']\n",
    "            \n",
    "\n",
    "            if len(p_picks)>0 and len(s_picks)>0:\n",
    "                print(p_picks['datetime'].values,s_picks['datetime'].values)\n",
    "                p_pick_time = UTCDateTime(str(p_picks['datetime'].values[0]))\n",
    "                s_pick_time = UTCDateTime(str(s_picks['datetime'].values[0]))\n",
    "                \n",
    "                starttime_st = UTCDateTime(p_pick_time)-timedelta(seconds=120)\n",
    "                endtime_st = UTCDateTime(p_pick_time)+timedelta(seconds=120)\n",
    "                \n",
    "                starttime_noise = UTCDateTime(p_pick_time)-timedelta(seconds=8)\n",
    "                endtime_noise = UTCDateTime(p_pick_time)\n",
    "                \n",
    "                starttime_signal = UTCDateTime(s_pick_time)-timedelta(seconds=1)\n",
    "                endtime_signal = UTCDateTime(s_pick_time)+timedelta(seconds=2)\n",
    "                \n",
    "                print(starttime_noise,endtime_noise)\n",
    "            \n",
    "                if i[0] in ['NC', 'BK']:\n",
    "                # Query waveforms\n",
    "                    st = client_ncedc.get_waveforms(network=i[0], station=i[1],\n",
    "                                                    location=\"*\", channel=\"?HZ\",starttime=starttime_st,\n",
    "                                                    endtime=endtime_st)\n",
    "\n",
    "                elif i[0] in networks: \n",
    "                    st = client_waveform.get_waveforms(network=i[0], station=i[1],\n",
    "                                                       channel='?HZ',starttime=starttime_st, endtime=endtime_st)\n",
    "\n",
    "                else: \n",
    "                    st =  Stream()\n",
    "                    print(f\"WARNING: No data for {ii[1]}.{ii[2]}.{channel} on {otime}.\")    \n",
    "                    continue\n",
    "\n",
    "        #         print(f\"len(st):{len(st)}\")\n",
    "        #         print(st)\n",
    "\n",
    "                # Skip empty traces\n",
    "                if len(st) == 0:\n",
    "                    continue\n",
    "                    \n",
    "                print(f'First st print:{st}')\n",
    "                # Create a new stream\n",
    "                _st = Stream()\n",
    "                # Check for HH and BH channels presence\n",
    "                has_HH = bool(st.select(channel=\"HH?\"))\n",
    "                has_BH = bool(st.select(channel=\"BH?\"))\n",
    "\n",
    "                # Apply selection logic based on channel presence\n",
    "                if has_HH and has_BH:\n",
    "                    # If both HH and BH channels are present, select only HH\n",
    "                    _st += st.select(channel=\"HH?\")\n",
    "                elif has_HH:\n",
    "                    # If only HH channels are present\n",
    "                    _st += st.select(channel=\"HH?\")\n",
    "                elif has_BH:\n",
    "                    # If only BH channels are present\n",
    "                    _st += st.select(channel=\"BH?\")\n",
    "\n",
    "                _st.merge(fill_value='interpolate') # fill gaps if there are any.\n",
    "\n",
    "                print(f'Second st print:{_st}')\n",
    "            \n",
    "                noise = _st.copy().trim(starttime=starttime_noise,endtime=endtime_noise)    \n",
    "                signal = _st.copy().trim(starttime=starttime_signal,endtime=endtime_signal) \n",
    "                \n",
    "                print(f\"P and S pick times:{p_pick_time} and {s_pick_time}\")\n",
    "                print(f\"Stream start and end times:{starttime_st} and {endtime_st}\")\n",
    "                print(f\"Noise start and end times:{starttime_noise} and {endtime_noise}\")\n",
    "                print(f\"Signal start and end times:{starttime_signal} and {endtime_signal}\")\n",
    "                \n",
    "                print(f'Noise:{noise}')\n",
    "                print(f'Signal:{signal}')\n",
    "\n",
    "                noise_abs = np.percentile(abs(noise[0].data),percentile)\n",
    "                signal_abs = np.percentile(abs(signal[0].data),percentile)\n",
    "\n",
    "                snr = 20 * np.log10((signal_abs/noise_abs))\n",
    "\n",
    "                snr_list.append(snr)\n",
    "                \n",
    "            if len(p_picks)>0 and len(s_picks)==0:\n",
    "                \n",
    "                print(p_picks['datetime'].values,s_picks['datetime'].values)\n",
    "                p_pick_time = UTCDateTime(str(p_picks['datetime'].values[0]))\n",
    "#                 s_pick_time = UTCDateTime(str(s_picks['datetime'].values[0]))\n",
    "\n",
    "                starttime_st = UTCDateTime(p_pick_time)-timedelta(seconds=120)\n",
    "                endtime_st = UTCDateTime(p_pick_time)+timedelta(seconds=120)\n",
    "                \n",
    "                starttime_noise = UTCDateTime(p_pick_time)-timedelta(seconds=8)\n",
    "                endtime_noise = UTCDateTime(p_pick_time)\n",
    "                \n",
    "                starttime_signal = UTCDateTime(p_pick_time)+timedelta(seconds=1)\n",
    "                endtime_signal = UTCDateTime(p_pick_time)+timedelta(seconds=4)\n",
    "                \n",
    "            \n",
    "                if i[0] in ['NC', 'BK']:\n",
    "                # Query waveforms\n",
    "                    st = client_ncedc.get_waveforms(network=i[0], station=i[1],\n",
    "                                                    location=\"*\", channel=\"?HZ\",starttime=starttime_st, \n",
    "                                                    endtime=endtime_st)\n",
    "\n",
    "                elif i[0] in networks: \n",
    "                    st = client_waveform.get_waveforms(network=i[0], station=i[1],\n",
    "                                                       channel='?HZ',starttime=starttime_st, endtime=endtime_st)\n",
    "\n",
    "                else: \n",
    "                    st =  Stream()\n",
    "                    print(f\"WARNING: No data for {ii[1]}.{ii[2]}.{channel} on {otime}.\")    \n",
    "                    continue\n",
    "\n",
    "        #         print(f\"len(st):{len(st)}\")\n",
    "        #         print(st)\n",
    "\n",
    "                # Skip empty traces\n",
    "                if len(st) == 0:\n",
    "                    continue\n",
    "                print(f'First st print:{st}')\n",
    "                # Create a new stream\n",
    "                _st = Stream()\n",
    "                # Check for HH and BH channels presence\n",
    "                has_HH = bool(st.select(channel=\"HH?\"))\n",
    "                has_BH = bool(st.select(channel=\"BH?\"))\n",
    "\n",
    "                # Apply selection logic based on channel presence\n",
    "                if has_HH and has_BH:\n",
    "                    # If both HH and BH channels are present, select only HH\n",
    "                    _st += st.select(channel=\"HH?\")\n",
    "                elif has_HH:\n",
    "                    # If only HH channels are present\n",
    "                    _st += st.select(channel=\"HH?\")\n",
    "                elif has_BH:\n",
    "                    # If only BH channels are present\n",
    "                    _st += st.select(channel=\"BH?\")\n",
    "\n",
    "                _st.merge(fill_value='interpolate') # fill gaps if there are any.\n",
    "\n",
    "                print(f'Second st print:{_st}')\n",
    "                \n",
    "                \n",
    "                    \n",
    "\n",
    "                noise = _st.copy().trim(starttime=starttime_noise,endtime=endtime_noise)    \n",
    "                signal = _st.copy().trim(starttime=starttime_signal,endtime=endtime_signal) \n",
    "                \n",
    "                print(f\"P pick time:{p_pick_time}\")\n",
    "                print(f\"Stream start and end times:{starttime_st} and {endtime_st}\")\n",
    "                print(f\"Noise start and end times:{starttime_noise} and {endtime_noise}\")\n",
    "                print(f\"Signal start and end times:{starttime_signal} and {endtime_signal}\")\n",
    "\n",
    "                print(f'Noise:{noise}')\n",
    "                print(f'Signal:{signal}')\n",
    "\n",
    "                noise_abs = np.percentile(abs(noise[0].data),percentile)\n",
    "                signal_abs = np.percentile(abs(signal[0].data),percentile)\n",
    "\n",
    "                snr = 20 * np.log10((signal_abs/noise_abs))\n",
    "\n",
    "                snr_list.append(snr)\n",
    "                    \n",
    "            if len(p_picks)==0 and len(s_picks)>0:\n",
    "                print(p_picks['datetime'].values,s_picks['datetime'].values)\n",
    "#                 p_pick_time = UTCDateTime(str(p_picks['datetime'].values))\n",
    "                s_pick_time = UTCDateTime(str(s_picks['datetime'].values[0]))\n",
    "    \n",
    "                starttime_st = UTCDateTime(s_pick_time)-timedelta(seconds=120)\n",
    "                endtime_st = UTCDateTime(s_pick_time)+timedelta(seconds=120)\n",
    "                \n",
    "                starttime_noise = UTCDateTime(s_pick_time)-timedelta(seconds=8)\n",
    "                endtime_noise = UTCDateTime(s_pick_time)\n",
    "                \n",
    "                starttime_signal = UTCDateTime(s_pick_time)\n",
    "                endtime_signal = UTCDateTime(s_pick_time)+timedelta(seconds=3)\n",
    "                \n",
    "                print(starttime_noise,endtime_noise)\n",
    "            \n",
    "                if i[0] in ['NC', 'BK']:\n",
    "                # Query waveforms\n",
    "                    st = client_ncedc.get_waveforms(network=i[0], station=i[1],\n",
    "                                                    location=\"*\", channel=\"?HZ\",starttime=starttime_st, \n",
    "                                                    endtime=endtime_st)\n",
    "\n",
    "                elif i[0] in networks: \n",
    "                    st = client_waveform.get_waveforms(network=i[0], station=i[1],\n",
    "                                                       channel='?HZ',starttime=starttime_st, endtime=endtime_st)\n",
    "\n",
    "                else: \n",
    "                    st =  Stream()\n",
    "                    print(f\"WARNING: No data for {ii[1]}.{ii[2]}.{channel} on {otime}.\")    \n",
    "                    continue\n",
    "\n",
    "        #         print(f\"len(st):{len(st)}\")\n",
    "        #         print(st)\n",
    "\n",
    "                # Skip empty traces\n",
    "                if len(st) == 0:\n",
    "                    continue\n",
    "                    \n",
    "                print(f'First st print:{st}')\n",
    "                # Create a new stream\n",
    "                _st = Stream()\n",
    "                # Check for HH and BH channels presence\n",
    "                has_HH = bool(st.select(channel=\"HH?\"))\n",
    "                has_BH = bool(st.select(channel=\"BH?\"))\n",
    "\n",
    "                # Apply selection logic based on channel presence\n",
    "                if has_HH and has_BH:\n",
    "                    # If both HH and BH channels are present, select only HH\n",
    "                    _st += st.select(channel=\"HH?\")\n",
    "                elif has_HH:\n",
    "                    # If only HH channels are present\n",
    "                    _st += st.select(channel=\"HH?\")\n",
    "                elif has_BH:\n",
    "                    # If only BH channels are present\n",
    "                    _st += st.select(channel=\"BH?\")\n",
    "\n",
    "                _st.merge(fill_value='interpolate') # fill gaps if there are any.\n",
    "\n",
    "                print(f'Second st print:{_st}')\n",
    "\n",
    "            \n",
    "                noise = _st.copy().trim(starttime=starttime_noise,endtime=endtime_noise)    \n",
    "                signal = _st.copy().trim(starttime=starttime_signal,endtime=endtime_signal) \n",
    "                \n",
    "                print(f\"S pick time:{s_pick_time}\")\n",
    "                print(f\"Stream start and end times:{starttime_st} and {endtime_st}\")\n",
    "                print(f\"Noise start and end times:{starttime_noise} and {endtime_noise}\")\n",
    "                print(f\"Signal start and end times:{starttime_signal} and {endtime_signal}\")\n",
    "                \n",
    "                print(f'Noise:{noise}')\n",
    "                print(f'Signal:{signal}')\n",
    "\n",
    "                noise_abs = np.percentile(abs(noise[0].data),percentile)\n",
    "                signal_abs = np.percentile(abs(signal[0].data),percentile)\n",
    "\n",
    "                snr = 20 * np.log10((signal_abs/noise_abs))\n",
    "\n",
    "                snr_list.append(snr)\n",
    "            \n",
    "    all_assignments_picks['snr']=snr_list\n",
    "     \n",
    "    return snr_list"
   ]
  },
  {
   "cell_type": "code",
   "execution_count": null,
   "id": "52736088",
   "metadata": {},
   "outputs": [],
   "source": [
    "snr_list = calc_snr(all_picks,all_pick_assignments)"
   ]
  },
  {
   "cell_type": "code",
   "execution_count": null,
   "id": "48ed9de0",
   "metadata": {},
   "outputs": [],
   "source": [
    "snr_list"
   ]
  },
  {
   "cell_type": "code",
   "execution_count": null,
   "id": "566c5668",
   "metadata": {},
   "outputs": [],
   "source": [
    "client_waveform = WaveformClient()\n",
    "\n",
    "p_pick_time = '2014-01-02T07:40:02.642533Z'\n",
    "\n",
    "starttime_st = UTCDateTime(p_pick_time)-timedelta(seconds=120)\n",
    "endtime_st = UTCDateTime(p_pick_time)+timedelta(seconds=120)\n",
    "\n",
    "# starttime_st = UTCDateTime('2011-01-03T00:00:0.000000Z')\n",
    "# endtime_st = UTCDateTime('2011-01-03T12:59:59.000000Z')\n",
    "\n",
    "print(f'Requested start and end times:{starttime_st} and {endtime_st}')\n",
    "\n",
    "\n",
    "st = client_waveform.get_waveforms(network='CN', station='BTB',\n",
    "                                       channel='HHZ',starttime=starttime_st, endtime=endtime_st)\n",
    "print(f'Actual start and end times: {st[0].stats.starttime} and {st[0].stats.endtime}')\n"
   ]
  },
  {
   "cell_type": "code",
   "execution_count": null,
   "id": "236a901a",
   "metadata": {},
   "outputs": [],
   "source": []
  }
 ],
 "metadata": {
  "kernelspec": {
   "display_name": "seismo (SHARED)",
   "language": "python",
   "name": "seismo"
  },
  "language_info": {
   "codemirror_mode": {
    "name": "ipython",
    "version": 3
   },
   "file_extension": ".py",
   "mimetype": "text/x-python",
   "name": "python",
   "nbconvert_exporter": "python",
   "pygments_lexer": "ipython3",
   "version": "3.9.18"
  }
 },
 "nbformat": 4,
 "nbformat_minor": 5
}
