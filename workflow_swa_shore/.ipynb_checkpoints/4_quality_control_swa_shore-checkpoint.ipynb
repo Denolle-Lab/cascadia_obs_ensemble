{
 "cells": [
  {
   "cell_type": "code",
   "execution_count": null,
   "id": "a9659be3",
   "metadata": {},
   "outputs": [],
   "source": [
    "# pip install basemap\n"
   ]
  },
  {
   "cell_type": "code",
   "execution_count": 10,
   "id": "c92e5226",
   "metadata": {},
   "outputs": [],
   "source": [
    "import os\n",
    "import sys\n",
    "import pandas as pd\n",
    "import numpy as np\n",
    "import obspy\n",
    "from tqdm import tqdm\n",
    "\n",
    "from obspy.clients.fdsn import Client\n",
    "from obspy.clients.fdsn import Client as FDSNClient\n",
    "\n",
    "from mpl_toolkits.basemap import Basemap\n",
    "\n",
    "\n",
    "from pnwstore.mseed import WaveformClient\n",
    "from datetime import datetime\n",
    "from matplotlib import pyplot as plt\n",
    "from matplotlib.backends.backend_pdf import PdfPages\n",
    "\n",
    "from obspy import UTCDateTime\n",
    "\n",
    "from tqdm import tqdm\n",
    "from obspy.geodetics import locations2degrees, degrees2kilometers\n",
    "\n",
    "notebook_dir = os.getcwd()\n",
    "parent_dir = os.path.abspath(os.path.join(notebook_dir, '../'))\n",
    "if parent_dir not in sys.path:\n",
    "    sys.path.append(parent_dir)\n",
    "    \n",
    "from plot_utils import *\n",
    "from qc_utils import * "
   ]
  },
  {
   "cell_type": "markdown",
   "id": "ce408df1",
   "metadata": {},
   "source": [
    "## Morton Catalog"
   ]
  },
  {
   "cell_type": "code",
   "execution_count": 11,
   "id": "6bd019d5",
   "metadata": {},
   "outputs": [
    {
     "data": {
      "text/html": [
       "<div>\n",
       "<style scoped>\n",
       "    .dataframe tbody tr th:only-of-type {\n",
       "        vertical-align: middle;\n",
       "    }\n",
       "\n",
       "    .dataframe tbody tr th {\n",
       "        vertical-align: top;\n",
       "    }\n",
       "\n",
       "    .dataframe thead th {\n",
       "        text-align: right;\n",
       "    }\n",
       "</style>\n",
       "<table border=\"1\" class=\"dataframe\">\n",
       "  <thead>\n",
       "    <tr style=\"text-align: right;\">\n",
       "      <th></th>\n",
       "      <th>CI YEAR</th>\n",
       "      <th>TSTRING</th>\n",
       "      <th>YEAR</th>\n",
       "      <th>MONTH</th>\n",
       "      <th>DAY</th>\n",
       "      <th>HOUR</th>\n",
       "      <th>MINUTE</th>\n",
       "      <th>SECOND</th>\n",
       "      <th>LAT</th>\n",
       "      <th>LON</th>\n",
       "      <th>...</th>\n",
       "      <th>dist to nearest stn</th>\n",
       "      <th>tt RMS</th>\n",
       "      <th>ERH</th>\n",
       "      <th>ERZ</th>\n",
       "      <th>STRIKE</th>\n",
       "      <th>DIP</th>\n",
       "      <th>RAKE</th>\n",
       "      <th>PLATE DESIGNATION</th>\n",
       "      <th>TEMPLATE EVENT?</th>\n",
       "      <th>datetime</th>\n",
       "    </tr>\n",
       "  </thead>\n",
       "  <tbody>\n",
       "    <tr>\n",
       "      <th>0</th>\n",
       "      <td>1.0</td>\n",
       "      <td>2.011073e+13</td>\n",
       "      <td>2011.0</td>\n",
       "      <td>7.0</td>\n",
       "      <td>26.0</td>\n",
       "      <td>1.0</td>\n",
       "      <td>2.0</td>\n",
       "      <td>7.37</td>\n",
       "      <td>47.3217</td>\n",
       "      <td>-123.2708</td>\n",
       "      <td>...</td>\n",
       "      <td>27.4</td>\n",
       "      <td>0.19</td>\n",
       "      <td>0.8</td>\n",
       "      <td>1.2</td>\n",
       "      <td>NaN</td>\n",
       "      <td>NaN</td>\n",
       "      <td>NaN</td>\n",
       "      <td>Interface</td>\n",
       "      <td>Catalog</td>\n",
       "      <td>2011-07-26 01:02:07+00:00</td>\n",
       "    </tr>\n",
       "    <tr>\n",
       "      <th>1</th>\n",
       "      <td>1.0</td>\n",
       "      <td>2.011073e+13</td>\n",
       "      <td>2011.0</td>\n",
       "      <td>7.0</td>\n",
       "      <td>26.0</td>\n",
       "      <td>1.0</td>\n",
       "      <td>2.0</td>\n",
       "      <td>7.72</td>\n",
       "      <td>44.2888</td>\n",
       "      <td>-124.3340</td>\n",
       "      <td>...</td>\n",
       "      <td>163.8</td>\n",
       "      <td>0.06</td>\n",
       "      <td>13.1</td>\n",
       "      <td>3.2</td>\n",
       "      <td>NaN</td>\n",
       "      <td>NaN</td>\n",
       "      <td>NaN</td>\n",
       "      <td>Upper Plate</td>\n",
       "      <td>NaN</td>\n",
       "      <td>2011-07-26 01:02:07+00:00</td>\n",
       "    </tr>\n",
       "    <tr>\n",
       "      <th>2</th>\n",
       "      <td>1.0</td>\n",
       "      <td>2.011073e+13</td>\n",
       "      <td>2011.0</td>\n",
       "      <td>7.0</td>\n",
       "      <td>26.0</td>\n",
       "      <td>1.0</td>\n",
       "      <td>2.0</td>\n",
       "      <td>8.56</td>\n",
       "      <td>44.3017</td>\n",
       "      <td>-124.3180</td>\n",
       "      <td>...</td>\n",
       "      <td>131.1</td>\n",
       "      <td>0.50</td>\n",
       "      <td>35.4</td>\n",
       "      <td>22.2</td>\n",
       "      <td>NaN</td>\n",
       "      <td>NaN</td>\n",
       "      <td>NaN</td>\n",
       "      <td>Upper Plate</td>\n",
       "      <td>NaN</td>\n",
       "      <td>2011-07-26 01:02:08+00:00</td>\n",
       "    </tr>\n",
       "    <tr>\n",
       "      <th>3</th>\n",
       "      <td>1.0</td>\n",
       "      <td>2.011073e+13</td>\n",
       "      <td>2011.0</td>\n",
       "      <td>7.0</td>\n",
       "      <td>26.0</td>\n",
       "      <td>7.0</td>\n",
       "      <td>31.0</td>\n",
       "      <td>2.17</td>\n",
       "      <td>48.2635</td>\n",
       "      <td>-124.9298</td>\n",
       "      <td>...</td>\n",
       "      <td>44.4</td>\n",
       "      <td>0.77</td>\n",
       "      <td>3.5</td>\n",
       "      <td>6.4</td>\n",
       "      <td>NaN</td>\n",
       "      <td>NaN</td>\n",
       "      <td>NaN</td>\n",
       "      <td>Upper Plate</td>\n",
       "      <td>NaN</td>\n",
       "      <td>2011-07-26 07:31:02+00:00</td>\n",
       "    </tr>\n",
       "    <tr>\n",
       "      <th>4</th>\n",
       "      <td>1.0</td>\n",
       "      <td>2.011073e+13</td>\n",
       "      <td>2011.0</td>\n",
       "      <td>7.0</td>\n",
       "      <td>26.0</td>\n",
       "      <td>9.0</td>\n",
       "      <td>50.0</td>\n",
       "      <td>27.63</td>\n",
       "      <td>48.3032</td>\n",
       "      <td>-124.9157</td>\n",
       "      <td>...</td>\n",
       "      <td>46.1</td>\n",
       "      <td>0.94</td>\n",
       "      <td>4.0</td>\n",
       "      <td>6.9</td>\n",
       "      <td>NaN</td>\n",
       "      <td>NaN</td>\n",
       "      <td>NaN</td>\n",
       "      <td>Upper Plate</td>\n",
       "      <td>T</td>\n",
       "      <td>2011-07-26 09:50:27+00:00</td>\n",
       "    </tr>\n",
       "  </tbody>\n",
       "</table>\n",
       "<p>5 rows × 24 columns</p>\n",
       "</div>"
      ],
      "text/plain": [
       "   CI YEAR       TSTRING    YEAR  MONTH   DAY  HOUR  MINUTE  SECOND      LAT  \\\n",
       "0      1.0  2.011073e+13  2011.0    7.0  26.0   1.0     2.0    7.37  47.3217   \n",
       "1      1.0  2.011073e+13  2011.0    7.0  26.0   1.0     2.0    7.72  44.2888   \n",
       "2      1.0  2.011073e+13  2011.0    7.0  26.0   1.0     2.0    8.56  44.3017   \n",
       "3      1.0  2.011073e+13  2011.0    7.0  26.0   7.0    31.0    2.17  48.2635   \n",
       "4      1.0  2.011073e+13  2011.0    7.0  26.0   9.0    50.0   27.63  48.3032   \n",
       "\n",
       "        LON  ...  dist to nearest stn  tt RMS   ERH   ERZ  STRIKE  DIP  RAKE  \\\n",
       "0 -123.2708  ...                 27.4    0.19   0.8   1.2     NaN  NaN   NaN   \n",
       "1 -124.3340  ...                163.8    0.06  13.1   3.2     NaN  NaN   NaN   \n",
       "2 -124.3180  ...                131.1    0.50  35.4  22.2     NaN  NaN   NaN   \n",
       "3 -124.9298  ...                 44.4    0.77   3.5   6.4     NaN  NaN   NaN   \n",
       "4 -124.9157  ...                 46.1    0.94   4.0   6.9     NaN  NaN   NaN   \n",
       "\n",
       "   PLATE DESIGNATION  TEMPLATE EVENT?                  datetime  \n",
       "0          Interface          Catalog 2011-07-26 01:02:07+00:00  \n",
       "1        Upper Plate              NaN 2011-07-26 01:02:07+00:00  \n",
       "2        Upper Plate              NaN 2011-07-26 01:02:08+00:00  \n",
       "3        Upper Plate              NaN 2011-07-26 07:31:02+00:00  \n",
       "4        Upper Plate                T 2011-07-26 09:50:27+00:00  \n",
       "\n",
       "[5 rows x 24 columns]"
      ]
     },
     "execution_count": 11,
     "metadata": {},
     "output_type": "execute_result"
    }
   ],
   "source": [
    "# Read Morton's catalog\n",
    "events_morton = pd.read_csv('../data/ds01.csv')\n",
    "# Convert the TSTRING to datetime\n",
    "events_morton['datetime'] = pd.to_datetime(events_morton['TSTRING'], format='%Y%m%d%H%M%S', utc=True)\n",
    "# Get the events in the Morton catalog \n",
    "t1 = pd.Timestamp('2011-1-1 00:00:00.000000+0000', tz='UTC')\n",
    "t2 = pd.Timestamp('2015-12-31 23:59:59.999999+0000', tz='UTC')\n",
    "\n",
    "events_morton= events_morton.loc[(events_morton['datetime'] > t1) & (events_morton['datetime'] < t2) ]\n",
    "\n",
    "events_morton.head()"
   ]
  },
  {
   "cell_type": "code",
   "execution_count": 12,
   "id": "c3e58514",
   "metadata": {},
   "outputs": [
    {
     "data": {
      "text/html": [
       "<div>\n",
       "<style scoped>\n",
       "    .dataframe tbody tr th:only-of-type {\n",
       "        vertical-align: middle;\n",
       "    }\n",
       "\n",
       "    .dataframe tbody tr th {\n",
       "        vertical-align: top;\n",
       "    }\n",
       "\n",
       "    .dataframe thead th {\n",
       "        text-align: right;\n",
       "    }\n",
       "</style>\n",
       "<table border=\"1\" class=\"dataframe\">\n",
       "  <thead>\n",
       "    <tr style=\"text-align: right;\">\n",
       "      <th></th>\n",
       "      <th>CI YEAR</th>\n",
       "      <th>TSTRING</th>\n",
       "      <th>YEAR</th>\n",
       "      <th>MONTH</th>\n",
       "      <th>DAY</th>\n",
       "      <th>HOUR</th>\n",
       "      <th>MINUTE</th>\n",
       "      <th>SECOND</th>\n",
       "      <th>LAT</th>\n",
       "      <th>LON</th>\n",
       "      <th>...</th>\n",
       "      <th>dist to nearest stn</th>\n",
       "      <th>tt RMS</th>\n",
       "      <th>ERH</th>\n",
       "      <th>ERZ</th>\n",
       "      <th>STRIKE</th>\n",
       "      <th>DIP</th>\n",
       "      <th>RAKE</th>\n",
       "      <th>PLATE DESIGNATION</th>\n",
       "      <th>TEMPLATE EVENT?</th>\n",
       "      <th>datetime</th>\n",
       "    </tr>\n",
       "  </thead>\n",
       "  <tbody>\n",
       "    <tr>\n",
       "      <th>0</th>\n",
       "      <td>1.0</td>\n",
       "      <td>2.011073e+13</td>\n",
       "      <td>2011.0</td>\n",
       "      <td>7.0</td>\n",
       "      <td>26.0</td>\n",
       "      <td>1.0</td>\n",
       "      <td>2.0</td>\n",
       "      <td>7.37</td>\n",
       "      <td>47.3217</td>\n",
       "      <td>-123.2708</td>\n",
       "      <td>...</td>\n",
       "      <td>27.4</td>\n",
       "      <td>0.19</td>\n",
       "      <td>0.8</td>\n",
       "      <td>1.2</td>\n",
       "      <td>NaN</td>\n",
       "      <td>NaN</td>\n",
       "      <td>NaN</td>\n",
       "      <td>Interface</td>\n",
       "      <td>Catalog</td>\n",
       "      <td>2011-07-26 01:02:07+00:00</td>\n",
       "    </tr>\n",
       "    <tr>\n",
       "      <th>1</th>\n",
       "      <td>1.0</td>\n",
       "      <td>2.011073e+13</td>\n",
       "      <td>2011.0</td>\n",
       "      <td>7.0</td>\n",
       "      <td>26.0</td>\n",
       "      <td>1.0</td>\n",
       "      <td>2.0</td>\n",
       "      <td>7.72</td>\n",
       "      <td>44.2888</td>\n",
       "      <td>-124.3340</td>\n",
       "      <td>...</td>\n",
       "      <td>163.8</td>\n",
       "      <td>0.06</td>\n",
       "      <td>13.1</td>\n",
       "      <td>3.2</td>\n",
       "      <td>NaN</td>\n",
       "      <td>NaN</td>\n",
       "      <td>NaN</td>\n",
       "      <td>Upper Plate</td>\n",
       "      <td>NaN</td>\n",
       "      <td>2011-07-26 01:02:07+00:00</td>\n",
       "    </tr>\n",
       "    <tr>\n",
       "      <th>2</th>\n",
       "      <td>1.0</td>\n",
       "      <td>2.011073e+13</td>\n",
       "      <td>2011.0</td>\n",
       "      <td>7.0</td>\n",
       "      <td>26.0</td>\n",
       "      <td>1.0</td>\n",
       "      <td>2.0</td>\n",
       "      <td>8.56</td>\n",
       "      <td>44.3017</td>\n",
       "      <td>-124.3180</td>\n",
       "      <td>...</td>\n",
       "      <td>131.1</td>\n",
       "      <td>0.50</td>\n",
       "      <td>35.4</td>\n",
       "      <td>22.2</td>\n",
       "      <td>NaN</td>\n",
       "      <td>NaN</td>\n",
       "      <td>NaN</td>\n",
       "      <td>Upper Plate</td>\n",
       "      <td>NaN</td>\n",
       "      <td>2011-07-26 01:02:08+00:00</td>\n",
       "    </tr>\n",
       "    <tr>\n",
       "      <th>3</th>\n",
       "      <td>1.0</td>\n",
       "      <td>2.011073e+13</td>\n",
       "      <td>2011.0</td>\n",
       "      <td>7.0</td>\n",
       "      <td>26.0</td>\n",
       "      <td>7.0</td>\n",
       "      <td>31.0</td>\n",
       "      <td>2.17</td>\n",
       "      <td>48.2635</td>\n",
       "      <td>-124.9298</td>\n",
       "      <td>...</td>\n",
       "      <td>44.4</td>\n",
       "      <td>0.77</td>\n",
       "      <td>3.5</td>\n",
       "      <td>6.4</td>\n",
       "      <td>NaN</td>\n",
       "      <td>NaN</td>\n",
       "      <td>NaN</td>\n",
       "      <td>Upper Plate</td>\n",
       "      <td>NaN</td>\n",
       "      <td>2011-07-26 07:31:02+00:00</td>\n",
       "    </tr>\n",
       "    <tr>\n",
       "      <th>4</th>\n",
       "      <td>1.0</td>\n",
       "      <td>2.011073e+13</td>\n",
       "      <td>2011.0</td>\n",
       "      <td>7.0</td>\n",
       "      <td>26.0</td>\n",
       "      <td>9.0</td>\n",
       "      <td>50.0</td>\n",
       "      <td>27.63</td>\n",
       "      <td>48.3032</td>\n",
       "      <td>-124.9157</td>\n",
       "      <td>...</td>\n",
       "      <td>46.1</td>\n",
       "      <td>0.94</td>\n",
       "      <td>4.0</td>\n",
       "      <td>6.9</td>\n",
       "      <td>NaN</td>\n",
       "      <td>NaN</td>\n",
       "      <td>NaN</td>\n",
       "      <td>Upper Plate</td>\n",
       "      <td>T</td>\n",
       "      <td>2011-07-26 09:50:27+00:00</td>\n",
       "    </tr>\n",
       "    <tr>\n",
       "      <th>...</th>\n",
       "      <td>...</td>\n",
       "      <td>...</td>\n",
       "      <td>...</td>\n",
       "      <td>...</td>\n",
       "      <td>...</td>\n",
       "      <td>...</td>\n",
       "      <td>...</td>\n",
       "      <td>...</td>\n",
       "      <td>...</td>\n",
       "      <td>...</td>\n",
       "      <td>...</td>\n",
       "      <td>...</td>\n",
       "      <td>...</td>\n",
       "      <td>...</td>\n",
       "      <td>...</td>\n",
       "      <td>...</td>\n",
       "      <td>...</td>\n",
       "      <td>...</td>\n",
       "      <td>...</td>\n",
       "      <td>...</td>\n",
       "      <td>...</td>\n",
       "    </tr>\n",
       "    <tr>\n",
       "      <th>5277</th>\n",
       "      <td>4.0</td>\n",
       "      <td>2.015101e+13</td>\n",
       "      <td>2015.0</td>\n",
       "      <td>10.0</td>\n",
       "      <td>7.0</td>\n",
       "      <td>8.0</td>\n",
       "      <td>1.0</td>\n",
       "      <td>50.83</td>\n",
       "      <td>40.5895</td>\n",
       "      <td>-124.0455</td>\n",
       "      <td>...</td>\n",
       "      <td>5.4</td>\n",
       "      <td>0.14</td>\n",
       "      <td>0.9</td>\n",
       "      <td>0.8</td>\n",
       "      <td>NaN</td>\n",
       "      <td>NaN</td>\n",
       "      <td>NaN</td>\n",
       "      <td>Slab</td>\n",
       "      <td>NaN</td>\n",
       "      <td>2015-10-07 08:01:50+00:00</td>\n",
       "    </tr>\n",
       "    <tr>\n",
       "      <th>5278</th>\n",
       "      <td>4.0</td>\n",
       "      <td>2.015101e+13</td>\n",
       "      <td>2015.0</td>\n",
       "      <td>10.0</td>\n",
       "      <td>7.0</td>\n",
       "      <td>8.0</td>\n",
       "      <td>7.0</td>\n",
       "      <td>8.40</td>\n",
       "      <td>40.5380</td>\n",
       "      <td>-123.7217</td>\n",
       "      <td>...</td>\n",
       "      <td>14.9</td>\n",
       "      <td>0.09</td>\n",
       "      <td>3.3</td>\n",
       "      <td>13.5</td>\n",
       "      <td>NaN</td>\n",
       "      <td>NaN</td>\n",
       "      <td>NaN</td>\n",
       "      <td>Upper Plate</td>\n",
       "      <td>NaN</td>\n",
       "      <td>2015-10-07 08:07:08+00:00</td>\n",
       "    </tr>\n",
       "    <tr>\n",
       "      <th>5279</th>\n",
       "      <td>4.0</td>\n",
       "      <td>2.015101e+13</td>\n",
       "      <td>2015.0</td>\n",
       "      <td>10.0</td>\n",
       "      <td>7.0</td>\n",
       "      <td>11.0</td>\n",
       "      <td>31.0</td>\n",
       "      <td>26.69</td>\n",
       "      <td>40.5822</td>\n",
       "      <td>-124.0432</td>\n",
       "      <td>...</td>\n",
       "      <td>5.6</td>\n",
       "      <td>0.05</td>\n",
       "      <td>1.7</td>\n",
       "      <td>0.8</td>\n",
       "      <td>NaN</td>\n",
       "      <td>NaN</td>\n",
       "      <td>NaN</td>\n",
       "      <td>Slab</td>\n",
       "      <td>NaN</td>\n",
       "      <td>2015-10-07 11:31:26+00:00</td>\n",
       "    </tr>\n",
       "    <tr>\n",
       "      <th>5280</th>\n",
       "      <td>4.0</td>\n",
       "      <td>2.015101e+13</td>\n",
       "      <td>2015.0</td>\n",
       "      <td>10.0</td>\n",
       "      <td>7.0</td>\n",
       "      <td>18.0</td>\n",
       "      <td>11.0</td>\n",
       "      <td>9.52</td>\n",
       "      <td>40.2710</td>\n",
       "      <td>-124.3777</td>\n",
       "      <td>...</td>\n",
       "      <td>7.9</td>\n",
       "      <td>0.19</td>\n",
       "      <td>0.7</td>\n",
       "      <td>0.2</td>\n",
       "      <td>NaN</td>\n",
       "      <td>NaN</td>\n",
       "      <td>NaN</td>\n",
       "      <td>Upper Plate</td>\n",
       "      <td>NaN</td>\n",
       "      <td>2015-10-07 18:11:09+00:00</td>\n",
       "    </tr>\n",
       "    <tr>\n",
       "      <th>5281</th>\n",
       "      <td>4.0</td>\n",
       "      <td>2.015101e+13</td>\n",
       "      <td>2015.0</td>\n",
       "      <td>10.0</td>\n",
       "      <td>7.0</td>\n",
       "      <td>21.0</td>\n",
       "      <td>45.0</td>\n",
       "      <td>50.37</td>\n",
       "      <td>40.1602</td>\n",
       "      <td>-123.8320</td>\n",
       "      <td>...</td>\n",
       "      <td>29.4</td>\n",
       "      <td>0.22</td>\n",
       "      <td>1.3</td>\n",
       "      <td>18.6</td>\n",
       "      <td>NaN</td>\n",
       "      <td>NaN</td>\n",
       "      <td>NaN</td>\n",
       "      <td>Undef</td>\n",
       "      <td>NaN</td>\n",
       "      <td>2015-10-07 21:45:50+00:00</td>\n",
       "    </tr>\n",
       "  </tbody>\n",
       "</table>\n",
       "<p>5282 rows × 24 columns</p>\n",
       "</div>"
      ],
      "text/plain": [
       "      CI YEAR       TSTRING    YEAR  MONTH   DAY  HOUR  MINUTE  SECOND  \\\n",
       "0         1.0  2.011073e+13  2011.0    7.0  26.0   1.0     2.0    7.37   \n",
       "1         1.0  2.011073e+13  2011.0    7.0  26.0   1.0     2.0    7.72   \n",
       "2         1.0  2.011073e+13  2011.0    7.0  26.0   1.0     2.0    8.56   \n",
       "3         1.0  2.011073e+13  2011.0    7.0  26.0   7.0    31.0    2.17   \n",
       "4         1.0  2.011073e+13  2011.0    7.0  26.0   9.0    50.0   27.63   \n",
       "...       ...           ...     ...    ...   ...   ...     ...     ...   \n",
       "5277      4.0  2.015101e+13  2015.0   10.0   7.0   8.0     1.0   50.83   \n",
       "5278      4.0  2.015101e+13  2015.0   10.0   7.0   8.0     7.0    8.40   \n",
       "5279      4.0  2.015101e+13  2015.0   10.0   7.0  11.0    31.0   26.69   \n",
       "5280      4.0  2.015101e+13  2015.0   10.0   7.0  18.0    11.0    9.52   \n",
       "5281      4.0  2.015101e+13  2015.0   10.0   7.0  21.0    45.0   50.37   \n",
       "\n",
       "          LAT       LON  ...  dist to nearest stn  tt RMS   ERH   ERZ  STRIKE  \\\n",
       "0     47.3217 -123.2708  ...                 27.4    0.19   0.8   1.2     NaN   \n",
       "1     44.2888 -124.3340  ...                163.8    0.06  13.1   3.2     NaN   \n",
       "2     44.3017 -124.3180  ...                131.1    0.50  35.4  22.2     NaN   \n",
       "3     48.2635 -124.9298  ...                 44.4    0.77   3.5   6.4     NaN   \n",
       "4     48.3032 -124.9157  ...                 46.1    0.94   4.0   6.9     NaN   \n",
       "...       ...       ...  ...                  ...     ...   ...   ...     ...   \n",
       "5277  40.5895 -124.0455  ...                  5.4    0.14   0.9   0.8     NaN   \n",
       "5278  40.5380 -123.7217  ...                 14.9    0.09   3.3  13.5     NaN   \n",
       "5279  40.5822 -124.0432  ...                  5.6    0.05   1.7   0.8     NaN   \n",
       "5280  40.2710 -124.3777  ...                  7.9    0.19   0.7   0.2     NaN   \n",
       "5281  40.1602 -123.8320  ...                 29.4    0.22   1.3  18.6     NaN   \n",
       "\n",
       "      DIP  RAKE  PLATE DESIGNATION  TEMPLATE EVENT?                  datetime  \n",
       "0     NaN   NaN          Interface          Catalog 2011-07-26 01:02:07+00:00  \n",
       "1     NaN   NaN        Upper Plate              NaN 2011-07-26 01:02:07+00:00  \n",
       "2     NaN   NaN        Upper Plate              NaN 2011-07-26 01:02:08+00:00  \n",
       "3     NaN   NaN        Upper Plate              NaN 2011-07-26 07:31:02+00:00  \n",
       "4     NaN   NaN        Upper Plate                T 2011-07-26 09:50:27+00:00  \n",
       "...   ...   ...                ...              ...                       ...  \n",
       "5277  NaN   NaN               Slab              NaN 2015-10-07 08:01:50+00:00  \n",
       "5278  NaN   NaN        Upper Plate              NaN 2015-10-07 08:07:08+00:00  \n",
       "5279  NaN   NaN               Slab              NaN 2015-10-07 11:31:26+00:00  \n",
       "5280  NaN   NaN        Upper Plate              NaN 2015-10-07 18:11:09+00:00  \n",
       "5281  NaN   NaN              Undef              NaN 2015-10-07 21:45:50+00:00  \n",
       "\n",
       "[5282 rows x 24 columns]"
      ]
     },
     "execution_count": 12,
     "metadata": {},
     "output_type": "execute_result"
    }
   ],
   "source": [
    "events_morton"
   ]
  },
  {
   "cell_type": "markdown",
   "id": "a24957dc",
   "metadata": {},
   "source": [
    "## ANSS Catalog"
   ]
  },
  {
   "cell_type": "code",
   "execution_count": 13,
   "id": "ca384628",
   "metadata": {},
   "outputs": [
    {
     "data": {
      "text/html": [
       "<div>\n",
       "<style scoped>\n",
       "    .dataframe tbody tr th:only-of-type {\n",
       "        vertical-align: middle;\n",
       "    }\n",
       "\n",
       "    .dataframe tbody tr th {\n",
       "        vertical-align: top;\n",
       "    }\n",
       "\n",
       "    .dataframe thead th {\n",
       "        text-align: right;\n",
       "    }\n",
       "</style>\n",
       "<table border=\"1\" class=\"dataframe\">\n",
       "  <thead>\n",
       "    <tr style=\"text-align: right;\">\n",
       "      <th></th>\n",
       "      <th>time</th>\n",
       "      <th>latitude</th>\n",
       "      <th>longitude</th>\n",
       "      <th>depth</th>\n",
       "      <th>mag</th>\n",
       "      <th>magType</th>\n",
       "      <th>nst</th>\n",
       "      <th>gap</th>\n",
       "      <th>dmin</th>\n",
       "      <th>rms</th>\n",
       "      <th>...</th>\n",
       "      <th>place</th>\n",
       "      <th>type</th>\n",
       "      <th>horizontalError</th>\n",
       "      <th>depthError</th>\n",
       "      <th>magError</th>\n",
       "      <th>magNst</th>\n",
       "      <th>status</th>\n",
       "      <th>locationSource</th>\n",
       "      <th>magSource</th>\n",
       "      <th>datetime</th>\n",
       "    </tr>\n",
       "  </thead>\n",
       "  <tbody>\n",
       "    <tr>\n",
       "      <th>0</th>\n",
       "      <td>2015-12-30T15:14:18.870Z</td>\n",
       "      <td>40.663500</td>\n",
       "      <td>-124.371333</td>\n",
       "      <td>31.190</td>\n",
       "      <td>2.65</td>\n",
       "      <td>md</td>\n",
       "      <td>18.0</td>\n",
       "      <td>215.0</td>\n",
       "      <td>0.11980</td>\n",
       "      <td>0.08</td>\n",
       "      <td>...</td>\n",
       "      <td>near the coast of Northern California</td>\n",
       "      <td>earthquake</td>\n",
       "      <td>0.88</td>\n",
       "      <td>0.87</td>\n",
       "      <td>0.204</td>\n",
       "      <td>41.0</td>\n",
       "      <td>reviewed</td>\n",
       "      <td>nc</td>\n",
       "      <td>nc</td>\n",
       "      <td>2015-12-30 15:14:18.870000+00:00</td>\n",
       "    </tr>\n",
       "    <tr>\n",
       "      <th>1</th>\n",
       "      <td>2015-12-30T14:56:15.320Z</td>\n",
       "      <td>43.313800</td>\n",
       "      <td>-126.770100</td>\n",
       "      <td>10.000</td>\n",
       "      <td>3.20</td>\n",
       "      <td>ml</td>\n",
       "      <td>NaN</td>\n",
       "      <td>196.0</td>\n",
       "      <td>1.83800</td>\n",
       "      <td>0.73</td>\n",
       "      <td>...</td>\n",
       "      <td>off the coast of Oregon</td>\n",
       "      <td>earthquake</td>\n",
       "      <td>8.70</td>\n",
       "      <td>2.00</td>\n",
       "      <td>0.056</td>\n",
       "      <td>42.0</td>\n",
       "      <td>reviewed</td>\n",
       "      <td>us</td>\n",
       "      <td>us</td>\n",
       "      <td>2015-12-30 14:56:15.320000+00:00</td>\n",
       "    </tr>\n",
       "    <tr>\n",
       "      <th>2</th>\n",
       "      <td>2015-12-30T07:39:29.310Z</td>\n",
       "      <td>48.586500</td>\n",
       "      <td>-123.300333</td>\n",
       "      <td>52.420</td>\n",
       "      <td>4.79</td>\n",
       "      <td>ml</td>\n",
       "      <td>27.0</td>\n",
       "      <td>81.0</td>\n",
       "      <td>0.11670</td>\n",
       "      <td>0.19</td>\n",
       "      <td>...</td>\n",
       "      <td>12 km SE of North Saanich, Canada</td>\n",
       "      <td>earthquake</td>\n",
       "      <td>0.43</td>\n",
       "      <td>0.67</td>\n",
       "      <td>0.137</td>\n",
       "      <td>178.0</td>\n",
       "      <td>reviewed</td>\n",
       "      <td>uw</td>\n",
       "      <td>uw</td>\n",
       "      <td>2015-12-30 07:39:29.310000+00:00</td>\n",
       "    </tr>\n",
       "    <tr>\n",
       "      <th>3</th>\n",
       "      <td>2015-12-29T21:21:55.820Z</td>\n",
       "      <td>40.604667</td>\n",
       "      <td>-124.427500</td>\n",
       "      <td>28.360</td>\n",
       "      <td>2.84</td>\n",
       "      <td>ml</td>\n",
       "      <td>23.0</td>\n",
       "      <td>228.0</td>\n",
       "      <td>0.12790</td>\n",
       "      <td>0.08</td>\n",
       "      <td>...</td>\n",
       "      <td>14 km WNW of Ferndale, California</td>\n",
       "      <td>earthquake</td>\n",
       "      <td>0.75</td>\n",
       "      <td>0.51</td>\n",
       "      <td>0.270</td>\n",
       "      <td>19.0</td>\n",
       "      <td>reviewed</td>\n",
       "      <td>nc</td>\n",
       "      <td>nc</td>\n",
       "      <td>2015-12-29 21:21:55.820000+00:00</td>\n",
       "    </tr>\n",
       "    <tr>\n",
       "      <th>4</th>\n",
       "      <td>2015-12-29T07:33:12.890Z</td>\n",
       "      <td>48.915500</td>\n",
       "      <td>-125.569000</td>\n",
       "      <td>33.970</td>\n",
       "      <td>1.82</td>\n",
       "      <td>ml</td>\n",
       "      <td>4.0</td>\n",
       "      <td>313.0</td>\n",
       "      <td>0.02003</td>\n",
       "      <td>0.10</td>\n",
       "      <td>...</td>\n",
       "      <td>3 km SSW of Ucluelet, Canada</td>\n",
       "      <td>earthquake</td>\n",
       "      <td>1.23</td>\n",
       "      <td>0.78</td>\n",
       "      <td>0.210</td>\n",
       "      <td>3.0</td>\n",
       "      <td>reviewed</td>\n",
       "      <td>uw</td>\n",
       "      <td>uw</td>\n",
       "      <td>2015-12-29 07:33:12.890000+00:00</td>\n",
       "    </tr>\n",
       "    <tr>\n",
       "      <th>...</th>\n",
       "      <td>...</td>\n",
       "      <td>...</td>\n",
       "      <td>...</td>\n",
       "      <td>...</td>\n",
       "      <td>...</td>\n",
       "      <td>...</td>\n",
       "      <td>...</td>\n",
       "      <td>...</td>\n",
       "      <td>...</td>\n",
       "      <td>...</td>\n",
       "      <td>...</td>\n",
       "      <td>...</td>\n",
       "      <td>...</td>\n",
       "      <td>...</td>\n",
       "      <td>...</td>\n",
       "      <td>...</td>\n",
       "      <td>...</td>\n",
       "      <td>...</td>\n",
       "      <td>...</td>\n",
       "      <td>...</td>\n",
       "      <td>...</td>\n",
       "    </tr>\n",
       "    <tr>\n",
       "      <th>4180</th>\n",
       "      <td>2011-01-04T11:32:14.540Z</td>\n",
       "      <td>40.305000</td>\n",
       "      <td>-124.599000</td>\n",
       "      <td>20.290</td>\n",
       "      <td>2.53</td>\n",
       "      <td>md</td>\n",
       "      <td>23.0</td>\n",
       "      <td>241.0</td>\n",
       "      <td>0.22970</td>\n",
       "      <td>0.09</td>\n",
       "      <td>...</td>\n",
       "      <td>41 km SW of Ferndale, California</td>\n",
       "      <td>earthquake</td>\n",
       "      <td>0.51</td>\n",
       "      <td>0.24</td>\n",
       "      <td>0.211</td>\n",
       "      <td>31.0</td>\n",
       "      <td>reviewed</td>\n",
       "      <td>nc</td>\n",
       "      <td>nc</td>\n",
       "      <td>2011-01-04 11:32:14.540000+00:00</td>\n",
       "    </tr>\n",
       "    <tr>\n",
       "      <th>4181</th>\n",
       "      <td>2011-01-03T07:49:17.260Z</td>\n",
       "      <td>40.405333</td>\n",
       "      <td>-123.799667</td>\n",
       "      <td>29.414</td>\n",
       "      <td>2.80</td>\n",
       "      <td>ml</td>\n",
       "      <td>24.0</td>\n",
       "      <td>42.0</td>\n",
       "      <td>0.02613</td>\n",
       "      <td>0.15</td>\n",
       "      <td>...</td>\n",
       "      <td>12 km E of Redcrest, California</td>\n",
       "      <td>earthquake</td>\n",
       "      <td>0.39</td>\n",
       "      <td>0.87</td>\n",
       "      <td>0.151</td>\n",
       "      <td>15.0</td>\n",
       "      <td>reviewed</td>\n",
       "      <td>nc</td>\n",
       "      <td>nc</td>\n",
       "      <td>2011-01-03 07:49:17.260000+00:00</td>\n",
       "    </tr>\n",
       "    <tr>\n",
       "      <th>4182</th>\n",
       "      <td>2011-01-02T22:40:11.410Z</td>\n",
       "      <td>40.315667</td>\n",
       "      <td>-124.593500</td>\n",
       "      <td>17.310</td>\n",
       "      <td>3.79</td>\n",
       "      <td>ml</td>\n",
       "      <td>35.0</td>\n",
       "      <td>241.0</td>\n",
       "      <td>0.22880</td>\n",
       "      <td>0.19</td>\n",
       "      <td>...</td>\n",
       "      <td>40 km SW of Ferndale, California</td>\n",
       "      <td>earthquake</td>\n",
       "      <td>0.88</td>\n",
       "      <td>0.43</td>\n",
       "      <td>0.198</td>\n",
       "      <td>36.0</td>\n",
       "      <td>reviewed</td>\n",
       "      <td>nc</td>\n",
       "      <td>nc</td>\n",
       "      <td>2011-01-02 22:40:11.410000+00:00</td>\n",
       "    </tr>\n",
       "    <tr>\n",
       "      <th>4183</th>\n",
       "      <td>2011-01-02T06:00:27.060Z</td>\n",
       "      <td>40.451167</td>\n",
       "      <td>-125.909333</td>\n",
       "      <td>22.647</td>\n",
       "      <td>3.68</td>\n",
       "      <td>ml</td>\n",
       "      <td>34.0</td>\n",
       "      <td>275.0</td>\n",
       "      <td>1.24000</td>\n",
       "      <td>0.26</td>\n",
       "      <td>...</td>\n",
       "      <td>140 km W of Ferndale, California</td>\n",
       "      <td>earthquake</td>\n",
       "      <td>3.55</td>\n",
       "      <td>14.43</td>\n",
       "      <td>0.357</td>\n",
       "      <td>12.0</td>\n",
       "      <td>reviewed</td>\n",
       "      <td>nc</td>\n",
       "      <td>nc</td>\n",
       "      <td>2011-01-02 06:00:27.060000+00:00</td>\n",
       "    </tr>\n",
       "    <tr>\n",
       "      <th>4184</th>\n",
       "      <td>2011-01-01T10:44:25.620Z</td>\n",
       "      <td>40.318333</td>\n",
       "      <td>-124.467167</td>\n",
       "      <td>19.780</td>\n",
       "      <td>2.33</td>\n",
       "      <td>md</td>\n",
       "      <td>14.0</td>\n",
       "      <td>301.0</td>\n",
       "      <td>0.13960</td>\n",
       "      <td>0.28</td>\n",
       "      <td>...</td>\n",
       "      <td>33 km SSW of Ferndale, California</td>\n",
       "      <td>earthquake</td>\n",
       "      <td>1.62</td>\n",
       "      <td>0.63</td>\n",
       "      <td>0.263</td>\n",
       "      <td>13.0</td>\n",
       "      <td>reviewed</td>\n",
       "      <td>nc</td>\n",
       "      <td>nc</td>\n",
       "      <td>2011-01-01 10:44:25.620000+00:00</td>\n",
       "    </tr>\n",
       "  </tbody>\n",
       "</table>\n",
       "<p>4185 rows × 23 columns</p>\n",
       "</div>"
      ],
      "text/plain": [
       "                          time   latitude   longitude   depth   mag magType  \\\n",
       "0     2015-12-30T15:14:18.870Z  40.663500 -124.371333  31.190  2.65      md   \n",
       "1     2015-12-30T14:56:15.320Z  43.313800 -126.770100  10.000  3.20      ml   \n",
       "2     2015-12-30T07:39:29.310Z  48.586500 -123.300333  52.420  4.79      ml   \n",
       "3     2015-12-29T21:21:55.820Z  40.604667 -124.427500  28.360  2.84      ml   \n",
       "4     2015-12-29T07:33:12.890Z  48.915500 -125.569000  33.970  1.82      ml   \n",
       "...                        ...        ...         ...     ...   ...     ...   \n",
       "4180  2011-01-04T11:32:14.540Z  40.305000 -124.599000  20.290  2.53      md   \n",
       "4181  2011-01-03T07:49:17.260Z  40.405333 -123.799667  29.414  2.80      ml   \n",
       "4182  2011-01-02T22:40:11.410Z  40.315667 -124.593500  17.310  3.79      ml   \n",
       "4183  2011-01-02T06:00:27.060Z  40.451167 -125.909333  22.647  3.68      ml   \n",
       "4184  2011-01-01T10:44:25.620Z  40.318333 -124.467167  19.780  2.33      md   \n",
       "\n",
       "       nst    gap     dmin   rms  ...                                  place  \\\n",
       "0     18.0  215.0  0.11980  0.08  ...  near the coast of Northern California   \n",
       "1      NaN  196.0  1.83800  0.73  ...                off the coast of Oregon   \n",
       "2     27.0   81.0  0.11670  0.19  ...      12 km SE of North Saanich, Canada   \n",
       "3     23.0  228.0  0.12790  0.08  ...      14 km WNW of Ferndale, California   \n",
       "4      4.0  313.0  0.02003  0.10  ...           3 km SSW of Ucluelet, Canada   \n",
       "...    ...    ...      ...   ...  ...                                    ...   \n",
       "4180  23.0  241.0  0.22970  0.09  ...       41 km SW of Ferndale, California   \n",
       "4181  24.0   42.0  0.02613  0.15  ...        12 km E of Redcrest, California   \n",
       "4182  35.0  241.0  0.22880  0.19  ...       40 km SW of Ferndale, California   \n",
       "4183  34.0  275.0  1.24000  0.26  ...       140 km W of Ferndale, California   \n",
       "4184  14.0  301.0  0.13960  0.28  ...      33 km SSW of Ferndale, California   \n",
       "\n",
       "            type horizontalError depthError magError  magNst    status  \\\n",
       "0     earthquake            0.88       0.87    0.204    41.0  reviewed   \n",
       "1     earthquake            8.70       2.00    0.056    42.0  reviewed   \n",
       "2     earthquake            0.43       0.67    0.137   178.0  reviewed   \n",
       "3     earthquake            0.75       0.51    0.270    19.0  reviewed   \n",
       "4     earthquake            1.23       0.78    0.210     3.0  reviewed   \n",
       "...          ...             ...        ...      ...     ...       ...   \n",
       "4180  earthquake            0.51       0.24    0.211    31.0  reviewed   \n",
       "4181  earthquake            0.39       0.87    0.151    15.0  reviewed   \n",
       "4182  earthquake            0.88       0.43    0.198    36.0  reviewed   \n",
       "4183  earthquake            3.55      14.43    0.357    12.0  reviewed   \n",
       "4184  earthquake            1.62       0.63    0.263    13.0  reviewed   \n",
       "\n",
       "      locationSource  magSource                         datetime  \n",
       "0                 nc         nc 2015-12-30 15:14:18.870000+00:00  \n",
       "1                 us         us 2015-12-30 14:56:15.320000+00:00  \n",
       "2                 uw         uw 2015-12-30 07:39:29.310000+00:00  \n",
       "3                 nc         nc 2015-12-29 21:21:55.820000+00:00  \n",
       "4                 uw         uw 2015-12-29 07:33:12.890000+00:00  \n",
       "...              ...        ...                              ...  \n",
       "4180              nc         nc 2011-01-04 11:32:14.540000+00:00  \n",
       "4181              nc         nc 2011-01-03 07:49:17.260000+00:00  \n",
       "4182              nc         nc 2011-01-02 22:40:11.410000+00:00  \n",
       "4183              nc         nc 2011-01-02 06:00:27.060000+00:00  \n",
       "4184              nc         nc 2011-01-01 10:44:25.620000+00:00  \n",
       "\n",
       "[4185 rows x 23 columns]"
      ]
     },
     "execution_count": 13,
     "metadata": {},
     "output_type": "execute_result"
    }
   ],
   "source": [
    "events_anss = pd.read_csv('../data/anss_2011-15.csv')\n",
    "events_anss['datetime'] = pd.to_datetime(events_anss['time'], format='%Y-%m-%dT%H:%M:%S.%fZ', utc=True)\n",
    "events_anss= events_anss.loc[(events_anss['datetime'] > t1) & (events_anss['datetime'] < t2) ]\n",
    "events_anss"
   ]
  },
  {
   "cell_type": "markdown",
   "id": "d2499c46",
   "metadata": {},
   "source": [
    "## Our Catalog"
   ]
  },
  {
   "cell_type": "code",
   "execution_count": 14,
   "id": "f0456713",
   "metadata": {
    "scrolled": true
   },
   "outputs": [
    {
     "name": "stderr",
     "output_type": "stream",
     "text": [
      "/tmp/ipykernel_1733194/3753830256.py:6: SettingWithCopyWarning: \n",
      "A value is trying to be set on a copy of a slice from a DataFrame.\n",
      "Try using .loc[row_indexer,col_indexer] = value instead\n",
      "\n",
      "See the caveats in the documentation: https://pandas.pydata.org/pandas-docs/stable/user_guide/indexing.html#returning-a-view-versus-a-copy\n",
      "  mycatalog['datetime'] = pd.to_datetime(mycatalog['time'], utc = True)\n"
     ]
    },
    {
     "data": {
      "text/html": [
       "<div>\n",
       "<style scoped>\n",
       "    .dataframe tbody tr th:only-of-type {\n",
       "        vertical-align: middle;\n",
       "    }\n",
       "\n",
       "    .dataframe tbody tr th {\n",
       "        vertical-align: top;\n",
       "    }\n",
       "\n",
       "    .dataframe thead th {\n",
       "        text-align: right;\n",
       "    }\n",
       "</style>\n",
       "<table border=\"1\" class=\"dataframe\">\n",
       "  <thead>\n",
       "    <tr style=\"text-align: right;\">\n",
       "      <th></th>\n",
       "      <th>Unnamed: 0</th>\n",
       "      <th>idx</th>\n",
       "      <th>time</th>\n",
       "      <th>x</th>\n",
       "      <th>y</th>\n",
       "      <th>z</th>\n",
       "      <th>picks</th>\n",
       "      <th>latitude</th>\n",
       "      <th>longitude</th>\n",
       "      <th>depth</th>\n",
       "      <th>event_idx</th>\n",
       "      <th>pick_idx</th>\n",
       "      <th>residual</th>\n",
       "      <th>station</th>\n",
       "      <th>phase</th>\n",
       "      <th>time_pick</th>\n",
       "      <th>datetime</th>\n",
       "    </tr>\n",
       "  </thead>\n",
       "  <tbody>\n",
       "    <tr>\n",
       "      <th>0</th>\n",
       "      <td>0</td>\n",
       "      <td>8</td>\n",
       "      <td>2014-01-01 05:17:38.794816+00:00</td>\n",
       "      <td>149.322069</td>\n",
       "      <td>333.854869</td>\n",
       "      <td>49.609375</td>\n",
       "      <td>6</td>\n",
       "      <td>47.486485</td>\n",
       "      <td>-123.518593</td>\n",
       "      <td>49.609375</td>\n",
       "      <td>8</td>\n",
       "      <td>1169808</td>\n",
       "      <td>-0.364817</td>\n",
       "      <td>FN03C</td>\n",
       "      <td>S</td>\n",
       "      <td>1.388553e+09</td>\n",
       "      <td>2014-01-01 05:17:38.794816+00:00</td>\n",
       "    </tr>\n",
       "    <tr>\n",
       "      <th>6</th>\n",
       "      <td>6</td>\n",
       "      <td>10</td>\n",
       "      <td>2014-01-01 05:54:38.267231+00:00</td>\n",
       "      <td>64.720330</td>\n",
       "      <td>251.288060</td>\n",
       "      <td>23.828125</td>\n",
       "      <td>6</td>\n",
       "      <td>46.757786</td>\n",
       "      <td>-124.652863</td>\n",
       "      <td>23.828125</td>\n",
       "      <td>10</td>\n",
       "      <td>439121</td>\n",
       "      <td>-0.856316</td>\n",
       "      <td>FN02C</td>\n",
       "      <td>P</td>\n",
       "      <td>1.388556e+09</td>\n",
       "      <td>2014-01-01 05:54:38.267231+00:00</td>\n",
       "    </tr>\n",
       "    <tr>\n",
       "      <th>12</th>\n",
       "      <td>12</td>\n",
       "      <td>35</td>\n",
       "      <td>2014-01-01 19:35:45.905454+00:00</td>\n",
       "      <td>-162.858347</td>\n",
       "      <td>527.707375</td>\n",
       "      <td>5.859375</td>\n",
       "      <td>6</td>\n",
       "      <td>49.225279</td>\n",
       "      <td>-127.735882</td>\n",
       "      <td>5.859375</td>\n",
       "      <td>35</td>\n",
       "      <td>1626720</td>\n",
       "      <td>1.038036</td>\n",
       "      <td>FN01C</td>\n",
       "      <td>S</td>\n",
       "      <td>1.388605e+09</td>\n",
       "      <td>2014-01-01 19:35:45.905454+00:00</td>\n",
       "    </tr>\n",
       "    <tr>\n",
       "      <th>18</th>\n",
       "      <td>18</td>\n",
       "      <td>37</td>\n",
       "      <td>2014-01-01 20:54:11.178539+00:00</td>\n",
       "      <td>74.026521</td>\n",
       "      <td>270.433987</td>\n",
       "      <td>0.390625</td>\n",
       "      <td>6</td>\n",
       "      <td>46.929020</td>\n",
       "      <td>-124.527967</td>\n",
       "      <td>0.390625</td>\n",
       "      <td>37</td>\n",
       "      <td>725692</td>\n",
       "      <td>0.403116</td>\n",
       "      <td>FN01C</td>\n",
       "      <td>P</td>\n",
       "      <td>1.388610e+09</td>\n",
       "      <td>2014-01-01 20:54:11.178539+00:00</td>\n",
       "    </tr>\n",
       "    <tr>\n",
       "      <th>24</th>\n",
       "      <td>24</td>\n",
       "      <td>53</td>\n",
       "      <td>2014-01-02 02:06:34.089288+00:00</td>\n",
       "      <td>107.021199</td>\n",
       "      <td>281.203570</td>\n",
       "      <td>12.890625</td>\n",
       "      <td>6</td>\n",
       "      <td>47.021368</td>\n",
       "      <td>-124.092292</td>\n",
       "      <td>12.890625</td>\n",
       "      <td>53</td>\n",
       "      <td>361802</td>\n",
       "      <td>-0.574402</td>\n",
       "      <td>FN03C</td>\n",
       "      <td>P</td>\n",
       "      <td>1.388628e+09</td>\n",
       "      <td>2014-01-02 02:06:34.089288+00:00</td>\n",
       "    </tr>\n",
       "    <tr>\n",
       "      <th>...</th>\n",
       "      <td>...</td>\n",
       "      <td>...</td>\n",
       "      <td>...</td>\n",
       "      <td>...</td>\n",
       "      <td>...</td>\n",
       "      <td>...</td>\n",
       "      <td>...</td>\n",
       "      <td>...</td>\n",
       "      <td>...</td>\n",
       "      <td>...</td>\n",
       "      <td>...</td>\n",
       "      <td>...</td>\n",
       "      <td>...</td>\n",
       "      <td>...</td>\n",
       "      <td>...</td>\n",
       "      <td>...</td>\n",
       "      <td>...</td>\n",
       "    </tr>\n",
       "    <tr>\n",
       "      <th>4497</th>\n",
       "      <td>4497</td>\n",
       "      <td>6233</td>\n",
       "      <td>2014-06-17 22:55:17.694596+00:00</td>\n",
       "      <td>76.564573</td>\n",
       "      <td>272.827228</td>\n",
       "      <td>0.390625</td>\n",
       "      <td>6</td>\n",
       "      <td>46.950257</td>\n",
       "      <td>-124.494243</td>\n",
       "      <td>0.390625</td>\n",
       "      <td>6233</td>\n",
       "      <td>775280</td>\n",
       "      <td>1.244988</td>\n",
       "      <td>FN01C</td>\n",
       "      <td>P</td>\n",
       "      <td>1.403046e+09</td>\n",
       "      <td>2014-06-17 22:55:17.694596+00:00</td>\n",
       "    </tr>\n",
       "    <tr>\n",
       "      <th>4503</th>\n",
       "      <td>4503</td>\n",
       "      <td>6274</td>\n",
       "      <td>2014-06-21 16:16:26.682066+00:00</td>\n",
       "      <td>83.332712</td>\n",
       "      <td>270.433987</td>\n",
       "      <td>10.546875</td>\n",
       "      <td>6</td>\n",
       "      <td>46.927918</td>\n",
       "      <td>-124.405791</td>\n",
       "      <td>10.546875</td>\n",
       "      <td>6274</td>\n",
       "      <td>308110</td>\n",
       "      <td>1.063622</td>\n",
       "      <td>FN02C</td>\n",
       "      <td>P</td>\n",
       "      <td>1.403367e+09</td>\n",
       "      <td>2014-06-21 16:16:26.682066+00:00</td>\n",
       "    </tr>\n",
       "    <tr>\n",
       "      <th>4509</th>\n",
       "      <td>4509</td>\n",
       "      <td>6347</td>\n",
       "      <td>2014-06-25 09:27:07.622561+00:00</td>\n",
       "      <td>84.178730</td>\n",
       "      <td>241.715097</td>\n",
       "      <td>17.578125</td>\n",
       "      <td>6</td>\n",
       "      <td>46.669519</td>\n",
       "      <td>-124.399961</td>\n",
       "      <td>17.578125</td>\n",
       "      <td>6347</td>\n",
       "      <td>350248</td>\n",
       "      <td>-0.277601</td>\n",
       "      <td>FN02C</td>\n",
       "      <td>P</td>\n",
       "      <td>1.403688e+09</td>\n",
       "      <td>2014-06-25 09:27:07.622561+00:00</td>\n",
       "    </tr>\n",
       "    <tr>\n",
       "      <th>4515</th>\n",
       "      <td>4515</td>\n",
       "      <td>6350</td>\n",
       "      <td>2014-06-25 15:05:08.809141+00:00</td>\n",
       "      <td>-216.157442</td>\n",
       "      <td>116.069953</td>\n",
       "      <td>10.546875</td>\n",
       "      <td>6</td>\n",
       "      <td>45.510926</td>\n",
       "      <td>-128.266198</td>\n",
       "      <td>10.546875</td>\n",
       "      <td>6350</td>\n",
       "      <td>512951</td>\n",
       "      <td>0.631925</td>\n",
       "      <td>FN01C</td>\n",
       "      <td>P</td>\n",
       "      <td>1.403709e+09</td>\n",
       "      <td>2014-06-25 15:05:08.809141+00:00</td>\n",
       "    </tr>\n",
       "    <tr>\n",
       "      <th>4521</th>\n",
       "      <td>4521</td>\n",
       "      <td>6359</td>\n",
       "      <td>2014-06-25 20:47:18.688608+00:00</td>\n",
       "      <td>50.338034</td>\n",
       "      <td>270.433987</td>\n",
       "      <td>1.953125</td>\n",
       "      <td>6</td>\n",
       "      <td>46.931239</td>\n",
       "      <td>-124.838992</td>\n",
       "      <td>1.953125</td>\n",
       "      <td>6359</td>\n",
       "      <td>1266061</td>\n",
       "      <td>-0.191407</td>\n",
       "      <td>FN02C</td>\n",
       "      <td>S</td>\n",
       "      <td>1.403729e+09</td>\n",
       "      <td>2014-06-25 20:47:18.688608+00:00</td>\n",
       "    </tr>\n",
       "  </tbody>\n",
       "</table>\n",
       "<p>744 rows × 17 columns</p>\n",
       "</div>"
      ],
      "text/plain": [
       "      Unnamed: 0   idx                              time           x  \\\n",
       "0              0     8  2014-01-01 05:17:38.794816+00:00  149.322069   \n",
       "6              6    10  2014-01-01 05:54:38.267231+00:00   64.720330   \n",
       "12            12    35  2014-01-01 19:35:45.905454+00:00 -162.858347   \n",
       "18            18    37  2014-01-01 20:54:11.178539+00:00   74.026521   \n",
       "24            24    53  2014-01-02 02:06:34.089288+00:00  107.021199   \n",
       "...          ...   ...                               ...         ...   \n",
       "4497        4497  6233  2014-06-17 22:55:17.694596+00:00   76.564573   \n",
       "4503        4503  6274  2014-06-21 16:16:26.682066+00:00   83.332712   \n",
       "4509        4509  6347  2014-06-25 09:27:07.622561+00:00   84.178730   \n",
       "4515        4515  6350  2014-06-25 15:05:08.809141+00:00 -216.157442   \n",
       "4521        4521  6359  2014-06-25 20:47:18.688608+00:00   50.338034   \n",
       "\n",
       "               y          z  picks   latitude   longitude      depth  \\\n",
       "0     333.854869  49.609375      6  47.486485 -123.518593  49.609375   \n",
       "6     251.288060  23.828125      6  46.757786 -124.652863  23.828125   \n",
       "12    527.707375   5.859375      6  49.225279 -127.735882   5.859375   \n",
       "18    270.433987   0.390625      6  46.929020 -124.527967   0.390625   \n",
       "24    281.203570  12.890625      6  47.021368 -124.092292  12.890625   \n",
       "...          ...        ...    ...        ...         ...        ...   \n",
       "4497  272.827228   0.390625      6  46.950257 -124.494243   0.390625   \n",
       "4503  270.433987  10.546875      6  46.927918 -124.405791  10.546875   \n",
       "4509  241.715097  17.578125      6  46.669519 -124.399961  17.578125   \n",
       "4515  116.069953  10.546875      6  45.510926 -128.266198  10.546875   \n",
       "4521  270.433987   1.953125      6  46.931239 -124.838992   1.953125   \n",
       "\n",
       "      event_idx  pick_idx  residual station phase     time_pick  \\\n",
       "0             8   1169808 -0.364817   FN03C     S  1.388553e+09   \n",
       "6            10    439121 -0.856316   FN02C     P  1.388556e+09   \n",
       "12           35   1626720  1.038036   FN01C     S  1.388605e+09   \n",
       "18           37    725692  0.403116   FN01C     P  1.388610e+09   \n",
       "24           53    361802 -0.574402   FN03C     P  1.388628e+09   \n",
       "...         ...       ...       ...     ...   ...           ...   \n",
       "4497       6233    775280  1.244988   FN01C     P  1.403046e+09   \n",
       "4503       6274    308110  1.063622   FN02C     P  1.403367e+09   \n",
       "4509       6347    350248 -0.277601   FN02C     P  1.403688e+09   \n",
       "4515       6350    512951  0.631925   FN01C     P  1.403709e+09   \n",
       "4521       6359   1266061 -0.191407   FN02C     S  1.403729e+09   \n",
       "\n",
       "                             datetime  \n",
       "0    2014-01-01 05:17:38.794816+00:00  \n",
       "6    2014-01-01 05:54:38.267231+00:00  \n",
       "12   2014-01-01 19:35:45.905454+00:00  \n",
       "18   2014-01-01 20:54:11.178539+00:00  \n",
       "24   2014-01-02 02:06:34.089288+00:00  \n",
       "...                               ...  \n",
       "4497 2014-06-17 22:55:17.694596+00:00  \n",
       "4503 2014-06-21 16:16:26.682066+00:00  \n",
       "4509 2014-06-25 09:27:07.622561+00:00  \n",
       "4515 2014-06-25 15:05:08.809141+00:00  \n",
       "4521 2014-06-25 20:47:18.688608+00:00  \n",
       "\n",
       "[744 rows x 17 columns]"
      ]
     },
     "execution_count": 14,
     "metadata": {},
     "output_type": "execute_result"
    }
   ],
   "source": [
    "# Load all the pick assignments \n",
    "year = 'swa_shore'\n",
    "mycatalog_picks = pd.read_csv(f'../data/datasets_{year}/all_pick_assignments_{year}.csv')\n",
    "mycatalog = mycatalog_picks.drop_duplicates(subset=['idx'])\n",
    "# Convert the time series in all_pick_assignments to datetime\n",
    "mycatalog['datetime'] = pd.to_datetime(mycatalog['time'], utc = True)\n",
    "mycatalog=mycatalog.loc[(mycatalog['datetime'] > t1) & (mycatalog['datetime'] < t2) ]\n",
    "mycatalog"
   ]
  },
  {
   "cell_type": "markdown",
   "id": "f3d4e9ca",
   "metadata": {},
   "source": [
    "## Run this loop"
   ]
  },
  {
   "cell_type": "code",
   "execution_count": 15,
   "id": "3e0e7740",
   "metadata": {},
   "outputs": [
    {
     "name": "stdout",
     "output_type": "stream",
     "text": [
      "matched idx of Morton:  1793\n",
      "matched idx of Morton:  1853\n",
      "matched idx of Morton:  1885\n",
      "744 741\n",
      "length of mycatalog:744\n",
      "length of events_morton:5282\n",
      "length of events_anss:4185\n",
      "matched_indices_morton:3\n",
      "matched_indices_anss:3\n",
      "unmatched_indices_morton:741\n",
      "unmatched_indices_anss:741\n",
      "unmatched_indices_morton_and_anss (new events):741\n"
     ]
    }
   ],
   "source": [
    "matched_events_mycatalog2morton = []\n",
    "matched_times_morton2mycatalog = []\n",
    "matched_events_morton2mycatalog = []\n",
    "unmatched_times_morton2mycatalog = []\n",
    "unmatched_events_morton2mycatalog = []\n",
    "unmatched_events_mycatalog2morton_and_anss = []\n",
    "matched_events_anss2mycatalog=[]\n",
    "matched_events_mycatalog2anss = []\n",
    "unmatched_times_anss2mycatalog = []\n",
    "unmatched_events_anss2mycatalog = []\n",
    "matched_times_anss2mycatalog =[]\n",
    "\n",
    "time_threshold = 5 # in seconds\n",
    "dist_threshold =25\n",
    "\n",
    "lat_morton2mycatalog = []\n",
    "lon_morton2mycatalog = []\n",
    "\n",
    "lat_anss2mycatalog =[]\n",
    "lon_anss2mycatalog = []\n",
    "\n",
    "# A set to keep track of matched indices in mycatalog\n",
    "matched_indices_morton = set()\n",
    "matched_indices_anss = set()\n",
    "count_c = 0\n",
    "count_d = 0\n",
    "# Loop over events in Morton's catalog\n",
    "for i in range(len(events_morton)):\n",
    "    t11 = events_morton.iloc[i]['datetime']\n",
    "    olat = events_morton.iloc[i]['LAT']\n",
    "    olon = events_morton.iloc[i]['LON']\n",
    "    \n",
    "                                       \n",
    "    condition = (mycatalog['datetime'] >= t11 - pd.Timedelta(seconds=time_threshold)) & \\\n",
    "                     (mycatalog['datetime'] <= t11 + pd.Timedelta(seconds=time_threshold)) & \\\n",
    "                     (degrees2kilometers(locations2degrees(olat, olon, mycatalog['latitude'], mycatalog['longitude'])) <= dist_threshold)                        \n",
    "    matched_df = mycatalog.loc[condition]\n",
    "\n",
    "    if len(matched_df) == 1:\n",
    "        print('matched idx of Morton: ',i)\n",
    "        count_c+=1\n",
    "        matched_times_morton2mycatalog.append(t11)\n",
    "        matched_events_morton2mycatalog.append(events_morton.iloc[i])\n",
    "        lat_morton2mycatalog.append(events_morton.iloc[i]['LAT'])\n",
    "        lon_morton2mycatalog.append(events_morton.iloc[i]['LON'])\n",
    "        matched_events_mycatalog2morton.append(matched_df)\n",
    "        matched_indices_morton.update(matched_df['idx'])\n",
    "    elif len(matched_df) > 1:\n",
    "        print('matched idx of Morton: ',i)\n",
    "\n",
    "        count_d+=1\n",
    "        diffs = abs(matched_df['datetime'] - t11)\n",
    "        closest_index = diffs.idxmin()\n",
    "        closest_event = matched_df.loc[[closest_index]]\n",
    "        matched_times_morton2mycatalog.append(t11)\n",
    "        matched_events_morton2mycatalog.append(events_morton.iloc[i])\n",
    "        lat_morton2mycatalog.append(events_morton.iloc[i]['LAT'])\n",
    "        lon_morton2mycatalog.append(events_morton.iloc[i]['LON'])\n",
    "        matched_events_mycatalog2morton.append(closest_event)\n",
    "        matched_indices_morton.update(closest_event['idx'])\n",
    "    else:\n",
    "        unmatched_times_morton2mycatalog.append(t11)\n",
    "        unmatched_events_morton2mycatalog.append(events_morton.iloc[i])\n",
    "\n",
    "# All events in mycatalog not matched with Morton's catalog are unmatched\n",
    "unmatched_indices_morton = set(mycatalog.idx) - matched_indices_morton\n",
    "# unmatched_events_mycatalog2morton = mycatalog.iloc[list(unmatched_indices_morton)]\n",
    "count_a =0\n",
    "count_b =0\n",
    "# Loop over events in ANSS catalog\n",
    "for i in range(len(events_anss)):\n",
    "    t11 = events_anss.iloc[i]['datetime']\n",
    "    time_condition = (mycatalog['datetime'] >= t11 - pd.Timedelta(seconds=time_threshold)) & \\\n",
    "                     (mycatalog['datetime'] <= t11 + pd.Timedelta(seconds=time_threshold))\n",
    "    matched_df = mycatalog.loc[time_condition]\n",
    "    \n",
    "    if len(matched_df) == 1:\n",
    "        \n",
    "        count_a+=1\n",
    "        matched_times_anss2mycatalog.append(t11)\n",
    "        matched_events_anss2mycatalog.append(events_anss.iloc[i])\n",
    "        lat_anss2mycatalog.append(events_anss.iloc[i]['latitude'])\n",
    "        lon_anss2mycatalog.append(events_anss.iloc[i]['longitude'])\n",
    "        matched_events_mycatalog2anss.append(matched_df)\n",
    "        matched_indices_anss.update(matched_df['idx'])\n",
    "        \n",
    "    elif len(matched_df) > 1:\n",
    "        count_b+=1\n",
    "        diffs = abs(matched_df['datetime'] - t11)\n",
    "        closest_index = diffs.idxmin()\n",
    "        closest_event = matched_df.loc[[closest_index]]\n",
    "        matched_times_anss2mycatalog.append(t11)\n",
    "        matched_events_anss2mycatalog.append(events_anss.iloc[i])\n",
    "        lat_anss2mycatalog.append(events_anss.iloc[i]['latitude'])\n",
    "        lon_anss2mycatalog.append(events_anss.iloc[i]['longitude'])\n",
    "        matched_events_mycatalog2anss.append(closest_event)\n",
    "        matched_indices_anss.update(closest_event['idx'])\n",
    "        \n",
    "    else:\n",
    "        unmatched_times_anss2mycatalog.append(t11)\n",
    "        unmatched_events_anss2mycatalog.append(events_anss.iloc[i])\n",
    "\n",
    "# All events in mycatalog not matched with ANSS catalog are unmatched\n",
    "unmatched_indices_anss = set(mycatalog.idx) - matched_indices_anss\n",
    "\n",
    "unmatched_indices_morton_and_anss = unmatched_indices_morton.intersection(unmatched_indices_anss)\n",
    "print(len(mycatalog),len(unmatched_indices_morton_and_anss))\n",
    "\n",
    "# unmatched_events_mycatalog2morton_and_anss = mycatalog.iloc[list(unmatched_indices_morton_and_anss)]\n",
    "unmatched_events_mycatalog2morton_and_anss = mycatalog.loc[mycatalog['event_idx'].isin(list(unmatched_indices_morton_and_anss))]\n",
    "\n",
    "\n",
    "print(f\"length of mycatalog:{len(mycatalog)}\")\n",
    "print(f\"length of events_morton:{len(events_morton)}\")\n",
    "print(f\"length of events_anss:{len(events_anss)}\")\n",
    "print(f\"matched_indices_morton:{len(matched_indices_morton)}\")\n",
    "print(f\"matched_indices_anss:{len(matched_indices_anss)}\")\n",
    "print(f\"unmatched_indices_morton:{len(unmatched_indices_morton)}\")\n",
    "print(f\"unmatched_indices_anss:{len(unmatched_indices_anss)}\")\n",
    "print(f\"unmatched_indices_morton_and_anss (new events):{len(unmatched_indices_morton_and_anss)}\")\n",
    "\n"
   ]
  },
  {
   "cell_type": "code",
   "execution_count": 16,
   "id": "0b6dd0b1",
   "metadata": {},
   "outputs": [
    {
     "name": "stdout",
     "output_type": "stream",
     "text": [
      "length of mycatalog:744\n",
      "length of events_morton:5282\n",
      "length of events_anss:4185\n",
      "matched_events_mycatalog2morton:3\n",
      "matched_events_morton2mycatalog:3\n",
      "unmatched_events_anss2mycatalog:4182\n",
      "unmatched_events_morton2mycatalog:5279\n",
      "unmatched_events_mycatalog2morton_and_anss (new events):741\n",
      "matched_events_mycatalog2anss:3\n",
      "matched_events_anss2mycatalog:3\n"
     ]
    }
   ],
   "source": [
    "# new concat code\n",
    "# Concatenate and clean up dataframes\n",
    "if len(matched_events_mycatalog2morton)>0:\n",
    "    matched_events_mycatalog2morton = pd.concat(matched_events_mycatalog2morton).reset_index(drop=True)\n",
    "    matched_times_mycatalog2morton = matched_events_mycatalog2morton['datetime']\n",
    "    lat_mycatalog2morton = matched_events_mycatalog2morton['latitude']\n",
    "    lon_mycatalog2morton = matched_events_mycatalog2morton['longitude']\n",
    "\n",
    "if len(matched_events_morton2mycatalog)>0:   \n",
    "    matched_events_morton2mycatalog = pd.DataFrame(matched_events_morton2mycatalog).reset_index(drop=True)\n",
    "    \n",
    "if len(unmatched_events_anss2mycatalog)>0:\n",
    "    unmatched_events_anss2mycatalog = pd.DataFrame(unmatched_events_anss2mycatalog).reset_index(drop=True)\n",
    "    \n",
    "if len(unmatched_events_morton2mycatalog)>0:\n",
    "    unmatched_events_morton2mycatalog = pd.DataFrame(unmatched_events_morton2mycatalog).reset_index(drop=True)\n",
    "\n",
    "if len(unmatched_events_mycatalog2morton_and_anss) > 0:\n",
    "    unmatched_events_mycatalog2morton_and_anss = unmatched_events_mycatalog2morton_and_anss.reset_index(drop=True)\n",
    "\n",
    "if len(matched_events_mycatalog2anss)>0:\n",
    "    matched_events_mycatalog2anss = pd.concat(matched_events_mycatalog2anss).reset_index(drop=True)\n",
    "    matched_times_mycatalog2anss = matched_events_mycatalog2anss['datetime']\n",
    "    lat_mycatalog2anss = matched_events_mycatalog2anss['latitude']\n",
    "    lon_mycatalog2anss = matched_events_mycatalog2anss['longitude']\n",
    "\n",
    "if len(matched_events_anss2mycatalog)>0:   \n",
    "    matched_events_anss2mycatalog = pd.DataFrame(matched_events_anss2mycatalog).reset_index(drop=True)\n",
    "    matched_times_anss2mycatalog = matched_events_anss2mycatalog['datetime']\n",
    "\n",
    "print(f\"length of mycatalog:{len(mycatalog)}\")\n",
    "print(f\"length of events_morton:{len(events_morton)}\")\n",
    "print(f\"length of events_anss:{len(events_anss)}\")\n",
    "print(f\"matched_events_mycatalog2morton:{len(matched_events_mycatalog2morton)}\")\n",
    "print(f\"matched_events_morton2mycatalog:{len(matched_events_morton2mycatalog)}\")\n",
    "print(f\"unmatched_events_anss2mycatalog:{len(unmatched_events_anss2mycatalog)}\")\n",
    "print(f\"unmatched_events_morton2mycatalog:{len(unmatched_events_morton2mycatalog)}\")\n",
    "print(f\"unmatched_events_mycatalog2morton_and_anss (new events):{len(unmatched_events_mycatalog2morton_and_anss)}\")\n",
    "print(f\"matched_events_mycatalog2anss:{len(matched_events_mycatalog2anss)}\")\n",
    "print(f\"matched_events_anss2mycatalog:{len(matched_events_anss2mycatalog)}\")"
   ]
  },
  {
   "cell_type": "code",
   "execution_count": 17,
   "id": "0da443d3",
   "metadata": {},
   "outputs": [],
   "source": [
    "# Save these three catalogs to csv files\n",
    "matched_events_mycatalog2morton.to_csv(f'../data/datasets_{year}/matched_events_with_morton_mycatalog.csv')\n",
    "matched_events_anss2mycatalog.to_csv(f'../data/datasets_{year}/matched_events_with_mycatalog_anss.csv')\n",
    "matched_events_morton2mycatalog.to_csv(f'../data/datasets_{year}/matched_events_with_mycatalog_morton.csv')\n",
    "unmatched_events_mycatalog2morton_and_anss.to_csv(f'../data/datasets_{year}/new_events.csv')\n",
    "matched_events_mycatalog2anss.to_csv(f'../data/datasets_{year}/matched_events_with_anss_mycatalog.csv')\n",
    "unmatched_events_morton2mycatalog.to_csv(f'../data/datasets_{year}/missing_events_from_mycatalog_morton.csv')\n",
    "unmatched_events_anss2mycatalog.to_csv(f'../data/datasets_{year}/missing_events_from_mycatalog_anss.csv')\n"
   ]
  },
  {
   "cell_type": "markdown",
   "id": "4b308175",
   "metadata": {},
   "source": [
    "## Plot the Origin Times"
   ]
  },
  {
   "cell_type": "markdown",
   "id": "863b722c",
   "metadata": {},
   "source": [
    "### Compare with Morton's Catalog "
   ]
  },
  {
   "cell_type": "code",
   "execution_count": null,
   "id": "aa2d61a3",
   "metadata": {},
   "outputs": [],
   "source": [
    "# Make lists for plotting the 1:1 line\n",
    "x = pd.date_range(start='2011-1-1', end='2015-12-31', periods=len(matched_times_morton2mycatalog))\n",
    "y = pd.date_range(start='2011-1-1', end='2015-12-31', periods=len(matched_times_morton2mycatalog))\n",
    "\n",
    "# Plot the scatter plot\n",
    "plt.figure()\n",
    "plt.scatter(matched_times_mycatalog2morton,matched_times_morton2mycatalog)\n",
    "plt.plot(x,y, 'k--')\n",
    "plt.xlabel('Origin Time of mycatalog')\n",
    "plt.ylabel('Origin Time of Morton')\n",
    "plt.title('Scatter Plot: Origin Times of Matched Events')"
   ]
  },
  {
   "cell_type": "markdown",
   "id": "13a2d257",
   "metadata": {},
   "source": [
    "### Compare with the ANSS Catalog "
   ]
  },
  {
   "cell_type": "code",
   "execution_count": null,
   "id": "25ebca76",
   "metadata": {},
   "outputs": [],
   "source": [
    "# Make lists for plotting the 1:1 line\n",
    "matched_times_mycatalog2anss = pd.to_datetime(matched_times_mycatalog2anss)\n",
    "matched_times_anss2mycatalog = pd.to_datetime(matched_times_anss2mycatalog)\n",
    "\n",
    "x = pd.date_range(start='2014-1-1', end='2014-12-31', periods=len(matched_times_anss2mycatalog))\n",
    "y = pd.date_range(start='2014-1-1', end='2014-12-31', periods=len(matched_times_anss2mycatalog))\n",
    "\n",
    "# Plot the scatter plot\n",
    "plt.figure()\n",
    "plt.scatter(matched_times_mycatalog2anss,matched_times_anss2mycatalog)\n",
    "plt.plot(x,y, 'k--')\n",
    "plt.xlabel('Origin Time of mycatalog')\n",
    "plt.ylabel('Origin Time of Morton')\n",
    "plt.title('Scatter Plot: Origin Times of Matched Events')"
   ]
  },
  {
   "cell_type": "markdown",
   "id": "fc43d9d5",
   "metadata": {},
   "source": [
    "## Plot the Latitudes"
   ]
  },
  {
   "cell_type": "markdown",
   "id": "7ed02e61",
   "metadata": {},
   "source": [
    "### Compare with Morton's Catalog "
   ]
  },
  {
   "cell_type": "code",
   "execution_count": null,
   "id": "e77491ad",
   "metadata": {},
   "outputs": [],
   "source": [
    "# Plot the scatter plot\n",
    "plt.figure()\n",
    "lat_min = min(lat_mycatalog2morton)\n",
    "lat_max = max(lat_mycatalog2morton)\n",
    "\n",
    "# Make lists for plotting the 1:1 line\n",
    "x_lat = np.linspace(lat_min, lat_max, 10)\n",
    "y_lat = np.linspace(lat_min, lat_max, 10)\n",
    "plt.scatter(lat_mycatalog2morton,lat_morton2mycatalog, s=15)\n",
    "plt.plot(x_lat,y_lat, 'k--')\n",
    "plt.xlabel('Latitudes of Our Catalog ($^\\circ$)')\n",
    "plt.ylabel('Latitudes of Morton et al. (2023) ($^\\circ$)')\n",
    "plt.title('Latitudes of Our Catalog vs.Latitudes of Morton et al. (2023)')"
   ]
  },
  {
   "cell_type": "markdown",
   "id": "d6e9ef27",
   "metadata": {},
   "source": [
    "### Compare with the ANSS Catalog "
   ]
  },
  {
   "cell_type": "code",
   "execution_count": null,
   "id": "cfe7f36c",
   "metadata": {},
   "outputs": [],
   "source": [
    "# Plot the scatter plot\n",
    "plt.figure()\n",
    "lat_min = min(lat_mycatalog2anss)\n",
    "lat_max = max(lat_mycatalog2anss)\n",
    "\n",
    "# Make lists for plotting the 1:1 line\n",
    "x_lat = np.linspace(lat_min, lat_max, 10)\n",
    "y_lat = np.linspace(lat_min, lat_max, 10)\n",
    "plt.scatter(lat_mycatalog2anss,lat_anss2mycatalog, s=15)\n",
    "plt.plot(x_lat,y_lat, 'k--')\n",
    "plt.xlabel('Latitudes of Our Catalog ($^\\circ$)')\n",
    "plt.ylabel('Latitudes of ANSS Catalog ($^\\circ$)')\n",
    "plt.title('Latitudes of Our Catalog vs. ANSS Catalog')"
   ]
  },
  {
   "cell_type": "markdown",
   "id": "fc628b1a",
   "metadata": {},
   "source": [
    "## Plot the Longitudes"
   ]
  },
  {
   "cell_type": "markdown",
   "id": "1bb31b59",
   "metadata": {},
   "source": [
    "### Compare with Morton's Catalog "
   ]
  },
  {
   "cell_type": "code",
   "execution_count": null,
   "id": "1e3873dd",
   "metadata": {},
   "outputs": [],
   "source": [
    "# Plot the scatter plot\n",
    "plt.figure()\n",
    "lon_min = min(lon_mycatalog2morton)\n",
    "lon_max = max(lon_mycatalog2morton)\n",
    "\n",
    "# Make lists for plotting the 1:1 line\n",
    "x_lon = np.linspace(lon_min, lon_max, 10)\n",
    "y_lon = np.linspace(lon_min, lon_max, 10)\n",
    "plt.scatter(lon_mycatalog2morton,lon_morton2mycatalog)\n",
    "plt.plot(x_lon,y_lon, 'k--')\n",
    "plt.xlabel('Longitudes of Our Catalog ($^\\circ$)')\n",
    "plt.ylabel('Longitudes of Morton et al. (2023) ($^\\circ$)')\n",
    "plt.title('Longitudes of Our Catalog vs.Latitudes of Morton et al. (2023)')"
   ]
  },
  {
   "cell_type": "markdown",
   "id": "5cfd4045",
   "metadata": {},
   "source": [
    "### Compare with the ANSS Catalog "
   ]
  },
  {
   "cell_type": "code",
   "execution_count": null,
   "id": "a31380f4",
   "metadata": {},
   "outputs": [],
   "source": [
    "# Plot the scatter plot\n",
    "plt.figure()\n",
    "lon_min = min(lon_mycatalog2anss)\n",
    "lon_max = max(lon_mycatalog2anss)\n",
    "\n",
    "# Make lists for plotting the 1:1 line\n",
    "x_lon = np.linspace(lon_min, lon_max, 10)\n",
    "y_lon = np.linspace(lon_min, lon_max, 10)\n",
    "plt.scatter(lon_mycatalog2anss,lon_anss2mycatalog)\n",
    "plt.plot(x_lon,y_lon, 'k--')\n",
    "plt.xlabel('Longitudes of Our Catalog ($^\\circ$)')\n",
    "plt.ylabel('Longitudes of Morton et al. (2023) ($^\\circ$)')\n",
    "plt.title('Longitudes of Our Catalog vs.Latitudes of Morton et al. (2023)')"
   ]
  },
  {
   "cell_type": "markdown",
   "id": "bf7c25f0",
   "metadata": {},
   "source": [
    "## Histograms\n",
    "Make histograms of mycatalog vs. Morton's catalog"
   ]
  },
  {
   "cell_type": "markdown",
   "id": "f814dcb8",
   "metadata": {},
   "source": [
    "### Histogram: All of our catalog "
   ]
  },
  {
   "cell_type": "code",
   "execution_count": null,
   "id": "6a8dd51a",
   "metadata": {},
   "outputs": [],
   "source": [
    "events = pd.read_csv('../../data/datasets_all_years/events_pnsn_wa.csv')"
   ]
  },
  {
   "cell_type": "code",
   "execution_count": null,
   "id": "83f5cde8",
   "metadata": {},
   "outputs": [],
   "source": [
    "# Plot the same histogram but overlay the histograms\n",
    "bins = np.linspace(5,30,25)\n",
    "\n",
    "plt.hist(unmatched_events_mycatalog2morton_and_anss['picks'], bins=bins,  \n",
    "         alpha=0.5, # the transaparency parameter \n",
    "         label='Newly detected events') \n",
    "plt.hist(matched_events_mycatalog2anss['picks'], bins=bins,\n",
    "         alpha=0.5, \n",
    "         label='Events matching the ANSS Catalog')   \n",
    "plt.hist(matched_events_mycatalog2morton['picks'], bins=bins,\n",
    "         alpha=0.5, \n",
    "         label='Events matching Morton et al., 2023') \n",
    "\n",
    "plt.xlabel('Number of Picks')\n",
    "plt.ylabel('Number of Events')  \n",
    "plt.legend(loc='upper right') \n",
    "plt.title('Picks vs. Number of Events') \n",
    "plt.show()\n"
   ]
  },
  {
   "cell_type": "markdown",
   "id": "0039ec69",
   "metadata": {},
   "source": [
    "### Histogram: Matched events alone"
   ]
  },
  {
   "cell_type": "markdown",
   "id": "db128b09",
   "metadata": {},
   "source": [
    "### Compare with Morton et al. (2023)"
   ]
  },
  {
   "cell_type": "code",
   "execution_count": null,
   "id": "0e453e8b",
   "metadata": {},
   "outputs": [],
   "source": [
    "# Plot the histogram of the number of picks for the matched events\n",
    "plt.figure()\n",
    "bins = np.linspace(5,30,25)\n",
    "plt.hist(matched_events_mycatalog2morton['picks'],bins=bins)\n",
    "plt.xlabel('Number of Picks')\n",
    "plt.ylabel('Number of Events')\n",
    "plt.title('Histogram of Matched Events with Morton et al. (2023): Picks vs. the Number of Events')"
   ]
  },
  {
   "cell_type": "markdown",
   "id": "84052dd5",
   "metadata": {},
   "source": [
    "### Compare with ANSS "
   ]
  },
  {
   "cell_type": "code",
   "execution_count": null,
   "id": "c0ed5380",
   "metadata": {},
   "outputs": [],
   "source": [
    "# Plot the histogram of the number of picks for the matched events\n",
    "plt.figure()\n",
    "bins = np.linspace(5,30,25)\n",
    "plt.hist(matched_events_mycatalog2anss['picks'],bins=bins)\n",
    "plt.xlabel('Number of Picks')\n",
    "plt.ylabel('Number of Events')\n",
    "plt.title('Histogram of Matched Events with ANSS: Picks vs. the Number of Events')"
   ]
  },
  {
   "cell_type": "markdown",
   "id": "376b3b7f",
   "metadata": {},
   "source": [
    "## 2. Filter events \n",
    "Filter Events based on the following criteria\n",
    "1. For an event, at least two stations have to be less than 50 km from the event and no station can be 100 km apart from each other.\n",
    "2. An event has to have more than or equal to 6 picks\n"
   ]
  },
  {
   "cell_type": "code",
   "execution_count": 18,
   "id": "fcc97847",
   "metadata": {},
   "outputs": [
    {
     "data": {
      "text/html": [
       "<div>\n",
       "<style scoped>\n",
       "    .dataframe tbody tr th:only-of-type {\n",
       "        vertical-align: middle;\n",
       "    }\n",
       "\n",
       "    .dataframe tbody tr th {\n",
       "        vertical-align: top;\n",
       "    }\n",
       "\n",
       "    .dataframe thead th {\n",
       "        text-align: right;\n",
       "    }\n",
       "</style>\n",
       "<table border=\"1\" class=\"dataframe\">\n",
       "  <thead>\n",
       "    <tr style=\"text-align: right;\">\n",
       "      <th></th>\n",
       "      <th>Unnamed: 0.1</th>\n",
       "      <th>Unnamed: 0</th>\n",
       "      <th>idx</th>\n",
       "      <th>time</th>\n",
       "      <th>x</th>\n",
       "      <th>y</th>\n",
       "      <th>z</th>\n",
       "      <th>picks</th>\n",
       "      <th>latitude</th>\n",
       "      <th>longitude</th>\n",
       "      <th>depth</th>\n",
       "      <th>event_idx</th>\n",
       "      <th>pick_idx</th>\n",
       "      <th>residual</th>\n",
       "      <th>station</th>\n",
       "      <th>phase</th>\n",
       "      <th>time_pick</th>\n",
       "      <th>datetime</th>\n",
       "    </tr>\n",
       "  </thead>\n",
       "  <tbody>\n",
       "    <tr>\n",
       "      <th>0</th>\n",
       "      <td>0</td>\n",
       "      <td>0</td>\n",
       "      <td>8</td>\n",
       "      <td>2014-01-01 05:17:38.794816+00:00</td>\n",
       "      <td>149.322069</td>\n",
       "      <td>333.854869</td>\n",
       "      <td>49.609375</td>\n",
       "      <td>6</td>\n",
       "      <td>47.486485</td>\n",
       "      <td>-123.518593</td>\n",
       "      <td>49.609375</td>\n",
       "      <td>8</td>\n",
       "      <td>1169808</td>\n",
       "      <td>-0.364817</td>\n",
       "      <td>FN03C</td>\n",
       "      <td>S</td>\n",
       "      <td>1.388553e+09</td>\n",
       "      <td>2014-01-01 05:17:38.794816+00:00</td>\n",
       "    </tr>\n",
       "    <tr>\n",
       "      <th>1</th>\n",
       "      <td>1</td>\n",
       "      <td>6</td>\n",
       "      <td>10</td>\n",
       "      <td>2014-01-01 05:54:38.267231+00:00</td>\n",
       "      <td>64.720330</td>\n",
       "      <td>251.288060</td>\n",
       "      <td>23.828125</td>\n",
       "      <td>6</td>\n",
       "      <td>46.757786</td>\n",
       "      <td>-124.652863</td>\n",
       "      <td>23.828125</td>\n",
       "      <td>10</td>\n",
       "      <td>439121</td>\n",
       "      <td>-0.856316</td>\n",
       "      <td>FN02C</td>\n",
       "      <td>P</td>\n",
       "      <td>1.388556e+09</td>\n",
       "      <td>2014-01-01 05:54:38.267231+00:00</td>\n",
       "    </tr>\n",
       "    <tr>\n",
       "      <th>2</th>\n",
       "      <td>2</td>\n",
       "      <td>12</td>\n",
       "      <td>35</td>\n",
       "      <td>2014-01-01 19:35:45.905454+00:00</td>\n",
       "      <td>-162.858347</td>\n",
       "      <td>527.707375</td>\n",
       "      <td>5.859375</td>\n",
       "      <td>6</td>\n",
       "      <td>49.225279</td>\n",
       "      <td>-127.735882</td>\n",
       "      <td>5.859375</td>\n",
       "      <td>35</td>\n",
       "      <td>1626720</td>\n",
       "      <td>1.038036</td>\n",
       "      <td>FN01C</td>\n",
       "      <td>S</td>\n",
       "      <td>1.388605e+09</td>\n",
       "      <td>2014-01-01 19:35:45.905454+00:00</td>\n",
       "    </tr>\n",
       "    <tr>\n",
       "      <th>3</th>\n",
       "      <td>3</td>\n",
       "      <td>18</td>\n",
       "      <td>37</td>\n",
       "      <td>2014-01-01 20:54:11.178539+00:00</td>\n",
       "      <td>74.026521</td>\n",
       "      <td>270.433987</td>\n",
       "      <td>0.390625</td>\n",
       "      <td>6</td>\n",
       "      <td>46.929020</td>\n",
       "      <td>-124.527967</td>\n",
       "      <td>0.390625</td>\n",
       "      <td>37</td>\n",
       "      <td>725692</td>\n",
       "      <td>0.403116</td>\n",
       "      <td>FN01C</td>\n",
       "      <td>P</td>\n",
       "      <td>1.388610e+09</td>\n",
       "      <td>2014-01-01 20:54:11.178539+00:00</td>\n",
       "    </tr>\n",
       "    <tr>\n",
       "      <th>4</th>\n",
       "      <td>4</td>\n",
       "      <td>24</td>\n",
       "      <td>53</td>\n",
       "      <td>2014-01-02 02:06:34.089288+00:00</td>\n",
       "      <td>107.021199</td>\n",
       "      <td>281.203570</td>\n",
       "      <td>12.890625</td>\n",
       "      <td>6</td>\n",
       "      <td>47.021368</td>\n",
       "      <td>-124.092292</td>\n",
       "      <td>12.890625</td>\n",
       "      <td>53</td>\n",
       "      <td>361802</td>\n",
       "      <td>-0.574402</td>\n",
       "      <td>FN03C</td>\n",
       "      <td>P</td>\n",
       "      <td>1.388628e+09</td>\n",
       "      <td>2014-01-02 02:06:34.089288+00:00</td>\n",
       "    </tr>\n",
       "    <tr>\n",
       "      <th>...</th>\n",
       "      <td>...</td>\n",
       "      <td>...</td>\n",
       "      <td>...</td>\n",
       "      <td>...</td>\n",
       "      <td>...</td>\n",
       "      <td>...</td>\n",
       "      <td>...</td>\n",
       "      <td>...</td>\n",
       "      <td>...</td>\n",
       "      <td>...</td>\n",
       "      <td>...</td>\n",
       "      <td>...</td>\n",
       "      <td>...</td>\n",
       "      <td>...</td>\n",
       "      <td>...</td>\n",
       "      <td>...</td>\n",
       "      <td>...</td>\n",
       "      <td>...</td>\n",
       "    </tr>\n",
       "    <tr>\n",
       "      <th>736</th>\n",
       "      <td>736</td>\n",
       "      <td>4497</td>\n",
       "      <td>6233</td>\n",
       "      <td>2014-06-17 22:55:17.694596+00:00</td>\n",
       "      <td>76.564573</td>\n",
       "      <td>272.827228</td>\n",
       "      <td>0.390625</td>\n",
       "      <td>6</td>\n",
       "      <td>46.950257</td>\n",
       "      <td>-124.494243</td>\n",
       "      <td>0.390625</td>\n",
       "      <td>6233</td>\n",
       "      <td>775280</td>\n",
       "      <td>1.244988</td>\n",
       "      <td>FN01C</td>\n",
       "      <td>P</td>\n",
       "      <td>1.403046e+09</td>\n",
       "      <td>2014-06-17 22:55:17.694596+00:00</td>\n",
       "    </tr>\n",
       "    <tr>\n",
       "      <th>737</th>\n",
       "      <td>737</td>\n",
       "      <td>4503</td>\n",
       "      <td>6274</td>\n",
       "      <td>2014-06-21 16:16:26.682066+00:00</td>\n",
       "      <td>83.332712</td>\n",
       "      <td>270.433987</td>\n",
       "      <td>10.546875</td>\n",
       "      <td>6</td>\n",
       "      <td>46.927918</td>\n",
       "      <td>-124.405791</td>\n",
       "      <td>10.546875</td>\n",
       "      <td>6274</td>\n",
       "      <td>308110</td>\n",
       "      <td>1.063622</td>\n",
       "      <td>FN02C</td>\n",
       "      <td>P</td>\n",
       "      <td>1.403367e+09</td>\n",
       "      <td>2014-06-21 16:16:26.682066+00:00</td>\n",
       "    </tr>\n",
       "    <tr>\n",
       "      <th>738</th>\n",
       "      <td>738</td>\n",
       "      <td>4509</td>\n",
       "      <td>6347</td>\n",
       "      <td>2014-06-25 09:27:07.622561+00:00</td>\n",
       "      <td>84.178730</td>\n",
       "      <td>241.715097</td>\n",
       "      <td>17.578125</td>\n",
       "      <td>6</td>\n",
       "      <td>46.669519</td>\n",
       "      <td>-124.399961</td>\n",
       "      <td>17.578125</td>\n",
       "      <td>6347</td>\n",
       "      <td>350248</td>\n",
       "      <td>-0.277601</td>\n",
       "      <td>FN02C</td>\n",
       "      <td>P</td>\n",
       "      <td>1.403688e+09</td>\n",
       "      <td>2014-06-25 09:27:07.622561+00:00</td>\n",
       "    </tr>\n",
       "    <tr>\n",
       "      <th>739</th>\n",
       "      <td>739</td>\n",
       "      <td>4515</td>\n",
       "      <td>6350</td>\n",
       "      <td>2014-06-25 15:05:08.809141+00:00</td>\n",
       "      <td>-216.157442</td>\n",
       "      <td>116.069953</td>\n",
       "      <td>10.546875</td>\n",
       "      <td>6</td>\n",
       "      <td>45.510926</td>\n",
       "      <td>-128.266198</td>\n",
       "      <td>10.546875</td>\n",
       "      <td>6350</td>\n",
       "      <td>512951</td>\n",
       "      <td>0.631925</td>\n",
       "      <td>FN01C</td>\n",
       "      <td>P</td>\n",
       "      <td>1.403709e+09</td>\n",
       "      <td>2014-06-25 15:05:08.809141+00:00</td>\n",
       "    </tr>\n",
       "    <tr>\n",
       "      <th>740</th>\n",
       "      <td>740</td>\n",
       "      <td>4521</td>\n",
       "      <td>6359</td>\n",
       "      <td>2014-06-25 20:47:18.688608+00:00</td>\n",
       "      <td>50.338034</td>\n",
       "      <td>270.433987</td>\n",
       "      <td>1.953125</td>\n",
       "      <td>6</td>\n",
       "      <td>46.931239</td>\n",
       "      <td>-124.838992</td>\n",
       "      <td>1.953125</td>\n",
       "      <td>6359</td>\n",
       "      <td>1266061</td>\n",
       "      <td>-0.191407</td>\n",
       "      <td>FN02C</td>\n",
       "      <td>S</td>\n",
       "      <td>1.403729e+09</td>\n",
       "      <td>2014-06-25 20:47:18.688608+00:00</td>\n",
       "    </tr>\n",
       "  </tbody>\n",
       "</table>\n",
       "<p>741 rows × 18 columns</p>\n",
       "</div>"
      ],
      "text/plain": [
       "     Unnamed: 0.1  Unnamed: 0   idx                              time  \\\n",
       "0               0           0     8  2014-01-01 05:17:38.794816+00:00   \n",
       "1               1           6    10  2014-01-01 05:54:38.267231+00:00   \n",
       "2               2          12    35  2014-01-01 19:35:45.905454+00:00   \n",
       "3               3          18    37  2014-01-01 20:54:11.178539+00:00   \n",
       "4               4          24    53  2014-01-02 02:06:34.089288+00:00   \n",
       "..            ...         ...   ...                               ...   \n",
       "736           736        4497  6233  2014-06-17 22:55:17.694596+00:00   \n",
       "737           737        4503  6274  2014-06-21 16:16:26.682066+00:00   \n",
       "738           738        4509  6347  2014-06-25 09:27:07.622561+00:00   \n",
       "739           739        4515  6350  2014-06-25 15:05:08.809141+00:00   \n",
       "740           740        4521  6359  2014-06-25 20:47:18.688608+00:00   \n",
       "\n",
       "              x           y          z  picks   latitude   longitude  \\\n",
       "0    149.322069  333.854869  49.609375      6  47.486485 -123.518593   \n",
       "1     64.720330  251.288060  23.828125      6  46.757786 -124.652863   \n",
       "2   -162.858347  527.707375   5.859375      6  49.225279 -127.735882   \n",
       "3     74.026521  270.433987   0.390625      6  46.929020 -124.527967   \n",
       "4    107.021199  281.203570  12.890625      6  47.021368 -124.092292   \n",
       "..          ...         ...        ...    ...        ...         ...   \n",
       "736   76.564573  272.827228   0.390625      6  46.950257 -124.494243   \n",
       "737   83.332712  270.433987  10.546875      6  46.927918 -124.405791   \n",
       "738   84.178730  241.715097  17.578125      6  46.669519 -124.399961   \n",
       "739 -216.157442  116.069953  10.546875      6  45.510926 -128.266198   \n",
       "740   50.338034  270.433987   1.953125      6  46.931239 -124.838992   \n",
       "\n",
       "         depth  event_idx  pick_idx  residual station phase     time_pick  \\\n",
       "0    49.609375          8   1169808 -0.364817   FN03C     S  1.388553e+09   \n",
       "1    23.828125         10    439121 -0.856316   FN02C     P  1.388556e+09   \n",
       "2     5.859375         35   1626720  1.038036   FN01C     S  1.388605e+09   \n",
       "3     0.390625         37    725692  0.403116   FN01C     P  1.388610e+09   \n",
       "4    12.890625         53    361802 -0.574402   FN03C     P  1.388628e+09   \n",
       "..         ...        ...       ...       ...     ...   ...           ...   \n",
       "736   0.390625       6233    775280  1.244988   FN01C     P  1.403046e+09   \n",
       "737  10.546875       6274    308110  1.063622   FN02C     P  1.403367e+09   \n",
       "738  17.578125       6347    350248 -0.277601   FN02C     P  1.403688e+09   \n",
       "739  10.546875       6350    512951  0.631925   FN01C     P  1.403709e+09   \n",
       "740   1.953125       6359   1266061 -0.191407   FN02C     S  1.403729e+09   \n",
       "\n",
       "                             datetime  \n",
       "0    2014-01-01 05:17:38.794816+00:00  \n",
       "1    2014-01-01 05:54:38.267231+00:00  \n",
       "2    2014-01-01 19:35:45.905454+00:00  \n",
       "3    2014-01-01 20:54:11.178539+00:00  \n",
       "4    2014-01-02 02:06:34.089288+00:00  \n",
       "..                                ...  \n",
       "736  2014-06-17 22:55:17.694596+00:00  \n",
       "737  2014-06-21 16:16:26.682066+00:00  \n",
       "738  2014-06-25 09:27:07.622561+00:00  \n",
       "739  2014-06-25 15:05:08.809141+00:00  \n",
       "740  2014-06-25 20:47:18.688608+00:00  \n",
       "\n",
       "[741 rows x 18 columns]"
      ]
     },
     "execution_count": 18,
     "metadata": {},
     "output_type": "execute_result"
    }
   ],
   "source": [
    "# Read the new events file\n",
    "events = pd.read_csv(f'../data/datasets_{year}/new_events.csv')\n",
    "events"
   ]
  },
  {
   "cell_type": "code",
   "execution_count": 19,
   "id": "2b49b018",
   "metadata": {},
   "outputs": [
    {
     "data": {
      "text/html": [
       "<div>\n",
       "<style scoped>\n",
       "    .dataframe tbody tr th:only-of-type {\n",
       "        vertical-align: middle;\n",
       "    }\n",
       "\n",
       "    .dataframe tbody tr th {\n",
       "        vertical-align: top;\n",
       "    }\n",
       "\n",
       "    .dataframe thead th {\n",
       "        text-align: right;\n",
       "    }\n",
       "</style>\n",
       "<table border=\"1\" class=\"dataframe\">\n",
       "  <thead>\n",
       "    <tr style=\"text-align: right;\">\n",
       "      <th></th>\n",
       "      <th>Unnamed: 0</th>\n",
       "      <th>idx</th>\n",
       "      <th>time</th>\n",
       "      <th>x</th>\n",
       "      <th>y</th>\n",
       "      <th>z</th>\n",
       "      <th>picks</th>\n",
       "      <th>latitude</th>\n",
       "      <th>longitude</th>\n",
       "      <th>depth</th>\n",
       "      <th>event_idx</th>\n",
       "      <th>pick_idx</th>\n",
       "      <th>residual</th>\n",
       "      <th>station</th>\n",
       "      <th>phase</th>\n",
       "      <th>time_pick</th>\n",
       "    </tr>\n",
       "  </thead>\n",
       "  <tbody>\n",
       "    <tr>\n",
       "      <th>0</th>\n",
       "      <td>0</td>\n",
       "      <td>8</td>\n",
       "      <td>2014-01-01 05:17:38.794816+00:00</td>\n",
       "      <td>149.322069</td>\n",
       "      <td>333.854869</td>\n",
       "      <td>49.609375</td>\n",
       "      <td>6</td>\n",
       "      <td>47.486485</td>\n",
       "      <td>-123.518593</td>\n",
       "      <td>49.609375</td>\n",
       "      <td>8</td>\n",
       "      <td>1169808</td>\n",
       "      <td>-0.364817</td>\n",
       "      <td>FN03C</td>\n",
       "      <td>S</td>\n",
       "      <td>1.388553e+09</td>\n",
       "    </tr>\n",
       "    <tr>\n",
       "      <th>6</th>\n",
       "      <td>6</td>\n",
       "      <td>10</td>\n",
       "      <td>2014-01-01 05:54:38.267231+00:00</td>\n",
       "      <td>64.720330</td>\n",
       "      <td>251.288060</td>\n",
       "      <td>23.828125</td>\n",
       "      <td>6</td>\n",
       "      <td>46.757786</td>\n",
       "      <td>-124.652863</td>\n",
       "      <td>23.828125</td>\n",
       "      <td>10</td>\n",
       "      <td>439121</td>\n",
       "      <td>-0.856316</td>\n",
       "      <td>FN02C</td>\n",
       "      <td>P</td>\n",
       "      <td>1.388556e+09</td>\n",
       "    </tr>\n",
       "    <tr>\n",
       "      <th>12</th>\n",
       "      <td>12</td>\n",
       "      <td>35</td>\n",
       "      <td>2014-01-01 19:35:45.905454+00:00</td>\n",
       "      <td>-162.858347</td>\n",
       "      <td>527.707375</td>\n",
       "      <td>5.859375</td>\n",
       "      <td>6</td>\n",
       "      <td>49.225279</td>\n",
       "      <td>-127.735882</td>\n",
       "      <td>5.859375</td>\n",
       "      <td>35</td>\n",
       "      <td>1626720</td>\n",
       "      <td>1.038036</td>\n",
       "      <td>FN01C</td>\n",
       "      <td>S</td>\n",
       "      <td>1.388605e+09</td>\n",
       "    </tr>\n",
       "    <tr>\n",
       "      <th>18</th>\n",
       "      <td>18</td>\n",
       "      <td>37</td>\n",
       "      <td>2014-01-01 20:54:11.178539+00:00</td>\n",
       "      <td>74.026521</td>\n",
       "      <td>270.433987</td>\n",
       "      <td>0.390625</td>\n",
       "      <td>6</td>\n",
       "      <td>46.929020</td>\n",
       "      <td>-124.527967</td>\n",
       "      <td>0.390625</td>\n",
       "      <td>37</td>\n",
       "      <td>725692</td>\n",
       "      <td>0.403116</td>\n",
       "      <td>FN01C</td>\n",
       "      <td>P</td>\n",
       "      <td>1.388610e+09</td>\n",
       "    </tr>\n",
       "    <tr>\n",
       "      <th>24</th>\n",
       "      <td>24</td>\n",
       "      <td>53</td>\n",
       "      <td>2014-01-02 02:06:34.089288+00:00</td>\n",
       "      <td>107.021199</td>\n",
       "      <td>281.203570</td>\n",
       "      <td>12.890625</td>\n",
       "      <td>6</td>\n",
       "      <td>47.021368</td>\n",
       "      <td>-124.092292</td>\n",
       "      <td>12.890625</td>\n",
       "      <td>53</td>\n",
       "      <td>361802</td>\n",
       "      <td>-0.574402</td>\n",
       "      <td>FN03C</td>\n",
       "      <td>P</td>\n",
       "      <td>1.388628e+09</td>\n",
       "    </tr>\n",
       "    <tr>\n",
       "      <th>...</th>\n",
       "      <td>...</td>\n",
       "      <td>...</td>\n",
       "      <td>...</td>\n",
       "      <td>...</td>\n",
       "      <td>...</td>\n",
       "      <td>...</td>\n",
       "      <td>...</td>\n",
       "      <td>...</td>\n",
       "      <td>...</td>\n",
       "      <td>...</td>\n",
       "      <td>...</td>\n",
       "      <td>...</td>\n",
       "      <td>...</td>\n",
       "      <td>...</td>\n",
       "      <td>...</td>\n",
       "      <td>...</td>\n",
       "    </tr>\n",
       "    <tr>\n",
       "      <th>4497</th>\n",
       "      <td>4497</td>\n",
       "      <td>6233</td>\n",
       "      <td>2014-06-17 22:55:17.694596+00:00</td>\n",
       "      <td>76.564573</td>\n",
       "      <td>272.827228</td>\n",
       "      <td>0.390625</td>\n",
       "      <td>6</td>\n",
       "      <td>46.950257</td>\n",
       "      <td>-124.494243</td>\n",
       "      <td>0.390625</td>\n",
       "      <td>6233</td>\n",
       "      <td>775280</td>\n",
       "      <td>1.244988</td>\n",
       "      <td>FN01C</td>\n",
       "      <td>P</td>\n",
       "      <td>1.403046e+09</td>\n",
       "    </tr>\n",
       "    <tr>\n",
       "      <th>4503</th>\n",
       "      <td>4503</td>\n",
       "      <td>6274</td>\n",
       "      <td>2014-06-21 16:16:26.682066+00:00</td>\n",
       "      <td>83.332712</td>\n",
       "      <td>270.433987</td>\n",
       "      <td>10.546875</td>\n",
       "      <td>6</td>\n",
       "      <td>46.927918</td>\n",
       "      <td>-124.405791</td>\n",
       "      <td>10.546875</td>\n",
       "      <td>6274</td>\n",
       "      <td>308110</td>\n",
       "      <td>1.063622</td>\n",
       "      <td>FN02C</td>\n",
       "      <td>P</td>\n",
       "      <td>1.403367e+09</td>\n",
       "    </tr>\n",
       "    <tr>\n",
       "      <th>4509</th>\n",
       "      <td>4509</td>\n",
       "      <td>6347</td>\n",
       "      <td>2014-06-25 09:27:07.622561+00:00</td>\n",
       "      <td>84.178730</td>\n",
       "      <td>241.715097</td>\n",
       "      <td>17.578125</td>\n",
       "      <td>6</td>\n",
       "      <td>46.669519</td>\n",
       "      <td>-124.399961</td>\n",
       "      <td>17.578125</td>\n",
       "      <td>6347</td>\n",
       "      <td>350248</td>\n",
       "      <td>-0.277601</td>\n",
       "      <td>FN02C</td>\n",
       "      <td>P</td>\n",
       "      <td>1.403688e+09</td>\n",
       "    </tr>\n",
       "    <tr>\n",
       "      <th>4515</th>\n",
       "      <td>4515</td>\n",
       "      <td>6350</td>\n",
       "      <td>2014-06-25 15:05:08.809141+00:00</td>\n",
       "      <td>-216.157442</td>\n",
       "      <td>116.069953</td>\n",
       "      <td>10.546875</td>\n",
       "      <td>6</td>\n",
       "      <td>45.510926</td>\n",
       "      <td>-128.266198</td>\n",
       "      <td>10.546875</td>\n",
       "      <td>6350</td>\n",
       "      <td>512951</td>\n",
       "      <td>0.631925</td>\n",
       "      <td>FN01C</td>\n",
       "      <td>P</td>\n",
       "      <td>1.403709e+09</td>\n",
       "    </tr>\n",
       "    <tr>\n",
       "      <th>4521</th>\n",
       "      <td>4521</td>\n",
       "      <td>6359</td>\n",
       "      <td>2014-06-25 20:47:18.688608+00:00</td>\n",
       "      <td>50.338034</td>\n",
       "      <td>270.433987</td>\n",
       "      <td>1.953125</td>\n",
       "      <td>6</td>\n",
       "      <td>46.931239</td>\n",
       "      <td>-124.838992</td>\n",
       "      <td>1.953125</td>\n",
       "      <td>6359</td>\n",
       "      <td>1266061</td>\n",
       "      <td>-0.191407</td>\n",
       "      <td>FN02C</td>\n",
       "      <td>S</td>\n",
       "      <td>1.403729e+09</td>\n",
       "    </tr>\n",
       "  </tbody>\n",
       "</table>\n",
       "<p>744 rows × 16 columns</p>\n",
       "</div>"
      ],
      "text/plain": [
       "      Unnamed: 0   idx                              time           x  \\\n",
       "0              0     8  2014-01-01 05:17:38.794816+00:00  149.322069   \n",
       "6              6    10  2014-01-01 05:54:38.267231+00:00   64.720330   \n",
       "12            12    35  2014-01-01 19:35:45.905454+00:00 -162.858347   \n",
       "18            18    37  2014-01-01 20:54:11.178539+00:00   74.026521   \n",
       "24            24    53  2014-01-02 02:06:34.089288+00:00  107.021199   \n",
       "...          ...   ...                               ...         ...   \n",
       "4497        4497  6233  2014-06-17 22:55:17.694596+00:00   76.564573   \n",
       "4503        4503  6274  2014-06-21 16:16:26.682066+00:00   83.332712   \n",
       "4509        4509  6347  2014-06-25 09:27:07.622561+00:00   84.178730   \n",
       "4515        4515  6350  2014-06-25 15:05:08.809141+00:00 -216.157442   \n",
       "4521        4521  6359  2014-06-25 20:47:18.688608+00:00   50.338034   \n",
       "\n",
       "               y          z  picks   latitude   longitude      depth  \\\n",
       "0     333.854869  49.609375      6  47.486485 -123.518593  49.609375   \n",
       "6     251.288060  23.828125      6  46.757786 -124.652863  23.828125   \n",
       "12    527.707375   5.859375      6  49.225279 -127.735882   5.859375   \n",
       "18    270.433987   0.390625      6  46.929020 -124.527967   0.390625   \n",
       "24    281.203570  12.890625      6  47.021368 -124.092292  12.890625   \n",
       "...          ...        ...    ...        ...         ...        ...   \n",
       "4497  272.827228   0.390625      6  46.950257 -124.494243   0.390625   \n",
       "4503  270.433987  10.546875      6  46.927918 -124.405791  10.546875   \n",
       "4509  241.715097  17.578125      6  46.669519 -124.399961  17.578125   \n",
       "4515  116.069953  10.546875      6  45.510926 -128.266198  10.546875   \n",
       "4521  270.433987   1.953125      6  46.931239 -124.838992   1.953125   \n",
       "\n",
       "      event_idx  pick_idx  residual station phase     time_pick  \n",
       "0             8   1169808 -0.364817   FN03C     S  1.388553e+09  \n",
       "6            10    439121 -0.856316   FN02C     P  1.388556e+09  \n",
       "12           35   1626720  1.038036   FN01C     S  1.388605e+09  \n",
       "18           37    725692  0.403116   FN01C     P  1.388610e+09  \n",
       "24           53    361802 -0.574402   FN03C     P  1.388628e+09  \n",
       "...         ...       ...       ...     ...   ...           ...  \n",
       "4497       6233    775280  1.244988   FN01C     P  1.403046e+09  \n",
       "4503       6274    308110  1.063622   FN02C     P  1.403367e+09  \n",
       "4509       6347    350248 -0.277601   FN02C     P  1.403688e+09  \n",
       "4515       6350    512951  0.631925   FN01C     P  1.403709e+09  \n",
       "4521       6359   1266061 -0.191407   FN02C     S  1.403729e+09  \n",
       "\n",
       "[744 rows x 16 columns]"
      ]
     },
     "execution_count": 19,
     "metadata": {},
     "output_type": "execute_result"
    }
   ],
   "source": [
    "all_pick_assignments = pd.read_csv(f'../data/datasets_{year}/all_pick_assignments_{year}.csv')\n",
    "mycatalog = all_pick_assignments.drop_duplicates(subset=['idx'])\n",
    "mycatalog"
   ]
  },
  {
   "cell_type": "code",
   "execution_count": 24,
   "id": "c0c23e8c",
   "metadata": {},
   "outputs": [],
   "source": [
    "count = 0"
   ]
  },
  {
   "cell_type": "code",
   "execution_count": 20,
   "id": "650f1d56",
   "metadata": {
    "scrolled": true
   },
   "outputs": [
    {
     "name": "stderr",
     "output_type": "stream",
     "text": [
      "/tmp/ipykernel_1733194/2718798803.py:20: SettingWithCopyWarning: \n",
      "A value is trying to be set on a copy of a slice from a DataFrame.\n",
      "Try using .loc[row_indexer,col_indexer] = value instead\n",
      "\n",
      "See the caveats in the documentation: https://pandas.pydata.org/pandas-docs/stable/user_guide/indexing.html#returning-a-view-versus-a-copy\n",
      "  mycatalog['datetime'] = pd.to_datetime(mycatalog['time'], utc = True)\n",
      "  0%|          | 1/741 [00:00<07:05,  1.74it/s]"
     ]
    },
    {
     "name": "stdout",
     "output_type": "stream",
     "text": [
      "[[None, '7D', 'J57C', 83.55398999382348], [None, '7D', 'FN03C', 101.12131662970691], [None, '7D', 'FN19C', 105.80308595653742], [None, '7D', 'FN05C', 110.80626055934395], [None, '7D', 'J49C', 135.47134590420816]]\n"
     ]
    },
    {
     "name": "stderr",
     "output_type": "stream",
     "text": [
      "  0%|          | 3/741 [00:01<06:38,  1.85it/s]"
     ]
    },
    {
     "name": "stdout",
     "output_type": "stream",
     "text": [
      "[[None, '7D', 'FN04C', 346.4847542406374], [None, '7D', 'FN02C', 352.63043959627646], [None, '7D', 'FN03C', 352.83387971756576], [None, '7D', 'FN01C', 363.01685739500925], [None, '7D', 'J49C', 396.19391477773536]]\n"
     ]
    },
    {
     "name": "stderr",
     "output_type": "stream",
     "text": [
      "  1%|          | 7/741 [00:03<05:09,  2.37it/s]"
     ]
    },
    {
     "name": "stdout",
     "output_type": "stream",
     "text": [
      "[[None, '7D', 'J49C', 103.78902339542473], [None, '7D', 'FN05C', 108.54846413524874], [None, '7D', 'FN04C', 115.99717720098768], [None, '7D', 'FN03C', 118.3748573303224], [None, '7D', 'FN02C', 128.45917819839508]]\n"
     ]
    },
    {
     "name": "stderr",
     "output_type": "stream",
     "text": [
      "  1%|          | 9/741 [00:04<05:49,  2.09it/s]"
     ]
    },
    {
     "name": "stdout",
     "output_type": "stream",
     "text": [
      "[[None, '7D', 'FN04C', 279.42118160342943], [None, '7D', 'FN03C', 285.83707069365084], [None, '7D', 'FN01C', 296.38939218011524], [None, '7D', 'FN19C', 306.83440420654244], [None, '7D', 'J49C', 328.578627844657]]\n"
     ]
    },
    {
     "name": "stderr",
     "output_type": "stream",
     "text": [
      "  2%|▏         | 15/741 [00:06<04:45,  2.54it/s]"
     ]
    },
    {
     "name": "stdout",
     "output_type": "stream",
     "text": [
      "[[None, '7D', 'FN05C', 273.6211707544897], [None, '7D', 'J57C', 274.8020556215906], [None, '7D', 'FN19C', 299.77551663080976], [None, '7D', 'J49C', 314.9465997950196]]\n"
     ]
    },
    {
     "name": "stderr",
     "output_type": "stream",
     "text": [
      "  3%|▎         | 22/741 [00:09<05:30,  2.18it/s]"
     ]
    },
    {
     "name": "stdout",
     "output_type": "stream",
     "text": [
      "[[None, '7D', 'FN04C', 92.34875236606594], [None, '7D', 'FN03C', 95.64011460774294], [None, '7D', 'FN05C', 99.2692071842717], [None, '7D', 'FN19C', 113.90733135416848], [None, '7D', 'J49C', 145.85277738350325]]\n"
     ]
    },
    {
     "name": "stderr",
     "output_type": "stream",
     "text": [
      "  4%|▎         | 27/741 [00:11<05:11,  2.30it/s]"
     ]
    },
    {
     "name": "stdout",
     "output_type": "stream",
     "text": [
      "[[None, '7D', 'FN04C', 80.67266919973476], [None, '7D', 'FN03C', 84.70352838729268], [None, '7D', 'J49C', 88.76722119064965], [None, '7D', 'FN02C', 94.15210850912943]]\n"
     ]
    },
    {
     "name": "stderr",
     "output_type": "stream",
     "text": [
      "  5%|▍         | 35/741 [00:15<05:22,  2.19it/s]"
     ]
    },
    {
     "name": "stdout",
     "output_type": "stream",
     "text": [
      "[[None, '7D', 'J49C', 11.808223717308994], [None, '7D', 'FN02C', 62.18231833321236], [None, '7D', 'FN04C', 62.49842647130024], [None, '7D', 'J57C', 76.79422107836824]]\n"
     ]
    },
    {
     "name": "stderr",
     "output_type": "stream",
     "text": [
      "  7%|▋         | 55/741 [00:23<04:59,  2.29it/s]"
     ]
    },
    {
     "name": "stdout",
     "output_type": "stream",
     "text": [
      "[[None, '7D', 'J49C', 0.5674851141674802], [None, '7D', 'FN03C', 51.06498153699624], [None, '7D', 'FN04C', 55.50110614612368], [None, '7D', 'J57C', 72.0161191653594]]\n"
     ]
    },
    {
     "name": "stderr",
     "output_type": "stream",
     "text": [
      "  8%|▊         | 58/741 [00:24<04:57,  2.29it/s]"
     ]
    },
    {
     "name": "stdout",
     "output_type": "stream",
     "text": [
      "[[None, '7D', 'J49C', 98.67456945826038], [None, '7D', 'FN19C', 129.5492168681729], [None, '7D', 'FN01C', 145.96040607339188], [None, '7D', 'FN03C', 148.97451088844826]]\n"
     ]
    },
    {
     "name": "stderr",
     "output_type": "stream",
     "text": [
      "  9%|▉         | 68/741 [00:28<06:09,  1.82it/s]"
     ]
    },
    {
     "name": "stdout",
     "output_type": "stream",
     "text": [
      "[[None, '7D', 'J49C', 130.0275465193925], [None, '7D', 'FN19C', 157.48615491750073], [None, '7D', 'FN03C', 178.22966194596935], [None, '7D', 'FN05C', 179.41740554006873]]\n"
     ]
    },
    {
     "name": "stderr",
     "output_type": "stream",
     "text": [
      "\r",
      "  9%|▉         | 69/741 [00:29<06:13,  1.80it/s]"
     ]
    },
    {
     "name": "stdout",
     "output_type": "stream",
     "text": [
      "[[None, '7D', 'J49C', 219.7507456050767], [None, '7D', 'FN03C', 225.78236090451838], [None, '7D', 'FN19C', 231.44025695577963], [None, '7D', 'FN02C', 235.23561880696525], [None, '7D', 'FN01C', 239.1976678497147]]\n"
     ]
    },
    {
     "name": "stderr",
     "output_type": "stream",
     "text": [
      " 10%|▉         | 74/741 [00:31<04:56,  2.25it/s]"
     ]
    },
    {
     "name": "stdout",
     "output_type": "stream",
     "text": [
      "[[None, '7D', 'FN02C', 102.53285521786054], [None, '7D', 'FN03C', 108.34095729856128], [None, '7D', 'FN19C', 127.39087336402893], [None, '7D', 'J49C', 158.80942181075008]]\n"
     ]
    },
    {
     "name": "stderr",
     "output_type": "stream",
     "text": [
      " 11%|█         | 79/741 [00:33<05:06,  2.16it/s]"
     ]
    },
    {
     "name": "stdout",
     "output_type": "stream",
     "text": [
      "[[None, '7D', 'FN19C', 118.5240104339631], [None, '7D', 'FN02C', 121.49718237046791], [None, '7D', 'FN03C', 128.8402922316914], [None, '7D', 'J49C', 132.40871894892786], [None, '7D', 'FN04C', 134.59259670493273]]\n"
     ]
    },
    {
     "name": "stderr",
     "output_type": "stream",
     "text": [
      " 11%|█▏        | 84/741 [00:36<05:12,  2.10it/s]"
     ]
    },
    {
     "name": "stdout",
     "output_type": "stream",
     "text": [
      "[[None, '7D', 'FN04C', 339.8714509140346], [None, '7D', 'FN05C', 341.299143408301], [None, '7D', 'FN01C', 357.8375579938898], [None, '7D', 'FN19C', 367.072390526293], [None, '7D', 'J49C', 386.44629489781227]]\n"
     ]
    },
    {
     "name": "stderr",
     "output_type": "stream",
     "text": [
      " 13%|█▎        | 93/741 [00:40<04:33,  2.37it/s]"
     ]
    },
    {
     "name": "stdout",
     "output_type": "stream",
     "text": [
      "[[None, '7D', 'J49C', 155.04247239881298], [None, '7D', 'FN19C', 181.73926410440998], [None, '7D', 'FN04C', 187.94783529134654], [None, '7D', 'FN03C', 188.29852358664846]]\n"
     ]
    },
    {
     "name": "stderr",
     "output_type": "stream",
     "text": [
      " 13%|█▎        | 98/741 [00:41<04:07,  2.59it/s]"
     ]
    },
    {
     "name": "stdout",
     "output_type": "stream",
     "text": [
      "[[None, '7D', 'FN04C', 66.58476194993384], [None, '7D', 'FN05C', 67.78071161764849], [None, '7D', 'FN03C', 73.23737463323836], [None, '7D', 'FN19C', 93.5821047178827]]\n"
     ]
    },
    {
     "name": "stderr",
     "output_type": "stream",
     "text": [
      " 16%|█▌        | 117/741 [00:49<04:22,  2.38it/s]"
     ]
    },
    {
     "name": "stdout",
     "output_type": "stream",
     "text": [
      "[[None, '7D', 'FN02C', 266.90397520081876], [None, '7D', 'FN03C', 274.7095174136833], [None, '7D', 'FN05C', 279.4649681012953], [None, '7D', 'FN19C', 290.73839461793864], [None, '7D', 'J49C', 323.5060624232137]]\n"
     ]
    },
    {
     "name": "stderr",
     "output_type": "stream",
     "text": [
      " 16%|█▋        | 122/741 [00:51<04:25,  2.33it/s]"
     ]
    },
    {
     "name": "stdout",
     "output_type": "stream",
     "text": [
      "[[None, '7D', 'J49C', 276.9080618123158], [None, '7D', 'FN19C', 306.76908012673215], [None, '7D', 'FN05C', 308.5727176131311], [None, '7D', 'FN04C', 316.38355126240083], [None, '7D', 'FN02C', 325.62623608755837]]\n"
     ]
    },
    {
     "name": "stderr",
     "output_type": "stream",
     "text": [
      " 17%|█▋        | 124/741 [00:52<04:22,  2.35it/s]"
     ]
    },
    {
     "name": "stdout",
     "output_type": "stream",
     "text": [
      "[[None, '7D', 'FN02C', 210.94722041256958], [None, '7D', 'FN01C', 214.5525884467276], [None, '7D', 'FN03C', 220.52040333203274], [None, '7D', 'FN05C', 228.19682544697582]]\n"
     ]
    },
    {
     "name": "stderr",
     "output_type": "stream",
     "text": [
      "\r",
      " 17%|█▋        | 125/741 [00:53<04:46,  2.15it/s]"
     ]
    },
    {
     "name": "stdout",
     "output_type": "stream",
     "text": [
      "[[None, '7D', 'J49C', 291.66051231945596], [None, '7D', 'FN19C', 321.95805791636406], [None, '7D', 'FN05C', 324.5047116946318], [None, '7D', 'FN03C', 331.7574927505991], [None, '7D', 'FN04C', 332.2938416620285]]\n"
     ]
    },
    {
     "name": "stderr",
     "output_type": "stream",
     "text": [
      " 17%|█▋        | 128/741 [00:54<04:39,  2.19it/s]"
     ]
    },
    {
     "name": "stdout",
     "output_type": "stream",
     "text": [
      "[[None, '7D', 'FN19C', 217.34780940046554], [None, '7D', 'FN03C', 238.4001496420742], [None, '7D', 'FN05C', 240.32859493763175], [None, '7D', 'FN04C', 244.10587340707153]]\n"
     ]
    },
    {
     "name": "stderr",
     "output_type": "stream",
     "text": [
      " 18%|█▊        | 131/741 [00:55<04:25,  2.29it/s]"
     ]
    },
    {
     "name": "stdout",
     "output_type": "stream",
     "text": [
      "[[None, '7D', 'FN05C', 42.329540957914276], [None, '7D', 'FN03C', 51.732261837229316], [None, '7D', 'FN19C', 53.4737191695553], [None, '7D', 'FN01C', 63.08704475783991]]\n"
     ]
    },
    {
     "name": "stderr",
     "output_type": "stream",
     "text": [
      " 19%|█▉        | 141/741 [01:00<04:28,  2.23it/s]"
     ]
    },
    {
     "name": "stdout",
     "output_type": "stream",
     "text": [
      "[[None, '7D', 'J49C', 21.143853260160373], [None, '7D', 'FN19C', 51.407813157826794], [None, '7D', 'FN03C', 70.76520859782944], [None, '7D', 'FN04C', 75.6107380461832]]\n"
     ]
    },
    {
     "name": "stderr",
     "output_type": "stream",
     "text": [
      " 19%|█▉        | 144/741 [01:01<04:36,  2.16it/s]"
     ]
    },
    {
     "name": "stdout",
     "output_type": "stream",
     "text": [
      "[[None, '7D', 'FN05C', 101.17967523326969], [None, '7D', 'FN19C', 102.27763930917818], [None, '7D', 'FN03C', 108.96162957770996], [None, '7D', 'FN04C', 109.00662700745164], [None, '7D', 'FN02C', 118.77609742686647]]\n"
     ]
    },
    {
     "name": "stderr",
     "output_type": "stream",
     "text": [
      "\r",
      " 20%|█▉        | 145/741 [01:02<04:31,  2.20it/s]"
     ]
    },
    {
     "name": "stdout",
     "output_type": "stream",
     "text": [
      "[[None, '7D', 'J49C', 23.320695931015155], [None, '7D', 'FN19C', 55.93974408589403], [None, '7D', 'FN05C', 72.2461056544197], [None, '7D', 'FN04C', 77.87659202759743]]\n"
     ]
    },
    {
     "name": "stderr",
     "output_type": "stream",
     "text": [
      " 20%|█▉        | 147/741 [01:02<04:35,  2.16it/s]"
     ]
    },
    {
     "name": "stdout",
     "output_type": "stream",
     "text": [
      "[[None, '7D', 'FN03C', 241.71653125874917], [None, '7D', 'FN19C', 249.37339575168573], [None, '7D', 'FN05C', 250.34188595538868], [None, '7D', 'J49C', 279.70261505860515]]\n"
     ]
    },
    {
     "name": "stderr",
     "output_type": "stream",
     "text": [
      " 21%|██        | 153/741 [01:05<04:31,  2.17it/s]"
     ]
    },
    {
     "name": "stdout",
     "output_type": "stream",
     "text": [
      "[[None, '7D', 'J49C', 206.9343779857607], [None, '7D', 'FN05C', 221.10630861203984], [None, '7D', 'FN04C', 228.69557295643625], [None, '7D', 'FN19C', 228.82188556471505]]\n"
     ]
    },
    {
     "name": "stderr",
     "output_type": "stream",
     "text": [
      " 21%|██        | 156/741 [01:06<04:17,  2.27it/s]"
     ]
    },
    {
     "name": "stdout",
     "output_type": "stream",
     "text": [
      "[[None, '7D', 'FN04C', 263.9407988531931], [None, '7D', 'FN02C', 275.4975881584821], [None, '7D', 'FN01C', 284.541452101064], [None, '7D', 'J49C', 296.4126801567658]]\n"
     ]
    },
    {
     "name": "stderr",
     "output_type": "stream",
     "text": [
      " 21%|██▏       | 158/741 [01:07<04:12,  2.31it/s]"
     ]
    },
    {
     "name": "stdout",
     "output_type": "stream",
     "text": [
      "[[None, '7D', 'J49C', 356.2562491474671], [None, '7D', 'FN05C', 373.0153353333237], [None, '7D', 'FN19C', 379.95898579975045], [None, '7D', 'FN04C', 380.617261123826], [None, '7D', 'FN01C', 392.91234662411006]]\n"
     ]
    },
    {
     "name": "stderr",
     "output_type": "stream",
     "text": [
      "\r",
      " 21%|██▏       | 159/741 [01:08<04:44,  2.05it/s]"
     ]
    },
    {
     "name": "stdout",
     "output_type": "stream",
     "text": [
      "[[None, '7D', 'J49C', 55.689635162339364], [None, '7D', 'FN19C', 83.10143485465112], [None, '7D', 'FN05C', 86.34280180885116], [None, '7D', 'FN03C', 92.77843335488393], [None, '7D', 'FN04C', 93.94643426120912], [None, '7D', 'FN01C', 98.75626397931998]]\n"
     ]
    },
    {
     "name": "stderr",
     "output_type": "stream",
     "text": [
      " 23%|██▎       | 171/741 [01:13<04:37,  2.05it/s]"
     ]
    },
    {
     "name": "stdout",
     "output_type": "stream",
     "text": [
      "[[None, '7D', 'J49C', 272.4272846856051], [None, '7D', 'FN19C', 299.3781158785241], [None, '7D', 'FN05C', 321.77903737436714], [None, '7D', 'FN02C', 323.5551610832374], [None, '7D', 'FN04C', 325.8686310804999]]\n"
     ]
    },
    {
     "name": "stderr",
     "output_type": "stream",
     "text": [
      " 23%|██▎       | 174/741 [01:14<04:25,  2.14it/s]"
     ]
    },
    {
     "name": "stdout",
     "output_type": "stream",
     "text": [
      "[[None, '7D', 'FN05C', 269.48068346377715], [None, '7D', 'J49C', 278.1247632506653], [None, '7D', 'FN19C', 287.5134704130775], [None, '7D', 'FN02C', 288.9407754429076]]\n"
     ]
    },
    {
     "name": "stderr",
     "output_type": "stream",
     "text": [
      "\r",
      " 24%|██▎       | 175/741 [01:15<04:32,  2.08it/s]"
     ]
    },
    {
     "name": "stdout",
     "output_type": "stream",
     "text": [
      "[[None, '7D', 'FN05C', 71.62210930593349], [None, '7D', 'J49C', 76.86709057922245], [None, '7D', 'FN03C', 81.72983277681477], [None, '7D', 'FN19C', 85.30785128412236], [None, '7D', 'FN02C', 91.69380203983705]]\n"
     ]
    },
    {
     "name": "stderr",
     "output_type": "stream",
     "text": [
      " 25%|██▍       | 183/741 [01:18<03:59,  2.33it/s]"
     ]
    },
    {
     "name": "stdout",
     "output_type": "stream",
     "text": [
      "[[None, '7D', 'FN05C', 51.891462001837404], [None, '7D', 'FN04C', 58.84422311183261], [None, '7D', 'FN19C', 68.36983346772216], [None, '7D', 'FN01C', 75.29704972265915]]\n"
     ]
    },
    {
     "name": "stderr",
     "output_type": "stream",
     "text": [
      " 25%|██▌       | 186/741 [01:20<04:07,  2.24it/s]"
     ]
    },
    {
     "name": "stdout",
     "output_type": "stream",
     "text": [
      "[[None, '7D', 'FN04C', 48.341423166976625], [None, '7D', 'FN03C', 51.32199821004997], [None, '7D', 'FN01C', 53.76075993456262], [None, '7D', 'FN19C', 69.76578711493792], [None, '7D', 'J49C', 101.51287391410094]]\n"
     ]
    },
    {
     "name": "stderr",
     "output_type": "stream",
     "text": [
      " 26%|██▌       | 189/741 [01:21<04:17,  2.14it/s]"
     ]
    },
    {
     "name": "stdout",
     "output_type": "stream",
     "text": [
      "[[None, '7D', 'FN05C', 136.25166865903327], [None, '7D', 'J49C', 141.34370604218347], [None, '7D', 'FN04C', 142.8764644460878], [None, '7D', 'FN03C', 146.64340035850768], [None, '7D', 'FN01C', 159.82661988301882]]\n"
     ]
    },
    {
     "name": "stderr",
     "output_type": "stream",
     "text": [
      " 26%|██▋       | 196/741 [01:24<04:02,  2.25it/s]"
     ]
    },
    {
     "name": "stdout",
     "output_type": "stream",
     "text": [
      "[[None, '7D', 'J49C', 30.788317417719366], [None, '7D', 'FN19C', 58.839667498796956], [None, '7D', 'FN01C', 74.98843229071052], [None, '7D', 'FN02C', 83.67968541651162], [None, '7D', 'FN04C', 84.19314263133026]]\n"
     ]
    },
    {
     "name": "stderr",
     "output_type": "stream",
     "text": [
      " 27%|██▋       | 198/741 [01:25<03:53,  2.33it/s]"
     ]
    },
    {
     "name": "stdout",
     "output_type": "stream",
     "text": [
      "[[None, '7D', 'J49C', 80.07281959133819], [None, '7D', 'FN05C', 116.72835121267754], [None, '7D', 'FN03C', 122.50533685587224], [None, '7D', 'FN04C', 124.18251592984547], [None, '7D', 'FN02C', 131.42569411833162]]\n"
     ]
    },
    {
     "name": "stderr",
     "output_type": "stream",
     "text": [
      " 28%|██▊       | 209/741 [01:31<05:21,  1.66it/s]"
     ]
    },
    {
     "name": "stdout",
     "output_type": "stream",
     "text": [
      "[[None, '7D', 'J49C', 320.4918816241448], [None, '7D', 'FN19C', 348.7558766608681], [None, '7D', 'FN03C', 369.4154453007662], [None, '7D', 'FN02C', 373.24924814971257], [None, '7D', 'FN04C', 374.7205308254182]]\n"
     ]
    },
    {
     "name": "stderr",
     "output_type": "stream",
     "text": [
      " 31%|███       | 230/741 [01:40<03:54,  2.18it/s]"
     ]
    },
    {
     "name": "stdout",
     "output_type": "stream",
     "text": [
      "[[None, '7D', 'FN05C', 228.50019769830118], [None, '7D', 'FN02C', 232.13306098747285], [None, '7D', 'FN01C', 242.52052487595915], [None, '7D', 'FN19C', 253.4231831083823], [None, '7D', 'J49C', 276.2373494638121]]\n"
     ]
    },
    {
     "name": "stderr",
     "output_type": "stream",
     "text": [
      "\r",
      " 31%|███       | 231/741 [01:40<03:46,  2.25it/s]"
     ]
    },
    {
     "name": "stdout",
     "output_type": "stream",
     "text": [
      "[[None, '7D', 'FN05C', 235.46367486053893], [None, '7D', 'FN01C', 257.67865053526106], [None, '7D', 'FN19C', 261.08172712154726], [None, '7D', 'J49C', 270.7242764189601]]\n"
     ]
    },
    {
     "name": "stderr",
     "output_type": "stream",
     "text": [
      "\r",
      " 31%|███▏      | 232/741 [01:40<03:38,  2.33it/s]"
     ]
    },
    {
     "name": "stdout",
     "output_type": "stream",
     "text": [
      "[[None, '7D', 'J49C', 27.38175507398034], [None, '7D', 'FN19C', 59.44204296994435], [None, '7D', 'FN03C', 77.87191772149976], [None, '7D', 'FN04C', 82.27769504486265]]\n"
     ]
    },
    {
     "name": "stderr",
     "output_type": "stream",
     "text": [
      " 32%|███▏      | 237/741 [01:43<03:50,  2.18it/s]"
     ]
    },
    {
     "name": "stdout",
     "output_type": "stream",
     "text": [
      "[[None, '7D', 'J49C', 275.1065419299265], [None, '7D', 'FN19C', 305.60336986841475], [None, '7D', 'FN03C', 325.3448949315805], [None, '7D', 'FN04C', 330.037790479993], [None, '7D', 'FN02C', 330.45336187739815]]\n"
     ]
    },
    {
     "name": "stderr",
     "output_type": "stream",
     "text": [
      " 33%|███▎      | 242/741 [01:45<03:18,  2.51it/s]"
     ]
    },
    {
     "name": "stdout",
     "output_type": "stream",
     "text": [
      "[[None, '7D', 'FN05C', 247.59484335146595], [None, '7D', 'FN03C', 254.08999739413295], [None, '7D', 'FN01C', 259.18218447490295], [None, '7D', 'FN02C', 263.25794750727164]]\n"
     ]
    },
    {
     "name": "stderr",
     "output_type": "stream",
     "text": [
      " 34%|███▍      | 251/741 [01:48<03:05,  2.64it/s]"
     ]
    },
    {
     "name": "stdout",
     "output_type": "stream",
     "text": [
      "[[None, '7D', 'FN02C', 294.885525209649], [None, '7D', 'FN01C', 298.5248692462422], [None, '7D', 'FN04C', 304.13305283241897], [None, '7D', 'FN03C', 304.4179823959856]]\n"
     ]
    },
    {
     "name": "stderr",
     "output_type": "stream",
     "text": [
      "\r",
      " 34%|███▍      | 252/741 [01:49<03:27,  2.36it/s]"
     ]
    },
    {
     "name": "stdout",
     "output_type": "stream",
     "text": [
      "[[None, '7D', 'FN05C', 168.826780025385], [None, '7D', 'FN04C', 169.95288580087472], [None, '7D', 'FN02C', 180.9655695836573], [None, '7D', 'FN19C', 194.76546203741336], [None, '7D', 'J49C', 207.19373974332333]]\n"
     ]
    },
    {
     "name": "stderr",
     "output_type": "stream",
     "text": [
      " 35%|███▌      | 260/741 [01:52<03:21,  2.38it/s]"
     ]
    },
    {
     "name": "stdout",
     "output_type": "stream",
     "text": [
      "[[None, '7D', 'FN04C', 279.15448306976396], [None, '7D', 'FN02C', 291.6325645297601], [None, '7D', 'FN01C', 299.88069883242986], [None, '7D', 'J49C', 304.8981645980156]]\n"
     ]
    },
    {
     "name": "stderr",
     "output_type": "stream",
     "text": [
      " 36%|███▌      | 264/741 [01:54<03:13,  2.47it/s]"
     ]
    },
    {
     "name": "stdout",
     "output_type": "stream",
     "text": [
      "[[None, '7D', 'J49C', 347.7952047075813], [None, '7D', 'FN04C', 386.8978604128442], [None, '7D', 'FN01C', 393.4257215492495], [None, '7D', 'FN02C', 396.3182067641857]]\n"
     ]
    },
    {
     "name": "stderr",
     "output_type": "stream",
     "text": [
      " 37%|███▋      | 272/741 [01:57<03:28,  2.25it/s]"
     ]
    },
    {
     "name": "stdout",
     "output_type": "stream",
     "text": [
      "[[None, '7D', 'J49C', 304.07194913439474], [None, '7D', 'FN05C', 338.239134368083], [None, '7D', 'FN03C', 345.2485807292705], [None, '7D', 'FN01C', 351.0451302424654]]\n"
     ]
    },
    {
     "name": "stderr",
     "output_type": "stream",
     "text": [
      " 38%|███▊      | 281/741 [02:01<03:35,  2.13it/s]"
     ]
    },
    {
     "name": "stdout",
     "output_type": "stream",
     "text": [
      "[[None, '7D', 'J49C', 361.65965937940183], [None, '7D', 'FN05C', 377.8584272015911], [None, '7D', 'FN19C', 385.10333967535126], [None, '7D', 'FN03C', 387.3847133001204], [None, '7D', 'FN02C', 397.5167370763234]]\n"
     ]
    },
    {
     "name": "stderr",
     "output_type": "stream",
     "text": [
      " 39%|███▊      | 286/741 [02:04<03:24,  2.22it/s]"
     ]
    },
    {
     "name": "stdout",
     "output_type": "stream",
     "text": [
      "[[None, '7D', 'J49C', 219.1133822739028], [None, '7D', 'FN05C', 263.8903604450738], [None, '7D', 'FN01C', 269.04104869551077], [None, '7D', 'FN04C', 270.79107399012446], [None, '7D', 'FN02C', 275.5407527038119]]\n"
     ]
    },
    {
     "name": "stderr",
     "output_type": "stream",
     "text": [
      " 39%|███▉      | 290/741 [02:05<03:19,  2.26it/s]"
     ]
    },
    {
     "name": "stdout",
     "output_type": "stream",
     "text": [
      "[[None, '7D', 'FN02C', 312.4292238466456], [None, '7D', 'FN04C', 312.91107409300565], [None, '7D', 'FN05C', 318.62239738741516], [None, '7D', 'FN19C', 337.24283412248917], [None, '7D', 'J49C', 367.81917773159023]]\n"
     ]
    },
    {
     "name": "stderr",
     "output_type": "stream",
     "text": [
      " 40%|███▉      | 294/741 [02:07<03:24,  2.18it/s]"
     ]
    },
    {
     "name": "stdout",
     "output_type": "stream",
     "text": [
      "[[None, '7D', 'J49C', 86.17090665335549], [None, '7D', 'FN19C', 118.91281444600247], [None, '7D', 'FN05C', 130.7832065042333], [None, '7D', 'FN03C', 134.53836003696543], [None, '7D', 'FN04C', 137.55000159669794]]\n"
     ]
    },
    {
     "name": "stderr",
     "output_type": "stream",
     "text": [
      " 40%|████      | 297/741 [02:09<04:18,  1.72it/s]"
     ]
    },
    {
     "name": "stdout",
     "output_type": "stream",
     "text": [
      "[[None, '7D', 'J49C', 351.19133125793377], [None, '7D', 'FN19C', 383.5796821228691], [None, '7D', 'FN03C', 397.12238262462336], [None, '7D', 'FN04C', 398.9895030240382]]\n"
     ]
    },
    {
     "name": "stderr",
     "output_type": "stream",
     "text": [
      "\r",
      " 40%|████      | 298/741 [02:09<04:06,  1.79it/s]"
     ]
    },
    {
     "name": "stdout",
     "output_type": "stream",
     "text": [
      "[[None, '7D', 'FN02C', 344.1890944075029], [None, '7D', 'FN03C', 353.1006729331517], [None, '7D', 'FN05C', 359.48940045816323], [None, '7D', 'FN19C', 366.18269921002974], [None, '7D', 'J49C', 398.70985939788255]]\n"
     ]
    },
    {
     "name": "stderr",
     "output_type": "stream",
     "text": [
      " 41%|████      | 305/741 [02:12<03:05,  2.35it/s]"
     ]
    },
    {
     "name": "stdout",
     "output_type": "stream",
     "text": [
      "[[None, '7D', 'FN02C', 249.23742252452962], [None, '7D', 'FN01C', 253.2790407898224], [None, '7D', 'FN04C', 258.1254537327316], [None, '7D', 'J49C', 301.9852018940664]]\n"
     ]
    },
    {
     "name": "stderr",
     "output_type": "stream",
     "text": [
      " 42%|████▏     | 309/741 [02:14<03:13,  2.23it/s]"
     ]
    },
    {
     "name": "stdout",
     "output_type": "stream",
     "text": [
      "[[None, '7D', 'FN02C', 148.6162805961378], [None, '7D', 'FN04C', 150.45800087040874], [None, '7D', 'FN19C', 173.4722707916136], [None, '7D', 'J49C', 204.8912707097315]]\n"
     ]
    },
    {
     "name": "stderr",
     "output_type": "stream",
     "text": [
      " 43%|████▎     | 315/741 [02:16<02:57,  2.39it/s]"
     ]
    },
    {
     "name": "stdout",
     "output_type": "stream",
     "text": [
      "[[None, '7D', 'FN04C', 124.72980279354934], [None, '7D', 'FN03C', 128.94737578751304], [None, '7D', 'FN05C', 130.884637670901], [None, '7D', 'FN19C', 148.49279167516232], [None, '7D', 'J49C', 179.43290437176415]]\n"
     ]
    },
    {
     "name": "stderr",
     "output_type": "stream",
     "text": [
      "\r",
      " 43%|████▎     | 316/741 [02:17<03:11,  2.21it/s]"
     ]
    },
    {
     "name": "stdout",
     "output_type": "stream",
     "text": [
      "[[None, '7D', 'J49C', 16.64150593155047], [None, '7D', 'FN03C', 59.16915530049344], [None, '7D', 'FN02C', 63.341363403780655], [None, '7D', 'FN04C', 64.68593582200502]]\n"
     ]
    },
    {
     "name": "stderr",
     "output_type": "stream",
     "text": [
      " 43%|████▎     | 322/741 [02:19<02:59,  2.33it/s]"
     ]
    },
    {
     "name": "stdout",
     "output_type": "stream",
     "text": [
      "[[None, '7D', 'FN02C', 257.96914477044066], [None, '7D', 'FN01C', 267.0133237792655], [None, '7D', 'FN19C', 270.1374373578816], [None, '7D', 'J49C', 279.17549647730067]]\n"
     ]
    },
    {
     "name": "stderr",
     "output_type": "stream",
     "text": [
      " 44%|████▎     | 324/741 [02:20<02:44,  2.54it/s]"
     ]
    },
    {
     "name": "stdout",
     "output_type": "stream",
     "text": [
      "[[None, '7D', 'FN04C', 215.0124850375905], [None, '7D', 'FN19C', 235.1688363964447], [None, '7D', 'J49C', 237.97115425191802]]\n"
     ]
    },
    {
     "name": "stderr",
     "output_type": "stream",
     "text": [
      " 44%|████▍     | 329/741 [02:22<03:05,  2.22it/s]"
     ]
    },
    {
     "name": "stdout",
     "output_type": "stream",
     "text": [
      "[[None, '7D', 'FN02C', 84.82999671974595], [None, '7D', 'FN03C', 94.88115213435462], [None, '7D', 'FN04C', 97.72887823955635], [None, '7D', 'FN19C', 97.8662709644404], [None, '7D', 'J49C', 126.6578782456743]]\n"
     ]
    },
    {
     "name": "stderr",
     "output_type": "stream",
     "text": [
      " 47%|████▋     | 347/741 [02:31<03:28,  1.89it/s]"
     ]
    },
    {
     "name": "stdout",
     "output_type": "stream",
     "text": [
      "[[None, '7D', 'J49C', 152.96905212208407], [None, '7D', 'FN19C', 173.4601255897967], [None, '7D', 'FN03C', 194.62826512116743], [None, '7D', 'FN02C', 195.75221523708365], [None, '7D', 'FN04C', 200.88276665944647]]\n"
     ]
    },
    {
     "name": "stderr",
     "output_type": "stream",
     "text": [
      " 47%|████▋     | 350/741 [02:32<03:01,  2.15it/s]"
     ]
    },
    {
     "name": "stdout",
     "output_type": "stream",
     "text": [
      "[[None, '7D', 'FN05C', 49.12768309638308], [None, '7D', 'FN19C', 68.30355411122805], [None, '7D', 'J49C', 70.43481922454681], [None, '7D', 'FN01C', 73.3503303845093]]\n"
     ]
    },
    {
     "name": "stderr",
     "output_type": "stream",
     "text": [
      " 48%|████▊     | 357/741 [02:35<02:18,  2.76it/s]"
     ]
    },
    {
     "name": "stdout",
     "output_type": "stream",
     "text": [
      "[[None, '7D', 'FN05C', 123.49889870368983], [None, '7D', 'FN04C', 125.74835992270644], [None, '7D', 'FN01C', 146.4650581010758], [None, '7D', 'FN19C', 148.82507496861427]]\n"
     ]
    },
    {
     "name": "stderr",
     "output_type": "stream",
     "text": [
      " 48%|████▊     | 359/741 [02:35<02:17,  2.78it/s]"
     ]
    },
    {
     "name": "stdout",
     "output_type": "stream",
     "text": [
      "[[None, '7D', 'FN05C', 58.5421543592244], [None, '7D', 'J49C', 65.86126209694343], [None, '7D', 'FN04C', 65.87426911493922], [None, '7D', 'FN01C', 80.90398542495515]]\n"
     ]
    },
    {
     "name": "stderr",
     "output_type": "stream",
     "text": [
      " 49%|████▊     | 361/741 [02:36<02:34,  2.45it/s]"
     ]
    },
    {
     "name": "stdout",
     "output_type": "stream",
     "text": [
      "[[None, '7D', 'FN01C', 323.6977127112716], [None, '7D', 'FN04C', 327.23353060654506], [None, '7D', 'FN03C', 328.20709167162516], [None, '7D', 'FN19C', 340.5448353568665], [None, '7D', 'J49C', 372.87878078425865]]\n"
     ]
    },
    {
     "name": "stderr",
     "output_type": "stream",
     "text": [
      "\r",
      " 49%|████▉     | 362/741 [02:37<02:49,  2.23it/s]"
     ]
    },
    {
     "name": "stdout",
     "output_type": "stream",
     "text": [
      "[[None, '7D', 'J49C', 30.755144086725352], [None, '7D', 'FN19C', 54.779229642701985], [None, '7D', 'FN05C', 58.73549775787924], [None, '7D', 'FN04C', 66.13342944239557], [None, '7D', 'FN01C', 70.23478596795434]]\n"
     ]
    },
    {
     "name": "stderr",
     "output_type": "stream",
     "text": [
      " 49%|████▉     | 364/741 [02:38<02:45,  2.28it/s]"
     ]
    },
    {
     "name": "stdout",
     "output_type": "stream",
     "text": [
      "[[None, '7D', 'J49C', 123.72001228504976], [None, '7D', 'FN01C', 160.96940325434696], [None, '7D', 'FN02C', 170.94507178835656], [None, '7D', 'FN04C', 174.51968217155755]]\n"
     ]
    },
    {
     "name": "stderr",
     "output_type": "stream",
     "text": [
      " 50%|█████     | 374/741 [02:42<02:44,  2.23it/s]"
     ]
    },
    {
     "name": "stdout",
     "output_type": "stream",
     "text": [
      "[[None, '7D', 'FN04C', 347.04627130940895], [None, '7D', 'FN02C', 353.21350301138796], [None, '7D', 'FN03C', 353.3992152575076], [None, '7D', 'FN01C', 363.6001864249912], [None, '7D', 'J49C', 396.71455696081927]]\n"
     ]
    },
    {
     "name": "stderr",
     "output_type": "stream",
     "text": [
      " 51%|█████     | 376/741 [02:43<02:56,  2.07it/s]"
     ]
    },
    {
     "name": "stdout",
     "output_type": "stream",
     "text": [
      "[[None, '7D', 'FN01C', 91.74111714794746], [None, '7D', 'J49C', 96.02316878506866], [None, '7D', 'FN02C', 101.08810576583923], [None, '7D', 'FN04C', 112.31196023215504], [None, '7D', 'FN05C', 114.52284989589336]]\n"
     ]
    },
    {
     "name": "stderr",
     "output_type": "stream",
     "text": [
      " 51%|█████▏    | 381/741 [02:45<02:30,  2.39it/s]"
     ]
    },
    {
     "name": "stdout",
     "output_type": "stream",
     "text": [
      "[[None, '7D', 'FN03C', 393.7706757473366], [None, '7D', 'FN05C', 393.89382330198487], [None, '7D', 'FN02C', 398.1676478524301], [None, '7D', 'FN04C', 398.8127515889144]]\n"
     ]
    },
    {
     "name": "stderr",
     "output_type": "stream",
     "text": [
      " 52%|█████▏    | 383/741 [02:46<02:29,  2.40it/s]"
     ]
    },
    {
     "name": "stdout",
     "output_type": "stream",
     "text": [
      "[[None, '7D', 'FN05C', 139.21200705153524], [None, '7D', 'FN04C', 141.00497673063597], [None, '7D', 'FN01C', 161.63393833404814], [None, '7D', 'J49C', 175.72012878211936]]\n"
     ]
    },
    {
     "name": "stderr",
     "output_type": "stream",
     "text": [
      "\r",
      " 52%|█████▏    | 384/741 [02:46<02:39,  2.24it/s]"
     ]
    },
    {
     "name": "stdout",
     "output_type": "stream",
     "text": [
      "[[None, '7D', 'J49C', 12.60136688231937], [None, '7D', 'FN01C', 53.92247984599637], [None, '7D', 'FN03C', 57.57387494549043], [None, '7D', 'FN05C', 58.734469587608956], [None, '7D', 'FN04C', 62.84000018719498]]\n"
     ]
    },
    {
     "name": "stderr",
     "output_type": "stream",
     "text": [
      " 53%|█████▎    | 396/741 [02:51<02:21,  2.45it/s]"
     ]
    },
    {
     "name": "stdout",
     "output_type": "stream",
     "text": [
      "[[None, '7D', 'FN05C', 262.7315458169644], [None, '7D', 'FN04C', 265.6361442848044], [None, '7D', 'FN03C', 271.9028971468346], [None, '7D', 'J49C', 291.712783007374]]\n"
     ]
    },
    {
     "name": "stderr",
     "output_type": "stream",
     "text": [
      " 56%|█████▌    | 412/741 [02:57<02:23,  2.29it/s]"
     ]
    },
    {
     "name": "stdout",
     "output_type": "stream",
     "text": [
      "[[None, '7D', 'FN04C', 312.5171522092492], [None, '7D', 'FN01C', 314.2446630907752], [None, '7D', 'FN05C', 319.7072053316369], [None, '7D', 'J49C', 364.0659911399364]]\n"
     ]
    },
    {
     "name": "stderr",
     "output_type": "stream",
     "text": [
      " 56%|█████▌    | 414/741 [02:59<02:39,  2.05it/s]"
     ]
    },
    {
     "name": "stdout",
     "output_type": "stream",
     "text": [
      "[[None, '7D', 'FN04C', 223.2774272449055], [None, '7D', 'J49C', 227.94723630569055], [None, '7D', 'FN03C', 227.95653658342044], [None, '7D', 'FN19C', 235.98811883344626], [None, '7D', 'FN02C', 236.91306176572877]]\n"
     ]
    },
    {
     "name": "stderr",
     "output_type": "stream",
     "text": [
      " 56%|█████▌    | 416/741 [02:59<02:34,  2.10it/s]"
     ]
    },
    {
     "name": "stdout",
     "output_type": "stream",
     "text": [
      "[[None, '7D', 'J49C', 331.4161224593212], [None, '7D', 'FN19C', 359.9043996505876], [None, '7D', 'FN01C', 374.99409005487604], [None, '7D', 'FN03C', 380.5034950098398], [None, '7D', 'FN02C', 384.4458263783333]]\n"
     ]
    },
    {
     "name": "stderr",
     "output_type": "stream",
     "text": [
      " 56%|█████▋    | 418/741 [03:00<02:21,  2.29it/s]"
     ]
    },
    {
     "name": "stdout",
     "output_type": "stream",
     "text": [
      "[[None, '7D', 'FN02C', 105.42623147995444], [None, '7D', 'FN04C', 110.55860271688312], [None, '7D', 'FN01C', 112.71510233610252], [None, '7D', 'FN05C', 117.88710094415177]]\n"
     ]
    },
    {
     "name": "stderr",
     "output_type": "stream",
     "text": [
      " 57%|█████▋    | 420/741 [03:01<02:14,  2.39it/s]"
     ]
    },
    {
     "name": "stdout",
     "output_type": "stream",
     "text": [
      "[[None, '7D', 'FN02C', 307.5279717362738], [None, '7D', 'FN01C', 312.1599177183027], [None, '7D', 'FN19C', 329.01375839143], [None, '7D', 'J49C', 361.3615515455068]]\n"
     ]
    },
    {
     "name": "stderr",
     "output_type": "stream",
     "text": [
      " 57%|█████▋    | 424/741 [03:03<02:03,  2.56it/s]"
     ]
    },
    {
     "name": "stdout",
     "output_type": "stream",
     "text": [
      "[[None, '7D', 'J49C', 3.1228584523463243], [None, '7D', 'FN04C', 51.81373998326627], [None, '7D', 'FN02C', 53.86271234459323]]\n"
     ]
    },
    {
     "name": "stderr",
     "output_type": "stream",
     "text": [
      " 58%|█████▊    | 428/741 [03:05<02:23,  2.18it/s]"
     ]
    },
    {
     "name": "stdout",
     "output_type": "stream",
     "text": [
      "[[None, '7D', 'J49C', 211.14286227559057], [None, '7D', 'FN04C', 227.4938089936687], [None, '7D', 'FN19C', 230.3709599504254], [None, '7D', 'FN02C', 240.12540574156552], [None, '7D', 'J57C', 247.75805660835897]]\n"
     ]
    },
    {
     "name": "stderr",
     "output_type": "stream",
     "text": [
      " 58%|█████▊    | 433/741 [03:07<02:12,  2.33it/s]"
     ]
    },
    {
     "name": "stdout",
     "output_type": "stream",
     "text": [
      "[[None, '7D', 'FN02C', 115.31681804763863], [None, '7D', 'FN04C', 125.37838269361512], [None, '7D', 'FN19C', 135.0743590430272], [None, '7D', 'J49C', 166.97636317611756]]\n"
     ]
    },
    {
     "name": "stderr",
     "output_type": "stream",
     "text": [
      "\r",
      " 59%|█████▊    | 434/741 [03:07<02:08,  2.39it/s]"
     ]
    },
    {
     "name": "stdout",
     "output_type": "stream",
     "text": [
      "[[None, '7D', 'FN19C', 153.94694269209322], [None, '7D', 'FN03C', 167.6163845000707], [None, '7D', 'FN04C', 169.78544385772398], [None, '7D', 'FN01C', 170.83878846741598]]\n"
     ]
    },
    {
     "name": "stderr",
     "output_type": "stream",
     "text": [
      "\r",
      " 59%|█████▊    | 435/741 [03:08<02:16,  2.25it/s]"
     ]
    },
    {
     "name": "stdout",
     "output_type": "stream",
     "text": [
      "[[None, '7D', 'J49C', 59.46845639911333], [None, '7D', 'FN03C', 62.38067066617358], [None, '7D', 'FN19C', 65.43523762653908], [None, '7D', 'FN02C', 72.44163347651059], [None, '7D', 'FN01C', 74.41694025125602]]\n"
     ]
    },
    {
     "name": "stderr",
     "output_type": "stream",
     "text": [
      "\r",
      " 59%|█████▉    | 436/741 [03:08<02:13,  2.29it/s]"
     ]
    },
    {
     "name": "stdout",
     "output_type": "stream",
     "text": [
      "[[None, '7D', 'FN19C', 95.47805149465415], [None, '7D', 'FN03C', 102.10422081398328], [None, '7D', 'FN04C', 107.25531877312247], [None, '7D', 'FN05C', 112.47475393692571]]\n"
     ]
    },
    {
     "name": "stderr",
     "output_type": "stream",
     "text": [
      " 59%|█████▉    | 438/741 [03:09<02:13,  2.27it/s]"
     ]
    },
    {
     "name": "stdout",
     "output_type": "stream",
     "text": [
      "[[None, '7D', 'J49C', 328.19488985208494], [None, '7D', 'FN04C', 342.26267695631594], [None, '7D', 'FN03C', 345.3028778203091], [None, '7D', 'FN19C', 346.8268660264453]]\n"
     ]
    },
    {
     "name": "stderr",
     "output_type": "stream",
     "text": [
      "\r",
      " 59%|█████▉    | 439/741 [03:09<02:07,  2.37it/s]"
     ]
    },
    {
     "name": "stdout",
     "output_type": "stream",
     "text": [
      "[[None, '7D', 'J49C', 10.360901287818907], [None, '7D', 'FN02C', 59.672850255465384], [None, '7D', 'FN04C', 59.967164783786714], [None, '7D', 'J57C', 74.28915835850268]]\n"
     ]
    },
    {
     "name": "stderr",
     "output_type": "stream",
     "text": [
      " 60%|█████▉    | 443/741 [03:11<02:14,  2.22it/s]"
     ]
    },
    {
     "name": "stdout",
     "output_type": "stream",
     "text": [
      "[[None, '7D', 'J49C', 194.55724161419448], [None, '7D', 'FN19C', 216.41964470209317], [None, '7D', 'FN04C', 216.4493929827037], [None, '7D', 'FN03C', 218.33239910530529], [None, '7D', 'J57C', 237.33156933926838]]\n"
     ]
    },
    {
     "name": "stderr",
     "output_type": "stream",
     "text": [
      " 60%|██████    | 445/741 [03:12<02:09,  2.29it/s]"
     ]
    },
    {
     "name": "stdout",
     "output_type": "stream",
     "text": [
      "[[None, '7D', 'J49C', 12.03782541419871], [None, '7D', 'FN03C', 52.002315999073836], [None, '7D', 'FN02C', 56.50231899325373], [None, '7D', 'FN04C', 57.43560377001035]]\n"
     ]
    },
    {
     "name": "stderr",
     "output_type": "stream",
     "text": [
      "\r",
      " 60%|██████    | 446/741 [03:12<02:05,  2.34it/s]"
     ]
    },
    {
     "name": "stdout",
     "output_type": "stream",
     "text": [
      "[[None, '7D', 'J57C', 217.16911630080787], [None, '7D', 'FN19C', 245.95293437009974], [None, '7D', 'FN05C', 246.32834924470356], [None, '7D', 'J49C', 276.5556225211873]]\n"
     ]
    },
    {
     "name": "stderr",
     "output_type": "stream",
     "text": [
      " 60%|██████    | 448/741 [03:13<02:05,  2.33it/s]"
     ]
    },
    {
     "name": "stdout",
     "output_type": "stream",
     "text": [
      "[[None, '7D', 'FN19C', 94.72030258126678], [None, '7D', 'J49C', 102.37619947492446], [None, '7D', 'FN02C', 103.95450945763874], [None, '7D', 'FN05C', 118.33031196577184]]\n"
     ]
    },
    {
     "name": "stderr",
     "output_type": "stream",
     "text": [
      " 61%|██████    | 451/741 [03:14<02:09,  2.25it/s]"
     ]
    },
    {
     "name": "stdout",
     "output_type": "stream",
     "text": [
      "[[None, '7D', 'FN02C', 44.476779775737405], [None, '7D', 'FN03C', 51.17585268023261], [None, '7D', 'FN05C', 61.14458889725591], [None, '7D', 'J49C', 65.78849760613718]]\n"
     ]
    },
    {
     "name": "stderr",
     "output_type": "stream",
     "text": [
      " 63%|██████▎   | 465/741 [03:21<01:52,  2.46it/s]"
     ]
    },
    {
     "name": "stdout",
     "output_type": "stream",
     "text": [
      "[[None, '7D', 'J49C', 39.02099468351668], [None, '7D', 'FN19C', 62.06787767797145], [None, '7D', 'FN01C', 76.9070497678693], [None, '7D', 'FN05C', 85.37305633105574]]\n"
     ]
    },
    {
     "name": "stderr",
     "output_type": "stream",
     "text": [
      " 63%|██████▎   | 467/741 [03:22<01:48,  2.52it/s]"
     ]
    },
    {
     "name": "stdout",
     "output_type": "stream",
     "text": [
      "[[None, '7D', 'J49C', 13.57955028706745], [None, '7D', 'FN03C', 59.82485041329908], [None, '7D', 'FN04C', 65.03022635921738]]\n"
     ]
    },
    {
     "name": "stderr",
     "output_type": "stream",
     "text": [
      " 63%|██████▎   | 469/741 [03:23<01:59,  2.28it/s]"
     ]
    },
    {
     "name": "stdout",
     "output_type": "stream",
     "text": [
      "[[None, '7D', 'J49C', 350.81736654265455], [None, '7D', 'FN19C', 381.68259135592075], [None, '7D', 'FN05C', 385.1694530191763], [None, '7D', 'FN04C', 392.92749179644886], [None, '7D', 'FN01C', 397.93903234804975]]\n"
     ]
    },
    {
     "name": "stderr",
     "output_type": "stream",
     "text": [
      " 65%|██████▌   | 483/741 [03:29<03:04,  1.40it/s]"
     ]
    },
    {
     "name": "stdout",
     "output_type": "stream",
     "text": [
      "[[None, '7D', 'FN05C', 95.83290349949678], [None, '7D', 'FN04C', 101.46580254701611], [None, '7D', 'FN03C', 106.23850222084255], [None, '7D', 'J49C', 113.94389075034024]]\n"
     ]
    },
    {
     "name": "stderr",
     "output_type": "stream",
     "text": [
      " 66%|██████▌   | 488/741 [03:32<01:58,  2.14it/s]"
     ]
    },
    {
     "name": "stdout",
     "output_type": "stream",
     "text": [
      "[[None, '7D', 'J49C', 350.34531258205493], [None, '7D', 'FN05C', 387.65819819161976], [None, '7D', 'FN03C', 394.0229286817933], [None, '7D', 'FN04C', 395.2971375178198], [None, '7D', 'FN01C', 398.69211467283486]]\n"
     ]
    },
    {
     "name": "stderr",
     "output_type": "stream",
     "text": [
      " 67%|██████▋   | 494/741 [03:34<01:46,  2.32it/s]"
     ]
    },
    {
     "name": "stdout",
     "output_type": "stream",
     "text": [
      "[[None, '7D', 'FN04C', 343.1510393229161], [None, '7D', 'FN03C', 343.69338524695087], [None, '7D', 'FN05C', 350.95834347824996], [None, '7D', 'FN19C', 354.8794897346096], [None, '7D', 'J49C', 386.7995925627161]]\n"
     ]
    },
    {
     "name": "stderr",
     "output_type": "stream",
     "text": [
      " 68%|██████▊   | 501/741 [03:37<01:32,  2.61it/s]"
     ]
    },
    {
     "name": "stdout",
     "output_type": "stream",
     "text": [
      "[[None, '7D', 'J49C', 320.3157548188699], [None, '7D', 'FN04C', 336.7901260163655], [None, '7D', 'FN19C', 340.1311423873923], [None, '7D', 'FN02C', 349.58116948222187]]\n"
     ]
    },
    {
     "name": "stderr",
     "output_type": "stream",
     "text": [
      " 68%|██████▊   | 503/741 [03:37<01:25,  2.78it/s]"
     ]
    },
    {
     "name": "stdout",
     "output_type": "stream",
     "text": [
      "[[None, '7D', 'FN02C', 297.4946308218659], [None, '7D', 'FN03C', 307.08593507922154], [None, '7D', 'J49C', 348.9095817132373]]\n"
     ]
    },
    {
     "name": "stderr",
     "output_type": "stream",
     "text": [
      " 69%|██████▉   | 513/741 [03:42<01:49,  2.08it/s]"
     ]
    },
    {
     "name": "stdout",
     "output_type": "stream",
     "text": [
      "[[None, '7D', 'FN19C', 129.71419809044002], [None, '7D', 'J49C', 140.6884023943975], [None, '7D', 'FN03C', 141.49069555093746], [None, '7D', 'FN04C', 147.46385688197628], [None, '7D', 'FN05C', 151.29337015332223]]\n"
     ]
    },
    {
     "name": "stderr",
     "output_type": "stream",
     "text": [
      "\r",
      " 69%|██████▉   | 514/741 [03:43<01:50,  2.05it/s]"
     ]
    },
    {
     "name": "stdout",
     "output_type": "stream",
     "text": [
      "[[None, '7D', 'J49C', 27.31392122241391], [None, '7D', 'FN19C', 58.8154936591434], [None, '7D', 'FN05C', 69.83210570703324], [None, '7D', 'FN04C', 76.45167255174928], [None, '7D', 'FN02C', 81.31722836818501]]\n"
     ]
    },
    {
     "name": "stderr",
     "output_type": "stream",
     "text": [
      " 70%|██████▉   | 518/741 [03:45<01:46,  2.09it/s]"
     ]
    },
    {
     "name": "stdout",
     "output_type": "stream",
     "text": [
      "[[None, '7D', 'J49C', 199.90438663676824], [None, '7D', 'FN05C', 202.99649033654848], [None, '7D', 'FN03C', 213.2092199017581], [None, '7D', 'FN19C', 215.81051183293673], [None, '7D', 'FN02C', 223.09814164225494]]\n"
     ]
    },
    {
     "name": "stderr",
     "output_type": "stream",
     "text": [
      " 70%|███████   | 520/741 [03:45<01:45,  2.09it/s]"
     ]
    },
    {
     "name": "stdout",
     "output_type": "stream",
     "text": [
      "[[None, '7D', 'J49C', 53.616671944249205], [None, '7D', 'FN05C', 64.55097447773915], [None, '7D', 'FN04C', 72.39223080167135], [None, '7D', 'FN02C', 83.12309088877684]]\n"
     ]
    },
    {
     "name": "stderr",
     "output_type": "stream",
     "text": [
      " 70%|███████   | 522/741 [03:46<01:37,  2.25it/s]"
     ]
    },
    {
     "name": "stdout",
     "output_type": "stream",
     "text": [
      "[[None, '7D', 'FN19C', 50.835040122020615], [None, '7D', 'FN04C', 62.26041163604936], [None, '7D', 'FN05C', 67.1354053310689], [None, '7D', 'J49C', 75.45011729259798]]\n"
     ]
    },
    {
     "name": "stderr",
     "output_type": "stream",
     "text": [
      " 71%|███████▏  | 529/741 [03:49<01:34,  2.23it/s]"
     ]
    },
    {
     "name": "stdout",
     "output_type": "stream",
     "text": [
      "[[None, '7D', 'FN01C', 288.0066437026979], [None, '7D', 'FN04C', 294.40258667849236], [None, '7D', 'FN05C', 302.24609215241827], [None, '7D', 'J49C', 335.6910973953311]]\n"
     ]
    },
    {
     "name": "stderr",
     "output_type": "stream",
     "text": [
      "\r",
      " 72%|███████▏  | 530/741 [03:50<01:37,  2.17it/s]"
     ]
    },
    {
     "name": "stdout",
     "output_type": "stream",
     "text": [
      "[[None, '7D', 'FN05C', 110.4032007815209], [None, '7D', 'FN04C', 116.65078652281628], [None, '7D', 'FN03C', 120.85580332374917], [None, '7D', 'J49C', 121.63647067150187], [None, '7D', 'FN01C', 134.5161662730066]]\n"
     ]
    },
    {
     "name": "stderr",
     "output_type": "stream",
     "text": [
      " 72%|███████▏  | 537/741 [03:52<01:27,  2.32it/s]"
     ]
    },
    {
     "name": "stdout",
     "output_type": "stream",
     "text": [
      "[[None, '7D', 'FN05C', 143.54935358110805], [None, '7D', 'FN04C', 146.5616380427895], [None, '7D', 'FN02C', 159.20064939800108], [None, '7D', 'FN19C', 168.06798338928917], [None, '7D', 'J49C', 174.54762533784384]]\n"
     ]
    },
    {
     "name": "stderr",
     "output_type": "stream",
     "text": [
      " 73%|███████▎  | 542/741 [03:55<01:23,  2.38it/s]"
     ]
    },
    {
     "name": "stdout",
     "output_type": "stream",
     "text": [
      "[[None, '7D', 'J49C', 5.401104256396144], [None, '7D', 'FN05C', 54.56127313598783], [None, '7D', 'FN04C', 59.9557242628789], [None, '7D', 'FN02C', 62.24101983246773]]\n"
     ]
    },
    {
     "name": "stderr",
     "output_type": "stream",
     "text": [
      "\r",
      " 73%|███████▎  | 543/741 [03:55<01:20,  2.45it/s]"
     ]
    },
    {
     "name": "stdout",
     "output_type": "stream",
     "text": [
      "[[None, '7D', 'FN04C', 304.70960662595996], [None, '7D', 'FN03C', 309.62690333414446], [None, '7D', 'FN19C', 329.9554324110382], [None, '7D', 'J49C', 359.5969720599864]]\n"
     ]
    },
    {
     "name": "stderr",
     "output_type": "stream",
     "text": [
      " 74%|███████▍  | 549/741 [03:57<01:23,  2.31it/s]"
     ]
    },
    {
     "name": "stdout",
     "output_type": "stream",
     "text": [
      "[[None, '7D', 'FN04C', 46.32931952684432], [None, '7D', 'FN05C', 50.46129290032036], [None, '7D', 'FN03C', 52.27217314178742], [None, '7D', 'FN01C', 61.999402737879734], [None, '7D', 'J49C', 100.22605407189681]]\n"
     ]
    },
    {
     "name": "stderr",
     "output_type": "stream",
     "text": [
      " 75%|███████▍  | 553/741 [03:59<01:33,  2.01it/s]"
     ]
    },
    {
     "name": "stdout",
     "output_type": "stream",
     "text": [
      "[[None, '7D', 'FN05C', 286.60649601409693], [None, '7D', 'FN03C', 293.88020202270206], [None, '7D', 'FN04C', 294.39698781625407], [None, '7D', 'FN02C', 303.4097581296149]]\n"
     ]
    },
    {
     "name": "stderr",
     "output_type": "stream",
     "text": [
      " 75%|███████▌  | 557/741 [04:01<01:30,  2.04it/s]"
     ]
    },
    {
     "name": "stdout",
     "output_type": "stream",
     "text": [
      "[[None, '7D', 'J49C', 341.6420664674245], [None, '7D', 'FN05C', 360.0117552154411], [None, '7D', 'FN19C', 366.07926151092613], [None, '7D', 'FN03C', 369.3215290111304], [None, '7D', 'FN02C', 379.45040682808764]]\n"
     ]
    },
    {
     "name": "stderr",
     "output_type": "stream",
     "text": [
      " 76%|███████▌  | 562/741 [04:04<01:16,  2.34it/s]"
     ]
    },
    {
     "name": "stdout",
     "output_type": "stream",
     "text": [
      "[[None, '7D', 'FN02C', 165.91727730956134], [None, '7D', 'FN01C', 168.144611655987], [None, '7D', 'FN04C', 176.6761006832222], [None, '7D', 'J49C', 214.78604170079186]]\n"
     ]
    },
    {
     "name": "stderr",
     "output_type": "stream",
     "text": [
      " 77%|███████▋  | 567/741 [04:06<01:12,  2.39it/s]"
     ]
    },
    {
     "name": "stdout",
     "output_type": "stream",
     "text": [
      "[[None, '7D', 'FN02C', 105.77984026381932], [None, '7D', 'FN04C', 115.67376010019419], [None, '7D', 'FN05C', 123.5147931007558], [None, '7D', 'FN19C', 125.91446945004405], [None, '7D', 'J49C', 158.00844696481298]]\n"
     ]
    },
    {
     "name": "stderr",
     "output_type": "stream",
     "text": [
      " 78%|███████▊  | 575/741 [04:09<01:19,  2.08it/s]"
     ]
    },
    {
     "name": "stdout",
     "output_type": "stream",
     "text": [
      "[[None, '7D', 'J49C', 307.9842059074445], [None, '7D', 'FN05C', 325.2738384648463], [None, '7D', 'FN19C', 331.8267153513876], [None, '7D', 'FN04C', 332.91421837093515], [None, '7D', 'FN01C', 344.91677599517953]]\n"
     ]
    },
    {
     "name": "stderr",
     "output_type": "stream",
     "text": [
      "\r",
      " 78%|███████▊  | 576/741 [04:10<01:19,  2.08it/s]"
     ]
    },
    {
     "name": "stdout",
     "output_type": "stream",
     "text": [
      "[[None, '7D', 'FN02C', 89.7021693408011], [None, '7D', 'FN04C', 92.30761910983567], [None, '7D', 'FN01C', 98.34719937927997], [None, '7D', 'FN05C', 99.05862844744483], [None, '7D', 'J49C', 146.22864750052835]]\n"
     ]
    },
    {
     "name": "stderr",
     "output_type": "stream",
     "text": [
      " 80%|███████▉  | 590/741 [04:16<01:07,  2.23it/s]"
     ]
    },
    {
     "name": "stdout",
     "output_type": "stream",
     "text": [
      "[[None, '7D', 'J49C', 30.187248792039515], [None, '7D', 'FN19C', 61.01686451225868], [None, '7D', 'FN05C', 79.96855713529122], [None, '7D', 'FN02C', 85.80375032635688], [None, '7D', 'J57C', 100.43719764808807]]\n"
     ]
    },
    {
     "name": "stderr",
     "output_type": "stream",
     "text": [
      " 80%|███████▉  | 592/741 [04:16<01:10,  2.12it/s]"
     ]
    },
    {
     "name": "stdout",
     "output_type": "stream",
     "text": [
      "[[None, '7D', 'J49C', 328.19488985208494], [None, '7D', 'FN05C', 335.1638837101156], [None, '7D', 'FN04C', 342.26267695631594], [None, '7D', 'FN19C', 346.8268660264453], [None, '7D', 'FN02C', 355.25368497433146]]\n"
     ]
    },
    {
     "name": "stderr",
     "output_type": "stream",
     "text": [
      " 82%|████████▏ | 605/741 [04:22<01:00,  2.26it/s]"
     ]
    },
    {
     "name": "stdout",
     "output_type": "stream",
     "text": [
      "[[None, '7D', 'J49C', 137.19551447661266], [None, '7D', 'FN05C', 175.75133362326454], [None, '7D', 'FN03C', 181.46587914767392], [None, '7D', 'FN04C', 183.20931916890535], [None, '7D', 'FN02C', 190.26610878727007]]\n"
     ]
    },
    {
     "name": "stderr",
     "output_type": "stream",
     "text": [
      " 83%|████████▎ | 612/741 [04:25<00:59,  2.16it/s]"
     ]
    },
    {
     "name": "stdout",
     "output_type": "stream",
     "text": [
      "[[None, '7D', 'J49C', 258.14834647336727], [None, '7D', 'FN05C', 280.0856597911434], [None, '7D', 'FN19C', 283.9989313500685], [None, '7D', 'FN03C', 288.92203563455763], [None, '7D', 'FN02C', 298.98685653020704]]\n"
     ]
    },
    {
     "name": "stderr",
     "output_type": "stream",
     "text": [
      " 83%|████████▎ | 616/741 [04:27<00:57,  2.16it/s]"
     ]
    },
    {
     "name": "stdout",
     "output_type": "stream",
     "text": [
      "[[None, '7D', 'J49C', 4.152184280865839], [None, '7D', 'FN05C', 53.70417995288225], [None, '7D', 'FN03C', 54.61259076984947], [None, '7D', 'FN04C', 58.982877586798416], [None, '7D', 'FN02C', 61.05040882921625]]\n"
     ]
    },
    {
     "name": "stderr",
     "output_type": "stream",
     "text": [
      "\r",
      " 83%|████████▎ | 617/741 [04:27<00:55,  2.22it/s]"
     ]
    },
    {
     "name": "stdout",
     "output_type": "stream",
     "text": [
      "[[None, '7D', 'FN19C', 376.37481604790224], [None, '7D', 'FN05C', 383.7543188412504], [None, '7D', 'FN01C', 393.2482323983948], [None, '7D', 'FN02C', 398.26226466156453]]\n"
     ]
    },
    {
     "name": "stderr",
     "output_type": "stream",
     "text": [
      " 84%|████████▎ | 620/741 [04:29<01:09,  1.75it/s]"
     ]
    },
    {
     "name": "stdout",
     "output_type": "stream",
     "text": [
      "[[None, '7D', 'J49C', 250.6383766836935], [None, '7D', 'FN05C', 262.11597612334134], [None, '7D', 'FN04C', 269.54256444451164], [None, '7D', 'FN03C', 271.9181517769802], [None, '7D', 'FN02C', 282.01443093510585]]\n"
     ]
    },
    {
     "name": "stderr",
     "output_type": "stream",
     "text": [
      " 84%|████████▍ | 626/741 [04:31<00:51,  2.22it/s]"
     ]
    },
    {
     "name": "stdout",
     "output_type": "stream",
     "text": [
      "[[None, '7D', 'FN02C', 199.21303666215968], [None, '7D', 'FN04C', 209.35824391268758], [None, '7D', 'FN05C', 217.1970584701522], [None, '7D', 'FN19C', 218.20549427153654], [None, '7D', 'J49C', 249.44894868250776]]\n"
     ]
    },
    {
     "name": "stderr",
     "output_type": "stream",
     "text": [
      "\r",
      " 85%|████████▍ | 627/741 [04:32<00:53,  2.12it/s]"
     ]
    },
    {
     "name": "stdout",
     "output_type": "stream",
     "text": [
      "[[None, '7D', 'FN02C', 72.40654010012531], [None, '7D', 'FN03C', 82.43716369216155], [None, '7D', 'FN04C', 85.39026429597173], [None, '7D', 'FN19C', 85.49459988021026], [None, '7D', 'J49C', 114.67673171211226]]\n"
     ]
    },
    {
     "name": "stderr",
     "output_type": "stream",
     "text": [
      " 86%|████████▌ | 636/741 [04:35<00:42,  2.50it/s]"
     ]
    },
    {
     "name": "stdout",
     "output_type": "stream",
     "text": [
      "[[None, '7D', 'J49C', 315.5094790265858], [None, '7D', 'FN19C', 341.3953134811359], [None, '7D', 'FN04C', 344.93109592330455], [None, '7D', 'FN03C', 346.1000107304543]]\n"
     ]
    },
    {
     "name": "stderr",
     "output_type": "stream",
     "text": [
      "\r",
      " 86%|████████▌ | 637/741 [04:36<00:41,  2.53it/s]"
     ]
    },
    {
     "name": "stdout",
     "output_type": "stream",
     "text": [
      "[[None, '7D', 'FN04C', 65.23707241744592], [None, '7D', 'FN02C', 74.18538587113814], [None, '7D', 'FN19C', 92.29758721406331], [None, '7D', 'J49C', 113.7057998069898]]\n"
     ]
    },
    {
     "name": "stderr",
     "output_type": "stream",
     "text": [
      "\r",
      " 86%|████████▌ | 638/741 [04:36<00:44,  2.34it/s]"
     ]
    },
    {
     "name": "stdout",
     "output_type": "stream",
     "text": [
      "[[None, '7D', 'J49C', 146.12052042446197], [None, '7D', 'FN01C', 167.9744637097305], [None, '7D', 'FN03C', 179.38822787009968], [None, '7D', 'FN05C', 185.21973690553673], [None, '7D', 'FN04C', 186.0091766576276]]\n"
     ]
    },
    {
     "name": "stderr",
     "output_type": "stream",
     "text": [
      "\r",
      " 86%|████████▌ | 639/741 [04:37<00:47,  2.16it/s]"
     ]
    },
    {
     "name": "stdout",
     "output_type": "stream",
     "text": [
      "[[None, '7D', 'FN01C', 125.99742111122131], [None, '7D', 'FN02C', 128.63128489190774], [None, '7D', 'FN04C', 142.00910442550273], [None, '7D', 'FN05C', 148.69791604781443], [None, '7D', 'J49C', 162.5029944218027]]\n"
     ]
    },
    {
     "name": "stderr",
     "output_type": "stream",
     "text": [
      " 89%|████████▊ | 656/741 [04:44<00:32,  2.58it/s]"
     ]
    },
    {
     "name": "stdout",
     "output_type": "stream",
     "text": [
      "[[None, '7D', 'FN03C', 155.3969028347888], [None, '7D', 'FN04C', 159.42465504339404], [None, '7D', 'FN05C', 165.80846362526745], [None, '7D', 'J49C', 175.6101510673671]]\n"
     ]
    },
    {
     "name": "stderr",
     "output_type": "stream",
     "text": [
      " 89%|████████▉ | 658/741 [04:45<00:37,  2.24it/s]"
     ]
    },
    {
     "name": "stdout",
     "output_type": "stream",
     "text": [
      "[[None, '7D', 'J49C', 81.10691635653335], [None, '7D', 'FN05C', 97.19862620037699], [None, '7D', 'FN04C', 105.02385448317489], [None, '7D', 'FN01C', 115.28994368904358], [None, '7D', 'FN02C', 115.93169210032416]]\n"
     ]
    },
    {
     "name": "stderr",
     "output_type": "stream",
     "text": [
      " 90%|████████▉ | 666/741 [04:49<00:33,  2.22it/s]"
     ]
    },
    {
     "name": "stdout",
     "output_type": "stream",
     "text": [
      "[[None, '7D', 'FN04C', 88.70287331899168], [None, '7D', 'FN05C', 89.91735640804517], [None, '7D', 'FN03C', 95.34070613545963], [None, '7D', 'FN02C', 97.44165129992436], [None, '7D', 'J49C', 136.32331315167326]]\n"
     ]
    },
    {
     "name": "stderr",
     "output_type": "stream",
     "text": [
      " 92%|█████████▏| 679/741 [04:54<00:30,  2.06it/s]"
     ]
    },
    {
     "name": "stdout",
     "output_type": "stream",
     "text": [
      "[[None, '7D', 'J49C', 210.75146087419736], [None, '7D', 'FN19C', 240.81208754752478], [None, '7D', 'FN05C', 260.4724200532244], [None, '7D', 'FN03C', 260.76938709447063], [None, '7D', 'FN02C', 265.63823324562134]]\n"
     ]
    },
    {
     "name": "stderr",
     "output_type": "stream",
     "text": [
      " 92%|█████████▏| 684/741 [04:57<00:28,  1.98it/s]"
     ]
    },
    {
     "name": "stdout",
     "output_type": "stream",
     "text": [
      "[[None, '7D', 'J57C', 192.50182845809906], [None, '7D', 'FN02C', 201.75085907830078], [None, '7D', 'FN01C', 202.68361618895543], [None, '7D', 'FN03C', 211.85734125014503], [None, '7D', 'FN04C', 213.3917364595233], [None, '7D', 'J49C', 246.72864722944618]]\n"
     ]
    },
    {
     "name": "stderr",
     "output_type": "stream",
     "text": [
      "\r",
      " 92%|█████████▏| 685/741 [04:57<00:26,  2.09it/s]"
     ]
    },
    {
     "name": "stdout",
     "output_type": "stream",
     "text": [
      "[[None, '7D', 'J49C', 0.9402693232464108], [None, '7D', 'FN05C', 50.0403854326876], [None, '7D', 'FN01C', 50.586350398127344], [None, '7D', 'FN03C', 50.93697048066423]]\n"
     ]
    },
    {
     "name": "stderr",
     "output_type": "stream",
     "text": [
      " 93%|█████████▎| 689/741 [04:59<00:26,  1.93it/s]"
     ]
    },
    {
     "name": "stdout",
     "output_type": "stream",
     "text": [
      "[[None, '7D', 'J49C', 99.99422524121918], [None, '7D', 'FN05C', 109.03432533761854], [None, '7D', 'FN04C', 116.66057851640261], [None, '7D', 'FN02C', 128.66632638222927]]\n"
     ]
    },
    {
     "name": "stderr",
     "output_type": "stream",
     "text": [
      "\r",
      " 93%|█████████▎| 690/741 [05:00<00:27,  1.87it/s]"
     ]
    },
    {
     "name": "stdout",
     "output_type": "stream",
     "text": [
      "[[None, '7D', 'FN05C', 55.13239497858619], [None, '7D', 'FN04C', 62.517110051352304], [None, '7D', 'J49C', 62.77013770029045], [None, '7D', 'FN02C', 75.14023161337622], [None, '7D', 'FN01C', 77.36539025068107]]\n"
     ]
    },
    {
     "name": "stderr",
     "output_type": "stream",
     "text": [
      " 94%|█████████▍| 700/741 [05:04<00:14,  2.85it/s]"
     ]
    },
    {
     "name": "stdout",
     "output_type": "stream",
     "text": [
      "[[None, '7D', 'J49C', 11.444766124461438], [None, '7D', 'FN03C', 61.52249300661164], [None, '7D', 'FN04C', 65.64453077193762]]\n"
     ]
    },
    {
     "name": "stderr",
     "output_type": "stream",
     "text": [
      " 95%|█████████▍| 703/741 [05:05<00:15,  2.42it/s]"
     ]
    },
    {
     "name": "stdout",
     "output_type": "stream",
     "text": [
      "[[None, '7D', 'FN02C', 170.619666254722], [None, '7D', 'FN03C', 180.680757387019], [None, '7D', 'FN04C', 181.93876397739953], [None, '7D', 'J49C', 217.45405049504967]]\n"
     ]
    },
    {
     "name": "stderr",
     "output_type": "stream",
     "text": [
      " 96%|█████████▌| 708/741 [05:07<00:13,  2.50it/s]"
     ]
    },
    {
     "name": "stdout",
     "output_type": "stream",
     "text": [
      "[[None, '7D', 'FN05C', 305.5026671931452], [None, '7D', 'FN04C', 306.60836495240187], [None, '7D', 'FN03C', 313.25443006513643], [None, '7D', 'FN02C', 317.43540353165116], [None, '7D', 'J49C', 342.4432692517062]]\n"
     ]
    },
    {
     "name": "stderr",
     "output_type": "stream",
     "text": [
      "\r",
      " 96%|█████████▌| 709/741 [05:08<00:14,  2.20it/s]"
     ]
    },
    {
     "name": "stdout",
     "output_type": "stream",
     "text": [
      "[[None, '7D', 'FN02C', 259.3278516177113], [None, '7D', 'FN01C', 265.17627927756894], [None, '7D', 'FN04C', 265.99775074971126], [None, '7D', 'FN03C', 267.7967044040459], [None, '7D', 'J49C', 315.0582218331119]]\n"
     ]
    },
    {
     "name": "stderr",
     "output_type": "stream",
     "text": [
      "\r",
      " 96%|█████████▌| 710/741 [05:08<00:13,  2.29it/s]"
     ]
    },
    {
     "name": "stdout",
     "output_type": "stream",
     "text": [
      "[[None, '7D', 'FN02C', 153.25285612047477], [None, '7D', 'FN03C', 163.05724069832286], [None, '7D', 'FN04C', 166.5688440703727], [None, '7D', 'J49C', 186.94355233064474]]\n"
     ]
    },
    {
     "name": "stderr",
     "output_type": "stream",
     "text": [
      " 96%|█████████▋| 714/741 [05:10<00:11,  2.40it/s]"
     ]
    },
    {
     "name": "stdout",
     "output_type": "stream",
     "text": [
      "[[None, '7D', 'FN04C', 239.0578756377696], [None, '7D', 'J49C', 239.2146171676897], [None, '7D', 'FN03C', 243.3639781888272], [None, '7D', 'FN02C', 252.64280206667206]]\n"
     ]
    },
    {
     "name": "stderr",
     "output_type": "stream",
     "text": [
      "\r",
      " 96%|█████████▋| 715/741 [05:10<00:11,  2.24it/s]"
     ]
    },
    {
     "name": "stdout",
     "output_type": "stream",
     "text": [
      "[[None, '7D', 'FN02C', 141.22357185277374], [None, '7D', 'FN04C', 145.7920944909489], [None, '7D', 'FN03C', 148.57295051738234], [None, '7D', 'FN05C', 152.9421924658022], [None, '7D', 'J49C', 198.10089604305045]]\n"
     ]
    },
    {
     "name": "stderr",
     "output_type": "stream",
     "text": [
      " 97%|█████████▋| 721/741 [05:13<00:08,  2.49it/s]"
     ]
    },
    {
     "name": "stdout",
     "output_type": "stream",
     "text": [
      "[[None, '7D', 'J49C', 21.009406930243035], [None, '7D', 'FN03C', 50.88107310841007], [None, '7D', 'FN04C', 52.98938636270513], [None, '7D', 'FN02C', 59.776784695844164]]\n"
     ]
    },
    {
     "name": "stderr",
     "output_type": "stream",
     "text": [
      " 98%|█████████▊| 725/741 [05:14<00:06,  2.56it/s]"
     ]
    },
    {
     "name": "stdout",
     "output_type": "stream",
     "text": [
      "[[None, '7D', 'J49C', 63.32139954211137], [None, '7D', 'FN01C', 81.80413092864335], [None, '7D', 'FN02C', 92.18894268914401], [None, '7D', 'FN05C', 98.35358610826403], [None, '7D', 'FN04C', 99.21068763145308]]\n"
     ]
    },
    {
     "name": "stderr",
     "output_type": "stream",
     "text": [
      " 99%|█████████▊| 731/741 [05:17<00:05,  1.95it/s]"
     ]
    },
    {
     "name": "stdout",
     "output_type": "stream",
     "text": [
      "[[None, '7D', 'J49C', 4.908577064299838], [None, '7D', 'FN01C', 53.793528839377196], [None, '7D', 'FN03C', 55.04766201288381], [None, '7D', 'FN04C', 59.633806326285026]]\n"
     ]
    },
    {
     "name": "stderr",
     "output_type": "stream",
     "text": [
      "100%|█████████▉| 740/741 [05:22<00:00,  1.64it/s]"
     ]
    },
    {
     "name": "stdout",
     "output_type": "stream",
     "text": [
      "[[None, '7D', 'J49C', 313.98628018120576], [None, '7D', 'FN05C', 315.67983869099965], [None, '7D', 'FN03C', 326.023101277067], [None, '7D', 'FN02C', 335.74148732695204], [None, '7D', 'FN01C', 338.89012841006036]]\n"
     ]
    },
    {
     "name": "stderr",
     "output_type": "stream",
     "text": [
      "100%|██████████| 741/741 [05:22<00:00,  2.30it/s]\n"
     ]
    },
    {
     "data": {
      "text/html": [
       "<div>\n",
       "<style scoped>\n",
       "    .dataframe tbody tr th:only-of-type {\n",
       "        vertical-align: middle;\n",
       "    }\n",
       "\n",
       "    .dataframe tbody tr th {\n",
       "        vertical-align: top;\n",
       "    }\n",
       "\n",
       "    .dataframe thead th {\n",
       "        text-align: right;\n",
       "    }\n",
       "</style>\n",
       "<table border=\"1\" class=\"dataframe\">\n",
       "  <thead>\n",
       "    <tr style=\"text-align: right;\">\n",
       "      <th></th>\n",
       "      <th>Unnamed: 0.1</th>\n",
       "      <th>Unnamed: 0</th>\n",
       "      <th>idx</th>\n",
       "      <th>time</th>\n",
       "      <th>x</th>\n",
       "      <th>y</th>\n",
       "      <th>z</th>\n",
       "      <th>picks</th>\n",
       "      <th>latitude</th>\n",
       "      <th>longitude</th>\n",
       "      <th>depth</th>\n",
       "      <th>event_idx</th>\n",
       "      <th>pick_idx</th>\n",
       "      <th>residual</th>\n",
       "      <th>station</th>\n",
       "      <th>phase</th>\n",
       "      <th>time_pick</th>\n",
       "      <th>datetime</th>\n",
       "    </tr>\n",
       "  </thead>\n",
       "  <tbody>\n",
       "    <tr>\n",
       "      <th>1</th>\n",
       "      <td>1</td>\n",
       "      <td>6</td>\n",
       "      <td>10</td>\n",
       "      <td>2014-01-01 05:54:38.267231+00:00</td>\n",
       "      <td>64.720330</td>\n",
       "      <td>251.288060</td>\n",
       "      <td>23.828125</td>\n",
       "      <td>6</td>\n",
       "      <td>46.757786</td>\n",
       "      <td>-124.652863</td>\n",
       "      <td>23.828125</td>\n",
       "      <td>10</td>\n",
       "      <td>439121</td>\n",
       "      <td>-0.856316</td>\n",
       "      <td>FN02C</td>\n",
       "      <td>P</td>\n",
       "      <td>1.388556e+09</td>\n",
       "      <td>2014-01-01 05:54:38.267231+00:00</td>\n",
       "    </tr>\n",
       "    <tr>\n",
       "      <th>3</th>\n",
       "      <td>3</td>\n",
       "      <td>18</td>\n",
       "      <td>37</td>\n",
       "      <td>2014-01-01 20:54:11.178539+00:00</td>\n",
       "      <td>74.026521</td>\n",
       "      <td>270.433987</td>\n",
       "      <td>0.390625</td>\n",
       "      <td>6</td>\n",
       "      <td>46.929020</td>\n",
       "      <td>-124.527967</td>\n",
       "      <td>0.390625</td>\n",
       "      <td>37</td>\n",
       "      <td>725692</td>\n",
       "      <td>0.403116</td>\n",
       "      <td>FN01C</td>\n",
       "      <td>P</td>\n",
       "      <td>1.388610e+09</td>\n",
       "      <td>2014-01-01 20:54:11.178539+00:00</td>\n",
       "    </tr>\n",
       "    <tr>\n",
       "      <th>4</th>\n",
       "      <td>4</td>\n",
       "      <td>24</td>\n",
       "      <td>53</td>\n",
       "      <td>2014-01-02 02:06:34.089288+00:00</td>\n",
       "      <td>107.021199</td>\n",
       "      <td>281.203570</td>\n",
       "      <td>12.890625</td>\n",
       "      <td>6</td>\n",
       "      <td>47.021368</td>\n",
       "      <td>-124.092292</td>\n",
       "      <td>12.890625</td>\n",
       "      <td>53</td>\n",
       "      <td>361802</td>\n",
       "      <td>-0.574402</td>\n",
       "      <td>FN03C</td>\n",
       "      <td>P</td>\n",
       "      <td>1.388628e+09</td>\n",
       "      <td>2014-01-02 02:06:34.089288+00:00</td>\n",
       "    </tr>\n",
       "    <tr>\n",
       "      <th>5</th>\n",
       "      <td>5</td>\n",
       "      <td>30</td>\n",
       "      <td>61</td>\n",
       "      <td>2014-01-02 05:36:24.993737+00:00</td>\n",
       "      <td>86.716782</td>\n",
       "      <td>282.400191</td>\n",
       "      <td>7.421875</td>\n",
       "      <td>6</td>\n",
       "      <td>47.035101</td>\n",
       "      <td>-124.359077</td>\n",
       "      <td>7.421875</td>\n",
       "      <td>61</td>\n",
       "      <td>687406</td>\n",
       "      <td>0.286620</td>\n",
       "      <td>FN02C</td>\n",
       "      <td>P</td>\n",
       "      <td>1.388641e+09</td>\n",
       "      <td>2014-01-02 05:36:24.993737+00:00</td>\n",
       "    </tr>\n",
       "    <tr>\n",
       "      <th>7</th>\n",
       "      <td>7</td>\n",
       "      <td>42</td>\n",
       "      <td>85</td>\n",
       "      <td>2014-01-02 12:52:36.980453+00:00</td>\n",
       "      <td>78.256608</td>\n",
       "      <td>270.433987</td>\n",
       "      <td>6.640625</td>\n",
       "      <td>6</td>\n",
       "      <td>46.928535</td>\n",
       "      <td>-124.472432</td>\n",
       "      <td>6.640625</td>\n",
       "      <td>85</td>\n",
       "      <td>712235</td>\n",
       "      <td>-0.714895</td>\n",
       "      <td>FN01C</td>\n",
       "      <td>P</td>\n",
       "      <td>1.388667e+09</td>\n",
       "      <td>2014-01-02 12:52:36.980453+00:00</td>\n",
       "    </tr>\n",
       "    <tr>\n",
       "      <th>...</th>\n",
       "      <td>...</td>\n",
       "      <td>...</td>\n",
       "      <td>...</td>\n",
       "      <td>...</td>\n",
       "      <td>...</td>\n",
       "      <td>...</td>\n",
       "      <td>...</td>\n",
       "      <td>...</td>\n",
       "      <td>...</td>\n",
       "      <td>...</td>\n",
       "      <td>...</td>\n",
       "      <td>...</td>\n",
       "      <td>...</td>\n",
       "      <td>...</td>\n",
       "      <td>...</td>\n",
       "      <td>...</td>\n",
       "      <td>...</td>\n",
       "      <td>...</td>\n",
       "    </tr>\n",
       "    <tr>\n",
       "      <th>735</th>\n",
       "      <td>735</td>\n",
       "      <td>4491</td>\n",
       "      <td>6215</td>\n",
       "      <td>2014-06-16 21:57:20.795099+00:00</td>\n",
       "      <td>81.640678</td>\n",
       "      <td>220.175929</td>\n",
       "      <td>1.953125</td>\n",
       "      <td>6</td>\n",
       "      <td>46.476103</td>\n",
       "      <td>-124.436915</td>\n",
       "      <td>1.953125</td>\n",
       "      <td>6215</td>\n",
       "      <td>726604</td>\n",
       "      <td>0.188917</td>\n",
       "      <td>FN02C</td>\n",
       "      <td>P</td>\n",
       "      <td>1.402956e+09</td>\n",
       "      <td>2014-06-16 21:57:20.795099+00:00</td>\n",
       "    </tr>\n",
       "    <tr>\n",
       "      <th>736</th>\n",
       "      <td>736</td>\n",
       "      <td>4497</td>\n",
       "      <td>6233</td>\n",
       "      <td>2014-06-17 22:55:17.694596+00:00</td>\n",
       "      <td>76.564573</td>\n",
       "      <td>272.827228</td>\n",
       "      <td>0.390625</td>\n",
       "      <td>6</td>\n",
       "      <td>46.950257</td>\n",
       "      <td>-124.494243</td>\n",
       "      <td>0.390625</td>\n",
       "      <td>6233</td>\n",
       "      <td>775280</td>\n",
       "      <td>1.244988</td>\n",
       "      <td>FN01C</td>\n",
       "      <td>P</td>\n",
       "      <td>1.403046e+09</td>\n",
       "      <td>2014-06-17 22:55:17.694596+00:00</td>\n",
       "    </tr>\n",
       "    <tr>\n",
       "      <th>737</th>\n",
       "      <td>737</td>\n",
       "      <td>4503</td>\n",
       "      <td>6274</td>\n",
       "      <td>2014-06-21 16:16:26.682066+00:00</td>\n",
       "      <td>83.332712</td>\n",
       "      <td>270.433987</td>\n",
       "      <td>10.546875</td>\n",
       "      <td>6</td>\n",
       "      <td>46.927918</td>\n",
       "      <td>-124.405791</td>\n",
       "      <td>10.546875</td>\n",
       "      <td>6274</td>\n",
       "      <td>308110</td>\n",
       "      <td>1.063622</td>\n",
       "      <td>FN02C</td>\n",
       "      <td>P</td>\n",
       "      <td>1.403367e+09</td>\n",
       "      <td>2014-06-21 16:16:26.682066+00:00</td>\n",
       "    </tr>\n",
       "    <tr>\n",
       "      <th>738</th>\n",
       "      <td>738</td>\n",
       "      <td>4509</td>\n",
       "      <td>6347</td>\n",
       "      <td>2014-06-25 09:27:07.622561+00:00</td>\n",
       "      <td>84.178730</td>\n",
       "      <td>241.715097</td>\n",
       "      <td>17.578125</td>\n",
       "      <td>6</td>\n",
       "      <td>46.669519</td>\n",
       "      <td>-124.399961</td>\n",
       "      <td>17.578125</td>\n",
       "      <td>6347</td>\n",
       "      <td>350248</td>\n",
       "      <td>-0.277601</td>\n",
       "      <td>FN02C</td>\n",
       "      <td>P</td>\n",
       "      <td>1.403688e+09</td>\n",
       "      <td>2014-06-25 09:27:07.622561+00:00</td>\n",
       "    </tr>\n",
       "    <tr>\n",
       "      <th>740</th>\n",
       "      <td>740</td>\n",
       "      <td>4521</td>\n",
       "      <td>6359</td>\n",
       "      <td>2014-06-25 20:47:18.688608+00:00</td>\n",
       "      <td>50.338034</td>\n",
       "      <td>270.433987</td>\n",
       "      <td>1.953125</td>\n",
       "      <td>6</td>\n",
       "      <td>46.931239</td>\n",
       "      <td>-124.838992</td>\n",
       "      <td>1.953125</td>\n",
       "      <td>6359</td>\n",
       "      <td>1266061</td>\n",
       "      <td>-0.191407</td>\n",
       "      <td>FN02C</td>\n",
       "      <td>S</td>\n",
       "      <td>1.403729e+09</td>\n",
       "      <td>2014-06-25 20:47:18.688608+00:00</td>\n",
       "    </tr>\n",
       "  </tbody>\n",
       "</table>\n",
       "<p>590 rows × 18 columns</p>\n",
       "</div>"
      ],
      "text/plain": [
       "     Unnamed: 0.1  Unnamed: 0   idx                              time  \\\n",
       "1               1           6    10  2014-01-01 05:54:38.267231+00:00   \n",
       "3               3          18    37  2014-01-01 20:54:11.178539+00:00   \n",
       "4               4          24    53  2014-01-02 02:06:34.089288+00:00   \n",
       "5               5          30    61  2014-01-02 05:36:24.993737+00:00   \n",
       "7               7          42    85  2014-01-02 12:52:36.980453+00:00   \n",
       "..            ...         ...   ...                               ...   \n",
       "735           735        4491  6215  2014-06-16 21:57:20.795099+00:00   \n",
       "736           736        4497  6233  2014-06-17 22:55:17.694596+00:00   \n",
       "737           737        4503  6274  2014-06-21 16:16:26.682066+00:00   \n",
       "738           738        4509  6347  2014-06-25 09:27:07.622561+00:00   \n",
       "740           740        4521  6359  2014-06-25 20:47:18.688608+00:00   \n",
       "\n",
       "              x           y          z  picks   latitude   longitude  \\\n",
       "1     64.720330  251.288060  23.828125      6  46.757786 -124.652863   \n",
       "3     74.026521  270.433987   0.390625      6  46.929020 -124.527967   \n",
       "4    107.021199  281.203570  12.890625      6  47.021368 -124.092292   \n",
       "5     86.716782  282.400191   7.421875      6  47.035101 -124.359077   \n",
       "7     78.256608  270.433987   6.640625      6  46.928535 -124.472432   \n",
       "..          ...         ...        ...    ...        ...         ...   \n",
       "735   81.640678  220.175929   1.953125      6  46.476103 -124.436915   \n",
       "736   76.564573  272.827228   0.390625      6  46.950257 -124.494243   \n",
       "737   83.332712  270.433987  10.546875      6  46.927918 -124.405791   \n",
       "738   84.178730  241.715097  17.578125      6  46.669519 -124.399961   \n",
       "740   50.338034  270.433987   1.953125      6  46.931239 -124.838992   \n",
       "\n",
       "         depth  event_idx  pick_idx  residual station phase     time_pick  \\\n",
       "1    23.828125         10    439121 -0.856316   FN02C     P  1.388556e+09   \n",
       "3     0.390625         37    725692  0.403116   FN01C     P  1.388610e+09   \n",
       "4    12.890625         53    361802 -0.574402   FN03C     P  1.388628e+09   \n",
       "5     7.421875         61    687406  0.286620   FN02C     P  1.388641e+09   \n",
       "7     6.640625         85    712235 -0.714895   FN01C     P  1.388667e+09   \n",
       "..         ...        ...       ...       ...     ...   ...           ...   \n",
       "735   1.953125       6215    726604  0.188917   FN02C     P  1.402956e+09   \n",
       "736   0.390625       6233    775280  1.244988   FN01C     P  1.403046e+09   \n",
       "737  10.546875       6274    308110  1.063622   FN02C     P  1.403367e+09   \n",
       "738  17.578125       6347    350248 -0.277601   FN02C     P  1.403688e+09   \n",
       "740   1.953125       6359   1266061 -0.191407   FN02C     S  1.403729e+09   \n",
       "\n",
       "                             datetime  \n",
       "1    2014-01-01 05:54:38.267231+00:00  \n",
       "3    2014-01-01 20:54:11.178539+00:00  \n",
       "4    2014-01-02 02:06:34.089288+00:00  \n",
       "5    2014-01-02 05:36:24.993737+00:00  \n",
       "7    2014-01-02 12:52:36.980453+00:00  \n",
       "..                                ...  \n",
       "735  2014-06-16 21:57:20.795099+00:00  \n",
       "736  2014-06-17 22:55:17.694596+00:00  \n",
       "737  2014-06-21 16:16:26.682066+00:00  \n",
       "738  2014-06-25 09:27:07.622561+00:00  \n",
       "740  2014-06-25 20:47:18.688608+00:00  \n",
       "\n",
       "[590 rows x 18 columns]"
      ]
     },
     "execution_count": 20,
     "metadata": {},
     "output_type": "execute_result"
    }
   ],
   "source": [
    "\"\"\"\n",
    "Inputs:\n",
    "1. Either of the following files can be the input:\n",
    "    1. matched_events_with_morton_mycatalog.csv from the 4_quality_control file\n",
    "    2. matched_events_with_anss_mycatalog.csv from the 4_quality_control file\n",
    "    3. new_events.csv from the 4_quality_control file\n",
    "2. The all_pick_assignments CSV file from the 3_associate file: e.g., all_pick_assignments = pd.read_csv('../data/datasets_2012/all_pick_assignments_2012.csv')\n",
    "\n",
    "\n",
    "Outputs:\n",
    "1. A new dataframe that only has events that fall into the following categories:\n",
    "    1. For an event, at least two stations have to be less than 50 km from the event and no station can be 100 km apart from each other.\n",
    "2. An event has to have more than or equal to 6 picks\n",
    "\"\"\"\n",
    "\n",
    "# Parameters\n",
    "client2 = Client(\"IRIS\")\n",
    "\n",
    "mycatalog = all_pick_assignments.drop_duplicates(subset=['idx'])\n",
    "mycatalog['datetime'] = pd.to_datetime(mycatalog['time'], utc = True)\n",
    "\n",
    "for i, idx in tqdm(enumerate(events['idx']),total=len(events['idx'])):\n",
    "    event = mycatalog\n",
    "    picks = all_pick_assignments\n",
    "    picks_idx = picks.loc[picks['idx']==idx]\n",
    "    pick_sta = np.unique(picks_idx['station'])\n",
    "    otime = UTCDateTime(str(event[event['idx'] == idx][\"datetime\"].values[0]))\n",
    "    distances = []\n",
    "    max_dist = 10\n",
    "    min_dist = 0\n",
    "    for station in pick_sta:\n",
    "\n",
    "\n",
    "        sta_inv = client2.get_stations(network='*',\n",
    "                                       station=station, channel=\"?H?\", \n",
    "                                       starttime=otime - 1e8, endtime=otime + 1e8,level=\"response\")\n",
    "        if len(sta_inv) == 0:\n",
    "            print(f\"Failed to fetch for {networks} {station} {otime}\")\n",
    "            continue\n",
    "\n",
    "        _network = sta_inv[0].code\n",
    "        slat = sta_inv[0][0].latitude\n",
    "        slon = sta_inv[0][0].longitude\n",
    "        olat = event.loc[event['idx']==idx, 'latitude'].values[0]\n",
    "        olon = event.loc[event['idx']==idx, 'longitude'].values[0]\n",
    "\n",
    "        dis1 = locations2degrees(olat, olon, slat, slon)\n",
    "        dist = degrees2kilometers(dis1)\n",
    "\n",
    "        distances.append([None, _network, station, dist])\n",
    "\n",
    "    # Sort distances\n",
    "    distances = sorted(distances, key=lambda item: item[-1])\n",
    "\n",
    "    # This is for the first criterion in the markdown above\n",
    "    # Determine if any two of the numbers in the distances list are less than or equal to 50\n",
    "    found = False\n",
    "    for i in range(len(distances)):\n",
    "        for j in range(i + 1, len(distances)):\n",
    "            if distances[i][3] <= 50 and distances[j][3] <= 50:\n",
    "                found = True\n",
    "                break\n",
    "        if found:\n",
    "            break\n",
    "\n",
    "    # Make a list that includes the differences between the consecutive numbers in the distances list.\n",
    "    differences = [distances[i+1][3] - distances[i][3] for i in range(len(distances) - 1)]\n",
    "\n",
    "    if found == False: # If there were not at least two distances between the station and the event less than or equal to 50 km\n",
    "        print(distances)\n",
    "        index = events[events['idx'] == idx].index\n",
    "        events = events.drop(index=index)\n",
    "\n",
    "    elif any(differences > 100 for differences in differences): # If any of the distances between two stations were greater than 100 km\n",
    "        print(distances)\n",
    "        index = events[events['idx'] == idx].index\n",
    "        events = events.drop(index=index)\n",
    "\n",
    "    else: \n",
    "        continue\n",
    "\n",
    "\n",
    "events "
   ]
  },
  {
   "cell_type": "code",
   "execution_count": null,
   "id": "c3444633",
   "metadata": {
    "scrolled": true
   },
   "outputs": [],
   "source": [
    "new_events_filtered = filter_sta(new_events, mycatalog_picks)"
   ]
  },
  {
   "cell_type": "code",
   "execution_count": null,
   "id": "8da81e6d",
   "metadata": {},
   "outputs": [],
   "source": [
    "new_events_filtered.to_csv(f'../data/datasets_{year}/new_events_filtered_{year}.csv')"
   ]
  },
  {
   "cell_type": "code",
   "execution_count": 21,
   "id": "1f4637d1",
   "metadata": {},
   "outputs": [],
   "source": [
    "events.to_csv(f'../data/datasets_{year}/new_events_filtered_{year}.csv')"
   ]
  },
  {
   "cell_type": "code",
   "execution_count": 41,
   "id": "575d60f4",
   "metadata": {},
   "outputs": [
    {
     "data": {
      "text/html": [
       "<div>\n",
       "<style scoped>\n",
       "    .dataframe tbody tr th:only-of-type {\n",
       "        vertical-align: middle;\n",
       "    }\n",
       "\n",
       "    .dataframe tbody tr th {\n",
       "        vertical-align: top;\n",
       "    }\n",
       "\n",
       "    .dataframe thead th {\n",
       "        text-align: right;\n",
       "    }\n",
       "</style>\n",
       "<table border=\"1\" class=\"dataframe\">\n",
       "  <thead>\n",
       "    <tr style=\"text-align: right;\">\n",
       "      <th></th>\n",
       "      <th>Unnamed: 0.1</th>\n",
       "      <th>Unnamed: 0</th>\n",
       "      <th>idx</th>\n",
       "      <th>time</th>\n",
       "      <th>x</th>\n",
       "      <th>y</th>\n",
       "      <th>z</th>\n",
       "      <th>picks</th>\n",
       "      <th>latitude</th>\n",
       "      <th>longitude</th>\n",
       "      <th>depth</th>\n",
       "      <th>event_idx</th>\n",
       "      <th>pick_idx</th>\n",
       "      <th>residual</th>\n",
       "      <th>station</th>\n",
       "      <th>phase</th>\n",
       "      <th>time_pick</th>\n",
       "      <th>datetime</th>\n",
       "    </tr>\n",
       "  </thead>\n",
       "  <tbody>\n",
       "    <tr>\n",
       "      <th>0</th>\n",
       "      <td>0</td>\n",
       "      <td>0</td>\n",
       "      <td>2</td>\n",
       "      <td>2011-08-09 10:26:19.327686+00:00</td>\n",
       "      <td>88.408817</td>\n",
       "      <td>254.877921</td>\n",
       "      <td>0.390625</td>\n",
       "      <td>6</td>\n",
       "      <td>46.787357</td>\n",
       "      <td>-124.342163</td>\n",
       "      <td>0.390625</td>\n",
       "      <td>2</td>\n",
       "      <td>2109680</td>\n",
       "      <td>-0.551091</td>\n",
       "      <td>FN07A</td>\n",
       "      <td>P</td>\n",
       "      <td>1.312886e+09</td>\n",
       "      <td>2011-08-09 10:26:19.327686+00:00</td>\n",
       "    </tr>\n",
       "    <tr>\n",
       "      <th>1</th>\n",
       "      <td>1</td>\n",
       "      <td>12</td>\n",
       "      <td>34</td>\n",
       "      <td>2011-10-16 22:22:10.456747+00:00</td>\n",
       "      <td>53.722104</td>\n",
       "      <td>262.057644</td>\n",
       "      <td>0.390625</td>\n",
       "      <td>6</td>\n",
       "      <td>46.855631</td>\n",
       "      <td>-124.795545</td>\n",
       "      <td>0.390625</td>\n",
       "      <td>34</td>\n",
       "      <td>1965245</td>\n",
       "      <td>-1.060968</td>\n",
       "      <td>FN07A</td>\n",
       "      <td>P</td>\n",
       "      <td>1.318804e+09</td>\n",
       "      <td>2011-10-16 22:22:10.456747+00:00</td>\n",
       "    </tr>\n",
       "    <tr>\n",
       "      <th>3</th>\n",
       "      <td>3</td>\n",
       "      <td>32</td>\n",
       "      <td>65</td>\n",
       "      <td>2011-10-22 21:20:51.997895+00:00</td>\n",
       "      <td>53.722104</td>\n",
       "      <td>259.664403</td>\n",
       "      <td>8.984375</td>\n",
       "      <td>6</td>\n",
       "      <td>46.834105</td>\n",
       "      <td>-124.795826</td>\n",
       "      <td>8.984375</td>\n",
       "      <td>65</td>\n",
       "      <td>1885860</td>\n",
       "      <td>0.724684</td>\n",
       "      <td>FN07A</td>\n",
       "      <td>P</td>\n",
       "      <td>1.319318e+09</td>\n",
       "      <td>2011-10-22 21:20:51.997895+00:00</td>\n",
       "    </tr>\n",
       "    <tr>\n",
       "      <th>4</th>\n",
       "      <td>4</td>\n",
       "      <td>38</td>\n",
       "      <td>84</td>\n",
       "      <td>2011-10-26 15:45:12.545541+00:00</td>\n",
       "      <td>55.414139</td>\n",
       "      <td>257.271162</td>\n",
       "      <td>12.890625</td>\n",
       "      <td>6</td>\n",
       "      <td>46.812439</td>\n",
       "      <td>-124.773939</td>\n",
       "      <td>12.890625</td>\n",
       "      <td>84</td>\n",
       "      <td>2111346</td>\n",
       "      <td>1.229328</td>\n",
       "      <td>FN07A</td>\n",
       "      <td>P</td>\n",
       "      <td>1.319644e+09</td>\n",
       "      <td>2011-10-26 15:45:12.545541+00:00</td>\n",
       "    </tr>\n",
       "    <tr>\n",
       "      <th>5</th>\n",
       "      <td>5</td>\n",
       "      <td>44</td>\n",
       "      <td>98</td>\n",
       "      <td>2011-10-30 16:30:50.644314+00:00</td>\n",
       "      <td>54.568121</td>\n",
       "      <td>276.417089</td>\n",
       "      <td>7.421875</td>\n",
       "      <td>6</td>\n",
       "      <td>46.984720</td>\n",
       "      <td>-124.782730</td>\n",
       "      <td>7.421875</td>\n",
       "      <td>98</td>\n",
       "      <td>1988348</td>\n",
       "      <td>1.249747</td>\n",
       "      <td>FN07A</td>\n",
       "      <td>P</td>\n",
       "      <td>1.319992e+09</td>\n",
       "      <td>2011-10-30 16:30:50.644314+00:00</td>\n",
       "    </tr>\n",
       "    <tr>\n",
       "      <th>...</th>\n",
       "      <td>...</td>\n",
       "      <td>...</td>\n",
       "      <td>...</td>\n",
       "      <td>...</td>\n",
       "      <td>...</td>\n",
       "      <td>...</td>\n",
       "      <td>...</td>\n",
       "      <td>...</td>\n",
       "      <td>...</td>\n",
       "      <td>...</td>\n",
       "      <td>...</td>\n",
       "      <td>...</td>\n",
       "      <td>...</td>\n",
       "      <td>...</td>\n",
       "      <td>...</td>\n",
       "      <td>...</td>\n",
       "      <td>...</td>\n",
       "      <td>...</td>\n",
       "    </tr>\n",
       "    <tr>\n",
       "      <th>16139</th>\n",
       "      <td>16139</td>\n",
       "      <td>100086</td>\n",
       "      <td>62680</td>\n",
       "      <td>2014-06-27 07:59:17.730075+00:00</td>\n",
       "      <td>41.031843</td>\n",
       "      <td>308.725840</td>\n",
       "      <td>13.671875</td>\n",
       "      <td>6</td>\n",
       "      <td>47.276299</td>\n",
       "      <td>-124.957702</td>\n",
       "      <td>13.671875</td>\n",
       "      <td>62680</td>\n",
       "      <td>1835238</td>\n",
       "      <td>1.220912</td>\n",
       "      <td>FN09C</td>\n",
       "      <td>P</td>\n",
       "      <td>1.403856e+09</td>\n",
       "      <td>2014-06-27 07:59:17.730075+00:00</td>\n",
       "    </tr>\n",
       "    <tr>\n",
       "      <th>16140</th>\n",
       "      <td>16140</td>\n",
       "      <td>100092</td>\n",
       "      <td>62681</td>\n",
       "      <td>2014-06-27 08:00:36.709904+00:00</td>\n",
       "      <td>51.184052</td>\n",
       "      <td>264.450885</td>\n",
       "      <td>0.390625</td>\n",
       "      <td>6</td>\n",
       "      <td>46.877358</td>\n",
       "      <td>-124.828555</td>\n",
       "      <td>0.390625</td>\n",
       "      <td>62681</td>\n",
       "      <td>3738781</td>\n",
       "      <td>0.753338</td>\n",
       "      <td>FN03C</td>\n",
       "      <td>S</td>\n",
       "      <td>1.403856e+09</td>\n",
       "      <td>2014-06-27 08:00:36.709904+00:00</td>\n",
       "    </tr>\n",
       "    <tr>\n",
       "      <th>16142</th>\n",
       "      <td>16142</td>\n",
       "      <td>100104</td>\n",
       "      <td>62692</td>\n",
       "      <td>2014-06-27 09:52:36.180245+00:00</td>\n",
       "      <td>47.799982</td>\n",
       "      <td>256.074542</td>\n",
       "      <td>7.421875</td>\n",
       "      <td>6</td>\n",
       "      <td>46.802265</td>\n",
       "      <td>-124.873822</td>\n",
       "      <td>7.421875</td>\n",
       "      <td>62692</td>\n",
       "      <td>1710667</td>\n",
       "      <td>1.188087</td>\n",
       "      <td>FN03C</td>\n",
       "      <td>P</td>\n",
       "      <td>1.403863e+09</td>\n",
       "      <td>2014-06-27 09:52:36.180245+00:00</td>\n",
       "    </tr>\n",
       "    <tr>\n",
       "      <th>16143</th>\n",
       "      <td>16143</td>\n",
       "      <td>100110</td>\n",
       "      <td>62698</td>\n",
       "      <td>2014-06-27 12:02:50.342653+00:00</td>\n",
       "      <td>24.957513</td>\n",
       "      <td>254.877921</td>\n",
       "      <td>10.546875</td>\n",
       "      <td>6</td>\n",
       "      <td>46.792747</td>\n",
       "      <td>-125.173115</td>\n",
       "      <td>10.546875</td>\n",
       "      <td>62698</td>\n",
       "      <td>1699516</td>\n",
       "      <td>0.718257</td>\n",
       "      <td>FN08C</td>\n",
       "      <td>P</td>\n",
       "      <td>1.403871e+09</td>\n",
       "      <td>2014-06-27 12:02:50.342653+00:00</td>\n",
       "    </tr>\n",
       "    <tr>\n",
       "      <th>16148</th>\n",
       "      <td>16148</td>\n",
       "      <td>100140</td>\n",
       "      <td>62716</td>\n",
       "      <td>2014-06-27 17:17:17.915898+00:00</td>\n",
       "      <td>95.176956</td>\n",
       "      <td>264.450885</td>\n",
       "      <td>12.890625</td>\n",
       "      <td>6</td>\n",
       "      <td>46.872519</td>\n",
       "      <td>-124.251554</td>\n",
       "      <td>12.890625</td>\n",
       "      <td>62716</td>\n",
       "      <td>716310</td>\n",
       "      <td>1.359923</td>\n",
       "      <td>FN02C</td>\n",
       "      <td>P</td>\n",
       "      <td>1.403889e+09</td>\n",
       "      <td>2014-06-27 17:17:17.915898+00:00</td>\n",
       "    </tr>\n",
       "  </tbody>\n",
       "</table>\n",
       "<p>9556 rows × 18 columns</p>\n",
       "</div>"
      ],
      "text/plain": [
       "       Unnamed: 0.1  Unnamed: 0    idx                              time  \\\n",
       "0                 0           0      2  2011-08-09 10:26:19.327686+00:00   \n",
       "1                 1          12     34  2011-10-16 22:22:10.456747+00:00   \n",
       "3                 3          32     65  2011-10-22 21:20:51.997895+00:00   \n",
       "4                 4          38     84  2011-10-26 15:45:12.545541+00:00   \n",
       "5                 5          44     98  2011-10-30 16:30:50.644314+00:00   \n",
       "...             ...         ...    ...                               ...   \n",
       "16139         16139      100086  62680  2014-06-27 07:59:17.730075+00:00   \n",
       "16140         16140      100092  62681  2014-06-27 08:00:36.709904+00:00   \n",
       "16142         16142      100104  62692  2014-06-27 09:52:36.180245+00:00   \n",
       "16143         16143      100110  62698  2014-06-27 12:02:50.342653+00:00   \n",
       "16148         16148      100140  62716  2014-06-27 17:17:17.915898+00:00   \n",
       "\n",
       "               x           y          z  picks   latitude   longitude  \\\n",
       "0      88.408817  254.877921   0.390625      6  46.787357 -124.342163   \n",
       "1      53.722104  262.057644   0.390625      6  46.855631 -124.795545   \n",
       "3      53.722104  259.664403   8.984375      6  46.834105 -124.795826   \n",
       "4      55.414139  257.271162  12.890625      6  46.812439 -124.773939   \n",
       "5      54.568121  276.417089   7.421875      6  46.984720 -124.782730   \n",
       "...          ...         ...        ...    ...        ...         ...   \n",
       "16139  41.031843  308.725840  13.671875      6  47.276299 -124.957702   \n",
       "16140  51.184052  264.450885   0.390625      6  46.877358 -124.828555   \n",
       "16142  47.799982  256.074542   7.421875      6  46.802265 -124.873822   \n",
       "16143  24.957513  254.877921  10.546875      6  46.792747 -125.173115   \n",
       "16148  95.176956  264.450885  12.890625      6  46.872519 -124.251554   \n",
       "\n",
       "           depth  event_idx  pick_idx  residual station phase     time_pick  \\\n",
       "0       0.390625          2   2109680 -0.551091   FN07A     P  1.312886e+09   \n",
       "1       0.390625         34   1965245 -1.060968   FN07A     P  1.318804e+09   \n",
       "3       8.984375         65   1885860  0.724684   FN07A     P  1.319318e+09   \n",
       "4      12.890625         84   2111346  1.229328   FN07A     P  1.319644e+09   \n",
       "5       7.421875         98   1988348  1.249747   FN07A     P  1.319992e+09   \n",
       "...          ...        ...       ...       ...     ...   ...           ...   \n",
       "16139  13.671875      62680   1835238  1.220912   FN09C     P  1.403856e+09   \n",
       "16140   0.390625      62681   3738781  0.753338   FN03C     S  1.403856e+09   \n",
       "16142   7.421875      62692   1710667  1.188087   FN03C     P  1.403863e+09   \n",
       "16143  10.546875      62698   1699516  0.718257   FN08C     P  1.403871e+09   \n",
       "16148  12.890625      62716    716310  1.359923   FN02C     P  1.403889e+09   \n",
       "\n",
       "                               datetime  \n",
       "0      2011-08-09 10:26:19.327686+00:00  \n",
       "1      2011-10-16 22:22:10.456747+00:00  \n",
       "3      2011-10-22 21:20:51.997895+00:00  \n",
       "4      2011-10-26 15:45:12.545541+00:00  \n",
       "5      2011-10-30 16:30:50.644314+00:00  \n",
       "...                                 ...  \n",
       "16139  2014-06-27 07:59:17.730075+00:00  \n",
       "16140  2014-06-27 08:00:36.709904+00:00  \n",
       "16142  2014-06-27 09:52:36.180245+00:00  \n",
       "16143  2014-06-27 12:02:50.342653+00:00  \n",
       "16148  2014-06-27 17:17:17.915898+00:00  \n",
       "\n",
       "[9556 rows x 18 columns]"
      ]
     },
     "execution_count": 41,
     "metadata": {},
     "output_type": "execute_result"
    }
   ],
   "source": [
    "events"
   ]
  },
  {
   "cell_type": "code",
   "execution_count": null,
   "id": "96d11af4",
   "metadata": {},
   "outputs": [],
   "source": [
    "count = 0\n",
    "for i, idx in enumerate(range(0,10,1)):\n",
    "    print(i,idx,count)\n",
    "    count+=1\n",
    "\n",
    "print(count)"
   ]
  },
  {
   "cell_type": "code",
   "execution_count": null,
   "id": "65d60411",
   "metadata": {},
   "outputs": [],
   "source": [
    "new_events"
   ]
  },
  {
   "cell_type": "markdown",
   "id": "d9aaac94",
   "metadata": {},
   "source": [
    "## Plot using the plotting functions"
   ]
  },
  {
   "cell_type": "code",
   "execution_count": null,
   "id": "84953e3a",
   "metadata": {},
   "outputs": [],
   "source": [
    "all_picks = pd.read_csv('../data/datasets_2014/all_picks_2014_for_assoc.csv')"
   ]
  },
  {
   "cell_type": "code",
   "execution_count": null,
   "id": "444b3861",
   "metadata": {},
   "outputs": [],
   "source": [
    "all_picks"
   ]
  },
  {
   "cell_type": "code",
   "execution_count": null,
   "id": "921e15bb",
   "metadata": {},
   "outputs": [],
   "source": [
    "all_picks_networks = all_picks['station_network_code'].drop_duplicates()\n",
    "list_networks = list(all_picks_networks)\n",
    "all_picks_networks = ','.join(all_picks_networks)\n",
    "all_picks_networks"
   ]
  },
  {
   "cell_type": "code",
   "execution_count": null,
   "id": "41a4493d",
   "metadata": {},
   "outputs": [],
   "source": [
    "list_networks"
   ]
  },
  {
   "cell_type": "code",
   "execution_count": null,
   "id": "b7d7dc2b",
   "metadata": {},
   "outputs": [],
   "source": [
    "# Clean up the memory\n",
    "del all_picks"
   ]
  },
  {
   "cell_type": "markdown",
   "id": "1ca3946e",
   "metadata": {},
   "source": [
    "## Plot the offshore events north of 44&deg; N"
   ]
  },
  {
   "cell_type": "code",
   "execution_count": null,
   "id": "7eb5ede4",
   "metadata": {},
   "outputs": [],
   "source": [
    "new_events = pd.read_csv('../data/datasets_2014/new_events.csv')"
   ]
  },
  {
   "cell_type": "code",
   "execution_count": null,
   "id": "cc7496a2",
   "metadata": {},
   "outputs": [],
   "source": [
    "new_events_44N_and_above= new_events.loc[(new_events['latitude']>44)&(new_events['longitude']<-124)]\n",
    "new_events_44N_and_above = new_events_44N_and_above[0:50] "
   ]
  },
  {
   "cell_type": "code",
   "execution_count": null,
   "id": "161b1476",
   "metadata": {},
   "outputs": [],
   "source": [
    "# parameters for subplots_cluster_scale\n",
    "mycatalog= mycatalog\n",
    "mycatalog_picks=mycatalog_picks\n",
    "networks= all_picks_networks\n",
    "channel= \"?H?\"\n",
    "idx_sta= 50\n",
    "title= \"Events matched\"\n",
    "fig_title= \"new_events_filtered_44N_and_above_plots.pdf\"\n",
    "\n",
    "subplots_cluster_scale(new_events_44N_and_above,mycatalog_picks,networks,channel,idx_sta,title,fig_title)"
   ]
  },
  {
   "cell_type": "code",
   "execution_count": null,
   "id": "4c5a80d9",
   "metadata": {},
   "outputs": [],
   "source": []
  },
  {
   "cell_type": "code",
   "execution_count": null,
   "id": "4634dd6c",
   "metadata": {},
   "outputs": [],
   "source": []
  },
  {
   "cell_type": "markdown",
   "id": "78356615",
   "metadata": {},
   "source": [
    "## Plot one of the cluster events at around 46.5&deg; N, 125&deg; W using the plotting functions "
   ]
  },
  {
   "cell_type": "code",
   "execution_count": null,
   "id": "a8e3d4bd",
   "metadata": {},
   "outputs": [],
   "source": [
    "def subplots_cluster_scale_p(idx, mycatalog, mycatalog_picks, networks, channel, idx_sta, title, fig_title):\n",
    "    \"\"\"\n",
    "    idx: event_idx\n",
    "    mycatalog: dataframe that contains only the unique picks (i.e., mycatalog_picks.drop_duplicates(subset=['idx']).copy())\n",
    "    mycatalog_picks: all pick assignments csv file (e.g., pd.read_csv('../data/datasets_OR/all_pick_assignments_OR.csv'))\n",
    "    networks: string of networks (e.g., \"NV,OO,7A\")\n",
    "    channel: specify the direction of the channel (i.e., \"?HZ\", \"?HE\" or \"?HN\")\n",
    "    idx_sta: choose the station to which you want to show the waveforms\n",
    "    title: title in a string\n",
    "    fig_title: figure title in as string\n",
    "    \"\"\"\n",
    "        \n",
    "    # Define the clients \n",
    "    client_waveform = WaveformClient()\n",
    "    client2 = Client(\"IRIS\")\n",
    "    client_ncedc = Client('NCEDC')\n",
    "\n",
    "\n",
    "    # Plot the earthquake moveout for one of the unmatched events for all stations \n",
    "    event = mycatalog\n",
    "    picks = mycatalog_picks\n",
    "    picks_idx = picks.loc[picks['idx']==idx]\n",
    "    pick_sta = np.unique(picks_idx['station'])\n",
    "    \n",
    "    otime = UTCDateTime(str(event[event['idx'] == idx][\"datetime\"].values[0]))\n",
    "    distances = []\n",
    "    max_dist = 10\n",
    "    min_dist = 0\n",
    "    \n",
    "    print(event[event['idx'] == idx]['picks'].values[0])\n",
    "    for station in pick_sta:\n",
    "        \n",
    "        \n",
    "        sta_inv = client2.get_stations(network=networks,\n",
    "                                       station=station, channel=\"?H?\", \n",
    "                                       starttime=otime - 1e8, endtime=otime + 1e8,level=\"response\")\n",
    "        if len(sta_inv) == 0:\n",
    "#             print(f\"Failed to fetch for {networks} {station} {otime}\")\n",
    "            continue\n",
    "            \n",
    "        _network = sta_inv[0].code\n",
    "        slat = sta_inv[0][0].latitude\n",
    "        slon = sta_inv[0][0].longitude\n",
    "        olat = event.loc[event['idx']==idx, 'latitude'].values[0]\n",
    "        olon = event.loc[event['idx']==idx, 'longitude'].values[0]\n",
    "        \n",
    "        dis1 = locations2degrees(olat, olon, slat, slon)\n",
    "        dist = degrees2kilometers(dis1)\n",
    "#         if max_dist < dist:\n",
    "#             max_dist = dist\n",
    "            \n",
    "#         if min_dist > dist:\n",
    "#             min_dist = dist\n",
    "            \n",
    "        distances.append([None, _network, station, dist])\n",
    "\n",
    "    # Sort distances\n",
    "    distances = sorted(distances, key=lambda item: item[-1])\n",
    "    distances = distances[:idx_sta+1]\n",
    "    \n",
    "    # Set up to define the xlim and ylim\n",
    "    max_y = 0\n",
    "    min_y = 0\n",
    "    # This count is for the if statements. Only used to ensure that min_y_count \n",
    "    #is changed from 0 to either the first positive value of the distance of one of the stations from the event\n",
    "    min_y_count = 0 \n",
    "    \n",
    "    max_x = 0\n",
    "    min_x = 0\n",
    "    \n",
    "    # This count is for the if statements. Only used to ensure that min_x_count \n",
    "    #is changed from 0 to either the first positive value of P pick time or the first positive value of S pick time\n",
    "    min_x_count= 0\n",
    "    # Create a figure\n",
    "    fig,axs = plt.subplots(1,4,figsize=(18,6))\n",
    "    gs = fig.add_gridspec(3, hspace=0, figure=fig)\n",
    "#     axs = gs.subplots(sharex=True, sharey=True)\n",
    "    starttime = otime -30\n",
    "    endtime = otime + 120\n",
    "    \n",
    "    # Define texts\n",
    "    texts = []\n",
    "    \n",
    "    for i, ii in enumerate(distances):\n",
    "            \n",
    "        if ii[1] in ['NC', 'BK']:\n",
    "            # Query waveforms\n",
    "            st = client_ncedc.get_waveforms(network=ii[1], station=ii[2], location=\"*\", channel=channel,starttime=starttime, endtime=endtime)\n",
    "\n",
    "        elif ii[1] in networks: \n",
    "            st = client_waveform.get_waveforms(network=ii[1], station=ii[2], channel=channel,starttime=starttime, endtime=endtime)\n",
    "  \n",
    "        else: \n",
    "            st =  Stream()\n",
    "            print(f\"WARNING: No data for {ii[1]}.{ii[2]}.{channel} on {otime}.\")    \n",
    "            continue\n",
    "            \n",
    "#         print(f\"len(st):{len(st)}\")\n",
    "#         print(st)\n",
    "    \n",
    "        # Skip empty traces\n",
    "        if len(st) == 0:\n",
    "                continue\n",
    "                \n",
    "        sta_picks = picks_idx[picks_idx['station'] == ii[2]]\n",
    "        p_picks = sta_picks.loc[sta_picks['phase'] == 'P']\n",
    "        s_picks = sta_picks.loc[sta_picks['phase'] == 'S']\n",
    "#         print(len(p_picks),len(s_picks))\n",
    "        \n",
    "        # Define the xlim values\n",
    "        # Define the maximum x value\n",
    "        if len(s_picks) > 0:\n",
    "            if max_x < UTCDateTime(s_picks.iloc[0]['time_pick']) - starttime:\n",
    "                max_x = UTCDateTime(s_picks.iloc[0]['time_pick']+5) - starttime\n",
    "        elif len(p_picks) > 0:\n",
    "            if max_x < UTCDateTime(p_picks.iloc[0]['time_pick']) - starttime: \n",
    "                max_x = UTCDateTime(p_picks.iloc[0]['time_pick']+5) - starttime\n",
    "        else:\n",
    "            print('No picks for this station. Skipping.')\n",
    "            continue \n",
    "            \n",
    "        # Define the minimum x value\n",
    "        if len(p_picks) > 0:\n",
    "            if min_x_count == 0:\n",
    "                if min_x < UTCDateTime(p_picks.iloc[0]['time_pick']) - starttime:\n",
    "                    min_x = UTCDateTime(p_picks.iloc[0]['time_pick']-5) - starttime\n",
    "                    min_x_count += 1           \n",
    "            else:\n",
    "                if min_x >= UTCDateTime(p_picks.iloc[0]['time_pick']) - starttime:\n",
    "                    min_x = UTCDateTime(p_picks.iloc[0]['time_pick']-5) - starttime            \n",
    "        elif len(s_picks) > 0:\n",
    "            if min_x_count == 0:\n",
    "                if min_x < UTCDateTime(s_picks.iloc[0]['time_pick'])- starttime:\n",
    "                    min_x = UTCDateTime(s_picks.iloc[0]['time_pick']-5)- starttime\n",
    "                    min_x_count += 1                \n",
    "            else:\n",
    "                if min_x >= UTCDateTime(s_picks.iloc[0]['time_pick'])- starttime:\n",
    "                    min_x = UTCDateTime(s_picks.iloc[0]['time_pick']-5) - starttime\n",
    "        else:\n",
    "            print('No picks for this station. Skipping.')\n",
    "            continue    \n",
    "            \n",
    "        if len(p_picks) == 0:\n",
    "            continue\n",
    "            \n",
    "#         print('This is after the p_pick continue statement')\n",
    "    \n",
    "        # Define ylim values\n",
    "        if min_y_count == 0:\n",
    "            if min_y < ii[3]:\n",
    "                min_y = ii[3] - 5\n",
    "                min_y_count += 1           \n",
    "        else:\n",
    "            if min_y >= ii[3]:\n",
    "                min_y = ii[3] - 5 \n",
    "                \n",
    "        max_y = ii[3] + 5\n",
    "        \n",
    "    scaling_factor = (1/2)*(max_y-min_y)   \n",
    "        \n",
    "    for i, ii in enumerate(distances):\n",
    "            \n",
    "        if ii[1] in ['NC', 'BK']:\n",
    "            # Query waveforms\n",
    "            st = client_ncedc.get_waveforms(network=ii[1], station=ii[2], location=\"*\", channel=channel,starttime=starttime, endtime=endtime)\n",
    "\n",
    "        elif ii[1] in networks: \n",
    "            st = client_waveform.get_waveforms(network=ii[1], station=ii[2], channel=channel,starttime=starttime, endtime=endtime)\n",
    "  \n",
    "        else: \n",
    "            st =  Stream()\n",
    "            print(f\"WARNING: No data for {ii[1]}.{ii[2]}.{channel} on {otime}.\")    \n",
    "            continue\n",
    "            \n",
    "#         print(f\"len(st):{len(st)}\")\n",
    "#         print(st)\n",
    "    \n",
    "        # Skip empty traces\n",
    "        if len(st) == 0:\n",
    "                continue\n",
    "        _st = Stream()\n",
    "        # Check for HH and BH channels presence\n",
    "        has_HH = bool(st.select(channel=\"HH?\"))\n",
    "        has_BH = bool(st.select(channel=\"BH?\"))\n",
    "\n",
    "        # Apply selection logic based on channel presence\n",
    "        if has_HH and has_BH:\n",
    "            # If both HH and BH channels are present, select only HH\n",
    "            _st += st.select(channel=\"HH?\")\n",
    "        elif has_HH:\n",
    "            # If only HH channels are present\n",
    "            _st += st.select(channel=\"HH?\")\n",
    "        elif has_BH:\n",
    "            # If only BH channels are present\n",
    "            _st += st.select(channel=\"BH?\")\n",
    "\n",
    "        st = _st\n",
    "\n",
    "        print(f'Second st print:{_st}')\n",
    "              \n",
    "        st = Stream(filter(lambda st: st.stats.sampling_rate > 10, st))\n",
    "        st.taper(max_percentage=0.05)\n",
    "        st.filter(type='bandpass', freqmin=2, freqmax=25)\n",
    "        st.merge(fill_value='interpolate') # fill gaps if there are any.\n",
    "\n",
    "#         print(st)\n",
    "        # Select only one trace per channel\n",
    "        unique_channels = set(tr.stats.channel for tr in st)\n",
    "        selected_traces = []\n",
    "        \n",
    "        for ch in unique_channels:\n",
    "            selected_traces.append(next(tr for tr in st if tr.stats.channel == ch))\n",
    "        st = Stream(selected_traces)\n",
    "                   \n",
    "        trim_st = st.copy()\n",
    "        sta_picks = picks_idx[picks_idx['station'] == ii[2]]\n",
    "        p_picks = sta_picks.loc[sta_picks['phase'] == 'P']\n",
    "        s_picks = sta_picks.loc[sta_picks['phase'] == 'S']\n",
    "#         print(len(p_picks),len(s_picks))\n",
    "        \n",
    "        \n",
    "                \n",
    "            \n",
    "        if len(p_picks) == 0:\n",
    "            continue \n",
    "#         print('This is after the p_pick continue statement')\n",
    "        print(trim_st)\n",
    "        \n",
    "        for iax in range(len(trim_st)):\n",
    "            print(iax)\n",
    "            sampling_rate = trim_st[iax].stats.sampling_rate\n",
    "            trim_st = trim_st.normalize()\n",
    "            \n",
    "            tp = UTCDateTime(p_picks.iloc[0]['time_pick']) - otime + 30\n",
    "            i1 = int((tp-5)*sampling_rate)\n",
    "            i2 = int((tp+15)*sampling_rate)\n",
    "\n",
    "            offsets1 = ii[3]\n",
    "            try: \n",
    "                wave = trim_st[iax].data\n",
    "                wave = wave / (np.nanmax(wave[i1:i2], axis=-1)*10)\n",
    "            except:\n",
    "                continue \n",
    "            \n",
    "#             print(trim_st[iax].stats.sampling_rate)\n",
    "            axs[iax].plot(trim_st[iax].times(), wave * scaling_factor + offsets1, \n",
    "                          color='black', label=f\"{trim_st[iax].stats.channel}\", alpha=0.7, lw=0.5)\n",
    "#             axs[iax].plot(trim_st[iax].times(), wave * 30 + offsets1, color='black', label=f\"{trim_st[iax].stats.channel}\", alpha=0.7, lw=0.5)\n",
    "\n",
    "#             axs[iax].text(xlim[-1] + 2,   offsets1, \n",
    "#                               [ii[2]], fontsize=8, verticalalignment='bottom')\n",
    "\n",
    "            if len(p_picks) > 0:\n",
    "                axs[iax].vlines(UTCDateTime(p_picks.iloc[0]['time_pick']) - otime + 30, offsets1 - (1/35) * scaling_factor, \n",
    "                                offsets1 + (1/35) * scaling_factor, color='r')\n",
    "            if len(s_picks) > 0:\n",
    "                axs[iax].vlines(UTCDateTime(s_picks.iloc[0]['time_pick']) - otime + 30, offsets1 - (1/35) * scaling_factor, \n",
    "                                offsets1 + (1/35) * scaling_factor, color='b')\n",
    "        texts.append([ii[2],ii[3]])\n",
    "\n",
    "    \n",
    "#     print(max_y,min_y)\n",
    "    chs = ['2','1','Z']\n",
    "    for iax in range(3):\n",
    "        for i, ii in enumerate(texts):\n",
    "            offsets1 = ii[1]\n",
    "            axs[iax].text(max_x + 0.5, offsets1, \n",
    "                                  [ii[0]], fontsize=8, verticalalignment='bottom')\n",
    "        axs[iax].legend(chs[iax],loc='upper right', handlelength=0)\n",
    "        axs[iax].set_ylim([min_y,max_y])\n",
    "        axs[iax].set_xlim([min_x,max_x])\n",
    "        axs[iax].grid(alpha=0.5)\n",
    "    fig.supxlabel('Time [sec]', y=0.07)\n",
    "    fig.supylabel('Distance [km]')\n",
    "    fig.suptitle(f\"{title}: Origin Time={otime}, \\n Latitude={round(event[event['idx']==idx]['latitude'].values[0], 2)}, Longtitude={round(event[event['idx']==idx]['longitude'].values[0], 2)}, Depth={round(event[event['idx']==idx]['depth'].values[0], 2)}\", y=1)\n",
    "    \n",
    "    m = Basemap(projection='merc', llcrnrlat=40, urcrnrlat=50, llcrnrlon=-130, urcrnrlon=-120, resolution='i', ax=axs[3])\n",
    "    m.drawcoastlines()\n",
    "    m.drawcountries()\n",
    "    m.drawstates()\n",
    "    m.drawmapboundary()\n",
    "    m.drawparallels(np.arange(40, 51, 1), labels=[1,0,0,0])\n",
    "    m.drawmeridians(np.arange(-130, -119, 1), labels=[0,0,0,1])\n",
    "    x, y = m(event[event['idx']==idx]['longitude'].values[0], event[event['idx']==idx]['latitude'].values[0])\n",
    "    m.plot(x, y, 'ro', markersize=9)\n",
    "    axs[3].set_title('Event Location')\n",
    "    \n",
    "    plt.show()\n"
   ]
  },
  {
   "cell_type": "code",
   "execution_count": null,
   "id": "0ba14668",
   "metadata": {},
   "outputs": [],
   "source": [
    "def subplots_cluster_scale(idx, mycatalog, mycatalog_picks, networks, channel, idx_sta, title, fig_title):\n",
    "    \"\"\"\n",
    "    idx: event_idx\n",
    "    mycatalog: dataframe that contains only the unique picks (i.e., mycatalog_picks.drop_duplicates(subset=['idx']).copy())\n",
    "    mycatalog_picks: all pick assignments csv file (e.g., pd.read_csv('../data/datasets_OR/all_pick_assignments_OR.csv'))\n",
    "    networks: string of networks (e.g., \"NV,OO,7A\")\n",
    "    channel: specify the direction of the channel (i.e., \"?HZ\", \"?HE\" or \"?HN\")\n",
    "    idx_sta: choose the station to which you want to show the waveforms\n",
    "    title: title in a string\n",
    "    fig_title: figure title in as string\n",
    "    \"\"\"\n",
    "        \n",
    "    # Define the clients \n",
    "    client_waveform = WaveformClient()\n",
    "    client2 = Client(\"IRIS\")\n",
    "    client_ncedc = Client('NCEDC')\n",
    "\n",
    "\n",
    "    # Plot the earthquake moveout for one of the unmatched events for all stations \n",
    "    event = mycatalog\n",
    "    picks = mycatalog_picks\n",
    "    \n",
    "    p = PdfPages(fig_title) \n",
    "    \n",
    "    for idx in event['idx']:\n",
    "        \n",
    "        picks_idx = picks.loc[picks['idx']==idx]\n",
    "        pick_sta = np.unique(picks_idx['station'])\n",
    "\n",
    "        otime = UTCDateTime(str(event[event['idx'] == idx][\"datetime\"].values[0]))\n",
    "        distances = []\n",
    "        max_dist = 10\n",
    "        min_dist = 0\n",
    "\n",
    "        print(event[event['idx'] == idx]['picks'].values[0])\n",
    "        for station in pick_sta:\n",
    "\n",
    "\n",
    "            sta_inv = client2.get_stations(network=networks,\n",
    "                                           station=station, channel=\"?H?\", \n",
    "                                           starttime=otime - 1e8, endtime=otime + 1e8,level=\"response\")\n",
    "            if len(sta_inv) == 0:\n",
    "    #             print(f\"Failed to fetch for {networks} {station} {otime}\")\n",
    "                continue\n",
    "\n",
    "            _network = sta_inv[0].code\n",
    "            slat = sta_inv[0][0].latitude\n",
    "            slon = sta_inv[0][0].longitude\n",
    "            olat = event.loc[event['idx']==idx, 'latitude'].values[0]\n",
    "            olon = event.loc[event['idx']==idx, 'longitude'].values[0]\n",
    "\n",
    "            dis1 = locations2degrees(olat, olon, slat, slon)\n",
    "            dist = degrees2kilometers(dis1)\n",
    "    #         if max_dist < dist:\n",
    "    #             max_dist = dist\n",
    "\n",
    "    #         if min_dist > dist:\n",
    "    #             min_dist = dist\n",
    "\n",
    "            distances.append([None, _network, station, dist])\n",
    "\n",
    "        # Sort distances\n",
    "        distances = sorted(distances, key=lambda item: item[-1])\n",
    "        distances = distances[:idx_sta+1]\n",
    "\n",
    "        # Set up to define the xlim and ylim\n",
    "        max_y = 0\n",
    "        min_y = 0\n",
    "        # This count is for the if statements. Only used to ensure that min_y_count \n",
    "        #is changed from 0 to either the first positive value of the distance of one of the stations from the event\n",
    "        min_y_count = 0 \n",
    "\n",
    "        max_x = 0\n",
    "        min_x = 0\n",
    "\n",
    "        # This count is for the if statements. Only used to ensure that min_x_count \n",
    "        #is changed from 0 to either the first positive value of P pick time or the first positive value of S pick time\n",
    "        min_x_count= 0\n",
    "        # Create a figure\n",
    "        fig,axs = plt.subplots(1,4,figsize=(18,6))\n",
    "        gs = fig.add_gridspec(3, hspace=0, figure=fig)\n",
    "    #     axs = gs.subplots(sharex=True, sharey=True)\n",
    "        starttime = otime -30\n",
    "        endtime = otime + 120\n",
    "\n",
    "        # Define texts\n",
    "        texts = []\n",
    "\n",
    "        for i, ii in enumerate(distances):\n",
    "\n",
    "            if ii[1] in ['NC', 'BK']:\n",
    "                # Query waveforms\n",
    "                st = client_ncedc.get_waveforms(network=ii[1], station=ii[2], location=\"*\", channel=channel,starttime=starttime, endtime=endtime)\n",
    "\n",
    "            elif ii[1] in networks: \n",
    "                st = client_waveform.get_waveforms(network=ii[1], station=ii[2], channel=channel,starttime=starttime, endtime=endtime)\n",
    "\n",
    "            else: \n",
    "                st =  Stream()\n",
    "                print(f\"WARNING: No data for {ii[1]}.{ii[2]}.{channel} on {otime}.\")    \n",
    "                continue\n",
    "\n",
    "    #         print(f\"len(st):{len(st)}\")\n",
    "    #         print(st)\n",
    "\n",
    "            # Skip empty traces\n",
    "            if len(st) == 0:\n",
    "                    continue\n",
    "\n",
    "            sta_picks = picks_idx[picks_idx['station'] == ii[2]]\n",
    "            p_picks = sta_picks.loc[sta_picks['phase'] == 'P']\n",
    "            s_picks = sta_picks.loc[sta_picks['phase'] == 'S']\n",
    "    #         print(len(p_picks),len(s_picks))\n",
    "\n",
    "            # Define the xlim values\n",
    "            # Define the maximum x value\n",
    "            if len(s_picks) > 0:\n",
    "                if max_x < UTCDateTime(s_picks.iloc[0]['time_pick']) - starttime:\n",
    "                    max_x = UTCDateTime(s_picks.iloc[0]['time_pick']+5) - starttime\n",
    "            elif len(p_picks) > 0:\n",
    "                if max_x < UTCDateTime(p_picks.iloc[0]['time_pick']) - starttime: \n",
    "                    max_x = UTCDateTime(p_picks.iloc[0]['time_pick']+5) - starttime\n",
    "            else:\n",
    "                print('No picks for this station. Skipping.')\n",
    "                continue \n",
    "\n",
    "            # Define the minimum x value\n",
    "            if len(p_picks) > 0:\n",
    "                if min_x_count == 0:\n",
    "                    if min_x < UTCDateTime(p_picks.iloc[0]['time_pick']) - starttime:\n",
    "                        min_x = UTCDateTime(p_picks.iloc[0]['time_pick']-5) - starttime\n",
    "                        min_x_count += 1           \n",
    "                else:\n",
    "                    if min_x >= UTCDateTime(p_picks.iloc[0]['time_pick']) - starttime:\n",
    "                        min_x = UTCDateTime(p_picks.iloc[0]['time_pick']-5) - starttime            \n",
    "            elif len(s_picks) > 0:\n",
    "                if min_x_count == 0:\n",
    "                    if min_x < UTCDateTime(s_picks.iloc[0]['time_pick'])- starttime:\n",
    "                        min_x = UTCDateTime(s_picks.iloc[0]['time_pick']-5)- starttime\n",
    "                        min_x_count += 1                \n",
    "                else:\n",
    "                    if min_x >= UTCDateTime(s_picks.iloc[0]['time_pick'])- starttime:\n",
    "                        min_x = UTCDateTime(s_picks.iloc[0]['time_pick']-5) - starttime\n",
    "            else:\n",
    "                print('No picks for this station. Skipping.')\n",
    "                continue    \n",
    "\n",
    "    #         if len(p_picks) == 0:\n",
    "    #             continue\n",
    "\n",
    "    #         print('This is after the p_pick continue statement')\n",
    "\n",
    "            # Define ylim values\n",
    "            if min_y_count == 0:\n",
    "                if min_y < ii[3]:\n",
    "                    min_y = ii[3] - 5\n",
    "                    min_y_count += 1           \n",
    "            else:\n",
    "                if min_y >= ii[3]:\n",
    "                    min_y = ii[3] - 5 \n",
    "\n",
    "            max_y = ii[3] + 5\n",
    "\n",
    "        scaling_factor = (1/2)*(max_y-min_y)   \n",
    "\n",
    "        for i, ii in enumerate(distances):\n",
    "\n",
    "            if ii[1] in ['NC', 'BK']:\n",
    "                # Query waveforms\n",
    "                st = client_ncedc.get_waveforms(network=ii[1], station=ii[2], location=\"*\", channel=channel,starttime=starttime, endtime=endtime)\n",
    "\n",
    "            elif ii[1] in networks: \n",
    "                st = client_waveform.get_waveforms(network=ii[1], station=ii[2], channel=channel,starttime=starttime, endtime=endtime)\n",
    "\n",
    "            else: \n",
    "                st =  Stream()\n",
    "                print(f\"WARNING: No data for {ii[1]}.{ii[2]}.{channel} on {otime}.\")    \n",
    "                continue\n",
    "\n",
    "    #         print(f\"len(st):{len(st)}\")\n",
    "    #         print(st)\n",
    "\n",
    "            # Skip empty traces\n",
    "            if len(st) == 0:\n",
    "                    continue\n",
    "            _st = Stream()\n",
    "            # Check for HH and BH channels presence\n",
    "            has_HH = bool(st.select(channel=\"HH?\"))\n",
    "            has_BH = bool(st.select(channel=\"BH?\"))\n",
    "\n",
    "            # Apply selection logic based on channel presence\n",
    "            if has_HH and has_BH:\n",
    "                # If both HH and BH channels are present, select only HH\n",
    "                _st += st.select(channel=\"HH?\")\n",
    "            elif has_HH:\n",
    "                # If only HH channels are present\n",
    "                _st += st.select(channel=\"HH?\")\n",
    "            elif has_BH:\n",
    "                # If only BH channels are present\n",
    "                _st += st.select(channel=\"BH?\")\n",
    "\n",
    "            st = _st\n",
    "\n",
    "            print(f'Second st print:{_st}')\n",
    "\n",
    "            st = Stream(filter(lambda st: st.stats.sampling_rate > 10, st))\n",
    "            st.taper(max_percentage=0.05)\n",
    "            st.filter(type='bandpass', freqmin=2, freqmax=25)\n",
    "            st.merge(fill_value='interpolate') # fill gaps if there are any.\n",
    "\n",
    "    #         print(st)\n",
    "            # Select only one trace per channel\n",
    "            unique_channels = set(tr.stats.channel for tr in st)\n",
    "            selected_traces = []\n",
    "\n",
    "            for ch in unique_channels:\n",
    "                selected_traces.append(next(tr for tr in st if tr.stats.channel == ch))\n",
    "            st = Stream(selected_traces)\n",
    "\n",
    "            trim_st = st.copy()\n",
    "            sta_picks = picks_idx[picks_idx['station'] == ii[2]]\n",
    "            p_picks = sta_picks.loc[sta_picks['phase'] == 'P']\n",
    "            s_picks = sta_picks.loc[sta_picks['phase'] == 'S']\n",
    "    #         print(len(p_picks),len(s_picks))\n",
    "\n",
    "\n",
    "\n",
    "\n",
    "    #         if len(p_picks) == 0:\n",
    "    #             continue \n",
    "    #         print('This is after the p_pick continue statement')\n",
    "            print(trim_st)\n",
    "\n",
    "            for iax in range(len(trim_st)):\n",
    "                print(iax)\n",
    "                sampling_rate = trim_st[iax].stats.sampling_rate\n",
    "                trim_st = trim_st.normalize()\n",
    "\n",
    "                if len(p_picks)>0:\n",
    "                    tp = UTCDateTime(p_picks.iloc[0]['time_pick']) - otime + 30\n",
    "                    i1 = int((tp-5)*sampling_rate)\n",
    "                    i2 = int((tp+15)*sampling_rate)\n",
    "                elif len(s_picks)>0:\n",
    "                    ts = UTCDateTime(s_picks.iloc[0]['time_pick']) - otime + 30\n",
    "                    i1 = int((ts-10)*sampling_rate)\n",
    "                    i2 = int((ts+10)*sampling_rate)\n",
    "                else:\n",
    "                    print(f\"WARNING: No pick time for {ii[1]}.{ii[2]}.{channel} on {otime}.\")\n",
    "\n",
    "                offsets1 = ii[3]\n",
    "                try: \n",
    "                    wave = trim_st[iax].data\n",
    "                    wave = wave / (np.nanmax(wave[i1:i2], axis=-1)*10)\n",
    "                except:\n",
    "                    continue \n",
    "\n",
    "    #             print(trim_st[iax].stats.sampling_rate)\n",
    "                axs[iax].plot(trim_st[iax].times(), wave * scaling_factor + offsets1, \n",
    "                              color='black', label=f\"{trim_st[iax].stats.channel}\", alpha=0.7, lw=0.5)\n",
    "    #             axs[iax].plot(trim_st[iax].times(), wave * 30 + offsets1, color='black', label=f\"{trim_st[iax].stats.channel}\", alpha=0.7, lw=0.5)\n",
    "\n",
    "    #             axs[iax].text(xlim[-1] + 2,   offsets1, \n",
    "    #                               [ii[2]], fontsize=8, verticalalignment='bottom')\n",
    "\n",
    "                if len(p_picks) > 0:\n",
    "                    axs[iax].vlines(UTCDateTime(p_picks.iloc[0]['time_pick']) - otime + 30, offsets1 - (1/35) * scaling_factor, \n",
    "                                    offsets1 + (1/35) * scaling_factor, color='r')\n",
    "                if len(s_picks) > 0:\n",
    "                    axs[iax].vlines(UTCDateTime(s_picks.iloc[0]['time_pick']) - otime + 30, offsets1 - (1/35) * scaling_factor, \n",
    "                                    offsets1 + (1/35) * scaling_factor, color='b')\n",
    "            texts.append([ii[2],ii[3]])\n",
    "\n",
    "\n",
    "    #     print(max_y,min_y)\n",
    "        chs = ['2','1','Z']\n",
    "        for iax in range(3):\n",
    "            for i, ii in enumerate(texts):\n",
    "                offsets1 = ii[1]\n",
    "                axs[iax].text(max_x + 0.5, offsets1, \n",
    "                                      [ii[0]], fontsize=8, verticalalignment='bottom')\n",
    "            axs[iax].legend(chs[iax],loc='upper right', handlelength=0)\n",
    "            axs[iax].set_ylim([min_y,max_y])\n",
    "            axs[iax].set_xlim([min_x,max_x])\n",
    "            axs[iax].grid(alpha=0.5)\n",
    "        fig.supxlabel('Time [sec]', y=0.07)\n",
    "        fig.supylabel('Distance [km]')\n",
    "        fig.suptitle(f\"{title}: Origin Time={otime}, \\n Latitude={round(event[event['idx']==idx]['latitude'].values[0], 2)}, Longtitude={round(event[event['idx']==idx]['longitude'].values[0], 2)}, Depth={round(event[event['idx']==idx]['depth'].values[0], 2)}\", y=1)\n",
    "\n",
    "        m = Basemap(projection='merc', llcrnrlat=40, urcrnrlat=50, llcrnrlon=-130, urcrnrlon=-120, resolution='i', ax=axs[3])\n",
    "        m.drawcoastlines()\n",
    "        m.drawcountries()\n",
    "        m.drawstates()\n",
    "        m.drawmapboundary()\n",
    "        m.drawparallels(np.arange(40, 51, 1), labels=[1,0,0,0])\n",
    "        m.drawmeridians(np.arange(-130, -119, 1), labels=[0,0,0,1])\n",
    "        x, y = m(event[event['idx']==idx]['longitude'].values[0], event[event['idx']==idx]['latitude'].values[0])\n",
    "        m.plot(x, y, 'ro', markersize=9)\n",
    "        axs[3].set_title('Event Location')\n",
    "        \n",
    "        fig.savefig(p, format='pdf')  \n",
    "\n",
    "    p.close()"
   ]
  },
  {
   "cell_type": "markdown",
   "id": "5ef03321",
   "metadata": {},
   "source": [
    "### Specify the latitudes and longitudes"
   ]
  },
  {
   "cell_type": "code",
   "execution_count": null,
   "id": "c2f79e5a",
   "metadata": {},
   "outputs": [],
   "source": [
    "new_events = pd.read_csv('../data/datasets_2014/new_events.csv')"
   ]
  },
  {
   "cell_type": "code",
   "execution_count": null,
   "id": "5d048ab8",
   "metadata": {},
   "outputs": [],
   "source": [
    "idx = new_events[new_events['station']=='J25B']['idx'].values\n",
    "idx"
   ]
  },
  {
   "cell_type": "code",
   "execution_count": null,
   "id": "db3d4c0b",
   "metadata": {},
   "outputs": [],
   "source": [
    "new_events = new_events[new_events[\"idx\"].isin(idx)]\n",
    "new_events"
   ]
  },
  {
   "cell_type": "code",
   "execution_count": null,
   "id": "ac241e77",
   "metadata": {},
   "outputs": [],
   "source": [
    "new_events_specific_lat_lon = new_events.loc[(new_events['latitude']>46)&(new_events['latitude']<47.5)&(new_events['longitude']<-124)&(new_events['longitude']>-126)]\n",
    "new_events_specific_lat_lon"
   ]
  },
  {
   "cell_type": "code",
   "execution_count": null,
   "id": "1c610d2a",
   "metadata": {},
   "outputs": [],
   "source": [
    "# new_events = new_events_specific_lat_lon.loc[(new_events_specific_lat_lon['depth']>1)&(new_events_specific_lat_lon['depth']<40)]\n",
    "new_events = new_events_specific_lat_lon.loc[new_events_specific_lat_lon['picks']>=6][0:30]\n",
    "new_events"
   ]
  },
  {
   "cell_type": "markdown",
   "id": "60eda7e0",
   "metadata": {},
   "source": [
    "### Histogram: Depths of events"
   ]
  },
  {
   "cell_type": "code",
   "execution_count": null,
   "id": "92381c64",
   "metadata": {},
   "outputs": [],
   "source": [
    "# Plot the histogram of the number of picks for the matched events\n",
    "plt.figure()\n",
    "bins = np.linspace(0,50,25)\n",
    "plt.hist(new_events['depth'],bins=bins)\n",
    "plt.xlabel('Depth (km)')\n",
    "plt.ylabel('Number of Events')\n",
    "plt.title('Histogram of the depths of the events in the cluster at ~46.5$^\\circ$ N')"
   ]
  },
  {
   "cell_type": "markdown",
   "id": "436cab64",
   "metadata": {},
   "source": [
    "### Plot HH?"
   ]
  },
  {
   "cell_type": "code",
   "execution_count": null,
   "id": "2f35b6a6",
   "metadata": {
    "scrolled": true
   },
   "outputs": [],
   "source": [
    "# parameters\n",
    "mycatalog= mycatalog\n",
    "mycatalog_picks=mycatalog_picks\n",
    "networks= all_picks_networks\n",
    "channel= \"HH?\"\n",
    "idx_sta= 50\n",
    "title= \"Events matched\"\n",
    "fig_title= \"events_matched.png\"\n",
    "ylim= [0,300]\n",
    "xlim= [30,45]\n",
    "\n",
    "for idx in new_events['idx']:\n",
    "    subplots_cluster_scale_p(idx,mycatalog,mycatalog_picks,networks,channel,idx_sta,title,fig_title,ylim,xlim)"
   ]
  },
  {
   "cell_type": "markdown",
   "id": "ad72ab1e",
   "metadata": {},
   "source": [
    "### Plot BH?"
   ]
  },
  {
   "cell_type": "code",
   "execution_count": null,
   "id": "c369c148",
   "metadata": {
    "scrolled": true
   },
   "outputs": [],
   "source": [
    "# parameters\n",
    "mycatalog= mycatalog\n",
    "mycatalog_picks=mycatalog_picks\n",
    "networks= all_picks_networks\n",
    "channel= \"BH?\"\n",
    "idx_sta= 50\n",
    "title= \"Events matched\"\n",
    "fig_title= \"events_matched.png\"\n",
    "ylim= [0,300]\n",
    "xlim= [30,45]\n",
    "\n",
    "for idx in new_events['idx']:\n",
    "    subplots_cluster_scale_p(idx,mycatalog,mycatalog_picks,networks,channel,idx_sta,title,fig_title,ylim,xlim)"
   ]
  },
  {
   "cell_type": "markdown",
   "id": "88c6211d",
   "metadata": {},
   "source": [
    "### Plot both HH? and BH?"
   ]
  },
  {
   "cell_type": "code",
   "execution_count": null,
   "id": "cf66bf4b",
   "metadata": {},
   "outputs": [],
   "source": [
    "new_events['datetime'] = pd.to_datetime(new_events['datetime'], utc = True)\n",
    "new_events"
   ]
  },
  {
   "cell_type": "code",
   "execution_count": null,
   "id": "b0f15bcc",
   "metadata": {
    "scrolled": true
   },
   "outputs": [],
   "source": [
    "# parameters for subplots_cluster_scale_p\n",
    "mycatalog= mycatalog\n",
    "mycatalog_picks=mycatalog_picks\n",
    "networks= all_picks_networks\n",
    "channel= \"?H?\"\n",
    "idx_sta= 50\n",
    "title= \"Events matched\"\n",
    "fig_title= \"events_matched.png\"\n",
    "\n",
    "for idx in new_events['idx']:\n",
    "    subplots_cluster_scale_p(idx,new_events,mycatalog_picks,networks,channel,idx_sta,title,fig_title)"
   ]
  },
  {
   "cell_type": "code",
   "execution_count": null,
   "id": "2ae32807",
   "metadata": {
    "scrolled": true
   },
   "outputs": [],
   "source": [
    "# parameters for subplots_cluster_scale\n",
    "mycatalog= mycatalog\n",
    "mycatalog_picks=mycatalog_picks\n",
    "networks= all_picks_networks\n",
    "channel= \"?H?\"\n",
    "idx_sta= 50\n",
    "title= \"Events matched\"\n",
    "fig_title= \"new_events_plots.pdf\"\n",
    "\n",
    "subplots_cluster_scale(new_events,mycatalog_picks,networks,channel,idx_sta,title,fig_title)"
   ]
  },
  {
   "cell_type": "code",
   "execution_count": null,
   "id": "7e815a03",
   "metadata": {},
   "outputs": [],
   "source": [
    "# Plot the histogram of the number of picks for the matched events\n",
    "new_events['time'] = pd.to_datetime(new_events['time'])\n",
    "year1 = 2012\n",
    "time1 = datetime(year=year1, month=1, day=1)\n",
    "time2 = datetime(year=year1 + 1, month=1, day=1)\n",
    "time_bins = pd.date_range(start=time1, end=time2, freq='5D')\n",
    "plt.figure()\n",
    "plt.hist(new_events['time'], bins=time_bins)\n",
    "plt.xlabel('Days')\n",
    "plt.ylabel('Number of Events')\n",
    "plt.title('Histogram for the frequency of the events in the cluster at ~46.5$^\\circ$ N')\n",
    "plt.xticks(rotation=45)  # Optional: Rotate x-axis labels for better readability\n",
    "plt.show()"
   ]
  },
  {
   "cell_type": "code",
   "execution_count": null,
   "id": "b02952d7",
   "metadata": {},
   "outputs": [],
   "source": [
    "import matplotlib \n",
    "from matplotlib import pyplot as plt \n",
    "from matplotlib.backends.backend_pdf import PdfPages \n",
    "\n",
    "# customizing runtime configuration stored \n",
    "# in matplotlib.rcParams \n",
    "plt.rcParams[\"figure.figsize\"] = [7.00, 3.50] \n",
    "plt.rcParams[\"figure.autolayout\"] = True\n",
    "\n",
    "fig1 = plt.figure() \n",
    "plt.plot([17, 45, 7, 8, 7], color='orange') \n",
    "\n",
    "fig2 = plt.figure() \n",
    "plt.plot([13, 25, 1, 6, 3], color='blue') \n",
    "\n",
    "Fig3 = plt.figure() \n",
    "plt.plot([22, 11, 2, 1, 23], color='green') \n",
    "\n",
    "\n",
    "def save_image(filename): \n",
    "\t\n",
    "\t# PdfPages is a wrapper around pdf \n",
    "\t# file so there is no clash and create \n",
    "\t# files with no error. \n",
    "\tp = PdfPages(filename) \n",
    "\t\n",
    "\t# get_fignums Return list of existing \n",
    "\t# figure numbers \n",
    "\tfig_nums = plt.get_fignums() \n",
    "\tfigs = [plt.figure(n) for n in fig_nums] \n",
    "\t\n",
    "\t# iterating over the numbers in list \n",
    "\tfor fig in figs: \n",
    "\t\t\n",
    "\t\t# and saving the files \n",
    "\t\tfig.savefig(p, format='pdf') \n",
    "\t\n",
    "\t# close the object \n",
    "\tp.close() \n",
    "\n",
    "# name your Pdf file \n",
    "filename = \"multi_plot_image.pdf\"\n",
    "\n",
    "# call the function \n",
    "save_image(filename) \n"
   ]
  },
  {
   "cell_type": "markdown",
   "id": "1c84d3bd",
   "metadata": {},
   "source": [
    "## Plot the cluster events at around 43.25&deg; N, 124.25&deg; W using the plotting functions "
   ]
  },
  {
   "cell_type": "code",
   "execution_count": null,
   "id": "6de7f122",
   "metadata": {},
   "outputs": [],
   "source": [
    "new_events_specific_lat_lon = unmatched_events_mycatalog2morton_and_anss.loc[(unmatched_events_mycatalog2morton_and_anss['latitude']>43.0)&(unmatched_events_mycatalog2morton_and_anss['latitude']<43.3)&(unmatched_events_mycatalog2morton_and_anss['longitude']<-124.25)&(unmatched_events_mycatalog2morton_and_anss['longitude']>-124.75)]\n",
    "new_events_specific_lat_lon"
   ]
  },
  {
   "cell_type": "code",
   "execution_count": null,
   "id": "6556db77",
   "metadata": {},
   "outputs": [],
   "source": [
    "new_events = new_events_specific_lat_lon.loc[new_events_specific_lat_lon['picks']>5]\n",
    "new_events"
   ]
  },
  {
   "cell_type": "markdown",
   "id": "e0fa50fe",
   "metadata": {},
   "source": [
    "### Plot HH?"
   ]
  },
  {
   "cell_type": "code",
   "execution_count": null,
   "id": "d16f802f",
   "metadata": {},
   "outputs": [],
   "source": [
    "# parameters\n",
    "mycatalog= mycatalog\n",
    "mycatalog_picks=mycatalog_picks\n",
    "networks= all_picks_networks\n",
    "channel= \"HH?\"\n",
    "idx_sta= 50\n",
    "title= \"Events matched\"\n",
    "fig_title= \"events_matched.png\"\n",
    "ylim= [0,300]\n",
    "xlim= [20,150]\n",
    "\n",
    "for idx in new_events['idx']:\n",
    "    subplots_cluster_scale_p(idx,mycatalog,mycatalog_picks,networks,channel,idx_sta,title,fig_title,ylim,xlim)"
   ]
  },
  {
   "cell_type": "markdown",
   "id": "5d0acaf0",
   "metadata": {},
   "source": [
    "### Plot BH?"
   ]
  },
  {
   "cell_type": "code",
   "execution_count": null,
   "id": "4baf7b1d",
   "metadata": {},
   "outputs": [],
   "source": [
    "# parameters\n",
    "mycatalog= mycatalog\n",
    "mycatalog_picks=mycatalog_picks\n",
    "networks= all_picks_networks\n",
    "channel= \"BH?\"\n",
    "idx_sta= 50\n",
    "title= \"Events matched\"\n",
    "fig_title= \"events_matched.png\"\n",
    "ylim= [0,300]\n",
    "xlim= [20,150]\n",
    "\n",
    "for idx in new_events['idx']:\n",
    "    subplots_cluster_scale_p(idx,mycatalog,mycatalog_picks,networks,channel,idx_sta,title,fig_title,ylim,xlim)"
   ]
  },
  {
   "cell_type": "markdown",
   "id": "863afcd8",
   "metadata": {},
   "source": [
    "## Calculate SNRs"
   ]
  },
  {
   "cell_type": "code",
   "execution_count": null,
   "id": "b8944e86",
   "metadata": {},
   "outputs": [],
   "source": [
    "all_picks = pd.read_csv('../data/datasets_2014/all_picks_2014.csv')\n",
    "all_pick_assignments = pd.read_csv('../data/datasets_2014/all_pick_assignments_2014.csv')"
   ]
  },
  {
   "cell_type": "code",
   "execution_count": null,
   "id": "d3ab9ea3",
   "metadata": {},
   "outputs": [],
   "source": [
    "def calc_snr(all_picks,all_pick_assignments):\n",
    "    \"\"\" \n",
    "    This function calculates the SNRs for each station in each event.\n",
    "    \n",
    "    Inputs:\n",
    "    1. The all_pick.csv file from the 2_format_pick2associate file.\n",
    "    2. The all_pick_assignments.csv file from the 3_association file.\n",
    "    \n",
    "    Oututs:\n",
    "    The new all_pick_assignments_snr file with the additional SNR column.\n",
    "    \"\"\"\n",
    "    \n",
    "    # Create the list of networks\n",
    "    all_picks_networks = all_picks['station_network_code'].drop_duplicates()\n",
    "    list_networks = list(all_picks_networks)\n",
    "    networks = ','.join(all_picks_networks)\n",
    "    \n",
    "    \n",
    "    \n",
    "    # Define the clients \n",
    "    client_waveform = WaveformClient()\n",
    "    client2 = Client(\"IRIS\")\n",
    "    client_ncedc = Client('NCEDC')\n",
    "    \n",
    "    all_pick_assignments['datetime'] = pd.to_datetime(all_pick_assignments['time'], utc = True)\n",
    "\n",
    "    \n",
    "    # Define parameters\n",
    "    percentile=98\n",
    "    \n",
    "    # Create empty lists\n",
    "    snr_list = []\n",
    "        \n",
    "    # Make sure if a station for an event has more than 1 P or S pick\n",
    "    for idx in all_pick_assignments['idx'].drop_duplicates():\n",
    "        # Define parameters\n",
    "        otime = UTCDateTime(str(all_pick_assignments[all_pick_assignments['idx'] == idx][\"datetime\"].values[0]))\n",
    "\n",
    "\n",
    "        # Create empty lists\n",
    "        networks_stas = []\n",
    "\n",
    "        # Plot the earthquake moveout for one of the unmatched events for all stations \n",
    "    #     event = mycatalog\n",
    "        pick_idx = all_pick_assignments.loc[all_pick_assignments['idx']==idx]\n",
    "        pick_sta = np.unique(pick_idx['station'])\n",
    "        \n",
    "    #     distances = []\n",
    "    #     max_dist = 10\n",
    "    #     min_dist = 0\n",
    "        for station in pick_sta:\n",
    "\n",
    "            sta_inv = client2.get_stations(network=networks,\n",
    "                                           station=station, channel=\"?H?\", \n",
    "                                           starttime=otime - 1e8, endtime=otime + 1e8,level=\"response\")\n",
    "            if len(sta_inv) == 0:\n",
    "                print(f'No inventory for station {station}. Skipping.')\n",
    "                continue\n",
    "\n",
    "            network = sta_inv[0].code\n",
    "    #         slat = sta_inv[0][0].latitude\n",
    "    #         slon = sta_inv[0][0].longitude\n",
    "    #         olat = event.loc[event['idx']==idx, 'latitude'].values[0]\n",
    "    #         olon = event.loc[event['idx']==idx, 'longitude'].values[0]\n",
    "\n",
    "    #         dis1 = locations2degrees(olat, olon, slat, slon)\n",
    "    #         dist = degrees2kilometers(dis1)\n",
    "    # #         if max_dist < dist:\n",
    "    # #             max_dist = dist\n",
    "\n",
    "    # #         if min_dist > dist:\n",
    "    # #             min_dist = dist\n",
    "\n",
    "            networks_stas.append([network,station])\n",
    "        \n",
    "   \n",
    "        events = all_pick_assignments[all_pick_assignments['idx']==idx]\n",
    "        for i in networks_stas:\n",
    "            events1 = events[events['station']==i[1]]\n",
    "            p_picks = events1[events1['phase']=='P']\n",
    "            s_picks = events1[events1['phase']=='S']\n",
    "            \n",
    "\n",
    "            if len(p_picks)>0 and len(s_picks)>0:\n",
    "                print(p_picks['datetime'].values,s_picks['datetime'].values)\n",
    "                p_pick_time = UTCDateTime(str(p_picks['datetime'].values[0]))\n",
    "                s_pick_time = UTCDateTime(str(s_picks['datetime'].values[0]))\n",
    "                \n",
    "                starttime_st = UTCDateTime(p_pick_time)-timedelta(seconds=120)\n",
    "                endtime_st = UTCDateTime(p_pick_time)+timedelta(seconds=120)\n",
    "                \n",
    "                starttime_noise = UTCDateTime(p_pick_time)-timedelta(seconds=8)\n",
    "                endtime_noise = UTCDateTime(p_pick_time)\n",
    "                \n",
    "                starttime_signal = UTCDateTime(s_pick_time)-timedelta(seconds=1)\n",
    "                endtime_signal = UTCDateTime(s_pick_time)+timedelta(seconds=2)\n",
    "                \n",
    "                print(starttime_noise,endtime_noise)\n",
    "            \n",
    "                if i[0] in ['NC', 'BK']:\n",
    "                # Query waveforms\n",
    "                    st = client_ncedc.get_waveforms(network=i[0], station=i[1],\n",
    "                                                    location=\"*\", channel=\"?HZ\",starttime=starttime_st,\n",
    "                                                    endtime=endtime_st)\n",
    "\n",
    "                elif i[0] in networks: \n",
    "                    st = client_waveform.get_waveforms(network=i[0], station=i[1],\n",
    "                                                       channel='?HZ',starttime=starttime_st, endtime=endtime_st)\n",
    "\n",
    "                else: \n",
    "                    st =  Stream()\n",
    "                    print(f\"WARNING: No data for {ii[1]}.{ii[2]}.{channel} on {otime}.\")    \n",
    "                    continue\n",
    "\n",
    "        #         print(f\"len(st):{len(st)}\")\n",
    "        #         print(st)\n",
    "\n",
    "                # Skip empty traces\n",
    "                if len(st) == 0:\n",
    "                    continue\n",
    "                    \n",
    "                print(f'First st print:{st}')\n",
    "                # Create a new stream\n",
    "                _st = Stream()\n",
    "                # Check for HH and BH channels presence\n",
    "                has_HH = bool(st.select(channel=\"HH?\"))\n",
    "                has_BH = bool(st.select(channel=\"BH?\"))\n",
    "\n",
    "                # Apply selection logic based on channel presence\n",
    "                if has_HH and has_BH:\n",
    "                    # If both HH and BH channels are present, select only HH\n",
    "                    _st += st.select(channel=\"HH?\")\n",
    "                elif has_HH:\n",
    "                    # If only HH channels are present\n",
    "                    _st += st.select(channel=\"HH?\")\n",
    "                elif has_BH:\n",
    "                    # If only BH channels are present\n",
    "                    _st += st.select(channel=\"BH?\")\n",
    "\n",
    "                _st.merge(fill_value='interpolate') # fill gaps if there are any.\n",
    "\n",
    "                print(f'Second st print:{_st}')\n",
    "            \n",
    "                noise = _st.copy().trim(starttime=starttime_noise,endtime=endtime_noise)    \n",
    "                signal = _st.copy().trim(starttime=starttime_signal,endtime=endtime_signal) \n",
    "                \n",
    "                print(f\"P and S pick times:{p_pick_time} and {s_pick_time}\")\n",
    "                print(f\"Stream start and end times:{starttime_st} and {endtime_st}\")\n",
    "                print(f\"Noise start and end times:{starttime_noise} and {endtime_noise}\")\n",
    "                print(f\"Signal start and end times:{starttime_signal} and {endtime_signal}\")\n",
    "                \n",
    "                print(f'Noise:{noise}')\n",
    "                print(f'Signal:{signal}')\n",
    "\n",
    "                noise_abs = np.percentile(abs(noise[0].data),percentile)\n",
    "                signal_abs = np.percentile(abs(signal[0].data),percentile)\n",
    "\n",
    "                snr = 20 * np.log10((signal_abs/noise_abs))\n",
    "\n",
    "                snr_list.append(snr)\n",
    "                \n",
    "            if len(p_picks)>0 and len(s_picks)==0:\n",
    "                \n",
    "                print(p_picks['datetime'].values,s_picks['datetime'].values)\n",
    "                p_pick_time = UTCDateTime(str(p_picks['datetime'].values[0]))\n",
    "#                 s_pick_time = UTCDateTime(str(s_picks['datetime'].values[0]))\n",
    "\n",
    "                starttime_st = UTCDateTime(p_pick_time)-timedelta(seconds=120)\n",
    "                endtime_st = UTCDateTime(p_pick_time)+timedelta(seconds=120)\n",
    "                \n",
    "                starttime_noise = UTCDateTime(p_pick_time)-timedelta(seconds=8)\n",
    "                endtime_noise = UTCDateTime(p_pick_time)\n",
    "                \n",
    "                starttime_signal = UTCDateTime(p_pick_time)+timedelta(seconds=1)\n",
    "                endtime_signal = UTCDateTime(p_pick_time)+timedelta(seconds=4)\n",
    "                \n",
    "            \n",
    "                if i[0] in ['NC', 'BK']:\n",
    "                # Query waveforms\n",
    "                    st = client_ncedc.get_waveforms(network=i[0], station=i[1],\n",
    "                                                    location=\"*\", channel=\"?HZ\",starttime=starttime_st, \n",
    "                                                    endtime=endtime_st)\n",
    "\n",
    "                elif i[0] in networks: \n",
    "                    st = client_waveform.get_waveforms(network=i[0], station=i[1],\n",
    "                                                       channel='?HZ',starttime=starttime_st, endtime=endtime_st)\n",
    "\n",
    "                else: \n",
    "                    st =  Stream()\n",
    "                    print(f\"WARNING: No data for {ii[1]}.{ii[2]}.{channel} on {otime}.\")    \n",
    "                    continue\n",
    "\n",
    "        #         print(f\"len(st):{len(st)}\")\n",
    "        #         print(st)\n",
    "\n",
    "                # Skip empty traces\n",
    "                if len(st) == 0:\n",
    "                    continue\n",
    "                print(f'First st print:{st}')\n",
    "                # Create a new stream\n",
    "                _st = Stream()\n",
    "                # Check for HH and BH channels presence\n",
    "                has_HH = bool(st.select(channel=\"HH?\"))\n",
    "                has_BH = bool(st.select(channel=\"BH?\"))\n",
    "\n",
    "                # Apply selection logic based on channel presence\n",
    "                if has_HH and has_BH:\n",
    "                    # If both HH and BH channels are present, select only HH\n",
    "                    _st += st.select(channel=\"HH?\")\n",
    "                elif has_HH:\n",
    "                    # If only HH channels are present\n",
    "                    _st += st.select(channel=\"HH?\")\n",
    "                elif has_BH:\n",
    "                    # If only BH channels are present\n",
    "                    _st += st.select(channel=\"BH?\")\n",
    "\n",
    "                _st.merge(fill_value='interpolate') # fill gaps if there are any.\n",
    "\n",
    "                print(f'Second st print:{_st}')\n",
    "                \n",
    "                \n",
    "                    \n",
    "\n",
    "                noise = _st.copy().trim(starttime=starttime_noise,endtime=endtime_noise)    \n",
    "                signal = _st.copy().trim(starttime=starttime_signal,endtime=endtime_signal) \n",
    "                \n",
    "                print(f\"P pick time:{p_pick_time}\")\n",
    "                print(f\"Stream start and end times:{starttime_st} and {endtime_st}\")\n",
    "                print(f\"Noise start and end times:{starttime_noise} and {endtime_noise}\")\n",
    "                print(f\"Signal start and end times:{starttime_signal} and {endtime_signal}\")\n",
    "\n",
    "                print(f'Noise:{noise}')\n",
    "                print(f'Signal:{signal}')\n",
    "\n",
    "                noise_abs = np.percentile(abs(noise[0].data),percentile)\n",
    "                signal_abs = np.percentile(abs(signal[0].data),percentile)\n",
    "\n",
    "                snr = 20 * np.log10((signal_abs/noise_abs))\n",
    "\n",
    "                snr_list.append(snr)\n",
    "                    \n",
    "            if len(p_picks)==0 and len(s_picks)>0:\n",
    "                print(p_picks['datetime'].values,s_picks['datetime'].values)\n",
    "#                 p_pick_time = UTCDateTime(str(p_picks['datetime'].values))\n",
    "                s_pick_time = UTCDateTime(str(s_picks['datetime'].values[0]))\n",
    "    \n",
    "                starttime_st = UTCDateTime(s_pick_time)-timedelta(seconds=120)\n",
    "                endtime_st = UTCDateTime(s_pick_time)+timedelta(seconds=120)\n",
    "                \n",
    "                starttime_noise = UTCDateTime(s_pick_time)-timedelta(seconds=8)\n",
    "                endtime_noise = UTCDateTime(s_pick_time)\n",
    "                \n",
    "                starttime_signal = UTCDateTime(s_pick_time)\n",
    "                endtime_signal = UTCDateTime(s_pick_time)+timedelta(seconds=3)\n",
    "                \n",
    "                print(starttime_noise,endtime_noise)\n",
    "            \n",
    "                if i[0] in ['NC', 'BK']:\n",
    "                # Query waveforms\n",
    "                    st = client_ncedc.get_waveforms(network=i[0], station=i[1],\n",
    "                                                    location=\"*\", channel=\"?HZ\",starttime=starttime_st, \n",
    "                                                    endtime=endtime_st)\n",
    "\n",
    "                elif i[0] in networks: \n",
    "                    st = client_waveform.get_waveforms(network=i[0], station=i[1],\n",
    "                                                       channel='?HZ',starttime=starttime_st, endtime=endtime_st)\n",
    "\n",
    "                else: \n",
    "                    st =  Stream()\n",
    "                    print(f\"WARNING: No data for {ii[1]}.{ii[2]}.{channel} on {otime}.\")    \n",
    "                    continue\n",
    "\n",
    "        #         print(f\"len(st):{len(st)}\")\n",
    "        #         print(st)\n",
    "\n",
    "                # Skip empty traces\n",
    "                if len(st) == 0:\n",
    "                    continue\n",
    "                    \n",
    "                print(f'First st print:{st}')\n",
    "                # Create a new stream\n",
    "                _st = Stream()\n",
    "                # Check for HH and BH channels presence\n",
    "                has_HH = bool(st.select(channel=\"HH?\"))\n",
    "                has_BH = bool(st.select(channel=\"BH?\"))\n",
    "\n",
    "                # Apply selection logic based on channel presence\n",
    "                if has_HH and has_BH:\n",
    "                    # If both HH and BH channels are present, select only HH\n",
    "                    _st += st.select(channel=\"HH?\")\n",
    "                elif has_HH:\n",
    "                    # If only HH channels are present\n",
    "                    _st += st.select(channel=\"HH?\")\n",
    "                elif has_BH:\n",
    "                    # If only BH channels are present\n",
    "                    _st += st.select(channel=\"BH?\")\n",
    "\n",
    "                _st.merge(fill_value='interpolate') # fill gaps if there are any.\n",
    "\n",
    "                print(f'Second st print:{_st}')\n",
    "\n",
    "            \n",
    "                noise = _st.copy().trim(starttime=starttime_noise,endtime=endtime_noise)    \n",
    "                signal = _st.copy().trim(starttime=starttime_signal,endtime=endtime_signal) \n",
    "                \n",
    "                print(f\"S pick time:{s_pick_time}\")\n",
    "                print(f\"Stream start and end times:{starttime_st} and {endtime_st}\")\n",
    "                print(f\"Noise start and end times:{starttime_noise} and {endtime_noise}\")\n",
    "                print(f\"Signal start and end times:{starttime_signal} and {endtime_signal}\")\n",
    "                \n",
    "                print(f'Noise:{noise}')\n",
    "                print(f'Signal:{signal}')\n",
    "\n",
    "                noise_abs = np.percentile(abs(noise[0].data),percentile)\n",
    "                signal_abs = np.percentile(abs(signal[0].data),percentile)\n",
    "\n",
    "                snr = 20 * np.log10((signal_abs/noise_abs))\n",
    "\n",
    "                snr_list.append(snr)\n",
    "            \n",
    "    all_assignments_picks['snr']=snr_list\n",
    "     \n",
    "    return snr_list"
   ]
  },
  {
   "cell_type": "code",
   "execution_count": null,
   "id": "52736088",
   "metadata": {},
   "outputs": [],
   "source": [
    "snr_list = calc_snr(all_picks,all_pick_assignments)"
   ]
  },
  {
   "cell_type": "code",
   "execution_count": null,
   "id": "48ed9de0",
   "metadata": {},
   "outputs": [],
   "source": [
    "snr_list"
   ]
  },
  {
   "cell_type": "code",
   "execution_count": null,
   "id": "566c5668",
   "metadata": {},
   "outputs": [],
   "source": [
    "client_waveform = WaveformClient()\n",
    "\n",
    "p_pick_time = '2014-01-02T07:40:02.642533Z'\n",
    "\n",
    "starttime_st = UTCDateTime(p_pick_time)-timedelta(seconds=120)\n",
    "endtime_st = UTCDateTime(p_pick_time)+timedelta(seconds=120)\n",
    "\n",
    "# starttime_st = UTCDateTime('2011-01-03T00:00:0.000000Z')\n",
    "# endtime_st = UTCDateTime('2011-01-03T12:59:59.000000Z')\n",
    "\n",
    "print(f'Requested start and end times:{starttime_st} and {endtime_st}')\n",
    "\n",
    "\n",
    "st = client_waveform.get_waveforms(network='CN', station='BTB',\n",
    "                                       channel='HHZ',starttime=starttime_st, endtime=endtime_st)\n",
    "print(f'Actual start and end times: {st[0].stats.starttime} and {st[0].stats.endtime}')\n"
   ]
  },
  {
   "cell_type": "code",
   "execution_count": null,
   "id": "236a901a",
   "metadata": {},
   "outputs": [],
   "source": []
  }
 ],
 "metadata": {
  "kernelspec": {
   "display_name": "seismo (SHARED)",
   "language": "python",
   "name": "seismo"
  },
  "language_info": {
   "codemirror_mode": {
    "name": "ipython",
    "version": 3
   },
   "file_extension": ".py",
   "mimetype": "text/x-python",
   "name": "python",
   "nbconvert_exporter": "python",
   "pygments_lexer": "ipython3",
   "version": "3.9.18"
  }
 },
 "nbformat": 4,
 "nbformat_minor": 5
}
