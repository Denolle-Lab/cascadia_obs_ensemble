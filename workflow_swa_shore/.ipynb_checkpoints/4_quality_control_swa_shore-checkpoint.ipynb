{
 "cells": [
  {
   "cell_type": "code",
   "execution_count": null,
   "id": "a9659be3",
   "metadata": {},
   "outputs": [],
   "source": [
    "# pip install basemap\n"
   ]
  },
  {
   "cell_type": "code",
   "execution_count": 1,
   "id": "c92e5226",
   "metadata": {},
   "outputs": [],
   "source": [
    "import os\n",
    "import sys\n",
    "import pandas as pd\n",
    "import numpy as np\n",
    "import obspy\n",
    "from tqdm import tqdm\n",
    "\n",
    "from obspy.clients.fdsn import Client\n",
    "from obspy.clients.fdsn import Client as FDSNClient\n",
    "\n",
    "from mpl_toolkits.basemap import Basemap\n",
    "\n",
    "\n",
    "from pnwstore.mseed import WaveformClient\n",
    "from datetime import datetime\n",
    "from matplotlib import pyplot as plt\n",
    "from matplotlib.backends.backend_pdf import PdfPages\n",
    "\n",
    "from obspy import UTCDateTime\n",
    "\n",
    "from tqdm import tqdm\n",
    "from obspy.geodetics import locations2degrees, degrees2kilometers\n",
    "\n",
    "notebook_dir = os.getcwd()\n",
    "parent_dir = os.path.abspath(os.path.join(notebook_dir, '../'))\n",
    "if parent_dir not in sys.path:\n",
    "    sys.path.append(parent_dir)\n",
    "    \n",
    "from plot_utils import *\n",
    "from qc_utils import * "
   ]
  },
  {
   "cell_type": "markdown",
   "id": "ce408df1",
   "metadata": {},
   "source": [
    "## Morton Catalog"
   ]
  },
  {
   "cell_type": "code",
   "execution_count": 2,
   "id": "6bd019d5",
   "metadata": {},
   "outputs": [
    {
     "data": {
      "text/html": [
       "<div>\n",
       "<style scoped>\n",
       "    .dataframe tbody tr th:only-of-type {\n",
       "        vertical-align: middle;\n",
       "    }\n",
       "\n",
       "    .dataframe tbody tr th {\n",
       "        vertical-align: top;\n",
       "    }\n",
       "\n",
       "    .dataframe thead th {\n",
       "        text-align: right;\n",
       "    }\n",
       "</style>\n",
       "<table border=\"1\" class=\"dataframe\">\n",
       "  <thead>\n",
       "    <tr style=\"text-align: right;\">\n",
       "      <th></th>\n",
       "      <th>CI YEAR</th>\n",
       "      <th>TSTRING</th>\n",
       "      <th>YEAR</th>\n",
       "      <th>MONTH</th>\n",
       "      <th>DAY</th>\n",
       "      <th>HOUR</th>\n",
       "      <th>MINUTE</th>\n",
       "      <th>SECOND</th>\n",
       "      <th>LAT</th>\n",
       "      <th>LON</th>\n",
       "      <th>...</th>\n",
       "      <th>dist to nearest stn</th>\n",
       "      <th>tt RMS</th>\n",
       "      <th>ERH</th>\n",
       "      <th>ERZ</th>\n",
       "      <th>STRIKE</th>\n",
       "      <th>DIP</th>\n",
       "      <th>RAKE</th>\n",
       "      <th>PLATE DESIGNATION</th>\n",
       "      <th>TEMPLATE EVENT?</th>\n",
       "      <th>datetime</th>\n",
       "    </tr>\n",
       "  </thead>\n",
       "  <tbody>\n",
       "    <tr>\n",
       "      <th>0</th>\n",
       "      <td>1.0</td>\n",
       "      <td>2.011073e+13</td>\n",
       "      <td>2011.0</td>\n",
       "      <td>7.0</td>\n",
       "      <td>26.0</td>\n",
       "      <td>1.0</td>\n",
       "      <td>2.0</td>\n",
       "      <td>7.37</td>\n",
       "      <td>47.3217</td>\n",
       "      <td>-123.2708</td>\n",
       "      <td>...</td>\n",
       "      <td>27.4</td>\n",
       "      <td>0.19</td>\n",
       "      <td>0.8</td>\n",
       "      <td>1.2</td>\n",
       "      <td>NaN</td>\n",
       "      <td>NaN</td>\n",
       "      <td>NaN</td>\n",
       "      <td>Interface</td>\n",
       "      <td>Catalog</td>\n",
       "      <td>2011-07-26 01:02:07+00:00</td>\n",
       "    </tr>\n",
       "    <tr>\n",
       "      <th>1</th>\n",
       "      <td>1.0</td>\n",
       "      <td>2.011073e+13</td>\n",
       "      <td>2011.0</td>\n",
       "      <td>7.0</td>\n",
       "      <td>26.0</td>\n",
       "      <td>1.0</td>\n",
       "      <td>2.0</td>\n",
       "      <td>7.72</td>\n",
       "      <td>44.2888</td>\n",
       "      <td>-124.3340</td>\n",
       "      <td>...</td>\n",
       "      <td>163.8</td>\n",
       "      <td>0.06</td>\n",
       "      <td>13.1</td>\n",
       "      <td>3.2</td>\n",
       "      <td>NaN</td>\n",
       "      <td>NaN</td>\n",
       "      <td>NaN</td>\n",
       "      <td>Upper Plate</td>\n",
       "      <td>NaN</td>\n",
       "      <td>2011-07-26 01:02:07+00:00</td>\n",
       "    </tr>\n",
       "    <tr>\n",
       "      <th>2</th>\n",
       "      <td>1.0</td>\n",
       "      <td>2.011073e+13</td>\n",
       "      <td>2011.0</td>\n",
       "      <td>7.0</td>\n",
       "      <td>26.0</td>\n",
       "      <td>1.0</td>\n",
       "      <td>2.0</td>\n",
       "      <td>8.56</td>\n",
       "      <td>44.3017</td>\n",
       "      <td>-124.3180</td>\n",
       "      <td>...</td>\n",
       "      <td>131.1</td>\n",
       "      <td>0.50</td>\n",
       "      <td>35.4</td>\n",
       "      <td>22.2</td>\n",
       "      <td>NaN</td>\n",
       "      <td>NaN</td>\n",
       "      <td>NaN</td>\n",
       "      <td>Upper Plate</td>\n",
       "      <td>NaN</td>\n",
       "      <td>2011-07-26 01:02:08+00:00</td>\n",
       "    </tr>\n",
       "    <tr>\n",
       "      <th>3</th>\n",
       "      <td>1.0</td>\n",
       "      <td>2.011073e+13</td>\n",
       "      <td>2011.0</td>\n",
       "      <td>7.0</td>\n",
       "      <td>26.0</td>\n",
       "      <td>7.0</td>\n",
       "      <td>31.0</td>\n",
       "      <td>2.17</td>\n",
       "      <td>48.2635</td>\n",
       "      <td>-124.9298</td>\n",
       "      <td>...</td>\n",
       "      <td>44.4</td>\n",
       "      <td>0.77</td>\n",
       "      <td>3.5</td>\n",
       "      <td>6.4</td>\n",
       "      <td>NaN</td>\n",
       "      <td>NaN</td>\n",
       "      <td>NaN</td>\n",
       "      <td>Upper Plate</td>\n",
       "      <td>NaN</td>\n",
       "      <td>2011-07-26 07:31:02+00:00</td>\n",
       "    </tr>\n",
       "    <tr>\n",
       "      <th>4</th>\n",
       "      <td>1.0</td>\n",
       "      <td>2.011073e+13</td>\n",
       "      <td>2011.0</td>\n",
       "      <td>7.0</td>\n",
       "      <td>26.0</td>\n",
       "      <td>9.0</td>\n",
       "      <td>50.0</td>\n",
       "      <td>27.63</td>\n",
       "      <td>48.3032</td>\n",
       "      <td>-124.9157</td>\n",
       "      <td>...</td>\n",
       "      <td>46.1</td>\n",
       "      <td>0.94</td>\n",
       "      <td>4.0</td>\n",
       "      <td>6.9</td>\n",
       "      <td>NaN</td>\n",
       "      <td>NaN</td>\n",
       "      <td>NaN</td>\n",
       "      <td>Upper Plate</td>\n",
       "      <td>T</td>\n",
       "      <td>2011-07-26 09:50:27+00:00</td>\n",
       "    </tr>\n",
       "  </tbody>\n",
       "</table>\n",
       "<p>5 rows × 24 columns</p>\n",
       "</div>"
      ],
      "text/plain": [
       "   CI YEAR       TSTRING    YEAR  MONTH   DAY  HOUR  MINUTE  SECOND      LAT  \\\n",
       "0      1.0  2.011073e+13  2011.0    7.0  26.0   1.0     2.0    7.37  47.3217   \n",
       "1      1.0  2.011073e+13  2011.0    7.0  26.0   1.0     2.0    7.72  44.2888   \n",
       "2      1.0  2.011073e+13  2011.0    7.0  26.0   1.0     2.0    8.56  44.3017   \n",
       "3      1.0  2.011073e+13  2011.0    7.0  26.0   7.0    31.0    2.17  48.2635   \n",
       "4      1.0  2.011073e+13  2011.0    7.0  26.0   9.0    50.0   27.63  48.3032   \n",
       "\n",
       "        LON  ...  dist to nearest stn  tt RMS   ERH   ERZ  STRIKE  DIP  RAKE  \\\n",
       "0 -123.2708  ...                 27.4    0.19   0.8   1.2     NaN  NaN   NaN   \n",
       "1 -124.3340  ...                163.8    0.06  13.1   3.2     NaN  NaN   NaN   \n",
       "2 -124.3180  ...                131.1    0.50  35.4  22.2     NaN  NaN   NaN   \n",
       "3 -124.9298  ...                 44.4    0.77   3.5   6.4     NaN  NaN   NaN   \n",
       "4 -124.9157  ...                 46.1    0.94   4.0   6.9     NaN  NaN   NaN   \n",
       "\n",
       "   PLATE DESIGNATION  TEMPLATE EVENT?                  datetime  \n",
       "0          Interface          Catalog 2011-07-26 01:02:07+00:00  \n",
       "1        Upper Plate              NaN 2011-07-26 01:02:07+00:00  \n",
       "2        Upper Plate              NaN 2011-07-26 01:02:08+00:00  \n",
       "3        Upper Plate              NaN 2011-07-26 07:31:02+00:00  \n",
       "4        Upper Plate                T 2011-07-26 09:50:27+00:00  \n",
       "\n",
       "[5 rows x 24 columns]"
      ]
     },
     "execution_count": 2,
     "metadata": {},
     "output_type": "execute_result"
    }
   ],
   "source": [
    "# Read Morton's catalog\n",
    "events_morton = pd.read_csv('../data/ds01.csv')\n",
    "# Convert the TSTRING to datetime\n",
    "events_morton['datetime'] = pd.to_datetime(events_morton['TSTRING'], format='%Y%m%d%H%M%S', utc=True)\n",
    "# Get the events in the Morton catalog \n",
    "t1 = pd.Timestamp('2011-1-1 00:00:00.000000+0000', tz='UTC')\n",
    "t2 = pd.Timestamp('2015-12-31 23:59:59.999999+0000', tz='UTC')\n",
    "\n",
    "events_morton= events_morton.loc[(events_morton['datetime'] > t1) & (events_morton['datetime'] < t2) ]\n",
    "\n",
    "events_morton.head()"
   ]
  },
  {
   "cell_type": "code",
   "execution_count": 3,
   "id": "c3e58514",
   "metadata": {},
   "outputs": [
    {
     "data": {
      "text/html": [
       "<div>\n",
       "<style scoped>\n",
       "    .dataframe tbody tr th:only-of-type {\n",
       "        vertical-align: middle;\n",
       "    }\n",
       "\n",
       "    .dataframe tbody tr th {\n",
       "        vertical-align: top;\n",
       "    }\n",
       "\n",
       "    .dataframe thead th {\n",
       "        text-align: right;\n",
       "    }\n",
       "</style>\n",
       "<table border=\"1\" class=\"dataframe\">\n",
       "  <thead>\n",
       "    <tr style=\"text-align: right;\">\n",
       "      <th></th>\n",
       "      <th>CI YEAR</th>\n",
       "      <th>TSTRING</th>\n",
       "      <th>YEAR</th>\n",
       "      <th>MONTH</th>\n",
       "      <th>DAY</th>\n",
       "      <th>HOUR</th>\n",
       "      <th>MINUTE</th>\n",
       "      <th>SECOND</th>\n",
       "      <th>LAT</th>\n",
       "      <th>LON</th>\n",
       "      <th>...</th>\n",
       "      <th>dist to nearest stn</th>\n",
       "      <th>tt RMS</th>\n",
       "      <th>ERH</th>\n",
       "      <th>ERZ</th>\n",
       "      <th>STRIKE</th>\n",
       "      <th>DIP</th>\n",
       "      <th>RAKE</th>\n",
       "      <th>PLATE DESIGNATION</th>\n",
       "      <th>TEMPLATE EVENT?</th>\n",
       "      <th>datetime</th>\n",
       "    </tr>\n",
       "  </thead>\n",
       "  <tbody>\n",
       "    <tr>\n",
       "      <th>0</th>\n",
       "      <td>1.0</td>\n",
       "      <td>2.011073e+13</td>\n",
       "      <td>2011.0</td>\n",
       "      <td>7.0</td>\n",
       "      <td>26.0</td>\n",
       "      <td>1.0</td>\n",
       "      <td>2.0</td>\n",
       "      <td>7.37</td>\n",
       "      <td>47.3217</td>\n",
       "      <td>-123.2708</td>\n",
       "      <td>...</td>\n",
       "      <td>27.4</td>\n",
       "      <td>0.19</td>\n",
       "      <td>0.8</td>\n",
       "      <td>1.2</td>\n",
       "      <td>NaN</td>\n",
       "      <td>NaN</td>\n",
       "      <td>NaN</td>\n",
       "      <td>Interface</td>\n",
       "      <td>Catalog</td>\n",
       "      <td>2011-07-26 01:02:07+00:00</td>\n",
       "    </tr>\n",
       "    <tr>\n",
       "      <th>1</th>\n",
       "      <td>1.0</td>\n",
       "      <td>2.011073e+13</td>\n",
       "      <td>2011.0</td>\n",
       "      <td>7.0</td>\n",
       "      <td>26.0</td>\n",
       "      <td>1.0</td>\n",
       "      <td>2.0</td>\n",
       "      <td>7.72</td>\n",
       "      <td>44.2888</td>\n",
       "      <td>-124.3340</td>\n",
       "      <td>...</td>\n",
       "      <td>163.8</td>\n",
       "      <td>0.06</td>\n",
       "      <td>13.1</td>\n",
       "      <td>3.2</td>\n",
       "      <td>NaN</td>\n",
       "      <td>NaN</td>\n",
       "      <td>NaN</td>\n",
       "      <td>Upper Plate</td>\n",
       "      <td>NaN</td>\n",
       "      <td>2011-07-26 01:02:07+00:00</td>\n",
       "    </tr>\n",
       "    <tr>\n",
       "      <th>2</th>\n",
       "      <td>1.0</td>\n",
       "      <td>2.011073e+13</td>\n",
       "      <td>2011.0</td>\n",
       "      <td>7.0</td>\n",
       "      <td>26.0</td>\n",
       "      <td>1.0</td>\n",
       "      <td>2.0</td>\n",
       "      <td>8.56</td>\n",
       "      <td>44.3017</td>\n",
       "      <td>-124.3180</td>\n",
       "      <td>...</td>\n",
       "      <td>131.1</td>\n",
       "      <td>0.50</td>\n",
       "      <td>35.4</td>\n",
       "      <td>22.2</td>\n",
       "      <td>NaN</td>\n",
       "      <td>NaN</td>\n",
       "      <td>NaN</td>\n",
       "      <td>Upper Plate</td>\n",
       "      <td>NaN</td>\n",
       "      <td>2011-07-26 01:02:08+00:00</td>\n",
       "    </tr>\n",
       "    <tr>\n",
       "      <th>3</th>\n",
       "      <td>1.0</td>\n",
       "      <td>2.011073e+13</td>\n",
       "      <td>2011.0</td>\n",
       "      <td>7.0</td>\n",
       "      <td>26.0</td>\n",
       "      <td>7.0</td>\n",
       "      <td>31.0</td>\n",
       "      <td>2.17</td>\n",
       "      <td>48.2635</td>\n",
       "      <td>-124.9298</td>\n",
       "      <td>...</td>\n",
       "      <td>44.4</td>\n",
       "      <td>0.77</td>\n",
       "      <td>3.5</td>\n",
       "      <td>6.4</td>\n",
       "      <td>NaN</td>\n",
       "      <td>NaN</td>\n",
       "      <td>NaN</td>\n",
       "      <td>Upper Plate</td>\n",
       "      <td>NaN</td>\n",
       "      <td>2011-07-26 07:31:02+00:00</td>\n",
       "    </tr>\n",
       "    <tr>\n",
       "      <th>4</th>\n",
       "      <td>1.0</td>\n",
       "      <td>2.011073e+13</td>\n",
       "      <td>2011.0</td>\n",
       "      <td>7.0</td>\n",
       "      <td>26.0</td>\n",
       "      <td>9.0</td>\n",
       "      <td>50.0</td>\n",
       "      <td>27.63</td>\n",
       "      <td>48.3032</td>\n",
       "      <td>-124.9157</td>\n",
       "      <td>...</td>\n",
       "      <td>46.1</td>\n",
       "      <td>0.94</td>\n",
       "      <td>4.0</td>\n",
       "      <td>6.9</td>\n",
       "      <td>NaN</td>\n",
       "      <td>NaN</td>\n",
       "      <td>NaN</td>\n",
       "      <td>Upper Plate</td>\n",
       "      <td>T</td>\n",
       "      <td>2011-07-26 09:50:27+00:00</td>\n",
       "    </tr>\n",
       "    <tr>\n",
       "      <th>...</th>\n",
       "      <td>...</td>\n",
       "      <td>...</td>\n",
       "      <td>...</td>\n",
       "      <td>...</td>\n",
       "      <td>...</td>\n",
       "      <td>...</td>\n",
       "      <td>...</td>\n",
       "      <td>...</td>\n",
       "      <td>...</td>\n",
       "      <td>...</td>\n",
       "      <td>...</td>\n",
       "      <td>...</td>\n",
       "      <td>...</td>\n",
       "      <td>...</td>\n",
       "      <td>...</td>\n",
       "      <td>...</td>\n",
       "      <td>...</td>\n",
       "      <td>...</td>\n",
       "      <td>...</td>\n",
       "      <td>...</td>\n",
       "      <td>...</td>\n",
       "    </tr>\n",
       "    <tr>\n",
       "      <th>5277</th>\n",
       "      <td>4.0</td>\n",
       "      <td>2.015101e+13</td>\n",
       "      <td>2015.0</td>\n",
       "      <td>10.0</td>\n",
       "      <td>7.0</td>\n",
       "      <td>8.0</td>\n",
       "      <td>1.0</td>\n",
       "      <td>50.83</td>\n",
       "      <td>40.5895</td>\n",
       "      <td>-124.0455</td>\n",
       "      <td>...</td>\n",
       "      <td>5.4</td>\n",
       "      <td>0.14</td>\n",
       "      <td>0.9</td>\n",
       "      <td>0.8</td>\n",
       "      <td>NaN</td>\n",
       "      <td>NaN</td>\n",
       "      <td>NaN</td>\n",
       "      <td>Slab</td>\n",
       "      <td>NaN</td>\n",
       "      <td>2015-10-07 08:01:50+00:00</td>\n",
       "    </tr>\n",
       "    <tr>\n",
       "      <th>5278</th>\n",
       "      <td>4.0</td>\n",
       "      <td>2.015101e+13</td>\n",
       "      <td>2015.0</td>\n",
       "      <td>10.0</td>\n",
       "      <td>7.0</td>\n",
       "      <td>8.0</td>\n",
       "      <td>7.0</td>\n",
       "      <td>8.40</td>\n",
       "      <td>40.5380</td>\n",
       "      <td>-123.7217</td>\n",
       "      <td>...</td>\n",
       "      <td>14.9</td>\n",
       "      <td>0.09</td>\n",
       "      <td>3.3</td>\n",
       "      <td>13.5</td>\n",
       "      <td>NaN</td>\n",
       "      <td>NaN</td>\n",
       "      <td>NaN</td>\n",
       "      <td>Upper Plate</td>\n",
       "      <td>NaN</td>\n",
       "      <td>2015-10-07 08:07:08+00:00</td>\n",
       "    </tr>\n",
       "    <tr>\n",
       "      <th>5279</th>\n",
       "      <td>4.0</td>\n",
       "      <td>2.015101e+13</td>\n",
       "      <td>2015.0</td>\n",
       "      <td>10.0</td>\n",
       "      <td>7.0</td>\n",
       "      <td>11.0</td>\n",
       "      <td>31.0</td>\n",
       "      <td>26.69</td>\n",
       "      <td>40.5822</td>\n",
       "      <td>-124.0432</td>\n",
       "      <td>...</td>\n",
       "      <td>5.6</td>\n",
       "      <td>0.05</td>\n",
       "      <td>1.7</td>\n",
       "      <td>0.8</td>\n",
       "      <td>NaN</td>\n",
       "      <td>NaN</td>\n",
       "      <td>NaN</td>\n",
       "      <td>Slab</td>\n",
       "      <td>NaN</td>\n",
       "      <td>2015-10-07 11:31:26+00:00</td>\n",
       "    </tr>\n",
       "    <tr>\n",
       "      <th>5280</th>\n",
       "      <td>4.0</td>\n",
       "      <td>2.015101e+13</td>\n",
       "      <td>2015.0</td>\n",
       "      <td>10.0</td>\n",
       "      <td>7.0</td>\n",
       "      <td>18.0</td>\n",
       "      <td>11.0</td>\n",
       "      <td>9.52</td>\n",
       "      <td>40.2710</td>\n",
       "      <td>-124.3777</td>\n",
       "      <td>...</td>\n",
       "      <td>7.9</td>\n",
       "      <td>0.19</td>\n",
       "      <td>0.7</td>\n",
       "      <td>0.2</td>\n",
       "      <td>NaN</td>\n",
       "      <td>NaN</td>\n",
       "      <td>NaN</td>\n",
       "      <td>Upper Plate</td>\n",
       "      <td>NaN</td>\n",
       "      <td>2015-10-07 18:11:09+00:00</td>\n",
       "    </tr>\n",
       "    <tr>\n",
       "      <th>5281</th>\n",
       "      <td>4.0</td>\n",
       "      <td>2.015101e+13</td>\n",
       "      <td>2015.0</td>\n",
       "      <td>10.0</td>\n",
       "      <td>7.0</td>\n",
       "      <td>21.0</td>\n",
       "      <td>45.0</td>\n",
       "      <td>50.37</td>\n",
       "      <td>40.1602</td>\n",
       "      <td>-123.8320</td>\n",
       "      <td>...</td>\n",
       "      <td>29.4</td>\n",
       "      <td>0.22</td>\n",
       "      <td>1.3</td>\n",
       "      <td>18.6</td>\n",
       "      <td>NaN</td>\n",
       "      <td>NaN</td>\n",
       "      <td>NaN</td>\n",
       "      <td>Undef</td>\n",
       "      <td>NaN</td>\n",
       "      <td>2015-10-07 21:45:50+00:00</td>\n",
       "    </tr>\n",
       "  </tbody>\n",
       "</table>\n",
       "<p>5282 rows × 24 columns</p>\n",
       "</div>"
      ],
      "text/plain": [
       "      CI YEAR       TSTRING    YEAR  MONTH   DAY  HOUR  MINUTE  SECOND  \\\n",
       "0         1.0  2.011073e+13  2011.0    7.0  26.0   1.0     2.0    7.37   \n",
       "1         1.0  2.011073e+13  2011.0    7.0  26.0   1.0     2.0    7.72   \n",
       "2         1.0  2.011073e+13  2011.0    7.0  26.0   1.0     2.0    8.56   \n",
       "3         1.0  2.011073e+13  2011.0    7.0  26.0   7.0    31.0    2.17   \n",
       "4         1.0  2.011073e+13  2011.0    7.0  26.0   9.0    50.0   27.63   \n",
       "...       ...           ...     ...    ...   ...   ...     ...     ...   \n",
       "5277      4.0  2.015101e+13  2015.0   10.0   7.0   8.0     1.0   50.83   \n",
       "5278      4.0  2.015101e+13  2015.0   10.0   7.0   8.0     7.0    8.40   \n",
       "5279      4.0  2.015101e+13  2015.0   10.0   7.0  11.0    31.0   26.69   \n",
       "5280      4.0  2.015101e+13  2015.0   10.0   7.0  18.0    11.0    9.52   \n",
       "5281      4.0  2.015101e+13  2015.0   10.0   7.0  21.0    45.0   50.37   \n",
       "\n",
       "          LAT       LON  ...  dist to nearest stn  tt RMS   ERH   ERZ  STRIKE  \\\n",
       "0     47.3217 -123.2708  ...                 27.4    0.19   0.8   1.2     NaN   \n",
       "1     44.2888 -124.3340  ...                163.8    0.06  13.1   3.2     NaN   \n",
       "2     44.3017 -124.3180  ...                131.1    0.50  35.4  22.2     NaN   \n",
       "3     48.2635 -124.9298  ...                 44.4    0.77   3.5   6.4     NaN   \n",
       "4     48.3032 -124.9157  ...                 46.1    0.94   4.0   6.9     NaN   \n",
       "...       ...       ...  ...                  ...     ...   ...   ...     ...   \n",
       "5277  40.5895 -124.0455  ...                  5.4    0.14   0.9   0.8     NaN   \n",
       "5278  40.5380 -123.7217  ...                 14.9    0.09   3.3  13.5     NaN   \n",
       "5279  40.5822 -124.0432  ...                  5.6    0.05   1.7   0.8     NaN   \n",
       "5280  40.2710 -124.3777  ...                  7.9    0.19   0.7   0.2     NaN   \n",
       "5281  40.1602 -123.8320  ...                 29.4    0.22   1.3  18.6     NaN   \n",
       "\n",
       "      DIP  RAKE  PLATE DESIGNATION  TEMPLATE EVENT?                  datetime  \n",
       "0     NaN   NaN          Interface          Catalog 2011-07-26 01:02:07+00:00  \n",
       "1     NaN   NaN        Upper Plate              NaN 2011-07-26 01:02:07+00:00  \n",
       "2     NaN   NaN        Upper Plate              NaN 2011-07-26 01:02:08+00:00  \n",
       "3     NaN   NaN        Upper Plate              NaN 2011-07-26 07:31:02+00:00  \n",
       "4     NaN   NaN        Upper Plate                T 2011-07-26 09:50:27+00:00  \n",
       "...   ...   ...                ...              ...                       ...  \n",
       "5277  NaN   NaN               Slab              NaN 2015-10-07 08:01:50+00:00  \n",
       "5278  NaN   NaN        Upper Plate              NaN 2015-10-07 08:07:08+00:00  \n",
       "5279  NaN   NaN               Slab              NaN 2015-10-07 11:31:26+00:00  \n",
       "5280  NaN   NaN        Upper Plate              NaN 2015-10-07 18:11:09+00:00  \n",
       "5281  NaN   NaN              Undef              NaN 2015-10-07 21:45:50+00:00  \n",
       "\n",
       "[5282 rows x 24 columns]"
      ]
     },
     "execution_count": 3,
     "metadata": {},
     "output_type": "execute_result"
    }
   ],
   "source": [
    "events_morton"
   ]
  },
  {
   "cell_type": "markdown",
   "id": "a24957dc",
   "metadata": {},
   "source": [
    "## ANSS Catalog"
   ]
  },
  {
   "cell_type": "code",
   "execution_count": 4,
   "id": "ca384628",
   "metadata": {},
   "outputs": [
    {
     "data": {
      "text/html": [
       "<div>\n",
       "<style scoped>\n",
       "    .dataframe tbody tr th:only-of-type {\n",
       "        vertical-align: middle;\n",
       "    }\n",
       "\n",
       "    .dataframe tbody tr th {\n",
       "        vertical-align: top;\n",
       "    }\n",
       "\n",
       "    .dataframe thead th {\n",
       "        text-align: right;\n",
       "    }\n",
       "</style>\n",
       "<table border=\"1\" class=\"dataframe\">\n",
       "  <thead>\n",
       "    <tr style=\"text-align: right;\">\n",
       "      <th></th>\n",
       "      <th>Unnamed: 0</th>\n",
       "      <th>time</th>\n",
       "      <th>latitude</th>\n",
       "      <th>longitude</th>\n",
       "      <th>depth</th>\n",
       "      <th>mag</th>\n",
       "      <th>magType</th>\n",
       "      <th>nst</th>\n",
       "      <th>gap</th>\n",
       "      <th>dmin</th>\n",
       "      <th>...</th>\n",
       "      <th>place</th>\n",
       "      <th>type</th>\n",
       "      <th>horizontalError</th>\n",
       "      <th>depthError</th>\n",
       "      <th>magError</th>\n",
       "      <th>magNst</th>\n",
       "      <th>status</th>\n",
       "      <th>locationSource</th>\n",
       "      <th>magSource</th>\n",
       "      <th>datetime</th>\n",
       "    </tr>\n",
       "  </thead>\n",
       "  <tbody>\n",
       "    <tr>\n",
       "      <th>0</th>\n",
       "      <td>0</td>\n",
       "      <td>2011-01-01T00:21:06.570Z</td>\n",
       "      <td>38.809834</td>\n",
       "      <td>-122.793663</td>\n",
       "      <td>1.746</td>\n",
       "      <td>0.88</td>\n",
       "      <td>md</td>\n",
       "      <td>14.0</td>\n",
       "      <td>73.0</td>\n",
       "      <td>0.001802</td>\n",
       "      <td>...</td>\n",
       "      <td>6 km WSW of Cobb, California</td>\n",
       "      <td>earthquake</td>\n",
       "      <td>0.30</td>\n",
       "      <td>0.56</td>\n",
       "      <td>0.010</td>\n",
       "      <td>16.0</td>\n",
       "      <td>automatic</td>\n",
       "      <td>nc</td>\n",
       "      <td>nc</td>\n",
       "      <td>2011-01-01 00:21:06.570000+00:00</td>\n",
       "    </tr>\n",
       "    <tr>\n",
       "      <th>1</th>\n",
       "      <td>1</td>\n",
       "      <td>2011-01-01T02:04:41.480Z</td>\n",
       "      <td>38.789001</td>\n",
       "      <td>-122.747002</td>\n",
       "      <td>-0.844</td>\n",
       "      <td>0.28</td>\n",
       "      <td>md</td>\n",
       "      <td>5.0</td>\n",
       "      <td>122.0</td>\n",
       "      <td>0.009910</td>\n",
       "      <td>...</td>\n",
       "      <td>4 km SSW of Cobb, California</td>\n",
       "      <td>earthquake</td>\n",
       "      <td>0.42</td>\n",
       "      <td>2.39</td>\n",
       "      <td>0.200</td>\n",
       "      <td>6.0</td>\n",
       "      <td>automatic</td>\n",
       "      <td>nc</td>\n",
       "      <td>nc</td>\n",
       "      <td>2011-01-01 02:04:41.480000+00:00</td>\n",
       "    </tr>\n",
       "    <tr>\n",
       "      <th>2</th>\n",
       "      <td>2</td>\n",
       "      <td>2011-01-01T02:53:49.640Z</td>\n",
       "      <td>38.817333</td>\n",
       "      <td>-122.821167</td>\n",
       "      <td>1.929</td>\n",
       "      <td>1.03</td>\n",
       "      <td>md</td>\n",
       "      <td>40.0</td>\n",
       "      <td>44.0</td>\n",
       "      <td>0.010810</td>\n",
       "      <td>...</td>\n",
       "      <td>8 km W of Cobb, California</td>\n",
       "      <td>earthquake</td>\n",
       "      <td>0.14</td>\n",
       "      <td>0.19</td>\n",
       "      <td>0.060</td>\n",
       "      <td>13.0</td>\n",
       "      <td>reviewed</td>\n",
       "      <td>nc</td>\n",
       "      <td>nc</td>\n",
       "      <td>2011-01-01 02:53:49.640000+00:00</td>\n",
       "    </tr>\n",
       "    <tr>\n",
       "      <th>3</th>\n",
       "      <td>3</td>\n",
       "      <td>2011-01-01T03:11:04.720Z</td>\n",
       "      <td>38.841835</td>\n",
       "      <td>-122.829002</td>\n",
       "      <td>1.076</td>\n",
       "      <td>0.43</td>\n",
       "      <td>md</td>\n",
       "      <td>7.0</td>\n",
       "      <td>77.0</td>\n",
       "      <td>0.013510</td>\n",
       "      <td>...</td>\n",
       "      <td>9 km WNW of Cobb, California</td>\n",
       "      <td>earthquake</td>\n",
       "      <td>0.43</td>\n",
       "      <td>0.88</td>\n",
       "      <td>0.150</td>\n",
       "      <td>7.0</td>\n",
       "      <td>automatic</td>\n",
       "      <td>nc</td>\n",
       "      <td>nc</td>\n",
       "      <td>2011-01-01 03:11:04.720000+00:00</td>\n",
       "    </tr>\n",
       "    <tr>\n",
       "      <th>4</th>\n",
       "      <td>4</td>\n",
       "      <td>2011-01-01T03:32:55.630Z</td>\n",
       "      <td>38.835833</td>\n",
       "      <td>-122.807000</td>\n",
       "      <td>0.947</td>\n",
       "      <td>0.16</td>\n",
       "      <td>md</td>\n",
       "      <td>9.0</td>\n",
       "      <td>112.0</td>\n",
       "      <td>0.012610</td>\n",
       "      <td>...</td>\n",
       "      <td>7 km WNW of Cobb, California</td>\n",
       "      <td>earthquake</td>\n",
       "      <td>0.33</td>\n",
       "      <td>0.72</td>\n",
       "      <td>0.123</td>\n",
       "      <td>2.0</td>\n",
       "      <td>reviewed</td>\n",
       "      <td>nc</td>\n",
       "      <td>nc</td>\n",
       "      <td>2011-01-01 03:32:55.630000+00:00</td>\n",
       "    </tr>\n",
       "    <tr>\n",
       "      <th>...</th>\n",
       "      <td>...</td>\n",
       "      <td>...</td>\n",
       "      <td>...</td>\n",
       "      <td>...</td>\n",
       "      <td>...</td>\n",
       "      <td>...</td>\n",
       "      <td>...</td>\n",
       "      <td>...</td>\n",
       "      <td>...</td>\n",
       "      <td>...</td>\n",
       "      <td>...</td>\n",
       "      <td>...</td>\n",
       "      <td>...</td>\n",
       "      <td>...</td>\n",
       "      <td>...</td>\n",
       "      <td>...</td>\n",
       "      <td>...</td>\n",
       "      <td>...</td>\n",
       "      <td>...</td>\n",
       "      <td>...</td>\n",
       "      <td>...</td>\n",
       "    </tr>\n",
       "    <tr>\n",
       "      <th>131527</th>\n",
       "      <td>131527</td>\n",
       "      <td>2015-12-31T22:15:46.650Z</td>\n",
       "      <td>38.837502</td>\n",
       "      <td>-122.825333</td>\n",
       "      <td>1.450</td>\n",
       "      <td>0.18</td>\n",
       "      <td>md</td>\n",
       "      <td>6.0</td>\n",
       "      <td>180.0</td>\n",
       "      <td>0.008108</td>\n",
       "      <td>...</td>\n",
       "      <td>9 km W of Cobb, California</td>\n",
       "      <td>earthquake</td>\n",
       "      <td>0.66</td>\n",
       "      <td>1.08</td>\n",
       "      <td>0.110</td>\n",
       "      <td>2.0</td>\n",
       "      <td>automatic</td>\n",
       "      <td>nc</td>\n",
       "      <td>nc</td>\n",
       "      <td>2015-12-31 22:15:46.650000+00:00</td>\n",
       "    </tr>\n",
       "    <tr>\n",
       "      <th>131528</th>\n",
       "      <td>131528</td>\n",
       "      <td>2015-12-31T22:18:13.120Z</td>\n",
       "      <td>41.856400</td>\n",
       "      <td>-119.599200</td>\n",
       "      <td>8.700</td>\n",
       "      <td>1.40</td>\n",
       "      <td>ml</td>\n",
       "      <td>6.0</td>\n",
       "      <td>210.1</td>\n",
       "      <td>0.175000</td>\n",
       "      <td>...</td>\n",
       "      <td>45 km E of Fort Bidwell, California</td>\n",
       "      <td>earthquake</td>\n",
       "      <td>NaN</td>\n",
       "      <td>3.40</td>\n",
       "      <td>0.210</td>\n",
       "      <td>3.0</td>\n",
       "      <td>reviewed</td>\n",
       "      <td>nn</td>\n",
       "      <td>nn</td>\n",
       "      <td>2015-12-31 22:18:13.120000+00:00</td>\n",
       "    </tr>\n",
       "    <tr>\n",
       "      <th>131529</th>\n",
       "      <td>131529</td>\n",
       "      <td>2015-12-31T23:19:21.650Z</td>\n",
       "      <td>38.823334</td>\n",
       "      <td>-122.765663</td>\n",
       "      <td>1.680</td>\n",
       "      <td>0.54</td>\n",
       "      <td>md</td>\n",
       "      <td>7.0</td>\n",
       "      <td>99.0</td>\n",
       "      <td>0.008108</td>\n",
       "      <td>...</td>\n",
       "      <td>3 km W of Cobb, California</td>\n",
       "      <td>earthquake</td>\n",
       "      <td>0.50</td>\n",
       "      <td>1.54</td>\n",
       "      <td>0.030</td>\n",
       "      <td>2.0</td>\n",
       "      <td>automatic</td>\n",
       "      <td>nc</td>\n",
       "      <td>nc</td>\n",
       "      <td>2015-12-31 23:19:21.650000+00:00</td>\n",
       "    </tr>\n",
       "    <tr>\n",
       "      <th>131530</th>\n",
       "      <td>131530</td>\n",
       "      <td>2015-12-31T23:22:20.730Z</td>\n",
       "      <td>38.841000</td>\n",
       "      <td>-122.878166</td>\n",
       "      <td>1.730</td>\n",
       "      <td>0.77</td>\n",
       "      <td>md</td>\n",
       "      <td>8.0</td>\n",
       "      <td>95.0</td>\n",
       "      <td>0.007207</td>\n",
       "      <td>...</td>\n",
       "      <td>12 km ENE of Cloverdale, California</td>\n",
       "      <td>earthquake</td>\n",
       "      <td>0.58</td>\n",
       "      <td>1.02</td>\n",
       "      <td>0.180</td>\n",
       "      <td>3.0</td>\n",
       "      <td>automatic</td>\n",
       "      <td>nc</td>\n",
       "      <td>nc</td>\n",
       "      <td>2015-12-31 23:22:20.730000+00:00</td>\n",
       "    </tr>\n",
       "    <tr>\n",
       "      <th>131531</th>\n",
       "      <td>131531</td>\n",
       "      <td>2015-12-31T23:53:17.350Z</td>\n",
       "      <td>40.457667</td>\n",
       "      <td>-124.763000</td>\n",
       "      <td>24.960</td>\n",
       "      <td>2.32</td>\n",
       "      <td>md</td>\n",
       "      <td>16.0</td>\n",
       "      <td>301.0</td>\n",
       "      <td>0.325200</td>\n",
       "      <td>...</td>\n",
       "      <td>44 km WSW of Ferndale, California</td>\n",
       "      <td>earthquake</td>\n",
       "      <td>0.99</td>\n",
       "      <td>4.72</td>\n",
       "      <td>0.324</td>\n",
       "      <td>18.0</td>\n",
       "      <td>reviewed</td>\n",
       "      <td>nc</td>\n",
       "      <td>nc</td>\n",
       "      <td>2015-12-31 23:53:17.350000+00:00</td>\n",
       "    </tr>\n",
       "  </tbody>\n",
       "</table>\n",
       "<p>131532 rows × 24 columns</p>\n",
       "</div>"
      ],
      "text/plain": [
       "        Unnamed: 0                      time   latitude   longitude   depth  \\\n",
       "0                0  2011-01-01T00:21:06.570Z  38.809834 -122.793663   1.746   \n",
       "1                1  2011-01-01T02:04:41.480Z  38.789001 -122.747002  -0.844   \n",
       "2                2  2011-01-01T02:53:49.640Z  38.817333 -122.821167   1.929   \n",
       "3                3  2011-01-01T03:11:04.720Z  38.841835 -122.829002   1.076   \n",
       "4                4  2011-01-01T03:32:55.630Z  38.835833 -122.807000   0.947   \n",
       "...            ...                       ...        ...         ...     ...   \n",
       "131527      131527  2015-12-31T22:15:46.650Z  38.837502 -122.825333   1.450   \n",
       "131528      131528  2015-12-31T22:18:13.120Z  41.856400 -119.599200   8.700   \n",
       "131529      131529  2015-12-31T23:19:21.650Z  38.823334 -122.765663   1.680   \n",
       "131530      131530  2015-12-31T23:22:20.730Z  38.841000 -122.878166   1.730   \n",
       "131531      131531  2015-12-31T23:53:17.350Z  40.457667 -124.763000  24.960   \n",
       "\n",
       "         mag magType   nst    gap      dmin  ...  \\\n",
       "0       0.88      md  14.0   73.0  0.001802  ...   \n",
       "1       0.28      md   5.0  122.0  0.009910  ...   \n",
       "2       1.03      md  40.0   44.0  0.010810  ...   \n",
       "3       0.43      md   7.0   77.0  0.013510  ...   \n",
       "4       0.16      md   9.0  112.0  0.012610  ...   \n",
       "...      ...     ...   ...    ...       ...  ...   \n",
       "131527  0.18      md   6.0  180.0  0.008108  ...   \n",
       "131528  1.40      ml   6.0  210.1  0.175000  ...   \n",
       "131529  0.54      md   7.0   99.0  0.008108  ...   \n",
       "131530  0.77      md   8.0   95.0  0.007207  ...   \n",
       "131531  2.32      md  16.0  301.0  0.325200  ...   \n",
       "\n",
       "                                      place        type horizontalError  \\\n",
       "0              6 km WSW of Cobb, California  earthquake            0.30   \n",
       "1              4 km SSW of Cobb, California  earthquake            0.42   \n",
       "2                8 km W of Cobb, California  earthquake            0.14   \n",
       "3              9 km WNW of Cobb, California  earthquake            0.43   \n",
       "4              7 km WNW of Cobb, California  earthquake            0.33   \n",
       "...                                     ...         ...             ...   \n",
       "131527           9 km W of Cobb, California  earthquake            0.66   \n",
       "131528  45 km E of Fort Bidwell, California  earthquake             NaN   \n",
       "131529           3 km W of Cobb, California  earthquake            0.50   \n",
       "131530  12 km ENE of Cloverdale, California  earthquake            0.58   \n",
       "131531    44 km WSW of Ferndale, California  earthquake            0.99   \n",
       "\n",
       "       depthError magError magNst     status  locationSource  magSource  \\\n",
       "0            0.56    0.010   16.0  automatic              nc         nc   \n",
       "1            2.39    0.200    6.0  automatic              nc         nc   \n",
       "2            0.19    0.060   13.0   reviewed              nc         nc   \n",
       "3            0.88    0.150    7.0  automatic              nc         nc   \n",
       "4            0.72    0.123    2.0   reviewed              nc         nc   \n",
       "...           ...      ...    ...        ...             ...        ...   \n",
       "131527       1.08    0.110    2.0  automatic              nc         nc   \n",
       "131528       3.40    0.210    3.0   reviewed              nn         nn   \n",
       "131529       1.54    0.030    2.0  automatic              nc         nc   \n",
       "131530       1.02    0.180    3.0  automatic              nc         nc   \n",
       "131531       4.72    0.324   18.0   reviewed              nc         nc   \n",
       "\n",
       "                               datetime  \n",
       "0      2011-01-01 00:21:06.570000+00:00  \n",
       "1      2011-01-01 02:04:41.480000+00:00  \n",
       "2      2011-01-01 02:53:49.640000+00:00  \n",
       "3      2011-01-01 03:11:04.720000+00:00  \n",
       "4      2011-01-01 03:32:55.630000+00:00  \n",
       "...                                 ...  \n",
       "131527 2015-12-31 22:15:46.650000+00:00  \n",
       "131528 2015-12-31 22:18:13.120000+00:00  \n",
       "131529 2015-12-31 23:19:21.650000+00:00  \n",
       "131530 2015-12-31 23:22:20.730000+00:00  \n",
       "131531 2015-12-31 23:53:17.350000+00:00  \n",
       "\n",
       "[131532 rows x 24 columns]"
      ]
     },
     "execution_count": 4,
     "metadata": {},
     "output_type": "execute_result"
    }
   ],
   "source": [
    "events_anss = pd.read_csv('../data/datasets_anss/anss_2011-15.csv')\n",
    "events_anss['datetime'] = pd.to_datetime(events_anss['time'], format='%Y-%m-%dT%H:%M:%S.%fZ', utc=True)\n",
    "events_anss= events_anss.loc[(events_anss['datetime'] > t1) & (events_anss['datetime'] < t2) ]\n",
    "events_anss"
   ]
  },
  {
   "cell_type": "markdown",
   "id": "d2499c46",
   "metadata": {},
   "source": [
    "## Our Catalog"
   ]
  },
  {
   "cell_type": "code",
   "execution_count": 5,
   "id": "f0456713",
   "metadata": {
    "scrolled": true
   },
   "outputs": [
    {
     "name": "stderr",
     "output_type": "stream",
     "text": [
      "/tmp/ipykernel_2256828/3753830256.py:6: SettingWithCopyWarning: \n",
      "A value is trying to be set on a copy of a slice from a DataFrame.\n",
      "Try using .loc[row_indexer,col_indexer] = value instead\n",
      "\n",
      "See the caveats in the documentation: https://pandas.pydata.org/pandas-docs/stable/user_guide/indexing.html#returning-a-view-versus-a-copy\n",
      "  mycatalog['datetime'] = pd.to_datetime(mycatalog['time'], utc = True)\n"
     ]
    },
    {
     "data": {
      "text/html": [
       "<div>\n",
       "<style scoped>\n",
       "    .dataframe tbody tr th:only-of-type {\n",
       "        vertical-align: middle;\n",
       "    }\n",
       "\n",
       "    .dataframe tbody tr th {\n",
       "        vertical-align: top;\n",
       "    }\n",
       "\n",
       "    .dataframe thead th {\n",
       "        text-align: right;\n",
       "    }\n",
       "</style>\n",
       "<table border=\"1\" class=\"dataframe\">\n",
       "  <thead>\n",
       "    <tr style=\"text-align: right;\">\n",
       "      <th></th>\n",
       "      <th>Unnamed: 0</th>\n",
       "      <th>idx</th>\n",
       "      <th>time</th>\n",
       "      <th>x</th>\n",
       "      <th>y</th>\n",
       "      <th>z</th>\n",
       "      <th>picks</th>\n",
       "      <th>latitude</th>\n",
       "      <th>longitude</th>\n",
       "      <th>depth</th>\n",
       "      <th>event_idx</th>\n",
       "      <th>pick_idx</th>\n",
       "      <th>residual</th>\n",
       "      <th>station</th>\n",
       "      <th>phase</th>\n",
       "      <th>time_pick</th>\n",
       "      <th>datetime</th>\n",
       "    </tr>\n",
       "  </thead>\n",
       "  <tbody>\n",
       "    <tr>\n",
       "      <th>0</th>\n",
       "      <td>0</td>\n",
       "      <td>6</td>\n",
       "      <td>2014-01-01 05:17:39.077630+00:00</td>\n",
       "      <td>142.244353</td>\n",
       "      <td>337.329738</td>\n",
       "      <td>49.609375</td>\n",
       "      <td>6</td>\n",
       "      <td>47.519306</td>\n",
       "      <td>-123.611335</td>\n",
       "      <td>49.609375</td>\n",
       "      <td>6</td>\n",
       "      <td>1169808</td>\n",
       "      <td>-0.115299</td>\n",
       "      <td>FN03C</td>\n",
       "      <td>S</td>\n",
       "      <td>1.388553e+09</td>\n",
       "      <td>2014-01-01 05:17:39.077630+00:00</td>\n",
       "    </tr>\n",
       "    <tr>\n",
       "      <th>6</th>\n",
       "      <td>6</td>\n",
       "      <td>8</td>\n",
       "      <td>2014-01-01 05:54:38.249747+00:00</td>\n",
       "      <td>64.149414</td>\n",
       "      <td>251.505620</td>\n",
       "      <td>23.828125</td>\n",
       "      <td>6</td>\n",
       "      <td>46.759798</td>\n",
       "      <td>-124.660304</td>\n",
       "      <td>23.828125</td>\n",
       "      <td>8</td>\n",
       "      <td>439121</td>\n",
       "      <td>-0.860182</td>\n",
       "      <td>FN02C</td>\n",
       "      <td>P</td>\n",
       "      <td>1.388556e+09</td>\n",
       "      <td>2014-01-01 05:54:38.249747+00:00</td>\n",
       "    </tr>\n",
       "    <tr>\n",
       "      <th>12</th>\n",
       "      <td>12</td>\n",
       "      <td>33</td>\n",
       "      <td>2014-01-01 19:35:45.733263+00:00</td>\n",
       "      <td>-143.359995</td>\n",
       "      <td>536.155610</td>\n",
       "      <td>1.953125</td>\n",
       "      <td>6</td>\n",
       "      <td>49.306068</td>\n",
       "      <td>-127.471390</td>\n",
       "      <td>1.953125</td>\n",
       "      <td>33</td>\n",
       "      <td>1626720</td>\n",
       "      <td>1.188078</td>\n",
       "      <td>FN01C</td>\n",
       "      <td>S</td>\n",
       "      <td>1.388605e+09</td>\n",
       "      <td>2014-01-01 19:35:45.733263+00:00</td>\n",
       "    </tr>\n",
       "    <tr>\n",
       "      <th>18</th>\n",
       "      <td>18</td>\n",
       "      <td>35</td>\n",
       "      <td>2014-01-01 20:47:42.700244+00:00</td>\n",
       "      <td>79.768402</td>\n",
       "      <td>262.948836</td>\n",
       "      <td>0.390625</td>\n",
       "      <td>6</td>\n",
       "      <td>46.861035</td>\n",
       "      <td>-124.453894</td>\n",
       "      <td>0.390625</td>\n",
       "      <td>35</td>\n",
       "      <td>725690</td>\n",
       "      <td>-0.830630</td>\n",
       "      <td>FN01C</td>\n",
       "      <td>P</td>\n",
       "      <td>1.388609e+09</td>\n",
       "      <td>2014-01-01 20:47:42.700244+00:00</td>\n",
       "    </tr>\n",
       "    <tr>\n",
       "      <th>24</th>\n",
       "      <td>24</td>\n",
       "      <td>53</td>\n",
       "      <td>2014-01-02 01:36:17.640762+00:00</td>\n",
       "      <td>427.848701</td>\n",
       "      <td>377.380993</td>\n",
       "      <td>49.609375</td>\n",
       "      <td>6</td>\n",
       "      <td>47.752994</td>\n",
       "      <td>-119.792989</td>\n",
       "      <td>49.609375</td>\n",
       "      <td>53</td>\n",
       "      <td>562265</td>\n",
       "      <td>1.025347</td>\n",
       "      <td>FN04C</td>\n",
       "      <td>P</td>\n",
       "      <td>1.388627e+09</td>\n",
       "      <td>2014-01-02 01:36:17.640762+00:00</td>\n",
       "    </tr>\n",
       "    <tr>\n",
       "      <th>...</th>\n",
       "      <td>...</td>\n",
       "      <td>...</td>\n",
       "      <td>...</td>\n",
       "      <td>...</td>\n",
       "      <td>...</td>\n",
       "      <td>...</td>\n",
       "      <td>...</td>\n",
       "      <td>...</td>\n",
       "      <td>...</td>\n",
       "      <td>...</td>\n",
       "      <td>...</td>\n",
       "      <td>...</td>\n",
       "      <td>...</td>\n",
       "      <td>...</td>\n",
       "      <td>...</td>\n",
       "      <td>...</td>\n",
       "      <td>...</td>\n",
       "    </tr>\n",
       "    <tr>\n",
       "      <th>4533</th>\n",
       "      <td>4533</td>\n",
       "      <td>6575</td>\n",
       "      <td>2014-06-24 19:45:52.044683+00:00</td>\n",
       "      <td>65.265056</td>\n",
       "      <td>267.240042</td>\n",
       "      <td>3.515625</td>\n",
       "      <td>6</td>\n",
       "      <td>46.901212</td>\n",
       "      <td>-124.643457</td>\n",
       "      <td>3.515625</td>\n",
       "      <td>6575</td>\n",
       "      <td>227250</td>\n",
       "      <td>1.386195</td>\n",
       "      <td>FN03C</td>\n",
       "      <td>P</td>\n",
       "      <td>1.403639e+09</td>\n",
       "      <td>2014-06-24 19:45:52.044683+00:00</td>\n",
       "    </tr>\n",
       "    <tr>\n",
       "      <th>4539</th>\n",
       "      <td>4539</td>\n",
       "      <td>6589</td>\n",
       "      <td>2014-06-25 09:27:07.639354+00:00</td>\n",
       "      <td>83.115328</td>\n",
       "      <td>241.492807</td>\n",
       "      <td>17.578125</td>\n",
       "      <td>6</td>\n",
       "      <td>46.667652</td>\n",
       "      <td>-124.413895</td>\n",
       "      <td>17.578125</td>\n",
       "      <td>6589</td>\n",
       "      <td>350248</td>\n",
       "      <td>-0.313404</td>\n",
       "      <td>FN02C</td>\n",
       "      <td>P</td>\n",
       "      <td>1.403688e+09</td>\n",
       "      <td>2014-06-25 09:27:07.639354+00:00</td>\n",
       "    </tr>\n",
       "    <tr>\n",
       "      <th>4545</th>\n",
       "      <td>4545</td>\n",
       "      <td>6591</td>\n",
       "      <td>2014-06-25 15:05:09.420748+00:00</td>\n",
       "      <td>-228.148786</td>\n",
       "      <td>148.516679</td>\n",
       "      <td>49.609375</td>\n",
       "      <td>6</td>\n",
       "      <td>45.798660</td>\n",
       "      <td>-128.434658</td>\n",
       "      <td>49.609375</td>\n",
       "      <td>6591</td>\n",
       "      <td>512951</td>\n",
       "      <td>0.540974</td>\n",
       "      <td>FN01C</td>\n",
       "      <td>P</td>\n",
       "      <td>1.403709e+09</td>\n",
       "      <td>2014-06-25 15:05:09.420748+00:00</td>\n",
       "    </tr>\n",
       "    <tr>\n",
       "      <th>4551</th>\n",
       "      <td>4551</td>\n",
       "      <td>6601</td>\n",
       "      <td>2014-06-25 20:47:18.763527+00:00</td>\n",
       "      <td>51.877352</td>\n",
       "      <td>268.670444</td>\n",
       "      <td>1.171875</td>\n",
       "      <td>6</td>\n",
       "      <td>46.915258</td>\n",
       "      <td>-124.818981</td>\n",
       "      <td>1.171875</td>\n",
       "      <td>6601</td>\n",
       "      <td>1266061</td>\n",
       "      <td>-0.300317</td>\n",
       "      <td>FN02C</td>\n",
       "      <td>S</td>\n",
       "      <td>1.403729e+09</td>\n",
       "      <td>2014-06-25 20:47:18.763527+00:00</td>\n",
       "    </tr>\n",
       "    <tr>\n",
       "      <th>4557</th>\n",
       "      <td>4557</td>\n",
       "      <td>6609</td>\n",
       "      <td>2014-06-26 01:08:02.810201+00:00</td>\n",
       "      <td>66.380698</td>\n",
       "      <td>267.240042</td>\n",
       "      <td>10.546875</td>\n",
       "      <td>7</td>\n",
       "      <td>46.901101</td>\n",
       "      <td>-124.628817</td>\n",
       "      <td>10.546875</td>\n",
       "      <td>6609</td>\n",
       "      <td>655805</td>\n",
       "      <td>1.468220</td>\n",
       "      <td>FN01C</td>\n",
       "      <td>P</td>\n",
       "      <td>1.403745e+09</td>\n",
       "      <td>2014-06-26 01:08:02.810201+00:00</td>\n",
       "    </tr>\n",
       "  </tbody>\n",
       "</table>\n",
       "<p>749 rows × 17 columns</p>\n",
       "</div>"
      ],
      "text/plain": [
       "      Unnamed: 0   idx                              time           x  \\\n",
       "0              0     6  2014-01-01 05:17:39.077630+00:00  142.244353   \n",
       "6              6     8  2014-01-01 05:54:38.249747+00:00   64.149414   \n",
       "12            12    33  2014-01-01 19:35:45.733263+00:00 -143.359995   \n",
       "18            18    35  2014-01-01 20:47:42.700244+00:00   79.768402   \n",
       "24            24    53  2014-01-02 01:36:17.640762+00:00  427.848701   \n",
       "...          ...   ...                               ...         ...   \n",
       "4533        4533  6575  2014-06-24 19:45:52.044683+00:00   65.265056   \n",
       "4539        4539  6589  2014-06-25 09:27:07.639354+00:00   83.115328   \n",
       "4545        4545  6591  2014-06-25 15:05:09.420748+00:00 -228.148786   \n",
       "4551        4551  6601  2014-06-25 20:47:18.763527+00:00   51.877352   \n",
       "4557        4557  6609  2014-06-26 01:08:02.810201+00:00   66.380698   \n",
       "\n",
       "               y          z  picks   latitude   longitude      depth  \\\n",
       "0     337.329738  49.609375      6  47.519306 -123.611335  49.609375   \n",
       "6     251.505620  23.828125      6  46.759798 -124.660304  23.828125   \n",
       "12    536.155610   1.953125      6  49.306068 -127.471390   1.953125   \n",
       "18    262.948836   0.390625      6  46.861035 -124.453894   0.390625   \n",
       "24    377.380993  49.609375      6  47.752994 -119.792989  49.609375   \n",
       "...          ...        ...    ...        ...         ...        ...   \n",
       "4533  267.240042   3.515625      6  46.901212 -124.643457   3.515625   \n",
       "4539  241.492807  17.578125      6  46.667652 -124.413895  17.578125   \n",
       "4545  148.516679  49.609375      6  45.798660 -128.434658  49.609375   \n",
       "4551  268.670444   1.171875      6  46.915258 -124.818981   1.171875   \n",
       "4557  267.240042  10.546875      7  46.901101 -124.628817  10.546875   \n",
       "\n",
       "      event_idx  pick_idx  residual station phase     time_pick  \\\n",
       "0             6   1169808 -0.115299   FN03C     S  1.388553e+09   \n",
       "6             8    439121 -0.860182   FN02C     P  1.388556e+09   \n",
       "12           33   1626720  1.188078   FN01C     S  1.388605e+09   \n",
       "18           35    725690 -0.830630   FN01C     P  1.388609e+09   \n",
       "24           53    562265  1.025347   FN04C     P  1.388627e+09   \n",
       "...         ...       ...       ...     ...   ...           ...   \n",
       "4533       6575    227250  1.386195   FN03C     P  1.403639e+09   \n",
       "4539       6589    350248 -0.313404   FN02C     P  1.403688e+09   \n",
       "4545       6591    512951  0.540974   FN01C     P  1.403709e+09   \n",
       "4551       6601   1266061 -0.300317   FN02C     S  1.403729e+09   \n",
       "4557       6609    655805  1.468220   FN01C     P  1.403745e+09   \n",
       "\n",
       "                             datetime  \n",
       "0    2014-01-01 05:17:39.077630+00:00  \n",
       "6    2014-01-01 05:54:38.249747+00:00  \n",
       "12   2014-01-01 19:35:45.733263+00:00  \n",
       "18   2014-01-01 20:47:42.700244+00:00  \n",
       "24   2014-01-02 01:36:17.640762+00:00  \n",
       "...                               ...  \n",
       "4533 2014-06-24 19:45:52.044683+00:00  \n",
       "4539 2014-06-25 09:27:07.639354+00:00  \n",
       "4545 2014-06-25 15:05:09.420748+00:00  \n",
       "4551 2014-06-25 20:47:18.763527+00:00  \n",
       "4557 2014-06-26 01:08:02.810201+00:00  \n",
       "\n",
       "[749 rows x 17 columns]"
      ]
     },
     "execution_count": 5,
     "metadata": {},
     "output_type": "execute_result"
    }
   ],
   "source": [
    "# Load all the pick assignments \n",
    "year = 'swa_shore'\n",
    "mycatalog_picks = pd.read_csv(f'../data/datasets_{year}/all_pick_assignments_{year}.csv')\n",
    "mycatalog = mycatalog_picks.drop_duplicates(subset=['idx'])\n",
    "# Convert the time series in all_pick_assignments to datetime\n",
    "mycatalog['datetime'] = pd.to_datetime(mycatalog['time'], utc = True)\n",
    "mycatalog=mycatalog.loc[(mycatalog['datetime'] > t1) & (mycatalog['datetime'] < t2) ]\n",
    "mycatalog"
   ]
  },
  {
   "cell_type": "markdown",
   "id": "f3d4e9ca",
   "metadata": {},
   "source": [
    "## Run this loop"
   ]
  },
  {
   "cell_type": "code",
   "execution_count": 6,
   "id": "3e0e7740",
   "metadata": {},
   "outputs": [
    {
     "name": "stdout",
     "output_type": "stream",
     "text": [
      "matched idx of Morton:  1793\n",
      "matched idx of Morton:  1853\n",
      "matched idx of Morton:  1885\n",
      "749 746\n",
      "length of mycatalog:749\n",
      "length of events_morton:5282\n",
      "length of events_anss:131532\n",
      "matched_indices_morton:3\n",
      "matched_indices_anss:3\n",
      "unmatched_indices_morton:746\n",
      "unmatched_indices_anss:746\n",
      "unmatched_indices_morton_and_anss (new events):746\n"
     ]
    }
   ],
   "source": [
    "matched_events_mycatalog2morton = []\n",
    "matched_times_morton2mycatalog = []\n",
    "matched_events_morton2mycatalog = []\n",
    "unmatched_times_morton2mycatalog = []\n",
    "unmatched_events_morton2mycatalog = []\n",
    "unmatched_events_mycatalog2morton_and_anss = []\n",
    "matched_events_anss2mycatalog=[]\n",
    "matched_events_mycatalog2anss = []\n",
    "unmatched_times_anss2mycatalog = []\n",
    "unmatched_events_anss2mycatalog = []\n",
    "matched_times_anss2mycatalog =[]\n",
    "\n",
    "time_threshold = 5 # in seconds\n",
    "dist_threshold =25\n",
    "\n",
    "lat_morton2mycatalog = []\n",
    "lon_morton2mycatalog = []\n",
    "\n",
    "lat_anss2mycatalog =[]\n",
    "lon_anss2mycatalog = []\n",
    "\n",
    "# A set to keep track of matched indices in mycatalog\n",
    "matched_indices_morton = set()\n",
    "matched_indices_anss = set()\n",
    "count_c = 0\n",
    "count_d = 0\n",
    "# Loop over events in Morton's catalog\n",
    "for i in range(len(events_morton)):\n",
    "    t11 = events_morton.iloc[i]['datetime']\n",
    "    olat = events_morton.iloc[i]['LAT']\n",
    "    olon = events_morton.iloc[i]['LON']\n",
    "    \n",
    "                                       \n",
    "    condition = (mycatalog['datetime'] >= t11 - pd.Timedelta(seconds=time_threshold)) & \\\n",
    "                     (mycatalog['datetime'] <= t11 + pd.Timedelta(seconds=time_threshold)) & \\\n",
    "                     (degrees2kilometers(locations2degrees(olat, olon, mycatalog['latitude'], mycatalog['longitude'])) <= dist_threshold)                        \n",
    "    matched_df = mycatalog.loc[condition]\n",
    "\n",
    "    if len(matched_df) == 1:\n",
    "        print('matched idx of Morton: ',i)\n",
    "        count_c+=1\n",
    "        matched_times_morton2mycatalog.append(t11)\n",
    "        matched_events_morton2mycatalog.append(events_morton.iloc[i])\n",
    "        lat_morton2mycatalog.append(events_morton.iloc[i]['LAT'])\n",
    "        lon_morton2mycatalog.append(events_morton.iloc[i]['LON'])\n",
    "        matched_events_mycatalog2morton.append(matched_df)\n",
    "        matched_indices_morton.update(matched_df['idx'])\n",
    "    elif len(matched_df) > 1:\n",
    "        print('matched idx of Morton: ',i)\n",
    "\n",
    "        count_d+=1\n",
    "        diffs = abs(matched_df['datetime'] - t11)\n",
    "        closest_index = diffs.idxmin()\n",
    "        closest_event = matched_df.loc[[closest_index]]\n",
    "        matched_times_morton2mycatalog.append(t11)\n",
    "        matched_events_morton2mycatalog.append(events_morton.iloc[i])\n",
    "        lat_morton2mycatalog.append(events_morton.iloc[i]['LAT'])\n",
    "        lon_morton2mycatalog.append(events_morton.iloc[i]['LON'])\n",
    "        matched_events_mycatalog2morton.append(closest_event)\n",
    "        matched_indices_morton.update(closest_event['idx'])\n",
    "    else:\n",
    "        unmatched_times_morton2mycatalog.append(t11)\n",
    "        unmatched_events_morton2mycatalog.append(events_morton.iloc[i])\n",
    "\n",
    "# All events in mycatalog not matched with Morton's catalog are unmatched\n",
    "unmatched_indices_morton = set(mycatalog.idx) - matched_indices_morton\n",
    "# unmatched_events_mycatalog2morton = mycatalog.iloc[list(unmatched_indices_morton)]\n",
    "count_a =0\n",
    "count_b =0\n",
    "# Loop over events in ANSS catalog\n",
    "for i in range(len(events_anss)):\n",
    "    t11 = events_anss.iloc[i]['datetime']\n",
    "    olat = events_anss.iloc[i]['latitude']\n",
    "    olon = events_anss.iloc[i]['longitude']\n",
    "    \n",
    "                                       \n",
    "    condition = (mycatalog['datetime'] >= t11 - pd.Timedelta(seconds=time_threshold)) & \\\n",
    "                     (mycatalog['datetime'] <= t11 + pd.Timedelta(seconds=time_threshold)) & \\\n",
    "                     (degrees2kilometers(locations2degrees(olat, olon, mycatalog['latitude'], mycatalog['longitude'])) <= dist_threshold)                        \n",
    "    matched_df = mycatalog.loc[condition]\n",
    "    \n",
    "    if len(matched_df) == 1:\n",
    "        \n",
    "        count_a+=1\n",
    "        matched_times_anss2mycatalog.append(t11)\n",
    "        matched_events_anss2mycatalog.append(events_anss.iloc[i])\n",
    "        lat_anss2mycatalog.append(events_anss.iloc[i]['latitude'])\n",
    "        lon_anss2mycatalog.append(events_anss.iloc[i]['longitude'])\n",
    "        matched_events_mycatalog2anss.append(matched_df)\n",
    "        matched_indices_anss.update(matched_df['idx'])\n",
    "        \n",
    "    elif len(matched_df) > 1:\n",
    "        count_b+=1\n",
    "        diffs = abs(matched_df['datetime'] - t11)\n",
    "        closest_index = diffs.idxmin()\n",
    "        closest_event = matched_df.loc[[closest_index]]\n",
    "        matched_times_anss2mycatalog.append(t11)\n",
    "        matched_events_anss2mycatalog.append(events_anss.iloc[i])\n",
    "        lat_anss2mycatalog.append(events_anss.iloc[i]['latitude'])\n",
    "        lon_anss2mycatalog.append(events_anss.iloc[i]['longitude'])\n",
    "        matched_events_mycatalog2anss.append(closest_event)\n",
    "        matched_indices_anss.update(closest_event['idx'])\n",
    "        \n",
    "    else:\n",
    "        unmatched_times_anss2mycatalog.append(t11)\n",
    "        unmatched_events_anss2mycatalog.append(events_anss.iloc[i])\n",
    "\n",
    "# All events in mycatalog not matched with ANSS catalog are unmatched\n",
    "unmatched_indices_anss = set(mycatalog.idx) - matched_indices_anss\n",
    "\n",
    "unmatched_indices_morton_and_anss = unmatched_indices_morton.intersection(unmatched_indices_anss)\n",
    "print(len(mycatalog),len(unmatched_indices_morton_and_anss))\n",
    "\n",
    "# unmatched_events_mycatalog2morton_and_anss = mycatalog.iloc[list(unmatched_indices_morton_and_anss)]\n",
    "unmatched_events_mycatalog2morton_and_anss = mycatalog.loc[mycatalog['event_idx'].isin(list(unmatched_indices_morton_and_anss))]\n",
    "\n",
    "\n",
    "print(f\"length of mycatalog:{len(mycatalog)}\")\n",
    "print(f\"length of events_morton:{len(events_morton)}\")\n",
    "print(f\"length of events_anss:{len(events_anss)}\")\n",
    "print(f\"matched_indices_morton:{len(matched_indices_morton)}\")\n",
    "print(f\"matched_indices_anss:{len(matched_indices_anss)}\")\n",
    "print(f\"unmatched_indices_morton:{len(unmatched_indices_morton)}\")\n",
    "print(f\"unmatched_indices_anss:{len(unmatched_indices_anss)}\")\n",
    "print(f\"unmatched_indices_morton_and_anss (new events):{len(unmatched_indices_morton_and_anss)}\")\n"
   ]
  },
  {
   "cell_type": "code",
   "execution_count": 7,
   "id": "0b6dd0b1",
   "metadata": {},
   "outputs": [
    {
     "name": "stdout",
     "output_type": "stream",
     "text": [
      "length of mycatalog:749\n",
      "length of events_morton:5282\n",
      "length of events_anss:131532\n",
      "matched_events_mycatalog2morton:3\n",
      "matched_events_morton2mycatalog:3\n",
      "unmatched_events_anss2mycatalog:131529\n",
      "unmatched_events_morton2mycatalog:5279\n",
      "unmatched_events_mycatalog2morton_and_anss (new events):746\n",
      "matched_events_mycatalog2anss:3\n",
      "matched_events_anss2mycatalog:3\n"
     ]
    }
   ],
   "source": [
    "# new concat code\n",
    "# Concatenate and clean up dataframes\n",
    "if len(matched_events_mycatalog2morton)>0:\n",
    "    matched_events_mycatalog2morton = pd.concat(matched_events_mycatalog2morton).reset_index(drop=True)\n",
    "    matched_times_mycatalog2morton = matched_events_mycatalog2morton['datetime']\n",
    "    lat_mycatalog2morton = matched_events_mycatalog2morton['latitude']\n",
    "    lon_mycatalog2morton = matched_events_mycatalog2morton['longitude']\n",
    "\n",
    "if len(matched_events_morton2mycatalog)>0:   \n",
    "    matched_events_morton2mycatalog = pd.DataFrame(matched_events_morton2mycatalog).reset_index(drop=True)\n",
    "    \n",
    "if len(unmatched_events_anss2mycatalog)>0:\n",
    "    unmatched_events_anss2mycatalog = pd.DataFrame(unmatched_events_anss2mycatalog).reset_index(drop=True)\n",
    "    \n",
    "if len(unmatched_events_morton2mycatalog)>0:\n",
    "    unmatched_events_morton2mycatalog = pd.DataFrame(unmatched_events_morton2mycatalog).reset_index(drop=True)\n",
    "\n",
    "if len(unmatched_events_mycatalog2morton_and_anss) > 0:\n",
    "    unmatched_events_mycatalog2morton_and_anss = unmatched_events_mycatalog2morton_and_anss.reset_index(drop=True)\n",
    "\n",
    "if len(matched_events_mycatalog2anss)>0:\n",
    "    matched_events_mycatalog2anss = pd.concat(matched_events_mycatalog2anss).reset_index(drop=True)\n",
    "    matched_times_mycatalog2anss = matched_events_mycatalog2anss['datetime']\n",
    "    lat_mycatalog2anss = matched_events_mycatalog2anss['latitude']\n",
    "    lon_mycatalog2anss = matched_events_mycatalog2anss['longitude']\n",
    "\n",
    "if len(matched_events_anss2mycatalog)>0:   \n",
    "    matched_events_anss2mycatalog = pd.DataFrame(matched_events_anss2mycatalog).reset_index(drop=True)\n",
    "    matched_times_anss2mycatalog = matched_events_anss2mycatalog['datetime']\n",
    "\n",
    "print(f\"length of mycatalog:{len(mycatalog)}\")\n",
    "print(f\"length of events_morton:{len(events_morton)}\")\n",
    "print(f\"length of events_anss:{len(events_anss)}\")\n",
    "print(f\"matched_events_mycatalog2morton:{len(matched_events_mycatalog2morton)}\")\n",
    "print(f\"matched_events_morton2mycatalog:{len(matched_events_morton2mycatalog)}\")\n",
    "print(f\"unmatched_events_anss2mycatalog:{len(unmatched_events_anss2mycatalog)}\")\n",
    "print(f\"unmatched_events_morton2mycatalog:{len(unmatched_events_morton2mycatalog)}\")\n",
    "print(f\"unmatched_events_mycatalog2morton_and_anss (new events):{len(unmatched_events_mycatalog2morton_and_anss)}\")\n",
    "print(f\"matched_events_mycatalog2anss:{len(matched_events_mycatalog2anss)}\")\n",
    "print(f\"matched_events_anss2mycatalog:{len(matched_events_anss2mycatalog)}\")"
   ]
  },
  {
   "cell_type": "code",
   "execution_count": 8,
   "id": "0da443d3",
   "metadata": {},
   "outputs": [],
   "source": [
    "# Save these three catalogs to csv files\n",
    "matched_events_mycatalog2morton.to_csv(f'../data/datasets_{year}/matched_events_with_morton_mycatalog.csv')\n",
    "matched_events_anss2mycatalog.to_csv(f'../data/datasets_{year}/matched_events_with_mycatalog_anss.csv')\n",
    "matched_events_morton2mycatalog.to_csv(f'../data/datasets_{year}/matched_events_with_mycatalog_morton.csv')\n",
    "unmatched_events_mycatalog2morton_and_anss.to_csv(f'../data/datasets_{year}/new_events.csv')\n",
    "matched_events_mycatalog2anss.to_csv(f'../data/datasets_{year}/matched_events_with_anss_mycatalog.csv')\n",
    "unmatched_events_morton2mycatalog.to_csv(f'../data/datasets_{year}/missing_events_from_mycatalog_morton.csv')\n",
    "unmatched_events_anss2mycatalog.to_csv(f'../data/datasets_{year}/missing_events_from_mycatalog_anss.csv')\n"
   ]
  },
  {
   "cell_type": "markdown",
   "id": "4b308175",
   "metadata": {},
   "source": [
    "## Plot the Origin Times"
   ]
  },
  {
   "cell_type": "markdown",
   "id": "863b722c",
   "metadata": {},
   "source": [
    "### Compare with Morton's Catalog "
   ]
  },
  {
   "cell_type": "code",
   "execution_count": null,
   "id": "aa2d61a3",
   "metadata": {},
   "outputs": [],
   "source": [
    "# Make lists for plotting the 1:1 line\n",
    "x = pd.date_range(start='2011-1-1', end='2015-12-31', periods=len(matched_times_morton2mycatalog))\n",
    "y = pd.date_range(start='2011-1-1', end='2015-12-31', periods=len(matched_times_morton2mycatalog))\n",
    "\n",
    "# Plot the scatter plot\n",
    "plt.figure()\n",
    "plt.scatter(matched_times_mycatalog2morton,matched_times_morton2mycatalog)\n",
    "plt.plot(x,y, 'k--')\n",
    "plt.xlabel('Origin Time of mycatalog')\n",
    "plt.ylabel('Origin Time of Morton')\n",
    "plt.title('Scatter Plot: Origin Times of Matched Events')"
   ]
  },
  {
   "cell_type": "markdown",
   "id": "13a2d257",
   "metadata": {},
   "source": [
    "### Compare with the ANSS Catalog "
   ]
  },
  {
   "cell_type": "code",
   "execution_count": null,
   "id": "25ebca76",
   "metadata": {},
   "outputs": [],
   "source": [
    "# Make lists for plotting the 1:1 line\n",
    "matched_times_mycatalog2anss = pd.to_datetime(matched_times_mycatalog2anss)\n",
    "matched_times_anss2mycatalog = pd.to_datetime(matched_times_anss2mycatalog)\n",
    "\n",
    "x = pd.date_range(start='2014-1-1', end='2014-12-31', periods=len(matched_times_anss2mycatalog))\n",
    "y = pd.date_range(start='2014-1-1', end='2014-12-31', periods=len(matched_times_anss2mycatalog))\n",
    "\n",
    "# Plot the scatter plot\n",
    "plt.figure()\n",
    "plt.scatter(matched_times_mycatalog2anss,matched_times_anss2mycatalog)\n",
    "plt.plot(x,y, 'k--')\n",
    "plt.xlabel('Origin Time of mycatalog')\n",
    "plt.ylabel('Origin Time of Morton')\n",
    "plt.title('Scatter Plot: Origin Times of Matched Events')"
   ]
  },
  {
   "cell_type": "markdown",
   "id": "fc43d9d5",
   "metadata": {},
   "source": [
    "## Plot the Latitudes"
   ]
  },
  {
   "cell_type": "markdown",
   "id": "7ed02e61",
   "metadata": {},
   "source": [
    "### Compare with Morton's Catalog "
   ]
  },
  {
   "cell_type": "code",
   "execution_count": null,
   "id": "e77491ad",
   "metadata": {},
   "outputs": [],
   "source": [
    "# Plot the scatter plot\n",
    "plt.figure()\n",
    "lat_min = min(lat_mycatalog2morton)\n",
    "lat_max = max(lat_mycatalog2morton)\n",
    "\n",
    "# Make lists for plotting the 1:1 line\n",
    "x_lat = np.linspace(lat_min, lat_max, 10)\n",
    "y_lat = np.linspace(lat_min, lat_max, 10)\n",
    "plt.scatter(lat_mycatalog2morton,lat_morton2mycatalog, s=15)\n",
    "plt.plot(x_lat,y_lat, 'k--')\n",
    "plt.xlabel('Latitudes of Our Catalog ($^\\circ$)')\n",
    "plt.ylabel('Latitudes of Morton et al. (2023) ($^\\circ$)')\n",
    "plt.title('Latitudes of Our Catalog vs.Latitudes of Morton et al. (2023)')"
   ]
  },
  {
   "cell_type": "markdown",
   "id": "d6e9ef27",
   "metadata": {},
   "source": [
    "### Compare with the ANSS Catalog "
   ]
  },
  {
   "cell_type": "code",
   "execution_count": null,
   "id": "cfe7f36c",
   "metadata": {},
   "outputs": [],
   "source": [
    "# Plot the scatter plot\n",
    "plt.figure()\n",
    "lat_min = min(lat_mycatalog2anss)\n",
    "lat_max = max(lat_mycatalog2anss)\n",
    "\n",
    "# Make lists for plotting the 1:1 line\n",
    "x_lat = np.linspace(lat_min, lat_max, 10)\n",
    "y_lat = np.linspace(lat_min, lat_max, 10)\n",
    "plt.scatter(lat_mycatalog2anss,lat_anss2mycatalog, s=15)\n",
    "plt.plot(x_lat,y_lat, 'k--')\n",
    "plt.xlabel('Latitudes of Our Catalog ($^\\circ$)')\n",
    "plt.ylabel('Latitudes of ANSS Catalog ($^\\circ$)')\n",
    "plt.title('Latitudes of Our Catalog vs. ANSS Catalog')"
   ]
  },
  {
   "cell_type": "markdown",
   "id": "fc628b1a",
   "metadata": {},
   "source": [
    "## Plot the Longitudes"
   ]
  },
  {
   "cell_type": "markdown",
   "id": "1bb31b59",
   "metadata": {},
   "source": [
    "### Compare with Morton's Catalog "
   ]
  },
  {
   "cell_type": "code",
   "execution_count": null,
   "id": "1e3873dd",
   "metadata": {},
   "outputs": [],
   "source": [
    "# Plot the scatter plot\n",
    "plt.figure()\n",
    "lon_min = min(lon_mycatalog2morton)\n",
    "lon_max = max(lon_mycatalog2morton)\n",
    "\n",
    "# Make lists for plotting the 1:1 line\n",
    "x_lon = np.linspace(lon_min, lon_max, 10)\n",
    "y_lon = np.linspace(lon_min, lon_max, 10)\n",
    "plt.scatter(lon_mycatalog2morton,lon_morton2mycatalog)\n",
    "plt.plot(x_lon,y_lon, 'k--')\n",
    "plt.xlabel('Longitudes of Our Catalog ($^\\circ$)')\n",
    "plt.ylabel('Longitudes of Morton et al. (2023) ($^\\circ$)')\n",
    "plt.title('Longitudes of Our Catalog vs.Latitudes of Morton et al. (2023)')"
   ]
  },
  {
   "cell_type": "markdown",
   "id": "5cfd4045",
   "metadata": {},
   "source": [
    "### Compare with the ANSS Catalog "
   ]
  },
  {
   "cell_type": "code",
   "execution_count": null,
   "id": "a31380f4",
   "metadata": {},
   "outputs": [],
   "source": [
    "# Plot the scatter plot\n",
    "plt.figure()\n",
    "lon_min = min(lon_mycatalog2anss)\n",
    "lon_max = max(lon_mycatalog2anss)\n",
    "\n",
    "# Make lists for plotting the 1:1 line\n",
    "x_lon = np.linspace(lon_min, lon_max, 10)\n",
    "y_lon = np.linspace(lon_min, lon_max, 10)\n",
    "plt.scatter(lon_mycatalog2anss,lon_anss2mycatalog)\n",
    "plt.plot(x_lon,y_lon, 'k--')\n",
    "plt.xlabel('Longitudes of Our Catalog ($^\\circ$)')\n",
    "plt.ylabel('Longitudes of Morton et al. (2023) ($^\\circ$)')\n",
    "plt.title('Longitudes of Our Catalog vs.Latitudes of Morton et al. (2023)')"
   ]
  },
  {
   "cell_type": "markdown",
   "id": "bf7c25f0",
   "metadata": {},
   "source": [
    "## Histograms\n",
    "Make histograms of mycatalog vs. Morton's catalog"
   ]
  },
  {
   "cell_type": "markdown",
   "id": "f814dcb8",
   "metadata": {},
   "source": [
    "### Histogram: All of our catalog "
   ]
  },
  {
   "cell_type": "code",
   "execution_count": null,
   "id": "6a8dd51a",
   "metadata": {},
   "outputs": [],
   "source": [
    "events = pd.read_csv('../../data/datasets_all_years/events_pnsn_wa.csv')"
   ]
  },
  {
   "cell_type": "code",
   "execution_count": null,
   "id": "83f5cde8",
   "metadata": {},
   "outputs": [],
   "source": [
    "# Plot the same histogram but overlay the histograms\n",
    "bins = np.linspace(5,30,25)\n",
    "\n",
    "plt.hist(unmatched_events_mycatalog2morton_and_anss['picks'], bins=bins,  \n",
    "         alpha=0.5, # the transaparency parameter \n",
    "         label='Newly detected events') \n",
    "plt.hist(matched_events_mycatalog2anss['picks'], bins=bins,\n",
    "         alpha=0.5, \n",
    "         label='Events matching the ANSS Catalog')   \n",
    "plt.hist(matched_events_mycatalog2morton['picks'], bins=bins,\n",
    "         alpha=0.5, \n",
    "         label='Events matching Morton et al., 2023') \n",
    "\n",
    "plt.xlabel('Number of Picks')\n",
    "plt.ylabel('Number of Events')  \n",
    "plt.legend(loc='upper right') \n",
    "plt.title('Picks vs. Number of Events') \n",
    "plt.show()\n"
   ]
  },
  {
   "cell_type": "markdown",
   "id": "0039ec69",
   "metadata": {},
   "source": [
    "### Histogram: Matched events alone"
   ]
  },
  {
   "cell_type": "markdown",
   "id": "db128b09",
   "metadata": {},
   "source": [
    "### Compare with Morton et al. (2023)"
   ]
  },
  {
   "cell_type": "code",
   "execution_count": null,
   "id": "0e453e8b",
   "metadata": {},
   "outputs": [],
   "source": [
    "# Plot the histogram of the number of picks for the matched events\n",
    "plt.figure()\n",
    "bins = np.linspace(5,30,25)\n",
    "plt.hist(matched_events_mycatalog2morton['picks'],bins=bins)\n",
    "plt.xlabel('Number of Picks')\n",
    "plt.ylabel('Number of Events')\n",
    "plt.title('Histogram of Matched Events with Morton et al. (2023): Picks vs. the Number of Events')"
   ]
  },
  {
   "cell_type": "markdown",
   "id": "84052dd5",
   "metadata": {},
   "source": [
    "### Compare with ANSS "
   ]
  },
  {
   "cell_type": "code",
   "execution_count": null,
   "id": "c0ed5380",
   "metadata": {},
   "outputs": [],
   "source": [
    "# Plot the histogram of the number of picks for the matched events\n",
    "plt.figure()\n",
    "bins = np.linspace(5,30,25)\n",
    "plt.hist(matched_events_mycatalog2anss['picks'],bins=bins)\n",
    "plt.xlabel('Number of Picks')\n",
    "plt.ylabel('Number of Events')\n",
    "plt.title('Histogram of Matched Events with ANSS: Picks vs. the Number of Events')"
   ]
  },
  {
   "cell_type": "markdown",
   "id": "376b3b7f",
   "metadata": {},
   "source": [
    "## 2. Filter events \n",
    "Filter Events based on the following criteria\n",
    "1. For an event, at least two stations have to be less than 50 km from the event and no station can be 100 km apart from each other.\n",
    "2. An event has to have more than or equal to 6 picks\n"
   ]
  },
  {
   "cell_type": "code",
   "execution_count": 9,
   "id": "fcc97847",
   "metadata": {},
   "outputs": [
    {
     "data": {
      "text/html": [
       "<div>\n",
       "<style scoped>\n",
       "    .dataframe tbody tr th:only-of-type {\n",
       "        vertical-align: middle;\n",
       "    }\n",
       "\n",
       "    .dataframe tbody tr th {\n",
       "        vertical-align: top;\n",
       "    }\n",
       "\n",
       "    .dataframe thead th {\n",
       "        text-align: right;\n",
       "    }\n",
       "</style>\n",
       "<table border=\"1\" class=\"dataframe\">\n",
       "  <thead>\n",
       "    <tr style=\"text-align: right;\">\n",
       "      <th></th>\n",
       "      <th>Unnamed: 0.1</th>\n",
       "      <th>Unnamed: 0</th>\n",
       "      <th>idx</th>\n",
       "      <th>time</th>\n",
       "      <th>x</th>\n",
       "      <th>y</th>\n",
       "      <th>z</th>\n",
       "      <th>picks</th>\n",
       "      <th>latitude</th>\n",
       "      <th>longitude</th>\n",
       "      <th>depth</th>\n",
       "      <th>event_idx</th>\n",
       "      <th>pick_idx</th>\n",
       "      <th>residual</th>\n",
       "      <th>station</th>\n",
       "      <th>phase</th>\n",
       "      <th>time_pick</th>\n",
       "      <th>datetime</th>\n",
       "    </tr>\n",
       "  </thead>\n",
       "  <tbody>\n",
       "    <tr>\n",
       "      <th>0</th>\n",
       "      <td>0</td>\n",
       "      <td>0</td>\n",
       "      <td>6</td>\n",
       "      <td>2014-01-01 05:17:39.077630+00:00</td>\n",
       "      <td>142.244353</td>\n",
       "      <td>337.329738</td>\n",
       "      <td>49.609375</td>\n",
       "      <td>6</td>\n",
       "      <td>47.519306</td>\n",
       "      <td>-123.611335</td>\n",
       "      <td>49.609375</td>\n",
       "      <td>6</td>\n",
       "      <td>1169808</td>\n",
       "      <td>-0.115299</td>\n",
       "      <td>FN03C</td>\n",
       "      <td>S</td>\n",
       "      <td>1.388553e+09</td>\n",
       "      <td>2014-01-01 05:17:39.077630+00:00</td>\n",
       "    </tr>\n",
       "    <tr>\n",
       "      <th>1</th>\n",
       "      <td>1</td>\n",
       "      <td>6</td>\n",
       "      <td>8</td>\n",
       "      <td>2014-01-01 05:54:38.249747+00:00</td>\n",
       "      <td>64.149414</td>\n",
       "      <td>251.505620</td>\n",
       "      <td>23.828125</td>\n",
       "      <td>6</td>\n",
       "      <td>46.759798</td>\n",
       "      <td>-124.660304</td>\n",
       "      <td>23.828125</td>\n",
       "      <td>8</td>\n",
       "      <td>439121</td>\n",
       "      <td>-0.860182</td>\n",
       "      <td>FN02C</td>\n",
       "      <td>P</td>\n",
       "      <td>1.388556e+09</td>\n",
       "      <td>2014-01-01 05:54:38.249747+00:00</td>\n",
       "    </tr>\n",
       "    <tr>\n",
       "      <th>2</th>\n",
       "      <td>2</td>\n",
       "      <td>12</td>\n",
       "      <td>33</td>\n",
       "      <td>2014-01-01 19:35:45.733263+00:00</td>\n",
       "      <td>-143.359995</td>\n",
       "      <td>536.155610</td>\n",
       "      <td>1.953125</td>\n",
       "      <td>6</td>\n",
       "      <td>49.306068</td>\n",
       "      <td>-127.471390</td>\n",
       "      <td>1.953125</td>\n",
       "      <td>33</td>\n",
       "      <td>1626720</td>\n",
       "      <td>1.188078</td>\n",
       "      <td>FN01C</td>\n",
       "      <td>S</td>\n",
       "      <td>1.388605e+09</td>\n",
       "      <td>2014-01-01 19:35:45.733263+00:00</td>\n",
       "    </tr>\n",
       "    <tr>\n",
       "      <th>3</th>\n",
       "      <td>3</td>\n",
       "      <td>18</td>\n",
       "      <td>35</td>\n",
       "      <td>2014-01-01 20:47:42.700244+00:00</td>\n",
       "      <td>79.768402</td>\n",
       "      <td>262.948836</td>\n",
       "      <td>0.390625</td>\n",
       "      <td>6</td>\n",
       "      <td>46.861035</td>\n",
       "      <td>-124.453894</td>\n",
       "      <td>0.390625</td>\n",
       "      <td>35</td>\n",
       "      <td>725690</td>\n",
       "      <td>-0.830630</td>\n",
       "      <td>FN01C</td>\n",
       "      <td>P</td>\n",
       "      <td>1.388609e+09</td>\n",
       "      <td>2014-01-01 20:47:42.700244+00:00</td>\n",
       "    </tr>\n",
       "    <tr>\n",
       "      <th>4</th>\n",
       "      <td>4</td>\n",
       "      <td>24</td>\n",
       "      <td>53</td>\n",
       "      <td>2014-01-02 01:36:17.640762+00:00</td>\n",
       "      <td>427.848701</td>\n",
       "      <td>377.380993</td>\n",
       "      <td>49.609375</td>\n",
       "      <td>6</td>\n",
       "      <td>47.752994</td>\n",
       "      <td>-119.792989</td>\n",
       "      <td>49.609375</td>\n",
       "      <td>53</td>\n",
       "      <td>562265</td>\n",
       "      <td>1.025347</td>\n",
       "      <td>FN04C</td>\n",
       "      <td>P</td>\n",
       "      <td>1.388627e+09</td>\n",
       "      <td>2014-01-02 01:36:17.640762+00:00</td>\n",
       "    </tr>\n",
       "    <tr>\n",
       "      <th>...</th>\n",
       "      <td>...</td>\n",
       "      <td>...</td>\n",
       "      <td>...</td>\n",
       "      <td>...</td>\n",
       "      <td>...</td>\n",
       "      <td>...</td>\n",
       "      <td>...</td>\n",
       "      <td>...</td>\n",
       "      <td>...</td>\n",
       "      <td>...</td>\n",
       "      <td>...</td>\n",
       "      <td>...</td>\n",
       "      <td>...</td>\n",
       "      <td>...</td>\n",
       "      <td>...</td>\n",
       "      <td>...</td>\n",
       "      <td>...</td>\n",
       "      <td>...</td>\n",
       "    </tr>\n",
       "    <tr>\n",
       "      <th>741</th>\n",
       "      <td>741</td>\n",
       "      <td>4533</td>\n",
       "      <td>6575</td>\n",
       "      <td>2014-06-24 19:45:52.044683+00:00</td>\n",
       "      <td>65.265056</td>\n",
       "      <td>267.240042</td>\n",
       "      <td>3.515625</td>\n",
       "      <td>6</td>\n",
       "      <td>46.901212</td>\n",
       "      <td>-124.643457</td>\n",
       "      <td>3.515625</td>\n",
       "      <td>6575</td>\n",
       "      <td>227250</td>\n",
       "      <td>1.386195</td>\n",
       "      <td>FN03C</td>\n",
       "      <td>P</td>\n",
       "      <td>1.403639e+09</td>\n",
       "      <td>2014-06-24 19:45:52.044683+00:00</td>\n",
       "    </tr>\n",
       "    <tr>\n",
       "      <th>742</th>\n",
       "      <td>742</td>\n",
       "      <td>4539</td>\n",
       "      <td>6589</td>\n",
       "      <td>2014-06-25 09:27:07.639354+00:00</td>\n",
       "      <td>83.115328</td>\n",
       "      <td>241.492807</td>\n",
       "      <td>17.578125</td>\n",
       "      <td>6</td>\n",
       "      <td>46.667652</td>\n",
       "      <td>-124.413895</td>\n",
       "      <td>17.578125</td>\n",
       "      <td>6589</td>\n",
       "      <td>350248</td>\n",
       "      <td>-0.313404</td>\n",
       "      <td>FN02C</td>\n",
       "      <td>P</td>\n",
       "      <td>1.403688e+09</td>\n",
       "      <td>2014-06-25 09:27:07.639354+00:00</td>\n",
       "    </tr>\n",
       "    <tr>\n",
       "      <th>743</th>\n",
       "      <td>743</td>\n",
       "      <td>4545</td>\n",
       "      <td>6591</td>\n",
       "      <td>2014-06-25 15:05:09.420748+00:00</td>\n",
       "      <td>-228.148786</td>\n",
       "      <td>148.516679</td>\n",
       "      <td>49.609375</td>\n",
       "      <td>6</td>\n",
       "      <td>45.798660</td>\n",
       "      <td>-128.434658</td>\n",
       "      <td>49.609375</td>\n",
       "      <td>6591</td>\n",
       "      <td>512951</td>\n",
       "      <td>0.540974</td>\n",
       "      <td>FN01C</td>\n",
       "      <td>P</td>\n",
       "      <td>1.403709e+09</td>\n",
       "      <td>2014-06-25 15:05:09.420748+00:00</td>\n",
       "    </tr>\n",
       "    <tr>\n",
       "      <th>744</th>\n",
       "      <td>744</td>\n",
       "      <td>4551</td>\n",
       "      <td>6601</td>\n",
       "      <td>2014-06-25 20:47:18.763527+00:00</td>\n",
       "      <td>51.877352</td>\n",
       "      <td>268.670444</td>\n",
       "      <td>1.171875</td>\n",
       "      <td>6</td>\n",
       "      <td>46.915258</td>\n",
       "      <td>-124.818981</td>\n",
       "      <td>1.171875</td>\n",
       "      <td>6601</td>\n",
       "      <td>1266061</td>\n",
       "      <td>-0.300317</td>\n",
       "      <td>FN02C</td>\n",
       "      <td>S</td>\n",
       "      <td>1.403729e+09</td>\n",
       "      <td>2014-06-25 20:47:18.763527+00:00</td>\n",
       "    </tr>\n",
       "    <tr>\n",
       "      <th>745</th>\n",
       "      <td>745</td>\n",
       "      <td>4557</td>\n",
       "      <td>6609</td>\n",
       "      <td>2014-06-26 01:08:02.810201+00:00</td>\n",
       "      <td>66.380698</td>\n",
       "      <td>267.240042</td>\n",
       "      <td>10.546875</td>\n",
       "      <td>7</td>\n",
       "      <td>46.901101</td>\n",
       "      <td>-124.628817</td>\n",
       "      <td>10.546875</td>\n",
       "      <td>6609</td>\n",
       "      <td>655805</td>\n",
       "      <td>1.468220</td>\n",
       "      <td>FN01C</td>\n",
       "      <td>P</td>\n",
       "      <td>1.403745e+09</td>\n",
       "      <td>2014-06-26 01:08:02.810201+00:00</td>\n",
       "    </tr>\n",
       "  </tbody>\n",
       "</table>\n",
       "<p>746 rows × 18 columns</p>\n",
       "</div>"
      ],
      "text/plain": [
       "     Unnamed: 0.1  Unnamed: 0   idx                              time  \\\n",
       "0               0           0     6  2014-01-01 05:17:39.077630+00:00   \n",
       "1               1           6     8  2014-01-01 05:54:38.249747+00:00   \n",
       "2               2          12    33  2014-01-01 19:35:45.733263+00:00   \n",
       "3               3          18    35  2014-01-01 20:47:42.700244+00:00   \n",
       "4               4          24    53  2014-01-02 01:36:17.640762+00:00   \n",
       "..            ...         ...   ...                               ...   \n",
       "741           741        4533  6575  2014-06-24 19:45:52.044683+00:00   \n",
       "742           742        4539  6589  2014-06-25 09:27:07.639354+00:00   \n",
       "743           743        4545  6591  2014-06-25 15:05:09.420748+00:00   \n",
       "744           744        4551  6601  2014-06-25 20:47:18.763527+00:00   \n",
       "745           745        4557  6609  2014-06-26 01:08:02.810201+00:00   \n",
       "\n",
       "              x           y          z  picks   latitude   longitude  \\\n",
       "0    142.244353  337.329738  49.609375      6  47.519306 -123.611335   \n",
       "1     64.149414  251.505620  23.828125      6  46.759798 -124.660304   \n",
       "2   -143.359995  536.155610   1.953125      6  49.306068 -127.471390   \n",
       "3     79.768402  262.948836   0.390625      6  46.861035 -124.453894   \n",
       "4    427.848701  377.380993  49.609375      6  47.752994 -119.792989   \n",
       "..          ...         ...        ...    ...        ...         ...   \n",
       "741   65.265056  267.240042   3.515625      6  46.901212 -124.643457   \n",
       "742   83.115328  241.492807  17.578125      6  46.667652 -124.413895   \n",
       "743 -228.148786  148.516679  49.609375      6  45.798660 -128.434658   \n",
       "744   51.877352  268.670444   1.171875      6  46.915258 -124.818981   \n",
       "745   66.380698  267.240042  10.546875      7  46.901101 -124.628817   \n",
       "\n",
       "         depth  event_idx  pick_idx  residual station phase     time_pick  \\\n",
       "0    49.609375          6   1169808 -0.115299   FN03C     S  1.388553e+09   \n",
       "1    23.828125          8    439121 -0.860182   FN02C     P  1.388556e+09   \n",
       "2     1.953125         33   1626720  1.188078   FN01C     S  1.388605e+09   \n",
       "3     0.390625         35    725690 -0.830630   FN01C     P  1.388609e+09   \n",
       "4    49.609375         53    562265  1.025347   FN04C     P  1.388627e+09   \n",
       "..         ...        ...       ...       ...     ...   ...           ...   \n",
       "741   3.515625       6575    227250  1.386195   FN03C     P  1.403639e+09   \n",
       "742  17.578125       6589    350248 -0.313404   FN02C     P  1.403688e+09   \n",
       "743  49.609375       6591    512951  0.540974   FN01C     P  1.403709e+09   \n",
       "744   1.171875       6601   1266061 -0.300317   FN02C     S  1.403729e+09   \n",
       "745  10.546875       6609    655805  1.468220   FN01C     P  1.403745e+09   \n",
       "\n",
       "                             datetime  \n",
       "0    2014-01-01 05:17:39.077630+00:00  \n",
       "1    2014-01-01 05:54:38.249747+00:00  \n",
       "2    2014-01-01 19:35:45.733263+00:00  \n",
       "3    2014-01-01 20:47:42.700244+00:00  \n",
       "4    2014-01-02 01:36:17.640762+00:00  \n",
       "..                                ...  \n",
       "741  2014-06-24 19:45:52.044683+00:00  \n",
       "742  2014-06-25 09:27:07.639354+00:00  \n",
       "743  2014-06-25 15:05:09.420748+00:00  \n",
       "744  2014-06-25 20:47:18.763527+00:00  \n",
       "745  2014-06-26 01:08:02.810201+00:00  \n",
       "\n",
       "[746 rows x 18 columns]"
      ]
     },
     "execution_count": 9,
     "metadata": {},
     "output_type": "execute_result"
    }
   ],
   "source": [
    "# Read the new events file\n",
    "events = pd.read_csv(f'../data/datasets_{year}/new_events.csv')\n",
    "events"
   ]
  },
  {
   "cell_type": "code",
   "execution_count": 10,
   "id": "2b49b018",
   "metadata": {},
   "outputs": [
    {
     "data": {
      "text/html": [
       "<div>\n",
       "<style scoped>\n",
       "    .dataframe tbody tr th:only-of-type {\n",
       "        vertical-align: middle;\n",
       "    }\n",
       "\n",
       "    .dataframe tbody tr th {\n",
       "        vertical-align: top;\n",
       "    }\n",
       "\n",
       "    .dataframe thead th {\n",
       "        text-align: right;\n",
       "    }\n",
       "</style>\n",
       "<table border=\"1\" class=\"dataframe\">\n",
       "  <thead>\n",
       "    <tr style=\"text-align: right;\">\n",
       "      <th></th>\n",
       "      <th>Unnamed: 0</th>\n",
       "      <th>idx</th>\n",
       "      <th>time</th>\n",
       "      <th>x</th>\n",
       "      <th>y</th>\n",
       "      <th>z</th>\n",
       "      <th>picks</th>\n",
       "      <th>latitude</th>\n",
       "      <th>longitude</th>\n",
       "      <th>depth</th>\n",
       "      <th>event_idx</th>\n",
       "      <th>pick_idx</th>\n",
       "      <th>residual</th>\n",
       "      <th>station</th>\n",
       "      <th>phase</th>\n",
       "      <th>time_pick</th>\n",
       "    </tr>\n",
       "  </thead>\n",
       "  <tbody>\n",
       "    <tr>\n",
       "      <th>0</th>\n",
       "      <td>0</td>\n",
       "      <td>6</td>\n",
       "      <td>2014-01-01 05:17:39.077630+00:00</td>\n",
       "      <td>142.244353</td>\n",
       "      <td>337.329738</td>\n",
       "      <td>49.609375</td>\n",
       "      <td>6</td>\n",
       "      <td>47.519306</td>\n",
       "      <td>-123.611335</td>\n",
       "      <td>49.609375</td>\n",
       "      <td>6</td>\n",
       "      <td>1169808</td>\n",
       "      <td>-0.115299</td>\n",
       "      <td>FN03C</td>\n",
       "      <td>S</td>\n",
       "      <td>1.388553e+09</td>\n",
       "    </tr>\n",
       "    <tr>\n",
       "      <th>6</th>\n",
       "      <td>6</td>\n",
       "      <td>8</td>\n",
       "      <td>2014-01-01 05:54:38.249747+00:00</td>\n",
       "      <td>64.149414</td>\n",
       "      <td>251.505620</td>\n",
       "      <td>23.828125</td>\n",
       "      <td>6</td>\n",
       "      <td>46.759798</td>\n",
       "      <td>-124.660304</td>\n",
       "      <td>23.828125</td>\n",
       "      <td>8</td>\n",
       "      <td>439121</td>\n",
       "      <td>-0.860182</td>\n",
       "      <td>FN02C</td>\n",
       "      <td>P</td>\n",
       "      <td>1.388556e+09</td>\n",
       "    </tr>\n",
       "    <tr>\n",
       "      <th>12</th>\n",
       "      <td>12</td>\n",
       "      <td>33</td>\n",
       "      <td>2014-01-01 19:35:45.733263+00:00</td>\n",
       "      <td>-143.359995</td>\n",
       "      <td>536.155610</td>\n",
       "      <td>1.953125</td>\n",
       "      <td>6</td>\n",
       "      <td>49.306068</td>\n",
       "      <td>-127.471390</td>\n",
       "      <td>1.953125</td>\n",
       "      <td>33</td>\n",
       "      <td>1626720</td>\n",
       "      <td>1.188078</td>\n",
       "      <td>FN01C</td>\n",
       "      <td>S</td>\n",
       "      <td>1.388605e+09</td>\n",
       "    </tr>\n",
       "    <tr>\n",
       "      <th>18</th>\n",
       "      <td>18</td>\n",
       "      <td>35</td>\n",
       "      <td>2014-01-01 20:47:42.700244+00:00</td>\n",
       "      <td>79.768402</td>\n",
       "      <td>262.948836</td>\n",
       "      <td>0.390625</td>\n",
       "      <td>6</td>\n",
       "      <td>46.861035</td>\n",
       "      <td>-124.453894</td>\n",
       "      <td>0.390625</td>\n",
       "      <td>35</td>\n",
       "      <td>725690</td>\n",
       "      <td>-0.830630</td>\n",
       "      <td>FN01C</td>\n",
       "      <td>P</td>\n",
       "      <td>1.388609e+09</td>\n",
       "    </tr>\n",
       "    <tr>\n",
       "      <th>24</th>\n",
       "      <td>24</td>\n",
       "      <td>53</td>\n",
       "      <td>2014-01-02 01:36:17.640762+00:00</td>\n",
       "      <td>427.848701</td>\n",
       "      <td>377.380993</td>\n",
       "      <td>49.609375</td>\n",
       "      <td>6</td>\n",
       "      <td>47.752994</td>\n",
       "      <td>-119.792989</td>\n",
       "      <td>49.609375</td>\n",
       "      <td>53</td>\n",
       "      <td>562265</td>\n",
       "      <td>1.025347</td>\n",
       "      <td>FN04C</td>\n",
       "      <td>P</td>\n",
       "      <td>1.388627e+09</td>\n",
       "    </tr>\n",
       "    <tr>\n",
       "      <th>...</th>\n",
       "      <td>...</td>\n",
       "      <td>...</td>\n",
       "      <td>...</td>\n",
       "      <td>...</td>\n",
       "      <td>...</td>\n",
       "      <td>...</td>\n",
       "      <td>...</td>\n",
       "      <td>...</td>\n",
       "      <td>...</td>\n",
       "      <td>...</td>\n",
       "      <td>...</td>\n",
       "      <td>...</td>\n",
       "      <td>...</td>\n",
       "      <td>...</td>\n",
       "      <td>...</td>\n",
       "      <td>...</td>\n",
       "    </tr>\n",
       "    <tr>\n",
       "      <th>4533</th>\n",
       "      <td>4533</td>\n",
       "      <td>6575</td>\n",
       "      <td>2014-06-24 19:45:52.044683+00:00</td>\n",
       "      <td>65.265056</td>\n",
       "      <td>267.240042</td>\n",
       "      <td>3.515625</td>\n",
       "      <td>6</td>\n",
       "      <td>46.901212</td>\n",
       "      <td>-124.643457</td>\n",
       "      <td>3.515625</td>\n",
       "      <td>6575</td>\n",
       "      <td>227250</td>\n",
       "      <td>1.386195</td>\n",
       "      <td>FN03C</td>\n",
       "      <td>P</td>\n",
       "      <td>1.403639e+09</td>\n",
       "    </tr>\n",
       "    <tr>\n",
       "      <th>4539</th>\n",
       "      <td>4539</td>\n",
       "      <td>6589</td>\n",
       "      <td>2014-06-25 09:27:07.639354+00:00</td>\n",
       "      <td>83.115328</td>\n",
       "      <td>241.492807</td>\n",
       "      <td>17.578125</td>\n",
       "      <td>6</td>\n",
       "      <td>46.667652</td>\n",
       "      <td>-124.413895</td>\n",
       "      <td>17.578125</td>\n",
       "      <td>6589</td>\n",
       "      <td>350248</td>\n",
       "      <td>-0.313404</td>\n",
       "      <td>FN02C</td>\n",
       "      <td>P</td>\n",
       "      <td>1.403688e+09</td>\n",
       "    </tr>\n",
       "    <tr>\n",
       "      <th>4545</th>\n",
       "      <td>4545</td>\n",
       "      <td>6591</td>\n",
       "      <td>2014-06-25 15:05:09.420748+00:00</td>\n",
       "      <td>-228.148786</td>\n",
       "      <td>148.516679</td>\n",
       "      <td>49.609375</td>\n",
       "      <td>6</td>\n",
       "      <td>45.798660</td>\n",
       "      <td>-128.434658</td>\n",
       "      <td>49.609375</td>\n",
       "      <td>6591</td>\n",
       "      <td>512951</td>\n",
       "      <td>0.540974</td>\n",
       "      <td>FN01C</td>\n",
       "      <td>P</td>\n",
       "      <td>1.403709e+09</td>\n",
       "    </tr>\n",
       "    <tr>\n",
       "      <th>4551</th>\n",
       "      <td>4551</td>\n",
       "      <td>6601</td>\n",
       "      <td>2014-06-25 20:47:18.763527+00:00</td>\n",
       "      <td>51.877352</td>\n",
       "      <td>268.670444</td>\n",
       "      <td>1.171875</td>\n",
       "      <td>6</td>\n",
       "      <td>46.915258</td>\n",
       "      <td>-124.818981</td>\n",
       "      <td>1.171875</td>\n",
       "      <td>6601</td>\n",
       "      <td>1266061</td>\n",
       "      <td>-0.300317</td>\n",
       "      <td>FN02C</td>\n",
       "      <td>S</td>\n",
       "      <td>1.403729e+09</td>\n",
       "    </tr>\n",
       "    <tr>\n",
       "      <th>4557</th>\n",
       "      <td>4557</td>\n",
       "      <td>6609</td>\n",
       "      <td>2014-06-26 01:08:02.810201+00:00</td>\n",
       "      <td>66.380698</td>\n",
       "      <td>267.240042</td>\n",
       "      <td>10.546875</td>\n",
       "      <td>7</td>\n",
       "      <td>46.901101</td>\n",
       "      <td>-124.628817</td>\n",
       "      <td>10.546875</td>\n",
       "      <td>6609</td>\n",
       "      <td>655805</td>\n",
       "      <td>1.468220</td>\n",
       "      <td>FN01C</td>\n",
       "      <td>P</td>\n",
       "      <td>1.403745e+09</td>\n",
       "    </tr>\n",
       "  </tbody>\n",
       "</table>\n",
       "<p>749 rows × 16 columns</p>\n",
       "</div>"
      ],
      "text/plain": [
       "      Unnamed: 0   idx                              time           x  \\\n",
       "0              0     6  2014-01-01 05:17:39.077630+00:00  142.244353   \n",
       "6              6     8  2014-01-01 05:54:38.249747+00:00   64.149414   \n",
       "12            12    33  2014-01-01 19:35:45.733263+00:00 -143.359995   \n",
       "18            18    35  2014-01-01 20:47:42.700244+00:00   79.768402   \n",
       "24            24    53  2014-01-02 01:36:17.640762+00:00  427.848701   \n",
       "...          ...   ...                               ...         ...   \n",
       "4533        4533  6575  2014-06-24 19:45:52.044683+00:00   65.265056   \n",
       "4539        4539  6589  2014-06-25 09:27:07.639354+00:00   83.115328   \n",
       "4545        4545  6591  2014-06-25 15:05:09.420748+00:00 -228.148786   \n",
       "4551        4551  6601  2014-06-25 20:47:18.763527+00:00   51.877352   \n",
       "4557        4557  6609  2014-06-26 01:08:02.810201+00:00   66.380698   \n",
       "\n",
       "               y          z  picks   latitude   longitude      depth  \\\n",
       "0     337.329738  49.609375      6  47.519306 -123.611335  49.609375   \n",
       "6     251.505620  23.828125      6  46.759798 -124.660304  23.828125   \n",
       "12    536.155610   1.953125      6  49.306068 -127.471390   1.953125   \n",
       "18    262.948836   0.390625      6  46.861035 -124.453894   0.390625   \n",
       "24    377.380993  49.609375      6  47.752994 -119.792989  49.609375   \n",
       "...          ...        ...    ...        ...         ...        ...   \n",
       "4533  267.240042   3.515625      6  46.901212 -124.643457   3.515625   \n",
       "4539  241.492807  17.578125      6  46.667652 -124.413895  17.578125   \n",
       "4545  148.516679  49.609375      6  45.798660 -128.434658  49.609375   \n",
       "4551  268.670444   1.171875      6  46.915258 -124.818981   1.171875   \n",
       "4557  267.240042  10.546875      7  46.901101 -124.628817  10.546875   \n",
       "\n",
       "      event_idx  pick_idx  residual station phase     time_pick  \n",
       "0             6   1169808 -0.115299   FN03C     S  1.388553e+09  \n",
       "6             8    439121 -0.860182   FN02C     P  1.388556e+09  \n",
       "12           33   1626720  1.188078   FN01C     S  1.388605e+09  \n",
       "18           35    725690 -0.830630   FN01C     P  1.388609e+09  \n",
       "24           53    562265  1.025347   FN04C     P  1.388627e+09  \n",
       "...         ...       ...       ...     ...   ...           ...  \n",
       "4533       6575    227250  1.386195   FN03C     P  1.403639e+09  \n",
       "4539       6589    350248 -0.313404   FN02C     P  1.403688e+09  \n",
       "4545       6591    512951  0.540974   FN01C     P  1.403709e+09  \n",
       "4551       6601   1266061 -0.300317   FN02C     S  1.403729e+09  \n",
       "4557       6609    655805  1.468220   FN01C     P  1.403745e+09  \n",
       "\n",
       "[749 rows x 16 columns]"
      ]
     },
     "execution_count": 10,
     "metadata": {},
     "output_type": "execute_result"
    }
   ],
   "source": [
    "all_pick_assignments = pd.read_csv(f'../data/datasets_{year}/all_pick_assignments_{year}.csv')\n",
    "mycatalog = all_pick_assignments.drop_duplicates(subset=['idx'])\n",
    "mycatalog"
   ]
  },
  {
   "cell_type": "code",
   "execution_count": 11,
   "id": "c0c23e8c",
   "metadata": {},
   "outputs": [],
   "source": [
    "count = 0"
   ]
  },
  {
   "cell_type": "code",
   "execution_count": 17,
   "id": "650f1d56",
   "metadata": {
    "scrolled": true
   },
   "outputs": [
    {
     "name": "stderr",
     "output_type": "stream",
     "text": [
      "/tmp/ipykernel_2256828/2718798803.py:20: SettingWithCopyWarning: \n",
      "A value is trying to be set on a copy of a slice from a DataFrame.\n",
      "Try using .loc[row_indexer,col_indexer] = value instead\n",
      "\n",
      "See the caveats in the documentation: https://pandas.pydata.org/pandas-docs/stable/user_guide/indexing.html#returning-a-view-versus-a-copy\n",
      "  mycatalog['datetime'] = pd.to_datetime(mycatalog['time'], utc = True)\n",
      "  9%|▊         | 63/733 [00:33<05:46,  1.94it/s]"
     ]
    },
    {
     "name": "stdout",
     "output_type": "stream",
     "text": [
      "[[None, '7D', 'FN01C', 289.53382727368415], [None, '7D', 'FN02C', 293.6224393012157], [None, '7D', 'FN19C', 298.49253105468205], [None, '7D', 'FN03C', 302.94105184684366], [None, '7D', 'FN05C', 313.3889315514707]]\n"
     ]
    },
    {
     "name": "stderr",
     "output_type": "stream",
     "text": [
      "  9%|▉         | 65/733 [00:34<06:47,  1.64it/s]"
     ]
    },
    {
     "name": "stdout",
     "output_type": "stream",
     "text": [
      "[[None, '7D', 'FN02C', 269.2982157654594], [None, '7D', 'FN03C', 279.4157867156042], [None, '7D', 'FN04C', 281.7313032055138], [None, '7D', 'FN19C', 282.2558479945437], [None, '7D', 'J49C', 308.95200352665057]]\n"
     ]
    },
    {
     "name": "stderr",
     "output_type": "stream",
     "text": [
      "  9%|▉         | 69/733 [00:36<06:20,  1.74it/s]"
     ]
    },
    {
     "name": "stdout",
     "output_type": "stream",
     "text": [
      "[[None, '7D', 'FN19C', 139.2062077864971], [None, '7D', 'FN02C', 142.79536675603674], [None, '7D', 'FN03C', 150.04534110789942], [None, '7D', 'J49C', 151.41430848595525], [None, '7D', 'FN04C', 155.8475874805208]]\n"
     ]
    },
    {
     "name": "stderr",
     "output_type": "stream",
     "text": [
      " 10%|█         | 74/733 [00:39<06:17,  1.75it/s]"
     ]
    },
    {
     "name": "stdout",
     "output_type": "stream",
     "text": [
      "[[None, '7D', 'FN04C', 338.2106265133534], [None, '7D', 'FN05C', 339.67175359517904], [None, '7D', 'FN01C', 356.1340471074528], [None, '7D', 'FN19C', 365.42611058002205], [None, '7D', 'J49C', 384.90753349022066]]\n"
     ]
    },
    {
     "name": "stderr",
     "output_type": "stream",
     "text": [
      " 11%|█▏        | 83/733 [00:44<05:34,  1.94it/s]"
     ]
    },
    {
     "name": "stdout",
     "output_type": "stream",
     "text": [
      "[[None, '7D', 'FN01C', 364.4102550140024], [None, '7D', 'FN19C', 369.39760099848], [None, '7D', 'FN03C', 378.8130659496362], [None, '7D', 'J49C', 380.73744042808727], [None, '7D', 'FN04C', 384.17738606782314]]\n"
     ]
    },
    {
     "name": "stderr",
     "output_type": "stream",
     "text": [
      " 12%|█▏        | 87/733 [00:45<05:11,  2.07it/s]"
     ]
    },
    {
     "name": "stdout",
     "output_type": "stream",
     "text": [
      "[[None, '7D', 'FN01C', 327.3038562683043], [None, '7D', 'FN19C', 332.6607549729578], [None, '7D', 'FN02C', 333.4498852942451], [None, '7D', 'J49C', 344.88714600815445], [None, '7D', 'FN04C', 346.9498063070093]]\n"
     ]
    },
    {
     "name": "stderr",
     "output_type": "stream",
     "text": [
      " 14%|█▎        | 100/733 [00:52<05:17,  1.99it/s]"
     ]
    },
    {
     "name": "stdout",
     "output_type": "stream",
     "text": [
      "[[None, '7D', 'FN02C', 275.7726795175396], [None, '7D', 'FN03C', 280.48368440982676], [None, '7D', 'FN05C', 281.3434021047844], [None, '7D', 'FN19C', 300.51917055641337], [None, '7D', 'J49C', 330.72902320014174]]\n"
     ]
    },
    {
     "name": "stderr",
     "output_type": "stream",
     "text": [
      " 15%|█▍        | 107/733 [00:55<05:22,  1.94it/s]"
     ]
    },
    {
     "name": "stdout",
     "output_type": "stream",
     "text": [
      "[[None, '7D', 'FN02C', 200.2931462235636], [None, '7D', 'FN01C', 201.85113356320798], [None, '7D', 'FN03C', 210.3382964318966], [None, '7D', 'FN05C', 219.24214363955474]]\n"
     ]
    },
    {
     "name": "stderr",
     "output_type": "stream",
     "text": [
      "\r",
      " 15%|█▍        | 108/733 [00:56<05:45,  1.81it/s]"
     ]
    },
    {
     "name": "stdout",
     "output_type": "stream",
     "text": [
      "[[None, '7D', 'J49C', 292.32455009748645], [None, '7D', 'FN19C', 324.7875748542006], [None, '7D', 'FN05C', 333.2744505348634], [None, '7D', 'FN03C', 338.63514494168555], [None, '7D', 'FN04C', 340.6521727098364]]\n"
     ]
    },
    {
     "name": "stderr",
     "output_type": "stream",
     "text": [
      " 15%|█▌        | 113/733 [00:59<05:32,  1.87it/s]"
     ]
    },
    {
     "name": "stdout",
     "output_type": "stream",
     "text": [
      "[[None, '7D', 'FN19C', 225.8538035046564], [None, '7D', 'FN03C', 246.96043139968594], [None, '7D', 'FN05C', 249.097388907892], [None, '7D', 'FN04C', 252.73746969787183]]\n"
     ]
    },
    {
     "name": "stderr",
     "output_type": "stream",
     "text": [
      " 16%|█▌        | 115/733 [01:00<05:23,  1.91it/s]"
     ]
    },
    {
     "name": "stdout",
     "output_type": "stream",
     "text": [
      "[[None, '7D', 'FN05C', 50.04113634116305], [None, '7D', 'FN03C', 59.29382786119613], [None, '7D', 'FN19C', 59.763960817552054], [None, '7D', 'FN01C', 70.25589086801493]]\n"
     ]
    },
    {
     "name": "stderr",
     "output_type": "stream",
     "text": [
      " 17%|█▋        | 124/733 [01:04<04:44,  2.14it/s]"
     ]
    },
    {
     "name": "stdout",
     "output_type": "stream",
     "text": [
      "[[None, '7D', 'J49C', 23.449531274716243], [None, '7D', 'FN19C', 55.638456115263715], [None, '7D', 'FN03C', 73.94562933297756], [None, '7D', 'FN04C', 78.33060500562547]]\n"
     ]
    },
    {
     "name": "stderr",
     "output_type": "stream",
     "text": [
      "\r",
      " 17%|█▋        | 125/733 [01:05<05:06,  1.98it/s]"
     ]
    },
    {
     "name": "stdout",
     "output_type": "stream",
     "text": [
      "[[None, '7D', 'J49C', 150.18752008727998], [None, '7D', 'FN19C', 152.08901801003933], [None, '7D', 'FN03C', 169.36647120565794], [None, '7D', 'FN04C', 175.9984872549741], [None, '7D', 'FN05C', 177.46230917212614]]\n"
     ]
    },
    {
     "name": "stderr",
     "output_type": "stream",
     "text": [
      " 17%|█▋        | 128/733 [01:06<05:18,  1.90it/s]"
     ]
    },
    {
     "name": "stdout",
     "output_type": "stream",
     "text": [
      "[[None, '7D', 'FN05C', 84.64405234776048], [None, '7D', 'FN19C', 85.48028541652164], [None, '7D', 'FN03C', 92.22898114854424], [None, '7D', 'FN04C', 92.44885436561819], [None, '7D', 'FN02C', 101.99740167839576]]\n"
     ]
    },
    {
     "name": "stderr",
     "output_type": "stream",
     "text": [
      "\r",
      " 18%|█▊        | 129/733 [01:07<05:08,  1.96it/s]"
     ]
    },
    {
     "name": "stdout",
     "output_type": "stream",
     "text": [
      "[[None, '7D', 'J49C', 23.10758808500125], [None, '7D', 'FN19C', 55.74772151189239], [None, '7D', 'FN05C', 71.99122139994482], [None, '7D', 'FN04C', 77.63372716487217]]\n"
     ]
    },
    {
     "name": "stderr",
     "output_type": "stream",
     "text": [
      " 18%|█▊        | 131/733 [01:07<04:45,  2.11it/s]"
     ]
    },
    {
     "name": "stdout",
     "output_type": "stream",
     "text": [
      "[[None, '7D', 'FN03C', 249.5218892031164], [None, '7D', 'FN19C', 252.41011793159888], [None, '7D', 'FN05C', 259.2650952049912], [None, '7D', 'J49C', 279.29581515188266]]\n"
     ]
    },
    {
     "name": "stderr",
     "output_type": "stream",
     "text": [
      " 19%|█▉        | 138/733 [01:11<04:50,  2.05it/s]"
     ]
    },
    {
     "name": "stdout",
     "output_type": "stream",
     "text": [
      "[[None, '7D', 'FN04C', 263.11959699704295], [None, '7D', 'FN02C', 274.62681594872447], [None, '7D', 'FN01C', 283.70393444543845], [None, '7D', 'J49C', 295.8927462345291]]\n"
     ]
    },
    {
     "name": "stderr",
     "output_type": "stream",
     "text": [
      " 19%|█▉        | 140/733 [01:12<04:55,  2.00it/s]"
     ]
    },
    {
     "name": "stdout",
     "output_type": "stream",
     "text": [
      "[[None, '7D', 'J49C', 360.09867586257366], [None, '7D', 'FN05C', 375.1017864453745], [None, '7D', 'FN04C', 382.6279412755404], [None, '7D', 'FN19C', 382.9559249111226], [None, '7D', 'FN01C', 395.5072220677698]]\n"
     ]
    },
    {
     "name": "stderr",
     "output_type": "stream",
     "text": [
      " 19%|█▉        | 142/733 [01:13<05:52,  1.67it/s]"
     ]
    },
    {
     "name": "stdout",
     "output_type": "stream",
     "text": [
      "[[None, '7D', 'J49C', 55.08752962179064], [None, '7D', 'FN19C', 82.98320730431601], [None, '7D', 'FN05C', 86.8009571078166], [None, '7D', 'FN03C', 93.06464681730668], [None, '7D', 'FN04C', 94.36361556852813], [None, '7D', 'FN01C', 98.77920310553145]]\n"
     ]
    },
    {
     "name": "stderr",
     "output_type": "stream",
     "text": [
      " 20%|██        | 148/733 [01:16<04:53,  1.99it/s]"
     ]
    },
    {
     "name": "stdout",
     "output_type": "stream",
     "text": [
      "[[None, '7D', 'J49C', 196.12578816943048], [None, '7D', 'FN19C', 206.33682936051366], [None, '7D', 'FN04C', 232.47358696709915], [None, '7D', 'FN05C', 232.47423326945975]]\n"
     ]
    },
    {
     "name": "stderr",
     "output_type": "stream",
     "text": [
      " 21%|██        | 154/733 [01:19<04:50,  1.99it/s]"
     ]
    },
    {
     "name": "stdout",
     "output_type": "stream",
     "text": [
      "[[None, '7D', 'J49C', 362.7635532741647], [None, '7D', 'FN05C', 368.8276486876114], [None, '7D', 'FN04C', 375.83995566195955], [None, '7D', 'FN03C', 379.0257729073121], [None, '7D', 'FN19C', 380.9917151069554]]\n"
     ]
    },
    {
     "name": "stderr",
     "output_type": "stream",
     "text": [
      " 21%|██▏       | 157/733 [01:21<04:55,  1.95it/s]"
     ]
    },
    {
     "name": "stdout",
     "output_type": "stream",
     "text": [
      "[[None, '7D', 'FN05C', 252.889199955756], [None, '7D', 'J49C', 261.835126198573], [None, '7D', 'FN19C', 270.9699958666936], [None, '7D', 'FN02C', 272.3502485913013]]\n"
     ]
    },
    {
     "name": "stderr",
     "output_type": "stream",
     "text": [
      "\r",
      " 22%|██▏       | 158/733 [01:21<05:15,  1.82it/s]"
     ]
    },
    {
     "name": "stdout",
     "output_type": "stream",
     "text": [
      "[[None, '7D', 'FN05C', 71.0478001337178], [None, '7D', 'J49C', 76.24039993441892], [None, '7D', 'FN03C', 81.14573977145054], [None, '7D', 'FN19C', 84.67569271715996], [None, '7D', 'FN02C', 91.11549536828981]]\n"
     ]
    },
    {
     "name": "stderr",
     "output_type": "stream",
     "text": [
      " 22%|██▏       | 161/733 [01:23<06:00,  1.59it/s]"
     ]
    },
    {
     "name": "stdout",
     "output_type": "stream",
     "text": [
      "[[None, '7D', 'J49C', 57.305458651119714], [None, '7D', 'FN05C', 64.25187902792015], [None, '7D', 'FN19C', 71.65208743645128], [None, '7D', 'FN04C', 72.05224735545349], [None, '7D', 'FN03C', 73.21098148928148]]\n"
     ]
    },
    {
     "name": "stderr",
     "output_type": "stream",
     "text": [
      " 23%|██▎       | 167/733 [01:26<04:26,  2.12it/s]"
     ]
    },
    {
     "name": "stdout",
     "output_type": "stream",
     "text": [
      "[[None, '7D', 'FN05C', 49.992167327030835], [None, '7D', 'FN04C', 56.772150783726765], [None, '7D', 'FN19C', 67.42715075380646], [None, '7D', 'FN01C', 73.70932319856294]]\n"
     ]
    },
    {
     "name": "stderr",
     "output_type": "stream",
     "text": [
      "\r",
      " 23%|██▎       | 168/733 [01:27<04:52,  1.93it/s]"
     ]
    },
    {
     "name": "stdout",
     "output_type": "stream",
     "text": [
      "[[None, '7D', 'FN19C', 230.7944792921263], [None, '7D', 'FN02C', 233.11697281960122], [None, '7D', 'FN03C', 240.87228188929663], [None, '7D', 'J49C', 242.25184870599594], [None, '7D', 'FN04C', 246.43601056120983]]\n"
     ]
    },
    {
     "name": "stderr",
     "output_type": "stream",
     "text": [
      " 23%|██▎       | 171/733 [01:28<05:08,  1.82it/s]"
     ]
    },
    {
     "name": "stdout",
     "output_type": "stream",
     "text": [
      "[[None, '7D', 'FN04C', 48.56095859409175], [None, '7D', 'FN03C', 51.52330691372524], [None, '7D', 'FN01C', 53.91013750992167], [None, '7D', 'FN19C', 69.93531955968886], [None, '7D', 'J49C', 101.70084644505367]]\n"
     ]
    },
    {
     "name": "stderr",
     "output_type": "stream",
     "text": [
      " 25%|██▍       | 181/733 [01:33<04:32,  2.03it/s]"
     ]
    },
    {
     "name": "stdout",
     "output_type": "stream",
     "text": [
      "[[None, '7D', 'J49C', 30.730489401394436], [None, '7D', 'FN19C', 58.834612188501886], [None, '7D', 'FN01C', 74.9949555160614], [None, '7D', 'FN02C', 83.67642505362215], [None, '7D', 'FN04C', 84.1679124550918]]\n"
     ]
    },
    {
     "name": "stderr",
     "output_type": "stream",
     "text": [
      " 25%|██▍       | 183/733 [01:34<05:09,  1.77it/s]"
     ]
    },
    {
     "name": "stdout",
     "output_type": "stream",
     "text": [
      "[[None, '7D', 'J49C', 84.23490654349261], [None, '7D', 'FN05C', 118.43343970518411], [None, '7D', 'FN03C', 124.72474592058708], [None, '7D', 'FN04C', 126.02139788017935], [None, '7D', 'FN02C', 133.89948839874847]]\n"
     ]
    },
    {
     "name": "stderr",
     "output_type": "stream",
     "text": [
      " 26%|██▋       | 194/733 [01:40<05:01,  1.79it/s]"
     ]
    },
    {
     "name": "stdout",
     "output_type": "stream",
     "text": [
      "[[None, '7D', 'J49C', 322.54979840299654], [None, '7D', 'FN19C', 345.9839543278512], [None, '7D', 'FN03C', 367.204182082891], [None, '7D', 'FN02C', 368.9088028207768], [None, '7D', 'FN04C', 373.2688648168002]]\n"
     ]
    },
    {
     "name": "stderr",
     "output_type": "stream",
     "text": [
      "\r",
      " 27%|██▋       | 195/733 [01:41<05:13,  1.71it/s]"
     ]
    },
    {
     "name": "stdout",
     "output_type": "stream",
     "text": [
      "[[None, '7D', 'FN02C', 155.47463471998455], [None, '7D', 'FN04C', 156.34874234452508], [None, '7D', 'FN03C', 160.67351411581527], [None, '7D', 'FN01C', 164.56355887457312], [None, '7D', 'FN19C', 180.29999329475936]]\n"
     ]
    },
    {
     "name": "stderr",
     "output_type": "stream",
     "text": [
      " 27%|██▋       | 199/733 [01:43<05:01,  1.77it/s]"
     ]
    },
    {
     "name": "stdout",
     "output_type": "stream",
     "text": [
      "[[None, '7D', 'J49C', 281.3464638948043], [None, '7D', 'FN05C', 322.04105366702265], [None, '7D', 'FN04C', 329.43688771575114], [None, '7D', 'FN01C', 330.70954406330526], [None, '7D', 'FN02C', 336.0112475585185]]\n"
     ]
    },
    {
     "name": "stderr",
     "output_type": "stream",
     "text": [
      " 29%|██▉       | 213/733 [01:50<04:07,  2.10it/s]"
     ]
    },
    {
     "name": "stdout",
     "output_type": "stream",
     "text": [
      "[[None, '7D', 'FN02C', 88.21333345277128], [None, '7D', 'FN03C', 98.31590048150213], [None, '7D', 'FN04C', 100.87531063670455], [None, '7D', 'J49C', 131.4231701253001]]\n"
     ]
    },
    {
     "name": "stderr",
     "output_type": "stream",
     "text": [
      " 29%|██▉       | 216/733 [01:51<04:33,  1.89it/s]"
     ]
    },
    {
     "name": "stdout",
     "output_type": "stream",
     "text": [
      "[[None, '7D', 'FN05C', 224.7263048730545], [None, '7D', 'FN02C', 228.40209896555365], [None, '7D', 'FN01C', 238.78972922563727], [None, '7D', 'FN19C', 249.6623959314788], [None, '7D', 'J49C', 272.45064659205207]]\n"
     ]
    },
    {
     "name": "stderr",
     "output_type": "stream",
     "text": [
      "\r",
      " 30%|██▉       | 217/733 [01:52<04:46,  1.80it/s]"
     ]
    },
    {
     "name": "stdout",
     "output_type": "stream",
     "text": [
      "[[None, '7D', 'FN01C', 255.15359656990643], [None, '7D', 'FN19C', 259.339337545927], [None, '7D', 'J49C', 270.0349772666976], [None, '7D', 'FN04C', 275.2600561009474], [None, '7D', 'FN05C', 279.7867626971093]]\n"
     ]
    },
    {
     "name": "stderr",
     "output_type": "stream",
     "text": [
      "\r",
      " 30%|██▉       | 218/733 [01:52<04:42,  1.83it/s]"
     ]
    },
    {
     "name": "stdout",
     "output_type": "stream",
     "text": [
      "[[None, '7D', 'J49C', 26.706583963860137], [None, '7D', 'FN19C', 58.53638819785196], [None, '7D', 'FN03C', 77.15256101434109], [None, '7D', 'FN04C', 81.63989565345817]]\n"
     ]
    },
    {
     "name": "stderr",
     "output_type": "stream",
     "text": [
      " 31%|███       | 225/733 [01:56<04:44,  1.79it/s]"
     ]
    },
    {
     "name": "stdout",
     "output_type": "stream",
     "text": [
      "[[None, '7D', 'J49C', 270.1728023966327], [None, '7D', 'FN19C', 301.1891601762162], [None, '7D', 'FN03C', 320.5870403269603], [None, '7D', 'FN04C', 325.0847466604434], [None, '7D', 'FN02C', 326.04411908603316]]\n"
     ]
    },
    {
     "name": "stderr",
     "output_type": "stream",
     "text": [
      " 31%|███       | 229/733 [01:59<04:46,  1.76it/s]"
     ]
    },
    {
     "name": "stdout",
     "output_type": "stream",
     "text": [
      "[[None, '7D', 'FN05C', 260.4126556021167], [None, '7D', 'FN03C', 267.52229044879897], [None, '7D', 'FN01C', 273.6048297098785], [None, '7D', 'FN02C', 276.98412378424416]]\n"
     ]
    },
    {
     "name": "stderr",
     "output_type": "stream",
     "text": [
      " 32%|███▏      | 238/733 [02:03<03:43,  2.22it/s]"
     ]
    },
    {
     "name": "stdout",
     "output_type": "stream",
     "text": [
      "[[None, '7D', 'FN02C', 312.63481624807156], [None, '7D', 'FN01C', 316.7099213005551], [None, '7D', 'FN04C', 321.4046053057863], [None, '7D', 'FN03C', 321.9989729234642]]\n"
     ]
    },
    {
     "name": "stderr",
     "output_type": "stream",
     "text": [
      "\r",
      " 33%|███▎      | 239/733 [02:04<04:01,  2.04it/s]"
     ]
    },
    {
     "name": "stdout",
     "output_type": "stream",
     "text": [
      "[[None, '7D', 'FN05C', 167.60814936612834], [None, '7D', 'FN04C', 168.70285185461748], [None, '7D', 'FN02C', 179.68670398894565], [None, '7D', 'FN19C', 193.56001252609246], [None, '7D', 'J49C', 206.11281966538806]]\n"
     ]
    },
    {
     "name": "stderr",
     "output_type": "stream",
     "text": [
      "\r",
      " 33%|███▎      | 240/733 [02:04<04:00,  2.05it/s]"
     ]
    },
    {
     "name": "stdout",
     "output_type": "stream",
     "text": [
      "[[None, '7D', 'J49C', 6.616575015620359], [None, '7D', 'FN05C', 56.373765522036486], [None, '7D', 'FN03C', 56.852246214229055], [None, '7D', 'FN02C', 62.93072451381315]]\n"
     ]
    },
    {
     "name": "stderr",
     "output_type": "stream",
     "text": [
      " 34%|███▎      | 247/733 [02:08<03:47,  2.14it/s]"
     ]
    },
    {
     "name": "stdout",
     "output_type": "stream",
     "text": [
      "[[None, '7D', 'FN04C', 278.5119349469265], [None, '7D', 'FN02C', 291.0116492136698], [None, '7D', 'FN01C', 299.23567473652656], [None, '7D', 'J49C', 304.0785383923133]]\n"
     ]
    },
    {
     "name": "stderr",
     "output_type": "stream",
     "text": [
      " 34%|███▍      | 252/733 [02:10<03:31,  2.28it/s]"
     ]
    },
    {
     "name": "stdout",
     "output_type": "stream",
     "text": [
      "[[None, '7D', 'J49C', 339.89593738359184], [None, '7D', 'FN04C', 382.84974913787005], [None, '7D', 'FN01C', 387.39039281419366], [None, '7D', 'FN02C', 391.24697427194326]]\n"
     ]
    },
    {
     "name": "stderr",
     "output_type": "stream",
     "text": [
      " 36%|███▌      | 263/733 [02:15<03:55,  2.00it/s]"
     ]
    },
    {
     "name": "stdout",
     "output_type": "stream",
     "text": [
      "[[None, '7D', 'FN19C', 221.3313103328437], [None, '7D', 'FN03C', 222.26203538997757], [None, '7D', 'FN04C', 225.72273088890603], [None, '7D', 'FN05C', 232.5327354664588], [None, '7D', 'J49C', 244.87015557206354]]\n"
     ]
    },
    {
     "name": "stderr",
     "output_type": "stream",
     "text": [
      " 37%|███▋      | 268/733 [02:18<04:11,  1.85it/s]"
     ]
    },
    {
     "name": "stdout",
     "output_type": "stream",
     "text": [
      "[[None, '7D', 'J49C', 360.09867586257366], [None, '7D', 'FN05C', 375.1017864453745], [None, '7D', 'FN19C', 382.9559249111226], [None, '7D', 'FN03C', 384.72905773030465], [None, '7D', 'FN02C', 394.8543737647921]]\n"
     ]
    },
    {
     "name": "stderr",
     "output_type": "stream",
     "text": [
      "\r",
      " 37%|███▋      | 269/733 [02:19<04:25,  1.75it/s]"
     ]
    },
    {
     "name": "stdout",
     "output_type": "stream",
     "text": [
      "[[None, '7D', 'J49C', 230.3063222997086], [None, '7D', 'FN19C', 242.28678991438247], [None, '7D', 'FN02C', 260.1798658083028], [None, '7D', 'FN05C', 268.44069118811285], [None, '7D', 'FN04C', 268.7333483611843]]\n"
     ]
    },
    {
     "name": "stderr",
     "output_type": "stream",
     "text": [
      " 37%|███▋      | 273/733 [02:21<04:20,  1.76it/s]"
     ]
    },
    {
     "name": "stdout",
     "output_type": "stream",
     "text": [
      "[[None, '7D', 'J49C', 229.40080645791753], [None, '7D', 'FN05C', 275.7037108406509], [None, '7D', 'FN01C', 279.17802970550156], [None, '7D', 'FN04C', 282.33825841521065], [None, '7D', 'FN02C', 286.2199235080437]]\n"
     ]
    },
    {
     "name": "stderr",
     "output_type": "stream",
     "text": [
      " 38%|███▊      | 276/733 [02:23<04:05,  1.86it/s]"
     ]
    },
    {
     "name": "stdout",
     "output_type": "stream",
     "text": [
      "[[None, '7D', 'FN02C', 314.2315523017403], [None, '7D', 'FN04C', 314.7268589028823], [None, '7D', 'FN05C', 320.4425070009132], [None, '7D', 'FN19C', 339.04672496128876], [None, '7D', 'J49C', 369.6335200449523]]\n"
     ]
    },
    {
     "name": "stderr",
     "output_type": "stream",
     "text": [
      " 38%|███▊      | 281/733 [02:25<03:48,  1.97it/s]"
     ]
    },
    {
     "name": "stdout",
     "output_type": "stream",
     "text": [
      "[[None, '7D', 'J49C', 359.7522482482968], [None, '7D', 'FN19C', 384.26966312485723], [None, '7D', 'FN04C', 385.8772829853724], [None, '7D', 'FN03C', 387.5272731637706], [None, '7D', 'FN02C', 397.6563264457764]]\n"
     ]
    },
    {
     "name": "stderr",
     "output_type": "stream",
     "text": [
      "\r",
      " 38%|███▊      | 282/733 [02:26<04:01,  1.87it/s]"
     ]
    },
    {
     "name": "stdout",
     "output_type": "stream",
     "text": [
      "[[None, '7D', 'FN05C', 351.3849720144236], [None, '7D', 'FN03C', 355.9895792975931], [None, '7D', 'FN02C', 356.47231777509444], [None, '7D', 'FN19C', 376.86794048369893], [None, '7D', 'J49C', 397.59369939732505]]\n"
     ]
    },
    {
     "name": "stderr",
     "output_type": "stream",
     "text": [
      " 40%|███▉      | 291/733 [02:30<03:21,  2.20it/s]"
     ]
    },
    {
     "name": "stdout",
     "output_type": "stream",
     "text": [
      "[[None, '7D', 'FN02C', 268.1731013304552], [None, '7D', 'FN01C', 272.6215669368114], [None, '7D', 'FN04C', 276.5834630748402], [None, '7D', 'J49C', 321.6973834323997]]\n"
     ]
    },
    {
     "name": "stderr",
     "output_type": "stream",
     "text": [
      " 40%|████      | 294/733 [02:31<03:46,  1.94it/s]"
     ]
    },
    {
     "name": "stdout",
     "output_type": "stream",
     "text": [
      "[[None, '7D', 'J49C', 23.10758808500125], [None, '7D', 'FN05C', 71.99122139994482], [None, '7D', 'FN01C', 72.82856898805629], [None, '7D', 'FN04C', 77.63372716487217], [None, '7D', 'FN02C', 80.0034912644235]]\n"
     ]
    },
    {
     "name": "stderr",
     "output_type": "stream",
     "text": [
      " 40%|████      | 296/733 [02:32<03:44,  1.94it/s]"
     ]
    },
    {
     "name": "stdout",
     "output_type": "stream",
     "text": [
      "[[None, '7D', 'J49C', 276.40919255835956], [None, '7D', 'FN19C', 294.8548397536509], [None, '7D', 'FN03C', 315.7503997797802], [None, '7D', 'FN05C', 320.4685387833265]]\n"
     ]
    },
    {
     "name": "stderr",
     "output_type": "stream",
     "text": [
      "\r",
      " 41%|████      | 297/733 [02:33<03:42,  1.96it/s]"
     ]
    },
    {
     "name": "stdout",
     "output_type": "stream",
     "text": [
      "[[None, '7D', 'FN02C', 123.4296959853892], [None, '7D', 'FN19C', 137.19092241555535], [None, '7D', 'FN05C', 143.3108825664043], [None, '7D', 'J49C', 165.68087620911913]]\n"
     ]
    },
    {
     "name": "stderr",
     "output_type": "stream",
     "text": [
      "\r",
      " 41%|████      | 298/733 [02:33<03:34,  2.03it/s]"
     ]
    },
    {
     "name": "stdout",
     "output_type": "stream",
     "text": [
      "[[None, '7D', 'FN02C', 146.43091089319626], [None, '7D', 'FN04C', 149.80264225210178], [None, '7D', 'FN19C', 171.11191749811962], [None, '7D', 'J49C', 203.2571559978881]]\n"
     ]
    },
    {
     "name": "stderr",
     "output_type": "stream",
     "text": [
      " 42%|████▏     | 308/733 [02:38<03:37,  1.96it/s]"
     ]
    },
    {
     "name": "stdout",
     "output_type": "stream",
     "text": [
      "[[None, '7D', 'FN02C', 298.6716371533107], [None, '7D', 'FN19C', 301.897376182467], [None, '7D', 'FN03C', 307.7075135066349], [None, '7D', 'FN05C', 318.15942139479876], [None, '7D', 'J49C', 318.98462088341466]]\n"
     ]
    },
    {
     "name": "stderr",
     "output_type": "stream",
     "text": [
      " 45%|████▌     | 331/733 [02:50<03:31,  1.90it/s]"
     ]
    },
    {
     "name": "stdout",
     "output_type": "stream",
     "text": [
      "[[None, '7D', 'J49C', 164.97505296365895], [None, '7D', 'FN19C', 186.42952257727208], [None, '7D', 'FN03C', 207.6316698544204], [None, '7D', 'FN02C', 209.00963312849512], [None, '7D', 'FN04C', 213.8193114301181]]\n"
     ]
    },
    {
     "name": "stderr",
     "output_type": "stream",
     "text": [
      "\r",
      " 45%|████▌     | 332/733 [02:50<03:52,  1.72it/s]"
     ]
    },
    {
     "name": "stdout",
     "output_type": "stream",
     "text": [
      "[[None, '7D', 'J49C', 361.3652188056498], [None, '7D', 'FN05C', 368.8064715543951], [None, '7D', 'FN04C', 375.91274045728966], [None, '7D', 'FN03C', 378.9377156661995], [None, '7D', 'FN19C', 380.33436285056683]]\n"
     ]
    },
    {
     "name": "stderr",
     "output_type": "stream",
     "text": [
      " 46%|████▌     | 338/733 [02:54<03:40,  1.79it/s]"
     ]
    },
    {
     "name": "stdout",
     "output_type": "stream",
     "text": [
      "[[None, '7D', 'FN02C', 134.95579051909158], [None, '7D', 'FN19C', 136.72549119422797], [None, '7D', 'FN03C', 143.50393088780032], [None, '7D', 'FN04C', 148.53553506518654], [None, '7D', 'J49C', 154.9811570424153]]\n"
     ]
    },
    {
     "name": "stderr",
     "output_type": "stream",
     "text": [
      " 47%|████▋     | 345/733 [02:57<02:53,  2.23it/s]"
     ]
    },
    {
     "name": "stdout",
     "output_type": "stream",
     "text": [
      "[[None, '7D', 'FN04C', 120.07381672614635], [None, '7D', 'FN05C', 122.24190951089768], [None, '7D', 'FN01C', 137.5327650694848], [None, '7D', 'FN19C', 147.46894051701256]]\n"
     ]
    },
    {
     "name": "stderr",
     "output_type": "stream",
     "text": [
      "\r",
      " 47%|████▋     | 346/733 [02:57<03:15,  1.98it/s]"
     ]
    },
    {
     "name": "stdout",
     "output_type": "stream",
     "text": [
      "[[None, '7D', 'J49C', 172.42858055095675], [None, '7D', 'FN02C', 178.32403985244588], [None, '7D', 'FN03C', 183.83609401413275], [None, '7D', 'FN04C', 190.2231112786247], [None, '7D', 'FN05C', 192.8962974584874]]\n"
     ]
    },
    {
     "name": "stderr",
     "output_type": "stream",
     "text": [
      " 47%|████▋     | 348/733 [02:58<03:05,  2.08it/s]"
     ]
    },
    {
     "name": "stdout",
     "output_type": "stream",
     "text": [
      "[[None, '7D', 'FN05C', 61.38609365604154], [None, '7D', 'FN04C', 68.63081383749994], [None, '7D', 'J49C', 69.17322407243697], [None, '7D', 'FN01C', 83.9840394976623]]\n"
     ]
    },
    {
     "name": "stderr",
     "output_type": "stream",
     "text": [
      " 48%|████▊     | 353/733 [03:01<03:06,  2.03it/s]"
     ]
    },
    {
     "name": "stdout",
     "output_type": "stream",
     "text": [
      "[[None, '7D', 'J49C', 112.13869441406605], [None, '7D', 'FN01C', 147.78294431903913], [None, '7D', 'FN02C', 157.84182172862816], [None, '7D', 'FN04C', 161.84617264060552]]\n"
     ]
    },
    {
     "name": "stderr",
     "output_type": "stream",
     "text": [
      " 49%|████▉     | 361/733 [03:04<03:20,  1.85it/s]"
     ]
    },
    {
     "name": "stdout",
     "output_type": "stream",
     "text": [
      "[[None, '7D', 'FN01C', 91.01107095443547], [None, '7D', 'J49C', 95.42129736811266], [None, '7D', 'FN02C', 100.3565779483532], [None, '7D', 'FN04C', 111.5834030863045], [None, '7D', 'FN05C', 113.80038851604729]]\n"
     ]
    },
    {
     "name": "stderr",
     "output_type": "stream",
     "text": [
      " 50%|████▉     | 365/733 [03:06<03:05,  1.98it/s]"
     ]
    },
    {
     "name": "stdout",
     "output_type": "stream",
     "text": [
      "[[None, '7D', 'FN02C', 388.0721238377439], [None, '7D', 'FN03C', 390.5541317997389], [None, '7D', 'FN04C', 397.25014797941486], [None, '7D', 'FN05C', 397.33729695453513]]\n"
     ]
    },
    {
     "name": "stderr",
     "output_type": "stream",
     "text": [
      "\r",
      " 50%|████▉     | 366/733 [03:07<03:07,  1.96it/s]"
     ]
    },
    {
     "name": "stdout",
     "output_type": "stream",
     "text": [
      "[[None, '7D', 'FN01C', 367.84980450167643], [None, '7D', 'FN02C', 371.7424505579176], [None, '7D', 'FN04C', 385.30860058535956], [None, '7D', 'J49C', 395.79139187589635]]\n"
     ]
    },
    {
     "name": "stderr",
     "output_type": "stream",
     "text": [
      " 50%|█████     | 368/733 [03:08<03:04,  1.97it/s]"
     ]
    },
    {
     "name": "stdout",
     "output_type": "stream",
     "text": [
      "[[None, '7D', 'FN05C', 122.78737810523344], [None, '7D', 'FN04C', 125.35002495810232], [None, '7D', 'FN01C', 146.0847945677564], [None, '7D', 'J49C', 156.68085270866794]]\n"
     ]
    },
    {
     "name": "stderr",
     "output_type": "stream",
     "text": [
      " 52%|█████▏    | 382/733 [03:15<03:06,  1.88it/s]"
     ]
    },
    {
     "name": "stdout",
     "output_type": "stream",
     "text": [
      "[[None, '7D', 'FN05C', 259.82558754305745], [None, '7D', 'FN04C', 263.5777932883832], [None, '7D', 'FN03C', 269.5242942854332], [None, '7D', 'J49C', 284.0482178200757]]\n"
     ]
    },
    {
     "name": "stderr",
     "output_type": "stream",
     "text": [
      " 52%|█████▏    | 384/733 [03:16<03:10,  1.83it/s]"
     ]
    },
    {
     "name": "stdout",
     "output_type": "stream",
     "text": [
      "[[None, '7D', 'FN05C', 126.40874074910771], [None, '7D', 'FN04C', 128.670906944739], [None, '7D', 'FN03C', 135.09549389288415], [None, '7D', 'FN02C', 140.79535456829478], [None, '7D', 'J49C', 161.4392163524422]]\n"
     ]
    },
    {
     "name": "stderr",
     "output_type": "stream",
     "text": [
      " 54%|█████▍    | 396/733 [03:22<02:33,  2.19it/s]"
     ]
    },
    {
     "name": "stdout",
     "output_type": "stream",
     "text": [
      "[[None, '7D', 'J49C', 10.728227439693255], [None, '7D', 'FN03C', 53.46635476101872], [None, '7D', 'FN05C', 54.74899835991846], [None, '7D', 'FN04C', 58.762697076105795]]\n"
     ]
    },
    {
     "name": "stderr",
     "output_type": "stream",
     "text": [
      " 54%|█████▍    | 399/733 [03:23<02:55,  1.90it/s]"
     ]
    },
    {
     "name": "stdout",
     "output_type": "stream",
     "text": [
      "[[None, '7D', 'FN04C', 314.75629205429743], [None, '7D', 'FN01C', 314.9567901234707], [None, '7D', 'FN05C', 322.15548056392606], [None, '7D', 'J49C', 364.8841964165624]]\n"
     ]
    },
    {
     "name": "stderr",
     "output_type": "stream",
     "text": [
      "\r",
      " 55%|█████▍    | 400/733 [03:24<03:08,  1.76it/s]"
     ]
    },
    {
     "name": "stdout",
     "output_type": "stream",
     "text": [
      "[[None, '7D', 'FN04C', 225.8274541313552], [None, '7D', 'FN03C', 230.54636580710667], [None, '7D', 'J49C', 230.88233884946803], [None, '7D', 'FN19C', 238.7254196911141], [None, '7D', 'FN02C', 239.46424031546047]]\n"
     ]
    },
    {
     "name": "stderr",
     "output_type": "stream",
     "text": [
      "\r",
      " 55%|█████▍    | 401/733 [03:25<03:01,  1.83it/s]"
     ]
    },
    {
     "name": "stdout",
     "output_type": "stream",
     "text": [
      "[[None, '7D', 'FN03C', 382.24833447689423], [None, '7D', 'FN05C', 392.6815989894305], [None, '7D', 'J49C', 397.210889808998]]\n"
     ]
    },
    {
     "name": "stderr",
     "output_type": "stream",
     "text": [
      " 55%|█████▍    | 403/733 [03:26<02:54,  1.89it/s]"
     ]
    },
    {
     "name": "stdout",
     "output_type": "stream",
     "text": [
      "[[None, '7D', 'FN02C', 94.5783178153671], [None, '7D', 'FN04C', 99.5385731169821], [None, '7D', 'FN01C', 102.04021699812813], [None, '7D', 'FN05C', 106.85235692956563]]\n"
     ]
    },
    {
     "name": "stderr",
     "output_type": "stream",
     "text": [
      " 55%|█████▌    | 405/733 [03:27<03:09,  1.73it/s]"
     ]
    },
    {
     "name": "stdout",
     "output_type": "stream",
     "text": [
      "[[None, '7D', 'FN02C', 308.9210755378663], [None, '7D', 'FN01C', 312.60822739171937], [None, '7D', 'FN19C', 329.098170072961], [None, '7D', 'J49C', 360.82491638481457]]\n"
     ]
    },
    {
     "name": "stderr",
     "output_type": "stream",
     "text": [
      " 56%|█████▌    | 409/733 [03:29<03:04,  1.76it/s]"
     ]
    },
    {
     "name": "stdout",
     "output_type": "stream",
     "text": [
      "[[None, '7D', 'J49C', 3.0560260375571837], [None, '7D', 'FN04C', 51.98967577030134], [None, '7D', 'FN02C', 54.24050240784807]]\n"
     ]
    },
    {
     "name": "stderr",
     "output_type": "stream",
     "text": [
      " 56%|█████▌    | 412/733 [03:31<03:45,  1.43it/s]"
     ]
    },
    {
     "name": "stdout",
     "output_type": "stream",
     "text": [
      "[[None, '7D', 'J49C', 165.09444200321744], [None, '7D', 'FN19C', 191.1827068344063], [None, '7D', 'FN04C', 196.4574286000082], [None, '7D', 'FN02C', 207.02944819320916], [None, '7D', 'J57C', 217.86201734002202]]\n"
     ]
    },
    {
     "name": "stderr",
     "output_type": "stream",
     "text": [
      " 57%|█████▋    | 415/733 [03:33<03:33,  1.49it/s]"
     ]
    },
    {
     "name": "stdout",
     "output_type": "stream",
     "text": [
      "[[None, '7D', 'FN19C', 150.77834922920997], [None, '7D', 'FN03C', 164.65757424437754], [None, '7D', 'FN04C', 166.91268826662693], [None, '7D', 'FN01C', 167.7021734266094]]\n"
     ]
    },
    {
     "name": "stderr",
     "output_type": "stream",
     "text": [
      "\r",
      " 57%|█████▋    | 416/733 [03:34<03:28,  1.52it/s]"
     ]
    },
    {
     "name": "stdout",
     "output_type": "stream",
     "text": [
      "[[None, '7D', 'J49C', 59.604654053904234], [None, '7D', 'FN03C', 62.440984779812894], [None, '7D', 'FN19C', 65.53382116202663], [None, '7D', 'FN02C', 72.49961470736491], [None, '7D', 'FN01C', 74.49225931361096]]\n"
     ]
    },
    {
     "name": "stderr",
     "output_type": "stream",
     "text": [
      "\r",
      " 57%|█████▋    | 417/733 [03:34<03:22,  1.56it/s]"
     ]
    },
    {
     "name": "stdout",
     "output_type": "stream",
     "text": [
      "[[None, '7D', 'FN19C', 104.10003736886523], [None, '7D', 'FN03C', 111.55358532388075], [None, '7D', 'FN04C', 116.82705738655592], [None, '7D', 'FN05C', 121.87851227503688]]\n"
     ]
    },
    {
     "name": "stderr",
     "output_type": "stream",
     "text": [
      " 57%|█████▋    | 420/733 [03:36<02:57,  1.76it/s]"
     ]
    },
    {
     "name": "stdout",
     "output_type": "stream",
     "text": [
      "[[None, '7D', 'J49C', 343.5938037718012], [None, '7D', 'FN04C', 346.8763445544382], [None, '7D', 'FN03C', 351.02698803905247], [None, '7D', 'FN19C', 356.6124405893147]]\n"
     ]
    },
    {
     "name": "stderr",
     "output_type": "stream",
     "text": [
      " 58%|█████▊    | 424/733 [03:38<02:48,  1.83it/s]"
     ]
    },
    {
     "name": "stdout",
     "output_type": "stream",
     "text": [
      "[[None, '7D', 'J49C', 205.43508558775676], [None, '7D', 'FN19C', 227.49044984870721], [None, '7D', 'FN04C', 227.56235582827236], [None, '7D', 'FN03C', 229.45073960953883], [None, '7D', 'J57C', 248.43503423562944]]\n"
     ]
    },
    {
     "name": "stderr",
     "output_type": "stream",
     "text": [
      " 59%|█████▊    | 429/733 [03:41<02:34,  1.97it/s]"
     ]
    },
    {
     "name": "stdout",
     "output_type": "stream",
     "text": [
      "[[None, '7D', 'FN19C', 91.21165936424323], [None, '7D', 'J49C', 98.99354563953905], [None, '7D', 'FN02C', 100.59066113418241], [None, '7D', 'FN05C', 114.86340601067664]]\n"
     ]
    },
    {
     "name": "stderr",
     "output_type": "stream",
     "text": [
      " 59%|█████▉    | 433/733 [03:43<02:55,  1.71it/s]"
     ]
    },
    {
     "name": "stdout",
     "output_type": "stream",
     "text": [
      "[[None, '7D', 'FN04C', 359.46139341224824], [None, '7D', 'J49C', 365.9144089547442], [None, '7D', 'FN02C', 373.07108551453126], [None, '7D', 'J57C', 374.59968479680083], [None, '7D', 'FN01C', 378.71798378534476]]\n"
     ]
    },
    {
     "name": "stderr",
     "output_type": "stream",
     "text": [
      " 59%|█████▉    | 436/733 [03:45<02:48,  1.77it/s]"
     ]
    },
    {
     "name": "stdout",
     "output_type": "stream",
     "text": [
      "[[None, '7D', 'J49C', 322.54979840299654], [None, '7D', 'FN19C', 345.9839543278512], [None, '7D', 'FN01C', 358.7193543476782], [None, '7D', 'FN05C', 370.23333681293894], [None, '7D', 'FN04C', 373.2688648168002]]\n"
     ]
    },
    {
     "name": "stderr",
     "output_type": "stream",
     "text": [
      " 61%|██████▏   | 449/733 [03:51<02:22,  2.00it/s]"
     ]
    },
    {
     "name": "stdout",
     "output_type": "stream",
     "text": [
      "[[None, '7D', 'J49C', 52.91149243817093], [None, '7D', 'FN19C', 77.43128093899065], [None, '7D', 'FN01C', 92.23854974920611], [None, '7D', 'FN05C', 100.4737624293854]]\n"
     ]
    },
    {
     "name": "stderr",
     "output_type": "stream",
     "text": [
      " 62%|██████▏   | 457/733 [03:56<02:19,  1.98it/s]"
     ]
    },
    {
     "name": "stdout",
     "output_type": "stream",
     "text": [
      "[[None, '7D', 'J49C', 24.25019605042442], [None, '7D', 'FN19C', 55.72915626233436], [None, '7D', 'FN05C', 74.00324487510527], [None, '7D', 'FN03C', 74.56549027642305]]\n"
     ]
    },
    {
     "name": "stderr",
     "output_type": "stream",
     "text": [
      " 63%|██████▎   | 462/733 [03:59<02:33,  1.77it/s]"
     ]
    },
    {
     "name": "stdout",
     "output_type": "stream",
     "text": [
      "[[None, '7D', 'FN01C', 361.02503254600526], [None, '7D', 'FN19C', 363.33605266241085], [None, '7D', 'J49C', 369.7420362940194], [None, '7D', 'FN03C', 375.61187475761295], [None, '7D', 'FN04C', 381.52812103672704]]\n"
     ]
    },
    {
     "name": "stderr",
     "output_type": "stream",
     "text": [
      " 64%|██████▎   | 467/733 [04:02<02:40,  1.66it/s]"
     ]
    },
    {
     "name": "stdout",
     "output_type": "stream",
     "text": [
      "[[None, '7D', 'FN05C', 96.30353699405332], [None, '7D', 'FN04C', 101.95543007839191], [None, '7D', 'FN03C', 106.71265318695256], [None, '7D', 'J49C', 114.21368713154298]]\n"
     ]
    },
    {
     "name": "stderr",
     "output_type": "stream",
     "text": [
      " 64%|██████▍   | 472/733 [04:05<02:32,  1.72it/s]"
     ]
    },
    {
     "name": "stdout",
     "output_type": "stream",
     "text": [
      "[[None, '7D', 'FN05C', 309.57915100842706], [None, '7D', 'FN04C', 312.35872432930523], [None, '7D', 'FN03C', 318.6675908360483], [None, '7D', 'FN19C', 334.12038443929856], [None, '7D', 'J49C', 338.7128008767425]]\n"
     ]
    },
    {
     "name": "stderr",
     "output_type": "stream",
     "text": [
      "\r",
      " 65%|██████▍   | 473/733 [04:05<02:36,  1.67it/s]"
     ]
    },
    {
     "name": "stdout",
     "output_type": "stream",
     "text": [
      "[[None, '7D', 'J49C', 344.16382523831226], [None, '7D', 'FN01C', 388.17726919467236], [None, '7D', 'FN03C', 393.4638915685074], [None, '7D', 'FN05C', 393.9317549385736], [None, '7D', 'FN04C', 398.6477904665542]]\n"
     ]
    },
    {
     "name": "stderr",
     "output_type": "stream",
     "text": [
      " 66%|██████▌   | 484/733 [04:11<02:04,  2.00it/s]"
     ]
    },
    {
     "name": "stdout",
     "output_type": "stream",
     "text": [
      "[[None, '7D', 'J49C', 311.54901881402395], [None, '7D', 'FN04C', 327.7911523119987], [None, '7D', 'FN19C', 331.2197664358674], [None, '7D', 'FN02C', 340.592925368131]]\n"
     ]
    },
    {
     "name": "stderr",
     "output_type": "stream",
     "text": [
      " 66%|██████▋   | 486/733 [04:12<01:56,  2.12it/s]"
     ]
    },
    {
     "name": "stdout",
     "output_type": "stream",
     "text": [
      "[[None, '7D', 'FN02C', 300.71015961957204], [None, '7D', 'FN03C', 310.2530566282494], [None, '7D', 'J49C', 352.4415654528074]]\n"
     ]
    },
    {
     "name": "stderr",
     "output_type": "stream",
     "text": [
      " 68%|██████▊   | 497/733 [04:18<02:11,  1.80it/s]"
     ]
    },
    {
     "name": "stdout",
     "output_type": "stream",
     "text": [
      "[[None, '7D', 'FN19C', 130.4715956941089], [None, '7D', 'J49C', 141.23379101316291], [None, '7D', 'FN03C', 142.35122144743735], [None, '7D', 'FN04C', 148.3396255850989], [None, '7D', 'FN05C', 152.1351357504233]]\n"
     ]
    },
    {
     "name": "stderr",
     "output_type": "stream",
     "text": [
      "\r",
      " 68%|██████▊   | 498/733 [04:18<02:19,  1.69it/s]"
     ]
    },
    {
     "name": "stdout",
     "output_type": "stream",
     "text": [
      "[[None, '7D', 'J49C', 27.4619899749702], [None, '7D', 'FN19C', 58.814107035617894], [None, '7D', 'FN05C', 69.59724760308264], [None, '7D', 'FN04C', 76.25132930975695], [None, '7D', 'FN02C', 81.21736682443613]]\n"
     ]
    },
    {
     "name": "stderr",
     "output_type": "stream",
     "text": [
      " 68%|██████▊   | 502/733 [04:21<02:26,  1.57it/s]"
     ]
    },
    {
     "name": "stdout",
     "output_type": "stream",
     "text": [
      "[[None, '7D', 'J49C', 213.56031174797448], [None, '7D', 'FN05C', 218.35238026604387], [None, '7D', 'FN03C', 228.50534713684414], [None, '7D', 'FN19C', 230.51290865391402], [None, '7D', 'FN02C', 238.44484456087594]]\n"
     ]
    },
    {
     "name": "stderr",
     "output_type": "stream",
     "text": [
      "\r",
      " 69%|██████▊   | 503/733 [04:21<02:17,  1.67it/s]"
     ]
    },
    {
     "name": "stdout",
     "output_type": "stream",
     "text": [
      "[[None, '7D', 'FN05C', 78.97719879091638], [None, '7D', 'J49C', 82.72395639969717], [None, '7D', 'FN04C', 86.20380263410968], [None, '7D', 'FN02C', 99.04846163045036]]\n"
     ]
    },
    {
     "name": "stderr",
     "output_type": "stream",
     "text": [
      " 69%|██████▉   | 506/733 [04:22<01:48,  2.08it/s]"
     ]
    },
    {
     "name": "stdout",
     "output_type": "stream",
     "text": [
      "[[None, '7D', 'FN04C', 41.97838604529419], [None, '7D', 'FN01C', 50.36609027085133], [None, '7D', 'FN02C', 51.42862545844954]]\n"
     ]
    },
    {
     "name": "stderr",
     "output_type": "stream",
     "text": [
      " 70%|██████▉   | 512/733 [04:26<02:07,  1.73it/s]"
     ]
    },
    {
     "name": "stdout",
     "output_type": "stream",
     "text": [
      "[[None, '7D', 'FN05C', 113.03928681116558], [None, '7D', 'FN04C', 119.28228546905312], [None, '7D', 'FN03C', 123.49200012561684], [None, '7D', 'J49C', 124.06927967189819], [None, '7D', 'FN01C', 137.15230792934582]]\n"
     ]
    },
    {
     "name": "stderr",
     "output_type": "stream",
     "text": [
      " 70%|███████   | 515/733 [04:28<02:02,  1.79it/s]"
     ]
    },
    {
     "name": "stdout",
     "output_type": "stream",
     "text": [
      "[[None, '7D', 'J49C', 183.48387904307046], [None, '7D', 'FN05C', 209.7488262203995], [None, '7D', 'FN03C', 217.87441045872913], [None, '7D', 'FN01C', 225.8258283779216], [None, '7D', 'FN02C', 227.75352257593906]]\n"
     ]
    },
    {
     "name": "stderr",
     "output_type": "stream",
     "text": [
      " 71%|███████   | 517/733 [04:29<02:07,  1.70it/s]"
     ]
    },
    {
     "name": "stdout",
     "output_type": "stream",
     "text": [
      "[[None, '7D', 'FN04C', 165.32517617084522], [None, '7D', 'J57C', 175.6835026349154], [None, '7D', 'FN02C', 178.06257804539013], [None, '7D', 'FN19C', 186.36697464024965], [None, '7D', 'J49C', 191.58394025530285]]\n"
     ]
    },
    {
     "name": "stderr",
     "output_type": "stream",
     "text": [
      " 71%|███████   | 521/733 [04:31<02:03,  1.71it/s]"
     ]
    },
    {
     "name": "stdout",
     "output_type": "stream",
     "text": [
      "[[None, '7D', 'FN05C', 143.2192703499648], [None, '7D', 'FN04C', 146.36960220180913], [None, '7D', 'FN02C', 159.0998055797341], [None, '7D', 'FN19C', 167.57237488673059], [None, '7D', 'J49C', 173.54644746990064]]\n"
     ]
    },
    {
     "name": "stderr",
     "output_type": "stream",
     "text": [
      " 72%|███████▏  | 526/733 [04:34<01:50,  1.87it/s]"
     ]
    },
    {
     "name": "stdout",
     "output_type": "stream",
     "text": [
      "[[None, '7D', 'FN04C', 298.8275852087], [None, '7D', 'FN03C', 303.72752045917457], [None, '7D', 'FN19C', 324.03560797659446], [None, '7D', 'J49C', 353.7232173369361]]\n"
     ]
    },
    {
     "name": "stderr",
     "output_type": "stream",
     "text": [
      "\r",
      " 72%|███████▏  | 527/733 [04:34<01:57,  1.76it/s]"
     ]
    },
    {
     "name": "stdout",
     "output_type": "stream",
     "text": [
      "[[None, '7D', 'J49C', 246.93845385074698], [None, '7D', 'FN19C', 256.1367069565381], [None, '7D', 'FN02C', 272.401368395833], [None, '7D', 'FN03C', 275.1436114653011], [None, '7D', 'FN04C', 281.8419240393479]]\n"
     ]
    },
    {
     "name": "stderr",
     "output_type": "stream",
     "text": [
      " 74%|███████▍  | 541/733 [04:42<01:49,  1.76it/s]"
     ]
    },
    {
     "name": "stdout",
     "output_type": "stream",
     "text": [
      "[[None, '7D', 'J49C', 341.8296167280206], [None, '7D', 'FN05C', 352.86831007807905], [None, '7D', 'FN19C', 362.64662270693464], [None, '7D', 'FN03C', 362.77876723617464], [None, '7D', 'FN02C', 372.84575096474646]]\n"
     ]
    },
    {
     "name": "stderr",
     "output_type": "stream",
     "text": [
      " 74%|███████▍  | 546/733 [04:44<01:35,  1.95it/s]"
     ]
    },
    {
     "name": "stdout",
     "output_type": "stream",
     "text": [
      "[[None, '7D', 'FN02C', 177.17296445073762], [None, '7D', 'FN01C', 179.56200573709611], [None, '7D', 'FN04C', 187.77068216817426], [None, '7D', 'J49C', 226.3747181098561]]\n"
     ]
    },
    {
     "name": "stderr",
     "output_type": "stream",
     "text": [
      " 76%|███████▌  | 555/733 [04:49<01:28,  2.00it/s]"
     ]
    },
    {
     "name": "stdout",
     "output_type": "stream",
     "text": [
      "[[None, '7D', 'FN01C', 282.0594793918808], [None, '7D', 'FN03C', 292.1159010390546], [None, '7D', 'FN04C', 294.08527784334467], [None, '7D', 'J49C', 323.60846160698003]]\n"
     ]
    },
    {
     "name": "stderr",
     "output_type": "stream",
     "text": [
      " 76%|███████▋  | 560/733 [04:51<01:34,  1.84it/s]"
     ]
    },
    {
     "name": "stdout",
     "output_type": "stream",
     "text": [
      "[[None, '7D', 'J49C', 307.84811810793894], [None, '7D', 'FN05C', 325.1766083607222], [None, '7D', 'FN19C', 331.7088695496519], [None, '7D', 'FN04C', 332.8184547269877], [None, '7D', 'FN01C', 344.807563323028]]\n"
     ]
    },
    {
     "name": "stderr",
     "output_type": "stream",
     "text": [
      " 78%|███████▊  | 575/733 [05:00<01:35,  1.65it/s]"
     ]
    },
    {
     "name": "stdout",
     "output_type": "stream",
     "text": [
      "[[None, '7D', 'FN19C', 304.48634345361694], [None, '7D', 'J49C', 309.66392326285717], [None, '7D', 'FN02C', 310.9880734885388], [None, '7D', 'FN03C', 317.6187892950095], [None, '7D', 'FN04C', 323.6958147079314], [None, '7D', 'FN05C', 327.2359740650081]]\n"
     ]
    },
    {
     "name": "stderr",
     "output_type": "stream",
     "text": [
      "\r",
      " 79%|███████▊  | 576/733 [05:00<01:38,  1.60it/s]"
     ]
    },
    {
     "name": "stdout",
     "output_type": "stream",
     "text": [
      "[[None, '7D', 'J49C', 31.15714832467196], [None, '7D', 'FN19C', 61.83405654959968], [None, '7D', 'FN05C', 80.93461533511513], [None, '7D', 'FN02C', 86.63751144798415], [None, '7D', 'J57C', 101.26982354774366]]\n"
     ]
    },
    {
     "name": "stderr",
     "output_type": "stream",
     "text": [
      " 79%|███████▉  | 578/733 [05:01<01:34,  1.64it/s]"
     ]
    },
    {
     "name": "stdout",
     "output_type": "stream",
     "text": [
      "[[None, '7D', 'FN05C', 348.0663707553307], [None, '7D', 'J49C', 349.6670337316612], [None, '7D', 'FN04C', 354.48149413523896], [None, '7D', 'FN19C', 363.5322061048046], [None, '7D', 'FN02C', 367.9846938481515]]\n"
     ]
    },
    {
     "name": "stderr",
     "output_type": "stream",
     "text": [
      "\r",
      " 79%|███████▉  | 579/733 [05:02<01:30,  1.70it/s]"
     ]
    },
    {
     "name": "stdout",
     "output_type": "stream",
     "text": [
      "[[None, '7D', 'FN05C', 361.13113788684547], [None, '7D', 'FN04C', 362.52730681061917], [None, '7D', 'FN19C', 386.86796644959054], [None, '7D', 'J49C', 396.5237122682527]]\n"
     ]
    },
    {
     "name": "stderr",
     "output_type": "stream",
     "text": [
      " 80%|███████▉  | 584/733 [05:04<01:11,  2.10it/s]"
     ]
    },
    {
     "name": "stdout",
     "output_type": "stream",
     "text": [
      "[[None, '7D', 'FN04C', 275.7929903854557], [None, '7D', 'FN01C', 285.0374621871713], [None, '7D', 'FN19C', 300.51917055641337], [None, '7D', 'J49C', 330.72902320014174]]\n"
     ]
    },
    {
     "name": "stderr",
     "output_type": "stream",
     "text": [
      " 80%|████████  | 589/733 [05:07<01:17,  1.85it/s]"
     ]
    },
    {
     "name": "stdout",
     "output_type": "stream",
     "text": [
      "[[None, '7D', 'J49C', 137.15754545293242], [None, '7D', 'FN05C', 175.55505785270842], [None, '7D', 'FN03C', 181.30715091039727], [None, '7D', 'FN04C', 183.0233309878251], [None, '7D', 'FN02C', 190.1282063304615]]\n"
     ]
    },
    {
     "name": "stderr",
     "output_type": "stream",
     "text": [
      " 81%|████████▏ | 597/733 [05:11<01:14,  1.83it/s]"
     ]
    },
    {
     "name": "stdout",
     "output_type": "stream",
     "text": [
      "[[None, '7D', 'J49C', 264.15389966099974], [None, '7D', 'FN01C', 283.48409241431034], [None, '7D', 'FN02C', 293.7085748160231], [None, '7D', 'FN03C', 295.737800195332], [None, '7D', 'FN05C', 302.2141797631286]]\n"
     ]
    },
    {
     "name": "stderr",
     "output_type": "stream",
     "text": [
      " 82%|████████▏ | 600/733 [05:13<01:11,  1.86it/s]"
     ]
    },
    {
     "name": "stdout",
     "output_type": "stream",
     "text": [
      "[[None, '7D', 'FN19C', 375.7735855844681], [None, '7D', 'FN05C', 384.36877105764285], [None, '7D', 'FN01C', 392.7655715413874], [None, '7D', 'FN02C', 398.2005682245441]]\n"
     ]
    },
    {
     "name": "stderr",
     "output_type": "stream",
     "text": [
      " 83%|████████▎ | 608/733 [05:17<01:14,  1.68it/s]"
     ]
    },
    {
     "name": "stdout",
     "output_type": "stream",
     "text": [
      "[[None, '7D', 'FN02C', 188.66454429369455], [None, '7D', 'FN04C', 198.84656370327804], [None, '7D', 'FN05C', 206.68374444231688], [None, '7D', 'FN19C', 207.64538874319555], [None, '7D', 'J49C', 238.9108402525284]]\n"
     ]
    },
    {
     "name": "stderr",
     "output_type": "stream",
     "text": [
      " 84%|████████▍ | 616/733 [05:21<01:03,  1.85it/s]"
     ]
    },
    {
     "name": "stdout",
     "output_type": "stream",
     "text": [
      "[[None, '7D', 'J49C', 331.0178199722096], [None, '7D', 'FN19C', 356.8325582967507], [None, '7D', 'FN04C', 360.1941112991517], [None, '7D', 'FN03C', 361.4133844972573]]\n"
     ]
    },
    {
     "name": "stderr",
     "output_type": "stream",
     "text": [
      " 84%|████████▍ | 618/733 [05:22<00:59,  1.94it/s]"
     ]
    },
    {
     "name": "stdout",
     "output_type": "stream",
     "text": [
      "[[None, '7D', 'FN04C', 41.031383464764964], [None, '7D', 'FN02C', 51.00436416954525], [None, '7D', 'FN19C', 67.86584153661835], [None, '7D', 'J49C', 89.69548251697194]]\n"
     ]
    },
    {
     "name": "stderr",
     "output_type": "stream",
     "text": [
      " 85%|████████▍ | 620/733 [05:24<01:12,  1.55it/s]"
     ]
    },
    {
     "name": "stdout",
     "output_type": "stream",
     "text": [
      "[[None, '7D', 'FN05C', 326.55412849119125], [None, '7D', 'FN04C', 332.40735751217846], [None, '7D', 'J49C', 334.11452507654286], [None, '7D', 'FN02C', 346.0388460003209], [None, '7D', 'FN01C', 350.89266875012237]]\n"
     ]
    },
    {
     "name": "stderr",
     "output_type": "stream",
     "text": [
      " 85%|████████▍ | 623/733 [05:25<01:06,  1.66it/s]"
     ]
    },
    {
     "name": "stdout",
     "output_type": "stream",
     "text": [
      "[[None, '7D', 'J49C', 129.96953723022594], [None, '7D', 'FN01C', 151.98716096188608], [None, '7D', 'FN03C', 163.25961606913722], [None, '7D', 'FN05C', 169.00620438644034], [None, '7D', 'FN04C', 169.86815355807957]]\n"
     ]
    },
    {
     "name": "stderr",
     "output_type": "stream",
     "text": [
      "\r",
      " 85%|████████▌ | 624/733 [05:26<01:02,  1.74it/s]"
     ]
    },
    {
     "name": "stdout",
     "output_type": "stream",
     "text": [
      "[[None, '7D', 'FN01C', 330.3482670800979], [None, '7D', 'FN02C', 332.6367236011329], [None, '7D', 'FN04C', 345.8210581371337], [None, '7D', 'J49C', 364.6207932368507]]\n"
     ]
    },
    {
     "name": "stderr",
     "output_type": "stream",
     "text": [
      "\r",
      " 85%|████████▌ | 625/733 [05:26<01:02,  1.73it/s]"
     ]
    },
    {
     "name": "stdout",
     "output_type": "stream",
     "text": [
      "[[None, '7D', 'FN01C', 126.15191827285246], [None, '7D', 'FN02C', 128.757534072076], [None, '7D', 'FN04C', 142.12817251651023], [None, '7D', 'FN05C', 148.8272244773581], [None, '7D', 'J49C', 162.73619977093506]]\n"
     ]
    },
    {
     "name": "stderr",
     "output_type": "stream",
     "text": [
      " 86%|████████▋ | 634/733 [05:31<00:51,  1.94it/s]"
     ]
    },
    {
     "name": "stdout",
     "output_type": "stream",
     "text": [
      "[[None, '7D', 'FN03C', 366.68758720111066], [None, '7D', 'FN02C', 371.5899795672201], [None, '7D', 'FN01C', 380.7065604931618], [None, '7D', 'J49C', 392.1348265184696]]\n"
     ]
    },
    {
     "name": "stderr",
     "output_type": "stream",
     "text": [
      " 87%|████████▋ | 637/733 [05:33<00:50,  1.91it/s]"
     ]
    },
    {
     "name": "stdout",
     "output_type": "stream",
     "text": [
      "[[None, '7D', 'FN02C', 323.92252147220734], [None, '7D', 'FN04C', 335.17964378486784], [None, '7D', 'FN19C', 340.2362751815003], [None, '7D', 'FN05C', 342.9245866001928], [None, '7D', 'J49C', 369.42336905855547]]\n"
     ]
    },
    {
     "name": "stderr",
     "output_type": "stream",
     "text": [
      " 88%|████████▊ | 642/733 [05:36<00:52,  1.74it/s]"
     ]
    },
    {
     "name": "stdout",
     "output_type": "stream",
     "text": [
      "[[None, '7D', 'J57C', 353.7653074125114], [None, '7D', 'FN02C', 361.0001221295779], [None, '7D', 'FN03C', 371.0811794938526], [None, '7D', 'FN04C', 373.6617062089136], [None, '7D', 'J49C', 398.08949579108275]]\n"
     ]
    },
    {
     "name": "stderr",
     "output_type": "stream",
     "text": [
      "\r",
      " 88%|████████▊ | 643/733 [05:36<00:50,  1.79it/s]"
     ]
    },
    {
     "name": "stdout",
     "output_type": "stream",
     "text": [
      "[[None, '7D', 'FN03C', 156.11824559515497], [None, '7D', 'FN04C', 160.15994332295162], [None, '7D', 'FN05C', 166.5322783539975], [None, '7D', 'J49C', 176.18587160056333]]\n"
     ]
    },
    {
     "name": "stderr",
     "output_type": "stream",
     "text": [
      " 88%|████████▊ | 645/733 [05:37<00:51,  1.69it/s]"
     ]
    },
    {
     "name": "stdout",
     "output_type": "stream",
     "text": [
      "[[None, '7D', 'J49C', 88.0728590198921], [None, '7D', 'FN05C', 100.37101365245998], [None, '7D', 'FN04C', 108.12466815384438], [None, '7D', 'FN02C', 119.60847948250358], [None, '7D', 'FN01C', 119.6735422100577]]\n"
     ]
    },
    {
     "name": "stderr",
     "output_type": "stream",
     "text": [
      " 89%|████████▉ | 653/733 [05:41<00:41,  1.93it/s]"
     ]
    },
    {
     "name": "stdout",
     "output_type": "stream",
     "text": [
      "[[None, '7D', 'FN04C', 89.20091533487987], [None, '7D', 'FN05C', 90.37415357576573], [None, '7D', 'FN03C', 95.84308120443204], [None, '7D', 'FN02C', 97.98750417098215], [None, '7D', 'J49C', 136.6931151440046]]\n"
     ]
    },
    {
     "name": "stderr",
     "output_type": "stream",
     "text": [
      " 91%|█████████ | 667/733 [05:49<00:38,  1.72it/s]"
     ]
    },
    {
     "name": "stdout",
     "output_type": "stream",
     "text": [
      "[[None, '7D', 'J49C', 210.53093010617647], [None, '7D', 'FN19C', 240.64400990668975], [None, '7D', 'FN05C', 260.2421365362759], [None, '7D', 'FN03C', 260.57512941860466], [None, '7D', 'FN02C', 265.4745254194176]]\n"
     ]
    },
    {
     "name": "stderr",
     "output_type": "stream",
     "text": [
      " 92%|█████████▏| 673/733 [05:52<00:27,  2.17it/s]"
     ]
    },
    {
     "name": "stdout",
     "output_type": "stream",
     "text": [
      "[[None, '7D', 'J49C', 331.2840171711769], [None, '7D', 'FN02C', 339.8275222561085], [None, '7D', 'FN04C', 351.8663790152808]]\n"
     ]
    },
    {
     "name": "stderr",
     "output_type": "stream",
     "text": [
      " 92%|█████████▏| 675/733 [05:53<00:31,  1.84it/s]"
     ]
    },
    {
     "name": "stdout",
     "output_type": "stream",
     "text": [
      "[[None, '7D', 'J57C', 207.96072408747503], [None, '7D', 'FN02C', 216.75810521279712], [None, '7D', 'FN01C', 217.25479063559004], [None, '7D', 'FN03C', 226.88579770856794], [None, '7D', 'FN04C', 228.6616223686771], [None, '7D', 'J49C', 260.2457960787375]]\n"
     ]
    },
    {
     "name": "stderr",
     "output_type": "stream",
     "text": [
      " 93%|█████████▎| 680/733 [05:56<00:28,  1.84it/s]"
     ]
    },
    {
     "name": "stdout",
     "output_type": "stream",
     "text": [
      "[[None, '7D', 'J49C', 83.73801611542315], [None, '7D', 'FN05C', 93.5149087368676], [None, '7D', 'FN04C', 101.22990251855893], [None, '7D', 'FN02C', 112.91948917147914]]\n"
     ]
    },
    {
     "name": "stderr",
     "output_type": "stream",
     "text": [
      "\r",
      " 93%|█████████▎| 681/733 [05:56<00:30,  1.69it/s]"
     ]
    },
    {
     "name": "stdout",
     "output_type": "stream",
     "text": [
      "[[None, '7D', 'FN05C', 55.16076147706873], [None, '7D', 'FN04C', 62.540626571116604], [None, '7D', 'J49C', 62.8696065856458], [None, '7D', 'FN02C', 75.17178006706732], [None, '7D', 'FN01C', 77.41070269852872]]\n"
     ]
    },
    {
     "name": "stderr",
     "output_type": "stream",
     "text": [
      " 93%|█████████▎| 683/733 [05:57<00:27,  1.80it/s]"
     ]
    },
    {
     "name": "stdout",
     "output_type": "stream",
     "text": [
      "[[None, '7D', 'FN01C', 105.39390608283891], [None, '7D', 'FN02C', 114.8988310600495], [None, '7D', 'FN04C', 125.84792484544724], [None, '7D', 'FN05C', 127.7545387727464]]\n"
     ]
    },
    {
     "name": "stderr",
     "output_type": "stream",
     "text": [
      " 94%|█████████▍| 692/733 [06:02<00:18,  2.26it/s]"
     ]
    },
    {
     "name": "stdout",
     "output_type": "stream",
     "text": [
      "[[None, '7D', 'J49C', 12.952519102367392], [None, '7D', 'FN03C', 54.288519824852], [None, '7D', 'FN04C', 59.729234964729876]]\n"
     ]
    },
    {
     "name": "stderr",
     "output_type": "stream",
     "text": [
      " 95%|█████████▍| 695/733 [06:03<00:19,  1.97it/s]"
     ]
    },
    {
     "name": "stdout",
     "output_type": "stream",
     "text": [
      "[[None, '7D', 'FN02C', 172.7030200239381], [None, '7D', 'FN03C', 182.76248480854514], [None, '7D', 'FN04C', 184.0103473568529], [None, '7D', 'J49C', 219.5465182704066]]\n"
     ]
    },
    {
     "name": "stderr",
     "output_type": "stream",
     "text": [
      " 95%|█████████▌| 699/733 [06:05<00:15,  2.19it/s]"
     ]
    },
    {
     "name": "stdout",
     "output_type": "stream",
     "text": [
      "[[None, '7D', 'FN05C', 307.39738983212857], [None, '7D', 'FN04C', 310.1674555698727], [None, '7D', 'FN03C', 316.47906233020143], [None, '7D', 'FN02C', 322.5112628255169], [None, '7D', 'J49C', 336.60141584391226]]\n"
     ]
    },
    {
     "name": "stderr",
     "output_type": "stream",
     "text": [
      "\r",
      " 95%|█████████▌| 700/733 [06:06<00:16,  1.95it/s]"
     ]
    },
    {
     "name": "stdout",
     "output_type": "stream",
     "text": [
      "[[None, '7D', 'FN02C', 258.691267281789], [None, '7D', 'FN01C', 264.58068954413244], [None, '7D', 'FN04C', 265.30541979110643], [None, '7D', 'FN03C', 267.1339017231089], [None, '7D', 'J49C', 314.4715116754005]]\n"
     ]
    },
    {
     "name": "stderr",
     "output_type": "stream",
     "text": [
      "\r",
      " 96%|█████████▌| 701/733 [06:06<00:15,  2.01it/s]"
     ]
    },
    {
     "name": "stdout",
     "output_type": "stream",
     "text": [
      "[[None, '7D', 'FN02C', 149.18197920541925], [None, '7D', 'FN03C', 158.85871771802752], [None, '7D', 'FN04C', 162.61861722284402], [None, '7D', 'J49C', 181.04680863135863]]\n"
     ]
    },
    {
     "name": "stderr",
     "output_type": "stream",
     "text": [
      " 96%|█████████▌| 705/733 [06:08<00:14,  1.99it/s]"
     ]
    },
    {
     "name": "stdout",
     "output_type": "stream",
     "text": [
      "[[None, '7D', 'FN02C', 140.33734524340488], [None, '7D', 'FN04C', 144.9155676038317], [None, '7D', 'FN03C', 147.69105365147897], [None, '7D', 'FN05C', 152.06906521562985], [None, '7D', 'J49C', 197.21407081561958]]\n"
     ]
    },
    {
     "name": "stderr",
     "output_type": "stream",
     "text": [
      " 97%|█████████▋| 710/733 [06:10<00:10,  2.19it/s]"
     ]
    },
    {
     "name": "stdout",
     "output_type": "stream",
     "text": [
      "[[None, '7D', 'J49C', 20.420560628970563], [None, '7D', 'FN03C', 51.55262115157024], [None, '7D', 'FN04C', 53.74921126541299], [None, '7D', 'FN02C', 60.37752910087525]]\n"
     ]
    },
    {
     "name": "stderr",
     "output_type": "stream",
     "text": [
      " 98%|█████████▊| 715/733 [06:13<00:13,  1.36it/s]"
     ]
    },
    {
     "name": "stdout",
     "output_type": "stream",
     "text": [
      "[[None, '7D', 'J49C', 62.51126702814505], [None, '7D', 'FN01C', 80.4029966633141], [None, '7D', 'FN02C', 90.78901786214978], [None, '7D', 'FN05C', 97.07909293889273], [None, '7D', 'FN04C', 97.88039402358615]]\n"
     ]
    },
    {
     "name": "stderr",
     "output_type": "stream",
     "text": [
      " 98%|█████████▊| 719/733 [06:16<00:09,  1.55it/s]"
     ]
    },
    {
     "name": "stdout",
     "output_type": "stream",
     "text": [
      "[[None, '7D', 'FN04C', 330.87811905561585], [None, '7D', 'FN03C', 336.3508744865052], [None, '7D', 'J49C', 343.44127711357163], [None, '7D', 'FN02C', 344.3196297844285], [None, '7D', 'FN01C', 350.8415173460167]]\n"
     ]
    },
    {
     "name": "stderr",
     "output_type": "stream",
     "text": [
      " 99%|█████████▉| 726/733 [06:19<00:03,  1.78it/s]"
     ]
    },
    {
     "name": "stdout",
     "output_type": "stream",
     "text": [
      "[[None, '7D', 'FN01C', 316.21733485656296], [None, '7D', 'FN02C', 320.9299668649616], [None, '7D', 'FN03C', 329.97419432347726], [None, '7D', 'FN04C', 334.56541161854005], [None, '7D', 'J49C', 341.05637114261697]]\n"
     ]
    },
    {
     "name": "stderr",
     "output_type": "stream",
     "text": [
      "100%|█████████▉| 731/733 [06:22<00:01,  1.79it/s]"
     ]
    },
    {
     "name": "stdout",
     "output_type": "stream",
     "text": [
      "[[None, '7D', 'FN05C', 313.10280616855124], [None, '7D', 'J49C', 316.87509021162606], [None, '7D', 'FN03C', 323.5504458595155], [None, '7D', 'FN02C', 332.9156600910252], [None, '7D', 'FN01C', 337.06257223243836]]\n"
     ]
    },
    {
     "name": "stderr",
     "output_type": "stream",
     "text": [
      "100%|██████████| 733/733 [06:23<00:00,  1.91it/s]\n"
     ]
    },
    {
     "data": {
      "text/html": [
       "<div>\n",
       "<style scoped>\n",
       "    .dataframe tbody tr th:only-of-type {\n",
       "        vertical-align: middle;\n",
       "    }\n",
       "\n",
       "    .dataframe tbody tr th {\n",
       "        vertical-align: top;\n",
       "    }\n",
       "\n",
       "    .dataframe thead th {\n",
       "        text-align: right;\n",
       "    }\n",
       "</style>\n",
       "<table border=\"1\" class=\"dataframe\">\n",
       "  <thead>\n",
       "    <tr style=\"text-align: right;\">\n",
       "      <th></th>\n",
       "      <th>Unnamed: 0.1</th>\n",
       "      <th>Unnamed: 0</th>\n",
       "      <th>idx</th>\n",
       "      <th>time</th>\n",
       "      <th>x</th>\n",
       "      <th>y</th>\n",
       "      <th>z</th>\n",
       "      <th>picks</th>\n",
       "      <th>latitude</th>\n",
       "      <th>longitude</th>\n",
       "      <th>depth</th>\n",
       "      <th>event_idx</th>\n",
       "      <th>pick_idx</th>\n",
       "      <th>residual</th>\n",
       "      <th>station</th>\n",
       "      <th>phase</th>\n",
       "      <th>time_pick</th>\n",
       "      <th>datetime</th>\n",
       "    </tr>\n",
       "  </thead>\n",
       "  <tbody>\n",
       "    <tr>\n",
       "      <th>1</th>\n",
       "      <td>1</td>\n",
       "      <td>6</td>\n",
       "      <td>8</td>\n",
       "      <td>2014-01-01 05:54:38.249747+00:00</td>\n",
       "      <td>64.149414</td>\n",
       "      <td>251.505620</td>\n",
       "      <td>23.828125</td>\n",
       "      <td>6</td>\n",
       "      <td>46.759798</td>\n",
       "      <td>-124.660304</td>\n",
       "      <td>23.828125</td>\n",
       "      <td>8</td>\n",
       "      <td>439121</td>\n",
       "      <td>-0.860182</td>\n",
       "      <td>FN02C</td>\n",
       "      <td>P</td>\n",
       "      <td>1.388556e+09</td>\n",
       "      <td>2014-01-01 05:54:38.249747+00:00</td>\n",
       "    </tr>\n",
       "    <tr>\n",
       "      <th>3</th>\n",
       "      <td>3</td>\n",
       "      <td>18</td>\n",
       "      <td>35</td>\n",
       "      <td>2014-01-01 20:47:42.700244+00:00</td>\n",
       "      <td>79.768402</td>\n",
       "      <td>262.948836</td>\n",
       "      <td>0.390625</td>\n",
       "      <td>6</td>\n",
       "      <td>46.861035</td>\n",
       "      <td>-124.453894</td>\n",
       "      <td>0.390625</td>\n",
       "      <td>35</td>\n",
       "      <td>725690</td>\n",
       "      <td>-0.830630</td>\n",
       "      <td>FN01C</td>\n",
       "      <td>P</td>\n",
       "      <td>1.388609e+09</td>\n",
       "      <td>2014-01-01 20:47:42.700244+00:00</td>\n",
       "    </tr>\n",
       "    <tr>\n",
       "      <th>5</th>\n",
       "      <td>5</td>\n",
       "      <td>30</td>\n",
       "      <td>57</td>\n",
       "      <td>2014-01-02 02:06:34.103257+00:00</td>\n",
       "      <td>106.543810</td>\n",
       "      <td>282.974463</td>\n",
       "      <td>25.390625</td>\n",
       "      <td>6</td>\n",
       "      <td>47.037370</td>\n",
       "      <td>-124.098152</td>\n",
       "      <td>25.390625</td>\n",
       "      <td>57</td>\n",
       "      <td>361802</td>\n",
       "      <td>-0.638696</td>\n",
       "      <td>FN03C</td>\n",
       "      <td>P</td>\n",
       "      <td>1.388628e+09</td>\n",
       "      <td>2014-01-02 02:06:34.103257+00:00</td>\n",
       "    </tr>\n",
       "    <tr>\n",
       "      <th>6</th>\n",
       "      <td>6</td>\n",
       "      <td>36</td>\n",
       "      <td>65</td>\n",
       "      <td>2014-01-02 05:36:24.121939+00:00</td>\n",
       "      <td>89.809180</td>\n",
       "      <td>285.835267</td>\n",
       "      <td>10.546875</td>\n",
       "      <td>6</td>\n",
       "      <td>47.065581</td>\n",
       "      <td>-124.317717</td>\n",
       "      <td>10.546875</td>\n",
       "      <td>65</td>\n",
       "      <td>687406</td>\n",
       "      <td>0.259603</td>\n",
       "      <td>FN02C</td>\n",
       "      <td>P</td>\n",
       "      <td>1.388641e+09</td>\n",
       "      <td>2014-01-02 05:36:24.121939+00:00</td>\n",
       "    </tr>\n",
       "    <tr>\n",
       "      <th>8</th>\n",
       "      <td>8</td>\n",
       "      <td>48</td>\n",
       "      <td>76</td>\n",
       "      <td>2014-01-02 09:03:53.383755+00:00</td>\n",
       "      <td>78.652760</td>\n",
       "      <td>262.948836</td>\n",
       "      <td>3.515625</td>\n",
       "      <td>6</td>\n",
       "      <td>46.861168</td>\n",
       "      <td>-124.468522</td>\n",
       "      <td>3.515625</td>\n",
       "      <td>76</td>\n",
       "      <td>1584040</td>\n",
       "      <td>-0.090163</td>\n",
       "      <td>FN02C</td>\n",
       "      <td>S</td>\n",
       "      <td>1.388653e+09</td>\n",
       "      <td>2014-01-02 09:03:53.383755+00:00</td>\n",
       "    </tr>\n",
       "    <tr>\n",
       "      <th>...</th>\n",
       "      <td>...</td>\n",
       "      <td>...</td>\n",
       "      <td>...</td>\n",
       "      <td>...</td>\n",
       "      <td>...</td>\n",
       "      <td>...</td>\n",
       "      <td>...</td>\n",
       "      <td>...</td>\n",
       "      <td>...</td>\n",
       "      <td>...</td>\n",
       "      <td>...</td>\n",
       "      <td>...</td>\n",
       "      <td>...</td>\n",
       "      <td>...</td>\n",
       "      <td>...</td>\n",
       "      <td>...</td>\n",
       "      <td>...</td>\n",
       "      <td>...</td>\n",
       "    </tr>\n",
       "    <tr>\n",
       "      <th>740</th>\n",
       "      <td>740</td>\n",
       "      <td>4527</td>\n",
       "      <td>6522</td>\n",
       "      <td>2014-06-21 16:16:26.745979+00:00</td>\n",
       "      <td>83.115328</td>\n",
       "      <td>270.100846</td>\n",
       "      <td>9.765625</td>\n",
       "      <td>6</td>\n",
       "      <td>46.924949</td>\n",
       "      <td>-124.408705</td>\n",
       "      <td>9.765625</td>\n",
       "      <td>6522</td>\n",
       "      <td>308110</td>\n",
       "      <td>1.093775</td>\n",
       "      <td>FN02C</td>\n",
       "      <td>P</td>\n",
       "      <td>1.403367e+09</td>\n",
       "      <td>2014-06-21 16:16:26.745979+00:00</td>\n",
       "    </tr>\n",
       "    <tr>\n",
       "      <th>741</th>\n",
       "      <td>741</td>\n",
       "      <td>4533</td>\n",
       "      <td>6575</td>\n",
       "      <td>2014-06-24 19:45:52.044683+00:00</td>\n",
       "      <td>65.265056</td>\n",
       "      <td>267.240042</td>\n",
       "      <td>3.515625</td>\n",
       "      <td>6</td>\n",
       "      <td>46.901212</td>\n",
       "      <td>-124.643457</td>\n",
       "      <td>3.515625</td>\n",
       "      <td>6575</td>\n",
       "      <td>227250</td>\n",
       "      <td>1.386195</td>\n",
       "      <td>FN03C</td>\n",
       "      <td>P</td>\n",
       "      <td>1.403639e+09</td>\n",
       "      <td>2014-06-24 19:45:52.044683+00:00</td>\n",
       "    </tr>\n",
       "    <tr>\n",
       "      <th>742</th>\n",
       "      <td>742</td>\n",
       "      <td>4539</td>\n",
       "      <td>6589</td>\n",
       "      <td>2014-06-25 09:27:07.639354+00:00</td>\n",
       "      <td>83.115328</td>\n",
       "      <td>241.492807</td>\n",
       "      <td>17.578125</td>\n",
       "      <td>6</td>\n",
       "      <td>46.667652</td>\n",
       "      <td>-124.413895</td>\n",
       "      <td>17.578125</td>\n",
       "      <td>6589</td>\n",
       "      <td>350248</td>\n",
       "      <td>-0.313404</td>\n",
       "      <td>FN02C</td>\n",
       "      <td>P</td>\n",
       "      <td>1.403688e+09</td>\n",
       "      <td>2014-06-25 09:27:07.639354+00:00</td>\n",
       "    </tr>\n",
       "    <tr>\n",
       "      <th>744</th>\n",
       "      <td>744</td>\n",
       "      <td>4551</td>\n",
       "      <td>6601</td>\n",
       "      <td>2014-06-25 20:47:18.763527+00:00</td>\n",
       "      <td>51.877352</td>\n",
       "      <td>268.670444</td>\n",
       "      <td>1.171875</td>\n",
       "      <td>6</td>\n",
       "      <td>46.915258</td>\n",
       "      <td>-124.818981</td>\n",
       "      <td>1.171875</td>\n",
       "      <td>6601</td>\n",
       "      <td>1266061</td>\n",
       "      <td>-0.300317</td>\n",
       "      <td>FN02C</td>\n",
       "      <td>S</td>\n",
       "      <td>1.403729e+09</td>\n",
       "      <td>2014-06-25 20:47:18.763527+00:00</td>\n",
       "    </tr>\n",
       "    <tr>\n",
       "      <th>745</th>\n",
       "      <td>745</td>\n",
       "      <td>4557</td>\n",
       "      <td>6609</td>\n",
       "      <td>2014-06-26 01:08:02.810201+00:00</td>\n",
       "      <td>66.380698</td>\n",
       "      <td>267.240042</td>\n",
       "      <td>10.546875</td>\n",
       "      <td>7</td>\n",
       "      <td>46.901101</td>\n",
       "      <td>-124.628817</td>\n",
       "      <td>10.546875</td>\n",
       "      <td>6609</td>\n",
       "      <td>655805</td>\n",
       "      <td>1.468220</td>\n",
       "      <td>FN01C</td>\n",
       "      <td>P</td>\n",
       "      <td>1.403745e+09</td>\n",
       "      <td>2014-06-26 01:08:02.810201+00:00</td>\n",
       "    </tr>\n",
       "  </tbody>\n",
       "</table>\n",
       "<p>587 rows × 18 columns</p>\n",
       "</div>"
      ],
      "text/plain": [
       "     Unnamed: 0.1  Unnamed: 0   idx                              time  \\\n",
       "1               1           6     8  2014-01-01 05:54:38.249747+00:00   \n",
       "3               3          18    35  2014-01-01 20:47:42.700244+00:00   \n",
       "5               5          30    57  2014-01-02 02:06:34.103257+00:00   \n",
       "6               6          36    65  2014-01-02 05:36:24.121939+00:00   \n",
       "8               8          48    76  2014-01-02 09:03:53.383755+00:00   \n",
       "..            ...         ...   ...                               ...   \n",
       "740           740        4527  6522  2014-06-21 16:16:26.745979+00:00   \n",
       "741           741        4533  6575  2014-06-24 19:45:52.044683+00:00   \n",
       "742           742        4539  6589  2014-06-25 09:27:07.639354+00:00   \n",
       "744           744        4551  6601  2014-06-25 20:47:18.763527+00:00   \n",
       "745           745        4557  6609  2014-06-26 01:08:02.810201+00:00   \n",
       "\n",
       "              x           y          z  picks   latitude   longitude  \\\n",
       "1     64.149414  251.505620  23.828125      6  46.759798 -124.660304   \n",
       "3     79.768402  262.948836   0.390625      6  46.861035 -124.453894   \n",
       "5    106.543810  282.974463  25.390625      6  47.037370 -124.098152   \n",
       "6     89.809180  285.835267  10.546875      6  47.065581 -124.317717   \n",
       "8     78.652760  262.948836   3.515625      6  46.861168 -124.468522   \n",
       "..          ...         ...        ...    ...        ...         ...   \n",
       "740   83.115328  270.100846   9.765625      6  46.924949 -124.408705   \n",
       "741   65.265056  267.240042   3.515625      6  46.901212 -124.643457   \n",
       "742   83.115328  241.492807  17.578125      6  46.667652 -124.413895   \n",
       "744   51.877352  268.670444   1.171875      6  46.915258 -124.818981   \n",
       "745   66.380698  267.240042  10.546875      7  46.901101 -124.628817   \n",
       "\n",
       "         depth  event_idx  pick_idx  residual station phase     time_pick  \\\n",
       "1    23.828125          8    439121 -0.860182   FN02C     P  1.388556e+09   \n",
       "3     0.390625         35    725690 -0.830630   FN01C     P  1.388609e+09   \n",
       "5    25.390625         57    361802 -0.638696   FN03C     P  1.388628e+09   \n",
       "6    10.546875         65    687406  0.259603   FN02C     P  1.388641e+09   \n",
       "8     3.515625         76   1584040 -0.090163   FN02C     S  1.388653e+09   \n",
       "..         ...        ...       ...       ...     ...   ...           ...   \n",
       "740   9.765625       6522    308110  1.093775   FN02C     P  1.403367e+09   \n",
       "741   3.515625       6575    227250  1.386195   FN03C     P  1.403639e+09   \n",
       "742  17.578125       6589    350248 -0.313404   FN02C     P  1.403688e+09   \n",
       "744   1.171875       6601   1266061 -0.300317   FN02C     S  1.403729e+09   \n",
       "745  10.546875       6609    655805  1.468220   FN01C     P  1.403745e+09   \n",
       "\n",
       "                             datetime  \n",
       "1    2014-01-01 05:54:38.249747+00:00  \n",
       "3    2014-01-01 20:47:42.700244+00:00  \n",
       "5    2014-01-02 02:06:34.103257+00:00  \n",
       "6    2014-01-02 05:36:24.121939+00:00  \n",
       "8    2014-01-02 09:03:53.383755+00:00  \n",
       "..                                ...  \n",
       "740  2014-06-21 16:16:26.745979+00:00  \n",
       "741  2014-06-24 19:45:52.044683+00:00  \n",
       "742  2014-06-25 09:27:07.639354+00:00  \n",
       "744  2014-06-25 20:47:18.763527+00:00  \n",
       "745  2014-06-26 01:08:02.810201+00:00  \n",
       "\n",
       "[587 rows x 18 columns]"
      ]
     },
     "execution_count": 17,
     "metadata": {},
     "output_type": "execute_result"
    }
   ],
   "source": [
    "\"\"\"\n",
    "Inputs:\n",
    "1. Either of the following files can be the input:\n",
    "    1. matched_events_with_morton_mycatalog.csv from the 4_quality_control file\n",
    "    2. matched_events_with_anss_mycatalog.csv from the 4_quality_control file\n",
    "    3. new_events.csv from the 4_quality_control file\n",
    "2. The all_pick_assignments CSV file from the 3_associate file: e.g., all_pick_assignments = pd.read_csv('../data/datasets_2012/all_pick_assignments_2012.csv')\n",
    "\n",
    "\n",
    "Outputs:\n",
    "1. A new dataframe that only has events that fall into the following categories:\n",
    "    1. For an event, at least two stations have to be less than 50 km from the event and no station can be 100 km apart from each other.\n",
    "2. An event has to have more than or equal to 6 picks\n",
    "\"\"\"\n",
    "\n",
    "# Parameters\n",
    "client2 = Client(\"IRIS\")\n",
    "\n",
    "mycatalog = all_pick_assignments.drop_duplicates(subset=['idx'])\n",
    "mycatalog['datetime'] = pd.to_datetime(mycatalog['time'], utc = True)\n",
    "\n",
    "for i, idx in tqdm(enumerate(events['idx']),total=len(events['idx'])):\n",
    "    event = mycatalog\n",
    "    picks = all_pick_assignments\n",
    "    picks_idx = picks.loc[picks['idx']==idx]\n",
    "    pick_sta = np.unique(picks_idx['station'])\n",
    "    otime = UTCDateTime(str(event[event['idx'] == idx][\"datetime\"].values[0]))\n",
    "    distances = []\n",
    "    max_dist = 10\n",
    "    min_dist = 0\n",
    "    for station in pick_sta:\n",
    "\n",
    "\n",
    "        sta_inv = client2.get_stations(network='*',\n",
    "                                       station=station, channel=\"?H?\", \n",
    "                                       starttime=otime - 1e8, endtime=otime + 1e8,level=\"response\")\n",
    "        if len(sta_inv) == 0:\n",
    "            print(f\"Failed to fetch for {networks} {station} {otime}\")\n",
    "            continue\n",
    "\n",
    "        _network = sta_inv[0].code\n",
    "        slat = sta_inv[0][0].latitude\n",
    "        slon = sta_inv[0][0].longitude\n",
    "        olat = event.loc[event['idx']==idx, 'latitude'].values[0]\n",
    "        olon = event.loc[event['idx']==idx, 'longitude'].values[0]\n",
    "\n",
    "        dis1 = locations2degrees(olat, olon, slat, slon)\n",
    "        dist = degrees2kilometers(dis1)\n",
    "\n",
    "        distances.append([None, _network, station, dist])\n",
    "\n",
    "    # Sort distances\n",
    "    distances = sorted(distances, key=lambda item: item[-1])\n",
    "\n",
    "    # This is for the first criterion in the markdown above\n",
    "    # Determine if any two of the numbers in the distances list are less than or equal to 50\n",
    "    found = False\n",
    "    for i in range(len(distances)):\n",
    "        for j in range(i + 1, len(distances)):\n",
    "            if distances[i][3] <= 50 and distances[j][3] <= 50:\n",
    "                found = True\n",
    "                break\n",
    "        if found:\n",
    "            break\n",
    "\n",
    "    # Make a list that includes the differences between the consecutive numbers in the distances list.\n",
    "    differences = [distances[i+1][3] - distances[i][3] for i in range(len(distances) - 1)]\n",
    "\n",
    "    if found == False: # If there were not at least two distances between the station and the event less than or equal to 50 km\n",
    "        print(distances)\n",
    "        index = events[events['idx'] == idx].index\n",
    "        events = events.drop(index=index)\n",
    "\n",
    "    elif any(differences > 100 for differences in differences): # If any of the distances between two stations were greater than 100 km\n",
    "        print(distances)\n",
    "        index = events[events['idx'] == idx].index\n",
    "        events = events.drop(index=index)\n",
    "\n",
    "    else: \n",
    "        continue\n",
    "\n",
    "\n",
    "events "
   ]
  },
  {
   "cell_type": "code",
   "execution_count": null,
   "id": "c3444633",
   "metadata": {
    "scrolled": true
   },
   "outputs": [],
   "source": [
    "new_events_filtered = filter_sta(new_events, mycatalog_picks)"
   ]
  },
  {
   "cell_type": "code",
   "execution_count": null,
   "id": "8da81e6d",
   "metadata": {},
   "outputs": [],
   "source": [
    "new_events_filtered.to_csv(f'../data/datasets_{year}/new_events_filtered_{year}.csv')"
   ]
  },
  {
   "cell_type": "code",
   "execution_count": 20,
   "id": "1f4637d1",
   "metadata": {},
   "outputs": [],
   "source": [
    "events.to_csv(f'../data/datasets_{year}/new_events_filtered_{year}.csv')"
   ]
  },
  {
   "cell_type": "code",
   "execution_count": 19,
   "id": "575d60f4",
   "metadata": {},
   "outputs": [
    {
     "data": {
      "text/html": [
       "<div>\n",
       "<style scoped>\n",
       "    .dataframe tbody tr th:only-of-type {\n",
       "        vertical-align: middle;\n",
       "    }\n",
       "\n",
       "    .dataframe tbody tr th {\n",
       "        vertical-align: top;\n",
       "    }\n",
       "\n",
       "    .dataframe thead th {\n",
       "        text-align: right;\n",
       "    }\n",
       "</style>\n",
       "<table border=\"1\" class=\"dataframe\">\n",
       "  <thead>\n",
       "    <tr style=\"text-align: right;\">\n",
       "      <th></th>\n",
       "      <th>Unnamed: 0.1</th>\n",
       "      <th>Unnamed: 0</th>\n",
       "      <th>idx</th>\n",
       "      <th>time</th>\n",
       "      <th>x</th>\n",
       "      <th>y</th>\n",
       "      <th>z</th>\n",
       "      <th>picks</th>\n",
       "      <th>latitude</th>\n",
       "      <th>longitude</th>\n",
       "      <th>depth</th>\n",
       "      <th>event_idx</th>\n",
       "      <th>pick_idx</th>\n",
       "      <th>residual</th>\n",
       "      <th>station</th>\n",
       "      <th>phase</th>\n",
       "      <th>time_pick</th>\n",
       "      <th>datetime</th>\n",
       "    </tr>\n",
       "  </thead>\n",
       "  <tbody>\n",
       "    <tr>\n",
       "      <th>1</th>\n",
       "      <td>1</td>\n",
       "      <td>6</td>\n",
       "      <td>8</td>\n",
       "      <td>2014-01-01 05:54:38.249747+00:00</td>\n",
       "      <td>64.149414</td>\n",
       "      <td>251.505620</td>\n",
       "      <td>23.828125</td>\n",
       "      <td>6</td>\n",
       "      <td>46.759798</td>\n",
       "      <td>-124.660304</td>\n",
       "      <td>23.828125</td>\n",
       "      <td>8</td>\n",
       "      <td>439121</td>\n",
       "      <td>-0.860182</td>\n",
       "      <td>FN02C</td>\n",
       "      <td>P</td>\n",
       "      <td>1.388556e+09</td>\n",
       "      <td>2014-01-01 05:54:38.249747+00:00</td>\n",
       "    </tr>\n",
       "    <tr>\n",
       "      <th>3</th>\n",
       "      <td>3</td>\n",
       "      <td>18</td>\n",
       "      <td>35</td>\n",
       "      <td>2014-01-01 20:47:42.700244+00:00</td>\n",
       "      <td>79.768402</td>\n",
       "      <td>262.948836</td>\n",
       "      <td>0.390625</td>\n",
       "      <td>6</td>\n",
       "      <td>46.861035</td>\n",
       "      <td>-124.453894</td>\n",
       "      <td>0.390625</td>\n",
       "      <td>35</td>\n",
       "      <td>725690</td>\n",
       "      <td>-0.830630</td>\n",
       "      <td>FN01C</td>\n",
       "      <td>P</td>\n",
       "      <td>1.388609e+09</td>\n",
       "      <td>2014-01-01 20:47:42.700244+00:00</td>\n",
       "    </tr>\n",
       "    <tr>\n",
       "      <th>5</th>\n",
       "      <td>5</td>\n",
       "      <td>30</td>\n",
       "      <td>57</td>\n",
       "      <td>2014-01-02 02:06:34.103257+00:00</td>\n",
       "      <td>106.543810</td>\n",
       "      <td>282.974463</td>\n",
       "      <td>25.390625</td>\n",
       "      <td>6</td>\n",
       "      <td>47.037370</td>\n",
       "      <td>-124.098152</td>\n",
       "      <td>25.390625</td>\n",
       "      <td>57</td>\n",
       "      <td>361802</td>\n",
       "      <td>-0.638696</td>\n",
       "      <td>FN03C</td>\n",
       "      <td>P</td>\n",
       "      <td>1.388628e+09</td>\n",
       "      <td>2014-01-02 02:06:34.103257+00:00</td>\n",
       "    </tr>\n",
       "    <tr>\n",
       "      <th>6</th>\n",
       "      <td>6</td>\n",
       "      <td>36</td>\n",
       "      <td>65</td>\n",
       "      <td>2014-01-02 05:36:24.121939+00:00</td>\n",
       "      <td>89.809180</td>\n",
       "      <td>285.835267</td>\n",
       "      <td>10.546875</td>\n",
       "      <td>6</td>\n",
       "      <td>47.065581</td>\n",
       "      <td>-124.317717</td>\n",
       "      <td>10.546875</td>\n",
       "      <td>65</td>\n",
       "      <td>687406</td>\n",
       "      <td>0.259603</td>\n",
       "      <td>FN02C</td>\n",
       "      <td>P</td>\n",
       "      <td>1.388641e+09</td>\n",
       "      <td>2014-01-02 05:36:24.121939+00:00</td>\n",
       "    </tr>\n",
       "    <tr>\n",
       "      <th>8</th>\n",
       "      <td>8</td>\n",
       "      <td>48</td>\n",
       "      <td>76</td>\n",
       "      <td>2014-01-02 09:03:53.383755+00:00</td>\n",
       "      <td>78.652760</td>\n",
       "      <td>262.948836</td>\n",
       "      <td>3.515625</td>\n",
       "      <td>6</td>\n",
       "      <td>46.861168</td>\n",
       "      <td>-124.468522</td>\n",
       "      <td>3.515625</td>\n",
       "      <td>76</td>\n",
       "      <td>1584040</td>\n",
       "      <td>-0.090163</td>\n",
       "      <td>FN02C</td>\n",
       "      <td>S</td>\n",
       "      <td>1.388653e+09</td>\n",
       "      <td>2014-01-02 09:03:53.383755+00:00</td>\n",
       "    </tr>\n",
       "    <tr>\n",
       "      <th>...</th>\n",
       "      <td>...</td>\n",
       "      <td>...</td>\n",
       "      <td>...</td>\n",
       "      <td>...</td>\n",
       "      <td>...</td>\n",
       "      <td>...</td>\n",
       "      <td>...</td>\n",
       "      <td>...</td>\n",
       "      <td>...</td>\n",
       "      <td>...</td>\n",
       "      <td>...</td>\n",
       "      <td>...</td>\n",
       "      <td>...</td>\n",
       "      <td>...</td>\n",
       "      <td>...</td>\n",
       "      <td>...</td>\n",
       "      <td>...</td>\n",
       "      <td>...</td>\n",
       "    </tr>\n",
       "    <tr>\n",
       "      <th>740</th>\n",
       "      <td>740</td>\n",
       "      <td>4527</td>\n",
       "      <td>6522</td>\n",
       "      <td>2014-06-21 16:16:26.745979+00:00</td>\n",
       "      <td>83.115328</td>\n",
       "      <td>270.100846</td>\n",
       "      <td>9.765625</td>\n",
       "      <td>6</td>\n",
       "      <td>46.924949</td>\n",
       "      <td>-124.408705</td>\n",
       "      <td>9.765625</td>\n",
       "      <td>6522</td>\n",
       "      <td>308110</td>\n",
       "      <td>1.093775</td>\n",
       "      <td>FN02C</td>\n",
       "      <td>P</td>\n",
       "      <td>1.403367e+09</td>\n",
       "      <td>2014-06-21 16:16:26.745979+00:00</td>\n",
       "    </tr>\n",
       "    <tr>\n",
       "      <th>741</th>\n",
       "      <td>741</td>\n",
       "      <td>4533</td>\n",
       "      <td>6575</td>\n",
       "      <td>2014-06-24 19:45:52.044683+00:00</td>\n",
       "      <td>65.265056</td>\n",
       "      <td>267.240042</td>\n",
       "      <td>3.515625</td>\n",
       "      <td>6</td>\n",
       "      <td>46.901212</td>\n",
       "      <td>-124.643457</td>\n",
       "      <td>3.515625</td>\n",
       "      <td>6575</td>\n",
       "      <td>227250</td>\n",
       "      <td>1.386195</td>\n",
       "      <td>FN03C</td>\n",
       "      <td>P</td>\n",
       "      <td>1.403639e+09</td>\n",
       "      <td>2014-06-24 19:45:52.044683+00:00</td>\n",
       "    </tr>\n",
       "    <tr>\n",
       "      <th>742</th>\n",
       "      <td>742</td>\n",
       "      <td>4539</td>\n",
       "      <td>6589</td>\n",
       "      <td>2014-06-25 09:27:07.639354+00:00</td>\n",
       "      <td>83.115328</td>\n",
       "      <td>241.492807</td>\n",
       "      <td>17.578125</td>\n",
       "      <td>6</td>\n",
       "      <td>46.667652</td>\n",
       "      <td>-124.413895</td>\n",
       "      <td>17.578125</td>\n",
       "      <td>6589</td>\n",
       "      <td>350248</td>\n",
       "      <td>-0.313404</td>\n",
       "      <td>FN02C</td>\n",
       "      <td>P</td>\n",
       "      <td>1.403688e+09</td>\n",
       "      <td>2014-06-25 09:27:07.639354+00:00</td>\n",
       "    </tr>\n",
       "    <tr>\n",
       "      <th>744</th>\n",
       "      <td>744</td>\n",
       "      <td>4551</td>\n",
       "      <td>6601</td>\n",
       "      <td>2014-06-25 20:47:18.763527+00:00</td>\n",
       "      <td>51.877352</td>\n",
       "      <td>268.670444</td>\n",
       "      <td>1.171875</td>\n",
       "      <td>6</td>\n",
       "      <td>46.915258</td>\n",
       "      <td>-124.818981</td>\n",
       "      <td>1.171875</td>\n",
       "      <td>6601</td>\n",
       "      <td>1266061</td>\n",
       "      <td>-0.300317</td>\n",
       "      <td>FN02C</td>\n",
       "      <td>S</td>\n",
       "      <td>1.403729e+09</td>\n",
       "      <td>2014-06-25 20:47:18.763527+00:00</td>\n",
       "    </tr>\n",
       "    <tr>\n",
       "      <th>745</th>\n",
       "      <td>745</td>\n",
       "      <td>4557</td>\n",
       "      <td>6609</td>\n",
       "      <td>2014-06-26 01:08:02.810201+00:00</td>\n",
       "      <td>66.380698</td>\n",
       "      <td>267.240042</td>\n",
       "      <td>10.546875</td>\n",
       "      <td>7</td>\n",
       "      <td>46.901101</td>\n",
       "      <td>-124.628817</td>\n",
       "      <td>10.546875</td>\n",
       "      <td>6609</td>\n",
       "      <td>655805</td>\n",
       "      <td>1.468220</td>\n",
       "      <td>FN01C</td>\n",
       "      <td>P</td>\n",
       "      <td>1.403745e+09</td>\n",
       "      <td>2014-06-26 01:08:02.810201+00:00</td>\n",
       "    </tr>\n",
       "  </tbody>\n",
       "</table>\n",
       "<p>587 rows × 18 columns</p>\n",
       "</div>"
      ],
      "text/plain": [
       "     Unnamed: 0.1  Unnamed: 0   idx                              time  \\\n",
       "1               1           6     8  2014-01-01 05:54:38.249747+00:00   \n",
       "3               3          18    35  2014-01-01 20:47:42.700244+00:00   \n",
       "5               5          30    57  2014-01-02 02:06:34.103257+00:00   \n",
       "6               6          36    65  2014-01-02 05:36:24.121939+00:00   \n",
       "8               8          48    76  2014-01-02 09:03:53.383755+00:00   \n",
       "..            ...         ...   ...                               ...   \n",
       "740           740        4527  6522  2014-06-21 16:16:26.745979+00:00   \n",
       "741           741        4533  6575  2014-06-24 19:45:52.044683+00:00   \n",
       "742           742        4539  6589  2014-06-25 09:27:07.639354+00:00   \n",
       "744           744        4551  6601  2014-06-25 20:47:18.763527+00:00   \n",
       "745           745        4557  6609  2014-06-26 01:08:02.810201+00:00   \n",
       "\n",
       "              x           y          z  picks   latitude   longitude  \\\n",
       "1     64.149414  251.505620  23.828125      6  46.759798 -124.660304   \n",
       "3     79.768402  262.948836   0.390625      6  46.861035 -124.453894   \n",
       "5    106.543810  282.974463  25.390625      6  47.037370 -124.098152   \n",
       "6     89.809180  285.835267  10.546875      6  47.065581 -124.317717   \n",
       "8     78.652760  262.948836   3.515625      6  46.861168 -124.468522   \n",
       "..          ...         ...        ...    ...        ...         ...   \n",
       "740   83.115328  270.100846   9.765625      6  46.924949 -124.408705   \n",
       "741   65.265056  267.240042   3.515625      6  46.901212 -124.643457   \n",
       "742   83.115328  241.492807  17.578125      6  46.667652 -124.413895   \n",
       "744   51.877352  268.670444   1.171875      6  46.915258 -124.818981   \n",
       "745   66.380698  267.240042  10.546875      7  46.901101 -124.628817   \n",
       "\n",
       "         depth  event_idx  pick_idx  residual station phase     time_pick  \\\n",
       "1    23.828125          8    439121 -0.860182   FN02C     P  1.388556e+09   \n",
       "3     0.390625         35    725690 -0.830630   FN01C     P  1.388609e+09   \n",
       "5    25.390625         57    361802 -0.638696   FN03C     P  1.388628e+09   \n",
       "6    10.546875         65    687406  0.259603   FN02C     P  1.388641e+09   \n",
       "8     3.515625         76   1584040 -0.090163   FN02C     S  1.388653e+09   \n",
       "..         ...        ...       ...       ...     ...   ...           ...   \n",
       "740   9.765625       6522    308110  1.093775   FN02C     P  1.403367e+09   \n",
       "741   3.515625       6575    227250  1.386195   FN03C     P  1.403639e+09   \n",
       "742  17.578125       6589    350248 -0.313404   FN02C     P  1.403688e+09   \n",
       "744   1.171875       6601   1266061 -0.300317   FN02C     S  1.403729e+09   \n",
       "745  10.546875       6609    655805  1.468220   FN01C     P  1.403745e+09   \n",
       "\n",
       "                             datetime  \n",
       "1    2014-01-01 05:54:38.249747+00:00  \n",
       "3    2014-01-01 20:47:42.700244+00:00  \n",
       "5    2014-01-02 02:06:34.103257+00:00  \n",
       "6    2014-01-02 05:36:24.121939+00:00  \n",
       "8    2014-01-02 09:03:53.383755+00:00  \n",
       "..                                ...  \n",
       "740  2014-06-21 16:16:26.745979+00:00  \n",
       "741  2014-06-24 19:45:52.044683+00:00  \n",
       "742  2014-06-25 09:27:07.639354+00:00  \n",
       "744  2014-06-25 20:47:18.763527+00:00  \n",
       "745  2014-06-26 01:08:02.810201+00:00  \n",
       "\n",
       "[587 rows x 18 columns]"
      ]
     },
     "execution_count": 19,
     "metadata": {},
     "output_type": "execute_result"
    }
   ],
   "source": [
    "events"
   ]
  },
  {
   "cell_type": "code",
   "execution_count": null,
   "id": "96d11af4",
   "metadata": {},
   "outputs": [],
   "source": [
    "count = 0\n",
    "for i, idx in enumerate(range(0,10,1)):\n",
    "    print(i,idx,count)\n",
    "    count+=1\n",
    "\n",
    "print(count)"
   ]
  },
  {
   "cell_type": "code",
   "execution_count": null,
   "id": "65d60411",
   "metadata": {},
   "outputs": [],
   "source": [
    "new_events"
   ]
  },
  {
   "cell_type": "markdown",
   "id": "d9aaac94",
   "metadata": {},
   "source": [
    "## Plot using the plotting functions"
   ]
  },
  {
   "cell_type": "code",
   "execution_count": null,
   "id": "84953e3a",
   "metadata": {},
   "outputs": [],
   "source": [
    "all_picks = pd.read_csv('../data/datasets_2014/all_picks_2014_for_assoc.csv')"
   ]
  },
  {
   "cell_type": "code",
   "execution_count": null,
   "id": "444b3861",
   "metadata": {},
   "outputs": [],
   "source": [
    "all_picks"
   ]
  },
  {
   "cell_type": "code",
   "execution_count": null,
   "id": "921e15bb",
   "metadata": {},
   "outputs": [],
   "source": [
    "all_picks_networks = all_picks['station_network_code'].drop_duplicates()\n",
    "list_networks = list(all_picks_networks)\n",
    "all_picks_networks = ','.join(all_picks_networks)\n",
    "all_picks_networks"
   ]
  },
  {
   "cell_type": "code",
   "execution_count": null,
   "id": "41a4493d",
   "metadata": {},
   "outputs": [],
   "source": [
    "list_networks"
   ]
  },
  {
   "cell_type": "code",
   "execution_count": null,
   "id": "b7d7dc2b",
   "metadata": {},
   "outputs": [],
   "source": [
    "# Clean up the memory\n",
    "del all_picks"
   ]
  },
  {
   "cell_type": "markdown",
   "id": "1ca3946e",
   "metadata": {},
   "source": [
    "## Plot the offshore events north of 44&deg; N"
   ]
  },
  {
   "cell_type": "code",
   "execution_count": null,
   "id": "7eb5ede4",
   "metadata": {},
   "outputs": [],
   "source": [
    "new_events = pd.read_csv('../data/datasets_2014/new_events.csv')"
   ]
  },
  {
   "cell_type": "code",
   "execution_count": null,
   "id": "cc7496a2",
   "metadata": {},
   "outputs": [],
   "source": [
    "new_events_44N_and_above= new_events.loc[(new_events['latitude']>44)&(new_events['longitude']<-124)]\n",
    "new_events_44N_and_above = new_events_44N_and_above[0:50] "
   ]
  },
  {
   "cell_type": "code",
   "execution_count": null,
   "id": "161b1476",
   "metadata": {},
   "outputs": [],
   "source": [
    "# parameters for subplots_cluster_scale\n",
    "mycatalog= mycatalog\n",
    "mycatalog_picks=mycatalog_picks\n",
    "networks= all_picks_networks\n",
    "channel= \"?H?\"\n",
    "idx_sta= 50\n",
    "title= \"Events matched\"\n",
    "fig_title= \"new_events_filtered_44N_and_above_plots.pdf\"\n",
    "\n",
    "subplots_cluster_scale(new_events_44N_and_above,mycatalog_picks,networks,channel,idx_sta,title,fig_title)"
   ]
  },
  {
   "cell_type": "code",
   "execution_count": null,
   "id": "4c5a80d9",
   "metadata": {},
   "outputs": [],
   "source": []
  },
  {
   "cell_type": "code",
   "execution_count": null,
   "id": "4634dd6c",
   "metadata": {},
   "outputs": [],
   "source": []
  },
  {
   "cell_type": "markdown",
   "id": "78356615",
   "metadata": {},
   "source": [
    "## Plot one of the cluster events at around 46.5&deg; N, 125&deg; W using the plotting functions "
   ]
  },
  {
   "cell_type": "code",
   "execution_count": null,
   "id": "a8e3d4bd",
   "metadata": {},
   "outputs": [],
   "source": [
    "def subplots_cluster_scale_p(idx, mycatalog, mycatalog_picks, networks, channel, idx_sta, title, fig_title):\n",
    "    \"\"\"\n",
    "    idx: event_idx\n",
    "    mycatalog: dataframe that contains only the unique picks (i.e., mycatalog_picks.drop_duplicates(subset=['idx']).copy())\n",
    "    mycatalog_picks: all pick assignments csv file (e.g., pd.read_csv('../data/datasets_OR/all_pick_assignments_OR.csv'))\n",
    "    networks: string of networks (e.g., \"NV,OO,7A\")\n",
    "    channel: specify the direction of the channel (i.e., \"?HZ\", \"?HE\" or \"?HN\")\n",
    "    idx_sta: choose the station to which you want to show the waveforms\n",
    "    title: title in a string\n",
    "    fig_title: figure title in as string\n",
    "    \"\"\"\n",
    "        \n",
    "    # Define the clients \n",
    "    client_waveform = WaveformClient()\n",
    "    client2 = Client(\"IRIS\")\n",
    "    client_ncedc = Client('NCEDC')\n",
    "\n",
    "\n",
    "    # Plot the earthquake moveout for one of the unmatched events for all stations \n",
    "    event = mycatalog\n",
    "    picks = mycatalog_picks\n",
    "    picks_idx = picks.loc[picks['idx']==idx]\n",
    "    pick_sta = np.unique(picks_idx['station'])\n",
    "    \n",
    "    otime = UTCDateTime(str(event[event['idx'] == idx][\"datetime\"].values[0]))\n",
    "    distances = []\n",
    "    max_dist = 10\n",
    "    min_dist = 0\n",
    "    \n",
    "    print(event[event['idx'] == idx]['picks'].values[0])\n",
    "    for station in pick_sta:\n",
    "        \n",
    "        \n",
    "        sta_inv = client2.get_stations(network=networks,\n",
    "                                       station=station, channel=\"?H?\", \n",
    "                                       starttime=otime - 1e8, endtime=otime + 1e8,level=\"response\")\n",
    "        if len(sta_inv) == 0:\n",
    "#             print(f\"Failed to fetch for {networks} {station} {otime}\")\n",
    "            continue\n",
    "            \n",
    "        _network = sta_inv[0].code\n",
    "        slat = sta_inv[0][0].latitude\n",
    "        slon = sta_inv[0][0].longitude\n",
    "        olat = event.loc[event['idx']==idx, 'latitude'].values[0]\n",
    "        olon = event.loc[event['idx']==idx, 'longitude'].values[0]\n",
    "        \n",
    "        dis1 = locations2degrees(olat, olon, slat, slon)\n",
    "        dist = degrees2kilometers(dis1)\n",
    "#         if max_dist < dist:\n",
    "#             max_dist = dist\n",
    "            \n",
    "#         if min_dist > dist:\n",
    "#             min_dist = dist\n",
    "            \n",
    "        distances.append([None, _network, station, dist])\n",
    "\n",
    "    # Sort distances\n",
    "    distances = sorted(distances, key=lambda item: item[-1])\n",
    "    distances = distances[:idx_sta+1]\n",
    "    \n",
    "    # Set up to define the xlim and ylim\n",
    "    max_y = 0\n",
    "    min_y = 0\n",
    "    # This count is for the if statements. Only used to ensure that min_y_count \n",
    "    #is changed from 0 to either the first positive value of the distance of one of the stations from the event\n",
    "    min_y_count = 0 \n",
    "    \n",
    "    max_x = 0\n",
    "    min_x = 0\n",
    "    \n",
    "    # This count is for the if statements. Only used to ensure that min_x_count \n",
    "    #is changed from 0 to either the first positive value of P pick time or the first positive value of S pick time\n",
    "    min_x_count= 0\n",
    "    # Create a figure\n",
    "    fig,axs = plt.subplots(1,4,figsize=(18,6))\n",
    "    gs = fig.add_gridspec(3, hspace=0, figure=fig)\n",
    "#     axs = gs.subplots(sharex=True, sharey=True)\n",
    "    starttime = otime -30\n",
    "    endtime = otime + 120\n",
    "    \n",
    "    # Define texts\n",
    "    texts = []\n",
    "    \n",
    "    for i, ii in enumerate(distances):\n",
    "            \n",
    "        if ii[1] in ['NC', 'BK']:\n",
    "            # Query waveforms\n",
    "            st = client_ncedc.get_waveforms(network=ii[1], station=ii[2], location=\"*\", channel=channel,starttime=starttime, endtime=endtime)\n",
    "\n",
    "        elif ii[1] in networks: \n",
    "            st = client_waveform.get_waveforms(network=ii[1], station=ii[2], channel=channel,starttime=starttime, endtime=endtime)\n",
    "  \n",
    "        else: \n",
    "            st =  Stream()\n",
    "            print(f\"WARNING: No data for {ii[1]}.{ii[2]}.{channel} on {otime}.\")    \n",
    "            continue\n",
    "            \n",
    "#         print(f\"len(st):{len(st)}\")\n",
    "#         print(st)\n",
    "    \n",
    "        # Skip empty traces\n",
    "        if len(st) == 0:\n",
    "                continue\n",
    "                \n",
    "        sta_picks = picks_idx[picks_idx['station'] == ii[2]]\n",
    "        p_picks = sta_picks.loc[sta_picks['phase'] == 'P']\n",
    "        s_picks = sta_picks.loc[sta_picks['phase'] == 'S']\n",
    "#         print(len(p_picks),len(s_picks))\n",
    "        \n",
    "        # Define the xlim values\n",
    "        # Define the maximum x value\n",
    "        if len(s_picks) > 0:\n",
    "            if max_x < UTCDateTime(s_picks.iloc[0]['time_pick']) - starttime:\n",
    "                max_x = UTCDateTime(s_picks.iloc[0]['time_pick']+5) - starttime\n",
    "        elif len(p_picks) > 0:\n",
    "            if max_x < UTCDateTime(p_picks.iloc[0]['time_pick']) - starttime: \n",
    "                max_x = UTCDateTime(p_picks.iloc[0]['time_pick']+5) - starttime\n",
    "        else:\n",
    "            print('No picks for this station. Skipping.')\n",
    "            continue \n",
    "            \n",
    "        # Define the minimum x value\n",
    "        if len(p_picks) > 0:\n",
    "            if min_x_count == 0:\n",
    "                if min_x < UTCDateTime(p_picks.iloc[0]['time_pick']) - starttime:\n",
    "                    min_x = UTCDateTime(p_picks.iloc[0]['time_pick']-5) - starttime\n",
    "                    min_x_count += 1           \n",
    "            else:\n",
    "                if min_x >= UTCDateTime(p_picks.iloc[0]['time_pick']) - starttime:\n",
    "                    min_x = UTCDateTime(p_picks.iloc[0]['time_pick']-5) - starttime            \n",
    "        elif len(s_picks) > 0:\n",
    "            if min_x_count == 0:\n",
    "                if min_x < UTCDateTime(s_picks.iloc[0]['time_pick'])- starttime:\n",
    "                    min_x = UTCDateTime(s_picks.iloc[0]['time_pick']-5)- starttime\n",
    "                    min_x_count += 1                \n",
    "            else:\n",
    "                if min_x >= UTCDateTime(s_picks.iloc[0]['time_pick'])- starttime:\n",
    "                    min_x = UTCDateTime(s_picks.iloc[0]['time_pick']-5) - starttime\n",
    "        else:\n",
    "            print('No picks for this station. Skipping.')\n",
    "            continue    \n",
    "            \n",
    "        if len(p_picks) == 0:\n",
    "            continue\n",
    "            \n",
    "#         print('This is after the p_pick continue statement')\n",
    "    \n",
    "        # Define ylim values\n",
    "        if min_y_count == 0:\n",
    "            if min_y < ii[3]:\n",
    "                min_y = ii[3] - 5\n",
    "                min_y_count += 1           \n",
    "        else:\n",
    "            if min_y >= ii[3]:\n",
    "                min_y = ii[3] - 5 \n",
    "                \n",
    "        max_y = ii[3] + 5\n",
    "        \n",
    "    scaling_factor = (1/2)*(max_y-min_y)   \n",
    "        \n",
    "    for i, ii in enumerate(distances):\n",
    "            \n",
    "        if ii[1] in ['NC', 'BK']:\n",
    "            # Query waveforms\n",
    "            st = client_ncedc.get_waveforms(network=ii[1], station=ii[2], location=\"*\", channel=channel,starttime=starttime, endtime=endtime)\n",
    "\n",
    "        elif ii[1] in networks: \n",
    "            st = client_waveform.get_waveforms(network=ii[1], station=ii[2], channel=channel,starttime=starttime, endtime=endtime)\n",
    "  \n",
    "        else: \n",
    "            st =  Stream()\n",
    "            print(f\"WARNING: No data for {ii[1]}.{ii[2]}.{channel} on {otime}.\")    \n",
    "            continue\n",
    "            \n",
    "#         print(f\"len(st):{len(st)}\")\n",
    "#         print(st)\n",
    "    \n",
    "        # Skip empty traces\n",
    "        if len(st) == 0:\n",
    "                continue\n",
    "        _st = Stream()\n",
    "        # Check for HH and BH channels presence\n",
    "        has_HH = bool(st.select(channel=\"HH?\"))\n",
    "        has_BH = bool(st.select(channel=\"BH?\"))\n",
    "\n",
    "        # Apply selection logic based on channel presence\n",
    "        if has_HH and has_BH:\n",
    "            # If both HH and BH channels are present, select only HH\n",
    "            _st += st.select(channel=\"HH?\")\n",
    "        elif has_HH:\n",
    "            # If only HH channels are present\n",
    "            _st += st.select(channel=\"HH?\")\n",
    "        elif has_BH:\n",
    "            # If only BH channels are present\n",
    "            _st += st.select(channel=\"BH?\")\n",
    "\n",
    "        st = _st\n",
    "\n",
    "        print(f'Second st print:{_st}')\n",
    "              \n",
    "        st = Stream(filter(lambda st: st.stats.sampling_rate > 10, st))\n",
    "        st.taper(max_percentage=0.05)\n",
    "        st.filter(type='bandpass', freqmin=2, freqmax=25)\n",
    "        st.merge(fill_value='interpolate') # fill gaps if there are any.\n",
    "\n",
    "#         print(st)\n",
    "        # Select only one trace per channel\n",
    "        unique_channels = set(tr.stats.channel for tr in st)\n",
    "        selected_traces = []\n",
    "        \n",
    "        for ch in unique_channels:\n",
    "            selected_traces.append(next(tr for tr in st if tr.stats.channel == ch))\n",
    "        st = Stream(selected_traces)\n",
    "                   \n",
    "        trim_st = st.copy()\n",
    "        sta_picks = picks_idx[picks_idx['station'] == ii[2]]\n",
    "        p_picks = sta_picks.loc[sta_picks['phase'] == 'P']\n",
    "        s_picks = sta_picks.loc[sta_picks['phase'] == 'S']\n",
    "#         print(len(p_picks),len(s_picks))\n",
    "        \n",
    "        \n",
    "                \n",
    "            \n",
    "        if len(p_picks) == 0:\n",
    "            continue \n",
    "#         print('This is after the p_pick continue statement')\n",
    "        print(trim_st)\n",
    "        \n",
    "        for iax in range(len(trim_st)):\n",
    "            print(iax)\n",
    "            sampling_rate = trim_st[iax].stats.sampling_rate\n",
    "            trim_st = trim_st.normalize()\n",
    "            \n",
    "            tp = UTCDateTime(p_picks.iloc[0]['time_pick']) - otime + 30\n",
    "            i1 = int((tp-5)*sampling_rate)\n",
    "            i2 = int((tp+15)*sampling_rate)\n",
    "\n",
    "            offsets1 = ii[3]\n",
    "            try: \n",
    "                wave = trim_st[iax].data\n",
    "                wave = wave / (np.nanmax(wave[i1:i2], axis=-1)*10)\n",
    "            except:\n",
    "                continue \n",
    "            \n",
    "#             print(trim_st[iax].stats.sampling_rate)\n",
    "            axs[iax].plot(trim_st[iax].times(), wave * scaling_factor + offsets1, \n",
    "                          color='black', label=f\"{trim_st[iax].stats.channel}\", alpha=0.7, lw=0.5)\n",
    "#             axs[iax].plot(trim_st[iax].times(), wave * 30 + offsets1, color='black', label=f\"{trim_st[iax].stats.channel}\", alpha=0.7, lw=0.5)\n",
    "\n",
    "#             axs[iax].text(xlim[-1] + 2,   offsets1, \n",
    "#                               [ii[2]], fontsize=8, verticalalignment='bottom')\n",
    "\n",
    "            if len(p_picks) > 0:\n",
    "                axs[iax].vlines(UTCDateTime(p_picks.iloc[0]['time_pick']) - otime + 30, offsets1 - (1/35) * scaling_factor, \n",
    "                                offsets1 + (1/35) * scaling_factor, color='r')\n",
    "            if len(s_picks) > 0:\n",
    "                axs[iax].vlines(UTCDateTime(s_picks.iloc[0]['time_pick']) - otime + 30, offsets1 - (1/35) * scaling_factor, \n",
    "                                offsets1 + (1/35) * scaling_factor, color='b')\n",
    "        texts.append([ii[2],ii[3]])\n",
    "\n",
    "    \n",
    "#     print(max_y,min_y)\n",
    "    chs = ['2','1','Z']\n",
    "    for iax in range(3):\n",
    "        for i, ii in enumerate(texts):\n",
    "            offsets1 = ii[1]\n",
    "            axs[iax].text(max_x + 0.5, offsets1, \n",
    "                                  [ii[0]], fontsize=8, verticalalignment='bottom')\n",
    "        axs[iax].legend(chs[iax],loc='upper right', handlelength=0)\n",
    "        axs[iax].set_ylim([min_y,max_y])\n",
    "        axs[iax].set_xlim([min_x,max_x])\n",
    "        axs[iax].grid(alpha=0.5)\n",
    "    fig.supxlabel('Time [sec]', y=0.07)\n",
    "    fig.supylabel('Distance [km]')\n",
    "    fig.suptitle(f\"{title}: Origin Time={otime}, \\n Latitude={round(event[event['idx']==idx]['latitude'].values[0], 2)}, Longtitude={round(event[event['idx']==idx]['longitude'].values[0], 2)}, Depth={round(event[event['idx']==idx]['depth'].values[0], 2)}\", y=1)\n",
    "    \n",
    "    m = Basemap(projection='merc', llcrnrlat=40, urcrnrlat=50, llcrnrlon=-130, urcrnrlon=-120, resolution='i', ax=axs[3])\n",
    "    m.drawcoastlines()\n",
    "    m.drawcountries()\n",
    "    m.drawstates()\n",
    "    m.drawmapboundary()\n",
    "    m.drawparallels(np.arange(40, 51, 1), labels=[1,0,0,0])\n",
    "    m.drawmeridians(np.arange(-130, -119, 1), labels=[0,0,0,1])\n",
    "    x, y = m(event[event['idx']==idx]['longitude'].values[0], event[event['idx']==idx]['latitude'].values[0])\n",
    "    m.plot(x, y, 'ro', markersize=9)\n",
    "    axs[3].set_title('Event Location')\n",
    "    \n",
    "    plt.show()\n"
   ]
  },
  {
   "cell_type": "code",
   "execution_count": null,
   "id": "0ba14668",
   "metadata": {},
   "outputs": [],
   "source": [
    "def subplots_cluster_scale(idx, mycatalog, mycatalog_picks, networks, channel, idx_sta, title, fig_title):\n",
    "    \"\"\"\n",
    "    idx: event_idx\n",
    "    mycatalog: dataframe that contains only the unique picks (i.e., mycatalog_picks.drop_duplicates(subset=['idx']).copy())\n",
    "    mycatalog_picks: all pick assignments csv file (e.g., pd.read_csv('../data/datasets_OR/all_pick_assignments_OR.csv'))\n",
    "    networks: string of networks (e.g., \"NV,OO,7A\")\n",
    "    channel: specify the direction of the channel (i.e., \"?HZ\", \"?HE\" or \"?HN\")\n",
    "    idx_sta: choose the station to which you want to show the waveforms\n",
    "    title: title in a string\n",
    "    fig_title: figure title in as string\n",
    "    \"\"\"\n",
    "        \n",
    "    # Define the clients \n",
    "    client_waveform = WaveformClient()\n",
    "    client2 = Client(\"IRIS\")\n",
    "    client_ncedc = Client('NCEDC')\n",
    "\n",
    "\n",
    "    # Plot the earthquake moveout for one of the unmatched events for all stations \n",
    "    event = mycatalog\n",
    "    picks = mycatalog_picks\n",
    "    \n",
    "    p = PdfPages(fig_title) \n",
    "    \n",
    "    for idx in event['idx']:\n",
    "        \n",
    "        picks_idx = picks.loc[picks['idx']==idx]\n",
    "        pick_sta = np.unique(picks_idx['station'])\n",
    "\n",
    "        otime = UTCDateTime(str(event[event['idx'] == idx][\"datetime\"].values[0]))\n",
    "        distances = []\n",
    "        max_dist = 10\n",
    "        min_dist = 0\n",
    "\n",
    "        print(event[event['idx'] == idx]['picks'].values[0])\n",
    "        for station in pick_sta:\n",
    "\n",
    "\n",
    "            sta_inv = client2.get_stations(network=networks,\n",
    "                                           station=station, channel=\"?H?\", \n",
    "                                           starttime=otime - 1e8, endtime=otime + 1e8,level=\"response\")\n",
    "            if len(sta_inv) == 0:\n",
    "    #             print(f\"Failed to fetch for {networks} {station} {otime}\")\n",
    "                continue\n",
    "\n",
    "            _network = sta_inv[0].code\n",
    "            slat = sta_inv[0][0].latitude\n",
    "            slon = sta_inv[0][0].longitude\n",
    "            olat = event.loc[event['idx']==idx, 'latitude'].values[0]\n",
    "            olon = event.loc[event['idx']==idx, 'longitude'].values[0]\n",
    "\n",
    "            dis1 = locations2degrees(olat, olon, slat, slon)\n",
    "            dist = degrees2kilometers(dis1)\n",
    "    #         if max_dist < dist:\n",
    "    #             max_dist = dist\n",
    "\n",
    "    #         if min_dist > dist:\n",
    "    #             min_dist = dist\n",
    "\n",
    "            distances.append([None, _network, station, dist])\n",
    "\n",
    "        # Sort distances\n",
    "        distances = sorted(distances, key=lambda item: item[-1])\n",
    "        distances = distances[:idx_sta+1]\n",
    "\n",
    "        # Set up to define the xlim and ylim\n",
    "        max_y = 0\n",
    "        min_y = 0\n",
    "        # This count is for the if statements. Only used to ensure that min_y_count \n",
    "        #is changed from 0 to either the first positive value of the distance of one of the stations from the event\n",
    "        min_y_count = 0 \n",
    "\n",
    "        max_x = 0\n",
    "        min_x = 0\n",
    "\n",
    "        # This count is for the if statements. Only used to ensure that min_x_count \n",
    "        #is changed from 0 to either the first positive value of P pick time or the first positive value of S pick time\n",
    "        min_x_count= 0\n",
    "        # Create a figure\n",
    "        fig,axs = plt.subplots(1,4,figsize=(18,6))\n",
    "        gs = fig.add_gridspec(3, hspace=0, figure=fig)\n",
    "    #     axs = gs.subplots(sharex=True, sharey=True)\n",
    "        starttime = otime -30\n",
    "        endtime = otime + 120\n",
    "\n",
    "        # Define texts\n",
    "        texts = []\n",
    "\n",
    "        for i, ii in enumerate(distances):\n",
    "\n",
    "            if ii[1] in ['NC', 'BK']:\n",
    "                # Query waveforms\n",
    "                st = client_ncedc.get_waveforms(network=ii[1], station=ii[2], location=\"*\", channel=channel,starttime=starttime, endtime=endtime)\n",
    "\n",
    "            elif ii[1] in networks: \n",
    "                st = client_waveform.get_waveforms(network=ii[1], station=ii[2], channel=channel,starttime=starttime, endtime=endtime)\n",
    "\n",
    "            else: \n",
    "                st =  Stream()\n",
    "                print(f\"WARNING: No data for {ii[1]}.{ii[2]}.{channel} on {otime}.\")    \n",
    "                continue\n",
    "\n",
    "    #         print(f\"len(st):{len(st)}\")\n",
    "    #         print(st)\n",
    "\n",
    "            # Skip empty traces\n",
    "            if len(st) == 0:\n",
    "                    continue\n",
    "\n",
    "            sta_picks = picks_idx[picks_idx['station'] == ii[2]]\n",
    "            p_picks = sta_picks.loc[sta_picks['phase'] == 'P']\n",
    "            s_picks = sta_picks.loc[sta_picks['phase'] == 'S']\n",
    "    #         print(len(p_picks),len(s_picks))\n",
    "\n",
    "            # Define the xlim values\n",
    "            # Define the maximum x value\n",
    "            if len(s_picks) > 0:\n",
    "                if max_x < UTCDateTime(s_picks.iloc[0]['time_pick']) - starttime:\n",
    "                    max_x = UTCDateTime(s_picks.iloc[0]['time_pick']+5) - starttime\n",
    "            elif len(p_picks) > 0:\n",
    "                if max_x < UTCDateTime(p_picks.iloc[0]['time_pick']) - starttime: \n",
    "                    max_x = UTCDateTime(p_picks.iloc[0]['time_pick']+5) - starttime\n",
    "            else:\n",
    "                print('No picks for this station. Skipping.')\n",
    "                continue \n",
    "\n",
    "            # Define the minimum x value\n",
    "            if len(p_picks) > 0:\n",
    "                if min_x_count == 0:\n",
    "                    if min_x < UTCDateTime(p_picks.iloc[0]['time_pick']) - starttime:\n",
    "                        min_x = UTCDateTime(p_picks.iloc[0]['time_pick']-5) - starttime\n",
    "                        min_x_count += 1           \n",
    "                else:\n",
    "                    if min_x >= UTCDateTime(p_picks.iloc[0]['time_pick']) - starttime:\n",
    "                        min_x = UTCDateTime(p_picks.iloc[0]['time_pick']-5) - starttime            \n",
    "            elif len(s_picks) > 0:\n",
    "                if min_x_count == 0:\n",
    "                    if min_x < UTCDateTime(s_picks.iloc[0]['time_pick'])- starttime:\n",
    "                        min_x = UTCDateTime(s_picks.iloc[0]['time_pick']-5)- starttime\n",
    "                        min_x_count += 1                \n",
    "                else:\n",
    "                    if min_x >= UTCDateTime(s_picks.iloc[0]['time_pick'])- starttime:\n",
    "                        min_x = UTCDateTime(s_picks.iloc[0]['time_pick']-5) - starttime\n",
    "            else:\n",
    "                print('No picks for this station. Skipping.')\n",
    "                continue    \n",
    "\n",
    "    #         if len(p_picks) == 0:\n",
    "    #             continue\n",
    "\n",
    "    #         print('This is after the p_pick continue statement')\n",
    "\n",
    "            # Define ylim values\n",
    "            if min_y_count == 0:\n",
    "                if min_y < ii[3]:\n",
    "                    min_y = ii[3] - 5\n",
    "                    min_y_count += 1           \n",
    "            else:\n",
    "                if min_y >= ii[3]:\n",
    "                    min_y = ii[3] - 5 \n",
    "\n",
    "            max_y = ii[3] + 5\n",
    "\n",
    "        scaling_factor = (1/2)*(max_y-min_y)   \n",
    "\n",
    "        for i, ii in enumerate(distances):\n",
    "\n",
    "            if ii[1] in ['NC', 'BK']:\n",
    "                # Query waveforms\n",
    "                st = client_ncedc.get_waveforms(network=ii[1], station=ii[2], location=\"*\", channel=channel,starttime=starttime, endtime=endtime)\n",
    "\n",
    "            elif ii[1] in networks: \n",
    "                st = client_waveform.get_waveforms(network=ii[1], station=ii[2], channel=channel,starttime=starttime, endtime=endtime)\n",
    "\n",
    "            else: \n",
    "                st =  Stream()\n",
    "                print(f\"WARNING: No data for {ii[1]}.{ii[2]}.{channel} on {otime}.\")    \n",
    "                continue\n",
    "\n",
    "    #         print(f\"len(st):{len(st)}\")\n",
    "    #         print(st)\n",
    "\n",
    "            # Skip empty traces\n",
    "            if len(st) == 0:\n",
    "                    continue\n",
    "            _st = Stream()\n",
    "            # Check for HH and BH channels presence\n",
    "            has_HH = bool(st.select(channel=\"HH?\"))\n",
    "            has_BH = bool(st.select(channel=\"BH?\"))\n",
    "\n",
    "            # Apply selection logic based on channel presence\n",
    "            if has_HH and has_BH:\n",
    "                # If both HH and BH channels are present, select only HH\n",
    "                _st += st.select(channel=\"HH?\")\n",
    "            elif has_HH:\n",
    "                # If only HH channels are present\n",
    "                _st += st.select(channel=\"HH?\")\n",
    "            elif has_BH:\n",
    "                # If only BH channels are present\n",
    "                _st += st.select(channel=\"BH?\")\n",
    "\n",
    "            st = _st\n",
    "\n",
    "            print(f'Second st print:{_st}')\n",
    "\n",
    "            st = Stream(filter(lambda st: st.stats.sampling_rate > 10, st))\n",
    "            st.taper(max_percentage=0.05)\n",
    "            st.filter(type='bandpass', freqmin=2, freqmax=25)\n",
    "            st.merge(fill_value='interpolate') # fill gaps if there are any.\n",
    "\n",
    "    #         print(st)\n",
    "            # Select only one trace per channel\n",
    "            unique_channels = set(tr.stats.channel for tr in st)\n",
    "            selected_traces = []\n",
    "\n",
    "            for ch in unique_channels:\n",
    "                selected_traces.append(next(tr for tr in st if tr.stats.channel == ch))\n",
    "            st = Stream(selected_traces)\n",
    "\n",
    "            trim_st = st.copy()\n",
    "            sta_picks = picks_idx[picks_idx['station'] == ii[2]]\n",
    "            p_picks = sta_picks.loc[sta_picks['phase'] == 'P']\n",
    "            s_picks = sta_picks.loc[sta_picks['phase'] == 'S']\n",
    "    #         print(len(p_picks),len(s_picks))\n",
    "\n",
    "\n",
    "\n",
    "\n",
    "    #         if len(p_picks) == 0:\n",
    "    #             continue \n",
    "    #         print('This is after the p_pick continue statement')\n",
    "            print(trim_st)\n",
    "\n",
    "            for iax in range(len(trim_st)):\n",
    "                print(iax)\n",
    "                sampling_rate = trim_st[iax].stats.sampling_rate\n",
    "                trim_st = trim_st.normalize()\n",
    "\n",
    "                if len(p_picks)>0:\n",
    "                    tp = UTCDateTime(p_picks.iloc[0]['time_pick']) - otime + 30\n",
    "                    i1 = int((tp-5)*sampling_rate)\n",
    "                    i2 = int((tp+15)*sampling_rate)\n",
    "                elif len(s_picks)>0:\n",
    "                    ts = UTCDateTime(s_picks.iloc[0]['time_pick']) - otime + 30\n",
    "                    i1 = int((ts-10)*sampling_rate)\n",
    "                    i2 = int((ts+10)*sampling_rate)\n",
    "                else:\n",
    "                    print(f\"WARNING: No pick time for {ii[1]}.{ii[2]}.{channel} on {otime}.\")\n",
    "\n",
    "                offsets1 = ii[3]\n",
    "                try: \n",
    "                    wave = trim_st[iax].data\n",
    "                    wave = wave / (np.nanmax(wave[i1:i2], axis=-1)*10)\n",
    "                except:\n",
    "                    continue \n",
    "\n",
    "    #             print(trim_st[iax].stats.sampling_rate)\n",
    "                axs[iax].plot(trim_st[iax].times(), wave * scaling_factor + offsets1, \n",
    "                              color='black', label=f\"{trim_st[iax].stats.channel}\", alpha=0.7, lw=0.5)\n",
    "    #             axs[iax].plot(trim_st[iax].times(), wave * 30 + offsets1, color='black', label=f\"{trim_st[iax].stats.channel}\", alpha=0.7, lw=0.5)\n",
    "\n",
    "    #             axs[iax].text(xlim[-1] + 2,   offsets1, \n",
    "    #                               [ii[2]], fontsize=8, verticalalignment='bottom')\n",
    "\n",
    "                if len(p_picks) > 0:\n",
    "                    axs[iax].vlines(UTCDateTime(p_picks.iloc[0]['time_pick']) - otime + 30, offsets1 - (1/35) * scaling_factor, \n",
    "                                    offsets1 + (1/35) * scaling_factor, color='r')\n",
    "                if len(s_picks) > 0:\n",
    "                    axs[iax].vlines(UTCDateTime(s_picks.iloc[0]['time_pick']) - otime + 30, offsets1 - (1/35) * scaling_factor, \n",
    "                                    offsets1 + (1/35) * scaling_factor, color='b')\n",
    "            texts.append([ii[2],ii[3]])\n",
    "\n",
    "\n",
    "    #     print(max_y,min_y)\n",
    "        chs = ['2','1','Z']\n",
    "        for iax in range(3):\n",
    "            for i, ii in enumerate(texts):\n",
    "                offsets1 = ii[1]\n",
    "                axs[iax].text(max_x + 0.5, offsets1, \n",
    "                                      [ii[0]], fontsize=8, verticalalignment='bottom')\n",
    "            axs[iax].legend(chs[iax],loc='upper right', handlelength=0)\n",
    "            axs[iax].set_ylim([min_y,max_y])\n",
    "            axs[iax].set_xlim([min_x,max_x])\n",
    "            axs[iax].grid(alpha=0.5)\n",
    "        fig.supxlabel('Time [sec]', y=0.07)\n",
    "        fig.supylabel('Distance [km]')\n",
    "        fig.suptitle(f\"{title}: Origin Time={otime}, \\n Latitude={round(event[event['idx']==idx]['latitude'].values[0], 2)}, Longtitude={round(event[event['idx']==idx]['longitude'].values[0], 2)}, Depth={round(event[event['idx']==idx]['depth'].values[0], 2)}\", y=1)\n",
    "\n",
    "        m = Basemap(projection='merc', llcrnrlat=40, urcrnrlat=50, llcrnrlon=-130, urcrnrlon=-120, resolution='i', ax=axs[3])\n",
    "        m.drawcoastlines()\n",
    "        m.drawcountries()\n",
    "        m.drawstates()\n",
    "        m.drawmapboundary()\n",
    "        m.drawparallels(np.arange(40, 51, 1), labels=[1,0,0,0])\n",
    "        m.drawmeridians(np.arange(-130, -119, 1), labels=[0,0,0,1])\n",
    "        x, y = m(event[event['idx']==idx]['longitude'].values[0], event[event['idx']==idx]['latitude'].values[0])\n",
    "        m.plot(x, y, 'ro', markersize=9)\n",
    "        axs[3].set_title('Event Location')\n",
    "        \n",
    "        fig.savefig(p, format='pdf')  \n",
    "\n",
    "    p.close()"
   ]
  },
  {
   "cell_type": "markdown",
   "id": "5ef03321",
   "metadata": {},
   "source": [
    "### Specify the latitudes and longitudes"
   ]
  },
  {
   "cell_type": "code",
   "execution_count": null,
   "id": "c2f79e5a",
   "metadata": {},
   "outputs": [],
   "source": [
    "new_events = pd.read_csv('../data/datasets_2014/new_events.csv')"
   ]
  },
  {
   "cell_type": "code",
   "execution_count": null,
   "id": "5d048ab8",
   "metadata": {},
   "outputs": [],
   "source": [
    "idx = new_events[new_events['station']=='J25B']['idx'].values\n",
    "idx"
   ]
  },
  {
   "cell_type": "code",
   "execution_count": null,
   "id": "db3d4c0b",
   "metadata": {},
   "outputs": [],
   "source": [
    "new_events = new_events[new_events[\"idx\"].isin(idx)]\n",
    "new_events"
   ]
  },
  {
   "cell_type": "code",
   "execution_count": null,
   "id": "ac241e77",
   "metadata": {},
   "outputs": [],
   "source": [
    "new_events_specific_lat_lon = new_events.loc[(new_events['latitude']>46)&(new_events['latitude']<47.5)&(new_events['longitude']<-124)&(new_events['longitude']>-126)]\n",
    "new_events_specific_lat_lon"
   ]
  },
  {
   "cell_type": "code",
   "execution_count": null,
   "id": "1c610d2a",
   "metadata": {},
   "outputs": [],
   "source": [
    "# new_events = new_events_specific_lat_lon.loc[(new_events_specific_lat_lon['depth']>1)&(new_events_specific_lat_lon['depth']<40)]\n",
    "new_events = new_events_specific_lat_lon.loc[new_events_specific_lat_lon['picks']>=6][0:30]\n",
    "new_events"
   ]
  },
  {
   "cell_type": "markdown",
   "id": "60eda7e0",
   "metadata": {},
   "source": [
    "### Histogram: Depths of events"
   ]
  },
  {
   "cell_type": "code",
   "execution_count": null,
   "id": "92381c64",
   "metadata": {},
   "outputs": [],
   "source": [
    "# Plot the histogram of the number of picks for the matched events\n",
    "plt.figure()\n",
    "bins = np.linspace(0,50,25)\n",
    "plt.hist(new_events['depth'],bins=bins)\n",
    "plt.xlabel('Depth (km)')\n",
    "plt.ylabel('Number of Events')\n",
    "plt.title('Histogram of the depths of the events in the cluster at ~46.5$^\\circ$ N')"
   ]
  },
  {
   "cell_type": "markdown",
   "id": "436cab64",
   "metadata": {},
   "source": [
    "### Plot HH?"
   ]
  },
  {
   "cell_type": "code",
   "execution_count": null,
   "id": "2f35b6a6",
   "metadata": {
    "scrolled": true
   },
   "outputs": [],
   "source": [
    "# parameters\n",
    "mycatalog= mycatalog\n",
    "mycatalog_picks=mycatalog_picks\n",
    "networks= all_picks_networks\n",
    "channel= \"HH?\"\n",
    "idx_sta= 50\n",
    "title= \"Events matched\"\n",
    "fig_title= \"events_matched.png\"\n",
    "ylim= [0,300]\n",
    "xlim= [30,45]\n",
    "\n",
    "for idx in new_events['idx']:\n",
    "    subplots_cluster_scale_p(idx,mycatalog,mycatalog_picks,networks,channel,idx_sta,title,fig_title,ylim,xlim)"
   ]
  },
  {
   "cell_type": "markdown",
   "id": "ad72ab1e",
   "metadata": {},
   "source": [
    "### Plot BH?"
   ]
  },
  {
   "cell_type": "code",
   "execution_count": null,
   "id": "c369c148",
   "metadata": {
    "scrolled": true
   },
   "outputs": [],
   "source": [
    "# parameters\n",
    "mycatalog= mycatalog\n",
    "mycatalog_picks=mycatalog_picks\n",
    "networks= all_picks_networks\n",
    "channel= \"BH?\"\n",
    "idx_sta= 50\n",
    "title= \"Events matched\"\n",
    "fig_title= \"events_matched.png\"\n",
    "ylim= [0,300]\n",
    "xlim= [30,45]\n",
    "\n",
    "for idx in new_events['idx']:\n",
    "    subplots_cluster_scale_p(idx,mycatalog,mycatalog_picks,networks,channel,idx_sta,title,fig_title,ylim,xlim)"
   ]
  },
  {
   "cell_type": "markdown",
   "id": "88c6211d",
   "metadata": {},
   "source": [
    "### Plot both HH? and BH?"
   ]
  },
  {
   "cell_type": "code",
   "execution_count": null,
   "id": "cf66bf4b",
   "metadata": {},
   "outputs": [],
   "source": [
    "new_events['datetime'] = pd.to_datetime(new_events['datetime'], utc = True)\n",
    "new_events"
   ]
  },
  {
   "cell_type": "code",
   "execution_count": null,
   "id": "b0f15bcc",
   "metadata": {
    "scrolled": true
   },
   "outputs": [],
   "source": [
    "# parameters for subplots_cluster_scale_p\n",
    "mycatalog= mycatalog\n",
    "mycatalog_picks=mycatalog_picks\n",
    "networks= all_picks_networks\n",
    "channel= \"?H?\"\n",
    "idx_sta= 50\n",
    "title= \"Events matched\"\n",
    "fig_title= \"events_matched.png\"\n",
    "\n",
    "for idx in new_events['idx']:\n",
    "    subplots_cluster_scale_p(idx,new_events,mycatalog_picks,networks,channel,idx_sta,title,fig_title)"
   ]
  },
  {
   "cell_type": "code",
   "execution_count": null,
   "id": "2ae32807",
   "metadata": {
    "scrolled": true
   },
   "outputs": [],
   "source": [
    "# parameters for subplots_cluster_scale\n",
    "mycatalog= mycatalog\n",
    "mycatalog_picks=mycatalog_picks\n",
    "networks= all_picks_networks\n",
    "channel= \"?H?\"\n",
    "idx_sta= 50\n",
    "title= \"Events matched\"\n",
    "fig_title= \"new_events_plots.pdf\"\n",
    "\n",
    "subplots_cluster_scale(new_events,mycatalog_picks,networks,channel,idx_sta,title,fig_title)"
   ]
  },
  {
   "cell_type": "code",
   "execution_count": null,
   "id": "7e815a03",
   "metadata": {},
   "outputs": [],
   "source": [
    "# Plot the histogram of the number of picks for the matched events\n",
    "new_events['time'] = pd.to_datetime(new_events['time'])\n",
    "year1 = 2012\n",
    "time1 = datetime(year=year1, month=1, day=1)\n",
    "time2 = datetime(year=year1 + 1, month=1, day=1)\n",
    "time_bins = pd.date_range(start=time1, end=time2, freq='5D')\n",
    "plt.figure()\n",
    "plt.hist(new_events['time'], bins=time_bins)\n",
    "plt.xlabel('Days')\n",
    "plt.ylabel('Number of Events')\n",
    "plt.title('Histogram for the frequency of the events in the cluster at ~46.5$^\\circ$ N')\n",
    "plt.xticks(rotation=45)  # Optional: Rotate x-axis labels for better readability\n",
    "plt.show()"
   ]
  },
  {
   "cell_type": "code",
   "execution_count": null,
   "id": "b02952d7",
   "metadata": {},
   "outputs": [],
   "source": [
    "import matplotlib \n",
    "from matplotlib import pyplot as plt \n",
    "from matplotlib.backends.backend_pdf import PdfPages \n",
    "\n",
    "# customizing runtime configuration stored \n",
    "# in matplotlib.rcParams \n",
    "plt.rcParams[\"figure.figsize\"] = [7.00, 3.50] \n",
    "plt.rcParams[\"figure.autolayout\"] = True\n",
    "\n",
    "fig1 = plt.figure() \n",
    "plt.plot([17, 45, 7, 8, 7], color='orange') \n",
    "\n",
    "fig2 = plt.figure() \n",
    "plt.plot([13, 25, 1, 6, 3], color='blue') \n",
    "\n",
    "Fig3 = plt.figure() \n",
    "plt.plot([22, 11, 2, 1, 23], color='green') \n",
    "\n",
    "\n",
    "def save_image(filename): \n",
    "\t\n",
    "\t# PdfPages is a wrapper around pdf \n",
    "\t# file so there is no clash and create \n",
    "\t# files with no error. \n",
    "\tp = PdfPages(filename) \n",
    "\t\n",
    "\t# get_fignums Return list of existing \n",
    "\t# figure numbers \n",
    "\tfig_nums = plt.get_fignums() \n",
    "\tfigs = [plt.figure(n) for n in fig_nums] \n",
    "\t\n",
    "\t# iterating over the numbers in list \n",
    "\tfor fig in figs: \n",
    "\t\t\n",
    "\t\t# and saving the files \n",
    "\t\tfig.savefig(p, format='pdf') \n",
    "\t\n",
    "\t# close the object \n",
    "\tp.close() \n",
    "\n",
    "# name your Pdf file \n",
    "filename = \"multi_plot_image.pdf\"\n",
    "\n",
    "# call the function \n",
    "save_image(filename) \n"
   ]
  },
  {
   "cell_type": "markdown",
   "id": "1c84d3bd",
   "metadata": {},
   "source": [
    "## Plot the cluster events at around 43.25&deg; N, 124.25&deg; W using the plotting functions "
   ]
  },
  {
   "cell_type": "code",
   "execution_count": null,
   "id": "6de7f122",
   "metadata": {},
   "outputs": [],
   "source": [
    "new_events_specific_lat_lon = unmatched_events_mycatalog2morton_and_anss.loc[(unmatched_events_mycatalog2morton_and_anss['latitude']>43.0)&(unmatched_events_mycatalog2morton_and_anss['latitude']<43.3)&(unmatched_events_mycatalog2morton_and_anss['longitude']<-124.25)&(unmatched_events_mycatalog2morton_and_anss['longitude']>-124.75)]\n",
    "new_events_specific_lat_lon"
   ]
  },
  {
   "cell_type": "code",
   "execution_count": null,
   "id": "6556db77",
   "metadata": {},
   "outputs": [],
   "source": [
    "new_events = new_events_specific_lat_lon.loc[new_events_specific_lat_lon['picks']>5]\n",
    "new_events"
   ]
  },
  {
   "cell_type": "markdown",
   "id": "e0fa50fe",
   "metadata": {},
   "source": [
    "### Plot HH?"
   ]
  },
  {
   "cell_type": "code",
   "execution_count": null,
   "id": "d16f802f",
   "metadata": {},
   "outputs": [],
   "source": [
    "# parameters\n",
    "mycatalog= mycatalog\n",
    "mycatalog_picks=mycatalog_picks\n",
    "networks= all_picks_networks\n",
    "channel= \"HH?\"\n",
    "idx_sta= 50\n",
    "title= \"Events matched\"\n",
    "fig_title= \"events_matched.png\"\n",
    "ylim= [0,300]\n",
    "xlim= [20,150]\n",
    "\n",
    "for idx in new_events['idx']:\n",
    "    subplots_cluster_scale_p(idx,mycatalog,mycatalog_picks,networks,channel,idx_sta,title,fig_title,ylim,xlim)"
   ]
  },
  {
   "cell_type": "markdown",
   "id": "5d0acaf0",
   "metadata": {},
   "source": [
    "### Plot BH?"
   ]
  },
  {
   "cell_type": "code",
   "execution_count": null,
   "id": "4baf7b1d",
   "metadata": {},
   "outputs": [],
   "source": [
    "# parameters\n",
    "mycatalog= mycatalog\n",
    "mycatalog_picks=mycatalog_picks\n",
    "networks= all_picks_networks\n",
    "channel= \"BH?\"\n",
    "idx_sta= 50\n",
    "title= \"Events matched\"\n",
    "fig_title= \"events_matched.png\"\n",
    "ylim= [0,300]\n",
    "xlim= [20,150]\n",
    "\n",
    "for idx in new_events['idx']:\n",
    "    subplots_cluster_scale_p(idx,mycatalog,mycatalog_picks,networks,channel,idx_sta,title,fig_title,ylim,xlim)"
   ]
  },
  {
   "cell_type": "markdown",
   "id": "863afcd8",
   "metadata": {},
   "source": [
    "## Calculate SNRs"
   ]
  },
  {
   "cell_type": "code",
   "execution_count": null,
   "id": "b8944e86",
   "metadata": {},
   "outputs": [],
   "source": [
    "all_picks = pd.read_csv('../data/datasets_2014/all_picks_2014.csv')\n",
    "all_pick_assignments = pd.read_csv('../data/datasets_2014/all_pick_assignments_2014.csv')"
   ]
  },
  {
   "cell_type": "code",
   "execution_count": null,
   "id": "d3ab9ea3",
   "metadata": {},
   "outputs": [],
   "source": [
    "def calc_snr(all_picks,all_pick_assignments):\n",
    "    \"\"\" \n",
    "    This function calculates the SNRs for each station in each event.\n",
    "    \n",
    "    Inputs:\n",
    "    1. The all_pick.csv file from the 2_format_pick2associate file.\n",
    "    2. The all_pick_assignments.csv file from the 3_association file.\n",
    "    \n",
    "    Oututs:\n",
    "    The new all_pick_assignments_snr file with the additional SNR column.\n",
    "    \"\"\"\n",
    "    \n",
    "    # Create the list of networks\n",
    "    all_picks_networks = all_picks['station_network_code'].drop_duplicates()\n",
    "    list_networks = list(all_picks_networks)\n",
    "    networks = ','.join(all_picks_networks)\n",
    "    \n",
    "    \n",
    "    \n",
    "    # Define the clients \n",
    "    client_waveform = WaveformClient()\n",
    "    client2 = Client(\"IRIS\")\n",
    "    client_ncedc = Client('NCEDC')\n",
    "    \n",
    "    all_pick_assignments['datetime'] = pd.to_datetime(all_pick_assignments['time'], utc = True)\n",
    "\n",
    "    \n",
    "    # Define parameters\n",
    "    percentile=98\n",
    "    \n",
    "    # Create empty lists\n",
    "    snr_list = []\n",
    "        \n",
    "    # Make sure if a station for an event has more than 1 P or S pick\n",
    "    for idx in all_pick_assignments['idx'].drop_duplicates():\n",
    "        # Define parameters\n",
    "        otime = UTCDateTime(str(all_pick_assignments[all_pick_assignments['idx'] == idx][\"datetime\"].values[0]))\n",
    "\n",
    "\n",
    "        # Create empty lists\n",
    "        networks_stas = []\n",
    "\n",
    "        # Plot the earthquake moveout for one of the unmatched events for all stations \n",
    "    #     event = mycatalog\n",
    "        pick_idx = all_pick_assignments.loc[all_pick_assignments['idx']==idx]\n",
    "        pick_sta = np.unique(pick_idx['station'])\n",
    "        \n",
    "    #     distances = []\n",
    "    #     max_dist = 10\n",
    "    #     min_dist = 0\n",
    "        for station in pick_sta:\n",
    "\n",
    "            sta_inv = client2.get_stations(network=networks,\n",
    "                                           station=station, channel=\"?H?\", \n",
    "                                           starttime=otime - 1e8, endtime=otime + 1e8,level=\"response\")\n",
    "            if len(sta_inv) == 0:\n",
    "                print(f'No inventory for station {station}. Skipping.')\n",
    "                continue\n",
    "\n",
    "            network = sta_inv[0].code\n",
    "    #         slat = sta_inv[0][0].latitude\n",
    "    #         slon = sta_inv[0][0].longitude\n",
    "    #         olat = event.loc[event['idx']==idx, 'latitude'].values[0]\n",
    "    #         olon = event.loc[event['idx']==idx, 'longitude'].values[0]\n",
    "\n",
    "    #         dis1 = locations2degrees(olat, olon, slat, slon)\n",
    "    #         dist = degrees2kilometers(dis1)\n",
    "    # #         if max_dist < dist:\n",
    "    # #             max_dist = dist\n",
    "\n",
    "    # #         if min_dist > dist:\n",
    "    # #             min_dist = dist\n",
    "\n",
    "            networks_stas.append([network,station])\n",
    "        \n",
    "   \n",
    "        events = all_pick_assignments[all_pick_assignments['idx']==idx]\n",
    "        for i in networks_stas:\n",
    "            events1 = events[events['station']==i[1]]\n",
    "            p_picks = events1[events1['phase']=='P']\n",
    "            s_picks = events1[events1['phase']=='S']\n",
    "            \n",
    "\n",
    "            if len(p_picks)>0 and len(s_picks)>0:\n",
    "                print(p_picks['datetime'].values,s_picks['datetime'].values)\n",
    "                p_pick_time = UTCDateTime(str(p_picks['datetime'].values[0]))\n",
    "                s_pick_time = UTCDateTime(str(s_picks['datetime'].values[0]))\n",
    "                \n",
    "                starttime_st = UTCDateTime(p_pick_time)-timedelta(seconds=120)\n",
    "                endtime_st = UTCDateTime(p_pick_time)+timedelta(seconds=120)\n",
    "                \n",
    "                starttime_noise = UTCDateTime(p_pick_time)-timedelta(seconds=8)\n",
    "                endtime_noise = UTCDateTime(p_pick_time)\n",
    "                \n",
    "                starttime_signal = UTCDateTime(s_pick_time)-timedelta(seconds=1)\n",
    "                endtime_signal = UTCDateTime(s_pick_time)+timedelta(seconds=2)\n",
    "                \n",
    "                print(starttime_noise,endtime_noise)\n",
    "            \n",
    "                if i[0] in ['NC', 'BK']:\n",
    "                # Query waveforms\n",
    "                    st = client_ncedc.get_waveforms(network=i[0], station=i[1],\n",
    "                                                    location=\"*\", channel=\"?HZ\",starttime=starttime_st,\n",
    "                                                    endtime=endtime_st)\n",
    "\n",
    "                elif i[0] in networks: \n",
    "                    st = client_waveform.get_waveforms(network=i[0], station=i[1],\n",
    "                                                       channel='?HZ',starttime=starttime_st, endtime=endtime_st)\n",
    "\n",
    "                else: \n",
    "                    st =  Stream()\n",
    "                    print(f\"WARNING: No data for {ii[1]}.{ii[2]}.{channel} on {otime}.\")    \n",
    "                    continue\n",
    "\n",
    "        #         print(f\"len(st):{len(st)}\")\n",
    "        #         print(st)\n",
    "\n",
    "                # Skip empty traces\n",
    "                if len(st) == 0:\n",
    "                    continue\n",
    "                    \n",
    "                print(f'First st print:{st}')\n",
    "                # Create a new stream\n",
    "                _st = Stream()\n",
    "                # Check for HH and BH channels presence\n",
    "                has_HH = bool(st.select(channel=\"HH?\"))\n",
    "                has_BH = bool(st.select(channel=\"BH?\"))\n",
    "\n",
    "                # Apply selection logic based on channel presence\n",
    "                if has_HH and has_BH:\n",
    "                    # If both HH and BH channels are present, select only HH\n",
    "                    _st += st.select(channel=\"HH?\")\n",
    "                elif has_HH:\n",
    "                    # If only HH channels are present\n",
    "                    _st += st.select(channel=\"HH?\")\n",
    "                elif has_BH:\n",
    "                    # If only BH channels are present\n",
    "                    _st += st.select(channel=\"BH?\")\n",
    "\n",
    "                _st.merge(fill_value='interpolate') # fill gaps if there are any.\n",
    "\n",
    "                print(f'Second st print:{_st}')\n",
    "            \n",
    "                noise = _st.copy().trim(starttime=starttime_noise,endtime=endtime_noise)    \n",
    "                signal = _st.copy().trim(starttime=starttime_signal,endtime=endtime_signal) \n",
    "                \n",
    "                print(f\"P and S pick times:{p_pick_time} and {s_pick_time}\")\n",
    "                print(f\"Stream start and end times:{starttime_st} and {endtime_st}\")\n",
    "                print(f\"Noise start and end times:{starttime_noise} and {endtime_noise}\")\n",
    "                print(f\"Signal start and end times:{starttime_signal} and {endtime_signal}\")\n",
    "                \n",
    "                print(f'Noise:{noise}')\n",
    "                print(f'Signal:{signal}')\n",
    "\n",
    "                noise_abs = np.percentile(abs(noise[0].data),percentile)\n",
    "                signal_abs = np.percentile(abs(signal[0].data),percentile)\n",
    "\n",
    "                snr = 20 * np.log10((signal_abs/noise_abs))\n",
    "\n",
    "                snr_list.append(snr)\n",
    "                \n",
    "            if len(p_picks)>0 and len(s_picks)==0:\n",
    "                \n",
    "                print(p_picks['datetime'].values,s_picks['datetime'].values)\n",
    "                p_pick_time = UTCDateTime(str(p_picks['datetime'].values[0]))\n",
    "#                 s_pick_time = UTCDateTime(str(s_picks['datetime'].values[0]))\n",
    "\n",
    "                starttime_st = UTCDateTime(p_pick_time)-timedelta(seconds=120)\n",
    "                endtime_st = UTCDateTime(p_pick_time)+timedelta(seconds=120)\n",
    "                \n",
    "                starttime_noise = UTCDateTime(p_pick_time)-timedelta(seconds=8)\n",
    "                endtime_noise = UTCDateTime(p_pick_time)\n",
    "                \n",
    "                starttime_signal = UTCDateTime(p_pick_time)+timedelta(seconds=1)\n",
    "                endtime_signal = UTCDateTime(p_pick_time)+timedelta(seconds=4)\n",
    "                \n",
    "            \n",
    "                if i[0] in ['NC', 'BK']:\n",
    "                # Query waveforms\n",
    "                    st = client_ncedc.get_waveforms(network=i[0], station=i[1],\n",
    "                                                    location=\"*\", channel=\"?HZ\",starttime=starttime_st, \n",
    "                                                    endtime=endtime_st)\n",
    "\n",
    "                elif i[0] in networks: \n",
    "                    st = client_waveform.get_waveforms(network=i[0], station=i[1],\n",
    "                                                       channel='?HZ',starttime=starttime_st, endtime=endtime_st)\n",
    "\n",
    "                else: \n",
    "                    st =  Stream()\n",
    "                    print(f\"WARNING: No data for {ii[1]}.{ii[2]}.{channel} on {otime}.\")    \n",
    "                    continue\n",
    "\n",
    "        #         print(f\"len(st):{len(st)}\")\n",
    "        #         print(st)\n",
    "\n",
    "                # Skip empty traces\n",
    "                if len(st) == 0:\n",
    "                    continue\n",
    "                print(f'First st print:{st}')\n",
    "                # Create a new stream\n",
    "                _st = Stream()\n",
    "                # Check for HH and BH channels presence\n",
    "                has_HH = bool(st.select(channel=\"HH?\"))\n",
    "                has_BH = bool(st.select(channel=\"BH?\"))\n",
    "\n",
    "                # Apply selection logic based on channel presence\n",
    "                if has_HH and has_BH:\n",
    "                    # If both HH and BH channels are present, select only HH\n",
    "                    _st += st.select(channel=\"HH?\")\n",
    "                elif has_HH:\n",
    "                    # If only HH channels are present\n",
    "                    _st += st.select(channel=\"HH?\")\n",
    "                elif has_BH:\n",
    "                    # If only BH channels are present\n",
    "                    _st += st.select(channel=\"BH?\")\n",
    "\n",
    "                _st.merge(fill_value='interpolate') # fill gaps if there are any.\n",
    "\n",
    "                print(f'Second st print:{_st}')\n",
    "                \n",
    "                \n",
    "                    \n",
    "\n",
    "                noise = _st.copy().trim(starttime=starttime_noise,endtime=endtime_noise)    \n",
    "                signal = _st.copy().trim(starttime=starttime_signal,endtime=endtime_signal) \n",
    "                \n",
    "                print(f\"P pick time:{p_pick_time}\")\n",
    "                print(f\"Stream start and end times:{starttime_st} and {endtime_st}\")\n",
    "                print(f\"Noise start and end times:{starttime_noise} and {endtime_noise}\")\n",
    "                print(f\"Signal start and end times:{starttime_signal} and {endtime_signal}\")\n",
    "\n",
    "                print(f'Noise:{noise}')\n",
    "                print(f'Signal:{signal}')\n",
    "\n",
    "                noise_abs = np.percentile(abs(noise[0].data),percentile)\n",
    "                signal_abs = np.percentile(abs(signal[0].data),percentile)\n",
    "\n",
    "                snr = 20 * np.log10((signal_abs/noise_abs))\n",
    "\n",
    "                snr_list.append(snr)\n",
    "                    \n",
    "            if len(p_picks)==0 and len(s_picks)>0:\n",
    "                print(p_picks['datetime'].values,s_picks['datetime'].values)\n",
    "#                 p_pick_time = UTCDateTime(str(p_picks['datetime'].values))\n",
    "                s_pick_time = UTCDateTime(str(s_picks['datetime'].values[0]))\n",
    "    \n",
    "                starttime_st = UTCDateTime(s_pick_time)-timedelta(seconds=120)\n",
    "                endtime_st = UTCDateTime(s_pick_time)+timedelta(seconds=120)\n",
    "                \n",
    "                starttime_noise = UTCDateTime(s_pick_time)-timedelta(seconds=8)\n",
    "                endtime_noise = UTCDateTime(s_pick_time)\n",
    "                \n",
    "                starttime_signal = UTCDateTime(s_pick_time)\n",
    "                endtime_signal = UTCDateTime(s_pick_time)+timedelta(seconds=3)\n",
    "                \n",
    "                print(starttime_noise,endtime_noise)\n",
    "            \n",
    "                if i[0] in ['NC', 'BK']:\n",
    "                # Query waveforms\n",
    "                    st = client_ncedc.get_waveforms(network=i[0], station=i[1],\n",
    "                                                    location=\"*\", channel=\"?HZ\",starttime=starttime_st, \n",
    "                                                    endtime=endtime_st)\n",
    "\n",
    "                elif i[0] in networks: \n",
    "                    st = client_waveform.get_waveforms(network=i[0], station=i[1],\n",
    "                                                       channel='?HZ',starttime=starttime_st, endtime=endtime_st)\n",
    "\n",
    "                else: \n",
    "                    st =  Stream()\n",
    "                    print(f\"WARNING: No data for {ii[1]}.{ii[2]}.{channel} on {otime}.\")    \n",
    "                    continue\n",
    "\n",
    "        #         print(f\"len(st):{len(st)}\")\n",
    "        #         print(st)\n",
    "\n",
    "                # Skip empty traces\n",
    "                if len(st) == 0:\n",
    "                    continue\n",
    "                    \n",
    "                print(f'First st print:{st}')\n",
    "                # Create a new stream\n",
    "                _st = Stream()\n",
    "                # Check for HH and BH channels presence\n",
    "                has_HH = bool(st.select(channel=\"HH?\"))\n",
    "                has_BH = bool(st.select(channel=\"BH?\"))\n",
    "\n",
    "                # Apply selection logic based on channel presence\n",
    "                if has_HH and has_BH:\n",
    "                    # If both HH and BH channels are present, select only HH\n",
    "                    _st += st.select(channel=\"HH?\")\n",
    "                elif has_HH:\n",
    "                    # If only HH channels are present\n",
    "                    _st += st.select(channel=\"HH?\")\n",
    "                elif has_BH:\n",
    "                    # If only BH channels are present\n",
    "                    _st += st.select(channel=\"BH?\")\n",
    "\n",
    "                _st.merge(fill_value='interpolate') # fill gaps if there are any.\n",
    "\n",
    "                print(f'Second st print:{_st}')\n",
    "\n",
    "            \n",
    "                noise = _st.copy().trim(starttime=starttime_noise,endtime=endtime_noise)    \n",
    "                signal = _st.copy().trim(starttime=starttime_signal,endtime=endtime_signal) \n",
    "                \n",
    "                print(f\"S pick time:{s_pick_time}\")\n",
    "                print(f\"Stream start and end times:{starttime_st} and {endtime_st}\")\n",
    "                print(f\"Noise start and end times:{starttime_noise} and {endtime_noise}\")\n",
    "                print(f\"Signal start and end times:{starttime_signal} and {endtime_signal}\")\n",
    "                \n",
    "                print(f'Noise:{noise}')\n",
    "                print(f'Signal:{signal}')\n",
    "\n",
    "                noise_abs = np.percentile(abs(noise[0].data),percentile)\n",
    "                signal_abs = np.percentile(abs(signal[0].data),percentile)\n",
    "\n",
    "                snr = 20 * np.log10((signal_abs/noise_abs))\n",
    "\n",
    "                snr_list.append(snr)\n",
    "            \n",
    "    all_assignments_picks['snr']=snr_list\n",
    "     \n",
    "    return snr_list"
   ]
  },
  {
   "cell_type": "code",
   "execution_count": null,
   "id": "52736088",
   "metadata": {},
   "outputs": [],
   "source": [
    "snr_list = calc_snr(all_picks,all_pick_assignments)"
   ]
  },
  {
   "cell_type": "code",
   "execution_count": null,
   "id": "48ed9de0",
   "metadata": {},
   "outputs": [],
   "source": [
    "snr_list"
   ]
  },
  {
   "cell_type": "code",
   "execution_count": null,
   "id": "566c5668",
   "metadata": {},
   "outputs": [],
   "source": [
    "client_waveform = WaveformClient()\n",
    "\n",
    "p_pick_time = '2014-01-02T07:40:02.642533Z'\n",
    "\n",
    "starttime_st = UTCDateTime(p_pick_time)-timedelta(seconds=120)\n",
    "endtime_st = UTCDateTime(p_pick_time)+timedelta(seconds=120)\n",
    "\n",
    "# starttime_st = UTCDateTime('2011-01-03T00:00:0.000000Z')\n",
    "# endtime_st = UTCDateTime('2011-01-03T12:59:59.000000Z')\n",
    "\n",
    "print(f'Requested start and end times:{starttime_st} and {endtime_st}')\n",
    "\n",
    "\n",
    "st = client_waveform.get_waveforms(network='CN', station='BTB',\n",
    "                                       channel='HHZ',starttime=starttime_st, endtime=endtime_st)\n",
    "print(f'Actual start and end times: {st[0].stats.starttime} and {st[0].stats.endtime}')\n"
   ]
  },
  {
   "cell_type": "code",
   "execution_count": null,
   "id": "236a901a",
   "metadata": {},
   "outputs": [],
   "source": []
  }
 ],
 "metadata": {
  "kernelspec": {
   "display_name": "seismo (SHARED)",
   "language": "python",
   "name": "seismo"
  },
  "language_info": {
   "codemirror_mode": {
    "name": "ipython",
    "version": 3
   },
   "file_extension": ".py",
   "mimetype": "text/x-python",
   "name": "python",
   "nbconvert_exporter": "python",
   "pygments_lexer": "ipython3",
   "version": "3.9.18"
  }
 },
 "nbformat": 4,
 "nbformat_minor": 5
}
