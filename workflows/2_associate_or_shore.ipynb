{
 "cells": [
  {
   "cell_type": "markdown",
   "id": "192aef88",
   "metadata": {},
   "source": [
    "## Try phase association for stations for 2012\n",
    "Refernce: https://github.com/yetinam/pyocto"
   ]
  },
  {
   "cell_type": "code",
   "execution_count": 7,
   "id": "45e0b4d8",
   "metadata": {},
   "outputs": [],
   "source": [
    "# !pip3 install numpy\n",
    "# !pip3 install pyrocko"
   ]
  },
  {
   "cell_type": "code",
   "execution_count": 1,
   "id": "91c28442",
   "metadata": {},
   "outputs": [],
   "source": [
    "import pyocto\n",
    "import pandas as pd\n",
    "import datetime\n",
    "import matplotlib.pyplot as plt\n",
    "from collections import Counter\n",
    "import numpy as np\n",
    "from scipy import signal\n",
    "from obspy.signal.trigger import classic_sta_lta\n",
    "import pygmt\n",
    "\n",
    "from obspy.clients.fdsn import Client\n",
    "from obspy.core.utcdatetime import UTCDateTime\n",
    "from pnwstore.mseed import WaveformClient\n"
   ]
  },
  {
   "cell_type": "code",
   "execution_count": 2,
   "id": "6e59a463",
   "metadata": {},
   "outputs": [],
   "source": [
    "# Import the velocity model from https://colab.research.google.com/github/yetinam/pyocto/blob/main/examples/02_velocity_models.ipynb#scrollTo=1c52ed9e-d9c1-4fa6-a549-de702bc9d439\n",
    "# !wget https://github.com/yetinam/pyocto/raw/main/tests/data/graeber.csv"
   ]
  },
  {
   "cell_type": "markdown",
   "id": "d79f475f",
   "metadata": {},
   "source": [
    "## Input Data"
   ]
  },
  {
   "cell_type": "code",
   "execution_count": 3,
   "id": "dc050e11",
   "metadata": {},
   "outputs": [],
   "source": [
    "picks = pd.read_csv(\"../data/datasets_or_shore/picks_or_shore.csv\",index_col=0)\n",
    "stations = pd.read_csv(\"../data/datasets_or_shore/all_stations_or_shore.csv\",index_col=0)"
   ]
  },
  {
   "cell_type": "code",
   "execution_count": 4,
   "id": "d0f638dd",
   "metadata": {},
   "outputs": [
    {
     "data": {
      "text/html": [
       "<div>\n",
       "<style scoped>\n",
       "    .dataframe tbody tr th:only-of-type {\n",
       "        vertical-align: middle;\n",
       "    }\n",
       "\n",
       "    .dataframe tbody tr th {\n",
       "        vertical-align: top;\n",
       "    }\n",
       "\n",
       "    .dataframe thead th {\n",
       "        text-align: right;\n",
       "    }\n",
       "</style>\n",
       "<table border=\"1\" class=\"dataframe\">\n",
       "  <thead>\n",
       "    <tr style=\"text-align: right;\">\n",
       "      <th></th>\n",
       "      <th>station</th>\n",
       "      <th>phase</th>\n",
       "      <th>time</th>\n",
       "      <th>pick_id</th>\n",
       "    </tr>\n",
       "  </thead>\n",
       "  <tbody>\n",
       "    <tr>\n",
       "      <th>0</th>\n",
       "      <td>TAKO</td>\n",
       "      <td>P</td>\n",
       "      <td>2011-01-01T00:58:17.626000Z</td>\n",
       "      <td>1333</td>\n",
       "    </tr>\n",
       "    <tr>\n",
       "      <th>1</th>\n",
       "      <td>TAKO</td>\n",
       "      <td>P</td>\n",
       "      <td>2011-01-01T02:49:13.526000Z</td>\n",
       "      <td>1334</td>\n",
       "    </tr>\n",
       "    <tr>\n",
       "      <th>2</th>\n",
       "      <td>TAKO</td>\n",
       "      <td>P</td>\n",
       "      <td>2011-01-01T10:59:16.606000Z</td>\n",
       "      <td>1335</td>\n",
       "    </tr>\n",
       "    <tr>\n",
       "      <th>3</th>\n",
       "      <td>TAKO</td>\n",
       "      <td>P</td>\n",
       "      <td>2011-01-01T12:31:07.946000Z</td>\n",
       "      <td>1336</td>\n",
       "    </tr>\n",
       "    <tr>\n",
       "      <th>4</th>\n",
       "      <td>TAKO</td>\n",
       "      <td>P</td>\n",
       "      <td>2011-01-01T14:05:36.586000Z</td>\n",
       "      <td>1337</td>\n",
       "    </tr>\n",
       "    <tr>\n",
       "      <th>...</th>\n",
       "      <td>...</td>\n",
       "      <td>...</td>\n",
       "      <td>...</td>\n",
       "      <td>...</td>\n",
       "    </tr>\n",
       "    <tr>\n",
       "      <th>2100819</th>\n",
       "      <td>J25D</td>\n",
       "      <td>S</td>\n",
       "      <td>2015-09-17T05:28:27.626100Z</td>\n",
       "      <td>23250778</td>\n",
       "    </tr>\n",
       "    <tr>\n",
       "      <th>2100820</th>\n",
       "      <td>J25D</td>\n",
       "      <td>S</td>\n",
       "      <td>2015-09-17T05:21:40.010100Z</td>\n",
       "      <td>23250779</td>\n",
       "    </tr>\n",
       "    <tr>\n",
       "      <th>2100821</th>\n",
       "      <td>J25D</td>\n",
       "      <td>S</td>\n",
       "      <td>2015-09-17T05:09:31.818100Z</td>\n",
       "      <td>23250786</td>\n",
       "    </tr>\n",
       "    <tr>\n",
       "      <th>2100822</th>\n",
       "      <td>J25D</td>\n",
       "      <td>S</td>\n",
       "      <td>2015-09-17T05:14:23.938100Z</td>\n",
       "      <td>23250787</td>\n",
       "    </tr>\n",
       "    <tr>\n",
       "      <th>2100823</th>\n",
       "      <td>J25D</td>\n",
       "      <td>S</td>\n",
       "      <td>2015-09-17T05:18:24.274100Z</td>\n",
       "      <td>23250790</td>\n",
       "    </tr>\n",
       "  </tbody>\n",
       "</table>\n",
       "<p>2100824 rows × 4 columns</p>\n",
       "</div>"
      ],
      "text/plain": [
       "        station phase                         time   pick_id\n",
       "0          TAKO     P  2011-01-01T00:58:17.626000Z      1333\n",
       "1          TAKO     P  2011-01-01T02:49:13.526000Z      1334\n",
       "2          TAKO     P  2011-01-01T10:59:16.606000Z      1335\n",
       "3          TAKO     P  2011-01-01T12:31:07.946000Z      1336\n",
       "4          TAKO     P  2011-01-01T14:05:36.586000Z      1337\n",
       "...         ...   ...                          ...       ...\n",
       "2100819    J25D     S  2015-09-17T05:28:27.626100Z  23250778\n",
       "2100820    J25D     S  2015-09-17T05:21:40.010100Z  23250779\n",
       "2100821    J25D     S  2015-09-17T05:09:31.818100Z  23250786\n",
       "2100822    J25D     S  2015-09-17T05:14:23.938100Z  23250787\n",
       "2100823    J25D     S  2015-09-17T05:18:24.274100Z  23250790\n",
       "\n",
       "[2100824 rows x 4 columns]"
      ]
     },
     "execution_count": 4,
     "metadata": {},
     "output_type": "execute_result"
    }
   ],
   "source": [
    "picks"
   ]
  },
  {
   "cell_type": "code",
   "execution_count": 5,
   "id": "2bb5755e",
   "metadata": {},
   "outputs": [
    {
     "data": {
      "text/html": [
       "<div>\n",
       "<style scoped>\n",
       "    .dataframe tbody tr th:only-of-type {\n",
       "        vertical-align: middle;\n",
       "    }\n",
       "\n",
       "    .dataframe tbody tr th {\n",
       "        vertical-align: top;\n",
       "    }\n",
       "\n",
       "    .dataframe thead th {\n",
       "        text-align: right;\n",
       "    }\n",
       "</style>\n",
       "<table border=\"1\" class=\"dataframe\">\n",
       "  <thead>\n",
       "    <tr style=\"text-align: right;\">\n",
       "      <th></th>\n",
       "      <th>id</th>\n",
       "      <th>longitude</th>\n",
       "      <th>latitude</th>\n",
       "      <th>elevation</th>\n",
       "    </tr>\n",
       "  </thead>\n",
       "  <tbody>\n",
       "    <tr>\n",
       "      <th>0</th>\n",
       "      <td>TAKO</td>\n",
       "      <td>-124.083370</td>\n",
       "      <td>43.743130</td>\n",
       "      <td>12.0</td>\n",
       "    </tr>\n",
       "    <tr>\n",
       "      <th>1</th>\n",
       "      <td>J41A</td>\n",
       "      <td>-124.537201</td>\n",
       "      <td>45.811901</td>\n",
       "      <td>-175.0</td>\n",
       "    </tr>\n",
       "    <tr>\n",
       "      <th>2</th>\n",
       "      <td>J33A</td>\n",
       "      <td>-124.570801</td>\n",
       "      <td>45.106602</td>\n",
       "      <td>-348.7</td>\n",
       "    </tr>\n",
       "    <tr>\n",
       "      <th>3</th>\n",
       "      <td>J25A</td>\n",
       "      <td>-124.621597</td>\n",
       "      <td>44.472900</td>\n",
       "      <td>-142.8</td>\n",
       "    </tr>\n",
       "    <tr>\n",
       "      <th>4</th>\n",
       "      <td>J33B</td>\n",
       "      <td>-124.570602</td>\n",
       "      <td>45.106602</td>\n",
       "      <td>-350.0</td>\n",
       "    </tr>\n",
       "    <tr>\n",
       "      <th>5</th>\n",
       "      <td>J25B</td>\n",
       "      <td>-124.621696</td>\n",
       "      <td>44.471298</td>\n",
       "      <td>-147.0</td>\n",
       "    </tr>\n",
       "    <tr>\n",
       "      <th>6</th>\n",
       "      <td>J17B</td>\n",
       "      <td>-124.614799</td>\n",
       "      <td>43.790001</td>\n",
       "      <td>-286.0</td>\n",
       "    </tr>\n",
       "    <tr>\n",
       "      <th>7</th>\n",
       "      <td>J25C</td>\n",
       "      <td>-124.621696</td>\n",
       "      <td>44.473000</td>\n",
       "      <td>-144.0</td>\n",
       "    </tr>\n",
       "    <tr>\n",
       "      <th>8</th>\n",
       "      <td>J33C</td>\n",
       "      <td>-124.570801</td>\n",
       "      <td>45.106800</td>\n",
       "      <td>-354.0</td>\n",
       "    </tr>\n",
       "    <tr>\n",
       "      <th>9</th>\n",
       "      <td>J41C</td>\n",
       "      <td>-124.537598</td>\n",
       "      <td>45.811699</td>\n",
       "      <td>-171.0</td>\n",
       "    </tr>\n",
       "    <tr>\n",
       "      <th>10</th>\n",
       "      <td>J17D</td>\n",
       "      <td>-124.613403</td>\n",
       "      <td>43.787300</td>\n",
       "      <td>-285.0</td>\n",
       "    </tr>\n",
       "    <tr>\n",
       "      <th>11</th>\n",
       "      <td>J25D</td>\n",
       "      <td>-124.630997</td>\n",
       "      <td>44.456699</td>\n",
       "      <td>-136.0</td>\n",
       "    </tr>\n",
       "  </tbody>\n",
       "</table>\n",
       "</div>"
      ],
      "text/plain": [
       "      id   longitude   latitude  elevation\n",
       "0   TAKO -124.083370  43.743130       12.0\n",
       "1   J41A -124.537201  45.811901     -175.0\n",
       "2   J33A -124.570801  45.106602     -348.7\n",
       "3   J25A -124.621597  44.472900     -142.8\n",
       "4   J33B -124.570602  45.106602     -350.0\n",
       "5   J25B -124.621696  44.471298     -147.0\n",
       "6   J17B -124.614799  43.790001     -286.0\n",
       "7   J25C -124.621696  44.473000     -144.0\n",
       "8   J33C -124.570801  45.106800     -354.0\n",
       "9   J41C -124.537598  45.811699     -171.0\n",
       "10  J17D -124.613403  43.787300     -285.0\n",
       "11  J25D -124.630997  44.456699     -136.0"
      ]
     },
     "execution_count": 5,
     "metadata": {},
     "output_type": "execute_result"
    }
   ],
   "source": [
    "stations"
   ]
  },
  {
   "cell_type": "markdown",
   "id": "a3bf75c7",
   "metadata": {},
   "source": [
    "## Create a 1D velocity model\n",
    "Not needed for now."
   ]
  },
  {
   "cell_type": "code",
   "execution_count": 6,
   "id": "b5c28f00",
   "metadata": {},
   "outputs": [],
   "source": [
    "# !wget https://github.com/yetinam/pyocto/raw/main/tests/data/graeber.csv"
   ]
  },
  {
   "cell_type": "code",
   "execution_count": 7,
   "id": "b99a8be8",
   "metadata": {},
   "outputs": [
    {
     "data": {
      "text/html": [
       "<div>\n",
       "<style scoped>\n",
       "    .dataframe tbody tr th:only-of-type {\n",
       "        vertical-align: middle;\n",
       "    }\n",
       "\n",
       "    .dataframe tbody tr th {\n",
       "        vertical-align: top;\n",
       "    }\n",
       "\n",
       "    .dataframe thead th {\n",
       "        text-align: right;\n",
       "    }\n",
       "</style>\n",
       "<table border=\"1\" class=\"dataframe\">\n",
       "  <thead>\n",
       "    <tr style=\"text-align: right;\">\n",
       "      <th></th>\n",
       "      <th>depth</th>\n",
       "      <th>vp</th>\n",
       "      <th>vp_grad</th>\n",
       "      <th>vs</th>\n",
       "      <th>vs_grad</th>\n",
       "      <th>x</th>\n",
       "      <th>y</th>\n",
       "    </tr>\n",
       "  </thead>\n",
       "  <tbody>\n",
       "    <tr>\n",
       "      <th>0</th>\n",
       "      <td>0.0</td>\n",
       "      <td>1.8</td>\n",
       "      <td>0.700000</td>\n",
       "      <td>1.039230</td>\n",
       "      <td>0.404145</td>\n",
       "      <td>1</td>\n",
       "      <td>0</td>\n",
       "    </tr>\n",
       "    <tr>\n",
       "      <th>1</th>\n",
       "      <td>1.0</td>\n",
       "      <td>2.5</td>\n",
       "      <td>0.606061</td>\n",
       "      <td>1.443376</td>\n",
       "      <td>0.349909</td>\n",
       "      <td>1</td>\n",
       "      <td>0</td>\n",
       "    </tr>\n",
       "    <tr>\n",
       "      <th>2</th>\n",
       "      <td>4.3</td>\n",
       "      <td>4.5</td>\n",
       "      <td>0.375000</td>\n",
       "      <td>2.598076</td>\n",
       "      <td>0.216506</td>\n",
       "      <td>1</td>\n",
       "      <td>0</td>\n",
       "    </tr>\n",
       "    <tr>\n",
       "      <th>3</th>\n",
       "      <td>8.3</td>\n",
       "      <td>6.0</td>\n",
       "      <td>0.136364</td>\n",
       "      <td>3.464102</td>\n",
       "      <td>0.078730</td>\n",
       "      <td>1</td>\n",
       "      <td>0</td>\n",
       "    </tr>\n",
       "    <tr>\n",
       "      <th>4</th>\n",
       "      <td>10.5</td>\n",
       "      <td>6.3</td>\n",
       "      <td>0.011364</td>\n",
       "      <td>3.637307</td>\n",
       "      <td>0.006561</td>\n",
       "      <td>1</td>\n",
       "      <td>0</td>\n",
       "    </tr>\n",
       "    <tr>\n",
       "      <th>5</th>\n",
       "      <td>19.3</td>\n",
       "      <td>6.4</td>\n",
       "      <td>0.500000</td>\n",
       "      <td>3.695042</td>\n",
       "      <td>0.288675</td>\n",
       "      <td>1</td>\n",
       "      <td>0</td>\n",
       "    </tr>\n",
       "    <tr>\n",
       "      <th>6</th>\n",
       "      <td>20.3</td>\n",
       "      <td>6.9</td>\n",
       "      <td>0.032258</td>\n",
       "      <td>3.983717</td>\n",
       "      <td>0.018624</td>\n",
       "      <td>1</td>\n",
       "      <td>0</td>\n",
       "    </tr>\n",
       "    <tr>\n",
       "      <th>7</th>\n",
       "      <td>23.4</td>\n",
       "      <td>7.0</td>\n",
       "      <td>0.666667</td>\n",
       "      <td>4.041452</td>\n",
       "      <td>0.384900</td>\n",
       "      <td>1</td>\n",
       "      <td>0</td>\n",
       "    </tr>\n",
       "    <tr>\n",
       "      <th>8</th>\n",
       "      <td>25.2</td>\n",
       "      <td>8.2</td>\n",
       "      <td>0.666667</td>\n",
       "      <td>4.734272</td>\n",
       "      <td>0.384900</td>\n",
       "      <td>1</td>\n",
       "      <td>0</td>\n",
       "    </tr>\n",
       "  </tbody>\n",
       "</table>\n",
       "</div>"
      ],
      "text/plain": [
       "   depth   vp   vp_grad        vs   vs_grad  x  y\n",
       "0    0.0  1.8  0.700000  1.039230  0.404145  1  0\n",
       "1    1.0  2.5  0.606061  1.443376  0.349909  1  0\n",
       "2    4.3  4.5  0.375000  2.598076  0.216506  1  0\n",
       "3    8.3  6.0  0.136364  3.464102  0.078730  1  0\n",
       "4   10.5  6.3  0.011364  3.637307  0.006561  1  0\n",
       "5   19.3  6.4  0.500000  3.695042  0.288675  1  0\n",
       "6   20.3  6.9  0.032258  3.983717  0.018624  1  0\n",
       "7   23.4  7.0  0.666667  4.041452  0.384900  1  0\n",
       "8   25.2  8.2  0.666667  4.734272  0.384900  1  0"
      ]
     },
     "execution_count": 7,
     "metadata": {},
     "output_type": "execute_result"
    }
   ],
   "source": [
    "layers = pd.read_csv(\"../data/or_shore.csv\")\n",
    "\n",
    "# Strip leading/trailing spaces from column names\n",
    "layers.columns = layers.columns.str.strip()\n",
    "layers"
   ]
  },
  {
   "cell_type": "code",
   "execution_count": 8,
   "id": "e492330c",
   "metadata": {},
   "outputs": [],
   "source": [
    "model_path = \"velocity_model\"\n",
    "pyocto.VelocityModel1D.create_model(layers, 1., 400, 250, model_path)"
   ]
  },
  {
   "cell_type": "code",
   "execution_count": 9,
   "id": "a9d3a14a",
   "metadata": {},
   "outputs": [],
   "source": [
    "velocity_model_1d = pyocto.VelocityModel1D(model_path, tolerance=2.0)"
   ]
  },
  {
   "cell_type": "markdown",
   "id": "0f6a5c8a",
   "metadata": {},
   "source": [
    "## The OctoAssociator class"
   ]
  },
  {
   "cell_type": "code",
   "execution_count": 10,
   "id": "c49c113f",
   "metadata": {},
   "outputs": [],
   "source": [
    "#  Define the associator parameters\n",
    "associator = pyocto.OctoAssociator.from_area(\n",
    "    lat=(38, 51),\n",
    "    lon=(-132, -119),\n",
    "    zlim=(0, 50),\n",
    "    time_before=300,\n",
    "    velocity_model=velocity_model_1d,\n",
    "    n_picks=5,\n",
    "    n_p_picks=1,\n",
    "    n_s_picks=3,\n",
    "    n_p_and_s_picks=1,\n",
    ")"
   ]
  },
  {
   "cell_type": "code",
   "execution_count": 11,
   "id": "8563e5e5",
   "metadata": {},
   "outputs": [
    {
     "data": {
      "text/html": [
       "<div>\n",
       "<style scoped>\n",
       "    .dataframe tbody tr th:only-of-type {\n",
       "        vertical-align: middle;\n",
       "    }\n",
       "\n",
       "    .dataframe tbody tr th {\n",
       "        vertical-align: top;\n",
       "    }\n",
       "\n",
       "    .dataframe thead th {\n",
       "        text-align: right;\n",
       "    }\n",
       "</style>\n",
       "<table border=\"1\" class=\"dataframe\">\n",
       "  <thead>\n",
       "    <tr style=\"text-align: right;\">\n",
       "      <th></th>\n",
       "      <th>id</th>\n",
       "      <th>longitude</th>\n",
       "      <th>latitude</th>\n",
       "      <th>elevation</th>\n",
       "      <th>x</th>\n",
       "      <th>y</th>\n",
       "      <th>z</th>\n",
       "    </tr>\n",
       "  </thead>\n",
       "  <tbody>\n",
       "    <tr>\n",
       "      <th>0</th>\n",
       "      <td>TAKO</td>\n",
       "      <td>-124.083370</td>\n",
       "      <td>43.743130</td>\n",
       "      <td>12.0</td>\n",
       "      <td>114.112087</td>\n",
       "      <td>-83.123820</td>\n",
       "      <td>-0.0120</td>\n",
       "    </tr>\n",
       "    <tr>\n",
       "      <th>1</th>\n",
       "      <td>J41A</td>\n",
       "      <td>-124.537201</td>\n",
       "      <td>45.811901</td>\n",
       "      <td>-175.0</td>\n",
       "      <td>74.833812</td>\n",
       "      <td>146.248761</td>\n",
       "      <td>0.1750</td>\n",
       "    </tr>\n",
       "    <tr>\n",
       "      <th>2</th>\n",
       "      <td>J33A</td>\n",
       "      <td>-124.570801</td>\n",
       "      <td>45.106602</td>\n",
       "      <td>-348.7</td>\n",
       "      <td>73.128411</td>\n",
       "      <td>67.830527</td>\n",
       "      <td>0.3487</td>\n",
       "    </tr>\n",
       "    <tr>\n",
       "      <th>3</th>\n",
       "      <td>J25A</td>\n",
       "      <td>-124.621597</td>\n",
       "      <td>44.472900</td>\n",
       "      <td>-142.8</td>\n",
       "      <td>69.891412</td>\n",
       "      <td>-2.636051</td>\n",
       "      <td>0.1428</td>\n",
       "    </tr>\n",
       "    <tr>\n",
       "      <th>4</th>\n",
       "      <td>J33B</td>\n",
       "      <td>-124.570602</td>\n",
       "      <td>45.106602</td>\n",
       "      <td>-350.0</td>\n",
       "      <td>73.144073</td>\n",
       "      <td>67.830707</td>\n",
       "      <td>0.3500</td>\n",
       "    </tr>\n",
       "    <tr>\n",
       "      <th>5</th>\n",
       "      <td>J25B</td>\n",
       "      <td>-124.621696</td>\n",
       "      <td>44.471298</td>\n",
       "      <td>-147.0</td>\n",
       "      <td>69.885447</td>\n",
       "      <td>-2.814152</td>\n",
       "      <td>0.1470</td>\n",
       "    </tr>\n",
       "    <tr>\n",
       "      <th>6</th>\n",
       "      <td>J17B</td>\n",
       "      <td>-124.614799</td>\n",
       "      <td>43.790001</td>\n",
       "      <td>-286.0</td>\n",
       "      <td>71.248667</td>\n",
       "      <td>-78.510700</td>\n",
       "      <td>0.2860</td>\n",
       "    </tr>\n",
       "    <tr>\n",
       "      <th>7</th>\n",
       "      <td>J25C</td>\n",
       "      <td>-124.621696</td>\n",
       "      <td>44.473000</td>\n",
       "      <td>-144.0</td>\n",
       "      <td>69.883416</td>\n",
       "      <td>-2.625023</td>\n",
       "      <td>0.1440</td>\n",
       "    </tr>\n",
       "    <tr>\n",
       "      <th>8</th>\n",
       "      <td>J33C</td>\n",
       "      <td>-124.570801</td>\n",
       "      <td>45.106800</td>\n",
       "      <td>-354.0</td>\n",
       "      <td>73.128159</td>\n",
       "      <td>67.852532</td>\n",
       "      <td>0.3540</td>\n",
       "    </tr>\n",
       "    <tr>\n",
       "      <th>9</th>\n",
       "      <td>J41C</td>\n",
       "      <td>-124.537598</td>\n",
       "      <td>45.811699</td>\n",
       "      <td>-171.0</td>\n",
       "      <td>74.803226</td>\n",
       "      <td>146.225937</td>\n",
       "      <td>0.1710</td>\n",
       "    </tr>\n",
       "    <tr>\n",
       "      <th>10</th>\n",
       "      <td>J17D</td>\n",
       "      <td>-124.613403</td>\n",
       "      <td>43.787300</td>\n",
       "      <td>-285.0</td>\n",
       "      <td>71.364243</td>\n",
       "      <td>-78.809603</td>\n",
       "      <td>0.2850</td>\n",
       "    </tr>\n",
       "    <tr>\n",
       "      <th>11</th>\n",
       "      <td>J25D</td>\n",
       "      <td>-124.630997</td>\n",
       "      <td>44.456699</td>\n",
       "      <td>-136.0</td>\n",
       "      <td>69.162614</td>\n",
       "      <td>-4.444322</td>\n",
       "      <td>0.1360</td>\n",
       "    </tr>\n",
       "  </tbody>\n",
       "</table>\n",
       "</div>"
      ],
      "text/plain": [
       "      id   longitude   latitude  elevation           x           y       z\n",
       "0   TAKO -124.083370  43.743130       12.0  114.112087  -83.123820 -0.0120\n",
       "1   J41A -124.537201  45.811901     -175.0   74.833812  146.248761  0.1750\n",
       "2   J33A -124.570801  45.106602     -348.7   73.128411   67.830527  0.3487\n",
       "3   J25A -124.621597  44.472900     -142.8   69.891412   -2.636051  0.1428\n",
       "4   J33B -124.570602  45.106602     -350.0   73.144073   67.830707  0.3500\n",
       "5   J25B -124.621696  44.471298     -147.0   69.885447   -2.814152  0.1470\n",
       "6   J17B -124.614799  43.790001     -286.0   71.248667  -78.510700  0.2860\n",
       "7   J25C -124.621696  44.473000     -144.0   69.883416   -2.625023  0.1440\n",
       "8   J33C -124.570801  45.106800     -354.0   73.128159   67.852532  0.3540\n",
       "9   J41C -124.537598  45.811699     -171.0   74.803226  146.225937  0.1710\n",
       "10  J17D -124.613403  43.787300     -285.0   71.364243  -78.809603  0.2850\n",
       "11  J25D -124.630997  44.456699     -136.0   69.162614   -4.444322  0.1360"
      ]
     },
     "execution_count": 11,
     "metadata": {},
     "output_type": "execute_result"
    }
   ],
   "source": [
    "associator.transform_stations(stations)\n",
    "stations"
   ]
  },
  {
   "cell_type": "markdown",
   "id": "27c78b5c",
   "metadata": {},
   "source": [
    "## Convert the timestamps to floats"
   ]
  },
  {
   "cell_type": "code",
   "execution_count": 12,
   "id": "c99c738e",
   "metadata": {
    "scrolled": true
   },
   "outputs": [
    {
     "data": {
      "text/html": [
       "<div>\n",
       "<style scoped>\n",
       "    .dataframe tbody tr th:only-of-type {\n",
       "        vertical-align: middle;\n",
       "    }\n",
       "\n",
       "    .dataframe tbody tr th {\n",
       "        vertical-align: top;\n",
       "    }\n",
       "\n",
       "    .dataframe thead th {\n",
       "        text-align: right;\n",
       "    }\n",
       "</style>\n",
       "<table border=\"1\" class=\"dataframe\">\n",
       "  <thead>\n",
       "    <tr style=\"text-align: right;\">\n",
       "      <th></th>\n",
       "      <th>station</th>\n",
       "      <th>phase</th>\n",
       "      <th>time</th>\n",
       "      <th>pick_id</th>\n",
       "    </tr>\n",
       "  </thead>\n",
       "  <tbody>\n",
       "    <tr>\n",
       "      <th>0</th>\n",
       "      <td>TAKO</td>\n",
       "      <td>P</td>\n",
       "      <td>1.293843e+09</td>\n",
       "      <td>1333</td>\n",
       "    </tr>\n",
       "    <tr>\n",
       "      <th>1</th>\n",
       "      <td>TAKO</td>\n",
       "      <td>P</td>\n",
       "      <td>1.293850e+09</td>\n",
       "      <td>1334</td>\n",
       "    </tr>\n",
       "    <tr>\n",
       "      <th>2</th>\n",
       "      <td>TAKO</td>\n",
       "      <td>P</td>\n",
       "      <td>1.293880e+09</td>\n",
       "      <td>1335</td>\n",
       "    </tr>\n",
       "    <tr>\n",
       "      <th>3</th>\n",
       "      <td>TAKO</td>\n",
       "      <td>P</td>\n",
       "      <td>1.293885e+09</td>\n",
       "      <td>1336</td>\n",
       "    </tr>\n",
       "    <tr>\n",
       "      <th>4</th>\n",
       "      <td>TAKO</td>\n",
       "      <td>P</td>\n",
       "      <td>1.293891e+09</td>\n",
       "      <td>1337</td>\n",
       "    </tr>\n",
       "    <tr>\n",
       "      <th>...</th>\n",
       "      <td>...</td>\n",
       "      <td>...</td>\n",
       "      <td>...</td>\n",
       "      <td>...</td>\n",
       "    </tr>\n",
       "    <tr>\n",
       "      <th>2100819</th>\n",
       "      <td>J25D</td>\n",
       "      <td>S</td>\n",
       "      <td>1.442468e+09</td>\n",
       "      <td>23250778</td>\n",
       "    </tr>\n",
       "    <tr>\n",
       "      <th>2100820</th>\n",
       "      <td>J25D</td>\n",
       "      <td>S</td>\n",
       "      <td>1.442467e+09</td>\n",
       "      <td>23250779</td>\n",
       "    </tr>\n",
       "    <tr>\n",
       "      <th>2100821</th>\n",
       "      <td>J25D</td>\n",
       "      <td>S</td>\n",
       "      <td>1.442467e+09</td>\n",
       "      <td>23250786</td>\n",
       "    </tr>\n",
       "    <tr>\n",
       "      <th>2100822</th>\n",
       "      <td>J25D</td>\n",
       "      <td>S</td>\n",
       "      <td>1.442467e+09</td>\n",
       "      <td>23250787</td>\n",
       "    </tr>\n",
       "    <tr>\n",
       "      <th>2100823</th>\n",
       "      <td>J25D</td>\n",
       "      <td>S</td>\n",
       "      <td>1.442467e+09</td>\n",
       "      <td>23250790</td>\n",
       "    </tr>\n",
       "  </tbody>\n",
       "</table>\n",
       "<p>2100824 rows × 4 columns</p>\n",
       "</div>"
      ],
      "text/plain": [
       "        station phase          time   pick_id\n",
       "0          TAKO     P  1.293843e+09      1333\n",
       "1          TAKO     P  1.293850e+09      1334\n",
       "2          TAKO     P  1.293880e+09      1335\n",
       "3          TAKO     P  1.293885e+09      1336\n",
       "4          TAKO     P  1.293891e+09      1337\n",
       "...         ...   ...           ...       ...\n",
       "2100819    J25D     S  1.442468e+09  23250778\n",
       "2100820    J25D     S  1.442467e+09  23250779\n",
       "2100821    J25D     S  1.442467e+09  23250786\n",
       "2100822    J25D     S  1.442467e+09  23250787\n",
       "2100823    J25D     S  1.442467e+09  23250790\n",
       "\n",
       "[2100824 rows x 4 columns]"
      ]
     },
     "execution_count": 12,
     "metadata": {},
     "output_type": "execute_result"
    }
   ],
   "source": [
    "# Convert the times to timestamps\n",
    "picks[\"time\"] = picks[\"time\"].apply(lambda x: datetime.datetime.strptime(x,'%Y-%m-%dT%H:%M:%S.%fZ'))\n",
    "picks[\"time\"] = picks[\"time\"].apply(lambda x: x.timestamp())\n",
    "picks"
   ]
  },
  {
   "cell_type": "code",
   "execution_count": 13,
   "id": "ae18d231",
   "metadata": {},
   "outputs": [],
   "source": [
    "# picks['time'] = picks['time'].apply(lambda x: (datetime.datetime.strptime(x,'%Y-%m-%dT%H:%M:%S.%fZ')).timestamp())\n",
    "# picks"
   ]
  },
  {
   "cell_type": "markdown",
   "id": "a0227ee6",
   "metadata": {},
   "source": [
    "## Apply  the associator"
   ]
  },
  {
   "cell_type": "code",
   "execution_count": 14,
   "id": "261a46ca",
   "metadata": {},
   "outputs": [],
   "source": [
    "# Association \n",
    "events, assignments = associator.associate(picks, stations)"
   ]
  },
  {
   "cell_type": "code",
   "execution_count": 15,
   "id": "0c48bb4d",
   "metadata": {},
   "outputs": [
    {
     "data": {
      "text/plain": [
       "Counter({5: 59, 6: 19, 7: 2})"
      ]
     },
     "execution_count": 15,
     "metadata": {},
     "output_type": "execute_result"
    }
   ],
   "source": [
    "# Count how many picks each event has\n",
    "Counter(events['picks'])"
   ]
  },
  {
   "cell_type": "code",
   "execution_count": 16,
   "id": "ef8aa879",
   "metadata": {
    "scrolled": false
   },
   "outputs": [],
   "source": [
    "# Convert the event times and the x, y, and z coordinate to latitudes, longitudes, and depths, respectively\n",
    "associator.transform_events(events)\n",
    "events[\"time\"] = events[\"time\"].apply(datetime.datetime.fromtimestamp, tz=datetime.timezone.utc)"
   ]
  },
  {
   "cell_type": "code",
   "execution_count": 17,
   "id": "3dc911d7",
   "metadata": {},
   "outputs": [
    {
     "data": {
      "text/html": [
       "<div>\n",
       "<style scoped>\n",
       "    .dataframe tbody tr th:only-of-type {\n",
       "        vertical-align: middle;\n",
       "    }\n",
       "\n",
       "    .dataframe tbody tr th {\n",
       "        vertical-align: top;\n",
       "    }\n",
       "\n",
       "    .dataframe thead th {\n",
       "        text-align: right;\n",
       "    }\n",
       "</style>\n",
       "<table border=\"1\" class=\"dataframe\">\n",
       "  <thead>\n",
       "    <tr style=\"text-align: right;\">\n",
       "      <th></th>\n",
       "      <th>idx</th>\n",
       "      <th>time</th>\n",
       "      <th>x</th>\n",
       "      <th>y</th>\n",
       "      <th>z</th>\n",
       "      <th>picks</th>\n",
       "      <th>latitude</th>\n",
       "      <th>longitude</th>\n",
       "      <th>depth</th>\n",
       "    </tr>\n",
       "  </thead>\n",
       "  <tbody>\n",
       "    <tr>\n",
       "      <th>0</th>\n",
       "      <td>0</td>\n",
       "      <td>2011-10-24 18:45:22.017483+00:00</td>\n",
       "      <td>26.217587</td>\n",
       "      <td>85.578993</td>\n",
       "      <td>2.734375</td>\n",
       "      <td>5</td>\n",
       "      <td>45.269595</td>\n",
       "      <td>-125.165917</td>\n",
       "      <td>2.734375</td>\n",
       "    </tr>\n",
       "    <tr>\n",
       "      <th>1</th>\n",
       "      <td>1</td>\n",
       "      <td>2011-11-09 17:24:51.454200+00:00</td>\n",
       "      <td>-108.775094</td>\n",
       "      <td>-173.323761</td>\n",
       "      <td>6.640625</td>\n",
       "      <td>6</td>\n",
       "      <td>42.932269</td>\n",
       "      <td>-126.832522</td>\n",
       "      <td>6.640625</td>\n",
       "    </tr>\n",
       "    <tr>\n",
       "      <th>2</th>\n",
       "      <td>2</td>\n",
       "      <td>2011-12-08 18:34:06.040983+00:00</td>\n",
       "      <td>-99.849958</td>\n",
       "      <td>-173.323761</td>\n",
       "      <td>1.171875</td>\n",
       "      <td>6</td>\n",
       "      <td>42.933490</td>\n",
       "      <td>-126.723212</td>\n",
       "      <td>1.171875</td>\n",
       "    </tr>\n",
       "    <tr>\n",
       "      <th>3</th>\n",
       "      <td>3</td>\n",
       "      <td>2011-12-20 00:00:16.064003+00:00</td>\n",
       "      <td>-0.557821</td>\n",
       "      <td>9.767689</td>\n",
       "      <td>25.390625</td>\n",
       "      <td>6</td>\n",
       "      <td>44.587900</td>\n",
       "      <td>-125.507025</td>\n",
       "      <td>25.390625</td>\n",
       "    </tr>\n",
       "    <tr>\n",
       "      <th>4</th>\n",
       "      <td>4</td>\n",
       "      <td>2012-02-03 03:03:40.803628+00:00</td>\n",
       "      <td>-126.625365</td>\n",
       "      <td>-153.298134</td>\n",
       "      <td>12.890625</td>\n",
       "      <td>6</td>\n",
       "      <td>43.109709</td>\n",
       "      <td>-127.055663</td>\n",
       "      <td>12.890625</td>\n",
       "    </tr>\n",
       "    <tr>\n",
       "      <th>...</th>\n",
       "      <td>...</td>\n",
       "      <td>...</td>\n",
       "      <td>...</td>\n",
       "      <td>...</td>\n",
       "      <td>...</td>\n",
       "      <td>...</td>\n",
       "      <td>...</td>\n",
       "      <td>...</td>\n",
       "      <td>...</td>\n",
       "    </tr>\n",
       "    <tr>\n",
       "      <th>75</th>\n",
       "      <td>75</td>\n",
       "      <td>2014-01-15 08:31:57.792461+00:00</td>\n",
       "      <td>-127.741007</td>\n",
       "      <td>-177.614967</td>\n",
       "      <td>26.953125</td>\n",
       "      <td>6</td>\n",
       "      <td>42.890716</td>\n",
       "      <td>-127.063804</td>\n",
       "      <td>26.953125</td>\n",
       "    </tr>\n",
       "    <tr>\n",
       "      <th>76</th>\n",
       "      <td>76</td>\n",
       "      <td>2014-01-16 15:38:21.142517+00:00</td>\n",
       "      <td>-18.408093</td>\n",
       "      <td>-107.525271</td>\n",
       "      <td>1.171875</td>\n",
       "      <td>5</td>\n",
       "      <td>43.532058</td>\n",
       "      <td>-125.727727</td>\n",
       "      <td>1.171875</td>\n",
       "    </tr>\n",
       "    <tr>\n",
       "      <th>77</th>\n",
       "      <td>77</td>\n",
       "      <td>2014-02-25 23:03:08.886563+00:00</td>\n",
       "      <td>-9.482957</td>\n",
       "      <td>-87.499644</td>\n",
       "      <td>12.890625</td>\n",
       "      <td>6</td>\n",
       "      <td>43.712465</td>\n",
       "      <td>-125.617665</td>\n",
       "      <td>12.890625</td>\n",
       "    </tr>\n",
       "    <tr>\n",
       "      <th>78</th>\n",
       "      <td>78</td>\n",
       "      <td>2014-05-12 16:45:45.434971+00:00</td>\n",
       "      <td>-232.611354</td>\n",
       "      <td>-103.234065</td>\n",
       "      <td>2.734375</td>\n",
       "      <td>6</td>\n",
       "      <td>43.534678</td>\n",
       "      <td>-128.377708</td>\n",
       "      <td>2.734375</td>\n",
       "    </tr>\n",
       "    <tr>\n",
       "      <th>79</th>\n",
       "      <td>79</td>\n",
       "      <td>2014-05-12 18:50:56.744503+00:00</td>\n",
       "      <td>-228.148786</td>\n",
       "      <td>-106.094869</td>\n",
       "      <td>0.390625</td>\n",
       "      <td>6</td>\n",
       "      <td>43.510336</td>\n",
       "      <td>-128.321367</td>\n",
       "      <td>0.390625</td>\n",
       "    </tr>\n",
       "  </tbody>\n",
       "</table>\n",
       "<p>80 rows × 9 columns</p>\n",
       "</div>"
      ],
      "text/plain": [
       "    idx                             time           x           y          z  \\\n",
       "0     0 2011-10-24 18:45:22.017483+00:00   26.217587   85.578993   2.734375   \n",
       "1     1 2011-11-09 17:24:51.454200+00:00 -108.775094 -173.323761   6.640625   \n",
       "2     2 2011-12-08 18:34:06.040983+00:00  -99.849958 -173.323761   1.171875   \n",
       "3     3 2011-12-20 00:00:16.064003+00:00   -0.557821    9.767689  25.390625   \n",
       "4     4 2012-02-03 03:03:40.803628+00:00 -126.625365 -153.298134  12.890625   \n",
       "..  ...                              ...         ...         ...        ...   \n",
       "75   75 2014-01-15 08:31:57.792461+00:00 -127.741007 -177.614967  26.953125   \n",
       "76   76 2014-01-16 15:38:21.142517+00:00  -18.408093 -107.525271   1.171875   \n",
       "77   77 2014-02-25 23:03:08.886563+00:00   -9.482957  -87.499644  12.890625   \n",
       "78   78 2014-05-12 16:45:45.434971+00:00 -232.611354 -103.234065   2.734375   \n",
       "79   79 2014-05-12 18:50:56.744503+00:00 -228.148786 -106.094869   0.390625   \n",
       "\n",
       "    picks   latitude   longitude      depth  \n",
       "0       5  45.269595 -125.165917   2.734375  \n",
       "1       6  42.932269 -126.832522   6.640625  \n",
       "2       6  42.933490 -126.723212   1.171875  \n",
       "3       6  44.587900 -125.507025  25.390625  \n",
       "4       6  43.109709 -127.055663  12.890625  \n",
       "..    ...        ...         ...        ...  \n",
       "75      6  42.890716 -127.063804  26.953125  \n",
       "76      5  43.532058 -125.727727   1.171875  \n",
       "77      6  43.712465 -125.617665  12.890625  \n",
       "78      6  43.534678 -128.377708   2.734375  \n",
       "79      6  43.510336 -128.321367   0.390625  \n",
       "\n",
       "[80 rows x 9 columns]"
      ]
     },
     "execution_count": 17,
     "metadata": {},
     "output_type": "execute_result"
    }
   ],
   "source": [
    "events"
   ]
  },
  {
   "cell_type": "code",
   "execution_count": 18,
   "id": "6a765097",
   "metadata": {},
   "outputs": [],
   "source": [
    "#  Save events that have at least 6 picks\n",
    "events = events.loc[(events['picks'] >= 6)]\n",
    "events.to_csv('../data/datasets_or_shore/events_or_shore.csv')\n"
   ]
  },
  {
   "cell_type": "code",
   "execution_count": 19,
   "id": "a86b6d58",
   "metadata": {},
   "outputs": [],
   "source": [
    "# events.to_csv('~/notebooks/src/association_events.csv')"
   ]
  },
  {
   "cell_type": "code",
   "execution_count": 20,
   "id": "e6767f3c",
   "metadata": {
    "scrolled": true
   },
   "outputs": [
    {
     "data": {
      "text/html": [
       "<div>\n",
       "<style scoped>\n",
       "    .dataframe tbody tr th:only-of-type {\n",
       "        vertical-align: middle;\n",
       "    }\n",
       "\n",
       "    .dataframe tbody tr th {\n",
       "        vertical-align: top;\n",
       "    }\n",
       "\n",
       "    .dataframe thead th {\n",
       "        text-align: right;\n",
       "    }\n",
       "</style>\n",
       "<table border=\"1\" class=\"dataframe\">\n",
       "  <thead>\n",
       "    <tr style=\"text-align: right;\">\n",
       "      <th></th>\n",
       "      <th>event_idx</th>\n",
       "      <th>pick_idx</th>\n",
       "      <th>residual</th>\n",
       "      <th>station</th>\n",
       "      <th>phase</th>\n",
       "      <th>time</th>\n",
       "      <th>pick_id</th>\n",
       "    </tr>\n",
       "  </thead>\n",
       "  <tbody>\n",
       "    <tr>\n",
       "      <th>0</th>\n",
       "      <td>0</td>\n",
       "      <td>1146792</td>\n",
       "      <td>0.029844</td>\n",
       "      <td>J25A</td>\n",
       "      <td>S</td>\n",
       "      <td>1.319482e+09</td>\n",
       "      <td>1417172</td>\n",
       "    </tr>\n",
       "    <tr>\n",
       "      <th>1</th>\n",
       "      <td>0</td>\n",
       "      <td>24974</td>\n",
       "      <td>0.227901</td>\n",
       "      <td>J33A</td>\n",
       "      <td>P</td>\n",
       "      <td>1.319482e+09</td>\n",
       "      <td>1408201</td>\n",
       "    </tr>\n",
       "    <tr>\n",
       "      <th>2</th>\n",
       "      <td>0</td>\n",
       "      <td>1146597</td>\n",
       "      <td>-0.153722</td>\n",
       "      <td>J33A</td>\n",
       "      <td>S</td>\n",
       "      <td>1.319482e+09</td>\n",
       "      <td>1408180</td>\n",
       "    </tr>\n",
       "    <tr>\n",
       "      <th>3</th>\n",
       "      <td>0</td>\n",
       "      <td>25137</td>\n",
       "      <td>-0.298110</td>\n",
       "      <td>J41A</td>\n",
       "      <td>P</td>\n",
       "      <td>1.319482e+09</td>\n",
       "      <td>1413664</td>\n",
       "    </tr>\n",
       "    <tr>\n",
       "      <th>4</th>\n",
       "      <td>0</td>\n",
       "      <td>1146642</td>\n",
       "      <td>0.194086</td>\n",
       "      <td>J41A</td>\n",
       "      <td>S</td>\n",
       "      <td>1.319482e+09</td>\n",
       "      <td>1412837</td>\n",
       "    </tr>\n",
       "    <tr>\n",
       "      <th>...</th>\n",
       "      <td>...</td>\n",
       "      <td>...</td>\n",
       "      <td>...</td>\n",
       "      <td>...</td>\n",
       "      <td>...</td>\n",
       "      <td>...</td>\n",
       "      <td>...</td>\n",
       "    </tr>\n",
       "    <tr>\n",
       "      <th>418</th>\n",
       "      <td>79</td>\n",
       "      <td>1777535</td>\n",
       "      <td>0.313275</td>\n",
       "      <td>J25C</td>\n",
       "      <td>S</td>\n",
       "      <td>1.399921e+09</td>\n",
       "      <td>14661095</td>\n",
       "    </tr>\n",
       "    <tr>\n",
       "      <th>419</th>\n",
       "      <td>79</td>\n",
       "      <td>713820</td>\n",
       "      <td>-0.334241</td>\n",
       "      <td>J33C</td>\n",
       "      <td>P</td>\n",
       "      <td>1.399921e+09</td>\n",
       "      <td>14680778</td>\n",
       "    </tr>\n",
       "    <tr>\n",
       "      <th>420</th>\n",
       "      <td>79</td>\n",
       "      <td>1777865</td>\n",
       "      <td>-0.548412</td>\n",
       "      <td>J33C</td>\n",
       "      <td>S</td>\n",
       "      <td>1.399921e+09</td>\n",
       "      <td>14680749</td>\n",
       "    </tr>\n",
       "    <tr>\n",
       "      <th>421</th>\n",
       "      <td>79</td>\n",
       "      <td>713680</td>\n",
       "      <td>0.414925</td>\n",
       "      <td>J41C</td>\n",
       "      <td>P</td>\n",
       "      <td>1.399921e+09</td>\n",
       "      <td>14671577</td>\n",
       "    </tr>\n",
       "    <tr>\n",
       "      <th>422</th>\n",
       "      <td>79</td>\n",
       "      <td>1777796</td>\n",
       "      <td>0.211801</td>\n",
       "      <td>J41C</td>\n",
       "      <td>S</td>\n",
       "      <td>1.399921e+09</td>\n",
       "      <td>14671819</td>\n",
       "    </tr>\n",
       "  </tbody>\n",
       "</table>\n",
       "<p>423 rows × 7 columns</p>\n",
       "</div>"
      ],
      "text/plain": [
       "     event_idx  pick_idx  residual station phase          time   pick_id\n",
       "0            0   1146792  0.029844    J25A     S  1.319482e+09   1417172\n",
       "1            0     24974  0.227901    J33A     P  1.319482e+09   1408201\n",
       "2            0   1146597 -0.153722    J33A     S  1.319482e+09   1408180\n",
       "3            0     25137 -0.298110    J41A     P  1.319482e+09   1413664\n",
       "4            0   1146642  0.194086    J41A     S  1.319482e+09   1412837\n",
       "..         ...       ...       ...     ...   ...           ...       ...\n",
       "418         79   1777535  0.313275    J25C     S  1.399921e+09  14661095\n",
       "419         79    713820 -0.334241    J33C     P  1.399921e+09  14680778\n",
       "420         79   1777865 -0.548412    J33C     S  1.399921e+09  14680749\n",
       "421         79    713680  0.414925    J41C     P  1.399921e+09  14671577\n",
       "422         79   1777796  0.211801    J41C     S  1.399921e+09  14671819\n",
       "\n",
       "[423 rows x 7 columns]"
      ]
     },
     "execution_count": 20,
     "metadata": {},
     "output_type": "execute_result"
    }
   ],
   "source": [
    "# Print the assignments\n",
    "assignments"
   ]
  },
  {
   "cell_type": "code",
   "execution_count": 21,
   "id": "ff00602d",
   "metadata": {
    "scrolled": true
   },
   "outputs": [
    {
     "data": {
      "text/html": [
       "<div>\n",
       "<style scoped>\n",
       "    .dataframe tbody tr th:only-of-type {\n",
       "        vertical-align: middle;\n",
       "    }\n",
       "\n",
       "    .dataframe tbody tr th {\n",
       "        vertical-align: top;\n",
       "    }\n",
       "\n",
       "    .dataframe thead th {\n",
       "        text-align: right;\n",
       "    }\n",
       "</style>\n",
       "<table border=\"1\" class=\"dataframe\">\n",
       "  <thead>\n",
       "    <tr style=\"text-align: right;\">\n",
       "      <th></th>\n",
       "      <th>idx</th>\n",
       "      <th>time</th>\n",
       "      <th>x</th>\n",
       "      <th>y</th>\n",
       "      <th>z</th>\n",
       "      <th>picks</th>\n",
       "      <th>latitude</th>\n",
       "      <th>longitude</th>\n",
       "      <th>depth</th>\n",
       "      <th>event_idx</th>\n",
       "      <th>pick_idx</th>\n",
       "      <th>residual</th>\n",
       "      <th>station</th>\n",
       "      <th>phase</th>\n",
       "      <th>time_pick</th>\n",
       "      <th>pick_id</th>\n",
       "    </tr>\n",
       "  </thead>\n",
       "  <tbody>\n",
       "    <tr>\n",
       "      <th>0</th>\n",
       "      <td>1</td>\n",
       "      <td>2011-11-09 17:24:51.454200+00:00</td>\n",
       "      <td>-108.775094</td>\n",
       "      <td>-173.323761</td>\n",
       "      <td>6.640625</td>\n",
       "      <td>6</td>\n",
       "      <td>42.932269</td>\n",
       "      <td>-126.832522</td>\n",
       "      <td>6.640625</td>\n",
       "      <td>1</td>\n",
       "      <td>30379</td>\n",
       "      <td>0.186548</td>\n",
       "      <td>J25A</td>\n",
       "      <td>P</td>\n",
       "      <td>1.320860e+09</td>\n",
       "      <td>1583797</td>\n",
       "    </tr>\n",
       "    <tr>\n",
       "      <th>1</th>\n",
       "      <td>1</td>\n",
       "      <td>2011-11-09 17:24:51.454200+00:00</td>\n",
       "      <td>-108.775094</td>\n",
       "      <td>-173.323761</td>\n",
       "      <td>6.640625</td>\n",
       "      <td>6</td>\n",
       "      <td>42.932269</td>\n",
       "      <td>-126.832522</td>\n",
       "      <td>6.640625</td>\n",
       "      <td>1</td>\n",
       "      <td>1151862</td>\n",
       "      <td>0.083338</td>\n",
       "      <td>J25A</td>\n",
       "      <td>S</td>\n",
       "      <td>1.320860e+09</td>\n",
       "      <td>1583818</td>\n",
       "    </tr>\n",
       "    <tr>\n",
       "      <th>2</th>\n",
       "      <td>1</td>\n",
       "      <td>2011-11-09 17:24:51.454200+00:00</td>\n",
       "      <td>-108.775094</td>\n",
       "      <td>-173.323761</td>\n",
       "      <td>6.640625</td>\n",
       "      <td>6</td>\n",
       "      <td>42.932269</td>\n",
       "      <td>-126.832522</td>\n",
       "      <td>6.640625</td>\n",
       "      <td>1</td>\n",
       "      <td>30441</td>\n",
       "      <td>-0.238147</td>\n",
       "      <td>J33A</td>\n",
       "      <td>P</td>\n",
       "      <td>1.320860e+09</td>\n",
       "      <td>1583891</td>\n",
       "    </tr>\n",
       "    <tr>\n",
       "      <th>3</th>\n",
       "      <td>1</td>\n",
       "      <td>2011-11-09 17:24:51.454200+00:00</td>\n",
       "      <td>-108.775094</td>\n",
       "      <td>-173.323761</td>\n",
       "      <td>6.640625</td>\n",
       "      <td>6</td>\n",
       "      <td>42.932269</td>\n",
       "      <td>-126.832522</td>\n",
       "      <td>6.640625</td>\n",
       "      <td>1</td>\n",
       "      <td>1151880</td>\n",
       "      <td>-0.261341</td>\n",
       "      <td>J33A</td>\n",
       "      <td>S</td>\n",
       "      <td>1.320860e+09</td>\n",
       "      <td>1583878</td>\n",
       "    </tr>\n",
       "    <tr>\n",
       "      <th>4</th>\n",
       "      <td>1</td>\n",
       "      <td>2011-11-09 17:24:51.454200+00:00</td>\n",
       "      <td>-108.775094</td>\n",
       "      <td>-173.323761</td>\n",
       "      <td>6.640625</td>\n",
       "      <td>6</td>\n",
       "      <td>42.932269</td>\n",
       "      <td>-126.832522</td>\n",
       "      <td>6.640625</td>\n",
       "      <td>1</td>\n",
       "      <td>30287</td>\n",
       "      <td>0.012248</td>\n",
       "      <td>J41A</td>\n",
       "      <td>P</td>\n",
       "      <td>1.320860e+09</td>\n",
       "      <td>1581083</td>\n",
       "    </tr>\n",
       "    <tr>\n",
       "      <th>...</th>\n",
       "      <td>...</td>\n",
       "      <td>...</td>\n",
       "      <td>...</td>\n",
       "      <td>...</td>\n",
       "      <td>...</td>\n",
       "      <td>...</td>\n",
       "      <td>...</td>\n",
       "      <td>...</td>\n",
       "      <td>...</td>\n",
       "      <td>...</td>\n",
       "      <td>...</td>\n",
       "      <td>...</td>\n",
       "      <td>...</td>\n",
       "      <td>...</td>\n",
       "      <td>...</td>\n",
       "      <td>...</td>\n",
       "    </tr>\n",
       "    <tr>\n",
       "      <th>123</th>\n",
       "      <td>79</td>\n",
       "      <td>2014-05-12 18:50:56.744503+00:00</td>\n",
       "      <td>-228.148786</td>\n",
       "      <td>-106.094869</td>\n",
       "      <td>0.390625</td>\n",
       "      <td>6</td>\n",
       "      <td>43.510336</td>\n",
       "      <td>-128.321367</td>\n",
       "      <td>0.390625</td>\n",
       "      <td>79</td>\n",
       "      <td>1777535</td>\n",
       "      <td>0.313275</td>\n",
       "      <td>J25C</td>\n",
       "      <td>S</td>\n",
       "      <td>1.399921e+09</td>\n",
       "      <td>14661095</td>\n",
       "    </tr>\n",
       "    <tr>\n",
       "      <th>124</th>\n",
       "      <td>79</td>\n",
       "      <td>2014-05-12 18:50:56.744503+00:00</td>\n",
       "      <td>-228.148786</td>\n",
       "      <td>-106.094869</td>\n",
       "      <td>0.390625</td>\n",
       "      <td>6</td>\n",
       "      <td>43.510336</td>\n",
       "      <td>-128.321367</td>\n",
       "      <td>0.390625</td>\n",
       "      <td>79</td>\n",
       "      <td>713820</td>\n",
       "      <td>-0.334241</td>\n",
       "      <td>J33C</td>\n",
       "      <td>P</td>\n",
       "      <td>1.399921e+09</td>\n",
       "      <td>14680778</td>\n",
       "    </tr>\n",
       "    <tr>\n",
       "      <th>125</th>\n",
       "      <td>79</td>\n",
       "      <td>2014-05-12 18:50:56.744503+00:00</td>\n",
       "      <td>-228.148786</td>\n",
       "      <td>-106.094869</td>\n",
       "      <td>0.390625</td>\n",
       "      <td>6</td>\n",
       "      <td>43.510336</td>\n",
       "      <td>-128.321367</td>\n",
       "      <td>0.390625</td>\n",
       "      <td>79</td>\n",
       "      <td>1777865</td>\n",
       "      <td>-0.548412</td>\n",
       "      <td>J33C</td>\n",
       "      <td>S</td>\n",
       "      <td>1.399921e+09</td>\n",
       "      <td>14680749</td>\n",
       "    </tr>\n",
       "    <tr>\n",
       "      <th>126</th>\n",
       "      <td>79</td>\n",
       "      <td>2014-05-12 18:50:56.744503+00:00</td>\n",
       "      <td>-228.148786</td>\n",
       "      <td>-106.094869</td>\n",
       "      <td>0.390625</td>\n",
       "      <td>6</td>\n",
       "      <td>43.510336</td>\n",
       "      <td>-128.321367</td>\n",
       "      <td>0.390625</td>\n",
       "      <td>79</td>\n",
       "      <td>713680</td>\n",
       "      <td>0.414925</td>\n",
       "      <td>J41C</td>\n",
       "      <td>P</td>\n",
       "      <td>1.399921e+09</td>\n",
       "      <td>14671577</td>\n",
       "    </tr>\n",
       "    <tr>\n",
       "      <th>127</th>\n",
       "      <td>79</td>\n",
       "      <td>2014-05-12 18:50:56.744503+00:00</td>\n",
       "      <td>-228.148786</td>\n",
       "      <td>-106.094869</td>\n",
       "      <td>0.390625</td>\n",
       "      <td>6</td>\n",
       "      <td>43.510336</td>\n",
       "      <td>-128.321367</td>\n",
       "      <td>0.390625</td>\n",
       "      <td>79</td>\n",
       "      <td>1777796</td>\n",
       "      <td>0.211801</td>\n",
       "      <td>J41C</td>\n",
       "      <td>S</td>\n",
       "      <td>1.399921e+09</td>\n",
       "      <td>14671819</td>\n",
       "    </tr>\n",
       "  </tbody>\n",
       "</table>\n",
       "<p>128 rows × 16 columns</p>\n",
       "</div>"
      ],
      "text/plain": [
       "     idx                             time           x           y         z  \\\n",
       "0      1 2011-11-09 17:24:51.454200+00:00 -108.775094 -173.323761  6.640625   \n",
       "1      1 2011-11-09 17:24:51.454200+00:00 -108.775094 -173.323761  6.640625   \n",
       "2      1 2011-11-09 17:24:51.454200+00:00 -108.775094 -173.323761  6.640625   \n",
       "3      1 2011-11-09 17:24:51.454200+00:00 -108.775094 -173.323761  6.640625   \n",
       "4      1 2011-11-09 17:24:51.454200+00:00 -108.775094 -173.323761  6.640625   \n",
       "..   ...                              ...         ...         ...       ...   \n",
       "123   79 2014-05-12 18:50:56.744503+00:00 -228.148786 -106.094869  0.390625   \n",
       "124   79 2014-05-12 18:50:56.744503+00:00 -228.148786 -106.094869  0.390625   \n",
       "125   79 2014-05-12 18:50:56.744503+00:00 -228.148786 -106.094869  0.390625   \n",
       "126   79 2014-05-12 18:50:56.744503+00:00 -228.148786 -106.094869  0.390625   \n",
       "127   79 2014-05-12 18:50:56.744503+00:00 -228.148786 -106.094869  0.390625   \n",
       "\n",
       "     picks   latitude   longitude     depth  event_idx  pick_idx  residual  \\\n",
       "0        6  42.932269 -126.832522  6.640625          1     30379  0.186548   \n",
       "1        6  42.932269 -126.832522  6.640625          1   1151862  0.083338   \n",
       "2        6  42.932269 -126.832522  6.640625          1     30441 -0.238147   \n",
       "3        6  42.932269 -126.832522  6.640625          1   1151880 -0.261341   \n",
       "4        6  42.932269 -126.832522  6.640625          1     30287  0.012248   \n",
       "..     ...        ...         ...       ...        ...       ...       ...   \n",
       "123      6  43.510336 -128.321367  0.390625         79   1777535  0.313275   \n",
       "124      6  43.510336 -128.321367  0.390625         79    713820 -0.334241   \n",
       "125      6  43.510336 -128.321367  0.390625         79   1777865 -0.548412   \n",
       "126      6  43.510336 -128.321367  0.390625         79    713680  0.414925   \n",
       "127      6  43.510336 -128.321367  0.390625         79   1777796  0.211801   \n",
       "\n",
       "    station phase     time_pick   pick_id  \n",
       "0      J25A     P  1.320860e+09   1583797  \n",
       "1      J25A     S  1.320860e+09   1583818  \n",
       "2      J33A     P  1.320860e+09   1583891  \n",
       "3      J33A     S  1.320860e+09   1583878  \n",
       "4      J41A     P  1.320860e+09   1581083  \n",
       "..      ...   ...           ...       ...  \n",
       "123    J25C     S  1.399921e+09  14661095  \n",
       "124    J33C     P  1.399921e+09  14680778  \n",
       "125    J33C     S  1.399921e+09  14680749  \n",
       "126    J41C     P  1.399921e+09  14671577  \n",
       "127    J41C     S  1.399921e+09  14671819  \n",
       "\n",
       "[128 rows x 16 columns]"
      ]
     },
     "execution_count": 21,
     "metadata": {},
     "output_type": "execute_result"
    }
   ],
   "source": [
    "# Assign the event information to each pick by using pd.merge\n",
    "all_pick_assignments = pd.merge(events, assignments, left_on=\"idx\", right_on=\"event_idx\", suffixes=(\"\", \"_pick\"))\n",
    "all_pick_assignments"
   ]
  },
  {
   "cell_type": "code",
   "execution_count": 22,
   "id": "37ebd009",
   "metadata": {},
   "outputs": [],
   "source": [
    "# Save the assignments to a CSV file\n",
    "all_pick_assignments.to_csv(\"../data/datasets_or_shore/all_pick_assignments_or_shore.csv\")"
   ]
  },
  {
   "cell_type": "code",
   "execution_count": 23,
   "id": "73c15960",
   "metadata": {},
   "outputs": [
    {
     "data": {
      "image/png": "[encoded data removed]",
      "text/plain": [
       "<Figure size 400x800 with 2 Axes>"
      ]
     },
     "metadata": {},
     "output_type": "display_data"
    }
   ],
   "source": [
    "# The parameters in the associator class: n_picks=2,n_p_picks=1,n_s_picks=1,n_p_and_s_picks=1\n",
    "fig = plt.figure(figsize=(4, 8))\n",
    "ax = fig.add_subplot()\n",
    "ax.set_aspect(\"equal\")\n",
    "\n",
    "# ax.scatter(events[\"x\"], events[\"y\"], c=events[\"z\"])\n",
    "ax.set_xlabel(\"Easting [km]\")\n",
    "ax.set_ylabel(\"Northing [km]\")\n",
    "cax = fig.add_axes([ax.get_position().x1+0.05,ax.get_position().y0,0.02,ax.get_position().height])\n",
    "cb1 = fig.colorbar(ax.scatter(events[\"x\"], events[\"y\"], c=events[\"z\"],s=0.5,cmap='viridis'), cax=cax)\n",
    "cb1.ax.invert_yaxis()"
   ]
  },
  {
   "cell_type": "markdown",
   "id": "2a605e6e",
   "metadata": {},
   "source": [
    "## Plot the associated events (not necessary to run cells below)"
   ]
  },
  {
   "cell_type": "code",
   "execution_count": null,
   "id": "b60bfc02",
   "metadata": {},
   "outputs": [],
   "source": [
    "# Read the event dataframe saved above\n",
    "events = pd.read_csv('../data/events_october_temp_with_JCC.csv')"
   ]
  },
  {
   "cell_type": "code",
   "execution_count": null,
   "id": "705547c6",
   "metadata": {},
   "outputs": [],
   "source": [
    "events"
   ]
  },
  {
   "cell_type": "code",
   "execution_count": null,
   "id": "c13e1287",
   "metadata": {},
   "outputs": [],
   "source": [
    "# Plot the events \n",
    "import pygmt\n",
    "fig = pygmt.Figure()\n",
    "# grid = pygmt.datasets.load_earth_relief(resolution=\"15s\", region=[-126, -124, 40, 43])\n",
    "# # fig.shift_origin(yshift=\"10c\")\n",
    "# fig.grdimage(grid=grid, projection=\"M15c\", frame=\"a\", cmap=\"geo\", transparency = 50)\n",
    "# # fig.plot(x = events_morton_201210_lon, y = events_morton_201210_lat,  \n",
    "# #          color = 'blue', size = size_morton, style = \"c\", pen = \"black\")\n",
    "# # fig.plot(x = myevents_20121014_lon, y = myevents_20121014_lat,  \n",
    "# #          color = 'red', size = size_myevents, style = \"c\", pen = \"black\")\n",
    "# # fig.plot(x = events_jdf_201210_lon, y = events_jdf_201210_lat,  \n",
    "# #          color = 'yellow', size = size_jdf, style = \"c\", pen = \"black\")\n",
    "# # fig.plot(x = events_cascadia_201210_lon, y = events_cascadia_201210_lat,  \n",
    "# #          color = 'yellow', size = size_cascadia, style = \"c\", pen = \"black\")\n",
    "# # fig.plot(x = events_USGS_201210_lon, y = events_USGS_201210_lat,  \n",
    "# #          color = 'green', size = size_USGS, style = \"c\", pen = \"black\")\n",
    "# # # Draw a line between two events that we consider to be the same event \n",
    "# # Draw a line between two events that we consider to be the same event \n",
    "# # fig.plot(x = (event_0239_lon,event_morton_0239_lon), y = (event_0239_lat,event_morton_0239_lat), pen =\"4p, red\")\n",
    "# # fig.plot(x = (event_0239_lon,event_morton_0239_lon), y = (event_0239_lat,event_morton_0308_lat), pen =\"4p, red\")\n",
    "# fig.plot(x=events[\"x\"], y=events[\"y\"], c=events[\"z\"],s=0.5,cmap='viridis')\n",
    "# fig.show()\n",
    "\n",
    "grid = pygmt.datasets.load_earth_relief(resolution=\"15s\", region=[-127, -123, 40, 50])\n",
    "fig.shift_origin(yshift=\"10c\")\n",
    "fig.grdimage(grid=grid, projection=\"M15c\", frame=\"a\", cmap=\"geo\", transparency = 50)\n",
    "pygmt.makecpt(cmap=\"hot\", series=[min(events['picks'].values), max(events['picks'].values)])\n",
    "fig.plot(\n",
    "    x=events[\"longitude\"].values,\n",
    "    y=events[\"latitude\"].values,\n",
    "    size=0.3 * np.ones(len(events)),\n",
    "    fill=events['picks'].values,\n",
    "    cmap=True,\n",
    "    style=\"cc\",\n",
    "    pen=\"black\",\n",
    ")\n",
    "fig.colorbar(frame=\"xaf+lNumber of Picks\")\n",
    "# fig.plot(x=events[\"longitude\"].values[0:200], y=events[\"latitude\"].values[0:200], style=\"c0.3c\", color=events['picks'].values[0:200], cmap='viridis', pen=\"black\")\n",
    "fig.show()"
   ]
  },
  {
   "cell_type": "code",
   "execution_count": null,
   "id": "09747c11",
   "metadata": {},
   "outputs": [],
   "source": []
  },
  {
   "cell_type": "markdown",
   "id": "4ee49480",
   "metadata": {},
   "source": [
    "## Association validation (not necessary anymore) \n",
    "Get the events from the USGS and compare with the events from the association\n"
   ]
  },
  {
   "cell_type": "code",
   "execution_count": null,
   "id": "75d2c561",
   "metadata": {},
   "outputs": [],
   "source": [
    "client = Client(\"USGS\")\n",
    "client_waveforms = WaveformClient()\n",
    "client.get_events(starttime = UTCDateTime(\"2012-10-14T00:00:00.000000\"),\n",
    "                  endtime   = UTCDateTime(\"2012-10-14T23:59:59.999999\"),\n",
    "                  minlatitude = 40, maxlatitude = 44, \n",
    "                  minlongitude = -125, maxlongitude = -120)\n"
   ]
  },
  {
   "cell_type": "code",
   "execution_count": null,
   "id": "5921ac85",
   "metadata": {},
   "outputs": [],
   "source": [
    "# Pick a station \n",
    "s = client_waveforms.get_waveforms(network=\"7D\", station=\"FS09B\", channel=\"BH?\", year=2012, month=10, day=14)\n",
    "s.filter(type='bandpass',freqmin=4,freqmax=15)"
   ]
  },
  {
   "cell_type": "code",
   "execution_count": null,
   "id": "52bc56fb",
   "metadata": {},
   "outputs": [],
   "source": [
    "# Pick a time that shows up in both the USGS catalog and the event data frame from the association above \n",
    "time1 = events.loc[1, 'time']"
   ]
  },
  {
   "cell_type": "code",
   "execution_count": null,
   "id": "e24b438d",
   "metadata": {},
   "outputs": [],
   "source": [
    "time1"
   ]
  },
  {
   "cell_type": "code",
   "execution_count": null,
   "id": "16eb9cc6",
   "metadata": {},
   "outputs": [],
   "source": [
    "trim_s = s.copy().trim(starttime = UTCDateTime(time1) - 20, \n",
    "                endtime = UTCDateTime(time1) + 40)\n",
    "fig = plt.figure(figsize = (10, 4))\n",
    "trim_s.plot(fig=fig)\n",
    "\n",
    "# [ax.axvline(pick.peak_time.matplotlib_date, \n",
    "#             linestyle = '--', color = 'r', label = f'{pick.phase} pick') for ax in fig.axes]\n",
    "# [ax.legend() for ax in fig.axes]"
   ]
  },
  {
   "cell_type": "code",
   "execution_count": null,
   "id": "ea03a6cb",
   "metadata": {},
   "outputs": [],
   "source": [
    "# Pick another time that shows up in both the USGS catalog and the event data frame from the association above \n",
    "time2 = events.loc[2, 'time']\n",
    "time2"
   ]
  },
  {
   "cell_type": "code",
   "execution_count": null,
   "id": "d6006088",
   "metadata": {},
   "outputs": [],
   "source": [
    "trim_s = s.copy().trim(starttime = UTCDateTime(time2) - 20, \n",
    "                endtime = UTCDateTime(time2) + 40)\n",
    "fig = plt.figure(figsize = (10, 4))\n",
    "trim_s.plot(fig=fig)\n",
    "\n",
    "# [ax.axvline(pick.peak_time.matplotlib_date, \n",
    "#             linestyle = '--', color = 'r', label = f'{pick.phase} pick') for ax in fig.axes]\n",
    "# [ax.legend() for ax in fig.axes]"
   ]
  },
  {
   "cell_type": "markdown",
   "id": "6382af9b",
   "metadata": {},
   "source": [
    "## Other Picks"
   ]
  },
  {
   "cell_type": "code",
   "execution_count": null,
   "id": "5109e9ee",
   "metadata": {},
   "outputs": [],
   "source": [
    "time = events['time']\n",
    "time"
   ]
  },
  {
   "cell_type": "code",
   "execution_count": null,
   "id": "dc7fe7f7",
   "metadata": {},
   "outputs": [],
   "source": [
    "time_possibly_new_events = time.drop(labels=[1,2], axis=0)\n",
    "time_possibly_new_events"
   ]
  },
  {
   "cell_type": "code",
   "execution_count": null,
   "id": "74e0cb1e",
   "metadata": {
    "scrolled": false
   },
   "outputs": [],
   "source": [
    "for time in time_possibly_new_events:\n",
    "    plt.figure(figsize=(10,10))\n",
    "    for i in range(len(stations)):\n",
    "        s = client_waveforms.get_waveforms(network=\"7D\", station=stations['id'][i], channel=\"?H?\", year=2012, month=10, day=14)\n",
    "        s = s.select(channel = \"[HB]H?\")\n",
    "        s.filter(type='bandpass',freqmin=4,freqmax=15)\n",
    "        if s[0].stats.channel == 'HH1':\n",
    "            s = s.resample(50)\n",
    "        else:\n",
    "            pass \n",
    "\n",
    "        trim_s = s.copy().trim(starttime = UTCDateTime(time) - 10, endtime = UTCDateTime(time) + 50)\n",
    "        sdata = np.array(trim_s)[:,:]\n",
    "        sdata_norm = (sdata-np.min(sdata, axis=1, keepdims=True))/(np.max(sdata, axis=1, keepdims=True)-np.min(sdata, axis=1, keepdims=True))\n",
    "        offsets2 = np.arange(0,3*len(sdata)*len(stations),3*len(sdata))\n",
    "\n",
    "        for ii in range(len(sdata)):\n",
    "            offsets1  = np.arange(0,len(sdata))\n",
    "            plt.plot(trim_s[ii].times(type='utcdatetime'), sdata_norm[ii]+offsets1[ii]+offsets2[i], color = 'gray', alpha=0.7, lw=0.5)    \n",
    "\n",
    "\n",
    "    plt.yticks(offsets2+1, stations['id'])\n",
    "    plt.axvline(time,ls='-', c='r')\n",
    "    plt.title(time)"
   ]
  },
  {
   "cell_type": "code",
   "execution_count": null,
   "id": "1ba96a54",
   "metadata": {},
   "outputs": [],
   "source": []
  },
  {
   "cell_type": "code",
   "execution_count": null,
   "id": "922d45d2",
   "metadata": {},
   "outputs": [],
   "source": []
  },
  {
   "cell_type": "code",
   "execution_count": null,
   "id": "ad773019",
   "metadata": {},
   "outputs": [],
   "source": []
  },
  {
   "cell_type": "code",
   "execution_count": null,
   "id": "8bf6a534",
   "metadata": {},
   "outputs": [],
   "source": []
  },
  {
   "cell_type": "code",
   "execution_count": null,
   "id": "0711c1ac",
   "metadata": {},
   "outputs": [],
   "source": []
  },
  {
   "cell_type": "code",
   "execution_count": null,
   "id": "56b6f13d",
   "metadata": {},
   "outputs": [],
   "source": []
  },
  {
   "cell_type": "code",
   "execution_count": null,
   "id": "6d113604",
   "metadata": {},
   "outputs": [],
   "source": []
  },
  {
   "cell_type": "code",
   "execution_count": null,
   "id": "4c756483",
   "metadata": {},
   "outputs": [],
   "source": []
  },
  {
   "cell_type": "code",
   "execution_count": null,
   "id": "07f5c96c",
   "metadata": {},
   "outputs": [],
   "source": []
  },
  {
   "cell_type": "code",
   "execution_count": null,
   "id": "541bb971",
   "metadata": {},
   "outputs": [],
   "source": [
    "# Plot waveforms of events picked by the associator but not on the USGS catalog\n",
    "time4 = events.loc[4, 'time']\n",
    "time4"
   ]
  },
  {
   "cell_type": "code",
   "execution_count": null,
   "id": "663b712a",
   "metadata": {},
   "outputs": [],
   "source": [
    "# s_FS09B = client_waveforms.get_waveforms(network=\"7D\", station=\"FS09B\", channel=\"BH?\", year=2012, month=10, day=14)\n",
    "# s_G10B = client_waveforms.get_waveforms(network=\"7D\", station=\"G10B\", channel=\"BH?\", year=2012, month=10, day=14)\n",
    "# s_G19B = client_waveforms.get_waveforms(network=\"7D\", station=\"G19B\", channel=\"BH?\", year=2012, month=10, day=14)\n",
    "# s_G25B = client_waveforms.get_waveforms(network=\"7D\", station=\"G25B\", channel=\"BH?\", year=2012, month=10, day=14)\n",
    "# s_G27B = client_waveforms.get_waveforms(network=\"7D\", station=\"G27B\", channel=\"BH?\", year=2012, month=10, day=14)\n",
    "# s_J09B = client_waveforms.get_waveforms(network=\"7D\", station=\"J09B\", channel=\"BH?\", year=2012, month=10, day=14)\n",
    "# s_M12B= client_waveforms.get_waveforms(network=\"7D\", station=\"M12B\", channel=\"BH?\", year=2012, month=10, day=14)\n",
    "# s_M14B = client_waveforms.get_waveforms(network=\"7D\", station=\"M14B\", channel=\"BH?\", year=2012, month=10, day=14)\n"
   ]
  },
  {
   "cell_type": "code",
   "execution_count": null,
   "id": "af5a9fec",
   "metadata": {},
   "outputs": [],
   "source": [
    "# trim_s_FS09B = s.copy().trim(starttime = UTCDateTime(time1) - 20, endtime = UTCDateTime(time1) + 40)\n",
    "# trim_s_G10B = s.copy().trim(starttime = UTCDateTime(time1) - 20, endtime = UTCDateTime(time1) + 40)\n",
    "# trim_s_G19B = s.copy().trim(starttime = UTCDateTime(time1) - 20, endtime = UTCDateTime(time1) + 40)\n",
    "# trim_s_G25B = s.copy().trim(starttime = UTCDateTime(time1) - 20, endtime = UTCDateTime(time1) + 40)\n",
    "# trim_s_G27B = s.copy().trim(starttime = UTCDateTime(time1) - 20, endtime = UTCDateTime(time1) + 40)\n",
    "# trim_s_J09B = s.copy().trim(starttime = UTCDateTime(time1) - 20, endtime = UTCDateTime(time1) + 40)\n",
    "# trim_s_M12B = s.copy().trim(starttime = UTCDateTime(time1) - 20, endtime = UTCDateTime(time1) + 40)\n",
    "# trim_s_M14B = s.copy().trim(starttime = UTCDateTime(time1) - 20, endtime = UTCDateTime(time1) + 40)\n",
    "\n"
   ]
  },
  {
   "cell_type": "code",
   "execution_count": null,
   "id": "fccedef5",
   "metadata": {
    "scrolled": true
   },
   "outputs": [],
   "source": [
    "for i, station in enumerate(stations['id']):\n",
    "    s = client_waveforms.get_waveforms(network=\"7D\", station=station, channel=\"?H?\", year=2012, month=10, day=14)\n",
    "    s = s.select(channel = \"[HB]H?\")\n",
    "    s.filter(type='bandpass',freqmin=4,freqmax=15)\n",
    "    trim_s = s.copy().trim(starttime = UTCDateTime(pick_time[4]) - 20, endtime = UTCDateTime(pick_time[4]) + 100)\n",
    "    fig = plt.figure(figsize=(10,4))\n",
    "    trim_s.plot(fig=fig)\n",
    "    [ax.axvline(pick_time[4], \n",
    "            linestyle = '--', color = 'r', label = 'pick time') for ax in fig.axes]    \n"
   ]
  },
  {
   "cell_type": "code",
   "execution_count": null,
   "id": "2f71da0a",
   "metadata": {},
   "outputs": [],
   "source": [
    "offsets1  = np.arange(0,3)\n",
    "offsets2 = np.arange(0,2*len(stations),2)\n",
    "\n"
   ]
  },
  {
   "cell_type": "code",
   "execution_count": null,
   "id": "afb10228",
   "metadata": {},
   "outputs": [],
   "source": [
    "offsets1"
   ]
  },
  {
   "cell_type": "code",
   "execution_count": null,
   "id": "12481d1c",
   "metadata": {},
   "outputs": [],
   "source": [
    "offsets2 = np.arange(0,2*10000*len(stations),2*10000)\n",
    "\n",
    "offsets2"
   ]
  },
  {
   "cell_type": "code",
   "execution_count": null,
   "id": "6c636fb6",
   "metadata": {},
   "outputs": [],
   "source": [
    "plt.figure()\n",
    "offsets2 = np.arange(0,5*10000*len(stations),5*10000)\n",
    "\n",
    "for i, station in enumerate(stations['id']):\n",
    "    s = client_waveforms.get_waveforms(network=\"7D\", station=station, channel=\"?H?\", year=2012, month=10, day=14)\n",
    "    s = s.select(channel = \"[HB]H?\")\n",
    "    s.filter(type='bandpass',freqmin=4,freqmax=15)\n",
    "    trim_s = s.copy().trim(starttime = UTCDateTime(pick_time[4]) - 20, endtime = UTCDateTime(pick_time[4]) + 100)\n",
    "    sdata = np.array(trim_s)[:,:]\n",
    "    for ii in range(len(sdata)):\n",
    "        offsets1  = np.arange(0,10000*len(sdata),10000)\n",
    "        plt.plot(sdata[ii].T+offsets1[ii]+offsets2[i], color = 'gray', alpha=0.5)   \n"
   ]
  },
  {
   "cell_type": "code",
   "execution_count": null,
   "id": "dd3cf9cb",
   "metadata": {},
   "outputs": [],
   "source": [
    "offsets2 = np.arange(0,5*100000*len(stations),5*100000)\n",
    "\n",
    "\n",
    "s = client_waveforms.get_waveforms(network=\"7D\", station=stations['id'][0], channel=\"?H?\", year=2012, month=10, day=14)\n",
    "s = s.select(channel = \"[HB]H?\")\n",
    "s.filter(type='bandpass',freqmin=4,freqmax=15)\n",
    "sampling_rate = s[0].stats.sampling_rate\n",
    "trim_s = s.copy().trim(starttime = UTCDateTime(pick_time[4]) - 10, endtime = UTCDateTime(pick_time[4]) + 50)\n",
    "sdata = np.array(trim_s)[:,:]\n",
    "sdata_norm = (sdata - np.mean(sdata, axis=1, keepdims=True))/(np.std(sdata, axis=1, keepdims=True))\n",
    "\n",
    "for ii in range(len(sdata)):\n",
    "    offsets1  = np.arange(0,len(sdata))\n",
    "    plt.plot(sdata_norm.T+offsets1[ii], color = 'gray', alpha=0.5, lw=0.5)\n",
    "\n",
    "plt.axvline(10*sampling_rate,ls='-', c='r')\n",
    "    \n"
   ]
  },
  {
   "cell_type": "code",
   "execution_count": null,
   "id": "6db09907",
   "metadata": {},
   "outputs": [],
   "source": [
    "sdata.mean()"
   ]
  },
  {
   "cell_type": "code",
   "execution_count": null,
   "id": "d49994be",
   "metadata": {},
   "outputs": [],
   "source": [
    "s[0].stats.sampling_rate*120"
   ]
  },
  {
   "cell_type": "code",
   "execution_count": null,
   "id": "c0574f27",
   "metadata": {},
   "outputs": [],
   "source": [
    "s = client_waveforms.get_waveforms(network=\"7D\", station=stations['id'][3], channel=\"?H?\", year=2012, month=10, day=14)\n",
    "s = s.select(channel = \"[HB]H?\")\n",
    "s.filter(type='bandpass',freqmin=4,freqmax=15)\n",
    "trim_s = s.copy().trim(starttime = UTCDateTime(pick_time[4]) - 10, endtime = UTCDateTime(pick_time[4]) + 50)\n",
    "sdata = np.array(trim_s)[:,:]\n",
    "sdata_norm = (sdata - np.mean(sdata, axis=1, keepdims=True))/(np.std(sdata, axis=1, keepdims=True))\n",
    "\n",
    "for ii in range(len(sdata)):\n",
    "    offsets1  = np.arange(0,len(sdata))\n",
    "    plt.plot(sdata_norm.T+offsets1[ii], color = 'gray', alpha=0.5, lw=0.5)"
   ]
  },
  {
   "cell_type": "code",
   "execution_count": null,
   "id": "e6b0cb7a",
   "metadata": {},
   "outputs": [],
   "source": [
    "plt.figure(figsize=(10,10))\n",
    "offsets2 = np.arange(0,3*len(sdata)*len(stations),3*len(sdata))\n",
    "\n",
    "for i in range(len(stations)):\n",
    "    s = client_waveforms.get_waveforms(network=\"7D\", station=stations['id'][i], channel=\"?H?\", year=2012, month=10, day=14)\n",
    "    s = s.select(channel = \"[HB]H?\")\n",
    "    s.filter(type='bandpass',freqmin=4,freqmax=15)\n",
    "    trim_s = s.copy().trim(starttime = UTCDateTime(pick_time[4]) - 10, endtime = UTCDateTime(pick_time[4]) + 50)\n",
    "    sdata = np.array(trim_s)[:,:]\n",
    "    sdata_norm = (sdata - np.mean(sdata, axis=1, keepdims=True))/(np.std(sdata, axis=1, keepdims=True))\n",
    "\n",
    "    for ii in range(len(sdata)):\n",
    "        offsets1  = np.arange(0,len(sdata))\n",
    "        plt.plot(sdata_norm.T+offsets1[ii]+offsets2[i], color = 'gray', alpha=0.5, lw=0.5)    \n",
    "\n",
    "plt.axvline(10*sampling_rate,ls='-', c='r')\n"
   ]
  },
  {
   "cell_type": "code",
   "execution_count": null,
   "id": "19c686e5",
   "metadata": {},
   "outputs": [],
   "source": [
    "offsets2 = np.arange(0,3*len(sdata)*len(stations),3*len(sdata))\n",
    "offsets2"
   ]
  },
  {
   "cell_type": "code",
   "execution_count": null,
   "id": "e7018b5d",
   "metadata": {},
   "outputs": [],
   "source": [
    "np.mean(sdata, axis=1, keepdims=True)"
   ]
  },
  {
   "cell_type": "code",
   "execution_count": null,
   "id": "0e2ae66a",
   "metadata": {},
   "outputs": [],
   "source": [
    "sdata"
   ]
  },
  {
   "cell_type": "code",
   "execution_count": null,
   "id": "ae3a3c94",
   "metadata": {
    "scrolled": true
   },
   "outputs": [],
   "source": [
    "np.mean(sdata[0])"
   ]
  },
  {
   "cell_type": "code",
   "execution_count": null,
   "id": "21ad1bd4",
   "metadata": {},
   "outputs": [],
   "source": [
    "(sdata - np.mean(sdata, axis=1, keepdims=True))/(np.std(sdata, axis=1, keepdims=True))"
   ]
  },
  {
   "cell_type": "code",
   "execution_count": null,
   "id": "d22e3aa6",
   "metadata": {},
   "outputs": [],
   "source": [
    "(225.73644077-0.28159811)/20312.08876045"
   ]
  },
  {
   "cell_type": "code",
   "execution_count": null,
   "id": "195cbc12",
   "metadata": {},
   "outputs": [],
   "source": [
    "np.std(sdata, axis=1, keepdims=True) "
   ]
  },
  {
   "cell_type": "code",
   "execution_count": null,
   "id": "5d683445",
   "metadata": {},
   "outputs": [],
   "source": [
    "sdata"
   ]
  },
  {
   "cell_type": "code",
   "execution_count": null,
   "id": "52abdd98",
   "metadata": {},
   "outputs": [],
   "source": [
    "np.max(sdata, axis=1, keepdims=True)"
   ]
  },
  {
   "cell_type": "code",
   "execution_count": null,
   "id": "5300ce85",
   "metadata": {},
   "outputs": [],
   "source": [
    "np.min(sdata, axis=1, keepdims=True)"
   ]
  },
  {
   "cell_type": "code",
   "execution_count": null,
   "id": "2fd831f7",
   "metadata": {},
   "outputs": [],
   "source": [
    "(sdata-np.min(sdata, axis=1, keepdims=True))/(np.max(sdata, axis=1, keepdims=True)-np.min(sdata, axis=1, keepdims=True))"
   ]
  },
  {
   "cell_type": "code",
   "execution_count": null,
   "id": "ab06af2b",
   "metadata": {},
   "outputs": [],
   "source": [
    "plt.figure(figsize=(10,10))\n",
    "offsets2 = np.arange(0,3*len(sdata)*len(stations),3*len(sdata))\n",
    "\n",
    "for i in range(len(stations)):\n",
    "    s = client_waveforms.get_waveforms(network=\"7D\", station=stations['id'][i], channel=\"?H?\", year=2012, month=10, day=14)\n",
    "    s = s.select(channel = \"[HB]H?\")\n",
    "    s.filter(type='bandpass',freqmin=4,freqmax=15)\n",
    "    trim_s = s.copy().trim(starttime = UTCDateTime(pick_time[4]) - 10, endtime = UTCDateTime(pick_time[4]) + 50)\n",
    "    sdata = np.array(trim_s)[:,:]\n",
    "    if s[0].stats.channel == 'HH1':\n",
    "        new_rate = 50\n",
    "        number_of_samples = round(len(sdata[0]) * float(new_rate) /s[0].stats.sampling_rate)\n",
    "        sdata = signal.resample(sdata, number_of_samples, axis=-1)\n",
    "    else:\n",
    "        pass \n",
    "    print(len(sdata[-1]))\n",
    "    sdata_norm = (sdata-np.min(sdata, axis=1, keepdims=True))/(np.max(sdata, axis=1, keepdims=True)-np.min(sdata, axis=1, keepdims=True))\n",
    "    for ii in range(len(sdata)):\n",
    "        offsets1  = np.arange(0,len(sdata))\n",
    "        plt.plot(sdata_norm.T+offsets1[ii]+offsets2[i], color = 'gray', alpha=0.5, lw=0.5)    \n",
    "\n",
    "plt.axvline(10*sampling_rate,ls='-', c='r')\n",
    "# plt.xlim(0,3000)\n"
   ]
  },
  {
   "cell_type": "code",
   "execution_count": null,
   "id": "af90cc14",
   "metadata": {},
   "outputs": [],
   "source": [
    "s = client_waveforms.get_waveforms(network=\"7D\", station=stations['id'][3], channel=\"?H?\", year=2012, month=10, day=14)\n",
    "s = s.select(channel = \"[HB]H?\")\n",
    "s.filter(type='bandpass',freqmin=4,freqmax=15)\n",
    "trim_s = s.copy().trim(starttime = UTCDateTime(pick_time[4]) - 10, endtime = UTCDateTime(pick_time[4]) + 50)\n",
    "sdata = np.array(trim_s)[:,:]\n",
    "sdata_norm = (sdata-np.min(sdata, axis=1, keepdims=True))/(np.max(sdata, axis=1, keepdims=True)-np.min(sdata, axis=1, keepdims=True))"
   ]
  },
  {
   "cell_type": "code",
   "execution_count": null,
   "id": "bb688b1e",
   "metadata": {},
   "outputs": [],
   "source": [
    "UTCDateTime(pick_time[4]) - 10"
   ]
  },
  {
   "cell_type": "code",
   "execution_count": null,
   "id": "c2c7c95c",
   "metadata": {},
   "outputs": [],
   "source": [
    "UTCDateTime(pick_time[4]) + 50"
   ]
  },
  {
   "cell_type": "code",
   "execution_count": null,
   "id": "34d6a893",
   "metadata": {},
   "outputs": [],
   "source": [
    "s[0].stats.sampling_rate"
   ]
  },
  {
   "cell_type": "code",
   "execution_count": null,
   "id": "9d907651",
   "metadata": {},
   "outputs": [],
   "source": [
    "s[0].stats.channel"
   ]
  },
  {
   "cell_type": "code",
   "execution_count": null,
   "id": "535ee984",
   "metadata": {},
   "outputs": [],
   "source": [
    "len(s[-1])"
   ]
  },
  {
   "cell_type": "code",
   "execution_count": null,
   "id": "b168bade",
   "metadata": {},
   "outputs": [],
   "source": [
    "s[0].stats.sampling_rate"
   ]
  },
  {
   "cell_type": "code",
   "execution_count": null,
   "id": "a83dc622",
   "metadata": {},
   "outputs": [],
   "source": [
    "s[0].stats.channel"
   ]
  },
  {
   "cell_type": "code",
   "execution_count": null,
   "id": "1d572a67",
   "metadata": {},
   "outputs": [],
   "source": [
    "len(s[-1])"
   ]
  },
  {
   "cell_type": "code",
   "execution_count": null,
   "id": "7e7f277e",
   "metadata": {},
   "outputs": [],
   "source": [
    "s = signal.decimate(s, 125/50, axis=-1)"
   ]
  },
  {
   "cell_type": "code",
   "execution_count": null,
   "id": "63d03af5",
   "metadata": {},
   "outputs": [],
   "source": [
    "np.array(s)"
   ]
  },
  {
   "cell_type": "code",
   "execution_count": null,
   "id": "a13c4a5b",
   "metadata": {},
   "outputs": [],
   "source": [
    "int(125/50)"
   ]
  },
  {
   "cell_type": "code",
   "execution_count": null,
   "id": "f395161d",
   "metadata": {},
   "outputs": [],
   "source": [
    "new_rate = 50\n",
    "number_of_samples = round(len(s[0]) * float(new_rate) / 125)\n",
    "number_of_samples"
   ]
  },
  {
   "cell_type": "code",
   "execution_count": null,
   "id": "f6af4263",
   "metadata": {},
   "outputs": [],
   "source": [
    "s = signal.resample(s, number_of_samples, axis=-1)\n",
    "len(s[-1])"
   ]
  },
  {
   "cell_type": "code",
   "execution_count": null,
   "id": "cabd13f2",
   "metadata": {},
   "outputs": [],
   "source": [
    "s"
   ]
  },
  {
   "cell_type": "code",
   "execution_count": null,
   "id": "5956c34a",
   "metadata": {},
   "outputs": [],
   "source": [
    "s = client_waveforms.get_waveforms(network=\"7D\", station=stations['id'][3], channel=\"?H?\", year=2012, month=10, day=14)\n",
    "s = s.select(channel = \"[HB]H?\")\n",
    "s.filter(type='bandpass',freqmin=4,freqmax=15)\n",
    "trim_s = s.copy().trim(starttime = UTCDateTime(pick_time[4]) - 10, endtime = UTCDateTime(pick_time[4]) + 50)\n",
    "sdata = np.array(trim_s)[:,:]\n",
    "print(len(sdata[-1]))\n",
    "\n",
    "new_rate = 50\n",
    "number_of_samples = round(len(sdata[0]) * float(new_rate) /s[0].stats.sampling_rate)\n",
    "sdata = signal.resample(sdata, number_of_samples, axis=-1)\n",
    "print(len(sdata[-1]))"
   ]
  },
  {
   "cell_type": "code",
   "execution_count": null,
   "id": "0d085d1e",
   "metadata": {},
   "outputs": [],
   "source": [
    "trim_s[0].times(reftime=UTCDateTime(pick_time[4]) - 10)"
   ]
  },
  {
   "cell_type": "code",
   "execution_count": null,
   "id": "97840d66",
   "metadata": {},
   "outputs": [],
   "source": [
    "UTCDateTime(pick_time[4])"
   ]
  },
  {
   "cell_type": "code",
   "execution_count": null,
   "id": "831d72ec",
   "metadata": {},
   "outputs": [],
   "source": [
    "trim_s.trigger('recstalta',sta=1, lta=4)"
   ]
  },
  {
   "cell_type": "code",
   "execution_count": null,
   "id": "0ef2ff26",
   "metadata": {},
   "outputs": [],
   "source": [
    "trim_s.plot()"
   ]
  },
  {
   "cell_type": "code",
   "execution_count": null,
   "id": "b6d72b35",
   "metadata": {},
   "outputs": [],
   "source": [
    "plt.figure(figsize=(10,10))\n",
    "offsets2 = np.arange(0,3*len(sdata)*len(stations),3*len(sdata))\n",
    "\n",
    "for i in range(len(stations)):\n",
    "    s = client_waveforms.get_waveforms(network=\"7D\", station=stations['id'][i], channel=\"?H?\", year=2012, month=10, day=14)\n",
    "    s = s.select(channel = \"[HB]H?\")\n",
    "    s.filter(type='bandpass',freqmin=4,freqmax=15)\n",
    "    if s[0].stats.channel == 'HH1':\n",
    "        s = s.resample(50)\n",
    "    else:\n",
    "        pass \n",
    "    \n",
    "    trim_s = s.copy().trim(starttime = UTCDateTime(pick_time[4]) - 10, endtime = UTCDateTime(pick_time[4]) + 50)\n",
    "    sdata = np.array(trim_s)[:,:]\n",
    "    sdata_norm = (sdata-np.min(sdata, axis=1, keepdims=True))/(np.max(sdata, axis=1, keepdims=True)-np.min(sdata, axis=1, keepdims=True))\n",
    "    \n",
    "    for ii in range(len(sdata)):\n",
    "        offsets1  = np.arange(0,len(sdata))\n",
    "        plt.plot(trim_s[ii].times(type='utcdatetime'), sdata_norm[ii]+offsets1[ii]+offsets2[i], color = 'gray', alpha=0.7, lw=0.5)    \n",
    "    \n",
    "\n",
    "plt.yticks(offsets2+1, stations['id'])\n",
    "plt.axvline(pick_time[4],ls='-', c='r')\n",
    "plt.title(pick_time[4])\n",
    "\n",
    "# plt.xlim(0,3000)\n"
   ]
  },
  {
   "cell_type": "code",
   "execution_count": null,
   "id": "008cc67e",
   "metadata": {},
   "outputs": [],
   "source": []
  },
  {
   "cell_type": "code",
   "execution_count": null,
   "id": "54291c17",
   "metadata": {},
   "outputs": [],
   "source": [
    "np.arange(0,3*len(sdata)*len(stations),3*len(sdata))"
   ]
  },
  {
   "cell_type": "code",
   "execution_count": null,
   "id": "4424bc02",
   "metadata": {},
   "outputs": [],
   "source": [
    "stations['id']"
   ]
  },
  {
   "cell_type": "code",
   "execution_count": null,
   "id": "1d2f0ca4",
   "metadata": {},
   "outputs": [],
   "source": [
    "all_picks, all_detections = model.classify(sdata)"
   ]
  },
  {
   "cell_type": "code",
   "execution_count": null,
   "id": "4fa17a55",
   "metadata": {},
   "outputs": [],
   "source": [
    "picks_G25B =  pd.read_csv(\"~/notebooks/data/catalogs_elep_filtered_stations_20121001_to_20121031/G25B_20121014.csv\",index_col=0)\n",
    "picks_G25B"
   ]
  },
  {
   "cell_type": "code",
   "execution_count": null,
   "id": "2acfad2f",
   "metadata": {},
   "outputs": [],
   "source": [
    "pick_time[4]"
   ]
  },
  {
   "cell_type": "markdown",
   "id": "138c8708",
   "metadata": {},
   "source": [
    "## Plot the associated events on a map"
   ]
  },
  {
   "cell_type": "code",
   "execution_count": null,
   "id": "cb9e1552",
   "metadata": {},
   "outputs": [],
   "source": [
    "import pygmt\n",
    "\n",
    "fig = pygmt.Figure()\n",
    "grid = pygmt.datasets.load_earth_relief(resolution=\"15s\", region=[-126, -124, 40, 43])\n",
    "# fig.shift_origin(yshift=\"10c\")\n",
    "fig.grdimage(grid=grid, projection=\"M15c\", frame=\"a\", cmap=\"geo\", transparency = 50)\n",
    "fig.plot(x = events_morton_lon, y = events_morton_lat,  \n",
    "         color = 'blue', size = size_morton, style = \"c\", pen = \"black\")\n",
    "fig.plot(x = events_longitude, y = events_latitude,  \n",
    "         color = 'red', size = size, style = \"c\", pen = \"black\")\n",
    "fig.plot(x = events_jdf_lon, y = events_jdf_lat,  \n",
    "         color = 'yellow', size = size_jdf, style = \"c\", pen = \"black\")\n",
    "fig.plot(x = events_cascadia_lon, y = events_cascadia_lat,  \n",
    "         color = 'yellow', size = size_cascadia, style = \"c\", pen = \"black\")\n",
    "# # Draw a line between two events that we consider to be the same event \n",
    "# fig.plot(x = [, y = events_cascadia_lat,  \n",
    "#          color = 'yellow', size = size_cascadia, style = \"c\", pen = \"black\")\n",
    "\n",
    "fig.show()"
   ]
  },
  {
   "cell_type": "code",
   "execution_count": null,
   "id": "7ac735d6",
   "metadata": {},
   "outputs": [],
   "source": [
    "events_longitude = events['longitude']\n",
    "events_longitude"
   ]
  },
  {
   "cell_type": "code",
   "execution_count": null,
   "id": "858fa46e",
   "metadata": {},
   "outputs": [],
   "source": [
    "events_latitude = events['latitude']\n",
    "events_latitude "
   ]
  },
  {
   "cell_type": "code",
   "execution_count": null,
   "id": "b9552623",
   "metadata": {},
   "outputs": [],
   "source": [
    "# Assign the size of 0.5 to all the points for the associated events \n",
    "\n",
    "size = np.zeros(len(events))\n",
    "for i in range(len(events)):\n",
    "    size[i] = 0.2"
   ]
  },
  {
   "cell_type": "code",
   "execution_count": null,
   "id": "06a70bd2",
   "metadata": {},
   "outputs": [],
   "source": [
    "size_jdf = np.zeros(len(events_jdf))\n",
    "for i in range(len(events_jdf)):\n",
    "    size_jdf[i] = 0.2"
   ]
  },
  {
   "cell_type": "code",
   "execution_count": null,
   "id": "bb70da38",
   "metadata": {},
   "outputs": [],
   "source": [
    "size_cascadia = np.zeros(len(events_cascadia))\n",
    "for i in range(len(events_cascadia)):\n",
    "    size_cascadia[i] = 0.2"
   ]
  },
  {
   "cell_type": "code",
   "execution_count": null,
   "id": "ce8e9541",
   "metadata": {},
   "outputs": [],
   "source": [
    "size_morton = np.zeros(len(events_morton))\n",
    "for i in range(len(events_morton)):\n",
    "    size_morton[i] = 0.2"
   ]
  },
  {
   "cell_type": "code",
   "execution_count": null,
   "id": "73d6a339",
   "metadata": {},
   "outputs": [],
   "source": [
    "len(size_cascadia)"
   ]
  },
  {
   "cell_type": "code",
   "execution_count": null,
   "id": "f2cc6940",
   "metadata": {},
   "outputs": [],
   "source": [
    "size"
   ]
  },
  {
   "cell_type": "code",
   "execution_count": null,
   "id": "e0d2ffb4",
   "metadata": {},
   "outputs": [],
   "source": [
    "events"
   ]
  },
  {
   "cell_type": "code",
   "execution_count": null,
   "id": "6e9ad89c",
   "metadata": {},
   "outputs": [],
   "source": [
    "type(events_latitude.shape)"
   ]
  },
  {
   "cell_type": "code",
   "execution_count": null,
   "id": "c9010046",
   "metadata": {},
   "outputs": [],
   "source": [
    "events_longitude.shape"
   ]
  },
  {
   "cell_type": "markdown",
   "id": "d47ceff7",
   "metadata": {},
   "source": [
    "## Load Data from Ian Stone's Paper"
   ]
  },
  {
   "cell_type": "code",
   "execution_count": null,
   "id": "3d24aafa",
   "metadata": {},
   "outputs": [],
   "source": [
    "events_cascadia = pd.read_csv('jgrb52524-sup-0002-2017jb014966-ds01.csv')\n",
    "events_jdf = pd.read_csv('jgrb52524-sup-0003-2017jb014966-ds02.csv')"
   ]
  },
  {
   "cell_type": "code",
   "execution_count": null,
   "id": "23f40e99",
   "metadata": {},
   "outputs": [],
   "source": [
    "events_cascadia[0:5]"
   ]
  },
  {
   "cell_type": "code",
   "execution_count": null,
   "id": "f8c8b46e",
   "metadata": {},
   "outputs": [],
   "source": [
    "events_jdf[0:5]"
   ]
  },
  {
   "cell_type": "code",
   "execution_count": null,
   "id": "49bab0b3",
   "metadata": {},
   "outputs": [],
   "source": [
    "# Get the latitude and longitude from Stone's catalog for JDF\n",
    "events_jdf_lon = events_jdf['Longitude']\n",
    "events_jdf_lat = events_jdf['Latitude']\n",
    "events_jdf_lat"
   ]
  },
  {
   "cell_type": "code",
   "execution_count": null,
   "id": "0436e3f9",
   "metadata": {},
   "outputs": [],
   "source": [
    "# Get the latitude and longitude from Stone's catalog for Cascadia\n",
    "events_cascadia_lon = events_cascadia['Longitude']\n",
    "events_cascadia_lat = events_cascadia['Latitude']\n",
    "events_cascadia_lon"
   ]
  },
  {
   "cell_type": "code",
   "execution_count": null,
   "id": "7de12c8c",
   "metadata": {},
   "outputs": [],
   "source": [
    "df.loc[df['datetime'] > datetime.datetime(2012, 10,12)]"
   ]
  },
  {
   "cell_type": "code",
   "execution_count": null,
   "id": "29143368",
   "metadata": {},
   "outputs": [],
   "source": [
    "df = pd.read_excel(\"jgrb52524-sup-0003-2017jb014966-ds02.xls\", header = None, skiprows = 1,\n",
    "              names = [\"Timestamp\", \"Longitude\", \"Latitude\", \"Depth (km)\", \"RMS (s)\", \"CI Year\"])\n",
    "\n",
    "df['datetime'] = df.apply(lambda a: datetime.datetime.fromtimestamp(a['Timestamp']), axis = 1)\n",
    "df"
   ]
  },
  {
   "cell_type": "markdown",
   "id": "c57cc902",
   "metadata": {},
   "source": [
    "- No events to match up with our associated events in the ds01 catalog from Stone's paper.\n",
    "- No events to match up with our associated events in the ds02 catalog from Stone's paper."
   ]
  },
  {
   "cell_type": "markdown",
   "id": "cc1e1829",
   "metadata": {},
   "source": [
    "## Load Data from Morton's Paper"
   ]
  },
  {
   "cell_type": "code",
   "execution_count": null,
   "id": "a905d172",
   "metadata": {},
   "outputs": [],
   "source": [
    "# Read Morton's catalog\n",
    "events_morton = pd.read_csv('ds01.csv')"
   ]
  },
  {
   "cell_type": "code",
   "execution_count": null,
   "id": "95bf9a45",
   "metadata": {},
   "outputs": [],
   "source": [
    "# Get the latitudes and longitudes for the events \n",
    "events_morton_lon = events_morton['LON']\n",
    "events_morton_lat = events_morton['LAT']"
   ]
  },
  {
   "cell_type": "code",
   "execution_count": null,
   "id": "bc0029d9",
   "metadata": {},
   "outputs": [],
   "source": [
    "events_morton_lat[0:5]"
   ]
  },
  {
   "cell_type": "code",
   "execution_count": null,
   "id": "5bec961d",
   "metadata": {},
   "outputs": [],
   "source": [
    "events_morton_lon[0:5]"
   ]
  },
  {
   "cell_type": "code",
   "execution_count": null,
   "id": "6cd524ee",
   "metadata": {},
   "outputs": [],
   "source": [
    "len(events_morton_lat)"
   ]
  },
  {
   "cell_type": "code",
   "execution_count": null,
   "id": "15f73a0b",
   "metadata": {},
   "outputs": [],
   "source": [
    "# Pull out the events for Oct 14, 2012 from the ds01 catalog from Morton's paper\n",
    "events_morton[671:674]"
   ]
  },
  {
   "cell_type": "code",
   "execution_count": null,
   "id": "4a2f5ce0",
   "metadata": {},
   "outputs": [],
   "source": [
    "events_morton.loc[673]"
   ]
  },
  {
   "cell_type": "code",
   "execution_count": null,
   "id": "2bba3343",
   "metadata": {},
   "outputs": [],
   "source": [
    "# Get the latitude and longitude for the event at 2:39 \n",
    "event_morton_0229_lat = events_morton.loc[671, 'LAT']\n",
    "event_morton_0229_lon = events_morton.loc[671, 'LON']"
   ]
  },
  {
   "cell_type": "code",
   "execution_count": null,
   "id": "5f5eb8ba",
   "metadata": {},
   "outputs": [],
   "source": [
    "# Get the latitude and longitude for the event at 3:08\n",
    "event_morton_0308_lat = events_morton.loc[672, 'LAT']\n",
    "event_morton_0308_lon = events_morton.loc[672, 'LON']"
   ]
  },
  {
   "cell_type": "code",
   "execution_count": null,
   "id": "7764f193",
   "metadata": {},
   "outputs": [],
   "source": [
    "events"
   ]
  },
  {
   "cell_type": "code",
   "execution_count": null,
   "id": "4d10cba4",
   "metadata": {},
   "outputs": [],
   "source": [
    "\n",
    "event_0229_lat = events.loc[1, 'latitude']\n",
    "event_0229_lon = events.loc[1, 'longitude']"
   ]
  },
  {
   "cell_type": "code",
   "execution_count": null,
   "id": "716074c3",
   "metadata": {},
   "outputs": [],
   "source": [
    "event_0308_lat = events.loc[2, 'latitude']\n",
    "event_0308_lon = events.loc[2, 'longitude']"
   ]
  },
  {
   "cell_type": "markdown",
   "id": "819f07f9",
   "metadata": {},
   "source": [
    "## Load data from the USGS catalog"
   ]
  },
  {
   "cell_type": "code",
   "execution_count": null,
   "id": "a9df3c08",
   "metadata": {},
   "outputs": [],
   "source": [
    "client = Client(\"USGS\")\n",
    "client_waveforms = WaveformClient()\n",
    "events_USGS = client.get_events(starttime = UTCDateTime(\"2012-10-14T00:00:00.000000\"),\n",
    "                  endtime   = UTCDateTime(\"2012-10-14T23:59:59.999999\"),\n",
    "                  minlatitude = 40, maxlatitude = 44, \n",
    "                  minlongitude = -125, maxlongitude = -120)\n",
    "events_USGS"
   ]
  },
  {
   "cell_type": "code",
   "execution_count": null,
   "id": "2983cc27",
   "metadata": {},
   "outputs": [],
   "source": [
    "event_USGS_0229_lat = 40.301\n",
    "event_USGS_0229_lon = -124.416"
   ]
  },
  {
   "cell_type": "code",
   "execution_count": null,
   "id": "56cffc5a",
   "metadata": {},
   "outputs": [],
   "source": [
    "event_USGS_0308_lat = 40.721\n",
    "event_USGS_0308_lon = -124.210"
   ]
  },
  {
   "cell_type": "code",
   "execution_count": null,
   "id": "ea7191b9",
   "metadata": {},
   "outputs": [],
   "source": []
  },
  {
   "cell_type": "code",
   "execution_count": null,
   "id": "ec07dfa5",
   "metadata": {},
   "outputs": [],
   "source": []
  },
  {
   "cell_type": "code",
   "execution_count": null,
   "id": "c0045919",
   "metadata": {},
   "outputs": [],
   "source": []
  },
  {
   "cell_type": "code",
   "execution_count": null,
   "id": "396ec7ac",
   "metadata": {},
   "outputs": [],
   "source": []
  },
  {
   "cell_type": "markdown",
   "id": "efd77ec8",
   "metadata": {},
   "source": [
    "# Plot the line between the matched events"
   ]
  },
  {
   "cell_type": "code",
   "execution_count": null,
   "id": "2520f161",
   "metadata": {},
   "outputs": [],
   "source": [
    "import pygmt\n",
    "\n",
    "fig = pygmt.Figure()\n",
    "grid = pygmt.datasets.load_earth_relief(resolution=\"15s\", region=[-126, -124, 40, 43])\n",
    "# fig.shift_origin(yshift=\"10c\")\n",
    "fig.basemap(frame=[\"a\",'+tThe Associated Events with Previously Cataloged Events',\"WSne\", \"xaf+lx-axis\", \"yaf+ly-axis\"])\n",
    "fig.grdimage(grid=grid, projection=\"M15c\", frame='a', cmap=\"geo\", transparency = 50)\n",
    "# Plot Morton's catalog\n",
    "fig.plot(x = events_morton_lon, y = events_morton_lat,  \n",
    "         color = 'blue', size = size_morton, style = \"c\", pen = \"black\", label='Morton 2023')\n",
    "# Plot our association events\n",
    "fig.plot(x = events_longitude, y = events_latitude,  \n",
    "         color = 'red', size = size, style = \"c\", pen = \"black\", label='Associated Events')\n",
    "# Plot Stone's catalog for JDF\n",
    "fig.plot(x = events_jdf_lon, y = events_jdf_lat,  \n",
    "         color = 'yellow', size = size_jdf, style = \"c\", pen = \"black\", label='Stone et al, 2018')\n",
    "# Plot Stone's catalog for Cascadia\n",
    "fig.plot(x = events_cascadia_lon, y = events_cascadia_lat,  \n",
    "         color = 'yellow', size = size_cascadia, style = \"c\", pen = \"black\",label='Stone et al, 2018')\n",
    "# Draw a line between two events that we consider to be the same event \n",
    "fig.plot(x = (event_0229_lon,event_morton_0229_lon,event_USGS_0229_lon), y = (event_0229_lat,event_morton_0229_lat,event_USGS_0229_lat), pen =\"4p, green\")\n",
    "fig.plot(x = (event_0308_lon,event_morton_0308_lon,event_USGS_0308_lon), y = (event_0308_lat,event_morton_0308_lat,event_USGS_0308_lat), pen =\"4p, green\")\n",
    "\n",
    "# fig.plot(x = [42.5,42.5,42.5], y = [-125.5,-125,-124.5],  \n",
    "#          color = ['red','yellow','blue'], size = [1,1,1], style = \"c\", pen =\"black\")\n",
    "fig.legend()\n",
    "fig.show()"
   ]
  },
  {
   "cell_type": "code",
   "execution_count": null,
   "id": "ba6d0a8d",
   "metadata": {},
   "outputs": [],
   "source": [
    "event_0229_lon"
   ]
  },
  {
   "cell_type": "code",
   "execution_count": null,
   "id": "5871b376",
   "metadata": {},
   "outputs": [],
   "source": [
    "event_0229_lat"
   ]
  },
  {
   "cell_type": "code",
   "execution_count": null,
   "id": "a7e19369",
   "metadata": {},
   "outputs": [],
   "source": []
  }
 ],
 "metadata": {
  "kernelspec": {
   "display_name": "seismo (SHARED)",
   "language": "python",
   "name": "seismo"
  },
  "language_info": {
   "codemirror_mode": {
    "name": "ipython",
    "version": 3
   },
   "file_extension": ".py",
   "mimetype": "text/x-python",
   "name": "python",
   "nbconvert_exporter": "python",
   "pygments_lexer": "ipython3",
   "version": "3.9.18"
  }
 },
 "nbformat": 4,
 "nbformat_minor": 5
}
