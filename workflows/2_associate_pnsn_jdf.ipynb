{
 "cells": [
  {
   "cell_type": "markdown",
   "id": "192aef88",
   "metadata": {},
   "source": [
    "## Try phase association for stations for 2012\n",
    "Refernce: https://github.com/yetinam/pyocto"
   ]
  },
  {
   "cell_type": "code",
   "execution_count": null,
   "id": "45e0b4d8",
   "metadata": {},
   "outputs": [],
   "source": [
    "# !pip3 install numpy\n",
    "# !pip3 install pyrocko"
   ]
  },
  {
   "cell_type": "code",
   "execution_count": 1,
   "id": "91c28442",
   "metadata": {},
   "outputs": [],
   "source": [
    "import pyocto\n",
    "import pandas as pd\n",
    "import datetime\n",
    "import matplotlib.pyplot as plt\n",
    "from collections import Counter\n",
    "import numpy as np\n",
    "from scipy import signal\n",
    "from obspy.signal.trigger import classic_sta_lta\n",
    "import pygmt\n",
    "\n",
    "from obspy.clients.fdsn import Client\n",
    "from obspy.core.utcdatetime import UTCDateTime\n",
    "from pnwstore.mseed import WaveformClient\n"
   ]
  },
  {
   "cell_type": "code",
   "execution_count": 2,
   "id": "6e59a463",
   "metadata": {},
   "outputs": [],
   "source": [
    "# Import the velocity model from https://colab.research.google.com/github/yetinam/pyocto/blob/main/examples/02_velocity_models.ipynb#scrollTo=1c52ed9e-d9c1-4fa6-a549-de702bc9d439\n",
    "# !wget https://github.com/yetinam/pyocto/raw/main/tests/data/graeber.csv"
   ]
  },
  {
   "cell_type": "markdown",
   "id": "d79f475f",
   "metadata": {},
   "source": [
    "## Input Data"
   ]
  },
  {
   "cell_type": "code",
   "execution_count": 3,
   "id": "dc050e11",
   "metadata": {},
   "outputs": [],
   "source": [
    "picks = pd.read_csv(\"../data/datasets_pnsn_jdf/picks_pnsn_jdf.csv\",index_col=0)\n",
    "stations = pd.read_csv(\"../data/datasets_pnsn_jdf/all_stations_pnsn_jdf.csv\",index_col=0)"
   ]
  },
  {
   "cell_type": "code",
   "execution_count": 4,
   "id": "d0f638dd",
   "metadata": {},
   "outputs": [
    {
     "data": {
      "text/html": [
       "<div>\n",
       "<style scoped>\n",
       "    .dataframe tbody tr th:only-of-type {\n",
       "        vertical-align: middle;\n",
       "    }\n",
       "\n",
       "    .dataframe tbody tr th {\n",
       "        vertical-align: top;\n",
       "    }\n",
       "\n",
       "    .dataframe thead th {\n",
       "        text-align: right;\n",
       "    }\n",
       "</style>\n",
       "<table border=\"1\" class=\"dataframe\">\n",
       "  <thead>\n",
       "    <tr style=\"text-align: right;\">\n",
       "      <th></th>\n",
       "      <th>station</th>\n",
       "      <th>phase</th>\n",
       "      <th>time</th>\n",
       "      <th>pick_id</th>\n",
       "    </tr>\n",
       "  </thead>\n",
       "  <tbody>\n",
       "    <tr>\n",
       "      <th>0</th>\n",
       "      <td>J43A</td>\n",
       "      <td>P</td>\n",
       "      <td>2011-10-19T22:42:41.009000Z</td>\n",
       "      <td>1361617</td>\n",
       "    </tr>\n",
       "    <tr>\n",
       "      <th>1</th>\n",
       "      <td>J43A</td>\n",
       "      <td>P</td>\n",
       "      <td>2011-10-20T21:31:11.089500Z</td>\n",
       "      <td>1372478</td>\n",
       "    </tr>\n",
       "    <tr>\n",
       "      <th>2</th>\n",
       "      <td>J43A</td>\n",
       "      <td>P</td>\n",
       "      <td>2011-10-20T18:30:20.749500Z</td>\n",
       "      <td>1372479</td>\n",
       "    </tr>\n",
       "    <tr>\n",
       "      <th>3</th>\n",
       "      <td>J43A</td>\n",
       "      <td>P</td>\n",
       "      <td>2011-10-20T18:30:07.509500Z</td>\n",
       "      <td>1372485</td>\n",
       "    </tr>\n",
       "    <tr>\n",
       "      <th>4</th>\n",
       "      <td>J43A</td>\n",
       "      <td>P</td>\n",
       "      <td>2011-10-20T21:30:58.849500Z</td>\n",
       "      <td>1372486</td>\n",
       "    </tr>\n",
       "    <tr>\n",
       "      <th>...</th>\n",
       "      <td>...</td>\n",
       "      <td>...</td>\n",
       "      <td>...</td>\n",
       "      <td>...</td>\n",
       "    </tr>\n",
       "    <tr>\n",
       "      <th>3750310</th>\n",
       "      <td>HYSB1</td>\n",
       "      <td>S</td>\n",
       "      <td>2015-12-28T02:27:18.963651Z</td>\n",
       "      <td>23562550</td>\n",
       "    </tr>\n",
       "    <tr>\n",
       "      <th>3750311</th>\n",
       "      <td>HYSB1</td>\n",
       "      <td>S</td>\n",
       "      <td>2015-12-28T02:20:46.603711Z</td>\n",
       "      <td>23562551</td>\n",
       "    </tr>\n",
       "    <tr>\n",
       "      <th>3750312</th>\n",
       "      <td>HYSB1</td>\n",
       "      <td>S</td>\n",
       "      <td>2015-12-28T00:47:05.304569Z</td>\n",
       "      <td>23562552</td>\n",
       "    </tr>\n",
       "    <tr>\n",
       "      <th>3750313</th>\n",
       "      <td>HYSB1</td>\n",
       "      <td>S</td>\n",
       "      <td>2015-12-28T00:11:33.859894Z</td>\n",
       "      <td>23562553</td>\n",
       "    </tr>\n",
       "    <tr>\n",
       "      <th>3750314</th>\n",
       "      <td>HYSB1</td>\n",
       "      <td>S</td>\n",
       "      <td>2015-12-28T00:00:45.184993Z</td>\n",
       "      <td>23562554</td>\n",
       "    </tr>\n",
       "  </tbody>\n",
       "</table>\n",
       "<p>3750315 rows × 4 columns</p>\n",
       "</div>"
      ],
      "text/plain": [
       "        station phase                         time   pick_id\n",
       "0          J43A     P  2011-10-19T22:42:41.009000Z   1361617\n",
       "1          J43A     P  2011-10-20T21:31:11.089500Z   1372478\n",
       "2          J43A     P  2011-10-20T18:30:20.749500Z   1372479\n",
       "3          J43A     P  2011-10-20T18:30:07.509500Z   1372485\n",
       "4          J43A     P  2011-10-20T21:30:58.849500Z   1372486\n",
       "...         ...   ...                          ...       ...\n",
       "3750310   HYSB1     S  2015-12-28T02:27:18.963651Z  23562550\n",
       "3750311   HYSB1     S  2015-12-28T02:20:46.603711Z  23562551\n",
       "3750312   HYSB1     S  2015-12-28T00:47:05.304569Z  23562552\n",
       "3750313   HYSB1     S  2015-12-28T00:11:33.859894Z  23562553\n",
       "3750314   HYSB1     S  2015-12-28T00:00:45.184993Z  23562554\n",
       "\n",
       "[3750315 rows x 4 columns]"
      ]
     },
     "execution_count": 4,
     "metadata": {},
     "output_type": "execute_result"
    }
   ],
   "source": [
    "picks"
   ]
  },
  {
   "cell_type": "code",
   "execution_count": 5,
   "id": "2bb5755e",
   "metadata": {},
   "outputs": [
    {
     "data": {
      "text/html": [
       "<div>\n",
       "<style scoped>\n",
       "    .dataframe tbody tr th:only-of-type {\n",
       "        vertical-align: middle;\n",
       "    }\n",
       "\n",
       "    .dataframe tbody tr th {\n",
       "        vertical-align: top;\n",
       "    }\n",
       "\n",
       "    .dataframe thead th {\n",
       "        text-align: right;\n",
       "    }\n",
       "</style>\n",
       "<table border=\"1\" class=\"dataframe\">\n",
       "  <thead>\n",
       "    <tr style=\"text-align: right;\">\n",
       "      <th></th>\n",
       "      <th>id</th>\n",
       "      <th>longitude</th>\n",
       "      <th>latitude</th>\n",
       "      <th>elevation</th>\n",
       "    </tr>\n",
       "  </thead>\n",
       "  <tbody>\n",
       "    <tr>\n",
       "      <th>0</th>\n",
       "      <td>J43A</td>\n",
       "      <td>-126.172096</td>\n",
       "      <td>46.137798</td>\n",
       "      <td>-2654.4</td>\n",
       "    </tr>\n",
       "    <tr>\n",
       "      <th>1</th>\n",
       "      <td>J59A</td>\n",
       "      <td>-126.415298</td>\n",
       "      <td>47.509602</td>\n",
       "      <td>-2371.0</td>\n",
       "    </tr>\n",
       "    <tr>\n",
       "      <th>2</th>\n",
       "      <td>J51A</td>\n",
       "      <td>-126.164101</td>\n",
       "      <td>46.797001</td>\n",
       "      <td>-2610.0</td>\n",
       "    </tr>\n",
       "    <tr>\n",
       "      <th>3</th>\n",
       "      <td>J35A</td>\n",
       "      <td>-126.266800</td>\n",
       "      <td>45.498901</td>\n",
       "      <td>-2662.0</td>\n",
       "    </tr>\n",
       "    <tr>\n",
       "      <th>4</th>\n",
       "      <td>G03A</td>\n",
       "      <td>-126.162498</td>\n",
       "      <td>40.059101</td>\n",
       "      <td>-4113.0</td>\n",
       "    </tr>\n",
       "    <tr>\n",
       "      <th>...</th>\n",
       "      <td>...</td>\n",
       "      <td>...</td>\n",
       "      <td>...</td>\n",
       "      <td>...</td>\n",
       "    </tr>\n",
       "    <tr>\n",
       "      <th>72</th>\n",
       "      <td>G19D</td>\n",
       "      <td>-126.027901</td>\n",
       "      <td>41.331600</td>\n",
       "      <td>-3082.0</td>\n",
       "    </tr>\n",
       "    <tr>\n",
       "      <th>73</th>\n",
       "      <td>G26D</td>\n",
       "      <td>-125.308296</td>\n",
       "      <td>41.983799</td>\n",
       "      <td>-3104.0</td>\n",
       "    </tr>\n",
       "    <tr>\n",
       "      <th>74</th>\n",
       "      <td>BB631</td>\n",
       "      <td>-126.634399</td>\n",
       "      <td>42.878700</td>\n",
       "      <td>-3320.0</td>\n",
       "    </tr>\n",
       "    <tr>\n",
       "      <th>75</th>\n",
       "      <td>G27D</td>\n",
       "      <td>-125.981697</td>\n",
       "      <td>42.001301</td>\n",
       "      <td>-2939.0</td>\n",
       "    </tr>\n",
       "    <tr>\n",
       "      <th>76</th>\n",
       "      <td>HYSB1</td>\n",
       "      <td>-125.405258</td>\n",
       "      <td>44.509791</td>\n",
       "      <td>-2908.0</td>\n",
       "    </tr>\n",
       "  </tbody>\n",
       "</table>\n",
       "<p>77 rows × 4 columns</p>\n",
       "</div>"
      ],
      "text/plain": [
       "       id   longitude   latitude  elevation\n",
       "0    J43A -126.172096  46.137798    -2654.4\n",
       "1    J59A -126.415298  47.509602    -2371.0\n",
       "2    J51A -126.164101  46.797001    -2610.0\n",
       "3    J35A -126.266800  45.498901    -2662.0\n",
       "4    G03A -126.162498  40.059101    -4113.0\n",
       "..    ...         ...        ...        ...\n",
       "72   G19D -126.027901  41.331600    -3082.0\n",
       "73   G26D -125.308296  41.983799    -3104.0\n",
       "74  BB631 -126.634399  42.878700    -3320.0\n",
       "75   G27D -125.981697  42.001301    -2939.0\n",
       "76  HYSB1 -125.405258  44.509791    -2908.0\n",
       "\n",
       "[77 rows x 4 columns]"
      ]
     },
     "execution_count": 5,
     "metadata": {},
     "output_type": "execute_result"
    }
   ],
   "source": [
    "stations"
   ]
  },
  {
   "cell_type": "markdown",
   "id": "a3bf75c7",
   "metadata": {},
   "source": [
    "## Create a 1D velocity model\n",
    "Not needed for now."
   ]
  },
  {
   "cell_type": "code",
   "execution_count": 6,
   "id": "b5c28f00",
   "metadata": {},
   "outputs": [],
   "source": [
    "# !wget https://github.com/yetinam/pyocto/raw/main/tests/data/graeber.csv"
   ]
  },
  {
   "cell_type": "code",
   "execution_count": 7,
   "id": "b99a8be8",
   "metadata": {},
   "outputs": [
    {
     "data": {
      "text/html": [
       "<div>\n",
       "<style scoped>\n",
       "    .dataframe tbody tr th:only-of-type {\n",
       "        vertical-align: middle;\n",
       "    }\n",
       "\n",
       "    .dataframe tbody tr th {\n",
       "        vertical-align: top;\n",
       "    }\n",
       "\n",
       "    .dataframe thead th {\n",
       "        text-align: right;\n",
       "    }\n",
       "</style>\n",
       "<table border=\"1\" class=\"dataframe\">\n",
       "  <thead>\n",
       "    <tr style=\"text-align: right;\">\n",
       "      <th></th>\n",
       "      <th>depth</th>\n",
       "      <th>vp</th>\n",
       "      <th>vp_grad</th>\n",
       "      <th>vs</th>\n",
       "      <th>vs_grad</th>\n",
       "      <th>x</th>\n",
       "      <th>y</th>\n",
       "    </tr>\n",
       "  </thead>\n",
       "  <tbody>\n",
       "    <tr>\n",
       "      <th>0</th>\n",
       "      <td>0</td>\n",
       "      <td>6.5</td>\n",
       "      <td>0.3</td>\n",
       "      <td>3.752777</td>\n",
       "      <td>0.173205</td>\n",
       "      <td>1</td>\n",
       "      <td>0</td>\n",
       "    </tr>\n",
       "    <tr>\n",
       "      <th>1</th>\n",
       "      <td>5</td>\n",
       "      <td>8.0</td>\n",
       "      <td>0.3</td>\n",
       "      <td>4.618802</td>\n",
       "      <td>0.173205</td>\n",
       "      <td>1</td>\n",
       "      <td>0</td>\n",
       "    </tr>\n",
       "  </tbody>\n",
       "</table>\n",
       "</div>"
      ],
      "text/plain": [
       "   depth   vp  vp_grad        vs   vs_grad  x  y\n",
       "0      0  6.5      0.3  3.752777  0.173205  1  0\n",
       "1      5  8.0      0.3  4.618802  0.173205  1  0"
      ]
     },
     "execution_count": 7,
     "metadata": {},
     "output_type": "execute_result"
    }
   ],
   "source": [
    "layers = pd.read_csv(\"../data/pnsn_jdf.csv\")\n",
    "\n",
    "# Strip leading/trailing spaces from column names\n",
    "layers.columns = layers.columns.str.strip()\n",
    "layers"
   ]
  },
  {
   "cell_type": "code",
   "execution_count": 8,
   "id": "e492330c",
   "metadata": {},
   "outputs": [],
   "source": [
    "model_path = \"velocity_model\"\n",
    "pyocto.VelocityModel1D.create_model(layers, 1., 400, 250, model_path)"
   ]
  },
  {
   "cell_type": "code",
   "execution_count": 9,
   "id": "a9d3a14a",
   "metadata": {},
   "outputs": [],
   "source": [
    "velocity_model_1d = pyocto.VelocityModel1D(model_path, tolerance=2.0)"
   ]
  },
  {
   "cell_type": "markdown",
   "id": "0f6a5c8a",
   "metadata": {},
   "source": [
    "## The OctoAssociator class"
   ]
  },
  {
   "cell_type": "code",
   "execution_count": 10,
   "id": "c49c113f",
   "metadata": {},
   "outputs": [],
   "source": [
    "#  Define the associator parameters\n",
    "associator = pyocto.OctoAssociator.from_area(\n",
    "    lat=(38, 51),\n",
    "    lon=(-132,-119),\n",
    "    zlim=(0, 50),\n",
    "    time_before=300,\n",
    "    velocity_model=velocity_model_1d,\n",
    "    n_picks=5,\n",
    "    n_p_picks=1,\n",
    "    n_s_picks=3,\n",
    "    n_p_and_s_picks=1,\n",
    ")"
   ]
  },
  {
   "cell_type": "code",
   "execution_count": 11,
   "id": "8563e5e5",
   "metadata": {},
   "outputs": [
    {
     "data": {
      "text/html": [
       "<div>\n",
       "<style scoped>\n",
       "    .dataframe tbody tr th:only-of-type {\n",
       "        vertical-align: middle;\n",
       "    }\n",
       "\n",
       "    .dataframe tbody tr th {\n",
       "        vertical-align: top;\n",
       "    }\n",
       "\n",
       "    .dataframe thead th {\n",
       "        text-align: right;\n",
       "    }\n",
       "</style>\n",
       "<table border=\"1\" class=\"dataframe\">\n",
       "  <thead>\n",
       "    <tr style=\"text-align: right;\">\n",
       "      <th></th>\n",
       "      <th>id</th>\n",
       "      <th>longitude</th>\n",
       "      <th>latitude</th>\n",
       "      <th>elevation</th>\n",
       "      <th>x</th>\n",
       "      <th>y</th>\n",
       "      <th>z</th>\n",
       "    </tr>\n",
       "  </thead>\n",
       "  <tbody>\n",
       "    <tr>\n",
       "      <th>0</th>\n",
       "      <td>J43A</td>\n",
       "      <td>-126.172096</td>\n",
       "      <td>46.137798</td>\n",
       "      <td>-2654.4</td>\n",
       "      <td>-51.933335</td>\n",
       "      <td>182.241231</td>\n",
       "      <td>2.6544</td>\n",
       "    </tr>\n",
       "    <tr>\n",
       "      <th>1</th>\n",
       "      <td>J59A</td>\n",
       "      <td>-126.415298</td>\n",
       "      <td>47.509602</td>\n",
       "      <td>-2371.0</td>\n",
       "      <td>-68.948989</td>\n",
       "      <td>334.927611</td>\n",
       "      <td>2.3710</td>\n",
       "    </tr>\n",
       "    <tr>\n",
       "      <th>2</th>\n",
       "      <td>J51A</td>\n",
       "      <td>-126.164101</td>\n",
       "      <td>46.797001</td>\n",
       "      <td>-2610.0</td>\n",
       "      <td>-50.699779</td>\n",
       "      <td>255.513092</td>\n",
       "      <td>2.6100</td>\n",
       "    </tr>\n",
       "    <tr>\n",
       "      <th>3</th>\n",
       "      <td>J35A</td>\n",
       "      <td>-126.266800</td>\n",
       "      <td>45.498901</td>\n",
       "      <td>-2662.0</td>\n",
       "      <td>-59.932741</td>\n",
       "      <td>111.295682</td>\n",
       "      <td>2.6620</td>\n",
       "    </tr>\n",
       "    <tr>\n",
       "      <th>4</th>\n",
       "      <td>G03A</td>\n",
       "      <td>-126.162498</td>\n",
       "      <td>40.059101</td>\n",
       "      <td>-4113.0</td>\n",
       "      <td>-56.524675</td>\n",
       "      <td>-493.079290</td>\n",
       "      <td>4.1130</td>\n",
       "    </tr>\n",
       "    <tr>\n",
       "      <th>...</th>\n",
       "      <td>...</td>\n",
       "      <td>...</td>\n",
       "      <td>...</td>\n",
       "      <td>...</td>\n",
       "      <td>...</td>\n",
       "      <td>...</td>\n",
       "      <td>...</td>\n",
       "    </tr>\n",
       "    <tr>\n",
       "      <th>72</th>\n",
       "      <td>G19D</td>\n",
       "      <td>-126.027901</td>\n",
       "      <td>41.331600</td>\n",
       "      <td>-3082.0</td>\n",
       "      <td>-44.191785</td>\n",
       "      <td>-351.846650</td>\n",
       "      <td>3.0820</td>\n",
       "    </tr>\n",
       "    <tr>\n",
       "      <th>73</th>\n",
       "      <td>G26D</td>\n",
       "      <td>-125.308296</td>\n",
       "      <td>41.983799</td>\n",
       "      <td>-3104.0</td>\n",
       "      <td>15.886854</td>\n",
       "      <td>-279.525770</td>\n",
       "      <td>3.1040</td>\n",
       "    </tr>\n",
       "    <tr>\n",
       "      <th>74</th>\n",
       "      <td>BB631</td>\n",
       "      <td>-126.634399</td>\n",
       "      <td>42.878700</td>\n",
       "      <td>-3320.0</td>\n",
       "      <td>-92.682202</td>\n",
       "      <td>-179.512094</td>\n",
       "      <td>3.3200</td>\n",
       "    </tr>\n",
       "    <tr>\n",
       "      <th>75</th>\n",
       "      <td>G27D</td>\n",
       "      <td>-125.981697</td>\n",
       "      <td>42.001301</td>\n",
       "      <td>-2939.0</td>\n",
       "      <td>-39.908200</td>\n",
       "      <td>-277.487290</td>\n",
       "      <td>2.9390</td>\n",
       "    </tr>\n",
       "    <tr>\n",
       "      <th>76</th>\n",
       "      <td>HYSB1</td>\n",
       "      <td>-125.405258</td>\n",
       "      <td>44.509791</td>\n",
       "      <td>-2908.0</td>\n",
       "      <td>7.533529</td>\n",
       "      <td>1.092363</td>\n",
       "      <td>2.9080</td>\n",
       "    </tr>\n",
       "  </tbody>\n",
       "</table>\n",
       "<p>77 rows × 7 columns</p>\n",
       "</div>"
      ],
      "text/plain": [
       "       id   longitude   latitude  elevation          x           y       z\n",
       "0    J43A -126.172096  46.137798    -2654.4 -51.933335  182.241231  2.6544\n",
       "1    J59A -126.415298  47.509602    -2371.0 -68.948989  334.927611  2.3710\n",
       "2    J51A -126.164101  46.797001    -2610.0 -50.699779  255.513092  2.6100\n",
       "3    J35A -126.266800  45.498901    -2662.0 -59.932741  111.295682  2.6620\n",
       "4    G03A -126.162498  40.059101    -4113.0 -56.524675 -493.079290  4.1130\n",
       "..    ...         ...        ...        ...        ...         ...     ...\n",
       "72   G19D -126.027901  41.331600    -3082.0 -44.191785 -351.846650  3.0820\n",
       "73   G26D -125.308296  41.983799    -3104.0  15.886854 -279.525770  3.1040\n",
       "74  BB631 -126.634399  42.878700    -3320.0 -92.682202 -179.512094  3.3200\n",
       "75   G27D -125.981697  42.001301    -2939.0 -39.908200 -277.487290  2.9390\n",
       "76  HYSB1 -125.405258  44.509791    -2908.0   7.533529    1.092363  2.9080\n",
       "\n",
       "[77 rows x 7 columns]"
      ]
     },
     "execution_count": 11,
     "metadata": {},
     "output_type": "execute_result"
    }
   ],
   "source": [
    "associator.transform_stations(stations)\n",
    "stations"
   ]
  },
  {
   "cell_type": "markdown",
   "id": "27c78b5c",
   "metadata": {},
   "source": [
    "## Convert the timestamps to floats"
   ]
  },
  {
   "cell_type": "code",
   "execution_count": 12,
   "id": "c99c738e",
   "metadata": {
    "scrolled": true
   },
   "outputs": [
    {
     "data": {
      "text/html": [
       "<div>\n",
       "<style scoped>\n",
       "    .dataframe tbody tr th:only-of-type {\n",
       "        vertical-align: middle;\n",
       "    }\n",
       "\n",
       "    .dataframe tbody tr th {\n",
       "        vertical-align: top;\n",
       "    }\n",
       "\n",
       "    .dataframe thead th {\n",
       "        text-align: right;\n",
       "    }\n",
       "</style>\n",
       "<table border=\"1\" class=\"dataframe\">\n",
       "  <thead>\n",
       "    <tr style=\"text-align: right;\">\n",
       "      <th></th>\n",
       "      <th>station</th>\n",
       "      <th>phase</th>\n",
       "      <th>time</th>\n",
       "      <th>pick_id</th>\n",
       "    </tr>\n",
       "  </thead>\n",
       "  <tbody>\n",
       "    <tr>\n",
       "      <th>0</th>\n",
       "      <td>J43A</td>\n",
       "      <td>P</td>\n",
       "      <td>1.319064e+09</td>\n",
       "      <td>1361617</td>\n",
       "    </tr>\n",
       "    <tr>\n",
       "      <th>1</th>\n",
       "      <td>J43A</td>\n",
       "      <td>P</td>\n",
       "      <td>1.319146e+09</td>\n",
       "      <td>1372478</td>\n",
       "    </tr>\n",
       "    <tr>\n",
       "      <th>2</th>\n",
       "      <td>J43A</td>\n",
       "      <td>P</td>\n",
       "      <td>1.319135e+09</td>\n",
       "      <td>1372479</td>\n",
       "    </tr>\n",
       "    <tr>\n",
       "      <th>3</th>\n",
       "      <td>J43A</td>\n",
       "      <td>P</td>\n",
       "      <td>1.319135e+09</td>\n",
       "      <td>1372485</td>\n",
       "    </tr>\n",
       "    <tr>\n",
       "      <th>4</th>\n",
       "      <td>J43A</td>\n",
       "      <td>P</td>\n",
       "      <td>1.319146e+09</td>\n",
       "      <td>1372486</td>\n",
       "    </tr>\n",
       "    <tr>\n",
       "      <th>...</th>\n",
       "      <td>...</td>\n",
       "      <td>...</td>\n",
       "      <td>...</td>\n",
       "      <td>...</td>\n",
       "    </tr>\n",
       "    <tr>\n",
       "      <th>3750310</th>\n",
       "      <td>HYSB1</td>\n",
       "      <td>S</td>\n",
       "      <td>1.451270e+09</td>\n",
       "      <td>23562550</td>\n",
       "    </tr>\n",
       "    <tr>\n",
       "      <th>3750311</th>\n",
       "      <td>HYSB1</td>\n",
       "      <td>S</td>\n",
       "      <td>1.451269e+09</td>\n",
       "      <td>23562551</td>\n",
       "    </tr>\n",
       "    <tr>\n",
       "      <th>3750312</th>\n",
       "      <td>HYSB1</td>\n",
       "      <td>S</td>\n",
       "      <td>1.451264e+09</td>\n",
       "      <td>23562552</td>\n",
       "    </tr>\n",
       "    <tr>\n",
       "      <th>3750313</th>\n",
       "      <td>HYSB1</td>\n",
       "      <td>S</td>\n",
       "      <td>1.451261e+09</td>\n",
       "      <td>23562553</td>\n",
       "    </tr>\n",
       "    <tr>\n",
       "      <th>3750314</th>\n",
       "      <td>HYSB1</td>\n",
       "      <td>S</td>\n",
       "      <td>1.451261e+09</td>\n",
       "      <td>23562554</td>\n",
       "    </tr>\n",
       "  </tbody>\n",
       "</table>\n",
       "<p>3750315 rows × 4 columns</p>\n",
       "</div>"
      ],
      "text/plain": [
       "        station phase          time   pick_id\n",
       "0          J43A     P  1.319064e+09   1361617\n",
       "1          J43A     P  1.319146e+09   1372478\n",
       "2          J43A     P  1.319135e+09   1372479\n",
       "3          J43A     P  1.319135e+09   1372485\n",
       "4          J43A     P  1.319146e+09   1372486\n",
       "...         ...   ...           ...       ...\n",
       "3750310   HYSB1     S  1.451270e+09  23562550\n",
       "3750311   HYSB1     S  1.451269e+09  23562551\n",
       "3750312   HYSB1     S  1.451264e+09  23562552\n",
       "3750313   HYSB1     S  1.451261e+09  23562553\n",
       "3750314   HYSB1     S  1.451261e+09  23562554\n",
       "\n",
       "[3750315 rows x 4 columns]"
      ]
     },
     "execution_count": 12,
     "metadata": {},
     "output_type": "execute_result"
    }
   ],
   "source": [
    "# Convert the times to timestamps\n",
    "picks[\"time\"] = picks[\"time\"].apply(lambda x: datetime.datetime.strptime(x,'%Y-%m-%dT%H:%M:%S.%fZ'))\n",
    "picks[\"time\"] = picks[\"time\"].apply(lambda x: x.timestamp())\n",
    "picks"
   ]
  },
  {
   "cell_type": "code",
   "execution_count": 13,
   "id": "ae18d231",
   "metadata": {},
   "outputs": [],
   "source": [
    "# picks['time'] = picks['time'].apply(lambda x: (datetime.datetime.strptime(x,'%Y-%m-%dT%H:%M:%S.%fZ')).timestamp())\n",
    "# picks"
   ]
  },
  {
   "cell_type": "markdown",
   "id": "a0227ee6",
   "metadata": {},
   "source": [
    "## Apply  the associator"
   ]
  },
  {
   "cell_type": "code",
   "execution_count": 14,
   "id": "261a46ca",
   "metadata": {},
   "outputs": [],
   "source": [
    "# Association \n",
    "events, assignments = associator.associate(picks, stations)"
   ]
  },
  {
   "cell_type": "code",
   "execution_count": 15,
   "id": "7c62f214",
   "metadata": {},
   "outputs": [
    {
     "data": {
      "text/html": [
       "<div>\n",
       "<style scoped>\n",
       "    .dataframe tbody tr th:only-of-type {\n",
       "        vertical-align: middle;\n",
       "    }\n",
       "\n",
       "    .dataframe tbody tr th {\n",
       "        vertical-align: top;\n",
       "    }\n",
       "\n",
       "    .dataframe thead th {\n",
       "        text-align: right;\n",
       "    }\n",
       "</style>\n",
       "<table border=\"1\" class=\"dataframe\">\n",
       "  <thead>\n",
       "    <tr style=\"text-align: right;\">\n",
       "      <th></th>\n",
       "      <th>idx</th>\n",
       "      <th>time</th>\n",
       "      <th>x</th>\n",
       "      <th>y</th>\n",
       "      <th>z</th>\n",
       "      <th>picks</th>\n",
       "    </tr>\n",
       "  </thead>\n",
       "  <tbody>\n",
       "    <tr>\n",
       "      <th>0</th>\n",
       "      <td>0</td>\n",
       "      <td>1.320962e+09</td>\n",
       "      <td>-254.924194</td>\n",
       "      <td>438.888277</td>\n",
       "      <td>12.890625</td>\n",
       "      <td>5</td>\n",
       "    </tr>\n",
       "    <tr>\n",
       "      <th>1</th>\n",
       "      <td>1</td>\n",
       "      <td>1.323096e+09</td>\n",
       "      <td>102.081242</td>\n",
       "      <td>418.862650</td>\n",
       "      <td>31.640625</td>\n",
       "      <td>5</td>\n",
       "    </tr>\n",
       "    <tr>\n",
       "      <th>2</th>\n",
       "      <td>2</td>\n",
       "      <td>1.323557e+09</td>\n",
       "      <td>-96.503032</td>\n",
       "      <td>58.401356</td>\n",
       "      <td>12.890625</td>\n",
       "      <td>6</td>\n",
       "    </tr>\n",
       "    <tr>\n",
       "      <th>3</th>\n",
       "      <td>3</td>\n",
       "      <td>1.324923e+09</td>\n",
       "      <td>-36.258365</td>\n",
       "      <td>132.782258</td>\n",
       "      <td>41.015625</td>\n",
       "      <td>6</td>\n",
       "    </tr>\n",
       "    <tr>\n",
       "      <th>4</th>\n",
       "      <td>4</td>\n",
       "      <td>1.326535e+09</td>\n",
       "      <td>-297.318589</td>\n",
       "      <td>-57.461203</td>\n",
       "      <td>49.609375</td>\n",
       "      <td>5</td>\n",
       "    </tr>\n",
       "    <tr>\n",
       "      <th>...</th>\n",
       "      <td>...</td>\n",
       "      <td>...</td>\n",
       "      <td>...</td>\n",
       "      <td>...</td>\n",
       "      <td>...</td>\n",
       "      <td>...</td>\n",
       "    </tr>\n",
       "    <tr>\n",
       "      <th>37545</th>\n",
       "      <td>37545</td>\n",
       "      <td>1.442251e+09</td>\n",
       "      <td>-119.931513</td>\n",
       "      <td>-450.821741</td>\n",
       "      <td>0.390625</td>\n",
       "      <td>5</td>\n",
       "    </tr>\n",
       "    <tr>\n",
       "      <th>37546</th>\n",
       "      <td>37546</td>\n",
       "      <td>1.442279e+09</td>\n",
       "      <td>-179.060539</td>\n",
       "      <td>-429.365712</td>\n",
       "      <td>1.171875</td>\n",
       "      <td>5</td>\n",
       "    </tr>\n",
       "    <tr>\n",
       "      <th>37547</th>\n",
       "      <td>37547</td>\n",
       "      <td>1.442287e+09</td>\n",
       "      <td>-71.958908</td>\n",
       "      <td>-293.477526</td>\n",
       "      <td>49.609375</td>\n",
       "      <td>5</td>\n",
       "    </tr>\n",
       "    <tr>\n",
       "      <th>37548</th>\n",
       "      <td>37548</td>\n",
       "      <td>1.442308e+09</td>\n",
       "      <td>-142.244353</td>\n",
       "      <td>-277.743104</td>\n",
       "      <td>16.015625</td>\n",
       "      <td>6</td>\n",
       "    </tr>\n",
       "    <tr>\n",
       "      <th>37549</th>\n",
       "      <td>37549</td>\n",
       "      <td>1.442338e+09</td>\n",
       "      <td>71.958908</td>\n",
       "      <td>-465.125761</td>\n",
       "      <td>47.265625</td>\n",
       "      <td>6</td>\n",
       "    </tr>\n",
       "  </tbody>\n",
       "</table>\n",
       "<p>37550 rows × 6 columns</p>\n",
       "</div>"
      ],
      "text/plain": [
       "         idx          time           x           y          z  picks\n",
       "0          0  1.320962e+09 -254.924194  438.888277  12.890625      5\n",
       "1          1  1.323096e+09  102.081242  418.862650  31.640625      5\n",
       "2          2  1.323557e+09  -96.503032   58.401356  12.890625      6\n",
       "3          3  1.324923e+09  -36.258365  132.782258  41.015625      6\n",
       "4          4  1.326535e+09 -297.318589  -57.461203  49.609375      5\n",
       "...      ...           ...         ...         ...        ...    ...\n",
       "37545  37545  1.442251e+09 -119.931513 -450.821741   0.390625      5\n",
       "37546  37546  1.442279e+09 -179.060539 -429.365712   1.171875      5\n",
       "37547  37547  1.442287e+09  -71.958908 -293.477526  49.609375      5\n",
       "37548  37548  1.442308e+09 -142.244353 -277.743104  16.015625      6\n",
       "37549  37549  1.442338e+09   71.958908 -465.125761  47.265625      6\n",
       "\n",
       "[37550 rows x 6 columns]"
      ]
     },
     "execution_count": 15,
     "metadata": {},
     "output_type": "execute_result"
    }
   ],
   "source": [
    "# Print the associated events\n",
    "events"
   ]
  },
  {
   "cell_type": "code",
   "execution_count": 16,
   "id": "0c48bb4d",
   "metadata": {},
   "outputs": [
    {
     "data": {
      "text/plain": [
       "Counter({5: 14033,\n",
       "         6: 7446,\n",
       "         7: 4267,\n",
       "         8: 2607,\n",
       "         9: 1886,\n",
       "         10: 1385,\n",
       "         11: 1154,\n",
       "         12: 889,\n",
       "         13: 725,\n",
       "         14: 573,\n",
       "         15: 446,\n",
       "         16: 397,\n",
       "         17: 329,\n",
       "         18: 254,\n",
       "         19: 198,\n",
       "         20: 176,\n",
       "         21: 148,\n",
       "         22: 133,\n",
       "         23: 103,\n",
       "         24: 80,\n",
       "         25: 65,\n",
       "         26: 64,\n",
       "         27: 63,\n",
       "         28: 39,\n",
       "         29: 27,\n",
       "         30: 17,\n",
       "         32: 16,\n",
       "         31: 15,\n",
       "         34: 7,\n",
       "         35: 3,\n",
       "         33: 2,\n",
       "         36: 2,\n",
       "         38: 1})"
      ]
     },
     "execution_count": 16,
     "metadata": {},
     "output_type": "execute_result"
    }
   ],
   "source": [
    "# Count how many picks each event has\n",
    "Counter(events['picks'])"
   ]
  },
  {
   "cell_type": "code",
   "execution_count": 17,
   "id": "ef8aa879",
   "metadata": {
    "scrolled": false
   },
   "outputs": [],
   "source": [
    "# Convert the event times and the x, y, and z coordinate to latitudes, longitudes, and depths, respectively\n",
    "associator.transform_events(events)\n",
    "events[\"time\"] = events[\"time\"].apply(datetime.datetime.fromtimestamp, tz=datetime.timezone.utc)"
   ]
  },
  {
   "cell_type": "code",
   "execution_count": 18,
   "id": "3dc911d7",
   "metadata": {},
   "outputs": [
    {
     "data": {
      "text/html": [
       "<div>\n",
       "<style scoped>\n",
       "    .dataframe tbody tr th:only-of-type {\n",
       "        vertical-align: middle;\n",
       "    }\n",
       "\n",
       "    .dataframe tbody tr th {\n",
       "        vertical-align: top;\n",
       "    }\n",
       "\n",
       "    .dataframe thead th {\n",
       "        text-align: right;\n",
       "    }\n",
       "</style>\n",
       "<table border=\"1\" class=\"dataframe\">\n",
       "  <thead>\n",
       "    <tr style=\"text-align: right;\">\n",
       "      <th></th>\n",
       "      <th>idx</th>\n",
       "      <th>time</th>\n",
       "      <th>x</th>\n",
       "      <th>y</th>\n",
       "      <th>z</th>\n",
       "      <th>picks</th>\n",
       "      <th>latitude</th>\n",
       "      <th>longitude</th>\n",
       "      <th>depth</th>\n",
       "    </tr>\n",
       "  </thead>\n",
       "  <tbody>\n",
       "    <tr>\n",
       "      <th>0</th>\n",
       "      <td>0</td>\n",
       "      <td>2011-11-10 21:56:28.888634+00:00</td>\n",
       "      <td>-254.924194</td>\n",
       "      <td>438.888277</td>\n",
       "      <td>12.890625</td>\n",
       "      <td>5</td>\n",
       "      <td>48.396705</td>\n",
       "      <td>-128.942772</td>\n",
       "      <td>12.890625</td>\n",
       "    </tr>\n",
       "    <tr>\n",
       "      <th>1</th>\n",
       "      <td>1</td>\n",
       "      <td>2011-12-05 14:39:04.274888+00:00</td>\n",
       "      <td>102.081242</td>\n",
       "      <td>418.862650</td>\n",
       "      <td>31.640625</td>\n",
       "      <td>5</td>\n",
       "      <td>48.259927</td>\n",
       "      <td>-124.125148</td>\n",
       "      <td>31.640625</td>\n",
       "    </tr>\n",
       "    <tr>\n",
       "      <th>2</th>\n",
       "      <td>2</td>\n",
       "      <td>2011-12-10 22:44:46.018805+00:00</td>\n",
       "      <td>-96.503032</td>\n",
       "      <td>58.401356</td>\n",
       "      <td>12.890625</td>\n",
       "      <td>6</td>\n",
       "      <td>45.018973</td>\n",
       "      <td>-126.724334</td>\n",
       "      <td>12.890625</td>\n",
       "    </tr>\n",
       "    <tr>\n",
       "      <th>3</th>\n",
       "      <td>3</td>\n",
       "      <td>2011-12-26 18:06:15.493905+00:00</td>\n",
       "      <td>-36.258365</td>\n",
       "      <td>132.782258</td>\n",
       "      <td>41.015625</td>\n",
       "      <td>6</td>\n",
       "      <td>45.693849</td>\n",
       "      <td>-125.965511</td>\n",
       "      <td>41.015625</td>\n",
       "    </tr>\n",
       "    <tr>\n",
       "      <th>4</th>\n",
       "      <td>4</td>\n",
       "      <td>2012-01-14 10:01:31.057404+00:00</td>\n",
       "      <td>-297.318589</td>\n",
       "      <td>-57.461203</td>\n",
       "      <td>49.609375</td>\n",
       "      <td>5</td>\n",
       "      <td>43.922866</td>\n",
       "      <td>-129.202035</td>\n",
       "      <td>49.609375</td>\n",
       "    </tr>\n",
       "    <tr>\n",
       "      <th>...</th>\n",
       "      <td>...</td>\n",
       "      <td>...</td>\n",
       "      <td>...</td>\n",
       "      <td>...</td>\n",
       "      <td>...</td>\n",
       "      <td>...</td>\n",
       "      <td>...</td>\n",
       "      <td>...</td>\n",
       "      <td>...</td>\n",
       "    </tr>\n",
       "    <tr>\n",
       "      <th>37545</th>\n",
       "      <td>37545</td>\n",
       "      <td>2015-09-14 17:09:28.143523+00:00</td>\n",
       "      <td>-119.931513</td>\n",
       "      <td>-450.821741</td>\n",
       "      <td>0.390625</td>\n",
       "      <td>5</td>\n",
       "      <td>40.432918</td>\n",
       "      <td>-126.913395</td>\n",
       "      <td>0.390625</td>\n",
       "    </tr>\n",
       "    <tr>\n",
       "      <th>37546</th>\n",
       "      <td>37546</td>\n",
       "      <td>2015-09-15 01:02:42.471139+00:00</td>\n",
       "      <td>-179.060539</td>\n",
       "      <td>-429.365712</td>\n",
       "      <td>1.171875</td>\n",
       "      <td>5</td>\n",
       "      <td>40.615391</td>\n",
       "      <td>-127.615921</td>\n",
       "      <td>1.171875</td>\n",
       "    </tr>\n",
       "    <tr>\n",
       "      <th>37547</th>\n",
       "      <td>37547</td>\n",
       "      <td>2015-09-15 03:22:21.948671+00:00</td>\n",
       "      <td>-71.958908</td>\n",
       "      <td>-293.477526</td>\n",
       "      <td>49.609375</td>\n",
       "      <td>5</td>\n",
       "      <td>41.855080</td>\n",
       "      <td>-126.366569</td>\n",
       "      <td>49.609375</td>\n",
       "    </tr>\n",
       "    <tr>\n",
       "      <th>37548</th>\n",
       "      <td>37548</td>\n",
       "      <td>2015-09-15 09:12:54.234894+00:00</td>\n",
       "      <td>-142.244353</td>\n",
       "      <td>-277.743104</td>\n",
       "      <td>16.015625</td>\n",
       "      <td>6</td>\n",
       "      <td>41.987174</td>\n",
       "      <td>-127.216502</td>\n",
       "      <td>16.015625</td>\n",
       "    </tr>\n",
       "    <tr>\n",
       "      <th>37549</th>\n",
       "      <td>37549</td>\n",
       "      <td>2015-09-15 17:31:03.266140+00:00</td>\n",
       "      <td>71.958908</td>\n",
       "      <td>-465.125761</td>\n",
       "      <td>47.265625</td>\n",
       "      <td>6</td>\n",
       "      <td>40.309645</td>\n",
       "      <td>-124.653498</td>\n",
       "      <td>47.265625</td>\n",
       "    </tr>\n",
       "  </tbody>\n",
       "</table>\n",
       "<p>37550 rows × 9 columns</p>\n",
       "</div>"
      ],
      "text/plain": [
       "         idx                             time           x           y  \\\n",
       "0          0 2011-11-10 21:56:28.888634+00:00 -254.924194  438.888277   \n",
       "1          1 2011-12-05 14:39:04.274888+00:00  102.081242  418.862650   \n",
       "2          2 2011-12-10 22:44:46.018805+00:00  -96.503032   58.401356   \n",
       "3          3 2011-12-26 18:06:15.493905+00:00  -36.258365  132.782258   \n",
       "4          4 2012-01-14 10:01:31.057404+00:00 -297.318589  -57.461203   \n",
       "...      ...                              ...         ...         ...   \n",
       "37545  37545 2015-09-14 17:09:28.143523+00:00 -119.931513 -450.821741   \n",
       "37546  37546 2015-09-15 01:02:42.471139+00:00 -179.060539 -429.365712   \n",
       "37547  37547 2015-09-15 03:22:21.948671+00:00  -71.958908 -293.477526   \n",
       "37548  37548 2015-09-15 09:12:54.234894+00:00 -142.244353 -277.743104   \n",
       "37549  37549 2015-09-15 17:31:03.266140+00:00   71.958908 -465.125761   \n",
       "\n",
       "               z  picks   latitude   longitude      depth  \n",
       "0      12.890625      5  48.396705 -128.942772  12.890625  \n",
       "1      31.640625      5  48.259927 -124.125148  31.640625  \n",
       "2      12.890625      6  45.018973 -126.724334  12.890625  \n",
       "3      41.015625      6  45.693849 -125.965511  41.015625  \n",
       "4      49.609375      5  43.922866 -129.202035  49.609375  \n",
       "...          ...    ...        ...         ...        ...  \n",
       "37545   0.390625      5  40.432918 -126.913395   0.390625  \n",
       "37546   1.171875      5  40.615391 -127.615921   1.171875  \n",
       "37547  49.609375      5  41.855080 -126.366569  49.609375  \n",
       "37548  16.015625      6  41.987174 -127.216502  16.015625  \n",
       "37549  47.265625      6  40.309645 -124.653498  47.265625  \n",
       "\n",
       "[37550 rows x 9 columns]"
      ]
     },
     "execution_count": 18,
     "metadata": {},
     "output_type": "execute_result"
    }
   ],
   "source": [
    "events"
   ]
  },
  {
   "cell_type": "code",
   "execution_count": 19,
   "id": "6a765097",
   "metadata": {},
   "outputs": [],
   "source": [
    "#  Save events that have at least 6 picks\n",
    "events = events.loc[(events['picks'] >= 6)]\n",
    "events.to_csv('../data/datasets_pnsn_jdf/events_pnsn_jdf.csv')\n"
   ]
  },
  {
   "cell_type": "code",
   "execution_count": 20,
   "id": "7ce8ff76",
   "metadata": {},
   "outputs": [
    {
     "data": {
      "text/html": [
       "<div>\n",
       "<style scoped>\n",
       "    .dataframe tbody tr th:only-of-type {\n",
       "        vertical-align: middle;\n",
       "    }\n",
       "\n",
       "    .dataframe tbody tr th {\n",
       "        vertical-align: top;\n",
       "    }\n",
       "\n",
       "    .dataframe thead th {\n",
       "        text-align: right;\n",
       "    }\n",
       "</style>\n",
       "<table border=\"1\" class=\"dataframe\">\n",
       "  <thead>\n",
       "    <tr style=\"text-align: right;\">\n",
       "      <th></th>\n",
       "      <th>idx</th>\n",
       "      <th>time</th>\n",
       "      <th>x</th>\n",
       "      <th>y</th>\n",
       "      <th>z</th>\n",
       "      <th>picks</th>\n",
       "      <th>latitude</th>\n",
       "      <th>longitude</th>\n",
       "      <th>depth</th>\n",
       "    </tr>\n",
       "  </thead>\n",
       "  <tbody>\n",
       "    <tr>\n",
       "      <th>2</th>\n",
       "      <td>2</td>\n",
       "      <td>2011-12-10 22:44:46.018805+00:00</td>\n",
       "      <td>-96.503032</td>\n",
       "      <td>58.401356</td>\n",
       "      <td>12.890625</td>\n",
       "      <td>6</td>\n",
       "      <td>45.018973</td>\n",
       "      <td>-126.724334</td>\n",
       "      <td>12.890625</td>\n",
       "    </tr>\n",
       "    <tr>\n",
       "      <th>3</th>\n",
       "      <td>3</td>\n",
       "      <td>2011-12-26 18:06:15.493905+00:00</td>\n",
       "      <td>-36.258365</td>\n",
       "      <td>132.782258</td>\n",
       "      <td>41.015625</td>\n",
       "      <td>6</td>\n",
       "      <td>45.693849</td>\n",
       "      <td>-125.965511</td>\n",
       "      <td>41.015625</td>\n",
       "    </tr>\n",
       "    <tr>\n",
       "      <th>8</th>\n",
       "      <td>8</td>\n",
       "      <td>2012-02-04 20:05:31.130689+00:00</td>\n",
       "      <td>-203.604662</td>\n",
       "      <td>483.230738</td>\n",
       "      <td>49.609375</td>\n",
       "      <td>7</td>\n",
       "      <td>48.813643</td>\n",
       "      <td>-128.272371</td>\n",
       "      <td>49.609375</td>\n",
       "    </tr>\n",
       "    <tr>\n",
       "      <th>9</th>\n",
       "      <td>9</td>\n",
       "      <td>2012-02-06 08:17:12.331083+00:00</td>\n",
       "      <td>-71.958908</td>\n",
       "      <td>-123.259693</td>\n",
       "      <td>1.171875</td>\n",
       "      <td>6</td>\n",
       "      <td>43.387215</td>\n",
       "      <td>-126.388083</td>\n",
       "      <td>1.171875</td>\n",
       "    </tr>\n",
       "    <tr>\n",
       "      <th>16</th>\n",
       "      <td>16</td>\n",
       "      <td>2012-03-18 18:48:43.937964+00:00</td>\n",
       "      <td>185.754391</td>\n",
       "      <td>252.936022</td>\n",
       "      <td>25.390625</td>\n",
       "      <td>8</td>\n",
       "      <td>46.749918</td>\n",
       "      <td>-123.068939</td>\n",
       "      <td>25.390625</td>\n",
       "    </tr>\n",
       "    <tr>\n",
       "      <th>...</th>\n",
       "      <td>...</td>\n",
       "      <td>...</td>\n",
       "      <td>...</td>\n",
       "      <td>...</td>\n",
       "      <td>...</td>\n",
       "      <td>...</td>\n",
       "      <td>...</td>\n",
       "      <td>...</td>\n",
       "      <td>...</td>\n",
       "    </tr>\n",
       "    <tr>\n",
       "      <th>37542</th>\n",
       "      <td>37542</td>\n",
       "      <td>2015-09-14 05:33:02.229963+00:00</td>\n",
       "      <td>-60.802488</td>\n",
       "      <td>-370.719232</td>\n",
       "      <td>0.390625</td>\n",
       "      <td>10</td>\n",
       "      <td>41.160599</td>\n",
       "      <td>-126.224435</td>\n",
       "      <td>0.390625</td>\n",
       "    </tr>\n",
       "    <tr>\n",
       "      <th>37543</th>\n",
       "      <td>37543</td>\n",
       "      <td>2015-09-14 06:09:08.238133+00:00</td>\n",
       "      <td>-145.591279</td>\n",
       "      <td>-447.960938</td>\n",
       "      <td>49.609375</td>\n",
       "      <td>10</td>\n",
       "      <td>40.454578</td>\n",
       "      <td>-127.216333</td>\n",
       "      <td>49.609375</td>\n",
       "    </tr>\n",
       "    <tr>\n",
       "      <th>37544</th>\n",
       "      <td>37544</td>\n",
       "      <td>2015-09-14 13:34:01.138138+00:00</td>\n",
       "      <td>-161.210267</td>\n",
       "      <td>-435.087320</td>\n",
       "      <td>49.609375</td>\n",
       "      <td>9</td>\n",
       "      <td>40.567566</td>\n",
       "      <td>-127.403644</td>\n",
       "      <td>49.609375</td>\n",
       "    </tr>\n",
       "    <tr>\n",
       "      <th>37548</th>\n",
       "      <td>37548</td>\n",
       "      <td>2015-09-15 09:12:54.234894+00:00</td>\n",
       "      <td>-142.244353</td>\n",
       "      <td>-277.743104</td>\n",
       "      <td>16.015625</td>\n",
       "      <td>6</td>\n",
       "      <td>41.987174</td>\n",
       "      <td>-127.216502</td>\n",
       "      <td>16.015625</td>\n",
       "    </tr>\n",
       "    <tr>\n",
       "      <th>37549</th>\n",
       "      <td>37549</td>\n",
       "      <td>2015-09-15 17:31:03.266140+00:00</td>\n",
       "      <td>71.958908</td>\n",
       "      <td>-465.125761</td>\n",
       "      <td>47.265625</td>\n",
       "      <td>6</td>\n",
       "      <td>40.309645</td>\n",
       "      <td>-124.653498</td>\n",
       "      <td>47.265625</td>\n",
       "    </tr>\n",
       "  </tbody>\n",
       "</table>\n",
       "<p>23517 rows × 9 columns</p>\n",
       "</div>"
      ],
      "text/plain": [
       "         idx                             time           x           y  \\\n",
       "2          2 2011-12-10 22:44:46.018805+00:00  -96.503032   58.401356   \n",
       "3          3 2011-12-26 18:06:15.493905+00:00  -36.258365  132.782258   \n",
       "8          8 2012-02-04 20:05:31.130689+00:00 -203.604662  483.230738   \n",
       "9          9 2012-02-06 08:17:12.331083+00:00  -71.958908 -123.259693   \n",
       "16        16 2012-03-18 18:48:43.937964+00:00  185.754391  252.936022   \n",
       "...      ...                              ...         ...         ...   \n",
       "37542  37542 2015-09-14 05:33:02.229963+00:00  -60.802488 -370.719232   \n",
       "37543  37543 2015-09-14 06:09:08.238133+00:00 -145.591279 -447.960938   \n",
       "37544  37544 2015-09-14 13:34:01.138138+00:00 -161.210267 -435.087320   \n",
       "37548  37548 2015-09-15 09:12:54.234894+00:00 -142.244353 -277.743104   \n",
       "37549  37549 2015-09-15 17:31:03.266140+00:00   71.958908 -465.125761   \n",
       "\n",
       "               z  picks   latitude   longitude      depth  \n",
       "2      12.890625      6  45.018973 -126.724334  12.890625  \n",
       "3      41.015625      6  45.693849 -125.965511  41.015625  \n",
       "8      49.609375      7  48.813643 -128.272371  49.609375  \n",
       "9       1.171875      6  43.387215 -126.388083   1.171875  \n",
       "16     25.390625      8  46.749918 -123.068939  25.390625  \n",
       "...          ...    ...        ...         ...        ...  \n",
       "37542   0.390625     10  41.160599 -126.224435   0.390625  \n",
       "37543  49.609375     10  40.454578 -127.216333  49.609375  \n",
       "37544  49.609375      9  40.567566 -127.403644  49.609375  \n",
       "37548  16.015625      6  41.987174 -127.216502  16.015625  \n",
       "37549  47.265625      6  40.309645 -124.653498  47.265625  \n",
       "\n",
       "[23517 rows x 9 columns]"
      ]
     },
     "execution_count": 20,
     "metadata": {},
     "output_type": "execute_result"
    }
   ],
   "source": [
    "events"
   ]
  },
  {
   "cell_type": "code",
   "execution_count": 21,
   "id": "a86b6d58",
   "metadata": {},
   "outputs": [],
   "source": [
    "# events.to_csv('~/notebooks/src/association_events.csv')"
   ]
  },
  {
   "cell_type": "code",
   "execution_count": 22,
   "id": "e6767f3c",
   "metadata": {
    "scrolled": true
   },
   "outputs": [
    {
     "data": {
      "text/html": [
       "<div>\n",
       "<style scoped>\n",
       "    .dataframe tbody tr th:only-of-type {\n",
       "        vertical-align: middle;\n",
       "    }\n",
       "\n",
       "    .dataframe tbody tr th {\n",
       "        vertical-align: top;\n",
       "    }\n",
       "\n",
       "    .dataframe thead th {\n",
       "        text-align: right;\n",
       "    }\n",
       "</style>\n",
       "<table border=\"1\" class=\"dataframe\">\n",
       "  <thead>\n",
       "    <tr style=\"text-align: right;\">\n",
       "      <th></th>\n",
       "      <th>event_idx</th>\n",
       "      <th>pick_idx</th>\n",
       "      <th>residual</th>\n",
       "      <th>station</th>\n",
       "      <th>phase</th>\n",
       "      <th>time</th>\n",
       "      <th>pick_id</th>\n",
       "    </tr>\n",
       "  </thead>\n",
       "  <tbody>\n",
       "    <tr>\n",
       "      <th>0</th>\n",
       "      <td>0</td>\n",
       "      <td>3130</td>\n",
       "      <td>-0.378118</td>\n",
       "      <td>J35A</td>\n",
       "      <td>P</td>\n",
       "      <td>1.320962e+09</td>\n",
       "      <td>1593392</td>\n",
       "    </tr>\n",
       "    <tr>\n",
       "      <th>1</th>\n",
       "      <td>0</td>\n",
       "      <td>2159495</td>\n",
       "      <td>-0.505139</td>\n",
       "      <td>J35A</td>\n",
       "      <td>S</td>\n",
       "      <td>1.320962e+09</td>\n",
       "      <td>1593394</td>\n",
       "    </tr>\n",
       "    <tr>\n",
       "      <th>2</th>\n",
       "      <td>0</td>\n",
       "      <td>3157</td>\n",
       "      <td>0.410209</td>\n",
       "      <td>J43A</td>\n",
       "      <td>P</td>\n",
       "      <td>1.320962e+09</td>\n",
       "      <td>1593541</td>\n",
       "    </tr>\n",
       "    <tr>\n",
       "      <th>3</th>\n",
       "      <td>0</td>\n",
       "      <td>2159499</td>\n",
       "      <td>1.082314</td>\n",
       "      <td>J43A</td>\n",
       "      <td>S</td>\n",
       "      <td>1.320962e+09</td>\n",
       "      <td>1593546</td>\n",
       "    </tr>\n",
       "    <tr>\n",
       "      <th>4</th>\n",
       "      <td>0</td>\n",
       "      <td>2159509</td>\n",
       "      <td>-0.609266</td>\n",
       "      <td>J51A</td>\n",
       "      <td>S</td>\n",
       "      <td>1.320962e+09</td>\n",
       "      <td>1594126</td>\n",
       "    </tr>\n",
       "    <tr>\n",
       "      <th>...</th>\n",
       "      <td>...</td>\n",
       "      <td>...</td>\n",
       "      <td>...</td>\n",
       "      <td>...</td>\n",
       "      <td>...</td>\n",
       "      <td>...</td>\n",
       "      <td>...</td>\n",
       "    </tr>\n",
       "    <tr>\n",
       "      <th>286877</th>\n",
       "      <td>37549</td>\n",
       "      <td>3749707</td>\n",
       "      <td>0.057559</td>\n",
       "      <td>G10D</td>\n",
       "      <td>S</td>\n",
       "      <td>1.442338e+09</td>\n",
       "      <td>23242079</td>\n",
       "    </tr>\n",
       "    <tr>\n",
       "      <th>286878</th>\n",
       "      <td>37549</td>\n",
       "      <td>2156953</td>\n",
       "      <td>-0.003071</td>\n",
       "      <td>GB101</td>\n",
       "      <td>P</td>\n",
       "      <td>1.442338e+09</td>\n",
       "      <td>23242967</td>\n",
       "    </tr>\n",
       "    <tr>\n",
       "      <th>286879</th>\n",
       "      <td>37549</td>\n",
       "      <td>3749736</td>\n",
       "      <td>0.053190</td>\n",
       "      <td>GB101</td>\n",
       "      <td>S</td>\n",
       "      <td>1.442338e+09</td>\n",
       "      <td>23242979</td>\n",
       "    </tr>\n",
       "    <tr>\n",
       "      <th>286880</th>\n",
       "      <td>37549</td>\n",
       "      <td>2157084</td>\n",
       "      <td>-0.049777</td>\n",
       "      <td>GB281</td>\n",
       "      <td>P</td>\n",
       "      <td>1.442338e+09</td>\n",
       "      <td>23243768</td>\n",
       "    </tr>\n",
       "    <tr>\n",
       "      <th>286881</th>\n",
       "      <td>37549</td>\n",
       "      <td>3749818</td>\n",
       "      <td>-0.142164</td>\n",
       "      <td>GB281</td>\n",
       "      <td>S</td>\n",
       "      <td>1.442338e+09</td>\n",
       "      <td>23243756</td>\n",
       "    </tr>\n",
       "  </tbody>\n",
       "</table>\n",
       "<p>286882 rows × 7 columns</p>\n",
       "</div>"
      ],
      "text/plain": [
       "        event_idx  pick_idx  residual station phase          time   pick_id\n",
       "0               0      3130 -0.378118    J35A     P  1.320962e+09   1593392\n",
       "1               0   2159495 -0.505139    J35A     S  1.320962e+09   1593394\n",
       "2               0      3157  0.410209    J43A     P  1.320962e+09   1593541\n",
       "3               0   2159499  1.082314    J43A     S  1.320962e+09   1593546\n",
       "4               0   2159509 -0.609266    J51A     S  1.320962e+09   1594126\n",
       "...           ...       ...       ...     ...   ...           ...       ...\n",
       "286877      37549   3749707  0.057559    G10D     S  1.442338e+09  23242079\n",
       "286878      37549   2156953 -0.003071   GB101     P  1.442338e+09  23242967\n",
       "286879      37549   3749736  0.053190   GB101     S  1.442338e+09  23242979\n",
       "286880      37549   2157084 -0.049777   GB281     P  1.442338e+09  23243768\n",
       "286881      37549   3749818 -0.142164   GB281     S  1.442338e+09  23243756\n",
       "\n",
       "[286882 rows x 7 columns]"
      ]
     },
     "execution_count": 22,
     "metadata": {},
     "output_type": "execute_result"
    }
   ],
   "source": [
    "# Print the assignments\n",
    "assignments"
   ]
  },
  {
   "cell_type": "code",
   "execution_count": 23,
   "id": "ff00602d",
   "metadata": {
    "scrolled": true
   },
   "outputs": [
    {
     "data": {
      "text/html": [
       "<div>\n",
       "<style scoped>\n",
       "    .dataframe tbody tr th:only-of-type {\n",
       "        vertical-align: middle;\n",
       "    }\n",
       "\n",
       "    .dataframe tbody tr th {\n",
       "        vertical-align: top;\n",
       "    }\n",
       "\n",
       "    .dataframe thead th {\n",
       "        text-align: right;\n",
       "    }\n",
       "</style>\n",
       "<table border=\"1\" class=\"dataframe\">\n",
       "  <thead>\n",
       "    <tr style=\"text-align: right;\">\n",
       "      <th></th>\n",
       "      <th>idx</th>\n",
       "      <th>time</th>\n",
       "      <th>x</th>\n",
       "      <th>y</th>\n",
       "      <th>z</th>\n",
       "      <th>picks</th>\n",
       "      <th>latitude</th>\n",
       "      <th>longitude</th>\n",
       "      <th>depth</th>\n",
       "      <th>event_idx</th>\n",
       "      <th>pick_idx</th>\n",
       "      <th>residual</th>\n",
       "      <th>station</th>\n",
       "      <th>phase</th>\n",
       "      <th>time_pick</th>\n",
       "      <th>pick_id</th>\n",
       "    </tr>\n",
       "  </thead>\n",
       "  <tbody>\n",
       "    <tr>\n",
       "      <th>0</th>\n",
       "      <td>2</td>\n",
       "      <td>2011-12-10 22:44:46.018805+00:00</td>\n",
       "      <td>-96.503032</td>\n",
       "      <td>58.401356</td>\n",
       "      <td>12.890625</td>\n",
       "      <td>6</td>\n",
       "      <td>45.018973</td>\n",
       "      <td>-126.724334</td>\n",
       "      <td>12.890625</td>\n",
       "      <td>2</td>\n",
       "      <td>8982</td>\n",
       "      <td>0.530519</td>\n",
       "      <td>J35A</td>\n",
       "      <td>P</td>\n",
       "      <td>1.323557e+09</td>\n",
       "      <td>1903257</td>\n",
       "    </tr>\n",
       "    <tr>\n",
       "      <th>1</th>\n",
       "      <td>2</td>\n",
       "      <td>2011-12-10 22:44:46.018805+00:00</td>\n",
       "      <td>-96.503032</td>\n",
       "      <td>58.401356</td>\n",
       "      <td>12.890625</td>\n",
       "      <td>6</td>\n",
       "      <td>45.018973</td>\n",
       "      <td>-126.724334</td>\n",
       "      <td>12.890625</td>\n",
       "      <td>2</td>\n",
       "      <td>2163186</td>\n",
       "      <td>-0.450387</td>\n",
       "      <td>J35A</td>\n",
       "      <td>S</td>\n",
       "      <td>1.323557e+09</td>\n",
       "      <td>1903245</td>\n",
       "    </tr>\n",
       "    <tr>\n",
       "      <th>2</th>\n",
       "      <td>2</td>\n",
       "      <td>2011-12-10 22:44:46.018805+00:00</td>\n",
       "      <td>-96.503032</td>\n",
       "      <td>58.401356</td>\n",
       "      <td>12.890625</td>\n",
       "      <td>6</td>\n",
       "      <td>45.018973</td>\n",
       "      <td>-126.724334</td>\n",
       "      <td>12.890625</td>\n",
       "      <td>2</td>\n",
       "      <td>9006</td>\n",
       "      <td>-0.595107</td>\n",
       "      <td>J43A</td>\n",
       "      <td>P</td>\n",
       "      <td>1.323557e+09</td>\n",
       "      <td>1903654</td>\n",
       "    </tr>\n",
       "    <tr>\n",
       "      <th>3</th>\n",
       "      <td>2</td>\n",
       "      <td>2011-12-10 22:44:46.018805+00:00</td>\n",
       "      <td>-96.503032</td>\n",
       "      <td>58.401356</td>\n",
       "      <td>12.890625</td>\n",
       "      <td>6</td>\n",
       "      <td>45.018973</td>\n",
       "      <td>-126.724334</td>\n",
       "      <td>12.890625</td>\n",
       "      <td>2</td>\n",
       "      <td>2163223</td>\n",
       "      <td>0.890423</td>\n",
       "      <td>J43A</td>\n",
       "      <td>S</td>\n",
       "      <td>1.323557e+09</td>\n",
       "      <td>1903682</td>\n",
       "    </tr>\n",
       "    <tr>\n",
       "      <th>4</th>\n",
       "      <td>2</td>\n",
       "      <td>2011-12-10 22:44:46.018805+00:00</td>\n",
       "      <td>-96.503032</td>\n",
       "      <td>58.401356</td>\n",
       "      <td>12.890625</td>\n",
       "      <td>6</td>\n",
       "      <td>45.018973</td>\n",
       "      <td>-126.724334</td>\n",
       "      <td>12.890625</td>\n",
       "      <td>2</td>\n",
       "      <td>2163066</td>\n",
       "      <td>-0.493940</td>\n",
       "      <td>J51A</td>\n",
       "      <td>S</td>\n",
       "      <td>1.323557e+09</td>\n",
       "      <td>1897337</td>\n",
       "    </tr>\n",
       "    <tr>\n",
       "      <th>...</th>\n",
       "      <td>...</td>\n",
       "      <td>...</td>\n",
       "      <td>...</td>\n",
       "      <td>...</td>\n",
       "      <td>...</td>\n",
       "      <td>...</td>\n",
       "      <td>...</td>\n",
       "      <td>...</td>\n",
       "      <td>...</td>\n",
       "      <td>...</td>\n",
       "      <td>...</td>\n",
       "      <td>...</td>\n",
       "      <td>...</td>\n",
       "      <td>...</td>\n",
       "      <td>...</td>\n",
       "      <td>...</td>\n",
       "    </tr>\n",
       "    <tr>\n",
       "      <th>216712</th>\n",
       "      <td>37549</td>\n",
       "      <td>2015-09-15 17:31:03.266140+00:00</td>\n",
       "      <td>71.958908</td>\n",
       "      <td>-465.125761</td>\n",
       "      <td>47.265625</td>\n",
       "      <td>6</td>\n",
       "      <td>40.309645</td>\n",
       "      <td>-124.653498</td>\n",
       "      <td>47.265625</td>\n",
       "      <td>37549</td>\n",
       "      <td>3749707</td>\n",
       "      <td>0.057559</td>\n",
       "      <td>G10D</td>\n",
       "      <td>S</td>\n",
       "      <td>1.442338e+09</td>\n",
       "      <td>23242079</td>\n",
       "    </tr>\n",
       "    <tr>\n",
       "      <th>216713</th>\n",
       "      <td>37549</td>\n",
       "      <td>2015-09-15 17:31:03.266140+00:00</td>\n",
       "      <td>71.958908</td>\n",
       "      <td>-465.125761</td>\n",
       "      <td>47.265625</td>\n",
       "      <td>6</td>\n",
       "      <td>40.309645</td>\n",
       "      <td>-124.653498</td>\n",
       "      <td>47.265625</td>\n",
       "      <td>37549</td>\n",
       "      <td>2156953</td>\n",
       "      <td>-0.003071</td>\n",
       "      <td>GB101</td>\n",
       "      <td>P</td>\n",
       "      <td>1.442338e+09</td>\n",
       "      <td>23242967</td>\n",
       "    </tr>\n",
       "    <tr>\n",
       "      <th>216714</th>\n",
       "      <td>37549</td>\n",
       "      <td>2015-09-15 17:31:03.266140+00:00</td>\n",
       "      <td>71.958908</td>\n",
       "      <td>-465.125761</td>\n",
       "      <td>47.265625</td>\n",
       "      <td>6</td>\n",
       "      <td>40.309645</td>\n",
       "      <td>-124.653498</td>\n",
       "      <td>47.265625</td>\n",
       "      <td>37549</td>\n",
       "      <td>3749736</td>\n",
       "      <td>0.053190</td>\n",
       "      <td>GB101</td>\n",
       "      <td>S</td>\n",
       "      <td>1.442338e+09</td>\n",
       "      <td>23242979</td>\n",
       "    </tr>\n",
       "    <tr>\n",
       "      <th>216715</th>\n",
       "      <td>37549</td>\n",
       "      <td>2015-09-15 17:31:03.266140+00:00</td>\n",
       "      <td>71.958908</td>\n",
       "      <td>-465.125761</td>\n",
       "      <td>47.265625</td>\n",
       "      <td>6</td>\n",
       "      <td>40.309645</td>\n",
       "      <td>-124.653498</td>\n",
       "      <td>47.265625</td>\n",
       "      <td>37549</td>\n",
       "      <td>2157084</td>\n",
       "      <td>-0.049777</td>\n",
       "      <td>GB281</td>\n",
       "      <td>P</td>\n",
       "      <td>1.442338e+09</td>\n",
       "      <td>23243768</td>\n",
       "    </tr>\n",
       "    <tr>\n",
       "      <th>216716</th>\n",
       "      <td>37549</td>\n",
       "      <td>2015-09-15 17:31:03.266140+00:00</td>\n",
       "      <td>71.958908</td>\n",
       "      <td>-465.125761</td>\n",
       "      <td>47.265625</td>\n",
       "      <td>6</td>\n",
       "      <td>40.309645</td>\n",
       "      <td>-124.653498</td>\n",
       "      <td>47.265625</td>\n",
       "      <td>37549</td>\n",
       "      <td>3749818</td>\n",
       "      <td>-0.142164</td>\n",
       "      <td>GB281</td>\n",
       "      <td>S</td>\n",
       "      <td>1.442338e+09</td>\n",
       "      <td>23243756</td>\n",
       "    </tr>\n",
       "  </tbody>\n",
       "</table>\n",
       "<p>216717 rows × 16 columns</p>\n",
       "</div>"
      ],
      "text/plain": [
       "          idx                             time          x           y  \\\n",
       "0           2 2011-12-10 22:44:46.018805+00:00 -96.503032   58.401356   \n",
       "1           2 2011-12-10 22:44:46.018805+00:00 -96.503032   58.401356   \n",
       "2           2 2011-12-10 22:44:46.018805+00:00 -96.503032   58.401356   \n",
       "3           2 2011-12-10 22:44:46.018805+00:00 -96.503032   58.401356   \n",
       "4           2 2011-12-10 22:44:46.018805+00:00 -96.503032   58.401356   \n",
       "...       ...                              ...        ...         ...   \n",
       "216712  37549 2015-09-15 17:31:03.266140+00:00  71.958908 -465.125761   \n",
       "216713  37549 2015-09-15 17:31:03.266140+00:00  71.958908 -465.125761   \n",
       "216714  37549 2015-09-15 17:31:03.266140+00:00  71.958908 -465.125761   \n",
       "216715  37549 2015-09-15 17:31:03.266140+00:00  71.958908 -465.125761   \n",
       "216716  37549 2015-09-15 17:31:03.266140+00:00  71.958908 -465.125761   \n",
       "\n",
       "                z  picks   latitude   longitude      depth  event_idx  \\\n",
       "0       12.890625      6  45.018973 -126.724334  12.890625          2   \n",
       "1       12.890625      6  45.018973 -126.724334  12.890625          2   \n",
       "2       12.890625      6  45.018973 -126.724334  12.890625          2   \n",
       "3       12.890625      6  45.018973 -126.724334  12.890625          2   \n",
       "4       12.890625      6  45.018973 -126.724334  12.890625          2   \n",
       "...           ...    ...        ...         ...        ...        ...   \n",
       "216712  47.265625      6  40.309645 -124.653498  47.265625      37549   \n",
       "216713  47.265625      6  40.309645 -124.653498  47.265625      37549   \n",
       "216714  47.265625      6  40.309645 -124.653498  47.265625      37549   \n",
       "216715  47.265625      6  40.309645 -124.653498  47.265625      37549   \n",
       "216716  47.265625      6  40.309645 -124.653498  47.265625      37549   \n",
       "\n",
       "        pick_idx  residual station phase     time_pick   pick_id  \n",
       "0           8982  0.530519    J35A     P  1.323557e+09   1903257  \n",
       "1        2163186 -0.450387    J35A     S  1.323557e+09   1903245  \n",
       "2           9006 -0.595107    J43A     P  1.323557e+09   1903654  \n",
       "3        2163223  0.890423    J43A     S  1.323557e+09   1903682  \n",
       "4        2163066 -0.493940    J51A     S  1.323557e+09   1897337  \n",
       "...          ...       ...     ...   ...           ...       ...  \n",
       "216712   3749707  0.057559    G10D     S  1.442338e+09  23242079  \n",
       "216713   2156953 -0.003071   GB101     P  1.442338e+09  23242967  \n",
       "216714   3749736  0.053190   GB101     S  1.442338e+09  23242979  \n",
       "216715   2157084 -0.049777   GB281     P  1.442338e+09  23243768  \n",
       "216716   3749818 -0.142164   GB281     S  1.442338e+09  23243756  \n",
       "\n",
       "[216717 rows x 16 columns]"
      ]
     },
     "execution_count": 23,
     "metadata": {},
     "output_type": "execute_result"
    }
   ],
   "source": [
    "# Assign the event information to each pick by using pd.merge\n",
    "all_pick_assignments = pd.merge(events, assignments, left_on=\"idx\", right_on=\"event_idx\", suffixes=(\"\", \"_pick\"))\n",
    "all_pick_assignments"
   ]
  },
  {
   "cell_type": "code",
   "execution_count": 24,
   "id": "37ebd009",
   "metadata": {},
   "outputs": [],
   "source": [
    "# Save the assignments to a CSV file\n",
    "all_pick_assignments.to_csv(\"../data/datasets_pnsn_jdf/all_pick_assignments_pnsn_jdf.csv\")"
   ]
  },
  {
   "cell_type": "code",
   "execution_count": 25,
   "id": "73c15960",
   "metadata": {},
   "outputs": [
    {
     "data": {
      "image/png": "[encoded data removed]",
      "text/plain": [
       "<Figure size 400x800 with 2 Axes>"
      ]
     },
     "metadata": {},
     "output_type": "display_data"
    }
   ],
   "source": [
    "# The parameters in the associator class: n_picks=2,n_p_picks=1,n_s_picks=1,n_p_and_s_picks=1\n",
    "fig = plt.figure(figsize=(4, 8))\n",
    "ax = fig.add_subplot()\n",
    "ax.set_aspect(\"equal\")\n",
    "\n",
    "# ax.scatter(events[\"x\"], events[\"y\"], c=events[\"z\"])\n",
    "ax.set_xlabel(\"Easting [km]\")\n",
    "ax.set_ylabel(\"Northing [km]\")\n",
    "cax = fig.add_axes([ax.get_position().x1+0.05,ax.get_position().y0,0.02,ax.get_position().height])\n",
    "cb1 = fig.colorbar(ax.scatter(events[\"x\"], events[\"y\"], c=events[\"z\"],s=0.5,cmap='viridis'), cax=cax)\n",
    "cb1.ax.invert_yaxis()"
   ]
  },
  {
   "cell_type": "markdown",
   "id": "2a605e6e",
   "metadata": {},
   "source": [
    "## Plot the associated events (not necessary to run cells below)"
   ]
  },
  {
   "cell_type": "code",
   "execution_count": null,
   "id": "b60bfc02",
   "metadata": {},
   "outputs": [],
   "source": [
    "# Read the event dataframe saved above\n",
    "events = pd.read_csv('../data/events_october_temp_with_JCC.csv')"
   ]
  },
  {
   "cell_type": "code",
   "execution_count": null,
   "id": "705547c6",
   "metadata": {},
   "outputs": [],
   "source": [
    "events"
   ]
  },
  {
   "cell_type": "code",
   "execution_count": null,
   "id": "c13e1287",
   "metadata": {},
   "outputs": [],
   "source": [
    "# Plot the events \n",
    "import pygmt\n",
    "fig = pygmt.Figure()\n",
    "# grid = pygmt.datasets.load_earth_relief(resolution=\"15s\", region=[-126, -124, 40, 43])\n",
    "# # fig.shift_origin(yshift=\"10c\")\n",
    "# fig.grdimage(grid=grid, projection=\"M15c\", frame=\"a\", cmap=\"geo\", transparency = 50)\n",
    "# # fig.plot(x = events_morton_201210_lon, y = events_morton_201210_lat,  \n",
    "# #          color = 'blue', size = size_morton, style = \"c\", pen = \"black\")\n",
    "# # fig.plot(x = myevents_20121014_lon, y = myevents_20121014_lat,  \n",
    "# #          color = 'red', size = size_myevents, style = \"c\", pen = \"black\")\n",
    "# # fig.plot(x = events_jdf_201210_lon, y = events_jdf_201210_lat,  \n",
    "# #          color = 'yellow', size = size_jdf, style = \"c\", pen = \"black\")\n",
    "# # fig.plot(x = events_cascadia_201210_lon, y = events_cascadia_201210_lat,  \n",
    "# #          color = 'yellow', size = size_cascadia, style = \"c\", pen = \"black\")\n",
    "# # fig.plot(x = events_USGS_201210_lon, y = events_USGS_201210_lat,  \n",
    "# #          color = 'green', size = size_USGS, style = \"c\", pen = \"black\")\n",
    "# # # Draw a line between two events that we consider to be the same event \n",
    "# # Draw a line between two events that we consider to be the same event \n",
    "# # fig.plot(x = (event_0239_lon,event_morton_0239_lon), y = (event_0239_lat,event_morton_0239_lat), pen =\"4p, red\")\n",
    "# # fig.plot(x = (event_0239_lon,event_morton_0239_lon), y = (event_0239_lat,event_morton_0308_lat), pen =\"4p, red\")\n",
    "# fig.plot(x=events[\"x\"], y=events[\"y\"], c=events[\"z\"],s=0.5,cmap='viridis')\n",
    "# fig.show()\n",
    "\n",
    "grid = pygmt.datasets.load_earth_relief(resolution=\"15s\", region=[-127, -123, 40, 50])\n",
    "fig.shift_origin(yshift=\"10c\")\n",
    "fig.grdimage(grid=grid, projection=\"M15c\", frame=\"a\", cmap=\"geo\", transparency = 50)\n",
    "pygmt.makecpt(cmap=\"hot\", series=[min(events['picks'].values), max(events['picks'].values)])\n",
    "fig.plot(\n",
    "    x=events[\"longitude\"].values,\n",
    "    y=events[\"latitude\"].values,\n",
    "    size=0.3 * np.ones(len(events)),\n",
    "    fill=events['picks'].values,\n",
    "    cmap=True,\n",
    "    style=\"cc\",\n",
    "    pen=\"black\",\n",
    ")\n",
    "fig.colorbar(frame=\"xaf+lNumber of Picks\")\n",
    "# fig.plot(x=events[\"longitude\"].values[0:200], y=events[\"latitude\"].values[0:200], style=\"c0.3c\", color=events['picks'].values[0:200], cmap='viridis', pen=\"black\")\n",
    "fig.show()"
   ]
  },
  {
   "cell_type": "code",
   "execution_count": null,
   "id": "09747c11",
   "metadata": {},
   "outputs": [],
   "source": []
  },
  {
   "cell_type": "markdown",
   "id": "4ee49480",
   "metadata": {},
   "source": [
    "## Association validation (not necessary anymore) \n",
    "Get the events from the USGS and compare with the events from the association\n"
   ]
  },
  {
   "cell_type": "code",
   "execution_count": null,
   "id": "75d2c561",
   "metadata": {},
   "outputs": [],
   "source": [
    "client = Client(\"USGS\")\n",
    "client_waveforms = WaveformClient()\n",
    "client.get_events(starttime = UTCDateTime(\"2012-10-14T00:00:00.000000\"),\n",
    "                  endtime   = UTCDateTime(\"2012-10-14T23:59:59.999999\"),\n",
    "                  minlatitude = 40, maxlatitude = 44, \n",
    "                  minlongitude = -125, maxlongitude = -120)\n"
   ]
  },
  {
   "cell_type": "code",
   "execution_count": null,
   "id": "5921ac85",
   "metadata": {},
   "outputs": [],
   "source": [
    "# Pick a station \n",
    "s = client_waveforms.get_waveforms(network=\"7D\", station=\"FS09B\", channel=\"BH?\", year=2012, month=10, day=14)\n",
    "s.filter(type='bandpass',freqmin=4,freqmax=15)"
   ]
  },
  {
   "cell_type": "code",
   "execution_count": null,
   "id": "52bc56fb",
   "metadata": {},
   "outputs": [],
   "source": [
    "# Pick a time that shows up in both the USGS catalog and the event data frame from the association above \n",
    "time1 = events.loc[1, 'time']"
   ]
  },
  {
   "cell_type": "code",
   "execution_count": null,
   "id": "e24b438d",
   "metadata": {},
   "outputs": [],
   "source": [
    "time1"
   ]
  },
  {
   "cell_type": "code",
   "execution_count": null,
   "id": "16eb9cc6",
   "metadata": {},
   "outputs": [],
   "source": [
    "trim_s = s.copy().trim(starttime = UTCDateTime(time1) - 20, \n",
    "                endtime = UTCDateTime(time1) + 40)\n",
    "fig = plt.figure(figsize = (10, 4))\n",
    "trim_s.plot(fig=fig)\n",
    "\n",
    "# [ax.axvline(pick.peak_time.matplotlib_date, \n",
    "#             linestyle = '--', color = 'r', label = f'{pick.phase} pick') for ax in fig.axes]\n",
    "# [ax.legend() for ax in fig.axes]"
   ]
  },
  {
   "cell_type": "code",
   "execution_count": null,
   "id": "ea03a6cb",
   "metadata": {},
   "outputs": [],
   "source": [
    "# Pick another time that shows up in both the USGS catalog and the event data frame from the association above \n",
    "time2 = events.loc[2, 'time']\n",
    "time2"
   ]
  },
  {
   "cell_type": "code",
   "execution_count": null,
   "id": "d6006088",
   "metadata": {},
   "outputs": [],
   "source": [
    "trim_s = s.copy().trim(starttime = UTCDateTime(time2) - 20, \n",
    "                endtime = UTCDateTime(time2) + 40)\n",
    "fig = plt.figure(figsize = (10, 4))\n",
    "trim_s.plot(fig=fig)\n",
    "\n",
    "# [ax.axvline(pick.peak_time.matplotlib_date, \n",
    "#             linestyle = '--', color = 'r', label = f'{pick.phase} pick') for ax in fig.axes]\n",
    "# [ax.legend() for ax in fig.axes]"
   ]
  },
  {
   "cell_type": "markdown",
   "id": "6382af9b",
   "metadata": {},
   "source": [
    "## Other Picks"
   ]
  },
  {
   "cell_type": "code",
   "execution_count": null,
   "id": "5109e9ee",
   "metadata": {},
   "outputs": [],
   "source": [
    "time = events['time']\n",
    "time"
   ]
  },
  {
   "cell_type": "code",
   "execution_count": null,
   "id": "dc7fe7f7",
   "metadata": {},
   "outputs": [],
   "source": [
    "time_possibly_new_events = time.drop(labels=[1,2], axis=0)\n",
    "time_possibly_new_events"
   ]
  },
  {
   "cell_type": "code",
   "execution_count": null,
   "id": "74e0cb1e",
   "metadata": {
    "scrolled": false
   },
   "outputs": [],
   "source": [
    "for time in time_possibly_new_events:\n",
    "    plt.figure(figsize=(10,10))\n",
    "    for i in range(len(stations)):\n",
    "        s = client_waveforms.get_waveforms(network=\"7D\", station=stations['id'][i], channel=\"?H?\", year=2012, month=10, day=14)\n",
    "        s = s.select(channel = \"[HB]H?\")\n",
    "        s.filter(type='bandpass',freqmin=4,freqmax=15)\n",
    "        if s[0].stats.channel == 'HH1':\n",
    "            s = s.resample(50)\n",
    "        else:\n",
    "            pass \n",
    "\n",
    "        trim_s = s.copy().trim(starttime = UTCDateTime(time) - 10, endtime = UTCDateTime(time) + 50)\n",
    "        sdata = np.array(trim_s)[:,:]\n",
    "        sdata_norm = (sdata-np.min(sdata, axis=1, keepdims=True))/(np.max(sdata, axis=1, keepdims=True)-np.min(sdata, axis=1, keepdims=True))\n",
    "        offsets2 = np.arange(0,3*len(sdata)*len(stations),3*len(sdata))\n",
    "\n",
    "        for ii in range(len(sdata)):\n",
    "            offsets1  = np.arange(0,len(sdata))\n",
    "            plt.plot(trim_s[ii].times(type='utcdatetime'), sdata_norm[ii]+offsets1[ii]+offsets2[i], color = 'gray', alpha=0.7, lw=0.5)    \n",
    "\n",
    "\n",
    "    plt.yticks(offsets2+1, stations['id'])\n",
    "    plt.axvline(time,ls='-', c='r')\n",
    "    plt.title(time)"
   ]
  },
  {
   "cell_type": "code",
   "execution_count": null,
   "id": "1ba96a54",
   "metadata": {},
   "outputs": [],
   "source": []
  },
  {
   "cell_type": "code",
   "execution_count": null,
   "id": "922d45d2",
   "metadata": {},
   "outputs": [],
   "source": []
  },
  {
   "cell_type": "code",
   "execution_count": null,
   "id": "ad773019",
   "metadata": {},
   "outputs": [],
   "source": []
  },
  {
   "cell_type": "code",
   "execution_count": null,
   "id": "8bf6a534",
   "metadata": {},
   "outputs": [],
   "source": []
  },
  {
   "cell_type": "code",
   "execution_count": null,
   "id": "0711c1ac",
   "metadata": {},
   "outputs": [],
   "source": []
  },
  {
   "cell_type": "code",
   "execution_count": null,
   "id": "56b6f13d",
   "metadata": {},
   "outputs": [],
   "source": []
  },
  {
   "cell_type": "code",
   "execution_count": null,
   "id": "6d113604",
   "metadata": {},
   "outputs": [],
   "source": []
  },
  {
   "cell_type": "code",
   "execution_count": null,
   "id": "4c756483",
   "metadata": {},
   "outputs": [],
   "source": []
  },
  {
   "cell_type": "code",
   "execution_count": null,
   "id": "07f5c96c",
   "metadata": {},
   "outputs": [],
   "source": []
  },
  {
   "cell_type": "code",
   "execution_count": null,
   "id": "541bb971",
   "metadata": {},
   "outputs": [],
   "source": [
    "# Plot waveforms of events picked by the associator but not on the USGS catalog\n",
    "time4 = events.loc[4, 'time']\n",
    "time4"
   ]
  },
  {
   "cell_type": "code",
   "execution_count": null,
   "id": "663b712a",
   "metadata": {},
   "outputs": [],
   "source": [
    "# s_FS09B = client_waveforms.get_waveforms(network=\"7D\", station=\"FS09B\", channel=\"BH?\", year=2012, month=10, day=14)\n",
    "# s_G10B = client_waveforms.get_waveforms(network=\"7D\", station=\"G10B\", channel=\"BH?\", year=2012, month=10, day=14)\n",
    "# s_G19B = client_waveforms.get_waveforms(network=\"7D\", station=\"G19B\", channel=\"BH?\", year=2012, month=10, day=14)\n",
    "# s_G25B = client_waveforms.get_waveforms(network=\"7D\", station=\"G25B\", channel=\"BH?\", year=2012, month=10, day=14)\n",
    "# s_G27B = client_waveforms.get_waveforms(network=\"7D\", station=\"G27B\", channel=\"BH?\", year=2012, month=10, day=14)\n",
    "# s_J09B = client_waveforms.get_waveforms(network=\"7D\", station=\"J09B\", channel=\"BH?\", year=2012, month=10, day=14)\n",
    "# s_M12B= client_waveforms.get_waveforms(network=\"7D\", station=\"M12B\", channel=\"BH?\", year=2012, month=10, day=14)\n",
    "# s_M14B = client_waveforms.get_waveforms(network=\"7D\", station=\"M14B\", channel=\"BH?\", year=2012, month=10, day=14)\n"
   ]
  },
  {
   "cell_type": "code",
   "execution_count": null,
   "id": "af5a9fec",
   "metadata": {},
   "outputs": [],
   "source": [
    "# trim_s_FS09B = s.copy().trim(starttime = UTCDateTime(time1) - 20, endtime = UTCDateTime(time1) + 40)\n",
    "# trim_s_G10B = s.copy().trim(starttime = UTCDateTime(time1) - 20, endtime = UTCDateTime(time1) + 40)\n",
    "# trim_s_G19B = s.copy().trim(starttime = UTCDateTime(time1) - 20, endtime = UTCDateTime(time1) + 40)\n",
    "# trim_s_G25B = s.copy().trim(starttime = UTCDateTime(time1) - 20, endtime = UTCDateTime(time1) + 40)\n",
    "# trim_s_G27B = s.copy().trim(starttime = UTCDateTime(time1) - 20, endtime = UTCDateTime(time1) + 40)\n",
    "# trim_s_J09B = s.copy().trim(starttime = UTCDateTime(time1) - 20, endtime = UTCDateTime(time1) + 40)\n",
    "# trim_s_M12B = s.copy().trim(starttime = UTCDateTime(time1) - 20, endtime = UTCDateTime(time1) + 40)\n",
    "# trim_s_M14B = s.copy().trim(starttime = UTCDateTime(time1) - 20, endtime = UTCDateTime(time1) + 40)\n",
    "\n"
   ]
  },
  {
   "cell_type": "code",
   "execution_count": null,
   "id": "fccedef5",
   "metadata": {
    "scrolled": true
   },
   "outputs": [],
   "source": [
    "for i, station in enumerate(stations['id']):\n",
    "    s = client_waveforms.get_waveforms(network=\"7D\", station=station, channel=\"?H?\", year=2012, month=10, day=14)\n",
    "    s = s.select(channel = \"[HB]H?\")\n",
    "    s.filter(type='bandpass',freqmin=4,freqmax=15)\n",
    "    trim_s = s.copy().trim(starttime = UTCDateTime(pick_time[4]) - 20, endtime = UTCDateTime(pick_time[4]) + 100)\n",
    "    fig = plt.figure(figsize=(10,4))\n",
    "    trim_s.plot(fig=fig)\n",
    "    [ax.axvline(pick_time[4], \n",
    "            linestyle = '--', color = 'r', label = 'pick time') for ax in fig.axes]    \n"
   ]
  },
  {
   "cell_type": "code",
   "execution_count": null,
   "id": "2f71da0a",
   "metadata": {},
   "outputs": [],
   "source": [
    "offsets1  = np.arange(0,3)\n",
    "offsets2 = np.arange(0,2*len(stations),2)\n",
    "\n"
   ]
  },
  {
   "cell_type": "code",
   "execution_count": null,
   "id": "afb10228",
   "metadata": {},
   "outputs": [],
   "source": [
    "offsets1"
   ]
  },
  {
   "cell_type": "code",
   "execution_count": null,
   "id": "12481d1c",
   "metadata": {},
   "outputs": [],
   "source": [
    "offsets2 = np.arange(0,2*10000*len(stations),2*10000)\n",
    "\n",
    "offsets2"
   ]
  },
  {
   "cell_type": "code",
   "execution_count": null,
   "id": "6c636fb6",
   "metadata": {},
   "outputs": [],
   "source": [
    "plt.figure()\n",
    "offsets2 = np.arange(0,5*10000*len(stations),5*10000)\n",
    "\n",
    "for i, station in enumerate(stations['id']):\n",
    "    s = client_waveforms.get_waveforms(network=\"7D\", station=station, channel=\"?H?\", year=2012, month=10, day=14)\n",
    "    s = s.select(channel = \"[HB]H?\")\n",
    "    s.filter(type='bandpass',freqmin=4,freqmax=15)\n",
    "    trim_s = s.copy().trim(starttime = UTCDateTime(pick_time[4]) - 20, endtime = UTCDateTime(pick_time[4]) + 100)\n",
    "    sdata = np.array(trim_s)[:,:]\n",
    "    for ii in range(len(sdata)):\n",
    "        offsets1  = np.arange(0,10000*len(sdata),10000)\n",
    "        plt.plot(sdata[ii].T+offsets1[ii]+offsets2[i], color = 'gray', alpha=0.5)   \n"
   ]
  },
  {
   "cell_type": "code",
   "execution_count": null,
   "id": "dd3cf9cb",
   "metadata": {},
   "outputs": [],
   "source": [
    "offsets2 = np.arange(0,5*100000*len(stations),5*100000)\n",
    "\n",
    "\n",
    "s = client_waveforms.get_waveforms(network=\"7D\", station=stations['id'][0], channel=\"?H?\", year=2012, month=10, day=14)\n",
    "s = s.select(channel = \"[HB]H?\")\n",
    "s.filter(type='bandpass',freqmin=4,freqmax=15)\n",
    "sampling_rate = s[0].stats.sampling_rate\n",
    "trim_s = s.copy().trim(starttime = UTCDateTime(pick_time[4]) - 10, endtime = UTCDateTime(pick_time[4]) + 50)\n",
    "sdata = np.array(trim_s)[:,:]\n",
    "sdata_norm = (sdata - np.mean(sdata, axis=1, keepdims=True))/(np.std(sdata, axis=1, keepdims=True))\n",
    "\n",
    "for ii in range(len(sdata)):\n",
    "    offsets1  = np.arange(0,len(sdata))\n",
    "    plt.plot(sdata_norm.T+offsets1[ii], color = 'gray', alpha=0.5, lw=0.5)\n",
    "\n",
    "plt.axvline(10*sampling_rate,ls='-', c='r')\n",
    "    \n"
   ]
  },
  {
   "cell_type": "code",
   "execution_count": null,
   "id": "6db09907",
   "metadata": {},
   "outputs": [],
   "source": [
    "sdata.mean()"
   ]
  },
  {
   "cell_type": "code",
   "execution_count": null,
   "id": "d49994be",
   "metadata": {},
   "outputs": [],
   "source": [
    "s[0].stats.sampling_rate*120"
   ]
  },
  {
   "cell_type": "code",
   "execution_count": null,
   "id": "c0574f27",
   "metadata": {},
   "outputs": [],
   "source": [
    "s = client_waveforms.get_waveforms(network=\"7D\", station=stations['id'][3], channel=\"?H?\", year=2012, month=10, day=14)\n",
    "s = s.select(channel = \"[HB]H?\")\n",
    "s.filter(type='bandpass',freqmin=4,freqmax=15)\n",
    "trim_s = s.copy().trim(starttime = UTCDateTime(pick_time[4]) - 10, endtime = UTCDateTime(pick_time[4]) + 50)\n",
    "sdata = np.array(trim_s)[:,:]\n",
    "sdata_norm = (sdata - np.mean(sdata, axis=1, keepdims=True))/(np.std(sdata, axis=1, keepdims=True))\n",
    "\n",
    "for ii in range(len(sdata)):\n",
    "    offsets1  = np.arange(0,len(sdata))\n",
    "    plt.plot(sdata_norm.T+offsets1[ii], color = 'gray', alpha=0.5, lw=0.5)"
   ]
  },
  {
   "cell_type": "code",
   "execution_count": null,
   "id": "e6b0cb7a",
   "metadata": {},
   "outputs": [],
   "source": [
    "plt.figure(figsize=(10,10))\n",
    "offsets2 = np.arange(0,3*len(sdata)*len(stations),3*len(sdata))\n",
    "\n",
    "for i in range(len(stations)):\n",
    "    s = client_waveforms.get_waveforms(network=\"7D\", station=stations['id'][i], channel=\"?H?\", year=2012, month=10, day=14)\n",
    "    s = s.select(channel = \"[HB]H?\")\n",
    "    s.filter(type='bandpass',freqmin=4,freqmax=15)\n",
    "    trim_s = s.copy().trim(starttime = UTCDateTime(pick_time[4]) - 10, endtime = UTCDateTime(pick_time[4]) + 50)\n",
    "    sdata = np.array(trim_s)[:,:]\n",
    "    sdata_norm = (sdata - np.mean(sdata, axis=1, keepdims=True))/(np.std(sdata, axis=1, keepdims=True))\n",
    "\n",
    "    for ii in range(len(sdata)):\n",
    "        offsets1  = np.arange(0,len(sdata))\n",
    "        plt.plot(sdata_norm.T+offsets1[ii]+offsets2[i], color = 'gray', alpha=0.5, lw=0.5)    \n",
    "\n",
    "plt.axvline(10*sampling_rate,ls='-', c='r')\n"
   ]
  },
  {
   "cell_type": "code",
   "execution_count": null,
   "id": "19c686e5",
   "metadata": {},
   "outputs": [],
   "source": [
    "offsets2 = np.arange(0,3*len(sdata)*len(stations),3*len(sdata))\n",
    "offsets2"
   ]
  },
  {
   "cell_type": "code",
   "execution_count": null,
   "id": "e7018b5d",
   "metadata": {},
   "outputs": [],
   "source": [
    "np.mean(sdata, axis=1, keepdims=True)"
   ]
  },
  {
   "cell_type": "code",
   "execution_count": null,
   "id": "0e2ae66a",
   "metadata": {},
   "outputs": [],
   "source": [
    "sdata"
   ]
  },
  {
   "cell_type": "code",
   "execution_count": null,
   "id": "ae3a3c94",
   "metadata": {
    "scrolled": true
   },
   "outputs": [],
   "source": [
    "np.mean(sdata[0])"
   ]
  },
  {
   "cell_type": "code",
   "execution_count": null,
   "id": "21ad1bd4",
   "metadata": {},
   "outputs": [],
   "source": [
    "(sdata - np.mean(sdata, axis=1, keepdims=True))/(np.std(sdata, axis=1, keepdims=True))"
   ]
  },
  {
   "cell_type": "code",
   "execution_count": null,
   "id": "d22e3aa6",
   "metadata": {},
   "outputs": [],
   "source": [
    "(225.73644077-0.28159811)/20312.08876045"
   ]
  },
  {
   "cell_type": "code",
   "execution_count": null,
   "id": "195cbc12",
   "metadata": {},
   "outputs": [],
   "source": [
    "np.std(sdata, axis=1, keepdims=True) "
   ]
  },
  {
   "cell_type": "code",
   "execution_count": null,
   "id": "5d683445",
   "metadata": {},
   "outputs": [],
   "source": [
    "sdata"
   ]
  },
  {
   "cell_type": "code",
   "execution_count": null,
   "id": "52abdd98",
   "metadata": {},
   "outputs": [],
   "source": [
    "np.max(sdata, axis=1, keepdims=True)"
   ]
  },
  {
   "cell_type": "code",
   "execution_count": null,
   "id": "5300ce85",
   "metadata": {},
   "outputs": [],
   "source": [
    "np.min(sdata, axis=1, keepdims=True)"
   ]
  },
  {
   "cell_type": "code",
   "execution_count": null,
   "id": "2fd831f7",
   "metadata": {},
   "outputs": [],
   "source": [
    "(sdata-np.min(sdata, axis=1, keepdims=True))/(np.max(sdata, axis=1, keepdims=True)-np.min(sdata, axis=1, keepdims=True))"
   ]
  },
  {
   "cell_type": "code",
   "execution_count": null,
   "id": "ab06af2b",
   "metadata": {},
   "outputs": [],
   "source": [
    "plt.figure(figsize=(10,10))\n",
    "offsets2 = np.arange(0,3*len(sdata)*len(stations),3*len(sdata))\n",
    "\n",
    "for i in range(len(stations)):\n",
    "    s = client_waveforms.get_waveforms(network=\"7D\", station=stations['id'][i], channel=\"?H?\", year=2012, month=10, day=14)\n",
    "    s = s.select(channel = \"[HB]H?\")\n",
    "    s.filter(type='bandpass',freqmin=4,freqmax=15)\n",
    "    trim_s = s.copy().trim(starttime = UTCDateTime(pick_time[4]) - 10, endtime = UTCDateTime(pick_time[4]) + 50)\n",
    "    sdata = np.array(trim_s)[:,:]\n",
    "    if s[0].stats.channel == 'HH1':\n",
    "        new_rate = 50\n",
    "        number_of_samples = round(len(sdata[0]) * float(new_rate) /s[0].stats.sampling_rate)\n",
    "        sdata = signal.resample(sdata, number_of_samples, axis=-1)\n",
    "    else:\n",
    "        pass \n",
    "    print(len(sdata[-1]))\n",
    "    sdata_norm = (sdata-np.min(sdata, axis=1, keepdims=True))/(np.max(sdata, axis=1, keepdims=True)-np.min(sdata, axis=1, keepdims=True))\n",
    "    for ii in range(len(sdata)):\n",
    "        offsets1  = np.arange(0,len(sdata))\n",
    "        plt.plot(sdata_norm.T+offsets1[ii]+offsets2[i], color = 'gray', alpha=0.5, lw=0.5)    \n",
    "\n",
    "plt.axvline(10*sampling_rate,ls='-', c='r')\n",
    "# plt.xlim(0,3000)\n"
   ]
  },
  {
   "cell_type": "code",
   "execution_count": null,
   "id": "af90cc14",
   "metadata": {},
   "outputs": [],
   "source": [
    "s = client_waveforms.get_waveforms(network=\"7D\", station=stations['id'][3], channel=\"?H?\", year=2012, month=10, day=14)\n",
    "s = s.select(channel = \"[HB]H?\")\n",
    "s.filter(type='bandpass',freqmin=4,freqmax=15)\n",
    "trim_s = s.copy().trim(starttime = UTCDateTime(pick_time[4]) - 10, endtime = UTCDateTime(pick_time[4]) + 50)\n",
    "sdata = np.array(trim_s)[:,:]\n",
    "sdata_norm = (sdata-np.min(sdata, axis=1, keepdims=True))/(np.max(sdata, axis=1, keepdims=True)-np.min(sdata, axis=1, keepdims=True))"
   ]
  },
  {
   "cell_type": "code",
   "execution_count": null,
   "id": "bb688b1e",
   "metadata": {},
   "outputs": [],
   "source": [
    "UTCDateTime(pick_time[4]) - 10"
   ]
  },
  {
   "cell_type": "code",
   "execution_count": null,
   "id": "c2c7c95c",
   "metadata": {},
   "outputs": [],
   "source": [
    "UTCDateTime(pick_time[4]) + 50"
   ]
  },
  {
   "cell_type": "code",
   "execution_count": null,
   "id": "34d6a893",
   "metadata": {},
   "outputs": [],
   "source": [
    "s[0].stats.sampling_rate"
   ]
  },
  {
   "cell_type": "code",
   "execution_count": null,
   "id": "9d907651",
   "metadata": {},
   "outputs": [],
   "source": [
    "s[0].stats.channel"
   ]
  },
  {
   "cell_type": "code",
   "execution_count": null,
   "id": "535ee984",
   "metadata": {},
   "outputs": [],
   "source": [
    "len(s[-1])"
   ]
  },
  {
   "cell_type": "code",
   "execution_count": null,
   "id": "b168bade",
   "metadata": {},
   "outputs": [],
   "source": [
    "s[0].stats.sampling_rate"
   ]
  },
  {
   "cell_type": "code",
   "execution_count": null,
   "id": "a83dc622",
   "metadata": {},
   "outputs": [],
   "source": [
    "s[0].stats.channel"
   ]
  },
  {
   "cell_type": "code",
   "execution_count": null,
   "id": "1d572a67",
   "metadata": {},
   "outputs": [],
   "source": [
    "len(s[-1])"
   ]
  },
  {
   "cell_type": "code",
   "execution_count": null,
   "id": "7e7f277e",
   "metadata": {},
   "outputs": [],
   "source": [
    "s = signal.decimate(s, 125/50, axis=-1)"
   ]
  },
  {
   "cell_type": "code",
   "execution_count": null,
   "id": "63d03af5",
   "metadata": {},
   "outputs": [],
   "source": [
    "np.array(s)"
   ]
  },
  {
   "cell_type": "code",
   "execution_count": null,
   "id": "a13c4a5b",
   "metadata": {},
   "outputs": [],
   "source": [
    "int(125/50)"
   ]
  },
  {
   "cell_type": "code",
   "execution_count": null,
   "id": "f395161d",
   "metadata": {},
   "outputs": [],
   "source": [
    "new_rate = 50\n",
    "number_of_samples = round(len(s[0]) * float(new_rate) / 125)\n",
    "number_of_samples"
   ]
  },
  {
   "cell_type": "code",
   "execution_count": null,
   "id": "f6af4263",
   "metadata": {},
   "outputs": [],
   "source": [
    "s = signal.resample(s, number_of_samples, axis=-1)\n",
    "len(s[-1])"
   ]
  },
  {
   "cell_type": "code",
   "execution_count": null,
   "id": "cabd13f2",
   "metadata": {},
   "outputs": [],
   "source": [
    "s"
   ]
  },
  {
   "cell_type": "code",
   "execution_count": null,
   "id": "5956c34a",
   "metadata": {},
   "outputs": [],
   "source": [
    "s = client_waveforms.get_waveforms(network=\"7D\", station=stations['id'][3], channel=\"?H?\", year=2012, month=10, day=14)\n",
    "s = s.select(channel = \"[HB]H?\")\n",
    "s.filter(type='bandpass',freqmin=4,freqmax=15)\n",
    "trim_s = s.copy().trim(starttime = UTCDateTime(pick_time[4]) - 10, endtime = UTCDateTime(pick_time[4]) + 50)\n",
    "sdata = np.array(trim_s)[:,:]\n",
    "print(len(sdata[-1]))\n",
    "\n",
    "new_rate = 50\n",
    "number_of_samples = round(len(sdata[0]) * float(new_rate) /s[0].stats.sampling_rate)\n",
    "sdata = signal.resample(sdata, number_of_samples, axis=-1)\n",
    "print(len(sdata[-1]))"
   ]
  },
  {
   "cell_type": "code",
   "execution_count": null,
   "id": "0d085d1e",
   "metadata": {},
   "outputs": [],
   "source": [
    "trim_s[0].times(reftime=UTCDateTime(pick_time[4]) - 10)"
   ]
  },
  {
   "cell_type": "code",
   "execution_count": null,
   "id": "97840d66",
   "metadata": {},
   "outputs": [],
   "source": [
    "UTCDateTime(pick_time[4])"
   ]
  },
  {
   "cell_type": "code",
   "execution_count": null,
   "id": "831d72ec",
   "metadata": {},
   "outputs": [],
   "source": [
    "trim_s.trigger('recstalta',sta=1, lta=4)"
   ]
  },
  {
   "cell_type": "code",
   "execution_count": null,
   "id": "0ef2ff26",
   "metadata": {},
   "outputs": [],
   "source": [
    "trim_s.plot()"
   ]
  },
  {
   "cell_type": "code",
   "execution_count": null,
   "id": "b6d72b35",
   "metadata": {},
   "outputs": [],
   "source": [
    "plt.figure(figsize=(10,10))\n",
    "offsets2 = np.arange(0,3*len(sdata)*len(stations),3*len(sdata))\n",
    "\n",
    "for i in range(len(stations)):\n",
    "    s = client_waveforms.get_waveforms(network=\"7D\", station=stations['id'][i], channel=\"?H?\", year=2012, month=10, day=14)\n",
    "    s = s.select(channel = \"[HB]H?\")\n",
    "    s.filter(type='bandpass',freqmin=4,freqmax=15)\n",
    "    if s[0].stats.channel == 'HH1':\n",
    "        s = s.resample(50)\n",
    "    else:\n",
    "        pass \n",
    "    \n",
    "    trim_s = s.copy().trim(starttime = UTCDateTime(pick_time[4]) - 10, endtime = UTCDateTime(pick_time[4]) + 50)\n",
    "    sdata = np.array(trim_s)[:,:]\n",
    "    sdata_norm = (sdata-np.min(sdata, axis=1, keepdims=True))/(np.max(sdata, axis=1, keepdims=True)-np.min(sdata, axis=1, keepdims=True))\n",
    "    \n",
    "    for ii in range(len(sdata)):\n",
    "        offsets1  = np.arange(0,len(sdata))\n",
    "        plt.plot(trim_s[ii].times(type='utcdatetime'), sdata_norm[ii]+offsets1[ii]+offsets2[i], color = 'gray', alpha=0.7, lw=0.5)    \n",
    "    \n",
    "\n",
    "plt.yticks(offsets2+1, stations['id'])\n",
    "plt.axvline(pick_time[4],ls='-', c='r')\n",
    "plt.title(pick_time[4])\n",
    "\n",
    "# plt.xlim(0,3000)\n"
   ]
  },
  {
   "cell_type": "code",
   "execution_count": null,
   "id": "008cc67e",
   "metadata": {},
   "outputs": [],
   "source": []
  },
  {
   "cell_type": "code",
   "execution_count": null,
   "id": "54291c17",
   "metadata": {},
   "outputs": [],
   "source": [
    "np.arange(0,3*len(sdata)*len(stations),3*len(sdata))"
   ]
  },
  {
   "cell_type": "code",
   "execution_count": null,
   "id": "4424bc02",
   "metadata": {},
   "outputs": [],
   "source": [
    "stations['id']"
   ]
  },
  {
   "cell_type": "code",
   "execution_count": null,
   "id": "1d2f0ca4",
   "metadata": {},
   "outputs": [],
   "source": [
    "all_picks, all_detections = model.classify(sdata)"
   ]
  },
  {
   "cell_type": "code",
   "execution_count": null,
   "id": "4fa17a55",
   "metadata": {},
   "outputs": [],
   "source": [
    "picks_G25B =  pd.read_csv(\"~/notebooks/data/catalogs_elep_filtered_stations_20121001_to_20121031/G25B_20121014.csv\",index_col=0)\n",
    "picks_G25B"
   ]
  },
  {
   "cell_type": "code",
   "execution_count": null,
   "id": "2acfad2f",
   "metadata": {},
   "outputs": [],
   "source": [
    "pick_time[4]"
   ]
  },
  {
   "cell_type": "markdown",
   "id": "138c8708",
   "metadata": {},
   "source": [
    "## Plot the associated events on a map"
   ]
  },
  {
   "cell_type": "code",
   "execution_count": null,
   "id": "cb9e1552",
   "metadata": {},
   "outputs": [],
   "source": [
    "import pygmt\n",
    "\n",
    "fig = pygmt.Figure()\n",
    "grid = pygmt.datasets.load_earth_relief(resolution=\"15s\", region=[-126, -124, 40, 43])\n",
    "# fig.shift_origin(yshift=\"10c\")\n",
    "fig.grdimage(grid=grid, projection=\"M15c\", frame=\"a\", cmap=\"geo\", transparency = 50)\n",
    "fig.plot(x = events_morton_lon, y = events_morton_lat,  \n",
    "         color = 'blue', size = size_morton, style = \"c\", pen = \"black\")\n",
    "fig.plot(x = events_longitude, y = events_latitude,  \n",
    "         color = 'red', size = size, style = \"c\", pen = \"black\")\n",
    "fig.plot(x = events_jdf_lon, y = events_jdf_lat,  \n",
    "         color = 'yellow', size = size_jdf, style = \"c\", pen = \"black\")\n",
    "fig.plot(x = events_cascadia_lon, y = events_cascadia_lat,  \n",
    "         color = 'yellow', size = size_cascadia, style = \"c\", pen = \"black\")\n",
    "# # Draw a line between two events that we consider to be the same event \n",
    "# fig.plot(x = [, y = events_cascadia_lat,  \n",
    "#          color = 'yellow', size = size_cascadia, style = \"c\", pen = \"black\")\n",
    "\n",
    "fig.show()"
   ]
  },
  {
   "cell_type": "code",
   "execution_count": null,
   "id": "7ac735d6",
   "metadata": {},
   "outputs": [],
   "source": [
    "events_longitude = events['longitude']\n",
    "events_longitude"
   ]
  },
  {
   "cell_type": "code",
   "execution_count": null,
   "id": "858fa46e",
   "metadata": {},
   "outputs": [],
   "source": [
    "events_latitude = events['latitude']\n",
    "events_latitude "
   ]
  },
  {
   "cell_type": "code",
   "execution_count": null,
   "id": "b9552623",
   "metadata": {},
   "outputs": [],
   "source": [
    "# Assign the size of 0.5 to all the points for the associated events \n",
    "\n",
    "size = np.zeros(len(events))\n",
    "for i in range(len(events)):\n",
    "    size[i] = 0.2"
   ]
  },
  {
   "cell_type": "code",
   "execution_count": null,
   "id": "06a70bd2",
   "metadata": {},
   "outputs": [],
   "source": [
    "size_jdf = np.zeros(len(events_jdf))\n",
    "for i in range(len(events_jdf)):\n",
    "    size_jdf[i] = 0.2"
   ]
  },
  {
   "cell_type": "code",
   "execution_count": null,
   "id": "bb70da38",
   "metadata": {},
   "outputs": [],
   "source": [
    "size_cascadia = np.zeros(len(events_cascadia))\n",
    "for i in range(len(events_cascadia)):\n",
    "    size_cascadia[i] = 0.2"
   ]
  },
  {
   "cell_type": "code",
   "execution_count": null,
   "id": "ce8e9541",
   "metadata": {},
   "outputs": [],
   "source": [
    "size_morton = np.zeros(len(events_morton))\n",
    "for i in range(len(events_morton)):\n",
    "    size_morton[i] = 0.2"
   ]
  },
  {
   "cell_type": "code",
   "execution_count": null,
   "id": "73d6a339",
   "metadata": {},
   "outputs": [],
   "source": [
    "len(size_cascadia)"
   ]
  },
  {
   "cell_type": "code",
   "execution_count": null,
   "id": "f2cc6940",
   "metadata": {},
   "outputs": [],
   "source": [
    "size"
   ]
  },
  {
   "cell_type": "code",
   "execution_count": null,
   "id": "e0d2ffb4",
   "metadata": {},
   "outputs": [],
   "source": [
    "events"
   ]
  },
  {
   "cell_type": "code",
   "execution_count": null,
   "id": "6e9ad89c",
   "metadata": {},
   "outputs": [],
   "source": [
    "type(events_latitude.shape)"
   ]
  },
  {
   "cell_type": "code",
   "execution_count": null,
   "id": "c9010046",
   "metadata": {},
   "outputs": [],
   "source": [
    "events_longitude.shape"
   ]
  },
  {
   "cell_type": "markdown",
   "id": "d47ceff7",
   "metadata": {},
   "source": [
    "## Load Data from Ian Stone's Paper"
   ]
  },
  {
   "cell_type": "code",
   "execution_count": null,
   "id": "3d24aafa",
   "metadata": {},
   "outputs": [],
   "source": [
    "events_cascadia = pd.read_csv('jgrb52524-sup-0002-2017jb014966-ds01.csv')\n",
    "events_jdf = pd.read_csv('jgrb52524-sup-0003-2017jb014966-ds02.csv')"
   ]
  },
  {
   "cell_type": "code",
   "execution_count": null,
   "id": "23f40e99",
   "metadata": {},
   "outputs": [],
   "source": [
    "events_cascadia[0:5]"
   ]
  },
  {
   "cell_type": "code",
   "execution_count": null,
   "id": "f8c8b46e",
   "metadata": {},
   "outputs": [],
   "source": [
    "events_jdf[0:5]"
   ]
  },
  {
   "cell_type": "code",
   "execution_count": null,
   "id": "49bab0b3",
   "metadata": {},
   "outputs": [],
   "source": [
    "# Get the latitude and longitude from Stone's catalog for JDF\n",
    "events_jdf_lon = events_jdf['Longitude']\n",
    "events_jdf_lat = events_jdf['Latitude']\n",
    "events_jdf_lat"
   ]
  },
  {
   "cell_type": "code",
   "execution_count": null,
   "id": "0436e3f9",
   "metadata": {},
   "outputs": [],
   "source": [
    "# Get the latitude and longitude from Stone's catalog for Cascadia\n",
    "events_cascadia_lon = events_cascadia['Longitude']\n",
    "events_cascadia_lat = events_cascadia['Latitude']\n",
    "events_cascadia_lon"
   ]
  },
  {
   "cell_type": "code",
   "execution_count": null,
   "id": "7de12c8c",
   "metadata": {},
   "outputs": [],
   "source": [
    "df.loc[df['datetime'] > datetime.datetime(2012, 10,12)]"
   ]
  },
  {
   "cell_type": "code",
   "execution_count": null,
   "id": "29143368",
   "metadata": {},
   "outputs": [],
   "source": [
    "df = pd.read_excel(\"jgrb52524-sup-0003-2017jb014966-ds02.xls\", header = None, skiprows = 1,\n",
    "              names = [\"Timestamp\", \"Longitude\", \"Latitude\", \"Depth (km)\", \"RMS (s)\", \"CI Year\"])\n",
    "\n",
    "df['datetime'] = df.apply(lambda a: datetime.datetime.fromtimestamp(a['Timestamp']), axis = 1)\n",
    "df"
   ]
  },
  {
   "cell_type": "markdown",
   "id": "c57cc902",
   "metadata": {},
   "source": [
    "- No events to match up with our associated events in the ds01 catalog from Stone's paper.\n",
    "- No events to match up with our associated events in the ds02 catalog from Stone's paper."
   ]
  },
  {
   "cell_type": "markdown",
   "id": "cc1e1829",
   "metadata": {},
   "source": [
    "## Load Data from Morton's Paper"
   ]
  },
  {
   "cell_type": "code",
   "execution_count": null,
   "id": "a905d172",
   "metadata": {},
   "outputs": [],
   "source": [
    "# Read Morton's catalog\n",
    "events_morton = pd.read_csv('ds01.csv')"
   ]
  },
  {
   "cell_type": "code",
   "execution_count": null,
   "id": "95bf9a45",
   "metadata": {},
   "outputs": [],
   "source": [
    "# Get the latitudes and longitudes for the events \n",
    "events_morton_lon = events_morton['LON']\n",
    "events_morton_lat = events_morton['LAT']"
   ]
  },
  {
   "cell_type": "code",
   "execution_count": null,
   "id": "bc0029d9",
   "metadata": {},
   "outputs": [],
   "source": [
    "events_morton_lat[0:5]"
   ]
  },
  {
   "cell_type": "code",
   "execution_count": null,
   "id": "5bec961d",
   "metadata": {},
   "outputs": [],
   "source": [
    "events_morton_lon[0:5]"
   ]
  },
  {
   "cell_type": "code",
   "execution_count": null,
   "id": "6cd524ee",
   "metadata": {},
   "outputs": [],
   "source": [
    "len(events_morton_lat)"
   ]
  },
  {
   "cell_type": "code",
   "execution_count": null,
   "id": "15f73a0b",
   "metadata": {},
   "outputs": [],
   "source": [
    "# Pull out the events for Oct 14, 2012 from the ds01 catalog from Morton's paper\n",
    "events_morton[671:674]"
   ]
  },
  {
   "cell_type": "code",
   "execution_count": null,
   "id": "4a2f5ce0",
   "metadata": {},
   "outputs": [],
   "source": [
    "events_morton.loc[673]"
   ]
  },
  {
   "cell_type": "code",
   "execution_count": null,
   "id": "2bba3343",
   "metadata": {},
   "outputs": [],
   "source": [
    "# Get the latitude and longitude for the event at 2:39 \n",
    "event_morton_0229_lat = events_morton.loc[671, 'LAT']\n",
    "event_morton_0229_lon = events_morton.loc[671, 'LON']"
   ]
  },
  {
   "cell_type": "code",
   "execution_count": null,
   "id": "5f5eb8ba",
   "metadata": {},
   "outputs": [],
   "source": [
    "# Get the latitude and longitude for the event at 3:08\n",
    "event_morton_0308_lat = events_morton.loc[672, 'LAT']\n",
    "event_morton_0308_lon = events_morton.loc[672, 'LON']"
   ]
  },
  {
   "cell_type": "code",
   "execution_count": null,
   "id": "7764f193",
   "metadata": {},
   "outputs": [],
   "source": [
    "events"
   ]
  },
  {
   "cell_type": "code",
   "execution_count": null,
   "id": "4d10cba4",
   "metadata": {},
   "outputs": [],
   "source": [
    "\n",
    "event_0229_lat = events.loc[1, 'latitude']\n",
    "event_0229_lon = events.loc[1, 'longitude']"
   ]
  },
  {
   "cell_type": "code",
   "execution_count": null,
   "id": "716074c3",
   "metadata": {},
   "outputs": [],
   "source": [
    "event_0308_lat = events.loc[2, 'latitude']\n",
    "event_0308_lon = events.loc[2, 'longitude']"
   ]
  },
  {
   "cell_type": "markdown",
   "id": "819f07f9",
   "metadata": {},
   "source": [
    "## Load data from the USGS catalog"
   ]
  },
  {
   "cell_type": "code",
   "execution_count": null,
   "id": "a9df3c08",
   "metadata": {},
   "outputs": [],
   "source": [
    "client = Client(\"USGS\")\n",
    "client_waveforms = WaveformClient()\n",
    "events_USGS = client.get_events(starttime = UTCDateTime(\"2012-10-14T00:00:00.000000\"),\n",
    "                  endtime   = UTCDateTime(\"2012-10-14T23:59:59.999999\"),\n",
    "                  minlatitude = 40, maxlatitude = 44, \n",
    "                  minlongitude = -125, maxlongitude = -120)\n",
    "events_USGS"
   ]
  },
  {
   "cell_type": "code",
   "execution_count": null,
   "id": "2983cc27",
   "metadata": {},
   "outputs": [],
   "source": [
    "event_USGS_0229_lat = 40.301\n",
    "event_USGS_0229_lon = -124.416"
   ]
  },
  {
   "cell_type": "code",
   "execution_count": null,
   "id": "56cffc5a",
   "metadata": {},
   "outputs": [],
   "source": [
    "event_USGS_0308_lat = 40.721\n",
    "event_USGS_0308_lon = -124.210"
   ]
  },
  {
   "cell_type": "code",
   "execution_count": null,
   "id": "ea7191b9",
   "metadata": {},
   "outputs": [],
   "source": []
  },
  {
   "cell_type": "code",
   "execution_count": null,
   "id": "ec07dfa5",
   "metadata": {},
   "outputs": [],
   "source": []
  },
  {
   "cell_type": "code",
   "execution_count": null,
   "id": "c0045919",
   "metadata": {},
   "outputs": [],
   "source": []
  },
  {
   "cell_type": "code",
   "execution_count": null,
   "id": "396ec7ac",
   "metadata": {},
   "outputs": [],
   "source": []
  },
  {
   "cell_type": "markdown",
   "id": "efd77ec8",
   "metadata": {},
   "source": [
    "# Plot the line between the matched events"
   ]
  },
  {
   "cell_type": "code",
   "execution_count": null,
   "id": "2520f161",
   "metadata": {},
   "outputs": [],
   "source": [
    "import pygmt\n",
    "\n",
    "fig = pygmt.Figure()\n",
    "grid = pygmt.datasets.load_earth_relief(resolution=\"15s\", region=[-126, -124, 40, 43])\n",
    "# fig.shift_origin(yshift=\"10c\")\n",
    "fig.basemap(frame=[\"a\",'+tThe Associated Events with Previously Cataloged Events',\"WSne\", \"xaf+lx-axis\", \"yaf+ly-axis\"])\n",
    "fig.grdimage(grid=grid, projection=\"M15c\", frame='a', cmap=\"geo\", transparency = 50)\n",
    "# Plot Morton's catalog\n",
    "fig.plot(x = events_morton_lon, y = events_morton_lat,  \n",
    "         color = 'blue', size = size_morton, style = \"c\", pen = \"black\", label='Morton 2023')\n",
    "# Plot our association events\n",
    "fig.plot(x = events_longitude, y = events_latitude,  \n",
    "         color = 'red', size = size, style = \"c\", pen = \"black\", label='Associated Events')\n",
    "# Plot Stone's catalog for JDF\n",
    "fig.plot(x = events_jdf_lon, y = events_jdf_lat,  \n",
    "         color = 'yellow', size = size_jdf, style = \"c\", pen = \"black\", label='Stone et al, 2018')\n",
    "# Plot Stone's catalog for Cascadia\n",
    "fig.plot(x = events_cascadia_lon, y = events_cascadia_lat,  \n",
    "         color = 'yellow', size = size_cascadia, style = \"c\", pen = \"black\",label='Stone et al, 2018')\n",
    "# Draw a line between two events that we consider to be the same event \n",
    "fig.plot(x = (event_0229_lon,event_morton_0229_lon,event_USGS_0229_lon), y = (event_0229_lat,event_morton_0229_lat,event_USGS_0229_lat), pen =\"4p, green\")\n",
    "fig.plot(x = (event_0308_lon,event_morton_0308_lon,event_USGS_0308_lon), y = (event_0308_lat,event_morton_0308_lat,event_USGS_0308_lat), pen =\"4p, green\")\n",
    "\n",
    "# fig.plot(x = [42.5,42.5,42.5], y = [-125.5,-125,-124.5],  \n",
    "#          color = ['red','yellow','blue'], size = [1,1,1], style = \"c\", pen =\"black\")\n",
    "fig.legend()\n",
    "fig.show()"
   ]
  },
  {
   "cell_type": "code",
   "execution_count": null,
   "id": "ba6d0a8d",
   "metadata": {},
   "outputs": [],
   "source": [
    "event_0229_lon"
   ]
  },
  {
   "cell_type": "code",
   "execution_count": null,
   "id": "5871b376",
   "metadata": {},
   "outputs": [],
   "source": [
    "event_0229_lat"
   ]
  },
  {
   "cell_type": "code",
   "execution_count": null,
   "id": "a7e19369",
   "metadata": {},
   "outputs": [],
   "source": []
  }
 ],
 "metadata": {
  "kernelspec": {
   "display_name": "seismo (SHARED)",
   "language": "python",
   "name": "seismo"
  },
  "language_info": {
   "codemirror_mode": {
    "name": "ipython",
    "version": 3
   },
   "file_extension": ".py",
   "mimetype": "text/x-python",
   "name": "python",
   "nbconvert_exporter": "python",
   "pygments_lexer": "ipython3",
   "version": "3.9.18"
  }
 },
 "nbformat": 4,
 "nbformat_minor": 5
}
